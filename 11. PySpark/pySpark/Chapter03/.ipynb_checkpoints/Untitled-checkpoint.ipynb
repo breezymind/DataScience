{
 "cells": [
  {
   "cell_type": "code",
   "execution_count": 2,
   "metadata": {
    "collapsed": false
   },
   "outputs": [
    {
     "data": {
      "text/plain": [
       "f://access_log MapPartitionsRDD[1] at textFile at NativeMethodAccessorImpl.java:0"
      ]
     },
     "execution_count": 2,
     "metadata": {},
     "output_type": "execute_result"
    }
   ],
   "source": [
    "data = sc.textFile(\"f://access_log\", 4)\n",
    "data"
   ]
  },
  {
   "cell_type": "code",
   "execution_count": 3,
   "metadata": {
    "collapsed": false
   },
   "outputs": [
    {
     "data": {
      "text/plain": [
       "['175.223.45.4 - - [04/Apr/2017:09:30:16 +0900] \"GET /image/common/quick_menu09.png HTTP/1.1\" 200 1938']"
      ]
     },
     "execution_count": 3,
     "metadata": {},
     "output_type": "execute_result"
    }
   ],
   "source": [
    "data.take(1)"
   ]
  },
  {
   "cell_type": "code",
   "execution_count": 10,
   "metadata": {
    "collapsed": false
   },
   "outputs": [
    {
     "data": {
      "text/plain": [
       "11273404"
      ]
     },
     "execution_count": 10,
     "metadata": {},
     "output_type": "execute_result"
    }
   ],
   "source": [
    "data.count() # line of Data (log_file)"
   ]
  },
  {
   "cell_type": "code",
   "execution_count": 7,
   "metadata": {
    "collapsed": true
   },
   "outputs": [],
   "source": [
    "def extractInformation(row):\n",
    "    import re\n",
    "    import numpy as np\n",
    "    \n",
    "    '''\n",
    "    data 1 : IP\n",
    "    data 2 : Date\n",
    "    data 3 : Action\n",
    "    data 4 : Page_Location\n",
    "    data 5 : status\n",
    "    '''\n",
    "    \n",
    "    selected_indices = [1,2,3,4,5]\n",
    "    \n",
    "    record_split = re.compile(r'([\\d.]+) - - \\[([\\d\\/\\w:]+) \\+0900\\] \"([\\w]+) ([\\/\\w\\.\\!\\@\\?\\+\\.\\_\\-\\=\\%\\&]*) [\\w\\d\\/\\.]+\" ([\\d]+)')\n",
    "\n",
    "    try :\n",
    "        rs = np.array(record_split.split(row))[selected_indices]\n",
    "    except:\n",
    "        rs = np.array(['-99']) * len(selected_indices)\n",
    "    \n",
    "    return rs"
   ]
  },
  {
   "cell_type": "code",
   "execution_count": 8,
   "metadata": {
    "collapsed": true
   },
   "outputs": [],
   "source": [
    "data_from_file_split = data.map(extractInformation)"
   ]
  },
  {
   "cell_type": "code",
   "execution_count": 9,
   "metadata": {
    "collapsed": false
   },
   "outputs": [
    {
     "data": {
      "text/plain": [
       "[array(['175.223.45.4', '04/Apr/2017:09:30:16', 'GET',\n",
       "        '/image/common/quick_menu09.png', '200'], \n",
       "       dtype='<U30')]"
      ]
     },
     "execution_count": 9,
     "metadata": {},
     "output_type": "execute_result"
    }
   ],
   "source": [
    "data_from_file_split.map(lambda row:row).take(1)"
   ]
  },
  {
   "cell_type": "markdown",
   "metadata": {},
   "source": [
    "# Take IP "
   ]
  },
  {
   "cell_type": "code",
   "execution_count": 37,
   "metadata": {
    "collapsed": false
   },
   "outputs": [
    {
     "data": {
      "text/plain": [
       "[array(['175.223.45.4', '04/Apr/2017:09:30:16', 'GET',\n",
       "        '/image/common/quick_menu09.png', '200'], \n",
       "       dtype='<U30'), array(['175.223.45.4', '04/Apr/2017:09:30:19', 'GET',\n",
       "        '/image/common/quick_menu05.png', '200'], \n",
       "       dtype='<U30'), array(['175.223.45.4', '04/Apr/2017:09:30:16', 'GET',\n",
       "        '/image/common/quick_menu12.png', '200'], \n",
       "       dtype='<U30'), array(['175.223.45.4', '04/Apr/2017:09:30:19', 'GET',\n",
       "        '/image/common/bnr02.png', '200'], \n",
       "       dtype='<U23'), array(['175.223.45.4', '04/Apr/2017:09:30:16', 'GET',\n",
       "        '/image/medi_info/btn_medi_30.png', '200'], \n",
       "       dtype='<U32'), array(['175.223.45.4', '04/Apr/2017:09:30:19', 'GET',\n",
       "        '/image/blog_icon.png', '200'], \n",
       "       dtype='<U20'), array(['175.223.45.4', '04/Apr/2017:09:30:16', 'GET',\n",
       "        '/image/common/bnr03.png', '200'], \n",
       "       dtype='<U23'), array(['175.223.45.4', '04/Apr/2017:09:30:19', 'GET',\n",
       "        '/image/medi_info/btn_medi_18.png', '200'], \n",
       "       dtype='<U32'), array(['175.223.45.4', '04/Apr/2017:09:30:16', 'GET',\n",
       "        '/image/common/btn_top.png', '200'], \n",
       "       dtype='<U25'), array(['175.223.45.4', '04/Apr/2017:09:30:16', 'GET',\n",
       "        '/image/medi_info/btn_medi_04.png', '200'], \n",
       "       dtype='<U32')]"
      ]
     },
     "execution_count": 37,
     "metadata": {},
     "output_type": "execute_result"
    }
   ],
   "source": [
    "ip_list = data_from_file_split.map(lambda row:row)\n",
    "ip_list.take(10)"
   ]
  },
  {
   "cell_type": "code",
   "execution_count": 41,
   "metadata": {
    "collapsed": true
   },
   "outputs": [],
   "source": [
    "import pandas as pd"
   ]
  },
  {
   "cell_type": "code",
   "execution_count": 55,
   "metadata": {
    "collapsed": true
   },
   "outputs": [],
   "source": [
    "def datechange(date):\n",
    "    return pd.to_datetime(date,format=\"%d/%b/%Y:%H:%M:%S\")"
   ]
  },
  {
   "cell_type": "code",
   "execution_count": 60,
   "metadata": {
    "collapsed": false
   },
   "outputs": [
    {
     "data": {
      "text/plain": [
       "[('175.223.45.4',\n",
       "  Timestamp('2017-04-04 09:30:16'),\n",
       "  'GET',\n",
       "  '/image/common/quick_menu09.png',\n",
       "  '200'),\n",
       " ('175.223.45.4',\n",
       "  Timestamp('2017-04-04 09:30:19'),\n",
       "  'GET',\n",
       "  '/image/common/quick_menu05.png',\n",
       "  '200'),\n",
       " ('175.223.45.4',\n",
       "  Timestamp('2017-04-04 09:30:16'),\n",
       "  'GET',\n",
       "  '/image/common/quick_menu12.png',\n",
       "  '200'),\n",
       " ('175.223.45.4',\n",
       "  Timestamp('2017-04-04 09:30:19'),\n",
       "  'GET',\n",
       "  '/image/common/bnr02.png',\n",
       "  '200'),\n",
       " ('175.223.45.4',\n",
       "  Timestamp('2017-04-04 09:30:16'),\n",
       "  'GET',\n",
       "  '/image/medi_info/btn_medi_30.png',\n",
       "  '200'),\n",
       " ('175.223.45.4',\n",
       "  Timestamp('2017-04-04 09:30:19'),\n",
       "  'GET',\n",
       "  '/image/blog_icon.png',\n",
       "  '200'),\n",
       " ('175.223.45.4',\n",
       "  Timestamp('2017-04-04 09:30:16'),\n",
       "  'GET',\n",
       "  '/image/common/bnr03.png',\n",
       "  '200'),\n",
       " ('175.223.45.4',\n",
       "  Timestamp('2017-04-04 09:30:19'),\n",
       "  'GET',\n",
       "  '/image/medi_info/btn_medi_18.png',\n",
       "  '200'),\n",
       " ('175.223.45.4',\n",
       "  Timestamp('2017-04-04 09:30:16'),\n",
       "  'GET',\n",
       "  '/image/common/btn_top.png',\n",
       "  '200'),\n",
       " ('175.223.45.4',\n",
       "  Timestamp('2017-04-04 09:30:16'),\n",
       "  'GET',\n",
       "  '/image/medi_info/btn_medi_04.png',\n",
       "  '200')]"
      ]
     },
     "execution_count": 60,
     "metadata": {},
     "output_type": "execute_result"
    }
   ],
   "source": [
    "data_from_file_split.filter(lambda x:x[4]==\"200\").map(lambda row:(row[0],datechange(row[1]),row[2],row[3],row[4])).take(10)"
   ]
  }
 ],
 "metadata": {
  "anaconda-cloud": {},
  "kernelspec": {
   "display_name": "Python [work]",
   "language": "python",
   "name": "Python [work]"
  },
  "language_info": {
   "codemirror_mode": {
    "name": "ipython",
    "version": 3
   },
   "file_extension": ".py",
   "mimetype": "text/x-python",
   "name": "python",
   "nbconvert_exporter": "python",
   "pygments_lexer": "ipython3",
   "version": "3.5.2"
  }
 },
 "nbformat": 4,
 "nbformat_minor": 0
}
