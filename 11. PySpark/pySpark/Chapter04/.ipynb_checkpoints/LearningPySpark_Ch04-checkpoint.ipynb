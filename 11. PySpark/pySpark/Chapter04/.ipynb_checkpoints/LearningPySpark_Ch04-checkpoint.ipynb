{
 "cells": [
  {
   "cell_type": "markdown",
   "metadata": {},
   "source": [
    "# LearningPySpark_Ch04 \n",
    "# Prepare Data for Modeling \n",
    " - 모든 데이터는 우리가 생각하는 것 같이 깨끗하지 않다. \n",
    " - Missing Data, Outlier, wrong number 등 다양한 이유로 데이터가 손실되거나 변형 되어 있다. \n",
    " - Data Modeling을 하기 전에 데이터 전처리 과정이 필요하고 깨끗하게 유지 되어야한다. \n",
    " - As a data scientist, Spend 80-90% of time massaging Data and getting familiar with all the features \n",
    "\n",
    "### In this chapter, you will learn how to do the following:\n",
    " - Recognize and handle duplicates, missing observations, and outliers\n",
    " - Calculate descriptive statistics and correlations\n",
    " - Visualize your data with matplotlib and Bokeh"
   ]
  },
  {
   "cell_type": "markdown",
   "metadata": {},
   "source": [
    "## Checking for duplicates, missing bservations, and outliers"
   ]
  },
  {
   "cell_type": "markdown",
   "metadata": {},
   "source": [
    "## 1. Duplicates\n",
    " - Duplicates are observations that appear as distinct rows in your dataset, but which, upon closer inspection, look the same.\n",
    "\n",
    "#### Consider the follwing example:"
   ]
  },
  {
   "cell_type": "code",
   "execution_count": 1,
   "metadata": {
    "collapsed": true
   },
   "outputs": [],
   "source": [
    "df = spark.createDataFrame([\n",
    "        (1, 144.5, 5.9, 33, 'M'),\n",
    "        (2, 167.2, 5.4, 45, 'M'),\n",
    "        (3, 124.1, 5.2, 23, 'F'),\n",
    "        (4, 144.5, 5.9, 33, 'M'),\n",
    "        (5, 133.2, 5.7, 54, 'F'),\n",
    "        (3, 124.1, 5.2, 23, 'F'),\n",
    "        (5, 129.2, 5.3, 42, 'M'),\n",
    "    ], ['id', 'weight', 'height', 'age', 'gender'])"
   ]
  },
  {
   "cell_type": "markdown",
   "metadata": {},
   "source": [
    " - IDs 3 : 전체 데이터가 동일 \n",
    " - IDs (1,4) — ID만 다르고 나머지 데이터는 동일하다. 즉, 같은 사람이다.  \n",
    " - IDs 5 : ID만 동일하고 나머지 데이터는 다르다. 즉, 다른 사람이라고 볼 수 있다.\n",
    " \n",
    " \n",
    " - I compare the counts of the full dataset with the one that I get after running a .distinct() method"
   ]
  },
  {
   "cell_type": "code",
   "execution_count": 2,
   "metadata": {
    "collapsed": false
   },
   "outputs": [
    {
     "name": "stdout",
     "output_type": "stream",
     "text": [
      "Count of rows: 7\n"
     ]
    }
   ],
   "source": [
    "print('Count of rows: {0}'.format(df.count()))"
   ]
  },
  {
   "cell_type": "code",
   "execution_count": 3,
   "metadata": {
    "collapsed": false
   },
   "outputs": [
    {
     "name": "stdout",
     "output_type": "stream",
     "text": [
      "Count of distinct rows: 6\n"
     ]
    }
   ],
   "source": [
    "print('Count of distinct rows: {0}'.format(df.distinct().count()))"
   ]
  },
  {
   "cell_type": "markdown",
   "metadata": {},
   "source": [
    "We can drop these rows by using the $.dropDuplicates(...)$ method\n",
    " - drop duplicates with all column's value"
   ]
  },
  {
   "cell_type": "code",
   "execution_count": 4,
   "metadata": {
    "collapsed": false
   },
   "outputs": [
    {
     "name": "stdout",
     "output_type": "stream",
     "text": [
      "+---+------+------+---+------+\n",
      "| id|weight|height|age|gender|\n",
      "+---+------+------+---+------+\n",
      "|  4| 144.5|   5.9| 33|     M|\n",
      "|  1| 144.5|   5.9| 33|     M|\n",
      "|  5| 129.2|   5.3| 42|     M|\n",
      "|  5| 133.2|   5.7| 54|     F|\n",
      "|  2| 167.2|   5.4| 45|     M|\n",
      "|  3| 124.1|   5.2| 23|     F|\n",
      "+---+------+------+---+------+\n",
      "\n"
     ]
    }
   ],
   "source": [
    "df = df.dropDuplicates()\n",
    "df.show()"
   ]
  },
  {
   "cell_type": "markdown",
   "metadata": {},
   "source": [
    " - ID 가 3인 데이터는 삭제 되었다. \n",
    " - ID를 통해서 중복된 데이터를 체크 쉽게 할 수 있다. 하지만 다른 컬럼까지 체크해서 하기에는 어려움이 있다. "
   ]
  },
  {
   "cell_type": "code",
   "execution_count": 5,
   "metadata": {
    "collapsed": false
   },
   "outputs": [
    {
     "name": "stdout",
     "output_type": "stream",
     "text": [
      "Count of ids : 6\n"
     ]
    }
   ],
   "source": [
    "print('Count of ids : {0}'.format(df.count()))"
   ]
  },
  {
   "cell_type": "code",
   "execution_count": 6,
   "metadata": {
    "collapsed": false
   },
   "outputs": [
    {
     "data": {
      "text/plain": [
       "['weight', 'height', 'age', 'gender']"
      ]
     },
     "execution_count": 6,
     "metadata": {},
     "output_type": "execute_result"
    }
   ],
   "source": [
    "[c for c in df.columns if c != 'id']"
   ]
  },
  {
   "cell_type": "markdown",
   "metadata": {},
   "source": [
    " - ID를 제외한 나머지 컬럼의 데이터 비교 "
   ]
  },
  {
   "cell_type": "code",
   "execution_count": 7,
   "metadata": {
    "collapsed": false
   },
   "outputs": [
    {
     "name": "stdout",
     "output_type": "stream",
     "text": [
      "Count of distinct ids : 5\n"
     ]
    }
   ],
   "source": [
    "print('Count of distinct ids : {0}'.format(df.select([c for c in df.columns if c != 'id']).distinct().count()))"
   ]
  },
  {
   "cell_type": "markdown",
   "metadata": {},
   "source": [
    " - see one more row that is a duplicate\n",
    " - 1,4 ID 를 가진 데이터 중 삭제 ID : 1 데이터 삭제 \n",
    "\n",
    "\n",
    " - We can still use the .dropDuplicates(...), but will add the subset parameter that specifies only the columns other than the id column"
   ]
  },
  {
   "cell_type": "code",
   "execution_count": 8,
   "metadata": {
    "collapsed": true
   },
   "outputs": [],
   "source": [
    "df = df.dropDuplicates(subset=[c for c in df.columns if c != 'id'])"
   ]
  },
  {
   "cell_type": "code",
   "execution_count": 11,
   "metadata": {
    "collapsed": false
   },
   "outputs": [
    {
     "name": "stdout",
     "output_type": "stream",
     "text": [
      "+---+------+------+---+------+\n",
      "| id|weight|height|age|gender|\n",
      "+---+------+------+---+------+\n",
      "|  5| 133.2|   5.7| 54|     F|\n",
      "|  4| 144.5|   5.9| 33|     M|\n",
      "|  2| 167.2|   5.4| 45|     M|\n",
      "|  3| 124.1|   5.2| 23|     F|\n",
      "|  5| 129.2|   5.3| 42|     M|\n",
      "+---+------+------+---+------+\n",
      "\n"
     ]
    }
   ],
   "source": [
    "df.show()"
   ]
  },
  {
   "cell_type": "code",
   "execution_count": 12,
   "metadata": {
    "collapsed": true
   },
   "outputs": [],
   "source": [
    "import pyspark.sql.functions as fn"
   ]
  },
  {
   "cell_type": "code",
   "execution_count": 13,
   "metadata": {
    "collapsed": false
   },
   "outputs": [
    {
     "name": "stdout",
     "output_type": "stream",
     "text": [
      "+-----+-----+\n",
      "|count|count|\n",
      "+-----+-----+\n",
      "|    5|    4|\n",
      "+-----+-----+\n",
      "\n"
     ]
    }
   ],
   "source": [
    "df.agg(\n",
    "    fn.count('id').alias('count'),\n",
    "    fn.countDistinct('id').alias('count')\n",
    ").show()"
   ]
  },
  {
   "cell_type": "markdown",
   "metadata": {},
   "source": [
    " - we will give each row a unique ID\n",
    " - The $.monotonicallymonotonically_increasing_id()$ method gives each record a unique and increasing ID"
   ]
  },
  {
   "cell_type": "code",
   "execution_count": 14,
   "metadata": {
    "collapsed": false
   },
   "outputs": [
    {
     "name": "stdout",
     "output_type": "stream",
     "text": [
      "+---+------+------+---+------+-------------+\n",
      "| id|weight|height|age|gender|       new_id|\n",
      "+---+------+------+---+------+-------------+\n",
      "|  5| 133.2|   5.7| 54|     F|  25769803776|\n",
      "|  4| 144.5|   5.9| 33|     M| 171798691840|\n",
      "|  2| 167.2|   5.4| 45|     M| 592705486848|\n",
      "|  3| 124.1|   5.2| 23|     F|1236950581248|\n",
      "|  5| 129.2|   5.3| 42|     M|1365799600128|\n",
      "+---+------+------+---+------+-------------+\n",
      "\n"
     ]
    }
   ],
   "source": [
    "df.withColumn('new_id', fn.monotonically_increasing_id()).show()"
   ]
  },
  {
   "cell_type": "markdown",
   "metadata": {},
   "source": [
    "## 2. Missing observations\n",
    " - Null, NA 에 대한 데이터를 다루게 될 것이다. \n",
    " - 1. Missing Data가 있는 전체 데이터 삭제. \n",
    " - 2. Impute some value in place of those Nones."
   ]
  },
  {
   "cell_type": "code",
   "execution_count": 15,
   "metadata": {
    "collapsed": true
   },
   "outputs": [],
   "source": [
    "df_miss = spark.createDataFrame([\n",
    "    (1, 143.5, 5.6, 28, 'M', 100000),\n",
    "    (2, 167.2, 5.4, 45, 'M', None),\n",
    "    (3, None , 5.2, None, None, None),\n",
    "    (4, 144.5, 5.9, 33, 'M', None),\n",
    "    (5, 133.2, 5.7, 54, 'F', None),\n",
    "    (6, 124.1, 5.2, None, 'F', None),\n",
    "    (7, 129.2, 5.3, 42, 'M', 76000),\n",
    "], ['id', 'weight', 'height', 'age', 'gender', 'income'])"
   ]
  },
  {
   "cell_type": "code",
   "execution_count": 16,
   "metadata": {
    "collapsed": false
   },
   "outputs": [
    {
     "data": {
      "text/plain": [
       "[Row(id=1, weight=143.5, height=5.6, age=28, gender='M', income=100000),\n",
       " Row(id=2, weight=167.2, height=5.4, age=45, gender='M', income=None),\n",
       " Row(id=3, weight=None, height=5.2, age=None, gender=None, income=None),\n",
       " Row(id=4, weight=144.5, height=5.9, age=33, gender='M', income=None),\n",
       " Row(id=5, weight=133.2, height=5.7, age=54, gender='F', income=None),\n",
       " Row(id=6, weight=124.1, height=5.2, age=None, gender='F', income=None),\n",
       " Row(id=7, weight=129.2, height=5.3, age=42, gender='M', income=76000)]"
      ]
     },
     "execution_count": 16,
     "metadata": {},
     "output_type": "execute_result"
    }
   ],
   "source": [
    "df_miss.collect()"
   ]
  },
  {
   "cell_type": "code",
   "execution_count": 29,
   "metadata": {
    "collapsed": false
   },
   "outputs": [
    {
     "name": "stdout",
     "output_type": "stream",
     "text": [
      "+---+------+------+----+------+------+\n",
      "| id|weight|height| age|gender|income|\n",
      "+---+------+------+----+------+------+\n",
      "|  1| 143.5|   5.6|  28|     M|100000|\n",
      "|  2| 167.2|   5.4|  45|     M|  null|\n",
      "|  3|  null|   5.2|null|  null|  null|\n",
      "|  4| 144.5|   5.9|  33|     M|  null|\n",
      "|  5| 133.2|   5.7|  54|     F|  null|\n",
      "|  6| 124.1|   5.2|null|     F|  null|\n",
      "|  7| 129.2|   5.3|  42|     M| 76000|\n",
      "+---+------+------+----+------+------+\n",
      "\n"
     ]
    }
   ],
   "source": [
    "df_miss.show()"
   ]
  },
  {
   "cell_type": "markdown",
   "metadata": {},
   "source": [
    "### Rows\n",
    " - ID : 3, Height만 유용한 데이터이다.\n",
    " - ID : 6, Age, Income 에 대해서 MIssing Data이다. \n",
    "\n",
    "### Columns\n",
    " - income : 대부분이 MIssing Value이다. \n",
    " - weight, gender : 각 Row에 대해서 1개의 Row에서만 Missing Value가 있다. \n",
    " - age : two missing values"
   ]
  },
  {
   "cell_type": "markdown",
   "metadata": {},
   "source": [
    "### Each row counts Missing Data"
   ]
  },
  {
   "cell_type": "code",
   "execution_count": 17,
   "metadata": {
    "collapsed": false
   },
   "outputs": [
    {
     "data": {
      "text/plain": [
       "[(1, 0), (2, 1), (3, 4), (4, 1), (5, 1), (6, 2), (7, 0)]"
      ]
     },
     "execution_count": 17,
     "metadata": {},
     "output_type": "execute_result"
    }
   ],
   "source": [
    "df_miss.rdd.map(\n",
    "    lambda row: (row['id'], sum([c==None for c in row]))\n",
    ").collect()"
   ]
  },
  {
   "cell_type": "code",
   "execution_count": 18,
   "metadata": {
    "collapsed": false
   },
   "outputs": [
    {
     "name": "stdout",
     "output_type": "stream",
     "text": [
      "+---+------+------+----+------+------+\n",
      "| id|weight|height| age|gender|income|\n",
      "+---+------+------+----+------+------+\n",
      "|  3|  null|   5.2|null|  null|  null|\n",
      "+---+------+------+----+------+------+\n",
      "\n"
     ]
    }
   ],
   "source": [
    "df_miss.where('id==3').show()"
   ]
  },
  {
   "cell_type": "markdown",
   "metadata": {},
   "source": [
    "### Let's now check what percentage of missing observations are there in each columns\n",
    " - 각 컬럼을 전체 표현하려면 *[]로 가변 list형태로 만들어줘야한다. "
   ]
  },
  {
   "cell_type": "code",
   "execution_count": 28,
   "metadata": {
    "collapsed": false
   },
   "outputs": [
    {
     "name": "stdout",
     "output_type": "stream",
     "text": [
      "+--------+------------+------------+---------+------------+------------+\n",
      "|id_total|weight_total|height_total|age_total|gender_total|income_total|\n",
      "+--------+------------+------------+---------+------------+------------+\n",
      "|       7|           7|           7|        7|           7|           7|\n",
      "+--------+------------+------------+---------+------------+------------+\n",
      "\n"
     ]
    }
   ],
   "source": [
    "df_miss.agg(*[fn.count('*').alias(c+\"_total\") for c in df_miss.columns]).show()"
   ]
  },
  {
   "cell_type": "code",
   "execution_count": 30,
   "metadata": {
    "collapsed": false
   },
   "outputs": [
    {
     "name": "stdout",
     "output_type": "stream",
     "text": [
      "+-------+-----------+-----------+--------+-----------+-----------+\n",
      "|id_some|weight_some|height_some|age_some|gender_some|income_some|\n",
      "+-------+-----------+-----------+--------+-----------+-----------+\n",
      "|      7|          6|          7|       5|          6|          2|\n",
      "+-------+-----------+-----------+--------+-----------+-----------+\n",
      "\n"
     ]
    }
   ],
   "source": [
    "df_miss.agg(*[fn.count(c).alias(c+\"_some\") for c in df_miss.columns]).show() # not None in data value"
   ]
  },
  {
   "cell_type": "code",
   "execution_count": 19,
   "metadata": {
    "collapsed": false
   },
   "outputs": [
    {
     "name": "stdout",
     "output_type": "stream",
     "text": [
      "+----------+------------------+--------------+------------------+------------------+------------------+\n",
      "|id_missing|    weight_missing|height_missing|       age_missing|    gender_missing|    income_missing|\n",
      "+----------+------------------+--------------+------------------+------------------+------------------+\n",
      "|       0.0|0.1428571428571429|           0.0|0.2857142857142857|0.1428571428571429|0.7142857142857143|\n",
      "+----------+------------------+--------------+------------------+------------------+------------------+\n",
      "\n"
     ]
    }
   ],
   "source": [
    "df_miss.agg(\n",
    "    *[(1-(fn.count(c) / fn.count('*'))).alias(c +'_missing') for c in df_miss.columns\n",
    "]).show()"
   ]
  },
  {
   "cell_type": "markdown",
   "metadata": {},
   "source": [
    "### Drop column don't need"
   ]
  },
  {
   "cell_type": "code",
   "execution_count": 31,
   "metadata": {
    "collapsed": false
   },
   "outputs": [
    {
     "name": "stdout",
     "output_type": "stream",
     "text": [
      "+---+------+------+----+------+\n",
      "| id|weight|height| age|gender|\n",
      "+---+------+------+----+------+\n",
      "|  1| 143.5|   5.6|  28|     M|\n",
      "|  2| 167.2|   5.4|  45|     M|\n",
      "|  3|  null|   5.2|null|  null|\n",
      "|  4| 144.5|   5.9|  33|     M|\n",
      "|  5| 133.2|   5.7|  54|     F|\n",
      "|  6| 124.1|   5.2|null|     F|\n",
      "|  7| 129.2|   5.3|  42|     M|\n",
      "+---+------+------+----+------+\n",
      "\n"
     ]
    }
   ],
   "source": [
    "df_miss_no_income = df_miss.select([ c for c in df_miss.columns if c != 'income'])\n",
    "df_miss_no_income.show()"
   ]
  },
  {
   "cell_type": "markdown",
   "metadata": {},
   "source": [
    "### Drop row (have many missing data) \n",
    " - ID : 3"
   ]
  },
  {
   "cell_type": "code",
   "execution_count": 32,
   "metadata": {
    "collapsed": false
   },
   "outputs": [
    {
     "name": "stdout",
     "output_type": "stream",
     "text": [
      "+---+------+------+----+------+\n",
      "| id|weight|height| age|gender|\n",
      "+---+------+------+----+------+\n",
      "|  1| 143.5|   5.6|  28|     M|\n",
      "|  2| 167.2|   5.4|  45|     M|\n",
      "|  4| 144.5|   5.9|  33|     M|\n",
      "|  5| 133.2|   5.7|  54|     F|\n",
      "|  6| 124.1|   5.2|null|     F|\n",
      "|  7| 129.2|   5.3|  42|     M|\n",
      "+---+------+------+----+------+\n",
      "\n"
     ]
    }
   ],
   "source": [
    "df_miss_no_income.dropna(thresh=3).show()"
   ]
  },
  {
   "cell_type": "markdown",
   "metadata": {},
   "source": [
    "### Impute the ovservations, fillna method\n",
    " - This method accepts a single integer (long is also accepted),float, or string\n",
    " - all missing values in the whole dataset will then be filled in with that value\n",
    " - You can also pass a dictionary of a form $\\{'<colName>': <value_to_impute>\\}$\n",
    " - We omit the $gender$ column as one $cannot \\ calculate$ a mean of a categorical variable, obviously."
   ]
  },
  {
   "cell_type": "code",
   "execution_count": 36,
   "metadata": {
    "collapsed": false
   },
   "outputs": [
    {
     "name": "stdout",
     "output_type": "stream",
     "text": [
      "+---+------------------+-----------------+----+\n",
      "| id|            weight|           height| age|\n",
      "+---+------------------+-----------------+----+\n",
      "|4.0|140.28333333333333|5.471428571428572|40.4|\n",
      "+---+------------------+-----------------+----+\n",
      "\n"
     ]
    }
   ],
   "source": [
    "df_miss_no_income.agg(\n",
    "*[fn.mean(c).alias(c) for c in df_miss_no_income.columns if c!='gender']).show()"
   ]
  },
  {
   "cell_type": "code",
   "execution_count": 37,
   "metadata": {
    "collapsed": false
   },
   "outputs": [
    {
     "data": {
      "text/html": [
       "<div>\n",
       "<table border=\"1\" class=\"dataframe\">\n",
       "  <thead>\n",
       "    <tr style=\"text-align: right;\">\n",
       "      <th></th>\n",
       "      <th>id</th>\n",
       "      <th>weight</th>\n",
       "      <th>height</th>\n",
       "      <th>age</th>\n",
       "    </tr>\n",
       "  </thead>\n",
       "  <tbody>\n",
       "    <tr>\n",
       "      <th>0</th>\n",
       "      <td>4.0</td>\n",
       "      <td>140.283333</td>\n",
       "      <td>5.471429</td>\n",
       "      <td>40.4</td>\n",
       "    </tr>\n",
       "  </tbody>\n",
       "</table>\n",
       "</div>"
      ],
      "text/plain": [
       "    id      weight    height   age\n",
       "0  4.0  140.283333  5.471429  40.4"
      ]
     },
     "execution_count": 37,
     "metadata": {},
     "output_type": "execute_result"
    }
   ],
   "source": [
    "df_miss_no_income.agg(\n",
    "*[fn.mean(c).alias(c) for c in df_miss_no_income.columns if c!='gender']).toPandas()"
   ]
  },
  {
   "cell_type": "code",
   "execution_count": 39,
   "metadata": {
    "collapsed": false
   },
   "outputs": [
    {
     "data": {
      "text/plain": [
       "[{'age': 40.399999999999999,\n",
       "  'height': 5.4714285714285724,\n",
       "  'id': 4.0,\n",
       "  'weight': 140.28333333333333}]"
      ]
     },
     "execution_count": 39,
     "metadata": {},
     "output_type": "execute_result"
    }
   ],
   "source": [
    "df_miss_no_income.agg(\n",
    "*[fn.mean(c).alias(c) for c in df_miss_no_income.columns if c!='gender']).toPandas().to_dict('records')"
   ]
  },
  {
   "cell_type": "code",
   "execution_count": 40,
   "metadata": {
    "collapsed": false
   },
   "outputs": [
    {
     "data": {
      "text/plain": [
       "{'age': {0: 40.399999999999999},\n",
       " 'height': {0: 5.4714285714285724},\n",
       " 'id': {0: 4.0},\n",
       " 'weight': {0: 140.28333333333333}}"
      ]
     },
     "execution_count": 40,
     "metadata": {},
     "output_type": "execute_result"
    }
   ],
   "source": [
    "df_miss_no_income.agg(\n",
    "*[fn.mean(c).alias(c) for c in df_miss_no_income.columns if c!='gender']).toPandas().to_dict() # 이렇게 하면 한방에 끝날거같다."
   ]
  },
  {
   "cell_type": "code",
   "execution_count": 34,
   "metadata": {
    "collapsed": false
   },
   "outputs": [],
   "source": [
    "means = df_miss_no_income.agg(\n",
    "*[fn.mean(c).alias(c) for c in df_miss_no_income.columns if c!='gender']).toPandas().to_dict('records')[0]"
   ]
  },
  {
   "cell_type": "code",
   "execution_count": 35,
   "metadata": {
    "collapsed": false
   },
   "outputs": [
    {
     "data": {
      "text/plain": [
       "{'age': 40.399999999999999,\n",
       " 'height': 5.4714285714285724,\n",
       " 'id': 4.0,\n",
       " 'weight': 140.28333333333333}"
      ]
     },
     "execution_count": 35,
     "metadata": {},
     "output_type": "execute_result"
    }
   ],
   "source": [
    "means"
   ]
  },
  {
   "cell_type": "code",
   "execution_count": 41,
   "metadata": {
    "collapsed": true
   },
   "outputs": [],
   "source": [
    "means['gender'] = 'missing'"
   ]
  },
  {
   "cell_type": "code",
   "execution_count": 43,
   "metadata": {
    "collapsed": false
   },
   "outputs": [
    {
     "data": {
      "text/plain": [
       "{'age': 40.399999999999999,\n",
       " 'gender': 'missing',\n",
       " 'height': 5.4714285714285724,\n",
       " 'id': 4.0,\n",
       " 'weight': 140.28333333333333}"
      ]
     },
     "execution_count": 43,
     "metadata": {},
     "output_type": "execute_result"
    }
   ],
   "source": [
    "means"
   ]
  },
  {
   "cell_type": "code",
   "execution_count": 44,
   "metadata": {
    "collapsed": false
   },
   "outputs": [
    {
     "name": "stdout",
     "output_type": "stream",
     "text": [
      "+---+-------------+------+---+-------+\n",
      "| id|       weight|height|age| gender|\n",
      "+---+-------------+------+---+-------+\n",
      "|  1|        143.5|   5.6| 28|      M|\n",
      "|  2|        167.2|   5.4| 45|      M|\n",
      "|  3|140.283333333|   5.2| 40|missing|\n",
      "|  4|        144.5|   5.9| 33|      M|\n",
      "|  5|        133.2|   5.7| 54|      F|\n",
      "|  6|        124.1|   5.2| 40|      F|\n",
      "|  7|        129.2|   5.3| 42|      M|\n",
      "+---+-------------+------+---+-------+\n",
      "\n"
     ]
    }
   ],
   "source": [
    "df_miss_no_income.fillna(means).show() # fillna(dictionary)"
   ]
  },
  {
   "cell_type": "markdown",
   "metadata": {},
   "source": [
    "## 3. Outliers\n",
    " - 분포에서 크게 벗어난 데이터를 Outlier라 한다. \n",
    " - Q1-1.5IQR 및 Q3 + 1.5IQR 범위 (여기서 IQR은 사 분위 범위 임)\n",
    "  - IQR 상한 및 하한 사 분위수의 차이, 즉 75 백분위 수 (Q3)와 25 백분위 수 (Q1)입니다."
   ]
  },
  {
   "cell_type": "code",
   "execution_count": 87,
   "metadata": {
    "collapsed": true
   },
   "outputs": [],
   "source": [
    "df_outliers = spark.createDataFrame([\n",
    "        (1, 143.5, 5.3, 28),\n",
    "        (2, 154.2, 5.5, 45),\n",
    "        (3, 342.3, 5.1, 99),\n",
    "        (4, 144.5, 5.5, 33),\n",
    "        (5, 133.2, 5.4, 54),\n",
    "        (6, 124.1, 5.1, 21),\n",
    "        (7, 129.2, 5.3, 42),\n",
    "    ], ['id', 'weight', 'height', 'age'])"
   ]
  },
  {
   "cell_type": "code",
   "execution_count": 88,
   "metadata": {
    "collapsed": false
   },
   "outputs": [
    {
     "name": "stdout",
     "output_type": "stream",
     "text": [
      "+---+------+------+---+\n",
      "| id|weight|height|age|\n",
      "+---+------+------+---+\n",
      "|  1| 143.5|   5.3| 28|\n",
      "|  2| 154.2|   5.5| 45|\n",
      "|  3| 342.3|   5.1| 99|\n",
      "|  4| 144.5|   5.5| 33|\n",
      "|  5| 133.2|   5.4| 54|\n",
      "|  6| 124.1|   5.1| 21|\n",
      "|  7| 129.2|   5.3| 42|\n",
      "+---+------+------+---+\n",
      "\n"
     ]
    }
   ],
   "source": [
    "df_outliers.show()"
   ]
  },
  {
   "cell_type": "markdown",
   "metadata": {},
   "source": [
    " - 1. 각 행에 대해서 하한 상한 cut off를 계산한다. \n",
    "  - $.approxQuantile()$ method를 이용한다. \n",
    "  - parameter 1 : column name\n",
    "  - parameter 2 : a number between 0 or 1 (0.5는 중간값) or a list(as in out case)\n",
    "  - parameter 3 : 각 측정 항목에 대해 허용 가능한 오류 수준을 지정합니다 (0으로 설정하면 계산됩니다)."
   ]
  },
  {
   "cell_type": "code",
   "execution_count": 89,
   "metadata": {
    "collapsed": false
   },
   "outputs": [
    {
     "name": "stdout",
     "output_type": "stream",
     "text": [
      "+---+------+------+---+\n",
      "| id|weight|height|age|\n",
      "+---+------+------+---+\n",
      "|  1| 143.5|   5.3| 28|\n",
      "|  2| 154.2|   5.5| 45|\n",
      "|  4| 144.5|   5.5| 33|\n",
      "|  5| 133.2|   5.4| 54|\n",
      "|  6| 124.1|   5.1| 21|\n",
      "|  7| 129.2|   5.3| 42|\n",
      "+---+------+------+---+\n",
      "\n"
     ]
    }
   ],
   "source": [
    "df_outliers.where('id<>3').show()"
   ]
  },
  {
   "cell_type": "code",
   "execution_count": 90,
   "metadata": {
    "collapsed": true
   },
   "outputs": [],
   "source": [
    "cols = ['weight', 'height', 'age']\n",
    "bounds = {}\n",
    "\n",
    "for col in cols:\n",
    "    quantiles = df_outliers.approxQuantile(col, [0.25, 0.75], 0.05)\n",
    "    IQR = quantiles[1] - quantiles[0]\n",
    "    bounds[col] = [quantiles[0] - 1.5 * IQR, quantiles[1] + 1.5 * IQR]"
   ]
  },
  {
   "cell_type": "code",
   "execution_count": 91,
   "metadata": {
    "collapsed": false
   },
   "outputs": [
    {
     "data": {
      "text/plain": [
       "{'age': [-11.0, 93.0],\n",
       " 'height': [4.499999999999999, 6.1000000000000005],\n",
       " 'weight': [91.69999999999999, 191.7]}"
      ]
     },
     "execution_count": 91,
     "metadata": {},
     "output_type": "execute_result"
    }
   ],
   "source": [
    "bounds"
   ]
  },
  {
   "cell_type": "code",
   "execution_count": 92,
   "metadata": {
    "collapsed": false
   },
   "outputs": [],
   "source": [
    "outliers = df_outliers.select(*['id'] + [ \n",
    "        (\n",
    "            (df_outliers[c] < bounds[c][0]) | \n",
    "             (df_outliers[c] > bounds[c][1])\n",
    "        ).alias(c+'_o') for c in cols\n",
    "])"
   ]
  },
  {
   "cell_type": "code",
   "execution_count": 93,
   "metadata": {
    "collapsed": false
   },
   "outputs": [
    {
     "name": "stdout",
     "output_type": "stream",
     "text": [
      "+---+--------+--------+-----+\n",
      "| id|weight_o|height_o|age_o|\n",
      "+---+--------+--------+-----+\n",
      "|  1|   false|   false|false|\n",
      "|  2|   false|   false|false|\n",
      "|  3|    true|   false| true|\n",
      "|  4|   false|   false|false|\n",
      "|  5|   false|   false|false|\n",
      "|  6|   false|   false|false|\n",
      "|  7|   false|   false|false|\n",
      "+---+--------+--------+-----+\n",
      "\n"
     ]
    }
   ],
   "source": [
    "outliers.show()"
   ]
  },
  {
   "cell_type": "code",
   "execution_count": 94,
   "metadata": {
    "collapsed": false
   },
   "outputs": [
    {
     "name": "stdout",
     "output_type": "stream",
     "text": [
      "+---+------+\n",
      "| id|weight|\n",
      "+---+------+\n",
      "|  3| 342.3|\n",
      "+---+------+\n",
      "\n"
     ]
    }
   ],
   "source": [
    "df_outliers = df_outliers.join(outliers, on='id')\n",
    "df_outliers.filter('weight_o').select('id', 'weight').show()"
   ]
  },
  {
   "cell_type": "code",
   "execution_count": 95,
   "metadata": {
    "collapsed": false
   },
   "outputs": [
    {
     "name": "stdout",
     "output_type": "stream",
     "text": [
      "+---+---+\n",
      "| id|age|\n",
      "+---+---+\n",
      "|  3| 99|\n",
      "+---+---+\n",
      "\n"
     ]
    }
   ],
   "source": [
    "df_outliers.filter('age_o').select('id', 'age').show()"
   ]
  },
  {
   "cell_type": "markdown",
   "metadata": {},
   "source": [
    "## 4. Getting familiar with your data\n",
    "### Understand your data\n",
    " - 데이터를 알지 못하더라도, Modeling을 하거나 데이터를 탐색하는 부분에 있어서는 가능하다. 하지만 시간이 오래 걸리고, 제대로된 결과라고 할 수 없을 수 도있다.\n",
    " - <a href=\"http://tomdrabas.com/data/LearningPySpark/ccFraud.csv.gz\"> file Download </a>\n",
    "\n",
    "![img1](img/1.PNG)"
   ]
  },
  {
   "cell_type": "markdown",
   "metadata": {},
   "source": [
    "### Descriptive statistics\n",
    " - tell you the basic information about your dataset"
   ]
  },
  {
   "cell_type": "code",
   "execution_count": 96,
   "metadata": {
    "collapsed": true
   },
   "outputs": [],
   "source": [
    "import pyspark.sql.types as typ"
   ]
  },
  {
   "cell_type": "code",
   "execution_count": 104,
   "metadata": {
    "collapsed": true
   },
   "outputs": [],
   "source": [
    "fraud = sc.textFile('F://DataScience/11. PySpark/pySpark/Chapter03/data/ccFraud/ccFraud.csv.gz')"
   ]
  },
  {
   "cell_type": "code",
   "execution_count": 105,
   "metadata": {
    "collapsed": false
   },
   "outputs": [
    {
     "data": {
      "text/plain": [
       "'\"custID\",\"gender\",\"state\",\"cardholder\",\"balance\",\"numTrans\",\"numIntlTrans\",\"creditLine\",\"fraudRisk\"'"
      ]
     },
     "execution_count": 105,
     "metadata": {},
     "output_type": "execute_result"
    }
   ],
   "source": [
    "header = fraud.first()\n",
    "header"
   ]
  },
  {
   "cell_type": "code",
   "execution_count": 107,
   "metadata": {
    "collapsed": false
   },
   "outputs": [],
   "source": [
    "fraud = fraud.filter(lambda row:row != header).map(lambda row:[int(elem) for elem in row.split(\",\")])"
   ]
  },
  {
   "cell_type": "code",
   "execution_count": 108,
   "metadata": {
    "collapsed": false
   },
   "outputs": [
    {
     "data": {
      "text/plain": [
       "[[1, 1, 35, 1, 3000, 4, 14, 2, 0],\n",
       " [2, 2, 2, 1, 0, 9, 0, 18, 0],\n",
       " [3, 2, 2, 1, 0, 27, 9, 16, 0]]"
      ]
     },
     "execution_count": 108,
     "metadata": {},
     "output_type": "execute_result"
    }
   ],
   "source": [
    "fraud.take(3)"
   ]
  },
  {
   "cell_type": "markdown",
   "metadata": {},
   "source": [
    "#### we create the schema for our DataFrame"
   ]
  },
  {
   "cell_type": "code",
   "execution_count": 109,
   "metadata": {
    "collapsed": true
   },
   "outputs": [],
   "source": [
    "fields = [\n",
    "    *[\n",
    "        typ.StructField(h[1:-1], typ.IntegerType(), True)\n",
    "        for h in header.split(',')\n",
    "    ]\n",
    "]"
   ]
  },
  {
   "cell_type": "code",
   "execution_count": 110,
   "metadata": {
    "collapsed": false
   },
   "outputs": [
    {
     "data": {
      "text/plain": [
       "[StructField(custID,IntegerType,true),\n",
       " StructField(gender,IntegerType,true),\n",
       " StructField(state,IntegerType,true),\n",
       " StructField(cardholder,IntegerType,true),\n",
       " StructField(balance,IntegerType,true),\n",
       " StructField(numTrans,IntegerType,true),\n",
       " StructField(numIntlTrans,IntegerType,true),\n",
       " StructField(creditLine,IntegerType,true),\n",
       " StructField(fraudRisk,IntegerType,true)]"
      ]
     },
     "execution_count": 110,
     "metadata": {},
     "output_type": "execute_result"
    }
   ],
   "source": [
    "fields"
   ]
  },
  {
   "cell_type": "code",
   "execution_count": 112,
   "metadata": {
    "collapsed": true
   },
   "outputs": [],
   "source": [
    "schema = typ.StructType(fields)"
   ]
  },
  {
   "cell_type": "code",
   "execution_count": 113,
   "metadata": {
    "collapsed": false
   },
   "outputs": [
    {
     "data": {
      "text/plain": [
       "StructType(List(StructField(custID,IntegerType,true),StructField(gender,IntegerType,true),StructField(state,IntegerType,true),StructField(cardholder,IntegerType,true),StructField(balance,IntegerType,true),StructField(numTrans,IntegerType,true),StructField(numIntlTrans,IntegerType,true),StructField(creditLine,IntegerType,true),StructField(fraudRisk,IntegerType,true)))"
      ]
     },
     "execution_count": 113,
     "metadata": {},
     "output_type": "execute_result"
    }
   ],
   "source": [
    "schema"
   ]
  },
  {
   "cell_type": "code",
   "execution_count": 114,
   "metadata": {
    "collapsed": false
   },
   "outputs": [],
   "source": [
    "fraud_df = spark.createDataFrame(fraud, schema)"
   ]
  },
  {
   "cell_type": "code",
   "execution_count": 115,
   "metadata": {
    "collapsed": false
   },
   "outputs": [
    {
     "name": "stdout",
     "output_type": "stream",
     "text": [
      "root\n",
      " |-- custID: integer (nullable = true)\n",
      " |-- gender: integer (nullable = true)\n",
      " |-- state: integer (nullable = true)\n",
      " |-- cardholder: integer (nullable = true)\n",
      " |-- balance: integer (nullable = true)\n",
      " |-- numTrans: integer (nullable = true)\n",
      " |-- numIntlTrans: integer (nullable = true)\n",
      " |-- creditLine: integer (nullable = true)\n",
      " |-- fraudRisk: integer (nullable = true)\n",
      "\n"
     ]
    }
   ],
   "source": [
    "fraud_df.printSchema()"
   ]
  },
  {
   "cell_type": "markdown",
   "metadata": {},
   "source": [
    " - Categorical한 데이터를 이해하기 위해서, 데이터의 빈도를 Groupby함수를 이용하여 구할 것이다. "
   ]
  },
  {
   "cell_type": "code",
   "execution_count": 116,
   "metadata": {
    "collapsed": false
   },
   "outputs": [
    {
     "name": "stdout",
     "output_type": "stream",
     "text": [
      "+------+-------+\n",
      "|gender|  count|\n",
      "+------+-------+\n",
      "|     1|6178231|\n",
      "|     2|3821769|\n",
      "+------+-------+\n",
      "\n"
     ]
    }
   ],
   "source": [
    "fraud_df.groupby(['gender']).count().show()"
   ]
  },
  {
   "cell_type": "markdown",
   "metadata": {},
   "source": [
    " - For the truly numerical features, we can use the .describe() method:"
   ]
  },
  {
   "cell_type": "code",
   "execution_count": 117,
   "metadata": {
    "collapsed": true
   },
   "outputs": [],
   "source": [
    "numerical = ['balance','numTrans','numIntlTrans']"
   ]
  },
  {
   "cell_type": "code",
   "execution_count": 120,
   "metadata": {
    "collapsed": false
   },
   "outputs": [
    {
     "name": "stdout",
     "output_type": "stream",
     "text": [
      "+-------+-----------------+------------------+-----------------+\n",
      "|summary|          balance|          numTrans|     numIntlTrans|\n",
      "+-------+-----------------+------------------+-----------------+\n",
      "|  count|         10000000|          10000000|         10000000|\n",
      "|   mean|     4109.9199193|        28.9351871|        4.0471899|\n",
      "| stddev|3996.847309737077|26.553781024522852|8.602970115863767|\n",
      "|    min|                0|                 0|                0|\n",
      "|    max|            41485|               100|               60|\n",
      "+-------+-----------------+------------------+-----------------+\n",
      "\n"
     ]
    }
   ],
   "source": [
    "desc = fraud_df.describe(numerical)\n",
    "desc.show()"
   ]
  },
  {
   "cell_type": "markdown",
   "metadata": {},
   "source": [
    "### Even from these relatively few numbers we can tell quite a bit\n",
    " - All of the features are positively skewed. The maximum values are a number of times larger than the average\n",
    " - The coefficient of variation (the ratio of mean to standard deviation) is very high (close or greater than 1), suggesting a wide spread of observations"
   ]
  },
  {
   "cell_type": "markdown",
   "metadata": {},
   "source": [
    "#### 왜도(skewness)\n",
    " - 확률 이론 및 통계학에서, 비대칭도(非對稱度, skewness) 또는 왜도(歪度)는 실수 값 확률 변수의 확률 분포 비대칭성을 나타내는 지표이다. 왜도의 값은 양수나 음수가 될 수 있으며 정의되지 않을 수도 있다. 왜도가 음수일 경우에는 확률밀도함수의 왼쪽 부분에 긴 꼬리를 가지며 중앙값을 포함한 자료가 오른쪽에 더 많이 분포해 있다. 왜도가 양수일 때는 확률밀도함수의 오른쪽 부분에 긴 꼬리를 가지며 자료가 왼쪽에 더 많이 분포해 있다는 것을 나타낸다. 평균과 중앙값이 같으면 왜도는 0이 된다."
   ]
  },
  {
   "cell_type": "code",
   "execution_count": 121,
   "metadata": {
    "collapsed": false
   },
   "outputs": [
    {
     "name": "stdout",
     "output_type": "stream",
     "text": [
      "+------------------+\n",
      "| skewness(balance)|\n",
      "+------------------+\n",
      "|1.1818315552995033|\n",
      "+------------------+\n",
      "\n"
     ]
    }
   ],
   "source": [
    "fraud_df.agg({'balance': 'skewness'}).show()"
   ]
  },
  {
   "cell_type": "markdown",
   "metadata": {},
   "source": [
    "A list of aggregation functions (the names are fairly self-explanatory) includes: <br>\n",
    "avg(), count(), countDistinct(), first(), kurtosis(), max(), mean(), min(),\n",
    "skewness(), stddev(), stddev_pop(), stddev_samp(), sum(), sumDistinct(),\n",
    "var_pop(), var_samp() and variance()."
   ]
  },
  {
   "cell_type": "markdown",
   "metadata": {},
   "source": [
    "### Correlations\n",
    " - 일반 Python에서 Corr구하는 방식과 비슷하다. "
   ]
  },
  {
   "cell_type": "code",
   "execution_count": 122,
   "metadata": {
    "collapsed": false
   },
   "outputs": [
    {
     "data": {
      "text/plain": [
       "0.00044523140172659576"
      ]
     },
     "execution_count": 122,
     "metadata": {},
     "output_type": "execute_result"
    }
   ],
   "source": [
    "fraud_df.corr('balance', 'numTrans')"
   ]
  },
  {
   "cell_type": "code",
   "execution_count": 123,
   "metadata": {
    "collapsed": true
   },
   "outputs": [],
   "source": [
    "n_numerical = len(numerical)\n",
    "corr = []\n",
    "for i in range(0, n_numerical):\n",
    "    temp = [None] * i\n",
    "    for j in range(i, n_numerical):\n",
    "        temp.append(fraud_df.corr(numerical[i], numerical[j]))\n",
    "        corr.append(temp)"
   ]
  },
  {
   "cell_type": "code",
   "execution_count": 124,
   "metadata": {
    "collapsed": false
   },
   "outputs": [
    {
     "data": {
      "text/plain": [
       "[[1.0, 0.00044523140172659576, 0.00027139913398184604],\n",
       " [1.0, 0.00044523140172659576, 0.00027139913398184604],\n",
       " [1.0, 0.00044523140172659576, 0.00027139913398184604],\n",
       " [None, 1.0, -0.0002805712819816179],\n",
       " [None, 1.0, -0.0002805712819816179],\n",
       " [None, None, 1.0]]"
      ]
     },
     "execution_count": 124,
     "metadata": {},
     "output_type": "execute_result"
    }
   ],
   "source": [
    "corr"
   ]
  },
  {
   "cell_type": "markdown",
   "metadata": {},
   "source": [
    "## 5. Visualization\n",
    " - Using Matplotlib and Bokeh exclusively."
   ]
  },
  {
   "cell_type": "code",
   "execution_count": 125,
   "metadata": {
    "collapsed": true
   },
   "outputs": [],
   "source": [
    "%matplotlib inline\n",
    "import matplotlib.pyplot as plt\n",
    "plt.style.use('ggplot')"
   ]
  },
  {
   "cell_type": "code",
   "execution_count": 126,
   "metadata": {
    "collapsed": true
   },
   "outputs": [],
   "source": [
    "import bokeh.charts as chrt\n",
    "from bokeh.io import output_notebook"
   ]
  },
  {
   "cell_type": "code",
   "execution_count": 127,
   "metadata": {
    "collapsed": false
   },
   "outputs": [
    {
     "data": {
      "text/html": [
       "\n",
       "    <div class=\"bk-root\">\n",
       "        <a href=\"http://bokeh.pydata.org\" target=\"_blank\" class=\"bk-logo bk-logo-small bk-logo-notebook\"></a>\n",
       "        <span id=\"843b7ff5-d581-4f11-b30c-6924060afedd\">Loading BokehJS ...</span>\n",
       "    </div>"
      ]
     },
     "metadata": {},
     "output_type": "display_data"
    },
    {
     "data": {
      "application/javascript": [
       "\n",
       "(function(global) {\n",
       "  function now() {\n",
       "    return new Date();\n",
       "  }\n",
       "\n",
       "  var force = true;\n",
       "\n",
       "  if (typeof (window._bokeh_onload_callbacks) === \"undefined\" || force === true) {\n",
       "    window._bokeh_onload_callbacks = [];\n",
       "    window._bokeh_is_loading = undefined;\n",
       "  }\n",
       "\n",
       "\n",
       "  \n",
       "  if (typeof (window._bokeh_timeout) === \"undefined\" || force === true) {\n",
       "    window._bokeh_timeout = Date.now() + 5000;\n",
       "    window._bokeh_failed_load = false;\n",
       "  }\n",
       "\n",
       "  var NB_LOAD_WARNING = {'data': {'text/html':\n",
       "     \"<div style='background-color: #fdd'>\\n\"+\n",
       "     \"<p>\\n\"+\n",
       "     \"BokehJS does not appear to have successfully loaded. If loading BokehJS from CDN, this \\n\"+\n",
       "     \"may be due to a slow or bad network connection. Possible fixes:\\n\"+\n",
       "     \"</p>\\n\"+\n",
       "     \"<ul>\\n\"+\n",
       "     \"<li>re-rerun `output_notebook()` to attempt to load from CDN again, or</li>\\n\"+\n",
       "     \"<li>use INLINE resources instead, as so:</li>\\n\"+\n",
       "     \"</ul>\\n\"+\n",
       "     \"<code>\\n\"+\n",
       "     \"from bokeh.resources import INLINE\\n\"+\n",
       "     \"output_notebook(resources=INLINE)\\n\"+\n",
       "     \"</code>\\n\"+\n",
       "     \"</div>\"}};\n",
       "\n",
       "  function display_loaded() {\n",
       "    if (window.Bokeh !== undefined) {\n",
       "      var el = document.getElementById(\"843b7ff5-d581-4f11-b30c-6924060afedd\");\n",
       "      el.textContent = \"BokehJS \" + Bokeh.version + \" successfully loaded.\";\n",
       "    } else if (Date.now() < window._bokeh_timeout) {\n",
       "      setTimeout(display_loaded, 100)\n",
       "    }\n",
       "  }\n",
       "\n",
       "  function run_callbacks() {\n",
       "    window._bokeh_onload_callbacks.forEach(function(callback) { callback() });\n",
       "    delete window._bokeh_onload_callbacks\n",
       "    console.info(\"Bokeh: all callbacks have finished\");\n",
       "  }\n",
       "\n",
       "  function load_libs(js_urls, callback) {\n",
       "    window._bokeh_onload_callbacks.push(callback);\n",
       "    if (window._bokeh_is_loading > 0) {\n",
       "      console.log(\"Bokeh: BokehJS is being loaded, scheduling callback at\", now());\n",
       "      return null;\n",
       "    }\n",
       "    if (js_urls == null || js_urls.length === 0) {\n",
       "      run_callbacks();\n",
       "      return null;\n",
       "    }\n",
       "    console.log(\"Bokeh: BokehJS not loaded, scheduling load and callback at\", now());\n",
       "    window._bokeh_is_loading = js_urls.length;\n",
       "    for (var i = 0; i < js_urls.length; i++) {\n",
       "      var url = js_urls[i];\n",
       "      var s = document.createElement('script');\n",
       "      s.src = url;\n",
       "      s.async = false;\n",
       "      s.onreadystatechange = s.onload = function() {\n",
       "        window._bokeh_is_loading--;\n",
       "        if (window._bokeh_is_loading === 0) {\n",
       "          console.log(\"Bokeh: all BokehJS libraries loaded\");\n",
       "          run_callbacks()\n",
       "        }\n",
       "      };\n",
       "      s.onerror = function() {\n",
       "        console.warn(\"failed to load library \" + url);\n",
       "      };\n",
       "      console.log(\"Bokeh: injecting script tag for BokehJS library: \", url);\n",
       "      document.getElementsByTagName(\"head\")[0].appendChild(s);\n",
       "    }\n",
       "  };var element = document.getElementById(\"843b7ff5-d581-4f11-b30c-6924060afedd\");\n",
       "  if (element == null) {\n",
       "    console.log(\"Bokeh: ERROR: autoload.js configured with elementid '843b7ff5-d581-4f11-b30c-6924060afedd' but no matching script tag was found. \")\n",
       "    return false;\n",
       "  }\n",
       "\n",
       "  var js_urls = [\"https://cdn.pydata.org/bokeh/release/bokeh-0.12.5.min.js\", \"https://cdn.pydata.org/bokeh/release/bokeh-widgets-0.12.5.min.js\"];\n",
       "\n",
       "  var inline_js = [\n",
       "    function(Bokeh) {\n",
       "      Bokeh.set_log_level(\"info\");\n",
       "    },\n",
       "    \n",
       "    function(Bokeh) {\n",
       "      \n",
       "    },\n",
       "    \n",
       "    function(Bokeh) {\n",
       "      \n",
       "      document.getElementById(\"843b7ff5-d581-4f11-b30c-6924060afedd\").textContent = \"BokehJS is loading...\";\n",
       "    },\n",
       "    function(Bokeh) {\n",
       "      console.log(\"Bokeh: injecting CSS: https://cdn.pydata.org/bokeh/release/bokeh-0.12.5.min.css\");\n",
       "      Bokeh.embed.inject_css(\"https://cdn.pydata.org/bokeh/release/bokeh-0.12.5.min.css\");\n",
       "      console.log(\"Bokeh: injecting CSS: https://cdn.pydata.org/bokeh/release/bokeh-widgets-0.12.5.min.css\");\n",
       "      Bokeh.embed.inject_css(\"https://cdn.pydata.org/bokeh/release/bokeh-widgets-0.12.5.min.css\");\n",
       "    }\n",
       "  ];\n",
       "\n",
       "  function run_inline_js() {\n",
       "    \n",
       "    if ((window.Bokeh !== undefined) || (force === true)) {\n",
       "      for (var i = 0; i < inline_js.length; i++) {\n",
       "        inline_js[i](window.Bokeh);\n",
       "      }if (force === true) {\n",
       "        display_loaded();\n",
       "      }} else if (Date.now() < window._bokeh_timeout) {\n",
       "      setTimeout(run_inline_js, 100);\n",
       "    } else if (!window._bokeh_failed_load) {\n",
       "      console.log(\"Bokeh: BokehJS failed to load within specified timeout.\");\n",
       "      window._bokeh_failed_load = true;\n",
       "    } else if (force !== true) {\n",
       "      var cell = $(document.getElementById(\"843b7ff5-d581-4f11-b30c-6924060afedd\")).parents('.cell').data().cell;\n",
       "      cell.output_area.append_execute_result(NB_LOAD_WARNING)\n",
       "    }\n",
       "\n",
       "  }\n",
       "\n",
       "  if (window._bokeh_is_loading === 0) {\n",
       "    console.log(\"Bokeh: BokehJS loaded, going straight to plotting\");\n",
       "    run_inline_js();\n",
       "  } else {\n",
       "    load_libs(js_urls, function() {\n",
       "      console.log(\"Bokeh: BokehJS plotting callback run at\", now());\n",
       "      run_inline_js();\n",
       "    });\n",
       "  }\n",
       "}(this));"
      ]
     },
     "metadata": {},
     "output_type": "display_data"
    }
   ],
   "source": [
    "output_notebook()"
   ]
  },
  {
   "cell_type": "markdown",
   "metadata": {},
   "source": [
    " - output_notebook is same as output_notebook is same as "
   ]
  },
  {
   "cell_type": "markdown",
   "metadata": {},
   "source": [
    "### Histograms\n",
    " - There are three ways you can generate histograms in PySpark"
   ]
  },
  {
   "cell_type": "code",
   "execution_count": 128,
   "metadata": {
    "collapsed": true
   },
   "outputs": [],
   "source": [
    "hists = fraud_df.select('balance').rdd.flatMap(lambda row: row).histogram(20)"
   ]
  },
  {
   "cell_type": "code",
   "execution_count": 129,
   "metadata": {
    "collapsed": true
   },
   "outputs": [],
   "source": [
    "data = {\n",
    "    'bins': hists[0][:-1],\n",
    "    'freq': hists[1]\n",
    "}"
   ]
  },
  {
   "cell_type": "code",
   "execution_count": 130,
   "metadata": {
    "collapsed": false
   },
   "outputs": [
    {
     "data": {
      "image/png": "[encoded data removed]",
      "text/plain": [
       "<matplotlib.figure.Figure at 0x15b05f9aa90>"
      ]
     },
     "metadata": {},
     "output_type": "display_data"
    }
   ],
   "source": [
    "plt.bar(data['bins'], data['freq'], width=2000)\n",
    "plt.title('Histogram of \\'balance\\'')\n",
    "plt.savefig('B05793_05_22.png', dpi=300)"
   ]
  },
  {
   "cell_type": "markdown",
   "metadata": {},
   "source": [
    " - In a similar manner, a histogram can be create with Bokeh."
   ]
  },
  {
   "cell_type": "code",
   "execution_count": 131,
   "metadata": {
    "collapsed": false
   },
   "outputs": [
    {
     "data": {
      "text/html": [
       "\n",
       "\n",
       "    <div class=\"bk-root\">\n",
       "        <div class=\"bk-plotdiv\" id=\"7d8b6388-1c3c-4592-aee3-0605147f734f\"></div>\n",
       "    </div>\n",
       "<script type=\"text/javascript\">\n",
       "  \n",
       "  (function(global) {\n",
       "    function now() {\n",
       "      return new Date();\n",
       "    }\n",
       "  \n",
       "    var force = false;\n",
       "  \n",
       "    if (typeof (window._bokeh_onload_callbacks) === \"undefined\" || force === true) {\n",
       "      window._bokeh_onload_callbacks = [];\n",
       "      window._bokeh_is_loading = undefined;\n",
       "    }\n",
       "  \n",
       "  \n",
       "    \n",
       "    if (typeof (window._bokeh_timeout) === \"undefined\" || force === true) {\n",
       "      window._bokeh_timeout = Date.now() + 0;\n",
       "      window._bokeh_failed_load = false;\n",
       "    }\n",
       "  \n",
       "    var NB_LOAD_WARNING = {'data': {'text/html':\n",
       "       \"<div style='background-color: #fdd'>\\n\"+\n",
       "       \"<p>\\n\"+\n",
       "       \"BokehJS does not appear to have successfully loaded. If loading BokehJS from CDN, this \\n\"+\n",
       "       \"may be due to a slow or bad network connection. Possible fixes:\\n\"+\n",
       "       \"</p>\\n\"+\n",
       "       \"<ul>\\n\"+\n",
       "       \"<li>re-rerun `output_notebook()` to attempt to load from CDN again, or</li>\\n\"+\n",
       "       \"<li>use INLINE resources instead, as so:</li>\\n\"+\n",
       "       \"</ul>\\n\"+\n",
       "       \"<code>\\n\"+\n",
       "       \"from bokeh.resources import INLINE\\n\"+\n",
       "       \"output_notebook(resources=INLINE)\\n\"+\n",
       "       \"</code>\\n\"+\n",
       "       \"</div>\"}};\n",
       "  \n",
       "    function display_loaded() {\n",
       "      if (window.Bokeh !== undefined) {\n",
       "        var el = document.getElementById(\"7d8b6388-1c3c-4592-aee3-0605147f734f\");\n",
       "        el.textContent = \"BokehJS \" + Bokeh.version + \" successfully loaded.\";\n",
       "      } else if (Date.now() < window._bokeh_timeout) {\n",
       "        setTimeout(display_loaded, 100)\n",
       "      }\n",
       "    }\n",
       "  \n",
       "    function run_callbacks() {\n",
       "      window._bokeh_onload_callbacks.forEach(function(callback) { callback() });\n",
       "      delete window._bokeh_onload_callbacks\n",
       "      console.info(\"Bokeh: all callbacks have finished\");\n",
       "    }\n",
       "  \n",
       "    function load_libs(js_urls, callback) {\n",
       "      window._bokeh_onload_callbacks.push(callback);\n",
       "      if (window._bokeh_is_loading > 0) {\n",
       "        console.log(\"Bokeh: BokehJS is being loaded, scheduling callback at\", now());\n",
       "        return null;\n",
       "      }\n",
       "      if (js_urls == null || js_urls.length === 0) {\n",
       "        run_callbacks();\n",
       "        return null;\n",
       "      }\n",
       "      console.log(\"Bokeh: BokehJS not loaded, scheduling load and callback at\", now());\n",
       "      window._bokeh_is_loading = js_urls.length;\n",
       "      for (var i = 0; i < js_urls.length; i++) {\n",
       "        var url = js_urls[i];\n",
       "        var s = document.createElement('script');\n",
       "        s.src = url;\n",
       "        s.async = false;\n",
       "        s.onreadystatechange = s.onload = function() {\n",
       "          window._bokeh_is_loading--;\n",
       "          if (window._bokeh_is_loading === 0) {\n",
       "            console.log(\"Bokeh: all BokehJS libraries loaded\");\n",
       "            run_callbacks()\n",
       "          }\n",
       "        };\n",
       "        s.onerror = function() {\n",
       "          console.warn(\"failed to load library \" + url);\n",
       "        };\n",
       "        console.log(\"Bokeh: injecting script tag for BokehJS library: \", url);\n",
       "        document.getElementsByTagName(\"head\")[0].appendChild(s);\n",
       "      }\n",
       "    };var element = document.getElementById(\"7d8b6388-1c3c-4592-aee3-0605147f734f\");\n",
       "    if (element == null) {\n",
       "      console.log(\"Bokeh: ERROR: autoload.js configured with elementid '7d8b6388-1c3c-4592-aee3-0605147f734f' but no matching script tag was found. \")\n",
       "      return false;\n",
       "    }\n",
       "  \n",
       "    var js_urls = [];\n",
       "  \n",
       "    var inline_js = [\n",
       "      function(Bokeh) {\n",
       "        (function() {\n",
       "          var fn = function() {\n",
       "            var docs_json = {\"6b2ce067-7a92-4671-9a7e-96ca990577d3\":{\"roots\":{\"references\":[{\"attributes\":{\"callback\":null,\"column_names\":[\"width\",\"line_color\",\"x\",\"fill_alpha\",\"line_alpha\",\"y\",\"label\",\"height\",\"color\"],\"data\":{\"bins\":[22816.75],\"chart_index\":[{\"bins\":22816.75}],\"color\":[\"#f22c40\"],\"fill_alpha\":[0.8],\"height\":[5805.0],\"label\":[{\"bins\":22816.75}],\"line_alpha\":[1.0],\"line_color\":[\"white\"],\"width\":[0.8],\"x\":[\"22816.75\"],\"y\":[2902.5]}},\"id\":\"ee51056c-0c88-4524-b865-7a8ee66ec669\",\"type\":\"ColumnDataSource\"},{\"attributes\":{\"below\":[{\"id\":\"d1222663-8f1f-440f-b629-772758397b38\",\"type\":\"CategoricalAxis\"}],\"css_classes\":null,\"left\":[{\"id\":\"f8b4e01e-1c23-4cb4-bf2f-a2621a2e21d9\",\"type\":\"LinearAxis\"}],\"renderers\":[{\"id\":\"08b4f1e6-85a3-4ae3-aa4a-c8acfe1c357c\",\"type\":\"BoxAnnotation\"},{\"id\":\"a6fe4e0c-750e-44aa-806a-b36fe0f916c4\",\"type\":\"GlyphRenderer\"},{\"id\":\"6050db8f-1f73-425d-8cd2-b3b821ca9334\",\"type\":\"GlyphRenderer\"},{\"id\":\"7d904dc8-9316-4fe6-9529-f8d731ba0aa9\",\"type\":\"GlyphRenderer\"},{\"id\":\"addd8fb1-ef49-4261-a292-8a3f0e62c65d\",\"type\":\"GlyphRenderer\"},{\"id\":\"f5589bb5-70ed-4189-8b71-7591557bfef6\",\"type\":\"GlyphRenderer\"},{\"id\":\"14754e6b-88ec-441e-ad1f-c7ddc80211a0\",\"type\":\"GlyphRenderer\"},{\"id\":\"8b599f9b-4b02-4c4b-95f5-47a6d1972bc0\",\"type\":\"GlyphRenderer\"},{\"id\":\"938ad3d3-4bc0-4a01-9e30-85d1ad159b90\",\"type\":\"GlyphRenderer\"},{\"id\":\"4ae01223-2a21-4290-b86b-52ccdf6539b6\",\"type\":\"GlyphRenderer\"},{\"id\":\"7e776ec0-d4ca-4938-90bf-6b42b7553bbb\",\"type\":\"GlyphRenderer\"},{\"id\":\"f0eb2236-5e1d-4d6c-a927-8534bb1e7770\",\"type\":\"GlyphRenderer\"},{\"id\":\"7492f0e4-96b8-4a9e-b0c1-3a18c5a2947e\",\"type\":\"GlyphRenderer\"},{\"id\":\"32df140d-e34d-4376-a732-b75b9bbc6161\",\"type\":\"GlyphRenderer\"},{\"id\":\"49033e22-6499-4f47-93e7-b2bbd6ecf364\",\"type\":\"GlyphRenderer\"},{\"id\":\"dddb50dc-91c6-4169-95a5-b5c82c4b8d03\",\"type\":\"GlyphRenderer\"},{\"id\":\"20c98b30-b4d0-4398-aa0a-588002b611ad\",\"type\":\"GlyphRenderer\"},{\"id\":\"6e7431ce-c0d8-4ade-9995-54922b28308d\",\"type\":\"GlyphRenderer\"},{\"id\":\"3dc6cd0f-e404-4e2e-8e20-c853a056de76\",\"type\":\"GlyphRenderer\"},{\"id\":\"366d0c23-0f90-4f8a-bfe6-fee4c865bc8f\",\"type\":\"GlyphRenderer\"},{\"id\":\"3b5e0057-87b0-4c5d-871f-53104b541b61\",\"type\":\"GlyphRenderer\"},{\"id\":\"eff711c5-cc38-4dfe-b9ac-533cd610861c\",\"type\":\"Legend\"},{\"id\":\"d1222663-8f1f-440f-b629-772758397b38\",\"type\":\"CategoricalAxis\"},{\"id\":\"f8b4e01e-1c23-4cb4-bf2f-a2621a2e21d9\",\"type\":\"LinearAxis\"},{\"id\":\"7ddf2815-4e85-4ba0-bad6-500742249fdb\",\"type\":\"Grid\"}],\"title\":{\"id\":\"f196c425-5dca-4611-8891-8170d8936c83\",\"type\":\"Title\"},\"tool_events\":{\"id\":\"f8bbe993-4b93-460a-a32c-d29bf1a95534\",\"type\":\"ToolEvents\"},\"toolbar\":{\"id\":\"5fff33a4-1afd-4a03-872c-049fc942bf84\",\"type\":\"Toolbar\"},\"x_mapper_type\":\"auto\",\"x_range\":{\"id\":\"0257944f-fae3-4642-a32e-bbcd79404257\",\"type\":\"FactorRange\"},\"y_mapper_type\":\"auto\",\"y_range\":{\"id\":\"7bebaaed-a263-4e63-bd12-8e6b514f734f\",\"type\":\"Range1d\"}},\"id\":\"46afea54-6136-40ca-9664-b86eb59be2e8\",\"subtype\":\"Chart\",\"type\":\"Plot\"},{\"attributes\":{\"callback\":null,\"column_names\":[\"width\",\"line_color\",\"x\",\"fill_alpha\",\"line_alpha\",\"y\",\"label\",\"height\",\"color\"],\"data\":{\"bins\":[18668.25],\"chart_index\":[{\"bins\":18668.25}],\"color\":[\"#f22c40\"],\"fill_alpha\":[0.8],\"height\":[27570.0],\"label\":[{\"bins\":18668.25}],\"line_alpha\":[1.0],\"line_color\":[\"white\"],\"width\":[0.8],\"x\":[\"18668.25\"],\"y\":[13785.0]}},\"id\":\"27280484-800e-4fbe-8198-646e6a48c3c3\",\"type\":\"ColumnDataSource\"},{\"attributes\":{\"data_source\":{\"id\":\"fa334687-eec5-4349-8055-8b2c69eecf3d\",\"type\":\"ColumnDataSource\"},\"glyph\":{\"id\":\"f7de460d-73bd-4574-b070-892e0663f3d5\",\"type\":\"Rect\"},\"hover_glyph\":null,\"muted_glyph\":null},\"id\":\"f0eb2236-5e1d-4d6c-a927-8534bb1e7770\",\"type\":\"GlyphRenderer\"},{\"attributes\":{\"data_source\":{\"id\":\"8baa59e8-e9a2-4308-858d-525d532f64c0\",\"type\":\"ColumnDataSource\"},\"glyph\":{\"id\":\"e2f5436d-f162-452c-b36c-ebb8f0ca4dab\",\"type\":\"Rect\"},\"hover_glyph\":null,\"muted_glyph\":null},\"id\":\"20c98b30-b4d0-4398-aa0a-588002b611ad\",\"type\":\"GlyphRenderer\"},{\"attributes\":{\"data_source\":{\"id\":\"904675ce-ea0b-483c-bd00-bd99a2d34a2e\",\"type\":\"ColumnDataSource\"},\"glyph\":{\"id\":\"ec66bd33-d450-4481-af2e-f7ed56dcf2aa\",\"type\":\"Rect\"},\"hover_glyph\":null,\"muted_glyph\":null},\"id\":\"6e7431ce-c0d8-4ade-9995-54922b28308d\",\"type\":\"GlyphRenderer\"},{\"attributes\":{\"label\":{\"value\":\"37336.5\"},\"renderers\":[{\"id\":\"366d0c23-0f90-4f8a-bfe6-fee4c865bc8f\",\"type\":\"GlyphRenderer\"}]},\"id\":\"324eb277-e5e0-42a5-9388-efe3c5a254ca\",\"type\":\"LegendItem\"},{\"attributes\":{\"data_source\":{\"id\":\"8db8b0d1-a743-404f-9510-bf581c1fd011\",\"type\":\"ColumnDataSource\"},\"glyph\":{\"id\":\"31288931-9478-4efb-a9a1-db881807fb0b\",\"type\":\"Rect\"},\"hover_glyph\":null,\"muted_glyph\":null},\"id\":\"dddb50dc-91c6-4169-95a5-b5c82c4b8d03\",\"type\":\"GlyphRenderer\"},{\"attributes\":{\"data_source\":{\"id\":\"21f05439-d588-4a93-83db-48f6653665e5\",\"type\":\"ColumnDataSource\"},\"glyph\":{\"id\":\"2eb98ae8-58e5-4c64-a875-e3f680677502\",\"type\":\"Rect\"},\"hover_glyph\":null,\"muted_glyph\":null},\"id\":\"938ad3d3-4bc0-4a01-9e30-85d1ad159b90\",\"type\":\"GlyphRenderer\"},{\"attributes\":{\"plot\":{\"id\":\"46afea54-6136-40ca-9664-b86eb59be2e8\",\"subtype\":\"Chart\",\"type\":\"Plot\"}},\"id\":\"c1eb6cec-42f7-4848-95d5-5a1942bf6eea\",\"type\":\"SaveTool\"},{\"attributes\":{\"callback\":null,\"column_names\":[\"width\",\"line_color\",\"x\",\"fill_alpha\",\"line_alpha\",\"y\",\"label\",\"height\",\"color\"],\"data\":{\"bins\":[35262.25],\"chart_index\":[{\"bins\":35262.25}],\"color\":[\"#f22c40\"],\"fill_alpha\":[0.8],\"height\":[15.0],\"label\":[{\"bins\":35262.25}],\"line_alpha\":[1.0],\"line_color\":[\"white\"],\"width\":[0.8],\"x\":[\"35262.25\"],\"y\":[7.5]}},\"id\":\"c2c42b4f-e151-4d6a-87a5-9c4b41b81d0c\",\"type\":\"ColumnDataSource\"},{\"attributes\":{\"data_source\":{\"id\":\"e1ed7e34-d9af-4313-9a56-181024af0db9\",\"type\":\"ColumnDataSource\"},\"glyph\":{\"id\":\"54be20e4-121e-429b-877c-0acdd76fbe11\",\"type\":\"Rect\"},\"hover_glyph\":null,\"muted_glyph\":null},\"id\":\"f5589bb5-70ed-4189-8b71-7591557bfef6\",\"type\":\"GlyphRenderer\"},{\"attributes\":{\"data_source\":{\"id\":\"75d87435-b06a-4654-a805-3206287fe2d3\",\"type\":\"ColumnDataSource\"},\"glyph\":{\"id\":\"8b9baa64-f878-4cb4-8252-2c0760c2e86c\",\"type\":\"Rect\"},\"hover_glyph\":null,\"muted_glyph\":null},\"id\":\"addd8fb1-ef49-4261-a292-8a3f0e62c65d\",\"type\":\"GlyphRenderer\"},{\"attributes\":{\"data_source\":{\"id\":\"cdf0d1fa-2ba7-4d59-9a5c-a66e1108769e\",\"type\":\"ColumnDataSource\"},\"glyph\":{\"id\":\"a05bff73-c9fb-4f81-84a2-769f9586f265\",\"type\":\"Rect\"},\"hover_glyph\":null,\"muted_glyph\":null},\"id\":\"3b5e0057-87b0-4c5d-871f-53104b541b61\",\"type\":\"GlyphRenderer\"},{\"attributes\":{\"data_source\":{\"id\":\"c1d710e4-acae-4f92-83b6-44e5f7ac921d\",\"type\":\"ColumnDataSource\"},\"glyph\":{\"id\":\"2369612b-2907-49e1-b554-970a7290d70b\",\"type\":\"Rect\"},\"hover_glyph\":null,\"muted_glyph\":null},\"id\":\"a6fe4e0c-750e-44aa-806a-b36fe0f916c4\",\"type\":\"GlyphRenderer\"},{\"attributes\":{\"label\":{\"value\":\"2074.25\"},\"renderers\":[{\"id\":\"6050db8f-1f73-425d-8cd2-b3b821ca9334\",\"type\":\"GlyphRenderer\"}]},\"id\":\"ac43fffa-c56b-418e-930d-a84621846ca6\",\"type\":\"LegendItem\"},{\"attributes\":{\"label\":{\"value\":\"4148.5\"},\"renderers\":[{\"id\":\"7d904dc8-9316-4fe6-9529-f8d731ba0aa9\",\"type\":\"GlyphRenderer\"}]},\"id\":\"6d0b7ad6-f102-46dc-8c0c-b006e8bd4580\",\"type\":\"LegendItem\"},{\"attributes\":{\"fill_alpha\":{\"field\":\"fill_alpha\"},\"fill_color\":{\"field\":\"color\"},\"height\":{\"field\":\"height\",\"units\":\"data\"},\"line_color\":{\"field\":\"line_color\"},\"width\":{\"field\":\"width\",\"units\":\"data\"},\"x\":{\"field\":\"x\"},\"y\":{\"field\":\"y\"}},\"id\":\"a05bff73-c9fb-4f81-84a2-769f9586f265\",\"type\":\"Rect\"},{\"attributes\":{\"fill_alpha\":{\"field\":\"fill_alpha\"},\"fill_color\":{\"field\":\"color\"},\"height\":{\"field\":\"height\",\"units\":\"data\"},\"line_color\":{\"field\":\"line_color\"},\"width\":{\"field\":\"width\",\"units\":\"data\"},\"x\":{\"field\":\"x\"},\"y\":{\"field\":\"y\"}},\"id\":\"f7de460d-73bd-4574-b070-892e0663f3d5\",\"type\":\"Rect\"},{\"attributes\":{\"data_source\":{\"id\":\"6073eff3-15d0-4604-be0b-8ea73fa1e410\",\"type\":\"ColumnDataSource\"},\"glyph\":{\"id\":\"ebd392d8-9b13-4df5-bccc-a7aa4f591e28\",\"type\":\"Rect\"},\"hover_glyph\":null,\"muted_glyph\":null},\"id\":\"32df140d-e34d-4376-a732-b75b9bbc6161\",\"type\":\"GlyphRenderer\"},{\"attributes\":{\"data_source\":{\"id\":\"954e5ae1-9c85-4b40-99ba-ee69e59ec544\",\"type\":\"ColumnDataSource\"},\"glyph\":{\"id\":\"e9dc07e1-4f21-4194-9a06-241796438aea\",\"type\":\"Rect\"},\"hover_glyph\":null,\"muted_glyph\":null},\"id\":\"14754e6b-88ec-441e-ad1f-c7ddc80211a0\",\"type\":\"GlyphRenderer\"},{\"attributes\":{\"callback\":null,\"column_names\":[\"width\",\"line_color\",\"x\",\"fill_alpha\",\"line_alpha\",\"y\",\"label\",\"height\",\"color\"],\"data\":{\"bins\":[10371.25],\"chart_index\":[{\"bins\":10371.25}],\"color\":[\"#f22c40\"],\"fill_alpha\":[0.8],\"height\":[343461.0],\"label\":[{\"bins\":10371.25}],\"line_alpha\":[1.0],\"line_color\":[\"white\"],\"width\":[0.8],\"x\":[\"10371.25\"],\"y\":[171730.5]}},\"id\":\"954e5ae1-9c85-4b40-99ba-ee69e59ec544\",\"type\":\"ColumnDataSource\"},{\"attributes\":{\"callback\":null,\"column_names\":[\"width\",\"line_color\",\"x\",\"fill_alpha\",\"line_alpha\",\"y\",\"label\",\"height\",\"color\"],\"data\":{\"bins\":[39410.75],\"chart_index\":[{\"bins\":39410.75}],\"color\":[\"#f22c40\"],\"fill_alpha\":[0.8],\"height\":[4.0],\"label\":[{\"bins\":39410.75}],\"line_alpha\":[1.0],\"line_color\":[\"white\"],\"width\":[0.8],\"x\":[\"39410.75\"],\"y\":[2.0]}},\"id\":\"cdf0d1fa-2ba7-4d59-9a5c-a66e1108769e\",\"type\":\"ColumnDataSource\"},{\"attributes\":{\"fill_alpha\":{\"field\":\"fill_alpha\"},\"fill_color\":{\"field\":\"color\"},\"height\":{\"field\":\"height\",\"units\":\"data\"},\"line_color\":{\"field\":\"line_color\"},\"width\":{\"field\":\"width\",\"units\":\"data\"},\"x\":{\"field\":\"x\"},\"y\":{\"field\":\"y\"}},\"id\":\"ebd392d8-9b13-4df5-bccc-a7aa4f591e28\",\"type\":\"Rect\"},{\"attributes\":{\"fill_alpha\":{\"field\":\"fill_alpha\"},\"fill_color\":{\"field\":\"color\"},\"height\":{\"field\":\"height\",\"units\":\"data\"},\"line_color\":{\"field\":\"line_color\"},\"width\":{\"field\":\"width\",\"units\":\"data\"},\"x\":{\"field\":\"x\"},\"y\":{\"field\":\"y\"}},\"id\":\"3922c11d-b86c-4b8d-bff1-e1296cc18250\",\"type\":\"Rect\"},{\"attributes\":{\"fill_alpha\":{\"field\":\"fill_alpha\"},\"fill_color\":{\"field\":\"color\"},\"height\":{\"field\":\"height\",\"units\":\"data\"},\"line_color\":{\"field\":\"line_color\"},\"width\":{\"field\":\"width\",\"units\":\"data\"},\"x\":{\"field\":\"x\"},\"y\":{\"field\":\"y\"}},\"id\":\"c7afa947-4e8a-4950-8fba-213d1133b129\",\"type\":\"Rect\"},{\"attributes\":{\"label\":{\"value\":\"33188.0\"},\"renderers\":[{\"id\":\"6e7431ce-c0d8-4ade-9995-54922b28308d\",\"type\":\"GlyphRenderer\"}]},\"id\":\"2685ecd3-c724-4c0d-953e-90f397fb9150\",\"type\":\"LegendItem\"},{\"attributes\":{\"callback\":null,\"column_names\":[\"width\",\"line_color\",\"x\",\"fill_alpha\",\"line_alpha\",\"y\",\"label\",\"height\",\"color\"],\"data\":{\"bins\":[37336.5],\"chart_index\":[{\"bins\":37336.5}],\"color\":[\"#f22c40\"],\"fill_alpha\":[0.8],\"height\":[1.0],\"label\":[{\"bins\":37336.5}],\"line_alpha\":[1.0],\"line_color\":[\"white\"],\"width\":[0.8],\"x\":[\"37336.5\"],\"y\":[0.5]}},\"id\":\"3511576b-06c6-483d-bc90-5763511c10a6\",\"type\":\"ColumnDataSource\"},{\"attributes\":{\"plot\":{\"id\":\"46afea54-6136-40ca-9664-b86eb59be2e8\",\"subtype\":\"Chart\",\"type\":\"Plot\"}},\"id\":\"3c3f8005-70e6-4ee2-8bdf-0780a4ac664d\",\"type\":\"ResetTool\"},{\"attributes\":{\"data_source\":{\"id\":\"c2c42b4f-e151-4d6a-87a5-9c4b41b81d0c\",\"type\":\"ColumnDataSource\"},\"glyph\":{\"id\":\"eb17eb6a-3d16-4f48-9236-14e86f8ffeb4\",\"type\":\"Rect\"},\"hover_glyph\":null,\"muted_glyph\":null},\"id\":\"3dc6cd0f-e404-4e2e-8e20-c853a056de76\",\"type\":\"GlyphRenderer\"},{\"attributes\":{\"callback\":null,\"column_names\":[\"width\",\"line_color\",\"x\",\"fill_alpha\",\"line_alpha\",\"y\",\"label\",\"height\",\"color\"],\"data\":{\"bins\":[0.0],\"chart_index\":[{\"bins\":0.0}],\"color\":[\"#f22c40\"],\"fill_alpha\":[0.8],\"height\":[3640021.0],\"label\":[{\"bins\":0.0}],\"line_alpha\":[1.0],\"line_color\":[\"white\"],\"width\":[0.8],\"x\":[\"0.0\"],\"y\":[1820010.5]}},\"id\":\"c1d710e4-acae-4f92-83b6-44e5f7ac921d\",\"type\":\"ColumnDataSource\"},{\"attributes\":{\"label\":{\"value\":\"12445.5\"},\"renderers\":[{\"id\":\"8b599f9b-4b02-4c4b-95f5-47a6d1972bc0\",\"type\":\"GlyphRenderer\"}]},\"id\":\"0f41ec7c-bc11-4636-bd32-730710e72b32\",\"type\":\"LegendItem\"},{\"attributes\":{\"label\":{\"value\":\"26965.25\"},\"renderers\":[{\"id\":\"49033e22-6499-4f47-93e7-b2bbd6ecf364\",\"type\":\"GlyphRenderer\"}]},\"id\":\"65f7961e-a058-42a3-aa8a-6f88d4116a08\",\"type\":\"LegendItem\"},{\"attributes\":{\"callback\":null,\"column_names\":[\"width\",\"line_color\",\"x\",\"fill_alpha\",\"line_alpha\",\"y\",\"label\",\"height\",\"color\"],\"data\":{\"bins\":[16594.0],\"chart_index\":[{\"bins\":16594.0}],\"color\":[\"#f22c40\"],\"fill_alpha\":[0.8],\"height\":[54517.0],\"label\":[{\"bins\":16594.0}],\"line_alpha\":[1.0],\"line_color\":[\"white\"],\"width\":[0.8],\"x\":[\"16594.0\"],\"y\":[27258.5]}},\"id\":\"9b4bb938-a2f3-4e95-baed-3e499998034e\",\"type\":\"ColumnDataSource\"},{\"attributes\":{\"callback\":null,\"factors\":[\"0.0\",\"2074.25\",\"4148.5\",\"6222.75\",\"8297.0\",\"10371.25\",\"12445.5\",\"14519.75\",\"16594.0\",\"18668.25\",\"20742.5\",\"22816.75\",\"24891.0\",\"26965.25\",\"29039.5\",\"31113.75\",\"33188.0\",\"35262.25\",\"37336.5\",\"39410.75\"]},\"id\":\"0257944f-fae3-4642-a32e-bbcd79404257\",\"type\":\"FactorRange\"},{\"attributes\":{\"fill_alpha\":{\"field\":\"fill_alpha\"},\"fill_color\":{\"field\":\"color\"},\"height\":{\"field\":\"height\",\"units\":\"data\"},\"line_color\":{\"field\":\"line_color\"},\"width\":{\"field\":\"width\",\"units\":\"data\"},\"x\":{\"field\":\"x\"},\"y\":{\"field\":\"y\"}},\"id\":\"8b9baa64-f878-4cb4-8252-2c0760c2e86c\",\"type\":\"Rect\"},{\"attributes\":{},\"id\":\"58dd1bc0-4643-4f45-842f-fd3296f83337\",\"type\":\"BasicTicker\"},{\"attributes\":{\"callback\":null,\"column_names\":[\"width\",\"line_color\",\"x\",\"fill_alpha\",\"line_alpha\",\"y\",\"label\",\"height\",\"color\"],\"data\":{\"bins\":[26965.25],\"chart_index\":[{\"bins\":26965.25}],\"color\":[\"#f22c40\"],\"fill_alpha\":[0.8],\"height\":[1103.0],\"label\":[{\"bins\":26965.25}],\"line_alpha\":[1.0],\"line_color\":[\"white\"],\"width\":[0.8],\"x\":[\"26965.25\"],\"y\":[551.5]}},\"id\":\"9ec82e7a-3ec1-4f58-bf10-dba4a88e46df\",\"type\":\"ColumnDataSource\"},{\"attributes\":{\"fill_alpha\":{\"field\":\"fill_alpha\"},\"fill_color\":{\"field\":\"color\"},\"height\":{\"field\":\"height\",\"units\":\"data\"},\"line_color\":{\"field\":\"line_color\"},\"width\":{\"field\":\"width\",\"units\":\"data\"},\"x\":{\"field\":\"x\"},\"y\":{\"field\":\"y\"}},\"id\":\"54be20e4-121e-429b-877c-0acdd76fbe11\",\"type\":\"Rect\"},{\"attributes\":{\"fill_alpha\":{\"field\":\"fill_alpha\"},\"fill_color\":{\"field\":\"color\"},\"height\":{\"field\":\"height\",\"units\":\"data\"},\"line_color\":{\"field\":\"line_color\"},\"width\":{\"field\":\"width\",\"units\":\"data\"},\"x\":{\"field\":\"x\"},\"y\":{\"field\":\"y\"}},\"id\":\"06c740a1-6943-4b5d-915c-fa30dc636de5\",\"type\":\"Rect\"},{\"attributes\":{\"fill_alpha\":{\"field\":\"fill_alpha\"},\"fill_color\":{\"field\":\"color\"},\"height\":{\"field\":\"height\",\"units\":\"data\"},\"line_color\":{\"field\":\"line_color\"},\"width\":{\"field\":\"width\",\"units\":\"data\"},\"x\":{\"field\":\"x\"},\"y\":{\"field\":\"y\"}},\"id\":\"2369612b-2907-49e1-b554-970a7290d70b\",\"type\":\"Rect\"},{\"attributes\":{\"label\":{\"value\":\"35262.25\"},\"renderers\":[{\"id\":\"3dc6cd0f-e404-4e2e-8e20-c853a056de76\",\"type\":\"GlyphRenderer\"}]},\"id\":\"ba30a38c-82cf-4a58-add1-e63269897fa6\",\"type\":\"LegendItem\"},{\"attributes\":{\"label\":{\"value\":\"29039.5\"},\"renderers\":[{\"id\":\"dddb50dc-91c6-4169-95a5-b5c82c4b8d03\",\"type\":\"GlyphRenderer\"}]},\"id\":\"00b38f5e-25af-411b-8fd7-5923e692693d\",\"type\":\"LegendItem\"},{\"attributes\":{\"label\":{\"value\":\"8297.0\"},\"renderers\":[{\"id\":\"f5589bb5-70ed-4189-8b71-7591557bfef6\",\"type\":\"GlyphRenderer\"}]},\"id\":\"037f02c0-bf57-4a8c-9422-737376cb8466\",\"type\":\"LegendItem\"},{\"attributes\":{\"label\":{\"value\":\"10371.25\"},\"renderers\":[{\"id\":\"14754e6b-88ec-441e-ad1f-c7ddc80211a0\",\"type\":\"GlyphRenderer\"}]},\"id\":\"66f6fb74-cb60-4d8b-8418-e0de7d150ac5\",\"type\":\"LegendItem\"},{\"attributes\":{\"label\":{\"value\":\"18668.25\"},\"renderers\":[{\"id\":\"7e776ec0-d4ca-4938-90bf-6b42b7553bbb\",\"type\":\"GlyphRenderer\"}]},\"id\":\"fc37800f-cfa4-4d0a-b899-4140315d23f4\",\"type\":\"LegendItem\"},{\"attributes\":{},\"id\":\"1136a414-6fca-4727-8286-6b82cfac097f\",\"type\":\"CategoricalTickFormatter\"},{\"attributes\":{\"fill_alpha\":{\"field\":\"fill_alpha\"},\"fill_color\":{\"field\":\"color\"},\"height\":{\"field\":\"height\",\"units\":\"data\"},\"line_color\":{\"field\":\"line_color\"},\"width\":{\"field\":\"width\",\"units\":\"data\"},\"x\":{\"field\":\"x\"},\"y\":{\"field\":\"y\"}},\"id\":\"eb17eb6a-3d16-4f48-9236-14e86f8ffeb4\",\"type\":\"Rect\"},{\"attributes\":{\"label\":{\"value\":\"39410.75\"},\"renderers\":[{\"id\":\"3b5e0057-87b0-4c5d-871f-53104b541b61\",\"type\":\"GlyphRenderer\"}]},\"id\":\"39db9d67-910c-41d5-9466-1a8673148bdc\",\"type\":\"LegendItem\"},{\"attributes\":{\"data_source\":{\"id\":\"27280484-800e-4fbe-8198-646e6a48c3c3\",\"type\":\"ColumnDataSource\"},\"glyph\":{\"id\":\"c7afa947-4e8a-4950-8fba-213d1133b129\",\"type\":\"Rect\"},\"hover_glyph\":null,\"muted_glyph\":null},\"id\":\"7e776ec0-d4ca-4938-90bf-6b42b7553bbb\",\"type\":\"GlyphRenderer\"},{\"attributes\":{\"callback\":null,\"column_names\":[\"width\",\"line_color\",\"x\",\"fill_alpha\",\"line_alpha\",\"y\",\"label\",\"height\",\"color\"],\"data\":{\"bins\":[6222.75],\"chart_index\":[{\"bins\":6222.75}],\"color\":[\"#f22c40\"],\"fill_alpha\":[0.8],\"height\":[1035019.0],\"label\":[{\"bins\":6222.75}],\"line_alpha\":[1.0],\"line_color\":[\"white\"],\"width\":[0.8],\"x\":[\"6222.75\"],\"y\":[517509.5]}},\"id\":\"75d87435-b06a-4654-a805-3206287fe2d3\",\"type\":\"ColumnDataSource\"},{\"attributes\":{\"label\":{\"value\":\"22816.75\"},\"renderers\":[{\"id\":\"7492f0e4-96b8-4a9e-b0c1-3a18c5a2947e\",\"type\":\"GlyphRenderer\"}]},\"id\":\"5f09768b-a259-4f02-bb09-e6d504a24ac1\",\"type\":\"LegendItem\"},{\"attributes\":{\"fill_alpha\":{\"field\":\"fill_alpha\"},\"fill_color\":{\"field\":\"color\"},\"height\":{\"field\":\"height\",\"units\":\"data\"},\"line_color\":{\"field\":\"line_color\"},\"width\":{\"field\":\"width\",\"units\":\"data\"},\"x\":{\"field\":\"x\"},\"y\":{\"field\":\"y\"}},\"id\":\"4e4e2848-bdea-4f63-a14c-38cd3ed86b17\",\"type\":\"Rect\"},{\"attributes\":{\"label\":{\"value\":\"31113.75\"},\"renderers\":[{\"id\":\"20c98b30-b4d0-4398-aa0a-588002b611ad\",\"type\":\"GlyphRenderer\"}]},\"id\":\"4ffe21f4-c72e-419b-9452-09c79bdf57ac\",\"type\":\"LegendItem\"},{\"attributes\":{},\"id\":\"d7c36a71-fbdb-417f-97fa-732296090ef8\",\"type\":\"CategoricalTicker\"},{\"attributes\":{\"fill_alpha\":{\"field\":\"fill_alpha\"},\"fill_color\":{\"field\":\"color\"},\"height\":{\"field\":\"height\",\"units\":\"data\"},\"line_color\":{\"field\":\"line_color\"},\"width\":{\"field\":\"width\",\"units\":\"data\"},\"x\":{\"field\":\"x\"},\"y\":{\"field\":\"y\"}},\"id\":\"2eb98ae8-58e5-4c64-a875-e3f680677502\",\"type\":\"Rect\"},{\"attributes\":{\"overlay\":{\"id\":\"08b4f1e6-85a3-4ae3-aa4a-c8acfe1c357c\",\"type\":\"BoxAnnotation\"},\"plot\":{\"id\":\"46afea54-6136-40ca-9664-b86eb59be2e8\",\"subtype\":\"Chart\",\"type\":\"Plot\"}},\"id\":\"44f10fcb-b652-4ccf-8dd9-a2b8cb6976d8\",\"type\":\"BoxZoomTool\"},{\"attributes\":{\"bottom_units\":\"screen\",\"fill_alpha\":{\"value\":0.5},\"fill_color\":{\"value\":\"lightgrey\"},\"left_units\":\"screen\",\"level\":\"overlay\",\"line_alpha\":{\"value\":1.0},\"line_color\":{\"value\":\"black\"},\"line_dash\":[4,4],\"line_width\":{\"value\":2},\"plot\":null,\"render_mode\":\"css\",\"right_units\":\"screen\",\"top_units\":\"screen\"},\"id\":\"08b4f1e6-85a3-4ae3-aa4a-c8acfe1c357c\",\"type\":\"BoxAnnotation\"},{\"attributes\":{\"active_drag\":\"auto\",\"active_scroll\":\"auto\",\"active_tap\":\"auto\",\"tools\":[{\"id\":\"c6b02e93-2795-4a0f-abcd-851ef2a9452a\",\"type\":\"PanTool\"},{\"id\":\"c1fd94f4-7d8a-4ff5-8b9e-5b758704f149\",\"type\":\"WheelZoomTool\"},{\"id\":\"44f10fcb-b652-4ccf-8dd9-a2b8cb6976d8\",\"type\":\"BoxZoomTool\"},{\"id\":\"c1eb6cec-42f7-4848-95d5-5a1942bf6eea\",\"type\":\"SaveTool\"},{\"id\":\"3c3f8005-70e6-4ee2-8bdf-0780a4ac664d\",\"type\":\"ResetTool\"},{\"id\":\"2138a7ce-ee83-4f90-8072-7c459fe96355\",\"type\":\"HelpTool\"}]},\"id\":\"5fff33a4-1afd-4a03-872c-049fc942bf84\",\"type\":\"Toolbar\"},{\"attributes\":{\"axis_label\":\"Bins\",\"formatter\":{\"id\":\"1136a414-6fca-4727-8286-6b82cfac097f\",\"type\":\"CategoricalTickFormatter\"},\"major_label_orientation\":0.7853981633974483,\"plot\":{\"id\":\"46afea54-6136-40ca-9664-b86eb59be2e8\",\"subtype\":\"Chart\",\"type\":\"Plot\"},\"ticker\":{\"id\":\"d7c36a71-fbdb-417f-97fa-732296090ef8\",\"type\":\"CategoricalTicker\"}},\"id\":\"d1222663-8f1f-440f-b629-772758397b38\",\"type\":\"CategoricalAxis\"},{\"attributes\":{\"label\":{\"value\":\"20742.5\"},\"renderers\":[{\"id\":\"f0eb2236-5e1d-4d6c-a927-8534bb1e7770\",\"type\":\"GlyphRenderer\"}]},\"id\":\"a91846fe-088e-481a-b94c-a4fbc6c329de\",\"type\":\"LegendItem\"},{\"attributes\":{\"label\":{\"value\":\"0.0\"},\"renderers\":[{\"id\":\"a6fe4e0c-750e-44aa-806a-b36fe0f916c4\",\"type\":\"GlyphRenderer\"}]},\"id\":\"06845487-9186-4d45-9400-e1aa570ab7ff\",\"type\":\"LegendItem\"},{\"attributes\":{\"data_source\":{\"id\":\"3511576b-06c6-483d-bc90-5763511c10a6\",\"type\":\"ColumnDataSource\"},\"glyph\":{\"id\":\"d94e0029-bd51-4487-9369-7867946f632f\",\"type\":\"Rect\"},\"hover_glyph\":null,\"muted_glyph\":null},\"id\":\"366d0c23-0f90-4f8a-bfe6-fee4c865bc8f\",\"type\":\"GlyphRenderer\"},{\"attributes\":{\"callback\":null,\"column_names\":[\"width\",\"line_color\",\"x\",\"fill_alpha\",\"line_alpha\",\"y\",\"label\",\"height\",\"color\"],\"data\":{\"bins\":[14519.75],\"chart_index\":[{\"bins\":14519.75}],\"color\":[\"#f22c40\"],\"fill_alpha\":[0.8],\"height\":[104486.0],\"label\":[{\"bins\":14519.75}],\"line_alpha\":[1.0],\"line_color\":[\"white\"],\"width\":[0.8],\"x\":[\"14519.75\"],\"y\":[52243.0]}},\"id\":\"21f05439-d588-4a93-83db-48f6653665e5\",\"type\":\"ColumnDataSource\"},{\"attributes\":{\"items\":[{\"id\":\"06845487-9186-4d45-9400-e1aa570ab7ff\",\"type\":\"LegendItem\"},{\"id\":\"ac43fffa-c56b-418e-930d-a84621846ca6\",\"type\":\"LegendItem\"},{\"id\":\"6d0b7ad6-f102-46dc-8c0c-b006e8bd4580\",\"type\":\"LegendItem\"},{\"id\":\"6127e598-8417-4ae4-b3d9-8ad9647e5058\",\"type\":\"LegendItem\"},{\"id\":\"037f02c0-bf57-4a8c-9422-737376cb8466\",\"type\":\"LegendItem\"},{\"id\":\"66f6fb74-cb60-4d8b-8418-e0de7d150ac5\",\"type\":\"LegendItem\"},{\"id\":\"0f41ec7c-bc11-4636-bd32-730710e72b32\",\"type\":\"LegendItem\"},{\"id\":\"9d02e9ba-70a6-4cd8-8e0d-72187c95c7a8\",\"type\":\"LegendItem\"},{\"id\":\"fce63c8d-6676-4524-bbe7-8c035049a4e6\",\"type\":\"LegendItem\"},{\"id\":\"fc37800f-cfa4-4d0a-b899-4140315d23f4\",\"type\":\"LegendItem\"},{\"id\":\"a91846fe-088e-481a-b94c-a4fbc6c329de\",\"type\":\"LegendItem\"},{\"id\":\"5f09768b-a259-4f02-bb09-e6d504a24ac1\",\"type\":\"LegendItem\"},{\"id\":\"a6137ecc-1f77-4826-b75d-6484c83cd493\",\"type\":\"LegendItem\"},{\"id\":\"65f7961e-a058-42a3-aa8a-6f88d4116a08\",\"type\":\"LegendItem\"},{\"id\":\"00b38f5e-25af-411b-8fd7-5923e692693d\",\"type\":\"LegendItem\"},{\"id\":\"4ffe21f4-c72e-419b-9452-09c79bdf57ac\",\"type\":\"LegendItem\"},{\"id\":\"2685ecd3-c724-4c0d-953e-90f397fb9150\",\"type\":\"LegendItem\"},{\"id\":\"ba30a38c-82cf-4a58-add1-e63269897fa6\",\"type\":\"LegendItem\"},{\"id\":\"324eb277-e5e0-42a5-9388-efe3c5a254ca\",\"type\":\"LegendItem\"},{\"id\":\"39db9d67-910c-41d5-9466-1a8673148bdc\",\"type\":\"LegendItem\"}],\"location\":\"top_left\",\"plot\":{\"id\":\"46afea54-6136-40ca-9664-b86eb59be2e8\",\"subtype\":\"Chart\",\"type\":\"Plot\"}},\"id\":\"eff711c5-cc38-4dfe-b9ac-533cd610861c\",\"type\":\"Legend\"},{\"attributes\":{\"label\":{\"value\":\"24891.0\"},\"renderers\":[{\"id\":\"32df140d-e34d-4376-a732-b75b9bbc6161\",\"type\":\"GlyphRenderer\"}]},\"id\":\"a6137ecc-1f77-4826-b75d-6484c83cd493\",\"type\":\"LegendItem\"},{\"attributes\":{\"axis_label\":\"Sum( Freq )\",\"formatter\":{\"id\":\"9d0d91b1-f0e9-476b-9aee-9c0d42a9b6c3\",\"type\":\"BasicTickFormatter\"},\"plot\":{\"id\":\"46afea54-6136-40ca-9664-b86eb59be2e8\",\"subtype\":\"Chart\",\"type\":\"Plot\"},\"ticker\":{\"id\":\"58dd1bc0-4643-4f45-842f-fd3296f83337\",\"type\":\"BasicTicker\"}},\"id\":\"f8b4e01e-1c23-4cb4-bf2f-a2621a2e21d9\",\"type\":\"LinearAxis\"},{\"attributes\":{\"data_source\":{\"id\":\"bd44bcf5-04b5-4cef-bbda-b5d540d59bf3\",\"type\":\"ColumnDataSource\"},\"glyph\":{\"id\":\"42b51fd3-ebdc-4e99-8eba-d10fccb77ee7\",\"type\":\"Rect\"},\"hover_glyph\":null,\"muted_glyph\":null},\"id\":\"8b599f9b-4b02-4c4b-95f5-47a6d1972bc0\",\"type\":\"GlyphRenderer\"},{\"attributes\":{\"plot\":null,\"text\":\"Histogram of 'balance'\"},\"id\":\"f196c425-5dca-4611-8891-8170d8936c83\",\"type\":\"Title\"},{\"attributes\":{\"dimension\":1,\"plot\":{\"id\":\"46afea54-6136-40ca-9664-b86eb59be2e8\",\"subtype\":\"Chart\",\"type\":\"Plot\"},\"ticker\":{\"id\":\"58dd1bc0-4643-4f45-842f-fd3296f83337\",\"type\":\"BasicTicker\"}},\"id\":\"7ddf2815-4e85-4ba0-bad6-500742249fdb\",\"type\":\"Grid\"},{\"attributes\":{\"callback\":null,\"column_names\":[\"width\",\"line_color\",\"x\",\"fill_alpha\",\"line_alpha\",\"y\",\"label\",\"height\",\"color\"],\"data\":{\"bins\":[20742.5],\"chart_index\":[{\"bins\":20742.5}],\"color\":[\"#f22c40\"],\"fill_alpha\":[0.8],\"height\":[13117.0],\"label\":[{\"bins\":20742.5}],\"line_alpha\":[1.0],\"line_color\":[\"white\"],\"width\":[0.8],\"x\":[\"20742.5\"],\"y\":[6558.5]}},\"id\":\"fa334687-eec5-4349-8055-8b2c69eecf3d\",\"type\":\"ColumnDataSource\"},{\"attributes\":{\"fill_alpha\":{\"field\":\"fill_alpha\"},\"fill_color\":{\"field\":\"color\"},\"height\":{\"field\":\"height\",\"units\":\"data\"},\"line_color\":{\"field\":\"line_color\"},\"width\":{\"field\":\"width\",\"units\":\"data\"},\"x\":{\"field\":\"x\"},\"y\":{\"field\":\"y\"}},\"id\":\"55d6333c-c450-4734-94ee-13a011bc5bf5\",\"type\":\"Rect\"},{\"attributes\":{},\"id\":\"f8bbe993-4b93-460a-a32c-d29bf1a95534\",\"type\":\"ToolEvents\"},{\"attributes\":{\"callback\":null,\"column_names\":[\"width\",\"line_color\",\"x\",\"fill_alpha\",\"line_alpha\",\"y\",\"label\",\"height\",\"color\"],\"data\":{\"bins\":[12445.5],\"chart_index\":[{\"bins\":12445.5}],\"color\":[\"#f22c40\"],\"fill_alpha\":[0.8],\"height\":[192766.0],\"label\":[{\"bins\":12445.5}],\"line_alpha\":[1.0],\"line_color\":[\"white\"],\"width\":[0.8],\"x\":[\"12445.5\"],\"y\":[96383.0]}},\"id\":\"bd44bcf5-04b5-4cef-bbda-b5d540d59bf3\",\"type\":\"ColumnDataSource\"},{\"attributes\":{\"data_source\":{\"id\":\"1fbdbbc7-89e1-4e31-ab0c-7006c74f700c\",\"type\":\"ColumnDataSource\"},\"glyph\":{\"id\":\"06c740a1-6943-4b5d-915c-fa30dc636de5\",\"type\":\"Rect\"},\"hover_glyph\":null,\"muted_glyph\":null},\"id\":\"7d904dc8-9316-4fe6-9529-f8d731ba0aa9\",\"type\":\"GlyphRenderer\"},{\"attributes\":{\"fill_alpha\":{\"field\":\"fill_alpha\"},\"fill_color\":{\"field\":\"color\"},\"height\":{\"field\":\"height\",\"units\":\"data\"},\"line_color\":{\"field\":\"line_color\"},\"width\":{\"field\":\"width\",\"units\":\"data\"},\"x\":{\"field\":\"x\"},\"y\":{\"field\":\"y\"}},\"id\":\"42b51fd3-ebdc-4e99-8eba-d10fccb77ee7\",\"type\":\"Rect\"},{\"attributes\":{\"callback\":null,\"column_names\":[\"width\",\"line_color\",\"x\",\"fill_alpha\",\"line_alpha\",\"y\",\"label\",\"height\",\"color\"],\"data\":{\"bins\":[4148.5],\"chart_index\":[{\"bins\":4148.5}],\"color\":[\"#f22c40\"],\"fill_alpha\":[0.8],\"height\":[1718633.0],\"label\":[{\"bins\":4148.5}],\"line_alpha\":[1.0],\"line_color\":[\"white\"],\"width\":[0.8],\"x\":[\"4148.5\"],\"y\":[859316.5]}},\"id\":\"1fbdbbc7-89e1-4e31-ab0c-7006c74f700c\",\"type\":\"ColumnDataSource\"},{\"attributes\":{\"callback\":null,\"column_names\":[\"width\",\"line_color\",\"x\",\"fill_alpha\",\"line_alpha\",\"y\",\"label\",\"height\",\"color\"],\"data\":{\"bins\":[31113.75],\"chart_index\":[{\"bins\":31113.75}],\"color\":[\"#f22c40\"],\"fill_alpha\":[0.8],\"height\":[127.0],\"label\":[{\"bins\":31113.75}],\"line_alpha\":[1.0],\"line_color\":[\"white\"],\"width\":[0.8],\"x\":[\"31113.75\"],\"y\":[63.5]}},\"id\":\"8baa59e8-e9a2-4308-858d-525d532f64c0\",\"type\":\"ColumnDataSource\"},{\"attributes\":{\"fill_alpha\":{\"field\":\"fill_alpha\"},\"fill_color\":{\"field\":\"color\"},\"height\":{\"field\":\"height\",\"units\":\"data\"},\"line_color\":{\"field\":\"line_color\"},\"width\":{\"field\":\"width\",\"units\":\"data\"},\"x\":{\"field\":\"x\"},\"y\":{\"field\":\"y\"}},\"id\":\"31288931-9478-4efb-a9a1-db881807fb0b\",\"type\":\"Rect\"},{\"attributes\":{\"fill_alpha\":{\"field\":\"fill_alpha\"},\"fill_color\":{\"field\":\"color\"},\"height\":{\"field\":\"height\",\"units\":\"data\"},\"line_color\":{\"field\":\"line_color\"},\"width\":{\"field\":\"width\",\"units\":\"data\"},\"x\":{\"field\":\"x\"},\"y\":{\"field\":\"y\"}},\"id\":\"dd89d6f3-c3ff-4b39-810d-a9a21a8b0efa\",\"type\":\"Rect\"},{\"attributes\":{\"fill_alpha\":{\"field\":\"fill_alpha\"},\"fill_color\":{\"field\":\"color\"},\"height\":{\"field\":\"height\",\"units\":\"data\"},\"line_color\":{\"field\":\"line_color\"},\"width\":{\"field\":\"width\",\"units\":\"data\"},\"x\":{\"field\":\"x\"},\"y\":{\"field\":\"y\"}},\"id\":\"e9dc07e1-4f21-4194-9a06-241796438aea\",\"type\":\"Rect\"},{\"attributes\":{\"data_source\":{\"id\":\"9ec82e7a-3ec1-4f58-bf10-dba4a88e46df\",\"type\":\"ColumnDataSource\"},\"glyph\":{\"id\":\"3922c11d-b86c-4b8d-bff1-e1296cc18250\",\"type\":\"Rect\"},\"hover_glyph\":null,\"muted_glyph\":null},\"id\":\"49033e22-6499-4f47-93e7-b2bbd6ecf364\",\"type\":\"GlyphRenderer\"},{\"attributes\":{\"callback\":null,\"column_names\":[\"width\",\"line_color\",\"x\",\"fill_alpha\",\"line_alpha\",\"y\",\"label\",\"height\",\"color\"],\"data\":{\"bins\":[24891.0],\"chart_index\":[{\"bins\":24891.0}],\"color\":[\"#f22c40\"],\"fill_alpha\":[0.8],\"height\":[2650.0],\"label\":[{\"bins\":24891.0}],\"line_alpha\":[1.0],\"line_color\":[\"white\"],\"width\":[0.8],\"x\":[\"24891.0\"],\"y\":[1325.0]}},\"id\":\"6073eff3-15d0-4604-be0b-8ea73fa1e410\",\"type\":\"ColumnDataSource\"},{\"attributes\":{\"callback\":null,\"column_names\":[\"width\",\"line_color\",\"x\",\"fill_alpha\",\"line_alpha\",\"y\",\"label\",\"height\",\"color\"],\"data\":{\"bins\":[2074.25],\"chart_index\":[{\"bins\":2074.25}],\"color\":[\"#f22c40\"],\"fill_alpha\":[0.8],\"height\":[2258778.0],\"label\":[{\"bins\":2074.25}],\"line_alpha\":[1.0],\"line_color\":[\"white\"],\"width\":[0.8],\"x\":[\"2074.25\"],\"y\":[1129389.0]}},\"id\":\"dfa00b9d-9fae-4131-8513-a89655e2c1b0\",\"type\":\"ColumnDataSource\"},{\"attributes\":{\"label\":{\"value\":\"16594.0\"},\"renderers\":[{\"id\":\"4ae01223-2a21-4290-b86b-52ccdf6539b6\",\"type\":\"GlyphRenderer\"}]},\"id\":\"fce63c8d-6676-4524-bbe7-8c035049a4e6\",\"type\":\"LegendItem\"},{\"attributes\":{\"data_source\":{\"id\":\"ee51056c-0c88-4524-b865-7a8ee66ec669\",\"type\":\"ColumnDataSource\"},\"glyph\":{\"id\":\"55d6333c-c450-4734-94ee-13a011bc5bf5\",\"type\":\"Rect\"},\"hover_glyph\":null,\"muted_glyph\":null},\"id\":\"7492f0e4-96b8-4a9e-b0c1-3a18c5a2947e\",\"type\":\"GlyphRenderer\"},{\"attributes\":{\"callback\":null,\"column_names\":[\"width\",\"line_color\",\"x\",\"fill_alpha\",\"line_alpha\",\"y\",\"label\",\"height\",\"color\"],\"data\":{\"bins\":[29039.5],\"chart_index\":[{\"bins\":29039.5}],\"color\":[\"#f22c40\"],\"fill_alpha\":[0.8],\"height\":[358.0],\"label\":[{\"bins\":29039.5}],\"line_alpha\":[1.0],\"line_color\":[\"white\"],\"width\":[0.8],\"x\":[\"29039.5\"],\"y\":[179.0]}},\"id\":\"8db8b0d1-a743-404f-9510-bf581c1fd011\",\"type\":\"ColumnDataSource\"},{\"attributes\":{\"callback\":null,\"column_names\":[\"width\",\"line_color\",\"x\",\"fill_alpha\",\"line_alpha\",\"y\",\"label\",\"height\",\"color\"],\"data\":{\"bins\":[8297.0],\"chart_index\":[{\"bins\":8297.0}],\"color\":[\"#f22c40\"],\"fill_alpha\":[0.8],\"height\":[601524.0],\"label\":[{\"bins\":8297.0}],\"line_alpha\":[1.0],\"line_color\":[\"white\"],\"width\":[0.8],\"x\":[\"8297.0\"],\"y\":[300762.0]}},\"id\":\"e1ed7e34-d9af-4313-9a56-181024af0db9\",\"type\":\"ColumnDataSource\"},{\"attributes\":{\"fill_alpha\":{\"field\":\"fill_alpha\"},\"fill_color\":{\"field\":\"color\"},\"height\":{\"field\":\"height\",\"units\":\"data\"},\"line_color\":{\"field\":\"line_color\"},\"width\":{\"field\":\"width\",\"units\":\"data\"},\"x\":{\"field\":\"x\"},\"y\":{\"field\":\"y\"}},\"id\":\"e2f5436d-f162-452c-b36c-ebb8f0ca4dab\",\"type\":\"Rect\"},{\"attributes\":{\"label\":{\"value\":\"14519.75\"},\"renderers\":[{\"id\":\"938ad3d3-4bc0-4a01-9e30-85d1ad159b90\",\"type\":\"GlyphRenderer\"}]},\"id\":\"9d02e9ba-70a6-4cd8-8e0d-72187c95c7a8\",\"type\":\"LegendItem\"},{\"attributes\":{},\"id\":\"9d0d91b1-f0e9-476b-9aee-9c0d42a9b6c3\",\"type\":\"BasicTickFormatter\"},{\"attributes\":{\"plot\":{\"id\":\"46afea54-6136-40ca-9664-b86eb59be2e8\",\"subtype\":\"Chart\",\"type\":\"Plot\"}},\"id\":\"c1fd94f4-7d8a-4ff5-8b9e-5b758704f149\",\"type\":\"WheelZoomTool\"},{\"attributes\":{\"fill_alpha\":{\"field\":\"fill_alpha\"},\"fill_color\":{\"field\":\"color\"},\"height\":{\"field\":\"height\",\"units\":\"data\"},\"line_color\":{\"field\":\"line_color\"},\"width\":{\"field\":\"width\",\"units\":\"data\"},\"x\":{\"field\":\"x\"},\"y\":{\"field\":\"y\"}},\"id\":\"ec66bd33-d450-4481-af2e-f7ed56dcf2aa\",\"type\":\"Rect\"},{\"attributes\":{\"callback\":null,\"end\":3822022.05},\"id\":\"7bebaaed-a263-4e63-bd12-8e6b514f734f\",\"type\":\"Range1d\"},{\"attributes\":{\"callback\":null,\"column_names\":[\"width\",\"line_color\",\"x\",\"fill_alpha\",\"line_alpha\",\"y\",\"label\",\"height\",\"color\"],\"data\":{\"bins\":[33188.0],\"chart_index\":[{\"bins\":33188.0}],\"color\":[\"#f22c40\"],\"fill_alpha\":[0.8],\"height\":[45.0],\"label\":[{\"bins\":33188.0}],\"line_alpha\":[1.0],\"line_color\":[\"white\"],\"width\":[0.8],\"x\":[\"33188.0\"],\"y\":[22.5]}},\"id\":\"904675ce-ea0b-483c-bd00-bd99a2d34a2e\",\"type\":\"ColumnDataSource\"},{\"attributes\":{\"data_source\":{\"id\":\"9b4bb938-a2f3-4e95-baed-3e499998034e\",\"type\":\"ColumnDataSource\"},\"glyph\":{\"id\":\"4e4e2848-bdea-4f63-a14c-38cd3ed86b17\",\"type\":\"Rect\"},\"hover_glyph\":null,\"muted_glyph\":null},\"id\":\"4ae01223-2a21-4290-b86b-52ccdf6539b6\",\"type\":\"GlyphRenderer\"},{\"attributes\":{\"fill_alpha\":{\"field\":\"fill_alpha\"},\"fill_color\":{\"field\":\"color\"},\"height\":{\"field\":\"height\",\"units\":\"data\"},\"line_color\":{\"field\":\"line_color\"},\"width\":{\"field\":\"width\",\"units\":\"data\"},\"x\":{\"field\":\"x\"},\"y\":{\"field\":\"y\"}},\"id\":\"d94e0029-bd51-4487-9369-7867946f632f\",\"type\":\"Rect\"},{\"attributes\":{\"plot\":{\"id\":\"46afea54-6136-40ca-9664-b86eb59be2e8\",\"subtype\":\"Chart\",\"type\":\"Plot\"}},\"id\":\"2138a7ce-ee83-4f90-8072-7c459fe96355\",\"type\":\"HelpTool\"},{\"attributes\":{\"label\":{\"value\":\"6222.75\"},\"renderers\":[{\"id\":\"addd8fb1-ef49-4261-a292-8a3f0e62c65d\",\"type\":\"GlyphRenderer\"}]},\"id\":\"6127e598-8417-4ae4-b3d9-8ad9647e5058\",\"type\":\"LegendItem\"},{\"attributes\":{\"plot\":{\"id\":\"46afea54-6136-40ca-9664-b86eb59be2e8\",\"subtype\":\"Chart\",\"type\":\"Plot\"}},\"id\":\"c6b02e93-2795-4a0f-abcd-851ef2a9452a\",\"type\":\"PanTool\"},{\"attributes\":{\"data_source\":{\"id\":\"dfa00b9d-9fae-4131-8513-a89655e2c1b0\",\"type\":\"ColumnDataSource\"},\"glyph\":{\"id\":\"dd89d6f3-c3ff-4b39-810d-a9a21a8b0efa\",\"type\":\"Rect\"},\"hover_glyph\":null,\"muted_glyph\":null},\"id\":\"6050db8f-1f73-425d-8cd2-b3b821ca9334\",\"type\":\"GlyphRenderer\"}],\"root_ids\":[\"46afea54-6136-40ca-9664-b86eb59be2e8\"]},\"title\":\"Bokeh Application\",\"version\":\"0.12.5\"}};\n",
       "            var render_items = [{\"docid\":\"6b2ce067-7a92-4671-9a7e-96ca990577d3\",\"elementid\":\"7d8b6388-1c3c-4592-aee3-0605147f734f\",\"modelid\":\"46afea54-6136-40ca-9664-b86eb59be2e8\"}];\n",
       "            \n",
       "            Bokeh.embed.embed_items(docs_json, render_items);\n",
       "          };\n",
       "          if (document.readyState != \"loading\") fn();\n",
       "          else document.addEventListener(\"DOMContentLoaded\", fn);\n",
       "        })();\n",
       "      },\n",
       "      function(Bokeh) {\n",
       "      }\n",
       "    ];\n",
       "  \n",
       "    function run_inline_js() {\n",
       "      \n",
       "      if ((window.Bokeh !== undefined) || (force === true)) {\n",
       "        for (var i = 0; i < inline_js.length; i++) {\n",
       "          inline_js[i](window.Bokeh);\n",
       "        }if (force === true) {\n",
       "          display_loaded();\n",
       "        }} else if (Date.now() < window._bokeh_timeout) {\n",
       "        setTimeout(run_inline_js, 100);\n",
       "      } else if (!window._bokeh_failed_load) {\n",
       "        console.log(\"Bokeh: BokehJS failed to load within specified timeout.\");\n",
       "        window._bokeh_failed_load = true;\n",
       "      } else if (force !== true) {\n",
       "        var cell = $(document.getElementById(\"7d8b6388-1c3c-4592-aee3-0605147f734f\")).parents('.cell').data().cell;\n",
       "        cell.output_area.append_execute_result(NB_LOAD_WARNING)\n",
       "      }\n",
       "  \n",
       "    }\n",
       "  \n",
       "    if (window._bokeh_is_loading === 0) {\n",
       "      console.log(\"Bokeh: BokehJS loaded, going straight to plotting\");\n",
       "      run_inline_js();\n",
       "    } else {\n",
       "      load_libs(js_urls, function() {\n",
       "        console.log(\"Bokeh: BokehJS plotting callback run at\", now());\n",
       "        run_inline_js();\n",
       "      });\n",
       "    }\n",
       "  }(this));\n",
       "</script>"
      ]
     },
     "metadata": {},
     "output_type": "display_data"
    }
   ],
   "source": [
    "b_hist = chrt.Bar(data,\n",
    "    values='freq', label='bins',\n",
    "    title='Histogram of \\'balance\\'')\n",
    "chrt.show(b_hist)"
   ]
  },
  {
   "cell_type": "markdown",
   "metadata": {},
   "source": [
    "데이터의 수가 충분이 적다면, matplotlib의 hist 또는 Bokeh의 Histograme 함수를 사용해도 된다. "
   ]
  },
  {
   "cell_type": "code",
   "execution_count": 132,
   "metadata": {
    "collapsed": false
   },
   "outputs": [
    {
     "data": {
      "text/plain": [
       "<matplotlib.text.Text at 0x15b12d74c88>"
      ]
     },
     "execution_count": 132,
     "metadata": {},
     "output_type": "execute_result"
    },
    {
     "data": {
      "image/png": "[encoded data removed]",
      "text/plain": [
       "<matplotlib.figure.Figure at 0x15b0642e128>"
      ]
     },
     "metadata": {},
     "output_type": "display_data"
    }
   ],
   "source": [
    "data_driver = {'obs': fraud_df.select('balance').rdd.flatMap(lambda row: row).collect()}\n",
    "plt.hist(data_driver['obs'], bins=20)\n",
    "plt.title('Histogram of \\'balance\\' using .hist()')"
   ]
  },
  {
   "cell_type": "code",
   "execution_count": 133,
   "metadata": {
    "collapsed": false
   },
   "outputs": [
    {
     "data": {
      "text/html": [
       "\n",
       "\n",
       "    <div class=\"bk-root\">\n",
       "        <div class=\"bk-plotdiv\" id=\"8eaa67ff-05cd-437a-a88e-4b6960453a0c\"></div>\n",
       "    </div>\n",
       "<script type=\"text/javascript\">\n",
       "  \n",
       "  (function(global) {\n",
       "    function now() {\n",
       "      return new Date();\n",
       "    }\n",
       "  \n",
       "    var force = false;\n",
       "  \n",
       "    if (typeof (window._bokeh_onload_callbacks) === \"undefined\" || force === true) {\n",
       "      window._bokeh_onload_callbacks = [];\n",
       "      window._bokeh_is_loading = undefined;\n",
       "    }\n",
       "  \n",
       "  \n",
       "    \n",
       "    if (typeof (window._bokeh_timeout) === \"undefined\" || force === true) {\n",
       "      window._bokeh_timeout = Date.now() + 0;\n",
       "      window._bokeh_failed_load = false;\n",
       "    }\n",
       "  \n",
       "    var NB_LOAD_WARNING = {'data': {'text/html':\n",
       "       \"<div style='background-color: #fdd'>\\n\"+\n",
       "       \"<p>\\n\"+\n",
       "       \"BokehJS does not appear to have successfully loaded. If loading BokehJS from CDN, this \\n\"+\n",
       "       \"may be due to a slow or bad network connection. Possible fixes:\\n\"+\n",
       "       \"</p>\\n\"+\n",
       "       \"<ul>\\n\"+\n",
       "       \"<li>re-rerun `output_notebook()` to attempt to load from CDN again, or</li>\\n\"+\n",
       "       \"<li>use INLINE resources instead, as so:</li>\\n\"+\n",
       "       \"</ul>\\n\"+\n",
       "       \"<code>\\n\"+\n",
       "       \"from bokeh.resources import INLINE\\n\"+\n",
       "       \"output_notebook(resources=INLINE)\\n\"+\n",
       "       \"</code>\\n\"+\n",
       "       \"</div>\"}};\n",
       "  \n",
       "    function display_loaded() {\n",
       "      if (window.Bokeh !== undefined) {\n",
       "        var el = document.getElementById(\"8eaa67ff-05cd-437a-a88e-4b6960453a0c\");\n",
       "        el.textContent = \"BokehJS \" + Bokeh.version + \" successfully loaded.\";\n",
       "      } else if (Date.now() < window._bokeh_timeout) {\n",
       "        setTimeout(display_loaded, 100)\n",
       "      }\n",
       "    }\n",
       "  \n",
       "    function run_callbacks() {\n",
       "      window._bokeh_onload_callbacks.forEach(function(callback) { callback() });\n",
       "      delete window._bokeh_onload_callbacks\n",
       "      console.info(\"Bokeh: all callbacks have finished\");\n",
       "    }\n",
       "  \n",
       "    function load_libs(js_urls, callback) {\n",
       "      window._bokeh_onload_callbacks.push(callback);\n",
       "      if (window._bokeh_is_loading > 0) {\n",
       "        console.log(\"Bokeh: BokehJS is being loaded, scheduling callback at\", now());\n",
       "        return null;\n",
       "      }\n",
       "      if (js_urls == null || js_urls.length === 0) {\n",
       "        run_callbacks();\n",
       "        return null;\n",
       "      }\n",
       "      console.log(\"Bokeh: BokehJS not loaded, scheduling load and callback at\", now());\n",
       "      window._bokeh_is_loading = js_urls.length;\n",
       "      for (var i = 0; i < js_urls.length; i++) {\n",
       "        var url = js_urls[i];\n",
       "        var s = document.createElement('script');\n",
       "        s.src = url;\n",
       "        s.async = false;\n",
       "        s.onreadystatechange = s.onload = function() {\n",
       "          window._bokeh_is_loading--;\n",
       "          if (window._bokeh_is_loading === 0) {\n",
       "            console.log(\"Bokeh: all BokehJS libraries loaded\");\n",
       "            run_callbacks()\n",
       "          }\n",
       "        };\n",
       "        s.onerror = function() {\n",
       "          console.warn(\"failed to load library \" + url);\n",
       "        };\n",
       "        console.log(\"Bokeh: injecting script tag for BokehJS library: \", url);\n",
       "        document.getElementsByTagName(\"head\")[0].appendChild(s);\n",
       "      }\n",
       "    };var element = document.getElementById(\"8eaa67ff-05cd-437a-a88e-4b6960453a0c\");\n",
       "    if (element == null) {\n",
       "      console.log(\"Bokeh: ERROR: autoload.js configured with elementid '8eaa67ff-05cd-437a-a88e-4b6960453a0c' but no matching script tag was found. \")\n",
       "      return false;\n",
       "    }\n",
       "  \n",
       "    var js_urls = [];\n",
       "  \n",
       "    var inline_js = [\n",
       "      function(Bokeh) {\n",
       "        (function() {\n",
       "          var fn = function() {\n",
       "            var docs_json = {\"6de23491-cb89-4126-ad38-ceb629a97152\":{\"roots\":{\"references\":[{\"attributes\":{\"fill_alpha\":{\"field\":\"fill_alpha\"},\"fill_color\":{\"field\":\"color\"},\"height\":{\"field\":\"height\",\"units\":\"data\"},\"line_color\":{\"field\":\"line_color\"},\"width\":{\"field\":\"width\",\"units\":\"data\"},\"x\":{\"field\":\"x\"},\"y\":{\"field\":\"y\"}},\"id\":\"92926f19-02d8-4b4d-8b79-e102b158104f\",\"type\":\"Rect\"},{\"attributes\":{},\"id\":\"ed00c42f-6884-4f1b-bc95-fa3b60c1fdc3\",\"type\":\"BasicTickFormatter\"},{\"attributes\":{\"data_source\":{\"id\":\"c77891f2-bb83-4e68-a2f9-89b83ee67a4c\",\"type\":\"ColumnDataSource\"},\"glyph\":{\"id\":\"1b0639f3-03f5-41c5-bd34-0197b811025b\",\"type\":\"Rect\"},\"hover_glyph\":null,\"muted_glyph\":null},\"id\":\"6115d843-1aa6-49f1-bbf1-390833096f35\",\"type\":\"GlyphRenderer\"},{\"attributes\":{\"data_source\":{\"id\":\"39d6b376-a1bb-42e1-9f14-72563ae45fa2\",\"type\":\"ColumnDataSource\"},\"glyph\":{\"id\":\"e04cd96d-6f99-4fdc-a75d-756080a38b1e\",\"type\":\"Rect\"},\"hover_glyph\":null,\"muted_glyph\":null},\"id\":\"e03dffed-4869-454c-b8a6-d2dbab1140d3\",\"type\":\"GlyphRenderer\"},{\"attributes\":{\"fill_alpha\":{\"field\":\"fill_alpha\"},\"fill_color\":{\"field\":\"color\"},\"height\":{\"field\":\"height\",\"units\":\"data\"},\"line_color\":{\"field\":\"line_color\"},\"width\":{\"field\":\"width\",\"units\":\"data\"},\"x\":{\"field\":\"x\"},\"y\":{\"field\":\"y\"}},\"id\":\"9a476b2a-9648-424c-96a2-fe28a12e80ea\",\"type\":\"Rect\"},{\"attributes\":{\"callback\":null,\"column_names\":[\"width\",\"line_color\",\"x\",\"fill_alpha\",\"line_alpha\",\"y\",\"label\",\"height\",\"color\"],\"data\":{\"chart_index\":[\"(33188.000000, 35262.250000]\"],\"color\":[\"#f22c40\"],\"fill_alpha\":[0.8],\"height\":[45.0],\"label\":[\"(33188.000000, 35262.250000]\"],\"line_alpha\":[1.0],\"line_color\":[\"black\"],\"width\":[2074.25],\"x\":[\"34225.125\"],\"y\":[22.5]}},\"id\":\"589d995e-9263-48ea-9bc1-5b467581a7f0\",\"type\":\"ColumnDataSource\"},{\"attributes\":{\"fill_alpha\":{\"field\":\"fill_alpha\"},\"fill_color\":{\"field\":\"color\"},\"height\":{\"field\":\"height\",\"units\":\"data\"},\"line_color\":{\"field\":\"line_color\"},\"width\":{\"field\":\"width\",\"units\":\"data\"},\"x\":{\"field\":\"x\"},\"y\":{\"field\":\"y\"}},\"id\":\"1b0639f3-03f5-41c5-bd34-0197b811025b\",\"type\":\"Rect\"},{\"attributes\":{\"plot\":null,\"text\":\"Histogram of 'balance' using .Histogram()\"},\"id\":\"dfb22023-a30f-45fe-968e-4a31e19cf22a\",\"type\":\"Title\"},{\"attributes\":{\"data_source\":{\"id\":\"07e00381-1c70-4cca-9924-41de7ee8aa44\",\"type\":\"ColumnDataSource\"},\"glyph\":{\"id\":\"ecaf5185-617e-4d3b-8461-2ab7729d57aa\",\"type\":\"Rect\"},\"hover_glyph\":null,\"muted_glyph\":null},\"id\":\"9e52fa4e-4e2c-4950-a014-449fba4959e6\",\"type\":\"GlyphRenderer\"},{\"attributes\":{\"callback\":null,\"column_names\":[\"width\",\"line_color\",\"x\",\"fill_alpha\",\"line_alpha\",\"y\",\"label\",\"height\",\"color\"],\"data\":{\"chart_index\":[\"(37336.500000, 39410.750000]\"],\"color\":[\"#f22c40\"],\"fill_alpha\":[0.8],\"height\":[1.0],\"label\":[\"(37336.500000, 39410.750000]\"],\"line_alpha\":[1.0],\"line_color\":[\"black\"],\"width\":[2074.25],\"x\":[\"38373.625\"],\"y\":[0.5]}},\"id\":\"bb6374e5-531a-4106-a85d-a5002c4fdb32\",\"type\":\"ColumnDataSource\"},{\"attributes\":{\"callback\":null,\"column_names\":[\"width\",\"line_color\",\"x\",\"fill_alpha\",\"line_alpha\",\"y\",\"label\",\"height\",\"color\"],\"data\":{\"chart_index\":[\"(26965.250000, 29039.500000]\"],\"color\":[\"#f22c40\"],\"fill_alpha\":[0.8],\"height\":[1103.0],\"label\":[\"(26965.250000, 29039.500000]\"],\"line_alpha\":[1.0],\"line_color\":[\"black\"],\"width\":[2074.25],\"x\":[\"28002.375\"],\"y\":[551.5]}},\"id\":\"243ef326-bf97-4736-a530-1cb338e1ed85\",\"type\":\"ColumnDataSource\"},{\"attributes\":{\"data_source\":{\"id\":\"06a95306-268f-4a4e-9ddb-3c54db11b711\",\"type\":\"ColumnDataSource\"},\"glyph\":{\"id\":\"cda4e730-b175-470c-b03d-bf42d2b7d36d\",\"type\":\"Rect\"},\"hover_glyph\":null,\"muted_glyph\":null},\"id\":\"e0792d82-4f08-4e93-b18b-b78e13399cf0\",\"type\":\"GlyphRenderer\"},{\"attributes\":{\"fill_alpha\":{\"field\":\"fill_alpha\"},\"fill_color\":{\"field\":\"color\"},\"height\":{\"field\":\"height\",\"units\":\"data\"},\"line_color\":{\"field\":\"line_color\"},\"width\":{\"field\":\"width\",\"units\":\"data\"},\"x\":{\"field\":\"x\"},\"y\":{\"field\":\"y\"}},\"id\":\"55587c5a-7daf-490c-9685-4a05f19694b4\",\"type\":\"Rect\"},{\"attributes\":{\"fill_alpha\":{\"field\":\"fill_alpha\"},\"fill_color\":{\"field\":\"color\"},\"height\":{\"field\":\"height\",\"units\":\"data\"},\"line_color\":{\"field\":\"line_color\"},\"width\":{\"field\":\"width\",\"units\":\"data\"},\"x\":{\"field\":\"x\"},\"y\":{\"field\":\"y\"}},\"id\":\"fed414e3-aa50-47a3-94fb-3eb1c24c5873\",\"type\":\"Rect\"},{\"attributes\":{\"fill_alpha\":{\"field\":\"fill_alpha\"},\"fill_color\":{\"field\":\"color\"},\"height\":{\"field\":\"height\",\"units\":\"data\"},\"line_color\":{\"field\":\"line_color\"},\"width\":{\"field\":\"width\",\"units\":\"data\"},\"x\":{\"field\":\"x\"},\"y\":{\"field\":\"y\"}},\"id\":\"e04cd96d-6f99-4fdc-a75d-756080a38b1e\",\"type\":\"Rect\"},{\"attributes\":{\"location\":\"top_left\",\"plot\":{\"id\":\"29f32740-91c3-4780-9483-47cb4d592bac\",\"subtype\":\"Chart\",\"type\":\"Plot\"}},\"id\":\"764fa94f-4986-4412-a39b-8759d4a167f1\",\"type\":\"Legend\"},{\"attributes\":{\"plot\":{\"id\":\"29f32740-91c3-4780-9483-47cb4d592bac\",\"subtype\":\"Chart\",\"type\":\"Plot\"}},\"id\":\"4caeea10-0d93-42e8-8ddc-cb9f3ab9a6bd\",\"type\":\"PanTool\"},{\"attributes\":{\"fill_alpha\":{\"field\":\"fill_alpha\"},\"fill_color\":{\"field\":\"color\"},\"height\":{\"field\":\"height\",\"units\":\"data\"},\"line_color\":{\"field\":\"line_color\"},\"width\":{\"field\":\"width\",\"units\":\"data\"},\"x\":{\"field\":\"x\"},\"y\":{\"field\":\"y\"}},\"id\":\"9dc1121d-7ff6-4ebf-91f8-27fef14a76e1\",\"type\":\"Rect\"},{\"attributes\":{\"plot\":{\"id\":\"29f32740-91c3-4780-9483-47cb4d592bac\",\"subtype\":\"Chart\",\"type\":\"Plot\"}},\"id\":\"427462bd-422a-48e7-8a2a-0d26c0560cef\",\"type\":\"HelpTool\"},{\"attributes\":{\"fill_alpha\":{\"field\":\"fill_alpha\"},\"fill_color\":{\"field\":\"color\"},\"height\":{\"field\":\"height\",\"units\":\"data\"},\"line_color\":{\"field\":\"line_color\"},\"width\":{\"field\":\"width\",\"units\":\"data\"},\"x\":{\"field\":\"x\"},\"y\":{\"field\":\"y\"}},\"id\":\"5cfa4d6f-726c-430b-bb89-9677a027d259\",\"type\":\"Rect\"},{\"attributes\":{\"fill_alpha\":{\"field\":\"fill_alpha\"},\"fill_color\":{\"field\":\"color\"},\"height\":{\"field\":\"height\",\"units\":\"data\"},\"line_color\":{\"field\":\"line_color\"},\"width\":{\"field\":\"width\",\"units\":\"data\"},\"x\":{\"field\":\"x\"},\"y\":{\"field\":\"y\"}},\"id\":\"2ed9ef96-69a7-4ecc-8ba5-97a4d74847bf\",\"type\":\"Rect\"},{\"attributes\":{\"data_source\":{\"id\":\"f16014ac-107d-4636-a87d-ec8c38ec2d4c\",\"type\":\"ColumnDataSource\"},\"glyph\":{\"id\":\"152ff1cb-28ea-4981-bc84-177add46299c\",\"type\":\"Rect\"},\"hover_glyph\":null,\"muted_glyph\":null},\"id\":\"512184e0-06ee-40fc-b4f5-bb803b41122b\",\"type\":\"GlyphRenderer\"},{\"attributes\":{\"fill_alpha\":{\"field\":\"fill_alpha\"},\"fill_color\":{\"field\":\"color\"},\"height\":{\"field\":\"height\",\"units\":\"data\"},\"line_color\":{\"field\":\"line_color\"},\"width\":{\"field\":\"width\",\"units\":\"data\"},\"x\":{\"field\":\"x\"},\"y\":{\"field\":\"y\"}},\"id\":\"fbdea4cd-076d-4782-bc07-b2655bdc07f2\",\"type\":\"Rect\"},{\"attributes\":{\"data_source\":{\"id\":\"bb6374e5-531a-4106-a85d-a5002c4fdb32\",\"type\":\"ColumnDataSource\"},\"glyph\":{\"id\":\"636fdbf7-6013-4ae7-a960-07fd8273de89\",\"type\":\"Rect\"},\"hover_glyph\":null,\"muted_glyph\":null},\"id\":\"02ea9e63-0ce6-4da6-9972-fdda80535780\",\"type\":\"GlyphRenderer\"},{\"attributes\":{\"fill_alpha\":{\"field\":\"fill_alpha\"},\"fill_color\":{\"field\":\"color\"},\"height\":{\"field\":\"height\",\"units\":\"data\"},\"line_color\":{\"field\":\"line_color\"},\"width\":{\"field\":\"width\",\"units\":\"data\"},\"x\":{\"field\":\"x\"},\"y\":{\"field\":\"y\"}},\"id\":\"152ff1cb-28ea-4981-bc84-177add46299c\",\"type\":\"Rect\"},{\"attributes\":{\"bottom_units\":\"screen\",\"fill_alpha\":{\"value\":0.5},\"fill_color\":{\"value\":\"lightgrey\"},\"left_units\":\"screen\",\"level\":\"overlay\",\"line_alpha\":{\"value\":1.0},\"line_color\":{\"value\":\"black\"},\"line_dash\":[4,4],\"line_width\":{\"value\":2},\"plot\":null,\"render_mode\":\"css\",\"right_units\":\"screen\",\"top_units\":\"screen\"},\"id\":\"c24103c7-f4ca-4ad3-94e7-f7d5b5b5fd0b\",\"type\":\"BoxAnnotation\"},{\"attributes\":{\"data_source\":{\"id\":\"589d995e-9263-48ea-9bc1-5b467581a7f0\",\"type\":\"ColumnDataSource\"},\"glyph\":{\"id\":\"5cfa4d6f-726c-430b-bb89-9677a027d259\",\"type\":\"Rect\"},\"hover_glyph\":null,\"muted_glyph\":null},\"id\":\"f632d873-cc06-4e87-a95f-fdf3bdded7e6\",\"type\":\"GlyphRenderer\"},{\"attributes\":{\"plot\":{\"id\":\"29f32740-91c3-4780-9483-47cb4d592bac\",\"subtype\":\"Chart\",\"type\":\"Plot\"}},\"id\":\"a1fb9c8f-08e9-47b1-acfa-707aed111032\",\"type\":\"ResetTool\"},{\"attributes\":{\"callback\":null,\"end\":4004023.1},\"id\":\"bfc41be7-5408-41ec-b181-d9f432081eca\",\"type\":\"Range1d\"},{\"attributes\":{\"axis_label\":\"Count( Obs )\",\"formatter\":{\"id\":\"ed00c42f-6884-4f1b-bc95-fa3b60c1fdc3\",\"type\":\"BasicTickFormatter\"},\"plot\":{\"id\":\"29f32740-91c3-4780-9483-47cb4d592bac\",\"subtype\":\"Chart\",\"type\":\"Plot\"},\"ticker\":{\"id\":\"2148d815-c56c-406d-8460-5dfc15b2c75c\",\"type\":\"BasicTicker\"}},\"id\":\"26745048-912c-45d0-84c7-813d24c97fd6\",\"type\":\"LinearAxis\"},{\"attributes\":{\"fill_alpha\":{\"field\":\"fill_alpha\"},\"fill_color\":{\"field\":\"color\"},\"height\":{\"field\":\"height\",\"units\":\"data\"},\"line_color\":{\"field\":\"line_color\"},\"width\":{\"field\":\"width\",\"units\":\"data\"},\"x\":{\"field\":\"x\"},\"y\":{\"field\":\"y\"}},\"id\":\"636fdbf7-6013-4ae7-a960-07fd8273de89\",\"type\":\"Rect\"},{\"attributes\":{\"callback\":null,\"column_names\":[\"width\",\"line_color\",\"x\",\"fill_alpha\",\"line_alpha\",\"y\",\"label\",\"height\",\"color\"],\"data\":{\"chart_index\":[\"(39410.750000, 41485.000000]\"],\"color\":[\"#f22c40\"],\"fill_alpha\":[0.8],\"height\":[4.0],\"label\":[\"(39410.750000, 41485.000000]\"],\"line_alpha\":[1.0],\"line_color\":[\"black\"],\"width\":[2074.25],\"x\":[\"40447.875\"],\"y\":[2.0]}},\"id\":\"555e5999-ce9e-4977-ba27-abd1bb2507b2\",\"type\":\"ColumnDataSource\"},{\"attributes\":{\"fill_alpha\":{\"field\":\"fill_alpha\"},\"fill_color\":{\"field\":\"color\"},\"height\":{\"field\":\"height\",\"units\":\"data\"},\"line_color\":{\"field\":\"line_color\"},\"width\":{\"field\":\"width\",\"units\":\"data\"},\"x\":{\"field\":\"x\"},\"y\":{\"field\":\"y\"}},\"id\":\"c78db3bd-ab18-4381-9898-3e1457e15255\",\"type\":\"Rect\"},{\"attributes\":{\"callback\":null,\"end\":42522.125,\"start\":-1037.125},\"id\":\"5f7275e2-b7bc-4819-9c8c-f791cf83d5ba\",\"type\":\"Range1d\"},{\"attributes\":{\"fill_alpha\":{\"field\":\"fill_alpha\"},\"fill_color\":{\"field\":\"color\"},\"height\":{\"field\":\"height\",\"units\":\"data\"},\"line_color\":{\"field\":\"line_color\"},\"width\":{\"field\":\"width\",\"units\":\"data\"},\"x\":{\"field\":\"x\"},\"y\":{\"field\":\"y\"}},\"id\":\"14910d36-ed5c-4f34-a5a9-745141df9af9\",\"type\":\"Rect\"},{\"attributes\":{\"callback\":null,\"column_names\":[\"width\",\"line_color\",\"x\",\"fill_alpha\",\"line_alpha\",\"y\",\"label\",\"height\",\"color\"],\"data\":{\"chart_index\":[\"(22816.750000, 24891.000000]\"],\"color\":[\"#f22c40\"],\"fill_alpha\":[0.8],\"height\":[5805.0],\"label\":[\"(22816.750000, 24891.000000]\"],\"line_alpha\":[1.0],\"line_color\":[\"black\"],\"width\":[2074.25],\"x\":[\"23853.875\"],\"y\":[2902.5]}},\"id\":\"bccce5e1-1b4b-40b4-91db-ad2a7029562e\",\"type\":\"ColumnDataSource\"},{\"attributes\":{\"callback\":null,\"column_names\":[\"width\",\"line_color\",\"x\",\"fill_alpha\",\"line_alpha\",\"y\",\"label\",\"height\",\"color\"],\"data\":{\"chart_index\":[\"(8297.000000, 10371.250000]\"],\"color\":[\"#f22c40\"],\"fill_alpha\":[0.8],\"height\":[601524.0],\"label\":[\"(8297.000000, 10371.250000]\"],\"line_alpha\":[1.0],\"line_color\":[\"black\"],\"width\":[2074.25],\"x\":[\"9334.125\"],\"y\":[300762.0]}},\"id\":\"39d6b376-a1bb-42e1-9f14-72563ae45fa2\",\"type\":\"ColumnDataSource\"},{\"attributes\":{\"callback\":null,\"column_names\":[\"width\",\"line_color\",\"x\",\"fill_alpha\",\"line_alpha\",\"y\",\"label\",\"height\",\"color\"],\"data\":{\"chart_index\":[\"(2074.250000, 4148.500000]\"],\"color\":[\"#f22c40\"],\"fill_alpha\":[0.8],\"height\":[2258778.0],\"label\":[\"(2074.250000, 4148.500000]\"],\"line_alpha\":[1.0],\"line_color\":[\"black\"],\"width\":[2074.25],\"x\":[\"3111.375\"],\"y\":[1129389.0]}},\"id\":\"8e4d547a-1258-4146-be44-f8013953ff42\",\"type\":\"ColumnDataSource\"},{\"attributes\":{\"fill_alpha\":{\"field\":\"fill_alpha\"},\"fill_color\":{\"field\":\"color\"},\"height\":{\"field\":\"height\",\"units\":\"data\"},\"line_color\":{\"field\":\"line_color\"},\"width\":{\"field\":\"width\",\"units\":\"data\"},\"x\":{\"field\":\"x\"},\"y\":{\"field\":\"y\"}},\"id\":\"ecaf5185-617e-4d3b-8461-2ab7729d57aa\",\"type\":\"Rect\"},{\"attributes\":{\"plot\":{\"id\":\"29f32740-91c3-4780-9483-47cb4d592bac\",\"subtype\":\"Chart\",\"type\":\"Plot\"}},\"id\":\"d6a24ec3-a36f-432e-95f7-2054869b690f\",\"type\":\"WheelZoomTool\"},{\"attributes\":{\"callback\":null,\"column_names\":[\"width\",\"line_color\",\"x\",\"fill_alpha\",\"line_alpha\",\"y\",\"label\",\"height\",\"color\"],\"data\":{\"chart_index\":[\"(14519.750000, 16594.000000]\"],\"color\":[\"#f22c40\"],\"fill_alpha\":[0.8],\"height\":[104486.0],\"label\":[\"(14519.750000, 16594.000000]\"],\"line_alpha\":[1.0],\"line_color\":[\"black\"],\"width\":[2074.25],\"x\":[\"15556.875\"],\"y\":[52243.0]}},\"id\":\"61ab81d9-36f0-4db3-8beb-dc477b28741d\",\"type\":\"ColumnDataSource\"},{\"attributes\":{},\"id\":\"878e2ce0-45ef-46ab-84d7-d8b72a4c9bfe\",\"type\":\"ToolEvents\"},{\"attributes\":{\"fill_alpha\":{\"field\":\"fill_alpha\"},\"fill_color\":{\"field\":\"color\"},\"height\":{\"field\":\"height\",\"units\":\"data\"},\"line_color\":{\"field\":\"line_color\"},\"width\":{\"field\":\"width\",\"units\":\"data\"},\"x\":{\"field\":\"x\"},\"y\":{\"field\":\"y\"}},\"id\":\"cda4e730-b175-470c-b03d-bf42d2b7d36d\",\"type\":\"Rect\"},{\"attributes\":{\"data_source\":{\"id\":\"555e5999-ce9e-4977-ba27-abd1bb2507b2\",\"type\":\"ColumnDataSource\"},\"glyph\":{\"id\":\"9a476b2a-9648-424c-96a2-fe28a12e80ea\",\"type\":\"Rect\"},\"hover_glyph\":null,\"muted_glyph\":null},\"id\":\"3b066227-40bd-4998-8709-030040effc98\",\"type\":\"GlyphRenderer\"},{\"attributes\":{\"callback\":null,\"column_names\":[\"width\",\"line_color\",\"x\",\"fill_alpha\",\"line_alpha\",\"y\",\"label\",\"height\",\"color\"],\"data\":{\"chart_index\":[\"(24891.000000, 26965.250000]\"],\"color\":[\"#f22c40\"],\"fill_alpha\":[0.8],\"height\":[2650.0],\"label\":[\"(24891.000000, 26965.250000]\"],\"line_alpha\":[1.0],\"line_color\":[\"black\"],\"width\":[2074.25],\"x\":[\"25928.125\"],\"y\":[1325.0]}},\"id\":\"f16014ac-107d-4636-a87d-ec8c38ec2d4c\",\"type\":\"ColumnDataSource\"},{\"attributes\":{\"active_drag\":\"auto\",\"active_scroll\":\"auto\",\"active_tap\":\"auto\",\"tools\":[{\"id\":\"4caeea10-0d93-42e8-8ddc-cb9f3ab9a6bd\",\"type\":\"PanTool\"},{\"id\":\"d6a24ec3-a36f-432e-95f7-2054869b690f\",\"type\":\"WheelZoomTool\"},{\"id\":\"563e3c95-aa7d-41a4-92f8-5ad22eb20c4d\",\"type\":\"BoxZoomTool\"},{\"id\":\"0918020f-a076-4e54-b5ab-f5cc019eae77\",\"type\":\"SaveTool\"},{\"id\":\"a1fb9c8f-08e9-47b1-acfa-707aed111032\",\"type\":\"ResetTool\"},{\"id\":\"427462bd-422a-48e7-8a2a-0d26c0560cef\",\"type\":\"HelpTool\"}]},\"id\":\"bb4076ee-d203-4c9c-90ec-dcd8907f0172\",\"type\":\"Toolbar\"},{\"attributes\":{\"data_source\":{\"id\":\"243ef326-bf97-4736-a530-1cb338e1ed85\",\"type\":\"ColumnDataSource\"},\"glyph\":{\"id\":\"b9efcae3-2482-4b09-b1e2-2c91492b66d5\",\"type\":\"Rect\"},\"hover_glyph\":null,\"muted_glyph\":null},\"id\":\"06adef49-c506-4dd2-aeca-7e0bb590e83a\",\"type\":\"GlyphRenderer\"},{\"attributes\":{\"data_source\":{\"id\":\"61ab81d9-36f0-4db3-8beb-dc477b28741d\",\"type\":\"ColumnDataSource\"},\"glyph\":{\"id\":\"f4ba4688-a076-48ad-b782-b64effcba856\",\"type\":\"Rect\"},\"hover_glyph\":null,\"muted_glyph\":null},\"id\":\"fd5e5dba-4049-419b-9a2a-8be246738f78\",\"type\":\"GlyphRenderer\"},{\"attributes\":{\"plot\":{\"id\":\"29f32740-91c3-4780-9483-47cb4d592bac\",\"subtype\":\"Chart\",\"type\":\"Plot\"}},\"id\":\"0918020f-a076-4e54-b5ab-f5cc019eae77\",\"type\":\"SaveTool\"},{\"attributes\":{\"fill_alpha\":{\"field\":\"fill_alpha\"},\"fill_color\":{\"field\":\"color\"},\"height\":{\"field\":\"height\",\"units\":\"data\"},\"line_color\":{\"field\":\"line_color\"},\"width\":{\"field\":\"width\",\"units\":\"data\"},\"x\":{\"field\":\"x\"},\"y\":{\"field\":\"y\"}},\"id\":\"d1d771ce-437f-4ced-93e0-c9970fc87f7c\",\"type\":\"Rect\"},{\"attributes\":{\"callback\":null,\"column_names\":[\"width\",\"line_color\",\"x\",\"fill_alpha\",\"line_alpha\",\"y\",\"label\",\"height\",\"color\"],\"data\":{\"chart_index\":[\"(31113.750000, 33188.000000]\"],\"color\":[\"#f22c40\"],\"fill_alpha\":[0.8],\"height\":[127.0],\"label\":[\"(31113.750000, 33188.000000]\"],\"line_alpha\":[1.0],\"line_color\":[\"black\"],\"width\":[2074.25],\"x\":[\"32150.875\"],\"y\":[63.5]}},\"id\":\"d753720e-8f05-4665-93b4-204c22d556ac\",\"type\":\"ColumnDataSource\"},{\"attributes\":{},\"id\":\"7d0bd8b2-5083-49dc-aade-ce88d0c178c6\",\"type\":\"BasicTicker\"},{\"attributes\":{\"data_source\":{\"id\":\"42fecc93-6103-4c66-a170-f6ae8ddb5a15\",\"type\":\"ColumnDataSource\"},\"glyph\":{\"id\":\"fbdea4cd-076d-4782-bc07-b2655bdc07f2\",\"type\":\"Rect\"},\"hover_glyph\":null,\"muted_glyph\":null},\"id\":\"1bc47b4c-bd15-4a3f-859a-aa27c5796504\",\"type\":\"GlyphRenderer\"},{\"attributes\":{\"data_source\":{\"id\":\"bccce5e1-1b4b-40b4-91db-ad2a7029562e\",\"type\":\"ColumnDataSource\"},\"glyph\":{\"id\":\"fed414e3-aa50-47a3-94fb-3eb1c24c5873\",\"type\":\"Rect\"},\"hover_glyph\":null,\"muted_glyph\":null},\"id\":\"bdb443e5-ac08-4c91-8c56-cde5c67bda9a\",\"type\":\"GlyphRenderer\"},{\"attributes\":{\"data_source\":{\"id\":\"c1305404-95e5-4235-b2c8-6988437982c0\",\"type\":\"ColumnDataSource\"},\"glyph\":{\"id\":\"92926f19-02d8-4b4d-8b79-e102b158104f\",\"type\":\"Rect\"},\"hover_glyph\":null,\"muted_glyph\":null},\"id\":\"8fcad6fe-96b7-48a7-aea2-49a12ecec251\",\"type\":\"GlyphRenderer\"},{\"attributes\":{\"data_source\":{\"id\":\"a327c1b3-6059-4480-a9dc-df637519fa91\",\"type\":\"ColumnDataSource\"},\"glyph\":{\"id\":\"9dc1121d-7ff6-4ebf-91f8-27fef14a76e1\",\"type\":\"Rect\"},\"hover_glyph\":null,\"muted_glyph\":null},\"id\":\"ef358706-2a4e-44b7-8fcd-78b4562efed3\",\"type\":\"GlyphRenderer\"},{\"attributes\":{\"data_source\":{\"id\":\"e8230748-d01c-4de3-9346-3a3d27a64491\",\"type\":\"ColumnDataSource\"},\"glyph\":{\"id\":\"c78db3bd-ab18-4381-9898-3e1457e15255\",\"type\":\"Rect\"},\"hover_glyph\":null,\"muted_glyph\":null},\"id\":\"3afc7445-2141-46df-8b16-2129458b01c3\",\"type\":\"GlyphRenderer\"},{\"attributes\":{},\"id\":\"2148d815-c56c-406d-8460-5dfc15b2c75c\",\"type\":\"BasicTicker\"},{\"attributes\":{},\"id\":\"03fb2333-4e0e-4c7e-b679-a3e7c6c6a0dd\",\"type\":\"BasicTickFormatter\"},{\"attributes\":{\"fill_alpha\":{\"field\":\"fill_alpha\"},\"fill_color\":{\"field\":\"color\"},\"height\":{\"field\":\"height\",\"units\":\"data\"},\"line_color\":{\"field\":\"line_color\"},\"width\":{\"field\":\"width\",\"units\":\"data\"},\"x\":{\"field\":\"x\"},\"y\":{\"field\":\"y\"}},\"id\":\"4e483fd3-9434-4e01-b7d9-bcdd71ed5538\",\"type\":\"Rect\"},{\"attributes\":{\"data_source\":{\"id\":\"a2c8ee95-3870-42df-b169-faed66f3ecb5\",\"type\":\"ColumnDataSource\"},\"glyph\":{\"id\":\"4e483fd3-9434-4e01-b7d9-bcdd71ed5538\",\"type\":\"Rect\"},\"hover_glyph\":null,\"muted_glyph\":null},\"id\":\"c34a7bd6-cccf-4a76-8c52-ccc96c1c95ce\",\"type\":\"GlyphRenderer\"},{\"attributes\":{\"axis_label\":\"obs\",\"formatter\":{\"id\":\"03fb2333-4e0e-4c7e-b679-a3e7c6c6a0dd\",\"type\":\"BasicTickFormatter\"},\"plot\":{\"id\":\"29f32740-91c3-4780-9483-47cb4d592bac\",\"subtype\":\"Chart\",\"type\":\"Plot\"},\"ticker\":{\"id\":\"7d0bd8b2-5083-49dc-aade-ce88d0c178c6\",\"type\":\"BasicTicker\"}},\"id\":\"c3fd8caf-f914-42c2-b54f-9bee350c3609\",\"type\":\"LinearAxis\"},{\"attributes\":{\"dimension\":1,\"plot\":{\"id\":\"29f32740-91c3-4780-9483-47cb4d592bac\",\"subtype\":\"Chart\",\"type\":\"Plot\"},\"ticker\":{\"id\":\"2148d815-c56c-406d-8460-5dfc15b2c75c\",\"type\":\"BasicTicker\"}},\"id\":\"3206a855-4de0-47ba-a446-4c4f028be590\",\"type\":\"Grid\"},{\"attributes\":{\"callback\":null,\"column_names\":[\"width\",\"line_color\",\"x\",\"fill_alpha\",\"line_alpha\",\"y\",\"label\",\"height\",\"color\"],\"data\":{\"chart_index\":[\"(6222.750000, 8297.000000]\"],\"color\":[\"#f22c40\"],\"fill_alpha\":[0.8],\"height\":[1035019.0],\"label\":[\"(6222.750000, 8297.000000]\"],\"line_alpha\":[1.0],\"line_color\":[\"black\"],\"width\":[2074.25],\"x\":[\"7259.875\"],\"y\":[517509.5]}},\"id\":\"07e00381-1c70-4cca-9924-41de7ee8aa44\",\"type\":\"ColumnDataSource\"},{\"attributes\":{\"callback\":null,\"column_names\":[\"width\",\"line_color\",\"x\",\"fill_alpha\",\"line_alpha\",\"y\",\"label\",\"height\",\"color\"],\"data\":{\"chart_index\":[\"(29039.500000, 31113.750000]\"],\"color\":[\"#f22c40\"],\"fill_alpha\":[0.8],\"height\":[358.0],\"label\":[\"(29039.500000, 31113.750000]\"],\"line_alpha\":[1.0],\"line_color\":[\"black\"],\"width\":[2074.25],\"x\":[\"30076.625\"],\"y\":[179.0]}},\"id\":\"06a95306-268f-4a4e-9ddb-3c54db11b711\",\"type\":\"ColumnDataSource\"},{\"attributes\":{\"callback\":null,\"column_names\":[\"width\",\"line_color\",\"x\",\"fill_alpha\",\"line_alpha\",\"y\",\"label\",\"height\",\"color\"],\"data\":{\"chart_index\":[\"(12445.500000, 14519.750000]\"],\"color\":[\"#f22c40\"],\"fill_alpha\":[0.8],\"height\":[192766.0],\"label\":[\"(12445.500000, 14519.750000]\"],\"line_alpha\":[1.0],\"line_color\":[\"black\"],\"width\":[2074.25],\"x\":[\"13482.625\"],\"y\":[96383.0]}},\"id\":\"c1305404-95e5-4235-b2c8-6988437982c0\",\"type\":\"ColumnDataSource\"},{\"attributes\":{\"callback\":null,\"column_names\":[\"width\",\"line_color\",\"x\",\"fill_alpha\",\"line_alpha\",\"y\",\"label\",\"height\",\"color\"],\"data\":{\"chart_index\":[\"(16594.000000, 18668.250000]\"],\"color\":[\"#f22c40\"],\"fill_alpha\":[0.8],\"height\":[54517.0],\"label\":[\"(16594.000000, 18668.250000]\"],\"line_alpha\":[1.0],\"line_color\":[\"black\"],\"width\":[2074.25],\"x\":[\"17631.125\"],\"y\":[27258.5]}},\"id\":\"e8230748-d01c-4de3-9346-3a3d27a64491\",\"type\":\"ColumnDataSource\"},{\"attributes\":{\"fill_alpha\":{\"field\":\"fill_alpha\"},\"fill_color\":{\"field\":\"color\"},\"height\":{\"field\":\"height\",\"units\":\"data\"},\"line_color\":{\"field\":\"line_color\"},\"width\":{\"field\":\"width\",\"units\":\"data\"},\"x\":{\"field\":\"x\"},\"y\":{\"field\":\"y\"}},\"id\":\"f4ba4688-a076-48ad-b782-b64effcba856\",\"type\":\"Rect\"},{\"attributes\":{\"callback\":null,\"column_names\":[\"width\",\"line_color\",\"x\",\"fill_alpha\",\"line_alpha\",\"y\",\"label\",\"height\",\"color\"],\"data\":{\"chart_index\":[\"(4148.500000, 6222.750000]\"],\"color\":[\"#f22c40\"],\"fill_alpha\":[0.8],\"height\":[1718633.0],\"label\":[\"(4148.500000, 6222.750000]\"],\"line_alpha\":[1.0],\"line_color\":[\"black\"],\"width\":[2074.25],\"x\":[\"5185.625\"],\"y\":[859316.5]}},\"id\":\"97509e8e-76d0-4b04-912d-aa55292e058d\",\"type\":\"ColumnDataSource\"},{\"attributes\":{\"callback\":null,\"column_names\":[\"width\",\"line_color\",\"x\",\"fill_alpha\",\"line_alpha\",\"y\",\"label\",\"height\",\"color\"],\"data\":{\"chart_index\":[\"(18668.250000, 20742.500000]\"],\"color\":[\"#f22c40\"],\"fill_alpha\":[0.8],\"height\":[27570.0],\"label\":[\"(18668.250000, 20742.500000]\"],\"line_alpha\":[1.0],\"line_color\":[\"black\"],\"width\":[2074.25],\"x\":[\"19705.375\"],\"y\":[13785.0]}},\"id\":\"67bec15f-5c5b-4da5-8158-41c49d55478d\",\"type\":\"ColumnDataSource\"},{\"attributes\":{\"callback\":null,\"column_names\":[\"width\",\"line_color\",\"x\",\"fill_alpha\",\"line_alpha\",\"y\",\"label\",\"height\",\"color\"],\"data\":{\"chart_index\":[\"(20742.500000, 22816.750000]\"],\"color\":[\"#f22c40\"],\"fill_alpha\":[0.8],\"height\":[13117.0],\"label\":[\"(20742.500000, 22816.750000]\"],\"line_alpha\":[1.0],\"line_color\":[\"black\"],\"width\":[2074.25],\"x\":[\"21779.625\"],\"y\":[6558.5]}},\"id\":\"42fecc93-6103-4c66-a170-f6ae8ddb5a15\",\"type\":\"ColumnDataSource\"},{\"attributes\":{\"below\":[{\"id\":\"c3fd8caf-f914-42c2-b54f-9bee350c3609\",\"type\":\"LinearAxis\"}],\"css_classes\":null,\"left\":[{\"id\":\"26745048-912c-45d0-84c7-813d24c97fd6\",\"type\":\"LinearAxis\"}],\"renderers\":[{\"id\":\"c24103c7-f4ca-4ad3-94e7-f7d5b5b5fd0b\",\"type\":\"BoxAnnotation\"},{\"id\":\"6115d843-1aa6-49f1-bbf1-390833096f35\",\"type\":\"GlyphRenderer\"},{\"id\":\"d9428fc4-4297-45f2-8394-1eb8a910c8a0\",\"type\":\"GlyphRenderer\"},{\"id\":\"1fd7c11e-28e6-4aeb-ab4e-884347fd47fb\",\"type\":\"GlyphRenderer\"},{\"id\":\"9e52fa4e-4e2c-4950-a014-449fba4959e6\",\"type\":\"GlyphRenderer\"},{\"id\":\"e03dffed-4869-454c-b8a6-d2dbab1140d3\",\"type\":\"GlyphRenderer\"},{\"id\":\"c34a7bd6-cccf-4a76-8c52-ccc96c1c95ce\",\"type\":\"GlyphRenderer\"},{\"id\":\"8fcad6fe-96b7-48a7-aea2-49a12ecec251\",\"type\":\"GlyphRenderer\"},{\"id\":\"fd5e5dba-4049-419b-9a2a-8be246738f78\",\"type\":\"GlyphRenderer\"},{\"id\":\"3afc7445-2141-46df-8b16-2129458b01c3\",\"type\":\"GlyphRenderer\"},{\"id\":\"d5c3ab6f-f05b-405c-aed2-9d0fc88c7568\",\"type\":\"GlyphRenderer\"},{\"id\":\"1bc47b4c-bd15-4a3f-859a-aa27c5796504\",\"type\":\"GlyphRenderer\"},{\"id\":\"bdb443e5-ac08-4c91-8c56-cde5c67bda9a\",\"type\":\"GlyphRenderer\"},{\"id\":\"512184e0-06ee-40fc-b4f5-bb803b41122b\",\"type\":\"GlyphRenderer\"},{\"id\":\"06adef49-c506-4dd2-aeca-7e0bb590e83a\",\"type\":\"GlyphRenderer\"},{\"id\":\"e0792d82-4f08-4e93-b18b-b78e13399cf0\",\"type\":\"GlyphRenderer\"},{\"id\":\"b3c9844b-e4cd-48a6-923c-8a2d331118e1\",\"type\":\"GlyphRenderer\"},{\"id\":\"f632d873-cc06-4e87-a95f-fdf3bdded7e6\",\"type\":\"GlyphRenderer\"},{\"id\":\"ef358706-2a4e-44b7-8fcd-78b4562efed3\",\"type\":\"GlyphRenderer\"},{\"id\":\"02ea9e63-0ce6-4da6-9972-fdda80535780\",\"type\":\"GlyphRenderer\"},{\"id\":\"3b066227-40bd-4998-8709-030040effc98\",\"type\":\"GlyphRenderer\"},{\"id\":\"764fa94f-4986-4412-a39b-8759d4a167f1\",\"type\":\"Legend\"},{\"id\":\"c3fd8caf-f914-42c2-b54f-9bee350c3609\",\"type\":\"LinearAxis\"},{\"id\":\"26745048-912c-45d0-84c7-813d24c97fd6\",\"type\":\"LinearAxis\"},{\"id\":\"3206a855-4de0-47ba-a446-4c4f028be590\",\"type\":\"Grid\"}],\"title\":{\"id\":\"dfb22023-a30f-45fe-968e-4a31e19cf22a\",\"type\":\"Title\"},\"tool_events\":{\"id\":\"878e2ce0-45ef-46ab-84d7-d8b72a4c9bfe\",\"type\":\"ToolEvents\"},\"toolbar\":{\"id\":\"bb4076ee-d203-4c9c-90ec-dcd8907f0172\",\"type\":\"Toolbar\"},\"x_mapper_type\":\"auto\",\"x_range\":{\"id\":\"5f7275e2-b7bc-4819-9c8c-f791cf83d5ba\",\"type\":\"Range1d\"},\"y_mapper_type\":\"auto\",\"y_range\":{\"id\":\"bfc41be7-5408-41ec-b181-d9f432081eca\",\"type\":\"Range1d\"}},\"id\":\"29f32740-91c3-4780-9483-47cb4d592bac\",\"subtype\":\"Chart\",\"type\":\"Plot\"},{\"attributes\":{\"data_source\":{\"id\":\"8e4d547a-1258-4146-be44-f8013953ff42\",\"type\":\"ColumnDataSource\"},\"glyph\":{\"id\":\"2ed9ef96-69a7-4ecc-8ba5-97a4d74847bf\",\"type\":\"Rect\"},\"hover_glyph\":null,\"muted_glyph\":null},\"id\":\"d9428fc4-4297-45f2-8394-1eb8a910c8a0\",\"type\":\"GlyphRenderer\"},{\"attributes\":{\"data_source\":{\"id\":\"97509e8e-76d0-4b04-912d-aa55292e058d\",\"type\":\"ColumnDataSource\"},\"glyph\":{\"id\":\"14910d36-ed5c-4f34-a5a9-745141df9af9\",\"type\":\"Rect\"},\"hover_glyph\":null,\"muted_glyph\":null},\"id\":\"1fd7c11e-28e6-4aeb-ab4e-884347fd47fb\",\"type\":\"GlyphRenderer\"},{\"attributes\":{\"callback\":null,\"column_names\":[\"width\",\"line_color\",\"x\",\"fill_alpha\",\"line_alpha\",\"y\",\"label\",\"height\",\"color\"],\"data\":{\"chart_index\":[\"(10371.250000, 12445.500000]\"],\"color\":[\"#f22c40\"],\"fill_alpha\":[0.8],\"height\":[343461.0],\"label\":[\"(10371.250000, 12445.500000]\"],\"line_alpha\":[1.0],\"line_color\":[\"black\"],\"width\":[2074.25],\"x\":[\"11408.375\"],\"y\":[171730.5]}},\"id\":\"a2c8ee95-3870-42df-b169-faed66f3ecb5\",\"type\":\"ColumnDataSource\"},{\"attributes\":{\"callback\":null,\"column_names\":[\"width\",\"line_color\",\"x\",\"fill_alpha\",\"line_alpha\",\"y\",\"label\",\"height\",\"color\"],\"data\":{\"chart_index\":[\"(35262.250000, 37336.500000]\"],\"color\":[\"#f22c40\"],\"fill_alpha\":[0.8],\"height\":[15.0],\"label\":[\"(35262.250000, 37336.500000]\"],\"line_alpha\":[1.0],\"line_color\":[\"black\"],\"width\":[2074.25],\"x\":[\"36299.375\"],\"y\":[7.5]}},\"id\":\"a327c1b3-6059-4480-a9dc-df637519fa91\",\"type\":\"ColumnDataSource\"},{\"attributes\":{\"overlay\":{\"id\":\"c24103c7-f4ca-4ad3-94e7-f7d5b5b5fd0b\",\"type\":\"BoxAnnotation\"},\"plot\":{\"id\":\"29f32740-91c3-4780-9483-47cb4d592bac\",\"subtype\":\"Chart\",\"type\":\"Plot\"}},\"id\":\"563e3c95-aa7d-41a4-92f8-5ad22eb20c4d\",\"type\":\"BoxZoomTool\"},{\"attributes\":{\"callback\":null,\"column_names\":[\"width\",\"line_color\",\"x\",\"fill_alpha\",\"line_alpha\",\"y\",\"label\",\"height\",\"color\"],\"data\":{\"chart_index\":[\"[0.000000, 2074.250000]\"],\"color\":[\"#f22c40\"],\"fill_alpha\":[0.8],\"height\":[3640021.0],\"label\":[\"[0.000000, 2074.250000]\"],\"line_alpha\":[1.0],\"line_color\":[\"black\"],\"width\":[2074.25],\"x\":[\"1037.125\"],\"y\":[1820010.5]}},\"id\":\"c77891f2-bb83-4e68-a2f9-89b83ee67a4c\",\"type\":\"ColumnDataSource\"},{\"attributes\":{\"data_source\":{\"id\":\"67bec15f-5c5b-4da5-8158-41c49d55478d\",\"type\":\"ColumnDataSource\"},\"glyph\":{\"id\":\"55587c5a-7daf-490c-9685-4a05f19694b4\",\"type\":\"Rect\"},\"hover_glyph\":null,\"muted_glyph\":null},\"id\":\"d5c3ab6f-f05b-405c-aed2-9d0fc88c7568\",\"type\":\"GlyphRenderer\"},{\"attributes\":{\"data_source\":{\"id\":\"d753720e-8f05-4665-93b4-204c22d556ac\",\"type\":\"ColumnDataSource\"},\"glyph\":{\"id\":\"d1d771ce-437f-4ced-93e0-c9970fc87f7c\",\"type\":\"Rect\"},\"hover_glyph\":null,\"muted_glyph\":null},\"id\":\"b3c9844b-e4cd-48a6-923c-8a2d331118e1\",\"type\":\"GlyphRenderer\"},{\"attributes\":{\"fill_alpha\":{\"field\":\"fill_alpha\"},\"fill_color\":{\"field\":\"color\"},\"height\":{\"field\":\"height\",\"units\":\"data\"},\"line_color\":{\"field\":\"line_color\"},\"width\":{\"field\":\"width\",\"units\":\"data\"},\"x\":{\"field\":\"x\"},\"y\":{\"field\":\"y\"}},\"id\":\"b9efcae3-2482-4b09-b1e2-2c91492b66d5\",\"type\":\"Rect\"}],\"root_ids\":[\"29f32740-91c3-4780-9483-47cb4d592bac\"]},\"title\":\"Bokeh Application\",\"version\":\"0.12.5\"}};\n",
       "            var render_items = [{\"docid\":\"6de23491-cb89-4126-ad38-ceb629a97152\",\"elementid\":\"8eaa67ff-05cd-437a-a88e-4b6960453a0c\",\"modelid\":\"29f32740-91c3-4780-9483-47cb4d592bac\"}];\n",
       "            \n",
       "            Bokeh.embed.embed_items(docs_json, render_items);\n",
       "          };\n",
       "          if (document.readyState != \"loading\") fn();\n",
       "          else document.addEventListener(\"DOMContentLoaded\", fn);\n",
       "        })();\n",
       "      },\n",
       "      function(Bokeh) {\n",
       "      }\n",
       "    ];\n",
       "  \n",
       "    function run_inline_js() {\n",
       "      \n",
       "      if ((window.Bokeh !== undefined) || (force === true)) {\n",
       "        for (var i = 0; i < inline_js.length; i++) {\n",
       "          inline_js[i](window.Bokeh);\n",
       "        }if (force === true) {\n",
       "          display_loaded();\n",
       "        }} else if (Date.now() < window._bokeh_timeout) {\n",
       "        setTimeout(run_inline_js, 100);\n",
       "      } else if (!window._bokeh_failed_load) {\n",
       "        console.log(\"Bokeh: BokehJS failed to load within specified timeout.\");\n",
       "        window._bokeh_failed_load = true;\n",
       "      } else if (force !== true) {\n",
       "        var cell = $(document.getElementById(\"8eaa67ff-05cd-437a-a88e-4b6960453a0c\")).parents('.cell').data().cell;\n",
       "        cell.output_area.append_execute_result(NB_LOAD_WARNING)\n",
       "      }\n",
       "  \n",
       "    }\n",
       "  \n",
       "    if (window._bokeh_is_loading === 0) {\n",
       "      console.log(\"Bokeh: BokehJS loaded, going straight to plotting\");\n",
       "      run_inline_js();\n",
       "    } else {\n",
       "      load_libs(js_urls, function() {\n",
       "        console.log(\"Bokeh: BokehJS plotting callback run at\", now());\n",
       "        run_inline_js();\n",
       "      });\n",
       "    }\n",
       "  }(this));\n",
       "</script>"
      ]
     },
     "metadata": {},
     "output_type": "display_data"
    }
   ],
   "source": [
    "b_hist_driver = chrt.Histogram(data_driver, values='obs',title='Histogram of \\'balance\\' using .Histogram()',bins=20)\n",
    "chrt.show(b_hist_driver)"
   ]
  },
  {
   "cell_type": "markdown",
   "metadata": {},
   "source": [
    "### Interactions between features\n",
    " - 산포도(Scatter plot)의 경우 우리는 최대 3가지의 변수를 동시에 사용할 수 있다. "
   ]
  },
  {
   "cell_type": "code",
   "execution_count": 134,
   "metadata": {
    "collapsed": true
   },
   "outputs": [],
   "source": [
    "data_sample = fraud_df.sampleBy('gender', {1: 0.0002, 2: 0.0002}).select(numerical)"
   ]
  },
  {
   "cell_type": "markdown",
   "metadata": {},
   "source": [
    " - put multiple 2D charts in one go"
   ]
  },
  {
   "cell_type": "code",
   "execution_count": 135,
   "metadata": {
    "collapsed": false
   },
   "outputs": [
    {
     "data": {
      "text/html": [
       "\n",
       "\n",
       "    <div class=\"bk-root\">\n",
       "        <div class=\"bk-plotdiv\" id=\"de19e73a-88ce-408b-a2d1-b292a2abc76c\"></div>\n",
       "    </div>\n",
       "<script type=\"text/javascript\">\n",
       "  \n",
       "  (function(global) {\n",
       "    function now() {\n",
       "      return new Date();\n",
       "    }\n",
       "  \n",
       "    var force = false;\n",
       "  \n",
       "    if (typeof (window._bokeh_onload_callbacks) === \"undefined\" || force === true) {\n",
       "      window._bokeh_onload_callbacks = [];\n",
       "      window._bokeh_is_loading = undefined;\n",
       "    }\n",
       "  \n",
       "  \n",
       "    \n",
       "    if (typeof (window._bokeh_timeout) === \"undefined\" || force === true) {\n",
       "      window._bokeh_timeout = Date.now() + 0;\n",
       "      window._bokeh_failed_load = false;\n",
       "    }\n",
       "  \n",
       "    var NB_LOAD_WARNING = {'data': {'text/html':\n",
       "       \"<div style='background-color: #fdd'>\\n\"+\n",
       "       \"<p>\\n\"+\n",
       "       \"BokehJS does not appear to have successfully loaded. If loading BokehJS from CDN, this \\n\"+\n",
       "       \"may be due to a slow or bad network connection. Possible fixes:\\n\"+\n",
       "       \"</p>\\n\"+\n",
       "       \"<ul>\\n\"+\n",
       "       \"<li>re-rerun `output_notebook()` to attempt to load from CDN again, or</li>\\n\"+\n",
       "       \"<li>use INLINE resources instead, as so:</li>\\n\"+\n",
       "       \"</ul>\\n\"+\n",
       "       \"<code>\\n\"+\n",
       "       \"from bokeh.resources import INLINE\\n\"+\n",
       "       \"output_notebook(resources=INLINE)\\n\"+\n",
       "       \"</code>\\n\"+\n",
       "       \"</div>\"}};\n",
       "  \n",
       "    function display_loaded() {\n",
       "      if (window.Bokeh !== undefined) {\n",
       "        var el = document.getElementById(\"de19e73a-88ce-408b-a2d1-b292a2abc76c\");\n",
       "        el.textContent = \"BokehJS \" + Bokeh.version + \" successfully loaded.\";\n",
       "      } else if (Date.now() < window._bokeh_timeout) {\n",
       "        setTimeout(display_loaded, 100)\n",
       "      }\n",
       "    }\n",
       "  \n",
       "    function run_callbacks() {\n",
       "      window._bokeh_onload_callbacks.forEach(function(callback) { callback() });\n",
       "      delete window._bokeh_onload_callbacks\n",
       "      console.info(\"Bokeh: all callbacks have finished\");\n",
       "    }\n",
       "  \n",
       "    function load_libs(js_urls, callback) {\n",
       "      window._bokeh_onload_callbacks.push(callback);\n",
       "      if (window._bokeh_is_loading > 0) {\n",
       "        console.log(\"Bokeh: BokehJS is being loaded, scheduling callback at\", now());\n",
       "        return null;\n",
       "      }\n",
       "      if (js_urls == null || js_urls.length === 0) {\n",
       "        run_callbacks();\n",
       "        return null;\n",
       "      }\n",
       "      console.log(\"Bokeh: BokehJS not loaded, scheduling load and callback at\", now());\n",
       "      window._bokeh_is_loading = js_urls.length;\n",
       "      for (var i = 0; i < js_urls.length; i++) {\n",
       "        var url = js_urls[i];\n",
       "        var s = document.createElement('script');\n",
       "        s.src = url;\n",
       "        s.async = false;\n",
       "        s.onreadystatechange = s.onload = function() {\n",
       "          window._bokeh_is_loading--;\n",
       "          if (window._bokeh_is_loading === 0) {\n",
       "            console.log(\"Bokeh: all BokehJS libraries loaded\");\n",
       "            run_callbacks()\n",
       "          }\n",
       "        };\n",
       "        s.onerror = function() {\n",
       "          console.warn(\"failed to load library \" + url);\n",
       "        };\n",
       "        console.log(\"Bokeh: injecting script tag for BokehJS library: \", url);\n",
       "        document.getElementsByTagName(\"head\")[0].appendChild(s);\n",
       "      }\n",
       "    };var element = document.getElementById(\"de19e73a-88ce-408b-a2d1-b292a2abc76c\");\n",
       "    if (element == null) {\n",
       "      console.log(\"Bokeh: ERROR: autoload.js configured with elementid 'de19e73a-88ce-408b-a2d1-b292a2abc76c' but no matching script tag was found. \")\n",
       "      return false;\n",
       "    }\n",
       "  \n",
       "    var js_urls = [];\n",
       "  \n",
       "    var inline_js = [\n",
       "      function(Bokeh) {\n",
       "        (function() {\n",
       "          var fn = function() {\n",
       "            var docs_json = {\"0c782ccd-eea0-4b76-b615-df19332aa1c6\":{\"roots\":{\"references\":[{\"attributes\":{\"location\":\"top_left\",\"plot\":{\"id\":\"dee6b3b1-d14b-464f-8971-c5ae0e5ede8a\",\"subtype\":\"Chart\",\"type\":\"Plot\"}},\"id\":\"da90ed09-fe37-45bf-8b15-5ba1ed935fda\",\"type\":\"Legend\"},{\"attributes\":{\"callback\":null,\"column_names\":[\"x_values\",\"y_values\"],\"data\":{\"chart_index\":[null,null,null,null,null,null,null,null,null,null,null,null,null,null,null,null,null,null,null,null,null,null,null,null,null,null,null,null,null,null,null,null,null,null,null,null,null,null,null,null,null,null,null,null,null,null,null,null,null,null,null,null,null,null,null,null,null,null,null,null,null,null,null,null,null,null,null,null,null,null,null,null,null,null,null,null,null,null,null,null,null,null,null,null,null,null,null,null,null,null,null,null,null,null,null,null,null,null,null,null,null,null,null,null,null,null,null,null,null,null,null,null,null,null,null,null,null,null,null,null,null,null,null,null,null,null,null,null,null,null,null,null,null,null,null,null,null,null,null,null,null,null,null,null,null,null,null,null,null,null,null,null,null,null,null,null,null,null,null,null,null,null,null,null,null,null,null,null,null,null,null,null,null,null,null,null,null,null,null,null,null,null,null,null,null,null,null,null,null,null,null,null,null,null,null,null,null,null,null,null,null,null,null,null,null,null,null,null,null,null,null,null,null,null,null,null,null,null,null,null,null,null,null,null,null,null,null,null,null,null,null,null,null,null,null,null,null,null,null,null,null,null,null,null,null,null,null,null,null,null,null,null,null,null,null,null,null,null,null,null,null,null,null,null,null,null,null,null,null,null,null,null,null,null,null,null,null,null,null,null,null,null,null,null,null,null,null,null,null,null,null,null,null,null,null,null,null,null,null,null,null,null,null,null,null,null,null,null,null,null,null,null,null,null,null,null,null,null,null,null,null,null,null,null,null,null,null,null,null,null,null,null,null,null,null,null,null,null,null,null,null,null,null,null,null,null,null,null,null,null,null,null,null,null,null,null,null,null,null,null,null,null,null,null,null,null,null,null,null,null,null,null,null,null,null,null,null,null,null,null,null,null,null,null,null,null,null,null,null,null,null,null,null,null,null,null,null,null,null,null,null,null,null,null,null,null,null,null,null,null,null,null,null,null,null,null,null,null,null,null,null,null,null,null,null,null,null,null,null,null,null,null,null,null,null,null,null,null,null,null,null,null,null,null,null,null,null,null,null,null,null,null,null,null,null,null,null,null,null,null,null,null,null,null,null,null,null,null,null,null,null,null,null,null,null,null,null,null,null,null,null,null,null,null,null,null,null,null,null,null,null,null,null,null,null,null,null,null,null,null,null,null,null,null,null,null,null,null,null,null,null,null,null,null,null,null,null,null,null,null,null,null,null,null,null,null,null,null,null,null,null,null,null,null,null,null,null,null,null,null,null,null,null,null,null,null,null,null,null,null,null,null,null,null,null,null,null,null,null,null,null,null,null,null,null,null,null,null,null,null,null,null,null,null,null,null,null,null,null,null,null,null,null,null,null,null,null,null,null,null,null,null,null,null,null,null,null,null,null,null,null,null,null,null,null,null,null,null,null,null,null,null,null,null,null,null,null,null,null,null,null,null,null,null,null,null,null,null,null,null,null,null,null,null,null,null,null,null,null,null,null,null,null,null,null,null,null,null,null,null,null,null,null,null,null,null,null,null,null,null,null,null,null,null,null,null,null,null,null,null,null,null,null,null,null,null,null,null,null,null,null,null,null,null,null,null,null,null,null,null,null,null,null,null,null,null,null,null,null,null,null,null,null,null,null,null,null,null,null,null,null,null,null,null,null,null,null,null,null,null,null,null,null,null,null,null,null,null,null,null,null,null,null,null,null,null,null,null,null,null,null,null,null,null,null,null,null,null,null,null,null,null,null,null,null,null,null,null,null,null,null,null,null,null,null,null,null,null,null,null,null,null,null,null,null,null,null,null,null,null,null,null,null,null,null,null,null,null,null,null,null,null,null,null,null,null,null,null,null,null,null,null,null,null,null,null,null,null,null,null,null,null,null,null,null,null,null,null,null,null,null,null,null,null,null,null,null,null,null,null,null,null,null,null,null,null,null,null,null,null,null,null,null,null,null,null,null,null,null,null,null,null,null,null,null,null,null,null,null,null,null,null,null,null,null,null,null,null,null,null,null,null,null,null,null,null,null,null,null,null,null,null,null,null,null,null,null,null,null,null,null,null,null,null,null,null,null,null,null,null,null,null,null,null,null,null,null,null,null,null,null,null,null,null,null,null,null,null,null,null,null,null,null,null,null,null,null,null,null,null,null,null,null,null,null,null,null,null,null,null,null,null,null,null,null,null,null,null,null,null,null,null,null,null,null,null,null,null,null,null,null,null,null,null,null,null,null,null,null,null,null,null,null,null,null,null,null,null,null,null,null,null,null,null,null,null,null,null,null,null,null,null,null,null,null,null,null,null,null,null,null,null,null,null,null,null,null,null,null,null,null,null,null,null,null,null,null,null,null,null,null,null,null,null,null,null,null,null,null,null,null,null,null,null,null,null,null,null,null,null,null,null,null,null,null,null,null,null,null,null,null,null,null,null,null,null,null,null,null,null,null,null,null,null,null,null,null,null,null,null,null,null,null,null,null,null,null,null,null,null,null,null,null,null,null,null,null,null,null,null,null,null,null,null,null,null,null,null,null,null,null,null,null,null,null,null,null,null,null,null,null,null,null,null,null,null,null,null,null,null,null,null,null,null,null,null,null,null,null,null,null,null,null,null,null,null,null,null,null,null,null,null,null,null,null,null,null,null,null,null,null,null,null,null,null,null,null,null,null,null,null,null,null,null,null,null,null,null,null,null,null,null,null,null,null,null,null,null,null,null,null,null,null,null,null,null,null,null,null,null,null,null,null,null,null,null,null,null,null,null,null,null,null,null,null,null,null,null,null,null,null,null,null,null,null,null,null,null,null,null,null,null,null,null,null,null,null,null,null,null,null,null,null,null,null,null,null,null,null,null,null,null,null,null,null,null,null,null,null,null,null,null,null,null,null,null,null,null,null,null,null,null,null,null,null,null,null,null,null,null,null,null,null,null,null,null,null,null,null,null,null,null,null,null,null,null,null,null,null,null,null,null,null,null,null,null,null,null,null,null,null,null,null,null,null,null,null,null,null,null,null,null,null,null,null,null,null,null,null,null,null,null,null,null,null,null,null,null,null,null,null,null,null,null,null,null,null,null,null,null,null,null,null,null,null,null,null,null,null,null,null,null,null,null,null,null,null,null,null,null,null,null,null,null,null,null,null,null,null,null,null,null,null,null,null,null,null,null,null,null,null,null,null,null,null,null,null,null,null,null,null,null,null,null,null,null,null,null,null,null,null,null,null,null,null,null,null,null,null,null,null,null,null,null,null,null,null,null,null,null,null,null,null,null,null,null,null,null,null,null,null,null,null,null,null,null,null,null,null,null,null,null,null,null,null,null,null,null,null,null,null,null,null,null,null,null,null,null,null,null,null,null,null,null,null,null,null,null,null,null,null,null,null,null,null,null,null,null,null,null,null,null,null,null,null,null,null,null,null,null,null,null,null,null,null,null,null,null,null,null,null,null,null,null,null,null,null,null,null,null,null,null,null,null,null,null,null,null,null,null,null,null,null,null,null,null,null,null,null,null,null,null,null,null,null,null,null,null,null,null,null,null,null,null,null,null,null,null,null,null,null,null,null,null,null,null,null,null,null,null,null,null,null,null,null,null,null,null,null,null,null,null,null,null,null,null,null,null,null,null,null,null,null,null,null,null,null,null,null,null,null,null,null,null,null,null,null,null,null,null,null,null,null,null,null,null,null,null,null,null,null,null,null,null,null,null,null,null,null,null,null,null,null,null,null,null,null,null,null,null,null,null,null,null,null,null,null,null,null,null,null,null,null,null,null,null,null,null,null,null,null,null,null,null,null,null,null,null,null,null,null,null,null,null,null,null,null,null,null,null,null,null,null,null,null,null,null,null,null,null,null,null,null,null,null,null,null,null,null,null,null,null,null,null,null,null,null,null,null,null,null,null,null,null,null,null,null,null,null,null,null,null,null,null,null,null,null,null,null,null,null,null,null,null,null,null,null,null,null,null,null,null,null,null,null,null,null,null,null,null,null,null,null,null,null,null,null,null,null,null,null,null,null,null,null,null,null,null,null,null,null,null,null,null,null,null,null,null,null,null,null,null,null,null,null,null,null,null,null,null,null,null,null,null,null,null,null,null,null,null,null,null,null,null,null,null,null,null,null,null,null,null,null,null,null,null,null,null,null,null,null,null,null,null,null,null,null,null,null,null,null,null,null,null,null,null,null,null,null,null,null,null,null,null,null,null,null,null,null,null,null,null,null,null,null,null,null,null,null,null,null,null,null,null,null,null,null,null,null,null,null,null,null,null,null,null,null,null,null,null,null,null,null,null,null,null,null,null,null,null,null,null,null,null,null,null,null,null,null,null,null,null,null,null,null,null,null,null,null,null,null,null,null,null,null,null,null,null,null,null,null,null,null,null,null,null,null,null,null,null,null,null,null,null,null,null,null,null,null,null,null,null,null,null,null,null,null,null,null,null,null,null,null,null,null,null,null,null,null,null,null,null,null,null,null,null,null,null,null,null,null,null,null,null,null,null,null,null,null,null,null,null,null,null,null,null,null,null,null],\"x_values\":[4000,5000,0,0,12000,11770,9090,351,0,0,5937,16972,0,6000,2450,1408,0,6931,0,6000,6000,6000,0,1544,0,12860,0,6000,0,142,4240,3311,3000,0,3686,0,3000,9339,3379,4000,7996,3409,5000,9320,0,0,3374,7000,5000,9000,1474,0,4000,0,16573,6852,0,0,0,5000,5000,4000,3437,0,0,2928,2000,0,549,9000,5000,0,4000,4000,11000,9000,0,0,8000,0,1270,0,7196,5000,5000,2881,5000,4000,6000,0,7000,6000,6000,4000,4000,4078,9000,4062,0,0,4000,5000,11000,4000,2683,6000,0,0,4888,0,4000,3406,1770,4000,4000,7000,0,0,7277,6000,4000,9891,3278,5672,8023,4000,7000,4000,25033,10000,10562,10000,0,8538,7000,3975,0,4000,6000,2177,1379,0,2017,4000,0,3511,4412,0,0,9661,1343,5007,7000,0,10000,4000,3497,9000,0,0,10514,8000,4000,5461,711,0,771,2648,6000,7000,5000,11000,0,9852,4000,0,0,3771,1442,0,3000,1595,6787,4377,7000,5000,19437,6491,7994,7000,6000,1300,5129,0,1501,0,9000,12000,0,4000,5887,0,3000,4000,3000,3000,1177,3000,0,0,4000,5710,103,0,450,0,4000,4000,5000,1948,0,2658,6000,3299,0,9000,2240,3000,2000,1064,0,4000,8038,8548,11000,4451,3000,10598,0,14841,0,11000,3568,942,0,0,0,0,3809,9027,0,7011,0,0,3431,6000,9000,4000,0,0,3000,5000,0,4555,0,0,0,5529,6443,4777,218,4707,3420,2000,1369,0,0,0,9766,6000,4000,2398,6000,2000,8000,3955,0,8000,6610,0,4000,0,5000,5000,0,0,8675,10000,8000,0,4000,0,16393,6521,6000,11000,0,0,0,8916,4000,0,12007,3478,14638,8000,395,1386,0,0,6152,4000,0,5000,2000,0,10000,10241,10454,0,0,3000,3000,0,0,459,3342,0,1503,4000,6000,17218,4000,10000,0,0,4000,8790,6304,8000,0,0,7000,3000,10000,0,0,12696,5891,5000,0,5754,4857,3000,955,4000,4441,0,4000,0,6000,3458,2988,0,7819,4000,6000,7000,4000,1688,3000,14000,3000,4000,6000,0,0,0,5967,0,5000,14918,0,3734,0,373,0,6000,6050,4413,6981,1668,2079,3110,3000,0,13457,11000,13609,4407,1534,8256,2007,1143,3000,8000,8437,6428,5000,3294,0,10943,6000,0,793,4000,6000,0,12000,10568,9768,5000,10000,1042,9000,9862,7000,5113,5000,7000,3235,4000,968,0,3950,0,2220,6000,1396,670,4000,11000,6969,6000,1232,4000,0,3000,6828,2740,10858,3000,4000,3000,14653,1703,0,10506,7912,15193,3000,7689,0,7000,0,6000,0,3418,3785,1724,7194,0,12000,15000,0,4691,2707,1015,5000,0,0,0,4000,3814,13000,6091,0,3000,5959,6355,386,7000,6000,3174,4692,3000,5741,17000,3000,0,3000,8870,6000,4000,957,2000,16142,2032,0,3000,6000,0,5000,4000,4000,0,3000,6000,1660,0,3000,7000,0,4000,7025,3160,0,5000,0,1317,4436,2491,4485,0,4000,9000,10000,6231,4000,5000,5000,0,8000,0,4000,10000,4000,5000,9000,4000,0,6000,3000,16325,13989,0,0,2429,0,9000,4458,8263,3000,1287,0,1521,4000,7000,13000,18928,10000,8447,6000,1899,0,80,3100,7000,0,6000,0,0,0,0,7923,9000,4146,0,3957,1087,0,1647,10151,0,4517,3000,3387,0,6000,625,1469,120,7000,11760,3000,1598,7000,898,3000,1010,0,5000,1588,7625,0,957,0,2610,1580,2330,2841,5000,21144,9623,3678,6392,6000,3000,5000,4000,9000,1905,7000,2329,4000,5000,0,9330,4109,8000,0,629,4000,0,6000,0,7003,8000,5000,4000,4000,5081,11973,0,902,0,3965,11000,8000,5000,6230,4169,4000,0,7000,5000,4000,7000,6000,4000,6000,1302,6471,5000,4226,3000,8000,729,5000,992,0,3000,0,1605,4000,0,247,0,0,3000,0,3962,0,0,5000,4207,6609,2000,3932,8132,4397,3000,10480,17000,0,10600,9000,2063,4824,3000,4000,3000,2309,5000,0,3608,7000,6000,4000,15177,16888,2351,10000,3191,2493,0,2531,2670,2478,0,5000,0,5000,3000,4000,6749,5000,8113,2977,4507,11813,0,3000,0,0,1288,6000,3000,0,0,3000,231,1687,5000,5000,0,0,887,12343,17749,3000,3672,6837,5000,0,8184,4000,0,3000,6000,16985,0,7117,7000,0,5667,3401,0,0,4152,4000,3000,3756,3000,4035,5000,0,0,5000,3864,3000,0,4000,2306,3000,7000,0,4000,3000,6000,13514,0,2616,7442,11000,2522,14000,0,7000,8437,5731,2507,16248,6641,4592,7000,0,8250,2485,7000,7000,5000,11970,0,6330,4427,5000,6000,0,4000,5000,0,11000,0,3000,4000,2000,621,0,6000,3000,1899,3000,3695,4000,0,0,3268,2803,0,8000,0,0,3000,2979,0,9355,15427,4672,5967,0,2151,6888,9000,8670,4994,6169,2423,3000,5000,4489,83,0,6000,3000,3284,0,5000,0,0,5000,8843,0,0,3000,0,0,5856,4000,0,1663,0,388,770,12894,0,3000,5000,0,4000,4359,3896,4730,8376,2385,0,12210,0,8000,0,0,0,0,0,4000,0,0,4000,10535,9991,4316,4301,12000,13378,8000,4000,0,3000,0,4000,0,11000,4000,0,90,0,3000,7000,5496,7851,6000,3000,4000,7652,0,7000,0,0,3000,0,5000,0,5000,4000,6000,13000,4000,4000,6000,4000,3058,4000,4138,5000,11228,3000,7944,3000,2651,0,0,16422,4000,6000,3654,0,9000,3339,0,3000,0,5000,8000,6351,6703,4000,3964,950,13855,0,20935,0,0,5058,4000,3000,8000,0,3000,2723,8413,0,3000,4000,3554,5000,13518,4000,0,431,6018,0,0,0,847,7706,4000,1862,18000,1521,8000,0,7000,0,4000,1976,8125,0,0,0,5000,722,3000,6000,2629,0,6000,3539,21000,3000,4242,7000,8147,2158,2906,2155,4702,11000,3000,8253,4000,11355,6632,8455,0,10024,1679,20858,7827,3000,7000,916,13273,7000,2167,5000,5000,1663,0,0,5000,1641,4000,0,6000,4000,9000,0,5868,4000,0,5000,12134,5000,2365,0,5000,184,5974,0,3000,0,4630,0,4788,5706,17000,1225,0,11000,8000,7854,6000,10000,0,11875,0,3093,9404,8000,0,9913,0,3000,3712,4000,7259,940,10055,15484,4000,6881,13223,5000,1274,4077,0,885,4197,0,1791,0,4000,0,4000,0,4000,6000,6943,7697,4000,5000,9000,0,3807,6893,3000,3000,1108,2000,2363,0,0,0,6761,0,1889,3621,2724,0,3000,5000,7000,4000,3397,1208,0,9000,8000,4000,5615,6670,0,12732,6000,11041,11745,1976,10716,4000,0,4000,0,0,13000,9000,5000,4000,8000,0,0,5000,12379,0,0,0,7000,3455,0,0,6653,5213,1875,0,9000,8000,10614,16807,8000,0,8998,3000,0,0,0,2641,13000,7000,3000,0,720,3000,7000,8000,809,2393,4000,10220,0,0,4000,6000,17966,18000,2472,10000,9411,1286,0,70,4000,0,13000,3479,3425,4883,3567,0,15487,0,3000,7203,0,16090,6271,0,4000,2000,0,1830,0,2646,5000,3000,2840,302,0,0,1431,2041,3000,11000,17626,0,4000,5000,13000,8000,4694,7346,7102,7338,0,5000,3000,1853,0,1420,193,6000,8855,2446,7000,0,4000,0,12661,0,9000,4000,3000,6000,2843,0,5555,0,7489,15205,5000,0,3000,0,4000,3000,9000,5000,4379,0,0,18101,7000,2000,6000,3000,6000,0,15570,7000,3403,9000,10150,4516,3000,10000,538,6000,6000,0,8000,0,0,6358,0,0,10676,2869,20296,5613,4252,0,0,8000,3666,0,3000,0,2000,3000,0,4000,3299,9000,0,1718,4585,7121,4000,1821,0,6599,5000,5512,4000,0,26,3215,0,0,3000,5000,11000,10537,2678,0,3889,3759,5000,0,3000,2000,0,0,0,7000,2570,0,11000,3000,8786,5265,404,5000,0,3927,5048,11100,0,3000,7000,0,0,5000,0,5000,6000,15994,3000,7050,5034,0,14000,3290,3000,988,9000,9000,4000,0,1752,0,2463,11071,0,2564,6000,4000,0,300,4000,5445,3000,3000,0,2595,5000,11000,8933,65,0,12000,1979,9085,0,4000,6000,3000,0,3000,3198,587,0,0,0,0,12000,0,9000,0,5000,0,3510,7000,0,0,0,4976,6000,346,0,5000,3000,4164,7648,1861,3246,3000,13035,8034,5000,0,4000,0,0,4000,0,8640,3298,2000,593,4615,2521,0,7000,13122,1698,0,7051,2276,4000,0,3008,0,15000,3064,11000,8250,4000,1190,3514,0,2422,1147,1611,0,0,0,10017,4428,0,3162,1492,13787,0,0,3644,9232,15557,3000,5000,4000,7000,7000,5751,8000,6134,3000,15759,0,6000,0,0,1849,2139,0,0,7052,6662,5000,0,0,3069,4100,0,0,3000,4290,15747,5000,11000,12000,4000,8706,9000,3000,0,2027,12602,5000,5000,814,11610,3609,5448,0,4000,6000,4000,0,4571,951,8000,8000,0,0,4095,664,6000,0,0,0,2053,18349,7000,3000,3000,8000,9288,0,0,7557,11192,0,8000,2891,10743,1878,0,1045,5924,0,5594,1573,0,5959,4000,0,12000,6000,3000,8225,0,0,2707,3000,0,3000,5412,2234,0,5000,11710,4000,6000,0,2696,1166,8497,5000,7517,3000,1824,0,4385,11000,0,11000,4000,4000,4000,4084,4000,0,8000,6000,0,0,3497,0,0,6000,0,9000,6000,16147,12000,0,0,6205,6630,37,926,6000,5986,7000,3000,4000,0,6000,6000,5000,5000,4361,3698,1858,4779,7783,4923,10976,5000,7000,6000,12000,157,4000,0,0,0,1569,0,2092,7000,7000,3000,3000,0,2913,3000,5000,0,3000,0,12000,3000,5000,9000,7093,0,3000,13519,2161,12329,0,13584,6000,13000,12192,0,4000,11000,2760,26640,0,4000,6700,4000,4000,6763,3071,0,0,0,4000,23,0,4000,0,0,6000,4000,0,3000,7000,0,4000,7000,0,6930,4993,2922,6000,0,6385,2000,4000,0,3000,0,7819,0,0,5000,0,0,18000,3211,0,4000,0,3000,0,2021,5000,0,0,10051,125,1724,3000,2564,1576,359,10468,3000,6000,0,15026,0,0,753,6000,0,0,6000,7000,4000,0,0,5000,9482,4790,10000,5000,0,6000,0,0,2842,3000,2126,1682,0,2061,4270,11000,0,7000,0,12000,8140,0,0,2458,6463,4000,6713,5000,7000,0,4000,6326,3626,7721,0,6000,4000,10494,1223,0,4825,15913,0,13000,3000,0,3000,5000,6000,0,0,784,3000,7000,6000,0,3306,6269,3000,0,3971,4000,0,1554,0,3886,4776,5000,0,0,9000,4738,5000,13241,0,5000,8274,3000,4000,8000,0,0,0,0,5943,2789,4000,0,4000,3000,0,1430,1951,5000,5000,9279,4870,0,2291,6000,9457,5000,5000,2696,9741,9000,3000,1174,3392,10000,6000,0,10000,0,5000,0,2000,4381,1670,0,6000,5000,0,3286,4000,3928,6000,2351,1302,2535,0,0,0,4000,15538,2578,5165,0,0,4000,0,8193,0,3000,8000,0,10000,7000,0,7322,7000],\"y_values\":[2,14,48,35,21,26,44,9,35,45,48,22,81,29,66,3,15,55,29,37,8,22,15,20,14,9,6,56,8,61,11,22,40,72,13,50,27,24,26,5,12,6,2,13,3,55,6,25,5,46,19,20,100,71,56,32,4,59,20,8,17,6,13,28,9,55,3,17,2,40,12,80,34,23,19,19,13,2,100,21,23,3,14,27,14,4,15,11,43,9,13,8,18,7,36,11,60,2,21,6,26,35,100,73,2,16,3,16,2,45,25,70,47,59,5,31,30,17,5,27,13,18,5,76,40,13,18,38,10,33,16,19,13,100,100,2,82,15,11,20,32,27,34,26,14,99,6,8,25,4,35,100,18,15,8,23,96,11,3,100,18,28,51,89,44,100,14,15,24,4,100,16,8,14,10,29,74,13,100,18,22,29,100,31,29,14,20,42,17,85,27,17,29,33,24,8,35,6,42,100,9,11,43,69,4,15,21,39,3,36,56,100,17,36,5,31,12,13,31,10,48,32,19,10,1,3,56,68,9,100,25,10,13,12,100,10,100,12,7,18,29,77,27,23,34,12,100,32,100,12,24,13,37,9,11,12,6,36,21,31,6,5,11,8,26,10,15,3,5,33,34,7,19,67,58,30,49,67,3,22,27,5,10,10,100,13,45,23,37,15,33,8,15,27,18,33,16,22,14,33,11,10,7,15,68,13,10,2,18,13,26,100,3,20,49,100,61,8,6,10,11,10,30,24,15,80,12,5,9,15,26,41,31,54,100,100,76,31,9,17,10,21,9,17,6,9,19,59,19,36,19,100,65,9,48,31,17,1,60,27,69,20,41,35,18,6,64,73,68,14,4,9,16,44,1,13,10,15,30,25,29,13,46,36,18,57,6,18,100,23,47,35,60,39,9,7,8,6,20,13,51,18,3,46,100,52,19,12,20,12,9,58,31,38,8,27,90,37,14,37,9,28,19,19,1,11,19,6,4,15,3,100,29,17,3,9,6,13,6,65,9,10,37,31,39,100,4,19,1,24,23,9,4,63,9,43,33,57,17,11,47,19,26,9,17,23,27,98,23,12,12,7,2,92,82,100,41,30,10,43,27,4,84,43,32,53,4,7,34,1,26,31,25,5,26,5,24,19,7,7,100,97,23,7,9,26,15,35,50,2,56,17,18,21,12,100,26,8,14,5,7,8,35,21,9,25,43,81,21,65,11,28,11,48,100,8,32,10,62,66,32,18,37,28,4,11,100,0,24,21,18,28,55,5,12,12,15,7,11,9,23,9,10,9,59,13,39,4,46,14,37,15,34,22,41,65,12,22,33,11,100,7,20,19,3,19,5,7,82,14,24,29,9,48,21,6,57,25,2,25,22,32,57,20,6,2,16,13,29,4,16,36,2,7,18,13,32,16,65,35,22,11,11,7,18,27,14,40,6,15,6,14,46,9,46,13,18,8,16,34,19,5,28,72,5,39,26,15,13,85,2,100,33,9,35,6,35,13,77,74,21,100,13,28,22,8,11,19,100,25,4,54,7,10,3,38,22,100,55,21,90,26,21,19,6,21,100,62,29,13,47,7,19,4,9,33,9,52,37,65,23,38,4,26,12,9,3,19,68,34,40,9,37,6,57,15,6,17,18,15,6,13,71,29,12,13,62,9,18,100,100,4,15,14,100,100,32,58,12,8,18,33,1,16,40,17,45,42,58,80,71,8,5,50,23,41,8,6,4,89,39,70,33,46,10,13,9,20,22,5,45,38,60,5,32,15,12,41,22,8,57,26,21,2,40,33,34,23,58,50,100,22,37,12,5,2,5,12,100,31,15,13,4,45,55,29,6,16,7,59,89,100,36,48,16,11,46,7,43,22,89,98,5,10,67,2,4,12,4,100,5,9,56,10,23,7,100,14,34,25,14,13,14,8,9,20,66,11,25,6,3,27,10,17,79,100,12,4,14,7,4,23,22,8,55,15,12,11,37,100,47,31,23,56,7,49,39,100,2,10,36,44,89,17,12,1,42,14,36,4,12,24,76,7,22,23,1,24,33,4,12,16,42,7,40,22,88,2,57,12,3,14,10,23,52,46,6,26,81,3,45,28,11,12,31,11,34,94,20,40,14,17,56,56,32,86,2,24,2,7,31,6,11,51,8,29,36,24,13,13,6,2,14,23,35,2,15,2,99,4,39,17,32,10,31,62,29,14,27,10,49,79,3,4,16,42,49,13,35,5,4,29,6,1,54,14,100,24,58,13,86,19,8,40,42,16,33,4,100,14,6,22,4,22,23,9,21,13,4,13,64,13,15,27,100,8,14,53,12,27,12,18,26,14,62,26,29,21,100,6,50,100,8,5,49,18,42,28,95,11,17,19,8,2,5,7,61,55,25,18,51,33,82,33,21,17,54,90,16,31,4,13,37,18,3,50,25,12,3,7,11,19,26,10,42,97,32,18,16,15,11,17,13,36,7,62,70,5,5,50,39,7,13,7,27,8,37,86,4,5,7,21,5,2,14,13,11,11,30,30,5,39,11,14,23,9,80,27,8,27,4,39,21,15,23,5,63,9,49,6,93,14,76,13,88,47,5,3,22,9,6,18,56,18,4,15,3,44,6,42,100,10,8,27,18,22,29,17,1,47,38,34,53,11,16,60,100,24,57,2,4,14,35,94,41,5,25,100,43,14,7,37,17,44,3,6,25,22,6,17,12,61,29,1,94,30,17,56,76,27,36,19,6,11,42,59,25,35,3,65,5,11,31,18,29,4,6,16,43,12,9,21,26,67,50,18,97,11,20,22,100,48,9,3,69,6,1,41,17,11,6,6,9,19,17,69,17,8,22,62,6,2,10,12,44,11,13,37,100,7,18,39,3,47,48,36,29,30,21,14,3,61,21,18,21,100,11,9,11,26,26,95,35,4,16,10,14,25,76,28,14,25,8,57,24,10,9,16,9,14,5,8,8,32,15,12,52,9,60,22,26,28,54,4,71,13,46,2,17,22,24,16,6,37,4,21,42,3,46,24,100,19,4,3,45,100,6,100,25,7,58,31,52,14,8,22,25,47,48,2,22,63,71,13,31,10,24,9,24,30,13,10,21,30,61,31,28,8,3,27,13,14,5,13,7,4,54,41,100,91,25,28,17,17,12,99,47,19,53,58,4,7,45,5,17,18,80,7,41,38,55,32,7,4,15,39,28,5,16,28,7,30,12,9,23,100,30,4,8,13,13,3,14,59,7,22,1,3,30,30,10,18,50,9,10,35,8,4,14,34,19,76,16,10,16,49,16,2,40,8,58,16,15,18,45,13,13,32,3,17,33,11,69,56,25,4,20,7,32,13,18,7,61,52,13,14,23,7,32,16,75,37,22,14,5,19,16,13,50,17,18,68,59,8,23,56,29,5,7,35,7,5,32,31,12,46,7,3,25,8,7,11,29,46,52,36,21,17,15,51,24,17,12,1,12,27,17,18,12,8,68,31,7,24,100,9,9,9,13,10,18,17,19,11,9,21,2,4,10,33,5,13,32,25,85,24,40,7,23,30,33,7,45,1,31,6,13,30,10,30,30,28,7,20,9,3,100,100,77,5,22,74,7,3,8,1,67,22,22,24,81,18,19,32,6,3,32,62,21,22,4,5,13,14,19,8,25,22,74,15,6,22,18,5,26,9,19,14,9,87,5,14,4,100,9,11,24,7,60,12,13,22,100,1,100,100,37,36,5,26,11,100,44,31,6,12,9,9,6,100,17,24,34,10,17,7,9,9,16,51,23,40,30,25,31,6,24,50,13,22,14,30,100,9,21,5,2,43,10,14,49,100,10,51,36,1,17,47,20,11,7,32,41,3,5,44,38,22,3,3,88,12,8,19,18,24,85,100,50,25,7,10,3,12,49,39,8,15,13,48,23,100,21,20,4,7,51,100,65,41,100,35,11,9,18,67,3,55,23,12,31,29,100,100,12,8,40,26,50,9,2,45,7,100,16,22,9,5,88,100,8,6,55,100,100,18,20,43,100,4,68,100,5,10,36,100,88,5,35,23,9,3,7,13,18,6,21,3,14,2,32,100,11,71,9,57,19,100,78,14,28,40,13,26,42,13,30,32,11,11,21,99,34,10,54,19,75,46,19,13,9,14,100,60,100,100,9,1,13,11,3,12,6,18,4,17,17,35,100,43,41,4,41,12,6,9,75,58,16,12,14,8,25,40,10,38,33,42,69,8,8,9,17,16,36,25,11,12,83,40,2,54,7,50,16,10,19,4,62,28,3,26,17,15,1,20,48,76,9,40,13,5,29,100,8,52,17,10,35,53,20,13,6,57,4,49,19,8,13,32,22,24,100,15,22,3,6,20,13,48,64,20,0,11,65,3,11,4,9,5,15,2,4,13,39,4,15,36,15,38,37,31,51,45,4,24,36,22,20,4,8,35,100,10,18,30,11,38,12,3,28,71,100,25,5,17,71,4,17,10,14,60,15,43,48,28,61,92,67]}},\"id\":\"c9743da6-cf4f-4e98-b573-2ba1b4dae7ea\",\"type\":\"ColumnDataSource\"},{\"attributes\":{\"callback\":null,\"end\":29304.0,\"start\":-2664.0},\"id\":\"71299787-fe12-4746-9f21-d5255c385b36\",\"type\":\"Range1d\"},{\"attributes\":{\"plot\":{\"id\":\"dee6b3b1-d14b-464f-8971-c5ae0e5ede8a\",\"subtype\":\"Chart\",\"type\":\"Plot\"}},\"id\":\"7cbd8d6e-6b8e-4067-bb53-7d4637d988d8\",\"type\":\"PanTool\"},{\"attributes\":{},\"id\":\"76cd12ca-fd99-4ce7-95ad-78351926fbf7\",\"type\":\"BasicTicker\"},{\"attributes\":{\"overlay\":{\"id\":\"936c141d-3685-41b4-8458-7088d67424e1\",\"type\":\"BoxAnnotation\"},\"plot\":{\"id\":\"dee6b3b1-d14b-464f-8971-c5ae0e5ede8a\",\"subtype\":\"Chart\",\"type\":\"Plot\"}},\"id\":\"b4ad3112-b7bc-4959-bb0a-e3d07d3644af\",\"type\":\"BoxZoomTool\"},{\"attributes\":{\"active_drag\":\"auto\",\"active_scroll\":\"auto\",\"active_tap\":\"auto\",\"tools\":[{\"id\":\"7cbd8d6e-6b8e-4067-bb53-7d4637d988d8\",\"type\":\"PanTool\"},{\"id\":\"b9830d45-567e-446a-bac3-65f3ff36ec7e\",\"type\":\"WheelZoomTool\"},{\"id\":\"b4ad3112-b7bc-4959-bb0a-e3d07d3644af\",\"type\":\"BoxZoomTool\"},{\"id\":\"dffb76c2-ec58-43db-8a5b-64f157892de6\",\"type\":\"SaveTool\"},{\"id\":\"05a560ea-1e45-423b-84d6-626cdc68b880\",\"type\":\"ResetTool\"},{\"id\":\"68309d6a-7baa-4da2-9169-5d7cd3ac7e3a\",\"type\":\"HelpTool\"}]},\"id\":\"2f199093-ffef-44fd-9255-4ec6b6826a15\",\"type\":\"Toolbar\"},{\"attributes\":{\"plot\":null,\"text\":null},\"id\":\"62577bc8-110c-4810-8751-4670112d516f\",\"type\":\"Title\"},{\"attributes\":{\"plot\":{\"id\":\"dee6b3b1-d14b-464f-8971-c5ae0e5ede8a\",\"subtype\":\"Chart\",\"type\":\"Plot\"}},\"id\":\"dffb76c2-ec58-43db-8a5b-64f157892de6\",\"type\":\"SaveTool\"},{\"attributes\":{\"axis_label\":\"balance\",\"formatter\":{\"id\":\"2f8e8e36-b9c5-4126-b0ee-a08bcbc80d42\",\"type\":\"BasicTickFormatter\"},\"plot\":{\"id\":\"dee6b3b1-d14b-464f-8971-c5ae0e5ede8a\",\"subtype\":\"Chart\",\"type\":\"Plot\"},\"ticker\":{\"id\":\"72d160a9-92dc-4180-a08f-2aa18082793c\",\"type\":\"BasicTicker\"}},\"id\":\"995d18c9-6d5c-4c76-97b3-f7c7d85ed653\",\"type\":\"LinearAxis\"},{\"attributes\":{},\"id\":\"72d160a9-92dc-4180-a08f-2aa18082793c\",\"type\":\"BasicTicker\"},{\"attributes\":{\"bottom_units\":\"screen\",\"fill_alpha\":{\"value\":0.5},\"fill_color\":{\"value\":\"lightgrey\"},\"left_units\":\"screen\",\"level\":\"overlay\",\"line_alpha\":{\"value\":1.0},\"line_color\":{\"value\":\"black\"},\"line_dash\":[4,4],\"line_width\":{\"value\":2},\"plot\":null,\"render_mode\":\"css\",\"right_units\":\"screen\",\"top_units\":\"screen\"},\"id\":\"936c141d-3685-41b4-8458-7088d67424e1\",\"type\":\"BoxAnnotation\"},{\"attributes\":{\"plot\":{\"id\":\"dee6b3b1-d14b-464f-8971-c5ae0e5ede8a\",\"subtype\":\"Chart\",\"type\":\"Plot\"},\"ticker\":{\"id\":\"72d160a9-92dc-4180-a08f-2aa18082793c\",\"type\":\"BasicTicker\"}},\"id\":\"a5067c8a-c51a-497c-9937-b26f2c0e19b2\",\"type\":\"Grid\"},{\"attributes\":{\"plot\":{\"id\":\"dee6b3b1-d14b-464f-8971-c5ae0e5ede8a\",\"subtype\":\"Chart\",\"type\":\"Plot\"}},\"id\":\"68309d6a-7baa-4da2-9169-5d7cd3ac7e3a\",\"type\":\"HelpTool\"},{\"attributes\":{\"axis_label\":\"numTrans\",\"formatter\":{\"id\":\"adc93f41-45f2-465e-b1bf-e7fada628524\",\"type\":\"BasicTickFormatter\"},\"plot\":{\"id\":\"dee6b3b1-d14b-464f-8971-c5ae0e5ede8a\",\"subtype\":\"Chart\",\"type\":\"Plot\"},\"ticker\":{\"id\":\"76cd12ca-fd99-4ce7-95ad-78351926fbf7\",\"type\":\"BasicTicker\"}},\"id\":\"652bb642-c420-476d-ab4d-6fc172baff71\",\"type\":\"LinearAxis\"},{\"attributes\":{\"data_source\":{\"id\":\"c9743da6-cf4f-4e98-b573-2ba1b4dae7ea\",\"type\":\"ColumnDataSource\"},\"glyph\":{\"id\":\"baa7ead4-de6a-43de-83b6-32e723ef2888\",\"type\":\"Circle\"},\"hover_glyph\":null,\"muted_glyph\":null},\"id\":\"015ca593-44f8-46db-a2a2-d2c35a772b9a\",\"type\":\"GlyphRenderer\"},{\"attributes\":{\"plot\":{\"id\":\"dee6b3b1-d14b-464f-8971-c5ae0e5ede8a\",\"subtype\":\"Chart\",\"type\":\"Plot\"}},\"id\":\"05a560ea-1e45-423b-84d6-626cdc68b880\",\"type\":\"ResetTool\"},{\"attributes\":{\"below\":[{\"id\":\"995d18c9-6d5c-4c76-97b3-f7c7d85ed653\",\"type\":\"LinearAxis\"}],\"css_classes\":null,\"left\":[{\"id\":\"652bb642-c420-476d-ab4d-6fc172baff71\",\"type\":\"LinearAxis\"}],\"renderers\":[{\"id\":\"936c141d-3685-41b4-8458-7088d67424e1\",\"type\":\"BoxAnnotation\"},{\"id\":\"015ca593-44f8-46db-a2a2-d2c35a772b9a\",\"type\":\"GlyphRenderer\"},{\"id\":\"da90ed09-fe37-45bf-8b15-5ba1ed935fda\",\"type\":\"Legend\"},{\"id\":\"995d18c9-6d5c-4c76-97b3-f7c7d85ed653\",\"type\":\"LinearAxis\"},{\"id\":\"652bb642-c420-476d-ab4d-6fc172baff71\",\"type\":\"LinearAxis\"},{\"id\":\"a5067c8a-c51a-497c-9937-b26f2c0e19b2\",\"type\":\"Grid\"},{\"id\":\"3bc1c590-442a-45dd-8f00-ae4aa8969b99\",\"type\":\"Grid\"}],\"title\":{\"id\":\"62577bc8-110c-4810-8751-4670112d516f\",\"type\":\"Title\"},\"tool_events\":{\"id\":\"326cb17d-ff5c-463a-88d1-f753d88316df\",\"type\":\"ToolEvents\"},\"toolbar\":{\"id\":\"2f199093-ffef-44fd-9255-4ec6b6826a15\",\"type\":\"Toolbar\"},\"x_mapper_type\":\"auto\",\"x_range\":{\"id\":\"71299787-fe12-4746-9f21-d5255c385b36\",\"type\":\"Range1d\"},\"y_mapper_type\":\"auto\",\"y_range\":{\"id\":\"79742e47-6b2f-4ddd-b5f0-ce03a6cbca94\",\"type\":\"Range1d\"}},\"id\":\"dee6b3b1-d14b-464f-8971-c5ae0e5ede8a\",\"subtype\":\"Chart\",\"type\":\"Plot\"},{\"attributes\":{\"plot\":{\"id\":\"dee6b3b1-d14b-464f-8971-c5ae0e5ede8a\",\"subtype\":\"Chart\",\"type\":\"Plot\"}},\"id\":\"b9830d45-567e-446a-bac3-65f3ff36ec7e\",\"type\":\"WheelZoomTool\"},{\"attributes\":{\"fill_alpha\":{\"value\":0.7},\"fill_color\":{\"value\":\"#f22c40\"},\"line_color\":{\"value\":\"#f22c40\"},\"size\":{\"units\":\"screen\",\"value\":8},\"x\":{\"field\":\"x_values\"},\"y\":{\"field\":\"y_values\"}},\"id\":\"baa7ead4-de6a-43de-83b6-32e723ef2888\",\"type\":\"Circle\"},{\"attributes\":{},\"id\":\"2f8e8e36-b9c5-4126-b0ee-a08bcbc80d42\",\"type\":\"BasicTickFormatter\"},{\"attributes\":{},\"id\":\"adc93f41-45f2-465e-b1bf-e7fada628524\",\"type\":\"BasicTickFormatter\"},{\"attributes\":{\"callback\":null,\"end\":110.0,\"start\":-10.0},\"id\":\"79742e47-6b2f-4ddd-b5f0-ce03a6cbca94\",\"type\":\"Range1d\"},{\"attributes\":{},\"id\":\"326cb17d-ff5c-463a-88d1-f753d88316df\",\"type\":\"ToolEvents\"},{\"attributes\":{\"dimension\":1,\"plot\":{\"id\":\"dee6b3b1-d14b-464f-8971-c5ae0e5ede8a\",\"subtype\":\"Chart\",\"type\":\"Plot\"},\"ticker\":{\"id\":\"76cd12ca-fd99-4ce7-95ad-78351926fbf7\",\"type\":\"BasicTicker\"}},\"id\":\"3bc1c590-442a-45dd-8f00-ae4aa8969b99\",\"type\":\"Grid\"}],\"root_ids\":[\"dee6b3b1-d14b-464f-8971-c5ae0e5ede8a\"]},\"title\":\"Bokeh Application\",\"version\":\"0.12.5\"}};\n",
       "            var render_items = [{\"docid\":\"0c782ccd-eea0-4b76-b615-df19332aa1c6\",\"elementid\":\"de19e73a-88ce-408b-a2d1-b292a2abc76c\",\"modelid\":\"dee6b3b1-d14b-464f-8971-c5ae0e5ede8a\"}];\n",
       "            \n",
       "            Bokeh.embed.embed_items(docs_json, render_items);\n",
       "          };\n",
       "          if (document.readyState != \"loading\") fn();\n",
       "          else document.addEventListener(\"DOMContentLoaded\", fn);\n",
       "        })();\n",
       "      },\n",
       "      function(Bokeh) {\n",
       "      }\n",
       "    ];\n",
       "  \n",
       "    function run_inline_js() {\n",
       "      \n",
       "      if ((window.Bokeh !== undefined) || (force === true)) {\n",
       "        for (var i = 0; i < inline_js.length; i++) {\n",
       "          inline_js[i](window.Bokeh);\n",
       "        }if (force === true) {\n",
       "          display_loaded();\n",
       "        }} else if (Date.now() < window._bokeh_timeout) {\n",
       "        setTimeout(run_inline_js, 100);\n",
       "      } else if (!window._bokeh_failed_load) {\n",
       "        console.log(\"Bokeh: BokehJS failed to load within specified timeout.\");\n",
       "        window._bokeh_failed_load = true;\n",
       "      } else if (force !== true) {\n",
       "        var cell = $(document.getElementById(\"de19e73a-88ce-408b-a2d1-b292a2abc76c\")).parents('.cell').data().cell;\n",
       "        cell.output_area.append_execute_result(NB_LOAD_WARNING)\n",
       "      }\n",
       "  \n",
       "    }\n",
       "  \n",
       "    if (window._bokeh_is_loading === 0) {\n",
       "      console.log(\"Bokeh: BokehJS loaded, going straight to plotting\");\n",
       "      run_inline_js();\n",
       "    } else {\n",
       "      load_libs(js_urls, function() {\n",
       "        console.log(\"Bokeh: BokehJS plotting callback run at\", now());\n",
       "        run_inline_js();\n",
       "      });\n",
       "    }\n",
       "  }(this));\n",
       "</script>"
      ]
     },
     "metadata": {},
     "output_type": "display_data"
    }
   ],
   "source": [
    "data_multi = dict([(elem, data_sample.select(elem).rdd.flatMap(lambda row: row).collect()) for elem in numerical])\n",
    "sctr = chrt.Scatter(data_multi, x='balance', y='numTrans')\n",
    "chrt.show(sctr)"
   ]
  },
  {
   "cell_type": "markdown",
   "metadata": {},
   "source": [
    "## Summary"
   ]
  },
  {
   "cell_type": "markdown",
   "metadata": {},
   "source": [
    "we looked at how to clean and prepare dataset for modeling by identifying and tackling datasets with missing values, duplicates, and outliers."
   ]
  }
 ],
 "metadata": {
  "kernelspec": {
   "display_name": "Python 3",
   "language": "python",
   "name": "python3"
  },
  "language_info": {
   "codemirror_mode": {
    "name": "ipython",
    "version": 3
   },
   "file_extension": ".py",
   "mimetype": "text/x-python",
   "name": "python",
   "nbconvert_exporter": "python",
   "pygments_lexer": "ipython3",
   "version": "3.6.0"
  }
 },
 "nbformat": 4,
 "nbformat_minor": 0
}
