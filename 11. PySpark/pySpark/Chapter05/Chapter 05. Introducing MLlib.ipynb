{
 "cells": [
  {
   "cell_type": "markdown",
   "metadata": {},
   "source": [
    "# Chapter 05. Introducing MLlib\n",
    " - Mllib stands for Machine Learning Library. \n",
    " - Learning how to do the following\n",
    "  - Prepare the data for modeling with MLlib\n",
    "  - Perform statistical testing\n",
    "  - Predict survival chances of infants using logistic regression\n",
    "  - Select the most predictable features and train a random forest model"
   ]
  },
  {
   "cell_type": "markdown",
   "metadata": {},
   "source": [
    "## 5.1 Loading and transforming the data\n",
    " - read data and convert it to a DataFrame."
   ]
  },
  {
   "cell_type": "code",
   "execution_count": 1,
   "metadata": {
    "collapsed": true
   },
   "outputs": [],
   "source": [
    "import pyspark.sql.types as typ"
   ]
  },
  {
   "cell_type": "code",
   "execution_count": 2,
   "metadata": {
    "collapsed": true
   },
   "outputs": [],
   "source": [
    "labels = [\n",
    "    ('INFANT_ALIVE_AT_REPORT', typ.StringType()),\n",
    "    ('BIRTH_YEAR', typ.IntegerType()),\n",
    "    ('BIRTH_MONTH', typ.IntegerType()),\n",
    "    ('BIRTH_PLACE', typ.StringType()),\n",
    "    ('MOTHER_AGE_YEARS', typ.IntegerType()),\n",
    "    ('MOTHER_RACE_6CODE', typ.StringType()),\n",
    "    ('MOTHER_EDUCATION', typ.StringType()),\n",
    "    ('FATHER_COMBINED_AGE', typ.IntegerType()),\n",
    "    ('FATHER_EDUCATION', typ.StringType()),\n",
    "    ('MONTH_PRECARE_RECODE', typ.StringType()),\n",
    "    ('CIG_BEFORE', typ.IntegerType()),\n",
    "    ('CIG_1_TRI', typ.IntegerType()),\n",
    "    ('CIG_2_TRI', typ.IntegerType()),\n",
    "    ('CIG_3_TRI', typ.IntegerType()),\n",
    "    ('MOTHER_HEIGHT_IN', typ.IntegerType()),\n",
    "    ('MOTHER_BMI_RECODE', typ.IntegerType()),\n",
    "    ('MOTHER_PRE_WEIGHT', typ.IntegerType()),\n",
    "    ('MOTHER_DELIVERY_WEIGHT', typ.IntegerType()),\n",
    "    ('MOTHER_WEIGHT_GAIN', typ.IntegerType()),\n",
    "    ('DIABETES_PRE', typ.StringType()),\n",
    "    ('DIABETES_GEST', typ.StringType()),\n",
    "    ('HYP_TENS_PRE', typ.StringType()),\n",
    "    ('HYP_TENS_GEST', typ.StringType()),\n",
    "    ('PREV_BIRTH_PRETERM', typ.StringType()),\n",
    "    ('NO_RISK', typ.StringType()),\n",
    "    ('NO_INFECTIONS_REPORTED', typ.StringType()),\n",
    "    ('LABOR_IND', typ.StringType()),\n",
    "    ('LABOR_AUGM', typ.StringType()),\n",
    "    ('STEROIDS', typ.StringType()),\n",
    "    ('ANTIBIOTICS', typ.StringType()),\n",
    "    ('ANESTHESIA', typ.StringType()),\n",
    "    ('DELIV_METHOD_RECODE_COMB', typ.StringType()),\n",
    "    ('ATTENDANT_BIRTH', typ.StringType()),\n",
    "    ('APGAR_5', typ.IntegerType()),\n",
    "    ('APGAR_5_RECODE', typ.StringType()),\n",
    "    ('APGAR_10', typ.IntegerType()),\n",
    "    ('APGAR_10_RECODE', typ.StringType()),\n",
    "    ('INFANT_SEX', typ.StringType()),\n",
    "    ('OBSTETRIC_GESTATION_WEEKS', typ.IntegerType()),\n",
    "    ('INFANT_WEIGHT_GRAMS', typ.IntegerType()),\n",
    "    ('INFANT_ASSIST_VENTI', typ.StringType()),\n",
    "    ('INFANT_ASSIST_VENTI_6HRS', typ.StringType()),\n",
    "    ('INFANT_NICU_ADMISSION', typ.StringType()),\n",
    "    ('INFANT_SURFACANT', typ.StringType()),\n",
    "    ('INFANT_ANTIBIOTICS', typ.StringType()),\n",
    "    ('INFANT_SEIZURES', typ.StringType()),\n",
    "    ('INFANT_NO_ABNORMALITIES', typ.StringType()),\n",
    "    ('INFANT_ANCEPHALY', typ.StringType()),\n",
    "    ('INFANT_MENINGOMYELOCELE', typ.StringType()),\n",
    "    ('INFANT_LIMB_REDUCTION', typ.StringType()),\n",
    "    ('INFANT_DOWN_SYNDROME', typ.StringType()),\n",
    "    ('INFANT_SUSPECTED_CHROMOSOMAL_DISORDER', typ.StringType()),\n",
    "    ('INFANT_NO_CONGENITAL_ANOMALIES_CHECKED', typ.StringType()),\n",
    "    ('INFANT_BREASTFED', typ.StringType())\n",
    "]\n",
    "\n",
    "schema = typ.StructType([\n",
    "        typ.StructField(e[0], e[1], False) for e in labels\n",
    "    ])"
   ]
  },
  {
   "cell_type": "markdown",
   "metadata": {},
   "source": [
    " - we load the data."
   ]
  },
  {
   "cell_type": "code",
   "execution_count": 3,
   "metadata": {
    "collapsed": true
   },
   "outputs": [],
   "source": [
    "births = spark.read.csv('births_train.csv.gz', \n",
    "                        header=True, \n",
    "                        schema=schema)"
   ]
  },
  {
   "cell_type": "code",
   "execution_count": 4,
   "metadata": {
    "collapsed": false
   },
   "outputs": [
    {
     "name": "stdout",
     "output_type": "stream",
     "text": [
      "+----------------------+----------+-----------+-----------+----------------+-----------------+----------------+-------------------+----------------+--------------------+----------+---------+---------+---------+----------------+-----------------+-----------------+----------------------+------------------+------------+-------------+------------+-------------+------------------+-------+----------------------+---------+----------+--------+-----------+----------+------------------------+---------------+-------+--------------+--------+---------------+----------+-------------------------+-------------------+-------------------+------------------------+---------------------+----------------+------------------+---------------+-----------------------+----------------+-----------------------+---------------------+--------------------+-------------------------------------+--------------------------------------+----------------+\n",
      "|INFANT_ALIVE_AT_REPORT|BIRTH_YEAR|BIRTH_MONTH|BIRTH_PLACE|MOTHER_AGE_YEARS|MOTHER_RACE_6CODE|MOTHER_EDUCATION|FATHER_COMBINED_AGE|FATHER_EDUCATION|MONTH_PRECARE_RECODE|CIG_BEFORE|CIG_1_TRI|CIG_2_TRI|CIG_3_TRI|MOTHER_HEIGHT_IN|MOTHER_BMI_RECODE|MOTHER_PRE_WEIGHT|MOTHER_DELIVERY_WEIGHT|MOTHER_WEIGHT_GAIN|DIABETES_PRE|DIABETES_GEST|HYP_TENS_PRE|HYP_TENS_GEST|PREV_BIRTH_PRETERM|NO_RISK|NO_INFECTIONS_REPORTED|LABOR_IND|LABOR_AUGM|STEROIDS|ANTIBIOTICS|ANESTHESIA|DELIV_METHOD_RECODE_COMB|ATTENDANT_BIRTH|APGAR_5|APGAR_5_RECODE|APGAR_10|APGAR_10_RECODE|INFANT_SEX|OBSTETRIC_GESTATION_WEEKS|INFANT_WEIGHT_GRAMS|INFANT_ASSIST_VENTI|INFANT_ASSIST_VENTI_6HRS|INFANT_NICU_ADMISSION|INFANT_SURFACANT|INFANT_ANTIBIOTICS|INFANT_SEIZURES|INFANT_NO_ABNORMALITIES|INFANT_ANCEPHALY|INFANT_MENINGOMYELOCELE|INFANT_LIMB_REDUCTION|INFANT_DOWN_SYNDROME|INFANT_SUSPECTED_CHROMOSOMAL_DISORDER|INFANT_NO_CONGENITAL_ANOMALIES_CHECKED|INFANT_BREASTFED|\n",
      "+----------------------+----------+-----------+-----------+----------------+-----------------+----------------+-------------------+----------------+--------------------+----------+---------+---------+---------+----------------+-----------------+-----------------+----------------------+------------------+------------+-------------+------------+-------------+------------------+-------+----------------------+---------+----------+--------+-----------+----------+------------------------+---------------+-------+--------------+--------+---------------+----------+-------------------------+-------------------+-------------------+------------------------+---------------------+----------------+------------------+---------------+-----------------------+----------------+-----------------------+---------------------+--------------------+-------------------------------------+--------------------------------------+----------------+\n",
      "|                     N|      2015|          2|          1|              29|                3|               9|                 99|               9|                   4|        99|       99|       99|       99|              99|                9|              999|                   999|                99|           N|            N|           N|            N|                 N|      1|                     1|        N|         N|       N|          Y|         N|                       2|              1|      4|             2|       3|              1|         F|                       35|               2770|                  N|                       N|                    Y|               N|                 N|              N|                      0|               N|                      N|                    N|                   N|                                    N|                                     0|               N|\n",
      "+----------------------+----------+-----------+-----------+----------------+-----------------+----------------+-------------------+----------------+--------------------+----------+---------+---------+---------+----------------+-----------------+-----------------+----------------------+------------------+------------+-------------+------------+-------------+------------------+-------+----------------------+---------+----------+--------+-----------+----------+------------------------+---------------+-------+--------------+--------+---------------+----------+-------------------------+-------------------+-------------------+------------------------+---------------------+----------------+------------------+---------------+-----------------------+----------------+-----------------------+---------------------+--------------------+-------------------------------------+--------------------------------------+----------------+\n",
      "only showing top 1 row\n",
      "\n"
     ]
    }
   ],
   "source": [
    "births.show(1)"
   ]
  },
  {
   "cell_type": "markdown",
   "metadata": {},
   "source": [
    " - Specify our recode dictionary."
   ]
  },
  {
   "cell_type": "code",
   "execution_count": 5,
   "metadata": {
    "collapsed": true
   },
   "outputs": [],
   "source": [
    "recode_dictionary = {\n",
    "    'YNU': {\n",
    "        'Y': 1,\n",
    "        'N': 0,\n",
    "        'U': 0\n",
    "    }\n",
    "}"
   ]
  },
  {
   "cell_type": "markdown",
   "metadata": {},
   "source": [
    "Our goal is to predict whether the 'INFANT_ALIVE_AT_REPORT' is either 1 or 0. Thus, we will drop all of the features that relate to the infant."
   ]
  },
  {
   "cell_type": "code",
   "execution_count": 6,
   "metadata": {
    "collapsed": true
   },
   "outputs": [],
   "source": [
    "selected_features = [\n",
    "    'INFANT_ALIVE_AT_REPORT', \n",
    "    'BIRTH_PLACE', \n",
    "    'MOTHER_AGE_YEARS', \n",
    "    'FATHER_COMBINED_AGE', \n",
    "    'CIG_BEFORE', \n",
    "    'CIG_1_TRI', \n",
    "    'CIG_2_TRI', \n",
    "    'CIG_3_TRI', \n",
    "    'MOTHER_HEIGHT_IN', \n",
    "    'MOTHER_PRE_WEIGHT', \n",
    "    'MOTHER_DELIVERY_WEIGHT', \n",
    "    'MOTHER_WEIGHT_GAIN', \n",
    "    'DIABETES_PRE', \n",
    "    'DIABETES_GEST', \n",
    "    'HYP_TENS_PRE', \n",
    "    'HYP_TENS_GEST', \n",
    "    'PREV_BIRTH_PRETERM'\n",
    "]"
   ]
  },
  {
   "cell_type": "code",
   "execution_count": 7,
   "metadata": {
    "collapsed": true
   },
   "outputs": [],
   "source": [
    "births_trimmed = births.select(selected_features)"
   ]
  },
  {
   "cell_type": "markdown",
   "metadata": {},
   "source": [
    " - There's a small problem with how the number of cigarettes smoked by the mother was coded. \n",
    "  - as 0 means the mother smoked no cigarettes before of during the pregnancy.\n",
    "  - between 1-97 states the actual number of cigarette smoked\n",
    "  - 98 indicates either 98 or more, whereas 99 identifies the unknown =>  we will assume the unknown is 0 and recode accordingly\n",
    " - Next we will specify our recoding methods."
   ]
  },
  {
   "cell_type": "code",
   "execution_count": 8,
   "metadata": {
    "collapsed": true
   },
   "outputs": [],
   "source": [
    "import pyspark.sql.functions as func"
   ]
  },
  {
   "cell_type": "code",
   "execution_count": 9,
   "metadata": {
    "collapsed": true
   },
   "outputs": [],
   "source": [
    "def recode(col,key):\n",
    "    return recode_dictionary[key][col]\n",
    "\n",
    "def correct_cig(feat):\n",
    "    return func.when(func.col(feat)!=99, func.col(feat)).otherwise(0) # 99면 0으로 출력하고 99가 아니면 그대로 출력."
   ]
  },
  {
   "cell_type": "code",
   "execution_count": 10,
   "metadata": {
    "collapsed": true
   },
   "outputs": [],
   "source": [
    "rec_integer = func.udf(recode, typ.IntegerType())"
   ]
  },
  {
   "cell_type": "code",
   "execution_count": 11,
   "metadata": {
    "collapsed": true
   },
   "outputs": [],
   "source": [
    "birth_transformed = births_trimmed \\\n",
    "                .withColumn('CIG_BEFORE', correct_cig('CIG_BEFORE')) \\\n",
    "                .withColumn('CIG_1_TRI', correct_cig('CIG_1_TRI')) \\\n",
    "                .withColumn('CIG_2_TRI', correct_cig('CIG_2_TRI')) \\\n",
    "                .withColumn('CIG_3_TRI', correct_cig('CIG_3_TRI')) \\"
   ]
  },
  {
   "cell_type": "markdown",
   "metadata": {},
   "source": [
    " - withColumn(...) Method takes the name of the Column as its first parameter and the transformation as the second one."
   ]
  },
  {
   "cell_type": "code",
   "execution_count": 12,
   "metadata": {
    "collapsed": false
   },
   "outputs": [
    {
     "name": "stdout",
     "output_type": "stream",
     "text": [
      "StructField(INFANT_ALIVE_AT_REPORT,StringType,true)\n",
      "StructField(BIRTH_PLACE,StringType,true)\n",
      "StructField(MOTHER_AGE_YEARS,IntegerType,true)\n",
      "StructField(FATHER_COMBINED_AGE,IntegerType,true)\n",
      "StructField(CIG_BEFORE,IntegerType,true)\n",
      "StructField(CIG_1_TRI,IntegerType,true)\n",
      "StructField(CIG_2_TRI,IntegerType,true)\n",
      "StructField(CIG_3_TRI,IntegerType,true)\n",
      "StructField(MOTHER_HEIGHT_IN,IntegerType,true)\n",
      "StructField(MOTHER_PRE_WEIGHT,IntegerType,true)\n",
      "StructField(MOTHER_DELIVERY_WEIGHT,IntegerType,true)\n",
      "StructField(MOTHER_WEIGHT_GAIN,IntegerType,true)\n",
      "StructField(DIABETES_PRE,StringType,true)\n",
      "StructField(DIABETES_GEST,StringType,true)\n",
      "StructField(HYP_TENS_PRE,StringType,true)\n",
      "StructField(HYP_TENS_GEST,StringType,true)\n",
      "StructField(PREV_BIRTH_PRETERM,StringType,true)\n"
     ]
    }
   ],
   "source": [
    "for col in births_trimmed.schema:\n",
    "    print(col)"
   ]
  },
  {
   "cell_type": "code",
   "execution_count": 13,
   "metadata": {
    "collapsed": false
   },
   "outputs": [
    {
     "data": {
      "text/plain": [
       "[('INFANT_ALIVE_AT_REPORT', StringType),\n",
       " ('BIRTH_PLACE', StringType),\n",
       " ('MOTHER_AGE_YEARS', IntegerType),\n",
       " ('FATHER_COMBINED_AGE', IntegerType),\n",
       " ('CIG_BEFORE', IntegerType),\n",
       " ('CIG_1_TRI', IntegerType),\n",
       " ('CIG_2_TRI', IntegerType),\n",
       " ('CIG_3_TRI', IntegerType),\n",
       " ('MOTHER_HEIGHT_IN', IntegerType),\n",
       " ('MOTHER_PRE_WEIGHT', IntegerType),\n",
       " ('MOTHER_DELIVERY_WEIGHT', IntegerType),\n",
       " ('MOTHER_WEIGHT_GAIN', IntegerType),\n",
       " ('DIABETES_PRE', StringType),\n",
       " ('DIABETES_GEST', StringType),\n",
       " ('HYP_TENS_PRE', StringType),\n",
       " ('HYP_TENS_GEST', StringType),\n",
       " ('PREV_BIRTH_PRETERM', StringType)]"
      ]
     },
     "execution_count": 13,
     "metadata": {},
     "output_type": "execute_result"
    }
   ],
   "source": [
    "cols = [(col.name, col.dataType) for col in births_trimmed.schema]\n",
    "cols"
   ]
  },
  {
   "cell_type": "code",
   "execution_count": 14,
   "metadata": {
    "collapsed": false
   },
   "outputs": [
    {
     "name": "stdout",
     "output_type": "stream",
     "text": [
      "0 ('INFANT_ALIVE_AT_REPORT', StringType) StringType\n",
      "1 ('BIRTH_PLACE', StringType) StringType\n",
      "2 ('MOTHER_AGE_YEARS', IntegerType) IntegerType\n",
      "3 ('FATHER_COMBINED_AGE', IntegerType) IntegerType\n",
      "4 ('CIG_BEFORE', IntegerType) IntegerType\n",
      "5 ('CIG_1_TRI', IntegerType) IntegerType\n",
      "6 ('CIG_2_TRI', IntegerType) IntegerType\n",
      "7 ('CIG_3_TRI', IntegerType) IntegerType\n",
      "8 ('MOTHER_HEIGHT_IN', IntegerType) IntegerType\n",
      "9 ('MOTHER_PRE_WEIGHT', IntegerType) IntegerType\n",
      "10 ('MOTHER_DELIVERY_WEIGHT', IntegerType) IntegerType\n",
      "11 ('MOTHER_WEIGHT_GAIN', IntegerType) IntegerType\n",
      "12 ('DIABETES_PRE', StringType) StringType\n",
      "13 ('DIABETES_GEST', StringType) StringType\n",
      "14 ('HYP_TENS_PRE', StringType) StringType\n",
      "15 ('HYP_TENS_GEST', StringType) StringType\n",
      "16 ('PREV_BIRTH_PRETERM', StringType) StringType\n"
     ]
    }
   ],
   "source": [
    "for i, s in enumerate(cols):\n",
    "    print(i,s,s[1])"
   ]
  },
  {
   "cell_type": "code",
   "execution_count": 15,
   "metadata": {
    "collapsed": false
   },
   "outputs": [
    {
     "name": "stdout",
     "output_type": "stream",
     "text": [
      "[Row(INFANT_ALIVE_AT_REPORT='Y'), Row(INFANT_ALIVE_AT_REPORT='N')]\n",
      "[Row(BIRTH_PLACE='7'), Row(BIRTH_PLACE='3'), Row(BIRTH_PLACE='5'), Row(BIRTH_PLACE='6'), Row(BIRTH_PLACE='9'), Row(BIRTH_PLACE='1'), Row(BIRTH_PLACE='4'), Row(BIRTH_PLACE='2')]\n",
      "[Row(DIABETES_PRE='Y'), Row(DIABETES_PRE='U'), Row(DIABETES_PRE='N')]\n",
      "[Row(DIABETES_GEST='Y'), Row(DIABETES_GEST='U'), Row(DIABETES_GEST='N')]\n",
      "[Row(HYP_TENS_PRE='Y'), Row(HYP_TENS_PRE='U'), Row(HYP_TENS_PRE='N')]\n",
      "[Row(HYP_TENS_GEST='Y'), Row(HYP_TENS_GEST='U'), Row(HYP_TENS_GEST='N')]\n",
      "[Row(PREV_BIRTH_PRETERM='Y'), Row(PREV_BIRTH_PRETERM='U'), Row(PREV_BIRTH_PRETERM='N')]\n"
     ]
    }
   ],
   "source": [
    "for i, s in enumerate(cols):\n",
    "    if s[1] == typ.StringType():\n",
    "        print(births.select(s[0]).distinct().rdd.collect()) "
   ]
  },
  {
   "cell_type": "markdown",
   "metadata": {},
   "source": [
    " - births.select(s[0]) : 컬럼명으로 데이터 가지고오기. \n",
    " - distinct : 중복되지 않는 값만 가지고 오기. \n",
    " - 해당 결과값이 DataFrame형태로 되어있어 RDD로 변형이 필요하다. .RDD\n",
    " - 각 해당되는 Column들의 데이터를 추출 map(row:row[0]).collect()"
   ]
  },
  {
   "cell_type": "code",
   "execution_count": 16,
   "metadata": {
    "collapsed": false
   },
   "outputs": [
    {
     "name": "stdout",
     "output_type": "stream",
     "text": [
      "['Y', 'N']\n",
      "['7', '3', '5', '6', '9', '1', '4', '2']\n",
      "['Y', 'U', 'N']\n",
      "['Y', 'U', 'N']\n",
      "['Y', 'U', 'N']\n",
      "['Y', 'U', 'N']\n",
      "['Y', 'U', 'N']\n"
     ]
    }
   ],
   "source": [
    "for i, s in enumerate(cols):\n",
    "    if s[1] == typ.StringType():\n",
    "        print(births.select(s[0]).distinct().rdd.map(lambda row:row[0]).collect())"
   ]
  },
  {
   "cell_type": "code",
   "execution_count": 17,
   "metadata": {
    "collapsed": false
   },
   "outputs": [],
   "source": [
    "YNU_cols = []\n",
    "for i, s in enumerate(cols):\n",
    "    if s[1] == typ.StringType():\n",
    "        dis = births.select(s[0]).distinct().rdd.map(lambda row:row[0]).collect()\n",
    "        if 'Y' in dis: # 출력된 값들 중 Y가 포함된다면 해당 값들을 LIST에 Column name을 Append\n",
    "            YNU_cols.append(s[0])"
   ]
  },
  {
   "cell_type": "code",
   "execution_count": 18,
   "metadata": {
    "collapsed": false
   },
   "outputs": [
    {
     "data": {
      "text/plain": [
       "['INFANT_ALIVE_AT_REPORT',\n",
       " 'DIABETES_PRE',\n",
       " 'DIABETES_GEST',\n",
       " 'HYP_TENS_PRE',\n",
       " 'HYP_TENS_GEST',\n",
       " 'PREV_BIRTH_PRETERM']"
      ]
     },
     "execution_count": 18,
     "metadata": {},
     "output_type": "execute_result"
    }
   ],
   "source": [
    "YNU_cols"
   ]
  },
  {
   "cell_type": "code",
   "execution_count": 19,
   "metadata": {
    "collapsed": false
   },
   "outputs": [
    {
     "data": {
      "text/plain": [
       "[Row(INFANT_NICU_ADMISSION='Y', INFANT_NICU_ADMISSION_RECODE=1),\n",
       " Row(INFANT_NICU_ADMISSION='Y', INFANT_NICU_ADMISSION_RECODE=1),\n",
       " Row(INFANT_NICU_ADMISSION='U', INFANT_NICU_ADMISSION_RECODE=0),\n",
       " Row(INFANT_NICU_ADMISSION='N', INFANT_NICU_ADMISSION_RECODE=0),\n",
       " Row(INFANT_NICU_ADMISSION='U', INFANT_NICU_ADMISSION_RECODE=0)]"
      ]
     },
     "execution_count": 19,
     "metadata": {},
     "output_type": "execute_result"
    }
   ],
   "source": [
    "births.select([\n",
    "        'INFANT_NICU_ADMISSION', \n",
    "        rec_integer(\n",
    "            'INFANT_NICU_ADMISSION', func.lit('YNU')\n",
    "        ) \\\n",
    "        .alias('INFANT_NICU_ADMISSION_RECODE')]\n",
    "     ).take(5) # Y일 경우 1 나머지는 모두 0으로 변환. \n"
   ]
  },
  {
   "cell_type": "code",
   "execution_count": 20,
   "metadata": {
    "collapsed": true
   },
   "outputs": [],
   "source": [
    "exprs_YNU = [\n",
    "    rec_integer(x, func.lit('YNU')). alias(x)\n",
    "    if x in YNU_cols else x for x in births_trimmed.columns\n",
    "]\n",
    "\n",
    "birth_transformed = birth_transformed.select(exprs_YNU)"
   ]
  },
  {
   "cell_type": "markdown",
   "metadata": {},
   "source": [
    " - Let's Check if we got it Collectly"
   ]
  },
  {
   "cell_type": "code",
   "execution_count": 21,
   "metadata": {
    "collapsed": false,
    "scrolled": false
   },
   "outputs": [
    {
     "name": "stdout",
     "output_type": "stream",
     "text": [
      "+------------+-------------+------------+-------------+------------------+\n",
      "|DIABETES_PRE|DIABETES_GEST|HYP_TENS_PRE|HYP_TENS_GEST|PREV_BIRTH_PRETERM|\n",
      "+------------+-------------+------------+-------------+------------------+\n",
      "|           0|            0|           0|            0|                 0|\n",
      "|           0|            0|           0|            0|                 0|\n",
      "|           0|            0|           0|            0|                 0|\n",
      "|           0|            0|           0|            0|                 1|\n",
      "|           0|            0|           0|            0|                 0|\n",
      "+------------+-------------+------------+-------------+------------------+\n",
      "only showing top 5 rows\n",
      "\n"
     ]
    }
   ],
   "source": [
    "birth_transformed.select(YNU_cols[-5:]).show(5)"
   ]
  },
  {
   "cell_type": "markdown",
   "metadata": {},
   "source": [
    "# 5.2 Getting to know your data\n",
    "## 5.2.1 Descriptive statistics \n",
    " - DataFrames exose the .describe method\n",
    " - with LMlib, we will use the .colStats(...) method \n",
    " - RDD of data to calculate the descripticve statistics of and return a MultivariateStatisticalSummary object that contains the following descriptive statistics\n",
    "  - count()\n",
    "  - max()\n",
    "  - mean()\n",
    "  - min()\n",
    "  - normL1() : value of the L1-Norm for the values in the column\n",
    "  - normL2() : value of the L2-Norm for the values in the column\n",
    "  - numNonZeros() : nunmber of nonzero values in the column\n",
    "  - variance()"
   ]
  },
  {
   "cell_type": "code",
   "execution_count": 24,
   "metadata": {
    "collapsed": true
   },
   "outputs": [],
   "source": [
    "import pyspark.mllib.stat as st\n",
    "import numpy as np "
   ]
  },
  {
   "cell_type": "code",
   "execution_count": 25,
   "metadata": {
    "collapsed": true
   },
   "outputs": [],
   "source": [
    "numeric_cols = ['MOTHER_AGE_YEARS','FATHER_COMBINED_AGE',\n",
    "                'CIG_BEFORE','CIG_1_TRI','CIG_2_TRI','CIG_3_TRI',\n",
    "                'MOTHER_HEIGHT_IN','MOTHER_PRE_WEIGHT',\n",
    "                'MOTHER_DELIVERY_WEIGHT','MOTHER_WEIGHT_GAIN'\n",
    "               ]"
   ]
  },
  {
   "cell_type": "code",
   "execution_count": 26,
   "metadata": {
    "collapsed": true
   },
   "outputs": [],
   "source": [
    "numeric_rdd = birth_transformed.select(numeric_cols).rdd.map(lambda row: [e for e in row])"
   ]
  },
  {
   "cell_type": "code",
   "execution_count": 27,
   "metadata": {
    "collapsed": false
   },
   "outputs": [
    {
     "data": {
      "text/plain": [
       "[[29, 99, 0, 0, 0, 0, 99, 999, 999, 99],\n",
       " [22, 29, 0, 0, 0, 0, 65, 180, 198, 18]]"
      ]
     },
     "execution_count": 27,
     "metadata": {},
     "output_type": "execute_result"
    }
   ],
   "source": [
    "numeric_rdd.take(2)"
   ]
  },
  {
   "cell_type": "code",
   "execution_count": 28,
   "metadata": {
    "collapsed": true
   },
   "outputs": [],
   "source": [
    "mllib_stats = st.Statistics.colStats(numeric_rdd)"
   ]
  },
  {
   "cell_type": "markdown",
   "metadata": {},
   "source": [
    " - 해당 숫자형 변수들의 평균과 표준편차를 출력\n",
    "  - variance를 출력하여 sqrt를 씌워줬다."
   ]
  },
  {
   "cell_type": "code",
   "execution_count": 29,
   "metadata": {
    "collapsed": false
   },
   "outputs": [
    {
     "name": "stdout",
     "output_type": "stream",
     "text": [
      "MOTHER_AGE_YEARS : \t 28.30 \t 6.08\n",
      "FATHER_COMBINED_AGE : \t 44.55 \t 27.55\n",
      "CIG_BEFORE : \t 1.43 \t 5.18\n",
      "CIG_1_TRI : \t 0.91 \t 3.83\n",
      "CIG_2_TRI : \t 0.70 \t 3.31\n",
      "CIG_3_TRI : \t 0.58 \t 3.11\n",
      "MOTHER_HEIGHT_IN : \t 65.12 \t 6.45\n",
      "MOTHER_PRE_WEIGHT : \t 214.50 \t 210.21\n",
      "MOTHER_DELIVERY_WEIGHT : \t 223.63 \t 180.01\n",
      "MOTHER_WEIGHT_GAIN : \t 30.74 \t 26.23\n"
     ]
    }
   ],
   "source": [
    "for col, m, v in zip(numeric_cols,mllib_stats.mean(), mllib_stats.variance()):\n",
    "    print('{0} : \\t {1:.2f} \\t {2:.2f}'.format(col, m, np.sqrt(v)))"
   ]
  },
  {
   "cell_type": "markdown",
   "metadata": {},
   "source": [
    " - For the categorical variables, we will calculate the frequencies of their values"
   ]
  },
  {
   "cell_type": "code",
   "execution_count": 30,
   "metadata": {
    "collapsed": false
   },
   "outputs": [
    {
     "data": {
      "text/plain": [
       "['INFANT_ALIVE_AT_REPORT',\n",
       " 'BIRTH_PLACE',\n",
       " 'DIABETES_PRE',\n",
       " 'DIABETES_GEST',\n",
       " 'HYP_TENS_PRE',\n",
       " 'HYP_TENS_GEST',\n",
       " 'PREV_BIRTH_PRETERM']"
      ]
     },
     "execution_count": 30,
     "metadata": {},
     "output_type": "execute_result"
    }
   ],
   "source": [
    "categorical_cols = [e for e in birth_transformed.columns if e not in numeric_cols]\n",
    "categorical_cols # Categorical Columns"
   ]
  },
  {
   "cell_type": "code",
   "execution_count": 35,
   "metadata": {
    "collapsed": false
   },
   "outputs": [
    {
     "data": {
      "text/plain": [
       "[Row(INFANT_ALIVE_AT_REPORT=0, BIRTH_PLACE='1', DIABETES_PRE=0, DIABETES_GEST=0, HYP_TENS_PRE=0, HYP_TENS_GEST=0, PREV_BIRTH_PRETERM=0),\n",
       " Row(INFANT_ALIVE_AT_REPORT=0, BIRTH_PLACE='1', DIABETES_PRE=0, DIABETES_GEST=0, HYP_TENS_PRE=0, HYP_TENS_GEST=0, PREV_BIRTH_PRETERM=0),\n",
       " Row(INFANT_ALIVE_AT_REPORT=0, BIRTH_PLACE='1', DIABETES_PRE=0, DIABETES_GEST=0, HYP_TENS_PRE=0, HYP_TENS_GEST=0, PREV_BIRTH_PRETERM=0),\n",
       " Row(INFANT_ALIVE_AT_REPORT=0, BIRTH_PLACE='1', DIABETES_PRE=0, DIABETES_GEST=0, HYP_TENS_PRE=0, HYP_TENS_GEST=0, PREV_BIRTH_PRETERM=1),\n",
       " Row(INFANT_ALIVE_AT_REPORT=0, BIRTH_PLACE='1', DIABETES_PRE=0, DIABETES_GEST=0, HYP_TENS_PRE=0, HYP_TENS_GEST=0, PREV_BIRTH_PRETERM=0)]"
      ]
     },
     "execution_count": 35,
     "metadata": {},
     "output_type": "execute_result"
    }
   ],
   "source": [
    "birth_transformed.select(categorical_cols).rdd.take(5)"
   ]
  },
  {
   "cell_type": "markdown",
   "metadata": {},
   "source": [
    " - 각각의 Columns에서 값을 출력해서 가지고 있는다. list형태로 출력."
   ]
  },
  {
   "cell_type": "code",
   "execution_count": 42,
   "metadata": {
    "collapsed": true
   },
   "outputs": [],
   "source": [
    "categorical_rdd = birth_transformed.select(categorical_cols).rdd.map(lambda row: [e for e in row])"
   ]
  },
  {
   "cell_type": "code",
   "execution_count": 43,
   "metadata": {
    "collapsed": false
   },
   "outputs": [
    {
     "data": {
      "text/plain": [
       "[[0, '1', 0, 0, 0, 0, 0],\n",
       " [0, '1', 0, 0, 0, 0, 0],\n",
       " [0, '1', 0, 0, 0, 0, 0],\n",
       " [0, '1', 0, 0, 0, 0, 1],\n",
       " [0, '1', 0, 0, 0, 0, 0]]"
      ]
     },
     "execution_count": 43,
     "metadata": {},
     "output_type": "execute_result"
    }
   ],
   "source": [
    "categorical_rdd.take(5) "
   ]
  },
  {
   "cell_type": "code",
   "execution_count": 47,
   "metadata": {
    "collapsed": false
   },
   "outputs": [
    {
     "name": "stdout",
     "output_type": "stream",
     "text": [
      "0 INFANT_ALIVE_AT_REPORT\n",
      "1 BIRTH_PLACE\n",
      "2 DIABETES_PRE\n",
      "3 DIABETES_GEST\n",
      "4 HYP_TENS_PRE\n",
      "5 HYP_TENS_GEST\n",
      "6 PREV_BIRTH_PRETERM\n"
     ]
    }
   ],
   "source": [
    "for i, col in enumerate(categorical_cols):\n",
    "    print(i, col)"
   ]
  },
  {
   "cell_type": "code",
   "execution_count": 52,
   "metadata": {
    "collapsed": false
   },
   "outputs": [
    {
     "name": "stdout",
     "output_type": "stream",
     "text": [
      "INFANT_ALIVE_AT_REPORT \n",
      " [(1, 23349), (0, 22080)]\n",
      "BIRTH_PLACE \n",
      " [('1', 44558), ('4', 327), ('3', 224), ('2', 136), ('7', 91), ('5', 74), ('6', 11), ('9', 8)]\n",
      "DIABETES_PRE \n",
      " [(0, 44881), (1, 548)]\n",
      "DIABETES_GEST \n",
      " [(0, 43451), (1, 1978)]\n",
      "HYP_TENS_PRE \n",
      " [(0, 44348), (1, 1081)]\n",
      "HYP_TENS_GEST \n",
      " [(0, 43302), (1, 2127)]\n",
      "PREV_BIRTH_PRETERM \n",
      " [(0, 43088), (1, 2341)]\n"
     ]
    }
   ],
   "source": [
    "for i, col in enumerate(categorical_cols):\n",
    "    agg = categorical_rdd.groupBy(lambda row:row[i]).map(lambda row:(row[0],len(row[1])))\n",
    "    print(col,\"\\n\",sorted(agg.collect(),key=lambda el:el[1],reverse=True))"
   ]
  },
  {
   "cell_type": "markdown",
   "metadata": {},
   "source": [
    "## 5.2.2. Correlations\n",
    " - Correlation between our features"
   ]
  },
  {
   "cell_type": "code",
   "execution_count": 53,
   "metadata": {
    "collapsed": true
   },
   "outputs": [],
   "source": [
    "corrs = st.Statistics.corr(numeric_rdd)"
   ]
  },
  {
   "cell_type": "code",
   "execution_count": 87,
   "metadata": {
    "collapsed": false,
    "scrolled": false
   },
   "outputs": [
    {
     "name": "stdout",
     "output_type": "stream",
     "text": [
      "0 [ True False False False False False False False False False]\n",
      "1 [False  True False False False False False False False False]\n",
      "2 [False False  True  True  True  True False False False False]\n",
      "3 [False False  True  True  True  True False False False False]\n",
      "4 [False False  True  True  True  True False False False False]\n",
      "5 [False False  True  True  True  True False False False False]\n",
      "6 [False False False False False False  True False False False]\n",
      "7 [False False False False False False False  True  True  True]\n",
      "8 [False False False False False False False  True  True  True]\n",
      "9 [False False False False False False False  True  True  True]\n"
     ]
    }
   ],
   "source": [
    "for i, el in enumerate(corrs>0.5): # 각 Correlation Matrix에서 0.5이상인 필드만 선택.\n",
    "    #print(i, el)\n",
    "        print(i, el)\n",
    "        #for j,e in enumerate(el): \n",
    "            #print(j, e)\n",
    "            #if j != i and e == 1.0:\n",
    "                #print(numeric_cols[j], corrs[i][j])"
   ]
  },
  {
   "cell_type": "code",
   "execution_count": 56,
   "metadata": {
    "collapsed": false
   },
   "outputs": [
    {
     "name": "stdout",
     "output_type": "stream",
     "text": [
      "CIG_BEFORE-to-CIG_1_TRI: 0.83\n",
      "CIG_BEFORE-to-CIG_2_TRI: 0.72\n",
      "CIG_BEFORE-to-CIG_3_TRI: 0.62\n",
      "CIG_1_TRI-to-CIG_BEFORE: 0.83\n",
      "CIG_1_TRI-to-CIG_2_TRI: 0.87\n",
      "CIG_1_TRI-to-CIG_3_TRI: 0.76\n",
      "CIG_2_TRI-to-CIG_BEFORE: 0.72\n",
      "CIG_2_TRI-to-CIG_1_TRI: 0.87\n",
      "CIG_2_TRI-to-CIG_3_TRI: 0.89\n",
      "CIG_3_TRI-to-CIG_BEFORE: 0.62\n",
      "CIG_3_TRI-to-CIG_1_TRI: 0.76\n",
      "CIG_3_TRI-to-CIG_2_TRI: 0.89\n",
      "MOTHER_PRE_WEIGHT-to-MOTHER_DELIVERY_WEIGHT: 0.54\n",
      "MOTHER_PRE_WEIGHT-to-MOTHER_WEIGHT_GAIN: 0.65\n",
      "MOTHER_DELIVERY_WEIGHT-to-MOTHER_PRE_WEIGHT: 0.54\n",
      "MOTHER_DELIVERY_WEIGHT-to-MOTHER_WEIGHT_GAIN: 0.60\n",
      "MOTHER_WEIGHT_GAIN-to-MOTHER_PRE_WEIGHT: 0.65\n",
      "MOTHER_WEIGHT_GAIN-to-MOTHER_DELIVERY_WEIGHT: 0.60\n"
     ]
    }
   ],
   "source": [
    "for i, el in enumerate(corrs > 0.5): # 각 Correlation Matrix에서 0.5이상인 필드만 선택.\n",
    "    correlated = [\n",
    "        (numeric_cols[j], corrs[i][j])\n",
    "        for j,e in enumerate(el)\n",
    "        if e == 1.0 and j != i] # 0.5 이상 필드가 있는 곳에서 해당 부분이 True인 곳.\n",
    "    if len(correlated) > 0:\n",
    "        for e in correlated:\n",
    "            print('{0}-to-{1}: {2:.2f}'.format(numeric_cols[i], e[0], e[1]))\n",
    "    "
   ]
  },
  {
   "cell_type": "markdown",
   "metadata": {},
   "source": [
    "### Check Highly Correlated features \n",
    " - 'CIG...' features are highly correlated, so We can drop most of highly correlated features.\n",
    " - Since we want to predict the survival chances of an infant as soon as possible\n",
    " - Keep 'MOTHER_PRE_WEIGHT' feature "
   ]
  },
  {
   "cell_type": "code",
   "execution_count": 88,
   "metadata": {
    "collapsed": true
   },
   "outputs": [],
   "source": [
    "features_to_keep = [\n",
    "    'INFANT_ALIVE_AT_REPORT', \n",
    "    'BIRTH_PLACE', \n",
    "    'MOTHER_AGE_YEARS', \n",
    "    'FATHER_COMBINED_AGE', \n",
    "    'CIG_1_TRI', \n",
    "    'MOTHER_HEIGHT_IN', \n",
    "    'MOTHER_PRE_WEIGHT', \n",
    "    'DIABETES_PRE', \n",
    "    'DIABETES_GEST', \n",
    "    'HYP_TENS_PRE', \n",
    "    'HYP_TENS_GEST', \n",
    "    'PREV_BIRTH_PRETERM'\n",
    "]\n",
    "\n",
    "birth_transformed = birth_transformed.select([e for e in features_to_keep])"
   ]
  },
  {
   "cell_type": "code",
   "execution_count": 90,
   "metadata": {
    "collapsed": false
   },
   "outputs": [
    {
     "data": {
      "text/plain": [
       "[Row(INFANT_ALIVE_AT_REPORT=0, BIRTH_PLACE='1', MOTHER_AGE_YEARS=29, FATHER_COMBINED_AGE=99, CIG_1_TRI=0, MOTHER_HEIGHT_IN=99, MOTHER_PRE_WEIGHT=999, DIABETES_PRE=0, DIABETES_GEST=0, HYP_TENS_PRE=0, HYP_TENS_GEST=0, PREV_BIRTH_PRETERM=0),\n",
       " Row(INFANT_ALIVE_AT_REPORT=0, BIRTH_PLACE='1', MOTHER_AGE_YEARS=22, FATHER_COMBINED_AGE=29, CIG_1_TRI=0, MOTHER_HEIGHT_IN=65, MOTHER_PRE_WEIGHT=180, DIABETES_PRE=0, DIABETES_GEST=0, HYP_TENS_PRE=0, HYP_TENS_GEST=0, PREV_BIRTH_PRETERM=0)]"
      ]
     },
     "execution_count": 90,
     "metadata": {},
     "output_type": "execute_result"
    }
   ],
   "source": [
    "birth_transformed.take(2)"
   ]
  },
  {
   "cell_type": "markdown",
   "metadata": {},
   "source": [
    "### Statistical testing\n",
    " - Run a Chi-square test to determine if there are significant differences for categorical variables.\n",
    "  - how you can do it using the .chiSqTest(...) method of MLlib"
   ]
  },
  {
   "cell_type": "code",
   "execution_count": 91,
   "metadata": {
    "collapsed": true
   },
   "outputs": [],
   "source": [
    "import pyspark.mllib.linalg as ln"
   ]
  },
  {
   "cell_type": "code",
   "execution_count": 93,
   "metadata": {
    "collapsed": false
   },
   "outputs": [
    {
     "data": {
      "text/plain": [
       "['INFANT_ALIVE_AT_REPORT',\n",
       " 'BIRTH_PLACE',\n",
       " 'DIABETES_PRE',\n",
       " 'DIABETES_GEST',\n",
       " 'HYP_TENS_PRE',\n",
       " 'HYP_TENS_GEST',\n",
       " 'PREV_BIRTH_PRETERM']"
      ]
     },
     "execution_count": 93,
     "metadata": {},
     "output_type": "execute_result"
    }
   ],
   "source": [
    "categorical_cols"
   ]
  },
  {
   "cell_type": "markdown",
   "metadata": {},
   "source": [
    " - INFANT_ALIVE_AT_REPORT 의 값은 0 또는 1 이다.\n",
    "  - groupBy을 하게 된다면 0과 1로 각각 Groupby될 것이다."
   ]
  },
  {
   "cell_type": "code",
   "execution_count": 103,
   "metadata": {
    "collapsed": false
   },
   "outputs": [
    {
     "data": {
      "text/plain": [
       "[Row(INFANT_ALIVE_AT_REPORT=0), Row(INFANT_ALIVE_AT_REPORT=1)]"
      ]
     },
     "execution_count": 103,
     "metadata": {},
     "output_type": "execute_result"
    }
   ],
   "source": [
    "birth_transformed.select(categorical_cols[0]).rdd.distinct().collect()"
   ]
  },
  {
   "cell_type": "code",
   "execution_count": 98,
   "metadata": {
    "collapsed": false
   },
   "outputs": [
    {
     "name": "stdout",
     "output_type": "stream",
     "text": [
      "BIRTH_PLACE\n",
      "[Row(INFANT_ALIVE_AT_REPORT=1, 1=22995, 2=113, 3=158, 4=39, 5=19, 6=2, 7=23, 9=None), Row(INFANT_ALIVE_AT_REPORT=0, 1=21563, 2=23, 3=66, 4=288, 5=55, 6=9, 7=68, 9=8)]\n",
      "DIABETES_PRE\n",
      "[Row(INFANT_ALIVE_AT_REPORT=1, 0=23178, 1=171), Row(INFANT_ALIVE_AT_REPORT=0, 0=21703, 1=377)]\n",
      "DIABETES_GEST\n",
      "[Row(INFANT_ALIVE_AT_REPORT=1, 0=22014, 1=1335), Row(INFANT_ALIVE_AT_REPORT=0, 0=21437, 1=643)]\n",
      "HYP_TENS_PRE\n",
      "[Row(INFANT_ALIVE_AT_REPORT=1, 0=22918, 1=431), Row(INFANT_ALIVE_AT_REPORT=0, 0=21430, 1=650)]\n",
      "HYP_TENS_GEST\n",
      "[Row(INFANT_ALIVE_AT_REPORT=1, 0=22135, 1=1214), Row(INFANT_ALIVE_AT_REPORT=0, 0=21167, 1=913)]\n",
      "PREV_BIRTH_PRETERM\n",
      "[Row(INFANT_ALIVE_AT_REPORT=1, 0=22685, 1=664), Row(INFANT_ALIVE_AT_REPORT=0, 0=20403, 1=1677)]\n"
     ]
    }
   ],
   "source": [
    "for cat in categorical_cols[1:]:\n",
    "    print(cat)\n",
    "    agg = birth_transformed\\\n",
    "        .groupBy(categorical_cols[0])\\\n",
    "        .pivot(cat)\\\n",
    "        .count()\n",
    "    print(agg.collect())"
   ]
  },
  {
   "cell_type": "code",
   "execution_count": 102,
   "metadata": {
    "collapsed": false
   },
   "outputs": [
    {
     "name": "stdout",
     "output_type": "stream",
     "text": [
      "[(22995, 113, 158, 39, 19, 2, 23, None), (21563, 23, 66, 288, 55, 9, 68, 8)]\n",
      "[(23178, 171), (21703, 377)]\n",
      "[(22014, 1335), (21437, 643)]\n",
      "[(22918, 431), (21430, 650)]\n",
      "[(22135, 1214), (21167, 913)]\n",
      "[(22685, 664), (20403, 1677)]\n"
     ]
    }
   ],
   "source": [
    "for cat in categorical_cols[1:]:\n",
    "    \n",
    "    agg = birth_transformed\\\n",
    "        .groupBy(categorical_cols[0])\\\n",
    "        .pivot(cat)\\\n",
    "        .count()\n",
    "    print(agg.rdd.map(lambda row : (row[1:])).collect())\n",
    "    # 각각 Tuple의 List로 구성된 것을 펼쳐 주기 위해서 flatMap을 사용."
   ]
  },
  {
   "cell_type": "code",
   "execution_count": 99,
   "metadata": {
    "collapsed": false
   },
   "outputs": [
    {
     "name": "stdout",
     "output_type": "stream",
     "text": [
      "[22995, 113, 158, 39, 19, 2, 23, 0, 21563, 23, 66, 288, 55, 9, 68, 8]\n",
      "[23178, 171, 21703, 377]\n",
      "[22014, 1335, 21437, 643]\n",
      "[22918, 431, 21430, 650]\n",
      "[22135, 1214, 21167, 913]\n",
      "[22685, 664, 20403, 1677]\n"
     ]
    }
   ],
   "source": [
    "for cat in categorical_cols[1:]:\n",
    "    \n",
    "    agg = birth_transformed\\\n",
    "        .groupBy(categorical_cols[0])\\\n",
    "        .pivot(cat)\\\n",
    "        .count()\n",
    "    \n",
    "    agg_rdd = agg.rdd.map(lambda row: (row[1:]))\\\n",
    "            .flatMap(lambda row: [0 if e == None else e for e in row])\\\n",
    "            .collect()\n",
    "            \n",
    "    print(agg_rdd)"
   ]
  },
  {
   "cell_type": "markdown",
   "metadata": {},
   "source": [
    " - we transform them into an RDD, so we can then convert them into a matrix using the pyspark.mllib.linalg as ln\n",
    " - $.Matrices.dense(...)$ specifies the number of rows in the matrix"
   ]
  },
  {
   "cell_type": "code",
   "execution_count": 104,
   "metadata": {
    "collapsed": false
   },
   "outputs": [
    {
     "name": "stdout",
     "output_type": "stream",
     "text": [
      "DenseMatrix([[ 1.,  4.],\n",
      "             [ 2.,  5.],\n",
      "             [ 3.,  6.]])\n"
     ]
    }
   ],
   "source": [
    "print(ln.Matrices.dense(3,2,[1,2,3,4,5,6])) # 3행 x 2열 행렬로 변환"
   ]
  },
  {
   "cell_type": "code",
   "execution_count": 105,
   "metadata": {
    "collapsed": false
   },
   "outputs": [
    {
     "name": "stdout",
     "output_type": "stream",
     "text": [
      "DenseMatrix([[  2.29950000e+04,   2.15630000e+04],\n",
      "             [  1.13000000e+02,   2.30000000e+01],\n",
      "             [  1.58000000e+02,   6.60000000e+01],\n",
      "             [  3.90000000e+01,   2.88000000e+02],\n",
      "             [  1.90000000e+01,   5.50000000e+01],\n",
      "             [  2.00000000e+00,   9.00000000e+00],\n",
      "             [  2.30000000e+01,   6.80000000e+01],\n",
      "             [  0.00000000e+00,   8.00000000e+00]])\n",
      "BIRTH_PLACE 0.0\n",
      "DenseMatrix([[ 23178.,  21703.],\n",
      "             [   171.,    377.]])\n",
      "DIABETES_PRE 0.0\n",
      "DenseMatrix([[ 22014.,  21437.],\n",
      "             [  1335.,    643.]])\n",
      "DIABETES_GEST 0.0\n",
      "DenseMatrix([[ 22918.,  21430.],\n",
      "             [   431.,    650.]])\n",
      "HYP_TENS_PRE 0.0\n",
      "DenseMatrix([[ 22135.,  21167.],\n",
      "             [  1214.,    913.]])\n",
      "HYP_TENS_GEST 0.0\n",
      "DenseMatrix([[ 22685.,  20403.],\n",
      "             [   664.,   1677.]])\n",
      "PREV_BIRTH_PRETERM 0.0\n"
     ]
    }
   ],
   "source": [
    "for cat in categorical_cols[1:]:\n",
    "    # pivot categorical variables by the 'INFANT_ALIVE_AT_REPORT' to get Count()\n",
    "    agg = birth_transformed\\\n",
    "        .groupBy(categorical_cols[0])\\\n",
    "        .pivot(cat)\\\n",
    "        .count() \n",
    "    # pivot 을 통해서 Count()한 값들을 기준이 된 INFANT값을 제외하고 가지고온다.\n",
    "    # 가지고 올때 값이 None인 부분을 0으로 변환하여 전부 펼처서 출력.\n",
    "    agg_rdd = agg.rdd.map(lambda row: (row[1:]))\\\n",
    "            .flatMap(lambda row: [0 if e == None else e for e in row])\\\n",
    "            .collect()\n",
    "            \n",
    "    row_length = len(agg.collect()[0]) - 1 # 데이터의 크기.\n",
    "    agg = ln.Matrices.dense(row_length, 2, agg_rdd)\n",
    "    print(agg)\n",
    "    test = st.Statistics.chiSqTest(agg)\n",
    "    print(cat, round(test.pValue, 4))"
   ]
  },
  {
   "cell_type": "markdown",
   "metadata": {},
   "source": [
    "### Our tests reveal that all the features should be significantly different and should help us predict the chance of survival of an infant."
   ]
  },
  {
   "cell_type": "markdown",
   "metadata": {},
   "source": [
    "### 5.2.3 Creating the final dataset\n",
    " - convert our DataFrame into an RDD of LabeledPoints .\n",
    " - A LabeledPoint is a MLlib structure that is used to train the machine learning models. It consists of two attributes: label and features ."
   ]
  },
  {
   "cell_type": "markdown",
   "metadata": {},
   "source": [
    "### 5.2.4 Creating an RDD of LabeledPoints\n",
    " - we first need to deal with one final obstacle: our 'BIRTH_PLACE' feature is still a string.\n",
    " - p.90"
   ]
  },
  {
   "cell_type": "code",
   "execution_count": 106,
   "metadata": {
    "collapsed": true
   },
   "outputs": [],
   "source": [
    "import pyspark.mllib.feature as ft\n",
    "import pyspark.mllib.regression as reg"
   ]
  },
  {
   "cell_type": "code",
   "execution_count": 113,
   "metadata": {
    "collapsed": false
   },
   "outputs": [],
   "source": [
    "hashing = ft.HashingTF(7)\n",
    "births_hashed = birth_transformed.rdd.map(lambda row: [\n",
    "    list(hashing.transform(row[1]).toArray()) if col == 'BIRTH_PLACE'\n",
    "    else row[i]\n",
    "    for i, col in enumerate(features_to_keep)])\\\n",
    "     .map(lambda row: [[e] if type(e) == int else e for e in row])\\\n",
    "     .map(lambda row: [item for sublist in row for item in sublist])\\\n",
    "     .map(lambda row: reg.LabeledPoint(\n",
    "         row[0],ln.Vectors.dense(row[1:])))"
   ]
  },
  {
   "cell_type": "markdown",
   "metadata": {},
   "source": [
    "### Split into training and testing"
   ]
  },
  {
   "cell_type": "code",
   "execution_count": 114,
   "metadata": {
    "collapsed": true
   },
   "outputs": [],
   "source": [
    "births_train, births_test = births_hashed.randomSplit([0.6,0.4])"
   ]
  },
  {
   "cell_type": "markdown",
   "metadata": {},
   "source": [
    "### Predicting infant survival\n",
    "#### Logistic regression in Spark\n",
    "MLLib used to provide a logistic regression model estimated using a stochastic gradient descent (SGD) algorithm. This model has been deprecated in Spark 2.0 in favor of the LogisticRegressionWithLBFGS model."
   ]
  },
  {
   "cell_type": "code",
   "execution_count": 115,
   "metadata": {
    "collapsed": true
   },
   "outputs": [],
   "source": [
    "from pyspark.mllib.classification import LogisticRegressionWithLBFGS"
   ]
  },
  {
   "cell_type": "code",
   "execution_count": 117,
   "metadata": {
    "collapsed": false
   },
   "outputs": [],
   "source": [
    "LR_Model = LogisticRegressionWithLBFGS.train(births_train, iterations=10)"
   ]
  },
  {
   "cell_type": "code",
   "execution_count": 120,
   "metadata": {
    "collapsed": true
   },
   "outputs": [],
   "source": [
    "LR_results = (\n",
    "    births_test.map(lambda row:row.label)\\\n",
    "    .zip(LR_Model.predict(births_test.map(lambda row: row.features)))\n",
    ").map(lambda row:(row[0],row[1] * 1.0))"
   ]
  },
  {
   "cell_type": "markdown",
   "metadata": {},
   "source": [
    "Let's check how well or how bad our model performed."
   ]
  },
  {
   "cell_type": "code",
   "execution_count": 121,
   "metadata": {
    "collapsed": false
   },
   "outputs": [
    {
     "name": "stdout",
     "output_type": "stream",
     "text": [
      "Area under PR: 0.85\n",
      "Area under ROC: 0.63\n"
     ]
    }
   ],
   "source": [
    "import pyspark.mllib.evaluation as ev\n",
    "LR_evaluation = ev.BinaryClassificationMetrics(LR_results)\n",
    "\n",
    "print('Area under PR: {0:.2f}' \\\n",
    "      .format(LR_evaluation.areaUnderPR))\n",
    "print('Area under ROC: {0:.2f}' \\\n",
    "      .format(LR_evaluation.areaUnderROC))\n",
    "LR_evaluation.unpersist()"
   ]
  },
  {
   "cell_type": "markdown",
   "metadata": {},
   "source": [
    "### Selecting only the most predictable features\n",
    "MLLib allows us to select the most predictable features using a Chi-Square selector."
   ]
  },
  {
   "cell_type": "code",
   "execution_count": 122,
   "metadata": {
    "collapsed": true
   },
   "outputs": [],
   "source": [
    "selector = ft.ChiSqSelector(4).fit(births_train)\n",
    "\n",
    "topFeatures_train = (\n",
    "        births_train.map(lambda row: row.label) \\\n",
    "        .zip(selector \\\n",
    "             .transform(births_train \\\n",
    "                        .map(lambda row: row.features)))\n",
    "    ).map(lambda row: reg.LabeledPoint(row[0], row[1]))\n",
    "\n",
    "topFeatures_test = (\n",
    "        births_test.map(lambda row: row.label) \\\n",
    "        .zip(selector \\\n",
    "             .transform(births_test \\\n",
    "                        .map(lambda row: row.features)))\n",
    "    ).map(lambda row: reg.LabeledPoint(row[0], row[1]))"
   ]
  },
  {
   "cell_type": "markdown",
   "metadata": {},
   "source": [
    "### Random Forest in Spark"
   ]
  },
  {
   "cell_type": "code",
   "execution_count": 123,
   "metadata": {
    "collapsed": true
   },
   "outputs": [],
   "source": [
    "from pyspark.mllib.tree import RandomForest"
   ]
  },
  {
   "cell_type": "code",
   "execution_count": 124,
   "metadata": {
    "collapsed": true
   },
   "outputs": [],
   "source": [
    "RF_model = RandomForest \\\n",
    "    .trainClassifier(data=topFeatures_train, \n",
    "                     numClasses=2, \n",
    "                     categoricalFeaturesInfo={}, \n",
    "                     numTrees=6,  \n",
    "                     featureSubsetStrategy='all',\n",
    "                     seed=666)"
   ]
  },
  {
   "cell_type": "code",
   "execution_count": 125,
   "metadata": {
    "collapsed": false
   },
   "outputs": [
    {
     "name": "stdout",
     "output_type": "stream",
     "text": [
      "Area under PR: 0.83\n",
      "Area under ROC: 0.62\n"
     ]
    }
   ],
   "source": [
    "RF_results = (\n",
    "        topFeatures_test.map(lambda row: row.label) \\\n",
    "        .zip(RF_model \\\n",
    "             .predict(topFeatures_test \\\n",
    "                      .map(lambda row: row.features)))\n",
    "    )\n",
    "\n",
    "RF_evaluation = ev.BinaryClassificationMetrics(RF_results)\n",
    "\n",
    "print('Area under PR: {0:.2f}' \\\n",
    "      .format(RF_evaluation.areaUnderPR))\n",
    "print('Area under ROC: {0:.2f}' \\\n",
    "      .format(RF_evaluation.areaUnderROC))\n",
    "RF_evaluation.unpersist()"
   ]
  },
  {
   "cell_type": "markdown",
   "metadata": {},
   "source": [
    "Let's see how the logistic regression would perform with reduced number of features."
   ]
  },
  {
   "cell_type": "code",
   "execution_count": 126,
   "metadata": {
    "collapsed": false
   },
   "outputs": [
    {
     "name": "stdout",
     "output_type": "stream",
     "text": [
      "Area under PR: 0.87\n",
      "Area under ROC: 0.62\n"
     ]
    }
   ],
   "source": [
    "LR_Model_2 = LogisticRegressionWithLBFGS \\\n",
    "    .train(topFeatures_train, iterations=10)\n",
    "\n",
    "LR_results_2 = (\n",
    "        topFeatures_test.map(lambda row: row.label) \\\n",
    "        .zip(LR_Model_2 \\\n",
    "             .predict(topFeatures_test \\\n",
    "                      .map(lambda row: row.features)))\n",
    "    ).map(lambda row: (row[0], row[1] * 1.0))\n",
    "\n",
    "LR_evaluation_2 = ev.BinaryClassificationMetrics(LR_results_2)\n",
    "\n",
    "print('Area under PR: {0:.2f}' \\\n",
    "      .format(LR_evaluation_2.areaUnderPR))\n",
    "print('Area under ROC: {0:.2f}' \\\n",
    "      .format(LR_evaluation_2.areaUnderROC))\n",
    "LR_evaluation_2.unpersist()"
   ]
  }
 ],
 "metadata": {
  "kernelspec": {
   "display_name": "Python 3",
   "language": "python",
   "name": "python3"
  },
  "language_info": {
   "codemirror_mode": {
    "name": "ipython",
    "version": 3
   },
   "file_extension": ".py",
   "mimetype": "text/x-python",
   "name": "python",
   "nbconvert_exporter": "python",
   "pygments_lexer": "ipython3",
   "version": "3.6.0"
  }
 },
 "nbformat": 4,
 "nbformat_minor": 2
}
