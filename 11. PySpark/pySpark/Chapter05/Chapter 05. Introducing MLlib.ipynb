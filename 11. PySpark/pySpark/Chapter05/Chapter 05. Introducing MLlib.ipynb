{
 "cells": [
  {
   "cell_type": "markdown",
   "metadata": {},
   "source": [
    "# Chapter 05. Introducing MLlib\n",
    " - Mllib stands for Machine Learning Library. \n",
    " - Learning how to do the following\n",
    "  - Prepare the data for modeling with MLlib\n",
    "  - Perform statistical testing\n",
    "  - Predict survival chances of infants using logistic regression\n",
    "  - Select the most predictable features and train a random forest model"
   ]
  },
  {
   "cell_type": "markdown",
   "metadata": {},
   "source": [
    "## Loading and transforming the data\n",
    " - read data and convert it to a DataFrame."
   ]
  },
  {
   "cell_type": "code",
   "execution_count": 50,
   "metadata": {
    "collapsed": true
   },
   "outputs": [],
   "source": [
    "import pyspark.sql.types as typ"
   ]
  },
  {
   "cell_type": "code",
   "execution_count": 51,
   "metadata": {
    "collapsed": true
   },
   "outputs": [],
   "source": [
    "labels = [\n",
    "    ('INFANT_ALIVE_AT_REPORT', typ.StringType()),\n",
    "    ('BIRTH_YEAR', typ.IntegerType()),\n",
    "    ('BIRTH_MONTH', typ.IntegerType()),\n",
    "    ('BIRTH_PLACE', typ.StringType()),\n",
    "    ('MOTHER_AGE_YEARS', typ.IntegerType()),\n",
    "    ('MOTHER_RACE_6CODE', typ.StringType()),\n",
    "    ('MOTHER_EDUCATION', typ.StringType()),\n",
    "    ('FATHER_COMBINED_AGE', typ.IntegerType()),\n",
    "    ('FATHER_EDUCATION', typ.StringType()),\n",
    "    ('MONTH_PRECARE_RECODE', typ.StringType()),\n",
    "    ('CIG_BEFORE', typ.IntegerType()),\n",
    "    ('CIG_1_TRI', typ.IntegerType()),\n",
    "    ('CIG_2_TRI', typ.IntegerType()),\n",
    "    ('CIG_3_TRI', typ.IntegerType()),\n",
    "    ('MOTHER_HEIGHT_IN', typ.IntegerType()),\n",
    "    ('MOTHER_BMI_RECODE', typ.IntegerType()),\n",
    "    ('MOTHER_PRE_WEIGHT', typ.IntegerType()),\n",
    "    ('MOTHER_DELIVERY_WEIGHT', typ.IntegerType()),\n",
    "    ('MOTHER_WEIGHT_GAIN', typ.IntegerType()),\n",
    "    ('DIABETES_PRE', typ.StringType()),\n",
    "    ('DIABETES_GEST', typ.StringType()),\n",
    "    ('HYP_TENS_PRE', typ.StringType()),\n",
    "    ('HYP_TENS_GEST', typ.StringType()),\n",
    "    ('PREV_BIRTH_PRETERM', typ.StringType()),\n",
    "    ('NO_RISK', typ.StringType()),\n",
    "    ('NO_INFECTIONS_REPORTED', typ.StringType()),\n",
    "    ('LABOR_IND', typ.StringType()),\n",
    "    ('LABOR_AUGM', typ.StringType()),\n",
    "    ('STEROIDS', typ.StringType()),\n",
    "    ('ANTIBIOTICS', typ.StringType()),\n",
    "    ('ANESTHESIA', typ.StringType()),\n",
    "    ('DELIV_METHOD_RECODE_COMB', typ.StringType()),\n",
    "    ('ATTENDANT_BIRTH', typ.StringType()),\n",
    "    ('APGAR_5', typ.IntegerType()),\n",
    "    ('APGAR_5_RECODE', typ.StringType()),\n",
    "    ('APGAR_10', typ.IntegerType()),\n",
    "    ('APGAR_10_RECODE', typ.StringType()),\n",
    "    ('INFANT_SEX', typ.StringType()),\n",
    "    ('OBSTETRIC_GESTATION_WEEKS', typ.IntegerType()),\n",
    "    ('INFANT_WEIGHT_GRAMS', typ.IntegerType()),\n",
    "    ('INFANT_ASSIST_VENTI', typ.StringType()),\n",
    "    ('INFANT_ASSIST_VENTI_6HRS', typ.StringType()),\n",
    "    ('INFANT_NICU_ADMISSION', typ.StringType()),\n",
    "    ('INFANT_SURFACANT', typ.StringType()),\n",
    "    ('INFANT_ANTIBIOTICS', typ.StringType()),\n",
    "    ('INFANT_SEIZURES', typ.StringType()),\n",
    "    ('INFANT_NO_ABNORMALITIES', typ.StringType()),\n",
    "    ('INFANT_ANCEPHALY', typ.StringType()),\n",
    "    ('INFANT_MENINGOMYELOCELE', typ.StringType()),\n",
    "    ('INFANT_LIMB_REDUCTION', typ.StringType()),\n",
    "    ('INFANT_DOWN_SYNDROME', typ.StringType()),\n",
    "    ('INFANT_SUSPECTED_CHROMOSOMAL_DISORDER', typ.StringType()),\n",
    "    ('INFANT_NO_CONGENITAL_ANOMALIES_CHECKED', typ.StringType()),\n",
    "    ('INFANT_BREASTFED', typ.StringType())\n",
    "]\n",
    "\n",
    "schema = typ.StructType([\n",
    "        typ.StructField(e[0], e[1], False) for e in labels\n",
    "    ])"
   ]
  },
  {
   "cell_type": "markdown",
   "metadata": {},
   "source": [
    " - we load the data."
   ]
  },
  {
   "cell_type": "code",
   "execution_count": 52,
   "metadata": {
    "collapsed": true
   },
   "outputs": [],
   "source": [
    "births = spark.read.csv('births_train.csv.gz', \n",
    "                        header=True, \n",
    "                        schema=schema)"
   ]
  },
  {
   "cell_type": "code",
   "execution_count": 53,
   "metadata": {
    "collapsed": false
   },
   "outputs": [
    {
     "name": "stdout",
     "output_type": "stream",
     "text": [
      "+----------------------+----------+-----------+-----------+----------------+-----------------+----------------+-------------------+----------------+--------------------+----------+---------+---------+---------+----------------+-----------------+-----------------+----------------------+------------------+------------+-------------+------------+-------------+------------------+-------+----------------------+---------+----------+--------+-----------+----------+------------------------+---------------+-------+--------------+--------+---------------+----------+-------------------------+-------------------+-------------------+------------------------+---------------------+----------------+------------------+---------------+-----------------------+----------------+-----------------------+---------------------+--------------------+-------------------------------------+--------------------------------------+----------------+\n",
      "|INFANT_ALIVE_AT_REPORT|BIRTH_YEAR|BIRTH_MONTH|BIRTH_PLACE|MOTHER_AGE_YEARS|MOTHER_RACE_6CODE|MOTHER_EDUCATION|FATHER_COMBINED_AGE|FATHER_EDUCATION|MONTH_PRECARE_RECODE|CIG_BEFORE|CIG_1_TRI|CIG_2_TRI|CIG_3_TRI|MOTHER_HEIGHT_IN|MOTHER_BMI_RECODE|MOTHER_PRE_WEIGHT|MOTHER_DELIVERY_WEIGHT|MOTHER_WEIGHT_GAIN|DIABETES_PRE|DIABETES_GEST|HYP_TENS_PRE|HYP_TENS_GEST|PREV_BIRTH_PRETERM|NO_RISK|NO_INFECTIONS_REPORTED|LABOR_IND|LABOR_AUGM|STEROIDS|ANTIBIOTICS|ANESTHESIA|DELIV_METHOD_RECODE_COMB|ATTENDANT_BIRTH|APGAR_5|APGAR_5_RECODE|APGAR_10|APGAR_10_RECODE|INFANT_SEX|OBSTETRIC_GESTATION_WEEKS|INFANT_WEIGHT_GRAMS|INFANT_ASSIST_VENTI|INFANT_ASSIST_VENTI_6HRS|INFANT_NICU_ADMISSION|INFANT_SURFACANT|INFANT_ANTIBIOTICS|INFANT_SEIZURES|INFANT_NO_ABNORMALITIES|INFANT_ANCEPHALY|INFANT_MENINGOMYELOCELE|INFANT_LIMB_REDUCTION|INFANT_DOWN_SYNDROME|INFANT_SUSPECTED_CHROMOSOMAL_DISORDER|INFANT_NO_CONGENITAL_ANOMALIES_CHECKED|INFANT_BREASTFED|\n",
      "+----------------------+----------+-----------+-----------+----------------+-----------------+----------------+-------------------+----------------+--------------------+----------+---------+---------+---------+----------------+-----------------+-----------------+----------------------+------------------+------------+-------------+------------+-------------+------------------+-------+----------------------+---------+----------+--------+-----------+----------+------------------------+---------------+-------+--------------+--------+---------------+----------+-------------------------+-------------------+-------------------+------------------------+---------------------+----------------+------------------+---------------+-----------------------+----------------+-----------------------+---------------------+--------------------+-------------------------------------+--------------------------------------+----------------+\n",
      "|                     N|      2015|          2|          1|              29|                3|               9|                 99|               9|                   4|        99|       99|       99|       99|              99|                9|              999|                   999|                99|           N|            N|           N|            N|                 N|      1|                     1|        N|         N|       N|          Y|         N|                       2|              1|      4|             2|       3|              1|         F|                       35|               2770|                  N|                       N|                    Y|               N|                 N|              N|                      0|               N|                      N|                    N|                   N|                                    N|                                     0|               N|\n",
      "+----------------------+----------+-----------+-----------+----------------+-----------------+----------------+-------------------+----------------+--------------------+----------+---------+---------+---------+----------------+-----------------+-----------------+----------------------+------------------+------------+-------------+------------+-------------+------------------+-------+----------------------+---------+----------+--------+-----------+----------+------------------------+---------------+-------+--------------+--------+---------------+----------+-------------------------+-------------------+-------------------+------------------------+---------------------+----------------+------------------+---------------+-----------------------+----------------+-----------------------+---------------------+--------------------+-------------------------------------+--------------------------------------+----------------+\n",
      "only showing top 1 row\n",
      "\n"
     ]
    }
   ],
   "source": [
    "births.show(1)"
   ]
  },
  {
   "cell_type": "markdown",
   "metadata": {},
   "source": [
    " - Specify our recode dictionary."
   ]
  },
  {
   "cell_type": "code",
   "execution_count": 54,
   "metadata": {
    "collapsed": true
   },
   "outputs": [],
   "source": [
    "recode_dictionary = {\n",
    "    'YNU': {\n",
    "        'Y': 1,\n",
    "        'N': 0,\n",
    "        'U': 0\n",
    "    }\n",
    "}"
   ]
  },
  {
   "cell_type": "markdown",
   "metadata": {},
   "source": [
    "Our goal is to predict whether the 'INFANT_ALIVE_AT_REPORT' is either 1 or 0. Thus, we will drop all of the features that relate to the infant."
   ]
  },
  {
   "cell_type": "code",
   "execution_count": 55,
   "metadata": {
    "collapsed": true
   },
   "outputs": [],
   "source": [
    "selected_features = [\n",
    "    'INFANT_ALIVE_AT_REPORT', \n",
    "    'BIRTH_PLACE', \n",
    "    'MOTHER_AGE_YEARS', \n",
    "    'FATHER_COMBINED_AGE', \n",
    "    'CIG_BEFORE', \n",
    "    'CIG_1_TRI', \n",
    "    'CIG_2_TRI', \n",
    "    'CIG_3_TRI', \n",
    "    'MOTHER_HEIGHT_IN', \n",
    "    'MOTHER_PRE_WEIGHT', \n",
    "    'MOTHER_DELIVERY_WEIGHT', \n",
    "    'MOTHER_WEIGHT_GAIN', \n",
    "    'DIABETES_PRE', \n",
    "    'DIABETES_GEST', \n",
    "    'HYP_TENS_PRE', \n",
    "    'HYP_TENS_GEST', \n",
    "    'PREV_BIRTH_PRETERM'\n",
    "]"
   ]
  },
  {
   "cell_type": "code",
   "execution_count": 56,
   "metadata": {
    "collapsed": true
   },
   "outputs": [],
   "source": [
    "births_trimmed = births.select(selected_features)"
   ]
  },
  {
   "cell_type": "markdown",
   "metadata": {},
   "source": [
    " - There's a small problem with how the number of cigarettes smoked by the mother was coded. \n",
    "  - as 0 means the mother smoked no cigarettes before of during the pregnancy.\n",
    "  - between 1-97 states the actual number of cigarette smoked\n",
    "  - 98 indicates either 98 or more, whereas 99 identifies the unknown =>  we will assume the unknown is 0 and recode accordingly\n",
    " - Next we will specify our recoding methods."
   ]
  },
  {
   "cell_type": "code",
   "execution_count": 57,
   "metadata": {
    "collapsed": true
   },
   "outputs": [],
   "source": [
    "import pyspark.sql.functions as func"
   ]
  },
  {
   "cell_type": "code",
   "execution_count": 58,
   "metadata": {
    "collapsed": true
   },
   "outputs": [],
   "source": [
    "def recode(col,key):\n",
    "    return recode_dictionary[key][col]\n",
    "\n",
    "def correct_cig(feat):\n",
    "    return func.when(func.col(feat)!=99, func.col(feat)).otherwise(0) # 99면 0으로 출력하고 99가 아니면 그대로 출력."
   ]
  },
  {
   "cell_type": "code",
   "execution_count": 59,
   "metadata": {
    "collapsed": true
   },
   "outputs": [],
   "source": [
    "rec_integer = func.udf(recode, typ.IntegerType())"
   ]
  },
  {
   "cell_type": "code",
   "execution_count": 60,
   "metadata": {
    "collapsed": true
   },
   "outputs": [],
   "source": [
    "birth_transformed = births_trimmed \\\n",
    "                .withColumn('CIG_BEFORE', correct_cig('CIG_BEFORE')) \\\n",
    "                .withColumn('CIG_1_TRI', correct_cig('CIG_1_TRI')) \\\n",
    "                .withColumn('CIG_2_TRI', correct_cig('CIG_2_TRI')) \\\n",
    "                .withColumn('CIG_3_TRI', correct_cig('CIG_3_TRI')) \\"
   ]
  },
  {
   "cell_type": "markdown",
   "metadata": {},
   "source": [
    " - withColumn(...) Method takes the name of the Column as its first parameter and the transformation as the second one."
   ]
  },
  {
   "cell_type": "code",
   "execution_count": 61,
   "metadata": {
    "collapsed": false
   },
   "outputs": [
    {
     "name": "stdout",
     "output_type": "stream",
     "text": [
      "StructField(INFANT_ALIVE_AT_REPORT,StringType,true)\n",
      "StructField(BIRTH_PLACE,StringType,true)\n",
      "StructField(MOTHER_AGE_YEARS,IntegerType,true)\n",
      "StructField(FATHER_COMBINED_AGE,IntegerType,true)\n",
      "StructField(CIG_BEFORE,IntegerType,true)\n",
      "StructField(CIG_1_TRI,IntegerType,true)\n",
      "StructField(CIG_2_TRI,IntegerType,true)\n",
      "StructField(CIG_3_TRI,IntegerType,true)\n",
      "StructField(MOTHER_HEIGHT_IN,IntegerType,true)\n",
      "StructField(MOTHER_PRE_WEIGHT,IntegerType,true)\n",
      "StructField(MOTHER_DELIVERY_WEIGHT,IntegerType,true)\n",
      "StructField(MOTHER_WEIGHT_GAIN,IntegerType,true)\n",
      "StructField(DIABETES_PRE,StringType,true)\n",
      "StructField(DIABETES_GEST,StringType,true)\n",
      "StructField(HYP_TENS_PRE,StringType,true)\n",
      "StructField(HYP_TENS_GEST,StringType,true)\n",
      "StructField(PREV_BIRTH_PRETERM,StringType,true)\n"
     ]
    }
   ],
   "source": [
    "for col in births_trimmed.schema:\n",
    "    print(col)"
   ]
  },
  {
   "cell_type": "code",
   "execution_count": 62,
   "metadata": {
    "collapsed": false
   },
   "outputs": [
    {
     "data": {
      "text/plain": [
       "[('INFANT_ALIVE_AT_REPORT', StringType),\n",
       " ('BIRTH_PLACE', StringType),\n",
       " ('MOTHER_AGE_YEARS', IntegerType),\n",
       " ('FATHER_COMBINED_AGE', IntegerType),\n",
       " ('CIG_BEFORE', IntegerType),\n",
       " ('CIG_1_TRI', IntegerType),\n",
       " ('CIG_2_TRI', IntegerType),\n",
       " ('CIG_3_TRI', IntegerType),\n",
       " ('MOTHER_HEIGHT_IN', IntegerType),\n",
       " ('MOTHER_PRE_WEIGHT', IntegerType),\n",
       " ('MOTHER_DELIVERY_WEIGHT', IntegerType),\n",
       " ('MOTHER_WEIGHT_GAIN', IntegerType),\n",
       " ('DIABETES_PRE', StringType),\n",
       " ('DIABETES_GEST', StringType),\n",
       " ('HYP_TENS_PRE', StringType),\n",
       " ('HYP_TENS_GEST', StringType),\n",
       " ('PREV_BIRTH_PRETERM', StringType)]"
      ]
     },
     "execution_count": 62,
     "metadata": {},
     "output_type": "execute_result"
    }
   ],
   "source": [
    "cols = [(col.name, col.dataType) for col in births_trimmed.schema]\n",
    "cols"
   ]
  },
  {
   "cell_type": "code",
   "execution_count": 63,
   "metadata": {
    "collapsed": false
   },
   "outputs": [
    {
     "name": "stdout",
     "output_type": "stream",
     "text": [
      "0 ('INFANT_ALIVE_AT_REPORT', StringType) StringType\n",
      "1 ('BIRTH_PLACE', StringType) StringType\n",
      "2 ('MOTHER_AGE_YEARS', IntegerType) IntegerType\n",
      "3 ('FATHER_COMBINED_AGE', IntegerType) IntegerType\n",
      "4 ('CIG_BEFORE', IntegerType) IntegerType\n",
      "5 ('CIG_1_TRI', IntegerType) IntegerType\n",
      "6 ('CIG_2_TRI', IntegerType) IntegerType\n",
      "7 ('CIG_3_TRI', IntegerType) IntegerType\n",
      "8 ('MOTHER_HEIGHT_IN', IntegerType) IntegerType\n",
      "9 ('MOTHER_PRE_WEIGHT', IntegerType) IntegerType\n",
      "10 ('MOTHER_DELIVERY_WEIGHT', IntegerType) IntegerType\n",
      "11 ('MOTHER_WEIGHT_GAIN', IntegerType) IntegerType\n",
      "12 ('DIABETES_PRE', StringType) StringType\n",
      "13 ('DIABETES_GEST', StringType) StringType\n",
      "14 ('HYP_TENS_PRE', StringType) StringType\n",
      "15 ('HYP_TENS_GEST', StringType) StringType\n",
      "16 ('PREV_BIRTH_PRETERM', StringType) StringType\n"
     ]
    }
   ],
   "source": [
    "for i, s in enumerate(cols):\n",
    "    print(i,s,s[1])"
   ]
  },
  {
   "cell_type": "code",
   "execution_count": 64,
   "metadata": {
    "collapsed": false
   },
   "outputs": [
    {
     "name": "stdout",
     "output_type": "stream",
     "text": [
      "[Row(INFANT_ALIVE_AT_REPORT='Y'), Row(INFANT_ALIVE_AT_REPORT='N')]\n",
      "[Row(BIRTH_PLACE='7'), Row(BIRTH_PLACE='3'), Row(BIRTH_PLACE='5'), Row(BIRTH_PLACE='6'), Row(BIRTH_PLACE='9'), Row(BIRTH_PLACE='1'), Row(BIRTH_PLACE='4'), Row(BIRTH_PLACE='2')]\n",
      "[Row(DIABETES_PRE='Y'), Row(DIABETES_PRE='U'), Row(DIABETES_PRE='N')]\n",
      "[Row(DIABETES_GEST='Y'), Row(DIABETES_GEST='U'), Row(DIABETES_GEST='N')]\n",
      "[Row(HYP_TENS_PRE='Y'), Row(HYP_TENS_PRE='U'), Row(HYP_TENS_PRE='N')]\n",
      "[Row(HYP_TENS_GEST='Y'), Row(HYP_TENS_GEST='U'), Row(HYP_TENS_GEST='N')]\n",
      "[Row(PREV_BIRTH_PRETERM='Y'), Row(PREV_BIRTH_PRETERM='U'), Row(PREV_BIRTH_PRETERM='N')]\n"
     ]
    }
   ],
   "source": [
    "for i, s in enumerate(cols):\n",
    "    if s[1] == typ.StringType():\n",
    "        print(births.select(s[0]).distinct().rdd.collect()) "
   ]
  },
  {
   "cell_type": "markdown",
   "metadata": {},
   "source": [
    " - births.select(s[0]) : 컬럼명으로 데이터 가지고오기. \n",
    " - distinct : 중복되지 않는 값만 가지고 오기. \n",
    " - 해당 결과값이 DataFrame형태로 되어있어 RDD로 변형이 필요하다. .RDD\n",
    " - 각 해당되는 Column들의 데이터를 추출 map(row:row[0]).collect()"
   ]
  },
  {
   "cell_type": "code",
   "execution_count": 65,
   "metadata": {
    "collapsed": false
   },
   "outputs": [
    {
     "name": "stdout",
     "output_type": "stream",
     "text": [
      "['Y', 'N']\n",
      "['7', '3', '5', '6', '9', '1', '4', '2']\n",
      "['Y', 'U', 'N']\n",
      "['Y', 'U', 'N']\n",
      "['Y', 'U', 'N']\n",
      "['Y', 'U', 'N']\n",
      "['Y', 'U', 'N']\n"
     ]
    }
   ],
   "source": [
    "for i, s in enumerate(cols):\n",
    "    if s[1] == typ.StringType():\n",
    "        print(births.select(s[0]).distinct().rdd.map(lambda row:row[0]).collect())"
   ]
  },
  {
   "cell_type": "code",
   "execution_count": 66,
   "metadata": {
    "collapsed": false
   },
   "outputs": [],
   "source": [
    "YNU_cols = []\n",
    "for i, s in enumerate(cols):\n",
    "    if s[1] == typ.StringType():\n",
    "        dis = births.select(s[0]).distinct().rdd.map(lambda row:row[0]).collect()\n",
    "        if 'Y' in dis: # 출력된 값들 중 Y가 포함된다면 해당 값들을 LIST에 Column name을 Append\n",
    "            YNU_cols.append(s[0])"
   ]
  },
  {
   "cell_type": "code",
   "execution_count": 67,
   "metadata": {
    "collapsed": false
   },
   "outputs": [
    {
     "data": {
      "text/plain": [
       "['INFANT_ALIVE_AT_REPORT',\n",
       " 'DIABETES_PRE',\n",
       " 'DIABETES_GEST',\n",
       " 'HYP_TENS_PRE',\n",
       " 'HYP_TENS_GEST',\n",
       " 'PREV_BIRTH_PRETERM']"
      ]
     },
     "execution_count": 67,
     "metadata": {},
     "output_type": "execute_result"
    }
   ],
   "source": [
    "YNU_cols"
   ]
  },
  {
   "cell_type": "code",
   "execution_count": 68,
   "metadata": {
    "collapsed": false
   },
   "outputs": [
    {
     "data": {
      "text/plain": [
       "[Row(INFANT_NICU_ADMISSION='Y', INFANT_NICU_ADMISSION_RECODE=1),\n",
       " Row(INFANT_NICU_ADMISSION='Y', INFANT_NICU_ADMISSION_RECODE=1),\n",
       " Row(INFANT_NICU_ADMISSION='U', INFANT_NICU_ADMISSION_RECODE=0),\n",
       " Row(INFANT_NICU_ADMISSION='N', INFANT_NICU_ADMISSION_RECODE=0),\n",
       " Row(INFANT_NICU_ADMISSION='U', INFANT_NICU_ADMISSION_RECODE=0)]"
      ]
     },
     "execution_count": 68,
     "metadata": {},
     "output_type": "execute_result"
    }
   ],
   "source": [
    "births.select([\n",
    "        'INFANT_NICU_ADMISSION', \n",
    "        rec_integer(\n",
    "            'INFANT_NICU_ADMISSION', func.lit('YNU')\n",
    "        ) \\\n",
    "        .alias('INFANT_NICU_ADMISSION_RECODE')]\n",
    "     ).take(5) # Y일 경우 1 나머지는 모두 0으로 변환. \n"
   ]
  },
  {
   "cell_type": "code",
   "execution_count": 69,
   "metadata": {
    "collapsed": true
   },
   "outputs": [],
   "source": [
    "exprs_YNU = [\n",
    "    rec_integer(x, func.lit('YNU')). alias(x)\n",
    "    if x in YNU_cols else x for x in births_trimmed.columns\n",
    "]\n",
    "\n",
    "birth_transformed = birth_transformed.select(exprs_YNU)"
   ]
  },
  {
   "cell_type": "markdown",
   "metadata": {},
   "source": [
    " - Let's Check if we got it Collectly"
   ]
  },
  {
   "cell_type": "code",
   "execution_count": 70,
   "metadata": {
    "collapsed": false,
    "scrolled": false
   },
   "outputs": [
    {
     "name": "stdout",
     "output_type": "stream",
     "text": [
      "+------------+-------------+------------+-------------+------------------+\n",
      "|DIABETES_PRE|DIABETES_GEST|HYP_TENS_PRE|HYP_TENS_GEST|PREV_BIRTH_PRETERM|\n",
      "+------------+-------------+------------+-------------+------------------+\n",
      "|           0|            0|           0|            0|                 0|\n",
      "|           0|            0|           0|            0|                 0|\n",
      "|           0|            0|           0|            0|                 0|\n",
      "|           0|            0|           0|            0|                 1|\n",
      "|           0|            0|           0|            0|                 0|\n",
      "+------------+-------------+------------+-------------+------------------+\n",
      "only showing top 5 rows\n",
      "\n"
     ]
    }
   ],
   "source": [
    "birth_transformed.select(YNU_cols[-5:]).show(5)"
   ]
  },
  {
   "cell_type": "markdown",
   "metadata": {},
   "source": [
    "# Getting to know your data\n",
    "## Descriptive statistics \n",
    " - DataFrames exose the .describe method\n",
    " - with LMlib, we will use the .colStats(...) method \n",
    " - RDD of data to calculate the descripticve statistics of and return a MultivariateStatisticalSummary object that contains the following descriptive statistics\n",
    "  - count()\n",
    "  - max()\n",
    "  - mean()\n",
    "  - min()\n",
    "  - normL1() : value of the L1-Norm for the values in the column\n",
    "  - normL2() : value of the L2-Norm for the values in the column\n",
    "  - numNonZeros() : nunmber of nonzero values in the column\n",
    "  - variance()"
   ]
  },
  {
   "cell_type": "code",
   "execution_count": null,
   "metadata": {
    "collapsed": true
   },
   "outputs": [],
   "source": [
    "import pyspark"
   ]
  }
 ],
 "metadata": {
  "kernelspec": {
   "display_name": "Python 3",
   "language": "python",
   "name": "python3"
  },
  "language_info": {
   "codemirror_mode": {
    "name": "ipython",
    "version": 3
   },
   "file_extension": ".py",
   "mimetype": "text/x-python",
   "name": "python",
   "nbconvert_exporter": "python",
   "pygments_lexer": "ipython3",
   "version": "3.6.0"
  }
 },
 "nbformat": 4,
 "nbformat_minor": 2
}
