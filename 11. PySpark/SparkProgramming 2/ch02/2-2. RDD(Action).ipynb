{
 "cells": [
  {
   "cell_type": "markdown",
   "metadata": {},
   "source": [
    "# Chapter 2-2 RDD(Action)\n",
    " - RDD 메서드 중에서 기 결과값이 정수나 리스트, 맵 등 RDD가 아닌 형태로 출력되는 모든 것을 칭해서 Action이라고 한다. "
   ]
  },
  {
   "cell_type": "markdown",
   "metadata": {},
   "source": [
    "## [출력과 관련된 연산]\n",
    "## 2.1.6.1 first\n",
    " - first 연산 : 첫번째 요소를 하나를 돌려준다. "
   ]
  },
  {
   "cell_type": "code",
   "execution_count": 2,
   "metadata": {
    "collapsed": false
   },
   "outputs": [
    {
     "name": "stdout",
     "output_type": "stream",
     "text": [
      "10\n"
     ]
    }
   ],
   "source": [
    "rdd = sc.parallelize(range(10,15))\n",
    "result = rdd.first()\n",
    "print(result)"
   ]
  },
  {
   "cell_type": "markdown",
   "metadata": {},
   "source": [
    "## 2.1.6.2 take\n",
    " - take()는 첫번째로부터 순서대로 n개 되돌려준다. \n",
    " - 배열 또는 리스트와 같은 컬렉션 타입으로 반환하기 때문에 지나치게 큰 N값을 지정하게 되면 메모리 부족이 일어난다. "
   ]
  },
  {
   "cell_type": "code",
   "execution_count": 3,
   "metadata": {
    "collapsed": false
   },
   "outputs": [
    {
     "name": "stdout",
     "output_type": "stream",
     "text": [
      "[10, 11, 12]\n"
     ]
    }
   ],
   "source": [
    "rdd = sc.parallelize(range(10,15))\n",
    "result = rdd.take(3)\n",
    "print(result)"
   ]
  },
  {
   "cell_type": "markdown",
   "metadata": {},
   "source": [
    "## 2.1.6.3 takeSample\n",
    " - 지정된 크기의 샘플을 추출하는 메서드, RDD가 아니라 컬렉션형태로 출력된다는 점에서 sample()과는 다르다. "
   ]
  },
  {
   "cell_type": "code",
   "execution_count": 7,
   "metadata": {
    "collapsed": false
   },
   "outputs": [
    {
     "name": "stdout",
     "output_type": "stream",
     "text": [
      "[76, 62, 81, 38, 35, 34, 37, 82, 29, 92, 71, 27, 67, 75, 61, 88, 57, 47, 56, 86]\n",
      "length of List : 20\n",
      "[84, 79, 82, 63, 50, 38, 97, 15, 79, 75, 82, 31, 40, 67, 47, 28, 17, 63, 63, 97]\n",
      "length of List : 20\n"
     ]
    }
   ],
   "source": [
    "rdd = sc.parallelize(range(1,101))\n",
    "result = rdd.takeSample(False,20)\n",
    "print(result)\n",
    "print(\"length of List : {0}\".format(len(result)))\n",
    "result1 = rdd.takeSample(True,20) # True , Replacement True\n",
    "print(result1)\n",
    "print(\"length of List : {0}\".format(len(result1)))"
   ]
  },
  {
   "cell_type": "code",
   "execution_count": null,
   "metadata": {
    "collapsed": true
   },
   "outputs": [],
   "source": []
  }
 ],
 "metadata": {
  "kernelspec": {
   "display_name": "Python 3",
   "language": "python",
   "name": "python3"
  },
  "language_info": {
   "codemirror_mode": {
    "name": "ipython",
    "version": 3
   },
   "file_extension": ".py",
   "mimetype": "text/x-python",
   "name": "python",
   "nbconvert_exporter": "python",
   "pygments_lexer": "ipython3",
   "version": "3.6.0"
  }
 },
 "nbformat": 4,
 "nbformat_minor": 2
}
