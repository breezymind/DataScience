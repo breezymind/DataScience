{
 "cells": [
  {
   "cell_type": "markdown",
   "metadata": {},
   "source": [
    "# Chapter 2-2 RDD(Action)\n",
    " - RDD 메서드 중에서 기 결과값이 정수나 리스트, 맵 등 RDD가 아닌 형태로 출력되는 모든 것을 칭해서 Action이라고 한다. "
   ]
  },
  {
   "cell_type": "markdown",
   "metadata": {},
   "source": [
    "## [출력과 관련된 연산]\n",
    "## 2.1.6.1 first\n",
    " - first 연산 : 첫번째 요소를 하나를 돌려준다. "
   ]
  },
  {
   "cell_type": "code",
   "execution_count": 1,
   "metadata": {
    "collapsed": false
   },
   "outputs": [
    {
     "name": "stdout",
     "output_type": "stream",
     "text": [
      "10\n"
     ]
    }
   ],
   "source": [
    "rdd = sc.parallelize(range(10,15))\n",
    "result = rdd.first()\n",
    "print(result)"
   ]
  },
  {
   "cell_type": "markdown",
   "metadata": {},
   "source": [
    "## 2.1.6.2 take\n",
    " - take()는 첫번째로부터 순서대로 n개 되돌려준다. \n",
    " - 배열 또는 리스트와 같은 컬렉션 타입으로 반환하기 때문에 지나치게 큰 N값을 지정하게 되면 메모리 부족이 일어난다. "
   ]
  },
  {
   "cell_type": "code",
   "execution_count": 2,
   "metadata": {
    "collapsed": false
   },
   "outputs": [
    {
     "name": "stdout",
     "output_type": "stream",
     "text": [
      "[10, 11, 12]\n"
     ]
    }
   ],
   "source": [
    "rdd = sc.parallelize(range(10,15))\n",
    "result = rdd.take(3)\n",
    "print(result)"
   ]
  },
  {
   "cell_type": "markdown",
   "metadata": {},
   "source": [
    "## 2.1.6.3 takeSample\n",
    " - 지정된 크기의 샘플을 추출하는 메서드, RDD가 아니라 컬렉션형태로 출력된다는 점에서 sample()과는 다르다. "
   ]
  },
  {
   "cell_type": "code",
   "execution_count": 3,
   "metadata": {
    "collapsed": false
   },
   "outputs": [
    {
     "name": "stdout",
     "output_type": "stream",
     "text": [
      "[22, 82, 60, 29, 28, 52, 83, 6, 55, 64, 81, 97, 91, 33, 62, 63, 85, 90, 26, 31]\n",
      "length of List : 20\n",
      "[55, 5, 72, 49, 81, 8, 87, 35, 35, 94, 73, 70, 56, 40, 38, 41, 83, 69, 39, 92]\n",
      "length of List : 20\n"
     ]
    }
   ],
   "source": [
    "rdd = sc.parallelize(range(1,101))\n",
    "result = rdd.takeSample(False,20)\n",
    "print(result)\n",
    "print(\"length of List : {0}\".format(len(result)))\n",
    "result1 = rdd.takeSample(True,20) # True , Replacement True\n",
    "print(result1)\n",
    "print(\"length of List : {0}\".format(len(result1)))"
   ]
  },
  {
   "cell_type": "markdown",
   "metadata": {
    "collapsed": true
   },
   "source": [
    "## 2.1.6.4 collect, count\n",
    " - RDD의 모든 요소를 배열 혹은 리스트 같은 하나의 컬렉션에 담아서 Return\n",
    " - Count 는 모든 요소의 개수를 돌려주는 메소드 "
   ]
  },
  {
   "cell_type": "code",
   "execution_count": 4,
   "metadata": {
    "collapsed": false
   },
   "outputs": [
    {
     "name": "stdout",
     "output_type": "stream",
     "text": [
      "[1, 2, 3, 4, 5, 6, 7, 8, 9, 10]\n",
      "10\n"
     ]
    }
   ],
   "source": [
    "rdd = sc.parallelize(range(1,11))\n",
    "print(rdd.collect())\n",
    "print(rdd.count())"
   ]
  },
  {
   "cell_type": "markdown",
   "metadata": {},
   "source": [
    "## 2.1.6.5 countByValue\n",
    " - RDD에 속한 각 값들이 나타나는 횟수를 구해서 맵 형태로 돌려주는 메서드"
   ]
  },
  {
   "cell_type": "code",
   "execution_count": 7,
   "metadata": {
    "collapsed": false
   },
   "outputs": [
    {
     "name": "stdout",
     "output_type": "stream",
     "text": [
      "<class 'collections.defaultdict'>\n",
      "1 2\n",
      "2 1\n",
      "3 2\n",
      "4 3\n"
     ]
    }
   ],
   "source": [
    "rdd = sc.parallelize([1,1,2,3,3,4,4,4])\n",
    "result = rdd.countByValue()\n",
    "print(type(result))\n",
    "for k,v in result.items():\n",
    "    print(k,v)"
   ]
  },
  {
   "cell_type": "markdown",
   "metadata": {},
   "source": [
    "## 2.1.6.6 reduce\n",
    " - RDD에 포함된 임의의 값 두개를 하나로 합치는 함수를 이용해 RDD에 포함된 모든 요소를 하나의 값으로 병합하고 그 결과값을 반환.\n",
    " - 1,3,4,5 라는 숫자가 있다면 1+3 => 4 + 4 => 8 + 5 => 13 이러한 방식으로 수행.\n",
    " - 교환 결합법칙이 성립하는 문제에만 사용해야한다.(파티션이 나눠져 있다면) => 다른 결과가 나올 수 있다."
   ]
  },
  {
   "cell_type": "code",
   "execution_count": 9,
   "metadata": {
    "collapsed": false
   },
   "outputs": [
    {
     "name": "stdout",
     "output_type": "stream",
     "text": [
      "55\n"
     ]
    }
   ],
   "source": [
    "rdd = sc.parallelize(range(1,11),3) # 3개의 파티션으로 만듬.\n",
    "result = rdd.reduce(lambda v1, v2 : v1 + v2)\n",
    "print(result)"
   ]
  },
  {
   "cell_type": "markdown",
   "metadata": {},
   "source": [
    "## 2.1.6.7 fold\n",
    " - reduce 와 같은 역할을 하는 메서드이다. 하지만 차이점은 reduce 는 rdd에 포함된 요소만 이용해 병합을 수행하는데 반해, fold() 연산은 병학 연산의 초깃값을 지정해 줄 수 있다는 점이다. \n",
    " - 예) 1~10 숫자를 fold(0) 을하게 되면 0 + 1 으로 부터 시작한다. \n",
    " - 각 연산을 할때마다 앞의 값을 더한다. "
   ]
  },
  {
   "cell_type": "code",
   "execution_count": 14,
   "metadata": {
    "collapsed": false
   },
   "outputs": [
    {
     "name": "stdout",
     "output_type": "stream",
     "text": [
      "55\n"
     ]
    }
   ],
   "source": [
    "rdd = sc.parallelize(range(1,11),3)\n",
    "result = rdd.fold(0, lambda v1, v2: v1 + v2)\n",
    "print(result)"
   ]
  },
  {
   "cell_type": "code",
   "execution_count": 19,
   "metadata": {
    "collapsed": false
   },
   "outputs": [
    {
     "name": "stdout",
     "output_type": "stream",
     "text": [
      "18\n"
     ]
    }
   ],
   "source": [
    "rdd = sc.parallelize(range(1,5),3)\n",
    "result = rdd.fold(2, lambda v1, v2: v1 + v2)\n",
    "print(result)"
   ]
  },
  {
   "cell_type": "code",
   "execution_count": 17,
   "metadata": {
    "collapsed": false,
    "scrolled": false
   },
   "outputs": [
    {
     "name": "stdout",
     "output_type": "stream",
     "text": [
      "@@A@A@B\n"
     ]
    }
   ],
   "source": [
    "rdd = sc.parallelize([\"A\",\"A\",\"B\"],3)\n",
    "result = rdd.fold(\"@\", lambda v1, v2: v1 + v2)\n",
    "print(result)"
   ]
  },
  {
   "cell_type": "markdown",
   "metadata": {},
   "source": [
    "## 2.1.6.8 aggregate \n",
    " - reduce 나 fold 메서드의 경우 모두 입력과 출력이 같은 타입이어야했다. 하지만 aggregate 의 경우 달라도 상관없다."
   ]
  },
  {
   "cell_type": "code",
   "execution_count": 22,
   "metadata": {
    "collapsed": true
   },
   "outputs": [],
   "source": [
    "class Record:\n",
    "\n",
    "    def __init__(self, amount, number=1):\n",
    "        self.amount = amount\n",
    "        self.number = number\n",
    "        \n",
    "    def addAmt(self, amount):\n",
    "        return Record(self.amount + amount, self.number + 1)\n",
    "    \n",
    "    def __add__(self, other):\n",
    "        amount = self.amount + other.amount\n",
    "        number = self.number + other.number \n",
    "        return Record(amount, number)\n",
    "        \n",
    "    def __str__(self):\n",
    "        return \"avg:\" + str(self.amount / self.number)\n",
    "\n",
    "    def __repr__(self):\n",
    "        return 'Record(%r, %r)' % (self.amount, self.number)"
   ]
  },
  {
   "cell_type": "code",
   "execution_count": 23,
   "metadata": {
    "collapsed": false
   },
   "outputs": [],
   "source": [
    "# Aggregate\n",
    "def seqOp(r, v):\n",
    "    return r.addAmt(v)\n",
    "\n",
    "\n",
    "# Aggregate\n",
    "def combOp(r1, r2):\n",
    "    return r1 + r2"
   ]
  },
  {
   "cell_type": "code",
   "execution_count": 30,
   "metadata": {
    "collapsed": false,
    "scrolled": false
   },
   "outputs": [],
   "source": [
    "rdd = sc.parallelize([100, 80, 75, 90, 95])\n",
    "#result = rdd.aggregate(Record(0, 0), seqOp, combOp)\n",
    "#print(result)"
   ]
  },
  {
   "cell_type": "markdown",
   "metadata": {},
   "source": [
    "## 2.1.6.9 sum"
   ]
  },
  {
   "cell_type": "code",
   "execution_count": 31,
   "metadata": {
    "collapsed": false
   },
   "outputs": [
    {
     "name": "stdout",
     "output_type": "stream",
     "text": [
      "55\n"
     ]
    }
   ],
   "source": [
    "rdd = sc.parallelize(range(1,11))\n",
    "result = rdd.sum()\n",
    "print(result)"
   ]
  },
  {
   "cell_type": "markdown",
   "metadata": {},
   "source": [
    "## 2.1.7.10 foreach, foreachPartition\n",
    " - foreach()는 모든 요소에 특정함수를 적용하는 메서드.\n",
    " - foreachPartition은 위와 다르게 파티션별로 적용한다는 것이다. "
   ]
  },
  {
   "cell_type": "code",
   "execution_count": 32,
   "metadata": {
    "collapsed": true
   },
   "outputs": [],
   "source": [
    "def sideEffect(values):\n",
    "    print(\"Partition Side Effect!!\")\n",
    "    for v in values:\n",
    "        print(\"Value Side Effect : %s \" % v) "
   ]
  },
  {
   "cell_type": "code",
   "execution_count": 33,
   "metadata": {
    "collapsed": true
   },
   "outputs": [],
   "source": [
    "rdd = sc.parallelize(range(1,11),3)\n",
    "result = rdd.foreach(lambda v: print(\"Value Side effect : %s\" % v)) # 각 요소마다 Value Side effect가 출력.\n",
    "result2 = rdd.foreachPartition(sideEffect) # Partition 마다 한번씩 출력한다. 이전 transform과 같다."
   ]
  },
  {
   "cell_type": "markdown",
   "metadata": {},
   "source": [
    "## 2.1.7.11 toDebugString\n",
    " - 디버깅을 위한 메서드.\n",
    " - RDD의 파티션 개수나 의존성 정보등 세부정보를 알고 싶을때 사용. "
   ]
  },
  {
   "cell_type": "code",
   "execution_count": 37,
   "metadata": {
    "collapsed": true
   },
   "outputs": [],
   "source": [
    "rdd = sc.parallelize(range(1,101),3).map(lambda v:v*2).map(lambda v:v+1).coalesce(2)"
   ]
  },
  {
   "cell_type": "code",
   "execution_count": 42,
   "metadata": {
    "collapsed": false
   },
   "outputs": [
    {
     "name": "stdout",
     "output_type": "stream",
     "text": [
      "b'(2) CoalescedRDD[65] at coalesce at NativeMethodAccessorImpl.java:0 []\\n |  PythonRDD[64] at RDD at PythonRDD.scala:48 []\\n |  ParallelCollectionRDD[63] at parallelize at PythonRDD.scala:475 []'\n"
     ]
    }
   ],
   "source": [
    "print(rdd.toDebugString())"
   ]
  },
  {
   "cell_type": "code",
   "execution_count": null,
   "metadata": {
    "collapsed": true
   },
   "outputs": [],
   "source": []
  }
 ],
 "metadata": {
  "kernelspec": {
   "display_name": "Python [work]",
   "language": "python",
   "name": "Python [work]"
  },
  "language_info": {
   "codemirror_mode": {
    "name": "ipython",
    "version": 3
   },
   "file_extension": ".py",
   "mimetype": "text/x-python",
   "name": "python",
   "nbconvert_exporter": "python",
   "pygments_lexer": "ipython3",
   "version": "3.5.2"
  }
 },
 "nbformat": 4,
 "nbformat_minor": 2
}
