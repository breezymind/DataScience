{
 "cells": [
  {
   "cell_type": "markdown",
   "metadata": {},
   "source": [
    "# Leaf Classification"
   ]
  },
  {
   "cell_type": "code",
   "execution_count": 1,
   "metadata": {
    "collapsed": false
   },
   "outputs": [
    {
     "name": "stderr",
     "output_type": "stream",
     "text": [
      "Using TensorFlow backend.\n"
     ]
    }
   ],
   "source": [
    "import numpy as np # matrix tools\n",
    "import matplotlib.pyplot as plt # for basic plots\n",
    "import seaborn as sns # for nicer plots\n",
    "import pandas as pd\n",
    "from glob import glob\n",
    "import re\n",
    "from skimage.io import imread\n",
    "import os\n",
    "import keras\n",
    "import itertools"
   ]
  },
  {
   "cell_type": "code",
   "execution_count": 8,
   "metadata": {
    "collapsed": true
   },
   "outputs": [],
   "source": [
    "%matplotlib inline"
   ]
  },
  {
   "cell_type": "code",
   "execution_count": 2,
   "metadata": {
    "collapsed": false
   },
   "outputs": [
    {
     "data": {
      "text/html": [
       "<div>\n",
       "<table border=\"1\" class=\"dataframe\">\n",
       "  <thead>\n",
       "    <tr style=\"text-align: right;\">\n",
       "      <th></th>\n",
       "      <th>Class</th>\n",
       "      <th>Specimen Number</th>\n",
       "      <th>Eccentricity</th>\n",
       "      <th>Aspect Ratio</th>\n",
       "      <th>Elongation</th>\n",
       "      <th>Solidity</th>\n",
       "      <th>Stochastic Convexity</th>\n",
       "      <th>Isoperimetric Factor</th>\n",
       "      <th>Maximal Indentation Depth</th>\n",
       "      <th>Lobedness</th>\n",
       "      <th>Average Intensity</th>\n",
       "      <th>Average Contrast</th>\n",
       "      <th>Smoothness</th>\n",
       "      <th>Third moment</th>\n",
       "      <th>Uniformity</th>\n",
       "      <th>Entropy</th>\n",
       "    </tr>\n",
       "  </thead>\n",
       "  <tbody>\n",
       "    <tr>\n",
       "      <th>0</th>\n",
       "      <td>1</td>\n",
       "      <td>1</td>\n",
       "      <td>0.72694</td>\n",
       "      <td>1.4742</td>\n",
       "      <td>0.32396</td>\n",
       "      <td>0.98535</td>\n",
       "      <td>1.00000</td>\n",
       "      <td>0.83592</td>\n",
       "      <td>0.004657</td>\n",
       "      <td>0.003947</td>\n",
       "      <td>0.047790</td>\n",
       "      <td>0.127950</td>\n",
       "      <td>0.016108</td>\n",
       "      <td>0.005232</td>\n",
       "      <td>0.000275</td>\n",
       "      <td>1.17560</td>\n",
       "    </tr>\n",
       "    <tr>\n",
       "      <th>1</th>\n",
       "      <td>1</td>\n",
       "      <td>2</td>\n",
       "      <td>0.74173</td>\n",
       "      <td>1.5257</td>\n",
       "      <td>0.36116</td>\n",
       "      <td>0.98152</td>\n",
       "      <td>0.99825</td>\n",
       "      <td>0.79867</td>\n",
       "      <td>0.005242</td>\n",
       "      <td>0.005002</td>\n",
       "      <td>0.024160</td>\n",
       "      <td>0.090476</td>\n",
       "      <td>0.008119</td>\n",
       "      <td>0.002708</td>\n",
       "      <td>0.000075</td>\n",
       "      <td>0.69659</td>\n",
       "    </tr>\n",
       "    <tr>\n",
       "      <th>2</th>\n",
       "      <td>1</td>\n",
       "      <td>3</td>\n",
       "      <td>0.76722</td>\n",
       "      <td>1.5725</td>\n",
       "      <td>0.38998</td>\n",
       "      <td>0.97755</td>\n",
       "      <td>1.00000</td>\n",
       "      <td>0.80812</td>\n",
       "      <td>0.007457</td>\n",
       "      <td>0.010121</td>\n",
       "      <td>0.011897</td>\n",
       "      <td>0.057445</td>\n",
       "      <td>0.003289</td>\n",
       "      <td>0.000921</td>\n",
       "      <td>0.000038</td>\n",
       "      <td>0.44348</td>\n",
       "    </tr>\n",
       "    <tr>\n",
       "      <th>3</th>\n",
       "      <td>1</td>\n",
       "      <td>4</td>\n",
       "      <td>0.73797</td>\n",
       "      <td>1.4597</td>\n",
       "      <td>0.35376</td>\n",
       "      <td>0.97566</td>\n",
       "      <td>1.00000</td>\n",
       "      <td>0.81697</td>\n",
       "      <td>0.006877</td>\n",
       "      <td>0.008607</td>\n",
       "      <td>0.015950</td>\n",
       "      <td>0.065491</td>\n",
       "      <td>0.004271</td>\n",
       "      <td>0.001154</td>\n",
       "      <td>0.000066</td>\n",
       "      <td>0.58785</td>\n",
       "    </tr>\n",
       "    <tr>\n",
       "      <th>4</th>\n",
       "      <td>1</td>\n",
       "      <td>5</td>\n",
       "      <td>0.82301</td>\n",
       "      <td>1.7707</td>\n",
       "      <td>0.44462</td>\n",
       "      <td>0.97698</td>\n",
       "      <td>1.00000</td>\n",
       "      <td>0.75493</td>\n",
       "      <td>0.007428</td>\n",
       "      <td>0.010042</td>\n",
       "      <td>0.007938</td>\n",
       "      <td>0.045339</td>\n",
       "      <td>0.002051</td>\n",
       "      <td>0.000560</td>\n",
       "      <td>0.000023</td>\n",
       "      <td>0.34214</td>\n",
       "    </tr>\n",
       "  </tbody>\n",
       "</table>\n",
       "</div>"
      ],
      "text/plain": [
       "   Class  Specimen Number  Eccentricity  Aspect Ratio  Elongation  Solidity  \\\n",
       "0      1                1       0.72694        1.4742     0.32396   0.98535   \n",
       "1      1                2       0.74173        1.5257     0.36116   0.98152   \n",
       "2      1                3       0.76722        1.5725     0.38998   0.97755   \n",
       "3      1                4       0.73797        1.4597     0.35376   0.97566   \n",
       "4      1                5       0.82301        1.7707     0.44462   0.97698   \n",
       "\n",
       "   Stochastic Convexity  Isoperimetric Factor  Maximal Indentation Depth  \\\n",
       "0               1.00000               0.83592                   0.004657   \n",
       "1               0.99825               0.79867                   0.005242   \n",
       "2               1.00000               0.80812                   0.007457   \n",
       "3               1.00000               0.81697                   0.006877   \n",
       "4               1.00000               0.75493                   0.007428   \n",
       "\n",
       "   Lobedness  Average Intensity  Average Contrast  Smoothness  Third moment  \\\n",
       "0   0.003947           0.047790          0.127950    0.016108      0.005232   \n",
       "1   0.005002           0.024160          0.090476    0.008119      0.002708   \n",
       "2   0.010121           0.011897          0.057445    0.003289      0.000921   \n",
       "3   0.008607           0.015950          0.065491    0.004271      0.001154   \n",
       "4   0.010042           0.007938          0.045339    0.002051      0.000560   \n",
       "\n",
       "   Uniformity  Entropy  \n",
       "0    0.000275  1.17560  \n",
       "1    0.000075  0.69659  \n",
       "2    0.000038  0.44348  \n",
       "3    0.000066  0.58785  \n",
       "4    0.000023  0.34214  "
      ]
     },
     "execution_count": 2,
     "metadata": {},
     "output_type": "execute_result"
    }
   ],
   "source": [
    "data = pd.read_csv(\"data/leaf.csv\")\n",
    "data.head()"
   ]
  },
  {
   "cell_type": "code",
   "execution_count": 105,
   "metadata": {
    "collapsed": false
   },
   "outputs": [
    {
     "data": {
      "text/html": [
       "<div>\n",
       "<table border=\"1\" class=\"dataframe\">\n",
       "  <thead>\n",
       "    <tr style=\"text-align: right;\">\n",
       "      <th></th>\n",
       "      <th>Class</th>\n",
       "      <th>Specimen Number</th>\n",
       "      <th>Eccentricity</th>\n",
       "      <th>Aspect Ratio</th>\n",
       "      <th>Elongation</th>\n",
       "      <th>Solidity</th>\n",
       "      <th>Stochastic Convexity</th>\n",
       "      <th>Isoperimetric Factor</th>\n",
       "      <th>Maximal Indentation Depth</th>\n",
       "      <th>Lobedness</th>\n",
       "      <th>Average Intensity</th>\n",
       "      <th>Average Contrast</th>\n",
       "      <th>Smoothness</th>\n",
       "      <th>Third moment</th>\n",
       "      <th>Uniformity</th>\n",
       "      <th>Entropy</th>\n",
       "    </tr>\n",
       "  </thead>\n",
       "  <tbody>\n",
       "    <tr>\n",
       "      <th>0</th>\n",
       "      <td>1</td>\n",
       "      <td>1</td>\n",
       "      <td>0.72694</td>\n",
       "      <td>1.4742</td>\n",
       "      <td>0.32396</td>\n",
       "      <td>0.98535</td>\n",
       "      <td>1.00000</td>\n",
       "      <td>0.83592</td>\n",
       "      <td>0.004657</td>\n",
       "      <td>0.003947</td>\n",
       "      <td>0.047790</td>\n",
       "      <td>0.127950</td>\n",
       "      <td>0.016108</td>\n",
       "      <td>0.005232</td>\n",
       "      <td>0.000275</td>\n",
       "      <td>1.17560</td>\n",
       "    </tr>\n",
       "    <tr>\n",
       "      <th>1</th>\n",
       "      <td>1</td>\n",
       "      <td>2</td>\n",
       "      <td>0.74173</td>\n",
       "      <td>1.5257</td>\n",
       "      <td>0.36116</td>\n",
       "      <td>0.98152</td>\n",
       "      <td>0.99825</td>\n",
       "      <td>0.79867</td>\n",
       "      <td>0.005242</td>\n",
       "      <td>0.005002</td>\n",
       "      <td>0.024160</td>\n",
       "      <td>0.090476</td>\n",
       "      <td>0.008119</td>\n",
       "      <td>0.002708</td>\n",
       "      <td>0.000075</td>\n",
       "      <td>0.69659</td>\n",
       "    </tr>\n",
       "    <tr>\n",
       "      <th>2</th>\n",
       "      <td>1</td>\n",
       "      <td>3</td>\n",
       "      <td>0.76722</td>\n",
       "      <td>1.5725</td>\n",
       "      <td>0.38998</td>\n",
       "      <td>0.97755</td>\n",
       "      <td>1.00000</td>\n",
       "      <td>0.80812</td>\n",
       "      <td>0.007457</td>\n",
       "      <td>0.010121</td>\n",
       "      <td>0.011897</td>\n",
       "      <td>0.057445</td>\n",
       "      <td>0.003289</td>\n",
       "      <td>0.000921</td>\n",
       "      <td>0.000038</td>\n",
       "      <td>0.44348</td>\n",
       "    </tr>\n",
       "    <tr>\n",
       "      <th>3</th>\n",
       "      <td>1</td>\n",
       "      <td>4</td>\n",
       "      <td>0.73797</td>\n",
       "      <td>1.4597</td>\n",
       "      <td>0.35376</td>\n",
       "      <td>0.97566</td>\n",
       "      <td>1.00000</td>\n",
       "      <td>0.81697</td>\n",
       "      <td>0.006877</td>\n",
       "      <td>0.008607</td>\n",
       "      <td>0.015950</td>\n",
       "      <td>0.065491</td>\n",
       "      <td>0.004271</td>\n",
       "      <td>0.001154</td>\n",
       "      <td>0.000066</td>\n",
       "      <td>0.58785</td>\n",
       "    </tr>\n",
       "    <tr>\n",
       "      <th>4</th>\n",
       "      <td>1</td>\n",
       "      <td>5</td>\n",
       "      <td>0.82301</td>\n",
       "      <td>1.7707</td>\n",
       "      <td>0.44462</td>\n",
       "      <td>0.97698</td>\n",
       "      <td>1.00000</td>\n",
       "      <td>0.75493</td>\n",
       "      <td>0.007428</td>\n",
       "      <td>0.010042</td>\n",
       "      <td>0.007938</td>\n",
       "      <td>0.045339</td>\n",
       "      <td>0.002051</td>\n",
       "      <td>0.000560</td>\n",
       "      <td>0.000023</td>\n",
       "      <td>0.34214</td>\n",
       "    </tr>\n",
       "    <tr>\n",
       "      <th>5</th>\n",
       "      <td>1</td>\n",
       "      <td>6</td>\n",
       "      <td>0.72997</td>\n",
       "      <td>1.4892</td>\n",
       "      <td>0.34284</td>\n",
       "      <td>0.98755</td>\n",
       "      <td>1.00000</td>\n",
       "      <td>0.84482</td>\n",
       "      <td>0.004945</td>\n",
       "      <td>0.004451</td>\n",
       "      <td>0.010487</td>\n",
       "      <td>0.058528</td>\n",
       "      <td>0.003414</td>\n",
       "      <td>0.001125</td>\n",
       "      <td>0.000025</td>\n",
       "      <td>0.34068</td>\n",
       "    </tr>\n",
       "    <tr>\n",
       "      <th>6</th>\n",
       "      <td>1</td>\n",
       "      <td>7</td>\n",
       "      <td>0.82063</td>\n",
       "      <td>1.7529</td>\n",
       "      <td>0.44458</td>\n",
       "      <td>0.97964</td>\n",
       "      <td>0.99649</td>\n",
       "      <td>0.76770</td>\n",
       "      <td>0.005928</td>\n",
       "      <td>0.006395</td>\n",
       "      <td>0.018375</td>\n",
       "      <td>0.080587</td>\n",
       "      <td>0.006452</td>\n",
       "      <td>0.002271</td>\n",
       "      <td>0.000041</td>\n",
       "      <td>0.53904</td>\n",
       "    </tr>\n",
       "    <tr>\n",
       "      <th>7</th>\n",
       "      <td>1</td>\n",
       "      <td>8</td>\n",
       "      <td>0.77982</td>\n",
       "      <td>1.6215</td>\n",
       "      <td>0.39222</td>\n",
       "      <td>0.98512</td>\n",
       "      <td>0.99825</td>\n",
       "      <td>0.80816</td>\n",
       "      <td>0.005099</td>\n",
       "      <td>0.004731</td>\n",
       "      <td>0.024875</td>\n",
       "      <td>0.089686</td>\n",
       "      <td>0.007979</td>\n",
       "      <td>0.002466</td>\n",
       "      <td>0.000147</td>\n",
       "      <td>0.66975</td>\n",
       "    </tr>\n",
       "    <tr>\n",
       "      <th>8</th>\n",
       "      <td>1</td>\n",
       "      <td>9</td>\n",
       "      <td>0.83089</td>\n",
       "      <td>1.8199</td>\n",
       "      <td>0.45693</td>\n",
       "      <td>0.98240</td>\n",
       "      <td>1.00000</td>\n",
       "      <td>0.77106</td>\n",
       "      <td>0.006005</td>\n",
       "      <td>0.006564</td>\n",
       "      <td>0.007245</td>\n",
       "      <td>0.040616</td>\n",
       "      <td>0.001647</td>\n",
       "      <td>0.000388</td>\n",
       "      <td>0.000033</td>\n",
       "      <td>0.33696</td>\n",
       "    </tr>\n",
       "    <tr>\n",
       "      <th>9</th>\n",
       "      <td>1</td>\n",
       "      <td>10</td>\n",
       "      <td>0.90631</td>\n",
       "      <td>2.3906</td>\n",
       "      <td>0.58336</td>\n",
       "      <td>0.97683</td>\n",
       "      <td>0.99825</td>\n",
       "      <td>0.66419</td>\n",
       "      <td>0.008402</td>\n",
       "      <td>0.012848</td>\n",
       "      <td>0.007010</td>\n",
       "      <td>0.042347</td>\n",
       "      <td>0.001790</td>\n",
       "      <td>0.000459</td>\n",
       "      <td>0.000028</td>\n",
       "      <td>0.28082</td>\n",
       "    </tr>\n",
       "    <tr>\n",
       "      <th>10</th>\n",
       "      <td>1</td>\n",
       "      <td>11</td>\n",
       "      <td>0.74590</td>\n",
       "      <td>1.4927</td>\n",
       "      <td>0.34116</td>\n",
       "      <td>0.98296</td>\n",
       "      <td>1.00000</td>\n",
       "      <td>0.83088</td>\n",
       "      <td>0.005567</td>\n",
       "      <td>0.005640</td>\n",
       "      <td>0.005768</td>\n",
       "      <td>0.036511</td>\n",
       "      <td>0.001331</td>\n",
       "      <td>0.000309</td>\n",
       "      <td>0.000032</td>\n",
       "      <td>0.25026</td>\n",
       "    </tr>\n",
       "    <tr>\n",
       "      <th>11</th>\n",
       "      <td>1</td>\n",
       "      <td>12</td>\n",
       "      <td>0.79606</td>\n",
       "      <td>1.6934</td>\n",
       "      <td>0.43387</td>\n",
       "      <td>0.98181</td>\n",
       "      <td>1.00000</td>\n",
       "      <td>0.76985</td>\n",
       "      <td>0.007799</td>\n",
       "      <td>0.011071</td>\n",
       "      <td>0.013677</td>\n",
       "      <td>0.057832</td>\n",
       "      <td>0.003333</td>\n",
       "      <td>0.000816</td>\n",
       "      <td>0.000139</td>\n",
       "      <td>0.49751</td>\n",
       "    </tr>\n",
       "  </tbody>\n",
       "</table>\n",
       "</div>"
      ],
      "text/plain": [
       "    Class  Specimen Number  Eccentricity  Aspect Ratio  Elongation  Solidity  \\\n",
       "0       1                1       0.72694        1.4742     0.32396   0.98535   \n",
       "1       1                2       0.74173        1.5257     0.36116   0.98152   \n",
       "2       1                3       0.76722        1.5725     0.38998   0.97755   \n",
       "3       1                4       0.73797        1.4597     0.35376   0.97566   \n",
       "4       1                5       0.82301        1.7707     0.44462   0.97698   \n",
       "5       1                6       0.72997        1.4892     0.34284   0.98755   \n",
       "6       1                7       0.82063        1.7529     0.44458   0.97964   \n",
       "7       1                8       0.77982        1.6215     0.39222   0.98512   \n",
       "8       1                9       0.83089        1.8199     0.45693   0.98240   \n",
       "9       1               10       0.90631        2.3906     0.58336   0.97683   \n",
       "10      1               11       0.74590        1.4927     0.34116   0.98296   \n",
       "11      1               12       0.79606        1.6934     0.43387   0.98181   \n",
       "\n",
       "    Stochastic Convexity  Isoperimetric Factor  Maximal Indentation Depth  \\\n",
       "0                1.00000               0.83592                   0.004657   \n",
       "1                0.99825               0.79867                   0.005242   \n",
       "2                1.00000               0.80812                   0.007457   \n",
       "3                1.00000               0.81697                   0.006877   \n",
       "4                1.00000               0.75493                   0.007428   \n",
       "5                1.00000               0.84482                   0.004945   \n",
       "6                0.99649               0.76770                   0.005928   \n",
       "7                0.99825               0.80816                   0.005099   \n",
       "8                1.00000               0.77106                   0.006005   \n",
       "9                0.99825               0.66419                   0.008402   \n",
       "10               1.00000               0.83088                   0.005567   \n",
       "11               1.00000               0.76985                   0.007799   \n",
       "\n",
       "    Lobedness  Average Intensity  Average Contrast  Smoothness  Third moment  \\\n",
       "0    0.003947           0.047790          0.127950    0.016108      0.005232   \n",
       "1    0.005002           0.024160          0.090476    0.008119      0.002708   \n",
       "2    0.010121           0.011897          0.057445    0.003289      0.000921   \n",
       "3    0.008607           0.015950          0.065491    0.004271      0.001154   \n",
       "4    0.010042           0.007938          0.045339    0.002051      0.000560   \n",
       "5    0.004451           0.010487          0.058528    0.003414      0.001125   \n",
       "6    0.006395           0.018375          0.080587    0.006452      0.002271   \n",
       "7    0.004731           0.024875          0.089686    0.007979      0.002466   \n",
       "8    0.006564           0.007245          0.040616    0.001647      0.000388   \n",
       "9    0.012848           0.007010          0.042347    0.001790      0.000459   \n",
       "10   0.005640           0.005768          0.036511    0.001331      0.000309   \n",
       "11   0.011071           0.013677          0.057832    0.003333      0.000816   \n",
       "\n",
       "    Uniformity  Entropy  \n",
       "0     0.000275  1.17560  \n",
       "1     0.000075  0.69659  \n",
       "2     0.000038  0.44348  \n",
       "3     0.000066  0.58785  \n",
       "4     0.000023  0.34214  \n",
       "5     0.000025  0.34068  \n",
       "6     0.000041  0.53904  \n",
       "7     0.000147  0.66975  \n",
       "8     0.000033  0.33696  \n",
       "9     0.000028  0.28082  \n",
       "10    0.000032  0.25026  \n",
       "11    0.000139  0.49751  "
      ]
     },
     "execution_count": 105,
     "metadata": {},
     "output_type": "execute_result"
    }
   ],
   "source": [
    "data[data['Class']==1]"
   ]
  },
  {
   "cell_type": "code",
   "execution_count": 84,
   "metadata": {
    "collapsed": true
   },
   "outputs": [],
   "source": [
    "BASE_IMAGE_PATH = os.path.join(\"Data\",\"RGB\")\n",
    "Specis_list = os.listdir(BASE_IMAGE_PATH)\n",
    "total_species = len(Specis_list)\n",
    "\n",
    "\n",
    "all_images = []\n",
    "for specis in Specis_list:\n",
    "    all_images.append(glob(os.path.join(BASE_IMAGE_PATH, specis, '*.jpg')))"
   ]
  },
  {
   "cell_type": "code",
   "execution_count": 85,
   "metadata": {
    "collapsed": false
   },
   "outputs": [
    {
     "data": {
      "text/plain": [
       "(160, 120, 3)"
      ]
     },
     "execution_count": 85,
     "metadata": {},
     "output_type": "execute_result"
    }
   ],
   "source": [
    "all_images = list(itertools.chain(*all_images))\n",
    "all_masks  = [c_file.split(\"\\\\\")[2].split(\".\")[0].strip() for c_file in all_images]\n",
    "    \n",
    "test_image = imread(all_images[0])\n",
    "test_image.shape # 960 x 720 x 3\n",
    "\n",
    "jimread = lambda x: imread(x)[::6,::6]\n",
    "test_image = jimread(all_images[0])\n",
    "test_image.shape "
   ]
  },
  {
   "cell_type": "code",
   "execution_count": 86,
   "metadata": {
    "collapsed": false
   },
   "outputs": [
    {
     "data": {
      "text/plain": [
       "'\\nfor i,image in enumerate(all_images):\\n    test_image = jimread(image)\\n    width,height, depth = test_image.shape # 960 x 720 x 3    \\n    if width != 240:\\n        print(i)\\n    if height != 180:\\n        print(i)\\n\\nplt.imshow(test_image)\\n'"
      ]
     },
     "execution_count": 86,
     "metadata": {},
     "output_type": "execute_result"
    }
   ],
   "source": [
    "'''\n",
    "for i,image in enumerate(all_images):\n",
    "    test_image = jimread(image)\n",
    "    width,height, depth = test_image.shape # 960 x 720 x 3    \n",
    "    if width != 240:\n",
    "        print(i)\n",
    "    if height != 180:\n",
    "        print(i)\n",
    "\n",
    "plt.imshow(test_image)\n",
    "'''    "
   ]
  },
  {
   "cell_type": "code",
   "execution_count": 87,
   "metadata": {
    "collapsed": false
   },
   "outputs": [
    {
     "data": {
      "text/plain": [
       "442"
      ]
     },
     "execution_count": 87,
     "metadata": {},
     "output_type": "execute_result"
    }
   ],
   "source": [
    "images = np.stack([jimread(j) for i,j in enumerate(all_images) if i != 87],0)\n",
    "len(images)"
   ]
  },
  {
   "cell_type": "code",
   "execution_count": 88,
   "metadata": {
    "collapsed": false
   },
   "outputs": [],
   "source": [
    "del all_masks[87]"
   ]
  },
  {
   "cell_type": "code",
   "execution_count": 89,
   "metadata": {
    "collapsed": false
   },
   "outputs": [
    {
     "data": {
      "text/plain": [
       "442"
      ]
     },
     "execution_count": 89,
     "metadata": {},
     "output_type": "execute_result"
    }
   ],
   "source": [
    "len(all_masks)"
   ]
  },
  {
   "cell_type": "code",
   "execution_count": 90,
   "metadata": {
    "collapsed": false
   },
   "outputs": [
    {
     "data": {
      "text/plain": [
       "<matplotlib.image.AxesImage at 0x1e32ff4d588>"
      ]
     },
     "execution_count": 90,
     "metadata": {},
     "output_type": "execute_result"
    },
    {
     "data": {
      "image/png": "[encoded data removed]",
      "text/plain": [
       "<matplotlib.figure.Figure at 0x1e383280908>"
      ]
     },
     "metadata": {},
     "output_type": "display_data"
    }
   ],
   "source": [
    "plt.imshow(images[0])"
   ]
  },
  {
   "cell_type": "code",
   "execution_count": 91,
   "metadata": {
    "collapsed": true
   },
   "outputs": [],
   "source": [
    "from sklearn.model_selection import train_test_split"
   ]
  },
  {
   "cell_type": "code",
   "execution_count": 92,
   "metadata": {
    "collapsed": false
   },
   "outputs": [],
   "source": [
    "X_train, X_test, y_train, y_test = train_test_split(images, all_masks, test_size=0.2, random_state=0)"
   ]
  },
  {
   "cell_type": "code",
   "execution_count": 93,
   "metadata": {
    "collapsed": true
   },
   "outputs": [],
   "source": [
    "n_train, width, height,depth = X_train.shape\n",
    "n_test,_,_,_ = X_test.shape"
   ]
  },
  {
   "cell_type": "code",
   "execution_count": 94,
   "metadata": {
    "collapsed": false
   },
   "outputs": [
    {
     "data": {
      "text/plain": [
       "(160, 120, 3)"
      ]
     },
     "execution_count": 94,
     "metadata": {},
     "output_type": "execute_result"
    }
   ],
   "source": [
    "input_shape = (width,height,depth)\n",
    "input_shape"
   ]
  },
  {
   "cell_type": "code",
   "execution_count": 95,
   "metadata": {
    "collapsed": true
   },
   "outputs": [],
   "source": [
    "input_train = X_train.reshape((n_train, width,height,depth))\n",
    "input_train.shape\n",
    "input_train.astype('float32')\n",
    "input_train = input_train / np.max(input_train)\n",
    "input_train.max()\n",
    "\n",
    "input_test = X_test.reshape(n_test, *input_shape)\n",
    "input_test.astype('float32')\n",
    "input_test = input_test / np.max(input_test)\n",
    "\n",
    "\n",
    "output_train = keras.utils.to_categorical(y_train, total_species+1)\n",
    "output_test = keras.utils.to_categorical(y_test, total_species+1)"
   ]
  },
  {
   "cell_type": "code",
   "execution_count": 96,
   "metadata": {
    "collapsed": true
   },
   "outputs": [],
   "source": [
    "from keras.models import Sequential\n",
    "from keras.layers import Dense, Flatten\n",
    "from keras.optimizers import Adam\n",
    "from keras.layers import Conv2D, MaxPooling2D\n"
   ]
  },
  {
   "cell_type": "code",
   "execution_count": 97,
   "metadata": {
    "collapsed": true
   },
   "outputs": [],
   "source": [
    "batch_size = 20\n",
    "epochs = 30"
   ]
  },
  {
   "cell_type": "code",
   "execution_count": 98,
   "metadata": {
    "collapsed": false
   },
   "outputs": [
    {
     "name": "stdout",
     "output_type": "stream",
     "text": [
      "_________________________________________________________________\n",
      "Layer (type)                 Output Shape              Param #   \n",
      "=================================================================\n",
      "conv2d_26 (Conv2D)           (None, 156, 116, 50)      3800      \n",
      "_________________________________________________________________\n",
      "max_pooling2d_26 (MaxPooling (None, 77, 57, 50)        0         \n",
      "_________________________________________________________________\n",
      "conv2d_27 (Conv2D)           (None, 74, 54, 30)        24030     \n",
      "_________________________________________________________________\n",
      "max_pooling2d_27 (MaxPooling (None, 36, 26, 30)        0         \n",
      "_________________________________________________________________\n",
      "conv2d_28 (Conv2D)           (None, 34, 24, 50)        13550     \n",
      "_________________________________________________________________\n",
      "max_pooling2d_28 (MaxPooling (None, 11, 8, 50)         0         \n",
      "=================================================================\n",
      "Total params: 41,380\n",
      "Trainable params: 41,380\n",
      "Non-trainable params: 0\n",
      "_________________________________________________________________\n"
     ]
    }
   ],
   "source": [
    "enc = Sequential()\n",
    "enc.add(Conv2D(50, (5, 5), activation='relu', input_shape= input_shape))\n",
    "enc.add(MaxPooling2D((3, 3), strides=(2,2)))\n",
    "enc.add(Conv2D(30, (4, 4), activation='relu'))\n",
    "enc.add(MaxPooling2D((3, 3),strides=(2,2)))\n",
    "enc.add(Conv2D(50, (3, 3), activation='relu'))\n",
    "enc.add(MaxPooling2D((3, 3)))\n",
    "\n",
    "enc.summary()"
   ]
  },
  {
   "cell_type": "code",
   "execution_count": 99,
   "metadata": {
    "collapsed": false
   },
   "outputs": [
    {
     "name": "stdout",
     "output_type": "stream",
     "text": [
      "_________________________________________________________________\n",
      "Layer (type)                 Output Shape              Param #   \n",
      "=================================================================\n",
      "sequential_19 (Sequential)   (None, 11, 8, 50)         41380     \n",
      "_________________________________________________________________\n",
      "flatten_10 (Flatten)         (None, 4400)              0         \n",
      "_________________________________________________________________\n",
      "dense_10 (Dense)             (None, 41)                180441    \n",
      "=================================================================\n",
      "Total params: 221,821\n",
      "Trainable params: 221,821\n",
      "Non-trainable params: 0\n",
      "_________________________________________________________________\n"
     ]
    }
   ],
   "source": [
    "classifier = Sequential()\n",
    "classifier.add(enc)\n",
    "classifier.add(Flatten())\n",
    "classifier.add(Dense(total_species+1, activation='softmax'))\n",
    "classifier.compile(optimizer='adam', loss='categorical_crossentropy', metrics=['accuracy'])\n",
    "classifier.summary()"
   ]
  },
  {
   "cell_type": "code",
   "execution_count": 103,
   "metadata": {
    "collapsed": false,
    "scrolled": false
   },
   "outputs": [
    {
     "name": "stdout",
     "output_type": "stream",
     "text": [
      "Train on 353 samples, validate on 89 samples\n",
      "Epoch 1/30\n",
      "353/353 [==============================] - 1s - loss: 0.2536 - acc: 0.9292 - val_loss: 2.9326 - val_acc: 0.4831\n",
      "Epoch 2/30\n",
      "353/353 [==============================] - 1s - loss: 0.1167 - acc: 0.9717 - val_loss: 2.2174 - val_acc: 0.5955\n",
      "Epoch 3/30\n",
      "353/353 [==============================] - 1s - loss: 0.0446 - acc: 0.9915 - val_loss: 2.3979 - val_acc: 0.6404\n",
      "Epoch 4/30\n",
      "353/353 [==============================] - 1s - loss: 0.0226 - acc: 0.9887 - val_loss: 2.1918 - val_acc: 0.6404\n",
      "Epoch 5/30\n",
      "353/353 [==============================] - 1s - loss: 0.0053 - acc: 1.0000 - val_loss: 2.3035 - val_acc: 0.6742\n",
      "Epoch 6/30\n",
      "353/353 [==============================] - 1s - loss: 0.0014 - acc: 1.0000 - val_loss: 2.2791 - val_acc: 0.6742\n",
      "Epoch 7/30\n",
      "353/353 [==============================] - 1s - loss: 8.1001e-04 - acc: 1.0000 - val_loss: 2.2741 - val_acc: 0.6517\n",
      "Epoch 8/30\n",
      "353/353 [==============================] - 1s - loss: 6.7624e-04 - acc: 1.0000 - val_loss: 2.2851 - val_acc: 0.6629\n",
      "Epoch 9/30\n",
      "353/353 [==============================] - 1s - loss: 5.9165e-04 - acc: 1.0000 - val_loss: 2.3042 - val_acc: 0.6629\n",
      "Epoch 10/30\n",
      "353/353 [==============================] - 1s - loss: 5.2859e-04 - acc: 1.0000 - val_loss: 2.3140 - val_acc: 0.6629\n",
      "Epoch 11/30\n",
      "353/353 [==============================] - 1s - loss: 4.8064e-04 - acc: 1.0000 - val_loss: 2.3306 - val_acc: 0.6629\n",
      "Epoch 12/30\n",
      "353/353 [==============================] - 1s - loss: 4.3759e-04 - acc: 1.0000 - val_loss: 2.3416 - val_acc: 0.6629\n",
      "Epoch 13/30\n",
      "353/353 [==============================] - 1s - loss: 4.0262e-04 - acc: 1.0000 - val_loss: 2.3537 - val_acc: 0.6629\n",
      "Epoch 14/30\n",
      "353/353 [==============================] - 1s - loss: 3.7214e-04 - acc: 1.0000 - val_loss: 2.3631 - val_acc: 0.6629\n",
      "Epoch 15/30\n",
      "353/353 [==============================] - 1s - loss: 3.4608e-04 - acc: 1.0000 - val_loss: 2.3711 - val_acc: 0.6629\n",
      "Epoch 16/30\n",
      "353/353 [==============================] - 1s - loss: 3.2485e-04 - acc: 1.0000 - val_loss: 2.3787 - val_acc: 0.6629\n",
      "Epoch 17/30\n",
      "353/353 [==============================] - 1s - loss: 3.0424e-04 - acc: 1.0000 - val_loss: 2.3917 - val_acc: 0.6629\n",
      "Epoch 18/30\n",
      "353/353 [==============================] - 1s - loss: 2.8764e-04 - acc: 1.0000 - val_loss: 2.3994 - val_acc: 0.6629\n",
      "Epoch 19/30\n",
      "353/353 [==============================] - 1s - loss: 2.7051e-04 - acc: 1.0000 - val_loss: 2.4070 - val_acc: 0.6629\n",
      "Epoch 20/30\n",
      "353/353 [==============================] - 1s - loss: 2.5648e-04 - acc: 1.0000 - val_loss: 2.4145 - val_acc: 0.6629\n",
      "Epoch 21/30\n",
      "353/353 [==============================] - 1s - loss: 2.4303e-04 - acc: 1.0000 - val_loss: 2.4219 - val_acc: 0.6629\n",
      "Epoch 22/30\n",
      "353/353 [==============================] - 1s - loss: 2.3106e-04 - acc: 1.0000 - val_loss: 2.4303 - val_acc: 0.6629\n",
      "Epoch 23/30\n",
      "353/353 [==============================] - 1s - loss: 2.2074e-04 - acc: 1.0000 - val_loss: 2.4362 - val_acc: 0.6629\n",
      "Epoch 24/30\n",
      "353/353 [==============================] - 1s - loss: 2.1135e-04 - acc: 1.0000 - val_loss: 2.4409 - val_acc: 0.6629\n",
      "Epoch 25/30\n",
      "353/353 [==============================] - 1s - loss: 2.0138e-04 - acc: 1.0000 - val_loss: 2.4477 - val_acc: 0.6629\n",
      "Epoch 26/30\n",
      "353/353 [==============================] - 1s - loss: 1.9288e-04 - acc: 1.0000 - val_loss: 2.4531 - val_acc: 0.6629\n",
      "Epoch 27/30\n",
      "353/353 [==============================] - 1s - loss: 1.8640e-04 - acc: 1.0000 - val_loss: 2.4598 - val_acc: 0.6629\n",
      "Epoch 28/30\n",
      "353/353 [==============================] - 1s - loss: 1.7847e-04 - acc: 1.0000 - val_loss: 2.4658 - val_acc: 0.6629\n",
      "Epoch 29/30\n",
      "353/353 [==============================] - 1s - loss: 1.7100e-04 - acc: 1.0000 - val_loss: 2.4707 - val_acc: 0.6629\n",
      "Epoch 30/30\n",
      "353/353 [==============================] - 1s - loss: 1.6447e-04 - acc: 1.0000 - val_loss: 2.4770 - val_acc: 0.6629\n"
     ]
    },
    {
     "data": {
      "text/plain": [
       "<keras.callbacks.History at 0x1e38305f748>"
      ]
     },
     "execution_count": 103,
     "metadata": {},
     "output_type": "execute_result"
    }
   ],
   "source": [
    "classifier.fit(input_train, output_train,\n",
    "               batch_size=batch_size,\n",
    "               epochs=epochs,\n",
    "               verbose=1,\n",
    "               validation_data=(input_test, output_test))"
   ]
  },
  {
   "cell_type": "code",
   "execution_count": 104,
   "metadata": {
    "collapsed": false
   },
   "outputs": [
    {
     "data": {
      "text/plain": [
       "[2.4770332588238664, 0.66292133358087435]"
      ]
     },
     "execution_count": 104,
     "metadata": {},
     "output_type": "execute_result"
    }
   ],
   "source": [
    "score = classifier.evaluate(input_test, output_test, verbose=0)\n",
    "score"
   ]
  }
 ],
 "metadata": {
  "kernelspec": {
   "display_name": "Python [work]",
   "language": "python",
   "name": "Python [work]"
  },
  "language_info": {
   "codemirror_mode": {
    "name": "ipython",
    "version": 3
   },
   "file_extension": ".py",
   "mimetype": "text/x-python",
   "name": "python",
   "nbconvert_exporter": "python",
   "pygments_lexer": "ipython3",
   "version": "3.5.2"
  }
 },
 "nbformat": 4,
 "nbformat_minor": 0
}
