{
 "cells": [
  {
   "cell_type": "markdown",
   "metadata": {},
   "source": [
    "# Constrast Cancer Classification with dicom"
   ]
  },
  {
   "cell_type": "code",
   "execution_count": 66,
   "metadata": {
    "collapsed": false
   },
   "outputs": [
    {
     "name": "stderr",
     "output_type": "stream",
     "text": [
      "Using TensorFlow backend.\n"
     ]
    }
   ],
   "source": [
    "import dicom\n",
    "import numpy as np # matrix tools\n",
    "import matplotlib.pyplot as plt # for basic plots\n",
    "import seaborn as sns # for nicer plots\n",
    "import pandas as pd\n",
    "import re\n",
    "from skimage.io import imread\n",
    "import os\n",
    "import keras"
   ]
  },
  {
   "cell_type": "code",
   "execution_count": 67,
   "metadata": {
    "collapsed": false
   },
   "outputs": [],
   "source": [
    "%matplotlib inline"
   ]
  },
  {
   "cell_type": "code",
   "execution_count": 6,
   "metadata": {
    "collapsed": false
   },
   "outputs": [
    {
     "data": {
      "text/plain": [
       "['ID_0000_AGE_0060_CONTRAST_1_CT.dcm',\n",
       " 'ID_0001_AGE_0069_CONTRAST_1_CT.dcm',\n",
       " 'ID_0002_AGE_0074_CONTRAST_1_CT.dcm',\n",
       " 'ID_0003_AGE_0075_CONTRAST_1_CT.dcm',\n",
       " 'ID_0004_AGE_0056_CONTRAST_1_CT.dcm']"
      ]
     },
     "execution_count": 6,
     "metadata": {},
     "output_type": "execute_result"
    }
   ],
   "source": [
    "os.listdir('data/dicom_dir')[:5]"
   ]
  },
  {
   "cell_type": "code",
   "execution_count": 164,
   "metadata": {
    "collapsed": false
   },
   "outputs": [],
   "source": [
    "PathDicom = 'data/dicom_dir'\n",
    "lstFilesDCM = []\n",
    "for dirName, subdirList, fileList in os.walk(PathDicom):\n",
    "    for filename in fileList:\n",
    "        if \".dcm\" in filename.lower():\n",
    "            lstFilesDCM.append(os.path.join(PathDicom,filename))"
   ]
  },
  {
   "cell_type": "code",
   "execution_count": 165,
   "metadata": {
    "collapsed": false
   },
   "outputs": [
    {
     "data": {
      "text/plain": [
       "100"
      ]
     },
     "execution_count": 165,
     "metadata": {},
     "output_type": "execute_result"
    }
   ],
   "source": [
    "len(lstFilesDCM)"
   ]
  },
  {
   "cell_type": "markdown",
   "metadata": {},
   "source": [
    "## Get ref file"
   ]
  },
  {
   "cell_type": "code",
   "execution_count": 166,
   "metadata": {
    "collapsed": false
   },
   "outputs": [],
   "source": [
    "RefDs = dicom.read_file(lstFilesDCM[0])"
   ]
  },
  {
   "cell_type": "markdown",
   "metadata": {},
   "source": [
    " - Load dimensions based on the number of rows, columns, and slices (along the Z axis)"
   ]
  },
  {
   "cell_type": "code",
   "execution_count": 167,
   "metadata": {
    "collapsed": false
   },
   "outputs": [
    {
     "data": {
      "text/plain": [
       "(512, 512)"
      ]
     },
     "execution_count": 167,
     "metadata": {},
     "output_type": "execute_result"
    }
   ],
   "source": [
    "RefDs.pixel_array.shape"
   ]
  },
  {
   "cell_type": "code",
   "execution_count": 168,
   "metadata": {
    "collapsed": true
   },
   "outputs": [],
   "source": [
    "ConstPixelDims = (len(lstFilesDCM), int(RefDs.Rows), int(RefDs.Columns))"
   ]
  },
  {
   "cell_type": "code",
   "execution_count": 169,
   "metadata": {
    "collapsed": false
   },
   "outputs": [
    {
     "data": {
      "text/plain": [
       "(100, 512, 512)"
      ]
     },
     "execution_count": 169,
     "metadata": {},
     "output_type": "execute_result"
    }
   ],
   "source": [
    "ConstPixelDims"
   ]
  },
  {
   "cell_type": "code",
   "execution_count": 172,
   "metadata": {
    "collapsed": false
   },
   "outputs": [
    {
     "name": "stdout",
     "output_type": "stream",
     "text": [
      "(100, 512, 512)\n"
     ]
    }
   ],
   "source": [
    "# The array is sized based on 'ConstPixelDims'\n",
    "ArrayDicom = numpy.zeros(ConstPixelDims, dtype=RefDs.pixel_array.dtype)\n",
    "print(ArrayDicom.shape)\n",
    "# loop through all the DICOM files\n",
    "for filenameDCM in lstFilesDCM:\n",
    "    # read the file\n",
    "    ds = dicom.read_file(filenameDCM)\n",
    "    # store the raw image data\n",
    "    ArrayDicom[lstFilesDCM.index(filenameDCM), :, :] = ds.pixel_array  "
   ]
  },
  {
   "cell_type": "code",
   "execution_count": 173,
   "metadata": {
    "collapsed": false
   },
   "outputs": [
    {
     "data": {
      "text/plain": [
       "<matplotlib.image.AxesImage at 0x2508338ef98>"
      ]
     },
     "execution_count": 173,
     "metadata": {},
     "output_type": "execute_result"
    },
    {
     "data": {
      "image/png": "[encoded data removed]",
      "text/plain": [
       "<matplotlib.figure.Figure at 0x250d9c69898>"
      ]
     },
     "metadata": {},
     "output_type": "display_data"
    }
   ],
   "source": [
    "pyplot.imshow(ArrayDicom[20,:,:])"
   ]
  },
  {
   "cell_type": "code",
   "execution_count": 174,
   "metadata": {
    "collapsed": true
   },
   "outputs": [],
   "source": [
    "check_contrast = re.compile(r'ID_([\\d]+)_AGE_\\d+_CONTRAST_([\\d])_CT.dcm')"
   ]
  },
  {
   "cell_type": "code",
   "execution_count": 175,
   "metadata": {
    "collapsed": false
   },
   "outputs": [],
   "source": [
    "label = []\n",
    "id_list = []\n",
    "for image in lstFilesDCM:\n",
    "    id_list.append(check_contrast.findall(image)[0][0])\n",
    "    label.append(check_contrast.findall(image)[0][1])\n",
    "label_list = pd.DataFrame(label,id_list)"
   ]
  },
  {
   "cell_type": "code",
   "execution_count": 176,
   "metadata": {
    "collapsed": false
   },
   "outputs": [
    {
     "data": {
      "text/plain": [
       "100"
      ]
     },
     "execution_count": 176,
     "metadata": {},
     "output_type": "execute_result"
    }
   ],
   "source": [
    "len(ArrayDicom)"
   ]
  },
  {
   "cell_type": "markdown",
   "metadata": {},
   "source": [
    "## Split Data to Train, Test"
   ]
  },
  {
   "cell_type": "code",
   "execution_count": 177,
   "metadata": {
    "collapsed": true
   },
   "outputs": [],
   "source": [
    "from sklearn.model_selection import train_test_split"
   ]
  },
  {
   "cell_type": "code",
   "execution_count": 178,
   "metadata": {
    "collapsed": false
   },
   "outputs": [],
   "source": [
    "ArrayDicom = np.expand_dims(ArrayDicom,0)"
   ]
  },
  {
   "cell_type": "code",
   "execution_count": 179,
   "metadata": {
    "collapsed": false
   },
   "outputs": [],
   "source": [
    "ArrayDicom = ArrayDicom.reshape((100,512,512,1))"
   ]
  },
  {
   "cell_type": "code",
   "execution_count": 214,
   "metadata": {
    "collapsed": false
   },
   "outputs": [],
   "source": [
    "ArrayDicom = ArrayDicom[:,::3,::3]"
   ]
  },
  {
   "cell_type": "code",
   "execution_count": 241,
   "metadata": {
    "collapsed": false
   },
   "outputs": [],
   "source": [
    "X_train, X_test, y_train, y_test = train_test_split(ArrayDicom, label_list, test_size=0.2, random_state=0)"
   ]
  },
  {
   "cell_type": "code",
   "execution_count": 242,
   "metadata": {
    "collapsed": false
   },
   "outputs": [
    {
     "data": {
      "text/plain": [
       "(80, 86, 86, 1)"
      ]
     },
     "execution_count": 242,
     "metadata": {},
     "output_type": "execute_result"
    }
   ],
   "source": [
    "X_train.shape"
   ]
  },
  {
   "cell_type": "code",
   "execution_count": 243,
   "metadata": {
    "collapsed": false
   },
   "outputs": [],
   "source": [
    "n_train, width, height,depth = X_train.shape\n",
    "n_test,_,_,_ = X_test.shape"
   ]
  },
  {
   "cell_type": "code",
   "execution_count": 244,
   "metadata": {
    "collapsed": false
   },
   "outputs": [
    {
     "data": {
      "text/plain": [
       "(86, 86, 1)"
      ]
     },
     "execution_count": 244,
     "metadata": {},
     "output_type": "execute_result"
    }
   ],
   "source": [
    "input_shape = (width,height,depth)\n",
    "input_shape"
   ]
  },
  {
   "cell_type": "code",
   "execution_count": 245,
   "metadata": {
    "collapsed": false
   },
   "outputs": [
    {
     "data": {
      "text/plain": [
       "1.0"
      ]
     },
     "execution_count": 245,
     "metadata": {},
     "output_type": "execute_result"
    }
   ],
   "source": [
    "input_train = X_train.reshape((n_train, width,height,depth))\n",
    "input_train.shape\n",
    "input_train.astype('float32')\n",
    "input_train = input_train / np.max(input_train)\n",
    "input_train.max()"
   ]
  },
  {
   "cell_type": "code",
   "execution_count": 246,
   "metadata": {
    "collapsed": true
   },
   "outputs": [],
   "source": [
    "input_test = X_test.reshape(n_test, *input_shape)\n",
    "input_test.astype('float32')\n",
    "input_test = input_test / np.max(input_test)"
   ]
  },
  {
   "cell_type": "code",
   "execution_count": 247,
   "metadata": {
    "collapsed": false
   },
   "outputs": [
    {
     "data": {
      "text/plain": [
       "array([ 0.,  1.])"
      ]
     },
     "execution_count": 247,
     "metadata": {},
     "output_type": "execute_result"
    }
   ],
   "source": [
    "output_train = keras.utils.to_categorical(y_train, 2)\n",
    "output_test = keras.utils.to_categorical(y_test, 2)\n",
    "output_train[5]"
   ]
  },
  {
   "cell_type": "markdown",
   "metadata": {},
   "source": [
    "# Network"
   ]
  },
  {
   "cell_type": "code",
   "execution_count": 248,
   "metadata": {
    "collapsed": true
   },
   "outputs": [],
   "source": [
    "from keras.models import Sequential\n",
    "from keras.layers import Dense, Flatten\n",
    "from keras.optimizers import Adam\n",
    "from keras.layers import Conv2D, MaxPooling2D"
   ]
  },
  {
   "cell_type": "code",
   "execution_count": 249,
   "metadata": {
    "collapsed": false
   },
   "outputs": [],
   "source": [
    "model2 = Sequential()\n",
    "model2.add(Conv2D(50, (5, 5), activation='relu', input_shape=input_shape))\n",
    " # 32개의 4x4 Filter 를 이용하여 Convolutional Network생성\n",
    "model2.add(MaxPooling2D(pool_size=(4, 4), strides=(2,2))) # 3x3 Maxpooling \n",
    "model2.add(Conv2D(30, (4, 4), activation='relu', input_shape=input_shape))\n",
    "model2.add(Conv2D(50, (3, 3), activation='relu', input_shape=input_shape))\n",
    "model2.add(MaxPooling2D(pool_size=(2, 2))) # 2x2 Maxpooling \n",
    "model2.add(Flatten()) # 쭉풀어서 Fully Connected Neural Network를 만든다. \n",
    "model2.add(Dense(2, activation='softmax'))"
   ]
  },
  {
   "cell_type": "code",
   "execution_count": 250,
   "metadata": {
    "collapsed": false
   },
   "outputs": [
    {
     "name": "stdout",
     "output_type": "stream",
     "text": [
      "_________________________________________________________________\n",
      "Layer (type)                 Output Shape              Param #   \n",
      "=================================================================\n",
      "conv2d_18 (Conv2D)           (None, 82, 82, 50)        1300      \n",
      "_________________________________________________________________\n",
      "max_pooling2d_15 (MaxPooling (None, 40, 40, 50)        0         \n",
      "_________________________________________________________________\n",
      "conv2d_19 (Conv2D)           (None, 37, 37, 30)        24030     \n",
      "_________________________________________________________________\n",
      "conv2d_20 (Conv2D)           (None, 35, 35, 50)        13550     \n",
      "_________________________________________________________________\n",
      "max_pooling2d_16 (MaxPooling (None, 17, 17, 50)        0         \n",
      "_________________________________________________________________\n",
      "flatten_8 (Flatten)          (None, 14450)             0         \n",
      "_________________________________________________________________\n",
      "dense_8 (Dense)              (None, 2)                 28902     \n",
      "=================================================================\n",
      "Total params: 67,782\n",
      "Trainable params: 67,782\n",
      "Non-trainable params: 0\n",
      "_________________________________________________________________\n"
     ]
    }
   ],
   "source": [
    "model2.summary()"
   ]
  },
  {
   "cell_type": "code",
   "execution_count": 251,
   "metadata": {
    "collapsed": true
   },
   "outputs": [],
   "source": [
    "batch_size = 30\n",
    "epochs = 50"
   ]
  },
  {
   "cell_type": "code",
   "execution_count": 252,
   "metadata": {
    "collapsed": true
   },
   "outputs": [],
   "source": [
    "model2.compile(loss='categorical_crossentropy',\n",
    "              optimizer=Adam(),\n",
    "              metrics=['accuracy'])"
   ]
  },
  {
   "cell_type": "code",
   "execution_count": 253,
   "metadata": {
    "collapsed": false,
    "scrolled": false
   },
   "outputs": [
    {
     "name": "stdout",
     "output_type": "stream",
     "text": [
      "Train on 80 samples, validate on 20 samples\n",
      "Epoch 1/50\n",
      "80/80 [==============================] - 0s - loss: 0.6804 - acc: 0.5875 - val_loss: 0.6709 - val_acc: 0.5000\n",
      "Epoch 2/50\n",
      "80/80 [==============================] - 0s - loss: 0.6784 - acc: 0.5000 - val_loss: 0.6505 - val_acc: 0.7000\n",
      "Epoch 3/50\n",
      "80/80 [==============================] - 0s - loss: 0.6676 - acc: 0.6125 - val_loss: 0.6544 - val_acc: 0.7000\n",
      "Epoch 4/50\n",
      "80/80 [==============================] - 0s - loss: 0.6688 - acc: 0.6125 - val_loss: 0.6491 - val_acc: 0.7000\n",
      "Epoch 5/50\n",
      "80/80 [==============================] - 0s - loss: 0.6645 - acc: 0.6125 - val_loss: 0.6452 - val_acc: 0.7000\n",
      "Epoch 6/50\n",
      "80/80 [==============================] - 0s - loss: 0.6592 - acc: 0.6125 - val_loss: 0.6333 - val_acc: 0.7000\n",
      "Epoch 7/50\n",
      "80/80 [==============================] - 0s - loss: 0.6620 - acc: 0.6125 - val_loss: 0.6301 - val_acc: 0.7000\n",
      "Epoch 8/50\n",
      "80/80 [==============================] - 0s - loss: 0.6586 - acc: 0.6125 - val_loss: 0.6244 - val_acc: 0.7000\n",
      "Epoch 9/50\n",
      "80/80 [==============================] - 0s - loss: 0.6562 - acc: 0.6125 - val_loss: 0.6274 - val_acc: 0.7000\n",
      "Epoch 10/50\n",
      "80/80 [==============================] - 0s - loss: 0.6543 - acc: 0.6125 - val_loss: 0.6287 - val_acc: 0.7000\n",
      "Epoch 11/50\n",
      "80/80 [==============================] - 0s - loss: 0.6527 - acc: 0.6125 - val_loss: 0.6232 - val_acc: 0.7000\n",
      "Epoch 12/50\n",
      "80/80 [==============================] - 0s - loss: 0.6500 - acc: 0.6125 - val_loss: 0.6192 - val_acc: 0.7000\n",
      "Epoch 13/50\n",
      "80/80 [==============================] - 0s - loss: 0.6500 - acc: 0.6125 - val_loss: 0.6144 - val_acc: 0.7000\n",
      "Epoch 14/50\n",
      "80/80 [==============================] - 0s - loss: 0.6453 - acc: 0.6125 - val_loss: 0.6158 - val_acc: 0.7000\n",
      "Epoch 15/50\n",
      "80/80 [==============================] - 0s - loss: 0.6409 - acc: 0.6125 - val_loss: 0.6168 - val_acc: 0.7000\n",
      "Epoch 16/50\n",
      "80/80 [==============================] - 0s - loss: 0.6336 - acc: 0.6125 - val_loss: 0.6032 - val_acc: 0.7000\n",
      "Epoch 17/50\n",
      "80/80 [==============================] - 0s - loss: 0.6267 - acc: 0.6125 - val_loss: 0.5981 - val_acc: 0.7000\n",
      "Epoch 18/50\n",
      "80/80 [==============================] - 0s - loss: 0.6197 - acc: 0.6250 - val_loss: 0.5988 - val_acc: 0.7500\n",
      "Epoch 19/50\n",
      "80/80 [==============================] - 0s - loss: 0.6261 - acc: 0.6875 - val_loss: 0.6077 - val_acc: 0.6500\n",
      "Epoch 20/50\n",
      "80/80 [==============================] - 0s - loss: 0.6104 - acc: 0.6875 - val_loss: 0.5787 - val_acc: 0.7000\n",
      "Epoch 21/50\n",
      "80/80 [==============================] - 0s - loss: 0.5985 - acc: 0.6500 - val_loss: 0.5803 - val_acc: 0.7500\n",
      "Epoch 22/50\n",
      "80/80 [==============================] - 0s - loss: 0.5764 - acc: 0.7375 - val_loss: 0.5935 - val_acc: 0.7500\n",
      "Epoch 23/50\n",
      "80/80 [==============================] - 0s - loss: 0.5696 - acc: 0.7375 - val_loss: 0.5805 - val_acc: 0.8000\n",
      "Epoch 24/50\n",
      "80/80 [==============================] - 0s - loss: 0.5587 - acc: 0.7625 - val_loss: 0.5759 - val_acc: 0.8000\n",
      "Epoch 25/50\n",
      "80/80 [==============================] - 0s - loss: 0.5365 - acc: 0.7750 - val_loss: 0.5957 - val_acc: 0.7000\n",
      "Epoch 26/50\n",
      "80/80 [==============================] - 0s - loss: 0.5671 - acc: 0.7125 - val_loss: 0.5918 - val_acc: 0.7500\n",
      "Epoch 27/50\n",
      "80/80 [==============================] - 0s - loss: 0.5228 - acc: 0.7500 - val_loss: 0.6300 - val_acc: 0.7000\n",
      "Epoch 28/50\n",
      "80/80 [==============================] - 0s - loss: 0.5434 - acc: 0.7625 - val_loss: 0.6020 - val_acc: 0.7500\n",
      "Epoch 29/50\n",
      "80/80 [==============================] - 0s - loss: 0.5044 - acc: 0.7625 - val_loss: 0.6299 - val_acc: 0.6000\n",
      "Epoch 30/50\n",
      "80/80 [==============================] - 0s - loss: 0.4963 - acc: 0.7750 - val_loss: 0.6210 - val_acc: 0.6500\n",
      "Epoch 31/50\n",
      "80/80 [==============================] - 0s - loss: 0.4775 - acc: 0.7750 - val_loss: 0.6398 - val_acc: 0.7000\n",
      "Epoch 32/50\n",
      "80/80 [==============================] - 0s - loss: 0.4628 - acc: 0.7625 - val_loss: 0.6732 - val_acc: 0.6500\n",
      "Epoch 33/50\n",
      "80/80 [==============================] - 0s - loss: 0.4422 - acc: 0.8125 - val_loss: 0.6640 - val_acc: 0.7000\n",
      "Epoch 34/50\n",
      "80/80 [==============================] - 0s - loss: 0.4406 - acc: 0.7875 - val_loss: 0.6981 - val_acc: 0.7500\n",
      "Epoch 35/50\n",
      "80/80 [==============================] - 0s - loss: 0.4312 - acc: 0.8000 - val_loss: 0.7485 - val_acc: 0.6500\n",
      "Epoch 36/50\n",
      "80/80 [==============================] - 0s - loss: 0.4497 - acc: 0.7875 - val_loss: 0.7435 - val_acc: 0.6000\n",
      "Epoch 37/50\n",
      "80/80 [==============================] - 0s - loss: 0.4048 - acc: 0.8250 - val_loss: 0.7923 - val_acc: 0.6500\n",
      "Epoch 38/50\n",
      "80/80 [==============================] - 0s - loss: 0.4131 - acc: 0.8125 - val_loss: 0.7760 - val_acc: 0.6500\n",
      "Epoch 39/50\n",
      "80/80 [==============================] - 0s - loss: 0.3962 - acc: 0.8375 - val_loss: 0.7888 - val_acc: 0.7000\n",
      "Epoch 40/50\n",
      "80/80 [==============================] - 0s - loss: 0.3929 - acc: 0.8000 - val_loss: 0.7834 - val_acc: 0.6000\n",
      "Epoch 41/50\n",
      "80/80 [==============================] - 0s - loss: 0.4009 - acc: 0.8375 - val_loss: 0.7900 - val_acc: 0.6000\n",
      "Epoch 42/50\n",
      "80/80 [==============================] - 0s - loss: 0.4081 - acc: 0.8000 - val_loss: 0.8280 - val_acc: 0.6500\n",
      "Epoch 43/50\n",
      "80/80 [==============================] - 0s - loss: 0.3873 - acc: 0.8125 - val_loss: 0.8015 - val_acc: 0.6000\n",
      "Epoch 44/50\n",
      "80/80 [==============================] - 0s - loss: 0.3701 - acc: 0.8375 - val_loss: 0.8327 - val_acc: 0.7000\n",
      "Epoch 45/50\n",
      "80/80 [==============================] - 0s - loss: 0.3677 - acc: 0.8000 - val_loss: 0.8558 - val_acc: 0.7000\n",
      "Epoch 46/50\n",
      "80/80 [==============================] - 0s - loss: 0.4077 - acc: 0.8000 - val_loss: 0.8423 - val_acc: 0.6000\n",
      "Epoch 47/50\n",
      "80/80 [==============================] - 0s - loss: 0.3431 - acc: 0.8750 - val_loss: 0.9074 - val_acc: 0.6500\n",
      "Epoch 48/50\n",
      "80/80 [==============================] - 0s - loss: 0.3677 - acc: 0.8125 - val_loss: 0.8807 - val_acc: 0.6500\n",
      "Epoch 49/50\n",
      "80/80 [==============================] - 0s - loss: 0.3253 - acc: 0.8500 - val_loss: 0.8682 - val_acc: 0.6000\n",
      "Epoch 50/50\n",
      "80/80 [==============================] - 0s - loss: 0.3417 - acc: 0.8500 - val_loss: 0.8745 - val_acc: 0.6000\n"
     ]
    }
   ],
   "source": [
    "history = model2.fit(input_train, output_train,\n",
    "                    batch_size=batch_size,\n",
    "                    epochs=epochs,\n",
    "                    verbose=1,\n",
    "                    validation_data=(input_test, output_test))"
   ]
  },
  {
   "cell_type": "code",
   "execution_count": 254,
   "metadata": {
    "collapsed": false
   },
   "outputs": [
    {
     "data": {
      "text/plain": [
       "[0.87448054552078247, 0.60000002384185791]"
      ]
     },
     "execution_count": 254,
     "metadata": {},
     "output_type": "execute_result"
    }
   ],
   "source": [
    "score = model2.evaluate(input_test, output_test, verbose=0)\n",
    "score"
   ]
  }
 ],
 "metadata": {
  "anaconda-cloud": {},
  "kernelspec": {
   "display_name": "Python [work]",
   "language": "python",
   "name": "Python [work]"
  },
  "language_info": {
   "codemirror_mode": {
    "name": "ipython",
    "version": 3
   },
   "file_extension": ".py",
   "mimetype": "text/x-python",
   "name": "python",
   "nbconvert_exporter": "python",
   "pygments_lexer": "ipython3",
   "version": "3.5.2"
  }
 },
 "nbformat": 4,
 "nbformat_minor": 0
}
