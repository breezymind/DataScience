{
 "cells": [
  {
   "cell_type": "markdown",
   "metadata": {},
   "source": [
    "# Constrast Cancer Classification"
   ]
  },
  {
   "cell_type": "code",
   "execution_count": 1,
   "metadata": {
    "collapsed": false
   },
   "outputs": [
    {
     "name": "stderr",
     "output_type": "stream",
     "text": [
      "Using TensorFlow backend.\n"
     ]
    }
   ],
   "source": [
    "import numpy as np # matrix tools\n",
    "import matplotlib.pyplot as plt # for basic plots\n",
    "import seaborn as sns # for nicer plots\n",
    "import pandas as pd\n",
    "from glob import glob\n",
    "import re\n",
    "from skimage.io import imread\n",
    "import os\n",
    "import keras"
   ]
  },
  {
   "cell_type": "code",
   "execution_count": 11,
   "metadata": {
    "collapsed": true
   },
   "outputs": [],
   "source": [
    "%matplotlib inline"
   ]
  },
  {
   "cell_type": "markdown",
   "metadata": {},
   "source": [
    "## Exploratory data analysis"
   ]
  },
  {
   "cell_type": "code",
   "execution_count": 74,
   "metadata": {
    "collapsed": false
   },
   "outputs": [
    {
     "data": {
      "text/html": [
       "<div>\n",
       "<table border=\"1\" class=\"dataframe\">\n",
       "  <thead>\n",
       "    <tr style=\"text-align: right;\">\n",
       "      <th></th>\n",
       "      <th>Age</th>\n",
       "      <th>Contrast</th>\n",
       "      <th>ContrastTag</th>\n",
       "      <th>raw_input_path</th>\n",
       "      <th>id</th>\n",
       "      <th>tiff_name</th>\n",
       "      <th>dicom_name</th>\n",
       "    </tr>\n",
       "  </thead>\n",
       "  <tbody>\n",
       "    <tr>\n",
       "      <th>0</th>\n",
       "      <td>60</td>\n",
       "      <td>True</td>\n",
       "      <td>NONE</td>\n",
       "      <td>../data/50_50_dicom_cases\\Contrast\\00001 (1).dcm</td>\n",
       "      <td>0</td>\n",
       "      <td>ID_0000_AGE_0060_CONTRAST_1_CT.tif</td>\n",
       "      <td>ID_0000_AGE_0060_CONTRAST_1_CT.dcm</td>\n",
       "    </tr>\n",
       "    <tr>\n",
       "      <th>1</th>\n",
       "      <td>69</td>\n",
       "      <td>True</td>\n",
       "      <td>NONE</td>\n",
       "      <td>../data/50_50_dicom_cases\\Contrast\\00001 (10).dcm</td>\n",
       "      <td>1</td>\n",
       "      <td>ID_0001_AGE_0069_CONTRAST_1_CT.tif</td>\n",
       "      <td>ID_0001_AGE_0069_CONTRAST_1_CT.dcm</td>\n",
       "    </tr>\n",
       "    <tr>\n",
       "      <th>2</th>\n",
       "      <td>74</td>\n",
       "      <td>True</td>\n",
       "      <td>APPLIED</td>\n",
       "      <td>../data/50_50_dicom_cases\\Contrast\\00001 (11).dcm</td>\n",
       "      <td>2</td>\n",
       "      <td>ID_0002_AGE_0074_CONTRAST_1_CT.tif</td>\n",
       "      <td>ID_0002_AGE_0074_CONTRAST_1_CT.dcm</td>\n",
       "    </tr>\n",
       "    <tr>\n",
       "      <th>3</th>\n",
       "      <td>75</td>\n",
       "      <td>True</td>\n",
       "      <td>NONE</td>\n",
       "      <td>../data/50_50_dicom_cases\\Contrast\\00001 (12).dcm</td>\n",
       "      <td>3</td>\n",
       "      <td>ID_0003_AGE_0075_CONTRAST_1_CT.tif</td>\n",
       "      <td>ID_0003_AGE_0075_CONTRAST_1_CT.dcm</td>\n",
       "    </tr>\n",
       "    <tr>\n",
       "      <th>4</th>\n",
       "      <td>56</td>\n",
       "      <td>True</td>\n",
       "      <td>NONE</td>\n",
       "      <td>../data/50_50_dicom_cases\\Contrast\\00001 (13).dcm</td>\n",
       "      <td>4</td>\n",
       "      <td>ID_0004_AGE_0056_CONTRAST_1_CT.tif</td>\n",
       "      <td>ID_0004_AGE_0056_CONTRAST_1_CT.dcm</td>\n",
       "    </tr>\n",
       "  </tbody>\n",
       "</table>\n",
       "</div>"
      ],
      "text/plain": [
       "   Age Contrast ContrastTag  \\\n",
       "0   60     True        NONE   \n",
       "1   69     True        NONE   \n",
       "2   74     True     APPLIED   \n",
       "3   75     True        NONE   \n",
       "4   56     True        NONE   \n",
       "\n",
       "                                      raw_input_path  id  \\\n",
       "0   ../data/50_50_dicom_cases\\Contrast\\00001 (1).dcm   0   \n",
       "1  ../data/50_50_dicom_cases\\Contrast\\00001 (10).dcm   1   \n",
       "2  ../data/50_50_dicom_cases\\Contrast\\00001 (11).dcm   2   \n",
       "3  ../data/50_50_dicom_cases\\Contrast\\00001 (12).dcm   3   \n",
       "4  ../data/50_50_dicom_cases\\Contrast\\00001 (13).dcm   4   \n",
       "\n",
       "                            tiff_name                          dicom_name  \n",
       "0  ID_0000_AGE_0060_CONTRAST_1_CT.tif  ID_0000_AGE_0060_CONTRAST_1_CT.dcm  \n",
       "1  ID_0001_AGE_0069_CONTRAST_1_CT.tif  ID_0001_AGE_0069_CONTRAST_1_CT.dcm  \n",
       "2  ID_0002_AGE_0074_CONTRAST_1_CT.tif  ID_0002_AGE_0074_CONTRAST_1_CT.dcm  \n",
       "3  ID_0003_AGE_0075_CONTRAST_1_CT.tif  ID_0003_AGE_0075_CONTRAST_1_CT.dcm  \n",
       "4  ID_0004_AGE_0056_CONTRAST_1_CT.tif  ID_0004_AGE_0056_CONTRAST_1_CT.dcm  "
      ]
     },
     "execution_count": 74,
     "metadata": {},
     "output_type": "execute_result"
    }
   ],
   "source": [
    "overview = pd.read_csv('data/overview.csv')\n",
    "overview.head()"
   ]
  },
  {
   "cell_type": "code",
   "execution_count": 83,
   "metadata": {
    "collapsed": false
   },
   "outputs": [
    {
     "data": {
      "text/plain": [
       "100"
      ]
     },
     "execution_count": 83,
     "metadata": {},
     "output_type": "execute_result"
    }
   ],
   "source": [
    "len(overview)"
   ]
  },
  {
   "cell_type": "code",
   "execution_count": 75,
   "metadata": {
    "collapsed": true
   },
   "outputs": [],
   "source": [
    "overview['Contrast'] = overview['Contrast'].map(lambda x: 1 if x else 0)"
   ]
  },
  {
   "cell_type": "code",
   "execution_count": 77,
   "metadata": {
    "collapsed": false
   },
   "outputs": [
    {
     "data": {
      "text/plain": [
       "<matplotlib.axes._subplots.AxesSubplot at 0x17aac249f28>"
      ]
     },
     "execution_count": 77,
     "metadata": {},
     "output_type": "execute_result"
    },
    {
     "data": {
      "image/png": "[encoded data removed]",
      "text/plain": [
       "<matplotlib.figure.Figure at 0x17aac249cf8>"
      ]
     },
     "metadata": {},
     "output_type": "display_data"
    }
   ],
   "source": [
    "plt.figure(figsize=(10,5))\n",
    "sns.distplot(overview['Age'])"
   ]
  },
  {
   "cell_type": "code",
   "execution_count": 78,
   "metadata": {
    "collapsed": false
   },
   "outputs": [
    {
     "data": {
      "image/png": "[encoded data removed]",
      "text/plain": [
       "<matplotlib.figure.Figure at 0x17aab0abb00>"
      ]
     },
     "metadata": {},
     "output_type": "display_data"
    }
   ],
   "source": [
    "g = sns.FacetGrid(overview, col=\"Contrast\", size=8)\n",
    "g = g.map(sns.distplot, \"Age\")"
   ]
  },
  {
   "cell_type": "code",
   "execution_count": 82,
   "metadata": {
    "collapsed": false
   },
   "outputs": [
    {
     "data": {
      "image/png": "[encoded data removed]",
      "text/plain": [
       "<matplotlib.figure.Figure at 0x17aacdacc88>"
      ]
     },
     "metadata": {},
     "output_type": "display_data"
    }
   ],
   "source": [
    "g = sns.FacetGrid(overview, hue=\"Contrast\",size=6, legend_out=True)\n",
    "g = g.map(sns.distplot, \"Age\").add_legend()"
   ]
  },
  {
   "cell_type": "markdown",
   "metadata": {},
   "source": [
    "## Read Image Files "
   ]
  },
  {
   "cell_type": "code",
   "execution_count": 4,
   "metadata": {
    "collapsed": false
   },
   "outputs": [
    {
     "data": {
      "text/plain": [
       "['data\\\\tiff_images\\\\ID_0000_AGE_0060_CONTRAST_1_CT.tif',\n",
       " 'data\\\\tiff_images\\\\ID_0001_AGE_0069_CONTRAST_1_CT.tif',\n",
       " 'data\\\\tiff_images\\\\ID_0002_AGE_0074_CONTRAST_1_CT.tif',\n",
       " 'data\\\\tiff_images\\\\ID_0003_AGE_0075_CONTRAST_1_CT.tif',\n",
       " 'data\\\\tiff_images\\\\ID_0004_AGE_0056_CONTRAST_1_CT.tif']"
      ]
     },
     "execution_count": 4,
     "metadata": {},
     "output_type": "execute_result"
    }
   ],
   "source": [
    "BASE_IMAGE_PATH = os.path.join(\"data\",\"tiff_images\")\n",
    "all_images_list = glob(os.path.join(BASE_IMAGE_PATH,\"*.tif\"))\n",
    "all_images_list[:5]"
   ]
  },
  {
   "cell_type": "markdown",
   "metadata": {},
   "source": [
    " - np.expand_dims -> Expand the shape of an array.\n",
    "  - Insert a new axis, corresponding to a given position in the array shape.\n"
   ]
  },
  {
   "cell_type": "code",
   "execution_count": 5,
   "metadata": {
    "collapsed": false
   },
   "outputs": [
    {
     "data": {
      "text/plain": [
       "(512, 512)"
      ]
     },
     "execution_count": 5,
     "metadata": {},
     "output_type": "execute_result"
    }
   ],
   "source": [
    "imread(all_images_list[0]).shape"
   ]
  },
  {
   "cell_type": "code",
   "execution_count": 91,
   "metadata": {
    "collapsed": false
   },
   "outputs": [
    {
     "data": {
      "text/plain": [
       "array([[ 0,  1,  2,  3,  4,  5,  6,  7,  8],\n",
       "       [ 9, 10, 11, 12, 13, 14, 15, 16, 17],\n",
       "       [18, 19, 20, 21, 22, 23, 24, 25, 26],\n",
       "       [27, 28, 29, 30, 31, 32, 33, 34, 35],\n",
       "       [36, 37, 38, 39, 40, 41, 42, 43, 44],\n",
       "       [45, 46, 47, 48, 49, 50, 51, 52, 53],\n",
       "       [54, 55, 56, 57, 58, 59, 60, 61, 62],\n",
       "       [63, 64, 65, 66, 67, 68, 69, 70, 71],\n",
       "       [72, 73, 74, 75, 76, 77, 78, 79, 80]])"
      ]
     },
     "execution_count": 91,
     "metadata": {},
     "output_type": "execute_result"
    }
   ],
   "source": [
    "np.array(np.arange(81)).reshape(9,9)"
   ]
  },
  {
   "cell_type": "code",
   "execution_count": 92,
   "metadata": {
    "collapsed": false
   },
   "outputs": [
    {
     "data": {
      "text/plain": [
       "array([[ 0,  3,  6],\n",
       "       [27, 30, 33],\n",
       "       [54, 57, 60]])"
      ]
     },
     "execution_count": 92,
     "metadata": {},
     "output_type": "execute_result"
    }
   ],
   "source": [
    "np.array(np.arange(81)).reshape(9,9)[::3,::3]"
   ]
  },
  {
   "cell_type": "code",
   "execution_count": 46,
   "metadata": {
    "collapsed": false
   },
   "outputs": [
    {
     "data": {
      "text/plain": [
       "(1, 128, 128)"
      ]
     },
     "execution_count": 46,
     "metadata": {},
     "output_type": "execute_result"
    }
   ],
   "source": [
    "np.expand_dims(imread(all_images_list[0])[::4,::4],0).shape"
   ]
  },
  {
   "cell_type": "code",
   "execution_count": 93,
   "metadata": {
    "collapsed": true
   },
   "outputs": [],
   "source": [
    "jimread = lambda x: np.expand_dims(imread(x)[::2,::2],0)"
   ]
  },
  {
   "cell_type": "code",
   "execution_count": 94,
   "metadata": {
    "collapsed": false
   },
   "outputs": [
    {
     "data": {
      "text/plain": [
       "<matplotlib.image.AxesImage at 0x17aacdb8978>"
      ]
     },
     "execution_count": 94,
     "metadata": {},
     "output_type": "execute_result"
    },
    {
     "data": {
      "image/png": "[encoded data removed]",
      "text/plain": [
       "<matplotlib.figure.Figure at 0x17aad8c1b38>"
      ]
     },
     "metadata": {},
     "output_type": "display_data"
    }
   ],
   "source": [
    "test_image = jimread(all_images_list[0])\n",
    "plt.imshow(test_image[0])"
   ]
  },
  {
   "cell_type": "code",
   "execution_count": 95,
   "metadata": {
    "collapsed": true
   },
   "outputs": [],
   "source": [
    "check_contrast = re.compile(r'data\\\\tiff_images\\\\ID_([\\d]+)_AGE_[\\d]+_CONTRAST_([\\d]+)_CT.tif')\n",
    "label = []\n",
    "id_list = []\n",
    "for image in all_images_list:\n",
    "    id_list.append(check_contrast.findall(image)[0][0])\n",
    "    label.append(check_contrast.findall(image)[0][1])"
   ]
  },
  {
   "cell_type": "code",
   "execution_count": 96,
   "metadata": {
    "collapsed": true
   },
   "outputs": [],
   "source": [
    "label_list = pd.DataFrame(label,id_list)"
   ]
  },
  {
   "cell_type": "code",
   "execution_count": 97,
   "metadata": {
    "collapsed": false
   },
   "outputs": [
    {
     "data": {
      "text/html": [
       "<div>\n",
       "<table border=\"1\" class=\"dataframe\">\n",
       "  <thead>\n",
       "    <tr style=\"text-align: right;\">\n",
       "      <th></th>\n",
       "      <th>0</th>\n",
       "    </tr>\n",
       "  </thead>\n",
       "  <tbody>\n",
       "    <tr>\n",
       "      <th>0000</th>\n",
       "      <td>1</td>\n",
       "    </tr>\n",
       "    <tr>\n",
       "      <th>0001</th>\n",
       "      <td>1</td>\n",
       "    </tr>\n",
       "    <tr>\n",
       "      <th>0002</th>\n",
       "      <td>1</td>\n",
       "    </tr>\n",
       "    <tr>\n",
       "      <th>0003</th>\n",
       "      <td>1</td>\n",
       "    </tr>\n",
       "    <tr>\n",
       "      <th>0004</th>\n",
       "      <td>1</td>\n",
       "    </tr>\n",
       "  </tbody>\n",
       "</table>\n",
       "</div>"
      ],
      "text/plain": [
       "      0\n",
       "0000  1\n",
       "0001  1\n",
       "0002  1\n",
       "0003  1\n",
       "0004  1"
      ]
     },
     "execution_count": 97,
     "metadata": {},
     "output_type": "execute_result"
    }
   ],
   "source": [
    "label_list.head()"
   ]
  },
  {
   "cell_type": "code",
   "execution_count": 98,
   "metadata": {
    "collapsed": true
   },
   "outputs": [],
   "source": [
    "images = np.stack([jimread(i) for i in all_images_list],0)"
   ]
  },
  {
   "cell_type": "code",
   "execution_count": 99,
   "metadata": {
    "collapsed": false
   },
   "outputs": [
    {
     "data": {
      "text/plain": [
       "100"
      ]
     },
     "execution_count": 99,
     "metadata": {},
     "output_type": "execute_result"
    }
   ],
   "source": [
    "len(images)"
   ]
  },
  {
   "cell_type": "markdown",
   "metadata": {},
   "source": [
    "## Split Data to Train, Test"
   ]
  },
  {
   "cell_type": "code",
   "execution_count": 100,
   "metadata": {
    "collapsed": true
   },
   "outputs": [],
   "source": [
    "from sklearn.model_selection import train_test_split"
   ]
  },
  {
   "cell_type": "code",
   "execution_count": 101,
   "metadata": {
    "collapsed": true
   },
   "outputs": [],
   "source": [
    "X_train, X_test, y_train, y_test = train_test_split(images, label_list, test_size=0.1, random_state=0)"
   ]
  },
  {
   "cell_type": "markdown",
   "metadata": {},
   "source": [
    "## Reshape image Data "
   ]
  },
  {
   "cell_type": "code",
   "execution_count": 102,
   "metadata": {
    "collapsed": true
   },
   "outputs": [],
   "source": [
    "n_train, depth, width, height = X_train.shape\n",
    "n_test,_,_,_ = X_test.shape"
   ]
  },
  {
   "cell_type": "code",
   "execution_count": 103,
   "metadata": {
    "collapsed": false
   },
   "outputs": [
    {
     "data": {
      "text/plain": [
       "(90, 1, 256, 256)"
      ]
     },
     "execution_count": 103,
     "metadata": {},
     "output_type": "execute_result"
    }
   ],
   "source": [
    "n_train,depth, width, height"
   ]
  },
  {
   "cell_type": "code",
   "execution_count": 104,
   "metadata": {
    "collapsed": true
   },
   "outputs": [],
   "source": [
    "input_shape = (width,height,depth)"
   ]
  },
  {
   "cell_type": "code",
   "execution_count": 105,
   "metadata": {
    "collapsed": false
   },
   "outputs": [
    {
     "data": {
      "text/plain": [
       "(256, 256, 1)"
      ]
     },
     "execution_count": 105,
     "metadata": {},
     "output_type": "execute_result"
    }
   ],
   "source": [
    "input_shape"
   ]
  },
  {
   "cell_type": "code",
   "execution_count": 106,
   "metadata": {
    "collapsed": false
   },
   "outputs": [
    {
     "data": {
      "text/plain": [
       "1.0"
      ]
     },
     "execution_count": 106,
     "metadata": {},
     "output_type": "execute_result"
    }
   ],
   "source": [
    "input_train = X_train.reshape((n_train, width,height,depth))\n",
    "input_train.shape\n",
    "input_train.astype('float32')\n",
    "input_train = input_train / np.max(input_train)\n",
    "input_train.max()"
   ]
  },
  {
   "cell_type": "code",
   "execution_count": 107,
   "metadata": {
    "collapsed": false
   },
   "outputs": [],
   "source": [
    "input_test = X_test.reshape(n_test, *input_shape)\n",
    "input_test.astype('float32')\n",
    "input_test = input_test / np.max(input_test)"
   ]
  },
  {
   "cell_type": "code",
   "execution_count": 108,
   "metadata": {
    "collapsed": false
   },
   "outputs": [
    {
     "data": {
      "text/plain": [
       "array([ 0.,  1.])"
      ]
     },
     "execution_count": 108,
     "metadata": {},
     "output_type": "execute_result"
    }
   ],
   "source": [
    "output_train = keras.utils.to_categorical(y_train, 2)\n",
    "output_test = keras.utils.to_categorical(y_test, 2)\n",
    "output_train[5]"
   ]
  },
  {
   "cell_type": "code",
   "execution_count": 109,
   "metadata": {
    "collapsed": false
   },
   "outputs": [
    {
     "data": {
      "text/plain": [
       "(90, 256, 256, 1)"
      ]
     },
     "execution_count": 109,
     "metadata": {},
     "output_type": "execute_result"
    }
   ],
   "source": [
    "input_train.shape"
   ]
  },
  {
   "cell_type": "markdown",
   "metadata": {},
   "source": [
    "## Network"
   ]
  },
  {
   "cell_type": "code",
   "execution_count": 110,
   "metadata": {
    "collapsed": true
   },
   "outputs": [],
   "source": [
    "from keras.models import Sequential\n",
    "from keras.layers import Dense, Flatten\n",
    "from keras.optimizers import Adam\n",
    "from keras.layers import Conv2D, MaxPooling2D"
   ]
  },
  {
   "cell_type": "code",
   "execution_count": 111,
   "metadata": {
    "collapsed": false
   },
   "outputs": [],
   "source": [
    "model = Sequential()\n",
    "model.add(Conv2D(32, (4, 4), activation='relu', input_shape=input_shape))\n",
    " # 32개의 4x4 Filter 를 이용하여 Convolutional Network생성\n",
    "model.add(MaxPooling2D(pool_size=(2, 2))) # 2x2 Maxpooling \n",
    "model.add(Flatten()) # 쭉풀어서 Fully Connected Neural Network를 만든다. \n",
    "model.add(Dense(2, activation='softmax'))"
   ]
  },
  {
   "cell_type": "code",
   "execution_count": 112,
   "metadata": {
    "collapsed": false
   },
   "outputs": [
    {
     "name": "stdout",
     "output_type": "stream",
     "text": [
      "_________________________________________________________________\n",
      "Layer (type)                 Output Shape              Param #   \n",
      "=================================================================\n",
      "conv2d_5 (Conv2D)            (None, 253, 253, 32)      544       \n",
      "_________________________________________________________________\n",
      "max_pooling2d_5 (MaxPooling2 (None, 126, 126, 32)      0         \n",
      "_________________________________________________________________\n",
      "flatten_4 (Flatten)          (None, 508032)            0         \n",
      "_________________________________________________________________\n",
      "dense_4 (Dense)              (None, 2)                 1016066   \n",
      "=================================================================\n",
      "Total params: 1,016,610\n",
      "Trainable params: 1,016,610\n",
      "Non-trainable params: 0\n",
      "_________________________________________________________________\n"
     ]
    }
   ],
   "source": [
    "model.summary()"
   ]
  },
  {
   "cell_type": "code",
   "execution_count": 113,
   "metadata": {
    "collapsed": true
   },
   "outputs": [],
   "source": [
    "model.compile(loss='categorical_crossentropy',\n",
    "              optimizer=Adam(),\n",
    "              metrics=['accuracy'])"
   ]
  },
  {
   "cell_type": "code",
   "execution_count": 114,
   "metadata": {
    "collapsed": true
   },
   "outputs": [],
   "source": [
    "batch_size = 20\n",
    "epochs = 40"
   ]
  },
  {
   "cell_type": "code",
   "execution_count": 115,
   "metadata": {
    "collapsed": false,
    "scrolled": false
   },
   "outputs": [
    {
     "name": "stdout",
     "output_type": "stream",
     "text": [
      "Train on 90 samples, validate on 10 samples\n",
      "Epoch 1/40\n",
      "90/90 [==============================] - 1s - loss: 3.5470 - acc: 0.4667 - val_loss: 0.7117 - val_acc: 0.5000\n",
      "Epoch 2/40\n",
      "90/90 [==============================] - 0s - loss: 0.8217 - acc: 0.7444 - val_loss: 2.1616 - val_acc: 0.6000\n",
      "Epoch 3/40\n",
      "90/90 [==============================] - 0s - loss: 0.5779 - acc: 0.7889 - val_loss: 0.4329 - val_acc: 0.7000\n",
      "Epoch 4/40\n",
      "90/90 [==============================] - 0s - loss: 0.4233 - acc: 0.8000 - val_loss: 0.7214 - val_acc: 0.7000\n",
      "Epoch 5/40\n",
      "90/90 [==============================] - 0s - loss: 0.2544 - acc: 0.9000 - val_loss: 0.7363 - val_acc: 0.7000\n",
      "Epoch 6/40\n",
      "90/90 [==============================] - 0s - loss: 0.0576 - acc: 1.0000 - val_loss: 0.2655 - val_acc: 0.9000\n",
      "Epoch 7/40\n",
      "90/90 [==============================] - 0s - loss: 0.0904 - acc: 0.9667 - val_loss: 0.2782 - val_acc: 0.9000\n",
      "Epoch 8/40\n",
      "90/90 [==============================] - 0s - loss: 0.0265 - acc: 1.0000 - val_loss: 0.5291 - val_acc: 0.8000\n",
      "Epoch 9/40\n",
      "90/90 [==============================] - 0s - loss: 0.0323 - acc: 1.0000 - val_loss: 0.6118 - val_acc: 0.8000\n",
      "Epoch 10/40\n",
      "90/90 [==============================] - 0s - loss: 0.0242 - acc: 1.0000 - val_loss: 0.4871 - val_acc: 0.8000\n",
      "Epoch 11/40\n",
      "90/90 [==============================] - 0s - loss: 0.0131 - acc: 1.0000 - val_loss: 0.3767 - val_acc: 0.8000\n",
      "Epoch 12/40\n",
      "90/90 [==============================] - 0s - loss: 0.0112 - acc: 1.0000 - val_loss: 0.3334 - val_acc: 0.9000\n",
      "Epoch 13/40\n",
      "90/90 [==============================] - 0s - loss: 0.0103 - acc: 1.0000 - val_loss: 0.3521 - val_acc: 0.9000\n",
      "Epoch 14/40\n",
      "90/90 [==============================] - 0s - loss: 0.0083 - acc: 1.0000 - val_loss: 0.3828 - val_acc: 0.8000\n",
      "Epoch 15/40\n",
      "90/90 [==============================] - 0s - loss: 0.0069 - acc: 1.0000 - val_loss: 0.4158 - val_acc: 0.8000\n",
      "Epoch 16/40\n",
      "90/90 [==============================] - 0s - loss: 0.0060 - acc: 1.0000 - val_loss: 0.4394 - val_acc: 0.8000\n",
      "Epoch 17/40\n",
      "90/90 [==============================] - 0s - loss: 0.0055 - acc: 1.0000 - val_loss: 0.4422 - val_acc: 0.8000\n",
      "Epoch 18/40\n",
      "90/90 [==============================] - 0s - loss: 0.0050 - acc: 1.0000 - val_loss: 0.4348 - val_acc: 0.8000\n",
      "Epoch 19/40\n",
      "90/90 [==============================] - 0s - loss: 0.0046 - acc: 1.0000 - val_loss: 0.4296 - val_acc: 0.8000\n",
      "Epoch 20/40\n",
      "90/90 [==============================] - 0s - loss: 0.0043 - acc: 1.0000 - val_loss: 0.4386 - val_acc: 0.8000\n",
      "Epoch 21/40\n",
      "90/90 [==============================] - 0s - loss: 0.0040 - acc: 1.0000 - val_loss: 0.4428 - val_acc: 0.8000\n",
      "Epoch 22/40\n",
      "90/90 [==============================] - 0s - loss: 0.0037 - acc: 1.0000 - val_loss: 0.4448 - val_acc: 0.8000\n",
      "Epoch 23/40\n",
      "90/90 [==============================] - 0s - loss: 0.0035 - acc: 1.0000 - val_loss: 0.4392 - val_acc: 0.8000\n",
      "Epoch 24/40\n",
      "90/90 [==============================] - 0s - loss: 0.0032 - acc: 1.0000 - val_loss: 0.4443 - val_acc: 0.8000\n",
      "Epoch 25/40\n",
      "90/90 [==============================] - 0s - loss: 0.0030 - acc: 1.0000 - val_loss: 0.4493 - val_acc: 0.8000\n",
      "Epoch 26/40\n",
      "90/90 [==============================] - 0s - loss: 0.0029 - acc: 1.0000 - val_loss: 0.4531 - val_acc: 0.8000\n",
      "Epoch 27/40\n",
      "90/90 [==============================] - 0s - loss: 0.0027 - acc: 1.0000 - val_loss: 0.4548 - val_acc: 0.8000\n",
      "Epoch 28/40\n",
      "90/90 [==============================] - 0s - loss: 0.0025 - acc: 1.0000 - val_loss: 0.4542 - val_acc: 0.8000\n",
      "Epoch 29/40\n",
      "90/90 [==============================] - 0s - loss: 0.0024 - acc: 1.0000 - val_loss: 0.4493 - val_acc: 0.8000\n",
      "Epoch 30/40\n",
      "90/90 [==============================] - 0s - loss: 0.0023 - acc: 1.0000 - val_loss: 0.4466 - val_acc: 0.8000\n",
      "Epoch 31/40\n",
      "90/90 [==============================] - 0s - loss: 0.0022 - acc: 1.0000 - val_loss: 0.4540 - val_acc: 0.8000\n",
      "Epoch 32/40\n",
      "90/90 [==============================] - 0s - loss: 0.0021 - acc: 1.0000 - val_loss: 0.4581 - val_acc: 0.8000\n",
      "Epoch 33/40\n",
      "90/90 [==============================] - 0s - loss: 0.0020 - acc: 1.0000 - val_loss: 0.4665 - val_acc: 0.8000\n",
      "Epoch 34/40\n",
      "90/90 [==============================] - 0s - loss: 0.0019 - acc: 1.0000 - val_loss: 0.4746 - val_acc: 0.8000\n",
      "Epoch 35/40\n",
      "90/90 [==============================] - 0s - loss: 0.0018 - acc: 1.0000 - val_loss: 0.4781 - val_acc: 0.8000\n",
      "Epoch 36/40\n",
      "90/90 [==============================] - 0s - loss: 0.0017 - acc: 1.0000 - val_loss: 0.4788 - val_acc: 0.8000\n",
      "Epoch 37/40\n",
      "90/90 [==============================] - 0s - loss: 0.0016 - acc: 1.0000 - val_loss: 0.4752 - val_acc: 0.8000\n",
      "Epoch 38/40\n",
      "90/90 [==============================] - 0s - loss: 0.0016 - acc: 1.0000 - val_loss: 0.4780 - val_acc: 0.8000\n",
      "Epoch 39/40\n",
      "90/90 [==============================] - 0s - loss: 0.0015 - acc: 1.0000 - val_loss: 0.4765 - val_acc: 0.8000\n",
      "Epoch 40/40\n",
      "90/90 [==============================] - 0s - loss: 0.0014 - acc: 1.0000 - val_loss: 0.4762 - val_acc: 0.8000\n"
     ]
    }
   ],
   "source": [
    "history = model.fit(input_train, output_train,\n",
    "                    batch_size=batch_size,\n",
    "                    epochs=epochs,\n",
    "                    verbose=1,\n",
    "                    validation_data=(input_test, output_test))"
   ]
  },
  {
   "cell_type": "code",
   "execution_count": 116,
   "metadata": {
    "collapsed": false,
    "scrolled": false
   },
   "outputs": [
    {
     "data": {
      "text/plain": [
       "{'acc': [0.46666666865348816,\n",
       "  0.74444445636537337,\n",
       "  0.7888888981607225,\n",
       "  0.8000000052981906,\n",
       "  0.9000000026490953,\n",
       "  1.0,\n",
       "  0.96666665871938073,\n",
       "  1.0,\n",
       "  1.0,\n",
       "  1.0,\n",
       "  1.0,\n",
       "  1.0,\n",
       "  1.0,\n",
       "  1.0,\n",
       "  1.0,\n",
       "  1.0,\n",
       "  1.0,\n",
       "  1.0,\n",
       "  1.0,\n",
       "  1.0,\n",
       "  1.0,\n",
       "  1.0,\n",
       "  1.0,\n",
       "  1.0,\n",
       "  1.0,\n",
       "  1.0,\n",
       "  1.0,\n",
       "  1.0,\n",
       "  1.0,\n",
       "  1.0,\n",
       "  1.0,\n",
       "  1.0,\n",
       "  1.0,\n",
       "  1.0,\n",
       "  1.0,\n",
       "  1.0,\n",
       "  1.0,\n",
       "  1.0,\n",
       "  1.0,\n",
       "  1.0],\n",
       " 'loss': [3.5469898117913141,\n",
       "  0.82166123059060836,\n",
       "  0.57785466478930581,\n",
       "  0.42333625257015228,\n",
       "  0.25443292326397365,\n",
       "  0.057624416632784739,\n",
       "  0.090415256718794509,\n",
       "  0.026549512313471899,\n",
       "  0.032302634583579168,\n",
       "  0.024231223803427484,\n",
       "  0.013135068325532807,\n",
       "  0.011229113986094793,\n",
       "  0.010349845927622583,\n",
       "  0.008280523535278108,\n",
       "  0.0068697543659557896,\n",
       "  0.0060073141939938068,\n",
       "  0.0054577676993277334,\n",
       "  0.0050347024031604333,\n",
       "  0.0046245976765122675,\n",
       "  0.0042539972087575328,\n",
       "  0.0039954457121590776,\n",
       "  0.003706983601053556,\n",
       "  0.0034763599849409526,\n",
       "  0.0032460537428657212,\n",
       "  0.0030377271792127025,\n",
       "  0.0028651561846749652,\n",
       "  0.0027027277586360774,\n",
       "  0.0025377526568869748,\n",
       "  0.0024104245369219119,\n",
       "  0.0023004989036255414,\n",
       "  0.0021699113098697532,\n",
       "  0.0020625931210815907,\n",
       "  0.0019607565417471859,\n",
       "  0.0018652590612570445,\n",
       "  0.0017944105202332139,\n",
       "  0.0017089455440226528,\n",
       "  0.0016356468743955095,\n",
       "  0.0015679198097334141,\n",
       "  0.0015029058429516023,\n",
       "  0.0014405033240715663],\n",
       " 'val_acc': [0.5,\n",
       "  0.60000002384185791,\n",
       "  0.70000004768371582,\n",
       "  0.70000004768371582,\n",
       "  0.70000004768371582,\n",
       "  0.89999997615814209,\n",
       "  0.89999997615814209,\n",
       "  0.80000001192092896,\n",
       "  0.80000001192092896,\n",
       "  0.80000001192092896,\n",
       "  0.80000001192092896,\n",
       "  0.89999997615814209,\n",
       "  0.89999997615814209,\n",
       "  0.80000001192092896,\n",
       "  0.80000001192092896,\n",
       "  0.80000001192092896,\n",
       "  0.80000001192092896,\n",
       "  0.80000001192092896,\n",
       "  0.80000001192092896,\n",
       "  0.80000001192092896,\n",
       "  0.80000001192092896,\n",
       "  0.80000001192092896,\n",
       "  0.80000001192092896,\n",
       "  0.80000001192092896,\n",
       "  0.80000001192092896,\n",
       "  0.80000001192092896,\n",
       "  0.80000001192092896,\n",
       "  0.80000001192092896,\n",
       "  0.80000001192092896,\n",
       "  0.80000001192092896,\n",
       "  0.80000001192092896,\n",
       "  0.80000001192092896,\n",
       "  0.80000001192092896,\n",
       "  0.80000001192092896,\n",
       "  0.80000001192092896,\n",
       "  0.80000001192092896,\n",
       "  0.80000001192092896,\n",
       "  0.80000001192092896,\n",
       "  0.80000001192092896,\n",
       "  0.80000001192092896],\n",
       " 'val_loss': [0.71169030666351318,\n",
       "  2.1615970134735107,\n",
       "  0.4328601062297821,\n",
       "  0.72143769264221191,\n",
       "  0.736328125,\n",
       "  0.26548981666564941,\n",
       "  0.27816122770309448,\n",
       "  0.529060959815979,\n",
       "  0.61176717281341553,\n",
       "  0.4870985746383667,\n",
       "  0.37665331363677979,\n",
       "  0.33338609337806702,\n",
       "  0.35212856531143188,\n",
       "  0.38279733061790466,\n",
       "  0.41582024097442627,\n",
       "  0.43944761157035828,\n",
       "  0.44218528270721436,\n",
       "  0.43482279777526855,\n",
       "  0.42955672740936279,\n",
       "  0.43860852718353271,\n",
       "  0.44281277060508728,\n",
       "  0.44484323263168335,\n",
       "  0.43915966153144836,\n",
       "  0.44429975748062134,\n",
       "  0.44934400916099548,\n",
       "  0.45312052965164185,\n",
       "  0.45475301146507263,\n",
       "  0.45418411493301392,\n",
       "  0.4492676854133606,\n",
       "  0.44664955139160156,\n",
       "  0.4540124237537384,\n",
       "  0.45808041095733643,\n",
       "  0.46652591228485107,\n",
       "  0.47463798522949219,\n",
       "  0.47812485694885254,\n",
       "  0.47876393795013428,\n",
       "  0.47516763210296631,\n",
       "  0.4779818058013916,\n",
       "  0.47649335861206055,\n",
       "  0.47622102499008179]}"
      ]
     },
     "execution_count": 116,
     "metadata": {},
     "output_type": "execute_result"
    }
   ],
   "source": [
    "history.history"
   ]
  },
  {
   "cell_type": "code",
   "execution_count": 117,
   "metadata": {
    "collapsed": false
   },
   "outputs": [
    {
     "data": {
      "text/plain": [
       "[0.47622102499008179, 0.80000001192092896]"
      ]
     },
     "execution_count": 117,
     "metadata": {},
     "output_type": "execute_result"
    }
   ],
   "source": [
    "score = model.evaluate(input_test, output_test, verbose=0)\n",
    "score"
   ]
  },
  {
   "cell_type": "markdown",
   "metadata": {},
   "source": [
    "## Model 2"
   ]
  },
  {
   "cell_type": "code",
   "execution_count": 122,
   "metadata": {
    "collapsed": true
   },
   "outputs": [],
   "source": [
    "model2 = Sequential()\n",
    "model2.add(Conv2D(50, (5, 5), activation='relu', input_shape=input_shape))\n",
    " # 32개의 4x4 Filter 를 이용하여 Convolutional Network생성\n",
    "model2.add(MaxPooling2D(pool_size=(3, 3))) # 3x3 Maxpooling \n",
    "model2.add(Conv2D(30, (4, 4), activation='relu', input_shape=input_shape))\n",
    "model2.add(MaxPooling2D(pool_size=(2, 2))) # 2x2 Maxpooling \n",
    "model2.add(Flatten()) # 쭉풀어서 Fully Connected Neural Network를 만든다. \n",
    "model2.add(Dense(2, activation='softmax'))"
   ]
  },
  {
   "cell_type": "code",
   "execution_count": 123,
   "metadata": {
    "collapsed": false
   },
   "outputs": [
    {
     "name": "stdout",
     "output_type": "stream",
     "text": [
      "_________________________________________________________________\n",
      "Layer (type)                 Output Shape              Param #   \n",
      "=================================================================\n",
      "conv2d_8 (Conv2D)            (None, 252, 252, 50)      1300      \n",
      "_________________________________________________________________\n",
      "max_pooling2d_8 (MaxPooling2 (None, 84, 84, 50)        0         \n",
      "_________________________________________________________________\n",
      "conv2d_9 (Conv2D)            (None, 81, 81, 30)        24030     \n",
      "_________________________________________________________________\n",
      "max_pooling2d_9 (MaxPooling2 (None, 40, 40, 30)        0         \n",
      "_________________________________________________________________\n",
      "flatten_6 (Flatten)          (None, 48000)             0         \n",
      "_________________________________________________________________\n",
      "dense_6 (Dense)              (None, 2)                 96002     \n",
      "=================================================================\n",
      "Total params: 121,332\n",
      "Trainable params: 121,332\n",
      "Non-trainable params: 0\n",
      "_________________________________________________________________\n"
     ]
    }
   ],
   "source": [
    "model2.summary()"
   ]
  },
  {
   "cell_type": "code",
   "execution_count": 124,
   "metadata": {
    "collapsed": true
   },
   "outputs": [],
   "source": [
    "model2.compile(loss='categorical_crossentropy',\n",
    "              optimizer=Adam(),\n",
    "              metrics=['accuracy'])"
   ]
  },
  {
   "cell_type": "code",
   "execution_count": 125,
   "metadata": {
    "collapsed": false,
    "scrolled": false
   },
   "outputs": [
    {
     "name": "stdout",
     "output_type": "stream",
     "text": [
      "Train on 90 samples, validate on 10 samples\n",
      "Epoch 1/40\n",
      "90/90 [==============================] - 1s - loss: 0.7125 - acc: 0.4667 - val_loss: 0.6814 - val_acc: 0.7000\n",
      "Epoch 2/40\n",
      "90/90 [==============================] - 0s - loss: 0.6080 - acc: 0.8556 - val_loss: 0.6586 - val_acc: 0.7000\n",
      "Epoch 3/40\n",
      "90/90 [==============================] - 0s - loss: 0.4500 - acc: 0.8667 - val_loss: 0.5858 - val_acc: 0.7000\n",
      "Epoch 4/40\n",
      "90/90 [==============================] - 0s - loss: 0.3791 - acc: 0.8333 - val_loss: 0.2891 - val_acc: 0.9000\n",
      "Epoch 5/40\n",
      "90/90 [==============================] - 0s - loss: 0.2775 - acc: 0.9000 - val_loss: 0.3965 - val_acc: 0.8000\n",
      "Epoch 6/40\n",
      "90/90 [==============================] - 0s - loss: 0.1812 - acc: 0.9556 - val_loss: 0.2022 - val_acc: 0.9000\n",
      "Epoch 7/40\n",
      "90/90 [==============================] - 0s - loss: 0.1389 - acc: 0.9667 - val_loss: 0.2486 - val_acc: 0.8000\n",
      "Epoch 8/40\n",
      "90/90 [==============================] - 0s - loss: 0.0684 - acc: 0.9778 - val_loss: 0.1031 - val_acc: 1.0000\n",
      "Epoch 9/40\n",
      "90/90 [==============================] - 0s - loss: 0.0485 - acc: 0.9778 - val_loss: 0.1829 - val_acc: 0.8000\n",
      "Epoch 10/40\n",
      "90/90 [==============================] - 0s - loss: 0.0401 - acc: 1.0000 - val_loss: 0.1561 - val_acc: 0.9000\n",
      "Epoch 11/40\n",
      "90/90 [==============================] - 0s - loss: 0.0177 - acc: 1.0000 - val_loss: 0.0454 - val_acc: 1.0000\n",
      "Epoch 12/40\n",
      "90/90 [==============================] - 0s - loss: 0.0187 - acc: 1.0000 - val_loss: 0.1317 - val_acc: 0.9000\n",
      "Epoch 13/40\n",
      "90/90 [==============================] - 0s - loss: 0.0100 - acc: 1.0000 - val_loss: 0.1339 - val_acc: 0.9000\n",
      "Epoch 14/40\n",
      "90/90 [==============================] - 0s - loss: 0.0058 - acc: 1.0000 - val_loss: 0.0540 - val_acc: 1.0000\n",
      "Epoch 15/40\n",
      "90/90 [==============================] - 0s - loss: 0.0045 - acc: 1.0000 - val_loss: 0.0564 - val_acc: 1.0000\n",
      "Epoch 16/40\n",
      "90/90 [==============================] - 0s - loss: 0.0028 - acc: 1.0000 - val_loss: 0.0769 - val_acc: 1.0000\n",
      "Epoch 17/40\n",
      "90/90 [==============================] - 0s - loss: 0.0024 - acc: 1.0000 - val_loss: 0.0755 - val_acc: 1.0000\n",
      "Epoch 18/40\n",
      "90/90 [==============================] - 0s - loss: 0.0020 - acc: 1.0000 - val_loss: 0.0629 - val_acc: 1.0000\n",
      "Epoch 19/40\n",
      "90/90 [==============================] - 0s - loss: 0.0016 - acc: 1.0000 - val_loss: 0.0488 - val_acc: 1.0000\n",
      "Epoch 20/40\n",
      "90/90 [==============================] - 0s - loss: 0.0014 - acc: 1.0000 - val_loss: 0.0434 - val_acc: 1.0000\n",
      "Epoch 21/40\n",
      "90/90 [==============================] - 0s - loss: 0.0013 - acc: 1.0000 - val_loss: 0.0466 - val_acc: 1.0000\n",
      "Epoch 22/40\n",
      "90/90 [==============================] - 0s - loss: 0.0011 - acc: 1.0000 - val_loss: 0.0457 - val_acc: 1.0000\n",
      "Epoch 23/40\n",
      "90/90 [==============================] - 0s - loss: 0.0010 - acc: 1.0000 - val_loss: 0.0441 - val_acc: 1.0000\n",
      "Epoch 24/40\n",
      "90/90 [==============================] - 0s - loss: 9.2702e-04 - acc: 1.0000 - val_loss: 0.0426 - val_acc: 1.0000\n",
      "Epoch 25/40\n",
      "90/90 [==============================] - 0s - loss: 8.4643e-04 - acc: 1.0000 - val_loss: 0.0412 - val_acc: 1.0000\n",
      "Epoch 26/40\n",
      "90/90 [==============================] - 0s - loss: 7.8929e-04 - acc: 1.0000 - val_loss: 0.0378 - val_acc: 1.0000\n",
      "Epoch 27/40\n",
      "90/90 [==============================] - 0s - loss: 7.1640e-04 - acc: 1.0000 - val_loss: 0.0397 - val_acc: 1.0000\n",
      "Epoch 28/40\n",
      "90/90 [==============================] - 0s - loss: 6.5236e-04 - acc: 1.0000 - val_loss: 0.0443 - val_acc: 1.0000\n",
      "Epoch 29/40\n",
      "90/90 [==============================] - 0s - loss: 6.2590e-04 - acc: 1.0000 - val_loss: 0.0465 - val_acc: 1.0000\n",
      "Epoch 30/40\n",
      "90/90 [==============================] - 0s - loss: 5.6936e-04 - acc: 1.0000 - val_loss: 0.0383 - val_acc: 1.0000\n",
      "Epoch 31/40\n",
      "90/90 [==============================] - 0s - loss: 5.2576e-04 - acc: 1.0000 - val_loss: 0.0343 - val_acc: 1.0000\n",
      "Epoch 32/40\n",
      "90/90 [==============================] - 0s - loss: 4.9576e-04 - acc: 1.0000 - val_loss: 0.0327 - val_acc: 1.0000\n",
      "Epoch 33/40\n",
      "90/90 [==============================] - 0s - loss: 4.6248e-04 - acc: 1.0000 - val_loss: 0.0337 - val_acc: 1.0000\n",
      "Epoch 34/40\n",
      "90/90 [==============================] - 0s - loss: 4.3219e-04 - acc: 1.0000 - val_loss: 0.0352 - val_acc: 1.0000\n",
      "Epoch 35/40\n",
      "90/90 [==============================] - 0s - loss: 4.0702e-04 - acc: 1.0000 - val_loss: 0.0352 - val_acc: 1.0000\n",
      "Epoch 36/40\n",
      "90/90 [==============================] - 0s - loss: 3.8466e-04 - acc: 1.0000 - val_loss: 0.0332 - val_acc: 1.0000\n",
      "Epoch 37/40\n",
      "90/90 [==============================] - 0s - loss: 3.5988e-04 - acc: 1.0000 - val_loss: 0.0334 - val_acc: 1.0000\n",
      "Epoch 38/40\n",
      "90/90 [==============================] - 0s - loss: 3.4036e-04 - acc: 1.0000 - val_loss: 0.0332 - val_acc: 1.0000\n",
      "Epoch 39/40\n",
      "90/90 [==============================] - 0s - loss: 3.2073e-04 - acc: 1.0000 - val_loss: 0.0318 - val_acc: 1.0000\n",
      "Epoch 40/40\n",
      "90/90 [==============================] - 0s - loss: 3.0824e-04 - acc: 1.0000 - val_loss: 0.0332 - val_acc: 1.0000\n"
     ]
    }
   ],
   "source": [
    "history = model2.fit(input_train, output_train,\n",
    "                    batch_size=batch_size,\n",
    "                    epochs=epochs,\n",
    "                    verbose=1,\n",
    "                    validation_data=(input_test, output_test))"
   ]
  },
  {
   "cell_type": "code",
   "execution_count": 126,
   "metadata": {
    "collapsed": false
   },
   "outputs": [
    {
     "data": {
      "text/plain": [
       "[0.03319043293595314, 1.0]"
      ]
     },
     "execution_count": 126,
     "metadata": {},
     "output_type": "execute_result"
    }
   ],
   "source": [
    "score = model2.evaluate(input_test, output_test, verbose=0)\n",
    "score"
   ]
  }
 ],
 "metadata": {
  "anaconda-cloud": {},
  "kernelspec": {
   "display_name": "Python [work]",
   "language": "python",
   "name": "Python [work]"
  },
  "language_info": {
   "codemirror_mode": {
    "name": "ipython",
    "version": 3
   },
   "file_extension": ".py",
   "mimetype": "text/x-python",
   "name": "python",
   "nbconvert_exporter": "python",
   "pygments_lexer": "ipython3",
   "version": "3.5.2"
  }
 },
 "nbformat": 4,
 "nbformat_minor": 0
}
