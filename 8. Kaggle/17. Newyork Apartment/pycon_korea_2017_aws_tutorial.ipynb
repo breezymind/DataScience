{
 "cells": [
  {
   "cell_type": "markdown",
   "metadata": {},
   "source": [
    "# Pycon Korea 2017 \n",
    "## 캐글(Kaggle) 뉴욕시 임대 아파트 문제 머신러닝 튜토리얼\n",
    "![pycon-2017-kr](img/pycon2017-logo-yellow.png)\n",
    "\n",
    "### 일시 : 2017년 8월 15일, 시간 오전 10시 ~ 오후 2시\n",
    "### 장소 : 코엑스 그랜드볼륨 2층 \n",
    "### 링크 : https://www.pycon.kr/2017/program/tutorial/1\n",
    "### 온오프믹스 : https://onoffmix.com/event/107250\n",
    "\n",
    "<br>\n",
    "\n",
    "# AWS 세팅하기"
   ]
  },
  {
   "cell_type": "markdown",
   "metadata": {
    "collapsed": true
   },
   "source": [
    "# 1. AWS에서 EC2  인스턴스 생성"
   ]
  },
  {
   "cell_type": "markdown",
   "metadata": {},
   "source": [
    "## 1) AWS 가입하기\n",
    "\n",
    "### [가입 설명](https://medium.com/@bluesh55/aws-%EC%95%84%EB%A7%88%EC%A1%B4-%EC%9B%B9-%EC%84%9C%EB%B9%84%EC%8A%A4-%EA%B0%80%EC%9E%85%ED%95%98%EA%B8%B0-b6c488485198)\n",
    "\n",
    "- 이메일, 신용/직불 카드번호 (만료 날짜 기입)\n",
    "\n",
    "- 자세한 aws 내용을 아시고 싶은 분은 [생활코딩 강의](https://opentutorials.org/course/2717) 를 참조하세요.\n",
    "\n",
    "- Kaggle 튜토리얼에 필요한 내용만 설치하는 것을 목표로 합니다.\n",
    "\n",
    "\n",
    "\n",
    "### aws를 왜 갑자기 하나요?\n",
    "\n",
    "- 파이콘 튜토리얼 발표 전날 밤에 준비했습니다.. 맥을 쓰다보니 윈도우 환경을 고려하지 못한 제 불찰입니다..ㅜㅜ\n",
    "\n",
    "- 사람마다 모두 환경(운영체제, 파이썬 버전)이 다르기 때문에 하나 하나 알려드리기 어려워서\n",
    "\n",
    "- xgboost가 c++을 쓰다보니깐 gcc 컴파일러 버전 때문에 pip/conda install 에러가 발생. (윈도우에서는 MinGW를 직접 빌드해야 하므로 어려움이 있음)\n",
    "\n",
    "- [xgboost library 설치가이드](https://xgboost.readthedocs.io/en/latest/build.html#)\n",
    "\n",
    "- 윈도우 / 맥 상관없이 aws로 인스턴스를 만들어서 캐글 튜토리얼을 진행하는 것이 목표"
   ]
  },
  {
   "cell_type": "markdown",
   "metadata": {},
   "source": [
    "##  2) 인스턴스 생성\n",
    "\n",
    "- [Amazon AWS](https://aws.amazon.com/ko/) 에서 로그인 > Console > EC2\n",
    "- 중앙의 Launch instance(파란색 버튼) 클릭 > 원하는 OS를 선택(Free tier eligible) 붙은 것으로 선택\n",
    "- 사양을 확인하고 Review and Launch(파란색 버튼) 클릭\n",
    "\n",
    "![aws_1](./img/aws_1.png)\n",
    "\n",
    "- Choose AMI는 Ubuntu server, instance는 t2.medium으로 선택 (vCpus 2, Memory 4GIB)\n",
    "- 무료 버전인 t2.micro 1기가 짜리는 메모리 부족으로 jupyter memory가 터짐\n",
    "- 그래서 오늘 한 4시간 쓴다고 생각하고 시간당 0.064 달러이니깐, 넉넉하게 5백원 안팍이면 되지 않을까...\n",
    "- [aws 온디맨드 가격 정책](https://aws.amazon.com/ko/ec2/pricing/on-demand/)"
   ]
  },
  {
   "cell_type": "code",
   "execution_count": 2,
   "metadata": {
    "collapsed": false
   },
   "outputs": [
    {
     "data": {
      "text/plain": [
       "364.8"
      ]
     },
     "execution_count": 2,
     "metadata": {},
     "output_type": "execute_result"
    }
   ],
   "source": [
    "0.064 * 5 * 1140"
   ]
  },
  {
   "cell_type": "markdown",
   "metadata": {},
   "source": [
    "##  3) Port 번호\n",
    "\n",
    "- 인스턴스 생성할 때 하거나 현재 구동중인 인스턴스를 클릭 > 하단의 Description > Security groups 의 보안그룹 이름 확인\n",
    "- AWS console에서 좌측 메뉴 중 NETWORK & SECURITY > Security Groups > 목록에서 자신의 인스턴스에 연결된 보안그룹 클릭\n",
    "- 하단에서 'Inbound' 탭에서 현재 오픈된 포트와 허용된 IP 확인 가능\n",
    "- Source를 '0.0.0.0'으로 설정하면 해당 port는 모든 ip에서 접근 가능하다는 뜻\n",
    "- 외부에서 접속 가능한 port를 추가하려면 edit > add rules 에서 추가\n",
    "- 혹시 rstudio 등 외부에서 접근하는 프로그램을 설치했을 때 접속이 안 되면 여기를 꼭 확인!\n",
    "\n",
    "- 실습을 위해 8888(jupyter)만 오픈  [다른 Example... 8787(rstudio-server), 3306(mysql), 80(http)]\n",
    "\n",
    "![aws_1](./img/aws_2.png)"
   ]
  },
  {
   "cell_type": "markdown",
   "metadata": {},
   "source": [
    "![aws_1](./img/aws_3.png)"
   ]
  },
  {
   "cell_type": "markdown",
   "metadata": {},
   "source": [
    "##  4) Keyfile 생성\n",
    "\n",
    "![aws_1](./img/aws_4.png)\n",
    "\n",
    "- keyfile을 처음 사용하는 경우, Create a ney key pair로 선택한 다음에 이름을 kaggletest로 적어서 다운로드하여 잘 보관\n",
    "- pending에서 running으로 상태가 바뀌면 완료~!"
   ]
  },
  {
   "cell_type": "markdown",
   "metadata": {},
   "source": [
    "![aws_1](./img/aws_5.png)\n",
    "\n",
    "- pending에서 running으로 상태가 바뀌면 완료~!"
   ]
  },
  {
   "cell_type": "markdown",
   "metadata": {},
   "source": [
    "## 5) Putty  다운로드 및 key 파일 변환\n",
    "\n",
    "- [Putty 다운로드](www.putty.org)\n",
    "![aws_1](./img/aws_6.png)\n",
    "\n",
    "- Puttygen을 실행, Load private key를 선택하여 아까 다운로드 받은 key를 선택함 (all files에서 찾음)"
   ]
  },
  {
   "cell_type": "markdown",
   "metadata": {},
   "source": [
    "![aws_1](./img/aws_7.png)"
   ]
  },
  {
   "cell_type": "markdown",
   "metadata": {},
   "source": [
    "- 경고창에서 예를 누르고 다시 원래 창의 버튼에서 Save Private key를 눌러서 kaggletest.ppk 파일로 저장함"
   ]
  },
  {
   "cell_type": "markdown",
   "metadata": {},
   "source": [
    "![aws_1](./img/aws_8.png)"
   ]
  },
  {
   "cell_type": "markdown",
   "metadata": {},
   "source": [
    "![aws_1](./img/aws_9.png)\n",
    "\n",
    "### Mac\n",
    "\n",
    "```\n",
    "- (Mac) cp (디렉토리명)/kaggletest.pem $HOME/.ssh/ 로 파일 옮김\n",
    "- chmod 600 $HOME/.ssh/kaggletest.pem\n",
    "- chmod 700 $HOME/.ssh\n",
    "- chmod 400 $HOME/.ssh/kaggletest.pem\n",
    "```"
   ]
  },
  {
   "cell_type": "markdown",
   "metadata": {},
   "source": [
    "## 6) Putty 접속\n",
    "\n",
    "- (윈도우) \n",
    "    - Putty 실행\n",
    "    - Connetion -> SSH -> Auth 에 가서 Private key file for authentication에 아까 생성한 kaggletest.ppk 파일 로드 \n",
    "    - ec2 관리창에서 IPv4 Public IP 확인 \n",
    "    - Session에서 해당 Public IP 적어주고 Port는 22로 적은 다음에 적당한 이름으로 세션 저장하여 실행\n",
    "    - 실행 후 ok 버튼 누르고 최초 1회 접속시 username은 ubuntu 로 접속\n",
    "\n",
    "![aws_1](./img/aws_10.png)\n",
    "\n",
    "![aws_1](./img/aws_11.png)\n",
    "\n",
    "![aws_1](./img/aws_12.png)\n",
    "\n",
    "![aws_1](./img/aws_13.png)\n",
    "\n",
    "- (맥)\n",
    "    - ssh -i $HOME/.ssh/kaggletest.pem ubuntu@[public ip 적어주면됨]\n",
    "\n",
    "- 참고 링크\n",
    "  - [putty로 AWS 접속 관련 공식 가이드](http://docs.aws.amazon.com/ko_kr/AWSEC2/latest/UserGuide/putty.html)\n",
    "  - [download putty, puttygen](https://www.chiark.greenend.org.uk/~sgtatham/putty/latest.html)\n",
    "  - [mac에서 aws 접속](http://blog.freezner.com/archives/1249)"
   ]
  },
  {
   "cell_type": "markdown",
   "metadata": {},
   "source": [
    "# 2. 로컬에서 putty로 AWS 접속"
   ]
  },
  {
   "cell_type": "markdown",
   "metadata": {},
   "source": [
    "## 1) 최초 1회 ppk로 접속"
   ]
  },
  {
   "cell_type": "markdown",
   "metadata": {},
   "source": [
    "## 2) 비밀번호 접속 세팅"
   ]
  },
  {
   "cell_type": "markdown",
   "metadata": {},
   "source": [
    "- 참고 링크\n",
    "  - [keyfile 없이 비밀번호로 AWS 접속하는 방법](https://stackoverflow.com/questions/6119774/ssh-to-aws-instance-without-key-pairs)"
   ]
  },
  {
   "cell_type": "markdown",
   "metadata": {},
   "source": [
    "![aws_1](./img/aws_15.png)\n",
    "\n",
    "\n",
    "- 키파일로 서버 인스턴스에 접속한 상태에서 아래 과정 수행함\n",
    "- 기본 `ubuntu` 계정 외에 자신의 sudo 계정을 새로 생성하려면 아래 명령어 실행\n",
    "```\n",
    "sudo adduser [your username]\n",
    "sudo adduser [your username] sudo\n",
    "```\n",
    "  - 굳이 입력할 필요 없는 정보들은 그냥 비워둔 상태로 엔터 치면 됨\n",
    "  - 비밀번호만 필수임\n",
    "\n",
    "\n",
    "- 키파일 없이 비밀번호로 ssh 로그인이 가능하게 하려면 `sshd_config` 파일을 수정해야 함\n",
    "```\n",
    "sudo vi /etc/ssh/sshd_config\n",
    "PasswordAuthentication yes     # 이렇게 바꿔줄 것\n",
    "sudo service ssh restart\n",
    "```\n",
    "\n",
    "![aws_1](./img/aws_16.png)\n",
    "\n",
    "\n",
    "- putty에서 새로운 커넥션을 생성하여 비밀번호로 로그인이 되는지 확인하고 문제 없을 경우 키파일 삭제 또는 잘 보관\n",
    "\n",
    "![aws_1](./img/aws_17.png)"
   ]
  },
  {
   "cell_type": "markdown",
   "metadata": {},
   "source": [
    "## 3) 서버 생성 후 기본적인 명령어(확인용)"
   ]
  },
  {
   "cell_type": "markdown",
   "metadata": {},
   "source": [
    "```\n",
    "sudo apt-get update\n",
    "sudo apt-get install htop    # htop설치\n",
    "htop 또는 top    # 시스템 메모리, CPU 사용량 확인\n",
    "df -h    # 하드디스크 사용량 확인\n",
    "sync && echo 3 | sudo tee /proc/sys/vm/drop_caches    # 캐시 메모리 삭제\n",
    "```"
   ]
  },
  {
   "cell_type": "markdown",
   "metadata": {},
   "source": [
    "# 3. 파이썬 라이브러리 설치"
   ]
  },
  {
   "cell_type": "markdown",
   "metadata": {},
   "source": [
    "### 1) Python3 / pip 설치\n",
    "\n",
    "- sudo apt-get install python3\n",
    "- sudo apt-get install python3-pip\n",
    "- pip3 install --upgrade pip\n",
    "\n",
    "\n",
    "### 2) 필수 라이브러리 설치\n",
    " \n",
    "- sudo pip3 install jupyter\n",
    "- sudo pip3 install numpy\n",
    "- sudo pip3 install pandas\n",
    "- sudo pip3 install matplotlib\n",
    "- sudo pip3 install scikit-learn\n",
    "- sudo pip3 install seaborn\n",
    "- sudo pip3 install statsmodels\n",
    "\n",
    "\n",
    "### 3) Xgboost 라이브러리 설치\n",
    "\n",
    "- git 클로닝 및 빌드 작업\n",
    "- cd ~\n",
    "- git clone --recursive https://github.com/dmlc/xgboost\n",
    "- cd xgboost; \n",
    "- ./build.sh\n",
    "- sudo pip3 install -e python-package  \n",
    "\n",
    "![aws_1](./img/aws_18.png)\n",
    "![aws_1](./img/aws_19.png)\n",
    "![aws_1](./img/aws_20.png)"
   ]
  },
  {
   "cell_type": "markdown",
   "metadata": {},
   "source": [
    "# 4. 발표 자료 다운로드 \n",
    "\n",
    "- cd ~\n",
    "- mkdir workspace\n",
    "- cd workspace\n",
    "- ls\n",
    "\n",
    "- wget https://www.dropbox.com/s/0ggaqvshr29emzj/pycon2017_kr.zip?dl=0\n",
    "- sudo apt-get install unzip\n",
    "- unzip pycon2017_kr.zip?dl=0\n",
    "\n",
    "- 발표 자료 정상적으로 확인"
   ]
  },
  {
   "cell_type": "markdown",
   "metadata": {},
   "source": [
    "# 5. Jupyter Notebook server 세팅\n",
    "\n",
    "- [참고 링크](https://financedata.github.io/posts/jupyter-notebook-authentication.html)\n",
    "\n",
    "\n",
    "- jupyter notebook --generate-config  실행하여 파일 생성\n",
    "\n",
    "- python3 실행 후 아래 코드 실행하여 나오는 `sha1:f24baff49ac5:863dd2ae747212ede58125302d227f0ca7b12bb3` 비슷하게 생긴 코드 복사\n",
    "```\n",
    "from notebook.auth import passwd\n",
    "passwd()\n",
    "```\n",
    "\n",
    "![aws_1](./img/aws_21.png)\n",
    "\n",
    "\n",
    "- `jupyter_notebook_config.py`를 열어서 아래의 내용을 입력\n",
    "- vi //jupyter_notebook_config.py\n",
    "\n",
    "\n",
    "```\n",
    "c = get_config()\n",
    "c.NotebookApp.password =\n",
    "u'sha1:f24baff49ac5:863dd2ae747212ede58125302d227f0ca7b12bb3'\n",
    "```\n",
    "![aws_1](./img/aws_22.png)\n",
    "\n",
    "\n",
    "- 웹에서 접속할 수 있도록 `jupyter_notebook_config.py`를 열어서 아래의 내용을 입력\n",
    "```\n",
    "# The IP address the notebook server will listen on.\n",
    "# c.NotebookApp.ip = 'localhost'\n",
    "c.NotebookApp.ip = '[자신의 aws public ip address]'\n",
    "# c.NotebookApp.port_retries = 50\n",
    "c.NotebookApp.port_retries = 8888\n",
    "```\n",
    "\n",
    "\n",
    "- 아래 명령어로 `ipython-notebook server`를 구동함\n",
    "```\n",
    "jupyter notebook --ip=* --no-browser\n",
    "```\n",
    "- 웹 브라우저에서 `https://자신의_ip_address:8888`로 접속(`https`임을 유의!). \n",
    "\n",
    "\n",
    "- 백그라운드에서 실행하고 싶으면 아래 명령어를 실행\n",
    "```\n",
    "nohup jupyter notebook --ip=* --no-browser > jupyter-log.out&\n",
    "```"
   ]
  },
  {
   "cell_type": "markdown",
   "metadata": {},
   "source": [
    "# 기타. Filezlia 다운로드\n",
    "\n",
    "- FTP 접속 (데이터 다운로드)을 위해 FileZlia 설치 (윈도우/맥 모두)\n",
    "\n",
    "![aws_1](./img/aws_26.png)\n",
    "\n",
    "- [FileZilla 다운로드](https://filezilla-project.org/)"
   ]
  },
  {
   "cell_type": "markdown",
   "metadata": {},
   "source": [
    "# 기타. pycharm 세팅 (생략)"
   ]
  },
  {
   "cell_type": "markdown",
   "metadata": {},
   "source": [
    "## 1) pycharm과 서버 연결"
   ]
  },
  {
   "cell_type": "markdown",
   "metadata": {},
   "source": [
    "### 서버 쪽 준비\n",
    "  - 서버에 매핑할 포인트에 디렉토리 생성\n",
    "    - `mkdir mydirectory`\n",
    "  - 해당 디렉토리 안에서 빈 파일 하나 생성\n",
    "    - `vi memo.txt` (:wq 로 저장)\n",
    "  - 완전히 빈 디렉토리는 pycharm에서 다운로드 되지 않기 때문"
   ]
  },
  {
   "cell_type": "markdown",
   "metadata": {},
   "source": [
    "### 로컬 쪽 준비\n",
    "  - 로컬에 다운로드할 디렉토리 생성\n",
    "  - pycharm 다운로드\n",
    "  - File > Open > 로컬에 생성한 디렉토리 선택\n",
    "  - Tools > Deployment > Configuration > +버튼 누름\n",
    "  - Add server에서 이름(알아보기 위한 용도) 넣고 Type을 SFTP로 설정 > OK"
   ]
  },
  {
   "cell_type": "markdown",
   "metadata": {},
   "source": [
    "  - 'connection' 탭에서 아래 순서로 세팅\n",
    "    - SFTP host: aws public IP\n",
    "    - User name: 서버 로그인 username\n",
    "    - Password: 비밀번호\n",
    "    - Root path: 'autodetect' 누르면 자동으로 채워짐\n",
    "    - 'Test SFTP connection..' 버튼 눌러서 제대로 연결되는지 확인\n",
    " "
   ]
  },
  {
   "cell_type": "markdown",
   "metadata": {},
   "source": [
    "  - 'mappings' 탭에서 아래와 같이 세팅\n",
    "    - Deployment path on server '...': 부분에 실제 로컬 디렉토리에 매핑될 패스를 적어 줌. 이때 루트패스 이후의 경로만 적음\n",
    "    - 예를 들어 매핑할 위치가 `/home/lynn/workspace`이면 deployment path에는 `/workspace`만 적음. 루트 경로를 매핑하고 싶으면 슬래시 `/`하나만 적음\n",
    "  - OK 버튼 누름"
   ]
  },
  {
   "cell_type": "markdown",
   "metadata": {},
   "source": [
    "  - Tool > Deployment > Automatic upload 체크\n",
    "  - Tool > Deployment > Browse Remote Host 누르면 우측에 탭이 생김. 거기서 색깔이 표시되는 부분이 현재 매핑된 경로\n",
    "  - 매핑된 경로 디렉토리에서 우클릭 > Download from here\n",
    "  - 서버에서 무언가 바뀌었을 경우 Remote host 탭 열린 상태에서 F5 누르거나 상단의 새로고침 표시 클릭"
   ]
  },
  {
   "cell_type": "markdown",
   "metadata": {},
   "source": [
    "## 2) python 인터프리터 세팅"
   ]
  },
  {
   "cell_type": "markdown",
   "metadata": {},
   "source": [
    "- File > Settings > 'interpreter' 검색 > Project interpreter > 우측의 나사모양 클릭 > Add remote > Configure python remote interpreter > SSH Credentials 체크"
   ]
  },
  {
   "cell_type": "markdown",
   "metadata": {},
   "source": [
    "- host, username, password 기입\n",
    "- Python interpreter path에서 우측 '...' 눌러 실제 매핑할 path로 선택(보통은 python3이면 `/usr/bin/python3`)\n",
    "- 잠시 시간 소요 후 로딩 완료되면 OK 버튼"
   ]
  },
  {
   "cell_type": "markdown",
   "metadata": {},
   "source": [
    "# RStudio-server 설치 (생략)"
   ]
  },
  {
   "cell_type": "markdown",
   "metadata": {},
   "source": [
    "- 참고 링크\n",
    "  - [RStudio-server 공식 다운로드 페이지](https://www.rstudio.com/products/rstudio/download-server/)\n",
    "  - 위 가이드 페이지에서 'Debian/Ubuntu' 탭에 나온 대로 따라할 것"
   ]
  },
  {
   "cell_type": "markdown",
   "metadata": {},
   "source": [
    "- ```sudo apt-get install r-base\n",
    "sudo apt-get install gdebi-core\n",
    "wget https://download2.rstudio.org/rstudio-server-1.0.153-amd64.deb\n",
    "sudo gdebi rstudio-server-1.0.153-amd64.deb```"
   ]
  },
  {
   "cell_type": "markdown",
   "metadata": {},
   "source": [
    "- aws console에서 port 8787 열려있는지 확인!\n",
    "- 다운로드가 끝나면 웹 브라우저에서 `자신의_ip_address:8787` 경로로 접속하여 서버 username/password로 로그인"
   ]
  },
  {
   "cell_type": "markdown",
   "metadata": {},
   "source": [
    "# MySQL 세팅 (생략)"
   ]
  },
  {
   "cell_type": "markdown",
   "metadata": {},
   "source": [
    "## 1) 서버측 설치"
   ]
  },
  {
   "cell_type": "markdown",
   "metadata": {},
   "source": [
    "- 아래 명령어로 설치. 설치 과정에서 비밀번호 설정\n",
    "```\n",
    "sudo apt-get install mysql-server\n",
    "```\n",
    "- 외부 접속을 위해 `my.cnf` 설정 바꿔주어야 함\n",
    "```\n",
    "cd /etc/mysql    # /etc/mysql 로 이동\n",
    "sudo rm my.cnf    # 기존에 있던 my.cnf의 symbolic link 삭제\n",
    "sudo vi my.cnf    # 새로운 my.cnf 생성\n",
    "```\n",
    "\n",
    "- `my.cnf`에 아래 내용 복사하여 붙여넣고 저장\n",
    "```\n",
    "[mysqld]\n",
    "datadir=/var/lib/mysql\n",
    "socket=/var/lib/mysql/mysql.sock\n",
    "bind-address=0.0.0.0           # 이 부분을 전체 ip로 열어주는 것이 핵심\n",
    "```\n",
    "```\n",
    "[mysqld_safe]\n",
    "log-error=/var/log/mysqld.log\n",
    "pid-file=/var/run/mysqld/mysqld.pid\n",
    "```\n",
    "\n",
    "- 아래 명령어로 mysql 재실행\n",
    "```\n",
    "sudo service mysql reload\n",
    "```\n",
    "- aws console에서 port 3306 열려있는지 확인!"
   ]
  },
  {
   "cell_type": "markdown",
   "metadata": {},
   "source": [
    "## 2) 로컬에서 세팅"
   ]
  },
  {
   "cell_type": "markdown",
   "metadata": {},
   "source": [
    "- 참고 링크\n",
    "  - 워크벤치 다운로드 ([download MySQL workbench](https://dev.mysql.com/downloads/workbench/6.2.5.html))"
   ]
  },
  {
   "cell_type": "markdown",
   "metadata": {},
   "source": [
    "- 로컬pc의 운영체제에 맞는 것으로 워크벤치 다운로드(무설치 `.zip` 확장자 버전 권장)\n",
    "- 첫 화면에서 'MYSQL Connections' 우측의 + 버튼 클릭\n",
    "- Connection method: Standard TCP/\n",
    "- 세팅 후 Test connection에서 문제가 없으면 완료"
   ]
  }
 ],
 "metadata": {
  "kernelspec": {
   "display_name": "Python 3",
   "language": "python",
   "name": "python3"
  },
  "language_info": {
   "codemirror_mode": {
    "name": "ipython",
    "version": 3
   },
   "file_extension": ".py",
   "mimetype": "text/x-python",
   "name": "python",
   "nbconvert_exporter": "python",
   "pygments_lexer": "ipython3",
   "version": "3.5.1rc1"
  }
 },
 "nbformat": 4,
 "nbformat_minor": 1
}
