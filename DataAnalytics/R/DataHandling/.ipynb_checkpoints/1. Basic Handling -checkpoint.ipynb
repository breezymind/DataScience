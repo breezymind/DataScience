{
 "cells": [
  {
   "cell_type": "markdown",
   "metadata": {},
   "source": [
    "# 데이터 전처리 및 저장 단계 \n",
    "    R-package인 data.table의 주요 사용법을 정리 및 숙지를 목표로 함\n",
    "    다양한 기능들 중 데이터탐색, 연산, 병합에 초점\n",
    "    data.table()의 함수 옵션을 알아보고 example을 통해 적용방법을 알아볼 것임\n",
    "    Data : titanic data\n",
    "    titanic호에 탔던 승객들의 정보에 대한 데이터"
   ]
  },
  {
   "cell_type": "code",
   "execution_count": 2,
   "metadata": {
    "collapsed": false
   },
   "outputs": [
    {
     "name": "stderr",
     "output_type": "stream",
     "text": [
      "Installing package into 'C:/Users/byung/Documents/R/win-library/3.3'\n",
      "(as 'lib' is unspecified)\n"
     ]
    },
    {
     "name": "stdout",
     "output_type": "stream",
     "text": [
      "package 'data.table' successfully unpacked and MD5 sums checked\n",
      "\n",
      "The downloaded binary packages are in\n",
      "\tC:\\Users\\byung\\AppData\\Local\\Temp\\RtmpqEDUJ7\\downloaded_packages\n"
     ]
    }
   ],
   "source": [
    "install.packages(\"data.table\", repos = \"http://cran.us.r-project.org\") "
   ]
  },
  {
   "cell_type": "code",
   "execution_count": 3,
   "metadata": {
    "collapsed": true
   },
   "outputs": [],
   "source": [
    "library(data.table)"
   ]
  },
  {
   "cell_type": "code",
   "execution_count": 6,
   "metadata": {
    "collapsed": false
   },
   "outputs": [
    {
     "data": {
      "text/html": [
       "\"data.frame\""
      ],
      "text/latex": [
       "\"data.frame\""
      ],
      "text/markdown": [
       "\"data.frame\""
      ],
      "text/plain": [
       "[1] \"data.frame\""
      ]
     },
     "metadata": {},
     "output_type": "display_data"
    }
   ],
   "source": [
    "titanic <- read.csv(\"statistical_analysis_base_data/titanic.csv\", fileEncoding=\"UTF-8\")\n",
    "class(titanic)"
   ]
  },
  {
   "cell_type": "code",
   "execution_count": 9,
   "metadata": {
    "collapsed": false
   },
   "outputs": [
    {
     "data": {
      "text/html": [
       "<ol class=list-inline>\n",
       "\t<li>\"data.table\"</li>\n",
       "\t<li>\"data.frame\"</li>\n",
       "</ol>\n"
      ],
      "text/latex": [
       "\\begin{enumerate*}\n",
       "\\item \"data.table\"\n",
       "\\item \"data.frame\"\n",
       "\\end{enumerate*}\n"
      ],
      "text/markdown": [
       "1. \"data.table\"\n",
       "2. \"data.frame\"\n",
       "\n",
       "\n"
      ],
      "text/plain": [
       "[1] \"data.table\" \"data.frame\""
      ]
     },
     "metadata": {},
     "output_type": "display_data"
    }
   ],
   "source": [
    "titanic.dt <- data.table(titanic) \n",
    "class(titanic.dt)"
   ]
  },
  {
   "cell_type": "code",
   "execution_count": 11,
   "metadata": {
    "collapsed": false
   },
   "outputs": [
    {
     "name": "stdout",
     "output_type": "stream",
     "text": [
      "Classes 'data.table' and 'data.frame':\t1309 obs. of  15 variables:\n",
      " $ X        : int  1 2 3 4 5 6 7 8 9 10 ...\n",
      " $ pclass   : Factor w/ 3 levels \"1st\",\"2nd\",\"3rd\": 1 1 1 1 1 1 1 1 1 1 ...\n",
      " $ survived : int  1 1 0 0 0 1 1 0 1 0 ...\n",
      " $ name     : Factor w/ 1307 levels \"Abbing, Mr. Anthony\",..: 22 24 25 26 27 31 46 47 51 55 ...\n",
      " $ sex      : Factor w/ 2 levels \"female\",\"male\": 1 2 1 2 1 2 1 2 1 2 ...\n",
      " $ age      : num  29 0.917 2 30 25 ...\n",
      " $ sibsp    : int  0 1 1 1 1 0 1 0 2 0 ...\n",
      " $ parch    : int  0 2 2 2 2 0 0 0 0 0 ...\n",
      " $ ticket   : Factor w/ 929 levels \"110152\",\"110413\",..: 188 50 50 50 50 125 93 16 77 826 ...\n",
      " $ fare     : num  211 152 152 152 152 ...\n",
      " $ cabin    : Factor w/ 187 levels \"\",\"A10\",\"A11\",..: 45 81 81 81 81 151 147 17 63 1 ...\n",
      " $ embarked : Factor w/ 3 levels \"Cherbourg\",\"Queenstown\",..: 3 3 3 3 3 3 3 3 3 1 ...\n",
      " $ boat     : Factor w/ 28 levels \"\",\"1\",\"10\",\"11\",..: 13 4 1 1 1 14 3 1 28 1 ...\n",
      " $ body     : int  NA NA NA 135 NA NA NA NA NA 22 ...\n",
      " $ home.dest: Factor w/ 369 levels \"\",\"?Havana, Cuba\",..: 309 231 231 231 231 237 163 25 23 229 ...\n",
      " - attr(*, \".internal.selfref\")=<externalptr> \n"
     ]
    }
   ],
   "source": [
    "str(titanic.dt)"
   ]
  },
  {
   "cell_type": "code",
   "execution_count": 14,
   "metadata": {
    "collapsed": false
   },
   "outputs": [
    {
     "data": {
      "text/html": [
       "<table>\n",
       "<thead><tr><th></th><th scope=col>X</th><th scope=col>pclass</th><th scope=col>survived</th><th scope=col>name</th><th scope=col>sex</th><th scope=col>age</th><th scope=col>sibsp</th><th scope=col>parch</th><th scope=col>ticket</th><th scope=col>fare</th><th scope=col>cabin</th><th scope=col>embarked</th><th scope=col>boat</th><th scope=col>body</th><th scope=col>home.dest</th></tr></thead>\n",
       "<tbody>\n",
       "\t<tr><th scope=row>1</th><td>1                            </td><td>1st                          </td><td>1                            </td><td>Allen, Miss. Elisabeth Walton</td><td>female                       </td><td>29                           </td><td>0                            </td><td>0                            </td><td>24160                        </td><td>211.337494                   </td><td>B5                           </td><td>Southampton                  </td><td>2                            </td><td>NA                           </td><td>St Louis, MO                 </td></tr>\n",
       "\t<tr><th scope=row>2</th><td>2                              </td><td>1st                            </td><td>1                              </td><td>Allison, Master. Hudson Trevor </td><td>male                           </td><td>0.916700006                    </td><td>1                              </td><td>2                              </td><td>113781                         </td><td>151.550003                     </td><td>C22 C26                        </td><td>Southampton                    </td><td>11                             </td><td>NA                             </td><td>Montreal, PQ / Chesterville, ON</td></tr>\n",
       "\t<tr><th scope=row>3</th><td>3                              </td><td>1st                            </td><td>0                              </td><td>Allison, Miss. Helen Loraine   </td><td>female                         </td><td>2                              </td><td>1                              </td><td>2                              </td><td>113781                         </td><td>151.550003                     </td><td>C22 C26                        </td><td>Southampton                    </td><td>                               </td><td>NA                             </td><td>Montreal, PQ / Chesterville, ON</td></tr>\n",
       "</tbody>\n",
       "</table>\n"
      ],
      "text/latex": [
       "\\begin{tabular}{r|lllllllllllllll}\n",
       "  & X & pclass & survived & name & sex & age & sibsp & parch & ticket & fare & cabin & embarked & boat & body & home.dest\\\\\n",
       "\\hline\n",
       "\t1 & 1                             & 1st                           & 1                             & Allen, Miss. Elisabeth Walton & female                        & 29                            & 0                             & 0                             & 24160                         & 211.337494                    & B5                            & Southampton                   & 2                             & NA                            & St Louis, MO                 \\\\\n",
       "\t2 & 2                               & 1st                             & 1                               & Allison, Master. Hudson Trevor  & male                            & 0.916700006                     & 1                               & 2                               & 113781                          & 151.550003                      & C22 C26                         & Southampton                     & 11                              & NA                              & Montreal, PQ / Chesterville, ON\\\\\n",
       "\t3 & 3                               & 1st                             & 0                               & Allison, Miss. Helen Loraine    & female                          & 2                               & 1                               & 2                               & 113781                          & 151.550003                      & C22 C26                         & Southampton                     &                                 & NA                              & Montreal, PQ / Chesterville, ON\\\\\n",
       "\\end{tabular}\n"
      ],
      "text/plain": [
       "  X pclass survived                           name    sex     age sibsp parch\n",
       "1 1    1st        1  Allen, Miss. Elisabeth Walton female 29.0000     0     0\n",
       "2 2    1st        1 Allison, Master. Hudson Trevor   male  0.9167     1     2\n",
       "3 3    1st        0   Allison, Miss. Helen Loraine female  2.0000     1     2\n",
       "  ticket     fare   cabin    embarked boat body                       home.dest\n",
       "1  24160 211.3375      B5 Southampton    2   NA                    St Louis, MO\n",
       "2 113781 151.5500 C22 C26 Southampton   11   NA Montreal, PQ / Chesterville, ON\n",
       "3 113781 151.5500 C22 C26 Southampton        NA Montreal, PQ / Chesterville, ON"
      ]
     },
     "metadata": {},
     "output_type": "display_data"
    }
   ],
   "source": [
    "head(titanic.dt,3)"
   ]
  },
  {
   "cell_type": "markdown",
   "metadata": {},
   "source": [
    "# Data.Frame Vs Data.Table\n",
    " - data.table을 사용하는 가장 큰 이유중 하나는 빠른 처리 속도임 (data.frame과 최소 20배가량 차이)\n",
    " - data.table은 data.frame을 계승한 것임\n",
    " - 속도의 차이가 존재하는 이유는 data.table은 데이터를 처리할 때 특정 column을 key 값으로 색인을 지정하기 때문임 \n",
    " - 데이터가 크고 복잡할수록 속도의 차이는 더욱 확연하게 드러남\n",
    " - system.time() : 처리 속도를 보여줌\n",
    " - setkey() : data.table을 sort시켜줌"
   ]
  },
  {
   "cell_type": "code",
   "execution_count": 16,
   "metadata": {
    "collapsed": false
   },
   "outputs": [
    {
     "data": {
      "text/plain": [
       "   user  system elapsed \n",
       "   0.42    0.22    0.64 "
      ]
     },
     "metadata": {},
     "output_type": "display_data"
    }
   ],
   "source": [
    "DF <- data.frame(x = runif(2.6e+07), y = rep(LETTERS, each = 10000))\n",
    "system.time(x <- DF[DF$y == \"C\", ])"
   ]
  },
  {
   "cell_type": "code",
   "execution_count": 18,
   "metadata": {
    "collapsed": false
   },
   "outputs": [
    {
     "data": {
      "text/html": [
       "<table>\n",
       "<thead><tr><th></th><th scope=col>x</th><th scope=col>y</th></tr></thead>\n",
       "<tbody>\n",
       "\t<tr><th scope=row>1</th><td>0.936655889032409</td><td>A                </td></tr>\n",
       "\t<tr><th scope=row>2</th><td>0.872813044814393</td><td>A                </td></tr>\n",
       "\t<tr><th scope=row>3</th><td>0.644829443190247</td><td>A                </td></tr>\n",
       "</tbody>\n",
       "</table>\n"
      ],
      "text/latex": [
       "\\begin{tabular}{r|ll}\n",
       "  & x & y\\\\\n",
       "\\hline\n",
       "\t1 & 0.936655889032409 & A                \\\\\n",
       "\t2 & 0.872813044814393 & A                \\\\\n",
       "\t3 & 0.644829443190247 & A                \\\\\n",
       "\\end{tabular}\n"
      ],
      "text/plain": [
       "          x y\n",
       "1 0.9366559 A\n",
       "2 0.8728130 A\n",
       "3 0.6448294 A"
      ]
     },
     "metadata": {},
     "output_type": "display_data"
    }
   ],
   "source": [
    "head(DF,3)"
   ]
  },
  {
   "cell_type": "code",
   "execution_count": 17,
   "metadata": {
    "collapsed": false
   },
   "outputs": [
    {
     "data": {
      "text/plain": [
       "   user  system elapsed \n",
       "      0       0       0 "
      ]
     },
     "metadata": {},
     "output_type": "display_data"
    }
   ],
   "source": [
    "DT <- as.data.table(DF)\n",
    "setkey(DT,y)\n",
    "system.time(x <- DT[J(\"C\"), ])"
   ]
  },
  {
   "cell_type": "code",
   "execution_count": 19,
   "metadata": {
    "collapsed": false
   },
   "outputs": [
    {
     "data": {
      "text/html": [
       "<table>\n",
       "<thead><tr><th></th><th scope=col>x</th><th scope=col>y</th></tr></thead>\n",
       "<tbody>\n",
       "\t<tr><th scope=row>1</th><td>0.936655889032409</td><td>A                </td></tr>\n",
       "\t<tr><th scope=row>2</th><td>0.872813044814393</td><td>A                </td></tr>\n",
       "\t<tr><th scope=row>3</th><td>0.644829443190247</td><td>A                </td></tr>\n",
       "</tbody>\n",
       "</table>\n"
      ],
      "text/latex": [
       "\\begin{tabular}{r|ll}\n",
       "  & x & y\\\\\n",
       "\\hline\n",
       "\t1 & 0.936655889032409 & A                \\\\\n",
       "\t2 & 0.872813044814393 & A                \\\\\n",
       "\t3 & 0.644829443190247 & A                \\\\\n",
       "\\end{tabular}\n"
      ],
      "text/plain": [
       "          x y\n",
       "1 0.9366559 A\n",
       "2 0.8728130 A\n",
       "3 0.6448294 A"
      ]
     },
     "metadata": {},
     "output_type": "display_data"
    }
   ],
   "source": [
    "head(DT,3)"
   ]
  },
  {
   "cell_type": "markdown",
   "metadata": {},
   "source": [
    "# Data.Table Select Data\n",
    " - data.table 의 형식 : [ 행, 표현식, 옵션 ]\n",
    " - \"표현식\"에는 선택하고자 하는 열의 번호, 변수명, J표현식 등이 올 수 있음\n",
    " - (변수명으로 지정할 때, 문자는 따옴표를 씌워야함)\n",
    " - 1열을 가져오기 위해 data.frame에서는 [, 1]을 사용하지만 data.table에서는 다른 결과를 얻음\n",
    " - with=F : data.frame의 형태로 출력하기 위한 option"
   ]
  },
  {
   "cell_type": "code",
   "execution_count": 21,
   "metadata": {
    "collapsed": false
   },
   "outputs": [
    {
     "data": {
      "text/html": [
       "<ol class=list-inline>\n",
       "\t<li>1</li>\n",
       "\t<li>2</li>\n",
       "\t<li>3</li>\n",
       "\t<li>4</li>\n",
       "\t<li>5</li>\n",
       "\t<li>6</li>\n",
       "</ol>\n"
      ],
      "text/latex": [
       "\\begin{enumerate*}\n",
       "\\item 1\n",
       "\\item 2\n",
       "\\item 3\n",
       "\\item 4\n",
       "\\item 5\n",
       "\\item 6\n",
       "\\end{enumerate*}\n"
      ],
      "text/markdown": [
       "1. 1\n",
       "2. 2\n",
       "3. 3\n",
       "4. 4\n",
       "5. 5\n",
       "6. 6\n",
       "\n",
       "\n"
      ],
      "text/plain": [
       "[1] 1 2 3 4 5 6"
      ]
     },
     "metadata": {},
     "output_type": "display_data"
    }
   ],
   "source": [
    "head(titanic[,1])"
   ]
  },
  {
   "cell_type": "code",
   "execution_count": 30,
   "metadata": {
    "collapsed": false
   },
   "outputs": [
    {
     "data": {
      "text/html": [
       "1"
      ],
      "text/latex": [
       "1"
      ],
      "text/markdown": [
       "1"
      ],
      "text/plain": [
       "[1] 1"
      ]
     },
     "metadata": {},
     "output_type": "display_data"
    }
   ],
   "source": [
    "titanic.dt[,1]"
   ]
  },
  {
   "cell_type": "code",
   "execution_count": 33,
   "metadata": {
    "collapsed": false
   },
   "outputs": [
    {
     "data": {
      "text/html": [
       "<table>\n",
       "<thead><tr><th></th><th scope=col>X</th><th scope=col>pclass</th><th scope=col>survived</th><th scope=col>name</th><th scope=col>sex</th><th scope=col>age</th><th scope=col>sibsp</th><th scope=col>parch</th><th scope=col>ticket</th><th scope=col>fare</th><th scope=col>cabin</th><th scope=col>embarked</th><th scope=col>boat</th><th scope=col>body</th><th scope=col>home.dest</th></tr></thead>\n",
       "<tbody>\n",
       "\t<tr><th scope=row>1</th><td>1                            </td><td>1st                          </td><td>1                            </td><td>Allen, Miss. Elisabeth Walton</td><td>female                       </td><td>29                           </td><td>0                            </td><td>0                            </td><td>24160                        </td><td>211.337494                   </td><td>B5                           </td><td>Southampton                  </td><td>2                            </td><td>NA                           </td><td>St Louis, MO                 </td></tr>\n",
       "</tbody>\n",
       "</table>\n"
      ],
      "text/latex": [
       "\\begin{tabular}{r|lllllllllllllll}\n",
       "  & X & pclass & survived & name & sex & age & sibsp & parch & ticket & fare & cabin & embarked & boat & body & home.dest\\\\\n",
       "\\hline\n",
       "\t1 & 1                             & 1st                           & 1                             & Allen, Miss. Elisabeth Walton & female                        & 29                            & 0                             & 0                             & 24160                         & 211.337494                    & B5                            & Southampton                   & 2                             & NA                            & St Louis, MO                 \\\\\n",
       "\\end{tabular}\n"
      ],
      "text/plain": [
       "  X pclass survived                          name    sex age sibsp parch ticket\n",
       "1 1    1st        1 Allen, Miss. Elisabeth Walton female  29     0     0  24160\n",
       "      fare cabin    embarked boat body    home.dest\n",
       "1 211.3375    B5 Southampton    2   NA St Louis, MO"
      ]
     },
     "metadata": {},
     "output_type": "display_data"
    }
   ],
   "source": [
    "titanic.dt[1]"
   ]
  },
  {
   "cell_type": "code",
   "execution_count": 34,
   "metadata": {
    "collapsed": false
   },
   "outputs": [
    {
     "data": {
      "text/html": [
       "<table>\n",
       "<thead><tr><th></th><th scope=col>X</th></tr></thead>\n",
       "<tbody>\n",
       "\t<tr><th scope=row>1</th><td>1</td></tr>\n",
       "\t<tr><th scope=row>2</th><td>2</td></tr>\n",
       "\t<tr><th scope=row>3</th><td>3</td></tr>\n",
       "</tbody>\n",
       "</table>\n"
      ],
      "text/latex": [
       "\\begin{tabular}{r|l}\n",
       "  & X\\\\\n",
       "\\hline\n",
       "\t1 & 1\\\\\n",
       "\t2 & 2\\\\\n",
       "\t3 & 3\\\\\n",
       "\\end{tabular}\n"
      ],
      "text/plain": [
       "  X\n",
       "1 1\n",
       "2 2\n",
       "3 3"
      ]
     },
     "metadata": {},
     "output_type": "display_data"
    }
   ],
   "source": [
    "head(titanic.dt[,1, with=F],3)"
   ]
  },
  {
   "cell_type": "markdown",
   "metadata": {},
   "source": [
    "# 조건을 이용한 데이터 선택\n",
    " - data.table의 J표현식\n",
    " - DT[J('제약조건')] 형식으로 사용가능\n",
    " - J 를 사용하기 위해서는 key를 반드시 설정해줘야함(key : 행을 정렬해주기 위한 기준변수)"
   ]
  },
  {
   "cell_type": "code",
   "execution_count": 37,
   "metadata": {
    "collapsed": false
   },
   "outputs": [
    {
     "data": {
      "text/html": [
       "<table>\n",
       "<thead><tr><th></th><th scope=col>X</th><th scope=col>pclass</th><th scope=col>survived</th><th scope=col>name</th><th scope=col>sex</th><th scope=col>age</th><th scope=col>sibsp</th><th scope=col>parch</th><th scope=col>ticket</th><th scope=col>fare</th><th scope=col>cabin</th><th scope=col>embarked</th><th scope=col>boat</th><th scope=col>body</th><th scope=col>home.dest</th></tr></thead>\n",
       "<tbody>\n",
       "\t<tr><th scope=row>1</th><td>1                            </td><td>1st                          </td><td>1                            </td><td>Allen, Miss. Elisabeth Walton</td><td>female                       </td><td>29                           </td><td>0                            </td><td>0                            </td><td>24160                        </td><td>211.337494                   </td><td>B5                           </td><td>Southampton                  </td><td>2                            </td><td>NA                           </td><td>St Louis, MO                 </td></tr>\n",
       "\t<tr><th scope=row>2</th><td>2                              </td><td>1st                            </td><td>1                              </td><td>Allison, Master. Hudson Trevor </td><td>male                           </td><td>0.916700006                    </td><td>1                              </td><td>2                              </td><td>113781                         </td><td>151.550003                     </td><td>C22 C26                        </td><td>Southampton                    </td><td>11                             </td><td>NA                             </td><td>Montreal, PQ / Chesterville, ON</td></tr>\n",
       "\t<tr><th scope=row>3</th><td>3                              </td><td>1st                            </td><td>0                              </td><td>Allison, Miss. Helen Loraine   </td><td>female                         </td><td>2                              </td><td>1                              </td><td>2                              </td><td>113781                         </td><td>151.550003                     </td><td>C22 C26                        </td><td>Southampton                    </td><td>                               </td><td>NA                             </td><td>Montreal, PQ / Chesterville, ON</td></tr>\n",
       "</tbody>\n",
       "</table>\n"
      ],
      "text/latex": [
       "\\begin{tabular}{r|lllllllllllllll}\n",
       "  & X & pclass & survived & name & sex & age & sibsp & parch & ticket & fare & cabin & embarked & boat & body & home.dest\\\\\n",
       "\\hline\n",
       "\t1 & 1                             & 1st                           & 1                             & Allen, Miss. Elisabeth Walton & female                        & 29                            & 0                             & 0                             & 24160                         & 211.337494                    & B5                            & Southampton                   & 2                             & NA                            & St Louis, MO                 \\\\\n",
       "\t2 & 2                               & 1st                             & 1                               & Allison, Master. Hudson Trevor  & male                            & 0.916700006                     & 1                               & 2                               & 113781                          & 151.550003                      & C22 C26                         & Southampton                     & 11                              & NA                              & Montreal, PQ / Chesterville, ON\\\\\n",
       "\t3 & 3                               & 1st                             & 0                               & Allison, Miss. Helen Loraine    & female                          & 2                               & 1                               & 2                               & 113781                          & 151.550003                      & C22 C26                         & Southampton                     &                                 & NA                              & Montreal, PQ / Chesterville, ON\\\\\n",
       "\\end{tabular}\n"
      ],
      "text/plain": [
       "  X pclass survived                           name    sex     age sibsp parch\n",
       "1 1    1st        1  Allen, Miss. Elisabeth Walton female 29.0000     0     0\n",
       "2 2    1st        1 Allison, Master. Hudson Trevor   male  0.9167     1     2\n",
       "3 3    1st        0   Allison, Miss. Helen Loraine female  2.0000     1     2\n",
       "  ticket     fare   cabin    embarked boat body                       home.dest\n",
       "1  24160 211.3375      B5 Southampton    2   NA                    St Louis, MO\n",
       "2 113781 151.5500 C22 C26 Southampton   11   NA Montreal, PQ / Chesterville, ON\n",
       "3 113781 151.5500 C22 C26 Southampton        NA Montreal, PQ / Chesterville, ON"
      ]
     },
     "metadata": {},
     "output_type": "display_data"
    }
   ],
   "source": [
    "head(titanic.dt[pclass==\"1st\",],3)"
   ]
  },
  {
   "cell_type": "code",
   "execution_count": 39,
   "metadata": {
    "collapsed": false
   },
   "outputs": [
    {
     "data": {
      "text/html": [
       "<table>\n",
       "<thead><tr><th></th><th scope=col>X</th><th scope=col>pclass</th><th scope=col>survived</th><th scope=col>name</th><th scope=col>sex</th><th scope=col>age</th><th scope=col>sibsp</th><th scope=col>parch</th><th scope=col>ticket</th><th scope=col>fare</th><th scope=col>cabin</th><th scope=col>embarked</th><th scope=col>boat</th><th scope=col>body</th><th scope=col>home.dest</th></tr></thead>\n",
       "<tbody>\n",
       "\t<tr><th scope=row>1</th><td>1                            </td><td>1st                          </td><td>1                            </td><td>Allen, Miss. Elisabeth Walton</td><td>female                       </td><td>29                           </td><td>0                            </td><td>0                            </td><td>24160                        </td><td>211.337494                   </td><td>B5                           </td><td>Southampton                  </td><td>2                            </td><td>NA                           </td><td>St Louis, MO                 </td></tr>\n",
       "\t<tr><th scope=row>2</th><td>2                              </td><td>1st                            </td><td>1                              </td><td>Allison, Master. Hudson Trevor </td><td>male                           </td><td>0.916700006                    </td><td>1                              </td><td>2                              </td><td>113781                         </td><td>151.550003                     </td><td>C22 C26                        </td><td>Southampton                    </td><td>11                             </td><td>NA                             </td><td>Montreal, PQ / Chesterville, ON</td></tr>\n",
       "\t<tr><th scope=row>3</th><td>3                              </td><td>1st                            </td><td>0                              </td><td>Allison, Miss. Helen Loraine   </td><td>female                         </td><td>2                              </td><td>1                              </td><td>2                              </td><td>113781                         </td><td>151.550003                     </td><td>C22 C26                        </td><td>Southampton                    </td><td>                               </td><td>NA                             </td><td>Montreal, PQ / Chesterville, ON</td></tr>\n",
       "</tbody>\n",
       "</table>\n"
      ],
      "text/latex": [
       "\\begin{tabular}{r|lllllllllllllll}\n",
       "  & X & pclass & survived & name & sex & age & sibsp & parch & ticket & fare & cabin & embarked & boat & body & home.dest\\\\\n",
       "\\hline\n",
       "\t1 & 1                             & 1st                           & 1                             & Allen, Miss. Elisabeth Walton & female                        & 29                            & 0                             & 0                             & 24160                         & 211.337494                    & B5                            & Southampton                   & 2                             & NA                            & St Louis, MO                 \\\\\n",
       "\t2 & 2                               & 1st                             & 1                               & Allison, Master. Hudson Trevor  & male                            & 0.916700006                     & 1                               & 2                               & 113781                          & 151.550003                      & C22 C26                         & Southampton                     & 11                              & NA                              & Montreal, PQ / Chesterville, ON\\\\\n",
       "\t3 & 3                               & 1st                             & 0                               & Allison, Miss. Helen Loraine    & female                          & 2                               & 1                               & 2                               & 113781                          & 151.550003                      & C22 C26                         & Southampton                     &                                 & NA                              & Montreal, PQ / Chesterville, ON\\\\\n",
       "\\end{tabular}\n"
      ],
      "text/plain": [
       "  X pclass survived                           name    sex     age sibsp parch\n",
       "1 1    1st        1  Allen, Miss. Elisabeth Walton female 29.0000     0     0\n",
       "2 2    1st        1 Allison, Master. Hudson Trevor   male  0.9167     1     2\n",
       "3 3    1st        0   Allison, Miss. Helen Loraine female  2.0000     1     2\n",
       "  ticket     fare   cabin    embarked boat body                       home.dest\n",
       "1  24160 211.3375      B5 Southampton    2   NA                    St Louis, MO\n",
       "2 113781 151.5500 C22 C26 Southampton   11   NA Montreal, PQ / Chesterville, ON\n",
       "3 113781 151.5500 C22 C26 Southampton        NA Montreal, PQ / Chesterville, ON"
      ]
     },
     "metadata": {},
     "output_type": "display_data"
    }
   ],
   "source": [
    "head(titanic.dt[pclass==\"1st\"],3)"
   ]
  },
  {
   "cell_type": "markdown",
   "metadata": {},
   "source": [
    "## Key 를 이용한 선택. \n",
    " - data.table의 setkey()을 이용해 key 설정\n",
    " - setkeyv()의 경우엔 key를 두 개 이상 설정 가능\n",
    " - tables()를 통해 key 지정 확인 가능\n",
    " - 예시\n",
    "     - \"sex\"와 \"pclass\"를 key로 지정\n",
    "     - \"pclass\"를 key로 지정\n",
    "     - 다음 3가지는 모두 같은 결과를 얻음"
   ]
  },
  {
   "cell_type": "code",
   "execution_count": 42,
   "metadata": {
    "collapsed": false
   },
   "outputs": [
    {
     "name": "stdout",
     "output_type": "stream",
     "text": [
      "     NAME             NROW NCOL  MB\n",
      "[1,] DT         26,000,000    2 298\n",
      "[2,] titanic.dt      1,309   15   1\n",
      "[3,] x           1,000,000    2  12\n",
      "     COLS                                                                            \n",
      "[1,] x,y                                                                             \n",
      "[2,] X,pclass,survived,name,sex,age,sibsp,parch,ticket,fare,cabin,embarked,boat,body,\n",
      "[3,] x,y                                                                             \n",
      "     KEY       \n",
      "[1,] y         \n",
      "[2,] sex,pclass\n",
      "[3,] y         \n",
      "Total: 311MB\n"
     ]
    }
   ],
   "source": [
    "setkeyv(titanic.dt, c(\"sex\",\"pclass\"))\n",
    "tables()"
   ]
  },
  {
   "cell_type": "code",
   "execution_count": 44,
   "metadata": {
    "collapsed": false
   },
   "outputs": [
    {
     "name": "stdout",
     "output_type": "stream",
     "text": [
      "     NAME             NROW NCOL  MB\n",
      "[1,] DT         26,000,000    2 298\n",
      "[2,] titanic.dt      1,309   15   1\n",
      "[3,] x           1,000,000    2  12\n",
      "     COLS                                                                            \n",
      "[1,] x,y                                                                             \n",
      "[2,] X,pclass,survived,name,sex,age,sibsp,parch,ticket,fare,cabin,embarked,boat,body,\n",
      "[3,] x,y                                                                             \n",
      "     KEY   \n",
      "[1,] y     \n",
      "[2,] pclass\n",
      "[3,] y     \n",
      "Total: 311MB\n"
     ]
    }
   ],
   "source": [
    "setkey(titanic.dt,pclass)\n",
    "tables()"
   ]
  },
  {
   "cell_type": "code",
   "execution_count": 46,
   "metadata": {
    "collapsed": false
   },
   "outputs": [
    {
     "name": "stdout",
     "output_type": "stream",
     "text": [
      "     NAME             NROW NCOL  MB\n",
      "[1,] DT         26,000,000    2 298\n",
      "[2,] titanic.dt      1,309   15   1\n",
      "[3,] x           1,000,000    2  12\n",
      "     COLS                                                                            \n",
      "[1,] x,y                                                                             \n",
      "[2,] X,pclass,survived,name,sex,age,sibsp,parch,ticket,fare,cabin,embarked,boat,body,\n",
      "[3,] x,y                                                                             \n",
      "     KEY   \n",
      "[1,] y     \n",
      "[2,] pclass\n",
      "[3,] y     \n",
      "Total: 311MB\n"
     ]
    }
   ],
   "source": [
    "v <-  \"pclass\"\n",
    "setkeyv(titanic.dt,v)\n",
    "setkey(titanic.dt, pclass) \n",
    "setkey(titanic.dt, \"pclass\")\n",
    "tables()"
   ]
  },
  {
   "cell_type": "markdown",
   "metadata": {},
   "source": [
    "## Key 지정 후 "
   ]
  },
  {
   "cell_type": "code",
   "execution_count": 49,
   "metadata": {
    "collapsed": false
   },
   "outputs": [
    {
     "data": {
      "text/html": [
       "<table>\n",
       "<thead><tr><th></th><th scope=col>X</th><th scope=col>pclass</th><th scope=col>survived</th><th scope=col>name</th><th scope=col>sex</th><th scope=col>age</th><th scope=col>sibsp</th><th scope=col>parch</th><th scope=col>ticket</th><th scope=col>fare</th><th scope=col>cabin</th><th scope=col>embarked</th><th scope=col>boat</th><th scope=col>body</th><th scope=col>home.dest</th></tr></thead>\n",
       "<tbody>\n",
       "\t<tr><th scope=row>1</th><td>1                            </td><td>1st                          </td><td>1                            </td><td>Allen, Miss. Elisabeth Walton</td><td>female                       </td><td>29                           </td><td>0                            </td><td>0                            </td><td>24160                        </td><td>211.337494                   </td><td>B5                           </td><td>Southampton                  </td><td>2                            </td><td>NA                           </td><td>St Louis, MO                 </td></tr>\n",
       "\t<tr><th scope=row>2</th><td>3                              </td><td>1st                            </td><td>0                              </td><td>Allison, Miss. Helen Loraine   </td><td>female                         </td><td>2                              </td><td>1                              </td><td>2                              </td><td>113781                         </td><td>151.550003                     </td><td>C22 C26                        </td><td>Southampton                    </td><td>                               </td><td>NA                             </td><td>Montreal, PQ / Chesterville, ON</td></tr>\n",
       "\t<tr><th scope=row>3</th><td>5                              </td><td>1st                            </td><td>0                              </td><td>Allison, Mrs. Hudson J C (Bessi</td><td>female                         </td><td>25                             </td><td>1                              </td><td>2                              </td><td>113781                         </td><td>151.550003                     </td><td>C22 C26                        </td><td>Southampton                    </td><td>                               </td><td>NA                             </td><td>Montreal, PQ / Chesterville, ON</td></tr>\n",
       "</tbody>\n",
       "</table>\n"
      ],
      "text/latex": [
       "\\begin{tabular}{r|lllllllllllllll}\n",
       "  & X & pclass & survived & name & sex & age & sibsp & parch & ticket & fare & cabin & embarked & boat & body & home.dest\\\\\n",
       "\\hline\n",
       "\t1 & 1                             & 1st                           & 1                             & Allen, Miss. Elisabeth Walton & female                        & 29                            & 0                             & 0                             & 24160                         & 211.337494                    & B5                            & Southampton                   & 2                             & NA                            & St Louis, MO                 \\\\\n",
       "\t2 & 3                               & 1st                             & 0                               & Allison, Miss. Helen Loraine    & female                          & 2                               & 1                               & 2                               & 113781                          & 151.550003                      & C22 C26                         & Southampton                     &                                 & NA                              & Montreal, PQ / Chesterville, ON\\\\\n",
       "\t3 & 5                               & 1st                             & 0                               & Allison, Mrs. Hudson J C (Bessi & female                          & 25                              & 1                               & 2                               & 113781                          & 151.550003                      & C22 C26                         & Southampton                     &                                 & NA                              & Montreal, PQ / Chesterville, ON\\\\\n",
       "\\end{tabular}\n"
      ],
      "text/plain": [
       "  X pclass survived                            name    sex age sibsp parch\n",
       "1 1    1st        1   Allen, Miss. Elisabeth Walton female  29     0     0\n",
       "2 3    1st        0    Allison, Miss. Helen Loraine female   2     1     2\n",
       "3 5    1st        0 Allison, Mrs. Hudson J C (Bessi female  25     1     2\n",
       "  ticket     fare   cabin    embarked boat body                       home.dest\n",
       "1  24160 211.3375      B5 Southampton    2   NA                    St Louis, MO\n",
       "2 113781 151.5500 C22 C26 Southampton        NA Montreal, PQ / Chesterville, ON\n",
       "3 113781 151.5500 C22 C26 Southampton        NA Montreal, PQ / Chesterville, ON"
      ]
     },
     "metadata": {},
     "output_type": "display_data"
    }
   ],
   "source": [
    "head(titanic.dt[\"1st\"],3)"
   ]
  },
  {
   "cell_type": "code",
   "execution_count": 51,
   "metadata": {
    "collapsed": false
   },
   "outputs": [
    {
     "data": {
      "text/html": [
       "<table>\n",
       "<thead><tr><th></th><th scope=col>X</th><th scope=col>pclass</th><th scope=col>survived</th><th scope=col>name</th><th scope=col>sex</th><th scope=col>age</th><th scope=col>sibsp</th><th scope=col>parch</th><th scope=col>ticket</th><th scope=col>fare</th><th scope=col>cabin</th><th scope=col>embarked</th><th scope=col>boat</th><th scope=col>body</th><th scope=col>home.dest</th></tr></thead>\n",
       "<tbody>\n",
       "\t<tr><th scope=row>1</th><td>1                            </td><td>1st                          </td><td>1                            </td><td>Allen, Miss. Elisabeth Walton</td><td>female                       </td><td>29                           </td><td>0                            </td><td>0                            </td><td>24160                        </td><td>211.337494                   </td><td>B5                           </td><td>Southampton                  </td><td>2                            </td><td>NA                           </td><td>St Louis, MO                 </td></tr>\n",
       "\t<tr><th scope=row>2</th><td>3                              </td><td>1st                            </td><td>0                              </td><td>Allison, Miss. Helen Loraine   </td><td>female                         </td><td>2                              </td><td>1                              </td><td>2                              </td><td>113781                         </td><td>151.550003                     </td><td>C22 C26                        </td><td>Southampton                    </td><td>                               </td><td>NA                             </td><td>Montreal, PQ / Chesterville, ON</td></tr>\n",
       "\t<tr><th scope=row>3</th><td>5                              </td><td>1st                            </td><td>0                              </td><td>Allison, Mrs. Hudson J C (Bessi</td><td>female                         </td><td>25                             </td><td>1                              </td><td>2                              </td><td>113781                         </td><td>151.550003                     </td><td>C22 C26                        </td><td>Southampton                    </td><td>                               </td><td>NA                             </td><td>Montreal, PQ / Chesterville, ON</td></tr>\n",
       "</tbody>\n",
       "</table>\n"
      ],
      "text/latex": [
       "\\begin{tabular}{r|lllllllllllllll}\n",
       "  & X & pclass & survived & name & sex & age & sibsp & parch & ticket & fare & cabin & embarked & boat & body & home.dest\\\\\n",
       "\\hline\n",
       "\t1 & 1                             & 1st                           & 1                             & Allen, Miss. Elisabeth Walton & female                        & 29                            & 0                             & 0                             & 24160                         & 211.337494                    & B5                            & Southampton                   & 2                             & NA                            & St Louis, MO                 \\\\\n",
       "\t2 & 3                               & 1st                             & 0                               & Allison, Miss. Helen Loraine    & female                          & 2                               & 1                               & 2                               & 113781                          & 151.550003                      & C22 C26                         & Southampton                     &                                 & NA                              & Montreal, PQ / Chesterville, ON\\\\\n",
       "\t3 & 5                               & 1st                             & 0                               & Allison, Mrs. Hudson J C (Bessi & female                          & 25                              & 1                               & 2                               & 113781                          & 151.550003                      & C22 C26                         & Southampton                     &                                 & NA                              & Montreal, PQ / Chesterville, ON\\\\\n",
       "\\end{tabular}\n"
      ],
      "text/plain": [
       "  X pclass survived                            name    sex age sibsp parch\n",
       "1 1    1st        1   Allen, Miss. Elisabeth Walton female  29     0     0\n",
       "2 3    1st        0    Allison, Miss. Helen Loraine female   2     1     2\n",
       "3 5    1st        0 Allison, Mrs. Hudson J C (Bessi female  25     1     2\n",
       "  ticket     fare   cabin    embarked boat body                       home.dest\n",
       "1  24160 211.3375      B5 Southampton    2   NA                    St Louis, MO\n",
       "2 113781 151.5500 C22 C26 Southampton        NA Montreal, PQ / Chesterville, ON\n",
       "3 113781 151.5500 C22 C26 Southampton        NA Montreal, PQ / Chesterville, ON"
      ]
     },
     "metadata": {},
     "output_type": "display_data"
    }
   ],
   "source": [
    "head(titanic.dt[J(\"1st\")],3)"
   ]
  },
  {
   "cell_type": "markdown",
   "metadata": {},
   "source": [
    " - key를 활용하여 집계"
   ]
  },
  {
   "cell_type": "code",
   "execution_count": 53,
   "metadata": {
    "collapsed": false
   },
   "outputs": [
    {
     "data": {
      "text/html": [
       "0.619195046439629"
      ],
      "text/latex": [
       "0.619195046439629"
      ],
      "text/markdown": [
       "0.619195046439629"
      ],
      "text/plain": [
       "[1] 0.619195"
      ]
     },
     "metadata": {},
     "output_type": "display_data"
    }
   ],
   "source": [
    "titanic.dt[J(\"1st\"),mean(survived)]"
   ]
  },
  {
   "cell_type": "markdown",
   "metadata": {},
   "source": [
    "## Data.Table Grouping 연산\n",
    "- grouping하여 연산하는 data.table의 형식 : DT[ , 연산식, by='variable']\n",
    "- reserved keyword\n",
    "- .N\n",
    " - by에 의해 grouping 될 때 매칭된 변수의 행의 개수를 나타냄\n",
    " - 매칭이 되지 않으면 NA나 0 으로 출력\n",
    "- .SD\n",
    " - Subset of x's Data for each group, excluding any columns used in by(or keyby)\n",
    " - .SDcols : .SD에 특정한 변수 이름을 지정하여 해당 변수로만 이루어진 새 .SD를 구성하는 것임\n",
    " - nrow(.SD) : J 와 by로 분류된 변수를 포함하는 행의 개수\n",
    " - 단, 만약 by변수가 sex라면 \"male\"과 \"female\"은 분리되어 계산됨"
   ]
  },
  {
   "cell_type": "markdown",
   "metadata": {},
   "source": [
    "### 좌석등급별 생존률 "
   ]
  },
  {
   "cell_type": "code",
   "execution_count": 54,
   "metadata": {
    "collapsed": false
   },
   "outputs": [
    {
     "data": {
      "text/html": [
       "<table>\n",
       "<thead><tr><th></th><th scope=col>pclass</th><th scope=col>V1</th></tr></thead>\n",
       "<tbody>\n",
       "\t<tr><th scope=row>1</th><td>1st              </td><td>0.619195046439629</td></tr>\n",
       "\t<tr><th scope=row>2</th><td>2nd              </td><td>0.429602888086643</td></tr>\n",
       "\t<tr><th scope=row>3</th><td>3rd              </td><td>0.255289139633286</td></tr>\n",
       "</tbody>\n",
       "</table>\n"
      ],
      "text/latex": [
       "\\begin{tabular}{r|ll}\n",
       "  & pclass & V1\\\\\n",
       "\\hline\n",
       "\t1 & 1st               & 0.619195046439629\\\\\n",
       "\t2 & 2nd               & 0.429602888086643\\\\\n",
       "\t3 & 3rd               & 0.255289139633286\\\\\n",
       "\\end{tabular}\n"
      ],
      "text/plain": [
       "  pclass        V1\n",
       "1    1st 0.6191950\n",
       "2    2nd 0.4296029\n",
       "3    3rd 0.2552891"
      ]
     },
     "metadata": {},
     "output_type": "display_data"
    }
   ],
   "source": [
    "titanic.dt[, mean(survived), by=\"pclass\"]"
   ]
  },
  {
   "cell_type": "markdown",
   "metadata": {},
   "source": [
    "### 남녀생존률"
   ]
  },
  {
   "cell_type": "code",
   "execution_count": 56,
   "metadata": {
    "collapsed": false
   },
   "outputs": [
    {
     "data": {
      "text/html": [
       "<table>\n",
       "<thead><tr><th></th><th scope=col>sex</th><th scope=col>V1</th></tr></thead>\n",
       "<tbody>\n",
       "\t<tr><th scope=row>1</th><td>female           </td><td>0.727467811158798</td></tr>\n",
       "\t<tr><th scope=row>2</th><td>male             </td><td>0.190984578884935</td></tr>\n",
       "</tbody>\n",
       "</table>\n"
      ],
      "text/latex": [
       "\\begin{tabular}{r|ll}\n",
       "  & sex & V1\\\\\n",
       "\\hline\n",
       "\t1 & female            & 0.727467811158798\\\\\n",
       "\t2 & male              & 0.190984578884935\\\\\n",
       "\\end{tabular}\n"
      ],
      "text/plain": [
       "     sex        V1\n",
       "1 female 0.7274678\n",
       "2   male 0.1909846"
      ]
     },
     "metadata": {},
     "output_type": "display_data"
    }
   ],
   "source": [
    "titanic.dt[,mean(survived),by=sex]"
   ]
  },
  {
   "cell_type": "code",
   "execution_count": 58,
   "metadata": {
    "collapsed": false
   },
   "outputs": [
    {
     "data": {
      "text/html": [
       "<table>\n",
       "<thead><tr><th></th><th scope=col>sex</th><th scope=col>survived</th></tr></thead>\n",
       "<tbody>\n",
       "\t<tr><th scope=row>1</th><td>female           </td><td>0.727467811158798</td></tr>\n",
       "\t<tr><th scope=row>2</th><td>male             </td><td>0.190984578884935</td></tr>\n",
       "</tbody>\n",
       "</table>\n"
      ],
      "text/latex": [
       "\\begin{tabular}{r|ll}\n",
       "  & sex & survived\\\\\n",
       "\\hline\n",
       "\t1 & female            & 0.727467811158798\\\\\n",
       "\t2 & male              & 0.190984578884935\\\\\n",
       "\\end{tabular}\n"
      ],
      "text/plain": [
       "     sex  survived\n",
       "1 female 0.7274678\n",
       "2   male 0.1909846"
      ]
     },
     "metadata": {},
     "output_type": "display_data"
    }
   ],
   "source": [
    "titanic.dt[,lapply(.SD,mean), by=sex, .SDcols=c(\"survived\")]"
   ]
  },
  {
   "cell_type": "markdown",
   "metadata": {},
   "source": [
    "### 1등급 승객 중 성별 생존률"
   ]
  },
  {
   "cell_type": "code",
   "execution_count": 60,
   "metadata": {
    "collapsed": false
   },
   "outputs": [
    {
     "data": {
      "text/html": [
       "<table>\n",
       "<thead><tr><th></th><th scope=col>sex</th><th scope=col>V1</th></tr></thead>\n",
       "<tbody>\n",
       "\t<tr><th scope=row>1</th><td>female           </td><td>0.965277777777778</td></tr>\n",
       "\t<tr><th scope=row>2</th><td>male             </td><td>0.340782122905028</td></tr>\n",
       "</tbody>\n",
       "</table>\n"
      ],
      "text/latex": [
       "\\begin{tabular}{r|ll}\n",
       "  & sex & V1\\\\\n",
       "\\hline\n",
       "\t1 & female            & 0.965277777777778\\\\\n",
       "\t2 & male              & 0.340782122905028\\\\\n",
       "\\end{tabular}\n"
      ],
      "text/plain": [
       "     sex        V1\n",
       "1 female 0.9652778\n",
       "2   male 0.3407821"
      ]
     },
     "metadata": {},
     "output_type": "display_data"
    }
   ],
   "source": [
    "titanic.dt[J(\"1st\"), mean(survived), by=\"sex\"]"
   ]
  },
  {
   "cell_type": "markdown",
   "metadata": {},
   "source": [
    "### 다수의 group key 지정"
   ]
  },
  {
   "cell_type": "code",
   "execution_count": 62,
   "metadata": {
    "collapsed": false
   },
   "outputs": [
    {
     "data": {
      "text/html": [
       "<table>\n",
       "<thead><tr><th></th><th scope=col>sex</th><th scope=col>boat</th><th scope=col>V1</th></tr></thead>\n",
       "<tbody>\n",
       "\t<tr><th scope=row>1</th><td>female</td><td>10    </td><td>1     </td></tr>\n",
       "\t<tr><th scope=row>2</th><td>female</td><td>11    </td><td>1     </td></tr>\n",
       "\t<tr><th scope=row>3</th><td>female</td><td>13    </td><td>1     </td></tr>\n",
       "\t<tr><th scope=row>4</th><td>female</td><td>12    </td><td>1     </td></tr>\n",
       "\t<tr><th scope=row>5</th><td>female</td><td>14    </td><td>1     </td></tr>\n",
       "\t<tr><th scope=row>6</th><td>female</td><td>9     </td><td>1     </td></tr>\n",
       "\t<tr><th scope=row>7</th><td>female</td><td>      </td><td>0.4   </td></tr>\n",
       "\t<tr><th scope=row>8</th><td>female</td><td>16    </td><td>1     </td></tr>\n",
       "\t<tr><th scope=row>9</th><td>female</td><td>4     </td><td>1     </td></tr>\n",
       "\t<tr><th scope=row>10</th><td>male</td><td>    </td><td>0   </td></tr>\n",
       "\t<tr><th scope=row>11</th><td>male</td><td>13  </td><td>1   </td></tr>\n",
       "\t<tr><th scope=row>12</th><td>male</td><td>11  </td><td>1   </td></tr>\n",
       "\t<tr><th scope=row>13</th><td>male</td><td>9   </td><td>1   </td></tr>\n",
       "\t<tr><th scope=row>14</th><td>male</td><td>14  </td><td>1   </td></tr>\n",
       "\t<tr><th scope=row>15</th><td>male</td><td>10  </td><td>1   </td></tr>\n",
       "\t<tr><th scope=row>16</th><td>male</td><td>4   </td><td>1   </td></tr>\n",
       "\t<tr><th scope=row>17</th><td>male</td><td>15  </td><td>1   </td></tr>\n",
       "\t<tr><th scope=row>18</th><td>male</td><td>B   </td><td>1   </td></tr>\n",
       "\t<tr><th scope=row>19</th><td>male</td><td>D   </td><td>1   </td></tr>\n",
       "\t<tr><th scope=row>20</th><td>male</td><td>7   </td><td>1   </td></tr>\n",
       "\t<tr><th scope=row>21</th><td>male</td><td>12  </td><td>0   </td></tr>\n",
       "</tbody>\n",
       "</table>\n"
      ],
      "text/latex": [
       "\\begin{tabular}{r|lll}\n",
       "  & sex & boat & V1\\\\\n",
       "\\hline\n",
       "\t1 & female & 10     & 1     \\\\\n",
       "\t2 & female & 11     & 1     \\\\\n",
       "\t3 & female & 13     & 1     \\\\\n",
       "\t4 & female & 12     & 1     \\\\\n",
       "\t5 & female & 14     & 1     \\\\\n",
       "\t6 & female & 9      & 1     \\\\\n",
       "\t7 & female &        & 0.4   \\\\\n",
       "\t8 & female & 16     & 1     \\\\\n",
       "\t9 & female & 4      & 1     \\\\\n",
       "\t10 & male &      & 0   \\\\\n",
       "\t11 & male & 13   & 1   \\\\\n",
       "\t12 & male & 11   & 1   \\\\\n",
       "\t13 & male & 9    & 1   \\\\\n",
       "\t14 & male & 14   & 1   \\\\\n",
       "\t15 & male & 10   & 1   \\\\\n",
       "\t16 & male & 4    & 1   \\\\\n",
       "\t17 & male & 15   & 1   \\\\\n",
       "\t18 & male & B    & 1   \\\\\n",
       "\t19 & male & D    & 1   \\\\\n",
       "\t20 & male & 7    & 1   \\\\\n",
       "\t21 & male & 12   & 0   \\\\\n",
       "\\end{tabular}\n"
      ],
      "text/plain": [
       "      sex boat  V1\n",
       "1  female   10 1.0\n",
       "2  female   11 1.0\n",
       "3  female   13 1.0\n",
       "4  female   12 1.0\n",
       "5  female   14 1.0\n",
       "6  female    9 1.0\n",
       "7  female      0.4\n",
       "8  female   16 1.0\n",
       "9  female    4 1.0\n",
       "10   male      0.0\n",
       "11   male   13 1.0\n",
       "12   male   11 1.0\n",
       "13   male    9 1.0\n",
       "14   male   14 1.0\n",
       "15   male   10 1.0\n",
       "16   male    4 1.0\n",
       "17   male   15 1.0\n",
       "18   male    B 1.0\n",
       "19   male    D 1.0\n",
       "20   male    7 1.0\n",
       "21   male   12 0.0"
      ]
     },
     "metadata": {},
     "output_type": "display_data"
    }
   ],
   "source": [
    "titanic.dt[J(\"2nd\"), mean(survived), by=\"sex,boat\"] "
   ]
  },
  {
   "cell_type": "markdown",
   "metadata": {},
   "source": [
    "### 1등급 승객의 Counting"
   ]
  },
  {
   "cell_type": "code",
   "execution_count": 64,
   "metadata": {
    "collapsed": false
   },
   "outputs": [
    {
     "data": {
      "text/html": [
       "323"
      ],
      "text/latex": [
       "323"
      ],
      "text/markdown": [
       "323"
      ],
      "text/plain": [
       "[1] 323"
      ]
     },
     "metadata": {},
     "output_type": "display_data"
    },
    {
     "data": {
      "text/html": [
       "323"
      ],
      "text/latex": [
       "323"
      ],
      "text/markdown": [
       "323"
      ],
      "text/plain": [
       "[1] 323"
      ]
     },
     "metadata": {},
     "output_type": "display_data"
    }
   ],
   "source": [
    "titanic.dt[,length(which(pclass==\"1st\"))]\n",
    "titanic.dt[pclass==\"1st\",.N]"
   ]
  },
  {
   "cell_type": "markdown",
   "metadata": {},
   "source": [
    "### 등급별, 성별 counting\n",
    " - 1등급 중 성별 counting\n",
    " - 등급별 counting"
   ]
  },
  {
   "cell_type": "code",
   "execution_count": 66,
   "metadata": {
    "collapsed": false
   },
   "outputs": [
    {
     "data": {
      "text/html": [
       "<table>\n",
       "<thead><tr><th></th><th scope=col>sex</th><th scope=col>N</th></tr></thead>\n",
       "<tbody>\n",
       "\t<tr><th scope=row>1</th><td>female</td><td>144   </td></tr>\n",
       "\t<tr><th scope=row>2</th><td>male</td><td>179 </td></tr>\n",
       "</tbody>\n",
       "</table>\n"
      ],
      "text/latex": [
       "\\begin{tabular}{r|ll}\n",
       "  & sex & N\\\\\n",
       "\\hline\n",
       "\t1 & female & 144   \\\\\n",
       "\t2 & male & 179 \\\\\n",
       "\\end{tabular}\n"
      ],
      "text/plain": [
       "     sex   N\n",
       "1 female 144\n",
       "2   male 179"
      ]
     },
     "metadata": {},
     "output_type": "display_data"
    },
    {
     "data": {
      "text/html": [
       "<table>\n",
       "<thead><tr><th></th><th scope=col>pclass</th><th scope=col>N</th></tr></thead>\n",
       "<tbody>\n",
       "\t<tr><th scope=row>1</th><td>1st</td><td>323</td></tr>\n",
       "\t<tr><th scope=row>2</th><td>2nd</td><td>277</td></tr>\n",
       "\t<tr><th scope=row>3</th><td>3rd</td><td>709</td></tr>\n",
       "</tbody>\n",
       "</table>\n"
      ],
      "text/latex": [
       "\\begin{tabular}{r|ll}\n",
       "  & pclass & N\\\\\n",
       "\\hline\n",
       "\t1 & 1st & 323\\\\\n",
       "\t2 & 2nd & 277\\\\\n",
       "\t3 & 3rd & 709\\\\\n",
       "\\end{tabular}\n"
      ],
      "text/plain": [
       "  pclass   N\n",
       "1    1st 323\n",
       "2    2nd 277\n",
       "3    3rd 709"
      ]
     },
     "metadata": {},
     "output_type": "display_data"
    }
   ],
   "source": [
    "#1\n",
    "titanic.dt[pclass==\"1st\", .N, by=\"sex\"] \n",
    "#2\n",
    "titanic.dt[, .N ,by=\"pclass\"] "
   ]
  },
  {
   "cell_type": "markdown",
   "metadata": {},
   "source": [
    "### 1등급 승객 중 성별 별로 20세 이상의 성인 비율 "
   ]
  },
  {
   "cell_type": "code",
   "execution_count": 68,
   "metadata": {
    "collapsed": false
   },
   "outputs": [
    {
     "data": {
      "text/html": [
       "<table>\n",
       "<thead><tr><th></th><th scope=col>sex</th><th scope=col>V1</th></tr></thead>\n",
       "<tbody>\n",
       "\t<tr><th scope=row>1</th><td>female</td><td>0.8125</td></tr>\n",
       "\t<tr><th scope=row>2</th><td>male             </td><td>0.787709497206704</td></tr>\n",
       "</tbody>\n",
       "</table>\n"
      ],
      "text/latex": [
       "\\begin{tabular}{r|ll}\n",
       "  & sex & V1\\\\\n",
       "\\hline\n",
       "\t1 & female & 0.8125\\\\\n",
       "\t2 & male              & 0.787709497206704\\\\\n",
       "\\end{tabular}\n"
      ],
      "text/plain": [
       "     sex        V1\n",
       "1 female 0.8125000\n",
       "2   male 0.7877095"
      ]
     },
     "metadata": {},
     "output_type": "display_data"
    },
    {
     "data": {
      "text/html": [
       "<table>\n",
       "<thead><tr><th></th><th scope=col>sex</th><th scope=col>V1</th></tr></thead>\n",
       "<tbody>\n",
       "\t<tr><th scope=row>1</th><td>female</td><td>0.8125</td></tr>\n",
       "\t<tr><th scope=row>2</th><td>male             </td><td>0.787709497206704</td></tr>\n",
       "</tbody>\n",
       "</table>\n"
      ],
      "text/latex": [
       "\\begin{tabular}{r|ll}\n",
       "  & sex & V1\\\\\n",
       "\\hline\n",
       "\t1 & female & 0.8125\\\\\n",
       "\t2 & male              & 0.787709497206704\\\\\n",
       "\\end{tabular}\n"
      ],
      "text/plain": [
       "     sex        V1\n",
       "1 female 0.8125000\n",
       "2   male 0.7877095"
      ]
     },
     "metadata": {},
     "output_type": "display_data"
    }
   ],
   "source": [
    "titanic.dt[J(\"1st\"), length(which(age>20))/.N, by=\"sex\"] \n",
    "titanic.dt[J(\"1st\"), length(which(age>20))/nrow(.SD), by=\"sex\"]"
   ]
  },
  {
   "cell_type": "markdown",
   "metadata": {},
   "source": [
    "### 성별, 등급, 나이별 생존률"
   ]
  },
  {
   "cell_type": "code",
   "execution_count": 71,
   "metadata": {
    "collapsed": false
   },
   "outputs": [
    {
     "data": {
      "text/html": [
       "<table>\n",
       "<thead><tr><th></th><th scope=col>X</th><th scope=col>pclass</th><th scope=col>survived</th><th scope=col>name</th><th scope=col>sex</th><th scope=col>age</th><th scope=col>sibsp</th><th scope=col>parch</th><th scope=col>ticket</th><th scope=col>fare</th><th scope=col>cabin</th><th scope=col>embarked</th><th scope=col>boat</th><th scope=col>body</th><th scope=col>home.dest</th><th scope=col>isminor</th></tr></thead>\n",
       "<tbody>\n",
       "\t<tr><th scope=row>1</th><td>1                            </td><td>1st                          </td><td>1                            </td><td>Allen, Miss. Elisabeth Walton</td><td>female                       </td><td>29                           </td><td>0                            </td><td>0                            </td><td>24160                        </td><td>211.337494                   </td><td>B5                           </td><td>Southampton                  </td><td>2                            </td><td>NA                           </td><td>St Louis, MO                 </td><td>adult                        </td></tr>\n",
       "\t<tr><th scope=row>2</th><td>3                              </td><td>1st                            </td><td>0                              </td><td>Allison, Miss. Helen Loraine   </td><td>female                         </td><td>2                              </td><td>1                              </td><td>2                              </td><td>113781                         </td><td>151.550003                     </td><td>C22 C26                        </td><td>Southampton                    </td><td>                               </td><td>NA                             </td><td>Montreal, PQ / Chesterville, ON</td><td>adult                          </td></tr>\n",
       "\t<tr><th scope=row>3</th><td>5                              </td><td>1st                            </td><td>0                              </td><td>Allison, Mrs. Hudson J C (Bessi</td><td>female                         </td><td>25                             </td><td>1                              </td><td>2                              </td><td>113781                         </td><td>151.550003                     </td><td>C22 C26                        </td><td>Southampton                    </td><td>                               </td><td>NA                             </td><td>Montreal, PQ / Chesterville, ON</td><td>adult                          </td></tr>\n",
       "</tbody>\n",
       "</table>\n"
      ],
      "text/latex": [
       "\\begin{tabular}{r|llllllllllllllll}\n",
       "  & X & pclass & survived & name & sex & age & sibsp & parch & ticket & fare & cabin & embarked & boat & body & home.dest & isminor\\\\\n",
       "\\hline\n",
       "\t1 & 1                             & 1st                           & 1                             & Allen, Miss. Elisabeth Walton & female                        & 29                            & 0                             & 0                             & 24160                         & 211.337494                    & B5                            & Southampton                   & 2                             & NA                            & St Louis, MO                  & adult                        \\\\\n",
       "\t2 & 3                               & 1st                             & 0                               & Allison, Miss. Helen Loraine    & female                          & 2                               & 1                               & 2                               & 113781                          & 151.550003                      & C22 C26                         & Southampton                     &                                 & NA                              & Montreal, PQ / Chesterville, ON & adult                          \\\\\n",
       "\t3 & 5                               & 1st                             & 0                               & Allison, Mrs. Hudson J C (Bessi & female                          & 25                              & 1                               & 2                               & 113781                          & 151.550003                      & C22 C26                         & Southampton                     &                                 & NA                              & Montreal, PQ / Chesterville, ON & adult                          \\\\\n",
       "\\end{tabular}\n"
      ],
      "text/plain": [
       "  X pclass survived                            name    sex age sibsp parch\n",
       "1 1    1st        1   Allen, Miss. Elisabeth Walton female  29     0     0\n",
       "2 3    1st        0    Allison, Miss. Helen Loraine female   2     1     2\n",
       "3 5    1st        0 Allison, Mrs. Hudson J C (Bessi female  25     1     2\n",
       "  ticket     fare   cabin    embarked boat body                       home.dest\n",
       "1  24160 211.3375      B5 Southampton    2   NA                    St Louis, MO\n",
       "2 113781 151.5500 C22 C26 Southampton        NA Montreal, PQ / Chesterville, ON\n",
       "3 113781 151.5500 C22 C26 Southampton        NA Montreal, PQ / Chesterville, ON\n",
       "  isminor\n",
       "1   adult\n",
       "2   adult\n",
       "3   adult"
      ]
     },
     "metadata": {},
     "output_type": "display_data"
    }
   ],
   "source": [
    "head(titanic.dt[,\":=\"(isminor,\"adult\")],3)"
   ]
  },
  {
   "cell_type": "code",
   "execution_count": 73,
   "metadata": {
    "collapsed": false
   },
   "outputs": [
    {
     "data": {
      "text/html": [
       "<table>\n",
       "<thead><tr><th></th><th scope=col>X</th><th scope=col>pclass</th><th scope=col>survived</th><th scope=col>name</th><th scope=col>sex</th><th scope=col>age</th><th scope=col>sibsp</th><th scope=col>parch</th><th scope=col>ticket</th><th scope=col>fare</th><th scope=col>cabin</th><th scope=col>embarked</th><th scope=col>boat</th><th scope=col>body</th><th scope=col>home.dest</th><th scope=col>isminor</th></tr></thead>\n",
       "<tbody>\n",
       "\t<tr><th scope=row>1</th><td>1                            </td><td>1st                          </td><td>1                            </td><td>Allen, Miss. Elisabeth Walton</td><td>female                       </td><td>29                           </td><td>0                            </td><td>0                            </td><td>24160                        </td><td>211.337494                   </td><td>B5                           </td><td>Southampton                  </td><td>2                            </td><td>NA                           </td><td>St Louis, MO                 </td><td>adult                        </td></tr>\n",
       "\t<tr><th scope=row>2</th><td>3                              </td><td>1st                            </td><td>0                              </td><td>Allison, Miss. Helen Loraine   </td><td>female                         </td><td>2                              </td><td>1                              </td><td>2                              </td><td>113781                         </td><td>151.550003                     </td><td>C22 C26                        </td><td>Southampton                    </td><td>                               </td><td>NA                             </td><td>Montreal, PQ / Chesterville, ON</td><td>child                          </td></tr>\n",
       "\t<tr><th scope=row>3</th><td>5                              </td><td>1st                            </td><td>0                              </td><td>Allison, Mrs. Hudson J C (Bessi</td><td>female                         </td><td>25                             </td><td>1                              </td><td>2                              </td><td>113781                         </td><td>151.550003                     </td><td>C22 C26                        </td><td>Southampton                    </td><td>                               </td><td>NA                             </td><td>Montreal, PQ / Chesterville, ON</td><td>adult                          </td></tr>\n",
       "</tbody>\n",
       "</table>\n"
      ],
      "text/latex": [
       "\\begin{tabular}{r|llllllllllllllll}\n",
       "  & X & pclass & survived & name & sex & age & sibsp & parch & ticket & fare & cabin & embarked & boat & body & home.dest & isminor\\\\\n",
       "\\hline\n",
       "\t1 & 1                             & 1st                           & 1                             & Allen, Miss. Elisabeth Walton & female                        & 29                            & 0                             & 0                             & 24160                         & 211.337494                    & B5                            & Southampton                   & 2                             & NA                            & St Louis, MO                  & adult                        \\\\\n",
       "\t2 & 3                               & 1st                             & 0                               & Allison, Miss. Helen Loraine    & female                          & 2                               & 1                               & 2                               & 113781                          & 151.550003                      & C22 C26                         & Southampton                     &                                 & NA                              & Montreal, PQ / Chesterville, ON & child                          \\\\\n",
       "\t3 & 5                               & 1st                             & 0                               & Allison, Mrs. Hudson J C (Bessi & female                          & 25                              & 1                               & 2                               & 113781                          & 151.550003                      & C22 C26                         & Southampton                     &                                 & NA                              & Montreal, PQ / Chesterville, ON & adult                          \\\\\n",
       "\\end{tabular}\n"
      ],
      "text/plain": [
       "  X pclass survived                            name    sex age sibsp parch\n",
       "1 1    1st        1   Allen, Miss. Elisabeth Walton female  29     0     0\n",
       "2 3    1st        0    Allison, Miss. Helen Loraine female   2     1     2\n",
       "3 5    1st        0 Allison, Mrs. Hudson J C (Bessi female  25     1     2\n",
       "  ticket     fare   cabin    embarked boat body                       home.dest\n",
       "1  24160 211.3375      B5 Southampton    2   NA                    St Louis, MO\n",
       "2 113781 151.5500 C22 C26 Southampton        NA Montreal, PQ / Chesterville, ON\n",
       "3 113781 151.5500 C22 C26 Southampton        NA Montreal, PQ / Chesterville, ON\n",
       "  isminor\n",
       "1   adult\n",
       "2   child\n",
       "3   adult"
      ]
     },
     "metadata": {},
     "output_type": "display_data"
    }
   ],
   "source": [
    "head(titanic.dt[age<15,\":=\"(isminor,\"child\")],3)"
   ]
  },
  {
   "cell_type": "markdown",
   "metadata": {},
   "source": [
    "## ETC\n",
    " - 이해 할 수 없는 부분. 공부가 필요."
   ]
  },
  {
   "cell_type": "code",
   "execution_count": 74,
   "metadata": {
    "collapsed": false
   },
   "outputs": [
    {
     "data": {
      "text/html": [
       "<table>\n",
       "<thead><tr><th></th><th scope=col>pclass</th><th scope=col>sex</th><th scope=col>isminor</th><th scope=col>psurvived</th></tr></thead>\n",
       "<tbody>\n",
       "\t<tr><th scope=row>1</th><td>1st              </td><td>female           </td><td>adult            </td><td>0.971830985915493</td></tr>\n",
       "\t<tr><th scope=row>2</th><td>1st   </td><td>female</td><td>child </td><td>0.5   </td></tr>\n",
       "\t<tr><th scope=row>3</th><td>1st  </td><td>male </td><td>child</td><td>1    </td></tr>\n",
       "\t<tr><th scope=row>4</th><td>1st             </td><td>male            </td><td>adult           </td><td>0.32183908045977</td></tr>\n",
       "\t<tr><th scope=row>5</th><td>2nd              </td><td>female           </td><td>adult            </td><td>0.868131868131868</td></tr>\n",
       "\t<tr><th scope=row>6</th><td>2nd   </td><td>female</td><td>child </td><td>1     </td></tr>\n",
       "\t<tr><th scope=row>7</th><td>2nd               </td><td>male              </td><td>adult             </td><td>0.0880503144654088</td></tr>\n",
       "\t<tr><th scope=row>8</th><td>2nd              </td><td>male             </td><td>child            </td><td>0.916666666666667</td></tr>\n",
       "\t<tr><th scope=row>9</th><td>3rd              </td><td>female           </td><td>adult            </td><td>0.494505494505495</td></tr>\n",
       "\t<tr><th scope=row>10</th><td>3rd              </td><td>female           </td><td>child            </td><td>0.470588235294118</td></tr>\n",
       "\t<tr><th scope=row>11</th><td>3rd             </td><td>male            </td><td>adult           </td><td>0.13716814159292</td></tr>\n",
       "\t<tr><th scope=row>12</th><td>3rd              </td><td>male             </td><td>child            </td><td>0.317073170731707</td></tr>\n",
       "</tbody>\n",
       "</table>\n"
      ],
      "text/latex": [
       "\\begin{tabular}{r|llll}\n",
       "  & pclass & sex & isminor & psurvived\\\\\n",
       "\\hline\n",
       "\t1 & 1st               & female            & adult             & 0.971830985915493\\\\\n",
       "\t2 & 1st    & female & child  & 0.5   \\\\\n",
       "\t3 & 1st   & male  & child & 1    \\\\\n",
       "\t4 & 1st              & male             & adult            & 0.32183908045977\\\\\n",
       "\t5 & 2nd               & female            & adult             & 0.868131868131868\\\\\n",
       "\t6 & 2nd    & female & child  & 1     \\\\\n",
       "\t7 & 2nd                & male               & adult              & 0.0880503144654088\\\\\n",
       "\t8 & 2nd               & male              & child             & 0.916666666666667\\\\\n",
       "\t9 & 3rd               & female            & adult             & 0.494505494505495\\\\\n",
       "\t10 & 3rd               & female            & child             & 0.470588235294118\\\\\n",
       "\t11 & 3rd              & male             & adult            & 0.13716814159292\\\\\n",
       "\t12 & 3rd               & male              & child             & 0.317073170731707\\\\\n",
       "\\end{tabular}\n"
      ],
      "text/plain": [
       "   pclass    sex isminor  psurvived\n",
       "1     1st female   adult 0.97183099\n",
       "2     1st female   child 0.50000000\n",
       "3     1st   male   child 1.00000000\n",
       "4     1st   male   adult 0.32183908\n",
       "5     2nd female   adult 0.86813187\n",
       "6     2nd female   child 1.00000000\n",
       "7     2nd   male   adult 0.08805031\n",
       "8     2nd   male   child 0.91666667\n",
       "9     3rd female   adult 0.49450549\n",
       "10    3rd female   child 0.47058824\n",
       "11    3rd   male   adult 0.13716814\n",
       "12    3rd   male   child 0.31707317"
      ]
     },
     "metadata": {},
     "output_type": "display_data"
    },
    {
     "data": {
      "text/html": [
       "<table>\n",
       "<thead><tr><th></th><th scope=col>pclass</th><th scope=col>sex</th><th scope=col>isminor</th><th scope=col>psurvived</th><th scope=col>sex_age</th></tr></thead>\n",
       "<tbody>\n",
       "\t<tr><th scope=row>1</th><td>1st              </td><td>female           </td><td>adult            </td><td>0.971830985915493</td><td>female_adult     </td></tr>\n",
       "\t<tr><th scope=row>2</th><td>1st         </td><td>female      </td><td>child       </td><td>0.5         </td><td>female_child</td></tr>\n",
       "\t<tr><th scope=row>3</th><td>1st       </td><td>male      </td><td>child     </td><td>1         </td><td>male_child</td></tr>\n",
       "\t<tr><th scope=row>4</th><td>1st             </td><td>male            </td><td>adult           </td><td>0.32183908045977</td><td>male_adult      </td></tr>\n",
       "\t<tr><th scope=row>5</th><td>2nd              </td><td>female           </td><td>adult            </td><td>0.868131868131868</td><td>female_adult     </td></tr>\n",
       "\t<tr><th scope=row>6</th><td>2nd         </td><td>female      </td><td>child       </td><td>1           </td><td>female_child</td></tr>\n",
       "\t<tr><th scope=row>7</th><td>2nd               </td><td>male              </td><td>adult             </td><td>0.0880503144654088</td><td>male_adult        </td></tr>\n",
       "\t<tr><th scope=row>8</th><td>2nd              </td><td>male             </td><td>child            </td><td>0.916666666666667</td><td>male_child       </td></tr>\n",
       "\t<tr><th scope=row>9</th><td>3rd              </td><td>female           </td><td>adult            </td><td>0.494505494505495</td><td>female_adult     </td></tr>\n",
       "\t<tr><th scope=row>10</th><td>3rd              </td><td>female           </td><td>child            </td><td>0.470588235294118</td><td>female_child     </td></tr>\n",
       "\t<tr><th scope=row>11</th><td>3rd             </td><td>male            </td><td>adult           </td><td>0.13716814159292</td><td>male_adult      </td></tr>\n",
       "\t<tr><th scope=row>12</th><td>3rd              </td><td>male             </td><td>child            </td><td>0.317073170731707</td><td>male_child       </td></tr>\n",
       "</tbody>\n",
       "</table>\n"
      ],
      "text/latex": [
       "\\begin{tabular}{r|lllll}\n",
       "  & pclass & sex & isminor & psurvived & sex\\_age\\\\\n",
       "\\hline\n",
       "\t1 & 1st               & female            & adult             & 0.971830985915493 & female\\_adult   \\\\\n",
       "\t2 & 1st            & female         & child          & 0.5            & female\\_child\\\\\n",
       "\t3 & 1st          & male         & child        & 1            & male\\_child\\\\\n",
       "\t4 & 1st              & male             & adult            & 0.32183908045977 & male\\_adult    \\\\\n",
       "\t5 & 2nd               & female            & adult             & 0.868131868131868 & female\\_adult   \\\\\n",
       "\t6 & 2nd            & female         & child          & 1              & female\\_child\\\\\n",
       "\t7 & 2nd                & male               & adult              & 0.0880503144654088 & male\\_adult      \\\\\n",
       "\t8 & 2nd               & male              & child             & 0.916666666666667 & male\\_child     \\\\\n",
       "\t9 & 3rd               & female            & adult             & 0.494505494505495 & female\\_adult   \\\\\n",
       "\t10 & 3rd               & female            & child             & 0.470588235294118 & female\\_child   \\\\\n",
       "\t11 & 3rd              & male             & adult            & 0.13716814159292 & male\\_adult    \\\\\n",
       "\t12 & 3rd               & male              & child             & 0.317073170731707 & male\\_child     \\\\\n",
       "\\end{tabular}\n"
      ],
      "text/plain": [
       "   pclass    sex isminor  psurvived      sex_age\n",
       "1     1st female   adult 0.97183099 female_adult\n",
       "2     1st female   child 0.50000000 female_child\n",
       "3     1st   male   child 1.00000000   male_child\n",
       "4     1st   male   adult 0.32183908   male_adult\n",
       "5     2nd female   adult 0.86813187 female_adult\n",
       "6     2nd female   child 1.00000000 female_child\n",
       "7     2nd   male   adult 0.08805031   male_adult\n",
       "8     2nd   male   child 0.91666667   male_child\n",
       "9     3rd female   adult 0.49450549 female_adult\n",
       "10    3rd female   child 0.47058824 female_child\n",
       "11    3rd   male   adult 0.13716814   male_adult\n",
       "12    3rd   male   child 0.31707317   male_child"
      ]
     },
     "metadata": {},
     "output_type": "display_data"
    }
   ],
   "source": [
    "survived_pclass_sex_isminor <- titanic.dt[,list(cntsurv=length(which(survived == 1)), cntdie=length(which(survived == 0))), by=list(pclass, sex, isminor)][,list(psurvived=cntsurv/(cntsurv + cntdie)),by=list(pclass, sex, isminor)]\n",
    "\n",
    "survived_pclass_sex_isminor \n",
    "survived_pclass_sex_isminor$sex_age <- apply(survived_pclass_sex_isminor[,list(sex,isminor)], 1, paste, collapse=\"_\")\n",
    "\n",
    "survived_pclass_sex_isminor"
   ]
  }
 ],
 "metadata": {
  "anaconda-cloud": {},
  "kernelspec": {
   "display_name": "R 3.3",
   "language": "R",
   "name": "ir33"
  },
  "language_info": {
   "codemirror_mode": "r",
   "file_extension": ".r",
   "mimetype": "text/x-r-source",
   "name": "R",
   "pygments_lexer": "r",
   "version": "3.3.1"
  }
 },
 "nbformat": 4,
 "nbformat_minor": 0
}
