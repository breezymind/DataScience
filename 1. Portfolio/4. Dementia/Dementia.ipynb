{
 "cells": [
  {
   "cell_type": "markdown",
   "metadata": {},
   "source": [
    "# Dementia (임상 치매 환자 판별 및 설문지 재구성)\n",
    " - <a href=\"Dementia.pptx\"> 발표자료 </a>\n",
    " \n",
    "### 치매를 보다 신속하게 진단/선별하는 방법을 모색한다\n",
    "        << 현황 >> \n",
    "  - 총 117문항으로 이루어진 선별 검사의 긴 소요시간으로 인한 컴플레인 발생\n",
    "    \n",
    "        << 목표 >> \n",
    "  - 최소한의 소요시간과 최대한의 정확도로 치매 환자 예측 기법 발굴 ⇒ 최소화한 선별 검사로 선별력 향상도에 기여"
   ]
  },
  {
   "cell_type": "markdown",
   "metadata": {},
   "source": [
    "<img src=\"1.PNG\" width=700>\n",
    "<img src=\"2.PNG\" width=700>\n",
    "<img src=\"3.PNG\" width=700>\n",
    "<img src=\"4.PNG\" width=700>"
   ]
  },
  {
   "cell_type": "markdown",
   "metadata": {},
   "source": [
    "- KDSQ:Korean Dementia Screen Questionnaire- 보호자용 설문지\n",
    "- SIADL:Seoul Instrumental Activities of Daily Living- 도구적 일상생활능력평가지\n",
    "- NPI:Neuropsychistric Inventory- 신경정신과적 증상 평가지\n",
    "- MMSE:Meni-Mental State Examination- 환자용 평가지\n",
    "- KGDS:Korean Geriatric Depression Scale- 한국형 노인우울증 평가지"
   ]
  },
  {
   "cell_type": "code",
   "execution_count": 2,
   "metadata": {
    "collapsed": false
   },
   "outputs": [],
   "source": [
    "library(psych) ; library(GPArotation) ; library(lattice) ; library(caret)\n",
    "library(C50) ; library(ROCR) ; library(e1071) ; library(Epi) ; library(pROC)\n",
    "library(ggplot2) ; library(scales) ; library(plyr) ; library(reshape2)\n",
    "library(RColorBrewer)"
   ]
  },
  {
   "cell_type": "code",
   "execution_count": 6,
   "metadata": {
    "collapsed": false
   },
   "outputs": [
    {
     "data": {
      "text/html": [
       "<table>\n",
       "<thead><tr><th></th><th scope=col>Dx_str</th><th scope=col>Dx</th><th scope=col>Dx1</th><th scope=col>Dx2</th><th scope=col>Gender</th><th scope=col>Education</th><th scope=col>Age</th><th scope=col>Date</th><th scope=col>Smoking</th><th scope=col>FHx_dementia</th><th scope=col>...</th><th scope=col>MMSE_R</th><th scope=col>MMSE_Or_time</th><th scope=col>MMSE_Or_place</th><th scope=col>MMSE_regist</th><th scope=col>MMSE_att</th><th scope=col>MMSE_recall</th><th scope=col>MMSE_lang</th><th scope=col>KDSQ_mem</th><th scope=col>KDSQ_others</th><th scope=col>KDSQ_ADL</th></tr></thead>\n",
       "<tbody>\n",
       "\t<tr><th scope=row>1</th><td>dementia  </td><td>2         </td><td>1         </td><td>1         </td><td>0         </td><td>0         </td><td>72        </td><td>2006-03-29</td><td>0         </td><td>0         </td><td>...       </td><td>12        </td><td>4         </td><td>4         </td><td>3         </td><td>0         </td><td>0         </td><td>7         </td><td>4         </td><td>6         </td><td>2         </td></tr>\n",
       "\t<tr><th scope=row>2</th><td>dementia  </td><td>2         </td><td>1         </td><td>1         </td><td>0         </td><td>6         </td><td>68        </td><td>2006-03-29</td><td>0         </td><td>0         </td><td>...       </td><td>10        </td><td>3         </td><td>5         </td><td>3         </td><td>0         </td><td>0         </td><td>9         </td><td>6         </td><td>3         </td><td>0         </td></tr>\n",
       "\t<tr><th scope=row>3</th><td>dementia  </td><td>2         </td><td>1         </td><td>1         </td><td>0         </td><td>0         </td><td>79        </td><td>2006-04-21</td><td>0         </td><td>0         </td><td>...       </td><td>12        </td><td>3         </td><td>2         </td><td>3         </td><td>0         </td><td>3         </td><td>7         </td><td>8         </td><td>6         </td><td>4         </td></tr>\n",
       "\t<tr><th scope=row>4</th><td>dementia  </td><td>2         </td><td>1         </td><td>1         </td><td>0         </td><td>6         </td><td>73        </td><td>2006-04-21</td><td>0         </td><td>0         </td><td>...       </td><td>15        </td><td>1         </td><td>3         </td><td>3         </td><td>0         </td><td>0         </td><td>8         </td><td>8         </td><td>4         </td><td>5         </td></tr>\n",
       "\t<tr><th scope=row>5</th><td>dementia  </td><td>2         </td><td>1         </td><td>1         </td><td>0         </td><td>0         </td><td>76        </td><td>2006-05-02</td><td>0         </td><td>0         </td><td>...       </td><td>22        </td><td>0         </td><td>1         </td><td>2         </td><td>0         </td><td>0         </td><td>5         </td><td>9         </td><td>6         </td><td>8         </td></tr>\n",
       "\t<tr><th scope=row>6</th><td>dementia  </td><td>2         </td><td>1         </td><td>1         </td><td>0         </td><td>9         </td><td>79        </td><td>2006-05-12</td><td>1         </td><td>0         </td><td>...       </td><td>15        </td><td>1         </td><td>3         </td><td>3         </td><td>2         </td><td>0         </td><td>6         </td><td>10        </td><td>6         </td><td>7         </td></tr>\n",
       "</tbody>\n",
       "</table>\n"
      ],
      "text/latex": [
       "\\begin{tabular}{r|llllllllllllllllllllllllllllllllllllllllllllllllllllllllllllllllllllllllllllllllllllllllllllllllllllllllllllllllllllll}\n",
       "  & Dx\\_str & Dx & Dx1 & Dx2 & Gender & Education & Age & Date & Smoking & FHx\\_dementia & ... & MMSE\\_R & MMSE\\_Or\\_time & MMSE\\_Or\\_place & MMSE\\_regist & MMSE\\_att & MMSE\\_recall & MMSE\\_lang & KDSQ\\_mem & KDSQ\\_others & KDSQ\\_ADL\\\\\n",
       "\\hline\n",
       "\t1 & dementia   & 2          & 1          & 1          & 0          & 0          & 72         & 2006-03-29 & 0          & 0          & ...        & 12         & 4          & 4          & 3          & 0          & 0          & 7          & 4          & 6          & 2         \\\\\n",
       "\t2 & dementia   & 2          & 1          & 1          & 0          & 6          & 68         & 2006-03-29 & 0          & 0          & ...        & 10         & 3          & 5          & 3          & 0          & 0          & 9          & 6          & 3          & 0         \\\\\n",
       "\t3 & dementia   & 2          & 1          & 1          & 0          & 0          & 79         & 2006-04-21 & 0          & 0          & ...        & 12         & 3          & 2          & 3          & 0          & 3          & 7          & 8          & 6          & 4         \\\\\n",
       "\t4 & dementia   & 2          & 1          & 1          & 0          & 6          & 73         & 2006-04-21 & 0          & 0          & ...        & 15         & 1          & 3          & 3          & 0          & 0          & 8          & 8          & 4          & 5         \\\\\n",
       "\t5 & dementia   & 2          & 1          & 1          & 0          & 0          & 76         & 2006-05-02 & 0          & 0          & ...        & 22         & 0          & 1          & 2          & 0          & 0          & 5          & 9          & 6          & 8         \\\\\n",
       "\t6 & dementia   & 2          & 1          & 1          & 0          & 9          & 79         & 2006-05-12 & 1          & 0          & ...        & 15         & 1          & 3          & 3          & 2          & 0          & 6          & 10         & 6          & 7         \\\\\n",
       "\\end{tabular}\n"
      ],
      "text/plain": [
       "    Dx_str Dx Dx1 Dx2 Gender Education Age       Date Smoking FHx_dementia ...\n",
       "1 dementia  2   1   1      0         0  72 2006-03-29       0            0 ...\n",
       "2 dementia  2   1   1      0         6  68 2006-03-29       0            0 ...\n",
       "3 dementia  2   1   1      0         0  79 2006-04-21       0            0 ...\n",
       "4 dementia  2   1   1      0         6  73 2006-04-21       0            0 ...\n",
       "5 dementia  2   1   1      0         0  76 2006-05-02       0            0 ...\n",
       "6 dementia  2   1   1      0         9  79 2006-05-12       1            0 ...\n",
       "  MMSE_R MMSE_Or_time MMSE_Or_place MMSE_regist MMSE_att MMSE_recall MMSE_lang\n",
       "1     12            4             4           3        0           0         7\n",
       "2     10            3             5           3        0           0         9\n",
       "3     12            3             2           3        0           3         7\n",
       "4     15            1             3           3        0           0         8\n",
       "5     22            0             1           2        0           0         5\n",
       "6     15            1             3           3        2           0         6\n",
       "  KDSQ_mem KDSQ_others KDSQ_ADL\n",
       "1        4           6        2\n",
       "2        6           3        0\n",
       "3        8           6        4\n",
       "4        8           4        5\n",
       "5        9           6        8\n",
       "6       10           6        7"
      ]
     },
     "metadata": {},
     "output_type": "display_data"
    }
   ],
   "source": [
    "NP_test <- read.csv(\"data/NP_test.csv\", header = TRUE)\n",
    "NP_test <- NP_test[,-1]\n",
    "head(NP_test)"
   ]
  },
  {
   "cell_type": "markdown",
   "metadata": {},
   "source": [
    "## 범주형 자료 변환 "
   ]
  },
  {
   "cell_type": "code",
   "execution_count": null,
   "metadata": {
    "collapsed": true
   },
   "outputs": [],
   "source": []
  }
 ],
 "metadata": {
  "kernelspec": {
   "display_name": "R 3.3",
   "language": "R",
   "name": "ir33"
  },
  "language_info": {
   "codemirror_mode": "r",
   "file_extension": ".r",
   "mimetype": "text/x-r-source",
   "name": "R",
   "pygments_lexer": "r",
   "version": "3.3.1"
  }
 },
 "nbformat": 4,
 "nbformat_minor": 0
}
