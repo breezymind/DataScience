{
 "cells": [
  {
   "cell_type": "markdown",
   "metadata": {},
   "source": [
    "# QVC Challenge Python Verison(Convertion from R)"
   ]
  },
  {
   "cell_type": "code",
   "execution_count": 2,
   "metadata": {
    "collapsed": true
   },
   "outputs": [],
   "source": [
    "import numpy as np \n",
    "import pandas as pd \n",
    "import matplotlib.pyplot as plt"
   ]
  },
  {
   "cell_type": "code",
   "execution_count": 83,
   "metadata": {
    "collapsed": false
   },
   "outputs": [
    {
     "data": {
      "text/html": [
       "<div>\n",
       "<table border=\"1\" class=\"dataframe\">\n",
       "  <thead>\n",
       "    <tr style=\"text-align: right;\">\n",
       "      <th></th>\n",
       "      <th>CUSTOMER_NBR</th>\n",
       "      <th>STATE</th>\n",
       "      <th>ZIP_CODE</th>\n",
       "      <th>SHOPPER_SEGMENT_CODE</th>\n",
       "    </tr>\n",
       "  </thead>\n",
       "  <tbody>\n",
       "    <tr>\n",
       "      <th>0</th>\n",
       "      <td>405680</td>\n",
       "      <td>OR</td>\n",
       "      <td>97331</td>\n",
       "      <td>NaN</td>\n",
       "    </tr>\n",
       "    <tr>\n",
       "      <th>1</th>\n",
       "      <td>634748</td>\n",
       "      <td>IL</td>\n",
       "      <td>60126</td>\n",
       "      <td>1</td>\n",
       "    </tr>\n",
       "    <tr>\n",
       "      <th>2</th>\n",
       "      <td>693545</td>\n",
       "      <td>MI</td>\n",
       "      <td>48170</td>\n",
       "      <td>1</td>\n",
       "    </tr>\n",
       "    <tr>\n",
       "      <th>3</th>\n",
       "      <td>473617</td>\n",
       "      <td>DE</td>\n",
       "      <td>19720</td>\n",
       "      <td>1</td>\n",
       "    </tr>\n",
       "    <tr>\n",
       "      <th>4</th>\n",
       "      <td>620023</td>\n",
       "      <td>TN</td>\n",
       "      <td>38018</td>\n",
       "      <td>NaN</td>\n",
       "    </tr>\n",
       "  </tbody>\n",
       "</table>\n",
       "</div>"
      ],
      "text/plain": [
       "   CUSTOMER_NBR STATE ZIP_CODE  SHOPPER_SEGMENT_CODE\n",
       "0        405680    OR    97331                   NaN\n",
       "1        634748    IL    60126                     1\n",
       "2        693545    MI    48170                     1\n",
       "3        473617    DE    19720                     1\n",
       "4        620023    TN    38018                   NaN"
      ]
     },
     "execution_count": 83,
     "metadata": {},
     "output_type": "execute_result"
    }
   ],
   "source": [
    "customer = pd.read_csv('Data/Customer master.csv')\n",
    "customer.head()"
   ]
  },
  {
   "cell_type": "code",
   "execution_count": 84,
   "metadata": {
    "collapsed": false
   },
   "outputs": [
    {
     "name": "stdout",
     "output_type": "stream",
     "text": [
      "<class 'pandas.core.frame.DataFrame'>\n",
      "Int64Index: 65535 entries, 0 to 65534\n",
      "Data columns (total 4 columns):\n",
      "CUSTOMER_NBR            65535 non-null int64\n",
      "STATE                   65535 non-null object\n",
      "ZIP_CODE                65535 non-null object\n",
      "SHOPPER_SEGMENT_CODE    49331 non-null float64\n",
      "dtypes: float64(1), int64(1), object(2)\n",
      "memory usage: 2.5+ MB\n"
     ]
    }
   ],
   "source": [
    "customer.info()"
   ]
  },
  {
   "cell_type": "markdown",
   "metadata": {},
   "source": [
    "## customer handing \n",
    " - SEGEMENT NAN -> 0 "
   ]
  },
  {
   "cell_type": "code",
   "execution_count": 85,
   "metadata": {
    "collapsed": false
   },
   "outputs": [],
   "source": [
    "customer.SHOPPER_SEGMENT_CODE = customer.SHOPPER_SEGMENT_CODE.fillna(0)"
   ]
  },
  {
   "cell_type": "code",
   "execution_count": 86,
   "metadata": {
    "collapsed": false
   },
   "outputs": [
    {
     "data": {
      "text/html": [
       "<div>\n",
       "<table border=\"1\" class=\"dataframe\">\n",
       "  <thead>\n",
       "    <tr style=\"text-align: right;\">\n",
       "      <th></th>\n",
       "      <th>CUSTOMER_NBR</th>\n",
       "      <th>STATE</th>\n",
       "      <th>ZIP_CODE</th>\n",
       "      <th>SHOPPER_SEGMENT_CODE</th>\n",
       "    </tr>\n",
       "  </thead>\n",
       "  <tbody>\n",
       "    <tr>\n",
       "      <th>0</th>\n",
       "      <td>405680</td>\n",
       "      <td>OR</td>\n",
       "      <td>97331</td>\n",
       "      <td>0</td>\n",
       "    </tr>\n",
       "    <tr>\n",
       "      <th>1</th>\n",
       "      <td>634748</td>\n",
       "      <td>IL</td>\n",
       "      <td>60126</td>\n",
       "      <td>1</td>\n",
       "    </tr>\n",
       "    <tr>\n",
       "      <th>2</th>\n",
       "      <td>693545</td>\n",
       "      <td>MI</td>\n",
       "      <td>48170</td>\n",
       "      <td>1</td>\n",
       "    </tr>\n",
       "    <tr>\n",
       "      <th>3</th>\n",
       "      <td>473617</td>\n",
       "      <td>DE</td>\n",
       "      <td>19720</td>\n",
       "      <td>1</td>\n",
       "    </tr>\n",
       "    <tr>\n",
       "      <th>4</th>\n",
       "      <td>620023</td>\n",
       "      <td>TN</td>\n",
       "      <td>38018</td>\n",
       "      <td>0</td>\n",
       "    </tr>\n",
       "  </tbody>\n",
       "</table>\n",
       "</div>"
      ],
      "text/plain": [
       "   CUSTOMER_NBR STATE ZIP_CODE  SHOPPER_SEGMENT_CODE\n",
       "0        405680    OR    97331                     0\n",
       "1        634748    IL    60126                     1\n",
       "2        693545    MI    48170                     1\n",
       "3        473617    DE    19720                     1\n",
       "4        620023    TN    38018                     0"
      ]
     },
     "execution_count": 86,
     "metadata": {},
     "output_type": "execute_result"
    }
   ],
   "source": [
    "customer.head()"
   ]
  },
  {
   "cell_type": "markdown",
   "metadata": {},
   "source": [
    "### Zip "
   ]
  },
  {
   "cell_type": "code",
   "execution_count": 87,
   "metadata": {
    "collapsed": true
   },
   "outputs": [],
   "source": [
    "zips = pd.read_csv('Data/zipcode.csv')"
   ]
  },
  {
   "cell_type": "code",
   "execution_count": 88,
   "metadata": {
    "collapsed": false
   },
   "outputs": [
    {
     "data": {
      "text/html": [
       "<div>\n",
       "<table border=\"1\" class=\"dataframe\">\n",
       "  <thead>\n",
       "    <tr style=\"text-align: right;\">\n",
       "      <th></th>\n",
       "      <th>zip</th>\n",
       "      <th>city</th>\n",
       "      <th>state</th>\n",
       "      <th>latitude</th>\n",
       "      <th>longitude</th>\n",
       "      <th>timezone</th>\n",
       "      <th>dst</th>\n",
       "    </tr>\n",
       "  </thead>\n",
       "  <tbody>\n",
       "    <tr>\n",
       "      <th>0</th>\n",
       "      <td>210</td>\n",
       "      <td>Portsmouth</td>\n",
       "      <td>NH</td>\n",
       "      <td>43.005895</td>\n",
       "      <td>-71.013202</td>\n",
       "      <td>-5</td>\n",
       "      <td>1</td>\n",
       "    </tr>\n",
       "    <tr>\n",
       "      <th>1</th>\n",
       "      <td>211</td>\n",
       "      <td>Portsmouth</td>\n",
       "      <td>NH</td>\n",
       "      <td>43.005895</td>\n",
       "      <td>-71.013202</td>\n",
       "      <td>-5</td>\n",
       "      <td>1</td>\n",
       "    </tr>\n",
       "    <tr>\n",
       "      <th>2</th>\n",
       "      <td>212</td>\n",
       "      <td>Portsmouth</td>\n",
       "      <td>NH</td>\n",
       "      <td>43.005895</td>\n",
       "      <td>-71.013202</td>\n",
       "      <td>-5</td>\n",
       "      <td>1</td>\n",
       "    </tr>\n",
       "    <tr>\n",
       "      <th>3</th>\n",
       "      <td>213</td>\n",
       "      <td>Portsmouth</td>\n",
       "      <td>NH</td>\n",
       "      <td>43.005895</td>\n",
       "      <td>-71.013202</td>\n",
       "      <td>-5</td>\n",
       "      <td>1</td>\n",
       "    </tr>\n",
       "    <tr>\n",
       "      <th>4</th>\n",
       "      <td>214</td>\n",
       "      <td>Portsmouth</td>\n",
       "      <td>NH</td>\n",
       "      <td>43.005895</td>\n",
       "      <td>-71.013202</td>\n",
       "      <td>-5</td>\n",
       "      <td>1</td>\n",
       "    </tr>\n",
       "  </tbody>\n",
       "</table>\n",
       "</div>"
      ],
      "text/plain": [
       "   zip        city state   latitude  longitude  timezone  dst\n",
       "0  210  Portsmouth    NH  43.005895 -71.013202        -5    1\n",
       "1  211  Portsmouth    NH  43.005895 -71.013202        -5    1\n",
       "2  212  Portsmouth    NH  43.005895 -71.013202        -5    1\n",
       "3  213  Portsmouth    NH  43.005895 -71.013202        -5    1\n",
       "4  214  Portsmouth    NH  43.005895 -71.013202        -5    1"
      ]
     },
     "execution_count": 88,
     "metadata": {},
     "output_type": "execute_result"
    }
   ],
   "source": [
    "zips.head()"
   ]
  },
  {
   "cell_type": "code",
   "execution_count": 89,
   "metadata": {
    "collapsed": false
   },
   "outputs": [
    {
     "data": {
      "text/html": [
       "<div>\n",
       "<table border=\"1\" class=\"dataframe\">\n",
       "  <thead>\n",
       "    <tr style=\"text-align: right;\">\n",
       "      <th></th>\n",
       "      <th>zip</th>\n",
       "      <th>city</th>\n",
       "      <th>latitude</th>\n",
       "      <th>longitude</th>\n",
       "    </tr>\n",
       "  </thead>\n",
       "  <tbody>\n",
       "    <tr>\n",
       "      <th>0</th>\n",
       "      <td>210</td>\n",
       "      <td>Portsmouth</td>\n",
       "      <td>43.005895</td>\n",
       "      <td>-71.013202</td>\n",
       "    </tr>\n",
       "    <tr>\n",
       "      <th>1</th>\n",
       "      <td>211</td>\n",
       "      <td>Portsmouth</td>\n",
       "      <td>43.005895</td>\n",
       "      <td>-71.013202</td>\n",
       "    </tr>\n",
       "    <tr>\n",
       "      <th>2</th>\n",
       "      <td>212</td>\n",
       "      <td>Portsmouth</td>\n",
       "      <td>43.005895</td>\n",
       "      <td>-71.013202</td>\n",
       "    </tr>\n",
       "    <tr>\n",
       "      <th>3</th>\n",
       "      <td>213</td>\n",
       "      <td>Portsmouth</td>\n",
       "      <td>43.005895</td>\n",
       "      <td>-71.013202</td>\n",
       "    </tr>\n",
       "    <tr>\n",
       "      <th>4</th>\n",
       "      <td>214</td>\n",
       "      <td>Portsmouth</td>\n",
       "      <td>43.005895</td>\n",
       "      <td>-71.013202</td>\n",
       "    </tr>\n",
       "  </tbody>\n",
       "</table>\n",
       "</div>"
      ],
      "text/plain": [
       "   zip        city   latitude  longitude\n",
       "0  210  Portsmouth  43.005895 -71.013202\n",
       "1  211  Portsmouth  43.005895 -71.013202\n",
       "2  212  Portsmouth  43.005895 -71.013202\n",
       "3  213  Portsmouth  43.005895 -71.013202\n",
       "4  214  Portsmouth  43.005895 -71.013202"
      ]
     },
     "execution_count": 89,
     "metadata": {},
     "output_type": "execute_result"
    }
   ],
   "source": [
    "zips.ix[:,[0,1,3,4]].head()"
   ]
  },
  {
   "cell_type": "code",
   "execution_count": 90,
   "metadata": {
    "collapsed": true
   },
   "outputs": [],
   "source": [
    "zips = zips.ix[:,[0,1,3,4]]"
   ]
  },
  {
   "cell_type": "code",
   "execution_count": 91,
   "metadata": {
    "collapsed": false
   },
   "outputs": [
    {
     "data": {
      "text/html": [
       "<div>\n",
       "<table border=\"1\" class=\"dataframe\">\n",
       "  <thead>\n",
       "    <tr style=\"text-align: right;\">\n",
       "      <th></th>\n",
       "      <th>zip</th>\n",
       "      <th>city</th>\n",
       "      <th>latitude</th>\n",
       "      <th>longitude</th>\n",
       "    </tr>\n",
       "  </thead>\n",
       "  <tbody>\n",
       "    <tr>\n",
       "      <th>41881</th>\n",
       "      <td>97331</td>\n",
       "      <td>Corvallis</td>\n",
       "      <td>44.565648</td>\n",
       "      <td>-123.27906</td>\n",
       "    </tr>\n",
       "  </tbody>\n",
       "</table>\n",
       "</div>"
      ],
      "text/plain": [
       "         zip       city   latitude  longitude\n",
       "41881  97331  Corvallis  44.565648 -123.27906"
      ]
     },
     "execution_count": 91,
     "metadata": {},
     "output_type": "execute_result"
    }
   ],
   "source": [
    "zips[zips.zip==97331]"
   ]
  },
  {
   "cell_type": "code",
   "execution_count": 92,
   "metadata": {
    "collapsed": false
   },
   "outputs": [],
   "source": [
    "zips = zips.rename(columns={'zip':'ZIP_CODE'})"
   ]
  },
  {
   "cell_type": "code",
   "execution_count": 93,
   "metadata": {
    "collapsed": false
   },
   "outputs": [
    {
     "data": {
      "text/html": [
       "<div>\n",
       "<table border=\"1\" class=\"dataframe\">\n",
       "  <thead>\n",
       "    <tr style=\"text-align: right;\">\n",
       "      <th></th>\n",
       "      <th>ZIP_CODE</th>\n",
       "      <th>city</th>\n",
       "      <th>latitude</th>\n",
       "      <th>longitude</th>\n",
       "    </tr>\n",
       "  </thead>\n",
       "  <tbody>\n",
       "    <tr>\n",
       "      <th>0</th>\n",
       "      <td>210</td>\n",
       "      <td>Portsmouth</td>\n",
       "      <td>43.005895</td>\n",
       "      <td>-71.013202</td>\n",
       "    </tr>\n",
       "    <tr>\n",
       "      <th>1</th>\n",
       "      <td>211</td>\n",
       "      <td>Portsmouth</td>\n",
       "      <td>43.005895</td>\n",
       "      <td>-71.013202</td>\n",
       "    </tr>\n",
       "    <tr>\n",
       "      <th>2</th>\n",
       "      <td>212</td>\n",
       "      <td>Portsmouth</td>\n",
       "      <td>43.005895</td>\n",
       "      <td>-71.013202</td>\n",
       "    </tr>\n",
       "    <tr>\n",
       "      <th>3</th>\n",
       "      <td>213</td>\n",
       "      <td>Portsmouth</td>\n",
       "      <td>43.005895</td>\n",
       "      <td>-71.013202</td>\n",
       "    </tr>\n",
       "    <tr>\n",
       "      <th>4</th>\n",
       "      <td>214</td>\n",
       "      <td>Portsmouth</td>\n",
       "      <td>43.005895</td>\n",
       "      <td>-71.013202</td>\n",
       "    </tr>\n",
       "  </tbody>\n",
       "</table>\n",
       "</div>"
      ],
      "text/plain": [
       "   ZIP_CODE        city   latitude  longitude\n",
       "0       210  Portsmouth  43.005895 -71.013202\n",
       "1       211  Portsmouth  43.005895 -71.013202\n",
       "2       212  Portsmouth  43.005895 -71.013202\n",
       "3       213  Portsmouth  43.005895 -71.013202\n",
       "4       214  Portsmouth  43.005895 -71.013202"
      ]
     },
     "execution_count": 93,
     "metadata": {},
     "output_type": "execute_result"
    }
   ],
   "source": [
    "zips.head()"
   ]
  },
  {
   "cell_type": "code",
   "execution_count": 114,
   "metadata": {
    "collapsed": false
   },
   "outputs": [],
   "source": [
    "customer['ZIP_CODE'] = pd.to_numeric(customer.ZIP_CODE,errors='ignore')"
   ]
  },
  {
   "cell_type": "code",
   "execution_count": 117,
   "metadata": {
    "collapsed": false
   },
   "outputs": [
    {
     "data": {
      "text/html": [
       "<div>\n",
       "<table border=\"1\" class=\"dataframe\">\n",
       "  <thead>\n",
       "    <tr style=\"text-align: right;\">\n",
       "      <th></th>\n",
       "      <th>CUSTOMER_NBR</th>\n",
       "      <th>STATE</th>\n",
       "      <th>ZIP_CODE</th>\n",
       "      <th>SHOPPER_SEGMENT_CODE</th>\n",
       "    </tr>\n",
       "  </thead>\n",
       "  <tbody>\n",
       "    <tr>\n",
       "      <th>1</th>\n",
       "      <td>634748</td>\n",
       "      <td>IL</td>\n",
       "      <td>60126</td>\n",
       "      <td>1</td>\n",
       "    </tr>\n",
       "    <tr>\n",
       "      <th>1159</th>\n",
       "      <td>325907</td>\n",
       "      <td>IL</td>\n",
       "      <td>60126</td>\n",
       "      <td>4</td>\n",
       "    </tr>\n",
       "    <tr>\n",
       "      <th>2078</th>\n",
       "      <td>458556</td>\n",
       "      <td>IL</td>\n",
       "      <td>60126</td>\n",
       "      <td>5</td>\n",
       "    </tr>\n",
       "    <tr>\n",
       "      <th>5192</th>\n",
       "      <td>171793</td>\n",
       "      <td>IL</td>\n",
       "      <td>60126</td>\n",
       "      <td>1</td>\n",
       "    </tr>\n",
       "    <tr>\n",
       "      <th>19871</th>\n",
       "      <td>440310</td>\n",
       "      <td>IL</td>\n",
       "      <td>60126</td>\n",
       "      <td>4</td>\n",
       "    </tr>\n",
       "    <tr>\n",
       "      <th>47321</th>\n",
       "      <td>649636</td>\n",
       "      <td>IL</td>\n",
       "      <td>60126</td>\n",
       "      <td>3</td>\n",
       "    </tr>\n",
       "    <tr>\n",
       "      <th>60029</th>\n",
       "      <td>635122</td>\n",
       "      <td>IL</td>\n",
       "      <td>60126</td>\n",
       "      <td>2</td>\n",
       "    </tr>\n",
       "  </tbody>\n",
       "</table>\n",
       "</div>"
      ],
      "text/plain": [
       "       CUSTOMER_NBR STATE ZIP_CODE  SHOPPER_SEGMENT_CODE\n",
       "1            634748    IL    60126                     1\n",
       "1159         325907    IL    60126                     4\n",
       "2078         458556    IL    60126                     5\n",
       "5192         171793    IL    60126                     1\n",
       "19871        440310    IL    60126                     4\n",
       "47321        649636    IL    60126                     3\n",
       "60029        635122    IL    60126                     2"
      ]
     },
     "execution_count": 117,
     "metadata": {},
     "output_type": "execute_result"
    }
   ],
   "source": [
    "customer[customer.ZIP_CODE=='60126']"
   ]
  },
  {
   "cell_type": "code",
   "execution_count": 70,
   "metadata": {
    "collapsed": false
   },
   "outputs": [
    {
     "data": {
      "text/html": [
       "<div>\n",
       "<table border=\"1\" class=\"dataframe\">\n",
       "  <thead>\n",
       "    <tr style=\"text-align: right;\">\n",
       "      <th></th>\n",
       "      <th>ZIP_CODE</th>\n",
       "      <th>city</th>\n",
       "      <th>latitude</th>\n",
       "      <th>longitude</th>\n",
       "    </tr>\n",
       "  </thead>\n",
       "  <tbody>\n",
       "    <tr>\n",
       "      <th>26842</th>\n",
       "      <td>60126</td>\n",
       "      <td>Elmhurst</td>\n",
       "      <td>41.89103</td>\n",
       "      <td>-87.94181</td>\n",
       "    </tr>\n",
       "  </tbody>\n",
       "</table>\n",
       "</div>"
      ],
      "text/plain": [
       "      ZIP_CODE      city  latitude  longitude\n",
       "26842    60126  Elmhurst  41.89103  -87.94181"
      ]
     },
     "execution_count": 70,
     "metadata": {},
     "output_type": "execute_result"
    }
   ],
   "source": [
    "zips[zips.ZIP_CODE==60126]"
   ]
  },
  {
   "cell_type": "markdown",
   "metadata": {},
   "source": [
    " - String 형으로 되어있엇다. 그래서 MERGE가 안됐다.\n",
    " - MERGE를 할때 Type이 중요하다. "
   ]
  },
  {
   "cell_type": "code",
   "execution_count": 118,
   "metadata": {
    "collapsed": true
   },
   "outputs": [],
   "source": [
    "zips.ZIP_CODE = zips.ZIP_CODE.astype(str) "
   ]
  },
  {
   "cell_type": "code",
   "execution_count": 119,
   "metadata": {
    "collapsed": false
   },
   "outputs": [
    {
     "data": {
      "text/html": [
       "<div>\n",
       "<table border=\"1\" class=\"dataframe\">\n",
       "  <thead>\n",
       "    <tr style=\"text-align: right;\">\n",
       "      <th></th>\n",
       "      <th>CUSTOMER_NBR</th>\n",
       "      <th>STATE</th>\n",
       "      <th>ZIP_CODE</th>\n",
       "      <th>SHOPPER_SEGMENT_CODE</th>\n",
       "      <th>city</th>\n",
       "      <th>latitude</th>\n",
       "      <th>longitude</th>\n",
       "    </tr>\n",
       "  </thead>\n",
       "  <tbody>\n",
       "    <tr>\n",
       "      <th>0</th>\n",
       "      <td>405680</td>\n",
       "      <td>OR</td>\n",
       "      <td>97331</td>\n",
       "      <td>0</td>\n",
       "      <td>Corvallis</td>\n",
       "      <td>44.565648</td>\n",
       "      <td>-123.27906</td>\n",
       "    </tr>\n",
       "    <tr>\n",
       "      <th>1</th>\n",
       "      <td>634748</td>\n",
       "      <td>IL</td>\n",
       "      <td>60126</td>\n",
       "      <td>1</td>\n",
       "      <td>Elmhurst</td>\n",
       "      <td>41.891030</td>\n",
       "      <td>-87.94181</td>\n",
       "    </tr>\n",
       "    <tr>\n",
       "      <th>2</th>\n",
       "      <td>325907</td>\n",
       "      <td>IL</td>\n",
       "      <td>60126</td>\n",
       "      <td>4</td>\n",
       "      <td>Elmhurst</td>\n",
       "      <td>41.891030</td>\n",
       "      <td>-87.94181</td>\n",
       "    </tr>\n",
       "    <tr>\n",
       "      <th>3</th>\n",
       "      <td>458556</td>\n",
       "      <td>IL</td>\n",
       "      <td>60126</td>\n",
       "      <td>5</td>\n",
       "      <td>Elmhurst</td>\n",
       "      <td>41.891030</td>\n",
       "      <td>-87.94181</td>\n",
       "    </tr>\n",
       "    <tr>\n",
       "      <th>4</th>\n",
       "      <td>171793</td>\n",
       "      <td>IL</td>\n",
       "      <td>60126</td>\n",
       "      <td>1</td>\n",
       "      <td>Elmhurst</td>\n",
       "      <td>41.891030</td>\n",
       "      <td>-87.94181</td>\n",
       "    </tr>\n",
       "  </tbody>\n",
       "</table>\n",
       "</div>"
      ],
      "text/plain": [
       "   CUSTOMER_NBR STATE ZIP_CODE  SHOPPER_SEGMENT_CODE       city   latitude  \\\n",
       "0        405680    OR    97331                     0  Corvallis  44.565648   \n",
       "1        634748    IL    60126                     1   Elmhurst  41.891030   \n",
       "2        325907    IL    60126                     4   Elmhurst  41.891030   \n",
       "3        458556    IL    60126                     5   Elmhurst  41.891030   \n",
       "4        171793    IL    60126                     1   Elmhurst  41.891030   \n",
       "\n",
       "   longitude  \n",
       "0 -123.27906  \n",
       "1  -87.94181  \n",
       "2  -87.94181  \n",
       "3  -87.94181  \n",
       "4  -87.94181  "
      ]
     },
     "execution_count": 119,
     "metadata": {},
     "output_type": "execute_result"
    }
   ],
   "source": [
    "pd.merge(customer,zips).head()"
   ]
  },
  {
   "cell_type": "code",
   "execution_count": 120,
   "metadata": {
    "collapsed": true
   },
   "outputs": [],
   "source": [
    "customer = pd.merge(customer,zips)"
   ]
  },
  {
   "cell_type": "markdown",
   "metadata": {},
   "source": [
    "### TimeZone "
   ]
  },
  {
   "cell_type": "code",
   "execution_count": 169,
   "metadata": {
    "collapsed": true
   },
   "outputs": [],
   "source": [
    "timezone = pd.read_csv(\"Data/timezone.csv\")"
   ]
  },
  {
   "cell_type": "code",
   "execution_count": 170,
   "metadata": {
    "collapsed": false
   },
   "outputs": [
    {
     "data": {
      "text/html": [
       "<div>\n",
       "<table border=\"1\" class=\"dataframe\">\n",
       "  <thead>\n",
       "    <tr style=\"text-align: right;\">\n",
       "      <th></th>\n",
       "      <th>city</th>\n",
       "      <th>state</th>\n",
       "      <th>timezone</th>\n",
       "    </tr>\n",
       "  </thead>\n",
       "  <tbody>\n",
       "    <tr>\n",
       "      <th>0</th>\n",
       "      <td>Avon</td>\n",
       "      <td>CT</td>\n",
       "      <td>EST</td>\n",
       "    </tr>\n",
       "    <tr>\n",
       "      <th>1</th>\n",
       "      <td>Baltic</td>\n",
       "      <td>CT</td>\n",
       "      <td>EST</td>\n",
       "    </tr>\n",
       "    <tr>\n",
       "      <th>2</th>\n",
       "      <td>Beacon Falls</td>\n",
       "      <td>CT</td>\n",
       "      <td>EST</td>\n",
       "    </tr>\n",
       "    <tr>\n",
       "      <th>3</th>\n",
       "      <td>Bridgeport</td>\n",
       "      <td>CT</td>\n",
       "      <td>EST</td>\n",
       "    </tr>\n",
       "    <tr>\n",
       "      <th>4</th>\n",
       "      <td>Canterbury</td>\n",
       "      <td>CT</td>\n",
       "      <td>EST</td>\n",
       "    </tr>\n",
       "  </tbody>\n",
       "</table>\n",
       "</div>"
      ],
      "text/plain": [
       "           city state timezone\n",
       "0          Avon    CT      EST\n",
       "1        Baltic    CT      EST\n",
       "2  Beacon Falls    CT      EST\n",
       "3    Bridgeport    CT      EST\n",
       "4    Canterbury    CT      EST"
      ]
     },
     "execution_count": 170,
     "metadata": {},
     "output_type": "execute_result"
    }
   ],
   "source": [
    "timezone.head()"
   ]
  },
  {
   "cell_type": "code",
   "execution_count": 171,
   "metadata": {
    "collapsed": false
   },
   "outputs": [
    {
     "data": {
      "text/plain": [
       "array(['CT', 'DE', 'FL', 'GA', 'IN', 'KY', 'ME', 'MD', 'MA', 'MI', 'NH',\n",
       "       'NJ', 'NY', 'NC', 'OH', 'PA', 'RI', 'SC', 'TN', 'VT', 'VA', 'WV',\n",
       "       'AL', 'AR', 'IL', 'IA', 'KS', 'LA', 'MN', 'MS', 'MO', 'NE', 'ND',\n",
       "       'OK', 'SD', 'TX', 'WI', 'AZ', 'CO', 'ID', 'MT', 'NM', 'UT', 'WY',\n",
       "       'CA', 'NV', 'OR', 'WA', 'AK', 'HI'], dtype=object)"
      ]
     },
     "execution_count": 171,
     "metadata": {},
     "output_type": "execute_result"
    }
   ],
   "source": [
    "timezone.state.unique()"
   ]
  },
  {
   "cell_type": "code",
   "execution_count": 172,
   "metadata": {
    "collapsed": false
   },
   "outputs": [],
   "source": [
    "timezone = timezone.drop_duplicates(['state'],keep='first')"
   ]
  },
  {
   "cell_type": "code",
   "execution_count": 173,
   "metadata": {
    "collapsed": true
   },
   "outputs": [],
   "source": [
    "timezone = timezone.ix[:,(1,2)]"
   ]
  },
  {
   "cell_type": "code",
   "execution_count": 174,
   "metadata": {
    "collapsed": false
   },
   "outputs": [
    {
     "data": {
      "text/html": [
       "<div>\n",
       "<table border=\"1\" class=\"dataframe\">\n",
       "  <thead>\n",
       "    <tr style=\"text-align: right;\">\n",
       "      <th></th>\n",
       "      <th>state</th>\n",
       "      <th>timezone</th>\n",
       "    </tr>\n",
       "  </thead>\n",
       "  <tbody>\n",
       "    <tr>\n",
       "      <th>0</th>\n",
       "      <td>CT</td>\n",
       "      <td>EST</td>\n",
       "    </tr>\n",
       "    <tr>\n",
       "      <th>53</th>\n",
       "      <td>DE</td>\n",
       "      <td>EST</td>\n",
       "    </tr>\n",
       "    <tr>\n",
       "      <th>144</th>\n",
       "      <td>FL</td>\n",
       "      <td>EST</td>\n",
       "    </tr>\n",
       "    <tr>\n",
       "      <th>345</th>\n",
       "      <td>GA</td>\n",
       "      <td>EST</td>\n",
       "    </tr>\n",
       "    <tr>\n",
       "      <th>576</th>\n",
       "      <td>IN</td>\n",
       "      <td>EST</td>\n",
       "    </tr>\n",
       "  </tbody>\n",
       "</table>\n",
       "</div>"
      ],
      "text/plain": [
       "    state timezone\n",
       "0      CT      EST\n",
       "53     DE      EST\n",
       "144    FL      EST\n",
       "345    GA      EST\n",
       "576    IN      EST"
      ]
     },
     "execution_count": 174,
     "metadata": {},
     "output_type": "execute_result"
    }
   ],
   "source": [
    "timezone.head() # Timezone중복제거. "
   ]
  },
  {
   "cell_type": "code",
   "execution_count": 178,
   "metadata": {
    "collapsed": false
   },
   "outputs": [],
   "source": [
    "timezone = timezone.rename(columns={'state':'STATE'})"
   ]
  },
  {
   "cell_type": "code",
   "execution_count": 181,
   "metadata": {
    "collapsed": false
   },
   "outputs": [],
   "source": [
    "customer = pd.merge(customer,timezone,on='STATE')"
   ]
  },
  {
   "cell_type": "code",
   "execution_count": 182,
   "metadata": {
    "collapsed": false
   },
   "outputs": [
    {
     "data": {
      "text/plain": [
       "array(['PST', 'CST', 'EST', 'MST', 'US/Hawaii', 'US/Alaska'], dtype=object)"
      ]
     },
     "execution_count": 182,
     "metadata": {},
     "output_type": "execute_result"
    }
   ],
   "source": [
    "customer.timezone.unique()"
   ]
  },
  {
   "cell_type": "markdown",
   "metadata": {},
   "source": [
    "## OrderList Handling "
   ]
  },
  {
   "cell_type": "code",
   "execution_count": 202,
   "metadata": {
    "collapsed": false
   },
   "outputs": [],
   "source": [
    "orderlist = pd.read_csv(\"data/6 month history of customer orders.csv\")"
   ]
  },
  {
   "cell_type": "code",
   "execution_count": 203,
   "metadata": {
    "collapsed": false
   },
   "outputs": [
    {
     "name": "stdout",
     "output_type": "stream",
     "text": [
      "<class 'pandas.core.frame.DataFrame'>\n",
      "Int64Index: 65535 entries, 0 to 65534\n",
      "Data columns (total 6 columns):\n",
      "ORDER_NBR         65535 non-null int64\n",
      "ORDER_LINE_NBR    65535 non-null int64\n",
      "CUSTOMER_NBR      65535 non-null int64\n",
      "PRODUCT_ID        65535 non-null int64\n",
      "ORDER_DATE        65535 non-null object\n",
      "ORDER_TIME        65535 non-null object\n",
      "dtypes: int64(4), object(2)\n",
      "memory usage: 3.5+ MB\n"
     ]
    }
   ],
   "source": [
    "orderlist.info()"
   ]
  },
  {
   "cell_type": "code",
   "execution_count": 204,
   "metadata": {
    "collapsed": false
   },
   "outputs": [],
   "source": [
    "orderlist.ORDER_DATE = pd.to_datetime(orderlist.ORDER_DATE)"
   ]
  },
  {
   "cell_type": "code",
   "execution_count": 217,
   "metadata": {
    "collapsed": true
   },
   "outputs": [],
   "source": [
    "import datetime as dt"
   ]
  },
  {
   "cell_type": "code",
   "execution_count": 222,
   "metadata": {
    "collapsed": false
   },
   "outputs": [],
   "source": [
    "orderlist.ORDER_TIME = pd.to_datetime(orderlist.ORDER_TIME,format='%H:%M:%S').dt.time"
   ]
  },
  {
   "cell_type": "code",
   "execution_count": 223,
   "metadata": {
    "collapsed": false
   },
   "outputs": [
    {
     "data": {
      "text/html": [
       "<div>\n",
       "<table border=\"1\" class=\"dataframe\">\n",
       "  <thead>\n",
       "    <tr style=\"text-align: right;\">\n",
       "      <th></th>\n",
       "      <th>ORDER_NBR</th>\n",
       "      <th>ORDER_LINE_NBR</th>\n",
       "      <th>CUSTOMER_NBR</th>\n",
       "      <th>PRODUCT_ID</th>\n",
       "      <th>ORDER_DATE</th>\n",
       "      <th>ORDER_TIME</th>\n",
       "    </tr>\n",
       "  </thead>\n",
       "  <tbody>\n",
       "    <tr>\n",
       "      <th>0</th>\n",
       "      <td>3</td>\n",
       "      <td>1</td>\n",
       "      <td>627088</td>\n",
       "      <td>8228</td>\n",
       "      <td>2012-10-01</td>\n",
       "      <td>03:40:06</td>\n",
       "    </tr>\n",
       "    <tr>\n",
       "      <th>1</th>\n",
       "      <td>4</td>\n",
       "      <td>1</td>\n",
       "      <td>419748</td>\n",
       "      <td>61616</td>\n",
       "      <td>2012-10-01</td>\n",
       "      <td>07:32:14</td>\n",
       "    </tr>\n",
       "    <tr>\n",
       "      <th>2</th>\n",
       "      <td>16</td>\n",
       "      <td>1</td>\n",
       "      <td>250358</td>\n",
       "      <td>3265</td>\n",
       "      <td>2012-10-01</td>\n",
       "      <td>14:16:30</td>\n",
       "    </tr>\n",
       "    <tr>\n",
       "      <th>3</th>\n",
       "      <td>17</td>\n",
       "      <td>2</td>\n",
       "      <td>250358</td>\n",
       "      <td>3523</td>\n",
       "      <td>2012-10-01</td>\n",
       "      <td>14:16:30</td>\n",
       "    </tr>\n",
       "    <tr>\n",
       "      <th>4</th>\n",
       "      <td>24</td>\n",
       "      <td>1</td>\n",
       "      <td>381935</td>\n",
       "      <td>56148</td>\n",
       "      <td>2012-10-01</td>\n",
       "      <td>14:50:34</td>\n",
       "    </tr>\n",
       "  </tbody>\n",
       "</table>\n",
       "</div>"
      ],
      "text/plain": [
       "   ORDER_NBR  ORDER_LINE_NBR  CUSTOMER_NBR  PRODUCT_ID ORDER_DATE ORDER_TIME\n",
       "0          3               1        627088        8228 2012-10-01   03:40:06\n",
       "1          4               1        419748       61616 2012-10-01   07:32:14\n",
       "2         16               1        250358        3265 2012-10-01   14:16:30\n",
       "3         17               2        250358        3523 2012-10-01   14:16:30\n",
       "4         24               1        381935       56148 2012-10-01   14:50:34"
      ]
     },
     "execution_count": 223,
     "metadata": {},
     "output_type": "execute_result"
    }
   ],
   "source": [
    "orderlist.head()"
   ]
  },
  {
   "cell_type": "code",
   "execution_count": 220,
   "metadata": {
    "collapsed": false
   },
   "outputs": [
    {
     "name": "stdout",
     "output_type": "stream",
     "text": [
      "<class 'pandas.core.frame.DataFrame'>\n",
      "Int64Index: 65535 entries, 0 to 65534\n",
      "Data columns (total 6 columns):\n",
      "ORDER_NBR         65535 non-null int64\n",
      "ORDER_LINE_NBR    65535 non-null int64\n",
      "CUSTOMER_NBR      65535 non-null int64\n",
      "PRODUCT_ID        65535 non-null int64\n",
      "ORDER_DATE        65535 non-null datetime64[ns]\n",
      "ORDER_TIME        65535 non-null object\n",
      "dtypes: datetime64[ns](1), int64(4), object(1)\n",
      "memory usage: 3.5+ MB\n"
     ]
    }
   ],
   "source": [
    "orderlist.info()"
   ]
  },
  {
   "cell_type": "code",
   "execution_count": 232,
   "metadata": {
    "collapsed": false
   },
   "outputs": [],
   "source": [
    "tmp = orderlist.ORDER_DATE.apply(lambda x:x.strftime('%Y-%m-%d')).head()"
   ]
  },
  {
   "cell_type": "code",
   "execution_count": 234,
   "metadata": {
    "collapsed": true
   },
   "outputs": [],
   "source": [
    "tmp2 = orderlist.ORDER_TIME.apply(lambda x:x.strftime('%H:%M:%S')).head()"
   ]
  },
  {
   "cell_type": "code",
   "execution_count": 247,
   "metadata": {
    "collapsed": true
   },
   "outputs": [],
   "source": [
    "def combine_date_time(df, datecol, timecol):\n",
    "    return pd.to_datetime(df[datecol].dt.date.astype(str)\n",
    "                          + ' '\n",
    "                          + df[timecol].astype(str))"
   ]
  },
  {
   "cell_type": "code",
   "execution_count": 252,
   "metadata": {
    "collapsed": false
   },
   "outputs": [],
   "source": [
    "orderlist['ORDER_DATES'] = combine_date_time(orderlist,'ORDER_DATE','ORDER_TIME')"
   ]
  },
  {
   "cell_type": "code",
   "execution_count": 253,
   "metadata": {
    "collapsed": false
   },
   "outputs": [
    {
     "data": {
      "text/html": [
       "<div>\n",
       "<table border=\"1\" class=\"dataframe\">\n",
       "  <thead>\n",
       "    <tr style=\"text-align: right;\">\n",
       "      <th></th>\n",
       "      <th>ORDER_NBR</th>\n",
       "      <th>ORDER_LINE_NBR</th>\n",
       "      <th>CUSTOMER_NBR</th>\n",
       "      <th>PRODUCT_ID</th>\n",
       "      <th>ORDER_DATE</th>\n",
       "      <th>ORDER_TIME</th>\n",
       "      <th>ORDER_DATES</th>\n",
       "    </tr>\n",
       "  </thead>\n",
       "  <tbody>\n",
       "    <tr>\n",
       "      <th>0</th>\n",
       "      <td>3</td>\n",
       "      <td>1</td>\n",
       "      <td>627088</td>\n",
       "      <td>8228</td>\n",
       "      <td>2012-10-01</td>\n",
       "      <td>03:40:06</td>\n",
       "      <td>2012-10-01 03:40:06</td>\n",
       "    </tr>\n",
       "    <tr>\n",
       "      <th>1</th>\n",
       "      <td>4</td>\n",
       "      <td>1</td>\n",
       "      <td>419748</td>\n",
       "      <td>61616</td>\n",
       "      <td>2012-10-01</td>\n",
       "      <td>07:32:14</td>\n",
       "      <td>2012-10-01 07:32:14</td>\n",
       "    </tr>\n",
       "    <tr>\n",
       "      <th>2</th>\n",
       "      <td>16</td>\n",
       "      <td>1</td>\n",
       "      <td>250358</td>\n",
       "      <td>3265</td>\n",
       "      <td>2012-10-01</td>\n",
       "      <td>14:16:30</td>\n",
       "      <td>2012-10-01 14:16:30</td>\n",
       "    </tr>\n",
       "    <tr>\n",
       "      <th>3</th>\n",
       "      <td>17</td>\n",
       "      <td>2</td>\n",
       "      <td>250358</td>\n",
       "      <td>3523</td>\n",
       "      <td>2012-10-01</td>\n",
       "      <td>14:16:30</td>\n",
       "      <td>2012-10-01 14:16:30</td>\n",
       "    </tr>\n",
       "    <tr>\n",
       "      <th>4</th>\n",
       "      <td>24</td>\n",
       "      <td>1</td>\n",
       "      <td>381935</td>\n",
       "      <td>56148</td>\n",
       "      <td>2012-10-01</td>\n",
       "      <td>14:50:34</td>\n",
       "      <td>2012-10-01 14:50:34</td>\n",
       "    </tr>\n",
       "  </tbody>\n",
       "</table>\n",
       "</div>"
      ],
      "text/plain": [
       "   ORDER_NBR  ORDER_LINE_NBR  CUSTOMER_NBR  PRODUCT_ID ORDER_DATE ORDER_TIME  \\\n",
       "0          3               1        627088        8228 2012-10-01   03:40:06   \n",
       "1          4               1        419748       61616 2012-10-01   07:32:14   \n",
       "2         16               1        250358        3265 2012-10-01   14:16:30   \n",
       "3         17               2        250358        3523 2012-10-01   14:16:30   \n",
       "4         24               1        381935       56148 2012-10-01   14:50:34   \n",
       "\n",
       "          ORDER_DATES  \n",
       "0 2012-10-01 03:40:06  \n",
       "1 2012-10-01 07:32:14  \n",
       "2 2012-10-01 14:16:30  \n",
       "3 2012-10-01 14:16:30  \n",
       "4 2012-10-01 14:50:34  "
      ]
     },
     "execution_count": 253,
     "metadata": {},
     "output_type": "execute_result"
    }
   ],
   "source": [
    "orderlist.head()"
   ]
  },
  {
   "cell_type": "code",
   "execution_count": 256,
   "metadata": {
    "collapsed": false
   },
   "outputs": [],
   "source": [
    "orderlist.ORDER_DATES = pd.to_datetime(orderlist.ORDER_DATES,format='%Y-%m-%d %H:%M:%S')"
   ]
  },
  {
   "cell_type": "code",
   "execution_count": 266,
   "metadata": {
    "collapsed": false
   },
   "outputs": [],
   "source": [
    "orderlist['YEAR'] = orderlist.ORDER_DATES.dt.year\n",
    "orderlist['MONTH'] = orderlist.ORDER_DATES.dt.month\n",
    "orderlist['DAY'] = orderlist.ORDER_DATES.dt.day\n",
    "orderlist['HOUR'] = orderlist.ORDER_DATES.dt.hour"
   ]
  },
  {
   "cell_type": "code",
   "execution_count": 267,
   "metadata": {
    "collapsed": false
   },
   "outputs": [
    {
     "data": {
      "text/html": [
       "<div>\n",
       "<table border=\"1\" class=\"dataframe\">\n",
       "  <thead>\n",
       "    <tr style=\"text-align: right;\">\n",
       "      <th></th>\n",
       "      <th>ORDER_NBR</th>\n",
       "      <th>ORDER_LINE_NBR</th>\n",
       "      <th>CUSTOMER_NBR</th>\n",
       "      <th>PRODUCT_ID</th>\n",
       "      <th>ORDER_DATE</th>\n",
       "      <th>ORDER_TIME</th>\n",
       "      <th>ORDER_DATES</th>\n",
       "      <th>YEAR</th>\n",
       "      <th>MONTH</th>\n",
       "      <th>DAY</th>\n",
       "      <th>HOUR</th>\n",
       "    </tr>\n",
       "  </thead>\n",
       "  <tbody>\n",
       "    <tr>\n",
       "      <th>0</th>\n",
       "      <td>3</td>\n",
       "      <td>1</td>\n",
       "      <td>627088</td>\n",
       "      <td>8228</td>\n",
       "      <td>2012-10-01</td>\n",
       "      <td>03:40:06</td>\n",
       "      <td>2012-10-01 03:40:06</td>\n",
       "      <td>2012</td>\n",
       "      <td>10</td>\n",
       "      <td>1</td>\n",
       "      <td>3</td>\n",
       "    </tr>\n",
       "    <tr>\n",
       "      <th>1</th>\n",
       "      <td>4</td>\n",
       "      <td>1</td>\n",
       "      <td>419748</td>\n",
       "      <td>61616</td>\n",
       "      <td>2012-10-01</td>\n",
       "      <td>07:32:14</td>\n",
       "      <td>2012-10-01 07:32:14</td>\n",
       "      <td>2012</td>\n",
       "      <td>10</td>\n",
       "      <td>1</td>\n",
       "      <td>7</td>\n",
       "    </tr>\n",
       "    <tr>\n",
       "      <th>2</th>\n",
       "      <td>16</td>\n",
       "      <td>1</td>\n",
       "      <td>250358</td>\n",
       "      <td>3265</td>\n",
       "      <td>2012-10-01</td>\n",
       "      <td>14:16:30</td>\n",
       "      <td>2012-10-01 14:16:30</td>\n",
       "      <td>2012</td>\n",
       "      <td>10</td>\n",
       "      <td>1</td>\n",
       "      <td>14</td>\n",
       "    </tr>\n",
       "    <tr>\n",
       "      <th>3</th>\n",
       "      <td>17</td>\n",
       "      <td>2</td>\n",
       "      <td>250358</td>\n",
       "      <td>3523</td>\n",
       "      <td>2012-10-01</td>\n",
       "      <td>14:16:30</td>\n",
       "      <td>2012-10-01 14:16:30</td>\n",
       "      <td>2012</td>\n",
       "      <td>10</td>\n",
       "      <td>1</td>\n",
       "      <td>14</td>\n",
       "    </tr>\n",
       "    <tr>\n",
       "      <th>4</th>\n",
       "      <td>24</td>\n",
       "      <td>1</td>\n",
       "      <td>381935</td>\n",
       "      <td>56148</td>\n",
       "      <td>2012-10-01</td>\n",
       "      <td>14:50:34</td>\n",
       "      <td>2012-10-01 14:50:34</td>\n",
       "      <td>2012</td>\n",
       "      <td>10</td>\n",
       "      <td>1</td>\n",
       "      <td>14</td>\n",
       "    </tr>\n",
       "  </tbody>\n",
       "</table>\n",
       "</div>"
      ],
      "text/plain": [
       "   ORDER_NBR  ORDER_LINE_NBR  CUSTOMER_NBR  PRODUCT_ID ORDER_DATE ORDER_TIME  \\\n",
       "0          3               1        627088        8228 2012-10-01   03:40:06   \n",
       "1          4               1        419748       61616 2012-10-01   07:32:14   \n",
       "2         16               1        250358        3265 2012-10-01   14:16:30   \n",
       "3         17               2        250358        3523 2012-10-01   14:16:30   \n",
       "4         24               1        381935       56148 2012-10-01   14:50:34   \n",
       "\n",
       "          ORDER_DATES  YEAR  MONTH  DAY  HOUR  \n",
       "0 2012-10-01 03:40:06  2012     10    1     3  \n",
       "1 2012-10-01 07:32:14  2012     10    1     7  \n",
       "2 2012-10-01 14:16:30  2012     10    1    14  \n",
       "3 2012-10-01 14:16:30  2012     10    1    14  \n",
       "4 2012-10-01 14:50:34  2012     10    1    14  "
      ]
     },
     "execution_count": 267,
     "metadata": {},
     "output_type": "execute_result"
    }
   ],
   "source": [
    "orderlist.head()"
   ]
  },
  {
   "cell_type": "markdown",
   "metadata": {},
   "source": [
    "## Product "
   ]
  },
  {
   "cell_type": "code",
   "execution_count": 268,
   "metadata": {
    "collapsed": true
   },
   "outputs": [],
   "source": [
    "product = pd.read_csv('Data/Product master2.csv')"
   ]
  },
  {
   "cell_type": "code",
   "execution_count": 269,
   "metadata": {
    "collapsed": false
   },
   "outputs": [
    {
     "data": {
      "text/html": [
       "<div>\n",
       "<table border=\"1\" class=\"dataframe\">\n",
       "  <thead>\n",
       "    <tr style=\"text-align: right;\">\n",
       "      <th></th>\n",
       "      <th>PRODUCT_ID</th>\n",
       "      <th>PACKING_SLIP_DESC</th>\n",
       "      <th>MERCH_DIV_DESC</th>\n",
       "      <th>BRAND_NAME</th>\n",
       "    </tr>\n",
       "  </thead>\n",
       "  <tbody>\n",
       "    <tr>\n",
       "      <th>0</th>\n",
       "      <td>5643</td>\n",
       "      <td>A-D tarte Amazonian Clay Volumizing Mascara Duo</td>\n",
       "      <td>Health/Beauty</td>\n",
       "      <td>tarte</td>\n",
       "    </tr>\n",
       "    <tr>\n",
       "      <th>1</th>\n",
       "      <td>22506</td>\n",
       "      <td>Dell All-in-One 20 Monitor Intel Dual Core\"</td>\n",
       "      <td>Electronics</td>\n",
       "      <td>Dell</td>\n",
       "    </tr>\n",
       "    <tr>\n",
       "      <th>2</th>\n",
       "      <td>5321</td>\n",
       "      <td>Dennis Basso 80 x 20\" Floral Lace Shawl\"</td>\n",
       "      <td>Accessories</td>\n",
       "      <td>Dennis Basso</td>\n",
       "    </tr>\n",
       "    <tr>\n",
       "      <th>3</th>\n",
       "      <td>56183</td>\n",
       "      <td>Prepology 3-piece Magic Tong Set with Silicone</td>\n",
       "      <td>Home Decor</td>\n",
       "      <td>Prepology</td>\n",
       "    </tr>\n",
       "    <tr>\n",
       "      <th>4</th>\n",
       "      <td>10811</td>\n",
       "      <td>BareTraps Tall Shaft Boots w/ Ruching &amp; Gore -</td>\n",
       "      <td>Accessories</td>\n",
       "      <td>BareTraps</td>\n",
       "    </tr>\n",
       "  </tbody>\n",
       "</table>\n",
       "</div>"
      ],
      "text/plain": [
       "   PRODUCT_ID                                PACKING_SLIP_DESC MERCH_DIV_DESC  \\\n",
       "0        5643  A-D tarte Amazonian Clay Volumizing Mascara Duo  Health/Beauty   \n",
       "1       22506      Dell All-in-One 20 Monitor Intel Dual Core\"    Electronics   \n",
       "2        5321         Dennis Basso 80 x 20\" Floral Lace Shawl\"    Accessories   \n",
       "3       56183   Prepology 3-piece Magic Tong Set with Silicone     Home Decor   \n",
       "4       10811   BareTraps Tall Shaft Boots w/ Ruching & Gore -    Accessories   \n",
       "\n",
       "     BRAND_NAME  \n",
       "0         tarte  \n",
       "1          Dell  \n",
       "2  Dennis Basso  \n",
       "3     Prepology  \n",
       "4     BareTraps  "
      ]
     },
     "execution_count": 269,
     "metadata": {},
     "output_type": "execute_result"
    }
   ],
   "source": [
    "product.head()"
   ]
  },
  {
   "cell_type": "code",
   "execution_count": 270,
   "metadata": {
    "collapsed": true
   },
   "outputs": [],
   "source": [
    "air_product = pd.read_csv('Data/Product airtime.csv')"
   ]
  },
  {
   "cell_type": "code",
   "execution_count": 272,
   "metadata": {
    "collapsed": true
   },
   "outputs": [],
   "source": [
    "air_product['SEQ'] = np.arange(len(air_product))"
   ]
  },
  {
   "cell_type": "code",
   "execution_count": null,
   "metadata": {
    "collapsed": true
   },
   "outputs": [],
   "source": []
  }
 ],
 "metadata": {
  "kernelspec": {
   "display_name": "Python [py35]",
   "language": "python",
   "name": "Python [py35]"
  },
  "language_info": {
   "codemirror_mode": {
    "name": "ipython",
    "version": 3
   },
   "file_extension": ".py",
   "mimetype": "text/x-python",
   "name": "python",
   "nbconvert_exporter": "python",
   "pygments_lexer": "ipython3",
   "version": "3.5.2"
  }
 },
 "nbformat": 4,
 "nbformat_minor": 0
}
