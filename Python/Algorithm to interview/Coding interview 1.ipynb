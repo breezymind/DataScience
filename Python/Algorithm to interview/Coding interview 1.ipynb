{
 "cells": [
  {
   "cell_type": "markdown",
   "metadata": {},
   "source": [
    "# 1. Compare Characters if there's duplicate "
   ]
  },
  {
   "cell_type": "code",
   "execution_count": 1,
   "metadata": {
    "collapsed": true
   },
   "outputs": [],
   "source": [
    "def isUniqChars(input):\n",
    "    # strings if we get are ASCII, total 256 characters\n",
    "    # so if length of String is greater than 256, there's duplicate\n",
    "    \n",
    "    if len(input) > 256:\n",
    "        return False\n",
    "    \n",
    "    hash = [False] * 256\n",
    "    \n",
    "    for ch in input:\n",
    "        if hash[ord(ch)] is True:  #  ord is characters to ASCII \n",
    "            return False\n",
    "        else:\n",
    "            hash[ord(ch)] = True\n",
    "    return True"
   ]
  },
  {
   "cell_type": "code",
   "execution_count": 2,
   "metadata": {
    "collapsed": false
   },
   "outputs": [
    {
     "name": "stdout",
     "output_type": "stream",
     "text": [
      "True\n",
      "False\n"
     ]
    }
   ],
   "source": [
    "print(isUniqChars(\"abcdef\"))\n",
    "print(isUniqChars(\"abcdefe\"))"
   ]
  },
  {
   "cell_type": "markdown",
   "metadata": {},
   "source": [
    "# 2. Reverse String"
   ]
  },
  {
   "cell_type": "code",
   "execution_count": 3,
   "metadata": {
    "collapsed": false
   },
   "outputs": [
    {
     "data": {
      "text/plain": [
       "'fedcba'"
      ]
     },
     "execution_count": 3,
     "metadata": {},
     "output_type": "execute_result"
    }
   ],
   "source": [
    "def reverseString(input):\n",
    "    return input[::-1]\n",
    "\n",
    "reverseString(\"abcdef\")"
   ]
  },
  {
   "cell_type": "markdown",
   "metadata": {},
   "source": [
    "## how about making Stack Data Structure"
   ]
  },
  {
   "cell_type": "code",
   "execution_count": 4,
   "metadata": {
    "collapsed": false
   },
   "outputs": [
    {
     "data": {
      "text/plain": [
       "'fedcba'"
      ]
     },
     "execution_count": 4,
     "metadata": {},
     "output_type": "execute_result"
    }
   ],
   "source": [
    "def reverseString2(input):\n",
    "    stack = []\n",
    "    for ch in input:\n",
    "        stack.append(ch)\n",
    "        \n",
    "    result = \"\"\n",
    "    \n",
    "    while len(stack) > 0:\n",
    "        result += stack.pop()\n",
    "        \n",
    "    return result\n",
    "\n",
    "\n",
    "reverseString2(\"abcdef\")"
   ]
  },
  {
   "cell_type": "markdown",
   "metadata": {},
   "source": [
    "# 3. Write a method to decide if tow strings are anagrams or note\n",
    " - if a one string is a permutation of another string \n",
    " - 문자열 2개를 입력받아 그 중 하나가 다른 하나에 순열인지 판별 "
   ]
  },
  {
   "cell_type": "markdown",
   "metadata": {},
   "source": [
    "## how we can figure it out?\n",
    " - 두개의 문자열이 같은지 아닌지 확인하는가? \n",
    "  1. 정렬\n",
    "  2. 소문자 대문자? => uppercase or lowercase \n",
    "  3. how about null string => remove null."
   ]
  },
  {
   "cell_type": "code",
   "execution_count": 5,
   "metadata": {
    "collapsed": true
   },
   "outputs": [],
   "source": [
    "def anagram(str1, str2):\n",
    "    str1 = ''.join(sorted(str1.lower())).strip()\n",
    "    str2 = ''.join(sorted(str2.lower())).strip()\n",
    "    \n",
    "    if str1 == str2:\n",
    "        return True\n",
    "    else:\n",
    "        return False"
   ]
  },
  {
   "cell_type": "code",
   "execution_count": 6,
   "metadata": {
    "collapsed": false
   },
   "outputs": [
    {
     "data": {
      "text/plain": [
       "True"
      ]
     },
     "execution_count": 6,
     "metadata": {},
     "output_type": "execute_result"
    }
   ],
   "source": [
    "anagram(\"abc  d\",\"dbc  a\")"
   ]
  },
  {
   "cell_type": "markdown",
   "metadata": {},
   "source": [
    "# 4. Write a method ro replace all spaces in a string with '%20'\n",
    " - input 'Mr john Smith  '\n",
    " - output 'Mr%20john%20Smith'"
   ]
  },
  {
   "cell_type": "code",
   "execution_count": 7,
   "metadata": {
    "collapsed": false
   },
   "outputs": [
    {
     "name": "stdout",
     "output_type": "stream",
     "text": [
      "Mr%20john%20Smith\n"
     ]
    }
   ],
   "source": [
    "input = 'Mr john Smith  '\n",
    "input = input.strip().replace(\" \",\"%20\")\n",
    "\n",
    "print(input)"
   ]
  },
  {
   "cell_type": "markdown",
   "metadata": {},
   "source": [
    "# 5. Write a method to perform basic string compression using the counts of repeated Characters \n",
    "\n",
    "## If the compressed string would not become smaller than the original string, then return original string\n",
    " - input : aabccccaa\n",
    " - output : a2b1c4a2"
   ]
  },
  {
   "cell_type": "code",
   "execution_count": 16,
   "metadata": {
    "collapsed": false
   },
   "outputs": [],
   "source": [
    "def compressword(input):\n",
    "    cnt = 1\n",
    "    output = \"\"\n",
    "    buffer = None\n",
    "    \n",
    "    for ch in input:\n",
    "        if buffer is None:\n",
    "            output += ch\n",
    "            buffer = ch\n",
    "        else:\n",
    "            if ch == buffer:\n",
    "                cnt += 1\n",
    "            else:\n",
    "                output += str(cnt)\n",
    "                cnt = 1\n",
    "                output += ch\n",
    "                buffer = ch\n",
    "    output += str(cnt)\n",
    "    \n",
    "    if len(input) < len(output):\n",
    "        return input\n",
    "    else:\n",
    "        return output"
   ]
  },
  {
   "cell_type": "code",
   "execution_count": 17,
   "metadata": {
    "collapsed": false
   },
   "outputs": [
    {
     "data": {
      "text/plain": [
       "'a2b1c4a2'"
      ]
     },
     "execution_count": 17,
     "metadata": {},
     "output_type": "execute_result"
    }
   ],
   "source": [
    "compressword(\"aabccccaa\")"
   ]
  }
 ],
 "metadata": {
  "anaconda-cloud": {},
  "kernelspec": {
   "display_name": "Python [work]",
   "language": "python",
   "name": "Python [work]"
  },
  "language_info": {
   "codemirror_mode": {
    "name": "ipython",
    "version": 3
   },
   "file_extension": ".py",
   "mimetype": "text/x-python",
   "name": "python",
   "nbconvert_exporter": "python",
   "pygments_lexer": "ipython3",
   "version": "3.5.2"
  }
 },
 "nbformat": 4,
 "nbformat_minor": 0
}
