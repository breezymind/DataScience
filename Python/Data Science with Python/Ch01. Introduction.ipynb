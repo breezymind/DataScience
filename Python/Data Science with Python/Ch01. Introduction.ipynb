{
 "cells": [
  {
   "cell_type": "markdown",
   "metadata": {},
   "source": [
    "# Introduction \n",
    "\n",
    "## FINDING KEY CONNECTORS ( 핵심인물 찾기 )\n",
    " - 누가 핵심 인물인가?"
   ]
  },
  {
   "cell_type": "code",
   "execution_count": 2,
   "metadata": {
    "collapsed": true
   },
   "outputs": [],
   "source": [
    "users = [\n",
    "    { \"id\": 0, \"name\": \"Hero\" },\n",
    "    { \"id\": 1, \"name\": \"Dunn\" },\n",
    "    { \"id\": 2, \"name\": \"Sue\" },\n",
    "    { \"id\": 3, \"name\": \"Chi\" },\n",
    "    { \"id\": 4, \"name\": \"Thor\" },\n",
    "    { \"id\": 5, \"name\": \"Clive\" },\n",
    "    { \"id\": 6, \"name\": \"Hicks\" },\n",
    "    { \"id\": 7, \"name\": \"Devin\" },\n",
    "    { \"id\": 8, \"name\": \"Kate\" },\n",
    "    { \"id\": 9, \"name\": \"Klein\" },\n",
    "]"
   ]
  },
  {
   "cell_type": "markdown",
   "metadata": {},
   "source": [
    "### Friendship\n",
    " - (0, 1) => 0인 데이터과학자가 1인 데이터 과학자와 서로 친구이다. ( Hero, Dunn )"
   ]
  },
  {
   "cell_type": "code",
   "execution_count": 5,
   "metadata": {
    "collapsed": true
   },
   "outputs": [],
   "source": [
    "friendships = [(0, 1), (0, 2), (1, 2), (1, 3), (2, 3), (3, 4),\n",
    "               (4, 5), (5, 6), (5, 7), (6, 8), (7, 8), (8, 9)]"
   ]
  },
  {
   "cell_type": "code",
   "execution_count": 20,
   "metadata": {
    "collapsed": false
   },
   "outputs": [],
   "source": [
    "# dictionary 추가.\n",
    "for user in users:\n",
    "    user[\"friends\"] = []"
   ]
  },
  {
   "cell_type": "code",
   "execution_count": 24,
   "metadata": {
    "collapsed": false
   },
   "outputs": [],
   "source": [
    "for i,j in friendships:\n",
    "    users[i][\"friends\"].append(users[j])  # j를 i의 친구로 추가.\n",
    "    users[j][\"friends\"].append(users[i])  # i를 j의 친구로 추가. "
   ]
  },
  {
   "cell_type": "code",
   "execution_count": 25,
   "metadata": {
    "collapsed": false
   },
   "outputs": [],
   "source": [
    "def number_of_friends(user):\n",
    "    \"\"\"how many friends does _user_ have?\"\"\"\n",
    "    return len(user[\"friends\"]) # length of friend_ids list\n",
    "\n",
    "total_connections = sum(number_of_friends(user)\n",
    "                        for user in users) # 24"
   ]
  },
  {
   "cell_type": "code",
   "execution_count": 9,
   "metadata": {
    "collapsed": false
   },
   "outputs": [
    {
     "data": {
      "text/plain": [
       "10"
      ]
     },
     "execution_count": 9,
     "metadata": {},
     "output_type": "execute_result"
    }
   ],
   "source": [
    "num_users = len(users)\n",
    "num_users"
   ]
  },
  {
   "cell_type": "code",
   "execution_count": 10,
   "metadata": {
    "collapsed": false
   },
   "outputs": [
    {
     "data": {
      "text/plain": [
       "2.4"
      ]
     },
     "execution_count": 10,
     "metadata": {},
     "output_type": "execute_result"
    }
   ],
   "source": [
    "avg_connections = total_connections / num_users # 2.4\n",
    "avg_connections"
   ]
  },
  {
   "cell_type": "code",
   "execution_count": 26,
   "metadata": {
    "collapsed": false
   },
   "outputs": [
    {
     "data": {
      "text/plain": [
       "[(0, 2),\n",
       " (1, 3),\n",
       " (2, 3),\n",
       " (3, 3),\n",
       " (4, 2),\n",
       " (5, 3),\n",
       " (6, 2),\n",
       " (7, 2),\n",
       " (8, 3),\n",
       " (9, 1)]"
      ]
     },
     "execution_count": 26,
     "metadata": {},
     "output_type": "execute_result"
    }
   ],
   "source": [
    "# (user_id, number_of_friends)로 구성된 List 생성\n",
    "num_friends_by_id = [(user[\"id\"],number_of_friends(user)) for user in users]\n",
    "num_friends_by_id"
   ]
  },
  {
   "cell_type": "code",
   "execution_count": 27,
   "metadata": {
    "collapsed": false
   },
   "outputs": [
    {
     "data": {
      "text/plain": [
       "[(1, 3),\n",
       " (2, 3),\n",
       " (3, 3),\n",
       " (5, 3),\n",
       " (8, 3),\n",
       " (0, 2),\n",
       " (4, 2),\n",
       " (6, 2),\n",
       " (7, 2),\n",
       " (9, 1)]"
      ]
     },
     "execution_count": 27,
     "metadata": {},
     "output_type": "execute_result"
    }
   ],
   "source": [
    "sorted(num_friends_by_id, key=lambda num_friends_by_id: num_friends_by_id[1], reverse = True)"
   ]
  },
  {
   "cell_type": "markdown",
   "metadata": {},
   "source": [
    "## 데이터 과학자 추천 \n",
    " - 즉, 친구 추천이다. "
   ]
  },
  {
   "cell_type": "code",
   "execution_count": 14,
   "metadata": {
    "collapsed": true
   },
   "outputs": [],
   "source": [
    "def friends_of_friend_ids_bad(user):\n",
    "    # \"foaf\" is short for \"friend of a friend\"\n",
    "    return [foaf[\"id\"]\n",
    "            for friend in user[\"friends\"] # for each of user's friends\n",
    "            for foaf in friend[\"friends\"]] # get each of _their_ friends"
   ]
  },
  {
   "cell_type": "code",
   "execution_count": 30,
   "metadata": {
    "collapsed": false
   },
   "outputs": [
    {
     "data": {
      "text/plain": [
       "[{'friends': [{'friends': [...], 'id': 0, 'name': 'Hero'},\n",
       "   {'friends': [{'friends': [...], 'id': 0, 'name': 'Hero'},\n",
       "     {...},\n",
       "     {'friends': [{...},\n",
       "       {...},\n",
       "       {'friends': [{...},\n",
       "         {'friends': [{...},\n",
       "           {'friends': [{...},\n",
       "             {'friends': [{...},\n",
       "               {'friends': [{...}, {...}], 'id': 7, 'name': 'Devin'},\n",
       "               {'friends': [{...}], 'id': 9, 'name': 'Klein'}],\n",
       "              'id': 8,\n",
       "              'name': 'Kate'}],\n",
       "            'id': 6,\n",
       "            'name': 'Hicks'},\n",
       "           {'friends': [{...},\n",
       "             {'friends': [{'friends': [{...}, {...}],\n",
       "                'id': 6,\n",
       "                'name': 'Hicks'},\n",
       "               {...},\n",
       "               {'friends': [{...}], 'id': 9, 'name': 'Klein'}],\n",
       "              'id': 8,\n",
       "              'name': 'Kate'}],\n",
       "            'id': 7,\n",
       "            'name': 'Devin'}],\n",
       "          'id': 5,\n",
       "          'name': 'Clive'}],\n",
       "        'id': 4,\n",
       "        'name': 'Thor'}],\n",
       "      'id': 3,\n",
       "      'name': 'Chi'}],\n",
       "    'id': 2,\n",
       "    'name': 'Sue'},\n",
       "   {'friends': [{...},\n",
       "     {'friends': [{'friends': [...], 'id': 0, 'name': 'Hero'}, {...}, {...}],\n",
       "      'id': 2,\n",
       "      'name': 'Sue'},\n",
       "     {'friends': [{...},\n",
       "       {'friends': [{...},\n",
       "         {'friends': [{...},\n",
       "           {'friends': [{...},\n",
       "             {'friends': [{...}, {...}], 'id': 7, 'name': 'Devin'},\n",
       "             {'friends': [{...}], 'id': 9, 'name': 'Klein'}],\n",
       "            'id': 8,\n",
       "            'name': 'Kate'}],\n",
       "          'id': 6,\n",
       "          'name': 'Hicks'},\n",
       "         {'friends': [{...},\n",
       "           {'friends': [{'friends': [{...}, {...}], 'id': 6, 'name': 'Hicks'},\n",
       "             {...},\n",
       "             {'friends': [{...}], 'id': 9, 'name': 'Klein'}],\n",
       "            'id': 8,\n",
       "            'name': 'Kate'}],\n",
       "          'id': 7,\n",
       "          'name': 'Devin'}],\n",
       "        'id': 5,\n",
       "        'name': 'Clive'}],\n",
       "      'id': 4,\n",
       "      'name': 'Thor'}],\n",
       "    'id': 3,\n",
       "    'name': 'Chi'}],\n",
       "  'id': 1,\n",
       "  'name': 'Dunn'},\n",
       " {'friends': [{'friends': [...], 'id': 0, 'name': 'Hero'},\n",
       "   {'friends': [{'friends': [...], 'id': 0, 'name': 'Hero'},\n",
       "     {...},\n",
       "     {'friends': [{...},\n",
       "       {...},\n",
       "       {'friends': [{...},\n",
       "         {'friends': [{...},\n",
       "           {'friends': [{...},\n",
       "             {'friends': [{...},\n",
       "               {'friends': [{...}, {...}], 'id': 7, 'name': 'Devin'},\n",
       "               {'friends': [{...}], 'id': 9, 'name': 'Klein'}],\n",
       "              'id': 8,\n",
       "              'name': 'Kate'}],\n",
       "            'id': 6,\n",
       "            'name': 'Hicks'},\n",
       "           {'friends': [{...},\n",
       "             {'friends': [{'friends': [{...}, {...}],\n",
       "                'id': 6,\n",
       "                'name': 'Hicks'},\n",
       "               {...},\n",
       "               {'friends': [{...}], 'id': 9, 'name': 'Klein'}],\n",
       "              'id': 8,\n",
       "              'name': 'Kate'}],\n",
       "            'id': 7,\n",
       "            'name': 'Devin'}],\n",
       "          'id': 5,\n",
       "          'name': 'Clive'}],\n",
       "        'id': 4,\n",
       "        'name': 'Thor'}],\n",
       "      'id': 3,\n",
       "      'name': 'Chi'}],\n",
       "    'id': 1,\n",
       "    'name': 'Dunn'},\n",
       "   {'friends': [{'friends': [{'friends': [...], 'id': 0, 'name': 'Hero'},\n",
       "       {...},\n",
       "       {...}],\n",
       "      'id': 1,\n",
       "      'name': 'Dunn'},\n",
       "     {...},\n",
       "     {'friends': [{...},\n",
       "       {'friends': [{...},\n",
       "         {'friends': [{...},\n",
       "           {'friends': [{...},\n",
       "             {'friends': [{...}, {...}], 'id': 7, 'name': 'Devin'},\n",
       "             {'friends': [{...}], 'id': 9, 'name': 'Klein'}],\n",
       "            'id': 8,\n",
       "            'name': 'Kate'}],\n",
       "          'id': 6,\n",
       "          'name': 'Hicks'},\n",
       "         {'friends': [{...},\n",
       "           {'friends': [{'friends': [{...}, {...}], 'id': 6, 'name': 'Hicks'},\n",
       "             {...},\n",
       "             {'friends': [{...}], 'id': 9, 'name': 'Klein'}],\n",
       "            'id': 8,\n",
       "            'name': 'Kate'}],\n",
       "          'id': 7,\n",
       "          'name': 'Devin'}],\n",
       "        'id': 5,\n",
       "        'name': 'Clive'}],\n",
       "      'id': 4,\n",
       "      'name': 'Thor'}],\n",
       "    'id': 3,\n",
       "    'name': 'Chi'}],\n",
       "  'id': 2,\n",
       "  'name': 'Sue'}]"
      ]
     },
     "execution_count": 30,
     "metadata": {},
     "output_type": "execute_result"
    }
   ],
   "source": [
    "users[0]['friends']"
   ]
  },
  {
   "cell_type": "code",
   "execution_count": 32,
   "metadata": {
    "collapsed": false
   },
   "outputs": [
    {
     "data": {
      "text/plain": [
       "[0, 2, 3, 0, 1, 3]"
      ]
     },
     "execution_count": 32,
     "metadata": {},
     "output_type": "execute_result"
    }
   ],
   "source": [
    "friends_of_friend_ids_bad(users[0])"
   ]
  },
  {
   "cell_type": "code",
   "execution_count": 39,
   "metadata": {
    "collapsed": false
   },
   "outputs": [
    {
     "name": "stdout",
     "output_type": "stream",
     "text": [
      "[1, 2]\n",
      "[0, 2, 3]\n",
      "[0, 1, 3]\n"
     ]
    }
   ],
   "source": [
    "print([friend[\"id\"] for friend in users[0][\"friends\"]])\n",
    "print([friend[\"id\"] for friend in users[1][\"friends\"]])\n",
    "print([friend[\"id\"] for friend in users[2][\"friends\"]])"
   ]
  },
  {
   "cell_type": "markdown",
   "metadata": {},
   "source": [
    "## 서로 함께아는 친구."
   ]
  },
  {
   "cell_type": "code",
   "execution_count": 41,
   "metadata": {
    "collapsed": true
   },
   "outputs": [],
   "source": [
    "from collections import Counter # not loaded by default"
   ]
  },
  {
   "cell_type": "code",
   "execution_count": 43,
   "metadata": {
    "collapsed": true
   },
   "outputs": [],
   "source": [
    "def not_the_same(user, other_user):\n",
    "    \"\"\"two users are not the same if they have different ids\"\"\"\n",
    "    return user[\"id\"] != other_user[\"id\"]\n",
    "\n",
    "def not_friends(user, other_user):\n",
    "    \"\"\"other_user is not a friend if he's not in user[\"friends\"];\n",
    "    that is, if he's not_the_same as all the people in user[\"friends\"]\"\"\"\n",
    "    return all(not_the_same(friend, other_user)\n",
    "               for friend in user[\"friends\"])\n",
    "\n",
    "def friends_of_friend_ids(user):\n",
    "    return Counter(foaf[\"id\"]\n",
    "                   for friend in user[\"friends\"]  # for each of my friends\n",
    "                   for foaf in friend[\"friends\"]  # count *their* friends\n",
    "                   if not_the_same(user, foaf)    # who aren't me\n",
    "                   and not_friends(user, foaf))   # and aren't my friends"
   ]
  },
  {
   "cell_type": "code",
   "execution_count": 45,
   "metadata": {
    "collapsed": false
   },
   "outputs": [
    {
     "name": "stdout",
     "output_type": "stream",
     "text": [
      "Counter({0: 2, 5: 1})\n"
     ]
    }
   ],
   "source": [
    "print(friends_of_friend_ids(users[3])) # Counter({0: 2, 5: 1})   User 3이 User 0 과 2명을 User 5 와 1명을 같이 안다. "
   ]
  },
  {
   "cell_type": "code",
   "execution_count": null,
   "metadata": {
    "collapsed": true
   },
   "outputs": [],
   "source": []
  }
 ],
 "metadata": {
  "kernelspec": {
   "display_name": "Python 3",
   "language": "python",
   "name": "python3"
  }
 },
 "nbformat": 4,
 "nbformat_minor": 0
}
