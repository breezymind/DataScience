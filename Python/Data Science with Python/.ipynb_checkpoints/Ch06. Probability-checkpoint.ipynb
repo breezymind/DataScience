{
 "cells": [
  {
   "cell_type": "markdown",
   "metadata": {},
   "source": [
    "# Probability (확률)"
   ]
  },
  {
   "cell_type": "code",
   "execution_count": 1,
   "metadata": {
    "collapsed": true
   },
   "outputs": [],
   "source": [
    "from collections import Counter\n",
    "import math, random\n",
    "import matplotlib.pyplot as plt\n",
    "%matplotlib inline"
   ]
  },
  {
   "cell_type": "markdown",
   "metadata": {},
   "source": [
    " - 확률이란, 어떠한 사건의 공간에서 특정 사건이 선택될 떄 발생하는 불확실성을 수치적으로 나타내는 것이다.\n",
    " - 같은 사건 $E$에 대한 확률을 $P(E)$라고 표시 \n",
    " \n",
    "## 종속성과 독립성 \n",
    " - 사건간에 영향도 유무에 따라 종속성과 독립성으로 나눈다.\n",
    " - 사건 $E,F$가 동시에 발생할 확률이 각 사건이 발생할 확률의 곱과 같다면 두 사건은 독립사건을 의미한다. <br> $P(E,F)=P(E)P(F)$\n",
    " \n",
    "## 조건부 확률 \n",
    " - 두 사건이 독립이라면 $P(E,F)=P(E)P(F)$ 라는 식을 얻을 수 있었다. \n",
    " - 두 사건이 반드시 독립 사건이라는 보장이 없고 사건 F의 확률이 0 이 아닌 경우, 사건 $E$가 발생할 조건부 확률은 \n",
    " <br> $P(E|F) = P(E,F)/P(F) => P(E,F) = P(E|F)/P(F)$\n",
    " - 두 사건이 독립이라면 $P(E|F) = P(E)$"
   ]
  },
  {
   "cell_type": "markdown",
   "metadata": {},
   "source": [
    "## 나머지는 책을 참고 하시오."
   ]
  },
  {
   "cell_type": "markdown",
   "metadata": {},
   "source": [
    "## 베이즈 정리 \n",
    " - 조건부 확률을 반대로 뒤집는 베이즈 정리($Bayes's \\ Theorem$)는 데이터과학자에게 무척 친숙한 존재다. \n",
    " \n",
    " - 사건 $F$가 발생햇다는 가정하에 사건 $E$가 발생할 확률이 필요하다고 해보자. <br>\n",
    " $P(E|F) = P(E,F)/P(F) = P(F|E)P(E)/P(F)$ \n",
    " - 사건 $F$를 사건 $F$와 $E$ 모두 발생하는 경우와 사건 $F$만 발생하는 경우 상호 배타적인 사건으로 나눌수 있다. \n",
    " - $P(F) = P(F,E) + P(F,E')$\n",
    " - $=> P(E|F) = P(F|E)P(E)/[P(F|E)P(E) + P(F|E')P(E')] $"
   ]
  },
  {
   "cell_type": "markdown",
   "metadata": {},
   "source": [
    "### 예)\n",
    " - 10,000명 중 1명이 걸리는 질병이 있다고 상상. 질병이 있을 경우 양성, 없을 경우 음성이라고 판단하는 검사가 99%의 경우 정확한 판단을 한다고 한다. \n",
    " - 사건 T는 양성 판정, 사건 D는 질병에 걸렸다는 것을 나타낸다고 해보자. \n",
    " - 양성 판정인 경우, 실제로 병에 걸렸을 확률을 베이즈 정리를 사용해 풀어 보면 <br>\n",
    " $ P(D|T) = P(T|D)P(D)/[P(T|D)P(D) + P(T|D')P(D')] $\n",
    " - 질병에 걸린 사람이 양성 판정을 받을 확률 $P(T|D) = 0.99$ \n",
    " - 특정 사람이 질병에 걸린 확률 $P(D)=1/10,000=0.0001$\n",
    " - 질병없는 사람이 양성판정을 받을 확률 $P(T|D')=0.01 $\n",
    " - 또한, 특정 사람이 질병에 걸리지 않았을 확률인 $P(D')=0.9999$\n",
    " - $P(D|T) = 0.98\\%$ 즉, 양성판정을 받은 사람들 중에 실제로 질병에 걸린 사람은 $1\\%$도 안된다. "
   ]
  },
  {
   "cell_type": "markdown",
   "metadata": {},
   "source": [
    "## 확률변수 \n",
    " - 확률변수란 : 특정 확률분포와 연관되어 있는 변수 \n",
    " - 예) 동전으로 따지면 앞면이 나오면 1, 뒷면이 나오면 0 여기서 1,0이 확률변수이다.<br> \n",
    "   0 확률 변수의 확률은 0.5이며 1 확률 변수의 확률 또한 0.5이다.  \n",
    "   \n",
    "### 기대값\n",
    " - 모든 확률변수의 확률을 확률변수의 값으로 가중평균한 값을 확률변수의 **기대값** 이라고 한다. "
   ]
  },
  {
   "cell_type": "markdown",
   "metadata": {},
   "source": [
    "## 연속 분포 \n",
    " - 동전 던지기는 각각의 결과에 확률을 계산해주는 이산형 분포를 따른다. 하지만 대부분의 경우 연속적인 결과에 대한 분포를 사용해서 모델을 만든다. \n",
    " - 예) 균등 분포(Uniform distibution)는 0과 1사이의 모든값에 동등한 비중을 준 분포이다. <br>\n",
    "   0과 1사이에는 무한히 많은 연속적인 숫자가 존재하기 때문에, 숫자 하나의 비중은 0일 것이다. 이러한 이유 때문에 밀도함수를 특정 구간에서 <br> 적분한 값으로 확률을 나타내는 확률밀도함수$(Probability \\ Density \\ Function,\\ PDF)$로 연속분포를 표현하겠다. "
   ]
  },
  {
   "cell_type": "code",
   "execution_count": 2,
   "metadata": {
    "collapsed": true
   },
   "outputs": [],
   "source": [
    "# 균등분포의 확률밀도 함수\n",
    "def uniform_pdf(x):\n",
    "    return 1 if x>=0 and x< 1 else 0"
   ]
  },
  {
   "cell_type": "markdown",
   "metadata": {},
   "source": [
    " - 균등 분포를 따르는 확률변수의 값이 0.2와 0.3 사이일 확률은, 모두 예상했듯이 1/10이다. \n",
    " - 파이썬의 $random.random()$은 균등분포를 따르는 일종의 확률 변수.\n",
    " - 확률변수의 값이 특정 값보다 작거나 클 확률을 나타내는 누적분포함수$(Cumulative \\ Distribution \\ Function,\\ CDF)$를 더 자주 사용."
   ]
  },
  {
   "cell_type": "code",
   "execution_count": 3,
   "metadata": {
    "collapsed": true
   },
   "outputs": [],
   "source": [
    "def uniform_cdf(x):\n",
    "    if x < 0: return 0\n",
    "    elif x < 1: return x\n",
    "    else: return 1"
   ]
  },
  {
   "cell_type": "code",
   "execution_count": 4,
   "metadata": {
    "collapsed": false
   },
   "outputs": [
    {
     "data": {
      "text/plain": [
       "(0, 1)"
      ]
     },
     "execution_count": 4,
     "metadata": {},
     "output_type": "execute_result"
    }
   ],
   "source": [
    "uniform_pdf(3), uniform_pdf(0.2)"
   ]
  },
  {
   "cell_type": "code",
   "execution_count": 5,
   "metadata": {
    "collapsed": false
   },
   "outputs": [
    {
     "data": {
      "text/plain": [
       "(0.2, 1)"
      ]
     },
     "execution_count": 5,
     "metadata": {},
     "output_type": "execute_result"
    }
   ],
   "source": [
    "uniform_cdf(0.2), uniform_cdf(1.2)"
   ]
  },
  {
   "cell_type": "markdown",
   "metadata": {},
   "source": [
    "## 정규분포 \n",
    " - 정규분포는 모든 분포들의 왕, 정규분포는 그 유명한 종형 곡선 모양의 분포이며, 평균인 $\\mu$(뮤)와 표준편차 $\\sigma$(시그마)의 두 파라미터로 정의된다. \n",
    " - 평균은 종의 중심이 어디인지 나타내며, 표준편차는 종으 ㅣ폭이 얼마나 넓은지를 나타낸다. \n",
    "\n",
    "정규분포의 밀도함수 <br>\n",
    "$f(x|\\mu,\\sigma) =$ $1 \\over \\sqrt{2\\pi\\sigma}$ $exp($ $(x-u)^2 \\over 2\\sigma^2$$)$"
   ]
  },
  {
   "cell_type": "code",
   "execution_count": 6,
   "metadata": {
    "collapsed": true
   },
   "outputs": [],
   "source": [
    "def normal_pdf(x,mu=0,sigma=1):\n",
    "    sqrt_two_pi = math.sqrt(2 * math.pi)\n",
    "    return (math.exp(-(x-mu)**2/2/sigma**2) / (sqrt_two_pi*sigma))"
   ]
  },
  {
   "cell_type": "code",
   "execution_count": 7,
   "metadata": {
    "collapsed": false
   },
   "outputs": [],
   "source": [
    "xs = [x / 10.0 for x in range(-50, 50)] # -5~5"
   ]
  },
  {
   "cell_type": "code",
   "execution_count": 8,
   "metadata": {
    "collapsed": false
   },
   "outputs": [
    {
     "data": {
      "text/plain": [
       "<matplotlib.legend.Legend at 0x1922ed88ef0>"
      ]
     },
     "execution_count": 8,
     "metadata": {},
     "output_type": "execute_result"
    },
    {
     "data": {
      "image/png": "[encoded data removed]",
      "text/plain": [
       "<matplotlib.figure.Figure at 0x1922ed1ca90>"
      ]
     },
     "metadata": {},
     "output_type": "display_data"
    }
   ],
   "source": [
    "plt.plot(xs,[normal_pdf(x,sigma=1) for x in xs],'-',label='mu=0,sigma=1')\n",
    "plt.plot(xs,[normal_pdf(x,sigma=2) for x in xs],'--',label='mu=0,sigma=2')\n",
    "plt.plot(xs,[normal_pdf(x,sigma=0.5) for x in xs],':',label='mu=0,sigma=0.5')\n",
    "plt.plot(xs,[normal_pdf(x,mu=-1)   for x in xs],'-.',label='mu=-1,sigma=1')\n",
    "plt.legend()"
   ]
  },
  {
   "cell_type": "markdown",
   "metadata": {},
   "source": [
    "### 표준 정규분포\n",
    " - $\\mu=0,\\sigma=1$인 정규분포를 의미\n",
    " - $X=\\sigma Z+\\mu$\n",
    " - X도 평균의 $\\mu$이고 표준편차가 $\\sigma$인 정규 분포로 나타낼수 있다. 반대로 X가 평균이 $\\mu$이고 표준편차가 $\\sigma$인 정규분포의 확률변수를 나타낸다면 <br> 다음과 같이 선형변환을 통해 표준정규분포로 표현할 수 있다.\n",
    " - $Z=(X-\\mu)/\\sigma$"
   ]
  },
  {
   "cell_type": "markdown",
   "metadata": {},
   "source": [
    " - 정규분포의 누적분포함수 \n",
    " - 파이썬 $math.erf$ 함수 : 오차 함수(誤差函數, error function)는 확률론, 통계학, 편미분 방정식등에서 사용하는 비초등 함수이다. "
   ]
  },
  {
   "cell_type": "code",
   "execution_count": 9,
   "metadata": {
    "collapsed": true
   },
   "outputs": [],
   "source": [
    "def normal_cdf(x, mu=0,sigma=1):\n",
    "    return (1 + math.erf((x - mu) / math.sqrt(2) / sigma)) / 2"
   ]
  },
  {
   "cell_type": "code",
   "execution_count": 11,
   "metadata": {
    "collapsed": false
   },
   "outputs": [
    {
     "data": {
      "text/plain": [
       "<matplotlib.legend.Legend at 0x1922eede2e8>"
      ]
     },
     "execution_count": 11,
     "metadata": {},
     "output_type": "execute_result"
    },
    {
     "data": {
      "image/png": "[encoded data removed]",
      "text/plain": [
       "<matplotlib.figure.Figure at 0x1922edf1be0>"
      ]
     },
     "metadata": {},
     "output_type": "display_data"
    }
   ],
   "source": [
    "xs = [x / 10.0 for x in range(-50, 50)]\n",
    "plt.plot(xs,[normal_cdf(x,sigma=1) for x in xs],'-',label='mu=0,sigma=1')\n",
    "plt.plot(xs,[normal_cdf(x,sigma=2) for x in xs],'--',label='mu=0,sigma=2')\n",
    "plt.plot(xs,[normal_cdf(x,sigma=0.5) for x in xs],':',label='mu=0,sigma=0.5')\n",
    "plt.plot(xs,[normal_cdf(x,mu=-1) for x in xs],'-.',label='mu=-1,sigma=1')\n",
    "plt.legend(loc=4) # bottom right"
   ]
  },
  {
   "cell_type": "markdown",
   "metadata": {},
   "source": [
    " - 가끔은 특정 확률을 갖는 확률변수의 값을 찾기 위해, $Normal_cdf$의 역함수가 필요할 수 있다. \n",
    " - 누적분포함함수의 역함수를 쉽게 계산해내는 방법은 없지만, 누적분포함수가 연속 및 증가 함수라는 점을 고려하면 이진검색을 사용해 구할 수 있다 \n",
    " - (난 이해를 못하겠...)"
   ]
  },
  {
   "cell_type": "code",
   "execution_count": 12,
   "metadata": {
    "collapsed": true
   },
   "outputs": [],
   "source": [
    "def inverse_normal_cdf(p, mu=0, sigma=1, tolerance=0.00001):\n",
    "    \"\"\"find approximate inverse using binary search\"\"\"\n",
    "\n",
    "    # if not standard, compute standard and rescale\n",
    "    if mu != 0 or sigma != 1:\n",
    "        return mu + sigma * inverse_normal_cdf(p, tolerance=tolerance)\n",
    "\n",
    "    low_z, low_p = -10.0, 0            # normal_cdf(-10) is (very close to) 0\n",
    "    hi_z,  hi_p  =  10.0, 1            # normal_cdf(10)  is (very close to) 1\n",
    "    while hi_z - low_z > tolerance:\n",
    "        mid_z = (low_z + hi_z) / 2     # consider the midpoint\n",
    "        mid_p = normal_cdf(mid_z)      # and the cdf's value there\n",
    "        if mid_p < p:\n",
    "            # midpoint is still too low, search above it\n",
    "            low_z, low_p = mid_z, mid_p\n",
    "        elif mid_p > p:\n",
    "            # midpoint is still too high, search below it\n",
    "            hi_z, hi_p = mid_z, mid_p\n",
    "        else:\n",
    "            break\n",
    "\n",
    "    return mid_z\n"
   ]
  },
  {
   "cell_type": "markdown",
   "metadata": {},
   "source": [
    "## 중심극한의 정리 \n",
    " - 정규분포의 중요한 이유 중 하나는 **중심극한정리**$(Central\\ Limit\\ Theorem)$때문이다. \n",
    " - **중심극한정리**란 동일한 분포에 대한 독립적인 확률변수의 평균을 나타내는 확률변수가 대략적으로 정규분포를 따른다는 정리. \n",
    " - 예) <br>\n",
    " $x_1+x_2+\\cdots+x_n$을 평균 $\\mu$와 표준편차 $\\sigma$를 갖는 확률변수라고 해보자. <br>\n",
    " $1 \\over n $ $(x_1+ \\cdots +x_n)$ 이 수식은 대략 평균이 $\\mu$, 표준편차 $\\sigma/n$인 정규분포와 비슷해질 것이다.\n",
    " \n",
    " 다음과 같이 수식이 비슷해 질 것이다. \n",
    " \n",
    "$$(x_1 + \\cdots + x_n)-\\mu n \\over \\sigma\\sqrt n$$\n",
    "\n",
    "중심극한 정리를 더 쉽게 이해하기 위해 이항 확률변수를 활용. 이항 확률변수는 $n$과 $p$ 두 가지 파라미터로 구성된다. <br>\n",
    "단순히 $n$개의 독립적인 베르누이 확률변수를 더한 것이다. <br>\n",
    "각 베르누이 확률변수의 값은 $p$의 확률로 1, $1-p$의 확률로 0이 된다. "
   ]
  },
  {
   "cell_type": "code",
   "execution_count": 13,
   "metadata": {
    "collapsed": true
   },
   "outputs": [],
   "source": [
    "def bernoulli_trial(p):\n",
    "    return 1 if random.random() < p else 0\n",
    "\n",
    "def binomial(p, n):\n",
    "    return sum(bernoulli_trial(p) for _ in range(n))"
   ]
  },
  {
   "cell_type": "markdown",
   "metadata": {},
   "source": [
    "- 베르누이 확률변수의 평균은 $p$ 이며, 표준편차는 $\\sqrt{p(1-p)}$이다. <br>\n",
    "- 중심극한정리는 $n$의 크기가 적당히 크다면 평균 = $\\mu =np$이고, 표준편차가 $\\sigma=\\sqrt{np(1-p)}$"
   ]
  },
  {
   "cell_type": "code",
   "execution_count": 15,
   "metadata": {
    "collapsed": true
   },
   "outputs": [],
   "source": [
    "def make_hist(p, n, num_points):\n",
    "\n",
    "    #num_points번 수행한다 n개의 데이터를 p의 확률로 베르누이 확률로 \n",
    "    data = [binomial(p, n) for _ in range(num_points)]\n",
    "\n",
    "    # 이항분포의 표본을 막대 그래프로 표현\n",
    "    histogram = Counter(data)\n",
    "    plt.bar([x - 0.4 for x in histogram.keys()],\n",
    "            [v / num_points for v in histogram.values()],\n",
    "            0.8,\n",
    "            color='0.75')\n",
    "\n",
    "    mu = p * n\n",
    "    sigma = math.sqrt(n * p * (1 - p))\n",
    "\n",
    "    # 근사된 정규분포를 라인차트로 그린다. \n",
    "    xs = range(min(data), max(data) + 1)\n",
    "    ys = [normal_cdf(i + 0.5, mu, sigma) - normal_cdf(i - 0.5, mu, sigma)\n",
    "          for i in xs]\n",
    "    plt.plot(xs,ys)"
   ]
  },
  {
   "cell_type": "code",
   "execution_count": 16,
   "metadata": {
    "collapsed": false
   },
   "outputs": [
    {
     "data": {
      "image/png": "[encoded data removed]",
      "text/plain": [
       "<matplotlib.figure.Figure at 0x1922eead358>"
      ]
     },
     "metadata": {},
     "output_type": "display_data"
    }
   ],
   "source": [
    "make_hist(0.75,100,1000)"
   ]
  }
 ],
 "metadata": {
  "anaconda-cloud": {},
  "kernelspec": {
   "display_name": "Python [work]",
   "language": "python",
   "name": "Python [work]"
  },
  "language_info": {
   "codemirror_mode": {
    "name": "ipython",
    "version": 3
   },
   "file_extension": ".py",
   "mimetype": "text/x-python",
   "name": "python",
   "nbconvert_exporter": "python",
   "pygments_lexer": "ipython3",
   "version": "3.5.2"
  }
 },
 "nbformat": 4,
 "nbformat_minor": 0
}
