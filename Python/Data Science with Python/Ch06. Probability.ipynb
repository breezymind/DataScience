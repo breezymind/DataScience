{
 "cells": [
  {
   "cell_type": "markdown",
   "metadata": {},
   "source": [
    "# Probability (확률)"
   ]
  },
  {
   "cell_type": "code",
   "execution_count": 1,
   "metadata": {
    "collapsed": true
   },
   "outputs": [],
   "source": [
    "from collections import Counter\n",
    "import math, random"
   ]
  },
  {
   "cell_type": "markdown",
   "metadata": {},
   "source": [
    " - 확률이란, 어떠한 사건의 공간에서 특정 사건이 선택될 떄 발생하는 불확실성을 수치적으로 나타내는 것이다.\n",
    " - 같은 사건 $E$에 대한 확률을 $P(E)$라고 표시 \n",
    " \n",
    "## 종속성과 독립성 \n",
    " - 사건간에 영향도 유무에 따라 종속성과 독립성으로 나눈다.\n",
    " - 사건 $E,F$가 동시에 발생할 확률이 각 사건이 발생할 확률의 곱과 같다면 두 사건은 독립사건을 의미한다. <br> $P(E,F)=P(E)P(F)$\n",
    " \n",
    "## 조건부 확률 \n",
    " - 두 사건이 독립이라면 $P(E,F)=P(E)P(F)$ 라는 식을 얻을 수 있었다. \n",
    " - 두 사건이 반드시 독립 사건이라는 보장이 없고 사건 F의 확률이 0 이 아닌 경우, 사건 $E$가 발생할 조건부 확률은 \n",
    " <br> $P(E|F) = P(E,F)/P(F) => P(E,F) = P(E|F)/P(F)$\n",
    " - 두 사건이 독립이라면 $P(E|F) = P(E)$"
   ]
  },
  {
   "cell_type": "markdown",
   "metadata": {},
   "source": [
    "## 나머지는 책을 참고 하시오."
   ]
  },
  {
   "cell_type": "markdown",
   "metadata": {},
   "source": [
    "## 베이즈 정리 \n",
    " - 조건부 확률을 반대로 뒤집는 베이즈 정리($Bayes's \\ Theorem$)는 데이터과학자에게 무척 친숙한 존재다. \n",
    " \n",
    " - 사건 $F$가 발생햇다는 가정하에 사건 $E$가 발생할 확률이 필요하다고 해보자. <br>\n",
    " $P(E|F) = P(E,F)/P(F) = P(F|E)P(E)/P(F)$ \n",
    " - 사건 $F$를 사건 $F$와 $E$ 모두 발생하는 경우와 사건 $F$만 발생하는 경우 상호 배타적인 사건으로 나눌수 있다. \n",
    " - $P(F) = P(F,E) + P(F,E')$\n",
    " - $=> P(E|F) = P(F|E)P(E)/[P(F|E)P(E) + P(F|E')P(E')] $"
   ]
  },
  {
   "cell_type": "markdown",
   "metadata": {},
   "source": [
    "### 예)\n",
    " - 10,000명 중 1명이 걸리는 질병이 있다고 상상. 질병이 있을 경우 양성, 없을 경우 음성이라고 판단하는 검사가 99%의 경우 정확한 판단을 한다고 한다. \n",
    " - 사건 T는 양성 판정, 사건 D는 질병에 걸렸다는 것을 나타낸다고 해보자. \n",
    " - 양성 판정인 경우, 실제로 병에 걸렸을 확률을 베이즈 정리를 사용해 풀어 보면 <br>"
   ]
  }
 ],
 "metadata": {
  "kernelspec": {
   "display_name": "Python 3",
   "language": "python",
   "name": "python3"
  },
  "language_info": {
   "codemirror_mode": {
    "name": "ipython",
    "version": 3
   },
   "file_extension": ".py",
   "mimetype": "text/x-python",
   "name": "python",
   "nbconvert_exporter": "python",
   "pygments_lexer": "ipython3",
   "version": "3.5.2"
  }
 },
 "nbformat": 4,
 "nbformat_minor": 0
}
