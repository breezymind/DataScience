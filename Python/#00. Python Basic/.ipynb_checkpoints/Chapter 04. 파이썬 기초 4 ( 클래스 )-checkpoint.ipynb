{
 "cells": [
  {
   "cell_type": "markdown",
   "metadata": {},
   "source": [
    "# 클래스\n",
    " - java와 마찬가지인 클래스 이다. \n",
    " - class는 가장 많이 표현하는 붕어빵과 붕어빵 틀이라고 생각하면 된다. \n",
    " - 객체를 동일한 형태로 재사용 다중 사용을 하려고 할때 사용하는 것이 class이다. \n",
    " - 변수와 함수의 집합. \n",
    " - class 와 instance : class 객체 (붕어빵 틀)를 바탕으로 만든 것이 instance(붕어빵,객체) 이다. \n",
    " - 해당 객체가 어떻게 생겼는지 나타내는 설계도라고도 볼 수 있다."
   ]
  },
  {
   "cell_type": "code",
   "execution_count": 1,
   "metadata": {
    "collapsed": false
   },
   "outputs": [
    {
     "name": "stdout",
     "output_type": "stream",
     "text": [
      "1\n",
      "1\n",
      "<class '__main__.Simple'>\n"
     ]
    }
   ],
   "source": [
    "# define class\n",
    "\n",
    "class Simple:\n",
    "    a = 1  # 클래스 변수. 이자 지역변수.\n",
    "    print(a)\n",
    "    \n",
    "a1 = Simple()\n",
    "print(a1.a)   # 객체명.변수명으로 접근 \n",
    "\n",
    "print(type(a1))"
   ]
  },
  {
   "cell_type": "code",
   "execution_count": 2,
   "metadata": {
    "collapsed": false
   },
   "outputs": [
    {
     "name": "stdout",
     "output_type": "stream",
     "text": [
      "3\n"
     ]
    }
   ],
   "source": [
    "class Simple2:\n",
    "    def sum(self,a,b):\n",
    "        return a+b\n",
    "    \n",
    "a2 = Simple2()\n",
    "a3 = a2.sum(1,2)\n",
    "print(a3)"
   ]
  },
  {
   "cell_type": "markdown",
   "metadata": {},
   "source": [
    "### Class function\n",
    " - function(self, args) \n",
    " - 첫번째 인자는 무조건 self를 사용.\n",
    " - self는 해당 객체 그 자신을 가리키고 있다고 보면 된다.\n",
    " \n",
    "### self를 하는 이유 \n",
    " - 우선 해당 객체(인스턴스)가 해당 class의 인스턴스 인지 확인하기 위해서 \n",
    " - kim = Service() 라면 \n",
    " - Service.sum(kim,2,3)를 사용 해도 가능하다. \n",
    " - kim.sum(1,2) 를 하면 첫번째 self => 자동으로 kim으로 변환되어 인식 된다. \n",
    " - 해당 인스턴스가 해당 class에 의해 만들어지지 않은 인스턴스라면 사용 불가능. \n",
    " - 즉, 해당 인스턴스가  해당 객체만 함수를 사용 할 수 있도록 제한을 두기 위한 행동이라고 보면 될 것 같다.\n"
   ]
  },
  {
   "cell_type": "code",
   "execution_count": 4,
   "metadata": {
    "collapsed": false
   },
   "outputs": [
    {
     "name": "stdout",
     "output_type": "stream",
     "text": [
      "mika님 1 + 2 = 3 입니다.\n",
      "jack님 1 + 2 = 3 입니다.\n"
     ]
    }
   ],
   "source": [
    "class Simple:\n",
    "    def setname(self,name):\n",
    "        self.name = name\n",
    "    def sum(self,a,b):\n",
    "        result = a + b\n",
    "        print(\"%s님 %s + %s = %s 입니다.\" % (self.name,a,b,result))\n",
    "    \n",
    "mika = Simple()\n",
    "jack = Simple()\n",
    "sia = Simple()\n",
    "\n",
    "mika.setname(\"mika\")\n",
    "jack.setname(\"jack\")\n",
    "#sia.setname(\"sia\")\n",
    "\n",
    "mika.sum(1,2)\n",
    "jack.sum(1,2)"
   ]
  },
  {
   "cell_type": "code",
   "execution_count": 7,
   "metadata": {
    "collapsed": false
   },
   "outputs": [
    {
     "ename": "NameError",
     "evalue": "name 'mika2' is not defined",
     "output_type": "error",
     "traceback": [
      "\u001b[1;31m---------------------------------------------------------------------------\u001b[0m",
      "\u001b[1;31mNameError\u001b[0m                                 Traceback (most recent call last)",
      "\u001b[1;32m<ipython-input-7-37f145bc7305>\u001b[0m in \u001b[0;36m<module>\u001b[1;34m()\u001b[0m\n\u001b[1;32m----> 1\u001b[1;33m \u001b[0mmika2\u001b[0m\u001b[1;33m.\u001b[0m\u001b[0msum\u001b[0m\u001b[1;33m(\u001b[0m\u001b[1;36m1\u001b[0m\u001b[1;33m,\u001b[0m\u001b[1;36m2\u001b[0m\u001b[1;33m)\u001b[0m\u001b[1;33m\u001b[0m\u001b[0m\n\u001b[0m",
      "\u001b[1;31mNameError\u001b[0m: name 'mika2' is not defined"
     ]
    }
   ],
   "source": [
    "mika2.sum(1,2)"
   ]
  },
  {
   "cell_type": "code",
   "execution_count": 9,
   "metadata": {
    "collapsed": false
   },
   "outputs": [
    {
     "name": "stdout",
     "output_type": "stream",
     "text": [
      "mika님 1 + 2 = 3 입니다.\n"
     ]
    }
   ],
   "source": [
    "Simple.sum(mika,1,2)"
   ]
  },
  {
   "cell_type": "code",
   "execution_count": 10,
   "metadata": {
    "collapsed": false
   },
   "outputs": [
    {
     "ename": "NameError",
     "evalue": "name 'mika2' is not defined",
     "output_type": "error",
     "traceback": [
      "\u001b[1;31m---------------------------------------------------------------------------\u001b[0m",
      "\u001b[1;31mNameError\u001b[0m                                 Traceback (most recent call last)",
      "\u001b[1;32m<ipython-input-10-61b274b79977>\u001b[0m in \u001b[0;36m<module>\u001b[1;34m()\u001b[0m\n\u001b[1;32m----> 1\u001b[1;33m \u001b[0mSimple\u001b[0m\u001b[1;33m.\u001b[0m\u001b[0msum\u001b[0m\u001b[1;33m(\u001b[0m\u001b[0mmika2\u001b[0m\u001b[1;33m,\u001b[0m\u001b[1;36m1\u001b[0m\u001b[1;33m,\u001b[0m\u001b[1;36m2\u001b[0m\u001b[1;33m)\u001b[0m\u001b[1;33m\u001b[0m\u001b[0m\n\u001b[0m",
      "\u001b[1;31mNameError\u001b[0m: name 'mika2' is not defined"
     ]
    }
   ],
   "source": [
    "Simple.sum(mika2,1,2)"
   ]
  },
  {
   "cell_type": "markdown",
   "metadata": {},
   "source": [
    "## __init__\n",
    " - java에서 생성자라고 보면 된다.\n",
    " - 객체가 생성될 때 같이 시작되는 함수 \n",
    " - 윈도우의 시작프로그램이라고 생각하면 이해가 빠를 것이다. "
   ]
  },
  {
   "cell_type": "code",
   "execution_count": 18,
   "metadata": {
    "collapsed": false
   },
   "outputs": [
    {
     "name": "stdout",
     "output_type": "stream",
     "text": [
      "mika님 1 + 2 = 3 입니다.\n"
     ]
    }
   ],
   "source": [
    "class Simple:\n",
    "    def __init__(self, name):\n",
    "        self.name = name\n",
    "    def sum(self,a,b):\n",
    "        result = a + b\n",
    "        print(\"%s님 %s + %s = %s 입니다.\" % (self.name,a,b,result))\n",
    "\n",
    "#mika=Simple()  Error \n",
    "mika = Simple(\"mika\")\n",
    "mika.sum(1,2)"
   ]
  },
  {
   "cell_type": "markdown",
   "metadata": {},
   "source": [
    "## __del__ \n",
    " - java의 소멸자 \n",
    " - 객체를 없앨때 사용되는 함수 ( 자동 수행 )\n",
    " - __init__과 반대 개념이다. "
   ]
  },
  {
   "cell_type": "code",
   "execution_count": 19,
   "metadata": {
    "collapsed": false
   },
   "outputs": [
    {
     "name": "stdout",
     "output_type": "stream",
     "text": [
      "mika님 1 + 2 = 3 입니다.\n",
      "mika님 Die\n"
     ]
    }
   ],
   "source": [
    "class Simple:\n",
    "    def __init__(self, name):\n",
    "        self.name = name\n",
    "    def sum(self,a,b):\n",
    "        result = a + b\n",
    "        print(\"%s님 %s + %s = %s 입니다.\" % (self.name,a,b,result))\n",
    "    def __del__(self):\n",
    "        print(\"%s님 Die\" % self.name)\n",
    "\n",
    "#mika=Simple()  Error \n",
    "mika = Simple(\"mika\")\n",
    "mika.sum(1,2)\n",
    "\n",
    "del mika"
   ]
  },
  {
   "cell_type": "markdown",
   "metadata": {},
   "source": [
    "## 상속 ( inheritance ) \n",
    " - 객체 지향 프로그램의 정점. 이라고 표현하지만 개발 현장에서 사용하는 것은 드물다. \n",
    " - 주로 만들어진 라이브러리를 상속하는 형태로 안드로이드 쪽에서 많이 사용하는 듯 함.\n",
    " - 일상생활의 상속과 비슷하다. ( 유저학적인 )\n",
    " - 아버지의 특성을 그대로 가지고와 닮는 것과 비슷하다. "
   ]
  },
  {
   "cell_type": "code",
   "execution_count": 25,
   "metadata": {
    "collapsed": false
   },
   "outputs": [
    {
     "name": "stdout",
     "output_type": "stream",
     "text": [
      "박임마 죽다.\n",
      "박임마, 방콕 여행을 가다\n",
      "김임마 죽다.\n",
      "김임마, 보라카이 여행을 가다\n"
     ]
    }
   ],
   "source": [
    "class House:\n",
    "    lastname = \"\"\n",
    "    def __init__(self,lastname,firstname):\n",
    "        self.lastname = lastname\n",
    "        self.firstname = firstname\n",
    "        self.fullname = self.lastname+self.firstname\n",
    "        \n",
    "    def travel(self, where):\n",
    "        print(\"%s, %s 여행을 가다\" % (self.fullname,where))\n",
    "        \n",
    "    def __del__(self):\n",
    "        print(\"%s 죽다.\" % self.fullname)\n",
    "        \n",
    "park = House(\"박\",\"임마\")\n",
    "park.travel(\"방콕\")\n",
    "\n",
    "class Apartment(House):\n",
    "    lastname = \"\"\n",
    "    \n",
    "# Apartment 내용을 작성하지 않더라도 House를 상속하였으므로 House 모든 것을 사용 가능하다. \n",
    "\n",
    "kim = Apartment(\"김\",\"임마\")\n",
    "kim.travel(\"보라카이\")"
   ]
  },
  {
   "cell_type": "markdown",
   "metadata": {},
   "source": [
    "## 오버로딩과 오버라이딩\n",
    " - 오버로딩 : 해당 클래스내에서 같은 이름 다른 매개변수를 받는 경우 사용.  : Python에서는 지원하지 않는다. \n",
    " - 오버라이딩  : 상속 받음 함수를 재 정의 해서 사용. ( 자식 객체에서 ) "
   ]
  },
  {
   "cell_type": "code",
   "execution_count": 53,
   "metadata": {
    "collapsed": false
   },
   "outputs": [
    {
     "ename": "SyntaxError",
     "evalue": "Missing parentheses in call to 'print' (<ipython-input-53-164fdff3d31b>, line 3)",
     "output_type": "error",
     "traceback": [
      "\u001b[1;36m  File \u001b[1;32m\"<ipython-input-53-164fdff3d31b>\"\u001b[1;36m, line \u001b[1;32m3\u001b[0m\n\u001b[1;33m    print 'no arguments'\u001b[0m\n\u001b[1;37m                       ^\u001b[0m\n\u001b[1;31mSyntaxError\u001b[0m\u001b[1;31m:\u001b[0m Missing parentheses in call to 'print'\n"
     ]
    }
   ],
   "source": [
    "def function(self, *arglist):\n",
    "        if not arglist:\n",
    "            print 'no arguments'\n",
    "            return\n",
    "        else:\n",
    "            for i,arg in enumerate(arglist):\n",
    "                if type(arg)==list:\n",
    "                    print arg\n",
    "                elif type(arg)==str:\n",
    "                    print arg\n"
   ]
  },
  {
   "cell_type": "code",
   "execution_count": 4,
   "metadata": {
    "collapsed": false
   },
   "outputs": [
    {
     "name": "stdout",
     "output_type": "stream",
     "text": [
      "박임마 죽다.\n",
      "박임마, 방콕 여행을 가다\n",
      "김임마 죽다.\n",
      "김임마, 보라카이에 10동안 여행을 가다\n"
     ]
    }
   ],
   "source": [
    "class House:\n",
    "    lastname = \"\"\n",
    "    def __init__(self,lastname,firstname):\n",
    "        self.lastname = lastname\n",
    "        self.firstname = firstname\n",
    "        self.fullname = self.lastname+self.firstname\n",
    "    def travel(self, where):\n",
    "        print(\"%s, %s 여행을 가다\" % (self.fullname,where))\n",
    "    def __del__(self):\n",
    "        print(\"%s 죽다.\" % self.fullname)\n",
    "        \n",
    "park = House(\"박\",\"임마\")\n",
    "park.travel(\"방콕\")\n",
    "\n",
    "class Apartment(House):\n",
    "    lastname = \"\"\n",
    "    def travel(self,where,day):\n",
    "        print(\"%s, %s에 %s동안 여행을 가다\" % (self.fullname,where, day))\n",
    "    \n",
    "# Apartment 내용을 작성하지 않더라도 House를 상속하였으므로 House 모든 것을 사용 가능하다. \n",
    "\n",
    "kim = Apartment(\"김\",\"임마\")\n",
    "kim.travel(\"보라카이\",10)  #다른 형태로 사용. "
   ]
  },
  {
   "cell_type": "markdown",
   "metadata": {
    "collapsed": true
   },
   "source": [
    "### 연산자 오버로딩\n",
    " - +,-,*,/, , _ 등 의 연산자를 활용하는 방법을 말한다."
   ]
  },
  {
   "cell_type": "code",
   "execution_count": 18,
   "metadata": {
    "collapsed": false
   },
   "outputs": [
    {
     "name": "stdout",
     "output_type": "stream",
     "text": [
      "박임마 죽다.\n",
      "김임마 죽다.\n",
      "박임마, 동해 여행을 가다\n",
      "박임마, 김임마 사랑에 빠졌네\n",
      "박임마, 김임마 결혼 \n",
      "박임마, 김임마 이혼 \n"
     ]
    }
   ],
   "source": [
    "class House:\n",
    "    lastname = \"\"\n",
    "    def __init__(self,lastname,firstname):\n",
    "        self.lastname = lastname\n",
    "        self.firstname = firstname\n",
    "        self.fullname = self.lastname+self.firstname\n",
    "    def travel(self, where):\n",
    "        print(\"%s, %s 여행을 가다\" % (self.fullname,where))\n",
    "    def __del__(self):\n",
    "        print(\"%s 죽다.\" % self.fullname)\n",
    "    def love(self,other):\n",
    "        print(\"%s, %s 사랑에 빠졌네\" % (self.fullname,other.fullname))\n",
    "    def __add__(self,other):\n",
    "        print(\"%s, %s 결혼 \" % (self.fullname, other.fullname))\n",
    "    def __sub__(self,other):\n",
    "        print(\"%s, %s 이혼 \" % (self.fullname, other.fullname))\n",
    "        \n",
    "class Apartment(House):\n",
    "    lastname = \"\"\n",
    "    def travel(self,where,day):\n",
    "        print(\"%s, %s에 %s동안 여행을 가다\" % (self.fullname,where, day))\n",
    "        \n",
    "park2 = House(\"박\",\"임마\")\n",
    "kim2 = Apartment(\"김\",\"임마\")\n",
    "park2.travel(\"동해\")\n",
    "park2.love(kim2)\n",
    "park2 + kim2\n",
    "park2 - kim2"
   ]
  }
 ],
 "metadata": {
  "anaconda-cloud": {},
  "kernelspec": {
   "display_name": "Python [Root]",
   "language": "python",
   "name": "Python [Root]"
  },
  "language_info": {
   "codemirror_mode": {
    "name": "ipython",
    "version": 3
   },
   "file_extension": ".py",
   "mimetype": "text/x-python",
   "name": "python",
   "nbconvert_exporter": "python",
   "pygments_lexer": "ipython3",
   "version": "3.5.2"
  }
 },
 "nbformat": 4,
 "nbformat_minor": 0
}
