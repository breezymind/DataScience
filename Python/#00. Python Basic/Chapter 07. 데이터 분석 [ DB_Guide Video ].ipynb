{
 "cells": [
  {
   "cell_type": "markdown",
   "metadata": {},
   "source": [
    "# Db_Guide \n",
    " - 동영상 강의  "
   ]
  },
  {
   "cell_type": "code",
   "execution_count": 4,
   "metadata": {
    "collapsed": true
   },
   "outputs": [
    {
     "data": {
      "text/plain": [
       "array([[ 0.53166387,  0.20461799,  0.17084032, ..., -0.44995304,\n",
       "         1.26740653,  1.93792018],\n",
       "       [ 0.58040329,  1.77139721, -0.13823706, ..., -0.75976417,\n",
       "         1.50469084,  0.21141867],\n",
       "       [ 0.92099846,  1.04122953, -1.46378516, ...,  0.07190852,\n",
       "         0.94998019, -0.9072831 ],\n",
       "       ..., \n",
       "       [-0.2632543 ,  0.96464074, -0.2773548 , ...,  2.44557298,\n",
       "        -1.14682209,  0.54532833],\n",
       "       [ 0.64257772,  0.56928947, -1.48306429, ...,  1.65020873,\n",
       "        -1.09800943, -0.29625878],\n",
       "       [ 1.72501019, -0.47456146, -0.33650947, ...,  0.85472158,\n",
       "        -1.08369257,  0.67886572]])"
      ]
     },
     "execution_count": 4,
     "metadata": {},
     "output_type": "execute_result"
    }
   ],
   "source": [
    "import numpy as np\n",
    "a2 = np.random.randn(100,100) # 100 x 100 random 난수 생성. \n",
    "a2"
   ]
  },
  {
   "cell_type": "code",
   "execution_count": 9,
   "metadata": {
    "collapsed": false
   },
   "outputs": [
    {
     "name": "stdout",
     "output_type": "stream",
     "text": [
      "The slowest run took 35.31 times longer than the fastest. This could mean that an intermediate result is being cached.\n",
      "10000 loops, best of 3: 28.5 µs per loop\n"
     ]
    }
   ],
   "source": [
    "%timeit np.dot(a2,a2)  # a2 * a2   # 수행되는 시간 확인. "
   ]
  },
  {
   "cell_type": "code",
   "execution_count": 11,
   "metadata": {
    "collapsed": false
   },
   "outputs": [
    {
     "data": {
      "text/plain": [
       "'automatic'"
      ]
     },
     "execution_count": 11,
     "metadata": {},
     "output_type": "execute_result"
    }
   ],
   "source": [
    "foo = \"automatic\"\n",
    "foo"
   ]
  },
  {
   "cell_type": "code",
   "execution_count": 13,
   "metadata": {
    "collapsed": true
   },
   "outputs": [
    {
     "name": "stdout",
     "output_type": "stream",
     "text": [
      " F 드라이브의 볼륨에는 이름이 없습니다.\n",
      " 볼륨 일련 번호: 6646-05F5\n",
      "\n",
      " F:\\#BigdataMBA\\#2. PYTHON\\iPython(방학) 디렉터리\n",
      "\n",
      "2016-07-11  오후 11:15    <DIR>          .\n",
      "2016-07-11  오후 11:15    <DIR>          ..\n",
      "2016-07-05  오후 10:55            39,515 1.png\n",
      "2016-07-05  오후 10:55            28,245 2.png\n",
      "2016-07-06  오후 11:27            44,930 3.PNG\n",
      "2016-07-08  오전 12:34             5,448 4.PNG\n",
      "2016-07-08  오전 12:34             3,303 5.PNG\n",
      "2016-07-10  오후 03:51             5,647 6.PNG\n",
      "2016-07-11  오후 09:17            13,127 7.PNG\n",
      "2016-07-10  오후 03:00           121,090 Chapter 1. 파이썬 기초 1 ( 기본, 자료형 ).ipynb\n",
      "2016-07-08  오전 12:34            78,699 Chapter 2. 파이썬 기초 2 (변수, 제어문).ipynb\n",
      "2016-07-10  오후 02:34            32,298 Chapter 3. 파이썬 기초 (함수, 입출력).ipynb\n",
      "2016-07-11  오후 09:04            11,736 Chapter 4. 파이썬 기초 ( 클래스 ).ipynb\n",
      "2016-07-11  오후 10:10           290,646 Chapter 5. 모듈 .ipynb\n",
      "2016-07-11  오후 10:54           189,299 Chapter 6. 데이터 분석 예제 [ 타이타닉 ].ipynb\n",
      "2016-07-11  오후 11:15             2,236 Chapter 7. 데이터 분석 [ DB_Guide Video ].ipynb\n",
      "2014-01-18  오후 05:31             3,679 ciforest.csv\n",
      "2014-01-18  오후 05:31             3,679 engineeredfeaturestree.csv\n",
      "2016-07-10  오후 02:25               219 first.txt\n",
      "2014-01-18  오후 05:31             3,679 firstforest.csv\n",
      "2014-01-18  오후 05:31             2,843 genderbasedmodel.csv\n",
      "2016-07-08  오후 09:42             3,258 genderclassmodel.csv\n",
      "2016-07-08  오후 09:42             3,258 gendermodel.csv\n",
      "2016-07-08  오전 12:34           260,978 iPython(방학).zip\n",
      "2016-07-11  오후 09:09               262 mod.py\n",
      "2016-07-11  오후 09:15               291 mod2.py\n",
      "2014-01-18  오후 05:31             3,679 myfirstdtree.csv\n",
      "2014-01-18  오후 05:31             3,679 myfullgrowntree.csv\n",
      "2016-07-10  오후 03:51                62 systest.py\n",
      "2016-07-08  오후 09:42            28,629 test.csv\n",
      "2016-07-08  오후 10:00             3,262 theyallperish.csv\n",
      "2016-07-08  오후 09:42            61,194 train.csv\n",
      "2016-07-11  오후 09:15    <DIR>          __pycache__\n",
      "              30개 파일           1,248,870 바이트\n",
      "               3개 디렉터리  255,584,145,408 바이트 남음\n"
     ]
    }
   ],
   "source": [
    "!dir  # ! 시스템 커맨드 "
   ]
  },
  {
   "cell_type": "code",
   "execution_count": 15,
   "metadata": {
    "collapsed": true
   },
   "outputs": [],
   "source": [
    "from numpy.random import randn\n",
    "import numpy as np"
   ]
  },
  {
   "cell_type": "code",
   "execution_count": 19,
   "metadata": {
    "collapsed": false
   },
   "outputs": [
    {
     "data": {
      "text/plain": [
       "array([[ 0.96805776,  1.60181275,  1.44934333],\n",
       "       [-1.03226097, -0.7376646 , -1.66541407]])"
      ]
     },
     "execution_count": 19,
     "metadata": {},
     "output_type": "execute_result"
    }
   ],
   "source": [
    "data = randn(2,3)\n",
    "data"
   ]
  },
  {
   "cell_type": "code",
   "execution_count": 21,
   "metadata": {
    "collapsed": false
   },
   "outputs": [
    {
     "data": {
      "text/plain": [
       "array([[  9.68057765,  16.01812752,  14.49343327],\n",
       "       [-10.32260968,  -7.37664601, -16.65414067]])"
      ]
     },
     "execution_count": 21,
     "metadata": {},
     "output_type": "execute_result"
    }
   ],
   "source": [
    "data * 10"
   ]
  },
  {
   "cell_type": "code",
   "execution_count": 23,
   "metadata": {
    "collapsed": false
   },
   "outputs": [
    {
     "data": {
      "text/plain": [
       "array([[ 1.93611553,  3.2036255 ,  2.89868665],\n",
       "       [-2.06452194, -1.4753292 , -3.33082813]])"
      ]
     },
     "execution_count": 23,
     "metadata": {},
     "output_type": "execute_result"
    }
   ],
   "source": [
    "data + data"
   ]
  },
  {
   "cell_type": "code",
   "execution_count": 26,
   "metadata": {
    "collapsed": false
   },
   "outputs": [
    {
     "data": {
      "text/plain": [
       "(2, 3)"
      ]
     },
     "execution_count": 26,
     "metadata": {},
     "output_type": "execute_result"
    }
   ],
   "source": [
    "data.shape  # row, col "
   ]
  },
  {
   "cell_type": "code",
   "execution_count": 29,
   "metadata": {
    "collapsed": false
   },
   "outputs": [
    {
     "data": {
      "text/plain": [
       "dtype('float64')"
      ]
     },
     "execution_count": 29,
     "metadata": {},
     "output_type": "execute_result"
    }
   ],
   "source": [
    "data.dtype"
   ]
  },
  {
   "cell_type": "code",
   "execution_count": 31,
   "metadata": {
    "collapsed": true
   },
   "outputs": [],
   "source": [
    "data1 = [3.4,23.2,5.5,1,0]"
   ]
  },
  {
   "cell_type": "code",
   "execution_count": 33,
   "metadata": {
    "collapsed": true
   },
   "outputs": [],
   "source": [
    "data2 = [[1,2,3,4],[5,6,7,8]]"
   ]
  },
  {
   "cell_type": "code",
   "execution_count": null,
   "metadata": {
    "collapsed": true
   },
   "outputs": [],
   "source": []
  }
 ],
 "metadata": {
  "kernelspec": {
   "display_name": "Python [Root]",
   "language": "python",
   "name": "Python [Root]"
  },
  "language_info": {
   "codemirror_mode": {
    "name": "ipython",
    "version": 3
   },
   "file_extension": ".py",
   "mimetype": "text/x-python",
   "name": "python",
   "nbconvert_exporter": "python",
   "pygments_lexer": "ipython3",
   "version": "3.5.2"
  }
 },
 "nbformat": 4,
 "nbformat_minor": 0
}
