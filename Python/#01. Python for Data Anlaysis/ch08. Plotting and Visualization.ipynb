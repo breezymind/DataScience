{
 "cells": [
  {
   "cell_type": "markdown",
   "metadata": {},
   "source": [
    "# Plotting and Visualization"
   ]
  },
  {
   "cell_type": "code",
   "execution_count": 35,
   "metadata": {
    "collapsed": true
   },
   "outputs": [],
   "source": [
    "import pandas as pd\n",
    "import numpy as np \n",
    "import matplotlib.pyplot as plt \n",
    "from numpy.random import randn"
   ]
  },
  {
   "cell_type": "code",
   "execution_count": 31,
   "metadata": {
    "collapsed": true
   },
   "outputs": [],
   "source": [
    "%matplotlib inline\n",
    "#%matplotlib nbagg"
   ]
  },
  {
   "cell_type": "markdown",
   "metadata": {},
   "source": [
    "## Figures and Subplots "
   ]
  },
  {
   "cell_type": "code",
   "execution_count": 26,
   "metadata": {
    "collapsed": false
   },
   "outputs": [
    {
     "data": {
      "application/javascript": [
       "/* Put everything inside the global mpl namespace */\n",
       "window.mpl = {};\n",
       "\n",
       "mpl.get_websocket_type = function() {\n",
       "    if (typeof(WebSocket) !== 'undefined') {\n",
       "        return WebSocket;\n",
       "    } else if (typeof(MozWebSocket) !== 'undefined') {\n",
       "        return MozWebSocket;\n",
       "    } else {\n",
       "        alert('Your browser does not have WebSocket support.' +\n",
       "              'Please try Chrome, Safari or Firefox ≥ 6. ' +\n",
       "              'Firefox 4 and 5 are also supported but you ' +\n",
       "              'have to enable WebSockets in about:config.');\n",
       "    };\n",
       "}\n",
       "\n",
       "mpl.figure = function(figure_id, websocket, ondownload, parent_element) {\n",
       "    this.id = figure_id;\n",
       "\n",
       "    this.ws = websocket;\n",
       "\n",
       "    this.supports_binary = (this.ws.binaryType != undefined);\n",
       "\n",
       "    if (!this.supports_binary) {\n",
       "        var warnings = document.getElementById(\"mpl-warnings\");\n",
       "        if (warnings) {\n",
       "            warnings.style.display = 'block';\n",
       "            warnings.textContent = (\n",
       "                \"This browser does not support binary websocket messages. \" +\n",
       "                    \"Performance may be slow.\");\n",
       "        }\n",
       "    }\n",
       "\n",
       "    this.imageObj = new Image();\n",
       "\n",
       "    this.context = undefined;\n",
       "    this.message = undefined;\n",
       "    this.canvas = undefined;\n",
       "    this.rubberband_canvas = undefined;\n",
       "    this.rubberband_context = undefined;\n",
       "    this.format_dropdown = undefined;\n",
       "\n",
       "    this.image_mode = 'full';\n",
       "\n",
       "    this.root = $('<div/>');\n",
       "    this._root_extra_style(this.root)\n",
       "    this.root.attr('style', 'display: inline-block');\n",
       "\n",
       "    $(parent_element).append(this.root);\n",
       "\n",
       "    this._init_header(this);\n",
       "    this._init_canvas(this);\n",
       "    this._init_toolbar(this);\n",
       "\n",
       "    var fig = this;\n",
       "\n",
       "    this.waiting = false;\n",
       "\n",
       "    this.ws.onopen =  function () {\n",
       "            fig.send_message(\"supports_binary\", {value: fig.supports_binary});\n",
       "            fig.send_message(\"send_image_mode\", {});\n",
       "            fig.send_message(\"refresh\", {});\n",
       "        }\n",
       "\n",
       "    this.imageObj.onload = function() {\n",
       "            if (fig.image_mode == 'full') {\n",
       "                // Full images could contain transparency (where diff images\n",
       "                // almost always do), so we need to clear the canvas so that\n",
       "                // there is no ghosting.\n",
       "                fig.context.clearRect(0, 0, fig.canvas.width, fig.canvas.height);\n",
       "            }\n",
       "            fig.context.drawImage(fig.imageObj, 0, 0);\n",
       "        };\n",
       "\n",
       "    this.imageObj.onunload = function() {\n",
       "        this.ws.close();\n",
       "    }\n",
       "\n",
       "    this.ws.onmessage = this._make_on_message_function(this);\n",
       "\n",
       "    this.ondownload = ondownload;\n",
       "}\n",
       "\n",
       "mpl.figure.prototype._init_header = function() {\n",
       "    var titlebar = $(\n",
       "        '<div class=\"ui-dialog-titlebar ui-widget-header ui-corner-all ' +\n",
       "        'ui-helper-clearfix\"/>');\n",
       "    var titletext = $(\n",
       "        '<div class=\"ui-dialog-title\" style=\"width: 100%; ' +\n",
       "        'text-align: center; padding: 3px;\"/>');\n",
       "    titlebar.append(titletext)\n",
       "    this.root.append(titlebar);\n",
       "    this.header = titletext[0];\n",
       "}\n",
       "\n",
       "\n",
       "\n",
       "mpl.figure.prototype._canvas_extra_style = function(canvas_div) {\n",
       "\n",
       "}\n",
       "\n",
       "\n",
       "mpl.figure.prototype._root_extra_style = function(canvas_div) {\n",
       "\n",
       "}\n",
       "\n",
       "mpl.figure.prototype._init_canvas = function() {\n",
       "    var fig = this;\n",
       "\n",
       "    var canvas_div = $('<div/>');\n",
       "\n",
       "    canvas_div.attr('style', 'position: relative; clear: both; outline: 0');\n",
       "\n",
       "    function canvas_keyboard_event(event) {\n",
       "        return fig.key_event(event, event['data']);\n",
       "    }\n",
       "\n",
       "    canvas_div.keydown('key_press', canvas_keyboard_event);\n",
       "    canvas_div.keyup('key_release', canvas_keyboard_event);\n",
       "    this.canvas_div = canvas_div\n",
       "    this._canvas_extra_style(canvas_div)\n",
       "    this.root.append(canvas_div);\n",
       "\n",
       "    var canvas = $('<canvas/>');\n",
       "    canvas.addClass('mpl-canvas');\n",
       "    canvas.attr('style', \"left: 0; top: 0; z-index: 0; outline: 0\")\n",
       "\n",
       "    this.canvas = canvas[0];\n",
       "    this.context = canvas[0].getContext(\"2d\");\n",
       "\n",
       "    var rubberband = $('<canvas/>');\n",
       "    rubberband.attr('style', \"position: absolute; left: 0; top: 0; z-index: 1;\")\n",
       "\n",
       "    var pass_mouse_events = true;\n",
       "\n",
       "    canvas_div.resizable({\n",
       "        start: function(event, ui) {\n",
       "            pass_mouse_events = false;\n",
       "        },\n",
       "        resize: function(event, ui) {\n",
       "            fig.request_resize(ui.size.width, ui.size.height);\n",
       "        },\n",
       "        stop: function(event, ui) {\n",
       "            pass_mouse_events = true;\n",
       "            fig.request_resize(ui.size.width, ui.size.height);\n",
       "        },\n",
       "    });\n",
       "\n",
       "    function mouse_event_fn(event) {\n",
       "        if (pass_mouse_events)\n",
       "            return fig.mouse_event(event, event['data']);\n",
       "    }\n",
       "\n",
       "    rubberband.mousedown('button_press', mouse_event_fn);\n",
       "    rubberband.mouseup('button_release', mouse_event_fn);\n",
       "    // Throttle sequential mouse events to 1 every 20ms.\n",
       "    rubberband.mousemove('motion_notify', mouse_event_fn);\n",
       "\n",
       "    rubberband.mouseenter('figure_enter', mouse_event_fn);\n",
       "    rubberband.mouseleave('figure_leave', mouse_event_fn);\n",
       "\n",
       "    canvas_div.on(\"wheel\", function (event) {\n",
       "        event = event.originalEvent;\n",
       "        event['data'] = 'scroll'\n",
       "        if (event.deltaY < 0) {\n",
       "            event.step = 1;\n",
       "        } else {\n",
       "            event.step = -1;\n",
       "        }\n",
       "        mouse_event_fn(event);\n",
       "    });\n",
       "\n",
       "    canvas_div.append(canvas);\n",
       "    canvas_div.append(rubberband);\n",
       "\n",
       "    this.rubberband = rubberband;\n",
       "    this.rubberband_canvas = rubberband[0];\n",
       "    this.rubberband_context = rubberband[0].getContext(\"2d\");\n",
       "    this.rubberband_context.strokeStyle = \"#000000\";\n",
       "\n",
       "    this._resize_canvas = function(width, height) {\n",
       "        // Keep the size of the canvas, canvas container, and rubber band\n",
       "        // canvas in synch.\n",
       "        canvas_div.css('width', width)\n",
       "        canvas_div.css('height', height)\n",
       "\n",
       "        canvas.attr('width', width);\n",
       "        canvas.attr('height', height);\n",
       "\n",
       "        rubberband.attr('width', width);\n",
       "        rubberband.attr('height', height);\n",
       "    }\n",
       "\n",
       "    // Set the figure to an initial 600x600px, this will subsequently be updated\n",
       "    // upon first draw.\n",
       "    this._resize_canvas(600, 600);\n",
       "\n",
       "    // Disable right mouse context menu.\n",
       "    $(this.rubberband_canvas).bind(\"contextmenu\",function(e){\n",
       "        return false;\n",
       "    });\n",
       "\n",
       "    function set_focus () {\n",
       "        canvas.focus();\n",
       "        canvas_div.focus();\n",
       "    }\n",
       "\n",
       "    window.setTimeout(set_focus, 100);\n",
       "}\n",
       "\n",
       "mpl.figure.prototype._init_toolbar = function() {\n",
       "    var fig = this;\n",
       "\n",
       "    var nav_element = $('<div/>')\n",
       "    nav_element.attr('style', 'width: 100%');\n",
       "    this.root.append(nav_element);\n",
       "\n",
       "    // Define a callback function for later on.\n",
       "    function toolbar_event(event) {\n",
       "        return fig.toolbar_button_onclick(event['data']);\n",
       "    }\n",
       "    function toolbar_mouse_event(event) {\n",
       "        return fig.toolbar_button_onmouseover(event['data']);\n",
       "    }\n",
       "\n",
       "    for(var toolbar_ind in mpl.toolbar_items) {\n",
       "        var name = mpl.toolbar_items[toolbar_ind][0];\n",
       "        var tooltip = mpl.toolbar_items[toolbar_ind][1];\n",
       "        var image = mpl.toolbar_items[toolbar_ind][2];\n",
       "        var method_name = mpl.toolbar_items[toolbar_ind][3];\n",
       "\n",
       "        if (!name) {\n",
       "            // put a spacer in here.\n",
       "            continue;\n",
       "        }\n",
       "        var button = $('<button/>');\n",
       "        button.addClass('ui-button ui-widget ui-state-default ui-corner-all ' +\n",
       "                        'ui-button-icon-only');\n",
       "        button.attr('role', 'button');\n",
       "        button.attr('aria-disabled', 'false');\n",
       "        button.click(method_name, toolbar_event);\n",
       "        button.mouseover(tooltip, toolbar_mouse_event);\n",
       "\n",
       "        var icon_img = $('<span/>');\n",
       "        icon_img.addClass('ui-button-icon-primary ui-icon');\n",
       "        icon_img.addClass(image);\n",
       "        icon_img.addClass('ui-corner-all');\n",
       "\n",
       "        var tooltip_span = $('<span/>');\n",
       "        tooltip_span.addClass('ui-button-text');\n",
       "        tooltip_span.html(tooltip);\n",
       "\n",
       "        button.append(icon_img);\n",
       "        button.append(tooltip_span);\n",
       "\n",
       "        nav_element.append(button);\n",
       "    }\n",
       "\n",
       "    var fmt_picker_span = $('<span/>');\n",
       "\n",
       "    var fmt_picker = $('<select/>');\n",
       "    fmt_picker.addClass('mpl-toolbar-option ui-widget ui-widget-content');\n",
       "    fmt_picker_span.append(fmt_picker);\n",
       "    nav_element.append(fmt_picker_span);\n",
       "    this.format_dropdown = fmt_picker[0];\n",
       "\n",
       "    for (var ind in mpl.extensions) {\n",
       "        var fmt = mpl.extensions[ind];\n",
       "        var option = $(\n",
       "            '<option/>', {selected: fmt === mpl.default_extension}).html(fmt);\n",
       "        fmt_picker.append(option)\n",
       "    }\n",
       "\n",
       "    // Add hover states to the ui-buttons\n",
       "    $( \".ui-button\" ).hover(\n",
       "        function() { $(this).addClass(\"ui-state-hover\");},\n",
       "        function() { $(this).removeClass(\"ui-state-hover\");}\n",
       "    );\n",
       "\n",
       "    var status_bar = $('<span class=\"mpl-message\"/>');\n",
       "    nav_element.append(status_bar);\n",
       "    this.message = status_bar[0];\n",
       "}\n",
       "\n",
       "mpl.figure.prototype.request_resize = function(x_pixels, y_pixels) {\n",
       "    // Request matplotlib to resize the figure. Matplotlib will then trigger a resize in the client,\n",
       "    // which will in turn request a refresh of the image.\n",
       "    this.send_message('resize', {'width': x_pixels, 'height': y_pixels});\n",
       "}\n",
       "\n",
       "mpl.figure.prototype.send_message = function(type, properties) {\n",
       "    properties['type'] = type;\n",
       "    properties['figure_id'] = this.id;\n",
       "    this.ws.send(JSON.stringify(properties));\n",
       "}\n",
       "\n",
       "mpl.figure.prototype.send_draw_message = function() {\n",
       "    if (!this.waiting) {\n",
       "        this.waiting = true;\n",
       "        this.ws.send(JSON.stringify({type: \"draw\", figure_id: this.id}));\n",
       "    }\n",
       "}\n",
       "\n",
       "\n",
       "mpl.figure.prototype.handle_save = function(fig, msg) {\n",
       "    var format_dropdown = fig.format_dropdown;\n",
       "    var format = format_dropdown.options[format_dropdown.selectedIndex].value;\n",
       "    fig.ondownload(fig, format);\n",
       "}\n",
       "\n",
       "\n",
       "mpl.figure.prototype.handle_resize = function(fig, msg) {\n",
       "    var size = msg['size'];\n",
       "    if (size[0] != fig.canvas.width || size[1] != fig.canvas.height) {\n",
       "        fig._resize_canvas(size[0], size[1]);\n",
       "        fig.send_message(\"refresh\", {});\n",
       "    };\n",
       "}\n",
       "\n",
       "mpl.figure.prototype.handle_rubberband = function(fig, msg) {\n",
       "    var x0 = msg['x0'];\n",
       "    var y0 = fig.canvas.height - msg['y0'];\n",
       "    var x1 = msg['x1'];\n",
       "    var y1 = fig.canvas.height - msg['y1'];\n",
       "    x0 = Math.floor(x0) + 0.5;\n",
       "    y0 = Math.floor(y0) + 0.5;\n",
       "    x1 = Math.floor(x1) + 0.5;\n",
       "    y1 = Math.floor(y1) + 0.5;\n",
       "    var min_x = Math.min(x0, x1);\n",
       "    var min_y = Math.min(y0, y1);\n",
       "    var width = Math.abs(x1 - x0);\n",
       "    var height = Math.abs(y1 - y0);\n",
       "\n",
       "    fig.rubberband_context.clearRect(\n",
       "        0, 0, fig.canvas.width, fig.canvas.height);\n",
       "\n",
       "    fig.rubberband_context.strokeRect(min_x, min_y, width, height);\n",
       "}\n",
       "\n",
       "mpl.figure.prototype.handle_figure_label = function(fig, msg) {\n",
       "    // Updates the figure title.\n",
       "    fig.header.textContent = msg['label'];\n",
       "}\n",
       "\n",
       "mpl.figure.prototype.handle_cursor = function(fig, msg) {\n",
       "    var cursor = msg['cursor'];\n",
       "    switch(cursor)\n",
       "    {\n",
       "    case 0:\n",
       "        cursor = 'pointer';\n",
       "        break;\n",
       "    case 1:\n",
       "        cursor = 'default';\n",
       "        break;\n",
       "    case 2:\n",
       "        cursor = 'crosshair';\n",
       "        break;\n",
       "    case 3:\n",
       "        cursor = 'move';\n",
       "        break;\n",
       "    }\n",
       "    fig.rubberband_canvas.style.cursor = cursor;\n",
       "}\n",
       "\n",
       "mpl.figure.prototype.handle_message = function(fig, msg) {\n",
       "    fig.message.textContent = msg['message'];\n",
       "}\n",
       "\n",
       "mpl.figure.prototype.handle_draw = function(fig, msg) {\n",
       "    // Request the server to send over a new figure.\n",
       "    fig.send_draw_message();\n",
       "}\n",
       "\n",
       "mpl.figure.prototype.handle_image_mode = function(fig, msg) {\n",
       "    fig.image_mode = msg['mode'];\n",
       "}\n",
       "\n",
       "mpl.figure.prototype.updated_canvas_event = function() {\n",
       "    // Called whenever the canvas gets updated.\n",
       "    this.send_message(\"ack\", {});\n",
       "}\n",
       "\n",
       "// A function to construct a web socket function for onmessage handling.\n",
       "// Called in the figure constructor.\n",
       "mpl.figure.prototype._make_on_message_function = function(fig) {\n",
       "    return function socket_on_message(evt) {\n",
       "        if (evt.data instanceof Blob) {\n",
       "            /* FIXME: We get \"Resource interpreted as Image but\n",
       "             * transferred with MIME type text/plain:\" errors on\n",
       "             * Chrome.  But how to set the MIME type?  It doesn't seem\n",
       "             * to be part of the websocket stream */\n",
       "            evt.data.type = \"image/png\";\n",
       "\n",
       "            /* Free the memory for the previous frames */\n",
       "            if (fig.imageObj.src) {\n",
       "                (window.URL || window.webkitURL).revokeObjectURL(\n",
       "                    fig.imageObj.src);\n",
       "            }\n",
       "\n",
       "            fig.imageObj.src = (window.URL || window.webkitURL).createObjectURL(\n",
       "                evt.data);\n",
       "            fig.updated_canvas_event();\n",
       "            fig.waiting = false;\n",
       "            return;\n",
       "        }\n",
       "        else if (typeof evt.data === 'string' && evt.data.slice(0, 21) == \"data:image/png;base64\") {\n",
       "            fig.imageObj.src = evt.data;\n",
       "            fig.updated_canvas_event();\n",
       "            fig.waiting = false;\n",
       "            return;\n",
       "        }\n",
       "\n",
       "        var msg = JSON.parse(evt.data);\n",
       "        var msg_type = msg['type'];\n",
       "\n",
       "        // Call the  \"handle_{type}\" callback, which takes\n",
       "        // the figure and JSON message as its only arguments.\n",
       "        try {\n",
       "            var callback = fig[\"handle_\" + msg_type];\n",
       "        } catch (e) {\n",
       "            console.log(\"No handler for the '\" + msg_type + \"' message type: \", msg);\n",
       "            return;\n",
       "        }\n",
       "\n",
       "        if (callback) {\n",
       "            try {\n",
       "                // console.log(\"Handling '\" + msg_type + \"' message: \", msg);\n",
       "                callback(fig, msg);\n",
       "            } catch (e) {\n",
       "                console.log(\"Exception inside the 'handler_\" + msg_type + \"' callback:\", e, e.stack, msg);\n",
       "            }\n",
       "        }\n",
       "    };\n",
       "}\n",
       "\n",
       "// from http://stackoverflow.com/questions/1114465/getting-mouse-location-in-canvas\n",
       "mpl.findpos = function(e) {\n",
       "    //this section is from http://www.quirksmode.org/js/events_properties.html\n",
       "    var targ;\n",
       "    if (!e)\n",
       "        e = window.event;\n",
       "    if (e.target)\n",
       "        targ = e.target;\n",
       "    else if (e.srcElement)\n",
       "        targ = e.srcElement;\n",
       "    if (targ.nodeType == 3) // defeat Safari bug\n",
       "        targ = targ.parentNode;\n",
       "\n",
       "    // jQuery normalizes the pageX and pageY\n",
       "    // pageX,Y are the mouse positions relative to the document\n",
       "    // offset() returns the position of the element relative to the document\n",
       "    var x = e.pageX - $(targ).offset().left;\n",
       "    var y = e.pageY - $(targ).offset().top;\n",
       "\n",
       "    return {\"x\": x, \"y\": y};\n",
       "};\n",
       "\n",
       "/*\n",
       " * return a copy of an object with only non-object keys\n",
       " * we need this to avoid circular references\n",
       " * http://stackoverflow.com/a/24161582/3208463\n",
       " */\n",
       "function simpleKeys (original) {\n",
       "  return Object.keys(original).reduce(function (obj, key) {\n",
       "    if (typeof original[key] !== 'object')\n",
       "        obj[key] = original[key]\n",
       "    return obj;\n",
       "  }, {});\n",
       "}\n",
       "\n",
       "mpl.figure.prototype.mouse_event = function(event, name) {\n",
       "    var canvas_pos = mpl.findpos(event)\n",
       "\n",
       "    if (name === 'button_press')\n",
       "    {\n",
       "        this.canvas.focus();\n",
       "        this.canvas_div.focus();\n",
       "    }\n",
       "\n",
       "    var x = canvas_pos.x;\n",
       "    var y = canvas_pos.y;\n",
       "\n",
       "    this.send_message(name, {x: x, y: y, button: event.button,\n",
       "                             step: event.step,\n",
       "                             guiEvent: simpleKeys(event)});\n",
       "\n",
       "    /* This prevents the web browser from automatically changing to\n",
       "     * the text insertion cursor when the button is pressed.  We want\n",
       "     * to control all of the cursor setting manually through the\n",
       "     * 'cursor' event from matplotlib */\n",
       "    event.preventDefault();\n",
       "    return false;\n",
       "}\n",
       "\n",
       "mpl.figure.prototype._key_event_extra = function(event, name) {\n",
       "    // Handle any extra behaviour associated with a key event\n",
       "}\n",
       "\n",
       "mpl.figure.prototype.key_event = function(event, name) {\n",
       "\n",
       "    // Prevent repeat events\n",
       "    if (name == 'key_press')\n",
       "    {\n",
       "        if (event.which === this._key)\n",
       "            return;\n",
       "        else\n",
       "            this._key = event.which;\n",
       "    }\n",
       "    if (name == 'key_release')\n",
       "        this._key = null;\n",
       "\n",
       "    var value = '';\n",
       "    if (event.ctrlKey && event.which != 17)\n",
       "        value += \"ctrl+\";\n",
       "    if (event.altKey && event.which != 18)\n",
       "        value += \"alt+\";\n",
       "    if (event.shiftKey && event.which != 16)\n",
       "        value += \"shift+\";\n",
       "\n",
       "    value += 'k';\n",
       "    value += event.which.toString();\n",
       "\n",
       "    this._key_event_extra(event, name);\n",
       "\n",
       "    this.send_message(name, {key: value,\n",
       "                             guiEvent: simpleKeys(event)});\n",
       "    return false;\n",
       "}\n",
       "\n",
       "mpl.figure.prototype.toolbar_button_onclick = function(name) {\n",
       "    if (name == 'download') {\n",
       "        this.handle_save(this, null);\n",
       "    } else {\n",
       "        this.send_message(\"toolbar_button\", {name: name});\n",
       "    }\n",
       "};\n",
       "\n",
       "mpl.figure.prototype.toolbar_button_onmouseover = function(tooltip) {\n",
       "    this.message.textContent = tooltip;\n",
       "};\n",
       "mpl.toolbar_items = [[\"Home\", \"Reset original view\", \"fa fa-home icon-home\", \"home\"], [\"Back\", \"Back to  previous view\", \"fa fa-arrow-left icon-arrow-left\", \"back\"], [\"Forward\", \"Forward to next view\", \"fa fa-arrow-right icon-arrow-right\", \"forward\"], [\"\", \"\", \"\", \"\"], [\"Pan\", \"Pan axes with left mouse, zoom with right\", \"fa fa-arrows icon-move\", \"pan\"], [\"Zoom\", \"Zoom to rectangle\", \"fa fa-square-o icon-check-empty\", \"zoom\"], [\"\", \"\", \"\", \"\"], [\"Download\", \"Download plot\", \"fa fa-floppy-o icon-save\", \"download\"]];\n",
       "\n",
       "mpl.extensions = [\"eps\", \"jpeg\", \"pdf\", \"png\", \"ps\", \"raw\", \"svg\", \"tif\"];\n",
       "\n",
       "mpl.default_extension = \"png\";var comm_websocket_adapter = function(comm) {\n",
       "    // Create a \"websocket\"-like object which calls the given IPython comm\n",
       "    // object with the appropriate methods. Currently this is a non binary\n",
       "    // socket, so there is still some room for performance tuning.\n",
       "    var ws = {};\n",
       "\n",
       "    ws.close = function() {\n",
       "        comm.close()\n",
       "    };\n",
       "    ws.send = function(m) {\n",
       "        //console.log('sending', m);\n",
       "        comm.send(m);\n",
       "    };\n",
       "    // Register the callback with on_msg.\n",
       "    comm.on_msg(function(msg) {\n",
       "        //console.log('receiving', msg['content']['data'], msg);\n",
       "        // Pass the mpl event to the overriden (by mpl) onmessage function.\n",
       "        ws.onmessage(msg['content']['data'])\n",
       "    });\n",
       "    return ws;\n",
       "}\n",
       "\n",
       "mpl.mpl_figure_comm = function(comm, msg) {\n",
       "    // This is the function which gets called when the mpl process\n",
       "    // starts-up an IPython Comm through the \"matplotlib\" channel.\n",
       "\n",
       "    var id = msg.content.data.id;\n",
       "    // Get hold of the div created by the display call when the Comm\n",
       "    // socket was opened in Python.\n",
       "    var element = $(\"#\" + id);\n",
       "    var ws_proxy = comm_websocket_adapter(comm)\n",
       "\n",
       "    function ondownload(figure, format) {\n",
       "        window.open(figure.imageObj.src);\n",
       "    }\n",
       "\n",
       "    var fig = new mpl.figure(id, ws_proxy,\n",
       "                           ondownload,\n",
       "                           element.get(0));\n",
       "\n",
       "    // Call onopen now - mpl needs it, as it is assuming we've passed it a real\n",
       "    // web socket which is closed, not our websocket->open comm proxy.\n",
       "    ws_proxy.onopen();\n",
       "\n",
       "    fig.parent_element = element.get(0);\n",
       "    fig.cell_info = mpl.find_output_cell(\"<div id='\" + id + \"'></div>\");\n",
       "    if (!fig.cell_info) {\n",
       "        console.error(\"Failed to find cell for figure\", id, fig);\n",
       "        return;\n",
       "    }\n",
       "\n",
       "    var output_index = fig.cell_info[2]\n",
       "    var cell = fig.cell_info[0];\n",
       "\n",
       "};\n",
       "\n",
       "mpl.figure.prototype.handle_close = function(fig, msg) {\n",
       "    fig.root.unbind('remove')\n",
       "\n",
       "    // Update the output cell to use the data from the current canvas.\n",
       "    fig.push_to_output();\n",
       "    var dataURL = fig.canvas.toDataURL();\n",
       "    // Re-enable the keyboard manager in IPython - without this line, in FF,\n",
       "    // the notebook keyboard shortcuts fail.\n",
       "    IPython.keyboard_manager.enable()\n",
       "    $(fig.parent_element).html('<img src=\"' + dataURL + '\">');\n",
       "    fig.close_ws(fig, msg);\n",
       "}\n",
       "\n",
       "mpl.figure.prototype.close_ws = function(fig, msg){\n",
       "    fig.send_message('closing', msg);\n",
       "    // fig.ws.close()\n",
       "}\n",
       "\n",
       "mpl.figure.prototype.push_to_output = function(remove_interactive) {\n",
       "    // Turn the data on the canvas into data in the output cell.\n",
       "    var dataURL = this.canvas.toDataURL();\n",
       "    this.cell_info[1]['text/html'] = '<img src=\"' + dataURL + '\">';\n",
       "}\n",
       "\n",
       "mpl.figure.prototype.updated_canvas_event = function() {\n",
       "    // Tell IPython that the notebook contents must change.\n",
       "    IPython.notebook.set_dirty(true);\n",
       "    this.send_message(\"ack\", {});\n",
       "    var fig = this;\n",
       "    // Wait a second, then push the new image to the DOM so\n",
       "    // that it is saved nicely (might be nice to debounce this).\n",
       "    setTimeout(function () { fig.push_to_output() }, 1000);\n",
       "}\n",
       "\n",
       "mpl.figure.prototype._init_toolbar = function() {\n",
       "    var fig = this;\n",
       "\n",
       "    var nav_element = $('<div/>')\n",
       "    nav_element.attr('style', 'width: 100%');\n",
       "    this.root.append(nav_element);\n",
       "\n",
       "    // Define a callback function for later on.\n",
       "    function toolbar_event(event) {\n",
       "        return fig.toolbar_button_onclick(event['data']);\n",
       "    }\n",
       "    function toolbar_mouse_event(event) {\n",
       "        return fig.toolbar_button_onmouseover(event['data']);\n",
       "    }\n",
       "\n",
       "    for(var toolbar_ind in mpl.toolbar_items){\n",
       "        var name = mpl.toolbar_items[toolbar_ind][0];\n",
       "        var tooltip = mpl.toolbar_items[toolbar_ind][1];\n",
       "        var image = mpl.toolbar_items[toolbar_ind][2];\n",
       "        var method_name = mpl.toolbar_items[toolbar_ind][3];\n",
       "\n",
       "        if (!name) { continue; };\n",
       "\n",
       "        var button = $('<button class=\"btn btn-default\" href=\"#\" title=\"' + name + '\"><i class=\"fa ' + image + ' fa-lg\"></i></button>');\n",
       "        button.click(method_name, toolbar_event);\n",
       "        button.mouseover(tooltip, toolbar_mouse_event);\n",
       "        nav_element.append(button);\n",
       "    }\n",
       "\n",
       "    // Add the status bar.\n",
       "    var status_bar = $('<span class=\"mpl-message\" style=\"text-align:right; float: right;\"/>');\n",
       "    nav_element.append(status_bar);\n",
       "    this.message = status_bar[0];\n",
       "\n",
       "    // Add the close button to the window.\n",
       "    var buttongrp = $('<div class=\"btn-group inline pull-right\"></div>');\n",
       "    var button = $('<button class=\"btn btn-mini btn-primary\" href=\"#\" title=\"Stop Interaction\"><i class=\"fa fa-power-off icon-remove icon-large\"></i></button>');\n",
       "    button.click(function (evt) { fig.handle_close(fig, {}); } );\n",
       "    button.mouseover('Stop Interaction', toolbar_mouse_event);\n",
       "    buttongrp.append(button);\n",
       "    var titlebar = this.root.find($('.ui-dialog-titlebar'));\n",
       "    titlebar.prepend(buttongrp);\n",
       "}\n",
       "\n",
       "mpl.figure.prototype._root_extra_style = function(el){\n",
       "    var fig = this\n",
       "    el.on(\"remove\", function(){\n",
       "\tfig.close_ws(fig, {});\n",
       "    });\n",
       "}\n",
       "\n",
       "mpl.figure.prototype._canvas_extra_style = function(el){\n",
       "    // this is important to make the div 'focusable\n",
       "    el.attr('tabindex', 0)\n",
       "    // reach out to IPython and tell the keyboard manager to turn it's self\n",
       "    // off when our div gets focus\n",
       "\n",
       "    // location in version 3\n",
       "    if (IPython.notebook.keyboard_manager) {\n",
       "        IPython.notebook.keyboard_manager.register_events(el);\n",
       "    }\n",
       "    else {\n",
       "        // location in version 2\n",
       "        IPython.keyboard_manager.register_events(el);\n",
       "    }\n",
       "\n",
       "}\n",
       "\n",
       "mpl.figure.prototype._key_event_extra = function(event, name) {\n",
       "    var manager = IPython.notebook.keyboard_manager;\n",
       "    if (!manager)\n",
       "        manager = IPython.keyboard_manager;\n",
       "\n",
       "    // Check for shift+enter\n",
       "    if (event.shiftKey && event.which == 13) {\n",
       "        this.canvas_div.blur();\n",
       "        event.shiftKey = false;\n",
       "        // Send a \"J\" for go to next cell\n",
       "        event.which = 74;\n",
       "        event.keyCode = 74;\n",
       "        manager.command_mode();\n",
       "        manager.handle_keydown(event);\n",
       "    }\n",
       "}\n",
       "\n",
       "mpl.figure.prototype.handle_save = function(fig, msg) {\n",
       "    fig.ondownload(fig, null);\n",
       "}\n",
       "\n",
       "\n",
       "mpl.find_output_cell = function(html_output) {\n",
       "    // Return the cell and output element which can be found *uniquely* in the notebook.\n",
       "    // Note - this is a bit hacky, but it is done because the \"notebook_saving.Notebook\"\n",
       "    // IPython event is triggered only after the cells have been serialised, which for\n",
       "    // our purposes (turning an active figure into a static one), is too late.\n",
       "    var cells = IPython.notebook.get_cells();\n",
       "    var ncells = cells.length;\n",
       "    for (var i=0; i<ncells; i++) {\n",
       "        var cell = cells[i];\n",
       "        if (cell.cell_type === 'code'){\n",
       "            for (var j=0; j<cell.output_area.outputs.length; j++) {\n",
       "                var data = cell.output_area.outputs[j];\n",
       "                if (data.data) {\n",
       "                    // IPython >= 3 moved mimebundle to data attribute of output\n",
       "                    data = data.data;\n",
       "                }\n",
       "                if (data['text/html'] == html_output) {\n",
       "                    return [cell, data, j];\n",
       "                }\n",
       "            }\n",
       "        }\n",
       "    }\n",
       "}\n",
       "\n",
       "// Register the function which deals with the matplotlib target/channel.\n",
       "// The kernel may be null if the page has been refreshed.\n",
       "if (IPython.notebook.kernel != null) {\n",
       "    IPython.notebook.kernel.comm_manager.register_target('matplotlib', mpl.mpl_figure_comm);\n",
       "}\n"
      ],
      "text/plain": [
       "<IPython.core.display.Javascript object>"
      ]
     },
     "metadata": {},
     "output_type": "display_data"
    },
    {
     "data": {
      "text/html": [
       "<img src=\"data:image/png;base64,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\">"
      ],
      "text/plain": [
       "<IPython.core.display.HTML object>"
      ]
     },
     "metadata": {},
     "output_type": "display_data"
    }
   ],
   "source": [
    "fig = plt.figure() # %matplotlib nbagg 했을때만 가능."
   ]
  },
  {
   "cell_type": "code",
   "execution_count": 27,
   "metadata": {
    "collapsed": true
   },
   "outputs": [],
   "source": [
    "ax1 = fig.add_subplot(2,2,1)  # 2x2 의 첫번째 \n",
    "ax2 = fig.add_subplot(2,2,2)  # 2x2 의 첫번째 \n",
    "ax3 = fig.add_subplot(2,2,3)  # 2x2 의 세번째 "
   ]
  },
  {
   "cell_type": "code",
   "execution_count": 28,
   "metadata": {
    "collapsed": false
   },
   "outputs": [
    {
     "data": {
      "text/plain": [
       "[<matplotlib.lines.Line2D at 0xbc2ed10>]"
      ]
     },
     "execution_count": 28,
     "metadata": {},
     "output_type": "execute_result"
    }
   ],
   "source": [
    "plt.plot(np.random.randn(50).cumsum(),'k--')"
   ]
  },
  {
   "cell_type": "code",
   "execution_count": 29,
   "metadata": {
    "collapsed": false
   },
   "outputs": [
    {
     "data": {
      "text/plain": [
       "<matplotlib.collections.PathCollection at 0xbf26550>"
      ]
     },
     "execution_count": 29,
     "metadata": {},
     "output_type": "execute_result"
    }
   ],
   "source": [
    "_ = ax1.hist(np.random.randn(100), bins=20, color='k', alpha=0.3)\n",
    "ax2.scatter(np.arange(30), np.arange(30) + 3 * np.random.randn(30))"
   ]
  },
  {
   "cell_type": "code",
   "execution_count": 32,
   "metadata": {
    "collapsed": false
   },
   "outputs": [
    {
     "data": {
      "text/plain": [
       "array([[<matplotlib.axes._subplots.AxesSubplot object at 0x0BF44070>,\n",
       "        <matplotlib.axes._subplots.AxesSubplot object at 0x0BF778D0>,\n",
       "        <matplotlib.axes._subplots.AxesSubplot object at 0x0BFA2DF0>],\n",
       "       [<matplotlib.axes._subplots.AxesSubplot object at 0x0BFC7550>,\n",
       "        <matplotlib.axes._subplots.AxesSubplot object at 0x0BFF19F0>,\n",
       "        <matplotlib.axes._subplots.AxesSubplot object at 0x0C011E70>]], dtype=object)"
      ]
     },
     "execution_count": 32,
     "metadata": {},
     "output_type": "execute_result"
    },
    {
     "data": {
      "image/png": "[encoded data removed]",
      "text/plain": [
       "<matplotlib.figure.Figure at 0xbf26450>"
      ]
     },
     "metadata": {},
     "output_type": "display_data"
    }
   ],
   "source": [
    "fig,axes = plt.subplots(2,3)\n",
    "axes"
   ]
  },
  {
   "cell_type": "markdown",
   "metadata": {},
   "source": [
    "## Adjusting the spacing around subplots"
   ]
  },
  {
   "cell_type": "code",
   "execution_count": 33,
   "metadata": {
    "collapsed": false
   },
   "outputs": [
    {
     "data": {
      "text/plain": [
       "<matplotlib.figure.Figure at 0xc001c30>"
      ]
     },
     "metadata": {},
     "output_type": "display_data"
    }
   ],
   "source": [
    "plt.subplots_adjust(left=None, bottom=None, right=None, top=None,\n",
    "                wspace=None, hspace=None)"
   ]
  },
  {
   "cell_type": "code",
   "execution_count": 36,
   "metadata": {
    "collapsed": false
   },
   "outputs": [
    {
     "data": {
      "image/png": "[encoded data removed]",
      "text/plain": [
       "<matplotlib.figure.Figure at 0xc1fd910>"
      ]
     },
     "metadata": {},
     "output_type": "display_data"
    }
   ],
   "source": [
    "fig, axes = plt.subplots(2, 2, sharex=True, sharey=True)\n",
    "for i in range(2):\n",
    "    for j in range(2):\n",
    "        axes[i, j].hist(randn(500), bins=50, color='k', alpha=0.5)\n",
    "plt.subplots_adjust(wspace=0, hspace=0)"
   ]
  },
  {
   "cell_type": "markdown",
   "metadata": {},
   "source": [
    "## Colors, markers, and line styles"
   ]
  },
  {
   "cell_type": "code",
   "execution_count": 38,
   "metadata": {
    "collapsed": false
   },
   "outputs": [
    {
     "data": {
      "text/plain": [
       "<matplotlib.figure.Figure at 0xc4a80f0>"
      ]
     },
     "execution_count": 38,
     "metadata": {},
     "output_type": "execute_result"
    },
    {
     "data": {
      "text/plain": [
       "<matplotlib.figure.Figure at 0xc4a80f0>"
      ]
     },
     "metadata": {},
     "output_type": "display_data"
    }
   ],
   "source": [
    "plt.figure()"
   ]
  },
  {
   "cell_type": "code",
   "execution_count": 39,
   "metadata": {
    "collapsed": false
   },
   "outputs": [
    {
     "data": {
      "text/plain": [
       "[<matplotlib.lines.Line2D at 0xc057c10>]"
      ]
     },
     "execution_count": 39,
     "metadata": {},
     "output_type": "execute_result"
    },
    {
     "data": {
      "image/png": "[encoded data removed]",
      "text/plain": [
       "<matplotlib.figure.Figure at 0xc4dd1f0>"
      ]
     },
     "metadata": {},
     "output_type": "display_data"
    }
   ],
   "source": [
    "plt.plot(randn(30).cumsum(),'ko--') # color =k, linestyle='dashed, marker='o'"
   ]
  },
  {
   "cell_type": "code",
   "execution_count": 40,
   "metadata": {
    "collapsed": false
   },
   "outputs": [
    {
     "data": {
      "text/plain": [
       "array([ 0.7791903 ,  2.59842424,  1.45972671,  1.29432168,  1.4395537 ,\n",
       "        0.94030135, -0.2535447 , -0.75391679, -1.96836689,  1.03287838,\n",
       "        0.44948903, -1.22174034, -1.67420358, -1.21928843, -0.33616982,\n",
       "        0.15306564,  0.52899042,  0.70462382,  0.89478606,  1.44900966,\n",
       "        1.71815645,  2.98974216,  2.3557449 ,  3.42867329,  5.88896634,\n",
       "        5.96098771,  6.34534455,  6.88028084,  8.4325058 ,  8.26155238])"
      ]
     },
     "execution_count": 40,
     "metadata": {},
     "output_type": "execute_result"
    }
   ],
   "source": [
    "data = randn(30).cumsum()\n",
    "data"
   ]
  },
  {
   "cell_type": "code",
   "execution_count": 48,
   "metadata": {
    "collapsed": false
   },
   "outputs": [
    {
     "data": {
      "text/plain": [
       "<matplotlib.legend.Legend at 0xc12d4f0>"
      ]
     },
     "execution_count": 48,
     "metadata": {},
     "output_type": "execute_result"
    },
    {
     "data": {
      "image/png": "[encoded data removed]",
      "text/plain": [
       "<matplotlib.figure.Figure at 0xc12dd90>"
      ]
     },
     "metadata": {},
     "output_type": "display_data"
    }
   ],
   "source": [
    "plt.plot(data,'k--',label=\"Default\")\n",
    "plt.plot(data,'k-',drawstyle='steps-post',label=\"steps-post\")\n",
    "plt.legend(loc='best')"
   ]
  },
  {
   "cell_type": "markdown",
   "metadata": {},
   "source": [
    "## Ticks, Labels, and Legends"
   ]
  },
  {
   "cell_type": "markdown",
   "metadata": {},
   "source": [
    "### Setting the title, axis labels, ticks, and ticklabels"
   ]
  },
  {
   "cell_type": "code",
   "execution_count": 47,
   "metadata": {
    "collapsed": false
   },
   "outputs": [
    {
     "data": {
      "text/plain": [
       "<matplotlib.text.Text at 0xc1c24b0>"
      ]
     },
     "execution_count": 47,
     "metadata": {},
     "output_type": "execute_result"
    },
    {
     "data": {
      "image/png": "[encoded data removed]",
      "text/plain": [
       "<matplotlib.figure.Figure at 0xc3867b0>"
      ]
     },
     "metadata": {},
     "output_type": "display_data"
    }
   ],
   "source": [
    "fig = plt.figure() \n",
    "ax = fig.add_subplot(1,1,1)\n",
    "ax.plot(randn(1000).cumsum())\n",
    "\n",
    "ticks = ax.set_xticks([0, 250, 500, 750, 1000])\n",
    "labels = ax.set_xticklabels(['one', 'two', 'three', 'four', 'five'],\n",
    "                            rotation=30, fontsize='small')\n",
    "\n",
    "ax.set_title('My first matplotlib plot')\n",
    "ax.set_xlabel('Stages')"
   ]
  },
  {
   "cell_type": "markdown",
   "metadata": {},
   "source": [
    "### Adding Legends "
   ]
  },
  {
   "cell_type": "code",
   "execution_count": 50,
   "metadata": {
    "collapsed": false
   },
   "outputs": [
    {
     "data": {
      "text/plain": [
       "<matplotlib.legend.Legend at 0xc18ba30>"
      ]
     },
     "execution_count": 50,
     "metadata": {},
     "output_type": "execute_result"
    },
    {
     "data": {
      "image/png": "[encoded data removed]",
      "text/plain": [
       "<matplotlib.figure.Figure at 0xc1accb0>"
      ]
     },
     "metadata": {},
     "output_type": "display_data"
    }
   ],
   "source": [
    "fig = plt.figure(); ax = fig.add_subplot(1, 1, 1)\n",
    "ax.plot(randn(1000).cumsum(), 'k', label='one')\n",
    "ax.plot(randn(1000).cumsum(), 'r--', label='two')\n",
    "ax.plot(randn(1000).cumsum(), 'g.', label='three')\n",
    "\n",
    "ax.legend(loc='best')"
   ]
  },
  {
   "cell_type": "markdown",
   "metadata": {},
   "source": [
    "### Annotations and Drawing on a Subplot"
   ]
  },
  {
   "cell_type": "code",
   "execution_count": null,
   "metadata": {
    "collapsed": true
   },
   "outputs": [],
   "source": []
  }
 ],
 "metadata": {
  "kernelspec": {
   "display_name": "Python [py35]",
   "language": "python",
   "name": "Python [py35]"
  },
  "language_info": {
   "codemirror_mode": {
    "name": "ipython",
    "version": 3
   },
   "file_extension": ".py",
   "mimetype": "text/x-python",
   "name": "python",
   "nbconvert_exporter": "python",
   "pygments_lexer": "ipython3",
   "version": "3.5.2"
  }
 },
 "nbformat": 4,
 "nbformat_minor": 0
}
