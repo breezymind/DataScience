{
 "cells": [
  {
   "cell_type": "markdown",
   "metadata": {},
   "source": [
    "# 10 Minutes to Pandas \n",
    " - Python 유재명 교수 추천 "
   ]
  },
  {
   "cell_type": "code",
   "execution_count": 1,
   "metadata": {
    "collapsed": true
   },
   "outputs": [],
   "source": [
    "import pandas as pd\n",
    "import numpy as np \n",
    "import matplotlib.pyplot as plt"
   ]
  },
  {
   "cell_type": "markdown",
   "metadata": {},
   "source": [
    "## Object Creation \n",
    " - 수업시간에 함 "
   ]
  },
  {
   "cell_type": "code",
   "execution_count": 2,
   "metadata": {
    "collapsed": false
   },
   "outputs": [
    {
     "data": {
      "text/plain": [
       "0    1.0\n",
       "1    3.0\n",
       "2    5.0\n",
       "3    NaN\n",
       "4    6.0\n",
       "5    8.0\n",
       "dtype: float64"
      ]
     },
     "execution_count": 2,
     "metadata": {},
     "output_type": "execute_result"
    }
   ],
   "source": [
    "s = pd.Series([1,3,5,np.nan,6,8])\n",
    "s"
   ]
  },
  {
   "cell_type": "code",
   "execution_count": 4,
   "metadata": {
    "collapsed": false
   },
   "outputs": [
    {
     "data": {
      "text/plain": [
       "DatetimeIndex(['2016-10-16', '2016-10-17', '2016-10-18', '2016-10-19',\n",
       "               '2016-10-20', '2016-10-21'],\n",
       "              dtype='datetime64[ns]', freq='D')"
      ]
     },
     "execution_count": 4,
     "metadata": {},
     "output_type": "execute_result"
    }
   ],
   "source": [
    "dates = pd.date_range('20161016', periods=6)\n",
    "dates"
   ]
  },
  {
   "cell_type": "code",
   "execution_count": 6,
   "metadata": {
    "collapsed": false
   },
   "outputs": [
    {
     "data": {
      "text/html": [
       "<div>\n",
       "<table border=\"1\" class=\"dataframe\">\n",
       "  <thead>\n",
       "    <tr style=\"text-align: right;\">\n",
       "      <th></th>\n",
       "      <th>A</th>\n",
       "      <th>B</th>\n",
       "      <th>C</th>\n",
       "      <th>D</th>\n",
       "    </tr>\n",
       "  </thead>\n",
       "  <tbody>\n",
       "    <tr>\n",
       "      <th>2016-10-16</th>\n",
       "      <td>-0.150057</td>\n",
       "      <td>0.547639</td>\n",
       "      <td>-1.173571</td>\n",
       "      <td>0.590580</td>\n",
       "    </tr>\n",
       "    <tr>\n",
       "      <th>2016-10-17</th>\n",
       "      <td>0.003251</td>\n",
       "      <td>0.448788</td>\n",
       "      <td>0.257216</td>\n",
       "      <td>-0.619206</td>\n",
       "    </tr>\n",
       "    <tr>\n",
       "      <th>2016-10-18</th>\n",
       "      <td>0.163257</td>\n",
       "      <td>0.387009</td>\n",
       "      <td>-0.044881</td>\n",
       "      <td>0.738394</td>\n",
       "    </tr>\n",
       "    <tr>\n",
       "      <th>2016-10-19</th>\n",
       "      <td>0.852742</td>\n",
       "      <td>-0.241852</td>\n",
       "      <td>-0.994375</td>\n",
       "      <td>-0.569673</td>\n",
       "    </tr>\n",
       "    <tr>\n",
       "      <th>2016-10-20</th>\n",
       "      <td>-0.401978</td>\n",
       "      <td>0.716301</td>\n",
       "      <td>-1.323909</td>\n",
       "      <td>0.544434</td>\n",
       "    </tr>\n",
       "    <tr>\n",
       "      <th>2016-10-21</th>\n",
       "      <td>-0.458208</td>\n",
       "      <td>-1.325766</td>\n",
       "      <td>0.087917</td>\n",
       "      <td>-0.386803</td>\n",
       "    </tr>\n",
       "  </tbody>\n",
       "</table>\n",
       "</div>"
      ],
      "text/plain": [
       "                   A         B         C         D\n",
       "2016-10-16 -0.150057  0.547639 -1.173571  0.590580\n",
       "2016-10-17  0.003251  0.448788  0.257216 -0.619206\n",
       "2016-10-18  0.163257  0.387009 -0.044881  0.738394\n",
       "2016-10-19  0.852742 -0.241852 -0.994375 -0.569673\n",
       "2016-10-20 -0.401978  0.716301 -1.323909  0.544434\n",
       "2016-10-21 -0.458208 -1.325766  0.087917 -0.386803"
      ]
     },
     "execution_count": 6,
     "metadata": {},
     "output_type": "execute_result"
    }
   ],
   "source": [
    "df = pd.DataFrame(np.random.randn(6,4), index=dates, columns=list('ABCD'))\n",
    "df"
   ]
  },
  {
   "cell_type": "code",
   "execution_count": 8,
   "metadata": {
    "collapsed": false
   },
   "outputs": [
    {
     "data": {
      "text/html": [
       "<div>\n",
       "<table border=\"1\" class=\"dataframe\">\n",
       "  <thead>\n",
       "    <tr style=\"text-align: right;\">\n",
       "      <th></th>\n",
       "      <th>A</th>\n",
       "      <th>B</th>\n",
       "      <th>C</th>\n",
       "      <th>D</th>\n",
       "      <th>E</th>\n",
       "      <th>F</th>\n",
       "    </tr>\n",
       "  </thead>\n",
       "  <tbody>\n",
       "    <tr>\n",
       "      <th>0</th>\n",
       "      <td>1.0</td>\n",
       "      <td>2013-01-02</td>\n",
       "      <td>1.0</td>\n",
       "      <td>3</td>\n",
       "      <td>test</td>\n",
       "      <td>foo</td>\n",
       "    </tr>\n",
       "    <tr>\n",
       "      <th>1</th>\n",
       "      <td>1.0</td>\n",
       "      <td>2013-01-02</td>\n",
       "      <td>1.0</td>\n",
       "      <td>3</td>\n",
       "      <td>train</td>\n",
       "      <td>foo</td>\n",
       "    </tr>\n",
       "    <tr>\n",
       "      <th>2</th>\n",
       "      <td>1.0</td>\n",
       "      <td>2013-01-02</td>\n",
       "      <td>1.0</td>\n",
       "      <td>3</td>\n",
       "      <td>test</td>\n",
       "      <td>foo</td>\n",
       "    </tr>\n",
       "    <tr>\n",
       "      <th>3</th>\n",
       "      <td>1.0</td>\n",
       "      <td>2013-01-02</td>\n",
       "      <td>1.0</td>\n",
       "      <td>3</td>\n",
       "      <td>train</td>\n",
       "      <td>foo</td>\n",
       "    </tr>\n",
       "  </tbody>\n",
       "</table>\n",
       "</div>"
      ],
      "text/plain": [
       "     A          B    C  D      E    F\n",
       "0  1.0 2013-01-02  1.0  3   test  foo\n",
       "1  1.0 2013-01-02  1.0  3  train  foo\n",
       "2  1.0 2013-01-02  1.0  3   test  foo\n",
       "3  1.0 2013-01-02  1.0  3  train  foo"
      ]
     },
     "execution_count": 8,
     "metadata": {},
     "output_type": "execute_result"
    }
   ],
   "source": [
    "df2 = pd.DataFrame({ 'A' : 1.,\n",
    "                    'B' : pd.Timestamp('20130102'),\n",
    "                    'C' : pd.Series(1,index=list(range(4)),dtype='float32'),\n",
    "                    'D' : np.array([3] * 4,dtype='int32'),\n",
    "                    'E' : pd.Categorical([\"test\",\"train\",\"test\",\"train\"]),\n",
    "                    'F' : 'foo' })\n",
    "df2"
   ]
  },
  {
   "cell_type": "code",
   "execution_count": 9,
   "metadata": {
    "collapsed": false
   },
   "outputs": [
    {
     "data": {
      "text/plain": [
       "A           float64\n",
       "B    datetime64[ns]\n",
       "C           float32\n",
       "D             int32\n",
       "E          category\n",
       "F            object\n",
       "dtype: object"
      ]
     },
     "execution_count": 9,
     "metadata": {},
     "output_type": "execute_result"
    }
   ],
   "source": [
    "df2.dtypes"
   ]
  },
  {
   "cell_type": "markdown",
   "metadata": {},
   "source": [
    "# Viewing Data"
   ]
  },
  {
   "cell_type": "code",
   "execution_count": 10,
   "metadata": {
    "collapsed": false
   },
   "outputs": [
    {
     "data": {
      "text/html": [
       "<div>\n",
       "<table border=\"1\" class=\"dataframe\">\n",
       "  <thead>\n",
       "    <tr style=\"text-align: right;\">\n",
       "      <th></th>\n",
       "      <th>A</th>\n",
       "      <th>B</th>\n",
       "      <th>C</th>\n",
       "      <th>D</th>\n",
       "    </tr>\n",
       "  </thead>\n",
       "  <tbody>\n",
       "    <tr>\n",
       "      <th>2016-10-16</th>\n",
       "      <td>-0.150057</td>\n",
       "      <td>0.547639</td>\n",
       "      <td>-1.173571</td>\n",
       "      <td>0.590580</td>\n",
       "    </tr>\n",
       "    <tr>\n",
       "      <th>2016-10-17</th>\n",
       "      <td>0.003251</td>\n",
       "      <td>0.448788</td>\n",
       "      <td>0.257216</td>\n",
       "      <td>-0.619206</td>\n",
       "    </tr>\n",
       "    <tr>\n",
       "      <th>2016-10-18</th>\n",
       "      <td>0.163257</td>\n",
       "      <td>0.387009</td>\n",
       "      <td>-0.044881</td>\n",
       "      <td>0.738394</td>\n",
       "    </tr>\n",
       "    <tr>\n",
       "      <th>2016-10-19</th>\n",
       "      <td>0.852742</td>\n",
       "      <td>-0.241852</td>\n",
       "      <td>-0.994375</td>\n",
       "      <td>-0.569673</td>\n",
       "    </tr>\n",
       "    <tr>\n",
       "      <th>2016-10-20</th>\n",
       "      <td>-0.401978</td>\n",
       "      <td>0.716301</td>\n",
       "      <td>-1.323909</td>\n",
       "      <td>0.544434</td>\n",
       "    </tr>\n",
       "  </tbody>\n",
       "</table>\n",
       "</div>"
      ],
      "text/plain": [
       "                   A         B         C         D\n",
       "2016-10-16 -0.150057  0.547639 -1.173571  0.590580\n",
       "2016-10-17  0.003251  0.448788  0.257216 -0.619206\n",
       "2016-10-18  0.163257  0.387009 -0.044881  0.738394\n",
       "2016-10-19  0.852742 -0.241852 -0.994375 -0.569673\n",
       "2016-10-20 -0.401978  0.716301 -1.323909  0.544434"
      ]
     },
     "execution_count": 10,
     "metadata": {},
     "output_type": "execute_result"
    }
   ],
   "source": [
    "df.head()"
   ]
  },
  {
   "cell_type": "code",
   "execution_count": 11,
   "metadata": {
    "collapsed": false
   },
   "outputs": [
    {
     "data": {
      "text/html": [
       "<div>\n",
       "<table border=\"1\" class=\"dataframe\">\n",
       "  <thead>\n",
       "    <tr style=\"text-align: right;\">\n",
       "      <th></th>\n",
       "      <th>A</th>\n",
       "      <th>B</th>\n",
       "      <th>C</th>\n",
       "      <th>D</th>\n",
       "    </tr>\n",
       "  </thead>\n",
       "  <tbody>\n",
       "    <tr>\n",
       "      <th>2016-10-19</th>\n",
       "      <td>0.852742</td>\n",
       "      <td>-0.241852</td>\n",
       "      <td>-0.994375</td>\n",
       "      <td>-0.569673</td>\n",
       "    </tr>\n",
       "    <tr>\n",
       "      <th>2016-10-20</th>\n",
       "      <td>-0.401978</td>\n",
       "      <td>0.716301</td>\n",
       "      <td>-1.323909</td>\n",
       "      <td>0.544434</td>\n",
       "    </tr>\n",
       "    <tr>\n",
       "      <th>2016-10-21</th>\n",
       "      <td>-0.458208</td>\n",
       "      <td>-1.325766</td>\n",
       "      <td>0.087917</td>\n",
       "      <td>-0.386803</td>\n",
       "    </tr>\n",
       "  </tbody>\n",
       "</table>\n",
       "</div>"
      ],
      "text/plain": [
       "                   A         B         C         D\n",
       "2016-10-19  0.852742 -0.241852 -0.994375 -0.569673\n",
       "2016-10-20 -0.401978  0.716301 -1.323909  0.544434\n",
       "2016-10-21 -0.458208 -1.325766  0.087917 -0.386803"
      ]
     },
     "execution_count": 11,
     "metadata": {},
     "output_type": "execute_result"
    }
   ],
   "source": [
    "df.tail(3)"
   ]
  },
  {
   "cell_type": "code",
   "execution_count": 12,
   "metadata": {
    "collapsed": false
   },
   "outputs": [
    {
     "data": {
      "text/plain": [
       "DatetimeIndex(['2016-10-16', '2016-10-17', '2016-10-18', '2016-10-19',\n",
       "               '2016-10-20', '2016-10-21'],\n",
       "              dtype='datetime64[ns]', freq='D')"
      ]
     },
     "execution_count": 12,
     "metadata": {},
     "output_type": "execute_result"
    }
   ],
   "source": [
    "df.index"
   ]
  },
  {
   "cell_type": "code",
   "execution_count": 13,
   "metadata": {
    "collapsed": false
   },
   "outputs": [
    {
     "data": {
      "text/plain": [
       "Index(['A', 'B', 'C', 'D'], dtype='object')"
      ]
     },
     "execution_count": 13,
     "metadata": {},
     "output_type": "execute_result"
    }
   ],
   "source": [
    "df.columns"
   ]
  },
  {
   "cell_type": "code",
   "execution_count": 15,
   "metadata": {
    "collapsed": false
   },
   "outputs": [
    {
     "data": {
      "text/plain": [
       "array([[-0.15005711,  0.54763864, -1.17357054,  0.59058026],\n",
       "       [ 0.00325058,  0.44878824,  0.25721578, -0.61920603],\n",
       "       [ 0.16325709,  0.38700882, -0.04488113,  0.7383944 ],\n",
       "       [ 0.85274237, -0.24185228, -0.99437509, -0.5696729 ],\n",
       "       [-0.40197756,  0.71630144, -1.32390914,  0.54443377],\n",
       "       [-0.45820821, -1.32576647,  0.08791673, -0.38680262]])"
      ]
     },
     "execution_count": 15,
     "metadata": {},
     "output_type": "execute_result"
    }
   ],
   "source": [
    "df.values"
   ]
  },
  {
   "cell_type": "markdown",
   "metadata": {},
   "source": [
    "Describe shows a quick statistic summary of your data"
   ]
  },
  {
   "cell_type": "code",
   "execution_count": 16,
   "metadata": {
    "collapsed": false
   },
   "outputs": [
    {
     "data": {
      "text/html": [
       "<div>\n",
       "<table border=\"1\" class=\"dataframe\">\n",
       "  <thead>\n",
       "    <tr style=\"text-align: right;\">\n",
       "      <th></th>\n",
       "      <th>A</th>\n",
       "      <th>B</th>\n",
       "      <th>C</th>\n",
       "      <th>D</th>\n",
       "    </tr>\n",
       "  </thead>\n",
       "  <tbody>\n",
       "    <tr>\n",
       "      <th>count</th>\n",
       "      <td>6.000000</td>\n",
       "      <td>6.000000</td>\n",
       "      <td>6.000000</td>\n",
       "      <td>6.000000</td>\n",
       "    </tr>\n",
       "    <tr>\n",
       "      <th>mean</th>\n",
       "      <td>0.001501</td>\n",
       "      <td>0.088686</td>\n",
       "      <td>-0.531934</td>\n",
       "      <td>0.049621</td>\n",
       "    </tr>\n",
       "    <tr>\n",
       "      <th>std</th>\n",
       "      <td>0.479140</td>\n",
       "      <td>0.765916</td>\n",
       "      <td>0.706678</td>\n",
       "      <td>0.637684</td>\n",
       "    </tr>\n",
       "    <tr>\n",
       "      <th>min</th>\n",
       "      <td>-0.458208</td>\n",
       "      <td>-1.325766</td>\n",
       "      <td>-1.323909</td>\n",
       "      <td>-0.619206</td>\n",
       "    </tr>\n",
       "    <tr>\n",
       "      <th>25%</th>\n",
       "      <td>-0.338997</td>\n",
       "      <td>-0.084637</td>\n",
       "      <td>-1.128772</td>\n",
       "      <td>-0.523955</td>\n",
       "    </tr>\n",
       "    <tr>\n",
       "      <th>50%</th>\n",
       "      <td>-0.073403</td>\n",
       "      <td>0.417899</td>\n",
       "      <td>-0.519628</td>\n",
       "      <td>0.078816</td>\n",
       "    </tr>\n",
       "    <tr>\n",
       "      <th>75%</th>\n",
       "      <td>0.123255</td>\n",
       "      <td>0.522926</td>\n",
       "      <td>0.054717</td>\n",
       "      <td>0.579044</td>\n",
       "    </tr>\n",
       "    <tr>\n",
       "      <th>max</th>\n",
       "      <td>0.852742</td>\n",
       "      <td>0.716301</td>\n",
       "      <td>0.257216</td>\n",
       "      <td>0.738394</td>\n",
       "    </tr>\n",
       "  </tbody>\n",
       "</table>\n",
       "</div>"
      ],
      "text/plain": [
       "              A         B         C         D\n",
       "count  6.000000  6.000000  6.000000  6.000000\n",
       "mean   0.001501  0.088686 -0.531934  0.049621\n",
       "std    0.479140  0.765916  0.706678  0.637684\n",
       "min   -0.458208 -1.325766 -1.323909 -0.619206\n",
       "25%   -0.338997 -0.084637 -1.128772 -0.523955\n",
       "50%   -0.073403  0.417899 -0.519628  0.078816\n",
       "75%    0.123255  0.522926  0.054717  0.579044\n",
       "max    0.852742  0.716301  0.257216  0.738394"
      ]
     },
     "execution_count": 16,
     "metadata": {},
     "output_type": "execute_result"
    }
   ],
   "source": [
    "df.describe()"
   ]
  },
  {
   "cell_type": "code",
   "execution_count": 17,
   "metadata": {
    "collapsed": false
   },
   "outputs": [
    {
     "data": {
      "text/html": [
       "<div>\n",
       "<table border=\"1\" class=\"dataframe\">\n",
       "  <thead>\n",
       "    <tr style=\"text-align: right;\">\n",
       "      <th></th>\n",
       "      <th>2016-10-16 00:00:00</th>\n",
       "      <th>2016-10-17 00:00:00</th>\n",
       "      <th>2016-10-18 00:00:00</th>\n",
       "      <th>2016-10-19 00:00:00</th>\n",
       "      <th>2016-10-20 00:00:00</th>\n",
       "      <th>2016-10-21 00:00:00</th>\n",
       "    </tr>\n",
       "  </thead>\n",
       "  <tbody>\n",
       "    <tr>\n",
       "      <th>A</th>\n",
       "      <td>-0.150057</td>\n",
       "      <td>0.003251</td>\n",
       "      <td>0.163257</td>\n",
       "      <td>0.852742</td>\n",
       "      <td>-0.401978</td>\n",
       "      <td>-0.458208</td>\n",
       "    </tr>\n",
       "    <tr>\n",
       "      <th>B</th>\n",
       "      <td>0.547639</td>\n",
       "      <td>0.448788</td>\n",
       "      <td>0.387009</td>\n",
       "      <td>-0.241852</td>\n",
       "      <td>0.716301</td>\n",
       "      <td>-1.325766</td>\n",
       "    </tr>\n",
       "    <tr>\n",
       "      <th>C</th>\n",
       "      <td>-1.173571</td>\n",
       "      <td>0.257216</td>\n",
       "      <td>-0.044881</td>\n",
       "      <td>-0.994375</td>\n",
       "      <td>-1.323909</td>\n",
       "      <td>0.087917</td>\n",
       "    </tr>\n",
       "    <tr>\n",
       "      <th>D</th>\n",
       "      <td>0.590580</td>\n",
       "      <td>-0.619206</td>\n",
       "      <td>0.738394</td>\n",
       "      <td>-0.569673</td>\n",
       "      <td>0.544434</td>\n",
       "      <td>-0.386803</td>\n",
       "    </tr>\n",
       "  </tbody>\n",
       "</table>\n",
       "</div>"
      ],
      "text/plain": [
       "   2016-10-16  2016-10-17  2016-10-18  2016-10-19  2016-10-20  2016-10-21\n",
       "A   -0.150057    0.003251    0.163257    0.852742   -0.401978   -0.458208\n",
       "B    0.547639    0.448788    0.387009   -0.241852    0.716301   -1.325766\n",
       "C   -1.173571    0.257216   -0.044881   -0.994375   -1.323909    0.087917\n",
       "D    0.590580   -0.619206    0.738394   -0.569673    0.544434   -0.386803"
      ]
     },
     "execution_count": 17,
     "metadata": {},
     "output_type": "execute_result"
    }
   ],
   "source": [
    "df.T"
   ]
  },
  {
   "cell_type": "markdown",
   "metadata": {},
   "source": [
    "Sorting by an axis"
   ]
  },
  {
   "cell_type": "code",
   "execution_count": 19,
   "metadata": {
    "collapsed": false
   },
   "outputs": [
    {
     "data": {
      "text/html": [
       "<div>\n",
       "<table border=\"1\" class=\"dataframe\">\n",
       "  <thead>\n",
       "    <tr style=\"text-align: right;\">\n",
       "      <th></th>\n",
       "      <th>D</th>\n",
       "      <th>C</th>\n",
       "      <th>B</th>\n",
       "      <th>A</th>\n",
       "    </tr>\n",
       "  </thead>\n",
       "  <tbody>\n",
       "    <tr>\n",
       "      <th>2016-10-16</th>\n",
       "      <td>0.590580</td>\n",
       "      <td>-1.173571</td>\n",
       "      <td>0.547639</td>\n",
       "      <td>-0.150057</td>\n",
       "    </tr>\n",
       "    <tr>\n",
       "      <th>2016-10-17</th>\n",
       "      <td>-0.619206</td>\n",
       "      <td>0.257216</td>\n",
       "      <td>0.448788</td>\n",
       "      <td>0.003251</td>\n",
       "    </tr>\n",
       "    <tr>\n",
       "      <th>2016-10-18</th>\n",
       "      <td>0.738394</td>\n",
       "      <td>-0.044881</td>\n",
       "      <td>0.387009</td>\n",
       "      <td>0.163257</td>\n",
       "    </tr>\n",
       "    <tr>\n",
       "      <th>2016-10-19</th>\n",
       "      <td>-0.569673</td>\n",
       "      <td>-0.994375</td>\n",
       "      <td>-0.241852</td>\n",
       "      <td>0.852742</td>\n",
       "    </tr>\n",
       "    <tr>\n",
       "      <th>2016-10-20</th>\n",
       "      <td>0.544434</td>\n",
       "      <td>-1.323909</td>\n",
       "      <td>0.716301</td>\n",
       "      <td>-0.401978</td>\n",
       "    </tr>\n",
       "    <tr>\n",
       "      <th>2016-10-21</th>\n",
       "      <td>-0.386803</td>\n",
       "      <td>0.087917</td>\n",
       "      <td>-1.325766</td>\n",
       "      <td>-0.458208</td>\n",
       "    </tr>\n",
       "  </tbody>\n",
       "</table>\n",
       "</div>"
      ],
      "text/plain": [
       "                   D         C         B         A\n",
       "2016-10-16  0.590580 -1.173571  0.547639 -0.150057\n",
       "2016-10-17 -0.619206  0.257216  0.448788  0.003251\n",
       "2016-10-18  0.738394 -0.044881  0.387009  0.163257\n",
       "2016-10-19 -0.569673 -0.994375 -0.241852  0.852742\n",
       "2016-10-20  0.544434 -1.323909  0.716301 -0.401978\n",
       "2016-10-21 -0.386803  0.087917 -1.325766 -0.458208"
      ]
     },
     "execution_count": 19,
     "metadata": {},
     "output_type": "execute_result"
    }
   ],
   "source": [
    "df.sort_index(axis=1, ascending=False)"
   ]
  },
  {
   "cell_type": "code",
   "execution_count": 21,
   "metadata": {
    "collapsed": false
   },
   "outputs": [
    {
     "data": {
      "text/html": [
       "<div>\n",
       "<table border=\"1\" class=\"dataframe\">\n",
       "  <thead>\n",
       "    <tr style=\"text-align: right;\">\n",
       "      <th></th>\n",
       "      <th>A</th>\n",
       "      <th>B</th>\n",
       "      <th>C</th>\n",
       "      <th>D</th>\n",
       "    </tr>\n",
       "  </thead>\n",
       "  <tbody>\n",
       "    <tr>\n",
       "      <th>2016-10-21</th>\n",
       "      <td>-0.458208</td>\n",
       "      <td>-1.325766</td>\n",
       "      <td>0.087917</td>\n",
       "      <td>-0.386803</td>\n",
       "    </tr>\n",
       "    <tr>\n",
       "      <th>2016-10-20</th>\n",
       "      <td>-0.401978</td>\n",
       "      <td>0.716301</td>\n",
       "      <td>-1.323909</td>\n",
       "      <td>0.544434</td>\n",
       "    </tr>\n",
       "    <tr>\n",
       "      <th>2016-10-19</th>\n",
       "      <td>0.852742</td>\n",
       "      <td>-0.241852</td>\n",
       "      <td>-0.994375</td>\n",
       "      <td>-0.569673</td>\n",
       "    </tr>\n",
       "    <tr>\n",
       "      <th>2016-10-18</th>\n",
       "      <td>0.163257</td>\n",
       "      <td>0.387009</td>\n",
       "      <td>-0.044881</td>\n",
       "      <td>0.738394</td>\n",
       "    </tr>\n",
       "    <tr>\n",
       "      <th>2016-10-17</th>\n",
       "      <td>0.003251</td>\n",
       "      <td>0.448788</td>\n",
       "      <td>0.257216</td>\n",
       "      <td>-0.619206</td>\n",
       "    </tr>\n",
       "    <tr>\n",
       "      <th>2016-10-16</th>\n",
       "      <td>-0.150057</td>\n",
       "      <td>0.547639</td>\n",
       "      <td>-1.173571</td>\n",
       "      <td>0.590580</td>\n",
       "    </tr>\n",
       "  </tbody>\n",
       "</table>\n",
       "</div>"
      ],
      "text/plain": [
       "                   A         B         C         D\n",
       "2016-10-21 -0.458208 -1.325766  0.087917 -0.386803\n",
       "2016-10-20 -0.401978  0.716301 -1.323909  0.544434\n",
       "2016-10-19  0.852742 -0.241852 -0.994375 -0.569673\n",
       "2016-10-18  0.163257  0.387009 -0.044881  0.738394\n",
       "2016-10-17  0.003251  0.448788  0.257216 -0.619206\n",
       "2016-10-16 -0.150057  0.547639 -1.173571  0.590580"
      ]
     },
     "execution_count": 21,
     "metadata": {},
     "output_type": "execute_result"
    }
   ],
   "source": [
    "df.sort_index(axis=0, ascending=False)"
   ]
  },
  {
   "cell_type": "markdown",
   "metadata": {},
   "source": [
    "Sorting by values"
   ]
  },
  {
   "cell_type": "code",
   "execution_count": 23,
   "metadata": {
    "collapsed": false
   },
   "outputs": [
    {
     "data": {
      "text/html": [
       "<div>\n",
       "<table border=\"1\" class=\"dataframe\">\n",
       "  <thead>\n",
       "    <tr style=\"text-align: right;\">\n",
       "      <th></th>\n",
       "      <th>A</th>\n",
       "      <th>B</th>\n",
       "      <th>C</th>\n",
       "      <th>D</th>\n",
       "    </tr>\n",
       "  </thead>\n",
       "  <tbody>\n",
       "    <tr>\n",
       "      <th>2016-10-21</th>\n",
       "      <td>-0.458208</td>\n",
       "      <td>-1.325766</td>\n",
       "      <td>0.087917</td>\n",
       "      <td>-0.386803</td>\n",
       "    </tr>\n",
       "    <tr>\n",
       "      <th>2016-10-19</th>\n",
       "      <td>0.852742</td>\n",
       "      <td>-0.241852</td>\n",
       "      <td>-0.994375</td>\n",
       "      <td>-0.569673</td>\n",
       "    </tr>\n",
       "    <tr>\n",
       "      <th>2016-10-18</th>\n",
       "      <td>0.163257</td>\n",
       "      <td>0.387009</td>\n",
       "      <td>-0.044881</td>\n",
       "      <td>0.738394</td>\n",
       "    </tr>\n",
       "    <tr>\n",
       "      <th>2016-10-17</th>\n",
       "      <td>0.003251</td>\n",
       "      <td>0.448788</td>\n",
       "      <td>0.257216</td>\n",
       "      <td>-0.619206</td>\n",
       "    </tr>\n",
       "    <tr>\n",
       "      <th>2016-10-16</th>\n",
       "      <td>-0.150057</td>\n",
       "      <td>0.547639</td>\n",
       "      <td>-1.173571</td>\n",
       "      <td>0.590580</td>\n",
       "    </tr>\n",
       "    <tr>\n",
       "      <th>2016-10-20</th>\n",
       "      <td>-0.401978</td>\n",
       "      <td>0.716301</td>\n",
       "      <td>-1.323909</td>\n",
       "      <td>0.544434</td>\n",
       "    </tr>\n",
       "  </tbody>\n",
       "</table>\n",
       "</div>"
      ],
      "text/plain": [
       "                   A         B         C         D\n",
       "2016-10-21 -0.458208 -1.325766  0.087917 -0.386803\n",
       "2016-10-19  0.852742 -0.241852 -0.994375 -0.569673\n",
       "2016-10-18  0.163257  0.387009 -0.044881  0.738394\n",
       "2016-10-17  0.003251  0.448788  0.257216 -0.619206\n",
       "2016-10-16 -0.150057  0.547639 -1.173571  0.590580\n",
       "2016-10-20 -0.401978  0.716301 -1.323909  0.544434"
      ]
     },
     "execution_count": 23,
     "metadata": {},
     "output_type": "execute_result"
    }
   ],
   "source": [
    "df.sort_values(by='B')"
   ]
  },
  {
   "cell_type": "markdown",
   "metadata": {},
   "source": [
    "# Selection\n",
    " - we recommend the optimized pandas data access methods, .at, .iat, .loc, .iloc and .ix."
   ]
  },
  {
   "cell_type": "code",
   "execution_count": 24,
   "metadata": {
    "collapsed": false
   },
   "outputs": [
    {
     "data": {
      "text/plain": [
       "2016-10-16   -0.150057\n",
       "2016-10-17    0.003251\n",
       "2016-10-18    0.163257\n",
       "2016-10-19    0.852742\n",
       "2016-10-20   -0.401978\n",
       "2016-10-21   -0.458208\n",
       "Freq: D, Name: A, dtype: float64"
      ]
     },
     "execution_count": 24,
     "metadata": {},
     "output_type": "execute_result"
    }
   ],
   "source": [
    "df['A']"
   ]
  },
  {
   "cell_type": "code",
   "execution_count": 25,
   "metadata": {
    "collapsed": false
   },
   "outputs": [
    {
     "data": {
      "text/html": [
       "<div>\n",
       "<table border=\"1\" class=\"dataframe\">\n",
       "  <thead>\n",
       "    <tr style=\"text-align: right;\">\n",
       "      <th></th>\n",
       "      <th>A</th>\n",
       "      <th>B</th>\n",
       "      <th>C</th>\n",
       "      <th>D</th>\n",
       "    </tr>\n",
       "  </thead>\n",
       "  <tbody>\n",
       "    <tr>\n",
       "      <th>2016-10-16</th>\n",
       "      <td>-0.150057</td>\n",
       "      <td>0.547639</td>\n",
       "      <td>-1.173571</td>\n",
       "      <td>0.590580</td>\n",
       "    </tr>\n",
       "    <tr>\n",
       "      <th>2016-10-17</th>\n",
       "      <td>0.003251</td>\n",
       "      <td>0.448788</td>\n",
       "      <td>0.257216</td>\n",
       "      <td>-0.619206</td>\n",
       "    </tr>\n",
       "    <tr>\n",
       "      <th>2016-10-18</th>\n",
       "      <td>0.163257</td>\n",
       "      <td>0.387009</td>\n",
       "      <td>-0.044881</td>\n",
       "      <td>0.738394</td>\n",
       "    </tr>\n",
       "  </tbody>\n",
       "</table>\n",
       "</div>"
      ],
      "text/plain": [
       "                   A         B         C         D\n",
       "2016-10-16 -0.150057  0.547639 -1.173571  0.590580\n",
       "2016-10-17  0.003251  0.448788  0.257216 -0.619206\n",
       "2016-10-18  0.163257  0.387009 -0.044881  0.738394"
      ]
     },
     "execution_count": 25,
     "metadata": {},
     "output_type": "execute_result"
    }
   ],
   "source": [
    "df[0:3]"
   ]
  },
  {
   "cell_type": "code",
   "execution_count": 27,
   "metadata": {
    "collapsed": false
   },
   "outputs": [
    {
     "data": {
      "text/html": [
       "<div>\n",
       "<table border=\"1\" class=\"dataframe\">\n",
       "  <thead>\n",
       "    <tr style=\"text-align: right;\">\n",
       "      <th></th>\n",
       "      <th>A</th>\n",
       "      <th>B</th>\n",
       "      <th>C</th>\n",
       "      <th>D</th>\n",
       "    </tr>\n",
       "  </thead>\n",
       "  <tbody>\n",
       "    <tr>\n",
       "      <th>2016-10-16</th>\n",
       "      <td>-0.150057</td>\n",
       "      <td>0.547639</td>\n",
       "      <td>-1.173571</td>\n",
       "      <td>0.590580</td>\n",
       "    </tr>\n",
       "    <tr>\n",
       "      <th>2016-10-17</th>\n",
       "      <td>0.003251</td>\n",
       "      <td>0.448788</td>\n",
       "      <td>0.257216</td>\n",
       "      <td>-0.619206</td>\n",
       "    </tr>\n",
       "    <tr>\n",
       "      <th>2016-10-18</th>\n",
       "      <td>0.163257</td>\n",
       "      <td>0.387009</td>\n",
       "      <td>-0.044881</td>\n",
       "      <td>0.738394</td>\n",
       "    </tr>\n",
       "  </tbody>\n",
       "</table>\n",
       "</div>"
      ],
      "text/plain": [
       "                   A         B         C         D\n",
       "2016-10-16 -0.150057  0.547639 -1.173571  0.590580\n",
       "2016-10-17  0.003251  0.448788  0.257216 -0.619206\n",
       "2016-10-18  0.163257  0.387009 -0.044881  0.738394"
      ]
     },
     "execution_count": 27,
     "metadata": {},
     "output_type": "execute_result"
    }
   ],
   "source": [
    "df['20161016':'20161018']"
   ]
  },
  {
   "cell_type": "markdown",
   "metadata": {},
   "source": [
    "## Selection by Labels"
   ]
  },
  {
   "cell_type": "code",
   "execution_count": 33,
   "metadata": {
    "collapsed": false
   },
   "outputs": [
    {
     "data": {
      "text/plain": [
       "<pandas.core.indexing._LocIndexer at 0x1dc34ba6160>"
      ]
     },
     "execution_count": 33,
     "metadata": {},
     "output_type": "execute_result"
    }
   ],
   "source": [
    "#dates[0]\n",
    "df.loc(dates[0])"
   ]
  },
  {
   "cell_type": "code",
   "execution_count": 35,
   "metadata": {
    "collapsed": false
   },
   "outputs": [
    {
     "data": {
      "text/html": [
       "<div>\n",
       "<table border=\"1\" class=\"dataframe\">\n",
       "  <thead>\n",
       "    <tr style=\"text-align: right;\">\n",
       "      <th></th>\n",
       "      <th>A</th>\n",
       "      <th>B</th>\n",
       "    </tr>\n",
       "  </thead>\n",
       "  <tbody>\n",
       "    <tr>\n",
       "      <th>2016-10-16</th>\n",
       "      <td>-0.150057</td>\n",
       "      <td>0.547639</td>\n",
       "    </tr>\n",
       "    <tr>\n",
       "      <th>2016-10-17</th>\n",
       "      <td>0.003251</td>\n",
       "      <td>0.448788</td>\n",
       "    </tr>\n",
       "    <tr>\n",
       "      <th>2016-10-18</th>\n",
       "      <td>0.163257</td>\n",
       "      <td>0.387009</td>\n",
       "    </tr>\n",
       "    <tr>\n",
       "      <th>2016-10-19</th>\n",
       "      <td>0.852742</td>\n",
       "      <td>-0.241852</td>\n",
       "    </tr>\n",
       "    <tr>\n",
       "      <th>2016-10-20</th>\n",
       "      <td>-0.401978</td>\n",
       "      <td>0.716301</td>\n",
       "    </tr>\n",
       "    <tr>\n",
       "      <th>2016-10-21</th>\n",
       "      <td>-0.458208</td>\n",
       "      <td>-1.325766</td>\n",
       "    </tr>\n",
       "  </tbody>\n",
       "</table>\n",
       "</div>"
      ],
      "text/plain": [
       "                   A         B\n",
       "2016-10-16 -0.150057  0.547639\n",
       "2016-10-17  0.003251  0.448788\n",
       "2016-10-18  0.163257  0.387009\n",
       "2016-10-19  0.852742 -0.241852\n",
       "2016-10-20 -0.401978  0.716301\n",
       "2016-10-21 -0.458208 -1.325766"
      ]
     },
     "execution_count": 35,
     "metadata": {},
     "output_type": "execute_result"
    }
   ],
   "source": [
    "df.loc[:,['A','B']]"
   ]
  },
  {
   "cell_type": "code",
   "execution_count": 38,
   "metadata": {
    "collapsed": false
   },
   "outputs": [
    {
     "data": {
      "text/html": [
       "<div>\n",
       "<table border=\"1\" class=\"dataframe\">\n",
       "  <thead>\n",
       "    <tr style=\"text-align: right;\">\n",
       "      <th></th>\n",
       "      <th>A</th>\n",
       "      <th>B</th>\n",
       "    </tr>\n",
       "  </thead>\n",
       "  <tbody>\n",
       "    <tr>\n",
       "      <th>2016-10-16</th>\n",
       "      <td>-0.150057</td>\n",
       "      <td>0.547639</td>\n",
       "    </tr>\n",
       "    <tr>\n",
       "      <th>2016-10-17</th>\n",
       "      <td>0.003251</td>\n",
       "      <td>0.448788</td>\n",
       "    </tr>\n",
       "    <tr>\n",
       "      <th>2016-10-18</th>\n",
       "      <td>0.163257</td>\n",
       "      <td>0.387009</td>\n",
       "    </tr>\n",
       "  </tbody>\n",
       "</table>\n",
       "</div>"
      ],
      "text/plain": [
       "                   A         B\n",
       "2016-10-16 -0.150057  0.547639\n",
       "2016-10-17  0.003251  0.448788\n",
       "2016-10-18  0.163257  0.387009"
      ]
     },
     "execution_count": 38,
     "metadata": {},
     "output_type": "execute_result"
    }
   ],
   "source": [
    "df.loc['20161016':'20161018',['A','B']]"
   ]
  },
  {
   "cell_type": "code",
   "execution_count": 40,
   "metadata": {
    "collapsed": false
   },
   "outputs": [
    {
     "data": {
      "text/plain": [
       "A   -0.150057\n",
       "B    0.547639\n",
       "Name: 2016-10-16 00:00:00, dtype: float64"
      ]
     },
     "execution_count": 40,
     "metadata": {},
     "output_type": "execute_result"
    }
   ],
   "source": [
    "df.loc['20161016',['A','B']]"
   ]
  },
  {
   "cell_type": "markdown",
   "metadata": {},
   "source": [
    " - 이하 수업시간에 한 부분은 생략하겠다. "
   ]
  },
  {
   "cell_type": "markdown",
   "metadata": {},
   "source": [
    " - DataFrame Copy"
   ]
  },
  {
   "cell_type": "code",
   "execution_count": 42,
   "metadata": {
    "collapsed": false
   },
   "outputs": [
    {
     "data": {
      "text/html": [
       "<div>\n",
       "<table border=\"1\" class=\"dataframe\">\n",
       "  <thead>\n",
       "    <tr style=\"text-align: right;\">\n",
       "      <th></th>\n",
       "      <th>A</th>\n",
       "      <th>B</th>\n",
       "      <th>C</th>\n",
       "      <th>D</th>\n",
       "    </tr>\n",
       "  </thead>\n",
       "  <tbody>\n",
       "    <tr>\n",
       "      <th>2016-10-16</th>\n",
       "      <td>-0.150057</td>\n",
       "      <td>0.547639</td>\n",
       "      <td>-1.173571</td>\n",
       "      <td>0.590580</td>\n",
       "    </tr>\n",
       "    <tr>\n",
       "      <th>2016-10-17</th>\n",
       "      <td>0.003251</td>\n",
       "      <td>0.448788</td>\n",
       "      <td>0.257216</td>\n",
       "      <td>-0.619206</td>\n",
       "    </tr>\n",
       "    <tr>\n",
       "      <th>2016-10-18</th>\n",
       "      <td>0.163257</td>\n",
       "      <td>0.387009</td>\n",
       "      <td>-0.044881</td>\n",
       "      <td>0.738394</td>\n",
       "    </tr>\n",
       "    <tr>\n",
       "      <th>2016-10-19</th>\n",
       "      <td>0.852742</td>\n",
       "      <td>-0.241852</td>\n",
       "      <td>-0.994375</td>\n",
       "      <td>-0.569673</td>\n",
       "    </tr>\n",
       "    <tr>\n",
       "      <th>2016-10-20</th>\n",
       "      <td>-0.401978</td>\n",
       "      <td>0.716301</td>\n",
       "      <td>-1.323909</td>\n",
       "      <td>0.544434</td>\n",
       "    </tr>\n",
       "    <tr>\n",
       "      <th>2016-10-21</th>\n",
       "      <td>-0.458208</td>\n",
       "      <td>-1.325766</td>\n",
       "      <td>0.087917</td>\n",
       "      <td>-0.386803</td>\n",
       "    </tr>\n",
       "  </tbody>\n",
       "</table>\n",
       "</div>"
      ],
      "text/plain": [
       "                   A         B         C         D\n",
       "2016-10-16 -0.150057  0.547639 -1.173571  0.590580\n",
       "2016-10-17  0.003251  0.448788  0.257216 -0.619206\n",
       "2016-10-18  0.163257  0.387009 -0.044881  0.738394\n",
       "2016-10-19  0.852742 -0.241852 -0.994375 -0.569673\n",
       "2016-10-20 -0.401978  0.716301 -1.323909  0.544434\n",
       "2016-10-21 -0.458208 -1.325766  0.087917 -0.386803"
      ]
     },
     "execution_count": 42,
     "metadata": {},
     "output_type": "execute_result"
    }
   ],
   "source": [
    "df2 = df.copy()\n",
    "df2"
   ]
  },
  {
   "cell_type": "code",
   "execution_count": 44,
   "metadata": {
    "collapsed": false
   },
   "outputs": [
    {
     "data": {
      "text/html": [
       "<div>\n",
       "<table border=\"1\" class=\"dataframe\">\n",
       "  <thead>\n",
       "    <tr style=\"text-align: right;\">\n",
       "      <th></th>\n",
       "      <th>A</th>\n",
       "      <th>B</th>\n",
       "      <th>C</th>\n",
       "      <th>D</th>\n",
       "      <th>E</th>\n",
       "    </tr>\n",
       "  </thead>\n",
       "  <tbody>\n",
       "    <tr>\n",
       "      <th>2016-10-16</th>\n",
       "      <td>-0.150057</td>\n",
       "      <td>0.547639</td>\n",
       "      <td>-1.173571</td>\n",
       "      <td>0.590580</td>\n",
       "      <td>one</td>\n",
       "    </tr>\n",
       "    <tr>\n",
       "      <th>2016-10-17</th>\n",
       "      <td>0.003251</td>\n",
       "      <td>0.448788</td>\n",
       "      <td>0.257216</td>\n",
       "      <td>-0.619206</td>\n",
       "      <td>one</td>\n",
       "    </tr>\n",
       "    <tr>\n",
       "      <th>2016-10-18</th>\n",
       "      <td>0.163257</td>\n",
       "      <td>0.387009</td>\n",
       "      <td>-0.044881</td>\n",
       "      <td>0.738394</td>\n",
       "      <td>two</td>\n",
       "    </tr>\n",
       "    <tr>\n",
       "      <th>2016-10-19</th>\n",
       "      <td>0.852742</td>\n",
       "      <td>-0.241852</td>\n",
       "      <td>-0.994375</td>\n",
       "      <td>-0.569673</td>\n",
       "      <td>three</td>\n",
       "    </tr>\n",
       "    <tr>\n",
       "      <th>2016-10-20</th>\n",
       "      <td>-0.401978</td>\n",
       "      <td>0.716301</td>\n",
       "      <td>-1.323909</td>\n",
       "      <td>0.544434</td>\n",
       "      <td>four</td>\n",
       "    </tr>\n",
       "    <tr>\n",
       "      <th>2016-10-21</th>\n",
       "      <td>-0.458208</td>\n",
       "      <td>-1.325766</td>\n",
       "      <td>0.087917</td>\n",
       "      <td>-0.386803</td>\n",
       "      <td>three</td>\n",
       "    </tr>\n",
       "  </tbody>\n",
       "</table>\n",
       "</div>"
      ],
      "text/plain": [
       "                   A         B         C         D      E\n",
       "2016-10-16 -0.150057  0.547639 -1.173571  0.590580    one\n",
       "2016-10-17  0.003251  0.448788  0.257216 -0.619206    one\n",
       "2016-10-18  0.163257  0.387009 -0.044881  0.738394    two\n",
       "2016-10-19  0.852742 -0.241852 -0.994375 -0.569673  three\n",
       "2016-10-20 -0.401978  0.716301 -1.323909  0.544434   four\n",
       "2016-10-21 -0.458208 -1.325766  0.087917 -0.386803  three"
      ]
     },
     "execution_count": 44,
     "metadata": {},
     "output_type": "execute_result"
    }
   ],
   "source": [
    "df2['E'] = ['one', 'one','two','three','four','three']\n",
    "df2"
   ]
  },
  {
   "cell_type": "code",
   "execution_count": 46,
   "metadata": {
    "collapsed": false
   },
   "outputs": [
    {
     "data": {
      "text/html": [
       "<div>\n",
       "<table border=\"1\" class=\"dataframe\">\n",
       "  <thead>\n",
       "    <tr style=\"text-align: right;\">\n",
       "      <th></th>\n",
       "      <th>A</th>\n",
       "      <th>B</th>\n",
       "      <th>C</th>\n",
       "      <th>D</th>\n",
       "      <th>E</th>\n",
       "    </tr>\n",
       "  </thead>\n",
       "  <tbody>\n",
       "    <tr>\n",
       "      <th>2016-10-18</th>\n",
       "      <td>0.163257</td>\n",
       "      <td>0.387009</td>\n",
       "      <td>-0.044881</td>\n",
       "      <td>0.738394</td>\n",
       "      <td>two</td>\n",
       "    </tr>\n",
       "    <tr>\n",
       "      <th>2016-10-19</th>\n",
       "      <td>0.852742</td>\n",
       "      <td>-0.241852</td>\n",
       "      <td>-0.994375</td>\n",
       "      <td>-0.569673</td>\n",
       "      <td>three</td>\n",
       "    </tr>\n",
       "    <tr>\n",
       "      <th>2016-10-21</th>\n",
       "      <td>-0.458208</td>\n",
       "      <td>-1.325766</td>\n",
       "      <td>0.087917</td>\n",
       "      <td>-0.386803</td>\n",
       "      <td>three</td>\n",
       "    </tr>\n",
       "  </tbody>\n",
       "</table>\n",
       "</div>"
      ],
      "text/plain": [
       "                   A         B         C         D      E\n",
       "2016-10-18  0.163257  0.387009 -0.044881  0.738394    two\n",
       "2016-10-19  0.852742 -0.241852 -0.994375 -0.569673  three\n",
       "2016-10-21 -0.458208 -1.325766  0.087917 -0.386803  three"
      ]
     },
     "execution_count": 46,
     "metadata": {},
     "output_type": "execute_result"
    }
   ],
   "source": [
    "df2[df2['E'].isin(['two','three'])]"
   ]
  },
  {
   "cell_type": "markdown",
   "metadata": {},
   "source": [
    "## Setting\n",
    " - Setting a new column automatically aligns the data by the indexes"
   ]
  },
  {
   "cell_type": "code",
   "execution_count": 50,
   "metadata": {
    "collapsed": false
   },
   "outputs": [
    {
     "data": {
      "text/plain": [
       "2016-10-16    1\n",
       "2016-10-17    2\n",
       "2016-10-18    3\n",
       "2016-10-19    4\n",
       "2016-10-20    5\n",
       "2016-10-21    6\n",
       "Freq: D, dtype: int64"
      ]
     },
     "execution_count": 50,
     "metadata": {},
     "output_type": "execute_result"
    }
   ],
   "source": [
    "s1 = pd.Series([1,2,3,4,5,6], index=pd.date_range('20161016', periods=6))\n",
    "s1"
   ]
  },
  {
   "cell_type": "code",
   "execution_count": 51,
   "metadata": {
    "collapsed": false
   },
   "outputs": [
    {
     "data": {
      "text/html": [
       "<div>\n",
       "<table border=\"1\" class=\"dataframe\">\n",
       "  <thead>\n",
       "    <tr style=\"text-align: right;\">\n",
       "      <th></th>\n",
       "      <th>A</th>\n",
       "      <th>B</th>\n",
       "      <th>C</th>\n",
       "      <th>D</th>\n",
       "      <th>F</th>\n",
       "    </tr>\n",
       "  </thead>\n",
       "  <tbody>\n",
       "    <tr>\n",
       "      <th>2016-10-16</th>\n",
       "      <td>-0.150057</td>\n",
       "      <td>0.547639</td>\n",
       "      <td>-1.173571</td>\n",
       "      <td>0.590580</td>\n",
       "      <td>1</td>\n",
       "    </tr>\n",
       "    <tr>\n",
       "      <th>2016-10-17</th>\n",
       "      <td>0.003251</td>\n",
       "      <td>0.448788</td>\n",
       "      <td>0.257216</td>\n",
       "      <td>-0.619206</td>\n",
       "      <td>2</td>\n",
       "    </tr>\n",
       "    <tr>\n",
       "      <th>2016-10-18</th>\n",
       "      <td>0.163257</td>\n",
       "      <td>0.387009</td>\n",
       "      <td>-0.044881</td>\n",
       "      <td>0.738394</td>\n",
       "      <td>3</td>\n",
       "    </tr>\n",
       "    <tr>\n",
       "      <th>2016-10-19</th>\n",
       "      <td>0.852742</td>\n",
       "      <td>-0.241852</td>\n",
       "      <td>-0.994375</td>\n",
       "      <td>-0.569673</td>\n",
       "      <td>4</td>\n",
       "    </tr>\n",
       "    <tr>\n",
       "      <th>2016-10-20</th>\n",
       "      <td>-0.401978</td>\n",
       "      <td>0.716301</td>\n",
       "      <td>-1.323909</td>\n",
       "      <td>0.544434</td>\n",
       "      <td>5</td>\n",
       "    </tr>\n",
       "    <tr>\n",
       "      <th>2016-10-21</th>\n",
       "      <td>-0.458208</td>\n",
       "      <td>-1.325766</td>\n",
       "      <td>0.087917</td>\n",
       "      <td>-0.386803</td>\n",
       "      <td>6</td>\n",
       "    </tr>\n",
       "  </tbody>\n",
       "</table>\n",
       "</div>"
      ],
      "text/plain": [
       "                   A         B         C         D  F\n",
       "2016-10-16 -0.150057  0.547639 -1.173571  0.590580  1\n",
       "2016-10-17  0.003251  0.448788  0.257216 -0.619206  2\n",
       "2016-10-18  0.163257  0.387009 -0.044881  0.738394  3\n",
       "2016-10-19  0.852742 -0.241852 -0.994375 -0.569673  4\n",
       "2016-10-20 -0.401978  0.716301 -1.323909  0.544434  5\n",
       "2016-10-21 -0.458208 -1.325766  0.087917 -0.386803  6"
      ]
     },
     "execution_count": 51,
     "metadata": {},
     "output_type": "execute_result"
    }
   ],
   "source": [
    "df['F'] = s1\n",
    "df"
   ]
  },
  {
   "cell_type": "code",
   "execution_count": 53,
   "metadata": {
    "collapsed": false
   },
   "outputs": [],
   "source": [
    "df.at[dates[0],'A'] = 0"
   ]
  },
  {
   "cell_type": "code",
   "execution_count": 56,
   "metadata": {
    "collapsed": false
   },
   "outputs": [
    {
     "data": {
      "text/html": [
       "<div>\n",
       "<table border=\"1\" class=\"dataframe\">\n",
       "  <thead>\n",
       "    <tr style=\"text-align: right;\">\n",
       "      <th></th>\n",
       "      <th>A</th>\n",
       "      <th>B</th>\n",
       "      <th>C</th>\n",
       "      <th>D</th>\n",
       "      <th>F</th>\n",
       "    </tr>\n",
       "  </thead>\n",
       "  <tbody>\n",
       "    <tr>\n",
       "      <th>2016-10-16</th>\n",
       "      <td>0.000000</td>\n",
       "      <td>0.547639</td>\n",
       "      <td>-1.173571</td>\n",
       "      <td>0.590580</td>\n",
       "      <td>1</td>\n",
       "    </tr>\n",
       "    <tr>\n",
       "      <th>2016-10-17</th>\n",
       "      <td>0.003251</td>\n",
       "      <td>0.448788</td>\n",
       "      <td>0.257216</td>\n",
       "      <td>-0.619206</td>\n",
       "      <td>2</td>\n",
       "    </tr>\n",
       "    <tr>\n",
       "      <th>2016-10-18</th>\n",
       "      <td>0.163257</td>\n",
       "      <td>0.387009</td>\n",
       "      <td>-0.044881</td>\n",
       "      <td>0.738394</td>\n",
       "      <td>3</td>\n",
       "    </tr>\n",
       "    <tr>\n",
       "      <th>2016-10-19</th>\n",
       "      <td>0.852742</td>\n",
       "      <td>-0.241852</td>\n",
       "      <td>-0.994375</td>\n",
       "      <td>-0.569673</td>\n",
       "      <td>4</td>\n",
       "    </tr>\n",
       "    <tr>\n",
       "      <th>2016-10-20</th>\n",
       "      <td>-0.401978</td>\n",
       "      <td>0.716301</td>\n",
       "      <td>-1.323909</td>\n",
       "      <td>0.544434</td>\n",
       "      <td>5</td>\n",
       "    </tr>\n",
       "    <tr>\n",
       "      <th>2016-10-21</th>\n",
       "      <td>-0.458208</td>\n",
       "      <td>-1.325766</td>\n",
       "      <td>0.087917</td>\n",
       "      <td>-0.386803</td>\n",
       "      <td>6</td>\n",
       "    </tr>\n",
       "  </tbody>\n",
       "</table>\n",
       "</div>"
      ],
      "text/plain": [
       "                   A         B         C         D  F\n",
       "2016-10-16  0.000000  0.547639 -1.173571  0.590580  1\n",
       "2016-10-17  0.003251  0.448788  0.257216 -0.619206  2\n",
       "2016-10-18  0.163257  0.387009 -0.044881  0.738394  3\n",
       "2016-10-19  0.852742 -0.241852 -0.994375 -0.569673  4\n",
       "2016-10-20 -0.401978  0.716301 -1.323909  0.544434  5\n",
       "2016-10-21 -0.458208 -1.325766  0.087917 -0.386803  6"
      ]
     },
     "execution_count": 56,
     "metadata": {},
     "output_type": "execute_result"
    }
   ],
   "source": [
    "df"
   ]
  },
  {
   "cell_type": "code",
   "execution_count": 57,
   "metadata": {
    "collapsed": false
   },
   "outputs": [
    {
     "data": {
      "text/html": [
       "<div>\n",
       "<table border=\"1\" class=\"dataframe\">\n",
       "  <thead>\n",
       "    <tr style=\"text-align: right;\">\n",
       "      <th></th>\n",
       "      <th>A</th>\n",
       "      <th>B</th>\n",
       "      <th>C</th>\n",
       "      <th>D</th>\n",
       "      <th>F</th>\n",
       "    </tr>\n",
       "  </thead>\n",
       "  <tbody>\n",
       "    <tr>\n",
       "      <th>2016-10-16</th>\n",
       "      <td>0.000000</td>\n",
       "      <td>0.000000</td>\n",
       "      <td>-1.173571</td>\n",
       "      <td>0.590580</td>\n",
       "      <td>1</td>\n",
       "    </tr>\n",
       "    <tr>\n",
       "      <th>2016-10-17</th>\n",
       "      <td>0.003251</td>\n",
       "      <td>0.448788</td>\n",
       "      <td>0.257216</td>\n",
       "      <td>-0.619206</td>\n",
       "      <td>2</td>\n",
       "    </tr>\n",
       "    <tr>\n",
       "      <th>2016-10-18</th>\n",
       "      <td>0.163257</td>\n",
       "      <td>0.387009</td>\n",
       "      <td>-0.044881</td>\n",
       "      <td>0.738394</td>\n",
       "      <td>3</td>\n",
       "    </tr>\n",
       "    <tr>\n",
       "      <th>2016-10-19</th>\n",
       "      <td>0.852742</td>\n",
       "      <td>-0.241852</td>\n",
       "      <td>-0.994375</td>\n",
       "      <td>-0.569673</td>\n",
       "      <td>4</td>\n",
       "    </tr>\n",
       "    <tr>\n",
       "      <th>2016-10-20</th>\n",
       "      <td>-0.401978</td>\n",
       "      <td>0.716301</td>\n",
       "      <td>-1.323909</td>\n",
       "      <td>0.544434</td>\n",
       "      <td>5</td>\n",
       "    </tr>\n",
       "    <tr>\n",
       "      <th>2016-10-21</th>\n",
       "      <td>-0.458208</td>\n",
       "      <td>-1.325766</td>\n",
       "      <td>0.087917</td>\n",
       "      <td>-0.386803</td>\n",
       "      <td>6</td>\n",
       "    </tr>\n",
       "  </tbody>\n",
       "</table>\n",
       "</div>"
      ],
      "text/plain": [
       "                   A         B         C         D  F\n",
       "2016-10-16  0.000000  0.000000 -1.173571  0.590580  1\n",
       "2016-10-17  0.003251  0.448788  0.257216 -0.619206  2\n",
       "2016-10-18  0.163257  0.387009 -0.044881  0.738394  3\n",
       "2016-10-19  0.852742 -0.241852 -0.994375 -0.569673  4\n",
       "2016-10-20 -0.401978  0.716301 -1.323909  0.544434  5\n",
       "2016-10-21 -0.458208 -1.325766  0.087917 -0.386803  6"
      ]
     },
     "execution_count": 57,
     "metadata": {},
     "output_type": "execute_result"
    }
   ],
   "source": [
    "df.iat[0,1] = 0\n",
    "df"
   ]
  },
  {
   "cell_type": "code",
   "execution_count": 60,
   "metadata": {
    "collapsed": false
   },
   "outputs": [
    {
     "data": {
      "text/plain": [
       "6"
      ]
     },
     "execution_count": 60,
     "metadata": {},
     "output_type": "execute_result"
    }
   ],
   "source": [
    "len(df)"
   ]
  },
  {
   "cell_type": "code",
   "execution_count": 61,
   "metadata": {
    "collapsed": false
   },
   "outputs": [
    {
     "data": {
      "text/plain": [
       "array([5, 5, 5, 5, 5, 5])"
      ]
     },
     "execution_count": 61,
     "metadata": {},
     "output_type": "execute_result"
    }
   ],
   "source": [
    "np.array([5] * len(df))"
   ]
  },
  {
   "cell_type": "code",
   "execution_count": 59,
   "metadata": {
    "collapsed": false
   },
   "outputs": [
    {
     "data": {
      "text/html": [
       "<div>\n",
       "<table border=\"1\" class=\"dataframe\">\n",
       "  <thead>\n",
       "    <tr style=\"text-align: right;\">\n",
       "      <th></th>\n",
       "      <th>A</th>\n",
       "      <th>B</th>\n",
       "      <th>C</th>\n",
       "      <th>D</th>\n",
       "      <th>F</th>\n",
       "    </tr>\n",
       "  </thead>\n",
       "  <tbody>\n",
       "    <tr>\n",
       "      <th>2016-10-16</th>\n",
       "      <td>0.000000</td>\n",
       "      <td>0.000000</td>\n",
       "      <td>-1.173571</td>\n",
       "      <td>5</td>\n",
       "      <td>1</td>\n",
       "    </tr>\n",
       "    <tr>\n",
       "      <th>2016-10-17</th>\n",
       "      <td>0.003251</td>\n",
       "      <td>0.448788</td>\n",
       "      <td>0.257216</td>\n",
       "      <td>5</td>\n",
       "      <td>2</td>\n",
       "    </tr>\n",
       "    <tr>\n",
       "      <th>2016-10-18</th>\n",
       "      <td>0.163257</td>\n",
       "      <td>0.387009</td>\n",
       "      <td>-0.044881</td>\n",
       "      <td>5</td>\n",
       "      <td>3</td>\n",
       "    </tr>\n",
       "    <tr>\n",
       "      <th>2016-10-19</th>\n",
       "      <td>0.852742</td>\n",
       "      <td>-0.241852</td>\n",
       "      <td>-0.994375</td>\n",
       "      <td>5</td>\n",
       "      <td>4</td>\n",
       "    </tr>\n",
       "    <tr>\n",
       "      <th>2016-10-20</th>\n",
       "      <td>-0.401978</td>\n",
       "      <td>0.716301</td>\n",
       "      <td>-1.323909</td>\n",
       "      <td>5</td>\n",
       "      <td>5</td>\n",
       "    </tr>\n",
       "    <tr>\n",
       "      <th>2016-10-21</th>\n",
       "      <td>-0.458208</td>\n",
       "      <td>-1.325766</td>\n",
       "      <td>0.087917</td>\n",
       "      <td>5</td>\n",
       "      <td>6</td>\n",
       "    </tr>\n",
       "  </tbody>\n",
       "</table>\n",
       "</div>"
      ],
      "text/plain": [
       "                   A         B         C  D  F\n",
       "2016-10-16  0.000000  0.000000 -1.173571  5  1\n",
       "2016-10-17  0.003251  0.448788  0.257216  5  2\n",
       "2016-10-18  0.163257  0.387009 -0.044881  5  3\n",
       "2016-10-19  0.852742 -0.241852 -0.994375  5  4\n",
       "2016-10-20 -0.401978  0.716301 -1.323909  5  5\n",
       "2016-10-21 -0.458208 -1.325766  0.087917  5  6"
      ]
     },
     "execution_count": 59,
     "metadata": {},
     "output_type": "execute_result"
    }
   ],
   "source": [
    "df.loc[:,'D'] = np.array([5] * len(df))\n",
    "df"
   ]
  },
  {
   "cell_type": "code",
   "execution_count": 63,
   "metadata": {
    "collapsed": false
   },
   "outputs": [
    {
     "data": {
      "text/html": [
       "<div>\n",
       "<table border=\"1\" class=\"dataframe\">\n",
       "  <thead>\n",
       "    <tr style=\"text-align: right;\">\n",
       "      <th></th>\n",
       "      <th>A</th>\n",
       "      <th>B</th>\n",
       "      <th>C</th>\n",
       "      <th>D</th>\n",
       "      <th>F</th>\n",
       "    </tr>\n",
       "  </thead>\n",
       "  <tbody>\n",
       "    <tr>\n",
       "      <th>2016-10-16</th>\n",
       "      <td>NaN</td>\n",
       "      <td>NaN</td>\n",
       "      <td>NaN</td>\n",
       "      <td>5</td>\n",
       "      <td>1</td>\n",
       "    </tr>\n",
       "    <tr>\n",
       "      <th>2016-10-17</th>\n",
       "      <td>0.003251</td>\n",
       "      <td>0.448788</td>\n",
       "      <td>0.257216</td>\n",
       "      <td>5</td>\n",
       "      <td>2</td>\n",
       "    </tr>\n",
       "    <tr>\n",
       "      <th>2016-10-18</th>\n",
       "      <td>0.163257</td>\n",
       "      <td>0.387009</td>\n",
       "      <td>NaN</td>\n",
       "      <td>5</td>\n",
       "      <td>3</td>\n",
       "    </tr>\n",
       "    <tr>\n",
       "      <th>2016-10-19</th>\n",
       "      <td>0.852742</td>\n",
       "      <td>NaN</td>\n",
       "      <td>NaN</td>\n",
       "      <td>5</td>\n",
       "      <td>4</td>\n",
       "    </tr>\n",
       "    <tr>\n",
       "      <th>2016-10-20</th>\n",
       "      <td>NaN</td>\n",
       "      <td>0.716301</td>\n",
       "      <td>NaN</td>\n",
       "      <td>5</td>\n",
       "      <td>5</td>\n",
       "    </tr>\n",
       "    <tr>\n",
       "      <th>2016-10-21</th>\n",
       "      <td>NaN</td>\n",
       "      <td>NaN</td>\n",
       "      <td>0.087917</td>\n",
       "      <td>5</td>\n",
       "      <td>6</td>\n",
       "    </tr>\n",
       "  </tbody>\n",
       "</table>\n",
       "</div>"
      ],
      "text/plain": [
       "                   A         B         C  D  F\n",
       "2016-10-16       NaN       NaN       NaN  5  1\n",
       "2016-10-17  0.003251  0.448788  0.257216  5  2\n",
       "2016-10-18  0.163257  0.387009       NaN  5  3\n",
       "2016-10-19  0.852742       NaN       NaN  5  4\n",
       "2016-10-20       NaN  0.716301       NaN  5  5\n",
       "2016-10-21       NaN       NaN  0.087917  5  6"
      ]
     },
     "execution_count": 63,
     "metadata": {},
     "output_type": "execute_result"
    }
   ],
   "source": [
    "df2 = df.copy()\n",
    "df2[df2>0]"
   ]
  },
  {
   "cell_type": "code",
   "execution_count": 64,
   "metadata": {
    "collapsed": false
   },
   "outputs": [
    {
     "data": {
      "text/html": [
       "<div>\n",
       "<table border=\"1\" class=\"dataframe\">\n",
       "  <thead>\n",
       "    <tr style=\"text-align: right;\">\n",
       "      <th></th>\n",
       "      <th>A</th>\n",
       "      <th>B</th>\n",
       "      <th>C</th>\n",
       "      <th>D</th>\n",
       "      <th>F</th>\n",
       "    </tr>\n",
       "  </thead>\n",
       "  <tbody>\n",
       "    <tr>\n",
       "      <th>2016-10-16</th>\n",
       "      <td>0.000000</td>\n",
       "      <td>0.000000</td>\n",
       "      <td>-1.173571</td>\n",
       "      <td>-5</td>\n",
       "      <td>-1</td>\n",
       "    </tr>\n",
       "    <tr>\n",
       "      <th>2016-10-17</th>\n",
       "      <td>-0.003251</td>\n",
       "      <td>-0.448788</td>\n",
       "      <td>-0.257216</td>\n",
       "      <td>-5</td>\n",
       "      <td>-2</td>\n",
       "    </tr>\n",
       "    <tr>\n",
       "      <th>2016-10-18</th>\n",
       "      <td>-0.163257</td>\n",
       "      <td>-0.387009</td>\n",
       "      <td>-0.044881</td>\n",
       "      <td>-5</td>\n",
       "      <td>-3</td>\n",
       "    </tr>\n",
       "    <tr>\n",
       "      <th>2016-10-19</th>\n",
       "      <td>-0.852742</td>\n",
       "      <td>-0.241852</td>\n",
       "      <td>-0.994375</td>\n",
       "      <td>-5</td>\n",
       "      <td>-4</td>\n",
       "    </tr>\n",
       "    <tr>\n",
       "      <th>2016-10-20</th>\n",
       "      <td>-0.401978</td>\n",
       "      <td>-0.716301</td>\n",
       "      <td>-1.323909</td>\n",
       "      <td>-5</td>\n",
       "      <td>-5</td>\n",
       "    </tr>\n",
       "    <tr>\n",
       "      <th>2016-10-21</th>\n",
       "      <td>-0.458208</td>\n",
       "      <td>-1.325766</td>\n",
       "      <td>-0.087917</td>\n",
       "      <td>-5</td>\n",
       "      <td>-6</td>\n",
       "    </tr>\n",
       "  </tbody>\n",
       "</table>\n",
       "</div>"
      ],
      "text/plain": [
       "                   A         B         C  D  F\n",
       "2016-10-16  0.000000  0.000000 -1.173571 -5 -1\n",
       "2016-10-17 -0.003251 -0.448788 -0.257216 -5 -2\n",
       "2016-10-18 -0.163257 -0.387009 -0.044881 -5 -3\n",
       "2016-10-19 -0.852742 -0.241852 -0.994375 -5 -4\n",
       "2016-10-20 -0.401978 -0.716301 -1.323909 -5 -5\n",
       "2016-10-21 -0.458208 -1.325766 -0.087917 -5 -6"
      ]
     },
     "execution_count": 64,
     "metadata": {},
     "output_type": "execute_result"
    }
   ],
   "source": [
    "df2[df2>0] = -df2\n",
    "df2"
   ]
  },
  {
   "cell_type": "markdown",
   "metadata": {},
   "source": [
    "## Missing Data"
   ]
  },
  {
   "cell_type": "code",
   "execution_count": 66,
   "metadata": {
    "collapsed": false
   },
   "outputs": [
    {
     "data": {
      "text/html": [
       "<div>\n",
       "<table border=\"1\" class=\"dataframe\">\n",
       "  <thead>\n",
       "    <tr style=\"text-align: right;\">\n",
       "      <th></th>\n",
       "      <th>A</th>\n",
       "      <th>B</th>\n",
       "      <th>C</th>\n",
       "      <th>D</th>\n",
       "      <th>F</th>\n",
       "      <th>E</th>\n",
       "    </tr>\n",
       "  </thead>\n",
       "  <tbody>\n",
       "    <tr>\n",
       "      <th>2016-10-16</th>\n",
       "      <td>0.000000</td>\n",
       "      <td>0.000000</td>\n",
       "      <td>-1.173571</td>\n",
       "      <td>5</td>\n",
       "      <td>1</td>\n",
       "      <td>1.0</td>\n",
       "    </tr>\n",
       "    <tr>\n",
       "      <th>2016-10-17</th>\n",
       "      <td>0.003251</td>\n",
       "      <td>0.448788</td>\n",
       "      <td>0.257216</td>\n",
       "      <td>5</td>\n",
       "      <td>2</td>\n",
       "      <td>1.0</td>\n",
       "    </tr>\n",
       "    <tr>\n",
       "      <th>2016-10-18</th>\n",
       "      <td>0.163257</td>\n",
       "      <td>0.387009</td>\n",
       "      <td>-0.044881</td>\n",
       "      <td>5</td>\n",
       "      <td>3</td>\n",
       "      <td>NaN</td>\n",
       "    </tr>\n",
       "    <tr>\n",
       "      <th>2016-10-19</th>\n",
       "      <td>0.852742</td>\n",
       "      <td>-0.241852</td>\n",
       "      <td>-0.994375</td>\n",
       "      <td>5</td>\n",
       "      <td>4</td>\n",
       "      <td>NaN</td>\n",
       "    </tr>\n",
       "  </tbody>\n",
       "</table>\n",
       "</div>"
      ],
      "text/plain": [
       "                   A         B         C  D  F    E\n",
       "2016-10-16  0.000000  0.000000 -1.173571  5  1  1.0\n",
       "2016-10-17  0.003251  0.448788  0.257216  5  2  1.0\n",
       "2016-10-18  0.163257  0.387009 -0.044881  5  3  NaN\n",
       "2016-10-19  0.852742 -0.241852 -0.994375  5  4  NaN"
      ]
     },
     "execution_count": 66,
     "metadata": {},
     "output_type": "execute_result"
    }
   ],
   "source": [
    "df1 = df.reindex(index=dates[0:4], columns=list(df.columns) + ['E'])\n",
    "df1.loc[dates[0]:dates[1],'E'] = 1\n",
    "df1"
   ]
  },
  {
   "cell_type": "code",
   "execution_count": null,
   "metadata": {
    "collapsed": true
   },
   "outputs": [],
   "source": []
  }
 ],
 "metadata": {
  "kernelspec": {
   "display_name": "Python [work]",
   "language": "python",
   "name": "Python [work]"
  },
  "language_info": {
   "codemirror_mode": {
    "name": "ipython",
    "version": 3
   },
   "file_extension": ".py",
   "mimetype": "text/x-python",
   "name": "python",
   "nbconvert_exporter": "python",
   "pygments_lexer": "ipython3",
   "version": "3.5.2"
  }
 },
 "nbformat": 4,
 "nbformat_minor": 0
}
