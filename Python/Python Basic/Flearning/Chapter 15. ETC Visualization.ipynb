{
 "cells": [
  {
   "cell_type": "markdown",
   "metadata": {},
   "source": [
    "# Chapter 15. ETC Visualization\n",
    "\n",
    "### Seaborn\n",
    "\n",
    "http://stanford.edu/~mwaskom/software/seaborn/index.html\n",
    "\n",
    "### Bokeh\n",
    "\n",
    "http://bokeh.pydata.org/en/latest/index.html\n",
    "- 플롯을 html 파일로 export 하여 이를 웹 브라우저를 통해 확인할 수 있음.\n",
    "- matplotlib과 비슷하여 ipython에서도 활용하기 좋다. \n",
    "\n",
    "### Folium\n",
    "\n",
    "https://github.com/python-visualization/folium\n",
    "- 지리적 데이터 시각화에 특화된 라이브러리(leaflet.js기반) \n",
    "- 지도 데이터 사용을 위해 선행되어야 하는 작업이 적으며, 설치 및 사용법이 아주 간단함. \n"
   ]
  }
 ],
 "metadata": {
  "anaconda-cloud": {},
  "kernelspec": {
   "display_name": "Python [work]",
   "language": "python",
   "name": "Python [work]"
  },
  "language_info": {
   "codemirror_mode": {
    "name": "ipython",
    "version": 3
   },
   "file_extension": ".py",
   "mimetype": "text/x-python",
   "name": "python",
   "nbconvert_exporter": "python",
   "pygments_lexer": "ipython3",
   "version": "3.5.2"
  }
 },
 "nbformat": 4,
 "nbformat_minor": 0
}
