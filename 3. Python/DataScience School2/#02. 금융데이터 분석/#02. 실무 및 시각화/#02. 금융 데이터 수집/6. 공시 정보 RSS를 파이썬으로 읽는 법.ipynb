{
 "cells": [
  {
   "cell_type": "markdown",
   "metadata": {},
   "source": [
    "# 공시 정보 RSS를 파이썬으로 읽는 법"
   ]
  },
  {
   "cell_type": "markdown",
   "metadata": {},
   "source": [
    "국내 상장기업의 보고서나 공시 정보는 https://dart.fss.or.kr 웹사이트에서 제공하고 있으며 전체 자료의 목록은 RSS(Really Simple Syndication) 프로토콜을 통해 제공하고 있다. 여기에서는 파이썬을 사용하여 공시 정보 RSS를 읽는 방법을 설명한다."
   ]
  },
  {
   "cell_type": "markdown",
   "metadata": {},
   "source": [
    "우선 공시 정보의 RSS 주소는 다음과 같다.\n",
    "\n",
    "* 최근 공시 종합: http://dart.fss.or.kr/api/todayRSS.xml (현재 작동하지 않음)\n",
    "* 회사별 공시 : http://dart.fss.or.kr/api/companyRSS.xml?crpCd=XXXXXX\n",
    "\n",
    "회사별 공시 주소에서 XXXXXX 위치에는 회사의 CRP 코드가 들어간다. CRP 코드를 별도로 검색하는 것은 불가능하고 dars 웹사이트의 \"기업개황\"에서 화사를 검색하면 결과 페이지에 회사별 공시 RSS 주소를 얻을 수 있는 링크를 제공한다.\n",
    "\n",
    "* https://dart.fss.or.kr/dsae001/main.do\n",
    "\n",
    "<img src=\"https://datascienceschool.net/upfiles/cc5cd84fdbe04bf6b82f37ee6155907c.png\">\n",
    "\n",
    "예를 들어 삼성전자의 공시 RSS 주소는 다음과 같다.\n",
    "\n",
    "* http://dart.fss.or.kr/api/companyRSS.xml?crpCd=00126380"
   ]
  },
  {
   "cell_type": "markdown",
   "metadata": {},
   "source": [
    "## feedparser 패키지"
   ]
  },
  {
   "cell_type": "markdown",
   "metadata": {},
   "source": [
    "파이썬에 RSS를 읽어주는 패키지로는 feedparser 패키지가 있다. `parser` 명령을 사용하면 RSS 파일을 파싱한다."
   ]
  },
  {
   "cell_type": "code",
   "execution_count": 31,
   "metadata": {
    "collapsed": true
   },
   "outputs": [],
   "source": [
    "import feedparser"
   ]
  },
  {
   "cell_type": "code",
   "execution_count": 32,
   "metadata": {
    "collapsed": true
   },
   "outputs": [],
   "source": [
    "url = \"http://dart.fss.or.kr/api/companyRSS.xml?crpCd=00126380\"\n",
    "d = feedparser.parse(url)"
   ]
  },
  {
   "cell_type": "markdown",
   "metadata": {},
   "source": [
    "파싱 결과는 `FeedParserDict` 자료형 객체에 저장된다. `FeedParserDict` 는 피드 정보를 담은 `feed` 속성과 개별적인 항목을 담은 `entries` 속성을 가진다."
   ]
  },
  {
   "cell_type": "code",
   "execution_count": 33,
   "metadata": {
    "collapsed": false
   },
   "outputs": [
    {
     "data": {
      "text/plain": [
       "feedparser.FeedParserDict"
      ]
     },
     "execution_count": 33,
     "metadata": {},
     "output_type": "execute_result"
    }
   ],
   "source": [
    "type(d)"
   ]
  },
  {
   "cell_type": "markdown",
   "metadata": {},
   "source": [
    "이 정보에는 한글이 섞여있다. 이런 자료형을 볼 때는 konply 패키지의 pprint 함수를 이용하면 편리하다."
   ]
  },
  {
   "cell_type": "code",
   "execution_count": 34,
   "metadata": {
    "collapsed": true
   },
   "outputs": [],
   "source": [
    "from konlpy.utils import pprint"
   ]
  },
  {
   "cell_type": "code",
   "execution_count": 35,
   "metadata": {
    "collapsed": false
   },
   "outputs": [
    {
     "name": "stdout",
     "output_type": "stream",
     "text": [
      "{'author': DART,\n",
      " 'author_detail': {'name': DART},\n",
      " 'authors': [{'name': DART}],\n",
      " 'language': ko,\n",
      " 'link': http://dart.fss.or.kr,\n",
      " 'links': [{'href': http://dart.fss.or.kr,\n",
      "            'rel': alternate,\n",
      "            'type': text/html}],\n",
      " 'published': Sun, 10 Jul 2016 05:19:31 GMT,\n",
      " 'published_parsed': time.struct_time(tm_year=2016, tm_mon=7, tm_mday=10, tm_hour=5, tm_min=19, tm_sec=31, tm_wday=6, tm_yday=192, tm_isdst=0),\n",
      " 'rights': DART,\n",
      " 'rights_detail': {'base': http://dart.fss.or.kr/api/companyRSS.xml?crpCd=00126380,\n",
      "                   'language': None,\n",
      "                   'type': text/plain,\n",
      "                   'value': DART},\n",
      " 'subtitle': DART : (유가)삼성전자의 공시 정보를 확인할 수 있습니다.,\n",
      " 'subtitle_detail': {'base': http://dart.fss.or.kr/api/companyRSS.xml?crpCd=00126380,\n",
      "                     'language': None,\n",
      "                     'type': text/html,\n",
      "                     'value': DART : (유가)삼성전자의 공시 정보를 확인할 수 있습니다.},\n",
      " 'title': DART : (유가)삼성전자의 공시,\n",
      " 'title_detail': {'base': http://dart.fss.or.kr/api/companyRSS.xml?crpCd=00126380,\n",
      "                  'language': None,\n",
      "                  'type': text/plain,\n",
      "                  'value': DART : (유가)삼성전자의 공시},\n",
      " 'updated': 2016-07-10T05:19:31Z,\n",
      " 'updated_parsed': time.struct_time(tm_year=2016, tm_mon=7, tm_mday=10, tm_hour=5, tm_min=19, tm_sec=31, tm_wday=6, tm_yday=192, tm_isdst=0)}\n"
     ]
    }
   ],
   "source": [
    "pprint(d.feed)"
   ]
  },
  {
   "cell_type": "code",
   "execution_count": 36,
   "metadata": {
    "collapsed": false
   },
   "outputs": [
    {
     "name": "stdout",
     "output_type": "stream",
     "text": [
      "[{'author': 삼성전자,\n",
      "  'author_detail': {'name': 삼성전자},\n",
      "  'authors': [{'name': 삼성전자}],\n",
      "  'guidislink': False,\n",
      "  'id': http://dart.fss.or.kr/api/link.jsp?rcpNo=20160707800438,\n",
      "  'link': http://dart.fss.or.kr/api/link.jsp?rcpNo=20160707800438,\n",
      "  'links': [{'href': http://dart.fss.or.kr/api/link.jsp?rcpNo=20160707800438,\n",
      "             'rel': alternate,\n",
      "             'type': text/html}],\n",
      "  'published': Thu, 07 Jul 2016 07:05:00 GMT,\n",
      "  'published_parsed': time.struct_time(tm_year=2016, tm_mon=7, tm_mday=7, tm_hour=7, tm_min=5, tm_sec=0, tm_wday=3, tm_yday=189, tm_isdst=0),\n",
      "  'title': (유가)삼성전자 - 기업설명회(IR)개최(안내공시),\n",
      "  'title_detail': {'base': http://dart.fss.or.kr/api/companyRSS.xml?crpCd=00126380,\n",
      "                   'language': None,\n",
      "                   'type': text/plain,\n",
      "                   'value': (유가)삼성전자 - 기업설명회(IR)개최(안내공시)},\n",
      "  'updated': 2016-07-07T07:05:00Z,\n",
      "  'updated_parsed': time.struct_time(tm_year=2016, tm_mon=7, tm_mday=7, tm_hour=7, tm_min=5, tm_sec=0, tm_wday=3, tm_yday=189, tm_isdst=0)},\n",
      " {'author': 지완구,\n",
      "  'author_detail': {'name': 지완구},\n",
      "  'authors': [{'name': 지완구}],\n",
      "  'guidislink': False,\n",
      "  'id': http://dart.fss.or.kr/api/link.jsp?rcpNo=20160707000087,\n",
      "  'link': http://dart.fss.or.kr/api/link.jsp?rcpNo=20160707000087,\n",
      "  'links': [{'href': http://dart.fss.or.kr/api/link.jsp?rcpNo=20160707000087,\n",
      "             'rel': alternate,\n",
      "             'type': text/html}],\n",
      "  'published': Thu, 07 Jul 2016 02:00:00 GMT,\n",
      "  'published_parsed': time.struct_time(tm_year=2016, tm_mon=7, tm_mday=7, tm_hour=2, tm_min=0, tm_sec=0, tm_wday=3, tm_yday=189, tm_isdst=0),\n",
      "  'title': (유가)삼성전자 - 임원ㆍ주요주주특정증권등소유상황보고서,\n",
      "  'title_detail': {'base': http://dart.fss.or.kr/api/companyRSS.xml?crpCd=00126380,\n",
      "                   'language': None,\n",
      "                   'type': text/plain,\n",
      "                   'value': (유가)삼성전자 - 임원ㆍ주요주주특정증권등소유상황보고서},\n",
      "  'updated': 2016-07-07T02:00:00Z,\n",
      "  'updated_parsed': time.struct_time(tm_year=2016, tm_mon=7, tm_mday=7, tm_hour=2, tm_min=0, tm_sec=0, tm_wday=3, tm_yday=189, tm_isdst=0)},\n",
      " {'author': 삼성전자,\n",
      "  'author_detail': {'name': 삼성전자},\n",
      "  'authors': [{'name': 삼성전자}],\n",
      "  'guidislink': False,\n",
      "  'id': http://dart.fss.or.kr/api/link.jsp?rcpNo=20160707800065,\n",
      "  'link': http://dart.fss.or.kr/api/link.jsp?rcpNo=20160707800065,\n",
      "  'links': [{'href': http://dart.fss.or.kr/api/link.jsp?rcpNo=20160707800065,\n",
      "             'rel': alternate,\n",
      "             'type': text/html}],\n",
      "  'published': Wed, 06 Jul 2016 23:30:00 GMT,\n",
      "  'published_parsed': time.struct_time(tm_year=2016, tm_mon=7, tm_mday=6, tm_hour=23, tm_min=30, tm_sec=0, tm_wday=2, tm_yday=188, tm_isdst=0),\n",
      "  'title': (유가)삼성전자 - 연결재무제표기준영업(잠정)실적(공정공시),\n",
      "  'title_detail': {'base': http://dart.fss.or.kr/api/companyRSS.xml?crpCd=00126380,\n",
      "                   'language': None,\n",
      "                   'type': text/plain,\n",
      "                   'value': (유가)삼성전자 - 연결재무제표기준영업(잠정)실적(공정공시)},\n",
      "  'updated': 2016-07-06T23:30:00Z,\n",
      "  'updated_parsed': time.struct_time(tm_year=2016, tm_mon=7, tm_mday=6, tm_hour=23, tm_min=30, tm_sec=0, tm_wday=2, tm_yday=188, tm_isdst=0)}]\n"
     ]
    }
   ],
   "source": [
    "pprint(d.entries)"
   ]
  },
  {
   "cell_type": "code",
   "execution_count": 37,
   "metadata": {
    "collapsed": false
   },
   "outputs": [
    {
     "name": "stdout",
     "output_type": "stream",
     "text": [
      "(유가)삼성전자 - 기업설명회(IR)개최(안내공시)\n"
     ]
    }
   ],
   "source": [
    "print(d.entries[0][\"title\"])"
   ]
  },
  {
   "cell_type": "markdown",
   "metadata": {},
   "source": [
    "여기에서 시간정보는 struct_time 자료형이고 이를 사용하기 편한 datetime 자료형으로 변환하려면 다음과 같이 mktime 명령과 fromtimestamp 명령을 사용한다."
   ]
  },
  {
   "cell_type": "code",
   "execution_count": 38,
   "metadata": {
    "collapsed": false
   },
   "outputs": [
    {
     "data": {
      "text/plain": [
       "time.struct_time(tm_year=2016, tm_mon=7, tm_mday=7, tm_hour=7, tm_min=5, tm_sec=0, tm_wday=3, tm_yday=189, tm_isdst=0)"
      ]
     },
     "execution_count": 38,
     "metadata": {},
     "output_type": "execute_result"
    }
   ],
   "source": [
    "d.entries[0][\"published_parsed\"]"
   ]
  },
  {
   "cell_type": "code",
   "execution_count": 39,
   "metadata": {
    "collapsed": false
   },
   "outputs": [
    {
     "data": {
      "text/plain": [
       "datetime.datetime(2016, 7, 7, 7, 5)"
      ]
     },
     "execution_count": 39,
     "metadata": {},
     "output_type": "execute_result"
    }
   ],
   "source": [
    "from time import mktime\n",
    "from datetime import datetime\n",
    "\n",
    "datetime.fromtimestamp(mktime(d.entries[0][\"published_parsed\"]))"
   ]
  },
  {
   "cell_type": "markdown",
   "metadata": {},
   "source": [
    "현재 DARTS에서 RSS로 제공하는 정보는 제한적이므로 좀 더 자유롭게 사용하려면 DARTS의 API를 사용한다."
   ]
  }
 ],
 "metadata": {
  "kernelspec": {
   "display_name": "Python [Root]",
   "language": "python",
   "name": "Python [Root]"
  },
  "language_info": {
   "codemirror_mode": {
    "name": "ipython",
    "version": 2
   },
   "file_extension": ".py",
   "mimetype": "text/x-python",
   "name": "python",
   "nbconvert_exporter": "python",
   "pygments_lexer": "ipython2",
   "version": "2.7.11"
  }
 },
 "nbformat": 4,
 "nbformat_minor": 0
}