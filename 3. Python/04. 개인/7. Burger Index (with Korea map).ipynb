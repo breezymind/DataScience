{
 "cells": [
  {
   "cell_type": "markdown",
   "metadata": {},
   "source": [
    "# \"버거 지수\"는 진짜 도시의 발전 수준을 반영할까?\n",
    " - 지도 그리기 관련 공부 중 <a href=\"http://nbviewer.jupyter.org/gist/hyeshik/cf9f3d7686e07eedbfda?revision=6\"> 참고 </a>\n",
    " - \"한 도시의 발전 수준은 (버거킹의 개수+맥도날드의 개수+KFC의 개수)/롯데리아의 개수를 계산하여 높게 나올수록 더 발전된 도시라고 할 수 있다\n",
    " - $\\xi=\\frac {B+M+K} {L}  $"
   ]
  },
  {
   "cell_type": "code",
   "execution_count": 1,
   "metadata": {
    "collapsed": true
   },
   "outputs": [],
   "source": [
    "import urllib.request\n",
    "import json\n",
    "import pandas as pd\n",
    "import bs4"
   ]
  },
  {
   "cell_type": "markdown",
   "metadata": {},
   "source": [
    "## 1. 각 브랜드 매장 데이터 \n",
    "### 1.1 버거킹 매장"
   ]
  },
  {
   "cell_type": "code",
   "execution_count": 3,
   "metadata": {
    "collapsed": true
   },
   "outputs": [],
   "source": [
    "response = urllib.request.urlopen('http://www.burgerking.co.kr/api/store/searchmap/empty/?areacd=')\n",
    "bgk_data = json.loads(response.read().decode('utf-8'))\n",
    "bgk_tbl = pd.DataFrame(bgk_data)"
   ]
  },
  {
   "cell_type": "code",
   "execution_count": 4,
   "metadata": {
    "collapsed": false
   },
   "outputs": [
    {
     "data": {
      "text/html": [
       "<div>\n",
       "<table border=\"1\" class=\"dataframe\">\n",
       "  <thead>\n",
       "    <tr style=\"text-align: right;\">\n",
       "      <th></th>\n",
       "      <th>AllHour</th>\n",
       "      <th>CloseCleaning</th>\n",
       "      <th>ClosePeakSeason</th>\n",
       "      <th>CloseWeekday</th>\n",
       "      <th>Delivery</th>\n",
       "      <th>DriveThrough</th>\n",
       "      <th>Morning</th>\n",
       "      <th>NewAddr</th>\n",
       "      <th>NewAddr2</th>\n",
       "      <th>OpenTime</th>\n",
       "      <th>PhoneNumber</th>\n",
       "      <th>PointX</th>\n",
       "      <th>PointY</th>\n",
       "      <th>StoreNM</th>\n",
       "      <th>StoreSQ</th>\n",
       "    </tr>\n",
       "  </thead>\n",
       "  <tbody>\n",
       "    <tr>\n",
       "      <th>0</th>\n",
       "      <td>N</td>\n",
       "      <td></td>\n",
       "      <td></td>\n",
       "      <td>22:00</td>\n",
       "      <td>Y</td>\n",
       "      <td>N</td>\n",
       "      <td>N</td>\n",
       "      <td>서울특별시 금천구 가산디지털1로</td>\n",
       "      <td>168 우림라이온스밸리 A동</td>\n",
       "      <td>09:00</td>\n",
       "      <td>02-853-0332</td>\n",
       "      <td>37.480896</td>\n",
       "      <td>126.882133</td>\n",
       "      <td>가산디지털점</td>\n",
       "      <td>1</td>\n",
       "    </tr>\n",
       "    <tr>\n",
       "      <th>1</th>\n",
       "      <td>N</td>\n",
       "      <td></td>\n",
       "      <td>/ 토: 10시 ~ 23시 / 일: 10시 ~ 22시</td>\n",
       "      <td>22시 /  금: 11시~23시</td>\n",
       "      <td>N</td>\n",
       "      <td>N</td>\n",
       "      <td>N</td>\n",
       "      <td>서울특별시 금천구 디지털로10길</td>\n",
       "      <td>9 HYHILL 6층</td>\n",
       "      <td>월~목: 11시</td>\n",
       "      <td>02-2136-9962</td>\n",
       "      <td>37.477620</td>\n",
       "      <td>126.889053</td>\n",
       "      <td>가산현대시티아울렛점</td>\n",
       "      <td>2</td>\n",
       "    </tr>\n",
       "    <tr>\n",
       "      <th>2</th>\n",
       "      <td>N</td>\n",
       "      <td></td>\n",
       "      <td></td>\n",
       "      <td>23:30</td>\n",
       "      <td>N</td>\n",
       "      <td>N</td>\n",
       "      <td>N</td>\n",
       "      <td>서울특별시 강서구 양천로</td>\n",
       "      <td>559 이마트3층 (가양동)</td>\n",
       "      <td>10:00</td>\n",
       "      <td>02-3664-0221</td>\n",
       "      <td>37.558193</td>\n",
       "      <td>126.861816</td>\n",
       "      <td>가양이마트점</td>\n",
       "      <td>3</td>\n",
       "    </tr>\n",
       "    <tr>\n",
       "      <th>3</th>\n",
       "      <td>N</td>\n",
       "      <td></td>\n",
       "      <td></td>\n",
       "      <td>23:00</td>\n",
       "      <td>Y</td>\n",
       "      <td>N</td>\n",
       "      <td>N</td>\n",
       "      <td>서울시 서대문구 북가좌동</td>\n",
       "      <td>487 성공타워 1층</td>\n",
       "      <td>09:00</td>\n",
       "      <td>02-303-0392</td>\n",
       "      <td>37.570650</td>\n",
       "      <td>126.912750</td>\n",
       "      <td>가재울뉴타운점</td>\n",
       "      <td>275</td>\n",
       "    </tr>\n",
       "    <tr>\n",
       "      <th>4</th>\n",
       "      <td>Y</td>\n",
       "      <td>Cleaning Day(Close): 매월 셋째주 월요일 02:00~08:00</td>\n",
       "      <td></td>\n",
       "      <td></td>\n",
       "      <td>N</td>\n",
       "      <td>N</td>\n",
       "      <td>Y</td>\n",
       "      <td>서울특별시 서초구 잠원로</td>\n",
       "      <td>69</td>\n",
       "      <td></td>\n",
       "      <td>02-595-9042</td>\n",
       "      <td>37.509400</td>\n",
       "      <td>127.007309</td>\n",
       "      <td>강남NC점</td>\n",
       "      <td>11</td>\n",
       "    </tr>\n",
       "  </tbody>\n",
       "</table>\n",
       "</div>"
      ],
      "text/plain": [
       "  AllHour                                CloseCleaning  \\\n",
       "0       N                                                \n",
       "1       N                                                \n",
       "2       N                                                \n",
       "3       N                                                \n",
       "4       Y  Cleaning Day(Close): 매월 셋째주 월요일 02:00~08:00   \n",
       "\n",
       "                 ClosePeakSeason        CloseWeekday Delivery DriveThrough  \\\n",
       "0                                              22:00        Y            N   \n",
       "1  / 토: 10시 ~ 23시 / 일: 10시 ~ 22시   22시 /  금: 11시~23시        N            N   \n",
       "2                                              23:30        N            N   \n",
       "3                                              23:00        Y            N   \n",
       "4                                                           N            N   \n",
       "\n",
       "  Morning             NewAddr         NewAddr2  OpenTime   PhoneNumber  \\\n",
       "0       N  서울특별시 금천구 가산디지털1로   168 우림라이온스밸리 A동     09:00   02-853-0332   \n",
       "1       N   서울특별시 금천구 디지털로10길      9 HYHILL 6층  월~목: 11시  02-2136-9962   \n",
       "2       N       서울특별시 강서구 양천로  559 이마트3층 (가양동)     10:00  02-3664-0221   \n",
       "3       N       서울시 서대문구 북가좌동      487 성공타워 1층     09:00   02-303-0392   \n",
       "4       Y       서울특별시 서초구 잠원로               69             02-595-9042   \n",
       "\n",
       "      PointX      PointY     StoreNM  StoreSQ  \n",
       "0  37.480896  126.882133      가산디지털점        1  \n",
       "1  37.477620  126.889053  가산현대시티아울렛점        2  \n",
       "2  37.558193  126.861816      가양이마트점        3  \n",
       "3  37.570650  126.912750     가재울뉴타운점      275  \n",
       "4  37.509400  127.007309       강남NC점       11  "
      ]
     },
     "execution_count": 4,
     "metadata": {},
     "output_type": "execute_result"
    }
   ],
   "source": [
    "bgk_tbl.head()"
   ]
  },
  {
   "cell_type": "code",
   "execution_count": 17,
   "metadata": {
    "collapsed": false
   },
   "outputs": [],
   "source": [
    "bgk_locs = pd.DataFrame(bgk_tbl['NewAddr'].apply(lambda x:x.split()[:2]).tolist(), columns=[\"d1\",\"d2\"])"
   ]
  },
  {
   "cell_type": "code",
   "execution_count": 19,
   "metadata": {
    "collapsed": false,
    "scrolled": false
   },
   "outputs": [
    {
     "data": {
      "text/html": [
       "<div>\n",
       "<table border=\"1\" class=\"dataframe\">\n",
       "  <thead>\n",
       "    <tr style=\"text-align: right;\">\n",
       "      <th></th>\n",
       "      <th>d1</th>\n",
       "      <th>d2</th>\n",
       "    </tr>\n",
       "  </thead>\n",
       "  <tbody>\n",
       "    <tr>\n",
       "      <th>0</th>\n",
       "      <td>서울특별시</td>\n",
       "      <td>금천구</td>\n",
       "    </tr>\n",
       "    <tr>\n",
       "      <th>1</th>\n",
       "      <td>서울특별시</td>\n",
       "      <td>금천구</td>\n",
       "    </tr>\n",
       "    <tr>\n",
       "      <th>2</th>\n",
       "      <td>서울특별시</td>\n",
       "      <td>강서구</td>\n",
       "    </tr>\n",
       "    <tr>\n",
       "      <th>3</th>\n",
       "      <td>서울시</td>\n",
       "      <td>서대문구</td>\n",
       "    </tr>\n",
       "    <tr>\n",
       "      <th>4</th>\n",
       "      <td>서울특별시</td>\n",
       "      <td>서초구</td>\n",
       "    </tr>\n",
       "  </tbody>\n",
       "</table>\n",
       "</div>"
      ],
      "text/plain": [
       "      d1    d2\n",
       "0  서울특별시   금천구\n",
       "1  서울특별시   금천구\n",
       "2  서울특별시   강서구\n",
       "3    서울시  서대문구\n",
       "4  서울특별시   서초구"
      ]
     },
     "execution_count": 19,
     "metadata": {},
     "output_type": "execute_result"
    }
   ],
   "source": [
    "bgk_locs.head()"
   ]
  },
  {
   "cell_type": "code",
   "execution_count": 20,
   "metadata": {
    "collapsed": false
   },
   "outputs": [
    {
     "data": {
      "text/plain": [
       "array(['서울특별시', '서울시', '경기도', '수원시', '안산시', '인천광역시', '인천시', '인천', '강릉시',\n",
       "       '강원도', '충청남도', '충남', '대전광역시', '대전시', '충청북도', '청주시', '세종특별자치시',\n",
       "       '부산광역시', '부산시', '울산광역시', '대구광역시', '대구시', '경북', '경상북도', '포항시',\n",
       "       '경상남도', '경남', '전라남도', '전남', '광주광역시', '전라북도', '전북', '제주특별자치도'], dtype=object)"
      ]
     },
     "execution_count": 20,
     "metadata": {},
     "output_type": "execute_result"
    }
   ],
   "source": [
    "bgk_locs['d1'].unique() # 광역시 이름 확인. 섞여서 있다."
   ]
  },
  {
   "cell_type": "code",
   "execution_count": 21,
   "metadata": {
    "collapsed": true
   },
   "outputs": [],
   "source": [
    "d1_aliases = \"\"\"서울시:서울특별시 충남:충청남도 강원:강원도 경기:경기도 충북:충청북도 경남:경상남도 경북:경상북도\n",
    "전남:전라남도 전북:전라북도 제주도:제주특별자치도 제주:제주특별자치도 대전시:대전광역시 대구시:대구광역시 인천시:인천광역시\n",
    "광주시:광주광역시 울산시:울산광역시\"\"\""
   ]
  },
  {
   "cell_type": "code",
   "execution_count": 32,
   "metadata": {
    "collapsed": false
   },
   "outputs": [],
   "source": [
    "d1_aliases = dict(aliasset.split(\":\") for aliasset in d1_aliases.split())"
   ]
  },
  {
   "cell_type": "code",
   "execution_count": 37,
   "metadata": {
    "collapsed": false
   },
   "outputs": [],
   "source": [
    "bgk_locs['d1'] = bgk_locs['d1'].apply(lambda v: d1_aliases.get(v, v))"
   ]
  },
  {
   "cell_type": "code",
   "execution_count": 39,
   "metadata": {
    "collapsed": false
   },
   "outputs": [
    {
     "data": {
      "text/plain": [
       "array(['서울특별시', '경기도', '수원시', '안산시', '인천광역시', '인천', '강릉시', '강원도', '충청남도',\n",
       "       '대전광역시', '충청북도', '청주시', '세종특별자치시', '부산광역시', '부산시', '울산광역시', '대구광역시',\n",
       "       '경상북도', '포항시', '경상남도', '전라남도', '광주광역시', '전라북도', '제주특별자치도'], dtype=object)"
      ]
     },
     "execution_count": 39,
     "metadata": {},
     "output_type": "execute_result"
    }
   ],
   "source": [
    "bgk_locs['d1'].unique()"
   ]
  },
  {
   "cell_type": "code",
   "execution_count": 44,
   "metadata": {
    "collapsed": true
   },
   "outputs": [],
   "source": [
    "d1_aliases2 = \"\"\"수원시:경기도 안산시:경기도 인천:인천광역시 강릉시:강원도 청주시:충청남도 부산시:부산광역시 포항시:경상북도\"\"\""
   ]
  },
  {
   "cell_type": "code",
   "execution_count": 45,
   "metadata": {
    "collapsed": false
   },
   "outputs": [],
   "source": [
    "d1_aliases2 = dict(aliasset.split(\":\") for aliasset in d1_aliases2.split())\n",
    "bgk_locs['d1'] = bgk_locs['d1'].apply(lambda v: d1_aliases2.get(v, v))"
   ]
  },
  {
   "cell_type": "code",
   "execution_count": 46,
   "metadata": {
    "collapsed": false
   },
   "outputs": [
    {
     "data": {
      "text/plain": [
       "array(['서울특별시', '경기도', '인천광역시', '강원도', '충청남도', '대전광역시', '충청북도', '세종특별자치시',\n",
       "       '부산광역시', '울산광역시', '대구광역시', '경상북도', '경상남도', '전라남도', '광주광역시', '전라북도',\n",
       "       '제주특별자치도'], dtype=object)"
      ]
     },
     "execution_count": 46,
     "metadata": {},
     "output_type": "execute_result"
    }
   ],
   "source": [
    "bgk_locs['d1'].unique()"
   ]
  },
  {
   "cell_type": "code",
   "execution_count": 47,
   "metadata": {
    "collapsed": false
   },
   "outputs": [
    {
     "data": {
      "text/plain": [
       "array(['금천구', '강서구', '서대문구', '서초구', '강남구', '광진구', '성북구', '마포구', '관악구',\n",
       "       '구로구', '용산구', '강동구', '동작구', '영등포구', '중구', '양천구', '송파구', '강북구',\n",
       "       '은평구', '안산시', '도봉구', '안암로', '종로구', '중랑구', '동대문구', '고양시', '과천시',\n",
       "       '수원시', '광명시', '광주시', '구리시', '파주시', '김포시', '동두천시', '화성시', '부천시',\n",
       "       '성남시', '군포시', '영통구', '용인시', '단원구', '여주군', '오산시', '의정부시', '이천시',\n",
       "       '안양시', '평택시', '하남시', '남구', '부평구', '연수구', '송도국제대로', '계양구', '남동구',\n",
       "       '서구', '하슬라로', '홍천군', '속초시', '원주시', '춘천시', '당진시', '서산시', '아산시',\n",
       "       '천안시', '유성구', '동구', '청주시', '흥덕구', '청원군', '충주시', None, '사상구', '연제구',\n",
       "       '부산진구', '해운대구', '수성구', '북구', '달서구', '달성군', '상주시', '경산시', '경주시',\n",
       "       '구미시', '김천시', '안동시', '포항시', '거제시', '창원시', '김해시', '진주시', '광양시',\n",
       "       '나주시', '목포시', '순천시', '여수시', '무안군', '광산구', '군산시', '익산시', '전주시',\n",
       "       '정읍시', '제주시'], dtype=object)"
      ]
     },
     "execution_count": 47,
     "metadata": {},
     "output_type": "execute_result"
    }
   ],
   "source": [
    "bgk_locs['d2'].unique()"
   ]
  },
  {
   "cell_type": "code",
   "execution_count": 63,
   "metadata": {
    "collapsed": false,
    "scrolled": false
   },
   "outputs": [
    {
     "data": {
      "text/plain": [
       "서울특별시 강남구    19\n",
       "경기도 수원시      11\n",
       "서울특별시 서초구     9\n",
       "경기도 성남시       7\n",
       "서울특별시 중구      7\n",
       "dtype: int64"
      ]
     },
     "execution_count": 63,
     "metadata": {},
     "output_type": "execute_result"
    }
   ],
   "source": [
    "#B = pd.DataFrame({'cnt':bgk_locs.groupby(['d1','d2']).size()}).reset_index()\n",
    "B = (bgk_locs['d1'] + ' ' + bgk_locs['d2']).value_counts()\n",
    "B.head()"
   ]
  },
  {
   "cell_type": "markdown",
   "metadata": {},
   "source": [
    "## 1.2 맥도날드 \n",
    " - 여기부터 코드가 현재는 에러난다.. 새로 짜기 귀찮은데... 나중에 이코드는 다시 해야지.."
   ]
  },
  {
   "cell_type": "code",
   "execution_count": 64,
   "metadata": {
    "collapsed": true
   },
   "outputs": [],
   "source": [
    "#MCDONALDS_URL = 'http://www.mcdonalds.co.kr/www/kor/findus/district.do?sSearch_yn=Y&skey=2&pageIndex={page}&skeyword={location}'"
   ]
  },
  {
   "cell_type": "code",
   "execution_count": 74,
   "metadata": {
    "collapsed": true
   },
   "outputs": [],
   "source": [
    "def search_mcdonalds_stores_one_page(location, page):\n",
    "    response = urllib.request.urlopen(\n",
    "        MCDONALDS_URL.format(location=urllib.parse.quote(location.encode('utf-8')), page=page))\n",
    "    mcd_data = response.read().decode('utf-8')\n",
    "    soup = bs4.BeautifulSoup(mcd_data)\n",
    "    \n",
    "    ret = []\n",
    "    for storetag in soup.findAll('dl', attrs={'class': 'clearFix'}):\n",
    "        storename = storetag.findAll('a')[0].contents[-1].strip()\n",
    "        storeaddr = storetag.findAll('dd', attrs={'class': 'road'})[0].contents[0].split(']')[1]\n",
    "        storeaddr_district = storeaddr.split()[:2]\n",
    "        ret.append([storename] + storeaddr_district)\n",
    "\n",
    "    return pd.DataFrame(ret, columns=('store', 'd1', 'd2')) if ret else None\n",
    "\n",
    "# 여러 페이지를 쭉 찾아서 안 나올 때 까지 합친다.\n",
    "def search_mcdonalds_stores(location):\n",
    "    from itertools import count\n",
    "    returns = \"\"\n",
    "    try:\n",
    "        found = []\n",
    "        for pg in count():\n",
    "            foundinpage = search_mcdonalds_stores_one_page(location, pg+1)\n",
    "            if foundinpage is None:\n",
    "                break\n",
    "            found.append(foundinpage)\n",
    "        \n",
    "        returns = pd.concat(found)\n",
    "    except:\n",
    "        print(location + \"없네\")\n",
    "\n",
    "    return returns"
   ]
  },
  {
   "cell_type": "markdown",
   "metadata": {},
   "source": [
    " - 버거킹에서 나온 시도명으로 이용"
   ]
  }
 ],
 "metadata": {
  "kernelspec": {
   "display_name": "Python 3",
   "language": "python",
   "name": "python3"
  },
  "language_info": {
   "codemirror_mode": {
    "name": "ipython",
    "version": 3
   },
   "file_extension": ".py",
   "mimetype": "text/x-python",
   "name": "python",
   "nbconvert_exporter": "python",
   "pygments_lexer": "ipython3",
   "version": "3.5.2"
  }
 },
 "nbformat": 4,
 "nbformat_minor": 2
}
