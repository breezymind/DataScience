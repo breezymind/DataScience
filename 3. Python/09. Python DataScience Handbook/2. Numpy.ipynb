{
 "cells": [
  {
   "cell_type": "markdown",
   "metadata": {},
   "source": [
    "# Numpy\n",
    " - Numerical Python 의 약자로 수치 관련 라이브러리다.\n",
    " - 효과적으로 수치 배열을 사용하기 위해서는 Numpy의 사용법을 익혀야 하는 것이 당연한 일이다. "
   ]
  },
  {
   "cell_type": "code",
   "execution_count": 1,
   "metadata": {
    "collapsed": true
   },
   "outputs": [],
   "source": [
    "import numpy as np "
   ]
  },
  {
   "cell_type": "markdown",
   "metadata": {},
   "source": [
    "## 파이썬 데이터 타입 이해하기 "
   ]
  },
  {
   "cell_type": "markdown",
   "metadata": {},
   "source": [
    "\n",
    "C언어 \n",
    "```C\n",
    "int result = 0;\n",
    "for(int i=0; i <100; i++){\n",
    "    result += i;\n",
    "}\n",
    "```\n",
    "\n",
    "Python\n",
    "\n",
    "```Python\n",
    "result = 0\n",
    "for i in range(0,100):\n",
    "    result += i\n",
    "```\n",
    "\n",
    "두 언어의 차이점은 명시적으로 데이터 타입을 지정하는 것과 자동으로 형성하는 것이다. \n",
    "물론, 명시적으로 한다면 속도면에서는 더욱 빠르게 수행 될 것이다. \n",
    "\n",
    "C\n",
    "```C\n",
    "int c = 1\n",
    "c = 'X' //Error\n",
    "```\n",
    "Python\n",
    "```Python\n",
    "c = 1\n",
    "c = 'X' //Success\n",
    "```"
   ]
  },
  {
   "cell_type": "markdown",
   "metadata": {},
   "source": [
    "### 파이썬 정수는 정수가 아니다.\n",
    " 표준 파이썬은 C로 구현되어있다. 이 말은 곧 모든 파이썬 객체가 기ㅡ 값분만 아니라 다른 정보까지 포함하는 똑똑하게 위장한 C 구조체 라는 뜻이다. \n",
    " <br>x = 10000 일때, 단순히 10000을 표현하는 정수 값이 아니라 복합적인 구조체이다."
   ]
  },
  {
   "cell_type": "markdown",
   "metadata": {},
   "source": [
    "### 파이썬의 리스트는 리스트 이상이다.\n",
    " - 여러 개의 파이썬 객체를 담은 파이썬 자료구조를 사용할 때 사용하는 표준 컨테이너는 리스트다. "
   ]
  },
  {
   "cell_type": "code",
   "execution_count": 2,
   "metadata": {},
   "outputs": [
    {
     "data": {
      "text/plain": [
       "[0, 1, 2, 3, 4, 5, 6, 7, 8, 9]"
      ]
     },
     "execution_count": 2,
     "metadata": {},
     "output_type": "execute_result"
    }
   ],
   "source": [
    "L = list(range(10))\n",
    "L"
   ]
  },
  {
   "cell_type": "code",
   "execution_count": 3,
   "metadata": {},
   "outputs": [
    {
     "data": {
      "text/plain": [
       "int"
      ]
     },
     "execution_count": 3,
     "metadata": {},
     "output_type": "execute_result"
    }
   ],
   "source": [
    "type(L[0])"
   ]
  },
  {
   "cell_type": "code",
   "execution_count": 4,
   "metadata": {},
   "outputs": [
    {
     "data": {
      "text/plain": [
       "['0', '1', '2', '3', '4', '5', '6', '7', '8', '9']"
      ]
     },
     "execution_count": 4,
     "metadata": {},
     "output_type": "execute_result"
    }
   ],
   "source": [
    "L2 = [str(c) for c in L]\n",
    "L2"
   ]
  },
  {
   "cell_type": "code",
   "execution_count": 5,
   "metadata": {},
   "outputs": [
    {
     "data": {
      "text/plain": [
       "str"
      ]
     },
     "execution_count": 5,
     "metadata": {},
     "output_type": "execute_result"
    }
   ],
   "source": [
    "type(L2[0])"
   ]
  },
  {
   "cell_type": "markdown",
   "metadata": {},
   "source": [
    " - 동적 타이핑 덕분에 서로 다른 데이터 타입의 요소를 담는 리스트를 만들 수 있다."
   ]
  },
  {
   "cell_type": "code",
   "execution_count": 6,
   "metadata": {},
   "outputs": [
    {
     "data": {
      "text/plain": [
       "[True, '2', 3.0, 4]"
      ]
     },
     "execution_count": 6,
     "metadata": {},
     "output_type": "execute_result"
    }
   ],
   "source": [
    "L3 = [True, \"2\", 3.0, 4]\n",
    "L3"
   ]
  },
  {
   "cell_type": "code",
   "execution_count": 7,
   "metadata": {},
   "outputs": [
    {
     "data": {
      "text/plain": [
       "[bool, str, float, int]"
      ]
     },
     "execution_count": 7,
     "metadata": {},
     "output_type": "execute_result"
    }
   ],
   "source": [
    "[type(x) for x in L3]"
   ]
  },
  {
   "cell_type": "markdown",
   "metadata": {},
   "source": [
    "위와 같은 기본 컨데이터 리스트와 Numpy List는 동적 타입리스트와 고정 타입(numpy) 배열의 차이로 나뉘어 진다. \n",
    " - 동적타입의 경우 모든 데이터의 타입 정보, 참조 횟수, 기타 정보등을 모두 포함해야한다.\n",
    " - 고정 타입의 경우 이 정보가 대부분 불필요하게 중복되므로 고정 타입 배열에 데이터를 저장하는 것이 더욱 효율적이다."
   ]
  },
  {
   "cell_type": "code",
   "execution_count": null,
   "metadata": {
    "collapsed": true
   },
   "outputs": [],
   "source": []
  }
 ],
 "metadata": {
  "kernelspec": {
   "display_name": "py35",
   "language": "python",
   "name": "py35"
  },
  "language_info": {
   "codemirror_mode": {
    "name": "ipython",
    "version": 3
   },
   "file_extension": ".py",
   "mimetype": "text/x-python",
   "name": "python",
   "nbconvert_exporter": "python",
   "pygments_lexer": "ipython3",
   "version": "3.5.3"
  }
 },
 "nbformat": 4,
 "nbformat_minor": 2
}
