{
 "cells": [
  {
   "cell_type": "markdown",
   "metadata": {},
   "source": [
    "# DataFrame 이리저리 조작하기"
   ]
  },
  {
   "cell_type": "code",
   "execution_count": 2,
   "metadata": {
    "collapsed": true
   },
   "outputs": [],
   "source": [
    "import numpy as np\n",
    "import pandas as pd"
   ]
  },
  {
   "cell_type": "code",
   "execution_count": 4,
   "metadata": {
    "collapsed": false
   },
   "outputs": [
    {
     "data": {
      "text/html": [
       "<div>\n",
       "<table border=\"1\" class=\"dataframe\">\n",
       "  <thead>\n",
       "    <tr style=\"text-align: right;\">\n",
       "      <th></th>\n",
       "      <th>0</th>\n",
       "      <th>1</th>\n",
       "      <th>2</th>\n",
       "      <th>3</th>\n",
       "    </tr>\n",
       "  </thead>\n",
       "  <tbody>\n",
       "    <tr>\n",
       "      <th>0</th>\n",
       "      <td>-0.920283</td>\n",
       "      <td>1.105762</td>\n",
       "      <td>0.016225</td>\n",
       "      <td>1.121381</td>\n",
       "    </tr>\n",
       "    <tr>\n",
       "      <th>1</th>\n",
       "      <td>0.253941</td>\n",
       "      <td>-1.311256</td>\n",
       "      <td>0.194469</td>\n",
       "      <td>0.064023</td>\n",
       "    </tr>\n",
       "    <tr>\n",
       "      <th>2</th>\n",
       "      <td>-1.790089</td>\n",
       "      <td>-0.461627</td>\n",
       "      <td>1.214021</td>\n",
       "      <td>-0.053560</td>\n",
       "    </tr>\n",
       "    <tr>\n",
       "      <th>3</th>\n",
       "      <td>-0.223895</td>\n",
       "      <td>1.133097</td>\n",
       "      <td>0.317120</td>\n",
       "      <td>-0.600250</td>\n",
       "    </tr>\n",
       "    <tr>\n",
       "      <th>4</th>\n",
       "      <td>-1.511891</td>\n",
       "      <td>0.039647</td>\n",
       "      <td>0.704621</td>\n",
       "      <td>2.105960</td>\n",
       "    </tr>\n",
       "    <tr>\n",
       "      <th>5</th>\n",
       "      <td>-0.409408</td>\n",
       "      <td>-1.672791</td>\n",
       "      <td>-1.297271</td>\n",
       "      <td>0.921614</td>\n",
       "    </tr>\n",
       "  </tbody>\n",
       "</table>\n",
       "</div>"
      ],
      "text/plain": [
       "          0         1         2         3\n",
       "0 -0.920283  1.105762  0.016225  1.121381\n",
       "1  0.253941 -1.311256  0.194469  0.064023\n",
       "2 -1.790089 -0.461627  1.214021 -0.053560\n",
       "3 -0.223895  1.133097  0.317120 -0.600250\n",
       "4 -1.511891  0.039647  0.704621  2.105960\n",
       "5 -0.409408 -1.672791 -1.297271  0.921614"
      ]
     },
     "execution_count": 4,
     "metadata": {},
     "output_type": "execute_result"
    }
   ],
   "source": [
    "df = pd.DataFrame(np.random.randn(6,4))\n",
    "df"
   ]
  },
  {
   "cell_type": "code",
   "execution_count": 5,
   "metadata": {
    "collapsed": false
   },
   "outputs": [
    {
     "data": {
      "text/html": [
       "<div>\n",
       "<table border=\"1\" class=\"dataframe\">\n",
       "  <thead>\n",
       "    <tr style=\"text-align: right;\">\n",
       "      <th></th>\n",
       "      <th>A</th>\n",
       "      <th>B</th>\n",
       "      <th>C</th>\n",
       "      <th>D</th>\n",
       "    </tr>\n",
       "  </thead>\n",
       "  <tbody>\n",
       "    <tr>\n",
       "      <th>2016-07-01</th>\n",
       "      <td>-0.920283</td>\n",
       "      <td>1.105762</td>\n",
       "      <td>0.016225</td>\n",
       "      <td>1.121381</td>\n",
       "    </tr>\n",
       "    <tr>\n",
       "      <th>2016-07-02</th>\n",
       "      <td>0.253941</td>\n",
       "      <td>-1.311256</td>\n",
       "      <td>0.194469</td>\n",
       "      <td>0.064023</td>\n",
       "    </tr>\n",
       "    <tr>\n",
       "      <th>2016-07-03</th>\n",
       "      <td>-1.790089</td>\n",
       "      <td>-0.461627</td>\n",
       "      <td>1.214021</td>\n",
       "      <td>-0.053560</td>\n",
       "    </tr>\n",
       "    <tr>\n",
       "      <th>2016-07-04</th>\n",
       "      <td>-0.223895</td>\n",
       "      <td>1.133097</td>\n",
       "      <td>0.317120</td>\n",
       "      <td>-0.600250</td>\n",
       "    </tr>\n",
       "    <tr>\n",
       "      <th>2016-07-05</th>\n",
       "      <td>-1.511891</td>\n",
       "      <td>0.039647</td>\n",
       "      <td>0.704621</td>\n",
       "      <td>2.105960</td>\n",
       "    </tr>\n",
       "    <tr>\n",
       "      <th>2016-07-06</th>\n",
       "      <td>-0.409408</td>\n",
       "      <td>-1.672791</td>\n",
       "      <td>-1.297271</td>\n",
       "      <td>0.921614</td>\n",
       "    </tr>\n",
       "  </tbody>\n",
       "</table>\n",
       "</div>"
      ],
      "text/plain": [
       "                   A         B         C         D\n",
       "2016-07-01 -0.920283  1.105762  0.016225  1.121381\n",
       "2016-07-02  0.253941 -1.311256  0.194469  0.064023\n",
       "2016-07-03 -1.790089 -0.461627  1.214021 -0.053560\n",
       "2016-07-04 -0.223895  1.133097  0.317120 -0.600250\n",
       "2016-07-05 -1.511891  0.039647  0.704621  2.105960\n",
       "2016-07-06 -0.409408 -1.672791 -1.297271  0.921614"
      ]
     },
     "execution_count": 5,
     "metadata": {},
     "output_type": "execute_result"
    }
   ],
   "source": [
    "df.columns = [\"A\",\"B\",\"C\",\"D\"]\n",
    "df.index = pd.date_range(\"20160701\",periods=6)\n",
    "df"
   ]
  },
  {
   "cell_type": "code",
   "execution_count": 7,
   "metadata": {
    "collapsed": false
   },
   "outputs": [
    {
     "data": {
      "text/plain": [
       "DatetimeIndex(['2016-07-01', '2016-07-02', '2016-07-03', '2016-07-04',\n",
       "               '2016-07-05', '2016-07-06'],\n",
       "              dtype='datetime64[ns]', freq='D')"
      ]
     },
     "execution_count": 7,
     "metadata": {},
     "output_type": "execute_result"
    }
   ],
   "source": [
    "df.index"
   ]
  },
  {
   "cell_type": "code",
   "execution_count": 8,
   "metadata": {
    "collapsed": false
   },
   "outputs": [
    {
     "data": {
      "text/html": [
       "<div>\n",
       "<table border=\"1\" class=\"dataframe\">\n",
       "  <thead>\n",
       "    <tr style=\"text-align: right;\">\n",
       "      <th></th>\n",
       "      <th>A</th>\n",
       "      <th>B</th>\n",
       "      <th>C</th>\n",
       "      <th>D</th>\n",
       "      <th>F</th>\n",
       "    </tr>\n",
       "  </thead>\n",
       "  <tbody>\n",
       "    <tr>\n",
       "      <th>2016-07-01</th>\n",
       "      <td>-0.920283</td>\n",
       "      <td>1.105762</td>\n",
       "      <td>0.016225</td>\n",
       "      <td>1.121381</td>\n",
       "      <td>1.0</td>\n",
       "    </tr>\n",
       "    <tr>\n",
       "      <th>2016-07-02</th>\n",
       "      <td>0.253941</td>\n",
       "      <td>-1.311256</td>\n",
       "      <td>0.194469</td>\n",
       "      <td>0.064023</td>\n",
       "      <td>NaN</td>\n",
       "    </tr>\n",
       "    <tr>\n",
       "      <th>2016-07-03</th>\n",
       "      <td>-1.790089</td>\n",
       "      <td>-0.461627</td>\n",
       "      <td>1.214021</td>\n",
       "      <td>-0.053560</td>\n",
       "      <td>3.5</td>\n",
       "    </tr>\n",
       "    <tr>\n",
       "      <th>2016-07-04</th>\n",
       "      <td>-0.223895</td>\n",
       "      <td>1.133097</td>\n",
       "      <td>0.317120</td>\n",
       "      <td>-0.600250</td>\n",
       "      <td>6.1</td>\n",
       "    </tr>\n",
       "    <tr>\n",
       "      <th>2016-07-05</th>\n",
       "      <td>-1.511891</td>\n",
       "      <td>0.039647</td>\n",
       "      <td>0.704621</td>\n",
       "      <td>2.105960</td>\n",
       "      <td>NaN</td>\n",
       "    </tr>\n",
       "    <tr>\n",
       "      <th>2016-07-06</th>\n",
       "      <td>-0.409408</td>\n",
       "      <td>-1.672791</td>\n",
       "      <td>-1.297271</td>\n",
       "      <td>0.921614</td>\n",
       "      <td>7.0</td>\n",
       "    </tr>\n",
       "  </tbody>\n",
       "</table>\n",
       "</div>"
      ],
      "text/plain": [
       "                   A         B         C         D    F\n",
       "2016-07-01 -0.920283  1.105762  0.016225  1.121381  1.0\n",
       "2016-07-02  0.253941 -1.311256  0.194469  0.064023  NaN\n",
       "2016-07-03 -1.790089 -0.461627  1.214021 -0.053560  3.5\n",
       "2016-07-04 -0.223895  1.133097  0.317120 -0.600250  6.1\n",
       "2016-07-05 -1.511891  0.039647  0.704621  2.105960  NaN\n",
       "2016-07-06 -0.409408 -1.672791 -1.297271  0.921614  7.0"
      ]
     },
     "execution_count": 8,
     "metadata": {},
     "output_type": "execute_result"
    }
   ],
   "source": [
    "df[\"F\"] = [1.0, np.nan, 3.5, 6.1, np.nan, 7.0]\n",
    "df"
   ]
  },
  {
   "cell_type": "markdown",
   "metadata": {},
   "source": [
    "## dropna \n",
    " - how 를 통해 삭제 방법을 선택한다\n",
    " - how = any를 할 경우 뭐라도 하나가 NaN는 그 행을 삭제 "
   ]
  },
  {
   "cell_type": "code",
   "execution_count": 10,
   "metadata": {
    "collapsed": false
   },
   "outputs": [
    {
     "data": {
      "text/html": [
       "<div>\n",
       "<table border=\"1\" class=\"dataframe\">\n",
       "  <thead>\n",
       "    <tr style=\"text-align: right;\">\n",
       "      <th></th>\n",
       "      <th>A</th>\n",
       "      <th>B</th>\n",
       "      <th>C</th>\n",
       "      <th>D</th>\n",
       "      <th>F</th>\n",
       "    </tr>\n",
       "  </thead>\n",
       "  <tbody>\n",
       "    <tr>\n",
       "      <th>2016-07-01</th>\n",
       "      <td>-0.920283</td>\n",
       "      <td>1.105762</td>\n",
       "      <td>0.016225</td>\n",
       "      <td>1.121381</td>\n",
       "      <td>1.0</td>\n",
       "    </tr>\n",
       "    <tr>\n",
       "      <th>2016-07-03</th>\n",
       "      <td>-1.790089</td>\n",
       "      <td>-0.461627</td>\n",
       "      <td>1.214021</td>\n",
       "      <td>-0.053560</td>\n",
       "      <td>3.5</td>\n",
       "    </tr>\n",
       "    <tr>\n",
       "      <th>2016-07-04</th>\n",
       "      <td>-0.223895</td>\n",
       "      <td>1.133097</td>\n",
       "      <td>0.317120</td>\n",
       "      <td>-0.600250</td>\n",
       "      <td>6.1</td>\n",
       "    </tr>\n",
       "    <tr>\n",
       "      <th>2016-07-06</th>\n",
       "      <td>-0.409408</td>\n",
       "      <td>-1.672791</td>\n",
       "      <td>-1.297271</td>\n",
       "      <td>0.921614</td>\n",
       "      <td>7.0</td>\n",
       "    </tr>\n",
       "  </tbody>\n",
       "</table>\n",
       "</div>"
      ],
      "text/plain": [
       "                   A         B         C         D    F\n",
       "2016-07-01 -0.920283  1.105762  0.016225  1.121381  1.0\n",
       "2016-07-03 -1.790089 -0.461627  1.214021 -0.053560  3.5\n",
       "2016-07-04 -0.223895  1.133097  0.317120 -0.600250  6.1\n",
       "2016-07-06 -0.409408 -1.672791 -1.297271  0.921614  7.0"
      ]
     },
     "execution_count": 10,
     "metadata": {},
     "output_type": "execute_result"
    }
   ],
   "source": [
    "df.dropna(how=\"any\")"
   ]
  },
  {
   "cell_type": "markdown",
   "metadata": {},
   "source": [
    " - how = all \n",
    " - 전체가 NaN일 경우 제거 "
   ]
  },
  {
   "cell_type": "code",
   "execution_count": 12,
   "metadata": {
    "collapsed": false
   },
   "outputs": [
    {
     "data": {
      "text/html": [
       "<div>\n",
       "<table border=\"1\" class=\"dataframe\">\n",
       "  <thead>\n",
       "    <tr style=\"text-align: right;\">\n",
       "      <th></th>\n",
       "      <th>A</th>\n",
       "      <th>B</th>\n",
       "      <th>C</th>\n",
       "      <th>D</th>\n",
       "      <th>F</th>\n",
       "    </tr>\n",
       "  </thead>\n",
       "  <tbody>\n",
       "    <tr>\n",
       "      <th>2016-07-01</th>\n",
       "      <td>-0.920283</td>\n",
       "      <td>1.105762</td>\n",
       "      <td>0.016225</td>\n",
       "      <td>1.121381</td>\n",
       "      <td>1.0</td>\n",
       "    </tr>\n",
       "    <tr>\n",
       "      <th>2016-07-02</th>\n",
       "      <td>0.253941</td>\n",
       "      <td>-1.311256</td>\n",
       "      <td>0.194469</td>\n",
       "      <td>0.064023</td>\n",
       "      <td>NaN</td>\n",
       "    </tr>\n",
       "    <tr>\n",
       "      <th>2016-07-03</th>\n",
       "      <td>-1.790089</td>\n",
       "      <td>-0.461627</td>\n",
       "      <td>1.214021</td>\n",
       "      <td>-0.053560</td>\n",
       "      <td>3.5</td>\n",
       "    </tr>\n",
       "    <tr>\n",
       "      <th>2016-07-04</th>\n",
       "      <td>-0.223895</td>\n",
       "      <td>1.133097</td>\n",
       "      <td>0.317120</td>\n",
       "      <td>-0.600250</td>\n",
       "      <td>6.1</td>\n",
       "    </tr>\n",
       "    <tr>\n",
       "      <th>2016-07-05</th>\n",
       "      <td>-1.511891</td>\n",
       "      <td>0.039647</td>\n",
       "      <td>0.704621</td>\n",
       "      <td>2.105960</td>\n",
       "      <td>NaN</td>\n",
       "    </tr>\n",
       "    <tr>\n",
       "      <th>2016-07-06</th>\n",
       "      <td>-0.409408</td>\n",
       "      <td>-1.672791</td>\n",
       "      <td>-1.297271</td>\n",
       "      <td>0.921614</td>\n",
       "      <td>7.0</td>\n",
       "    </tr>\n",
       "  </tbody>\n",
       "</table>\n",
       "</div>"
      ],
      "text/plain": [
       "                   A         B         C         D    F\n",
       "2016-07-01 -0.920283  1.105762  0.016225  1.121381  1.0\n",
       "2016-07-02  0.253941 -1.311256  0.194469  0.064023  NaN\n",
       "2016-07-03 -1.790089 -0.461627  1.214021 -0.053560  3.5\n",
       "2016-07-04 -0.223895  1.133097  0.317120 -0.600250  6.1\n",
       "2016-07-05 -1.511891  0.039647  0.704621  2.105960  NaN\n",
       "2016-07-06 -0.409408 -1.672791 -1.297271  0.921614  7.0"
      ]
     },
     "execution_count": 12,
     "metadata": {},
     "output_type": "execute_result"
    }
   ],
   "source": [
    "df.dropna(how=\"all\")"
   ]
  },
  {
   "cell_type": "markdown",
   "metadata": {},
   "source": [
    "## fillna\n",
    " - Na 값에 해당 값을 넣는다. \n",
    " - 해당 DF에 들어간 것은 아니다. "
   ]
  },
  {
   "cell_type": "code",
   "execution_count": 16,
   "metadata": {
    "collapsed": false
   },
   "outputs": [
    {
     "data": {
      "text/html": [
       "<div>\n",
       "<table border=\"1\" class=\"dataframe\">\n",
       "  <thead>\n",
       "    <tr style=\"text-align: right;\">\n",
       "      <th></th>\n",
       "      <th>A</th>\n",
       "      <th>B</th>\n",
       "      <th>C</th>\n",
       "      <th>D</th>\n",
       "      <th>F</th>\n",
       "    </tr>\n",
       "  </thead>\n",
       "  <tbody>\n",
       "    <tr>\n",
       "      <th>2016-07-01</th>\n",
       "      <td>-0.920283</td>\n",
       "      <td>1.105762</td>\n",
       "      <td>0.016225</td>\n",
       "      <td>1.121381</td>\n",
       "      <td>1.0</td>\n",
       "    </tr>\n",
       "    <tr>\n",
       "      <th>2016-07-02</th>\n",
       "      <td>0.253941</td>\n",
       "      <td>-1.311256</td>\n",
       "      <td>0.194469</td>\n",
       "      <td>0.064023</td>\n",
       "      <td>5.0</td>\n",
       "    </tr>\n",
       "    <tr>\n",
       "      <th>2016-07-03</th>\n",
       "      <td>-1.790089</td>\n",
       "      <td>-0.461627</td>\n",
       "      <td>1.214021</td>\n",
       "      <td>-0.053560</td>\n",
       "      <td>3.5</td>\n",
       "    </tr>\n",
       "    <tr>\n",
       "      <th>2016-07-04</th>\n",
       "      <td>-0.223895</td>\n",
       "      <td>1.133097</td>\n",
       "      <td>0.317120</td>\n",
       "      <td>-0.600250</td>\n",
       "      <td>6.1</td>\n",
       "    </tr>\n",
       "    <tr>\n",
       "      <th>2016-07-05</th>\n",
       "      <td>-1.511891</td>\n",
       "      <td>0.039647</td>\n",
       "      <td>0.704621</td>\n",
       "      <td>2.105960</td>\n",
       "      <td>5.0</td>\n",
       "    </tr>\n",
       "    <tr>\n",
       "      <th>2016-07-06</th>\n",
       "      <td>-0.409408</td>\n",
       "      <td>-1.672791</td>\n",
       "      <td>-1.297271</td>\n",
       "      <td>0.921614</td>\n",
       "      <td>7.0</td>\n",
       "    </tr>\n",
       "  </tbody>\n",
       "</table>\n",
       "</div>"
      ],
      "text/plain": [
       "                   A         B         C         D    F\n",
       "2016-07-01 -0.920283  1.105762  0.016225  1.121381  1.0\n",
       "2016-07-02  0.253941 -1.311256  0.194469  0.064023  5.0\n",
       "2016-07-03 -1.790089 -0.461627  1.214021 -0.053560  3.5\n",
       "2016-07-04 -0.223895  1.133097  0.317120 -0.600250  6.1\n",
       "2016-07-05 -1.511891  0.039647  0.704621  2.105960  5.0\n",
       "2016-07-06 -0.409408 -1.672791 -1.297271  0.921614  7.0"
      ]
     },
     "execution_count": 16,
     "metadata": {},
     "output_type": "execute_result"
    }
   ],
   "source": [
    "df.fillna(value=5.0)"
   ]
  },
  {
   "cell_type": "code",
   "execution_count": 18,
   "metadata": {
    "collapsed": false
   },
   "outputs": [
    {
     "data": {
      "text/html": [
       "<div>\n",
       "<table border=\"1\" class=\"dataframe\">\n",
       "  <thead>\n",
       "    <tr style=\"text-align: right;\">\n",
       "      <th></th>\n",
       "      <th>A</th>\n",
       "      <th>B</th>\n",
       "      <th>C</th>\n",
       "      <th>D</th>\n",
       "      <th>F</th>\n",
       "    </tr>\n",
       "  </thead>\n",
       "  <tbody>\n",
       "    <tr>\n",
       "      <th>2016-07-01</th>\n",
       "      <td>False</td>\n",
       "      <td>False</td>\n",
       "      <td>False</td>\n",
       "      <td>False</td>\n",
       "      <td>False</td>\n",
       "    </tr>\n",
       "    <tr>\n",
       "      <th>2016-07-02</th>\n",
       "      <td>False</td>\n",
       "      <td>False</td>\n",
       "      <td>False</td>\n",
       "      <td>False</td>\n",
       "      <td>True</td>\n",
       "    </tr>\n",
       "    <tr>\n",
       "      <th>2016-07-03</th>\n",
       "      <td>False</td>\n",
       "      <td>False</td>\n",
       "      <td>False</td>\n",
       "      <td>False</td>\n",
       "      <td>False</td>\n",
       "    </tr>\n",
       "    <tr>\n",
       "      <th>2016-07-04</th>\n",
       "      <td>False</td>\n",
       "      <td>False</td>\n",
       "      <td>False</td>\n",
       "      <td>False</td>\n",
       "      <td>False</td>\n",
       "    </tr>\n",
       "    <tr>\n",
       "      <th>2016-07-05</th>\n",
       "      <td>False</td>\n",
       "      <td>False</td>\n",
       "      <td>False</td>\n",
       "      <td>False</td>\n",
       "      <td>True</td>\n",
       "    </tr>\n",
       "    <tr>\n",
       "      <th>2016-07-06</th>\n",
       "      <td>False</td>\n",
       "      <td>False</td>\n",
       "      <td>False</td>\n",
       "      <td>False</td>\n",
       "      <td>False</td>\n",
       "    </tr>\n",
       "  </tbody>\n",
       "</table>\n",
       "</div>"
      ],
      "text/plain": [
       "                A      B      C      D      F\n",
       "2016-07-01  False  False  False  False  False\n",
       "2016-07-02  False  False  False  False   True\n",
       "2016-07-03  False  False  False  False  False\n",
       "2016-07-04  False  False  False  False  False\n",
       "2016-07-05  False  False  False  False   True\n",
       "2016-07-06  False  False  False  False  False"
      ]
     },
     "execution_count": 18,
     "metadata": {},
     "output_type": "execute_result"
    }
   ],
   "source": [
    "df.isnull()"
   ]
  },
  {
   "cell_type": "code",
   "execution_count": 20,
   "metadata": {
    "collapsed": false
   },
   "outputs": [
    {
     "data": {
      "text/html": [
       "<div>\n",
       "<table border=\"1\" class=\"dataframe\">\n",
       "  <thead>\n",
       "    <tr style=\"text-align: right;\">\n",
       "      <th></th>\n",
       "      <th>A</th>\n",
       "      <th>B</th>\n",
       "      <th>C</th>\n",
       "      <th>D</th>\n",
       "      <th>F</th>\n",
       "    </tr>\n",
       "  </thead>\n",
       "  <tbody>\n",
       "    <tr>\n",
       "      <th>2016-07-02</th>\n",
       "      <td>0.253941</td>\n",
       "      <td>-1.311256</td>\n",
       "      <td>0.194469</td>\n",
       "      <td>0.064023</td>\n",
       "      <td>NaN</td>\n",
       "    </tr>\n",
       "    <tr>\n",
       "      <th>2016-07-05</th>\n",
       "      <td>-1.511891</td>\n",
       "      <td>0.039647</td>\n",
       "      <td>0.704621</td>\n",
       "      <td>2.105960</td>\n",
       "      <td>NaN</td>\n",
       "    </tr>\n",
       "  </tbody>\n",
       "</table>\n",
       "</div>"
      ],
      "text/plain": [
       "                   A         B         C         D   F\n",
       "2016-07-02  0.253941 -1.311256  0.194469  0.064023 NaN\n",
       "2016-07-05 -1.511891  0.039647  0.704621  2.105960 NaN"
      ]
     },
     "execution_count": 20,
     "metadata": {},
     "output_type": "execute_result"
    }
   ],
   "source": [
    "df.loc[df.isnull()[\"F\"],:]"
   ]
  },
  {
   "cell_type": "code",
   "execution_count": 22,
   "metadata": {
    "collapsed": false
   },
   "outputs": [
    {
     "data": {
      "text/plain": [
       "Timestamp('2016-07-01 00:00:00')"
      ]
     },
     "execution_count": 22,
     "metadata": {},
     "output_type": "execute_result"
    }
   ],
   "source": [
    "pd.to_datetime(\"20160701\")"
   ]
  },
  {
   "cell_type": "markdown",
   "metadata": {},
   "source": [
    "## DF.drop(index)\n",
    " - 복수개일 경우 drop([,])로 사용. "
   ]
  },
  {
   "cell_type": "code",
   "execution_count": 24,
   "metadata": {
    "collapsed": false
   },
   "outputs": [
    {
     "data": {
      "text/html": [
       "<div>\n",
       "<table border=\"1\" class=\"dataframe\">\n",
       "  <thead>\n",
       "    <tr style=\"text-align: right;\">\n",
       "      <th></th>\n",
       "      <th>A</th>\n",
       "      <th>B</th>\n",
       "      <th>C</th>\n",
       "      <th>D</th>\n",
       "      <th>F</th>\n",
       "    </tr>\n",
       "  </thead>\n",
       "  <tbody>\n",
       "    <tr>\n",
       "      <th>2016-07-02</th>\n",
       "      <td>0.253941</td>\n",
       "      <td>-1.311256</td>\n",
       "      <td>0.194469</td>\n",
       "      <td>0.064023</td>\n",
       "      <td>NaN</td>\n",
       "    </tr>\n",
       "    <tr>\n",
       "      <th>2016-07-03</th>\n",
       "      <td>-1.790089</td>\n",
       "      <td>-0.461627</td>\n",
       "      <td>1.214021</td>\n",
       "      <td>-0.053560</td>\n",
       "      <td>3.5</td>\n",
       "    </tr>\n",
       "    <tr>\n",
       "      <th>2016-07-04</th>\n",
       "      <td>-0.223895</td>\n",
       "      <td>1.133097</td>\n",
       "      <td>0.317120</td>\n",
       "      <td>-0.600250</td>\n",
       "      <td>6.1</td>\n",
       "    </tr>\n",
       "    <tr>\n",
       "      <th>2016-07-05</th>\n",
       "      <td>-1.511891</td>\n",
       "      <td>0.039647</td>\n",
       "      <td>0.704621</td>\n",
       "      <td>2.105960</td>\n",
       "      <td>NaN</td>\n",
       "    </tr>\n",
       "    <tr>\n",
       "      <th>2016-07-06</th>\n",
       "      <td>-0.409408</td>\n",
       "      <td>-1.672791</td>\n",
       "      <td>-1.297271</td>\n",
       "      <td>0.921614</td>\n",
       "      <td>7.0</td>\n",
       "    </tr>\n",
       "  </tbody>\n",
       "</table>\n",
       "</div>"
      ],
      "text/plain": [
       "                   A         B         C         D    F\n",
       "2016-07-02  0.253941 -1.311256  0.194469  0.064023  NaN\n",
       "2016-07-03 -1.790089 -0.461627  1.214021 -0.053560  3.5\n",
       "2016-07-04 -0.223895  1.133097  0.317120 -0.600250  6.1\n",
       "2016-07-05 -1.511891  0.039647  0.704621  2.105960  NaN\n",
       "2016-07-06 -0.409408 -1.672791 -1.297271  0.921614  7.0"
      ]
     },
     "execution_count": 24,
     "metadata": {},
     "output_type": "execute_result"
    }
   ],
   "source": [
    "df.drop(pd.to_datetime(\"20160701\")) # Index를 통해 삭제. "
   ]
  },
  {
   "cell_type": "code",
   "execution_count": 26,
   "metadata": {
    "collapsed": false
   },
   "outputs": [
    {
     "data": {
      "text/html": [
       "<div>\n",
       "<table border=\"1\" class=\"dataframe\">\n",
       "  <thead>\n",
       "    <tr style=\"text-align: right;\">\n",
       "      <th></th>\n",
       "      <th>A</th>\n",
       "      <th>B</th>\n",
       "      <th>C</th>\n",
       "      <th>D</th>\n",
       "      <th>F</th>\n",
       "    </tr>\n",
       "  </thead>\n",
       "  <tbody>\n",
       "    <tr>\n",
       "      <th>2016-07-02</th>\n",
       "      <td>0.253941</td>\n",
       "      <td>-1.311256</td>\n",
       "      <td>0.194469</td>\n",
       "      <td>0.064023</td>\n",
       "      <td>NaN</td>\n",
       "    </tr>\n",
       "    <tr>\n",
       "      <th>2016-07-03</th>\n",
       "      <td>-1.790089</td>\n",
       "      <td>-0.461627</td>\n",
       "      <td>1.214021</td>\n",
       "      <td>-0.053560</td>\n",
       "      <td>3.5</td>\n",
       "    </tr>\n",
       "    <tr>\n",
       "      <th>2016-07-05</th>\n",
       "      <td>-1.511891</td>\n",
       "      <td>0.039647</td>\n",
       "      <td>0.704621</td>\n",
       "      <td>2.105960</td>\n",
       "      <td>NaN</td>\n",
       "    </tr>\n",
       "    <tr>\n",
       "      <th>2016-07-06</th>\n",
       "      <td>-0.409408</td>\n",
       "      <td>-1.672791</td>\n",
       "      <td>-1.297271</td>\n",
       "      <td>0.921614</td>\n",
       "      <td>7.0</td>\n",
       "    </tr>\n",
       "  </tbody>\n",
       "</table>\n",
       "</div>"
      ],
      "text/plain": [
       "                   A         B         C         D    F\n",
       "2016-07-02  0.253941 -1.311256  0.194469  0.064023  NaN\n",
       "2016-07-03 -1.790089 -0.461627  1.214021 -0.053560  3.5\n",
       "2016-07-05 -1.511891  0.039647  0.704621  2.105960  NaN\n",
       "2016-07-06 -0.409408 -1.672791 -1.297271  0.921614  7.0"
      ]
     },
     "execution_count": 26,
     "metadata": {},
     "output_type": "execute_result"
    }
   ],
   "source": [
    "df.drop([pd.to_datetime(\"20160701\"),pd.to_datetime(\"20160704\")]) # Index를 통해 삭제. "
   ]
  },
  {
   "cell_type": "code",
   "execution_count": 28,
   "metadata": {
    "collapsed": false
   },
   "outputs": [
    {
     "data": {
      "text/html": [
       "<div>\n",
       "<table border=\"1\" class=\"dataframe\">\n",
       "  <thead>\n",
       "    <tr style=\"text-align: right;\">\n",
       "      <th></th>\n",
       "      <th>A</th>\n",
       "      <th>B</th>\n",
       "      <th>C</th>\n",
       "      <th>D</th>\n",
       "    </tr>\n",
       "  </thead>\n",
       "  <tbody>\n",
       "    <tr>\n",
       "      <th>2016-07-01</th>\n",
       "      <td>-0.920283</td>\n",
       "      <td>1.105762</td>\n",
       "      <td>0.016225</td>\n",
       "      <td>1.121381</td>\n",
       "    </tr>\n",
       "    <tr>\n",
       "      <th>2016-07-02</th>\n",
       "      <td>0.253941</td>\n",
       "      <td>-1.311256</td>\n",
       "      <td>0.194469</td>\n",
       "      <td>0.064023</td>\n",
       "    </tr>\n",
       "    <tr>\n",
       "      <th>2016-07-03</th>\n",
       "      <td>-1.790089</td>\n",
       "      <td>-0.461627</td>\n",
       "      <td>1.214021</td>\n",
       "      <td>-0.053560</td>\n",
       "    </tr>\n",
       "    <tr>\n",
       "      <th>2016-07-04</th>\n",
       "      <td>-0.223895</td>\n",
       "      <td>1.133097</td>\n",
       "      <td>0.317120</td>\n",
       "      <td>-0.600250</td>\n",
       "    </tr>\n",
       "    <tr>\n",
       "      <th>2016-07-05</th>\n",
       "      <td>-1.511891</td>\n",
       "      <td>0.039647</td>\n",
       "      <td>0.704621</td>\n",
       "      <td>2.105960</td>\n",
       "    </tr>\n",
       "    <tr>\n",
       "      <th>2016-07-06</th>\n",
       "      <td>-0.409408</td>\n",
       "      <td>-1.672791</td>\n",
       "      <td>-1.297271</td>\n",
       "      <td>0.921614</td>\n",
       "    </tr>\n",
       "  </tbody>\n",
       "</table>\n",
       "</div>"
      ],
      "text/plain": [
       "                   A         B         C         D\n",
       "2016-07-01 -0.920283  1.105762  0.016225  1.121381\n",
       "2016-07-02  0.253941 -1.311256  0.194469  0.064023\n",
       "2016-07-03 -1.790089 -0.461627  1.214021 -0.053560\n",
       "2016-07-04 -0.223895  1.133097  0.317120 -0.600250\n",
       "2016-07-05 -1.511891  0.039647  0.704621  2.105960\n",
       "2016-07-06 -0.409408 -1.672791 -1.297271  0.921614"
      ]
     },
     "execution_count": 28,
     "metadata": {},
     "output_type": "execute_result"
    }
   ],
   "source": [
    "df.drop(\"F\",axis=1) # axis = 1 열 "
   ]
  },
  {
   "cell_type": "code",
   "execution_count": 29,
   "metadata": {
    "collapsed": false
   },
   "outputs": [
    {
     "data": {
      "text/html": [
       "<div>\n",
       "<table border=\"1\" class=\"dataframe\">\n",
       "  <thead>\n",
       "    <tr style=\"text-align: right;\">\n",
       "      <th></th>\n",
       "      <th>A</th>\n",
       "      <th>C</th>\n",
       "      <th>D</th>\n",
       "    </tr>\n",
       "  </thead>\n",
       "  <tbody>\n",
       "    <tr>\n",
       "      <th>2016-07-01</th>\n",
       "      <td>-0.920283</td>\n",
       "      <td>0.016225</td>\n",
       "      <td>1.121381</td>\n",
       "    </tr>\n",
       "    <tr>\n",
       "      <th>2016-07-02</th>\n",
       "      <td>0.253941</td>\n",
       "      <td>0.194469</td>\n",
       "      <td>0.064023</td>\n",
       "    </tr>\n",
       "    <tr>\n",
       "      <th>2016-07-03</th>\n",
       "      <td>-1.790089</td>\n",
       "      <td>1.214021</td>\n",
       "      <td>-0.053560</td>\n",
       "    </tr>\n",
       "    <tr>\n",
       "      <th>2016-07-04</th>\n",
       "      <td>-0.223895</td>\n",
       "      <td>0.317120</td>\n",
       "      <td>-0.600250</td>\n",
       "    </tr>\n",
       "    <tr>\n",
       "      <th>2016-07-05</th>\n",
       "      <td>-1.511891</td>\n",
       "      <td>0.704621</td>\n",
       "      <td>2.105960</td>\n",
       "    </tr>\n",
       "    <tr>\n",
       "      <th>2016-07-06</th>\n",
       "      <td>-0.409408</td>\n",
       "      <td>-1.297271</td>\n",
       "      <td>0.921614</td>\n",
       "    </tr>\n",
       "  </tbody>\n",
       "</table>\n",
       "</div>"
      ],
      "text/plain": [
       "                   A         C         D\n",
       "2016-07-01 -0.920283  0.016225  1.121381\n",
       "2016-07-02  0.253941  0.194469  0.064023\n",
       "2016-07-03 -1.790089  1.214021 -0.053560\n",
       "2016-07-04 -0.223895  0.317120 -0.600250\n",
       "2016-07-05 -1.511891  0.704621  2.105960\n",
       "2016-07-06 -0.409408 -1.297271  0.921614"
      ]
     },
     "execution_count": 29,
     "metadata": {},
     "output_type": "execute_result"
    }
   ],
   "source": [
    "df.drop([\"B\",\"F\"],axis=1)"
   ]
  }
 ],
 "metadata": {
  "kernelspec": {
   "display_name": "Python [work]",
   "language": "python",
   "name": "Python [work]"
  },
  "language_info": {
   "codemirror_mode": {
    "name": "ipython",
    "version": 3
   },
   "file_extension": ".py",
   "mimetype": "text/x-python",
   "name": "python",
   "nbconvert_exporter": "python",
   "pygments_lexer": "ipython3",
   "version": "3.5.2"
  }
 },
 "nbformat": 4,
 "nbformat_minor": 0
}
