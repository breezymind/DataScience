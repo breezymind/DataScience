{
 "cells": [
  {
   "cell_type": "markdown",
   "metadata": {},
   "source": [
    "# Plotting and Visualization"
   ]
  },
  {
   "cell_type": "code",
   "execution_count": 1,
   "metadata": {
    "collapsed": true
   },
   "outputs": [],
   "source": [
    "import pandas as pd\n",
    "import numpy as np \n",
    "import matplotlib.pyplot as plt \n",
    "from numpy.random import randn"
   ]
  },
  {
   "cell_type": "code",
   "execution_count": 2,
   "metadata": {
    "collapsed": true
   },
   "outputs": [],
   "source": [
    "%matplotlib inline\n",
    "#%matplotlib nbagg"
   ]
  },
  {
   "cell_type": "markdown",
   "metadata": {},
   "source": [
    "## Figures and Subplots "
   ]
  },
  {
   "cell_type": "code",
   "execution_count": 17,
   "metadata": {
    "collapsed": false
   },
   "outputs": [
    {
     "data": {
      "application/javascript": [
       "/* Put everything inside the global mpl namespace */\n",
       "window.mpl = {};\n",
       "\n",
       "mpl.get_websocket_type = function() {\n",
       "    if (typeof(WebSocket) !== 'undefined') {\n",
       "        return WebSocket;\n",
       "    } else if (typeof(MozWebSocket) !== 'undefined') {\n",
       "        return MozWebSocket;\n",
       "    } else {\n",
       "        alert('Your browser does not have WebSocket support.' +\n",
       "              'Please try Chrome, Safari or Firefox ≥ 6. ' +\n",
       "              'Firefox 4 and 5 are also supported but you ' +\n",
       "              'have to enable WebSockets in about:config.');\n",
       "    };\n",
       "}\n",
       "\n",
       "mpl.figure = function(figure_id, websocket, ondownload, parent_element) {\n",
       "    this.id = figure_id;\n",
       "\n",
       "    this.ws = websocket;\n",
       "\n",
       "    this.supports_binary = (this.ws.binaryType != undefined);\n",
       "\n",
       "    if (!this.supports_binary) {\n",
       "        var warnings = document.getElementById(\"mpl-warnings\");\n",
       "        if (warnings) {\n",
       "            warnings.style.display = 'block';\n",
       "            warnings.textContent = (\n",
       "                \"This browser does not support binary websocket messages. \" +\n",
       "                    \"Performance may be slow.\");\n",
       "        }\n",
       "    }\n",
       "\n",
       "    this.imageObj = new Image();\n",
       "\n",
       "    this.context = undefined;\n",
       "    this.message = undefined;\n",
       "    this.canvas = undefined;\n",
       "    this.rubberband_canvas = undefined;\n",
       "    this.rubberband_context = undefined;\n",
       "    this.format_dropdown = undefined;\n",
       "\n",
       "    this.image_mode = 'full';\n",
       "\n",
       "    this.root = $('<div/>');\n",
       "    this._root_extra_style(this.root)\n",
       "    this.root.attr('style', 'display: inline-block');\n",
       "\n",
       "    $(parent_element).append(this.root);\n",
       "\n",
       "    this._init_header(this);\n",
       "    this._init_canvas(this);\n",
       "    this._init_toolbar(this);\n",
       "\n",
       "    var fig = this;\n",
       "\n",
       "    this.waiting = false;\n",
       "\n",
       "    this.ws.onopen =  function () {\n",
       "            fig.send_message(\"supports_binary\", {value: fig.supports_binary});\n",
       "            fig.send_message(\"send_image_mode\", {});\n",
       "            fig.send_message(\"refresh\", {});\n",
       "        }\n",
       "\n",
       "    this.imageObj.onload = function() {\n",
       "            if (fig.image_mode == 'full') {\n",
       "                // Full images could contain transparency (where diff images\n",
       "                // almost always do), so we need to clear the canvas so that\n",
       "                // there is no ghosting.\n",
       "                fig.context.clearRect(0, 0, fig.canvas.width, fig.canvas.height);\n",
       "            }\n",
       "            fig.context.drawImage(fig.imageObj, 0, 0);\n",
       "        };\n",
       "\n",
       "    this.imageObj.onunload = function() {\n",
       "        this.ws.close();\n",
       "    }\n",
       "\n",
       "    this.ws.onmessage = this._make_on_message_function(this);\n",
       "\n",
       "    this.ondownload = ondownload;\n",
       "}\n",
       "\n",
       "mpl.figure.prototype._init_header = function() {\n",
       "    var titlebar = $(\n",
       "        '<div class=\"ui-dialog-titlebar ui-widget-header ui-corner-all ' +\n",
       "        'ui-helper-clearfix\"/>');\n",
       "    var titletext = $(\n",
       "        '<div class=\"ui-dialog-title\" style=\"width: 100%; ' +\n",
       "        'text-align: center; padding: 3px;\"/>');\n",
       "    titlebar.append(titletext)\n",
       "    this.root.append(titlebar);\n",
       "    this.header = titletext[0];\n",
       "}\n",
       "\n",
       "\n",
       "\n",
       "mpl.figure.prototype._canvas_extra_style = function(canvas_div) {\n",
       "\n",
       "}\n",
       "\n",
       "\n",
       "mpl.figure.prototype._root_extra_style = function(canvas_div) {\n",
       "\n",
       "}\n",
       "\n",
       "mpl.figure.prototype._init_canvas = function() {\n",
       "    var fig = this;\n",
       "\n",
       "    var canvas_div = $('<div/>');\n",
       "\n",
       "    canvas_div.attr('style', 'position: relative; clear: both; outline: 0');\n",
       "\n",
       "    function canvas_keyboard_event(event) {\n",
       "        return fig.key_event(event, event['data']);\n",
       "    }\n",
       "\n",
       "    canvas_div.keydown('key_press', canvas_keyboard_event);\n",
       "    canvas_div.keyup('key_release', canvas_keyboard_event);\n",
       "    this.canvas_div = canvas_div\n",
       "    this._canvas_extra_style(canvas_div)\n",
       "    this.root.append(canvas_div);\n",
       "\n",
       "    var canvas = $('<canvas/>');\n",
       "    canvas.addClass('mpl-canvas');\n",
       "    canvas.attr('style', \"left: 0; top: 0; z-index: 0; outline: 0\")\n",
       "\n",
       "    this.canvas = canvas[0];\n",
       "    this.context = canvas[0].getContext(\"2d\");\n",
       "\n",
       "    var rubberband = $('<canvas/>');\n",
       "    rubberband.attr('style', \"position: absolute; left: 0; top: 0; z-index: 1;\")\n",
       "\n",
       "    var pass_mouse_events = true;\n",
       "\n",
       "    canvas_div.resizable({\n",
       "        start: function(event, ui) {\n",
       "            pass_mouse_events = false;\n",
       "        },\n",
       "        resize: function(event, ui) {\n",
       "            fig.request_resize(ui.size.width, ui.size.height);\n",
       "        },\n",
       "        stop: function(event, ui) {\n",
       "            pass_mouse_events = true;\n",
       "            fig.request_resize(ui.size.width, ui.size.height);\n",
       "        },\n",
       "    });\n",
       "\n",
       "    function mouse_event_fn(event) {\n",
       "        if (pass_mouse_events)\n",
       "            return fig.mouse_event(event, event['data']);\n",
       "    }\n",
       "\n",
       "    rubberband.mousedown('button_press', mouse_event_fn);\n",
       "    rubberband.mouseup('button_release', mouse_event_fn);\n",
       "    // Throttle sequential mouse events to 1 every 20ms.\n",
       "    rubberband.mousemove('motion_notify', mouse_event_fn);\n",
       "\n",
       "    rubberband.mouseenter('figure_enter', mouse_event_fn);\n",
       "    rubberband.mouseleave('figure_leave', mouse_event_fn);\n",
       "\n",
       "    canvas_div.on(\"wheel\", function (event) {\n",
       "        event = event.originalEvent;\n",
       "        event['data'] = 'scroll'\n",
       "        if (event.deltaY < 0) {\n",
       "            event.step = 1;\n",
       "        } else {\n",
       "            event.step = -1;\n",
       "        }\n",
       "        mouse_event_fn(event);\n",
       "    });\n",
       "\n",
       "    canvas_div.append(canvas);\n",
       "    canvas_div.append(rubberband);\n",
       "\n",
       "    this.rubberband = rubberband;\n",
       "    this.rubberband_canvas = rubberband[0];\n",
       "    this.rubberband_context = rubberband[0].getContext(\"2d\");\n",
       "    this.rubberband_context.strokeStyle = \"#000000\";\n",
       "\n",
       "    this._resize_canvas = function(width, height) {\n",
       "        // Keep the size of the canvas, canvas container, and rubber band\n",
       "        // canvas in synch.\n",
       "        canvas_div.css('width', width)\n",
       "        canvas_div.css('height', height)\n",
       "\n",
       "        canvas.attr('width', width);\n",
       "        canvas.attr('height', height);\n",
       "\n",
       "        rubberband.attr('width', width);\n",
       "        rubberband.attr('height', height);\n",
       "    }\n",
       "\n",
       "    // Set the figure to an initial 600x600px, this will subsequently be updated\n",
       "    // upon first draw.\n",
       "    this._resize_canvas(600, 600);\n",
       "\n",
       "    // Disable right mouse context menu.\n",
       "    $(this.rubberband_canvas).bind(\"contextmenu\",function(e){\n",
       "        return false;\n",
       "    });\n",
       "\n",
       "    function set_focus () {\n",
       "        canvas.focus();\n",
       "        canvas_div.focus();\n",
       "    }\n",
       "\n",
       "    window.setTimeout(set_focus, 100);\n",
       "}\n",
       "\n",
       "mpl.figure.prototype._init_toolbar = function() {\n",
       "    var fig = this;\n",
       "\n",
       "    var nav_element = $('<div/>')\n",
       "    nav_element.attr('style', 'width: 100%');\n",
       "    this.root.append(nav_element);\n",
       "\n",
       "    // Define a callback function for later on.\n",
       "    function toolbar_event(event) {\n",
       "        return fig.toolbar_button_onclick(event['data']);\n",
       "    }\n",
       "    function toolbar_mouse_event(event) {\n",
       "        return fig.toolbar_button_onmouseover(event['data']);\n",
       "    }\n",
       "\n",
       "    for(var toolbar_ind in mpl.toolbar_items) {\n",
       "        var name = mpl.toolbar_items[toolbar_ind][0];\n",
       "        var tooltip = mpl.toolbar_items[toolbar_ind][1];\n",
       "        var image = mpl.toolbar_items[toolbar_ind][2];\n",
       "        var method_name = mpl.toolbar_items[toolbar_ind][3];\n",
       "\n",
       "        if (!name) {\n",
       "            // put a spacer in here.\n",
       "            continue;\n",
       "        }\n",
       "        var button = $('<button/>');\n",
       "        button.addClass('ui-button ui-widget ui-state-default ui-corner-all ' +\n",
       "                        'ui-button-icon-only');\n",
       "        button.attr('role', 'button');\n",
       "        button.attr('aria-disabled', 'false');\n",
       "        button.click(method_name, toolbar_event);\n",
       "        button.mouseover(tooltip, toolbar_mouse_event);\n",
       "\n",
       "        var icon_img = $('<span/>');\n",
       "        icon_img.addClass('ui-button-icon-primary ui-icon');\n",
       "        icon_img.addClass(image);\n",
       "        icon_img.addClass('ui-corner-all');\n",
       "\n",
       "        var tooltip_span = $('<span/>');\n",
       "        tooltip_span.addClass('ui-button-text');\n",
       "        tooltip_span.html(tooltip);\n",
       "\n",
       "        button.append(icon_img);\n",
       "        button.append(tooltip_span);\n",
       "\n",
       "        nav_element.append(button);\n",
       "    }\n",
       "\n",
       "    var fmt_picker_span = $('<span/>');\n",
       "\n",
       "    var fmt_picker = $('<select/>');\n",
       "    fmt_picker.addClass('mpl-toolbar-option ui-widget ui-widget-content');\n",
       "    fmt_picker_span.append(fmt_picker);\n",
       "    nav_element.append(fmt_picker_span);\n",
       "    this.format_dropdown = fmt_picker[0];\n",
       "\n",
       "    for (var ind in mpl.extensions) {\n",
       "        var fmt = mpl.extensions[ind];\n",
       "        var option = $(\n",
       "            '<option/>', {selected: fmt === mpl.default_extension}).html(fmt);\n",
       "        fmt_picker.append(option)\n",
       "    }\n",
       "\n",
       "    // Add hover states to the ui-buttons\n",
       "    $( \".ui-button\" ).hover(\n",
       "        function() { $(this).addClass(\"ui-state-hover\");},\n",
       "        function() { $(this).removeClass(\"ui-state-hover\");}\n",
       "    );\n",
       "\n",
       "    var status_bar = $('<span class=\"mpl-message\"/>');\n",
       "    nav_element.append(status_bar);\n",
       "    this.message = status_bar[0];\n",
       "}\n",
       "\n",
       "mpl.figure.prototype.request_resize = function(x_pixels, y_pixels) {\n",
       "    // Request matplotlib to resize the figure. Matplotlib will then trigger a resize in the client,\n",
       "    // which will in turn request a refresh of the image.\n",
       "    this.send_message('resize', {'width': x_pixels, 'height': y_pixels});\n",
       "}\n",
       "\n",
       "mpl.figure.prototype.send_message = function(type, properties) {\n",
       "    properties['type'] = type;\n",
       "    properties['figure_id'] = this.id;\n",
       "    this.ws.send(JSON.stringify(properties));\n",
       "}\n",
       "\n",
       "mpl.figure.prototype.send_draw_message = function() {\n",
       "    if (!this.waiting) {\n",
       "        this.waiting = true;\n",
       "        this.ws.send(JSON.stringify({type: \"draw\", figure_id: this.id}));\n",
       "    }\n",
       "}\n",
       "\n",
       "\n",
       "mpl.figure.prototype.handle_save = function(fig, msg) {\n",
       "    var format_dropdown = fig.format_dropdown;\n",
       "    var format = format_dropdown.options[format_dropdown.selectedIndex].value;\n",
       "    fig.ondownload(fig, format);\n",
       "}\n",
       "\n",
       "\n",
       "mpl.figure.prototype.handle_resize = function(fig, msg) {\n",
       "    var size = msg['size'];\n",
       "    if (size[0] != fig.canvas.width || size[1] != fig.canvas.height) {\n",
       "        fig._resize_canvas(size[0], size[1]);\n",
       "        fig.send_message(\"refresh\", {});\n",
       "    };\n",
       "}\n",
       "\n",
       "mpl.figure.prototype.handle_rubberband = function(fig, msg) {\n",
       "    var x0 = msg['x0'];\n",
       "    var y0 = fig.canvas.height - msg['y0'];\n",
       "    var x1 = msg['x1'];\n",
       "    var y1 = fig.canvas.height - msg['y1'];\n",
       "    x0 = Math.floor(x0) + 0.5;\n",
       "    y0 = Math.floor(y0) + 0.5;\n",
       "    x1 = Math.floor(x1) + 0.5;\n",
       "    y1 = Math.floor(y1) + 0.5;\n",
       "    var min_x = Math.min(x0, x1);\n",
       "    var min_y = Math.min(y0, y1);\n",
       "    var width = Math.abs(x1 - x0);\n",
       "    var height = Math.abs(y1 - y0);\n",
       "\n",
       "    fig.rubberband_context.clearRect(\n",
       "        0, 0, fig.canvas.width, fig.canvas.height);\n",
       "\n",
       "    fig.rubberband_context.strokeRect(min_x, min_y, width, height);\n",
       "}\n",
       "\n",
       "mpl.figure.prototype.handle_figure_label = function(fig, msg) {\n",
       "    // Updates the figure title.\n",
       "    fig.header.textContent = msg['label'];\n",
       "}\n",
       "\n",
       "mpl.figure.prototype.handle_cursor = function(fig, msg) {\n",
       "    var cursor = msg['cursor'];\n",
       "    switch(cursor)\n",
       "    {\n",
       "    case 0:\n",
       "        cursor = 'pointer';\n",
       "        break;\n",
       "    case 1:\n",
       "        cursor = 'default';\n",
       "        break;\n",
       "    case 2:\n",
       "        cursor = 'crosshair';\n",
       "        break;\n",
       "    case 3:\n",
       "        cursor = 'move';\n",
       "        break;\n",
       "    }\n",
       "    fig.rubberband_canvas.style.cursor = cursor;\n",
       "}\n",
       "\n",
       "mpl.figure.prototype.handle_message = function(fig, msg) {\n",
       "    fig.message.textContent = msg['message'];\n",
       "}\n",
       "\n",
       "mpl.figure.prototype.handle_draw = function(fig, msg) {\n",
       "    // Request the server to send over a new figure.\n",
       "    fig.send_draw_message();\n",
       "}\n",
       "\n",
       "mpl.figure.prototype.handle_image_mode = function(fig, msg) {\n",
       "    fig.image_mode = msg['mode'];\n",
       "}\n",
       "\n",
       "mpl.figure.prototype.updated_canvas_event = function() {\n",
       "    // Called whenever the canvas gets updated.\n",
       "    this.send_message(\"ack\", {});\n",
       "}\n",
       "\n",
       "// A function to construct a web socket function for onmessage handling.\n",
       "// Called in the figure constructor.\n",
       "mpl.figure.prototype._make_on_message_function = function(fig) {\n",
       "    return function socket_on_message(evt) {\n",
       "        if (evt.data instanceof Blob) {\n",
       "            /* FIXME: We get \"Resource interpreted as Image but\n",
       "             * transferred with MIME type text/plain:\" errors on\n",
       "             * Chrome.  But how to set the MIME type?  It doesn't seem\n",
       "             * to be part of the websocket stream */\n",
       "            evt.data.type = \"image/png\";\n",
       "\n",
       "            /* Free the memory for the previous frames */\n",
       "            if (fig.imageObj.src) {\n",
       "                (window.URL || window.webkitURL).revokeObjectURL(\n",
       "                    fig.imageObj.src);\n",
       "            }\n",
       "\n",
       "            fig.imageObj.src = (window.URL || window.webkitURL).createObjectURL(\n",
       "                evt.data);\n",
       "            fig.updated_canvas_event();\n",
       "            fig.waiting = false;\n",
       "            return;\n",
       "        }\n",
       "        else if (typeof evt.data === 'string' && evt.data.slice(0, 21) == \"data:image/png;base64\") {\n",
       "            fig.imageObj.src = evt.data;\n",
       "            fig.updated_canvas_event();\n",
       "            fig.waiting = false;\n",
       "            return;\n",
       "        }\n",
       "\n",
       "        var msg = JSON.parse(evt.data);\n",
       "        var msg_type = msg['type'];\n",
       "\n",
       "        // Call the  \"handle_{type}\" callback, which takes\n",
       "        // the figure and JSON message as its only arguments.\n",
       "        try {\n",
       "            var callback = fig[\"handle_\" + msg_type];\n",
       "        } catch (e) {\n",
       "            console.log(\"No handler for the '\" + msg_type + \"' message type: \", msg);\n",
       "            return;\n",
       "        }\n",
       "\n",
       "        if (callback) {\n",
       "            try {\n",
       "                // console.log(\"Handling '\" + msg_type + \"' message: \", msg);\n",
       "                callback(fig, msg);\n",
       "            } catch (e) {\n",
       "                console.log(\"Exception inside the 'handler_\" + msg_type + \"' callback:\", e, e.stack, msg);\n",
       "            }\n",
       "        }\n",
       "    };\n",
       "}\n",
       "\n",
       "// from http://stackoverflow.com/questions/1114465/getting-mouse-location-in-canvas\n",
       "mpl.findpos = function(e) {\n",
       "    //this section is from http://www.quirksmode.org/js/events_properties.html\n",
       "    var targ;\n",
       "    if (!e)\n",
       "        e = window.event;\n",
       "    if (e.target)\n",
       "        targ = e.target;\n",
       "    else if (e.srcElement)\n",
       "        targ = e.srcElement;\n",
       "    if (targ.nodeType == 3) // defeat Safari bug\n",
       "        targ = targ.parentNode;\n",
       "\n",
       "    // jQuery normalizes the pageX and pageY\n",
       "    // pageX,Y are the mouse positions relative to the document\n",
       "    // offset() returns the position of the element relative to the document\n",
       "    var x = e.pageX - $(targ).offset().left;\n",
       "    var y = e.pageY - $(targ).offset().top;\n",
       "\n",
       "    return {\"x\": x, \"y\": y};\n",
       "};\n",
       "\n",
       "/*\n",
       " * return a copy of an object with only non-object keys\n",
       " * we need this to avoid circular references\n",
       " * http://stackoverflow.com/a/24161582/3208463\n",
       " */\n",
       "function simpleKeys (original) {\n",
       "  return Object.keys(original).reduce(function (obj, key) {\n",
       "    if (typeof original[key] !== 'object')\n",
       "        obj[key] = original[key]\n",
       "    return obj;\n",
       "  }, {});\n",
       "}\n",
       "\n",
       "mpl.figure.prototype.mouse_event = function(event, name) {\n",
       "    var canvas_pos = mpl.findpos(event)\n",
       "\n",
       "    if (name === 'button_press')\n",
       "    {\n",
       "        this.canvas.focus();\n",
       "        this.canvas_div.focus();\n",
       "    }\n",
       "\n",
       "    var x = canvas_pos.x;\n",
       "    var y = canvas_pos.y;\n",
       "\n",
       "    this.send_message(name, {x: x, y: y, button: event.button,\n",
       "                             step: event.step,\n",
       "                             guiEvent: simpleKeys(event)});\n",
       "\n",
       "    /* This prevents the web browser from automatically changing to\n",
       "     * the text insertion cursor when the button is pressed.  We want\n",
       "     * to control all of the cursor setting manually through the\n",
       "     * 'cursor' event from matplotlib */\n",
       "    event.preventDefault();\n",
       "    return false;\n",
       "}\n",
       "\n",
       "mpl.figure.prototype._key_event_extra = function(event, name) {\n",
       "    // Handle any extra behaviour associated with a key event\n",
       "}\n",
       "\n",
       "mpl.figure.prototype.key_event = function(event, name) {\n",
       "\n",
       "    // Prevent repeat events\n",
       "    if (name == 'key_press')\n",
       "    {\n",
       "        if (event.which === this._key)\n",
       "            return;\n",
       "        else\n",
       "            this._key = event.which;\n",
       "    }\n",
       "    if (name == 'key_release')\n",
       "        this._key = null;\n",
       "\n",
       "    var value = '';\n",
       "    if (event.ctrlKey && event.which != 17)\n",
       "        value += \"ctrl+\";\n",
       "    if (event.altKey && event.which != 18)\n",
       "        value += \"alt+\";\n",
       "    if (event.shiftKey && event.which != 16)\n",
       "        value += \"shift+\";\n",
       "\n",
       "    value += 'k';\n",
       "    value += event.which.toString();\n",
       "\n",
       "    this._key_event_extra(event, name);\n",
       "\n",
       "    this.send_message(name, {key: value,\n",
       "                             guiEvent: simpleKeys(event)});\n",
       "    return false;\n",
       "}\n",
       "\n",
       "mpl.figure.prototype.toolbar_button_onclick = function(name) {\n",
       "    if (name == 'download') {\n",
       "        this.handle_save(this, null);\n",
       "    } else {\n",
       "        this.send_message(\"toolbar_button\", {name: name});\n",
       "    }\n",
       "};\n",
       "\n",
       "mpl.figure.prototype.toolbar_button_onmouseover = function(tooltip) {\n",
       "    this.message.textContent = tooltip;\n",
       "};\n",
       "mpl.toolbar_items = [[\"Home\", \"Reset original view\", \"fa fa-home icon-home\", \"home\"], [\"Back\", \"Back to  previous view\", \"fa fa-arrow-left icon-arrow-left\", \"back\"], [\"Forward\", \"Forward to next view\", \"fa fa-arrow-right icon-arrow-right\", \"forward\"], [\"\", \"\", \"\", \"\"], [\"Pan\", \"Pan axes with left mouse, zoom with right\", \"fa fa-arrows icon-move\", \"pan\"], [\"Zoom\", \"Zoom to rectangle\", \"fa fa-square-o icon-check-empty\", \"zoom\"], [\"\", \"\", \"\", \"\"], [\"Download\", \"Download plot\", \"fa fa-floppy-o icon-save\", \"download\"]];\n",
       "\n",
       "mpl.extensions = [\"eps\", \"jpeg\", \"pdf\", \"png\", \"ps\", \"raw\", \"svg\", \"tif\"];\n",
       "\n",
       "mpl.default_extension = \"png\";var comm_websocket_adapter = function(comm) {\n",
       "    // Create a \"websocket\"-like object which calls the given IPython comm\n",
       "    // object with the appropriate methods. Currently this is a non binary\n",
       "    // socket, so there is still some room for performance tuning.\n",
       "    var ws = {};\n",
       "\n",
       "    ws.close = function() {\n",
       "        comm.close()\n",
       "    };\n",
       "    ws.send = function(m) {\n",
       "        //console.log('sending', m);\n",
       "        comm.send(m);\n",
       "    };\n",
       "    // Register the callback with on_msg.\n",
       "    comm.on_msg(function(msg) {\n",
       "        //console.log('receiving', msg['content']['data'], msg);\n",
       "        // Pass the mpl event to the overriden (by mpl) onmessage function.\n",
       "        ws.onmessage(msg['content']['data'])\n",
       "    });\n",
       "    return ws;\n",
       "}\n",
       "\n",
       "mpl.mpl_figure_comm = function(comm, msg) {\n",
       "    // This is the function which gets called when the mpl process\n",
       "    // starts-up an IPython Comm through the \"matplotlib\" channel.\n",
       "\n",
       "    var id = msg.content.data.id;\n",
       "    // Get hold of the div created by the display call when the Comm\n",
       "    // socket was opened in Python.\n",
       "    var element = $(\"#\" + id);\n",
       "    var ws_proxy = comm_websocket_adapter(comm)\n",
       "\n",
       "    function ondownload(figure, format) {\n",
       "        window.open(figure.imageObj.src);\n",
       "    }\n",
       "\n",
       "    var fig = new mpl.figure(id, ws_proxy,\n",
       "                           ondownload,\n",
       "                           element.get(0));\n",
       "\n",
       "    // Call onopen now - mpl needs it, as it is assuming we've passed it a real\n",
       "    // web socket which is closed, not our websocket->open comm proxy.\n",
       "    ws_proxy.onopen();\n",
       "\n",
       "    fig.parent_element = element.get(0);\n",
       "    fig.cell_info = mpl.find_output_cell(\"<div id='\" + id + \"'></div>\");\n",
       "    if (!fig.cell_info) {\n",
       "        console.error(\"Failed to find cell for figure\", id, fig);\n",
       "        return;\n",
       "    }\n",
       "\n",
       "    var output_index = fig.cell_info[2]\n",
       "    var cell = fig.cell_info[0];\n",
       "\n",
       "};\n",
       "\n",
       "mpl.figure.prototype.handle_close = function(fig, msg) {\n",
       "    fig.root.unbind('remove')\n",
       "\n",
       "    // Update the output cell to use the data from the current canvas.\n",
       "    fig.push_to_output();\n",
       "    var dataURL = fig.canvas.toDataURL();\n",
       "    // Re-enable the keyboard manager in IPython - without this line, in FF,\n",
       "    // the notebook keyboard shortcuts fail.\n",
       "    IPython.keyboard_manager.enable()\n",
       "    $(fig.parent_element).html('<img src=\"' + dataURL + '\">');\n",
       "    fig.close_ws(fig, msg);\n",
       "}\n",
       "\n",
       "mpl.figure.prototype.close_ws = function(fig, msg){\n",
       "    fig.send_message('closing', msg);\n",
       "    // fig.ws.close()\n",
       "}\n",
       "\n",
       "mpl.figure.prototype.push_to_output = function(remove_interactive) {\n",
       "    // Turn the data on the canvas into data in the output cell.\n",
       "    var dataURL = this.canvas.toDataURL();\n",
       "    this.cell_info[1]['text/html'] = '<img src=\"' + dataURL + '\">';\n",
       "}\n",
       "\n",
       "mpl.figure.prototype.updated_canvas_event = function() {\n",
       "    // Tell IPython that the notebook contents must change.\n",
       "    IPython.notebook.set_dirty(true);\n",
       "    this.send_message(\"ack\", {});\n",
       "    var fig = this;\n",
       "    // Wait a second, then push the new image to the DOM so\n",
       "    // that it is saved nicely (might be nice to debounce this).\n",
       "    setTimeout(function () { fig.push_to_output() }, 1000);\n",
       "}\n",
       "\n",
       "mpl.figure.prototype._init_toolbar = function() {\n",
       "    var fig = this;\n",
       "\n",
       "    var nav_element = $('<div/>')\n",
       "    nav_element.attr('style', 'width: 100%');\n",
       "    this.root.append(nav_element);\n",
       "\n",
       "    // Define a callback function for later on.\n",
       "    function toolbar_event(event) {\n",
       "        return fig.toolbar_button_onclick(event['data']);\n",
       "    }\n",
       "    function toolbar_mouse_event(event) {\n",
       "        return fig.toolbar_button_onmouseover(event['data']);\n",
       "    }\n",
       "\n",
       "    for(var toolbar_ind in mpl.toolbar_items){\n",
       "        var name = mpl.toolbar_items[toolbar_ind][0];\n",
       "        var tooltip = mpl.toolbar_items[toolbar_ind][1];\n",
       "        var image = mpl.toolbar_items[toolbar_ind][2];\n",
       "        var method_name = mpl.toolbar_items[toolbar_ind][3];\n",
       "\n",
       "        if (!name) { continue; };\n",
       "\n",
       "        var button = $('<button class=\"btn btn-default\" href=\"#\" title=\"' + name + '\"><i class=\"fa ' + image + ' fa-lg\"></i></button>');\n",
       "        button.click(method_name, toolbar_event);\n",
       "        button.mouseover(tooltip, toolbar_mouse_event);\n",
       "        nav_element.append(button);\n",
       "    }\n",
       "\n",
       "    // Add the status bar.\n",
       "    var status_bar = $('<span class=\"mpl-message\" style=\"text-align:right; float: right;\"/>');\n",
       "    nav_element.append(status_bar);\n",
       "    this.message = status_bar[0];\n",
       "\n",
       "    // Add the close button to the window.\n",
       "    var buttongrp = $('<div class=\"btn-group inline pull-right\"></div>');\n",
       "    var button = $('<button class=\"btn btn-mini btn-primary\" href=\"#\" title=\"Stop Interaction\"><i class=\"fa fa-power-off icon-remove icon-large\"></i></button>');\n",
       "    button.click(function (evt) { fig.handle_close(fig, {}); } );\n",
       "    button.mouseover('Stop Interaction', toolbar_mouse_event);\n",
       "    buttongrp.append(button);\n",
       "    var titlebar = this.root.find($('.ui-dialog-titlebar'));\n",
       "    titlebar.prepend(buttongrp);\n",
       "}\n",
       "\n",
       "mpl.figure.prototype._root_extra_style = function(el){\n",
       "    var fig = this\n",
       "    el.on(\"remove\", function(){\n",
       "\tfig.close_ws(fig, {});\n",
       "    });\n",
       "}\n",
       "\n",
       "mpl.figure.prototype._canvas_extra_style = function(el){\n",
       "    // this is important to make the div 'focusable\n",
       "    el.attr('tabindex', 0)\n",
       "    // reach out to IPython and tell the keyboard manager to turn it's self\n",
       "    // off when our div gets focus\n",
       "\n",
       "    // location in version 3\n",
       "    if (IPython.notebook.keyboard_manager) {\n",
       "        IPython.notebook.keyboard_manager.register_events(el);\n",
       "    }\n",
       "    else {\n",
       "        // location in version 2\n",
       "        IPython.keyboard_manager.register_events(el);\n",
       "    }\n",
       "\n",
       "}\n",
       "\n",
       "mpl.figure.prototype._key_event_extra = function(event, name) {\n",
       "    var manager = IPython.notebook.keyboard_manager;\n",
       "    if (!manager)\n",
       "        manager = IPython.keyboard_manager;\n",
       "\n",
       "    // Check for shift+enter\n",
       "    if (event.shiftKey && event.which == 13) {\n",
       "        this.canvas_div.blur();\n",
       "        // select the cell after this one\n",
       "        var index = IPython.notebook.find_cell_index(this.cell_info[0]);\n",
       "        IPython.notebook.select(index + 1);\n",
       "    }\n",
       "}\n",
       "\n",
       "mpl.figure.prototype.handle_save = function(fig, msg) {\n",
       "    fig.ondownload(fig, null);\n",
       "}\n",
       "\n",
       "\n",
       "mpl.find_output_cell = function(html_output) {\n",
       "    // Return the cell and output element which can be found *uniquely* in the notebook.\n",
       "    // Note - this is a bit hacky, but it is done because the \"notebook_saving.Notebook\"\n",
       "    // IPython event is triggered only after the cells have been serialised, which for\n",
       "    // our purposes (turning an active figure into a static one), is too late.\n",
       "    var cells = IPython.notebook.get_cells();\n",
       "    var ncells = cells.length;\n",
       "    for (var i=0; i<ncells; i++) {\n",
       "        var cell = cells[i];\n",
       "        if (cell.cell_type === 'code'){\n",
       "            for (var j=0; j<cell.output_area.outputs.length; j++) {\n",
       "                var data = cell.output_area.outputs[j];\n",
       "                if (data.data) {\n",
       "                    // IPython >= 3 moved mimebundle to data attribute of output\n",
       "                    data = data.data;\n",
       "                }\n",
       "                if (data['text/html'] == html_output) {\n",
       "                    return [cell, data, j];\n",
       "                }\n",
       "            }\n",
       "        }\n",
       "    }\n",
       "}\n",
       "\n",
       "// Register the function which deals with the matplotlib target/channel.\n",
       "// The kernel may be null if the page has been refreshed.\n",
       "if (IPython.notebook.kernel != null) {\n",
       "    IPython.notebook.kernel.comm_manager.register_target('matplotlib', mpl.mpl_figure_comm);\n",
       "}\n"
      ],
      "text/plain": [
       "<IPython.core.display.Javascript object>"
      ]
     },
     "metadata": {},
     "output_type": "display_data"
    },
    {
     "data": {
      "text/html": [
       "<img src=\"data:image/png;base64,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\">"
      ],
      "text/plain": [
       "<IPython.core.display.HTML object>"
      ]
     },
     "metadata": {},
     "output_type": "display_data"
    }
   ],
   "source": [
    "fig = plt.figure() # %matplotlib nbagg 했을때만 가능."
   ]
  },
  {
   "cell_type": "code",
   "execution_count": 18,
   "metadata": {
    "collapsed": true
   },
   "outputs": [],
   "source": [
    "ax1 = fig.add_subplot(2,2,1)  # 2x2 의 첫번째 \n",
    "ax2 = fig.add_subplot(2,2,2)  # 2x2 의 첫번째 \n",
    "ax3 = fig.add_subplot(2,2,3)  # 2x2 의 세번째 "
   ]
  },
  {
   "cell_type": "code",
   "execution_count": 19,
   "metadata": {
    "collapsed": false
   },
   "outputs": [
    {
     "data": {
      "text/plain": [
       "[<matplotlib.lines.Line2D at 0x2877840d358>]"
      ]
     },
     "execution_count": 19,
     "metadata": {},
     "output_type": "execute_result"
    }
   ],
   "source": [
    "plt.plot(np.random.randn(50).cumsum(),'k--')"
   ]
  },
  {
   "cell_type": "code",
   "execution_count": 20,
   "metadata": {
    "collapsed": false
   },
   "outputs": [
    {
     "data": {
      "text/plain": [
       "<matplotlib.collections.PathCollection at 0x28778417f28>"
      ]
     },
     "execution_count": 20,
     "metadata": {},
     "output_type": "execute_result"
    }
   ],
   "source": [
    "_ = ax1.hist(np.random.randn(100), bins=20, color='k', alpha=0.3)\n",
    "ax2.scatter(np.arange(30), np.arange(30) + 3 * np.random.randn(30))"
   ]
  },
  {
   "cell_type": "code",
   "execution_count": 21,
   "metadata": {
    "collapsed": false
   },
   "outputs": [
    {
     "data": {
      "application/javascript": [
       "/* Put everything inside the global mpl namespace */\n",
       "window.mpl = {};\n",
       "\n",
       "mpl.get_websocket_type = function() {\n",
       "    if (typeof(WebSocket) !== 'undefined') {\n",
       "        return WebSocket;\n",
       "    } else if (typeof(MozWebSocket) !== 'undefined') {\n",
       "        return MozWebSocket;\n",
       "    } else {\n",
       "        alert('Your browser does not have WebSocket support.' +\n",
       "              'Please try Chrome, Safari or Firefox ≥ 6. ' +\n",
       "              'Firefox 4 and 5 are also supported but you ' +\n",
       "              'have to enable WebSockets in about:config.');\n",
       "    };\n",
       "}\n",
       "\n",
       "mpl.figure = function(figure_id, websocket, ondownload, parent_element) {\n",
       "    this.id = figure_id;\n",
       "\n",
       "    this.ws = websocket;\n",
       "\n",
       "    this.supports_binary = (this.ws.binaryType != undefined);\n",
       "\n",
       "    if (!this.supports_binary) {\n",
       "        var warnings = document.getElementById(\"mpl-warnings\");\n",
       "        if (warnings) {\n",
       "            warnings.style.display = 'block';\n",
       "            warnings.textContent = (\n",
       "                \"This browser does not support binary websocket messages. \" +\n",
       "                    \"Performance may be slow.\");\n",
       "        }\n",
       "    }\n",
       "\n",
       "    this.imageObj = new Image();\n",
       "\n",
       "    this.context = undefined;\n",
       "    this.message = undefined;\n",
       "    this.canvas = undefined;\n",
       "    this.rubberband_canvas = undefined;\n",
       "    this.rubberband_context = undefined;\n",
       "    this.format_dropdown = undefined;\n",
       "\n",
       "    this.image_mode = 'full';\n",
       "\n",
       "    this.root = $('<div/>');\n",
       "    this._root_extra_style(this.root)\n",
       "    this.root.attr('style', 'display: inline-block');\n",
       "\n",
       "    $(parent_element).append(this.root);\n",
       "\n",
       "    this._init_header(this);\n",
       "    this._init_canvas(this);\n",
       "    this._init_toolbar(this);\n",
       "\n",
       "    var fig = this;\n",
       "\n",
       "    this.waiting = false;\n",
       "\n",
       "    this.ws.onopen =  function () {\n",
       "            fig.send_message(\"supports_binary\", {value: fig.supports_binary});\n",
       "            fig.send_message(\"send_image_mode\", {});\n",
       "            fig.send_message(\"refresh\", {});\n",
       "        }\n",
       "\n",
       "    this.imageObj.onload = function() {\n",
       "            if (fig.image_mode == 'full') {\n",
       "                // Full images could contain transparency (where diff images\n",
       "                // almost always do), so we need to clear the canvas so that\n",
       "                // there is no ghosting.\n",
       "                fig.context.clearRect(0, 0, fig.canvas.width, fig.canvas.height);\n",
       "            }\n",
       "            fig.context.drawImage(fig.imageObj, 0, 0);\n",
       "        };\n",
       "\n",
       "    this.imageObj.onunload = function() {\n",
       "        this.ws.close();\n",
       "    }\n",
       "\n",
       "    this.ws.onmessage = this._make_on_message_function(this);\n",
       "\n",
       "    this.ondownload = ondownload;\n",
       "}\n",
       "\n",
       "mpl.figure.prototype._init_header = function() {\n",
       "    var titlebar = $(\n",
       "        '<div class=\"ui-dialog-titlebar ui-widget-header ui-corner-all ' +\n",
       "        'ui-helper-clearfix\"/>');\n",
       "    var titletext = $(\n",
       "        '<div class=\"ui-dialog-title\" style=\"width: 100%; ' +\n",
       "        'text-align: center; padding: 3px;\"/>');\n",
       "    titlebar.append(titletext)\n",
       "    this.root.append(titlebar);\n",
       "    this.header = titletext[0];\n",
       "}\n",
       "\n",
       "\n",
       "\n",
       "mpl.figure.prototype._canvas_extra_style = function(canvas_div) {\n",
       "\n",
       "}\n",
       "\n",
       "\n",
       "mpl.figure.prototype._root_extra_style = function(canvas_div) {\n",
       "\n",
       "}\n",
       "\n",
       "mpl.figure.prototype._init_canvas = function() {\n",
       "    var fig = this;\n",
       "\n",
       "    var canvas_div = $('<div/>');\n",
       "\n",
       "    canvas_div.attr('style', 'position: relative; clear: both; outline: 0');\n",
       "\n",
       "    function canvas_keyboard_event(event) {\n",
       "        return fig.key_event(event, event['data']);\n",
       "    }\n",
       "\n",
       "    canvas_div.keydown('key_press', canvas_keyboard_event);\n",
       "    canvas_div.keyup('key_release', canvas_keyboard_event);\n",
       "    this.canvas_div = canvas_div\n",
       "    this._canvas_extra_style(canvas_div)\n",
       "    this.root.append(canvas_div);\n",
       "\n",
       "    var canvas = $('<canvas/>');\n",
       "    canvas.addClass('mpl-canvas');\n",
       "    canvas.attr('style', \"left: 0; top: 0; z-index: 0; outline: 0\")\n",
       "\n",
       "    this.canvas = canvas[0];\n",
       "    this.context = canvas[0].getContext(\"2d\");\n",
       "\n",
       "    var rubberband = $('<canvas/>');\n",
       "    rubberband.attr('style', \"position: absolute; left: 0; top: 0; z-index: 1;\")\n",
       "\n",
       "    var pass_mouse_events = true;\n",
       "\n",
       "    canvas_div.resizable({\n",
       "        start: function(event, ui) {\n",
       "            pass_mouse_events = false;\n",
       "        },\n",
       "        resize: function(event, ui) {\n",
       "            fig.request_resize(ui.size.width, ui.size.height);\n",
       "        },\n",
       "        stop: function(event, ui) {\n",
       "            pass_mouse_events = true;\n",
       "            fig.request_resize(ui.size.width, ui.size.height);\n",
       "        },\n",
       "    });\n",
       "\n",
       "    function mouse_event_fn(event) {\n",
       "        if (pass_mouse_events)\n",
       "            return fig.mouse_event(event, event['data']);\n",
       "    }\n",
       "\n",
       "    rubberband.mousedown('button_press', mouse_event_fn);\n",
       "    rubberband.mouseup('button_release', mouse_event_fn);\n",
       "    // Throttle sequential mouse events to 1 every 20ms.\n",
       "    rubberband.mousemove('motion_notify', mouse_event_fn);\n",
       "\n",
       "    rubberband.mouseenter('figure_enter', mouse_event_fn);\n",
       "    rubberband.mouseleave('figure_leave', mouse_event_fn);\n",
       "\n",
       "    canvas_div.on(\"wheel\", function (event) {\n",
       "        event = event.originalEvent;\n",
       "        event['data'] = 'scroll'\n",
       "        if (event.deltaY < 0) {\n",
       "            event.step = 1;\n",
       "        } else {\n",
       "            event.step = -1;\n",
       "        }\n",
       "        mouse_event_fn(event);\n",
       "    });\n",
       "\n",
       "    canvas_div.append(canvas);\n",
       "    canvas_div.append(rubberband);\n",
       "\n",
       "    this.rubberband = rubberband;\n",
       "    this.rubberband_canvas = rubberband[0];\n",
       "    this.rubberband_context = rubberband[0].getContext(\"2d\");\n",
       "    this.rubberband_context.strokeStyle = \"#000000\";\n",
       "\n",
       "    this._resize_canvas = function(width, height) {\n",
       "        // Keep the size of the canvas, canvas container, and rubber band\n",
       "        // canvas in synch.\n",
       "        canvas_div.css('width', width)\n",
       "        canvas_div.css('height', height)\n",
       "\n",
       "        canvas.attr('width', width);\n",
       "        canvas.attr('height', height);\n",
       "\n",
       "        rubberband.attr('width', width);\n",
       "        rubberband.attr('height', height);\n",
       "    }\n",
       "\n",
       "    // Set the figure to an initial 600x600px, this will subsequently be updated\n",
       "    // upon first draw.\n",
       "    this._resize_canvas(600, 600);\n",
       "\n",
       "    // Disable right mouse context menu.\n",
       "    $(this.rubberband_canvas).bind(\"contextmenu\",function(e){\n",
       "        return false;\n",
       "    });\n",
       "\n",
       "    function set_focus () {\n",
       "        canvas.focus();\n",
       "        canvas_div.focus();\n",
       "    }\n",
       "\n",
       "    window.setTimeout(set_focus, 100);\n",
       "}\n",
       "\n",
       "mpl.figure.prototype._init_toolbar = function() {\n",
       "    var fig = this;\n",
       "\n",
       "    var nav_element = $('<div/>')\n",
       "    nav_element.attr('style', 'width: 100%');\n",
       "    this.root.append(nav_element);\n",
       "\n",
       "    // Define a callback function for later on.\n",
       "    function toolbar_event(event) {\n",
       "        return fig.toolbar_button_onclick(event['data']);\n",
       "    }\n",
       "    function toolbar_mouse_event(event) {\n",
       "        return fig.toolbar_button_onmouseover(event['data']);\n",
       "    }\n",
       "\n",
       "    for(var toolbar_ind in mpl.toolbar_items) {\n",
       "        var name = mpl.toolbar_items[toolbar_ind][0];\n",
       "        var tooltip = mpl.toolbar_items[toolbar_ind][1];\n",
       "        var image = mpl.toolbar_items[toolbar_ind][2];\n",
       "        var method_name = mpl.toolbar_items[toolbar_ind][3];\n",
       "\n",
       "        if (!name) {\n",
       "            // put a spacer in here.\n",
       "            continue;\n",
       "        }\n",
       "        var button = $('<button/>');\n",
       "        button.addClass('ui-button ui-widget ui-state-default ui-corner-all ' +\n",
       "                        'ui-button-icon-only');\n",
       "        button.attr('role', 'button');\n",
       "        button.attr('aria-disabled', 'false');\n",
       "        button.click(method_name, toolbar_event);\n",
       "        button.mouseover(tooltip, toolbar_mouse_event);\n",
       "\n",
       "        var icon_img = $('<span/>');\n",
       "        icon_img.addClass('ui-button-icon-primary ui-icon');\n",
       "        icon_img.addClass(image);\n",
       "        icon_img.addClass('ui-corner-all');\n",
       "\n",
       "        var tooltip_span = $('<span/>');\n",
       "        tooltip_span.addClass('ui-button-text');\n",
       "        tooltip_span.html(tooltip);\n",
       "\n",
       "        button.append(icon_img);\n",
       "        button.append(tooltip_span);\n",
       "\n",
       "        nav_element.append(button);\n",
       "    }\n",
       "\n",
       "    var fmt_picker_span = $('<span/>');\n",
       "\n",
       "    var fmt_picker = $('<select/>');\n",
       "    fmt_picker.addClass('mpl-toolbar-option ui-widget ui-widget-content');\n",
       "    fmt_picker_span.append(fmt_picker);\n",
       "    nav_element.append(fmt_picker_span);\n",
       "    this.format_dropdown = fmt_picker[0];\n",
       "\n",
       "    for (var ind in mpl.extensions) {\n",
       "        var fmt = mpl.extensions[ind];\n",
       "        var option = $(\n",
       "            '<option/>', {selected: fmt === mpl.default_extension}).html(fmt);\n",
       "        fmt_picker.append(option)\n",
       "    }\n",
       "\n",
       "    // Add hover states to the ui-buttons\n",
       "    $( \".ui-button\" ).hover(\n",
       "        function() { $(this).addClass(\"ui-state-hover\");},\n",
       "        function() { $(this).removeClass(\"ui-state-hover\");}\n",
       "    );\n",
       "\n",
       "    var status_bar = $('<span class=\"mpl-message\"/>');\n",
       "    nav_element.append(status_bar);\n",
       "    this.message = status_bar[0];\n",
       "}\n",
       "\n",
       "mpl.figure.prototype.request_resize = function(x_pixels, y_pixels) {\n",
       "    // Request matplotlib to resize the figure. Matplotlib will then trigger a resize in the client,\n",
       "    // which will in turn request a refresh of the image.\n",
       "    this.send_message('resize', {'width': x_pixels, 'height': y_pixels});\n",
       "}\n",
       "\n",
       "mpl.figure.prototype.send_message = function(type, properties) {\n",
       "    properties['type'] = type;\n",
       "    properties['figure_id'] = this.id;\n",
       "    this.ws.send(JSON.stringify(properties));\n",
       "}\n",
       "\n",
       "mpl.figure.prototype.send_draw_message = function() {\n",
       "    if (!this.waiting) {\n",
       "        this.waiting = true;\n",
       "        this.ws.send(JSON.stringify({type: \"draw\", figure_id: this.id}));\n",
       "    }\n",
       "}\n",
       "\n",
       "\n",
       "mpl.figure.prototype.handle_save = function(fig, msg) {\n",
       "    var format_dropdown = fig.format_dropdown;\n",
       "    var format = format_dropdown.options[format_dropdown.selectedIndex].value;\n",
       "    fig.ondownload(fig, format);\n",
       "}\n",
       "\n",
       "\n",
       "mpl.figure.prototype.handle_resize = function(fig, msg) {\n",
       "    var size = msg['size'];\n",
       "    if (size[0] != fig.canvas.width || size[1] != fig.canvas.height) {\n",
       "        fig._resize_canvas(size[0], size[1]);\n",
       "        fig.send_message(\"refresh\", {});\n",
       "    };\n",
       "}\n",
       "\n",
       "mpl.figure.prototype.handle_rubberband = function(fig, msg) {\n",
       "    var x0 = msg['x0'];\n",
       "    var y0 = fig.canvas.height - msg['y0'];\n",
       "    var x1 = msg['x1'];\n",
       "    var y1 = fig.canvas.height - msg['y1'];\n",
       "    x0 = Math.floor(x0) + 0.5;\n",
       "    y0 = Math.floor(y0) + 0.5;\n",
       "    x1 = Math.floor(x1) + 0.5;\n",
       "    y1 = Math.floor(y1) + 0.5;\n",
       "    var min_x = Math.min(x0, x1);\n",
       "    var min_y = Math.min(y0, y1);\n",
       "    var width = Math.abs(x1 - x0);\n",
       "    var height = Math.abs(y1 - y0);\n",
       "\n",
       "    fig.rubberband_context.clearRect(\n",
       "        0, 0, fig.canvas.width, fig.canvas.height);\n",
       "\n",
       "    fig.rubberband_context.strokeRect(min_x, min_y, width, height);\n",
       "}\n",
       "\n",
       "mpl.figure.prototype.handle_figure_label = function(fig, msg) {\n",
       "    // Updates the figure title.\n",
       "    fig.header.textContent = msg['label'];\n",
       "}\n",
       "\n",
       "mpl.figure.prototype.handle_cursor = function(fig, msg) {\n",
       "    var cursor = msg['cursor'];\n",
       "    switch(cursor)\n",
       "    {\n",
       "    case 0:\n",
       "        cursor = 'pointer';\n",
       "        break;\n",
       "    case 1:\n",
       "        cursor = 'default';\n",
       "        break;\n",
       "    case 2:\n",
       "        cursor = 'crosshair';\n",
       "        break;\n",
       "    case 3:\n",
       "        cursor = 'move';\n",
       "        break;\n",
       "    }\n",
       "    fig.rubberband_canvas.style.cursor = cursor;\n",
       "}\n",
       "\n",
       "mpl.figure.prototype.handle_message = function(fig, msg) {\n",
       "    fig.message.textContent = msg['message'];\n",
       "}\n",
       "\n",
       "mpl.figure.prototype.handle_draw = function(fig, msg) {\n",
       "    // Request the server to send over a new figure.\n",
       "    fig.send_draw_message();\n",
       "}\n",
       "\n",
       "mpl.figure.prototype.handle_image_mode = function(fig, msg) {\n",
       "    fig.image_mode = msg['mode'];\n",
       "}\n",
       "\n",
       "mpl.figure.prototype.updated_canvas_event = function() {\n",
       "    // Called whenever the canvas gets updated.\n",
       "    this.send_message(\"ack\", {});\n",
       "}\n",
       "\n",
       "// A function to construct a web socket function for onmessage handling.\n",
       "// Called in the figure constructor.\n",
       "mpl.figure.prototype._make_on_message_function = function(fig) {\n",
       "    return function socket_on_message(evt) {\n",
       "        if (evt.data instanceof Blob) {\n",
       "            /* FIXME: We get \"Resource interpreted as Image but\n",
       "             * transferred with MIME type text/plain:\" errors on\n",
       "             * Chrome.  But how to set the MIME type?  It doesn't seem\n",
       "             * to be part of the websocket stream */\n",
       "            evt.data.type = \"image/png\";\n",
       "\n",
       "            /* Free the memory for the previous frames */\n",
       "            if (fig.imageObj.src) {\n",
       "                (window.URL || window.webkitURL).revokeObjectURL(\n",
       "                    fig.imageObj.src);\n",
       "            }\n",
       "\n",
       "            fig.imageObj.src = (window.URL || window.webkitURL).createObjectURL(\n",
       "                evt.data);\n",
       "            fig.updated_canvas_event();\n",
       "            fig.waiting = false;\n",
       "            return;\n",
       "        }\n",
       "        else if (typeof evt.data === 'string' && evt.data.slice(0, 21) == \"data:image/png;base64\") {\n",
       "            fig.imageObj.src = evt.data;\n",
       "            fig.updated_canvas_event();\n",
       "            fig.waiting = false;\n",
       "            return;\n",
       "        }\n",
       "\n",
       "        var msg = JSON.parse(evt.data);\n",
       "        var msg_type = msg['type'];\n",
       "\n",
       "        // Call the  \"handle_{type}\" callback, which takes\n",
       "        // the figure and JSON message as its only arguments.\n",
       "        try {\n",
       "            var callback = fig[\"handle_\" + msg_type];\n",
       "        } catch (e) {\n",
       "            console.log(\"No handler for the '\" + msg_type + \"' message type: \", msg);\n",
       "            return;\n",
       "        }\n",
       "\n",
       "        if (callback) {\n",
       "            try {\n",
       "                // console.log(\"Handling '\" + msg_type + \"' message: \", msg);\n",
       "                callback(fig, msg);\n",
       "            } catch (e) {\n",
       "                console.log(\"Exception inside the 'handler_\" + msg_type + \"' callback:\", e, e.stack, msg);\n",
       "            }\n",
       "        }\n",
       "    };\n",
       "}\n",
       "\n",
       "// from http://stackoverflow.com/questions/1114465/getting-mouse-location-in-canvas\n",
       "mpl.findpos = function(e) {\n",
       "    //this section is from http://www.quirksmode.org/js/events_properties.html\n",
       "    var targ;\n",
       "    if (!e)\n",
       "        e = window.event;\n",
       "    if (e.target)\n",
       "        targ = e.target;\n",
       "    else if (e.srcElement)\n",
       "        targ = e.srcElement;\n",
       "    if (targ.nodeType == 3) // defeat Safari bug\n",
       "        targ = targ.parentNode;\n",
       "\n",
       "    // jQuery normalizes the pageX and pageY\n",
       "    // pageX,Y are the mouse positions relative to the document\n",
       "    // offset() returns the position of the element relative to the document\n",
       "    var x = e.pageX - $(targ).offset().left;\n",
       "    var y = e.pageY - $(targ).offset().top;\n",
       "\n",
       "    return {\"x\": x, \"y\": y};\n",
       "};\n",
       "\n",
       "/*\n",
       " * return a copy of an object with only non-object keys\n",
       " * we need this to avoid circular references\n",
       " * http://stackoverflow.com/a/24161582/3208463\n",
       " */\n",
       "function simpleKeys (original) {\n",
       "  return Object.keys(original).reduce(function (obj, key) {\n",
       "    if (typeof original[key] !== 'object')\n",
       "        obj[key] = original[key]\n",
       "    return obj;\n",
       "  }, {});\n",
       "}\n",
       "\n",
       "mpl.figure.prototype.mouse_event = function(event, name) {\n",
       "    var canvas_pos = mpl.findpos(event)\n",
       "\n",
       "    if (name === 'button_press')\n",
       "    {\n",
       "        this.canvas.focus();\n",
       "        this.canvas_div.focus();\n",
       "    }\n",
       "\n",
       "    var x = canvas_pos.x;\n",
       "    var y = canvas_pos.y;\n",
       "\n",
       "    this.send_message(name, {x: x, y: y, button: event.button,\n",
       "                             step: event.step,\n",
       "                             guiEvent: simpleKeys(event)});\n",
       "\n",
       "    /* This prevents the web browser from automatically changing to\n",
       "     * the text insertion cursor when the button is pressed.  We want\n",
       "     * to control all of the cursor setting manually through the\n",
       "     * 'cursor' event from matplotlib */\n",
       "    event.preventDefault();\n",
       "    return false;\n",
       "}\n",
       "\n",
       "mpl.figure.prototype._key_event_extra = function(event, name) {\n",
       "    // Handle any extra behaviour associated with a key event\n",
       "}\n",
       "\n",
       "mpl.figure.prototype.key_event = function(event, name) {\n",
       "\n",
       "    // Prevent repeat events\n",
       "    if (name == 'key_press')\n",
       "    {\n",
       "        if (event.which === this._key)\n",
       "            return;\n",
       "        else\n",
       "            this._key = event.which;\n",
       "    }\n",
       "    if (name == 'key_release')\n",
       "        this._key = null;\n",
       "\n",
       "    var value = '';\n",
       "    if (event.ctrlKey && event.which != 17)\n",
       "        value += \"ctrl+\";\n",
       "    if (event.altKey && event.which != 18)\n",
       "        value += \"alt+\";\n",
       "    if (event.shiftKey && event.which != 16)\n",
       "        value += \"shift+\";\n",
       "\n",
       "    value += 'k';\n",
       "    value += event.which.toString();\n",
       "\n",
       "    this._key_event_extra(event, name);\n",
       "\n",
       "    this.send_message(name, {key: value,\n",
       "                             guiEvent: simpleKeys(event)});\n",
       "    return false;\n",
       "}\n",
       "\n",
       "mpl.figure.prototype.toolbar_button_onclick = function(name) {\n",
       "    if (name == 'download') {\n",
       "        this.handle_save(this, null);\n",
       "    } else {\n",
       "        this.send_message(\"toolbar_button\", {name: name});\n",
       "    }\n",
       "};\n",
       "\n",
       "mpl.figure.prototype.toolbar_button_onmouseover = function(tooltip) {\n",
       "    this.message.textContent = tooltip;\n",
       "};\n",
       "mpl.toolbar_items = [[\"Home\", \"Reset original view\", \"fa fa-home icon-home\", \"home\"], [\"Back\", \"Back to  previous view\", \"fa fa-arrow-left icon-arrow-left\", \"back\"], [\"Forward\", \"Forward to next view\", \"fa fa-arrow-right icon-arrow-right\", \"forward\"], [\"\", \"\", \"\", \"\"], [\"Pan\", \"Pan axes with left mouse, zoom with right\", \"fa fa-arrows icon-move\", \"pan\"], [\"Zoom\", \"Zoom to rectangle\", \"fa fa-square-o icon-check-empty\", \"zoom\"], [\"\", \"\", \"\", \"\"], [\"Download\", \"Download plot\", \"fa fa-floppy-o icon-save\", \"download\"]];\n",
       "\n",
       "mpl.extensions = [\"eps\", \"jpeg\", \"pdf\", \"png\", \"ps\", \"raw\", \"svg\", \"tif\"];\n",
       "\n",
       "mpl.default_extension = \"png\";var comm_websocket_adapter = function(comm) {\n",
       "    // Create a \"websocket\"-like object which calls the given IPython comm\n",
       "    // object with the appropriate methods. Currently this is a non binary\n",
       "    // socket, so there is still some room for performance tuning.\n",
       "    var ws = {};\n",
       "\n",
       "    ws.close = function() {\n",
       "        comm.close()\n",
       "    };\n",
       "    ws.send = function(m) {\n",
       "        //console.log('sending', m);\n",
       "        comm.send(m);\n",
       "    };\n",
       "    // Register the callback with on_msg.\n",
       "    comm.on_msg(function(msg) {\n",
       "        //console.log('receiving', msg['content']['data'], msg);\n",
       "        // Pass the mpl event to the overriden (by mpl) onmessage function.\n",
       "        ws.onmessage(msg['content']['data'])\n",
       "    });\n",
       "    return ws;\n",
       "}\n",
       "\n",
       "mpl.mpl_figure_comm = function(comm, msg) {\n",
       "    // This is the function which gets called when the mpl process\n",
       "    // starts-up an IPython Comm through the \"matplotlib\" channel.\n",
       "\n",
       "    var id = msg.content.data.id;\n",
       "    // Get hold of the div created by the display call when the Comm\n",
       "    // socket was opened in Python.\n",
       "    var element = $(\"#\" + id);\n",
       "    var ws_proxy = comm_websocket_adapter(comm)\n",
       "\n",
       "    function ondownload(figure, format) {\n",
       "        window.open(figure.imageObj.src);\n",
       "    }\n",
       "\n",
       "    var fig = new mpl.figure(id, ws_proxy,\n",
       "                           ondownload,\n",
       "                           element.get(0));\n",
       "\n",
       "    // Call onopen now - mpl needs it, as it is assuming we've passed it a real\n",
       "    // web socket which is closed, not our websocket->open comm proxy.\n",
       "    ws_proxy.onopen();\n",
       "\n",
       "    fig.parent_element = element.get(0);\n",
       "    fig.cell_info = mpl.find_output_cell(\"<div id='\" + id + \"'></div>\");\n",
       "    if (!fig.cell_info) {\n",
       "        console.error(\"Failed to find cell for figure\", id, fig);\n",
       "        return;\n",
       "    }\n",
       "\n",
       "    var output_index = fig.cell_info[2]\n",
       "    var cell = fig.cell_info[0];\n",
       "\n",
       "};\n",
       "\n",
       "mpl.figure.prototype.handle_close = function(fig, msg) {\n",
       "    fig.root.unbind('remove')\n",
       "\n",
       "    // Update the output cell to use the data from the current canvas.\n",
       "    fig.push_to_output();\n",
       "    var dataURL = fig.canvas.toDataURL();\n",
       "    // Re-enable the keyboard manager in IPython - without this line, in FF,\n",
       "    // the notebook keyboard shortcuts fail.\n",
       "    IPython.keyboard_manager.enable()\n",
       "    $(fig.parent_element).html('<img src=\"' + dataURL + '\">');\n",
       "    fig.close_ws(fig, msg);\n",
       "}\n",
       "\n",
       "mpl.figure.prototype.close_ws = function(fig, msg){\n",
       "    fig.send_message('closing', msg);\n",
       "    // fig.ws.close()\n",
       "}\n",
       "\n",
       "mpl.figure.prototype.push_to_output = function(remove_interactive) {\n",
       "    // Turn the data on the canvas into data in the output cell.\n",
       "    var dataURL = this.canvas.toDataURL();\n",
       "    this.cell_info[1]['text/html'] = '<img src=\"' + dataURL + '\">';\n",
       "}\n",
       "\n",
       "mpl.figure.prototype.updated_canvas_event = function() {\n",
       "    // Tell IPython that the notebook contents must change.\n",
       "    IPython.notebook.set_dirty(true);\n",
       "    this.send_message(\"ack\", {});\n",
       "    var fig = this;\n",
       "    // Wait a second, then push the new image to the DOM so\n",
       "    // that it is saved nicely (might be nice to debounce this).\n",
       "    setTimeout(function () { fig.push_to_output() }, 1000);\n",
       "}\n",
       "\n",
       "mpl.figure.prototype._init_toolbar = function() {\n",
       "    var fig = this;\n",
       "\n",
       "    var nav_element = $('<div/>')\n",
       "    nav_element.attr('style', 'width: 100%');\n",
       "    this.root.append(nav_element);\n",
       "\n",
       "    // Define a callback function for later on.\n",
       "    function toolbar_event(event) {\n",
       "        return fig.toolbar_button_onclick(event['data']);\n",
       "    }\n",
       "    function toolbar_mouse_event(event) {\n",
       "        return fig.toolbar_button_onmouseover(event['data']);\n",
       "    }\n",
       "\n",
       "    for(var toolbar_ind in mpl.toolbar_items){\n",
       "        var name = mpl.toolbar_items[toolbar_ind][0];\n",
       "        var tooltip = mpl.toolbar_items[toolbar_ind][1];\n",
       "        var image = mpl.toolbar_items[toolbar_ind][2];\n",
       "        var method_name = mpl.toolbar_items[toolbar_ind][3];\n",
       "\n",
       "        if (!name) { continue; };\n",
       "\n",
       "        var button = $('<button class=\"btn btn-default\" href=\"#\" title=\"' + name + '\"><i class=\"fa ' + image + ' fa-lg\"></i></button>');\n",
       "        button.click(method_name, toolbar_event);\n",
       "        button.mouseover(tooltip, toolbar_mouse_event);\n",
       "        nav_element.append(button);\n",
       "    }\n",
       "\n",
       "    // Add the status bar.\n",
       "    var status_bar = $('<span class=\"mpl-message\" style=\"text-align:right; float: right;\"/>');\n",
       "    nav_element.append(status_bar);\n",
       "    this.message = status_bar[0];\n",
       "\n",
       "    // Add the close button to the window.\n",
       "    var buttongrp = $('<div class=\"btn-group inline pull-right\"></div>');\n",
       "    var button = $('<button class=\"btn btn-mini btn-primary\" href=\"#\" title=\"Stop Interaction\"><i class=\"fa fa-power-off icon-remove icon-large\"></i></button>');\n",
       "    button.click(function (evt) { fig.handle_close(fig, {}); } );\n",
       "    button.mouseover('Stop Interaction', toolbar_mouse_event);\n",
       "    buttongrp.append(button);\n",
       "    var titlebar = this.root.find($('.ui-dialog-titlebar'));\n",
       "    titlebar.prepend(buttongrp);\n",
       "}\n",
       "\n",
       "mpl.figure.prototype._root_extra_style = function(el){\n",
       "    var fig = this\n",
       "    el.on(\"remove\", function(){\n",
       "\tfig.close_ws(fig, {});\n",
       "    });\n",
       "}\n",
       "\n",
       "mpl.figure.prototype._canvas_extra_style = function(el){\n",
       "    // this is important to make the div 'focusable\n",
       "    el.attr('tabindex', 0)\n",
       "    // reach out to IPython and tell the keyboard manager to turn it's self\n",
       "    // off when our div gets focus\n",
       "\n",
       "    // location in version 3\n",
       "    if (IPython.notebook.keyboard_manager) {\n",
       "        IPython.notebook.keyboard_manager.register_events(el);\n",
       "    }\n",
       "    else {\n",
       "        // location in version 2\n",
       "        IPython.keyboard_manager.register_events(el);\n",
       "    }\n",
       "\n",
       "}\n",
       "\n",
       "mpl.figure.prototype._key_event_extra = function(event, name) {\n",
       "    var manager = IPython.notebook.keyboard_manager;\n",
       "    if (!manager)\n",
       "        manager = IPython.keyboard_manager;\n",
       "\n",
       "    // Check for shift+enter\n",
       "    if (event.shiftKey && event.which == 13) {\n",
       "        this.canvas_div.blur();\n",
       "        // select the cell after this one\n",
       "        var index = IPython.notebook.find_cell_index(this.cell_info[0]);\n",
       "        IPython.notebook.select(index + 1);\n",
       "    }\n",
       "}\n",
       "\n",
       "mpl.figure.prototype.handle_save = function(fig, msg) {\n",
       "    fig.ondownload(fig, null);\n",
       "}\n",
       "\n",
       "\n",
       "mpl.find_output_cell = function(html_output) {\n",
       "    // Return the cell and output element which can be found *uniquely* in the notebook.\n",
       "    // Note - this is a bit hacky, but it is done because the \"notebook_saving.Notebook\"\n",
       "    // IPython event is triggered only after the cells have been serialised, which for\n",
       "    // our purposes (turning an active figure into a static one), is too late.\n",
       "    var cells = IPython.notebook.get_cells();\n",
       "    var ncells = cells.length;\n",
       "    for (var i=0; i<ncells; i++) {\n",
       "        var cell = cells[i];\n",
       "        if (cell.cell_type === 'code'){\n",
       "            for (var j=0; j<cell.output_area.outputs.length; j++) {\n",
       "                var data = cell.output_area.outputs[j];\n",
       "                if (data.data) {\n",
       "                    // IPython >= 3 moved mimebundle to data attribute of output\n",
       "                    data = data.data;\n",
       "                }\n",
       "                if (data['text/html'] == html_output) {\n",
       "                    return [cell, data, j];\n",
       "                }\n",
       "            }\n",
       "        }\n",
       "    }\n",
       "}\n",
       "\n",
       "// Register the function which deals with the matplotlib target/channel.\n",
       "// The kernel may be null if the page has been refreshed.\n",
       "if (IPython.notebook.kernel != null) {\n",
       "    IPython.notebook.kernel.comm_manager.register_target('matplotlib', mpl.mpl_figure_comm);\n",
       "}\n"
      ],
      "text/plain": [
       "<IPython.core.display.Javascript object>"
      ]
     },
     "metadata": {},
     "output_type": "display_data"
    },
    {
     "data": {
      "text/html": [
       "<img src=\"data:image/png;base64,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\">"
      ],
      "text/plain": [
       "<IPython.core.display.HTML object>"
      ]
     },
     "metadata": {},
     "output_type": "display_data"
    },
    {
     "data": {
      "text/plain": [
       "array([[<matplotlib.axes._subplots.AxesSubplot object at 0x00000287784694E0>,\n",
       "        <matplotlib.axes._subplots.AxesSubplot object at 0x00000287784AAEB8>,\n",
       "        <matplotlib.axes._subplots.AxesSubplot object at 0x00000287784F0278>],\n",
       "       [<matplotlib.axes._subplots.AxesSubplot object at 0x0000028778537F28>,\n",
       "        <matplotlib.axes._subplots.AxesSubplot object at 0x000002877857B0B8>,\n",
       "        <matplotlib.axes._subplots.AxesSubplot object at 0x00000287785C3390>]], dtype=object)"
      ]
     },
     "execution_count": 21,
     "metadata": {},
     "output_type": "execute_result"
    }
   ],
   "source": [
    "fig,axes = plt.subplots(2,3)\n",
    "axes"
   ]
  },
  {
   "cell_type": "markdown",
   "metadata": {},
   "source": [
    "## Adjusting the spacing around subplots"
   ]
  },
  {
   "cell_type": "code",
   "execution_count": 8,
   "metadata": {
    "collapsed": false
   },
   "outputs": [
    {
     "data": {
      "text/plain": [
       "<matplotlib.figure.Figure at 0x28777a44048>"
      ]
     },
     "metadata": {},
     "output_type": "display_data"
    }
   ],
   "source": [
    "plt.subplots_adjust(left=None, bottom=None, right=None, top=None,\n",
    "                wspace=None, hspace=None)"
   ]
  },
  {
   "cell_type": "code",
   "execution_count": 9,
   "metadata": {
    "collapsed": false
   },
   "outputs": [
    {
     "data": {
      "image/png": "[encoded data removed]",
      "text/plain": [
       "<matplotlib.figure.Figure at 0x28777a74be0>"
      ]
     },
     "metadata": {},
     "output_type": "display_data"
    }
   ],
   "source": [
    "fig, axes = plt.subplots(2, 2, sharex=True, sharey=True)\n",
    "for i in range(2):\n",
    "    for j in range(2):\n",
    "        axes[i, j].hist(randn(500), bins=50, color='k', alpha=0.5)\n",
    "plt.subplots_adjust(wspace=0, hspace=0)"
   ]
  },
  {
   "cell_type": "markdown",
   "metadata": {},
   "source": [
    "## Colors, markers, and line styles"
   ]
  },
  {
   "cell_type": "code",
   "execution_count": 10,
   "metadata": {
    "collapsed": false
   },
   "outputs": [
    {
     "data": {
      "text/plain": [
       "<matplotlib.figure.Figure at 0x28776511860>"
      ]
     },
     "execution_count": 10,
     "metadata": {},
     "output_type": "execute_result"
    },
    {
     "data": {
      "text/plain": [
       "<matplotlib.figure.Figure at 0x28776511860>"
      ]
     },
     "metadata": {},
     "output_type": "display_data"
    }
   ],
   "source": [
    "plt.figure()"
   ]
  },
  {
   "cell_type": "code",
   "execution_count": 11,
   "metadata": {
    "collapsed": false
   },
   "outputs": [
    {
     "data": {
      "text/plain": [
       "[<matplotlib.lines.Line2D at 0x28777a07b70>]"
      ]
     },
     "execution_count": 11,
     "metadata": {},
     "output_type": "execute_result"
    },
    {
     "data": {
      "image/png": "[encoded data removed]",
      "text/plain": [
       "<matplotlib.figure.Figure at 0x28777b9c898>"
      ]
     },
     "metadata": {},
     "output_type": "display_data"
    }
   ],
   "source": [
    "plt.plot(randn(30).cumsum(),'ko--') # color =k, linestyle='dashed, marker='o'"
   ]
  },
  {
   "cell_type": "code",
   "execution_count": 12,
   "metadata": {
    "collapsed": false
   },
   "outputs": [
    {
     "data": {
      "text/plain": [
       "array([ 1.39659148,  1.8860302 ,  1.83274167,  0.5901935 , -0.33956707,\n",
       "       -0.97802296, -0.93774172, -0.26225952, -0.27120115, -1.15682468,\n",
       "       -0.09397314, -0.72622056, -1.21782459, -1.7372222 , -1.34617234,\n",
       "       -0.33367956, -1.37326127, -2.74237394, -1.93482311, -2.54380161,\n",
       "       -2.45714164, -2.59124366, -4.29435248, -4.80572928, -5.83824611,\n",
       "       -3.44718862, -4.76253867, -4.18434136, -4.34067241, -6.30796603])"
      ]
     },
     "execution_count": 12,
     "metadata": {},
     "output_type": "execute_result"
    }
   ],
   "source": [
    "data = randn(30).cumsum()\n",
    "data"
   ]
  },
  {
   "cell_type": "code",
   "execution_count": 13,
   "metadata": {
    "collapsed": false
   },
   "outputs": [
    {
     "data": {
      "text/plain": [
       "<matplotlib.legend.Legend at 0x28777f4b588>"
      ]
     },
     "execution_count": 13,
     "metadata": {},
     "output_type": "execute_result"
    },
    {
     "data": {
      "image/png": "[encoded data removed]",
      "text/plain": [
       "<matplotlib.figure.Figure at 0x28777b019b0>"
      ]
     },
     "metadata": {},
     "output_type": "display_data"
    }
   ],
   "source": [
    "plt.plot(data,'k--',label=\"Default\")\n",
    "plt.plot(data,'k-',drawstyle='steps-post',label=\"steps-post\")\n",
    "plt.legend(loc='best')"
   ]
  },
  {
   "cell_type": "markdown",
   "metadata": {},
   "source": [
    "## Ticks, Labels, and Legends"
   ]
  },
  {
   "cell_type": "markdown",
   "metadata": {},
   "source": [
    "### Setting the title, axis labels, ticks, and ticklabels"
   ]
  },
  {
   "cell_type": "code",
   "execution_count": 14,
   "metadata": {
    "collapsed": false
   },
   "outputs": [
    {
     "data": {
      "text/plain": [
       "<matplotlib.text.Text at 0x28777f5d668>"
      ]
     },
     "execution_count": 14,
     "metadata": {},
     "output_type": "execute_result"
    },
    {
     "data": {
      "image/png": "[encoded data removed]",
      "text/plain": [
       "<matplotlib.figure.Figure at 0x28777f2aa90>"
      ]
     },
     "metadata": {},
     "output_type": "display_data"
    }
   ],
   "source": [
    "fig = plt.figure() \n",
    "ax = fig.add_subplot(1,1,1)\n",
    "ax.plot(randn(1000).cumsum())\n",
    "\n",
    "ticks = ax.set_xticks([0, 250, 500, 750, 1000])\n",
    "labels = ax.set_xticklabels(['one', 'two', 'three', 'four', 'five'],\n",
    "                            rotation=30, fontsize='small')\n",
    "\n",
    "ax.set_title('My first matplotlib plot')\n",
    "ax.set_xlabel('Stages')"
   ]
  },
  {
   "cell_type": "markdown",
   "metadata": {},
   "source": [
    "### Adding Legends "
   ]
  },
  {
   "cell_type": "code",
   "execution_count": 15,
   "metadata": {
    "collapsed": false
   },
   "outputs": [
    {
     "data": {
      "text/plain": [
       "<matplotlib.legend.Legend at 0x28778034fd0>"
      ]
     },
     "execution_count": 15,
     "metadata": {},
     "output_type": "execute_result"
    },
    {
     "data": {
      "image/png": "[encoded data removed]",
      "text/plain": [
       "<matplotlib.figure.Figure at 0x28777f76f28>"
      ]
     },
     "metadata": {},
     "output_type": "display_data"
    }
   ],
   "source": [
    "fig = plt.figure(); ax = fig.add_subplot(1, 1, 1)\n",
    "ax.plot(randn(1000).cumsum(), 'k', label='one')\n",
    "ax.plot(randn(1000).cumsum(), 'r--', label='two')\n",
    "ax.plot(randn(1000).cumsum(), 'g.', label='three')\n",
    "\n",
    "ax.legend(loc='best')"
   ]
  },
  {
   "cell_type": "markdown",
   "metadata": {},
   "source": [
    "### Annotations and Drawing on a Subplot"
   ]
  },
  {
   "cell_type": "code",
   "execution_count": 31,
   "metadata": {
    "collapsed": false
   },
   "outputs": [
    {
     "data": {
      "text/plain": [
       "<matplotlib.text.Text at 0x28777e2add8>"
      ]
     },
     "execution_count": 31,
     "metadata": {},
     "output_type": "execute_result"
    },
    {
     "data": {
      "image/png": "[encoded data removed]",
      "text/plain": [
       "<matplotlib.figure.Figure at 0x287785d61d0>"
      ]
     },
     "metadata": {},
     "output_type": "display_data"
    }
   ],
   "source": [
    "from datetime import datetime\n",
    "\n",
    "fig = plt.figure()\n",
    "ax = fig.add_subplot(1, 1, 1)\n",
    "data = pd.read_csv('ch08/spx.csv', index_col=0, parse_dates=True)\n",
    "spx = data['SPX']\n",
    "\n",
    "spx.plot(ax=ax,style='k-')\n",
    "\n",
    "crisis_data = [\n",
    "    (datetime(2007, 10, 11), 'Peak of bull market'),\n",
    "    (datetime(2008, 3, 12), 'Bear Stearns Fails'),\n",
    "    (datetime(2008, 9, 15), 'Lehman Bankruptcy')\n",
    "]\n",
    "crisis_data\n",
    "\n",
    "for date, label in crisis_data:\n",
    "    ax.annotate(label, xy=(date, spx.asof(date) + 50),\n",
    "                xytext=(date, spx.asof(date) + 200),\n",
    "                arrowprops=dict(facecolor='black'),\n",
    "                horizontalalignment='left', verticalalignment='top')\n",
    "\n",
    "# Zoom in on 2007-2010\n",
    "ax.set_xlim(['1/1/2007', '1/1/2011'])\n",
    "ax.set_ylim([600, 1800])\n",
    "\n",
    "ax.set_title('Important dates in 2008-2009 financial crisis')"
   ]
  },
  {
   "cell_type": "markdown",
   "metadata": {},
   "source": [
    "## Plotting Functions in pandas"
   ]
  },
  {
   "cell_type": "markdown",
   "metadata": {},
   "source": [
    "### Line Plots"
   ]
  },
  {
   "cell_type": "code",
   "execution_count": 32,
   "metadata": {
    "collapsed": true
   },
   "outputs": [],
   "source": [
    "from pandas import Series"
   ]
  },
  {
   "cell_type": "code",
   "execution_count": 33,
   "metadata": {
    "collapsed": false
   },
   "outputs": [
    {
     "data": {
      "text/plain": [
       "0     0.336436\n",
       "10    2.367634\n",
       "20    3.628270\n",
       "30    4.571397\n",
       "40    4.113612\n",
       "50    4.245536\n",
       "60    3.678446\n",
       "70    6.594486\n",
       "80    6.770359\n",
       "90    5.961510\n",
       "dtype: float64"
      ]
     },
     "execution_count": 33,
     "metadata": {},
     "output_type": "execute_result"
    }
   ],
   "source": [
    "s = Series(np.random.randn(10).cumsum(), index=np.arange(0,100,10))\n",
    "s"
   ]
  },
  {
   "cell_type": "code",
   "execution_count": 34,
   "metadata": {
    "collapsed": false
   },
   "outputs": [
    {
     "data": {
      "text/plain": [
       "<matplotlib.axes._subplots.AxesSubplot at 0x28777cf19e8>"
      ]
     },
     "execution_count": 34,
     "metadata": {},
     "output_type": "execute_result"
    },
    {
     "data": {
      "image/png": "[encoded data removed]",
      "text/plain": [
       "<matplotlib.figure.Figure at 0x28777dcf9b0>"
      ]
     },
     "metadata": {},
     "output_type": "display_data"
    }
   ],
   "source": [
    "s.plot()"
   ]
  },
  {
   "cell_type": "code",
   "execution_count": 39,
   "metadata": {
    "collapsed": false
   },
   "outputs": [
    {
     "data": {
      "text/html": [
       "<div>\n",
       "<table border=\"1\" class=\"dataframe\">\n",
       "  <thead>\n",
       "    <tr style=\"text-align: right;\">\n",
       "      <th></th>\n",
       "      <th>A</th>\n",
       "      <th>B</th>\n",
       "      <th>C</th>\n",
       "      <th>D</th>\n",
       "    </tr>\n",
       "  </thead>\n",
       "  <tbody>\n",
       "    <tr>\n",
       "      <th>0</th>\n",
       "      <td>0.142384</td>\n",
       "      <td>0.660953</td>\n",
       "      <td>0.617779</td>\n",
       "      <td>0.826510</td>\n",
       "    </tr>\n",
       "    <tr>\n",
       "      <th>10</th>\n",
       "      <td>0.452801</td>\n",
       "      <td>-0.094397</td>\n",
       "      <td>1.812094</td>\n",
       "      <td>0.935348</td>\n",
       "    </tr>\n",
       "    <tr>\n",
       "      <th>20</th>\n",
       "      <td>0.644746</td>\n",
       "      <td>-1.087691</td>\n",
       "      <td>3.407056</td>\n",
       "      <td>2.353829</td>\n",
       "    </tr>\n",
       "    <tr>\n",
       "      <th>30</th>\n",
       "      <td>0.632188</td>\n",
       "      <td>-1.413588</td>\n",
       "      <td>4.824893</td>\n",
       "      <td>1.796291</td>\n",
       "    </tr>\n",
       "    <tr>\n",
       "      <th>40</th>\n",
       "      <td>0.586268</td>\n",
       "      <td>-2.976866</td>\n",
       "      <td>5.101872</td>\n",
       "      <td>0.669397</td>\n",
       "    </tr>\n",
       "    <tr>\n",
       "      <th>50</th>\n",
       "      <td>1.220784</td>\n",
       "      <td>-2.023101</td>\n",
       "      <td>6.152421</td>\n",
       "      <td>1.723667</td>\n",
       "    </tr>\n",
       "    <tr>\n",
       "      <th>60</th>\n",
       "      <td>1.420326</td>\n",
       "      <td>-1.687525</td>\n",
       "      <td>6.497861</td>\n",
       "      <td>1.707072</td>\n",
       "    </tr>\n",
       "    <tr>\n",
       "      <th>70</th>\n",
       "      <td>1.671287</td>\n",
       "      <td>-0.306728</td>\n",
       "      <td>7.621636</td>\n",
       "      <td>0.491705</td>\n",
       "    </tr>\n",
       "    <tr>\n",
       "      <th>80</th>\n",
       "      <td>0.485431</td>\n",
       "      <td>0.662602</td>\n",
       "      <td>8.234163</td>\n",
       "      <td>1.880517</td>\n",
       "    </tr>\n",
       "    <tr>\n",
       "      <th>90</th>\n",
       "      <td>0.120368</td>\n",
       "      <td>0.001470</td>\n",
       "      <td>8.647484</td>\n",
       "      <td>1.874322</td>\n",
       "    </tr>\n",
       "  </tbody>\n",
       "</table>\n",
       "</div>"
      ],
      "text/plain": [
       "           A         B         C         D\n",
       "0   0.142384  0.660953  0.617779  0.826510\n",
       "10  0.452801 -0.094397  1.812094  0.935348\n",
       "20  0.644746 -1.087691  3.407056  2.353829\n",
       "30  0.632188 -1.413588  4.824893  1.796291\n",
       "40  0.586268 -2.976866  5.101872  0.669397\n",
       "50  1.220784 -2.023101  6.152421  1.723667\n",
       "60  1.420326 -1.687525  6.497861  1.707072\n",
       "70  1.671287 -0.306728  7.621636  0.491705\n",
       "80  0.485431  0.662602  8.234163  1.880517\n",
       "90  0.120368  0.001470  8.647484  1.874322"
      ]
     },
     "execution_count": 39,
     "metadata": {},
     "output_type": "execute_result"
    }
   ],
   "source": [
    "df = pd.DataFrame(np.random.randn(10, 4).cumsum(0),\n",
    "               columns=['A', 'B', 'C', 'D'],\n",
    "               index=np.arange(0, 100, 10))\n",
    "df"
   ]
  },
  {
   "cell_type": "code",
   "execution_count": 40,
   "metadata": {
    "collapsed": false
   },
   "outputs": [
    {
     "data": {
      "text/plain": [
       "<matplotlib.axes._subplots.AxesSubplot at 0x28777aeed30>"
      ]
     },
     "execution_count": 40,
     "metadata": {},
     "output_type": "execute_result"
    },
    {
     "data": {
      "image/png": "[encoded data removed]",
      "text/plain": [
       "<matplotlib.figure.Figure at 0x28777d79208>"
      ]
     },
     "metadata": {},
     "output_type": "display_data"
    }
   ],
   "source": [
    "df.plot()"
   ]
  },
  {
   "cell_type": "markdown",
   "metadata": {},
   "source": [
    "### Barplot"
   ]
  },
  {
   "cell_type": "code",
   "execution_count": 41,
   "metadata": {
    "collapsed": false
   },
   "outputs": [
    {
     "data": {
      "text/plain": [
       "<matplotlib.axes._subplots.AxesSubplot at 0x28777eb6a20>"
      ]
     },
     "execution_count": 41,
     "metadata": {},
     "output_type": "execute_result"
    },
    {
     "data": {
      "image/png": "[encoded data removed]",
      "text/plain": [
       "<matplotlib.figure.Figure at 0x28777e307b8>"
      ]
     },
     "metadata": {},
     "output_type": "display_data"
    }
   ],
   "source": [
    "fig, axes = plt.subplots(2, 1)\n",
    "data = Series(np.random.rand(16), index=list('abcdefghijklmnop'))\n",
    "data.plot(kind='bar', ax=axes[0], color='k', alpha=0.7)\n",
    "data.plot(kind='barh', ax=axes[1], color='k', alpha=0.7)"
   ]
  },
  {
   "cell_type": "code",
   "execution_count": 36,
   "metadata": {
    "collapsed": false
   },
   "outputs": [
    {
     "data": {
      "text/html": [
       "<div>\n",
       "<table border=\"1\" class=\"dataframe\">\n",
       "  <thead>\n",
       "    <tr style=\"text-align: right;\">\n",
       "      <th>Genus</th>\n",
       "      <th>A</th>\n",
       "      <th>B</th>\n",
       "      <th>C</th>\n",
       "      <th>D</th>\n",
       "    </tr>\n",
       "  </thead>\n",
       "  <tbody>\n",
       "    <tr>\n",
       "      <th>one</th>\n",
       "      <td>0.245305</td>\n",
       "      <td>0.695240</td>\n",
       "      <td>0.919805</td>\n",
       "      <td>0.364884</td>\n",
       "    </tr>\n",
       "    <tr>\n",
       "      <th>two</th>\n",
       "      <td>0.785110</td>\n",
       "      <td>0.338832</td>\n",
       "      <td>0.075732</td>\n",
       "      <td>0.387223</td>\n",
       "    </tr>\n",
       "    <tr>\n",
       "      <th>three</th>\n",
       "      <td>0.101870</td>\n",
       "      <td>0.123454</td>\n",
       "      <td>0.500763</td>\n",
       "      <td>0.697243</td>\n",
       "    </tr>\n",
       "    <tr>\n",
       "      <th>four</th>\n",
       "      <td>0.648502</td>\n",
       "      <td>0.315141</td>\n",
       "      <td>0.556975</td>\n",
       "      <td>0.334335</td>\n",
       "    </tr>\n",
       "    <tr>\n",
       "      <th>five</th>\n",
       "      <td>0.616087</td>\n",
       "      <td>0.689169</td>\n",
       "      <td>0.293748</td>\n",
       "      <td>0.584778</td>\n",
       "    </tr>\n",
       "    <tr>\n",
       "      <th>six</th>\n",
       "      <td>0.229911</td>\n",
       "      <td>0.184274</td>\n",
       "      <td>0.630399</td>\n",
       "      <td>0.725564</td>\n",
       "    </tr>\n",
       "  </tbody>\n",
       "</table>\n",
       "</div>"
      ],
      "text/plain": [
       "Genus         A         B         C         D\n",
       "one    0.245305  0.695240  0.919805  0.364884\n",
       "two    0.785110  0.338832  0.075732  0.387223\n",
       "three  0.101870  0.123454  0.500763  0.697243\n",
       "four   0.648502  0.315141  0.556975  0.334335\n",
       "five   0.616087  0.689169  0.293748  0.584778\n",
       "six    0.229911  0.184274  0.630399  0.725564"
      ]
     },
     "execution_count": 36,
     "metadata": {},
     "output_type": "execute_result"
    }
   ],
   "source": [
    "df = pd.DataFrame(np.random.rand(6, 4),\n",
    "               index=['one', 'two', 'three', 'four', 'five', 'six'],\n",
    "               columns=pd.Index(['A', 'B', 'C', 'D'], name='Genus'))\n",
    "df"
   ]
  },
  {
   "cell_type": "code",
   "execution_count": 37,
   "metadata": {
    "collapsed": false
   },
   "outputs": [
    {
     "data": {
      "text/plain": [
       "<matplotlib.axes._subplots.AxesSubplot at 0x287784594e0>"
      ]
     },
     "execution_count": 37,
     "metadata": {},
     "output_type": "execute_result"
    },
    {
     "data": {
      "image/png": "[encoded data removed]",
      "text/plain": [
       "<matplotlib.figure.Figure at 0x28777d6d668>"
      ]
     },
     "metadata": {},
     "output_type": "display_data"
    }
   ],
   "source": [
    "df.plot"
   ]
  },
  {
   "cell_type": "code",
   "execution_count": 42,
   "metadata": {
    "collapsed": false
   },
   "outputs": [
    {
     "data": {
      "text/plain": [
       "<matplotlib.axes._subplots.AxesSubplot at 0x28777a71ef0>"
      ]
     },
     "execution_count": 42,
     "metadata": {},
     "output_type": "execute_result"
    },
    {
     "data": {
      "image/png": "[encoded data removed]",
      "text/plain": [
       "<matplotlib.figure.Figure at 0x28777b597f0>"
      ]
     },
     "metadata": {},
     "output_type": "display_data"
    }
   ],
   "source": [
    "df.plot(kind='barh', stacked=True, alpha=0.5)"
   ]
  },
  {
   "cell_type": "code",
   "execution_count": 75,
   "metadata": {
    "collapsed": false
   },
   "outputs": [
    {
     "data": {
      "text/html": [
       "<div>\n",
       "<table border=\"1\" class=\"dataframe\">\n",
       "  <thead>\n",
       "    <tr style=\"text-align: right;\">\n",
       "      <th></th>\n",
       "      <th>total_bill</th>\n",
       "      <th>tip</th>\n",
       "      <th>sex</th>\n",
       "      <th>smoker</th>\n",
       "      <th>day</th>\n",
       "      <th>time</th>\n",
       "      <th>size</th>\n",
       "    </tr>\n",
       "  </thead>\n",
       "  <tbody>\n",
       "    <tr>\n",
       "      <th>239</th>\n",
       "      <td>29.03</td>\n",
       "      <td>5.92</td>\n",
       "      <td>Male</td>\n",
       "      <td>No</td>\n",
       "      <td>Sat</td>\n",
       "      <td>Dinner</td>\n",
       "      <td>3</td>\n",
       "    </tr>\n",
       "    <tr>\n",
       "      <th>240</th>\n",
       "      <td>27.18</td>\n",
       "      <td>2.00</td>\n",
       "      <td>Female</td>\n",
       "      <td>Yes</td>\n",
       "      <td>Sat</td>\n",
       "      <td>Dinner</td>\n",
       "      <td>2</td>\n",
       "    </tr>\n",
       "    <tr>\n",
       "      <th>241</th>\n",
       "      <td>22.67</td>\n",
       "      <td>2.00</td>\n",
       "      <td>Male</td>\n",
       "      <td>Yes</td>\n",
       "      <td>Sat</td>\n",
       "      <td>Dinner</td>\n",
       "      <td>2</td>\n",
       "    </tr>\n",
       "    <tr>\n",
       "      <th>242</th>\n",
       "      <td>17.82</td>\n",
       "      <td>1.75</td>\n",
       "      <td>Male</td>\n",
       "      <td>No</td>\n",
       "      <td>Sat</td>\n",
       "      <td>Dinner</td>\n",
       "      <td>2</td>\n",
       "    </tr>\n",
       "    <tr>\n",
       "      <th>243</th>\n",
       "      <td>18.78</td>\n",
       "      <td>3.00</td>\n",
       "      <td>Female</td>\n",
       "      <td>No</td>\n",
       "      <td>Thur</td>\n",
       "      <td>Dinner</td>\n",
       "      <td>2</td>\n",
       "    </tr>\n",
       "  </tbody>\n",
       "</table>\n",
       "</div>"
      ],
      "text/plain": [
       "     total_bill   tip     sex smoker   day    time  size\n",
       "239       29.03  5.92    Male     No   Sat  Dinner     3\n",
       "240       27.18  2.00  Female    Yes   Sat  Dinner     2\n",
       "241       22.67  2.00    Male    Yes   Sat  Dinner     2\n",
       "242       17.82  1.75    Male     No   Sat  Dinner     2\n",
       "243       18.78  3.00  Female     No  Thur  Dinner     2"
      ]
     },
     "execution_count": 75,
     "metadata": {},
     "output_type": "execute_result"
    }
   ],
   "source": [
    "tips = pd.read_csv('ch08/tips.csv')\n",
    "tips.tail()"
   ]
  },
  {
   "cell_type": "code",
   "execution_count": 78,
   "metadata": {
    "collapsed": false
   },
   "outputs": [
    {
     "data": {
      "text/html": [
       "<div>\n",
       "<table border=\"1\" class=\"dataframe\">\n",
       "  <thead>\n",
       "    <tr style=\"text-align: right;\">\n",
       "      <th>size</th>\n",
       "      <th>1</th>\n",
       "      <th>2</th>\n",
       "      <th>3</th>\n",
       "      <th>4</th>\n",
       "      <th>5</th>\n",
       "      <th>6</th>\n",
       "    </tr>\n",
       "    <tr>\n",
       "      <th>day</th>\n",
       "      <th></th>\n",
       "      <th></th>\n",
       "      <th></th>\n",
       "      <th></th>\n",
       "      <th></th>\n",
       "      <th></th>\n",
       "    </tr>\n",
       "  </thead>\n",
       "  <tbody>\n",
       "    <tr>\n",
       "      <th>Fri</th>\n",
       "      <td>1</td>\n",
       "      <td>16</td>\n",
       "      <td>1</td>\n",
       "      <td>1</td>\n",
       "      <td>0</td>\n",
       "      <td>0</td>\n",
       "    </tr>\n",
       "    <tr>\n",
       "      <th>Sat</th>\n",
       "      <td>2</td>\n",
       "      <td>53</td>\n",
       "      <td>18</td>\n",
       "      <td>13</td>\n",
       "      <td>1</td>\n",
       "      <td>0</td>\n",
       "    </tr>\n",
       "    <tr>\n",
       "      <th>Sun</th>\n",
       "      <td>0</td>\n",
       "      <td>39</td>\n",
       "      <td>15</td>\n",
       "      <td>18</td>\n",
       "      <td>3</td>\n",
       "      <td>1</td>\n",
       "    </tr>\n",
       "    <tr>\n",
       "      <th>Thur</th>\n",
       "      <td>1</td>\n",
       "      <td>48</td>\n",
       "      <td>4</td>\n",
       "      <td>5</td>\n",
       "      <td>1</td>\n",
       "      <td>3</td>\n",
       "    </tr>\n",
       "  </tbody>\n",
       "</table>\n",
       "</div>"
      ],
      "text/plain": [
       "size  1   2   3   4  5  6\n",
       "day                      \n",
       "Fri   1  16   1   1  0  0\n",
       "Sat   2  53  18  13  1  0\n",
       "Sun   0  39  15  18  3  1\n",
       "Thur  1  48   4   5  1  3"
      ]
     },
     "execution_count": 78,
     "metadata": {},
     "output_type": "execute_result"
    }
   ],
   "source": [
    "party_counts = pd.crosstab(tips.day, tips['size'])\n",
    "party_counts"
   ]
  },
  {
   "cell_type": "code",
   "execution_count": 79,
   "metadata": {
    "collapsed": true
   },
   "outputs": [],
   "source": [
    "party_counts = party_counts.ix[:, 2:5]"
   ]
  },
  {
   "cell_type": "code",
   "execution_count": 80,
   "metadata": {
    "collapsed": false
   },
   "outputs": [
    {
     "data": {
      "text/html": [
       "<div>\n",
       "<table border=\"1\" class=\"dataframe\">\n",
       "  <thead>\n",
       "    <tr style=\"text-align: right;\">\n",
       "      <th>size</th>\n",
       "      <th>2</th>\n",
       "      <th>3</th>\n",
       "      <th>4</th>\n",
       "      <th>5</th>\n",
       "    </tr>\n",
       "    <tr>\n",
       "      <th>day</th>\n",
       "      <th></th>\n",
       "      <th></th>\n",
       "      <th></th>\n",
       "      <th></th>\n",
       "    </tr>\n",
       "  </thead>\n",
       "  <tbody>\n",
       "    <tr>\n",
       "      <th>Fri</th>\n",
       "      <td>0.888889</td>\n",
       "      <td>0.055556</td>\n",
       "      <td>0.055556</td>\n",
       "      <td>0.000000</td>\n",
       "    </tr>\n",
       "    <tr>\n",
       "      <th>Sat</th>\n",
       "      <td>0.623529</td>\n",
       "      <td>0.211765</td>\n",
       "      <td>0.152941</td>\n",
       "      <td>0.011765</td>\n",
       "    </tr>\n",
       "    <tr>\n",
       "      <th>Sun</th>\n",
       "      <td>0.520000</td>\n",
       "      <td>0.200000</td>\n",
       "      <td>0.240000</td>\n",
       "      <td>0.040000</td>\n",
       "    </tr>\n",
       "    <tr>\n",
       "      <th>Thur</th>\n",
       "      <td>0.827586</td>\n",
       "      <td>0.068966</td>\n",
       "      <td>0.086207</td>\n",
       "      <td>0.017241</td>\n",
       "    </tr>\n",
       "  </tbody>\n",
       "</table>\n",
       "</div>"
      ],
      "text/plain": [
       "size         2         3         4         5\n",
       "day                                         \n",
       "Fri   0.888889  0.055556  0.055556  0.000000\n",
       "Sat   0.623529  0.211765  0.152941  0.011765\n",
       "Sun   0.520000  0.200000  0.240000  0.040000\n",
       "Thur  0.827586  0.068966  0.086207  0.017241"
      ]
     },
     "execution_count": 80,
     "metadata": {},
     "output_type": "execute_result"
    }
   ],
   "source": [
    "party_pcts = party_counts.div(party_counts.sum(1).astype(float), axis=0) # 총합이 1이 되도록 정규화한다\n",
    "party_pcts"
   ]
  },
  {
   "cell_type": "code",
   "execution_count": 81,
   "metadata": {
    "collapsed": false
   },
   "outputs": [
    {
     "data": {
      "text/plain": [
       "<matplotlib.axes._subplots.AxesSubplot at 0x28779b92128>"
      ]
     },
     "execution_count": 81,
     "metadata": {},
     "output_type": "execute_result"
    },
    {
     "data": {
      "image/png": "[encoded data removed]",
      "text/plain": [
       "<matplotlib.figure.Figure at 0x28779b86048>"
      ]
     },
     "metadata": {},
     "output_type": "display_data"
    }
   ],
   "source": [
    "party_pcts.plot(kind='bar',stacked=True)"
   ]
  },
  {
   "cell_type": "code",
   "execution_count": 82,
   "metadata": {
    "collapsed": false
   },
   "outputs": [
    {
     "data": {
      "text/plain": [
       "<matplotlib.axes._subplots.AxesSubplot at 0x28779be5ba8>"
      ]
     },
     "execution_count": 82,
     "metadata": {},
     "output_type": "execute_result"
    },
    {
     "data": {
      "image/png": "[encoded data removed]",
      "text/plain": [
       "<matplotlib.figure.Figure at 0x28779c08c18>"
      ]
     },
     "metadata": {},
     "output_type": "display_data"
    }
   ],
   "source": [
    "party_pcts.plot(kind='bar')"
   ]
  },
  {
   "cell_type": "markdown",
   "metadata": {},
   "source": [
    "## Histograms and Density Plots"
   ]
  },
  {
   "cell_type": "code",
   "execution_count": 83,
   "metadata": {
    "collapsed": false
   },
   "outputs": [
    {
     "data": {
      "text/html": [
       "<div>\n",
       "<table border=\"1\" class=\"dataframe\">\n",
       "  <thead>\n",
       "    <tr style=\"text-align: right;\">\n",
       "      <th></th>\n",
       "      <th>total_bill</th>\n",
       "      <th>tip</th>\n",
       "      <th>sex</th>\n",
       "      <th>smoker</th>\n",
       "      <th>day</th>\n",
       "      <th>time</th>\n",
       "      <th>size</th>\n",
       "    </tr>\n",
       "  </thead>\n",
       "  <tbody>\n",
       "    <tr>\n",
       "      <th>0</th>\n",
       "      <td>16.99</td>\n",
       "      <td>1.01</td>\n",
       "      <td>Female</td>\n",
       "      <td>No</td>\n",
       "      <td>Sun</td>\n",
       "      <td>Dinner</td>\n",
       "      <td>2</td>\n",
       "    </tr>\n",
       "    <tr>\n",
       "      <th>1</th>\n",
       "      <td>10.34</td>\n",
       "      <td>1.66</td>\n",
       "      <td>Male</td>\n",
       "      <td>No</td>\n",
       "      <td>Sun</td>\n",
       "      <td>Dinner</td>\n",
       "      <td>3</td>\n",
       "    </tr>\n",
       "    <tr>\n",
       "      <th>2</th>\n",
       "      <td>21.01</td>\n",
       "      <td>3.50</td>\n",
       "      <td>Male</td>\n",
       "      <td>No</td>\n",
       "      <td>Sun</td>\n",
       "      <td>Dinner</td>\n",
       "      <td>3</td>\n",
       "    </tr>\n",
       "    <tr>\n",
       "      <th>3</th>\n",
       "      <td>23.68</td>\n",
       "      <td>3.31</td>\n",
       "      <td>Male</td>\n",
       "      <td>No</td>\n",
       "      <td>Sun</td>\n",
       "      <td>Dinner</td>\n",
       "      <td>2</td>\n",
       "    </tr>\n",
       "    <tr>\n",
       "      <th>4</th>\n",
       "      <td>24.59</td>\n",
       "      <td>3.61</td>\n",
       "      <td>Female</td>\n",
       "      <td>No</td>\n",
       "      <td>Sun</td>\n",
       "      <td>Dinner</td>\n",
       "      <td>4</td>\n",
       "    </tr>\n",
       "  </tbody>\n",
       "</table>\n",
       "</div>"
      ],
      "text/plain": [
       "   total_bill   tip     sex smoker  day    time  size\n",
       "0       16.99  1.01  Female     No  Sun  Dinner     2\n",
       "1       10.34  1.66    Male     No  Sun  Dinner     3\n",
       "2       21.01  3.50    Male     No  Sun  Dinner     3\n",
       "3       23.68  3.31    Male     No  Sun  Dinner     2\n",
       "4       24.59  3.61  Female     No  Sun  Dinner     4"
      ]
     },
     "execution_count": 83,
     "metadata": {},
     "output_type": "execute_result"
    }
   ],
   "source": [
    "tips.head()"
   ]
  },
  {
   "cell_type": "code",
   "execution_count": 84,
   "metadata": {
    "collapsed": true
   },
   "outputs": [],
   "source": [
    "tips['tip_pct'] = tips['tip'] / tips['total_bill']"
   ]
  },
  {
   "cell_type": "code",
   "execution_count": 85,
   "metadata": {
    "collapsed": false
   },
   "outputs": [
    {
     "data": {
      "text/plain": [
       "<matplotlib.axes._subplots.AxesSubplot at 0x28779cce940>"
      ]
     },
     "execution_count": 85,
     "metadata": {},
     "output_type": "execute_result"
    },
    {
     "data": {
      "image/png": "[encoded data removed]",
      "text/plain": [
       "<matplotlib.figure.Figure at 0x28779cbf5f8>"
      ]
     },
     "metadata": {},
     "output_type": "display_data"
    }
   ],
   "source": [
    "tips['tip_pct'].hist(bins=50)"
   ]
  },
  {
   "cell_type": "code",
   "execution_count": 86,
   "metadata": {
    "collapsed": false
   },
   "outputs": [
    {
     "data": {
      "text/plain": [
       "<matplotlib.axes._subplots.AxesSubplot at 0x28779d44b38>"
      ]
     },
     "execution_count": 86,
     "metadata": {},
     "output_type": "execute_result"
    },
    {
     "data": {
      "image/png": "[encoded data removed]",
      "text/plain": [
       "<matplotlib.figure.Figure at 0x28779dccbe0>"
      ]
     },
     "metadata": {},
     "output_type": "display_data"
    }
   ],
   "source": [
    "tips['tip_pct'].plot(kind='kde') # Density"
   ]
  },
  {
   "cell_type": "code",
   "execution_count": 87,
   "metadata": {
    "collapsed": true
   },
   "outputs": [],
   "source": [
    "comp1 = np.random.normal(0, 1, size=200) # N(0, 1) 평균이 0 표준편차 1\n",
    "comp2 = np.random.normal(10, 2, size=200) # N(10, 4) 평균 10 표준편차 2"
   ]
  },
  {
   "cell_type": "code",
   "execution_count": 88,
   "metadata": {
    "collapsed": false
   },
   "outputs": [
    {
     "data": {
      "text/plain": [
       "0   -1.374343\n",
       "1   -0.233638\n",
       "2   -0.891121\n",
       "3    0.710374\n",
       "4   -1.374517\n",
       "dtype: float64"
      ]
     },
     "execution_count": 88,
     "metadata": {},
     "output_type": "execute_result"
    }
   ],
   "source": [
    "values = Series(np.concatenate([comp1, comp2]))\n",
    "values.head()"
   ]
  },
  {
   "cell_type": "code",
   "execution_count": 89,
   "metadata": {
    "collapsed": false
   },
   "outputs": [
    {
     "data": {
      "text/plain": [
       "<matplotlib.axes._subplots.AxesSubplot at 0x28779cc3eb8>"
      ]
     },
     "execution_count": 89,
     "metadata": {},
     "output_type": "execute_result"
    },
    {
     "data": {
      "image/png": "[encoded data removed]",
      "text/plain": [
       "<matplotlib.figure.Figure at 0x2877a608828>"
      ]
     },
     "metadata": {},
     "output_type": "display_data"
    }
   ],
   "source": [
    "values.hist(bins=100, alpha=0.3, color='k', normed=True)"
   ]
  },
  {
   "cell_type": "markdown",
   "metadata": {},
   "source": [
    "values.hist 함수 인자\n",
    " - bins: 몇 개를 보여줄지\n",
    " - alpha: 투명도\n",
    " - normed: 정규화: 많은 양의 데이터를 처리함에 있어 여러 이유로 정규화, 즉 데이터의 범위를 일치시키거나 분포를 유사하게 만들어주는 등의 작업은 꼭 필요한 일이다."
   ]
  },
  {
   "cell_type": "code",
   "execution_count": 92,
   "metadata": {
    "collapsed": false
   },
   "outputs": [
    {
     "data": {
      "text/plain": [
       "<matplotlib.axes._subplots.AxesSubplot at 0x2877bd66780>"
      ]
     },
     "execution_count": 92,
     "metadata": {},
     "output_type": "execute_result"
    },
    {
     "data": {
      "image/png": "[encoded data removed]",
      "text/plain": [
       "<matplotlib.figure.Figure at 0x2877bba0dd8>"
      ]
     },
     "metadata": {},
     "output_type": "display_data"
    }
   ],
   "source": [
    "values.hist(bins=100, alpha=0.8, color='k', normed=False)"
   ]
  },
  {
   "cell_type": "code",
   "execution_count": 93,
   "metadata": {
    "collapsed": false
   },
   "outputs": [
    {
     "data": {
      "text/plain": [
       "<matplotlib.axes._subplots.AxesSubplot at 0x2877bee3c18>"
      ]
     },
     "execution_count": 93,
     "metadata": {},
     "output_type": "execute_result"
    },
    {
     "data": {
      "image/png": "[encoded data removed]",
      "text/plain": [
       "<matplotlib.figure.Figure at 0x2877c029e80>"
      ]
     },
     "metadata": {},
     "output_type": "display_data"
    }
   ],
   "source": [
    "values.plot(kind='kde', style='k--')"
   ]
  },
  {
   "cell_type": "code",
   "execution_count": 95,
   "metadata": {
    "collapsed": false
   },
   "outputs": [
    {
     "data": {
      "text/plain": [
       "<matplotlib.axes._subplots.AxesSubplot at 0x2877bffa518>"
      ]
     },
     "execution_count": 95,
     "metadata": {},
     "output_type": "execute_result"
    },
    {
     "data": {
      "image/png": "[encoded data removed]",
      "text/plain": [
       "<matplotlib.figure.Figure at 0x2877c0540f0>"
      ]
     },
     "metadata": {},
     "output_type": "display_data"
    }
   ],
   "source": [
    "values.hist(bins=100, alpha=0.3, color='k', normed=True)\n",
    "values.plot(kind='kde', style='k--')"
   ]
  },
  {
   "cell_type": "markdown",
   "metadata": {},
   "source": [
    "### Scatter plots"
   ]
  },
  {
   "cell_type": "code",
   "execution_count": 94,
   "metadata": {
    "collapsed": false
   },
   "outputs": [
    {
     "data": {
      "text/html": [
       "<div>\n",
       "<table border=\"1\" class=\"dataframe\">\n",
       "  <thead>\n",
       "    <tr style=\"text-align: right;\">\n",
       "      <th></th>\n",
       "      <th>year</th>\n",
       "      <th>quarter</th>\n",
       "      <th>realgdp</th>\n",
       "      <th>realcons</th>\n",
       "      <th>realinv</th>\n",
       "      <th>realgovt</th>\n",
       "      <th>realdpi</th>\n",
       "      <th>cpi</th>\n",
       "      <th>m1</th>\n",
       "      <th>tbilrate</th>\n",
       "      <th>unemp</th>\n",
       "      <th>pop</th>\n",
       "      <th>infl</th>\n",
       "      <th>realint</th>\n",
       "    </tr>\n",
       "  </thead>\n",
       "  <tbody>\n",
       "    <tr>\n",
       "      <th>0</th>\n",
       "      <td>1959.0</td>\n",
       "      <td>1.0</td>\n",
       "      <td>2710.349</td>\n",
       "      <td>1707.4</td>\n",
       "      <td>286.898</td>\n",
       "      <td>470.045</td>\n",
       "      <td>1886.9</td>\n",
       "      <td>28.98</td>\n",
       "      <td>139.7</td>\n",
       "      <td>2.82</td>\n",
       "      <td>5.8</td>\n",
       "      <td>177.146</td>\n",
       "      <td>0.00</td>\n",
       "      <td>0.00</td>\n",
       "    </tr>\n",
       "    <tr>\n",
       "      <th>1</th>\n",
       "      <td>1959.0</td>\n",
       "      <td>2.0</td>\n",
       "      <td>2778.801</td>\n",
       "      <td>1733.7</td>\n",
       "      <td>310.859</td>\n",
       "      <td>481.301</td>\n",
       "      <td>1919.7</td>\n",
       "      <td>29.15</td>\n",
       "      <td>141.7</td>\n",
       "      <td>3.08</td>\n",
       "      <td>5.1</td>\n",
       "      <td>177.830</td>\n",
       "      <td>2.34</td>\n",
       "      <td>0.74</td>\n",
       "    </tr>\n",
       "    <tr>\n",
       "      <th>2</th>\n",
       "      <td>1959.0</td>\n",
       "      <td>3.0</td>\n",
       "      <td>2775.488</td>\n",
       "      <td>1751.8</td>\n",
       "      <td>289.226</td>\n",
       "      <td>491.260</td>\n",
       "      <td>1916.4</td>\n",
       "      <td>29.35</td>\n",
       "      <td>140.5</td>\n",
       "      <td>3.82</td>\n",
       "      <td>5.3</td>\n",
       "      <td>178.657</td>\n",
       "      <td>2.74</td>\n",
       "      <td>1.09</td>\n",
       "    </tr>\n",
       "    <tr>\n",
       "      <th>3</th>\n",
       "      <td>1959.0</td>\n",
       "      <td>4.0</td>\n",
       "      <td>2785.204</td>\n",
       "      <td>1753.7</td>\n",
       "      <td>299.356</td>\n",
       "      <td>484.052</td>\n",
       "      <td>1931.3</td>\n",
       "      <td>29.37</td>\n",
       "      <td>140.0</td>\n",
       "      <td>4.33</td>\n",
       "      <td>5.6</td>\n",
       "      <td>179.386</td>\n",
       "      <td>0.27</td>\n",
       "      <td>4.06</td>\n",
       "    </tr>\n",
       "    <tr>\n",
       "      <th>4</th>\n",
       "      <td>1960.0</td>\n",
       "      <td>1.0</td>\n",
       "      <td>2847.699</td>\n",
       "      <td>1770.5</td>\n",
       "      <td>331.722</td>\n",
       "      <td>462.199</td>\n",
       "      <td>1955.5</td>\n",
       "      <td>29.54</td>\n",
       "      <td>139.6</td>\n",
       "      <td>3.50</td>\n",
       "      <td>5.2</td>\n",
       "      <td>180.007</td>\n",
       "      <td>2.31</td>\n",
       "      <td>1.19</td>\n",
       "    </tr>\n",
       "  </tbody>\n",
       "</table>\n",
       "</div>"
      ],
      "text/plain": [
       "     year  quarter   realgdp  realcons  realinv  realgovt  realdpi    cpi  \\\n",
       "0  1959.0      1.0  2710.349    1707.4  286.898   470.045   1886.9  28.98   \n",
       "1  1959.0      2.0  2778.801    1733.7  310.859   481.301   1919.7  29.15   \n",
       "2  1959.0      3.0  2775.488    1751.8  289.226   491.260   1916.4  29.35   \n",
       "3  1959.0      4.0  2785.204    1753.7  299.356   484.052   1931.3  29.37   \n",
       "4  1960.0      1.0  2847.699    1770.5  331.722   462.199   1955.5  29.54   \n",
       "\n",
       "      m1  tbilrate  unemp      pop  infl  realint  \n",
       "0  139.7      2.82    5.8  177.146  0.00     0.00  \n",
       "1  141.7      3.08    5.1  177.830  2.34     0.74  \n",
       "2  140.5      3.82    5.3  178.657  2.74     1.09  \n",
       "3  140.0      4.33    5.6  179.386  0.27     4.06  \n",
       "4  139.6      3.50    5.2  180.007  2.31     1.19  "
      ]
     },
     "execution_count": 94,
     "metadata": {},
     "output_type": "execute_result"
    }
   ],
   "source": [
    "macro = pd.read_csv('ch08/macrodata.csv')\n",
    "macro.head()"
   ]
  },
  {
   "cell_type": "code",
   "execution_count": 96,
   "metadata": {
    "collapsed": true
   },
   "outputs": [],
   "source": [
    "data = macro[['cpi','m1','tbilrate','unemp']]"
   ]
  },
  {
   "cell_type": "code",
   "execution_count": 99,
   "metadata": {
    "collapsed": false
   },
   "outputs": [],
   "source": [
    "np.diff?"
   ]
  },
  {
   "cell_type": "markdown",
   "metadata": {},
   "source": [
    "    diff : ndarray\n",
    "        The n-th differences. The shape of the output is the same as `a`\n",
    "        except along `axis` where the dimension is smaller by `n`.\n",
    "  \n",
    "      Examples\n",
    "    --------\n",
    "    >>> x = np.array([1, 2, 4, 7, 0])\n",
    "    >>> np.diff(x)\n",
    "    array([ 1,  2,  3, -7])\n",
    "    >>> np.diff(x, n=2)\n",
    "    array([  1,   1, -10])\n",
    "\n",
    "    >>> x = np.array([[1, 3, 6, 10], [0, 5, 6, 8]])\n",
    "    >>> np.diff(x)\n",
    "    array([[2, 3, 4],\n",
    "           [5, 1, 2]])\n",
    "    >>> np.diff(x, axis=0)\n",
    "    array([[-1,  2,  0, -2]])"
   ]
  },
  {
   "cell_type": "code",
   "execution_count": 100,
   "metadata": {
    "collapsed": false
   },
   "outputs": [
    {
     "data": {
      "text/html": [
       "<div>\n",
       "<table border=\"1\" class=\"dataframe\">\n",
       "  <thead>\n",
       "    <tr style=\"text-align: right;\">\n",
       "      <th></th>\n",
       "      <th>cpi</th>\n",
       "      <th>m1</th>\n",
       "      <th>tbilrate</th>\n",
       "      <th>unemp</th>\n",
       "    </tr>\n",
       "  </thead>\n",
       "  <tbody>\n",
       "    <tr>\n",
       "      <th>1</th>\n",
       "      <td>0.005849</td>\n",
       "      <td>0.014215</td>\n",
       "      <td>0.088193</td>\n",
       "      <td>-0.128617</td>\n",
       "    </tr>\n",
       "    <tr>\n",
       "      <th>2</th>\n",
       "      <td>0.006838</td>\n",
       "      <td>-0.008505</td>\n",
       "      <td>0.215321</td>\n",
       "      <td>0.038466</td>\n",
       "    </tr>\n",
       "    <tr>\n",
       "      <th>3</th>\n",
       "      <td>0.000681</td>\n",
       "      <td>-0.003565</td>\n",
       "      <td>0.125317</td>\n",
       "      <td>0.055060</td>\n",
       "    </tr>\n",
       "    <tr>\n",
       "      <th>4</th>\n",
       "      <td>0.005772</td>\n",
       "      <td>-0.002861</td>\n",
       "      <td>-0.212805</td>\n",
       "      <td>-0.074108</td>\n",
       "    </tr>\n",
       "    <tr>\n",
       "      <th>5</th>\n",
       "      <td>0.000338</td>\n",
       "      <td>0.004289</td>\n",
       "      <td>-0.266946</td>\n",
       "      <td>0.000000</td>\n",
       "    </tr>\n",
       "  </tbody>\n",
       "</table>\n",
       "</div>"
      ],
      "text/plain": [
       "        cpi        m1  tbilrate     unemp\n",
       "1  0.005849  0.014215  0.088193 -0.128617\n",
       "2  0.006838 -0.008505  0.215321  0.038466\n",
       "3  0.000681 -0.003565  0.125317  0.055060\n",
       "4  0.005772 -0.002861 -0.212805 -0.074108\n",
       "5  0.000338  0.004289 -0.266946  0.000000"
      ]
     },
     "execution_count": 100,
     "metadata": {},
     "output_type": "execute_result"
    }
   ],
   "source": [
    "trans_data = np.log(data).diff().dropna()\n",
    "trans_data.head()"
   ]
  },
  {
   "cell_type": "code",
   "execution_count": 102,
   "metadata": {
    "collapsed": false
   },
   "outputs": [
    {
     "data": {
      "text/plain": [
       "<matplotlib.text.Text at 0x2877c335e10>"
      ]
     },
     "execution_count": 102,
     "metadata": {},
     "output_type": "execute_result"
    },
    {
     "data": {
      "image/png": "[encoded data removed]",
      "text/plain": [
       "<matplotlib.figure.Figure at 0x2877c2fd8d0>"
      ]
     },
     "metadata": {},
     "output_type": "display_data"
    }
   ],
   "source": [
    "plt.scatter(trans_data['m1'],trans_data['unemp'])\n",
    "plt.title('Change in log %s vs. log %s' % ('m1', 'unemp'))"
   ]
  },
  {
   "cell_type": "markdown",
   "metadata": {},
   "source": [
    "### Scatter_matrix (R paris_panels)와 유사 "
   ]
  },
  {
   "cell_type": "code",
   "execution_count": 106,
   "metadata": {
    "collapsed": false
   },
   "outputs": [
    {
     "data": {
      "text/html": [
       "<div>\n",
       "<table border=\"1\" class=\"dataframe\">\n",
       "  <thead>\n",
       "    <tr style=\"text-align: right;\">\n",
       "      <th></th>\n",
       "      <th>cpi</th>\n",
       "      <th>m1</th>\n",
       "      <th>tbilrate</th>\n",
       "      <th>unemp</th>\n",
       "    </tr>\n",
       "  </thead>\n",
       "  <tbody>\n",
       "    <tr>\n",
       "      <th>1</th>\n",
       "      <td>0.005849</td>\n",
       "      <td>0.014215</td>\n",
       "      <td>0.088193</td>\n",
       "      <td>-0.128617</td>\n",
       "    </tr>\n",
       "    <tr>\n",
       "      <th>2</th>\n",
       "      <td>0.006838</td>\n",
       "      <td>-0.008505</td>\n",
       "      <td>0.215321</td>\n",
       "      <td>0.038466</td>\n",
       "    </tr>\n",
       "    <tr>\n",
       "      <th>3</th>\n",
       "      <td>0.000681</td>\n",
       "      <td>-0.003565</td>\n",
       "      <td>0.125317</td>\n",
       "      <td>0.055060</td>\n",
       "    </tr>\n",
       "    <tr>\n",
       "      <th>4</th>\n",
       "      <td>0.005772</td>\n",
       "      <td>-0.002861</td>\n",
       "      <td>-0.212805</td>\n",
       "      <td>-0.074108</td>\n",
       "    </tr>\n",
       "    <tr>\n",
       "      <th>5</th>\n",
       "      <td>0.000338</td>\n",
       "      <td>0.004289</td>\n",
       "      <td>-0.266946</td>\n",
       "      <td>0.000000</td>\n",
       "    </tr>\n",
       "  </tbody>\n",
       "</table>\n",
       "</div>"
      ],
      "text/plain": [
       "        cpi        m1  tbilrate     unemp\n",
       "1  0.005849  0.014215  0.088193 -0.128617\n",
       "2  0.006838 -0.008505  0.215321  0.038466\n",
       "3  0.000681 -0.003565  0.125317  0.055060\n",
       "4  0.005772 -0.002861 -0.212805 -0.074108\n",
       "5  0.000338  0.004289 -0.266946  0.000000"
      ]
     },
     "execution_count": 106,
     "metadata": {},
     "output_type": "execute_result"
    }
   ],
   "source": [
    "trans_data.head()"
   ]
  },
  {
   "cell_type": "code",
   "execution_count": 108,
   "metadata": {
    "collapsed": false
   },
   "outputs": [
    {
     "data": {
      "text/plain": [
       "array([[<matplotlib.axes._subplots.AxesSubplot object at 0x000002877F8E0C88>,\n",
       "        <matplotlib.axes._subplots.AxesSubplot object at 0x000002877F9C8AC8>,\n",
       "        <matplotlib.axes._subplots.AxesSubplot object at 0x000002877FA174E0>,\n",
       "        <matplotlib.axes._subplots.AxesSubplot object at 0x000002877E474DD8>],\n",
       "       [<matplotlib.axes._subplots.AxesSubplot object at 0x000002877FA36198>,\n",
       "        <matplotlib.axes._subplots.AxesSubplot object at 0x000002877FA714A8>,\n",
       "        <matplotlib.axes._subplots.AxesSubplot object at 0x000002877FAB94E0>,\n",
       "        <matplotlib.axes._subplots.AxesSubplot object at 0x000002877FAFC2E8>],\n",
       "       [<matplotlib.axes._subplots.AxesSubplot object at 0x000002877FB44518>,\n",
       "        <matplotlib.axes._subplots.AxesSubplot object at 0x000002877FB8E9E8>,\n",
       "        <matplotlib.axes._subplots.AxesSubplot object at 0x000002877FBCE048>,\n",
       "        <matplotlib.axes._subplots.AxesSubplot object at 0x000002877FC16B00>],\n",
       "       [<matplotlib.axes._subplots.AxesSubplot object at 0x000002877FC58198>,\n",
       "        <matplotlib.axes._subplots.AxesSubplot object at 0x000002877FCA3D68>,\n",
       "        <matplotlib.axes._subplots.AxesSubplot object at 0x000002877FCDDDA0>,\n",
       "        <matplotlib.axes._subplots.AxesSubplot object at 0x000002877FD27CF8>]], dtype=object)"
      ]
     },
     "execution_count": 108,
     "metadata": {},
     "output_type": "execute_result"
    },
    {
     "data": {
      "image/png": "[encoded data removed]",
      "text/plain": [
       "<matplotlib.figure.Figure at 0x2877f96c358>"
      ]
     },
     "metadata": {},
     "output_type": "display_data"
    }
   ],
   "source": [
    "pd.scatter_matrix(trans_data, diagonal='kde', alpha=0.3)"
   ]
  },
  {
   "cell_type": "markdown",
   "metadata": {},
   "source": [
    "## Plotting Maps : Visualizing Haiti Earthquake Crisis Data"
   ]
  },
  {
   "cell_type": "code",
   "execution_count": 3,
   "metadata": {
    "collapsed": false
   },
   "outputs": [
    {
     "data": {
      "text/html": [
       "<div>\n",
       "<table border=\"1\" class=\"dataframe\">\n",
       "  <thead>\n",
       "    <tr style=\"text-align: right;\">\n",
       "      <th></th>\n",
       "      <th>Serial</th>\n",
       "      <th>INCIDENT TITLE</th>\n",
       "      <th>INCIDENT DATE</th>\n",
       "      <th>LOCATION</th>\n",
       "      <th>DESCRIPTION</th>\n",
       "      <th>CATEGORY</th>\n",
       "      <th>LATITUDE</th>\n",
       "      <th>LONGITUDE</th>\n",
       "      <th>APPROVED</th>\n",
       "      <th>VERIFIED</th>\n",
       "    </tr>\n",
       "  </thead>\n",
       "  <tbody>\n",
       "    <tr>\n",
       "      <th>0</th>\n",
       "      <td>4052</td>\n",
       "      <td>* URGENT * Type O blood donations needed in #J...</td>\n",
       "      <td>05/07/2010 17:26</td>\n",
       "      <td>Jacmel, Haiti</td>\n",
       "      <td>Birthing Clinic in Jacmel #Haiti urgently need...</td>\n",
       "      <td>1. Urgences | Emergency, 3. Public Health,</td>\n",
       "      <td>18.233333</td>\n",
       "      <td>-72.533333</td>\n",
       "      <td>YES</td>\n",
       "      <td>NO</td>\n",
       "    </tr>\n",
       "    <tr>\n",
       "      <th>1</th>\n",
       "      <td>4051</td>\n",
       "      <td>Food-Aid sent to Fondwa, Haiti</td>\n",
       "      <td>28/06/2010 23:06</td>\n",
       "      <td>fondwa</td>\n",
       "      <td>Please help food-aid.org deliver more food to ...</td>\n",
       "      <td>1. Urgences | Emergency, 2. Urgences logistiqu...</td>\n",
       "      <td>50.226029</td>\n",
       "      <td>5.729886</td>\n",
       "      <td>NO</td>\n",
       "      <td>NO</td>\n",
       "    </tr>\n",
       "    <tr>\n",
       "      <th>2</th>\n",
       "      <td>4050</td>\n",
       "      <td>how haiti is right now and how it was during t...</td>\n",
       "      <td>24/06/2010 16:21</td>\n",
       "      <td>centrie</td>\n",
       "      <td>i feel so bad for you i know i am supposed to ...</td>\n",
       "      <td>2. Urgences logistiques | Vital Lines, 8. Autr...</td>\n",
       "      <td>22.278381</td>\n",
       "      <td>114.174287</td>\n",
       "      <td>NO</td>\n",
       "      <td>NO</td>\n",
       "    </tr>\n",
       "    <tr>\n",
       "      <th>3</th>\n",
       "      <td>4049</td>\n",
       "      <td>Lost person</td>\n",
       "      <td>20/06/2010 21:59</td>\n",
       "      <td>Genoca</td>\n",
       "      <td>We are family members of Juan Antonio Zuniga O...</td>\n",
       "      <td>1. Urgences | Emergency,</td>\n",
       "      <td>44.407062</td>\n",
       "      <td>8.933989</td>\n",
       "      <td>NO</td>\n",
       "      <td>NO</td>\n",
       "    </tr>\n",
       "    <tr>\n",
       "      <th>4</th>\n",
       "      <td>4042</td>\n",
       "      <td>Citi Soleil school</td>\n",
       "      <td>18/05/2010 16:26</td>\n",
       "      <td>Citi Soleil, Haiti</td>\n",
       "      <td>We are working with Haitian (NGO) -The Christi...</td>\n",
       "      <td>1. Urgences | Emergency,</td>\n",
       "      <td>18.571084</td>\n",
       "      <td>-72.334671</td>\n",
       "      <td>YES</td>\n",
       "      <td>NO</td>\n",
       "    </tr>\n",
       "  </tbody>\n",
       "</table>\n",
       "</div>"
      ],
      "text/plain": [
       "   Serial                                     INCIDENT TITLE  \\\n",
       "0    4052  * URGENT * Type O blood donations needed in #J...   \n",
       "1    4051                     Food-Aid sent to Fondwa, Haiti   \n",
       "2    4050  how haiti is right now and how it was during t...   \n",
       "3    4049                                        Lost person   \n",
       "4    4042                                 Citi Soleil school   \n",
       "\n",
       "      INCIDENT DATE            LOCATION  \\\n",
       "0  05/07/2010 17:26       Jacmel, Haiti   \n",
       "1  28/06/2010 23:06              fondwa   \n",
       "2  24/06/2010 16:21             centrie   \n",
       "3  20/06/2010 21:59              Genoca   \n",
       "4  18/05/2010 16:26  Citi Soleil, Haiti   \n",
       "\n",
       "                                         DESCRIPTION  \\\n",
       "0  Birthing Clinic in Jacmel #Haiti urgently need...   \n",
       "1  Please help food-aid.org deliver more food to ...   \n",
       "2  i feel so bad for you i know i am supposed to ...   \n",
       "3  We are family members of Juan Antonio Zuniga O...   \n",
       "4  We are working with Haitian (NGO) -The Christi...   \n",
       "\n",
       "                                            CATEGORY   LATITUDE   LONGITUDE  \\\n",
       "0        1. Urgences | Emergency, 3. Public Health,   18.233333  -72.533333   \n",
       "1  1. Urgences | Emergency, 2. Urgences logistiqu...  50.226029    5.729886   \n",
       "2  2. Urgences logistiques | Vital Lines, 8. Autr...  22.278381  114.174287   \n",
       "3                          1. Urgences | Emergency,   44.407062    8.933989   \n",
       "4                          1. Urgences | Emergency,   18.571084  -72.334671   \n",
       "\n",
       "  APPROVED VERIFIED  \n",
       "0      YES       NO  \n",
       "1       NO       NO  \n",
       "2       NO       NO  \n",
       "3       NO       NO  \n",
       "4      YES       NO  "
      ]
     },
     "execution_count": 3,
     "metadata": {},
     "output_type": "execute_result"
    }
   ],
   "source": [
    "data = pd.read_csv('ch08/Haiti.csv')\n",
    "data.head()"
   ]
  },
  {
   "cell_type": "code",
   "execution_count": 4,
   "metadata": {
    "collapsed": false
   },
   "outputs": [
    {
     "data": {
      "text/html": [
       "<div>\n",
       "<table border=\"1\" class=\"dataframe\">\n",
       "  <thead>\n",
       "    <tr style=\"text-align: right;\">\n",
       "      <th></th>\n",
       "      <th>Serial</th>\n",
       "      <th>LATITUDE</th>\n",
       "      <th>LONGITUDE</th>\n",
       "    </tr>\n",
       "  </thead>\n",
       "  <tbody>\n",
       "    <tr>\n",
       "      <th>count</th>\n",
       "      <td>3593.000000</td>\n",
       "      <td>3593.000000</td>\n",
       "      <td>3593.000000</td>\n",
       "    </tr>\n",
       "    <tr>\n",
       "      <th>mean</th>\n",
       "      <td>2080.277484</td>\n",
       "      <td>18.611495</td>\n",
       "      <td>-72.322680</td>\n",
       "    </tr>\n",
       "    <tr>\n",
       "      <th>std</th>\n",
       "      <td>1171.100360</td>\n",
       "      <td>0.738572</td>\n",
       "      <td>3.650776</td>\n",
       "    </tr>\n",
       "    <tr>\n",
       "      <th>min</th>\n",
       "      <td>4.000000</td>\n",
       "      <td>18.041313</td>\n",
       "      <td>-74.452757</td>\n",
       "    </tr>\n",
       "    <tr>\n",
       "      <th>25%</th>\n",
       "      <td>1074.000000</td>\n",
       "      <td>18.524070</td>\n",
       "      <td>-72.417500</td>\n",
       "    </tr>\n",
       "    <tr>\n",
       "      <th>50%</th>\n",
       "      <td>2163.000000</td>\n",
       "      <td>18.539269</td>\n",
       "      <td>-72.335000</td>\n",
       "    </tr>\n",
       "    <tr>\n",
       "      <th>75%</th>\n",
       "      <td>3088.000000</td>\n",
       "      <td>18.561820</td>\n",
       "      <td>-72.293570</td>\n",
       "    </tr>\n",
       "    <tr>\n",
       "      <th>max</th>\n",
       "      <td>4052.000000</td>\n",
       "      <td>50.226029</td>\n",
       "      <td>114.174287</td>\n",
       "    </tr>\n",
       "  </tbody>\n",
       "</table>\n",
       "</div>"
      ],
      "text/plain": [
       "            Serial     LATITUDE    LONGITUDE\n",
       "count  3593.000000  3593.000000  3593.000000\n",
       "mean   2080.277484    18.611495   -72.322680\n",
       "std    1171.100360     0.738572     3.650776\n",
       "min       4.000000    18.041313   -74.452757\n",
       "25%    1074.000000    18.524070   -72.417500\n",
       "50%    2163.000000    18.539269   -72.335000\n",
       "75%    3088.000000    18.561820   -72.293570\n",
       "max    4052.000000    50.226029   114.174287"
      ]
     },
     "execution_count": 4,
     "metadata": {},
     "output_type": "execute_result"
    }
   ],
   "source": [
    "data.describe()"
   ]
  },
  {
   "cell_type": "code",
   "execution_count": 5,
   "metadata": {
    "collapsed": false
   },
   "outputs": [
    {
     "data": {
      "text/html": [
       "<div>\n",
       "<table border=\"1\" class=\"dataframe\">\n",
       "  <thead>\n",
       "    <tr style=\"text-align: right;\">\n",
       "      <th></th>\n",
       "      <th>Serial</th>\n",
       "      <th>INCIDENT TITLE</th>\n",
       "      <th>INCIDENT DATE</th>\n",
       "      <th>LOCATION</th>\n",
       "      <th>DESCRIPTION</th>\n",
       "      <th>CATEGORY</th>\n",
       "      <th>LATITUDE</th>\n",
       "      <th>LONGITUDE</th>\n",
       "      <th>APPROVED</th>\n",
       "      <th>VERIFIED</th>\n",
       "    </tr>\n",
       "  </thead>\n",
       "  <tbody>\n",
       "    <tr>\n",
       "      <th>1198</th>\n",
       "      <td>2777</td>\n",
       "      <td>Food needed in Castro area, near airport 10 De...</td>\n",
       "      <td>24/01/2010 23:31</td>\n",
       "      <td>10 Dessaline Road</td>\n",
       "      <td>hungry  grangou.  We are in the Cit?? Castro a...</td>\n",
       "      <td>NaN</td>\n",
       "      <td>18.567320</td>\n",
       "      <td>-72.293280</td>\n",
       "      <td>YES</td>\n",
       "      <td>NO</td>\n",
       "    </tr>\n",
       "    <tr>\n",
       "      <th>1531</th>\n",
       "      <td>2436</td>\n",
       "      <td>Food Needed in Fontamara 27</td>\n",
       "      <td>22/01/2010 23:04</td>\n",
       "      <td>Fontamara 27 (off Rue National 2) Coordinates ...</td>\n",
       "      <td>NOU NAN FONTAMARA 27 PROLONGE NOU PA WE PES?N\\...</td>\n",
       "      <td>NaN</td>\n",
       "      <td>18.532570</td>\n",
       "      <td>-72.367540</td>\n",
       "      <td>YES</td>\n",
       "      <td>NO</td>\n",
       "    </tr>\n",
       "    <tr>\n",
       "      <th>1828</th>\n",
       "      <td>2130</td>\n",
       "      <td>15 People, 5 Babies, Water and Food Needed at ...</td>\n",
       "      <td>23/01/2010 18:07</td>\n",
       "      <td>Airport Runway Entrance - one end of the runwa...</td>\n",
       "      <td>nou sou wout aewopo a antre pis la nou se 15 f...</td>\n",
       "      <td>NaN</td>\n",
       "      <td>18.580320</td>\n",
       "      <td>-72.312390</td>\n",
       "      <td>YES</td>\n",
       "      <td>NO</td>\n",
       "    </tr>\n",
       "    <tr>\n",
       "      <th>2620</th>\n",
       "      <td>1182</td>\n",
       "      <td>Trapped person</td>\n",
       "      <td>19/01/2010 05:19</td>\n",
       "      <td>Delmas, 33 Rue Derrosier Impas Du Crist, Numbe...</td>\n",
       "      <td>Mwen.se MADAM LAINE FRITZ MWEN RETE DELMAS 33 ...</td>\n",
       "      <td>NaN</td>\n",
       "      <td>18.559451</td>\n",
       "      <td>-72.295522</td>\n",
       "      <td>YES</td>\n",
       "      <td>NO</td>\n",
       "    </tr>\n",
       "    <tr>\n",
       "      <th>2622</th>\n",
       "      <td>1179</td>\n",
       "      <td>500 to 600 people in a temporary shelter with ...</td>\n",
       "      <td>19/01/2010 05:57</td>\n",
       "      <td>Grand Goave, Haiti</td>\n",
       "      <td>Nou anviron 500 a 600 moun nan abri pwoviswa g...</td>\n",
       "      <td>NaN</td>\n",
       "      <td>18.431400</td>\n",
       "      <td>-72.787200</td>\n",
       "      <td>YES</td>\n",
       "      <td>NO</td>\n",
       "    </tr>\n",
       "    <tr>\n",
       "      <th>2623</th>\n",
       "      <td>1178</td>\n",
       "      <td>500 to 600 people in a temporary shelter with ...</td>\n",
       "      <td>19/01/2010 05:57</td>\n",
       "      <td>Grand Goave, Haiti</td>\n",
       "      <td>Nou anviron 500 a 600 moun nan abri pwoviswa g...</td>\n",
       "      <td>NaN</td>\n",
       "      <td>18.424764</td>\n",
       "      <td>-72.770300</td>\n",
       "      <td>YES</td>\n",
       "      <td>NO</td>\n",
       "    </tr>\n",
       "  </tbody>\n",
       "</table>\n",
       "</div>"
      ],
      "text/plain": [
       "      Serial                                     INCIDENT TITLE  \\\n",
       "1198    2777  Food needed in Castro area, near airport 10 De...   \n",
       "1531    2436                        Food Needed in Fontamara 27   \n",
       "1828    2130  15 People, 5 Babies, Water and Food Needed at ...   \n",
       "2620    1182                                     Trapped person   \n",
       "2622    1179  500 to 600 people in a temporary shelter with ...   \n",
       "2623    1178  500 to 600 people in a temporary shelter with ...   \n",
       "\n",
       "         INCIDENT DATE                                           LOCATION  \\\n",
       "1198  24/01/2010 23:31                                  10 Dessaline Road   \n",
       "1531  22/01/2010 23:04  Fontamara 27 (off Rue National 2) Coordinates ...   \n",
       "1828  23/01/2010 18:07  Airport Runway Entrance - one end of the runwa...   \n",
       "2620  19/01/2010 05:19  Delmas, 33 Rue Derrosier Impas Du Crist, Numbe...   \n",
       "2622  19/01/2010 05:57                                 Grand Goave, Haiti   \n",
       "2623  19/01/2010 05:57                                 Grand Goave, Haiti   \n",
       "\n",
       "                                            DESCRIPTION CATEGORY   LATITUDE  \\\n",
       "1198  hungry  grangou.  We are in the Cit?? Castro a...      NaN  18.567320   \n",
       "1531  NOU NAN FONTAMARA 27 PROLONGE NOU PA WE PES?N\\...      NaN  18.532570   \n",
       "1828  nou sou wout aewopo a antre pis la nou se 15 f...      NaN  18.580320   \n",
       "2620  Mwen.se MADAM LAINE FRITZ MWEN RETE DELMAS 33 ...      NaN  18.559451   \n",
       "2622  Nou anviron 500 a 600 moun nan abri pwoviswa g...      NaN  18.431400   \n",
       "2623  Nou anviron 500 a 600 moun nan abri pwoviswa g...      NaN  18.424764   \n",
       "\n",
       "      LONGITUDE APPROVED VERIFIED  \n",
       "1198 -72.293280      YES       NO  \n",
       "1531 -72.367540      YES       NO  \n",
       "1828 -72.312390      YES       NO  \n",
       "2620 -72.295522      YES       NO  \n",
       "2622 -72.787200      YES       NO  \n",
       "2623 -72.770300      YES       NO  "
      ]
     },
     "execution_count": 5,
     "metadata": {},
     "output_type": "execute_result"
    }
   ],
   "source": [
    "data[data.CATEGORY.isnull()]"
   ]
  },
  {
   "cell_type": "code",
   "execution_count": 6,
   "metadata": {
    "collapsed": true
   },
   "outputs": [],
   "source": [
    "# 18 < 경도 < 20\n",
    "# -75 < 위도 < -70\n",
    "# 모든 조건들이 참이어야 하는 &(and) 연산자 사용\n",
    "data = data[(data.LATITUDE > 18) & (data.LATITUDE < 20) &\n",
    "            (data.LONGITUDE > -75) & (data.LONGITUDE < -70)\n",
    "            & data.CATEGORY.notnull()]"
   ]
  },
  {
   "cell_type": "markdown",
   "metadata": {},
   "source": [
    "- 카테고리별 분석이나 시각화\n",
    "- 각 카테고리 필드에는 다수의 카테고리가 존재\n",
    "- 각 카테고리는 코드와 영어, 불어 코드 이름으로 구성\n",
    "- 그래서 데이터를 좀 더 쉽게 처리할 수 있도록 약간의 수고가 필요\n",
    "- 먼저 존재하는 모든 카테고리를 뽑아내어 카테고리 코드와 영어 이름으로 분리되도록 함수 작성"
   ]
  },
  {
   "cell_type": "code",
   "execution_count": 7,
   "metadata": {
    "collapsed": true
   },
   "outputs": [],
   "source": [
    "def to_cat_list(catstr):\n",
    "    stripped = (x.strip() for x in catstr.split(','))\n",
    "    return [x for x in stripped if x]"
   ]
  },
  {
   "cell_type": "code",
   "execution_count": 8,
   "metadata": {
    "collapsed": true
   },
   "outputs": [],
   "source": [
    "def get_all_categories(cat_series):\n",
    "    # set으로 unique한 값만 받는다.\n",
    "    cat_sets = (set(to_cat_list(x)) for x in cat_series)\n",
    "    # set.union으로 합집합 만들어서 sorting\n",
    "    return sorted(set.union(*cat_sets))"
   ]
  },
  {
   "cell_type": "code",
   "execution_count": 9,
   "metadata": {
    "collapsed": true
   },
   "outputs": [],
   "source": [
    "def get_english(cat):\n",
    "    # code와 names 구분자로 . 사용\n",
    "    code, names = cat.split('.')\n",
    "    # names에서 |가 있다면 불어와 영어 구분자 이므로\n",
    "    if '|' in names:\n",
    "        # |를 기준으로 나눠서 배열의 [1]번째인 영어를 선택한다.\n",
    "        names = names.split(' | ')[1]\n",
    "    # 잊지않고 names값은 strip 해주어 공백을 제거한다.\n",
    "    # 사소한 거지만 문자열 작업할 때는 공백을 제거해 주는게 중요하다.\n",
    "    return code, names.strip()"
   ]
  },
  {
   "cell_type": "code",
   "execution_count": 10,
   "metadata": {
    "collapsed": false
   },
   "outputs": [
    {
     "data": {
      "text/plain": [
       "0           1. Urgences | Emergency, 3. Public Health, \n",
       "4                             1. Urgences | Emergency, \n",
       "5                        5e. Communication lines down, \n",
       "6     4. Menaces | Security Threats, 4e. Assainissem...\n",
       "7                       4. Menaces | Security Threats, \n",
       "8     2. Urgences logistiques | Vital Lines, 2f. San...\n",
       "9     2. Urgences logistiques | Vital Lines, 2d. Ref...\n",
       "10    1a. Highly vulnerable, 2. Urgences logistiques...\n",
       "11    4. Menaces | Security Threats, 4e. Assainissem...\n",
       "12    2. Urgences logistiques | Vital Lines, 2d. Ref...\n",
       "13    2. Urgences logistiques | Vital Lines, 2b. Pen...\n",
       "14                                   3. Public Health, \n",
       "15              2. Urgences logistiques | Vital Lines, \n",
       "16    1. Urgences | Emergency, 7. Secours | Services...\n",
       "17           3. Public Health, 3b. Chronic care needs, \n",
       "18    2. Urgences logistiques | Vital Lines, 2b. Pen...\n",
       "19    1. Urgences | Emergency, 7. Secours | Services...\n",
       "20    1. Urgences | Emergency, 2. Urgences logistiqu...\n",
       "21    2. Urgences logistiques | Vital Lines, 2d. Ref...\n",
       "22    2. Urgences logistiques | Vital Lines, 2d. Ref...\n",
       "Name: CATEGORY, dtype: object"
      ]
     },
     "execution_count": 10,
     "metadata": {},
     "output_type": "execute_result"
    }
   ],
   "source": [
    "# ,: 카테고리 구분자\n",
    "# .: 코드, 불어 구분자\n",
    "# |: 불어, 영어 구분자\n",
    "data['CATEGORY'][:20]"
   ]
  },
  {
   "cell_type": "code",
   "execution_count": 11,
   "metadata": {
    "collapsed": false
   },
   "outputs": [
    {
     "data": {
      "text/plain": [
       "('2', 'Vital Lines')"
      ]
     },
     "execution_count": 11,
     "metadata": {},
     "output_type": "execute_result"
    }
   ],
   "source": [
    "get_english('2. Urgences logistiques | Vital Lines')"
   ]
  },
  {
   "cell_type": "code",
   "execution_count": 12,
   "metadata": {
    "collapsed": false
   },
   "outputs": [
    {
     "data": {
      "text/plain": [
       "['1. Urgences | Emergency',\n",
       " '1a. Highly vulnerable',\n",
       " '1b. Urgence medicale | Medical Emergency',\n",
       " '1c. Personnes prises au piege | People trapped',\n",
       " '1d. Incendie | Fire',\n",
       " '2. Urgences logistiques | Vital Lines',\n",
       " \"2a. Penurie d'aliments | Food Shortage\",\n",
       " \"2b. Penurie d'eau | Water shortage\",\n",
       " '2c. Eau contaminee | Contaminated water',\n",
       " '2c. Probleme de securite | Security Concern']"
      ]
     },
     "execution_count": 12,
     "metadata": {},
     "output_type": "execute_result"
    }
   ],
   "source": [
    "all_cats = get_all_categories(data.CATEGORY)\n",
    "all_cats[:10]"
   ]
  },
  {
   "cell_type": "code",
   "execution_count": 13,
   "metadata": {
    "collapsed": false
   },
   "outputs": [
    {
     "data": {
      "text/plain": [
       "{'1': 'Emergency',\n",
       " '1a': 'Highly vulnerable',\n",
       " '1b': 'Medical Emergency',\n",
       " '1c': 'People trapped',\n",
       " '1d': 'Fire',\n",
       " '2': 'Vital Lines',\n",
       " '2a': 'Food Shortage',\n",
       " '2b': 'Water shortage',\n",
       " '2c': 'Security Concern',\n",
       " '2d': 'Shelter needed',\n",
       " '2e': 'Fuel shortage',\n",
       " '2f': 'Power Outage',\n",
       " '3': 'Public Health',\n",
       " '3a': 'Infectious human disease',\n",
       " '3b': 'Chronic care needs',\n",
       " '3c': 'Medical equipment and supply needs',\n",
       " '3d': \"OBGYN/Women's Health\",\n",
       " '3e': 'Psychiatric need',\n",
       " '4': 'Security Threats',\n",
       " '4a': 'Looting',\n",
       " '4c': 'Group violence',\n",
       " '4e': 'Water sanitation and hygiene promotion',\n",
       " '5': 'Infrastructure Damage',\n",
       " '5a': 'Collapsed structure',\n",
       " '5b': 'Unstable Structure',\n",
       " '5c': 'Road blocked',\n",
       " '5d': 'Compromised bridge',\n",
       " '5e': 'Communication lines down',\n",
       " '6': 'Natural Hazards',\n",
       " '6a': 'Deaths',\n",
       " '6b': 'Missing Persons',\n",
       " '6c': 'Earthquake and aftershocks',\n",
       " '7': 'Services Available',\n",
       " '7a': 'Food distribution point',\n",
       " '7b': 'Water distribution point',\n",
       " '7c': 'Non-food aid distribution point',\n",
       " '7d': 'Hospital/Clinics Operating',\n",
       " '7g': 'Human remains management',\n",
       " '7h': 'Rubble removal',\n",
       " '8': 'Other',\n",
       " '8a': 'IDP concentration',\n",
       " '8c': 'Price gouging',\n",
       " '8d': 'Search and Rescue',\n",
       " '8e': 'Persons News',\n",
       " '8f': 'Other'}"
      ]
     },
     "execution_count": 13,
     "metadata": {},
     "output_type": "execute_result"
    }
   ],
   "source": [
    "english_mapping = dict(get_english(x) for x in all_cats)\n",
    "english_mapping"
   ]
  },
  {
   "cell_type": "code",
   "execution_count": 14,
   "metadata": {
    "collapsed": true
   },
   "outputs": [],
   "source": [
    "def get_code(seq):\n",
    "    return [x.split('.')[0] for x in seq if x]"
   ]
  },
  {
   "cell_type": "code",
   "execution_count": 15,
   "metadata": {
    "collapsed": false
   },
   "outputs": [
    {
     "data": {
      "text/plain": [
       "['1', '1a', '1b', '1c', '1d']"
      ]
     },
     "execution_count": 15,
     "metadata": {},
     "output_type": "execute_result"
    }
   ],
   "source": [
    "all_codes = get_code(all_cats)\n",
    "all_codes[:5]"
   ]
  },
  {
   "cell_type": "code",
   "execution_count": 16,
   "metadata": {
    "collapsed": false
   },
   "outputs": [
    {
     "data": {
      "text/plain": [
       "array(['1', '1a', '1b', '1c', '1d', '2', '2a', '2b', '2c', '2d', '2e',\n",
       "       '2f', '3', '3a', '3b', '3c', '3d', '3e', '4', '4a', '4c', '4e', '5',\n",
       "       '5a', '5b', '5c', '5d', '5e', '6', '6a', '6b', '6c', '7', '7a',\n",
       "       '7b', '7c', '7d', '7g', '7h', '8', '8a', '8c', '8d', '8e', '8f'], \n",
       "      dtype='<U2')"
      ]
     },
     "execution_count": 16,
     "metadata": {},
     "output_type": "execute_result"
    }
   ],
   "source": [
    "np.unique(all_codes)"
   ]
  },
  {
   "cell_type": "code",
   "execution_count": 17,
   "metadata": {
    "collapsed": true
   },
   "outputs": [],
   "source": [
    "code_index = pd.Index(np.unique(all_codes))"
   ]
  },
  {
   "cell_type": "code",
   "execution_count": 18,
   "metadata": {
    "collapsed": false
   },
   "outputs": [
    {
     "data": {
      "text/html": [
       "<div>\n",
       "<table border=\"1\" class=\"dataframe\">\n",
       "  <thead>\n",
       "    <tr style=\"text-align: right;\">\n",
       "      <th></th>\n",
       "      <th>1</th>\n",
       "      <th>1a</th>\n",
       "      <th>1b</th>\n",
       "      <th>1c</th>\n",
       "      <th>1d</th>\n",
       "      <th>2</th>\n",
       "      <th>2a</th>\n",
       "      <th>2b</th>\n",
       "      <th>2c</th>\n",
       "      <th>2d</th>\n",
       "      <th>...</th>\n",
       "      <th>7c</th>\n",
       "      <th>7d</th>\n",
       "      <th>7g</th>\n",
       "      <th>7h</th>\n",
       "      <th>8</th>\n",
       "      <th>8a</th>\n",
       "      <th>8c</th>\n",
       "      <th>8d</th>\n",
       "      <th>8e</th>\n",
       "      <th>8f</th>\n",
       "    </tr>\n",
       "  </thead>\n",
       "  <tbody>\n",
       "    <tr>\n",
       "      <th>0</th>\n",
       "      <td>0.0</td>\n",
       "      <td>0.0</td>\n",
       "      <td>0.0</td>\n",
       "      <td>0.0</td>\n",
       "      <td>0.0</td>\n",
       "      <td>0.0</td>\n",
       "      <td>0.0</td>\n",
       "      <td>0.0</td>\n",
       "      <td>0.0</td>\n",
       "      <td>0.0</td>\n",
       "      <td>...</td>\n",
       "      <td>0.0</td>\n",
       "      <td>0.0</td>\n",
       "      <td>0.0</td>\n",
       "      <td>0.0</td>\n",
       "      <td>0.0</td>\n",
       "      <td>0.0</td>\n",
       "      <td>0.0</td>\n",
       "      <td>0.0</td>\n",
       "      <td>0.0</td>\n",
       "      <td>0.0</td>\n",
       "    </tr>\n",
       "    <tr>\n",
       "      <th>4</th>\n",
       "      <td>0.0</td>\n",
       "      <td>0.0</td>\n",
       "      <td>0.0</td>\n",
       "      <td>0.0</td>\n",
       "      <td>0.0</td>\n",
       "      <td>0.0</td>\n",
       "      <td>0.0</td>\n",
       "      <td>0.0</td>\n",
       "      <td>0.0</td>\n",
       "      <td>0.0</td>\n",
       "      <td>...</td>\n",
       "      <td>0.0</td>\n",
       "      <td>0.0</td>\n",
       "      <td>0.0</td>\n",
       "      <td>0.0</td>\n",
       "      <td>0.0</td>\n",
       "      <td>0.0</td>\n",
       "      <td>0.0</td>\n",
       "      <td>0.0</td>\n",
       "      <td>0.0</td>\n",
       "      <td>0.0</td>\n",
       "    </tr>\n",
       "    <tr>\n",
       "      <th>5</th>\n",
       "      <td>0.0</td>\n",
       "      <td>0.0</td>\n",
       "      <td>0.0</td>\n",
       "      <td>0.0</td>\n",
       "      <td>0.0</td>\n",
       "      <td>0.0</td>\n",
       "      <td>0.0</td>\n",
       "      <td>0.0</td>\n",
       "      <td>0.0</td>\n",
       "      <td>0.0</td>\n",
       "      <td>...</td>\n",
       "      <td>0.0</td>\n",
       "      <td>0.0</td>\n",
       "      <td>0.0</td>\n",
       "      <td>0.0</td>\n",
       "      <td>0.0</td>\n",
       "      <td>0.0</td>\n",
       "      <td>0.0</td>\n",
       "      <td>0.0</td>\n",
       "      <td>0.0</td>\n",
       "      <td>0.0</td>\n",
       "    </tr>\n",
       "    <tr>\n",
       "      <th>6</th>\n",
       "      <td>0.0</td>\n",
       "      <td>0.0</td>\n",
       "      <td>0.0</td>\n",
       "      <td>0.0</td>\n",
       "      <td>0.0</td>\n",
       "      <td>0.0</td>\n",
       "      <td>0.0</td>\n",
       "      <td>0.0</td>\n",
       "      <td>0.0</td>\n",
       "      <td>0.0</td>\n",
       "      <td>...</td>\n",
       "      <td>0.0</td>\n",
       "      <td>0.0</td>\n",
       "      <td>0.0</td>\n",
       "      <td>0.0</td>\n",
       "      <td>0.0</td>\n",
       "      <td>0.0</td>\n",
       "      <td>0.0</td>\n",
       "      <td>0.0</td>\n",
       "      <td>0.0</td>\n",
       "      <td>0.0</td>\n",
       "    </tr>\n",
       "    <tr>\n",
       "      <th>7</th>\n",
       "      <td>0.0</td>\n",
       "      <td>0.0</td>\n",
       "      <td>0.0</td>\n",
       "      <td>0.0</td>\n",
       "      <td>0.0</td>\n",
       "      <td>0.0</td>\n",
       "      <td>0.0</td>\n",
       "      <td>0.0</td>\n",
       "      <td>0.0</td>\n",
       "      <td>0.0</td>\n",
       "      <td>...</td>\n",
       "      <td>0.0</td>\n",
       "      <td>0.0</td>\n",
       "      <td>0.0</td>\n",
       "      <td>0.0</td>\n",
       "      <td>0.0</td>\n",
       "      <td>0.0</td>\n",
       "      <td>0.0</td>\n",
       "      <td>0.0</td>\n",
       "      <td>0.0</td>\n",
       "      <td>0.0</td>\n",
       "    </tr>\n",
       "  </tbody>\n",
       "</table>\n",
       "<p>5 rows × 45 columns</p>\n",
       "</div>"
      ],
      "text/plain": [
       "     1   1a   1b   1c   1d    2   2a   2b   2c   2d ...    7c   7d   7g   7h  \\\n",
       "0  0.0  0.0  0.0  0.0  0.0  0.0  0.0  0.0  0.0  0.0 ...   0.0  0.0  0.0  0.0   \n",
       "4  0.0  0.0  0.0  0.0  0.0  0.0  0.0  0.0  0.0  0.0 ...   0.0  0.0  0.0  0.0   \n",
       "5  0.0  0.0  0.0  0.0  0.0  0.0  0.0  0.0  0.0  0.0 ...   0.0  0.0  0.0  0.0   \n",
       "6  0.0  0.0  0.0  0.0  0.0  0.0  0.0  0.0  0.0  0.0 ...   0.0  0.0  0.0  0.0   \n",
       "7  0.0  0.0  0.0  0.0  0.0  0.0  0.0  0.0  0.0  0.0 ...   0.0  0.0  0.0  0.0   \n",
       "\n",
       "     8   8a   8c   8d   8e   8f  \n",
       "0  0.0  0.0  0.0  0.0  0.0  0.0  \n",
       "4  0.0  0.0  0.0  0.0  0.0  0.0  \n",
       "5  0.0  0.0  0.0  0.0  0.0  0.0  \n",
       "6  0.0  0.0  0.0  0.0  0.0  0.0  \n",
       "7  0.0  0.0  0.0  0.0  0.0  0.0  \n",
       "\n",
       "[5 rows x 45 columns]"
      ]
     },
     "execution_count": 18,
     "metadata": {},
     "output_type": "execute_result"
    }
   ],
   "source": [
    "dummy_frame = pd.DataFrame(np.zeros((len(data),len(code_index))), index= data.index, columns=code_index)\n",
    "dummy_frame.head()"
   ]
  },
  {
   "cell_type": "code",
   "execution_count": 19,
   "metadata": {
    "collapsed": true
   },
   "outputs": [],
   "source": [
    "for row,cat in zip(data.index, data.CATEGORY):\n",
    "    codes = get_code(to_cat_list(cat))\n",
    "    dummy_frame.ix[row,codes] = 1"
   ]
  },
  {
   "cell_type": "code",
   "execution_count": 20,
   "metadata": {
    "collapsed": false
   },
   "outputs": [
    {
     "data": {
      "text/html": [
       "<div>\n",
       "<table border=\"1\" class=\"dataframe\">\n",
       "  <thead>\n",
       "    <tr style=\"text-align: right;\">\n",
       "      <th></th>\n",
       "      <th>1</th>\n",
       "      <th>1a</th>\n",
       "      <th>1b</th>\n",
       "      <th>1c</th>\n",
       "      <th>1d</th>\n",
       "      <th>2</th>\n",
       "      <th>2a</th>\n",
       "      <th>2b</th>\n",
       "      <th>2c</th>\n",
       "      <th>2d</th>\n",
       "      <th>...</th>\n",
       "      <th>7c</th>\n",
       "      <th>7d</th>\n",
       "      <th>7g</th>\n",
       "      <th>7h</th>\n",
       "      <th>8</th>\n",
       "      <th>8a</th>\n",
       "      <th>8c</th>\n",
       "      <th>8d</th>\n",
       "      <th>8e</th>\n",
       "      <th>8f</th>\n",
       "    </tr>\n",
       "  </thead>\n",
       "  <tbody>\n",
       "    <tr>\n",
       "      <th>3588</th>\n",
       "      <td>0.0</td>\n",
       "      <td>0.0</td>\n",
       "      <td>0.0</td>\n",
       "      <td>0.0</td>\n",
       "      <td>0.0</td>\n",
       "      <td>0.0</td>\n",
       "      <td>0.0</td>\n",
       "      <td>0.0</td>\n",
       "      <td>0.0</td>\n",
       "      <td>0.0</td>\n",
       "      <td>...</td>\n",
       "      <td>0.0</td>\n",
       "      <td>0.0</td>\n",
       "      <td>0.0</td>\n",
       "      <td>0.0</td>\n",
       "      <td>0.0</td>\n",
       "      <td>0.0</td>\n",
       "      <td>0.0</td>\n",
       "      <td>0.0</td>\n",
       "      <td>0.0</td>\n",
       "      <td>0.0</td>\n",
       "    </tr>\n",
       "    <tr>\n",
       "      <th>3589</th>\n",
       "      <td>0.0</td>\n",
       "      <td>0.0</td>\n",
       "      <td>0.0</td>\n",
       "      <td>1.0</td>\n",
       "      <td>0.0</td>\n",
       "      <td>0.0</td>\n",
       "      <td>0.0</td>\n",
       "      <td>0.0</td>\n",
       "      <td>0.0</td>\n",
       "      <td>0.0</td>\n",
       "      <td>...</td>\n",
       "      <td>0.0</td>\n",
       "      <td>0.0</td>\n",
       "      <td>0.0</td>\n",
       "      <td>0.0</td>\n",
       "      <td>0.0</td>\n",
       "      <td>0.0</td>\n",
       "      <td>0.0</td>\n",
       "      <td>0.0</td>\n",
       "      <td>0.0</td>\n",
       "      <td>0.0</td>\n",
       "    </tr>\n",
       "    <tr>\n",
       "      <th>3590</th>\n",
       "      <td>0.0</td>\n",
       "      <td>0.0</td>\n",
       "      <td>0.0</td>\n",
       "      <td>0.0</td>\n",
       "      <td>0.0</td>\n",
       "      <td>0.0</td>\n",
       "      <td>0.0</td>\n",
       "      <td>0.0</td>\n",
       "      <td>0.0</td>\n",
       "      <td>0.0</td>\n",
       "      <td>...</td>\n",
       "      <td>0.0</td>\n",
       "      <td>0.0</td>\n",
       "      <td>0.0</td>\n",
       "      <td>0.0</td>\n",
       "      <td>0.0</td>\n",
       "      <td>0.0</td>\n",
       "      <td>0.0</td>\n",
       "      <td>0.0</td>\n",
       "      <td>0.0</td>\n",
       "      <td>0.0</td>\n",
       "    </tr>\n",
       "    <tr>\n",
       "      <th>3591</th>\n",
       "      <td>0.0</td>\n",
       "      <td>0.0</td>\n",
       "      <td>0.0</td>\n",
       "      <td>0.0</td>\n",
       "      <td>0.0</td>\n",
       "      <td>0.0</td>\n",
       "      <td>0.0</td>\n",
       "      <td>0.0</td>\n",
       "      <td>0.0</td>\n",
       "      <td>0.0</td>\n",
       "      <td>...</td>\n",
       "      <td>0.0</td>\n",
       "      <td>0.0</td>\n",
       "      <td>0.0</td>\n",
       "      <td>0.0</td>\n",
       "      <td>0.0</td>\n",
       "      <td>0.0</td>\n",
       "      <td>0.0</td>\n",
       "      <td>0.0</td>\n",
       "      <td>0.0</td>\n",
       "      <td>0.0</td>\n",
       "    </tr>\n",
       "    <tr>\n",
       "      <th>3592</th>\n",
       "      <td>0.0</td>\n",
       "      <td>0.0</td>\n",
       "      <td>0.0</td>\n",
       "      <td>0.0</td>\n",
       "      <td>0.0</td>\n",
       "      <td>0.0</td>\n",
       "      <td>0.0</td>\n",
       "      <td>0.0</td>\n",
       "      <td>0.0</td>\n",
       "      <td>0.0</td>\n",
       "      <td>...</td>\n",
       "      <td>0.0</td>\n",
       "      <td>0.0</td>\n",
       "      <td>0.0</td>\n",
       "      <td>0.0</td>\n",
       "      <td>0.0</td>\n",
       "      <td>0.0</td>\n",
       "      <td>0.0</td>\n",
       "      <td>0.0</td>\n",
       "      <td>0.0</td>\n",
       "      <td>0.0</td>\n",
       "    </tr>\n",
       "  </tbody>\n",
       "</table>\n",
       "<p>5 rows × 45 columns</p>\n",
       "</div>"
      ],
      "text/plain": [
       "        1   1a   1b   1c   1d    2   2a   2b   2c   2d ...    7c   7d   7g  \\\n",
       "3588  0.0  0.0  0.0  0.0  0.0  0.0  0.0  0.0  0.0  0.0 ...   0.0  0.0  0.0   \n",
       "3589  0.0  0.0  0.0  1.0  0.0  0.0  0.0  0.0  0.0  0.0 ...   0.0  0.0  0.0   \n",
       "3590  0.0  0.0  0.0  0.0  0.0  0.0  0.0  0.0  0.0  0.0 ...   0.0  0.0  0.0   \n",
       "3591  0.0  0.0  0.0  0.0  0.0  0.0  0.0  0.0  0.0  0.0 ...   0.0  0.0  0.0   \n",
       "3592  0.0  0.0  0.0  0.0  0.0  0.0  0.0  0.0  0.0  0.0 ...   0.0  0.0  0.0   \n",
       "\n",
       "       7h    8   8a   8c   8d   8e   8f  \n",
       "3588  0.0  0.0  0.0  0.0  0.0  0.0  0.0  \n",
       "3589  0.0  0.0  0.0  0.0  0.0  0.0  0.0  \n",
       "3590  0.0  0.0  0.0  0.0  0.0  0.0  0.0  \n",
       "3591  0.0  0.0  0.0  0.0  0.0  0.0  0.0  \n",
       "3592  0.0  0.0  0.0  0.0  0.0  0.0  0.0  \n",
       "\n",
       "[5 rows x 45 columns]"
      ]
     },
     "execution_count": 20,
     "metadata": {},
     "output_type": "execute_result"
    }
   ],
   "source": [
    "dummy_frame.tail()"
   ]
  },
  {
   "cell_type": "code",
   "execution_count": 21,
   "metadata": {
    "collapsed": false
   },
   "outputs": [
    {
     "data": {
      "text/html": [
       "<div>\n",
       "<table border=\"1\" class=\"dataframe\">\n",
       "  <thead>\n",
       "    <tr style=\"text-align: right;\">\n",
       "      <th></th>\n",
       "      <th>Serial</th>\n",
       "      <th>INCIDENT TITLE</th>\n",
       "      <th>INCIDENT DATE</th>\n",
       "      <th>LOCATION</th>\n",
       "      <th>DESCRIPTION</th>\n",
       "      <th>CATEGORY</th>\n",
       "      <th>LATITUDE</th>\n",
       "      <th>LONGITUDE</th>\n",
       "      <th>APPROVED</th>\n",
       "      <th>VERIFIED</th>\n",
       "      <th>...</th>\n",
       "      <th>category_7c</th>\n",
       "      <th>category_7d</th>\n",
       "      <th>category_7g</th>\n",
       "      <th>category_7h</th>\n",
       "      <th>category_8</th>\n",
       "      <th>category_8a</th>\n",
       "      <th>category_8c</th>\n",
       "      <th>category_8d</th>\n",
       "      <th>category_8e</th>\n",
       "      <th>category_8f</th>\n",
       "    </tr>\n",
       "  </thead>\n",
       "  <tbody>\n",
       "    <tr>\n",
       "      <th>0</th>\n",
       "      <td>4052</td>\n",
       "      <td>* URGENT * Type O blood donations needed in #J...</td>\n",
       "      <td>05/07/2010 17:26</td>\n",
       "      <td>Jacmel, Haiti</td>\n",
       "      <td>Birthing Clinic in Jacmel #Haiti urgently need...</td>\n",
       "      <td>1. Urgences | Emergency, 3. Public Health,</td>\n",
       "      <td>18.233333</td>\n",
       "      <td>-72.533333</td>\n",
       "      <td>YES</td>\n",
       "      <td>NO</td>\n",
       "      <td>...</td>\n",
       "      <td>0.0</td>\n",
       "      <td>0.0</td>\n",
       "      <td>0.0</td>\n",
       "      <td>0.0</td>\n",
       "      <td>0.0</td>\n",
       "      <td>0.0</td>\n",
       "      <td>0.0</td>\n",
       "      <td>0.0</td>\n",
       "      <td>0.0</td>\n",
       "      <td>0.0</td>\n",
       "    </tr>\n",
       "    <tr>\n",
       "      <th>4</th>\n",
       "      <td>4042</td>\n",
       "      <td>Citi Soleil school</td>\n",
       "      <td>18/05/2010 16:26</td>\n",
       "      <td>Citi Soleil, Haiti</td>\n",
       "      <td>We are working with Haitian (NGO) -The Christi...</td>\n",
       "      <td>1. Urgences | Emergency,</td>\n",
       "      <td>18.571084</td>\n",
       "      <td>-72.334671</td>\n",
       "      <td>YES</td>\n",
       "      <td>NO</td>\n",
       "      <td>...</td>\n",
       "      <td>0.0</td>\n",
       "      <td>0.0</td>\n",
       "      <td>0.0</td>\n",
       "      <td>0.0</td>\n",
       "      <td>0.0</td>\n",
       "      <td>0.0</td>\n",
       "      <td>0.0</td>\n",
       "      <td>0.0</td>\n",
       "      <td>0.0</td>\n",
       "      <td>0.0</td>\n",
       "    </tr>\n",
       "    <tr>\n",
       "      <th>5</th>\n",
       "      <td>4041</td>\n",
       "      <td>Radio Commerce in Sarthe</td>\n",
       "      <td>26/04/2010 13:14</td>\n",
       "      <td>Radio Commerce Shelter, Sarthe</td>\n",
       "      <td>i'm Louinel from Sarthe. I'd to know what can ...</td>\n",
       "      <td>5e. Communication lines down,</td>\n",
       "      <td>18.593707</td>\n",
       "      <td>-72.310079</td>\n",
       "      <td>YES</td>\n",
       "      <td>NO</td>\n",
       "      <td>...</td>\n",
       "      <td>0.0</td>\n",
       "      <td>0.0</td>\n",
       "      <td>0.0</td>\n",
       "      <td>0.0</td>\n",
       "      <td>0.0</td>\n",
       "      <td>0.0</td>\n",
       "      <td>0.0</td>\n",
       "      <td>0.0</td>\n",
       "      <td>0.0</td>\n",
       "      <td>0.0</td>\n",
       "    </tr>\n",
       "    <tr>\n",
       "      <th>6</th>\n",
       "      <td>4040</td>\n",
       "      <td>Contaminated water in Baraderes.</td>\n",
       "      <td>26/04/2010 14:19</td>\n",
       "      <td>Marc near Baraderes</td>\n",
       "      <td>How do we treat water in areas without Pipe?\\t...</td>\n",
       "      <td>4. Menaces | Security Threats, 4e. Assainissem...</td>\n",
       "      <td>18.482800</td>\n",
       "      <td>-73.638800</td>\n",
       "      <td>YES</td>\n",
       "      <td>NO</td>\n",
       "      <td>...</td>\n",
       "      <td>0.0</td>\n",
       "      <td>0.0</td>\n",
       "      <td>0.0</td>\n",
       "      <td>0.0</td>\n",
       "      <td>0.0</td>\n",
       "      <td>0.0</td>\n",
       "      <td>0.0</td>\n",
       "      <td>0.0</td>\n",
       "      <td>0.0</td>\n",
       "      <td>0.0</td>\n",
       "    </tr>\n",
       "    <tr>\n",
       "      <th>7</th>\n",
       "      <td>4039</td>\n",
       "      <td>Violence at &amp;quot;arcahaie bas Saint-Ard&amp;quot;</td>\n",
       "      <td>26/04/2010 14:27</td>\n",
       "      <td>unable to find &amp;quot;arcahaie bas Saint-Ard&amp;qu...</td>\n",
       "      <td>Goodnight at (arcahaie bas Saint-Ard) 2 young ...</td>\n",
       "      <td>4. Menaces | Security Threats,</td>\n",
       "      <td>18.415000</td>\n",
       "      <td>-73.195000</td>\n",
       "      <td>YES</td>\n",
       "      <td>NO</td>\n",
       "      <td>...</td>\n",
       "      <td>0.0</td>\n",
       "      <td>0.0</td>\n",
       "      <td>0.0</td>\n",
       "      <td>0.0</td>\n",
       "      <td>0.0</td>\n",
       "      <td>0.0</td>\n",
       "      <td>0.0</td>\n",
       "      <td>0.0</td>\n",
       "      <td>0.0</td>\n",
       "      <td>0.0</td>\n",
       "    </tr>\n",
       "  </tbody>\n",
       "</table>\n",
       "<p>5 rows × 55 columns</p>\n",
       "</div>"
      ],
      "text/plain": [
       "   Serial                                     INCIDENT TITLE  \\\n",
       "0    4052  * URGENT * Type O blood donations needed in #J...   \n",
       "4    4042                                 Citi Soleil school   \n",
       "5    4041                           Radio Commerce in Sarthe   \n",
       "6    4040                   Contaminated water in Baraderes.   \n",
       "7    4039     Violence at &quot;arcahaie bas Saint-Ard&quot;   \n",
       "\n",
       "      INCIDENT DATE                                           LOCATION  \\\n",
       "0  05/07/2010 17:26                                      Jacmel, Haiti   \n",
       "4  18/05/2010 16:26                                 Citi Soleil, Haiti   \n",
       "5  26/04/2010 13:14                     Radio Commerce Shelter, Sarthe   \n",
       "6  26/04/2010 14:19                                Marc near Baraderes   \n",
       "7  26/04/2010 14:27  unable to find &quot;arcahaie bas Saint-Ard&qu...   \n",
       "\n",
       "                                         DESCRIPTION  \\\n",
       "0  Birthing Clinic in Jacmel #Haiti urgently need...   \n",
       "4  We are working with Haitian (NGO) -The Christi...   \n",
       "5  i'm Louinel from Sarthe. I'd to know what can ...   \n",
       "6  How do we treat water in areas without Pipe?\\t...   \n",
       "7  Goodnight at (arcahaie bas Saint-Ard) 2 young ...   \n",
       "\n",
       "                                            CATEGORY   LATITUDE  LONGITUDE  \\\n",
       "0        1. Urgences | Emergency, 3. Public Health,   18.233333 -72.533333   \n",
       "4                          1. Urgences | Emergency,   18.571084 -72.334671   \n",
       "5                     5e. Communication lines down,   18.593707 -72.310079   \n",
       "6  4. Menaces | Security Threats, 4e. Assainissem...  18.482800 -73.638800   \n",
       "7                    4. Menaces | Security Threats,   18.415000 -73.195000   \n",
       "\n",
       "  APPROVED VERIFIED     ...       category_7c  category_7d  category_7g  \\\n",
       "0      YES       NO     ...               0.0          0.0          0.0   \n",
       "4      YES       NO     ...               0.0          0.0          0.0   \n",
       "5      YES       NO     ...               0.0          0.0          0.0   \n",
       "6      YES       NO     ...               0.0          0.0          0.0   \n",
       "7      YES       NO     ...               0.0          0.0          0.0   \n",
       "\n",
       "   category_7h  category_8  category_8a  category_8c  category_8d  \\\n",
       "0          0.0         0.0          0.0          0.0          0.0   \n",
       "4          0.0         0.0          0.0          0.0          0.0   \n",
       "5          0.0         0.0          0.0          0.0          0.0   \n",
       "6          0.0         0.0          0.0          0.0          0.0   \n",
       "7          0.0         0.0          0.0          0.0          0.0   \n",
       "\n",
       "   category_8e  category_8f  \n",
       "0          0.0          0.0  \n",
       "4          0.0          0.0  \n",
       "5          0.0          0.0  \n",
       "6          0.0          0.0  \n",
       "7          0.0          0.0  \n",
       "\n",
       "[5 rows x 55 columns]"
      ]
     },
     "execution_count": 21,
     "metadata": {},
     "output_type": "execute_result"
    }
   ],
   "source": [
    "data = data.join(dummy_frame.add_prefix('category_'))\n",
    "data.head()"
   ]
  },
  {
   "cell_type": "markdown",
   "metadata": {},
   "source": [
    "### basemap"
   ]
  },
  {
   "cell_type": "code",
   "execution_count": null,
   "metadata": {
    "collapsed": true
   },
   "outputs": [],
   "source": [
    "## pip install GEOS\n",
    "## "
   ]
  },
  {
   "cell_type": "code",
   "execution_count": 22,
   "metadata": {
    "collapsed": false
   },
   "outputs": [
    {
     "ename": "ImportError",
     "evalue": "No module named 'mpl_toolkits.basemap'",
     "output_type": "error",
     "traceback": [
      "\u001b[1;31m---------------------------------------------------------------------------\u001b[0m",
      "\u001b[1;31mImportError\u001b[0m                               Traceback (most recent call last)",
      "\u001b[1;32m<ipython-input-22-b4997d3e98c6>\u001b[0m in \u001b[0;36m<module>\u001b[1;34m()\u001b[0m\n\u001b[1;32m----> 1\u001b[1;33m \u001b[1;32mfrom\u001b[0m \u001b[0mmpl_toolkits\u001b[0m\u001b[1;33m.\u001b[0m\u001b[0mbasemap\u001b[0m \u001b[1;32mimport\u001b[0m \u001b[0mBasemap\u001b[0m\u001b[1;33m\u001b[0m\u001b[0m\n\u001b[0m\u001b[0;32m      2\u001b[0m \u001b[1;32mimport\u001b[0m \u001b[0mmatplotlib\u001b[0m\u001b[1;33m.\u001b[0m\u001b[0mpyplot\u001b[0m \u001b[1;32mas\u001b[0m \u001b[0mplt\u001b[0m\u001b[1;33m\u001b[0m\u001b[0m\n",
      "\u001b[1;31mImportError\u001b[0m: No module named 'mpl_toolkits.basemap'"
     ]
    }
   ],
   "source": [
    "from mpl_toolkits.basemap import Basemap \n",
    "import matplotlib.pyplot as plt"
   ]
  },
  {
   "cell_type": "code",
   "execution_count": null,
   "metadata": {
    "collapsed": true
   },
   "outputs": [],
   "source": []
  }
 ],
 "metadata": {
  "anaconda-cloud": {},
  "kernelspec": {
   "display_name": "Python [py35]",
   "language": "python",
   "name": "Python [py35]"
  },
  "language_info": {
   "codemirror_mode": {
    "name": "ipython",
    "version": 3
   },
   "file_extension": ".py",
   "mimetype": "text/x-python",
   "name": "python",
   "nbconvert_exporter": "python",
   "pygments_lexer": "ipython3",
   "version": "3.5.2"
  }
 },
 "nbformat": 4,
 "nbformat_minor": 0
}
