{
 "cells": [
  {
   "cell_type": "code",
   "execution_count": 4,
   "metadata": {
    "collapsed": false
   },
   "outputs": [],
   "source": [
    "from collections import Counter\n",
    "from functools import reduce\n",
    "import math, random\n",
    "from linear_algebra import distance, vector_subtract, scalar_multiply"
   ]
  },
  {
   "cell_type": "markdown",
   "metadata": {},
   "source": [
    "# Ch8. Gradient descent (경사 하강법)\n",
    "- 데이터 과학을 하다 보면 특정 상황에 가장 적합한 모델을 찾아야 할 때가 많다. \n",
    "- 가장 적합한(Best)이라 함은 대부분 '모델의 오류를 최소화 또는 likelihood(우도)를 최대화하는 것을 의미한다. \n",
    "        어떤 가설 (hypothesis) H 에 대한 우도 (尤度, likelihood) 란, 어떤 시행의 결과 (Evidence) E 가 주어졌다 할 때, \n",
    "        만일 주어진 가설 H 가 참이라면, 그러한 결과 E 가 나올 정도는 얼마나 되겠느냐 하는 것이다. 즉  결과 E 가 나온 경우, \n",
    "        그러한 결과가 나올 수 있는 여러 가능한 가설들을 평가할 수 있는 측도가 곧 우도\n",
    "<img src=\"photo/8_1.PNG\">\n",
    "\n",
    "- 이 말은 즉, 여러 최적화 문제ㅐ들을 풀어야한다는 것. \n",
    "- 문제를 풀기 위해 **경사 하강법**이라 부르는 방법을 사용. "
   ]
  },
  {
   "cell_type": "markdown",
   "metadata": {},
   "source": [
    "## 경사하강법의 숨은 의미 \n",
    " - 실수 벡터 입력 -> 실수 하나 출력 함수 $f$가 있다. "
   ]
  },
  {
   "cell_type": "code",
   "execution_count": null,
   "metadata": {
    "collapsed": true
   },
   "outputs": [],
   "source": [
    "def sum_of_squares(v):\n",
    "    \"\"\"v에 속해 있는 항목들의 제곱합을 계산\"\"\"\n",
    "    return sum(v_i ** 2 for v_i in v)"
   ]
  }
 ],
 "metadata": {
  "anaconda-cloud": {},
  "kernelspec": {
   "display_name": "Python [work]",
   "language": "python",
   "name": "Python [work]"
  },
  "language_info": {
   "codemirror_mode": {
    "name": "ipython",
    "version": 3
   },
   "file_extension": ".py",
   "mimetype": "text/x-python",
   "name": "python",
   "nbconvert_exporter": "python",
   "pygments_lexer": "ipython3",
   "version": "3.5.2"
  }
 },
 "nbformat": 4,
 "nbformat_minor": 0
}
