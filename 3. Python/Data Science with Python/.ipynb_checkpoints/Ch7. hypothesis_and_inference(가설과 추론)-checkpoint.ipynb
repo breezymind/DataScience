{
 "cells": [
  {
   "cell_type": "markdown",
   "metadata": {},
   "source": [
    "# Ch7. hypothesis_and_inference(가설과 추론)"
   ]
  },
  {
   "cell_type": "code",
   "execution_count": 1,
   "metadata": {
    "collapsed": true
   },
   "outputs": [],
   "source": [
    "import math, random"
   ]
  },
  {
   "cell_type": "code",
   "execution_count": 2,
   "metadata": {
    "collapsed": true
   },
   "outputs": [],
   "source": [
    "def normal_cdf(x, mu=0,sigma=1):\n",
    "    return (1 + math.erf((x - mu) / math.sqrt(2) / sigma)) / 2\n",
    "\n",
    "def inverse_normal_cdf(p, mu=0, sigma=1, tolerance=0.00001):\n",
    "    \"\"\"이진 검색을 사용해서 역함수를 근사\"\"\"\n",
    "\n",
    "    # 표준정규분포가 아니라면 표준정규분포로 변환\n",
    "    if mu != 0 or sigma != 1:\n",
    "        return mu + sigma * inverse_normal_cdf(p, tolerance=tolerance)\n",
    "\n",
    "    low_z, low_p = -10.0, 0            # normal_cdf(-10) 0에 접근\n",
    "    hi_z,  hi_p  =  10.0, 1            # normal_cdf(10)  1에 접근\n",
    "    while hi_z - low_z > tolerance:\n",
    "        mid_z = (low_z + hi_z) / 2     # 중간값\n",
    "        mid_p = normal_cdf(mid_z)      # 중간 값의 누적분포 값을 계산\n",
    "        if mid_p < p:\n",
    "            # 중간 값이 너무 작다면 더 큰 값들을 검색\n",
    "            low_z, low_p = mid_z, mid_p\n",
    "        elif mid_p > p:\n",
    "            # 중간 값이 너무 크다면 더 작은 값들을 검색\n",
    "            hi_z, hi_p = mid_z, mid_p\n",
    "        else:\n",
    "            break\n",
    "\n",
    "    return mid_z"
   ]
  },
  {
   "cell_type": "markdown",
   "metadata": {},
   "source": [
    "특정 가설이 사실인지 아닌지 검정해 보고 싶은 경우가 있다. \n",
    " - 기본적인 가설을 의미하는 **귀무가설**$(H_o,null\\ Hypothesis)$과 비교하고 싶은 **대립가설**$(H_1,alternative\\ Hypothesis)$\n",
    " - 통계를 통해 $H_o$를 기각할지 말지를 결정한다. "
   ]
  },
  {
   "cell_type": "markdown",
   "metadata": {},
   "source": [
    "##  예시. 동전 던지기 \n",
    " - 동전이 공평한 동전인지 아닌지 검정.\n",
    " - 앞면이 나올 확률 : $p$, 공평하다는 의미는 $p=0.5$는 **귀무가설**이고 $p\\neq0.5$가 **대립가설**이 된다. "
   ]
  },
  {
   "cell_type": "code",
   "execution_count": 3,
   "metadata": {
    "collapsed": true
   },
   "outputs": [],
   "source": [
    "def normal_approximation_to_binomial(n, p):\n",
    "    \"\"\"Binomial(n, p)에 해당되는 평균과 표준펴차 계산\"\"\"\n",
    "    mu = p * n\n",
    "    sigma = math.sqrt(p * (1 - p) * n)\n",
    "    return mu, sigma"
   ]
  },
  {
   "cell_type": "markdown",
   "metadata": {},
   "source": [
    "확률변수가 정규분포를 따른다는 가정하에, normal_cdf를 사용하면 실제 동전던지기로부터 얻은 값이 구간 안에 존재할 확률을 계산할 수 있다."
   ]
  },
  {
   "cell_type": "code",
   "execution_count": 4,
   "metadata": {
    "collapsed": true
   },
   "outputs": [],
   "source": [
    "# 누적분포함수는 확률변수가 특정 값보다 작을 확률을 나타낸다. \n",
    "normal_probability_below = normal_cdf\n",
    "\n",
    "# i만약 확률변수가 특정 값보다 작지 않다면, 특정 값보다 크다는 것을 의미한다.\n",
    "def normal_probability_above(lo, mu=0, sigma=1):\n",
    "    return 1 - normal_cdf(lo, mu, sigma)\n",
    "\n",
    "# 만약 확률변수가 hi보다 작고 lo보다 작지 않다면, 확률변수는 hi와 lo사이에 존재한다. \n",
    "def normal_probability_between(lo, hi, mu=0, sigma=1):\n",
    "    return normal_cdf(hi, mu, sigma) - normal_cdf(lo, mu, sigma)\n",
    "\n",
    "# 만약 확률변수가 범위 밖에 존재한다면, 범위 안에 존재하지 않는다는 것을 위미한다. \n",
    "def normal_probability_outside(lo, hi, mu=0, sigma=1):\n",
    "    return 1 - normal_probability_between(lo, hi, mu, sigma)"
   ]
  },
  {
   "cell_type": "markdown",
   "metadata": {},
   "source": [
    "반대로 확률이 주어졌을때는 평균을 중심으로 하는 대칭적인 구간을 구할 수도있다. 예를 들어, 분포의 60%를 차지하는 평균 중심의 구간을 구하고 <br> 싶다면 양쪽 꼬리 부분이 각각 분포의 20%를 차지하는 지점을 구하면 된다. "
   ]
  },
  {
   "cell_type": "code",
   "execution_count": 5,
   "metadata": {
    "collapsed": true
   },
   "outputs": [],
   "source": [
    "def normal_upper_bound(probability, mu=0, sigma=1):\n",
    "    \"\"\"P(Z<=z) = probability, 인 z값 반환\"\"\"\n",
    "    return inverse_normal_cdf(probability, mu, sigma)\n",
    "\n",
    "def normal_lower_bound(probability, mu=0, sigma=1):\n",
    "    \"\"\"P(Z>=z) = probability, 인 z값 반환\"\"\"\n",
    "    return inverse_normal_cdf(1 - probability, mu, sigma)\n",
    "\n",
    "def normal_two_sided_bounds(probability, mu=0, sigma=1):\n",
    "    \"\"\"입력한 probability 값을 포함하고, \n",
    "    평균을 중심으로 대칭적인 구간을 반환\"\"\"\n",
    "    tail_probability = (1 - probability) / 2\n",
    "\n",
    "    # 구간의 상한은 tail_probability 값 이상의 확률 값을 갖고 있다.\n",
    "    upper_bound = normal_lower_bound(tail_probability, mu, sigma)\n",
    "\n",
    "    # 구간으 ㅣ하한은 tail_probability값 이하의 확률 값을 갖고 있다.\n",
    "    lower_bound = normal_upper_bound(tail_probability, mu, sigma)\n",
    "\n",
    "    return lower_bound, upper_bound\n"
   ]
  },
  {
   "cell_type": "markdown",
   "metadata": {},
   "source": [
    " - 동전 1000번 \n",
    " - 가설이 맞다면 X는 대략 평균이 500이고, 표준편차가 15.8인 정규분포를 따를 것이다. "
   ]
  },
  {
   "cell_type": "code",
   "execution_count": 6,
   "metadata": {
    "collapsed": false
   },
   "outputs": [
    {
     "name": "stdout",
     "output_type": "stream",
     "text": [
      "mu_0 500.0\n",
      "sigma_0 15.811388300841896\n",
      "normal_two_sided_bounds(0.95, mu_0, sigma_0) (469.01026640487555, 530.9897335951244)\n",
      "\n",
      "power of a test\n"
     ]
    }
   ],
   "source": [
    "mu_0, sigma_0 = normal_approximation_to_binomial(1000, 0.5)\n",
    "print(\"mu_0\", mu_0)\n",
    "print(\"sigma_0\", sigma_0)\n",
    "print(\"normal_two_sided_bounds(0.95, mu_0, sigma_0)\", normal_two_sided_bounds(0.95, mu_0, sigma_0))\n",
    "print()\n",
    "print(\"power of a test\")"
   ]
  },
  {
   "cell_type": "markdown",
   "metadata": {},
   "source": [
    "제 1종 오류를 얼마나 허용해 줄것인지를 의미하는 유의수준을 결정해야 한다.\n",
    " - 제 1종 오류란, 비록 $H_o$가 참이지만 $H_o$를 기각하는 'false positive(가양성)' 오류를 의미한다. \n",
    " - 보통 5%나 1%로 설정하는 경우가 많다. "
   ]
  },
  {
   "cell_type": "code",
   "execution_count": 7,
   "metadata": {
    "collapsed": false
   },
   "outputs": [
    {
     "name": "stdout",
     "output_type": "stream",
     "text": [
      "95% bounds based on assumption p is 0.5\n",
      "lo 469.01026640487555\n",
      "hi 530.9897335951244\n"
     ]
    }
   ],
   "source": [
    "print(\"95% bounds based on assumption p is 0.5\")\n",
    "lo, hi = normal_two_sided_bounds(0.95, mu_0, sigma_0)\n",
    "print(\"lo\", lo)\n",
    "print(\"hi\", hi)"
   ]
  },
  {
   "cell_type": "markdown",
   "metadata": {},
   "source": [
    "제 2종 오류를 범하지 않을 확률을 구하면 검정력(power)을 알 수 있다. \n",
    "- 제 2종 오류란 $H_o$가 거짓이지만 $H_o$를 기각하지 않는 오류를 의미한다. \n",
    "- 제 2종 오류를 측정하기 위해서 먼저 $H_o$가 거짓이라는 것이 무엇을 의미하는지 알아볼 필요가 있다. \n",
    "\n",
    "예를 들어 p가 0.55, 즉 동적의 얖면이 나올 확률이 약간 평향되어 있다면 검정력은 다음과 같다. "
   ]
  },
  {
   "cell_type": "code",
   "execution_count": 8,
   "metadata": {
    "collapsed": false
   },
   "outputs": [
    {
     "name": "stdout",
     "output_type": "stream",
     "text": [
      "95% bounds based on assumption p is 0.5\n",
      "lo 469.01026640487555\n",
      "hi 530.9897335951244\n"
     ]
    }
   ],
   "source": [
    "print(\"95% bounds based on assumption p is 0.5\")\n",
    "# p가 0.5라고 가정할 때, 유의수준이 5%인 구간.\n",
    "lo, hi = normal_two_sided_bounds(0.95, mu_0, sigma_0)\n",
    "print(\"lo\", lo)\n",
    "print(\"hi\", hi)"
   ]
  },
  {
   "cell_type": "code",
   "execution_count": 10,
   "metadata": {
    "collapsed": false
   },
   "outputs": [
    {
     "name": "stdout",
     "output_type": "stream",
     "text": [
      "p = 0.55인 경우 실제 평균과 표준편차\n",
      "mu_1 550.0\n",
      "sigma_1 15.732132722552274\n"
     ]
    }
   ],
   "source": [
    "print(\"p = 0.55인 경우 실제 평균과 표준편차\")\n",
    "mu_1, sigma_1 = normal_approximation_to_binomial(1000, 0.55)\n",
    "print(\"mu_1\", mu_1)\n",
    "print(\"sigma_1\", sigma_1)"
   ]
  },
  {
   "cell_type": "markdown",
   "metadata": {},
   "source": [
    " - 제 2종 오류란 귀무가설($H_o$)을 기각하지 못했다는 의미 \n",
    " - 즉, X가 주어진 구간 안에 조재할 경우를 의미 "
   ]
  },
  {
   "cell_type": "code",
   "execution_count": 11,
   "metadata": {
    "collapsed": true
   },
   "outputs": [],
   "source": [
    "type_2_probability = normal_probability_between(lo, hi, mu_1, sigma_1)\n",
    "power = 1 - type_2_probability # 0.887"
   ]
  },
  {
   "cell_type": "code",
   "execution_count": 14,
   "metadata": {
    "collapsed": false
   },
   "outputs": [
    {
     "name": "stdout",
     "output_type": "stream",
     "text": [
      "type 2 probability 0.11345199870463285\n",
      "power 0.8865480012953671\n"
     ]
    }
   ],
   "source": [
    "print(\"type 2 probability\", type_2_probability)\n",
    "print(\"power\", power)"
   ]
  },
  {
   "cell_type": "markdown",
   "metadata": {},
   "source": [
    " - P < 0.5 즉 동전이 앞면에 편향되지 않은 경우를 귀무가설로 정한다면 X가 50편보다 크면 귀무가설을 기각하고, 50보다 작다면 기각하지 않는 단측검정이 필요해진다. \n",
    " - 유의수준이 5%인 가설검정을 위해서는 normal_probability_below를 사용하여 분포의 95%가 해당 값 이하인 경계 값을 찾을 수 있다. "
   ]
  },
  {
   "cell_type": "code",
   "execution_count": 15,
   "metadata": {
    "collapsed": false
   },
   "outputs": [
    {
     "data": {
      "text/plain": [
       "526.0073585242053"
      ]
     },
     "execution_count": 15,
     "metadata": {},
     "output_type": "execute_result"
    }
   ],
   "source": [
    "hi = normal_upper_bound(0.95,mu_0,sigma_0)\n",
    "hi"
   ]
  },
  {
   "cell_type": "code",
   "execution_count": 16,
   "metadata": {
    "collapsed": false
   },
   "outputs": [
    {
     "data": {
      "text/plain": [
       "0.06362051966928273"
      ]
     },
     "execution_count": 16,
     "metadata": {},
     "output_type": "execute_result"
    }
   ],
   "source": [
    "type_2_probability = normal_probability_below(hi,mu_1,sigma_1)\n",
    "type_2_probability"
   ]
  },
  {
   "cell_type": "code",
   "execution_count": 17,
   "metadata": {
    "collapsed": false
   },
   "outputs": [
    {
     "data": {
      "text/plain": [
       "0.9363794803307173"
      ]
     },
     "execution_count": 17,
     "metadata": {},
     "output_type": "execute_result"
    }
   ],
   "source": [
    "power = 1 - type_2_probability\n",
    "power"
   ]
  },
  {
   "cell_type": "code",
   "execution_count": null,
   "metadata": {
    "collapsed": true
   },
   "outputs": [],
   "source": []
  }
 ],
 "metadata": {
  "anaconda-cloud": {},
  "kernelspec": {
   "display_name": "Python [work]",
   "language": "python",
   "name": "Python [work]"
  },
  "language_info": {
   "codemirror_mode": {
    "name": "ipython",
    "version": 3
   },
   "file_extension": ".py",
   "mimetype": "text/x-python",
   "name": "python",
   "nbconvert_exporter": "python",
   "pygments_lexer": "ipython3",
   "version": "3.5.2"
  }
 },
 "nbformat": 4,
 "nbformat_minor": 0
}
