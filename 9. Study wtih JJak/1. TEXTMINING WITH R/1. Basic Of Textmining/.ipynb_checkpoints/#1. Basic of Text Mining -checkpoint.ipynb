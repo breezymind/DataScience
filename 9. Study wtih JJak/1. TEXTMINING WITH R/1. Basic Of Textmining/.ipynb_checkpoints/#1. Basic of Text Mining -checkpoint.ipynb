{
 "cells": [
  {
   "cell_type": "markdown",
   "metadata": {},
   "source": [
    "# Basic of Text Mining with R"
   ]
  },
  {
   "cell_type": "code",
   "execution_count": 1,
   "metadata": {
    "collapsed": true
   },
   "outputs": [],
   "source": [
    "# install.packages(c('rvest', 'httr', 'stringr', 'readxl', 'dplyr', 'tm', 'qgraph', 'KoNLP'), repos='http://cran.nexr.com')"
   ]
  },
  {
   "cell_type": "markdown",
   "metadata": {},
   "source": [
    "### Internet \n",
    " - Client -> http -> Server (Request)\n",
    " - Server -> http -> Client (Response)"
   ]
  },
  {
   "cell_type": "markdown",
   "metadata": {},
   "source": [
    "### Get & Post \n",
    " - 200 OK -> 서버가 내가 원하는 코드를 주는 것이다. \n",
    " - 그외의 것은 서버가 고장났거나, 내가 이상하게 보냈거나."
   ]
  },
  {
   "cell_type": "markdown",
   "metadata": {},
   "source": [
    "### 크롤링을 하는 이유\n",
    " - 다양한데이터가 인터넷에 존재한다. 쉽고 빠르게 정보를 획득 할 수 있다. \n",
    " - 내용을 분석하기 위해서 크롤링한다. 내가 필요한 부분만 빼낸다. "
   ]
  },
  {
   "cell_type": "code",
   "execution_count": 2,
   "metadata": {
    "collapsed": true
   },
   "outputs": [],
   "source": [
    "# <p>안녕하세요\\</p> P태그로 감싸져있다. \n",
    "#  - Element 라고도 하고 Node라고도한다. (엄격하게는 다르다.)\n",
    "# <h3 class='title'> 텍스트에 감정읽기 </h3>  // class 는 여러개를 가질 수 있다. \n",
    "# <h3 id='title'> 텍스트에 감정읽기 </h3>    // id는 하나밖에 없다. 페이지하나에."
   ]
  },
  {
   "cell_type": "code",
   "execution_count": 1,
   "metadata": {
    "collapsed": false
   },
   "outputs": [
    {
     "name": "stderr",
     "output_type": "stream",
     "text": [
      "Warning message:\n",
      ": package 'httr' was built under R version 3.3.2"
     ]
    }
   ],
   "source": [
    "library(httr) # http 통신.\n",
    "#url = 'http://movie.daum.net/moviedetail/moviedetailNetizenPoint.do?movieId=73750&t__nil_NetizenPoint=tabName'"
   ]
  },
  {
   "cell_type": "code",
   "execution_count": 2,
   "metadata": {
    "collapsed": true
   },
   "outputs": [],
   "source": [
    "url = \"http://movie.daum.net/moviedb/grade?movieId=54081&type=netizen&page=5\"\n",
    "r <- GET(url)"
   ]
  },
  {
   "cell_type": "code",
   "execution_count": 3,
   "metadata": {
    "collapsed": false
   },
   "outputs": [
    {
     "data": {
      "text/plain": [
       "Response [http://movie.daum.net/moviedb/grade?movieId=54081&type=netizen&page=5]\n",
       "  Date: 2017-03-22 13:47\n",
       "  Status: 200\n",
       "  Content-Type: text/html;charset=UTF-8\n",
       "  Size: 88.1 kB\n",
       "\n",
       "\n",
       "\n",
       "\n",
       "\n",
       "\n",
       "\n",
       "\n",
       "\n",
       "\n",
       "..."
      ]
     },
     "metadata": {},
     "output_type": "display_data"
    }
   ],
   "source": [
    "r"
   ]
  },
  {
   "cell_type": "code",
   "execution_count": 5,
   "metadata": {
    "collapsed": false
   },
   "outputs": [],
   "source": [
    "library(rvest)\n",
    "library(dplyr)"
   ]
  },
  {
   "cell_type": "code",
   "execution_count": 6,
   "metadata": {
    "collapsed": true
   },
   "outputs": [],
   "source": [
    "h = read_html(r) # Read HTML or XML.\n",
    "comment_area = html_nodes(h, '.list_review') # list_review안에 다 있다.    // .은 class"
   ]
  },
  {
   "cell_type": "code",
   "execution_count": 7,
   "metadata": {
    "collapsed": false
   },
   "outputs": [
    {
     "name": "stderr",
     "output_type": "stream",
     "text": [
      "Best guess: UTF-8 (100% confident)\n"
     ]
    },
    {
     "data": {
      "text/html": [
       "<ol class=list-inline>\n",
       "\t<li>\" \n",
       "\t\t\t\t\t\t\t\t\t\t\n",
       "\t\t\t\t\t\t\t\t\t\"</li>\n",
       "\t<li>\" \n",
       "\t\t\t\t\t\t\t\t\t\t\n",
       "\t\t\t\t\t\t\t\t\t\"</li>\n",
       "\t<li>\" \n",
       "\t\t\t\t\t\t\t\t\t\t\n",
       "\t\t\t\t\t\t\t\t\t\"</li>\n",
       "\t<li>\" \n",
       "\t\t\t\t\t\t\t\t\t\t통쾌한 액션과 여러 히어로들의 총출동. 그래도 유치하다\n",
       "\t\t\t\t\t\t\t\t\t\"</li>\n",
       "\t<li>\" \n",
       "\t\t\t\t\t\t\t\t\t\t누구보다 빠르게 남들과는 다르게 씽나게 봤음\n",
       "\t\t\t\t\t\t\t\t\t\"</li>\n",
       "\t<li>\" \n",
       "\t\t\t\t\t\t\t\t\t\t\n",
       "\t\t\t\t\t\t\t\t\t\"</li>\n",
       "\t<li>\" \n",
       "\t\t\t\t\t\t\t\t\t\t\n",
       "\t\t\t\t\t\t\t\t\t\"</li>\n",
       "\t<li>\" \n",
       "\t\t\t\t\t\t\t\t\t\t!!!!!!!\n",
       "\t\t\t\t\t\t\t\t\t\"</li>\n",
       "\t<li>\" \n",
       "\t\t\t\t\t\t\t\t\t\t단합이 안되던 어벤져스가 어셈블을 이뤄 인류정복을 꿈꾸는 교만한 로키의 카리스마를 박살낸다. 톰 히들스턴이 모순적 악역의 연기를 효과적으로 해내어 이 작품의 빌런의 역할을 충실히 해냈다. 그간 단일 작품으로만 보이던 영웅들의 어셈블로 특유 흥미도가 혁신적으로 치솟으며 극적 요소들을 표출한다.\n",
       "\t\t\t\t\t\t\t\t\t\"</li>\n",
       "\t<li>\" \n",
       "\t\t\t\t\t\t\t\t\t\t\n",
       "\t\t\t\t\t\t\t\t\t\"</li>\n",
       "</ol>\n"
      ],
      "text/latex": [
       "\\begin{enumerate*}\n",
       "\\item \" \n",
       "\t\t\t\t\t\t\t\t\t\t\n",
       "\t\t\t\t\t\t\t\t\t\"\n",
       "\\item \" \n",
       "\t\t\t\t\t\t\t\t\t\t\n",
       "\t\t\t\t\t\t\t\t\t\"\n",
       "\\item \" \n",
       "\t\t\t\t\t\t\t\t\t\t\n",
       "\t\t\t\t\t\t\t\t\t\"\n",
       "\\item \" \n",
       "\t\t\t\t\t\t\t\t\t\t통쾌한 액션과 여러 히어로들의 총출동. 그래도 유치하다\n",
       "\t\t\t\t\t\t\t\t\t\"\n",
       "\\item \" \n",
       "\t\t\t\t\t\t\t\t\t\t누구보다 빠르게 남들과는 다르게 씽나게 봤음\n",
       "\t\t\t\t\t\t\t\t\t\"\n",
       "\\item \" \n",
       "\t\t\t\t\t\t\t\t\t\t\n",
       "\t\t\t\t\t\t\t\t\t\"\n",
       "\\item \" \n",
       "\t\t\t\t\t\t\t\t\t\t\n",
       "\t\t\t\t\t\t\t\t\t\"\n",
       "\\item \" \n",
       "\t\t\t\t\t\t\t\t\t\t!!!!!!!\n",
       "\t\t\t\t\t\t\t\t\t\"\n",
       "\\item \" \n",
       "\t\t\t\t\t\t\t\t\t\t단합이 안되던 어벤져스가 어셈블을 이뤄 인류정복을 꿈꾸는 교만한 로키의 카리스마를 박살낸다. 톰 히들스턴이 모순적 악역의 연기를 효과적으로 해내어 이 작품의 빌런의 역할을 충실히 해냈다. 그간 단일 작품으로만 보이던 영웅들의 어셈블로 특유 흥미도가 혁신적으로 치솟으며 극적 요소들을 표출한다.\n",
       "\t\t\t\t\t\t\t\t\t\"\n",
       "\\item \" \n",
       "\t\t\t\t\t\t\t\t\t\t\n",
       "\t\t\t\t\t\t\t\t\t\"\n",
       "\\end{enumerate*}\n"
      ],
      "text/markdown": [
       "1. \" \n",
       "\t\t\t\t\t\t\t\t\t\t\n",
       "\t\t\t\t\t\t\t\t\t\"\n",
       "2. \" \n",
       "\t\t\t\t\t\t\t\t\t\t\n",
       "\t\t\t\t\t\t\t\t\t\"\n",
       "3. \" \n",
       "\t\t\t\t\t\t\t\t\t\t\n",
       "\t\t\t\t\t\t\t\t\t\"\n",
       "4. \" \n",
       "\t\t\t\t\t\t\t\t\t\t통쾌한 액션과 여러 히어로들의 총출동. 그래도 유치하다\n",
       "\t\t\t\t\t\t\t\t\t\"\n",
       "5. \" \n",
       "\t\t\t\t\t\t\t\t\t\t누구보다 빠르게 남들과는 다르게 씽나게 봤음\n",
       "\t\t\t\t\t\t\t\t\t\"\n",
       "6. \" \n",
       "\t\t\t\t\t\t\t\t\t\t\n",
       "\t\t\t\t\t\t\t\t\t\"\n",
       "7. \" \n",
       "\t\t\t\t\t\t\t\t\t\t\n",
       "\t\t\t\t\t\t\t\t\t\"\n",
       "8. \" \n",
       "\t\t\t\t\t\t\t\t\t\t!!!!!!!\n",
       "\t\t\t\t\t\t\t\t\t\"\n",
       "9. \" \n",
       "\t\t\t\t\t\t\t\t\t\t단합이 안되던 어벤져스가 어셈블을 이뤄 인류정복을 꿈꾸는 교만한 로키의 카리스마를 박살낸다. 톰 히들스턴이 모순적 악역의 연기를 효과적으로 해내어 이 작품의 빌런의 역할을 충실히 해냈다. 그간 단일 작품으로만 보이던 영웅들의 어셈블로 특유 흥미도가 혁신적으로 치솟으며 극적 요소들을 표출한다.\n",
       "\t\t\t\t\t\t\t\t\t\"\n",
       "10. \" \n",
       "\t\t\t\t\t\t\t\t\t\t\n",
       "\t\t\t\t\t\t\t\t\t\"\n",
       "\n",
       "\n"
      ],
      "text/plain": [
       " [1] \" \\n\\t\\t\\t\\t\\t\\t\\t\\t\\t\\t\\n\\t\\t\\t\\t\\t\\t\\t\\t\\t\"                                                                                                                                                                                                                                                                                               \n",
       " [2] \" \\n\\t\\t\\t\\t\\t\\t\\t\\t\\t\\t\\n\\t\\t\\t\\t\\t\\t\\t\\t\\t\"                                                                                                                                                                                                                                                                                               \n",
       " [3] \" \\n\\t\\t\\t\\t\\t\\t\\t\\t\\t\\t\\n\\t\\t\\t\\t\\t\\t\\t\\t\\t\"                                                                                                                                                                                                                                                                                               \n",
       " [4] \" \\n\\t\\t\\t\\t\\t\\t\\t\\t\\t\\t통쾌한 액션과 여러 히어로들의 총출동. 그래도 유치하다\\n\\t\\t\\t\\t\\t\\t\\t\\t\\t\"                                                                                                                                                                                                                                          \n",
       " [5] \" \\n\\t\\t\\t\\t\\t\\t\\t\\t\\t\\t누구보다 빠르게 남들과는 다르게 씽나게 봤음\\n\\t\\t\\t\\t\\t\\t\\t\\t\\t\"                                                                                                                                                                                                                                                    \n",
       " [6] \" \\n\\t\\t\\t\\t\\t\\t\\t\\t\\t\\t\\n\\t\\t\\t\\t\\t\\t\\t\\t\\t\"                                                                                                                                                                                                                                                                                               \n",
       " [7] \" \\n\\t\\t\\t\\t\\t\\t\\t\\t\\t\\t\\n\\t\\t\\t\\t\\t\\t\\t\\t\\t\"                                                                                                                                                                                                                                                                                               \n",
       " [8] \" \\n\\t\\t\\t\\t\\t\\t\\t\\t\\t\\t!!!!!!!\\n\\t\\t\\t\\t\\t\\t\\t\\t\\t\"                                                                                                                                                                                                                                                                                        \n",
       " [9] \" \\n\\t\\t\\t\\t\\t\\t\\t\\t\\t\\t단합이 안되던 어벤져스가 어셈블을 이뤄 인류정복을 꿈꾸는 교만한 로키의 카리스마를 박살낸다. 톰 히들스턴이 모순적 악역의 연기를 효과적으로 해내어 이 작품의 빌런의 역할을 충실히 해냈다. 그간 단일 작품으로만 보이던 영웅들의 어셈블로 특유 흥미도가 혁신적으로 치솟으며 극적 요소들을 표출한다.\\n\\t\\t\\t\\t\\t\\t\\t\\t\\t\"\n",
       "[10] \" \\n\\t\\t\\t\\t\\t\\t\\t\\t\\t\\t\\n\\t\\t\\t\\t\\t\\t\\t\\t\\t\"                                                                                                                                                                                                                                                                                               "
      ]
     },
     "metadata": {},
     "output_type": "display_data"
    }
   ],
   "source": [
    "comments = html_nodes(comment_area, '.desc_review') # 그 안에서 desc_review안에 코멘트가 존재한다. id는 #\n",
    "comments = repair_encoding(html_text(comments)) # html_text 노드사이에있는 텍스트를 가지고 온다. \n",
    "comments"
   ]
  },
  {
   "cell_type": "markdown",
   "metadata": {},
   "source": [
    "### 여러페이지 크롤링하기. "
   ]
  },
  {
   "cell_type": "code",
   "execution_count": 8,
   "metadata": {
    "collapsed": true
   },
   "outputs": [],
   "source": [
    "\n",
    "base_url <-  \"http://movie.daum.net/moviedb/grade?movieId=54081&type=netizen&page=\"\n",
    "\n",
    "all.reviews <- c()\n",
    "\n",
    "for(page in 1:10000){\n",
    "  url = paste0(base_url,page)\n",
    "  r = GET(url)\n",
    "  h = read_html(r)\n",
    "  comment_area = html_nodes(h, '.list_review')\n",
    "  comments = html_nodes(comment_area, '.desc_review')\n",
    "  reviews = html_text(comments)\n",
    "  \n",
    "  if(length(reviews) == 0){ break }\n",
    "  all.reviews = c(all.reviews, reviews)\n",
    "}"
   ]
  },
  {
   "cell_type": "markdown",
   "metadata": {},
   "source": [
    "### Save and Read data"
   ]
  },
  {
   "cell_type": "code",
   "execution_count": 9,
   "metadata": {
    "collapsed": false
   },
   "outputs": [
    {
     "data": {
      "text/html": [
       "<ol class=list-inline>\n",
       "\t<li>\" \n",
       "\t\t\t\t\t\t\t\t\t\t\n",
       "\t\t\t\t\t\t\t\t\t\"</li>\n",
       "\t<li>\" \n",
       "\t\t\t\t\t\t\t\t\t\t\n",
       "\t\t\t\t\t\t\t\t\t\"</li>\n",
       "\t<li>\" \n",
       "\t\t\t\t\t\t\t\t\t\t\n",
       "\t\t\t\t\t\t\t\t\t\"</li>\n",
       "\t<li>\" \n",
       "\t\t\t\t\t\t\t\t\t\tDC의 저스티스 리그보다 낫지만 다크 나이트 시리즈를 넘을 수 없다.\n",
       "\t\t\t\t\t\t\t\t\t\"</li>\n",
       "\t<li>\" \n",
       "\t\t\t\t\t\t\t\t\t\t\n",
       "\t\t\t\t\t\t\t\t\t\"</li>\n",
       "</ol>\n"
      ],
      "text/latex": [
       "\\begin{enumerate*}\n",
       "\\item \" \n",
       "\t\t\t\t\t\t\t\t\t\t\n",
       "\t\t\t\t\t\t\t\t\t\"\n",
       "\\item \" \n",
       "\t\t\t\t\t\t\t\t\t\t\n",
       "\t\t\t\t\t\t\t\t\t\"\n",
       "\\item \" \n",
       "\t\t\t\t\t\t\t\t\t\t\n",
       "\t\t\t\t\t\t\t\t\t\"\n",
       "\\item \" \n",
       "\t\t\t\t\t\t\t\t\t\tDC의 저스티스 리그보다 낫지만 다크 나이트 시리즈를 넘을 수 없다.\n",
       "\t\t\t\t\t\t\t\t\t\"\n",
       "\\item \" \n",
       "\t\t\t\t\t\t\t\t\t\t\n",
       "\t\t\t\t\t\t\t\t\t\"\n",
       "\\end{enumerate*}\n"
      ],
      "text/markdown": [
       "1. \" \n",
       "\t\t\t\t\t\t\t\t\t\t\n",
       "\t\t\t\t\t\t\t\t\t\"\n",
       "2. \" \n",
       "\t\t\t\t\t\t\t\t\t\t\n",
       "\t\t\t\t\t\t\t\t\t\"\n",
       "3. \" \n",
       "\t\t\t\t\t\t\t\t\t\t\n",
       "\t\t\t\t\t\t\t\t\t\"\n",
       "4. \" \n",
       "\t\t\t\t\t\t\t\t\t\tDC의 저스티스 리그보다 낫지만 다크 나이트 시리즈를 넘을 수 없다.\n",
       "\t\t\t\t\t\t\t\t\t\"\n",
       "5. \" \n",
       "\t\t\t\t\t\t\t\t\t\t\n",
       "\t\t\t\t\t\t\t\t\t\"\n",
       "\n",
       "\n"
      ],
      "text/plain": [
       "[1] \" \\n\\t\\t\\t\\t\\t\\t\\t\\t\\t\\t\\n\\t\\t\\t\\t\\t\\t\\t\\t\\t\"                                                                \n",
       "[2] \" \\n\\t\\t\\t\\t\\t\\t\\t\\t\\t\\t\\n\\t\\t\\t\\t\\t\\t\\t\\t\\t\"                                                                \n",
       "[3] \" \\n\\t\\t\\t\\t\\t\\t\\t\\t\\t\\t\\n\\t\\t\\t\\t\\t\\t\\t\\t\\t\"                                                                \n",
       "[4] \" \\n\\t\\t\\t\\t\\t\\t\\t\\t\\t\\tDC의 저스티스 리그보다 낫지만 다크 나이트 시리즈를 넘을 수 없다.\\n\\t\\t\\t\\t\\t\\t\\t\\t\\t\"\n",
       "[5] \" \\n\\t\\t\\t\\t\\t\\t\\t\\t\\t\\t\\n\\t\\t\\t\\t\\t\\t\\t\\t\\t\"                                                                "
      ]
     },
     "metadata": {},
     "output_type": "display_data"
    }
   ],
   "source": [
    "all.reviews[1:5]"
   ]
  },
  {
   "cell_type": "code",
   "execution_count": 10,
   "metadata": {
    "collapsed": true
   },
   "outputs": [],
   "source": [
    "write.csv(all.reviews,\"reviews.csv\")"
   ]
  },
  {
   "cell_type": "code",
   "execution_count": 11,
   "metadata": {
    "collapsed": true
   },
   "outputs": [],
   "source": [
    "tmp <- read.csv(\"reviews.csv\", stringsAsFactors = F)"
   ]
  },
  {
   "cell_type": "code",
   "execution_count": 12,
   "metadata": {
    "collapsed": false
   },
   "outputs": [
    {
     "data": {
      "text/html": [
       "<table>\n",
       "<thead><tr><th></th><th scope=col>X</th><th scope=col>x</th></tr></thead>\n",
       "<tbody>\n",
       "\t<tr><th scope=row>1</th><td>1                                          </td><td> \n",
       "\t\t\t\t\t\t\t\t\t\t\n",
       "\t\t\t\t\t\t\t\t\t</td></tr>\n",
       "\t<tr><th scope=row>2</th><td>2                                          </td><td> \n",
       "\t\t\t\t\t\t\t\t\t\t\n",
       "\t\t\t\t\t\t\t\t\t</td></tr>\n",
       "\t<tr><th scope=row>3</th><td>3                                          </td><td> \n",
       "\t\t\t\t\t\t\t\t\t\t\n",
       "\t\t\t\t\t\t\t\t\t</td></tr>\n",
       "\t<tr><th scope=row>4</th><td>4                                                                                                          </td><td> \n",
       "\t\t\t\t\t\t\t\t\t\tDC의 저스티스 리그보다 낫지만 다크 나이트 시리즈를 넘을 수 없다.\n",
       "\t\t\t\t\t\t\t\t\t</td></tr>\n",
       "\t<tr><th scope=row>5</th><td>5                                          </td><td> \n",
       "\t\t\t\t\t\t\t\t\t\t\n",
       "\t\t\t\t\t\t\t\t\t</td></tr>\n",
       "\t<tr><th scope=row>6</th><td>6                                          </td><td> \n",
       "\t\t\t\t\t\t\t\t\t\t\n",
       "\t\t\t\t\t\t\t\t\t</td></tr>\n",
       "</tbody>\n",
       "</table>\n"
      ],
      "text/latex": [
       "\\begin{tabular}{r|ll}\n",
       "  & X & x\\\\\n",
       "\\hline\n",
       "\t1 & 1                                           &  \n",
       "\t\t\t\t\t\t\t\t\t\t\n",
       "\t\t\t\t\t\t\t\t\t\\\\\n",
       "\t2 & 2                                           &  \n",
       "\t\t\t\t\t\t\t\t\t\t\n",
       "\t\t\t\t\t\t\t\t\t\\\\\n",
       "\t3 & 3                                           &  \n",
       "\t\t\t\t\t\t\t\t\t\t\n",
       "\t\t\t\t\t\t\t\t\t\\\\\n",
       "\t4 & 4                                                                                                           &  \n",
       "\t\t\t\t\t\t\t\t\t\tDC의 저스티스 리그보다 낫지만 다크 나이트 시리즈를 넘을 수 없다.\n",
       "\t\t\t\t\t\t\t\t\t\\\\\n",
       "\t5 & 5                                           &  \n",
       "\t\t\t\t\t\t\t\t\t\t\n",
       "\t\t\t\t\t\t\t\t\t\\\\\n",
       "\t6 & 6                                           &  \n",
       "\t\t\t\t\t\t\t\t\t\t\n",
       "\t\t\t\t\t\t\t\t\t\\\\\n",
       "\\end{tabular}\n"
      ],
      "text/plain": [
       "  X\n",
       "1 1\n",
       "2 2\n",
       "3 3\n",
       "4 4\n",
       "5 5\n",
       "6 6\n",
       "                                                                                                            x\n",
       "1                                                                  \\n\\t\\t\\t\\t\\t\\t\\t\\t\\t\\t\\n\\t\\t\\t\\t\\t\\t\\t\\t\\t\n",
       "2                                                                  \\n\\t\\t\\t\\t\\t\\t\\t\\t\\t\\t\\n\\t\\t\\t\\t\\t\\t\\t\\t\\t\n",
       "3                                                                  \\n\\t\\t\\t\\t\\t\\t\\t\\t\\t\\t\\n\\t\\t\\t\\t\\t\\t\\t\\t\\t\n",
       "4  \\n\\t\\t\\t\\t\\t\\t\\t\\t\\t\\tDC의 저스티스 리그보다 낫지만 다크 나이트 시리즈를 넘을 수 없다.\\n\\t\\t\\t\\t\\t\\t\\t\\t\\t\n",
       "5                                                                  \\n\\t\\t\\t\\t\\t\\t\\t\\t\\t\\t\\n\\t\\t\\t\\t\\t\\t\\t\\t\\t\n",
       "6                                                                  \\n\\t\\t\\t\\t\\t\\t\\t\\t\\t\\t\\n\\t\\t\\t\\t\\t\\t\\t\\t\\t"
      ]
     },
     "metadata": {},
     "output_type": "display_data"
    }
   ],
   "source": [
    "head(tmp)"
   ]
  },
  {
   "cell_type": "markdown",
   "metadata": {},
   "source": [
    "### 키워드 추출(KoNLP, Stringr)\n",
    " - 아직 문제 전체를 이해하는 부분은 없다. 해당 단어만 뽑아서 분석하는 것이 최대한인데. 의외로 많은 부분을 해석할 수 있다. \n",
    " - 전반적으로 하고 싶은 얘기를 알고싶기때문에 단어로도 할 수 있다. "
   ]
  },
  {
   "cell_type": "code",
   "execution_count": 14,
   "metadata": {
    "collapsed": false
   },
   "outputs": [],
   "source": [
    "library(KoNLP) # java로 만들어진 형태소 분석기를 사용한다. 한나눔이라는 형태소 분석기다. \n",
    "library(stringr)"
   ]
  },
  {
   "cell_type": "code",
   "execution_count": 15,
   "metadata": {
    "collapsed": false
   },
   "outputs": [
    {
     "data": {
      "text/html": [
       "<ol class=list-inline>\n",
       "\t<li>\"영화\"</li>\n",
       "\t<li>\"재미있\"</li>\n",
       "</ol>\n"
      ],
      "text/latex": [
       "\\begin{enumerate*}\n",
       "\\item \"영화\"\n",
       "\\item \"재미있\"\n",
       "\\end{enumerate*}\n"
      ],
      "text/markdown": [
       "1. \"영화\"\n",
       "2. \"재미있\"\n",
       "\n",
       "\n"
      ],
      "text/plain": [
       "[1] \"영화\"   \"재미있\""
      ]
     },
     "metadata": {},
     "output_type": "display_data"
    }
   ],
   "source": [
    "extractNoun('이 영화 정말 재미있다')"
   ]
  },
  {
   "cell_type": "markdown",
   "metadata": {},
   "source": [
    "### 형태소 분석\n",
    " - 이(관형사) 영화(명사) 정말(부사) 재미있(형용사)다(어미)  \n",
    "  - 관형사, 어미는 보통 버린다. / 명,형,동사 정도만 분석을 하는데 사용한다."
   ]
  },
  {
   "cell_type": "code",
   "execution_count": 16,
   "metadata": {
    "collapsed": false
   },
   "outputs": [
    {
     "data": {
      "text/html": [
       "<ol class=list-inline>\n",
       "\t<li>\"이/M\"</li>\n",
       "\t<li>\"영화/N\"</li>\n",
       "\t<li>\"정말/M\"</li>\n",
       "\t<li>\"재미있/N\"</li>\n",
       "\t<li>\"다/M\"</li>\n",
       "</ol>\n"
      ],
      "text/latex": [
       "\\begin{enumerate*}\n",
       "\\item \"이/M\"\n",
       "\\item \"영화/N\"\n",
       "\\item \"정말/M\"\n",
       "\\item \"재미있/N\"\n",
       "\\item \"다/M\"\n",
       "\\end{enumerate*}\n"
      ],
      "text/markdown": [
       "1. \"이/M\"\n",
       "2. \"영화/N\"\n",
       "3. \"정말/M\"\n",
       "4. \"재미있/N\"\n",
       "5. \"다/M\"\n",
       "\n",
       "\n"
      ],
      "text/plain": [
       "[1] \"이/M\"     \"영화/N\"   \"정말/M\"   \"재미있/N\" \"다/M\"    "
      ]
     },
     "metadata": {},
     "output_type": "display_data"
    }
   ],
   "source": [
    "pos <- paste(SimplePos09('이 영화 정말 재미있다'))\n",
    "pos"
   ]
  },
  {
   "cell_type": "markdown",
   "metadata": {},
   "source": [
    "### str_match 찾기"
   ]
  },
  {
   "cell_type": "code",
   "execution_count": 17,
   "metadata": {
    "collapsed": false
   },
   "outputs": [
    {
     "data": {
      "text/html": [
       "<table>\n",
       "<tbody>\n",
       "\t<tr><td>NA</td></tr>\n",
       "\t<tr><td>N</td></tr>\n",
       "\t<tr><td>NA</td></tr>\n",
       "\t<tr><td>N</td></tr>\n",
       "\t<tr><td>NA</td></tr>\n",
       "</tbody>\n",
       "</table>\n"
      ],
      "text/latex": [
       "\\begin{tabular}{l}\n",
       "\t NA\\\\\n",
       "\t N\\\\\n",
       "\t NA\\\\\n",
       "\t N\\\\\n",
       "\t NA\\\\\n",
       "\\end{tabular}\n"
      ],
      "text/markdown": [
       "1. \"NA\"\n",
       "2. \"N\"\n",
       "3. \"NA\"\n",
       "4. \"N\"\n",
       "5. \"NA\"\n",
       "\n",
       "\n"
      ],
      "text/plain": [
       "     [,1]\n",
       "[1,] NA  \n",
       "[2,] \"N\" \n",
       "[3,] NA  \n",
       "[4,] \"N\" \n",
       "[5,] NA  "
      ]
     },
     "metadata": {},
     "output_type": "display_data"
    }
   ],
   "source": [
    "str_match(pos,\"N\")"
   ]
  },
  {
   "cell_type": "code",
   "execution_count": 18,
   "metadata": {
    "collapsed": false
   },
   "outputs": [
    {
     "data": {
      "text/html": [
       "<table>\n",
       "<tbody>\n",
       "\t<tr><td>이</td></tr>\n",
       "\t<tr><td>영화</td></tr>\n",
       "\t<tr><td>정말</td></tr>\n",
       "\t<tr><td>재미있</td></tr>\n",
       "\t<tr><td>다</td></tr>\n",
       "</tbody>\n",
       "</table>\n"
      ],
      "text/latex": [
       "\\begin{tabular}{l}\n",
       "\t 이\\\\\n",
       "\t 영화\\\\\n",
       "\t 정말\\\\\n",
       "\t 재미있\\\\\n",
       "\t 다\\\\\n",
       "\\end{tabular}\n"
      ],
      "text/markdown": [
       "1. \"이\"\n",
       "2. \"영화\"\n",
       "3. \"정말\"\n",
       "4. \"재미있\"\n",
       "5. \"다\"\n",
       "\n",
       "\n"
      ],
      "text/plain": [
       "     [,1]    \n",
       "[1,] \"이\"    \n",
       "[2,] \"영화\"  \n",
       "[3,] \"정말\"  \n",
       "[4,] \"재미있\"\n",
       "[5,] \"다\"    "
      ]
     },
     "metadata": {},
     "output_type": "display_data"
    }
   ],
   "source": [
    "str_match(pos,'[가-힣]+') #[가-힣]한글만 찾아라. 가~힣 // + 1글자 이상 다 찾아라. "
   ]
  },
  {
   "cell_type": "code",
   "execution_count": 19,
   "metadata": {
    "collapsed": false
   },
   "outputs": [
    {
     "data": {
      "text/html": [
       "<table>\n",
       "<tbody>\n",
       "\t<tr><td>NA</td></tr>\n",
       "\t<tr><td>영화/N</td></tr>\n",
       "\t<tr><td>NA</td></tr>\n",
       "\t<tr><td>재미있/N</td></tr>\n",
       "\t<tr><td>NA</td></tr>\n",
       "</tbody>\n",
       "</table>\n"
      ],
      "text/latex": [
       "\\begin{tabular}{l}\n",
       "\t NA\\\\\n",
       "\t 영화/N\\\\\n",
       "\t NA\\\\\n",
       "\t 재미있/N\\\\\n",
       "\t NA\\\\\n",
       "\\end{tabular}\n"
      ],
      "text/markdown": [
       "1. \"NA\"\n",
       "2. \"영화/N\"\n",
       "3. \"NA\"\n",
       "4. \"재미있/N\"\n",
       "5. \"NA\"\n",
       "\n",
       "\n"
      ],
      "text/plain": [
       "     [,1]      \n",
       "[1,] NA        \n",
       "[2,] \"영화/N\"  \n",
       "[3,] NA        \n",
       "[4,] \"재미있/N\"\n",
       "[5,] NA        "
      ]
     },
     "metadata": {},
     "output_type": "display_data"
    }
   ],
   "source": [
    "str_match(pos,'[가-힣]+/N') #한글로가다가 N으로 끝나는."
   ]
  },
  {
   "cell_type": "code",
   "execution_count": 20,
   "metadata": {
    "collapsed": false
   },
   "outputs": [
    {
     "data": {
      "text/html": [
       "<table>\n",
       "<tbody>\n",
       "\t<tr><td>NA</td><td>NA</td></tr>\n",
       "\t<tr><td>영화/N</td><td>영화  </td></tr>\n",
       "\t<tr><td>NA</td><td>NA</td></tr>\n",
       "\t<tr><td>재미있/N</td><td>재미있  </td></tr>\n",
       "\t<tr><td>NA</td><td>NA</td></tr>\n",
       "</tbody>\n",
       "</table>\n"
      ],
      "text/latex": [
       "\\begin{tabular}{ll}\n",
       "\t NA & NA\\\\\n",
       "\t 영화/N & 영화  \\\\\n",
       "\t NA & NA\\\\\n",
       "\t 재미있/N & 재미있  \\\\\n",
       "\t NA & NA\\\\\n",
       "\\end{tabular}\n"
      ],
      "text/markdown": [
       "1. \"NA\"\n",
       "2. \"영화/N\"\n",
       "3. \"NA\"\n",
       "4. \"재미있/N\"\n",
       "5. \"NA\"\n",
       "6. \"NA\"\n",
       "7. \"영화\"\n",
       "8. \"NA\"\n",
       "9. \"재미있\"\n",
       "10. \"NA\"\n",
       "\n",
       "\n"
      ],
      "text/plain": [
       "     [,1]       [,2]    \n",
       "[1,] NA         NA      \n",
       "[2,] \"영화/N\"   \"영화\"  \n",
       "[3,] NA         NA      \n",
       "[4,] \"재미있/N\" \"재미있\"\n",
       "[5,] NA         NA      "
      ]
     },
     "metadata": {},
     "output_type": "display_data"
    }
   ],
   "source": [
    "str_match(pos,'([가-힣]+)/N') \n",
    "#한글로가다가 N으로 끝나는 것중에 한글로 된부분을 2번째 필드로 추가"
   ]
  },
  {
   "cell_type": "code",
   "execution_count": 21,
   "metadata": {
    "collapsed": false
   },
   "outputs": [
    {
     "data": {
      "text/html": [
       "<table>\n",
       "<tbody>\n",
       "\t<tr><td>NA</td><td>NA</td></tr>\n",
       "\t<tr><td>영화/N</td><td>영화  </td></tr>\n",
       "\t<tr><td>NA</td><td>NA</td></tr>\n",
       "\t<tr><td>재미있/N</td><td>재미있  </td></tr>\n",
       "\t<tr><td>NA</td><td>NA</td></tr>\n",
       "</tbody>\n",
       "</table>\n"
      ],
      "text/latex": [
       "\\begin{tabular}{ll}\n",
       "\t NA & NA\\\\\n",
       "\t 영화/N & 영화  \\\\\n",
       "\t NA & NA\\\\\n",
       "\t 재미있/N & 재미있  \\\\\n",
       "\t NA & NA\\\\\n",
       "\\end{tabular}\n"
      ],
      "text/markdown": [
       "1. \"NA\"\n",
       "2. \"영화/N\"\n",
       "3. \"NA\"\n",
       "4. \"재미있/N\"\n",
       "5. \"NA\"\n",
       "6. \"NA\"\n",
       "7. \"영화\"\n",
       "8. \"NA\"\n",
       "9. \"재미있\"\n",
       "10. \"NA\"\n",
       "\n",
       "\n"
      ],
      "text/plain": [
       "     [,1]       [,2]    \n",
       "[1,] NA         NA      \n",
       "[2,] \"영화/N\"   \"영화\"  \n",
       "[3,] NA         NA      \n",
       "[4,] \"재미있/N\" \"재미있\"\n",
       "[5,] NA         NA      "
      ]
     },
     "metadata": {},
     "output_type": "display_data"
    }
   ],
   "source": [
    "str_match(pos,'([가-힣]+)/[NP]') \n",
    "#한글로가다가 N/P으로 끝나는 것중에 한글로 된부분을 2번째 필드로 추가"
   ]
  },
  {
   "cell_type": "code",
   "execution_count": 22,
   "metadata": {
    "collapsed": false
   },
   "outputs": [
    {
     "data": {
      "text/html": [
       "<ol class=list-inline>\n",
       "\t<li>\"영화\"</li>\n",
       "\t<li>\"재미있\"</li>\n",
       "</ol>\n"
      ],
      "text/latex": [
       "\\begin{enumerate*}\n",
       "\\item \"영화\"\n",
       "\\item \"재미있\"\n",
       "\\end{enumerate*}\n"
      ],
      "text/markdown": [
       "1. \"영화\"\n",
       "2. \"재미있\"\n",
       "\n",
       "\n"
      ],
      "text/plain": [
       "[1] \"영화\"   \"재미있\""
      ]
     },
     "metadata": {},
     "output_type": "display_data"
    }
   ],
   "source": [
    "extracted <- str_match(pos,'([가-힣]+)/[NP]') \n",
    "extracted <- extracted[,2]\n",
    "extracted[!is.na(extracted)]"
   ]
  },
  {
   "cell_type": "markdown",
   "metadata": {},
   "source": [
    "# 한국어 Term Document Matrix 만들기"
   ]
  },
  {
   "cell_type": "markdown",
   "metadata": {},
   "source": [
    "### Corpus (말뭉치)\n",
    " - 기존의 데이터를 합쳐놓은 것\n",
    " - 텍스트 분석의 첫번째 단계.\n",
    " - 언어학 연구학자들이 말뭉치를 많이 만든다.\n",
    " - 사전도 말뭉치를 기반으로 한다. 말뭉치만 가지고는 분석을 할 수 없다.\n",
    " - 통계적으로 사용하기 위해선 Term Document Matrix 로 만들어야 한다.\n"
   ]
  },
  {
   "cell_type": "markdown",
   "metadata": {},
   "source": [
    "### TM : 어떠한 단어가 나타나는지 표로 만들어주는 것\n",
    " - TM 을 바탕으로 한다.\n",
    " \n",
    "### Tips \n",
    " - https://brunch.co.kr/@mapthecity/9\n",
    " - 이상한 단어는 제거하도록하고 내가 원하는 단어는 사전에 입력."
   ]
  },
  {
   "cell_type": "code",
   "execution_count": 24,
   "metadata": {
    "collapsed": false
   },
   "outputs": [],
   "source": [
    "library(tm)"
   ]
  },
  {
   "cell_type": "code",
   "execution_count": 25,
   "metadata": {
    "collapsed": false
   },
   "outputs": [
    {
     "data": {
      "text/html": [
       "<ol class=list-inline>\n",
       "\t<li>\"hello world\"</li>\n",
       "\t<li>\"hello text\"</li>\n",
       "</ol>\n"
      ],
      "text/latex": [
       "\\begin{enumerate*}\n",
       "\\item \"hello world\"\n",
       "\\item \"hello text\"\n",
       "\\end{enumerate*}\n"
      ],
      "text/markdown": [
       "1. \"hello world\"\n",
       "2. \"hello text\"\n",
       "\n",
       "\n"
      ],
      "text/plain": [
       "[1] \"hello world\" \"hello text\" "
      ]
     },
     "metadata": {},
     "output_type": "display_data"
    }
   ],
   "source": [
    "texts <- c('hello world','hello text')\n",
    "texts"
   ]
  },
  {
   "cell_type": "code",
   "execution_count": 26,
   "metadata": {
    "collapsed": false
   },
   "outputs": [
    {
     "data": {
      "text/plain": [
       "<<SimpleCorpus>>\n",
       "Metadata:  corpus specific: 1, document level (indexed): 0\n",
       "Content:  documents: 2"
      ]
     },
     "metadata": {},
     "output_type": "display_data"
    }
   ],
   "source": [
    "Corpus(VectorSource(texts))"
   ]
  },
  {
   "cell_type": "code",
   "execution_count": 27,
   "metadata": {
    "collapsed": false
   },
   "outputs": [
    {
     "data": {
      "text/plain": [
       "<<TermDocumentMatrix (terms: 3, documents: 2)>>\n",
       "Non-/sparse entries: 4/2\n",
       "Sparsity           : 33%\n",
       "Maximal term length: 5\n",
       "Weighting          : term frequency (tf)"
      ]
     },
     "metadata": {},
     "output_type": "display_data"
    }
   ],
   "source": [
    "cps <- Corpus(VectorSource(texts))\n",
    "TermDocumentMatrix(cps)"
   ]
  },
  {
   "cell_type": "code",
   "execution_count": 28,
   "metadata": {
    "collapsed": false
   },
   "outputs": [
    {
     "data": {
      "text/html": [
       "<table>\n",
       "<thead><tr><th></th><th scope=col>1</th><th scope=col>2</th></tr></thead>\n",
       "<tbody>\n",
       "\t<tr><th scope=row>hello</th><td>1</td><td>1</td></tr>\n",
       "\t<tr><th scope=row>world</th><td>1</td><td>0</td></tr>\n",
       "\t<tr><th scope=row>text</th><td>0</td><td>1</td></tr>\n",
       "</tbody>\n",
       "</table>\n"
      ],
      "text/latex": [
       "\\begin{tabular}{r|ll}\n",
       "  & 1 & 2\\\\\n",
       "\\hline\n",
       "\thello & 1 & 1\\\\\n",
       "\tworld & 1 & 0\\\\\n",
       "\ttext & 0 & 1\\\\\n",
       "\\end{tabular}\n"
      ],
      "text/markdown": [
       "1. 1\n",
       "2. 1\n",
       "3. 0\n",
       "4. 1\n",
       "5. 0\n",
       "6. 1\n",
       "\n",
       "\n"
      ],
      "text/plain": [
       "       Docs\n",
       "Terms   1 2\n",
       "  hello 1 1\n",
       "  world 1 0\n",
       "  text  0 1"
      ]
     },
     "metadata": {},
     "output_type": "display_data"
    }
   ],
   "source": [
    "tdm <- TermDocumentMatrix(cps)\n",
    "as.matrix(tdm)"
   ]
  },
  {
   "cell_type": "markdown",
   "metadata": {},
   "source": [
    "### 한국어는 처리를 좀더 해줘야한다. \n",
    " - KoNLP + TM을 잘 해야한다."
   ]
  },
  {
   "cell_type": "code",
   "execution_count": 29,
   "metadata": {
    "collapsed": false
   },
   "outputs": [
    {
     "data": {
      "text/html": [
       "<table>\n",
       "<thead><tr><th></th><th scope=col>1</th><th scope=col>2</th></tr></thead>\n",
       "<tbody>\n",
       "\t<tr><th scope=row>영화를</th><td>1</td><td>0</td></tr>\n",
       "\t<tr><th scope=row>오늘은</th><td>1</td><td>0</td></tr>\n",
       "\t<tr><th scope=row>영화에는</th><td>0</td><td>1</td></tr>\n",
       "\t<tr><th scope=row>팝콘</th><td>0</td><td>1</td></tr>\n",
       "</tbody>\n",
       "</table>\n"
      ],
      "text/latex": [
       "\\begin{tabular}{r|ll}\n",
       "  & 1 & 2\\\\\n",
       "\\hline\n",
       "\t영화를 & 1 & 0\\\\\n",
       "\t오늘은 & 1 & 0\\\\\n",
       "\t영화에는 & 0 & 1\\\\\n",
       "\t팝콘 & 0 & 1\\\\\n",
       "\\end{tabular}\n"
      ],
      "text/markdown": [
       "1. 1\n",
       "2. 1\n",
       "3. 0\n",
       "4. 0\n",
       "5. 0\n",
       "6. 0\n",
       "7. 1\n",
       "8. 1\n",
       "\n",
       "\n"
      ],
      "text/plain": [
       "          Docs\n",
       "Terms      1 2\n",
       "  영화를   1 0\n",
       "  오늘은   1 0\n",
       "  영화에는 0 1\n",
       "  팝콘     0 1"
      ]
     },
     "metadata": {},
     "output_type": "display_data"
    }
   ],
   "source": [
    "texts <- c('오늘은 영화를','영화에는 팝콘')\n",
    "cps <- Corpus(VectorSource(texts))\n",
    "tdm <- TermDocumentMatrix(cps)\n",
    "as.matrix(tdm)\n",
    "# 우리가 원하는 것은 영화 / 오늘 / 팝콘 이렇게 나오기를 원했는데 안된다.\n",
    "# KoNLP 처리가 다르게 된 것으로 판단. "
   ]
  },
  {
   "cell_type": "markdown",
   "metadata": {},
   "source": [
    "### 명사만 꺼내는 함수가 있다. extractNoun()"
   ]
  },
  {
   "cell_type": "code",
   "execution_count": 30,
   "metadata": {
    "collapsed": false
   },
   "outputs": [
    {
     "data": {
      "text/html": [
       "<ol class=list-inline>\n",
       "\t<li>\"오늘\"</li>\n",
       "\t<li>\"영화\"</li>\n",
       "\t<li>\"를\"</li>\n",
       "</ol>\n"
      ],
      "text/latex": [
       "\\begin{enumerate*}\n",
       "\\item \"오늘\"\n",
       "\\item \"영화\"\n",
       "\\item \"를\"\n",
       "\\end{enumerate*}\n"
      ],
      "text/markdown": [
       "1. \"오늘\"\n",
       "2. \"영화\"\n",
       "3. \"를\"\n",
       "\n",
       "\n"
      ],
      "text/plain": [
       "[1] \"오늘\" \"영화\" \"를\"  "
      ]
     },
     "metadata": {},
     "output_type": "display_data"
    }
   ],
   "source": [
    "extractNoun('오늘은 영화를')"
   ]
  },
  {
   "cell_type": "code",
   "execution_count": 31,
   "metadata": {
    "collapsed": true
   },
   "outputs": [],
   "source": [
    "ko.words <- function(doc){\n",
    "  d <- as.character(doc) # doc 를 Character 로 변환 시켜줘야된다. \n",
    "  extractNoun(d)\n",
    "}"
   ]
  },
  {
   "cell_type": "code",
   "execution_count": 32,
   "metadata": {
    "collapsed": true
   },
   "outputs": [],
   "source": [
    "options(mc.cores=1) \n",
    "# 한나눔 형태소 분석기 Java, TM Packages는 병렬처리를 이용. 두개가 같이 돌면 충돌."
   ]
  },
  {
   "cell_type": "code",
   "execution_count": 33,
   "metadata": {
    "collapsed": false
   },
   "outputs": [
    {
     "data": {
      "text/html": [
       "<table>\n",
       "<thead><tr><th></th><th scope=col>1</th><th scope=col>2</th></tr></thead>\n",
       "<tbody>\n",
       "\t<tr><th scope=row>영화를</th><td>1</td><td>0</td></tr>\n",
       "\t<tr><th scope=row>오늘은</th><td>1</td><td>0</td></tr>\n",
       "\t<tr><th scope=row>영화에는</th><td>0</td><td>1</td></tr>\n",
       "\t<tr><th scope=row>팝콘</th><td>0</td><td>1</td></tr>\n",
       "</tbody>\n",
       "</table>\n"
      ],
      "text/latex": [
       "\\begin{tabular}{r|ll}\n",
       "  & 1 & 2\\\\\n",
       "\\hline\n",
       "\t영화를 & 1 & 0\\\\\n",
       "\t오늘은 & 1 & 0\\\\\n",
       "\t영화에는 & 0 & 1\\\\\n",
       "\t팝콘 & 0 & 1\\\\\n",
       "\\end{tabular}\n"
      ],
      "text/markdown": [
       "1. 1\n",
       "2. 1\n",
       "3. 0\n",
       "4. 0\n",
       "5. 0\n",
       "6. 0\n",
       "7. 1\n",
       "8. 1\n",
       "\n",
       "\n"
      ],
      "text/plain": [
       "          Docs\n",
       "Terms      1 2\n",
       "  영화를   1 0\n",
       "  오늘은   1 0\n",
       "  영화에는 0 1\n",
       "  팝콘     0 1"
      ]
     },
     "metadata": {},
     "output_type": "display_data"
    }
   ],
   "source": [
    "tdm <- TermDocumentMatrix(cps, control=list(tokenize=ko.words)) \n",
    "# list로 만들어서 한번에 넘겨주는데 토큰 만드는 것을 ko.words 로\n",
    "as.matrix(tdm) \n",
    "# 결과가 이상하다. 영어의 경우 1자 놈들을 없앤다. \n",
    "# 1,2글자 는 없앤다. 왜냐 없기 때문에 한글은 대부분이 1~2글자"
   ]
  },
  {
   "cell_type": "code",
   "execution_count": 34,
   "metadata": {
    "collapsed": false
   },
   "outputs": [
    {
     "data": {
      "text/html": [
       "<table>\n",
       "<thead><tr><th></th><th scope=col>1</th><th scope=col>2</th></tr></thead>\n",
       "<tbody>\n",
       "\t<tr><th scope=row>영화를</th><td>1</td><td>0</td></tr>\n",
       "\t<tr><th scope=row>오늘은</th><td>1</td><td>0</td></tr>\n",
       "\t<tr><th scope=row>영화에는</th><td>0</td><td>1</td></tr>\n",
       "\t<tr><th scope=row>팝콘</th><td>0</td><td>1</td></tr>\n",
       "</tbody>\n",
       "</table>\n"
      ],
      "text/latex": [
       "\\begin{tabular}{r|ll}\n",
       "  & 1 & 2\\\\\n",
       "\\hline\n",
       "\t영화를 & 1 & 0\\\\\n",
       "\t오늘은 & 1 & 0\\\\\n",
       "\t영화에는 & 0 & 1\\\\\n",
       "\t팝콘 & 0 & 1\\\\\n",
       "\\end{tabular}\n"
      ],
      "text/markdown": [
       "1. 1\n",
       "2. 1\n",
       "3. 0\n",
       "4. 0\n",
       "5. 0\n",
       "6. 0\n",
       "7. 1\n",
       "8. 1\n",
       "\n",
       "\n"
      ],
      "text/plain": [
       "          Docs\n",
       "Terms      1 2\n",
       "  영화를   1 0\n",
       "  오늘은   1 0\n",
       "  영화에는 0 1\n",
       "  팝콘     0 1"
      ]
     },
     "metadata": {},
     "output_type": "display_data"
    }
   ],
   "source": [
    "tdm <- TermDocumentMatrix(cps, control=list(tokenize=ko.words, wordLengths=c(1,Inf)))  # 단어길이 제약 풀기.\n",
    "as.matrix(tdm)  # 팝콘을 추가해야될듯하다."
   ]
  },
  {
   "cell_type": "markdown",
   "metadata": {},
   "source": [
    "### 앞의 내용과 위의 내용 합쳐서 실행"
   ]
  },
  {
   "cell_type": "code",
   "execution_count": 35,
   "metadata": {
    "collapsed": true
   },
   "outputs": [],
   "source": [
    "options(mc.cores=1)"
   ]
  },
  {
   "cell_type": "code",
   "execution_count": 36,
   "metadata": {
    "collapsed": true
   },
   "outputs": [],
   "source": [
    "all.reviews <- read.csv(\"reviews.csv\",stringsAsFactors=F)$x"
   ]
  },
  {
   "cell_type": "code",
   "execution_count": 37,
   "metadata": {
    "collapsed": false
   },
   "outputs": [
    {
     "data": {
      "text/html": [
       "<ol class=list-inline>\n",
       "\t<li>1963</li>\n",
       "\t<li>1941</li>\n",
       "</ol>\n"
      ],
      "text/latex": [
       "\\begin{enumerate*}\n",
       "\\item 1963\n",
       "\\item 1941\n",
       "\\end{enumerate*}\n"
      ],
      "text/markdown": [
       "1. 1963\n",
       "2. 1941\n",
       "\n",
       "\n"
      ],
      "text/plain": [
       "[1] 1963 1941"
      ]
     },
     "metadata": {},
     "output_type": "display_data"
    }
   ],
   "source": [
    "review.corpus <- Corpus(VectorSource(all.reviews))\n",
    "tdm <- TermDocumentMatrix(review.corpus, control = list(tokenize=ko.words,wordLengths=c(1,5)))\n",
    "tdm.matrix <- as.matrix(tdm)\n",
    "dim(tdm.matrix)"
   ]
  },
  {
   "cell_type": "code",
   "execution_count": 38,
   "metadata": {
    "collapsed": false
   },
   "outputs": [
    {
     "data": {
      "text/html": [
       "<ol class=list-inline>\n",
       "\t<li>\"dc의\"</li>\n",
       "\t<li>\"넘을\"</li>\n",
       "\t<li>\"다크\"</li>\n",
       "\t<li>\"수\"</li>\n",
       "\t<li>\"없다\"</li>\n",
       "\t<li>\"살짝\"</li>\n",
       "\t<li>\"마블\"</li>\n",
       "\t<li>\"역시\"</li>\n",
       "\t<li>\"여러\"</li>\n",
       "\t<li>\"봤음\"</li>\n",
       "</ol>\n"
      ],
      "text/latex": [
       "\\begin{enumerate*}\n",
       "\\item \"dc의\"\n",
       "\\item \"넘을\"\n",
       "\\item \"다크\"\n",
       "\\item \"수\"\n",
       "\\item \"없다\"\n",
       "\\item \"살짝\"\n",
       "\\item \"마블\"\n",
       "\\item \"역시\"\n",
       "\\item \"여러\"\n",
       "\\item \"봤음\"\n",
       "\\end{enumerate*}\n"
      ],
      "text/markdown": [
       "1. \"dc의\"\n",
       "2. \"넘을\"\n",
       "3. \"다크\"\n",
       "4. \"수\"\n",
       "5. \"없다\"\n",
       "6. \"살짝\"\n",
       "7. \"마블\"\n",
       "8. \"역시\"\n",
       "9. \"여러\"\n",
       "10. \"봤음\"\n",
       "\n",
       "\n"
      ],
      "text/plain": [
       " [1] \"dc의\" \"넘을\" \"다크\" \"수\"   \"없다\" \"살짝\" \"마블\" \"역시\" \"여러\" \"봤음\""
      ]
     },
     "metadata": {},
     "output_type": "display_data"
    }
   ],
   "source": [
    "row.names(tdm.matrix)[1:10]"
   ]
  },
  {
   "cell_type": "markdown",
   "metadata": {},
   "source": [
    "### 숫자 지우기\n",
    " - removeNumbers=T"
   ]
  },
  {
   "cell_type": "code",
   "execution_count": 39,
   "metadata": {
    "collapsed": true
   },
   "outputs": [],
   "source": [
    "tdm <- TermDocumentMatrix(review.corpus, control = list(tokenize=ko.words,wordLengths=c(1,5), removeNumbers=T)) \n",
    "tdm.matrix <- as.matrix(tdm)"
   ]
  },
  {
   "cell_type": "code",
   "execution_count": 40,
   "metadata": {
    "collapsed": false
   },
   "outputs": [
    {
     "data": {
      "text/html": [
       "<ol class=list-inline>\n",
       "\t<li>1890</li>\n",
       "\t<li>1941</li>\n",
       "</ol>\n"
      ],
      "text/latex": [
       "\\begin{enumerate*}\n",
       "\\item 1890\n",
       "\\item 1941\n",
       "\\end{enumerate*}\n"
      ],
      "text/markdown": [
       "1. 1890\n",
       "2. 1941\n",
       "\n",
       "\n"
      ],
      "text/plain": [
       "[1] 1890 1941"
      ]
     },
     "metadata": {},
     "output_type": "display_data"
    }
   ],
   "source": [
    "dim(tdm.matrix)"
   ]
  },
  {
   "cell_type": "code",
   "execution_count": 41,
   "metadata": {
    "collapsed": false
   },
   "outputs": [
    {
     "data": {
      "text/html": [
       "<ol class=list-inline>\n",
       "\t<li>\"봤음\"</li>\n",
       "\t<li>\"그간\"</li>\n",
       "\t<li>\"극적\"</li>\n",
       "\t<li>\"단일\"</li>\n",
       "\t<li>\"이\"</li>\n",
       "\t<li>\"이뤄\"</li>\n",
       "\t<li>\"톰\"</li>\n",
       "\t<li>\"특유\"</li>\n",
       "\t<li>\"노잼\"</li>\n",
       "\t<li>\"면상\"</li>\n",
       "\t<li>\"존나\"</li>\n",
       "</ol>\n"
      ],
      "text/latex": [
       "\\begin{enumerate*}\n",
       "\\item \"봤음\"\n",
       "\\item \"그간\"\n",
       "\\item \"극적\"\n",
       "\\item \"단일\"\n",
       "\\item \"이\"\n",
       "\\item \"이뤄\"\n",
       "\\item \"톰\"\n",
       "\\item \"특유\"\n",
       "\\item \"노잼\"\n",
       "\\item \"면상\"\n",
       "\\item \"존나\"\n",
       "\\end{enumerate*}\n"
      ],
      "text/markdown": [
       "1. \"봤음\"\n",
       "2. \"그간\"\n",
       "3. \"극적\"\n",
       "4. \"단일\"\n",
       "5. \"이\"\n",
       "6. \"이뤄\"\n",
       "7. \"톰\"\n",
       "8. \"특유\"\n",
       "9. \"노잼\"\n",
       "10. \"면상\"\n",
       "11. \"존나\"\n",
       "\n",
       "\n"
      ],
      "text/plain": [
       " [1] \"봤음\" \"그간\" \"극적\" \"단일\" \"이\"   \"이뤄\" \"톰\"   \"특유\" \"노잼\" \"면상\"\n",
       "[11] \"존나\""
      ]
     },
     "metadata": {},
     "output_type": "display_data"
    }
   ],
   "source": [
    "rownames(tdm.matrix)[10:20]"
   ]
  },
  {
   "cell_type": "markdown",
   "metadata": {},
   "source": [
    "### 크롤링 데이터 명/형용사 가지고 오기. "
   ]
  },
  {
   "cell_type": "code",
   "execution_count": 42,
   "metadata": {
    "collapsed": true
   },
   "outputs": [],
   "source": [
    "ko.words2 <- function(doc){\n",
    "  d <- as.character(doc)\n",
    "  pos <- paste(SimplePos09(d))\n",
    "  extracted <- str_match(pos, '([가-힣]+)/[NP]')\n",
    "  keyword <- extracted[,2]\n",
    "  return(keyword[!is.na(keyword)])\n",
    "}"
   ]
  },
  {
   "cell_type": "code",
   "execution_count": 43,
   "metadata": {
    "collapsed": false
   },
   "outputs": [
    {
     "data": {
      "text/html": [
       "<ol class=list-inline>\n",
       "\t<li>1890</li>\n",
       "\t<li>1941</li>\n",
       "</ol>\n"
      ],
      "text/latex": [
       "\\begin{enumerate*}\n",
       "\\item 1890\n",
       "\\item 1941\n",
       "\\end{enumerate*}\n"
      ],
      "text/markdown": [
       "1. 1890\n",
       "2. 1941\n",
       "\n",
       "\n"
      ],
      "text/plain": [
       "[1] 1890 1941"
      ]
     },
     "metadata": {},
     "output_type": "display_data"
    }
   ],
   "source": [
    "options(mc.cores=1)\n",
    "tdm <- TermDocumentMatrix(review.corpus, control = list(tokenize=ko.words2,wordLengths=c(1,5), removeNumbers=T)) \n",
    "tdm.matrix <- as.matrix(tdm)\n",
    "dim(tdm.matrix)"
   ]
  },
  {
   "cell_type": "code",
   "execution_count": 44,
   "metadata": {
    "collapsed": false
   },
   "outputs": [
    {
     "data": {
      "text/html": [
       "<ol class=list-inline>\n",
       "\t<li>\"dc의\"</li>\n",
       "\t<li>\"넘을\"</li>\n",
       "\t<li>\"다크\"</li>\n",
       "\t<li>\"수\"</li>\n",
       "\t<li>\"없다\"</li>\n",
       "\t<li>\"살짝\"</li>\n",
       "\t<li>\"마블\"</li>\n",
       "\t<li>\"역시\"</li>\n",
       "\t<li>\"여러\"</li>\n",
       "\t<li>\"봤음\"</li>\n",
       "\t<li>\"그간\"</li>\n",
       "\t<li>\"극적\"</li>\n",
       "\t<li>\"단일\"</li>\n",
       "\t<li>\"이\"</li>\n",
       "\t<li>\"이뤄\"</li>\n",
       "\t<li>\"톰\"</li>\n",
       "\t<li>\"특유\"</li>\n",
       "\t<li>\"노잼\"</li>\n",
       "\t<li>\"면상\"</li>\n",
       "\t<li>\"존나\"</li>\n",
       "</ol>\n"
      ],
      "text/latex": [
       "\\begin{enumerate*}\n",
       "\\item \"dc의\"\n",
       "\\item \"넘을\"\n",
       "\\item \"다크\"\n",
       "\\item \"수\"\n",
       "\\item \"없다\"\n",
       "\\item \"살짝\"\n",
       "\\item \"마블\"\n",
       "\\item \"역시\"\n",
       "\\item \"여러\"\n",
       "\\item \"봤음\"\n",
       "\\item \"그간\"\n",
       "\\item \"극적\"\n",
       "\\item \"단일\"\n",
       "\\item \"이\"\n",
       "\\item \"이뤄\"\n",
       "\\item \"톰\"\n",
       "\\item \"특유\"\n",
       "\\item \"노잼\"\n",
       "\\item \"면상\"\n",
       "\\item \"존나\"\n",
       "\\end{enumerate*}\n"
      ],
      "text/markdown": [
       "1. \"dc의\"\n",
       "2. \"넘을\"\n",
       "3. \"다크\"\n",
       "4. \"수\"\n",
       "5. \"없다\"\n",
       "6. \"살짝\"\n",
       "7. \"마블\"\n",
       "8. \"역시\"\n",
       "9. \"여러\"\n",
       "10. \"봤음\"\n",
       "11. \"그간\"\n",
       "12. \"극적\"\n",
       "13. \"단일\"\n",
       "14. \"이\"\n",
       "15. \"이뤄\"\n",
       "16. \"톰\"\n",
       "17. \"특유\"\n",
       "18. \"노잼\"\n",
       "19. \"면상\"\n",
       "20. \"존나\"\n",
       "\n",
       "\n"
      ],
      "text/plain": [
       " [1] \"dc의\" \"넘을\" \"다크\" \"수\"   \"없다\" \"살짝\" \"마블\" \"역시\" \"여러\" \"봤음\"\n",
       "[11] \"그간\" \"극적\" \"단일\" \"이\"   \"이뤄\" \"톰\"   \"특유\" \"노잼\" \"면상\" \"존나\""
      ]
     },
     "metadata": {},
     "output_type": "display_data"
    }
   ],
   "source": [
    "rownames(tdm.matrix)[1:20]"
   ]
  },
  {
   "cell_type": "markdown",
   "metadata": {},
   "source": [
    "# StopWords 제거하기.\n",
    " - 단어를 분석에서 제외하는 방법. "
   ]
  },
  {
   "cell_type": "code",
   "execution_count": 45,
   "metadata": {
    "collapsed": true
   },
   "outputs": [],
   "source": [
    "library(tm)"
   ]
  },
  {
   "cell_type": "code",
   "execution_count": 46,
   "metadata": {
    "collapsed": true
   },
   "outputs": [],
   "source": [
    "doc <- c('This is a banana.', 'That is an apple.')"
   ]
  },
  {
   "cell_type": "code",
   "execution_count": 47,
   "metadata": {
    "collapsed": true
   },
   "outputs": [],
   "source": [
    "corpus <- Corpus(VectorSource(doc))"
   ]
  },
  {
   "cell_type": "code",
   "execution_count": 48,
   "metadata": {
    "collapsed": false
   },
   "outputs": [
    {
     "data": {
      "text/plain": [
       "<<TermDocumentMatrix (terms: 4, documents: 2)>>\n",
       "Non-/sparse entries: 4/4\n",
       "Sparsity           : 50%\n",
       "Maximal term length: 6\n",
       "Weighting          : term frequency (tf)"
      ]
     },
     "metadata": {},
     "output_type": "display_data"
    }
   ],
   "source": [
    "TermDocumentMatrix(corpus)"
   ]
  },
  {
   "cell_type": "code",
   "execution_count": 49,
   "metadata": {
    "collapsed": false
   },
   "outputs": [
    {
     "data": {
      "text/html": [
       "<table>\n",
       "<thead><tr><th></th><th scope=col>1</th><th scope=col>2</th></tr></thead>\n",
       "<tbody>\n",
       "\t<tr><th scope=row>banana</th><td>1</td><td>0</td></tr>\n",
       "\t<tr><th scope=row>this</th><td>1</td><td>0</td></tr>\n",
       "\t<tr><th scope=row>apple</th><td>0</td><td>1</td></tr>\n",
       "\t<tr><th scope=row>that</th><td>0</td><td>1</td></tr>\n",
       "</tbody>\n",
       "</table>\n"
      ],
      "text/latex": [
       "\\begin{tabular}{r|ll}\n",
       "  & 1 & 2\\\\\n",
       "\\hline\n",
       "\tbanana & 1 & 0\\\\\n",
       "\tthis & 1 & 0\\\\\n",
       "\tapple & 0 & 1\\\\\n",
       "\tthat & 0 & 1\\\\\n",
       "\\end{tabular}\n"
      ],
      "text/markdown": [
       "1. 1\n",
       "2. 1\n",
       "3. 0\n",
       "4. 0\n",
       "5. 0\n",
       "6. 0\n",
       "7. 1\n",
       "8. 1\n",
       "\n",
       "\n"
      ],
      "text/plain": [
       "        Docs\n",
       "Terms    1 2\n",
       "  banana 1 0\n",
       "  this   1 0\n",
       "  apple  0 1\n",
       "  that   0 1"
      ]
     },
     "metadata": {},
     "output_type": "display_data"
    }
   ],
   "source": [
    "tdm <- TermDocumentMatrix(corpus) # that, this가 대명사.\n",
    "as.matrix(tdm)"
   ]
  },
  {
   "cell_type": "code",
   "execution_count": 50,
   "metadata": {
    "collapsed": false
   },
   "outputs": [
    {
     "data": {
      "text/html": [
       "<table>\n",
       "<thead><tr><th></th><th scope=col>1</th><th scope=col>2</th></tr></thead>\n",
       "<tbody>\n",
       "\t<tr><th scope=row>banana</th><td>1</td><td>0</td></tr>\n",
       "\t<tr><th scope=row>this</th><td>1</td><td>0</td></tr>\n",
       "\t<tr><th scope=row>apple</th><td>0</td><td>1</td></tr>\n",
       "\t<tr><th scope=row>that</th><td>0</td><td>1</td></tr>\n",
       "</tbody>\n",
       "</table>\n"
      ],
      "text/latex": [
       "\\begin{tabular}{r|ll}\n",
       "  & 1 & 2\\\\\n",
       "\\hline\n",
       "\tbanana & 1 & 0\\\\\n",
       "\tthis & 1 & 0\\\\\n",
       "\tapple & 0 & 1\\\\\n",
       "\tthat & 0 & 1\\\\\n",
       "\\end{tabular}\n"
      ],
      "text/markdown": [
       "1. 1\n",
       "2. 1\n",
       "3. 0\n",
       "4. 0\n",
       "5. 0\n",
       "6. 0\n",
       "7. 1\n",
       "8. 1\n",
       "\n",
       "\n"
      ],
      "text/plain": [
       "        Docs\n",
       "Terms    1 2\n",
       "  banana 1 0\n",
       "  this   1 0\n",
       "  apple  0 1\n",
       "  that   0 1"
      ]
     },
     "metadata": {},
     "output_type": "display_data"
    }
   ],
   "source": [
    "tdm <- TermDocumentMatrix(corpus, control = list(removePunctuation = T)) # Punctuation (.과 같은 특수문자 제거.)\n",
    "as.matrix(tdm)"
   ]
  },
  {
   "cell_type": "code",
   "execution_count": 51,
   "metadata": {
    "collapsed": false
   },
   "outputs": [
    {
     "data": {
      "text/html": [
       "<table>\n",
       "<thead><tr><th></th><th scope=col>1</th><th scope=col>2</th></tr></thead>\n",
       "<tbody>\n",
       "\t<tr><th scope=row>a</th><td>1</td><td>0</td></tr>\n",
       "\t<tr><th scope=row>banana</th><td>1</td><td>0</td></tr>\n",
       "\t<tr><th scope=row>is</th><td>1</td><td>1</td></tr>\n",
       "\t<tr><th scope=row>this</th><td>1</td><td>0</td></tr>\n",
       "\t<tr><th scope=row>an</th><td>0</td><td>1</td></tr>\n",
       "\t<tr><th scope=row>apple</th><td>0</td><td>1</td></tr>\n",
       "\t<tr><th scope=row>that</th><td>0</td><td>1</td></tr>\n",
       "</tbody>\n",
       "</table>\n"
      ],
      "text/latex": [
       "\\begin{tabular}{r|ll}\n",
       "  & 1 & 2\\\\\n",
       "\\hline\n",
       "\ta & 1 & 0\\\\\n",
       "\tbanana & 1 & 0\\\\\n",
       "\tis & 1 & 1\\\\\n",
       "\tthis & 1 & 0\\\\\n",
       "\tan & 0 & 1\\\\\n",
       "\tapple & 0 & 1\\\\\n",
       "\tthat & 0 & 1\\\\\n",
       "\\end{tabular}\n"
      ],
      "text/markdown": [
       "1. 1\n",
       "2. 1\n",
       "3. 1\n",
       "4. 1\n",
       "5. 0\n",
       "6. 0\n",
       "7. 0\n",
       "8. 0\n",
       "9. 0\n",
       "10. 1\n",
       "11. 0\n",
       "12. 1\n",
       "13. 1\n",
       "14. 1\n",
       "\n",
       "\n"
      ],
      "text/plain": [
       "        Docs\n",
       "Terms    1 2\n",
       "  a      1 0\n",
       "  banana 1 0\n",
       "  is     1 1\n",
       "  this   1 0\n",
       "  an     0 1\n",
       "  apple  0 1\n",
       "  that   0 1"
      ]
     },
     "metadata": {},
     "output_type": "display_data"
    }
   ],
   "source": [
    "tdm <- TermDocumentMatrix(corpus, control = list(removePunctuation = T, wordLengths = c(1,Inf)))  # a, an , is, that, this 제거를 하고싶다.\n",
    "as.matrix(tdm)"
   ]
  },
  {
   "cell_type": "markdown",
   "metadata": {},
   "source": [
    " - Stopwords를 사용하면 다 없어진다."
   ]
  },
  {
   "cell_type": "code",
   "execution_count": 52,
   "metadata": {
    "collapsed": false
   },
   "outputs": [
    {
     "data": {
      "text/html": [
       "<table>\n",
       "<thead><tr><th></th><th scope=col>1</th><th scope=col>2</th></tr></thead>\n",
       "<tbody>\n",
       "\t<tr><th scope=row>banana</th><td>1</td><td>0</td></tr>\n",
       "\t<tr><th scope=row>apple</th><td>0</td><td>1</td></tr>\n",
       "</tbody>\n",
       "</table>\n"
      ],
      "text/latex": [
       "\\begin{tabular}{r|ll}\n",
       "  & 1 & 2\\\\\n",
       "\\hline\n",
       "\tbanana & 1 & 0\\\\\n",
       "\tapple & 0 & 1\\\\\n",
       "\\end{tabular}\n"
      ],
      "text/markdown": [
       "1. 1\n",
       "2. 0\n",
       "3. 0\n",
       "4. 1\n",
       "\n",
       "\n"
      ],
      "text/plain": [
       "        Docs\n",
       "Terms    1 2\n",
       "  banana 1 0\n",
       "  apple  0 1"
      ]
     },
     "metadata": {},
     "output_type": "display_data"
    }
   ],
   "source": [
    "tdm <- TermDocumentMatrix(corpus, control = list(removePunctuation = T, wordLengths = c(1,Inf), stopwords = T)) # 영어를 기준으로 제거\n",
    "as.matrix(tdm)"
   ]
  },
  {
   "cell_type": "code",
   "execution_count": 53,
   "metadata": {
    "collapsed": false
   },
   "outputs": [
    {
     "data": {
      "text/html": [
       "<ol class=list-inline>\n",
       "\t<li>\"i\"</li>\n",
       "\t<li>\"me\"</li>\n",
       "\t<li>\"my\"</li>\n",
       "\t<li>\"myself\"</li>\n",
       "\t<li>\"we\"</li>\n",
       "\t<li>\"our\"</li>\n",
       "\t<li>\"ours\"</li>\n",
       "\t<li>\"ourselves\"</li>\n",
       "\t<li>\"you\"</li>\n",
       "\t<li>\"your\"</li>\n",
       "\t<li>\"yours\"</li>\n",
       "\t<li>\"yourself\"</li>\n",
       "\t<li>\"yourselves\"</li>\n",
       "\t<li>\"he\"</li>\n",
       "\t<li>\"him\"</li>\n",
       "\t<li>\"his\"</li>\n",
       "\t<li>\"himself\"</li>\n",
       "\t<li>\"she\"</li>\n",
       "\t<li>\"her\"</li>\n",
       "\t<li>\"hers\"</li>\n",
       "\t<li>\"herself\"</li>\n",
       "\t<li>\"it\"</li>\n",
       "\t<li>\"its\"</li>\n",
       "\t<li>\"itself\"</li>\n",
       "\t<li>\"they\"</li>\n",
       "\t<li>\"them\"</li>\n",
       "\t<li>\"their\"</li>\n",
       "\t<li>\"theirs\"</li>\n",
       "\t<li>\"themselves\"</li>\n",
       "\t<li>\"what\"</li>\n",
       "\t<li>\"which\"</li>\n",
       "\t<li>\"who\"</li>\n",
       "\t<li>\"whom\"</li>\n",
       "\t<li>\"this\"</li>\n",
       "\t<li>\"that\"</li>\n",
       "\t<li>\"these\"</li>\n",
       "\t<li>\"those\"</li>\n",
       "\t<li>\"am\"</li>\n",
       "\t<li>\"is\"</li>\n",
       "\t<li>\"are\"</li>\n",
       "\t<li>\"was\"</li>\n",
       "\t<li>\"were\"</li>\n",
       "\t<li>\"be\"</li>\n",
       "\t<li>\"been\"</li>\n",
       "\t<li>\"being\"</li>\n",
       "\t<li>\"have\"</li>\n",
       "\t<li>\"has\"</li>\n",
       "\t<li>\"had\"</li>\n",
       "\t<li>\"having\"</li>\n",
       "\t<li>\"do\"</li>\n",
       "\t<li>\"does\"</li>\n",
       "\t<li>\"did\"</li>\n",
       "\t<li>\"doing\"</li>\n",
       "\t<li>\"would\"</li>\n",
       "\t<li>\"should\"</li>\n",
       "\t<li>\"could\"</li>\n",
       "\t<li>\"ought\"</li>\n",
       "\t<li>\"i'm\"</li>\n",
       "\t<li>\"you're\"</li>\n",
       "\t<li>\"he's\"</li>\n",
       "\t<li>\"she's\"</li>\n",
       "\t<li>\"it's\"</li>\n",
       "\t<li>\"we're\"</li>\n",
       "\t<li>\"they're\"</li>\n",
       "\t<li>\"i've\"</li>\n",
       "\t<li>\"you've\"</li>\n",
       "\t<li>\"we've\"</li>\n",
       "\t<li>\"they've\"</li>\n",
       "\t<li>\"i'd\"</li>\n",
       "\t<li>\"you'd\"</li>\n",
       "\t<li>\"he'd\"</li>\n",
       "\t<li>\"she'd\"</li>\n",
       "\t<li>\"we'd\"</li>\n",
       "\t<li>\"they'd\"</li>\n",
       "\t<li>\"i'll\"</li>\n",
       "\t<li>\"you'll\"</li>\n",
       "\t<li>\"he'll\"</li>\n",
       "\t<li>\"she'll\"</li>\n",
       "\t<li>\"we'll\"</li>\n",
       "\t<li>\"they'll\"</li>\n",
       "\t<li>\"isn't\"</li>\n",
       "\t<li>\"aren't\"</li>\n",
       "\t<li>\"wasn't\"</li>\n",
       "\t<li>\"weren't\"</li>\n",
       "\t<li>\"hasn't\"</li>\n",
       "\t<li>\"haven't\"</li>\n",
       "\t<li>\"hadn't\"</li>\n",
       "\t<li>\"doesn't\"</li>\n",
       "\t<li>\"don't\"</li>\n",
       "\t<li>\"didn't\"</li>\n",
       "\t<li>\"won't\"</li>\n",
       "\t<li>\"wouldn't\"</li>\n",
       "\t<li>\"shan't\"</li>\n",
       "\t<li>\"shouldn't\"</li>\n",
       "\t<li>\"can't\"</li>\n",
       "\t<li>\"cannot\"</li>\n",
       "\t<li>\"couldn't\"</li>\n",
       "\t<li>\"mustn't\"</li>\n",
       "\t<li>\"let's\"</li>\n",
       "\t<li>\"that's\"</li>\n",
       "\t<li>\"who's\"</li>\n",
       "\t<li>\"what's\"</li>\n",
       "\t<li>\"here's\"</li>\n",
       "\t<li>\"there's\"</li>\n",
       "\t<li>\"when's\"</li>\n",
       "\t<li>\"where's\"</li>\n",
       "\t<li>\"why's\"</li>\n",
       "\t<li>\"how's\"</li>\n",
       "\t<li>\"a\"</li>\n",
       "\t<li>\"an\"</li>\n",
       "\t<li>\"the\"</li>\n",
       "\t<li>\"and\"</li>\n",
       "\t<li>\"but\"</li>\n",
       "\t<li>\"if\"</li>\n",
       "\t<li>\"or\"</li>\n",
       "\t<li>\"because\"</li>\n",
       "\t<li>\"as\"</li>\n",
       "\t<li>\"until\"</li>\n",
       "\t<li>\"while\"</li>\n",
       "\t<li>\"of\"</li>\n",
       "\t<li>\"at\"</li>\n",
       "\t<li>\"by\"</li>\n",
       "\t<li>\"for\"</li>\n",
       "\t<li>\"with\"</li>\n",
       "\t<li>\"about\"</li>\n",
       "\t<li>\"against\"</li>\n",
       "\t<li>\"between\"</li>\n",
       "\t<li>\"into\"</li>\n",
       "\t<li>\"through\"</li>\n",
       "\t<li>\"during\"</li>\n",
       "\t<li>\"before\"</li>\n",
       "\t<li>\"after\"</li>\n",
       "\t<li>\"above\"</li>\n",
       "\t<li>\"below\"</li>\n",
       "\t<li>\"to\"</li>\n",
       "\t<li>\"from\"</li>\n",
       "\t<li>\"up\"</li>\n",
       "\t<li>\"down\"</li>\n",
       "\t<li>\"in\"</li>\n",
       "\t<li>\"out\"</li>\n",
       "\t<li>\"on\"</li>\n",
       "\t<li>\"off\"</li>\n",
       "\t<li>\"over\"</li>\n",
       "\t<li>\"under\"</li>\n",
       "\t<li>\"again\"</li>\n",
       "\t<li>\"further\"</li>\n",
       "\t<li>\"then\"</li>\n",
       "\t<li>\"once\"</li>\n",
       "\t<li>\"here\"</li>\n",
       "\t<li>\"there\"</li>\n",
       "\t<li>\"when\"</li>\n",
       "\t<li>\"where\"</li>\n",
       "\t<li>\"why\"</li>\n",
       "\t<li>\"how\"</li>\n",
       "\t<li>\"all\"</li>\n",
       "\t<li>\"any\"</li>\n",
       "\t<li>\"both\"</li>\n",
       "\t<li>\"each\"</li>\n",
       "\t<li>\"few\"</li>\n",
       "\t<li>\"more\"</li>\n",
       "\t<li>\"most\"</li>\n",
       "\t<li>\"other\"</li>\n",
       "\t<li>\"some\"</li>\n",
       "\t<li>\"such\"</li>\n",
       "\t<li>\"no\"</li>\n",
       "\t<li>\"nor\"</li>\n",
       "\t<li>\"not\"</li>\n",
       "\t<li>\"only\"</li>\n",
       "\t<li>\"own\"</li>\n",
       "\t<li>\"same\"</li>\n",
       "\t<li>\"so\"</li>\n",
       "\t<li>\"than\"</li>\n",
       "\t<li>\"too\"</li>\n",
       "\t<li>\"very\"</li>\n",
       "</ol>\n"
      ],
      "text/latex": [
       "\\begin{enumerate*}\n",
       "\\item \"i\"\n",
       "\\item \"me\"\n",
       "\\item \"my\"\n",
       "\\item \"myself\"\n",
       "\\item \"we\"\n",
       "\\item \"our\"\n",
       "\\item \"ours\"\n",
       "\\item \"ourselves\"\n",
       "\\item \"you\"\n",
       "\\item \"your\"\n",
       "\\item \"yours\"\n",
       "\\item \"yourself\"\n",
       "\\item \"yourselves\"\n",
       "\\item \"he\"\n",
       "\\item \"him\"\n",
       "\\item \"his\"\n",
       "\\item \"himself\"\n",
       "\\item \"she\"\n",
       "\\item \"her\"\n",
       "\\item \"hers\"\n",
       "\\item \"herself\"\n",
       "\\item \"it\"\n",
       "\\item \"its\"\n",
       "\\item \"itself\"\n",
       "\\item \"they\"\n",
       "\\item \"them\"\n",
       "\\item \"their\"\n",
       "\\item \"theirs\"\n",
       "\\item \"themselves\"\n",
       "\\item \"what\"\n",
       "\\item \"which\"\n",
       "\\item \"who\"\n",
       "\\item \"whom\"\n",
       "\\item \"this\"\n",
       "\\item \"that\"\n",
       "\\item \"these\"\n",
       "\\item \"those\"\n",
       "\\item \"am\"\n",
       "\\item \"is\"\n",
       "\\item \"are\"\n",
       "\\item \"was\"\n",
       "\\item \"were\"\n",
       "\\item \"be\"\n",
       "\\item \"been\"\n",
       "\\item \"being\"\n",
       "\\item \"have\"\n",
       "\\item \"has\"\n",
       "\\item \"had\"\n",
       "\\item \"having\"\n",
       "\\item \"do\"\n",
       "\\item \"does\"\n",
       "\\item \"did\"\n",
       "\\item \"doing\"\n",
       "\\item \"would\"\n",
       "\\item \"should\"\n",
       "\\item \"could\"\n",
       "\\item \"ought\"\n",
       "\\item \"i'm\"\n",
       "\\item \"you're\"\n",
       "\\item \"he's\"\n",
       "\\item \"she's\"\n",
       "\\item \"it's\"\n",
       "\\item \"we're\"\n",
       "\\item \"they're\"\n",
       "\\item \"i've\"\n",
       "\\item \"you've\"\n",
       "\\item \"we've\"\n",
       "\\item \"they've\"\n",
       "\\item \"i'd\"\n",
       "\\item \"you'd\"\n",
       "\\item \"he'd\"\n",
       "\\item \"she'd\"\n",
       "\\item \"we'd\"\n",
       "\\item \"they'd\"\n",
       "\\item \"i'll\"\n",
       "\\item \"you'll\"\n",
       "\\item \"he'll\"\n",
       "\\item \"she'll\"\n",
       "\\item \"we'll\"\n",
       "\\item \"they'll\"\n",
       "\\item \"isn't\"\n",
       "\\item \"aren't\"\n",
       "\\item \"wasn't\"\n",
       "\\item \"weren't\"\n",
       "\\item \"hasn't\"\n",
       "\\item \"haven't\"\n",
       "\\item \"hadn't\"\n",
       "\\item \"doesn't\"\n",
       "\\item \"don't\"\n",
       "\\item \"didn't\"\n",
       "\\item \"won't\"\n",
       "\\item \"wouldn't\"\n",
       "\\item \"shan't\"\n",
       "\\item \"shouldn't\"\n",
       "\\item \"can't\"\n",
       "\\item \"cannot\"\n",
       "\\item \"couldn't\"\n",
       "\\item \"mustn't\"\n",
       "\\item \"let's\"\n",
       "\\item \"that's\"\n",
       "\\item \"who's\"\n",
       "\\item \"what's\"\n",
       "\\item \"here's\"\n",
       "\\item \"there's\"\n",
       "\\item \"when's\"\n",
       "\\item \"where's\"\n",
       "\\item \"why's\"\n",
       "\\item \"how's\"\n",
       "\\item \"a\"\n",
       "\\item \"an\"\n",
       "\\item \"the\"\n",
       "\\item \"and\"\n",
       "\\item \"but\"\n",
       "\\item \"if\"\n",
       "\\item \"or\"\n",
       "\\item \"because\"\n",
       "\\item \"as\"\n",
       "\\item \"until\"\n",
       "\\item \"while\"\n",
       "\\item \"of\"\n",
       "\\item \"at\"\n",
       "\\item \"by\"\n",
       "\\item \"for\"\n",
       "\\item \"with\"\n",
       "\\item \"about\"\n",
       "\\item \"against\"\n",
       "\\item \"between\"\n",
       "\\item \"into\"\n",
       "\\item \"through\"\n",
       "\\item \"during\"\n",
       "\\item \"before\"\n",
       "\\item \"after\"\n",
       "\\item \"above\"\n",
       "\\item \"below\"\n",
       "\\item \"to\"\n",
       "\\item \"from\"\n",
       "\\item \"up\"\n",
       "\\item \"down\"\n",
       "\\item \"in\"\n",
       "\\item \"out\"\n",
       "\\item \"on\"\n",
       "\\item \"off\"\n",
       "\\item \"over\"\n",
       "\\item \"under\"\n",
       "\\item \"again\"\n",
       "\\item \"further\"\n",
       "\\item \"then\"\n",
       "\\item \"once\"\n",
       "\\item \"here\"\n",
       "\\item \"there\"\n",
       "\\item \"when\"\n",
       "\\item \"where\"\n",
       "\\item \"why\"\n",
       "\\item \"how\"\n",
       "\\item \"all\"\n",
       "\\item \"any\"\n",
       "\\item \"both\"\n",
       "\\item \"each\"\n",
       "\\item \"few\"\n",
       "\\item \"more\"\n",
       "\\item \"most\"\n",
       "\\item \"other\"\n",
       "\\item \"some\"\n",
       "\\item \"such\"\n",
       "\\item \"no\"\n",
       "\\item \"nor\"\n",
       "\\item \"not\"\n",
       "\\item \"only\"\n",
       "\\item \"own\"\n",
       "\\item \"same\"\n",
       "\\item \"so\"\n",
       "\\item \"than\"\n",
       "\\item \"too\"\n",
       "\\item \"very\"\n",
       "\\end{enumerate*}\n"
      ],
      "text/markdown": [
       "1. \"i\"\n",
       "2. \"me\"\n",
       "3. \"my\"\n",
       "4. \"myself\"\n",
       "5. \"we\"\n",
       "6. \"our\"\n",
       "7. \"ours\"\n",
       "8. \"ourselves\"\n",
       "9. \"you\"\n",
       "10. \"your\"\n",
       "11. \"yours\"\n",
       "12. \"yourself\"\n",
       "13. \"yourselves\"\n",
       "14. \"he\"\n",
       "15. \"him\"\n",
       "16. \"his\"\n",
       "17. \"himself\"\n",
       "18. \"she\"\n",
       "19. \"her\"\n",
       "20. \"hers\"\n",
       "21. \"herself\"\n",
       "22. \"it\"\n",
       "23. \"its\"\n",
       "24. \"itself\"\n",
       "25. \"they\"\n",
       "26. \"them\"\n",
       "27. \"their\"\n",
       "28. \"theirs\"\n",
       "29. \"themselves\"\n",
       "30. \"what\"\n",
       "31. \"which\"\n",
       "32. \"who\"\n",
       "33. \"whom\"\n",
       "34. \"this\"\n",
       "35. \"that\"\n",
       "36. \"these\"\n",
       "37. \"those\"\n",
       "38. \"am\"\n",
       "39. \"is\"\n",
       "40. \"are\"\n",
       "41. \"was\"\n",
       "42. \"were\"\n",
       "43. \"be\"\n",
       "44. \"been\"\n",
       "45. \"being\"\n",
       "46. \"have\"\n",
       "47. \"has\"\n",
       "48. \"had\"\n",
       "49. \"having\"\n",
       "50. \"do\"\n",
       "51. \"does\"\n",
       "52. \"did\"\n",
       "53. \"doing\"\n",
       "54. \"would\"\n",
       "55. \"should\"\n",
       "56. \"could\"\n",
       "57. \"ought\"\n",
       "58. \"i'm\"\n",
       "59. \"you're\"\n",
       "60. \"he's\"\n",
       "61. \"she's\"\n",
       "62. \"it's\"\n",
       "63. \"we're\"\n",
       "64. \"they're\"\n",
       "65. \"i've\"\n",
       "66. \"you've\"\n",
       "67. \"we've\"\n",
       "68. \"they've\"\n",
       "69. \"i'd\"\n",
       "70. \"you'd\"\n",
       "71. \"he'd\"\n",
       "72. \"she'd\"\n",
       "73. \"we'd\"\n",
       "74. \"they'd\"\n",
       "75. \"i'll\"\n",
       "76. \"you'll\"\n",
       "77. \"he'll\"\n",
       "78. \"she'll\"\n",
       "79. \"we'll\"\n",
       "80. \"they'll\"\n",
       "81. \"isn't\"\n",
       "82. \"aren't\"\n",
       "83. \"wasn't\"\n",
       "84. \"weren't\"\n",
       "85. \"hasn't\"\n",
       "86. \"haven't\"\n",
       "87. \"hadn't\"\n",
       "88. \"doesn't\"\n",
       "89. \"don't\"\n",
       "90. \"didn't\"\n",
       "91. \"won't\"\n",
       "92. \"wouldn't\"\n",
       "93. \"shan't\"\n",
       "94. \"shouldn't\"\n",
       "95. \"can't\"\n",
       "96. \"cannot\"\n",
       "97. \"couldn't\"\n",
       "98. \"mustn't\"\n",
       "99. \"let's\"\n",
       "100. \"that's\"\n",
       "101. \"who's\"\n",
       "102. \"what's\"\n",
       "103. \"here's\"\n",
       "104. \"there's\"\n",
       "105. \"when's\"\n",
       "106. \"where's\"\n",
       "107. \"why's\"\n",
       "108. \"how's\"\n",
       "109. \"a\"\n",
       "110. \"an\"\n",
       "111. \"the\"\n",
       "112. \"and\"\n",
       "113. \"but\"\n",
       "114. \"if\"\n",
       "115. \"or\"\n",
       "116. \"because\"\n",
       "117. \"as\"\n",
       "118. \"until\"\n",
       "119. \"while\"\n",
       "120. \"of\"\n",
       "121. \"at\"\n",
       "122. \"by\"\n",
       "123. \"for\"\n",
       "124. \"with\"\n",
       "125. \"about\"\n",
       "126. \"against\"\n",
       "127. \"between\"\n",
       "128. \"into\"\n",
       "129. \"through\"\n",
       "130. \"during\"\n",
       "131. \"before\"\n",
       "132. \"after\"\n",
       "133. \"above\"\n",
       "134. \"below\"\n",
       "135. \"to\"\n",
       "136. \"from\"\n",
       "137. \"up\"\n",
       "138. \"down\"\n",
       "139. \"in\"\n",
       "140. \"out\"\n",
       "141. \"on\"\n",
       "142. \"off\"\n",
       "143. \"over\"\n",
       "144. \"under\"\n",
       "145. \"again\"\n",
       "146. \"further\"\n",
       "147. \"then\"\n",
       "148. \"once\"\n",
       "149. \"here\"\n",
       "150. \"there\"\n",
       "151. \"when\"\n",
       "152. \"where\"\n",
       "153. \"why\"\n",
       "154. \"how\"\n",
       "155. \"all\"\n",
       "156. \"any\"\n",
       "157. \"both\"\n",
       "158. \"each\"\n",
       "159. \"few\"\n",
       "160. \"more\"\n",
       "161. \"most\"\n",
       "162. \"other\"\n",
       "163. \"some\"\n",
       "164. \"such\"\n",
       "165. \"no\"\n",
       "166. \"nor\"\n",
       "167. \"not\"\n",
       "168. \"only\"\n",
       "169. \"own\"\n",
       "170. \"same\"\n",
       "171. \"so\"\n",
       "172. \"than\"\n",
       "173. \"too\"\n",
       "174. \"very\"\n",
       "\n",
       "\n"
      ],
      "text/plain": [
       "  [1] \"i\"          \"me\"         \"my\"         \"myself\"     \"we\"        \n",
       "  [6] \"our\"        \"ours\"       \"ourselves\"  \"you\"        \"your\"      \n",
       " [11] \"yours\"      \"yourself\"   \"yourselves\" \"he\"         \"him\"       \n",
       " [16] \"his\"        \"himself\"    \"she\"        \"her\"        \"hers\"      \n",
       " [21] \"herself\"    \"it\"         \"its\"        \"itself\"     \"they\"      \n",
       " [26] \"them\"       \"their\"      \"theirs\"     \"themselves\" \"what\"      \n",
       " [31] \"which\"      \"who\"        \"whom\"       \"this\"       \"that\"      \n",
       " [36] \"these\"      \"those\"      \"am\"         \"is\"         \"are\"       \n",
       " [41] \"was\"        \"were\"       \"be\"         \"been\"       \"being\"     \n",
       " [46] \"have\"       \"has\"        \"had\"        \"having\"     \"do\"        \n",
       " [51] \"does\"       \"did\"        \"doing\"      \"would\"      \"should\"    \n",
       " [56] \"could\"      \"ought\"      \"i'm\"        \"you're\"     \"he's\"      \n",
       " [61] \"she's\"      \"it's\"       \"we're\"      \"they're\"    \"i've\"      \n",
       " [66] \"you've\"     \"we've\"      \"they've\"    \"i'd\"        \"you'd\"     \n",
       " [71] \"he'd\"       \"she'd\"      \"we'd\"       \"they'd\"     \"i'll\"      \n",
       " [76] \"you'll\"     \"he'll\"      \"she'll\"     \"we'll\"      \"they'll\"   \n",
       " [81] \"isn't\"      \"aren't\"     \"wasn't\"     \"weren't\"    \"hasn't\"    \n",
       " [86] \"haven't\"    \"hadn't\"     \"doesn't\"    \"don't\"      \"didn't\"    \n",
       " [91] \"won't\"      \"wouldn't\"   \"shan't\"     \"shouldn't\"  \"can't\"     \n",
       " [96] \"cannot\"     \"couldn't\"   \"mustn't\"    \"let's\"      \"that's\"    \n",
       "[101] \"who's\"      \"what's\"     \"here's\"     \"there's\"    \"when's\"    \n",
       "[106] \"where's\"    \"why's\"      \"how's\"      \"a\"          \"an\"        \n",
       "[111] \"the\"        \"and\"        \"but\"        \"if\"         \"or\"        \n",
       "[116] \"because\"    \"as\"         \"until\"      \"while\"      \"of\"        \n",
       "[121] \"at\"         \"by\"         \"for\"        \"with\"       \"about\"     \n",
       "[126] \"against\"    \"between\"    \"into\"       \"through\"    \"during\"    \n",
       "[131] \"before\"     \"after\"      \"above\"      \"below\"      \"to\"        \n",
       "[136] \"from\"       \"up\"         \"down\"       \"in\"         \"out\"       \n",
       "[141] \"on\"         \"off\"        \"over\"       \"under\"      \"again\"     \n",
       "[146] \"further\"    \"then\"       \"once\"       \"here\"       \"there\"     \n",
       "[151] \"when\"       \"where\"      \"why\"        \"how\"        \"all\"       \n",
       "[156] \"any\"        \"both\"       \"each\"       \"few\"        \"more\"      \n",
       "[161] \"most\"       \"other\"      \"some\"       \"such\"       \"no\"        \n",
       "[166] \"nor\"        \"not\"        \"only\"       \"own\"        \"same\"      \n",
       "[171] \"so\"         \"than\"       \"too\"        \"very\"      "
      ]
     },
     "metadata": {},
     "output_type": "display_data"
    }
   ],
   "source": [
    "stopwords() # 영어"
   ]
  },
  {
   "cell_type": "code",
   "execution_count": 54,
   "metadata": {
    "collapsed": false
   },
   "outputs": [
    {
     "data": {
      "text/html": [
       "<ol class=list-inline>\n",
       "\t<li>\"aber\"</li>\n",
       "\t<li>\"alle\"</li>\n",
       "\t<li>\"allem\"</li>\n",
       "\t<li>\"allen\"</li>\n",
       "\t<li>\"aller\"</li>\n",
       "\t<li>\"alles\"</li>\n",
       "\t<li>\"als\"</li>\n",
       "\t<li>\"also\"</li>\n",
       "\t<li>\"am\"</li>\n",
       "\t<li>\"an\"</li>\n",
       "\t<li>\"ander\"</li>\n",
       "\t<li>\"andere\"</li>\n",
       "\t<li>\"anderem\"</li>\n",
       "\t<li>\"anderen\"</li>\n",
       "\t<li>\"anderer\"</li>\n",
       "\t<li>\"anderes\"</li>\n",
       "\t<li>\"anderm\"</li>\n",
       "\t<li>\"andern\"</li>\n",
       "\t<li>\"anderr\"</li>\n",
       "\t<li>\"anders\"</li>\n",
       "\t<li>\"auch\"</li>\n",
       "\t<li>\"auf\"</li>\n",
       "\t<li>\"aus\"</li>\n",
       "\t<li>\"bei\"</li>\n",
       "\t<li>\"bin\"</li>\n",
       "\t<li>\"bis\"</li>\n",
       "\t<li>\"bist\"</li>\n",
       "\t<li>\"da\"</li>\n",
       "\t<li>\"damit\"</li>\n",
       "\t<li>\"dann\"</li>\n",
       "\t<li>\"der\"</li>\n",
       "\t<li>\"den\"</li>\n",
       "\t<li>\"des\"</li>\n",
       "\t<li>\"dem\"</li>\n",
       "\t<li>\"die\"</li>\n",
       "\t<li>\"das\"</li>\n",
       "\t<li>\"daß\"</li>\n",
       "\t<li>\"derselbe\"</li>\n",
       "\t<li>\"derselben\"</li>\n",
       "\t<li>\"denselben\"</li>\n",
       "\t<li>\"desselben\"</li>\n",
       "\t<li>\"demselben\"</li>\n",
       "\t<li>\"dieselbe\"</li>\n",
       "\t<li>\"dieselben\"</li>\n",
       "\t<li>\"dasselbe\"</li>\n",
       "\t<li>\"dazu\"</li>\n",
       "\t<li>\"dein\"</li>\n",
       "\t<li>\"deine\"</li>\n",
       "\t<li>\"deinem\"</li>\n",
       "\t<li>\"deinen\"</li>\n",
       "\t<li>\"deiner\"</li>\n",
       "\t<li>\"deines\"</li>\n",
       "\t<li>\"denn\"</li>\n",
       "\t<li>\"derer\"</li>\n",
       "\t<li>\"dessen\"</li>\n",
       "\t<li>\"dich\"</li>\n",
       "\t<li>\"dir\"</li>\n",
       "\t<li>\"du\"</li>\n",
       "\t<li>\"dies\"</li>\n",
       "\t<li>\"diese\"</li>\n",
       "\t<li>\"diesem\"</li>\n",
       "\t<li>\"diesen\"</li>\n",
       "\t<li>\"dieser\"</li>\n",
       "\t<li>\"dieses\"</li>\n",
       "\t<li>\"doch\"</li>\n",
       "\t<li>\"dort\"</li>\n",
       "\t<li>\"durch\"</li>\n",
       "\t<li>\"ein\"</li>\n",
       "\t<li>\"eine\"</li>\n",
       "\t<li>\"einem\"</li>\n",
       "\t<li>\"einen\"</li>\n",
       "\t<li>\"einer\"</li>\n",
       "\t<li>\"eines\"</li>\n",
       "\t<li>\"einig\"</li>\n",
       "\t<li>\"einige\"</li>\n",
       "\t<li>\"einigem\"</li>\n",
       "\t<li>\"einigen\"</li>\n",
       "\t<li>\"einiger\"</li>\n",
       "\t<li>\"einiges\"</li>\n",
       "\t<li>\"einmal\"</li>\n",
       "\t<li>\"er\"</li>\n",
       "\t<li>\"ihn\"</li>\n",
       "\t<li>\"ihm\"</li>\n",
       "\t<li>\"es\"</li>\n",
       "\t<li>\"etwas\"</li>\n",
       "\t<li>\"euer\"</li>\n",
       "\t<li>\"eure\"</li>\n",
       "\t<li>\"eurem\"</li>\n",
       "\t<li>\"euren\"</li>\n",
       "\t<li>\"eurer\"</li>\n",
       "\t<li>\"eures\"</li>\n",
       "\t<li>\"für\"</li>\n",
       "\t<li>\"gegen\"</li>\n",
       "\t<li>\"gewesen\"</li>\n",
       "\t<li>\"hab\"</li>\n",
       "\t<li>\"habe\"</li>\n",
       "\t<li>\"haben\"</li>\n",
       "\t<li>\"hat\"</li>\n",
       "\t<li>\"hatte\"</li>\n",
       "\t<li>\"hatten\"</li>\n",
       "\t<li>\"hier\"</li>\n",
       "\t<li>\"hin\"</li>\n",
       "\t<li>\"hinter\"</li>\n",
       "\t<li>\"ich\"</li>\n",
       "\t<li>\"mich\"</li>\n",
       "\t<li>\"mir\"</li>\n",
       "\t<li>\"ihr\"</li>\n",
       "\t<li>\"ihre\"</li>\n",
       "\t<li>\"ihrem\"</li>\n",
       "\t<li>\"ihren\"</li>\n",
       "\t<li>\"ihrer\"</li>\n",
       "\t<li>\"ihres\"</li>\n",
       "\t<li>\"euch\"</li>\n",
       "\t<li>\"im\"</li>\n",
       "\t<li>\"in\"</li>\n",
       "\t<li>\"indem\"</li>\n",
       "\t<li>\"ins\"</li>\n",
       "\t<li>\"ist\"</li>\n",
       "\t<li>\"jede\"</li>\n",
       "\t<li>\"jedem\"</li>\n",
       "\t<li>\"jeden\"</li>\n",
       "\t<li>\"jeder\"</li>\n",
       "\t<li>\"jedes\"</li>\n",
       "\t<li>\"jene\"</li>\n",
       "\t<li>\"jenem\"</li>\n",
       "\t<li>\"jenen\"</li>\n",
       "\t<li>\"jener\"</li>\n",
       "\t<li>\"jenes\"</li>\n",
       "\t<li>\"jetzt\"</li>\n",
       "\t<li>\"kann\"</li>\n",
       "\t<li>\"kein\"</li>\n",
       "\t<li>\"keine\"</li>\n",
       "\t<li>\"keinem\"</li>\n",
       "\t<li>\"keinen\"</li>\n",
       "\t<li>\"keiner\"</li>\n",
       "\t<li>\"keines\"</li>\n",
       "\t<li>\"können\"</li>\n",
       "\t<li>\"könnte\"</li>\n",
       "\t<li>\"machen\"</li>\n",
       "\t<li>\"man\"</li>\n",
       "\t<li>\"manche\"</li>\n",
       "\t<li>\"manchem\"</li>\n",
       "\t<li>\"manchen\"</li>\n",
       "\t<li>\"mancher\"</li>\n",
       "\t<li>\"manches\"</li>\n",
       "\t<li>\"mein\"</li>\n",
       "\t<li>\"meine\"</li>\n",
       "\t<li>\"meinem\"</li>\n",
       "\t<li>\"meinen\"</li>\n",
       "\t<li>\"meiner\"</li>\n",
       "\t<li>\"meines\"</li>\n",
       "\t<li>\"mit\"</li>\n",
       "\t<li>\"muss\"</li>\n",
       "\t<li>\"musste\"</li>\n",
       "\t<li>\"nach\"</li>\n",
       "\t<li>\"nicht\"</li>\n",
       "\t<li>\"nichts\"</li>\n",
       "\t<li>\"noch\"</li>\n",
       "\t<li>\"nun\"</li>\n",
       "\t<li>\"nur\"</li>\n",
       "\t<li>\"ob\"</li>\n",
       "\t<li>\"oder\"</li>\n",
       "\t<li>\"ohne\"</li>\n",
       "\t<li>\"sehr\"</li>\n",
       "\t<li>\"sein\"</li>\n",
       "\t<li>\"seine\"</li>\n",
       "\t<li>\"seinem\"</li>\n",
       "\t<li>\"seinen\"</li>\n",
       "\t<li>\"seiner\"</li>\n",
       "\t<li>\"seines\"</li>\n",
       "\t<li>\"selbst\"</li>\n",
       "\t<li>\"sich\"</li>\n",
       "\t<li>\"sie\"</li>\n",
       "\t<li>\"ihnen\"</li>\n",
       "\t<li>\"sind\"</li>\n",
       "\t<li>\"so\"</li>\n",
       "\t<li>\"solche\"</li>\n",
       "\t<li>\"solchem\"</li>\n",
       "\t<li>\"solchen\"</li>\n",
       "\t<li>\"solcher\"</li>\n",
       "\t<li>\"solches\"</li>\n",
       "\t<li>\"soll\"</li>\n",
       "\t<li>\"sollte\"</li>\n",
       "\t<li>\"sondern\"</li>\n",
       "\t<li>\"sonst\"</li>\n",
       "\t<li>\"über\"</li>\n",
       "\t<li>\"um\"</li>\n",
       "\t<li>\"und\"</li>\n",
       "\t<li>\"uns\"</li>\n",
       "\t<li>\"unse\"</li>\n",
       "\t<li>\"unsem\"</li>\n",
       "\t<li>\"unsen\"</li>\n",
       "\t<li>\"unser\"</li>\n",
       "\t<li>\"unses\"</li>\n",
       "\t<li>\"unter\"</li>\n",
       "\t<li>\"viel\"</li>\n",
       "\t<li>\"vom\"</li>\n",
       "\t<li>\"von\"</li>\n",
       "\t<li>\"vor\"</li>\n",
       "\t<li>\"während\"</li>\n",
       "\t<li>\"war\"</li>\n",
       "\t<li>\"waren\"</li>\n",
       "\t<li>\"warst\"</li>\n",
       "\t<li>\"was\"</li>\n",
       "\t<li>\"weg\"</li>\n",
       "\t<li>\"weil\"</li>\n",
       "\t<li>\"weiter\"</li>\n",
       "\t<li>\"welche\"</li>\n",
       "\t<li>\"welchem\"</li>\n",
       "\t<li>\"welchen\"</li>\n",
       "\t<li>\"welcher\"</li>\n",
       "\t<li>\"welches\"</li>\n",
       "\t<li>\"wenn\"</li>\n",
       "\t<li>\"werde\"</li>\n",
       "\t<li>\"werden\"</li>\n",
       "\t<li>\"wie\"</li>\n",
       "\t<li>\"wieder\"</li>\n",
       "\t<li>\"will\"</li>\n",
       "\t<li>\"wir\"</li>\n",
       "\t<li>\"wird\"</li>\n",
       "\t<li>\"wirst\"</li>\n",
       "\t<li>\"wo\"</li>\n",
       "\t<li>\"wollen\"</li>\n",
       "\t<li>\"wollte\"</li>\n",
       "\t<li>\"würde\"</li>\n",
       "\t<li>\"würden\"</li>\n",
       "\t<li>\"zu\"</li>\n",
       "\t<li>\"zum\"</li>\n",
       "\t<li>\"zur\"</li>\n",
       "\t<li>\"zwar\"</li>\n",
       "\t<li>\"zwischen\"</li>\n",
       "</ol>\n"
      ],
      "text/latex": [
       "\\begin{enumerate*}\n",
       "\\item \"aber\"\n",
       "\\item \"alle\"\n",
       "\\item \"allem\"\n",
       "\\item \"allen\"\n",
       "\\item \"aller\"\n",
       "\\item \"alles\"\n",
       "\\item \"als\"\n",
       "\\item \"also\"\n",
       "\\item \"am\"\n",
       "\\item \"an\"\n",
       "\\item \"ander\"\n",
       "\\item \"andere\"\n",
       "\\item \"anderem\"\n",
       "\\item \"anderen\"\n",
       "\\item \"anderer\"\n",
       "\\item \"anderes\"\n",
       "\\item \"anderm\"\n",
       "\\item \"andern\"\n",
       "\\item \"anderr\"\n",
       "\\item \"anders\"\n",
       "\\item \"auch\"\n",
       "\\item \"auf\"\n",
       "\\item \"aus\"\n",
       "\\item \"bei\"\n",
       "\\item \"bin\"\n",
       "\\item \"bis\"\n",
       "\\item \"bist\"\n",
       "\\item \"da\"\n",
       "\\item \"damit\"\n",
       "\\item \"dann\"\n",
       "\\item \"der\"\n",
       "\\item \"den\"\n",
       "\\item \"des\"\n",
       "\\item \"dem\"\n",
       "\\item \"die\"\n",
       "\\item \"das\"\n",
       "\\item \"daß\"\n",
       "\\item \"derselbe\"\n",
       "\\item \"derselben\"\n",
       "\\item \"denselben\"\n",
       "\\item \"desselben\"\n",
       "\\item \"demselben\"\n",
       "\\item \"dieselbe\"\n",
       "\\item \"dieselben\"\n",
       "\\item \"dasselbe\"\n",
       "\\item \"dazu\"\n",
       "\\item \"dein\"\n",
       "\\item \"deine\"\n",
       "\\item \"deinem\"\n",
       "\\item \"deinen\"\n",
       "\\item \"deiner\"\n",
       "\\item \"deines\"\n",
       "\\item \"denn\"\n",
       "\\item \"derer\"\n",
       "\\item \"dessen\"\n",
       "\\item \"dich\"\n",
       "\\item \"dir\"\n",
       "\\item \"du\"\n",
       "\\item \"dies\"\n",
       "\\item \"diese\"\n",
       "\\item \"diesem\"\n",
       "\\item \"diesen\"\n",
       "\\item \"dieser\"\n",
       "\\item \"dieses\"\n",
       "\\item \"doch\"\n",
       "\\item \"dort\"\n",
       "\\item \"durch\"\n",
       "\\item \"ein\"\n",
       "\\item \"eine\"\n",
       "\\item \"einem\"\n",
       "\\item \"einen\"\n",
       "\\item \"einer\"\n",
       "\\item \"eines\"\n",
       "\\item \"einig\"\n",
       "\\item \"einige\"\n",
       "\\item \"einigem\"\n",
       "\\item \"einigen\"\n",
       "\\item \"einiger\"\n",
       "\\item \"einiges\"\n",
       "\\item \"einmal\"\n",
       "\\item \"er\"\n",
       "\\item \"ihn\"\n",
       "\\item \"ihm\"\n",
       "\\item \"es\"\n",
       "\\item \"etwas\"\n",
       "\\item \"euer\"\n",
       "\\item \"eure\"\n",
       "\\item \"eurem\"\n",
       "\\item \"euren\"\n",
       "\\item \"eurer\"\n",
       "\\item \"eures\"\n",
       "\\item \"für\"\n",
       "\\item \"gegen\"\n",
       "\\item \"gewesen\"\n",
       "\\item \"hab\"\n",
       "\\item \"habe\"\n",
       "\\item \"haben\"\n",
       "\\item \"hat\"\n",
       "\\item \"hatte\"\n",
       "\\item \"hatten\"\n",
       "\\item \"hier\"\n",
       "\\item \"hin\"\n",
       "\\item \"hinter\"\n",
       "\\item \"ich\"\n",
       "\\item \"mich\"\n",
       "\\item \"mir\"\n",
       "\\item \"ihr\"\n",
       "\\item \"ihre\"\n",
       "\\item \"ihrem\"\n",
       "\\item \"ihren\"\n",
       "\\item \"ihrer\"\n",
       "\\item \"ihres\"\n",
       "\\item \"euch\"\n",
       "\\item \"im\"\n",
       "\\item \"in\"\n",
       "\\item \"indem\"\n",
       "\\item \"ins\"\n",
       "\\item \"ist\"\n",
       "\\item \"jede\"\n",
       "\\item \"jedem\"\n",
       "\\item \"jeden\"\n",
       "\\item \"jeder\"\n",
       "\\item \"jedes\"\n",
       "\\item \"jene\"\n",
       "\\item \"jenem\"\n",
       "\\item \"jenen\"\n",
       "\\item \"jener\"\n",
       "\\item \"jenes\"\n",
       "\\item \"jetzt\"\n",
       "\\item \"kann\"\n",
       "\\item \"kein\"\n",
       "\\item \"keine\"\n",
       "\\item \"keinem\"\n",
       "\\item \"keinen\"\n",
       "\\item \"keiner\"\n",
       "\\item \"keines\"\n",
       "\\item \"können\"\n",
       "\\item \"könnte\"\n",
       "\\item \"machen\"\n",
       "\\item \"man\"\n",
       "\\item \"manche\"\n",
       "\\item \"manchem\"\n",
       "\\item \"manchen\"\n",
       "\\item \"mancher\"\n",
       "\\item \"manches\"\n",
       "\\item \"mein\"\n",
       "\\item \"meine\"\n",
       "\\item \"meinem\"\n",
       "\\item \"meinen\"\n",
       "\\item \"meiner\"\n",
       "\\item \"meines\"\n",
       "\\item \"mit\"\n",
       "\\item \"muss\"\n",
       "\\item \"musste\"\n",
       "\\item \"nach\"\n",
       "\\item \"nicht\"\n",
       "\\item \"nichts\"\n",
       "\\item \"noch\"\n",
       "\\item \"nun\"\n",
       "\\item \"nur\"\n",
       "\\item \"ob\"\n",
       "\\item \"oder\"\n",
       "\\item \"ohne\"\n",
       "\\item \"sehr\"\n",
       "\\item \"sein\"\n",
       "\\item \"seine\"\n",
       "\\item \"seinem\"\n",
       "\\item \"seinen\"\n",
       "\\item \"seiner\"\n",
       "\\item \"seines\"\n",
       "\\item \"selbst\"\n",
       "\\item \"sich\"\n",
       "\\item \"sie\"\n",
       "\\item \"ihnen\"\n",
       "\\item \"sind\"\n",
       "\\item \"so\"\n",
       "\\item \"solche\"\n",
       "\\item \"solchem\"\n",
       "\\item \"solchen\"\n",
       "\\item \"solcher\"\n",
       "\\item \"solches\"\n",
       "\\item \"soll\"\n",
       "\\item \"sollte\"\n",
       "\\item \"sondern\"\n",
       "\\item \"sonst\"\n",
       "\\item \"über\"\n",
       "\\item \"um\"\n",
       "\\item \"und\"\n",
       "\\item \"uns\"\n",
       "\\item \"unse\"\n",
       "\\item \"unsem\"\n",
       "\\item \"unsen\"\n",
       "\\item \"unser\"\n",
       "\\item \"unses\"\n",
       "\\item \"unter\"\n",
       "\\item \"viel\"\n",
       "\\item \"vom\"\n",
       "\\item \"von\"\n",
       "\\item \"vor\"\n",
       "\\item \"während\"\n",
       "\\item \"war\"\n",
       "\\item \"waren\"\n",
       "\\item \"warst\"\n",
       "\\item \"was\"\n",
       "\\item \"weg\"\n",
       "\\item \"weil\"\n",
       "\\item \"weiter\"\n",
       "\\item \"welche\"\n",
       "\\item \"welchem\"\n",
       "\\item \"welchen\"\n",
       "\\item \"welcher\"\n",
       "\\item \"welches\"\n",
       "\\item \"wenn\"\n",
       "\\item \"werde\"\n",
       "\\item \"werden\"\n",
       "\\item \"wie\"\n",
       "\\item \"wieder\"\n",
       "\\item \"will\"\n",
       "\\item \"wir\"\n",
       "\\item \"wird\"\n",
       "\\item \"wirst\"\n",
       "\\item \"wo\"\n",
       "\\item \"wollen\"\n",
       "\\item \"wollte\"\n",
       "\\item \"würde\"\n",
       "\\item \"würden\"\n",
       "\\item \"zu\"\n",
       "\\item \"zum\"\n",
       "\\item \"zur\"\n",
       "\\item \"zwar\"\n",
       "\\item \"zwischen\"\n",
       "\\end{enumerate*}\n"
      ],
      "text/markdown": [
       "1. \"aber\"\n",
       "2. \"alle\"\n",
       "3. \"allem\"\n",
       "4. \"allen\"\n",
       "5. \"aller\"\n",
       "6. \"alles\"\n",
       "7. \"als\"\n",
       "8. \"also\"\n",
       "9. \"am\"\n",
       "10. \"an\"\n",
       "11. \"ander\"\n",
       "12. \"andere\"\n",
       "13. \"anderem\"\n",
       "14. \"anderen\"\n",
       "15. \"anderer\"\n",
       "16. \"anderes\"\n",
       "17. \"anderm\"\n",
       "18. \"andern\"\n",
       "19. \"anderr\"\n",
       "20. \"anders\"\n",
       "21. \"auch\"\n",
       "22. \"auf\"\n",
       "23. \"aus\"\n",
       "24. \"bei\"\n",
       "25. \"bin\"\n",
       "26. \"bis\"\n",
       "27. \"bist\"\n",
       "28. \"da\"\n",
       "29. \"damit\"\n",
       "30. \"dann\"\n",
       "31. \"der\"\n",
       "32. \"den\"\n",
       "33. \"des\"\n",
       "34. \"dem\"\n",
       "35. \"die\"\n",
       "36. \"das\"\n",
       "37. \"daß\"\n",
       "38. \"derselbe\"\n",
       "39. \"derselben\"\n",
       "40. \"denselben\"\n",
       "41. \"desselben\"\n",
       "42. \"demselben\"\n",
       "43. \"dieselbe\"\n",
       "44. \"dieselben\"\n",
       "45. \"dasselbe\"\n",
       "46. \"dazu\"\n",
       "47. \"dein\"\n",
       "48. \"deine\"\n",
       "49. \"deinem\"\n",
       "50. \"deinen\"\n",
       "51. \"deiner\"\n",
       "52. \"deines\"\n",
       "53. \"denn\"\n",
       "54. \"derer\"\n",
       "55. \"dessen\"\n",
       "56. \"dich\"\n",
       "57. \"dir\"\n",
       "58. \"du\"\n",
       "59. \"dies\"\n",
       "60. \"diese\"\n",
       "61. \"diesem\"\n",
       "62. \"diesen\"\n",
       "63. \"dieser\"\n",
       "64. \"dieses\"\n",
       "65. \"doch\"\n",
       "66. \"dort\"\n",
       "67. \"durch\"\n",
       "68. \"ein\"\n",
       "69. \"eine\"\n",
       "70. \"einem\"\n",
       "71. \"einen\"\n",
       "72. \"einer\"\n",
       "73. \"eines\"\n",
       "74. \"einig\"\n",
       "75. \"einige\"\n",
       "76. \"einigem\"\n",
       "77. \"einigen\"\n",
       "78. \"einiger\"\n",
       "79. \"einiges\"\n",
       "80. \"einmal\"\n",
       "81. \"er\"\n",
       "82. \"ihn\"\n",
       "83. \"ihm\"\n",
       "84. \"es\"\n",
       "85. \"etwas\"\n",
       "86. \"euer\"\n",
       "87. \"eure\"\n",
       "88. \"eurem\"\n",
       "89. \"euren\"\n",
       "90. \"eurer\"\n",
       "91. \"eures\"\n",
       "92. \"für\"\n",
       "93. \"gegen\"\n",
       "94. \"gewesen\"\n",
       "95. \"hab\"\n",
       "96. \"habe\"\n",
       "97. \"haben\"\n",
       "98. \"hat\"\n",
       "99. \"hatte\"\n",
       "100. \"hatten\"\n",
       "101. \"hier\"\n",
       "102. \"hin\"\n",
       "103. \"hinter\"\n",
       "104. \"ich\"\n",
       "105. \"mich\"\n",
       "106. \"mir\"\n",
       "107. \"ihr\"\n",
       "108. \"ihre\"\n",
       "109. \"ihrem\"\n",
       "110. \"ihren\"\n",
       "111. \"ihrer\"\n",
       "112. \"ihres\"\n",
       "113. \"euch\"\n",
       "114. \"im\"\n",
       "115. \"in\"\n",
       "116. \"indem\"\n",
       "117. \"ins\"\n",
       "118. \"ist\"\n",
       "119. \"jede\"\n",
       "120. \"jedem\"\n",
       "121. \"jeden\"\n",
       "122. \"jeder\"\n",
       "123. \"jedes\"\n",
       "124. \"jene\"\n",
       "125. \"jenem\"\n",
       "126. \"jenen\"\n",
       "127. \"jener\"\n",
       "128. \"jenes\"\n",
       "129. \"jetzt\"\n",
       "130. \"kann\"\n",
       "131. \"kein\"\n",
       "132. \"keine\"\n",
       "133. \"keinem\"\n",
       "134. \"keinen\"\n",
       "135. \"keiner\"\n",
       "136. \"keines\"\n",
       "137. \"können\"\n",
       "138. \"könnte\"\n",
       "139. \"machen\"\n",
       "140. \"man\"\n",
       "141. \"manche\"\n",
       "142. \"manchem\"\n",
       "143. \"manchen\"\n",
       "144. \"mancher\"\n",
       "145. \"manches\"\n",
       "146. \"mein\"\n",
       "147. \"meine\"\n",
       "148. \"meinem\"\n",
       "149. \"meinen\"\n",
       "150. \"meiner\"\n",
       "151. \"meines\"\n",
       "152. \"mit\"\n",
       "153. \"muss\"\n",
       "154. \"musste\"\n",
       "155. \"nach\"\n",
       "156. \"nicht\"\n",
       "157. \"nichts\"\n",
       "158. \"noch\"\n",
       "159. \"nun\"\n",
       "160. \"nur\"\n",
       "161. \"ob\"\n",
       "162. \"oder\"\n",
       "163. \"ohne\"\n",
       "164. \"sehr\"\n",
       "165. \"sein\"\n",
       "166. \"seine\"\n",
       "167. \"seinem\"\n",
       "168. \"seinen\"\n",
       "169. \"seiner\"\n",
       "170. \"seines\"\n",
       "171. \"selbst\"\n",
       "172. \"sich\"\n",
       "173. \"sie\"\n",
       "174. \"ihnen\"\n",
       "175. \"sind\"\n",
       "176. \"so\"\n",
       "177. \"solche\"\n",
       "178. \"solchem\"\n",
       "179. \"solchen\"\n",
       "180. \"solcher\"\n",
       "181. \"solches\"\n",
       "182. \"soll\"\n",
       "183. \"sollte\"\n",
       "184. \"sondern\"\n",
       "185. \"sonst\"\n",
       "186. \"über\"\n",
       "187. \"um\"\n",
       "188. \"und\"\n",
       "189. \"uns\"\n",
       "190. \"unse\"\n",
       "191. \"unsem\"\n",
       "192. \"unsen\"\n",
       "193. \"unser\"\n",
       "194. \"unses\"\n",
       "195. \"unter\"\n",
       "196. \"viel\"\n",
       "197. \"vom\"\n",
       "198. \"von\"\n",
       "199. \"vor\"\n",
       "200. \"während\"\n",
       "201. \"war\"\n",
       "202. \"waren\"\n",
       "203. \"warst\"\n",
       "204. \"was\"\n",
       "205. \"weg\"\n",
       "206. \"weil\"\n",
       "207. \"weiter\"\n",
       "208. \"welche\"\n",
       "209. \"welchem\"\n",
       "210. \"welchen\"\n",
       "211. \"welcher\"\n",
       "212. \"welches\"\n",
       "213. \"wenn\"\n",
       "214. \"werde\"\n",
       "215. \"werden\"\n",
       "216. \"wie\"\n",
       "217. \"wieder\"\n",
       "218. \"will\"\n",
       "219. \"wir\"\n",
       "220. \"wird\"\n",
       "221. \"wirst\"\n",
       "222. \"wo\"\n",
       "223. \"wollen\"\n",
       "224. \"wollte\"\n",
       "225. \"würde\"\n",
       "226. \"würden\"\n",
       "227. \"zu\"\n",
       "228. \"zum\"\n",
       "229. \"zur\"\n",
       "230. \"zwar\"\n",
       "231. \"zwischen\"\n",
       "\n",
       "\n"
      ],
      "text/plain": [
       "  [1] \"aber\"      \"alle\"      \"allem\"     \"allen\"     \"aller\"     \"alles\"    \n",
       "  [7] \"als\"       \"also\"      \"am\"        \"an\"        \"ander\"     \"andere\"   \n",
       " [13] \"anderem\"   \"anderen\"   \"anderer\"   \"anderes\"   \"anderm\"    \"andern\"   \n",
       " [19] \"anderr\"    \"anders\"    \"auch\"      \"auf\"       \"aus\"       \"bei\"      \n",
       " [25] \"bin\"       \"bis\"       \"bist\"      \"da\"        \"damit\"     \"dann\"     \n",
       " [31] \"der\"       \"den\"       \"des\"       \"dem\"       \"die\"       \"das\"      \n",
       " [37] \"daß\"      \"derselbe\"  \"derselben\" \"denselben\" \"desselben\" \"demselben\"\n",
       " [43] \"dieselbe\"  \"dieselben\" \"dasselbe\"  \"dazu\"      \"dein\"      \"deine\"    \n",
       " [49] \"deinem\"    \"deinen\"    \"deiner\"    \"deines\"    \"denn\"      \"derer\"    \n",
       " [55] \"dessen\"    \"dich\"      \"dir\"       \"du\"        \"dies\"      \"diese\"    \n",
       " [61] \"diesem\"    \"diesen\"    \"dieser\"    \"dieses\"    \"doch\"      \"dort\"     \n",
       " [67] \"durch\"     \"ein\"       \"eine\"      \"einem\"     \"einen\"     \"einer\"    \n",
       " [73] \"eines\"     \"einig\"     \"einige\"    \"einigem\"   \"einigen\"   \"einiger\"  \n",
       " [79] \"einiges\"   \"einmal\"    \"er\"        \"ihn\"       \"ihm\"       \"es\"       \n",
       " [85] \"etwas\"     \"euer\"      \"eure\"      \"eurem\"     \"euren\"     \"eurer\"    \n",
       " [91] \"eures\"     \"fur\"       \"gegen\"     \"gewesen\"   \"hab\"       \"habe\"     \n",
       " [97] \"haben\"     \"hat\"       \"hatte\"     \"hatten\"    \"hier\"      \"hin\"      \n",
       "[103] \"hinter\"    \"ich\"       \"mich\"      \"mir\"       \"ihr\"       \"ihre\"     \n",
       "[109] \"ihrem\"     \"ihren\"     \"ihrer\"     \"ihres\"     \"euch\"      \"im\"       \n",
       "[115] \"in\"        \"indem\"     \"ins\"       \"ist\"       \"jede\"      \"jedem\"    \n",
       "[121] \"jeden\"     \"jeder\"     \"jedes\"     \"jene\"      \"jenem\"     \"jenen\"    \n",
       "[127] \"jener\"     \"jenes\"     \"jetzt\"     \"kann\"      \"kein\"      \"keine\"    \n",
       "[133] \"keinem\"    \"keinen\"    \"keiner\"    \"keines\"    \"konnen\"    \"konnte\"   \n",
       "[139] \"machen\"    \"man\"       \"manche\"    \"manchem\"   \"manchen\"   \"mancher\"  \n",
       "[145] \"manches\"   \"mein\"      \"meine\"     \"meinem\"    \"meinen\"    \"meiner\"   \n",
       "[151] \"meines\"    \"mit\"       \"muss\"      \"musste\"    \"nach\"      \"nicht\"    \n",
       "[157] \"nichts\"    \"noch\"      \"nun\"       \"nur\"       \"ob\"        \"oder\"     \n",
       "[163] \"ohne\"      \"sehr\"      \"sein\"      \"seine\"     \"seinem\"    \"seinen\"   \n",
       "[169] \"seiner\"    \"seines\"    \"selbst\"    \"sich\"      \"sie\"       \"ihnen\"    \n",
       "[175] \"sind\"      \"so\"        \"solche\"    \"solchem\"   \"solchen\"   \"solcher\"  \n",
       "[181] \"solches\"   \"soll\"      \"sollte\"    \"sondern\"   \"sonst\"     \"uber\"     \n",
       "[187] \"um\"        \"und\"       \"uns\"       \"unse\"      \"unsem\"     \"unsen\"    \n",
       "[193] \"unser\"     \"unses\"     \"unter\"     \"viel\"      \"vom\"       \"von\"      \n",
       "[199] \"vor\"       \"wahrend\"   \"war\"       \"waren\"     \"warst\"     \"was\"      \n",
       "[205] \"weg\"       \"weil\"      \"weiter\"    \"welche\"    \"welchem\"   \"welchen\"  \n",
       "[211] \"welcher\"   \"welches\"   \"wenn\"      \"werde\"     \"werden\"    \"wie\"      \n",
       "[217] \"wieder\"    \"will\"      \"wir\"       \"wird\"      \"wirst\"     \"wo\"       \n",
       "[223] \"wollen\"    \"wollte\"    \"wurde\"     \"wurden\"    \"zu\"        \"zum\"      \n",
       "[229] \"zur\"       \"zwar\"      \"zwischen\" "
      ]
     },
     "metadata": {},
     "output_type": "display_data"
    }
   ],
   "source": [
    "stopwords('ge') # 독일어"
   ]
  },
  {
   "cell_type": "code",
   "execution_count": 55,
   "metadata": {
    "collapsed": false
   },
   "outputs": [
    {
     "data": {
      "text/html": [
       "<ol class=list-inline>\n",
       "\t<li>\"au\"</li>\n",
       "\t<li>\"aux\"</li>\n",
       "\t<li>\"avec\"</li>\n",
       "\t<li>\"ce\"</li>\n",
       "\t<li>\"ces\"</li>\n",
       "\t<li>\"dans\"</li>\n",
       "\t<li>\"de\"</li>\n",
       "\t<li>\"des\"</li>\n",
       "\t<li>\"du\"</li>\n",
       "\t<li>\"elle\"</li>\n",
       "\t<li>\"en\"</li>\n",
       "\t<li>\"et\"</li>\n",
       "\t<li>\"eux\"</li>\n",
       "\t<li>\"il\"</li>\n",
       "\t<li>\"je\"</li>\n",
       "\t<li>\"la\"</li>\n",
       "\t<li>\"le\"</li>\n",
       "\t<li>\"leur\"</li>\n",
       "\t<li>\"lui\"</li>\n",
       "\t<li>\"ma\"</li>\n",
       "\t<li>\"mais\"</li>\n",
       "\t<li>\"me\"</li>\n",
       "\t<li>\"même\"</li>\n",
       "\t<li>\"mes\"</li>\n",
       "\t<li>\"moi\"</li>\n",
       "\t<li>\"mon\"</li>\n",
       "\t<li>\"ne\"</li>\n",
       "\t<li>\"nos\"</li>\n",
       "\t<li>\"notre\"</li>\n",
       "\t<li>\"nous\"</li>\n",
       "\t<li>\"on\"</li>\n",
       "\t<li>\"ou\"</li>\n",
       "\t<li>\"par\"</li>\n",
       "\t<li>\"pas\"</li>\n",
       "\t<li>\"pour\"</li>\n",
       "\t<li>\"qu\"</li>\n",
       "\t<li>\"que\"</li>\n",
       "\t<li>\"qui\"</li>\n",
       "\t<li>\"sa\"</li>\n",
       "\t<li>\"se\"</li>\n",
       "\t<li>\"ses\"</li>\n",
       "\t<li>\"son\"</li>\n",
       "\t<li>\"sur\"</li>\n",
       "\t<li>\"ta\"</li>\n",
       "\t<li>\"te\"</li>\n",
       "\t<li>\"tes\"</li>\n",
       "\t<li>\"toi\"</li>\n",
       "\t<li>\"ton\"</li>\n",
       "\t<li>\"tu\"</li>\n",
       "\t<li>\"un\"</li>\n",
       "\t<li>\"une\"</li>\n",
       "\t<li>\"vos\"</li>\n",
       "\t<li>\"votre\"</li>\n",
       "\t<li>\"vous\"</li>\n",
       "\t<li>\"c\"</li>\n",
       "\t<li>\"d\"</li>\n",
       "\t<li>\"j\"</li>\n",
       "\t<li>\"l\"</li>\n",
       "\t<li>\"à\"</li>\n",
       "\t<li>\"m\"</li>\n",
       "\t<li>\"n\"</li>\n",
       "\t<li>\"s\"</li>\n",
       "\t<li>\"t\"</li>\n",
       "\t<li>\"y\"</li>\n",
       "\t<li>\"été\"</li>\n",
       "\t<li>\"étée\"</li>\n",
       "\t<li>\"étées\"</li>\n",
       "\t<li>\"étés\"</li>\n",
       "\t<li>\"étant\"</li>\n",
       "\t<li>\"suis\"</li>\n",
       "\t<li>\"es\"</li>\n",
       "\t<li>\"est\"</li>\n",
       "\t<li>\"sommes\"</li>\n",
       "\t<li>\"êtes\"</li>\n",
       "\t<li>\"sont\"</li>\n",
       "\t<li>\"serai\"</li>\n",
       "\t<li>\"seras\"</li>\n",
       "\t<li>\"sera\"</li>\n",
       "\t<li>\"serons\"</li>\n",
       "\t<li>\"serez\"</li>\n",
       "\t<li>\"seront\"</li>\n",
       "\t<li>\"serais\"</li>\n",
       "\t<li>\"serait\"</li>\n",
       "\t<li>\"serions\"</li>\n",
       "\t<li>\"seriez\"</li>\n",
       "\t<li>\"seraient\"</li>\n",
       "\t<li>\"étais\"</li>\n",
       "\t<li>\"était\"</li>\n",
       "\t<li>\"étions\"</li>\n",
       "\t<li>\"étiez\"</li>\n",
       "\t<li>\"étaient\"</li>\n",
       "\t<li>\"fus\"</li>\n",
       "\t<li>\"fut\"</li>\n",
       "\t<li>\"fûmes\"</li>\n",
       "\t<li>\"fûtes\"</li>\n",
       "\t<li>\"furent\"</li>\n",
       "\t<li>\"sois\"</li>\n",
       "\t<li>\"soit\"</li>\n",
       "\t<li>\"soyons\"</li>\n",
       "\t<li>\"soyez\"</li>\n",
       "\t<li>\"soient\"</li>\n",
       "\t<li>\"fusse\"</li>\n",
       "\t<li>\"fusses\"</li>\n",
       "\t<li>\"fût\"</li>\n",
       "\t<li>\"fussions\"</li>\n",
       "\t<li>\"fussiez\"</li>\n",
       "\t<li>\"fussent\"</li>\n",
       "\t<li>\"ayant\"</li>\n",
       "\t<li>\"eu\"</li>\n",
       "\t<li>\"eue\"</li>\n",
       "\t<li>\"eues\"</li>\n",
       "\t<li>\"eus\"</li>\n",
       "\t<li>\"ai\"</li>\n",
       "\t<li>\"as\"</li>\n",
       "\t<li>\"avons\"</li>\n",
       "\t<li>\"avez\"</li>\n",
       "\t<li>\"ont\"</li>\n",
       "\t<li>\"aurai\"</li>\n",
       "\t<li>\"auras\"</li>\n",
       "\t<li>\"aura\"</li>\n",
       "\t<li>\"aurons\"</li>\n",
       "\t<li>\"aurez\"</li>\n",
       "\t<li>\"auront\"</li>\n",
       "\t<li>\"aurais\"</li>\n",
       "\t<li>\"aurait\"</li>\n",
       "\t<li>\"aurions\"</li>\n",
       "\t<li>\"auriez\"</li>\n",
       "\t<li>\"auraient\"</li>\n",
       "\t<li>\"avais\"</li>\n",
       "\t<li>\"avait\"</li>\n",
       "\t<li>\"avions\"</li>\n",
       "\t<li>\"aviez\"</li>\n",
       "\t<li>\"avaient\"</li>\n",
       "\t<li>\"eut\"</li>\n",
       "\t<li>\"eûmes\"</li>\n",
       "\t<li>\"eûtes\"</li>\n",
       "\t<li>\"eurent\"</li>\n",
       "\t<li>\"aie\"</li>\n",
       "\t<li>\"aies\"</li>\n",
       "\t<li>\"ait\"</li>\n",
       "\t<li>\"ayons\"</li>\n",
       "\t<li>\"ayez\"</li>\n",
       "\t<li>\"aient\"</li>\n",
       "\t<li>\"eusse\"</li>\n",
       "\t<li>\"eusses\"</li>\n",
       "\t<li>\"eût\"</li>\n",
       "\t<li>\"eussions\"</li>\n",
       "\t<li>\"eussiez\"</li>\n",
       "\t<li>\"eussent\"</li>\n",
       "\t<li>\"ceci\"</li>\n",
       "\t<li>\"cela\"</li>\n",
       "\t<li>\"celà\"</li>\n",
       "\t<li>\"cet\"</li>\n",
       "\t<li>\"cette\"</li>\n",
       "\t<li>\"ici\"</li>\n",
       "\t<li>\"ils\"</li>\n",
       "\t<li>\"les\"</li>\n",
       "\t<li>\"leurs\"</li>\n",
       "\t<li>\"quel\"</li>\n",
       "\t<li>\"quels\"</li>\n",
       "\t<li>\"quelle\"</li>\n",
       "\t<li>\"quelles\"</li>\n",
       "\t<li>\"sans\"</li>\n",
       "\t<li>\"soi\"</li>\n",
       "</ol>\n"
      ],
      "text/latex": [
       "\\begin{enumerate*}\n",
       "\\item \"au\"\n",
       "\\item \"aux\"\n",
       "\\item \"avec\"\n",
       "\\item \"ce\"\n",
       "\\item \"ces\"\n",
       "\\item \"dans\"\n",
       "\\item \"de\"\n",
       "\\item \"des\"\n",
       "\\item \"du\"\n",
       "\\item \"elle\"\n",
       "\\item \"en\"\n",
       "\\item \"et\"\n",
       "\\item \"eux\"\n",
       "\\item \"il\"\n",
       "\\item \"je\"\n",
       "\\item \"la\"\n",
       "\\item \"le\"\n",
       "\\item \"leur\"\n",
       "\\item \"lui\"\n",
       "\\item \"ma\"\n",
       "\\item \"mais\"\n",
       "\\item \"me\"\n",
       "\\item \"même\"\n",
       "\\item \"mes\"\n",
       "\\item \"moi\"\n",
       "\\item \"mon\"\n",
       "\\item \"ne\"\n",
       "\\item \"nos\"\n",
       "\\item \"notre\"\n",
       "\\item \"nous\"\n",
       "\\item \"on\"\n",
       "\\item \"ou\"\n",
       "\\item \"par\"\n",
       "\\item \"pas\"\n",
       "\\item \"pour\"\n",
       "\\item \"qu\"\n",
       "\\item \"que\"\n",
       "\\item \"qui\"\n",
       "\\item \"sa\"\n",
       "\\item \"se\"\n",
       "\\item \"ses\"\n",
       "\\item \"son\"\n",
       "\\item \"sur\"\n",
       "\\item \"ta\"\n",
       "\\item \"te\"\n",
       "\\item \"tes\"\n",
       "\\item \"toi\"\n",
       "\\item \"ton\"\n",
       "\\item \"tu\"\n",
       "\\item \"un\"\n",
       "\\item \"une\"\n",
       "\\item \"vos\"\n",
       "\\item \"votre\"\n",
       "\\item \"vous\"\n",
       "\\item \"c\"\n",
       "\\item \"d\"\n",
       "\\item \"j\"\n",
       "\\item \"l\"\n",
       "\\item \"à\"\n",
       "\\item \"m\"\n",
       "\\item \"n\"\n",
       "\\item \"s\"\n",
       "\\item \"t\"\n",
       "\\item \"y\"\n",
       "\\item \"été\"\n",
       "\\item \"étée\"\n",
       "\\item \"étées\"\n",
       "\\item \"étés\"\n",
       "\\item \"étant\"\n",
       "\\item \"suis\"\n",
       "\\item \"es\"\n",
       "\\item \"est\"\n",
       "\\item \"sommes\"\n",
       "\\item \"êtes\"\n",
       "\\item \"sont\"\n",
       "\\item \"serai\"\n",
       "\\item \"seras\"\n",
       "\\item \"sera\"\n",
       "\\item \"serons\"\n",
       "\\item \"serez\"\n",
       "\\item \"seront\"\n",
       "\\item \"serais\"\n",
       "\\item \"serait\"\n",
       "\\item \"serions\"\n",
       "\\item \"seriez\"\n",
       "\\item \"seraient\"\n",
       "\\item \"étais\"\n",
       "\\item \"était\"\n",
       "\\item \"étions\"\n",
       "\\item \"étiez\"\n",
       "\\item \"étaient\"\n",
       "\\item \"fus\"\n",
       "\\item \"fut\"\n",
       "\\item \"fûmes\"\n",
       "\\item \"fûtes\"\n",
       "\\item \"furent\"\n",
       "\\item \"sois\"\n",
       "\\item \"soit\"\n",
       "\\item \"soyons\"\n",
       "\\item \"soyez\"\n",
       "\\item \"soient\"\n",
       "\\item \"fusse\"\n",
       "\\item \"fusses\"\n",
       "\\item \"fût\"\n",
       "\\item \"fussions\"\n",
       "\\item \"fussiez\"\n",
       "\\item \"fussent\"\n",
       "\\item \"ayant\"\n",
       "\\item \"eu\"\n",
       "\\item \"eue\"\n",
       "\\item \"eues\"\n",
       "\\item \"eus\"\n",
       "\\item \"ai\"\n",
       "\\item \"as\"\n",
       "\\item \"avons\"\n",
       "\\item \"avez\"\n",
       "\\item \"ont\"\n",
       "\\item \"aurai\"\n",
       "\\item \"auras\"\n",
       "\\item \"aura\"\n",
       "\\item \"aurons\"\n",
       "\\item \"aurez\"\n",
       "\\item \"auront\"\n",
       "\\item \"aurais\"\n",
       "\\item \"aurait\"\n",
       "\\item \"aurions\"\n",
       "\\item \"auriez\"\n",
       "\\item \"auraient\"\n",
       "\\item \"avais\"\n",
       "\\item \"avait\"\n",
       "\\item \"avions\"\n",
       "\\item \"aviez\"\n",
       "\\item \"avaient\"\n",
       "\\item \"eut\"\n",
       "\\item \"eûmes\"\n",
       "\\item \"eûtes\"\n",
       "\\item \"eurent\"\n",
       "\\item \"aie\"\n",
       "\\item \"aies\"\n",
       "\\item \"ait\"\n",
       "\\item \"ayons\"\n",
       "\\item \"ayez\"\n",
       "\\item \"aient\"\n",
       "\\item \"eusse\"\n",
       "\\item \"eusses\"\n",
       "\\item \"eût\"\n",
       "\\item \"eussions\"\n",
       "\\item \"eussiez\"\n",
       "\\item \"eussent\"\n",
       "\\item \"ceci\"\n",
       "\\item \"cela\"\n",
       "\\item \"celà\"\n",
       "\\item \"cet\"\n",
       "\\item \"cette\"\n",
       "\\item \"ici\"\n",
       "\\item \"ils\"\n",
       "\\item \"les\"\n",
       "\\item \"leurs\"\n",
       "\\item \"quel\"\n",
       "\\item \"quels\"\n",
       "\\item \"quelle\"\n",
       "\\item \"quelles\"\n",
       "\\item \"sans\"\n",
       "\\item \"soi\"\n",
       "\\end{enumerate*}\n"
      ],
      "text/markdown": [
       "1. \"au\"\n",
       "2. \"aux\"\n",
       "3. \"avec\"\n",
       "4. \"ce\"\n",
       "5. \"ces\"\n",
       "6. \"dans\"\n",
       "7. \"de\"\n",
       "8. \"des\"\n",
       "9. \"du\"\n",
       "10. \"elle\"\n",
       "11. \"en\"\n",
       "12. \"et\"\n",
       "13. \"eux\"\n",
       "14. \"il\"\n",
       "15. \"je\"\n",
       "16. \"la\"\n",
       "17. \"le\"\n",
       "18. \"leur\"\n",
       "19. \"lui\"\n",
       "20. \"ma\"\n",
       "21. \"mais\"\n",
       "22. \"me\"\n",
       "23. \"même\"\n",
       "24. \"mes\"\n",
       "25. \"moi\"\n",
       "26. \"mon\"\n",
       "27. \"ne\"\n",
       "28. \"nos\"\n",
       "29. \"notre\"\n",
       "30. \"nous\"\n",
       "31. \"on\"\n",
       "32. \"ou\"\n",
       "33. \"par\"\n",
       "34. \"pas\"\n",
       "35. \"pour\"\n",
       "36. \"qu\"\n",
       "37. \"que\"\n",
       "38. \"qui\"\n",
       "39. \"sa\"\n",
       "40. \"se\"\n",
       "41. \"ses\"\n",
       "42. \"son\"\n",
       "43. \"sur\"\n",
       "44. \"ta\"\n",
       "45. \"te\"\n",
       "46. \"tes\"\n",
       "47. \"toi\"\n",
       "48. \"ton\"\n",
       "49. \"tu\"\n",
       "50. \"un\"\n",
       "51. \"une\"\n",
       "52. \"vos\"\n",
       "53. \"votre\"\n",
       "54. \"vous\"\n",
       "55. \"c\"\n",
       "56. \"d\"\n",
       "57. \"j\"\n",
       "58. \"l\"\n",
       "59. \"à\"\n",
       "60. \"m\"\n",
       "61. \"n\"\n",
       "62. \"s\"\n",
       "63. \"t\"\n",
       "64. \"y\"\n",
       "65. \"été\"\n",
       "66. \"étée\"\n",
       "67. \"étées\"\n",
       "68. \"étés\"\n",
       "69. \"étant\"\n",
       "70. \"suis\"\n",
       "71. \"es\"\n",
       "72. \"est\"\n",
       "73. \"sommes\"\n",
       "74. \"êtes\"\n",
       "75. \"sont\"\n",
       "76. \"serai\"\n",
       "77. \"seras\"\n",
       "78. \"sera\"\n",
       "79. \"serons\"\n",
       "80. \"serez\"\n",
       "81. \"seront\"\n",
       "82. \"serais\"\n",
       "83. \"serait\"\n",
       "84. \"serions\"\n",
       "85. \"seriez\"\n",
       "86. \"seraient\"\n",
       "87. \"étais\"\n",
       "88. \"était\"\n",
       "89. \"étions\"\n",
       "90. \"étiez\"\n",
       "91. \"étaient\"\n",
       "92. \"fus\"\n",
       "93. \"fut\"\n",
       "94. \"fûmes\"\n",
       "95. \"fûtes\"\n",
       "96. \"furent\"\n",
       "97. \"sois\"\n",
       "98. \"soit\"\n",
       "99. \"soyons\"\n",
       "100. \"soyez\"\n",
       "101. \"soient\"\n",
       "102. \"fusse\"\n",
       "103. \"fusses\"\n",
       "104. \"fût\"\n",
       "105. \"fussions\"\n",
       "106. \"fussiez\"\n",
       "107. \"fussent\"\n",
       "108. \"ayant\"\n",
       "109. \"eu\"\n",
       "110. \"eue\"\n",
       "111. \"eues\"\n",
       "112. \"eus\"\n",
       "113. \"ai\"\n",
       "114. \"as\"\n",
       "115. \"avons\"\n",
       "116. \"avez\"\n",
       "117. \"ont\"\n",
       "118. \"aurai\"\n",
       "119. \"auras\"\n",
       "120. \"aura\"\n",
       "121. \"aurons\"\n",
       "122. \"aurez\"\n",
       "123. \"auront\"\n",
       "124. \"aurais\"\n",
       "125. \"aurait\"\n",
       "126. \"aurions\"\n",
       "127. \"auriez\"\n",
       "128. \"auraient\"\n",
       "129. \"avais\"\n",
       "130. \"avait\"\n",
       "131. \"avions\"\n",
       "132. \"aviez\"\n",
       "133. \"avaient\"\n",
       "134. \"eut\"\n",
       "135. \"eûmes\"\n",
       "136. \"eûtes\"\n",
       "137. \"eurent\"\n",
       "138. \"aie\"\n",
       "139. \"aies\"\n",
       "140. \"ait\"\n",
       "141. \"ayons\"\n",
       "142. \"ayez\"\n",
       "143. \"aient\"\n",
       "144. \"eusse\"\n",
       "145. \"eusses\"\n",
       "146. \"eût\"\n",
       "147. \"eussions\"\n",
       "148. \"eussiez\"\n",
       "149. \"eussent\"\n",
       "150. \"ceci\"\n",
       "151. \"cela\"\n",
       "152. \"celà\"\n",
       "153. \"cet\"\n",
       "154. \"cette\"\n",
       "155. \"ici\"\n",
       "156. \"ils\"\n",
       "157. \"les\"\n",
       "158. \"leurs\"\n",
       "159. \"quel\"\n",
       "160. \"quels\"\n",
       "161. \"quelle\"\n",
       "162. \"quelles\"\n",
       "163. \"sans\"\n",
       "164. \"soi\"\n",
       "\n",
       "\n"
      ],
      "text/plain": [
       "  [1] \"au\"       \"aux\"      \"avec\"     \"ce\"       \"ces\"      \"dans\"    \n",
       "  [7] \"de\"       \"des\"      \"du\"       \"elle\"     \"en\"       \"et\"      \n",
       " [13] \"eux\"      \"il\"       \"je\"       \"la\"       \"le\"       \"leur\"    \n",
       " [19] \"lui\"      \"ma\"       \"mais\"     \"me\"       \"meme\"     \"mes\"     \n",
       " [25] \"moi\"      \"mon\"      \"ne\"       \"nos\"      \"notre\"    \"nous\"    \n",
       " [31] \"on\"       \"ou\"       \"par\"      \"pas\"      \"pour\"     \"qu\"      \n",
       " [37] \"que\"      \"qui\"      \"sa\"       \"se\"       \"ses\"      \"son\"     \n",
       " [43] \"sur\"      \"ta\"       \"te\"       \"tes\"      \"toi\"      \"ton\"     \n",
       " [49] \"tu\"       \"un\"       \"une\"      \"vos\"      \"votre\"    \"vous\"    \n",
       " [55] \"c\"        \"d\"        \"j\"        \"l\"        \"a\"        \"m\"       \n",
       " [61] \"n\"        \"s\"        \"t\"        \"y\"        \"ete\"      \"etee\"    \n",
       " [67] \"etees\"    \"etes\"     \"etant\"    \"suis\"     \"es\"       \"est\"     \n",
       " [73] \"sommes\"   \"etes\"     \"sont\"     \"serai\"    \"seras\"    \"sera\"    \n",
       " [79] \"serons\"   \"serez\"    \"seront\"   \"serais\"   \"serait\"   \"serions\" \n",
       " [85] \"seriez\"   \"seraient\" \"etais\"    \"etait\"    \"etions\"   \"etiez\"   \n",
       " [91] \"etaient\"  \"fus\"      \"fut\"      \"fumes\"    \"futes\"    \"furent\"  \n",
       " [97] \"sois\"     \"soit\"     \"soyons\"   \"soyez\"    \"soient\"   \"fusse\"   \n",
       "[103] \"fusses\"   \"fut\"      \"fussions\" \"fussiez\"  \"fussent\"  \"ayant\"   \n",
       "[109] \"eu\"       \"eue\"      \"eues\"     \"eus\"      \"ai\"       \"as\"      \n",
       "[115] \"avons\"    \"avez\"     \"ont\"      \"aurai\"    \"auras\"    \"aura\"    \n",
       "[121] \"aurons\"   \"aurez\"    \"auront\"   \"aurais\"   \"aurait\"   \"aurions\" \n",
       "[127] \"auriez\"   \"auraient\" \"avais\"    \"avait\"    \"avions\"   \"aviez\"   \n",
       "[133] \"avaient\"  \"eut\"      \"eumes\"    \"eutes\"    \"eurent\"   \"aie\"     \n",
       "[139] \"aies\"     \"ait\"      \"ayons\"    \"ayez\"     \"aient\"    \"eusse\"   \n",
       "[145] \"eusses\"   \"eut\"      \"eussions\" \"eussiez\"  \"eussent\"  \"ceci\"    \n",
       "[151] \"cela\"     \"cela\"     \"cet\"      \"cette\"    \"ici\"      \"ils\"     \n",
       "[157] \"les\"      \"leurs\"    \"quel\"     \"quels\"    \"quelle\"   \"quelles\" \n",
       "[163] \"sans\"     \"soi\"     "
      ]
     },
     "metadata": {},
     "output_type": "display_data"
    }
   ],
   "source": [
    "stopwords('fr') # 프랑스어"
   ]
  },
  {
   "cell_type": "markdown",
   "metadata": {},
   "source": [
    "- 한국어는 없다.... 직접만들어야 한다. "
   ]
  },
  {
   "cell_type": "code",
   "execution_count": 56,
   "metadata": {
    "collapsed": false
   },
   "outputs": [
    {
     "data": {
      "text/html": [
       "<table>\n",
       "<thead><tr><th></th><th scope=col>1</th><th scope=col>2</th></tr></thead>\n",
       "<tbody>\n",
       "\t<tr><th scope=row>a</th><td>1</td><td>0</td></tr>\n",
       "\t<tr><th scope=row>banana</th><td>1</td><td>0</td></tr>\n",
       "\t<tr><th scope=row>is</th><td>1</td><td>1</td></tr>\n",
       "\t<tr><th scope=row>this</th><td>1</td><td>0</td></tr>\n",
       "\t<tr><th scope=row>apple</th><td>0</td><td>1</td></tr>\n",
       "\t<tr><th scope=row>that</th><td>0</td><td>1</td></tr>\n",
       "</tbody>\n",
       "</table>\n"
      ],
      "text/latex": [
       "\\begin{tabular}{r|ll}\n",
       "  & 1 & 2\\\\\n",
       "\\hline\n",
       "\ta & 1 & 0\\\\\n",
       "\tbanana & 1 & 0\\\\\n",
       "\tis & 1 & 1\\\\\n",
       "\tthis & 1 & 0\\\\\n",
       "\tapple & 0 & 1\\\\\n",
       "\tthat & 0 & 1\\\\\n",
       "\\end{tabular}\n"
      ],
      "text/markdown": [
       "1. 1\n",
       "2. 1\n",
       "3. 1\n",
       "4. 1\n",
       "5. 0\n",
       "6. 0\n",
       "7. 0\n",
       "8. 0\n",
       "9. 1\n",
       "10. 0\n",
       "11. 1\n",
       "12. 1\n",
       "\n",
       "\n"
      ],
      "text/plain": [
       "        Docs\n",
       "Terms    1 2\n",
       "  a      1 0\n",
       "  banana 1 0\n",
       "  is     1 1\n",
       "  this   1 0\n",
       "  apple  0 1\n",
       "  that   0 1"
      ]
     },
     "metadata": {},
     "output_type": "display_data"
    }
   ],
   "source": [
    "tdm <- TermDocumentMatrix(corpus, control = list(removePunctuation = T, wordLengths = c(1,Inf), stopwords = stopwords('ge')))\n",
    "# 독일어로 없앤다. \n",
    "as.matrix(tdm)"
   ]
  },
  {
   "cell_type": "code",
   "execution_count": 57,
   "metadata": {
    "collapsed": false
   },
   "outputs": [
    {
     "data": {
      "text/html": [
       "<table>\n",
       "<thead><tr><th></th><th scope=col>1</th><th scope=col>2</th></tr></thead>\n",
       "<tbody>\n",
       "\t<tr><th scope=row>banana</th><td>1</td><td>0</td></tr>\n",
       "\t<tr><th scope=row>this</th><td>1</td><td>0</td></tr>\n",
       "\t<tr><th scope=row>apple</th><td>0</td><td>1</td></tr>\n",
       "\t<tr><th scope=row>that</th><td>0</td><td>1</td></tr>\n",
       "</tbody>\n",
       "</table>\n"
      ],
      "text/latex": [
       "\\begin{tabular}{r|ll}\n",
       "  & 1 & 2\\\\\n",
       "\\hline\n",
       "\tbanana & 1 & 0\\\\\n",
       "\tthis & 1 & 0\\\\\n",
       "\tapple & 0 & 1\\\\\n",
       "\tthat & 0 & 1\\\\\n",
       "\\end{tabular}\n"
      ],
      "text/markdown": [
       "1. 1\n",
       "2. 1\n",
       "3. 0\n",
       "4. 0\n",
       "5. 0\n",
       "6. 0\n",
       "7. 1\n",
       "8. 1\n",
       "\n",
       "\n"
      ],
      "text/plain": [
       "        Docs\n",
       "Terms    1 2\n",
       "  banana 1 0\n",
       "  this   1 0\n",
       "  apple  0 1\n",
       "  that   0 1"
      ]
     },
     "metadata": {},
     "output_type": "display_data"
    }
   ],
   "source": [
    "tdm <- TermDocumentMatrix(corpus, control = list(removePunctuation = T, wordLengths = c(1,Inf), stopwords = c('a','an','is'))) \n",
    "as.matrix(tdm)"
   ]
  },
  {
   "cell_type": "markdown",
   "metadata": {},
   "source": [
    " - stopwords 목록에 제거할 단어를 작성하여 넣어주면 된다. csv파일로 작성하여 불러오면 된다. "
   ]
  },
  {
   "cell_type": "markdown",
   "metadata": {},
   "source": [
    "# 14. Co-occurrence Matrix 만들기 \n",
    " - 두 단어가 얼마나 함께 나타나는지 "
   ]
  },
  {
   "cell_type": "code",
   "execution_count": 58,
   "metadata": {
    "collapsed": false
   },
   "outputs": [
    {
     "data": {
      "text/html": [
       "<ol class=list-inline>\n",
       "\t<li>\"오늘은 영화를\"</li>\n",
       "\t<li>\"영화에는 팝콘\"</li>\n",
       "</ol>\n"
      ],
      "text/latex": [
       "\\begin{enumerate*}\n",
       "\\item \"오늘은 영화를\"\n",
       "\\item \"영화에는 팝콘\"\n",
       "\\end{enumerate*}\n"
      ],
      "text/markdown": [
       "1. \"오늘은 영화를\"\n",
       "2. \"영화에는 팝콘\"\n",
       "\n",
       "\n"
      ],
      "text/plain": [
       "[1] \"오늘은 영화를\" \"영화에는 팝콘\""
      ]
     },
     "metadata": {},
     "output_type": "display_data"
    }
   ],
   "source": [
    "texts"
   ]
  },
  {
   "cell_type": "code",
   "execution_count": 59,
   "metadata": {
    "collapsed": true
   },
   "outputs": [],
   "source": [
    "options(mc.cores=1)"
   ]
  },
  {
   "cell_type": "code",
   "execution_count": 60,
   "metadata": {
    "collapsed": true
   },
   "outputs": [],
   "source": [
    "cps <- Corpus(VectorSource(texts))"
   ]
  },
  {
   "cell_type": "code",
   "execution_count": 61,
   "metadata": {
    "collapsed": true
   },
   "outputs": [],
   "source": [
    "tdm <- TermDocumentMatrix(cps, control = list(tokenize=ko.words,wordLengths=c(1,Inf)))"
   ]
  },
  {
   "cell_type": "code",
   "execution_count": 62,
   "metadata": {
    "collapsed": false
   },
   "outputs": [],
   "source": [
    "tdm.matrix <- as.matrix(tdm)"
   ]
  },
  {
   "cell_type": "code",
   "execution_count": 63,
   "metadata": {
    "collapsed": false
   },
   "outputs": [
    {
     "data": {
      "text/html": [
       "<table>\n",
       "<thead><tr><th></th><th scope=col>영화를</th><th scope=col>오늘은</th><th scope=col>영화에는</th><th scope=col>팝콘</th></tr></thead>\n",
       "<tbody>\n",
       "\t<tr><th scope=row>영화를</th><td>1</td><td>1</td><td>0</td><td>0</td></tr>\n",
       "\t<tr><th scope=row>오늘은</th><td>1</td><td>1</td><td>0</td><td>0</td></tr>\n",
       "\t<tr><th scope=row>영화에는</th><td>0</td><td>0</td><td>1</td><td>1</td></tr>\n",
       "\t<tr><th scope=row>팝콘</th><td>0</td><td>0</td><td>1</td><td>1</td></tr>\n",
       "</tbody>\n",
       "</table>\n"
      ],
      "text/latex": [
       "\\begin{tabular}{r|llll}\n",
       "  & 영화를 & 오늘은 & 영화에는 & 팝콘\\\\\n",
       "\\hline\n",
       "\t영화를 & 1 & 1 & 0 & 0\\\\\n",
       "\t오늘은 & 1 & 1 & 0 & 0\\\\\n",
       "\t영화에는 & 0 & 0 & 1 & 1\\\\\n",
       "\t팝콘 & 0 & 0 & 1 & 1\\\\\n",
       "\\end{tabular}\n"
      ],
      "text/markdown": [
       "1. 1\n",
       "2. 1\n",
       "3. 0\n",
       "4. 0\n",
       "5. 1\n",
       "6. 1\n",
       "7. 0\n",
       "8. 0\n",
       "9. 0\n",
       "10. 0\n",
       "11. 1\n",
       "12. 1\n",
       "13. 0\n",
       "14. 0\n",
       "15. 1\n",
       "16. 1\n",
       "\n",
       "\n"
      ],
      "text/plain": [
       "          Terms\n",
       "Terms      영화를 오늘은 영화에는 팝콘\n",
       "  영화를        1      1        0    0\n",
       "  오늘은        1      1        0    0\n",
       "  영화에는      0      0        1    1\n",
       "  팝콘          0      0        1    1"
      ]
     },
     "metadata": {},
     "output_type": "display_data"
    }
   ],
   "source": [
    "tdm.matrix  %*% t(tdm.matrix ) # Co-occurrence Matrix 만들기. "
   ]
  },
  {
   "cell_type": "markdown",
   "metadata": {},
   "source": [
    " - %*% : 행렬의 곱. \n",
    " - T : Transpose "
   ]
  },
  {
   "cell_type": "markdown",
   "metadata": {},
   "source": [
    "### 크롤링 데이터로 해보기 "
   ]
  },
  {
   "cell_type": "code",
   "execution_count": 64,
   "metadata": {
    "collapsed": true
   },
   "outputs": [],
   "source": [
    "all.views <- read.csv('reviews.csv', stringsAsFactors=F)$x"
   ]
  },
  {
   "cell_type": "code",
   "execution_count": 65,
   "metadata": {
    "collapsed": true
   },
   "outputs": [],
   "source": [
    "review.corpus <- Corpus(VectorSource(all.views))"
   ]
  },
  {
   "cell_type": "markdown",
   "metadata": {},
   "source": [
    " - weighting=weightBin  단어들이 있나 없나만 보면된다. 여러번 나왔다는거는 의미가 없다. (Co-occurence Matrix에서는)"
   ]
  },
  {
   "cell_type": "code",
   "execution_count": 66,
   "metadata": {
    "collapsed": true
   },
   "outputs": [],
   "source": [
    "tdm <- TermDocumentMatrix(review.corpus, \n",
    "                          control = list(tokenize=ko.words,wordLengths=c(2,5),\n",
    "                                         removeNumbers=T, \n",
    "                                         weighting=weightBin,\n",
    "                                         removePunctuation=T))"
   ]
  },
  {
   "cell_type": "code",
   "execution_count": 67,
   "metadata": {
    "collapsed": true
   },
   "outputs": [],
   "source": [
    "tdm.matrix <- as.matrix(tdm)"
   ]
  },
  {
   "cell_type": "code",
   "execution_count": 68,
   "metadata": {
    "collapsed": false
   },
   "outputs": [
    {
     "data": {
      "text/html": [
       "<ol class=list-inline>\n",
       "\t<li>1882</li>\n",
       "\t<li>1941</li>\n",
       "</ol>\n"
      ],
      "text/latex": [
       "\\begin{enumerate*}\n",
       "\\item 1882\n",
       "\\item 1941\n",
       "\\end{enumerate*}\n"
      ],
      "text/markdown": [
       "1. 1882\n",
       "2. 1941\n",
       "\n",
       "\n"
      ],
      "text/plain": [
       "[1] 1882 1941"
      ]
     },
     "metadata": {},
     "output_type": "display_data"
    }
   ],
   "source": [
    "dim(tdm.matrix)"
   ]
  },
  {
   "cell_type": "markdown",
   "metadata": {},
   "source": [
    "### 다빈도 단어 추출."
   ]
  },
  {
   "cell_type": "code",
   "execution_count": 69,
   "metadata": {
    "collapsed": true
   },
   "outputs": [],
   "source": [
    "word.count <- rowSums(tdm.matrix)\n",
    "word.order <- order(word.count,decreasing = T)"
   ]
  },
  {
   "cell_type": "code",
   "execution_count": 70,
   "metadata": {
    "collapsed": false
   },
   "outputs": [
    {
     "data": {
      "text/html": [
       "<ol class=list-inline>\n",
       "\t<li>78</li>\n",
       "\t<li>57</li>\n",
       "\t<li>51</li>\n",
       "\t<li>49</li>\n",
       "\t<li>124</li>\n",
       "\t<li>175</li>\n",
       "\t<li>284</li>\n",
       "\t<li>152</li>\n",
       "\t<li>59</li>\n",
       "\t<li>183</li>\n",
       "\t<li>44</li>\n",
       "\t<li>119</li>\n",
       "\t<li>14</li>\n",
       "\t<li>37</li>\n",
       "\t<li>8</li>\n",
       "\t<li>26</li>\n",
       "\t<li>350</li>\n",
       "\t<li>67</li>\n",
       "\t<li>4</li>\n",
       "\t<li>353</li>\n",
       "</ol>\n"
      ],
      "text/latex": [
       "\\begin{enumerate*}\n",
       "\\item 78\n",
       "\\item 57\n",
       "\\item 51\n",
       "\\item 49\n",
       "\\item 124\n",
       "\\item 175\n",
       "\\item 284\n",
       "\\item 152\n",
       "\\item 59\n",
       "\\item 183\n",
       "\\item 44\n",
       "\\item 119\n",
       "\\item 14\n",
       "\\item 37\n",
       "\\item 8\n",
       "\\item 26\n",
       "\\item 350\n",
       "\\item 67\n",
       "\\item 4\n",
       "\\item 353\n",
       "\\end{enumerate*}\n"
      ],
      "text/markdown": [
       "1. 78\n",
       "2. 57\n",
       "3. 51\n",
       "4. 49\n",
       "5. 124\n",
       "6. 175\n",
       "7. 284\n",
       "8. 152\n",
       "9. 59\n",
       "10. 183\n",
       "11. 44\n",
       "12. 119\n",
       "13. 14\n",
       "14. 37\n",
       "15. 8\n",
       "16. 26\n",
       "17. 350\n",
       "18. 67\n",
       "19. 4\n",
       "20. 353\n",
       "\n",
       "\n"
      ],
      "text/plain": [
       " [1]  78  57  51  49 124 175 284 152  59 183  44 119  14  37   8  26 350  67   4\n",
       "[20] 353"
      ]
     },
     "metadata": {},
     "output_type": "display_data"
    }
   ],
   "source": [
    "word.order[1:20]"
   ]
  },
  {
   "cell_type": "code",
   "execution_count": 71,
   "metadata": {
    "collapsed": false
   },
   "outputs": [
    {
     "data": {
      "text/html": [
       "<ol class=list-inline>\n",
       "\t<li>\"영화\"</li>\n",
       "\t<li>\"정말\"</li>\n",
       "\t<li>\"너무\"</li>\n",
       "\t<li>\"그냥\"</li>\n",
       "\t<li>\"진짜\"</li>\n",
       "\t<li>\"좀\"</li>\n",
       "\t<li>\"헐크\"</li>\n",
       "\t<li>\"ㅋㅋ\"</li>\n",
       "\t<li>\"더\"</li>\n",
       "\t<li>\"완전\"</li>\n",
       "\t<li>\"잘\"</li>\n",
       "\t<li>\"최고\"</li>\n",
       "\t<li>\"이\"</li>\n",
       "\t<li>\"다\"</li>\n",
       "\t<li>\"역시\"</li>\n",
       "\t<li>\"액션\"</li>\n",
       "\t<li>\"점\"</li>\n",
       "\t<li>\"보고\"</li>\n",
       "\t<li>\"수\"</li>\n",
       "\t<li>\"ㅋ\"</li>\n",
       "</ol>\n"
      ],
      "text/latex": [
       "\\begin{enumerate*}\n",
       "\\item \"영화\"\n",
       "\\item \"정말\"\n",
       "\\item \"너무\"\n",
       "\\item \"그냥\"\n",
       "\\item \"진짜\"\n",
       "\\item \"좀\"\n",
       "\\item \"헐크\"\n",
       "\\item \"ㅋㅋ\"\n",
       "\\item \"더\"\n",
       "\\item \"완전\"\n",
       "\\item \"잘\"\n",
       "\\item \"최고\"\n",
       "\\item \"이\"\n",
       "\\item \"다\"\n",
       "\\item \"역시\"\n",
       "\\item \"액션\"\n",
       "\\item \"점\"\n",
       "\\item \"보고\"\n",
       "\\item \"수\"\n",
       "\\item \"ㅋ\"\n",
       "\\end{enumerate*}\n"
      ],
      "text/markdown": [
       "1. \"영화\"\n",
       "2. \"정말\"\n",
       "3. \"너무\"\n",
       "4. \"그냥\"\n",
       "5. \"진짜\"\n",
       "6. \"좀\"\n",
       "7. \"헐크\"\n",
       "8. \"ㅋㅋ\"\n",
       "9. \"더\"\n",
       "10. \"완전\"\n",
       "11. \"잘\"\n",
       "12. \"최고\"\n",
       "13. \"이\"\n",
       "14. \"다\"\n",
       "15. \"역시\"\n",
       "16. \"액션\"\n",
       "17. \"점\"\n",
       "18. \"보고\"\n",
       "19. \"수\"\n",
       "20. \"ㅋ\"\n",
       "\n",
       "\n"
      ],
      "text/plain": [
       " [1] \"영화\" \"정말\" \"너무\" \"그냥\" \"진짜\" \"좀\"   \"헐크\" \"ㅋㅋ\" \"더\"   \"완전\"\n",
       "[11] \"잘\"   \"최고\" \"이\"   \"다\"   \"역시\" \"액션\" \"점\"   \"보고\" \"수\"   \"ㅋ\"  "
      ]
     },
     "metadata": {},
     "output_type": "display_data"
    }
   ],
   "source": [
    "rownames(tdm.matrix)[word.order[1:20]]"
   ]
  },
  {
   "cell_type": "code",
   "execution_count": 72,
   "metadata": {
    "collapsed": false
   },
   "outputs": [],
   "source": [
    "freq.words <- tdm.matrix[word.order[1:20],]"
   ]
  },
  {
   "cell_type": "code",
   "execution_count": 73,
   "metadata": {
    "collapsed": false
   },
   "outputs": [
    {
     "data": {
      "text/html": [
       "<ol class=list-inline>\n",
       "\t<li>20</li>\n",
       "\t<li>1941</li>\n",
       "</ol>\n"
      ],
      "text/latex": [
       "\\begin{enumerate*}\n",
       "\\item 20\n",
       "\\item 1941\n",
       "\\end{enumerate*}\n"
      ],
      "text/markdown": [
       "1. 20\n",
       "2. 1941\n",
       "\n",
       "\n"
      ],
      "text/plain": [
       "[1]   20 1941"
      ]
     },
     "metadata": {},
     "output_type": "display_data"
    }
   ],
   "source": [
    "dim(freq.words)"
   ]
  },
  {
   "cell_type": "code",
   "execution_count": 74,
   "metadata": {
    "collapsed": true
   },
   "outputs": [],
   "source": [
    "cooccur <- freq.words %*% t(freq.words)"
   ]
  },
  {
   "cell_type": "code",
   "execution_count": 75,
   "metadata": {
    "collapsed": false
   },
   "outputs": [
    {
     "data": {
      "text/html": [
       "<table>\n",
       "<thead><tr><th></th><th scope=col>영화</th><th scope=col>정말</th><th scope=col>너무</th><th scope=col>그냥</th><th scope=col>진짜</th><th scope=col>좀</th><th scope=col>헐크</th><th scope=col>ㅋㅋ</th><th scope=col>더</th><th scope=col>완전</th><th scope=col>잘</th><th scope=col>최고</th><th scope=col>이</th><th scope=col>다</th><th scope=col>역시</th><th scope=col>액션</th><th scope=col>점</th><th scope=col>보고</th><th scope=col>수</th><th scope=col>ㅋ</th></tr></thead>\n",
       "<tbody>\n",
       "\t<tr><th scope=row>영화</th><td>235</td><td> 26</td><td> 18</td><td> 15</td><td> 12</td><td>  9</td><td> 10</td><td> 12</td><td> 18</td><td> 10</td><td> 22</td><td>  5</td><td> 16</td><td> 12</td><td>  7</td><td> 10</td><td> 13</td><td> 10</td><td> 16</td><td>  4</td></tr>\n",
       "\t<tr><th scope=row>정말</th><td> 26</td><td>148</td><td> 16</td><td>  8</td><td> 12</td><td> 11</td><td> 11</td><td>  6</td><td> 10</td><td>  9</td><td> 11</td><td>  6</td><td>  7</td><td>  9</td><td>  9</td><td>  6</td><td> 10</td><td>  7</td><td>  8</td><td>  2</td></tr>\n",
       "\t<tr><th scope=row>너무</th><td> 18</td><td> 16</td><td>126</td><td> 15</td><td> 12</td><td>  5</td><td>  5</td><td> 10</td><td>  9</td><td>  9</td><td> 11</td><td>  4</td><td>  2</td><td>  8</td><td>  6</td><td>  5</td><td>  4</td><td>  3</td><td>  3</td><td>  4</td></tr>\n",
       "\t<tr><th scope=row>그냥</th><td>15</td><td> 8</td><td>15</td><td>94</td><td> 2</td><td> 9</td><td> 8</td><td> 6</td><td> 4</td><td> 6</td><td> 5</td><td> 3</td><td> 4</td><td> 6</td><td> 1</td><td> 6</td><td> 6</td><td> 1</td><td> 3</td><td> 2</td></tr>\n",
       "\t<tr><th scope=row>진짜</th><td>12</td><td>12</td><td>12</td><td> 2</td><td>94</td><td> 7</td><td> 2</td><td> 5</td><td>10</td><td> 7</td><td> 6</td><td> 6</td><td> 4</td><td> 8</td><td> 4</td><td> 2</td><td> 3</td><td> 8</td><td> 2</td><td> 1</td></tr>\n",
       "\t<tr><th scope=row>좀</th><td> 9</td><td>11</td><td> 5</td><td> 9</td><td> 7</td><td>91</td><td> 7</td><td> 3</td><td> 6</td><td> 3</td><td> 4</td><td> 1</td><td> 2</td><td> 3</td><td> 3</td><td> 9</td><td> 7</td><td> 8</td><td> 2</td><td> 5</td></tr>\n",
       "\t<tr><th scope=row>헐크</th><td>10</td><td>11</td><td> 5</td><td> 8</td><td> 2</td><td> 7</td><td>91</td><td>13</td><td> 4</td><td> 6</td><td> 6</td><td> 7</td><td> 7</td><td> 5</td><td> 1</td><td> 3</td><td> 3</td><td> 5</td><td> 2</td><td> 2</td></tr>\n",
       "\t<tr><th scope=row>ㅋㅋ</th><td>12</td><td> 6</td><td>10</td><td> 6</td><td> 5</td><td> 3</td><td>13</td><td>85</td><td> 4</td><td> 6</td><td> 3</td><td> 6</td><td> 5</td><td> 5</td><td> 3</td><td> 5</td><td> 1</td><td> 2</td><td> 2</td><td> 5</td></tr>\n",
       "\t<tr><th scope=row>더</th><td>18</td><td>10</td><td> 9</td><td> 4</td><td>10</td><td> 6</td><td> 4</td><td> 4</td><td>73</td><td> 1</td><td> 3</td><td> 1</td><td> 6</td><td> 7</td><td> 3</td><td> 1</td><td> 2</td><td>10</td><td> 3</td><td> 2</td></tr>\n",
       "\t<tr><th scope=row>완전</th><td>10</td><td> 9</td><td> 9</td><td> 6</td><td> 7</td><td> 3</td><td> 6</td><td> 6</td><td> 1</td><td>73</td><td> 3</td><td> 5</td><td> 1</td><td> 4</td><td> 3</td><td> 2</td><td> 4</td><td> 6</td><td> 1</td><td> 7</td></tr>\n",
       "\t<tr><th scope=row>잘</th><td>22</td><td>11</td><td>11</td><td> 5</td><td> 6</td><td> 4</td><td> 6</td><td> 3</td><td> 3</td><td> 3</td><td>72</td><td> 4</td><td> 5</td><td> 8</td><td> 3</td><td> 3</td><td> 0</td><td> 7</td><td> 3</td><td> 2</td></tr>\n",
       "\t<tr><th scope=row>최고</th><td> 5</td><td> 6</td><td> 4</td><td> 3</td><td> 6</td><td> 1</td><td> 7</td><td> 6</td><td> 1</td><td> 5</td><td> 4</td><td>67</td><td> 3</td><td> 5</td><td> 4</td><td> 4</td><td> 0</td><td> 3</td><td> 2</td><td> 1</td></tr>\n",
       "\t<tr><th scope=row>이</th><td>16</td><td> 7</td><td> 2</td><td> 4</td><td> 4</td><td> 2</td><td> 7</td><td> 5</td><td> 6</td><td> 1</td><td> 5</td><td> 3</td><td>65</td><td> 3</td><td> 2</td><td> 5</td><td> 6</td><td> 3</td><td> 3</td><td> 1</td></tr>\n",
       "\t<tr><th scope=row>다</th><td>12</td><td> 9</td><td> 8</td><td> 6</td><td> 8</td><td> 3</td><td> 5</td><td> 5</td><td> 7</td><td> 4</td><td> 8</td><td> 5</td><td> 3</td><td>63</td><td> 2</td><td> 3</td><td> 4</td><td> 4</td><td> 1</td><td> 2</td></tr>\n",
       "\t<tr><th scope=row>역시</th><td> 7</td><td> 9</td><td> 6</td><td> 1</td><td> 4</td><td> 3</td><td> 1</td><td> 3</td><td> 3</td><td> 3</td><td> 3</td><td> 4</td><td> 2</td><td> 2</td><td>59</td><td> 5</td><td> 1</td><td> 2</td><td> 2</td><td> 4</td></tr>\n",
       "\t<tr><th scope=row>액션</th><td>10</td><td> 6</td><td> 5</td><td> 6</td><td> 2</td><td> 9</td><td> 3</td><td> 5</td><td> 1</td><td> 2</td><td> 3</td><td> 4</td><td> 5</td><td> 3</td><td> 5</td><td>57</td><td> 3</td><td> 2</td><td> 5</td><td> 2</td></tr>\n",
       "\t<tr><th scope=row>점</th><td>13</td><td>10</td><td> 4</td><td> 6</td><td> 3</td><td> 7</td><td> 3</td><td> 1</td><td> 2</td><td> 4</td><td> 0</td><td> 0</td><td> 6</td><td> 4</td><td> 1</td><td> 3</td><td>55</td><td> 7</td><td> 2</td><td> 1</td></tr>\n",
       "\t<tr><th scope=row>보고</th><td>10</td><td> 7</td><td> 3</td><td> 1</td><td> 8</td><td> 8</td><td> 5</td><td> 2</td><td>10</td><td> 6</td><td> 7</td><td> 3</td><td> 3</td><td> 4</td><td> 2</td><td> 2</td><td> 7</td><td>53</td><td> 3</td><td> 0</td></tr>\n",
       "\t<tr><th scope=row>수</th><td>16</td><td> 8</td><td> 3</td><td> 3</td><td> 2</td><td> 2</td><td> 2</td><td> 2</td><td> 3</td><td> 1</td><td> 3</td><td> 2</td><td> 3</td><td> 1</td><td> 2</td><td> 5</td><td> 2</td><td> 3</td><td>49</td><td> 2</td></tr>\n",
       "\t<tr><th scope=row>ㅋ</th><td> 4</td><td> 2</td><td> 4</td><td> 2</td><td> 1</td><td> 5</td><td> 2</td><td> 5</td><td> 2</td><td> 7</td><td> 2</td><td> 1</td><td> 1</td><td> 2</td><td> 4</td><td> 2</td><td> 1</td><td> 0</td><td> 2</td><td>49</td></tr>\n",
       "</tbody>\n",
       "</table>\n"
      ],
      "text/latex": [
       "\\begin{tabular}{r|llllllllllllllllllll}\n",
       "  & 영화 & 정말 & 너무 & 그냥 & 진짜 & 좀 & 헐크 & ㅋㅋ & 더 & 완전 & 잘 & 최고 & 이 & 다 & 역시 & 액션 & 점 & 보고 & 수 & ㅋ\\\\\n",
       "\\hline\n",
       "\t영화 & 235 &  26 &  18 &  15 &  12 &   9 &  10 &  12 &  18 &  10 &  22 &   5 &  16 &  12 &   7 &  10 &  13 &  10 &  16 &   4\\\\\n",
       "\t정말 &  26 & 148 &  16 &   8 &  12 &  11 &  11 &   6 &  10 &   9 &  11 &   6 &   7 &   9 &   9 &   6 &  10 &   7 &   8 &   2\\\\\n",
       "\t너무 &  18 &  16 & 126 &  15 &  12 &   5 &   5 &  10 &   9 &   9 &  11 &   4 &   2 &   8 &   6 &   5 &   4 &   3 &   3 &   4\\\\\n",
       "\t그냥 & 15 &  8 & 15 & 94 &  2 &  9 &  8 &  6 &  4 &  6 &  5 &  3 &  4 &  6 &  1 &  6 &  6 &  1 &  3 &  2\\\\\n",
       "\t진짜 & 12 & 12 & 12 &  2 & 94 &  7 &  2 &  5 & 10 &  7 &  6 &  6 &  4 &  8 &  4 &  2 &  3 &  8 &  2 &  1\\\\\n",
       "\t좀 &  9 & 11 &  5 &  9 &  7 & 91 &  7 &  3 &  6 &  3 &  4 &  1 &  2 &  3 &  3 &  9 &  7 &  8 &  2 &  5\\\\\n",
       "\t헐크 & 10 & 11 &  5 &  8 &  2 &  7 & 91 & 13 &  4 &  6 &  6 &  7 &  7 &  5 &  1 &  3 &  3 &  5 &  2 &  2\\\\\n",
       "\tㅋㅋ & 12 &  6 & 10 &  6 &  5 &  3 & 13 & 85 &  4 &  6 &  3 &  6 &  5 &  5 &  3 &  5 &  1 &  2 &  2 &  5\\\\\n",
       "\t더 & 18 & 10 &  9 &  4 & 10 &  6 &  4 &  4 & 73 &  1 &  3 &  1 &  6 &  7 &  3 &  1 &  2 & 10 &  3 &  2\\\\\n",
       "\t완전 & 10 &  9 &  9 &  6 &  7 &  3 &  6 &  6 &  1 & 73 &  3 &  5 &  1 &  4 &  3 &  2 &  4 &  6 &  1 &  7\\\\\n",
       "\t잘 & 22 & 11 & 11 &  5 &  6 &  4 &  6 &  3 &  3 &  3 & 72 &  4 &  5 &  8 &  3 &  3 &  0 &  7 &  3 &  2\\\\\n",
       "\t최고 &  5 &  6 &  4 &  3 &  6 &  1 &  7 &  6 &  1 &  5 &  4 & 67 &  3 &  5 &  4 &  4 &  0 &  3 &  2 &  1\\\\\n",
       "\t이 & 16 &  7 &  2 &  4 &  4 &  2 &  7 &  5 &  6 &  1 &  5 &  3 & 65 &  3 &  2 &  5 &  6 &  3 &  3 &  1\\\\\n",
       "\t다 & 12 &  9 &  8 &  6 &  8 &  3 &  5 &  5 &  7 &  4 &  8 &  5 &  3 & 63 &  2 &  3 &  4 &  4 &  1 &  2\\\\\n",
       "\t역시 &  7 &  9 &  6 &  1 &  4 &  3 &  1 &  3 &  3 &  3 &  3 &  4 &  2 &  2 & 59 &  5 &  1 &  2 &  2 &  4\\\\\n",
       "\t액션 & 10 &  6 &  5 &  6 &  2 &  9 &  3 &  5 &  1 &  2 &  3 &  4 &  5 &  3 &  5 & 57 &  3 &  2 &  5 &  2\\\\\n",
       "\t점 & 13 & 10 &  4 &  6 &  3 &  7 &  3 &  1 &  2 &  4 &  0 &  0 &  6 &  4 &  1 &  3 & 55 &  7 &  2 &  1\\\\\n",
       "\t보고 & 10 &  7 &  3 &  1 &  8 &  8 &  5 &  2 & 10 &  6 &  7 &  3 &  3 &  4 &  2 &  2 &  7 & 53 &  3 &  0\\\\\n",
       "\t수 & 16 &  8 &  3 &  3 &  2 &  2 &  2 &  2 &  3 &  1 &  3 &  2 &  3 &  1 &  2 &  5 &  2 &  3 & 49 &  2\\\\\n",
       "\tㅋ &  4 &  2 &  4 &  2 &  1 &  5 &  2 &  5 &  2 &  7 &  2 &  1 &  1 &  2 &  4 &  2 &  1 &  0 &  2 & 49\\\\\n",
       "\\end{tabular}\n"
      ],
      "text/markdown": [
       "1. 235\n",
       "2. 26\n",
       "3. 18\n",
       "4. 15\n",
       "5. 12\n",
       "6. 9\n",
       "7. 10\n",
       "8. 12\n",
       "9. 18\n",
       "10. 10\n",
       "11. 22\n",
       "12. 5\n",
       "13. 16\n",
       "14. 12\n",
       "15. 7\n",
       "16. 10\n",
       "17. 13\n",
       "18. 10\n",
       "19. 16\n",
       "20. 4\n",
       "21. 26\n",
       "22. 148\n",
       "23. 16\n",
       "24. 8\n",
       "25. 12\n",
       "26. 11\n",
       "27. 11\n",
       "28. 6\n",
       "29. 10\n",
       "30. 9\n",
       "31. 11\n",
       "32. 6\n",
       "33. 7\n",
       "34. 9\n",
       "35. 9\n",
       "36. 6\n",
       "37. 10\n",
       "38. 7\n",
       "39. 8\n",
       "40. 2\n",
       "41. 18\n",
       "42. 16\n",
       "43. 126\n",
       "44. 15\n",
       "45. 12\n",
       "46. 5\n",
       "47. 5\n",
       "48. 10\n",
       "49. 9\n",
       "50. 9\n",
       "51. 11\n",
       "52. 4\n",
       "53. 2\n",
       "54. 8\n",
       "55. 6\n",
       "56. 5\n",
       "57. 4\n",
       "58. 3\n",
       "59. 3\n",
       "60. 4\n",
       "61. 15\n",
       "62. 8\n",
       "63. 15\n",
       "64. 94\n",
       "65. 2\n",
       "66. 9\n",
       "67. 8\n",
       "68. 6\n",
       "69. 4\n",
       "70. 6\n",
       "71. 5\n",
       "72. 3\n",
       "73. 4\n",
       "74. 6\n",
       "75. 1\n",
       "76. 6\n",
       "77. 6\n",
       "78. 1\n",
       "79. 3\n",
       "80. 2\n",
       "81. 12\n",
       "82. 12\n",
       "83. 12\n",
       "84. 2\n",
       "85. 94\n",
       "86. 7\n",
       "87. 2\n",
       "88. 5\n",
       "89. 10\n",
       "90. 7\n",
       "91. 6\n",
       "92. 6\n",
       "93. 4\n",
       "94. 8\n",
       "95. 4\n",
       "96. 2\n",
       "97. 3\n",
       "98. 8\n",
       "99. 2\n",
       "100. 1\n",
       "101. 9\n",
       "102. 11\n",
       "103. 5\n",
       "104. 9\n",
       "105. 7\n",
       "106. 91\n",
       "107. 7\n",
       "108. 3\n",
       "109. 6\n",
       "110. 3\n",
       "111. 4\n",
       "112. 1\n",
       "113. 2\n",
       "114. 3\n",
       "115. 3\n",
       "116. 9\n",
       "117. 7\n",
       "118. 8\n",
       "119. 2\n",
       "120. 5\n",
       "121. 10\n",
       "122. 11\n",
       "123. 5\n",
       "124. 8\n",
       "125. 2\n",
       "126. 7\n",
       "127. 91\n",
       "128. 13\n",
       "129. 4\n",
       "130. 6\n",
       "131. 6\n",
       "132. 7\n",
       "133. 7\n",
       "134. 5\n",
       "135. 1\n",
       "136. 3\n",
       "137. 3\n",
       "138. 5\n",
       "139. 2\n",
       "140. 2\n",
       "141. 12\n",
       "142. 6\n",
       "143. 10\n",
       "144. 6\n",
       "145. 5\n",
       "146. 3\n",
       "147. 13\n",
       "148. 85\n",
       "149. 4\n",
       "150. 6\n",
       "151. 3\n",
       "152. 6\n",
       "153. 5\n",
       "154. 5\n",
       "155. 3\n",
       "156. 5\n",
       "157. 1\n",
       "158. 2\n",
       "159. 2\n",
       "160. 5\n",
       "161. 18\n",
       "162. 10\n",
       "163. 9\n",
       "164. 4\n",
       "165. 10\n",
       "166. 6\n",
       "167. 4\n",
       "168. 4\n",
       "169. 73\n",
       "170. 1\n",
       "171. 3\n",
       "172. 1\n",
       "173. 6\n",
       "174. 7\n",
       "175. 3\n",
       "176. 1\n",
       "177. 2\n",
       "178. 10\n",
       "179. 3\n",
       "180. 2\n",
       "181. 10\n",
       "182. 9\n",
       "183. 9\n",
       "184. 6\n",
       "185. 7\n",
       "186. 3\n",
       "187. 6\n",
       "188. 6\n",
       "189. 1\n",
       "190. 73\n",
       "191. 3\n",
       "192. 5\n",
       "193. 1\n",
       "194. 4\n",
       "195. 3\n",
       "196. 2\n",
       "197. 4\n",
       "198. 6\n",
       "199. 1\n",
       "200. 7\n",
       "201. 22\n",
       "202. 11\n",
       "203. 11\n",
       "204. 5\n",
       "205. 6\n",
       "206. 4\n",
       "207. 6\n",
       "208. 3\n",
       "209. 3\n",
       "210. 3\n",
       "211. 72\n",
       "212. 4\n",
       "213. 5\n",
       "214. 8\n",
       "215. 3\n",
       "216. 3\n",
       "217. 0\n",
       "218. 7\n",
       "219. 3\n",
       "220. 2\n",
       "221. 5\n",
       "222. 6\n",
       "223. 4\n",
       "224. 3\n",
       "225. 6\n",
       "226. 1\n",
       "227. 7\n",
       "228. 6\n",
       "229. 1\n",
       "230. 5\n",
       "231. 4\n",
       "232. 67\n",
       "233. 3\n",
       "234. 5\n",
       "235. 4\n",
       "236. 4\n",
       "237. 0\n",
       "238. 3\n",
       "239. 2\n",
       "240. 1\n",
       "241. 16\n",
       "242. 7\n",
       "243. 2\n",
       "244. 4\n",
       "245. 4\n",
       "246. 2\n",
       "247. 7\n",
       "248. 5\n",
       "249. 6\n",
       "250. 1\n",
       "251. 5\n",
       "252. 3\n",
       "253. 65\n",
       "254. 3\n",
       "255. 2\n",
       "256. 5\n",
       "257. 6\n",
       "258. 3\n",
       "259. 3\n",
       "260. 1\n",
       "261. 12\n",
       "262. 9\n",
       "263. 8\n",
       "264. 6\n",
       "265. 8\n",
       "266. 3\n",
       "267. 5\n",
       "268. 5\n",
       "269. 7\n",
       "270. 4\n",
       "271. 8\n",
       "272. 5\n",
       "273. 3\n",
       "274. 63\n",
       "275. 2\n",
       "276. 3\n",
       "277. 4\n",
       "278. 4\n",
       "279. 1\n",
       "280. 2\n",
       "281. 7\n",
       "282. 9\n",
       "283. 6\n",
       "284. 1\n",
       "285. 4\n",
       "286. 3\n",
       "287. 1\n",
       "288. 3\n",
       "289. 3\n",
       "290. 3\n",
       "291. 3\n",
       "292. 4\n",
       "293. 2\n",
       "294. 2\n",
       "295. 59\n",
       "296. 5\n",
       "297. 1\n",
       "298. 2\n",
       "299. 2\n",
       "300. 4\n",
       "301. 10\n",
       "302. 6\n",
       "303. 5\n",
       "304. 6\n",
       "305. 2\n",
       "306. 9\n",
       "307. 3\n",
       "308. 5\n",
       "309. 1\n",
       "310. 2\n",
       "311. 3\n",
       "312. 4\n",
       "313. 5\n",
       "314. 3\n",
       "315. 5\n",
       "316. 57\n",
       "317. 3\n",
       "318. 2\n",
       "319. 5\n",
       "320. 2\n",
       "321. 13\n",
       "322. 10\n",
       "323. 4\n",
       "324. 6\n",
       "325. 3\n",
       "326. 7\n",
       "327. 3\n",
       "328. 1\n",
       "329. 2\n",
       "330. 4\n",
       "331. 0\n",
       "332. 0\n",
       "333. 6\n",
       "334. 4\n",
       "335. 1\n",
       "336. 3\n",
       "337. 55\n",
       "338. 7\n",
       "339. 2\n",
       "340. 1\n",
       "341. 10\n",
       "342. 7\n",
       "343. 3\n",
       "344. 1\n",
       "345. 8\n",
       "346. 8\n",
       "347. 5\n",
       "348. 2\n",
       "349. 10\n",
       "350. 6\n",
       "351. 7\n",
       "352. 3\n",
       "353. 3\n",
       "354. 4\n",
       "355. 2\n",
       "356. 2\n",
       "357. 7\n",
       "358. 53\n",
       "359. 3\n",
       "360. 0\n",
       "361. 16\n",
       "362. 8\n",
       "363. 3\n",
       "364. 3\n",
       "365. 2\n",
       "366. 2\n",
       "367. 2\n",
       "368. 2\n",
       "369. 3\n",
       "370. 1\n",
       "371. 3\n",
       "372. 2\n",
       "373. 3\n",
       "374. 1\n",
       "375. 2\n",
       "376. 5\n",
       "377. 2\n",
       "378. 3\n",
       "379. 49\n",
       "380. 2\n",
       "381. 4\n",
       "382. 2\n",
       "383. 4\n",
       "384. 2\n",
       "385. 1\n",
       "386. 5\n",
       "387. 2\n",
       "388. 5\n",
       "389. 2\n",
       "390. 7\n",
       "391. 2\n",
       "392. 1\n",
       "393. 1\n",
       "394. 2\n",
       "395. 4\n",
       "396. 2\n",
       "397. 1\n",
       "398. 0\n",
       "399. 2\n",
       "400. 49\n",
       "\n",
       "\n"
      ],
      "text/plain": [
       "      Terms\n",
       "Terms  영화 정말 너무 그냥 진짜 좀 헐크 ㅋㅋ 더 완전 잘 최고 이 다 역시 액션 점\n",
       "  영화  235   26   18   15   12  9   10   12 18   10 22    5 16 12    7   10 13\n",
       "  정말   26  148   16    8   12 11   11    6 10    9 11    6  7  9    9    6 10\n",
       "  너무   18   16  126   15   12  5    5   10  9    9 11    4  2  8    6    5  4\n",
       "  그냥   15    8   15   94    2  9    8    6  4    6  5    3  4  6    1    6  6\n",
       "  진짜   12   12   12    2   94  7    2    5 10    7  6    6  4  8    4    2  3\n",
       "  좀      9   11    5    9    7 91    7    3  6    3  4    1  2  3    3    9  7\n",
       "  헐크   10   11    5    8    2  7   91   13  4    6  6    7  7  5    1    3  3\n",
       "  ㅋㅋ   12    6   10    6    5  3   13   85  4    6  3    6  5  5    3    5  1\n",
       "  더     18   10    9    4   10  6    4    4 73    1  3    1  6  7    3    1  2\n",
       "  완전   10    9    9    6    7  3    6    6  1   73  3    5  1  4    3    2  4\n",
       "  잘     22   11   11    5    6  4    6    3  3    3 72    4  5  8    3    3  0\n",
       "  최고    5    6    4    3    6  1    7    6  1    5  4   67  3  5    4    4  0\n",
       "  이     16    7    2    4    4  2    7    5  6    1  5    3 65  3    2    5  6\n",
       "  다     12    9    8    6    8  3    5    5  7    4  8    5  3 63    2    3  4\n",
       "  역시    7    9    6    1    4  3    1    3  3    3  3    4  2  2   59    5  1\n",
       "  액션   10    6    5    6    2  9    3    5  1    2  3    4  5  3    5   57  3\n",
       "  점     13   10    4    6    3  7    3    1  2    4  0    0  6  4    1    3 55\n",
       "  보고   10    7    3    1    8  8    5    2 10    6  7    3  3  4    2    2  7\n",
       "  수     16    8    3    3    2  2    2    2  3    1  3    2  3  1    2    5  2\n",
       "  ㅋ      4    2    4    2    1  5    2    5  2    7  2    1  1  2    4    2  1\n",
       "      Terms\n",
       "Terms  보고 수 ㅋ\n",
       "  영화   10 16  4\n",
       "  정말    7  8  2\n",
       "  너무    3  3  4\n",
       "  그냥    1  3  2\n",
       "  진짜    8  2  1\n",
       "  좀      8  2  5\n",
       "  헐크    5  2  2\n",
       "  ㅋㅋ    2  2  5\n",
       "  더     10  3  2\n",
       "  완전    6  1  7\n",
       "  잘      7  3  2\n",
       "  최고    3  2  1\n",
       "  이      3  3  1\n",
       "  다      4  1  2\n",
       "  역시    2  2  4\n",
       "  액션    2  5  2\n",
       "  점      7  2  1\n",
       "  보고   53  3  0\n",
       "  수      3 49  2\n",
       "  ㅋ      0  2 49"
      ]
     },
     "metadata": {},
     "output_type": "display_data"
    }
   ],
   "source": [
    "cooccur"
   ]
  },
  {
   "cell_type": "code",
   "execution_count": 76,
   "metadata": {
    "collapsed": false
   },
   "outputs": [
    {
     "name": "stderr",
     "output_type": "stream",
     "text": [
      "Warning message:\n",
      ": package 'qgraph' was built under R version 3.3.2"
     ]
    }
   ],
   "source": [
    "library(qgraph)"
   ]
  },
  {
   "cell_type": "markdown",
   "metadata": {},
   "source": [
    " - 대각선의 위치에 있는 숫자들이 나온 값이다. diag()가 가운데 값만 보낸다. "
   ]
  },
  {
   "cell_type": "code",
   "execution_count": null,
   "metadata": {
    "collapsed": false
   },
   "outputs": [],
   "source": [
    "qgraph(cooccur,\n",
    "       labels=rownames(cooccur), # 가로세로 모두 단어다 그래서 colnames로 해도상관없다. 단어가 안짤리고 잘나온다. \n",
    "       diag=F, # 자기자신을 나타내는 대각선 부분을 없앤다. \n",
    "       layout='spring', # Node의 위치를 바꿀수있다. \n",
    "       edge.color='blue',\n",
    "       vsize=log(diag(cooccur)*3),) # edge : 선, V : 노드 "
   ]
  },
  {
   "cell_type": "markdown",
   "metadata": {},
   "source": [
    "<img src=\"Aven.PNG\">"
   ]
  }
 ],
 "metadata": {
  "anaconda-cloud": {},
  "kernelspec": {
   "display_name": "R 3.3",
   "language": "R",
   "name": "ir33"
  },
  "language_info": {
   "codemirror_mode": "r",
   "file_extension": ".r",
   "mimetype": "text/x-r-source",
   "name": "R",
   "pygments_lexer": "r",
   "version": "3.3.1"
  }
 },
 "nbformat": 4,
 "nbformat_minor": 0
}
