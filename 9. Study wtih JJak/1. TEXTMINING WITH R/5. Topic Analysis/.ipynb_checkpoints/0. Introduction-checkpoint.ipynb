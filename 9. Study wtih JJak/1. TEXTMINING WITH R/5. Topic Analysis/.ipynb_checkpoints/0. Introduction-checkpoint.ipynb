{
 "cells": [
  {
   "cell_type": "markdown",
   "metadata": {},
   "source": [
    "# 텍스트 마이닝(토픽분석)\n",
    " - 키워드 기반 분석이 가장 많다. \n",
    "  - 문제점이 많다. \n",
    "  - 사례 : 현대자동차 에쿠스 외국 인터넷의 정보를 수집, 분석을 해보면 포터라는 단어가 많이 나온다. 키워드로만 분석하면 파악하기 힘들다. <br> 실제로는 에쿠스(연극)도 있다. 다니엘 래드클리프(배우)가 출연. -> 해리포터 \n",
    " - 의미를 결정하는 것 : 맥락 (읽어보면 알게 된다.)\n",
    " - 여러가지 장점이 있다. \n",
    "  - 동음이의어, 동의어, 신조어, 오탈자, 감정 분석 등 다양한 장점이 있다. \n",
    " - LSA(실무에서 좋은 점이 많다. 오래됐더라도)/ LDA / Deep Learning "
   ]
  },
  {
   "cell_type": "markdown",
   "metadata": {},
   "source": [
    " - 뉴스에 사용된 위키피디아 내용. "
   ]
  },
  {
   "cell_type": "code",
   "execution_count": 2,
   "metadata": {
    "collapsed": false
   },
   "outputs": [],
   "source": [
    "news = read.csv('News-article-wikipedia-DFE.csv', stringsAsFactors = F)"
   ]
  },
  {
   "cell_type": "code",
   "execution_count": 5,
   "metadata": {
    "collapsed": false,
    "scrolled": false
   },
   "outputs": [
    {
     "data": {
      "text/html": [
       "\" A ship with supplies for Gaza will dock at el-Arish in Egypt, officials say, after Israeli pressure to stop the vessel breaking its Gaza blockade. The Moldovan-flagged ship chartered by a charity run by the son of Libyan leader Col Muammar Gaddafi, left a Greek port on Saturday. Israel asked for help from the UN, and had talks with Greece and Moldova. But organisers insist they will go to Gaza. An Israeli raid on a Gaza-bound ship in May killed nine Turkish activists. Israel insisted its troops were defending themselves but the raid sparked international condemnation. Israel recently eased its blockade, allowing in almost all consumer goods but maintaining a \\\"blacklist\\\" of some items. Israel says its blockade of the Palestinian territory is needed to prevent the supply of weapons to the Hamas militant group which controls Gaza. The Amalthea, renamed Hope for the mission, set off from the Greek port of Lavrio, loaded with about 2,000 tonnes of food, cooking oil, medicines and pre-fabricated houses. It has been chartered by the Gaddafi International Charity and Development Foundation. Its chairman is Saif al-Islam Gaddafi. The organisation said the 92m (302ft) vessel would also carry \\\"a number of supporters who are keen on expressing solidarity with the Palestinian people\\\".\""
      ],
      "text/latex": [
       "\" A ship with supplies for Gaza will dock at el-Arish in Egypt, officials say, after Israeli pressure to stop the vessel breaking its Gaza blockade. The Moldovan-flagged ship chartered by a charity run by the son of Libyan leader Col Muammar Gaddafi, left a Greek port on Saturday. Israel asked for help from the UN, and had talks with Greece and Moldova. But organisers insist they will go to Gaza. An Israeli raid on a Gaza-bound ship in May killed nine Turkish activists. Israel insisted its troops were defending themselves but the raid sparked international condemnation. Israel recently eased its blockade, allowing in almost all consumer goods but maintaining a \\textbackslash{}\"blacklist\\textbackslash{}\" of some items. Israel says its blockade of the Palestinian territory is needed to prevent the supply of weapons to the Hamas militant group which controls Gaza. The Amalthea, renamed Hope for the mission, set off from the Greek port of Lavrio, loaded with about 2,000 tonnes of food, cooking oil, medicines and pre-fabricated houses. It has been chartered by the Gaddafi International Charity and Development Foundation. Its chairman is Saif al-Islam Gaddafi. The organisation said the 92m (302ft) vessel would also carry \\textbackslash{}\"a number of supporters who are keen on expressing solidarity with the Palestinian people\\textbackslash{}\".\""
      ],
      "text/markdown": [
       "\" A ship with supplies for Gaza will dock at el-Arish in Egypt, officials say, after Israeli pressure to stop the vessel breaking its Gaza blockade. The Moldovan-flagged ship chartered by a charity run by the son of Libyan leader Col Muammar Gaddafi, left a Greek port on Saturday. Israel asked for help from the UN, and had talks with Greece and Moldova. But organisers insist they will go to Gaza. An Israeli raid on a Gaza-bound ship in May killed nine Turkish activists. Israel insisted its troops were defending themselves but the raid sparked international condemnation. Israel recently eased its blockade, allowing in almost all consumer goods but maintaining a \\\"blacklist\\\" of some items. Israel says its blockade of the Palestinian territory is needed to prevent the supply of weapons to the Hamas militant group which controls Gaza. The Amalthea, renamed Hope for the mission, set off from the Greek port of Lavrio, loaded with about 2,000 tonnes of food, cooking oil, medicines and pre-fabricated houses. It has been chartered by the Gaddafi International Charity and Development Foundation. Its chairman is Saif al-Islam Gaddafi. The organisation said the 92m (302ft) vessel would also carry \\\"a number of supporters who are keen on expressing solidarity with the Palestinian people\\\".\""
      ],
      "text/plain": [
       "[1] \" A ship with supplies for Gaza will dock at el-Arish in Egypt, officials say, after Israeli pressure to stop the vessel breaking its Gaza blockade. The Moldovan-flagged ship chartered by a charity run by the son of Libyan leader Col Muammar Gaddafi, left a Greek port on Saturday. Israel asked for help from the UN, and had talks with Greece and Moldova. But organisers insist they will go to Gaza. An Israeli raid on a Gaza-bound ship in May killed nine Turkish activists. Israel insisted its troops were defending themselves but the raid sparked international condemnation. Israel recently eased its blockade, allowing in almost all consumer goods but maintaining a \\\"blacklist\\\" of some items. Israel says its blockade of the Palestinian territory is needed to prevent the supply of weapons to the Hamas militant group which controls Gaza. The Amalthea, renamed Hope for the mission, set off from the Greek port of Lavrio, loaded with about 2,000 tonnes of food, cooking oil, medicines and pre-fabricated houses. It has been chartered by the Gaddafi International Charity and Development Foundation. Its chairman is Saif al-Islam Gaddafi. The organisation said the 92m (302ft) vessel would also carry \\\"a number of supporters who are keen on expressing solidarity with the Palestinian people\\\".\""
      ]
     },
     "metadata": {},
     "output_type": "display_data"
    }
   ],
   "source": [
    "news$newdescp[1]"
   ]
  },
  {
   "cell_type": "markdown",
   "metadata": {},
   "source": [
    "## TermDocument Matrix "
   ]
  },
  {
   "cell_type": "code",
   "execution_count": 7,
   "metadata": {
    "collapsed": false
   },
   "outputs": [],
   "source": [
    "library(tm)"
   ]
  },
  {
   "cell_type": "code",
   "execution_count": 9,
   "metadata": {
    "collapsed": false
   },
   "outputs": [],
   "source": [
    "tdm <- TermDocumentMatrix(Corpus(VectorSource(news$newdescp)),\n",
    "                  control = list(\n",
    "                  removePunctuation=T,\n",
    "                  removeNumbers=T,\n",
    "                  stopwords = T\n",
    "                )\n",
    "            )"
   ]
  },
  {
   "cell_type": "code",
   "execution_count": 10,
   "metadata": {
    "collapsed": false
   },
   "outputs": [
    {
     "data": {
      "text/plain": [
       "<<TermDocumentMatrix (terms: 29837, documents: 3000)>>\n",
       "Non-/sparse entries: 381162/89129838\n",
       "Sparsity           : 100%\n",
       "Maximal term length: 19\n",
       "Weighting          : term frequency (tf)"
      ]
     },
     "metadata": {},
     "output_type": "display_data"
    }
   ],
   "source": [
    "tdm"
   ]
  },
  {
   "cell_type": "code",
   "execution_count": 13,
   "metadata": {
    "collapsed": false
   },
   "outputs": [
    {
     "data": {
      "text/html": [
       "<ol class=list-inline>\n",
       "\t<li>\"activists\"</li>\n",
       "\t<li>\"allowing\"</li>\n",
       "\t<li>\"almost\"</li>\n",
       "\t<li>\"also\"</li>\n",
       "\t<li>\"amalthea\"</li>\n",
       "\t<li>\"arish\"</li>\n",
       "\t<li>\"asked\"</li>\n",
       "\t<li>\"blacklist\"</li>\n",
       "\t<li>\"blockade\"</li>\n",
       "\t<li>\"bound\"</li>\n",
       "</ol>\n"
      ],
      "text/latex": [
       "\\begin{enumerate*}\n",
       "\\item \"activists\"\n",
       "\\item \"allowing\"\n",
       "\\item \"almost\"\n",
       "\\item \"also\"\n",
       "\\item \"amalthea\"\n",
       "\\item \"arish\"\n",
       "\\item \"asked\"\n",
       "\\item \"blacklist\"\n",
       "\\item \"blockade\"\n",
       "\\item \"bound\"\n",
       "\\end{enumerate*}\n"
      ],
      "text/markdown": [
       "1. \"activists\"\n",
       "2. \"allowing\"\n",
       "3. \"almost\"\n",
       "4. \"also\"\n",
       "5. \"amalthea\"\n",
       "6. \"arish\"\n",
       "7. \"asked\"\n",
       "8. \"blacklist\"\n",
       "9. \"blockade\"\n",
       "10. \"bound\"\n",
       "\n",
       "\n"
      ],
      "text/plain": [
       " [1] \"activists\" \"allowing\"  \"almost\"    \"also\"      \"amalthea\"  \"arish\"    \n",
       " [7] \"asked\"     \"blacklist\" \"blockade\"  \"bound\"    "
      ]
     },
     "metadata": {},
     "output_type": "display_data"
    }
   ],
   "source": [
    "Terms(tdm)[1:10]"
   ]
  },
  {
   "cell_type": "code",
   "execution_count": 14,
   "metadata": {
    "collapsed": false
   },
   "outputs": [
    {
     "data": {
      "text/html": [
       "<ol class=list-inline>\n",
       "\t<li>29837</li>\n",
       "\t<li>3000</li>\n",
       "</ol>\n"
      ],
      "text/latex": [
       "\\begin{enumerate*}\n",
       "\\item 29837\n",
       "\\item 3000\n",
       "\\end{enumerate*}\n"
      ],
      "text/markdown": [
       "1. 29837\n",
       "2. 3000\n",
       "\n",
       "\n"
      ],
      "text/plain": [
       "[1] 29837  3000"
      ]
     },
     "metadata": {},
     "output_type": "display_data"
    }
   ],
   "source": [
    "dim(tdm)"
   ]
  },
  {
   "cell_type": "code",
   "execution_count": 16,
   "metadata": {
    "collapsed": false
   },
   "outputs": [],
   "source": [
    "library(slam)"
   ]
  },
  {
   "cell_type": "markdown",
   "metadata": {},
   "source": [
    " - 컬럼의 합"
   ]
  },
  {
   "cell_type": "code",
   "execution_count": 17,
   "metadata": {
    "collapsed": true
   },
   "outputs": [],
   "source": [
    "word.count = as.array(rollup(tdm,2))"
   ]
  },
  {
   "cell_type": "code",
   "execution_count": 24,
   "metadata": {
    "collapsed": false
   },
   "outputs": [],
   "source": [
    "word.order = order(word.count,decreasing = T)"
   ]
  },
  {
   "cell_type": "code",
   "execution_count": 25,
   "metadata": {
    "collapsed": false
   },
   "outputs": [],
   "source": [
    "freq.word = word.order[1:30]"
   ]
  },
  {
   "cell_type": "code",
   "execution_count": 27,
   "metadata": {
    "collapsed": false
   },
   "outputs": [
    {
     "data": {
      "text/html": [
       "<ol class=list-inline>\n",
       "\t<li>\"said\"</li>\n",
       "\t<li>\"people\"</li>\n",
       "\t<li>\"will\"</li>\n",
       "\t<li>\"government\"</li>\n",
       "\t<li>\"two\"</li>\n",
       "\t<li>\"president\"</li>\n",
       "\t<li>\"killed\"</li>\n",
       "\t<li>\"one\"</li>\n",
       "\t<li>\"also\"</li>\n",
       "\t<li>\"told\"</li>\n",
       "\t<li>\"police\"</li>\n",
       "\t<li>\"military\"</li>\n",
       "\t<li>\"security\"</li>\n",
       "\t<li>\"last\"</li>\n",
       "\t<li>\"country\"</li>\n",
       "\t<li>\"minister\"</li>\n",
       "\t<li>\"year\"</li>\n",
       "\t<li>\"new\"</li>\n",
       "\t<li>\"city\"</li>\n",
       "\t<li>\"forces\"</li>\n",
       "\t<li>\"officials\"</li>\n",
       "\t<li>\"state\"</li>\n",
       "\t<li>\"news\"</li>\n",
       "\t<li>\"says\"</li>\n",
       "\t<li>\"first\"</li>\n",
       "\t<li>\"since\"</li>\n",
       "\t<li>\"three\"</li>\n",
       "\t<li>\"say\"</li>\n",
       "\t<li>\"attack\"</li>\n",
       "\t<li>\"time\"</li>\n",
       "</ol>\n"
      ],
      "text/latex": [
       "\\begin{enumerate*}\n",
       "\\item \"said\"\n",
       "\\item \"people\"\n",
       "\\item \"will\"\n",
       "\\item \"government\"\n",
       "\\item \"two\"\n",
       "\\item \"president\"\n",
       "\\item \"killed\"\n",
       "\\item \"one\"\n",
       "\\item \"also\"\n",
       "\\item \"told\"\n",
       "\\item \"police\"\n",
       "\\item \"military\"\n",
       "\\item \"security\"\n",
       "\\item \"last\"\n",
       "\\item \"country\"\n",
       "\\item \"minister\"\n",
       "\\item \"year\"\n",
       "\\item \"new\"\n",
       "\\item \"city\"\n",
       "\\item \"forces\"\n",
       "\\item \"officials\"\n",
       "\\item \"state\"\n",
       "\\item \"news\"\n",
       "\\item \"says\"\n",
       "\\item \"first\"\n",
       "\\item \"since\"\n",
       "\\item \"three\"\n",
       "\\item \"say\"\n",
       "\\item \"attack\"\n",
       "\\item \"time\"\n",
       "\\end{enumerate*}\n"
      ],
      "text/markdown": [
       "1. \"said\"\n",
       "2. \"people\"\n",
       "3. \"will\"\n",
       "4. \"government\"\n",
       "5. \"two\"\n",
       "6. \"president\"\n",
       "7. \"killed\"\n",
       "8. \"one\"\n",
       "9. \"also\"\n",
       "10. \"told\"\n",
       "11. \"police\"\n",
       "12. \"military\"\n",
       "13. \"security\"\n",
       "14. \"last\"\n",
       "15. \"country\"\n",
       "16. \"minister\"\n",
       "17. \"year\"\n",
       "18. \"new\"\n",
       "19. \"city\"\n",
       "20. \"forces\"\n",
       "21. \"officials\"\n",
       "22. \"state\"\n",
       "23. \"news\"\n",
       "24. \"says\"\n",
       "25. \"first\"\n",
       "26. \"since\"\n",
       "27. \"three\"\n",
       "28. \"say\"\n",
       "29. \"attack\"\n",
       "30. \"time\"\n",
       "\n",
       "\n"
      ],
      "text/plain": [
       " [1] \"said\"       \"people\"     \"will\"       \"government\" \"two\"       \n",
       " [6] \"president\"  \"killed\"     \"one\"        \"also\"       \"told\"      \n",
       "[11] \"police\"     \"military\"   \"security\"   \"last\"       \"country\"   \n",
       "[16] \"minister\"   \"year\"       \"new\"        \"city\"       \"forces\"    \n",
       "[21] \"officials\"  \"state\"      \"news\"       \"says\"       \"first\"     \n",
       "[26] \"since\"      \"three\"      \"say\"        \"attack\"     \"time\"      "
      ]
     },
     "metadata": {},
     "output_type": "display_data"
    }
   ],
   "source": [
    "row.names(tdm[freq.word,]) # 키워드 기반의 단점이 잘나온다. "
   ]
  }
 ],
 "metadata": {
  "anaconda-cloud": {},
  "kernelspec": {
   "display_name": "R 3.3",
   "language": "R",
   "name": "ir33"
  },
  "language_info": {
   "codemirror_mode": "r",
   "file_extension": ".r",
   "mimetype": "text/x-r-source",
   "name": "R",
   "pygments_lexer": "r",
   "version": "3.3.1"
  }
 },
 "nbformat": 4,
 "nbformat_minor": 0
}
