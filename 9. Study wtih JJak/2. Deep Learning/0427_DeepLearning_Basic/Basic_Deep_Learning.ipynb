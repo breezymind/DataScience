{
 "cells": [
  {
   "cell_type": "markdown",
   "metadata": {},
   "source": [
    "# Basic_Deep_Learning "
   ]
  },
  {
   "cell_type": "markdown",
   "metadata": {},
   "source": [
    "### 우리가 이미 알고 있는 것.\n",
    " - 1. Regression : $ y = ax + b $ <- Hypothesis (식)\n",
    " - 2. Cost => Minimize \n",
    "![img3](data/3.png) \n",
    "![img1](data/1.PNG)\n"
   ]
  },
  {
   "cell_type": "markdown",
   "metadata": {},
   "source": [
    "### Cost \n",
    " - $H(x) = Wx$ 간단하게 표현\n",
    " - $Cost(W) = \\sum_{1}^{m}({Wx}^{i}-{y}^{i})^2$\n",
    " - W 값을 변경해 가면서 Cost값이 가장 낮은 곳을 찾는다. "
   ]
  },
  {
   "cell_type": "markdown",
   "metadata": {},
   "source": [
    "## Gradient Descent (경사하강법)\n",
    " - 위의 Cost값을 최소한으로 하는 W를 찾아내는 방법을 Gradient Descent라 한다. \n",
    "![img2](data/7.PNG)\n",
    "![img2](data/4.png)\n",
    "![img2](data/5.png)\n",
    "![img2](data/6.png)"
   ]
  },
  {
   "cell_type": "markdown",
   "metadata": {},
   "source": [
    "## 신경망의 특징 \n",
    " - 신경망의 경우 활성화 되고 안되고 즉, 결과값이 0 또는 1값을 가지게 된다.\n",
    "  - 최종 Output의 경우 적용 되는 부분\n",
    "![img9](data/8.PNG)\n",
    "![img9](data/9.PNG)\n",
    "\n",
    "\n",
    " - 이러한 값을 조절해주는 것이 $Step \\ Function$ (계단 함수라고 한다.)\n",
    "## 계단 함수 \n",
    "![img9](data/10.PNG)\n",
    "\n",
    "### 시그모이드 \n",
    "![img9](data/11.PNG)\n",
    "\n",
    "### 쌍탄젠트 \n",
    "![img9](data/12.PNG)\n",
    "\n",
    "### Relu \n",
    "![img9](data/13.PNG)\n",
    "\n",
    "\n",
    "#### ReLu의 경우 0~ 무한대 값을 가진다.\n",
    " - 그러므로 중간 Hidden layer에는 사용할 수 있지만 결과값의 출력하는 부분에서는 사용 할 수 없다. "
   ]
  },
  {
   "cell_type": "code",
   "execution_count": null,
   "metadata": {
    "collapsed": true
   },
   "outputs": [],
   "source": []
  }
 ],
 "metadata": {
  "anaconda-cloud": {},
  "kernelspec": {
   "display_name": "Python [work]",
   "language": "python",
   "name": "Python [work]"
  },
  "language_info": {
   "codemirror_mode": {
    "name": "ipython",
    "version": 3
   },
   "file_extension": ".py",
   "mimetype": "text/x-python",
   "name": "python",
   "nbconvert_exporter": "python",
   "pygments_lexer": "ipython3",
   "version": "3.5.2"
  }
 },
 "nbformat": 4,
 "nbformat_minor": 0
}
