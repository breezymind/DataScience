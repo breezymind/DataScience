{
 "cells": [
  {
   "cell_type": "markdown",
   "metadata": {},
   "source": [
    "# CNN(Convolutional Neural Networks)\n",
    " - 첫 시작은 고양이 실험에서 시작되었다. \n",
    " - 각각 그림의 부분에 반응하는 뉴런이 있었다 라는 부분에서 착안되었다."
   ]
  },
  {
   "cell_type": "markdown",
   "metadata": {},
   "source": [
    "![img3](img/3.PNG)"
   ]
  },
  {
   "cell_type": "markdown",
   "metadata": {},
   "source": [
    "### 자동차 그림 인식\n",
    " - 아래의 자동차를 인식하기 위해서 자동차 그림을 아래와 같이 짤라 각각의 데이터로 입력하게 된다. '\n",
    " - 이러한 Layer 층을 Convolution Layer라고 한다. \n",
    " - 그래서 이 Network이름이 Convolution Neural Networks라고한다. \n",
    " - 중간에 ReLU층을 넣고 다시 Convolution layer + POOLing  + 마지막으로 Fully Connected Neural Network을 연결하여 결과를 출력하는 Networks를 구성할 수 있다. \n",
    "\n",
    "![img4](img/4.PNG)"
   ]
  },
  {
   "cell_type": "markdown",
   "metadata": {},
   "source": [
    "## 시작부터 해서 Network를 이해해 나가보자. \n",
    "### 1. Start with an image (width x hight x depth)\n",
    " - 전체 이미지를 한꺼번에 처리하는 것이 아니라 아래와 같이 잘라서 사용해서 처리 하겠다라고 한다.\n",
    "![img5](img/5.PNG)\n",
    "  - 여기서 처리 하겠다 라는 개념의 용어는 $Filter$라고 한다. \n",
    "  - 5x5x3 filter\n",
    "  - 여기서 마지막 3은 원본 그림의 색, 즉 RGB 3가지 색으로 구성되었으므로 3이 되고 5x5의 경우는 사용자가 정의할 수 있다. \n",
    "![img5](img/6.PNG)\n",
    "\n",
    "- Filter 를 궁극적으로 1개의 값을 출력시킨다. \n",
    "- 5x5x3의 값을 어떻게 1개의 값으로 만들 수 있을까?\n",
    " - $Wx+b$ 를 사용한다. \n",
    " - 이것을 간단하게 5x5x3이 아니라 5개만 있다고 하면 $x_1,x_2,x_3,x_4,x_5$가 있다면 Multi Features Regression과 동일하다. \n",
    " - 아래의 식과 같은 형태로 \n",
    "![img5](img/7.PNG)"
   ]
  },
  {
   "cell_type": "markdown",
   "metadata": {},
   "source": [
    " - 변하지 않는 W(같은 필터이기 때문에)로 옆으로 넘기면서 각각 값들을 가지고오고 아래로 가서도 값을 가지고 오게 된다면 같은 필터로 전체 이미지를 훑고 각각의 점들을 한 값들을 가지고 오게 된다. \n",
    " - 이러한 과정을 거치게 되면 몇개의 값 / 점을 모을 수 있을까?\n",
    "![img8](img/8.PNG)\n",
    "![img8](img/9.PNG)"
   ]
  },
  {
   "cell_type": "markdown",
   "metadata": {},
   "source": [
    "### Number of output\n",
    " - 옆으로 몇칸씩간다 하는 것을 Stride 라고 한다. \n",
    " - Stride 1: 한칸식 옆으로 Stride 2 : 두칸씩 옆으로 이동. \n",
    "![img10](img/10.PNG)\n",
    "![img11](img/11.PNG)"
   ]
  },
  {
   "cell_type": "markdown",
   "metadata": {},
   "source": [
    "#### 공식\n",
    " - 큰이미지가 자꾸 작아진다.\n",
    "  - 작아질 수록 정보를 잃어버린다는 것이다. \n",
    "![img12](img/12.PNG)"
   ]
  },
  {
   "cell_type": "markdown",
   "metadata": {},
   "source": [
    "### Padding \n",
    " - CNN을 사용할 경우 보통 Padding을 사용한다. \n",
    " - 2가지 이유가 있다.\n",
    "  1. 그림이 작아진다는 것을 막아준다.\n",
    "  2. 이 부분이 모서리다 라고하는 것을 알려준다. \n",
    "![img13](img/13.PNG)\n",
    "![img14](img/14.PNG)"
   ]
  },
  {
   "cell_type": "markdown",
   "metadata": {},
   "source": [
    "## Swiping the entire image\n",
    " - 아래와 같이 Filter 1로 수행하게 되면 노란색 판과 같은 크기의 데이터로 출력되게 된다. \n",
    "![img15](img/15.PNG)\n",
    " - 다른 필터를 한개 더 만든다. 다른 Set의 Weight을 만들어 (Filter2를 만들게 된다.)\n",
    "![img16](img/16.PNG)\n",
    " - 2개만 하는 것이 아니라 Filter를 6개로 해서 한다면 나오는 값이 각각 6개가 다르게 나오게 될 것이다.\n",
    " - @ x @ x 6의 DataSet이 될 것이다.\n",
    " - @ 는 Filter Size와 그림의 Size로 결정 될 것이다.\n",
    " - 밑의 예제는 28x28x6이다. \n",
    "![img17](img/17.PNG)"
   ]
  },
  {
   "cell_type": "markdown",
   "metadata": {},
   "source": [
    " - 이러한 Flow를 연속해서 진행하게 된다면 Convolution layer가 연속해서 등장하게 될 것이다. \n",
    "![img18](img/18.PNG)\n",
    " - 다른 NN과 마찬가지고 각각의 weight을 학습해야 한다. 방법은 동일하다.\n",
    " - Weight의 갯수는 ? 5x5x3x6 + 5x5x6x10 과 같이 구할 수 있다.\n",
    "![img19](img/19.PNG)"
   ]
  },
  {
   "cell_type": "markdown",
   "metadata": {},
   "source": [
    " - Lec 11 추가해야함."
   ]
  },
  {
   "cell_type": "markdown",
   "metadata": {
    "collapsed": true
   },
   "source": [
    "## Maxpooling & Others"
   ]
  },
  {
   "cell_type": "markdown",
   "metadata": {},
   "source": [
    "## pooling (Sampling)\n",
    " - Sampling이라고 보면 된다. \n",
    " - Convolution Layer에서 출력된 값중에 한 판만 때낸다. 아래와같이 \n",
    "![img20](img/20.PNG)\n",
    "![img21](img/21.PNG)\n",
    "![img22](img/22.PNG)"
   ]
  },
  {
   "cell_type": "markdown",
   "metadata": {},
   "source": [
    "### Max Pooling (Sampling)\n",
    " - 4x4 그림에서 2x2 filter 를 사용한다면 그리고 Strider가 2라면 2칸씩 이동하겠다 라는 뜻이다. \n",
    " - 평균을 내자/가장큰놈을 꺼내자/가장 작은놈을 꺼내자 하는 다양한방법이 있다.\n",
    " - 하지만 가장 많이 사용되는 것은 가장 큰 값을 가지고 나오는 것이다.\n",
    "![img23](img/23.PNG)"
   ]
  },
  {
   "cell_type": "markdown",
   "metadata": {},
   "source": [
    " - 어떠한 순서대로 할것인지는 우리 마음이다. 몇번을 Convolution을 하고 Pooling을하고 이런건 내맘이다.\n",
    " - 이 값들 전체가 있을 것읻가. 3x3x10이라는 Convolution Layer가 나왔다면 원하는 깊이의 일반적인 Neural Network에 넣어서 마지막에 Softmax를 이용하여 몇개중의 Label중에 선택할 수 있도록 만들면 된다. \n",
    "![img24](img/24.PNG)"
   ]
  },
  {
   "cell_type": "markdown",
   "metadata": {},
   "source": [
    "<a href=\"http://cs.stanford.edu/people/karpathy/convnetjs/demo/cifar10.html\"> 참고용 CNN </a>"
   ]
  },
  {
   "cell_type": "markdown",
   "metadata": {},
   "source": [
    "## Case Study \n",
    " - 사람들이 어떻게 응용 했는지\n",
    "![img25](img/25.PNG)"
   ]
  },
  {
   "cell_type": "markdown",
   "metadata": {},
   "source": [
    "![img26](img/26.PNG)\n",
    "![img27](img/27.PNG)\n",
    "![img28](img/28.PNG)\n",
    "![img29](img/29.PNG)"
   ]
  },
  {
   "cell_type": "code",
   "execution_count": null,
   "metadata": {
    "collapsed": true
   },
   "outputs": [],
   "source": []
  }
 ],
 "metadata": {
  "anaconda-cloud": {},
  "kernelspec": {
   "display_name": "Python [work]",
   "language": "python",
   "name": "Python [work]"
  },
  "language_info": {
   "codemirror_mode": {
    "name": "ipython",
    "version": 3
   },
   "file_extension": ".py",
   "mimetype": "text/x-python",
   "name": "python",
   "nbconvert_exporter": "python",
   "pygments_lexer": "ipython3",
   "version": "3.5.2"
  }
 },
 "nbformat": 4,
 "nbformat_minor": 0
}
