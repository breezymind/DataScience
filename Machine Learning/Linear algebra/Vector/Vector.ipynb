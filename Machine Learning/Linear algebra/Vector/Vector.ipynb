{
 "cells": [
  {
   "cell_type": "markdown",
   "metadata": {},
   "source": [
    "# Linear algebra (Vector)\n",
    "<img src=\"Chapter 1.PNG\">\n",
    "<img src=\"Chapter 2_1.PNG\">\n",
    "<img src=\"Chapter 2_2.PNG\">\n",
    "<img src=\"Chapter 3.PNG\">\n",
    "<img src=\"Chapter 4.PNG\">\n",
    "<img src=\"Chapter 5_1.PNG\">\n",
    "<img src=\"Chapter 5_2.PNG\">\n",
    "<img src=\"Chapter 5_3.PNG\">\n",
    "<img src=\"Chapter 5_4.PNG\">"
   ]
  }
 ],
 "metadata": {
  "anaconda-cloud": {},
  "kernelspec": {
   "display_name": "R 3.3",
   "language": "R",
   "name": "ir33"
  },
  "language_info": {
   "codemirror_mode": "r",
   "file_extension": ".r",
   "mimetype": "text/x-r-source",
   "name": "R",
   "pygments_lexer": "r",
   "version": "3.3.1"
  }
 },
 "nbformat": 4,
 "nbformat_minor": 0
}
