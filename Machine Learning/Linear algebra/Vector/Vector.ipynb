{
 "cells": [
  {
   "cell_type": "markdown",
   "metadata": {},
   "source": [
    "# Linear algebra (Vector)\n",
    "<img src=\"1.PNG\">\n",
    "<img src=\"2.PNG\">\n",
    "<img src=\"3.PNG\">\n",
    "<img src=\"4.PNG\">\n",
    "<img src=\"5.PNG\">\n",
    "<img src=\"6.PNG\">\n",
    "<img src=\"7.PNG\">\n",
    "<img src=\"8.PNG\">\n",
    "<img src=\"9.PNG\">"
   ]
  }
 ],
 "metadata": {
  "anaconda-cloud": {},
  "kernelspec": {
   "display_name": "R 3.3",
   "language": "R",
   "name": "ir33"
  },
  "language_info": {
   "codemirror_mode": "r",
   "file_extension": ".r",
   "mimetype": "text/x-r-source",
   "name": "R",
   "pygments_lexer": "r",
   "version": "3.3.1"
  }
 },
 "nbformat": 4,
 "nbformat_minor": 0
}
