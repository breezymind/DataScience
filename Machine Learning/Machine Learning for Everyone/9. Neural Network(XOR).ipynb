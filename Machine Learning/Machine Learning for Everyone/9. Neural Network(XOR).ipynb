{
 "cells": [
  {
   "cell_type": "markdown",
   "metadata": {},
   "source": [
    "# Neural Network 1: XOR"
   ]
  },
  {
   "cell_type": "code",
   "execution_count": 2,
   "metadata": {
    "collapsed": false
   },
   "outputs": [
    {
     "name": "stdout",
     "output_type": "stream",
     "text": [
      "[[ 0.  0.]\n",
      " [ 0.  1.]\n",
      " [ 1.  0.]\n",
      " [ 1.  1.]]\n",
      "[[ 0.]\n",
      " [ 1.]\n",
      " [ 1.]\n",
      " [ 0.]]\n"
     ]
    }
   ],
   "source": [
    "import tensorflow as tf\n",
    "import numpy as np\n",
    "\n",
    "xy = np.loadtxt('07train.txt', unpack=True)\n",
    "x_data = np.transpose(xy[0:-1])\n",
    "y_data = np.reshape(xy[-1], (4, 1))\n",
    "\n",
    "print(x_data)\n",
    "print(y_data)"
   ]
  },
  {
   "cell_type": "code",
   "execution_count": null,
   "metadata": {
    "collapsed": true
   },
   "outputs": [],
   "source": [
    "X = tf.placeholder(tf.float32, name='x-input')\n",
    "Y = tf.placeholder(tf.float32, name='y-input')\n",
    "\n",
    "w1 = tf.Variable(tf.random_uniform([2, 5], -1.0, 1.0), name='weight1')\n",
    "w2 = tf.Variable(tf.random_uniform([5, 10], -1.0, 1.0), name='weight2')\n",
    "w3 = tf.Variable(tf.random_uniform([10, 10], -1.0, 1.0), name='weight3')\n",
    "w4 = tf.Variable(tf.random_uniform([10, 10], -1.0, 1.0), name='weight4')\n",
    "w5 = tf.Variable(tf.random_uniform([10, 10], -1.0, 1.0), name='weight5')\n",
    "w6 = tf.Variable(tf.random_uniform([10, 10], -1.0, 1.0), name='weight6')\n",
    "w7 = tf.Variable(tf.random_uniform([10, 10], -1.0, 1.0), name='weight7')\n",
    "w8 = tf.Variable(tf.random_uniform([10, 1], -1.0, 1.0), name='weight8')\n",
    "\n",
    "b1 = tf.Variable(tf.zeros([5]), name=\"Bias1\")\n",
    "b3 = tf.Variable(tf.zeros([10]), name=\"Bias3\")\n",
    "b2 = tf.Variable(tf.zeros([10]), name=\"Bias2\")\n",
    "b4 = tf.Variable(tf.zeros([10]), name=\"Bias4\")\n",
    "b5 = tf.Variable(tf.zeros([10]), name=\"Bias5\")\n",
    "b6 = tf.Variable(tf.zeros([10]), name=\"Bias6\")\n",
    "b7 = tf.Variable(tf.zeros([10]), name=\"Bias7\")\n",
    "b8 = tf.Variable(tf.zeros([1]), name=\"Bias8\")\n",
    "\n",
    "L2 = tf.nn.relu(tf.matmul(X, w1) + b1)\n",
    "L3 = tf.nn.relu(tf.matmul(L2, w2) + b2)\n",
    "L4 = tf.nn.relu(tf.matmul(L3, w3) + b3)\n",
    "L5 = tf.nn.relu(tf.matmul(L4, w4) + b4)\n",
    "L6 = tf.nn.relu(tf.matmul(L5, w5) + b5)\n",
    "L7 = tf.nn.relu(tf.matmul(L6, w6) + b6)\n",
    "L8 = tf.nn.relu(tf.matmul(L7, w7) + b7)\n",
    "\n",
    "hypothesis = tf.sigmoid(tf.matmul(L8, w8) + b8)\n",
    "\n",
    "with tf.name_scope('cost') as scope:\n",
    "    cost = -tf.reduce_mean(Y * tf.log(hypothesis) + (1-Y) * tf.log(1 - hypothesis))\n",
    "    cost_summ = tf.scalar_summary(\"cost\", cost)\n",
    "\n",
    "with tf.name_scope('train') as scope:\n",
    "    a = tf.Variable(0.1)\n",
    "    optimizer = tf.train.GradientDescentOptimizer(a)\n",
    "    train = optimizer.minimize(cost)\n",
    "\n",
    "w1_hist = tf.histogram_summary(\"weights1\", w1)\n",
    "w2_hist = tf.histogram_summary(\"weights2\", w2)\n",
    "\n",
    "b1_hist = tf.histogram_summary(\"biases1\", b1)\n",
    "b2_hist = tf.histogram_summary(\"biases2\", b2)\n",
    "\n",
    "y_hist = tf.histogram_summary(\"y\", Y)\n",
    "\n",
    "init = tf.initialize_all_variables()\n",
    "\n",
    "with tf.Session() as sess:\n",
    "    sess.run(init)\n",
    "\n",
    "    merged = tf.merge_all_summaries()\n",
    "    writer = tf.train.SummaryWriter(\"./logs/xor_logs\", sess.graph)\n",
    "\n",
    "    for step in xrange(20000):\n",
    "        sess.run(train, feed_dict={X: x_data, Y: y_data})\n",
    "        if step % 200 == 0:\n",
    "            summary = sess.run(merged, feed_dict={X: x_data, Y: y_data})\n",
    "            writer.add_summary(summary, step)\n",
    "            print step, sess.run(cost, feed_dict={X: x_data, Y: y_data}), sess.run(w1), sess.run(w2)\n",
    "\n",
    "    correct_prediction = tf.equal(tf.floor(hypothesis+0.5), Y)\n",
    "\n",
    "    accuracy = tf.reduce_mean(tf.cast(correct_prediction, \"float\"))\n",
    "    print sess.run([hypothesis, tf.floor(hypothesis+0.5), correct_prediction], feed_dict={X: x_data, Y: y_data})\n",
    "    print \"accuracy\", accuracy.eval({X: x_data, Y: y_data})"
   ]
  }
 ],
 "metadata": {
  "kernelspec": {
   "display_name": "Python 3",
   "language": "python",
   "name": "python3"
  },
  "language_info": {
   "codemirror_mode": {
    "name": "ipython",
    "version": 3
   },
   "file_extension": ".py",
   "mimetype": "text/x-python",
   "name": "python",
   "nbconvert_exporter": "python",
   "pygments_lexer": "ipython3",
   "version": "3.5.1"
  }
 },
 "nbformat": 4,
 "nbformat_minor": 1
}
