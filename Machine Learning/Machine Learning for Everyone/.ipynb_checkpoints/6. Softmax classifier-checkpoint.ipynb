{
 "cells": [
  {
   "cell_type": "markdown",
   "metadata": {},
   "source": [
    "# Softmax classifier\n",
    " - 강의는 들어야한다. 코드만 적어놓음 11-14 08:43"
   ]
  },
  {
   "cell_type": "code",
   "execution_count": 13,
   "metadata": {
    "collapsed": true
   },
   "outputs": [],
   "source": [
    "import tensorflow as tf\n",
    "import numpy as np"
   ]
  },
  {
   "cell_type": "markdown",
   "metadata": {},
   "source": [
    "## Data setting & making hypothesis"
   ]
  },
  {
   "cell_type": "code",
   "execution_count": 14,
   "metadata": {
    "collapsed": false
   },
   "outputs": [
    {
     "name": "stdout",
     "output_type": "stream",
     "text": [
      "         b   X1   X2    y[A , B , C]\n"
     ]
    },
    {
     "data": {
      "text/plain": [
       "array([[ 1.,  2.,  1.,  0.,  0.,  1.],\n",
       "       [ 1.,  3.,  2.,  0.,  0.,  1.],\n",
       "       [ 1.,  3.,  4.,  0.,  0.,  1.],\n",
       "       [ 1.,  5.,  5.,  0.,  1.,  0.],\n",
       "       [ 1.,  7.,  5.,  0.,  1.,  0.],\n",
       "       [ 1.,  2.,  5.,  0.,  1.,  0.],\n",
       "       [ 1.,  6.,  6.,  1.,  0.,  0.],\n",
       "       [ 1.,  7.,  7.,  1.,  0.,  0.]], dtype=float32)"
      ]
     },
     "execution_count": 14,
     "metadata": {},
     "output_type": "execute_result"
    }
   ],
   "source": [
    "xy = np.loadtxt('05train.txt', unpack=True, dtype='float32')\n",
    "print(\"        \",\"b \",\" X1 \",\" X2 \",\"  y[A , B , C]\")\n",
    "xy.T"
   ]
  },
  {
   "cell_type": "code",
   "execution_count": 15,
   "metadata": {
    "collapsed": true
   },
   "outputs": [],
   "source": [
    "x_data = np.transpose(xy[0:3])\n",
    "y_data = np.transpose(xy[3:])"
   ]
  },
  {
   "cell_type": "markdown",
   "metadata": {},
   "source": [
    " - column 1 : b값을 해결하기 위한 1로 고정 "
   ]
  },
  {
   "cell_type": "code",
   "execution_count": 16,
   "metadata": {
    "collapsed": false
   },
   "outputs": [
    {
     "data": {
      "text/plain": [
       "array([[ 1.,  2.,  1.],\n",
       "       [ 1.,  3.,  2.],\n",
       "       [ 1.,  3.,  4.],\n",
       "       [ 1.,  5.,  5.],\n",
       "       [ 1.,  7.,  5.],\n",
       "       [ 1.,  2.,  5.],\n",
       "       [ 1.,  6.,  6.],\n",
       "       [ 1.,  7.,  7.]], dtype=float32)"
      ]
     },
     "execution_count": 16,
     "metadata": {},
     "output_type": "execute_result"
    }
   ],
   "source": [
    "x_data"
   ]
  },
  {
   "cell_type": "markdown",
   "metadata": {},
   "source": [
    " - column 3 : Result of data"
   ]
  },
  {
   "cell_type": "code",
   "execution_count": 17,
   "metadata": {
    "collapsed": false
   },
   "outputs": [
    {
     "data": {
      "text/plain": [
       "array([[ 0.,  0.,  1.],\n",
       "       [ 0.,  0.,  1.],\n",
       "       [ 0.,  0.,  1.],\n",
       "       [ 0.,  1.,  0.],\n",
       "       [ 0.,  1.,  0.],\n",
       "       [ 0.,  1.,  0.],\n",
       "       [ 1.,  0.,  0.],\n",
       "       [ 1.,  0.,  0.]], dtype=float32)"
      ]
     },
     "execution_count": 17,
     "metadata": {},
     "output_type": "execute_result"
    }
   ],
   "source": [
    "y_data"
   ]
  },
  {
   "cell_type": "markdown",
   "metadata": {},
   "source": [
    " - Tensorflow 의 Softmax 함수 사용.\n",
    " - X : Row Count 를 알 수 없으므로 None, Columns [b, X1, X2] = 3\n",
    " - Y : Row Count 를 알 수 없으므로 None, Columns [A, B, C] = 3"
   ]
  },
  {
   "cell_type": "code",
   "execution_count": 18,
   "metadata": {
    "collapsed": true
   },
   "outputs": [],
   "source": [
    "X = tf.placeholder(\"float\", [None, 3])\n",
    "Y = tf.placeholder(\"float\", [None, 3])\n",
    "\n",
    "W = tf.Variable(tf.zeros([3, 3]))\n",
    "\n",
    "hypothesis = tf.nn.softmax(tf.matmul(X, W)) # W,X 가 아니라 X,W인 이유는 Transpose를 했기때문에. "
   ]
  },
  {
   "cell_type": "code",
   "execution_count": 19,
   "metadata": {
    "collapsed": false
   },
   "outputs": [
    {
     "name": "stdout",
     "output_type": "stream",
     "text": [
      "Tensor(\"Placeholder_2:0\", shape=(?, 3), dtype=float32)\n",
      "Tensor(\"Placeholder_3:0\", shape=(?, 3), dtype=float32)\n",
      "<tensorflow.python.ops.variables.Variable object at 0x6a7e1850>\n"
     ]
    }
   ],
   "source": [
    "print(X)\n",
    "print(Y)\n",
    "print(W)"
   ]
  },
  {
   "cell_type": "code",
   "execution_count": 20,
   "metadata": {
    "collapsed": false
   },
   "outputs": [
    {
     "data": {
      "text/plain": [
       "<tf.Tensor 'Softmax_1:0' shape=(?, 3) dtype=float32>"
      ]
     },
     "execution_count": 20,
     "metadata": {},
     "output_type": "execute_result"
    }
   ],
   "source": [
    "hypothesis"
   ]
  },
  {
   "cell_type": "markdown",
   "metadata": {},
   "source": [
    "## Cost function & Optimizer \n",
    "$LOSS = {1 \\over N} \\sum_{i=1}D(S(WX_i+b),L_i)$\n",
    "- $learning \\ rate=Step$ "
   ]
  },
  {
   "cell_type": "code",
   "execution_count": 21,
   "metadata": {
    "collapsed": true
   },
   "outputs": [],
   "source": [
    "learning_rate = 0.01\n",
    "\n",
    "cost = tf.reduce_mean(-tf.reduce_sum(Y * tf.log(hypothesis), reduction_indices=1))\n",
    "\n",
    "optimizer = tf.train.GradientDescentOptimizer(learning_rate).minimize(cost)"
   ]
  },
  {
   "cell_type": "markdown",
   "metadata": {},
   "source": [
    "## Initialize & Launch"
   ]
  },
  {
   "cell_type": "markdown",
   "metadata": {},
   "source": [
    " - X: [[1, 11, 7]] , b의 값을 위해 무조건 1, 몇시간 공부하고, 몇번 왔다 ( 수업에 ) "
   ]
  },
  {
   "cell_type": "code",
   "execution_count": 22,
   "metadata": {
    "collapsed": false
   },
   "outputs": [
    {
     "name": "stdout",
     "output_type": "stream",
     "text": [
      "0 1.09049 [[-0.00083333  0.00041667  0.00041667]\n",
      " [ 0.00166667  0.00291667 -0.0045833 ]\n",
      " [ 0.00166667  0.00416666 -0.0058333 ]]\n",
      "200 0.985655 [[-0.21679102 -0.05050319  0.26729688]\n",
      " [ 0.02901404 -0.06264643  0.03364387]\n",
      " [ 0.04244483  0.1245213  -0.16695431]]\n",
      "400 0.926075 [[-0.41495126 -0.10317791  0.51813436]\n",
      " [ 0.03762955 -0.10301527  0.0654094 ]\n",
      " [ 0.07458434  0.17762044 -0.2521807 ]]\n",
      "600 0.879344 [[-0.59595996 -0.15155177  0.74751979]\n",
      " [ 0.04482023 -0.11982584  0.07504562]\n",
      " [ 0.10449056  0.20645392 -0.31090409]]\n",
      "800 0.840973 [[-0.76269579 -0.19499369  0.95770007]\n",
      " [ 0.05224845 -0.12449251  0.07229567]\n",
      " [ 0.13097468  0.22219986 -0.35312232]]\n",
      "1000 0.808649 [[-0.91751796 -0.23348261  1.15101397]\n",
      " [ 0.06009985 -0.12290668  0.06287103]\n",
      " [ 0.15440935  0.23071097 -0.38505554]]\n",
      "1200 0.780961 [[-1.06230164 -0.26726639  1.32958424]\n",
      " [ 0.068105   -0.11821341  0.05018473]\n",
      " [ 0.1755293   0.23517281 -0.4106257 ]]\n",
      "1400 0.756945 [[-1.19853699 -0.29670104  1.49525702]\n",
      " [ 0.07594305 -0.11211958  0.0362635 ]\n",
      " [ 0.19501796  0.23735999 -0.43229142]]\n",
      "1600 0.735895 [[-1.32742298 -0.32217431  1.64961874]\n",
      " [ 0.08337039 -0.10554717  0.022277  ]\n",
      " [ 0.21339892  0.23826961 -0.45156869]]\n",
      "1800 0.71727 [[-1.44993627 -0.34406936  1.79402876]\n",
      " [ 0.09023716 -0.09898631  0.00885967]\n",
      " [ 0.231032    0.23845553 -0.46937752]]\n",
      "2000 0.700651 [[-1.56688297 -0.36274701  1.92965567]\n",
      " [ 0.09647745 -0.09267733 -0.0036758 ]\n",
      " [ 0.24815629  0.23822576 -0.48625803]]\n",
      "a : [[ 0.68849611  0.26731548  0.04418841]] [0]\n",
      "b : [[ 0.24322301  0.44183129  0.31494567]] [1]\n",
      "c : [[ 0.02974836  0.082085    0.88816667]] [2]\n"
     ]
    }
   ],
   "source": [
    "init = tf.initialize_all_variables()\n",
    "\n",
    "with tf.Session() as sess:\n",
    "    sess.run(init)\n",
    "\n",
    "    for step in range(2001):\n",
    "        sess.run(optimizer, feed_dict={X: x_data, Y: y_data})\n",
    "        if step % 200 == 0:\n",
    "            print(step, sess.run(cost, feed_dict={X: x_data, Y: y_data}), sess.run(W))\n",
    "\n",
    "    a = sess.run(hypothesis, feed_dict={X: [[1, 11, 7]]})\n",
    "    print (\"a :\", a, sess.run(tf.arg_max(a, 1)))\n",
    "\n",
    "    b = sess.run(hypothesis, feed_dict={X: [[1, 3, 4]]})\n",
    "    print (\"b :\", b, sess.run(tf.arg_max(b, 1)))\n",
    "\n",
    "    c = sess.run(hypothesis, feed_dict={X: [[1, 1, 0]]})\n",
    "    print(\"c :\", c, sess.run(tf.arg_max(c, 1)))\n"
   ]
  }
 ],
 "metadata": {
  "kernelspec": {
   "display_name": "Python 3",
   "language": "python",
   "name": "python3"
  },
  "language_info": {
   "codemirror_mode": {
    "name": "ipython",
    "version": 3
   },
   "file_extension": ".py",
   "mimetype": "text/x-python",
   "name": "python",
   "nbconvert_exporter": "python",
   "pygments_lexer": "ipython3",
   "version": "3.5.1"
  }
 },
 "nbformat": 4,
 "nbformat_minor": 1
}
