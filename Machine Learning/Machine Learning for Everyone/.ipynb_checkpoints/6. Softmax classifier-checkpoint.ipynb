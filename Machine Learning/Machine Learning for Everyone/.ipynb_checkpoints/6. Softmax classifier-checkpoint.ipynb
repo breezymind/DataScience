{
 "cells": [
  {
   "cell_type": "markdown",
   "metadata": {},
   "source": [
    "# Softmax classifier\n",
    " - 강의는 들어야한다. 코드만 적어놓음 11-14 08:43"
   ]
  },
  {
   "cell_type": "code",
   "execution_count": 13,
   "metadata": {
    "collapsed": true
   },
   "outputs": [],
   "source": [
    "import tensorflow as tf\n",
    "import numpy as np"
   ]
  },
  {
   "cell_type": "markdown",
   "metadata": {},
   "source": [
    "## Data setting & making hypothesis"
   ]
  },
  {
   "cell_type": "code",
   "execution_count": 14,
   "metadata": {
    "collapsed": false
   },
   "outputs": [
    {
     "name": "stdout",
     "output_type": "stream",
     "text": [
      "         b   X1   X2    y[A , B , C]\n"
     ]
    },
    {
     "data": {
      "text/plain": [
       "array([[ 1.,  2.,  1.,  0.,  0.,  1.],\n",
       "       [ 1.,  3.,  2.,  0.,  0.,  1.],\n",
       "       [ 1.,  3.,  4.,  0.,  0.,  1.],\n",
       "       [ 1.,  5.,  5.,  0.,  1.,  0.],\n",
       "       [ 1.,  7.,  5.,  0.,  1.,  0.],\n",
       "       [ 1.,  2.,  5.,  0.,  1.,  0.],\n",
       "       [ 1.,  6.,  6.,  1.,  0.,  0.],\n",
       "       [ 1.,  7.,  7.,  1.,  0.,  0.]], dtype=float32)"
      ]
     },
     "execution_count": 14,
     "metadata": {},
     "output_type": "execute_result"
    }
   ],
   "source": [
    "xy = np.loadtxt('05train.txt', unpack=True, dtype='float32')\n",
    "print(\"        \",\"b \",\" X1 \",\" X2 \",\"  y[A , B , C]\")\n",
    "xy.T"
   ]
  },
  {
   "cell_type": "code",
   "execution_count": 15,
   "metadata": {
    "collapsed": true
   },
   "outputs": [],
   "source": [
    "x_data = np.transpose(xy[0:3])\n",
    "y_data = np.transpose(xy[3:])"
   ]
  },
  {
   "cell_type": "markdown",
   "metadata": {},
   "source": [
    " - column 1 : b값을 해결하기 위한 1로 고정 "
   ]
  },
  {
   "cell_type": "code",
   "execution_count": 16,
   "metadata": {
    "collapsed": false
   },
   "outputs": [
    {
     "data": {
      "text/plain": [
       "array([[ 1.,  2.,  1.],\n",
       "       [ 1.,  3.,  2.],\n",
       "       [ 1.,  3.,  4.],\n",
       "       [ 1.,  5.,  5.],\n",
       "       [ 1.,  7.,  5.],\n",
       "       [ 1.,  2.,  5.],\n",
       "       [ 1.,  6.,  6.],\n",
       "       [ 1.,  7.,  7.]], dtype=float32)"
      ]
     },
     "execution_count": 16,
     "metadata": {},
     "output_type": "execute_result"
    }
   ],
   "source": [
    "x_data"
   ]
  },
  {
   "cell_type": "markdown",
   "metadata": {},
   "source": [
    " - column 3 : Result of data"
   ]
  },
  {
   "cell_type": "code",
   "execution_count": 17,
   "metadata": {
    "collapsed": false
   },
   "outputs": [
    {
     "data": {
      "text/plain": [
       "array([[ 0.,  0.,  1.],\n",
       "       [ 0.,  0.,  1.],\n",
       "       [ 0.,  0.,  1.],\n",
       "       [ 0.,  1.,  0.],\n",
       "       [ 0.,  1.,  0.],\n",
       "       [ 0.,  1.,  0.],\n",
       "       [ 1.,  0.,  0.],\n",
       "       [ 1.,  0.,  0.]], dtype=float32)"
      ]
     },
     "execution_count": 17,
     "metadata": {},
     "output_type": "execute_result"
    }
   ],
   "source": [
    "y_data"
   ]
  },
  {
   "cell_type": "markdown",
   "metadata": {},
   "source": [
    " - Tensorflow 의 Softmax 함수 사용.\n",
    " - X : Row Count 를 알 수 없으므로 None, Columns [b, X1, X2] = 3\n",
    " - Y : Row Count 를 알 수 없으므로 None, Columns [A, B, C] = 3"
   ]
  },
  {
   "cell_type": "code",
   "execution_count": 18,
   "metadata": {
    "collapsed": true
   },
   "outputs": [],
   "source": [
    "X = tf.placeholder(\"float\", [None, 3])\n",
    "Y = tf.placeholder(\"float\", [None, 3])\n",
    "\n",
    "W = tf.Variable(tf.zeros([3, 3]))\n",
    "\n",
    "hypothesis = tf.nn.softmax(tf.matmul(X, W)) # W,X 가 아니라 X,W인 이유는 Transpose를 했기때문에. "
   ]
  },
  {
   "cell_type": "code",
   "execution_count": 19,
   "metadata": {
    "collapsed": false
   },
   "outputs": [
    {
     "name": "stdout",
     "output_type": "stream",
     "text": [
      "Tensor(\"Placeholder_2:0\", shape=(?, 3), dtype=float32)\n",
      "Tensor(\"Placeholder_3:0\", shape=(?, 3), dtype=float32)\n",
      "<tensorflow.python.ops.variables.Variable object at 0x6590a150>\n"
     ]
    }
   ],
   "source": [
    "print(X)\n",
    "print(Y)\n",
    "print(W)"
   ]
  },
  {
   "cell_type": "code",
   "execution_count": 20,
   "metadata": {
    "collapsed": false
   },
   "outputs": [
    {
     "data": {
      "text/plain": [
       "<tf.Tensor 'Softmax_1:0' shape=(?, 3) dtype=float32>"
      ]
     },
     "execution_count": 20,
     "metadata": {},
     "output_type": "execute_result"
    }
   ],
   "source": [
    "hypothesis"
   ]
  },
  {
   "cell_type": "markdown",
   "metadata": {},
   "source": [
    "## Cost function & Optimizer \n",
    "$LOSS = {1 \\over N} \\sum_{i=1}D(S(WX_i+b),L_i)$\n",
    "- $learning \\ rate=Step$ "
   ]
  },
  {
   "cell_type": "code",
   "execution_count": 21,
   "metadata": {
    "collapsed": true
   },
   "outputs": [],
   "source": [
    "learning_rate = 0.01\n",
    "\n",
    "cost = tf.reduce_mean(-tf.reduce_sum(Y * tf.log(hypothesis), reduction_indices=1))\n",
    "\n",
    "optimizer = tf.train.GradientDescentOptimizer(learning_rate).minimize(cost)"
   ]
  },
  {
   "cell_type": "markdown",
   "metadata": {},
   "source": [
    "## Initialize & Launch"
   ]
  },
  {
   "cell_type": "markdown",
   "metadata": {},
   "source": [
    " - X: [[1, 11, 7]] , b의 값을 위해 무조건 1, 몇시간 공부하고, 몇번 왔다 ( 수업에 ) "
   ]
  },
  {
   "cell_type": "code",
   "execution_count": 22,
   "metadata": {
    "collapsed": false
   },
   "outputs": [
    {
     "name": "stdout",
     "output_type": "stream",
     "text": [
      "a : [[ 0.68849611  0.26731548  0.04418841]] [0]\n",
      "b : [[ 0.24322301  0.44183129  0.31494567]] [1]\n",
      "c : [[ 0.02974836  0.082085    0.88816667]] [2]\n"
     ]
    }
   ],
   "source": [
    "init = tf.initialize_all_variables()\n",
    "\n",
    "with tf.Session() as sess:\n",
    "    sess.run(init)\n",
    "    cost_list = []\n",
    "    step_list = []\n",
    "    for step in range(2001):\n",
    "        sess.run(optimizer, feed_dict={X: x_data, Y: y_data})\n",
    "        cost_in_step = sess.run(cost, feed_dict={X:x_data, Y:y_data})\n",
    "        step_list.append(step)\n",
    "        cost_list.append(cost_in_step)\n",
    "        #if step % 200 == 0:\n",
    "        #   print(step, sess.run(cost, feed_dict={X: x_data, Y: y_data}), sess.run(W))\n",
    "\n",
    "    a = sess.run(hypothesis, feed_dict={X: [[1, 11, 7]]})\n",
    "    print (\"a :\", a, sess.run(tf.arg_max(a, 1)))\n",
    "\n",
    "    b = sess.run(hypothesis, feed_dict={X: [[1, 3, 4]]})\n",
    "    print (\"b :\", b, sess.run(tf.arg_max(b, 1)))\n",
    "\n",
    "    c = sess.run(hypothesis, feed_dict={X: [[1, 1, 0]]})\n",
    "    print(\"c :\", c, sess.run(tf.arg_max(c, 1)))"
   ]
  },
  {
   "cell_type": "markdown",
   "metadata": {},
   "source": [
    "## Chart the cost reduction in every step."
   ]
  },
  {
   "cell_type": "code",
   "execution_count": 23,
   "metadata": {
    "collapsed": false
   },
   "outputs": [
    {
     "data": {
      "image/png": "[encoded data removed]",
      "text/plain": [
       "<matplotlib.figure.Figure at 0x65891710>"
      ]
     },
     "metadata": {},
     "output_type": "display_data"
    }
   ],
   "source": [
    "%matplotlib inline\n",
    "\n",
    "import matplotlib\n",
    "import numpy as np\n",
    "import matplotlib.pyplot as plt\n",
    "\n",
    "plt.plot(step_list, cost_list, label='Cost function in every step.')\n",
    "plt.legend()\n",
    "plt.show()"
   ]
  }
 ],
 "metadata": {
  "kernelspec": {
   "display_name": "Python 3",
   "language": "python",
   "name": "python3"
  },
  "language_info": {
   "codemirror_mode": {
    "name": "ipython",
    "version": 3
   },
   "file_extension": ".py",
   "mimetype": "text/x-python",
   "name": "python",
   "nbconvert_exporter": "python",
   "pygments_lexer": "ipython3",
   "version": "3.5.1"
  }
 },
 "nbformat": 4,
 "nbformat_minor": 1
}
