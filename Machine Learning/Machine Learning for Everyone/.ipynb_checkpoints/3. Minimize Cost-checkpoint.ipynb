{
 "cells": [
  {
   "cell_type": "markdown",
   "metadata": {},
   "source": [
    "# Minimize Cost"
   ]
  },
  {
   "cell_type": "code",
   "execution_count": 1,
   "metadata": {
    "collapsed": true
   },
   "outputs": [],
   "source": [
    "import tensorflow as tf"
   ]
  },
  {
   "cell_type": "markdown",
   "metadata": {},
   "source": [
    "### Data set and Making hypothesis"
   ]
  },
  {
   "cell_type": "code",
   "execution_count": 2,
   "metadata": {
    "collapsed": true
   },
   "outputs": [],
   "source": [
    "# data set\n",
    "x_data = [1., 2., 3., 4.]\n",
    "y_data = [1., 3., 5., 7.]\n",
    "\n",
    "# try to find values for w and b that compute y_data = W * x_data + b\n",
    "# range is -100 ~ 100\n",
    "W = tf.Variable(tf.random_uniform([1], -10000., 10000.))\n",
    "\n",
    "X = tf.placeholder(tf.float32)\n",
    "Y = tf.placeholder(tf.float32)\n",
    "\n",
    "# my hypothesis\n",
    "hypothesis = W * X"
   ]
  },
  {
   "cell_type": "markdown",
   "metadata": {},
   "source": [
    "### Simplified cost function & minimize"
   ]
  },
  {
   "cell_type": "markdown",
   "metadata": {},
   "source": [
    "$W = W - \\alpha {1 \\over m} \\sum_{i=1}^m(W_x^{(i)}-y^{(i)})x^{(i)}$"
   ]
  },
  {
   "cell_type": "code",
   "execution_count": 3,
   "metadata": {
    "collapsed": true
   },
   "outputs": [],
   "source": [
    "# Simplified cost function\n",
    "cost = tf.reduce_mean(tf.square(hypothesis - Y))\n",
    "\n",
    "# minimize\n",
    "descent = W - tf.mul(0.1, tf.reduce_mean(tf.mul( ( tf.mul(W, X) - Y ), X ), ))\n",
    "update = W.assign(descent)"
   ]
  },
  {
   "cell_type": "markdown",
   "metadata": {},
   "source": [
    "### initialize & Launch session"
   ]
  },
  {
   "cell_type": "code",
   "execution_count": 4,
   "metadata": {
    "collapsed": false
   },
   "outputs": [
    {
     "name": "stdout",
     "output_type": "stream",
     "text": [
      "0 1.48232e+07 [-1404.1875]\n",
      "1 926450.0 [-349.796875]\n",
      "2 57903.3 [-86.19921875]\n",
      "3 3619.11 [-20.29980469]\n",
      "4 226.351 [-3.82495117]\n",
      "5 14.3032 [ 0.29376221]\n",
      "6 1.0502 [ 1.32344055]\n",
      "7 0.221887 [ 1.58086014]\n",
      "8 0.170118 [ 1.64521503]\n",
      "9 0.166882 [ 1.66130376]\n",
      "10 0.16668 [ 1.66532588]\n",
      "11 0.166668 [ 1.66633153]\n",
      "12 0.166667 [ 1.66658282]\n",
      "13 0.166667 [ 1.66664577]\n",
      "14 0.166667 [ 1.6666615]\n",
      "15 0.166667 [ 1.66666532]\n",
      "16 0.166667 [ 1.66666627]\n",
      "17 0.166667 [ 1.66666651]\n",
      "18 0.166667 [ 1.66666663]\n",
      "19 0.166667 [ 1.66666663]\n"
     ]
    }
   ],
   "source": [
    "# before starting, initialize the variables\n",
    "init = tf.initialize_all_variables()\n",
    "\n",
    "# launch\n",
    "sess = tf.Session()\n",
    "sess.run(init)\n",
    "\n",
    "# fit the line\n",
    "for step in range(20):\n",
    "    sess.run(update, feed_dict={X: x_data, Y: y_data})\n",
    "    print(step, sess.run(cost, feed_dict={X: x_data, Y: y_data}), sess.run(W))"
   ]
  },
  {
   "cell_type": "code",
   "execution_count": 5,
   "metadata": {
    "collapsed": false
   },
   "outputs": [
    {
     "name": "stdout",
     "output_type": "stream",
     "text": [
      "[ 8.33333302]\n",
      "[ 4.16666651]\n"
     ]
    }
   ],
   "source": [
    "print(sess.run(hypothesis, feed_dict={X: 5}))\n",
    "print(sess.run(hypothesis, feed_dict={X: 2.5}))"
   ]
  }
 ],
 "metadata": {
  "kernelspec": {
   "display_name": "Python 3",
   "language": "python",
   "name": "python3"
  },
  "language_info": {
   "codemirror_mode": {
    "name": "ipython",
    "version": 3
   },
   "file_extension": ".py",
   "mimetype": "text/x-python",
   "name": "python",
   "nbconvert_exporter": "python",
   "pygments_lexer": "ipython3",
   "version": "3.5.1"
  }
 },
 "nbformat": 4,
 "nbformat_minor": 1
}
