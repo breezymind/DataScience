{
 "cells": [
  {
   "cell_type": "markdown",
   "metadata": {},
   "source": [
    "> Kooc.Kaist.ac.kr "
   ]
  },
  {
   "cell_type": "markdown",
   "metadata": {},
   "source": [
    "# Motivation \n",
    " - 카이스트 산업공학\n",
    " ***\n",
    "# Abundance of Data\n",
    " - 다양하고 큰 데이터들이 생겨나기 시작했다. 그리고 그것을 처리 할 수 있는 기술력 또한 향상 되어 **ML** 이 발달되기 시작 하였다. \n",
    "  - TextData, Network Data, Image Data, Social Data .... \n",
    "  - 필요한 지식과 정보를 찾아내기 위한 활동을 **ML**의 활동이다. "
   ]
  },
  {
   "cell_type": "markdown",
   "metadata": {},
   "source": [
    "![Example](Data/1.png)"
   ]
  },
  {
   "cell_type": "markdown",
   "metadata": {},
   "source": [
    "## Prediction\n",
    "## Opinion Mining ...."
   ]
  },
  {
   "cell_type": "markdown",
   "metadata": {},
   "source": [
    "# Types of Machine Learning \n",
    " > Supervised Learning = You know the answers \n",
    " \n",
    " > Unsupervised Learning = You don't know the answers\n",
    " \n",
    " > Reinforcement Learning "
   ]
  },
  {
   "cell_type": "markdown",
   "metadata": {},
   "source": [
    "# Supervised Learning \n",
    " - ** You know the true value, and you can provide examples of the true value. ** \n",
    " - Cases, such as\n",
    "  - Spam filtering\n",
    "  - Automatic grading\n",
    "  - Automatic categorization\n",
    " - Classification or Regression of\n",
    "  - Hit or Miss: Something has ** either disease or not. Yes or Not **\n",
    "  - Ranking: Someone received ** either A+, B, C, or F. **\n",
    "  - Types: An article is ** either positive or negative.**\n",
    "  - Value prediction: The price of this artifact is ** X ** . ( Regression )\n",
    " - Methodologies\n",
    "  - Classification: estimating a discrete dependent value from observations\n",
    "  - Regression: estimating a (continuous) dependent value from observations"
   ]
  },
  {
   "cell_type": "markdown",
   "metadata": {},
   "source": [
    "# Unsupervised Learning \n",
    " - **You don’t know the true value, and you cannot provide examples of the true value.**\n",
    " - Cases, such as\n",
    "  - Discovering clusters\n",
    "  - Discovering latent factors (잠재적인 현상의 이유)\n",
    "  - Discovering graph structures\n",
    " - Clustering or filtering or completing of \n",
    "  - Finding ** the representative topic words from text data **\n",
    "  - Finding ** the latent image from facial data **\n",
    "  - Completing the incomplete ** matrix of product-review scores **\n",
    "  - Filtering the ** noise from the trajectory data ** \n",
    " - Methodologies\n",
    "  - Clustering: estimating sets and affiliations of instances to the sets\n",
    "  - Filtering: estimating underlying and fundamental signals from the mixture of signals and noises\n"
   ]
  }
 ],
 "metadata": {
  "kernelspec": {
   "display_name": "Python [work]",
   "language": "python",
   "name": "Python [work]"
  },
  "language_info": {
   "codemirror_mode": {
    "name": "ipython",
    "version": 3
   },
   "file_extension": ".py",
   "mimetype": "text/x-python",
   "name": "python",
   "nbconvert_exporter": "python",
   "pygments_lexer": "ipython3",
   "version": "3.5.2"
  }
 },
 "nbformat": 4,
 "nbformat_minor": 0
}
