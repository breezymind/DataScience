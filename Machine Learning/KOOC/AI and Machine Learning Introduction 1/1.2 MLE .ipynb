{
 "cells": [
  {
   "cell_type": "markdown",
   "metadata": {},
   "source": [
    "# MLE \n",
    " - 확률 "
   ]
  },
  {
   "cell_type": "markdown",
   "metadata": {},
   "source": [
    "# Binomial Distribution ( 이산 확률 분포 )\n",
    "- Binomial distribution is\n",
    " - The discrete probability distribution\n",
    " - Of the number of successes in a sequence of n independent yes/no experiments, and each success has the probability of θ\n",
    " - Also called a Bernoulli experiment\n",
    "- Flips are i.i.d\n",
    " - Independent events\n",
    " - Identically distributed according to binomial distribution"
   ]
  }
 ],
 "metadata": {
  "kernelspec": {
   "display_name": "Python [work]",
   "language": "python",
   "name": "Python [work]"
  },
  "language_info": {
   "codemirror_mode": {
    "name": "ipython",
    "version": 3
   },
   "file_extension": ".py",
   "mimetype": "text/x-python",
   "name": "python",
   "nbconvert_exporter": "python",
   "pygments_lexer": "ipython3",
   "version": "3.5.2"
  }
 },
 "nbformat": 4,
 "nbformat_minor": 0
}
