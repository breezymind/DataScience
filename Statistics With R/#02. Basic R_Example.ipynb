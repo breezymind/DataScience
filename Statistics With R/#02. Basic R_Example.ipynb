{
 "cells": [
  {
   "cell_type": "code",
   "execution_count": 1,
   "metadata": {
    "collapsed": false
   },
   "outputs": [
    {
     "name": "stderr",
     "output_type": "stream",
     "text": [
      "Installing package into 'C:/Users/byung/Documents/R/win-library/3.3'\n",
      "(as 'lib' is unspecified)\n"
     ]
    },
    {
     "name": "stdout",
     "output_type": "stream",
     "text": [
      "package 'hflights' successfully unpacked and MD5 sums checked\n",
      "\n",
      "The downloaded binary packages are in\n",
      "\tC:\\Users\\byung\\AppData\\Local\\Temp\\RtmpmcDcXL\\downloaded_packages\n"
     ]
    }
   ],
   "source": [
    "install.packages(\"hflights\", repos = \"http://cran.us.r-project.org\")"
   ]
  },
  {
   "cell_type": "code",
   "execution_count": 13,
   "metadata": {
    "collapsed": false
   },
   "outputs": [],
   "source": [
    "library(\"hflights\") "
   ]
  },
  {
   "cell_type": "markdown",
   "metadata": {},
   "source": [
    "## 비행정보를 활용한 도수 분포표 만들기 "
   ]
  },
  {
   "cell_type": "code",
   "execution_count": 5,
   "metadata": {
    "collapsed": false
   },
   "outputs": [
    {
     "name": "stdout",
     "output_type": "stream",
     "text": [
      "'data.frame':\t227496 obs. of  21 variables:\n",
      " $ Year             : int  2011 2011 2011 2011 2011 2011 2011 2011 2011 2011 ...\n",
      " $ Month            : int  1 1 1 1 1 1 1 1 1 1 ...\n",
      " $ DayofMonth       : int  1 2 3 4 5 6 7 8 9 10 ...\n",
      " $ DayOfWeek        : int  6 7 1 2 3 4 5 6 7 1 ...\n",
      " $ DepTime          : int  1400 1401 1352 1403 1405 1359 1359 1355 1443 1443 ...\n",
      " $ ArrTime          : int  1500 1501 1502 1513 1507 1503 1509 1454 1554 1553 ...\n",
      " $ UniqueCarrier    : chr  \"AA\" \"AA\" \"AA\" \"AA\" ...\n",
      " $ FlightNum        : int  428 428 428 428 428 428 428 428 428 428 ...\n",
      " $ TailNum          : chr  \"N576AA\" \"N557AA\" \"N541AA\" \"N403AA\" ...\n",
      " $ ActualElapsedTime: int  60 60 70 70 62 64 70 59 71 70 ...\n",
      " $ AirTime          : int  40 45 48 39 44 45 43 40 41 45 ...\n",
      " $ ArrDelay         : int  -10 -9 -8 3 -3 -7 -1 -16 44 43 ...\n",
      " $ DepDelay         : int  0 1 -8 3 5 -1 -1 -5 43 43 ...\n",
      " $ Origin           : chr  \"IAH\" \"IAH\" \"IAH\" \"IAH\" ...\n",
      " $ Dest             : chr  \"DFW\" \"DFW\" \"DFW\" \"DFW\" ...\n",
      " $ Distance         : int  224 224 224 224 224 224 224 224 224 224 ...\n",
      " $ TaxiIn           : int  7 6 5 9 9 6 12 7 8 6 ...\n",
      " $ TaxiOut          : int  13 9 17 22 9 13 15 12 22 19 ...\n",
      " $ Cancelled        : int  0 0 0 0 0 0 0 0 0 0 ...\n",
      " $ CancellationCode : chr  \"\" \"\" \"\" \"\" ...\n",
      " $ Diverted         : int  0 0 0 0 0 0 0 0 0 0 ...\n"
     ]
    },
    {
     "data": {
      "text/html": [
       "<table>\n",
       "<thead><tr><th></th><th scope=col>Year</th><th scope=col>Month</th><th scope=col>DayofMonth</th><th scope=col>DayOfWeek</th><th scope=col>DepTime</th><th scope=col>ArrTime</th><th scope=col>UniqueCarrier</th><th scope=col>FlightNum</th><th scope=col>TailNum</th><th scope=col>ActualElapsedTime</th><th scope=col>...</th><th scope=col>ArrDelay</th><th scope=col>DepDelay</th><th scope=col>Origin</th><th scope=col>Dest</th><th scope=col>Distance</th><th scope=col>TaxiIn</th><th scope=col>TaxiOut</th><th scope=col>Cancelled</th><th scope=col>CancellationCode</th><th scope=col>Diverted</th></tr></thead>\n",
       "<tbody>\n",
       "\t<tr><th scope=row>5424</th><td>2011  </td><td>1     </td><td>1     </td><td>6     </td><td>1400  </td><td>1500  </td><td>AA    </td><td>428   </td><td>N576AA</td><td>60    </td><td>...   </td><td>-10   </td><td>0     </td><td>IAH   </td><td>DFW   </td><td>224   </td><td>7     </td><td>13    </td><td>0     </td><td>      </td><td>0     </td></tr>\n",
       "\t<tr><th scope=row>5425</th><td>2011  </td><td>1     </td><td>2     </td><td>7     </td><td>1401  </td><td>1501  </td><td>AA    </td><td>428   </td><td>N557AA</td><td>60    </td><td>...   </td><td>-9    </td><td>1     </td><td>IAH   </td><td>DFW   </td><td>224   </td><td>6     </td><td>9     </td><td>0     </td><td>      </td><td>0     </td></tr>\n",
       "\t<tr><th scope=row>5426</th><td>2011  </td><td>1     </td><td>3     </td><td>1     </td><td>1352  </td><td>1502  </td><td>AA    </td><td>428   </td><td>N541AA</td><td>70    </td><td>...   </td><td>-8    </td><td>-8    </td><td>IAH   </td><td>DFW   </td><td>224   </td><td>5     </td><td>17    </td><td>0     </td><td>      </td><td>0     </td></tr>\n",
       "</tbody>\n",
       "</table>\n"
      ],
      "text/latex": [
       "\\begin{tabular}{r|lllllllllllllllllllll}\n",
       "  & Year & Month & DayofMonth & DayOfWeek & DepTime & ArrTime & UniqueCarrier & FlightNum & TailNum & ActualElapsedTime & ... & ArrDelay & DepDelay & Origin & Dest & Distance & TaxiIn & TaxiOut & Cancelled & CancellationCode & Diverted\\\\\n",
       "\\hline\n",
       "\t5424 & 2011   & 1      & 1      & 6      & 1400   & 1500   & AA     & 428    & N576AA & 60     & ...    & -10    & 0      & IAH    & DFW    & 224    & 7      & 13     & 0      &        & 0     \\\\\n",
       "\t5425 & 2011   & 1      & 2      & 7      & 1401   & 1501   & AA     & 428    & N557AA & 60     & ...    & -9     & 1      & IAH    & DFW    & 224    & 6      & 9      & 0      &        & 0     \\\\\n",
       "\t5426 & 2011   & 1      & 3      & 1      & 1352   & 1502   & AA     & 428    & N541AA & 70     & ...    & -8     & -8     & IAH    & DFW    & 224    & 5      & 17     & 0      &        & 0     \\\\\n",
       "\\end{tabular}\n"
      ],
      "text/plain": [
       "     Year Month DayofMonth DayOfWeek DepTime ArrTime UniqueCarrier FlightNum\n",
       "5424 2011     1          1         6    1400    1500            AA       428\n",
       "5425 2011     1          2         7    1401    1501            AA       428\n",
       "5426 2011     1          3         1    1352    1502            AA       428\n",
       "     TailNum ActualElapsedTime ... ArrDelay DepDelay Origin Dest Distance\n",
       "5424  N576AA                60 ...      -10        0    IAH  DFW      224\n",
       "5425  N557AA                60 ...       -9        1    IAH  DFW      224\n",
       "5426  N541AA                70 ...       -8       -8    IAH  DFW      224\n",
       "     TaxiIn TaxiOut Cancelled CancellationCode Diverted\n",
       "5424      7      13         0                         0\n",
       "5425      6       9         0                         0\n",
       "5426      5      17         0                         0"
      ]
     },
     "metadata": {},
     "output_type": "display_data"
    }
   ],
   "source": [
    "str(hflights)\n",
    "head(hflights,3)"
   ]
  },
  {
   "cell_type": "code",
   "execution_count": 8,
   "metadata": {
    "collapsed": false
   },
   "outputs": [
    {
     "data": {
      "text/html": [
       "<ol class=list-inline>\n",
       "\t<li>\"Year\"</li>\n",
       "\t<li>\"Month\"</li>\n",
       "\t<li>\"DayofMonth\"</li>\n",
       "\t<li>\"DayOfWeek\"</li>\n",
       "\t<li>\"DepTime\"</li>\n",
       "\t<li>\"ArrTime\"</li>\n",
       "\t<li>\"UniqueCarrier\"</li>\n",
       "\t<li>\"FlightNum\"</li>\n",
       "\t<li>\"TailNum\"</li>\n",
       "\t<li>\"ActualElapsedTime\"</li>\n",
       "\t<li>\"AirTime\"</li>\n",
       "\t<li>\"ArrDelay\"</li>\n",
       "\t<li>\"DepDelay\"</li>\n",
       "\t<li>\"Origin\"</li>\n",
       "\t<li>\"Dest\"</li>\n",
       "\t<li>\"Distance\"</li>\n",
       "\t<li>\"TaxiIn\"</li>\n",
       "\t<li>\"TaxiOut\"</li>\n",
       "\t<li>\"Cancelled\"</li>\n",
       "\t<li>\"CancellationCode\"</li>\n",
       "\t<li>\"Diverted\"</li>\n",
       "</ol>\n"
      ],
      "text/latex": [
       "\\begin{enumerate*}\n",
       "\\item \"Year\"\n",
       "\\item \"Month\"\n",
       "\\item \"DayofMonth\"\n",
       "\\item \"DayOfWeek\"\n",
       "\\item \"DepTime\"\n",
       "\\item \"ArrTime\"\n",
       "\\item \"UniqueCarrier\"\n",
       "\\item \"FlightNum\"\n",
       "\\item \"TailNum\"\n",
       "\\item \"ActualElapsedTime\"\n",
       "\\item \"AirTime\"\n",
       "\\item \"ArrDelay\"\n",
       "\\item \"DepDelay\"\n",
       "\\item \"Origin\"\n",
       "\\item \"Dest\"\n",
       "\\item \"Distance\"\n",
       "\\item \"TaxiIn\"\n",
       "\\item \"TaxiOut\"\n",
       "\\item \"Cancelled\"\n",
       "\\item \"CancellationCode\"\n",
       "\\item \"Diverted\"\n",
       "\\end{enumerate*}\n"
      ],
      "text/markdown": [
       "1. \"Year\"\n",
       "2. \"Month\"\n",
       "3. \"DayofMonth\"\n",
       "4. \"DayOfWeek\"\n",
       "5. \"DepTime\"\n",
       "6. \"ArrTime\"\n",
       "7. \"UniqueCarrier\"\n",
       "8. \"FlightNum\"\n",
       "9. \"TailNum\"\n",
       "10. \"ActualElapsedTime\"\n",
       "11. \"AirTime\"\n",
       "12. \"ArrDelay\"\n",
       "13. \"DepDelay\"\n",
       "14. \"Origin\"\n",
       "15. \"Dest\"\n",
       "16. \"Distance\"\n",
       "17. \"TaxiIn\"\n",
       "18. \"TaxiOut\"\n",
       "19. \"Cancelled\"\n",
       "20. \"CancellationCode\"\n",
       "21. \"Diverted\"\n",
       "\n",
       "\n"
      ],
      "text/plain": [
       " [1] \"Year\"              \"Month\"             \"DayofMonth\"       \n",
       " [4] \"DayOfWeek\"         \"DepTime\"           \"ArrTime\"          \n",
       " [7] \"UniqueCarrier\"     \"FlightNum\"         \"TailNum\"          \n",
       "[10] \"ActualElapsedTime\" \"AirTime\"           \"ArrDelay\"         \n",
       "[13] \"DepDelay\"          \"Origin\"            \"Dest\"             \n",
       "[16] \"Distance\"          \"TaxiIn\"            \"TaxiOut\"          \n",
       "[19] \"Cancelled\"         \"CancellationCode\"  \"Diverted\"         "
      ]
     },
     "metadata": {},
     "output_type": "display_data"
    }
   ],
   "source": [
    "names(hflights)"
   ]
  },
  {
   "cell_type": "markdown",
   "metadata": {},
   "source": [
    "### 도착 도시 별 Count"
   ]
  },
  {
   "cell_type": "code",
   "execution_count": 11,
   "metadata": {
    "collapsed": false
   },
   "outputs": [
    {
     "data": {
      "text/plain": [
       "\n",
       " ABQ  AEX  AGS  AMA  ANC  ASE  ATL  AUS  AVL  BFL  BHM  BKG  BNA  BOS  BPT  BRO \n",
       "2812  724    1 1297  125  125 7886 5022  350  504 2736  110 3481 1752    3 1692 \n",
       " BTR  BWI  CAE  CHS  CID  CLE  CLT  CMH  COS  CRP  CRW  CVG  DAL  DAY  DCA  DEN \n",
       "1762 2551  561 1200  410 2140 4735 1348 1657 4813  357 1535 9820  451 2699 5920 \n",
       " DFW  DSM  DTW  ECP  EGE  ELP  EWR  FLL  GJT  GPT  GRK  GRR  GSO  GSP  GUC  HDN \n",
       "6653  647 2601  729  110 3036 4314 2462  403 1618   42  677  630 1123   86  110 \n",
       " HNL  HOB  HRL  HSV  IAD  ICT  IND  JAN  JAX  JFK  LAS  LAX  LBB  LCH  LEX  LFT \n",
       " 402  309 3983  923 1980 1517 1750 2011 2135  695 4082 6064 1333  364  584 2313 \n",
       " LGA  LIT  LRD  MAF  MCI  MCO  MDW  MEM  MFE  MIA  MKE  MLU  MOB  MSP  MSY  MTJ \n",
       "2730 1579 1188 2306 3174 3687 2094 2399 1128 2463 1588  292 1674 2010 6823  164 \n",
       " OAK  OKC  OMA  ONT  ORD  ORF  PBI  PDX  PHL  PHX  PIT  PNS  PSP  RDU  RIC  RNO \n",
       " 690 3170 2044  952 5748  717 1253 1235 2367 5096 1664 1539  106 1740  900  243 \n",
       " RSW  SAN  SAT  SAV  SDF  SEA  SFO  SHV  SJC  SJU  SLC  SMF  SNA  STL  TPA  TUL \n",
       " 948 2936 4893  863 1279 2615 2818  787  885  391 2033 1014 1661 2509 3085 2924 \n",
       " TUS  TYS  VPS  XNA \n",
       "1565 1210  880 1172 "
      ]
     },
     "metadata": {},
     "output_type": "display_data"
    }
   ],
   "source": [
    "TableOfDest <- table(hflights$Dest)  #도착지 별 Count \n",
    "TableOfDest"
   ]
  },
  {
   "cell_type": "code",
   "execution_count": 16,
   "metadata": {
    "collapsed": false
   },
   "outputs": [
    {
     "data": {
      "image/png": "[encoded data removed]",
      "text/plain": [
       "plot without title"
      ]
     },
     "metadata": {},
     "output_type": "display_data"
    }
   ],
   "source": [
    "options(repr.plot.width=10, repr.plot.height=5)\n",
    "barplot(TableOfDest)"
   ]
  },
  {
   "cell_type": "code",
   "execution_count": 20,
   "metadata": {
    "collapsed": false
   },
   "outputs": [
    {
     "name": "stdout",
     "output_type": "stream",
     "text": [
      "[1] 116\n",
      "[1]    1 9820\n"
     ]
    }
   ],
   "source": [
    "print(length(TableOfDest))  # 116 개의 도시가 돈재.\n",
    "print(range(TableOfDest))  # 1~9820 Cnt 범위."
   ]
  },
  {
   "cell_type": "code",
   "execution_count": 23,
   "metadata": {
    "collapsed": false
   },
   "outputs": [
    {
     "data": {
      "text/plain": [
       "\n",
       " ATL  DAL  DFW  LAX  MSY \n",
       "7886 9820 6653 6064 6823 "
      ]
     },
     "metadata": {},
     "output_type": "display_data"
    },
    {
     "data": {
      "text/html": [
       "<strong>DAL:</strong> 9820"
      ],
      "text/latex": [
       "\\textbf{DAL:} 9820"
      ],
      "text/markdown": [
       "**DAL:** 9820"
      ],
      "text/plain": [
       " DAL \n",
       "9820 "
      ]
     },
     "metadata": {},
     "output_type": "display_data"
    },
    {
     "data": {
      "text/html": [
       "<strong>AGS:</strong> 1"
      ],
      "text/latex": [
       "\\textbf{AGS:} 1"
      ],
      "text/markdown": [
       "**AGS:** 1"
      ],
      "text/plain": [
       "AGS \n",
       "  1 "
      ]
     },
     "metadata": {},
     "output_type": "display_data"
    }
   ],
   "source": [
    "TableOfDest[TableOfDest > 6000] # 6000회 이상 도착한 곳.\n",
    "TableOfDest[TableOfDest == max(TableOfDest)] # DAL 9820회.\n",
    "TableOfDest[TableOfDest == min(TableOfDest)] # AGS 1회."
   ]
  },
  {
   "cell_type": "code",
   "execution_count": 27,
   "metadata": {
    "collapsed": false
   },
   "outputs": [
    {
     "data": {
      "image/png": "[encoded data removed]",
      "text/plain": [
       "plot without title"
      ]
     },
     "metadata": {},
     "output_type": "display_data"
    }
   ],
   "source": [
    "options(repr.plot.width=6, repr.plot.height=3)\n",
    "Over6000 <- TableOfDest[TableOfDest > 6000]\n",
    "barplot(Over6000[-6])"
   ]
  },
  {
   "cell_type": "markdown",
   "metadata": {},
   "source": [
    "## Cancer Data [ 나이에 따른 환자수 ]"
   ]
  },
  {
   "cell_type": "code",
   "execution_count": 32,
   "metadata": {
    "collapsed": false
   },
   "outputs": [
    {
     "data": {
      "text/html": [
       "<table>\n",
       "<thead><tr><th></th><th scope=col>age</th><th scope=col>sex</th><th scope=col>height</th><th scope=col>weight</th><th scope=col>dateOfoperation</th><th scope=col>cancerStaging</th><th scope=col>hospitalization</th><th scope=col>diseaseCode</th></tr></thead>\n",
       "<tbody>\n",
       "\t<tr><th scope=row>1</th><td>75        </td><td>남        </td><td>161       </td><td>64        </td><td>2011-06-22</td><td>I         </td><td>48        </td><td>C187      </td></tr>\n",
       "\t<tr><th scope=row>2</th><td>52        </td><td>여        </td><td>176.6     </td><td>75.3      </td><td>2011-05-19</td><td>IV        </td><td>17        </td><td>C187      </td></tr>\n",
       "\t<tr><th scope=row>3</th><td>67        </td><td>여        </td><td>154       </td><td>65.6      </td><td>2011-05-31</td><td>III       </td><td>10        </td><td>C187      </td></tr>\n",
       "</tbody>\n",
       "</table>\n"
      ],
      "text/latex": [
       "\\begin{tabular}{r|llllllll}\n",
       "  & age & sex & height & weight & dateOfoperation & cancerStaging & hospitalization & diseaseCode\\\\\n",
       "\\hline\n",
       "\t1 & 75         & 남         & 161        & 64         & 2011-06-22 & I          & 48         & C187      \\\\\n",
       "\t2 & 52         & 여         & 176.6      & 75.3       & 2011-05-19 & IV         & 17         & C187      \\\\\n",
       "\t3 & 67         & 여         & 154        & 65.6       & 2011-05-31 & III        & 10         & C187      \\\\\n",
       "\\end{tabular}\n"
      ],
      "text/plain": [
       "  age sex height weight dateOfoperation cancerStaging hospitalization\n",
       "1  75  남    161     64      2011-06-22             I              48\n",
       "2  52  여  176.6   75.3      2011-05-19            IV              17\n",
       "3  67  여    154   65.6      2011-05-31           III              10\n",
       "  diseaseCode\n",
       "1        C187\n",
       "2        C187\n",
       "3        C187"
      ]
     },
     "metadata": {},
     "output_type": "display_data"
    }
   ],
   "source": [
    "DF <- read.csv(\"../data/example_cancer.csv\",stringsAsFactors = F)\n",
    "head(DF,3)"
   ]
  },
  {
   "cell_type": "code",
   "execution_count": 12,
   "metadata": {
    "collapsed": false
   },
   "outputs": [
    {
     "name": "stdout",
     "output_type": "stream",
     "text": [
      "'data.frame':\t18310 obs. of  8 variables:\n",
      " $ age            : int  75 52 67 62 70 76 55 72 64 71 ...\n",
      " $ sex            : chr  \"남\" \"여\" \"여\" \"남\" ...\n",
      " $ height         : chr  \"161\" \"176.6\" \"154\" \"162\" ...\n",
      " $ weight         : chr  \"64\" \"75.3\" \"65.6\" \"57\" ...\n",
      " $ dateOfoperation: chr  \"2011-06-22\" \"2011-05-19\" \"2011-05-31\" \"2011-06-21\" ...\n",
      " $ cancerStaging  : chr  \"I\" \"IV\" \"III\" \"I\" ...\n",
      " $ hospitalization: int  48 17 10 11 10 10 12 18 15 35 ...\n",
      " $ diseaseCode    : chr  \"C187\" \"C187\" \"C187\" \"C187\" ...\n"
     ]
    }
   ],
   "source": [
    "str(DF)"
   ]
  },
  {
   "cell_type": "code",
   "execution_count": 29,
   "metadata": {
    "collapsed": false
   },
   "outputs": [
    {
     "ename": "ERROR",
     "evalue": "Error in cut(DF$age, breaks = (1:11) * 10): 객체 'DF'를 찾을 수 없습니다\n",
     "output_type": "error",
     "traceback": [
      "Error in cut(DF$age, breaks = (1:11) * 10): 객체 'DF'를 찾을 수 없습니다\nTraceback:\n",
      "1. table(cut(DF$age, breaks = (1:11) * 10))",
      "2. cut(DF$age, breaks = (1:11) * 10)"
     ]
    }
   ],
   "source": [
    "options(repr.plot.width=4, repr.plot.height=3)\n",
    "DegreeAge <- table(cut(DF$age,breaks = (1:11)*10))  # cut 을 통해 수치형 변수의 범위 지정. \n",
    "names(DegreeAge) <- c(\"10s\",\"20s\",\"30s\",\"40s\",\"50s\",\"60s\",\"70s\",\"80s\",\"90s\",\"100s\")\n",
    "barplot(DegreeAge)"
   ]
  },
  {
   "cell_type": "code",
   "execution_count": 33,
   "metadata": {
    "collapsed": false
   },
   "outputs": [
    {
     "data": {},
     "metadata": {},
     "output_type": "display_data"
    },
    {
     "data": {
      "image/png": "[encoded data removed]",
      "text/plain": [
       "plot without title"
      ]
     },
     "metadata": {},
     "output_type": "display_data"
    }
   ],
   "source": [
    "library(\"ggplot2\")\n",
    "library(\"ggthemes\")\n",
    "De <- ggplot(data=DF , aes(x=age))\n",
    "De + geom_freqpoly(binwidth=10, size=1.4, colour=\"orange\") + theme_wsj()"
   ]
  },
  {
   "cell_type": "markdown",
   "metadata": {},
   "source": [
    "## 전국 커피숍 규모 파악"
   ]
  },
  {
   "cell_type": "code",
   "execution_count": 34,
   "metadata": {
    "collapsed": false
   },
   "outputs": [
    {
     "name": "stderr",
     "output_type": "stream",
     "text": [
      "Installing package into 'C:/Users/byung/Documents/R/win-library/3.3'\n",
      "(as 'lib' is unspecified)\n",
      "also installing the dependency 'chron'\n",
      "\n"
     ]
    },
    {
     "name": "stdout",
     "output_type": "stream",
     "text": [
      "package 'chron' successfully unpacked and MD5 sums checked\n",
      "package 'data.table' successfully unpacked and MD5 sums checked\n",
      "\n",
      "The downloaded binary packages are in\n",
      "\tC:\\Users\\byung\\AppData\\Local\\Temp\\RtmpmcDcXL\\downloaded_packages\n"
     ]
    }
   ],
   "source": [
    "install.packages(\"data.table\", repos = \"http://cran.us.r-project.org\")   #data.frame 과 비슷하지만 처리속도가 빨라 빅데이터에 많이 사용 된다.\n",
    "library(\"data.table\")\n",
    "library(\"ggplot2\")"
   ]
  },
  {
   "cell_type": "code",
   "execution_count": 36,
   "metadata": {
    "collapsed": false
   },
   "outputs": [
    {
     "name": "stderr",
     "output_type": "stream",
     "text": [
      "Warning message:\n",
      "In fread(\"data/example_coffee.csv\", header = T, stringsAsFactors = T, : Bumped column 17 to type character on data row 11, field contains '기타'. Coercing previously read values in this column from logical, integer or numeric back to character which may not be lossless; e.g., if '00' and '000' occurred before they will now be just '0', and there may be inconsistencies with treatment of ',,' and ',NA,' too (if they occurred in this column before the bump). If this matters please rerun and set 'colClasses' to 'character' for this column. Please note that column type detection uses the first 5 rows, the middle 5 rows and the last 5 rows, so hopefully this message should be very rare. If reporting to datatable-help, please rerun and include the output from verbose=TRUE."
     ]
    },
    {
     "data": {
      "text/html": [
       "<table>\n",
       "<thead><tr><th></th><th scope=col>number</th><th scope=col>companyName</th><th scope=col>adress</th><th scope=col>adressBystreet</th><th scope=col>dateOflicensing</th><th scope=col>stateOfbusiness</th><th scope=col>dateOfclosure</th><th scope=col>startdateOfcessation</th><th scope=col>duedateOfcessation</th><th scope=col>dateOfreOpen</th><th scope=col>...</th><th scope=col>numOfmenWorker</th><th scope=col>yearOfStart</th><th scope=col>multipleUse</th><th scope=col>grade</th><th scope=col>sizeOfsite</th><th scope=col>numOfwomenWorker</th><th scope=col>vicintyOfsite</th><th scope=col>sanitaryName</th><th scope=col>businessCondition</th><th scope=col>totalOfworker</th></tr></thead>\n",
       "<tbody>\n",
       "\t<tr><th scope=row>1</th><td>1                                                                             </td><td>#11(Sharp eleven)                                                             </td><td>서울특별시 양천구 목동 956번지 롯데캐슬위너 상가동 107호(한두3길 44)          </td><td>서울특별시 양천구 목동중앙북로 38 (목동,롯데캐슬위너 상가동 107호(한두3길 44))</td><td>20080917                                                                      </td><td>운영중                                                                        </td><td>NA                                                                            </td><td>NA                                                                            </td><td>NA                                                                            </td><td>NA                                                                            </td><td>...                                                                           </td><td>NA                                                                            </td><td>2008                                                                          </td><td>N                                                                             </td><td>                                                                              </td><td>20.8                                                                          </td><td>NA                                                                            </td><td>                                                                              </td><td>휴게음식점                                                                    </td><td>커피숍                                                                        </td><td>NA                                                                            </td></tr>\n",
       "\t<tr><th scope=row>2</th><td>2                                                                                       </td><td>( 주)커피빈코리아청주지웰시티점                                                         </td><td>충청북도 청주시 흥덕구 복대동 3379번지 신영지웰시티1차상업시설 124-1, 125, 126호(1층)   </td><td>충청북도 청주시 흥덕구 대농로 17 (복대동,신영지웰시티1차상업시설 124-1, 125, 126호(1층))</td><td>20101124                                                                                </td><td>운영중                                                                                  </td><td>NA                                                                                      </td><td>NA                                                                                      </td><td>NA                                                                                      </td><td>NA                                                                                      </td><td>...                                                                                     </td><td>NA                                                                                      </td><td>2010                                                                                    </td><td>N                                                                                       </td><td>                                                                                        </td><td>212.72                                                                                  </td><td>NA                                                                                      </td><td>                                                                                        </td><td>휴게음식점                                                                              </td><td>커피숍                                                                                  </td><td>NA                                                                                      </td></tr>\n",
       "\t<tr><th scope=row>3</th><td>3                                              </td><td>(aA)더블에이                                   </td><td>경상북도 경산시 사동 39번지 108-2호            </td><td>경상북도 경산시 백자로10길 3-11, 108-2호 (사동)</td><td>20130902                                       </td><td>운영중                                         </td><td>NA                                             </td><td>NA                                             </td><td>NA                                             </td><td>NA                                             </td><td>...                                            </td><td>NA                                             </td><td>2013                                           </td><td>N                                              </td><td>                                               </td><td>20.04                                          </td><td>NA                                             </td><td>아파트지역                                     </td><td>휴게음식점                                     </td><td>커피숍                                         </td><td>NA                                             </td></tr>\n",
       "</tbody>\n",
       "</table>\n"
      ],
      "text/latex": [
       "\\begin{tabular}{r|lllllllllllllllllllllll}\n",
       "  & number & companyName & adress & adressBystreet & dateOflicensing & stateOfbusiness & dateOfclosure & startdateOfcessation & duedateOfcessation & dateOfreOpen & ... & numOfmenWorker & yearOfStart & multipleUse & grade & sizeOfsite & numOfwomenWorker & vicintyOfsite & sanitaryName & businessCondition & totalOfworker\\\\\n",
       "\\hline\n",
       "\t1 & 1                                                                              & \\#11(Sharp eleven)                                                            & 서울특별시 양천구 목동 956번지 롯데캐슬위너 상가동 107호(한두3길 44)           & 서울특별시 양천구 목동중앙북로 38 (목동,롯데캐슬위너 상가동 107호(한두3길 44)) & 20080917                                                                       & 운영중                                                                         & NA                                                                             & NA                                                                             & NA                                                                             & NA                                                                             & ...                                                                            & NA                                                                             & 2008                                                                           & N                                                                              &                                                                                & 20.8                                                                           & NA                                                                             &                                                                                & 휴게음식점                                                                     & 커피숍                                                                         & NA                                                                            \\\\\n",
       "\t2 & 2                                                                                        & ( 주)커피빈코리아청주지웰시티점                                                          & 충청북도 청주시 흥덕구 복대동 3379번지 신영지웰시티1차상업시설 124-1, 125, 126호(1층)    & 충청북도 청주시 흥덕구 대농로 17 (복대동,신영지웰시티1차상업시설 124-1, 125, 126호(1층)) & 20101124                                                                                 & 운영중                                                                                   & NA                                                                                       & NA                                                                                       & NA                                                                                       & NA                                                                                       & ...                                                                                      & NA                                                                                       & 2010                                                                                     & N                                                                                        &                                                                                          & 212.72                                                                                   & NA                                                                                       &                                                                                          & 휴게음식점                                                                               & 커피숍                                                                                   & NA                                                                                      \\\\\n",
       "\t3 & 3                                               & (aA)더블에이                                    & 경상북도 경산시 사동 39번지 108-2호             & 경상북도 경산시 백자로10길 3-11, 108-2호 (사동) & 20130902                                        & 운영중                                          & NA                                              & NA                                              & NA                                              & NA                                              & ...                                             & NA                                              & 2013                                            & N                                               &                                                 & 20.04                                           & NA                                              & 아파트지역                                      & 휴게음식점                                      & 커피숍                                          & NA                                             \\\\\n",
       "\\end{tabular}\n"
      ],
      "text/plain": [
       "  number                     companyName\n",
       "1      1               #11(Sharp eleven)\n",
       "2      2 ( 주)커피빈코리아청주지웰시티점\n",
       "3      3                    (aA)더블에이\n",
       "                                                                                  adress\n",
       "1                   서울특별시 양천구 목동 956번지 롯데캐슬위너 상가동 107호(한두3길 44)\n",
       "2 충청북도 청주시 흥덕구 복대동 3379번지 신영지웰시티1차상업시설 124-1, 125, 126호(1층) \n",
       "3                                                    경상북도 경산시 사동 39번지 108-2호\n",
       "                                                                            adressBystreet\n",
       "1           서울특별시 양천구 목동중앙북로 38 (목동,롯데캐슬위너 상가동 107호(한두3길 44))\n",
       "2 충청북도 청주시 흥덕구 대농로 17 (복대동,신영지웰시티1차상업시설 124-1, 125, 126호(1층))\n",
       "3                                          경상북도 경산시 백자로10길 3-11, 108-2호 (사동)\n",
       "  dateOflicensing stateOfbusiness dateOfclosure startdateOfcessation\n",
       "1        20080917          운영중            NA                   NA\n",
       "2        20101124          운영중            NA                   NA\n",
       "3        20130902          운영중            NA                   NA\n",
       "  duedateOfcessation dateOfreOpen ... numOfmenWorker yearOfStart multipleUse\n",
       "1                 NA           NA ...             NA        2008           N\n",
       "2                 NA           NA ...             NA        2010           N\n",
       "3                 NA           NA ...             NA        2013           N\n",
       "  grade sizeOfsite numOfwomenWorker vicintyOfsite sanitaryName\n",
       "1            20.80               NA                 휴게음식점\n",
       "2           212.72               NA                 휴게음식점\n",
       "3            20.04               NA    아파트지역   휴게음식점\n",
       "  businessCondition totalOfworker\n",
       "1            커피숍            NA\n",
       "2            커피숍            NA\n",
       "3            커피숍            NA"
      ]
     },
     "metadata": {},
     "output_type": "display_data"
    }
   ],
   "source": [
    "DF <- fread(\"../data/example_coffee.csv\", header = T,stringsAsFactors = T,data.table = F)  # read.csv 보다 빨리 데이터를 가지고온다.\n",
    "head(DF,3)"
   ]
  },
  {
   "cell_type": "code",
   "execution_count": 39,
   "metadata": {
    "collapsed": false
   },
   "outputs": [
    {
     "name": "stdout",
     "output_type": "stream",
     "text": [
      "'data.frame':\t46832 obs. of  16 variables:\n",
      " $ number           : int  1 2 3 4 5 6 7 8 9 10 ...\n",
      " $ companyName      : Factor w/ 36991 levels \"#11(Sharp eleven)\",..: 1 3 4 5 6 7 8 9 10 11 ...\n",
      " $ dateOflicensing  : int  20080917 20101124 20130902 20121108 20020911 20130822 20140605 20111209 20130315 20110908 ...\n",
      " $ stateOfbusiness  : Factor w/ 2 levels \"운영중\",\"폐업 등\": 1 1 1 1 2 1 1 1 1 1 ...\n",
      " $ areaOfsite       : logi  NA NA NA NA NA NA ...\n",
      " $ waterwork        : Factor w/ 5 levels \"\",\"간이상수도\",..: 4 4 4 4 4 4 4 4 4 4 ...\n",
      " $ numOfmenWorker   : int  NA NA NA NA 0 NA NA NA NA NA ...\n",
      " $ yearOfStart      : int  2008 2010 2013 2012 2002 2013 2014 2011 2013 2011 ...\n",
      " $ multipleUse      : Factor w/ 3 levels \"\",\"N\",\"Y\": 2 2 2 2 2 2 2 2 2 2 ...\n",
      " $ grade            : Factor w/ 8 levels \"\",\"갑\",\"관리\",..: 1 1 1 1 1 1 1 1 1 1 ...\n",
      " $ sizeOfsite       : num  20.8 212.7 20 64.2 11.4 ...\n",
      " $ numOfwomenWorker : int  NA NA NA NA 0 NA NA NA NA NA ...\n",
      " $ vicintyOfsite    : Factor w/ 8 levels \"\",\"결혼예식장주변\",..: 1 1 4 1 1 1 1 3 1 3 ...\n",
      " $ sanitaryName     : Factor w/ 2 levels \"\",\"휴게음식점\": 2 2 2 2 2 2 2 2 2 2 ...\n",
      " $ businessCondition: Factor w/ 2 levels \"\",\"커피숍\": 2 2 2 2 2 2 2 2 2 2 ...\n",
      " $ totalOfworker    : int  NA NA NA NA 0 NA NA NA NA NA ...\n"
     ]
    },
    {
     "data": {
      "text/html": [
       "\"data.frame\""
      ],
      "text/latex": [
       "\"data.frame\""
      ],
      "text/markdown": [
       "\"data.frame\""
      ],
      "text/plain": [
       "[1] \"data.frame\""
      ]
     },
     "metadata": {},
     "output_type": "display_data"
    },
    {
     "ename": "ERROR",
     "evalue": "Error in eval(expr, envir, enclos): 객체 'adress'를 찾을 수 없습니다\n",
     "output_type": "error",
     "traceback": [
      "Error in eval(expr, envir, enclos): 객체 'adress'를 찾을 수 없습니다\nTraceback:\n",
      "1. subset(DF, select = c(-adress, -adressBystreet, -dateOfclosure, \n .     -startdateOfcessation, -duedateOfcessation, -dateOfreOpen, \n .     -zip))",
      "2. subset.data.frame(DF, select = c(-adress, -adressBystreet, -dateOfclosure, \n .     -startdateOfcessation, -duedateOfcessation, -dateOfreOpen, \n .     -zip))",
      "3. eval(substitute(select), nl, parent.frame())",
      "4. eval(expr, envir, enclos)"
     ]
    }
   ],
   "source": [
    "str(DF)\n",
    "class(DF)\n",
    "DF <- subset(DF,select=c(-adress,-adressBystreet,-dateOfclosure,-startdateOfcessation,-duedateOfcessation,-dateOfreOpen,-zip))\n",
    "names(DF)"
   ]
  },
  {
   "cell_type": "code",
   "execution_count": 41,
   "metadata": {
    "collapsed": false
   },
   "outputs": [
    {
     "data": {
      "text/html": [
       "<ol class=list-inline>\n",
       "\t<li>1964</li>\n",
       "\t<li>2015</li>\n",
       "</ol>\n"
      ],
      "text/latex": [
       "\\begin{enumerate*}\n",
       "\\item 1964\n",
       "\\item 2015\n",
       "\\end{enumerate*}\n"
      ],
      "text/markdown": [
       "1. 1964\n",
       "2. 2015\n",
       "\n",
       "\n"
      ],
      "text/plain": [
       "[1] 1964 2015"
      ]
     },
     "metadata": {},
     "output_type": "display_data"
    }
   ],
   "source": [
    "range(DF$yearOfStart,na.rm = T)"
   ]
  },
  {
   "cell_type": "code",
   "execution_count": 43,
   "metadata": {
    "collapsed": false
   },
   "outputs": [
    {
     "data": {
      "text/html": [
       "<table>\n",
       "<thead><tr><th></th><th scope=col>number</th><th scope=col>companyName</th><th scope=col>dateOflicensing</th><th scope=col>stateOfbusiness</th><th scope=col>areaOfsite</th><th scope=col>waterwork</th><th scope=col>numOfmenWorker</th><th scope=col>yearOfStart</th><th scope=col>multipleUse</th><th scope=col>grade</th><th scope=col>sizeOfsite</th><th scope=col>numOfwomenWorker</th><th scope=col>vicintyOfsite</th><th scope=col>sanitaryName</th><th scope=col>businessCondition</th><th scope=col>totalOfworker</th></tr></thead>\n",
       "<tbody>\n",
       "\t<tr><th scope=row>23035</th><td>23035     </td><td>엠에스커피</td><td>19641125  </td><td>폐업 등   </td><td>NA        </td><td>상수도전용</td><td>0         </td><td>1964      </td><td>N         </td><td>          </td><td>0         </td><td>0         </td><td>기타      </td><td>휴게음식점</td><td>커피숍    </td><td>0         </td></tr>\n",
       "\t<tr><th scope=row>46290</th><td>46290     </td><td>홀릭      </td><td>19640929  </td><td>폐업 등   </td><td>NA        </td><td>          </td><td>0         </td><td>1964      </td><td>N         </td><td>기타      </td><td>0         </td><td>0         </td><td>기타      </td><td>휴게음식점</td><td>커피숍    </td><td>0         </td></tr>\n",
       "</tbody>\n",
       "</table>\n"
      ],
      "text/latex": [
       "\\begin{tabular}{r|llllllllllllllll}\n",
       "  & number & companyName & dateOflicensing & stateOfbusiness & areaOfsite & waterwork & numOfmenWorker & yearOfStart & multipleUse & grade & sizeOfsite & numOfwomenWorker & vicintyOfsite & sanitaryName & businessCondition & totalOfworker\\\\\n",
       "\\hline\n",
       "\t23035 & 23035      & 엠에스커피 & 19641125   & 폐업 등    & NA         & 상수도전용 & 0          & 1964       & N          &            & 0          & 0          & 기타       & 휴게음식점 & 커피숍     & 0         \\\\\n",
       "\t46290 & 46290      & 홀릭       & 19640929   & 폐업 등    & NA         &            & 0          & 1964       & N          & 기타       & 0          & 0          & 기타       & 휴게음식점 & 커피숍     & 0         \\\\\n",
       "\\end{tabular}\n"
      ],
      "text/plain": [
       "      number companyName dateOflicensing stateOfbusiness areaOfsite  waterwork\n",
       "23035  23035  엠에스커피        19641125         폐업 등         NA 상수도전용\n",
       "46290  46290        홀릭        19640929         폐업 등         NA           \n",
       "      numOfmenWorker yearOfStart multipleUse grade sizeOfsite numOfwomenWorker\n",
       "23035              0        1964           N                0                0\n",
       "46290              0        1964           N  기타          0                0\n",
       "      vicintyOfsite sanitaryName businessCondition totalOfworker\n",
       "23035          기타   휴게음식점            커피숍             0\n",
       "46290          기타   휴게음식점            커피숍             0"
      ]
     },
     "metadata": {},
     "output_type": "display_data"
    },
    {
     "data": {
      "text/html": [
       "<ol class=list-inline>\n",
       "\t<li>운영중</li>\n",
       "\t<li>폐업 등</li>\n",
       "</ol>\n"
      ],
      "text/latex": [
       "\\begin{enumerate*}\n",
       "\\item 운영중\n",
       "\\item 폐업 등\n",
       "\\end{enumerate*}\n"
      ],
      "text/markdown": [
       "1. 운영중\n",
       "2. 폐업 등\n",
       "\n",
       "\n"
      ],
      "text/plain": [
       "[1] 운영중  폐업 등\n",
       "Levels: 운영중 폐업 등"
      ]
     },
     "metadata": {},
     "output_type": "display_data"
    }
   ],
   "source": [
    "subset(DF,subset = (yearOfStart == min(DF$yearOfStart,na.rm = T)))\n",
    "unique(DF$stateOfbusiness)"
   ]
  },
  {
   "cell_type": "markdown",
   "metadata": {},
   "source": [
    "### 현존하는 가장 오래된 커피샵"
   ]
  },
  {
   "cell_type": "code",
   "execution_count": 46,
   "metadata": {
    "collapsed": false
   },
   "outputs": [
    {
     "data": {
      "text/html": [
       "<ol class=list-inline>\n",
       "\t<li>1967</li>\n",
       "\t<li>2015</li>\n",
       "</ol>\n"
      ],
      "text/latex": [
       "\\begin{enumerate*}\n",
       "\\item 1967\n",
       "\\item 2015\n",
       "\\end{enumerate*}\n"
      ],
      "text/markdown": [
       "1. 1967\n",
       "2. 2015\n",
       "\n",
       "\n"
      ],
      "text/plain": [
       "[1] 1967 2015"
      ]
     },
     "metadata": {},
     "output_type": "display_data"
    },
    {
     "data": {
      "text/html": [
       "<table>\n",
       "<thead><tr><th></th><th scope=col>number</th><th scope=col>companyName</th><th scope=col>dateOflicensing</th><th scope=col>stateOfbusiness</th><th scope=col>areaOfsite</th><th scope=col>waterwork</th><th scope=col>numOfmenWorker</th><th scope=col>yearOfStart</th><th scope=col>multipleUse</th><th scope=col>grade</th><th scope=col>sizeOfsite</th><th scope=col>numOfwomenWorker</th><th scope=col>vicintyOfsite</th><th scope=col>sanitaryName</th><th scope=col>businessCondition</th><th scope=col>totalOfworker</th></tr></thead>\n",
       "<tbody>\n",
       "\t<tr><th scope=row>24108</th><td>24108      </td><td>왕관 커피숍</td><td>19671013   </td><td>운영중     </td><td>NA         </td><td>상수도전용 </td><td>0          </td><td>1967       </td><td>N          </td><td>갑         </td><td>76.02      </td><td>1          </td><td>기타       </td><td>휴게음식점 </td><td>커피숍     </td><td>1          </td></tr>\n",
       "\t<tr><th scope=row>44934</th><td>44934     </td><td>학커피숍  </td><td>19670414  </td><td>운영중    </td><td>NA        </td><td>          </td><td>0         </td><td>1967      </td><td>N         </td><td>          </td><td>59.13     </td><td>0         </td><td>          </td><td>휴게음식점</td><td>커피숍    </td><td>0         </td></tr>\n",
       "</tbody>\n",
       "</table>\n"
      ],
      "text/latex": [
       "\\begin{tabular}{r|llllllllllllllll}\n",
       "  & number & companyName & dateOflicensing & stateOfbusiness & areaOfsite & waterwork & numOfmenWorker & yearOfStart & multipleUse & grade & sizeOfsite & numOfwomenWorker & vicintyOfsite & sanitaryName & businessCondition & totalOfworker\\\\\n",
       "\\hline\n",
       "\t24108 & 24108       & 왕관 커피숍 & 19671013    & 운영중      & NA          & 상수도전용  & 0           & 1967        & N           & 갑          & 76.02       & 1           & 기타        & 휴게음식점  & 커피숍      & 1          \\\\\n",
       "\t44934 & 44934      & 학커피숍   & 19670414   & 운영중     & NA         &            & 0          & 1967       & N          &            & 59.13      & 0          &            & 휴게음식점 & 커피숍     & 0         \\\\\n",
       "\\end{tabular}\n"
      ],
      "text/plain": [
       "      number companyName dateOflicensing stateOfbusiness areaOfsite  waterwork\n",
       "24108  24108 왕관 커피숍        19671013          운영중         NA 상수도전용\n",
       "44934  44934    학커피숍        19670414          운영중         NA           \n",
       "      numOfmenWorker yearOfStart multipleUse grade sizeOfsite numOfwomenWorker\n",
       "24108              0        1967           N    갑      76.02                1\n",
       "44934              0        1967           N            59.13                0\n",
       "      vicintyOfsite sanitaryName businessCondition totalOfworker\n",
       "24108          기타   휴게음식점            커피숍             1\n",
       "44934                 휴게음식점            커피숍             0"
      ]
     },
     "metadata": {},
     "output_type": "display_data"
    }
   ],
   "source": [
    "DFFilter <- subset(DF,subset = (stateOfbusiness==\"운영중\"))\n",
    "range(DFFilter$yearOfStart,na.rm = T)\n",
    "subset(DFFilter,subset = (yearOfStart == min(DFFilter$yearOfStart,na.rm = T)))"
   ]
  },
  {
   "cell_type": "markdown",
   "metadata": {},
   "source": [
    "### 매년 개업하는 카페 수"
   ]
  },
  {
   "cell_type": "code",
   "execution_count": 50,
   "metadata": {
    "collapsed": false
   },
   "outputs": [
    {
     "data": {
      "text/plain": [
       "\n",
       "1964 1966 1967 1968 1969 1970 1971 1972 1974 1975 1976 1979 1980 1981 1982 1983 \n",
       "   2    2    3    1    2    4    6    3    1    2    5    4    9    8   12    9 \n",
       "1984 1985 1986 1987 1988 1989 1990 1991 1992 1993 1994 1995 1996 1997 1998 1999 \n",
       "  11   18   21   21   26   23   25   28   37   50   48   48   41   54   54   46 \n",
       "2000 2001 2002 2003 2004 2005 2006 2007 2008 2009 2010 2011 2012 2013 2014 2015 \n",
       "  89  183  398  799  648  654  863 1233 1579 2489 4172 5942 6315 7270 9905 3650 "
      ]
     },
     "metadata": {},
     "output_type": "display_data"
    },
    {
     "data": {
      "image/png": "[encoded data removed]",
      "text/plain": [
       "plot without title"
      ]
     },
     "metadata": {},
     "output_type": "display_data"
    }
   ],
   "source": [
    "table(DF$yearOfStart)\n",
    "barplot(table(DF$yearOfStart))"
   ]
  },
  {
   "cell_type": "code",
   "execution_count": 52,
   "metadata": {
    "collapsed": false
   },
   "outputs": [
    {
     "name": "stderr",
     "output_type": "stream",
     "text": [
      "Warning message:\n",
      ": `geom_bar()` no longer has a `binwidth` parameter. Please use `geom_histogram()` instead.Warning message:\n",
      ": Removed 19 rows containing non-finite values (stat_bin)."
     ]
    },
    {
     "data": {},
     "metadata": {},
     "output_type": "display_data"
    },
    {
     "data": {
      "image/png": "[encoded data removed]",
      "text/plain": [
       "plot without title"
      ]
     },
     "metadata": {},
     "output_type": "display_data"
    }
   ],
   "source": [
    "qplot(yearOfStart,data=DF,geom=\"bar\",binwidth=1)"
   ]
  },
  {
   "cell_type": "markdown",
   "metadata": {},
   "source": [
    "### 연도에 따른 영업상태 분할."
   ]
  },
  {
   "cell_type": "code",
   "execution_count": 55,
   "metadata": {
    "collapsed": false
   },
   "outputs": [
    {
     "data": {
      "text/plain": [
       "         \n",
       "          1964 1966 1967 1968 1969 1970 1971 1972 1974 1975 1976 1979 1980 1981\n",
       "  운영중     0    0    2    0    0    2    4    2    1    1    1    2    3    6\n",
       "  폐업 등    2    2    1    1    2    2    2    1    0    1    4    2    6    2\n",
       "         \n",
       "          1982 1983 1984 1985 1986 1987 1988 1989 1990 1991 1992 1993 1994 1995\n",
       "  운영중     2    3    4    5    5    6   11    5    7    7    3   14   14   13\n",
       "  폐업 등   10    6    7   13   16   15   15   18   18   21   34   36   34   35\n",
       "         \n",
       "          1996 1997 1998 1999 2000 2001 2002 2003 2004 2005 2006 2007 2008 2009\n",
       "  운영중    14   21   25   23   26   76  105  163  180  204  314  496  729 1229\n",
       "  폐업 등   27   33   29   23   63  107  293  636  468  450  549  737  850 1260\n",
       "         \n",
       "          2010 2011 2012 2013 2014 2015\n",
       "  운영중  2503 3961 4642 6045 9125 3564\n",
       "  폐업 등 1669 1981 1673 1225  780   86"
      ]
     },
     "metadata": {},
     "output_type": "display_data"
    }
   ],
   "source": [
    "Freq <- table(DF$stateOfbusiness,DF$yearOfStart)\n",
    "Freq"
   ]
  },
  {
   "cell_type": "code",
   "execution_count": 57,
   "metadata": {
    "collapsed": false
   },
   "outputs": [
    {
     "data": {
      "text/plain": [
       "         \n",
       "                1997       1998       1999       2000       2001       2002\n",
       "  운영중  0.38888889 0.46296296 0.50000000 0.29213483 0.41530055 0.26381910\n",
       "  폐업 등 0.61111111 0.53703704 0.50000000 0.70786517 0.58469945 0.73618090\n",
       "         \n",
       "                2003       2004       2005       2006       2007       2008\n",
       "  운영중  0.20400501 0.27777778 0.31192661 0.36384705 0.40227088 0.46168461\n",
       "  폐업 등 0.79599499 0.72222222 0.68807339 0.63615295 0.59772912 0.53831539\n",
       "         \n",
       "                2009       2010       2011       2012       2013       2014\n",
       "  운영중  0.49377260 0.59995206 0.66661057 0.73507522 0.83149931 0.92125189\n",
       "  폐업 등 0.50622740 0.40004794 0.33338943 0.26492478 0.16850069 0.07874811\n",
       "         \n",
       "                2015\n",
       "  운영중  0.97643836\n",
       "  폐업 등 0.02356164"
      ]
     },
     "metadata": {},
     "output_type": "display_data"
    }
   ],
   "source": [
    "Freq <- Freq[,which(colnames(Freq) >= \"1997\")]\n",
    "PFreq <- prop.table(Freq,margin = 2)    # 열 별로 prop.table Margin 1 은 행별로. \n",
    "PFreq"
   ]
  },
  {
   "cell_type": "code",
   "execution_count": 59,
   "metadata": {
    "collapsed": false
   },
   "outputs": [
    {
     "data": {
      "text/plain": [
       "         \n",
       "                  1997         1998         1999         2000         2001\n",
       "  운영중  0.0006281595 0.0007478089 0.0006879842 0.0007777213 0.0022733391\n",
       "  폐업 등 0.0025557621 0.0022459727 0.0017812887 0.0048791822 0.0082868649\n",
       "         \n",
       "                  2002         2003         2004         2005         2006\n",
       "  운영중  0.0031407975 0.0048757142 0.0053842242 0.0061021208 0.0093924800\n",
       "  폐업 등 0.0226920694 0.0492565056 0.0362453532 0.0348513011 0.0425185874\n",
       "         \n",
       "                  2007         2008         2009         2010         2011\n",
       "  운영중  0.0148365290 0.0218061081 0.0367622865 0.0748706291 0.1184828453\n",
       "  폐업 등 0.0570786865 0.0658302354 0.0975836431 0.1292596035 0.1534231722\n",
       "         \n",
       "                  2012         2013         2014         2015\n",
       "  운영중  0.1388531602 0.1808201968 0.2729502558 0.1066076396\n",
       "  폐업 등 0.1295693928 0.0948729864 0.0604089219 0.0066604709"
      ]
     },
     "metadata": {},
     "output_type": "display_data"
    }
   ],
   "source": [
    "PFreq2 <- prop.table(Freq,margin = 1)\n",
    "PFreq2"
   ]
  },
  {
   "cell_type": "code",
   "execution_count": 64,
   "metadata": {
    "collapsed": false
   },
   "outputs": [
    {
     "data": {
      "text/html": [
       "<table>\n",
       "<thead><tr><th></th><th scope=col>Time</th><th scope=col>Open</th><th scope=col>Close</th><th scope=col>POpen</th><th scope=col>PClose</th></tr></thead>\n",
       "<tbody>\n",
       "\t<tr><th scope=row>1</th><td>1997             </td><td>21               </td><td>33               </td><td>0.388888888888889</td><td>0.611111111111111</td></tr>\n",
       "\t<tr><th scope=row>2</th><td>1998             </td><td>25               </td><td>29               </td><td>0.462962962962963</td><td>0.537037037037037</td></tr>\n",
       "\t<tr><th scope=row>3</th><td>1999</td><td>23  </td><td>23  </td><td>0.5 </td><td>0.5 </td></tr>\n",
       "\t<tr><th scope=row>4</th><td>2000             </td><td>26               </td><td>63               </td><td>0.292134831460674</td><td>0.707865168539326</td></tr>\n",
       "\t<tr><th scope=row>5</th><td>2001             </td><td>76               </td><td>107              </td><td>0.415300546448087</td><td>0.584699453551913</td></tr>\n",
       "\t<tr><th scope=row>6</th><td>2002             </td><td>105              </td><td>293              </td><td>0.263819095477387</td><td>0.736180904522613</td></tr>\n",
       "\t<tr><th scope=row>7</th><td>2003             </td><td>163              </td><td>636              </td><td>0.204005006257822</td><td>0.795994993742178</td></tr>\n",
       "\t<tr><th scope=row>8</th><td>2004             </td><td>180              </td><td>468              </td><td>0.277777777777778</td><td>0.722222222222222</td></tr>\n",
       "\t<tr><th scope=row>9</th><td>2005             </td><td>204              </td><td>450              </td><td>0.311926605504587</td><td>0.688073394495413</td></tr>\n",
       "\t<tr><th scope=row>10</th><td>2006             </td><td>314              </td><td>549              </td><td>0.363847045191193</td><td>0.636152954808807</td></tr>\n",
       "\t<tr><th scope=row>11</th><td>2007             </td><td>496              </td><td>737              </td><td>0.402270884022709</td><td>0.597729115977291</td></tr>\n",
       "\t<tr><th scope=row>12</th><td>2008             </td><td>729              </td><td>850              </td><td>0.461684610512983</td><td>0.538315389487017</td></tr>\n",
       "\t<tr><th scope=row>13</th><td>2009             </td><td>1229             </td><td>1260             </td><td>0.493772599437525</td><td>0.506227400562475</td></tr>\n",
       "\t<tr><th scope=row>14</th><td>2010             </td><td>2503             </td><td>1669             </td><td>0.599952061361457</td><td>0.400047938638543</td></tr>\n",
       "\t<tr><th scope=row>15</th><td>2011             </td><td>3961             </td><td>1981             </td><td>0.666610568832043</td><td>0.333389431167957</td></tr>\n",
       "\t<tr><th scope=row>16</th><td>2012            </td><td>4642            </td><td>1673            </td><td>0.73507521773555</td><td>0.26492478226445</td></tr>\n",
       "\t<tr><th scope=row>17</th><td>2013             </td><td>6045             </td><td>1225             </td><td>0.831499312242091</td><td>0.168500687757909</td></tr>\n",
       "\t<tr><th scope=row>18</th><td>2014              </td><td>9125              </td><td>780               </td><td>0.921251892983342 </td><td>0.0787481070166583</td></tr>\n",
       "</tbody>\n",
       "</table>\n"
      ],
      "text/latex": [
       "\\begin{tabular}{r|lllll}\n",
       "  & Time & Open & Close & POpen & PClose\\\\\n",
       "\\hline\n",
       "\t1 & 1997              & 21                & 33                & 0.388888888888889 & 0.611111111111111\\\\\n",
       "\t2 & 1998              & 25                & 29                & 0.462962962962963 & 0.537037037037037\\\\\n",
       "\t3 & 1999 & 23   & 23   & 0.5  & 0.5 \\\\\n",
       "\t4 & 2000              & 26                & 63                & 0.292134831460674 & 0.707865168539326\\\\\n",
       "\t5 & 2001              & 76                & 107               & 0.415300546448087 & 0.584699453551913\\\\\n",
       "\t6 & 2002              & 105               & 293               & 0.263819095477387 & 0.736180904522613\\\\\n",
       "\t7 & 2003              & 163               & 636               & 0.204005006257822 & 0.795994993742178\\\\\n",
       "\t8 & 2004              & 180               & 468               & 0.277777777777778 & 0.722222222222222\\\\\n",
       "\t9 & 2005              & 204               & 450               & 0.311926605504587 & 0.688073394495413\\\\\n",
       "\t10 & 2006              & 314               & 549               & 0.363847045191193 & 0.636152954808807\\\\\n",
       "\t11 & 2007              & 496               & 737               & 0.402270884022709 & 0.597729115977291\\\\\n",
       "\t12 & 2008              & 729               & 850               & 0.461684610512983 & 0.538315389487017\\\\\n",
       "\t13 & 2009              & 1229              & 1260              & 0.493772599437525 & 0.506227400562475\\\\\n",
       "\t14 & 2010              & 2503              & 1669              & 0.599952061361457 & 0.400047938638543\\\\\n",
       "\t15 & 2011              & 3961              & 1981              & 0.666610568832043 & 0.333389431167957\\\\\n",
       "\t16 & 2012             & 4642             & 1673             & 0.73507521773555 & 0.26492478226445\\\\\n",
       "\t17 & 2013              & 6045              & 1225              & 0.831499312242091 & 0.168500687757909\\\\\n",
       "\t18 & 2014               & 9125               & 780                & 0.921251892983342  & 0.0787481070166583\\\\\n",
       "\\end{tabular}\n"
      ],
      "text/plain": [
       "   Time Open Close     POpen     PClose\n",
       "1  1997   21    33 0.3888889 0.61111111\n",
       "2  1998   25    29 0.4629630 0.53703704\n",
       "3  1999   23    23 0.5000000 0.50000000\n",
       "4  2000   26    63 0.2921348 0.70786517\n",
       "5  2001   76   107 0.4153005 0.58469945\n",
       "6  2002  105   293 0.2638191 0.73618090\n",
       "7  2003  163   636 0.2040050 0.79599499\n",
       "8  2004  180   468 0.2777778 0.72222222\n",
       "9  2005  204   450 0.3119266 0.68807339\n",
       "10 2006  314   549 0.3638470 0.63615295\n",
       "11 2007  496   737 0.4022709 0.59772912\n",
       "12 2008  729   850 0.4616846 0.53831539\n",
       "13 2009 1229  1260 0.4937726 0.50622740\n",
       "14 2010 2503  1669 0.5999521 0.40004794\n",
       "15 2011 3961  1981 0.6666106 0.33338943\n",
       "16 2012 4642  1673 0.7350752 0.26492478\n",
       "17 2013 6045  1225 0.8314993 0.16850069\n",
       "18 2014 9125   780 0.9212519 0.07874811"
      ]
     },
     "metadata": {},
     "output_type": "display_data"
    }
   ],
   "source": [
    "NewDF <- data.frame(colnames(Freq),Freq[1,],Freq[2,],PFreq[1,],PFreq[2,])\n",
    "rownames(NewDF) <- NULL\n",
    "colnames(NewDF) <- c(\"Time\",\"Open\",\"Close\",\"POpen\",\"PClose\")\n",
    "NewDF <- NewDF[-19,] # 2015년은 데이터 부족으로 제외 \n",
    "NewDF"
   ]
  },
  {
   "cell_type": "code",
   "execution_count": 67,
   "metadata": {
    "collapsed": false
   },
   "outputs": [
    {
     "data": {},
     "metadata": {},
     "output_type": "display_data"
    },
    {
     "data": {
      "image/png": "[encoded data removed]",
      "text/plain": [
       "plot without title"
      ]
     },
     "metadata": {},
     "output_type": "display_data"
    }
   ],
   "source": [
    "options(repr.plot.width=8, repr.plot.height=3)\n",
    "GP <- ggplot(NewDF, aes(x=factor(Time),y=Close,group = 1))\n",
    "GP + geom_line(colour=\"steelblue1\", size=1) + geom_point(colour=\"steelblue\",size=3) + geom_line(aes(y=Open), colour=\"tomato2\",size=1) + geom_point(aes(y=Open), colour = \"red\", size = 3) + theme_bw()"
   ]
  },
  {
   "cell_type": "markdown",
   "metadata": {},
   "source": [
    "### 커피숍 규모파악"
   ]
  },
  {
   "cell_type": "code",
   "execution_count": 69,
   "metadata": {
    "collapsed": false
   },
   "outputs": [
    {
     "data": {
      "text/plain": [
       "    Min.  1st Qu.   Median     Mean  3rd Qu.     Max.     NA's \n",
       "    0.00    28.12    50.00    75.53    93.75 24080.00       19 "
      ]
     },
     "metadata": {},
     "output_type": "display_data"
    }
   ],
   "source": [
    "Size <- DF$sizeOfsite\n",
    "summary(Size)"
   ]
  },
  {
   "cell_type": "code",
   "execution_count": 71,
   "metadata": {
    "collapsed": false
   },
   "outputs": [
    {
     "data": {
      "image/png": "[encoded data removed]",
      "text/plain": [
       "plot without title"
      ]
     },
     "metadata": {},
     "output_type": "display_data"
    }
   ],
   "source": [
    "plot(Size) # 10000 이상의 특이한 점 발견."
   ]
  },
  {
   "cell_type": "code",
   "execution_count": 73,
   "metadata": {
    "collapsed": false
   },
   "outputs": [
    {
     "data": {
      "text/plain": [
       "   Min. 1st Qu.  Median    Mean 3rd Qu.    Max.    NA's \n",
       "   0.00   28.12   50.00   75.02   93.75 1406.00      20 "
      ]
     },
     "metadata": {},
     "output_type": "display_data"
    }
   ],
   "source": [
    "#아웃라이어 ( 특이점 ) 제거 )\n",
    "\n",
    "Size[Size > 10000] <-  NA\n",
    "summary(Size)"
   ]
  },
  {
   "cell_type": "code",
   "execution_count": 75,
   "metadata": {
    "collapsed": false
   },
   "outputs": [
    {
     "data": {
      "text/plain": [
       "   Min. 1st Qu.  Median    Mean 3rd Qu.    Max. \n",
       "   0.25   30.00   51.92   77.23   95.30 1406.00 "
      ]
     },
     "metadata": {},
     "output_type": "display_data"
    }
   ],
   "source": [
    "Size[Size==0] <- NA\n",
    "Size <- Size[complete.cases(Size)]\n",
    "summary(Size)"
   ]
  },
  {
   "cell_type": "code",
   "execution_count": 81,
   "metadata": {
    "collapsed": false
   },
   "outputs": [
    {
     "name": "stderr",
     "output_type": "stream",
     "text": [
      "Warning message:\n",
      ": Removed 1060 rows containing non-finite values (stat_bin).Warning message:\n",
      ": Removed 2 rows containing missing values (geom_path)."
     ]
    },
    {
     "data": {},
     "metadata": {},
     "output_type": "display_data"
    },
    {
     "data": {
      "image/png": "[encoded data removed]",
      "text/plain": [
       "plot without title"
      ]
     },
     "metadata": {},
     "output_type": "display_data"
    }
   ],
   "source": [
    "DegreeOfSize <- table(cut(Size,breaks=c(0:72)*20))  # 20단위로 계급생성.\n",
    "GE <- ggplot(data=DF,aes(x=sizeOfsite))\n",
    "GE + geom_freqpoly(binwidth=10, size=1.2, colour=\"orange\") + scale_x_continuous(limits = c(0,300), breaks=seq(0,300,20)) + theme_wsj()"
   ]
  },
  {
   "cell_type": "markdown",
   "metadata": {},
   "source": [
    "### 전국 인구조사 자료정리 ( 전처리 )"
   ]
  },
  {
   "cell_type": "code",
   "execution_count": 102,
   "metadata": {
    "collapsed": false
   },
   "outputs": [
    {
     "name": "stdout",
     "output_type": "stream",
     "text": [
      "'data.frame':\t281 obs. of  7 variables:\n",
      " $ City      : chr  \"서울특별시  (1100000000)\" \"서울특별시 종로구 (1111000000)\" \"서울특별시 중구 (1114000000)\" \"서울특별시 용산구 (1117000000)\" ...\n",
      " $ Population: chr  \"10,078,850\" \"155,695\" \"126,817\" \"235,186\" ...\n",
      " $ Households: chr  \"4,197,478\" \"72,882\" \"59,614\" \"108,138\" ...\n",
      " $ PersInHou : num  2.4 2.14 2.13 2.17 2.35 2.28 2.26 2.36 2.41 2.36 ...\n",
      " $ Male      : chr  \"4,962,774\" \"76,962\" \"63,292\" \"114,119\" ...\n",
      " $ Female    : chr  \"5,116,076\" \"78,733\" \"63,525\" \"121,067\" ...\n",
      " $ SexRatio  : num  0.97 0.98 1 0.94 0.99 0.97 1.01 1 0.96 0.97 ...\n"
     ]
    },
    {
     "data": {
      "text/html": [
       "<table>\n",
       "<thead><tr><th></th><th scope=col>City</th><th scope=col>Population</th><th scope=col>Households</th><th scope=col>PersInHou</th><th scope=col>Male</th><th scope=col>Female</th><th scope=col>SexRatio</th></tr></thead>\n",
       "<tbody>\n",
       "\t<tr><th scope=row>1</th><td>서울특별시  (1100000000)</td><td>10,078,850              </td><td>4,197,478               </td><td>2.4                     </td><td>4,962,774               </td><td>5,116,076               </td><td>0.97                    </td></tr>\n",
       "\t<tr><th scope=row>2</th><td>서울특별시 종로구 (1111000000)</td><td>155,695                       </td><td>72,882                        </td><td>2.14                          </td><td>76,962                        </td><td>78,733                        </td><td>0.98                          </td></tr>\n",
       "\t<tr><th scope=row>3</th><td>서울특별시 중구 (1114000000)</td><td>126,817                     </td><td>59,614                      </td><td>2.13                        </td><td>63,292                      </td><td>63,525                      </td><td>1                           </td></tr>\n",
       "</tbody>\n",
       "</table>\n"
      ],
      "text/latex": [
       "\\begin{tabular}{r|lllllll}\n",
       "  & City & Population & Households & PersInHou & Male & Female & SexRatio\\\\\n",
       "\\hline\n",
       "\t1 & 서울특별시  (1100000000) & 10,078,850               & 4,197,478                & 2.4                      & 4,962,774                & 5,116,076                & 0.97                    \\\\\n",
       "\t2 & 서울특별시 종로구 (1111000000) & 155,695                        & 72,882                         & 2.14                           & 76,962                         & 78,733                         & 0.98                          \\\\\n",
       "\t3 & 서울특별시 중구 (1114000000) & 126,817                      & 59,614                       & 2.13                         & 63,292                       & 63,525                       & 1                           \\\\\n",
       "\\end{tabular}\n"
      ],
      "text/plain": [
       "                            City Population Households PersInHou      Male\n",
       "1       서울특별시  (1100000000) 10,078,850  4,197,478      2.40 4,962,774\n",
       "2 서울특별시 종로구 (1111000000)    155,695     72,882      2.14    76,962\n",
       "3   서울특별시 중구 (1114000000)    126,817     59,614      2.13    63,292\n",
       "     Female SexRatio\n",
       "1 5,116,076     0.97\n",
       "2    78,733     0.98\n",
       "3    63,525     1.00"
      ]
     },
     "metadata": {},
     "output_type": "display_data"
    }
   ],
   "source": [
    "DF <- read.csv(\"../data/example_population.csv\",stringsAsFactors = F)\n",
    "str(DF)\n",
    "head(DF,3)"
   ]
  },
  {
   "cell_type": "code",
   "execution_count": 86,
   "metadata": {
    "collapsed": false
   },
   "outputs": [
    {
     "name": "stderr",
     "output_type": "stream",
     "text": [
      "Installing package into 'C:/Users/byung/Documents/R/win-library/3.3'\n",
      "(as 'lib' is unspecified)\n",
      "Warning message:\n",
      ": package 'stringr' is in use and will not be installed"
     ]
    }
   ],
   "source": [
    "install.packages(\"stringr\", repos = \"http://cran.us.r-project.org\")\n",
    "library(\"stringr\")"
   ]
  },
  {
   "cell_type": "code",
   "execution_count": 103,
   "metadata": {
    "collapsed": false
   },
   "outputs": [
    {
     "data": {
      "text/html": [
       "<table>\n",
       "<tbody>\n",
       "\t<tr><td>서울특별시</td><td>          </td></tr>\n",
       "\t<tr><td>서울특별시</td><td>종로구    </td></tr>\n",
       "\t<tr><td>서울특별시</td><td>중구      </td></tr>\n",
       "</tbody>\n",
       "</table>\n"
      ],
      "text/latex": [
       "\\begin{tabular}{ll}\n",
       "\t 서울특별시 &           \\\\\n",
       "\t 서울특별시 & 종로구    \\\\\n",
       "\t 서울특별시 & 중구      \\\\\n",
       "\\end{tabular}\n"
      ],
      "text/markdown": [
       "1. \"서울특별시\"\n",
       "2. \"서울특별시\"\n",
       "3. \"서울특별시\"\n",
       "4. \" \"\n",
       "5. \"종로구 \"\n",
       "6. \"중구 \"\n",
       "\n",
       "\n"
      ],
      "text/plain": [
       "     [,1]         [,2]     \n",
       "[1,] \"서울특별시\" \" \"      \n",
       "[2,] \"서울특별시\" \"종로구 \"\n",
       "[3,] \"서울특별시\" \"중구 \"  "
      ]
     },
     "metadata": {},
     "output_type": "display_data"
    }
   ],
   "source": [
    "#str_split_fixed(문자열, 분할 기준문자,분리할 개수)\n",
    "temp <- str_split_fixed(DF[,1],\"\\\\(\",2)\n",
    "NewCity <- str_split_fixed(temp[,1],\" \",2)\n",
    "head(NewCity,3)"
   ]
  },
  {
   "cell_type": "code",
   "execution_count": 104,
   "metadata": {
    "collapsed": false
   },
   "outputs": [
    {
     "data": {
      "text/html": [
       "<table>\n",
       "<thead><tr><th scope=col>Provinces</th><th scope=col>city</th></tr></thead>\n",
       "<tbody>\n",
       "\t<tr><td>서울특별시</td><td>          </td></tr>\n",
       "\t<tr><td>서울특별시</td><td>종로구    </td></tr>\n",
       "\t<tr><td>서울특별시</td><td>중구      </td></tr>\n",
       "</tbody>\n",
       "</table>\n"
      ],
      "text/latex": [
       "\\begin{tabular}{ll}\n",
       " Provinces & city\\\\\n",
       "\\hline\n",
       "\t 서울특별시 &           \\\\\n",
       "\t 서울특별시 & 종로구    \\\\\n",
       "\t 서울특별시 & 중구      \\\\\n",
       "\\end{tabular}\n"
      ],
      "text/markdown": [
       "1. \"서울특별시\"\n",
       "2. \"서울특별시\"\n",
       "3. \"서울특별시\"\n",
       "4. \" \"\n",
       "5. \"종로구 \"\n",
       "6. \"중구 \"\n",
       "\n",
       "\n"
      ],
      "text/plain": [
       "     Provinces    city     \n",
       "[1,] \"서울특별시\" \" \"      \n",
       "[2,] \"서울특별시\" \"종로구 \"\n",
       "[3,] \"서울특별시\" \"중구 \"  "
      ]
     },
     "metadata": {},
     "output_type": "display_data"
    }
   ],
   "source": [
    "colnames(NewCity) <- c(\"Provinces\",\"city\")\n",
    "head(NewCity,3)"
   ]
  },
  {
   "cell_type": "code",
   "execution_count": 105,
   "metadata": {
    "collapsed": false
   },
   "outputs": [
    {
     "data": {
      "text/html": [
       "<table>\n",
       "<thead><tr><th></th><th scope=col>Provinces</th><th scope=col>city</th><th scope=col>Population</th><th scope=col>Households</th><th scope=col>PersInHou</th><th scope=col>Male</th><th scope=col>Female</th><th scope=col>SexRatio</th></tr></thead>\n",
       "<tbody>\n",
       "\t<tr><th scope=row>2</th><td>서울특별시</td><td>종로구    </td><td>155,695   </td><td>72,882    </td><td>2.14      </td><td>76,962    </td><td>78,733    </td><td>0.98      </td></tr>\n",
       "\t<tr><th scope=row>3</th><td>서울특별시</td><td>중구      </td><td>126,817   </td><td>59,614    </td><td>2.13      </td><td>63,292    </td><td>63,525    </td><td>1         </td></tr>\n",
       "\t<tr><th scope=row>4</th><td>서울특별시</td><td>용산구    </td><td>235,186   </td><td>108,138   </td><td>2.17      </td><td>114,119   </td><td>121,067   </td><td>0.94      </td></tr>\n",
       "\t<tr><th scope=row>5</th><td>서울특별시</td><td>성동구    </td><td>298,145   </td><td>126,915   </td><td>2.35      </td><td>148,265   </td><td>149,880   </td><td>0.99      </td></tr>\n",
       "\t<tr><th scope=row>6</th><td>서울특별시</td><td>광진구    </td><td>362,197   </td><td>158,769   </td><td>2.28      </td><td>177,946   </td><td>184,251   </td><td>0.97      </td></tr>\n",
       "\t<tr><th scope=row>7</th><td>서울특별시</td><td>동대문구  </td><td>362,604   </td><td>160,110   </td><td>2.26      </td><td>181,825   </td><td>180,779   </td><td>1.01      </td></tr>\n",
       "\t<tr><th scope=row>8</th><td>서울특별시</td><td>중랑구    </td><td>417,976   </td><td>177,077   </td><td>2.36      </td><td>208,657   </td><td>209,319   </td><td>1         </td></tr>\n",
       "\t<tr><th scope=row>9</th><td>서울특별시</td><td>성북구    </td><td>464,176   </td><td>192,670   </td><td>2.41      </td><td>227,676   </td><td>236,500   </td><td>0.96      </td></tr>\n",
       "\t<tr><th scope=row>10</th><td>서울특별시</td><td>강북구    </td><td>333,523   </td><td>141,325   </td><td>2.36      </td><td>164,304   </td><td>169,219   </td><td>0.97      </td></tr>\n",
       "\t<tr><th scope=row>11</th><td>서울특별시</td><td>도봉구    </td><td>353,284   </td><td>137,260   </td><td>2.57      </td><td>174,075   </td><td>179,209   </td><td>0.97      </td></tr>\n",
       "</tbody>\n",
       "</table>\n"
      ],
      "text/latex": [
       "\\begin{tabular}{r|llllllll}\n",
       "  & Provinces & city & Population & Households & PersInHou & Male & Female & SexRatio\\\\\n",
       "\\hline\n",
       "\t2 & 서울특별시 & 종로구     & 155,695    & 72,882     & 2.14       & 76,962     & 78,733     & 0.98      \\\\\n",
       "\t3 & 서울특별시 & 중구       & 126,817    & 59,614     & 2.13       & 63,292     & 63,525     & 1         \\\\\n",
       "\t4 & 서울특별시 & 용산구     & 235,186    & 108,138    & 2.17       & 114,119    & 121,067    & 0.94      \\\\\n",
       "\t5 & 서울특별시 & 성동구     & 298,145    & 126,915    & 2.35       & 148,265    & 149,880    & 0.99      \\\\\n",
       "\t6 & 서울특별시 & 광진구     & 362,197    & 158,769    & 2.28       & 177,946    & 184,251    & 0.97      \\\\\n",
       "\t7 & 서울특별시 & 동대문구   & 362,604    & 160,110    & 2.26       & 181,825    & 180,779    & 1.01      \\\\\n",
       "\t8 & 서울특별시 & 중랑구     & 417,976    & 177,077    & 2.36       & 208,657    & 209,319    & 1         \\\\\n",
       "\t9 & 서울특별시 & 성북구     & 464,176    & 192,670    & 2.41       & 227,676    & 236,500    & 0.96      \\\\\n",
       "\t10 & 서울특별시 & 강북구     & 333,523    & 141,325    & 2.36       & 164,304    & 169,219    & 0.97      \\\\\n",
       "\t11 & 서울특별시 & 도봉구     & 353,284    & 137,260    & 2.57       & 174,075    & 179,209    & 0.97      \\\\\n",
       "\\end{tabular}\n"
      ],
      "text/plain": [
       "    Provinces      city Population Households PersInHou    Male  Female\n",
       "2  서울특별시   종로구     155,695     72,882      2.14  76,962  78,733\n",
       "3  서울특별시     중구     126,817     59,614      2.13  63,292  63,525\n",
       "4  서울특별시   용산구     235,186    108,138      2.17 114,119 121,067\n",
       "5  서울특별시   성동구     298,145    126,915      2.35 148,265 149,880\n",
       "6  서울특별시   광진구     362,197    158,769      2.28 177,946 184,251\n",
       "7  서울특별시 동대문구     362,604    160,110      2.26 181,825 180,779\n",
       "8  서울특별시   중랑구     417,976    177,077      2.36 208,657 209,319\n",
       "9  서울특별시   성북구     464,176    192,670      2.41 227,676 236,500\n",
       "10 서울특별시   강북구     333,523    141,325      2.36 164,304 169,219\n",
       "11 서울특별시   도봉구     353,284    137,260      2.57 174,075 179,209\n",
       "   SexRatio\n",
       "2      0.98\n",
       "3      1.00\n",
       "4      0.94\n",
       "5      0.99\n",
       "6      0.97\n",
       "7      1.01\n",
       "8      1.00\n",
       "9      0.96\n",
       "10     0.97\n",
       "11     0.97"
      ]
     },
     "metadata": {},
     "output_type": "display_data"
    }
   ],
   "source": [
    "DF <- data.frame(NewCity,DF[,c(2:7)])\n",
    "DF[DF==\" \"] <- NA\n",
    "DF <- DF[complete.cases(DF),]\n",
    "head(DF,10)"
   ]
  },
  {
   "cell_type": "code",
   "execution_count": 115,
   "metadata": {
    "collapsed": false
   },
   "outputs": [
    {
     "data": {
      "text/html": [
       "<table>\n",
       "<thead><tr><th></th><th scope=col>Provinces</th><th scope=col>city</th><th scope=col>Population</th><th scope=col>Households</th><th scope=col>PersInHou</th><th scope=col>Male</th><th scope=col>Female</th><th scope=col>SexRatio</th></tr></thead>\n",
       "<tbody>\n",
       "\t<tr><th scope=row>2</th><td>서울특별시</td><td>종로구    </td><td>155695    </td><td>72882     </td><td>2.14      </td><td>76962     </td><td>78733     </td><td>0.98      </td></tr>\n",
       "\t<tr><th scope=row>3</th><td>서울특별시</td><td>중구      </td><td>126817    </td><td>59614     </td><td>2.13      </td><td>63292     </td><td>63525     </td><td>1         </td></tr>\n",
       "\t<tr><th scope=row>4</th><td>서울특별시</td><td>용산구    </td><td>235186    </td><td>108138    </td><td>2.17      </td><td>114119    </td><td>121067    </td><td>0.94      </td></tr>\n",
       "\t<tr><th scope=row>5</th><td>서울특별시</td><td>성동구    </td><td>298145    </td><td>126915    </td><td>2.35      </td><td>148265    </td><td>149880    </td><td>0.99      </td></tr>\n",
       "\t<tr><th scope=row>6</th><td>서울특별시</td><td>광진구    </td><td>362197    </td><td>158769    </td><td>2.28      </td><td>177946    </td><td>184251    </td><td>0.97      </td></tr>\n",
       "\t<tr><th scope=row>7</th><td>서울특별시</td><td>동대문구  </td><td>362604    </td><td>160110    </td><td>2.26      </td><td>181825    </td><td>180779    </td><td>1.01      </td></tr>\n",
       "\t<tr><th scope=row>8</th><td>서울특별시</td><td>중랑구    </td><td>417976    </td><td>177077    </td><td>2.36      </td><td>208657    </td><td>209319    </td><td>1         </td></tr>\n",
       "\t<tr><th scope=row>9</th><td>서울특별시</td><td>성북구    </td><td>464176    </td><td>192670    </td><td>2.41      </td><td>227676    </td><td>236500    </td><td>0.96      </td></tr>\n",
       "\t<tr><th scope=row>10</th><td>서울특별시</td><td>강북구    </td><td>333523    </td><td>141325    </td><td>2.36      </td><td>164304    </td><td>169219    </td><td>0.97      </td></tr>\n",
       "\t<tr><th scope=row>11</th><td>서울특별시</td><td>도봉구    </td><td>353284    </td><td>137260    </td><td>2.57      </td><td>174075    </td><td>179209    </td><td>0.97      </td></tr>\n",
       "</tbody>\n",
       "</table>\n"
      ],
      "text/latex": [
       "\\begin{tabular}{r|llllllll}\n",
       "  & Provinces & city & Population & Households & PersInHou & Male & Female & SexRatio\\\\\n",
       "\\hline\n",
       "\t2 & 서울특별시 & 종로구     & 155695     & 72882      & 2.14       & 76962      & 78733      & 0.98      \\\\\n",
       "\t3 & 서울특별시 & 중구       & 126817     & 59614      & 2.13       & 63292      & 63525      & 1         \\\\\n",
       "\t4 & 서울특별시 & 용산구     & 235186     & 108138     & 2.17       & 114119     & 121067     & 0.94      \\\\\n",
       "\t5 & 서울특별시 & 성동구     & 298145     & 126915     & 2.35       & 148265     & 149880     & 0.99      \\\\\n",
       "\t6 & 서울특별시 & 광진구     & 362197     & 158769     & 2.28       & 177946     & 184251     & 0.97      \\\\\n",
       "\t7 & 서울특별시 & 동대문구   & 362604     & 160110     & 2.26       & 181825     & 180779     & 1.01      \\\\\n",
       "\t8 & 서울특별시 & 중랑구     & 417976     & 177077     & 2.36       & 208657     & 209319     & 1         \\\\\n",
       "\t9 & 서울특별시 & 성북구     & 464176     & 192670     & 2.41       & 227676     & 236500     & 0.96      \\\\\n",
       "\t10 & 서울특별시 & 강북구     & 333523     & 141325     & 2.36       & 164304     & 169219     & 0.97      \\\\\n",
       "\t11 & 서울특별시 & 도봉구     & 353284     & 137260     & 2.57       & 174075     & 179209     & 0.97      \\\\\n",
       "\\end{tabular}\n"
      ],
      "text/plain": [
       "    Provinces      city Population Households PersInHou   Male Female SexRatio\n",
       "2  서울특별시   종로구      155695      72882      2.14  76962  78733     0.98\n",
       "3  서울특별시     중구      126817      59614      2.13  63292  63525     1.00\n",
       "4  서울특별시   용산구      235186     108138      2.17 114119 121067     0.94\n",
       "5  서울특별시   성동구      298145     126915      2.35 148265 149880     0.99\n",
       "6  서울특별시   광진구      362197     158769      2.28 177946 184251     0.97\n",
       "7  서울특별시 동대문구      362604     160110      2.26 181825 180779     1.01\n",
       "8  서울특별시   중랑구      417976     177077      2.36 208657 209319     1.00\n",
       "9  서울특별시   성북구      464176     192670      2.41 227676 236500     0.96\n",
       "10 서울특별시   강북구      333523     141325      2.36 164304 169219     0.97\n",
       "11 서울특별시   도봉구      353284     137260      2.57 174075 179209     0.97"
      ]
     },
     "metadata": {},
     "output_type": "display_data"
    }
   ],
   "source": [
    "for(i in 3:8){\n",
    "  DF[,i] <- sapply(DF[,i], function(x) gsub(\",\",\"\",x)) # , 제거 \n",
    "  DF[,i] <- as.character(DF[,i]) # 문자 변환 \n",
    "  DF[,i] <- as.numeric(DF[,i]) # 숫자로 다시 변환.\n",
    "}\n",
    "head(DF,10)"
   ]
  },
  {
   "cell_type": "code",
   "execution_count": 107,
   "metadata": {
    "collapsed": false
   },
   "outputs": [
    {
     "name": "stdout",
     "output_type": "stream",
     "text": [
      "'data.frame':\t263 obs. of  8 variables:\n",
      " $ Provinces : Factor w/ 17 levels \"강원도\",\"경기도\",..: 9 9 9 9 9 9 9 9 9 9 ...\n",
      " $ city      : Factor w/ 241 levels \" \",\"가평군 \",..: 188 189 158 105 32 65 190 106 6 63 ...\n",
      " $ Population: chr  \"155,695\" \"126,817\" \"235,186\" \"298,145\" ...\n",
      " $ Households: chr  \"72,882\" \"59,614\" \"108,138\" \"126,915\" ...\n",
      " $ PersInHou : num  2.14 2.13 2.17 2.35 2.28 2.26 2.36 2.41 2.36 2.57 ...\n",
      " $ Male      : chr  \"76,962\" \"63,292\" \"114,119\" \"148,265\" ...\n",
      " $ Female    : chr  \"78,733\" \"63,525\" \"121,067\" \"149,880\" ...\n",
      " $ SexRatio  : num  0.98 1 0.94 0.99 0.97 1.01 1 0.96 0.97 0.97 ...\n"
     ]
    }
   ],
   "source": [
    "str(DF)"
   ]
  },
  {
   "cell_type": "code",
   "execution_count": 109,
   "metadata": {
    "collapsed": false
   },
   "outputs": [
    {
     "ename": "ERROR",
     "evalue": "Error in FUN(X[[i]], ...): 인자의 'type' (character)이 올바르지 않습니다\n",
     "output_type": "error",
     "traceback": [
      "Error in FUN(X[[i]], ...): 인자의 'type' (character)이 올바르지 않습니다\nTraceback:\n",
      "1. tapply(DF$Population, DF$Provinces, sum)",
      "2. lapply(X = ans[index], FUN = FUN, ...)"
     ]
    }
   ],
   "source": [
    "ProPopul <- tapply(DF$Population, DF$Provinces, sum)"
   ]
  },
  {
   "cell_type": "code",
   "execution_count": 116,
   "metadata": {
    "collapsed": false
   },
   "outputs": [
    {
     "name": "stdout",
     "output_type": "stream",
     "text": [
      "'data.frame':\t263 obs. of  8 variables:\n",
      " $ Provinces : Factor w/ 16 levels \"강원도\",\"경기도\",..: 9 9 9 9 9 9 9 9 9 9 ...\n",
      " $ city      : Factor w/ 241 levels \" \",\"가평군 \",..: 188 189 158 105 32 65 190 106 6 63 ...\n",
      " $ Population: num  155695 126817 235186 298145 362197 ...\n",
      " $ Households: num  72882 59614 108138 126915 158769 ...\n",
      " $ PersInHou : num  2.14 2.13 2.17 2.35 2.28 2.26 2.36 2.41 2.36 2.57 ...\n",
      " $ Male      : num  76962 63292 114119 148265 177946 ...\n",
      " $ Female    : num  78733 63525 121067 149880 184251 ...\n",
      " $ SexRatio  : num  0.98 1 0.94 0.99 0.97 1.01 1 0.96 0.97 0.97 ...\n"
     ]
    }
   ],
   "source": [
    "DF[,1] <- factor(DF[,1])\n",
    "str(DF)"
   ]
  },
  {
   "cell_type": "code",
   "execution_count": 119,
   "metadata": {
    "collapsed": false
   },
   "outputs": [
    {
     "data": {
      "text/html": [
       "<dl class=dl-horizontal>\n",
       "\t<dt>강원도</dt>\n",
       "\t\t<dd>1547166</dd>\n",
       "\t<dt>경기도</dt>\n",
       "\t\t<dd>18723822</dd>\n",
       "\t<dt>경상남도</dt>\n",
       "\t\t<dd>4428762</dd>\n",
       "\t<dt>경상북도</dt>\n",
       "\t\t<dd>3215695</dd>\n",
       "\t<dt>광주광역시</dt>\n",
       "\t\t<dd>1476974</dd>\n",
       "\t<dt>대구광역시</dt>\n",
       "\t\t<dd>2491137</dd>\n",
       "\t<dt>대전광역시</dt>\n",
       "\t\t<dd>1525656</dd>\n",
       "\t<dt>부산광역시</dt>\n",
       "\t\t<dd>3517491</dd>\n",
       "\t<dt>서울특별시</dt>\n",
       "\t\t<dd>10078850</dd>\n",
       "\t<dt>울산광역시</dt>\n",
       "\t\t<dd>1169768</dd>\n",
       "\t<dt>인천광역시</dt>\n",
       "\t\t<dd>2914271</dd>\n",
       "\t<dt>전라남도</dt>\n",
       "\t\t<dd>1902638</dd>\n",
       "\t<dt>전라북도</dt>\n",
       "\t\t<dd>2523806</dd>\n",
       "\t<dt>제주특별자치도</dt>\n",
       "\t\t<dd>615250</dd>\n",
       "\t<dt>충청남도</dt>\n",
       "\t\t<dd>2671383</dd>\n",
       "\t<dt>충청북도</dt>\n",
       "\t\t<dd>2414568</dd>\n",
       "</dl>\n"
      ],
      "text/markdown": [
       "강원도\n",
       ":   1547166경기도\n",
       ":   18723822경상남도\n",
       ":   4428762경상북도\n",
       ":   3215695광주광역시\n",
       ":   1476974대구광역시\n",
       ":   2491137대전광역시\n",
       ":   1525656부산광역시\n",
       ":   3517491서울특별시\n",
       ":   10078850울산광역시\n",
       ":   1169768인천광역시\n",
       ":   2914271전라남도\n",
       ":   1902638전라북도\n",
       ":   2523806제주특별자치도\n",
       ":   615250충청남도\n",
       ":   2671383충청북도\n",
       ":   2414568\n",
       "\n"
      ],
      "text/plain": [
       "        강원도         경기도       경상남도       경상북도     광주광역시 \n",
       "       1547166       18723822        4428762        3215695        1476974 \n",
       "    대구광역시     대전광역시     부산광역시     서울특별시     울산광역시 \n",
       "       2491137        1525656        3517491       10078850        1169768 \n",
       "    인천광역시       전라남도       전라북도 제주특별자치도       충청남도 \n",
       "       2914271        1902638        2523806         615250        2671383 \n",
       "      충청북도 \n",
       "       2414568 "
      ]
     },
     "metadata": {},
     "output_type": "display_data"
    }
   ],
   "source": [
    "ProPopul <- tapply(DF$Population, DF$Provinces, sum)\n",
    "ProPopul"
   ]
  },
  {
   "cell_type": "code",
   "execution_count": 120,
   "metadata": {
    "collapsed": false
   },
   "outputs": [
    {
     "data": {},
     "metadata": {},
     "output_type": "display_data"
    },
    {
     "data": {
      "image/png": "[encoded data removed]",
      "text/plain": [
       "plot without title"
      ]
     },
     "metadata": {},
     "output_type": "display_data"
    }
   ],
   "source": [
    "Graph <- ggplot(DF,aes(x=Provinces,y=Population, fill=Provinces))\n",
    "Graph + geom_bar(stat=\"identity\") + theme_wsj()"
   ]
  }
 ],
 "metadata": {
  "anaconda-cloud": {},
  "kernelspec": {
   "display_name": "R 3.3",
   "language": "R",
   "name": "ir33"
  },
  "language_info": {
   "codemirror_mode": "r",
   "file_extension": ".r",
   "mimetype": "text/x-r-source",
   "name": "R",
   "pygments_lexer": "r",
   "version": "3.3.1"
  }
 },
 "nbformat": 4,
 "nbformat_minor": 0
}
