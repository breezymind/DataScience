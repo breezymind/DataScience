{
 "cells": [
  {
   "cell_type": "markdown",
   "metadata": {},
   "source": [
    "# 1. 주제 선정: 새로운 정부 운영 패러다임인 '정부3.0'의 핵심가치인 개방, 공유, 소통, 협력에 대한 국민들의 반응을 알아본다. "
   ]
  },
  {
   "cell_type": "code",
   "execution_count": null,
   "metadata": {
    "collapsed": true
   },
   "outputs": [],
   "source": [
    "#2. 가설\u000b",
    " 〮 귀무가설: 국민은 개방, 공유, 소통, 협력에 핵심가치로 하는 정부3.0 운영 정책에 대하여 부정적이다.\u000b",
    " \n",
    "#        〮 대립가설: 국민은 개방, 공유, 소통, 협력에 핵심가치로 하는 정부3.0 운영 정책에 대하여 긍정적이다."
   ]
  },
  {
   "cell_type": "code",
   "execution_count": null,
   "metadata": {
    "collapsed": true
   },
   "outputs": [],
   "source": [
    "#3. 데이터 수집\u000b",
    " 〮 신문 기사를 ‘정부3.0’을 키워드로 스크래핑 하여 데이터를 수집한다.\n",
    "#              〮 신문 기사를 ‘정부3.0 불만’을 키워드로 스크래핑 하여 데이터를 수집한다.\u000b"
   ]
  },
  {
   "cell_type": "code",
   "execution_count": null,
   "metadata": {
    "collapsed": true
   },
   "outputs": [],
   "source": [
    "#4. 행동 계획\u000b",
    " 〮 개방, 공유, 소통, 협력에 핵심가치로 하는 정부3.0 운영 정책에 대하여 긍정적인 결과를 얻을 경우, \n",
    "#                정보공개, 공공데이터 개방, 협업(정보 공유), 맞춤형 서비스 등의 핵심 과제가 \n",
    "#                업무에 반영될 수 있는 개선 방안에 대하여 논의하고 행정적 운영에 반영할 수 있도록 노력한다.\n",
    "#                그 반대의 경우는 지금의 행정 운영 방식을 유지하도록 한다."
   ]
  },
  {
   "cell_type": "code",
   "execution_count": null,
   "metadata": {
    "collapsed": true
   },
   "outputs": [],
   "source": [
    "### '정부3.0' 을 키워드로 검색하여 단어 추출"
   ]
  },
  {
   "cell_type": "code",
   "execution_count": 2,
   "metadata": {
    "collapsed": true
   },
   "outputs": [],
   "source": [
    "import requests"
   ]
  },
  {
   "cell_type": "code",
   "execution_count": 3,
   "metadata": {
    "collapsed": true
   },
   "outputs": [],
   "source": [
    "import lxml.html"
   ]
  },
  {
   "cell_type": "code",
   "execution_count": 4,
   "metadata": {
    "collapsed": true
   },
   "outputs": [],
   "source": [
    "import csv"
   ]
  },
  {
   "cell_type": "code",
   "execution_count": 5,
   "metadata": {
    "collapsed": true
   },
   "outputs": [],
   "source": [
    "url = 'http://news.naver.com/main/search/search.nhn?refresh=&so=rel.dsc&stPhoto=&stPaper=&stRelease=&ie=MS949&detail=0&rcsection=&query=%C1%A4%BA%CE3.0&x=22&y=10&sm=all.basic&pd=1&startDate=&endDate='"
   ]
  },
  {
   "cell_type": "code",
   "execution_count": 6,
   "metadata": {
    "collapsed": false
   },
   "outputs": [],
   "source": [
    "with open('news.csv', 'w', encoding='utf8') as f:\n",
    "    writer = csv.writer(f)\n",
    "    for i in range(1, 21):\n",
    "        res = requests.get(url.format(i))  # 기사 목록\n",
    "        element = lxml.html.fromstring(res.text)\n",
    "        for news_link in element.xpath('.//a[@class=\"go_naver\"]'):\n",
    "            try:\n",
    "                res = requests.get(news_link.attrib['href'])   # 네이버 뉴스 링크\n",
    "                news = lxml.html.fromstring(res.text)\n",
    "                body = news.xpath('.//div[@id=\"articleBodyContents\"]')[0]\n",
    "                writer.writerow([body.text_content()])\n",
    "            except:\n",
    "                continue"
   ]
  },
  {
   "cell_type": "markdown",
   "metadata": {},
   "source": [
    "# 스크래핑된 뉴스 읽어오기"
   ]
  },
  {
   "cell_type": "code",
   "execution_count": 7,
   "metadata": {
    "collapsed": true
   },
   "outputs": [],
   "source": [
    "import csv"
   ]
  },
  {
   "cell_type": "code",
   "execution_count": 8,
   "metadata": {
    "collapsed": false
   },
   "outputs": [],
   "source": [
    "news = []\n",
    "with open('news.csv', encoding='utf8', newline='\\r\\n') as f:\n",
    "    reader = csv.reader(f)\n",
    "    for row in reader:\n",
    "        news.append(row[0])"
   ]
  },
  {
   "cell_type": "markdown",
   "metadata": {},
   "source": [
    "# 형태소 분석기"
   ]
  },
  {
   "cell_type": "code",
   "execution_count": 9,
   "metadata": {
    "collapsed": true
   },
   "outputs": [],
   "source": [
    "from konlpy.tag import Twitter"
   ]
  },
  {
   "cell_type": "code",
   "execution_count": 10,
   "metadata": {
    "collapsed": true
   },
   "outputs": [],
   "source": [
    "tagger = Twitter()"
   ]
  },
  {
   "cell_type": "markdown",
   "metadata": {},
   "source": [
    "# Term-Document Matrix 만들기"
   ]
  },
  {
   "cell_type": "code",
   "execution_count": 11,
   "metadata": {
    "collapsed": false
   },
   "outputs": [],
   "source": [
    "from sklearn.feature_extraction.text import CountVectorizer"
   ]
  },
  {
   "cell_type": "code",
   "execution_count": 12,
   "metadata": {
    "collapsed": true
   },
   "outputs": [],
   "source": [
    "cv = CountVectorizer(tokenizer=tagger.nouns, max_features=50)"
   ]
  },
  {
   "cell_type": "code",
   "execution_count": 13,
   "metadata": {
    "collapsed": false
   },
   "outputs": [],
   "source": [
    "tdf = cv.fit_transform(news)"
   ]
  },
  {
   "cell_type": "code",
   "execution_count": 14,
   "metadata": {
    "collapsed": false
   },
   "outputs": [
    {
     "data": {
      "text/plain": [
       "<100x50 sparse matrix of type '<class 'numpy.int64'>'\n",
       "\twith 2960 stored elements in Compressed Sparse Row format>"
      ]
     },
     "execution_count": 14,
     "metadata": {},
     "output_type": "execute_result"
    }
   ],
   "source": [
    "tdf"
   ]
  },
  {
   "cell_type": "code",
   "execution_count": 15,
   "metadata": {
    "collapsed": true
   },
   "outputs": [],
   "source": [
    "import numpy"
   ]
  },
  {
   "cell_type": "code",
   "execution_count": 17,
   "metadata": {
    "collapsed": true
   },
   "outputs": [],
   "source": [
    "numpy.save('mytdm_small.npy',tdf)"
   ]
  },
  {
   "cell_type": "code",
   "execution_count": 18,
   "metadata": {
    "collapsed": true
   },
   "outputs": [],
   "source": [
    "tdf = numpy.load('mytdm_small.npy')"
   ]
  },
  {
   "cell_type": "code",
   "execution_count": 19,
   "metadata": {
    "collapsed": false
   },
   "outputs": [],
   "source": [
    "tdf = tdf.tolist()"
   ]
  },
  {
   "cell_type": "code",
   "execution_count": 20,
   "metadata": {
    "collapsed": false
   },
   "outputs": [
    {
     "data": {
      "text/plain": [
       "<80x50 sparse matrix of type '<class 'numpy.int64'>'\n",
       "\twith 2500 stored elements in Compressed Sparse Row format>"
      ]
     },
     "execution_count": 20,
     "metadata": {},
     "output_type": "execute_result"
    }
   ],
   "source": [
    "tdf"
   ]
  },
  {
   "cell_type": "markdown",
   "metadata": {},
   "source": [
    "# 단어 목록"
   ]
  },
  {
   "cell_type": "code",
   "execution_count": 16,
   "metadata": {
    "collapsed": false
   },
   "outputs": [],
   "source": [
    "words = cv.get_feature_names()"
   ]
  },
  {
   "cell_type": "code",
   "execution_count": 17,
   "metadata": {
    "collapsed": false
   },
   "outputs": [
    {
     "data": {
      "text/plain": [
       "['가장',\n",
       " '각',\n",
       " '개',\n",
       " '것',\n",
       " '계획',\n",
       " '규모',\n",
       " '기금',\n",
       " '기자',\n",
       " '기초',\n",
       " '기획재정부',\n",
       " '내년',\n",
       " '년',\n",
       " '뉴스',\n",
       " '단체',\n",
       " '도로',\n",
       " '등',\n",
       " '보건',\n",
       " '복지',\n",
       " '부처',\n",
       " '분야',\n",
       " '비즈',\n",
       " '산업',\n",
       " '서비스',\n",
       " '스마트',\n",
       " '액',\n",
       " '억원',\n",
       " '에너지',\n",
       " '예산',\n",
       " '예산안',\n",
       " '올해',\n",
       " '요구',\n",
       " '율',\n",
       " '이후',\n",
       " '일',\n",
       " '정부',\n",
       " '조',\n",
       " '조원',\n",
       " '주택',\n",
       " '증가',\n",
       " '지능',\n",
       " '지자체',\n",
       " '지출',\n",
       " '철도',\n",
       " '최근',\n",
       " '칠곡군',\n",
       " '편성',\n",
       " '한국',\n",
       " '핵심',\n",
       " '협력',\n",
       " '홈']"
      ]
     },
     "execution_count": 17,
     "metadata": {},
     "output_type": "execute_result"
    }
   ],
   "source": [
    "words"
   ]
  },
  {
   "cell_type": "markdown",
   "metadata": {},
   "source": [
    "# 한 글자 짜리 단어 빼기"
   ]
  },
  {
   "cell_type": "code",
   "execution_count": 18,
   "metadata": {
    "collapsed": true
   },
   "outputs": [],
   "source": [
    "def get_word(doc):\n",
    "    nouns = tagger.nouns(doc)\n",
    "    return [noun for noun in nouns if len(noun) > 1]"
   ]
  },
  {
   "cell_type": "code",
   "execution_count": 19,
   "metadata": {
    "collapsed": true
   },
   "outputs": [],
   "source": [
    "cv = CountVectorizer(tokenizer=get_word, max_features=50)"
   ]
  },
  {
   "cell_type": "code",
   "execution_count": 20,
   "metadata": {
    "collapsed": false
   },
   "outputs": [],
   "source": [
    "tdf = cv.fit_transform(news)"
   ]
  },
  {
   "cell_type": "code",
   "execution_count": 24,
   "metadata": {
    "collapsed": true
   },
   "outputs": [],
   "source": [
    "import numpy"
   ]
  },
  {
   "cell_type": "code",
   "execution_count": 25,
   "metadata": {
    "collapsed": false
   },
   "outputs": [],
   "source": [
    "numpy.save('tdf0609.npy',tdf)"
   ]
  },
  {
   "cell_type": "code",
   "execution_count": 21,
   "metadata": {
    "collapsed": false
   },
   "outputs": [],
   "source": [
    "words = cv.get_feature_names()"
   ]
  },
  {
   "cell_type": "code",
   "execution_count": 22,
   "metadata": {
    "collapsed": false
   },
   "outputs": [
    {
     "data": {
      "text/plain": [
       "['가장',\n",
       " '거점',\n",
       " '계획',\n",
       " '고용',\n",
       " '교육',\n",
       " '규모',\n",
       " '기금',\n",
       " '기자',\n",
       " '기재부',\n",
       " '기초',\n",
       " '기획재정부',\n",
       " '내년',\n",
       " '뉴스',\n",
       " '단체',\n",
       " '도로',\n",
       " '보건',\n",
       " '복지',\n",
       " '부처',\n",
       " '분야',\n",
       " '비즈',\n",
       " '산업',\n",
       " '생활',\n",
       " '서비스',\n",
       " '선정',\n",
       " '스마트',\n",
       " '억원',\n",
       " '에너지',\n",
       " '예산',\n",
       " '예산안',\n",
       " '올해',\n",
       " '요구',\n",
       " '이후',\n",
       " '자치',\n",
       " '재정',\n",
       " '정부',\n",
       " '조원',\n",
       " '주택',\n",
       " '증가',\n",
       " '지능',\n",
       " '지방행정',\n",
       " '지자체',\n",
       " '지출',\n",
       " '철도',\n",
       " '최근',\n",
       " '칠곡군',\n",
       " '편성',\n",
       " '한국',\n",
       " '핵심',\n",
       " '행복',\n",
       " '협력']"
      ]
     },
     "execution_count": 22,
     "metadata": {},
     "output_type": "execute_result"
    }
   ],
   "source": [
    "words"
   ]
  },
  {
   "cell_type": "code",
   "execution_count": 23,
   "metadata": {
    "collapsed": true
   },
   "outputs": [],
   "source": [
    "with open('wor.txt', 'w', encoding ='utf8') as f:   ## (A) LDA 입력으로 사용\n",
    "    f.write('\\n'.join(words))"
   ]
  },
  {
   "cell_type": "code",
   "execution_count": 24,
   "metadata": {
    "collapsed": true
   },
   "outputs": [],
   "source": [
    "f.close()"
   ]
  },
  {
   "cell_type": "code",
   "execution_count": 38,
   "metadata": {
    "collapsed": false
   },
   "outputs": [],
   "source": [
    "#with open('wor.txt', encoding='cp949') as f:  \n",
    " #   wor = f.read().splitlines()"
   ]
  },
  {
   "cell_type": "code",
   "execution_count": 39,
   "metadata": {
    "collapsed": false
   },
   "outputs": [
    {
     "data": {
      "text/plain": [
       "['개방,공무원,공사,공유,과제,교육,국민,기자,김재수,노력,뉴스,뉴시스,달인,대상,대한,더욱,맞춤,문화,본부,사례,사장,생활화,서비스,선정,성과,세상,소통,순회,오늘,우수,위해,전국,전사,전파,정부,중심,중인,지역,직원,추진,추진단,충남도,컨설팅,통해,포토,행정자치부,향상,혁신,협력,협업',\n",
       " '']"
      ]
     },
     "execution_count": 39,
     "metadata": {},
     "output_type": "execute_result"
    }
   ],
   "source": [
    "#wor"
   ]
  },
  {
   "cell_type": "markdown",
   "metadata": {},
   "source": [
    "# 단어별 출현 빈도"
   ]
  },
  {
   "cell_type": "code",
   "execution_count": 25,
   "metadata": {
    "collapsed": true
   },
   "outputs": [],
   "source": [
    "import numpy"
   ]
  },
  {
   "cell_type": "code",
   "execution_count": 26,
   "metadata": {
    "collapsed": false
   },
   "outputs": [],
   "source": [
    "count_mat = tdf.sum(axis=0)"
   ]
  },
  {
   "cell_type": "code",
   "execution_count": 27,
   "metadata": {
    "collapsed": false
   },
   "outputs": [
    {
     "data": {
      "text/plain": [
       "matrix([[140,  80,  80,  80,  80, 140,  80, 100,  80, 100, 100, 220,  80,\n",
       "          80,  80,  80, 140, 320, 200,  80, 140,  80, 100,  80, 180, 500,\n",
       "          80, 860,  80, 280, 520,  80,  80,  80, 340, 120, 180, 220,  80,\n",
       "          60, 120, 180,  80, 100,  80,  80,  80, 100,  80, 100]], dtype=int64)"
      ]
     },
     "execution_count": 27,
     "metadata": {},
     "output_type": "execute_result"
    }
   ],
   "source": [
    "count_mat"
   ]
  },
  {
   "cell_type": "code",
   "execution_count": 28,
   "metadata": {
    "collapsed": false
   },
   "outputs": [],
   "source": [
    "count = numpy.squeeze(numpy.asarray(count_mat))"
   ]
  },
  {
   "cell_type": "code",
   "execution_count": 29,
   "metadata": {
    "collapsed": false
   },
   "outputs": [
    {
     "data": {
      "text/plain": [
       "array([140,  80,  80,  80,  80, 140,  80, 100,  80, 100, 100, 220,  80,\n",
       "        80,  80,  80, 140, 320, 200,  80, 140,  80, 100,  80, 180, 500,\n",
       "        80, 860,  80, 280, 520,  80,  80,  80, 340, 120, 180, 220,  80,\n",
       "        60, 120, 180,  80, 100,  80,  80,  80, 100,  80, 100], dtype=int64)"
      ]
     },
     "execution_count": 29,
     "metadata": {},
     "output_type": "execute_result"
    }
   ],
   "source": [
    "count"
   ]
  },
  {
   "cell_type": "code",
   "execution_count": 30,
   "metadata": {
    "collapsed": false
   },
   "outputs": [],
   "source": [
    "word_count = list(zip(words, count))"
   ]
  },
  {
   "cell_type": "code",
   "execution_count": 31,
   "metadata": {
    "collapsed": false
   },
   "outputs": [
    {
     "data": {
      "text/plain": [
       "[('가장', 140),\n",
       " ('거점', 80),\n",
       " ('계획', 80),\n",
       " ('고용', 80),\n",
       " ('교육', 80),\n",
       " ('규모', 140),\n",
       " ('기금', 80),\n",
       " ('기자', 100),\n",
       " ('기재부', 80),\n",
       " ('기초', 100),\n",
       " ('기획재정부', 100),\n",
       " ('내년', 220),\n",
       " ('뉴스', 80),\n",
       " ('단체', 80),\n",
       " ('도로', 80),\n",
       " ('보건', 80),\n",
       " ('복지', 140),\n",
       " ('부처', 320),\n",
       " ('분야', 200),\n",
       " ('비즈', 80),\n",
       " ('산업', 140),\n",
       " ('생활', 80),\n",
       " ('서비스', 100),\n",
       " ('선정', 80),\n",
       " ('스마트', 180),\n",
       " ('억원', 500),\n",
       " ('에너지', 80),\n",
       " ('예산', 860),\n",
       " ('예산안', 80),\n",
       " ('올해', 280),\n",
       " ('요구', 520),\n",
       " ('이후', 80),\n",
       " ('자치', 80),\n",
       " ('재정', 80),\n",
       " ('정부', 340),\n",
       " ('조원', 120),\n",
       " ('주택', 180),\n",
       " ('증가', 220),\n",
       " ('지능', 80),\n",
       " ('지방행정', 60),\n",
       " ('지자체', 120),\n",
       " ('지출', 180),\n",
       " ('철도', 80),\n",
       " ('최근', 100),\n",
       " ('칠곡군', 80),\n",
       " ('편성', 80),\n",
       " ('한국', 80),\n",
       " ('핵심', 100),\n",
       " ('행복', 80),\n",
       " ('협력', 100)]"
      ]
     },
     "execution_count": 31,
     "metadata": {},
     "output_type": "execute_result"
    }
   ],
   "source": [
    "word_count"
   ]
  },
  {
   "cell_type": "markdown",
   "metadata": {},
   "source": [
    "# 빈도 순 정렬"
   ]
  },
  {
   "cell_type": "code",
   "execution_count": 32,
   "metadata": {
    "collapsed": true
   },
   "outputs": [],
   "source": [
    "import operator"
   ]
  },
  {
   "cell_type": "code",
   "execution_count": 33,
   "metadata": {
    "collapsed": false
   },
   "outputs": [
    {
     "data": {
      "text/plain": [
       "[('예산', 860),\n",
       " ('요구', 520),\n",
       " ('억원', 500),\n",
       " ('정부', 340),\n",
       " ('부처', 320),\n",
       " ('올해', 280),\n",
       " ('내년', 220),\n",
       " ('증가', 220),\n",
       " ('분야', 200),\n",
       " ('스마트', 180),\n",
       " ('주택', 180),\n",
       " ('지출', 180),\n",
       " ('가장', 140),\n",
       " ('규모', 140),\n",
       " ('복지', 140),\n",
       " ('산업', 140),\n",
       " ('조원', 120),\n",
       " ('지자체', 120),\n",
       " ('기자', 100),\n",
       " ('기초', 100),\n",
       " ('기획재정부', 100),\n",
       " ('서비스', 100),\n",
       " ('최근', 100),\n",
       " ('핵심', 100),\n",
       " ('협력', 100),\n",
       " ('거점', 80),\n",
       " ('계획', 80),\n",
       " ('고용', 80),\n",
       " ('교육', 80),\n",
       " ('기금', 80),\n",
       " ('기재부', 80),\n",
       " ('뉴스', 80),\n",
       " ('단체', 80),\n",
       " ('도로', 80),\n",
       " ('보건', 80),\n",
       " ('비즈', 80),\n",
       " ('생활', 80),\n",
       " ('선정', 80),\n",
       " ('에너지', 80),\n",
       " ('예산안', 80),\n",
       " ('이후', 80),\n",
       " ('자치', 80),\n",
       " ('재정', 80),\n",
       " ('지능', 80),\n",
       " ('철도', 80),\n",
       " ('칠곡군', 80),\n",
       " ('편성', 80),\n",
       " ('한국', 80),\n",
       " ('행복', 80),\n",
       " ('지방행정', 60)]"
      ]
     },
     "execution_count": 33,
     "metadata": {},
     "output_type": "execute_result"
    }
   ],
   "source": [
    "sorted(word_count, key=operator.itemgetter(1), reverse=True)"
   ]
  },
  {
   "cell_type": "code",
   "execution_count": 36,
   "metadata": {
    "collapsed": true
   },
   "outputs": [],
   "source": [
    "word_count_sorted = sorted(word_count, key=operator.itemgetter(1), reverse=True)"
   ]
  },
  {
   "cell_type": "code",
   "execution_count": 37,
   "metadata": {
    "collapsed": false
   },
   "outputs": [
    {
     "data": {
      "text/plain": [
       "[('예산', 860),\n",
       " ('요구', 520),\n",
       " ('억원', 500),\n",
       " ('정부', 340),\n",
       " ('부처', 320),\n",
       " ('올해', 280),\n",
       " ('내년', 220),\n",
       " ('증가', 220),\n",
       " ('분야', 200),\n",
       " ('스마트', 180)]"
      ]
     },
     "execution_count": 37,
     "metadata": {},
     "output_type": "execute_result"
    }
   ],
   "source": [
    "word_count_sorted[:10]"
   ]
  },
  {
   "cell_type": "code",
   "execution_count": null,
   "metadata": {
    "collapsed": true
   },
   "outputs": [],
   "source": [
    "# 테이블 만들기: 단어별 출현 빈도에 대한 테이블"
   ]
  },
  {
   "cell_type": "code",
   "execution_count": 38,
   "metadata": {
    "collapsed": true
   },
   "outputs": [],
   "source": [
    "import pandas"
   ]
  },
  {
   "cell_type": "code",
   "execution_count": 42,
   "metadata": {
    "collapsed": false
   },
   "outputs": [],
   "source": [
    "table = pandas.DataFrame(word_count_sorted, columns = ['word','count'])"
   ]
  },
  {
   "cell_type": "code",
   "execution_count": 43,
   "metadata": {
    "collapsed": false
   },
   "outputs": [
    {
     "data": {
      "text/html": [
       "<div>\n",
       "<table border=\"1\" class=\"dataframe\">\n",
       "  <thead>\n",
       "    <tr style=\"text-align: right;\">\n",
       "      <th></th>\n",
       "      <th>word</th>\n",
       "      <th>count</th>\n",
       "    </tr>\n",
       "  </thead>\n",
       "  <tbody>\n",
       "    <tr>\n",
       "      <th>0</th>\n",
       "      <td>예산</td>\n",
       "      <td>860</td>\n",
       "    </tr>\n",
       "    <tr>\n",
       "      <th>1</th>\n",
       "      <td>요구</td>\n",
       "      <td>520</td>\n",
       "    </tr>\n",
       "    <tr>\n",
       "      <th>2</th>\n",
       "      <td>억원</td>\n",
       "      <td>500</td>\n",
       "    </tr>\n",
       "    <tr>\n",
       "      <th>3</th>\n",
       "      <td>정부</td>\n",
       "      <td>340</td>\n",
       "    </tr>\n",
       "    <tr>\n",
       "      <th>4</th>\n",
       "      <td>부처</td>\n",
       "      <td>320</td>\n",
       "    </tr>\n",
       "    <tr>\n",
       "      <th>5</th>\n",
       "      <td>올해</td>\n",
       "      <td>280</td>\n",
       "    </tr>\n",
       "    <tr>\n",
       "      <th>6</th>\n",
       "      <td>내년</td>\n",
       "      <td>220</td>\n",
       "    </tr>\n",
       "    <tr>\n",
       "      <th>7</th>\n",
       "      <td>증가</td>\n",
       "      <td>220</td>\n",
       "    </tr>\n",
       "    <tr>\n",
       "      <th>8</th>\n",
       "      <td>분야</td>\n",
       "      <td>200</td>\n",
       "    </tr>\n",
       "    <tr>\n",
       "      <th>9</th>\n",
       "      <td>스마트</td>\n",
       "      <td>180</td>\n",
       "    </tr>\n",
       "    <tr>\n",
       "      <th>10</th>\n",
       "      <td>주택</td>\n",
       "      <td>180</td>\n",
       "    </tr>\n",
       "    <tr>\n",
       "      <th>11</th>\n",
       "      <td>지출</td>\n",
       "      <td>180</td>\n",
       "    </tr>\n",
       "    <tr>\n",
       "      <th>12</th>\n",
       "      <td>가장</td>\n",
       "      <td>140</td>\n",
       "    </tr>\n",
       "    <tr>\n",
       "      <th>13</th>\n",
       "      <td>규모</td>\n",
       "      <td>140</td>\n",
       "    </tr>\n",
       "    <tr>\n",
       "      <th>14</th>\n",
       "      <td>복지</td>\n",
       "      <td>140</td>\n",
       "    </tr>\n",
       "    <tr>\n",
       "      <th>15</th>\n",
       "      <td>산업</td>\n",
       "      <td>140</td>\n",
       "    </tr>\n",
       "    <tr>\n",
       "      <th>16</th>\n",
       "      <td>조원</td>\n",
       "      <td>120</td>\n",
       "    </tr>\n",
       "    <tr>\n",
       "      <th>17</th>\n",
       "      <td>지자체</td>\n",
       "      <td>120</td>\n",
       "    </tr>\n",
       "    <tr>\n",
       "      <th>18</th>\n",
       "      <td>기자</td>\n",
       "      <td>100</td>\n",
       "    </tr>\n",
       "    <tr>\n",
       "      <th>19</th>\n",
       "      <td>기초</td>\n",
       "      <td>100</td>\n",
       "    </tr>\n",
       "    <tr>\n",
       "      <th>20</th>\n",
       "      <td>기획재정부</td>\n",
       "      <td>100</td>\n",
       "    </tr>\n",
       "    <tr>\n",
       "      <th>21</th>\n",
       "      <td>서비스</td>\n",
       "      <td>100</td>\n",
       "    </tr>\n",
       "    <tr>\n",
       "      <th>22</th>\n",
       "      <td>최근</td>\n",
       "      <td>100</td>\n",
       "    </tr>\n",
       "    <tr>\n",
       "      <th>23</th>\n",
       "      <td>핵심</td>\n",
       "      <td>100</td>\n",
       "    </tr>\n",
       "    <tr>\n",
       "      <th>24</th>\n",
       "      <td>협력</td>\n",
       "      <td>100</td>\n",
       "    </tr>\n",
       "    <tr>\n",
       "      <th>25</th>\n",
       "      <td>거점</td>\n",
       "      <td>80</td>\n",
       "    </tr>\n",
       "    <tr>\n",
       "      <th>26</th>\n",
       "      <td>계획</td>\n",
       "      <td>80</td>\n",
       "    </tr>\n",
       "    <tr>\n",
       "      <th>27</th>\n",
       "      <td>고용</td>\n",
       "      <td>80</td>\n",
       "    </tr>\n",
       "    <tr>\n",
       "      <th>28</th>\n",
       "      <td>교육</td>\n",
       "      <td>80</td>\n",
       "    </tr>\n",
       "    <tr>\n",
       "      <th>29</th>\n",
       "      <td>기금</td>\n",
       "      <td>80</td>\n",
       "    </tr>\n",
       "    <tr>\n",
       "      <th>30</th>\n",
       "      <td>기재부</td>\n",
       "      <td>80</td>\n",
       "    </tr>\n",
       "    <tr>\n",
       "      <th>31</th>\n",
       "      <td>뉴스</td>\n",
       "      <td>80</td>\n",
       "    </tr>\n",
       "    <tr>\n",
       "      <th>32</th>\n",
       "      <td>단체</td>\n",
       "      <td>80</td>\n",
       "    </tr>\n",
       "    <tr>\n",
       "      <th>33</th>\n",
       "      <td>도로</td>\n",
       "      <td>80</td>\n",
       "    </tr>\n",
       "    <tr>\n",
       "      <th>34</th>\n",
       "      <td>보건</td>\n",
       "      <td>80</td>\n",
       "    </tr>\n",
       "    <tr>\n",
       "      <th>35</th>\n",
       "      <td>비즈</td>\n",
       "      <td>80</td>\n",
       "    </tr>\n",
       "    <tr>\n",
       "      <th>36</th>\n",
       "      <td>생활</td>\n",
       "      <td>80</td>\n",
       "    </tr>\n",
       "    <tr>\n",
       "      <th>37</th>\n",
       "      <td>선정</td>\n",
       "      <td>80</td>\n",
       "    </tr>\n",
       "    <tr>\n",
       "      <th>38</th>\n",
       "      <td>에너지</td>\n",
       "      <td>80</td>\n",
       "    </tr>\n",
       "    <tr>\n",
       "      <th>39</th>\n",
       "      <td>예산안</td>\n",
       "      <td>80</td>\n",
       "    </tr>\n",
       "    <tr>\n",
       "      <th>40</th>\n",
       "      <td>이후</td>\n",
       "      <td>80</td>\n",
       "    </tr>\n",
       "    <tr>\n",
       "      <th>41</th>\n",
       "      <td>자치</td>\n",
       "      <td>80</td>\n",
       "    </tr>\n",
       "    <tr>\n",
       "      <th>42</th>\n",
       "      <td>재정</td>\n",
       "      <td>80</td>\n",
       "    </tr>\n",
       "    <tr>\n",
       "      <th>43</th>\n",
       "      <td>지능</td>\n",
       "      <td>80</td>\n",
       "    </tr>\n",
       "    <tr>\n",
       "      <th>44</th>\n",
       "      <td>철도</td>\n",
       "      <td>80</td>\n",
       "    </tr>\n",
       "    <tr>\n",
       "      <th>45</th>\n",
       "      <td>칠곡군</td>\n",
       "      <td>80</td>\n",
       "    </tr>\n",
       "    <tr>\n",
       "      <th>46</th>\n",
       "      <td>편성</td>\n",
       "      <td>80</td>\n",
       "    </tr>\n",
       "    <tr>\n",
       "      <th>47</th>\n",
       "      <td>한국</td>\n",
       "      <td>80</td>\n",
       "    </tr>\n",
       "    <tr>\n",
       "      <th>48</th>\n",
       "      <td>행복</td>\n",
       "      <td>80</td>\n",
       "    </tr>\n",
       "    <tr>\n",
       "      <th>49</th>\n",
       "      <td>지방행정</td>\n",
       "      <td>60</td>\n",
       "    </tr>\n",
       "  </tbody>\n",
       "</table>\n",
       "</div>"
      ],
      "text/plain": [
       "     word  count\n",
       "0      예산    860\n",
       "1      요구    520\n",
       "2      억원    500\n",
       "3      정부    340\n",
       "4      부처    320\n",
       "5      올해    280\n",
       "6      내년    220\n",
       "7      증가    220\n",
       "8      분야    200\n",
       "9     스마트    180\n",
       "10     주택    180\n",
       "11     지출    180\n",
       "12     가장    140\n",
       "13     규모    140\n",
       "14     복지    140\n",
       "15     산업    140\n",
       "16     조원    120\n",
       "17    지자체    120\n",
       "18     기자    100\n",
       "19     기초    100\n",
       "20  기획재정부    100\n",
       "21    서비스    100\n",
       "22     최근    100\n",
       "23     핵심    100\n",
       "24     협력    100\n",
       "25     거점     80\n",
       "26     계획     80\n",
       "27     고용     80\n",
       "28     교육     80\n",
       "29     기금     80\n",
       "30    기재부     80\n",
       "31     뉴스     80\n",
       "32     단체     80\n",
       "33     도로     80\n",
       "34     보건     80\n",
       "35     비즈     80\n",
       "36     생활     80\n",
       "37     선정     80\n",
       "38    에너지     80\n",
       "39    예산안     80\n",
       "40     이후     80\n",
       "41     자치     80\n",
       "42     재정     80\n",
       "43     지능     80\n",
       "44     철도     80\n",
       "45    칠곡군     80\n",
       "46     편성     80\n",
       "47     한국     80\n",
       "48     행복     80\n",
       "49   지방행정     60"
      ]
     },
     "execution_count": 43,
     "metadata": {},
     "output_type": "execute_result"
    }
   ],
   "source": [
    "table"
   ]
  },
  {
   "cell_type": "code",
   "execution_count": null,
   "metadata": {
    "collapsed": true
   },
   "outputs": [],
   "source": [
    "# 그래프 그리기: 단어별 출현빈도를 내림차순 정렬한 결과에 대한 그래프 그리기"
   ]
  },
  {
   "cell_type": "code",
   "execution_count": 44,
   "metadata": {
    "collapsed": true
   },
   "outputs": [],
   "source": [
    "%matplotlib inline"
   ]
  },
  {
   "cell_type": "code",
   "execution_count": 46,
   "metadata": {
    "collapsed": false
   },
   "outputs": [
    {
     "data": {
      "text/plain": [
       "<matplotlib.axes._subplots.AxesSubplot at 0x1712e7b208>"
      ]
     },
     "execution_count": 46,
     "metadata": {},
     "output_type": "execute_result"
    },
    {
     "data": {
      "image/png": "[encoded data removed]",
      "text/plain": [
       "<matplotlib.figure.Figure at 0x1712e51710>"
      ]
     },
     "metadata": {},
     "output_type": "display_data"
    }
   ],
   "source": [
    "table.plot()"
   ]
  },
  {
   "cell_type": "code",
   "execution_count": null,
   "metadata": {
    "collapsed": true
   },
   "outputs": [],
   "source": [
    "# seaborn 을 이용한 그래프 그리기: 단어별 출현빈도를 내림차순 정렬한 결과에 대한 그래프 그리기"
   ]
  },
  {
   "cell_type": "code",
   "execution_count": 47,
   "metadata": {
    "collapsed": true
   },
   "outputs": [],
   "source": [
    "import seaborn"
   ]
  },
  {
   "cell_type": "code",
   "execution_count": 48,
   "metadata": {
    "collapsed": false
   },
   "outputs": [
    {
     "data": {
      "text/plain": [
       "<matplotlib.axes._subplots.AxesSubplot at 0x1713a10b38>"
      ]
     },
     "execution_count": 48,
     "metadata": {},
     "output_type": "execute_result"
    },
    {
     "data": {
      "image/png": "[encoded data removed]",
      "text/plain": [
       "<matplotlib.figure.Figure at 0x1713a10278>"
      ]
     },
     "metadata": {},
     "output_type": "display_data"
    }
   ],
   "source": [
    "seaborn.tsplot(table['count'], time=table.index)"
   ]
  },
  {
   "cell_type": "markdown",
   "metadata": {},
   "source": [
    "# 워드 클라우드"
   ]
  },
  {
   "cell_type": "code",
   "execution_count": 43,
   "metadata": {
    "collapsed": true
   },
   "outputs": [],
   "source": [
    "%matplotlib inline"
   ]
  },
  {
   "cell_type": "code",
   "execution_count": 44,
   "metadata": {
    "collapsed": false
   },
   "outputs": [],
   "source": [
    "from wordcloud import WordCloud"
   ]
  },
  {
   "cell_type": "code",
   "execution_count": 45,
   "metadata": {
    "collapsed": true
   },
   "outputs": [],
   "source": [
    "from matplotlib import pyplot"
   ]
  },
  {
   "cell_type": "code",
   "execution_count": 46,
   "metadata": {
    "collapsed": false
   },
   "outputs": [],
   "source": [
    "wc = WordCloud(font_path='C:\\\\Windows\\\\Fonts\\\\malgun.ttf', background_color='white', width=400, height=300)\n",
    "cloud = wc.generate_from_frequencies(word_count)"
   ]
  },
  {
   "cell_type": "markdown",
   "metadata": {},
   "source": [
    "화면에 표시"
   ]
  },
  {
   "cell_type": "code",
   "execution_count": 47,
   "metadata": {
    "collapsed": false
   },
   "outputs": [
    {
     "data": {
      "image/png": "[encoded data removed]",
      "text/plain": [
       "<matplotlib.figure.Figure at 0x97029c1b00>"
      ]
     },
     "metadata": {},
     "output_type": "display_data"
    }
   ],
   "source": [
    "pyplot.figure(figsize=(12, 9))\n",
    "pyplot.imshow(cloud)\n",
    "pyplot.axis(\"off\")\n",
    "pyplot.show()"
   ]
  },
  {
   "cell_type": "markdown",
   "metadata": {},
   "source": [
    "# 단어간 상관계수"
   ]
  },
  {
   "cell_type": "code",
   "execution_count": 48,
   "metadata": {
    "collapsed": false
   },
   "outputs": [],
   "source": [
    "word_corr = numpy.corrcoef(tdf.todense(), rowvar=0)"
   ]
  },
  {
   "cell_type": "code",
   "execution_count": 49,
   "metadata": {
    "collapsed": false
   },
   "outputs": [
    {
     "data": {
      "text/plain": [
       "array([[ 1.        ,  0.61185237,  0.53881591, ..., -0.19076459,\n",
       "        -0.43122877,  0.32071891],\n",
       "       [ 0.61185237,  1.        , -0.05407381, ..., -0.23577978,\n",
       "        -0.3477593 ,  0.88017162],\n",
       "       [ 0.53881591, -0.05407381,  1.        , ...,  0.2608746 ,\n",
       "         0.14291549, -0.16025399],\n",
       "       ..., \n",
       "       [-0.19076459, -0.23577978,  0.2608746 , ...,  1.        ,\n",
       "         0.83407443,  0.14589509],\n",
       "       [-0.43122877, -0.3477593 ,  0.14291549, ...,  0.83407443,\n",
       "         1.        ,  0.07067143],\n",
       "       [ 0.32071891,  0.88017162, -0.16025399, ...,  0.14589509,\n",
       "         0.07067143,  1.        ]])"
      ]
     },
     "execution_count": 49,
     "metadata": {},
     "output_type": "execute_result"
    }
   ],
   "source": [
    "word_corr"
   ]
  },
  {
   "cell_type": "markdown",
   "metadata": {},
   "source": [
    "# 상관관계 높은 것 100개만 추리기"
   ]
  },
  {
   "cell_type": "code",
   "execution_count": 50,
   "metadata": {
    "collapsed": false
   },
   "outputs": [],
   "source": [
    "edges = []\n",
    "for i in range(len(words)):\n",
    "    for j in range(i + 1, len(words)):\n",
    "        edges.append((words[i], words[j], word_corr[i, j]))"
   ]
  },
  {
   "cell_type": "markdown",
   "metadata": {},
   "source": [
    "상관계수 높은 순으로 정렬"
   ]
  },
  {
   "cell_type": "code",
   "execution_count": 51,
   "metadata": {
    "collapsed": true
   },
   "outputs": [],
   "source": [
    "edges = sorted(edges, key=operator.itemgetter(2), reverse=True)"
   ]
  },
  {
   "cell_type": "code",
   "execution_count": 52,
   "metadata": {
    "collapsed": false
   },
   "outputs": [],
   "source": [
    "edges = edges[:50]"
   ]
  },
  {
   "cell_type": "code",
   "execution_count": 53,
   "metadata": {
    "collapsed": true
   },
   "outputs": [],
   "source": [
    "edge_list = [(word1, word2) for word1, word2, weight in edges]\n",
    "weight_list = [weight for word1, word2, weight in edges]"
   ]
  },
  {
   "cell_type": "markdown",
   "metadata": {},
   "source": [
    "# 상관관계 시각화"
   ]
  },
  {
   "cell_type": "code",
   "execution_count": 54,
   "metadata": {
    "collapsed": true
   },
   "outputs": [],
   "source": [
    "import networkx"
   ]
  },
  {
   "cell_type": "code",
   "execution_count": 55,
   "metadata": {
    "collapsed": false
   },
   "outputs": [],
   "source": [
    "G = networkx.Graph()\n",
    "\n",
    "edge_set = set()\n",
    "for word1, word2, weight in edges:\n",
    "    G.add_edge(word1, word2, weight=weight)\n",
    "    edge_set.add((word1, word2))"
   ]
  },
  {
   "cell_type": "code",
   "execution_count": 58,
   "metadata": {
    "collapsed": false
   },
   "outputs": [
    {
     "data": {
      "image/png": "[encoded data removed]",
      "text/plain": [
       "<matplotlib.figure.Figure at 0x97209326a0>"
      ]
     },
     "metadata": {},
     "output_type": "display_data"
    }
   ],
   "source": [
    "position = networkx.spring_layout(G, iterations=30)\n",
    "pyplot.figure(figsize=(12, 9))\n",
    "networkx.draw_networkx_nodes(G, position, node_size=0)\n",
    "networkx.draw_networkx_edges(G, position, edgelist=edge_list, width=weight_list, edge_color='lightgray')\n",
    "networkx.draw_networkx_labels(G, position, font_size=15, font_family='Malgun Gothic')\n",
    "#plt.axis('off')\n",
    "pyplot.axis('off')\n",
    "pyplot.show()"
   ]
  },
  {
   "cell_type": "code",
   "execution_count": 47,
   "metadata": {
    "collapsed": true
   },
   "outputs": [],
   "source": [
    "import csv"
   ]
  },
  {
   "cell_type": "code",
   "execution_count": 48,
   "metadata": {
    "collapsed": true
   },
   "outputs": [],
   "source": [
    "from konlpy.tag import Twitter"
   ]
  },
  {
   "cell_type": "code",
   "execution_count": 49,
   "metadata": {
    "collapsed": true
   },
   "outputs": [],
   "source": [
    "tagger = Twitter()"
   ]
  },
  {
   "cell_type": "code",
   "execution_count": 54,
   "metadata": {
    "collapsed": true
   },
   "outputs": [],
   "source": [
    "f=open('text_result0607.txt', 'w')"
   ]
  },
  {
   "cell_type": "code",
   "execution_count": 55,
   "metadata": {
    "collapsed": false
   },
   "outputs": [],
   "source": [
    "with open('text_result0607.txt', 'w') as f:\n",
    "    w = csv.writer(f)\n",
    "    w.writerow(words) #csv 파일의 row(한 행)을 적는것"
   ]
  },
  {
   "cell_type": "code",
   "execution_count": 56,
   "metadata": {
    "collapsed": true
   },
   "outputs": [],
   "source": [
    "f.close()"
   ]
  },
  {
   "cell_type": "code",
   "execution_count": 58,
   "metadata": {
    "collapsed": false
   },
   "outputs": [],
   "source": [
    "with open('text_result0607.txt', encoding='cp949') as f:\n",
    "    words = f.read().splitlines()"
   ]
  },
  {
   "cell_type": "code",
   "execution_count": 59,
   "metadata": {
    "collapsed": false
   },
   "outputs": [
    {
     "data": {
      "text/plain": [
       "['가치,개방,개최,공무원,공유,과제,교육,국민,국민일보,규제,금지,기자,노력,뉴스,뉴시스,대상,대한,마당,맞춤,무단,배포,본부,생활화,서비스,성과,소통,순회,예정,올해,위해,적극,전국,전시관,전재,정보,정부,중심,지역,직원,참여,체험,추진,코엑스,콘텐츠,통해,한국,핵심,행사,행정자치부,협력',\n",
       " '']"
      ]
     },
     "execution_count": 59,
     "metadata": {},
     "output_type": "execute_result"
    }
   ],
   "source": [
    "words"
   ]
  },
  {
   "cell_type": "code",
   "execution_count": 49,
   "metadata": {
    "collapsed": true
   },
   "outputs": [],
   "source": [
    "# '정부3.0' 을 키워드로 검색하여 단어 추출 후 LDA 모델 적용"
   ]
  },
  {
   "cell_type": "code",
   "execution_count": 50,
   "metadata": {
    "collapsed": true
   },
   "outputs": [],
   "source": [
    "import numpy"
   ]
  },
  {
   "cell_type": "code",
   "execution_count": 51,
   "metadata": {
    "collapsed": true
   },
   "outputs": [],
   "source": [
    "tdm = numpy.load('tdf0609.npy')"
   ]
  },
  {
   "cell_type": "code",
   "execution_count": 52,
   "metadata": {
    "collapsed": true
   },
   "outputs": [],
   "source": [
    "tdm = tdm.tolist()"
   ]
  },
  {
   "cell_type": "code",
   "execution_count": 53,
   "metadata": {
    "collapsed": false
   },
   "outputs": [
    {
     "data": {
      "text/plain": [
       "<80x50 sparse matrix of type '<class 'numpy.int64'>'\n",
       "\twith 2340 stored elements in Compressed Sparse Row format>"
      ]
     },
     "execution_count": 53,
     "metadata": {},
     "output_type": "execute_result"
    }
   ],
   "source": [
    "tdm"
   ]
  },
  {
   "cell_type": "code",
   "execution_count": 54,
   "metadata": {
    "collapsed": true
   },
   "outputs": [],
   "source": [
    "with open('wor.txt', encoding='utf8') as f:  #06-09(term) (A) 의 결과를 읽음\n",
    "    words = f.read().splitlines()"
   ]
  },
  {
   "cell_type": "code",
   "execution_count": 55,
   "metadata": {
    "collapsed": false
   },
   "outputs": [
    {
     "data": {
      "text/plain": [
       "['가장',\n",
       " '거점',\n",
       " '계획',\n",
       " '고용',\n",
       " '교육',\n",
       " '규모',\n",
       " '기금',\n",
       " '기자',\n",
       " '기재부',\n",
       " '기초',\n",
       " '기획재정부',\n",
       " '내년',\n",
       " '뉴스',\n",
       " '단체',\n",
       " '도로',\n",
       " '보건',\n",
       " '복지',\n",
       " '부처',\n",
       " '분야',\n",
       " '비즈',\n",
       " '산업',\n",
       " '생활',\n",
       " '서비스',\n",
       " '선정',\n",
       " '스마트',\n",
       " '억원',\n",
       " '에너지',\n",
       " '예산',\n",
       " '예산안',\n",
       " '올해',\n",
       " '요구',\n",
       " '이후',\n",
       " '자치',\n",
       " '재정',\n",
       " '정부',\n",
       " '조원',\n",
       " '주택',\n",
       " '증가',\n",
       " '지능',\n",
       " '지방행정',\n",
       " '지자체',\n",
       " '지출',\n",
       " '철도',\n",
       " '최근',\n",
       " '칠곡군',\n",
       " '편성',\n",
       " '한국',\n",
       " '핵심',\n",
       " '행복',\n",
       " '협력']"
      ]
     },
     "execution_count": 55,
     "metadata": {},
     "output_type": "execute_result"
    }
   ],
   "source": [
    "words"
   ]
  },
  {
   "cell_type": "code",
   "execution_count": null,
   "metadata": {
    "collapsed": true
   },
   "outputs": [],
   "source": [
    "#gensim 포맷으로 변환"
   ]
  },
  {
   "cell_type": "code",
   "execution_count": 56,
   "metadata": {
    "collapsed": true
   },
   "outputs": [],
   "source": [
    "from gensim.matutils import Sparse2Corpus"
   ]
  },
  {
   "cell_type": "code",
   "execution_count": 57,
   "metadata": {
    "collapsed": true
   },
   "outputs": [],
   "source": [
    "corpus = Sparse2Corpus(tdm.T)"
   ]
  },
  {
   "cell_type": "code",
   "execution_count": 58,
   "metadata": {
    "collapsed": false
   },
   "outputs": [
    {
     "data": {
      "text/plain": [
       "<gensim.matutils.Sparse2Corpus at 0x1713c07860>"
      ]
     },
     "execution_count": 58,
     "metadata": {},
     "output_type": "execute_result"
    }
   ],
   "source": [
    "corpus"
   ]
  },
  {
   "cell_type": "code",
   "execution_count": null,
   "metadata": {
    "collapsed": true
   },
   "outputs": [],
   "source": [
    "# LDA 모델 적용"
   ]
  },
  {
   "cell_type": "code",
   "execution_count": 59,
   "metadata": {
    "collapsed": true
   },
   "outputs": [],
   "source": [
    "from gensim.models.ldamodel import LdaModel"
   ]
  },
  {
   "cell_type": "code",
   "execution_count": 60,
   "metadata": {
    "collapsed": false
   },
   "outputs": [
    {
     "name": "stderr",
     "output_type": "stream",
     "text": [
      "WARNING:gensim.models.ldamodel:too few updates, training might not converge; consider increasing the number of passes or iterations to improve accuracy\n"
     ]
    }
   ],
   "source": [
    "lda = LdaModel(corpus=corpus, num_topics=100, id2word=dict(enumerate(words)))"
   ]
  },
  {
   "cell_type": "code",
   "execution_count": 61,
   "metadata": {
    "collapsed": true
   },
   "outputs": [],
   "source": [
    "# 토픽 보기"
   ]
  },
  {
   "cell_type": "code",
   "execution_count": 62,
   "metadata": {
    "collapsed": false
   },
   "outputs": [
    {
     "data": {
      "text/plain": [
       "[('조원', 0.077328988176581653),\n",
       " ('복지', 0.063765039443203275),\n",
       " ('기획재정부', 0.058421396893700281),\n",
       " ('지능', 0.057236066597568955),\n",
       " ('분야', 0.054180644701615571),\n",
       " ('가장', 0.052697731363119955),\n",
       " ('지출', 0.048340160406791968),\n",
       " ('기초', 0.045720618369528447),\n",
       " ('자치', 0.041766233065088303),\n",
       " ('지방행정', 0.032291639917025501)]"
      ]
     },
     "execution_count": 62,
     "metadata": {},
     "output_type": "execute_result"
    }
   ],
   "source": [
    "lda.show_topic(0)"
   ]
  },
  {
   "cell_type": "code",
   "execution_count": 63,
   "metadata": {
    "collapsed": true
   },
   "outputs": [],
   "source": [
    "# 1. 문서의 토픽 확인 ---- 1.1 문서 변환"
   ]
  },
  {
   "cell_type": "code",
   "execution_count": 64,
   "metadata": {
    "collapsed": true
   },
   "outputs": [],
   "source": [
    "doc = [(i, tdm[0, i]) for i in range(50)]"
   ]
  },
  {
   "cell_type": "code",
   "execution_count": 65,
   "metadata": {
    "collapsed": true
   },
   "outputs": [],
   "source": [
    "# 문서에서 가장 많이 쓴 단어들 보기"
   ]
  },
  {
   "cell_type": "code",
   "execution_count": 66,
   "metadata": {
    "collapsed": true
   },
   "outputs": [],
   "source": [
    "from operator import itemgetter"
   ]
  },
  {
   "cell_type": "code",
   "execution_count": 67,
   "metadata": {
    "collapsed": true
   },
   "outputs": [],
   "source": [
    "doc_words = [(words[i], n) for i, n in doc]"
   ]
  },
  {
   "cell_type": "code",
   "execution_count": 68,
   "metadata": {
    "collapsed": false
   },
   "outputs": [
    {
     "data": {
      "text/plain": [
       "[('조원', 9),\n",
       " ('지능', 6),\n",
       " ('가장', 4),\n",
       " ('기획재정부', 4),\n",
       " ('분야', 4),\n",
       " ('자치', 4),\n",
       " ('지출', 4),\n",
       " ('기초', 3),\n",
       " ('복지', 3),\n",
       " ('거점', 2)]"
      ]
     },
     "execution_count": 68,
     "metadata": {},
     "output_type": "execute_result"
    }
   ],
   "source": [
    "sorted(doc_words, key=itemgetter(1), reverse=True)[:10]"
   ]
  },
  {
   "cell_type": "code",
   "execution_count": 69,
   "metadata": {
    "collapsed": true
   },
   "outputs": [],
   "source": [
    "# 문서의 토픽"
   ]
  },
  {
   "cell_type": "code",
   "execution_count": 84,
   "metadata": {
    "collapsed": false
   },
   "outputs": [
    {
     "data": {
      "text/plain": [
       "[(2, 0.98714285714284455)]"
      ]
     },
     "execution_count": 84,
     "metadata": {},
     "output_type": "execute_result"
    }
   ],
   "source": [
    "lda.get_document_topics(doc)"
   ]
  },
  {
   "cell_type": "code",
   "execution_count": 85,
   "metadata": {
    "collapsed": false
   },
   "outputs": [
    {
     "data": {
      "text/plain": [
       "[('자치', 0.02),\n",
       " ('이후', 0.02),\n",
       " ('조원', 0.02),\n",
       " ('정부', 0.02),\n",
       " ('재정', 0.02),\n",
       " ('증가', 0.02),\n",
       " ('예산안', 0.02),\n",
       " ('올해', 0.02),\n",
       " ('지방행정', 0.02),\n",
       " ('요구', 0.02)]"
      ]
     },
     "execution_count": 85,
     "metadata": {},
     "output_type": "execute_result"
    }
   ],
   "source": [
    "lda.show_topic(97)"
   ]
  },
  {
   "cell_type": "code",
   "execution_count": 86,
   "metadata": {
    "collapsed": false
   },
   "outputs": [
    {
     "data": {
      "text/plain": [
       "[('자치', 0.02),\n",
       " ('이후', 0.02),\n",
       " ('조원', 0.02),\n",
       " ('정부', 0.02),\n",
       " ('재정', 0.02),\n",
       " ('증가', 0.02),\n",
       " ('예산안', 0.02),\n",
       " ('올해', 0.02),\n",
       " ('지방행정', 0.02),\n",
       " ('요구', 0.02)]"
      ]
     },
     "execution_count": 86,
     "metadata": {},
     "output_type": "execute_result"
    }
   ],
   "source": [
    "lda.show_topic(81)"
   ]
  },
  {
   "cell_type": "code",
   "execution_count": 87,
   "metadata": {
    "collapsed": true
   },
   "outputs": [],
   "source": [
    "# LDA 모델 저장하기"
   ]
  },
  {
   "cell_type": "code",
   "execution_count": 88,
   "metadata": {
    "collapsed": true
   },
   "outputs": [],
   "source": [
    "lda.save('20160610.lda')"
   ]
  },
  {
   "cell_type": "code",
   "execution_count": 89,
   "metadata": {
    "collapsed": true
   },
   "outputs": [],
   "source": [
    "# LDA 모델 불러오기"
   ]
  },
  {
   "cell_type": "code",
   "execution_count": 90,
   "metadata": {
    "collapsed": true
   },
   "outputs": [],
   "source": [
    "lda = LdaModel.load('20160610.lda')"
   ]
  },
  {
   "cell_type": "code",
   "execution_count": 83,
   "metadata": {
    "collapsed": false
   },
   "outputs": [
    {
     "data": {
      "text/plain": [
       "[('조원', 0.077328988176581653),\n",
       " ('복지', 0.063765039443203275),\n",
       " ('기획재정부', 0.058421396893700281),\n",
       " ('지능', 0.057236066597568955),\n",
       " ('분야', 0.054180644701615571),\n",
       " ('가장', 0.052697731363119955),\n",
       " ('지출', 0.048340160406791968),\n",
       " ('기초', 0.045720618369528447),\n",
       " ('자치', 0.041766233065088303),\n",
       " ('지방행정', 0.032291639917025501)]"
      ]
     },
     "execution_count": 83,
     "metadata": {},
     "output_type": "execute_result"
    }
   ],
   "source": [
    "lda.show_topic(0)"
   ]
  },
  {
   "cell_type": "code",
   "execution_count": 4,
   "metadata": {
    "collapsed": false
   },
   "outputs": [],
   "source": [
    "# '정부3.0 불만' 을 키워드로 검색하여 단어 추출"
   ]
  },
  {
   "cell_type": "code",
   "execution_count": 5,
   "metadata": {
    "collapsed": true
   },
   "outputs": [],
   "source": [
    "import requests"
   ]
  },
  {
   "cell_type": "code",
   "execution_count": 6,
   "metadata": {
    "collapsed": true
   },
   "outputs": [],
   "source": [
    "import lxml.html"
   ]
  },
  {
   "cell_type": "code",
   "execution_count": 7,
   "metadata": {
    "collapsed": true
   },
   "outputs": [],
   "source": [
    "import csv"
   ]
  },
  {
   "cell_type": "code",
   "execution_count": 8,
   "metadata": {
    "collapsed": true
   },
   "outputs": [],
   "source": [
    "url = 'http://news.naver.com/main/search/search.nhn?refresh=&so=rel.dsc&stPhoto=&stPaper=&stRelease=&ie=MS949&detail=0&rcsection=&query=%C1%A4%BA%CE3.0+%BA%D2%B8%B8&x=0&y=0&sm=all.basic&pd=1&startDate=&endDate='"
   ]
  },
  {
   "cell_type": "code",
   "execution_count": 9,
   "metadata": {
    "collapsed": true
   },
   "outputs": [],
   "source": [
    "with open('news_negative.csv', 'w', encoding='utf8') as f:\n",
    "    writer = csv.writer(f)\n",
    "    for i in range(1, 21):\n",
    "        res = requests.get(url.format(i))  # 기사 목록\n",
    "        element = lxml.html.fromstring(res.text)\n",
    "        for news_link in element.xpath('.//a[@class=\"go_naver\"]'):\n",
    "            try:\n",
    "                res = requests.get(news_link.attrib['href'])   # 네이버 뉴스 링크\n",
    "                news = lxml.html.fromstring(res.text)\n",
    "                body = news.xpath('.//div[@id=\"articleBodyContents\"]')[0]\n",
    "                writer.writerow([body.text_content()])\n",
    "            except:\n",
    "                continue"
   ]
  },
  {
   "cell_type": "code",
   "execution_count": null,
   "metadata": {
    "collapsed": true
   },
   "outputs": [],
   "source": [
    "# 스크래핑된 뉴스 읽어오기"
   ]
  },
  {
   "cell_type": "code",
   "execution_count": 10,
   "metadata": {
    "collapsed": true
   },
   "outputs": [],
   "source": [
    "import csv"
   ]
  },
  {
   "cell_type": "code",
   "execution_count": 11,
   "metadata": {
    "collapsed": true
   },
   "outputs": [],
   "source": [
    "news2 = []\n",
    "with open('news_negative.csv', encoding='utf8', newline='\\r\\n') as f:\n",
    "    reader = csv.reader(f)\n",
    "    for row in reader:\n",
    "        news2.append(row[0])"
   ]
  },
  {
   "cell_type": "code",
   "execution_count": 12,
   "metadata": {
    "collapsed": true
   },
   "outputs": [],
   "source": [
    "# 형태소 분석기"
   ]
  },
  {
   "cell_type": "code",
   "execution_count": 13,
   "metadata": {
    "collapsed": true
   },
   "outputs": [],
   "source": [
    "from konlpy.tag import Twitter"
   ]
  },
  {
   "cell_type": "code",
   "execution_count": 14,
   "metadata": {
    "collapsed": true
   },
   "outputs": [],
   "source": [
    "tagger = Twitter()"
   ]
  },
  {
   "cell_type": "code",
   "execution_count": 15,
   "metadata": {
    "collapsed": true
   },
   "outputs": [],
   "source": [
    "# Term-Document Matrix 만들기(CountVectorizer 이용)"
   ]
  },
  {
   "cell_type": "code",
   "execution_count": 16,
   "metadata": {
    "collapsed": true
   },
   "outputs": [],
   "source": [
    "from sklearn.feature_extraction.text import CountVectorizer"
   ]
  },
  {
   "cell_type": "code",
   "execution_count": 17,
   "metadata": {
    "collapsed": true
   },
   "outputs": [],
   "source": [
    "cv2 = CountVectorizer(tokenizer=tagger.nouns, max_features=50)"
   ]
  },
  {
   "cell_type": "code",
   "execution_count": 18,
   "metadata": {
    "collapsed": true
   },
   "outputs": [],
   "source": [
    "tdf2 = cv2.fit_transform(news2)"
   ]
  },
  {
   "cell_type": "code",
   "execution_count": 19,
   "metadata": {
    "collapsed": false
   },
   "outputs": [
    {
     "data": {
      "text/plain": [
       "<100x50 sparse matrix of type '<class 'numpy.int64'>'\n",
       "\twith 2420 stored elements in Compressed Sparse Row format>"
      ]
     },
     "execution_count": 19,
     "metadata": {},
     "output_type": "execute_result"
    }
   ],
   "source": [
    "tdf2"
   ]
  },
  {
   "cell_type": "code",
   "execution_count": 20,
   "metadata": {
    "collapsed": true
   },
   "outputs": [],
   "source": [
    "import numpy"
   ]
  },
  {
   "cell_type": "code",
   "execution_count": 21,
   "metadata": {
    "collapsed": true
   },
   "outputs": [],
   "source": [
    "numpy.save('mytdm_small2.npy',tdf2)"
   ]
  },
  {
   "cell_type": "code",
   "execution_count": 22,
   "metadata": {
    "collapsed": true
   },
   "outputs": [],
   "source": [
    "tdf2 = numpy.load('mytdm_small2.npy')"
   ]
  },
  {
   "cell_type": "code",
   "execution_count": 23,
   "metadata": {
    "collapsed": true
   },
   "outputs": [],
   "source": [
    "tdf2 = tdf2.tolist()"
   ]
  },
  {
   "cell_type": "code",
   "execution_count": 24,
   "metadata": {
    "collapsed": false
   },
   "outputs": [
    {
     "data": {
      "text/plain": [
       "<100x50 sparse matrix of type '<class 'numpy.int64'>'\n",
       "\twith 2420 stored elements in Compressed Sparse Row format>"
      ]
     },
     "execution_count": 24,
     "metadata": {},
     "output_type": "execute_result"
    }
   ],
   "source": [
    "tdf2"
   ]
  },
  {
   "cell_type": "code",
   "execution_count": 25,
   "metadata": {
    "collapsed": true
   },
   "outputs": [],
   "source": [
    "# 단어 목록"
   ]
  },
  {
   "cell_type": "code",
   "execution_count": 26,
   "metadata": {
    "collapsed": true
   },
   "outputs": [],
   "source": [
    "words2 = cv2.get_feature_names()"
   ]
  },
  {
   "cell_type": "code",
   "execution_count": 27,
   "metadata": {
    "collapsed": false
   },
   "outputs": [
    {
     "data": {
      "text/plain": [
       "['개',\n",
       " '것',\n",
       " '곳',\n",
       " '공공',\n",
       " '공무원',\n",
       " '공장',\n",
       " '관리',\n",
       " '그',\n",
       " '기반',\n",
       " '기술',\n",
       " '년',\n",
       " '대한',\n",
       " '데이터',\n",
       " '도',\n",
       " '등',\n",
       " '디지털',\n",
       " '며',\n",
       " '문제',\n",
       " '박원순',\n",
       " '부처',\n",
       " '불만',\n",
       " '사고',\n",
       " '사무',\n",
       " '사회',\n",
       " '산업혁명',\n",
       " '서비스',\n",
       " '서울',\n",
       " '서울시',\n",
       " '수',\n",
       " '수학여행',\n",
       " '스마트',\n",
       " '시장',\n",
       " '안전',\n",
       " '영상',\n",
       " '우리',\n",
       " '월',\n",
       " '이',\n",
       " '일',\n",
       " '일정',\n",
       " '점검',\n",
       " '정부',\n",
       " '정치',\n",
       " '지역',\n",
       " '차',\n",
       " '천',\n",
       " '청사',\n",
       " '파일',\n",
       " '한국',\n",
       " '혁신',\n",
       " '회의']"
      ]
     },
     "execution_count": 27,
     "metadata": {},
     "output_type": "execute_result"
    }
   ],
   "source": [
    "words2"
   ]
  },
  {
   "cell_type": "code",
   "execution_count": 28,
   "metadata": {
    "collapsed": true
   },
   "outputs": [],
   "source": [
    "# 한글자짜리 단어 빼기"
   ]
  },
  {
   "cell_type": "code",
   "execution_count": 29,
   "metadata": {
    "collapsed": true
   },
   "outputs": [],
   "source": [
    "def get_word(doc):\n",
    "    nouns = tagger.nouns(doc)\n",
    "    return [noun for noun in nouns if len(noun) > 1]"
   ]
  },
  {
   "cell_type": "code",
   "execution_count": 30,
   "metadata": {
    "collapsed": true
   },
   "outputs": [],
   "source": [
    "cv2 = CountVectorizer(tokenizer=get_word, max_features=50)"
   ]
  },
  {
   "cell_type": "code",
   "execution_count": 31,
   "metadata": {
    "collapsed": true
   },
   "outputs": [],
   "source": [
    "tdf2 = cv2.fit_transform(news2)"
   ]
  },
  {
   "cell_type": "code",
   "execution_count": 32,
   "metadata": {
    "collapsed": true
   },
   "outputs": [],
   "source": [
    "import numpy"
   ]
  },
  {
   "cell_type": "code",
   "execution_count": 33,
   "metadata": {
    "collapsed": true
   },
   "outputs": [],
   "source": [
    "numpy.save('tdf0609_2.npy',tdf2)"
   ]
  },
  {
   "cell_type": "code",
   "execution_count": 34,
   "metadata": {
    "collapsed": true
   },
   "outputs": [],
   "source": [
    "words2 = cv2.get_feature_names()"
   ]
  },
  {
   "cell_type": "code",
   "execution_count": 35,
   "metadata": {
    "collapsed": false
   },
   "outputs": [
    {
     "data": {
      "text/plain": [
       "['가스',\n",
       " '계획',\n",
       " '공공',\n",
       " '공무원',\n",
       " '공장',\n",
       " '관리',\n",
       " '기관',\n",
       " '기반',\n",
       " '기술',\n",
       " '대한',\n",
       " '데이터',\n",
       " '디지털',\n",
       " '문제',\n",
       " '미래',\n",
       " '박원순',\n",
       " '부처',\n",
       " '불만',\n",
       " '사고',\n",
       " '사무',\n",
       " '사회',\n",
       " '산업',\n",
       " '산업혁명',\n",
       " '상태',\n",
       " '서비스',\n",
       " '서울',\n",
       " '서울시',\n",
       " '세종',\n",
       " '수학여행',\n",
       " '스마트',\n",
       " '시장',\n",
       " '안전',\n",
       " '영상',\n",
       " '우리',\n",
       " '이용',\n",
       " '일정',\n",
       " '전기',\n",
       " '점검',\n",
       " '정보',\n",
       " '정부',\n",
       " '정치',\n",
       " '제조업',\n",
       " '지역',\n",
       " '청사',\n",
       " '총장',\n",
       " '추진',\n",
       " '통해',\n",
       " '파일',\n",
       " '한국',\n",
       " '혁신',\n",
       " '회의']"
      ]
     },
     "execution_count": 35,
     "metadata": {},
     "output_type": "execute_result"
    }
   ],
   "source": [
    "words2"
   ]
  },
  {
   "cell_type": "code",
   "execution_count": 36,
   "metadata": {
    "collapsed": true
   },
   "outputs": [],
   "source": [
    "with open('wor2.txt', 'w', encoding ='utf8') as f:   ## (A) LDA 입력으로 사용\n",
    "    f.write('\\n'.join(words2))"
   ]
  },
  {
   "cell_type": "code",
   "execution_count": 37,
   "metadata": {
    "collapsed": true
   },
   "outputs": [],
   "source": [
    "f.close()"
   ]
  },
  {
   "cell_type": "code",
   "execution_count": 38,
   "metadata": {
    "collapsed": true
   },
   "outputs": [],
   "source": [
    "#단어별 출현 빈도"
   ]
  },
  {
   "cell_type": "code",
   "execution_count": 39,
   "metadata": {
    "collapsed": true
   },
   "outputs": [],
   "source": [
    "import numpy"
   ]
  },
  {
   "cell_type": "code",
   "execution_count": 40,
   "metadata": {
    "collapsed": true
   },
   "outputs": [],
   "source": [
    "count_mat2 = tdf2.sum(axis=0)"
   ]
  },
  {
   "cell_type": "code",
   "execution_count": 41,
   "metadata": {
    "collapsed": false
   },
   "outputs": [
    {
     "data": {
      "text/plain": [
       "matrix([[140, 140, 160, 140, 220, 160, 120, 220, 220, 180, 340, 160, 200,\n",
       "         120, 220, 160, 180, 140, 140, 160, 140, 160, 120, 280, 220, 160,\n",
       "         120, 260, 260, 560, 260, 180, 160, 140, 140, 120, 240, 140, 360,\n",
       "         380, 140, 140, 180, 120, 120, 120, 220, 140, 160, 200]], dtype=int64)"
      ]
     },
     "execution_count": 41,
     "metadata": {},
     "output_type": "execute_result"
    }
   ],
   "source": [
    "count_mat2"
   ]
  },
  {
   "cell_type": "code",
   "execution_count": 42,
   "metadata": {
    "collapsed": true
   },
   "outputs": [],
   "source": [
    "count2 = numpy.squeeze(numpy.asarray(count_mat2))"
   ]
  },
  {
   "cell_type": "code",
   "execution_count": 43,
   "metadata": {
    "collapsed": false
   },
   "outputs": [
    {
     "data": {
      "text/plain": [
       "array([140, 140, 160, 140, 220, 160, 120, 220, 220, 180, 340, 160, 200,\n",
       "       120, 220, 160, 180, 140, 140, 160, 140, 160, 120, 280, 220, 160,\n",
       "       120, 260, 260, 560, 260, 180, 160, 140, 140, 120, 240, 140, 360,\n",
       "       380, 140, 140, 180, 120, 120, 120, 220, 140, 160, 200], dtype=int64)"
      ]
     },
     "execution_count": 43,
     "metadata": {},
     "output_type": "execute_result"
    }
   ],
   "source": [
    "count2"
   ]
  },
  {
   "cell_type": "code",
   "execution_count": 44,
   "metadata": {
    "collapsed": true
   },
   "outputs": [],
   "source": [
    "word_count2 = list(zip(words2, count2))"
   ]
  },
  {
   "cell_type": "code",
   "execution_count": 45,
   "metadata": {
    "collapsed": false
   },
   "outputs": [
    {
     "data": {
      "text/plain": [
       "[('가스', 140),\n",
       " ('계획', 140),\n",
       " ('공공', 160),\n",
       " ('공무원', 140),\n",
       " ('공장', 220),\n",
       " ('관리', 160),\n",
       " ('기관', 120),\n",
       " ('기반', 220),\n",
       " ('기술', 220),\n",
       " ('대한', 180),\n",
       " ('데이터', 340),\n",
       " ('디지털', 160),\n",
       " ('문제', 200),\n",
       " ('미래', 120),\n",
       " ('박원순', 220),\n",
       " ('부처', 160),\n",
       " ('불만', 180),\n",
       " ('사고', 140),\n",
       " ('사무', 140),\n",
       " ('사회', 160),\n",
       " ('산업', 140),\n",
       " ('산업혁명', 160),\n",
       " ('상태', 120),\n",
       " ('서비스', 280),\n",
       " ('서울', 220),\n",
       " ('서울시', 160),\n",
       " ('세종', 120),\n",
       " ('수학여행', 260),\n",
       " ('스마트', 260),\n",
       " ('시장', 560),\n",
       " ('안전', 260),\n",
       " ('영상', 180),\n",
       " ('우리', 160),\n",
       " ('이용', 140),\n",
       " ('일정', 140),\n",
       " ('전기', 120),\n",
       " ('점검', 240),\n",
       " ('정보', 140),\n",
       " ('정부', 360),\n",
       " ('정치', 380),\n",
       " ('제조업', 140),\n",
       " ('지역', 140),\n",
       " ('청사', 180),\n",
       " ('총장', 120),\n",
       " ('추진', 120),\n",
       " ('통해', 120),\n",
       " ('파일', 220),\n",
       " ('한국', 140),\n",
       " ('혁신', 160),\n",
       " ('회의', 200)]"
      ]
     },
     "execution_count": 45,
     "metadata": {},
     "output_type": "execute_result"
    }
   ],
   "source": [
    "word_count2"
   ]
  },
  {
   "cell_type": "code",
   "execution_count": 46,
   "metadata": {
    "collapsed": true
   },
   "outputs": [],
   "source": [
    "# 빈도순 정렬"
   ]
  },
  {
   "cell_type": "code",
   "execution_count": 47,
   "metadata": {
    "collapsed": true
   },
   "outputs": [],
   "source": [
    "import operator"
   ]
  },
  {
   "cell_type": "code",
   "execution_count": 48,
   "metadata": {
    "collapsed": false
   },
   "outputs": [
    {
     "data": {
      "text/plain": [
       "[('시장', 560),\n",
       " ('정치', 380),\n",
       " ('정부', 360),\n",
       " ('데이터', 340),\n",
       " ('서비스', 280),\n",
       " ('수학여행', 260),\n",
       " ('스마트', 260),\n",
       " ('안전', 260),\n",
       " ('점검', 240),\n",
       " ('공장', 220),\n",
       " ('기반', 220),\n",
       " ('기술', 220),\n",
       " ('박원순', 220),\n",
       " ('서울', 220),\n",
       " ('파일', 220),\n",
       " ('문제', 200),\n",
       " ('회의', 200),\n",
       " ('대한', 180),\n",
       " ('불만', 180),\n",
       " ('영상', 180),\n",
       " ('청사', 180),\n",
       " ('공공', 160),\n",
       " ('관리', 160),\n",
       " ('디지털', 160),\n",
       " ('부처', 160),\n",
       " ('사회', 160),\n",
       " ('산업혁명', 160),\n",
       " ('서울시', 160),\n",
       " ('우리', 160),\n",
       " ('혁신', 160),\n",
       " ('가스', 140),\n",
       " ('계획', 140),\n",
       " ('공무원', 140),\n",
       " ('사고', 140),\n",
       " ('사무', 140),\n",
       " ('산업', 140),\n",
       " ('이용', 140),\n",
       " ('일정', 140),\n",
       " ('정보', 140),\n",
       " ('제조업', 140),\n",
       " ('지역', 140),\n",
       " ('한국', 140),\n",
       " ('기관', 120),\n",
       " ('미래', 120),\n",
       " ('상태', 120),\n",
       " ('세종', 120),\n",
       " ('전기', 120),\n",
       " ('총장', 120),\n",
       " ('추진', 120),\n",
       " ('통해', 120)]"
      ]
     },
     "execution_count": 48,
     "metadata": {},
     "output_type": "execute_result"
    }
   ],
   "source": [
    "sorted(word_count2, key=operator.itemgetter(1), reverse=True)"
   ]
  },
  {
   "cell_type": "code",
   "execution_count": 49,
   "metadata": {
    "collapsed": true
   },
   "outputs": [],
   "source": [
    "word_count2_sorted = sorted(word_count2, key=operator.itemgetter(1), reverse=True)"
   ]
  },
  {
   "cell_type": "code",
   "execution_count": 50,
   "metadata": {
    "collapsed": false
   },
   "outputs": [
    {
     "data": {
      "text/plain": [
       "[('시장', 560),\n",
       " ('정치', 380),\n",
       " ('정부', 360),\n",
       " ('데이터', 340),\n",
       " ('서비스', 280),\n",
       " ('수학여행', 260),\n",
       " ('스마트', 260),\n",
       " ('안전', 260),\n",
       " ('점검', 240),\n",
       " ('공장', 220)]"
      ]
     },
     "execution_count": 50,
     "metadata": {},
     "output_type": "execute_result"
    }
   ],
   "source": [
    "word_count2_sorted[:10]"
   ]
  },
  {
   "cell_type": "code",
   "execution_count": 51,
   "metadata": {
    "collapsed": true
   },
   "outputs": [],
   "source": [
    "# 테이블 만들기: 단업별 빈도로 내림차순 정렬 결과에 대한 테이블"
   ]
  },
  {
   "cell_type": "code",
   "execution_count": 52,
   "metadata": {
    "collapsed": true
   },
   "outputs": [],
   "source": [
    "import pandas"
   ]
  },
  {
   "cell_type": "code",
   "execution_count": 56,
   "metadata": {
    "collapsed": true
   },
   "outputs": [],
   "source": [
    "table2 = pandas.DataFrame(word_count2_sorted, columns = ['negative word','negative count'])"
   ]
  },
  {
   "cell_type": "code",
   "execution_count": 57,
   "metadata": {
    "collapsed": false
   },
   "outputs": [
    {
     "data": {
      "text/html": [
       "<div>\n",
       "<table border=\"1\" class=\"dataframe\">\n",
       "  <thead>\n",
       "    <tr style=\"text-align: right;\">\n",
       "      <th></th>\n",
       "      <th>negative word</th>\n",
       "      <th>negative count</th>\n",
       "    </tr>\n",
       "  </thead>\n",
       "  <tbody>\n",
       "    <tr>\n",
       "      <th>0</th>\n",
       "      <td>시장</td>\n",
       "      <td>560</td>\n",
       "    </tr>\n",
       "    <tr>\n",
       "      <th>1</th>\n",
       "      <td>정치</td>\n",
       "      <td>380</td>\n",
       "    </tr>\n",
       "    <tr>\n",
       "      <th>2</th>\n",
       "      <td>정부</td>\n",
       "      <td>360</td>\n",
       "    </tr>\n",
       "    <tr>\n",
       "      <th>3</th>\n",
       "      <td>데이터</td>\n",
       "      <td>340</td>\n",
       "    </tr>\n",
       "    <tr>\n",
       "      <th>4</th>\n",
       "      <td>서비스</td>\n",
       "      <td>280</td>\n",
       "    </tr>\n",
       "    <tr>\n",
       "      <th>5</th>\n",
       "      <td>수학여행</td>\n",
       "      <td>260</td>\n",
       "    </tr>\n",
       "    <tr>\n",
       "      <th>6</th>\n",
       "      <td>스마트</td>\n",
       "      <td>260</td>\n",
       "    </tr>\n",
       "    <tr>\n",
       "      <th>7</th>\n",
       "      <td>안전</td>\n",
       "      <td>260</td>\n",
       "    </tr>\n",
       "    <tr>\n",
       "      <th>8</th>\n",
       "      <td>점검</td>\n",
       "      <td>240</td>\n",
       "    </tr>\n",
       "    <tr>\n",
       "      <th>9</th>\n",
       "      <td>공장</td>\n",
       "      <td>220</td>\n",
       "    </tr>\n",
       "    <tr>\n",
       "      <th>10</th>\n",
       "      <td>기반</td>\n",
       "      <td>220</td>\n",
       "    </tr>\n",
       "    <tr>\n",
       "      <th>11</th>\n",
       "      <td>기술</td>\n",
       "      <td>220</td>\n",
       "    </tr>\n",
       "    <tr>\n",
       "      <th>12</th>\n",
       "      <td>박원순</td>\n",
       "      <td>220</td>\n",
       "    </tr>\n",
       "    <tr>\n",
       "      <th>13</th>\n",
       "      <td>서울</td>\n",
       "      <td>220</td>\n",
       "    </tr>\n",
       "    <tr>\n",
       "      <th>14</th>\n",
       "      <td>파일</td>\n",
       "      <td>220</td>\n",
       "    </tr>\n",
       "    <tr>\n",
       "      <th>15</th>\n",
       "      <td>문제</td>\n",
       "      <td>200</td>\n",
       "    </tr>\n",
       "    <tr>\n",
       "      <th>16</th>\n",
       "      <td>회의</td>\n",
       "      <td>200</td>\n",
       "    </tr>\n",
       "    <tr>\n",
       "      <th>17</th>\n",
       "      <td>대한</td>\n",
       "      <td>180</td>\n",
       "    </tr>\n",
       "    <tr>\n",
       "      <th>18</th>\n",
       "      <td>불만</td>\n",
       "      <td>180</td>\n",
       "    </tr>\n",
       "    <tr>\n",
       "      <th>19</th>\n",
       "      <td>영상</td>\n",
       "      <td>180</td>\n",
       "    </tr>\n",
       "    <tr>\n",
       "      <th>20</th>\n",
       "      <td>청사</td>\n",
       "      <td>180</td>\n",
       "    </tr>\n",
       "    <tr>\n",
       "      <th>21</th>\n",
       "      <td>공공</td>\n",
       "      <td>160</td>\n",
       "    </tr>\n",
       "    <tr>\n",
       "      <th>22</th>\n",
       "      <td>관리</td>\n",
       "      <td>160</td>\n",
       "    </tr>\n",
       "    <tr>\n",
       "      <th>23</th>\n",
       "      <td>디지털</td>\n",
       "      <td>160</td>\n",
       "    </tr>\n",
       "    <tr>\n",
       "      <th>24</th>\n",
       "      <td>부처</td>\n",
       "      <td>160</td>\n",
       "    </tr>\n",
       "    <tr>\n",
       "      <th>25</th>\n",
       "      <td>사회</td>\n",
       "      <td>160</td>\n",
       "    </tr>\n",
       "    <tr>\n",
       "      <th>26</th>\n",
       "      <td>산업혁명</td>\n",
       "      <td>160</td>\n",
       "    </tr>\n",
       "    <tr>\n",
       "      <th>27</th>\n",
       "      <td>서울시</td>\n",
       "      <td>160</td>\n",
       "    </tr>\n",
       "    <tr>\n",
       "      <th>28</th>\n",
       "      <td>우리</td>\n",
       "      <td>160</td>\n",
       "    </tr>\n",
       "    <tr>\n",
       "      <th>29</th>\n",
       "      <td>혁신</td>\n",
       "      <td>160</td>\n",
       "    </tr>\n",
       "    <tr>\n",
       "      <th>30</th>\n",
       "      <td>가스</td>\n",
       "      <td>140</td>\n",
       "    </tr>\n",
       "    <tr>\n",
       "      <th>31</th>\n",
       "      <td>계획</td>\n",
       "      <td>140</td>\n",
       "    </tr>\n",
       "    <tr>\n",
       "      <th>32</th>\n",
       "      <td>공무원</td>\n",
       "      <td>140</td>\n",
       "    </tr>\n",
       "    <tr>\n",
       "      <th>33</th>\n",
       "      <td>사고</td>\n",
       "      <td>140</td>\n",
       "    </tr>\n",
       "    <tr>\n",
       "      <th>34</th>\n",
       "      <td>사무</td>\n",
       "      <td>140</td>\n",
       "    </tr>\n",
       "    <tr>\n",
       "      <th>35</th>\n",
       "      <td>산업</td>\n",
       "      <td>140</td>\n",
       "    </tr>\n",
       "    <tr>\n",
       "      <th>36</th>\n",
       "      <td>이용</td>\n",
       "      <td>140</td>\n",
       "    </tr>\n",
       "    <tr>\n",
       "      <th>37</th>\n",
       "      <td>일정</td>\n",
       "      <td>140</td>\n",
       "    </tr>\n",
       "    <tr>\n",
       "      <th>38</th>\n",
       "      <td>정보</td>\n",
       "      <td>140</td>\n",
       "    </tr>\n",
       "    <tr>\n",
       "      <th>39</th>\n",
       "      <td>제조업</td>\n",
       "      <td>140</td>\n",
       "    </tr>\n",
       "    <tr>\n",
       "      <th>40</th>\n",
       "      <td>지역</td>\n",
       "      <td>140</td>\n",
       "    </tr>\n",
       "    <tr>\n",
       "      <th>41</th>\n",
       "      <td>한국</td>\n",
       "      <td>140</td>\n",
       "    </tr>\n",
       "    <tr>\n",
       "      <th>42</th>\n",
       "      <td>기관</td>\n",
       "      <td>120</td>\n",
       "    </tr>\n",
       "    <tr>\n",
       "      <th>43</th>\n",
       "      <td>미래</td>\n",
       "      <td>120</td>\n",
       "    </tr>\n",
       "    <tr>\n",
       "      <th>44</th>\n",
       "      <td>상태</td>\n",
       "      <td>120</td>\n",
       "    </tr>\n",
       "    <tr>\n",
       "      <th>45</th>\n",
       "      <td>세종</td>\n",
       "      <td>120</td>\n",
       "    </tr>\n",
       "    <tr>\n",
       "      <th>46</th>\n",
       "      <td>전기</td>\n",
       "      <td>120</td>\n",
       "    </tr>\n",
       "    <tr>\n",
       "      <th>47</th>\n",
       "      <td>총장</td>\n",
       "      <td>120</td>\n",
       "    </tr>\n",
       "    <tr>\n",
       "      <th>48</th>\n",
       "      <td>추진</td>\n",
       "      <td>120</td>\n",
       "    </tr>\n",
       "    <tr>\n",
       "      <th>49</th>\n",
       "      <td>통해</td>\n",
       "      <td>120</td>\n",
       "    </tr>\n",
       "  </tbody>\n",
       "</table>\n",
       "</div>"
      ],
      "text/plain": [
       "   negative word  negative count\n",
       "0             시장             560\n",
       "1             정치             380\n",
       "2             정부             360\n",
       "3            데이터             340\n",
       "4            서비스             280\n",
       "5           수학여행             260\n",
       "6            스마트             260\n",
       "7             안전             260\n",
       "8             점검             240\n",
       "9             공장             220\n",
       "10            기반             220\n",
       "11            기술             220\n",
       "12           박원순             220\n",
       "13            서울             220\n",
       "14            파일             220\n",
       "15            문제             200\n",
       "16            회의             200\n",
       "17            대한             180\n",
       "18            불만             180\n",
       "19            영상             180\n",
       "20            청사             180\n",
       "21            공공             160\n",
       "22            관리             160\n",
       "23           디지털             160\n",
       "24            부처             160\n",
       "25            사회             160\n",
       "26          산업혁명             160\n",
       "27           서울시             160\n",
       "28            우리             160\n",
       "29            혁신             160\n",
       "30            가스             140\n",
       "31            계획             140\n",
       "32           공무원             140\n",
       "33            사고             140\n",
       "34            사무             140\n",
       "35            산업             140\n",
       "36            이용             140\n",
       "37            일정             140\n",
       "38            정보             140\n",
       "39           제조업             140\n",
       "40            지역             140\n",
       "41            한국             140\n",
       "42            기관             120\n",
       "43            미래             120\n",
       "44            상태             120\n",
       "45            세종             120\n",
       "46            전기             120\n",
       "47            총장             120\n",
       "48            추진             120\n",
       "49            통해             120"
      ]
     },
     "execution_count": 57,
     "metadata": {},
     "output_type": "execute_result"
    }
   ],
   "source": [
    "table2"
   ]
  },
  {
   "cell_type": "code",
   "execution_count": 58,
   "metadata": {
    "collapsed": true
   },
   "outputs": [],
   "source": [
    "# 그래프 그리기: 단업별 빈도로 내림차순 정렬 결과에 대한 그래프"
   ]
  },
  {
   "cell_type": "code",
   "execution_count": 59,
   "metadata": {
    "collapsed": true
   },
   "outputs": [],
   "source": [
    "%matplotlib inline"
   ]
  },
  {
   "cell_type": "code",
   "execution_count": 60,
   "metadata": {
    "collapsed": false
   },
   "outputs": [
    {
     "data": {
      "text/plain": [
       "<matplotlib.axes._subplots.AxesSubplot at 0xbcfed46a58>"
      ]
     },
     "execution_count": 60,
     "metadata": {},
     "output_type": "execute_result"
    },
    {
     "data": {
      "image/png": "[encoded data removed]",
      "text/plain": [
       "<matplotlib.figure.Figure at 0xbcfc38e7f0>"
      ]
     },
     "metadata": {},
     "output_type": "display_data"
    }
   ],
   "source": [
    "table2.plot()"
   ]
  },
  {
   "cell_type": "code",
   "execution_count": 61,
   "metadata": {
    "collapsed": true
   },
   "outputs": [],
   "source": [
    "# seaborn으로그래프 그리기: 단업별 빈도로 내림차순 정렬 결과에 대한 그래프"
   ]
  },
  {
   "cell_type": "code",
   "execution_count": 62,
   "metadata": {
    "collapsed": true
   },
   "outputs": [],
   "source": [
    "import seaborn"
   ]
  },
  {
   "cell_type": "code",
   "execution_count": 64,
   "metadata": {
    "collapsed": false
   },
   "outputs": [
    {
     "data": {
      "text/plain": [
       "<matplotlib.axes._subplots.AxesSubplot at 0xbcffc3b400>"
      ]
     },
     "execution_count": 64,
     "metadata": {},
     "output_type": "execute_result"
    },
    {
     "data": {
      "image/png": "[encoded data removed]",
      "text/plain": [
       "<matplotlib.figure.Figure at 0xbcffa80978>"
      ]
     },
     "metadata": {},
     "output_type": "display_data"
    }
   ],
   "source": [
    "seaborn.tsplot(table2['negative count'], time=table2.index)"
   ]
  },
  {
   "cell_type": "code",
   "execution_count": 65,
   "metadata": {
    "collapsed": true
   },
   "outputs": [],
   "source": [
    "# 워드 클라우드"
   ]
  },
  {
   "cell_type": "code",
   "execution_count": 66,
   "metadata": {
    "collapsed": true
   },
   "outputs": [],
   "source": [
    "%matplotlib inline"
   ]
  },
  {
   "cell_type": "code",
   "execution_count": 67,
   "metadata": {
    "collapsed": true
   },
   "outputs": [],
   "source": [
    "from wordcloud import WordCloud"
   ]
  },
  {
   "cell_type": "code",
   "execution_count": 68,
   "metadata": {
    "collapsed": true
   },
   "outputs": [],
   "source": [
    "from matplotlib import pyplot"
   ]
  },
  {
   "cell_type": "code",
   "execution_count": 70,
   "metadata": {
    "collapsed": true
   },
   "outputs": [],
   "source": [
    "# 워드 클라우드 만들기"
   ]
  },
  {
   "cell_type": "code",
   "execution_count": 71,
   "metadata": {
    "collapsed": true
   },
   "outputs": [],
   "source": [
    "wc2 = WordCloud(font_path='C:\\\\Windows\\\\Fonts\\\\malgun.ttf', background_color='white', width=400, height=300)\n",
    "cloud2 = wc2.generate_from_frequencies(word_count2)"
   ]
  },
  {
   "cell_type": "code",
   "execution_count": 72,
   "metadata": {
    "collapsed": true
   },
   "outputs": [],
   "source": [
    "# 화면에 표시"
   ]
  },
  {
   "cell_type": "code",
   "execution_count": 73,
   "metadata": {
    "collapsed": false
   },
   "outputs": [
    {
     "data": {
      "image/png": "[encoded data removed]",
      "text/plain": [
       "<matplotlib.figure.Figure at 0xbcffcdaa90>"
      ]
     },
     "metadata": {},
     "output_type": "display_data"
    }
   ],
   "source": [
    "pyplot.figure(figsize=(12, 9))\n",
    "pyplot.imshow(cloud2)\n",
    "pyplot.axis(\"off\")\n",
    "pyplot.show()"
   ]
  },
  {
   "cell_type": "code",
   "execution_count": 74,
   "metadata": {
    "collapsed": true
   },
   "outputs": [],
   "source": [
    "# 단어간 상관계수"
   ]
  },
  {
   "cell_type": "code",
   "execution_count": 75,
   "metadata": {
    "collapsed": true
   },
   "outputs": [],
   "source": [
    "word_corr2 = numpy.corrcoef(tdf2.todense(), rowvar=0)"
   ]
  },
  {
   "cell_type": "code",
   "execution_count": 76,
   "metadata": {
    "collapsed": false
   },
   "outputs": [
    {
     "data": {
      "text/plain": [
       "array([[ 1.        , -0.40147753, -0.25      , ..., -0.10783277,\n",
       "        -0.29329423, -0.25      ],\n",
       "       [-0.40147753,  1.        , -0.40147753, ..., -0.6060941 ,\n",
       "         0.41212866,  0.74560114],\n",
       "       [-0.25      , -0.40147753,  1.        , ..., -0.10783277,\n",
       "        -0.29329423, -0.25      ],\n",
       "       ..., \n",
       "       [-0.10783277, -0.6060941 , -0.10783277, ...,  1.        ,\n",
       "        -0.24510716, -0.37741471],\n",
       "       [-0.29329423,  0.41212866, -0.29329423, ..., -0.24510716,\n",
       "         1.        , -0.29329423],\n",
       "       [-0.25      ,  0.74560114, -0.25      , ..., -0.37741471,\n",
       "        -0.29329423,  1.        ]])"
      ]
     },
     "execution_count": 76,
     "metadata": {},
     "output_type": "execute_result"
    }
   ],
   "source": [
    "word_corr2"
   ]
  },
  {
   "cell_type": "code",
   "execution_count": 77,
   "metadata": {
    "collapsed": true
   },
   "outputs": [],
   "source": [
    "# 상관관계 높은 것 100개만 추리기"
   ]
  },
  {
   "cell_type": "code",
   "execution_count": 78,
   "metadata": {
    "collapsed": true
   },
   "outputs": [],
   "source": [
    "edges2 = []\n",
    "for i in range(len(words2)):\n",
    "    for j in range(i + 1, len(words2)):\n",
    "        edges2.append((words2[i], words2[j], word_corr2[i, j]))"
   ]
  },
  {
   "cell_type": "code",
   "execution_count": 79,
   "metadata": {
    "collapsed": true
   },
   "outputs": [],
   "source": [
    "#상관계수 높은 순으로 정렬"
   ]
  },
  {
   "cell_type": "code",
   "execution_count": 80,
   "metadata": {
    "collapsed": true
   },
   "outputs": [],
   "source": [
    "edges2 = sorted(edges2, key=operator.itemgetter(2), reverse=True)"
   ]
  },
  {
   "cell_type": "code",
   "execution_count": 81,
   "metadata": {
    "collapsed": true
   },
   "outputs": [],
   "source": [
    "edges2 = edges2[:50]"
   ]
  },
  {
   "cell_type": "code",
   "execution_count": 82,
   "metadata": {
    "collapsed": true
   },
   "outputs": [],
   "source": [
    "edge_list2 = [(word1, word2) for word1, word2, weight in edges2]\n",
    "weight_list2 = [weight for word1, word2, weight in edges2]"
   ]
  },
  {
   "cell_type": "code",
   "execution_count": 83,
   "metadata": {
    "collapsed": true
   },
   "outputs": [],
   "source": [
    "# 상관관계 시각화"
   ]
  },
  {
   "cell_type": "code",
   "execution_count": 84,
   "metadata": {
    "collapsed": true
   },
   "outputs": [],
   "source": [
    "import networkx"
   ]
  },
  {
   "cell_type": "code",
   "execution_count": 85,
   "metadata": {
    "collapsed": true
   },
   "outputs": [],
   "source": [
    "G2 = networkx.Graph()\n",
    "\n",
    "edge_set2 = set()\n",
    "for word1, word2, weight in edges2:\n",
    "    G2.add_edge(word1, word2, weight=weight)\n",
    "    edge_set2.add((word1, word2))"
   ]
  },
  {
   "cell_type": "code",
   "execution_count": 86,
   "metadata": {
    "collapsed": false
   },
   "outputs": [
    {
     "data": {
      "image/png": "[encoded data removed]",
      "text/plain": [
       "<matplotlib.figure.Figure at 0xbc9047bc18>"
      ]
     },
     "metadata": {},
     "output_type": "display_data"
    }
   ],
   "source": [
    "position = networkx.spring_layout(G2, iterations=30)\n",
    "pyplot.figure(figsize=(12, 9))\n",
    "networkx.draw_networkx_nodes(G2, position, node_size=0)\n",
    "networkx.draw_networkx_edges(G2, position, edgelist=edge_list2, width=weight_list2, edge_color='lightgray')\n",
    "networkx.draw_networkx_labels(G2, position, font_size=15, font_family='Malgun Gothic')\n",
    "pyplot.axis('off')\n",
    "pyplot.show()"
   ]
  },
  {
   "cell_type": "code",
   "execution_count": 88,
   "metadata": {
    "collapsed": true
   },
   "outputs": [],
   "source": [
    "# 텍스트 화일로 저장하기"
   ]
  },
  {
   "cell_type": "code",
   "execution_count": 89,
   "metadata": {
    "collapsed": true
   },
   "outputs": [],
   "source": [
    "import csv"
   ]
  },
  {
   "cell_type": "code",
   "execution_count": 90,
   "metadata": {
    "collapsed": true
   },
   "outputs": [],
   "source": [
    "from konlpy.tag import Twitter"
   ]
  },
  {
   "cell_type": "code",
   "execution_count": 91,
   "metadata": {
    "collapsed": true
   },
   "outputs": [],
   "source": [
    "tagger = Twitter()"
   ]
  },
  {
   "cell_type": "code",
   "execution_count": 92,
   "metadata": {
    "collapsed": true
   },
   "outputs": [],
   "source": [
    "with open('text_result0607_2.txt', 'w') as f:\n",
    "    w = csv.writer(f)\n",
    "    w.writerow(words2) #csv 파일의 row(한 행)을 적는것"
   ]
  },
  {
   "cell_type": "code",
   "execution_count": 93,
   "metadata": {
    "collapsed": true
   },
   "outputs": [],
   "source": [
    "f.close()"
   ]
  },
  {
   "cell_type": "code",
   "execution_count": 94,
   "metadata": {
    "collapsed": true
   },
   "outputs": [],
   "source": [
    "with open('text_result0607_2.txt', encoding='cp949') as f:\n",
    "    words2 = f.read().splitlines()"
   ]
  },
  {
   "cell_type": "code",
   "execution_count": 95,
   "metadata": {
    "collapsed": false
   },
   "outputs": [
    {
     "data": {
      "text/plain": [
       "['가스,계획,공공,공무원,공장,관리,기관,기반,기술,대한,데이터,디지털,문제,미래,박원순,부처,불만,사고,사무,사회,산업,산업혁명,상태,서비스,서울,서울시,세종,수학여행,스마트,시장,안전,영상,우리,이용,일정,전기,점검,정보,정부,정치,제조업,지역,청사,총장,추진,통해,파일,한국,혁신,회의',\n",
       " '']"
      ]
     },
     "execution_count": 95,
     "metadata": {},
     "output_type": "execute_result"
    }
   ],
   "source": [
    "words2"
   ]
  },
  {
   "cell_type": "code",
   "execution_count": 96,
   "metadata": {
    "collapsed": true
   },
   "outputs": [],
   "source": [
    "# '정부3.0 불만' 을 키워드로 검색하여 단어 추출 후 LDA 모델 적용"
   ]
  },
  {
   "cell_type": "code",
   "execution_count": 97,
   "metadata": {
    "collapsed": true
   },
   "outputs": [],
   "source": [
    "import numpy"
   ]
  },
  {
   "cell_type": "code",
   "execution_count": 98,
   "metadata": {
    "collapsed": true
   },
   "outputs": [],
   "source": [
    "tdm2 = numpy.load('tdf0609_2.npy')"
   ]
  },
  {
   "cell_type": "code",
   "execution_count": 99,
   "metadata": {
    "collapsed": true
   },
   "outputs": [],
   "source": [
    "tdm2 = tdm2.tolist()"
   ]
  },
  {
   "cell_type": "code",
   "execution_count": 100,
   "metadata": {
    "collapsed": false
   },
   "outputs": [
    {
     "data": {
      "text/plain": [
       "<100x50 sparse matrix of type '<class 'numpy.int64'>'\n",
       "\twith 2000 stored elements in Compressed Sparse Row format>"
      ]
     },
     "execution_count": 100,
     "metadata": {},
     "output_type": "execute_result"
    }
   ],
   "source": [
    "tdm2"
   ]
  },
  {
   "cell_type": "code",
   "execution_count": 101,
   "metadata": {
    "collapsed": true
   },
   "outputs": [],
   "source": [
    "with open('wor2.txt', encoding='utf8') as f:  #06-09(term) (A) 의 결과를 읽음\n",
    "    words2 = f.read().splitlines()"
   ]
  },
  {
   "cell_type": "code",
   "execution_count": 102,
   "metadata": {
    "collapsed": false
   },
   "outputs": [
    {
     "data": {
      "text/plain": [
       "['가스',\n",
       " '계획',\n",
       " '공공',\n",
       " '공무원',\n",
       " '공장',\n",
       " '관리',\n",
       " '기관',\n",
       " '기반',\n",
       " '기술',\n",
       " '대한',\n",
       " '데이터',\n",
       " '디지털',\n",
       " '문제',\n",
       " '미래',\n",
       " '박원순',\n",
       " '부처',\n",
       " '불만',\n",
       " '사고',\n",
       " '사무',\n",
       " '사회',\n",
       " '산업',\n",
       " '산업혁명',\n",
       " '상태',\n",
       " '서비스',\n",
       " '서울',\n",
       " '서울시',\n",
       " '세종',\n",
       " '수학여행',\n",
       " '스마트',\n",
       " '시장',\n",
       " '안전',\n",
       " '영상',\n",
       " '우리',\n",
       " '이용',\n",
       " '일정',\n",
       " '전기',\n",
       " '점검',\n",
       " '정보',\n",
       " '정부',\n",
       " '정치',\n",
       " '제조업',\n",
       " '지역',\n",
       " '청사',\n",
       " '총장',\n",
       " '추진',\n",
       " '통해',\n",
       " '파일',\n",
       " '한국',\n",
       " '혁신',\n",
       " '회의']"
      ]
     },
     "execution_count": 102,
     "metadata": {},
     "output_type": "execute_result"
    }
   ],
   "source": [
    "words2"
   ]
  },
  {
   "cell_type": "code",
   "execution_count": 103,
   "metadata": {
    "collapsed": true
   },
   "outputs": [],
   "source": [
    "# gensim 포맷으로 바꾸기"
   ]
  },
  {
   "cell_type": "code",
   "execution_count": 104,
   "metadata": {
    "collapsed": true
   },
   "outputs": [],
   "source": [
    "from gensim.matutils import Sparse2Corpus"
   ]
  },
  {
   "cell_type": "code",
   "execution_count": 105,
   "metadata": {
    "collapsed": true
   },
   "outputs": [],
   "source": [
    "corpus2 = Sparse2Corpus(tdm2.T)"
   ]
  },
  {
   "cell_type": "code",
   "execution_count": 106,
   "metadata": {
    "collapsed": false
   },
   "outputs": [
    {
     "data": {
      "text/plain": [
       "<gensim.matutils.Sparse2Corpus at 0xbc90a18358>"
      ]
     },
     "execution_count": 106,
     "metadata": {},
     "output_type": "execute_result"
    }
   ],
   "source": [
    "corpus2"
   ]
  },
  {
   "cell_type": "code",
   "execution_count": 107,
   "metadata": {
    "collapsed": true
   },
   "outputs": [],
   "source": [
    "# LDA 모델을 이용한 문서 만들기"
   ]
  },
  {
   "cell_type": "code",
   "execution_count": 108,
   "metadata": {
    "collapsed": true
   },
   "outputs": [],
   "source": [
    "from gensim.models.ldamodel import LdaModel"
   ]
  },
  {
   "cell_type": "code",
   "execution_count": 109,
   "metadata": {
    "collapsed": false
   },
   "outputs": [
    {
     "name": "stderr",
     "output_type": "stream",
     "text": [
      "WARNING:gensim.models.ldamodel:too few updates, training might not converge; consider increasing the number of passes or iterations to improve accuracy\n"
     ]
    }
   ],
   "source": [
    "lda2 = LdaModel(corpus=corpus2, num_topics=100, id2word=dict(enumerate(words2)))"
   ]
  },
  {
   "cell_type": "code",
   "execution_count": 110,
   "metadata": {
    "collapsed": true
   },
   "outputs": [],
   "source": [
    "# Topic 보기"
   ]
  },
  {
   "cell_type": "code",
   "execution_count": 111,
   "metadata": {
    "collapsed": false
   },
   "outputs": [
    {
     "data": {
      "text/plain": [
       "[('데이터', 0.23745944600365157),\n",
       " ('공공', 0.11177374577864715),\n",
       " ('정보', 0.091506330553343757),\n",
       " ('정부', 0.07716237839626415),\n",
       " ('서비스', 0.074964180762941965),\n",
       " ('지역', 0.059530154577535188),\n",
       " ('기관', 0.055515358106446075),\n",
       " ('불만', 0.054103912295797384),\n",
       " ('통해', 0.047535995925236225),\n",
       " ('우리', 0.031054333942066643)]"
      ]
     },
     "execution_count": 111,
     "metadata": {},
     "output_type": "execute_result"
    }
   ],
   "source": [
    "lda2.show_topic(0)"
   ]
  },
  {
   "cell_type": "code",
   "execution_count": 112,
   "metadata": {
    "collapsed": true
   },
   "outputs": [],
   "source": [
    "# 문서의 Topic 확인"
   ]
  },
  {
   "cell_type": "code",
   "execution_count": 113,
   "metadata": {
    "collapsed": true
   },
   "outputs": [],
   "source": [
    "# 문서 변환"
   ]
  },
  {
   "cell_type": "code",
   "execution_count": 114,
   "metadata": {
    "collapsed": true
   },
   "outputs": [],
   "source": [
    "doc2 = [(i, tdm2[0, i]) for i in range(50)]"
   ]
  },
  {
   "cell_type": "code",
   "execution_count": 115,
   "metadata": {
    "collapsed": true
   },
   "outputs": [],
   "source": [
    "# 문서에서 가장 많이 쓰인 단어들 보기"
   ]
  },
  {
   "cell_type": "code",
   "execution_count": 116,
   "metadata": {
    "collapsed": true
   },
   "outputs": [],
   "source": [
    "from operator import itemgetter"
   ]
  },
  {
   "cell_type": "code",
   "execution_count": 117,
   "metadata": {
    "collapsed": true
   },
   "outputs": [],
   "source": [
    "doc_words2 = [(words2[i], n) for i, n in doc2]"
   ]
  },
  {
   "cell_type": "code",
   "execution_count": 119,
   "metadata": {
    "collapsed": false
   },
   "outputs": [
    {
     "data": {
      "text/plain": [
       "[('데이터', 17),\n",
       " ('공공', 8),\n",
       " ('정보', 6),\n",
       " ('정부', 6),\n",
       " ('서비스', 5),\n",
       " ('기관', 4),\n",
       " ('불만', 4),\n",
       " ('지역', 4),\n",
       " ('통해', 3),\n",
       " ('문제', 2)]"
      ]
     },
     "execution_count": 119,
     "metadata": {},
     "output_type": "execute_result"
    }
   ],
   "source": [
    "sorted(doc_words2, key=itemgetter(1), reverse=True)[:10]"
   ]
  },
  {
   "cell_type": "code",
   "execution_count": 120,
   "metadata": {
    "collapsed": true
   },
   "outputs": [],
   "source": [
    "# 문서의 Topic"
   ]
  },
  {
   "cell_type": "code",
   "execution_count": 121,
   "metadata": {
    "collapsed": false
   },
   "outputs": [
    {
     "data": {
      "text/plain": [
       "[(88, 0.98605633802814852)]"
      ]
     },
     "execution_count": 121,
     "metadata": {},
     "output_type": "execute_result"
    }
   ],
   "source": [
    "lda2.get_document_topics(doc2)"
   ]
  },
  {
   "cell_type": "code",
   "execution_count": 122,
   "metadata": {
    "collapsed": false
   },
   "outputs": [
    {
     "data": {
      "text/plain": [
       "[('우리', 0.02),\n",
       " ('영상', 0.02),\n",
       " ('전기', 0.02),\n",
       " ('일정', 0.02),\n",
       " ('이용', 0.02),\n",
       " ('정보', 0.02),\n",
       " ('스마트', 0.02),\n",
       " ('시장', 0.02),\n",
       " ('정치', 0.02),\n",
       " ('안전', 0.02)]"
      ]
     },
     "execution_count": 122,
     "metadata": {},
     "output_type": "execute_result"
    }
   ],
   "source": [
    "lda2.show_topic(97)"
   ]
  },
  {
   "cell_type": "code",
   "execution_count": 123,
   "metadata": {
    "collapsed": false
   },
   "outputs": [
    {
     "data": {
      "text/plain": [
       "[('우리', 0.02),\n",
       " ('영상', 0.02),\n",
       " ('전기', 0.02),\n",
       " ('일정', 0.02),\n",
       " ('이용', 0.02),\n",
       " ('정보', 0.02),\n",
       " ('스마트', 0.02),\n",
       " ('시장', 0.02),\n",
       " ('정치', 0.02),\n",
       " ('안전', 0.02)]"
      ]
     },
     "execution_count": 123,
     "metadata": {},
     "output_type": "execute_result"
    }
   ],
   "source": [
    "lda2.show_topic(81)"
   ]
  },
  {
   "cell_type": "code",
   "execution_count": 124,
   "metadata": {
    "collapsed": true
   },
   "outputs": [],
   "source": [
    "# LDA모델 저장하기"
   ]
  },
  {
   "cell_type": "code",
   "execution_count": 125,
   "metadata": {
    "collapsed": true
   },
   "outputs": [],
   "source": [
    "lda2.save('20160609_2.lda')"
   ]
  },
  {
   "cell_type": "code",
   "execution_count": 126,
   "metadata": {
    "collapsed": true
   },
   "outputs": [],
   "source": [
    "# LDA 모델 불러오기"
   ]
  },
  {
   "cell_type": "code",
   "execution_count": 127,
   "metadata": {
    "collapsed": true
   },
   "outputs": [],
   "source": [
    "lda2 = LdaModel.load('20160609_2.lda')"
   ]
  },
  {
   "cell_type": "code",
   "execution_count": 128,
   "metadata": {
    "collapsed": false
   },
   "outputs": [
    {
     "data": {
      "text/plain": [
       "[('데이터', 0.23745944600365157),\n",
       " ('공공', 0.11177374577864715),\n",
       " ('정보', 0.091506330553343757),\n",
       " ('정부', 0.07716237839626415),\n",
       " ('서비스', 0.074964180762941965),\n",
       " ('지역', 0.059530154577535188),\n",
       " ('기관', 0.055515358106446075),\n",
       " ('불만', 0.054103912295797384),\n",
       " ('통해', 0.047535995925236225),\n",
       " ('우리', 0.031054333942066643)]"
      ]
     },
     "execution_count": 128,
     "metadata": {},
     "output_type": "execute_result"
    }
   ],
   "source": [
    "lda2.show_topic(0)"
   ]
  },
  {
   "cell_type": "code",
   "execution_count": 135,
   "metadata": {
    "collapsed": false
   },
   "outputs": [
    {
     "data": {
      "text/plain": [
       "[('우리', 0.02),\n",
       " ('영상', 0.02),\n",
       " ('전기', 0.02),\n",
       " ('일정', 0.02),\n",
       " ('이용', 0.02),\n",
       " ('정보', 0.02),\n",
       " ('스마트', 0.02),\n",
       " ('시장', 0.02),\n",
       " ('정치', 0.02),\n",
       " ('안전', 0.02)]"
      ]
     },
     "execution_count": 135,
     "metadata": {},
     "output_type": "execute_result"
    }
   ],
   "source": [
    "lda2.show_topic(1)"
   ]
  },
  {
   "cell_type": "code",
   "execution_count": 129,
   "metadata": {
    "collapsed": true
   },
   "outputs": [],
   "source": [
    "# 5. 결과 분석"
   ]
  },
  {
   "cell_type": "code",
   "execution_count": 130,
   "metadata": {
    "collapsed": true
   },
   "outputs": [],
   "source": [
    "# 5.1 \"정부3.0\" 분석"
   ]
  },
  {
   "cell_type": "code",
   "execution_count": 131,
   "metadata": {
    "collapsed": true
   },
   "outputs": [],
   "source": [
    "# 단어별 출현빈도 TOP10은 다음과 같음.\n",
    "# 에산, 요구, 억원, 정부, 부처, 올해, 내년, 증가, 분야, 스마트"
   ]
  },
  {
   "cell_type": "code",
   "execution_count": 132,
   "metadata": {
    "collapsed": true
   },
   "outputs": [],
   "source": [
    "# 문서의 토픽을 임의로 선택하여 살펴보면 다음과 같은 토픽이 중복되어 나옴을 알수 있음\n",
    "# 자치, 이후, 조원, 정부, 재정, 증가, 예산, 올해, 지방행정, 요구"
   ]
  },
  {
   "cell_type": "code",
   "execution_count": 134,
   "metadata": {
    "collapsed": true
   },
   "outputs": [],
   "source": [
    "# 단어별 출현빈도 TOP 10과 비교했을때 다음과 같은 단어가 출현빈도와 토픽에 같이 등장함을 알 수 있음.\n",
    "# 예산, 요구, 정부, 올해, 증가"
   ]
  },
  {
   "cell_type": "code",
   "execution_count": 136,
   "metadata": {
    "collapsed": true
   },
   "outputs": [],
   "source": [
    "# 5.2 \"정부3.0 불만\" 분석"
   ]
  },
  {
   "cell_type": "code",
   "execution_count": 137,
   "metadata": {
    "collapsed": true
   },
   "outputs": [],
   "source": [
    "# 단어별 출현빈도 TOP10은 다음과 같음.\n",
    "# 시장, 정치, 정부, 데이터, 서비스, 수학여행, 스마트, 안전, 점검, 공장"
   ]
  },
  {
   "cell_type": "code",
   "execution_count": 138,
   "metadata": {
    "collapsed": true
   },
   "outputs": [],
   "source": [
    "# 문서의 토픽을 임의로 선택하여 살펴보면 다음과 같은 토픽이 중복되어 나옴을 알수 있음\n",
    "# 우리, 영상, 전기, 일정, 이용, 정보, 스마트, 시장, 정치, 안전 "
   ]
  },
  {
   "cell_type": "code",
   "execution_count": 139,
   "metadata": {
    "collapsed": true
   },
   "outputs": [],
   "source": [
    "# 단어별 출현빈도 TOP 10과 비교했을때 다음과 같은 단어가 출현빈도와 토픽에 같이 등장함을 알 수 있음.\n",
    "# 시장, 정치, 정부, 데이터, 서비스, 스마트, 안전,"
   ]
  },
  {
   "cell_type": "code",
   "execution_count": 142,
   "metadata": {
    "collapsed": true
   },
   "outputs": [],
   "source": [
    "# 6. 결 론\n",
    "# 1) 정부3.0의 핵심 가치(정보공개, 공공데이터개방, 정보공유, 맞춤형서비스)와 관련하여 국민들의 전반적이 이해보다는 \n",
    "# 정부에서 올해부터 추진되는 부처 사업으로 인식되고 있고 내년부터 예산 증가등의 지원으로 확산이 예측됨\n",
    "# 2) 아직은 정부3.0 관련 서비스가 대 국민 서비스로 시행되고 있다기 보다는 정부, 공공기관 중심으로 진행되고 있다고 예측할 수 있음.\n",
    "# 3) 정부3.0 관련 정책은 현재 국민서비스로 보편화되어 있지는 않으며, 홍보가 미흡하지만 앞으로는 진행이 될 것이라는 예측이 가능함. "
   ]
  },
  {
   "cell_type": "code",
   "execution_count": 141,
   "metadata": {
    "collapsed": true
   },
   "outputs": [],
   "source": [
    "####################################################################################################################"
   ]
  }
 ],
 "metadata": {
  "kernelspec": {
   "display_name": "Python 3",
   "language": "python",
   "name": "python3"
  },
  "language_info": {
   "codemirror_mode": {
    "name": "ipython",
    "version": 3
   },
   "file_extension": ".py",
   "mimetype": "text/x-python",
   "name": "python",
   "nbconvert_exporter": "python",
   "pygments_lexer": "ipython3",
   "version": "3.5.1"
  }
 },
 "nbformat": 4,
 "nbformat_minor": 0
}
