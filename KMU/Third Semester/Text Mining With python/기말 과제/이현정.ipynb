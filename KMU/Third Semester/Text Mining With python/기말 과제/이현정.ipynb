{
 "cells": [
  {
   "cell_type": "markdown",
   "metadata": {},
   "source": [
    "# 네이버 영화평 수집\n"
   ]
  },
  {
   "cell_type": "code",
   "execution_count": 19,
   "metadata": {
    "collapsed": true
   },
   "outputs": [],
   "source": [
    "import requests\n",
    "import lxml.html\n",
    "import csv\n",
    "from sklearn.feature_extraction.text import CountVectorizer\n",
    "from konlpy.tag import Kkma\n",
    "import numpy\n",
    "from sklearn.cross_validation import train_test_split\n",
    "from sklearn import linear_model\n",
    "import operator"
   ]
  },
  {
   "cell_type": "code",
   "execution_count": 34,
   "metadata": {
    "collapsed": true
   },
   "outputs": [],
   "source": [
    "def get_word(text):\n",
    "    nouns = tagger.nouns(text)\n",
    "    return [noun for noun in nouns if len(noun) > 1 \n",
    "            and noun!= \"테스트\"\n",
    "            and noun!= \"이곳\"\n",
    "            and noun!= \"굿피플\"\n",
    "            and noun!= \"우리\"\n",
    "            and noun!= \"배우\"\n",
    "            and noun!= \"걱정\"\n",
    "           ]\n",
    "\n",
    "def get_important_words(model, positive=True, n=15):\n",
    "    return sorted(list(zip(noun_list, model.coef_)), key=operator.itemgetter(1), reverse=positive)[:n]\n"
   ]
  },
  {
   "cell_type": "code",
   "execution_count": 35,
   "metadata": {
    "collapsed": false
   },
   "outputs": [],
   "source": [
    "\n",
    "campaigns = None\n",
    "campaigns = []\n",
    "\n",
    "# 네이버 해피빈 캠페인 주소\n",
    "url = 'http://happybean.naver.com/happybeansearch/RaiseDonationSearch.nhn?query=&themeNo=&subThemeNo=&rdonastatus=4&sort=0&region=&page='\n",
    "\n",
    "#money : 기부금액\n",
    "#comment : 캠페인 내용\n",
    "\n",
    "for page in range(1,700):\n",
    "    res = requests.get(url.format(page))\n",
    "    element = lxml.html.fromstring(res.text)\n",
    "    for e in element.xpath('.//ul[@class=\"result_lst_area\"]//li'):\n",
    "        money = e.find('.//div[@class=\"info_area\"]//em').text_content()\n",
    "        money = money.replace(\",\",\"\").replace(\"원 모금\",\"\")\n",
    "        comment = e.findall('.//div[@class=\"txt_area\"]//a')[1].text_content()\n",
    "        campaigns.append([money, comment])"
   ]
  },
  {
   "cell_type": "code",
   "execution_count": 36,
   "metadata": {
    "collapsed": false
   },
   "outputs": [
    {
     "data": {
      "text/plain": [
       "6990"
      ]
     },
     "execution_count": 36,
     "metadata": {},
     "output_type": "execute_result"
    }
   ],
   "source": [
    "len(campaigns)"
   ]
  },
  {
   "cell_type": "code",
   "execution_count": 258,
   "metadata": {
    "collapsed": false,
    "scrolled": true
   },
   "outputs": [],
   "source": [
    "#reviews\n",
    "#campaigns"
   ]
  },
  {
   "cell_type": "code",
   "execution_count": 257,
   "metadata": {
    "collapsed": false
   },
   "outputs": [],
   "source": [
    "#campaigns"
   ]
  },
  {
   "cell_type": "markdown",
   "metadata": {},
   "source": [
    "# Term-Document Matrix"
   ]
  },
  {
   "cell_type": "raw",
   "metadata": {
    "collapsed": false
   },
   "source": []
  },
  {
   "cell_type": "code",
   "execution_count": 37,
   "metadata": {
    "collapsed": true
   },
   "outputs": [],
   "source": [
    "tagger = Kkma()\n",
    "cv = CountVectorizer(tokenizer=get_word, max_features=1000)\n",
    "tdm = cv.fit_transform([r[1] for r in campaigns])\n",
    "noun_list = cv.get_feature_names()"
   ]
  },
  {
   "cell_type": "code",
   "execution_count": 38,
   "metadata": {
    "collapsed": false
   },
   "outputs": [
    {
     "data": {
      "text/plain": [
       "LinearRegression(copy_X=True, fit_intercept=True, n_jobs=1, normalize=False)"
      ]
     },
     "execution_count": 38,
     "metadata": {},
     "output_type": "execute_result"
    }
   ],
   "source": [
    "money = [int(r[0]) for r in campaigns]\n",
    "X_train, X_test, y_train, y_test = train_test_split(tdm, money, test_size=0.2, random_state=42)\n",
    "lm = linear_model.LinearRegression()    \n",
    "lm.fit (X_train, y_train)"
   ]
  },
  {
   "cell_type": "code",
   "execution_count": 39,
   "metadata": {
    "collapsed": true
   },
   "outputs": [],
   "source": [
    "numpy.save('tdm.npy', tdm)"
   ]
  },
  {
   "cell_type": "code",
   "execution_count": null,
   "metadata": {
    "collapsed": true
   },
   "outputs": [],
   "source": [
    "# 기부금이 많을 수록 어떤 단어가 많이 나오는지, \n",
    "#  사람들이 어떠한 단어나 이슈에 관심을 갖고 기부를 하는지 알수 있다.\n",
    "# 직접적인 경제적인 어려움에 대한 문제를 언급했을때 기부금이 커지는것을 알 수 있고,\n",
    "# 사회적인 문제나, 해외문제에 대해서는 상대적으로 관심이 적은것을 알수 있다."
   ]
  },
  {
   "cell_type": "code",
   "execution_count": 40,
   "metadata": {
    "collapsed": false
   },
   "outputs": [
    {
     "data": {
      "text/plain": [
       "[('가정의', 3567686.901715986),\n",
       " ('가족', 3567686.901715986),\n",
       " ('문화적', 3567686.901715986),\n",
       " ('서로', 3567686.901715986),\n",
       " ('선물', 3567686.901715986),\n",
       " ('소외', 3567686.901715986),\n",
       " ('저소득', 3567686.901715986),\n",
       " ('저소득가정의', 3567686.901715986),\n",
       " ('혜택', 3567686.901715986),\n",
       " ('경제적', 3469197.5147312875),\n",
       " ('아동', 3041722.0545917931),\n",
       " ('어려움', 2807871.3742601783),\n",
       " ('하루', 1524127.5132189491),\n",
       " ('가명', 233083.19378573811),\n",
       " ('가정', 233083.19378573811)]"
      ]
     },
     "execution_count": 40,
     "metadata": {},
     "output_type": "execute_result"
    }
   ],
   "source": [
    "get_important_words(lm)"
   ]
  },
  {
   "cell_type": "code",
   "execution_count": 41,
   "metadata": {
    "collapsed": false
   },
   "outputs": [
    {
     "data": {
      "text/plain": [
       "[('사회', -2142048.7754818043),\n",
       " ('끼니', -2043559.3884970178),\n",
       " ('냉골', -2043559.3884970178),\n",
       " ('세상', -2043559.3884970178),\n",
       " ('치료', -1039026.0887913768),\n",
       " ('카나', -1039026.0887913768),\n",
       " ('케냐', -1039026.0887913768),\n",
       " ('투르카나', -1039026.0887913768),\n",
       " ('피플', -1039026.0887913768),\n",
       " ('희망', -1039026.0887913768),\n",
       " ('아이', -805942.89500568411),\n",
       " ('79', -759815.52745583002),\n",
       " ('79세', -759815.52745583002),\n",
       " ('기본', -759815.52745583002),\n",
       " ('기본적인', -759815.52745583002)]"
      ]
     },
     "execution_count": 41,
     "metadata": {},
     "output_type": "execute_result"
    }
   ],
   "source": [
    "get_important_words(lm, False)"
   ]
  },
  {
   "cell_type": "code",
   "execution_count": 42,
   "metadata": {
    "collapsed": false
   },
   "outputs": [
    {
     "data": {
      "text/plain": [
       "RidgeCV(alphas=[0.001, 0.01, 0.1, 1, 10, 100], cv=None, fit_intercept=True,\n",
       "    gcv_mode=None, normalize=False, scoring=None, store_cv_values=False)"
      ]
     },
     "execution_count": 42,
     "metadata": {},
     "output_type": "execute_result"
    }
   ],
   "source": [
    "ridgecv = linear_model.RidgeCV(alphas=[.001, .01, .1, 1, 10, 100])\n",
    "ridgecv.fit (X_train, y_train)"
   ]
  },
  {
   "cell_type": "code",
   "execution_count": 43,
   "metadata": {
    "collapsed": false
   },
   "outputs": [
    {
     "data": {
      "text/plain": [
       "0.001"
      ]
     },
     "execution_count": 43,
     "metadata": {},
     "output_type": "execute_result"
    }
   ],
   "source": [
    "ridgecv.alpha_"
   ]
  },
  {
   "cell_type": "code",
   "execution_count": 44,
   "metadata": {
    "collapsed": false
   },
   "outputs": [
    {
     "data": {
      "text/plain": [
       "[('가정의', 3567686.3358207592),\n",
       " ('가족', 3567686.3358207592),\n",
       " ('문화적', 3567686.3358207592),\n",
       " ('서로', 3567686.3358207592),\n",
       " ('선물', 3567686.3358207592),\n",
       " ('소외', 3567686.3358207592),\n",
       " ('저소득', 3567686.3358207592),\n",
       " ('저소득가정의', 3567686.3358207592),\n",
       " ('혜택', 3567686.3358207592),\n",
       " ('경제적', 3469196.9431156465),\n",
       " ('아동', 3041721.5654045297),\n",
       " ('어려움', 2807870.9684514757),\n",
       " ('하루', 1524127.7906899159),\n",
       " ('가명', 233083.15189422472),\n",
       " ('가정', 233083.15189422472)]"
      ]
     },
     "execution_count": 44,
     "metadata": {},
     "output_type": "execute_result"
    }
   ],
   "source": [
    "get_important_words(ridgecv)"
   ]
  },
  {
   "cell_type": "code",
   "execution_count": 45,
   "metadata": {
    "collapsed": false
   },
   "outputs": [
    {
     "data": {
      "text/plain": [
       "[('사회', -2142047.9378359746),\n",
       " ('끼니', -2043558.5451308857),\n",
       " ('냉골', -2043558.5451308857),\n",
       " ('세상', -2043558.5451308857),\n",
       " ('치료', -1039025.8139506911),\n",
       " ('카나', -1039025.8139506911),\n",
       " ('케냐', -1039025.8139506911),\n",
       " ('투르카나', -1039025.8139506911),\n",
       " ('피플', -1039025.8139506911),\n",
       " ('희망', -1039025.8139506911),\n",
       " ('아이', -805942.66205646703),\n",
       " ('79', -759815.36736930523),\n",
       " ('79세', -759815.36736930523),\n",
       " ('기본', -759815.36736930523),\n",
       " ('기본적인', -759815.36736930523)]"
      ]
     },
     "execution_count": 45,
     "metadata": {},
     "output_type": "execute_result"
    }
   ],
   "source": [
    "get_important_words(ridgecv, False)"
   ]
  },
  {
   "cell_type": "code",
   "execution_count": 46,
   "metadata": {
    "collapsed": false
   },
   "outputs": [
    {
     "data": {
      "text/plain": [
       "0.97692449527146052"
      ]
     },
     "execution_count": 46,
     "metadata": {},
     "output_type": "execute_result"
    }
   ],
   "source": [
    "ridgecv.score(X_train, y_train)"
   ]
  },
  {
   "cell_type": "code",
   "execution_count": 47,
   "metadata": {
    "collapsed": false
   },
   "outputs": [
    {
     "data": {
      "text/plain": [
       "0.97694953241225269"
      ]
     },
     "execution_count": 47,
     "metadata": {},
     "output_type": "execute_result"
    }
   ],
   "source": [
    "ridgecv.score(X_test, y_test)"
   ]
  },
  {
   "cell_type": "code",
   "execution_count": null,
   "metadata": {
    "collapsed": true
   },
   "outputs": [],
   "source": []
  }
 ],
 "metadata": {
  "kernelspec": {
   "display_name": "Python 3",
   "language": "python",
   "name": "python3"
  },
  "language_info": {
   "codemirror_mode": {
    "name": "ipython",
    "version": 3
   },
   "file_extension": ".py",
   "mimetype": "text/x-python",
   "name": "python",
   "nbconvert_exporter": "python",
   "pygments_lexer": "ipython3",
   "version": "3.5.1"
  }
 },
 "nbformat": 4,
 "nbformat_minor": 0
}
