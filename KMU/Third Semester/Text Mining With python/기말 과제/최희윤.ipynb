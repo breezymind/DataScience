{
 "cells": [
  {
   "cell_type": "markdown",
   "metadata": {},
   "source": [
    "# 국민대 빅데이터경영MBA '비정형 빅데이터 분석' 수업 과제."
   ]
  },
  {
   "cell_type": "markdown",
   "metadata": {},
   "source": [
    "Update : 2016-06-18, 최희윤(U2015049)."
   ]
  },
  {
   "cell_type": "markdown",
   "metadata": {},
   "source": [
    "# 분석에 필요한 패키지 준비"
   ]
  },
  {
   "cell_type": "code",
   "execution_count": 3,
   "metadata": {
    "collapsed": true
   },
   "outputs": [],
   "source": [
    "import requests"
   ]
  },
  {
   "cell_type": "code",
   "execution_count": 4,
   "metadata": {
    "collapsed": true
   },
   "outputs": [],
   "source": [
    "import lxml.html"
   ]
  },
  {
   "cell_type": "code",
   "execution_count": 5,
   "metadata": {
    "collapsed": true
   },
   "outputs": [],
   "source": [
    "import csv"
   ]
  },
  {
   "cell_type": "code",
   "execution_count": 6,
   "metadata": {
    "collapsed": true
   },
   "outputs": [],
   "source": [
    "from konlpy.tag import Twitter"
   ]
  },
  {
   "cell_type": "code",
   "execution_count": 7,
   "metadata": {
    "collapsed": true
   },
   "outputs": [],
   "source": [
    "from sklearn.feature_extraction.text import CountVectorizer"
   ]
  },
  {
   "cell_type": "code",
   "execution_count": 8,
   "metadata": {
    "collapsed": true
   },
   "outputs": [],
   "source": [
    "import numpy"
   ]
  },
  {
   "cell_type": "code",
   "execution_count": 9,
   "metadata": {
    "collapsed": true
   },
   "outputs": [],
   "source": [
    "import operator"
   ]
  },
  {
   "cell_type": "markdown",
   "metadata": {},
   "source": [
    "# 웹크롤링"
   ]
  },
  {
   "cell_type": "markdown",
   "metadata": {},
   "source": [
    "아래는 네이버 뉴스에서 '정치'란 키워드로 검색해 나온 기사 제목들을 크롤링한 것입니다."
   ]
  },
  {
   "cell_type": "code",
   "execution_count": 42,
   "metadata": {
    "collapsed": false
   },
   "outputs": [],
   "source": [
    "url = 'http://news.naver.com/main/search/search.nhn?refresh=&so=rel.dsc&stPhoto=&stPaper=&stRelease=&ie=MS949&detail=0&rcsection=&query=%C1%A4%C4%A1&x=0&y=0&sm=all.basic&pd=1&startDate=&endDate='"
   ]
  },
  {
   "cell_type": "code",
   "execution_count": 43,
   "metadata": {
    "collapsed": false
   },
   "outputs": [],
   "source": [
    "with open('politics.csv', 'w', encoding='utf8') as f:\n",
    "    writer = csv.writer(f)\n",
    "    for i in range(1, 21):\n",
    "        res = requests.get(url.format(i))  # 기사 목록\n",
    "        element = lxml.html.fromstring(res.text)\n",
    "        for news_link in element.xpath('.//a[@class=\"go_naver\"]'):\n",
    "            try:\n",
    "                res = requests.get(news_link.attrib['href'])   # 네이버 뉴스 링크\n",
    "                news = lxml.html.fromstring(res.text)\n",
    "                body = news.xpath('.//div[@id=\"articleBodyContents\"]')[0]\n",
    "                writer.writerow([body.text_content()])\n",
    "            except:\n",
    "                continue"
   ]
  },
  {
   "cell_type": "markdown",
   "metadata": {},
   "source": [
    "# 웹크롤링 결과를 불러와 분석 준비"
   ]
  },
  {
   "cell_type": "code",
   "execution_count": 44,
   "metadata": {
    "collapsed": false
   },
   "outputs": [],
   "source": [
    "politics = []\n",
    "with open('politics.csv', encoding='utf8', newline='\\r\\n') as f:\n",
    "    reader = csv.reader(f)\n",
    "    for row in reader :\n",
    "        politics.append(row[0])"
   ]
  },
  {
   "cell_type": "markdown",
   "metadata": {
    "collapsed": true
   },
   "source": [
    "# 형태소 분석기 준비"
   ]
  },
  {
   "cell_type": "code",
   "execution_count": 45,
   "metadata": {
    "collapsed": true
   },
   "outputs": [],
   "source": [
    "tagger = Twitter()"
   ]
  },
  {
   "cell_type": "markdown",
   "metadata": {},
   "source": [
    "# Term-Document Matrix 만들기"
   ]
  },
  {
   "cell_type": "code",
   "execution_count": 46,
   "metadata": {
    "collapsed": false
   },
   "outputs": [],
   "source": [
    "cv = CountVectorizer(tokenizer=tagger.nouns, max_features=50)"
   ]
  },
  {
   "cell_type": "code",
   "execution_count": 47,
   "metadata": {
    "collapsed": false
   },
   "outputs": [],
   "source": [
    "tdf = cv.fit_transform(politics)"
   ]
  },
  {
   "cell_type": "code",
   "execution_count": 48,
   "metadata": {
    "collapsed": false
   },
   "outputs": [
    {
     "data": {
      "text/plain": [
       "<180x50 sparse matrix of type '<class 'numpy.int64'>'\n",
       "\twith 5420 stored elements in Compressed Sparse Row format>"
      ]
     },
     "execution_count": 48,
     "metadata": {},
     "output_type": "execute_result"
    }
   ],
   "source": [
    "tdf"
   ]
  },
  {
   "cell_type": "markdown",
   "metadata": {},
   "source": [
    "# 단어 목록"
   ]
  },
  {
   "cell_type": "code",
   "execution_count": 49,
   "metadata": {
    "collapsed": false
   },
   "outputs": [],
   "source": [
    "words = cv.get_feature_names()"
   ]
  },
  {
   "cell_type": "code",
   "execution_count": 50,
   "metadata": {
    "collapsed": false
   },
   "outputs": [
    {
     "data": {
      "text/plain": [
       "['것',\n",
       " '계파',\n",
       " '고',\n",
       " '구두',\n",
       " '국민',\n",
       " '국민의당',\n",
       " '국정',\n",
       " '국회',\n",
       " '그',\n",
       " '금지',\n",
       " '기',\n",
       " '기자',\n",
       " '년',\n",
       " '논평',\n",
       " '다툼',\n",
       " '대변인',\n",
       " '대통령',\n",
       " '대표',\n",
       " '대한',\n",
       " '등',\n",
       " '라며',\n",
       " '며',\n",
       " '무단',\n",
       " '민생',\n",
       " '박',\n",
       " '박근혜',\n",
       " '배신',\n",
       " '배포',\n",
       " '복당',\n",
       " '새누리당',\n",
       " '서울',\n",
       " '수습',\n",
       " '안',\n",
       " '여당',\n",
       " '운동',\n",
       " '원내',\n",
       " '월',\n",
       " '유',\n",
       " '유승민',\n",
       " '의원',\n",
       " '일',\n",
       " '재',\n",
       " '전',\n",
       " '정치',\n",
       " '주도',\n",
       " '집권',\n",
       " '청와대',\n",
       " '친',\n",
       " '콕스',\n",
       " '현안']"
      ]
     },
     "execution_count": 50,
     "metadata": {},
     "output_type": "execute_result"
    }
   ],
   "source": [
    "words"
   ]
  },
  {
   "cell_type": "markdown",
   "metadata": {},
   "source": [
    "# 한 글자 짜리 단어 제외하기"
   ]
  },
  {
   "cell_type": "code",
   "execution_count": 51,
   "metadata": {
    "collapsed": true
   },
   "outputs": [],
   "source": [
    "def get_word(doc):\n",
    "    nouns = tagger.nouns(doc)\n",
    "    return [noun for noun in nouns if len(noun) > 1]"
   ]
  },
  {
   "cell_type": "code",
   "execution_count": 52,
   "metadata": {
    "collapsed": true
   },
   "outputs": [],
   "source": [
    "cv = CountVectorizer(tokenizer=get_word, max_features=50)"
   ]
  },
  {
   "cell_type": "code",
   "execution_count": 53,
   "metadata": {
    "collapsed": false
   },
   "outputs": [],
   "source": [
    "tdf = cv.fit_transform(politics)"
   ]
  },
  {
   "cell_type": "code",
   "execution_count": 54,
   "metadata": {
    "collapsed": true
   },
   "outputs": [],
   "source": [
    "words = cv.get_feature_names()"
   ]
  },
  {
   "cell_type": "code",
   "execution_count": 55,
   "metadata": {
    "collapsed": false
   },
   "outputs": [
    {
     "data": {
      "text/plain": [
       "['계파',\n",
       " '구두',\n",
       " '국민',\n",
       " '국민의당',\n",
       " '국정',\n",
       " '국회',\n",
       " '금지',\n",
       " '기자',\n",
       " '내분',\n",
       " '노동당',\n",
       " '논평',\n",
       " '다툼',\n",
       " '대변인',\n",
       " '대통령',\n",
       " '대표',\n",
       " '대한',\n",
       " '대해',\n",
       " '동민',\n",
       " '라며',\n",
       " '무단',\n",
       " '민생',\n",
       " '민주당',\n",
       " '박근혜',\n",
       " '발언',\n",
       " '배신',\n",
       " '배포',\n",
       " '복당',\n",
       " '사태',\n",
       " '새누리당',\n",
       " '서울',\n",
       " '수습',\n",
       " '여당',\n",
       " '영국',\n",
       " '오늘',\n",
       " '우리',\n",
       " '운동',\n",
       " '원내',\n",
       " '위해',\n",
       " '유승민',\n",
       " '의원',\n",
       " '전재',\n",
       " '정치',\n",
       " '주도',\n",
       " '증오',\n",
       " '집권',\n",
       " '책임',\n",
       " '청와대',\n",
       " '총선',\n",
       " '콕스',\n",
       " '현안']"
      ]
     },
     "execution_count": 55,
     "metadata": {},
     "output_type": "execute_result"
    }
   ],
   "source": [
    "words"
   ]
  },
  {
   "cell_type": "markdown",
   "metadata": {},
   "source": [
    "# 단어별 출현 빈도 데이터 만들기"
   ]
  },
  {
   "cell_type": "code",
   "execution_count": 56,
   "metadata": {
    "collapsed": true
   },
   "outputs": [],
   "source": [
    "count_mat = tdf.sum(axis=0)"
   ]
  },
  {
   "cell_type": "code",
   "execution_count": 57,
   "metadata": {
    "collapsed": false
   },
   "outputs": [
    {
     "data": {
      "text/plain": [
       "matrix([[ 200,  220,  900,  180,  280,  240,  160,  160,  140,  140,  240,\n",
       "          180,  440,  540,  240,  180,  160,  140,  220,  160,  340,  140,\n",
       "          180,  120,  160,  160,  200,  140,  500,  180,  160,  360,  160,\n",
       "          140,  160,  220,  380,  120,  240, 1180,  140,  280,  220,  120,\n",
       "          200,  120,  240,  120,  280,  200]], dtype=int64)"
      ]
     },
     "execution_count": 57,
     "metadata": {},
     "output_type": "execute_result"
    }
   ],
   "source": [
    "count_mat"
   ]
  },
  {
   "cell_type": "code",
   "execution_count": 58,
   "metadata": {
    "collapsed": true
   },
   "outputs": [],
   "source": [
    "count = numpy.squeeze(numpy.asarray(count_mat))"
   ]
  },
  {
   "cell_type": "code",
   "execution_count": 59,
   "metadata": {
    "collapsed": false
   },
   "outputs": [
    {
     "data": {
      "text/plain": [
       "array([ 200,  220,  900,  180,  280,  240,  160,  160,  140,  140,  240,\n",
       "        180,  440,  540,  240,  180,  160,  140,  220,  160,  340,  140,\n",
       "        180,  120,  160,  160,  200,  140,  500,  180,  160,  360,  160,\n",
       "        140,  160,  220,  380,  120,  240, 1180,  140,  280,  220,  120,\n",
       "        200,  120,  240,  120,  280,  200], dtype=int64)"
      ]
     },
     "execution_count": 59,
     "metadata": {},
     "output_type": "execute_result"
    }
   ],
   "source": [
    "count"
   ]
  },
  {
   "cell_type": "code",
   "execution_count": 60,
   "metadata": {
    "collapsed": true
   },
   "outputs": [],
   "source": [
    "word_count = list(zip(words, count))"
   ]
  },
  {
   "cell_type": "code",
   "execution_count": 61,
   "metadata": {
    "collapsed": false
   },
   "outputs": [
    {
     "data": {
      "text/plain": [
       "[('계파', 200),\n",
       " ('구두', 220),\n",
       " ('국민', 900),\n",
       " ('국민의당', 180),\n",
       " ('국정', 280),\n",
       " ('국회', 240),\n",
       " ('금지', 160),\n",
       " ('기자', 160),\n",
       " ('내분', 140),\n",
       " ('노동당', 140),\n",
       " ('논평', 240),\n",
       " ('다툼', 180),\n",
       " ('대변인', 440),\n",
       " ('대통령', 540),\n",
       " ('대표', 240),\n",
       " ('대한', 180),\n",
       " ('대해', 160),\n",
       " ('동민', 140),\n",
       " ('라며', 220),\n",
       " ('무단', 160),\n",
       " ('민생', 340),\n",
       " ('민주당', 140),\n",
       " ('박근혜', 180),\n",
       " ('발언', 120),\n",
       " ('배신', 160),\n",
       " ('배포', 160),\n",
       " ('복당', 200),\n",
       " ('사태', 140),\n",
       " ('새누리당', 500),\n",
       " ('서울', 180),\n",
       " ('수습', 160),\n",
       " ('여당', 360),\n",
       " ('영국', 160),\n",
       " ('오늘', 140),\n",
       " ('우리', 160),\n",
       " ('운동', 220),\n",
       " ('원내', 380),\n",
       " ('위해', 120),\n",
       " ('유승민', 240),\n",
       " ('의원', 1180),\n",
       " ('전재', 140),\n",
       " ('정치', 280),\n",
       " ('주도', 220),\n",
       " ('증오', 120),\n",
       " ('집권', 200),\n",
       " ('책임', 120),\n",
       " ('청와대', 240),\n",
       " ('총선', 120),\n",
       " ('콕스', 280),\n",
       " ('현안', 200)]"
      ]
     },
     "execution_count": 61,
     "metadata": {},
     "output_type": "execute_result"
    }
   ],
   "source": [
    "word_count"
   ]
  },
  {
   "cell_type": "markdown",
   "metadata": {},
   "source": [
    "# 빈도순 정렬"
   ]
  },
  {
   "cell_type": "code",
   "execution_count": 62,
   "metadata": {
    "collapsed": false
   },
   "outputs": [
    {
     "data": {
      "text/plain": [
       "[('의원', 1180),\n",
       " ('국민', 900),\n",
       " ('대통령', 540),\n",
       " ('새누리당', 500),\n",
       " ('대변인', 440),\n",
       " ('원내', 380),\n",
       " ('여당', 360),\n",
       " ('민생', 340),\n",
       " ('국정', 280),\n",
       " ('정치', 280),\n",
       " ('콕스', 280),\n",
       " ('국회', 240),\n",
       " ('논평', 240),\n",
       " ('대표', 240),\n",
       " ('유승민', 240),\n",
       " ('청와대', 240),\n",
       " ('구두', 220),\n",
       " ('라며', 220),\n",
       " ('운동', 220),\n",
       " ('주도', 220),\n",
       " ('계파', 200),\n",
       " ('복당', 200),\n",
       " ('집권', 200),\n",
       " ('현안', 200),\n",
       " ('국민의당', 180),\n",
       " ('다툼', 180),\n",
       " ('대한', 180),\n",
       " ('박근혜', 180),\n",
       " ('서울', 180),\n",
       " ('금지', 160),\n",
       " ('기자', 160),\n",
       " ('대해', 160),\n",
       " ('무단', 160),\n",
       " ('배신', 160),\n",
       " ('배포', 160),\n",
       " ('수습', 160),\n",
       " ('영국', 160),\n",
       " ('우리', 160),\n",
       " ('내분', 140),\n",
       " ('노동당', 140),\n",
       " ('동민', 140),\n",
       " ('민주당', 140),\n",
       " ('사태', 140),\n",
       " ('오늘', 140),\n",
       " ('전재', 140),\n",
       " ('발언', 120),\n",
       " ('위해', 120),\n",
       " ('증오', 120),\n",
       " ('책임', 120),\n",
       " ('총선', 120)]"
      ]
     },
     "execution_count": 62,
     "metadata": {},
     "output_type": "execute_result"
    }
   ],
   "source": [
    "sorted(word_count, key=operator.itemgetter(1), reverse=True)"
   ]
  }
 ],
 "metadata": {
  "kernelspec": {
   "display_name": "Python 2",
   "language": "python",
   "name": "python2"
  },
  "language_info": {
   "codemirror_mode": {
    "name": "ipython",
    "version": 2
   },
   "file_extension": ".py",
   "mimetype": "text/x-python",
   "name": "python",
   "nbconvert_exporter": "python",
   "pygments_lexer": "ipython2",
   "version": "2.7.11"
  }
 },
 "nbformat": 4,
 "nbformat_minor": 0
}
