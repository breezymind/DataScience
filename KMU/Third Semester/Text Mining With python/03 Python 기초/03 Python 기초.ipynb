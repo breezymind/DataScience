{
 "cells": [
  {
   "cell_type": "markdown",
   "metadata": {},
   "source": [
    "# 사칙연산"
   ]
  },
  {
   "cell_type": "code",
   "execution_count": 1,
   "metadata": {
    "collapsed": false
   },
   "outputs": [
    {
     "data": {
      "text/plain": [
       "2"
      ]
     },
     "execution_count": 1,
     "metadata": {},
     "output_type": "execute_result"
    }
   ],
   "source": [
    "1 + 1"
   ]
  },
  {
   "cell_type": "code",
   "execution_count": 2,
   "metadata": {
    "collapsed": false
   },
   "outputs": [
    {
     "data": {
      "text/plain": [
       "1"
      ]
     },
     "execution_count": 2,
     "metadata": {},
     "output_type": "execute_result"
    }
   ],
   "source": [
    "4 - 3"
   ]
  },
  {
   "cell_type": "code",
   "execution_count": 3,
   "metadata": {
    "collapsed": false
   },
   "outputs": [
    {
     "data": {
      "text/plain": [
       "20"
      ]
     },
     "execution_count": 3,
     "metadata": {},
     "output_type": "execute_result"
    }
   ],
   "source": [
    "5 * 4"
   ]
  },
  {
   "cell_type": "code",
   "execution_count": 4,
   "metadata": {
    "collapsed": false
   },
   "outputs": [
    {
     "data": {
      "text/plain": [
       "3.3333333333333335"
      ]
     },
     "execution_count": 4,
     "metadata": {},
     "output_type": "execute_result"
    }
   ],
   "source": [
    "20 / 6"
   ]
  },
  {
   "cell_type": "code",
   "execution_count": 5,
   "metadata": {
    "collapsed": false
   },
   "outputs": [
    {
     "data": {
      "text/plain": [
       "2"
      ]
     },
     "execution_count": 5,
     "metadata": {},
     "output_type": "execute_result"
    }
   ],
   "source": [
    "20 % 6"
   ]
  },
  {
   "cell_type": "code",
   "execution_count": 6,
   "metadata": {
    "collapsed": false
   },
   "outputs": [
    {
     "data": {
      "text/plain": [
       "100000"
      ]
     },
     "execution_count": 6,
     "metadata": {},
     "output_type": "execute_result"
    }
   ],
   "source": [
    "10 ** 5"
   ]
  },
  {
   "cell_type": "markdown",
   "metadata": {},
   "source": [
    "# 변수"
   ]
  },
  {
   "cell_type": "code",
   "execution_count": 7,
   "metadata": {
    "collapsed": true
   },
   "outputs": [],
   "source": [
    "x = 4"
   ]
  },
  {
   "cell_type": "code",
   "execution_count": 8,
   "metadata": {
    "collapsed": false
   },
   "outputs": [
    {
     "data": {
      "text/plain": [
       "4"
      ]
     },
     "execution_count": 8,
     "metadata": {},
     "output_type": "execute_result"
    }
   ],
   "source": [
    "x"
   ]
  },
  {
   "cell_type": "code",
   "execution_count": 9,
   "metadata": {
    "collapsed": true
   },
   "outputs": [],
   "source": [
    "x = 5"
   ]
  },
  {
   "cell_type": "code",
   "execution_count": 10,
   "metadata": {
    "collapsed": false
   },
   "outputs": [
    {
     "data": {
      "text/plain": [
       "5"
      ]
     },
     "execution_count": 10,
     "metadata": {},
     "output_type": "execute_result"
    }
   ],
   "source": [
    "x"
   ]
  },
  {
   "cell_type": "code",
   "execution_count": 11,
   "metadata": {
    "collapsed": true
   },
   "outputs": [],
   "source": [
    "x = x + 1"
   ]
  },
  {
   "cell_type": "code",
   "execution_count": 12,
   "metadata": {
    "collapsed": false
   },
   "outputs": [
    {
     "data": {
      "text/plain": [
       "6"
      ]
     },
     "execution_count": 12,
     "metadata": {},
     "output_type": "execute_result"
    }
   ],
   "source": [
    "x"
   ]
  },
  {
   "cell_type": "code",
   "execution_count": 13,
   "metadata": {
    "collapsed": true
   },
   "outputs": [],
   "source": [
    "y = x"
   ]
  },
  {
   "cell_type": "code",
   "execution_count": 14,
   "metadata": {
    "collapsed": false
   },
   "outputs": [
    {
     "data": {
      "text/plain": [
       "6"
      ]
     },
     "execution_count": 14,
     "metadata": {},
     "output_type": "execute_result"
    }
   ],
   "source": [
    "y"
   ]
  },
  {
   "cell_type": "markdown",
   "metadata": {},
   "source": [
    "# 문자열"
   ]
  },
  {
   "cell_type": "markdown",
   "metadata": {},
   "source": [
    "Python 3에서는 따옴표로 둘러싼 부분은 유니코드 문자열로 처리됩니다"
   ]
  },
  {
   "cell_type": "code",
   "execution_count": 15,
   "metadata": {
    "collapsed": false
   },
   "outputs": [
    {
     "data": {
      "text/plain": [
       "'안녕하세요'"
      ]
     },
     "execution_count": 15,
     "metadata": {},
     "output_type": "execute_result"
    }
   ],
   "source": [
    "'안녕하세요'"
   ]
  },
  {
   "cell_type": "markdown",
   "metadata": {},
   "source": [
    "Python 2에서는 따옴표 앞에 u를 붙이면 유니코드 문자열입니다 (Python 3에서도 동일)"
   ]
  },
  {
   "cell_type": "code",
   "execution_count": 16,
   "metadata": {
    "collapsed": false
   },
   "outputs": [
    {
     "data": {
      "text/plain": [
       "'안녕하세요'"
      ]
     },
     "execution_count": 16,
     "metadata": {},
     "output_type": "execute_result"
    }
   ],
   "source": [
    "u'안녕하세요'"
   ]
  },
  {
   "cell_type": "markdown",
   "metadata": {},
   "source": [
    "유니코드 문자열에 .encode(인코딩)을 사용하면 인코딩이 됩니다"
   ]
  },
  {
   "cell_type": "code",
   "execution_count": 17,
   "metadata": {
    "collapsed": false
   },
   "outputs": [
    {
     "data": {
      "text/plain": [
       "b'\\xbe\\xc8\\xb3\\xe7\\xc7\\xcf\\xbc\\xbc\\xbf\\xe4'"
      ]
     },
     "execution_count": 17,
     "metadata": {},
     "output_type": "execute_result"
    }
   ],
   "source": [
    "u'안녕하세요'.encode('cp949')"
   ]
  },
  {
   "cell_type": "code",
   "execution_count": 18,
   "metadata": {
    "collapsed": false
   },
   "outputs": [
    {
     "data": {
      "text/plain": [
       "b'\\xec\\x95\\x88\\xeb\\x85\\x95\\xed\\x95\\x98\\xec\\x84\\xb8\\xec\\x9a\\x94'"
      ]
     },
     "execution_count": 18,
     "metadata": {},
     "output_type": "execute_result"
    }
   ],
   "source": [
    "u'안녕하세요'.encode('utf8')"
   ]
  },
  {
   "cell_type": "markdown",
   "metadata": {},
   "source": [
    "따옴표 앞에 b는 이 문자열이 유니코드가 아닌 문자열임을 나타냅니다. Python에서는 이런 문자열을 바이츠(bytes)라고 합니다.\n",
    "\n",
    "바이츠에 .decode(인코딩)을 사용하면 디코딩을 하여 유니코드로 변환합니다."
   ]
  },
  {
   "cell_type": "code",
   "execution_count": 19,
   "metadata": {
    "collapsed": false
   },
   "outputs": [
    {
     "data": {
      "text/plain": [
       "'안녕하세요'"
      ]
     },
     "execution_count": 19,
     "metadata": {},
     "output_type": "execute_result"
    }
   ],
   "source": [
    "b'\\xbe\\xc8\\xb3\\xe7\\xc7\\xcf\\xbc\\xbc\\xbf\\xe4'.decode('cp949')"
   ]
  },
  {
   "cell_type": "code",
   "execution_count": 20,
   "metadata": {
    "collapsed": false
   },
   "outputs": [
    {
     "data": {
      "text/plain": [
       "'안녕하세요'"
      ]
     },
     "execution_count": 20,
     "metadata": {},
     "output_type": "execute_result"
    }
   ],
   "source": [
    "b'\\xec\\x95\\x88\\xeb\\x85\\x95\\xed\\x95\\x98\\xec\\x84\\xb8\\xec\\x9a\\x94'.decode('utf8')"
   ]
  },
  {
   "cell_type": "markdown",
   "metadata": {},
   "source": [
    "# 아나콘다에서 패키지 설치\n",
    "\n",
    "아나콘다에서는 conda install 명령을 이용하여 패키지를 설치할 수 있습니다. cmd를 실행시켜 명령창을 연 후 다음과 같이 입력하세요.\n",
    "\n",
    "```\n",
    "conda install chardet\n",
    "```\n",
    "\n",
    "Python에서는 기본적으로 pip install 명령을 제공합니다. conda install과 마찬가지로 명령창에서 입력해야 합니다.\n",
    "\n",
    "```\n",
    "pip install requests\n",
    "```\n",
    "\n",
    "pip는 패키지 제작자가 만든 버전이 설치되고, conda의 경우에는 윈도에서 잘 실행되도록 수정된 버전이 설치됩니다. 윈도에서는 일단 conda로 먼저 설치를 하는 것을 추천합니다."
   ]
  },
  {
   "cell_type": "markdown",
   "metadata": {},
   "source": [
    "# chardet을 이용한 인코딩 추측\n",
    "\n",
    "문자열에는 인코딩에 대한 정보가 없습니다. 문자열의 인코딩을 모를 경우에는 chardet 패키지를 이용해 인코딩을 추측할 수 있습니다.\n",
    "\n",
    "먼저 import를 이용해 chardet 패키지를 사용하겠다고 밝힙니다."
   ]
  },
  {
   "cell_type": "code",
   "execution_count": 21,
   "metadata": {
    "collapsed": true
   },
   "outputs": [],
   "source": [
    "import chardet"
   ]
  },
  {
   "cell_type": "markdown",
   "metadata": {},
   "source": [
    "chardet.detect를 사용해서 문자열의 인코딩을 추측할 수 있습니다"
   ]
  },
  {
   "cell_type": "code",
   "execution_count": 22,
   "metadata": {
    "collapsed": false
   },
   "outputs": [
    {
     "data": {
      "text/plain": [
       "{'confidence': 0.6666666666666666, 'encoding': 'EUC-KR'}"
      ]
     },
     "execution_count": 22,
     "metadata": {},
     "output_type": "execute_result"
    }
   ],
   "source": [
    "chardet.detect(b'\\xbe\\xc8\\xb3\\xe7\\xc7\\xcf\\xbc\\xbc\\xbf\\xe4')"
   ]
  },
  {
   "cell_type": "code",
   "execution_count": 23,
   "metadata": {
    "collapsed": false
   },
   "outputs": [
    {
     "data": {
      "text/plain": [
       "{'confidence': 0.9690625, 'encoding': 'utf-8'}"
      ]
     },
     "execution_count": 23,
     "metadata": {},
     "output_type": "execute_result"
    }
   ],
   "source": [
    "chardet.detect(b'\\xec\\x95\\x88\\xeb\\x85\\x95\\xed\\x95\\x98\\xec\\x84\\xb8\\xec\\x9a\\x94')"
   ]
  },
  {
   "cell_type": "markdown",
   "metadata": {},
   "source": [
    "# requests를 이용한 웹 페이지 내용 가져오기\n",
    "\n",
    "requests는 웹 브라우저와 비슷한 역할을 해주는 패키지입니다. requests.get에 주소를 넘겨주면 웹 페이지의 내용을 가져옵니다."
   ]
  },
  {
   "cell_type": "code",
   "execution_count": 24,
   "metadata": {
    "collapsed": true
   },
   "outputs": [],
   "source": [
    "import requests"
   ]
  },
  {
   "cell_type": "markdown",
   "metadata": {},
   "source": [
    "국민대학교 홈페이지의 내용을 가져와 response라는 변수에 저장합시다"
   ]
  },
  {
   "cell_type": "code",
   "execution_count": 25,
   "metadata": {
    "collapsed": true
   },
   "outputs": [],
   "source": [
    "response = requests.get('http://www.kookmin.ac.kr/home.php')"
   ]
  },
  {
   "cell_type": "markdown",
   "metadata": {},
   "source": [
    "response를 쳤을 때 200이라고 나오면 성공적으로 내용을 가져온 것입니다"
   ]
  },
  {
   "cell_type": "code",
   "execution_count": 26,
   "metadata": {
    "collapsed": false
   },
   "outputs": [
    {
     "data": {
      "text/plain": [
       "<Response [200]>"
      ]
     },
     "execution_count": 26,
     "metadata": {},
     "output_type": "execute_result"
    }
   ],
   "source": [
    "response"
   ]
  },
  {
   "cell_type": "markdown",
   "metadata": {},
   "source": [
    "response.text를 이용해 응답 내용의 HTML 코드를 확인할 수 있습니다."
   ]
  },
  {
   "cell_type": "code",
   "execution_count": 27,
   "metadata": {
    "collapsed": false
   },
   "outputs": [
    {
     "data": {
      "text/plain": [
       "'<!DOCTYPE html>\\r\\n<html lang=\"ko\">\\r\\n<head>\\r\\n<meta http-equiv=\"Content-Type\" content=\"text/html; charset=utf-8\" />\\n<meta property=\"og:description\" content=\"국민대학교 개교 70주년 홈페이지 - 국민대학교는 1946년 해공 신익희 선생을 중심으로 상해 임시정부 요인들이 세운 민족혼이 깃든, 광복 후 최초의 민족사학으로 출발했습니다. 1959년 이래 학교를 중흥하신 성곡 김성곤 선생의 ‘인본주의·민족주의·문화주의·산업주의’라는 육영 이념을 따라 비약적인 발전을 거듭하여 현재 재적생 24,000여 명의 대학으로 크게 성장하였습니다.\" />\\n<meta name=\"description\" content=\"국민대학교 개교 70주년 홈페이지 - 국민대학교는 1946년 해공 신익희 선생을 중심으로 상해 임시정부 요인들이 세운 민족혼이 깃든, 광복 후 최초의 민족사학으로 출발했습니다. 1959년 이래 학교를 중흥하신 성곡 김성곤 선생의 ‘인본주의·민족주의·문화주의·산업주의’라는 육영 이념을 따라 비약적인 발전을 거듭하여 현재 재적생 24,000여 명의 대학으로 크게 성장하였습니다.\">\\n<meta name=\"keywords\" content=\"국민대학교, 국민대, 국민대학교 70주년, 국민대학교 개교 70주년, 국민대 슬로건, 국민대 UI, Global KMU, Kookmin University, 해공 신익희, 성곡 김성곤, 민족사학, KMU, KMU1010, 유지수 총장, 개교 70주년, 국제교류 프로그램, 도전하는 국민인, 실천하는 교양인, 소통하는 협력인, 창의적인 전문인, 앞서가는 미래인\">\\n<title>국민대학교 : 창의성과 도전정신을 겸비한 미래형 글로벌 인재를 양성하는 세계 속의 명문대학(Visual mode)</title>\\n<script type=\"text/javascript\" src=\"http://wfile.kookmin.ac.kr/js/jquery-latest.js\"></script>\\n<script type=\"text/javascript\" src=\"http://wfile.kookmin.ac.kr/js/jquery.cookie.js\"></script>\\n<link rel=\"stylesheet\" type=\"text/css\" href=\"./css/layout.css?v=20130225\" />\\r\\n<link rel=\"stylesheet\" type=\"text/css\" href=\"./css/home_visual.css\" /><script type=\"text/javascript\" src=\"http://wfile.kookmin.ac.kr/js/modernizr.js\"></script>\\n<link rel=\"stylesheet\" type=\"text/css\" href=\"./css/base.css\" />\\n<script type=\"text/javascript\" src=\"/js/jquery.easing.1.3.js\"></script>\\r\\n<script type=\"text/javascript\" src=\"//wfile.kookmin.ac.kr/js/TweenMax.min.js\"></script>\\r\\n<script type=\"text/javascript\" src=\"/js/jquery.carouFredSel-5.6.4-packed.js\"></script>\\r\\n<script type=\"text/javascript\" src=\"/js/home-visual_2014.js\"></script>\\r\\n<script type=\"text/javascript\">\\r\\nfunction setViewMode(m) {\\r\\n\\tvar date = new Date();\\r\\n\\tdate.setDate(date.getDate()+15);\\r\\n\\tjQuery.cookie(\\'hmode\\', m, {\\'expires\\': date});\\r\\n\\tlocation.href = \\'/\\';\\r\\n\\t//location.reload();\\r\\n\\treturn false;\\r\\n}\\r\\n/*\\r\\njQuery(function  () {\\r\\n\\tvar bgSrc = $(\\'div.visual-wrap div\\').css(\\'background-image\\');\\r\\n\\tvar bgIdx = bgSrc.indexOf(\\'50adaf3e5518b\\');//파일명\\r\\n\\tif (bgIdx >= 0) {\\r\\n\\t\\t$(\\'div.content p.title-myungwon\\').show();\\r\\n\\t}\\r\\n});*/\\r\\n\\r\\n//visual mode bg 명원민속관일때 타이틀 보이기\\r\\njQuery(function  () {\\r\\n\\tvar bgSrc = $(\\'div.visual-wrap div\\').css(\\'background-image\\');\\r\\n\\tif (bgSrc.indexOf(\\'50adaf3e5518b\\') >= 0) { // 해당 파일명\\r\\n\\t\\t$(\\'div.content p.title-myungwon\\').show();\\r\\n\\t}else if(bgSrc.indexOf(\\'54ea730970569\\') >= 0) {// 해당 파일명\\r\\n\\t\\t$(\\'div.content p.title-schoolyard\\').show();\\r\\n\\t}\\r\\n});\\r\\n\\r\\n\\r\\n$(document).ready(function() {\\r\\n      $(\\'a.close\\').click(function() {\\r\\n        $(\\'.popoup\\').hide();\\r\\n      });\\r\\n    });\\r\\n</script>\\r\\n<style type=\"text/css\">\\r\\n\\tp.title-myungwon {position:absolute;right:0;top:424px;}\\r\\n\\tp.title-schoolyard {position:absolute;right:0;top:424px;}\\r\\n\\t#content_body{float: none; width: auto;padding: 0;}\\r\\n\\t.popoup{width:927px; height:593px; position:absolute; top:35px; left:40px; z-index:10}\\r\\n\\t.popoup .popoup_img{width:100%; position:relative;}\\r\\n\\t.popoup .popoup_img a{position:absolute; bottom:20px; right:25px;}\\r\\n</style>\\r\\n</head>\\r\\n<body>\\r\\n<ul class=\"skip reset\">\\r\\n\\t<li><a href=\"#content_body\">본문내용 바로가기</a></li>\\r\\n\\t<li><a href=\"#gnb\">주메뉴 바로가기</a></li>\\r\\n</ul>\\r\\n<header id=\"page_header_wrap\">\\r\\n\\t<div id=\"page_header\">\\r\\n\\t\\t<ul class=\"top-link\">\\r\\n\\t\\t\\t<li><a href=\"https://www.facebook.com/kookminontong\" target=\"facebook\" title=\"새창열림\"><img src=\"/images/common/toplink_facebook.gif\" alt=\"facebook\" /></a></li>\\r\\n\\t\\t\\t<li><a href=\"http://twitter.com/kmu_tweet\" target=\"twitter\" title=\"새창열림\"><img src=\"/images/common/toplink_tweeter.gif\" alt=\"트위터\" /></a></li>\\r\\n\\t\\t\\t<li><a href=\"http://blog.naver.com/kmu_univ\" target=\"naver\" title=\"새창열림\"><img src=\"/images/common/toplink_naver.gif\" alt=\"네이버 블로그\" /></a></li>\\r\\n\\t\\t\\t<li><a href=\"http://cafe.daum.net/kmu1010\" target=\"daum\" title=\"새창열림\"><img src=\"/images/common/toplink_daum.gif\" alt=\"다음 카페\" /></a></li>\\r\\n\\t\\t\\t<li><a href=\"http://www.youtube.com/KMU1010\" target=\"youtube\" title=\"새창열림\"><img src=\"/images/common/toplink_youtube.gif\" alt=\"유튜브\" /></a></li>\\r\\n\\t\\t</ul>\\r\\n\\t\\t<div class=\"link-wrap\">\\r\\n\\t\\t\\t<ul class=\"util\">\\r\\n\\t\\t\\t\\t<li><a href=\"/\"><img src=\"/images/home/util_home.gif\" alt=\"홈\" /></a></li>\\r\\n\\t\\t\\t\\t<li><a href=\"https://sess.kookmin.ac.kr/login.php?return_url=http%3A%2F%2Fwww.kookmin.ac.kr%2Fhome.php%3F\"><img src=\"/images/common/util_login.gif\" alt=\"로그인\" /></a></li>\\r\\n\\t\\t\\t\\t<li><a href=\"/site/help.htm\"><img src=\"/images/common/util_qna.gif\" alt=\"문의하기\" /></a></li>\\r\\n\\t\\t\\t\\t<li><a href=\"http://english.kookmin.ac.kr/\" target=\"_blank\"><img src=\"/images/common/util_en.gif\" alt=\"English\" /></a></li>\\r\\n\\t\\t\\t\\t<li class=\"last\"><a href=\"http://chinese.kookmin.ac.kr/\" target=\"_blank\"><img src=\"/images/common/util_ch.gif\" alt=\"Chinese\" /></a></li>\\r\\n\\t\\t\\t\\t<li></li>\\r\\n\\t\\t\\t</ul>\\r\\n\\t\\t\\t<a href=\"http://apps.kookmin.ac.kr\" class=\"webmail\" target=\"_blank\"><img src=\"/images/common/toplink_webmail.gif\" alt=\"웹메일\" /></a>\\r\\n\\t\\t\\t<div class=\"search\">\\r\\n\\t\\t\\t\\t<form action=\"/site/search/search.htm\">\\r\\n\\t\\t\\t\\t\\t<label class=\"hidden\" for=\"keyword\">통합검색</label>\\r\\n\\t\\t\\t\\t\\t<input id=\"keyword\" class=\"search-box\" type=\"search\" placeholder=\"통합 검색\" name=\"keyword\" title=\"검색어\">\\r\\n\\t\\t\\t\\t\\t<input type=\"image\" alt=\"검색\" src=\"/images/home/text/textmode_search.jpg\">\\r\\n\\t\\t\\t\\t</form>\\r\\n\\t\\t\\t</div>\\r\\n\\t\\t</div>\\r\\n\\t\\t<h1 class=\"logo\"><a href=\"/home.php?utm_source=www&utm_medium=메인로고&utm_campaign=메인페이지요소별클릭&utm_content=메인로고\"><img src=\"/images/common/logo.gif\" alt=\"국민대학교\" /></a>\\r\\n\\t\\t<a href=\"https://70.kookmin.ac.kr?utm_source=www&utm_medium=메인로고&utm_campaign=메인페이지요소별클릭&utm_content=70주년엠블렘\" target=\"_blank\" title=\"새창열림\"><img src=\"/images/common/logo_70th.gif\" alt=\"국민대학교\" /></a></h1>\\r\\n\\t\\t <script>\\r\\n\\t\\t\\tjQuery(document).ready(function() {\\r\\n\\t\\t\\t\\tvar num = $(\\'.logo a\\').length;\\r\\n\\t\\t\\t\\tvar ran = Math.floor( Math.random() * num );\\r\\n\\t\\t\\t\\t$(\\'.logo a\\').eq(ran).show();\\r\\n\\t\\t\\t});\\r\\n\\t\\t  </script>\\r\\n\\t\\t  <style type=\"text/css\">h1.logo a{display:none;}</style>\\r\\n\\r\\n\\r\\n<script type=\"text/javascript\">\\r\\n\\t//common rollover image kth\\r\\n\\tfunction imgOn(item) {\\r\\n\\t    var image = item.find(\"img\");\\r\\n\\t    var imgsrc = jQuery(image).attr(\"src\");\\r\\n\\t    if (jQuery(image).length) {\\r\\n\\t        var on = imgsrc.replace(/_off/, \"_on\");\\r\\n\\t        jQuery(image).attr(\"src\", on);\\r\\n\\t    };\\r\\n\\t};\\r\\n\\r\\n\\tfunction imgOff(item) {\\r\\n\\t    var image = item.find(\"img\");\\r\\n\\t    for (var i = 0; i < image.length; i++) {\\r\\n\\t        var imgsrc = jQuery(image[i]).attr(\"src\");\\r\\n\\t        var off = imgsrc.replace(/_on/, \"_off\");\\r\\n\\t        jQuery(image[i]).attr(\"src\", off);\\r\\n\\t    };\\r\\n\\t};\\r\\n\\r\\njQuery(function() {\\r\\n\\t$(\\'#page_header .gnb > li > a\\').click(function() {\\r\\n\\t\\tvar thisLi = this.parentNode;\\r\\n\\t\\t$(\\'#page_header .gnb > li > div\\').each(function() {\\r\\n\\t\\t\\tif(this.parentNode == thisLi) {\\r\\n\\t\\t\\t\\t$(this).slideToggle();\\r\\n\\t\\t\\t} else {\\r\\n\\t\\t\\t\\t$(this).hide();\\r\\n\\t\\t\\t\\tvar img = $(\\'> a > img\\', this.parentNode).get(0);\\r\\n\\t\\t\\t\\timg.src = img.src.replace(\\'_on.gif\\', \\'_off.gif\\');\\r\\n\\t\\t\\t}\\r\\n\\t\\t});\\r\\n\\t\\treturn $(\\'> div\\', this.parentNode).length <= 0;\\r\\n\\t}).bind(\\'mouseenter keyup\\', function(event) {\\r\\n\\t\\t//imgOff(gnb_link_depth1);\\r\\n\\t\\timgOn(jQuery(this));\\r\\n\\r\\n\\t}).bind(\\'mouseleave blur\\', function(event) {\\r\\n\\t\\t/* Act on the event */\\r\\n\\t\\timgOff(jQuery(this));\\r\\n\\t});\\r\\n\\r\\n\\t$(\\'#page_header .gnb > li > div > p\\').click(function() {\\r\\n\\t\\t$(this.parentNode).slideUp();\\r\\n\\t\\t$(this).parents(\\'li\\').find(\\'a:first\\').focus();\\r\\n\\t\\treturn false;\\r\\n\\t}).mouseenter(function() {\\r\\n\\t\\t$(this).addClass(\\'on\\');\\r\\n\\t}).mouseleave(function() {\\r\\n\\t\\t$(this).removeClass(\\'on\\');\\r\\n\\t});\\r\\n\\t$(\\'#page_header ul.depth-02 > li\\').mouseenter(function() {\\r\\n\\t\\t$(this).addClass(\\'on\\');\\r\\n\\t}).mouseleave(function() {\\r\\n\\t\\t$(this).removeClass(\\'on\\');\\r\\n\\t});\\r\\n});\\r\\n</script>\\r\\n\\t<div id=\"gnb\">\\r\\n\\t<nav>\\r\\n\\t\\t<ul class=\"gnb\">\\r\\n\\t\\t\\t<li class=\"about\"><a href=\"/site/about/about/concept.htm\"><img src=\"/images/common/ngnb_about_off.gif\" alt=\"학교소개\" /></a>\\r\\n\\t\\t\\t\\t<div class=\"depth-01\">\\r\\n\\t\\t\\t\\t\\t<div class=\"bar\">&nbsp;</div>\\r\\n\\t\\t\\t\\t\\t<ul class=\"depth-02\">\\r\\n\\t\\t\\t\\t\\t\\t<li class=\"concept\">\\r\\n\\t\\t\\t\\t\\t\\t\\t<a href=\"/site/about/about/concept.htm\">국민소개</a>\\r\\n\\t\\t\\t\\t\\t\\t\\t<ul class=\"depth-03\">\\r\\n\\t\\t\\t\\t\\t\\t\\t\\t<li><a href=\"/site/about/about/concept.htm\">건학이념</a></li>\\r\\n\\t\\t\\t\\t\\t\\t\\t\\t<li><a href=\"/site/about/about/yuk.htm\">육영이념</a></li>\\r\\n\\t\\t\\t\\t\\t\\t\\t\\t<li><a href=\"/site/about/about/edu.htm\">인재상, 교육목표<br /> 및 핵심역량</a></li>\\r\\n\\t\\t\\t\\t\\t\\t\\t\\t<li><a href=\"/site/about/about/history.htm\">연혁</a></li>\\r\\n\\t\\t\\t\\t\\t\\t\\t\\t<li><a href=\"/site/about/about/photohistory.htm\">사진으로 보는 <br />국민역사</a></li>\\r\\n\\t\\t\\t\\t\\t\\t\\t\\t<li><a href=\"/site/about/about/symbol.htm\">국민 상징</a></li>\\r\\n\\t\\t\\t\\t\\t\\t\\t\\t<li><a href=\"/site/about/about/ui.htm\">국민 UI</a></li>\\r\\n\\t\\t\\t\\t\\t\\t\\t\\t<li><a href=\"/site/about/about/vision.htm\">비전 및 현황</a></li>\\r\\n\\t\\t\\t\\t\\t\\t\\t\\t<li><a href=\"http://iat.kookmin.ac.kr/\" target=\"_blank\">국제교류</a></li>\\r\\n\\t\\t\\t\\t\\t\\t\\t</ul>\\r\\n\\t\\t\\t\\t\\t\\t</li>\\r\\n\\t\\t\\t\\t\\t\\t<li class=\"introduce\">\\r\\n\\t\\t\\t\\t\\t\\t\\t<a href=\"/site/about/president/introduce.htm\">총장실</a>\\r\\n\\t\\t\\t\\t\\t\\t\\t<ul class=\"depth-03\">\\r\\n\\t\\t\\t\\t\\t\\t\\t\\t<li><a href=\"/site/about/president/introduce.htm\">인사말</a></li>\\r\\n\\t\\t\\t\\t\\t\\t\\t\\t<li><a href=\"/site/about/president/profile.htm\">총장 프로필</a></li>\\r\\n\\t\\t\\t\\t\\t\\t\\t\\t<li><a href=\"/site/about/president/now/\">총장동정</a></li>\\r\\n\\t\\t\\t\\t\\t\\t\\t\\t<li><a href=\"/site/about/president/history.htm\">역대총장</a></li>\\r\\n\\t\\t\\t\\t\\t\\t\\t</ul>\\r\\n\\t\\t\\t\\t\\t\\t</li>\\r\\n\\t\\t\\t\\t\\t\\t<li class=\"manager\">\\r\\n\\t\\t\\t\\t\\t\\t\\t<a href=\"/site/about/corporate/manager.htm\">법인</a>\\r\\n\\t\\t\\t\\t\\t\\t\\t<ul class=\"depth-03\">\\r\\n\\t\\t\\t\\t\\t\\t\\t\\t<li><a href=\"/site/about/corporate/manager.htm\">임원소개</a></li>\\r\\n\\t\\t\\t\\t\\t\\t\\t\\t<li><a href=\"/site/about/corporate/meeting.htm\">이사회회의록공개</a></li>\\r\\n\\t\\t\\t\\t\\t\\t\\t\\t<li><a href=\"/site/about/corporate/estimate.htm\">예·결산 공개</a></li>\\r\\n\\t\\t\\t\\t\\t\\t\\t</ul>\\r\\n\\t\\t\\t\\t\\t\\t</li>\\r\\n\\t\\t\\t\\t\\t\\t<li class=\"kmu1010\">\\r\\n\\t\\t\\t\\t\\t\\t\\t<a target=\"_blank\" href=\"http://1010.kookmin.ac.kr\">도전1010</a>\\r\\n\\t\\t\\t\\t\\t\\t\\t<ul class=\"depth-03\">\\r\\n\\t\\t\\t\\t\\t\\t\\t\\t<li><a href=\"http://1010.kookmin.ac.kr/site/intro/summary.htm\" target=\"_blank\">도전1010 소개</a></li>\\r\\n\\t\\t\\t\\t\\t\\t\\t\\t<li><a href=\"http://1010.kookmin.ac.kr/site/project/project_detail/field_promote.htm\" target=\"_blank\">도전1010 추진과제</a></li>\\r\\n\\t\\t\\t\\t\\t\\t\\t\\t<li><a href=\"http://1010.kookmin.ac.kr/site/project_result/kmu1010/result_1st.htm\" target=\"_blank\">도전1010 추진실적</a></li>\\r\\n\\t\\t\\t\\t\\t\\t\\t</ul>\\r\\n\\t\\t\\t\\t\\t\\t</li>\\r\\n\\t\\t\\t\\t\\t\\t<li class=\"fund\">\\r\\n\\t\\t\\t\\t\\t\\t\\t<a target=\"_blank\" href=\"https://fund.kookmin.ac.kr/\">발전기금</a>\\r\\n\\t\\t\\t\\t\\t\\t\\t<ul class=\"depth-03\">\\r\\n\\t\\t\\t\\t\\t\\t\\t\\t<li><a href=\"https://fund.kookmin.ac.kr/participate_info/method\" target=\"_blank\">참여방법</a></li>\\r\\n\\t\\t\\t\\t\\t\\t\\t\\t\\t\\t\\t\\t\\t\\t\\t\\t<li><a href=\"https://fund.kookmin.ac.kr/donation_news/story\" target=\"_blank\">기부스토리</a></li>\\r\\n\\t\\t\\t\\t\\t\\t\\t\\t<li><a href=\"https://fund.kookmin.ac.kr/fund_campaign/ballpoint\" target=\"_blank\">사랑의 볼펜릴레이</a></li>\\r\\n\\t\\t\\t\\t\\t\\t\\t\\t<li><a href=\"https://fund.kookmin.ac.kr/fund_campaign/family\" target=\"_blank\">국민가족 캠페인</a></li>\\r\\n\\t\\t\\t\\t\\t\\t\\t</ul>\\r\\n\\t\\t\\t\\t\\t\\t</li>\\r\\n\\t\\t\\t\\t\\t\\t<li class=\"orgnization\">\\r\\n\\t\\t\\t\\t\\t\\t\\t<a href=\"/site/about/orgnization.htm\">대학조직</a>\\r\\n\\t\\t\\t\\t\\t\\t</li>\\r\\n\\t\\t\\t\\t\\t\\t<li class=\"status\">\\r\\n\\t\\t\\t\\t\\t\\t\\t<a href=\"/site/about/college_status/basic_status.htm\">대학현황</a>\\r\\n\\t\\t\\t\\t\\t\\t\\t<ul class=\"depth-03\">\\r\\n\\t\\t\\t\\t\\t\\t\\t\\t<li><a href=\"/site/about/college_status/basic_status.htm\">기본현황</a></li>\\r\\n\\t\\t\\t\\t\\t\\t\\t\\t<li><a href=\"http://www.academyinfo.go.kr/UIPISA/uipnh/unt/ipsrch/UntUnvAcdtSrchPupExtrn.do?schlId=0000078\" target=\"_blank\">대학정보공시</a></li>\\r\\n\\t\\t\\t\\t\\t\\t\\t\\t<li><a href=\"/site/about/college_status/info_public/public_guide.htm\">정보공개</a></li>\\r\\n\\t\\t\\t\\t\\t\\t\\t\\t<li><a href=\"/site/about/college_status/self_evaluation.htm\">대학자체평가 결과</a></li>\\r\\n\\t\\t\\t\\t\\t\\t\\t\\t<li><a href=\"/site/about/college_status/tuition.htm\">등록금심의위원회</a></li>\\r\\n\\t\\t\\t\\t\\t\\t\\t\\t<li><a href=\"/site/about/college_status/regent_house.htm\">대학평의원회</a></li>\\r\\n\\t\\t\\t\\t\\t\\t\\t</ul>\\r\\n\\t\\t\\t\\t\\t\\t</li>\\r\\n\\t\\t\\t\\t\\t\\t<li class=\"calendar\">\\r\\n\\t\\t\\t\\t\\t\\t\\t<a href=\"/site/about/rule/calendar.htm\">요람/규정집</a>\\r\\n\\t\\t\\t\\t\\t\\t\\t<ul class=\"depth-03\">\\r\\n\\t\\t\\t\\t\\t\\t\\t\\t<li><a href=\"/site/about/rule/calendar.htm\">요람</a></li>\\r\\n\\t\\t\\t\\t\\t\\t\\t\\t<li><a href=\"/site/about/rule/rule.htm\">규정집</a></li>\\r\\n\\t\\t\\t\\t\\t\\t\\t</ul>\\r\\n\\t\\t\\t\\t\\t\\t</li>\\r\\n\\t\\t\\t\\t\\t\\t<li class=\"cyber\">\\r\\n\\t\\t\\t\\t\\t\\t\\t<a href=\"/site/about/cyber/webzine.htm\">사이버 홍보실</a>\\r\\n\\t\\t\\t\\t\\t\\t\\t<ul class=\"depth-03\">\\r\\n\\t\\t\\t\\t\\t\\t\\t\\t<li><a href=\"/site/about/cyber/webzine.htm\">WEBZINE</a></li>\\r\\n\\t\\t\\t\\t\\t\\t\\t\\t<li><a href=\"/site/about/cyber/press/\">언론속의 국민</a></li>\\r\\n\\t\\t\\t\\t\\t\\t\\t\\t<li><a href=\"/site/about/cyber/pr_gallery/\">홍보갤러리</a></li>\\r\\n\\t\\t\\t\\t\\t\\t\\t\\t<li><a href=\"/site/about/cyber/prdata/\">홍보자료실</a></li>\\r\\n\\t\\t\\t\\t\\t\\t\\t\\t\\t\\t\\t\\t\\t\\t\\t\\t<li><a href=\"/site/about/cyber/movie.htm\">홍보영상</a></li>\\r\\n\\t\\t\\t\\t\\t\\t\\t</ul>\\r\\n\\t\\t\\t\\t\\t\\t</li>\\r\\n\\t\\t\\t\\t\\t\\t<li class=\"last campus\">\\r\\n\\t\\t\\t\\t\\t\\t\\t<a href=\"/site/about/guide/campus.htm\">캠퍼스안내</a>\\r\\n\\t\\t\\t\\t\\t\\t\\t<ul class=\"depth-03\">\\r\\n\\t\\t\\t\\t\\t\\t\\t\\t<li><a href=\"/site/about/guide/campus.htm\">북악캠퍼스 투어</a></li>\\r\\n\\t\\t\\t\\t\\t\\t\\t\\t<li><a href=\"http://admission.kookmin.ac.kr/solution/campustour.php\" target=\"_blank\">캠퍼스투어 신청하기</a></li>\\r\\n\\t\\t\\t\\t\\t\\t\\t\\t<li><a href=\"/site/about/guide/convenience/computer.htm\">학교편의시설 안내</a></li>\\r\\n\\t\\t\\t\\t\\t\\t\\t\\t<li><a href=\"/site/about/guide/map/trans.htm\">찾아오는 길</a></li>\\r\\n\\t\\t\\t\\t\\t\\t\\t\\t<li><a href=\"/site/about/guide/school_bus/gireum.htm\">통학버스</a></li>\\r\\n\\t\\t\\t\\t\\t\\t\\t\\t<li><a href=\"/site/about/guide/phone.htm\">전화번호 안내</a></li>\\r\\n\\t\\t\\t\\t\\t\\t\\t\\t\\t\\t\\t\\t\\t\\t\\t</ul>\\r\\n\\t\\t\\t\\t\\t\\t</li>\\r\\n\\t\\t\\t\\t\\t</ul>\\r\\n\\t\\t\\t\\t\\t<p><button><span>학교소개 메뉴 닫기</span></button></p>\\r\\n\\t\\t\\t\\t</div>\\r\\n\\t\\t\\t</li>\\r\\n\\t\\t\\t<li class=\"entrance\"><a href=\"/site/entrance/submain.htm\"><img src=\"/images/common/ngnb_entrance_off.gif\" alt=\"입학안내\" /></a>\\r\\n\\t\\t\\t\\t<div class=\"depth-01\">\\r\\n\\t\\t\\t\\t\\t<div class=\"bar\"><a href=\"http://admission.kookmin.ac.kr/\" target=\"_blank\">전체 메뉴 요약 보기</a></div>\\r\\n\\t\\t\\t\\t\\t<ul class=\"depth-02\">\\r\\n\\t\\t\\t\\t\\t\\t<li>\\r\\n\\t\\t\\t\\t\\t\\t\\t<a href=\"http://admission.kookmin.ac.kr/\" target=\"_blank\">대학</a>\\r\\n\\t\\t\\t\\t\\t\\t\\t<ul class=\"depth-03\">\\r\\n\\t\\t\\t\\t\\t\\t\\t\\t<li><a href=\"http://admission.kookmin.ac.kr/helper/notice.php\" target=\"_blank\">대학입학공지</a></li>\\r\\n\\t\\t\\t\\t\\t\\t\\t\\t<li><a href=\"http://admission.kookmin.ac.kr/onschedule/\" target=\"_blank\">정시모집</a></li>\\r\\n\\t\\t\\t\\t\\t\\t\\t\\t<li><a href=\"http://admission.kookmin.ac.kr/nonschedule/\" target=\"_blank\">수시모집</a></li>\\r\\n\\t\\t\\t\\t\\t\\t\\t\\t<li><a href=\"http://admission.kookmin.ac.kr/foreigner/\" target=\"_blank\">재외국민</a></li>\\r\\n\\t\\t\\t\\t\\t\\t\\t\\t<li><a href=\"http://admission.kookmin.ac.kr/transfer/\" target=\"_blank\">편입학전형</a></li>\\r\\n\\t\\t\\t\\t\\t\\t\\t\\t<li><a href=\"http://admission.kookmin.ac.kr/admissionOfficer/info1.php\" target=\"_blank\">학생부종합전형</a></li>\\r\\n\\t\\t\\t\\t\\t\\t\\t\\t<li><a href=\"http://iat.kookmin.ac.kr\" target=\"_blank\">International Students </a></li>\\r\\n\\t\\t\\t\\t\\t\\t\\t\\t<li><a href=\"http://admission.kookmin.ac.kr/helper/notice.php\" target=\"_blank\">입학도우미</a></li>\\r\\n\\t\\t\\t\\t\\t\\t\\t\\t\\t\\t\\t\\t\\t\\t\\t</ul>\\r\\n\\t\\t\\t\\t\\t\\t</li>\\r\\n\\t\\t\\t\\t\\t\\t<li class=\"last\">\\r\\n\\t\\t\\t\\t\\t\\t\\t<a href=\"/site/entrance/graduate/notice/\">대학원</a>\\r\\n\\t\\t\\t\\t\\t\\t\\t<ul class=\"depth-03\">\\r\\n\\t\\t\\t\\t\\t\\t\\t\\t<li><a href=\"/site/entrance/graduate/notice/\">대학원입학공지</a></li>\\r\\n\\t\\t\\t\\t\\t\\t\\t\\t<li><a href=\"https://gds.kookmin.ac.kr/admission/application\" target=\"_blank\">일반대학원</a></li>\\r\\n\\t\\t\\t\\t\\t\\t\\t\\t<li><a href=\"http://gsaek.kookmin.ac.kr/admissions/application.htm\" target=\"_blank\">자동차공학전문대학원</a></li>\\r\\n\\t\\t\\t\\t\\t\\t\\t\\t<li><a href=\"https://ted.kookmin.ac.kr/ted_admission.php\" target=\"_blank\">테크노디자인전문대학원</a></li>\\r\\n\\t\\t\\t\\t\\t\\t\\t\\t<li><a href=\"http://bit.kookmin.ac.kr/admission/ad_03.php\" target=\"_blank\">비즈니스IT전문대학원</a></li>\\r\\n\\t\\t\\t\\t\\t\\t\\t\\t<li><a href=\"http://edu.kookmin.ac.kr/admission/collect\" target=\"_blank\">교육대학원</a></li>\\r\\n\\t\\t\\t\\t\\t\\t\\t\\t<li><a href=\"http://mba.kookmin.ac.kr/biz.on?says=M1385379205938\" target=\"_blank\">경영대학원</a></li>\\r\\n\\t\\t\\t\\t\\t\\t\\t\\t<li><a href=\"http://gspa.kookmin.ac.kr/masterscourse/admission\" target=\"_blank\">행정대학원</a></li>\\r\\n\\t\\t\\t\\t\\t\\t\\t\\t\\t\\t\\t\\t\\t\\t\\t\\t<li><a href=\"https://gsaik.kookmin.ac.kr/admission/application\" target=\"_blank\">자동차산업대학원</a></li>\\r\\n\\t\\t\\t\\t\\t\\t\\t\\t<li><a href=\"http://gsd.kookmin.ac.kr/site/exam/admission.htm\" target=\"_blank\">디자인대학원</a></li>\\r\\n\\t\\t\\t\\t\\t\\t\\t\\t<li><a href=\"http://gspl.kookmin.ac.kr/admission/recruitment\" target=\"_blank\">정치대학원</a></li>\\r\\n\\t\\t\\t\\t\\t\\t\\t\\t<li><a href=\"https://sports.kookmin.ac.kr/admission/application\" target=\"_blank\">스포츠산업대학원</a></li>\\r\\n\\t\\t\\t\\t\\t\\t\\t\\t<!--<li><a href=\"/site/entrance/graduate/mun.htm\">문예창작대학원</a></li>-->\\r\\n\\t\\t\\t\\t\\t\\t\\t\\t<li><a href=\"http://ifl.kookmin.ac.kr/site/entrance/invitation2.htm\" target=\"_blank\">법무대학원</a></li>\\r\\n\\t\\t\\t\\t\\t\\t\\t\\t<li><a href=\"http://totalart.kookmin.ac.kr/site/entrance_info/registration.htm\" target=\"_blank\">종합예술대학원</a></li>\\r\\n\\t\\t\\t\\t\\t\\t\\t\\t<li><a href=\"http://gsge.kookmin.ac.kr/admission/application\" target=\"_blank\">글로벌 창업벤처대학원</a></li>\\r\\n\\t\\t\\t\\t\\t\\t\\t\\t<li><a href=\"/site/entrance/graduate/consult.htm\">입학상담</a></li>\\r\\n\\t\\t\\t\\t\\t\\t\\t</ul>\\r\\n\\t\\t\\t\\t\\t\\t</li>\\r\\n\\t\\t\\t\\t\\t</ul>\\r\\n\\t\\t\\t\\t\\t<p><button><span>입학안내 메뉴닫기</span></button></p>\\r\\n\\t\\t\\t\\t</div>\\r\\n\\t\\t\\t</li>\\r\\n\\t\\t\\t<li class=\"gap university\"><a href=\"/site/university/submain.htm\"><img src=\"/images/common/ngnb_university_off.gif\" alt=\"대학/대학원\" /></a>\\r\\n\\t\\t\\t\\t<div class=\"depth-01\">\\r\\n\\t\\t\\t\\t\\t<div class=\"bar\"><a href=\"/site/university/submain.htm\">전체 메뉴 요약 보기</a></div>\\r\\n\\t\\t\\t\\t\\t<ul class=\"depth-02\">\\r\\n\\t\\t\\t\\t\\t\\t<li><a href=\"/site/university/submain.htm\">대학</a>\\r\\n\\t\\t\\t\\t\\t\\t\\t<ul class=\"depth-03\">\\r\\n\\t\\t\\t\\t\\t\\t\\t\\t<li><a href=\"/site/university/university/liberal/home.htm\">문과대학</a></li>\\r\\n\\t\\t\\t\\t\\t\\t\\t\\t<li><a href=\"/site/university/university/society/home.htm\">사회과학대학</a></li>\\r\\n\\t\\t\\t\\t\\t\\t\\t\\t<li><a href=\"/site/university/university/law/home.htm\">법과대학</a></li>\\r\\n\\t\\t\\t\\t\\t\\t\\t\\t<li><a href=\"/site/university/university/kyungsang/home.htm\">경상대학</a></li>\\r\\n\\t\\t\\t\\t\\t\\t\\t\\t<li><a href=\"/site/university/university/eng/home.htm\">공과대학</a></li>\\r\\n\\t\\t\\t\\t\\t\\t\\t\\t<li><a href=\"/site/university/university/design/home.htm\">조형대학</a></li>\\r\\n\\t\\t\\t\\t\\t\\t\\t\\t<li><a href=\"/site/university/university/forest/home.htm\">삼림과학대학</a></li>\\r\\n\\t\\t\\t\\t\\t\\t\\t\\t<li><a href=\"/site/university/university/science/home.htm\">자연과학대학</a></li>\\r\\n\\t\\t\\t\\t\\t\\t\\t\\t<li><a href=\"/site/university/university/art/home.htm\">예술대학</a></li>\\r\\n\\t\\t\\t\\t\\t\\t\\t\\t<li><a href=\"/site/university/university/physical/home.htm\">체육대학</a></li>\\r\\n\\t\\t\\t\\t\\t\\t\\t\\t<li><a href=\"/site/university/university/management/home.htm\">경영대학</a></li>\\r\\n\\t\\t\\t\\t\\t\\t\\t\\t<li><a href=\"/site/university/university/eit/home.htm\">전자정보통신대학</a></li>\\r\\n\\t\\t\\t\\t\\t\\t\\t\\t<li><a href=\"/site/university/university/archi_college.htm\">건축대학</a></li>\\r\\n\\t\\t\\t\\t\\t\\t\\t\\t<li><a href=\"/site/university/university/cartech/home.htm\">자동차융합대학</a></li>\\r\\n\\t\\t\\t\\t\\t\\t\\t\\t\\t\\t\\t\\t\\t\\t\\t\\t<li><a href=\"/site/university/university/gyo.htm\">교양대학</a></li>\\r\\n\\t\\t\\t\\t\\t\\t\\t\\t<li><a href=\"/site/university/university/gyojik.htm\">교직과정부</a></li>\\r\\n\\t\\t\\t\\t\\t\\t\\t</ul>\\r\\n\\t\\t\\t\\t\\t\\t</li>\\r\\n\\t\\t\\t\\t\\t\\t<li><a href=\"/site/university/graduate.htm\">일반대학원</a></li>\\r\\n\\t\\t\\t\\t\\t\\t<li><a href=\"/site/university/pro/car_1.htm\">전문대학원</a>\\r\\n\\t\\t\\t\\t\\t\\t\\t<ul class=\"depth-03\">\\r\\n\\t\\t\\t\\t\\t\\t\\t\\t<li><a href=\"/site/university/pro/car_1.htm\">자동차공학전문대학원</a></li>\\r\\n\\t\\t\\t\\t\\t\\t\\t\\t<li><a href=\"/site/university/pro/design_1.htm\">테크노디자인전문대학원</a></li>\\r\\n\\t\\t\\t\\t\\t\\t\\t\\t<li><a href=\"/site/university/pro/bizit.htm\">비즈니스IT전문대학원</a></li>\\r\\n\\t\\t\\t\\t\\t\\t\\t</ul>\\r\\n\\t\\t\\t\\t\\t\\t</li>\\r\\n\\t\\t\\t\\t\\t\\t<li class=\"last\"><a href=\"/site/university/special/edu.htm\">특수대학원</a>\\r\\n\\t\\t\\t\\t\\t\\t\\t<ul class=\"depth-03\">\\r\\n\\t\\t\\t\\t\\t\\t\\t\\t<li><a href=\"/site/university/special/edu.htm\">교육대학원</a></li>\\r\\n\\t\\t\\t\\t\\t\\t\\t\\t<li><a href=\"/site/university/special/gba.htm\">경영대학원</a></li>\\r\\n\\t\\t\\t\\t\\t\\t\\t\\t<li><a href=\"/site/university/special/gspa.htm\">행정대학원</a></li>\\r\\n\\t\\t\\t\\t\\t\\t\\t\\t<li><a href=\"/site/university/special/gsit.htm\">자동차산업대학원</a></li>\\r\\n\\t\\t\\t\\t\\t\\t\\t\\t<li><a href=\"/site/university/special/zeroone.htm\">디자인대학원</a></li>\\r\\n\\t\\t\\t\\t\\t\\t\\t\\t<li><a href=\"/site/university/special/gspl.htm\">정치대학원</a></li>\\r\\n\\t\\t\\t\\t\\t\\t\\t\\t<li><a href=\"/site/university/special/sports.htm\">스포츠산업대학원</a></li>\\r\\n\\t\\t\\t\\t\\t\\t\\t\\t<li><a href=\"/site/university/special/bakak.htm\">문예창작대학원</a></li>\\r\\n\\t\\t\\t\\t\\t\\t\\t\\t<li><a href=\"/site/university/special/ifl.htm\">법무대학원</a></li>\\r\\n\\t\\t\\t\\t\\t\\t\\t\\t<li><a href=\"/site/university/special/art.htm\">종합예술대학원</a></li>\\r\\n\\t\\t\\t\\t\\t\\t\\t\\t<li><a href=\"/site/university/special/global.htm\">글로벌 창업벤처대학원</a></li>\\r\\n\\t\\t\\t\\t\\t\\t\\t</ul>\\r\\n\\t\\t\\t\\t\\t\\t</li>\\r\\n\\t\\t\\t\\t\\t</ul>\\r\\n\\t\\t\\t\\t\\t<p><button><span>대학/대학원 메뉴닫기</span></button></p>\\r\\n\\t\\t\\t\\t</div>\\r\\n\\t\\t\\t</li>\\r\\n\\t\\t\\t<li class=\"resource\"><a href=\"/site/resource/service/view/internet.htm\"><img src=\"/images/common/ngnb_resource_off.gif\" alt=\"학사/행정\" /></a>\\r\\n\\t\\t\\t\\t<div class=\"depth-01\">\\r\\n\\t\\t\\t\\t\\t<div  class=\"bar\">&nbsp;</div>\\r\\n\\t\\t\\t\\t\\t<ul class=\"depth-02\">\\r\\n\\t\\t\\t\\t\\t\\t<li><a href=\"/site/resource/service/view/internet.htm\">학사정보서비스</a>\\r\\n\\t\\t\\t\\t\\t\\t\\t<ul class=\"depth-03\">\\r\\n\\t\\t\\t\\t\\t\\t\\t\\t\\t\\t\\t\\t\\t\\t\\t\\t<li><a href=\"http://ktis.kookmin.ac.kr\" target=\"_blank\">대학원학적정보</a></li>\\r\\n\\t\\t\\t\\t\\t\\t\\t\\t\\t\\t\\t\\t\\t\\t\\t\\t<li><a href=\"/site/resource/service/view/internet.htm\">증명서조회/신청</a></li>\\r\\n\\t\\t\\t\\t\\t\\t\\t</ul>\\r\\n\\t\\t\\t\\t\\t\\t</li>\\r\\n\\t\\t\\t\\t\\t\\t<li class=\"depth-guide\"><a href=\"/site/resource/guide/cal.htm\">학사안내</a>\\r\\n\\t\\t\\t\\t\\t\\t\\t<ul class=\"depth-03\">\\r\\n\\t\\t\\t\\t\\t\\t\\t\\t<li><a href=\"/site/resource/guide/cal.htm\">학사일정</a></li>\\r\\n\\t\\t\\t\\t\\t\\t\\t\\t<li><a href=\"/site/resource/guide/major/major/1st.htm\">전공/교과/교직</a></li>\\r\\n\\t\\t\\t\\t\\t\\t\\t\\t<li><a href=\"/site/resource/guide/request/request.htm\">수강신청</a></li>\\r\\n\\t\\t\\t\\t\\t\\t\\t\\t<li><a href=\"/site/resource/guide/exchange/intro.htm\">국내대학 학점교환</a></li>\\r\\n\\t\\t\\t\\t\\t\\t\\t\\t<li><a href=\"/site/resource/guide/point/point/point.htm\">성적/계절학기/현장실습</a></li>\\r\\n\\t\\t\\t\\t\\t\\t\\t\\t<li><a href=\"/site/resource/guide/cultural.htm\">문화예술교육사</a></li>\\r\\n\\t\\t\\t\\t\\t\\t\\t\\t<li><a href=\"/site/resource/guide/regist/regist/payment.htm\">등록/학적변동</a></li>\\r\\n\\t\\t\\t\\t\\t\\t\\t\\t<li><a href=\"/site/resource/guide/graduate/gradu_requirements/normal.htm\">졸업</a></li>\\r\\n\\t\\t\\t\\t\\t\\t\\t\\t<li><a href=\"/site/resource/guide/system/schalarship.htm\">장학</a></li>\\r\\n\\t\\t\\t\\t\\t\\t\\t\\t<li><a href=\"/site/resource/guide/job_01/job_info.htm\">취업</a></li>\\r\\n\\t\\t\\t\\t\\t\\t\\t\\t<li><a href=\"/site/resource/guide/army/army_info.htm\">병무/예비군</a></li>\\r\\n\\t\\t\\t\\t\\t\\t\\t</ul>\\r\\n\\t\\t\\t\\t\\t\\t</li>\\r\\n\\t\\t\\t\\t\\t\\t<li><a href=\"/site/resource/board/academic/\">학사게시판</a>\\r\\n\\t\\t\\t\\t\\t\\t\\t<ul class=\"depth-03\">\\r\\n\\t\\t\\t\\t\\t\\t\\t\\t<li><a href=\"/site/resource/board/academic/\">학사공지</a></li>\\r\\n\\t\\t\\t\\t\\t\\t\\t\\t<li><a href=\"/site/resource/board/special_lecture/\">특강공지</a></li>\\r\\n\\t\\t\\t\\t\\t\\t\\t\\t<li><a href=\"/site/resource/board/scholarship/\">장학공지</a></li>\\r\\n\\t\\t\\t\\t\\t\\t\\t</ul>\\r\\n\\t\\t\\t\\t\\t\\t</li>\\r\\n\\t\\t\\t\\t\\t\\t<li><a href=\"/site/resource/consult/faq/\">학사상담</a>\\r\\n\\t\\t\\t\\t\\t\\t\\t<ul class=\"depth-03\">\\r\\n\\t\\t\\t\\t\\t\\t\\t\\t<li><a href=\"/site/resource/consult/faq/\">학사FAQ</a></li>\\r\\n\\t\\t\\t\\t\\t\\t\\t\\t<li><a href=\"/site/resource/consult/qna/\">학사Q&amp;A</a></li>\\r\\n\\t\\t\\t\\t\\t\\t\\t</ul>\\r\\n\\t\\t\\t\\t\\t\\t</li>\\r\\n\\t\\t\\t\\t\\t\\t<li><a href=\"/site/resource/life/card/new.htm\">대학생활</a>\\r\\n\\t\\t\\t\\t\\t\\t\\t<ul class=\"depth-03\">\\r\\n\\t\\t\\t\\t\\t\\t\\t\\t<li><a href=\"http://iat.kookmin.ac.kr/\" target=\"_blank\">국제교류</a></li>\\r\\n\\t\\t\\t\\t\\t\\t\\t\\t<li><a href=\"http://iie.kookmin.ac.kr/\" target=\"_blank\">국제교육원</a></li>\\r\\n\\t\\t\\t\\t\\t\\t\\t\\t<li><a href=\"http://dormitory.kookmin.ac.kr/\" target=\"_blank\">생활관(기숙사)</a></li>\\r\\n\\t\\t\\t\\t\\t\\t\\t\\t<li><a href=\"/site/resource/life/card/new.htm\">학생증 안내</a></li>\\r\\n\\t\\t\\t\\t\\t\\t\\t\\t<li><a href=\"/site/resource/life/insurance.htm\">학생보험</a></li>\\r\\n\\t\\t\\t\\t\\t\\t\\t\\t<li><a href=\"/site/resource/life/student/all.htm\">학생자치기구</a></li>\\r\\n\\t\\t\\t\\t\\t\\t\\t\\t<li><a href=\"http://press.kookmin.ac.kr/ \" target=\"_blank\">국민대신문</a></li>\\r\\n\\t\\t\\t\\t\\t\\t\\t\\t<li><a href=\"/site/resource/life/group.htm\">학생동아리</a></li>\\r\\n\\t\\t\\t\\t\\t\\t\\t\\t<li><a href=\"http://sangdam.kookmin.ac.kr/\" target=\"_blank\">학생생활상담</a></li>\\r\\n\\t\\t\\t\\t\\t\\t\\t\\t<li><a href=\"http://omb.kookmin.ac.kr/\" target=\"_blank\">옴부즈오피스</a></li>\\r\\n\\t\\t\\t\\t\\t\\t\\t\\t<li><a href=\"http://kist.kookmin.ac.kr/\" target=\"_blank\">KMUNet신청</a></li>\\r\\n\\t\\t\\t\\t\\t\\t\\t\\t<li><a href=\"/site/resource/life/space.htm\">공간활용시스템</a></li>\\r\\n\\t\\t\\t\\t\\t\\t\\t</ul>\\r\\n\\t\\t\\t\\t\\t\\t</li>\\r\\n\\t\\t\\t\\t\\t\\t<li><a href=\"/site/resource/faculty/administration/\">교직원 행정정보</a>\\r\\n\\t\\t\\t\\t\\t\\t\\t<ul class=\"depth-03\">\\r\\n\\t\\t\\t\\t\\t\\t\\t\\t<li><a href=\"/site/resource/faculty/administration/\">행정공지</a></li>\\r\\n\\t\\t\\t\\t\\t\\t\\t\\t\\t\\t\\t\\t\\t\\t\\t\\t<li><a href=\"/site/resource/faculty/welfare/vacation.htm\">복리후생제도 안내</a></li>\\r\\n\\t\\t\\t\\t\\t\\t\\t\\t<li><a href=\"/site/resource/faculty/group/ball.htm\">동호회</a></li>\\r\\n\\t\\t\\t\\t\\t\\t\\t\\t<li><a href=\"http://cafe.naver.com/kmulaborunion\" target=\"_blank\">노동조합</a></li>\\r\\n\\t\\t\\t\\t\\t\\t\\t</ul>\\r\\n\\t\\t\\t\\t\\t\\t</li>\\r\\n\\t\\t\\t\\t\\t\\t<li><a href=\"http://www.kmua.or.kr/\" target=\"_blank\">동문</a>\\r\\n\\t\\t\\t\\t\\t\\t\\t<ul class=\"depth-03\">\\r\\n\\t\\t\\t\\t\\t\\t\\t\\t<li><a href=\"http://www.kmua.or.kr/\" target=\"_blank\">총동문회</a></li>\\r\\n\\t\\t\\t\\t\\t\\t\\t\\t<!--<li><a href=\"/site/resource/alumnus/request.htm\">증명서조회/신청</a></li>-->\\r\\n\\t\\t\\t\\t\\t\\t\\t</ul>\\r\\n\\t\\t\\t\\t\\t\\t</li>\\r\\n\\t\\t\\t\\t\\t\\t<li class=\"depth-resource\"><a href=\"/site/resource/security/privacy.htm\">개인정보처리방침</a>\\r\\n\\t\\t\\t\\t\\t\\t\\t<ul class=\"depth-03\">\\r\\n\\t\\t\\t\\t\\t\\t\\t\\t<li><a href=\"/site/resource/security/privacy.htm\">개인정보처리방침</a></li>\\r\\n\\t\\t\\t\\t\\t\\t\\t\\t<li><a href=\"/site/security/personal/\">개인정보제공 공시</a></li>\\r\\n\\t\\t\\t\\t\\t\\t\\t\\t<li><a href=\"/site/resource/security/imageInfo.htm\">영상정보처리기기 현황 공개</a></li>\\r\\n\\t\\t\\t\\t\\t\\t\\t\\t<!--<li><a href=\"/site/resource/security/e_mail.htm\">이메일수집거부</a></li>-->\\r\\n\\t\\t\\t\\t\\t\\t\\t\\t<li><a href=\"/site/resource/security/leak.htm\">개인정보유출&middot;침해 사고대응</a></li>\\r\\n\\t\\t\\t\\t\\t\\t\\t\\t<li><a href=\"/site/resource/security/security.htm\">정보통신보안지침</a></li>\\r\\n\\t\\t\\t\\t\\t\\t\\t</ul>\\r\\n\\t\\t\\t\\t\\t\\t</li>\\r\\n\\t\\t\\t\\t\\t\\t<li class=\"last\"><a href=\"/site/resource/management/period.htm\">게시물 관리</a>\\r\\n\\t\\t\\t\\t\\t\\t\\t<ul class=\"depth-03\">\\r\\n\\t\\t\\t\\t\\t\\t\\t\\t<li><a href=\"/site/resource/management/period.htm\">게시물 보존기한</a></li>\\r\\n\\t\\t\\t\\t\\t\\t\\t</ul>\\r\\n\\t\\t\\t\\t\\t\\t</li>\\r\\n\\t\\t\\t\\t\\t</ul>\\r\\n\\t\\t\\t\\t\\t<p><button><span>학사/행정 메뉴닫기</span></button></p>\\r\\n\\t\\t\\t\\t</div>\\r\\n\\t\\t\\t</li>\\r\\n\\t\\t\\t<li class=\"research\"><a href=\"http://research.kookmin.ac.kr/\" target=\"_blank\"><img src=\"/images/common/ngnb_research_off.gif\" alt=\"산학/연구\" /></a>\\r\\n\\t\\t\\t\\t<div class=\"depth-01\">\\r\\n\\t\\t\\t\\t\\t<div class=\"bar\">&nbsp;</div>\\r\\n\\t\\t\\t\\t\\t<ul class=\"depth-02\">\\r\\n\\t\\t\\t\\t\\t\\t<li><a href=\"http://research.kookmin.ac.kr/site/intro/greeting.htm\" target=\"_blank\">산학협력단소개</a>\\r\\n\\t\\t\\t\\t\\t\\t\\t<ul class=\"depth-03\">\\r\\n\\t\\t\\t\\t\\t\\t\\t\\t<li><a href=\"http://research.kookmin.ac.kr/site/intro/greeting.htm\" target=\"_blank\">인사말</a></li>\\r\\n\\t\\t\\t\\t\\t\\t\\t\\t<li><a href=\"http://research.kookmin.ac.kr/site/intro/history.htm\" target=\"_blank\">연혁</a></li>\\r\\n\\t\\t\\t\\t\\t\\t\\t\\t<li><a href=\"http://research.kookmin.ac.kr/site/intro/org.htm\" target=\"_blank\">조직도</a></li>\\r\\n\\t\\t\\t\\t\\t\\t\\t\\t<li><a href=\"http://research.kookmin.ac.kr/site/intro/workchart/cooperation.htm\" target=\"_blank\">업무분장</a></li>\\r\\n\\t\\t\\t\\t\\t\\t\\t\\t<li><a href=\"http://research.kookmin.ac.kr/site/intro/present.htm\" target=\"_blank\">산학협력체결</a></li>\\r\\n\\t\\t\\t\\t\\t\\t\\t\\t<li><a href=\"http://research.kookmin.ac.kr/site/intro/estimate.htm\" target=\"_blank\">예결산 공고</a></li>\\r\\n\\t\\t\\t\\t\\t\\t\\t\\t<li><a href=\"http://research.kookmin.ac.kr/site/intro/location.htm\" target=\"_blank\">찾아오시는 길</a></li>\\r\\n\\t\\t\\t\\t\\t\\t\\t\\t<li><a href=\"http://linc.kookmin.ac.kr\" target=\"_blank\">산학협력선도대학<br />(LINC)육성사업단</a></li>\\r\\n\\t\\t\\t\\t\\t\\t\\t\\t\\t\\t\\t\\t\\t\\t\\t</ul>\\r\\n\\t\\t\\t\\t\\t\\t</li>\\r\\n\\t\\t\\t\\t\\t\\t<li><a href=\"http://research.kookmin.ac.kr/site/research/expenses.htm\" target=\"_blank\">연구지원</a>\\r\\n\\t\\t\\t\\t\\t\\t\\t<ul class=\"depth-03\">\\r\\n\\t\\t\\t\\t\\t\\t\\t\\t<li><a href=\"http://research.kookmin.ac.kr/site/research/expenses.htm\" target=\"_blank\">연구비흐름도</a></li>\\r\\n\\t\\t\\t\\t\\t\\t\\t\\t<li><a href=\"http://research.kookmin.ac.kr/site/research/ntis.htm\" target=\"_blank\">신규사업공지(NTIS)</a></li>\\r\\n\\t\\t\\t\\t\\t\\t\\t\\t<li><a href=\"http://research.kookmin.ac.kr/site/research/open_application.htm\" target=\"_blank\">기타신규사업공지</a></li>\\r\\n\\t\\t\\t\\t\\t\\t\\t\\t<li><a href=\"http://research.kookmin.ac.kr/site/research/guide.htm\" target=\"_blank\">연구과제수행도우미</a></li>\\r\\n\\t\\t\\t\\t\\t\\t\\t\\t<li><a href=\"http://research.kookmin.ac.kr/site/research/resource.htm\" target=\"_blank\">연구/공동활용 장비</a></li>\\r\\n\\t\\t\\t\\t\\t\\t\\t\\t<li><a href=\"http://research.kookmin.ac.kr/site/research/support.htm\" target=\"_blank\">연구소 및 연구센터</a></li>\\r\\n\\t\\t\\t\\t\\t\\t\\t</ul>\\r\\n\\t\\t\\t\\t\\t\\t</li>\\r\\n\\t\\t\\t\\t\\t\\t<li><a href=\"http://research.kookmin.ac.kr/site/license/patent.htm\" target=\"_blank\">특허/기술지원</a>\\r\\n\\t\\t\\t\\t\\t\\t\\t<ul class=\"depth-03\">\\r\\n\\t\\t\\t\\t\\t\\t\\t\\t<li><a href=\"http://research.kookmin.ac.kr/site/license/patent.htm\" target=\"_blank\">특허</a></li>\\r\\n\\t\\t\\t\\t\\t\\t\\t\\t<li><a href=\"http://research.kookmin.ac.kr/site/license/possession_technology.htm\" target=\"_blank\">NTB등재기술정보</a></li>\\r\\n\\t\\t\\t\\t\\t\\t\\t\\t<li><a href=\"http://research.kookmin.ac.kr/site/license/technology_transfer.htm\" target=\"_blank\">기술이전</a></li>\\r\\n\\t\\t\\t\\t\\t\\t\\t\\t\\t\\t\\t\\t\\t\\t\\t</ul>\\r\\n\\t\\t\\t\\t\\t\\t</li>\\r\\n\\t\\t\\t\\t\\t\\t<li><a href=\"http://research.kookmin.ac.kr/site/enterprise/ent_notice.htm\" target=\"_blank\">창업지원</a>\\r\\n\\t\\t\\t\\t\\t\\t\\t<ul class=\"depth-03\">\\r\\n\\t\\t\\t\\t\\t\\t\\t\\t<li><a href=\"http://research.kookmin.ac.kr/site/enterprise/ent_notice.htm\" target=\"_blank\">창업정보알림</a></li>\\r\\n\\t\\t\\t\\t\\t\\t\\t\\t<li><a href=\"http://research.kookmin.ac.kr/site/enterprise/process.htm\" target=\"_blank\">센터소개</a></li>\\r\\n\\t\\t\\t\\t\\t\\t\\t\\t<li><a href=\"http://research.kookmin.ac.kr/site/enterprise/living_in.htm\" target=\"_blank\">입주신청안내</a></li>\\r\\n\\t\\t\\t\\t\\t\\t\\t\\t<li><a href=\"http://research.kookmin.ac.kr/site/enterprise/support.htm\" target=\"_blank\">입주기업지원 안내</a></li>\\r\\n\\t\\t\\t\\t\\t\\t\\t\\t<li><a href=\"http://research.kookmin.ac.kr/site/enterprise/foundation_info.htm\" target=\"_blank\">창업절차안내</a></li>\\r\\n\\t\\t\\t\\t\\t\\t\\t\\t\\t\\t\\t\\t\\t\\t\\t</ul>\\r\\n\\t\\t\\t\\t\\t\\t</li>\\r\\n\\t\\t\\t\\t\\t\\t<li><a href=\"http://research.kookmin.ac.kr/site/bbs/notice.htm\" target=\"_blank\">알림·자료실</a>\\r\\n\\t\\t\\t\\t\\t\\t\\t<ul class=\"depth-03\">\\r\\n\\t\\t\\t\\t\\t\\t\\t\\t<li><a href=\"http://research.kookmin.ac.kr/site/bbs/notice.htm\" target=\"_blank\">공지사항</a></li>\\r\\n\\t\\t\\t\\t\\t\\t\\t\\t<li><a href=\"http://research.kookmin.ac.kr/site/bbs/news.htm\" target=\"_blank\">뉴스/보도자료</a></li>\\r\\n\\t\\t\\t\\t\\t\\t\\t\\t\\t\\t\\t\\t\\t\\t\\t\\t\\t\\t\\t\\t\\t\\t\\t</ul>\\r\\n\\t\\t\\t\\t\\t\\t</li>\\r\\n\\t\\t\\t\\t\\t\\t<li><a href=\"http://research.kookmin.ac.kr/site/reference/qna.htm\" target=\"_blank\">FAQ</a>\\r\\n\\t\\t\\t\\t\\t\\t\\t<ul class=\"depth-03\">\\r\\n\\t\\t\\t\\t\\t\\t\\t\\t<li><a href=\"http://research.kookmin.ac.kr/site/reference/qna.htm\" target=\"_blank\">Q&amp;A</a></li>\\r\\n\\t\\t\\t\\t\\t\\t\\t\\t<li><a href=\"http://research.kookmin.ac.kr/site/reference/faq.htm\" target=\"_blank\">FAQ</a></li>\\r\\n\\t\\t\\t\\t\\t\\t\\t\\t<li><a href=\"http://research.kookmin.ac.kr/site/reference/omb.htm\" target=\"_blank\">옴부즈맨</a></li>\\r\\n\\t\\t\\t\\t\\t\\t\\t</ul>\\r\\n\\t\\t\\t\\t\\t\\t</li>\\r\\n\\t\\t\\t\\t\\t\\t<li class=\"last\"><a href=\"http://research.kookmin.ac.kr/site/legal/legal.htm\" target=\"_blank\">규정모음</a>\\r\\n\\t\\t\\t\\t\\t\\t\\t<ul class=\"depth-03\">\\r\\n\\t\\t\\t\\t\\t\\t\\t\\t<li><a href=\"http://research.kookmin.ac.kr/site/legal/legal.htm\" target=\"_blank\">정관 및 규정</a></li>\\r\\n\\t\\t\\t\\t\\t\\t\\t\\t<li><a href=\"http://research.kookmin.ac.kr/site/legal/form.htm\" target=\"_blank\">관련지침</a></li>\\r\\n\\t\\t\\t\\t\\t\\t\\t\\t<li><a href=\"http://research.kookmin.ac.kr/site/legal/manual.htm\" target=\"_blank\">매뉴얼</a></li>\\r\\n\\t\\t\\t\\t\\t\\t\\t</ul>\\r\\n\\t\\t\\t\\t\\t\\t</li>\\r\\n\\t\\t\\t\\t\\t</ul>\\r\\n\\t\\t\\t\\t\\t<p><button><span>산학/연구 메뉴 닫기</span></button></p>\\r\\n\\t\\t\\t\\t</div>\\r\\n\\t\\t\\t</li>\\r\\n\\t\\t\\t<li class=\"last ecampus\"><a href=\"#none\"><img src=\"/images/common/ngnb_ecampus_off.gif\" alt=\"열린캠퍼스\" /></a>\\r\\n\\t\\t\\t\\t<div class=\"depth-01\">\\r\\n\\t\\t\\t\\t\\t<div class=\"bar\">&nbsp;</div>\\r\\n\\t\\t\\t\\t\\t<ul class=\"depth-02\">\\r\\n\\t\\t\\t\\t\\t\\t<li><a href=\"/site/ecampus/notice/all/\">통합공지</a>\\r\\n\\t\\t\\t\\t\\t\\t\\t<ul class=\"depth-03\">\\r\\n\\t\\t\\t\\t\\t\\t\\t\\t\\t\\t\\t\\t\\t\\t\\t\\t<li><a href=\"/site/ecampus/notice/all/\">전체공지</a></li>\\r\\n\\t\\t\\t\\t\\t\\t\\t\\t<li><a href=\"http://admission.kookmin.ac.kr/helper/notice.php\" target=\"_blank\">대학입학공지</a></li>\\r\\n\\t\\t\\t\\t\\t\\t\\t\\t<li><a href=\"/site/ecampus/notice/graduate/\">대학원입학공지</a></li>\\r\\n\\t\\t\\t\\t\\t\\t\\t\\t<li><a href=\"/site/ecampus/notice/academic/\">학사공지</a></li>\\r\\n\\t\\t\\t\\t\\t\\t\\t\\t<li><a href=\"/site/ecampus/notice/administration/\">행정공지</a></li>\\r\\n\\t\\t\\t\\t\\t\\t\\t\\t<li><a href=\"/site/ecampus/notice/special_lecture/\">특강공지</a></li>\\r\\n\\t\\t\\t\\t\\t\\t\\t\\t<li><a href=\"/site/ecampus/notice/scholarship/\">장학공지</a></li>\\r\\n\\t\\t\\t\\t\\t\\t\\t\\t<li><a href=\"/site/ecampus/notice/social_service/\">사회봉사</a></li>\\r\\n\\t\\t\\t\\t\\t\\t\\t\\t<li><a href=\"/site/ecampus/notice/event/\">행사·활동·이벤트 공지</a></li>\\r\\n\\t\\t\\t\\t\\t\\t\\t\\t<li><a href=\"/site/ecampus/notice/school_recruit/\">교내채용</a></li>\\r\\n\\t\\t\\t\\t\\t\\t\\t\\t<li><a href=\"/site/ecampus/notice/suburb.htm\">교외채용</a></li>\\r\\n\\t\\t\\t\\t\\t\\t\\t\\t<li><a href=\"/site/ecampus/notice/library.htm\">도서관공지</a></li>\\r\\n\\t\\t\\t\\t\\t\\t\\t\\t<li><a href=\"/site/ecampus/notice/student_council/\">총학생회 공지</a></li>\\r\\n\\t\\t\\t\\t\\t\\t\\t\\t<li><a href=\"/site/ecampus/notice/prepare_graduation/\">졸준위 공지</a></li>\\r\\n\\t\\t\\t\\t\\t\\t\\t\\t<li><a href=\"http://dormitory.kookmin.ac.kr/site/community/board01.htm\" target=\"_blank\">생활관공지</a></li>\\r\\n\\t\\t\\t\\t\\t\\t\\t</ul>\\r\\n\\t\\t\\t\\t\\t\\t</li>\\r\\n\\t\\t\\t\\t\\t\\t<li><a href=\"/site/ecampus/perfor/thu_lecture/\">특강 및 행사안내</a>\\r\\n\\t\\t\\t\\t\\t\\t\\t<ul class=\"depth-03\">\\r\\n\\t\\t\\t\\t\\t\\t\\t\\t<li><a href=\"/site/ecampus/perfor/thu_lecture/\">목요특강</a></li>\\r\\n\\t\\t\\t\\t\\t\\t\\t\\t<li><a href=\"/site/ecampus/perfor/politics/\">북악정치포럼</a></li>\\r\\n\\t\\t\\t\\t\\t\\t\\t\\t<li><a href=\"/site/ecampus/perfor/perfor.htm\">교내행사안내</a></li>\\r\\n\\t\\t\\t\\t\\t\\t\\t\\t\\t\\t\\t\\t\\t\\t\\t</ul>\\r\\n\\t\\t\\t\\t\\t\\t</li>\\r\\n\\t\\t\\t\\t\\t\\t<li><a href=\"/site/ecampus/new/newsplus/\">국민NEW&amp;HOT</a>\\r\\n\\t\\t\\t\\t\\t\\t\\t<ul class=\"depth-03\">\\r\\n\\t\\t\\t\\t\\t\\t\\t\\t<li><a href=\"/site/ecampus/new/newsplus/\">뉴스플러스</a></li>\\r\\n\\t\\t\\t\\t\\t\\t\\t\\t<li><a href=\"/site/ecampus/new/people/\">국민인!국민인!!</a></li>\\r\\n\\t\\t\\t\\t\\t\\t\\t\\t<li><a href=\"/site/ecampus/new/ucc/\">UCC 세상</a></li>\\r\\n\\t\\t\\t\\t\\t\\t\\t\\t<li><a href=\"/site/ecampus/new/ceo/\">동문CEO 토크</a></li>\\r\\n\\t\\t\\t\\t\\t\\t\\t\\t<li><a href=\"/site/ecampus/new/special/\">기획특집</a></li>\\r\\n\\t\\t\\t\\t\\t\\t\\t\\t<li><a href=\"/site/ecampus/new/prof_library/\">교수님의 서재</a></li>\\r\\n\\t\\t\\t\\t\\t\\t\\t\\t<li><a href=\"/site/ecampus/new/press/\">언론속의 국민</a></li>\\r\\n\\t\\t\\t\\t\\t\\t\\t\\t<li><a href=\"/hotissue\" target=\"_blank\">국민대 Hotissue</a></li>\\r\\n\\t\\t\\t\\t\\t\\t\\t</ul>\\r\\n\\t\\t\\t\\t\\t\\t</li>\\r\\n\\t\\t\\t\\t\\t\\t<li class=\"w90\"><a href=\"/site/ecampus/webzine.htm\">WEBZINE</a></li>\\r\\n\\t\\t\\t\\t\\t\\t<!--<li class=\"w110\"><a href=\"/site/ecampus/newsletter.htm\">NEWSLETTER</a></li>-->\\r\\n\\t\\t\\t\\t\\t\\t<li><a href=\"/site/ecampus/event/shot/how.htm\">홈페이지 이벤트</a>\\r\\n\\t\\t\\t\\t\\t\\t\\t<ul class=\"depth-03\">\\r\\n\\t\\t\\t\\t\\t\\t\\t\\t<li><a href=\"/site/ecampus/event/sns/how.htm\">국민 SNS 이벤트</a></li>\\r\\n\\t\\t\\t\\t\\t\\t\\t\\t<li><a href=\"/site/ecampus/event/shot/how.htm\">국민찰칵콘테스트</a></li>\\r\\n\\t\\t\\t\\t\\t\\t\\t\\t\\t\\t\\t\\t\\t\\t\\t</ul>\\r\\n\\t\\t\\t\\t\\t\\t</li>\\r\\n\\t\\t\\t\\t\\t\\t<li><a href=\"/site/ecampus/toktok/board/\">국민톡톡!!</a>\\r\\n\\t\\t\\t\\t\\t\\t\\t<ul class=\"depth-03\">\\r\\n\\t\\t\\t\\t\\t\\t\\t\\t<li><a href=\"/site/ecampus/toktok/board/\">북악게시판</a></li>\\r\\n\\t\\t\\t\\t\\t\\t\\t\\t<li><a href=\"/site/ecampus/toktok/haha/\">북악 하하호호!</a></li>\\r\\n\\t\\t\\t\\t\\t\\t\\t\\t<li><a href=\"/site/ecampus/toktok/event/\">행사·활동·이벤트 공지</a></li>\\r\\n\\t\\t\\t\\t\\t\\t\\t</ul>\\r\\n\\t\\t\\t\\t\\t\\t</li>\\r\\n\\t\\t\\t\\t\\t\\t<li><a href=\"/site/ecampus/info/market/\">알뜰정보</a>\\r\\n\\t\\t\\t\\t\\t\\t\\t<ul class=\"depth-03\">\\r\\n\\t\\t\\t\\t\\t\\t\\t\\t\\t\\t\\t\\t\\t\\t\\t\\t<li><a href=\"/site/ecampus/info/market/\">벼룩시장</a></li>\\r\\n\\t\\t\\t\\t\\t\\t\\t\\t<li><a href=\"http://cafe347.daum.net/_c21_/bbs_list?grpid=1IwX6&amp;fldid=MUnM\" target=\"_blank\">하숙/자취정보</a></li>\\r\\n\\t\\t\\t\\t\\t\\t\\t\\t<li><a href=\"/site/ecampus/info/food/menu.htm\">먹거리 정보</a></li>\\r\\n\\t\\t\\t\\t\\t\\t\\t\\t<li><a href=\"http://210.123.38.73/index.asp\" target=\"_blank\">도서관 열람석 보기</a></li>\\r\\n\\t\\t\\t\\t\\t\\t\\t\\t\\t\\t\\t\\t\\t\\t\\t\\t<li><a href=\"/site/ecampus/info/findjob/\">취업 정보</a></li>\\r\\n\\t\\t\\t\\t\\t\\t\\t\\t<li><a href=\"/site/ecampus/info/parttime/\">아르바이트 정보</a></li>\\r\\n\\t\\t\\t\\t\\t\\t\\t\\t<li><a href=\"/site/ecampus/info/lost/\">분실물 센터</a></li>\\r\\n\\t\\t\\t\\t\\t\\t\\t\\t\\t\\t\\t\\t\\t\\t\\t</ul>\\r\\n\\t\\t\\t\\t\\t\\t</li>\\r\\n\\t\\t\\t\\t\\t\\t<li><a href=\"/site/ecampus/comm/club.htm\">클럽</a>\\r\\n\\t\\t\\t\\t\\t\\t\\t\\t\\t\\t\\t\\t</li>\\r\\n\\t\\t\\t\\t\\t</ul>\\r\\n\\t\\t\\t\\t\\t<p><button><span>열린캠퍼스 메뉴닫기</span></button></p>\\r\\n\\t\\t\\t\\t</div>\\r\\n\\t\\t\\t</li>\\r\\n\\t\\t</ul>\\r\\n\\t\\t</nav><!-- gnb end -->\\r\\n\\t\\t</div>\\r\\n\\t</div>\\r\\n</header><div id=\"content_body\">\\r\\n<div id=\"page_body_wrap\">\\r\\n\\t<div class=\"visual-wrap\" style=\"width:100%;height:647px;overflow:hidden;\">\\r\\n\\t\\t\\t<div style=\"width:100%;height:100%;background:url(http://wfile.kookmin.ac.kr/data/www/home/2016/03/56de14c2bf74e.jpg) center top no-repeat #f3f3f3;background-size:cover;\" >\\r\\n\\t\\t\\t<div class=\"hidden\">국민대학교 개교 70주년</div>\\r\\n\\t\\t</div>\\r\\n\\t</div>\\r\\n\\t<div id=\"page_body\">\\r\\n\\t\\t<div class=\"mode-info\">\\r\\n\\t\\t\\t<p id=\"visual-info\"><img src=\"/images/home/visual/visual_speech_bubble.png\" alt=\"와이드한 학교 사진과 함축된 메뉴를 보시려면 비쥬얼 모드를 누르세요\" /></p>\\r\\n\\t\\t\\t<!--<p id=\"text-info\"><img src=\"/images/home/visual/text_speech_bubble.png\" alt=\"정보 위주의 메뉴를 보시려면 텍스트 모드를 누르세요\" /></p>-->\\r\\n\\t\\t\\t<!--<p id=\"info-info\"><img src=\"/images/home/visual/info_speech_bubble.png\" alt=\"공지사항 위주의 메뉴를 보시려면 인포 모드를 누르세요\" /></p>-->\\r\\n\\t\\t</div>\\r\\n\\t\\t<ul class=\"btn-mode\">\\r\\n\\t\\t\\t<li><a href=\"#visual\" onclick=\"return false;\"><img src=\"/images/home/visual/btn_visualmode_on.png\" alt=\"VISUAL mode\" /></a></li>\\r\\n\\t\\t\\t<li><a href=\"#text\" onclick=\"return setViewMode(\\'t\\');\"><img src=\"/images/home/visual/btn_textmode_off.png\" alt=\"TEXT mode\" /></a></li>\\r\\n\\t\\t\\t<li><a href=\"#info\" onclick=\"return setViewMode(\\'i\\');\"><img src=\"/images/info/btn_infomode_off.png\" alt=\"INFO mode\" /></a></li>\\r\\n\\t\\t</ul>\\r\\n\\t\\t<div class=\"slogan\"><img src=\"/images/home/visual/slogan_c3.png\" alt=\"C3 Change Chance Challenge\"/></div>\\r\\n\\t\\t<div class=\"content\">\\r\\n\\t\\t\\t\\t\\t<p class=\"title-myungwon\" style=\"display:none;\"><img src=\"/images/home/visual/title_myungwon.png\" alt=\"민속자료 제7호 한규설 가옥 국민대 명원민속관\"/></p>\\r\\n\\t\\t\\t<p class=\"title-schoolyard\" style=\"display:none;\"><img src=\"/images/home/visual/title_schoolyard.png\" alt=\"민국민대 \\'대운동장\\' 과 \\'종합복지관\\' 전경\"/></p>\\r\\n\\r\\n\\t\\t\\t<div class=\"notice\">\\r\\n\\t\\t\\t\\t<ul class=\"notice-tab add-tab\">\\r\\n\\t\\t\\t\\t\\t<li data-url=\"/site/ecampus/notice/all/\" data-bid=\"all\" data-name=\"전체공지\" ><a href=\"#notice-con\"><img src=\"/images/home/tab/tab_all_off.gif\" alt=\"전체\"/></a></li>\\r\\n\\t\\t\\t\\t\\t<li data-url=\"/site/ecampus/notice/academic/\" data-bid=\"66\" data-name=\"학사공지\" ><a href=\"#notice-con\"><img src=\"/images/home/tab/tab_academic_off.gif\" alt=\"학사\"/></a></li>\\r\\n\\t\\t\\t\\t\\t<li data-url=\"/site/ecampus/notice/administration/\" data-bid=\"67\" data-name=\"행정공지\" ><a href=\"#notice-con\"><img src=\"/images/home/tab/tab_administration_off.gif\" alt=\"행정\"/></a></li>\\r\\n\\t\\t\\t\\t\\t<li data-url=\"/site/ecampus/notice/special_lecture/\" data-bid=\"68\" data-name=\"특강공지\" ><a href=\"#notice-con\"><img src=\"/images/home/tab/tab_special_off.gif\" alt=\"특강\"/></a></li>\\r\\n\\t\\t\\t\\t\\t<li data-url=\"/site/ecampus/notice/scholarship/\" data-bid=\"69\" data-name=\"장학공지\" ><a href=\"#notice-con\"><img src=\"/images/home/tab/tab_scholarship_off.gif\" alt=\"장학\"/></a></li>\\r\\n\\t\\t\\t\\t\\t<li data-url=\"/site/ecampus/notice/school_recruit/\" data-bid=\"71\" data-name=\"채용공지\" ><a href=\"#notice-con\"><img src=\"/images/home/tab/tab_recruit_off.gif\" alt=\"채용\"/></a></li>\\r\\n\\t\\t\\t\\t</ul>\\r\\n\\r\\n\\t\\t\\t\\t<section id=\"notice-con\">\\r\\n\\t\\t\\t\\t\\t<h2 class=\"hidden notice-con-title\">학사공지</h2>\\r\\n\\t\\t\\t\\t\\t<ul class=\"notice-con\">\\r\\n\\t\\t\\t\\t\\t\\t<li>목록을 가져오는 중입니다</li>\\r\\n\\t\\t\\t\\t\\t</ul>\\r\\n\\t\\t\\t\\t\\t<div class=\"more\"><a href=\"/site/ecampus/notice/administration/\"><img src=\"/images/home/visual/btn_more.gif\" alt=\"더보기\"/></a></div>\\r\\n\\t\\t\\t\\t\\t<div class=\"arrow\">\\r\\n\\t\\t\\t\\t\\t\\t<button class=\"preve-notice\"><img data-dir=\"-1\" src=\"/images/home/visual/btn_back.gif\" alt=\"이전목록\"/></button>\\r\\n\\t\\t\\t\\t\\t\\t<button class=\"next-notice\"><img data-dir=\"1\" src=\"/images/home/visual/btn_front.gif\" alt=\"다음목록\"/></button>\\r\\n\\t\\t\\t\\t\\t</div>\\r\\n\\t\\t\\t\\t</section>\\r\\n\\r\\n\\r\\n\\t\\t\\t</div>\\r\\n\\t\\t\\t<div class=\"new-event\">\\r\\n\\t\\t\\t\\t<ul class=\"new-tab\">\\r\\n\\t\\t\\t\\t\\t<li data-div=\"div_newhot\" data-url=\"/site/ecampus/new/newsplus/\"><a href=\"#news\"><img src=\"/images/home/visual/tab_new_on.gif\" alt=\"국민 New&amp;Hot\"/></a></li>\\r\\n\\t\\t\\t\\t\\t<li data-div=\"div_article\" data-url=\"/site/ecampus/new/special/\"><a href=\"#event\"><img src=\"/images/home/visual/tab_event_off.gif\" alt=\"행사 및 기획기사\"/></a></li>\\r\\n\\t\\t\\t\\t</ul>\\r\\n\\t\\t\\t\\t<section id=\"news\">\\r\\n\\t\\t\\t\\t\\t<h2 class=\"hidden\">국민 New&amp;Hot</h2>\\r\\n\\r\\n\\t\\t\\t\\t\\t<div id=\"div_newhot\" class=\"alternative\">\\r\\n\\t\\t\\t\\t\\t\\t<div class=\"list\" style=\"width: 412px; height: 90px; overflow: hidden; position: relative;\">\\r\\n\\t\\t\\t\\t\\t\\t\\t<ul class=\"new-con\" style=\"position: absolute;\">\\r\\n\\t\\t\\t\\t\\t\\t\\t\\t\\t\\t\\t\\t\\t\\t\\t<li style=\"width:95px; height:100px; float: left;\"><a href=\"http://www.kookmin.ac.kr/site/ecampus/new/newsplus/1247?utm_source=www&amp;utm_medium=국민NewHot&amp;utm_campaign=메인페이지요소별클릭&amp;utm_content=뉴스플러스\"   ><img src=\"http://wfile.kookmin.ac.kr/data/www/home/2016/03/56e67f41693f5.jpg\" width=\\'95\\' height=\\'60\\' alt=\"\" onerror=\"\" /><p>시각디자인학과 교수,한·불 수교 전시 참여</p></a></li>\\r\\n\\t\\t\\t\\t\\t\\t\\t\\t\\t\\t\\t\\t\\t\\t\\t<li style=\"width:95px; height:100px; float: left;\"><a href=\"http://www.kookmin.ac.kr/site/ecampus/new/people/1604?utm_source=www&amp;utm_medium=국민NewHot&amp;utm_campaign=메인페이지요소별클릭&amp;utm_content=국민인국민인\"   ><img src=\"http://wfile.kookmin.ac.kr/data/www/home/2016/03/56e67f3c8b7ee.jpg\" width=\\'95\\' height=\\'60\\' alt=\"\" onerror=\"\" /><p>국민대, 중등임용고시 전국 41명 합격</p></a></li>\\r\\n\\t\\t\\t\\t\\t\\t\\t\\t\\t\\t\\t\\t\\t\\t\\t<li style=\"width:95px; height:100px; float: left;\"><a href=\"http://www.kookmin.ac.kr/site/ecampus/new/newsplus/1246?utm_source=www&amp;utm_medium=국민NewHot&amp;utm_campaign=메인페이지요소별클릭&amp;utm_content=뉴스플러스\"   ><img src=\"http://wfile.kookmin.ac.kr/data/www/home/2016/03/56e12a37726ad.jpg\" width=\\'95\\' height=\\'60\\' alt=\"\" onerror=\"\" /><p>우리은행,개교 70주년기념 발전기금 전달</p></a></li>\\r\\n\\t\\t\\t\\t\\t\\t\\t\\t\\t\\t\\t\\t\\t\\t\\t<li style=\"width:95px; height:100px; float: left;\"><a href=\"http://www.kookmin.ac.kr/site/ecampus/new/people/1603?utm_source=www&amp;utm_medium=국민NewHot&amp;utm_campaign=메인페이지요소별클릭&amp;utm_content=국민인국민인\"   ><img src=\"http://wfile.kookmin.ac.kr/data/www/home/2016/03/56e12a32e5b79.jpg\" width=\\'95\\' height=\\'60\\' alt=\"\" onerror=\"\" /><p>이승진·임소현 학생,에버랜드공모전 대상</p></a></li>\\r\\n\\t\\t\\t\\t\\t\\t\\t\\t\\t\\t\\t\\t\\t\\t\\t<li style=\"width:95px; height:100px; float: left;\"><a href=\"http://www.kookmin.ac.kr/site/ecampus/new/newsplus/1245?utm_source=www&amp;utm_medium=국민NewHot&amp;utm_campaign=메인페이지요소별클릭&amp;utm_content=뉴스플러스\"   ><img src=\"http://wfile.kookmin.ac.kr/data/www/home/2016/03/56de920d7e0a0.jpg\" width=\\'95\\' height=\\'60\\' alt=\"\" onerror=\"\" /><p>시각디자인학과, 네덜란드재단과 워크숍</p></a></li>\\r\\n\\t\\t\\t\\t\\t\\t\\t\\t\\t\\t\\t\\t\\t\\t\\t<li style=\"width:95px; height:100px; float: left;\"><a href=\"http://www.kookmin.ac.kr/site/ecampus/new/people/1601?utm_source=www&amp;utm_medium=국민NewHot&amp;utm_campaign=메인페이지요소별클릭&amp;utm_content=국민인국민인\"   ><img src=\"http://wfile.kookmin.ac.kr/data/www/home/2016/03/56de90b7a47c0.jpg\" width=\\'95\\' height=\\'60\\' alt=\"\" onerror=\"\" /><p>국민대팀, 휴머노이드 로봇축구대회 우승</p></a></li>\\r\\n\\t\\t\\t\\t\\t\\t\\t\\t\\t\\t\\t\\t\\t\\t\\t<li style=\"width:95px; height:100px; float: left;\"><a href=\"http://www.kookmin.ac.kr/site/ecampus/new/people/1599?utm_source=www&amp;utm_medium=국민NewHot&amp;utm_campaign=메인페이지요소별클릭&amp;utm_content=국민인국민인\"   ><img src=\"http://wfile.kookmin.ac.kr/data/www/home/2016/03/56dd327ed04c2.jpg\" width=\\'95\\' height=\\'60\\' alt=\"\" onerror=\"\" /><p>걸그룹 \\'다이아\\', 조승희(연극영화전공 10)</p></a></li>\\r\\n\\t\\t\\t\\t\\t\\t\\t\\t\\t\\t\\t\\t\\t\\t\\t<li style=\"width:95px; height:100px; float: left;\"><a href=\"http://www.kookmin.ac.kr/site/ecampus/new/people/1597?utm_source=www&amp;utm_medium=국민NewHot&amp;utm_campaign=메인페이지요소별클릭&amp;utm_content=국민인국민인\"   ><img src=\"http://wfile.kookmin.ac.kr/data/www/home/2016/03/56dd322952e4b.jpg\" width=\\'95\\' height=\\'60\\' alt=\"\" onerror=\"\" /><p>최성훈 학생, 수성구청장 표창 수상</p></a></li>\\r\\n\\t\\t\\t\\t\\t\\t\\t\\t\\t\\t\\t\\t\\t\\t\\t<li style=\"width:95px; height:100px; float: left;\"><a href=\"http://www.kookmin.ac.kr/site/ecampus/new/people/1598?utm_source=www&amp;utm_medium=국민NewHot&amp;utm_campaign=메인페이지요소별클릭&amp;utm_content=국민인국민인\"   ><img src=\"http://wfile.kookmin.ac.kr/data/www/home/2016/03/56dd3283bd2d0.jpg\" width=\\'95\\' height=\\'60\\' alt=\"\" onerror=\"\" /><p>시벌,모의콘텐츠분쟁조정경연대회 우수상</p></a></li>\\r\\n\\t\\t\\t\\t\\t\\t\\t\\t\\t\\t\\t\\t\\t\\t\\t<li style=\"width:95px; height:100px; float: left;\"><a href=\"http://www.kookmin.ac.kr/site/ecampus/new/people/1595?utm_source=www&amp;utm_medium=국민NewHot&amp;utm_campaign=메인페이지요소별클릭&amp;utm_content=국민인국민인\"   ><img src=\"http://wfile.kookmin.ac.kr/data/www/home/2016/03/56d92a9f6768e.jpg\" width=\\'95\\' height=\\'60\\' alt=\"\" onerror=\"\" /><p>김산월 교수,국내학회 최우수논문상 수상</p></a></li>\\r\\n\\t\\t\\t\\t\\t\\t\\t\\t\\t\\t\\t\\t\\t\\t\\t<li style=\"width:95px; height:100px; float: left;\"><a href=\"http://www.kookmin.ac.kr/site/ecampus/new/people/1594?utm_source=www&amp;utm_medium=국민NewHot&amp;utm_campaign=메인페이지요소별클릭&amp;utm_content=국민인국민인\"   ><img src=\"http://wfile.kookmin.ac.kr/data/www/home/2016/03/56d92aa2bc918.jpg\" width=\\'95\\' height=\\'60\\' alt=\"\" onerror=\"\" /><p>구상 교수, ‘자동차 디자인 교과서’ 책 발간</p></a></li>\\r\\n\\t\\t\\t\\t\\t\\t\\t\\t\\t\\t\\t\\t\\t\\t\\t<li style=\"width:95px; height:100px; float: left;\"><a href=\"http://www.kookmin.ac.kr/site/ecampus/new/people/1596?utm_source=www&amp;utm_medium=국민NewHot&amp;utm_campaign=메인페이지요소별클릭&amp;utm_content=국민인국민인\"   ><img src=\"http://wfile.kookmin.ac.kr/data/www/home/2016/03/56e76f4f27426.jpg\" width=\\'95\\' height=\\'60\\' alt=\"\" onerror=\"\" /><p>기획봉사단체 ‘애드벌룬’ 대표, 김동현 학생</p></a></li>\\r\\n\\t\\t\\t\\t\\t\\t\\t\\t\\t\\t\\t\\t\\t\\t</ul>\\r\\n\\t\\t\\t\\t\\t\\t</div>\\r\\n\\t\\t\\t\\t\\t\\t<div class=\"more\"><a href=\"/site/ecampus/new/newsplus/?utm_source=www_visual&utm_medium=More버튼&utm_campaign=메인페이지요소별클릭&utm_content=국민NewHot\"><img src=\"/images/home/visual/btn_more.gif\" alt=\"국민 New&amp;Hot 더보기\"/></a></div>\\r\\n\\t\\t\\t\\t\\t\\t<!--<p class=\"slide-info\"><img src=\"/images/home/visual/slide_speech_bubble.png\" alt=\"다른 슬라이드를 보실 수 있습니다\" /></p>-->\\r\\n\\t\\t\\t\\t\\t\\t<div class=\"arrow\">\\r\\n\\t\\t\\t\\t\\t\\t\\t<button class=\\'div_newhot_play\\'><img src=\"/images/home/visual/btn_play.gif\" alt=\"국민 New&amp;Hot 재생\"></button>\\r\\n\\t\\t\\t\\t\\t\\t\\t<button class=\\'div_newhot_stop\\'><img src=\"/images/home/visual/btn_stop.gif\" alt=\"국민 New&amp;Hot 정지\"></button>\\r\\n\\t\\t\\t\\t\\t\\t\\t<button class=\\'div_newhot_prev\\'><img data-dir=\"-4\" src=\"/images/home/visual/btn_back02.gif\" alt=\"국민 New&amp;Hot 이전\"/></button>\\r\\n\\t\\t\\t\\t\\t\\t\\t<button class=\\'div_newhot_next\\'><img data-dir=\"4\" src=\"/images/home/visual/btn_front02.gif\" alt=\"국민 New&amp;Hot 다음\"/></button>\\r\\n\\t\\t\\t\\t\\t\\t</div>\\r\\n\\t\\t\\t\\t\\t</div>\\r\\n\\t\\t\\t\\t</section>\\r\\n\\r\\n\\t\\t\\t\\t<section id=\"event\">\\r\\n\\t\\t\\t\\t\\t<h2 class=\"hidden\">행사 및 기획기사</h2>\\r\\n\\t\\t\\t\\t\\t<div id=\"div_article\" class=\"alternative\" style=\"display:none;\">\\r\\n\\t\\t\\t\\t\\t\\t<div class=\"list\" style=\"width: 412px; height: 90px; overflow: hidden; position: relative;\">\\r\\n\\t\\t\\t\\t\\t\\t\\t<ul class=\"new-con\" style=\"position: absolute;\">\\r\\n\\t\\t\\t\\t\\t\\t\\t\\t\\t\\t\\t\\t\\t\\t\\t<li style=\"width:95px; height:100px; float: left;\"><a href=\"http://www.kookmin.ac.kr/site/ecampus/new/special/1226?utm_source=www&amp;utm_medium=행사및기획기사&amp;utm_campaign=메인페이지요소별클릭&amp;utm_content=기획특집\"   ><img src=\"http://wfile.kookmin.ac.kr/data/www/home/2016/03/56e6806ea1e71.jpg\" width=\\'95\\' height=\\'60\\' alt=\"\" onerror=\"\" /><p>배밭골을 제2의 대학로로! <동상일몽></p></a></li>\\r\\n\\t\\t\\t\\t\\t\\t\\t\\t\\t\\t\\t\\t\\t\\t\\t<li style=\"width:95px; height:100px; float: left;\"><a href=\"http://www.kookmin.ac.kr/site/ecampus/new/special/1225?utm_source=www&amp;utm_medium=행사및기획기사&amp;utm_campaign=메인페이지요소별클릭&amp;utm_content=기획특집\"   ><img src=\"http://wfile.kookmin.ac.kr/data/www/home/2016/03/56dd375ab1410.jpg\" width=\\'95\\' height=\\'60\\' alt=\"\" onerror=\"\" /><p>새내기들을 위한 성곡도서관 100% 활용법</p></a></li>\\r\\n\\t\\t\\t\\t\\t\\t\\t\\t\\t\\t\\t\\t\\t\\t\\t<li style=\"width:95px; height:100px; float: left;\"><a href=\"http://www.kookmin.ac.kr/site/ecampus/new/special/1224?utm_source=www&amp;utm_medium=행사및기획기사&amp;utm_campaign=메인페이지요소별클릭&amp;utm_content=기획특집\"   ><img src=\"http://wfile.kookmin.ac.kr/data/www/home/2016/03/56dd3752424c4.jpg\" width=\\'95\\' height=\\'60\\' alt=\"\" onerror=\"\" /><p>나에게 조금은 특별한 친구, 글로벌버디</p></a></li>\\r\\n\\t\\t\\t\\t\\t\\t\\t\\t\\t\\t\\t\\t\\t\\t\\t<li style=\"width:95px; height:100px; float: left;\"><a href=\"http://www.kookmin.ac.kr/site/ecampus/new/special/1223?utm_source=www&amp;utm_medium=행사및기획기사&amp;utm_campaign=메인페이지요소별클릭&amp;utm_content=기획특집\"   ><img src=\"http://wfile.kookmin.ac.kr/data/www/home/2016/03/56d92d1105705.jpg\" width=\\'95\\' height=\\'60\\' alt=\"\" onerror=\"\" /><p>자유연극제, 연극의 매력에 푹 빠져들다</p></a></li>\\r\\n\\t\\t\\t\\t\\t\\t\\t\\t\\t\\t\\t\\t\\t\\t\\t<li style=\"width:95px; height:100px; float: left;\"><a href=\"http://www.kookmin.ac.kr/site/ecampus/new/special/1222?utm_source=www&amp;utm_medium=행사및기획기사&amp;utm_campaign=메인페이지요소별클릭&amp;utm_content=기획특집\"   ><img src=\"http://wfile.kookmin.ac.kr/data/www/home/2016/03/56d7ca87f08d1.jpg\" width=\\'95\\' height=\\'60\\' alt=\"\" onerror=\"\" /><p>대한민국 주짓수 1세대, 이승재 동문을 만나다.</p></a></li>\\r\\n\\t\\t\\t\\t\\t\\t\\t\\t\\t\\t\\t\\t\\t\\t\\t<li style=\"width:95px; height:100px; float: left;\"><a href=\"http://www.kookmin.ac.kr/site/ecampus/new/special/1219?utm_source=www&amp;utm_medium=행사및기획기사&amp;utm_campaign=메인페이지요소별클릭&amp;utm_content=기획특집\"   ><img src=\"http://wfile.kookmin.ac.kr/data/www/home/2016/02/56d3eaf7800fe.jpg\" width=\\'95\\' height=\\'60\\' alt=\"\" onerror=\"\" /><p>16학번! 첫 발을 내딛다. 신입생 입학식</p></a></li>\\r\\n\\t\\t\\t\\t\\t\\t\\t\\t\\t\\t\\t\\t\\t\\t\\t<li style=\"width:95px; height:100px; float: left;\"><a href=\"http://www.kookmin.ac.kr/site/ecampus/new/special/1218?utm_source=www&amp;utm_medium=행사및기획기사&amp;utm_campaign=메인페이지요소별클릭&amp;utm_content=기획특집\"   ><img src=\"http://wfile.kookmin.ac.kr/data/www/home/2016/02/56ce891c5b0a7.jpg\" width=\\'95\\' height=\\'60\\' alt=\"\" onerror=\"\" /><p>꿈과 이상을 위한 새로운 출발, 학위수여식</p></a></li>\\r\\n\\t\\t\\t\\t\\t\\t\\t\\t\\t\\t\\t\\t\\t\\t\\t<li style=\"width:95px; height:100px; float: left;\"><a href=\"http://www.kookmin.ac.kr/site/ecampus/new/special/1216?utm_source=www&amp;utm_medium=행사및기획기사&amp;utm_campaign=메인페이지요소별클릭&amp;utm_content=기획특집\"   ><img src=\"http://wfile.kookmin.ac.kr/data/www/home/2016/02/56c562c9817cf.jpg\" width=\\'95\\' height=\\'60\\' alt=\"\" onerror=\"\" /><p>오토바이와 텐트로 완주한 전국일주</p></a></li>\\r\\n\\t\\t\\t\\t\\t\\t\\t\\t\\t\\t\\t\\t\\t\\t\\t<li style=\"width:95px; height:100px; float: left;\"><a href=\"http://www.kookmin.ac.kr/site/ecampus/new/special/1214?utm_source=www&amp;utm_medium=행사및기획기사&amp;utm_campaign=메인페이지요소별클릭&amp;utm_content=기획특집\"   ><img src=\"http://wfile.kookmin.ac.kr/data/www/home/2016/02/56c562bf2daef.jpg\" width=\\'95\\' height=\\'60\\' alt=\"\" onerror=\"\" /><p>국민*툰 - 개강까지 2주</p></a></li>\\r\\n\\t\\t\\t\\t\\t\\t\\t\\t\\t\\t\\t\\t\\t\\t\\t<li style=\"width:95px; height:100px; float: left;\"><a href=\"http://www.kookmin.ac.kr/site/ecampus/new/special/1213?utm_source=www&amp;utm_medium=행사및기획기사&amp;utm_campaign=메인페이지요소별클릭&amp;utm_content=기획특집\"   ><img src=\"http://wfile.kookmin.ac.kr/data/www/home/2016/02/56b04906262db.jpg\" width=\\'95\\' height=\\'60\\' alt=\"\" onerror=\"\" /><p>일러스트레이터 박빛나 소망을 그리다</p></a></li>\\r\\n\\t\\t\\t\\t\\t\\t\\t\\t\\t\\t\\t\\t\\t\\t\\t<li style=\"width:95px; height:100px; float: left;\"><a href=\"http://www.kookmin.ac.kr/site/ecampus/new/special/1212?utm_source=www&amp;utm_medium=행사및기획기사&amp;utm_campaign=메인페이지요소별클릭&amp;utm_content=기획특집\"   ><img src=\"http://wfile.kookmin.ac.kr/data/www/home/2016/02/56b04959897d3.jpg\" width=\\'95\\' height=\\'60\\' alt=\"\" onerror=\"\" /><p>독립 큐레이터 김미교와 함께 전시보다</p></a></li>\\r\\n\\t\\t\\t\\t\\t\\t\\t\\t\\t\\t\\t\\t\\t\\t\\t<li style=\"width:95px; height:100px; float: left;\"><a href=\"http://www.kookmin.ac.kr/site/ecampus/new/special/1211?utm_source=www&amp;utm_medium=행사및기획기사&amp;utm_campaign=메인페이지요소별클릭&amp;utm_content=기획특집\"   ><img src=\"http://wfile.kookmin.ac.kr/data/www/home/2016/02/56b04939d00a2.jpg\" width=\\'95\\' height=\\'60\\' alt=\"\" onerror=\"\" /><p>페루에서 온 Alexan dra의 한국여행기</p></a></li>\\r\\n\\t\\t\\t\\t\\t\\t\\t\\t\\t\\t\\t\\t\\t\\t</ul>\\r\\n\\t\\t\\t\\t\\t\\t</div>\\r\\n\\t\\t\\t\\t\\t\\t<div class=\"more\"><a href=\"/site/ecampus/new/special/?utm_source=www_visual&utm_medium=More버튼&utm_campaign=메인페이지요소별클릭&utm_content=행사및기획기사\"><img src=\"/images/home/visual/btn_more.gif\" alt=\"행사 및 기획기사 더보기\"/></a></div>\\r\\n\\t\\t\\t\\t\\t\\t<div class=\"arrow\">\\r\\n\\t\\t\\t\\t\\t\\t\\t<button class=\\'div_event_play\\'><img src=\"/images/home/visual/btn_play.gif\" alt=\"행사 및 기획기사 재생\"></button>\\r\\n\\t\\t\\t\\t\\t\\t\\t<button class=\\'div_event_stop\\'><img src=\"/images/home/visual/btn_stop.gif\" alt=\"행사 및 기획기사 정지\"></button>\\r\\n\\t\\t\\t\\t\\t\\t\\t<button class=\\'div_event_prev\\'><img data-dir=\"-4\" src=\"/images/home/visual/btn_back02.gif\" alt=\"행사 및 기획기사 이전\"/></button>\\r\\n\\t\\t\\t\\t\\t\\t\\t<button class=\\'div_event_next\\'><img data-dir=\"4\" src=\"/images/home/visual/btn_front02.gif\" alt=\"행사 및 기획기사 다음\"/></button>\\r\\n\\t\\t\\t\\t\\t\\t</div>\\r\\n\\t\\t\\t\\t\\t</div>\\r\\n\\t\\t\\t\\t</section>\\r\\n\\r\\n\\t\\t\\t\\t<ul class=\"shortcut\">\\r\\n\\t\\t\\t\\t\\t<li class=\"public-movie\"><a href=\"http://linc.kookmin.ac.kr\" target=\"_blank\" title=\"새창열림\"><img src=\"/images/home/visual/public_linc.png\" alt=\"LINC 추진단\"/></a></li>\\r\\n\\t\\t\\t\\t\\t<li><a href=\"/site/about/guide/campus.htm\"><img src=\"/images/home/visual/campus_cybertour.png\" alt=\"캠퍼스 사이버투어\"/></a></li>\\r\\n\\t\\t\\t\\t\\t<li><a href=\"/site/etc/student_paper_popup.htm\" target=\"_blank\" title=\"새창열림\" ><img src=\"/images/home/visual/certificate_v.png\" alt=\"증명서 발급\"/></a></li>\\r\\n\\t\\t\\t\\t\\t<li><a href=\"/site/about/about/ui.htm\"><img src=\"/images/home/visual/ui_v.png\" alt=\"국민UI\"/></a></li>\\r\\n\\t\\t\\t\\t\\t<li><a href=\"http://ktis.kookmin.ac.kr/\" target=\"_blank\" title=\\'새창열림\\'><img src=\"/images/home/visual/ktis_v.png\" alt=\"종합정보시스템\"/></a></li>\\r\\n\\t\\t\\t\\t</ul>\\r\\n\\t\\t\\t</div>\\r\\n\\t\\t\\t<div class=\"banner-search\">\\r\\n\\t\\t\\t\\t<div class=\"search\">\\r\\n\\t\\t\\t\\t<form action=\"/site/search/search.htm\">\\r\\n\\t\\t\\t\\t\\t<label for=\"keyword\" class=\"hidden\">통합검색</label>\\r\\n\\t\\t\\t\\t\\t<input class=\"search-box\" type=\"search\" title=\"검색어\" name=\"keyword\" id=\"keyword\" placeholder=\"통합 검색\"/>\\r\\n\\t\\t\\t\\t\\t<input class=\"search-btn\" type=\"image\" src=\"/images/home/visual/btn_search.png\" alt=\"검색\"/>\\r\\n\\t\\t\\t\\t</form>\\r\\n\\t\\t\\t\\t</div>\\r\\n\\t\\t\\t\\t<aside class=\"banner-zone\">\\r\\n\\t\\t\\t\\t\\t<h2 class=\"hidden\">배너</h2>\\r\\n\\t\\t\\t\\t\\t<div class=\"banner-btn-zone\">\\r\\n\\t\\t\\t\\t\\t\\t<div class=\"btn\">\\r\\n\\t\\t\\t\\t\\t\\t\\t<button class=\"banner_stop\"><img src=\"/images/home/visual/btn_banzone_stop_v.png\" alt=\"배너 정지\"/></button>\\r\\n\\t\\t\\t\\t\\t\\t\\t<button class=\"banner_next\"><img src=\"/images/home/visual/btn_banzone_next_v.png\" alt=\"배너 재생\"/></button>\\r\\n\\t\\t\\t\\t\\t\\t</div>\\r\\n\\t\\t\\t\\t\\t\\t<div class=\"banner-zone-paging\">\\r\\n\\t\\t\\t\\t\\t\\t\\t<div></div>\\r\\n\\t\\t\\t\\t\\t\\t</div>\\r\\n\\t\\t\\t\\t\\t</div>\\r\\n\\t\\t\\t\\t\\t<div class=\"banner\" style=\"width:213px;height:127px;overflow:hidden;position:relative\">\\r\\n\\t\\t\\t\\t\\t<div class=\"banner-item\" style=\"position:absolute;\">\\r\\n\\r\\n\\t\\t\\t\\t\\t\\t\\t\\t\\t\\t\\t\\t\\t\\t\\t\\t\\t\\t\\t\\t\\t\\t\\t\\t\\t\\t\\t\\t\\t\\t\\t\\t\\t\\t\\t\\t\\t\\t\\t\\t<a href=\"http://70.kookmin.ac.kr?utm_source=www&amp;utm_medium=롤링배너&amp;utm_campaign=메인페이지요소별클릭&amp;utm_content=개교70주년\" target=\"_blank\"  title=\"새창열림\"  ><img src=\"http://wfile.kookmin.ac.kr/data/www/home/2016/02/56cc0a8d5b5f3.jpg\" data-idx=\"0\" width=\"213\" height=\"127\" title=\"국민대학교 개교 70주년 기념 홈페이지 바로가기\" alt=\"국민대학교 개교 70주년 기념 홈페이지 바로가기\"/></a>\\r\\n\\t\\t\\t\\t\\t\\t\\t\\t\\t\\t\\t\\t\\t\\t\\t\\t\\t\\t\\t\\t\\t\\t\\t\\t\\t\\t\\t\\t\\t\\t\\t\\t\\t\\t\\t\\t\\t\\t\\t\\t\\t\\t\\t\\t\\t\\t\\t\\t<a href=\"http://www.kookmin.ac.kr/site/ecampus/notice/administration/2752?utm_source=www&amp;utm_medium=롤링배너&amp;utm_campaign=메인페이지요소별클릭&amp;utm_content=공청회\" target=\"_self\"  ><img src=\"http://wfile.kookmin.ac.kr/data/www/home/2016/03/56ec1138671d7.jpg\" data-idx=\"1\" width=\"213\" height=\"127\" title=\"국민대학교 구조조정 관련 공청회 개최\" alt=\"국민대학교 구조조정 관련 공청회 개최\"/></a>\\r\\n\\t\\t\\t\\t\\t\\t\\t\\t\\t\\t\\t\\t\\t\\t\\t\\t\\t\\t\\t\\t\\t\\t\\t\\t\\t\\t\\t\\t\\t\\t\\t\\t\\t\\t\\t\\t\\t\\t\\t\\t\\t\\t\\t\\t\\t\\t\\t\\t<a href=\"http://admission.kookmin.ac.kr/transfer/notice.php?ctype=view&amp;s_key=&amp;s_word=&amp;page=0&amp;no=245?utm_source=www&amp;utm_medium=롤링배너&amp;utm_campaign=메인페이지요소별클릭&amp;utm_content=편입학전형료\" target=\"_self\"  ><img src=\"http://wfile.kookmin.ac.kr/data/www/home/2016/03/56e0b70d73197.jpg\" data-idx=\"2\" width=\"213\" height=\"127\" title=\"2016학년도 편입학모집 입학전형료 반환안내\" alt=\"2016학년도 편입학모집 입학전형료 반환안내\"/></a>\\r\\n\\t\\t\\t\\t\\t\\t\\t\\t\\t\\t\\t\\t\\t\\t\\t\\t\\t\\t\\t\\t\\t\\t\\t\\t\\t\\t\\t\\t\\t\\t\\t\\t\\t\\t\\t\\t\\t\\t\\t\\t\\t\\t\\t\\t\\t\\t\\t\\t<a href=\"http://webzine.kookmin.ac.kr/?utm_source=www&amp;utm_medium=롤링배너&amp;utm_campaign=메인페이지요소별클릭&amp;utm_content=웹진40호\" target=\"_blank\"  title=\"새창열림\"  ><img src=\"http://wfile.kookmin.ac.kr/data/www/home/2016/03/56d7ed7b76b6c.jpg\" data-idx=\"3\" width=\"213\" height=\"127\" title=\"웹진 40호\" alt=\"웹진 40호\"/></a>\\r\\n\\t\\t\\t\\t\\t\\t\\t\\t\\t\\t\\t\\t\\t\\t\\t\\t\\t\\t\\t\\t\\r\\n\\t\\t\\t\\t\\t</div>\\r\\n\\t\\t\\t\\t\\t</div>\\r\\n\\t\\t\\t\\t</aside>\\r\\n\\t\\t\\t</div>\\r\\n\\t\\t</div>\\r\\n\\t</div>\\r\\n</div>\\r\\n</div><!-- TD_CONTENTMENU END -->\\r\\n\\r\\n<aside id=\"quick-menu\">\\r\\n\\t<div class=\"service-wrap\">\\r\\n\\t\\t<strong class=\"service-title\"><img src=\"/images/common/link_title.png\" alt=\"servicelink\" /></strong>\\r\\n\\t\\t<ul class=\"service-list\">\\r\\n\\t\\t\\t<li>\\r\\n\\t\\t\\t\\t<a href=\"#\">재학생</a>\\r\\n\\t\\t\\t\\t<ul class=\"service-menu\">\\r\\n\\t\\t\\t\\t\\t<li><a target=\"_blank\" href=\"https://kcard.kookmin.ac.kr/\" target=\"_blank\">- K-Card 안내</a></li>\\r\\n\\t\\t\\t\\t\\t<li><a target=\"_blank\" href=\"http://cyber2010.kookmin.ac.kr/\">- 가상대학</a></li>\\r\\n\\t\\t\\t\\t\\t<li><a target=\"_blank\" href=\"https://career.kookmin.ac.kr/\">- 경력개발센터</a></li>\\r\\n\\t\\t\\t\\t\\t<li><a target=\"_blank\" href=\"http://cieek.kookmin.ac.kr/\">- 공학교육혁신센터</a></li>\\r\\n\\t\\t\\t\\t\\t<li><a target=\"_blank\" href=\"http://ctl.kookmin.ac.kr/\">- 교수학습개발센터</a></li>\\r\\n\\t\\t\\t\\t\\t<li><a target=\"_blank\" href=\"http://ocw.kookmin.ac.kr/\">- 국민대 OCW</a></li>\\r\\n\\t\\t\\t\\t\\t<li><a target=\"_blank\" href=\"http://iat.kookmin.ac.kr/site/program/intro.htm\">- 국제교류</a></li>\\r\\n\\t\\t\\t\\t\\t<li><a target=\"_blank\" href=\"http://lib.kookmin.ac.kr/\">- 성곡도서관</a></li>\\r\\n\\t\\t\\t\\t\\t<li><a target=\"_blank\" href=\"http://lab.kookmin.ac.kr/\">- 실험실안전교육</a></li>\\r\\n\\t\\t\\t\\t\\t<li><a target=\"_blank\" href=\"http://www.kookmin.ac.kr/site/etc/student_paper_popup.htm\">- 인터넷증명발급</a></li>\\r\\n\\t\\t\\t\\t\\t<li><a target=\"_blank\" href=\"http://www.kookmin.ac.kr/site/about/guide/school_bus/gireum.htm\">- 통학버스</a></li>\\r\\n\\t\\t\\t\\t\\t<li><a target=\"_blank\" href=\"http://www.kookmin.ac.kr/site/resource/guide/cal.htm\">- 학사일정</a></li>\\r\\n\\t\\t\\t\\t\\t<li><a target=\"_blank\" href=\"http://www.kookmin.ac.kr/site/resource/guide/exchange/intro.htm\">- 학점교환</a></li>\\r\\n\\t\\t\\t\\t</ul>\\r\\n\\t\\t\\t</li>\\r\\n\\t\\t\\t<li>\\r\\n\\t\\t\\t\\t<a href=\"#\">교직원</a>\\r\\n\\t\\t\\t\\t<ul class=\"service-menu\">\\r\\n\\t\\t\\t\\t\\t<li><a target=\"_blank\" href=\"http://ctl.kookmin.ac.kr/\">- 교수학습개발센터</a></li>\\r\\n\\t\\t\\t\\t\\t<li><a target=\"_blank\" href=\"http://reg.kookmin.ac.kr/\">- 규정집</a></li>\\r\\n\\t\\t\\t\\t\\t<li><a target=\"_blank\" href=\"http://cafe.naver.com/kmulaborunion\">- 노동조합</a></li>\\r\\n\\t\\t\\t\\t\\t<li><a target=\"_blank\" href=\"http://www.kookmin.ac.kr/site/resource/faculty/group/ball.htm\">- 동호회</a></li>\\r\\n\\t\\t\\t\\t\\t<li><a target=\"_blank\" href=\"http://www.kookmin.ac.kr/site/resource/faculty/welfare/vacation.htm\">- 복리후생제도\\t</a></li>\\r\\n\\t\\t\\t\\t\\t<li><a target=\"_blank\" href=\"http://photodb.kookmin.ac.kr/\">- 사진 DB</a></li>\\r\\n\\t\\t\\t\\t\\t<li><a target=\"_blank\" href=\"http://research.kookmin.ac.kr/\">- 산학협력단</a></li>\\r\\n\\t\\t\\t\\t\\t<li><a target=\"_blank\" href=\"http://research.kookmin.ac.kr/site/research/ntis.htm\">- 신규사업 공지</a></li>\\r\\n\\t\\t\\t\\t\\t<li><a target=\"_blank\" href=\"http://ktis.kookmin.ac.kr/\">- 종합정보시스템</a></li>\\r\\n\\t\\t\\t\\t</ul>\\r\\n\\r\\n\\t\\t\\t</li>\\r\\n\\t\\t\\t<li>\\r\\n\\t\\t\\t\\t<a href=\"#\">졸업생</a>\\t\\t\\r\\n\\t\\t\\t\\t<ul class=\"service-menu\">\\r\\n\\t\\t\\t\\t\\t<li><a target=\"_blank\" href=\"http://www.kookmin.ac.kr/site/ecampus/new/newsplus/\">- 교내뉴스</a></li>\\r\\n\\t\\t\\t\\t\\t<li><a target=\"_blank\" href=\"http://fund.kookmin.ac.kr/\">- 발전기금</a></li>\\r\\n\\t\\t\\t\\t\\t<li><a target=\"_blank\" href=\"http://lib.kookmin.ac.kr/\">- 성곡도서관</a></li>\\r\\n\\t\\t\\t\\t\\t<li><a target=\"_blank\" href=\"http://www.kookmin.ac.kr/site/etc/student_paper_popup.htm\">- 인터넷증명발급</a></li>\\r\\n\\t\\t\\t\\t\\t<li><a target=\"_blank\" href=\"http://www.kmua.or.kr/\">- 총동문회</a></li>\\r\\n\\t\\t\\t\\t</ul>\\r\\n\\r\\n\\t\\t\\t</li>\\r\\n\\t\\t\\t<li>\\r\\n\\t\\t\\t\\t<a href=\"#\">학부모</a>\\r\\n\\t\\t\\t\\t<ul class=\"service-menu\">\\r\\n\\t\\t\\t\\t\\t<li><a target=\"_blank\" href=\"http://www.kookmin.ac.kr/site/ecampus/new/newsplus/\">- 교내뉴스</a></li>\\r\\n\\t\\t\\t\\t\\t<li><a target=\"_blank\" href=\"http://iat.kookmin.ac.kr/site/program/exchange/introduction_e.htm\">- 교환학생</a></li>\\r\\n\\t\\t\\t\\t\\t<li><a target=\"_blank\" href=\"http://iat.kookmin.ac.kr/site/program/intro.htm\">- 국제교류</a></li>\\r\\n\\t\\t\\t\\t\\t<li><a target=\"_blank\" href=\"http://www.academyinfo.go.kr/UIPISA/uipnh/unt/ipsrch/UntUnvAcdtSrchPupExtrn.do?schlId=0000078\">- 대학정보공시</a></li>\\r\\n\\t\\t\\t\\t\\t<li><a target=\"_blank\" href=\"http://fund.kookmin.ac.kr/\">- 발전기금</a></li>\\r\\n\\t\\t\\t\\t\\t<li><a target=\"_blank\" href=\"http://www.kookmin.ac.kr/site/resource/guide/point/point/point.htm\">- 성적</a></li>\\r\\n\\t\\t\\t\\t\\t<li><a target=\"_blank\" href=\"http://admission.kookmin.ac.kr/\">- 입학안내</a></li>\\r\\n\\t\\t\\t\\t\\t<li><a target=\"_blank\" href=\"http://www.kookmin.ac.kr/site/resource/guide/system/schalarship.htm\">- 장학금</a></li>\\r\\n\\t\\t\\t\\t\\t<li><a target=\"_blank\" href=\"http://www.kookmin.ac.kr/site/resource/guide/regist/trans.htm\">- 전부(과)</a></li>\\r\\n\\t\\t\\t\\t\\t<li><a target=\"_blank\" href=\"http://www.kookmin.ac.kr/site/about/guide/phone.htm\">- 전화번호안내</a></li>\\r\\n\\t\\t\\t\\t\\t<li><a target=\"_blank\" href=\"http://www.kookmin.ac.kr/site/about/guide/map/trans.htm\">- 찾아오시는길</a></li>\\r\\n\\t\\t\\t\\t\\t<li><a target=\"_blank\" href=\"http://www.kookmin.ac.kr/site/about/guide/campus.htm\">- 캠퍼스안내</a></li>\\r\\n\\t\\t\\t\\t\\t<li><a target=\"_blank\" href=\"http://lifelong.kookmin.ac.kr/\">- 평생교육원</a></li>\\r\\n\\t\\t\\t\\t\\t<li><a target=\"_blank\" href=\"http://www.kookmin.ac.kr/site/resource/guide/regist/absent/absent.htm\">- 휴학/복학</a></li>\\r\\n\\t\\t\\t\\t</ul>\\r\\n\\t\\t\\t</li>\\r\\n\\t\\t\\t<li>\\r\\n\\t\\t\\t\\t<a href=\"#\">예비<br />국민인</a>\\t\\t\\t\\t\\r\\n\\t\\t\\t\\t<ul class=\"service-menu\">\\r\\n\\t\\t\\t\\t\\t<li><a target=\"_blank\" href=\"http://www.academyinfo.go.kr/UIPISA/uipnh/unt/ipsrch/UntUnvAcdtSrchPupExtrn.do?schlId=0000078\">- 대학정보공시</a></li>\\r\\n\\t\\t\\t\\t\\t<li><a target=\"_blank\" href=\"http://dormitory.kookmin.ac.kr/\">- 생활관(기숙사)</a></li>\\r\\n\\t\\t\\t\\t\\t<li><a target=\"_blank\" href=\"http://iie.kookmin.ac.kr/fli/introduction.asp\">- 외국어교육센터</a></li>\\r\\n\\t\\t\\t\\t\\t<li><a target=\"_blank\" href=\"http://admission.kookmin.ac.kr/\">- 입학안내</a></li>\\r\\n\\t\\t\\t\\t\\t<li><a target=\"_blank\" href=\"http://www.kookmin.ac.kr/site/about/guide/phone.htm\">- 전화번호안내</a></li>\\r\\n\\t\\t\\t\\t\\t<li><a target=\"_blank\" href=\"http://www.kookmin.ac.kr/site/about/guide/map/trans.htm\">- 찾아오시는길</a></li>\\r\\n\\t\\t\\t\\t\\t<li><a target=\"_blank\" href=\"http://www.kookmin.ac.kr/site/about/guide/campus.htm\">- 캠퍼스안내</a></li>\\r\\n\\t\\t\\t\\t\\t<li><a target=\"_blank\" href=\"http://www.kookmin.ac.kr/site/about/guide/school_bus/gireum.htm\">- 통학버스</a></li>\\r\\n\\t\\t\\t\\t\\t<li><a target=\"_blank\" href=\"http://lifelong.kookmin.ac.kr/\">- 평생교육원</a></li>\\r\\n\\t\\t\\t\\t</ul>\\r\\n\\r\\n\\t\\t\\t</li>\\r\\n\\t\\t\\t<li>\\r\\n\\t\\t\\t\\t<a href=\"#\">온라인<br />민원</a>\\r\\n\\t\\t\\t\\t<ul class=\"service-menu\">\\r\\n\\t\\t\\t\\t\\t<li><a target=\"_blank\" href=\"http://www.kookmin.ac.kr/site/resource/consult/qna/\">- Q&amp;A</a></li>\\r\\n\\t\\t\\t\\t\\t<li><a target=\"_blank\" href=\"http://www.kookmin.ac.kr/site/help.htm\">- email 문의하기</a></li>\\r\\n\\t\\t\\t\\t\\t<li><a target=\"_blank\" href=\"http://omb.kookmin.ac.kr/omb/\">- 옴부즈오피스</a></li>\\r\\n\\t\\t\\t\\t</ul>\\r\\n\\r\\n\\t\\t\\t</li>\\r\\n\\t\\t\\t<li>\\r\\n\\t\\t\\t\\t<a href=\"#\">서비스</a>\\t\\r\\n\\t\\t\\t\\t<ul class=\"service-menu\">\\r\\n\\t\\t\\t\\t\\t<li><a target=\"_blank\" href=\"https://kcard.kookmin.ac.kr/\">- K-Card 안내</a></li>\\r\\n\\t\\t\\t\\t\\t<li><a target=\"_blank\" href=\"http://kist.kookmin.ac.kr/?page_id=323\">- KMUNet 안내</a></li>\\r\\n\\t\\t\\t\\t\\t<li><a target=\"_blank\" href=\"http://www.kookmin.ac.kr/site/resource/life/space.htm\">- 공간활용시스템</a></li>\\r\\n\\t\\t\\t\\t\\t<li><a target=\"_blank\" href=\"http://www.academyinfo.go.kr/UIPISA/uipnh/unt/ipsrch/UntUnvAcdtSrchPupExtrn.do?schlId=0000078\">- 대학정보공시</a></li>\\r\\n\\t\\t\\t\\t\\t<li><a target=\"_blank\" href=\"http://lab.kookmin.ac.kr/\">- 실험실안전교육</a></li>\\r\\n\\t\\t\\t\\t\\t<li><a target=\"_blank\" href=\"http://www.kmumall.com/\">- 온라인복지몰</a></li>\\r\\n\\t\\t\\t\\t\\t<li><a target=\"_blank\" href=\"https://ktis.kookmin.ac.kr/kmu/apa/Apa0501e.jsp\">- 전자입찰시스템</a></li>\\r\\n\\t\\t\\t\\t</ul>\\r\\n\\r\\n\\t\\t\\t</li>\\r\\n\\t\\t\\t<li>\\r\\n\\t\\t\\t\\t<a href=\"#\">사이버<br />홍보</a>\\r\\n\\t\\t\\t\\t<ul class=\"service-menu\">\\r\\n\\t\\t\\t\\t\\t<li><a target=\"_blank\" href=\"http://www.kookmin.ac.kr/site/ecampus/new/newsplus/\">- 교내뉴스</a></li>\\r\\n\\t\\t\\t\\t\\t<li><a target=\"_blank\" href=\"http://www.kookmin.ac.kr/site/about/about/ui.htm\">- 국민 UI</a></li>\\r\\n\\t\\t\\t\\t\\t<li><a target=\"_blank\" href=\"http://www.kookmin.ac.kr/site/about/about/symbol.htm\">- 국민 상징</a></li>\\r\\n\\t\\t\\t\\t\\t<li><a target=\"_blank\" href=\"http://www.kookmin.ac.kr/site/ecampus/new/press/\">- 언론속의국민</a></li>\\r\\n\\t\\t\\t\\t\\t<li><a target=\"_blank\" href=\"https://webzine.kookmin.ac.kr/\">- 웹진 Unik</a></li>\\r\\n\\t\\t\\t\\t\\t<li><a target=\"_blank\" href=\"http://www.kookmin.ac.kr/site/about/guide/campus.htm\">- 캠퍼스 안내</a></li>\\r\\n\\t\\t\\t\\t\\t<li><a target=\"_blank\" href=\"http://www.kookmin.ac.kr/site/about/cyber/movie.htm\">- 홍보영상</a></li>\\r\\n\\t\\t\\t\\t\\t<li><a target=\"_blank\" href=\"http://www.kookmin.ac.kr/site/about/cyber/prdata/\">- 홍보자료실</a></li>\\r\\n\\t\\t\\t\\t</ul>\\r\\n\\r\\n\\t\\t\\t</li>\\r\\n\\t\\t\\t<li>\\r\\n\\t\\t\\t\\t<a href=\"#\">캠퍼스<br />투어</a>\\r\\n\\t\\t\\t\\t<ul class=\"service-menu\">\\r\\n\\t\\t\\t\\t\\t<li><a target=\"_blank\" href=\"http://www.kookmin.ac.kr/site/about/guide/campus.htm\">- 북악캠퍼스 투어</a></li>\\r\\n\\t\\t\\t\\t\\t<li><a target=\"_blank\" href=\"http://www.kookmin.ac.kr/site/about/guide/phone.htm\">- 전화번호안내</a></li>\\r\\n\\t\\t\\t\\t\\t<li><a target=\"_blank\" href=\"http://www.kookmin.ac.kr/site/about/guide/map/trans.htm\">- 찾아오시는길</a></li>\\r\\n\\t\\t\\t\\t\\t<li><a target=\"_blank\" href=\"http://admission.kookmin.ac.kr/campustour/page/\">- 캠퍼스투어 신청</a></li>\\r\\n\\t\\t\\t\\t\\t<li><a target=\"_blank\" href=\"http://www.kookmin.ac.kr/site/about/guide/school_bus/gireum.htm\">- 통학버스</a></li>\\r\\n\\t\\t\\t\\t</ul>\\r\\n\\r\\n\\t\\t\\t</li>\\r\\n\\t\\t\\t<li>\\r\\n\\t\\t\\t\\t<a href=\"#\">기구 및<br /> 기관</a>\\r\\n\\t\\t\\t\\t<ul class=\"service-menu\">\\r\\n\\t\\t\\t\\t\\t<li><a target=\"_blank\" href=\"https://career.kookmin.ac.kr/\">- 경력개발센터</a></li>\\r\\n\\t\\t\\t\\t\\t<li><a target=\"_blank\" href=\"https://ccrf.kookmin.ac.kr/#\">- 공동실험기기센터</a></li>\\r\\n\\t\\t\\t\\t\\t<li><a target=\"_blank\" href=\"http://cieek.kookmin.ac.kr/\">- 공학교육혁신센터</a></li>\\r\\n\\t\\t\\t\\t\\t<li><a target=\"_blank\" href=\"http://ctl.kookmin.ac.kr/\">- 교수학습개발센터</a></li>\\r\\n\\t\\t\\t\\t\\t<li><a target=\"_blank\" href=\"http://press.kookmin.ac.kr/\">- 국민대신문사</a></li>\\r\\n\\t\\t\\t\\t\\t<li><a target=\"_blank\" href=\"http://iat.kookmin.ac.kr/\">- 국제교류팀</a></li>\\r\\n\\t\\t\\t\\t\\t<li><a target=\"_blank\" href=\"http://iie.kookmin.ac.kr/\">- 국제교육원</a></li>\\r\\n\\t\\t\\t\\t\\t<li><a target=\"_blank\" href=\"http://museum.kookmin.ac.kr/\">- 박물관</a></li>\\r\\n\\t\\t\\t\\t\\t<li><a target=\"_blank\" href=\"http://legalcc.kookmin.ac.kr/\">- 법률상담센터</a></li>\\r\\n\\t\\t\\t\\t\\t<li><a target=\"_blank\" href=\"http://research.kookmin.ac.kr/\">- 산학협력단</a></li>\\r\\n\\t\\t\\t\\t\\t<li><a target=\"_blank\" href=\"http://dormitory.kookmin.ac.kr/\">- 생활관(기숙사)</a></li>\\r\\n\\t\\t\\t\\t\\t<li><a target=\"_blank\" href=\"http://lib.kookmin.ac.kr/index.ax\">- 성곡도서관</a></li>\\r\\n\\t\\t\\t\\t\\t<li><a target=\"_blank\" href=\"http://admission.kookmin.ac.kr/\">- 입학처</a></li>\\r\\n\\t\\t\\t\\t\\t<li><a target=\"_blank\" href=\"http://kist.kookmin.ac.kr/\">- 정보통신처</a></li>\\r\\n\\t\\t\\t\\t\\t<li><a target=\"_blank\" href=\"https://zeroone.kookmin.ac.kr/\">- 제로원디자인센터</a></li>\\r\\n\\t\\t\\t\\t\\t<li><a target=\"_blank\" href=\"http://kma.kookmin.ac.kr/\">- 종합예술콘서바토리</a></li>\\r\\n\\t\\t\\t\\t\\t<li><a target=\"_blank\" href=\"http://www.jdc.or.kr/\">- 주얼리디자인센터</a></li>\\r\\n\\t\\t\\t\\t\\t<li><a target=\"_blank\" href=\"http://startup.kookmin.ac.kr/\">- 창업지원단</a></li>\\r\\n\\t\\t\\t\\t\\t<li><a target=\"_blank\" href=\"http://lifelong.kookmin.ac.kr/\">- 평생교육원</a></li>\\r\\n\\t\\t\\t\\t\\t<li><a target=\"_blank\" href=\"http://sangdam.kookmin.ac.kr/\">- 학생생활상담센터</a></li>\\r\\n\\t\\t\\t\\t</ul>\\r\\n\\t\\t\\t</li>\\r\\n\\t\\t\\t<li class=\"last\">\\r\\n\\t\\t\\t\\t<a href=\"#\">관련기관</a>\\r\\n\\t\\t\\t\\t<ul class=\"service-menu\">\\r\\n\\t\\t\\t\\t\\t<li><a target=\"_blank\" href=\"http://cafe.naver.com/kmulaborunion\">- 노동조합</a></li>\\r\\n\\t\\t\\t\\t\\t<li><a target=\"_blank\" href=\"http://kmucoop.kookmin.ac.kr/\">- 생활협동조합</a></li>\\r\\n\\t\\t\\t\\t\\t<li><a target=\"_blank\" href=\"https://www.welstorymall.com/\">- 온라인복지몰</a></li>\\r\\n\\t\\t\\t\\t\\t<li><a target=\"_blank\" href=\"http://safe.kookmin.ac.kr/\">- 성폭력&성희롱상담실</a></li>\\r\\n\\t\\t\\t\\t\\t<li><a target=\"_blank\" href=\"http://wellness.kookmin.ac.kr/\">- 웰니스센터</a></li>\\r\\n\\t\\t\\t\\t\\t<li><a target=\"_blank\" href=\"http://www.kookmin.ac.kr/site/ecampus/notice/prepare_graduation/\">- 졸업준비위원회</a></li>\\r\\n\\t\\t\\t\\t\\t<li><a target=\"_blank\" href=\"http://www.kmua.or.kr/\">- 총동문회</a></li>\\r\\n\\t\\t\\t\\t\\t<li><a target=\"_blank\" href=\"http://kmuin.com/xe/\">- 총학생회</a></li>\\r\\n\\t\\t\\t\\t\\t<li><a target=\"_blank\" href=\"http://cafe.daum.net/ROTC129\">- 학군단</a></li>\\r\\n\\t\\t\\t\\t</ul>\\r\\n\\t\\t\\t</li>\\r\\n\\t\\t</ul>\\r\\n\\t</div>\\r\\n</aside>\\r\\n\\r\\n<!--<p class=\"info-service\"><img src=\"/images/home/visual/service_speech_bubble.png\" alt=\"국민대학교와 관련된 여러 사이트를 보실 수 있습니다.\" /></p>-->\\r\\n<div id=\"page_footer_wrap\">\\r\\n\\t<div id=\"page_footer\">\\r\\n\\t\\t<p class=\"footer-logo\">\\r\\n\\t\\t<img src=\"/images/common/footer_logo.gif\" alt=\"국민대학교\" /></p>\\r\\n\\r\\n\\t\\t<!------------------ FOR GOOGLE Analytics by 조영문 (20151207)\\r\\n\\t\\t형식 : ?utm_source=www&utm_campaign=Footer요소별클릭&utm_medium=[메뉴명칭]\\r\\n\\t\\t--------------->\\r\\n\\r\\n\\t\\t<ul class=\"footer-link\">\\r\\n\\t\\t\\t<li><a class=\"first\" href=\"http://www.academyinfo.go.kr/UIPISA/uipnh/unt/ipsrch/UntUnvAcdtSrchPupExtrn.do?schlId=0000078\">\\r\\n\\t\\t\\t\\t<img src=\"/images/common/footlink_academyinfo2.png\" alt=\"대학정보공시\" /></a>\\r\\n\\t\\t\\t</li>\\r\\n\\t\\t\\t<li><a href=\"/site/about/corporate/estimate.htm?utm_source=www&utm_campaign=Footer요소별클릭&utm_medium=예결산공고\" target=\"_blank\" title=\"새창열림\">\\r\\n\\t\\t\\t\\t<img src=\"/images/common/footlink_estimate2.png\" alt=\"예결산공고\" /></a>\\r\\n\\t\\t\\t</li>\\r\\n\\t\\t\\t<li><a href=\"/site/resource/security/privacy.htm?utm_source=www&utm_campaign=Footer요소별클릭&utm_medium=개인정보취급방침\" target=\"_blank\" title=\"새창열림\">\\r\\n\\t\\t\\t\\t<img src=\"/images/common/footlink_privacy2.png\" alt=\"개인정보취급방침\" /></a>\\r\\n\\t\\t\\t</li>\\r\\n\\t\\t\\t<li><a href=\"/site/about/guide/map/trans.htm?utm_source=www&utm_campaign=Footer요소별클릭&utm_medium=찾아오시는길\" target=\"_blank\" title=\"새창열림\">\\r\\n\\t\\t\\t\\t<img src=\"/images/common/footlink_map2.png\" alt=\"찾아오시는길\" /></a>\\r\\n\\t\\t\\t</li>\\r\\n\\t\\t\\t<li><a href=\"/site/about/guide/school_bus/gireum.htm?utm_source=www&utm_campaign=Footer요소별클릭&utm_medium=통학버스\" target=\"_blank\" title=\"새창열림\">\\r\\n\\t\\t\\t\\t<img src=\"/images/common/footlink_bus2.png\" alt=\"통학버스\" /></a>\\r\\n\\t\\t\\t</li>\\r\\n\\t\\t\\t<li><a href=\"/site/about/guide/phone.htm?utm_source=www&utm_campaign=Footer요소별클릭&utm_medium=전화번호\" target=\"_blank\" title=\"새창열림\">\\r\\n\\t\\t\\t\\t<img src=\"/images/common/footlink_phone2.png\" alt=\"전화번호\" /></a>\\r\\n\\t\\t\\t</li>\\r\\n\\t\\t\\t<li><a href=\"http://kcard.kookmin.ac.kr?utm_source=www&utm_campaign=Footer요소별클릭&utm_medium=K-CARD안내\" target=\"_blank\" title=\"새창열림\">\\r\\n\\t\\t\\t\\t<img src=\"/images/common/footlink_kcard2.png\" alt=\"K-CARD안내\" /></a>\\r\\n\\t\\t\\t</li>\\r\\n\\t\\t\\t<li><a href=\"http://lib.kookmin.ac.kr?utm_source=www&utm_campaign=Footer요소별클릭&utm_medium=성곡도서관\" target=\"_blank\" title=\"새창열림\">\\r\\n\\t\\t\\t\\t<img src=\"/images/common/footlink_lib2.png\" alt=\"성곡도서관\" /></a>\\r\\n\\t\\t\\t</li>\\r\\n\\t\\t\\t<li><a href=\"http://career.kookmin.ac.kr?utm_source=www&utm_campaign=Footer요소별클릭&utm_medium=경력개발센터\" target=\"_blank\" title=\"새창열림\">\\r\\n\\t\\t\\t\\t<img src=\"/images/common/footlink_career2.png\" alt=\"경력개발센터\" /></a>\\r\\n\\t\\t\\t</li>\\r\\n\\t\\t\\t<li><a href=\"http://fund.kookmin.ac.kr?utm_source=www&utm_campaign=Footer요소별클릭&utm_medium=발전기금\" target=\"_blank\" title=\"새창열림\">\\r\\n\\t\\t\\t\\t<img src=\"/images/common/footlink_fund2.png\" alt=\"발전기금\" /></a>\\r\\n\\t\\t\\t</li>\\r\\n\\t\\t\\t<li><a href=\"http://research.kookmin.ac.kr?utm_source=www&utm_campaign=Footer요소별클릭&utm_medium=산학협력단\" target=\"_blank\" title=\"새창열림\">\\r\\n\\t\\t\\t\\t<img src=\"/images/common/footlink_research2.png\" alt=\"산학협력단\" /></a>\\r\\n\\t\\t\\t</li>\\r\\n\\t\\t\\t<li><a href=\"http://webzine.kookmin.ac.kr?utm_source=www&utm_campaign=Footer요소별클릭&utm_medium=웹진\" target=\"_blank\" title=\"새창열림\">\\r\\n\\t\\t\\t\\t<img src=\"/images/common/footlink_webzine2.png\" alt=\"웹진\" /></a>\\r\\n\\t\\t\\t</li>\\r\\n\\t\\t\\t<li><a class=\"last\" href=\"/site/help.htm?utm_source=www&utm_campaign=Footer요소별클릭&utm_medium=문의하기\" target=\"_blank\" title=\"새창열림\">\\r\\n\\t\\t\\t\\t<img src=\"/images/common/footlink_qna2.png\" alt=\"문의하기\" /></a>\\r\\n\\t\\t\\t</li>\\r\\n\\t\\t</ul>\\r\\n\\t\\t<div class=\"footer-info\">\\r\\n\\t\\t\\t<div class=\"footer-copy\">\\r\\n\\t\\t\\t\\t<address>\\r\\n\\t\\t\\t\\t\\t<p>02707 서울특별시 성북구 정릉로 77 국민대학교 TEL 02.910.4114 </p>\\r\\n\\t\\t\\t\\t\\t<p>KOOKMIN UNIVERSITY, 77 JEONGNEUNG-RO, SEONGBUK-GU, SEOUL, 02707, KOREA</p>\\r\\n\\t\\t\\t\\t</address>\\r\\n\\t\\t\\t\\t<p class=\"copyright\">COPYRIGHT&copy; 2012 <span>KOOKMIN UNIVERSITY.</span> ALL RIGHTS RESERVED.</p>\\r\\n\\t\\t\\t</div>\\r\\n\\t\\t\\t<div class=\"footer-info-link\">\\r\\n\\t\\t\\t\\t<a href=\"http://ck.kookmin.ac.kr\" target=\"_blank\" title=\"새창열림\"><img src=\"/images/common/ck.gif\" alt=\"CK-II\" /></a>\\r\\n\\t\\t\\t\\t<a href=\"http://linc.kookmin.ac.kr\" target=\"_blank\" title=\"새창열림\"><img src=\"/images/common/LINC.gif\" alt=\"LINC\" /></a>\\r\\n\\t\\t\\t\\t<a href=\"https://70.kookmin.ac.kr?utm_source=www&utm_campaign=Footer요소별클릭&utm_medium=70주년엠블렘\" target=\"_blank\" title=\"새창열림\"><img src=\"/images/common/70th.jpg\" alt=\"70주년\" /></a>\\r\\n\\t\\t\\t\\t<!--<a href=\"http://www.kookmin.ac.kr/bbs/plus/1063\" target=\"_blank\" title=\"새창열림\"><img src=\"/images/common/wa.gif\" alt=\"웹접근성\" /></a>-->\\r\\n\\t\\t\\t\\t<a href=\"http://www.kookmin.ac.kr/bbs/plus/1123\" target=\"_blank\" title=\"새창열림\"><img src=\"/images/common/edu.jpg\" alt=\"교육기부기관교육부\" /></a>\\r\\n\\t\\t\\t</div>\\r\\n\\t\\t</div>\\r\\n\\t</div>\\r\\n</div>\\r\\n<!------------------FOR GOOGLE---------------->\\r\\n<script>\\r\\n\\t(function(i,s,o,g,r,a,m){i[\\'GoogleAnalyticsObject\\']=r;i[r]=i[r]||function(){\\r\\n\\t(i[r].q=i[r].q||[]).push(arguments)},i[r].l=1*new Date();a=s.createElement(o),\\r\\n\\tm=s.getElementsByTagName(o)[0];a.async=1;a.src=g;m.parentNode.insertBefore(a,m)\\r\\n\\t})(window,document,\\'script\\',\\'//www.google-analytics.com/analytics.js\\',\\'ga\\');\\r\\n\\tga(\\'create\\', \\'UA-2711216-1\\', \\'auto\\');\\r\\n\\tga(\\'send\\', \\'pageview\\');\\r\\n</script>\\r\\n<!------------------FOR GOOGLE---------------->\\r\\n<!-- <iframe id=\\'contentsFrame\\' title=\"빈프레임\" SRC=\\'/ADMIN/mainhiddenframe/hiddenpage.htm\\' class=\"hide\"></iframe>\\r\\n사용용도가? 20130625 강태희\\r\\n -->\\r\\n <!-- Google 리마케팅 태그 코드 -->\\r\\n<script type=\"text/javascript\">\\r\\n/* <![CDATA[ */\\r\\nvar google_conversion_id = 1060243188;\\r\\nvar google_custom_params = window.google_tag_params;\\r\\nvar google_remarketing_only = true;\\r\\n/* ]]> */\\r\\n</script>\\r\\n<script type=\"text/javascript\" src=\"//www.googleadservices.com/pagead/conversion.js\">\\r\\n</script>\\r\\n<noscript>\\r\\n<div style=\"display:inline;\">\\r\\n<img height=\"1\" width=\"1\" style=\"border-style:none;\" alt=\"\" src=\"//googleads.g.doubleclick.net/pagead/viewthroughconversion/1060243188/?value=0&guid=ON&script=0\"/>\\r\\n</div>\\r\\n</noscript>\\r\\n</body>\\r\\n</html>'"
      ]
     },
     "execution_count": 27,
     "metadata": {},
     "output_type": "execute_result"
    }
   ],
   "source": [
    "response.text"
   ]
  }
 ],
 "metadata": {
  "kernelspec": {
   "display_name": "Python 3",
   "language": "python",
   "name": "python3"
  },
  "language_info": {
   "codemirror_mode": {
    "name": "ipython",
    "version": 3
   },
   "file_extension": ".py",
   "mimetype": "text/x-python",
   "name": "python",
   "nbconvert_exporter": "python",
   "pygments_lexer": "ipython3",
   "version": "3.5.1"
  }
 },
 "nbformat": 4,
 "nbformat_minor": 0
}
