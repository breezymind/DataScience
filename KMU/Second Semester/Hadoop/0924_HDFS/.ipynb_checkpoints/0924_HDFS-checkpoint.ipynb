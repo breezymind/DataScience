{
 "cells": [
  {
   "cell_type": "markdown",
   "metadata": {},
   "source": [
    "# 하둡 분산 파일시스템(HDFS)\n",
    " - 1대의 컴퓨터 ( Client - bulit in Hadoop ) => N대의 머신 ( 서버's work/job )\n",
    " \n",
    "![1.png](photo/1.PNG)\n",
    "![1.png](photo/2.PNG)\n",
    "![1.png](photo/3.PNG)\n",
    "![1.png](photo/4.PNG)\n",
    "![1.png](photo/5.PNG)\n",
    "![1.png](photo/6.PNG)\n",
    "![1.png](photo/7.PNG)\n",
    "![1.png](photo/8.PNG)\n",
    "![1.png](photo/9.PNG)\n",
    "![1.png](photo/10.PNG)\n",
    "![1.png](photo/11.PNG)"
   ]
  }
 ],
 "metadata": {
  "kernelspec": {
   "display_name": "Python [Root]",
   "language": "python",
   "name": "Python [Root]"
  },
  "language_info": {
   "codemirror_mode": {
    "name": "ipython",
    "version": 3
   },
   "file_extension": ".py",
   "mimetype": "text/x-python",
   "name": "python",
   "nbconvert_exporter": "python",
   "pygments_lexer": "ipython3",
   "version": "3.5.2"
  }
 },
 "nbformat": 4,
 "nbformat_minor": 0
}
