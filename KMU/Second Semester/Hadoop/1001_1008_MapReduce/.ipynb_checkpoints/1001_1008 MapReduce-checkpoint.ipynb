{
 "cells": [
  {
   "cell_type": "markdown",
   "metadata": {},
   "source": [
    "# MapReduce ( 분산병렬처리 )\n",
    "## 1. MapReduce 의 개요\n",
    " - MapReduce 정의 \n",
    "  - 하둡분산파일시스템(HDFS) 위에서 운영되는 분산병렬처리시스템\n",
    "  - 개발자를 위한 분산병렬처리 프레임워크\n",
    "  - 하둡분산파일시스템(HDFS) 위에서 운영되는 HDFS는 스토리지 (Data와 프로그램)\n",
    "  - HDFS와 MapReduce의 관계는 신경쓰지 않아도 됨\n",
    "  - HDFS의 Data가 있는 곳에서 MapReduce도 처리됨(없는 경우 알아서 복사, Local Disk에 저장 후 처리)\n",
    " - 분산 병렬 처리 시스템 \n",
    " \n",
    "<img src=\"photo/1.PNG\" width =800 >\n",
    "  \n",
    " - 개발자를 위한 분산병렬처리 프레임워크\n",
    "  - 자동화된 병렬처리 및 분산처리\n",
    "  - Fault-tolerance(내고장성,결함허용)\n",
    "  - 상태 및 모니터링 툴들\n",
    "  - 프로그래머를 위한 추상클래스\n",
    "\n",
    "## 2. MapReduce 프로그래밍 모델\n",
    "  - 함수형 프로그래밍 \n",
    "   - MapReduce 프레임워크에서 제공 \n",
    "   - 기본클래스 확장해서 사용자 프로그램 개발 \n",
    "  - 2가지 함수의 사용자 인터페이스  \n",
    "   - map (in_key, in_value) -> (inter_key, inter_value) list  \n",
    "   - reduce (inter_key, inter_value list) -> (out_key,out_value) list"
   ]
  },
  {
   "cell_type": "markdown",
   "metadata": {},
   "source": [
    "## 3. MapReduce 아키텍처\n",
    " - MapReduce 노드 구성\n",
    " \n",
    " <img src=\"photo/2.PNG\" width=600 align = left>\n",
    " <img src=\"photo/3.PNG\" width=600 align = left>"
   ]
  },
  {
   "cell_type": "markdown",
   "metadata": {},
   "source": [
    "## 4. MapReduce 처리 방식\n",
    "\n",
    "<img src=\"photo/4.PNG\">\n",
    "<img src=\"photo/5.PNG\">\n",
    "<img src=\"photo/6.PNG\">\n",
    "<img src=\"photo/7.PNG\">\n",
    "<img src=\"photo/8.PNG\">\n",
    "<img src=\"photo/9.PNG\">\n",
    "<img src=\"photo/10.PNG\">\n",
    "<img src=\"photo/11.PNG\">\n",
    "<img src=\"photo/12.PNG\">\n",
    "<img src=\"photo/13.PNG\">\n",
    "<img src=\"photo/14.PNG\">\n",
    "<img src=\"photo/15.PNG\">\n",
    "<img src=\"photo/16.PNG\">\n",
    "<img src=\"photo/17.PNG\">"
   ]
  },
  {
   "cell_type": "markdown",
   "metadata": {},
   "source": [
    "## 5. MapReduce Flow와 성능\n",
    "<img src=\"photo/18.PNG\">"
   ]
  }
 ],
 "metadata": {
  "kernelspec": {
   "display_name": "Python [work]",
   "language": "python",
   "name": "Python [work]"
  },
  "language_info": {
   "codemirror_mode": {
    "name": "ipython",
    "version": 3
   },
   "file_extension": ".py",
   "mimetype": "text/x-python",
   "name": "python",
   "nbconvert_exporter": "python",
   "pygments_lexer": "ipython3",
   "version": "3.5.2"
  }
 },
 "nbformat": 4,
 "nbformat_minor": 0
}
