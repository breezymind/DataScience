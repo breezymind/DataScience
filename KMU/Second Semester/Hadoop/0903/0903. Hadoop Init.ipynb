{
 "cells": [
  {
   "cell_type": "markdown",
   "metadata": {},
   "source": [
    "# Hadoop "
   ]
  },
  {
   "cell_type": "markdown",
   "metadata": {},
   "source": [
    "## 단일 컴퓨터 \n",
    " - 문제\n",
    "  1. Data Size > 해결가능한 문제라고 생각 된다.\n",
    "  2. RunTime Over > 해결할 수 있는 방법이 없다. \n",
    " - R, Python 단일 컴퓨터에서 분석을 할때 사용하는 언어 "
   ]
  },
  {
   "cell_type": "markdown",
   "metadata": {},
   "source": [
    "# N 컴퓨팅 \n",
    " - N대의 머신으로 <b><i>하둡 클러스터 </i></b> 생성.\n",
    " - 머신 : 서버 \n",
    " - 하둡 : 분산병렬처리가 가능한 오픈소스 기술 \n",
    " - Spark : Java, Python, Scala 지원 -> R로 공부한 통계/Mining 이 구성되어 있다."
   ]
  }
 ],
 "metadata": {
  "anaconda-cloud": {},
  "kernelspec": {
   "display_name": "Python [py35]",
   "language": "python",
   "name": "Python [py35]"
  },
  "language_info": {
   "codemirror_mode": {
    "name": "ipython",
    "version": 3
   },
   "file_extension": ".py",
   "mimetype": "text/x-python",
   "name": "python",
   "nbconvert_exporter": "python",
   "pygments_lexer": "ipython3",
   "version": "3.5.2"
  }
 },
 "nbformat": 4,
 "nbformat_minor": 0
}
