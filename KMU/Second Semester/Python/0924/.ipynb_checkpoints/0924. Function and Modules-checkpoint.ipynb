{
 "cells": [
  {
   "cell_type": "markdown",
   "metadata": {},
   "source": [
    "# File I/O \n",
    "## 쓰기 모드로 파일 열기 "
   ]
  },
  {
   "cell_type": "code",
   "execution_count": 1,
   "metadata": {
    "collapsed": true
   },
   "outputs": [],
   "source": [
    "f = open('hello.txt','w')"
   ]
  },
  {
   "cell_type": "code",
   "execution_count": 3,
   "metadata": {
    "collapsed": true
   },
   "outputs": [],
   "source": [
    "f.close()"
   ]
  },
  {
   "cell_type": "markdown",
   "metadata": {},
   "source": [
    "## with 구문 \n",
    " - 파일을 자동으로 닫아주는 것. "
   ]
  },
  {
   "cell_type": "code",
   "execution_count": 5,
   "metadata": {
    "collapsed": true
   },
   "outputs": [],
   "source": [
    "with open('hello.txt','w') as f:\n",
    "    pass"
   ]
  },
  {
   "cell_type": "code",
   "execution_count": 6,
   "metadata": {
    "collapsed": true
   },
   "outputs": [],
   "source": [
    "with open('hello.txt','w') as f:\n",
    "    f.write(\"안녕하세요\")"
   ]
  },
  {
   "cell_type": "markdown",
   "metadata": {},
   "source": [
    "# 인코딩\n",
    "- 인코딩이란 텍스트를 저장하는 방법이다. 한글의 경우 대표적으로 cp949와 utf8이 있다. 윈도의 경우 cp949가 기본이며 맥과 리눅스는 utf8이 기본이다."
   ]
  },
  {
   "cell_type": "code",
   "execution_count": 7,
   "metadata": {
    "collapsed": true
   },
   "outputs": [],
   "source": [
    "with open('hello.txt', 'w', encoding='utf8') as f:\n",
    "    f.write('안녕하세요')"
   ]
  },
  {
   "cell_type": "markdown",
   "metadata": {},
   "source": [
    "# CSV 파일"
   ]
  },
  {
   "cell_type": "code",
   "execution_count": 8,
   "metadata": {
    "collapsed": true
   },
   "outputs": [],
   "source": [
    "with open('hello.csv', 'w') as f:\n",
    "    f.write('1,2,3\\n')\n",
    "    f.write('4,5,6\\n')"
   ]
  },
  {
   "cell_type": "markdown",
   "metadata": {},
   "source": [
    "# csv 모듈 사용"
   ]
  },
  {
   "cell_type": "code",
   "execution_count": 2,
   "metadata": {
    "collapsed": true
   },
   "outputs": [],
   "source": [
    "import csv\n",
    "with open('hello.csv', 'w', newline='') as f:\n",
    "    w = csv.writer(f)\n",
    "    w.writerow([1, 2, 3])\n",
    "    w.writerow([1, 2, 3])"
   ]
  },
  {
   "cell_type": "markdown",
   "metadata": {
    "collapsed": true
   },
   "source": [
    " - 여러줄을 한꺼번에 사용."
   ]
  },
  {
   "cell_type": "code",
   "execution_count": 5,
   "metadata": {
    "collapsed": false
   },
   "outputs": [],
   "source": [
    "with open('hello2.csv', 'w', newline='') as f:\n",
    "    w = csv.writer(f)\n",
    "    w.writerows([[1, 2, 3],[4,5,6],[7,8,9]])"
   ]
  },
  {
   "cell_type": "markdown",
   "metadata": {},
   "source": [
    "# 파일 읽기 "
   ]
  },
  {
   "cell_type": "code",
   "execution_count": 6,
   "metadata": {
    "collapsed": false
   },
   "outputs": [
    {
     "name": "stdout",
     "output_type": "stream",
     "text": [
      "1,2,3\n",
      "1,2,3\n",
      "\n"
     ]
    }
   ],
   "source": [
    "with open('hello.csv') as f:\n",
    "    print(f.read())"
   ]
  },
  {
   "cell_type": "code",
   "execution_count": 7,
   "metadata": {
    "collapsed": false
   },
   "outputs": [
    {
     "name": "stdout",
     "output_type": "stream",
     "text": [
      "['1,2,3\\n', '1,2,3\\n']\n"
     ]
    }
   ],
   "source": [
    "with open('hello.csv') as f:\n",
    "    print(f.readlines())"
   ]
  },
  {
   "cell_type": "code",
   "execution_count": 9,
   "metadata": {
    "collapsed": false
   },
   "outputs": [
    {
     "name": "stdout",
     "output_type": "stream",
     "text": [
      "[['1', '2', '3'], ['4', '5', '6'], ['7', '8', '9']]\n"
     ]
    }
   ],
   "source": [
    "with open('hello2.csv') as f:\n",
    "    r = csv.reader(f)\n",
    "    print(list(r))"
   ]
  },
  {
   "cell_type": "markdown",
   "metadata": {},
   "source": [
    "# 파일 열기 모드의 종류\n",
    "- 'r': 읽기 모드 (기본)\n",
    "- 'w': 쓰기 모드\n",
    "- 'a': 추가 모드 (기존 파일의 끝에 내용을 추가)\n",
    "\n",
    "# 텍스트 파일 이외의 경우(그림, 음악, 동영상 등)는 바이너리 모드를 사용한다\n",
    "- 'rb': 바이너리 읽기 모드\n",
    "- 'wb': 바이너리 쓰기 모드\n",
    "- 'ab': 바이너리 추가 모드 (기존 파일의 끝에 내용을 추가)"
   ]
  },
  {
   "cell_type": "markdown",
   "metadata": {},
   "source": [
    "# 함수"
   ]
  },
  {
   "cell_type": "code",
   "execution_count": 10,
   "metadata": {
    "collapsed": false
   },
   "outputs": [
    {
     "data": {
      "text/plain": [
       "3"
      ]
     },
     "execution_count": 10,
     "metadata": {},
     "output_type": "execute_result"
    }
   ],
   "source": [
    "len([1, 2, 3])"
   ]
  },
  {
   "cell_type": "code",
   "execution_count": 11,
   "metadata": {
    "collapsed": true
   },
   "outputs": [],
   "source": [
    "def len2(xs):      # xs를 입력으로 받는다\n",
    "    i = 0\n",
    "    for x in xs:   # xs의 각각에 대해 반복하여\n",
    "        i = i + 1  # i에 1을 더한다\n",
    "    return i       # i를 출력으로 돌려준다"
   ]
  },
  {
   "cell_type": "code",
   "execution_count": 12,
   "metadata": {
    "collapsed": false
   },
   "outputs": [
    {
     "data": {
      "text/plain": [
       "3"
      ]
     },
     "execution_count": 12,
     "metadata": {},
     "output_type": "execute_result"
    }
   ],
   "source": [
    "len2([1, 2, 3])"
   ]
  }
 ],
 "metadata": {
  "anaconda-cloud": {},
  "kernelspec": {
   "display_name": "Python [Root]",
   "language": "python",
   "name": "Python [Root]"
  },
  "language_info": {
   "codemirror_mode": {
    "name": "ipython",
    "version": 3
   },
   "file_extension": ".py",
   "mimetype": "text/x-python",
   "name": "python",
   "nbconvert_exporter": "python",
   "pygments_lexer": "ipython3",
   "version": "3.5.2"
  }
 },
 "nbformat": 4,
 "nbformat_minor": 0
}
