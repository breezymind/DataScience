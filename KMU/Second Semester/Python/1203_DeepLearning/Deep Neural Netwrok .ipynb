{
 "cells": [
  {
   "cell_type": "markdown",
   "metadata": {},
   "source": [
    "# Deep Neural Network"
   ]
  },
  {
   "cell_type": "code",
   "execution_count": 1,
   "metadata": {
    "collapsed": true
   },
   "outputs": [],
   "source": [
    "import tensorflow as tf\n",
    "import tensorlayer as tl "
   ]
  },
  {
   "cell_type": "markdown",
   "metadata": {},
   "source": [
    "## TensorFlow로 논리 문제 풀어보기"
   ]
  },
  {
   "cell_type": "markdown",
   "metadata": {},
   "source": [
    "### 기본 그래프 만들기\n",
    " - GPU 에서 이산형 데이터 연산이 빠르다. Core수가 多.\n",
    " - 그래프 형태로 식을 구성한다. ( 중위계산식 형태로 ) \n",
    " - <img src=\"https://upload.wikimedia.org/wikipedia/commons/thumb/6/67/Sorted_binary_tree.svg/500px-Sorted_binary_tree.svg.png\" width=500>"
   ]
  },
  {
   "cell_type": "code",
   "execution_count": 3,
   "metadata": {
    "collapsed": true
   },
   "outputs": [],
   "source": [
    "tf.reset_default_graph()\n",
    "tl.layers.set_name_reuse(enable=True)"
   ]
  },
  {
   "cell_type": "markdown",
   "metadata": {},
   "source": [
    "## 신경망 만들기"
   ]
  },
  {
   "cell_type": "code",
   "execution_count": 4,
   "metadata": {
    "collapsed": true
   },
   "outputs": [],
   "source": [
    "x = tf.placeholder(tf.float32, [None, 2]) # 입력 데이터"
   ]
  },
  {
   "cell_type": "code",
   "execution_count": 5,
   "metadata": {
    "collapsed": false
   },
   "outputs": [
    {
     "name": "stdout",
     "output_type": "stream",
     "text": [
      "  tensorlayer:Instantiate InputLayer  input_layer: (?, 2)\n"
     ]
    }
   ],
   "source": [
    "network = tl.layers.InputLayer(x) # 입력층"
   ]
  },
  {
   "cell_type": "markdown",
   "metadata": {},
   "source": [
    " - Hidden Layer 숫자를 증가.\n",
    " - 빡빡한 신호 : DenseLayer\n",
    " - 덜빡빡 : SparseLayer\n",
    " - n_units : 세포의 수"
   ]
  },
  {
   "cell_type": "code",
   "execution_count": 6,
   "metadata": {
    "collapsed": false
   },
   "outputs": [
    {
     "name": "stdout",
     "output_type": "stream",
     "text": [
      "  tensorlayer:Instantiate DenseLayer  hidden: 2, sigmoid\n"
     ]
    }
   ],
   "source": [
    "network = tl.layers.DenseLayer(network, n_units=2, act=tf.sigmoid, name=\"hidden\") # 은닉층"
   ]
  },
  {
   "cell_type": "markdown",
   "metadata": {},
   "source": [
    "  - denseLayer 추가\n",
    "  - output 1"
   ]
  },
  {
   "cell_type": "code",
   "execution_count": 7,
   "metadata": {
    "collapsed": false
   },
   "outputs": [
    {
     "name": "stdout",
     "output_type": "stream",
     "text": [
      "  tensorlayer:Instantiate DenseLayer  output: 1, sigmoid\n"
     ]
    }
   ],
   "source": [
    "network = tl.layers.DenseLayer(network, n_units=1, act=tf.sigmoid, name=\"output\") # 출력층"
   ]
  },
  {
   "cell_type": "markdown",
   "metadata": {},
   "source": [
    "## 비용"
   ]
  },
  {
   "cell_type": "code",
   "execution_count": 8,
   "metadata": {
    "collapsed": true
   },
   "outputs": [],
   "source": [
    "predict = network.outputs # 예측값"
   ]
  },
  {
   "cell_type": "code",
   "execution_count": 9,
   "metadata": {
    "collapsed": true
   },
   "outputs": [],
   "source": [
    "y = tf.placeholder(tf.float32, [None, 1]) # 실제 값"
   ]
  },
  {
   "cell_type": "code",
   "execution_count": 11,
   "metadata": {
    "collapsed": true
   },
   "outputs": [],
   "source": [
    "cost = tl.cost.binary_cross_entropy(network.outputs, y)"
   ]
  },
  {
   "cell_type": "markdown",
   "metadata": {},
   "source": [
    "## 데이터 설정"
   ]
  },
  {
   "cell_type": "code",
   "execution_count": 12,
   "metadata": {
    "collapsed": true
   },
   "outputs": [],
   "source": [
    "import numpy"
   ]
  },
  {
   "cell_type": "code",
   "execution_count": 13,
   "metadata": {
    "collapsed": true
   },
   "outputs": [],
   "source": [
    "xdata = numpy.array([[0, 0], [1, 0], [0, 1], [1, 1]])\n",
    "ydata = numpy.array([0, 1, 1, 0]).reshape((4, 1))\n",
    "data = {x: xdata, y: ydata}"
   ]
  },
  {
   "cell_type": "markdown",
   "metadata": {},
   "source": [
    "## 경사하강법\n",
    " - learning_rate가 너무 작으면 학습 속도가 느리고, 너무 높으면 학습이 불안정하게 된다. 적당히 잘 설정할 것"
   ]
  },
  {
   "cell_type": "code",
   "execution_count": 18,
   "metadata": {
    "collapsed": true
   },
   "outputs": [],
   "source": [
    "gd = tf.train.RMSPropOptimizer(learning_rate=0.01, momentum=0.9)\n",
    "train_step = gd.minimize(cost)    # cost를 최소화한다"
   ]
  },
  {
   "cell_type": "markdown",
   "metadata": {},
   "source": [
    "## 세션과 변수 초기화"
   ]
  },
  {
   "cell_type": "code",
   "execution_count": 20,
   "metadata": {
    "collapsed": true
   },
   "outputs": [],
   "source": [
    "session = tf.InteractiveSession()\n",
    "session.run(tf.global_variables_initializer())"
   ]
  },
  {
   "cell_type": "markdown",
   "metadata": {},
   "source": [
    "## 그래프를 세션에서 실행"
   ]
  },
  {
   "cell_type": "code",
   "execution_count": 21,
   "metadata": {
    "collapsed": false
   },
   "outputs": [
    {
     "data": {
      "text/plain": [
       "array([[ 0.5088703 ],\n",
       "       [ 0.50872016],\n",
       "       [ 0.50812256],\n",
       "       [ 0.50797236]], dtype=float32)"
      ]
     },
     "execution_count": 21,
     "metadata": {},
     "output_type": "execute_result"
    }
   ],
   "source": [
    "predict.eval(data)  # 초기 예측값"
   ]
  },
  {
   "cell_type": "code",
   "execution_count": 22,
   "metadata": {
    "collapsed": false
   },
   "outputs": [
    {
     "data": {
      "text/plain": [
       "0.69328928"
      ]
     },
     "execution_count": 22,
     "metadata": {},
     "output_type": "execute_result"
    }
   ],
   "source": [
    "cost.eval(data)  # 초기 비용"
   ]
  },
  {
   "cell_type": "markdown",
   "metadata": {},
   "source": [
    "## 한 단계 학습"
   ]
  },
  {
   "cell_type": "code",
   "execution_count": 24,
   "metadata": {
    "collapsed": false
   },
   "outputs": [],
   "source": [
    "train_step.run(data)"
   ]
  },
  {
   "cell_type": "code",
   "execution_count": 25,
   "metadata": {
    "collapsed": false
   },
   "outputs": [
    {
     "data": {
      "text/plain": [
       "array([[ 0.5087719 ],\n",
       "       [ 0.50862074],\n",
       "       [ 0.50802481],\n",
       "       [ 0.50787354]], dtype=float32)"
      ]
     },
     "execution_count": 25,
     "metadata": {},
     "output_type": "execute_result"
    }
   ],
   "source": [
    "predict.eval(data)  # 예측이 변화"
   ]
  },
  {
   "cell_type": "code",
   "execution_count": 26,
   "metadata": {
    "collapsed": false
   },
   "outputs": [
    {
     "data": {
      "text/plain": [
       "0.69328594"
      ]
     },
     "execution_count": 26,
     "metadata": {},
     "output_type": "execute_result"
    }
   ],
   "source": [
    "cost.eval(data)  # 비용이 감소한 것을 확인"
   ]
  },
  {
   "cell_type": "markdown",
   "metadata": {},
   "source": [
    "## 반복해서 학습"
   ]
  },
  {
   "cell_type": "code",
   "execution_count": 27,
   "metadata": {
    "collapsed": false
   },
   "outputs": [
    {
     "name": "stdout",
     "output_type": "stream",
     "text": [
      "Start training the network ...\n",
      "Epoch 1 of 1000 took 0.015993s, loss 0.693286\n",
      "Epoch 100 of 1000 took 0.001001s, loss 0.693147\n",
      "Epoch 200 of 1000 took 0.001119s, loss 0.544593\n",
      "Epoch 300 of 1000 took 0.001000s, loss 0.007518\n",
      "Epoch 400 of 1000 took 0.000998s, loss 0.000291\n",
      "Epoch 500 of 1000 took 0.001001s, loss 0.000017\n",
      "Epoch 600 of 1000 took 0.001001s, loss 0.000006\n",
      "Epoch 700 of 1000 took 0.001000s, loss 0.000003\n",
      "Epoch 800 of 1000 took 0.001001s, loss 0.000002\n",
      "Epoch 900 of 1000 took 0.001000s, loss 0.000002\n",
      "Epoch 1000 of 1000 took 0.000000s, loss 0.000002\n",
      "Total training time: 0.607548s\n"
     ]
    }
   ],
   "source": [
    "tl.utils.fit(session, network, train_step, cost, xdata, ydata, x, y,\n",
    "             batch_size=4,  # 한 번에 4개의 데이터 학습\n",
    "             n_epoch=1000,  # 최대 1000회까지\n",
    "             print_freq=100 # 100번 학습마다 비용을 출력\n",
    "             )"
   ]
  },
  {
   "cell_type": "code",
   "execution_count": 29,
   "metadata": {
    "collapsed": false
   },
   "outputs": [
    {
     "data": {
      "text/plain": [
       "array([[  1.41387443e-06],\n",
       "       [  9.99998569e-01],\n",
       "       [  9.99997854e-01],\n",
       "       [  1.39052952e-06]], dtype=float32)"
      ]
     },
     "execution_count": 29,
     "metadata": {},
     "output_type": "execute_result"
    }
   ],
   "source": [
    "predict.eval(data)  # 최종 예측"
   ]
  },
  {
   "cell_type": "code",
   "execution_count": 31,
   "metadata": {
    "collapsed": true
   },
   "outputs": [],
   "source": [
    "numpy.set_printoptions(suppress=True)"
   ]
  },
  {
   "cell_type": "code",
   "execution_count": 32,
   "metadata": {
    "collapsed": false
   },
   "outputs": [
    {
     "data": {
      "text/plain": [
       "array([[ 0.00000141],\n",
       "       [ 0.99999857],\n",
       "       [ 0.99999785],\n",
       "       [ 0.00000139]], dtype=float32)"
      ]
     },
     "execution_count": 32,
     "metadata": {},
     "output_type": "execute_result"
    }
   ],
   "source": [
    "predict.eval(data)"
   ]
  }
 ],
 "metadata": {
  "kernelspec": {
   "display_name": "Python [py35]",
   "language": "python",
   "name": "Python [py35]"
  },
  "language_info": {
   "codemirror_mode": {
    "name": "ipython",
    "version": 3
   },
   "file_extension": ".py",
   "mimetype": "text/x-python",
   "name": "python",
   "nbconvert_exporter": "python",
   "pygments_lexer": "ipython3",
   "version": "3.5.2"
  }
 },
 "nbformat": 4,
 "nbformat_minor": 0
}
