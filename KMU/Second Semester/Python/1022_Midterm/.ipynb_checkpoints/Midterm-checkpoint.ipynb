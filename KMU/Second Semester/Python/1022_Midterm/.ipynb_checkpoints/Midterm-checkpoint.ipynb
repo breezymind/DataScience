{
 "cells": [
  {
   "cell_type": "markdown",
   "metadata": {},
   "source": [
    "# Midterm \n",
    " - 기한 11월 4일 "
   ]
  },
  {
   "cell_type": "markdown",
   "metadata": {},
   "source": [
    "## 문제1: 문자열 속 숫자들의 합 구하기\n",
    "- 정의\n",
    " - 여러 숫자들을 쉼표(,)로 구분한 문자열(예: '1,7,4,6,2')을 받아 숫자들의 합을 반환하는 함수 sum_str을 작성하십시오.\n",
    "\n",
    "- 조건\n",
    " - 문자열에 포함될 수 있는 수의 개수에는 제한이 없습니다.\n",
    " - 문자열에 포함되는 수는 항상 정수(int)입니다.\n",
    " - 계산결과는 정수(int)로 반환해야 합니다."
   ]
  },
  {
   "cell_type": "code",
   "execution_count": 1,
   "metadata": {
    "collapsed": true
   },
   "outputs": [],
   "source": [
    "def sum_str(string):\n",
    "    string = [float(i) for i in string.split(\",\")]\n",
    "    return sum(string)"
   ]
  },
  {
   "cell_type": "markdown",
   "metadata": {},
   "source": [
    " - 조금 더 세련된 방법으로 "
   ]
  },
  {
   "cell_type": "code",
   "execution_count": 4,
   "metadata": {
    "collapsed": true
   },
   "outputs": [],
   "source": [
    "def sum_str2(string):\n",
    "    from functools import reduce\n",
    "    return reduce(lambda x,y : float(x)+float(y), string.split(\",\"))"
   ]
  },
  {
   "cell_type": "code",
   "execution_count": 4,
   "metadata": {
    "collapsed": false
   },
   "outputs": [
    {
     "data": {
      "text/plain": [
       "8.0"
      ]
     },
     "execution_count": 4,
     "metadata": {},
     "output_type": "execute_result"
    }
   ],
   "source": [
    "sum_str(\"1,2,3,4,-2\")"
   ]
  },
  {
   "cell_type": "code",
   "execution_count": 6,
   "metadata": {
    "collapsed": false
   },
   "outputs": [
    {
     "data": {
      "text/plain": [
       "8.0"
      ]
     },
     "execution_count": 6,
     "metadata": {},
     "output_type": "execute_result"
    }
   ],
   "source": [
    "sum_str2(\"1,2,3,4,-2\")"
   ]
  },
  {
   "cell_type": "markdown",
   "metadata": {},
   "source": [
    "## 문제2: 설날까지 남은 시간\n",
    " - 정의 \n",
    "  - 다음 설날을 2017년 1월 30일입니다. 실행하면 설날 0시 0분까지 남은 날(days)을 계산해주는 함수 until_new_year을 작성하십시오.\n",
    "\n",
    " - 조건\n",
    " - 지구 상 어느 지역에서 실행하더라도 한국 기준 설날까지 남은 날을 계산해야 합니다\n",
    " - 남은 시간은 정수(int) 형태로 반환해야 합니다"
   ]
  },
  {
   "cell_type": "code",
   "execution_count": 6,
   "metadata": {
    "collapsed": true
   },
   "outputs": [],
   "source": [
    "def until_new_year():\n",
    "    import arrow\n",
    "    Next_Newyear = arrow.get(\"2017-01-30 00:00:00\", 'YYYY-MM-DD HH:mm:ss').replace(tzinfo='Asia/Seoul')\n",
    "    Now = arrow.now('Asia/Seoul')\n",
    "    #Gap = arrow.get(Next_Newyear - Now)\n",
    "    return((Next_Newyear - Now).days)"
   ]
  },
  {
   "cell_type": "code",
   "execution_count": 9,
   "metadata": {
    "collapsed": false,
    "scrolled": true
   },
   "outputs": [
    {
     "data": {
      "text/plain": [
       "89"
      ]
     },
     "execution_count": 9,
     "metadata": {},
     "output_type": "execute_result"
    }
   ],
   "source": [
    "until_new_year()"
   ]
  },
  {
   "cell_type": "markdown",
   "metadata": {},
   "source": [
    "# 문제3: UserAgentString 분석\n",
    "## 정의\n",
    "인터넷을 할 때 사용하는 웹 브라우저(예: 인터넷 익스플로러, 크롬, 파이어폭스, 사파리 등)은 웹 브라우저의 종류와 버전을 알려주는 고유한 UserAgentString을 가집니다. 몇 가지 예를 살펴보면 아래와 같습니다.\n",
    "\n",
    "- IE 11.0: Mozilla/5.0 (Windows NT 6.1; WOW64; Trident/7.0; AS; rv:11.0) like Gecko\n",
    "- IE 10.0: Mozilla/5.0 (compatible; MSIE 10.0; Windows NT 6.1; Trident/6.0)\n",
    "- Chrome 41.0.2228.0 Mozilla/5.0 (Windows NT 6.1) AppleWebKit/537.36 (KHTML, like Gecko) Chrome/41.0.2228.0 Safari/537.36\n",
    "- Safari 7.0.3: Mozilla/5.0 (Macintosh; Intel Mac OS X 10_9_3) AppleWebKit/537.75.14 (KHTML, like Gecko) Version/7.0.3 Safari/7046A194A\n",
    "- Firefox 40.1: Mozilla/5.0 (Windows NT 6.1; WOW64; rv:40.0) Gecko/20100101 Firefox/40.1\n",
    "\n",
    "더 많은 예시는 아래 링크에서 볼 수 있습니다.\n",
    "- <a href=\"http://www.useragentstring.com/pages/useragentstring.php?name=Internet+Explorer\"> Explore </a>\n",
    "- <a href=\"http://www.useragentstring.com/pages/useragentstring.php?name=Firefox\"> Firefox </a>\n",
    "- <a href=\"http://www.useragentstring.com/pages/useragentstring.php?name=Safari\"> Safari </a>\n",
    "- <a href=\"http://www.useragentstring.com/pages/useragentstring.php?name=Chrome\"> Chrome </a>\n",
    "\n",
    "UserAgentString이 주어졌을 때 인터넷 익스플로러이면 'I', 크롬이면 'C', 파이어폭스면 'F', 사파리면 'S'을 반환하는 함수 ua_string을 작성하십시오.\n",
    "\n",
    "## 조건\n",
    " - UserAgentString은 위 4종류 중에 하나만 주어집니다\n",
    " - 반환값은 위에 정의된대로 문자열(str)로 대문자 1글자이어야 합니다\n",
    " \n",
    "## 예\n",
    "함수 ua_string의 실행례는 아래와 같습니다.\n",
    "\n",
    "- assert ua_string('Mozilla/5.0 (compatible; MSIE 10.0; Windows NT 6.1; Trident/6.0)') == 'I'"
   ]
  },
  {
   "cell_type": "markdown",
   "metadata": {},
   "source": [
    "## 해결방안\n",
    " - Explorer 는 MSIE (Micro Softe Internet Explorer) 가 있다. 문장에 \n",
    " - Chrome 은 Safari + Chrome이 존재 한다. \n",
    " - FireFox는 FireFox가 존재한다 \n",
    " - Safari 는 Safari만 존재. "
   ]
  },
  {
   "cell_type": "code",
   "execution_count": 18,
   "metadata": {
    "collapsed": false
   },
   "outputs": [],
   "source": [
    "def ua_string(browser):\n",
    "    import re\n",
    "    browser = browser.lower()\n",
    "    explorer = re.compile(\"msie\")\n",
    "    chrome = re.compile(\"chrome\")\n",
    "    safari = re.compile(\"safari\")\n",
    "    firefox = re.compile(\"firefox\")\n",
    "    resultOfexplorer = re.search(explorer, browser)\n",
    "    resultOfchrome = re.search(chrome, browser)\n",
    "    resultOfsafari = re.search(safari, browser)\n",
    "    resultOffirefox = re.search(firefox, browser)\n",
    "\n",
    "    if resultOfexplorer:\n",
    "        return \"I\"\n",
    "    if resultOffirefox:\n",
    "        return \"F\"\n",
    "    if resultOfchrome:\n",
    "        return \"C\"\n",
    "    if resultOfsafari:\n",
    "        return \"S\"\n",
    "    return \"None of them\""
   ]
  },
  {
   "cell_type": "code",
   "execution_count": 19,
   "metadata": {
    "collapsed": false,
    "scrolled": true
   },
   "outputs": [
    {
     "name": "stdout",
     "output_type": "stream",
     "text": [
      "I\n",
      "S\n"
     ]
    }
   ],
   "source": [
    "print(ua_string('Mozilla/5.0 (compatible; MSIE 10.0; Windows NT 6.1; Trident/6.0)'))\n",
    "print(ua_string('Mozilla/5.0 (Macintosh; Intel Mac OS X 10_9_3) AppleWebKit/537.75.14 (KHTML, like Gecko) Version/7.0.3 Safari/7046A194A'))"
   ]
  },
  {
   "cell_type": "code",
   "execution_count": 20,
   "metadata": {
    "collapsed": false
   },
   "outputs": [],
   "source": [
    "def ua_string2(browser):\n",
    "    from collections import OrderedDict\n",
    "    browserContext = browser.lower()\n",
    "    listOfbrowser = OrderedDict([('msie', 'I'), ('chrome', 'C'),('safari','S'),('firefox','F')])\n",
    "    for browser,Init in listOfbrowser.items():\n",
    "        if browser in browserContext:\n",
    "            return Init"
   ]
  },
  {
   "cell_type": "code",
   "execution_count": 21,
   "metadata": {
    "collapsed": false
   },
   "outputs": [
    {
     "name": "stdout",
     "output_type": "stream",
     "text": [
      "I\n",
      "S\n",
      "C\n"
     ]
    }
   ],
   "source": [
    "#ua_string2('Mozilla/5.0 (Macintosh; Intel Mac OS X 10_9_3) AppleWebKit/537.75.14 (KHTML, like Gecko) Version/7.0.3 Safari/7046A194A')\n",
    "print(ua_string2('Mozilla/5.0 (compatible; MSIE 10.0; Windows NT 6.1; Trident/6.0)'))\n",
    "print(ua_string2('Mozilla/5.0 (Macintosh; Intel Mac OS X 10_9_3) AppleWebKit/537.75.14 (KHTML, like Gecko) Version/7.0.3 Safari/7046A194A'))\n",
    "print(ua_string2('Mozilla/5.0 (Windows NT 6.1) AppleWebKit/537.36 (KHTML, like Gecko) Chrome/41.0.2228.0 Safari/537.36'))"
   ]
  },
  {
   "cell_type": "markdown",
   "metadata": {},
   "source": [
    "# 문제4: 결측값 제거\n",
    "## 정의\n",
    "데이터 분석을 할 때 결측값(missing value)이 흔히 관찰됩니다. 많은 통계 기법은 결측값이 포함되어 있으면 계산을 할 수 없습니다. 결측값을 다루는 한 가지 방법은 데이터에서 결측값이 포함된 행을 삭제하는 것입니다. 이 방법은 간단하지만, 결측값이 체계적으로 발생할 경우 분석에 편향을 가져올 수 있습니다.\n",
    "\n",
    "우리는 pandas의 DataFrame에서 한 행의 모든 값이 결측된 경우에만 그 행을 제거하고자 합니다. DataFrame을 하나 받아 이를 수행하는 함수 del_nan_row를 작성하십시오."
   ]
  },
  {
   "cell_type": "markdown",
   "metadata": {},
   "source": [
    "## 예"
   ]
  },
  {
   "cell_type": "code",
   "execution_count": 23,
   "metadata": {
    "collapsed": false
   },
   "outputs": [],
   "source": [
    "import pandas as pd\n",
    "import numpy as np"
   ]
  },
  {
   "cell_type": "code",
   "execution_count": 27,
   "metadata": {
    "collapsed": false
   },
   "outputs": [
    {
     "data": {
      "text/html": [
       "<div>\n",
       "<table border=\"1\" class=\"dataframe\">\n",
       "  <thead>\n",
       "    <tr style=\"text-align: right;\">\n",
       "      <th></th>\n",
       "      <th>a</th>\n",
       "      <th>b</th>\n",
       "    </tr>\n",
       "  </thead>\n",
       "  <tbody>\n",
       "    <tr>\n",
       "      <th>0</th>\n",
       "      <td>1.0</td>\n",
       "      <td>3.0</td>\n",
       "    </tr>\n",
       "    <tr>\n",
       "      <th>1</th>\n",
       "      <td>NaN</td>\n",
       "      <td>4.0</td>\n",
       "    </tr>\n",
       "    <tr>\n",
       "      <th>2</th>\n",
       "      <td>NaN</td>\n",
       "      <td>NaN</td>\n",
       "    </tr>\n",
       "  </tbody>\n",
       "</table>\n",
       "</div>"
      ],
      "text/plain": [
       "     a    b\n",
       "0  1.0  3.0\n",
       "1  NaN  4.0\n",
       "2  NaN  NaN"
      ]
     },
     "execution_count": 27,
     "metadata": {},
     "output_type": "execute_result"
    }
   ],
   "source": [
    "d = pd.DataFrame({'a': [1, np.nan, np.nan],  'b': [3, 4, np.nan]})\n",
    "d"
   ]
  },
  {
   "cell_type": "code",
   "execution_count": 25,
   "metadata": {
    "collapsed": true
   },
   "outputs": [],
   "source": [
    "def del_nan_row(DF):\n",
    "    import pandas as pd\n",
    "    import numpy as np\n",
    "    if isinstance(DF, pd.DataFrame):\n",
    "        return DF.dropna(how=\"all\")\n",
    "    else:\n",
    "        return \"It's not PanDas DataFrame\""
   ]
  },
  {
   "cell_type": "code",
   "execution_count": 28,
   "metadata": {
    "collapsed": false
   },
   "outputs": [
    {
     "name": "stdout",
     "output_type": "stream",
     "text": [
      "     a    b\n",
      "0  1.0  3.0\n",
      "1  NaN  4.0\n"
     ]
    }
   ],
   "source": [
    "d = del_nan_row(d)\n",
    "print(d)"
   ]
  },
  {
   "cell_type": "code",
   "execution_count": 29,
   "metadata": {
    "collapsed": false
   },
   "outputs": [
    {
     "data": {
      "text/plain": [
       "0    0\n",
       "1    1\n",
       "2    2\n",
       "3    3\n",
       "4    4\n",
       "5    5\n",
       "6    6\n",
       "7    7\n",
       "8    8\n",
       "9    9\n",
       "dtype: int32"
      ]
     },
     "execution_count": 29,
     "metadata": {},
     "output_type": "execute_result"
    }
   ],
   "source": [
    "c = pd.Series(range(10),index=range(10))\n",
    "c"
   ]
  },
  {
   "cell_type": "code",
   "execution_count": 30,
   "metadata": {
    "collapsed": false
   },
   "outputs": [
    {
     "name": "stdout",
     "output_type": "stream",
     "text": [
      "It's not PanDas DataFrame\n"
     ]
    }
   ],
   "source": [
    "c = del_nan_row(c)\n",
    "print(c)"
   ]
  }
 ],
 "metadata": {
  "anaconda-cloud": {},
  "kernelspec": {
   "display_name": "Python [py35]",
   "language": "python",
   "name": "Python [py35]"
  },
  "language_info": {
   "codemirror_mode": {
    "name": "ipython",
    "version": 3
   },
   "file_extension": ".py",
   "mimetype": "text/x-python",
   "name": "python",
   "nbconvert_exporter": "python",
   "pygments_lexer": "ipython3",
   "version": "3.5.2"
  }
 },
 "nbformat": 4,
 "nbformat_minor": 0
}
