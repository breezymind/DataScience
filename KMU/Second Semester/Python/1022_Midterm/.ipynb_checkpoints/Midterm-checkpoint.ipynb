{
 "cells": [
  {
   "cell_type": "markdown",
   "metadata": {},
   "source": [
    "# Midterm \n",
    " - 기한 11월 4일 "
   ]
  },
  {
   "cell_type": "markdown",
   "metadata": {},
   "source": [
    "## 문제1: 문자열 속 숫자들의 합 구하기\n",
    "- 정의\n",
    " - 여러 숫자들을 쉼표(,)로 구분한 문자열(예: '1,7,4,6,2')을 받아 숫자들의 합을 반환하는 함수 sum_str을 작성하십시오.\n",
    "\n",
    "- 조건\n",
    " - 문자열에 포함될 수 있는 수의 개수에는 제한이 없습니다.\n",
    " - 문자열에 포함되는 수는 항상 정수(int)입니다.\n",
    " - 계산결과는 정수(int)로 반환해야 합니다."
   ]
  },
  {
   "cell_type": "code",
   "execution_count": 25,
   "metadata": {
    "collapsed": true
   },
   "outputs": [],
   "source": [
    "def sum_str(string):\n",
    "    string = [float(i) for i in string.split(\",\")]\n",
    "    return sum(string)"
   ]
  },
  {
   "cell_type": "code",
   "execution_count": 27,
   "metadata": {
    "collapsed": false
   },
   "outputs": [
    {
     "data": {
      "text/plain": [
       "8.0"
      ]
     },
     "execution_count": 27,
     "metadata": {},
     "output_type": "execute_result"
    }
   ],
   "source": [
    "sum_str(\"1,2,3,4,-2\")"
   ]
  },
  {
   "cell_type": "markdown",
   "metadata": {},
   "source": [
    "## 문제2: 설날까지 남은 시간\n",
    " - 정의 \n",
    "  - 다음 설날을 2017년 1월 30일입니다. 실행하면 설날 0시 0분까지 남은 날(days)을 계산해주는 함수 until_new_year을 작성하십시오.\n",
    "\n",
    " - 조건\n",
    " - 지구 상 어느 지역에서 실행하더라도 한국 기준 설날까지 남은 날을 계산해야 합니다\n",
    " - 남은 시간은 정수(int) 형태로 반환해야 합니다"
   ]
  },
  {
   "cell_type": "code",
   "execution_count": 31,
   "metadata": {
    "collapsed": true
   },
   "outputs": [],
   "source": [
    "import arrow"
   ]
  },
  {
   "cell_type": "code",
   "execution_count": 28,
   "metadata": {
    "collapsed": true
   },
   "outputs": [],
   "source": [
    "def until_new_year(Date):\n",
    "    "
   ]
  },
  {
   "cell_type": "code",
   "execution_count": 38,
   "metadata": {
    "collapsed": false
   },
   "outputs": [
    {
     "data": {
      "text/plain": [
       "<Arrow [2016-10-22T11:00:16.330882+09:00]>"
      ]
     },
     "execution_count": 38,
     "metadata": {},
     "output_type": "execute_result"
    }
   ],
   "source": [
    "now = arrow.utcnow()\n",
    "now = now.to('+09:00')\n",
    "now"
   ]
  },
  {
   "cell_type": "code",
   "execution_count": 40,
   "metadata": {
    "collapsed": false
   },
   "outputs": [
    {
     "data": {
      "text/plain": [
       "<Arrow [2017-01-30T00:00:00+00:00]>"
      ]
     },
     "execution_count": 40,
     "metadata": {},
     "output_type": "execute_result"
    }
   ],
   "source": [
    "new_year = arrow.get(\"2017-01-30\")\n",
    "new_year"
   ]
  },
  {
   "cell_type": "code",
   "execution_count": 43,
   "metadata": {
    "collapsed": false
   },
   "outputs": [
    {
     "data": {
      "text/plain": [
       "datetime.timedelta(99, 79183, 669118)"
      ]
     },
     "execution_count": 43,
     "metadata": {},
     "output_type": "execute_result"
    }
   ],
   "source": [
    "a = new_year - now"
   ]
  }
 ],
 "metadata": {
  "anaconda-cloud": {},
  "kernelspec": {
   "display_name": "Python [py35]",
   "language": "python",
   "name": "Python [py35]"
  },
  "language_info": {
   "codemirror_mode": {
    "name": "ipython",
    "version": 3
   },
   "file_extension": ".py",
   "mimetype": "text/x-python",
   "name": "python",
   "nbconvert_exporter": "python",
   "pygments_lexer": "ipython3",
   "version": "3.5.2"
  }
 },
 "nbformat": 4,
 "nbformat_minor": 0
}
