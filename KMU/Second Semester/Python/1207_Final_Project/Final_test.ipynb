{
 "cells": [
  {
   "cell_type": "markdown",
   "metadata": {},
   "source": [
    "# Final Test (Classification)"
   ]
  },
  {
   "cell_type": "markdown",
   "metadata": {},
   "source": [
    "## 데이터 불러오기"
   ]
  },
  {
   "cell_type": "code",
   "execution_count": 1,
   "metadata": {
    "collapsed": true
   },
   "outputs": [],
   "source": [
    "import pandas as pd"
   ]
  },
  {
   "cell_type": "code",
   "execution_count": 2,
   "metadata": {
    "collapsed": true
   },
   "outputs": [],
   "source": [
    "train = pd.read_csv('train.csv')"
   ]
  },
  {
   "cell_type": "code",
   "execution_count": 3,
   "metadata": {
    "collapsed": false
   },
   "outputs": [
    {
     "data": {
      "text/html": [
       "<div>\n",
       "<table border=\"1\" class=\"dataframe\">\n",
       "  <thead>\n",
       "    <tr style=\"text-align: right;\">\n",
       "      <th></th>\n",
       "      <th>age</th>\n",
       "      <th>workclass</th>\n",
       "      <th>education</th>\n",
       "      <th>marital</th>\n",
       "      <th>occupation</th>\n",
       "      <th>relationship</th>\n",
       "      <th>race</th>\n",
       "      <th>sex</th>\n",
       "      <th>capital_gain</th>\n",
       "      <th>capital_loss</th>\n",
       "      <th>hours_per_week</th>\n",
       "      <th>income</th>\n",
       "    </tr>\n",
       "  </thead>\n",
       "  <tbody>\n",
       "    <tr>\n",
       "      <th>0</th>\n",
       "      <td>39</td>\n",
       "      <td>State-gov</td>\n",
       "      <td>13</td>\n",
       "      <td>Never-married</td>\n",
       "      <td>Adm-clerical</td>\n",
       "      <td>Not-in-family</td>\n",
       "      <td>White</td>\n",
       "      <td>Male</td>\n",
       "      <td>2174</td>\n",
       "      <td>0</td>\n",
       "      <td>40</td>\n",
       "      <td>under50k</td>\n",
       "    </tr>\n",
       "    <tr>\n",
       "      <th>1</th>\n",
       "      <td>50</td>\n",
       "      <td>Self-emp-not-inc</td>\n",
       "      <td>13</td>\n",
       "      <td>Married-civ-spouse</td>\n",
       "      <td>Exec-managerial</td>\n",
       "      <td>Husband</td>\n",
       "      <td>White</td>\n",
       "      <td>Male</td>\n",
       "      <td>0</td>\n",
       "      <td>0</td>\n",
       "      <td>13</td>\n",
       "      <td>under50k</td>\n",
       "    </tr>\n",
       "    <tr>\n",
       "      <th>2</th>\n",
       "      <td>38</td>\n",
       "      <td>Private</td>\n",
       "      <td>9</td>\n",
       "      <td>Divorced</td>\n",
       "      <td>Handlers-cleaners</td>\n",
       "      <td>Not-in-family</td>\n",
       "      <td>White</td>\n",
       "      <td>Male</td>\n",
       "      <td>0</td>\n",
       "      <td>0</td>\n",
       "      <td>40</td>\n",
       "      <td>under50k</td>\n",
       "    </tr>\n",
       "    <tr>\n",
       "      <th>3</th>\n",
       "      <td>53</td>\n",
       "      <td>Private</td>\n",
       "      <td>7</td>\n",
       "      <td>Married-civ-spouse</td>\n",
       "      <td>Handlers-cleaners</td>\n",
       "      <td>Husband</td>\n",
       "      <td>Black</td>\n",
       "      <td>Male</td>\n",
       "      <td>0</td>\n",
       "      <td>0</td>\n",
       "      <td>40</td>\n",
       "      <td>under50k</td>\n",
       "    </tr>\n",
       "    <tr>\n",
       "      <th>4</th>\n",
       "      <td>28</td>\n",
       "      <td>Private</td>\n",
       "      <td>13</td>\n",
       "      <td>Married-civ-spouse</td>\n",
       "      <td>Prof-specialty</td>\n",
       "      <td>Wife</td>\n",
       "      <td>Black</td>\n",
       "      <td>Female</td>\n",
       "      <td>0</td>\n",
       "      <td>0</td>\n",
       "      <td>40</td>\n",
       "      <td>under50k</td>\n",
       "    </tr>\n",
       "  </tbody>\n",
       "</table>\n",
       "</div>"
      ],
      "text/plain": [
       "   age         workclass  education             marital         occupation  \\\n",
       "0   39         State-gov         13       Never-married       Adm-clerical   \n",
       "1   50  Self-emp-not-inc         13  Married-civ-spouse    Exec-managerial   \n",
       "2   38           Private          9            Divorced  Handlers-cleaners   \n",
       "3   53           Private          7  Married-civ-spouse  Handlers-cleaners   \n",
       "4   28           Private         13  Married-civ-spouse     Prof-specialty   \n",
       "\n",
       "    relationship   race     sex  capital_gain  capital_loss  hours_per_week  \\\n",
       "0  Not-in-family  White    Male          2174             0              40   \n",
       "1        Husband  White    Male             0             0              13   \n",
       "2  Not-in-family  White    Male             0             0              40   \n",
       "3        Husband  Black    Male             0             0              40   \n",
       "4           Wife  Black  Female             0             0              40   \n",
       "\n",
       "     income  \n",
       "0  under50k  \n",
       "1  under50k  \n",
       "2  under50k  \n",
       "3  under50k  \n",
       "4  under50k  "
      ]
     },
     "execution_count": 3,
     "metadata": {},
     "output_type": "execute_result"
    }
   ],
   "source": [
    "train.head()"
   ]
  },
  {
   "cell_type": "code",
   "execution_count": 4,
   "metadata": {
    "collapsed": false
   },
   "outputs": [
    {
     "name": "stdout",
     "output_type": "stream",
     "text": [
      "<class 'pandas.core.frame.DataFrame'>\n",
      "RangeIndex: 24999 entries, 0 to 24998\n",
      "Data columns (total 12 columns):\n",
      "age               24999 non-null int64\n",
      "workclass         24999 non-null object\n",
      "education         24999 non-null int64\n",
      "marital           24999 non-null object\n",
      "occupation        24999 non-null object\n",
      "relationship      24999 non-null object\n",
      "race              24999 non-null object\n",
      "sex               24999 non-null object\n",
      "capital_gain      24999 non-null int64\n",
      "capital_loss      24999 non-null int64\n",
      "hours_per_week    24999 non-null int64\n",
      "income            24999 non-null object\n",
      "dtypes: int64(5), object(7)\n",
      "memory usage: 2.3+ MB\n"
     ]
    }
   ],
   "source": [
    "train.info()"
   ]
  },
  {
   "cell_type": "markdown",
   "metadata": {},
   "source": [
    "## 독립변수"
   ]
  },
  {
   "cell_type": "code",
   "execution_count": 5,
   "metadata": {
    "collapsed": false
   },
   "outputs": [
    {
     "data": {
      "text/plain": [
       "Index(['age', 'workclass', 'education', 'marital', 'occupation',\n",
       "       'relationship', 'race', 'sex', 'capital_gain', 'capital_loss',\n",
       "       'hours_per_week', 'income'],\n",
       "      dtype='object')"
      ]
     },
     "execution_count": 5,
     "metadata": {},
     "output_type": "execute_result"
    }
   ],
   "source": [
    "train.columns"
   ]
  },
  {
   "cell_type": "code",
   "execution_count": 6,
   "metadata": {
    "collapsed": true
   },
   "outputs": [],
   "source": [
    "indep = train.columns[:-1]"
   ]
  },
  {
   "cell_type": "code",
   "execution_count": 7,
   "metadata": {
    "collapsed": true
   },
   "outputs": [],
   "source": [
    "discrete = []\n",
    "continuous = []\n",
    "for v in indep:\n",
    "    if train[v].dtype == 'object':\n",
    "        discrete.append(v)\n",
    "    else:\n",
    "        continuous.append(v)"
   ]
  },
  {
   "cell_type": "code",
   "execution_count": 8,
   "metadata": {
    "collapsed": false
   },
   "outputs": [
    {
     "data": {
      "text/plain": [
       "['workclass', 'marital', 'occupation', 'relationship', 'race', 'sex']"
      ]
     },
     "execution_count": 8,
     "metadata": {},
     "output_type": "execute_result"
    }
   ],
   "source": [
    "discrete"
   ]
  },
  {
   "cell_type": "code",
   "execution_count": 9,
   "metadata": {
    "collapsed": false
   },
   "outputs": [
    {
     "data": {
      "text/plain": [
       "['age', 'education', 'capital_gain', 'capital_loss', 'hours_per_week']"
      ]
     },
     "execution_count": 9,
     "metadata": {},
     "output_type": "execute_result"
    }
   ],
   "source": [
    "continuous"
   ]
  },
  {
   "cell_type": "code",
   "execution_count": 10,
   "metadata": {
    "collapsed": false
   },
   "outputs": [],
   "source": [
    "dummy = pd.get_dummies(train[discrete])\n",
    "X = pd.concat([train[continuous], dummy], axis=1)"
   ]
  },
  {
   "cell_type": "code",
   "execution_count": 11,
   "metadata": {
    "collapsed": false
   },
   "outputs": [
    {
     "data": {
      "text/html": [
       "<div>\n",
       "<table border=\"1\" class=\"dataframe\">\n",
       "  <thead>\n",
       "    <tr style=\"text-align: right;\">\n",
       "      <th></th>\n",
       "      <th>age</th>\n",
       "      <th>education</th>\n",
       "      <th>capital_gain</th>\n",
       "      <th>capital_loss</th>\n",
       "      <th>hours_per_week</th>\n",
       "      <th>workclass_Federal-gov</th>\n",
       "      <th>workclass_Local-gov</th>\n",
       "      <th>workclass_Private</th>\n",
       "      <th>workclass_Self-emp-inc</th>\n",
       "      <th>workclass_Self-emp-not-inc</th>\n",
       "      <th>...</th>\n",
       "      <th>relationship_Own-child</th>\n",
       "      <th>relationship_Unmarried</th>\n",
       "      <th>relationship_Wife</th>\n",
       "      <th>race_Amer-Indian-Eskimo</th>\n",
       "      <th>race_Asian-Pac-Islander</th>\n",
       "      <th>race_Black</th>\n",
       "      <th>race_Other</th>\n",
       "      <th>race_White</th>\n",
       "      <th>sex_Female</th>\n",
       "      <th>sex_Male</th>\n",
       "    </tr>\n",
       "  </thead>\n",
       "  <tbody>\n",
       "    <tr>\n",
       "      <th>0</th>\n",
       "      <td>39</td>\n",
       "      <td>13</td>\n",
       "      <td>2174</td>\n",
       "      <td>0</td>\n",
       "      <td>40</td>\n",
       "      <td>0.0</td>\n",
       "      <td>0.0</td>\n",
       "      <td>0.0</td>\n",
       "      <td>0.0</td>\n",
       "      <td>0.0</td>\n",
       "      <td>...</td>\n",
       "      <td>0.0</td>\n",
       "      <td>0.0</td>\n",
       "      <td>0.0</td>\n",
       "      <td>0.0</td>\n",
       "      <td>0.0</td>\n",
       "      <td>0.0</td>\n",
       "      <td>0.0</td>\n",
       "      <td>1.0</td>\n",
       "      <td>0.0</td>\n",
       "      <td>1.0</td>\n",
       "    </tr>\n",
       "    <tr>\n",
       "      <th>1</th>\n",
       "      <td>50</td>\n",
       "      <td>13</td>\n",
       "      <td>0</td>\n",
       "      <td>0</td>\n",
       "      <td>13</td>\n",
       "      <td>0.0</td>\n",
       "      <td>0.0</td>\n",
       "      <td>0.0</td>\n",
       "      <td>0.0</td>\n",
       "      <td>1.0</td>\n",
       "      <td>...</td>\n",
       "      <td>0.0</td>\n",
       "      <td>0.0</td>\n",
       "      <td>0.0</td>\n",
       "      <td>0.0</td>\n",
       "      <td>0.0</td>\n",
       "      <td>0.0</td>\n",
       "      <td>0.0</td>\n",
       "      <td>1.0</td>\n",
       "      <td>0.0</td>\n",
       "      <td>1.0</td>\n",
       "    </tr>\n",
       "    <tr>\n",
       "      <th>2</th>\n",
       "      <td>38</td>\n",
       "      <td>9</td>\n",
       "      <td>0</td>\n",
       "      <td>0</td>\n",
       "      <td>40</td>\n",
       "      <td>0.0</td>\n",
       "      <td>0.0</td>\n",
       "      <td>1.0</td>\n",
       "      <td>0.0</td>\n",
       "      <td>0.0</td>\n",
       "      <td>...</td>\n",
       "      <td>0.0</td>\n",
       "      <td>0.0</td>\n",
       "      <td>0.0</td>\n",
       "      <td>0.0</td>\n",
       "      <td>0.0</td>\n",
       "      <td>0.0</td>\n",
       "      <td>0.0</td>\n",
       "      <td>1.0</td>\n",
       "      <td>0.0</td>\n",
       "      <td>1.0</td>\n",
       "    </tr>\n",
       "    <tr>\n",
       "      <th>3</th>\n",
       "      <td>53</td>\n",
       "      <td>7</td>\n",
       "      <td>0</td>\n",
       "      <td>0</td>\n",
       "      <td>40</td>\n",
       "      <td>0.0</td>\n",
       "      <td>0.0</td>\n",
       "      <td>1.0</td>\n",
       "      <td>0.0</td>\n",
       "      <td>0.0</td>\n",
       "      <td>...</td>\n",
       "      <td>0.0</td>\n",
       "      <td>0.0</td>\n",
       "      <td>0.0</td>\n",
       "      <td>0.0</td>\n",
       "      <td>0.0</td>\n",
       "      <td>1.0</td>\n",
       "      <td>0.0</td>\n",
       "      <td>0.0</td>\n",
       "      <td>0.0</td>\n",
       "      <td>1.0</td>\n",
       "    </tr>\n",
       "    <tr>\n",
       "      <th>4</th>\n",
       "      <td>28</td>\n",
       "      <td>13</td>\n",
       "      <td>0</td>\n",
       "      <td>0</td>\n",
       "      <td>40</td>\n",
       "      <td>0.0</td>\n",
       "      <td>0.0</td>\n",
       "      <td>1.0</td>\n",
       "      <td>0.0</td>\n",
       "      <td>0.0</td>\n",
       "      <td>...</td>\n",
       "      <td>0.0</td>\n",
       "      <td>0.0</td>\n",
       "      <td>1.0</td>\n",
       "      <td>0.0</td>\n",
       "      <td>0.0</td>\n",
       "      <td>1.0</td>\n",
       "      <td>0.0</td>\n",
       "      <td>0.0</td>\n",
       "      <td>1.0</td>\n",
       "      <td>0.0</td>\n",
       "    </tr>\n",
       "  </tbody>\n",
       "</table>\n",
       "<p>5 rows × 46 columns</p>\n",
       "</div>"
      ],
      "text/plain": [
       "   age  education  capital_gain  capital_loss  hours_per_week  \\\n",
       "0   39         13          2174             0              40   \n",
       "1   50         13             0             0              13   \n",
       "2   38          9             0             0              40   \n",
       "3   53          7             0             0              40   \n",
       "4   28         13             0             0              40   \n",
       "\n",
       "   workclass_Federal-gov  workclass_Local-gov  workclass_Private  \\\n",
       "0                    0.0                  0.0                0.0   \n",
       "1                    0.0                  0.0                0.0   \n",
       "2                    0.0                  0.0                1.0   \n",
       "3                    0.0                  0.0                1.0   \n",
       "4                    0.0                  0.0                1.0   \n",
       "\n",
       "   workclass_Self-emp-inc  workclass_Self-emp-not-inc    ...     \\\n",
       "0                     0.0                         0.0    ...      \n",
       "1                     0.0                         1.0    ...      \n",
       "2                     0.0                         0.0    ...      \n",
       "3                     0.0                         0.0    ...      \n",
       "4                     0.0                         0.0    ...      \n",
       "\n",
       "   relationship_Own-child  relationship_Unmarried  relationship_Wife  \\\n",
       "0                     0.0                     0.0                0.0   \n",
       "1                     0.0                     0.0                0.0   \n",
       "2                     0.0                     0.0                0.0   \n",
       "3                     0.0                     0.0                0.0   \n",
       "4                     0.0                     0.0                1.0   \n",
       "\n",
       "   race_Amer-Indian-Eskimo  race_Asian-Pac-Islander  race_Black  race_Other  \\\n",
       "0                      0.0                      0.0         0.0         0.0   \n",
       "1                      0.0                      0.0         0.0         0.0   \n",
       "2                      0.0                      0.0         0.0         0.0   \n",
       "3                      0.0                      0.0         1.0         0.0   \n",
       "4                      0.0                      0.0         1.0         0.0   \n",
       "\n",
       "   race_White  sex_Female  sex_Male  \n",
       "0         1.0         0.0       1.0  \n",
       "1         1.0         0.0       1.0  \n",
       "2         1.0         0.0       1.0  \n",
       "3         0.0         0.0       1.0  \n",
       "4         0.0         1.0       0.0  \n",
       "\n",
       "[5 rows x 46 columns]"
      ]
     },
     "execution_count": 11,
     "metadata": {},
     "output_type": "execute_result"
    }
   ],
   "source": [
    "X.head()"
   ]
  },
  {
   "cell_type": "code",
   "execution_count": 12,
   "metadata": {
    "collapsed": false
   },
   "outputs": [
    {
     "data": {
      "text/html": [
       "<div>\n",
       "<table border=\"1\" class=\"dataframe\">\n",
       "  <thead>\n",
       "    <tr style=\"text-align: right;\">\n",
       "      <th></th>\n",
       "      <th>workclass_Federal-gov</th>\n",
       "      <th>workclass_Local-gov</th>\n",
       "      <th>workclass_Private</th>\n",
       "      <th>workclass_Self-emp-inc</th>\n",
       "      <th>workclass_Self-emp-not-inc</th>\n",
       "      <th>workclass_State-gov</th>\n",
       "      <th>workclass_Without-pay</th>\n",
       "      <th>marital_Divorced</th>\n",
       "      <th>marital_Married-AF-spouse</th>\n",
       "      <th>marital_Married-civ-spouse</th>\n",
       "      <th>...</th>\n",
       "      <th>relationship_Own-child</th>\n",
       "      <th>relationship_Unmarried</th>\n",
       "      <th>relationship_Wife</th>\n",
       "      <th>race_Amer-Indian-Eskimo</th>\n",
       "      <th>race_Asian-Pac-Islander</th>\n",
       "      <th>race_Black</th>\n",
       "      <th>race_Other</th>\n",
       "      <th>race_White</th>\n",
       "      <th>sex_Female</th>\n",
       "      <th>sex_Male</th>\n",
       "    </tr>\n",
       "  </thead>\n",
       "  <tbody>\n",
       "    <tr>\n",
       "      <th>0</th>\n",
       "      <td>0.0</td>\n",
       "      <td>0.0</td>\n",
       "      <td>0.0</td>\n",
       "      <td>0.0</td>\n",
       "      <td>0.0</td>\n",
       "      <td>1.0</td>\n",
       "      <td>0.0</td>\n",
       "      <td>0.0</td>\n",
       "      <td>0.0</td>\n",
       "      <td>0.0</td>\n",
       "      <td>...</td>\n",
       "      <td>0.0</td>\n",
       "      <td>0.0</td>\n",
       "      <td>0.0</td>\n",
       "      <td>0.0</td>\n",
       "      <td>0.0</td>\n",
       "      <td>0.0</td>\n",
       "      <td>0.0</td>\n",
       "      <td>1.0</td>\n",
       "      <td>0.0</td>\n",
       "      <td>1.0</td>\n",
       "    </tr>\n",
       "    <tr>\n",
       "      <th>1</th>\n",
       "      <td>0.0</td>\n",
       "      <td>0.0</td>\n",
       "      <td>0.0</td>\n",
       "      <td>0.0</td>\n",
       "      <td>1.0</td>\n",
       "      <td>0.0</td>\n",
       "      <td>0.0</td>\n",
       "      <td>0.0</td>\n",
       "      <td>0.0</td>\n",
       "      <td>1.0</td>\n",
       "      <td>...</td>\n",
       "      <td>0.0</td>\n",
       "      <td>0.0</td>\n",
       "      <td>0.0</td>\n",
       "      <td>0.0</td>\n",
       "      <td>0.0</td>\n",
       "      <td>0.0</td>\n",
       "      <td>0.0</td>\n",
       "      <td>1.0</td>\n",
       "      <td>0.0</td>\n",
       "      <td>1.0</td>\n",
       "    </tr>\n",
       "    <tr>\n",
       "      <th>2</th>\n",
       "      <td>0.0</td>\n",
       "      <td>0.0</td>\n",
       "      <td>1.0</td>\n",
       "      <td>0.0</td>\n",
       "      <td>0.0</td>\n",
       "      <td>0.0</td>\n",
       "      <td>0.0</td>\n",
       "      <td>1.0</td>\n",
       "      <td>0.0</td>\n",
       "      <td>0.0</td>\n",
       "      <td>...</td>\n",
       "      <td>0.0</td>\n",
       "      <td>0.0</td>\n",
       "      <td>0.0</td>\n",
       "      <td>0.0</td>\n",
       "      <td>0.0</td>\n",
       "      <td>0.0</td>\n",
       "      <td>0.0</td>\n",
       "      <td>1.0</td>\n",
       "      <td>0.0</td>\n",
       "      <td>1.0</td>\n",
       "    </tr>\n",
       "    <tr>\n",
       "      <th>3</th>\n",
       "      <td>0.0</td>\n",
       "      <td>0.0</td>\n",
       "      <td>1.0</td>\n",
       "      <td>0.0</td>\n",
       "      <td>0.0</td>\n",
       "      <td>0.0</td>\n",
       "      <td>0.0</td>\n",
       "      <td>0.0</td>\n",
       "      <td>0.0</td>\n",
       "      <td>1.0</td>\n",
       "      <td>...</td>\n",
       "      <td>0.0</td>\n",
       "      <td>0.0</td>\n",
       "      <td>0.0</td>\n",
       "      <td>0.0</td>\n",
       "      <td>0.0</td>\n",
       "      <td>1.0</td>\n",
       "      <td>0.0</td>\n",
       "      <td>0.0</td>\n",
       "      <td>0.0</td>\n",
       "      <td>1.0</td>\n",
       "    </tr>\n",
       "    <tr>\n",
       "      <th>4</th>\n",
       "      <td>0.0</td>\n",
       "      <td>0.0</td>\n",
       "      <td>1.0</td>\n",
       "      <td>0.0</td>\n",
       "      <td>0.0</td>\n",
       "      <td>0.0</td>\n",
       "      <td>0.0</td>\n",
       "      <td>0.0</td>\n",
       "      <td>0.0</td>\n",
       "      <td>1.0</td>\n",
       "      <td>...</td>\n",
       "      <td>0.0</td>\n",
       "      <td>0.0</td>\n",
       "      <td>1.0</td>\n",
       "      <td>0.0</td>\n",
       "      <td>0.0</td>\n",
       "      <td>1.0</td>\n",
       "      <td>0.0</td>\n",
       "      <td>0.0</td>\n",
       "      <td>1.0</td>\n",
       "      <td>0.0</td>\n",
       "    </tr>\n",
       "  </tbody>\n",
       "</table>\n",
       "<p>5 rows × 41 columns</p>\n",
       "</div>"
      ],
      "text/plain": [
       "   workclass_Federal-gov  workclass_Local-gov  workclass_Private  \\\n",
       "0                    0.0                  0.0                0.0   \n",
       "1                    0.0                  0.0                0.0   \n",
       "2                    0.0                  0.0                1.0   \n",
       "3                    0.0                  0.0                1.0   \n",
       "4                    0.0                  0.0                1.0   \n",
       "\n",
       "   workclass_Self-emp-inc  workclass_Self-emp-not-inc  workclass_State-gov  \\\n",
       "0                     0.0                         0.0                  1.0   \n",
       "1                     0.0                         1.0                  0.0   \n",
       "2                     0.0                         0.0                  0.0   \n",
       "3                     0.0                         0.0                  0.0   \n",
       "4                     0.0                         0.0                  0.0   \n",
       "\n",
       "   workclass_Without-pay  marital_Divorced  marital_Married-AF-spouse  \\\n",
       "0                    0.0               0.0                        0.0   \n",
       "1                    0.0               0.0                        0.0   \n",
       "2                    0.0               1.0                        0.0   \n",
       "3                    0.0               0.0                        0.0   \n",
       "4                    0.0               0.0                        0.0   \n",
       "\n",
       "   marital_Married-civ-spouse    ...     relationship_Own-child  \\\n",
       "0                         0.0    ...                        0.0   \n",
       "1                         1.0    ...                        0.0   \n",
       "2                         0.0    ...                        0.0   \n",
       "3                         1.0    ...                        0.0   \n",
       "4                         1.0    ...                        0.0   \n",
       "\n",
       "   relationship_Unmarried  relationship_Wife  race_Amer-Indian-Eskimo  \\\n",
       "0                     0.0                0.0                      0.0   \n",
       "1                     0.0                0.0                      0.0   \n",
       "2                     0.0                0.0                      0.0   \n",
       "3                     0.0                0.0                      0.0   \n",
       "4                     0.0                1.0                      0.0   \n",
       "\n",
       "   race_Asian-Pac-Islander  race_Black  race_Other  race_White  sex_Female  \\\n",
       "0                      0.0         0.0         0.0         1.0         0.0   \n",
       "1                      0.0         0.0         0.0         1.0         0.0   \n",
       "2                      0.0         0.0         0.0         1.0         0.0   \n",
       "3                      0.0         1.0         0.0         0.0         0.0   \n",
       "4                      0.0         1.0         0.0         0.0         1.0   \n",
       "\n",
       "   sex_Male  \n",
       "0       1.0  \n",
       "1       1.0  \n",
       "2       1.0  \n",
       "3       1.0  \n",
       "4       0.0  \n",
       "\n",
       "[5 rows x 41 columns]"
      ]
     },
     "execution_count": 12,
     "metadata": {},
     "output_type": "execute_result"
    }
   ],
   "source": [
    "dummy.head()"
   ]
  },
  {
   "cell_type": "markdown",
   "metadata": {},
   "source": [
    "## 종속변수"
   ]
  },
  {
   "cell_type": "code",
   "execution_count": 13,
   "metadata": {
    "collapsed": true
   },
   "outputs": [],
   "source": [
    "dep = train.columns[-1]\n",
    "y = train[dep]"
   ]
  },
  {
   "cell_type": "code",
   "execution_count": 14,
   "metadata": {
    "collapsed": false
   },
   "outputs": [
    {
     "data": {
      "text/plain": [
       "0    under50k\n",
       "1    under50k\n",
       "2    under50k\n",
       "3    under50k\n",
       "4    under50k\n",
       "Name: income, dtype: object"
      ]
     },
     "execution_count": 14,
     "metadata": {},
     "output_type": "execute_result"
    }
   ],
   "source": [
    "y.head()"
   ]
  },
  {
   "cell_type": "markdown",
   "metadata": {},
   "source": [
    "## 변수 형태에 따른 데이터 분할 "
   ]
  },
  {
   "cell_type": "markdown",
   "metadata": {},
   "source": [
    "#### 범주형 "
   ]
  },
  {
   "cell_type": "code",
   "execution_count": 15,
   "metadata": {
    "collapsed": false
   },
   "outputs": [
    {
     "data": {
      "text/html": [
       "<div>\n",
       "<table border=\"1\" class=\"dataframe\">\n",
       "  <thead>\n",
       "    <tr style=\"text-align: right;\">\n",
       "      <th></th>\n",
       "      <th>workclass</th>\n",
       "      <th>marital</th>\n",
       "      <th>occupation</th>\n",
       "      <th>relationship</th>\n",
       "      <th>race</th>\n",
       "      <th>sex</th>\n",
       "    </tr>\n",
       "  </thead>\n",
       "  <tbody>\n",
       "    <tr>\n",
       "      <th>0</th>\n",
       "      <td>State-gov</td>\n",
       "      <td>Never-married</td>\n",
       "      <td>Adm-clerical</td>\n",
       "      <td>Not-in-family</td>\n",
       "      <td>White</td>\n",
       "      <td>Male</td>\n",
       "    </tr>\n",
       "    <tr>\n",
       "      <th>1</th>\n",
       "      <td>Self-emp-not-inc</td>\n",
       "      <td>Married-civ-spouse</td>\n",
       "      <td>Exec-managerial</td>\n",
       "      <td>Husband</td>\n",
       "      <td>White</td>\n",
       "      <td>Male</td>\n",
       "    </tr>\n",
       "    <tr>\n",
       "      <th>2</th>\n",
       "      <td>Private</td>\n",
       "      <td>Divorced</td>\n",
       "      <td>Handlers-cleaners</td>\n",
       "      <td>Not-in-family</td>\n",
       "      <td>White</td>\n",
       "      <td>Male</td>\n",
       "    </tr>\n",
       "    <tr>\n",
       "      <th>3</th>\n",
       "      <td>Private</td>\n",
       "      <td>Married-civ-spouse</td>\n",
       "      <td>Handlers-cleaners</td>\n",
       "      <td>Husband</td>\n",
       "      <td>Black</td>\n",
       "      <td>Male</td>\n",
       "    </tr>\n",
       "    <tr>\n",
       "      <th>4</th>\n",
       "      <td>Private</td>\n",
       "      <td>Married-civ-spouse</td>\n",
       "      <td>Prof-specialty</td>\n",
       "      <td>Wife</td>\n",
       "      <td>Black</td>\n",
       "      <td>Female</td>\n",
       "    </tr>\n",
       "  </tbody>\n",
       "</table>\n",
       "</div>"
      ],
      "text/plain": [
       "          workclass             marital         occupation   relationship  \\\n",
       "0         State-gov       Never-married       Adm-clerical  Not-in-family   \n",
       "1  Self-emp-not-inc  Married-civ-spouse    Exec-managerial        Husband   \n",
       "2           Private            Divorced  Handlers-cleaners  Not-in-family   \n",
       "3           Private  Married-civ-spouse  Handlers-cleaners        Husband   \n",
       "4           Private  Married-civ-spouse     Prof-specialty           Wife   \n",
       "\n",
       "    race     sex  \n",
       "0  White    Male  \n",
       "1  White    Male  \n",
       "2  White    Male  \n",
       "3  Black    Male  \n",
       "4  Black  Female  "
      ]
     },
     "execution_count": 15,
     "metadata": {},
     "output_type": "execute_result"
    }
   ],
   "source": [
    "train[discrete].head()"
   ]
  },
  {
   "cell_type": "code",
   "execution_count": 16,
   "metadata": {
    "collapsed": true
   },
   "outputs": [],
   "source": [
    "discrete_X = train[discrete]"
   ]
  },
  {
   "cell_type": "code",
   "execution_count": 17,
   "metadata": {
    "collapsed": false
   },
   "outputs": [
    {
     "data": {
      "text/html": [
       "<div>\n",
       "<table border=\"1\" class=\"dataframe\">\n",
       "  <thead>\n",
       "    <tr style=\"text-align: right;\">\n",
       "      <th></th>\n",
       "      <th>age</th>\n",
       "      <th>education</th>\n",
       "      <th>capital_gain</th>\n",
       "      <th>capital_loss</th>\n",
       "      <th>hours_per_week</th>\n",
       "    </tr>\n",
       "  </thead>\n",
       "  <tbody>\n",
       "    <tr>\n",
       "      <th>0</th>\n",
       "      <td>39</td>\n",
       "      <td>13</td>\n",
       "      <td>2174</td>\n",
       "      <td>0</td>\n",
       "      <td>40</td>\n",
       "    </tr>\n",
       "    <tr>\n",
       "      <th>1</th>\n",
       "      <td>50</td>\n",
       "      <td>13</td>\n",
       "      <td>0</td>\n",
       "      <td>0</td>\n",
       "      <td>13</td>\n",
       "    </tr>\n",
       "    <tr>\n",
       "      <th>2</th>\n",
       "      <td>38</td>\n",
       "      <td>9</td>\n",
       "      <td>0</td>\n",
       "      <td>0</td>\n",
       "      <td>40</td>\n",
       "    </tr>\n",
       "    <tr>\n",
       "      <th>3</th>\n",
       "      <td>53</td>\n",
       "      <td>7</td>\n",
       "      <td>0</td>\n",
       "      <td>0</td>\n",
       "      <td>40</td>\n",
       "    </tr>\n",
       "    <tr>\n",
       "      <th>4</th>\n",
       "      <td>28</td>\n",
       "      <td>13</td>\n",
       "      <td>0</td>\n",
       "      <td>0</td>\n",
       "      <td>40</td>\n",
       "    </tr>\n",
       "  </tbody>\n",
       "</table>\n",
       "</div>"
      ],
      "text/plain": [
       "   age  education  capital_gain  capital_loss  hours_per_week\n",
       "0   39         13          2174             0              40\n",
       "1   50         13             0             0              13\n",
       "2   38          9             0             0              40\n",
       "3   53          7             0             0              40\n",
       "4   28         13             0             0              40"
      ]
     },
     "execution_count": 17,
     "metadata": {},
     "output_type": "execute_result"
    }
   ],
   "source": [
    "train[continuous].head()"
   ]
  },
  {
   "cell_type": "code",
   "execution_count": 18,
   "metadata": {
    "collapsed": true
   },
   "outputs": [],
   "source": [
    "continuous_X = train[continuous]"
   ]
  },
  {
   "cell_type": "markdown",
   "metadata": {},
   "source": [
    "## 데이터 분할"
   ]
  },
  {
   "cell_type": "code",
   "execution_count": 19,
   "metadata": {
    "collapsed": true
   },
   "outputs": [],
   "source": [
    "from sklearn.model_selection import train_test_split"
   ]
  },
  {
   "cell_type": "code",
   "execution_count": 20,
   "metadata": {
    "collapsed": false
   },
   "outputs": [],
   "source": [
    "X_train, X_test, y_train, y_test = train_test_split(X, y, test_size=0.1, random_state=0)"
   ]
  },
  {
   "cell_type": "code",
   "execution_count": 21,
   "metadata": {
    "collapsed": false
   },
   "outputs": [],
   "source": [
    "X_discrete_train, X_discrete_test, y_discrete_train, y_discrete_test = train_test_split(discrete_X, y, test_size=0.1, random_state=0)"
   ]
  },
  {
   "cell_type": "code",
   "execution_count": 22,
   "metadata": {
    "collapsed": true
   },
   "outputs": [],
   "source": [
    "X_continuous_train, X_continuous_test, y_continuous_train, y_continuous_test = train_test_split(continuous_X, y, test_size=0.1, random_state=0)"
   ]
  },
  {
   "cell_type": "markdown",
   "metadata": {},
   "source": [
    "## Import library"
   ]
  },
  {
   "cell_type": "code",
   "execution_count": 23,
   "metadata": {
    "collapsed": false
   },
   "outputs": [],
   "source": [
    "from sklearn.linear_model import LogisticRegression"
   ]
  },
  {
   "cell_type": "code",
   "execution_count": 24,
   "metadata": {
    "collapsed": true
   },
   "outputs": [],
   "source": [
    "from sklearn import metrics"
   ]
  },
  {
   "cell_type": "markdown",
   "metadata": {},
   "source": [
    "### 기준점 Lasso (교수님)\n",
    "    [[ 376  253]\n",
    "     [ 125 1746]]\n",
    "    accuracy: 0.8488\n",
    "    precision: 0.750499001996\n",
    "    recall: 0.597774244833\n",
    "    f1: 0.665486725664"
   ]
  },
  {
   "cell_type": "markdown",
   "metadata": {},
   "source": [
    "### Get_Result(y_test, y_pred)"
   ]
  },
  {
   "cell_type": "code",
   "execution_count": 25,
   "metadata": {
    "collapsed": true
   },
   "outputs": [],
   "source": [
    "def getResult(y_test,y_pred):\n",
    "    print(metrics.confusion_matrix(y_test, y_pred))\n",
    "    print('accurracy:', metrics.accuracy_score(y_test, y_pred))\n",
    "    print('precision:', metrics.precision_score(y_test, y_pred, pos_label='over50k'))\n",
    "    print('recall:', metrics.recall_score(y_test, y_pred, pos_label='over50k'))\n",
    "    print('f1:', metrics.f1_score(y_test, y_pred, pos_label='over50k'))"
   ]
  },
  {
   "cell_type": "markdown",
   "metadata": {},
   "source": [
    "## Logistic Regression : ridge"
   ]
  },
  {
   "cell_type": "markdown",
   "metadata": {},
   "source": [
    " - 전체 버젼"
   ]
  },
  {
   "cell_type": "code",
   "execution_count": 26,
   "metadata": {
    "collapsed": false
   },
   "outputs": [],
   "source": [
    "ridge = LogisticRegression(penalty='l2',C=15)"
   ]
  },
  {
   "cell_type": "code",
   "execution_count": 27,
   "metadata": {
    "collapsed": false
   },
   "outputs": [
    {
     "data": {
      "text/plain": [
       "LogisticRegression(C=15, class_weight=None, dual=False, fit_intercept=True,\n",
       "          intercept_scaling=1, max_iter=100, multi_class='ovr', n_jobs=1,\n",
       "          penalty='l2', random_state=None, solver='liblinear', tol=0.0001,\n",
       "          verbose=0, warm_start=False)"
      ]
     },
     "execution_count": 27,
     "metadata": {},
     "output_type": "execute_result"
    }
   ],
   "source": [
    "ridge.fit(X_train,y_train)"
   ]
  },
  {
   "cell_type": "code",
   "execution_count": 28,
   "metadata": {
    "collapsed": true
   },
   "outputs": [],
   "source": [
    "y_ridge = ridge.predict(X_test)"
   ]
  },
  {
   "cell_type": "code",
   "execution_count": 29,
   "metadata": {
    "collapsed": false
   },
   "outputs": [
    {
     "data": {
      "text/plain": [
       "array([[ 374,  255],\n",
       "       [ 124, 1747]])"
      ]
     },
     "execution_count": 29,
     "metadata": {},
     "output_type": "execute_result"
    }
   ],
   "source": [
    "metrics.confusion_matrix(y_test,y_ridge)"
   ]
  },
  {
   "cell_type": "code",
   "execution_count": 30,
   "metadata": {
    "collapsed": false
   },
   "outputs": [
    {
     "name": "stdout",
     "output_type": "stream",
     "text": [
      "[[ 374  255]\n",
      " [ 124 1747]]\n",
      "accurracy: 0.8484\n",
      "precision: 0.751004016064\n",
      "recall: 0.594594594595\n",
      "f1: 0.663708961846\n"
     ]
    }
   ],
   "source": [
    "getResult(y_test,y_ridge)"
   ]
  },
  {
   "cell_type": "code",
   "execution_count": 38,
   "metadata": {
    "collapsed": true
   },
   "outputs": [],
   "source": [
    "def logi(x,y):\n",
    "    LR = LogisticRegression(penalty=x,C=y)\n",
    "    LR.fit(X_train,y_train)\n",
    "    y_ridge = LR.predict(X_test)\n",
    "    getResult(y_test,y_ridge)\n",
    "    return LR"
   ]
  },
  {
   "cell_type": "markdown",
   "metadata": {},
   "source": [
    "        10 l1\n",
    "        [[ 380  249]\n",
    "         [ 129 1742]]\n",
    "        accurracy: 0.8488\n",
    "        precision: 0.746561886051\n",
    "        recall: 0.60413354531\n",
    "        f1: 0.66783831283"
   ]
  },
  {
   "cell_type": "code",
   "execution_count": 40,
   "metadata": {
    "collapsed": false,
    "scrolled": false
   },
   "outputs": [
    {
     "name": "stdout",
     "output_type": "stream",
     "text": [
      "10 l1\n",
      "[[ 380  249]\n",
      " [ 129 1742]]\n",
      "accurracy: 0.8488\n",
      "precision: 0.746561886051\n",
      "recall: 0.60413354531\n",
      "f1: 0.66783831283\n",
      "10 l2\n",
      "[[ 375  254]\n",
      " [ 124 1747]]\n",
      "accurracy: 0.8488\n",
      "precision: 0.751503006012\n",
      "recall: 0.596184419714\n",
      "f1: 0.664893617021\n",
      "15 l1\n",
      "[[ 380  249]\n",
      " [ 129 1742]]\n",
      "accurracy: 0.8488\n",
      "precision: 0.746561886051\n",
      "recall: 0.60413354531\n",
      "f1: 0.66783831283\n",
      "15 l2\n",
      "[[ 374  255]\n",
      " [ 124 1747]]\n",
      "accurracy: 0.8484\n",
      "precision: 0.751004016064\n",
      "recall: 0.594594594595\n",
      "f1: 0.663708961846\n",
      "20 l1\n",
      "[[ 379  250]\n",
      " [ 129 1742]]\n",
      "accurracy: 0.8484\n",
      "precision: 0.746062992126\n",
      "recall: 0.602543720191\n",
      "f1: 0.666666666667\n",
      "20 l2\n",
      "[[ 375  254]\n",
      " [ 124 1747]]\n",
      "accurracy: 0.8488\n",
      "precision: 0.751503006012\n",
      "recall: 0.596184419714\n",
      "f1: 0.664893617021\n",
      "25 l1\n",
      "[[ 380  249]\n",
      " [ 129 1742]]\n",
      "accurracy: 0.8488\n",
      "precision: 0.746561886051\n",
      "recall: 0.60413354531\n",
      "f1: 0.66783831283\n",
      "25 l2\n",
      "[[ 377  252]\n",
      " [ 127 1744]]\n",
      "accurracy: 0.8484\n",
      "precision: 0.748015873016\n",
      "recall: 0.599364069952\n",
      "f1: 0.665489849956\n",
      "30 l1\n",
      "[[ 379  250]\n",
      " [ 129 1742]]\n",
      "accurracy: 0.8484\n",
      "precision: 0.746062992126\n",
      "recall: 0.602543720191\n",
      "f1: 0.666666666667\n",
      "30 l2\n",
      "[[ 374  255]\n",
      " [ 124 1747]]\n",
      "accurracy: 0.8484\n",
      "precision: 0.751004016064\n",
      "recall: 0.594594594595\n",
      "f1: 0.663708961846\n",
      "35 l1\n",
      "[[ 379  250]\n",
      " [ 129 1742]]\n",
      "accurracy: 0.8484\n",
      "precision: 0.746062992126\n",
      "recall: 0.602543720191\n",
      "f1: 0.666666666667\n",
      "35 l2\n",
      "[[ 374  255]\n",
      " [ 124 1747]]\n",
      "accurracy: 0.8484\n",
      "precision: 0.751004016064\n",
      "recall: 0.594594594595\n",
      "f1: 0.663708961846\n",
      "40 l1\n",
      "[[ 379  250]\n",
      " [ 129 1742]]\n",
      "accurracy: 0.8484\n",
      "precision: 0.746062992126\n",
      "recall: 0.602543720191\n",
      "f1: 0.666666666667\n",
      "40 l2\n",
      "[[ 372  257]\n",
      " [ 129 1742]]\n",
      "accurracy: 0.8456\n",
      "precision: 0.74251497006\n",
      "recall: 0.591414944356\n",
      "f1: 0.658407079646\n",
      "45 l1\n",
      "[[ 379  250]\n",
      " [ 129 1742]]\n",
      "accurracy: 0.8484\n",
      "precision: 0.746062992126\n",
      "recall: 0.602543720191\n",
      "f1: 0.666666666667\n",
      "45 l2\n",
      "[[ 378  251]\n",
      " [ 127 1744]]\n",
      "accurracy: 0.8488\n",
      "precision: 0.748514851485\n",
      "recall: 0.600953895072\n",
      "f1: 0.666666666667\n",
      "50 l1\n",
      "[[ 379  250]\n",
      " [ 129 1742]]\n",
      "accurracy: 0.8484\n",
      "precision: 0.746062992126\n",
      "recall: 0.602543720191\n",
      "f1: 0.666666666667\n",
      "50 l2\n",
      "[[ 378  251]\n",
      " [ 129 1742]]\n",
      "accurracy: 0.848\n",
      "precision: 0.745562130178\n",
      "recall: 0.600953895072\n",
      "f1: 0.665492957746\n",
      "55 l1\n",
      "[[ 379  250]\n",
      " [ 129 1742]]\n",
      "accurracy: 0.8484\n",
      "precision: 0.746062992126\n",
      "recall: 0.602543720191\n",
      "f1: 0.666666666667\n",
      "55 l2\n",
      "[[ 375  254]\n",
      " [ 124 1747]]\n",
      "accurracy: 0.8488\n",
      "precision: 0.751503006012\n",
      "recall: 0.596184419714\n",
      "f1: 0.664893617021\n",
      "60 l1\n",
      "[[ 379  250]\n",
      " [ 129 1742]]\n",
      "accurracy: 0.8484\n",
      "precision: 0.746062992126\n",
      "recall: 0.602543720191\n",
      "f1: 0.666666666667\n",
      "60 l2\n",
      "[[ 374  255]\n",
      " [ 124 1747]]\n",
      "accurracy: 0.8484\n",
      "precision: 0.751004016064\n",
      "recall: 0.594594594595\n",
      "f1: 0.663708961846\n",
      "65 l1\n",
      "[[ 379  250]\n",
      " [ 129 1742]]\n",
      "accurracy: 0.8484\n",
      "precision: 0.746062992126\n",
      "recall: 0.602543720191\n",
      "f1: 0.666666666667\n",
      "65 l2\n",
      "[[ 374  255]\n",
      " [ 127 1744]]\n",
      "accurracy: 0.8472\n",
      "precision: 0.746506986028\n",
      "recall: 0.594594594595\n",
      "f1: 0.661946902655\n",
      "70 l1\n",
      "[[ 379  250]\n",
      " [ 129 1742]]\n",
      "accurracy: 0.8484\n",
      "precision: 0.746062992126\n",
      "recall: 0.602543720191\n",
      "f1: 0.666666666667\n",
      "70 l2\n",
      "[[ 377  252]\n",
      " [ 126 1745]]\n",
      "accurracy: 0.8488\n",
      "precision: 0.749502982107\n",
      "recall: 0.599364069952\n",
      "f1: 0.666077738516\n",
      "75 l1\n",
      "[[ 379  250]\n",
      " [ 129 1742]]\n",
      "accurracy: 0.8484\n",
      "precision: 0.746062992126\n",
      "recall: 0.602543720191\n",
      "f1: 0.666666666667\n",
      "75 l2\n",
      "[[ 374  255]\n",
      " [ 125 1746]]\n",
      "accurracy: 0.848\n",
      "precision: 0.749498997996\n",
      "recall: 0.594594594595\n",
      "f1: 0.663120567376\n",
      "80 l1\n",
      "[[ 379  250]\n",
      " [ 129 1742]]\n",
      "accurracy: 0.8484\n",
      "precision: 0.746062992126\n",
      "recall: 0.602543720191\n",
      "f1: 0.666666666667\n",
      "80 l2\n",
      "[[ 378  251]\n",
      " [ 127 1744]]\n",
      "accurracy: 0.8488\n",
      "precision: 0.748514851485\n",
      "recall: 0.600953895072\n",
      "f1: 0.666666666667\n",
      "85 l1\n",
      "[[ 379  250]\n",
      " [ 129 1742]]\n",
      "accurracy: 0.8484\n",
      "precision: 0.746062992126\n",
      "recall: 0.602543720191\n",
      "f1: 0.666666666667\n",
      "85 l2\n",
      "[[ 371  258]\n",
      " [ 127 1744]]\n",
      "accurracy: 0.846\n",
      "precision: 0.744979919679\n",
      "recall: 0.589825119237\n",
      "f1: 0.658385093168\n",
      "90 l1\n",
      "[[ 379  250]\n",
      " [ 129 1742]]\n",
      "accurracy: 0.8484\n",
      "precision: 0.746062992126\n",
      "recall: 0.602543720191\n",
      "f1: 0.666666666667\n",
      "90 l2\n",
      "[[ 372  257]\n",
      " [ 127 1744]]\n",
      "accurracy: 0.8464\n",
      "precision: 0.745490981964\n",
      "recall: 0.591414944356\n",
      "f1: 0.659574468085\n",
      "95 l1\n",
      "[[ 379  250]\n",
      " [ 129 1742]]\n",
      "accurracy: 0.8484\n",
      "precision: 0.746062992126\n",
      "recall: 0.602543720191\n",
      "f1: 0.666666666667\n",
      "95 l2\n",
      "[[ 379  250]\n",
      " [ 129 1742]]\n",
      "accurracy: 0.8484\n",
      "precision: 0.746062992126\n",
      "recall: 0.602543720191\n",
      "f1: 0.666666666667\n"
     ]
    }
   ],
   "source": [
    "logistic = []\n",
    "penal = ['l1','l2']\n",
    "for i in range(10,100,5):\n",
    "    for j in penal:\n",
    "        print(i,j)\n",
    "        logistic.append(logi(j,i))"
   ]
  },
  {
   "cell_type": "markdown",
   "metadata": {},
   "source": [
    " - 이산형 버젼 "
   ]
  },
  {
   "cell_type": "code",
   "execution_count": 31,
   "metadata": {
    "collapsed": false
   },
   "outputs": [],
   "source": [
    "ridge_l2 = LogisticRegression(penalty='l2',C=15)"
   ]
  },
  {
   "cell_type": "code",
   "execution_count": 32,
   "metadata": {
    "collapsed": false
   },
   "outputs": [
    {
     "data": {
      "text/plain": [
       "LogisticRegression(C=15, class_weight=None, dual=False, fit_intercept=True,\n",
       "          intercept_scaling=1, max_iter=100, multi_class='ovr', n_jobs=1,\n",
       "          penalty='l2', random_state=None, solver='liblinear', tol=0.0001,\n",
       "          verbose=0, warm_start=False)"
      ]
     },
     "execution_count": 32,
     "metadata": {},
     "output_type": "execute_result"
    }
   ],
   "source": [
    "ridge_l2.fit(X_continuous_train,y_continuous_train)"
   ]
  },
  {
   "cell_type": "code",
   "execution_count": 33,
   "metadata": {
    "collapsed": false
   },
   "outputs": [],
   "source": [
    "y_continuous_ridge = ridge_l2.predict(X_continuous_test)"
   ]
  },
  {
   "cell_type": "code",
   "execution_count": 34,
   "metadata": {
    "collapsed": false
   },
   "outputs": [
    {
     "name": "stdout",
     "output_type": "stream",
     "text": [
      "[[ 234  395]\n",
      " [  77 1794]]\n",
      "accurracy: 0.8112\n",
      "precision: 0.752411575563\n",
      "recall: 0.372019077901\n",
      "f1: 0.497872340426\n"
     ]
    }
   ],
   "source": [
    "getResult(y_continuous_test,y_continuous_ridge)"
   ]
  },
  {
   "cell_type": "markdown",
   "metadata": {},
   "source": [
    "# Decision Tree\n",
    "## Random Forest (랜덤포레스트)"
   ]
  },
  {
   "cell_type": "code",
   "execution_count": 44,
   "metadata": {
    "collapsed": true
   },
   "outputs": [],
   "source": [
    "from sklearn.ensemble import RandomForestClassifier"
   ]
  },
  {
   "cell_type": "code",
   "execution_count": 36,
   "metadata": {
    "collapsed": true
   },
   "outputs": [],
   "source": [
    "rf = RandomForestClassifier(n_estimators=100)"
   ]
  },
  {
   "cell_type": "code",
   "execution_count": 37,
   "metadata": {
    "collapsed": false
   },
   "outputs": [
    {
     "data": {
      "text/plain": [
       "RandomForestClassifier(bootstrap=True, class_weight=None, criterion='gini',\n",
       "            max_depth=None, max_features='auto', max_leaf_nodes=None,\n",
       "            min_impurity_split=1e-07, min_samples_leaf=1,\n",
       "            min_samples_split=2, min_weight_fraction_leaf=0.0,\n",
       "            n_estimators=100, n_jobs=1, oob_score=False, random_state=None,\n",
       "            verbose=0, warm_start=False)"
      ]
     },
     "execution_count": 37,
     "metadata": {},
     "output_type": "execute_result"
    }
   ],
   "source": [
    "rf.fit(X_train,y_train)"
   ]
  },
  {
   "cell_type": "code",
   "execution_count": 38,
   "metadata": {
    "collapsed": true
   },
   "outputs": [],
   "source": [
    "y_rf = rf.predict(X_test)"
   ]
  },
  {
   "cell_type": "code",
   "execution_count": 39,
   "metadata": {
    "collapsed": false
   },
   "outputs": [
    {
     "name": "stdout",
     "output_type": "stream",
     "text": [
      "[[ 390  239]\n",
      " [ 153 1718]]\n",
      "accurracy: 0.8432\n",
      "precision: 0.718232044199\n",
      "recall: 0.620031796502\n",
      "f1: 0.665529010239\n"
     ]
    }
   ],
   "source": [
    "getResult(y_test,y_rf)"
   ]
  },
  {
   "cell_type": "code",
   "execution_count": 41,
   "metadata": {
    "collapsed": true
   },
   "outputs": [],
   "source": [
    "def randomLoop(x):\n",
    "    print(x)\n",
    "    rf = RandomForestClassifier(n_estimators=100)\n",
    "    rf.fit(X_train,y_train)\n",
    "    y_rf = rf.predict(X_test)\n",
    "    getResult(y_test,y_rf)\n",
    "    return rf"
   ]
  },
  {
   "cell_type": "code",
   "execution_count": 42,
   "metadata": {
    "collapsed": true
   },
   "outputs": [],
   "source": [
    "RF = []"
   ]
  },
  {
   "cell_type": "code",
   "execution_count": 45,
   "metadata": {
    "collapsed": false
   },
   "outputs": [
    {
     "name": "stdout",
     "output_type": "stream",
     "text": [
      "100\n",
      "[[ 394  235]\n",
      " [ 156 1715]]\n",
      "accurracy: 0.8436\n",
      "precision: 0.716363636364\n",
      "recall: 0.626391096979\n",
      "f1: 0.668363019508\n",
      "200\n",
      "[[ 396  233]\n",
      " [ 159 1712]]\n",
      "accurracy: 0.8432\n",
      "precision: 0.713513513514\n",
      "recall: 0.629570747218\n",
      "f1: 0.668918918919\n",
      "300\n",
      "[[ 394  235]\n",
      " [ 152 1719]]\n",
      "accurracy: 0.8452\n",
      "precision: 0.721611721612\n",
      "recall: 0.626391096979\n",
      "f1: 0.670638297872\n",
      "400\n",
      "[[ 393  236]\n",
      " [ 157 1714]]\n",
      "accurracy: 0.8428\n",
      "precision: 0.714545454545\n",
      "recall: 0.62480127186\n",
      "f1: 0.666666666667\n",
      "500\n",
      "[[ 392  237]\n",
      " [ 153 1718]]\n",
      "accurracy: 0.844\n",
      "precision: 0.719266055046\n",
      "recall: 0.623211446741\n",
      "f1: 0.667802385009\n",
      "600\n",
      "[[ 395  234]\n",
      " [ 156 1715]]\n",
      "accurracy: 0.844\n",
      "precision: 0.716878402904\n",
      "recall: 0.627980922099\n",
      "f1: 0.669491525424\n",
      "700\n",
      "[[ 395  234]\n",
      " [ 156 1715]]\n",
      "accurracy: 0.844\n",
      "precision: 0.716878402904\n",
      "recall: 0.627980922099\n",
      "f1: 0.669491525424\n",
      "800\n",
      "[[ 394  235]\n",
      " [ 159 1712]]\n",
      "accurracy: 0.8424\n",
      "precision: 0.712477396022\n",
      "recall: 0.626391096979\n",
      "f1: 0.666666666667\n",
      "900\n",
      "[[ 393  236]\n",
      " [ 160 1711]]\n",
      "accurracy: 0.8416\n",
      "precision: 0.710669077758\n",
      "recall: 0.62480127186\n",
      "f1: 0.664974619289\n"
     ]
    }
   ],
   "source": [
    "for i in range(100,1000,100):\n",
    "    RF.append(randomLoop(i))"
   ]
  },
  {
   "cell_type": "markdown",
   "metadata": {},
   "source": [
    " - 이산형"
   ]
  },
  {
   "cell_type": "code",
   "execution_count": 40,
   "metadata": {
    "collapsed": false
   },
   "outputs": [
    {
     "data": {
      "text/plain": [
       "RandomForestClassifier(bootstrap=True, class_weight=None, criterion='gini',\n",
       "            max_depth=None, max_features='auto', max_leaf_nodes=None,\n",
       "            min_impurity_split=1e-07, min_samples_leaf=1,\n",
       "            min_samples_split=2, min_weight_fraction_leaf=0.0,\n",
       "            n_estimators=100, n_jobs=1, oob_score=False, random_state=None,\n",
       "            verbose=0, warm_start=False)"
      ]
     },
     "execution_count": 40,
     "metadata": {},
     "output_type": "execute_result"
    }
   ],
   "source": [
    "rf.fit(X_continuous_train,y_continuous_train)"
   ]
  },
  {
   "cell_type": "code",
   "execution_count": 41,
   "metadata": {
    "collapsed": true
   },
   "outputs": [],
   "source": [
    "y_rf = rf.predict(X_continuous_test)"
   ]
  },
  {
   "cell_type": "code",
   "execution_count": 42,
   "metadata": {
    "collapsed": false
   },
   "outputs": [
    {
     "name": "stdout",
     "output_type": "stream",
     "text": [
      "[[ 306  323]\n",
      " [ 150 1721]]\n",
      "accurracy: 0.8108\n",
      "precision: 0.671052631579\n",
      "recall: 0.486486486486\n",
      "f1: 0.564055299539\n"
     ]
    }
   ],
   "source": [
    "getResult(y_continuous_test,y_rf)"
   ]
  },
  {
   "cell_type": "markdown",
   "metadata": {},
   "source": [
    "## Gradient Boosting Tree"
   ]
  },
  {
   "cell_type": "code",
   "execution_count": 47,
   "metadata": {
    "collapsed": true
   },
   "outputs": [],
   "source": [
    "from sklearn.ensemble import GradientBoostingClassifier"
   ]
  },
  {
   "cell_type": "code",
   "execution_count": 52,
   "metadata": {
    "collapsed": true
   },
   "outputs": [],
   "source": [
    "gb = GradientBoostingClassifier(n_estimators=15)"
   ]
  },
  {
   "cell_type": "code",
   "execution_count": 53,
   "metadata": {
    "collapsed": false
   },
   "outputs": [
    {
     "data": {
      "text/plain": [
       "GradientBoostingClassifier(criterion='friedman_mse', init=None,\n",
       "              learning_rate=0.1, loss='deviance', max_depth=3,\n",
       "              max_features=None, max_leaf_nodes=None,\n",
       "              min_impurity_split=1e-07, min_samples_leaf=1,\n",
       "              min_samples_split=2, min_weight_fraction_leaf=0.0,\n",
       "              n_estimators=15, presort='auto', random_state=None,\n",
       "              subsample=1.0, verbose=0, warm_start=False)"
      ]
     },
     "execution_count": 53,
     "metadata": {},
     "output_type": "execute_result"
    }
   ],
   "source": [
    "gb.fit(X_train,y_train)"
   ]
  },
  {
   "cell_type": "code",
   "execution_count": 54,
   "metadata": {
    "collapsed": true
   },
   "outputs": [],
   "source": [
    "y_gb = gb.predict(X_test)"
   ]
  },
  {
   "cell_type": "code",
   "execution_count": 55,
   "metadata": {
    "collapsed": false
   },
   "outputs": [
    {
     "name": "stdout",
     "output_type": "stream",
     "text": [
      "[[ 304  325]\n",
      " [  80 1791]]\n",
      "accurracy: 0.838\n",
      "precision: 0.791666666667\n",
      "recall: 0.483306836248\n",
      "f1: 0.600197433366\n"
     ]
    }
   ],
   "source": [
    "getResult(y_test,y_gb)"
   ]
  },
  {
   "cell_type": "code",
   "execution_count": 46,
   "metadata": {
    "collapsed": true
   },
   "outputs": [],
   "source": [
    "def gbt(x):\n",
    "    gb = GradientBoostingClassifier(n_estimators=x)\n",
    "    gb.fit(X_train,y_train)\n",
    "    y_gb = gb.predict(X_test)\n",
    "    getResult(y_test,y_gb)\n",
    "    return gb"
   ]
  },
  {
   "cell_type": "code",
   "execution_count": 48,
   "metadata": {
    "collapsed": true
   },
   "outputs": [],
   "source": [
    "gb_list = []"
   ]
  },
  {
   "cell_type": "code",
   "execution_count": 50,
   "metadata": {
    "collapsed": false
   },
   "outputs": [
    {
     "name": "stdout",
     "output_type": "stream",
     "text": [
      "50\n",
      "[[ 353  276]\n",
      " [  93 1778]]\n",
      "accurracy: 0.8524\n",
      "precision: 0.791479820628\n",
      "recall: 0.561208267091\n",
      "f1: 0.656744186047\n",
      "55\n",
      "[[ 358  271]\n",
      " [  94 1777]]\n",
      "accurracy: 0.854\n",
      "precision: 0.79203539823\n",
      "recall: 0.569157392687\n",
      "f1: 0.662349676226\n",
      "60\n",
      "[[ 365  264]\n",
      " [  94 1777]]\n",
      "accurracy: 0.8568\n",
      "precision: 0.795206971678\n",
      "recall: 0.580286168521\n",
      "f1: 0.670955882353\n",
      "65\n",
      "[[ 369  260]\n",
      " [  95 1776]]\n",
      "accurracy: 0.858\n",
      "precision: 0.79525862069\n",
      "recall: 0.586645468998\n",
      "f1: 0.675205855444\n",
      "70\n",
      "[[ 372  257]\n",
      " [  96 1775]]\n",
      "accurracy: 0.8588\n",
      "precision: 0.794871794872\n",
      "recall: 0.591414944356\n",
      "f1: 0.678213309025\n",
      "75\n",
      "[[ 371  258]\n",
      " [  96 1775]]\n",
      "accurracy: 0.8584\n",
      "precision: 0.79443254818\n",
      "recall: 0.589825119237\n",
      "f1: 0.67700729927\n",
      "80\n",
      "[[ 376  253]\n",
      " [  96 1775]]\n",
      "accurracy: 0.8604\n",
      "precision: 0.796610169492\n",
      "recall: 0.597774244833\n",
      "f1: 0.683015440509\n",
      "85\n",
      "[[ 376  253]\n",
      " [  96 1775]]\n",
      "accurracy: 0.8604\n",
      "precision: 0.796610169492\n",
      "recall: 0.597774244833\n",
      "f1: 0.683015440509\n",
      "90\n",
      "[[ 378  251]\n",
      " [  99 1772]]\n",
      "accurracy: 0.86\n",
      "precision: 0.792452830189\n",
      "recall: 0.600953895072\n",
      "f1: 0.683544303797\n",
      "95\n",
      "[[ 379  250]\n",
      " [ 100 1771]]\n",
      "accurracy: 0.86\n",
      "precision: 0.791231732777\n",
      "recall: 0.602543720191\n",
      "f1: 0.684115523466\n"
     ]
    }
   ],
   "source": [
    "for i in range(50,100,5):\n",
    "    print(i)\n",
    "    gb_list.append(gbt(i))"
   ]
  },
  {
   "cell_type": "markdown",
   "metadata": {},
   "source": [
    "## SVM"
   ]
  },
  {
   "cell_type": "code",
   "execution_count": 56,
   "metadata": {
    "collapsed": true
   },
   "outputs": [],
   "source": [
    "from sklearn.svm import SVC"
   ]
  },
  {
   "cell_type": "code",
   "execution_count": 68,
   "metadata": {
    "collapsed": false
   },
   "outputs": [
    {
     "data": {
      "text/plain": [
       "SVC(C=5, cache_size=1000, class_weight=None, coef0=0.0,\n",
       "  decision_function_shape=None, degree=3, gamma='auto', kernel='rbf',\n",
       "  max_iter=-1, probability=False, random_state=None, shrinking=True,\n",
       "  tol=0.001, verbose=False)"
      ]
     },
     "execution_count": 68,
     "metadata": {},
     "output_type": "execute_result"
    }
   ],
   "source": [
    "model = SVC(kernel='rbf',C=5,cache_size=1000)\n",
    "model.fit(X_train, y_train)"
   ]
  },
  {
   "cell_type": "code",
   "execution_count": 69,
   "metadata": {
    "collapsed": true
   },
   "outputs": [],
   "source": [
    "y_pred = model.predict(X_test)"
   ]
  },
  {
   "cell_type": "code",
   "execution_count": 70,
   "metadata": {
    "collapsed": false
   },
   "outputs": [
    {
     "name": "stdout",
     "output_type": "stream",
     "text": [
      "[[ 387  242]\n",
      " [ 103 1768]]\n",
      "accurracy: 0.862\n",
      "precision: 0.789795918367\n",
      "recall: 0.615262321145\n",
      "f1: 0.691689008043\n"
     ]
    }
   ],
   "source": [
    "getResult(y_test,y_pred)"
   ]
  },
  {
   "cell_type": "code",
   "execution_count": 71,
   "metadata": {
    "collapsed": true
   },
   "outputs": [],
   "source": [
    "def run_model(kernel,penalty,cache):\n",
    "    model = SVC(kernel=kernel, C=penalty,cache_size=cache)\n",
    "    model.fit(X_train, y_train)\n",
    "    y_pred = model.predict(X_test)\n",
    "    \n",
    "    getResult(y_test,y_pred)\n",
    "    return model"
   ]
  },
  {
   "cell_type": "code",
   "execution_count": 72,
   "metadata": {
    "collapsed": false
   },
   "outputs": [
    {
     "name": "stdout",
     "output_type": "stream",
     "text": [
      "[[ 397  232]\n",
      " [ 119 1752]]\n",
      "accurracy: 0.8596\n",
      "precision: 0.769379844961\n",
      "recall: 0.631160572337\n",
      "f1: 0.693449781659\n"
     ]
    }
   ],
   "source": [
    "svc = run_model('rbf',10,1000)"
   ]
  },
  {
   "cell_type": "code",
   "execution_count": 78,
   "metadata": {
    "collapsed": false
   },
   "outputs": [],
   "source": [
    "a = []"
   ]
  },
  {
   "cell_type": "code",
   "execution_count": 82,
   "metadata": {
    "collapsed": false,
    "scrolled": false
   },
   "outputs": [
    {
     "name": "stdout",
     "output_type": "stream",
     "text": [
      "[[ 335  294]\n",
      " [  81 1790]]\n",
      "accurracy: 0.85\n",
      "precision: 0.805288461538\n",
      "recall: 0.532591414944\n",
      "f1: 0.641148325359\n",
      "[[ 352  277]\n",
      " [  90 1781]]\n",
      "accurracy: 0.8532\n",
      "precision: 0.796380090498\n",
      "recall: 0.559618441971\n",
      "f1: 0.657329598506\n",
      "[[ 373  256]\n",
      " [  92 1779]]\n",
      "accurracy: 0.8608\n",
      "precision: 0.802150537634\n",
      "recall: 0.593004769475\n",
      "f1: 0.681901279707\n",
      "[[ 379  250]\n",
      " [ 101 1770]]\n",
      "accurracy: 0.8596\n",
      "precision: 0.789583333333\n",
      "recall: 0.602543720191\n",
      "f1: 0.68349864743\n",
      "[[ 387  242]\n",
      " [ 103 1768]]\n",
      "accurracy: 0.862\n",
      "precision: 0.789795918367\n",
      "recall: 0.615262321145\n",
      "f1: 0.691689008043\n",
      "[[ 393  236]\n",
      " [ 108 1763]]\n",
      "accurracy: 0.8624\n",
      "precision: 0.784431137725\n",
      "recall: 0.62480127186\n",
      "f1: 0.695575221239\n",
      "[[ 393  236]\n",
      " [ 113 1758]]\n",
      "accurracy: 0.8604\n",
      "precision: 0.776679841897\n",
      "recall: 0.62480127186\n",
      "f1: 0.692511013216\n",
      "[[ 395  234]\n",
      " [ 116 1755]]\n",
      "accurracy: 0.86\n",
      "precision: 0.772994129159\n",
      "recall: 0.627980922099\n",
      "f1: 0.69298245614\n",
      "[[ 396  233]\n",
      " [ 116 1755]]\n",
      "accurracy: 0.8604\n",
      "precision: 0.7734375\n",
      "recall: 0.629570747218\n",
      "f1: 0.694127957932\n"
     ]
    }
   ],
   "source": [
    "for i in range(1,10):\n",
    "    s = run_model('rbf',i,1000)\n",
    "    a.append(s)"
   ]
  },
  {
   "cell_type": "markdown",
   "metadata": {},
   "source": [
    "### SVM \n",
    " - c = 6 일때 가장 높았다 \n",
    "         [[ 393  236]\n",
    "         [ 108 1763]]\n",
    "        accurracy: 0.8624\n",
    "        precision: 0.784431137725\n",
    "        recall: 0.62480127186\n",
    "        f1: 0.695575221239"
   ]
  },
  {
   "cell_type": "code",
   "execution_count": 84,
   "metadata": {
    "collapsed": true
   },
   "outputs": [],
   "source": [
    "b = []"
   ]
  },
  {
   "cell_type": "code",
   "execution_count": 85,
   "metadata": {
    "collapsed": false,
    "scrolled": false
   },
   "outputs": [
    {
     "name": "stdout",
     "output_type": "stream",
     "text": [
      "10\n",
      "[[ 397  232]\n",
      " [ 119 1752]]\n",
      "accurracy: 0.8596\n",
      "precision: 0.769379844961\n",
      "recall: 0.631160572337\n",
      "f1: 0.693449781659\n",
      "11\n",
      "[[ 397  232]\n",
      " [ 118 1753]]\n",
      "accurracy: 0.86\n",
      "precision: 0.770873786408\n",
      "recall: 0.631160572337\n",
      "f1: 0.694055944056\n",
      "12\n",
      "[[ 399  230]\n",
      " [ 121 1750]]\n",
      "accurracy: 0.8596\n",
      "precision: 0.767307692308\n",
      "recall: 0.634340222576\n",
      "f1: 0.694516971279\n",
      "13\n",
      "[[ 399  230]\n",
      " [ 123 1748]]\n",
      "accurracy: 0.8588\n",
      "precision: 0.764367816092\n",
      "recall: 0.634340222576\n",
      "f1: 0.693310165074\n",
      "14\n",
      "[[ 401  228]\n",
      " [ 124 1747]]\n",
      "accurracy: 0.8592\n",
      "precision: 0.76380952381\n",
      "recall: 0.637519872814\n",
      "f1: 0.694974003466\n"
     ]
    }
   ],
   "source": [
    "for i in range(10,15):\n",
    "    print(i)\n",
    "    s = run_model('rbf',i,2000)\n",
    "    b.append(s)"
   ]
  },
  {
   "cell_type": "code",
   "execution_count": 86,
   "metadata": {
    "collapsed": true
   },
   "outputs": [],
   "source": [
    "c = []"
   ]
  },
  {
   "cell_type": "code",
   "execution_count": null,
   "metadata": {
    "collapsed": false
   },
   "outputs": [
    {
     "name": "stdout",
     "output_type": "stream",
     "text": [
      "1\n"
     ]
    }
   ],
   "source": [
    "for i in range(1,15):\n",
    "    print(i)\n",
    "    s = run_model('linear',i,2000)\n",
    "    c.append(s)"
   ]
  },
  {
   "cell_type": "markdown",
   "metadata": {},
   "source": [
    "### SVM 커널 "
   ]
  },
  {
   "cell_type": "code",
   "execution_count": null,
   "metadata": {
    "collapsed": false
   },
   "outputs": [],
   "source": [
    "data = train[discrete]\n",
    "data.head()"
   ]
  },
  {
   "cell_type": "code",
   "execution_count": null,
   "metadata": {
    "collapsed": false
   },
   "outputs": [],
   "source": [
    "X = data[[x for x in discrete]]"
   ]
  },
  {
   "cell_type": "code",
   "execution_count": null,
   "metadata": {
    "collapsed": false
   },
   "outputs": [],
   "source": [
    "y.head()"
   ]
  },
  {
   "cell_type": "code",
   "execution_count": null,
   "metadata": {
    "collapsed": true
   },
   "outputs": [],
   "source": [
    "def hand_made_kernel(d1, d2):\n",
    "    same = 0\n",
    "    for a, b in zip(d1, d2):\n",
    "        if a == b:\n",
    "            same = same + 1\n",
    "    return same"
   ]
  },
  {
   "cell_type": "code",
   "execution_count": null,
   "metadata": {
    "collapsed": false
   },
   "outputs": [],
   "source": [
    "X_train, X_test, y_train, y_test = train_test_split(X, y, test_size=0.4)"
   ]
  },
  {
   "cell_type": "code",
   "execution_count": null,
   "metadata": {
    "collapsed": true
   },
   "outputs": [],
   "source": [
    "row_train, _ = X_train.shape"
   ]
  },
  {
   "cell_type": "code",
   "execution_count": null,
   "metadata": {
    "collapsed": false
   },
   "outputs": [],
   "source": [
    "row_train"
   ]
  },
  {
   "cell_type": "code",
   "execution_count": null,
   "metadata": {
    "collapsed": true
   },
   "outputs": [],
   "source": [
    "import numpy"
   ]
  },
  {
   "cell_type": "code",
   "execution_count": null,
   "metadata": {
    "collapsed": true
   },
   "outputs": [],
   "source": [
    "P_train = numpy.zeros((row_train, row_train))"
   ]
  },
  {
   "cell_type": "code",
   "execution_count": null,
   "metadata": {
    "collapsed": false
   },
   "outputs": [],
   "source": [
    "for i in range(row_train):\n",
    "    if i % 1000 == 0:\n",
    "        print(i)\n",
    "    for j in range(row_train):\n",
    "        P_train[i, j] = hand_made_kernel(X_train.iloc[i,:], X_train.iloc[j,:])"
   ]
  },
  {
   "cell_type": "code",
   "execution_count": null,
   "metadata": {
    "collapsed": false
   },
   "outputs": [],
   "source": [
    "P_train"
   ]
  },
  {
   "cell_type": "markdown",
   "metadata": {},
   "source": [
    "### 훈련"
   ]
  },
  {
   "cell_type": "code",
   "execution_count": null,
   "metadata": {
    "collapsed": true
   },
   "outputs": [],
   "source": [
    "model = SVC(kernel='precomputed', C=1)"
   ]
  },
  {
   "cell_type": "code",
   "execution_count": null,
   "metadata": {
    "collapsed": false
   },
   "outputs": [],
   "source": [
    "model.fit(P_train, y_train)"
   ]
  },
  {
   "cell_type": "code",
   "execution_count": null,
   "metadata": {
    "collapsed": true
   },
   "outputs": [],
   "source": [
    "row_test, _ = X_test.shape"
   ]
  },
  {
   "cell_type": "code",
   "execution_count": null,
   "metadata": {
    "collapsed": false
   },
   "outputs": [],
   "source": [
    "row_test"
   ]
  },
  {
   "cell_type": "code",
   "execution_count": null,
   "metadata": {
    "collapsed": false
   },
   "outputs": [],
   "source": [
    "row_train"
   ]
  },
  {
   "cell_type": "code",
   "execution_count": null,
   "metadata": {
    "collapsed": true
   },
   "outputs": [],
   "source": [
    "P_test = numpy.zeros((row_test, row_train))"
   ]
  },
  {
   "cell_type": "code",
   "execution_count": null,
   "metadata": {
    "collapsed": true
   },
   "outputs": [],
   "source": [
    "for i in range(row_test):\n",
    "    for j in range(row_train):\n",
    "        P_test[i, j] = hand_made_kernel(X_test.iloc[i,:], X_train.iloc[j,:])"
   ]
  },
  {
   "cell_type": "code",
   "execution_count": null,
   "metadata": {
    "collapsed": false
   },
   "outputs": [],
   "source": [
    "P_test"
   ]
  },
  {
   "cell_type": "code",
   "execution_count": null,
   "metadata": {
    "collapsed": true
   },
   "outputs": [],
   "source": [
    "yp = model.predict(P_test)"
   ]
  },
  {
   "cell_type": "code",
   "execution_count": null,
   "metadata": {
    "collapsed": false
   },
   "outputs": [],
   "source": [
    "getResult(y_test,yp)"
   ]
  }
 ],
 "metadata": {
  "anaconda-cloud": {},
  "kernelspec": {
   "display_name": "Python [py35]",
   "language": "python",
   "name": "Python [py35]"
  },
  "language_info": {
   "codemirror_mode": {
    "name": "ipython",
    "version": 3
   },
   "file_extension": ".py",
   "mimetype": "text/x-python",
   "name": "python",
   "nbconvert_exporter": "python",
   "pygments_lexer": "ipython3",
   "version": "3.5.2"
  }
 },
 "nbformat": 4,
 "nbformat_minor": 0
}
