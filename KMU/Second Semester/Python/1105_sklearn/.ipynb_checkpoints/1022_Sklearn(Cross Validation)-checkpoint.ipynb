{
 "cells": [
  {
   "cell_type": "markdown",
   "metadata": {},
   "source": [
    "# scikit-learn\n",
    " - <a href=\"http://scikit-learn.org/\">scikit-learn</a>\n",
    " <img src=\"photo/1.PNG\"> \n",
    " \n",
    " \n",
    " - 실제 현업에서의 Machine Learning  \n",
    "  - 모든 해당되는 모델을 다 돌려본다. \n",
    "  - 가장 좋은 모델을 선택한다. "
   ]
  },
  {
   "cell_type": "code",
   "execution_count": 4,
   "metadata": {
    "collapsed": true
   },
   "outputs": [],
   "source": [
    "import pandas as pd "
   ]
  },
  {
   "cell_type": "code",
   "execution_count": 5,
   "metadata": {
    "collapsed": false
   },
   "outputs": [
    {
     "data": {
      "text/html": [
       "<div>\n",
       "<table border=\"1\" class=\"dataframe\">\n",
       "  <thead>\n",
       "    <tr style=\"text-align: right;\">\n",
       "      <th></th>\n",
       "      <th>symboling</th>\n",
       "      <th>normalized_losses</th>\n",
       "      <th>maker</th>\n",
       "      <th>fuel</th>\n",
       "      <th>aspiration</th>\n",
       "      <th>doors</th>\n",
       "      <th>body</th>\n",
       "      <th>wheels</th>\n",
       "      <th>engine_location</th>\n",
       "      <th>wheel_base</th>\n",
       "      <th>...</th>\n",
       "      <th>engine_size</th>\n",
       "      <th>fuel_system</th>\n",
       "      <th>bore</th>\n",
       "      <th>stroke</th>\n",
       "      <th>compression_ratio</th>\n",
       "      <th>horsepower</th>\n",
       "      <th>peak_rpm</th>\n",
       "      <th>city_mpg</th>\n",
       "      <th>highway_mpg</th>\n",
       "      <th>price</th>\n",
       "    </tr>\n",
       "  </thead>\n",
       "  <tbody>\n",
       "    <tr>\n",
       "      <th>0</th>\n",
       "      <td>2</td>\n",
       "      <td>164</td>\n",
       "      <td>audi</td>\n",
       "      <td>gas</td>\n",
       "      <td>std</td>\n",
       "      <td>four</td>\n",
       "      <td>sedan</td>\n",
       "      <td>fwd</td>\n",
       "      <td>front</td>\n",
       "      <td>99.8</td>\n",
       "      <td>...</td>\n",
       "      <td>109</td>\n",
       "      <td>mpfi</td>\n",
       "      <td>3.19</td>\n",
       "      <td>3.4</td>\n",
       "      <td>10.0</td>\n",
       "      <td>102</td>\n",
       "      <td>5500</td>\n",
       "      <td>24</td>\n",
       "      <td>30</td>\n",
       "      <td>13950</td>\n",
       "    </tr>\n",
       "    <tr>\n",
       "      <th>1</th>\n",
       "      <td>2</td>\n",
       "      <td>164</td>\n",
       "      <td>audi</td>\n",
       "      <td>gas</td>\n",
       "      <td>std</td>\n",
       "      <td>four</td>\n",
       "      <td>sedan</td>\n",
       "      <td>4wd</td>\n",
       "      <td>front</td>\n",
       "      <td>99.4</td>\n",
       "      <td>...</td>\n",
       "      <td>136</td>\n",
       "      <td>mpfi</td>\n",
       "      <td>3.19</td>\n",
       "      <td>3.4</td>\n",
       "      <td>8.0</td>\n",
       "      <td>115</td>\n",
       "      <td>5500</td>\n",
       "      <td>18</td>\n",
       "      <td>22</td>\n",
       "      <td>17450</td>\n",
       "    </tr>\n",
       "    <tr>\n",
       "      <th>2</th>\n",
       "      <td>1</td>\n",
       "      <td>158</td>\n",
       "      <td>audi</td>\n",
       "      <td>gas</td>\n",
       "      <td>std</td>\n",
       "      <td>four</td>\n",
       "      <td>sedan</td>\n",
       "      <td>fwd</td>\n",
       "      <td>front</td>\n",
       "      <td>105.8</td>\n",
       "      <td>...</td>\n",
       "      <td>136</td>\n",
       "      <td>mpfi</td>\n",
       "      <td>3.19</td>\n",
       "      <td>3.4</td>\n",
       "      <td>8.5</td>\n",
       "      <td>110</td>\n",
       "      <td>5500</td>\n",
       "      <td>19</td>\n",
       "      <td>25</td>\n",
       "      <td>17710</td>\n",
       "    </tr>\n",
       "    <tr>\n",
       "      <th>3</th>\n",
       "      <td>1</td>\n",
       "      <td>158</td>\n",
       "      <td>audi</td>\n",
       "      <td>gas</td>\n",
       "      <td>turbo</td>\n",
       "      <td>four</td>\n",
       "      <td>sedan</td>\n",
       "      <td>fwd</td>\n",
       "      <td>front</td>\n",
       "      <td>105.8</td>\n",
       "      <td>...</td>\n",
       "      <td>131</td>\n",
       "      <td>mpfi</td>\n",
       "      <td>3.13</td>\n",
       "      <td>3.4</td>\n",
       "      <td>8.3</td>\n",
       "      <td>140</td>\n",
       "      <td>5500</td>\n",
       "      <td>17</td>\n",
       "      <td>20</td>\n",
       "      <td>23875</td>\n",
       "    </tr>\n",
       "    <tr>\n",
       "      <th>4</th>\n",
       "      <td>2</td>\n",
       "      <td>192</td>\n",
       "      <td>bmw</td>\n",
       "      <td>gas</td>\n",
       "      <td>std</td>\n",
       "      <td>two</td>\n",
       "      <td>sedan</td>\n",
       "      <td>rwd</td>\n",
       "      <td>front</td>\n",
       "      <td>101.2</td>\n",
       "      <td>...</td>\n",
       "      <td>108</td>\n",
       "      <td>mpfi</td>\n",
       "      <td>3.50</td>\n",
       "      <td>2.8</td>\n",
       "      <td>8.8</td>\n",
       "      <td>101</td>\n",
       "      <td>5800</td>\n",
       "      <td>23</td>\n",
       "      <td>29</td>\n",
       "      <td>16430</td>\n",
       "    </tr>\n",
       "  </tbody>\n",
       "</table>\n",
       "<p>5 rows × 26 columns</p>\n",
       "</div>"
      ],
      "text/plain": [
       "   symboling  normalized_losses maker fuel aspiration doors   body wheels  \\\n",
       "0          2                164  audi  gas        std  four  sedan    fwd   \n",
       "1          2                164  audi  gas        std  four  sedan    4wd   \n",
       "2          1                158  audi  gas        std  four  sedan    fwd   \n",
       "3          1                158  audi  gas      turbo  four  sedan    fwd   \n",
       "4          2                192   bmw  gas        std   two  sedan    rwd   \n",
       "\n",
       "  engine_location  wheel_base  ...    engine_size  fuel_system  bore  stroke  \\\n",
       "0           front        99.8  ...            109         mpfi  3.19     3.4   \n",
       "1           front        99.4  ...            136         mpfi  3.19     3.4   \n",
       "2           front       105.8  ...            136         mpfi  3.19     3.4   \n",
       "3           front       105.8  ...            131         mpfi  3.13     3.4   \n",
       "4           front       101.2  ...            108         mpfi  3.50     2.8   \n",
       "\n",
       "  compression_ratio horsepower  peak_rpm city_mpg  highway_mpg  price  \n",
       "0              10.0        102      5500       24           30  13950  \n",
       "1               8.0        115      5500       18           22  17450  \n",
       "2               8.5        110      5500       19           25  17710  \n",
       "3               8.3        140      5500       17           20  23875  \n",
       "4               8.8        101      5800       23           29  16430  \n",
       "\n",
       "[5 rows x 26 columns]"
      ]
     },
     "execution_count": 5,
     "metadata": {},
     "output_type": "execute_result"
    }
   ],
   "source": [
    "automobile = pd.read_csv(\"../1015_Numpy&Pandas/automobile.csv\")\n",
    "automobile.head()"
   ]
  },
  {
   "cell_type": "code",
   "execution_count": 2,
   "metadata": {
    "collapsed": true
   },
   "outputs": [],
   "source": [
    "from sklearn.linear_model import LinearRegression"
   ]
  },
  {
   "cell_type": "code",
   "execution_count": 6,
   "metadata": {
    "collapsed": true
   },
   "outputs": [],
   "source": [
    "lm = LinearRegression()"
   ]
  },
  {
   "cell_type": "code",
   "execution_count": 7,
   "metadata": {
    "collapsed": true
   },
   "outputs": [],
   "source": [
    "variables = ['bore', 'city_mpg', 'compression_ratio', 'curb_weight','engine_size','horsepower', 'peak_rpm', 'city_mpg', 'price']"
   ]
  },
  {
   "cell_type": "code",
   "execution_count": 8,
   "metadata": {
    "collapsed": false
   },
   "outputs": [],
   "source": [
    "X = automobile[variables]\n",
    "y = automobile['symboling']"
   ]
  },
  {
   "cell_type": "markdown",
   "metadata": {},
   "source": [
    " - fit() 에서 y = ax+b  모델을 가장 맞도록 a와 b를 조정 "
   ]
  },
  {
   "cell_type": "code",
   "execution_count": 9,
   "metadata": {
    "collapsed": false
   },
   "outputs": [
    {
     "data": {
      "text/plain": [
       "LinearRegression(copy_X=True, fit_intercept=True, n_jobs=1, normalize=False)"
      ]
     },
     "execution_count": 9,
     "metadata": {},
     "output_type": "execute_result"
    }
   ],
   "source": [
    "lm.fit(X,y)"
   ]
  },
  {
   "cell_type": "markdown",
   "metadata": {},
   "source": [
    " - y의 절편"
   ]
  },
  {
   "cell_type": "code",
   "execution_count": 10,
   "metadata": {
    "collapsed": false
   },
   "outputs": [
    {
     "data": {
      "text/plain": [
       "6.9288843193297645"
      ]
     },
     "execution_count": 10,
     "metadata": {},
     "output_type": "execute_result"
    }
   ],
   "source": [
    "lm.intercept_ #  절편"
   ]
  },
  {
   "cell_type": "markdown",
   "metadata": {},
   "source": [
    " - x의 기울기"
   ]
  },
  {
   "cell_type": "code",
   "execution_count": 11,
   "metadata": {
    "collapsed": false
   },
   "outputs": [
    {
     "data": {
      "text/plain": [
       "array([ -9.19994818e-01,  -1.77056096e-02,   4.96314792e-02,\n",
       "        -2.48623412e-03,   1.29670222e-02,   1.85775081e-02,\n",
       "        -5.82385783e-06,  -1.77056096e-02,   8.75977992e-06])"
      ]
     },
     "execution_count": 11,
     "metadata": {},
     "output_type": "execute_result"
    }
   ],
   "source": [
    "lm.coef_ #기울기 "
   ]
  },
  {
   "cell_type": "markdown",
   "metadata": {},
   "source": [
    "## statsmodels와 비교"
   ]
  },
  {
   "cell_type": "code",
   "execution_count": 12,
   "metadata": {
    "collapsed": true
   },
   "outputs": [],
   "source": [
    "import statsmodels.formula.api as smf"
   ]
  },
  {
   "cell_type": "code",
   "execution_count": 13,
   "metadata": {
    "collapsed": false
   },
   "outputs": [
    {
     "data": {
      "text/html": [
       "<table class=\"simpletable\">\n",
       "<caption>OLS Regression Results</caption>\n",
       "<tr>\n",
       "  <th>Dep. Variable:</th>        <td>symboling</td>    <th>  R-squared:         </th> <td>   0.222</td>\n",
       "</tr>\n",
       "<tr>\n",
       "  <th>Model:</th>                   <td>OLS</td>       <th>  Adj. R-squared:    </th> <td>   0.180</td>\n",
       "</tr>\n",
       "<tr>\n",
       "  <th>Method:</th>             <td>Least Squares</td>  <th>  F-statistic:       </th> <td>   5.339</td>\n",
       "</tr>\n",
       "<tr>\n",
       "  <th>Date:</th>             <td>Tue, 08 Nov 2016</td> <th>  Prob (F-statistic):</th> <td>6.58e-06</td>\n",
       "</tr>\n",
       "<tr>\n",
       "  <th>Time:</th>                 <td>13:19:26</td>     <th>  Log-Likelihood:    </th> <td> -233.26</td>\n",
       "</tr>\n",
       "<tr>\n",
       "  <th>No. Observations:</th>      <td>   159</td>      <th>  AIC:               </th> <td>   484.5</td>\n",
       "</tr>\n",
       "<tr>\n",
       "  <th>Df Residuals:</th>          <td>   150</td>      <th>  BIC:               </th> <td>   512.1</td>\n",
       "</tr>\n",
       "<tr>\n",
       "  <th>Df Model:</th>              <td>     8</td>      <th>                     </th>     <td> </td>   \n",
       "</tr>\n",
       "<tr>\n",
       "  <th>Covariance Type:</th>      <td>nonrobust</td>    <th>                     </th>     <td> </td>   \n",
       "</tr>\n",
       "</table>\n",
       "<table class=\"simpletable\">\n",
       "<tr>\n",
       "          <td></td>             <th>coef</th>     <th>std err</th>      <th>t</th>      <th>P>|t|</th> <th>[95.0% Conf. Int.]</th> \n",
       "</tr>\n",
       "<tr>\n",
       "  <th>Intercept</th>         <td>    6.9289</td> <td>    2.886</td> <td>    2.401</td> <td> 0.018</td> <td>    1.227    12.631</td>\n",
       "</tr>\n",
       "<tr>\n",
       "  <th>bore</th>              <td>   -0.9200</td> <td>    0.458</td> <td>   -2.008</td> <td> 0.046</td> <td>   -1.825    -0.015</td>\n",
       "</tr>\n",
       "<tr>\n",
       "  <th>city_mpg</th>          <td>   -0.0354</td> <td>    0.034</td> <td>   -1.051</td> <td> 0.295</td> <td>   -0.102     0.031</td>\n",
       "</tr>\n",
       "<tr>\n",
       "  <th>compression_ratio</th> <td>    0.0496</td> <td>    0.034</td> <td>    1.460</td> <td> 0.147</td> <td>   -0.018     0.117</td>\n",
       "</tr>\n",
       "<tr>\n",
       "  <th>curb_weight</th>       <td>   -0.0025</td> <td>    0.001</td> <td>   -4.078</td> <td> 0.000</td> <td>   -0.004    -0.001</td>\n",
       "</tr>\n",
       "<tr>\n",
       "  <th>engine_size</th>       <td>    0.0130</td> <td>    0.007</td> <td>    1.736</td> <td> 0.085</td> <td>   -0.002     0.028</td>\n",
       "</tr>\n",
       "<tr>\n",
       "  <th>horsepower</th>        <td>    0.0186</td> <td>    0.007</td> <td>    2.591</td> <td> 0.011</td> <td>    0.004     0.033</td>\n",
       "</tr>\n",
       "<tr>\n",
       "  <th>peak_rpm</th>          <td>-5.824e-06</td> <td>    0.000</td> <td>   -0.023</td> <td> 0.982</td> <td>   -0.001     0.000</td>\n",
       "</tr>\n",
       "<tr>\n",
       "  <th>price</th>             <td>  8.76e-06</td> <td> 3.46e-05</td> <td>    0.253</td> <td> 0.801</td> <td>-5.97e-05  7.72e-05</td>\n",
       "</tr>\n",
       "</table>\n",
       "<table class=\"simpletable\">\n",
       "<tr>\n",
       "  <th>Omnibus:</th>       <td> 2.254</td> <th>  Durbin-Watson:     </th> <td>   1.100</td>\n",
       "</tr>\n",
       "<tr>\n",
       "  <th>Prob(Omnibus):</th> <td> 0.324</td> <th>  Jarque-Bera (JB):  </th> <td>   1.976</td>\n",
       "</tr>\n",
       "<tr>\n",
       "  <th>Skew:</th>          <td> 0.162</td> <th>  Prob(JB):          </th> <td>   0.372</td>\n",
       "</tr>\n",
       "<tr>\n",
       "  <th>Kurtosis:</th>      <td> 2.560</td> <th>  Cond. No.          </th> <td>4.69e+05</td>\n",
       "</tr>\n",
       "</table>"
      ],
      "text/plain": [
       "<class 'statsmodels.iolib.summary.Summary'>\n",
       "\"\"\"\n",
       "                            OLS Regression Results                            \n",
       "==============================================================================\n",
       "Dep. Variable:              symboling   R-squared:                       0.222\n",
       "Model:                            OLS   Adj. R-squared:                  0.180\n",
       "Method:                 Least Squares   F-statistic:                     5.339\n",
       "Date:                Tue, 08 Nov 2016   Prob (F-statistic):           6.58e-06\n",
       "Time:                        13:19:26   Log-Likelihood:                -233.26\n",
       "No. Observations:                 159   AIC:                             484.5\n",
       "Df Residuals:                     150   BIC:                             512.1\n",
       "Df Model:                           8                                         \n",
       "Covariance Type:            nonrobust                                         \n",
       "=====================================================================================\n",
       "                        coef    std err          t      P>|t|      [95.0% Conf. Int.]\n",
       "-------------------------------------------------------------------------------------\n",
       "Intercept             6.9289      2.886      2.401      0.018         1.227    12.631\n",
       "bore                 -0.9200      0.458     -2.008      0.046        -1.825    -0.015\n",
       "city_mpg             -0.0354      0.034     -1.051      0.295        -0.102     0.031\n",
       "compression_ratio     0.0496      0.034      1.460      0.147        -0.018     0.117\n",
       "curb_weight          -0.0025      0.001     -4.078      0.000        -0.004    -0.001\n",
       "engine_size           0.0130      0.007      1.736      0.085        -0.002     0.028\n",
       "horsepower            0.0186      0.007      2.591      0.011         0.004     0.033\n",
       "peak_rpm          -5.824e-06      0.000     -0.023      0.982        -0.001     0.000\n",
       "price               8.76e-06   3.46e-05      0.253      0.801     -5.97e-05  7.72e-05\n",
       "==============================================================================\n",
       "Omnibus:                        2.254   Durbin-Watson:                   1.100\n",
       "Prob(Omnibus):                  0.324   Jarque-Bera (JB):                1.976\n",
       "Skew:                           0.162   Prob(JB):                        0.372\n",
       "Kurtosis:                       2.560   Cond. No.                     4.69e+05\n",
       "==============================================================================\n",
       "\n",
       "Warnings:\n",
       "[1] Standard Errors assume that the covariance matrix of the errors is correctly specified.\n",
       "[2] The condition number is large, 4.69e+05. This might indicate that there are\n",
       "strong multicollinearity or other numerical problems.\n",
       "\"\"\""
      ]
     },
     "execution_count": 13,
     "metadata": {},
     "output_type": "execute_result"
    }
   ],
   "source": [
    "smf.ols('symboling ~ ' + '+'.join(variables), data=automobile).fit().summary()"
   ]
  },
  {
   "cell_type": "markdown",
   "metadata": {},
   "source": [
    "## 왜 이런 차이가 나는가?"
   ]
  },
  {
   "cell_type": "markdown",
   "metadata": {},
   "source": [
    " - sklearn과 stats 와 다른 이유 \n",
    "  - 데이터를 보고 하려는 이유가 아니라 기계가 학습하기 좋은 모델만 찾으면 된다. "
   ]
  },
  {
   "cell_type": "code",
   "execution_count": 10,
   "metadata": {
    "collapsed": false
   },
   "outputs": [
    {
     "data": {
      "text/plain": [
       "array([ 1.22869619,  0.75338096,  0.6024508 ,  0.66337215,  0.76358223,\n",
       "        0.76791832,  1.38246601,  1.24690571,  1.05748346,  1.10408469,\n",
       "        1.01951923,  1.13622242,  1.35524505,  1.58126814,  1.1277013 ,\n",
       "        1.07705992,  1.08509264,  0.39132056,  1.10374268,  1.03335441,\n",
       "        1.71806314,  0.994447  ,  1.44978434,  1.41526047,  1.28245795,\n",
       "        1.23845072,  1.02167976,  0.90042109,  0.86093763,  0.70457539,\n",
       "        0.88146531,  1.23904373,  0.22109461,  1.2863216 ,  1.23393184,\n",
       "        1.22763252,  1.12730717,  1.07500811,  0.57858565,  0.51336387,\n",
       "        0.59391526,  0.52869348,  0.50015975,  0.73139093,  0.04071458,\n",
       "       -0.51993407,  0.11342492, -0.54029597,  0.62250774,  1.05563528,\n",
       "        1.21046833,  1.06549898,  1.53665454,  1.31447473,  0.85766323,\n",
       "        0.7524453 ,  0.66350767,  1.22647236,  1.22647236,  1.26072767,\n",
       "        1.04838751,  1.19870063,  1.1507279 ,  0.94129166,  1.12234876,\n",
       "        0.93528862,  1.07437603,  0.91466447,  0.98895521,  0.95922628,\n",
       "        1.0191793 ,  1.18187652,  0.69002727,  1.19807228,  1.35175495,\n",
       "        1.95895547,  1.19320277, -0.5854505 , -0.54552935, -0.72711241,\n",
       "       -0.64986104, -0.68075962, -0.64066327,  0.03777215,  1.03130428,\n",
       "        1.58126814,  1.1277013 ,  1.07705992,  0.68660953,  0.38212062,\n",
       "        0.97147785,  0.46788954,  0.3782057 ,  1.29350627,  0.25083061,\n",
       "        1.13299716,  1.04015112,  0.4066035 ,  0.63154315,  0.33801293,\n",
       "        0.56213265,  0.59991164,  0.51039435,  0.24236734,  0.4235622 ,\n",
       "        0.32140989,  0.26197347,  0.18007343,  0.11471114,  0.75868036,\n",
       "        0.77225454,  0.83572436,  0.18063902,  0.30600614, -1.72499723,\n",
       "        0.80860895,  0.74127194,  0.68673574,  0.54412729,  0.50000598,\n",
       "        0.78993468,  0.75306627,  0.63504252,  0.54960109,  1.25708508,\n",
       "        1.17216923,  0.98940494,  1.00977402,  0.97554643,  0.66790779,\n",
       "        0.58395552, -0.01134173,  0.85061917,  0.65904764,  0.71176318,\n",
       "        0.71973458,  0.6134062 ,  1.59791686,  1.52897323,  1.10709639,\n",
       "        0.63361782,  1.02436766,  0.62808627,  1.01883611,  0.8648313 ,\n",
       "        0.80347035,  1.17806447,  1.18494571, -0.10348008, -0.40263975,\n",
       "       -0.16940115, -0.43078552,  0.62508821,  0.35127267, -0.1687225 ,\n",
       "        0.56647175,  0.83497434,  0.40062888, -0.24993185])"
      ]
     },
     "execution_count": 10,
     "metadata": {},
     "output_type": "execute_result"
    }
   ],
   "source": [
    "lm.predict(X) # X에 원래 데이터 형태와 같은 새로운 데이터를 넣으면 나오게 된다. "
   ]
  },
  {
   "cell_type": "markdown",
   "metadata": {},
   "source": [
    "## Cross Validation \n",
    " - 데이터를 훈련용과 테스트용으로 나누어 훈련용 데이터에만 적합시킨 후 테스트용 데이터에 검증 \n",
    " - 실제 y - 예측 z : 실제와 예측의 차이 => 에러를 제곱한다. \n",
    "  - squared_error의 mean => mean_squared_error"
   ]
  },
  {
   "cell_type": "code",
   "execution_count": 16,
   "metadata": {
    "collapsed": false
   },
   "outputs": [],
   "source": [
    "from sklearn.model_selection import train_test_split #  수업자료는 model selection은 에러가난다. (0.18)    cross_vaildation (0.17)"
   ]
  },
  {
   "cell_type": "markdown",
   "metadata": {},
   "source": [
    " - test set의 사이즈를 40%로 한다. 데이터셋을 무작위로 나누기 때문에 random_state를 고정시킴(실전에서는 고정않음)"
   ]
  },
  {
   "cell_type": "code",
   "execution_count": 17,
   "metadata": {
    "collapsed": false
   },
   "outputs": [],
   "source": [
    "X_train, X_test, y_train, y_test = train_test_split(X,y,test_size=0.4,random_state=(0))"
   ]
  },
  {
   "cell_type": "code",
   "execution_count": 14,
   "metadata": {
    "collapsed": true
   },
   "outputs": [],
   "source": [
    "lm1 = LinearRegression()"
   ]
  },
  {
   "cell_type": "code",
   "execution_count": 21,
   "metadata": {
    "collapsed": true
   },
   "outputs": [],
   "source": [
    "from sklearn.metrics import mean_squared_error"
   ]
  },
  {
   "cell_type": "code",
   "execution_count": 19,
   "metadata": {
    "collapsed": false
   },
   "outputs": [
    {
     "data": {
      "text/plain": [
       "LinearRegression(copy_X=True, fit_intercept=True, n_jobs=1, normalize=False)"
      ]
     },
     "execution_count": 19,
     "metadata": {},
     "output_type": "execute_result"
    }
   ],
   "source": [
    "lm1.fit(X_train[['horsepower', 'curb_weight']], y_train)"
   ]
  },
  {
   "cell_type": "code",
   "execution_count": 26,
   "metadata": {
    "collapsed": false
   },
   "outputs": [
    {
     "data": {
      "text/plain": [
       "1.1221897439473407"
      ]
     },
     "execution_count": 26,
     "metadata": {},
     "output_type": "execute_result"
    }
   ],
   "source": [
    "mean_squared_error(y_train, lm1.predict(X_train[['horsepower', 'curb_weight']]))"
   ]
  },
  {
   "cell_type": "code",
   "execution_count": 27,
   "metadata": {
    "collapsed": false
   },
   "outputs": [
    {
     "data": {
      "text/plain": [
       "1.2877222213851667"
      ]
     },
     "execution_count": 27,
     "metadata": {},
     "output_type": "execute_result"
    }
   ],
   "source": [
    "mean_squared_error(y_test, lm1.predict(X_test[['horsepower', 'curb_weight']]))"
   ]
  },
  {
   "cell_type": "markdown",
   "metadata": {},
   "source": [
    "## 더 복잡한 모델의 경우"
   ]
  },
  {
   "cell_type": "code",
   "execution_count": 28,
   "metadata": {
    "collapsed": true
   },
   "outputs": [],
   "source": [
    "lm2 = LinearRegression()"
   ]
  },
  {
   "cell_type": "code",
   "execution_count": 29,
   "metadata": {
    "collapsed": false
   },
   "outputs": [
    {
     "data": {
      "text/plain": [
       "LinearRegression(copy_X=True, fit_intercept=True, n_jobs=1, normalize=False)"
      ]
     },
     "execution_count": 29,
     "metadata": {},
     "output_type": "execute_result"
    }
   ],
   "source": [
    "lm2.fit(X_train,y_train)"
   ]
  },
  {
   "cell_type": "code",
   "execution_count": 30,
   "metadata": {
    "collapsed": false
   },
   "outputs": [
    {
     "data": {
      "text/plain": [
       "0.97433695200541004"
      ]
     },
     "execution_count": 30,
     "metadata": {},
     "output_type": "execute_result"
    }
   ],
   "source": [
    "mean_squared_error(y_train,lm2.predict(X_train))"
   ]
  },
  {
   "cell_type": "code",
   "execution_count": 32,
   "metadata": {
    "collapsed": false
   },
   "outputs": [
    {
     "data": {
      "text/plain": [
       "1.468431771989527"
      ]
     },
     "execution_count": 32,
     "metadata": {},
     "output_type": "execute_result"
    }
   ],
   "source": [
    "mean_squared_error(y_test,lm2.predict(X_test))"
   ]
  },
  {
   "cell_type": "markdown",
   "metadata": {},
   "source": [
    "## 학습된 모델 저장하기"
   ]
  },
  {
   "cell_type": "code",
   "execution_count": 33,
   "metadata": {
    "collapsed": true
   },
   "outputs": [],
   "source": [
    "import pickle"
   ]
  },
  {
   "cell_type": "code",
   "execution_count": 34,
   "metadata": {
    "collapsed": true
   },
   "outputs": [],
   "source": [
    "with open('lm.pkl', 'wb') as f:\n",
    "    pickle.dump(lm, f)"
   ]
  },
  {
   "cell_type": "markdown",
   "metadata": {},
   "source": [
    "## 저장한 모델 불러오기"
   ]
  },
  {
   "cell_type": "code",
   "execution_count": 35,
   "metadata": {
    "collapsed": true
   },
   "outputs": [],
   "source": [
    "with open('lm.pkl', 'rb') as f:\n",
    "    lm = pickle.load(f)"
   ]
  },
  {
   "cell_type": "code",
   "execution_count": 43,
   "metadata": {
    "collapsed": false
   },
   "outputs": [
    {
     "data": {
      "text/plain": [
       "array([ -9.19994818e-01,  -1.77056096e-02,   4.96314792e-02,\n",
       "        -2.48623412e-03,   1.29670222e-02,   1.85775081e-02,\n",
       "        -5.82385783e-06,  -1.77056096e-02,   8.75977992e-06])"
      ]
     },
     "execution_count": 43,
     "metadata": {},
     "output_type": "execute_result"
    }
   ],
   "source": [
    "lm.coef_"
   ]
  }
 ],
 "metadata": {
  "anaconda-cloud": {},
  "kernelspec": {
   "display_name": "Python [py35]",
   "language": "python",
   "name": "Python [py35]"
  },
  "language_info": {
   "codemirror_mode": {
    "name": "ipython",
    "version": 3
   },
   "file_extension": ".py",
   "mimetype": "text/x-python",
   "name": "python",
   "nbconvert_exporter": "python",
   "pygments_lexer": "ipython3",
   "version": "3.5.2"
  }
 },
 "nbformat": 4,
 "nbformat_minor": 0
}
