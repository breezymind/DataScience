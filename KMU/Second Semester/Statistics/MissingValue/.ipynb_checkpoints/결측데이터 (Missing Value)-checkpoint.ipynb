{
 "cells": [
  {
   "cell_type": "markdown",
   "metadata": {},
   "source": [
    "# 결측데이터 (Missing Value)\n",
    "참조 : http://statkclee.github.io/data-science/ds-missing.html\n",
    "\n",
    "<img src=\"photo/1.PNG\">"
   ]
  },
  {
   "cell_type": "markdown",
   "metadata": {},
   "source": [
    "# 결측값 식별과 현황파악 \n",
    " - mlbench 보스톤 주택가격 데이터셋을 기본으로 결측값 관련 학습 내용에 대한 실습을 진행한다."
   ]
  },
  {
   "cell_type": "code",
   "execution_count": 1,
   "metadata": {
    "collapsed": false
   },
   "outputs": [
    {
     "name": "stderr",
     "output_type": "stream",
     "text": [
      "\n",
      "Attaching package: 'dplyr'\n",
      "\n",
      "The following objects are masked from 'package:stats':\n",
      "\n",
      "    filter, lag\n",
      "\n",
      "The following objects are masked from 'package:base':\n",
      "\n",
      "    intersect, setdiff, setequal, union\n",
      "\n"
     ]
    }
   ],
   "source": [
    "library(dplyr)"
   ]
  },
  {
   "cell_type": "code",
   "execution_count": 2,
   "metadata": {
    "collapsed": false
   },
   "outputs": [
    {
     "name": "stderr",
     "output_type": "stream",
     "text": [
      "Warning message:\n",
      ": package 'mlbench' was built under R version 3.3.2"
     ]
    }
   ],
   "source": [
    "library(mlbench)\n",
    "data(\"BostonHousing\")"
   ]
  },
  {
   "cell_type": "markdown",
   "metadata": {},
   "source": [
    " - 원본 데이터 나중에 복구하기 위해 잠시 'original' DF로 저장"
   ]
  },
  {
   "cell_type": "code",
   "execution_count": 3,
   "metadata": {
    "collapsed": true
   },
   "outputs": [],
   "source": [
    "original <- BostonHousing"
   ]
  },
  {
   "cell_type": "code",
   "execution_count": 4,
   "metadata": {
    "collapsed": false
   },
   "outputs": [
    {
     "data": {
      "text/html": [
       "<table>\n",
       "<thead><tr><th></th><th scope=col>crim</th><th scope=col>zn</th><th scope=col>indus</th><th scope=col>chas</th><th scope=col>nox</th><th scope=col>rm</th><th scope=col>age</th><th scope=col>dis</th><th scope=col>rad</th><th scope=col>tax</th><th scope=col>ptratio</th><th scope=col>b</th><th scope=col>lstat</th><th scope=col>medv</th></tr></thead>\n",
       "<tbody>\n",
       "\t<tr><th scope=row>1</th><td>0.00632</td><td>18     </td><td>2.31   </td><td>0      </td><td>0.538  </td><td>6.575  </td><td>65.2   </td><td>4.09   </td><td>1      </td><td>296    </td><td>15.3   </td><td>396.9  </td><td>4.98   </td><td>24     </td></tr>\n",
       "\t<tr><th scope=row>2</th><td>0.02731</td><td>0      </td><td>7.07   </td><td>0      </td><td>0.469  </td><td>6.421  </td><td>78.9   </td><td>4.9671 </td><td>2      </td><td>242    </td><td>17.8   </td><td>396.9  </td><td>9.14   </td><td>21.6   </td></tr>\n",
       "\t<tr><th scope=row>3</th><td>0.02729</td><td>0      </td><td>7.07   </td><td>0      </td><td>0.469  </td><td>7.185  </td><td>61.1   </td><td>4.9671 </td><td>2      </td><td>242    </td><td>17.8   </td><td>392.83 </td><td>4.03   </td><td>34.7   </td></tr>\n",
       "</tbody>\n",
       "</table>\n"
      ],
      "text/latex": [
       "\\begin{tabular}{r|llllllllllllll}\n",
       "  & crim & zn & indus & chas & nox & rm & age & dis & rad & tax & ptratio & b & lstat & medv\\\\\n",
       "\\hline\n",
       "\t1 & 0.00632 & 18      & 2.31    & 0       & 0.538   & 6.575   & 65.2    & 4.09    & 1       & 296     & 15.3    & 396.9   & 4.98    & 24     \\\\\n",
       "\t2 & 0.02731 & 0       & 7.07    & 0       & 0.469   & 6.421   & 78.9    & 4.9671  & 2       & 242     & 17.8    & 396.9   & 9.14    & 21.6   \\\\\n",
       "\t3 & 0.02729 & 0       & 7.07    & 0       & 0.469   & 7.185   & 61.1    & 4.9671  & 2       & 242     & 17.8    & 392.83  & 4.03    & 34.7   \\\\\n",
       "\\end{tabular}\n"
      ],
      "text/plain": [
       "     crim zn indus chas   nox    rm  age    dis rad tax ptratio      b lstat\n",
       "1 0.00632 18  2.31    0 0.538 6.575 65.2 4.0900   1 296    15.3 396.90  4.98\n",
       "2 0.02731  0  7.07    0 0.469 6.421 78.9 4.9671   2 242    17.8 396.90  9.14\n",
       "3 0.02729  0  7.07    0 0.469 7.185 61.1 4.9671   2 242    17.8 392.83  4.03\n",
       "  medv\n",
       "1 24.0\n",
       "2 21.6\n",
       "3 34.7"
      ]
     },
     "metadata": {},
     "output_type": "display_data"
    }
   ],
   "source": [
    "head(BostonHousing,3) # ptratio 범주형, rad 범주형"
   ]
  },
  {
   "cell_type": "markdown",
   "metadata": {},
   "source": [
    " - NA 값으로 변환 : 결측치를 주기 위해서 "
   ]
  },
  {
   "cell_type": "code",
   "execution_count": 5,
   "metadata": {
    "collapsed": true
   },
   "outputs": [],
   "source": [
    "BostonHousing[sample(1:nrow(BostonHousing), 40), \"ptratio\"] <- NA\n",
    "BostonHousing[sample(1:nrow(BostonHousing), 40), \"rad\"] <- NA"
   ]
  },
  {
   "cell_type": "markdown",
   "metadata": {},
   "source": [
    "### 2.1. 결측값 현황 파악\n",
    "\n",
    "apply 계열 함수를 사용해서 변수별, 관측점별 결측값이 얼마나 포함되어 있는지 파악한다. check_missing_value() 함수를 활용하여 변수별, 관측점별 결측값 백분율을 계산한다. 만약 5%이상 관측점 혹은 변수에 결측값이 포함되어 있으면 변수를 버리거나 혹은 관측점을 제거하는 전략을 택할 수도 있다.\n"
   ]
  },
  {
   "cell_type": "code",
   "execution_count": 6,
   "metadata": {
    "collapsed": false
   },
   "outputs": [
    {
     "data": {
      "text/html": [
       "<table>\n",
       "<thead><tr><th></th><th scope=col>crim</th><th scope=col>zn</th><th scope=col>indus</th><th scope=col>chas</th><th scope=col>nox</th><th scope=col>rm</th><th scope=col>age</th><th scope=col>dis</th><th scope=col>rad</th><th scope=col>tax</th><th scope=col>ptratio</th><th scope=col>b</th><th scope=col>lstat</th><th scope=col>medv</th></tr></thead>\n",
       "<tbody>\n",
       "\t<tr><th scope=row>13</th><td>0.09378</td><td>12.5   </td><td>7.87   </td><td>0      </td><td>0.524  </td><td>5.889  </td><td>39     </td><td>5.4509 </td><td>NA     </td><td>311    </td><td>15.2   </td><td>390.5  </td><td>15.71  </td><td>21.7   </td></tr>\n",
       "\t<tr><th scope=row>20</th><td>0.7258</td><td>0     </td><td>8.14  </td><td>0     </td><td>0.538 </td><td>5.727 </td><td>69.5  </td><td>3.7965</td><td>NA    </td><td>307   </td><td>21    </td><td>390.95</td><td>11.28 </td><td>18.2  </td></tr>\n",
       "\t<tr><th scope=row>40</th><td>0.02763</td><td>75     </td><td>2.95   </td><td>0      </td><td>0.428  </td><td>6.595  </td><td>21.8   </td><td>5.4011 </td><td>NA     </td><td>252    </td><td>18.3   </td><td>395.63 </td><td>4.32   </td><td>30.8   </td></tr>\n",
       "</tbody>\n",
       "</table>\n"
      ],
      "text/latex": [
       "\\begin{tabular}{r|llllllllllllll}\n",
       "  & crim & zn & indus & chas & nox & rm & age & dis & rad & tax & ptratio & b & lstat & medv\\\\\n",
       "\\hline\n",
       "\t13 & 0.09378 & 12.5    & 7.87    & 0       & 0.524   & 5.889   & 39      & 5.4509  & NA      & 311     & 15.2    & 390.5   & 15.71   & 21.7   \\\\\n",
       "\t20 & 0.7258 & 0      & 8.14   & 0      & 0.538  & 5.727  & 69.5   & 3.7965 & NA     & 307    & 21     & 390.95 & 11.28  & 18.2  \\\\\n",
       "\t40 & 0.02763 & 75      & 2.95    & 0       & 0.428   & 6.595   & 21.8    & 5.4011  & NA      & 252     & 18.3    & 395.63  & 4.32    & 30.8   \\\\\n",
       "\\end{tabular}\n"
      ],
      "text/plain": [
       "      crim   zn indus chas   nox    rm  age    dis rad tax ptratio      b lstat\n",
       "13 0.09378 12.5  7.87    0 0.524 5.889 39.0 5.4509  NA 311    15.2 390.50 15.71\n",
       "20 0.72580  0.0  8.14    0 0.538 5.727 69.5 3.7965  NA 307    21.0 390.95 11.28\n",
       "40 0.02763 75.0  2.95    0 0.428 6.595 21.8 5.4011  NA 252    18.3 395.63  4.32\n",
       "   medv\n",
       "13 21.7\n",
       "20 18.2\n",
       "40 30.8"
      ]
     },
     "metadata": {},
     "output_type": "display_data"
    }
   ],
   "source": [
    "head(BostonHousing[is.na(BostonHousing$rad),],3)"
   ]
  },
  {
   "cell_type": "markdown",
   "metadata": {},
   "source": [
    " - Missing Value가 있는 Column의 정보를 Missvalue를 제외한 부분에서의 퍼센트"
   ]
  },
  {
   "cell_type": "code",
   "execution_count": 7,
   "metadata": {
    "collapsed": false
   },
   "outputs": [
    {
     "data": {
      "text/html": [
       "<table>\n",
       "<thead><tr><th scope=col>crim</th><th scope=col>zn</th><th scope=col>indus</th><th scope=col>chas</th><th scope=col>nox</th><th scope=col>rm</th><th scope=col>age</th><th scope=col>dis</th><th scope=col>rad</th><th scope=col>tax</th><th scope=col>ptratio</th><th scope=col>b</th><th scope=col>lstat</th><th scope=col>medv</th></tr></thead>\n",
       "<tbody>\n",
       "\t<tr><td>0.000000</td><td>0.000000</td><td>0.000000</td><td>0.000000</td><td>0.000000</td><td>0.000000</td><td>0.000000</td><td>0.000000</td><td>7.905138</td><td>0.000000</td><td>7.905138</td><td>0.000000</td><td>0.000000</td><td>0.000000</td></tr>\n",
       "</tbody>\n",
       "</table>\n"
      ],
      "text/latex": [
       "\\begin{tabular}{llllllllllllll}\n",
       " crim & zn & indus & chas & nox & rm & age & dis & rad & tax & ptratio & b & lstat & medv\\\\\n",
       "\\hline\n",
       "\t 0.000000 & 0.000000 & 0.000000 & 0.000000 & 0.000000 & 0.000000 & 0.000000 & 0.000000 & 7.905138 & 0.000000 & 7.905138 & 0.000000 & 0.000000 & 0.000000\\\\\n",
       "\\end{tabular}\n"
      ],
      "text/markdown": [
       "1. 0\n",
       "2. 0\n",
       "3. 0\n",
       "4. 0\n",
       "5. 0\n",
       "6. 0\n",
       "7. 0\n",
       "8. 0\n",
       "9. 7.90513833992095\n",
       "10. 0\n",
       "11. 7.90513833992095\n",
       "12. 0\n",
       "13. 0\n",
       "14. 0\n",
       "\n",
       "\n"
      ],
      "text/plain": [
       "     crim zn indus chas nox rm age dis      rad tax  ptratio b lstat medv\n",
       "[1,]    0  0     0    0   0  0   0   0 7.905138   0 7.905138 0     0    0"
      ]
     },
     "metadata": {},
     "output_type": "display_data"
    }
   ],
   "source": [
    "check_missing_value <- function(x){sum(is.na(x))/length(x)*100}\n",
    "t(apply(BostonHousing, 2, check_missing_value))"
   ]
  },
  {
   "cell_type": "code",
   "execution_count": 8,
   "metadata": {
    "collapsed": false
   },
   "outputs": [
    {
     "data": {
      "text/html": [
       "<table>\n",
       "<thead><tr><th scope=col>1</th><th scope=col>2</th><th scope=col>3</th><th scope=col>4</th><th scope=col>5</th><th scope=col>6</th><th scope=col>7</th><th scope=col>8</th><th scope=col>9</th><th scope=col>10</th><th scope=col>11</th><th scope=col>12</th><th scope=col>13</th><th scope=col>14</th><th scope=col>15</th><th scope=col>16</th><th scope=col>17</th><th scope=col>18</th><th scope=col>19</th><th scope=col>20</th></tr></thead>\n",
       "<tbody>\n",
       "\t<tr><td>0.000000</td><td>0.000000</td><td>0.000000</td><td>0.000000</td><td>0.000000</td><td>0.000000</td><td>0.000000</td><td>0.000000</td><td>0.000000</td><td>0.000000</td><td>0.000000</td><td>7.142857</td><td>7.142857</td><td>0.000000</td><td>0.000000</td><td>0.000000</td><td>0.000000</td><td>0.000000</td><td>0.000000</td><td>7.142857</td></tr>\n",
       "</tbody>\n",
       "</table>\n"
      ],
      "text/latex": [
       "\\begin{tabular}{llllllllllllllllllll}\n",
       " 1 & 2 & 3 & 4 & 5 & 6 & 7 & 8 & 9 & 10 & 11 & 12 & 13 & 14 & 15 & 16 & 17 & 18 & 19 & 20\\\\\n",
       "\\hline\n",
       "\t 0.000000 & 0.000000 & 0.000000 & 0.000000 & 0.000000 & 0.000000 & 0.000000 & 0.000000 & 0.000000 & 0.000000 & 0.000000 & 7.142857 & 7.142857 & 0.000000 & 0.000000 & 0.000000 & 0.000000 & 0.000000 & 0.000000 & 7.142857\\\\\n",
       "\\end{tabular}\n"
      ],
      "text/markdown": [
       "1. 0\n",
       "2. 0\n",
       "3. 0\n",
       "4. 0\n",
       "5. 0\n",
       "6. 0\n",
       "7. 0\n",
       "8. 0\n",
       "9. 0\n",
       "10. 0\n",
       "11. 0\n",
       "12. 7.14285714285714\n",
       "13. 7.14285714285714\n",
       "14. 0\n",
       "15. 0\n",
       "16. 0\n",
       "17. 0\n",
       "18. 0\n",
       "19. 0\n",
       "20. 7.14285714285714\n",
       "\n",
       "\n"
      ],
      "text/plain": [
       "     1 2 3 4 5 6 7 8 9 10 11       12       13 14 15 16 17 18 19       20\n",
       "[1,] 0 0 0 0 0 0 0 0 0  0  0 7.142857 7.142857  0  0  0  0  0  0 7.142857"
      ]
     },
     "metadata": {},
     "output_type": "display_data"
    }
   ],
   "source": [
    "apply(BostonHousing, 1, check_missing_value) %>% head(20) %>% t()"
   ]
  },
  {
   "cell_type": "markdown",
   "metadata": {},
   "source": [
    "## 2.2. mice, VIM 팩키지"
   ]
  },
  {
   "cell_type": "markdown",
   "metadata": {},
   "source": [
    "mice 팩키지를 사용해서 md.pattern 함수를 사용해서 “ptratio” 변수에 40개 주입한 NA 결측값을 확인해본다."
   ]
  },
  {
   "cell_type": "code",
   "execution_count": 9,
   "metadata": {
    "collapsed": false
   },
   "outputs": [
    {
     "data": {
      "text/html": [
       "<table>\n",
       "<thead><tr><th></th><th scope=col>crim</th><th scope=col>zn</th><th scope=col>indus</th><th scope=col>chas</th><th scope=col>nox</th><th scope=col>rm</th><th scope=col>age</th><th scope=col>dis</th><th scope=col>tax</th><th scope=col>b</th><th scope=col>lstat</th><th scope=col>medv</th><th scope=col>rad</th><th scope=col>ptratio</th><th scope=col></th></tr></thead>\n",
       "<tbody>\n",
       "\t<tr><th scope=row>428</th><td>1</td><td>1</td><td>1</td><td>1</td><td>1</td><td>1</td><td>1</td><td>1</td><td>1</td><td>1</td><td>1</td><td>1</td><td>1</td><td>1</td><td>0</td></tr>\n",
       "\t<tr><th scope=row> 38</th><td>1</td><td>1</td><td>1</td><td>1</td><td>1</td><td>1</td><td>1</td><td>1</td><td>1</td><td>1</td><td>1</td><td>1</td><td>0</td><td>1</td><td>1</td></tr>\n",
       "\t<tr><th scope=row> 38</th><td>1</td><td>1</td><td>1</td><td>1</td><td>1</td><td>1</td><td>1</td><td>1</td><td>1</td><td>1</td><td>1</td><td>1</td><td>1</td><td>0</td><td>1</td></tr>\n",
       "\t<tr><th scope=row>  2</th><td>1</td><td>1</td><td>1</td><td>1</td><td>1</td><td>1</td><td>1</td><td>1</td><td>1</td><td>1</td><td>1</td><td>1</td><td>0</td><td>0</td><td>2</td></tr>\n",
       "\t<tr><th scope=row></th><td> 0</td><td> 0</td><td> 0</td><td> 0</td><td> 0</td><td> 0</td><td> 0</td><td> 0</td><td> 0</td><td> 0</td><td> 0</td><td> 0</td><td>40</td><td>40</td><td>80</td></tr>\n",
       "</tbody>\n",
       "</table>\n"
      ],
      "text/latex": [
       "\\begin{tabular}{r|lllllllllllllll}\n",
       "  & crim & zn & indus & chas & nox & rm & age & dis & tax & b & lstat & medv & rad & ptratio & \\\\\n",
       "\\hline\n",
       "\t428 & 1 & 1 & 1 & 1 & 1 & 1 & 1 & 1 & 1 & 1 & 1 & 1 & 1 & 1 & 0\\\\\n",
       "\t 38 & 1 & 1 & 1 & 1 & 1 & 1 & 1 & 1 & 1 & 1 & 1 & 1 & 0 & 1 & 1\\\\\n",
       "\t 38 & 1 & 1 & 1 & 1 & 1 & 1 & 1 & 1 & 1 & 1 & 1 & 1 & 1 & 0 & 1\\\\\n",
       "\t  2 & 1 & 1 & 1 & 1 & 1 & 1 & 1 & 1 & 1 & 1 & 1 & 1 & 0 & 0 & 2\\\\\n",
       "\t &  0 &  0 &  0 &  0 &  0 &  0 &  0 &  0 &  0 &  0 &  0 &  0 & 40 & 40 & 80\\\\\n",
       "\\end{tabular}\n"
      ],
      "text/markdown": [
       "1. 1\n",
       "2. 1\n",
       "3. 1\n",
       "4. 1\n",
       "5. 0\n",
       "6. 1\n",
       "7. 1\n",
       "8. 1\n",
       "9. 1\n",
       "10. 0\n",
       "11. 1\n",
       "12. 1\n",
       "13. 1\n",
       "14. 1\n",
       "15. 0\n",
       "16. 1\n",
       "17. 1\n",
       "18. 1\n",
       "19. 1\n",
       "20. 0\n",
       "21. 1\n",
       "22. 1\n",
       "23. 1\n",
       "24. 1\n",
       "25. 0\n",
       "26. 1\n",
       "27. 1\n",
       "28. 1\n",
       "29. 1\n",
       "30. 0\n",
       "31. 1\n",
       "32. 1\n",
       "33. 1\n",
       "34. 1\n",
       "35. 0\n",
       "36. 1\n",
       "37. 1\n",
       "38. 1\n",
       "39. 1\n",
       "40. 0\n",
       "41. 1\n",
       "42. 1\n",
       "43. 1\n",
       "44. 1\n",
       "45. 0\n",
       "46. 1\n",
       "47. 1\n",
       "48. 1\n",
       "49. 1\n",
       "50. 0\n",
       "51. 1\n",
       "52. 1\n",
       "53. 1\n",
       "54. 1\n",
       "55. 0\n",
       "56. 1\n",
       "57. 1\n",
       "58. 1\n",
       "59. 1\n",
       "60. 0\n",
       "61. 1\n",
       "62. 0\n",
       "63. 1\n",
       "64. 0\n",
       "65. 40\n",
       "66. 1\n",
       "67. 1\n",
       "68. 0\n",
       "69. 0\n",
       "70. 40\n",
       "71. 0\n",
       "72. 1\n",
       "73. 1\n",
       "74. 2\n",
       "75. 80\n",
       "\n",
       "\n"
      ],
      "text/plain": [
       "    crim zn indus chas nox rm age dis tax b lstat medv rad ptratio   \n",
       "428    1  1     1    1   1  1   1   1   1 1     1    1   1       1  0\n",
       " 38    1  1     1    1   1  1   1   1   1 1     1    1   0       1  1\n",
       " 38    1  1     1    1   1  1   1   1   1 1     1    1   1       0  1\n",
       "  2    1  1     1    1   1  1   1   1   1 1     1    1   0       0  2\n",
       "       0  0     0    0   0  0   0   0   0 0     0    0  40      40 80"
      ]
     },
     "metadata": {},
     "output_type": "display_data"
    }
   ],
   "source": [
    "suppressWarnings(suppressMessages(library(mice)))\n",
    "md.pattern(BostonHousing)"
   ]
  },
  {
   "cell_type": "markdown",
   "metadata": {},
   "source": [
    "혹은 VIM 팩키지를 활용하여 결측값을 시각화하는 것도 좋다. 결측값은 빨강색(red)로 설정하여 각변수별로 결측값에 대한 현황을 파악하기 쉽게 도식화했다."
   ]
  },
  {
   "cell_type": "code",
   "execution_count": 14,
   "metadata": {
    "collapsed": false
   },
   "outputs": [],
   "source": [
    "library(VIM)"
   ]
  },
  {
   "cell_type": "code",
   "execution_count": 11,
   "metadata": {
    "collapsed": false
   },
   "outputs": [
    {
     "name": "stdout",
     "output_type": "stream",
     "text": [
      "\n",
      " Variables sorted by number of missings: \n",
      " Variable      Count\n",
      "      rad 0.07905138\n",
      "  ptratio 0.07905138\n",
      "     crim 0.00000000\n",
      "       zn 0.00000000\n",
      "    indus 0.00000000\n",
      "     chas 0.00000000\n",
      "      nox 0.00000000\n",
      "       rm 0.00000000\n",
      "      age 0.00000000\n",
      "      dis 0.00000000\n",
      "      tax 0.00000000\n",
      "        b 0.00000000\n",
      "    lstat 0.00000000\n",
      "     medv 0.00000000\n"
     ]
    },
    {
     "data": {
      "image/png": "[encoded data removed]",
      "text/plain": [
       "plot without title"
      ]
     },
     "metadata": {},
     "output_type": "display_data"
    }
   ],
   "source": [
    "options(repr.plot.height=4)\n",
    "aggr_plot <- aggr(BostonHousing, col=c('gray','red'), numbers=TRUE, \n",
    "    sortVars=TRUE, labels=names(BostonHousing), cex.axis=.7, gap=3, ylab=c(\"Histogram of missing data\", \"Pattern\"))"
   ]
  },
  {
   "cell_type": "code",
   "execution_count": 12,
   "metadata": {
    "collapsed": false,
    "scrolled": false
   },
   "outputs": [
    {
     "data": {
      "image/png": "[encoded data removed]",
      "text/plain": [
       "plot without title"
      ]
     },
     "metadata": {},
     "output_type": "display_data"
    }
   ],
   "source": [
    "marginplot(BostonHousing[, c('ptratio','medv')])"
   ]
  },
  {
   "cell_type": "markdown",
   "metadata": {},
   "source": [
    "marginplot(BostonHousing[, c('ptratio','medv')]) 그래프를 통해 변수 2개만 가능하지만, 결측값이 포함된 경우와 결측값이 없는 경우를 비교해 볼 수도 있다."
   ]
  },
  {
   "cell_type": "markdown",
   "metadata": {},
   "source": [
    "# 3. 결측값 처리 전략"
   ]
  },
  {
   "cell_type": "markdown",
   "metadata": {},
   "source": [
    "결측값 처리 전략은 다음과 같은 4가지 전략이 존재한다.\n",
    "\n",
    "1. 관측점 제거\n",
    " - 데이터가 상당히 많은 경우, 동시에 모집단을 대표하는데 무리가 없는 경우 na.action=na.omit 설정을 적용한다.\n",
    " - lm(medv ~ ptratio + rad, data=BostonHousing, na.action=na.omit)\n",
    "2. 변수 제거\n",
    " - 특정 변수에 상당한 값이 결측값인 경우, 다른 변수가 결측값을 많이 갖는 변수에 상응하는 정보량을 갖는 경우 제거한다.\n",
    "3. 평균/중위수/최빈값으로 대체(impute)\n",
    " - 결측값을 변수가 연속형 숫자형인 경우 평균/중위수로 대체하고, 범주형 요인형인 경우 최빈값으로 대체한다.\n",
    "4. 예측값으로 대체한다."
   ]
  },
  {
   "cell_type": "code",
   "execution_count": 28,
   "metadata": {
    "collapsed": false
   },
   "outputs": [],
   "source": [
    "library(survival)\n",
    "library(Hmisc)\n",
    "library(DMwR)\n",
    "library(dplyr)\n",
    "library(rpart)"
   ]
  },
  {
   "cell_type": "markdown",
   "metadata": {},
   "source": [
    " - 평균으로 대체 \n",
    " - 중위수로 대체\n",
    " - 특정 값으로 대체 "
   ]
  },
  {
   "cell_type": "code",
   "execution_count": 18,
   "metadata": {
    "collapsed": false
   },
   "outputs": [
    {
     "data": {
      "text/html": [
       "<table>\n",
       "<thead><tr><th scope=col>1</th><th scope=col>2</th><th scope=col>3</th><th scope=col>4</th><th scope=col>5</th><th scope=col>6</th></tr></thead>\n",
       "<tbody>\n",
       "\t<tr><td>15.3</td><td>17.8</td><td>17.8</td><td>18.7</td><td>18.7</td><td>18.7</td></tr>\n",
       "</tbody>\n",
       "</table>\n"
      ],
      "text/latex": [
       "\\begin{tabular}{llllll}\n",
       " 1 & 2 & 3 & 4 & 5 & 6\\\\\n",
       "\\hline\n",
       "\t 15.3 & 17.8 & 17.8 & 18.7 & 18.7 & 18.7\\\\\n",
       "\\end{tabular}\n"
      ],
      "text/markdown": [
       "1. 15.3\n",
       "2. 17.8\n",
       "3. 17.8\n",
       "4. 18.7\n",
       "5. 18.7\n",
       "6. 18.7\n",
       "\n",
       "\n"
      ],
      "text/plain": [
       "        1    2    3    4    5    6\n",
       "[1,] 15.3 17.8 17.8 18.7 18.7 18.7"
      ]
     },
     "metadata": {},
     "output_type": "display_data"
    },
    {
     "data": {
      "text/html": [
       "<table>\n",
       "<thead><tr><th scope=col>1</th><th scope=col>2</th><th scope=col>3</th><th scope=col>4</th><th scope=col>5</th><th scope=col>6</th></tr></thead>\n",
       "<tbody>\n",
       "\t<tr><td>15.3</td><td>17.8</td><td>17.8</td><td>18.7</td><td>18.7</td><td>18.7</td></tr>\n",
       "</tbody>\n",
       "</table>\n"
      ],
      "text/latex": [
       "\\begin{tabular}{llllll}\n",
       " 1 & 2 & 3 & 4 & 5 & 6\\\\\n",
       "\\hline\n",
       "\t 15.3 & 17.8 & 17.8 & 18.7 & 18.7 & 18.7\\\\\n",
       "\\end{tabular}\n"
      ],
      "text/markdown": [
       "1. 15.3\n",
       "2. 17.8\n",
       "3. 17.8\n",
       "4. 18.7\n",
       "5. 18.7\n",
       "6. 18.7\n",
       "\n",
       "\n"
      ],
      "text/plain": [
       "        1    2    3    4    5    6\n",
       "[1,] 15.3 17.8 17.8 18.7 18.7 18.7"
      ]
     },
     "metadata": {},
     "output_type": "display_data"
    },
    {
     "data": {
      "text/html": [
       "<table>\n",
       "<thead><tr><th scope=col>1</th><th scope=col>2</th><th scope=col>3</th><th scope=col>4</th><th scope=col>5</th><th scope=col>6</th></tr></thead>\n",
       "<tbody>\n",
       "\t<tr><td>15.3</td><td>17.8</td><td>17.8</td><td>18.7</td><td>18.7</td><td>18.7</td></tr>\n",
       "</tbody>\n",
       "</table>\n"
      ],
      "text/latex": [
       "\\begin{tabular}{llllll}\n",
       " 1 & 2 & 3 & 4 & 5 & 6\\\\\n",
       "\\hline\n",
       "\t 15.3 & 17.8 & 17.8 & 18.7 & 18.7 & 18.7\\\\\n",
       "\\end{tabular}\n"
      ],
      "text/markdown": [
       "1. 15.3\n",
       "2. 17.8\n",
       "3. 17.8\n",
       "4. 18.7\n",
       "5. 18.7\n",
       "6. 18.7\n",
       "\n",
       "\n"
      ],
      "text/plain": [
       "        1    2    3    4    5    6\n",
       "[1,] 15.3 17.8 17.8 18.7 18.7 18.7"
      ]
     },
     "metadata": {},
     "output_type": "display_data"
    }
   ],
   "source": [
    "impute(BostonHousing$ptratio, mean) %>% head %>% t()\n",
    "impute(BostonHousing$ptratio, median) %>% head %>% t()\n",
    "impute(BostonHousing$ptratio, 20) %>% head %>% t()"
   ]
  },
  {
   "cell_type": "markdown",
   "metadata": {},
   "source": [
    " - 혹은 팩키지를 사용하지 않고 직접 코드를 작성해서 작업 "
   ]
  },
  {
   "cell_type": "code",
   "execution_count": 19,
   "metadata": {
    "collapsed": true
   },
   "outputs": [],
   "source": [
    "BostonHousing$ptratio[is.na(BostonHousing$ptratio)] <- mean(BostonHousing$ptratio, na.rm = T) "
   ]
  },
  {
   "cell_type": "markdown",
   "metadata": {},
   "source": [
    "### 예측값으로 대체. \n",
    " - DMwR 팩키지 knnImputation() 함수를 사용해서 k-nn (k-인접 군집분석)을 사용한다. k-nn 대체법은 인접한 최대 k 관측점 유클리드 거리를 계산하여 가장 근접된 값으로 대체한다."
   ]
  },
  {
   "cell_type": "code",
   "execution_count": 20,
   "metadata": {
    "collapsed": true
   },
   "outputs": [],
   "source": [
    "data(BostonHousing)\n",
    "BostonHousing[sample(1:nrow(BostonHousing), 40), \"ptratio\"] <- NA\n",
    "\n",
    "knnOutput <- knnImputation(BostonHousing[, !names(BostonHousing) %in% \"medv\"]) "
   ]
  },
  {
   "cell_type": "code",
   "execution_count": 23,
   "metadata": {
    "collapsed": false
   },
   "outputs": [
    {
     "data": {
      "text/html": [
       "<table>\n",
       "<thead><tr><th></th><th scope=col>crim</th><th scope=col>zn</th><th scope=col>indus</th><th scope=col>chas</th><th scope=col>nox</th><th scope=col>rm</th><th scope=col>age</th><th scope=col>dis</th><th scope=col>rad</th><th scope=col>tax</th><th scope=col>ptratio</th><th scope=col>b</th><th scope=col>lstat</th><th scope=col>medv</th></tr></thead>\n",
       "<tbody>\n",
       "\t<tr><th scope=row>21</th><td>1.25179</td><td>0      </td><td>8.14   </td><td>0      </td><td>0.538  </td><td>5.57   </td><td>98.1   </td><td>3.7979 </td><td>4      </td><td>307    </td><td>NA     </td><td>376.57 </td><td>21.02  </td><td>13.6   </td></tr>\n",
       "\t<tr><th scope=row>49</th><td>0.25387</td><td>0      </td><td>6.91   </td><td>0      </td><td>0.448  </td><td>5.399  </td><td>95.3   </td><td>5.87   </td><td>3      </td><td>233    </td><td>NA     </td><td>396.9  </td><td>30.81  </td><td>14.4   </td></tr>\n",
       "\t<tr><th scope=row>62</th><td>0.17171</td><td>25     </td><td>5.13   </td><td>0      </td><td>0.453  </td><td>5.966  </td><td>93.4   </td><td>6.8185 </td><td>8      </td><td>284    </td><td>NA     </td><td>378.08 </td><td>14.44  </td><td>16     </td></tr>\n",
       "</tbody>\n",
       "</table>\n"
      ],
      "text/latex": [
       "\\begin{tabular}{r|llllllllllllll}\n",
       "  & crim & zn & indus & chas & nox & rm & age & dis & rad & tax & ptratio & b & lstat & medv\\\\\n",
       "\\hline\n",
       "\t21 & 1.25179 & 0       & 8.14    & 0       & 0.538   & 5.57    & 98.1    & 3.7979  & 4       & 307     & NA      & 376.57  & 21.02   & 13.6   \\\\\n",
       "\t49 & 0.25387 & 0       & 6.91    & 0       & 0.448   & 5.399   & 95.3    & 5.87    & 3       & 233     & NA      & 396.9   & 30.81   & 14.4   \\\\\n",
       "\t62 & 0.17171 & 25      & 5.13    & 0       & 0.453   & 5.966   & 93.4    & 6.8185  & 8       & 284     & NA      & 378.08  & 14.44   & 16     \\\\\n",
       "\\end{tabular}\n"
      ],
      "text/plain": [
       "      crim zn indus chas   nox    rm  age    dis rad tax ptratio      b lstat\n",
       "21 1.25179  0  8.14    0 0.538 5.570 98.1 3.7979   4 307      NA 376.57 21.02\n",
       "49 0.25387  0  6.91    0 0.448 5.399 95.3 5.8700   3 233      NA 396.90 30.81\n",
       "62 0.17171 25  5.13    0 0.453 5.966 93.4 6.8185   8 284      NA 378.08 14.44\n",
       "   medv\n",
       "21 13.6\n",
       "49 14.4\n",
       "62 16.0"
      ]
     },
     "metadata": {},
     "output_type": "display_data"
    }
   ],
   "source": [
    "head(BostonHousing[is.na(BostonHousing$ptratio),],3)"
   ]
  },
  {
   "cell_type": "code",
   "execution_count": 24,
   "metadata": {
    "collapsed": false
   },
   "outputs": [
    {
     "data": {
      "text/html": [
       "<table>\n",
       "<thead><tr><th></th><th scope=col>crim</th><th scope=col>zn</th><th scope=col>indus</th><th scope=col>chas</th><th scope=col>nox</th><th scope=col>rm</th><th scope=col>age</th><th scope=col>dis</th><th scope=col>rad</th><th scope=col>tax</th><th scope=col>ptratio</th><th scope=col>b</th><th scope=col>lstat</th></tr></thead>\n",
       "<tbody>\n",
       "\t<tr><th scope=row>12</th><td>0.11747</td><td>12.5   </td><td>7.87   </td><td>0      </td><td>0.524  </td><td>6.009  </td><td>82.9   </td><td>6.2267 </td><td>5      </td><td>311    </td><td>15.2   </td><td>396.9  </td><td>13.27  </td></tr>\n",
       "\t<tr><th scope=row>49</th><td>0.25387         </td><td>0               </td><td>6.91            </td><td>0               </td><td>0.448           </td><td>5.399           </td><td>95.3            </td><td>5.87            </td><td>3               </td><td>233             </td><td>17.9177939554711</td><td>396.9           </td><td>30.81           </td></tr>\n",
       "\t<tr><th scope=row>62</th><td>0.17171         </td><td>25              </td><td>5.13            </td><td>0               </td><td>0.453           </td><td>5.966           </td><td>93.4            </td><td>6.8185          </td><td>8               </td><td>284             </td><td>17.2083783669814</td><td>378.08          </td><td>14.44           </td></tr>\n",
       "</tbody>\n",
       "</table>\n"
      ],
      "text/latex": [
       "\\begin{tabular}{r|lllllllllllll}\n",
       "  & crim & zn & indus & chas & nox & rm & age & dis & rad & tax & ptratio & b & lstat\\\\\n",
       "\\hline\n",
       "\t12 & 0.11747 & 12.5    & 7.87    & 0       & 0.524   & 6.009   & 82.9    & 6.2267  & 5       & 311     & 15.2    & 396.9   & 13.27  \\\\\n",
       "\t49 & 0.25387          & 0                & 6.91             & 0                & 0.448            & 5.399            & 95.3             & 5.87             & 3                & 233              & 17.9177939554711 & 396.9            & 30.81           \\\\\n",
       "\t62 & 0.17171          & 25               & 5.13             & 0                & 0.453            & 5.966            & 93.4             & 6.8185           & 8                & 284              & 17.2083783669814 & 378.08           & 14.44           \\\\\n",
       "\\end{tabular}\n"
      ],
      "text/plain": [
       "      crim   zn indus chas   nox    rm  age    dis rad tax  ptratio      b\n",
       "12 0.11747 12.5  7.87    0 0.524 6.009 82.9 6.2267   5 311 15.20000 396.90\n",
       "49 0.25387  0.0  6.91    0 0.448 5.399 95.3 5.8700   3 233 17.91779 396.90\n",
       "62 0.17171 25.0  5.13    0 0.453 5.966 93.4 6.8185   8 284 17.20838 378.08\n",
       "   lstat\n",
       "12 13.27\n",
       "49 30.81\n",
       "62 14.44"
      ]
     },
     "metadata": {},
     "output_type": "display_data"
    }
   ],
   "source": [
    "head(knnOutput[c(12,49,62),])"
   ]
  },
  {
   "cell_type": "markdown",
   "metadata": {},
   "source": [
    " - 효과 분석"
   ]
  },
  {
   "cell_type": "code",
   "execution_count": 26,
   "metadata": {
    "collapsed": false
   },
   "outputs": [
    {
     "data": {
      "text/html": [
       "<dl class=dl-horizontal>\n",
       "\t<dt>mae</dt>\n",
       "\t\t<dd>0.74034856647</dd>\n",
       "\t<dt>mse</dt>\n",
       "\t\t<dd>1.23209083393506</dd>\n",
       "\t<dt>rmse</dt>\n",
       "\t\t<dd>1.10999587113424</dd>\n",
       "\t<dt>mape</dt>\n",
       "\t\t<dd>0.0419964001149165</dd>\n",
       "</dl>\n"
      ],
      "text/latex": [
       "\\begin{description*}\n",
       "\\item[mae] 0.74034856647\n",
       "\\item[mse] 1.23209083393506\n",
       "\\item[rmse] 1.10999587113424\n",
       "\\item[mape] 0.0419964001149165\n",
       "\\end{description*}\n"
      ],
      "text/markdown": [
       "mae\n",
       ":   0.74034856647mse\n",
       ":   1.23209083393506rmse\n",
       ":   1.10999587113424mape\n",
       ":   0.0419964001149165\n",
       "\n"
      ],
      "text/plain": [
       "      mae       mse      rmse      mape \n",
       "0.7403486 1.2320908 1.1099959 0.0419964 "
      ]
     },
     "metadata": {},
     "output_type": "display_data"
    }
   ],
   "source": [
    "actuals <- original$ptratio[is.na(BostonHousing$ptratio)]\n",
    "predicteds <- knnOutput[is.na(BostonHousing$ptratio), \"ptratio\"]\n",
    "regr.eval(actuals, predicteds)"
   ]
  },
  {
   "cell_type": "markdown",
   "metadata": {},
   "source": [
    " - knn 대체 기법은 범주형 자료의 경우 적용에 한계가 있다. 이런 경우 rpart, mice 팩키지를 활용한다.\n",
    " - 먼저, rpart를 사용하는 경우 연속형 변수, 범주형 변수 모두 의사결정나무 모형을 순차적으로 적합시킨다."
   ]
  },
  {
   "cell_type": "code",
   "execution_count": 30,
   "metadata": {
    "collapsed": false
   },
   "outputs": [],
   "source": [
    "data(BostonHousing)\n",
    "BostonHousing[sample(1:nrow(BostonHousing), 40), \"ptratio\"] <- NA\n",
    "BostonHousing[sample(1:nrow(BostonHousing), 40), \"rad\"] <- NA\n",
    "\n",
    "class_mod <- rpart(rad ~ . - medv, data=BostonHousing[!is.na(BostonHousing$rad), ], method=\"class\", na.action=na.omit)  # rad 변수가 범주형\n",
    "anova_mod <- rpart(ptratio ~ . - medv, data=BostonHousing[!is.na(BostonHousing$ptratio), ], method=\"anova\", na.action=na.omit)  # ptratio 변수는 숫자형\n",
    "rad_pred <- predict(class_mod, BostonHousing[is.na(BostonHousing$rad), ])\n",
    "ptratio_pred <- predict(anova_mod, BostonHousing[is.na(BostonHousing$ptratio), ])   "
   ]
  },
  {
   "cell_type": "markdown",
   "metadata": {},
   "source": [
    " - mice를 사용하는 경우: mice() 함수를 사용해서 먼저 모형을 생성시키고 나서, complete() 함수를 사용해서 결측값을 채워넣는 2단계 과정을 거침."
   ]
  },
  {
   "cell_type": "code",
   "execution_count": 31,
   "metadata": {
    "collapsed": false
   },
   "outputs": [
    {
     "name": "stdout",
     "output_type": "stream",
     "text": [
      "\n",
      " iter imp variable\n",
      "  1   1  ptratio\n",
      "  1   2  ptratio\n",
      "  1   3  ptratio\n",
      "  1   4  ptratio\n",
      "  1   5  ptratio\n",
      "  2   1  ptratio\n",
      "  2   2  ptratio\n",
      "  2   3  ptratio\n",
      "  2   4  ptratio\n",
      "  2   5  ptratio\n",
      "  3   1  ptratio\n",
      "  3   2  ptratio\n",
      "  3   3  ptratio\n",
      "  3   4  ptratio\n",
      "  3   5  ptratio\n",
      "  4   1  ptratio\n",
      "  4   2  ptratio\n",
      "  4   3  ptratio\n",
      "  4   4  ptratio\n",
      "  4   5  ptratio\n",
      "  5   1  ptratio\n",
      "  5   2  ptratio\n",
      "  5   3  ptratio\n",
      "  5   4  ptratio\n",
      "  5   5  ptratio\n"
     ]
    }
   ],
   "source": [
    "data(BostonHousing)\n",
    "BostonHousing[sample(1:nrow(BostonHousing), 40), \"ptratio\"] <- NA\n",
    "miceMod <- mice(BostonHousing[, !names(BostonHousing) %in% \"medv\"], method=\"rf\")  # 확률숲(random forest)"
   ]
  },
  {
   "cell_type": "code",
   "execution_count": 32,
   "metadata": {
    "collapsed": false
   },
   "outputs": [
    {
     "data": {
      "text/html": [
       "FALSE"
      ],
      "text/latex": [
       "FALSE"
      ],
      "text/markdown": [
       "FALSE"
      ],
      "text/plain": [
       "[1] FALSE"
      ]
     },
     "metadata": {},
     "output_type": "display_data"
    }
   ],
   "source": [
    "miceOutput <- complete(miceMod)  # 생성된 데이터를 채워 넣음.\n",
    "anyNA(miceOutput)    "
   ]
  },
  {
   "cell_type": "markdown",
   "metadata": {},
   "source": [
    "# 4. 결측값 처리 방법에 따른 성능 평가"
   ]
  },
  {
   "cell_type": "markdown",
   "metadata": {},
   "source": [
    "## 4.1. 결측값 처리 방법에 따른 성능 평가 – 연속형 변수 ptratio\n",
    "\n",
    "다양한 결측값 처리 방법에 따른 성능 차이를 비교하는 것이 왜 고급 결측값 처리 방법을 활용해야 하는 근거도 된다.\n",
    "\n",
    "먼저, 연속형 변수의 경우 다양한 결측값 처리 방법에 따른 성능의 차이를 비교해보자. “ptratio” 변수는 연속형 변수로 506개 변수중 50개 즉 10%를 결측값, NA로 치환한다.\n",
    "\n",
    "평균과 중위수를 결측값 10%를 채워넣을 경우 중위수를 채워넣은 것이 mape를 봤을 때 대동소이하다."
   ]
  },
  {
   "cell_type": "code",
   "execution_count": 33,
   "metadata": {
    "collapsed": false
   },
   "outputs": [
    {
     "data": {
      "text/html": [
       "<dl class=dl-horizontal>\n",
       "\t<dt>mae</dt>\n",
       "\t\t<dd>1.64936842105263</dd>\n",
       "\t<dt>mse</dt>\n",
       "\t\t<dd>4.25827916281933</dd>\n",
       "\t<dt>rmse</dt>\n",
       "\t\t<dd>2.06355982777804</dd>\n",
       "\t<dt>mape</dt>\n",
       "\t\t<dd>0.0941387054758817</dd>\n",
       "</dl>\n"
      ],
      "text/latex": [
       "\\begin{description*}\n",
       "\\item[mae] 1.64936842105263\n",
       "\\item[mse] 4.25827916281933\n",
       "\\item[rmse] 2.06355982777804\n",
       "\\item[mape] 0.0941387054758817\n",
       "\\end{description*}\n"
      ],
      "text/markdown": [
       "mae\n",
       ":   1.64936842105263mse\n",
       ":   4.25827916281933rmse\n",
       ":   2.06355982777804mape\n",
       ":   0.0941387054758817\n",
       "\n"
      ],
      "text/plain": [
       "       mae        mse       rmse       mape \n",
       "1.64936842 4.25827916 2.06355983 0.09413871 "
      ]
     },
     "metadata": {},
     "output_type": "display_data"
    }
   ],
   "source": [
    "data(BostonHousing)\n",
    "original <- BostonHousing\n",
    "BostonHousing[sample(1:nrow(BostonHousing), 50), \"ptratio\"] <- NA\n",
    "\n",
    "actuals_ptratio <- original$ptratio[is.na(BostonHousing$ptratio)]\n",
    "ptratios_mean_pred <- rep(mean(BostonHousing$ptratio, na.rm=T), length(actuals_ptratio))\n",
    "ptratios_median_pred <- rep(median(BostonHousing$ptratio, na.rm=T), length(actuals_ptratio))\n",
    "regr.eval(actuals_ptratio, ptratios_mean_pred)"
   ]
  },
  {
   "cell_type": "code",
   "execution_count": 34,
   "metadata": {
    "collapsed": false
   },
   "outputs": [
    {
     "data": {
      "text/html": [
       "<dl class=dl-horizontal>\n",
       "\t<dt>mae</dt>\n",
       "\t\t<dd>1.65</dd>\n",
       "\t<dt>mse</dt>\n",
       "\t\t<dd>4.469</dd>\n",
       "\t<dt>rmse</dt>\n",
       "\t\t<dd>2.11400094607358</dd>\n",
       "\t<dt>mape</dt>\n",
       "\t\t<dd>0.0975144952442566</dd>\n",
       "</dl>\n"
      ],
      "text/latex": [
       "\\begin{description*}\n",
       "\\item[mae] 1.65\n",
       "\\item[mse] 4.469\n",
       "\\item[rmse] 2.11400094607358\n",
       "\\item[mape] 0.0975144952442566\n",
       "\\end{description*}\n"
      ],
      "text/markdown": [
       "mae\n",
       ":   1.65mse\n",
       ":   4.469rmse\n",
       ":   2.11400094607358mape\n",
       ":   0.0975144952442566\n",
       "\n"
      ],
      "text/plain": [
       "      mae       mse      rmse      mape \n",
       "1.6500000 4.4690000 2.1140009 0.0975145 "
      ]
     },
     "metadata": {},
     "output_type": "display_data"
    }
   ],
   "source": [
    "regr.eval(actuals_ptratio, ptratios_median_pred)"
   ]
  },
  {
   "cell_type": "markdown",
   "metadata": {},
   "source": [
    " - 두번째 knn 기법을 활용한 경우 mape가 줄어든 것이 확인된다."
   ]
  },
  {
   "cell_type": "code",
   "execution_count": 35,
   "metadata": {
    "collapsed": false
   },
   "outputs": [
    {
     "data": {
      "text/html": [
       "<dl class=dl-horizontal>\n",
       "\t<dt>mae</dt>\n",
       "\t\t<dd>0.0632050656844394</dd>\n",
       "\t<dt>mse</dt>\n",
       "\t\t<dd>0.104297691910321</dd>\n",
       "\t<dt>rmse</dt>\n",
       "\t\t<dd>0.322951531828416</dd>\n",
       "\t<dt>mape</dt>\n",
       "\t\t<dd>0.00386727312728769</dd>\n",
       "</dl>\n"
      ],
      "text/latex": [
       "\\begin{description*}\n",
       "\\item[mae] 0.0632050656844394\n",
       "\\item[mse] 0.104297691910321\n",
       "\\item[rmse] 0.322951531828416\n",
       "\\item[mape] 0.00386727312728769\n",
       "\\end{description*}\n"
      ],
      "text/markdown": [
       "mae\n",
       ":   0.0632050656844394mse\n",
       ":   0.104297691910321rmse\n",
       ":   0.322951531828416mape\n",
       ":   0.00386727312728769\n",
       "\n"
      ],
      "text/plain": [
       "        mae         mse        rmse        mape \n",
       "0.063205066 0.104297692 0.322951532 0.003867273 "
      ]
     },
     "metadata": {},
     "output_type": "display_data"
    }
   ],
   "source": [
    "ptratios_knn_pred <- knnOutput[is.na(BostonHousing$ptratio), \"ptratio\"]\n",
    "regr.eval(actuals_ptratio, ptratios_knn_pred)"
   ]
  },
  {
   "cell_type": "markdown",
   "metadata": {},
   "source": [
    " - 세번째 rpart 기법을 활용한 경우 mape가 줄어든 것이 확인된다."
   ]
  },
  {
   "cell_type": "code",
   "execution_count": 36,
   "metadata": {
    "collapsed": false
   },
   "outputs": [
    {
     "name": "stderr",
     "output_type": "stream",
     "text": [
      "Warning message:\n",
      "In trues - preds: 두 객체의 길이가 서로 배수관계에 있지 않습니다Warning message:\n",
      "In trues - preds: 두 객체의 길이가 서로 배수관계에 있지 않습니다Warning message:\n",
      "In trues - preds: 두 객체의 길이가 서로 배수관계에 있지 않습니다Warning message:\n",
      "In (trues - preds)/trues: 두 객체의 길이가 서로 배수관계에 있지 않습니다"
     ]
    },
    {
     "data": {
      "text/html": [
       "<dl class=dl-horizontal>\n",
       "\t<dt>mae</dt>\n",
       "\t\t<dd>2.22332450976843</dd>\n",
       "\t<dt>mse</dt>\n",
       "\t\t<dd>6.79050616079408</dd>\n",
       "\t<dt>rmse</dt>\n",
       "\t\t<dd>2.60585996569157</dd>\n",
       "\t<dt>mape</dt>\n",
       "\t\t<dd>0.129225772402116</dd>\n",
       "</dl>\n"
      ],
      "text/latex": [
       "\\begin{description*}\n",
       "\\item[mae] 2.22332450976843\n",
       "\\item[mse] 6.79050616079408\n",
       "\\item[rmse] 2.60585996569157\n",
       "\\item[mape] 0.129225772402116\n",
       "\\end{description*}\n"
      ],
      "text/markdown": [
       "mae\n",
       ":   2.22332450976843mse\n",
       ":   6.79050616079408rmse\n",
       ":   2.60585996569157mape\n",
       ":   0.129225772402116\n",
       "\n"
      ],
      "text/plain": [
       "      mae       mse      rmse      mape \n",
       "2.2233245 6.7905062 2.6058600 0.1292258 "
      ]
     },
     "metadata": {},
     "output_type": "display_data"
    }
   ],
   "source": [
    "ptratios_anova_mod <- rpart(ptratio ~ . - medv, \n",
    "    data=BostonHousing[!is.na(BostonHousing$ptratio), ], method=\"anova\", na.action=na.omit)\n",
    "ptratio_anova_pred <- predict(ptratios_anova_mod, BostonHousing[is.na(BostonHousing$ptratio), ])\n",
    "regr.eval(actuals, ptratio_anova_pred)"
   ]
  },
  {
   "cell_type": "markdown",
   "metadata": {},
   "source": [
    " - 네번째는 rf 확률숲 모형을 적용하는데 결측값 처리 전용 mice 팩키지를 활용한다. mape 값이 하향된 것이 관측된다."
   ]
  },
  {
   "cell_type": "code",
   "execution_count": 39,
   "metadata": {
    "collapsed": false
   },
   "outputs": [
    {
     "name": "stdout",
     "output_type": "stream",
     "text": [
      "\n",
      " iter imp variable\n",
      "  1   1  ptratio\n",
      "  1   2  ptratio\n",
      "  1   3  ptratio\n",
      "  1   4  ptratio\n",
      "  1   5  ptratio\n",
      "  2   1  ptratio\n",
      "  2   2  ptratio\n",
      "  2   3  ptratio\n",
      "  2   4  ptratio\n",
      "  2   5  ptratio\n",
      "  3   1  ptratio\n",
      "  3   2  ptratio\n",
      "  3   3  ptratio\n",
      "  3   4  ptratio\n",
      "  3   5  ptratio\n",
      "  4   1  ptratio\n",
      "  4   2  ptratio\n",
      "  4   3  ptratio\n",
      "  4   4  ptratio\n",
      "  4   5  ptratio\n",
      "  5   1  ptratio\n",
      "  5   2  ptratio\n",
      "  5   3  ptratio\n",
      "  5   4  ptratio\n",
      "  5   5  ptratio\n"
     ]
    }
   ],
   "source": [
    "mice_mod <- mice(BostonHousing[, !names(BostonHousing) %in% \"medv\"], method=\"rf\") # 1단계 모형 생성"
   ]
  },
  {
   "cell_type": "code",
   "execution_count": 40,
   "metadata": {
    "collapsed": false
   },
   "outputs": [
    {
     "name": "stderr",
     "output_type": "stream",
     "text": [
      "Warning message:\n",
      "In trues - preds: 두 객체의 길이가 서로 배수관계에 있지 않습니다Warning message:\n",
      "In trues - preds: 두 객체의 길이가 서로 배수관계에 있지 않습니다Warning message:\n",
      "In trues - preds: 두 객체의 길이가 서로 배수관계에 있지 않습니다Warning message:\n",
      "In (trues - preds)/trues: 두 객체의 길이가 서로 배수관계에 있지 않습니다"
     ]
    },
    {
     "data": {
      "text/html": [
       "<dl class=dl-horizontal>\n",
       "\t<dt>mae</dt>\n",
       "\t\t<dd>2.21</dd>\n",
       "\t<dt>mse</dt>\n",
       "\t\t<dd>6.756</dd>\n",
       "\t<dt>rmse</dt>\n",
       "\t\t<dd>2.59923065540556</dd>\n",
       "\t<dt>mape</dt>\n",
       "\t\t<dd>0.128461938726626</dd>\n",
       "</dl>\n"
      ],
      "text/latex": [
       "\\begin{description*}\n",
       "\\item[mae] 2.21\n",
       "\\item[mse] 6.756\n",
       "\\item[rmse] 2.59923065540556\n",
       "\\item[mape] 0.128461938726626\n",
       "\\end{description*}\n"
      ],
      "text/markdown": [
       "mae\n",
       ":   2.21mse\n",
       ":   6.756rmse\n",
       ":   2.59923065540556mape\n",
       ":   0.128461938726626\n",
       "\n"
      ],
      "text/plain": [
       "      mae       mse      rmse      mape \n",
       "2.2100000 6.7560000 2.5992307 0.1284619 "
      ]
     },
     "metadata": {},
     "output_type": "display_data"
    }
   ],
   "source": [
    "mice_output <- complete(mice_mod)  # 2단계 결측값 채워넣기\n",
    "\n",
    "ptratio_rf_pred <- mice_output[is.na(BostonHousing$ptratio), \"ptratio\"]\n",
    "regr.eval(actuals, ptratio_rf_pred)"
   ]
  },
  {
   "cell_type": "markdown",
   "metadata": {},
   "source": [
    "## 4.2. 결측값 처리 방법에 따른 성능 평가 – 범주형 변수 rad\n",
    "\n",
    "범주형 변수의 경우, 다양한 결측값 처리 방법에 따른 성능의 차이를 비교해보자. “rad” 변수는 연속형 변수로 506개 변수중 50개 즉 10%를 결측값, NA로 치환한다.\n",
    "\n",
    "먼저, names(sort(-table(BostonHousing$rad)))[1] 명령어를 통해 최빈값을 파악한다. 그리고 이를 결측값에 꽂아 넣는다."
   ]
  },
  {
   "cell_type": "code",
   "execution_count": 41,
   "metadata": {
    "collapsed": false
   },
   "outputs": [
    {
     "data": {
      "text/html": [
       "0.7"
      ],
      "text/latex": [
       "0.7"
      ],
      "text/markdown": [
       "0.7"
      ],
      "text/plain": [
       "[1] 0.7"
      ]
     },
     "metadata": {},
     "output_type": "display_data"
    }
   ],
   "source": [
    "data(BostonHousing)\n",
    "original <- BostonHousing\n",
    "BostonHousing[sample(1:nrow(BostonHousing), 50), \"rad\"] <- NA\n",
    "\n",
    "actuals_rad <- original$rad[is.na(BostonHousing$rad)]\n",
    "rad_mode_pred <- rep(names(sort(-table(BostonHousing$rad)))[1], length(actuals_rad))\n",
    "\n",
    "mean(actuals_rad != rad_mode_pred) "
   ]
  },
  {
   "cell_type": "markdown",
   "metadata": {},
   "source": [
    " - 두번째로 rpart 의사결정나무 모형을 활용하여 결측값을 채워넣는다."
   ]
  },
  {
   "cell_type": "code",
   "execution_count": 42,
   "metadata": {
    "collapsed": false
   },
   "outputs": [
    {
     "data": {
      "text/html": [
       "0.2"
      ],
      "text/latex": [
       "0.2"
      ],
      "text/markdown": [
       "0.2"
      ],
      "text/plain": [
       "[1] 0.2"
      ]
     },
     "metadata": {},
     "output_type": "display_data"
    }
   ],
   "source": [
    "data(BostonHousing)\n",
    "original <- BostonHousing\n",
    "BostonHousing[sample(1:nrow(BostonHousing), 50), \"rad\"] <- NA\n",
    "\n",
    "class_mod <- rpart(rad ~ . - medv, data=BostonHousing[!is.na(BostonHousing$rad), ], method=\"class\", na.action=na.omit)\n",
    "rad_pred <- predict(class_mod, BostonHousing[is.na(BostonHousing$rad), ])\n",
    "\n",
    "actuals_rad <- original$rad[is.na(BostonHousing$rad)]\n",
    "rad_rpart_pred <- as.numeric(colnames(rad_pred)[apply(rad_pred, 1, which.max)])\n",
    "\n",
    "mean(actuals_rad != rad_rpart_pred)"
   ]
  },
  {
   "cell_type": "markdown",
   "metadata": {},
   "source": [
    " - 마지막으로 mice 확률숲 rf 모형을 사용해서 결측값을 채워넣는다."
   ]
  },
  {
   "cell_type": "code",
   "execution_count": 45,
   "metadata": {
    "collapsed": false
   },
   "outputs": [
    {
     "name": "stdout",
     "output_type": "stream",
     "text": [
      "\n",
      " iter imp variable\n",
      "  1   1  rad\n",
      "  1   2  rad\n",
      "  1   3  rad\n",
      "  1   4  rad\n",
      "  1   5  rad\n",
      "  2   1  rad\n",
      "  2   2  rad\n",
      "  2   3  rad\n",
      "  2   4  rad\n",
      "  2   5  rad\n",
      "  3   1  rad\n",
      "  3   2  rad\n",
      "  3   3  rad\n",
      "  3   4  rad\n",
      "  3   5  rad\n",
      "  4   1  rad\n",
      "  4   2  rad\n",
      "  4   3  rad\n",
      "  4   4  rad\n",
      "  4   5  rad\n",
      "  5   1  rad\n",
      "  5   2  rad\n",
      "  5   3  rad\n",
      "  5   4  rad\n",
      "  5   5  rad\n"
     ]
    }
   ],
   "source": [
    "data(BostonHousing)\n",
    "original <- BostonHousing\n",
    "BostonHousing[sample(1:nrow(BostonHousing), 50), \"rad\"] <- NA\n",
    "\n",
    "mice_mod <- mice(BostonHousing[, !names(BostonHousing) %in% \"medv\"], method=\"rf\") # 1단계 모형 생성"
   ]
  },
  {
   "cell_type": "code",
   "execution_count": 46,
   "metadata": {
    "collapsed": false
   },
   "outputs": [
    {
     "data": {
      "text/html": [
       "0.34"
      ],
      "text/latex": [
       "0.34"
      ],
      "text/markdown": [
       "0.34"
      ],
      "text/plain": [
       "[1] 0.34"
      ]
     },
     "metadata": {},
     "output_type": "display_data"
    }
   ],
   "source": [
    "mice_output <- complete(mice_mod)  # 2단계 결측값 채워넣기\n",
    "\n",
    "actuals_rad <- original$rad[is.na(BostonHousing$rad)]\n",
    "rad_rf_pred <- mice_output[is.na(BostonHousing$rad), \"rad\"]\n",
    "mean(actuals_rad != rad_rf_pred)"
   ]
  }
 ],
 "metadata": {
  "anaconda-cloud": {},
  "kernelspec": {
   "display_name": "R 3.3",
   "language": "R",
   "name": "ir33"
  },
  "language_info": {
   "codemirror_mode": "r",
   "file_extension": ".r",
   "mimetype": "text/x-r-source",
   "name": "R",
   "pygments_lexer": "r",
   "version": "3.3.1"
  }
 },
 "nbformat": 4,
 "nbformat_minor": 0
}
