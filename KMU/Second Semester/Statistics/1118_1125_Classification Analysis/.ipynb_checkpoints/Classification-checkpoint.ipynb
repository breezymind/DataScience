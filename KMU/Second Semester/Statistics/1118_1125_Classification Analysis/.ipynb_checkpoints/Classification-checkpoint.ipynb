{
 "cells": [
  {
   "cell_type": "markdown",
   "metadata": {},
   "source": [
    "# Classification\n",
    "<img src=\"photo/3.PNG\">\n",
    "\n",
    "$Odds, {P(X)\\over{(1-P(X))}}$ -> [0,1] $ \\ log_e(Odds)$ => $\\beta_0+\\beta_1X$ => ${e^{\\beta_0+\\beta_1X} \\over {1+e^{\\beta_0+\\beta_1X}}}$ => $1 \\over {1+e^{-X}}$\n",
    "\n",
    "<br>\n",
    "\n",
    " 코드를 보기 전 <a href=\"Statistics_Classification.pdf\"> 이론</a>을 보고 시작할 것.\n",
    " - 이 데이터에서 나오는 $Balance$의 경우 예를 들어 100만원의 카드 값에서 50만원을 갚으면 남은 50만원이 $Balance$가 된다.\n",
    " - $glm$() : 일반화 선형 모형은 종속변수가 정규분포하지 않는 경우를 포함하는 선형모형의 확장이며 glm()함수를 사용\n",
    " - $GLM$(generalized linear model)은 선형 모델이 종속변수에 링크 함수를 통해서 대응하도록 하고, 각 측정 변수의 크기를 예측된 값의 함수에 대응되도록 함으로써 선형 회귀를 만들수 있다. \n",
    "  - 이것은 선형 회귀, 로지스틱 회귀, 그리고 푸아송 회귀를 포함하는 다양한 통계적 모델을 통합했다."
   ]
  },
  {
   "cell_type": "markdown",
   "metadata": {},
   "source": [
    "참조 \n",
    "\n",
    "    함수 glm()은 선형 예측 값의 설명과 오차의 분포를 특정지어 일반화선형모형(Generalized linear model)을 적합 하는 데 사용된다. \n",
    "    R 에서 로지스틱 회귀분석을 실시할 때 반응변수 1을 기준으로 모형이 만들어진다. \n",
    "    반응변수를 숫자가 아닌 문자로 입력한 경우 문자변수를 factor로 입력하여 사용하면 알파벳 순서 역순의 값을 기준으로 모형을 만든다.\n",
    "    (예: no, yes로 입력하면 yes를 기존으로 모형을 만듬)"
   ]
  },
  {
   "cell_type": "markdown",
   "metadata": {},
   "source": [
    "## Sigmoid Function \n",
    " <img src=\"https://qph.ec.quoracdn.net/main-qimg-05edc1873d0103e36064862a45566dba?convert_to_webp=true\">"
   ]
  },
  {
   "cell_type": "markdown",
   "metadata": {},
   "source": [
    "## Simple Logistic Regression \n",
    " $$P(X) =  {e^{\\beta_0+\\beta_1X} \\over {1+e^{\\beta_0+\\beta_1X}}}   <=> {log({p(X) \\over {1-p(X)}}) = \\beta_0 + \\beta_1X} $$\n",
    " - log-odd(logit)\n",
    " - Odds = 성공확률 / 실패확률"
   ]
  },
  {
   "cell_type": "markdown",
   "metadata": {},
   "source": [
    "<img src=\"photo/4.PNG\">\n",
    "<img src=\"photo/5.PNG\">"
   ]
  },
  {
   "cell_type": "code",
   "execution_count": 1,
   "metadata": {
    "collapsed": false
   },
   "outputs": [
    {
     "name": "stderr",
     "output_type": "stream",
     "text": [
      "Warning message:\n",
      ": package 'ISLR' was built under R version 3.3.2"
     ]
    }
   ],
   "source": [
    "library(ISLR)"
   ]
  },
  {
   "cell_type": "code",
   "execution_count": 6,
   "metadata": {
    "collapsed": false
   },
   "outputs": [
    {
     "data": {
      "image/png": "[encoded data removed]",
      "text/plain": [
       "plot without title"
      ]
     },
     "metadata": {},
     "output_type": "display_data"
    }
   ],
   "source": [
    "options(repr.plot.width=4, repr.plot.height=4)\n",
    "boxplot(balance~default, data = Default, ylab=\"Balance\", xlab=\"default\")"
   ]
  },
  {
   "cell_type": "code",
   "execution_count": 8,
   "metadata": {
    "collapsed": false
   },
   "outputs": [
    {
     "data": {
      "text/plain": [
       "\n",
       "Call:\n",
       "glm(formula = default ~ balance, family = binomial, data = Default)\n",
       "\n",
       "Deviance Residuals: \n",
       "    Min       1Q   Median       3Q      Max  \n",
       "-2.2697  -0.1465  -0.0589  -0.0221   3.7589  \n",
       "\n",
       "Coefficients:\n",
       "              Estimate Std. Error z value Pr(>|z|)    \n",
       "(Intercept) -1.065e+01  3.612e-01  -29.49   <2e-16 ***\n",
       "balance      5.499e-03  2.204e-04   24.95   <2e-16 ***\n",
       "---\n",
       "Signif. codes:  0 '***' 0.001 '**' 0.01 '*' 0.05 '.' 0.1 ' ' 1\n",
       "\n",
       "(Dispersion parameter for binomial family taken to be 1)\n",
       "\n",
       "    Null deviance: 2920.6  on 9999  degrees of freedom\n",
       "Residual deviance: 1596.5  on 9998  degrees of freedom\n",
       "AIC: 1600.5\n",
       "\n",
       "Number of Fisher Scoring iterations: 8\n"
      ]
     },
     "metadata": {},
     "output_type": "display_data"
    }
   ],
   "source": [
    "model = glm(default~balance,data=Default,family = binomial) # family binomial => Classifier (Yes or No)\n",
    "summary(model)"
   ]
  },
  {
   "cell_type": "markdown",
   "metadata": {},
   "source": [
    "- $log({p \\over{(1-p)}}) = -10.65 + 0.005balance$"
   ]
  },
  {
   "cell_type": "markdown",
   "metadata": {},
   "source": [
    " - Balance 단위 1이 올라갈때마다 $e^{5.499e-03}$ 배 만큼 상승한다."
   ]
  },
  {
   "cell_type": "code",
   "execution_count": 22,
   "metadata": {
    "collapsed": false
   },
   "outputs": [
    {
     "data": {
      "text/html": [
       "1.00551414725269"
      ],
      "text/latex": [
       "1.00551414725269"
      ],
      "text/markdown": [
       "1.00551414725269"
      ],
      "text/plain": [
       "[1] 1.005514"
      ]
     },
     "metadata": {},
     "output_type": "display_data"
    },
    {
     "data": {
      "text/html": [
       "1.00551406372555"
      ],
      "text/latex": [
       "1.00551406372555"
      ],
      "text/markdown": [
       "1.00551406372555"
      ],
      "text/plain": [
       "[1] 1.005514"
      ]
     },
     "metadata": {},
     "output_type": "display_data"
    }
   ],
   "source": [
    "exp(5.499e-03) # Balance가 1불 증가할때 0.5프로 0.005배 증가한다. \n",
    "exp(model$coefficients[[2]])"
   ]
  },
  {
   "cell_type": "code",
   "execution_count": 14,
   "metadata": {
    "collapsed": false
   },
   "outputs": [
    {
     "data": {
      "text/html": [
       "1.73307970123158"
      ],
      "text/latex": [
       "1.73307970123158"
      ],
      "text/markdown": [
       "1.73307970123158"
      ],
      "text/plain": [
       "[1] 1.73308"
      ]
     },
     "metadata": {},
     "output_type": "display_data"
    },
    {
     "data": {
      "text/html": [
       "1.73306530475628"
      ],
      "text/latex": [
       "1.73306530475628"
      ],
      "text/markdown": [
       "1.73306530475628"
      ],
      "text/plain": [
       "[1] 1.733065"
      ]
     },
     "metadata": {},
     "output_type": "display_data"
    }
   ],
   "source": [
    "exp(5.499e-03*100) # Balance가 100불 증가할때 73% 증가한다.\n",
    "exp(model$coefficients[[2]]*100)"
   ]
  },
  {
   "cell_type": "markdown",
   "metadata": {},
   "source": [
    "### 카드 Balance가 $1,000인 사람의 파산 확률은?"
   ]
  },
  {
   "cell_type": "code",
   "execution_count": 16,
   "metadata": {
    "collapsed": false
   },
   "outputs": [
    {
     "data": {
      "text/html": [
       "<strong>1:</strong> -5.15241368295043"
      ],
      "text/latex": [
       "\\textbf{1:} -5.15241368295043"
      ],
      "text/markdown": [
       "**1:** -5.15241368295043"
      ],
      "text/plain": [
       "        1 \n",
       "-5.152414 "
      ]
     },
     "metadata": {},
     "output_type": "display_data"
    }
   ],
   "source": [
    "predict(model,data.frame(balance=1000))"
   ]
  },
  {
   "cell_type": "code",
   "execution_count": 21,
   "metadata": {
    "collapsed": false
   },
   "outputs": [
    {
     "data": {
      "text/html": [
       "<strong>1:</strong> 0.00575214508581937"
      ],
      "text/latex": [
       "\\textbf{1:} 0.00575214508581937"
      ],
      "text/markdown": [
       "**1:** 0.00575214508581937"
      ],
      "text/plain": [
       "          1 \n",
       "0.005752145 "
      ]
     },
     "metadata": {},
     "output_type": "display_data"
    }
   ],
   "source": [
    "exp(predict(model,data.frame(balance=1000))) / (1+exp(predict(model,data.frame(balance=1000))))"
   ]
  },
  {
   "cell_type": "markdown",
   "metadata": {},
   "source": [
    " - P값을 계산해준다.\n",
    " - 파산 확률은 0.06% "
   ]
  },
  {
   "cell_type": "code",
   "execution_count": 24,
   "metadata": {
    "collapsed": false
   },
   "outputs": [
    {
     "data": {
      "text/html": [
       "<strong>1:</strong> 0.00575214508581937"
      ],
      "text/latex": [
       "\\textbf{1:} 0.00575214508581937"
      ],
      "text/markdown": [
       "**1:** 0.00575214508581937"
      ],
      "text/plain": [
       "          1 \n",
       "0.005752145 "
      ]
     },
     "metadata": {},
     "output_type": "display_data"
    }
   ],
   "source": [
    "predict(model,data.frame(balance=1000),type=\"response\")"
   ]
  },
  {
   "cell_type": "markdown",
   "metadata": {},
   "source": [
    "## Multivariable logistic regression \n",
    " $$P(X) =  {e^{\\beta_0+\\beta_1X} \\over {1+e^{\\beta_0+\\beta_1X}}}   <=> {log({p(X) \\over {1-p(X)}}) = \\beta_0 + \\beta_1X} $$\n",
    " - 위의 식에서 독립변수 갯수와 가중치 갯수 증가.\n",
    " - 각 항목의 독립변수가 고정이라고 할때, 각 $x_i$가 올라갈때 마다 $b_i$의 영향도를 판단."
   ]
  },
  {
   "cell_type": "code",
   "execution_count": 27,
   "metadata": {
    "collapsed": false
   },
   "outputs": [
    {
     "name": "stdout",
     "output_type": "stream",
     "text": [
      "'data.frame':\t10000 obs. of  4 variables:\n",
      " $ default: Factor w/ 2 levels \"No\",\"Yes\": 1 1 1 1 1 1 1 1 1 1 ...\n",
      " $ student: Factor w/ 2 levels \"No\",\"Yes\": 1 2 1 1 1 2 1 2 1 1 ...\n",
      " $ balance: num  730 817 1074 529 786 ...\n",
      " $ income : num  44362 12106 31767 35704 38463 ...\n"
     ]
    }
   ],
   "source": [
    "str(Default)"
   ]
  },
  {
   "cell_type": "code",
   "execution_count": 28,
   "metadata": {
    "collapsed": false
   },
   "outputs": [
    {
     "data": {
      "text/html": [
       "<table>\n",
       "<thead><tr><th></th><th scope=col>default</th><th scope=col>student</th><th scope=col>balance</th><th scope=col>income</th></tr></thead>\n",
       "<tbody>\n",
       "\t<tr><th scope=row>1</th><td>No              </td><td>No              </td><td>729.526495207286</td><td>44361.6250742669</td></tr>\n",
       "\t<tr><th scope=row>2</th><td>No              </td><td>Yes             </td><td>817.180406555498</td><td>12106.1347003149</td></tr>\n",
       "\t<tr><th scope=row>3</th><td>No              </td><td>No              </td><td>1073.54916401173</td><td>31767.1389473999</td></tr>\n",
       "</tbody>\n",
       "</table>\n"
      ],
      "text/latex": [
       "\\begin{tabular}{r|llll}\n",
       "  & default & student & balance & income\\\\\n",
       "\\hline\n",
       "\t1 & No               & No               & 729.526495207286 & 44361.6250742669\\\\\n",
       "\t2 & No               & Yes              & 817.180406555498 & 12106.1347003149\\\\\n",
       "\t3 & No               & No               & 1073.54916401173 & 31767.1389473999\\\\\n",
       "\\end{tabular}\n"
      ],
      "text/plain": [
       "  default student   balance   income\n",
       "1      No      No  729.5265 44361.63\n",
       "2      No     Yes  817.1804 12106.13\n",
       "3      No      No 1073.5492 31767.14"
      ]
     },
     "metadata": {},
     "output_type": "display_data"
    }
   ],
   "source": [
    "head(Default,3)"
   ]
  },
  {
   "cell_type": "code",
   "execution_count": 25,
   "metadata": {
    "collapsed": false
   },
   "outputs": [
    {
     "data": {
      "text/plain": [
       "\n",
       "Call:\n",
       "glm(formula = default ~ balance + income + student, family = binomial, \n",
       "    data = Default)\n",
       "\n",
       "Deviance Residuals: \n",
       "    Min       1Q   Median       3Q      Max  \n",
       "-2.4691  -0.1418  -0.0557  -0.0203   3.7383  \n",
       "\n",
       "Coefficients:\n",
       "              Estimate Std. Error z value Pr(>|z|)    \n",
       "(Intercept) -1.087e+01  4.923e-01 -22.080  < 2e-16 ***\n",
       "balance      5.737e-03  2.319e-04  24.738  < 2e-16 ***\n",
       "income       3.033e-06  8.203e-06   0.370  0.71152    \n",
       "studentYes  -6.468e-01  2.363e-01  -2.738  0.00619 ** \n",
       "---\n",
       "Signif. codes:  0 '***' 0.001 '**' 0.01 '*' 0.05 '.' 0.1 ' ' 1\n",
       "\n",
       "(Dispersion parameter for binomial family taken to be 1)\n",
       "\n",
       "    Null deviance: 2920.6  on 9999  degrees of freedom\n",
       "Residual deviance: 1571.5  on 9996  degrees of freedom\n",
       "AIC: 1579.5\n",
       "\n",
       "Number of Fisher Scoring iterations: 8\n"
      ]
     },
     "metadata": {},
     "output_type": "display_data"
    }
   ],
   "source": [
    "model1 = glm(default ~ balance + income + student, data=Default, family = binomial)\n",
    "summary(model1)"
   ]
  },
  {
   "cell_type": "markdown",
   "metadata": {},
   "source": [
    " - 위의 $Model$에 따르면 \n",
    "  - $Balance$와 $Student$가 $Default$에 영향을 주고 있다. \n",
    "  - 하지만 $Income$에 대해서는 유의할 수준에 영향을 주지 않는다. $P-value >0.05$"
   ]
  },
  {
   "cell_type": "code",
   "execution_count": 30,
   "metadata": {
    "collapsed": false
   },
   "outputs": [
    {
     "data": {
      "text/plain": [
       "\n",
       "Call:\n",
       "glm(formula = default ~ student, family = binomial, data = Default)\n",
       "\n",
       "Deviance Residuals: \n",
       "    Min       1Q   Median       3Q      Max  \n",
       "-0.2970  -0.2970  -0.2434  -0.2434   2.6585  \n",
       "\n",
       "Coefficients:\n",
       "            Estimate Std. Error z value Pr(>|z|)    \n",
       "(Intercept) -3.50413    0.07071  -49.55  < 2e-16 ***\n",
       "studentYes   0.40489    0.11502    3.52 0.000431 ***\n",
       "---\n",
       "Signif. codes:  0 '***' 0.001 '**' 0.01 '*' 0.05 '.' 0.1 ' ' 1\n",
       "\n",
       "(Dispersion parameter for binomial family taken to be 1)\n",
       "\n",
       "    Null deviance: 2920.6  on 9999  degrees of freedom\n",
       "Residual deviance: 2908.7  on 9998  degrees of freedom\n",
       "AIC: 2912.7\n",
       "\n",
       "Number of Fisher Scoring iterations: 6\n"
      ]
     },
     "metadata": {},
     "output_type": "display_data"
    }
   ],
   "source": [
    "model_tmp = glm(default ~ student, data=Default, family = binomial)\n",
    "summary(model_tmp)"
   ]
  },
  {
   "cell_type": "markdown",
   "metadata": {},
   "source": [
    " - Model1에서의 Student와 Model_tmp에서의 Student의 영향도의 방향이 다르다. \n",
    " - Model1 : 학생일때 0.52배 감소 즉 48% 감소 한다. \n",
    " - 즉, 동일한 카드 Balance 경우 학생이 더 믿을만하다.\n",
    " - Model_tmp의 경우 1.5배 상승."
   ]
  },
  {
   "cell_type": "code",
   "execution_count": 34,
   "metadata": {
    "collapsed": false
   },
   "outputs": [
    {
     "data": {
      "text/html": [
       "0.523731669647421"
      ],
      "text/latex": [
       "0.523731669647421"
      ],
      "text/markdown": [
       "0.523731669647421"
      ],
      "text/plain": [
       "[1] 0.5237317"
      ]
     },
     "metadata": {},
     "output_type": "display_data"
    },
    {
     "data": {
      "text/html": [
       "1.4991332099292"
      ],
      "text/latex": [
       "1.4991332099292"
      ],
      "text/markdown": [
       "1.4991332099292"
      ],
      "text/plain": [
       "[1] 1.499133"
      ]
     },
     "metadata": {},
     "output_type": "display_data"
    }
   ],
   "source": [
    "exp(model1$coefficients[[4]])\n",
    "exp(model_tmp$coefficients[[2]]) "
   ]
  },
  {
   "cell_type": "code",
   "execution_count": 32,
   "metadata": {
    "collapsed": false
   },
   "outputs": [
    {
     "data": {
      "image/png": "[encoded data removed]",
      "text/plain": [
       "plot without title"
      ]
     },
     "metadata": {},
     "output_type": "display_data"
    }
   ],
   "source": [
    "boxplot(balance ~ student, Default)"
   ]
  },
  {
   "cell_type": "markdown",
   "metadata": {},
   "source": [
    " - 학생들이 학생장고가 많다 => 벨런스가 높다 => 파산가능성이 높아진다. \n",
    " - 하지만 Multiple Linear에서는 끊어준다."
   ]
  },
  {
   "cell_type": "markdown",
   "metadata": {},
   "source": [
    "# Practice 5 #### \n",
    "     1.\tSmarket dataset in ISLR library\n",
    "     S&P500 지수의 수익률을 1250일간 기록한 데이터이다. Lag1-Lag5는 1일에서 5일 전의 수익률을 나타내고 \n",
    "     Volume은 전일 거래량(in billions), Today는 오늘의 수익률, Direction은 오늘 시장의 상승(up)과 하락(down)을 나타낸다. \n",
    "     로지스틱 회귀분석을 이용하여 아래의 질문에 답하시오.\n",
    "     A.\tLag변수들과 Volume을 사용하여 시장의 상승 하락을 예측하는 모형을 추정하고 추정된 모형을 기술하시오.\n",
    "     B.\t추정된 회귀계수를 해석하시오."
   ]
  },
  {
   "cell_type": "code",
   "execution_count": 36,
   "metadata": {
    "collapsed": false
   },
   "outputs": [
    {
     "name": "stdout",
     "output_type": "stream",
     "text": [
      "'data.frame':\t1250 obs. of  9 variables:\n",
      " $ Year     : num  2001 2001 2001 2001 2001 ...\n",
      " $ Lag1     : num  0.381 0.959 1.032 -0.623 0.614 ...\n",
      " $ Lag2     : num  -0.192 0.381 0.959 1.032 -0.623 ...\n",
      " $ Lag3     : num  -2.624 -0.192 0.381 0.959 1.032 ...\n",
      " $ Lag4     : num  -1.055 -2.624 -0.192 0.381 0.959 ...\n",
      " $ Lag5     : num  5.01 -1.055 -2.624 -0.192 0.381 ...\n",
      " $ Volume   : num  1.19 1.3 1.41 1.28 1.21 ...\n",
      " $ Today    : num  0.959 1.032 -0.623 0.614 0.213 ...\n",
      " $ Direction: Factor w/ 2 levels \"Down\",\"Up\": 2 2 1 2 2 2 1 2 2 2 ...\n"
     ]
    }
   ],
   "source": [
    "Smarket <- Smarket\n",
    "str(Smarket)"
   ]
  },
  {
   "cell_type": "code",
   "execution_count": 37,
   "metadata": {
    "collapsed": false
   },
   "outputs": [
    {
     "data": {
      "text/plain": [
       "\n",
       "Call:\n",
       "glm(formula = Direction ~ Lag1 + Lag2 + Lag3 + Lag4 + Lag5 + \n",
       "    Volume, family = binomial, data = Smarket)\n",
       "\n",
       "Deviance Residuals: \n",
       "   Min      1Q  Median      3Q     Max  \n",
       "-1.446  -1.203   1.065   1.145   1.326  \n",
       "\n",
       "Coefficients:\n",
       "             Estimate Std. Error z value Pr(>|z|)\n",
       "(Intercept) -0.126000   0.240736  -0.523    0.601\n",
       "Lag1        -0.073074   0.050167  -1.457    0.145\n",
       "Lag2        -0.042301   0.050086  -0.845    0.398\n",
       "Lag3         0.011085   0.049939   0.222    0.824\n",
       "Lag4         0.009359   0.049974   0.187    0.851\n",
       "Lag5         0.010313   0.049511   0.208    0.835\n",
       "Volume       0.135441   0.158360   0.855    0.392\n",
       "\n",
       "(Dispersion parameter for binomial family taken to be 1)\n",
       "\n",
       "    Null deviance: 1731.2  on 1249  degrees of freedom\n",
       "Residual deviance: 1727.6  on 1243  degrees of freedom\n",
       "AIC: 1741.6\n",
       "\n",
       "Number of Fisher Scoring iterations: 3\n"
      ]
     },
     "metadata": {},
     "output_type": "display_data"
    }
   ],
   "source": [
    "s_model <- glm(Direction ~ Lag1+Lag2+Lag3+Lag4+Lag5+Volume, data=Smarket, family = binomial)\n",
    "summary(s_model)"
   ]
  },
  {
   "cell_type": "markdown",
   "metadata": {},
   "source": [
    " - 우선 모든 값들이 유의하게 영향을 미치지 않는다는 결론부터 난다. $P-value > 0.05$\n",
    " \n",
    " - 하루, 이틀 간의 데이터는 음의 관계를 가진다. 즉, 1~2일 사이 상승 하였을 경우 다음 날 떨어질 확률이 높고, 하락 하였으면 상승할 가능성이 높다. \n",
    " - 3,4,5일 전 주식이 상승했을 경우 오늘도 오를 가능성이 높아지고, 하락하였을 경우 떨어질 가능성이 높다."
   ]
  },
  {
   "cell_type": "code",
   "execution_count": 39,
   "metadata": {
    "collapsed": false
   },
   "outputs": [
    {
     "data": {
      "text/html": [
       "0.929532278312948"
      ],
      "text/latex": [
       "0.929532278312948"
      ],
      "text/markdown": [
       "0.929532278312948"
      ],
      "text/plain": [
       "[1] 0.9295323"
      ]
     },
     "metadata": {},
     "output_type": "display_data"
    },
    {
     "data": {
      "text/html": [
       "0.958580874442572"
      ],
      "text/latex": [
       "0.958580874442572"
      ],
      "text/markdown": [
       "0.958580874442572"
      ],
      "text/plain": [
       "[1] 0.9585809"
      ]
     },
     "metadata": {},
     "output_type": "display_data"
    },
    {
     "data": {
      "text/html": [
       "1.01114677584644"
      ],
      "text/latex": [
       "1.01114677584644"
      ],
      "text/markdown": [
       "1.01114677584644"
      ],
      "text/plain": [
       "[1] 1.011147"
      ]
     },
     "metadata": {},
     "output_type": "display_data"
    },
    {
     "data": {
      "text/html": [
       "1.00940287017873"
      ],
      "text/latex": [
       "1.00940287017873"
      ],
      "text/markdown": [
       "1.00940287017873"
      ],
      "text/plain": [
       "[1] 1.009403"
      ]
     },
     "metadata": {},
     "output_type": "display_data"
    },
    {
     "data": {
      "text/html": [
       "1.0103664314541"
      ],
      "text/latex": [
       "1.0103664314541"
      ],
      "text/markdown": [
       "1.0103664314541"
      ],
      "text/plain": [
       "[1] 1.010366"
      ]
     },
     "metadata": {},
     "output_type": "display_data"
    }
   ],
   "source": [
    "exp(s_model$coefficients[[2]]) # 1증가하면 다음날 증가 할 가능성이 7% 떨어진다. 0.92배. \n",
    "exp(s_model$coefficients[[3]]) \n",
    "exp(s_model$coefficients[[4]])\n",
    "exp(s_model$coefficients[[5]])\n",
    "exp(s_model$coefficients[[6]])"
   ]
  },
  {
   "cell_type": "markdown",
   "metadata": {
    "collapsed": true
   },
   "source": [
    " - Valume 이 1이 높아지면 15% 상승."
   ]
  },
  {
   "cell_type": "code",
   "execution_count": 40,
   "metadata": {
    "collapsed": false
   },
   "outputs": [
    {
     "data": {
      "text/html": [
       "1.14504124576451"
      ],
      "text/latex": [
       "1.14504124576451"
      ],
      "text/markdown": [
       "1.14504124576451"
      ],
      "text/plain": [
       "[1] 1.145041"
      ]
     },
     "metadata": {},
     "output_type": "display_data"
    }
   ],
   "source": [
    "exp(s_model$coefficients[[7]])"
   ]
  },
  {
   "cell_type": "markdown",
   "metadata": {},
   "source": [
    "# Deviance goodness of fit test\n",
    " - 모델 비교 \n",
    " - 두개 모델을 입력하여 비교가 가능하지만, 하나만 넣어서도 사용 할 수 있다."
   ]
  },
  {
   "cell_type": "markdown",
   "metadata": {},
   "source": [
    " - Null deviance : 파라미터 없이 intercept 만 있을때 자유도 \n",
    " - Residual deivance : 입력한 파라미터 전부와 intercept 를 포함 했을때 자유도."
   ]
  },
  {
   "cell_type": "code",
   "execution_count": 41,
   "metadata": {
    "collapsed": false
   },
   "outputs": [
    {
     "data": {
      "text/plain": [
       "\n",
       "Call:\n",
       "glm(formula = default ~ balance + income + student, family = binomial, \n",
       "    data = Default)\n",
       "\n",
       "Deviance Residuals: \n",
       "    Min       1Q   Median       3Q      Max  \n",
       "-2.4691  -0.1418  -0.0557  -0.0203   3.7383  \n",
       "\n",
       "Coefficients:\n",
       "              Estimate Std. Error z value Pr(>|z|)    \n",
       "(Intercept) -1.087e+01  4.923e-01 -22.080  < 2e-16 ***\n",
       "balance      5.737e-03  2.319e-04  24.738  < 2e-16 ***\n",
       "income       3.033e-06  8.203e-06   0.370  0.71152    \n",
       "studentYes  -6.468e-01  2.363e-01  -2.738  0.00619 ** \n",
       "---\n",
       "Signif. codes:  0 '***' 0.001 '**' 0.01 '*' 0.05 '.' 0.1 ' ' 1\n",
       "\n",
       "(Dispersion parameter for binomial family taken to be 1)\n",
       "\n",
       "    Null deviance: 2920.6  on 9999  degrees of freedom\n",
       "Residual deviance: 1571.5  on 9996  degrees of freedom\n",
       "AIC: 1579.5\n",
       "\n",
       "Number of Fisher Scoring iterations: 8\n"
      ]
     },
     "metadata": {},
     "output_type": "display_data"
    }
   ],
   "source": [
    "summary(model1)"
   ]
  },
  {
   "cell_type": "markdown",
   "metadata": {},
   "source": [
    "## Anova \n",
    " - model1 : Full model \n",
    " - model_tmp : reduced model \n",
    " \n",
    " - Reduced model과 full model의 차이가 유의한지 검정.\n",
    " - 여러 설명변수가 주는 영향이 유의한지 한번에 검정.\n",
    "  - 다중 회귀의 F-Test와 비슷\n",
    " - $Pr(>Chi)$\n",
    "  - $H_0:$ 두 모델이 차이가 X\n",
    "  - 즉, $p-value < 0.05$ => 차이가 있다. \n",
    " - Balance와 income의 영향이 deafult 롹률을 예측하는데 유의하다. "
   ]
  },
  {
   "cell_type": "code",
   "execution_count": 42,
   "metadata": {
    "collapsed": false
   },
   "outputs": [
    {
     "data": {
      "text/html": [
       "<table>\n",
       "<thead><tr><th></th><th scope=col>Resid. Df</th><th scope=col>Resid. Dev</th><th scope=col>Df</th><th scope=col>Deviance</th><th scope=col>Pr(&gt;Chi)</th></tr></thead>\n",
       "<tbody>\n",
       "\t<tr><th scope=row>1</th><td>9996.000</td><td>1571.545</td><td>      NA</td><td>      NA</td><td>      NA</td></tr>\n",
       "\t<tr><th scope=row>2</th><td>  9.998000e+03</td><td>  2.908683e+03</td><td> -2.000000e+00</td><td> -1.337138e+03</td><td> 4.406778e-291</td></tr>\n",
       "</tbody>\n",
       "</table>\n"
      ],
      "text/latex": [
       "\\begin{tabular}{r|lllll}\n",
       "  & Resid. Df & Resid. Dev & Df & Deviance & Pr(>Chi)\\\\\n",
       "\\hline\n",
       "\t1 & 9996.000 & 1571.545 &       NA &       NA &       NA\\\\\n",
       "\t2 &   9.998000e+03 &   2.908683e+03 &  -2.000000e+00 &  -1.337138e+03 &  4.406778e-291\\\\\n",
       "\\end{tabular}\n"
      ],
      "text/plain": [
       "Analysis of Deviance Table\n",
       "\n",
       "Model 1: default ~ balance + income + student\n",
       "Model 2: default ~ student\n",
       "  Resid. Df Resid. Dev Df Deviance  Pr(>Chi)    \n",
       "1      9996     1571.5                          \n",
       "2      9998     2908.7 -2  -1337.1 < 2.2e-16 ***\n",
       "---\n",
       "Signif. codes:  0 '***' 0.001 '**' 0.01 '*' 0.05 '.' 0.1 ' ' 1"
      ]
     },
     "metadata": {},
     "output_type": "display_data"
    }
   ],
   "source": [
    "anova(model1,model_tmp, test=\"Chisq\")"
   ]
  },
  {
   "cell_type": "markdown",
   "metadata": {},
   "source": [
    " - 각 변수가 설명해주는 설명력?"
   ]
  },
  {
   "cell_type": "code",
   "execution_count": 43,
   "metadata": {
    "collapsed": false
   },
   "outputs": [
    {
     "data": {
      "text/html": [
       "<table>\n",
       "<thead><tr><th></th><th scope=col>Df</th><th scope=col>Deviance</th><th scope=col>Resid. Df</th><th scope=col>Resid. Dev</th><th scope=col>Pr(&gt;Chi)</th></tr></thead>\n",
       "<tbody>\n",
       "\t<tr><th scope=row>NULL</th><td>     NA</td><td>     NA</td><td>9999.00</td><td>2920.65</td><td>     NA</td></tr>\n",
       "\t<tr><th scope=row>balance</th><td> 1.000000e+00</td><td> 1.324198e+03</td><td> 9.998000e+03</td><td> 1.596452e+03</td><td>6.232869e-290</td></tr>\n",
       "\t<tr><th scope=row>income</th><td>1.000000e+00</td><td>1.748541e+01</td><td>9.997000e+03</td><td>1.578966e+03</td><td>2.895205e-05</td></tr>\n",
       "\t<tr><th scope=row>student</th><td>1.000000e+00</td><td>7.421443e+00</td><td>9.996000e+03</td><td>1.571545e+03</td><td>6.445112e-03</td></tr>\n",
       "</tbody>\n",
       "</table>\n"
      ],
      "text/latex": [
       "\\begin{tabular}{r|lllll}\n",
       "  & Df & Deviance & Resid. Df & Resid. Dev & Pr(>Chi)\\\\\n",
       "\\hline\n",
       "\tNULL &      NA &      NA & 9999.00 & 2920.65 &      NA\\\\\n",
       "\tbalance &  1.000000e+00 &  1.324198e+03 &  9.998000e+03 &  1.596452e+03 & 6.232869e-290\\\\\n",
       "\tincome & 1.000000e+00 & 1.748541e+01 & 9.997000e+03 & 1.578966e+03 & 2.895205e-05\\\\\n",
       "\tstudent & 1.000000e+00 & 7.421443e+00 & 9.996000e+03 & 1.571545e+03 & 6.445112e-03\\\\\n",
       "\\end{tabular}\n"
      ],
      "text/plain": [
       "Analysis of Deviance Table\n",
       "\n",
       "Model: binomial, link: logit\n",
       "\n",
       "Response: default\n",
       "\n",
       "Terms added sequentially (first to last)\n",
       "\n",
       "\n",
       "        Df Deviance Resid. Df Resid. Dev  Pr(>Chi)    \n",
       "NULL                     9999     2920.7              \n",
       "balance  1  1324.20      9998     1596.5 < 2.2e-16 ***\n",
       "income   1    17.49      9997     1579.0 2.895e-05 ***\n",
       "student  1     7.42      9996     1571.5  0.006445 ** \n",
       "---\n",
       "Signif. codes:  0 '***' 0.001 '**' 0.01 '*' 0.05 '.' 0.1 ' ' 1"
      ]
     },
     "metadata": {},
     "output_type": "display_data"
    }
   ],
   "source": [
    "anova(model1, test = 'Chisq')"
   ]
  },
  {
   "cell_type": "markdown",
   "metadata": {},
   "source": [
    "## 반복 측정된 자료 \n",
    " - 한 개의 X값에서 여러 개의 Y가 측정된 경우 \n",
    " - $X_i$에서의 관측치가 0,1이 아니라 $n_i$개 중 $Y_i$개의 성공 관측 \n",
    " - $Binomial Distribution$ \n",
    " $$ f(Y_i) = {n_i! \\over Y_i!(N-i-Y_i)!}\\pi_i^{Yi}(1-\\pi_i)^{n_i-Y_i}$$"
   ]
  },
  {
   "cell_type": "markdown",
   "metadata": {},
   "source": [
    "## Example : Coupon Effectiveness"
   ]
  },
  {
   "cell_type": "code",
   "execution_count": 44,
   "metadata": {
    "collapsed": true
   },
   "outputs": [],
   "source": [
    "Coupon <- read.csv(\"coupon.csv\")"
   ]
  },
  {
   "cell_type": "code",
   "execution_count": 46,
   "metadata": {
    "collapsed": false
   },
   "outputs": [
    {
     "data": {
      "text/html": [
       "<table>\n",
       "<thead><tr><th></th><th scope=col>Price_reduc</th><th scope=col>N</th><th scope=col>N_redeemed</th></tr></thead>\n",
       "<tbody>\n",
       "\t<tr><th scope=row>1</th><td>  5</td><td>200</td><td> 30</td></tr>\n",
       "\t<tr><th scope=row>2</th><td> 10</td><td>200</td><td> 55</td></tr>\n",
       "\t<tr><th scope=row>3</th><td> 15</td><td>200</td><td> 70</td></tr>\n",
       "</tbody>\n",
       "</table>\n"
      ],
      "text/latex": [
       "\\begin{tabular}{r|lll}\n",
       "  & Price\\_reduc & N & N\\_redeemed\\\\\n",
       "\\hline\n",
       "\t1 &   5 & 200 &  30\\\\\n",
       "\t2 &  10 & 200 &  55\\\\\n",
       "\t3 &  15 & 200 &  70\\\\\n",
       "\\end{tabular}\n"
      ],
      "text/plain": [
       "  Price_reduc   N N_redeemed\n",
       "1           5 200         30\n",
       "2          10 200         55\n",
       "3          15 200         70"
      ]
     },
     "metadata": {},
     "output_type": "display_data"
    }
   ],
   "source": [
    "head(Coupon,3)"
   ]
  },
  {
   "cell_type": "code",
   "execution_count": 48,
   "metadata": {
    "collapsed": false
   },
   "outputs": [
    {
     "data": {
      "text/html": [
       "<table>\n",
       "<tbody>\n",
       "\t<tr><td> 30</td><td>170</td></tr>\n",
       "\t<tr><td> 55</td><td>145</td></tr>\n",
       "\t<tr><td> 70</td><td>130</td></tr>\n",
       "\t<tr><td>100</td><td>100</td></tr>\n",
       "\t<tr><td>137</td><td> 63</td></tr>\n",
       "</tbody>\n",
       "</table>\n"
      ],
      "text/latex": [
       "\\begin{tabular}{ll}\n",
       "\t  30 & 170\\\\\n",
       "\t  55 & 145\\\\\n",
       "\t  70 & 130\\\\\n",
       "\t 100 & 100\\\\\n",
       "\t 137 &  63\\\\\n",
       "\\end{tabular}\n"
      ],
      "text/markdown": [
       "1. 30\n",
       "2. 55\n",
       "3. 70\n",
       "4. 100\n",
       "5. 137\n",
       "6. 170\n",
       "7. 145\n",
       "8. 130\n",
       "9. 100\n",
       "10. 63\n",
       "\n",
       "\n"
      ],
      "text/plain": [
       "     [,1] [,2]\n",
       "[1,]   30  170\n",
       "[2,]   55  145\n",
       "[3,]   70  130\n",
       "[4,]  100  100\n",
       "[5,]  137   63"
      ]
     },
     "metadata": {},
     "output_type": "display_data"
    }
   ],
   "source": [
    "cbind(Coupon$N_redeemed,Coupon$N-Coupon$N_redeemed)"
   ]
  },
  {
   "cell_type": "code",
   "execution_count": 49,
   "metadata": {
    "collapsed": false
   },
   "outputs": [
    {
     "data": {
      "text/plain": [
       "\n",
       "Call:\n",
       "glm(formula = cbind(N_redeemed, N - N_redeemed) ~ Price_reduc, \n",
       "    family = binomial, data = Coupon)\n",
       "\n",
       "Deviance Residuals: \n",
       "      1        2        3        4        5  \n",
       "-0.8988   0.6677  -0.1837   0.7612  -0.5477  \n",
       "\n",
       "Coefficients:\n",
       "             Estimate Std. Error z value Pr(>|z|)    \n",
       "(Intercept) -2.044348   0.160977  -12.70   <2e-16 ***\n",
       "Price_reduc  0.096834   0.008549   11.33   <2e-16 ***\n",
       "---\n",
       "Signif. codes:  0 '***' 0.001 '**' 0.01 '*' 0.05 '.' 0.1 ' ' 1\n",
       "\n",
       "(Dispersion parameter for binomial family taken to be 1)\n",
       "\n",
       "    Null deviance: 149.4627  on 4  degrees of freedom\n",
       "Residual deviance:   2.1668  on 3  degrees of freedom\n",
       "AIC: 33.793\n",
       "\n",
       "Number of Fisher Scoring iterations: 3\n"
      ]
     },
     "metadata": {},
     "output_type": "display_data"
    }
   ],
   "source": [
    "model4 <- glm(cbind(N_redeemed,N-N_redeemed)~Price_reduc,data=Coupon,family = binomial)\n",
    "summary(model4)"
   ]
  },
  {
   "cell_type": "markdown",
   "metadata": {},
   "source": [
    " - Coupon의 값이 1불 올라갈때마다, exp(0.096)이 올라간다. \n",
    "  - 즉, 1.1배 증가."
   ]
  },
  {
   "cell_type": "code",
   "execution_count": 50,
   "metadata": {
    "collapsed": false
   },
   "outputs": [
    {
     "data": {
      "text/html": [
       "1.10167707035665"
      ],
      "text/latex": [
       "1.10167707035665"
      ],
      "text/markdown": [
       "1.10167707035665"
      ],
      "text/plain": [
       "[1] 1.101677"
      ]
     },
     "metadata": {},
     "output_type": "display_data"
    }
   ],
   "source": [
    "exp(model4$coefficients[[2]])"
   ]
  },
  {
   "cell_type": "markdown",
   "metadata": {},
   "source": [
    " - 5불에 대해 10불짜리가 사용 될 odds ?\n",
    "  - 1.6배 증가. "
   ]
  },
  {
   "cell_type": "code",
   "execution_count": 51,
   "metadata": {
    "collapsed": false
   },
   "outputs": [
    {
     "data": {
      "text/html": [
       "1.62282448590336"
      ],
      "text/latex": [
       "1.62282448590336"
      ],
      "text/markdown": [
       "1.62282448590336"
      ],
      "text/plain": [
       "[1] 1.622824"
      ]
     },
     "metadata": {},
     "output_type": "display_data"
    }
   ],
   "source": [
    "exp(model4$coefficients[[2]]*5)"
   ]
  },
  {
   "cell_type": "markdown",
   "metadata": {},
   "source": [
    "## 오분류율, 민감도, 특이도\n",
    " <img src=\"photo/1.PNG\">"
   ]
  },
  {
   "cell_type": "markdown",
   "metadata": {},
   "source": [
    " - 파산할 확률"
   ]
  },
  {
   "cell_type": "code",
   "execution_count": 53,
   "metadata": {
    "collapsed": false
   },
   "outputs": [
    {
     "data": {
      "text/html": [
       "<dl class=dl-horizontal>\n",
       "\t<dt>1</dt>\n",
       "\t\t<dd>0.00142872392899569</dd>\n",
       "\t<dt>2</dt>\n",
       "\t\t<dd>0.00112220387264348</dd>\n",
       "\t<dt>3</dt>\n",
       "\t\t<dd>0.00981227160721864</dd>\n",
       "\t<dt>4</dt>\n",
       "\t\t<dd>0.000441589338756934</dd>\n",
       "\t<dt>5</dt>\n",
       "\t\t<dd>0.00193550620958732</dd>\n",
       "\t<dt>6</dt>\n",
       "\t\t<dd>0.00198951817036982</dd>\n",
       "</dl>\n"
      ],
      "text/latex": [
       "\\begin{description*}\n",
       "\\item[1] 0.00142872392899569\n",
       "\\item[2] 0.00112220387264348\n",
       "\\item[3] 0.00981227160721864\n",
       "\\item[4] 0.000441589338756934\n",
       "\\item[5] 0.00193550620958732\n",
       "\\item[6] 0.00198951817036982\n",
       "\\end{description*}\n"
      ],
      "text/markdown": [
       "1\n",
       ":   0.001428723928995692\n",
       ":   0.001122203872643483\n",
       ":   0.009812271607218644\n",
       ":   0.0004415893387569345\n",
       ":   0.001935506209587326\n",
       ":   0.00198951817036982\n",
       "\n"
      ],
      "text/plain": [
       "           1            2            3            4            5            6 \n",
       "0.0014287239 0.0011222039 0.0098122716 0.0004415893 0.0019355062 0.0019895182 "
      ]
     },
     "metadata": {},
     "output_type": "display_data"
    }
   ],
   "source": [
    "head(model1$fitted.values)"
   ]
  },
  {
   "cell_type": "code",
   "execution_count": 54,
   "metadata": {
    "collapsed": false
   },
   "outputs": [
    {
     "data": {
      "text/html": [
       "<table>\n",
       "<thead><tr><th></th><th scope=col>default</th><th scope=col>fit</th></tr></thead>\n",
       "<tbody>\n",
       "\t<tr><th scope=row>1</th><td>No                 </td><td>0.00142872392899569</td></tr>\n",
       "\t<tr><th scope=row>2</th><td>No                 </td><td>0.00112220387264348</td></tr>\n",
       "\t<tr><th scope=row>3</th><td>No                 </td><td>0.00981227160721864</td></tr>\n",
       "\t<tr><th scope=row>4</th><td>No                  </td><td>0.000441589338756934</td></tr>\n",
       "\t<tr><th scope=row>5</th><td>No                 </td><td>0.00193550620958732</td></tr>\n",
       "\t<tr><th scope=row>6</th><td>No                 </td><td>0.00198951817036982</td></tr>\n",
       "</tbody>\n",
       "</table>\n"
      ],
      "text/latex": [
       "\\begin{tabular}{r|ll}\n",
       "  & default & fit\\\\\n",
       "\\hline\n",
       "\t1 & No                  & 0.00142872392899569\\\\\n",
       "\t2 & No                  & 0.00112220387264348\\\\\n",
       "\t3 & No                  & 0.00981227160721864\\\\\n",
       "\t4 & No                   & 0.000441589338756934\\\\\n",
       "\t5 & No                  & 0.00193550620958732\\\\\n",
       "\t6 & No                  & 0.00198951817036982\\\\\n",
       "\\end{tabular}\n"
      ],
      "text/plain": [
       "  default          fit\n",
       "1      No 0.0014287239\n",
       "2      No 0.0011222039\n",
       "3      No 0.0098122716\n",
       "4      No 0.0004415893\n",
       "5      No 0.0019355062\n",
       "6      No 0.0019895182"
      ]
     },
     "metadata": {},
     "output_type": "display_data"
    }
   ],
   "source": [
    "pred = data.frame(default=Default$default,fit = model1$fitted.values)\n",
    "head(pred)"
   ]
  },
  {
   "cell_type": "markdown",
   "metadata": {},
   "source": [
    " - 10,000명 중 333명 파산 "
   ]
  },
  {
   "cell_type": "code",
   "execution_count": 55,
   "metadata": {
    "collapsed": false
   },
   "outputs": [
    {
     "data": {
      "text/plain": [
       "\n",
       "  No  Yes \n",
       "9667  333 "
      ]
     },
     "metadata": {},
     "output_type": "display_data"
    }
   ],
   "source": [
    "table(pred$default)"
   ]
  },
  {
   "cell_type": "markdown",
   "metadata": {},
   "source": [
    " - 우선 0.5에서 Cutoff"
   ]
  },
  {
   "cell_type": "code",
   "execution_count": 57,
   "metadata": {
    "collapsed": false
   },
   "outputs": [
    {
     "data": {
      "text/plain": [
       "       fit > 0.5\n",
       "default FALSE TRUE\n",
       "    No   9627   40\n",
       "    Yes   228  105"
      ]
     },
     "metadata": {},
     "output_type": "display_data"
    }
   ],
   "source": [
    "xt <- xtabs(~ default + (fit>0.5), data=pred)\n",
    "xt"
   ]
  },
  {
   "cell_type": "code",
   "execution_count": 63,
   "metadata": {
    "collapsed": false
   },
   "outputs": [
    {
     "name": "stdout",
     "output_type": "stream",
     "text": [
      " int [1:2, 1:2] 9627 228 40 105\n",
      " - attr(*, \"dimnames\")=List of 2\n",
      "  ..$ default  : chr [1:2] \"No\" \"Yes\"\n",
      "  ..$ fit > 0.5: chr [1:2] \"FALSE\" \"TRUE\"\n",
      " - attr(*, \"class\")= chr [1:2] \"xtabs\" \"table\"\n",
      " - attr(*, \"call\")= language xtabs(formula = ~default + (fit > 0.5), data = pred)\n"
     ]
    }
   ],
   "source": [
    "str(xt)"
   ]
  },
  {
   "cell_type": "code",
   "execution_count": 70,
   "metadata": {
    "collapsed": false
   },
   "outputs": [
    {
     "name": "stdout",
     "output_type": "stream",
     "text": [
      "[1] \"Error:0.0268\"\n",
      "[1] \"Sensitivity:0.315315315315315\"\n",
      "[1] \"Specificity:0.995862211647874\"\n"
     ]
    }
   ],
   "source": [
    "print(paste0(\"Error:\",(xt[[3]] + xt[[2]]) / 10000))\n",
    "print(paste0(\"Sensitivity:\",(xt[[4]]) / (xt[[4]] + xt[[2]])))  # P -> P\n",
    "print(paste0(\"Specificity:\",(xt[[1]]) / (xt[[1]]+xt[[3]])))    # N -> N"
   ]
  },
  {
   "cell_type": "markdown",
   "metadata": {},
   "source": [
    "## ROC(Receiver Operating Characteristic) Curve\n",
    " - y-lab : 민감도 (Sensitivity(P->P) ratio)\n",
    " - x-lab : 1-Specificity(특이도) => False positive rate\n",
    " <img src=\"photo/2.PNG\">"
   ]
  },
  {
   "cell_type": "code",
   "execution_count": 73,
   "metadata": {
    "collapsed": false
   },
   "outputs": [],
   "source": [
    "library(ROCR)"
   ]
  },
  {
   "cell_type": "code",
   "execution_count": 72,
   "metadata": {
    "collapsed": false
   },
   "outputs": [
    {
     "data": {
      "image/png": "[encoded data removed]",
      "text/plain": [
       "plot without title"
      ]
     },
     "metadata": {},
     "output_type": "display_data"
    }
   ],
   "source": [
    "predob = prediction(pred$fit,pred$default)\n",
    "plot(performance(predob,\"tpr\",\"fpr\")) # true positive rate # false positive rate"
   ]
  },
  {
   "cell_type": "code",
   "execution_count": 74,
   "metadata": {
    "collapsed": false
   },
   "outputs": [
    {
     "data": {
      "image/png": "[encoded data removed]",
      "text/plain": [
       "plot without title"
      ]
     },
     "metadata": {},
     "output_type": "display_data"
    }
   ],
   "source": [
    "plot(performance(predob,\"err\")) # 그래프를 보고 cutoff를 선정할 수 있다. "
   ]
  }
 ],
 "metadata": {
  "anaconda-cloud": {},
  "kernelspec": {
   "display_name": "R 3.3",
   "language": "R",
   "name": "ir33"
  },
  "language_info": {
   "codemirror_mode": "r",
   "file_extension": ".r",
   "mimetype": "text/x-r-source",
   "name": "R",
   "pygments_lexer": "r",
   "version": "3.3.1"
  }
 },
 "nbformat": 4,
 "nbformat_minor": 0
}
