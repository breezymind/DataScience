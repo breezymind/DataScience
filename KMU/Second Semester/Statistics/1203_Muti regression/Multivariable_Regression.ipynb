{
 "cells": [
  {
   "cell_type": "markdown",
   "metadata": {},
   "source": [
    "# Multivariable_Regression"
   ]
  },
  {
   "cell_type": "code",
   "execution_count": 7,
   "metadata": {
    "collapsed": true
   },
   "outputs": [],
   "source": [
    "library(ggplot2)"
   ]
  },
  {
   "cell_type": "markdown",
   "metadata": {},
   "source": [
    "## Innovation in insurance Industry\n",
    " - 보험업계의 혁신에 대한 연구\n",
    " - 혁신을 받아들이는데 걸리는 시간이 회사 규모와 유형에 따라 달라지는가?\n",
    " - Y: 혁신을 받아들이는데까지 걸리는기간을 월 단위로측정\n",
    " - X1: 회사의자산규모\n",
    " - X2: 회사 유형 (stock, mutual)"
   ]
  },
  {
   "cell_type": "code",
   "execution_count": 5,
   "metadata": {
    "collapsed": false
   },
   "outputs": [
    {
     "data": {
      "text/html": [
       "<table>\n",
       "<thead><tr><th></th><th scope=col>time</th><th scope=col>size</th><th scope=col>type</th></tr></thead>\n",
       "<tbody>\n",
       "\t<tr><th scope=row>1</th><td>17    </td><td>151   </td><td>Mutual</td></tr>\n",
       "\t<tr><th scope=row>2</th><td>26    </td><td>92    </td><td>Mutual</td></tr>\n",
       "\t<tr><th scope=row>3</th><td>21    </td><td>175   </td><td>Mutual</td></tr>\n",
       "</tbody>\n",
       "</table>\n"
      ],
      "text/latex": [
       "\\begin{tabular}{r|lll}\n",
       "  & time & size & type\\\\\n",
       "\\hline\n",
       "\t1 & 17     & 151    & Mutual\\\\\n",
       "\t2 & 26     & 92     & Mutual\\\\\n",
       "\t3 & 21     & 175    & Mutual\\\\\n",
       "\\end{tabular}\n"
      ],
      "text/plain": [
       "  time size   type\n",
       "1   17  151 Mutual\n",
       "2   26   92 Mutual\n",
       "3   21  175 Mutual"
      ]
     },
     "metadata": {},
     "output_type": "display_data"
    }
   ],
   "source": [
    "insurance <- read.csv(\"insurance.csv\")\n",
    "head(insuracne,3)"
   ]
  },
  {
   "cell_type": "code",
   "execution_count": 13,
   "metadata": {
    "collapsed": false
   },
   "outputs": [
    {
     "data": {},
     "metadata": {},
     "output_type": "display_data"
    },
    {
     "data": {
      "image/png": "[encoded data removed]",
      "text/plain": [
       "plot without title"
      ]
     },
     "metadata": {},
     "output_type": "display_data"
    }
   ],
   "source": [
    "options(repr.plot.width=5,repr.plot.height=3)\n",
    "ggplot(insuracne,aes(x=size,y=time,color=type)) + geom_point(size=3)"
   ]
  },
  {
   "cell_type": "markdown",
   "metadata": {},
   "source": [
    " - 음의 상관관계  \n",
    " <img src=\"photo/1.PNG\" width=600>"
   ]
  },
  {
   "cell_type": "code",
   "execution_count": 14,
   "metadata": {
    "collapsed": false
   },
   "outputs": [
    {
     "data": {
      "text/html": [
       "-0.840776935625377"
      ],
      "text/latex": [
       "-0.840776935625377"
      ],
      "text/markdown": [
       "-0.840776935625377"
      ],
      "text/plain": [
       "[1] -0.8407769"
      ]
     },
     "metadata": {},
     "output_type": "display_data"
    }
   ],
   "source": [
    "cor(insuracne$time,insuracne$size)"
   ]
  },
  {
   "cell_type": "markdown",
   "metadata": {},
   "source": [
    "<img src=\"photo/2.PNG\">"
   ]
  },
  {
   "cell_type": "code",
   "execution_count": 15,
   "metadata": {
    "collapsed": false
   },
   "outputs": [
    {
     "data": {
      "text/plain": [
       "\n",
       "Call:\n",
       "lm(formula = time ~ size + type, data = insuracne)\n",
       "\n",
       "Residuals:\n",
       "    Min      1Q  Median      3Q     Max \n",
       "-5.6915 -1.7036 -0.4385  1.9210  6.3406 \n",
       "\n",
       "Coefficients:\n",
       "             Estimate Std. Error t value Pr(>|t|)    \n",
       "(Intercept) 41.929538   2.010101  20.859 1.50e-13 ***\n",
       "size        -0.101742   0.008891 -11.443 2.07e-09 ***\n",
       "typeMutual  -8.055469   1.459106  -5.521 3.74e-05 ***\n",
       "---\n",
       "Signif. codes:  0 '***' 0.001 '**' 0.01 '*' 0.05 '.' 0.1 ' ' 1\n",
       "\n",
       "Residual standard error: 3.221 on 17 degrees of freedom\n",
       "Multiple R-squared:  0.8951,\tAdjusted R-squared:  0.8827 \n",
       "F-statistic:  72.5 on 2 and 17 DF,  p-value: 4.765e-09\n"
      ]
     },
     "metadata": {},
     "output_type": "display_data"
    }
   ],
   "source": [
    "model1 <- lm(time~size+type,insuracne)\n",
    "summary(model1)"
   ]
  },
  {
   "cell_type": "markdown",
   "metadata": {},
   "source": [
    " - Stock = 33.87+8.055 -0.101$ \\beta_1$\n",
    " - Mutual = 33.87 - 0.101$\\beta_1$"
   ]
  },
  {
   "cell_type": "markdown",
   "metadata": {},
   "source": [
    " - Machine learning 에서 배운 Matirx의 합으로 수식을 최소화하는 방법과 같다. \n",
    "  - (Intercept) = 1 \n",
    "  - Matrix 곱"
   ]
  },
  {
   "cell_type": "code",
   "execution_count": 20,
   "metadata": {
    "collapsed": false
   },
   "outputs": [
    {
     "data": {
      "text/html": [
       "<dl class=dl-horizontal>\n",
       "\t<dt>1</dt>\n",
       "\t\t<dd>18.5110096496341</dd>\n",
       "\t<dt>2</dt>\n",
       "\t\t<dd>24.5137944433651</dd>\n",
       "\t<dt>3</dt>\n",
       "\t\t<dd>16.0691988860825</dd>\n",
       "</dl>\n"
      ],
      "text/latex": [
       "\\begin{description*}\n",
       "\\item[1] 18.5110096496341\n",
       "\\item[2] 24.5137944433651\n",
       "\\item[3] 16.0691988860825\n",
       "\\end{description*}\n"
      ],
      "text/markdown": [
       "1\n",
       ":   18.51100964963412\n",
       ":   24.51379444336513\n",
       ":   16.0691988860825\n",
       "\n"
      ],
      "text/plain": [
       "       1        2        3 \n",
       "18.51101 24.51379 16.06920 "
      ]
     },
     "metadata": {},
     "output_type": "display_data"
    }
   ],
   "source": [
    "head(model1$fitted.values,3)"
   ]
  },
  {
   "cell_type": "code",
   "execution_count": 18,
   "metadata": {
    "collapsed": false
   },
   "outputs": [
    {
     "data": {},
     "metadata": {},
     "output_type": "display_data"
    },
    {
     "data": {
      "image/png": "[encoded data removed]",
      "text/plain": [
       "plot without title"
      ]
     },
     "metadata": {},
     "output_type": "display_data"
    }
   ],
   "source": [
    "insuracne$fit = model1$fitted.values\n",
    "gg <- ggplot(insuracne,aes(y=fit,x=size,group=type,color=type)) + geom_line() \n",
    "gg + geom_point(aes(y=time,x=size,shape=type))"
   ]
  },
  {
   "cell_type": "code",
   "execution_count": 16,
   "metadata": {
    "collapsed": false
   },
   "outputs": [
    {
     "data": {
      "text/html": [
       "<table>\n",
       "<thead><tr><th></th><th scope=col>(Intercept)</th><th scope=col>size</th><th scope=col>typeMutual</th></tr></thead>\n",
       "<tbody>\n",
       "\t<tr><th scope=row>1</th><td>  1</td><td>151</td><td>  1</td></tr>\n",
       "\t<tr><th scope=row>2</th><td> 1</td><td>92</td><td> 1</td></tr>\n",
       "\t<tr><th scope=row>3</th><td>  1</td><td>175</td><td>  1</td></tr>\n",
       "\t<tr><th scope=row>4</th><td> 1</td><td>31</td><td> 1</td></tr>\n",
       "\t<tr><th scope=row>5</th><td>  1</td><td>104</td><td>  1</td></tr>\n",
       "\t<tr><th scope=row>6</th><td>  1</td><td>277</td><td>  1</td></tr>\n",
       "\t<tr><th scope=row>7</th><td>  1</td><td>210</td><td>  1</td></tr>\n",
       "\t<tr><th scope=row>8</th><td>  1</td><td>120</td><td>  1</td></tr>\n",
       "\t<tr><th scope=row>9</th><td>  1</td><td>290</td><td>  1</td></tr>\n",
       "\t<tr><th scope=row>10</th><td>  1</td><td>238</td><td>  1</td></tr>\n",
       "\t<tr><th scope=row>11</th><td>  1</td><td>164</td><td>  0</td></tr>\n",
       "\t<tr><th scope=row>12</th><td>  1</td><td>272</td><td>  0</td></tr>\n",
       "\t<tr><th scope=row>13</th><td>  1</td><td>295</td><td>  0</td></tr>\n",
       "\t<tr><th scope=row>14</th><td> 1</td><td>68</td><td> 0</td></tr>\n",
       "\t<tr><th scope=row>15</th><td> 1</td><td>85</td><td> 0</td></tr>\n",
       "\t<tr><th scope=row>16</th><td>  1</td><td>224</td><td>  0</td></tr>\n",
       "\t<tr><th scope=row>17</th><td>  1</td><td>166</td><td>  0</td></tr>\n",
       "\t<tr><th scope=row>18</th><td>  1</td><td>305</td><td>  0</td></tr>\n",
       "\t<tr><th scope=row>19</th><td>  1</td><td>124</td><td>  0</td></tr>\n",
       "\t<tr><th scope=row>20</th><td>  1</td><td>246</td><td>  0</td></tr>\n",
       "</tbody>\n",
       "</table>\n"
      ],
      "text/latex": [
       "\\begin{tabular}{r|lll}\n",
       "  & (Intercept) & size & typeMutual\\\\\n",
       "\\hline\n",
       "\t1 &   1 & 151 &   1\\\\\n",
       "\t2 &  1 & 92 &  1\\\\\n",
       "\t3 &   1 & 175 &   1\\\\\n",
       "\t4 &  1 & 31 &  1\\\\\n",
       "\t5 &   1 & 104 &   1\\\\\n",
       "\t6 &   1 & 277 &   1\\\\\n",
       "\t7 &   1 & 210 &   1\\\\\n",
       "\t8 &   1 & 120 &   1\\\\\n",
       "\t9 &   1 & 290 &   1\\\\\n",
       "\t10 &   1 & 238 &   1\\\\\n",
       "\t11 &   1 & 164 &   0\\\\\n",
       "\t12 &   1 & 272 &   0\\\\\n",
       "\t13 &   1 & 295 &   0\\\\\n",
       "\t14 &  1 & 68 &  0\\\\\n",
       "\t15 &  1 & 85 &  0\\\\\n",
       "\t16 &   1 & 224 &   0\\\\\n",
       "\t17 &   1 & 166 &   0\\\\\n",
       "\t18 &   1 & 305 &   0\\\\\n",
       "\t19 &   1 & 124 &   0\\\\\n",
       "\t20 &   1 & 246 &   0\\\\\n",
       "\\end{tabular}\n"
      ],
      "text/markdown": [
       "1. 1\n",
       "2. 1\n",
       "3. 1\n",
       "4. 1\n",
       "5. 1\n",
       "6. 1\n",
       "7. 1\n",
       "8. 1\n",
       "9. 1\n",
       "10. 1\n",
       "11. 1\n",
       "12. 1\n",
       "13. 1\n",
       "14. 1\n",
       "15. 1\n",
       "16. 1\n",
       "17. 1\n",
       "18. 1\n",
       "19. 1\n",
       "20. 1\n",
       "21. 151\n",
       "22. 92\n",
       "23. 175\n",
       "24. 31\n",
       "25. 104\n",
       "26. 277\n",
       "27. 210\n",
       "28. 120\n",
       "29. 290\n",
       "30. 238\n",
       "31. 164\n",
       "32. 272\n",
       "33. 295\n",
       "34. 68\n",
       "35. 85\n",
       "36. 224\n",
       "37. 166\n",
       "38. 305\n",
       "39. 124\n",
       "40. 246\n",
       "41. 1\n",
       "42. 1\n",
       "43. 1\n",
       "44. 1\n",
       "45. 1\n",
       "46. 1\n",
       "47. 1\n",
       "48. 1\n",
       "49. 1\n",
       "50. 1\n",
       "51. 0\n",
       "52. 0\n",
       "53. 0\n",
       "54. 0\n",
       "55. 0\n",
       "56. 0\n",
       "57. 0\n",
       "58. 0\n",
       "59. 0\n",
       "60. 0\n",
       "\n",
       "\n"
      ],
      "text/plain": [
       "   (Intercept) size typeMutual\n",
       "1            1  151          1\n",
       "2            1   92          1\n",
       "3            1  175          1\n",
       "4            1   31          1\n",
       "5            1  104          1\n",
       "6            1  277          1\n",
       "7            1  210          1\n",
       "8            1  120          1\n",
       "9            1  290          1\n",
       "10           1  238          1\n",
       "11           1  164          0\n",
       "12           1  272          0\n",
       "13           1  295          0\n",
       "14           1   68          0\n",
       "15           1   85          0\n",
       "16           1  224          0\n",
       "17           1  166          0\n",
       "18           1  305          0\n",
       "19           1  124          0\n",
       "20           1  246          0\n",
       "attr(,\"assign\")\n",
       "[1] 0 1 2\n",
       "attr(,\"contrasts\")\n",
       "attr(,\"contrasts\")$type\n",
       "[1] \"contr.treatment\"\n"
      ]
     },
     "metadata": {},
     "output_type": "display_data"
    }
   ],
   "source": [
    "model.matrix(time~size+type,insuracne)"
   ]
  },
  {
   "cell_type": "markdown",
   "metadata": {},
   "source": [
    "<img src=\"photo/3.PNG\">"
   ]
  },
  {
   "cell_type": "markdown",
   "metadata": {},
   "source": [
    "# Reference Level 조정. \n",
    "### type(0 if stock, 1 if mutual)"
   ]
  },
  {
   "cell_type": "code",
   "execution_count": 21,
   "metadata": {
    "collapsed": false
   },
   "outputs": [
    {
     "data": {
      "text/plain": [
       "\n",
       "Call:\n",
       "lm(formula = time ~ ., data = insuracne)\n",
       "\n",
       "Residuals:\n",
       "    Min      1Q  Median      3Q     Max \n",
       "-5.6915 -1.7036 -0.4385  1.9210  6.3406 \n",
       "\n",
       "Coefficients: (1 not defined because of singularities)\n",
       "             Estimate Std. Error t value Pr(>|t|)    \n",
       "(Intercept) 41.929538   2.010101  20.859 1.50e-13 ***\n",
       "size        -0.101742   0.008891 -11.443 2.07e-09 ***\n",
       "typeMutual  -8.055469   1.459106  -5.521 3.74e-05 ***\n",
       "fit                NA         NA      NA       NA    \n",
       "---\n",
       "Signif. codes:  0 '***' 0.001 '**' 0.01 '*' 0.05 '.' 0.1 ' ' 1\n",
       "\n",
       "Residual standard error: 3.221 on 17 degrees of freedom\n",
       "Multiple R-squared:  0.8951,\tAdjusted R-squared:  0.8827 \n",
       "F-statistic:  72.5 on 2 and 17 DF,  p-value: 4.765e-09\n"
      ]
     },
     "metadata": {},
     "output_type": "display_data"
    }
   ],
   "source": [
    "insuracne$type = relevel(insuracne$type,ref=\"Stock\")\n",
    "model2 = lm(time ~ ., insuracne)\n",
    "summary(model2)"
   ]
  },
  {
   "cell_type": "code",
   "execution_count": 23,
   "metadata": {
    "collapsed": false
   },
   "outputs": [
    {
     "data": {
      "text/html": [
       "<table>\n",
       "<thead><tr><th></th><th scope=col>(Intercept)</th><th scope=col>size</th><th scope=col>typeMutual</th></tr></thead>\n",
       "<tbody>\n",
       "\t<tr><th scope=row>1</th><td>  1</td><td>151</td><td>  1</td></tr>\n",
       "\t<tr><th scope=row>2</th><td> 1</td><td>92</td><td> 1</td></tr>\n",
       "\t<tr><th scope=row>3</th><td>  1</td><td>175</td><td>  1</td></tr>\n",
       "\t<tr><th scope=row>4</th><td> 1</td><td>31</td><td> 1</td></tr>\n",
       "\t<tr><th scope=row>5</th><td>  1</td><td>104</td><td>  1</td></tr>\n",
       "\t<tr><th scope=row>6</th><td>  1</td><td>277</td><td>  1</td></tr>\n",
       "\t<tr><th scope=row>7</th><td>  1</td><td>210</td><td>  1</td></tr>\n",
       "\t<tr><th scope=row>8</th><td>  1</td><td>120</td><td>  1</td></tr>\n",
       "\t<tr><th scope=row>9</th><td>  1</td><td>290</td><td>  1</td></tr>\n",
       "\t<tr><th scope=row>10</th><td>  1</td><td>238</td><td>  1</td></tr>\n",
       "\t<tr><th scope=row>11</th><td>  1</td><td>164</td><td>  0</td></tr>\n",
       "\t<tr><th scope=row>12</th><td>  1</td><td>272</td><td>  0</td></tr>\n",
       "\t<tr><th scope=row>13</th><td>  1</td><td>295</td><td>  0</td></tr>\n",
       "\t<tr><th scope=row>14</th><td> 1</td><td>68</td><td> 0</td></tr>\n",
       "\t<tr><th scope=row>15</th><td> 1</td><td>85</td><td> 0</td></tr>\n",
       "\t<tr><th scope=row>16</th><td>  1</td><td>224</td><td>  0</td></tr>\n",
       "\t<tr><th scope=row>17</th><td>  1</td><td>166</td><td>  0</td></tr>\n",
       "\t<tr><th scope=row>18</th><td>  1</td><td>305</td><td>  0</td></tr>\n",
       "\t<tr><th scope=row>19</th><td>  1</td><td>124</td><td>  0</td></tr>\n",
       "\t<tr><th scope=row>20</th><td>  1</td><td>246</td><td>  0</td></tr>\n",
       "</tbody>\n",
       "</table>\n"
      ],
      "text/latex": [
       "\\begin{tabular}{r|lll}\n",
       "  & (Intercept) & size & typeMutual\\\\\n",
       "\\hline\n",
       "\t1 &   1 & 151 &   1\\\\\n",
       "\t2 &  1 & 92 &  1\\\\\n",
       "\t3 &   1 & 175 &   1\\\\\n",
       "\t4 &  1 & 31 &  1\\\\\n",
       "\t5 &   1 & 104 &   1\\\\\n",
       "\t6 &   1 & 277 &   1\\\\\n",
       "\t7 &   1 & 210 &   1\\\\\n",
       "\t8 &   1 & 120 &   1\\\\\n",
       "\t9 &   1 & 290 &   1\\\\\n",
       "\t10 &   1 & 238 &   1\\\\\n",
       "\t11 &   1 & 164 &   0\\\\\n",
       "\t12 &   1 & 272 &   0\\\\\n",
       "\t13 &   1 & 295 &   0\\\\\n",
       "\t14 &  1 & 68 &  0\\\\\n",
       "\t15 &  1 & 85 &  0\\\\\n",
       "\t16 &   1 & 224 &   0\\\\\n",
       "\t17 &   1 & 166 &   0\\\\\n",
       "\t18 &   1 & 305 &   0\\\\\n",
       "\t19 &   1 & 124 &   0\\\\\n",
       "\t20 &   1 & 246 &   0\\\\\n",
       "\\end{tabular}\n"
      ],
      "text/markdown": [
       "1. 1\n",
       "2. 1\n",
       "3. 1\n",
       "4. 1\n",
       "5. 1\n",
       "6. 1\n",
       "7. 1\n",
       "8. 1\n",
       "9. 1\n",
       "10. 1\n",
       "11. 1\n",
       "12. 1\n",
       "13. 1\n",
       "14. 1\n",
       "15. 1\n",
       "16. 1\n",
       "17. 1\n",
       "18. 1\n",
       "19. 1\n",
       "20. 1\n",
       "21. 151\n",
       "22. 92\n",
       "23. 175\n",
       "24. 31\n",
       "25. 104\n",
       "26. 277\n",
       "27. 210\n",
       "28. 120\n",
       "29. 290\n",
       "30. 238\n",
       "31. 164\n",
       "32. 272\n",
       "33. 295\n",
       "34. 68\n",
       "35. 85\n",
       "36. 224\n",
       "37. 166\n",
       "38. 305\n",
       "39. 124\n",
       "40. 246\n",
       "41. 1\n",
       "42. 1\n",
       "43. 1\n",
       "44. 1\n",
       "45. 1\n",
       "46. 1\n",
       "47. 1\n",
       "48. 1\n",
       "49. 1\n",
       "50. 1\n",
       "51. 0\n",
       "52. 0\n",
       "53. 0\n",
       "54. 0\n",
       "55. 0\n",
       "56. 0\n",
       "57. 0\n",
       "58. 0\n",
       "59. 0\n",
       "60. 0\n",
       "\n",
       "\n"
      ],
      "text/plain": [
       "   (Intercept) size typeMutual\n",
       "1            1  151          1\n",
       "2            1   92          1\n",
       "3            1  175          1\n",
       "4            1   31          1\n",
       "5            1  104          1\n",
       "6            1  277          1\n",
       "7            1  210          1\n",
       "8            1  120          1\n",
       "9            1  290          1\n",
       "10           1  238          1\n",
       "11           1  164          0\n",
       "12           1  272          0\n",
       "13           1  295          0\n",
       "14           1   68          0\n",
       "15           1   85          0\n",
       "16           1  224          0\n",
       "17           1  166          0\n",
       "18           1  305          0\n",
       "19           1  124          0\n",
       "20           1  246          0\n",
       "attr(,\"assign\")\n",
       "[1] 0 1 2\n",
       "attr(,\"contrasts\")\n",
       "attr(,\"contrasts\")$type\n",
       "[1] \"contr.treatment\"\n"
      ]
     },
     "metadata": {},
     "output_type": "display_data"
    }
   ],
   "source": [
    "model.matrix(time~size+type,insuracne)"
   ]
  },
  {
   "cell_type": "code",
   "execution_count": 24,
   "metadata": {
    "collapsed": false
   },
   "outputs": [
    {
     "data": {},
     "metadata": {},
     "output_type": "display_data"
    },
    {
     "data": {
      "image/png": "[encoded data removed]",
      "text/plain": [
       "plot without title"
      ]
     },
     "metadata": {},
     "output_type": "display_data"
    }
   ],
   "source": [
    "insuracne$fit = model2$fitted.values\n",
    "gg <- ggplot(insuracne,aes(y=fit,x=size,group=type,color=type)) + geom_line() \n",
    "gg + geom_point(aes(y=time,x=size,shape=type))"
   ]
  },
  {
   "cell_type": "markdown",
   "metadata": {},
   "source": [
    "<img src=\"photo/4.PNG\">"
   ]
  },
  {
   "cell_type": "markdown",
   "metadata": {},
   "source": [
    "# Making dummy Variable"
   ]
  },
  {
   "cell_type": "code",
   "execution_count": 28,
   "metadata": {
    "collapsed": true
   },
   "outputs": [],
   "source": [
    "insuracne <- insuracne[,-c(4)] # if there is fit_value, delete fit_value"
   ]
  },
  {
   "cell_type": "code",
   "execution_count": 29,
   "metadata": {
    "collapsed": false
   },
   "outputs": [
    {
     "data": {
      "text/html": [
       "<table>\n",
       "<tbody>\n",
       "\t<tr><th scope=row>Mutual</th><td>1</td><td>0</td><td>0</td><td>0</td><td>0</td><td>0</td><td>0</td><td>0</td><td>0</td><td>0</td><td>0</td><td>0</td><td>0</td><td>0</td><td>0</td><td>0</td><td>0</td><td>0</td><td>0</td></tr>\n",
       "\t<tr><th scope=row>Mutual</th><td>0</td><td>1</td><td>0</td><td>0</td><td>0</td><td>0</td><td>0</td><td>0</td><td>0</td><td>0</td><td>0</td><td>0</td><td>0</td><td>0</td><td>0</td><td>0</td><td>0</td><td>0</td><td>0</td></tr>\n",
       "\t<tr><th scope=row>Mutual</th><td>0</td><td>0</td><td>1</td><td>0</td><td>0</td><td>0</td><td>0</td><td>0</td><td>0</td><td>0</td><td>0</td><td>0</td><td>0</td><td>0</td><td>0</td><td>0</td><td>0</td><td>0</td><td>0</td></tr>\n",
       "\t<tr><th scope=row>Mutual</th><td>0</td><td>0</td><td>0</td><td>1</td><td>0</td><td>0</td><td>0</td><td>0</td><td>0</td><td>0</td><td>0</td><td>0</td><td>0</td><td>0</td><td>0</td><td>0</td><td>0</td><td>0</td><td>0</td></tr>\n",
       "\t<tr><th scope=row>Mutual</th><td>0</td><td>0</td><td>0</td><td>0</td><td>1</td><td>0</td><td>0</td><td>0</td><td>0</td><td>0</td><td>0</td><td>0</td><td>0</td><td>0</td><td>0</td><td>0</td><td>0</td><td>0</td><td>0</td></tr>\n",
       "\t<tr><th scope=row>Mutual</th><td>0</td><td>0</td><td>0</td><td>0</td><td>0</td><td>1</td><td>0</td><td>0</td><td>0</td><td>0</td><td>0</td><td>0</td><td>0</td><td>0</td><td>0</td><td>0</td><td>0</td><td>0</td><td>0</td></tr>\n",
       "\t<tr><th scope=row>Mutual</th><td>0</td><td>0</td><td>0</td><td>0</td><td>0</td><td>0</td><td>1</td><td>0</td><td>0</td><td>0</td><td>0</td><td>0</td><td>0</td><td>0</td><td>0</td><td>0</td><td>0</td><td>0</td><td>0</td></tr>\n",
       "\t<tr><th scope=row>Mutual</th><td>0</td><td>0</td><td>0</td><td>0</td><td>0</td><td>0</td><td>0</td><td>1</td><td>0</td><td>0</td><td>0</td><td>0</td><td>0</td><td>0</td><td>0</td><td>0</td><td>0</td><td>0</td><td>0</td></tr>\n",
       "\t<tr><th scope=row>Mutual</th><td>0</td><td>0</td><td>0</td><td>0</td><td>0</td><td>0</td><td>0</td><td>0</td><td>1</td><td>0</td><td>0</td><td>0</td><td>0</td><td>0</td><td>0</td><td>0</td><td>0</td><td>0</td><td>0</td></tr>\n",
       "\t<tr><th scope=row>Mutual</th><td>0</td><td>0</td><td>0</td><td>0</td><td>0</td><td>0</td><td>0</td><td>0</td><td>0</td><td>1</td><td>0</td><td>0</td><td>0</td><td>0</td><td>0</td><td>0</td><td>0</td><td>0</td><td>0</td></tr>\n",
       "\t<tr><th scope=row>Stock</th><td>0</td><td>0</td><td>0</td><td>0</td><td>0</td><td>0</td><td>0</td><td>0</td><td>0</td><td>0</td><td>1</td><td>0</td><td>0</td><td>0</td><td>0</td><td>0</td><td>0</td><td>0</td><td>0</td></tr>\n",
       "\t<tr><th scope=row>Stock</th><td>0</td><td>0</td><td>0</td><td>0</td><td>0</td><td>0</td><td>0</td><td>0</td><td>0</td><td>0</td><td>0</td><td>1</td><td>0</td><td>0</td><td>0</td><td>0</td><td>0</td><td>0</td><td>0</td></tr>\n",
       "\t<tr><th scope=row>Stock</th><td>0</td><td>0</td><td>0</td><td>0</td><td>0</td><td>0</td><td>0</td><td>0</td><td>0</td><td>0</td><td>0</td><td>0</td><td>1</td><td>0</td><td>0</td><td>0</td><td>0</td><td>0</td><td>0</td></tr>\n",
       "\t<tr><th scope=row>Stock</th><td>0</td><td>0</td><td>0</td><td>0</td><td>0</td><td>0</td><td>0</td><td>0</td><td>0</td><td>0</td><td>0</td><td>0</td><td>0</td><td>1</td><td>0</td><td>0</td><td>0</td><td>0</td><td>0</td></tr>\n",
       "\t<tr><th scope=row>Stock</th><td>0</td><td>0</td><td>0</td><td>0</td><td>0</td><td>0</td><td>0</td><td>0</td><td>0</td><td>0</td><td>0</td><td>0</td><td>0</td><td>0</td><td>1</td><td>0</td><td>0</td><td>0</td><td>0</td></tr>\n",
       "\t<tr><th scope=row>Stock</th><td>0</td><td>0</td><td>0</td><td>0</td><td>0</td><td>0</td><td>0</td><td>0</td><td>0</td><td>0</td><td>0</td><td>0</td><td>0</td><td>0</td><td>0</td><td>1</td><td>0</td><td>0</td><td>0</td></tr>\n",
       "\t<tr><th scope=row>Stock</th><td>0</td><td>0</td><td>0</td><td>0</td><td>0</td><td>0</td><td>0</td><td>0</td><td>0</td><td>0</td><td>0</td><td>0</td><td>0</td><td>0</td><td>0</td><td>0</td><td>1</td><td>0</td><td>0</td></tr>\n",
       "\t<tr><th scope=row>Stock</th><td>0</td><td>0</td><td>0</td><td>0</td><td>0</td><td>0</td><td>0</td><td>0</td><td>0</td><td>0</td><td>0</td><td>0</td><td>0</td><td>0</td><td>0</td><td>0</td><td>0</td><td>1</td><td>0</td></tr>\n",
       "\t<tr><th scope=row>Stock</th><td>0</td><td>0</td><td>0</td><td>0</td><td>0</td><td>0</td><td>0</td><td>0</td><td>0</td><td>0</td><td>0</td><td>0</td><td>0</td><td>0</td><td>0</td><td>0</td><td>0</td><td>0</td><td>1</td></tr>\n",
       "\t<tr><th scope=row>Stock</th><td>-1</td><td>-1</td><td>-1</td><td>-1</td><td>-1</td><td>-1</td><td>-1</td><td>-1</td><td>-1</td><td>-1</td><td>-1</td><td>-1</td><td>-1</td><td>-1</td><td>-1</td><td>-1</td><td>-1</td><td>-1</td><td>-1</td></tr>\n",
       "</tbody>\n",
       "</table>\n"
      ],
      "text/latex": [
       "\\begin{tabular}{r|lllllllllllllllllll}\n",
       "\tMutual & 1 & 0 & 0 & 0 & 0 & 0 & 0 & 0 & 0 & 0 & 0 & 0 & 0 & 0 & 0 & 0 & 0 & 0 & 0\\\\\n",
       "\tMutual & 0 & 1 & 0 & 0 & 0 & 0 & 0 & 0 & 0 & 0 & 0 & 0 & 0 & 0 & 0 & 0 & 0 & 0 & 0\\\\\n",
       "\tMutual & 0 & 0 & 1 & 0 & 0 & 0 & 0 & 0 & 0 & 0 & 0 & 0 & 0 & 0 & 0 & 0 & 0 & 0 & 0\\\\\n",
       "\tMutual & 0 & 0 & 0 & 1 & 0 & 0 & 0 & 0 & 0 & 0 & 0 & 0 & 0 & 0 & 0 & 0 & 0 & 0 & 0\\\\\n",
       "\tMutual & 0 & 0 & 0 & 0 & 1 & 0 & 0 & 0 & 0 & 0 & 0 & 0 & 0 & 0 & 0 & 0 & 0 & 0 & 0\\\\\n",
       "\tMutual & 0 & 0 & 0 & 0 & 0 & 1 & 0 & 0 & 0 & 0 & 0 & 0 & 0 & 0 & 0 & 0 & 0 & 0 & 0\\\\\n",
       "\tMutual & 0 & 0 & 0 & 0 & 0 & 0 & 1 & 0 & 0 & 0 & 0 & 0 & 0 & 0 & 0 & 0 & 0 & 0 & 0\\\\\n",
       "\tMutual & 0 & 0 & 0 & 0 & 0 & 0 & 0 & 1 & 0 & 0 & 0 & 0 & 0 & 0 & 0 & 0 & 0 & 0 & 0\\\\\n",
       "\tMutual & 0 & 0 & 0 & 0 & 0 & 0 & 0 & 0 & 1 & 0 & 0 & 0 & 0 & 0 & 0 & 0 & 0 & 0 & 0\\\\\n",
       "\tMutual & 0 & 0 & 0 & 0 & 0 & 0 & 0 & 0 & 0 & 1 & 0 & 0 & 0 & 0 & 0 & 0 & 0 & 0 & 0\\\\\n",
       "\tStock & 0 & 0 & 0 & 0 & 0 & 0 & 0 & 0 & 0 & 0 & 1 & 0 & 0 & 0 & 0 & 0 & 0 & 0 & 0\\\\\n",
       "\tStock & 0 & 0 & 0 & 0 & 0 & 0 & 0 & 0 & 0 & 0 & 0 & 1 & 0 & 0 & 0 & 0 & 0 & 0 & 0\\\\\n",
       "\tStock & 0 & 0 & 0 & 0 & 0 & 0 & 0 & 0 & 0 & 0 & 0 & 0 & 1 & 0 & 0 & 0 & 0 & 0 & 0\\\\\n",
       "\tStock & 0 & 0 & 0 & 0 & 0 & 0 & 0 & 0 & 0 & 0 & 0 & 0 & 0 & 1 & 0 & 0 & 0 & 0 & 0\\\\\n",
       "\tStock & 0 & 0 & 0 & 0 & 0 & 0 & 0 & 0 & 0 & 0 & 0 & 0 & 0 & 0 & 1 & 0 & 0 & 0 & 0\\\\\n",
       "\tStock & 0 & 0 & 0 & 0 & 0 & 0 & 0 & 0 & 0 & 0 & 0 & 0 & 0 & 0 & 0 & 1 & 0 & 0 & 0\\\\\n",
       "\tStock & 0 & 0 & 0 & 0 & 0 & 0 & 0 & 0 & 0 & 0 & 0 & 0 & 0 & 0 & 0 & 0 & 1 & 0 & 0\\\\\n",
       "\tStock & 0 & 0 & 0 & 0 & 0 & 0 & 0 & 0 & 0 & 0 & 0 & 0 & 0 & 0 & 0 & 0 & 0 & 1 & 0\\\\\n",
       "\tStock & 0 & 0 & 0 & 0 & 0 & 0 & 0 & 0 & 0 & 0 & 0 & 0 & 0 & 0 & 0 & 0 & 0 & 0 & 1\\\\\n",
       "\tStock & -1 & -1 & -1 & -1 & -1 & -1 & -1 & -1 & -1 & -1 & -1 & -1 & -1 & -1 & -1 & -1 & -1 & -1 & -1\\\\\n",
       "\\end{tabular}\n"
      ],
      "text/markdown": [
       "1. 1\n",
       "2. 0\n",
       "3. 0\n",
       "4. 0\n",
       "5. 0\n",
       "6. 0\n",
       "7. 0\n",
       "8. 0\n",
       "9. 0\n",
       "10. 0\n",
       "11. 0\n",
       "12. 0\n",
       "13. 0\n",
       "14. 0\n",
       "15. 0\n",
       "16. 0\n",
       "17. 0\n",
       "18. 0\n",
       "19. 0\n",
       "20. -1\n",
       "21. 0\n",
       "22. 1\n",
       "23. 0\n",
       "24. 0\n",
       "25. 0\n",
       "26. 0\n",
       "27. 0\n",
       "28. 0\n",
       "29. 0\n",
       "30. 0\n",
       "31. 0\n",
       "32. 0\n",
       "33. 0\n",
       "34. 0\n",
       "35. 0\n",
       "36. 0\n",
       "37. 0\n",
       "38. 0\n",
       "39. 0\n",
       "40. -1\n",
       "41. 0\n",
       "42. 0\n",
       "43. 1\n",
       "44. 0\n",
       "45. 0\n",
       "46. 0\n",
       "47. 0\n",
       "48. 0\n",
       "49. 0\n",
       "50. 0\n",
       "51. 0\n",
       "52. 0\n",
       "53. 0\n",
       "54. 0\n",
       "55. 0\n",
       "56. 0\n",
       "57. 0\n",
       "58. 0\n",
       "59. 0\n",
       "60. -1\n",
       "61. 0\n",
       "62. 0\n",
       "63. 0\n",
       "64. 1\n",
       "65. 0\n",
       "66. 0\n",
       "67. 0\n",
       "68. 0\n",
       "69. 0\n",
       "70. 0\n",
       "71. 0\n",
       "72. 0\n",
       "73. 0\n",
       "74. 0\n",
       "75. 0\n",
       "76. 0\n",
       "77. 0\n",
       "78. 0\n",
       "79. 0\n",
       "80. -1\n",
       "81. 0\n",
       "82. 0\n",
       "83. 0\n",
       "84. 0\n",
       "85. 1\n",
       "86. 0\n",
       "87. 0\n",
       "88. 0\n",
       "89. 0\n",
       "90. 0\n",
       "91. 0\n",
       "92. 0\n",
       "93. 0\n",
       "94. 0\n",
       "95. 0\n",
       "96. 0\n",
       "97. 0\n",
       "98. 0\n",
       "99. 0\n",
       "100. -1\n",
       "101. 0\n",
       "102. 0\n",
       "103. 0\n",
       "104. 0\n",
       "105. 0\n",
       "106. 1\n",
       "107. 0\n",
       "108. 0\n",
       "109. 0\n",
       "110. 0\n",
       "111. 0\n",
       "112. 0\n",
       "113. 0\n",
       "114. 0\n",
       "115. 0\n",
       "116. 0\n",
       "117. 0\n",
       "118. 0\n",
       "119. 0\n",
       "120. -1\n",
       "121. 0\n",
       "122. 0\n",
       "123. 0\n",
       "124. 0\n",
       "125. 0\n",
       "126. 0\n",
       "127. 1\n",
       "128. 0\n",
       "129. 0\n",
       "130. 0\n",
       "131. 0\n",
       "132. 0\n",
       "133. 0\n",
       "134. 0\n",
       "135. 0\n",
       "136. 0\n",
       "137. 0\n",
       "138. 0\n",
       "139. 0\n",
       "140. -1\n",
       "141. 0\n",
       "142. 0\n",
       "143. 0\n",
       "144. 0\n",
       "145. 0\n",
       "146. 0\n",
       "147. 0\n",
       "148. 1\n",
       "149. 0\n",
       "150. 0\n",
       "151. 0\n",
       "152. 0\n",
       "153. 0\n",
       "154. 0\n",
       "155. 0\n",
       "156. 0\n",
       "157. 0\n",
       "158. 0\n",
       "159. 0\n",
       "160. -1\n",
       "161. 0\n",
       "162. 0\n",
       "163. 0\n",
       "164. 0\n",
       "165. 0\n",
       "166. 0\n",
       "167. 0\n",
       "168. 0\n",
       "169. 1\n",
       "170. 0\n",
       "171. 0\n",
       "172. 0\n",
       "173. 0\n",
       "174. 0\n",
       "175. 0\n",
       "176. 0\n",
       "177. 0\n",
       "178. 0\n",
       "179. 0\n",
       "180. -1\n",
       "181. 0\n",
       "182. 0\n",
       "183. 0\n",
       "184. 0\n",
       "185. 0\n",
       "186. 0\n",
       "187. 0\n",
       "188. 0\n",
       "189. 0\n",
       "190. 1\n",
       "191. 0\n",
       "192. 0\n",
       "193. 0\n",
       "194. 0\n",
       "195. 0\n",
       "196. 0\n",
       "197. 0\n",
       "198. 0\n",
       "199. 0\n",
       "200. -1\n",
       "201. 0\n",
       "202. 0\n",
       "203. 0\n",
       "204. 0\n",
       "205. 0\n",
       "206. 0\n",
       "207. 0\n",
       "208. 0\n",
       "209. 0\n",
       "210. 0\n",
       "211. 1\n",
       "212. 0\n",
       "213. 0\n",
       "214. 0\n",
       "215. 0\n",
       "216. 0\n",
       "217. 0\n",
       "218. 0\n",
       "219. 0\n",
       "220. -1\n",
       "221. 0\n",
       "222. 0\n",
       "223. 0\n",
       "224. 0\n",
       "225. 0\n",
       "226. 0\n",
       "227. 0\n",
       "228. 0\n",
       "229. 0\n",
       "230. 0\n",
       "231. 0\n",
       "232. 1\n",
       "233. 0\n",
       "234. 0\n",
       "235. 0\n",
       "236. 0\n",
       "237. 0\n",
       "238. 0\n",
       "239. 0\n",
       "240. -1\n",
       "241. 0\n",
       "242. 0\n",
       "243. 0\n",
       "244. 0\n",
       "245. 0\n",
       "246. 0\n",
       "247. 0\n",
       "248. 0\n",
       "249. 0\n",
       "250. 0\n",
       "251. 0\n",
       "252. 0\n",
       "253. 1\n",
       "254. 0\n",
       "255. 0\n",
       "256. 0\n",
       "257. 0\n",
       "258. 0\n",
       "259. 0\n",
       "260. -1\n",
       "261. 0\n",
       "262. 0\n",
       "263. 0\n",
       "264. 0\n",
       "265. 0\n",
       "266. 0\n",
       "267. 0\n",
       "268. 0\n",
       "269. 0\n",
       "270. 0\n",
       "271. 0\n",
       "272. 0\n",
       "273. 0\n",
       "274. 1\n",
       "275. 0\n",
       "276. 0\n",
       "277. 0\n",
       "278. 0\n",
       "279. 0\n",
       "280. -1\n",
       "281. 0\n",
       "282. 0\n",
       "283. 0\n",
       "284. 0\n",
       "285. 0\n",
       "286. 0\n",
       "287. 0\n",
       "288. 0\n",
       "289. 0\n",
       "290. 0\n",
       "291. 0\n",
       "292. 0\n",
       "293. 0\n",
       "294. 0\n",
       "295. 1\n",
       "296. 0\n",
       "297. 0\n",
       "298. 0\n",
       "299. 0\n",
       "300. -1\n",
       "301. 0\n",
       "302. 0\n",
       "303. 0\n",
       "304. 0\n",
       "305. 0\n",
       "306. 0\n",
       "307. 0\n",
       "308. 0\n",
       "309. 0\n",
       "310. 0\n",
       "311. 0\n",
       "312. 0\n",
       "313. 0\n",
       "314. 0\n",
       "315. 0\n",
       "316. 1\n",
       "317. 0\n",
       "318. 0\n",
       "319. 0\n",
       "320. -1\n",
       "321. 0\n",
       "322. 0\n",
       "323. 0\n",
       "324. 0\n",
       "325. 0\n",
       "326. 0\n",
       "327. 0\n",
       "328. 0\n",
       "329. 0\n",
       "330. 0\n",
       "331. 0\n",
       "332. 0\n",
       "333. 0\n",
       "334. 0\n",
       "335. 0\n",
       "336. 0\n",
       "337. 1\n",
       "338. 0\n",
       "339. 0\n",
       "340. -1\n",
       "341. 0\n",
       "342. 0\n",
       "343. 0\n",
       "344. 0\n",
       "345. 0\n",
       "346. 0\n",
       "347. 0\n",
       "348. 0\n",
       "349. 0\n",
       "350. 0\n",
       "351. 0\n",
       "352. 0\n",
       "353. 0\n",
       "354. 0\n",
       "355. 0\n",
       "356. 0\n",
       "357. 0\n",
       "358. 1\n",
       "359. 0\n",
       "360. -1\n",
       "361. 0\n",
       "362. 0\n",
       "363. 0\n",
       "364. 0\n",
       "365. 0\n",
       "366. 0\n",
       "367. 0\n",
       "368. 0\n",
       "369. 0\n",
       "370. 0\n",
       "371. 0\n",
       "372. 0\n",
       "373. 0\n",
       "374. 0\n",
       "375. 0\n",
       "376. 0\n",
       "377. 0\n",
       "378. 0\n",
       "379. 1\n",
       "380. -1\n",
       "\n",
       "\n"
      ],
      "text/plain": [
       "       [,1] [,2] [,3] [,4] [,5] [,6] [,7] [,8] [,9] [,10] [,11] [,12] [,13]\n",
       "Mutual    1    0    0    0    0    0    0    0    0     0     0     0     0\n",
       "Mutual    0    1    0    0    0    0    0    0    0     0     0     0     0\n",
       "Mutual    0    0    1    0    0    0    0    0    0     0     0     0     0\n",
       "Mutual    0    0    0    1    0    0    0    0    0     0     0     0     0\n",
       "Mutual    0    0    0    0    1    0    0    0    0     0     0     0     0\n",
       "Mutual    0    0    0    0    0    1    0    0    0     0     0     0     0\n",
       "Mutual    0    0    0    0    0    0    1    0    0     0     0     0     0\n",
       "Mutual    0    0    0    0    0    0    0    1    0     0     0     0     0\n",
       "Mutual    0    0    0    0    0    0    0    0    1     0     0     0     0\n",
       "Mutual    0    0    0    0    0    0    0    0    0     1     0     0     0\n",
       "Stock     0    0    0    0    0    0    0    0    0     0     1     0     0\n",
       "Stock     0    0    0    0    0    0    0    0    0     0     0     1     0\n",
       "Stock     0    0    0    0    0    0    0    0    0     0     0     0     1\n",
       "Stock     0    0    0    0    0    0    0    0    0     0     0     0     0\n",
       "Stock     0    0    0    0    0    0    0    0    0     0     0     0     0\n",
       "Stock     0    0    0    0    0    0    0    0    0     0     0     0     0\n",
       "Stock     0    0    0    0    0    0    0    0    0     0     0     0     0\n",
       "Stock     0    0    0    0    0    0    0    0    0     0     0     0     0\n",
       "Stock     0    0    0    0    0    0    0    0    0     0     0     0     0\n",
       "Stock    -1   -1   -1   -1   -1   -1   -1   -1   -1    -1    -1    -1    -1\n",
       "       [,14] [,15] [,16] [,17] [,18] [,19]\n",
       "Mutual     0     0     0     0     0     0\n",
       "Mutual     0     0     0     0     0     0\n",
       "Mutual     0     0     0     0     0     0\n",
       "Mutual     0     0     0     0     0     0\n",
       "Mutual     0     0     0     0     0     0\n",
       "Mutual     0     0     0     0     0     0\n",
       "Mutual     0     0     0     0     0     0\n",
       "Mutual     0     0     0     0     0     0\n",
       "Mutual     0     0     0     0     0     0\n",
       "Mutual     0     0     0     0     0     0\n",
       "Stock      0     0     0     0     0     0\n",
       "Stock      0     0     0     0     0     0\n",
       "Stock      0     0     0     0     0     0\n",
       "Stock      1     0     0     0     0     0\n",
       "Stock      0     1     0     0     0     0\n",
       "Stock      0     0     1     0     0     0\n",
       "Stock      0     0     0     1     0     0\n",
       "Stock      0     0     0     0     1     0\n",
       "Stock      0     0     0     0     0     1\n",
       "Stock     -1    -1    -1    -1    -1    -1"
      ]
     },
     "metadata": {},
     "output_type": "display_data"
    }
   ],
   "source": [
    "contr.sum(insuracne$type)"
   ]
  },
  {
   "cell_type": "code",
   "execution_count": 30,
   "metadata": {
    "collapsed": false
   },
   "outputs": [
    {
     "data": {
      "text/html": [
       "<table>\n",
       "<thead><tr><th></th><th scope=col>(Intercept)</th><th scope=col>size</th><th scope=col>type1</th></tr></thead>\n",
       "<tbody>\n",
       "\t<tr><th scope=row>1</th><td>  1</td><td>151</td><td> -1</td></tr>\n",
       "\t<tr><th scope=row>2</th><td> 1</td><td>92</td><td>-1</td></tr>\n",
       "\t<tr><th scope=row>3</th><td>  1</td><td>175</td><td> -1</td></tr>\n",
       "\t<tr><th scope=row>4</th><td> 1</td><td>31</td><td>-1</td></tr>\n",
       "\t<tr><th scope=row>5</th><td>  1</td><td>104</td><td> -1</td></tr>\n",
       "\t<tr><th scope=row>6</th><td>  1</td><td>277</td><td> -1</td></tr>\n",
       "\t<tr><th scope=row>7</th><td>  1</td><td>210</td><td> -1</td></tr>\n",
       "\t<tr><th scope=row>8</th><td>  1</td><td>120</td><td> -1</td></tr>\n",
       "\t<tr><th scope=row>9</th><td>  1</td><td>290</td><td> -1</td></tr>\n",
       "\t<tr><th scope=row>10</th><td>  1</td><td>238</td><td> -1</td></tr>\n",
       "\t<tr><th scope=row>11</th><td>  1</td><td>164</td><td>  1</td></tr>\n",
       "\t<tr><th scope=row>12</th><td>  1</td><td>272</td><td>  1</td></tr>\n",
       "\t<tr><th scope=row>13</th><td>  1</td><td>295</td><td>  1</td></tr>\n",
       "\t<tr><th scope=row>14</th><td> 1</td><td>68</td><td> 1</td></tr>\n",
       "\t<tr><th scope=row>15</th><td> 1</td><td>85</td><td> 1</td></tr>\n",
       "\t<tr><th scope=row>16</th><td>  1</td><td>224</td><td>  1</td></tr>\n",
       "\t<tr><th scope=row>17</th><td>  1</td><td>166</td><td>  1</td></tr>\n",
       "\t<tr><th scope=row>18</th><td>  1</td><td>305</td><td>  1</td></tr>\n",
       "\t<tr><th scope=row>19</th><td>  1</td><td>124</td><td>  1</td></tr>\n",
       "\t<tr><th scope=row>20</th><td>  1</td><td>246</td><td>  1</td></tr>\n",
       "</tbody>\n",
       "</table>\n"
      ],
      "text/latex": [
       "\\begin{tabular}{r|lll}\n",
       "  & (Intercept) & size & type1\\\\\n",
       "\\hline\n",
       "\t1 &   1 & 151 &  -1\\\\\n",
       "\t2 &  1 & 92 & -1\\\\\n",
       "\t3 &   1 & 175 &  -1\\\\\n",
       "\t4 &  1 & 31 & -1\\\\\n",
       "\t5 &   1 & 104 &  -1\\\\\n",
       "\t6 &   1 & 277 &  -1\\\\\n",
       "\t7 &   1 & 210 &  -1\\\\\n",
       "\t8 &   1 & 120 &  -1\\\\\n",
       "\t9 &   1 & 290 &  -1\\\\\n",
       "\t10 &   1 & 238 &  -1\\\\\n",
       "\t11 &   1 & 164 &   1\\\\\n",
       "\t12 &   1 & 272 &   1\\\\\n",
       "\t13 &   1 & 295 &   1\\\\\n",
       "\t14 &  1 & 68 &  1\\\\\n",
       "\t15 &  1 & 85 &  1\\\\\n",
       "\t16 &   1 & 224 &   1\\\\\n",
       "\t17 &   1 & 166 &   1\\\\\n",
       "\t18 &   1 & 305 &   1\\\\\n",
       "\t19 &   1 & 124 &   1\\\\\n",
       "\t20 &   1 & 246 &   1\\\\\n",
       "\\end{tabular}\n"
      ],
      "text/markdown": [
       "1. 1\n",
       "2. 1\n",
       "3. 1\n",
       "4. 1\n",
       "5. 1\n",
       "6. 1\n",
       "7. 1\n",
       "8. 1\n",
       "9. 1\n",
       "10. 1\n",
       "11. 1\n",
       "12. 1\n",
       "13. 1\n",
       "14. 1\n",
       "15. 1\n",
       "16. 1\n",
       "17. 1\n",
       "18. 1\n",
       "19. 1\n",
       "20. 1\n",
       "21. 151\n",
       "22. 92\n",
       "23. 175\n",
       "24. 31\n",
       "25. 104\n",
       "26. 277\n",
       "27. 210\n",
       "28. 120\n",
       "29. 290\n",
       "30. 238\n",
       "31. 164\n",
       "32. 272\n",
       "33. 295\n",
       "34. 68\n",
       "35. 85\n",
       "36. 224\n",
       "37. 166\n",
       "38. 305\n",
       "39. 124\n",
       "40. 246\n",
       "41. -1\n",
       "42. -1\n",
       "43. -1\n",
       "44. -1\n",
       "45. -1\n",
       "46. -1\n",
       "47. -1\n",
       "48. -1\n",
       "49. -1\n",
       "50. -1\n",
       "51. 1\n",
       "52. 1\n",
       "53. 1\n",
       "54. 1\n",
       "55. 1\n",
       "56. 1\n",
       "57. 1\n",
       "58. 1\n",
       "59. 1\n",
       "60. 1\n",
       "\n",
       "\n"
      ],
      "text/plain": [
       "   (Intercept) size type1\n",
       "1            1  151    -1\n",
       "2            1   92    -1\n",
       "3            1  175    -1\n",
       "4            1   31    -1\n",
       "5            1  104    -1\n",
       "6            1  277    -1\n",
       "7            1  210    -1\n",
       "8            1  120    -1\n",
       "9            1  290    -1\n",
       "10           1  238    -1\n",
       "11           1  164     1\n",
       "12           1  272     1\n",
       "13           1  295     1\n",
       "14           1   68     1\n",
       "15           1   85     1\n",
       "16           1  224     1\n",
       "17           1  166     1\n",
       "18           1  305     1\n",
       "19           1  124     1\n",
       "20           1  246     1\n",
       "attr(,\"assign\")\n",
       "[1] 0 1 2\n",
       "attr(,\"contrasts\")\n",
       "attr(,\"contrasts\")$type\n",
       "       [,1]\n",
       "Stock     1\n",
       "Mutual   -1\n"
      ]
     },
     "metadata": {},
     "output_type": "display_data"
    }
   ],
   "source": [
    "model3 = lm(time~.,insuracne,contrasts = list(type=contr.sum))\n",
    "model.matrix(time~.,insuracne,contrasts = list(type=contr.sum))"
   ]
  },
  {
   "cell_type": "code",
   "execution_count": 31,
   "metadata": {
    "collapsed": false
   },
   "outputs": [
    {
     "data": {},
     "metadata": {},
     "output_type": "display_data"
    },
    {
     "data": {
      "image/png": "[encoded data removed]",
      "text/plain": [
       "plot without title"
      ]
     },
     "metadata": {},
     "output_type": "display_data"
    }
   ],
   "source": [
    "insuracne$fit = model3$fitted.values\n",
    "gg <- ggplot(insuracne,aes(y=fit,x=size,group=type,color=type)) + geom_line() \n",
    "gg + geom_point(aes(y=time,x=size,shape=type))"
   ]
  }
 ],
 "metadata": {
  "kernelspec": {
   "display_name": "R 3.3",
   "language": "R",
   "name": "ir33"
  },
  "language_info": {
   "codemirror_mode": "r",
   "file_extension": ".r",
   "mimetype": "text/x-r-source",
   "name": "R",
   "pygments_lexer": "r",
   "version": "3.3.1"
  }
 },
 "nbformat": 4,
 "nbformat_minor": 0
}
