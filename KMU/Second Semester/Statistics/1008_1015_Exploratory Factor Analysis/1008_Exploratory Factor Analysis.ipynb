{
 "cells": [
  {
   "cell_type": "markdown",
   "metadata": {},
   "source": [
    "# 탐색적 인자분석 ( Exploratory Factor Analysis )"
   ]
  },
  {
   "cell_type": "markdown",
   "metadata": {
    "collapsed": true
   },
   "source": [
    "## 인자분석(인자분석)이란?\n",
    " - 심리학, 행동과학 등의 여러 영역에서 주된 관심의 개념을 직접 측정 불가하기 때문에 간접적으로 측정 (랜덤 오차 포함)\n",
    "  - 예: 지능- 시험점수\n",
    "  - 예: 사회계급 – 직업, 교육배경, 집의 소유 등\n",
    " - 잠재변수 (latent variable) - 직접 측정이 불가하지만 측정할 수 있는 변수\n",
    " - 인자분석 – 측정변수와 잠재변수 사이의 관계를 밝히는 것\n",
    "  - 탐색적 인자분석(Exploratory Factor Analysis) <br> 어떤 측정변수가 어떤 인자에 관련된다는 특정 한 가정 없이 측정변수와 인자 사이의 관계 조사\n",
    "  - 확인적 인자분석(Confirmatory Factor Analysis) <br> 사전에 가정된 특정한 인자모형에 대해 측정 변수 사이의 공분산 또는 상관관계를 적절하게 적합하는지 검정"
   ]
  },
  {
   "cell_type": "markdown",
   "metadata": {},
   "source": [
    "## 인자분석의원리: one-factor model\n",
    " - 학생들의 심리테스트\n",
    "  - 5개의 문항\n",
    "  - paragraph comprehension (PARA)\n",
    "  - sentence completion (SENT)\n",
    "  - word meaning (WORD)\n",
    "  - addition (ADD)\n",
    "  - counting dots (DOTS)\n",
    " - 5개의 문항에 내재된 하나의 공통 인자(common factor): $f$\n",
    " - 각 문항의 특정인자(specific factor): $u_i$ - 랜덤변동\n",
    " - 인자분석에서 추정하는 것은 분산 (공통인자의 분산 + 특정인자의 분산)\n",
    " - 특정인자의 분산은 순전히 공통인자를 완벽히 측정하지 못하는 데서 오는 오차라고 가정\n",
    "\n",
    "<img src=\"photo/1.PNG\">"
   ]
  },
  {
   "cell_type": "markdown",
   "metadata": {},
   "source": [
    "<center> $\\begin{bmatrix} \n",
    "  X_1 = l_1f + u_1 \\\\\n",
    "  X_2 = l_2f + u_2 \\\\\n",
    "  X_3 = l_3f + u_3 \\\\\n",
    "  X_4 = l_4f + u_4 \\\\\n",
    "  X_5 = l_5f + u_5\n",
    " \\end{bmatrix}$ </center>\n",
    " \n",
    " - 가정\n",
    "  - $U_i$ 들간의 상호 독립성\n",
    "  - $U_i$와 $f$ 간의 독립\n",
    " - 각 변수 $X_i$의 분산의 요소 : 공통인자$(f)$과 특정인자$(U_i)$ \n",
    "  - 둘 다 측정 불가능 \n",
    " - $l_i:$인자 적재값\n",
    "  - 각 변수가 공통인자를 얼마나 반영하는지에 대한 계수\n",
    " - $X_i$와 $f$가 표준화 된 경우 <br>\n",
    " $var(X_i) = var(l_if+u_i) = l_i^2 + var(u_i) = 1 $\n",
    "  - $l_i = X_i$와 $f$의 상관계수 \n",
    "  - $l_i^2 : X_i$의 분산 중 공통인자에 의해 발생하는 분산의 비율 $=>$공통성$(Common)$\n",
    "  - $var(u_i):$특정인자에 의한 분산$(:=𝜓_{ii}^2)$\n",
    "  - $Communality$가 크면(1에 가까우면) 변수 $X_i$가 공통인자를 잘 측정 \n",
    "   <center> $Communality of X_i = 1 - 𝜓_{ii}^2$"
   ]
  }
 ],
 "metadata": {
  "kernelspec": {
   "display_name": "R 3.3",
   "language": "R",
   "name": "ir33"
  },
  "language_info": {
   "codemirror_mode": "r",
   "file_extension": ".r",
   "mimetype": "text/x-r-source",
   "name": "R",
   "pygments_lexer": "r",
   "version": "3.3.1"
  }
 },
 "nbformat": 4,
 "nbformat_minor": 0
}
