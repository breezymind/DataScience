{
 "cells": [
  {
   "cell_type": "markdown",
   "metadata": {
    "nbpresent": {
     "id": "605489ee-4989-4d78-8491-4a4280e10ace"
    }
   },
   "source": [
    "# Association Rule Mining"
   ]
  },
  {
   "cell_type": "code",
   "execution_count": 2,
   "metadata": {
    "collapsed": false,
    "nbpresent": {
     "id": "bfed99d1-60fa-4d66-ad02-defc276e6485"
    }
   },
   "outputs": [
    {
     "name": "stderr",
     "output_type": "stream",
     "text": [
      "Warning message:\n",
      ": package 'arules' was built under R version 3.3.2Loading required package: Matrix\n",
      "\n",
      "Attaching package: 'arules'\n",
      "\n",
      "The following objects are masked from 'package:base':\n",
      "\n",
      "    abbreviate, write\n",
      "\n",
      "\n",
      "Attaching package: 'dplyr'\n",
      "\n",
      "The following objects are masked from 'package:arules':\n",
      "\n",
      "    intersect, recode, setdiff, setequal, union\n",
      "\n",
      "The following objects are masked from 'package:stats':\n",
      "\n",
      "    filter, lag\n",
      "\n",
      "The following objects are masked from 'package:base':\n",
      "\n",
      "    intersect, setdiff, setequal, union\n",
      "\n",
      "Warning message:\n",
      ": package 'extrafont' was built under R version 3.3.2Registering fonts with R\n"
     ]
    }
   ],
   "source": [
    "library(arules)\n",
    "library(dplyr)\n",
    "library(extrafont)"
   ]
  },
  {
   "cell_type": "code",
   "execution_count": 3,
   "metadata": {
    "collapsed": false,
    "nbpresent": {
     "id": "82c6f54a-4473-4f9c-9967-3b1393e9a3f8"
    }
   },
   "outputs": [],
   "source": [
    "par(family =\"NanumBarunGothic\")"
   ]
  },
  {
   "cell_type": "code",
   "execution_count": 4,
   "metadata": {
    "collapsed": false,
    "nbpresent": {
     "id": "bd3662ac-8451-4ce1-a0a8-8e6688d94be2"
    }
   },
   "outputs": [
    {
     "data": {
      "text/html": [
       "<table>\n",
       "<thead><tr><th></th><th scope=col>datetime</th><th scope=col>custid</th><th scope=col>store</th><th scope=col>product</th><th scope=col>brand</th><th scope=col>corner</th><th scope=col>import</th><th scope=col>amount</th><th scope=col>installment</th></tr></thead>\n",
       "<tbody>\n",
       "\t<tr><th scope=row>1</th><td>2000-05-01 10:43</td><td>18313           </td><td>신촌점          </td><td>4104840008000   </td><td>샤넬            </td><td>화장품          </td><td>1               </td><td>113000          </td><td>3               </td></tr>\n",
       "\t<tr><th scope=row>2</th><td>2000-05-01 11:00</td><td>18313           </td><td>신촌점          </td><td>2.7e+12         </td><td>식품            </td><td>일반식품        </td><td>0               </td><td>91950           </td><td>3               </td></tr>\n",
       "\t<tr><th scope=row>3</th><td>2000-05-01 11:33</td><td>27222           </td><td>신촌점          </td><td>4545370944500   </td><td>까사미아        </td><td>가구            </td><td>0               </td><td>598000          </td><td>3               </td></tr>\n",
       "\t<tr><th scope=row>4</th><td>2000-05-01 11:43</td><td>27222           </td><td>신촌점          </td><td>4500860043900   </td><td>대아통상        </td><td>기타            </td><td>0               </td><td>20100           </td><td>1               </td></tr>\n",
       "\t<tr><th scope=row>5</th><td>2000-05-01 11:53</td><td>27222           </td><td>신촌점          </td><td>4538130048700   </td><td>토이플러스      </td><td>문화완구        </td><td>0               </td><td>24000           </td><td>1               </td></tr>\n",
       "\t<tr><th scope=row>6</th><td>2000-05-01 12:00</td><td>27222           </td><td>신촌점          </td><td>4406010020474   </td><td>베베            </td><td>유아동복        </td><td>0               </td><td>28000           </td><td>1               </td></tr>\n",
       "</tbody>\n",
       "</table>\n"
      ],
      "text/latex": [
       "\\begin{tabular}{r|lllllllll}\n",
       "  & datetime & custid & store & product & brand & corner & import & amount & installment\\\\\n",
       "\\hline\n",
       "\t1 & 2000-05-01 10:43 & 18313            & 신촌점           & 4104840008000    & 샤넬             & 화장품           & 1                & 113000           & 3               \\\\\n",
       "\t2 & 2000-05-01 11:00 & 18313            & 신촌점           & 2.7e+12          & 식품             & 일반식품         & 0                & 91950            & 3               \\\\\n",
       "\t3 & 2000-05-01 11:33 & 27222            & 신촌점           & 4545370944500    & 까사미아         & 가구             & 0                & 598000           & 3               \\\\\n",
       "\t4 & 2000-05-01 11:43 & 27222            & 신촌점           & 4500860043900    & 대아통상         & 기타             & 0                & 20100            & 1               \\\\\n",
       "\t5 & 2000-05-01 11:53 & 27222            & 신촌점           & 4538130048700    & 토이플러스       & 문화완구         & 0                & 24000            & 1               \\\\\n",
       "\t6 & 2000-05-01 12:00 & 27222            & 신촌점           & 4406010020474    & 베베             & 유아동복         & 0                & 28000            & 1               \\\\\n",
       "\\end{tabular}\n"
      ],
      "text/plain": [
       "          datetime custid  store      product      brand   corner import amount\n",
       "1 2000-05-01 10:43  18313 신촌점 4.104840e+12       샤넬   화장품      1 113000\n",
       "2 2000-05-01 11:00  18313 신촌점 2.700000e+12       식품 일반식품      0  91950\n",
       "3 2000-05-01 11:33  27222 신촌점 4.545371e+12   까사미아     가구      0 598000\n",
       "4 2000-05-01 11:43  27222 신촌점 4.500860e+12   대아통상     기타      0  20100\n",
       "5 2000-05-01 11:53  27222 신촌점 4.538130e+12 토이플러스 문화완구      0  24000\n",
       "6 2000-05-01 12:00  27222 신촌점 4.406010e+12       베베 유아동복      0  28000\n",
       "  installment\n",
       "1           3\n",
       "2           3\n",
       "3           3\n",
       "4           1\n",
       "5           1\n",
       "6           1"
      ]
     },
     "metadata": {},
     "output_type": "display_data"
    }
   ],
   "source": [
    "tr <- read.delim(\"dataTransactions.tab\", stringsAsFactors=FALSE)\n",
    "head(tr)"
   ]
  },
  {
   "cell_type": "markdown",
   "metadata": {
    "nbpresent": {
     "id": "86a7aab1-5a03-4d7a-9c31-92a88d6bde99"
    }
   },
   "source": [
    " - 일반식품, 화장품 제외 \n",
    "  - 가장 많이 팔린 Data \n",
    "  - 돌려봐야 계속 나오게 된다.\n",
    " - Custid와 Corner 가 중복이 되지 않도록 추출."
   ]
  },
  {
   "cell_type": "code",
   "execution_count": 5,
   "metadata": {
    "collapsed": false,
    "nbpresent": {
     "id": "dfe24f7c-ad73-415a-8e6a-3ec6ef925c16"
    }
   },
   "outputs": [
    {
     "name": "stderr",
     "output_type": "stream",
     "text": [
      "Warning message:\n",
      ": failed to assign NativeSymbolInfo for lhs since lhs is already defined in the 'lazyeval' namespaceWarning message:\n",
      ": failed to assign NativeSymbolInfo for rhs since rhs is already defined in the 'lazyeval' namespace"
     ]
    }
   ],
   "source": [
    "tr.filter <- tr %>%\n",
    "  filter(!(corner %in% c(\"일반식품\",\"화장품\"))) %>%\n",
    "  distinct(custid, corner)"
   ]
  },
  {
   "cell_type": "code",
   "execution_count": 6,
   "metadata": {
    "collapsed": false,
    "nbpresent": {
     "id": "0a977c91-6d53-4edf-8f05-0d226af60c1e"
    }
   },
   "outputs": [
    {
     "data": {
      "text/html": [
       "<table>\n",
       "<thead><tr><th></th><th scope=col>custid</th><th scope=col>corner</th></tr></thead>\n",
       "<tbody>\n",
       "\t<tr><th scope=row>1</th><td>27222</td><td>가구 </td></tr>\n",
       "\t<tr><th scope=row>2</th><td>27222</td><td>기타 </td></tr>\n",
       "\t<tr><th scope=row>3</th><td>27222   </td><td>문화완구</td></tr>\n",
       "\t<tr><th scope=row>4</th><td>27222   </td><td>유아동복</td></tr>\n",
       "\t<tr><th scope=row>5</th><td>47084 </td><td>스포츠</td></tr>\n",
       "\t<tr><th scope=row>6</th><td>31090 </td><td>스포츠</td></tr>\n",
       "</tbody>\n",
       "</table>\n"
      ],
      "text/latex": [
       "\\begin{tabular}{r|ll}\n",
       "  & custid & corner\\\\\n",
       "\\hline\n",
       "\t1 & 27222 & 가구 \\\\\n",
       "\t2 & 27222 & 기타 \\\\\n",
       "\t3 & 27222    & 문화완구\\\\\n",
       "\t4 & 27222    & 유아동복\\\\\n",
       "\t5 & 47084  & 스포츠\\\\\n",
       "\t6 & 31090  & 스포츠\\\\\n",
       "\\end{tabular}\n"
      ],
      "text/plain": [
       "  custid   corner\n",
       "1  27222     가구\n",
       "2  27222     기타\n",
       "3  27222 문화완구\n",
       "4  27222 유아동복\n",
       "5  47084   스포츠\n",
       "6  31090   스포츠"
      ]
     },
     "metadata": {},
     "output_type": "display_data"
    }
   ],
   "source": [
    "head(tr.filter)"
   ]
  },
  {
   "cell_type": "markdown",
   "metadata": {
    "nbpresent": {
     "id": "fde9d0ed-31b0-46af-99a7-4cd704625502"
    }
   },
   "source": [
    " - Custid별로 corner 데이터를 짤라 List로 형성."
   ]
  },
  {
   "cell_type": "code",
   "execution_count": 7,
   "metadata": {
    "collapsed": false,
    "nbpresent": {
     "id": "14584b2a-7cc3-43b0-afd6-d279ff1605f5"
    }
   },
   "outputs": [
    {
     "data": {
      "text/html": [
       "<dl>\n",
       "\t<dt>$`10070`</dt>\n",
       "\t\t<dd><ol class=list-inline>\n",
       "\t<li>\"유니캐주얼\"</li>\n",
       "\t<li>\"캐릭터캐주얼\"</li>\n",
       "\t<li>\"유아동복\"</li>\n",
       "\t<li>\"장신구\"</li>\n",
       "\t<li>\"영캐주얼\"</li>\n",
       "\t<li>\"스포츠\"</li>\n",
       "\t<li>\"니트단품\"</li>\n",
       "</ol>\n",
       "</dd>\n",
       "\t<dt>$`10139`</dt>\n",
       "\t\t<dd><ol class=list-inline>\n",
       "\t<li>\"스포츠\"</li>\n",
       "\t<li>\"영캐주얼\"</li>\n",
       "\t<li>\"엘레강스캐주얼\"</li>\n",
       "\t<li>\"문화완구\"</li>\n",
       "\t<li>\"섬유\"</li>\n",
       "\t<li>\"타운모피\"</li>\n",
       "\t<li>\"유아동복\"</li>\n",
       "</ol>\n",
       "</dd>\n",
       "\t<dt>$`10208`</dt>\n",
       "\t\t<dd><ol class=list-inline>\n",
       "\t<li>\"유아동복\"</li>\n",
       "\t<li>\"문화완구\"</li>\n",
       "\t<li>\"니트단품\"</li>\n",
       "\t<li>\"트래디셔널캐주얼\"</li>\n",
       "\t<li>\"유니캐주얼\"</li>\n",
       "\t<li>\"장신구\"</li>\n",
       "\t<li>\"조리욕실\"</li>\n",
       "\t<li>\"가전\"</li>\n",
       "\t<li>\"섬유\"</li>\n",
       "\t<li>\"스포츠\"</li>\n",
       "\t<li>\"영캐주얼\"</li>\n",
       "\t<li>\"도자기크리스탈\"</li>\n",
       "\t<li>\"가구\"</li>\n",
       "\t<li>\"기타\"</li>\n",
       "\t<li>\"캐릭터캐주얼\"</li>\n",
       "\t<li>\"침구수예\"</li>\n",
       "\t<li>\"타운모피\"</li>\n",
       "\t<li>\"피혁\"</li>\n",
       "</ol>\n",
       "</dd>\n",
       "\t<dt>$`10275`</dt>\n",
       "\t\t<dd><ol class=list-inline>\n",
       "\t<li>\"캐릭터캐주얼\"</li>\n",
       "\t<li>\"니트단품\"</li>\n",
       "\t<li>\"정장셔츠\"</li>\n",
       "</ol>\n",
       "</dd>\n",
       "\t<dt>$`10350`</dt>\n",
       "\t\t<dd><ol class=list-inline>\n",
       "\t<li>\"문화완구\"</li>\n",
       "\t<li>\"트래디셔널캐주얼\"</li>\n",
       "\t<li>\"섬유\"</li>\n",
       "\t<li>\"스포츠\"</li>\n",
       "\t<li>\"유니캐주얼\"</li>\n",
       "\t<li>\"캐릭터캐주얼\"</li>\n",
       "\t<li>\"장신구\"</li>\n",
       "</ol>\n",
       "</dd>\n",
       "\t<dt>$`10425`</dt>\n",
       "\t\t<dd><ol class=list-inline>\n",
       "\t<li>\"피혁\"</li>\n",
       "\t<li>\"니트단품\"</li>\n",
       "</ol>\n",
       "</dd>\n",
       "</dl>\n"
      ],
      "text/latex": [
       "\\begin{description}\n",
       "\\item[\\$`10070`] \\begin{enumerate*}\n",
       "\\item \"유니캐주얼\"\n",
       "\\item \"캐릭터캐주얼\"\n",
       "\\item \"유아동복\"\n",
       "\\item \"장신구\"\n",
       "\\item \"영캐주얼\"\n",
       "\\item \"스포츠\"\n",
       "\\item \"니트단품\"\n",
       "\\end{enumerate*}\n",
       "\n",
       "\\item[\\$`10139`] \\begin{enumerate*}\n",
       "\\item \"스포츠\"\n",
       "\\item \"영캐주얼\"\n",
       "\\item \"엘레강스캐주얼\"\n",
       "\\item \"문화완구\"\n",
       "\\item \"섬유\"\n",
       "\\item \"타운모피\"\n",
       "\\item \"유아동복\"\n",
       "\\end{enumerate*}\n",
       "\n",
       "\\item[\\$`10208`] \\begin{enumerate*}\n",
       "\\item \"유아동복\"\n",
       "\\item \"문화완구\"\n",
       "\\item \"니트단품\"\n",
       "\\item \"트래디셔널캐주얼\"\n",
       "\\item \"유니캐주얼\"\n",
       "\\item \"장신구\"\n",
       "\\item \"조리욕실\"\n",
       "\\item \"가전\"\n",
       "\\item \"섬유\"\n",
       "\\item \"스포츠\"\n",
       "\\item \"영캐주얼\"\n",
       "\\item \"도자기크리스탈\"\n",
       "\\item \"가구\"\n",
       "\\item \"기타\"\n",
       "\\item \"캐릭터캐주얼\"\n",
       "\\item \"침구수예\"\n",
       "\\item \"타운모피\"\n",
       "\\item \"피혁\"\n",
       "\\end{enumerate*}\n",
       "\n",
       "\\item[\\$`10275`] \\begin{enumerate*}\n",
       "\\item \"캐릭터캐주얼\"\n",
       "\\item \"니트단품\"\n",
       "\\item \"정장셔츠\"\n",
       "\\end{enumerate*}\n",
       "\n",
       "\\item[\\$`10350`] \\begin{enumerate*}\n",
       "\\item \"문화완구\"\n",
       "\\item \"트래디셔널캐주얼\"\n",
       "\\item \"섬유\"\n",
       "\\item \"스포츠\"\n",
       "\\item \"유니캐주얼\"\n",
       "\\item \"캐릭터캐주얼\"\n",
       "\\item \"장신구\"\n",
       "\\end{enumerate*}\n",
       "\n",
       "\\item[\\$`10425`] \\begin{enumerate*}\n",
       "\\item \"피혁\"\n",
       "\\item \"니트단품\"\n",
       "\\end{enumerate*}\n",
       "\n",
       "\\end{description}\n"
      ],
      "text/markdown": [
       "$`10070`\n",
       ":   1. \"유니캐주얼\"\n",
       "2. \"캐릭터캐주얼\"\n",
       "3. \"유아동복\"\n",
       "4. \"장신구\"\n",
       "5. \"영캐주얼\"\n",
       "6. \"스포츠\"\n",
       "7. \"니트단품\"\n",
       "\n",
       "\n",
       "\n",
       "$`10139`\n",
       ":   1. \"스포츠\"\n",
       "2. \"영캐주얼\"\n",
       "3. \"엘레강스캐주얼\"\n",
       "4. \"문화완구\"\n",
       "5. \"섬유\"\n",
       "6. \"타운모피\"\n",
       "7. \"유아동복\"\n",
       "\n",
       "\n",
       "\n",
       "$`10208`\n",
       ":   1. \"유아동복\"\n",
       "2. \"문화완구\"\n",
       "3. \"니트단품\"\n",
       "4. \"트래디셔널캐주얼\"\n",
       "5. \"유니캐주얼\"\n",
       "6. \"장신구\"\n",
       "7. \"조리욕실\"\n",
       "8. \"가전\"\n",
       "9. \"섬유\"\n",
       "10. \"스포츠\"\n",
       "11. \"영캐주얼\"\n",
       "12. \"도자기크리스탈\"\n",
       "13. \"가구\"\n",
       "14. \"기타\"\n",
       "15. \"캐릭터캐주얼\"\n",
       "16. \"침구수예\"\n",
       "17. \"타운모피\"\n",
       "18. \"피혁\"\n",
       "\n",
       "\n",
       "\n",
       "$`10275`\n",
       ":   1. \"캐릭터캐주얼\"\n",
       "2. \"니트단품\"\n",
       "3. \"정장셔츠\"\n",
       "\n",
       "\n",
       "\n",
       "$`10350`\n",
       ":   1. \"문화완구\"\n",
       "2. \"트래디셔널캐주얼\"\n",
       "3. \"섬유\"\n",
       "4. \"스포츠\"\n",
       "5. \"유니캐주얼\"\n",
       "6. \"캐릭터캐주얼\"\n",
       "7. \"장신구\"\n",
       "\n",
       "\n",
       "\n",
       "$`10425`\n",
       ":   1. \"피혁\"\n",
       "2. \"니트단품\"\n",
       "\n",
       "\n",
       "\n",
       "\n",
       "\n"
      ],
      "text/plain": [
       "$`10070`\n",
       "[1] \"유니캐주얼\"   \"캐릭터캐주얼\" \"유아동복\"     \"장신구\"       \"영캐주얼\"    \n",
       "[6] \"스포츠\"       \"니트단품\"    \n",
       "\n",
       "$`10139`\n",
       "[1] \"스포츠\"         \"영캐주얼\"       \"엘레강스캐주얼\" \"문화완구\"      \n",
       "[5] \"섬유\"           \"타운모피\"       \"유아동복\"      \n",
       "\n",
       "$`10208`\n",
       " [1] \"유아동복\"         \"문화완구\"         \"니트단품\"         \"트래디셔널캐주얼\"\n",
       " [5] \"유니캐주얼\"       \"장신구\"           \"조리욕실\"         \"가전\"            \n",
       " [9] \"섬유\"             \"스포츠\"           \"영캐주얼\"         \"도자기크리스탈\"  \n",
       "[13] \"가구\"             \"기타\"             \"캐릭터캐주얼\"     \"침구수예\"        \n",
       "[17] \"타운모피\"         \"피혁\"            \n",
       "\n",
       "$`10275`\n",
       "[1] \"캐릭터캐주얼\" \"니트단품\"     \"정장셔츠\"    \n",
       "\n",
       "$`10350`\n",
       "[1] \"문화완구\"         \"트래디셔널캐주얼\" \"섬유\"             \"스포츠\"          \n",
       "[5] \"유니캐주얼\"       \"캐릭터캐주얼\"     \"장신구\"          \n",
       "\n",
       "$`10425`\n",
       "[1] \"피혁\"     \"니트단품\"\n"
      ]
     },
     "metadata": {},
     "output_type": "display_data"
    }
   ],
   "source": [
    "head(split(tr.filter$corner, tr.filter$custid))"
   ]
  },
  {
   "cell_type": "code",
   "execution_count": 8,
   "metadata": {
    "collapsed": false,
    "nbpresent": {
     "id": "1e821ae1-2473-4047-b4bb-319d080f18cb"
    }
   },
   "outputs": [
    {
     "data": {
      "text/plain": [
       "transactions in sparse format with\n",
       " 487 transactions (rows) and\n",
       " 24 items (columns)"
      ]
     },
     "metadata": {},
     "output_type": "display_data"
    }
   ],
   "source": [
    "# custid별로 corner를 자른다. \n",
    "trans <- as(split(tr.filter$corner, tr.filter$custid), \"transactions\") #transactions 메소드 \n",
    "trans "
   ]
  },
  {
   "cell_type": "code",
   "execution_count": 9,
   "metadata": {
    "collapsed": true,
    "nbpresent": {
     "id": "edf66b74-b3ab-401a-9cb2-e19dd526cdbd"
    }
   },
   "outputs": [],
   "source": [
    "# trans <- read.transactions(\"dataTransactions.tab\", format = \"single\", sep=\"\\t\", cols = c(2,6), skip=1) \n",
    "# 일반식품, 화장품 제거없이 하려면 위와 같이 해도 상관 없다."
   ]
  },
  {
   "cell_type": "markdown",
   "metadata": {
    "nbpresent": {
     "id": "959de3d8-f877-49e1-8c53-070734ba2b42"
    }
   },
   "source": [
    "## Example of Transactions from a Matrix"
   ]
  },
  {
   "cell_type": "code",
   "execution_count": 10,
   "metadata": {
    "collapsed": true,
    "nbpresent": {
     "id": "4d528cb6-ff45-41ae-8fb8-9073d3632db3"
    }
   },
   "outputs": [],
   "source": [
    "a_matrix <- matrix(\n",
    "      c(1,1,1,0,0,\n",
    "    1,1,0,0,0,\n",
    "    1,1,0,1,0,\n",
    "    0,0,1,0,1,\n",
    "    1,1,0,1,1), ncol = 5)"
   ]
  },
  {
   "cell_type": "code",
   "execution_count": 11,
   "metadata": {
    "collapsed": false,
    "nbpresent": {
     "id": "37dd2daa-720c-4b53-9537-6bbd6fe24634"
    }
   },
   "outputs": [
    {
     "data": {
      "text/html": [
       "<table>\n",
       "<thead><tr><th></th><th scope=col>Tr1</th><th scope=col>Tr2</th><th scope=col>Tr3</th><th scope=col>Tr4</th><th scope=col>Tr5</th></tr></thead>\n",
       "<tbody>\n",
       "\t<tr><th scope=row>a</th><td>1</td><td>1</td><td>1</td><td>0</td><td>1</td></tr>\n",
       "\t<tr><th scope=row>b</th><td>1</td><td>1</td><td>1</td><td>0</td><td>1</td></tr>\n",
       "\t<tr><th scope=row>c</th><td>1</td><td>0</td><td>0</td><td>1</td><td>0</td></tr>\n",
       "\t<tr><th scope=row>d</th><td>0</td><td>0</td><td>1</td><td>0</td><td>1</td></tr>\n",
       "\t<tr><th scope=row>e</th><td>0</td><td>0</td><td>0</td><td>1</td><td>1</td></tr>\n",
       "</tbody>\n",
       "</table>\n"
      ],
      "text/latex": [
       "\\begin{tabular}{r|lllll}\n",
       "  & Tr1 & Tr2 & Tr3 & Tr4 & Tr5\\\\\n",
       "\\hline\n",
       "\ta & 1 & 1 & 1 & 0 & 1\\\\\n",
       "\tb & 1 & 1 & 1 & 0 & 1\\\\\n",
       "\tc & 1 & 0 & 0 & 1 & 0\\\\\n",
       "\td & 0 & 0 & 1 & 0 & 1\\\\\n",
       "\te & 0 & 0 & 0 & 1 & 1\\\\\n",
       "\\end{tabular}\n"
      ],
      "text/markdown": [
       "1. 1\n",
       "2. 1\n",
       "3. 1\n",
       "4. 0\n",
       "5. 0\n",
       "6. 1\n",
       "7. 1\n",
       "8. 0\n",
       "9. 0\n",
       "10. 0\n",
       "11. 1\n",
       "12. 1\n",
       "13. 0\n",
       "14. 1\n",
       "15. 0\n",
       "16. 0\n",
       "17. 0\n",
       "18. 1\n",
       "19. 0\n",
       "20. 1\n",
       "21. 1\n",
       "22. 1\n",
       "23. 0\n",
       "24. 1\n",
       "25. 1\n",
       "\n",
       "\n"
      ],
      "text/plain": [
       "  Tr1 Tr2 Tr3 Tr4 Tr5\n",
       "a   1   1   1   0   1\n",
       "b   1   1   1   0   1\n",
       "c   1   0   0   1   0\n",
       "d   0   0   1   0   1\n",
       "e   0   0   0   1   1"
      ]
     },
     "metadata": {},
     "output_type": "display_data"
    }
   ],
   "source": [
    "dimnames(a_matrix) <-  list(\n",
    "    c(\"a\",\"b\",\"c\",\"d\",\"e\"),\n",
    "    paste(\"Tr\",c(1:5), sep = \"\"))\n",
    "\n",
    "a_matrix"
   ]
  },
  {
   "cell_type": "markdown",
   "metadata": {
    "nbpresent": {
     "id": "6617bf04-aceb-4696-9b31-41d6a6ff0d40"
    }
   },
   "source": [
    " - Transactions : count of rows \n",
    "  - 사용자의 수라고 보면 될 것같다. ( 위의 데이터에 )\n",
    " - Items : count of columns \n",
    "  - 아이템 수"
   ]
  },
  {
   "cell_type": "code",
   "execution_count": 12,
   "metadata": {
    "collapsed": false,
    "nbpresent": {
     "id": "744461f9-a7c1-4d40-b199-3d02b771e72d"
    }
   },
   "outputs": [
    {
     "data": {
      "text/plain": [
       "transactions in sparse format with\n",
       " 5 transactions (rows) and\n",
       " 5 items (columns)"
      ]
     },
     "metadata": {},
     "output_type": "display_data"
    }
   ],
   "source": [
    "trans2 <-  as(a_matrix, \"transactions\")\n",
    "trans2 "
   ]
  },
  {
   "cell_type": "markdown",
   "metadata": {
    "nbpresent": {
     "id": "93890841-9584-4bce-a04a-ec12ec61303a"
    }
   },
   "source": [
    " - 각 사용자가 포함한 Item을 list형태로 ( R의 list는 아님 ) 만들어 놓음. 집합 형태로 "
   ]
  },
  {
   "cell_type": "code",
   "execution_count": 13,
   "metadata": {
    "collapsed": false,
    "nbpresent": {
     "id": "4f95bb6d-73fb-451e-a109-6bb40c2a5060"
    }
   },
   "outputs": [
    {
     "name": "stdout",
     "output_type": "stream",
     "text": [
      "    items             transactionID\n",
      "[1] {Tr1,Tr2,Tr3,Tr5} a            \n",
      "[2] {Tr1,Tr2,Tr3,Tr5} b            \n",
      "[3] {Tr1,Tr4}         c            \n",
      "[4] {Tr3,Tr5}         d            \n",
      "[5] {Tr4,Tr5}         e            \n"
     ]
    }
   ],
   "source": [
    "inspect(trans2) "
   ]
  },
  {
   "cell_type": "markdown",
   "metadata": {
    "nbpresent": {
     "id": "993f8a69-2da3-4fd7-9f9c-655ebd163460"
    }
   },
   "source": [
    "## Example of transaction from data.frame"
   ]
  },
  {
   "cell_type": "code",
   "execution_count": 14,
   "metadata": {
    "collapsed": true,
    "nbpresent": {
     "id": "0170682a-a7da-4cc0-b2e5-362b78829316"
    }
   },
   "outputs": [],
   "source": [
    "a_df <- data.frame(\n",
    "    age = as.factor(c(6,8,7,6,9,5)), \n",
    "    grade = as.factor(c(1,3,1,1,4,1)))  "
   ]
  },
  {
   "cell_type": "code",
   "execution_count": 15,
   "metadata": {
    "collapsed": false,
    "nbpresent": {
     "id": "bcafd2d4-8c7c-4d8e-89bc-ad8807e68239"
    }
   },
   "outputs": [
    {
     "data": {
      "text/html": [
       "<table>\n",
       "<thead><tr><th></th><th scope=col>age</th><th scope=col>grade</th></tr></thead>\n",
       "<tbody>\n",
       "\t<tr><th scope=row>1</th><td>6</td><td>1</td></tr>\n",
       "\t<tr><th scope=row>2</th><td>8</td><td>3</td></tr>\n",
       "\t<tr><th scope=row>3</th><td>7</td><td>1</td></tr>\n",
       "\t<tr><th scope=row>4</th><td>6</td><td>1</td></tr>\n",
       "\t<tr><th scope=row>5</th><td>9</td><td>4</td></tr>\n",
       "\t<tr><th scope=row>6</th><td>5</td><td>1</td></tr>\n",
       "</tbody>\n",
       "</table>\n"
      ],
      "text/latex": [
       "\\begin{tabular}{r|ll}\n",
       "  & age & grade\\\\\n",
       "\\hline\n",
       "\t1 & 6 & 1\\\\\n",
       "\t2 & 8 & 3\\\\\n",
       "\t3 & 7 & 1\\\\\n",
       "\t4 & 6 & 1\\\\\n",
       "\t5 & 9 & 4\\\\\n",
       "\t6 & 5 & 1\\\\\n",
       "\\end{tabular}\n"
      ],
      "text/plain": [
       "  age grade\n",
       "1   6     1\n",
       "2   8     3\n",
       "3   7     1\n",
       "4   6     1\n",
       "5   9     4\n",
       "6   5     1"
      ]
     },
     "metadata": {},
     "output_type": "display_data"
    }
   ],
   "source": [
    "a_df"
   ]
  },
  {
   "cell_type": "code",
   "execution_count": 16,
   "metadata": {
    "collapsed": false,
    "nbpresent": {
     "id": "1e66b90d-18cf-4a4a-a536-c3f5384ecab4"
    }
   },
   "outputs": [
    {
     "name": "stdout",
     "output_type": "stream",
     "text": [
      "    items           transactionID\n",
      "[1] {age=6,grade=1} 1            \n",
      "[2] {age=8,grade=3} 2            \n",
      "[3] {age=7,grade=1} 3            \n",
      "[4] {age=6,grade=1} 4            \n",
      "[5] {age=9,grade=4} 5            \n",
      "[6] {age=5,grade=1} 6            \n"
     ]
    }
   ],
   "source": [
    "trans3 <- as(a_df, \"transactions\") \n",
    "inspect(trans3)"
   ]
  },
  {
   "cell_type": "code",
   "execution_count": 17,
   "metadata": {
    "collapsed": false,
    "nbpresent": {
     "id": "a7a816cc-735d-4319-9e9b-34edf921ed03"
    }
   },
   "outputs": [
    {
     "data": {},
     "metadata": {},
     "output_type": "display_data"
    },
    {
     "data": {
      "image/png": "[encoded data removed]",
      "text/plain": [
       "plot without title"
      ]
     },
     "metadata": {},
     "output_type": "display_data"
    }
   ],
   "source": [
    "options(repr.plot.width=4,repr.plot.height=3)\n",
    "image(trans3)"
   ]
  },
  {
   "cell_type": "markdown",
   "metadata": {
    "nbpresent": {
     "id": "bd8ef41d-a43f-4d38-92f5-83e3fea4c2c0"
    }
   },
   "source": [
    "# Continue Lectures"
   ]
  },
  {
   "cell_type": "code",
   "execution_count": 18,
   "metadata": {
    "collapsed": false,
    "nbpresent": {
     "id": "2013bdc5-f7a8-47c8-9ef4-55449b573978"
    }
   },
   "outputs": [
    {
     "name": "stdout",
     "output_type": "stream",
     "text": [
      "    items                                                             \n",
      "[1] {니트단품,스포츠,영캐주얼,유니캐주얼,유아동복,장신구,캐릭터캐주얼}\n",
      "[2] {문화완구,섬유,스포츠,엘레강스캐주얼,영캐주얼,유아동복,타운모피}  \n",
      "    transactionID\n",
      "[1] 10070        \n",
      "[2] 10139        \n"
     ]
    }
   ],
   "source": [
    "inspect(trans[1:2])"
   ]
  },
  {
   "cell_type": "markdown",
   "metadata": {
    "nbpresent": {
     "id": "8044b720-3044-4d5f-a154-94b1dca47b55"
    }
   },
   "source": [
    " - size(trans) each transaction length"
   ]
  },
  {
   "cell_type": "code",
   "execution_count": 19,
   "metadata": {
    "collapsed": false,
    "nbpresent": {
     "id": "ff708213-391a-4d78-86b1-7c3fa4fb1104"
    }
   },
   "outputs": [
    {
     "data": {
      "text/html": [
       "<table>\n",
       "<thead><tr><th></th><th scope=col>transactionID</th></tr></thead>\n",
       "<tbody>\n",
       "\t<tr><th scope=row>84</th><td>15968</td></tr>\n",
       "\t<tr><th scope=row>420</th><td>42322</td></tr>\n",
       "</tbody>\n",
       "</table>\n"
      ],
      "text/latex": [
       "\\begin{tabular}{r|l}\n",
       "  & transactionID\\\\\n",
       "\\hline\n",
       "\t84 & 15968\\\\\n",
       "\t420 & 42322\\\\\n",
       "\\end{tabular}\n"
      ],
      "text/plain": [
       "    transactionID\n",
       "84          15968\n",
       "420         42322"
      ]
     },
     "metadata": {},
     "output_type": "display_data"
    }
   ],
   "source": [
    "transactionInfo(trans[size(trans) > 20])"
   ]
  },
  {
   "cell_type": "code",
   "execution_count": 20,
   "metadata": {
    "collapsed": false,
    "nbpresent": {
     "id": "8c8f9a3e-d918-4ea4-897a-e6647a4a3fc1"
    }
   },
   "outputs": [
    {
     "data": {},
     "metadata": {},
     "output_type": "display_data"
    },
    {
     "data": {
      "image/png": "[encoded data removed]",
      "text/plain": [
       "plot without title"
      ]
     },
     "metadata": {},
     "output_type": "display_data"
    }
   ],
   "source": [
    "image(trans[1:5])"
   ]
  },
  {
   "cell_type": "code",
   "execution_count": 21,
   "metadata": {
    "collapsed": false,
    "nbpresent": {
     "id": "e62ff48d-5f0e-4ba9-85bc-761b7889c704"
    }
   },
   "outputs": [
    {
     "data": {},
     "metadata": {},
     "output_type": "display_data"
    },
    {
     "data": {
      "image/png": "[encoded data removed]",
      "text/plain": [
       "plot without title"
      ]
     },
     "metadata": {},
     "output_type": "display_data"
    }
   ],
   "source": [
    "options(repr.plot.width=4,repr.plot.height=5)\n",
    "image(sample(trans, 100, replace = FALSE), main = \"matrix diagram\") # Sampling "
   ]
  },
  {
   "cell_type": "markdown",
   "metadata": {
    "nbpresent": {
     "id": "4d9b5889-f96b-410f-a473-06c59fc89653"
    }
   },
   "source": [
    " - Table()과 동일한 결과를 출력한다."
   ]
  },
  {
   "cell_type": "code",
   "execution_count": 22,
   "metadata": {
    "collapsed": false,
    "nbpresent": {
     "id": "c977d44e-4977-47bc-ae67-1ae5109b39b7"
    }
   },
   "outputs": [
    {
     "data": {
      "text/html": [
       "<table>\n",
       "<thead><tr><th scope=col>가구</th><th scope=col>가전</th><th scope=col>기타</th><th scope=col>니트단품</th><th scope=col>도자기크리스탈</th><th scope=col>디자이너부띠끄</th><th scope=col>문화완구</th><th scope=col>생활용품</th><th scope=col>섬유</th><th scope=col>수입명품</th><th scope=col>...</th><th scope=col>유아동복</th><th scope=col>장신구</th><th scope=col>정장셔츠</th><th scope=col>조리욕실</th><th scope=col>침구수예</th><th scope=col>캐릭터캐주얼</th><th scope=col>타운모피</th><th scope=col>트래디셔널캐주얼</th><th scope=col>피혁</th><th scope=col>행사장</th></tr></thead>\n",
       "<tbody>\n",
       "\t<tr><td>41 </td><td>140</td><td>95 </td><td>258</td><td>105</td><td>74 </td><td>158</td><td>3  </td><td>259</td><td>107</td><td>...</td><td>222</td><td>178</td><td>149</td><td>165</td><td>74 </td><td>212</td><td>33 </td><td>189</td><td>323</td><td>13 </td></tr>\n",
       "</tbody>\n",
       "</table>\n"
      ],
      "text/latex": [
       "\\begin{tabular}{llllllllllllllllllllllll}\n",
       " 가구 & 가전 & 기타 & 니트단품 & 도자기크리스탈 & 디자이너부띠끄 & 문화완구 & 생활용품 & 섬유 & 수입명품 & ... & 유아동복 & 장신구 & 정장셔츠 & 조리욕실 & 침구수예 & 캐릭터캐주얼 & 타운모피 & 트래디셔널캐주얼 & 피혁 & 행사장\\\\\n",
       "\\hline\n",
       "\t 41  & 140 & 95  & 258 & 105 & 74  & 158 & 3   & 259 & 107 & ... & 222 & 178 & 149 & 165 & 74  & 212 & 33  & 189 & 323 & 13 \\\\\n",
       "\\end{tabular}\n"
      ],
      "text/markdown": [
       "1. 41\n",
       "2. 140\n",
       "3. 95\n",
       "4. 258\n",
       "5. 105\n",
       "6. 74\n",
       "7. 158\n",
       "8. 3\n",
       "9. 259\n",
       "10. 107\n",
       "11. 281\n",
       "12. 163\n",
       "13. 235\n",
       "14. 266\n",
       "15. 222\n",
       "16. 178\n",
       "17. 149\n",
       "18. 165\n",
       "19. 74\n",
       "20. 212\n",
       "21. 33\n",
       "22. 189\n",
       "23. 323\n",
       "24. 13\n",
       "\n",
       "\n"
      ],
      "text/plain": [
       "     가구 가전  기타 니트단품 도자기크리스탈 디자이너부띠끄 문화완구 생활용품\n",
       "[1,] \"41\" \"140\" \"95\" \"258\"    \"105\"          \"74\"           \"158\"    \"3\"     \n",
       "     섬유  수입명품 ...   유아동복 장신구 정장셔츠 조리욕실 침구수예\n",
       "[1,] \"259\" \"107\"    \"...\" \"222\"    \"178\"  \"149\"    \"165\"    \"74\"    \n",
       "     캐릭터캐주얼 타운모피 트래디셔널캐주얼 피혁  행사장\n",
       "[1,] \"212\"        \"33\"     \"189\"            \"323\" \"13\"  "
      ]
     },
     "metadata": {},
     "output_type": "display_data"
    }
   ],
   "source": [
    "t(itemFrequency(trans, type=\"absolute\"))"
   ]
  },
  {
   "cell_type": "code",
   "execution_count": 23,
   "metadata": {
    "collapsed": false,
    "nbpresent": {
     "id": "e092867c-50ee-4d71-bb42-5ac08d8071b7"
    }
   },
   "outputs": [
    {
     "data": {
      "text/plain": [
       "\n",
       "            가구             가전             기타         니트단품 \n",
       "              41              140               95              258 \n",
       "  도자기크리스탈   디자이너부띠끄         문화완구         생활용품 \n",
       "             105               74              158                3 \n",
       "            섬유         수입명품           스포츠   엘레강스캐주얼 \n",
       "             259              107              281              163 \n",
       "        영캐주얼       유니캐주얼         유아동복           장신구 \n",
       "             235              266              222              178 \n",
       "        정장셔츠         조리욕실         침구수예     캐릭터캐주얼 \n",
       "             149              165               74              212 \n",
       "        타운모피 트래디셔널캐주얼             피혁           행사장 \n",
       "              33              189              323               13 "
      ]
     },
     "metadata": {},
     "output_type": "display_data"
    }
   ],
   "source": [
    "table(tr.filter$corner)"
   ]
  },
  {
   "cell_type": "code",
   "execution_count": 24,
   "metadata": {
    "collapsed": false,
    "nbpresent": {
     "id": "8eda663a-480b-4190-8556-9c0a5224f47d"
    }
   },
   "outputs": [
    {
     "data": {
      "text/html": [
       "<table>\n",
       "<thead><tr><th scope=col>피혁</th><th scope=col>스포츠</th><th scope=col>유니캐주얼</th><th scope=col>섬유</th><th scope=col>니트단품</th><th scope=col>영캐주얼</th><th scope=col>유아동복</th><th scope=col>캐릭터캐주얼</th><th scope=col>트래디셔널캐주얼</th><th scope=col>장신구</th><th scope=col>...</th><th scope=col>가전</th><th scope=col>수입명품</th><th scope=col>도자기크리스탈</th><th scope=col>기타</th><th scope=col>디자이너부띠끄</th><th scope=col>침구수예</th><th scope=col>가구</th><th scope=col>타운모피</th><th scope=col>행사장</th><th scope=col>생활용품</th></tr></thead>\n",
       "<tbody>\n",
       "\t<tr><td>0.66</td><td>0.58</td><td>0.55</td><td>0.53</td><td>0.53</td><td>0.48</td><td>0.46</td><td>0.44</td><td>0.39</td><td>0.37</td><td>... </td><td>0.29</td><td>0.22</td><td>0.22</td><td>0.2 </td><td>0.15</td><td>0.15</td><td>0.08</td><td>0.07</td><td>0.03</td><td>0.01</td></tr>\n",
       "</tbody>\n",
       "</table>\n"
      ],
      "text/latex": [
       "\\begin{tabular}{llllllllllllllllllllllll}\n",
       " 피혁 & 스포츠 & 유니캐주얼 & 섬유 & 니트단품 & 영캐주얼 & 유아동복 & 캐릭터캐주얼 & 트래디셔널캐주얼 & 장신구 & ... & 가전 & 수입명품 & 도자기크리스탈 & 기타 & 디자이너부띠끄 & 침구수예 & 가구 & 타운모피 & 행사장 & 생활용품\\\\\n",
       "\\hline\n",
       "\t 0.66 & 0.58 & 0.55 & 0.53 & 0.53 & 0.48 & 0.46 & 0.44 & 0.39 & 0.37 & ...  & 0.29 & 0.22 & 0.22 & 0.2  & 0.15 & 0.15 & 0.08 & 0.07 & 0.03 & 0.01\\\\\n",
       "\\end{tabular}\n"
      ],
      "text/markdown": [
       "1. 0.66\n",
       "2. 0.58\n",
       "3. 0.55\n",
       "4. 0.53\n",
       "5. 0.53\n",
       "6. 0.48\n",
       "7. 0.46\n",
       "8. 0.44\n",
       "9. 0.39\n",
       "10. 0.37\n",
       "11. 0.34\n",
       "12. 0.33\n",
       "13. 0.32\n",
       "14. 0.31\n",
       "15. 0.29\n",
       "16. 0.22\n",
       "17. 0.22\n",
       "18. 0.2\n",
       "19. 0.15\n",
       "20. 0.15\n",
       "21. 0.08\n",
       "22. 0.07\n",
       "23. 0.03\n",
       "24. 0.01\n",
       "\n",
       "\n"
      ],
      "text/plain": [
       "     피혁   스포츠 유니캐주얼 섬유   니트단품 영캐주얼 유아동복 캐릭터캐주얼\n",
       "[1,] \"0.66\" \"0.58\" \"0.55\"     \"0.53\" \"0.53\"   \"0.48\"   \"0.46\"   \"0.44\"      \n",
       "     트래디셔널캐주얼 장신구 ...   가전   수입명품 도자기크리스탈 기타 \n",
       "[1,] \"0.39\"           \"0.37\" \"...\" \"0.29\" \"0.22\"   \"0.22\"         \"0.2\"\n",
       "     디자이너부띠끄 침구수예 가구   타운모피 행사장 생활용품\n",
       "[1,] \"0.15\"         \"0.15\"   \"0.08\" \"0.07\"   \"0.03\" \"0.01\"  "
      ]
     },
     "metadata": {},
     "output_type": "display_data"
    }
   ],
   "source": [
    "t(round(itemFrequency(trans)[order(itemFrequency(trans), decreasing = TRUE)],2))"
   ]
  },
  {
   "cell_type": "code",
   "execution_count": 34,
   "metadata": {
    "collapsed": false,
    "nbpresent": {
     "id": "784a6aa3-ed18-40c6-b344-37797df77808"
    }
   },
   "outputs": [
    {
     "data": {
      "image/png": "[encoded data removed]",
      "text/plain": [
       "plot without title"
      ]
     },
     "metadata": {},
     "output_type": "display_data"
    }
   ],
   "source": [
    "options(repr.plot.width=4,repr.plot.height=4)\n",
    "itemFrequencyPlot(trans, support=0.2, cex.names=0.8,family = \"HYsanB\")"
   ]
  },
  {
   "cell_type": "code",
   "execution_count": 26,
   "metadata": {
    "collapsed": false,
    "nbpresent": {
     "id": "40b54b1a-20ae-4368-87c8-739504dff37b"
    }
   },
   "outputs": [
    {
     "data": {
      "image/png": "[encoded data removed]",
      "text/plain": [
       "Plot with title \"support top 20 items\""
      ]
     },
     "metadata": {},
     "output_type": "display_data"
    }
   ],
   "source": [
    "itemFrequencyPlot(trans, topN = 20, main = \"support top 20 items\")"
   ]
  },
  {
   "cell_type": "markdown",
   "metadata": {
    "nbpresent": {
     "id": "d69f548c-2fcd-42cf-b960-e7daa6302fb6"
    }
   },
   "source": [
    " - rules <- apriori(trans, parameter=list(support=0.2, confidence=0.8), appearance=list(rhs=\"스포츠\",default=\"lhs\")) \n",
    " - 결과에 스포츠만 만든다."
   ]
  },
  {
   "cell_type": "code",
   "execution_count": 27,
   "metadata": {
    "collapsed": false,
    "nbpresent": {
     "id": "849ab5dc-3d82-4153-93b1-439dcfde83dd"
    }
   },
   "outputs": [
    {
     "name": "stdout",
     "output_type": "stream",
     "text": [
      "Apriori\n",
      "\n",
      "Parameter specification:\n",
      " confidence minval smax arem  aval originalSupport maxtime support minlen\n",
      "        0.8    0.1    1 none FALSE            TRUE       5     0.2      1\n",
      " maxlen target   ext\n",
      "     10  rules FALSE\n",
      "\n",
      "Algorithmic control:\n",
      " filter tree heap memopt load sort verbose\n",
      "    0.1 TRUE TRUE  FALSE TRUE    2    TRUE\n",
      "\n",
      "Absolute minimum support count: 97 \n",
      "\n",
      "set item appearances ...[0 item(s)] done [0.00s].\n",
      "set transactions ...[24 item(s), 487 transaction(s)] done [0.00s].\n",
      "sorting and recoding items ... [17 item(s)] done [0.00s].\n",
      "creating transaction tree ... done [0.00s].\n",
      "checking subsets of size 1 2 3 4 5 done [0.00s].\n",
      "writing ... [70 rule(s)] done [0.00s].\n",
      "creating S4 object  ... done [0.00s].\n"
     ]
    },
    {
     "data": {
      "text/plain": [
       "set of 70 rules\n",
       "\n",
       "rule length distribution (lhs + rhs):sizes\n",
       " 2  3  4 \n",
       " 1 40 29 \n",
       "\n",
       "   Min. 1st Qu.  Median    Mean 3rd Qu.    Max. \n",
       "    2.0     3.0     3.0     3.4     4.0     4.0 \n",
       "\n",
       "summary of quality measures:\n",
       "    support         confidence          lift      \n",
       " Min.   :0.2012   Min.   :0.8000   Min.   :1.233  \n",
       " 1st Qu.:0.2115   1st Qu.:0.8182   1st Qu.:1.283  \n",
       " Median :0.2259   Median :0.8413   Median :1.353  \n",
       " Mean   :0.2341   Mean   :0.8444   Mean   :1.383  \n",
       " 3rd Qu.:0.2464   3rd Qu.:0.8624   3rd Qu.:1.463  \n",
       " Max.   :0.3265   Max.   :0.9160   Max.   :1.696  \n",
       "\n",
       "mining info:\n",
       "  data ntransactions support confidence\n",
       " trans           487     0.2        0.8"
      ]
     },
     "metadata": {},
     "output_type": "display_data"
    }
   ],
   "source": [
    "rules <- apriori(trans, parameter=list(support=0.2, confidence=0.8))\n",
    "summary(rules)"
   ]
  },
  {
   "cell_type": "markdown",
   "metadata": {
    "nbpresent": {
     "id": "65b45bfe-b513-4d05-9269-e6653bfae99d"
    }
   },
   "source": [
    " rule1 | rule2 | rule3\n",
    " ------|-------|------\n",
    " 2 | 3 | 4\n",
    " 1 | 40 | 29\n",
    " a->b |a+b->c |a+b+c->d"
   ]
  },
  {
   "cell_type": "code",
   "execution_count": 28,
   "metadata": {
    "collapsed": false,
    "nbpresent": {
     "id": "419171e3-f0bf-4274-aaa6-e0af46697e39"
    },
    "scrolled": true
   },
   "outputs": [
    {
     "name": "stdout",
     "output_type": "stream",
     "text": [
      "     lhs                                     rhs          support   confidence\n",
      "[1]  {트래디셔널캐주얼}                   => {피혁}       0.3264887 0.8412698 \n",
      "[2]  {스포츠,엘레강스캐주얼}              => {피혁}       0.2012320 0.8596491 \n",
      "[3]  {스포츠,조리욕실}                    => {피혁}       0.2053388 0.8403361 \n",
      "[4]  {조리욕실,피혁}                      => {스포츠}     0.2053388 0.8196721 \n",
      "[5]  {영캐주얼,장신구}                    => {피혁}       0.2012320 0.8596491 \n",
      "[6]  {유니캐주얼,장신구}                  => {피혁}       0.2012320 0.8521739 \n",
      "[7]  {니트단품,장신구}                    => {섬유}       0.2032854 0.8114754 \n",
      "[8]  {니트단품,장신구}                    => {피혁}       0.2114990 0.8442623 \n",
      "[9]  {섬유,장신구}                        => {피혁}       0.2156057 0.8333333 \n",
      "[10] {스포츠,장신구}                      => {피혁}       0.2114990 0.8306452 \n",
      "[11] {영캐주얼,트래디셔널캐주얼}          => {유니캐주얼} 0.2053388 0.8264463 \n",
      "[12] {영캐주얼,트래디셔널캐주얼}          => {니트단품}   0.2094456 0.8429752 \n",
      "[13] {영캐주얼,트래디셔널캐주얼}          => {스포츠}     0.2053388 0.8264463 \n",
      "[14] {영캐주얼,트래디셔널캐주얼}          => {피혁}       0.2197125 0.8842975 \n",
      "[15] {유니캐주얼,트래디셔널캐주얼}        => {스포츠}     0.2299795 0.8115942 \n",
      "[16] {유니캐주얼,트래디셔널캐주얼}        => {피혁}       0.2464066 0.8695652 \n",
      "[17] {니트단품,트래디셔널캐주얼}          => {섬유}       0.2135524 0.8062016 \n",
      "[18] {니트단품,트래디셔널캐주얼}          => {스포츠}     0.2156057 0.8139535 \n",
      "[19] {니트단품,트래디셔널캐주얼}          => {피혁}       0.2381930 0.8992248 \n",
      "[20] {섬유,트래디셔널캐주얼}              => {스포츠}     0.2217659 0.8000000 \n",
      "[21] {섬유,트래디셔널캐주얼}              => {피혁}       0.2340862 0.8444444 \n",
      "[22] {스포츠,트래디셔널캐주얼}            => {피혁}       0.2628337 0.8951049 \n",
      "[23] {트래디셔널캐주얼,피혁}              => {스포츠}     0.2628337 0.8050314 \n",
      "[24] {섬유,유아동복}                      => {피혁}       0.2114990 0.8174603 \n",
      "[25] {영캐주얼,캐릭터캐주얼}              => {피혁}       0.2320329 0.8759690 \n",
      "[26] {유니캐주얼,캐릭터캐주얼}            => {피혁}       0.2299795 0.8358209 \n",
      "[27] {니트단품,캐릭터캐주얼}              => {피혁}       0.2464066 0.8633094 \n",
      "[28] {섬유,캐릭터캐주얼}                  => {피혁}       0.2505133 0.8413793 \n",
      "[29] {스포츠,캐릭터캐주얼}                => {피혁}       0.2464066 0.9160305 \n",
      "[30] {스포츠,영캐주얼}                    => {유니캐주얼} 0.2710472 0.8198758 \n",
      "[31] {영캐주얼,유니캐주얼}                => {피혁}       0.2956879 0.8421053 \n",
      "[32] {섬유,영캐주얼}                      => {니트단품}   0.2546201 0.8000000 \n",
      "[33] {니트단품,영캐주얼}                  => {피혁}       0.2874743 0.8484848 \n",
      "[34] {섬유,영캐주얼}                      => {피혁}       0.2689938 0.8451613 \n",
      "[35] {스포츠,영캐주얼}                    => {피혁}       0.2813142 0.8509317 \n",
      "[36] {니트단품,유니캐주얼}                => {피혁}       0.2813142 0.8303030 \n",
      "[37] {섬유,유니캐주얼}                    => {피혁}       0.2895277 0.8294118 \n",
      "[38] {스포츠,유니캐주얼}                  => {피혁}       0.3223819 0.8532609 \n",
      "[39] {니트단품,섬유}                      => {피혁}       0.2977413 0.8479532 \n",
      "[40] {니트단품,스포츠}                    => {피혁}       0.2936345 0.8461538 \n",
      "[41] {섬유,스포츠}                        => {피혁}       0.3100616 0.8388889 \n",
      "[42] {스포츠,유니캐주얼,트래디셔널캐주얼} => {피혁}       0.2094456 0.9107143 \n",
      "[43] {유니캐주얼,트래디셔널캐주얼,피혁}   => {스포츠}     0.2094456 0.8500000 \n",
      "[44] {섬유,영캐주얼,유니캐주얼}           => {니트단품}   0.2032854 0.8250000 \n",
      "[45] {니트단품,섬유,유니캐주얼}           => {영캐주얼}   0.2032854 0.8181818 \n",
      "[46] {니트단품,영캐주얼,유니캐주얼}       => {스포츠}     0.2114990 0.8240000 \n",
      "[47] {니트단품,스포츠,영캐주얼}           => {유니캐주얼} 0.2114990 0.8442623 \n",
      "[48] {니트단품,스포츠,유니캐주얼}         => {영캐주얼}   0.2114990 0.8174603 \n",
      "[49] {니트단품,영캐주얼,유니캐주얼}       => {피혁}       0.2238193 0.8720000 \n",
      "[50] {섬유,영캐주얼,유니캐주얼}           => {스포츠}     0.2032854 0.8250000 \n",
      "[51] {섬유,스포츠,영캐주얼}               => {유니캐주얼} 0.2032854 0.8181818 \n",
      "[52] {섬유,영캐주얼,유니캐주얼}           => {피혁}       0.2197125 0.8916667 \n",
      "[53] {섬유,영캐주얼,피혁}                 => {유니캐주얼} 0.2197125 0.8167939 \n",
      "[54] {스포츠,영캐주얼,유니캐주얼}         => {피혁}       0.2381930 0.8787879 \n",
      "[55] {영캐주얼,유니캐주얼,피혁}           => {스포츠}     0.2381930 0.8055556 \n",
      "[56] {스포츠,영캐주얼,피혁}               => {유니캐주얼} 0.2381930 0.8467153 \n",
      "[57] {니트단품,스포츠,영캐주얼}           => {섬유}       0.2012320 0.8032787 \n",
      "[58] {섬유,스포츠,영캐주얼}               => {니트단품}   0.2012320 0.8099174 \n",
      "[59] {니트단품,섬유,영캐주얼}             => {피혁}       0.2258727 0.8870968 \n",
      "[60] {섬유,영캐주얼,피혁}                 => {니트단품}   0.2258727 0.8396947 \n",
      "[61] {니트단품,스포츠,영캐주얼}           => {피혁}       0.2217659 0.8852459 \n",
      "[62] {섬유,스포츠,영캐주얼}               => {피혁}       0.2197125 0.8842975 \n",
      "[63] {섬유,영캐주얼,피혁}                 => {스포츠}     0.2197125 0.8167939 \n",
      "[64] {니트단품,섬유,유니캐주얼}           => {피혁}       0.2258727 0.9090909 \n",
      "[65] {니트단품,유니캐주얼,피혁}           => {섬유}       0.2258727 0.8029197 \n",
      "[66] {니트단품,스포츠,유니캐주얼}         => {피혁}       0.2279261 0.8809524 \n",
      "[67] {니트단품,유니캐주얼,피혁}           => {스포츠}     0.2279261 0.8102190 \n",
      "[68] {섬유,스포츠,유니캐주얼}             => {피혁}       0.2361396 0.8914729 \n",
      "[69] {섬유,유니캐주얼,피혁}               => {스포츠}     0.2361396 0.8156028 \n",
      "[70] {니트단품,섬유,스포츠}               => {피혁}       0.2320329 0.9040000 \n",
      "     lift    \n",
      "[1]  1.268416\n",
      "[2]  1.296127\n",
      "[3]  1.267008\n",
      "[4]  1.420571\n",
      "[5]  1.296127\n",
      "[6]  1.284857\n",
      "[7]  1.525824\n",
      "[8]  1.272928\n",
      "[9]  1.256450\n",
      "[10] 1.252397\n",
      "[11] 1.513080\n",
      "[12] 1.591197\n",
      "[13] 1.432311\n",
      "[14] 1.333291\n",
      "[15] 1.406571\n",
      "[16] 1.311078\n",
      "[17] 1.515908\n",
      "[18] 1.410660\n",
      "[19] 1.355797\n",
      "[20] 1.386477\n",
      "[21] 1.273203\n",
      "[22] 1.349585\n",
      "[23] 1.395197\n",
      "[24] 1.232518\n",
      "[25] 1.320733\n",
      "[26] 1.260201\n",
      "[27] 1.301646\n",
      "[28] 1.268581\n",
      "[29] 1.381136\n",
      "[30] 1.501051\n",
      "[31] 1.269676\n",
      "[32] 1.510078\n",
      "[33] 1.279294\n",
      "[34] 1.274283\n",
      "[35] 1.282984\n",
      "[36] 1.251881\n",
      "[37] 1.250537\n",
      "[38] 1.286495\n",
      "[39] 1.278493\n",
      "[40] 1.275780\n",
      "[41] 1.264826\n",
      "[42] 1.373120\n",
      "[43] 1.473132\n",
      "[44] 1.557267\n",
      "[45] 1.695551\n",
      "[46] 1.428071\n",
      "[47] 1.545698\n",
      "[48] 1.694056\n",
      "[49] 1.314749\n",
      "[50] 1.429804\n",
      "[51] 1.497949\n",
      "[52] 1.344401\n",
      "[53] 1.495408\n",
      "[54] 1.324984\n",
      "[55] 1.396105\n",
      "[56] 1.550189\n",
      "[57] 1.510412\n",
      "[58] 1.528797\n",
      "[59] 1.337511\n",
      "[60] 1.585005\n",
      "[61] 1.334721\n",
      "[62] 1.333291\n",
      "[63] 1.415582\n",
      "[64] 1.370673\n",
      "[65] 1.509737\n",
      "[66] 1.328247\n",
      "[67] 1.404187\n",
      "[68] 1.344109\n",
      "[69] 1.413518\n",
      "[70] 1.362997\n"
     ]
    }
   ],
   "source": [
    "inspect(rules)"
   ]
  },
  {
   "cell_type": "code",
   "execution_count": 29,
   "metadata": {
    "collapsed": false,
    "nbpresent": {
     "id": "2b4eaec7-d096-4916-80cd-b7abdb574154"
    }
   },
   "outputs": [
    {
     "name": "stdout",
     "output_type": "stream",
     "text": [
      "     lhs                                   rhs          support   confidence\n",
      "[1]  {니트단품,섬유,유니캐주얼}         => {영캐주얼}   0.2032854 0.8181818 \n",
      "[2]  {니트단품,스포츠,유니캐주얼}       => {영캐주얼}   0.2114990 0.8174603 \n",
      "[3]  {영캐주얼,트래디셔널캐주얼}        => {니트단품}   0.2094456 0.8429752 \n",
      "[4]  {섬유,영캐주얼,피혁}               => {니트단품}   0.2258727 0.8396947 \n",
      "[5]  {섬유,영캐주얼,유니캐주얼}         => {니트단품}   0.2032854 0.8250000 \n",
      "[6]  {스포츠,영캐주얼,피혁}             => {유니캐주얼} 0.2381930 0.8467153 \n",
      "[7]  {니트단품,스포츠,영캐주얼}         => {유니캐주얼} 0.2114990 0.8442623 \n",
      "[8]  {섬유,스포츠,영캐주얼}             => {니트단품}   0.2012320 0.8099174 \n",
      "[9]  {니트단품,장신구}                  => {섬유}       0.2032854 0.8114754 \n",
      "[10] {니트단품,트래디셔널캐주얼}        => {섬유}       0.2135524 0.8062016 \n",
      "[11] {영캐주얼,트래디셔널캐주얼}        => {유니캐주얼} 0.2053388 0.8264463 \n",
      "[12] {니트단품,스포츠,영캐주얼}         => {섬유}       0.2012320 0.8032787 \n",
      "[13] {섬유,영캐주얼}                    => {니트단품}   0.2546201 0.8000000 \n",
      "[14] {니트단품,유니캐주얼,피혁}         => {섬유}       0.2258727 0.8029197 \n",
      "[15] {스포츠,영캐주얼}                  => {유니캐주얼} 0.2710472 0.8198758 \n",
      "[16] {섬유,스포츠,영캐주얼}             => {유니캐주얼} 0.2032854 0.8181818 \n",
      "[17] {섬유,영캐주얼,피혁}               => {유니캐주얼} 0.2197125 0.8167939 \n",
      "[18] {유니캐주얼,트래디셔널캐주얼,피혁} => {스포츠}     0.2094456 0.8500000 \n",
      "[19] {영캐주얼,트래디셔널캐주얼}        => {스포츠}     0.2053388 0.8264463 \n",
      "[20] {섬유,영캐주얼,유니캐주얼}         => {스포츠}     0.2032854 0.8250000 \n",
      "[21] {니트단품,영캐주얼,유니캐주얼}     => {스포츠}     0.2114990 0.8240000 \n",
      "[22] {조리욕실,피혁}                    => {스포츠}     0.2053388 0.8196721 \n",
      "[23] {섬유,영캐주얼,피혁}               => {스포츠}     0.2197125 0.8167939 \n",
      "[24] {섬유,유니캐주얼,피혁}             => {스포츠}     0.2361396 0.8156028 \n",
      "[25] {니트단품,트래디셔널캐주얼}        => {스포츠}     0.2156057 0.8139535 \n",
      "[26] {유니캐주얼,트래디셔널캐주얼}      => {스포츠}     0.2299795 0.8115942 \n",
      "[27] {니트단품,유니캐주얼,피혁}         => {스포츠}     0.2279261 0.8102190 \n",
      "[28] {영캐주얼,유니캐주얼,피혁}         => {스포츠}     0.2381930 0.8055556 \n",
      "[29] {트래디셔널캐주얼,피혁}            => {스포츠}     0.2628337 0.8050314 \n",
      "[30] {섬유,트래디셔널캐주얼}            => {스포츠}     0.2217659 0.8000000 \n",
      "     lift    \n",
      "[1]  1.695551\n",
      "[2]  1.694056\n",
      "[3]  1.591197\n",
      "[4]  1.585005\n",
      "[5]  1.557267\n",
      "[6]  1.550189\n",
      "[7]  1.545698\n",
      "[8]  1.528797\n",
      "[9]  1.525824\n",
      "[10] 1.515908\n",
      "[11] 1.513080\n",
      "[12] 1.510412\n",
      "[13] 1.510078\n",
      "[14] 1.509737\n",
      "[15] 1.501051\n",
      "[16] 1.497949\n",
      "[17] 1.495408\n",
      "[18] 1.473132\n",
      "[19] 1.432311\n",
      "[20] 1.429804\n",
      "[21] 1.428071\n",
      "[22] 1.420571\n",
      "[23] 1.415582\n",
      "[24] 1.413518\n",
      "[25] 1.410660\n",
      "[26] 1.406571\n",
      "[27] 1.404187\n",
      "[28] 1.396105\n",
      "[29] 1.395197\n",
      "[30] 1.386477\n"
     ]
    }
   ],
   "source": [
    "inspect(sort(rules, by = \"lift\")[1:30])"
   ]
  }
 ],
 "metadata": {
  "kernelspec": {
   "display_name": "R 3.3",
   "language": "R",
   "name": "ir33"
  },
  "language_info": {
   "codemirror_mode": "r",
   "file_extension": ".r",
   "mimetype": "text/x-r-source",
   "name": "R",
   "pygments_lexer": "r",
   "version": "3.3.1"
  },
  "nbpresent": {
   "slides": {},
   "themes": {
    "default": "9ae82c22-a98e-48b0-aece-e725e4ccd159",
    "theme": {}
   }
  }
 },
 "nbformat": 4,
 "nbformat_minor": 0
}
