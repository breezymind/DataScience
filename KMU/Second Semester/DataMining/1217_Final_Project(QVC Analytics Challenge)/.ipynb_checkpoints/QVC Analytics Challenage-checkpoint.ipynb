{
 "cells": [
  {
   "cell_type": "markdown",
   "metadata": {},
   "source": [
    "# QVC Analytics Challenage\n",
    "\n",
    "    QVC는 세계 유수의 비디오 및 전자 상거래 소매 업체로, 하루 24시간 364일 생방송으로 전세계 3억 가구에 서비스를 제공합니다.\n",
    "    우리의 비전은 쇼핑, 엔터테인먼트 및 사회를 다시 상상함으로써 세계가 진출하는 방식을 변화시키는 것입니다.\n",
    "    그렇게하기 위해 QVC는 고객의 경험을 분석하여 원하는 제품과 서비스를 제공하고 있는지 확인합니다.\n",
    "    이 문제를 해결하기 위해 QVC는 이 데이터를 사용하여 고객의 구매 행동을 보다 잘 이해하고 예측하고자합니다.\n",
    "    그러나 방송 시간은 한정된 자원이므로 QVC는 제품 및 제품 카테고리에 대해 최상의 방송 시간을 선택해야합니다.\n",
    "    \n",
    "    특히, QVC는 다음을 더 잘 이해하고자합니다."
   ]
  },
  {
   "cell_type": "markdown",
   "metadata": {},
   "source": [
    "### 1. 고객이 이전 구매 행동 및 제품 방송 시간을 고려할 때 다음 달에 다음 구매할 제품은 무엇입니까?\n",
    "### 2. 이전 구매 행동 및 제품 방송 시간을 고려할 때 고객이 다음 제품을 구매할 가능성이있는 제품 범주는 무엇입니까?\n",
    "### 3. 특정 지리적, 시간대 및 고객 부문에서 더 잘 팔리는 제품 및 제품 범주는 무엇입니까?\n",
    "### 4. 특정 제품 또는 제품 카테고리를 판매하기에 가장 좋은 시간대가 있습니까?\n",
    "### 5. QVC의 다른 고객 세그먼트에 대한 브랜드 선호도 (QVC가 판매하는 브랜드와의 개인적인 관계)는 무엇입니까?"
   ]
  },
  {
   "cell_type": "markdown",
   "metadata": {},
   "source": [
    "    제품 방송 시간 및 고객 구매 행동을 고려한 고객 분석을 반영한 시각화 (정적 또는 대화식)를 개발하십시오.\n",
    "    고객 주문 외에 분석에는 고객 지리, 고객 세그먼트 및 제품 대기 시간이 포함되어야합니다."
   ]
  },
  {
   "cell_type": "markdown",
   "metadata": {},
   "source": [
    "## Data\n",
    "1. Customer master (customer number, customer state, customer zip, customer segmentation code)\n",
    " - 고객 마스터 (고객 번호, 고객 상태,ZIPcode, 고객 세분화 코드)\n",
    "2. Product master (product number, product description, product category, product brand)\n",
    " - 제품 마스터 (제품 번호, 제품 설명, 제품 범주, 제품 브랜드)\n",
    "3. 6 month history of customer orders (order date, order time, customer number, product number)\n",
    " - 고객 주문의 6 개월 내역 (주문 날짜, 주문 시간, 고객 번호, 제품 번호)\n",
    "4. Product airtime (date, total time on air, product number, time on, time off)\n",
    " - 제품 방송 시간 (날짜, 총 대기 시간, 제품 번호, 시간 on, 시간 off)"
   ]
  },
  {
   "cell_type": "code",
   "execution_count": 1,
   "metadata": {
    "collapsed": true
   },
   "outputs": [],
   "source": [
    "customer <- read.csv(\"Customer master.csv\")\n",
    "pmaster <- read.csv(\"Product master.csv\")\n",
    "history <- read.csv(\"6 month history of customer orders.csv\")\n",
    "pairtime <- read.csv(\"Product airtime.csv\")"
   ]
  },
  {
   "cell_type": "code",
   "execution_count": 2,
   "metadata": {
    "collapsed": false
   },
   "outputs": [
    {
     "data": {
      "text/html": [
       "<table>\n",
       "<thead><tr><th scope=col>CUSTOMER_NBR</th><th scope=col>STATE</th><th scope=col>ZIP_CODE</th><th scope=col>SHOPPER_SEGMENT_CODE</th></tr></thead>\n",
       "<tbody>\n",
       "\t<tr><td>405680</td><td>OR    </td><td>97331 </td><td>NA    </td></tr>\n",
       "\t<tr><td>634748</td><td>IL    </td><td>60126 </td><td> 1    </td></tr>\n",
       "\t<tr><td>693545</td><td>MI    </td><td>48170 </td><td> 1    </td></tr>\n",
       "</tbody>\n",
       "</table>\n"
      ],
      "text/latex": [
       "\\begin{tabular}{r|llll}\n",
       " CUSTOMER\\_NBR & STATE & ZIP\\_CODE & SHOPPER\\_SEGMENT\\_CODE\\\\\n",
       "\\hline\n",
       "\t 405680 & OR     & 97331  & NA    \\\\\n",
       "\t 634748 & IL     & 60126  &  1    \\\\\n",
       "\t 693545 & MI     & 48170  &  1    \\\\\n",
       "\\end{tabular}\n"
      ],
      "text/plain": [
       "  CUSTOMER_NBR STATE ZIP_CODE SHOPPER_SEGMENT_CODE\n",
       "1 405680       OR    97331    NA                  \n",
       "2 634748       IL    60126     1                  \n",
       "3 693545       MI    48170     1                  "
      ]
     },
     "metadata": {},
     "output_type": "display_data"
    }
   ],
   "source": [
    "head(customer,3)"
   ]
  },
  {
   "cell_type": "code",
   "execution_count": 3,
   "metadata": {
    "collapsed": true
   },
   "outputs": [],
   "source": [
    "pmaster <- pmaster[,-c(5:7)]"
   ]
  },
  {
   "cell_type": "code",
   "execution_count": 4,
   "metadata": {
    "collapsed": false
   },
   "outputs": [
    {
     "data": {
      "text/html": [
       "<table>\n",
       "<thead><tr><th scope=col>PRODUCT_ID</th><th scope=col>PACKING_SLIP_DESC</th><th scope=col>MERCH_DIV_DESC</th><th scope=col>BRAND_NAME</th></tr></thead>\n",
       "<tbody>\n",
       "\t<tr><td> 5643                                          </td><td>A-D tarte Amazonian Clay Volumizing Mascara Duo</td><td>Health/Beauty                                  </td><td>tarte                                          </td></tr>\n",
       "\t<tr><td>22506                                          </td><td>Dell All-in-One 20 Monitor Intel Dual Core\"    </td><td>Electronics                                    </td><td>Dell                                           </td></tr>\n",
       "\t<tr><td> 5321                                          </td><td>Dennis Basso 80 x 20\" Floral Lace Shawl\"       </td><td>Accessories                                    </td><td>Dennis Basso                                   </td></tr>\n",
       "</tbody>\n",
       "</table>\n"
      ],
      "text/latex": [
       "\\begin{tabular}{r|llll}\n",
       " PRODUCT\\_ID & PACKING\\_SLIP\\_DESC & MERCH\\_DIV\\_DESC & BRAND\\_NAME\\\\\n",
       "\\hline\n",
       "\t  5643                                           & A-D tarte Amazonian Clay Volumizing Mascara Duo & Health/Beauty                                   & tarte                                          \\\\\n",
       "\t 22506                                           & Dell All-in-One 20 Monitor Intel Dual Core\"     & Electronics                                     & Dell                                           \\\\\n",
       "\t  5321                                           & Dennis Basso 80 x 20\" Floral Lace Shawl\"        & Accessories                                     & Dennis Basso                                   \\\\\n",
       "\\end{tabular}\n"
      ],
      "text/plain": [
       "  PRODUCT_ID PACKING_SLIP_DESC                               MERCH_DIV_DESC\n",
       "1  5643      A-D tarte Amazonian Clay Volumizing Mascara Duo Health/Beauty \n",
       "2 22506      Dell All-in-One 20 Monitor Intel Dual Core\"     Electronics   \n",
       "3  5321      Dennis Basso 80 x 20\" Floral Lace Shawl\"        Accessories   \n",
       "  BRAND_NAME  \n",
       "1 tarte       \n",
       "2 Dell        \n",
       "3 Dennis Basso"
      ]
     },
     "metadata": {},
     "output_type": "display_data"
    }
   ],
   "source": [
    "head(pmaster,3)"
   ]
  },
  {
   "cell_type": "code",
   "execution_count": 5,
   "metadata": {
    "collapsed": true
   },
   "outputs": [],
   "source": [
    "history <- history[,-c(1,2)]"
   ]
  },
  {
   "cell_type": "code",
   "execution_count": 6,
   "metadata": {
    "collapsed": false
   },
   "outputs": [
    {
     "data": {
      "text/html": [
       "<table>\n",
       "<thead><tr><th scope=col>CUSTOMER_NBR</th><th scope=col>PRODUCT_ID</th><th scope=col>ORDER_DATE</th><th scope=col>ORDER_TIME</th></tr></thead>\n",
       "<tbody>\n",
       "\t<tr><td>627088         </td><td> 8228          </td><td>2012-10-01 0:00</td><td>3:40:06        </td></tr>\n",
       "\t<tr><td>419748         </td><td>61616          </td><td>2012-10-01 0:00</td><td>7:32:14        </td></tr>\n",
       "\t<tr><td>250358         </td><td> 3265          </td><td>2012-10-01 0:00</td><td>14:16:30       </td></tr>\n",
       "</tbody>\n",
       "</table>\n"
      ],
      "text/latex": [
       "\\begin{tabular}{r|llll}\n",
       " CUSTOMER\\_NBR & PRODUCT\\_ID & ORDER\\_DATE & ORDER\\_TIME\\\\\n",
       "\\hline\n",
       "\t 627088          &  8228           & 2012-10-01 0:00 & 3:40:06        \\\\\n",
       "\t 419748          & 61616           & 2012-10-01 0:00 & 7:32:14        \\\\\n",
       "\t 250358          &  3265           & 2012-10-01 0:00 & 14:16:30       \\\\\n",
       "\\end{tabular}\n"
      ],
      "text/plain": [
       "  CUSTOMER_NBR PRODUCT_ID ORDER_DATE      ORDER_TIME\n",
       "1 627088        8228      2012-10-01 0:00 3:40:06   \n",
       "2 419748       61616      2012-10-01 0:00 7:32:14   \n",
       "3 250358        3265      2012-10-01 0:00 14:16:30  "
      ]
     },
     "metadata": {},
     "output_type": "display_data"
    }
   ],
   "source": [
    "head(history,3)"
   ]
  },
  {
   "cell_type": "code",
   "execution_count": 12,
   "metadata": {
    "collapsed": false
   },
   "outputs": [
    {
     "data": {
      "text/html": [
       "<table>\n",
       "<thead><tr><th></th><th scope=col>1</th><th scope=col>2</th><th scope=col>3</th><th scope=col>4</th><th scope=col>5</th></tr></thead>\n",
       "<tbody>\n",
       "\t<tr><th scope=row>PRODUCT_ID</th><td>2186           </td><td>2186           </td><td>2478           </td><td>2478           </td><td>6283           </td></tr>\n",
       "\t<tr><th scope=row>AIR_DATE</th><td>2012-10-16 0:00</td><td>2012-10-16 0:00</td><td>2012-10-16 0:00</td><td>2012-10-16 0:00</td><td>2012-10-16 0:00</td></tr>\n",
       "\t<tr><th scope=row>PRODUCT_AIRTIME_MINS</th><td> 0.38          </td><td> 5.08          </td><td> 0.50          </td><td>12.53          </td><td> 0.43          </td></tr>\n",
       "\t<tr><th scope=row>PRODUCT_START_TMS</th><td>2012-10-16 0:43</td><td>2012-10-16 0:48</td><td>2012-10-16 0:25</td><td>2012-10-16 0:31</td><td>2012-10-16 0:47</td></tr>\n",
       "</tbody>\n",
       "</table>\n"
      ],
      "text/latex": [
       "\\begin{tabular}{r|lllll}\n",
       "  & 1 & 2 & 3 & 4 & 5\\\\\n",
       "\\hline\n",
       "\tPRODUCT\\_ID & 2186            & 2186            & 2478            & 2478            & 6283           \\\\\n",
       "\tAIR\\_DATE & 2012-10-16 0:00 & 2012-10-16 0:00 & 2012-10-16 0:00 & 2012-10-16 0:00 & 2012-10-16 0:00\\\\\n",
       "\tPRODUCT\\_AIRTIME\\_MINS &  0.38           &  5.08           &  0.50           & 12.53           &  0.43          \\\\\n",
       "\tPRODUCT\\_START\\_TMS & 2012-10-16 0:43 & 2012-10-16 0:48 & 2012-10-16 0:25 & 2012-10-16 0:31 & 2012-10-16 0:47\\\\\n",
       "\\end{tabular}\n"
      ],
      "text/markdown": [
       "1. '2186'\n",
       "2. '2012-10-16 0:00'\n",
       "3. ' 0.38'\n",
       "4. '2012-10-16 0:43'\n",
       "5. '2186'\n",
       "6. '2012-10-16 0:00'\n",
       "7. ' 5.08'\n",
       "8. '2012-10-16 0:48'\n",
       "9. '2478'\n",
       "10. '2012-10-16 0:00'\n",
       "11. ' 0.50'\n",
       "12. '2012-10-16 0:25'\n",
       "13. '2478'\n",
       "14. '2012-10-16 0:00'\n",
       "15. '12.53'\n",
       "16. '2012-10-16 0:31'\n",
       "17. '6283'\n",
       "18. '2012-10-16 0:00'\n",
       "19. ' 0.43'\n",
       "20. '2012-10-16 0:47'\n",
       "\n",
       "\n"
      ],
      "text/plain": [
       "                     1               2               3              \n",
       "PRODUCT_ID           2186            2186            2478           \n",
       "AIR_DATE             2012-10-16 0:00 2012-10-16 0:00 2012-10-16 0:00\n",
       "PRODUCT_AIRTIME_MINS  0.38            5.08            0.50          \n",
       "PRODUCT_START_TMS    2012-10-16 0:43 2012-10-16 0:48 2012-10-16 0:25\n",
       "                     4               5              \n",
       "PRODUCT_ID           2478            6283           \n",
       "AIR_DATE             2012-10-16 0:00 2012-10-16 0:00\n",
       "PRODUCT_AIRTIME_MINS 12.53            0.43          \n",
       "PRODUCT_START_TMS    2012-10-16 0:31 2012-10-16 0:47"
      ]
     },
     "metadata": {},
     "output_type": "display_data"
    }
   ],
   "source": [
    "head(t(pairtime[1:5,]),4)"
   ]
  }
 ],
 "metadata": {
  "anaconda-cloud": {},
  "kernelspec": {
   "display_name": "R 3.2",
   "language": "R",
   "name": "ir32"
  },
  "language_info": {
   "codemirror_mode": "r",
   "file_extension": ".r",
   "mimetype": "text/x-r-source",
   "name": "R",
   "pygments_lexer": "r",
   "version": "3.2.3"
  }
 },
 "nbformat": 4,
 "nbformat_minor": 0
}
