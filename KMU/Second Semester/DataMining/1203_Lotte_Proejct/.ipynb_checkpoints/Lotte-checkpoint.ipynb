{
 "cells": [
  {
   "cell_type": "markdown",
   "metadata": {},
   "source": [
    "# Lotte (Personal Project)\n",
    " - Due to 12.03"
   ]
  },
  {
   "cell_type": "markdown",
   "metadata": {},
   "source": [
    "## Load Library & Data"
   ]
  },
  {
   "cell_type": "code",
   "execution_count": 3,
   "metadata": {
    "collapsed": false
   },
   "outputs": [],
   "source": [
    "library(arules)\n",
    "library(reshape2)"
   ]
  },
  {
   "cell_type": "code",
   "execution_count": 4,
   "metadata": {
    "collapsed": false
   },
   "outputs": [],
   "source": [
    "lotte <- read.csv(\"lotte.csv\")\n",
    "lotte <- lotte[,-8]"
   ]
  },
  {
   "cell_type": "code",
   "execution_count": 5,
   "metadata": {
    "collapsed": true
   },
   "outputs": [],
   "source": [
    "colnames(lotte) <- c(\"seq\",\"N1\",\"N2\",\"N3\",\"N4\",\"N5\",\"N6\")"
   ]
  },
  {
   "cell_type": "code",
   "execution_count": 6,
   "metadata": {
    "collapsed": false
   },
   "outputs": [
    {
     "data": {
      "text/html": [
       "<table>\n",
       "<thead><tr><th></th><th scope=col>seq</th><th scope=col>N1</th><th scope=col>N2</th><th scope=col>N3</th><th scope=col>N4</th><th scope=col>N5</th><th scope=col>N6</th></tr></thead>\n",
       "<tbody>\n",
       "\t<tr><th scope=row>730</th><td> 1</td><td>10</td><td>23</td><td>29</td><td>33</td><td>37</td><td>40</td></tr>\n",
       "\t<tr><th scope=row>729</th><td> 2</td><td> 9</td><td>13</td><td>21</td><td>25</td><td>32</td><td>42</td></tr>\n",
       "\t<tr><th scope=row>728</th><td> 3</td><td>11</td><td>16</td><td>19</td><td>21</td><td>27</td><td>31</td></tr>\n",
       "\t<tr><th scope=row>727</th><td> 4</td><td>14</td><td>27</td><td>30</td><td>31</td><td>40</td><td>42</td></tr>\n",
       "\t<tr><th scope=row>726</th><td> 5</td><td>16</td><td>24</td><td>29</td><td>40</td><td>41</td><td>42</td></tr>\n",
       "\t<tr><th scope=row>725</th><td> 6</td><td>14</td><td>15</td><td>26</td><td>27</td><td>40</td><td>42</td></tr>\n",
       "</tbody>\n",
       "</table>\n"
      ],
      "text/latex": [
       "\\begin{tabular}{r|lllllll}\n",
       "  & seq & N1 & N2 & N3 & N4 & N5 & N6\\\\\n",
       "\\hline\n",
       "\t730 &  1 & 10 & 23 & 29 & 33 & 37 & 40\\\\\n",
       "\t729 &  2 &  9 & 13 & 21 & 25 & 32 & 42\\\\\n",
       "\t728 &  3 & 11 & 16 & 19 & 21 & 27 & 31\\\\\n",
       "\t727 &  4 & 14 & 27 & 30 & 31 & 40 & 42\\\\\n",
       "\t726 &  5 & 16 & 24 & 29 & 40 & 41 & 42\\\\\n",
       "\t725 &  6 & 14 & 15 & 26 & 27 & 40 & 42\\\\\n",
       "\\end{tabular}\n"
      ],
      "text/plain": [
       "    seq N1 N2 N3 N4 N5 N6\n",
       "730   1 10 23 29 33 37 40\n",
       "729   2  9 13 21 25 32 42\n",
       "728   3 11 16 19 21 27 31\n",
       "727   4 14 27 30 31 40 42\n",
       "726   5 16 24 29 40 41 42\n",
       "725   6 14 15 26 27 40 42"
      ]
     },
     "metadata": {},
     "output_type": "display_data"
    }
   ],
   "source": [
    "head(lotte[order(lotte$seq, decreasing = F),])"
   ]
  },
  {
   "cell_type": "markdown",
   "metadata": {},
   "source": [
    "## Data Reshaping \n",
    " - $Transacition\\ Data$ 형성을 위해 $Reshape$ ($Melt$를  $seq$를 기준으로 수행)"
   ]
  },
  {
   "cell_type": "code",
   "execution_count": 9,
   "metadata": {
    "collapsed": true
   },
   "outputs": [],
   "source": [
    "melt_lotte <- melt(lotte, id=\"seq\")"
   ]
  },
  {
   "cell_type": "code",
   "execution_count": 10,
   "metadata": {
    "collapsed": false
   },
   "outputs": [
    {
     "data": {
      "text/html": [
       "<table>\n",
       "<thead><tr><th></th><th scope=col>seq</th><th scope=col>variable</th><th scope=col>value</th></tr></thead>\n",
       "<tbody>\n",
       "\t<tr><th scope=row>1</th><td>730</td><td>N1 </td><td>4  </td></tr>\n",
       "\t<tr><th scope=row>731</th><td>730</td><td>N2 </td><td>10 </td></tr>\n",
       "\t<tr><th scope=row>1461</th><td>730</td><td>N3 </td><td>14 </td></tr>\n",
       "\t<tr><th scope=row>2191</th><td>730</td><td>N4 </td><td>15 </td></tr>\n",
       "\t<tr><th scope=row>2921</th><td>730</td><td>N5 </td><td>18 </td></tr>\n",
       "\t<tr><th scope=row>3651</th><td>730</td><td>N6 </td><td>22 </td></tr>\n",
       "</tbody>\n",
       "</table>\n"
      ],
      "text/latex": [
       "\\begin{tabular}{r|lll}\n",
       "  & seq & variable & value\\\\\n",
       "\\hline\n",
       "\t1 & 730 & N1  & 4  \\\\\n",
       "\t731 & 730 & N2  & 10 \\\\\n",
       "\t1461 & 730 & N3  & 14 \\\\\n",
       "\t2191 & 730 & N4  & 15 \\\\\n",
       "\t2921 & 730 & N5  & 18 \\\\\n",
       "\t3651 & 730 & N6  & 22 \\\\\n",
       "\\end{tabular}\n"
      ],
      "text/plain": [
       "     seq variable value\n",
       "1    730       N1     4\n",
       "731  730       N2    10\n",
       "1461 730       N3    14\n",
       "2191 730       N4    15\n",
       "2921 730       N5    18\n",
       "3651 730       N6    22"
      ]
     },
     "metadata": {},
     "output_type": "display_data"
    }
   ],
   "source": [
    "melt_lotte[melt_lotte$seq ==730,]"
   ]
  },
  {
   "cell_type": "markdown",
   "metadata": {},
   "source": [
    "## Pick data from DF"
   ]
  },
  {
   "cell_type": "code",
   "execution_count": 11,
   "metadata": {
    "collapsed": false
   },
   "outputs": [],
   "source": [
    "data <- melt_lotte[,c(1,3)] # seq, value"
   ]
  },
  {
   "cell_type": "code",
   "execution_count": 12,
   "metadata": {
    "collapsed": false
   },
   "outputs": [
    {
     "data": {
      "text/html": [
       "<table>\n",
       "<thead><tr><th></th><th scope=col>seq</th><th scope=col>value</th></tr></thead>\n",
       "<tbody>\n",
       "\t<tr><th scope=row>1</th><td>730</td><td>  4</td></tr>\n",
       "\t<tr><th scope=row>731</th><td>730</td><td> 10</td></tr>\n",
       "\t<tr><th scope=row>1461</th><td>730</td><td> 14</td></tr>\n",
       "\t<tr><th scope=row>2191</th><td>730</td><td> 15</td></tr>\n",
       "\t<tr><th scope=row>2921</th><td>730</td><td> 18</td></tr>\n",
       "\t<tr><th scope=row>3651</th><td>730</td><td> 22</td></tr>\n",
       "</tbody>\n",
       "</table>\n"
      ],
      "text/latex": [
       "\\begin{tabular}{r|ll}\n",
       "  & seq & value\\\\\n",
       "\\hline\n",
       "\t1 & 730 &   4\\\\\n",
       "\t731 & 730 &  10\\\\\n",
       "\t1461 & 730 &  14\\\\\n",
       "\t2191 & 730 &  15\\\\\n",
       "\t2921 & 730 &  18\\\\\n",
       "\t3651 & 730 &  22\\\\\n",
       "\\end{tabular}\n"
      ],
      "text/plain": [
       "     seq value\n",
       "1    730     4\n",
       "731  730    10\n",
       "1461 730    14\n",
       "2191 730    15\n",
       "2921 730    18\n",
       "3651 730    22"
      ]
     },
     "metadata": {},
     "output_type": "display_data"
    }
   ],
   "source": [
    "head(data[order(data$seq,decreasing = T),])"
   ]
  },
  {
   "cell_type": "markdown",
   "metadata": {},
   "source": [
    "# Split Data with seq number\n",
    " - $Value$를 $Seq$로 $Split$한다."
   ]
  },
  {
   "cell_type": "code",
   "execution_count": 15,
   "metadata": {
    "collapsed": false
   },
   "outputs": [
    {
     "data": {
      "text/html": [
       "<dl>\n",
       "\t<dt>$`1`</dt>\n",
       "\t\t<dd><ol class=list-inline>\n",
       "\t<li>10</li>\n",
       "\t<li>23</li>\n",
       "\t<li>29</li>\n",
       "\t<li>33</li>\n",
       "\t<li>37</li>\n",
       "\t<li>40</li>\n",
       "</ol>\n",
       "</dd>\n",
       "\t<dt>$`2`</dt>\n",
       "\t\t<dd><ol class=list-inline>\n",
       "\t<li>9</li>\n",
       "\t<li>13</li>\n",
       "\t<li>21</li>\n",
       "\t<li>25</li>\n",
       "\t<li>32</li>\n",
       "\t<li>42</li>\n",
       "</ol>\n",
       "</dd>\n",
       "\t<dt>$`3`</dt>\n",
       "\t\t<dd><ol class=list-inline>\n",
       "\t<li>11</li>\n",
       "\t<li>16</li>\n",
       "\t<li>19</li>\n",
       "\t<li>21</li>\n",
       "\t<li>27</li>\n",
       "\t<li>31</li>\n",
       "</ol>\n",
       "</dd>\n",
       "\t<dt>$`4`</dt>\n",
       "\t\t<dd><ol class=list-inline>\n",
       "\t<li>14</li>\n",
       "\t<li>27</li>\n",
       "\t<li>30</li>\n",
       "\t<li>31</li>\n",
       "\t<li>40</li>\n",
       "\t<li>42</li>\n",
       "</ol>\n",
       "</dd>\n",
       "\t<dt>$`5`</dt>\n",
       "\t\t<dd><ol class=list-inline>\n",
       "\t<li>16</li>\n",
       "\t<li>24</li>\n",
       "\t<li>29</li>\n",
       "\t<li>40</li>\n",
       "\t<li>41</li>\n",
       "\t<li>42</li>\n",
       "</ol>\n",
       "</dd>\n",
       "\t<dt>$`6`</dt>\n",
       "\t\t<dd><ol class=list-inline>\n",
       "\t<li>14</li>\n",
       "\t<li>15</li>\n",
       "\t<li>26</li>\n",
       "\t<li>27</li>\n",
       "\t<li>40</li>\n",
       "\t<li>42</li>\n",
       "</ol>\n",
       "</dd>\n",
       "</dl>\n"
      ],
      "text/latex": [
       "\\begin{description}\n",
       "\\item[\\$`1`] \\begin{enumerate*}\n",
       "\\item 10\n",
       "\\item 23\n",
       "\\item 29\n",
       "\\item 33\n",
       "\\item 37\n",
       "\\item 40\n",
       "\\end{enumerate*}\n",
       "\n",
       "\\item[\\$`2`] \\begin{enumerate*}\n",
       "\\item 9\n",
       "\\item 13\n",
       "\\item 21\n",
       "\\item 25\n",
       "\\item 32\n",
       "\\item 42\n",
       "\\end{enumerate*}\n",
       "\n",
       "\\item[\\$`3`] \\begin{enumerate*}\n",
       "\\item 11\n",
       "\\item 16\n",
       "\\item 19\n",
       "\\item 21\n",
       "\\item 27\n",
       "\\item 31\n",
       "\\end{enumerate*}\n",
       "\n",
       "\\item[\\$`4`] \\begin{enumerate*}\n",
       "\\item 14\n",
       "\\item 27\n",
       "\\item 30\n",
       "\\item 31\n",
       "\\item 40\n",
       "\\item 42\n",
       "\\end{enumerate*}\n",
       "\n",
       "\\item[\\$`5`] \\begin{enumerate*}\n",
       "\\item 16\n",
       "\\item 24\n",
       "\\item 29\n",
       "\\item 40\n",
       "\\item 41\n",
       "\\item 42\n",
       "\\end{enumerate*}\n",
       "\n",
       "\\item[\\$`6`] \\begin{enumerate*}\n",
       "\\item 14\n",
       "\\item 15\n",
       "\\item 26\n",
       "\\item 27\n",
       "\\item 40\n",
       "\\item 42\n",
       "\\end{enumerate*}\n",
       "\n",
       "\\end{description}\n"
      ],
      "text/markdown": [
       "$`1`\n",
       ":   1. 10\n",
       "2. 23\n",
       "3. 29\n",
       "4. 33\n",
       "5. 37\n",
       "6. 40\n",
       "\n",
       "\n",
       "\n",
       "$`2`\n",
       ":   1. 9\n",
       "2. 13\n",
       "3. 21\n",
       "4. 25\n",
       "5. 32\n",
       "6. 42\n",
       "\n",
       "\n",
       "\n",
       "$`3`\n",
       ":   1. 11\n",
       "2. 16\n",
       "3. 19\n",
       "4. 21\n",
       "5. 27\n",
       "6. 31\n",
       "\n",
       "\n",
       "\n",
       "$`4`\n",
       ":   1. 14\n",
       "2. 27\n",
       "3. 30\n",
       "4. 31\n",
       "5. 40\n",
       "6. 42\n",
       "\n",
       "\n",
       "\n",
       "$`5`\n",
       ":   1. 16\n",
       "2. 24\n",
       "3. 29\n",
       "4. 40\n",
       "5. 41\n",
       "6. 42\n",
       "\n",
       "\n",
       "\n",
       "$`6`\n",
       ":   1. 14\n",
       "2. 15\n",
       "3. 26\n",
       "4. 27\n",
       "5. 40\n",
       "6. 42\n",
       "\n",
       "\n",
       "\n",
       "\n",
       "\n"
      ],
      "text/plain": [
       "$`1`\n",
       "[1] 10 23 29 33 37 40\n",
       "\n",
       "$`2`\n",
       "[1]  9 13 21 25 32 42\n",
       "\n",
       "$`3`\n",
       "[1] 11 16 19 21 27 31\n",
       "\n",
       "$`4`\n",
       "[1] 14 27 30 31 40 42\n",
       "\n",
       "$`5`\n",
       "[1] 16 24 29 40 41 42\n",
       "\n",
       "$`6`\n",
       "[1] 14 15 26 27 40 42\n"
      ]
     },
     "metadata": {},
     "output_type": "display_data"
    }
   ],
   "source": [
    "head(split(data$value, data$seq))"
   ]
  },
  {
   "cell_type": "markdown",
   "metadata": {},
   "source": [
    "## Make Transactions "
   ]
  },
  {
   "cell_type": "code",
   "execution_count": 14,
   "metadata": {
    "collapsed": false
   },
   "outputs": [
    {
     "data": {
      "text/plain": [
       "transactions in sparse format with\n",
       " 730 transactions (rows) and\n",
       " 45 items (columns)"
      ]
     },
     "metadata": {},
     "output_type": "display_data"
    }
   ],
   "source": [
    "trans <- as(split(data$value, data$seq), \"transactions\") #transactions 메소드 \n",
    "trans "
   ]
  },
  {
   "cell_type": "markdown",
   "metadata": {},
   "source": [
    "## Inspect a transaction\n",
    " - 각 회차별 나온 숫자를 Transaction으로 변형 "
   ]
  },
  {
   "cell_type": "code",
   "execution_count": 15,
   "metadata": {
    "collapsed": false,
    "scrolled": true
   },
   "outputs": [
    {
     "name": "stdout",
     "output_type": "stream",
     "text": [
      "     items               transactionID\n",
      "[1]  {10,23,29,33,37,40} 1            \n",
      "[2]  {9,13,21,25,32,42}  2            \n",
      "[3]  {11,16,19,21,27,31} 3            \n",
      "[4]  {14,27,30,31,40,42} 4            \n",
      "[5]  {16,24,29,40,41,42} 5            \n",
      "[6]  {14,15,26,27,40,42} 6            \n",
      "[7]  {2,9,16,25,26,40}   7            \n",
      "[8]  {8,19,25,34,37,39}  8            \n",
      "[9]  {2,4,16,17,36,39}   9            \n",
      "[10] {9,25,30,33,41,44}  10           \n"
     ]
    }
   ],
   "source": [
    "inspect(trans[1:10])"
   ]
  },
  {
   "cell_type": "markdown",
   "metadata": {},
   "source": [
    "## Image of Transaction \n",
    " - 1 ~ 45 까지 숫자 중 각 회차별 새당 되는 숫자에 색이 칠해진다."
   ]
  },
  {
   "cell_type": "code",
   "execution_count": 16,
   "metadata": {
    "collapsed": false
   },
   "outputs": [
    {
     "data": {},
     "metadata": {},
     "output_type": "display_data"
    },
    {
     "data": {
      "image/png": "[encoded data removed]",
      "text/plain": [
       "plot without title"
      ]
     },
     "metadata": {},
     "output_type": "display_data"
    }
   ],
   "source": [
    "options(repr.plot.width=4,repr.plot.height=2)\n",
    "image(trans[1:10])"
   ]
  },
  {
   "cell_type": "markdown",
   "metadata": {},
   "source": [
    "### Check Frequency of items \n",
    " - 각 회차에 나온 개별의 숫자들의 빈발 정도를 확인 (absolute : Counts of values)"
   ]
  },
  {
   "cell_type": "code",
   "execution_count": 17,
   "metadata": {
    "collapsed": false
   },
   "outputs": [
    {
     "data": {
      "text/html": [
       "<table>\n",
       "<thead><tr><th scope=col>1</th><th scope=col>2</th><th scope=col>3</th><th scope=col>4</th><th scope=col>5</th><th scope=col>6</th><th scope=col>7</th><th scope=col>8</th><th scope=col>9</th><th scope=col>10</th><th scope=col>...</th><th scope=col>36</th><th scope=col>37</th><th scope=col>38</th><th scope=col>39</th><th scope=col>40</th><th scope=col>41</th><th scope=col>42</th><th scope=col>43</th><th scope=col>44</th><th scope=col>45</th></tr></thead>\n",
       "<tbody>\n",
       "\t<tr><td>109</td><td>95 </td><td>96 </td><td>105</td><td>102</td><td>91 </td><td>100</td><td>104</td><td>72 </td><td>99 </td><td>...</td><td>96 </td><td>108</td><td>91 </td><td>99 </td><td>114</td><td>86 </td><td>87 </td><td>101</td><td>100</td><td>98 </td></tr>\n",
       "</tbody>\n",
       "</table>\n"
      ],
      "text/latex": [
       "\\begin{tabular}{lllllllllllllllllllllllllllllllllllllllllllll}\n",
       " 1 & 2 & 3 & 4 & 5 & 6 & 7 & 8 & 9 & 10 & ... & 36 & 37 & 38 & 39 & 40 & 41 & 42 & 43 & 44 & 45\\\\\n",
       "\\hline\n",
       "\t 109 & 95  & 96  & 105 & 102 & 91  & 100 & 104 & 72  & 99  & ... & 96  & 108 & 91  & 99  & 114 & 86  & 87  & 101 & 100 & 98 \\\\\n",
       "\\end{tabular}\n"
      ],
      "text/markdown": [
       "1. 109\n",
       "2. 95\n",
       "3. 96\n",
       "4. 105\n",
       "5. 102\n",
       "6. 91\n",
       "7. 100\n",
       "8. 104\n",
       "9. 72\n",
       "10. 99\n",
       "11. 101\n",
       "12. 94\n",
       "13. 101\n",
       "14. 105\n",
       "15. 99\n",
       "16. 89\n",
       "17. 105\n",
       "18. 100\n",
       "19. 98\n",
       "20. 116\n",
       "21. 90\n",
       "22. 82\n",
       "23. 90\n",
       "24. 95\n",
       "25. 99\n",
       "26. 100\n",
       "27. 111\n",
       "28. 85\n",
       "29. 91\n",
       "30. 87\n",
       "31. 98\n",
       "32. 85\n",
       "33. 101\n",
       "34. 113\n",
       "35. 92\n",
       "36. 96\n",
       "37. 108\n",
       "38. 91\n",
       "39. 99\n",
       "40. 114\n",
       "41. 86\n",
       "42. 87\n",
       "43. 101\n",
       "44. 100\n",
       "45. 98\n",
       "\n",
       "\n"
      ],
      "text/plain": [
       "     1     2    3    4     5     6    7     8     9    10   ...   36   37   \n",
       "[1,] \"109\" \"95\" \"96\" \"105\" \"102\" \"91\" \"100\" \"104\" \"72\" \"99\" \"...\" \"96\" \"108\"\n",
       "     38   39   40    41   42   43    44    45  \n",
       "[1,] \"91\" \"99\" \"114\" \"86\" \"87\" \"101\" \"100\" \"98\""
      ]
     },
     "metadata": {},
     "output_type": "display_data"
    }
   ],
   "source": [
    "t(itemFrequency(trans, type=\"absolute\"))"
   ]
  },
  {
   "cell_type": "markdown",
   "metadata": {},
   "source": [
    "### Check Posibility of items \n",
    " - 각 회차에 나온 개별 숫자들의 나온 확률을 확인 "
   ]
  },
  {
   "cell_type": "code",
   "execution_count": 18,
   "metadata": {
    "collapsed": false
   },
   "outputs": [
    {
     "data": {
      "text/html": [
       "<table>\n",
       "<thead><tr><th scope=col>20</th><th scope=col>40</th><th scope=col>34</th><th scope=col>27</th><th scope=col>1</th><th scope=col>37</th><th scope=col>4</th><th scope=col>14</th><th scope=col>17</th><th scope=col>8</th><th scope=col>...</th><th scope=col>21</th><th scope=col>23</th><th scope=col>16</th><th scope=col>30</th><th scope=col>42</th><th scope=col>41</th><th scope=col>28</th><th scope=col>32</th><th scope=col>22</th><th scope=col>9</th></tr></thead>\n",
       "<tbody>\n",
       "\t<tr><td>0.16</td><td>0.16</td><td>0.15</td><td>0.15</td><td>0.15</td><td>0.15</td><td>0.14</td><td>0.14</td><td>0.14</td><td>0.14</td><td>... </td><td>0.12</td><td>0.12</td><td>0.12</td><td>0.12</td><td>0.12</td><td>0.12</td><td>0.12</td><td>0.12</td><td>0.11</td><td>0.1 </td></tr>\n",
       "</tbody>\n",
       "</table>\n"
      ],
      "text/latex": [
       "\\begin{tabular}{lllllllllllllllllllllllllllllllllllllllllllll}\n",
       " 20 & 40 & 34 & 27 & 1 & 37 & 4 & 14 & 17 & 8 & ... & 21 & 23 & 16 & 30 & 42 & 41 & 28 & 32 & 22 & 9\\\\\n",
       "\\hline\n",
       "\t 0.16 & 0.16 & 0.15 & 0.15 & 0.15 & 0.15 & 0.14 & 0.14 & 0.14 & 0.14 & ...  & 0.12 & 0.12 & 0.12 & 0.12 & 0.12 & 0.12 & 0.12 & 0.12 & 0.11 & 0.1 \\\\\n",
       "\\end{tabular}\n"
      ],
      "text/markdown": [
       "1. 0.16\n",
       "2. 0.16\n",
       "3. 0.15\n",
       "4. 0.15\n",
       "5. 0.15\n",
       "6. 0.15\n",
       "7. 0.14\n",
       "8. 0.14\n",
       "9. 0.14\n",
       "10. 0.14\n",
       "11. 0.14\n",
       "12. 0.14\n",
       "13. 0.14\n",
       "14. 0.14\n",
       "15. 0.14\n",
       "16. 0.14\n",
       "17. 0.14\n",
       "18. 0.14\n",
       "19. 0.14\n",
       "20. 0.14\n",
       "21. 0.14\n",
       "22. 0.14\n",
       "23. 0.14\n",
       "24. 0.13\n",
       "25. 0.13\n",
       "26. 0.13\n",
       "27. 0.13\n",
       "28. 0.13\n",
       "29. 0.13\n",
       "30. 0.13\n",
       "31. 0.13\n",
       "32. 0.13\n",
       "33. 0.12\n",
       "34. 0.12\n",
       "35. 0.12\n",
       "36. 0.12\n",
       "37. 0.12\n",
       "38. 0.12\n",
       "39. 0.12\n",
       "40. 0.12\n",
       "41. 0.12\n",
       "42. 0.12\n",
       "43. 0.12\n",
       "44. 0.11\n",
       "45. 0.1\n",
       "\n",
       "\n"
      ],
      "text/plain": [
       "     20     40     34     27     1      37     4      14     17     8     \n",
       "[1,] \"0.16\" \"0.16\" \"0.15\" \"0.15\" \"0.15\" \"0.15\" \"0.14\" \"0.14\" \"0.14\" \"0.14\"\n",
       "     ...   21     23     16     30     42     41     28     32     22     9    \n",
       "[1,] \"...\" \"0.12\" \"0.12\" \"0.12\" \"0.12\" \"0.12\" \"0.12\" \"0.12\" \"0.12\" \"0.11\" \"0.1\""
      ]
     },
     "metadata": {},
     "output_type": "display_data"
    }
   ],
   "source": [
    "t(round(itemFrequency(trans)[order(itemFrequency(trans), decreasing = TRUE)],2))"
   ]
  },
  {
   "cell_type": "markdown",
   "metadata": {},
   "source": [
    "### Plotting items with support \n",
    " - 상위 20개 지지도를 가진 Items를 Plotting"
   ]
  },
  {
   "cell_type": "code",
   "execution_count": 19,
   "metadata": {
    "collapsed": false
   },
   "outputs": [
    {
     "data": {
      "image/png": "[encoded data removed]",
      "text/plain": [
       "Plot with title \"support top 20 items\""
      ]
     },
     "metadata": {},
     "output_type": "display_data"
    }
   ],
   "source": [
    "options(repr.plot.width=4,repr.plot.height=4)\n",
    "itemFrequencyPlot(trans, topN = 20, main = \"support top 20 items\",cex.names=0.6)"
   ]
  },
  {
   "cell_type": "markdown",
   "metadata": {},
   "source": [
    "## Making rules with transaction data, Lotte \n",
    " - 최소 지지도를 넘는 빈발 집합을 출력. \n",
    " - Transaction ID 는 필요 없으므로 제외 "
   ]
  },
  {
   "cell_type": "code",
   "execution_count": 20,
   "metadata": {
    "collapsed": false
   },
   "outputs": [
    {
     "name": "stdout",
     "output_type": "stream",
     "text": [
      "Apriori\n",
      "\n",
      "Parameter specification:\n",
      " confidence minval smax arem  aval originalSupport maxtime support minlen\n",
      "         NA    0.1    1 none FALSE            TRUE       5   0.005      1\n",
      " maxlen            target   ext\n",
      "     10 frequent itemsets FALSE\n",
      "\n",
      "Algorithmic control:\n",
      " filter tree heap memopt load sort verbose\n",
      "    0.1 TRUE TRUE  FALSE TRUE    2    TRUE\n",
      "\n",
      "Absolute minimum support count: 3 \n",
      "\n",
      "set item appearances ...[0 item(s)] done [0.00s].\n",
      "set transactions ...[44 item(s), 730 transaction(s)] done [0.00s].\n",
      "sorting and recoding items ... [44 item(s)] done [0.00s].\n",
      "creating transaction tree ... done [0.00s].\n",
      "checking subsets of size 1 2 3 done [0.00s].\n",
      "writing ... [1241 set(s)] done [0.00s].\n",
      "creating S4 object  ... done [0.00s].\n"
     ]
    }
   ],
   "source": [
    "rules <- apriori(trans[,-2],parameter = list(support=0.005,target=\"frequent itemsets\"))"
   ]
  },
  {
   "cell_type": "markdown",
   "metadata": {},
   "source": [
    " - 크기 1 : 44개 \n",
    " - 크기 2 : 941개\n",
    " - 크기 3 : 256개 \n",
    " \n",
    "### summary of quality measures \n",
    " - 최소 지지도 : 0.0055\n",
    " - 최대 지지도 : 0.1589"
   ]
  },
  {
   "cell_type": "code",
   "execution_count": 83,
   "metadata": {
    "collapsed": false
   },
   "outputs": [
    {
     "data": {
      "text/plain": [
       "set of 1241 itemsets\n",
       "\n",
       "most frequent items:\n",
       "     40      20      27       7      35 (Other) \n",
       "     76      74      70      68      68    2338 \n",
       "\n",
       "element (itemset/transaction) length distribution:sizes\n",
       "  1   2   3 \n",
       " 44 941 256 \n",
       "\n",
       "   Min. 1st Qu.  Median    Mean 3rd Qu.    Max. \n",
       "  1.000   2.000   2.000   2.171   2.000   3.000 \n",
       "\n",
       "summary of quality measures:\n",
       "    support        \n",
       " Min.   :0.005479  \n",
       " 1st Qu.:0.008219  \n",
       " Median :0.013699  \n",
       " Mean   :0.017469  \n",
       " 3rd Qu.:0.017808  \n",
       " Max.   :0.158904  \n",
       "\n",
       "includes transaction ID lists: FALSE \n",
       "\n",
       "mining info:\n",
       "        data ntransactions support confidence\n",
       " trans[, -2]           730   0.005          1"
      ]
     },
     "metadata": {},
     "output_type": "display_data"
    }
   ],
   "source": [
    "summary(rules)"
   ]
  },
  {
   "cell_type": "code",
   "execution_count": 21,
   "metadata": {
    "collapsed": false,
    "scrolled": false
   },
   "outputs": [
    {
     "name": "stdout",
     "output_type": "stream",
     "text": [
      "     items support   \n",
      "[1]  {9}   0.09863014\n",
      "[2]  {22}  0.11232877\n",
      "[3]  {28}  0.11643836\n",
      "[4]  {32}  0.11643836\n",
      "[5]  {41}  0.11780822\n",
      "[6]  {42}  0.11917808\n",
      "[7]  {30}  0.11917808\n",
      "[8]  {16}  0.12191781\n",
      "[9]  {21}  0.12328767\n",
      "[10] {23}  0.12328767\n"
     ]
    }
   ],
   "source": [
    "inspect(rules[1:10])"
   ]
  },
  {
   "cell_type": "markdown",
   "metadata": {},
   "source": [
    "### Top 10 of the Support"
   ]
  },
  {
   "cell_type": "code",
   "execution_count": 23,
   "metadata": {
    "collapsed": false,
    "scrolled": true
   },
   "outputs": [
    {
     "name": "stdout",
     "output_type": "stream",
     "text": [
      "     items support  \n",
      "[1]  {20}  0.1589041\n",
      "[2]  {40}  0.1561644\n",
      "[3]  {34}  0.1547945\n",
      "[4]  {27}  0.1520548\n",
      "[5]  {1}   0.1493151\n",
      "[6]  {37}  0.1479452\n",
      "[7]  {17}  0.1438356\n",
      "[8]  {4}   0.1438356\n",
      "[9]  {14}  0.1438356\n",
      "[10] {8}   0.1424658\n"
     ]
    }
   ],
   "source": [
    "inspect(sort(rules, by = \"support\")[1:10]) "
   ]
  },
  {
   "cell_type": "markdown",
   "metadata": {},
   "source": [
    "### Find 3 Set of Rules\n",
    " - {19,25,28} 0.006849315 is Maximum support 3 Set"
   ]
  },
  {
   "cell_type": "code",
   "execution_count": 60,
   "metadata": {
    "collapsed": false,
    "scrolled": false
   },
   "outputs": [
    {
     "name": "stdout",
     "output_type": "stream",
     "text": [
      "     items      support    \n",
      "[1]  {24,43}    0.006849315\n",
      "[2]  {31,39}    0.006849315\n",
      "[3]  {19,25,28} 0.006849315\n",
      "[4]  {15,28,34} 0.006849315\n",
      "[5]  {4,28,40}  0.006849315\n",
      "[6]  {10,16,41} 0.006849315\n",
      "[7]  {34,42,45} 0.006849315\n",
      "[8]  {5,18,42}  0.006849315\n",
      "[9]  {14,27,30} 0.006849315\n",
      "[10] {11,14,21} 0.006849315\n",
      "[11] {23,29,44} 0.006849315\n",
      "[12] {23,35,43} 0.006849315\n",
      "[13] {6,7,15}   0.006849315\n",
      "[14] {6,18,31}  0.006849315\n",
      "[15] {11,29,44} 0.006849315\n",
      "[16] {27,29,40} 0.006849315\n"
     ]
    }
   ],
   "source": [
    "inspect(sort(rules[rules@quality$support >= 0.005 & rules@quality$support <= 0.00685], by = \"support\")[25:40])"
   ]
  }
 ],
 "metadata": {
  "anaconda-cloud": {},
  "kernelspec": {
   "display_name": "R 3.3",
   "language": "R",
   "name": "ir33"
  },
  "language_info": {
   "codemirror_mode": "r",
   "file_extension": ".r",
   "mimetype": "text/x-r-source",
   "name": "R",
   "pygments_lexer": "r",
   "version": "3.3.1"
  }
 },
 "nbformat": 4,
 "nbformat_minor": 0
}
