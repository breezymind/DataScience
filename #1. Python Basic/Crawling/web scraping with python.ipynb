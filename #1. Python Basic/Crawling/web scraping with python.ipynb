{
 "cells": [
  {
   "cell_type": "markdown",
   "metadata": {},
   "source": [
    "# 웹 스크래핑(web scraping with python)\n",
    "    어떠한 웹페이지의 HTML 내용을 분석하여 원하는 값을 추출해내는 것을 스크래핑(scraping)이라고 합니다.\n",
    "    python의 기본패키지 및 BeautifulSoup을 이용해 daum.net의 검색결과 페이지를 스크래핑하는 예제 코드를 첨부합니다.\n",
    "\n",
    "    이 코드를 실행하려면 먼저 BeautifulSoup 패키지를 설치해야 합니다.\n",
    "    BeautifulSoup 패키지의 이름은 간단하게 'bs4' 입니다.\n",
    "\n",
    "    그래서 윈도우 커맨드 창에서 'easy_install bs4' 라고 실행하면 패키지를 설치할 수 있습니다.\n",
    "    그런데 easy_install 를 설치하지 않았다면 설치해야 합니다.\n",
    "    \n",
    "    \n",
    "    bs4 설치방법\n",
    "    1) easy_install을 설치한다 방법은 http://blog.colab.kr/11 참고.\n",
    "    2) easy_install 이 설치된 후에 윈도우 command 창에서 다음과 같이 실행한다.\n",
    "    $ easy_install bs4"
   ]
  },
  {
   "cell_type": "code",
   "execution_count": 17,
   "metadata": {
    "collapsed": false
   },
   "outputs": [
    {
     "ename": "ImportError",
     "evalue": "No module named 'urllib2'",
     "output_type": "error",
     "traceback": [
      "\u001b[1;31m---------------------------------------------------------------------------\u001b[0m",
      "\u001b[1;31mImportError\u001b[0m                               Traceback (most recent call last)",
      "\u001b[1;32m<ipython-input-17-4fb7a4dc785f>\u001b[0m in \u001b[0;36m<module>\u001b[1;34m()\u001b[0m\n\u001b[0;32m      1\u001b[0m \u001b[1;33m\u001b[0m\u001b[0m\n\u001b[1;32m----> 2\u001b[1;33m \u001b[1;32mimport\u001b[0m \u001b[0murllib2\u001b[0m\u001b[1;33m\u001b[0m\u001b[0m\n\u001b[0m\u001b[0;32m      3\u001b[0m \u001b[1;32mimport\u001b[0m \u001b[0murllib\u001b[0m\u001b[1;33m\u001b[0m\u001b[0m\n\u001b[0;32m      4\u001b[0m \u001b[1;32mimport\u001b[0m \u001b[0murlparse\u001b[0m\u001b[1;33m\u001b[0m\u001b[0m\n\u001b[0;32m      5\u001b[0m \u001b[1;32mimport\u001b[0m \u001b[0mtime\u001b[0m\u001b[1;33m\u001b[0m\u001b[0m\n",
      "\u001b[1;31mImportError\u001b[0m: No module named 'urllib2'"
     ]
    }
   ],
   "source": [
    "# coding: utf-8\n",
    "import urllib2\n",
    "import urllib\n",
    "import urlparse\n",
    "import time\n",
    "from bs4 import BeautifulSoup as bs\n",
    "\n",
    "\n",
    "USER_AGENT_CHROME = \"Mozilla/5.0 (Macintosh; Intel Mac OS X 10_6_8) AppleWebKit/537.36 (KHTML, like Gecko) Chrome/28.0.1500.37 Safari/537.36\"\n",
    "USER_AGENT_FIREFOX = \"Mozilla/5.0 (X11; U; FreeBSD i386; en-US; rv:1.7.8) Gecko/20050609 Firefox/1.0.4\"\n",
    "AGENTS = [USER_AGENT_FIREFOX, USER_AGENT_CHROME]\n",
    "agent_cnt = 0"
   ]
  },
  {
   "cell_type": "code",
   "execution_count": 16,
   "metadata": {
    "collapsed": false
   },
   "outputs": [
    {
     "ename": "SyntaxError",
     "evalue": "invalid syntax (<ipython-input-16-0e72e9b9719c>, line 18)",
     "output_type": "error",
     "traceback": [
      "\u001b[1;36m  File \u001b[1;32m\"<ipython-input-16-0e72e9b9719c>\"\u001b[1;36m, line \u001b[1;32m18\u001b[0m\n\u001b[1;33m    except urllib.HTTPError, e:\u001b[0m\n\u001b[1;37m                           ^\u001b[0m\n\u001b[1;31mSyntaxError\u001b[0m\u001b[1;31m:\u001b[0m invalid syntax\n"
     ]
    }
   ],
   "source": [
    "def fetch(web_url):\n",
    "  '''\n",
    "  주어진 웹페이지의 HTML 내용을 읽어옴\n",
    "  :param web_url: the url of a webpage\n",
    "  :return: HTML contents (문자열)\n",
    "  '''\n",
    "  global agent_cnt\n",
    "  agent_cnt += 1\n",
    "  try:\n",
    "    req = urllib.Request(web_url)\n",
    "    req.add_header(\"User-Agent\", AGENTS[agent_cnt % 2])\n",
    "    req.add_header(\"Connection\", \"Keep-Alive\")\n",
    "    #print req.headers\n",
    "    f = urllib.urlopen(req)\n",
    "    html = f.read()\n",
    "    #print len(html)\n",
    "    return html\n",
    "  except urllib.HTTPError, e:\n",
    "    print e.code\n",
    "    print e.msg\n",
    "    return ''\n"
   ]
  }
 ],
 "metadata": {
  "kernelspec": {
   "display_name": "Python [Python2.7]",
   "language": "python",
   "name": "Python [Python2.7]"
  },
  "language_info": {
   "codemirror_mode": {
    "name": "ipython",
    "version": 2
   },
   "file_extension": ".py",
   "mimetype": "text/x-python",
   "name": "python",
   "nbconvert_exporter": "python",
   "pygments_lexer": "ipython2",
   "version": "2.7.12"
  }
 },
 "nbformat": 4,
 "nbformat_minor": 0
}
