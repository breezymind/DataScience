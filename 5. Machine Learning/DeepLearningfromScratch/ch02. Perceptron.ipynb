{
 "cells": [
  {
   "cell_type": "markdown",
   "metadata": {},
   "source": [
    "# Perceptron\n",
    " - 다수의 신호를 받아 하나의 신호로 출력하는 것.\n",
    " - 신호를 받아 정보를 전달하는데 그것이 활성화 됐다 안됐다 표현해주는 것.(1/0)\n",
    "  - Ex) x1, x2 : 입력 w1,w2 가중치 @(THeta) : 임계값.\n",
    " - w1x1 + w2x2 > @ : 1\n",
    " - w1x1 + w2x2 <= @ : 0"
   ]
  },
  {
   "cell_type": "markdown",
   "metadata": {},
   "source": [
    "## 1. AND "
   ]
  },
  {
   "cell_type": "code",
   "execution_count": 1,
   "metadata": {
    "collapsed": true
   },
   "outputs": [],
   "source": [
    "param_list = [[0,0],[1,0],[0,1],[1,1]]"
   ]
  },
  {
   "cell_type": "code",
   "execution_count": 2,
   "metadata": {
    "collapsed": true
   },
   "outputs": [],
   "source": [
    "def AND(x1,x2):\n",
    "    w1, w2, theta = 0.5,0.5,0.7\n",
    "    tmp = w1 * x1 + w2 * x2 \n",
    "    if tmp <= theta:\n",
    "        return 0\n",
    "    else:\n",
    "        return 1"
   ]
  },
  {
   "cell_type": "code",
   "execution_count": 3,
   "metadata": {
    "collapsed": false
   },
   "outputs": [
    {
     "name": "stdout",
     "output_type": "stream",
     "text": [
      "[0, 0]\n",
      "0\n",
      "[1, 0]\n",
      "0\n",
      "[0, 1]\n",
      "0\n",
      "[1, 1]\n",
      "1\n"
     ]
    }
   ],
   "source": [
    "for param in param_list:\n",
    "    print(param)    \n",
    "    print(AND(param[0],param[1]))"
   ]
  },
  {
   "cell_type": "markdown",
   "metadata": {},
   "source": [
    "### 가중치 편향 도입\n",
    " - w1x1 + w2x2 > @ : 1\n",
    " - w1x1 + w2x2 <= @ : 0\n",
    "  - 식에서 Theta를 -b로 치환 하게 된다면\n",
    " \n",
    " - w1x1 + w2x2 + b > 0 : 1\n",
    " - w1x1 + w2x2 + b <= 0 : 0\n",
    "  - 기표 표시 저환으로 b : bias를 형성\n"
   ]
  },
  {
   "cell_type": "code",
   "execution_count": 4,
   "metadata": {
    "collapsed": true
   },
   "outputs": [],
   "source": [
    "import numpy as np "
   ]
  },
  {
   "cell_type": "code",
   "execution_count": 5,
   "metadata": {
    "collapsed": true
   },
   "outputs": [],
   "source": [
    "x = np.array([0,1])\n",
    "w = np.array([.5,.5])\n",
    "b = -0.7"
   ]
  },
  {
   "cell_type": "code",
   "execution_count": 6,
   "metadata": {
    "collapsed": false
   },
   "outputs": [
    {
     "name": "stdout",
     "output_type": "stream",
     "text": [
      "[ 0.   0.5]\n"
     ]
    }
   ],
   "source": [
    "print(w*x)"
   ]
  },
  {
   "cell_type": "code",
   "execution_count": 7,
   "metadata": {
    "collapsed": false
   },
   "outputs": [
    {
     "data": {
      "text/plain": [
       "-0.19999999999999996"
      ]
     },
     "execution_count": 7,
     "metadata": {},
     "output_type": "execute_result"
    }
   ],
   "source": [
    "np.sum(w * x) + b"
   ]
  },
  {
   "cell_type": "code",
   "execution_count": 8,
   "metadata": {
    "collapsed": true
   },
   "outputs": [],
   "source": [
    "def AND(x1,x2):\n",
    "    x = np.array([x1,x2])\n",
    "    w = np.array([.5,.5])\n",
    "    b = -0.7\n",
    "    tmp = np.sum(w * x) + b\n",
    "    if tmp <= 0:\n",
    "        return 0\n",
    "    else:\n",
    "        return 1"
   ]
  },
  {
   "cell_type": "code",
   "execution_count": 9,
   "metadata": {
    "collapsed": false
   },
   "outputs": [
    {
     "name": "stdout",
     "output_type": "stream",
     "text": [
      "[0, 0]\n",
      "0\n",
      "[1, 0]\n",
      "0\n",
      "[0, 1]\n",
      "0\n",
      "[1, 1]\n",
      "1\n"
     ]
    }
   ],
   "source": [
    "for param in param_list:\n",
    "    print(param)    \n",
    "    print(AND(param[0],param[1]))"
   ]
  },
  {
   "cell_type": "markdown",
   "metadata": {},
   "source": [
    "## 2. NAND"
   ]
  },
  {
   "cell_type": "code",
   "execution_count": 10,
   "metadata": {
    "collapsed": true
   },
   "outputs": [],
   "source": [
    "def NAND(x1,x2):\n",
    "    x = np.array([x1,x2])\n",
    "    w = np.array([-.5,-.5])\n",
    "    b = 0.7\n",
    "    tmp = np.sum(w * x) + b\n",
    "    if tmp <= 0:\n",
    "        return 0\n",
    "    else:\n",
    "        return 1"
   ]
  },
  {
   "cell_type": "code",
   "execution_count": 11,
   "metadata": {
    "collapsed": false
   },
   "outputs": [
    {
     "name": "stdout",
     "output_type": "stream",
     "text": [
      "[0, 0]\n",
      "1\n",
      "[1, 0]\n",
      "1\n",
      "[0, 1]\n",
      "1\n",
      "[1, 1]\n",
      "0\n"
     ]
    }
   ],
   "source": [
    "for param in param_list:\n",
    "    print(param)    \n",
    "    print(NAND(param[0],param[1]))\n"
   ]
  },
  {
   "cell_type": "markdown",
   "metadata": {},
   "source": [
    "## 3. OR"
   ]
  },
  {
   "cell_type": "code",
   "execution_count": 12,
   "metadata": {
    "collapsed": true
   },
   "outputs": [],
   "source": [
    "def OR(x1,x2):\n",
    "    x = np.array([x1,x2])\n",
    "    w = np.array([.5,.5])\n",
    "    b = -0.2\n",
    "    tmp = np.sum(w * x) + b\n",
    "    if tmp <= 0:\n",
    "        return 0\n",
    "    else:\n",
    "        return 1"
   ]
  },
  {
   "cell_type": "code",
   "execution_count": 13,
   "metadata": {
    "collapsed": false
   },
   "outputs": [
    {
     "name": "stdout",
     "output_type": "stream",
     "text": [
      "[0, 0]\n",
      "0\n",
      "[1, 0]\n",
      "1\n",
      "[0, 1]\n",
      "1\n",
      "[1, 1]\n",
      "1\n"
     ]
    }
   ],
   "source": [
    "for param in param_list:\n",
    "    print(param)    \n",
    "    print(OR(param[0],param[1]))"
   ]
  },
  {
   "cell_type": "markdown",
   "metadata": {},
   "source": [
    "## 4. XOR\n",
    " - 선형으로 풀수 있는 문제가 아니다. \n",
    " - 2계층이 필요. "
   ]
  },
  {
   "cell_type": "code",
   "execution_count": 14,
   "metadata": {
    "collapsed": true
   },
   "outputs": [],
   "source": [
    "def XOR(x1,x2):\n",
    "    s1 = NAND(x1,x2)\n",
    "    s2 = OR(x1,x2)\n",
    "    y= AND(s1,s2)\n",
    "    return y"
   ]
  },
  {
   "cell_type": "code",
   "execution_count": 15,
   "metadata": {
    "collapsed": false
   },
   "outputs": [
    {
     "name": "stdout",
     "output_type": "stream",
     "text": [
      "[0, 0]\n",
      "0\n",
      "[1, 0]\n",
      "1\n",
      "[0, 1]\n",
      "1\n",
      "[1, 1]\n",
      "0\n"
     ]
    }
   ],
   "source": [
    "for param in param_list:\n",
    "    print(param)    \n",
    "    print(XOR(param[0],param[1]))"
   ]
  }
 ],
 "metadata": {
  "anaconda-cloud": {},
  "kernelspec": {
   "display_name": "Python [py35]",
   "language": "python",
   "name": "Python [py35]"
  },
  "language_info": {
   "codemirror_mode": {
    "name": "ipython",
    "version": 3
   },
   "file_extension": ".py",
   "mimetype": "text/x-python",
   "name": "python",
   "nbconvert_exporter": "python",
   "pygments_lexer": "ipython3",
   "version": "3.5.2"
  }
 },
 "nbformat": 4,
 "nbformat_minor": 0
}
