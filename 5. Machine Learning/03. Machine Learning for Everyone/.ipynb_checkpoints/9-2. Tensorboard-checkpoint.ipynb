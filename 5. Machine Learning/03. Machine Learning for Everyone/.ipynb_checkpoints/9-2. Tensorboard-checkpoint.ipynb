{
 "cells": [
  {
   "cell_type": "markdown",
   "metadata": {},
   "source": [
    "# Tensorboard \n",
    "<img src=\"photo/4.PNG\">"
   ]
  },
  {
   "cell_type": "code",
   "execution_count": 2,
   "metadata": {
    "collapsed": false
   },
   "outputs": [],
   "source": [
    "import numpy as np\n",
    "import tensorflow as tf\n",
    "\n",
    "xy = np.loadtxt('07train.txt', unpack=True)\n",
    "\n",
    "x_data = np.transpose( xy[0:-1] )\n",
    "y_data = np.reshape( xy[-1], (4,1) )\n",
    "\n",
    "X = tf.placeholder(tf.float32, name = 'X-input') # 모든 변수에 이름을 시켜줘야 된다.\n",
    "Y = tf.placeholder(tf.float32, name = 'Y-input')\n",
    "\n",
    "# Deep network configuration.: Use more layers. \n",
    "W1 = tf.Variable(tf.random_uniform( [2,5], -1.0, 1.0),name = 'weight1')\n",
    "W2 = tf.Variable(tf.random_uniform( [5,4], -1.0, 1.0),name = 'weight2')\n",
    "W3 = tf.Variable(tf.random_uniform( [4,1], -1.0, 1.0),name = 'weight3')\n",
    "\n",
    "b1 = tf.Variable(tf.zeros([5]), name=\"bias1\")\n",
    "b2 = tf.Variable(tf.zeros([4]), name=\"bias2\")\n",
    "b3 = tf.Variable(tf.zeros([1]), name=\"bias3\")"
   ]
  },
  {
   "cell_type": "code",
   "execution_count": 3,
   "metadata": {
    "collapsed": true
   },
   "outputs": [],
   "source": [
    "# Add histogram\n",
    "w1_hist = tf.histogram_summary(\"weights1\", W1)\n",
    "w2_hist = tf.histogram_summary(\"weights2\", W2)\n",
    "w3_hist = tf.histogram_summary(\"weights3\", W3)\n",
    "\n",
    "b1_hist = tf.histogram_summary(\"biases1\", b1)\n",
    "b2_hist = tf.histogram_summary(\"biases2\", b2)\n",
    "b3_hist = tf.histogram_summary(\"biases3\", b3)\n",
    "\n",
    "y_hist = tf.histogram_summary(\"y\", Y)"
   ]
  },
  {
   "cell_type": "code",
   "execution_count": 4,
   "metadata": {
    "collapsed": true
   },
   "outputs": [],
   "source": [
    "# Hypotheses \n",
    "# Grouping of Graph\n",
    "with tf.name_scope(\"layer2\") as scope:\n",
    "    L2 =  tf.sigmoid(tf.matmul(X,W1)+b1)\n",
    "\n",
    "with tf.name_scope(\"layer3\") as scope:\n",
    "    L3 =  tf.sigmoid(tf.matmul(L2,W2)+b2)\n",
    "\n",
    "with tf.name_scope(\"layer4\") as scope:\n",
    "    hypothesis = tf.sigmoid( tf.matmul(L3,W3) + b3)"
   ]
  },
  {
   "cell_type": "code",
   "execution_count": 5,
   "metadata": {
    "collapsed": true
   },
   "outputs": [],
   "source": [
    "# Cost function \n",
    "with tf.name_scope(\"cost\") as scope:\n",
    "    cost = -tf.reduce_mean( Y*tf.log(hypothesis)+(1-Y)* tf.log(1.-hypothesis) )\n",
    "    cost_summ = tf.scalar_summary(\"cost\", cost) # Label 을 주고 변수이름 지정.\n",
    "    \n",
    "# Minimize cost.\n",
    "a = tf.Variable(0.1)\n",
    "with tf.name_scope(\"train\") as scope:\n",
    "    optimizer = tf.train.GradientDescentOptimizer(a)\n",
    "    train = optimizer.minimize(cost)\n",
    "\n",
    "# Initializa all variables.\n",
    "init = tf.initialize_all_variables()"
   ]
  },
  {
   "cell_type": "code",
   "execution_count": 6,
   "metadata": {
    "collapsed": false
   },
   "outputs": [
    {
     "name": "stdout",
     "output_type": "stream",
     "text": [
      "[array([[ 0.0019121 ],\n",
      "       [ 0.99867457],\n",
      "       [ 0.99802512],\n",
      "       [ 0.00196837]], dtype=float32), array([[ 0.],\n",
      "       [ 1.],\n",
      "       [ 1.],\n",
      "       [ 0.]], dtype=float32), array([[ True],\n",
      "       [ True],\n",
      "       [ True],\n",
      "       [ True]], dtype=bool), 1.0]\n",
      "Accuracy: 1.0\n"
     ]
    }
   ],
   "source": [
    "# Launch the graph\n",
    "with tf.Session() as sess:\n",
    "\n",
    "    # tensorboard merge\n",
    "    merged = tf.merge_all_summaries()\n",
    "    writer = tf.train.SummaryWriter(\"./logs/xor_logs\", sess.graph)\n",
    "    \n",
    "    sess.run(init)\n",
    "\n",
    "    # Run graph.\n",
    "    for step in range(20001):\n",
    "        sess.run(train, feed_dict={X:x_data, Y:y_data})\n",
    "        if step % 2000 == 0:\n",
    "            summary, _ = sess.run( [merged, train], feed_dict={X:x_data, Y:y_data})\n",
    "            writer.add_summary(summary, step)\n",
    "    \n",
    "    # Test model\n",
    "    correct_prediction = tf.equal( tf.floor(hypothesis+0.5), Y)\n",
    "    accuracy = tf.reduce_mean(tf.cast( correct_prediction, \"float\" ) )\n",
    "    \n",
    "    # Check accuracy\n",
    "    print( sess.run( [hypothesis, tf.floor(hypothesis+0.5), correct_prediction, accuracy], \n",
    "                   feed_dict={X:x_data, Y:y_data}) )\n",
    "    print( \"Accuracy:\", accuracy.eval({X:x_data, Y:y_data}) )"
   ]
  },
  {
   "cell_type": "markdown",
   "metadata": {},
   "source": [
    "cmd : tensorboard --logdir=./logs"
   ]
  }
 ],
 "metadata": {
  "kernelspec": {
   "display_name": "Python 3",
   "language": "python",
   "name": "python3"
  },
  "language_info": {
   "codemirror_mode": {
    "name": "ipython",
    "version": 3
   },
   "file_extension": ".py",
   "mimetype": "text/x-python",
   "name": "python",
   "nbconvert_exporter": "python",
   "pygments_lexer": "ipython3",
   "version": "3.5.1"
  }
 },
 "nbformat": 4,
 "nbformat_minor": 1
}
