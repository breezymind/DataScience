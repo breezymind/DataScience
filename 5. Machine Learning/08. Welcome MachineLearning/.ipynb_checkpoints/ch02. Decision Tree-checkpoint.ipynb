{
 "cells": [
  {
   "cell_type": "markdown",
   "metadata": {},
   "source": [
    "# Decision Tree"
   ]
  },
  {
   "cell_type": "markdown",
   "metadata": {},
   "source": [
    " - Yes or No \n",
    " - 범주형 변수 Factor in R"
   ]
  },
  {
   "cell_type": "code",
   "execution_count": 14,
   "metadata": {
    "collapsed": true
   },
   "outputs": [],
   "source": [
    "library(stringr)"
   ]
  },
  {
   "cell_type": "code",
   "execution_count": 6,
   "metadata": {
    "collapsed": false
   },
   "outputs": [
    {
     "data": {
      "text/html": [
       "<table>\n",
       "<thead><tr><th></th><th scope=col>성별</th><th scope=col>나이</th><th scope=col>직장여부</th><th scope=col>결혼여부</th><th scope=col>차량보유여부</th><th scope=col>쿠폰반응여부</th></tr></thead>\n",
       "<tbody>\n",
       "\t<tr><th scope=row>1</th><td>남  </td><td>30대</td><td>NO  </td><td>YES </td><td>NO  </td><td>NO  </td></tr>\n",
       "\t<tr><th scope=row>2</th><td>여  </td><td>20대</td><td>YES </td><td>YES </td><td>YES </td><td>NO  </td></tr>\n",
       "\t<tr><th scope=row>3</th><td>여  </td><td>20대</td><td>YES </td><td>YES </td><td>NO  </td><td>NO  </td></tr>\n",
       "\t<tr><th scope=row>4</th><td>여  </td><td>40대</td><td>NO  </td><td>NO  </td><td>NO  </td><td>NO  </td></tr>\n",
       "\t<tr><th scope=row>5</th><td>여  </td><td>30대</td><td>NO  </td><td>YES </td><td>NO  </td><td>NO  </td></tr>\n",
       "\t<tr><th scope=row>6</th><td>여  </td><td>30대</td><td>NO  </td><td>NO  </td><td>YES </td><td>NO  </td></tr>\n",
       "</tbody>\n",
       "</table>\n"
      ],
      "text/latex": [
       "\\begin{tabular}{r|llllll}\n",
       "  & 성별 & 나이 & 직장여부 & 결혼여부 & 차량보유여부 & 쿠폰반응여부\\\\\n",
       "\\hline\n",
       "\t1 & 남   & 30대 & NO   & YES  & NO   & NO  \\\\\n",
       "\t2 & 여   & 20대 & YES  & YES  & YES  & NO  \\\\\n",
       "\t3 & 여   & 20대 & YES  & YES  & NO   & NO  \\\\\n",
       "\t4 & 여   & 40대 & NO   & NO   & NO   & NO  \\\\\n",
       "\t5 & 여   & 30대 & NO   & YES  & NO   & NO  \\\\\n",
       "\t6 & 여   & 30대 & NO   & NO   & YES  & NO  \\\\\n",
       "\\end{tabular}\n"
      ],
      "text/plain": [
       "  성별 나이 직장여부 결혼여부 차량보유여부 쿠폰반응여부\n",
       "1   남 30대       NO      YES           NO           NO\n",
       "2   여 20대      YES      YES          YES           NO\n",
       "3   여 20대      YES      YES           NO           NO\n",
       "4   여 40대       NO       NO           NO           NO\n",
       "5   여 30대       NO      YES           NO           NO\n",
       "6   여 30대       NO       NO          YES           NO"
      ]
     },
     "metadata": {},
     "output_type": "display_data"
    }
   ],
   "source": [
    "skin <- read.csv('data/skin.csv', header=T)\n",
    "skin <- skin[-1]\n",
    "head(skin)"
   ]
  },
  {
   "cell_type": "code",
   "execution_count": 7,
   "metadata": {
    "collapsed": false
   },
   "outputs": [
    {
     "data": {
      "text/html": [
       "<ol class=list-inline>\n",
       "\t<li>\"성별\"</li>\n",
       "\t<li>\"나이\"</li>\n",
       "\t<li>\"직장여부\"</li>\n",
       "\t<li>\"결혼여부\"</li>\n",
       "\t<li>\"차량보유여부\"</li>\n",
       "\t<li>\"쿠폰반응여부\"</li>\n",
       "</ol>\n"
      ],
      "text/latex": [
       "\\begin{enumerate*}\n",
       "\\item \"성별\"\n",
       "\\item \"나이\"\n",
       "\\item \"직장여부\"\n",
       "\\item \"결혼여부\"\n",
       "\\item \"차량보유여부\"\n",
       "\\item \"쿠폰반응여부\"\n",
       "\\end{enumerate*}\n"
      ],
      "text/markdown": [
       "1. \"성별\"\n",
       "2. \"나이\"\n",
       "3. \"직장여부\"\n",
       "4. \"결혼여부\"\n",
       "5. \"차량보유여부\"\n",
       "6. \"쿠폰반응여부\"\n",
       "\n",
       "\n"
      ],
      "text/plain": [
       "[1] \"성별\"         \"나이\"         \"직장여부\"     \"결혼여부\"     \"차량보유여부\"\n",
       "[6] \"쿠폰반응여부\""
      ]
     },
     "metadata": {},
     "output_type": "display_data"
    }
   ],
   "source": [
    "names(skin)"
   ]
  },
  {
   "cell_type": "code",
   "execution_count": 8,
   "metadata": {
    "collapsed": true
   },
   "outputs": [],
   "source": [
    "names(skin) <- c(\"sex\",\"age\",\"job\",\"marry\",\"car\",\"react\")"
   ]
  },
  {
   "cell_type": "code",
   "execution_count": 9,
   "metadata": {
    "collapsed": false
   },
   "outputs": [
    {
     "data": {
      "text/html": [
       "<table>\n",
       "<thead><tr><th></th><th scope=col>sex</th><th scope=col>age</th><th scope=col>job</th><th scope=col>marry</th><th scope=col>car</th><th scope=col>react</th></tr></thead>\n",
       "<tbody>\n",
       "\t<tr><th scope=row>1</th><td>남  </td><td>30대</td><td>NO  </td><td>YES </td><td>NO  </td><td>NO  </td></tr>\n",
       "\t<tr><th scope=row>2</th><td>여  </td><td>20대</td><td>YES </td><td>YES </td><td>YES </td><td>NO  </td></tr>\n",
       "\t<tr><th scope=row>3</th><td>여  </td><td>20대</td><td>YES </td><td>YES </td><td>NO  </td><td>NO  </td></tr>\n",
       "\t<tr><th scope=row>4</th><td>여  </td><td>40대</td><td>NO  </td><td>NO  </td><td>NO  </td><td>NO  </td></tr>\n",
       "\t<tr><th scope=row>5</th><td>여  </td><td>30대</td><td>NO  </td><td>YES </td><td>NO  </td><td>NO  </td></tr>\n",
       "\t<tr><th scope=row>6</th><td>여  </td><td>30대</td><td>NO  </td><td>NO  </td><td>YES </td><td>NO  </td></tr>\n",
       "</tbody>\n",
       "</table>\n"
      ],
      "text/latex": [
       "\\begin{tabular}{r|llllll}\n",
       "  & sex & age & job & marry & car & react\\\\\n",
       "\\hline\n",
       "\t1 & 남   & 30대 & NO   & YES  & NO   & NO  \\\\\n",
       "\t2 & 여   & 20대 & YES  & YES  & YES  & NO  \\\\\n",
       "\t3 & 여   & 20대 & YES  & YES  & NO   & NO  \\\\\n",
       "\t4 & 여   & 40대 & NO   & NO   & NO   & NO  \\\\\n",
       "\t5 & 여   & 30대 & NO   & YES  & NO   & NO  \\\\\n",
       "\t6 & 여   & 30대 & NO   & NO   & YES  & NO  \\\\\n",
       "\\end{tabular}\n"
      ],
      "text/plain": [
       "  sex  age job marry car react\n",
       "1  남 30대  NO   YES  NO    NO\n",
       "2  여 20대 YES   YES YES    NO\n",
       "3  여 20대 YES   YES  NO    NO\n",
       "4  여 40대  NO    NO  NO    NO\n",
       "5  여 30대  NO   YES  NO    NO\n",
       "6  여 30대  NO    NO YES    NO"
      ]
     },
     "metadata": {},
     "output_type": "display_data"
    }
   ],
   "source": [
    "head(skin)"
   ]
  },
  {
   "cell_type": "code",
   "execution_count": 11,
   "metadata": {
    "collapsed": false
   },
   "outputs": [],
   "source": [
    "skin$sex <- as.character(skin$sex)"
   ]
  },
  {
   "cell_type": "code",
   "execution_count": 12,
   "metadata": {
    "collapsed": true
   },
   "outputs": [],
   "source": [
    "skin$sex <- ifelse(skin$sex==\"남\",\"M\",\"W\")"
   ]
  },
  {
   "cell_type": "code",
   "execution_count": 15,
   "metadata": {
    "collapsed": true
   },
   "outputs": [],
   "source": [
    "skin$age <- str_replace(skin$age,\"대\",\"\")"
   ]
  },
  {
   "cell_type": "code",
   "execution_count": 17,
   "metadata": {
    "collapsed": false
   },
   "outputs": [
    {
     "name": "stdout",
     "output_type": "stream",
     "text": [
      "'data.frame':\t30 obs. of  6 variables:\n",
      " $ sex  : chr  \"M\" \"W\" \"W\" \"W\" ...\n",
      " $ age  : chr  \"30\" \"20\" \"20\" \"40\" ...\n",
      " $ job  : Factor w/ 2 levels \"NO\",\"YES\": 1 2 2 1 1 1 1 1 2 2 ...\n",
      " $ marry: Factor w/ 2 levels \"NO\",\"YES\": 2 2 2 1 2 1 2 2 2 1 ...\n",
      " $ car  : Factor w/ 2 levels \"NO\",\"YES\": 1 2 1 1 1 2 1 2 1 2 ...\n",
      " $ react: Factor w/ 2 levels \"NO\",\"YES\": 1 1 1 1 1 1 1 2 2 1 ...\n"
     ]
    }
   ],
   "source": [
    "str(skin)"
   ]
  },
  {
   "cell_type": "code",
   "execution_count": 18,
   "metadata": {
    "collapsed": true
   },
   "outputs": [],
   "source": [
    "skin$sex <- factor(skin$sex)\n",
    "skin$age <- factor(skin$age)"
   ]
  },
  {
   "cell_type": "code",
   "execution_count": 19,
   "metadata": {
    "collapsed": false
   },
   "outputs": [
    {
     "data": {
      "text/html": [
       "<table>\n",
       "<thead><tr><th></th><th scope=col>sex</th><th scope=col>age</th><th scope=col>job</th><th scope=col>marry</th><th scope=col>car</th><th scope=col>react</th></tr></thead>\n",
       "<tbody>\n",
       "\t<tr><th scope=row>1</th><td>M  </td><td>30 </td><td>NO </td><td>YES</td><td>NO </td><td>NO </td></tr>\n",
       "\t<tr><th scope=row>2</th><td>W  </td><td>20 </td><td>YES</td><td>YES</td><td>YES</td><td>NO </td></tr>\n",
       "\t<tr><th scope=row>3</th><td>W  </td><td>20 </td><td>YES</td><td>YES</td><td>NO </td><td>NO </td></tr>\n",
       "\t<tr><th scope=row>4</th><td>W </td><td>40</td><td>NO</td><td>NO</td><td>NO</td><td>NO</td></tr>\n",
       "\t<tr><th scope=row>5</th><td>W  </td><td>30 </td><td>NO </td><td>YES</td><td>NO </td><td>NO </td></tr>\n",
       "\t<tr><th scope=row>6</th><td>W  </td><td>30 </td><td>NO </td><td>NO </td><td>YES</td><td>NO </td></tr>\n",
       "</tbody>\n",
       "</table>\n"
      ],
      "text/latex": [
       "\\begin{tabular}{r|llllll}\n",
       "  & sex & age & job & marry & car & react\\\\\n",
       "\\hline\n",
       "\t1 & M   & 30  & NO  & YES & NO  & NO \\\\\n",
       "\t2 & W   & 20  & YES & YES & YES & NO \\\\\n",
       "\t3 & W   & 20  & YES & YES & NO  & NO \\\\\n",
       "\t4 & W  & 40 & NO & NO & NO & NO\\\\\n",
       "\t5 & W   & 30  & NO  & YES & NO  & NO \\\\\n",
       "\t6 & W   & 30  & NO  & NO  & YES & NO \\\\\n",
       "\\end{tabular}\n"
      ],
      "text/plain": [
       "  sex age job marry car react\n",
       "1   M  30  NO   YES  NO    NO\n",
       "2   W  20 YES   YES YES    NO\n",
       "3   W  20 YES   YES  NO    NO\n",
       "4   W  40  NO    NO  NO    NO\n",
       "5   W  30  NO   YES  NO    NO\n",
       "6   W  30  NO    NO YES    NO"
      ]
     },
     "metadata": {},
     "output_type": "display_data"
    }
   ],
   "source": [
    "head(skin)"
   ]
  },
  {
   "cell_type": "markdown",
   "metadata": {},
   "source": [
    "## 알고리즘 \n",
    " - 엔트로피 : 정보의 무질서 혹은 복잡도/불확실성\n",
    " - $Entropy H = \\sum_n^i{p(x_i)log_2p(x_i)}  $"
   ]
  },
  {
   "cell_type": "code",
   "execution_count": 20,
   "metadata": {
    "collapsed": true
   },
   "outputs": [],
   "source": [
    "x <- c(\"red\",\"blue\",\"blue\",\"red\",\"red\")\n",
    "\n",
    "#정보엔트로피를 구하는 함수 \n",
    "info_entropy <- function(x) { \n",
    "  \n",
    "  factor_x <- factor(x) \n",
    "  entropy <- 0 \n",
    "  for(str in levels(factor_x)) {\n",
    "      pro <- sum(x == str) / length(x) \n",
    "      entropy <- entropy - pro * log2(pro) \n",
    "  }\n",
    "  return (entropy)\n",
    "}"
   ]
  },
  {
   "cell_type": "code",
   "execution_count": 21,
   "metadata": {
    "collapsed": false
   },
   "outputs": [
    {
     "data": {
      "text/html": [
       "0.970950594454669"
      ],
      "text/latex": [
       "0.970950594454669"
      ],
      "text/markdown": [
       "0.970950594454669"
      ],
      "text/plain": [
       "[1] 0.9709506"
      ]
     },
     "metadata": {},
     "output_type": "display_data"
    }
   ],
   "source": [
    "info_entropy(x)"
   ]
  },
  {
   "cell_type": "code",
   "execution_count": 22,
   "metadata": {
    "collapsed": false
   },
   "outputs": [
    {
     "name": "stdout",
     "output_type": "stream",
     "text": [
      "[1] \"sex\"\n",
      "[1] \"age\"\n",
      "[1] \"job\"\n",
      "[1] \"marry\"\n",
      "[1] \"car\"\n"
     ]
    }
   ],
   "source": [
    "for(str in colnames(skin)[1:5]) { \n",
    "        print(str)\n",
    "}"
   ]
  },
  {
   "cell_type": "code",
   "execution_count": 23,
   "metadata": {
    "collapsed": false
   },
   "outputs": [
    {
     "name": "stdout",
     "output_type": "stream",
     "text": [
      "sex ----> 1.641098 \n",
      "age ----> 2.796506 \n",
      "job ----> 1.887994 \n",
      "marry ----> 0.9709506 \n",
      "car ----> 1.932395 \n"
     ]
    }
   ],
   "source": [
    "#새미의 데이터셋에 대하여 적용해 본 엔트로피 계산\n",
    "#맨처음의 '쿠폰반응여부'의 엔트로피\n",
    "first_entropy <- info_entropy(skin[,\"react\"])\n",
    "\n",
    "for(str in colnames(skin)[1:5]) { \n",
    "    \n",
    "    #str=조건변수 , factors=조건값집합\n",
    "    factors <- levels(skin[[str]])\n",
    "    \n",
    "    #조건변수를 각각의 가능한 속성값으로 분류하였을때 '쿠폰반응여부'에 대한 엔트로피의 합계\n",
    "    sum_entropy <- 0 \n",
    "    for(str2 in factors) { \n",
    "      test_x <- skin[skin[[str]] == str2,][6]\n",
    "      sum_entropy <- sum_entropy + info_entropy(test_x[,1])\n",
    "    }\n",
    "    cat(str , '---->' , sum_entropy,'\\n')\n",
    "    \n",
    "}"
   ]
  },
  {
   "cell_type": "markdown",
   "metadata": {},
   "source": [
    " - Label을 가장 깔끔하게 나누는 정도라고 봐도 무방하다. "
   ]
  },
  {
   "cell_type": "code",
   "execution_count": 24,
   "metadata": {
    "collapsed": true
   },
   "outputs": [],
   "source": [
    "library(rpart)"
   ]
  },
  {
   "cell_type": "code",
   "execution_count": 25,
   "metadata": {
    "collapsed": true
   },
   "outputs": [],
   "source": [
    "tree1 <- rpart(react ~., data=skin, control=rpart.control(minsplit=2)) #최소가지치기 2"
   ]
  },
  {
   "cell_type": "code",
   "execution_count": 29,
   "metadata": {
    "collapsed": true
   },
   "outputs": [],
   "source": [
    "options(repr.plot.width=5, repr.plot.height=4)"
   ]
  },
  {
   "cell_type": "code",
   "execution_count": 30,
   "metadata": {
    "collapsed": false
   },
   "outputs": [
    {
     "data": {
      "image/png": "[encoded data removed]",
      "text/plain": [
       "plot without title"
      ]
     },
     "metadata": {},
     "output_type": "display_data"
    }
   ],
   "source": [
    "plot(tree1, compress = T, uniform = T, margin=0.1) # compress : 세로폭, uniform: 가로폭 을 줄여주는 인자.\n",
    "text(tree1, use.n=T, col=\"blue\")"
   ]
  },
  {
   "cell_type": "code",
   "execution_count": 31,
   "metadata": {
    "collapsed": false
   },
   "outputs": [
    {
     "data": {
      "text/plain": [
       "n= 30 \n",
       "\n",
       "node), split, n, loss, yval, (yprob)\n",
       "      * denotes terminal node\n",
       "\n",
       "  1) root 30 12 NO (0.6000000 0.4000000)  \n",
       "    2) marry=NO 10  0 NO (1.0000000 0.0000000) *\n",
       "    3) marry=YES 20  8 YES (0.4000000 0.6000000)  \n",
       "      6) age=20,30 16  8 NO (0.5000000 0.5000000)  \n",
       "       12) sex=M 5  1 NO (0.8000000 0.2000000)  \n",
       "         24) job=NO 3  0 NO (1.0000000 0.0000000) *\n",
       "         25) job=YES 2  1 NO (0.5000000 0.5000000)  \n",
       "           50) age=20 1  0 NO (1.0000000 0.0000000) *\n",
       "           51) age=30 1  0 YES (0.0000000 1.0000000) *\n",
       "       13) sex=W 11  4 YES (0.3636364 0.6363636)  \n",
       "         26) age=20 5  2 NO (0.6000000 0.4000000)  \n",
       "           52) job=YES 2  0 NO (1.0000000 0.0000000) *\n",
       "           53) job=NO 3  1 YES (0.3333333 0.6666667)  \n",
       "            106) car=NO 1  0 NO (1.0000000 0.0000000) *\n",
       "            107) car=YES 2  0 YES (0.0000000 1.0000000) *\n",
       "         27) age=30 6  1 YES (0.1666667 0.8333333)  \n",
       "           54) job=NO 2  1 NO (0.5000000 0.5000000)  \n",
       "            108) car=NO 1  0 NO (1.0000000 0.0000000) *\n",
       "            109) car=YES 1  0 YES (0.0000000 1.0000000) *\n",
       "           55) job=YES 4  0 YES (0.0000000 1.0000000) *\n",
       "      7) age=40 4  0 YES (0.0000000 1.0000000) *"
      ]
     },
     "metadata": {},
     "output_type": "display_data"
    }
   ],
   "source": [
    "tree1"
   ]
  },
  {
   "cell_type": "markdown",
   "metadata": {},
   "source": [
    " - Pruning(가지치기) : Overfitting 방지. "
   ]
  },
  {
   "cell_type": "code",
   "execution_count": null,
   "metadata": {
    "collapsed": true
   },
   "outputs": [],
   "source": []
  }
 ],
 "metadata": {
  "anaconda-cloud": {},
  "kernelspec": {
   "display_name": "R 3.3",
   "language": "R",
   "name": "ir33"
  },
  "language_info": {
   "codemirror_mode": "r",
   "file_extension": ".r",
   "mimetype": "text/x-r-source",
   "name": "R",
   "pygments_lexer": "r",
   "version": "3.3.1"
  }
 },
 "nbformat": 4,
 "nbformat_minor": 0
}
