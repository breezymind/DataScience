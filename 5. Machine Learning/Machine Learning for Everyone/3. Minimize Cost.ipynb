{
 "cells": [
  {
   "cell_type": "markdown",
   "metadata": {},
   "source": [
    "# Minimize Cost"
   ]
  },
  {
   "cell_type": "code",
   "execution_count": 1,
   "metadata": {
    "collapsed": true
   },
   "outputs": [],
   "source": [
    "import tensorflow as tf"
   ]
  },
  {
   "cell_type": "markdown",
   "metadata": {},
   "source": [
    "### Data set and Making hypothesis"
   ]
  },
  {
   "cell_type": "code",
   "execution_count": 2,
   "metadata": {
    "collapsed": false
   },
   "outputs": [],
   "source": [
    "# data set\n",
    "x_data = [1., 2., 3., 4.]\n",
    "y_data = [1., 3., 5., 7.]\n",
    "\n",
    "# try to find values for w and b that compute y_data = W * x_data + b\n",
    "# range is -100 ~ 100\n",
    "W = tf.Variable(tf.random_uniform([1], -10000., 10000.))\n",
    "\n",
    "X = tf.placeholder(tf.float32)\n",
    "Y = tf.placeholder(tf.float32)\n",
    "\n",
    "# my hypothesis\n",
    "hypothesis = W * X"
   ]
  },
  {
   "cell_type": "markdown",
   "metadata": {},
   "source": [
    "### Simplified cost function & minimize"
   ]
  },
  {
   "cell_type": "markdown",
   "metadata": {},
   "source": [
    "$W = W - \\alpha {1 \\over m} \\sum_{i=1}^m(W_x^{(i)}-y^{(i)})x^{(i)}$"
   ]
  },
  {
   "cell_type": "code",
   "execution_count": 3,
   "metadata": {
    "collapsed": true
   },
   "outputs": [],
   "source": [
    "# Simplified cost function\n",
    "cost = tf.reduce_mean(tf.square(hypothesis - Y))\n",
    "\n",
    "# minimize\n",
    "descent = W - tf.mul(0.1, tf.reduce_mean(tf.mul( ( tf.mul(W, X) - Y ), X ), )) #GDS 알고리즘\n",
    "update = W.assign(descent)"
   ]
  },
  {
   "cell_type": "markdown",
   "metadata": {},
   "source": [
    "### initialize & Launch session"
   ]
  },
  {
   "cell_type": "code",
   "execution_count": 4,
   "metadata": {
    "collapsed": false
   },
   "outputs": [
    {
     "name": "stdout",
     "output_type": "stream",
     "text": [
      "0 713386.0 [-306.74560547]\n",
      "1 44586.8 [-75.43640137]\n",
      "2 2786.83 [-17.60910034]\n",
      "3 174.333 [-3.15227509]\n",
      "4 11.0521 [ 0.46193123]\n",
      "5 0.847005 [ 1.36548281]\n",
      "6 0.209188 [ 1.5913707]\n",
      "7 0.169324 [ 1.64784265]\n",
      "8 0.166833 [ 1.6619606]\n",
      "9 0.166677 [ 1.66549015]\n",
      "10 0.166667 [ 1.66637254]\n",
      "11 0.166667 [ 1.66659307]\n",
      "12 0.166667 [ 1.66664827]\n",
      "13 0.166667 [ 1.6666621]\n",
      "14 0.166667 [ 1.66666555]\n",
      "15 0.166667 [ 1.66666639]\n",
      "16 0.166667 [ 1.66666663]\n",
      "17 0.166667 [ 1.66666663]\n",
      "18 0.166667 [ 1.66666663]\n",
      "19 0.166667 [ 1.66666663]\n"
     ]
    }
   ],
   "source": [
    "# before starting, initialize the variables\n",
    "init = tf.initialize_all_variables()\n",
    "\n",
    "# launch\n",
    "sess = tf.Session()\n",
    "sess.run(init)\n",
    "\n",
    "# fit the line\n",
    "for step in range(20):\n",
    "    sess.run(update, feed_dict={X: x_data, Y: y_data})\n",
    "    print(step, sess.run(cost, feed_dict={X: x_data, Y: y_data}), sess.run(W))"
   ]
  },
  {
   "cell_type": "code",
   "execution_count": 5,
   "metadata": {
    "collapsed": false
   },
   "outputs": [
    {
     "name": "stdout",
     "output_type": "stream",
     "text": [
      "[ 8.33333302]\n",
      "[ 4.16666651]\n"
     ]
    }
   ],
   "source": [
    "print(sess.run(hypothesis, feed_dict={X: 5}))\n",
    "print(sess.run(hypothesis, feed_dict={X: 2.5}))"
   ]
  },
  {
   "cell_type": "markdown",
   "metadata": {},
   "source": [
    "## Cost function 시각화 \n"
   ]
  },
  {
   "cell_type": "code",
   "execution_count": 8,
   "metadata": {
    "collapsed": false
   },
   "outputs": [],
   "source": [
    "X = [1., 2., 3.]\n",
    "Y = [1., 2., 3.]\n",
    "m = n_samples = len(x_data)\n",
    "\n",
    "#  초기 변수값 설정\n",
    "W = tf.placeholder(tf.float32)\n",
    "\n",
    "# 가설\n",
    "hypothesis = tf.mul(X, W)\n",
    "\n",
    "# Cost function\n",
    "cost = tf.reduce_sum(tf.pow(hypothesis - Y, 2)) / (m)\n",
    "\n",
    "# 모든 변수 초기화\n",
    "init = tf.initialize_all_variables()\n",
    "\n",
    "# For graphs\n",
    "W_val = []\n",
    "cost_val = []"
   ]
  },
  {
   "cell_type": "code",
   "execution_count": 10,
   "metadata": {
    "collapsed": false
   },
   "outputs": [
    {
     "name": "stdout",
     "output_type": "stream",
     "text": [
      "-3.0 56.0\n",
      "-2.9000000000000004 53.235\n",
      "-2.8000000000000003 50.54\n",
      "-2.7 47.915\n",
      "-2.6 45.36\n",
      "-2.5 42.875\n",
      "-2.4000000000000004 40.46\n",
      "-2.3000000000000003 38.115\n",
      "-2.2 35.84\n",
      "-2.1 33.635\n",
      "-2.0 31.5\n",
      "-1.9000000000000001 29.435\n",
      "-1.8 27.44\n",
      "-1.7000000000000002 25.515\n",
      "-1.6 23.66\n",
      "-1.5 21.875\n",
      "-1.4000000000000001 20.16\n",
      "-1.3 18.515\n",
      "-1.2000000000000002 16.94\n",
      "-1.1 15.435\n",
      "-1.0 14.0\n",
      "-0.9 12.635\n",
      "-0.8 11.34\n",
      "-0.7000000000000001 10.115\n",
      "-0.6000000000000001 8.96\n",
      "-0.5 7.875\n",
      "-0.4 6.86\n",
      "-0.30000000000000004 5.915\n",
      "-0.2 5.04\n",
      "-0.1 4.235\n",
      "0.0 3.5\n",
      "0.1 2.835\n",
      "0.2 2.24\n",
      "0.30000000000000004 1.715\n",
      "0.4 1.26\n",
      "0.5 0.875\n",
      "0.6000000000000001 0.56\n",
      "0.7000000000000001 0.315\n",
      "0.8 0.14\n",
      "0.9 0.035\n",
      "1.0 0.0\n",
      "1.1 0.035\n",
      "1.2000000000000002 0.14\n",
      "1.3 0.315\n",
      "1.4000000000000001 0.56\n",
      "1.5 0.875\n",
      "1.6 1.26\n",
      "1.7000000000000002 1.715\n",
      "1.8 2.24\n",
      "1.9000000000000001 2.835\n",
      "2.0 3.5\n",
      "2.1 4.235\n",
      "2.2 5.04\n",
      "2.3000000000000003 5.915\n",
      "2.4000000000000004 6.86\n",
      "2.5 7.875\n",
      "2.6 8.96\n",
      "2.7 10.115\n",
      "2.8000000000000003 11.34\n",
      "2.9000000000000004 12.635\n",
      "3.0 14.0\n",
      "3.1 15.435\n",
      "3.2 16.94\n",
      "3.3000000000000003 18.515\n",
      "3.4000000000000004 20.16\n",
      "3.5 21.875\n",
      "3.6 23.66\n",
      "3.7 25.515\n",
      "3.8000000000000003 27.44\n",
      "3.9000000000000004 29.435\n",
      "4.0 31.5\n",
      "4.1000000000000005 33.635\n",
      "4.2 35.84\n",
      "4.3 38.115\n",
      "4.4 40.46\n",
      "4.5 42.875\n",
      "4.6000000000000005 45.36\n",
      "4.7 47.915\n",
      "4.800000000000001 50.54\n",
      "4.9 53.235\n"
     ]
    }
   ],
   "source": [
    "sess = tf.Session()\n",
    "sess.run(init)\n",
    "for i in range(-30, 50):\n",
    "    print(i*0.1, sess.run(cost, feed_dict={W : i*0.1}))\n",
    "    W_val.append(i*0.1)\n",
    "    cost_val.append(sess.run(cost, feed_dict={W: i*0.1}))"
   ]
  },
  {
   "cell_type": "code",
   "execution_count": 12,
   "metadata": {
    "collapsed": false
   },
   "outputs": [],
   "source": [
    "import matplotlib.pyplot as plt\n",
    "%matplotlib inline"
   ]
  },
  {
   "cell_type": "code",
   "execution_count": 13,
   "metadata": {
    "collapsed": false
   },
   "outputs": [
    {
     "data": {
      "text/plain": [
       "<matplotlib.text.Text at 0x657dfef0>"
      ]
     },
     "execution_count": 13,
     "metadata": {},
     "output_type": "execute_result"
    },
    {
     "data": {
      "image/png": "[encoded data removed]",
      "text/plain": [
       "<matplotlib.figure.Figure at 0x657cf470>"
      ]
     },
     "metadata": {},
     "output_type": "display_data"
    }
   ],
   "source": [
    "plt.plot(W_val,cost_val,'ro')\n",
    "plt.ylabel(\"Cost\")\n",
    "plt.xlabel(\"W\")"
   ]
  },
  {
   "cell_type": "code",
   "execution_count": null,
   "metadata": {
    "collapsed": true
   },
   "outputs": [],
   "source": []
  }
 ],
 "metadata": {
  "kernelspec": {
   "display_name": "Python 3",
   "language": "python",
   "name": "python3"
  },
  "language_info": {
   "codemirror_mode": {
    "name": "ipython",
    "version": 3
   },
   "file_extension": ".py",
   "mimetype": "text/x-python",
   "name": "python",
   "nbconvert_exporter": "python",
   "pygments_lexer": "ipython3",
   "version": "3.5.1"
  }
 },
 "nbformat": 4,
 "nbformat_minor": 1
}
