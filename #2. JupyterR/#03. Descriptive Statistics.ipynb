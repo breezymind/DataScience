{
 "cells": [
  {
   "cell_type": "markdown",
   "metadata": {},
   "source": [
    "# Descriptive Statistics ( 기술 통계 )\n",
    " - 평균 ( Mean )\n",
    " - 평균의 크게 벗어나는 숫자를 Outlier라고 한다. \n",
    " - 이를 찾기 위한 것이 boxplot\n",
    " - 범위 : 수치형 연속변수에서 최대값과 최소값의 사이. => Outlier가 있다면 특별한 의미가 없다.\n",
    " - 사분위 범위 ( Interquartile Range )\n",
    " - 데이터를 25% 50% 75% 100% 구간으로 나눈 수."
   ]
  },
  {
   "cell_type": "code",
   "execution_count": 1,
   "metadata": {
    "collapsed": false
   },
   "outputs": [
    {
     "data": {
      "text/html": [
       "<ol class=list-inline>\n",
       "\t<li>1</li>\n",
       "\t<li>2</li>\n",
       "\t<li>52</li>\n",
       "\t<li>52</li>\n",
       "\t<li>60</li>\n",
       "\t<li>64</li>\n",
       "\t<li>76</li>\n",
       "</ol>\n"
      ],
      "text/latex": [
       "\\begin{enumerate*}\n",
       "\\item 1\n",
       "\\item 2\n",
       "\\item 52\n",
       "\\item 52\n",
       "\\item 60\n",
       "\\item 64\n",
       "\\item 76\n",
       "\\end{enumerate*}\n"
      ],
      "text/markdown": [
       "1. 1\n",
       "2. 2\n",
       "3. 52\n",
       "4. 52\n",
       "5. 60\n",
       "6. 64\n",
       "7. 76\n",
       "\n",
       "\n"
      ],
      "text/plain": [
       "[1]  1  2 52 52 60 64 76"
      ]
     },
     "metadata": {},
     "output_type": "display_data"
    },
    {
     "name": "stdout",
     "output_type": "stream",
     "text": [
      "[1] 43.85714\n"
     ]
    }
   ],
   "source": [
    "a <- c(1,2,52,52,60,64,76)\n",
    "b <- c(4,5,60,60,65,69,80)\n",
    "a\n",
    "print(mean(a))"
   ]
  },
  {
   "cell_type": "code",
   "execution_count": 4,
   "metadata": {
    "collapsed": false
   },
   "outputs": [
    {
     "name": "stdout",
     "output_type": "stream",
     "text": [
      "  0%  25%  50%  75% 100% \n",
      " 4.3  5.1  5.8  6.4  7.9 \n"
     ]
    }
   ],
   "source": [
    "print(quantile(iris$Sepal.Length))"
   ]
  },
  {
   "cell_type": "code",
   "execution_count": 11,
   "metadata": {
    "collapsed": false
   },
   "outputs": [
    {
     "data": {
      "image/png": "[encoded data removed]",
      "text/plain": [
       "plot without title"
      ]
     },
     "metadata": {},
     "output_type": "display_data"
    }
   ],
   "source": [
    "options(repr.plot.width=4, repr.plot.height=4)\n",
    "boxplot(iris$Sepal.Length)"
   ]
  },
  {
   "cell_type": "markdown",
   "metadata": {},
   "source": [
    "- 산포도 : 얼마나 퍼져있는 정도.\n",
    "- 표준편차 : 분산의 루트 \n",
    "- 분산 : 평균값으로부터 얼마나 떨어져 있나. 하지만 이때 마이너스 값도 존재하기 때문에 제곱으로 \n",
    "- 거리를 설정할 수가 있다. 하지만 제곱을 하기에 단위가 달라지게된다. 그리하여 루트를 씌워 값을 얻는것 이것이 표준편차이다.\n",
    "- 두개의 단위가 다른 값들을 비교할 때가 있다. 그때 필요한 것이 표준화이다.\n",
    "- 변동계수 : 평균과 표준편차가 다른 값을 비교하기 위해 만든 개념. \n",
    " - 얼마나 다른지 비율만 볼때 사용 => 표준편차 / 표본의 평균\n",
    " - 변동계수가 높을 수록 많이 퍼져있는 것.\n",
    "- 공분산 Cov(x,y) : 다변량의 분산, 즉, 하나 이상의 변수의 분산을 공분산이라 한다.\n",
    "- 두 변수의 상관관계를 나타내는 수학식이 있는데 이러한 상관계수가 -1 ~ 1까지의 값을 가진다. \n",
    " - 0에 가까울수로 관계가 없고 -1 혹은 1에 가까울수록 두변수의 관계가 긴밀하다 할 수 있다.\n",
    "- 표본상관 : r 감마   모집단상관계수 : p(로우)"
   ]
  },
  {
   "cell_type": "code",
   "execution_count": 14,
   "metadata": {
    "collapsed": false
   },
   "outputs": [
    {
     "name": "stdout",
     "output_type": "stream",
     "text": [
      "[1] 43.85714\n",
      "[1] 52\n",
      "[1]  1 76\n"
     ]
    }
   ],
   "source": [
    "print(mean(a)) #평균\n",
    "print(median(a)) #중앙값\n",
    "print(range(a)) #범위"
   ]
  },
  {
   "cell_type": "code",
   "execution_count": 16,
   "metadata": {
    "collapsed": false
   },
   "outputs": [
    {
     "name": "stdout",
     "output_type": "stream",
     "text": [
      "  0%  25%  50%  75% 100% \n",
      "   1   27   52   62   76 \n"
     ]
    },
    {
     "data": {
      "image/png": "[encoded data removed]",
      "text/plain": [
       "plot without title"
      ]
     },
     "metadata": {},
     "output_type": "display_data"
    }
   ],
   "source": [
    "print(quantile(a)) #사분위\n",
    "boxplot(a) # boxplot을 보여주는 함수"
   ]
  },
  {
   "cell_type": "code",
   "execution_count": 18,
   "metadata": {
    "collapsed": false
   },
   "outputs": [
    {
     "name": "stdout",
     "output_type": "stream",
     "text": [
      "[1] 903.4762\n",
      "[1] 30.05788\n",
      "           [,1]\n",
      "[1,] -1.4258205\n",
      "[2,] -1.3925514\n",
      "[3,]  0.2709059\n",
      "[4,]  0.2709059\n",
      "[5,]  0.5370591\n",
      "[6,]  0.6701356\n",
      "[7,]  1.0693654\n",
      "attr(,\"scaled:center\")\n",
      "[1] 43.85714\n",
      "attr(,\"scaled:scale\")\n",
      "[1] 30.05788\n"
     ]
    }
   ],
   "source": [
    "print(var(a)) #분산\n",
    "print(sd(a)) #표준편차\n",
    "print(scale(a)) #표준화"
   ]
  },
  {
   "cell_type": "code",
   "execution_count": 19,
   "metadata": {
    "collapsed": false
   },
   "outputs": [
    {
     "name": "stdout",
     "output_type": "stream",
     "text": [
      "[1] 0.6853588\n",
      "[1] 0.9982403\n",
      "[1] 934.5\n"
     ]
    }
   ],
   "source": [
    "print(sd(a)/mean(a)) #변동계수\n",
    "print(cor(a,b)) #상관계수\n",
    "print(cov(a,b)) #공분산"
   ]
  }
 ],
 "metadata": {
  "anaconda-cloud": {},
  "kernelspec": {
   "display_name": "R 3.3",
   "language": "R",
   "name": "ir33"
  },
  "language_info": {
   "codemirror_mode": "r",
   "file_extension": ".r",
   "mimetype": "text/x-r-source",
   "name": "R",
   "pygments_lexer": "r",
   "version": "3.3.1"
  }
 },
 "nbformat": 4,
 "nbformat_minor": 0
}
