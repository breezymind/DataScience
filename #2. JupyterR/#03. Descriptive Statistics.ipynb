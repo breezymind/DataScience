{
 "cells": [
  {
   "cell_type": "markdown",
   "metadata": {},
   "source": [
    "# Descriptive Statistics ( 기술 통계 )\n",
    " - 평균 ( Mean )\n",
    " - 평균의 크게 벗어나는 숫자를 Outlier라고 한다. \n",
    " - 이를 찾기 위한 것이 boxplot\n",
    " - 범위 : 수치형 연속변수에서 최대값과 최소값의 사이. => Outlier가 있다면 특별한 의미가 없다.\n",
    " - 사분위 범위 ( Interquartile Range )\n",
    " - 데이터를 25% 50% 75% 100% 구간으로 나눈 수."
   ]
  },
  {
   "cell_type": "code",
   "execution_count": 1,
   "metadata": {
    "collapsed": false
   },
   "outputs": [
    {
     "data": {
      "text/html": [
       "<ol class=list-inline>\n",
       "\t<li>1</li>\n",
       "\t<li>2</li>\n",
       "\t<li>52</li>\n",
       "\t<li>52</li>\n",
       "\t<li>60</li>\n",
       "\t<li>64</li>\n",
       "\t<li>76</li>\n",
       "</ol>\n"
      ],
      "text/latex": [
       "\\begin{enumerate*}\n",
       "\\item 1\n",
       "\\item 2\n",
       "\\item 52\n",
       "\\item 52\n",
       "\\item 60\n",
       "\\item 64\n",
       "\\item 76\n",
       "\\end{enumerate*}\n"
      ],
      "text/markdown": [
       "1. 1\n",
       "2. 2\n",
       "3. 52\n",
       "4. 52\n",
       "5. 60\n",
       "6. 64\n",
       "7. 76\n",
       "\n",
       "\n"
      ],
      "text/plain": [
       "[1]  1  2 52 52 60 64 76"
      ]
     },
     "metadata": {},
     "output_type": "display_data"
    },
    {
     "name": "stdout",
     "output_type": "stream",
     "text": [
      "[1] 43.85714\n"
     ]
    }
   ],
   "source": [
    "a <- c(1,2,52,52,60,64,76)\n",
    "b <- c(4,5,60,60,65,69,80)\n",
    "a\n",
    "print(mean(a))"
   ]
  },
  {
   "cell_type": "code",
   "execution_count": 4,
   "metadata": {
    "collapsed": false
   },
   "outputs": [
    {
     "name": "stdout",
     "output_type": "stream",
     "text": [
      "  0%  25%  50%  75% 100% \n",
      " 4.3  5.1  5.8  6.4  7.9 \n"
     ]
    }
   ],
   "source": [
    "print(quantile(iris$Sepal.Length))"
   ]
  },
  {
   "cell_type": "code",
   "execution_count": 11,
   "metadata": {
    "collapsed": false
   },
   "outputs": [
    {
     "data": {
      "image/png": "[encoded data removed]",
      "text/plain": [
       "plot without title"
      ]
     },
     "metadata": {},
     "output_type": "display_data"
    }
   ],
   "source": [
    "options(repr.plot.width=4, repr.plot.height=4)\n",
    "boxplot(iris$Sepal.Length)"
   ]
  },
  {
   "cell_type": "markdown",
   "metadata": {},
   "source": [
    "- 산포도 : 얼마나 퍼져있는 정도.\n",
    "- 표준편차 : 분산의 루트 \n",
    "- 분산 : 평균값으로부터 얼마나 떨어져 있나. 하지만 이때 마이너스 값도 존재하기 때문에 제곱으로 \n",
    "- 거리를 설정할 수가 있다. 하지만 제곱을 하기에 단위가 달라지게된다. 그리하여 루트를 씌워 값을 얻는것 이것이 표준편차이다.\n",
    "- 두개의 단위가 다른 값들을 비교할 때가 있다. 그때 필요한 것이 표준화이다.\n",
    "- 변동계수 : 평균과 표준편차가 다른 값을 비교하기 위해 만든 개념. \n",
    " - 얼마나 다른지 비율만 볼때 사용 => 표준편차 / 표본의 평균\n",
    " - 변동계수가 높을 수록 많이 퍼져있는 것.\n",
    "- 공분산 Cov(x,y) : 다변량의 분산, 즉, 하나 이상의 변수의 분산을 공분산이라 한다.\n",
    " - 상관관계를 구할 때 어떤 방향으로 흘려가는 지를 알려주는 그래프의 기울기 방향이라고 생각해도 되겠다.\n",
    "- 두 변수의 상관관계를 나타내는 수학식이 있는데 이러한 상관계수가 -1 ~ 1까지의 값을 가진다. \n",
    " - 0에 가까울수로 관계가 없고 -1 혹은 1에 가까울수록 두변수의 관계가 긴밀하다 할 수 있다.\n",
    "- 표본상관 : r 감마   모집단상관계수 : p(로우)"
   ]
  },
  {
   "cell_type": "code",
   "execution_count": 14,
   "metadata": {
    "collapsed": false
   },
   "outputs": [
    {
     "name": "stdout",
     "output_type": "stream",
     "text": [
      "[1] 43.85714\n",
      "[1] 52\n",
      "[1]  1 76\n"
     ]
    }
   ],
   "source": [
    "print(mean(a)) #평균\n",
    "print(median(a)) #중앙값\n",
    "print(range(a)) #범위"
   ]
  },
  {
   "cell_type": "code",
   "execution_count": 16,
   "metadata": {
    "collapsed": false
   },
   "outputs": [
    {
     "name": "stdout",
     "output_type": "stream",
     "text": [
      "  0%  25%  50%  75% 100% \n",
      "   1   27   52   62   76 \n"
     ]
    },
    {
     "data": {
      "image/png": "[encoded data removed]",
      "text/plain": [
       "plot without title"
      ]
     },
     "metadata": {},
     "output_type": "display_data"
    }
   ],
   "source": [
    "print(quantile(a)) #사분위\n",
    "boxplot(a) # boxplot을 보여주는 함수"
   ]
  },
  {
   "cell_type": "code",
   "execution_count": 18,
   "metadata": {
    "collapsed": false
   },
   "outputs": [
    {
     "name": "stdout",
     "output_type": "stream",
     "text": [
      "[1] 903.4762\n",
      "[1] 30.05788\n",
      "           [,1]\n",
      "[1,] -1.4258205\n",
      "[2,] -1.3925514\n",
      "[3,]  0.2709059\n",
      "[4,]  0.2709059\n",
      "[5,]  0.5370591\n",
      "[6,]  0.6701356\n",
      "[7,]  1.0693654\n",
      "attr(,\"scaled:center\")\n",
      "[1] 43.85714\n",
      "attr(,\"scaled:scale\")\n",
      "[1] 30.05788\n"
     ]
    }
   ],
   "source": [
    "print(var(a)) #분산\n",
    "print(sd(a)) #표준편차\n",
    "print(scale(a)) #표준화"
   ]
  },
  {
   "cell_type": "code",
   "execution_count": 1,
   "metadata": {
    "collapsed": false
   },
   "outputs": [
    {
     "ename": "ERROR",
     "evalue": "Error in is.data.frame(x): 객체 'a'를 찾을 수 없습니다\n",
     "output_type": "error",
     "traceback": [
      "Error in is.data.frame(x): 객체 'a'를 찾을 수 없습니다\nTraceback:\n",
      "1. print(sd(a)/mean(a))",
      "2. sd(a)",
      "3. var(if (is.vector(x) || is.factor(x)) x else as.double(x), na.rm = na.rm)",
      "4. is.data.frame(x)"
     ]
    }
   ],
   "source": [
    "print(sd(a)/mean(a)) #변동계수\n",
    "print(cor(a,b)) #상관계수\n",
    "print(cov(a,b)) #공분산"
   ]
  },
  {
   "cell_type": "code",
   "execution_count": 3,
   "metadata": {
    "collapsed": false
   },
   "outputs": [
    {
     "name": "stderr",
     "output_type": "stream",
     "text": [
      "Installing package into 'C:/Users/byung/Documents/R/win-library/3.3'\n",
      "(as 'lib' is unspecified)\n",
      "Warning message:\n",
      ": package 'data.table' is in use and will not be installed"
     ]
    }
   ],
   "source": [
    "install.packages(\"data.table\", repos = \"http://cran.us.r-project.org\")\n",
    "library(\"data.table\")\n",
    "DF <- fread(\"data/example_studentlist.csv\",data.table = F)"
   ]
  },
  {
   "cell_type": "code",
   "execution_count": 7,
   "metadata": {
    "collapsed": false
   },
   "outputs": [
    {
     "name": "stdout",
     "output_type": "stream",
     "text": [
      "[1] 170.0353\n",
      "[1] 169.2\n",
      "[1] 155.2 182.1\n"
     ]
    }
   ],
   "source": [
    "print(mean(DF$height,na.rm = T))\n",
    "print(median(DF$height,na.rm = T))\n",
    "print(range(DF$height,na.rm = T))"
   ]
  },
  {
   "cell_type": "markdown",
   "metadata": {},
   "source": [
    " - IQR = 3rd.Qu - 1st.Qu"
   ]
  },
  {
   "cell_type": "code",
   "execution_count": 9,
   "metadata": {
    "collapsed": false
   },
   "outputs": [
    {
     "data": {
      "text/html": [
       "<dl class=dl-horizontal>\n",
       "\t<dt>0%</dt>\n",
       "\t\t<dd>155.2</dd>\n",
       "\t<dt>25%</dt>\n",
       "\t\t<dd>165.3</dd>\n",
       "\t<dt>50%</dt>\n",
       "\t\t<dd>169.2</dd>\n",
       "\t<dt>75%</dt>\n",
       "\t\t<dd>176.1</dd>\n",
       "\t<dt>100%</dt>\n",
       "\t\t<dd>182.1</dd>\n",
       "</dl>\n"
      ],
      "text/latex": [
       "\\begin{description*}\n",
       "\\item[0\\textbackslash{}\\%] 155.2\n",
       "\\item[25\\textbackslash{}\\%] 165.3\n",
       "\\item[50\\textbackslash{}\\%] 169.2\n",
       "\\item[75\\textbackslash{}\\%] 176.1\n",
       "\\item[100\\textbackslash{}\\%] 182.1\n",
       "\\end{description*}\n"
      ],
      "text/markdown": [
       "0%\n",
       ":   155.225%\n",
       ":   165.350%\n",
       ":   169.275%\n",
       ":   176.1100%\n",
       ":   182.1\n",
       "\n"
      ],
      "text/plain": [
       "   0%   25%   50%   75%  100% \n",
       "155.2 165.3 169.2 176.1 182.1 "
      ]
     },
     "metadata": {},
     "output_type": "display_data"
    },
    {
     "data": {
      "text/html": [
       "10.8"
      ],
      "text/latex": [
       "10.8"
      ],
      "text/markdown": [
       "10.8"
      ],
      "text/plain": [
       "[1] 10.8"
      ]
     },
     "metadata": {},
     "output_type": "display_data"
    }
   ],
   "source": [
    "quantile(DF$height)\n",
    "IQR(DF$height,na.rm=T)  # 사분위에서 Q1 와 Q3의 범위"
   ]
  },
  {
   "cell_type": "code",
   "execution_count": 11,
   "metadata": {
    "collapsed": false
   },
   "outputs": [
    {
     "data": {
      "text/plain": [
       "   Min. 1st Qu.  Median    Mean 3rd Qu.    Max. \n",
       "  155.2   165.3   169.2   170.0   176.1   182.1 "
      ]
     },
     "metadata": {},
     "output_type": "display_data"
    }
   ],
   "source": [
    "summary(DF$height,na.rm=T)"
   ]
  },
  {
   "cell_type": "code",
   "execution_count": 15,
   "metadata": {
    "collapsed": false
   },
   "outputs": [
    {
     "data": {
      "image/png": "[encoded data removed]",
      "text/plain": [
       "plot without title"
      ]
     },
     "metadata": {},
     "output_type": "display_data"
    }
   ],
   "source": [
    "options(repr.plot.width=4, repr.plot.height=5)\n",
    "boxplot(DF$height)"
   ]
  },
  {
   "cell_type": "code",
   "execution_count": 18,
   "metadata": {
    "collapsed": false
   },
   "outputs": [
    {
     "data": {
      "image/png": "[encoded data removed]",
      "text/plain": [
       "plot without title"
      ]
     },
     "metadata": {},
     "output_type": "display_data"
    }
   ],
   "source": [
    "options(repr.plot.width=4, repr.plot.height=3)\n",
    "plot(DF$height,DF$weight)"
   ]
  },
  {
   "cell_type": "code",
   "execution_count": 20,
   "metadata": {
    "collapsed": false
   },
   "outputs": [
    {
     "data": {
      "text/html": [
       "0.664181597958861"
      ],
      "text/latex": [
       "0.664181597958861"
      ],
      "text/markdown": [
       "0.664181597958861"
      ],
      "text/plain": [
       "[1] 0.6641816"
      ]
     },
     "metadata": {},
     "output_type": "display_data"
    }
   ],
   "source": [
    "cor(DF$height,DF$weight)  # 키와 몸무게의 상관관계   => 양의관계"
   ]
  },
  {
   "cell_type": "code",
   "execution_count": 22,
   "metadata": {
    "collapsed": false
   },
   "outputs": [
    {
     "data": {
      "text/plain": [
       "\n",
       "\tPearson's product-moment correlation\n",
       "\n",
       "data:  DF$height and DF$weight\n",
       "t = 3.441, df = 15, p-value = 0.003639\n",
       "alternative hypothesis: true correlation is not equal to 0\n",
       "95 percent confidence interval:\n",
       " 0.2696040 0.8677954\n",
       "sample estimates:\n",
       "      cor \n",
       "0.6641816 \n"
      ]
     },
     "metadata": {},
     "output_type": "display_data"
    }
   ],
   "source": [
    "cor.test(DF$height,DF$weight)  # p-value < 0.05 기각  H0 : 상관계수 = 0  H1: 상관계수 != 0"
   ]
  },
  {
   "cell_type": "code",
   "execution_count": 24,
   "metadata": {
    "collapsed": false
   },
   "outputs": [
    {
     "data": {
      "text/html": [
       "<table>\n",
       "<thead><tr><th></th><th scope=col>age</th><th scope=col>height</th><th scope=col>weight</th></tr></thead>\n",
       "<tbody>\n",
       "\t<tr><th scope=row>age</th><td>1.0000000</td><td>0.3450992</td><td>0.5226855</td></tr>\n",
       "\t<tr><th scope=row>height</th><td>0.3450992</td><td>1.0000000</td><td>0.6641816</td></tr>\n",
       "\t<tr><th scope=row>weight</th><td>0.5226855</td><td>0.6641816</td><td>1.0000000</td></tr>\n",
       "</tbody>\n",
       "</table>\n"
      ],
      "text/latex": [
       "\\begin{tabular}{r|lll}\n",
       "  & age & height & weight\\\\\n",
       "\\hline\n",
       "\tage & 1.0000000 & 0.3450992 & 0.5226855\\\\\n",
       "\theight & 0.3450992 & 1.0000000 & 0.6641816\\\\\n",
       "\tweight & 0.5226855 & 0.6641816 & 1.0000000\\\\\n",
       "\\end{tabular}\n"
      ],
      "text/markdown": [
       "1. 1\n",
       "2. 0.345099228294147\n",
       "3. 0.522685477890255\n",
       "4. 0.345099228294147\n",
       "5. 1\n",
       "6. 0.664181597958861\n",
       "7. 0.522685477890255\n",
       "8. 0.664181597958861\n",
       "9. 1\n",
       "\n",
       "\n"
      ],
      "text/plain": [
       "             age    height    weight\n",
       "age    1.0000000 0.3450992 0.5226855\n",
       "height 0.3450992 1.0000000 0.6641816\n",
       "weight 0.5226855 0.6641816 1.0000000"
      ]
     },
     "metadata": {},
     "output_type": "display_data"
    }
   ],
   "source": [
    "cor(DF[,c(3,7,8)])"
   ]
  },
  {
   "cell_type": "code",
   "execution_count": 26,
   "metadata": {
    "collapsed": false
   },
   "outputs": [
    {
     "data": {
      "image/png": "[encoded data removed]",
      "text/plain": [
       "plot without title"
      ]
     },
     "metadata": {},
     "output_type": "display_data"
    }
   ],
   "source": [
    "plot(DF[,c(3,7,8)])"
   ]
  },
  {
   "cell_type": "markdown",
   "metadata": {},
   "source": [
    "## use=\"complete.obs\"\n",
    " - cor 에서 na.rm = T 는 use=\"complete.obs\" 와 동일"
   ]
  },
  {
   "cell_type": "code",
   "execution_count": 29,
   "metadata": {
    "collapsed": false
   },
   "outputs": [
    {
     "name": "stderr",
     "output_type": "stream",
     "text": [
      "The following objects are masked from DF2 (pos = 3):\n",
      "\n",
      "    absence, age, bloodtype, grade, height, name, sex, weight\n",
      "\n"
     ]
    }
   ],
   "source": [
    "DF2 <- DF\n",
    "DF2[2,7] <- NA\n",
    "DF2[4,8] <- NA\n",
    "attach(DF2)"
   ]
  },
  {
   "cell_type": "code",
   "execution_count": 30,
   "metadata": {
    "collapsed": false
   },
   "outputs": [
    {
     "data": {
      "text/html": [
       "0.596680912660705"
      ],
      "text/latex": [
       "0.596680912660705"
      ],
      "text/markdown": [
       "0.596680912660705"
      ],
      "text/plain": [
       "[1] 0.5966809"
      ]
     },
     "metadata": {},
     "output_type": "display_data"
    },
    {
     "data": {
      "text/html": [
       "0.596680912660705"
      ],
      "text/latex": [
       "0.596680912660705"
      ],
      "text/markdown": [
       "0.596680912660705"
      ],
      "text/plain": [
       "[1] 0.5966809"
      ]
     },
     "metadata": {},
     "output_type": "display_data"
    },
    {
     "data": {
      "text/plain": [
       "[1] NA"
      ]
     },
     "metadata": {},
     "output_type": "display_data"
    },
    {
     "ename": "ERROR",
     "evalue": "Error in cor(height, weight, use = \"all.obs\"): cov/cor에 결측치들이 있습니다\n",
     "output_type": "error",
     "traceback": [
      "Error in cor(height, weight, use = \"all.obs\"): cov/cor에 결측치들이 있습니다\nTraceback:\n",
      "1. cor(height, weight, use = \"all.obs\")"
     ]
    }
   ],
   "source": [
    "cor(height,weight,use=\"complete.obs\")  #해당 로우 전체 삭제해서 사용.\n",
    "cor(height,weight,use=\"pairwise.complete.obs\") #해당 벡터만 삭제해서 사용.\n",
    "cor(height,weight,use=\"everything\")  #na.rm=F와 동일\n",
    "cor(height,weight,use=\"all.obs\")  # 결측치가 존재 한다면 계산 안함."
   ]
  },
  {
   "cell_type": "code",
   "execution_count": 34,
   "metadata": {
    "collapsed": false
   },
   "outputs": [
    {
     "data": {
      "text/html": [
       "65.7262916666667"
      ],
      "text/latex": [
       "65.7262916666667"
      ],
      "text/markdown": [
       "65.7262916666667"
      ],
      "text/plain": [
       "[1] 65.72629"
      ]
     },
     "metadata": {},
     "output_type": "display_data"
    },
    {
     "data": {
      "text/html": [
       "48.4682857142857"
      ],
      "text/latex": [
       "48.4682857142857"
      ],
      "text/markdown": [
       "48.4682857142857"
      ],
      "text/plain": [
       "[1] 48.46829"
      ]
     },
     "metadata": {},
     "output_type": "display_data"
    },
    {
     "data": {
      "text/html": [
       "48.4682857142857"
      ],
      "text/latex": [
       "48.4682857142857"
      ],
      "text/markdown": [
       "48.4682857142857"
      ],
      "text/plain": [
       "[1] 48.46829"
      ]
     },
     "metadata": {},
     "output_type": "display_data"
    }
   ],
   "source": [
    "var(height,na.rm=T)\n",
    "var(height,weight,na.rm=T) #공분산\n",
    "cov(height,weight,use=\"complete.obs\")  #공분산 위 식과 값 동일. \n",
    "detach(DF2)"
   ]
  },
  {
   "cell_type": "code",
   "execution_count": 35,
   "metadata": {
    "collapsed": false
   },
   "outputs": [
    {
     "data": {
      "text/html": [
       "7.84975645931696"
      ],
      "text/latex": [
       "7.84975645931696"
      ],
      "text/markdown": [
       "7.84975645931696"
      ],
      "text/plain": [
       "[1] 7.849756"
      ]
     },
     "metadata": {},
     "output_type": "display_data"
    },
    {
     "data": {
      "text/html": [
       "<table>\n",
       "<tbody>\n",
       "\t<tr><td>-0.6032409</td></tr>\n",
       "\t<tr><td>0.008243043</td></tr>\n",
       "\t<tr><td>0.6324662</td></tr>\n",
       "\t<tr><td>1.536953</td></tr>\n",
       "\t<tr><td>-0.2592812</td></tr>\n",
       "\t<tr><td>-1.023636</td></tr>\n",
       "\t<tr><td>-1.889905</td></tr>\n",
       "\t<tr><td>0.874512</td></tr>\n",
       "\t<tr><td>1.07834</td></tr>\n",
       "\t<tr><td>0.772598</td></tr>\n",
       "\t<tr><td>-0.3739344</td></tr>\n",
       "\t<tr><td>1.269429</td></tr>\n",
       "\t<tr><td>-0.9981576</td></tr>\n",
       "\t<tr><td>0.772598</td></tr>\n",
       "\t<tr><td>-1.507728</td></tr>\n",
       "\t<tr><td>-0.1828457</td></tr>\n",
       "\t<tr><td>-0.1064102</td></tr>\n",
       "</tbody>\n",
       "</table>\n"
      ],
      "text/latex": [
       "\\begin{tabular}{l}\n",
       "\t -0.6032409\\\\\n",
       "\t 0.008243043\\\\\n",
       "\t 0.6324662\\\\\n",
       "\t 1.536953\\\\\n",
       "\t -0.2592812\\\\\n",
       "\t -1.023636\\\\\n",
       "\t -1.889905\\\\\n",
       "\t 0.874512\\\\\n",
       "\t 1.07834\\\\\n",
       "\t 0.772598\\\\\n",
       "\t -0.3739344\\\\\n",
       "\t 1.269429\\\\\n",
       "\t -0.9981576\\\\\n",
       "\t 0.772598\\\\\n",
       "\t -1.507728\\\\\n",
       "\t -0.1828457\\\\\n",
       "\t -0.1064102\\\\\n",
       "\\end{tabular}\n"
      ],
      "text/markdown": [
       "1. -0.603240895712971\n",
       "2. 0.00824304329545652\n",
       "3. 0.63246623103323\n",
       "4. 1.53695289081653\n",
       "5. -0.259281180020731\n",
       "6. -1.02363610378127\n",
       "7. -1.88990501737655\n",
       "8. 0.874511956890734\n",
       "9. 1.07833993656021\n",
       "10. 0.772597967055994\n",
       "11. -0.373934418584812\n",
       "12. 1.26942866750034\n",
       "13. -0.998157606322586\n",
       "14. 0.772597967055994\n",
       "15. -1.50772755549628\n",
       "16. -0.182845687644678\n",
       "17. -0.106410195268625\n",
       "\n",
       "\n"
      ],
      "text/plain": [
       "              [,1]\n",
       " [1,] -0.603240896\n",
       " [2,]  0.008243043\n",
       " [3,]  0.632466231\n",
       " [4,]  1.536952891\n",
       " [5,] -0.259281180\n",
       " [6,] -1.023636104\n",
       " [7,] -1.889905017\n",
       " [8,]  0.874511957\n",
       " [9,]  1.078339937\n",
       "[10,]  0.772597967\n",
       "[11,] -0.373934419\n",
       "[12,]  1.269428668\n",
       "[13,] -0.998157606\n",
       "[14,]  0.772597967\n",
       "[15,] -1.507727555\n",
       "[16,] -0.182845688\n",
       "[17,] -0.106410195\n",
       "attr(,\"scaled:center\")\n",
       "[1] 170.0353\n",
       "attr(,\"scaled:scale\")\n",
       "[1] 7.849756"
      ]
     },
     "metadata": {},
     "output_type": "display_data"
    },
    {
     "data": {
      "text/html": [
       "<table>\n",
       "<tbody>\n",
       "\t<tr><td>-0.6032409</td><td>-0.6032409</td></tr>\n",
       "\t<tr><td>0.008243043</td><td>0.008243043</td></tr>\n",
       "\t<tr><td>0.6324662</td><td>0.6324662</td></tr>\n",
       "\t<tr><td>1.536953</td><td>1.536953</td></tr>\n",
       "\t<tr><td>-0.2592812</td><td>-0.2592812</td></tr>\n",
       "\t<tr><td>-1.023636</td><td>-1.023636</td></tr>\n",
       "\t<tr><td>-1.889905</td><td>-1.889905</td></tr>\n",
       "\t<tr><td>0.874512</td><td>0.874512</td></tr>\n",
       "\t<tr><td>1.07834</td><td>1.07834</td></tr>\n",
       "\t<tr><td>0.772598</td><td>0.772598</td></tr>\n",
       "\t<tr><td>-0.3739344</td><td>-0.3739344</td></tr>\n",
       "\t<tr><td>1.269429</td><td>1.269429</td></tr>\n",
       "\t<tr><td>-0.9981576</td><td>-0.9981576</td></tr>\n",
       "\t<tr><td>0.772598</td><td>0.772598</td></tr>\n",
       "\t<tr><td>-1.507728</td><td>-1.507728</td></tr>\n",
       "\t<tr><td>-0.1828457</td><td>-0.1828457</td></tr>\n",
       "\t<tr><td>-0.1064102</td><td>-0.1064102</td></tr>\n",
       "</tbody>\n",
       "</table>\n"
      ],
      "text/latex": [
       "\\begin{tabular}{ll}\n",
       "\t -0.6032409 & -0.6032409\\\\\n",
       "\t 0.008243043 & 0.008243043\\\\\n",
       "\t 0.6324662 & 0.6324662\\\\\n",
       "\t 1.536953 & 1.536953\\\\\n",
       "\t -0.2592812 & -0.2592812\\\\\n",
       "\t -1.023636 & -1.023636\\\\\n",
       "\t -1.889905 & -1.889905\\\\\n",
       "\t 0.874512 & 0.874512\\\\\n",
       "\t 1.07834 & 1.07834\\\\\n",
       "\t 0.772598 & 0.772598\\\\\n",
       "\t -0.3739344 & -0.3739344\\\\\n",
       "\t 1.269429 & 1.269429\\\\\n",
       "\t -0.9981576 & -0.9981576\\\\\n",
       "\t 0.772598 & 0.772598\\\\\n",
       "\t -1.507728 & -1.507728\\\\\n",
       "\t -0.1828457 & -0.1828457\\\\\n",
       "\t -0.1064102 & -0.1064102\\\\\n",
       "\\end{tabular}\n"
      ],
      "text/markdown": [
       "1. -0.603240895712971\n",
       "2. 0.00824304329545652\n",
       "3. 0.63246623103323\n",
       "4. 1.53695289081653\n",
       "5. -0.259281180020731\n",
       "6. -1.02363610378127\n",
       "7. -1.88990501737655\n",
       "8. 0.874511956890734\n",
       "9. 1.07833993656021\n",
       "10. 0.772597967055994\n",
       "11. -0.373934418584812\n",
       "12. 1.26942866750034\n",
       "13. -0.998157606322586\n",
       "14. 0.772597967055994\n",
       "15. -1.50772755549628\n",
       "16. -0.182845687644678\n",
       "17. -0.106410195268625\n",
       "18. -0.603240895712971\n",
       "19. 0.00824304329545652\n",
       "20. 0.63246623103323\n",
       "21. 1.53695289081653\n",
       "22. -0.259281180020731\n",
       "23. -1.02363610378127\n",
       "24. -1.88990501737655\n",
       "25. 0.874511956890734\n",
       "26. 1.07833993656021\n",
       "27. 0.772597967055994\n",
       "28. -0.373934418584812\n",
       "29. 1.26942866750034\n",
       "30. -0.998157606322586\n",
       "31. 0.772597967055994\n",
       "32. -1.50772755549628\n",
       "33. -0.182845687644678\n",
       "34. -0.106410195268625\n",
       "\n",
       "\n"
      ],
      "text/plain": [
       "              [,1]         [,2]\n",
       " [1,] -0.603240896 -0.603240896\n",
       " [2,]  0.008243043  0.008243043\n",
       " [3,]  0.632466231  0.632466231\n",
       " [4,]  1.536952891  1.536952891\n",
       " [5,] -0.259281180 -0.259281180\n",
       " [6,] -1.023636104 -1.023636104\n",
       " [7,] -1.889905017 -1.889905017\n",
       " [8,]  0.874511957  0.874511957\n",
       " [9,]  1.078339937  1.078339937\n",
       "[10,]  0.772597967  0.772597967\n",
       "[11,] -0.373934419 -0.373934419\n",
       "[12,]  1.269428668  1.269428668\n",
       "[13,] -0.998157606 -0.998157606\n",
       "[14,]  0.772597967  0.772597967\n",
       "[15,] -1.507727555 -1.507727555\n",
       "[16,] -0.182845688 -0.182845688\n",
       "[17,] -0.106410195 -0.106410195"
      ]
     },
     "metadata": {},
     "output_type": "display_data"
    },
    {
     "data": {
      "text/html": [
       "<ol class=list-inline>\n",
       "</ol>\n"
      ],
      "text/latex": [
       "\\begin{enumerate*}\n",
       "\\end{enumerate*}\n"
      ],
      "text/markdown": [
       "\n",
       "\n"
      ],
      "text/plain": [
       "numeric(0)"
      ]
     },
     "metadata": {},
     "output_type": "display_data"
    }
   ],
   "source": [
    "attach(DF)\n",
    "sd(height,na.rm = T) #표준편차.\n",
    "scale(height) #표준화 \n",
    "cbind(matrix(((height - mean(height)) / sd(height)), ncol = 1 ),scale(height))\n",
    "a1 <- matrix(((height - mean(height)) / sd(height)), ncol = 1 )\n",
    "a2 <- scale(height)\n",
    "setdiff(a1,a2)\n",
    "detach(DF)"
   ]
  }
 ],
 "metadata": {
  "anaconda-cloud": {},
  "kernelspec": {
   "display_name": "R 3.3",
   "language": "R",
   "name": "ir33"
  },
  "language_info": {
   "codemirror_mode": "r",
   "file_extension": ".r",
   "mimetype": "text/x-r-source",
   "name": "R",
   "pygments_lexer": "r",
   "version": "3.3.1"
  }
 },
 "nbformat": 4,
 "nbformat_minor": 0
}
