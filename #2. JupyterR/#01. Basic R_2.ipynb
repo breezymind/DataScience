{
 "cells": [
  {
   "cell_type": "markdown",
   "metadata": {},
   "source": [
    "# 도수 분포표 만들기 \n",
    " - 명목형 변수 \n",
    "  - #00. Basic R_1 에서 table과 xtabs를 배웠다.\n",
    " - 연속형 변수 \n",
    "  - cut을 통해 구간을 나누어 도수분포표를 만든다."
   ]
  },
  {
   "cell_type": "markdown",
   "metadata": {},
   "source": [
    "## 연속형 변수 도수분포표 만들기 \n",
    "### iris data \n",
    " - iris 라는 식물의 잎의 크기, 식물의 크기, 종류 별로 포함되어있는 데이터 \n"
   ]
  },
  {
   "cell_type": "code",
   "execution_count": 2,
   "metadata": {
    "collapsed": false
   },
   "outputs": [
    {
     "data": {
      "text/html": [
       "<table>\n",
       "<thead><tr><th></th><th scope=col>Sepal.Length</th><th scope=col>Sepal.Width</th><th scope=col>Petal.Length</th><th scope=col>Petal.Width</th><th scope=col>Species</th></tr></thead>\n",
       "<tbody>\n",
       "\t<tr><th scope=row>1</th><td>5.1   </td><td>3.5   </td><td>1.4   </td><td>0.2   </td><td>setosa</td></tr>\n",
       "\t<tr><th scope=row>2</th><td>4.9   </td><td>3     </td><td>1.4   </td><td>0.2   </td><td>setosa</td></tr>\n",
       "\t<tr><th scope=row>3</th><td>4.7   </td><td>3.2   </td><td>1.3   </td><td>0.2   </td><td>setosa</td></tr>\n",
       "</tbody>\n",
       "</table>\n"
      ],
      "text/latex": [
       "\\begin{tabular}{r|lllll}\n",
       "  & Sepal.Length & Sepal.Width & Petal.Length & Petal.Width & Species\\\\\n",
       "\\hline\n",
       "\t1 & 5.1    & 3.5    & 1.4    & 0.2    & setosa\\\\\n",
       "\t2 & 4.9    & 3      & 1.4    & 0.2    & setosa\\\\\n",
       "\t3 & 4.7    & 3.2    & 1.3    & 0.2    & setosa\\\\\n",
       "\\end{tabular}\n"
      ],
      "text/plain": [
       "  Sepal.Length Sepal.Width Petal.Length Petal.Width Species\n",
       "1          5.1         3.5          1.4         0.2  setosa\n",
       "2          4.9         3.0          1.4         0.2  setosa\n",
       "3          4.7         3.2          1.3         0.2  setosa"
      ]
     },
     "metadata": {},
     "output_type": "display_data"
    },
    {
     "name": "stdout",
     "output_type": "stream",
     "text": [
      "'data.frame':\t150 obs. of  5 variables:\n",
      " $ Sepal.Length: num  5.1 4.9 4.7 4.6 5 5.4 4.6 5 4.4 4.9 ...\n",
      " $ Sepal.Width : num  3.5 3 3.2 3.1 3.6 3.9 3.4 3.4 2.9 3.1 ...\n",
      " $ Petal.Length: num  1.4 1.4 1.3 1.5 1.4 1.7 1.4 1.5 1.4 1.5 ...\n",
      " $ Petal.Width : num  0.2 0.2 0.2 0.2 0.2 0.4 0.3 0.2 0.2 0.1 ...\n",
      " $ Species     : Factor w/ 3 levels \"setosa\",\"versicolor\",..: 1 1 1 1 1 1 1 1 1 1 ...\n"
     ]
    }
   ],
   "source": [
    "Iris <- iris\n",
    "head(Iris,3)\n",
    "str(Iris)"
   ]
  },
  {
   "cell_type": "markdown",
   "metadata": {},
   "source": [
    "### 맛보기 명목형 변수 도수 분포표"
   ]
  },
  {
   "cell_type": "code",
   "execution_count": 3,
   "metadata": {
    "collapsed": false
   },
   "outputs": [
    {
     "data": {
      "text/plain": [
       "\n",
       "    setosa versicolor  virginica \n",
       "        50         50         50 "
      ]
     },
     "metadata": {},
     "output_type": "display_data"
    }
   ],
   "source": [
    "tmp <- table(Iris$Species)\n",
    "tmp"
   ]
  },
  {
   "cell_type": "markdown",
   "metadata": {},
   "source": [
    "### 구간 나누기 "
   ]
  },
  {
   "cell_type": "code",
   "execution_count": 5,
   "metadata": {
    "collapsed": false
   },
   "outputs": [
    {
     "data": {
      "text/html": [
       "<ol class=list-inline>\n",
       "\t<li>5.1</li>\n",
       "\t<li>4.9</li>\n",
       "\t<li>4.7</li>\n",
       "</ol>\n"
      ],
      "text/latex": [
       "\\begin{enumerate*}\n",
       "\\item 5.1\n",
       "\\item 4.9\n",
       "\\item 4.7\n",
       "\\end{enumerate*}\n"
      ],
      "text/markdown": [
       "1. 5.1\n",
       "2. 4.9\n",
       "3. 4.7\n",
       "\n",
       "\n"
      ],
      "text/plain": [
       "[1] 5.1 4.9 4.7"
      ]
     },
     "metadata": {},
     "output_type": "display_data"
    },
    {
     "data": {
      "text/html": [
       "<ol class=list-inline>\n",
       "\t<li>4.3</li>\n",
       "\t<li>7.9</li>\n",
       "</ol>\n"
      ],
      "text/latex": [
       "\\begin{enumerate*}\n",
       "\\item 4.3\n",
       "\\item 7.9\n",
       "\\end{enumerate*}\n"
      ],
      "text/markdown": [
       "1. 4.3\n",
       "2. 7.9\n",
       "\n",
       "\n"
      ],
      "text/plain": [
       "[1] 4.3 7.9"
      ]
     },
     "metadata": {},
     "output_type": "display_data"
    },
    {
     "data": {
      "text/html": [
       "<ol class=list-inline>\n",
       "\t<li>1구간</li>\n",
       "\t<li>1구간</li>\n",
       "\t<li>1구간</li>\n",
       "\t<li>1구간</li>\n",
       "\t<li>1구간</li>\n",
       "\t<li>2구간</li>\n",
       "\t<li>1구간</li>\n",
       "\t<li>1구간</li>\n",
       "\t<li>1구간</li>\n",
       "\t<li>1구간</li>\n",
       "\t<li>2구간</li>\n",
       "\t<li>1구간</li>\n",
       "\t<li>1구간</li>\n",
       "\t<li>1구간</li>\n",
       "\t<li>2구간</li>\n",
       "\t<li>2구간</li>\n",
       "\t<li>2구간</li>\n",
       "\t<li>1구간</li>\n",
       "\t<li>2구간</li>\n",
       "\t<li>1구간</li>\n",
       "\t<li>2구간</li>\n",
       "\t<li>1구간</li>\n",
       "\t<li>1구간</li>\n",
       "\t<li>1구간</li>\n",
       "\t<li>1구간</li>\n",
       "\t<li>1구간</li>\n",
       "\t<li>1구간</li>\n",
       "\t<li>1구간</li>\n",
       "\t<li>1구간</li>\n",
       "\t<li>1구간</li>\n",
       "\t<li>1구간</li>\n",
       "\t<li>2구간</li>\n",
       "\t<li>1구간</li>\n",
       "\t<li>2구간</li>\n",
       "\t<li>1구간</li>\n",
       "\t<li>1구간</li>\n",
       "\t<li>2구간</li>\n",
       "\t<li>1구간</li>\n",
       "\t<li>1구간</li>\n",
       "\t<li>1구간</li>\n",
       "\t<li>1구간</li>\n",
       "\t<li>1구간</li>\n",
       "\t<li>1구간</li>\n",
       "\t<li>1구간</li>\n",
       "\t<li>1구간</li>\n",
       "\t<li>1구간</li>\n",
       "\t<li>1구간</li>\n",
       "\t<li>1구간</li>\n",
       "\t<li>2구간</li>\n",
       "\t<li>1구간</li>\n",
       "\t<li>3구간</li>\n",
       "\t<li>3구간</li>\n",
       "\t<li>3구간</li>\n",
       "\t<li>2구간</li>\n",
       "\t<li>3구간</li>\n",
       "\t<li>2구간</li>\n",
       "\t<li>3구간</li>\n",
       "\t<li>1구간</li>\n",
       "\t<li>3구간</li>\n",
       "\t<li>1구간</li>\n",
       "\t<li>1구간</li>\n",
       "\t<li>2구간</li>\n",
       "\t<li>2구간</li>\n",
       "\t<li>2구간</li>\n",
       "\t<li>2구간</li>\n",
       "\t<li>3구간</li>\n",
       "\t<li>2구간</li>\n",
       "\t<li>2구간</li>\n",
       "\t<li>3구간</li>\n",
       "\t<li>2구간</li>\n",
       "\t<li>2구간</li>\n",
       "\t<li>2구간</li>\n",
       "\t<li>3구간</li>\n",
       "\t<li>2구간</li>\n",
       "\t<li>3구간</li>\n",
       "\t<li>3구간</li>\n",
       "\t<li>3구간</li>\n",
       "\t<li>3구간</li>\n",
       "\t<li>2구간</li>\n",
       "\t<li>2구간</li>\n",
       "\t<li>2구간</li>\n",
       "\t<li>2구간</li>\n",
       "\t<li>2구간</li>\n",
       "\t<li>2구간</li>\n",
       "\t<li>2구간</li>\n",
       "\t<li>2구간</li>\n",
       "\t<li>3구간</li>\n",
       "\t<li>3구간</li>\n",
       "\t<li>2구간</li>\n",
       "\t<li>2구간</li>\n",
       "\t<li>2구간</li>\n",
       "\t<li>2구간</li>\n",
       "\t<li>2구간</li>\n",
       "\t<li>1구간</li>\n",
       "\t<li>2구간</li>\n",
       "\t<li>2구간</li>\n",
       "\t<li>2구간</li>\n",
       "\t<li>3구간</li>\n",
       "\t<li>1구간</li>\n",
       "\t<li>2구간</li>\n",
       "\t<li>3구간</li>\n",
       "\t<li>2구간</li>\n",
       "\t<li>4구간</li>\n",
       "\t<li>3구간</li>\n",
       "\t<li>3구간</li>\n",
       "\t<li>4구간</li>\n",
       "\t<li>1구간</li>\n",
       "\t<li>4구간</li>\n",
       "\t<li>3구간</li>\n",
       "\t<li>4구간</li>\n",
       "\t<li>3구간</li>\n",
       "\t<li>3구간</li>\n",
       "\t<li>3구간</li>\n",
       "\t<li>2구간</li>\n",
       "\t<li>2구간</li>\n",
       "\t<li>3구간</li>\n",
       "\t<li>3구간</li>\n",
       "\t<li>4구간</li>\n",
       "\t<li>4구간</li>\n",
       "\t<li>2구간</li>\n",
       "\t<li>3구간</li>\n",
       "\t<li>2구간</li>\n",
       "\t<li>4구간</li>\n",
       "\t<li>3구간</li>\n",
       "\t<li>3구간</li>\n",
       "\t<li>4구간</li>\n",
       "\t<li>3구간</li>\n",
       "\t<li>2구간</li>\n",
       "\t<li>3구간</li>\n",
       "\t<li>4구간</li>\n",
       "\t<li>4구간</li>\n",
       "\t<li>4구간</li>\n",
       "\t<li>3구간</li>\n",
       "\t<li>3구간</li>\n",
       "\t<li>2구간</li>\n",
       "\t<li>4구간</li>\n",
       "\t<li>3구간</li>\n",
       "\t<li>3구간</li>\n",
       "\t<li>2구간</li>\n",
       "\t<li>3구간</li>\n",
       "\t<li>3구간</li>\n",
       "\t<li>3구간</li>\n",
       "\t<li>2구간</li>\n",
       "\t<li>3구간</li>\n",
       "\t<li>3구간</li>\n",
       "\t<li>3구간</li>\n",
       "\t<li>3구간</li>\n",
       "\t<li>3구간</li>\n",
       "\t<li>3구간</li>\n",
       "\t<li>2구간</li>\n",
       "</ol>\n"
      ],
      "text/latex": [
       "\\begin{enumerate*}\n",
       "\\item 1구간\n",
       "\\item 1구간\n",
       "\\item 1구간\n",
       "\\item 1구간\n",
       "\\item 1구간\n",
       "\\item 2구간\n",
       "\\item 1구간\n",
       "\\item 1구간\n",
       "\\item 1구간\n",
       "\\item 1구간\n",
       "\\item 2구간\n",
       "\\item 1구간\n",
       "\\item 1구간\n",
       "\\item 1구간\n",
       "\\item 2구간\n",
       "\\item 2구간\n",
       "\\item 2구간\n",
       "\\item 1구간\n",
       "\\item 2구간\n",
       "\\item 1구간\n",
       "\\item 2구간\n",
       "\\item 1구간\n",
       "\\item 1구간\n",
       "\\item 1구간\n",
       "\\item 1구간\n",
       "\\item 1구간\n",
       "\\item 1구간\n",
       "\\item 1구간\n",
       "\\item 1구간\n",
       "\\item 1구간\n",
       "\\item 1구간\n",
       "\\item 2구간\n",
       "\\item 1구간\n",
       "\\item 2구간\n",
       "\\item 1구간\n",
       "\\item 1구간\n",
       "\\item 2구간\n",
       "\\item 1구간\n",
       "\\item 1구간\n",
       "\\item 1구간\n",
       "\\item 1구간\n",
       "\\item 1구간\n",
       "\\item 1구간\n",
       "\\item 1구간\n",
       "\\item 1구간\n",
       "\\item 1구간\n",
       "\\item 1구간\n",
       "\\item 1구간\n",
       "\\item 2구간\n",
       "\\item 1구간\n",
       "\\item 3구간\n",
       "\\item 3구간\n",
       "\\item 3구간\n",
       "\\item 2구간\n",
       "\\item 3구간\n",
       "\\item 2구간\n",
       "\\item 3구간\n",
       "\\item 1구간\n",
       "\\item 3구간\n",
       "\\item 1구간\n",
       "\\item 1구간\n",
       "\\item 2구간\n",
       "\\item 2구간\n",
       "\\item 2구간\n",
       "\\item 2구간\n",
       "\\item 3구간\n",
       "\\item 2구간\n",
       "\\item 2구간\n",
       "\\item 3구간\n",
       "\\item 2구간\n",
       "\\item 2구간\n",
       "\\item 2구간\n",
       "\\item 3구간\n",
       "\\item 2구간\n",
       "\\item 3구간\n",
       "\\item 3구간\n",
       "\\item 3구간\n",
       "\\item 3구간\n",
       "\\item 2구간\n",
       "\\item 2구간\n",
       "\\item 2구간\n",
       "\\item 2구간\n",
       "\\item 2구간\n",
       "\\item 2구간\n",
       "\\item 2구간\n",
       "\\item 2구간\n",
       "\\item 3구간\n",
       "\\item 3구간\n",
       "\\item 2구간\n",
       "\\item 2구간\n",
       "\\item 2구간\n",
       "\\item 2구간\n",
       "\\item 2구간\n",
       "\\item 1구간\n",
       "\\item 2구간\n",
       "\\item 2구간\n",
       "\\item 2구간\n",
       "\\item 3구간\n",
       "\\item 1구간\n",
       "\\item 2구간\n",
       "\\item 3구간\n",
       "\\item 2구간\n",
       "\\item 4구간\n",
       "\\item 3구간\n",
       "\\item 3구간\n",
       "\\item 4구간\n",
       "\\item 1구간\n",
       "\\item 4구간\n",
       "\\item 3구간\n",
       "\\item 4구간\n",
       "\\item 3구간\n",
       "\\item 3구간\n",
       "\\item 3구간\n",
       "\\item 2구간\n",
       "\\item 2구간\n",
       "\\item 3구간\n",
       "\\item 3구간\n",
       "\\item 4구간\n",
       "\\item 4구간\n",
       "\\item 2구간\n",
       "\\item 3구간\n",
       "\\item 2구간\n",
       "\\item 4구간\n",
       "\\item 3구간\n",
       "\\item 3구간\n",
       "\\item 4구간\n",
       "\\item 3구간\n",
       "\\item 2구간\n",
       "\\item 3구간\n",
       "\\item 4구간\n",
       "\\item 4구간\n",
       "\\item 4구간\n",
       "\\item 3구간\n",
       "\\item 3구간\n",
       "\\item 2구간\n",
       "\\item 4구간\n",
       "\\item 3구간\n",
       "\\item 3구간\n",
       "\\item 2구간\n",
       "\\item 3구간\n",
       "\\item 3구간\n",
       "\\item 3구간\n",
       "\\item 2구간\n",
       "\\item 3구간\n",
       "\\item 3구간\n",
       "\\item 3구간\n",
       "\\item 3구간\n",
       "\\item 3구간\n",
       "\\item 3구간\n",
       "\\item 2구간\n",
       "\\end{enumerate*}\n"
      ],
      "text/markdown": [
       "1. 1구간\n",
       "2. 1구간\n",
       "3. 1구간\n",
       "4. 1구간\n",
       "5. 1구간\n",
       "6. 2구간\n",
       "7. 1구간\n",
       "8. 1구간\n",
       "9. 1구간\n",
       "10. 1구간\n",
       "11. 2구간\n",
       "12. 1구간\n",
       "13. 1구간\n",
       "14. 1구간\n",
       "15. 2구간\n",
       "16. 2구간\n",
       "17. 2구간\n",
       "18. 1구간\n",
       "19. 2구간\n",
       "20. 1구간\n",
       "21. 2구간\n",
       "22. 1구간\n",
       "23. 1구간\n",
       "24. 1구간\n",
       "25. 1구간\n",
       "26. 1구간\n",
       "27. 1구간\n",
       "28. 1구간\n",
       "29. 1구간\n",
       "30. 1구간\n",
       "31. 1구간\n",
       "32. 2구간\n",
       "33. 1구간\n",
       "34. 2구간\n",
       "35. 1구간\n",
       "36. 1구간\n",
       "37. 2구간\n",
       "38. 1구간\n",
       "39. 1구간\n",
       "40. 1구간\n",
       "41. 1구간\n",
       "42. 1구간\n",
       "43. 1구간\n",
       "44. 1구간\n",
       "45. 1구간\n",
       "46. 1구간\n",
       "47. 1구간\n",
       "48. 1구간\n",
       "49. 2구간\n",
       "50. 1구간\n",
       "51. 3구간\n",
       "52. 3구간\n",
       "53. 3구간\n",
       "54. 2구간\n",
       "55. 3구간\n",
       "56. 2구간\n",
       "57. 3구간\n",
       "58. 1구간\n",
       "59. 3구간\n",
       "60. 1구간\n",
       "61. 1구간\n",
       "62. 2구간\n",
       "63. 2구간\n",
       "64. 2구간\n",
       "65. 2구간\n",
       "66. 3구간\n",
       "67. 2구간\n",
       "68. 2구간\n",
       "69. 3구간\n",
       "70. 2구간\n",
       "71. 2구간\n",
       "72. 2구간\n",
       "73. 3구간\n",
       "74. 2구간\n",
       "75. 3구간\n",
       "76. 3구간\n",
       "77. 3구간\n",
       "78. 3구간\n",
       "79. 2구간\n",
       "80. 2구간\n",
       "81. 2구간\n",
       "82. 2구간\n",
       "83. 2구간\n",
       "84. 2구간\n",
       "85. 2구간\n",
       "86. 2구간\n",
       "87. 3구간\n",
       "88. 3구간\n",
       "89. 2구간\n",
       "90. 2구간\n",
       "91. 2구간\n",
       "92. 2구간\n",
       "93. 2구간\n",
       "94. 1구간\n",
       "95. 2구간\n",
       "96. 2구간\n",
       "97. 2구간\n",
       "98. 3구간\n",
       "99. 1구간\n",
       "100. 2구간\n",
       "101. 3구간\n",
       "102. 2구간\n",
       "103. 4구간\n",
       "104. 3구간\n",
       "105. 3구간\n",
       "106. 4구간\n",
       "107. 1구간\n",
       "108. 4구간\n",
       "109. 3구간\n",
       "110. 4구간\n",
       "111. 3구간\n",
       "112. 3구간\n",
       "113. 3구간\n",
       "114. 2구간\n",
       "115. 2구간\n",
       "116. 3구간\n",
       "117. 3구간\n",
       "118. 4구간\n",
       "119. 4구간\n",
       "120. 2구간\n",
       "121. 3구간\n",
       "122. 2구간\n",
       "123. 4구간\n",
       "124. 3구간\n",
       "125. 3구간\n",
       "126. 4구간\n",
       "127. 3구간\n",
       "128. 2구간\n",
       "129. 3구간\n",
       "130. 4구간\n",
       "131. 4구간\n",
       "132. 4구간\n",
       "133. 3구간\n",
       "134. 3구간\n",
       "135. 2구간\n",
       "136. 4구간\n",
       "137. 3구간\n",
       "138. 3구간\n",
       "139. 2구간\n",
       "140. 3구간\n",
       "141. 3구간\n",
       "142. 3구간\n",
       "143. 2구간\n",
       "144. 3구간\n",
       "145. 3구간\n",
       "146. 3구간\n",
       "147. 3구간\n",
       "148. 3구간\n",
       "149. 3구간\n",
       "150. 2구간\n",
       "\n",
       "\n"
      ],
      "text/plain": [
       "  [1] 1구간 1구간 1구간 1구간 1구간 2구간 1구간 1구간 1구간 1구간 2구간 1구간\n",
       " [13] 1구간 1구간 2구간 2구간 2구간 1구간 2구간 1구간 2구간 1구간 1구간 1구간\n",
       " [25] 1구간 1구간 1구간 1구간 1구간 1구간 1구간 2구간 1구간 2구간 1구간 1구간\n",
       " [37] 2구간 1구간 1구간 1구간 1구간 1구간 1구간 1구간 1구간 1구간 1구간 1구간\n",
       " [49] 2구간 1구간 3구간 3구간 3구간 2구간 3구간 2구간 3구간 1구간 3구간 1구간\n",
       " [61] 1구간 2구간 2구간 2구간 2구간 3구간 2구간 2구간 3구간 2구간 2구간 2구간\n",
       " [73] 3구간 2구간 3구간 3구간 3구간 3구간 2구간 2구간 2구간 2구간 2구간 2구간\n",
       " [85] 2구간 2구간 3구간 3구간 2구간 2구간 2구간 2구간 2구간 1구간 2구간 2구간\n",
       " [97] 2구간 3구간 1구간 2구간 3구간 2구간 4구간 3구간 3구간 4구간 1구간 4구간\n",
       "[109] 3구간 4구간 3구간 3구간 3구간 2구간 2구간 3구간 3구간 4구간 4구간 2구간\n",
       "[121] 3구간 2구간 4구간 3구간 3구간 4구간 3구간 2구간 3구간 4구간 4구간 4구간\n",
       "[133] 3구간 3구간 2구간 4구간 3구간 3구간 2구간 3구간 3구간 3구간 2구간 3구간\n",
       "[145] 3구간 3구간 3구간 3구간 3구간 2구간\n",
       "Levels: 1구간 2구간 3구간 4구간"
      ]
     },
     "metadata": {},
     "output_type": "display_data"
    },
    {
     "data": {
      "text/plain": [
       "NULL"
      ]
     },
     "metadata": {},
     "output_type": "display_data"
    }
   ],
   "source": [
    "head(Iris$Sepal.Length,3) # 해당 데이터를 4개 구간으로 나눈다 \n",
    "range(Iris$Sepal.Length)   \n",
    "SepalLength <- cut(Iris$Sepal.Length,breaks=4,labels=c(\"1구간\",\"2구간\",\"3구간\",\"4구간\"))\n",
    "SepalLength"
   ]
  },
  {
   "cell_type": "code",
   "execution_count": 6,
   "metadata": {
    "collapsed": false
   },
   "outputs": [
    {
     "data": {
      "text/plain": [
       "SepalLength\n",
       "1구간 2구간 3구간 4구간 \n",
       "   45    50    43    12 "
      ]
     },
     "metadata": {},
     "output_type": "display_data"
    }
   ],
   "source": [
    "FreqSepalL <- table(SepalLength)  # (4.3,5.2] (5.2,6.1]   (6.1,7]   (7,7.9] 에서 ()는 미포함 X, []는 포함.\n",
    "FreqSepalL"
   ]
  },
  {
   "cell_type": "code",
   "execution_count": 7,
   "metadata": {
    "collapsed": false
   },
   "outputs": [
    {
     "data": {
      "text/html": [
       "<table>\n",
       "<thead><tr><th></th><th scope=col>1구간</th><th scope=col>2구간</th><th scope=col>3구간</th><th scope=col>4구간</th></tr></thead>\n",
       "<tbody>\n",
       "\t<tr><th scope=row>FreqSepalL</th><td>45</td><td>50</td><td>43</td><td>12</td></tr>\n",
       "\t<tr><th scope=row></th><td>0.3000000</td><td>0.3333333</td><td>0.2866667</td><td>0.0800000</td></tr>\n",
       "</tbody>\n",
       "</table>\n"
      ],
      "text/latex": [
       "\\begin{tabular}{r|llll}\n",
       "  & 1구간 & 2구간 & 3구간 & 4구간\\\\\n",
       "\\hline\n",
       "\tFreqSepalL & 45 & 50 & 43 & 12\\\\\n",
       "\t & 0.3000000 & 0.3333333 & 0.2866667 & 0.0800000\\\\\n",
       "\\end{tabular}\n"
      ],
      "text/markdown": [
       "1. 45\n",
       "2. 0.3\n",
       "3. 50\n",
       "4. 0.333333333333333\n",
       "5. 43\n",
       "6. 0.286666666666667\n",
       "7. 12\n",
       "8. 0.08\n",
       "\n",
       "\n"
      ],
      "text/plain": [
       "           1구간      2구간      3구간 4구간\n",
       "FreqSepalL  45.0 50.0000000 43.0000000 12.00\n",
       "             0.3  0.3333333  0.2866667  0.08"
      ]
     },
     "metadata": {},
     "output_type": "display_data"
    }
   ],
   "source": [
    "FreqSepalL <- rbind(FreqSepalL,prop.table(FreqSepalL)) #상대도수 추가.\n",
    "FreqSepalL"
   ]
  },
  {
   "cell_type": "code",
   "execution_count": 8,
   "metadata": {
    "collapsed": true
   },
   "outputs": [],
   "source": [
    "rownames(FreqSepalL)[2] <- \"ReleativeReq\"  "
   ]
  },
  {
   "cell_type": "code",
   "execution_count": 9,
   "metadata": {
    "collapsed": false
   },
   "outputs": [
    {
     "data": {
      "text/html": [
       "<dl class=dl-horizontal>\n",
       "\t<dt>1구간</dt>\n",
       "\t\t<dd>0.3</dd>\n",
       "\t<dt>2구간</dt>\n",
       "\t\t<dd>0.633333333333333</dd>\n",
       "\t<dt>3구간</dt>\n",
       "\t\t<dd>0.92</dd>\n",
       "\t<dt>4구간</dt>\n",
       "\t\t<dd>1</dd>\n",
       "</dl>\n"
      ],
      "text/latex": [
       "\\begin{description*}\n",
       "\\item[1구간] 0.3\n",
       "\\item[2구간] 0.633333333333333\n",
       "\\item[3구간] 0.92\n",
       "\\item[4구간] 1\n",
       "\\end{description*}\n"
      ],
      "text/markdown": [
       "1구간\n",
       ":   0.32구간\n",
       ":   0.6333333333333333구간\n",
       ":   0.924구간\n",
       ":   1\n",
       "\n"
      ],
      "text/plain": [
       "    1구간     2구간     3구간     4구간 \n",
       "0.3000000 0.6333333 0.9200000 1.0000000 "
      ]
     },
     "metadata": {},
     "output_type": "display_data"
    }
   ],
   "source": [
    "comsum <- cumsum(FreqSepalL[2,])  # 누적상대도수\n",
    "comsum"
   ]
  },
  {
   "cell_type": "code",
   "execution_count": 38,
   "metadata": {
    "collapsed": false
   },
   "outputs": [
    {
     "data": {
      "text/html": [
       "<table>\n",
       "<thead><tr><th></th><th scope=col>(4.3,5.2]</th><th scope=col>(5.2,6.1]</th><th scope=col>(6.1,7]</th><th scope=col>(7,7.9]</th></tr></thead>\n",
       "<tbody>\n",
       "\t<tr><th scope=row>FreqSepalL</th><td>45</td><td>50</td><td>43</td><td>12</td></tr>\n",
       "\t<tr><th scope=row>ReleativeReq</th><td>0.3000000</td><td>0.3333333</td><td>0.2866667</td><td>0.0800000</td></tr>\n",
       "\t<tr><th scope=row>comsum</th><td>0.3000000</td><td>0.6333333</td><td>0.9200000</td><td>1.0000000</td></tr>\n",
       "</tbody>\n",
       "</table>\n"
      ],
      "text/latex": [
       "\\begin{tabular}{r|llll}\n",
       "  & (4.3,5.2{]} & (5.2,6.1{]} & (6.1,7{]} & (7,7.9{]}\\\\\n",
       "\\hline\n",
       "\tFreqSepalL & 45 & 50 & 43 & 12\\\\\n",
       "\tReleativeReq & 0.3000000 & 0.3333333 & 0.2866667 & 0.0800000\\\\\n",
       "\tcomsum & 0.3000000 & 0.6333333 & 0.9200000 & 1.0000000\\\\\n",
       "\\end{tabular}\n"
      ],
      "text/markdown": [
       "1. 45\n",
       "2. 0.3\n",
       "3. 0.3\n",
       "4. 50\n",
       "5. 0.333333333333333\n",
       "6. 0.633333333333333\n",
       "7. 43\n",
       "8. 0.286666666666667\n",
       "9. 0.92\n",
       "10. 12\n",
       "11. 0.08\n",
       "12. 1\n",
       "\n",
       "\n"
      ],
      "text/plain": [
       "             (4.3,5.2]  (5.2,6.1]    (6.1,7] (7,7.9]\n",
       "FreqSepalL        45.0 50.0000000 43.0000000   12.00\n",
       "ReleativeReq       0.3  0.3333333  0.2866667    0.08\n",
       "comsum             0.3  0.6333333  0.9200000    1.00"
      ]
     },
     "metadata": {},
     "output_type": "display_data"
    }
   ],
   "source": [
    "FreqSepalL <- rbind(FreqSepalL,comsum) \n",
    "FreqSepalL"
   ]
  },
  {
   "cell_type": "code",
   "execution_count": 39,
   "metadata": {
    "collapsed": false
   },
   "outputs": [
    {
     "data": {
      "text/html": [
       "<table>\n",
       "<thead><tr><th></th><th scope=col>(4.3,5.2]</th><th scope=col>(5.2,6.1]</th><th scope=col>(6.1,7]</th><th scope=col>(7,7.9]</th><th scope=col>Sum</th></tr></thead>\n",
       "<tbody>\n",
       "\t<tr><th scope=row>도수</th><td> 45</td><td> 50</td><td> 43</td><td> 12</td><td>150</td></tr>\n",
       "\t<tr><th scope=row>상대도수</th><td>0.3000000</td><td>0.3333333</td><td>0.2866667</td><td>0.0800000</td><td>1.0000000</td></tr>\n",
       "\t<tr><th scope=row>누적상대도수</th><td>0.3000000</td><td>0.6333333</td><td>0.9200000</td><td>1.0000000</td><td>2.8533333</td></tr>\n",
       "\t<tr><th scope=row>Sum</th><td> 45.60000</td><td> 50.96667</td><td> 44.20667</td><td> 13.08000</td><td>153.85333</td></tr>\n",
       "</tbody>\n",
       "</table>\n"
      ],
      "text/latex": [
       "\\begin{tabular}{r|lllll}\n",
       "  & (4.3,5.2{]} & (5.2,6.1{]} & (6.1,7{]} & (7,7.9{]} & Sum\\\\\n",
       "\\hline\n",
       "\t도수 &  45 &  50 &  43 &  12 & 150\\\\\n",
       "\t상대도수 & 0.3000000 & 0.3333333 & 0.2866667 & 0.0800000 & 1.0000000\\\\\n",
       "\t누적상대도수 & 0.3000000 & 0.6333333 & 0.9200000 & 1.0000000 & 2.8533333\\\\\n",
       "\tSum &  45.60000 &  50.96667 &  44.20667 &  13.08000 & 153.85333\\\\\n",
       "\\end{tabular}\n"
      ],
      "text/markdown": [
       "1. 45\n",
       "2. 0.3\n",
       "3. 0.3\n",
       "4. 45.6\n",
       "5. 50\n",
       "6. 0.333333333333333\n",
       "7. 0.633333333333333\n",
       "8. 50.9666666666667\n",
       "9. 43\n",
       "10. 0.286666666666667\n",
       "11. 0.92\n",
       "12. 44.2066666666667\n",
       "13. 12\n",
       "14. 0.08\n",
       "15. 1\n",
       "16. 13.08\n",
       "17. 150\n",
       "18. 1\n",
       "19. 2.85333333333333\n",
       "20. 153.853333333333\n",
       "\n",
       "\n"
      ],
      "text/plain": [
       "             (4.3,5.2]  (5.2,6.1]    (6.1,7] (7,7.9]        Sum\n",
       "도수              45.0 50.0000000 43.0000000   12.00 150.000000\n",
       "상대도수           0.3  0.3333333  0.2866667    0.08   1.000000\n",
       "누적상대도수       0.3  0.6333333  0.9200000    1.00   2.853333\n",
       "Sum               45.6 50.9666667 44.2066667   13.08 153.853333"
      ]
     },
     "metadata": {},
     "output_type": "display_data"
    }
   ],
   "source": [
    "rownames(FreqSepalL) <- c(\"도수\",\"상대도수\",\"누적상대도수\")\n",
    "FreqSepalL <- addmargins(FreqSepalL)\n",
    "FreqSepalL"
   ]
  },
  {
   "cell_type": "markdown",
   "metadata": {
    "collapsed": true
   },
   "source": [
    "# Apply 종류.\n",
    " - apply\n",
    " - sapply\n",
    " - lapply\n",
    " - tapply\n",
    " - mapply"
   ]
  },
  {
   "cell_type": "markdown",
   "metadata": {},
   "source": [
    "### Apply\n",
    " - 벡터에 일괄적으로 Function을 적용 하는 방법\n",
    " - Row별로 할것인지 Column 별로 할 것인지는 지정 가능,\n",
    " - apply(Data,margin=1/2,FUN=function) \n",
    "  - 1 : Row\n",
    "  - 2 : Column\n",
    "  - FUN = Function"
   ]
  },
  {
   "cell_type": "code",
   "execution_count": 2,
   "metadata": {
    "collapsed": false
   },
   "outputs": [
    {
     "data": {
      "text/html": [
       "<table>\n",
       "<tbody>\n",
       "\t<tr><td> 1</td><td> 4</td><td> 7</td><td>10</td></tr>\n",
       "\t<tr><td> 2</td><td> 5</td><td> 8</td><td>11</td></tr>\n",
       "\t<tr><td> 3</td><td> 6</td><td> 9</td><td>12</td></tr>\n",
       "</tbody>\n",
       "</table>\n"
      ],
      "text/latex": [
       "\\begin{tabular}{llll}\n",
       "\t  1 &  4 &  7 & 10\\\\\n",
       "\t  2 &  5 &  8 & 11\\\\\n",
       "\t  3 &  6 &  9 & 12\\\\\n",
       "\\end{tabular}\n"
      ],
      "text/markdown": [
       "1. 1\n",
       "2. 2\n",
       "3. 3\n",
       "4. 4\n",
       "5. 5\n",
       "6. 6\n",
       "7. 7\n",
       "8. 8\n",
       "9. 9\n",
       "10. 10\n",
       "11. 11\n",
       "12. 12\n",
       "\n",
       "\n"
      ],
      "text/plain": [
       "     [,1] [,2] [,3] [,4]\n",
       "[1,]    1    4    7   10\n",
       "[2,]    2    5    8   11\n",
       "[3,]    3    6    9   12"
      ]
     },
     "metadata": {},
     "output_type": "display_data"
    },
    {
     "name": "stdout",
     "output_type": "stream",
     "text": [
      " int [1:3, 1:4] 1 2 3 4 5 6 7 8 9 10 ...\n"
     ]
    }
   ],
   "source": [
    "MyMatrix=matrix(1:12,nrow=3,ncol=4,byrow=FALSE)\n",
    "MyMatrix\n",
    "str(MyMatrix)"
   ]
  },
  {
   "cell_type": "code",
   "execution_count": 4,
   "metadata": {
    "collapsed": false
   },
   "outputs": [
    {
     "data": {
      "text/html": [
       "22"
      ],
      "text/latex": [
       "22"
      ],
      "text/markdown": [
       "22"
      ],
      "text/plain": [
       "[1] 22"
      ]
     },
     "metadata": {},
     "output_type": "display_data"
    },
    {
     "data": {
      "text/html": [
       "26"
      ],
      "text/latex": [
       "26"
      ],
      "text/markdown": [
       "26"
      ],
      "text/plain": [
       "[1] 26"
      ]
     },
     "metadata": {},
     "output_type": "display_data"
    },
    {
     "data": {
      "text/html": [
       "30"
      ],
      "text/latex": [
       "30"
      ],
      "text/markdown": [
       "30"
      ],
      "text/plain": [
       "[1] 30"
      ]
     },
     "metadata": {},
     "output_type": "display_data"
    }
   ],
   "source": [
    "sum(MyMatrix[1,])\n",
    "sum(MyMatrix[2,])\n",
    "sum(MyMatrix[3,])"
   ]
  },
  {
   "cell_type": "code",
   "execution_count": 6,
   "metadata": {
    "collapsed": false
   },
   "outputs": [
    {
     "data": {
      "text/html": [
       "<ol class=list-inline>\n",
       "\t<li>22</li>\n",
       "\t<li>26</li>\n",
       "\t<li>30</li>\n",
       "</ol>\n"
      ],
      "text/latex": [
       "\\begin{enumerate*}\n",
       "\\item 22\n",
       "\\item 26\n",
       "\\item 30\n",
       "\\end{enumerate*}\n"
      ],
      "text/markdown": [
       "1. 22\n",
       "2. 26\n",
       "3. 30\n",
       "\n",
       "\n"
      ],
      "text/plain": [
       "[1] 22 26 30"
      ]
     },
     "metadata": {},
     "output_type": "display_data"
    },
    {
     "data": {
      "text/html": [
       "<ol class=list-inline>\n",
       "\t<li>6</li>\n",
       "\t<li>15</li>\n",
       "\t<li>24</li>\n",
       "\t<li>33</li>\n",
       "</ol>\n"
      ],
      "text/latex": [
       "\\begin{enumerate*}\n",
       "\\item 6\n",
       "\\item 15\n",
       "\\item 24\n",
       "\\item 33\n",
       "\\end{enumerate*}\n"
      ],
      "text/markdown": [
       "1. 6\n",
       "2. 15\n",
       "3. 24\n",
       "4. 33\n",
       "\n",
       "\n"
      ],
      "text/plain": [
       "[1]  6 15 24 33"
      ]
     },
     "metadata": {},
     "output_type": "display_data"
    }
   ],
   "source": [
    "apply(X = MyMatrix,MARGIN = 1,FUN = sum)     #apply(데이터, Margin 1:로우 2:컬럼 3 FUN =  함수)\n",
    "apply(X = MyMatrix,MARGIN = 2,FUN = sum)"
   ]
  },
  {
   "cell_type": "code",
   "execution_count": 10,
   "metadata": {
    "collapsed": false
   },
   "outputs": [
    {
     "name": "stdout",
     "output_type": "stream",
     "text": [
      "'data.frame':\t150 obs. of  5 variables:\n",
      " $ Sepal.Length: num  5.1 4.9 4.7 4.6 5 5.4 4.6 5 4.4 4.9 ...\n",
      " $ Sepal.Width : num  3.5 3 3.2 3.1 3.6 3.9 3.4 3.4 2.9 3.1 ...\n",
      " $ Petal.Length: num  1.4 1.4 1.3 1.5 1.4 1.7 1.4 1.5 1.4 1.5 ...\n",
      " $ Petal.Width : num  0.2 0.2 0.2 0.2 0.2 0.4 0.3 0.2 0.2 0.1 ...\n",
      " $ Species     : Factor w/ 3 levels \"setosa\",\"versicolor\",..: 1 1 1 1 1 1 1 1 1 1 ...\n"
     ]
    },
    {
     "data": {
      "text/html": [
       "<table>\n",
       "<thead><tr><th></th><th scope=col>Sepal.Length</th><th scope=col>Sepal.Width</th><th scope=col>Petal.Length</th><th scope=col>Petal.Width</th><th scope=col>Species</th></tr></thead>\n",
       "<tbody>\n",
       "\t<tr><th scope=row>1</th><td>5.1   </td><td>3.5   </td><td>1.4   </td><td>0.2   </td><td>setosa</td></tr>\n",
       "\t<tr><th scope=row>2</th><td>4.9   </td><td>3     </td><td>1.4   </td><td>0.2   </td><td>setosa</td></tr>\n",
       "\t<tr><th scope=row>3</th><td>4.7   </td><td>3.2   </td><td>1.3   </td><td>0.2   </td><td>setosa</td></tr>\n",
       "</tbody>\n",
       "</table>\n"
      ],
      "text/latex": [
       "\\begin{tabular}{r|lllll}\n",
       "  & Sepal.Length & Sepal.Width & Petal.Length & Petal.Width & Species\\\\\n",
       "\\hline\n",
       "\t1 & 5.1    & 3.5    & 1.4    & 0.2    & setosa\\\\\n",
       "\t2 & 4.9    & 3      & 1.4    & 0.2    & setosa\\\\\n",
       "\t3 & 4.7    & 3.2    & 1.3    & 0.2    & setosa\\\\\n",
       "\\end{tabular}\n"
      ],
      "text/plain": [
       "  Sepal.Length Sepal.Width Petal.Length Petal.Width Species\n",
       "1          5.1         3.5          1.4         0.2  setosa\n",
       "2          4.9         3.0          1.4         0.2  setosa\n",
       "3          4.7         3.2          1.3         0.2  setosa"
      ]
     },
     "metadata": {},
     "output_type": "display_data"
    },
    {
     "data": {
      "text/plain": [
       "\n",
       "    setosa versicolor  virginica \n",
       "        50         50         50 "
      ]
     },
     "metadata": {},
     "output_type": "display_data"
    },
    {
     "data": {
      "text/plain": [
       "\n",
       "    setosa versicolor  virginica \n",
       "        50         50         50 "
      ]
     },
     "metadata": {},
     "output_type": "display_data"
    }
   ],
   "source": [
    "str(iris)  # 데이터 요약이 아니라 형태를 보여주는것이다. 150 데이터 5개 컬럼.\n",
    "head(iris,3)\n",
    "##tail(iris)\n",
    "table(iris$Species)   #컬럼 별 몇개의 오브젝트가 존재하는지 알 수 있다. 질문할 것 factor/table은 factor를 구하는것인지.\n",
    "table(iris[,5]) "
   ]
  },
  {
   "cell_type": "code",
   "execution_count": 11,
   "metadata": {
    "collapsed": true
   },
   "outputs": [],
   "source": [
    "iris_setosa = iris[iris$Species == 'setosa',]\n",
    "iris_versicolor = iris[iris$Species == 'versicolor',]\n",
    "iris_virginica = iris[iris$Species == 'virginica',]"
   ]
  },
  {
   "cell_type": "code",
   "execution_count": 13,
   "metadata": {
    "collapsed": false
   },
   "outputs": [
    {
     "data": {
      "text/html": [
       "<dl class=dl-horizontal>\n",
       "\t<dt>Sepal.Length</dt>\n",
       "\t\t<dd>5.006</dd>\n",
       "\t<dt>Sepal.Width</dt>\n",
       "\t\t<dd>3.428</dd>\n",
       "\t<dt>Petal.Length</dt>\n",
       "\t\t<dd>1.462</dd>\n",
       "\t<dt>Petal.Width</dt>\n",
       "\t\t<dd>0.246</dd>\n",
       "</dl>\n"
      ],
      "text/latex": [
       "\\begin{description*}\n",
       "\\item[Sepal.Length] 5.006\n",
       "\\item[Sepal.Width] 3.428\n",
       "\\item[Petal.Length] 1.462\n",
       "\\item[Petal.Width] 0.246\n",
       "\\end{description*}\n"
      ],
      "text/markdown": [
       "Sepal.Length\n",
       ":   5.006Sepal.Width\n",
       ":   3.428Petal.Length\n",
       ":   1.462Petal.Width\n",
       ":   0.246\n",
       "\n"
      ],
      "text/plain": [
       "Sepal.Length  Sepal.Width Petal.Length  Petal.Width \n",
       "       5.006        3.428        1.462        0.246 "
      ]
     },
     "metadata": {},
     "output_type": "display_data"
    }
   ],
   "source": [
    "apply(iris_setosa[,-5],2,mean)   # factor 를 제외한 부분.\n",
    "# data 부분을 지정하여 사용가능. "
   ]
  },
  {
   "cell_type": "code",
   "execution_count": 12,
   "metadata": {
    "collapsed": false
   },
   "outputs": [
    {
     "data": {
      "text/html": [
       "<dl>\n",
       "\t<dt>$a</dt>\n",
       "\t\t<dd><ol class=list-inline>\n",
       "\t<li>1</li>\n",
       "\t<li>2</li>\n",
       "\t<li>3</li>\n",
       "\t<li>4</li>\n",
       "\t<li>5</li>\n",
       "</ol>\n",
       "</dd>\n",
       "\t<dt>$b</dt>\n",
       "\t\t<dd><ol class=list-inline>\n",
       "\t<li>2</li>\n",
       "\t<li>3</li>\n",
       "\t<li>5</li>\n",
       "\t<li>6</li>\n",
       "</ol>\n",
       "</dd>\n",
       "\t<dt>$c</dt>\n",
       "\t\t<dd><ol class=list-inline>\n",
       "\t<li>10</li>\n",
       "\t<li>20</li>\n",
       "\t<li>30</li>\n",
       "\t<li>40</li>\n",
       "</ol>\n",
       "</dd>\n",
       "</dl>\n"
      ],
      "text/latex": [
       "\\begin{description}\n",
       "\\item[\\$a] \\begin{enumerate*}\n",
       "\\item 1\n",
       "\\item 2\n",
       "\\item 3\n",
       "\\item 4\n",
       "\\item 5\n",
       "\\end{enumerate*}\n",
       "\n",
       "\\item[\\$b] \\begin{enumerate*}\n",
       "\\item 2\n",
       "\\item 3\n",
       "\\item 5\n",
       "\\item 6\n",
       "\\end{enumerate*}\n",
       "\n",
       "\\item[\\$c] \\begin{enumerate*}\n",
       "\\item 10\n",
       "\\item 20\n",
       "\\item 30\n",
       "\\item 40\n",
       "\\end{enumerate*}\n",
       "\n",
       "\\end{description}\n"
      ],
      "text/markdown": [
       "$a\n",
       ":   1. 1\n",
       "2. 2\n",
       "3. 3\n",
       "4. 4\n",
       "5. 5\n",
       "\n",
       "\n",
       "\n",
       "$b\n",
       ":   1. 2\n",
       "2. 3\n",
       "3. 5\n",
       "4. 6\n",
       "\n",
       "\n",
       "\n",
       "$c\n",
       ":   1. 10\n",
       "2. 20\n",
       "3. 30\n",
       "4. 40\n",
       "\n",
       "\n",
       "\n",
       "\n",
       "\n"
      ],
      "text/plain": [
       "$a\n",
       "[1] 1 2 3 4 5\n",
       "\n",
       "$b\n",
       "[1] 2 3 5 6\n",
       "\n",
       "$c\n",
       "[1] 10 20 30 40\n"
      ]
     },
     "metadata": {},
     "output_type": "display_data"
    },
    {
     "data": {
      "text/html": [
       "<dl>\n",
       "\t<dt>$a</dt>\n",
       "\t\t<dd>15</dd>\n",
       "\t<dt>$b</dt>\n",
       "\t\t<dd>16</dd>\n",
       "\t<dt>$c</dt>\n",
       "\t\t<dd>100</dd>\n",
       "</dl>\n"
      ],
      "text/latex": [
       "\\begin{description}\n",
       "\\item[\\$a] 15\n",
       "\\item[\\$b] 16\n",
       "\\item[\\$c] 100\n",
       "\\end{description}\n"
      ],
      "text/markdown": [
       "$a\n",
       ":   15\n",
       "$b\n",
       ":   16\n",
       "$c\n",
       ":   100\n",
       "\n",
       "\n"
      ],
      "text/plain": [
       "$a\n",
       "[1] 15\n",
       "\n",
       "$b\n",
       "[1] 16\n",
       "\n",
       "$c\n",
       "[1] 100\n"
      ]
     },
     "metadata": {},
     "output_type": "display_data"
    }
   ],
   "source": [
    "list = list(a=c(1,2,3,4,5),b = c(2,3,5,6), c=c(10,20,30,40))\n",
    "list\n",
    "#apply(list,2,sum)   # list는 사용 불가. \n",
    "lapply(list,sum)"
   ]
  },
  {
   "cell_type": "markdown",
   "metadata": {},
   "source": [
    "### lapply\n",
    " - 벡터에 일괄적으로 FUN을 적용 후 list 반환\n",
    " - data에 list, DataFrame 가능. \n",
    "  - list가 들어온다면 리스트 변수 별로 \n",
    "  - DataFrame이 들어온다면 열 별로 ( 열 = 같은 속성을 가진 데이터의 집합 )  "
   ]
  },
  {
   "cell_type": "code",
   "execution_count": 20,
   "metadata": {
    "collapsed": false
   },
   "outputs": [
    {
     "data": {
      "text/html": [
       "<dl>\n",
       "\t<dt>$a</dt>\n",
       "\t\t<dd><ol class=list-inline>\n",
       "\t<li>1</li>\n",
       "\t<li>2</li>\n",
       "\t<li>3</li>\n",
       "\t<li>4</li>\n",
       "\t<li>5</li>\n",
       "</ol>\n",
       "</dd>\n",
       "\t<dt>$b</dt>\n",
       "\t\t<dd><ol class=list-inline>\n",
       "\t<li>6</li>\n",
       "\t<li>7</li>\n",
       "\t<li>8</li>\n",
       "\t<li>9</li>\n",
       "\t<li>10</li>\n",
       "</ol>\n",
       "</dd>\n",
       "</dl>\n"
      ],
      "text/latex": [
       "\\begin{description}\n",
       "\\item[\\$a] \\begin{enumerate*}\n",
       "\\item 1\n",
       "\\item 2\n",
       "\\item 3\n",
       "\\item 4\n",
       "\\item 5\n",
       "\\end{enumerate*}\n",
       "\n",
       "\\item[\\$b] \\begin{enumerate*}\n",
       "\\item 6\n",
       "\\item 7\n",
       "\\item 8\n",
       "\\item 9\n",
       "\\item 10\n",
       "\\end{enumerate*}\n",
       "\n",
       "\\end{description}\n"
      ],
      "text/markdown": [
       "$a\n",
       ":   1. 1\n",
       "2. 2\n",
       "3. 3\n",
       "4. 4\n",
       "5. 5\n",
       "\n",
       "\n",
       "\n",
       "$b\n",
       ":   1. 6\n",
       "2. 7\n",
       "3. 8\n",
       "4. 9\n",
       "5. 10\n",
       "\n",
       "\n",
       "\n",
       "\n",
       "\n"
      ],
      "text/plain": [
       "$a\n",
       "[1] 1 2 3 4 5\n",
       "\n",
       "$b\n",
       "[1]  6  7  8  9 10\n"
      ]
     },
     "metadata": {},
     "output_type": "display_data"
    },
    {
     "data": {
      "text/html": [
       "<dl>\n",
       "\t<dt>$a</dt>\n",
       "\t\t<dd>3</dd>\n",
       "\t<dt>$b</dt>\n",
       "\t\t<dd>8</dd>\n",
       "</dl>\n"
      ],
      "text/latex": [
       "\\begin{description}\n",
       "\\item[\\$a] 3\n",
       "\\item[\\$b] 8\n",
       "\\end{description}\n"
      ],
      "text/markdown": [
       "$a\n",
       ":   3\n",
       "$b\n",
       ":   8\n",
       "\n",
       "\n"
      ],
      "text/plain": [
       "$a\n",
       "[1] 3\n",
       "\n",
       "$b\n",
       "[1] 8\n"
      ]
     },
     "metadata": {},
     "output_type": "display_data"
    }
   ],
   "source": [
    "Mylist = list(a=1:5,b=6:10)\n",
    "Mylist\n",
    "result = lapply(X = Mylist,FUN = mean)\n",
    "result"
   ]
  },
  {
   "cell_type": "markdown",
   "metadata": {},
   "source": [
    "### unlist\n",
    " - list 형태의 데이터를 Vector 형태로 변환 \n",
    " - 다시 사용하기 위해서는 Matrix 또는 DF로 변환이 필요하다."
   ]
  },
  {
   "cell_type": "code",
   "execution_count": 16,
   "metadata": {
    "collapsed": false
   },
   "outputs": [
    {
     "data": {
      "text/html": [
       "<table>\n",
       "<thead><tr><th></th><th scope=col>Sepal.Length</th><th scope=col>Sepal.Width</th><th scope=col>Petal.Length</th><th scope=col>Petal.Width</th><th scope=col>Species</th></tr></thead>\n",
       "<tbody>\n",
       "\t<tr><th scope=row>1</th><td>5.1   </td><td>3.5   </td><td>1.4   </td><td>0.2   </td><td>setosa</td></tr>\n",
       "\t<tr><th scope=row>2</th><td>4.9   </td><td>3     </td><td>1.4   </td><td>0.2   </td><td>setosa</td></tr>\n",
       "\t<tr><th scope=row>3</th><td>4.7   </td><td>3.2   </td><td>1.3   </td><td>0.2   </td><td>setosa</td></tr>\n",
       "</tbody>\n",
       "</table>\n"
      ],
      "text/latex": [
       "\\begin{tabular}{r|lllll}\n",
       "  & Sepal.Length & Sepal.Width & Petal.Length & Petal.Width & Species\\\\\n",
       "\\hline\n",
       "\t1 & 5.1    & 3.5    & 1.4    & 0.2    & setosa\\\\\n",
       "\t2 & 4.9    & 3      & 1.4    & 0.2    & setosa\\\\\n",
       "\t3 & 4.7    & 3.2    & 1.3    & 0.2    & setosa\\\\\n",
       "\\end{tabular}\n"
      ],
      "text/plain": [
       "  Sepal.Length Sepal.Width Petal.Length Petal.Width Species\n",
       "1          5.1         3.5          1.4         0.2  setosa\n",
       "2          4.9         3.0          1.4         0.2  setosa\n",
       "3          4.7         3.2          1.3         0.2  setosa"
      ]
     },
     "metadata": {},
     "output_type": "display_data"
    },
    {
     "data": {
      "text/html": [
       "<dl>\n",
       "\t<dt>$Sepal.Length</dt>\n",
       "\t\t<dd>5.006</dd>\n",
       "\t<dt>$Sepal.Width</dt>\n",
       "\t\t<dd>3.428</dd>\n",
       "\t<dt>$Petal.Length</dt>\n",
       "\t\t<dd>1.462</dd>\n",
       "\t<dt>$Petal.Width</dt>\n",
       "\t\t<dd>0.246</dd>\n",
       "</dl>\n"
      ],
      "text/latex": [
       "\\begin{description}\n",
       "\\item[\\$Sepal.Length] 5.006\n",
       "\\item[\\$Sepal.Width] 3.428\n",
       "\\item[\\$Petal.Length] 1.462\n",
       "\\item[\\$Petal.Width] 0.246\n",
       "\\end{description}\n"
      ],
      "text/markdown": [
       "$Sepal.Length\n",
       ":   5.006\n",
       "$Sepal.Width\n",
       ":   3.428\n",
       "$Petal.Length\n",
       ":   1.462\n",
       "$Petal.Width\n",
       ":   0.246\n",
       "\n",
       "\n"
      ],
      "text/plain": [
       "$Sepal.Length\n",
       "[1] 5.006\n",
       "\n",
       "$Sepal.Width\n",
       "[1] 3.428\n",
       "\n",
       "$Petal.Length\n",
       "[1] 1.462\n",
       "\n",
       "$Petal.Width\n",
       "[1] 0.246\n"
      ]
     },
     "metadata": {},
     "output_type": "display_data"
    },
    {
     "name": "stdout",
     "output_type": "stream",
     "text": [
      "List of 4\n",
      " $ Sepal.Length: num 5.01\n",
      " $ Sepal.Width : num 3.43\n",
      " $ Petal.Length: num 1.46\n",
      " $ Petal.Width : num 0.246\n"
     ]
    }
   ],
   "source": [
    "head(iris_setosa,3)\n",
    "result_1 = lapply(iris_setosa[,-5],mean)\n",
    "result_1\n",
    "str(result_1)"
   ]
  },
  {
   "cell_type": "code",
   "execution_count": 14,
   "metadata": {
    "collapsed": false
   },
   "outputs": [
    {
     "name": "stdout",
     "output_type": "stream",
     "text": [
      " Named num [1:4] 5.006 3.428 1.462 0.246\n",
      " - attr(*, \"names\")= chr [1:4] \"Sepal.Length\" \"Sepal.Width\" \"Petal.Length\" \"Petal.Width\"\n"
     ]
    },
    {
     "data": {
      "text/html": [
       "<dl class=dl-horizontal>\n",
       "\t<dt>Sepal.Length</dt>\n",
       "\t\t<dd>5.006</dd>\n",
       "\t<dt>Sepal.Width</dt>\n",
       "\t\t<dd>3.428</dd>\n",
       "\t<dt>Petal.Length</dt>\n",
       "\t\t<dd>1.462</dd>\n",
       "\t<dt>Petal.Width</dt>\n",
       "\t\t<dd>0.246</dd>\n",
       "</dl>\n"
      ],
      "text/latex": [
       "\\begin{description*}\n",
       "\\item[Sepal.Length] 5.006\n",
       "\\item[Sepal.Width] 3.428\n",
       "\\item[Petal.Length] 1.462\n",
       "\\item[Petal.Width] 0.246\n",
       "\\end{description*}\n"
      ],
      "text/markdown": [
       "Sepal.Length\n",
       ":   5.006Sepal.Width\n",
       ":   3.428Petal.Length\n",
       ":   1.462Petal.Width\n",
       ":   0.246\n",
       "\n"
      ],
      "text/plain": [
       "Sepal.Length  Sepal.Width Petal.Length  Petal.Width \n",
       "       5.006        3.428        1.462        0.246 "
      ]
     },
     "metadata": {},
     "output_type": "display_data"
    },
    {
     "data": {
      "text/html": [
       "<table>\n",
       "<tbody>\n",
       "\t<tr><th scope=row>Sepal.Length</th><td>5.006</td></tr>\n",
       "\t<tr><th scope=row>Sepal.Width</th><td>3.428</td></tr>\n",
       "\t<tr><th scope=row>Petal.Length</th><td>1.462</td></tr>\n",
       "\t<tr><th scope=row>Petal.Width</th><td>0.246</td></tr>\n",
       "</tbody>\n",
       "</table>\n"
      ],
      "text/latex": [
       "\\begin{tabular}{r|l}\n",
       "\tSepal.Length & 5.006\\\\\n",
       "\tSepal.Width & 3.428\\\\\n",
       "\tPetal.Length & 1.462\\\\\n",
       "\tPetal.Width & 0.246\\\\\n",
       "\\end{tabular}\n"
      ],
      "text/markdown": [
       "1. 5.006\n",
       "2. 3.428\n",
       "3. 1.462\n",
       "4. 0.246\n",
       "\n",
       "\n"
      ],
      "text/plain": [
       "              [,1]\n",
       "Sepal.Length 5.006\n",
       "Sepal.Width  3.428\n",
       "Petal.Length 1.462\n",
       "Petal.Width  0.246"
      ]
     },
     "metadata": {},
     "output_type": "display_data"
    },
    {
     "data": {
      "text/html": [
       "\"matrix\""
      ],
      "text/latex": [
       "\"matrix\""
      ],
      "text/markdown": [
       "\"matrix\""
      ],
      "text/plain": [
       "[1] \"matrix\""
      ]
     },
     "metadata": {},
     "output_type": "display_data"
    }
   ],
   "source": [
    "result_1 = unlist(result_1)   #produce a vector which contains all the atomic components which occur in x.\n",
    "str(result_1)\n",
    "result_1\n",
    "result_1 = as.matrix(result_1)\n",
    "result_1\n",
    "class(result_1)"
   ]
  },
  {
   "cell_type": "code",
   "execution_count": 32,
   "metadata": {
    "collapsed": false
   },
   "outputs": [
    {
     "data": {
      "text/html": [
       "<table>\n",
       "<thead><tr><th></th><th scope=col>Mean</th></tr></thead>\n",
       "<tbody>\n",
       "\t<tr><th scope=row>Sepal.Length</th><td>5.006</td></tr>\n",
       "\t<tr><th scope=row>Sepal.Width</th><td>3.428</td></tr>\n",
       "\t<tr><th scope=row>Petal.Length</th><td>1.462</td></tr>\n",
       "\t<tr><th scope=row>Petal.Width</th><td>0.246</td></tr>\n",
       "</tbody>\n",
       "</table>\n"
      ],
      "text/latex": [
       "\\begin{tabular}{r|l}\n",
       "  & Mean\\\\\n",
       "\\hline\n",
       "\tSepal.Length & 5.006\\\\\n",
       "\tSepal.Width & 3.428\\\\\n",
       "\tPetal.Length & 1.462\\\\\n",
       "\tPetal.Width & 0.246\\\\\n",
       "\\end{tabular}\n"
      ],
      "text/plain": [
       "              Mean\n",
       "Sepal.Length 5.006\n",
       "Sepal.Width  3.428\n",
       "Petal.Length 1.462\n",
       "Petal.Width  0.246"
      ]
     },
     "metadata": {},
     "output_type": "display_data"
    },
    {
     "name": "stdout",
     "output_type": "stream",
     "text": [
      "'data.frame':\t4 obs. of  1 variable:\n",
      " $ Mean: num  5.006 3.428 1.462 0.246\n"
     ]
    }
   ],
   "source": [
    "result_1 = data.frame(result_1)\n",
    "result_1\n",
    "colnames(result_1) = c(\"Mean\")\n",
    "str(result_1)"
   ]
  },
  {
   "cell_type": "markdown",
   "metadata": {},
   "source": [
    "### sapply \n",
    " - 벡터에 일괄적으로 FUN을 적용 후 벡터로 반환(lapply와 유사) \n",
    " - Return Type is Vector"
   ]
  },
  {
   "cell_type": "code",
   "execution_count": 35,
   "metadata": {
    "collapsed": false
   },
   "outputs": [
    {
     "data": {
      "text/html": [
       "<dl class=dl-horizontal>\n",
       "\t<dt>Sepal.Length</dt>\n",
       "\t\t<dd>5.006</dd>\n",
       "\t<dt>Sepal.Width</dt>\n",
       "\t\t<dd>3.428</dd>\n",
       "\t<dt>Petal.Length</dt>\n",
       "\t\t<dd>1.462</dd>\n",
       "\t<dt>Petal.Width</dt>\n",
       "\t\t<dd>0.246</dd>\n",
       "</dl>\n"
      ],
      "text/latex": [
       "\\begin{description*}\n",
       "\\item[Sepal.Length] 5.006\n",
       "\\item[Sepal.Width] 3.428\n",
       "\\item[Petal.Length] 1.462\n",
       "\\item[Petal.Width] 0.246\n",
       "\\end{description*}\n"
      ],
      "text/markdown": [
       "Sepal.Length\n",
       ":   5.006Sepal.Width\n",
       ":   3.428Petal.Length\n",
       ":   1.462Petal.Width\n",
       ":   0.246\n",
       "\n"
      ],
      "text/plain": [
       "Sepal.Length  Sepal.Width Petal.Length  Petal.Width \n",
       "       5.006        3.428        1.462        0.246 "
      ]
     },
     "metadata": {},
     "output_type": "display_data"
    },
    {
     "data": {
      "text/html": [
       "\"numeric\""
      ],
      "text/latex": [
       "\"numeric\""
      ],
      "text/markdown": [
       "\"numeric\""
      ],
      "text/plain": [
       "[1] \"numeric\""
      ]
     },
     "metadata": {},
     "output_type": "display_data"
    }
   ],
   "source": [
    "result_3 = sapply(X = iris_setosa[,1:4],FUN = mean)            #한번에 vector화 시킨것.\n",
    "result_3\n",
    "class(result_3)"
   ]
  },
  {
   "cell_type": "code",
   "execution_count": 37,
   "metadata": {
    "collapsed": false
   },
   "outputs": [
    {
     "data": {
      "text/html": [
       "<table>\n",
       "<thead><tr><th></th><th scope=col>result_3</th></tr></thead>\n",
       "<tbody>\n",
       "\t<tr><th scope=row>Sepal.Length</th><td>5.006</td></tr>\n",
       "\t<tr><th scope=row>Sepal.Width</th><td>3.428</td></tr>\n",
       "\t<tr><th scope=row>Petal.Length</th><td>1.462</td></tr>\n",
       "\t<tr><th scope=row>Petal.Width</th><td>0.246</td></tr>\n",
       "</tbody>\n",
       "</table>\n"
      ],
      "text/latex": [
       "\\begin{tabular}{r|l}\n",
       "  & result\\_3\\\\\n",
       "\\hline\n",
       "\tSepal.Length & 5.006\\\\\n",
       "\tSepal.Width & 3.428\\\\\n",
       "\tPetal.Length & 1.462\\\\\n",
       "\tPetal.Width & 0.246\\\\\n",
       "\\end{tabular}\n"
      ],
      "text/plain": [
       "             result_3\n",
       "Sepal.Length    5.006\n",
       "Sepal.Width     3.428\n",
       "Petal.Length    1.462\n",
       "Petal.Width     0.246"
      ]
     },
     "metadata": {},
     "output_type": "display_data"
    },
    {
     "data": {
      "text/html": [
       "<table>\n",
       "<thead><tr><th></th><th scope=col>Sepal.Length</th><th scope=col>Sepal.Width</th><th scope=col>Petal.Length</th><th scope=col>Petal.Width</th></tr></thead>\n",
       "<tbody>\n",
       "\t<tr><th scope=row>1</th><td>5.006</td><td>3.428</td><td>1.462</td><td>0.246</td></tr>\n",
       "</tbody>\n",
       "</table>\n"
      ],
      "text/latex": [
       "\\begin{tabular}{r|llll}\n",
       "  & Sepal.Length & Sepal.Width & Petal.Length & Petal.Width\\\\\n",
       "\\hline\n",
       "\t1 & 5.006 & 3.428 & 1.462 & 0.246\\\\\n",
       "\\end{tabular}\n"
      ],
      "text/plain": [
       "  Sepal.Length Sepal.Width Petal.Length Petal.Width\n",
       "1        5.006       3.428        1.462       0.246"
      ]
     },
     "metadata": {},
     "output_type": "display_data"
    }
   ],
   "source": [
    "as.data.frame(result_3)\n",
    "as.data.frame(t(result_3))          #전치행렬. t()  "
   ]
  },
  {
   "cell_type": "markdown",
   "metadata": {},
   "source": [
    "### tapply\n",
    " - 그룹별 함수를 적용하기 위한 apply함수\n",
    " - tapply, sapply 가 중요한 함수 \n",
    " - tapply(종속변수, 독립변수, 적용함수) => 독립변수들의 종속변수를 적용함수 시킨다."
   ]
  },
  {
   "cell_type": "code",
   "execution_count": 21,
   "metadata": {
    "collapsed": false
   },
   "outputs": [
    {
     "data": {
      "text/html": [
       "<dl class=dl-horizontal>\n",
       "\t<dt>setosa</dt>\n",
       "\t\t<dd>5.006</dd>\n",
       "\t<dt>versicolor</dt>\n",
       "\t\t<dd>5.936</dd>\n",
       "\t<dt>virginica</dt>\n",
       "\t\t<dd>6.588</dd>\n",
       "</dl>\n"
      ],
      "text/markdown": [
       "setosa\n",
       ":   5.006versicolor\n",
       ":   5.936virginica\n",
       ":   6.588\n",
       "\n"
      ],
      "text/plain": [
       "    setosa versicolor  virginica \n",
       "     5.006      5.936      6.588 "
      ]
     },
     "metadata": {},
     "output_type": "display_data"
    }
   ],
   "source": [
    "tapply(iris$Sepal.Length,iris$Species,mean)   # (1,2,3)   1번을 가지고 2번 별로 3번을 한다. "
   ]
  },
  {
   "cell_type": "code",
   "execution_count": 41,
   "metadata": {
    "collapsed": false
   },
   "outputs": [
    {
     "data": {
      "text/html": [
       "<dl class=dl-horizontal>\n",
       "\t<dt>FALSE</dt>\n",
       "\t\t<dd>6.262</dd>\n",
       "\t<dt>TRUE</dt>\n",
       "\t\t<dd>5.006</dd>\n",
       "</dl>\n"
      ],
      "text/markdown": [
       "FALSE\n",
       ":   6.262TRUE\n",
       ":   5.006\n",
       "\n"
      ],
      "text/plain": [
       "FALSE  TRUE \n",
       "6.262 5.006 "
      ]
     },
     "metadata": {},
     "output_type": "display_data"
    }
   ],
   "source": [
    "tapply(iris$Sepal.Length,iris$Species == 'setosa',mean)"
   ]
  },
  {
   "cell_type": "code",
   "execution_count": 42,
   "metadata": {
    "collapsed": false
   },
   "outputs": [
    {
     "data": {
      "text/html": [
       "<dl class=dl-horizontal>\n",
       "\t<dt>FALSE</dt>\n",
       "\t\t<dd>5.006</dd>\n",
       "\t<dt>TRUE</dt>\n",
       "\t\t<dd>6.262</dd>\n",
       "</dl>\n"
      ],
      "text/markdown": [
       "FALSE\n",
       ":   5.006TRUE\n",
       ":   6.262\n",
       "\n"
      ],
      "text/plain": [
       "FALSE  TRUE \n",
       "5.006 6.262 "
      ]
     },
     "metadata": {},
     "output_type": "display_data"
    }
   ],
   "source": [
    "tapply(iris$Sepal.Length,iris$Species != 'setosa',mean)"
   ]
  }
 ],
 "metadata": {
  "kernelspec": {
   "display_name": "R 3.3",
   "language": "R",
   "name": "ir33"
  },
  "language_info": {
   "codemirror_mode": "r",
   "file_extension": ".r",
   "mimetype": "text/x-r-source",
   "name": "R",
   "pygments_lexer": "r",
   "version": "3.3.1"
  }
 },
 "nbformat": 4,
 "nbformat_minor": 0
}
