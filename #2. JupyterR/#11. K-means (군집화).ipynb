{
 "cells": [
  {
   "cell_type": "markdown",
   "metadata": {},
   "source": [
    "# R을 사용한 K-means 군집 분석\n",
    " - http://www.dodomira.com/2016/02/20/r%EC%9D%84-%EC%82%AC%EC%9A%A9%ED%95%9C-k-means-%EA%B5%B0%EC%A7%91%EB%B6%84%EC%84%9D-k-means-clustering-in-r/ 참고 "
   ]
  },
  {
   "cell_type": "code",
   "execution_count": 1,
   "metadata": {
    "collapsed": false
   },
   "outputs": [
    {
     "name": "stderr",
     "output_type": "stream",
     "text": [
      "also installing the dependencies 'minqa', 'nloptr', 'RcppEigen', 'lme4', 'SparseM', 'MatrixModels', 'pbkrtest', 'quantreg', 'iterators', 'car', 'foreach'\n",
      "\n"
     ]
    },
    {
     "name": "stdout",
     "output_type": "stream",
     "text": [
      "package 'minqa' successfully unpacked and MD5 sums checked\n",
      "package 'nloptr' successfully unpacked and MD5 sums checked\n",
      "package 'RcppEigen' successfully unpacked and MD5 sums checked\n",
      "package 'lme4' successfully unpacked and MD5 sums checked\n",
      "package 'SparseM' successfully unpacked and MD5 sums checked\n",
      "package 'MatrixModels' successfully unpacked and MD5 sums checked\n",
      "package 'pbkrtest' successfully unpacked and MD5 sums checked\n",
      "package 'quantreg' successfully unpacked and MD5 sums checked\n",
      "package 'iterators' successfully unpacked and MD5 sums checked\n",
      "package 'car' successfully unpacked and MD5 sums checked\n",
      "package 'foreach' successfully unpacked and MD5 sums checked\n",
      "package 'caret' successfully unpacked and MD5 sums checked\n",
      "\n",
      "The downloaded binary packages are in\n",
      "\tC:\\Users\\MCR007\\AppData\\Local\\Temp\\RtmpC6ZZa6\\downloaded_packages\n"
     ]
    }
   ],
   "source": [
    "install.packages(\"caret\", repos = \"http://cran.us.r-project.org\")"
   ]
  },
  {
   "cell_type": "markdown",
   "metadata": {},
   "source": [
    "# 데이터 준비\n",
    "    우선 caret 패키지의 createDataPartition 함수를 사용해서 iris 데이터를 \n",
    "    training / testing 데이터 셋으로 구분해 봅시다. training 데이터로 모델을 만들고, \n",
    "    testing 데이터로 모델을 평가 하기 위한 사전 작업입니다."
   ]
  },
  {
   "cell_type": "code",
   "execution_count": 16,
   "metadata": {
    "collapsed": false
   },
   "outputs": [
    {
     "data": {
      "text/html": [
       "<table>\n",
       "<thead><tr><th></th><th scope=col>Sepal.Length</th><th scope=col>Sepal.Width</th><th scope=col>Petal.Length</th><th scope=col>Petal.Width</th><th scope=col>Species</th></tr></thead>\n",
       "<tbody>\n",
       "\t<tr><th scope=row>1</th><td>5.1   </td><td>3.5   </td><td>1.4   </td><td>0.2   </td><td>setosa</td></tr>\n",
       "\t<tr><th scope=row>2</th><td>4.9   </td><td>3     </td><td>1.4   </td><td>0.2   </td><td>setosa</td></tr>\n",
       "\t<tr><th scope=row>3</th><td>4.7   </td><td>3.2   </td><td>1.3   </td><td>0.2   </td><td>setosa</td></tr>\n",
       "\t<tr><th scope=row>4</th><td>4.6   </td><td>3.1   </td><td>1.5   </td><td>0.2   </td><td>setosa</td></tr>\n",
       "\t<tr><th scope=row>5</th><td>5     </td><td>3.6   </td><td>1.4   </td><td>0.2   </td><td>setosa</td></tr>\n",
       "\t<tr><th scope=row>6</th><td>5.4   </td><td>3.9   </td><td>1.7   </td><td>0.4   </td><td>setosa</td></tr>\n",
       "</tbody>\n",
       "</table>\n"
      ],
      "text/latex": [
       "\\begin{tabular}{r|lllll}\n",
       "  & Sepal.Length & Sepal.Width & Petal.Length & Petal.Width & Species\\\\\n",
       "\\hline\n",
       "\t1 & 5.1    & 3.5    & 1.4    & 0.2    & setosa\\\\\n",
       "\t2 & 4.9    & 3      & 1.4    & 0.2    & setosa\\\\\n",
       "\t3 & 4.7    & 3.2    & 1.3    & 0.2    & setosa\\\\\n",
       "\t4 & 4.6    & 3.1    & 1.5    & 0.2    & setosa\\\\\n",
       "\t5 & 5      & 3.6    & 1.4    & 0.2    & setosa\\\\\n",
       "\t6 & 5.4    & 3.9    & 1.7    & 0.4    & setosa\\\\\n",
       "\\end{tabular}\n"
      ],
      "text/plain": [
       "  Sepal.Length Sepal.Width Petal.Length Petal.Width Species\n",
       "1          5.1         3.5          1.4         0.2  setosa\n",
       "2          4.9         3.0          1.4         0.2  setosa\n",
       "3          4.7         3.2          1.3         0.2  setosa\n",
       "4          4.6         3.1          1.5         0.2  setosa\n",
       "5          5.0         3.6          1.4         0.2  setosa\n",
       "6          5.4         3.9          1.7         0.4  setosa"
      ]
     },
     "metadata": {},
     "output_type": "display_data"
    }
   ],
   "source": [
    "library(caret)\n",
    "data(iris)\n",
    "head(iris)"
   ]
  },
  {
   "cell_type": "code",
   "execution_count": 19,
   "metadata": {
    "collapsed": false
   },
   "outputs": [],
   "source": [
    "set.seed(123)\n",
    "\n",
    "inTrain <- createDataPartition(y=iris$Species, p=0.7, list=FALSE)\n",
    "training <- iris[inTrain,]\n",
    "testing <- iris[-inTrain,]"
   ]
  },
  {
   "cell_type": "code",
   "execution_count": 21,
   "metadata": {
    "collapsed": false
   },
   "outputs": [
    {
     "name": "stdout",
     "output_type": "stream",
     "text": [
      "'data.frame':\t105 obs. of  5 variables:\n",
      " $ Sepal.Length: num  5.1 4.9 4.7 4.6 4.6 4.4 5.4 4.8 4.3 5.8 ...\n",
      " $ Sepal.Width : num  3.5 3 3.2 3.1 3.4 2.9 3.7 3 3 4 ...\n",
      " $ Petal.Length: num  1.4 1.4 1.3 1.5 1.4 1.4 1.5 1.4 1.1 1.2 ...\n",
      " $ Petal.Width : num  0.2 0.2 0.2 0.2 0.3 0.2 0.2 0.1 0.1 0.2 ...\n",
      " $ Species     : Factor w/ 3 levels \"setosa\",\"versicolor\",..: 1 1 1 1 1 1 1 1 1 1 ...\n"
     ]
    }
   ],
   "source": [
    "str(training)"
   ]
  },
  {
   "cell_type": "code",
   "execution_count": 23,
   "metadata": {
    "collapsed": false
   },
   "outputs": [
    {
     "name": "stdout",
     "output_type": "stream",
     "text": [
      "'data.frame':\t45 obs. of  5 variables:\n",
      " $ Sepal.Length: num  5 5.4 5 4.9 4.8 5.7 5.4 5.2 5.2 5.5 ...\n",
      " $ Sepal.Width : num  3.6 3.9 3.4 3.1 3.4 4.4 3.9 3.4 4.1 4.2 ...\n",
      " $ Petal.Length: num  1.4 1.7 1.5 1.5 1.6 1.5 1.3 1.4 1.5 1.4 ...\n",
      " $ Petal.Width : num  0.2 0.4 0.2 0.1 0.2 0.4 0.4 0.2 0.1 0.2 ...\n",
      " $ Species     : Factor w/ 3 levels \"setosa\",\"versicolor\",..: 1 1 1 1 1 1 1 1 1 1 ...\n"
     ]
    }
   ],
   "source": [
    "str(testing)"
   ]
  },
  {
   "cell_type": "markdown",
   "metadata": {},
   "source": [
    "# 표준화\n",
    "     K-means 군집 분석은 관측치 간의 거리를 이용하기 때문에 변수의 단위가 결과에 큰 영향을 미칩니다.  \n",
    "     그래서 변수를 표준화 하는 작업이 필요한데요, scale 함수를 사용해서 iris 데이터를 표준화 해 보겠습니다."
   ]
  },
  {
   "cell_type": "code",
   "execution_count": 25,
   "metadata": {
    "collapsed": false
   },
   "outputs": [
    {
     "data": {
      "text/plain": [
       "  Sepal.Length       Sepal.Width        Petal.Length      Petal.Width     \n",
       " Min.   :-1.74163   Min.   :-2.57884   Min.   :-1.5421   Min.   :-1.4303  \n",
       " 1st Qu.:-0.83745   1st Qu.:-0.58599   1st Qu.:-1.2103   1st Qu.:-1.1698  \n",
       " Median :-0.04629   Median :-0.08778   Median : 0.3381   Median : 0.1327  \n",
       " Mean   : 0.00000   Mean   : 0.00000   Mean   : 0.0000   Mean   : 0.0000  \n",
       " 3rd Qu.: 0.63185   3rd Qu.: 0.65954   3rd Qu.: 0.7805   3rd Qu.: 0.7840  \n",
       " Max.   : 2.32720   Max.   : 2.40328   Max.   : 1.7206   Max.   : 1.6958  "
      ]
     },
     "metadata": {},
     "output_type": "display_data"
    }
   ],
   "source": [
    "training.data <- scale(training[-5])  # factor 요소 제외 \n",
    "summary(training.data)"
   ]
  },
  {
   "cell_type": "markdown",
   "metadata": {},
   "source": [
    "# 모델 작성\n",
    "    training 데이터셋으로 iris 데이터를 3개의 군집으로 나누어 봅시다."
   ]
  },
  {
   "cell_type": "code",
   "execution_count": 27,
   "metadata": {
    "collapsed": true
   },
   "outputs": [],
   "source": [
    "iris.kmeans <- kmeans(training.data[,-5], centers = 3, iter.max = 10000)"
   ]
  },
  {
   "cell_type": "code",
   "execution_count": 29,
   "metadata": {
    "collapsed": false
   },
   "outputs": [
    {
     "data": {
      "text/plain": [
       "             Length Class  Mode   \n",
       "cluster      105    -none- numeric\n",
       "centers       12    -none- numeric\n",
       "totss          1    -none- numeric\n",
       "withinss       3    -none- numeric\n",
       "tot.withinss   1    -none- numeric\n",
       "betweenss      1    -none- numeric\n",
       "size           3    -none- numeric\n",
       "iter           1    -none- numeric\n",
       "ifault         1    -none- numeric"
      ]
     },
     "metadata": {},
     "output_type": "display_data"
    }
   ],
   "source": [
    "summary(iris.kmeans)"
   ]
  },
  {
   "cell_type": "code",
   "execution_count": 31,
   "metadata": {
    "collapsed": false
   },
   "outputs": [
    {
     "data": {
      "text/html": [
       "<table>\n",
       "<thead><tr><th></th><th scope=col>Sepal.Length</th><th scope=col>Sepal.Width</th><th scope=col>Petal.Length</th><th scope=col>Petal.Width</th></tr></thead>\n",
       "<tbody>\n",
       "\t<tr><th scope=row>1</th><td> 0.01167492</td><td>-0.89258505</td><td> 0.35087910</td><td> 0.27634632</td></tr>\n",
       "\t<tr><th scope=row>2</th><td>-1.0247432</td><td> 0.7520636</td><td>-1.2908510</td><td>-1.2405049</td></tr>\n",
       "\t<tr><th scope=row>3</th><td>1.1422803</td><td>0.2738255</td><td>1.0159839</td><td>1.0529085</td></tr>\n",
       "</tbody>\n",
       "</table>\n"
      ],
      "text/latex": [
       "\\begin{tabular}{r|llll}\n",
       "  & Sepal.Length & Sepal.Width & Petal.Length & Petal.Width\\\\\n",
       "\\hline\n",
       "\t1 &  0.01167492 & -0.89258505 &  0.35087910 &  0.27634632\\\\\n",
       "\t2 & -1.0247432 &  0.7520636 & -1.2908510 & -1.2405049\\\\\n",
       "\t3 & 1.1422803 & 0.2738255 & 1.0159839 & 1.0529085\\\\\n",
       "\\end{tabular}\n"
      ],
      "text/markdown": [
       "1. 0.0116749179888685\n",
       "2. -1.02474315624286\n",
       "3. 1.14228027957852\n",
       "4. -0.892585052479474\n",
       "5. 0.752063586437929\n",
       "6. 0.273825532947482\n",
       "7. 0.350879097586334\n",
       "8. -1.29085102025094\n",
       "9. 1.01598390009406\n",
       "10. 0.276346321525052\n",
       "11. -1.24050489634864\n",
       "12. 1.05290854299115\n",
       "\n",
       "\n"
      ],
      "text/plain": [
       "  Sepal.Length Sepal.Width Petal.Length Petal.Width\n",
       "1   0.01167492  -0.8925851    0.3508791   0.2763463\n",
       "2  -1.02474316   0.7520636   -1.2908510  -1.2405049\n",
       "3   1.14228028   0.2738255    1.0159839   1.0529085"
      ]
     },
     "metadata": {},
     "output_type": "display_data"
    }
   ],
   "source": [
    "iris.kmeans$centers"
   ]
  },
  {
   "cell_type": "markdown",
   "metadata": {},
   "source": [
    "# 군집 확인"
   ]
  },
  {
   "cell_type": "code",
   "execution_count": 33,
   "metadata": {
    "collapsed": false
   },
   "outputs": [
    {
     "data": {},
     "metadata": {},
     "output_type": "display_data"
    },
    {
     "data": {
      "image/png": "[encoded data removed]",
      "text/plain": [
       "plot without title"
      ]
     },
     "metadata": {},
     "output_type": "display_data"
    }
   ],
   "source": [
    "training$cluster<-as.factor(iris.kmeans$cluster)\n",
    "qplot(Petal.Width,Petal.Length,colour=cluster,data=training)"
   ]
  },
  {
   "cell_type": "code",
   "execution_count": 36,
   "metadata": {
    "collapsed": false
   },
   "outputs": [
    {
     "data": {
      "text/plain": [
       "            \n",
       "              1  2  3\n",
       "  setosa      0 35  0\n",
       "  versicolor 29  0  6\n",
       "  virginica  10  0 25"
      ]
     },
     "metadata": {},
     "output_type": "display_data"
    }
   ],
   "source": [
    "table(training$Species, training$cluster)"
   ]
  },
  {
   "cell_type": "markdown",
   "metadata": {},
   "source": [
    " - 결과를 보니 setosa는 잘 분류해 내었지만 versicolor나 virginica 종은 잘 구분해 내지 못한 것 같네요."
   ]
  },
  {
   "cell_type": "code",
   "execution_count": null,
   "metadata": {
    "collapsed": true
   },
   "outputs": [],
   "source": []
  }
 ],
 "metadata": {
  "kernelspec": {
   "display_name": "R 3.3",
   "language": "R",
   "name": "ir33"
  },
  "language_info": {
   "codemirror_mode": "r",
   "file_extension": ".r",
   "mimetype": "text/x-r-source",
   "name": "R",
   "pygments_lexer": "r",
   "version": "3.3.1"
  }
 },
 "nbformat": 4,
 "nbformat_minor": 0
}
