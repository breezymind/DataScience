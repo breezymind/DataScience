{
 "cells": [
  {
   "cell_type": "markdown",
   "metadata": {},
   "source": [
    "# data analysis using statistics ( 통계적 분석 : 변수 선택 )\n",
    " - 기준 (F-statistics, AIC ) 에 의해 제거 \n",
    " - 하나씩 택하거나 제거\n",
    "  - 전진 선택 법 : 절편만 있는 모델에서 가장 많이 개선시키는 변수를 차례로 추가\n",
    "  - 변수 소거법 : 모든 변수에서 불필요한 변수를 제거 하면서 \n",
    "  - 단계적 방법 : 두 가지 하이브리드, 모든 변수가 포함된 모델에서 도움되지 않는 변수를 삭제하거나 가장 개선시키는 변수를 추가 "
   ]
  },
  {
   "cell_type": "code",
   "execution_count": 3,
   "metadata": {
    "collapsed": false
   },
   "outputs": [],
   "source": [
    "library(mlbench)"
   ]
  },
  {
   "cell_type": "code",
   "execution_count": 9,
   "metadata": {
    "collapsed": false
   },
   "outputs": [],
   "source": [
    "data(BostonHousing)\n",
    "BostonHousing <- BostonHousing"
   ]
  },
  {
   "cell_type": "code",
   "execution_count": 11,
   "metadata": {
    "collapsed": false
   },
   "outputs": [
    {
     "data": {
      "text/html": [
       "<table>\n",
       "<thead><tr><th></th><th scope=col>crim</th><th scope=col>zn</th><th scope=col>indus</th><th scope=col>chas</th><th scope=col>nox</th><th scope=col>rm</th><th scope=col>age</th><th scope=col>dis</th><th scope=col>rad</th><th scope=col>tax</th><th scope=col>ptratio</th><th scope=col>b</th><th scope=col>lstat</th><th scope=col>medv</th></tr></thead>\n",
       "<tbody>\n",
       "\t<tr><th scope=row>1</th><td>0.00632</td><td>18     </td><td>2.31   </td><td>0      </td><td>0.538  </td><td>6.575  </td><td>65.2   </td><td>4.09   </td><td>1      </td><td>296    </td><td>15.3   </td><td>396.9  </td><td>4.98   </td><td>24     </td></tr>\n",
       "\t<tr><th scope=row>2</th><td>0.02731</td><td>0      </td><td>7.07   </td><td>0      </td><td>0.469  </td><td>6.421  </td><td>78.9   </td><td>4.9671 </td><td>2      </td><td>242    </td><td>17.8   </td><td>396.9  </td><td>9.14   </td><td>21.6   </td></tr>\n",
       "\t<tr><th scope=row>3</th><td>0.02729</td><td>0      </td><td>7.07   </td><td>0      </td><td>0.469  </td><td>7.185  </td><td>61.1   </td><td>4.9671 </td><td>2      </td><td>242    </td><td>17.8   </td><td>392.83 </td><td>4.03   </td><td>34.7   </td></tr>\n",
       "\t<tr><th scope=row>4</th><td>0.03237</td><td>0      </td><td>2.18   </td><td>0      </td><td>0.458  </td><td>6.998  </td><td>45.8   </td><td>6.0622 </td><td>3      </td><td>222    </td><td>18.7   </td><td>394.63 </td><td>2.94   </td><td>33.4   </td></tr>\n",
       "\t<tr><th scope=row>5</th><td>0.06905</td><td>0      </td><td>2.18   </td><td>0      </td><td>0.458  </td><td>7.147  </td><td>54.2   </td><td>6.0622 </td><td>3      </td><td>222    </td><td>18.7   </td><td>396.9  </td><td>5.33   </td><td>36.2   </td></tr>\n",
       "\t<tr><th scope=row>6</th><td>0.02985</td><td>0      </td><td>2.18   </td><td>0      </td><td>0.458  </td><td>6.43   </td><td>58.7   </td><td>6.0622 </td><td>3      </td><td>222    </td><td>18.7   </td><td>394.12 </td><td>5.21   </td><td>28.7   </td></tr>\n",
       "</tbody>\n",
       "</table>\n"
      ],
      "text/latex": [
       "\\begin{tabular}{r|llllllllllllll}\n",
       "  & crim & zn & indus & chas & nox & rm & age & dis & rad & tax & ptratio & b & lstat & medv\\\\\n",
       "\\hline\n",
       "\t1 & 0.00632 & 18      & 2.31    & 0       & 0.538   & 6.575   & 65.2    & 4.09    & 1       & 296     & 15.3    & 396.9   & 4.98    & 24     \\\\\n",
       "\t2 & 0.02731 & 0       & 7.07    & 0       & 0.469   & 6.421   & 78.9    & 4.9671  & 2       & 242     & 17.8    & 396.9   & 9.14    & 21.6   \\\\\n",
       "\t3 & 0.02729 & 0       & 7.07    & 0       & 0.469   & 7.185   & 61.1    & 4.9671  & 2       & 242     & 17.8    & 392.83  & 4.03    & 34.7   \\\\\n",
       "\t4 & 0.03237 & 0       & 2.18    & 0       & 0.458   & 6.998   & 45.8    & 6.0622  & 3       & 222     & 18.7    & 394.63  & 2.94    & 33.4   \\\\\n",
       "\t5 & 0.06905 & 0       & 2.18    & 0       & 0.458   & 7.147   & 54.2    & 6.0622  & 3       & 222     & 18.7    & 396.9   & 5.33    & 36.2   \\\\\n",
       "\t6 & 0.02985 & 0       & 2.18    & 0       & 0.458   & 6.43    & 58.7    & 6.0622  & 3       & 222     & 18.7    & 394.12  & 5.21    & 28.7   \\\\\n",
       "\\end{tabular}\n"
      ],
      "text/plain": [
       "     crim zn indus chas   nox    rm  age    dis rad tax ptratio      b lstat\n",
       "1 0.00632 18  2.31    0 0.538 6.575 65.2 4.0900   1 296    15.3 396.90  4.98\n",
       "2 0.02731  0  7.07    0 0.469 6.421 78.9 4.9671   2 242    17.8 396.90  9.14\n",
       "3 0.02729  0  7.07    0 0.469 7.185 61.1 4.9671   2 242    17.8 392.83  4.03\n",
       "4 0.03237  0  2.18    0 0.458 6.998 45.8 6.0622   3 222    18.7 394.63  2.94\n",
       "5 0.06905  0  2.18    0 0.458 7.147 54.2 6.0622   3 222    18.7 396.90  5.33\n",
       "6 0.02985  0  2.18    0 0.458 6.430 58.7 6.0622   3 222    18.7 394.12  5.21\n",
       "  medv\n",
       "1 24.0\n",
       "2 21.6\n",
       "3 34.7\n",
       "4 33.4\n",
       "5 36.2\n",
       "6 28.7"
      ]
     },
     "metadata": {},
     "output_type": "display_data"
    }
   ],
   "source": [
    "head(BostonHousing)"
   ]
  },
  {
   "cell_type": "markdown",
   "metadata": {},
   "source": [
    "    The original data are 506 observations on 14 variables, medv being the target variable:\n",
    "    crim\tper capita crime rate by town\n",
    "    zn\tproportion of residential land zoned for lots over 25,000 sq.ft\n",
    "    indus\tproportion of non-retail business acres per town\n",
    "    chas\tCharles River dummy variable (= 1 if tract bounds river; 0 otherwise)\n",
    "    nox\tnitric oxides concentration (parts per 10 million)\n",
    "    rm\taverage number of rooms per dwelling\n",
    "    age\tproportion of owner-occupied units built prior to 1940\n",
    "    dis\tweighted distances to five Boston employment centres\n",
    "    rad\tindex of accessibility to radial highways\n",
    "    tax\tfull-value property-tax rate per USD 10,000\n",
    "    ptratio\tpupil-teacher ratio by town\n",
    "    b\t1000(B - 0.63)^2 where B is the proportion of blacks by town\n",
    "    lstat\tpercentage of lower status of the population\n",
    "    medv\tmedian value of owner-occupied homes in USD 1000's\n",
    "    The corrected data set has the following additional columns:\n",
    "    cmedv\tcorrected median value of owner-occupied homes in USD 1000's\n",
    "    town\tname of town\n",
    "    tract\tcensus tract\n",
    "    lon\tlongitude of census tract\n",
    "    lat\tlatitude of census tract"
   ]
  },
  {
   "cell_type": "code",
   "execution_count": 14,
   "metadata": {
    "collapsed": true
   },
   "outputs": [],
   "source": [
    "aLm <- lm(medv ~ .,data=BostonHousing)"
   ]
  },
  {
   "cell_type": "code",
   "execution_count": 16,
   "metadata": {
    "collapsed": false
   },
   "outputs": [
    {
     "data": {
      "text/plain": [
       "\n",
       "Call:\n",
       "lm(formula = medv ~ ., data = BostonHousing)\n",
       "\n",
       "Residuals:\n",
       "    Min      1Q  Median      3Q     Max \n",
       "-15.595  -2.730  -0.518   1.777  26.199 \n",
       "\n",
       "Coefficients:\n",
       "              Estimate Std. Error t value Pr(>|t|)    \n",
       "(Intercept)  3.646e+01  5.103e+00   7.144 3.28e-12 ***\n",
       "crim        -1.080e-01  3.286e-02  -3.287 0.001087 ** \n",
       "zn           4.642e-02  1.373e-02   3.382 0.000778 ***\n",
       "indus        2.056e-02  6.150e-02   0.334 0.738288    \n",
       "chas1        2.687e+00  8.616e-01   3.118 0.001925 ** \n",
       "nox         -1.777e+01  3.820e+00  -4.651 4.25e-06 ***\n",
       "rm           3.810e+00  4.179e-01   9.116  < 2e-16 ***\n",
       "age          6.922e-04  1.321e-02   0.052 0.958229    \n",
       "dis         -1.476e+00  1.995e-01  -7.398 6.01e-13 ***\n",
       "rad          3.060e-01  6.635e-02   4.613 5.07e-06 ***\n",
       "tax         -1.233e-02  3.760e-03  -3.280 0.001112 ** \n",
       "ptratio     -9.527e-01  1.308e-01  -7.283 1.31e-12 ***\n",
       "b            9.312e-03  2.686e-03   3.467 0.000573 ***\n",
       "lstat       -5.248e-01  5.072e-02 -10.347  < 2e-16 ***\n",
       "---\n",
       "Signif. codes:  0 '***' 0.001 '**' 0.01 '*' 0.05 '.' 0.1 ' ' 1\n",
       "\n",
       "Residual standard error: 4.745 on 492 degrees of freedom\n",
       "Multiple R-squared:  0.7406,\tAdjusted R-squared:  0.7338 \n",
       "F-statistic: 108.1 on 13 and 492 DF,  p-value: < 2.2e-16\n"
      ]
     },
     "metadata": {},
     "output_type": "display_data"
    }
   ],
   "source": [
    "summary(aLm)"
   ]
  },
  {
   "cell_type": "markdown",
   "metadata": {},
   "source": [
    "## Step 함수\n",
    " - 독립변수를 넣고 빼면서 단계적으로 변수를 적용 => 최적화된 변수를 찾아 적용. \n",
    " - 빠진변수는 +로 표현 => 원래 빠졌었지만 포함 시켜봄. \n",
    " - 빼면서 적용시켜본것은 (-) "
   ]
  },
  {
   "cell_type": "code",
   "execution_count": 20,
   "metadata": {
    "collapsed": false
   },
   "outputs": [
    {
     "name": "stdout",
     "output_type": "stream",
     "text": [
      "Start:  AIC=1589.64\n",
      "medv ~ crim + zn + indus + chas + nox + rm + age + dis + rad + \n",
      "    tax + ptratio + b + lstat\n",
      "\n",
      "          Df Sum of Sq   RSS    AIC\n",
      "- age      1      0.06 11079 1587.7\n",
      "- indus    1      2.52 11081 1587.8\n",
      "<none>                 11079 1589.6\n",
      "- chas     1    218.97 11298 1597.5\n",
      "- tax      1    242.26 11321 1598.6\n",
      "- crim     1    243.22 11322 1598.6\n",
      "- zn       1    257.49 11336 1599.3\n",
      "- b        1    270.63 11349 1599.8\n",
      "- rad      1    479.15 11558 1609.1\n",
      "- nox      1    487.16 11566 1609.4\n",
      "- ptratio  1   1194.23 12273 1639.4\n",
      "- dis      1   1232.41 12311 1641.0\n",
      "- rm       1   1871.32 12950 1666.6\n",
      "- lstat    1   2410.84 13490 1687.3\n",
      "\n",
      "Step:  AIC=1587.65\n",
      "medv ~ crim + zn + indus + chas + nox + rm + dis + rad + tax + \n",
      "    ptratio + b + lstat\n",
      "\n",
      "          Df Sum of Sq   RSS    AIC\n",
      "- indus    1      2.52 11081 1585.8\n",
      "<none>                 11079 1587.7\n",
      "+ age      1      0.06 11079 1589.6\n",
      "- chas     1    219.91 11299 1595.6\n",
      "- tax      1    242.24 11321 1596.6\n",
      "- crim     1    243.20 11322 1596.6\n",
      "- zn       1    260.32 11339 1597.4\n",
      "- b        1    272.26 11351 1597.9\n",
      "- rad      1    481.09 11560 1607.2\n",
      "- nox      1    520.87 11600 1608.9\n",
      "- ptratio  1   1200.23 12279 1637.7\n",
      "- dis      1   1352.26 12431 1643.9\n",
      "- rm       1   1959.55 13038 1668.0\n",
      "- lstat    1   2718.88 13798 1696.7\n",
      "\n",
      "Step:  AIC=1585.76\n",
      "medv ~ crim + zn + chas + nox + rm + dis + rad + tax + ptratio + \n",
      "    b + lstat\n",
      "\n",
      "          Df Sum of Sq   RSS    AIC\n",
      "<none>                 11081 1585.8\n",
      "+ indus    1      2.52 11079 1587.7\n",
      "+ age      1      0.06 11081 1587.8\n",
      "- chas     1    227.21 11309 1594.0\n",
      "- crim     1    245.37 11327 1594.8\n",
      "- zn       1    257.82 11339 1595.4\n",
      "- b        1    270.82 11352 1596.0\n",
      "- tax      1    273.62 11355 1596.1\n",
      "- rad      1    500.92 11582 1606.1\n",
      "- nox      1    541.91 11623 1607.9\n",
      "- ptratio  1   1206.45 12288 1636.0\n",
      "- dis      1   1448.94 12530 1645.9\n",
      "- rm       1   1963.66 13045 1666.3\n",
      "- lstat    1   2723.48 13805 1695.0\n"
     ]
    }
   ],
   "source": [
    "m2 <- step(aLm,direction = \"both\")\n",
    "# AIC 가 높을 수록 영향도가 높다. "
   ]
  },
  {
   "cell_type": "code",
   "execution_count": 22,
   "metadata": {
    "collapsed": false
   },
   "outputs": [
    {
     "data": {
      "text/plain": [
       "medv ~ crim + zn + chas + nox + rm + dis + rad + tax + ptratio + \n",
       "    b + lstat"
      ]
     },
     "metadata": {},
     "output_type": "display_data"
    }
   ],
   "source": [
    "formula(m2)"
   ]
  },
  {
   "cell_type": "code",
   "execution_count": 24,
   "metadata": {
    "collapsed": false
   },
   "outputs": [
    {
     "data": {
      "text/plain": [
       "\n",
       "Call:\n",
       "lm(formula = medv ~ crim + zn + chas + nox + rm + dis + rad + \n",
       "    tax + ptratio + b + lstat, data = BostonHousing)\n",
       "\n",
       "Residuals:\n",
       "     Min       1Q   Median       3Q      Max \n",
       "-15.5984  -2.7386  -0.5046   1.7273  26.2373 \n",
       "\n",
       "Coefficients:\n",
       "              Estimate Std. Error t value Pr(>|t|)    \n",
       "(Intercept)  36.341145   5.067492   7.171 2.73e-12 ***\n",
       "crim         -0.108413   0.032779  -3.307 0.001010 ** \n",
       "zn            0.045845   0.013523   3.390 0.000754 ***\n",
       "chas1         2.718716   0.854240   3.183 0.001551 ** \n",
       "nox         -17.376023   3.535243  -4.915 1.21e-06 ***\n",
       "rm            3.801579   0.406316   9.356  < 2e-16 ***\n",
       "dis          -1.492711   0.185731  -8.037 6.84e-15 ***\n",
       "rad           0.299608   0.063402   4.726 3.00e-06 ***\n",
       "tax          -0.011778   0.003372  -3.493 0.000521 ***\n",
       "ptratio      -0.946525   0.129066  -7.334 9.24e-13 ***\n",
       "b             0.009291   0.002674   3.475 0.000557 ***\n",
       "lstat        -0.522553   0.047424 -11.019  < 2e-16 ***\n",
       "---\n",
       "Signif. codes:  0 '***' 0.001 '**' 0.01 '*' 0.05 '.' 0.1 ' ' 1\n",
       "\n",
       "Residual standard error: 4.736 on 494 degrees of freedom\n",
       "Multiple R-squared:  0.7406,\tAdjusted R-squared:  0.7348 \n",
       "F-statistic: 128.2 on 11 and 494 DF,  p-value: < 2.2e-16\n"
      ]
     },
     "metadata": {},
     "output_type": "display_data"
    }
   ],
   "source": [
    "summary(m2)"
   ]
  },
  {
   "cell_type": "code",
   "execution_count": 25,
   "metadata": {
    "collapsed": false
   },
   "outputs": [
    {
     "name": "stderr",
     "output_type": "stream",
     "text": [
      "Installing package into 'C:/Users/byung/Documents/R/win-library/3.3'\n",
      "(as 'lib' is unspecified)\n"
     ]
    },
    {
     "name": "stdout",
     "output_type": "stream",
     "text": [
      "package 'leaps' successfully unpacked and MD5 sums checked\n",
      "\n",
      "The downloaded binary packages are in\n",
      "\tC:\\Users\\byung\\AppData\\Local\\Temp\\RtmpgthkQ6\\downloaded_packages\n"
     ]
    }
   ],
   "source": [
    "install.packages(\"leaps\", repos = \"http://cran.us.r-project.org\")"
   ]
  },
  {
   "cell_type": "code",
   "execution_count": 27,
   "metadata": {
    "collapsed": true
   },
   "outputs": [],
   "source": [
    "library(leaps)"
   ]
  },
  {
   "cell_type": "code",
   "execution_count": 28,
   "metadata": {
    "collapsed": false
   },
   "outputs": [
    {
     "data": {
      "text/plain": [
       "Subset selection object\n",
       "Call: regsubsets.formula(medv ~ ., data = BostonHousing)\n",
       "13 Variables  (and intercept)\n",
       "        Forced in Forced out\n",
       "crim        FALSE      FALSE\n",
       "zn          FALSE      FALSE\n",
       "indus       FALSE      FALSE\n",
       "chas1       FALSE      FALSE\n",
       "nox         FALSE      FALSE\n",
       "rm          FALSE      FALSE\n",
       "age         FALSE      FALSE\n",
       "dis         FALSE      FALSE\n",
       "rad         FALSE      FALSE\n",
       "tax         FALSE      FALSE\n",
       "ptratio     FALSE      FALSE\n",
       "b           FALSE      FALSE\n",
       "lstat       FALSE      FALSE\n",
       "1 subsets of each size up to 8\n",
       "Selection Algorithm: exhaustive\n",
       "         crim zn  indus chas1 nox rm  age dis rad tax ptratio b   lstat\n",
       "1  ( 1 ) \" \"  \" \" \" \"   \" \"   \" \" \" \" \" \" \" \" \" \" \" \" \" \"     \" \" \"*\"  \n",
       "2  ( 1 ) \" \"  \" \" \" \"   \" \"   \" \" \"*\" \" \" \" \" \" \" \" \" \" \"     \" \" \"*\"  \n",
       "3  ( 1 ) \" \"  \" \" \" \"   \" \"   \" \" \"*\" \" \" \" \" \" \" \" \" \"*\"     \" \" \"*\"  \n",
       "4  ( 1 ) \" \"  \" \" \" \"   \" \"   \" \" \"*\" \" \" \"*\" \" \" \" \" \"*\"     \" \" \"*\"  \n",
       "5  ( 1 ) \" \"  \" \" \" \"   \" \"   \"*\" \"*\" \" \" \"*\" \" \" \" \" \"*\"     \" \" \"*\"  \n",
       "6  ( 1 ) \" \"  \" \" \" \"   \"*\"   \"*\" \"*\" \" \" \"*\" \" \" \" \" \"*\"     \" \" \"*\"  \n",
       "7  ( 1 ) \" \"  \" \" \" \"   \"*\"   \"*\" \"*\" \" \" \"*\" \" \" \" \" \"*\"     \"*\" \"*\"  \n",
       "8  ( 1 ) \" \"  \"*\" \" \"   \"*\"   \"*\" \"*\" \" \" \"*\" \" \" \" \" \"*\"     \"*\" \"*\"  "
      ]
     },
     "metadata": {},
     "output_type": "display_data"
    }
   ],
   "source": [
    "m <- regsubsets(medv ~ . , data=BostonHousing)\n",
    "summary(m) # *가 많을 수록 영향을 많이 준다. (변수가 적을때 사용.)"
   ]
  }
 ],
 "metadata": {
  "kernelspec": {
   "display_name": "R 3.3",
   "language": "R",
   "name": "ir33"
  },
  "language_info": {
   "codemirror_mode": "r",
   "file_extension": ".r",
   "mimetype": "text/x-r-source",
   "name": "R",
   "pygments_lexer": "r",
   "version": "3.3.1"
  }
 },
 "nbformat": 4,
 "nbformat_minor": 0
}
