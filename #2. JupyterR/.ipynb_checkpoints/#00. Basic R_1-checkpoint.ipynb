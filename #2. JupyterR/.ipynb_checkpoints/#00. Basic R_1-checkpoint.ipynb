{
 "cells": [
  {
   "cell_type": "markdown",
   "metadata": {},
   "source": [
    "# Basic R Programming \n",
    " - R 프로그래밍을 위한 기초 강의 \n",
    " - R문법\n",
    " - 기초 통계\n",
    " - 고급 통계 \n",
    " - 시각화 \n",
    " - 고급시각화 \n",
    " - 자료는 알까기2, 가지고 있는 자료, SDS 멀티캠퍼스 자료를 바탕으로 제작 "
   ]
  },
  {
   "cell_type": "markdown",
   "metadata": {},
   "source": [
    "## 기초 \n",
    " - R은 기본적으로 객체 지향 언어이다.\n",
    " - 변수부터 함수 등 모든 것들이 객체로 구성되어있다. 즉, 메모리에서 할당되어 사용된다. \n",
    " - 메모리 기반의 언어이다. 메모리가 클 수록 많은 양의 데이터를 입력하여 연산이 가능하다. "
   ]
  },
  {
   "cell_type": "markdown",
   "metadata": {},
   "source": [
    "## 변수\n",
    " - 데이터를 담는 그릇. \n",
    " - 데이터를 저장해놓지 않는다면 긴 프로그램 또는 자주 활용되는 값들을 담아두고 필요할때마다 변형 또는 그대로 사용 "
   ]
  },
  {
   "cell_type": "code",
   "execution_count": 3,
   "metadata": {
    "collapsed": false
   },
   "outputs": [
    {
     "name": "stdout",
     "output_type": "stream",
     "text": [
      "[1] \"2016-05-02\"\n",
      "[1] 3\n"
     ]
    }
   ],
   "source": [
    "Date <- \"2016-05-02\"\n",
    "a <- 1\n",
    "b <- 2\n",
    "c = a + b\n",
    "print(Date)\n",
    "print(c)"
   ]
  },
  {
   "cell_type": "markdown",
   "metadata": {},
   "source": [
    "## 데이터 타입. \n",
    " - 벡터 : 모든 데이터 타입의 기본이 된다. 벡터의 집합 형태에 따라 다양한 이름으로 존재한다. 기억하라 모든 기초는 벡터다 \n",
    " - 스칼라 : 벡터가 1개가 존재할 경우 \n",
    " - numeric(integer, float), chr, boolean, factor 등이 존재한다. \n",
    " - 위와 같은 데이터 타입의 집합 모양에 따라 다양한 집합 Type이 있다.\n",
    " - List \n",
    "  - 다양한 타입의 백터의 집합. \n",
    " - Array \n",
    "  - 다양한 차원의 행렬 집합이며, 같은 데이터 타입만 가능.\n",
    " - Matrix\n",
    "  - 2차원 배열을 기본으로 한다. 같은 데이터 타입만 가능.\n",
    " - DataFrame \n",
    "  - 벡터의 집합을 Matrix와 같은 2차원 배열로 가지고 있으며 각 열은 같은 데이터 타입만 가질 수 있다. 행별로는 다르게 가능하다.\n",
    "  - 가장 많이 사용하는 데이터 타입이다. "
   ]
  },
  {
   "cell_type": "code",
   "execution_count": 14,
   "metadata": {
    "collapsed": false
   },
   "outputs": [
    {
     "name": "stdout",
     "output_type": "stream",
     "text": [
      "[1] 5 3 5 7\n",
      "[1] \"numeric\" \"vector\" \n",
      "[1] \"integer\"             \"numeric\"             \"vector\"             \n",
      "[4] \"data.frameRowLabels\"\n",
      "[1] \"안\" \"녕\"\n",
      "[1]  TRUE  TRUE FALSE\n"
     ]
    }
   ],
   "source": [
    "a1 <- c(5,3,5,7)\n",
    "print(a1)\n",
    "print(is(a1))\n",
    "a1 <- as.integer(a1)\n",
    "print(is(a1))\n",
    "c1 <- c(\"안\",\"녕\")\n",
    "print(c1)\n",
    "b1 <- c(T,T,F)\n",
    "print(b1)"
   ]
  },
  {
   "cell_type": "code",
   "execution_count": 13,
   "metadata": {
    "collapsed": false
   },
   "outputs": [
    {
     "data": {
      "text/plain": [
       "tmp\n",
       "남 여 \n",
       "10 10 "
      ]
     },
     "metadata": {},
     "output_type": "display_data"
    }
   ],
   "source": [
    "a <- c(\"남\",\"여\")\n",
    "tmp <- as.factor(rep(a,10))\n",
    "tmp <- factor(tmp,ordered = T)\n",
    "table(tmp)"
   ]
  },
  {
   "cell_type": "markdown",
   "metadata": {},
   "source": [
    "## Dataframe\n",
    " - DF[[index]] => 데이터 고유로 출력 즉, vertor로 출력. \n",
    " - DF[index] => Dataframe형태로 출력\n",
    " - 기본적인 DB의 구조와 동일하다. Row Colum 구조, \n",
    "  - Row : 데이터 Depth \n",
    "  - Colum : 속성 즉, 해당 컬럼이 가지는 특성을 대변 "
   ]
  },
  {
   "cell_type": "code",
   "execution_count": 24,
   "metadata": {
    "collapsed": false
   },
   "outputs": [
    {
     "data": {
      "text/html": [
       "<table>\n",
       "<thead><tr><th></th><th scope=col>height</th></tr></thead>\n",
       "<tbody>\n",
       "\t<tr><th scope=row>1</th><td>165.3</td></tr>\n",
       "\t<tr><th scope=row>2</th><td>170.1</td></tr>\n",
       "\t<tr><th scope=row>3</th><td>175</td></tr>\n",
       "\t<tr><th scope=row>4</th><td>182.1</td></tr>\n",
       "\t<tr><th scope=row>5</th><td>168</td></tr>\n",
       "\t<tr><th scope=row>6</th><td>162</td></tr>\n",
       "</tbody>\n",
       "</table>\n"
      ],
      "text/latex": [
       "\\begin{tabular}{r|l}\n",
       "  & height\\\\\n",
       "\\hline\n",
       "\t1 & 165.3\\\\\n",
       "\t2 & 170.1\\\\\n",
       "\t3 & 175\\\\\n",
       "\t4 & 182.1\\\\\n",
       "\t5 & 168\\\\\n",
       "\t6 & 162\\\\\n",
       "\\end{tabular}\n"
      ],
      "text/plain": [
       "  height\n",
       "1  165.3\n",
       "2  170.1\n",
       "3  175.0\n",
       "4  182.1\n",
       "5  168.0\n",
       "6  162.0"
      ]
     },
     "metadata": {},
     "output_type": "display_data"
    },
    {
     "name": "stdout",
     "output_type": "stream",
     "text": [
      "'data.frame':\t17 obs. of  1 variable:\n",
      " $ height: num  165 170 175 182 168 ...\n"
     ]
    },
    {
     "data": {
      "text/html": [
       "<ol class=list-inline>\n",
       "\t<li>165.3</li>\n",
       "\t<li>170.1</li>\n",
       "\t<li>175</li>\n",
       "\t<li>182.1</li>\n",
       "\t<li>168</li>\n",
       "\t<li>162</li>\n",
       "\t<li>155.2</li>\n",
       "\t<li>176.9</li>\n",
       "\t<li>178.5</li>\n",
       "\t<li>176.1</li>\n",
       "\t<li>167.1</li>\n",
       "\t<li>180</li>\n",
       "\t<li>162.2</li>\n",
       "\t<li>176.1</li>\n",
       "\t<li>158.2</li>\n",
       "\t<li>168.6</li>\n",
       "\t<li>169.2</li>\n",
       "</ol>\n"
      ],
      "text/latex": [
       "\\begin{enumerate*}\n",
       "\\item 165.3\n",
       "\\item 170.1\n",
       "\\item 175\n",
       "\\item 182.1\n",
       "\\item 168\n",
       "\\item 162\n",
       "\\item 155.2\n",
       "\\item 176.9\n",
       "\\item 178.5\n",
       "\\item 176.1\n",
       "\\item 167.1\n",
       "\\item 180\n",
       "\\item 162.2\n",
       "\\item 176.1\n",
       "\\item 158.2\n",
       "\\item 168.6\n",
       "\\item 169.2\n",
       "\\end{enumerate*}\n"
      ],
      "text/markdown": [
       "1. 165.3\n",
       "2. 170.1\n",
       "3. 175\n",
       "4. 182.1\n",
       "5. 168\n",
       "6. 162\n",
       "7. 155.2\n",
       "8. 176.9\n",
       "9. 178.5\n",
       "10. 176.1\n",
       "11. 167.1\n",
       "12. 180\n",
       "13. 162.2\n",
       "14. 176.1\n",
       "15. 158.2\n",
       "16. 168.6\n",
       "17. 169.2\n",
       "\n",
       "\n"
      ],
      "text/plain": [
       " [1] 165.3 170.1 175.0 182.1 168.0 162.0 155.2 176.9 178.5 176.1 167.1 180.0\n",
       "[13] 162.2 176.1 158.2 168.6 169.2"
      ]
     },
     "metadata": {},
     "output_type": "display_data"
    },
    {
     "name": "stdout",
     "output_type": "stream",
     "text": [
      " num [1:17] 165 170 175 182 168 ...\n"
     ]
    }
   ],
   "source": [
    "head(DF[7]) #DataFrame으로 출력.\n",
    "str(DF[7])\n",
    "DF[[7]]  #VECTOR 형태로 추출.\n",
    "str(DF[[7]])"
   ]
  },
  {
   "cell_type": "code",
   "execution_count": 28,
   "metadata": {
    "collapsed": false
   },
   "outputs": [
    {
     "data": {
      "text/html": [
       "<table>\n",
       "<thead><tr><th></th><th scope=col>bloodtype</th><th scope=col>height</th></tr></thead>\n",
       "<tbody>\n",
       "\t<tr><th scope=row>1</th><td>O    </td><td>165.3</td></tr>\n",
       "\t<tr><th scope=row>2</th><td>AB   </td><td>170.1</td></tr>\n",
       "\t<tr><th scope=row>3</th><td>B  </td><td>175</td></tr>\n",
       "</tbody>\n",
       "</table>\n"
      ],
      "text/latex": [
       "\\begin{tabular}{r|ll}\n",
       "  & bloodtype & height\\\\\n",
       "\\hline\n",
       "\t1 & O     & 165.3\\\\\n",
       "\t2 & AB    & 170.1\\\\\n",
       "\t3 & B   & 175\\\\\n",
       "\\end{tabular}\n"
      ],
      "text/plain": [
       "  bloodtype height\n",
       "1         O  165.3\n",
       "2        AB  170.1\n",
       "3         B  175.0"
      ]
     },
     "metadata": {},
     "output_type": "display_data"
    },
    {
     "data": {
      "text/html": [
       "<ol class=list-inline>\n",
       "\t<li>165.3</li>\n",
       "\t<li>170.1</li>\n",
       "\t<li>175</li>\n",
       "</ol>\n"
      ],
      "text/latex": [
       "\\begin{enumerate*}\n",
       "\\item 165.3\n",
       "\\item 170.1\n",
       "\\item 175\n",
       "\\end{enumerate*}\n"
      ],
      "text/markdown": [
       "1. 165.3\n",
       "2. 170.1\n",
       "3. 175\n",
       "\n",
       "\n"
      ],
      "text/plain": [
       "[1] 165.3 170.1 175.0"
      ]
     },
     "metadata": {},
     "output_type": "display_data"
    },
    {
     "data": {
      "text/html": [
       "<table>\n",
       "<thead><tr><th></th><th scope=col>bloodtype</th><th scope=col>height</th></tr></thead>\n",
       "<tbody>\n",
       "\t<tr><th scope=row>1</th><td>O    </td><td>165.3</td></tr>\n",
       "\t<tr><th scope=row>2</th><td>AB   </td><td>170.1</td></tr>\n",
       "\t<tr><th scope=row>3</th><td>B  </td><td>175</td></tr>\n",
       "</tbody>\n",
       "</table>\n"
      ],
      "text/latex": [
       "\\begin{tabular}{r|ll}\n",
       "  & bloodtype & height\\\\\n",
       "\\hline\n",
       "\t1 & O     & 165.3\\\\\n",
       "\t2 & AB    & 170.1\\\\\n",
       "\t3 & B   & 175\\\\\n",
       "\\end{tabular}\n"
      ],
      "text/plain": [
       "  bloodtype height\n",
       "1         O  165.3\n",
       "2        AB  170.1\n",
       "3         B  175.0"
      ]
     },
     "metadata": {},
     "output_type": "display_data"
    }
   ],
   "source": [
    "head(DF[c(6,7)],3)\n",
    "head(DF[,7],3)  # 하나의 Colum을 지정하면 Vector 형태로 추출. \n",
    "head(DF[,c(6,7)],3)"
   ]
  },
  {
   "cell_type": "code",
   "execution_count": 29,
   "metadata": {
    "collapsed": false
   },
   "outputs": [
    {
     "data": {
      "text/html": [
       "\"data.frame\""
      ],
      "text/latex": [
       "\"data.frame\""
      ],
      "text/markdown": [
       "\"data.frame\""
      ],
      "text/plain": [
       "[1] \"data.frame\""
      ]
     },
     "metadata": {},
     "output_type": "display_data"
    },
    {
     "data": {
      "text/html": [
       "\"numeric\""
      ],
      "text/latex": [
       "\"numeric\""
      ],
      "text/markdown": [
       "\"numeric\""
      ],
      "text/plain": [
       "[1] \"numeric\""
      ]
     },
     "metadata": {},
     "output_type": "display_data"
    },
    {
     "data": {
      "text/html": [
       "\"data.frame\""
      ],
      "text/latex": [
       "\"data.frame\""
      ],
      "text/markdown": [
       "\"data.frame\""
      ],
      "text/plain": [
       "[1] \"data.frame\""
      ]
     },
     "metadata": {},
     "output_type": "display_data"
    }
   ],
   "source": [
    "class(DF[,c(6,7)])\n",
    "class(DF[,7])\n",
    "class(DF[c(6,7)])"
   ]
  },
  {
   "cell_type": "markdown",
   "metadata": {},
   "source": [
    "### subset \n",
    " - DataFrame 정보를 조건에 맞춰서 자를때 사용. 즉, 필요 데이터만 뽑을 때 사용한다. \n",
    " - subset(DF, subset = 조건, select = c(컬럼명s)) "
   ]
  },
  {
   "cell_type": "code",
   "execution_count": 34,
   "metadata": {
    "collapsed": false
   },
   "outputs": [
    {
     "data": {
      "text/html": [
       "<table>\n",
       "<thead><tr><th></th><th scope=col>name</th><th scope=col>sex</th><th scope=col>age</th><th scope=col>grade</th><th scope=col>absence</th><th scope=col>bloodtype</th><th scope=col>height</th><th scope=col>weight</th></tr></thead>\n",
       "<tbody>\n",
       "\t<tr><th scope=row>2</th><td>이미린</td><td>여자  </td><td>22    </td><td>2     </td><td>무    </td><td>AB    </td><td>170.1 </td><td>53    </td></tr>\n",
       "\t<tr><th scope=row>3</th><td>홍길동</td><td>남자  </td><td>24    </td><td>4     </td><td>무    </td><td>B     </td><td>175   </td><td>80.1  </td></tr>\n",
       "\t<tr><th scope=row>4</th><td>김철수</td><td>남자  </td><td>23    </td><td>3     </td><td>무    </td><td>AB    </td><td>182.1 </td><td>85.7  </td></tr>\n",
       "</tbody>\n",
       "</table>\n"
      ],
      "text/latex": [
       "\\begin{tabular}{r|llllllll}\n",
       "  & name & sex & age & grade & absence & bloodtype & height & weight\\\\\n",
       "\\hline\n",
       "\t2 & 이미린 & 여자   & 22     & 2      & 무     & AB     & 170.1  & 53    \\\\\n",
       "\t3 & 홍길동 & 남자   & 24     & 4      & 무     & B      & 175    & 80.1  \\\\\n",
       "\t4 & 김철수 & 남자   & 23     & 3      & 무     & AB     & 182.1  & 85.7  \\\\\n",
       "\\end{tabular}\n"
      ],
      "text/plain": [
       "    name  sex age grade absence bloodtype height weight\n",
       "2 이미린 여자  22     2      무        AB  170.1   53.0\n",
       "3 홍길동 남자  24     4      무         B  175.0   80.1\n",
       "4 김철수 남자  23     3      무        AB  182.1   85.7"
      ]
     },
     "metadata": {},
     "output_type": "display_data"
    }
   ],
   "source": [
    "DF2 <- subset(DF,subset = (height > 170))\n",
    "head(DF2,3)"
   ]
  },
  {
   "cell_type": "code",
   "execution_count": 36,
   "metadata": {
    "collapsed": false
   },
   "outputs": [
    {
     "data": {
      "text/html": [
       "<table>\n",
       "<thead><tr><th></th><th scope=col>name</th><th scope=col>height</th></tr></thead>\n",
       "<tbody>\n",
       "\t<tr><th scope=row>2</th><td>이미린</td><td>170.1 </td></tr>\n",
       "\t<tr><th scope=row>3</th><td>홍길동</td><td>175   </td></tr>\n",
       "\t<tr><th scope=row>4</th><td>김철수</td><td>182.1 </td></tr>\n",
       "</tbody>\n",
       "</table>\n"
      ],
      "text/latex": [
       "\\begin{tabular}{r|ll}\n",
       "  & name & height\\\\\n",
       "\\hline\n",
       "\t2 & 이미린 & 170.1 \\\\\n",
       "\t3 & 홍길동 & 175   \\\\\n",
       "\t4 & 김철수 & 182.1 \\\\\n",
       "\\end{tabular}\n"
      ],
      "text/plain": [
       "    name height\n",
       "2 이미린  170.1\n",
       "3 홍길동  175.0\n",
       "4 김철수  182.1"
      ]
     },
     "metadata": {},
     "output_type": "display_data"
    }
   ],
   "source": [
    "DF4 <- subset(DF,select = c(name,height),subset = (height>170))  #name과 height를 subset(기준)으로 만든다. \n",
    "head(DF4,3)"
   ]
  },
  {
   "cell_type": "code",
   "execution_count": 37,
   "metadata": {
    "collapsed": false
   },
   "outputs": [
    {
     "data": {
      "text/html": [
       "<table>\n",
       "<thead><tr><th></th><th scope=col>name</th><th scope=col>height</th></tr></thead>\n",
       "<tbody>\n",
       "\t<tr><th scope=row>2</th><td>이미린</td><td>170.1 </td></tr>\n",
       "\t<tr><th scope=row>3</th><td>홍길동</td><td>175   </td></tr>\n",
       "\t<tr><th scope=row>4</th><td>김철수</td><td>182.1 </td></tr>\n",
       "</tbody>\n",
       "</table>\n"
      ],
      "text/latex": [
       "\\begin{tabular}{r|ll}\n",
       "  & name & height\\\\\n",
       "\\hline\n",
       "\t2 & 이미린 & 170.1 \\\\\n",
       "\t3 & 홍길동 & 175   \\\\\n",
       "\t4 & 김철수 & 182.1 \\\\\n",
       "\\end{tabular}\n"
      ],
      "text/plain": [
       "    name height\n",
       "2 이미린  170.1\n",
       "3 홍길동  175.0\n",
       "4 김철수  182.1"
      ]
     },
     "metadata": {},
     "output_type": "display_data"
    }
   ],
   "source": [
    "DF3 <- DF[DF$height>170,c(1,7)]\n",
    "head(DF3,3)"
   ]
  },
  {
   "cell_type": "code",
   "execution_count": 23,
   "metadata": {
    "collapsed": false
   },
   "outputs": [
    {
     "data": {
      "text/html": [
       "<table>\n",
       "<thead><tr><th></th><th scope=col>name</th><th scope=col>sex</th><th scope=col>age</th><th scope=col>grade</th><th scope=col>absence</th><th scope=col>bloodtype</th><th scope=col>height</th><th scope=col>weight</th></tr></thead>\n",
       "<tbody>\n",
       "\t<tr><th scope=row>1</th><td>김길동</td><td>남자  </td><td>23    </td><td>3     </td><td>유    </td><td>O     </td><td>165.3 </td><td>68.2  </td></tr>\n",
       "\t<tr><th scope=row>2</th><td>이미린</td><td>여자  </td><td>22    </td><td>2     </td><td>무    </td><td>AB    </td><td>170.1 </td><td>53    </td></tr>\n",
       "\t<tr><th scope=row>3</th><td>홍길동</td><td>남자  </td><td>24    </td><td>4     </td><td>무    </td><td>B     </td><td>175   </td><td>80.1  </td></tr>\n",
       "\t<tr><th scope=row>4</th><td>김철수</td><td>남자  </td><td>23    </td><td>3     </td><td>무    </td><td>AB    </td><td>182.1 </td><td>85.7  </td></tr>\n",
       "\t<tr><th scope=row>5</th><td>손세수</td><td>여자  </td><td>20    </td><td>1     </td><td>유    </td><td>A     </td><td>168   </td><td>49.5  </td></tr>\n",
       "\t<tr><th scope=row>6</th><td>박미희</td><td>여자  </td><td>21    </td><td>2     </td><td>무    </td><td>O     </td><td>162   </td><td>52    </td></tr>\n",
       "</tbody>\n",
       "</table>\n"
      ],
      "text/latex": [
       "\\begin{tabular}{r|llllllll}\n",
       "  & name & sex & age & grade & absence & bloodtype & height & weight\\\\\n",
       "\\hline\n",
       "\t1 & 김길동 & 남자   & 23     & 3      & 유     & O      & 165.3  & 68.2  \\\\\n",
       "\t2 & 이미린 & 여자   & 22     & 2      & 무     & AB     & 170.1  & 53    \\\\\n",
       "\t3 & 홍길동 & 남자   & 24     & 4      & 무     & B      & 175    & 80.1  \\\\\n",
       "\t4 & 김철수 & 남자   & 23     & 3      & 무     & AB     & 182.1  & 85.7  \\\\\n",
       "\t5 & 손세수 & 여자   & 20     & 1      & 유     & A      & 168    & 49.5  \\\\\n",
       "\t6 & 박미희 & 여자   & 21     & 2      & 무     & O      & 162    & 52    \\\\\n",
       "\\end{tabular}\n"
      ],
      "text/plain": [
       "    name  sex age grade absence bloodtype height weight\n",
       "1 김길동 남자  23     3      유         O  165.3   68.2\n",
       "2 이미린 여자  22     2      무        AB  170.1   53.0\n",
       "3 홍길동 남자  24     4      무         B  175.0   80.1\n",
       "4 김철수 남자  23     3      무        AB  182.1   85.7\n",
       "5 손세수 여자  20     1      유         A  168.0   49.5\n",
       "6 박미희 여자  21     2      무         O  162.0   52.0"
      ]
     },
     "metadata": {},
     "output_type": "display_data"
    },
    {
     "name": "stdout",
     "output_type": "stream",
     "text": [
      "[1] \"is it vector? TRUE\"\n",
      "'data.frame':\t17 obs. of  8 variables:\n",
      " $ name     : chr  \"김길동\" \"이미린\" \"홍길동\" \"김철수\" ...\n",
      " $ sex      : chr  \"남자\" \"여자\" \"남자\" \"남자\" ...\n",
      " $ age      : int  23 22 24 23 20 21 22 23 23 22 ...\n",
      " $ grade    : int  3 2 4 3 1 2 1 1 3 2 ...\n",
      " $ absence  : chr  \"유\" \"무\" \"무\" \"무\" ...\n",
      " $ bloodtype: chr  \"O\" \"AB\" \"B\" \"AB\" ...\n",
      " $ height   : num  165 170 175 182 168 ...\n",
      " $ weight   : num  68.2 53 80.1 85.7 49.5 52 45.3 55 64.2 61.3 ...\n"
     ]
    }
   ],
   "source": [
    "DF <- read.csv(\"data/example_studentlist.csv\", stringsAsFactors = F)\n",
    "head(DF)\n",
    "print(paste0(\"is it vector? \",is.vector(DF$height)))\n",
    "str(DF)"
   ]
  },
  {
   "cell_type": "markdown",
   "metadata": {},
   "source": [
    "### cbind , rbind \n",
    " - cbind : colum bind \n",
    "  - 컬럼(열)의 내용을 추가 \n",
    "  - 새로운 속성을 각 로우에 맞도록 삽입.\n",
    " - rbind : row bind\n",
    "  - Row(행) 데이터를 추가\n",
    "  - 새로운 데이터를 그냥 입력 ( 속성유지 ) "
   ]
  },
  {
   "cell_type": "code",
   "execution_count": 38,
   "metadata": {
    "collapsed": true
   },
   "outputs": [],
   "source": [
    "BMI = DF$weight/DF$height^2\n",
    "DF <- cbind(DF,BMI)  "
   ]
  },
  {
   "cell_type": "code",
   "execution_count": 40,
   "metadata": {
    "collapsed": false
   },
   "outputs": [
    {
     "data": {
      "text/html": [
       "<table>\n",
       "<thead><tr><th></th><th scope=col>name</th><th scope=col>sex</th><th scope=col>age</th><th scope=col>grade</th><th scope=col>absence</th><th scope=col>bloodtype</th><th scope=col>height</th><th scope=col>weight</th><th scope=col>BMI</th></tr></thead>\n",
       "<tbody>\n",
       "\t<tr><th scope=row>1</th><td>김길동             </td><td>남자               </td><td>23                 </td><td>3                  </td><td>유                 </td><td>O                  </td><td>165.3              </td><td>68.2               </td><td>0.00249596601387274</td></tr>\n",
       "\t<tr><th scope=row>2</th><td>이미린             </td><td>여자               </td><td>22                 </td><td>2                  </td><td>무                 </td><td>AB                 </td><td>170.1              </td><td>53                 </td><td>0.00183175439560572</td></tr>\n",
       "\t<tr><th scope=row>3</th><td>홍길동             </td><td>남자               </td><td>24                 </td><td>4                  </td><td>무                 </td><td>B                  </td><td>175                </td><td>80.1               </td><td>0.00261551020408163</td></tr>\n",
       "</tbody>\n",
       "</table>\n"
      ],
      "text/latex": [
       "\\begin{tabular}{r|lllllllll}\n",
       "  & name & sex & age & grade & absence & bloodtype & height & weight & BMI\\\\\n",
       "\\hline\n",
       "\t1 & 김길동              & 남자                & 23                  & 3                   & 유                  & O                   & 165.3               & 68.2                & 0.00249596601387274\\\\\n",
       "\t2 & 이미린              & 여자                & 22                  & 2                   & 무                  & AB                  & 170.1               & 53                  & 0.00183175439560572\\\\\n",
       "\t3 & 홍길동              & 남자                & 24                  & 4                   & 무                  & B                   & 175                 & 80.1                & 0.00261551020408163\\\\\n",
       "\\end{tabular}\n"
      ],
      "text/plain": [
       "    name  sex age grade absence bloodtype height weight         BMI\n",
       "1 김길동 남자  23     3      유         O  165.3   68.2 0.002495966\n",
       "2 이미린 여자  22     2      무        AB  170.1   53.0 0.001831754\n",
       "3 홍길동 남자  24     4      무         B  175.0   80.1 0.002615510"
      ]
     },
     "metadata": {},
     "output_type": "display_data"
    }
   ],
   "source": [
    "head(DF,3)"
   ]
  },
  {
   "cell_type": "code",
   "execution_count": 41,
   "metadata": {
    "collapsed": false
   },
   "outputs": [
    {
     "data": {
      "text/html": [
       "<table>\n",
       "<thead><tr><th></th><th scope=col>name</th><th scope=col>sex</th><th scope=col>age</th><th scope=col>grade</th><th scope=col>absence</th><th scope=col>bloodtype</th><th scope=col>height</th><th scope=col>weight</th><th scope=col>BMI</th><th scope=col>name</th><th scope=col>footsize</th></tr></thead>\n",
       "<tbody>\n",
       "\t<tr><th scope=row>1</th><td>김길동             </td><td>남자               </td><td>23                 </td><td>3                  </td><td>유                 </td><td>O                  </td><td>165.3              </td><td>68.2               </td><td>0.00249596601387274</td><td>강수친             </td><td>245                </td></tr>\n",
       "\t<tr><th scope=row>2</th><td>이미린             </td><td>여자               </td><td>22                 </td><td>2                  </td><td>무                 </td><td>AB                 </td><td>170.1              </td><td>53                 </td><td>0.00183175439560572</td><td>김길동             </td><td>270                </td></tr>\n",
       "\t<tr><th scope=row>3</th><td>홍길동             </td><td>남자               </td><td>24                 </td><td>4                  </td><td>무                 </td><td>B                  </td><td>175                </td><td>80.1               </td><td>0.00261551020408163</td><td>김동수             </td><td>265                </td></tr>\n",
       "</tbody>\n",
       "</table>\n"
      ],
      "text/latex": [
       "\\begin{tabular}{r|lllllllllll}\n",
       "  & name & sex & age & grade & absence & bloodtype & height & weight & BMI & name & footsize\\\\\n",
       "\\hline\n",
       "\t1 & 김길동              & 남자                & 23                  & 3                   & 유                  & O                   & 165.3               & 68.2                & 0.00249596601387274 & 강수친              & 245                \\\\\n",
       "\t2 & 이미린              & 여자                & 22                  & 2                   & 무                  & AB                  & 170.1               & 53                  & 0.00183175439560572 & 김길동              & 270                \\\\\n",
       "\t3 & 홍길동              & 남자                & 24                  & 4                   & 무                  & B                   & 175                 & 80.1                & 0.00261551020408163 & 김동수              & 265                \\\\\n",
       "\\end{tabular}\n"
      ],
      "text/plain": [
       "    name  sex age grade absence bloodtype height weight         BMI   name\n",
       "1 김길동 남자  23     3      유         O  165.3   68.2 0.002495966 강수친\n",
       "2 이미린 여자  22     2      무        AB  170.1   53.0 0.001831754 김길동\n",
       "3 홍길동 남자  24     4      무         B  175.0   80.1 0.002615510 김동수\n",
       "  footsize\n",
       "1      245\n",
       "2      270\n",
       "3      265"
      ]
     },
     "metadata": {},
     "output_type": "display_data"
    }
   ],
   "source": [
    "Omit <- read.csv(\"data/omit.csv\")  # 외부 파일 불러오기.\n",
    "DFTemp <- cbind(DF,Omit)  #합치는 거일뿐\n",
    "head(DFTemp,3)"
   ]
  },
  {
   "cell_type": "markdown",
   "metadata": {},
   "source": [
    " ### Merge \n",
    "  - Dataframe 의 내용을 조건에 맞는 컬럼을 매칭시켜 데이터를 cbind 하는 것.\n",
    "  - cbind와 차이\n",
    "   - cbind는 그냥 index에 맞도록 데이터를 붙이는 것\n",
    "   - Merge는 매칭시킬 조건을 제시하여 속성의 Value가 맞는 것을 찾아 해당 컬럼을 기준으로 Join(SQL)"
   ]
  },
  {
   "cell_type": "code",
   "execution_count": 42,
   "metadata": {
    "collapsed": false
   },
   "outputs": [
    {
     "data": {
      "text/html": [
       "<table>\n",
       "<thead><tr><th></th><th scope=col>name</th><th scope=col>sex</th><th scope=col>age</th><th scope=col>grade</th><th scope=col>absence</th><th scope=col>bloodtype</th><th scope=col>height</th><th scope=col>weight</th><th scope=col>BMI</th><th scope=col>footsize</th></tr></thead>\n",
       "<tbody>\n",
       "\t<tr><th scope=row>1</th><td>강수친             </td><td>여자               </td><td>22                 </td><td>1                  </td><td>무                 </td><td>O                  </td><td>155.2              </td><td>45.3               </td><td>0.00188067940269954</td><td>245                </td></tr>\n",
       "\t<tr><th scope=row>2</th><td>김길동             </td><td>남자               </td><td>23                 </td><td>3                  </td><td>유                 </td><td>O                  </td><td>165.3              </td><td>68.2               </td><td>0.00249596601387274</td><td>270                </td></tr>\n",
       "\t<tr><th scope=row>3</th><td>김동수             </td><td>남자               </td><td>24                 </td><td>4                  </td><td>유                 </td><td>B                  </td><td>168.6              </td><td>70.2               </td><td>0.00246957358696065</td><td>265                </td></tr>\n",
       "</tbody>\n",
       "</table>\n"
      ],
      "text/latex": [
       "\\begin{tabular}{r|llllllllll}\n",
       "  & name & sex & age & grade & absence & bloodtype & height & weight & BMI & footsize\\\\\n",
       "\\hline\n",
       "\t1 & 강수친              & 여자                & 22                  & 1                   & 무                  & O                   & 155.2               & 45.3                & 0.00188067940269954 & 245                \\\\\n",
       "\t2 & 김길동              & 남자                & 23                  & 3                   & 유                  & O                   & 165.3               & 68.2                & 0.00249596601387274 & 270                \\\\\n",
       "\t3 & 김동수              & 남자                & 24                  & 4                   & 유                  & B                   & 168.6               & 70.2                & 0.00246957358696065 & 265                \\\\\n",
       "\\end{tabular}\n"
      ],
      "text/plain": [
       "    name  sex age grade absence bloodtype height weight         BMI footsize\n",
       "1 강수친 여자  22     1      무         O  155.2   45.3 0.001880679      245\n",
       "2 김길동 남자  23     3      유         O  165.3   68.2 0.002495966      270\n",
       "3 김동수 남자  24     4      유         B  168.6   70.2 0.002469574      265"
      ]
     },
     "metadata": {},
     "output_type": "display_data"
    }
   ],
   "source": [
    "DFTemp2 <- merge(DF,Omit,by = \"name\")  #name을 기준으로 join\n",
    "head(DFTemp2,3)"
   ]
  },
  {
   "cell_type": "markdown",
   "metadata": {},
   "source": [
    "## List \n",
    " - 잡동사니 같은 각각의 데이터 타입의 데이터들을 저장"
   ]
  },
  {
   "cell_type": "code",
   "execution_count": 45,
   "metadata": {
    "collapsed": false
   },
   "outputs": [
    {
     "data": {
      "text/html": [
       "<ol>\n",
       "\t<li><table>\n",
       "<thead><tr><th></th><th scope=col>name</th><th scope=col>sex</th><th scope=col>age</th><th scope=col>grade</th><th scope=col>absence</th><th scope=col>bloodtype</th><th scope=col>height</th><th scope=col>weight</th><th scope=col>BMI</th></tr></thead>\n",
       "<tbody>\n",
       "\t<tr><th scope=row>1</th><td>김길동             </td><td>남자               </td><td>23                 </td><td>3                  </td><td>유                 </td><td>O                  </td><td>165.3              </td><td>68.2               </td><td>0.00249596601387274</td></tr>\n",
       "\t<tr><th scope=row>2</th><td>이미린             </td><td>여자               </td><td>22                 </td><td>2                  </td><td>무                 </td><td>AB                 </td><td>170.1              </td><td>53                 </td><td>0.00183175439560572</td></tr>\n",
       "\t<tr><th scope=row>3</th><td>홍길동             </td><td>남자               </td><td>24                 </td><td>4                  </td><td>무                 </td><td>B                  </td><td>175                </td><td>80.1               </td><td>0.00261551020408163</td></tr>\n",
       "</tbody>\n",
       "</table>\n",
       "</li>\n",
       "\t<li><ol class=list-inline>\n",
       "\t<li>1</li>\n",
       "\t<li>2</li>\n",
       "\t<li>3</li>\n",
       "\t<li>4</li>\n",
       "\t<li>5</li>\n",
       "\t<li>6</li>\n",
       "\t<li>7</li>\n",
       "\t<li>8</li>\n",
       "\t<li>9</li>\n",
       "\t<li>10</li>\n",
       "\t<li>11</li>\n",
       "\t<li>12</li>\n",
       "\t<li>13</li>\n",
       "\t<li>14</li>\n",
       "\t<li>15</li>\n",
       "\t<li>16</li>\n",
       "\t<li>17</li>\n",
       "\t<li>18</li>\n",
       "\t<li>19</li>\n",
       "\t<li>20</li>\n",
       "</ol>\n",
       "</li>\n",
       "\t<li><ol class=list-inline>\n",
       "\t<li>\"파스타\"</li>\n",
       "\t<li>\"짬뽕\"</li>\n",
       "\t<li>\"순두부 찌개\"</li>\n",
       "\t<li>\"요거트 아이스크림\"</li>\n",
       "\t<li>\"커피\"</li>\n",
       "</ol>\n",
       "</li>\n",
       "\t<li><ol class=list-inline>\n",
       "\t<li>TRUE</li>\n",
       "\t<li>FALSE</li>\n",
       "\t<li>FALSE</li>\n",
       "\t<li>TRUE</li>\n",
       "\t<li>TRUE</li>\n",
       "\t<li>TRUE</li>\n",
       "</ol>\n",
       "</li>\n",
       "</ol>\n"
      ],
      "text/latex": [
       "\\begin{enumerate}\n",
       "\\item \\begin{tabular}{r|lllllllll}\n",
       "  & name & sex & age & grade & absence & bloodtype & height & weight & BMI\\\\\n",
       "\\hline\n",
       "\t1 & 김길동              & 남자                & 23                  & 3                   & 유                  & O                   & 165.3               & 68.2                & 0.00249596601387274\\\\\n",
       "\t2 & 이미린              & 여자                & 22                  & 2                   & 무                  & AB                  & 170.1               & 53                  & 0.00183175439560572\\\\\n",
       "\t3 & 홍길동              & 남자                & 24                  & 4                   & 무                  & B                   & 175                 & 80.1                & 0.00261551020408163\\\\\n",
       "\\end{tabular}\n",
       "\n",
       "\\item \\begin{enumerate*}\n",
       "\\item 1\n",
       "\\item 2\n",
       "\\item 3\n",
       "\\item 4\n",
       "\\item 5\n",
       "\\item 6\n",
       "\\item 7\n",
       "\\item 8\n",
       "\\item 9\n",
       "\\item 10\n",
       "\\item 11\n",
       "\\item 12\n",
       "\\item 13\n",
       "\\item 14\n",
       "\\item 15\n",
       "\\item 16\n",
       "\\item 17\n",
       "\\item 18\n",
       "\\item 19\n",
       "\\item 20\n",
       "\\end{enumerate*}\n",
       "\n",
       "\\item \\begin{enumerate*}\n",
       "\\item \"파스타\"\n",
       "\\item \"짬뽕\"\n",
       "\\item \"순두부 찌개\"\n",
       "\\item \"요거트 아이스크림\"\n",
       "\\item \"커피\"\n",
       "\\end{enumerate*}\n",
       "\n",
       "\\item \\begin{enumerate*}\n",
       "\\item TRUE\n",
       "\\item FALSE\n",
       "\\item FALSE\n",
       "\\item TRUE\n",
       "\\item TRUE\n",
       "\\item TRUE\n",
       "\\end{enumerate*}\n",
       "\n",
       "\\end{enumerate}\n"
      ],
      "text/markdown": [
       "1. NULL\n",
       "2. 1. 1\n",
       "2. 2\n",
       "3. 3\n",
       "4. 4\n",
       "5. 5\n",
       "6. 6\n",
       "7. 7\n",
       "8. 8\n",
       "9. 9\n",
       "10. 10\n",
       "11. 11\n",
       "12. 12\n",
       "13. 13\n",
       "14. 14\n",
       "15. 15\n",
       "16. 16\n",
       "17. 17\n",
       "18. 18\n",
       "19. 19\n",
       "20. 20\n",
       "\n",
       "\n",
       "\n",
       "3. 1. \"파스타\"\n",
       "2. \"짬뽕\"\n",
       "3. \"순두부 찌개\"\n",
       "4. \"요거트 아이스크림\"\n",
       "5. \"커피\"\n",
       "\n",
       "\n",
       "\n",
       "4. 1. TRUE\n",
       "2. FALSE\n",
       "3. FALSE\n",
       "4. TRUE\n",
       "5. TRUE\n",
       "6. TRUE\n",
       "\n",
       "\n",
       "\n",
       "\n",
       "\n"
      ],
      "text/plain": [
       "[[1]]\n",
       "    name  sex age grade absence bloodtype height weight         BMI\n",
       "1 김길동 남자  23     3      유         O  165.3   68.2 0.002495966\n",
       "2 이미린 여자  22     2      무        AB  170.1   53.0 0.001831754\n",
       "3 홍길동 남자  24     4      무         B  175.0   80.1 0.002615510\n",
       "\n",
       "[[2]]\n",
       " [1]  1  2  3  4  5  6  7  8  9 10 11 12 13 14 15 16 17 18 19 20\n",
       "\n",
       "[[3]]\n",
       "[1] \"파스타\"            \"짬뽕\"              \"순두부 찌개\"      \n",
       "[4] \"요거트 아이스크림\" \"커피\"             \n",
       "\n",
       "[[4]]\n",
       "[1]  TRUE FALSE FALSE  TRUE  TRUE  TRUE\n"
      ]
     },
     "metadata": {},
     "output_type": "display_data"
    }
   ],
   "source": [
    "a <- c(1:20)\n",
    "S <- c(\"파스타\",\"짬뽕\",\"순두부 찌개\",\"요거트 아이스크림\",\"커피\")\n",
    "L <- c(T,F,F,T,T,T)\n",
    "\n",
    "List <- list(head(DF,3),a,S,L)\n",
    "List"
   ]
  },
  {
   "cell_type": "code",
   "execution_count": 47,
   "metadata": {
    "collapsed": false
   },
   "outputs": [
    {
     "data": {
      "text/html": [
       "<dl>\n",
       "\t<dt>$DataFrame</dt>\n",
       "\t\t<dd><table>\n",
       "<thead><tr><th></th><th scope=col>name</th><th scope=col>sex</th><th scope=col>age</th><th scope=col>grade</th><th scope=col>absence</th><th scope=col>bloodtype</th><th scope=col>height</th><th scope=col>weight</th><th scope=col>BMI</th></tr></thead>\n",
       "<tbody>\n",
       "\t<tr><th scope=row>1</th><td>김길동             </td><td>남자               </td><td>23                 </td><td>3                  </td><td>유                 </td><td>O                  </td><td>165.3              </td><td>68.2               </td><td>0.00249596601387274</td></tr>\n",
       "\t<tr><th scope=row>2</th><td>이미린             </td><td>여자               </td><td>22                 </td><td>2                  </td><td>무                 </td><td>AB                 </td><td>170.1              </td><td>53                 </td><td>0.00183175439560572</td></tr>\n",
       "\t<tr><th scope=row>3</th><td>홍길동             </td><td>남자               </td><td>24                 </td><td>4                  </td><td>무                 </td><td>B                  </td><td>175                </td><td>80.1               </td><td>0.00261551020408163</td></tr>\n",
       "</tbody>\n",
       "</table>\n",
       "</dd>\n",
       "\t<dt>$Number</dt>\n",
       "\t\t<dd><ol class=list-inline>\n",
       "\t<li>1</li>\n",
       "\t<li>2</li>\n",
       "\t<li>3</li>\n",
       "\t<li>4</li>\n",
       "\t<li>5</li>\n",
       "\t<li>6</li>\n",
       "\t<li>7</li>\n",
       "\t<li>8</li>\n",
       "\t<li>9</li>\n",
       "\t<li>10</li>\n",
       "\t<li>11</li>\n",
       "\t<li>12</li>\n",
       "\t<li>13</li>\n",
       "\t<li>14</li>\n",
       "\t<li>15</li>\n",
       "\t<li>16</li>\n",
       "\t<li>17</li>\n",
       "\t<li>18</li>\n",
       "\t<li>19</li>\n",
       "\t<li>20</li>\n",
       "</ol>\n",
       "</dd>\n",
       "\t<dt>$Character</dt>\n",
       "\t\t<dd><ol class=list-inline>\n",
       "\t<li>\"파스타\"</li>\n",
       "\t<li>\"짬뽕\"</li>\n",
       "\t<li>\"순두부 찌개\"</li>\n",
       "\t<li>\"요거트 아이스크림\"</li>\n",
       "\t<li>\"커피\"</li>\n",
       "</ol>\n",
       "</dd>\n",
       "\t<dt>$Logic</dt>\n",
       "\t\t<dd><ol class=list-inline>\n",
       "\t<li>TRUE</li>\n",
       "\t<li>FALSE</li>\n",
       "\t<li>FALSE</li>\n",
       "\t<li>TRUE</li>\n",
       "\t<li>TRUE</li>\n",
       "\t<li>TRUE</li>\n",
       "</ol>\n",
       "</dd>\n",
       "</dl>\n"
      ],
      "text/latex": [
       "\\begin{description}\n",
       "\\item[\\$DataFrame] \\begin{tabular}{r|lllllllll}\n",
       "  & name & sex & age & grade & absence & bloodtype & height & weight & BMI\\\\\n",
       "\\hline\n",
       "\t1 & 김길동              & 남자                & 23                  & 3                   & 유                  & O                   & 165.3               & 68.2                & 0.00249596601387274\\\\\n",
       "\t2 & 이미린              & 여자                & 22                  & 2                   & 무                  & AB                  & 170.1               & 53                  & 0.00183175439560572\\\\\n",
       "\t3 & 홍길동              & 남자                & 24                  & 4                   & 무                  & B                   & 175                 & 80.1                & 0.00261551020408163\\\\\n",
       "\\end{tabular}\n",
       "\n",
       "\\item[\\$Number] \\begin{enumerate*}\n",
       "\\item 1\n",
       "\\item 2\n",
       "\\item 3\n",
       "\\item 4\n",
       "\\item 5\n",
       "\\item 6\n",
       "\\item 7\n",
       "\\item 8\n",
       "\\item 9\n",
       "\\item 10\n",
       "\\item 11\n",
       "\\item 12\n",
       "\\item 13\n",
       "\\item 14\n",
       "\\item 15\n",
       "\\item 16\n",
       "\\item 17\n",
       "\\item 18\n",
       "\\item 19\n",
       "\\item 20\n",
       "\\end{enumerate*}\n",
       "\n",
       "\\item[\\$Character] \\begin{enumerate*}\n",
       "\\item \"파스타\"\n",
       "\\item \"짬뽕\"\n",
       "\\item \"순두부 찌개\"\n",
       "\\item \"요거트 아이스크림\"\n",
       "\\item \"커피\"\n",
       "\\end{enumerate*}\n",
       "\n",
       "\\item[\\$Logic] \\begin{enumerate*}\n",
       "\\item TRUE\n",
       "\\item FALSE\n",
       "\\item FALSE\n",
       "\\item TRUE\n",
       "\\item TRUE\n",
       "\\item TRUE\n",
       "\\end{enumerate*}\n",
       "\n",
       "\\end{description}\n"
      ],
      "text/plain": [
       "$DataFrame\n",
       "    name  sex age grade absence bloodtype height weight         BMI\n",
       "1 김길동 남자  23     3      유         O  165.3   68.2 0.002495966\n",
       "2 이미린 여자  22     2      무        AB  170.1   53.0 0.001831754\n",
       "3 홍길동 남자  24     4      무         B  175.0   80.1 0.002615510\n",
       "\n",
       "$Number\n",
       " [1]  1  2  3  4  5  6  7  8  9 10 11 12 13 14 15 16 17 18 19 20\n",
       "\n",
       "$Character\n",
       "[1] \"파스타\"            \"짬뽕\"              \"순두부 찌개\"      \n",
       "[4] \"요거트 아이스크림\" \"커피\"             \n",
       "\n",
       "$Logic\n",
       "[1]  TRUE FALSE FALSE  TRUE  TRUE  TRUE\n"
      ]
     },
     "metadata": {},
     "output_type": "display_data"
    }
   ],
   "source": [
    "List <- list(DataFrame = head(DF,3), Number = a, Character = S, Logic = L)  # 리스트는 어떠한 형태라도 합칠 수 가 있다.\n",
    "List  # 해당 리스트의 내용에 로우 명을 지정할 수 있다."
   ]
  },
  {
   "cell_type": "code",
   "execution_count": 48,
   "metadata": {
    "collapsed": false
   },
   "outputs": [
    {
     "name": "stdout",
     "output_type": "stream",
     "text": [
      "List of 4\n",
      " $ DataFrame:'data.frame':\t3 obs. of  9 variables:\n",
      "  ..$ name     : chr [1:3] \"김길동\" \"이미린\" \"홍길동\"\n",
      "  ..$ sex      : chr [1:3] \"남자\" \"여자\" \"남자\"\n",
      "  ..$ age      : int [1:3] 23 22 24\n",
      "  ..$ grade    : int [1:3] 3 2 4\n",
      "  ..$ absence  : chr [1:3] \"유\" \"무\" \"무\"\n",
      "  ..$ bloodtype: chr [1:3] \"O\" \"AB\" \"B\"\n",
      "  ..$ height   : num [1:3] 165 170 175\n",
      "  ..$ weight   : num [1:3] 68.2 53 80.1\n",
      "  ..$ BMI      : num [1:3] 0.0025 0.00183 0.00262\n",
      " $ Number   : int [1:20] 1 2 3 4 5 6 7 8 9 10 ...\n",
      " $ Character: chr [1:5] \"파스타\" \"짬뽕\" \"순두부 찌개\" \"요거트 아이스크림\" ...\n",
      " $ Logic    : logi [1:6] TRUE FALSE FALSE TRUE TRUE TRUE\n"
     ]
    }
   ],
   "source": [
    "str(List)"
   ]
  },
  {
   "cell_type": "markdown",
   "metadata": {},
   "source": [
    "### List 데이터 접근 방법.\n",
    " - List$로우명\n",
    "  - Equal List[[idx]] \n",
    " - List[idx]  \n",
    "  - Data Type is List\n",
    " - List[[idx]]\n",
    "  - Data Type is Origin Type of Data"
   ]
  },
  {
   "cell_type": "code",
   "execution_count": 51,
   "metadata": {
    "collapsed": false
   },
   "outputs": [
    {
     "data": {
      "text/html": [
       "<table>\n",
       "<thead><tr><th></th><th scope=col>name</th><th scope=col>sex</th><th scope=col>age</th><th scope=col>grade</th><th scope=col>absence</th><th scope=col>bloodtype</th><th scope=col>height</th><th scope=col>weight</th><th scope=col>BMI</th></tr></thead>\n",
       "<tbody>\n",
       "\t<tr><th scope=row>1</th><td>김길동             </td><td>남자               </td><td>23                 </td><td>3                  </td><td>유                 </td><td>O                  </td><td>165.3              </td><td>68.2               </td><td>0.00249596601387274</td></tr>\n",
       "\t<tr><th scope=row>2</th><td>이미린             </td><td>여자               </td><td>22                 </td><td>2                  </td><td>무                 </td><td>AB                 </td><td>170.1              </td><td>53                 </td><td>0.00183175439560572</td></tr>\n",
       "\t<tr><th scope=row>3</th><td>홍길동             </td><td>남자               </td><td>24                 </td><td>4                  </td><td>무                 </td><td>B                  </td><td>175                </td><td>80.1               </td><td>0.00261551020408163</td></tr>\n",
       "</tbody>\n",
       "</table>\n"
      ],
      "text/latex": [
       "\\begin{tabular}{r|lllllllll}\n",
       "  & name & sex & age & grade & absence & bloodtype & height & weight & BMI\\\\\n",
       "\\hline\n",
       "\t1 & 김길동              & 남자                & 23                  & 3                   & 유                  & O                   & 165.3               & 68.2                & 0.00249596601387274\\\\\n",
       "\t2 & 이미린              & 여자                & 22                  & 2                   & 무                  & AB                  & 170.1               & 53                  & 0.00183175439560572\\\\\n",
       "\t3 & 홍길동              & 남자                & 24                  & 4                   & 무                  & B                   & 175                 & 80.1                & 0.00261551020408163\\\\\n",
       "\\end{tabular}\n"
      ],
      "text/plain": [
       "    name  sex age grade absence bloodtype height weight         BMI\n",
       "1 김길동 남자  23     3      유         O  165.3   68.2 0.002495966\n",
       "2 이미린 여자  22     2      무        AB  170.1   53.0 0.001831754\n",
       "3 홍길동 남자  24     4      무         B  175.0   80.1 0.002615510"
      ]
     },
     "metadata": {},
     "output_type": "display_data"
    },
    {
     "data": {
      "text/html": [
       "\"data.frame\""
      ],
      "text/latex": [
       "\"data.frame\""
      ],
      "text/markdown": [
       "\"data.frame\""
      ],
      "text/plain": [
       "[1] \"data.frame\""
      ]
     },
     "metadata": {},
     "output_type": "display_data"
    }
   ],
   "source": [
    "List$DataFrame\n",
    "class(List$DataFrame)"
   ]
  },
  {
   "cell_type": "code",
   "execution_count": 54,
   "metadata": {
    "collapsed": false
   },
   "outputs": [
    {
     "data": {
      "text/html": [
       "<strong>$DataFrame</strong> = <table>\n",
       "<thead><tr><th></th><th scope=col>name</th><th scope=col>sex</th><th scope=col>age</th><th scope=col>grade</th><th scope=col>absence</th><th scope=col>bloodtype</th><th scope=col>height</th><th scope=col>weight</th><th scope=col>BMI</th></tr></thead>\n",
       "<tbody>\n",
       "\t<tr><th scope=row>1</th><td>김길동             </td><td>남자               </td><td>23                 </td><td>3                  </td><td>유                 </td><td>O                  </td><td>165.3              </td><td>68.2               </td><td>0.00249596601387274</td></tr>\n",
       "\t<tr><th scope=row>2</th><td>이미린             </td><td>여자               </td><td>22                 </td><td>2                  </td><td>무                 </td><td>AB                 </td><td>170.1              </td><td>53                 </td><td>0.00183175439560572</td></tr>\n",
       "\t<tr><th scope=row>3</th><td>홍길동             </td><td>남자               </td><td>24                 </td><td>4                  </td><td>무                 </td><td>B                  </td><td>175                </td><td>80.1               </td><td>0.00261551020408163</td></tr>\n",
       "</tbody>\n",
       "</table>\n"
      ],
      "text/latex": [
       "\\textbf{\\$DataFrame} = \\begin{tabular}{r|lllllllll}\n",
       "  & name & sex & age & grade & absence & bloodtype & height & weight & BMI\\\\\n",
       "\\hline\n",
       "\t1 & 김길동              & 남자                & 23                  & 3                   & 유                  & O                   & 165.3               & 68.2                & 0.00249596601387274\\\\\n",
       "\t2 & 이미린              & 여자                & 22                  & 2                   & 무                  & AB                  & 170.1               & 53                  & 0.00183175439560572\\\\\n",
       "\t3 & 홍길동              & 남자                & 24                  & 4                   & 무                  & B                   & 175                 & 80.1                & 0.00261551020408163\\\\\n",
       "\\end{tabular}\n"
      ],
      "text/plain": [
       "$DataFrame\n",
       "    name  sex age grade absence bloodtype height weight         BMI\n",
       "1 김길동 남자  23     3      유         O  165.3   68.2 0.002495966\n",
       "2 이미린 여자  22     2      무        AB  170.1   53.0 0.001831754\n",
       "3 홍길동 남자  24     4      무         B  175.0   80.1 0.002615510\n"
      ]
     },
     "metadata": {},
     "output_type": "display_data"
    },
    {
     "data": {
      "text/html": [
       "\"list\""
      ],
      "text/latex": [
       "\"list\""
      ],
      "text/markdown": [
       "\"list\""
      ],
      "text/plain": [
       "[1] \"list\""
      ]
     },
     "metadata": {},
     "output_type": "display_data"
    }
   ],
   "source": [
    "List[1]\n",
    "class(List[1])"
   ]
  },
  {
   "cell_type": "code",
   "execution_count": 56,
   "metadata": {
    "collapsed": false
   },
   "outputs": [
    {
     "data": {
      "text/html": [
       "<table>\n",
       "<thead><tr><th></th><th scope=col>name</th><th scope=col>sex</th><th scope=col>age</th><th scope=col>grade</th><th scope=col>absence</th><th scope=col>bloodtype</th><th scope=col>height</th><th scope=col>weight</th><th scope=col>BMI</th></tr></thead>\n",
       "<tbody>\n",
       "\t<tr><th scope=row>1</th><td>김길동             </td><td>남자               </td><td>23                 </td><td>3                  </td><td>유                 </td><td>O                  </td><td>165.3              </td><td>68.2               </td><td>0.00249596601387274</td></tr>\n",
       "\t<tr><th scope=row>2</th><td>이미린             </td><td>여자               </td><td>22                 </td><td>2                  </td><td>무                 </td><td>AB                 </td><td>170.1              </td><td>53                 </td><td>0.00183175439560572</td></tr>\n",
       "\t<tr><th scope=row>3</th><td>홍길동             </td><td>남자               </td><td>24                 </td><td>4                  </td><td>무                 </td><td>B                  </td><td>175                </td><td>80.1               </td><td>0.00261551020408163</td></tr>\n",
       "</tbody>\n",
       "</table>\n"
      ],
      "text/latex": [
       "\\begin{tabular}{r|lllllllll}\n",
       "  & name & sex & age & grade & absence & bloodtype & height & weight & BMI\\\\\n",
       "\\hline\n",
       "\t1 & 김길동              & 남자                & 23                  & 3                   & 유                  & O                   & 165.3               & 68.2                & 0.00249596601387274\\\\\n",
       "\t2 & 이미린              & 여자                & 22                  & 2                   & 무                  & AB                  & 170.1               & 53                  & 0.00183175439560572\\\\\n",
       "\t3 & 홍길동              & 남자                & 24                  & 4                   & 무                  & B                   & 175                 & 80.1                & 0.00261551020408163\\\\\n",
       "\\end{tabular}\n"
      ],
      "text/plain": [
       "    name  sex age grade absence bloodtype height weight         BMI\n",
       "1 김길동 남자  23     3      유         O  165.3   68.2 0.002495966\n",
       "2 이미린 여자  22     2      무        AB  170.1   53.0 0.001831754\n",
       "3 홍길동 남자  24     4      무         B  175.0   80.1 0.002615510"
      ]
     },
     "metadata": {},
     "output_type": "display_data"
    },
    {
     "data": {
      "text/html": [
       "\"data.frame\""
      ],
      "text/latex": [
       "\"data.frame\""
      ],
      "text/markdown": [
       "\"data.frame\""
      ],
      "text/plain": [
       "[1] \"data.frame\""
      ]
     },
     "metadata": {},
     "output_type": "display_data"
    }
   ],
   "source": [
    "List[[1]]\n",
    "class(List[[1]])"
   ]
  },
  {
   "cell_type": "code",
   "execution_count": 58,
   "metadata": {
    "collapsed": false
   },
   "outputs": [
    {
     "data": {
      "text/html": [
       "\"integer\""
      ],
      "text/latex": [
       "\"integer\""
      ],
      "text/markdown": [
       "\"integer\""
      ],
      "text/plain": [
       "[1] \"integer\""
      ]
     },
     "metadata": {},
     "output_type": "display_data"
    },
    {
     "data": {
      "text/html": [
       "\"integer\""
      ],
      "text/latex": [
       "\"integer\""
      ],
      "text/markdown": [
       "\"integer\""
      ],
      "text/plain": [
       "[1] \"integer\""
      ]
     },
     "metadata": {},
     "output_type": "display_data"
    }
   ],
   "source": [
    "class(List[[\"Number\"]])   # [[]] 와 $로 접근하는 방법은 안의 데이터를 온전한 그 형태를 인지하고 연산 가능하게 하는것.\n",
    "class(List$Number)        # [] 는 List의 순서에 있는 데이터만 나오는 것으로 여전히 List 데이터 타입을 가지고 있다."
   ]
  },
  {
   "cell_type": "markdown",
   "metadata": {},
   "source": [
    "### split \n",
    " - Dataframe 데이터를 해당 조건에 맞게 list형태로 출력\n",
    " - split(data of Dataframe , 조건(data of Dataframe))"
   ]
  },
  {
   "cell_type": "code",
   "execution_count": 25,
   "metadata": {
    "collapsed": false
   },
   "outputs": [
    {
     "data": {
      "text/html": [
       "\"list\""
      ],
      "text/latex": [
       "\"list\""
      ],
      "text/markdown": [
       "\"list\""
      ],
      "text/plain": [
       "[1] \"list\""
      ]
     },
     "metadata": {},
     "output_type": "display_data"
    },
    {
     "data": {
      "text/html": [
       "<dl>\n",
       "\t<dt>$남자</dt>\n",
       "\t\t<dd><ol class=list-inline>\n",
       "\t<li>165.3</li>\n",
       "\t<li>175</li>\n",
       "\t<li>182.1</li>\n",
       "\t<li>178.5</li>\n",
       "\t<li>176.1</li>\n",
       "\t<li>167.1</li>\n",
       "\t<li>180</li>\n",
       "\t<li>162.2</li>\n",
       "\t<li>168.6</li>\n",
       "\t<li>169.2</li>\n",
       "</ol>\n",
       "</dd>\n",
       "\t<dt>$여자</dt>\n",
       "\t\t<dd><ol class=list-inline>\n",
       "\t<li>170.1</li>\n",
       "\t<li>168</li>\n",
       "\t<li>162</li>\n",
       "\t<li>155.2</li>\n",
       "\t<li>176.9</li>\n",
       "\t<li>176.1</li>\n",
       "\t<li>158.2</li>\n",
       "</ol>\n",
       "</dd>\n",
       "</dl>\n"
      ],
      "text/latex": [
       "\\begin{description}\n",
       "\\item[\\$남자] \\begin{enumerate*}\n",
       "\\item 165.3\n",
       "\\item 175\n",
       "\\item 182.1\n",
       "\\item 178.5\n",
       "\\item 176.1\n",
       "\\item 167.1\n",
       "\\item 180\n",
       "\\item 162.2\n",
       "\\item 168.6\n",
       "\\item 169.2\n",
       "\\end{enumerate*}\n",
       "\n",
       "\\item[\\$여자] \\begin{enumerate*}\n",
       "\\item 170.1\n",
       "\\item 168\n",
       "\\item 162\n",
       "\\item 155.2\n",
       "\\item 176.9\n",
       "\\item 176.1\n",
       "\\item 158.2\n",
       "\\end{enumerate*}\n",
       "\n",
       "\\end{description}\n"
      ],
      "text/markdown": [
       "$남자\n",
       ":   1. 165.3\n",
       "2. 175\n",
       "3. 182.1\n",
       "4. 178.5\n",
       "5. 176.1\n",
       "6. 167.1\n",
       "7. 180\n",
       "8. 162.2\n",
       "9. 168.6\n",
       "10. 169.2\n",
       "\n",
       "\n",
       "\n",
       "$여자\n",
       ":   1. 170.1\n",
       "2. 168\n",
       "3. 162\n",
       "4. 155.2\n",
       "5. 176.9\n",
       "6. 176.1\n",
       "7. 158.2\n",
       "\n",
       "\n",
       "\n",
       "\n",
       "\n"
      ],
      "text/plain": [
       "$남자\n",
       " [1] 165.3 175.0 182.1 178.5 176.1 167.1 180.0 162.2 168.6 169.2\n",
       "\n",
       "$여자\n",
       "[1] 170.1 168.0 162.0 155.2 176.9 176.1 158.2\n"
      ]
     },
     "metadata": {},
     "output_type": "display_data"
    }
   ],
   "source": [
    "HeightBySex <- split(DF$height,DF$sex)   #data.frame의 data를 list형태로 합치면서 data.frame에서 찢어낸다.\n",
    "class(HeightBySex)\n",
    "HeightBySex"
   ]
  },
  {
   "cell_type": "code",
   "execution_count": 27,
   "metadata": {
    "collapsed": false
   },
   "outputs": [
    {
     "data": {
      "text/html": [
       "172.41"
      ],
      "text/latex": [
       "172.41"
      ],
      "text/markdown": [
       "172.41"
      ],
      "text/plain": [
       "[1] 172.41"
      ]
     },
     "metadata": {},
     "output_type": "display_data"
    },
    {
     "data": {
      "text/html": [
       "172.41"
      ],
      "text/latex": [
       "172.41"
      ],
      "text/markdown": [
       "172.41"
      ],
      "text/plain": [
       "[1] 172.41"
      ]
     },
     "metadata": {},
     "output_type": "display_data"
    },
    {
     "data": {
      "text/html": [
       "166.642857142857"
      ],
      "text/latex": [
       "166.642857142857"
      ],
      "text/markdown": [
       "166.642857142857"
      ],
      "text/plain": [
       "[1] 166.6429"
      ]
     },
     "metadata": {},
     "output_type": "display_data"
    },
    {
     "data": {
      "text/html": [
       "166.642857142857"
      ],
      "text/latex": [
       "166.642857142857"
      ],
      "text/markdown": [
       "166.642857142857"
      ],
      "text/plain": [
       "[1] 166.6429"
      ]
     },
     "metadata": {},
     "output_type": "display_data"
    }
   ],
   "source": [
    "mean(HeightBySex$남자)\n",
    "mean(HeightBySex[[1]])\n",
    "mean(HeightBySex$여자)\n",
    "mean(HeightBySex[[2]])"
   ]
  },
  {
   "cell_type": "markdown",
   "metadata": {},
   "source": [
    "### lapply, sapply 맛보기\n",
    " - lapply (데이터, 함수) \n",
    "  - Output => List\n",
    "  - Input\n",
    "   - List => List 요소별로 함수에 적용.\n",
    "   - DF => Column 별로 함수에 적용.\n",
    " - sapply(데이터,함수)\n",
    "  - Output => Verctor\n",
    "  - Input  \n",
    "   - List => List 요소별로 \n",
    "   - DF => Column 별로 함수에 적용."
   ]
  },
  {
   "cell_type": "code",
   "execution_count": 33,
   "metadata": {
    "collapsed": false
   },
   "outputs": [
    {
     "data": {
      "text/html": [
       "<dl>\n",
       "\t<dt>$남자</dt>\n",
       "\t\t<dd>172.41</dd>\n",
       "\t<dt>$여자</dt>\n",
       "\t\t<dd>166.642857142857</dd>\n",
       "</dl>\n"
      ],
      "text/latex": [
       "\\begin{description}\n",
       "\\item[\\$남자] 172.41\n",
       "\\item[\\$여자] 166.642857142857\n",
       "\\end{description}\n"
      ],
      "text/markdown": [
       "$남자\n",
       ":   172.41\n",
       "$여자\n",
       ":   166.642857142857\n",
       "\n",
       "\n"
      ],
      "text/plain": [
       "$남자\n",
       "[1] 172.41\n",
       "\n",
       "$여자\n",
       "[1] 166.6429\n"
      ]
     },
     "metadata": {},
     "output_type": "display_data"
    },
    {
     "data": {
      "text/html": [
       "<dl>\n",
       "\t<dt>$Sepal.Length</dt>\n",
       "\t\t<dd>5.84333333333333</dd>\n",
       "\t<dt>$Sepal.Width</dt>\n",
       "\t\t<dd>3.05733333333333</dd>\n",
       "\t<dt>$Petal.Length</dt>\n",
       "\t\t<dd>3.758</dd>\n",
       "\t<dt>$Petal.Width</dt>\n",
       "\t\t<dd>1.19933333333333</dd>\n",
       "</dl>\n"
      ],
      "text/latex": [
       "\\begin{description}\n",
       "\\item[\\$Sepal.Length] 5.84333333333333\n",
       "\\item[\\$Sepal.Width] 3.05733333333333\n",
       "\\item[\\$Petal.Length] 3.758\n",
       "\\item[\\$Petal.Width] 1.19933333333333\n",
       "\\end{description}\n"
      ],
      "text/markdown": [
       "$Sepal.Length\n",
       ":   5.84333333333333\n",
       "$Sepal.Width\n",
       ":   3.05733333333333\n",
       "$Petal.Length\n",
       ":   3.758\n",
       "$Petal.Width\n",
       ":   1.19933333333333\n",
       "\n",
       "\n"
      ],
      "text/plain": [
       "$Sepal.Length\n",
       "[1] 5.843333\n",
       "\n",
       "$Sepal.Width\n",
       "[1] 3.057333\n",
       "\n",
       "$Petal.Length\n",
       "[1] 3.758\n",
       "\n",
       "$Petal.Width\n",
       "[1] 1.199333\n"
      ]
     },
     "metadata": {},
     "output_type": "display_data"
    },
    {
     "data": {
      "text/html": [
       "\"list\""
      ],
      "text/latex": [
       "\"list\""
      ],
      "text/markdown": [
       "\"list\""
      ],
      "text/plain": [
       "[1] \"list\""
      ]
     },
     "metadata": {},
     "output_type": "display_data"
    },
    {
     "name": "stdout",
     "output_type": "stream",
     "text": [
      "    남자     여자 \n",
      "172.4100 166.6429 \n"
     ]
    },
    {
     "data": {
      "text/html": [
       "\"numeric\""
      ],
      "text/latex": [
       "\"numeric\""
      ],
      "text/markdown": [
       "\"numeric\""
      ],
      "text/plain": [
       "[1] \"numeric\""
      ]
     },
     "metadata": {},
     "output_type": "display_data"
    },
    {
     "name": "stdout",
     "output_type": "stream",
     "text": [
      "Sepal.Length  Sepal.Width Petal.Length  Petal.Width \n",
      "    5.843333     3.057333     3.758000     1.199333 \n"
     ]
    },
    {
     "data": {
      "text/html": [
       "\"numeric\""
      ],
      "text/latex": [
       "\"numeric\""
      ],
      "text/markdown": [
       "\"numeric\""
      ],
      "text/plain": [
       "[1] \"numeric\""
      ]
     },
     "metadata": {},
     "output_type": "display_data"
    }
   ],
   "source": [
    "lapply(HeightBySex, mean)\n",
    "l1 <- lapply(iris[-5],mean)\n",
    "l1\n",
    "class(l1)\n",
    "s1 <- sapply(HeightBySex, mean)  #리스트 형태의 각 요소, Index 별로 함수 적용.\n",
    "print(s1)\n",
    "class(s1)\n",
    "s2 <- sapply(iris[-5],mean)     #data.frame 의 경우 각 열별로 데이터를 연산함. 행별로 하기위해서는 apply(data,1,함수)\n",
    "print(s2)\n",
    "class(s2)"
   ]
  },
  {
   "cell_type": "markdown",
   "metadata": {},
   "source": [
    "## table, xtabs\n",
    " - table -> 도수분포표 생성\n",
    "  - table(Data)\n",
    " - xtabs : 집계함수 \n",
    "  - xtabs ( 종속변수 ~ 독립변수 ) => 종속변수의 합이 합산되어 나온다.\n",
    "  - xtabs( ~ 독립변수 + 독립변수 ) "
   ]
  },
  {
   "cell_type": "markdown",
   "metadata": {},
   "source": [
    "### prop.table \n",
    " - 상대 도수를 구하는 함수 \n",
    " - prop.table(값, margin)\n",
    "  - margin = 1 : Column 별로 상대 도수 "
   ]
  },
  {
   "cell_type": "code",
   "execution_count": 35,
   "metadata": {
    "collapsed": false
   },
   "outputs": [
    {
     "data": {
      "text/plain": [
       "\n",
       " A AB  B  O \n",
       " 4  3  5  5 "
      ]
     },
     "metadata": {},
     "output_type": "display_data"
    }
   ],
   "source": [
    "Freq <- table(DF$bloodtype) #bloodType Count\n",
    "Freq"
   ]
  },
  {
   "cell_type": "code",
   "execution_count": 39,
   "metadata": {
    "collapsed": false
   },
   "outputs": [
    {
     "data": {
      "text/plain": [
       "\n",
       "        A        AB         B         O \n",
       "0.2352941 0.1764706 0.2941176 0.2941176 "
      ]
     },
     "metadata": {},
     "output_type": "display_data"
    }
   ],
   "source": [
    "ReleativeFrea <- prop.table(Freq)   # 상대 도수를 구하는 함수. prop.table\n",
    "ReleativeFrea"
   ]
  },
  {
   "cell_type": "code",
   "execution_count": 41,
   "metadata": {
    "collapsed": false
   },
   "outputs": [
    {
     "data": {
      "text/plain": [
       "    \n",
       "     남자 여자\n",
       "  A     2    2\n",
       "  AB    2    1\n",
       "  B     4    1\n",
       "  O     2    3"
      ]
     },
     "metadata": {},
     "output_type": "display_data"
    }
   ],
   "source": [
    "Freq2 <- table(DF$bloodtype,DF$sex)  # BloodType 을 SEX를 기준으로 나눈다. 즉 행에 블러드, 열에 성별.\n",
    "Freq2"
   ]
  },
  {
   "cell_type": "code",
   "execution_count": 43,
   "metadata": {
    "collapsed": false
   },
   "outputs": [
    {
     "data": {
      "text/plain": [
       "            DF$sex\n",
       "DF$bloodtype 남자 여자\n",
       "          A     2    2\n",
       "          AB    2    1\n",
       "          B     4    1\n",
       "          O     2    3"
      ]
     },
     "metadata": {},
     "output_type": "display_data"
    }
   ],
   "source": [
    "xtabs( ~ DF$bloodtype + DF$sex)"
   ]
  },
  {
   "cell_type": "code",
   "execution_count": 46,
   "metadata": {
    "collapsed": false
   },
   "outputs": [
    {
     "data": {
      "text/html": [
       "<table>\n",
       "<thead><tr><th></th><th scope=col>A</th><th scope=col>AB</th><th scope=col>B</th><th scope=col>O</th></tr></thead>\n",
       "<tbody>\n",
       "\t<tr><th scope=row>Freq</th><td>4</td><td>3</td><td>5</td><td>5</td></tr>\n",
       "\t<tr><th scope=row>ReleativeFrea</th><td>0.2352941</td><td>0.1764706</td><td>0.2941176</td><td>0.2941176</td></tr>\n",
       "</tbody>\n",
       "</table>\n"
      ],
      "text/latex": [
       "\\begin{tabular}{r|llll}\n",
       "  & A & AB & B & O\\\\\n",
       "\\hline\n",
       "\tFreq & 4 & 3 & 5 & 5\\\\\n",
       "\tReleativeFrea & 0.2352941 & 0.1764706 & 0.2941176 & 0.2941176\\\\\n",
       "\\end{tabular}\n"
      ],
      "text/markdown": [
       "1. 4\n",
       "2. 0.235294117647059\n",
       "3. 3\n",
       "4. 0.176470588235294\n",
       "5. 5\n",
       "6. 0.294117647058824\n",
       "7. 5\n",
       "8. 0.294117647058824\n",
       "\n",
       "\n"
      ],
      "text/plain": [
       "                      A        AB         B         O\n",
       "Freq          4.0000000 3.0000000 5.0000000 5.0000000\n",
       "ReleativeFrea 0.2352941 0.1764706 0.2941176 0.2941176"
      ]
     },
     "metadata": {},
     "output_type": "display_data"
    }
   ],
   "source": [
    "ReleativeFrea2 <- round(prop.table(Freq2) * 100)\n",
    "\n",
    "Table <- rbind(Freq,ReleativeFrea)\n",
    "Table"
   ]
  },
  {
   "cell_type": "markdown",
   "metadata": {},
   "source": [
    "### addmargins \n",
    " - addmargins(table,margin) \n",
    "  - margin = 1 열의 합\n",
    "  - margin = 2 행의 합\n",
    "  - margin is null : 둘다"
   ]
  },
  {
   "cell_type": "code",
   "execution_count": 47,
   "metadata": {
    "collapsed": false
   },
   "outputs": [
    {
     "data": {
      "text/html": [
       "<table>\n",
       "<thead><tr><th></th><th scope=col>A</th><th scope=col>AB</th><th scope=col>B</th><th scope=col>O</th></tr></thead>\n",
       "<tbody>\n",
       "\t<tr><th scope=row>Freq</th><td>4</td><td>3</td><td>5</td><td>5</td></tr>\n",
       "\t<tr><th scope=row>ReleativeFrea</th><td>0.2352941</td><td>0.1764706</td><td>0.2941176</td><td>0.2941176</td></tr>\n",
       "\t<tr><th scope=row>Sum</th><td>4.235294</td><td>3.176471</td><td>5.294118</td><td>5.294118</td></tr>\n",
       "</tbody>\n",
       "</table>\n"
      ],
      "text/latex": [
       "\\begin{tabular}{r|llll}\n",
       "  & A & AB & B & O\\\\\n",
       "\\hline\n",
       "\tFreq & 4 & 3 & 5 & 5\\\\\n",
       "\tReleativeFrea & 0.2352941 & 0.1764706 & 0.2941176 & 0.2941176\\\\\n",
       "\tSum & 4.235294 & 3.176471 & 5.294118 & 5.294118\\\\\n",
       "\\end{tabular}\n"
      ],
      "text/markdown": [
       "1. 4\n",
       "2. 0.235294117647059\n",
       "3. 4.23529411764706\n",
       "4. 3\n",
       "5. 0.176470588235294\n",
       "6. 3.17647058823529\n",
       "7. 5\n",
       "8. 0.294117647058824\n",
       "9. 5.29411764705882\n",
       "10. 5\n",
       "11. 0.294117647058824\n",
       "12. 5.29411764705882\n",
       "\n",
       "\n"
      ],
      "text/plain": [
       "                      A        AB         B         O\n",
       "Freq          4.0000000 3.0000000 5.0000000 5.0000000\n",
       "ReleativeFrea 0.2352941 0.1764706 0.2941176 0.2941176\n",
       "Sum           4.2352941 3.1764706 5.2941176 5.2941176"
      ]
     },
     "metadata": {},
     "output_type": "display_data"
    }
   ],
   "source": [
    "#addmargins(table,margin=1/2)  margin 합을 구하는 방법 1 -> 열의 합. 2 -> 행의 합. 생략하면 둘다.\n",
    "Table <- addmargins(Table,1)\n",
    "Table"
   ]
  },
  {
   "cell_type": "markdown",
   "metadata": {},
   "source": [
    "## Matirx \n",
    " - 행렬\n",
    " - 수학의 행렬과 동일하다고 생각하면 될 듯."
   ]
  },
  {
   "cell_type": "code",
   "execution_count": 3,
   "metadata": {
    "collapsed": false
   },
   "outputs": [
    {
     "data": {
      "text/html": [
       "<table>\n",
       "<tbody>\n",
       "\t<tr><td>1</td><td>2</td><td>3</td></tr>\n",
       "\t<tr><td>4</td><td>5</td><td>6</td></tr>\n",
       "\t<tr><td>7</td><td>8</td><td>9</td></tr>\n",
       "</tbody>\n",
       "</table>\n"
      ],
      "text/latex": [
       "\\begin{tabular}{lll}\n",
       "\t 1 & 2 & 3\\\\\n",
       "\t 4 & 5 & 6\\\\\n",
       "\t 7 & 8 & 9\\\\\n",
       "\\end{tabular}\n"
      ],
      "text/markdown": [
       "1. 1\n",
       "2. 4\n",
       "3. 7\n",
       "4. 2\n",
       "5. 5\n",
       "6. 8\n",
       "7. 3\n",
       "8. 6\n",
       "9. 9\n",
       "\n",
       "\n"
      ],
      "text/plain": [
       "     [,1] [,2] [,3]\n",
       "[1,]    1    2    3\n",
       "[2,]    4    5    6\n",
       "[3,]    7    8    9"
      ]
     },
     "metadata": {},
     "output_type": "display_data"
    },
    {
     "data": {
      "text/html": [
       "<table>\n",
       "<tbody>\n",
       "\t<tr><td>1</td><td>4</td><td>7</td></tr>\n",
       "\t<tr><td>2</td><td>5</td><td>8</td></tr>\n",
       "\t<tr><td>3</td><td>6</td><td>9</td></tr>\n",
       "</tbody>\n",
       "</table>\n"
      ],
      "text/latex": [
       "\\begin{tabular}{lll}\n",
       "\t 1 & 4 & 7\\\\\n",
       "\t 2 & 5 & 8\\\\\n",
       "\t 3 & 6 & 9\\\\\n",
       "\\end{tabular}\n"
      ],
      "text/markdown": [
       "1. 1\n",
       "2. 2\n",
       "3. 3\n",
       "4. 4\n",
       "5. 5\n",
       "6. 6\n",
       "7. 7\n",
       "8. 8\n",
       "9. 9\n",
       "\n",
       "\n"
      ],
      "text/plain": [
       "     [,1] [,2] [,3]\n",
       "[1,]    1    4    7\n",
       "[2,]    2    5    8\n",
       "[3,]    3    6    9"
      ]
     },
     "metadata": {},
     "output_type": "display_data"
    },
    {
     "data": {
      "text/html": [
       "<table>\n",
       "<tbody>\n",
       "\t<tr><td>1</td><td>4</td><td>7</td></tr>\n",
       "\t<tr><td>2</td><td>5</td><td>8</td></tr>\n",
       "\t<tr><td>3</td><td>6</td><td>9</td></tr>\n",
       "</tbody>\n",
       "</table>\n"
      ],
      "text/latex": [
       "\\begin{tabular}{lll}\n",
       "\t 1 & 4 & 7\\\\\n",
       "\t 2 & 5 & 8\\\\\n",
       "\t 3 & 6 & 9\\\\\n",
       "\\end{tabular}\n"
      ],
      "text/markdown": [
       "1. 1\n",
       "2. 2\n",
       "3. 3\n",
       "4. 4\n",
       "5. 5\n",
       "6. 6\n",
       "7. 7\n",
       "8. 8\n",
       "9. 9\n",
       "\n",
       "\n"
      ],
      "text/plain": [
       "     [,1] [,2] [,3]\n",
       "[1,]    1    4    7\n",
       "[2,]    2    5    8\n",
       "[3,]    3    6    9"
      ]
     },
     "metadata": {},
     "output_type": "display_data"
    },
    {
     "name": "stdout",
     "output_type": "stream",
     "text": [
      "   c1 c2 c3\n",
      "r1  1  2  3\n",
      "r2  4  5  6\n",
      "r3  7  8  9\n",
      "[1] 3 3\n"
     ]
    }
   ],
   "source": [
    "tmp_7 = matrix(c(1,2,3,4,5,6,7,8,9),nrow=3,ncol=3,byrow = TRUE)\n",
    "tmp_7\n",
    "tmp_8 = matrix(c(1,2,3,4,5,6,7,8,9),nrow=3,ncol=3,byrow = FALSE)\n",
    "tmp_8\n",
    "t(tmp_7)\n",
    "rownames(tmp_7) = c(\"r1\",\"r2\",\"r3\")\n",
    "colnames(tmp_7) = c(\"c1\",\"c2\",\"c3\")\n",
    "print(tmp_7)\n",
    "print(dim(tmp_7))"
   ]
  },
  {
   "cell_type": "code",
   "execution_count": 5,
   "metadata": {
    "collapsed": false
   },
   "outputs": [
    {
     "name": "stderr",
     "output_type": "stream",
     "text": [
      "Warning message:\n",
      "In matrix(1:19, nrow = 4, ncol = 5): 데이터의 길이[19]가 행의 개수[4]의 배수가 되지 않습니다"
     ]
    },
    {
     "data": {
      "text/html": [
       "<table>\n",
       "<tbody>\n",
       "\t<tr><td> 1</td><td> 5</td><td> 9</td><td>13</td><td>17</td></tr>\n",
       "\t<tr><td> 2</td><td> 6</td><td>10</td><td>14</td><td>18</td></tr>\n",
       "\t<tr><td> 3</td><td> 7</td><td>11</td><td>15</td><td>19</td></tr>\n",
       "\t<tr><td> 4</td><td> 8</td><td>12</td><td>16</td><td> 1</td></tr>\n",
       "</tbody>\n",
       "</table>\n"
      ],
      "text/latex": [
       "\\begin{tabular}{lllll}\n",
       "\t  1 &  5 &  9 & 13 & 17\\\\\n",
       "\t  2 &  6 & 10 & 14 & 18\\\\\n",
       "\t  3 &  7 & 11 & 15 & 19\\\\\n",
       "\t  4 &  8 & 12 & 16 &  1\\\\\n",
       "\\end{tabular}\n"
      ],
      "text/markdown": [
       "1. 1\n",
       "2. 2\n",
       "3. 3\n",
       "4. 4\n",
       "5. 5\n",
       "6. 6\n",
       "7. 7\n",
       "8. 8\n",
       "9. 9\n",
       "10. 10\n",
       "11. 11\n",
       "12. 12\n",
       "13. 13\n",
       "14. 14\n",
       "15. 15\n",
       "16. 16\n",
       "17. 17\n",
       "18. 18\n",
       "19. 19\n",
       "20. 1\n",
       "\n",
       "\n"
      ],
      "text/plain": [
       "     [,1] [,2] [,3] [,4] [,5]\n",
       "[1,]    1    5    9   13   17\n",
       "[2,]    2    6   10   14   18\n",
       "[3,]    3    7   11   15   19\n",
       "[4,]    4    8   12   16    1"
      ]
     },
     "metadata": {},
     "output_type": "display_data"
    }
   ],
   "source": [
    "myMatrix <- matrix(1:19, nrow=4, ncol=5)  # 1:20의 경우 4 * 5 완성, 1:19 모자란 값은 1부터 다시 \n",
    "myMatrix"
   ]
  },
  {
   "cell_type": "code",
   "execution_count": 7,
   "metadata": {
    "collapsed": false
   },
   "outputs": [
    {
     "data": {
      "text/html": [
       "<table>\n",
       "<thead><tr><th></th><th scope=col>c1</th><th scope=col>c2</th><th scope=col>c3</th></tr></thead>\n",
       "<tbody>\n",
       "\t<tr><th scope=row>r1</th><td> 1</td><td> 8</td><td>21</td></tr>\n",
       "\t<tr><th scope=row>r2</th><td> 8</td><td>25</td><td>48</td></tr>\n",
       "\t<tr><th scope=row>r3</th><td>21</td><td>48</td><td>81</td></tr>\n",
       "</tbody>\n",
       "</table>\n"
      ],
      "text/latex": [
       "\\begin{tabular}{r|lll}\n",
       "  & c1 & c2 & c3\\\\\n",
       "\\hline\n",
       "\tr1 &  1 &  8 & 21\\\\\n",
       "\tr2 &  8 & 25 & 48\\\\\n",
       "\tr3 & 21 & 48 & 81\\\\\n",
       "\\end{tabular}\n"
      ],
      "text/markdown": [
       "1. 1\n",
       "2. 8\n",
       "3. 21\n",
       "4. 8\n",
       "5. 25\n",
       "6. 48\n",
       "7. 21\n",
       "8. 48\n",
       "9. 81\n",
       "\n",
       "\n"
      ],
      "text/plain": [
       "   c1 c2 c3\n",
       "r1  1  8 21\n",
       "r2  8 25 48\n",
       "r3 21 48 81"
      ]
     },
     "metadata": {},
     "output_type": "display_data"
    },
    {
     "data": {
      "text/html": [
       "<table>\n",
       "<tbody>\n",
       "\t<tr><th scope=row>r1</th><td>14</td><td>32</td><td>50</td></tr>\n",
       "\t<tr><th scope=row>r2</th><td> 32</td><td> 77</td><td>122</td></tr>\n",
       "\t<tr><th scope=row>r3</th><td> 50</td><td>122</td><td>194</td></tr>\n",
       "</tbody>\n",
       "</table>\n"
      ],
      "text/latex": [
       "\\begin{tabular}{r|lll}\n",
       "\tr1 & 14 & 32 & 50\\\\\n",
       "\tr2 &  32 &  77 & 122\\\\\n",
       "\tr3 &  50 & 122 & 194\\\\\n",
       "\\end{tabular}\n"
      ],
      "text/markdown": [
       "1. 14\n",
       "2. 32\n",
       "3. 50\n",
       "4. 32\n",
       "5. 77\n",
       "6. 122\n",
       "7. 50\n",
       "8. 122\n",
       "9. 194\n",
       "\n",
       "\n"
      ],
      "text/plain": [
       "   [,1] [,2] [,3]\n",
       "r1   14   32   50\n",
       "r2   32   77  122\n",
       "r3   50  122  194"
      ]
     },
     "metadata": {},
     "output_type": "display_data"
    }
   ],
   "source": [
    "tmp_7 * tmp_8  # 일반 곱하기 각 행 각 열에 맞게 \n",
    "tmp_7 %*% tmp_8  # 행렬의 곱을 하려면 %*%"
   ]
  },
  {
   "cell_type": "markdown",
   "metadata": {},
   "source": [
    "## Array  \n",
    " - 다차원배열까지 생성"
   ]
  },
  {
   "cell_type": "code",
   "execution_count": 9,
   "metadata": {
    "collapsed": false
   },
   "outputs": [
    {
     "name": "stdout",
     "output_type": "stream",
     "text": [
      ", , 1\n",
      "\n",
      "     [,1] [,2] [,3] [,4] [,5]\n",
      "[1,]   60   56   52   48   44\n",
      "[2,]   59   55   51   47   43\n",
      "[3,]   58   54   50   46   42\n",
      "[4,]   57   53   49   45   41\n",
      "\n",
      ", , 2\n",
      "\n",
      "     [,1] [,2] [,3] [,4] [,5]\n",
      "[1,]   40   36   32   28   24\n",
      "[2,]   39   35   31   27   23\n",
      "[3,]   38   34   30   26   22\n",
      "[4,]   37   33   29   25   21\n",
      "\n",
      ", , 1, 1\n",
      "\n",
      "     [,1] [,2] [,3] [,4] [,5]\n",
      "[1,]    1    5    9   13   17\n",
      "[2,]    2    6   10   14   18\n",
      "[3,]    3    7   11   15   19\n",
      "[4,]    4    8   12   16   20\n",
      "\n",
      ", , 2, 1\n",
      "\n",
      "     [,1] [,2] [,3] [,4] [,5]\n",
      "[1,]   21   25   29   33   37\n",
      "[2,]   22   26   30   34   38\n",
      "[3,]   23   27   31   35   39\n",
      "[4,]   24   28   32   36   40\n",
      "\n",
      ", , 3, 1\n",
      "\n",
      "     [,1] [,2] [,3] [,4] [,5]\n",
      "[1,]   41   45   49   53   57\n",
      "[2,]   42   46   50   54   58\n",
      "[3,]   43   47   51   55   59\n",
      "[4,]   44   48   52   56   60\n",
      "\n",
      ", , 1, 2\n",
      "\n",
      "     [,1] [,2] [,3] [,4] [,5]\n",
      "[1,]   61   65   69   73   77\n",
      "[2,]   62   66   70   74   78\n",
      "[3,]   63   67   71   75   79\n",
      "[4,]   64   68   72   76   80\n",
      "\n",
      ", , 2, 2\n",
      "\n",
      "     [,1] [,2] [,3] [,4] [,5]\n",
      "[1,]   81   85   89   93   97\n",
      "[2,]   82   86   90   94   98\n",
      "[3,]   83   87   91   95   99\n",
      "[4,]   84   88   92   96  100\n",
      "\n",
      ", , 3, 2\n",
      "\n",
      "     [,1] [,2] [,3] [,4] [,5]\n",
      "[1,]  101  105  109  113  117\n",
      "[2,]  102  106  110  114  118\n",
      "[3,]  103  107  111  115  119\n",
      "[4,]  104  108  112  116  120\n",
      "\n"
     ]
    }
   ],
   "source": [
    "shortArray <- array(60:1, dim=c(4,5,2)) \n",
    "print(shortArray)\n",
    "\n",
    "fourdimArray <- array(1:120, dim=c(4,5,3,2)) \n",
    "print(fourdimArray)"
   ]
  },
  {
   "cell_type": "markdown",
   "metadata": {},
   "source": [
    "## 데이터 생성\n",
    " - : \n",
    " - rep\n",
    " - seq\n",
    " - sample\n",
    " - etc..."
   ]
  },
  {
   "cell_type": "code",
   "execution_count": 12,
   "metadata": {
    "collapsed": false
   },
   "outputs": [
    {
     "data": {
      "text/html": [
       "<ol class=list-inline>\n",
       "\t<li>1</li>\n",
       "\t<li>2</li>\n",
       "\t<li>3</li>\n",
       "\t<li>4</li>\n",
       "\t<li>5</li>\n",
       "\t<li>6</li>\n",
       "\t<li>7</li>\n",
       "\t<li>8</li>\n",
       "\t<li>9</li>\n",
       "\t<li>10</li>\n",
       "</ol>\n"
      ],
      "text/latex": [
       "\\begin{enumerate*}\n",
       "\\item 1\n",
       "\\item 2\n",
       "\\item 3\n",
       "\\item 4\n",
       "\\item 5\n",
       "\\item 6\n",
       "\\item 7\n",
       "\\item 8\n",
       "\\item 9\n",
       "\\item 10\n",
       "\\end{enumerate*}\n"
      ],
      "text/markdown": [
       "1. 1\n",
       "2. 2\n",
       "3. 3\n",
       "4. 4\n",
       "5. 5\n",
       "6. 6\n",
       "7. 7\n",
       "8. 8\n",
       "9. 9\n",
       "10. 10\n",
       "\n",
       "\n"
      ],
      "text/plain": [
       " [1]  1  2  3  4  5  6  7  8  9 10"
      ]
     },
     "metadata": {},
     "output_type": "display_data"
    },
    {
     "data": {
      "text/html": [
       "<ol class=list-inline>\n",
       "\t<li>1</li>\n",
       "\t<li>2</li>\n",
       "\t<li>3</li>\n",
       "\t<li>4</li>\n",
       "\t<li>5</li>\n",
       "\t<li>6</li>\n",
       "\t<li>7</li>\n",
       "\t<li>8</li>\n",
       "\t<li>9</li>\n",
       "\t<li>10</li>\n",
       "</ol>\n"
      ],
      "text/latex": [
       "\\begin{enumerate*}\n",
       "\\item 1\n",
       "\\item 2\n",
       "\\item 3\n",
       "\\item 4\n",
       "\\item 5\n",
       "\\item 6\n",
       "\\item 7\n",
       "\\item 8\n",
       "\\item 9\n",
       "\\item 10\n",
       "\\end{enumerate*}\n"
      ],
      "text/markdown": [
       "1. 1\n",
       "2. 2\n",
       "3. 3\n",
       "4. 4\n",
       "5. 5\n",
       "6. 6\n",
       "7. 7\n",
       "8. 8\n",
       "9. 9\n",
       "10. 10\n",
       "\n",
       "\n"
      ],
      "text/plain": [
       " [1]  1  2  3  4  5  6  7  8  9 10"
      ]
     },
     "metadata": {},
     "output_type": "display_data"
    },
    {
     "data": {
      "text/html": [
       "<ol class=list-inline>\n",
       "\t<li>1</li>\n",
       "\t<li>3</li>\n",
       "\t<li>5</li>\n",
       "\t<li>7</li>\n",
       "\t<li>9</li>\n",
       "</ol>\n"
      ],
      "text/latex": [
       "\\begin{enumerate*}\n",
       "\\item 1\n",
       "\\item 3\n",
       "\\item 5\n",
       "\\item 7\n",
       "\\item 9\n",
       "\\end{enumerate*}\n"
      ],
      "text/markdown": [
       "1. 1\n",
       "2. 3\n",
       "3. 5\n",
       "4. 7\n",
       "5. 9\n",
       "\n",
       "\n"
      ],
      "text/plain": [
       "[1] 1 3 5 7 9"
      ]
     },
     "metadata": {},
     "output_type": "display_data"
    }
   ],
   "source": [
    "1:10\n",
    "\n",
    "seq(1,10)\n",
    "seq(1,10,2) # seq(start,end,step)   python과 다르게 시작과 끝 모두 포함된다. "
   ]
  },
  {
   "cell_type": "code",
   "execution_count": 15,
   "metadata": {
    "collapsed": false
   },
   "outputs": [
    {
     "data": {
      "text/html": [
       "<ol class=list-inline>\n",
       "\t<li>1</li>\n",
       "\t<li>1</li>\n",
       "\t<li>2</li>\n",
       "\t<li>2</li>\n",
       "\t<li>1</li>\n",
       "\t<li>1</li>\n",
       "\t<li>2</li>\n",
       "\t<li>2</li>\n",
       "\t<li>1</li>\n",
       "\t<li>1</li>\n",
       "\t<li>2</li>\n",
       "\t<li>2</li>\n",
       "\t<li>1</li>\n",
       "\t<li>1</li>\n",
       "\t<li>2</li>\n",
       "\t<li>2</li>\n",
       "\t<li>1</li>\n",
       "\t<li>1</li>\n",
       "\t<li>2</li>\n",
       "\t<li>2</li>\n",
       "\t<li>1</li>\n",
       "\t<li>1</li>\n",
       "\t<li>2</li>\n",
       "\t<li>2</li>\n",
       "\t<li>1</li>\n",
       "\t<li>1</li>\n",
       "\t<li>2</li>\n",
       "\t<li>2</li>\n",
       "\t<li>1</li>\n",
       "\t<li>1</li>\n",
       "\t<li>2</li>\n",
       "\t<li>2</li>\n",
       "\t<li>1</li>\n",
       "\t<li>1</li>\n",
       "\t<li>2</li>\n",
       "\t<li>2</li>\n",
       "\t<li>1</li>\n",
       "\t<li>1</li>\n",
       "\t<li>2</li>\n",
       "\t<li>2</li>\n",
       "</ol>\n"
      ],
      "text/latex": [
       "\\begin{enumerate*}\n",
       "\\item 1\n",
       "\\item 1\n",
       "\\item 2\n",
       "\\item 2\n",
       "\\item 1\n",
       "\\item 1\n",
       "\\item 2\n",
       "\\item 2\n",
       "\\item 1\n",
       "\\item 1\n",
       "\\item 2\n",
       "\\item 2\n",
       "\\item 1\n",
       "\\item 1\n",
       "\\item 2\n",
       "\\item 2\n",
       "\\item 1\n",
       "\\item 1\n",
       "\\item 2\n",
       "\\item 2\n",
       "\\item 1\n",
       "\\item 1\n",
       "\\item 2\n",
       "\\item 2\n",
       "\\item 1\n",
       "\\item 1\n",
       "\\item 2\n",
       "\\item 2\n",
       "\\item 1\n",
       "\\item 1\n",
       "\\item 2\n",
       "\\item 2\n",
       "\\item 1\n",
       "\\item 1\n",
       "\\item 2\n",
       "\\item 2\n",
       "\\item 1\n",
       "\\item 1\n",
       "\\item 2\n",
       "\\item 2\n",
       "\\end{enumerate*}\n"
      ],
      "text/markdown": [
       "1. 1\n",
       "2. 1\n",
       "3. 2\n",
       "4. 2\n",
       "5. 1\n",
       "6. 1\n",
       "7. 2\n",
       "8. 2\n",
       "9. 1\n",
       "10. 1\n",
       "11. 2\n",
       "12. 2\n",
       "13. 1\n",
       "14. 1\n",
       "15. 2\n",
       "16. 2\n",
       "17. 1\n",
       "18. 1\n",
       "19. 2\n",
       "20. 2\n",
       "21. 1\n",
       "22. 1\n",
       "23. 2\n",
       "24. 2\n",
       "25. 1\n",
       "26. 1\n",
       "27. 2\n",
       "28. 2\n",
       "29. 1\n",
       "30. 1\n",
       "31. 2\n",
       "32. 2\n",
       "33. 1\n",
       "34. 1\n",
       "35. 2\n",
       "36. 2\n",
       "37. 1\n",
       "38. 1\n",
       "39. 2\n",
       "40. 2\n",
       "\n",
       "\n"
      ],
      "text/plain": [
       " [1] 1 1 2 2 1 1 2 2 1 1 2 2 1 1 2 2 1 1 2 2 1 1 2 2 1 1 2 2 1 1 2 2 1 1 2 2 1 1\n",
       "[39] 2 2"
      ]
     },
     "metadata": {},
     "output_type": "display_data"
    },
    {
     "data": {
      "text/html": [
       "<ol class=list-inline>\n",
       "\t<li>10</li>\n",
       "\t<li>7</li>\n",
       "\t<li>6</li>\n",
       "\t<li>2</li>\n",
       "\t<li>8</li>\n",
       "\t<li>4</li>\n",
       "\t<li>9</li>\n",
       "\t<li>3</li>\n",
       "\t<li>1</li>\n",
       "\t<li>5</li>\n",
       "</ol>\n"
      ],
      "text/latex": [
       "\\begin{enumerate*}\n",
       "\\item 10\n",
       "\\item 7\n",
       "\\item 6\n",
       "\\item 2\n",
       "\\item 8\n",
       "\\item 4\n",
       "\\item 9\n",
       "\\item 3\n",
       "\\item 1\n",
       "\\item 5\n",
       "\\end{enumerate*}\n"
      ],
      "text/markdown": [
       "1. 10\n",
       "2. 7\n",
       "3. 6\n",
       "4. 2\n",
       "5. 8\n",
       "6. 4\n",
       "7. 9\n",
       "8. 3\n",
       "9. 1\n",
       "10. 5\n",
       "\n",
       "\n"
      ],
      "text/plain": [
       " [1] 10  7  6  2  8  4  9  3  1  5"
      ]
     },
     "metadata": {},
     "output_type": "display_data"
    },
    {
     "data": {
      "text/html": [
       "<ol class=list-inline>\n",
       "\t<li>2</li>\n",
       "\t<li>9</li>\n",
       "\t<li>4</li>\n",
       "\t<li>6</li>\n",
       "\t<li>8</li>\n",
       "\t<li>9</li>\n",
       "\t<li>2</li>\n",
       "\t<li>6</li>\n",
       "\t<li>4</li>\n",
       "\t<li>2</li>\n",
       "</ol>\n"
      ],
      "text/latex": [
       "\\begin{enumerate*}\n",
       "\\item 2\n",
       "\\item 9\n",
       "\\item 4\n",
       "\\item 6\n",
       "\\item 8\n",
       "\\item 9\n",
       "\\item 2\n",
       "\\item 6\n",
       "\\item 4\n",
       "\\item 2\n",
       "\\end{enumerate*}\n"
      ],
      "text/markdown": [
       "1. 2\n",
       "2. 9\n",
       "3. 4\n",
       "4. 6\n",
       "5. 8\n",
       "6. 9\n",
       "7. 2\n",
       "8. 6\n",
       "9. 4\n",
       "10. 2\n",
       "\n",
       "\n"
      ],
      "text/plain": [
       " [1] 2 9 4 6 8 9 2 6 4 2"
      ]
     },
     "metadata": {},
     "output_type": "display_data"
    }
   ],
   "source": [
    "rep(c(1,2),10,each=2)  # rep(데이터, 횟수, each=각각횟수)\n",
    "sample(1:10,10,replace=F) # 1~10까지 숫자를 10개 선택. \n",
    "sample(1:10,10,replace=T) # 반복 허용."
   ]
  },
  {
   "cell_type": "code",
   "execution_count": 17,
   "metadata": {
    "collapsed": false
   },
   "outputs": [
    {
     "data": {
      "text/html": [
       "<ol class=list-inline>\n",
       "\t<li>1</li>\n",
       "\t<li>2</li>\n",
       "\t<li>3</li>\n",
       "\t<li>4</li>\n",
       "\t<li>5</li>\n",
       "</ol>\n"
      ],
      "text/latex": [
       "\\begin{enumerate*}\n",
       "\\item 1\n",
       "\\item 2\n",
       "\\item 3\n",
       "\\item 4\n",
       "\\item 5\n",
       "\\end{enumerate*}\n"
      ],
      "text/markdown": [
       "1. 1\n",
       "2. 2\n",
       "3. 3\n",
       "4. 4\n",
       "5. 5\n",
       "\n",
       "\n"
      ],
      "text/plain": [
       "[1] 1 2 3 4 5"
      ]
     },
     "metadata": {},
     "output_type": "display_data"
    },
    {
     "name": "stdout",
     "output_type": "stream",
     "text": [
      "[1] 1\n",
      "[1] 3\n",
      "[1] 5\n",
      "[1] 7\n",
      "[1] 9\n",
      "[1] 0\n",
      "[1] 1\n",
      "[1] 2\n",
      "[1] 3\n",
      "[1] 4\n",
      "[1] 5\n",
      "[1] 6\n",
      "[1] 7\n",
      "[1] 8\n",
      "[1] 9\n",
      "[1] 10\n"
     ]
    }
   ],
   "source": [
    "seq_along(seq(1,10,2))  # seq(1,10,2) => 1,3,5,7,9 이지만 인댁스 생성\n",
    "\n",
    "a <- seq(1,10,2)\n",
    "\n",
    "for(i in seq_along(seq_along(a))){\n",
    "  print(a[i])\n",
    "}\n",
    "i = 0\n",
    "while(i<=10){\n",
    "  print(i)\n",
    "  i = i + 1\n",
    "}"
   ]
  },
  {
   "cell_type": "markdown",
   "metadata": {},
   "source": [
    "### which"
   ]
  },
  {
   "cell_type": "code",
   "execution_count": 18,
   "metadata": {
    "collapsed": false
   },
   "outputs": [
    {
     "data": {
      "text/html": [
       "<ol class=list-inline>\n",
       "\t<li>1</li>\n",
       "\t<li>2</li>\n",
       "\t<li>3</li>\n",
       "\t<li>4</li>\n",
       "\t<li>5</li>\n",
       "</ol>\n"
      ],
      "text/latex": [
       "\\begin{enumerate*}\n",
       "\\item 1\n",
       "\\item 2\n",
       "\\item 3\n",
       "\\item 4\n",
       "\\item 5\n",
       "\\end{enumerate*}\n"
      ],
      "text/markdown": [
       "1. 1\n",
       "2. 2\n",
       "3. 3\n",
       "4. 4\n",
       "5. 5\n",
       "\n",
       "\n"
      ],
      "text/plain": [
       "[1] 1 2 3 4 5"
      ]
     },
     "metadata": {},
     "output_type": "display_data"
    },
    {
     "data": {
      "text/html": [
       "<ol class=list-inline>\n",
       "\t<li>10</li>\n",
       "\t<li>9</li>\n",
       "\t<li>8</li>\n",
       "\t<li>7</li>\n",
       "\t<li>6</li>\n",
       "</ol>\n"
      ],
      "text/latex": [
       "\\begin{enumerate*}\n",
       "\\item 10\n",
       "\\item 9\n",
       "\\item 8\n",
       "\\item 7\n",
       "\\item 6\n",
       "\\end{enumerate*}\n"
      ],
      "text/markdown": [
       "1. 10\n",
       "2. 9\n",
       "3. 8\n",
       "4. 7\n",
       "5. 6\n",
       "\n",
       "\n"
      ],
      "text/plain": [
       "[1] 10  9  8  7  6"
      ]
     },
     "metadata": {},
     "output_type": "display_data"
    }
   ],
   "source": [
    "x <- 10:1\n",
    "which(x>5)\n",
    "x[x>5]"
   ]
  },
  {
   "cell_type": "markdown",
   "metadata": {},
   "source": [
    "### 집합 & 샘플링."
   ]
  },
  {
   "cell_type": "code",
   "execution_count": 20,
   "metadata": {
    "collapsed": false
   },
   "outputs": [
    {
     "name": "stdout",
     "output_type": "stream",
     "text": [
      "[1]  3  4  6 10  3\n",
      "[1]  2  8  6  2 10\n",
      "[1] 3 4\n",
      "[1] 2 8\n",
      "[1]  6 10\n",
      "[1]  3  4  6 10  2  8\n",
      "[1] 5\n"
     ]
    }
   ],
   "source": [
    "set.seed(1)\n",
    "myVector <- sample(1:10, 5, replace=TRUE)\n",
    "print(myVector)\n",
    "set.seed(2)\n",
    "herVector <- sample(1:10, 5, replace=TRUE)\n",
    "print(herVector)\n",
    "print(setdiff(myVector, herVector)) #  3,4 차집합. // 앞 데이터를 기준으로 앞에 꺼가 뒤에 없는 것만 보여주기\n",
    "print(setdiff(herVector, myVector))\n",
    "print(intersect(myVector, herVector))  # 교집합\n",
    "print(union(myVector, herVector))  #합집합\n",
    "\n",
    "print(length(myVector))"
   ]
  },
  {
   "cell_type": "markdown",
   "metadata": {},
   "source": [
    "### 함수 \n",
    " - 내장함수\n",
    " - User Define 함수 "
   ]
  },
  {
   "cell_type": "code",
   "execution_count": 48,
   "metadata": {
    "collapsed": false
   },
   "outputs": [
    {
     "name": "stdout",
     "output_type": "stream",
     "text": [
      "[1] 4\n"
     ]
    }
   ],
   "source": [
    "func <- function(x){\n",
    "  result = x ** 2\n",
    "  return(result)\n",
    "}\n",
    "\n",
    "a1 <- func(2)\n",
    "print(a1)"
   ]
  },
  {
   "cell_type": "markdown",
   "metadata": {},
   "source": [
    "### 결측치 다루기 \n",
    " - NA : Not Available\n",
    " - complete.cases()\n",
    "  - NA : False\n",
    "  - Others : True\n",
    " - Data.Frame 에서도 사용가능. \n",
    "  - but 해당 Row가 전체 False가 되어 전체 삭제가 된다. "
   ]
  },
  {
   "cell_type": "code",
   "execution_count": 49,
   "metadata": {
    "collapsed": false
   },
   "outputs": [
    {
     "data": {
      "text/html": [
       "<ol class=list-inline>\n",
       "\t<li>TRUE</li>\n",
       "\t<li>TRUE</li>\n",
       "\t<li>TRUE</li>\n",
       "\t<li>FALSE</li>\n",
       "\t<li>TRUE</li>\n",
       "\t<li>TRUE</li>\n",
       "\t<li>TRUE</li>\n",
       "</ol>\n"
      ],
      "text/latex": [
       "\\begin{enumerate*}\n",
       "\\item TRUE\n",
       "\\item TRUE\n",
       "\\item TRUE\n",
       "\\item FALSE\n",
       "\\item TRUE\n",
       "\\item TRUE\n",
       "\\item TRUE\n",
       "\\end{enumerate*}\n"
      ],
      "text/markdown": [
       "1. TRUE\n",
       "2. TRUE\n",
       "3. TRUE\n",
       "4. FALSE\n",
       "5. TRUE\n",
       "6. TRUE\n",
       "7. TRUE\n",
       "\n",
       "\n"
      ],
      "text/plain": [
       "[1]  TRUE  TRUE  TRUE FALSE  TRUE  TRUE  TRUE"
      ]
     },
     "metadata": {},
     "output_type": "display_data"
    },
    {
     "data": {
      "text/html": [
       "<ol class=list-inline>\n",
       "\t<li>1</li>\n",
       "\t<li>2</li>\n",
       "\t<li>5</li>\n",
       "\t<li>2</li>\n",
       "\t<li>3</li>\n",
       "\t<li>4</li>\n",
       "</ol>\n"
      ],
      "text/latex": [
       "\\begin{enumerate*}\n",
       "\\item 1\n",
       "\\item 2\n",
       "\\item 5\n",
       "\\item 2\n",
       "\\item 3\n",
       "\\item 4\n",
       "\\end{enumerate*}\n"
      ],
      "text/markdown": [
       "1. 1\n",
       "2. 2\n",
       "3. 5\n",
       "4. 2\n",
       "5. 3\n",
       "6. 4\n",
       "\n",
       "\n"
      ],
      "text/plain": [
       "[1] 1 2 5 2 3 4"
      ]
     },
     "metadata": {},
     "output_type": "display_data"
    }
   ],
   "source": [
    "a <- c(1,2,5,NA,2,3,4)\n",
    "complete.cases(a) #NA만 False 나머지 true\n",
    "a[complete.cases(a)]  #NA를 제외한 나머지 출력\n",
    "#data.frame에도 사용할 수 있다. 행단위로 True, False출력 하나라도 NA면 false 전체 삭제가 된다. \n",
    "#na.omit() 함수도 동일하게 NA를 제거하고 출력한다.\n"
   ]
  }
 ],
 "metadata": {
  "anaconda-cloud": {},
  "kernelspec": {
   "display_name": "R 3.3",
   "language": "R",
   "name": "ir33"
  },
  "language_info": {
   "codemirror_mode": "r",
   "file_extension": ".r",
   "mimetype": "text/x-r-source",
   "name": "R",
   "pygments_lexer": "r",
   "version": "3.3.1"
  }
 },
 "nbformat": 4,
 "nbformat_minor": 0
}
