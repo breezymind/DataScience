{
 "cells": [
  {
   "cell_type": "code",
   "execution_count": 5,
   "metadata": {
    "collapsed": false
   },
   "outputs": [
    {
     "name": "stderr",
     "output_type": "stream",
     "text": [
      "Warning message:\n",
      ": unable to access index for repository http://cran.us.r-project.org/src/contrib:\n",
      "  URL 'http://cran.us.r-project.org/src/contrib/PACKAGES'를 열 수 없습니다Warning message:\n",
      ": package 'hflights' is not available (for R version 3.3.1)Warning message:\n",
      ": unable to access index for repository http://cran.us.r-project.org/bin/windows/contrib/3.3:\n",
      "  URL 'http://cran.us.r-project.org/bin/windows/contrib/3.3/PACKAGES'를 열 수 없습니다"
     ]
    }
   ],
   "source": [
    "install.packages(\"hflights\", repos = \"http://cran.us.r-project.org\")"
   ]
  },
  {
   "cell_type": "code",
   "execution_count": 7,
   "metadata": {
    "collapsed": false
   },
   "outputs": [
    {
     "ename": "ERROR",
     "evalue": "Error in library(\"hflights\"): there is no package called 'hflights'\n",
     "output_type": "error",
     "traceback": [
      "Error in library(\"hflights\"): there is no package called 'hflights'\nTraceback:\n",
      "1. library(\"hflights\")",
      "2. stop(txt, domain = NA)"
     ]
    }
   ],
   "source": [
    "library(\"hflights\") "
   ]
  },
  {
   "cell_type": "markdown",
   "metadata": {},
   "source": [
    "## Cancer Data [ 나이에 따른 환자수 ]"
   ]
  },
  {
   "cell_type": "code",
   "execution_count": 10,
   "metadata": {
    "collapsed": false
   },
   "outputs": [
    {
     "data": {
      "text/html": [
       "<table>\n",
       "<thead><tr><th></th><th scope=col>age</th><th scope=col>sex</th><th scope=col>height</th><th scope=col>weight</th><th scope=col>dateOfoperation</th><th scope=col>cancerStaging</th><th scope=col>hospitalization</th><th scope=col>diseaseCode</th></tr></thead>\n",
       "<tbody>\n",
       "\t<tr><th scope=row>1</th><td>75        </td><td>남        </td><td>161       </td><td>64        </td><td>2011-06-22</td><td>I         </td><td>48        </td><td>C187      </td></tr>\n",
       "\t<tr><th scope=row>2</th><td>52        </td><td>여        </td><td>176.6     </td><td>75.3      </td><td>2011-05-19</td><td>IV        </td><td>17        </td><td>C187      </td></tr>\n",
       "\t<tr><th scope=row>3</th><td>67        </td><td>여        </td><td>154       </td><td>65.6      </td><td>2011-05-31</td><td>III       </td><td>10        </td><td>C187      </td></tr>\n",
       "</tbody>\n",
       "</table>\n"
      ],
      "text/latex": [
       "\\begin{tabular}{r|llllllll}\n",
       "  & age & sex & height & weight & dateOfoperation & cancerStaging & hospitalization & diseaseCode\\\\\n",
       "\\hline\n",
       "\t1 & 75         & 남         & 161        & 64         & 2011-06-22 & I          & 48         & C187      \\\\\n",
       "\t2 & 52         & 여         & 176.6      & 75.3       & 2011-05-19 & IV         & 17         & C187      \\\\\n",
       "\t3 & 67         & 여         & 154        & 65.6       & 2011-05-31 & III        & 10         & C187      \\\\\n",
       "\\end{tabular}\n"
      ],
      "text/plain": [
       "  age sex height weight dateOfoperation cancerStaging hospitalization\n",
       "1  75  남    161     64      2011-06-22             I              48\n",
       "2  52  여  176.6   75.3      2011-05-19            IV              17\n",
       "3  67  여    154   65.6      2011-05-31           III              10\n",
       "  diseaseCode\n",
       "1        C187\n",
       "2        C187\n",
       "3        C187"
      ]
     },
     "metadata": {},
     "output_type": "display_data"
    }
   ],
   "source": [
    "DF <- read.csv(\"data/example_cancer.csv\",stringsAsFactors = F)\n",
    "head(DF,3)"
   ]
  },
  {
   "cell_type": "code",
   "execution_count": 12,
   "metadata": {
    "collapsed": false
   },
   "outputs": [
    {
     "name": "stdout",
     "output_type": "stream",
     "text": [
      "'data.frame':\t18310 obs. of  8 variables:\n",
      " $ age            : int  75 52 67 62 70 76 55 72 64 71 ...\n",
      " $ sex            : chr  \"남\" \"여\" \"여\" \"남\" ...\n",
      " $ height         : chr  \"161\" \"176.6\" \"154\" \"162\" ...\n",
      " $ weight         : chr  \"64\" \"75.3\" \"65.6\" \"57\" ...\n",
      " $ dateOfoperation: chr  \"2011-06-22\" \"2011-05-19\" \"2011-05-31\" \"2011-06-21\" ...\n",
      " $ cancerStaging  : chr  \"I\" \"IV\" \"III\" \"I\" ...\n",
      " $ hospitalization: int  48 17 10 11 10 10 12 18 15 35 ...\n",
      " $ diseaseCode    : chr  \"C187\" \"C187\" \"C187\" \"C187\" ...\n"
     ]
    }
   ],
   "source": [
    "str(DF)"
   ]
  },
  {
   "cell_type": "code",
   "execution_count": 16,
   "metadata": {
    "collapsed": false
   },
   "outputs": [
    {
     "data": {
      "image/png": "[encoded data removed]",
      "text/plain": [
       "plot without title"
      ]
     },
     "metadata": {},
     "output_type": "display_data"
    }
   ],
   "source": [
    "options(repr.plot.width=4, repr.plot.height=3)\n",
    "DegreeAge <- table(cut(DF$age,breaks = (1:11)*10))  # cut 을 통해 수치형 변수의 범위 지정. \n",
    "names(DegreeAge) <- c(\"10s\",\"20s\",\"30s\",\"40s\",\"50s\",\"60s\",\"70s\",\"80s\",\"90s\",\"100s\")\n",
    "barplot(DegreeAge)"
   ]
  },
  {
   "cell_type": "code",
   "execution_count": 17,
   "metadata": {
    "collapsed": false
   },
   "outputs": [
    {
     "ename": "ERROR",
     "evalue": "Error in library(\"ggplot2\"): there is no package called 'ggplot2'\n",
     "output_type": "error",
     "traceback": [
      "Error in library(\"ggplot2\"): there is no package called 'ggplot2'\nTraceback:\n",
      "1. library(\"ggplot2\")",
      "2. stop(txt, domain = NA)"
     ]
    }
   ],
   "source": [
    "library(\"ggplot2\")\n",
    "library(\"ggthemes\")"
   ]
  },
  {
   "cell_type": "code",
   "execution_count": null,
   "metadata": {
    "collapsed": true
   },
   "outputs": [],
   "source": []
  }
 ],
 "metadata": {
  "anaconda-cloud": {},
  "kernelspec": {
   "display_name": "R 3.3",
   "language": "R",
   "name": "ir33"
  },
  "language_info": {
   "codemirror_mode": "r",
   "file_extension": ".r",
   "mimetype": "text/x-r-source",
   "name": "R",
   "pygments_lexer": "r",
   "version": "3.3.1"
  }
 },
 "nbformat": 4,
 "nbformat_minor": 0
}
