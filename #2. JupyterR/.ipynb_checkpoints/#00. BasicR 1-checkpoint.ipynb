{
 "cells": [
  {
   "cell_type": "markdown",
   "metadata": {},
   "source": [
    "# 쿠크들을 위한 Basic R \n",
    " - 수업 자료 + 다른 기본 자료 "
   ]
  },
  {
   "cell_type": "markdown",
   "metadata": {},
   "source": [
    "### 변수, 함수"
   ]
  },
  {
   "cell_type": "code",
   "execution_count": 2,
   "metadata": {
    "collapsed": false
   },
   "outputs": [
    {
     "name": "stdout",
     "output_type": "stream",
     "text": [
      "[1] 1\n",
      "[1] 4\n"
     ]
    }
   ],
   "source": [
    "# 변수 지정 \n",
    "\n",
    "a <-  1 \n",
    "print(a)\n",
    "\n",
    "# 함수 생성 \n",
    "\n",
    "func <- function(x){\n",
    "  result = x ** 2\n",
    "  return(result)\n",
    "}\n",
    "\n",
    "a1 <- func(2)\n",
    "print(a1)"
   ]
  },
  {
   "cell_type": "markdown",
   "metadata": {},
   "source": [
    "- R의 기본은 벡터 \n",
    "- 모든게 벡터이다. 벡터의 집합 형태에 따라 리스트, data.frame, array, 스칼라, matrix 등으로 결정된다. "
   ]
  },
  {
   "cell_type": "code",
   "execution_count": 4,
   "metadata": {
    "collapsed": false
   },
   "outputs": [
    {
     "data": {
      "text/html": [
       "<ol class=list-inline>\n",
       "\t<li>1</li>\n",
       "\t<li>2</li>\n",
       "\t<li>3</li>\n",
       "\t<li>4</li>\n",
       "\t<li>5</li>\n",
       "\t<li>6</li>\n",
       "\t<li>7</li>\n",
       "\t<li>8</li>\n",
       "\t<li>9</li>\n",
       "\t<li>10</li>\n",
       "</ol>\n"
      ],
      "text/latex": [
       "\\begin{enumerate*}\n",
       "\\item 1\n",
       "\\item 2\n",
       "\\item 3\n",
       "\\item 4\n",
       "\\item 5\n",
       "\\item 6\n",
       "\\item 7\n",
       "\\item 8\n",
       "\\item 9\n",
       "\\item 10\n",
       "\\end{enumerate*}\n"
      ],
      "text/markdown": [
       "1. 1\n",
       "2. 2\n",
       "3. 3\n",
       "4. 4\n",
       "5. 5\n",
       "6. 6\n",
       "7. 7\n",
       "8. 8\n",
       "9. 9\n",
       "10. 10\n",
       "\n",
       "\n"
      ],
      "text/plain": [
       " [1]  1  2  3  4  5  6  7  8  9 10"
      ]
     },
     "metadata": {},
     "output_type": "display_data"
    },
    {
     "data": {
      "text/html": [
       "<ol class=list-inline>\n",
       "\t<li>1</li>\n",
       "\t<li>2</li>\n",
       "\t<li>3</li>\n",
       "\t<li>4</li>\n",
       "\t<li>5</li>\n",
       "\t<li>6</li>\n",
       "\t<li>7</li>\n",
       "\t<li>8</li>\n",
       "\t<li>9</li>\n",
       "\t<li>10</li>\n",
       "</ol>\n"
      ],
      "text/latex": [
       "\\begin{enumerate*}\n",
       "\\item 1\n",
       "\\item 2\n",
       "\\item 3\n",
       "\\item 4\n",
       "\\item 5\n",
       "\\item 6\n",
       "\\item 7\n",
       "\\item 8\n",
       "\\item 9\n",
       "\\item 10\n",
       "\\end{enumerate*}\n"
      ],
      "text/markdown": [
       "1. 1\n",
       "2. 2\n",
       "3. 3\n",
       "4. 4\n",
       "5. 5\n",
       "6. 6\n",
       "7. 7\n",
       "8. 8\n",
       "9. 9\n",
       "10. 10\n",
       "\n",
       "\n"
      ],
      "text/plain": [
       " [1]  1  2  3  4  5  6  7  8  9 10"
      ]
     },
     "metadata": {},
     "output_type": "display_data"
    },
    {
     "data": {
      "text/html": [
       "<ol class=list-inline>\n",
       "\t<li>1</li>\n",
       "\t<li>3</li>\n",
       "\t<li>5</li>\n",
       "\t<li>7</li>\n",
       "\t<li>9</li>\n",
       "</ol>\n"
      ],
      "text/latex": [
       "\\begin{enumerate*}\n",
       "\\item 1\n",
       "\\item 3\n",
       "\\item 5\n",
       "\\item 7\n",
       "\\item 9\n",
       "\\end{enumerate*}\n"
      ],
      "text/markdown": [
       "1. 1\n",
       "2. 3\n",
       "3. 5\n",
       "4. 7\n",
       "5. 9\n",
       "\n",
       "\n"
      ],
      "text/plain": [
       "[1] 1 3 5 7 9"
      ]
     },
     "metadata": {},
     "output_type": "display_data"
    }
   ],
   "source": [
    "1:10\n",
    "\n",
    "seq(1,10)\n",
    "seq(1,10,2)"
   ]
  },
  {
   "cell_type": "code",
   "execution_count": 7,
   "metadata": {
    "collapsed": false
   },
   "outputs": [
    {
     "data": {
      "text/html": [
       "<ol class=list-inline>\n",
       "\t<li>1</li>\n",
       "\t<li>1</li>\n",
       "\t<li>2</li>\n",
       "\t<li>2</li>\n",
       "\t<li>1</li>\n",
       "\t<li>1</li>\n",
       "\t<li>2</li>\n",
       "\t<li>2</li>\n",
       "\t<li>1</li>\n",
       "\t<li>1</li>\n",
       "\t<li>2</li>\n",
       "\t<li>2</li>\n",
       "\t<li>1</li>\n",
       "\t<li>1</li>\n",
       "\t<li>2</li>\n",
       "\t<li>2</li>\n",
       "\t<li>1</li>\n",
       "\t<li>1</li>\n",
       "\t<li>2</li>\n",
       "\t<li>2</li>\n",
       "\t<li>1</li>\n",
       "\t<li>1</li>\n",
       "\t<li>2</li>\n",
       "\t<li>2</li>\n",
       "\t<li>1</li>\n",
       "\t<li>1</li>\n",
       "\t<li>2</li>\n",
       "\t<li>2</li>\n",
       "\t<li>1</li>\n",
       "\t<li>1</li>\n",
       "\t<li>2</li>\n",
       "\t<li>2</li>\n",
       "\t<li>1</li>\n",
       "\t<li>1</li>\n",
       "\t<li>2</li>\n",
       "\t<li>2</li>\n",
       "\t<li>1</li>\n",
       "\t<li>1</li>\n",
       "\t<li>2</li>\n",
       "\t<li>2</li>\n",
       "</ol>\n"
      ],
      "text/latex": [
       "\\begin{enumerate*}\n",
       "\\item 1\n",
       "\\item 1\n",
       "\\item 2\n",
       "\\item 2\n",
       "\\item 1\n",
       "\\item 1\n",
       "\\item 2\n",
       "\\item 2\n",
       "\\item 1\n",
       "\\item 1\n",
       "\\item 2\n",
       "\\item 2\n",
       "\\item 1\n",
       "\\item 1\n",
       "\\item 2\n",
       "\\item 2\n",
       "\\item 1\n",
       "\\item 1\n",
       "\\item 2\n",
       "\\item 2\n",
       "\\item 1\n",
       "\\item 1\n",
       "\\item 2\n",
       "\\item 2\n",
       "\\item 1\n",
       "\\item 1\n",
       "\\item 2\n",
       "\\item 2\n",
       "\\item 1\n",
       "\\item 1\n",
       "\\item 2\n",
       "\\item 2\n",
       "\\item 1\n",
       "\\item 1\n",
       "\\item 2\n",
       "\\item 2\n",
       "\\item 1\n",
       "\\item 1\n",
       "\\item 2\n",
       "\\item 2\n",
       "\\end{enumerate*}\n"
      ],
      "text/markdown": [
       "1. 1\n",
       "2. 1\n",
       "3. 2\n",
       "4. 2\n",
       "5. 1\n",
       "6. 1\n",
       "7. 2\n",
       "8. 2\n",
       "9. 1\n",
       "10. 1\n",
       "11. 2\n",
       "12. 2\n",
       "13. 1\n",
       "14. 1\n",
       "15. 2\n",
       "16. 2\n",
       "17. 1\n",
       "18. 1\n",
       "19. 2\n",
       "20. 2\n",
       "21. 1\n",
       "22. 1\n",
       "23. 2\n",
       "24. 2\n",
       "25. 1\n",
       "26. 1\n",
       "27. 2\n",
       "28. 2\n",
       "29. 1\n",
       "30. 1\n",
       "31. 2\n",
       "32. 2\n",
       "33. 1\n",
       "34. 1\n",
       "35. 2\n",
       "36. 2\n",
       "37. 1\n",
       "38. 1\n",
       "39. 2\n",
       "40. 2\n",
       "\n",
       "\n"
      ],
      "text/plain": [
       " [1] 1 1 2 2 1 1 2 2 1 1 2 2 1 1 2 2 1 1 2 2 1 1 2 2 1 1 2 2 1 1 2 2 1 1 2 2 1 1\n",
       "[39] 2 2"
      ]
     },
     "metadata": {},
     "output_type": "display_data"
    },
    {
     "data": {
      "text/html": [
       "<ol class=list-inline>\n",
       "\t<li>5</li>\n",
       "\t<li>10</li>\n",
       "\t<li>1</li>\n",
       "\t<li>7</li>\n",
       "\t<li>8</li>\n",
       "\t<li>4</li>\n",
       "\t<li>9</li>\n",
       "\t<li>3</li>\n",
       "\t<li>6</li>\n",
       "\t<li>2</li>\n",
       "</ol>\n"
      ],
      "text/latex": [
       "\\begin{enumerate*}\n",
       "\\item 5\n",
       "\\item 10\n",
       "\\item 1\n",
       "\\item 7\n",
       "\\item 8\n",
       "\\item 4\n",
       "\\item 9\n",
       "\\item 3\n",
       "\\item 6\n",
       "\\item 2\n",
       "\\end{enumerate*}\n"
      ],
      "text/markdown": [
       "1. 5\n",
       "2. 10\n",
       "3. 1\n",
       "4. 7\n",
       "5. 8\n",
       "6. 4\n",
       "7. 9\n",
       "8. 3\n",
       "9. 6\n",
       "10. 2\n",
       "\n",
       "\n"
      ],
      "text/plain": [
       " [1]  5 10  1  7  8  4  9  3  6  2"
      ]
     },
     "metadata": {},
     "output_type": "display_data"
    },
    {
     "data": {
      "text/html": [
       "<ol class=list-inline>\n",
       "\t<li>9</li>\n",
       "\t<li>6</li>\n",
       "\t<li>9</li>\n",
       "\t<li>10</li>\n",
       "\t<li>6</li>\n",
       "\t<li>3</li>\n",
       "\t<li>8</li>\n",
       "\t<li>4</li>\n",
       "\t<li>10</li>\n",
       "\t<li>3</li>\n",
       "</ol>\n"
      ],
      "text/latex": [
       "\\begin{enumerate*}\n",
       "\\item 9\n",
       "\\item 6\n",
       "\\item 9\n",
       "\\item 10\n",
       "\\item 6\n",
       "\\item 3\n",
       "\\item 8\n",
       "\\item 4\n",
       "\\item 10\n",
       "\\item 3\n",
       "\\end{enumerate*}\n"
      ],
      "text/markdown": [
       "1. 9\n",
       "2. 6\n",
       "3. 9\n",
       "4. 10\n",
       "5. 6\n",
       "6. 3\n",
       "7. 8\n",
       "8. 4\n",
       "9. 10\n",
       "10. 3\n",
       "\n",
       "\n"
      ],
      "text/plain": [
       " [1]  9  6  9 10  6  3  8  4 10  3"
      ]
     },
     "metadata": {},
     "output_type": "display_data"
    }
   ],
   "source": [
    "rep(c(1,2),10,each=2)\n",
    "sample(1:10,10,replace=F) # 1~10까지 숫자를 10개 선택. \n",
    "sample(1:10,10,replace=T) # 반복 허용."
   ]
  },
  {
   "cell_type": "code",
   "execution_count": 23,
   "metadata": {
    "collapsed": false
   },
   "outputs": [
    {
     "data": {
      "text/html": [
       "<ol class=list-inline>\n",
       "\t<li>1</li>\n",
       "\t<li>2</li>\n",
       "\t<li>3</li>\n",
       "\t<li>4</li>\n",
       "\t<li>5</li>\n",
       "</ol>\n"
      ],
      "text/latex": [
       "\\begin{enumerate*}\n",
       "\\item 1\n",
       "\\item 2\n",
       "\\item 3\n",
       "\\item 4\n",
       "\\item 5\n",
       "\\end{enumerate*}\n"
      ],
      "text/markdown": [
       "1. 1\n",
       "2. 2\n",
       "3. 3\n",
       "4. 4\n",
       "5. 5\n",
       "\n",
       "\n"
      ],
      "text/plain": [
       "[1] 1 2 3 4 5"
      ]
     },
     "metadata": {},
     "output_type": "display_data"
    },
    {
     "name": "stdout",
     "output_type": "stream",
     "text": [
      "[1] 1\n",
      "[1] 3\n",
      "[1] 5\n",
      "[1] 7\n",
      "[1] 9\n",
      "[1] 0\n",
      "[1] 1\n",
      "[1] 2\n",
      "[1] 3\n",
      "[1] 4\n",
      "[1] 5\n",
      "[1] 6\n",
      "[1] 7\n",
      "[1] 8\n",
      "[1] 9\n",
      "[1] 10\n"
     ]
    }
   ],
   "source": [
    "seq_along(seq(1,10,2))  # seq(1,10,2) => 1,3,5,7,9 이지만 인댁스 생성\n",
    "\n",
    "a <- seq(1,10,2)\n",
    "\n",
    "for(i in seq_along(seq_along(a))){\n",
    "  print(a[i])\n",
    "}\n",
    "i = 0\n",
    "while(i<=10){\n",
    "  print(i)\n",
    "  i = i + 1\n",
    "}"
   ]
  },
  {
   "cell_type": "markdown",
   "metadata": {},
   "source": [
    "### which"
   ]
  },
  {
   "cell_type": "code",
   "execution_count": 24,
   "metadata": {
    "collapsed": false
   },
   "outputs": [
    {
     "data": {
      "text/html": [
       "<ol class=list-inline>\n",
       "\t<li>1</li>\n",
       "\t<li>2</li>\n",
       "\t<li>3</li>\n",
       "\t<li>4</li>\n",
       "\t<li>5</li>\n",
       "</ol>\n"
      ],
      "text/latex": [
       "\\begin{enumerate*}\n",
       "\\item 1\n",
       "\\item 2\n",
       "\\item 3\n",
       "\\item 4\n",
       "\\item 5\n",
       "\\end{enumerate*}\n"
      ],
      "text/markdown": [
       "1. 1\n",
       "2. 2\n",
       "3. 3\n",
       "4. 4\n",
       "5. 5\n",
       "\n",
       "\n"
      ],
      "text/plain": [
       "[1] 1 2 3 4 5"
      ]
     },
     "metadata": {},
     "output_type": "display_data"
    },
    {
     "data": {
      "text/html": [
       "<ol class=list-inline>\n",
       "\t<li>10</li>\n",
       "\t<li>9</li>\n",
       "\t<li>8</li>\n",
       "\t<li>7</li>\n",
       "\t<li>6</li>\n",
       "</ol>\n"
      ],
      "text/latex": [
       "\\begin{enumerate*}\n",
       "\\item 10\n",
       "\\item 9\n",
       "\\item 8\n",
       "\\item 7\n",
       "\\item 6\n",
       "\\end{enumerate*}\n"
      ],
      "text/markdown": [
       "1. 10\n",
       "2. 9\n",
       "3. 8\n",
       "4. 7\n",
       "5. 6\n",
       "\n",
       "\n"
      ],
      "text/plain": [
       "[1] 10  9  8  7  6"
      ]
     },
     "metadata": {},
     "output_type": "display_data"
    }
   ],
   "source": [
    "x <- 10:1\n",
    "which(x>5)\n",
    "x[x>5]"
   ]
  },
  {
   "cell_type": "markdown",
   "metadata": {},
   "source": [
    "###  집합, 샘플링 "
   ]
  },
  {
   "cell_type": "code",
   "execution_count": 15,
   "metadata": {
    "collapsed": false
   },
   "outputs": [
    {
     "name": "stdout",
     "output_type": "stream",
     "text": [
      "[1]  3  4  6 10  3\n",
      "[1]  2  8  6  2 10\n",
      "[1] 3 4\n",
      "[1] 2 8\n",
      "[1]  6 10\n",
      "[1]  3  4  6 10  2  8\n",
      "[1] 5\n"
     ]
    }
   ],
   "source": [
    "set.seed(1)\n",
    "myVector <- sample(1:10, 5, replace=TRUE)\n",
    "print(myVector)\n",
    "set.seed(2)\n",
    "herVector <- sample(1:10, 5, replace=TRUE)\n",
    "print(herVector)\n",
    "print(setdiff(myVector, herVector)) #  3,4 차집합. // 앞 데이터를 기준으로 앞에 꺼가 뒤에 없는 것만 보여주기\n",
    "print(setdiff(herVector, myVector))\n",
    "print(intersect(myVector, herVector))  # 교집합\n",
    "print(union(myVector, herVector))  #합집합\n",
    "\n",
    "print(length(myVector))"
   ]
  },
  {
   "cell_type": "markdown",
   "metadata": {},
   "source": [
    " ## 행렬"
   ]
  },
  {
   "cell_type": "code",
   "execution_count": 27,
   "metadata": {
    "collapsed": false
   },
   "outputs": [
    {
     "data": {
      "text/html": [
       "<table>\n",
       "<tbody>\n",
       "\t<tr><td>1</td><td>2</td><td>3</td></tr>\n",
       "\t<tr><td>4</td><td>5</td><td>6</td></tr>\n",
       "\t<tr><td>7</td><td>8</td><td>9</td></tr>\n",
       "</tbody>\n",
       "</table>\n"
      ],
      "text/latex": [
       "\\begin{tabular}{lll}\n",
       "\t 1 & 2 & 3\\\\\n",
       "\t 4 & 5 & 6\\\\\n",
       "\t 7 & 8 & 9\\\\\n",
       "\\end{tabular}\n"
      ],
      "text/markdown": [
       "1. 1\n",
       "2. 4\n",
       "3. 7\n",
       "4. 2\n",
       "5. 5\n",
       "6. 8\n",
       "7. 3\n",
       "8. 6\n",
       "9. 9\n",
       "\n",
       "\n"
      ],
      "text/plain": [
       "     [,1] [,2] [,3]\n",
       "[1,]    1    2    3\n",
       "[2,]    4    5    6\n",
       "[3,]    7    8    9"
      ]
     },
     "metadata": {},
     "output_type": "display_data"
    },
    {
     "data": {
      "text/html": [
       "<table>\n",
       "<tbody>\n",
       "\t<tr><td>1</td><td>4</td><td>7</td></tr>\n",
       "\t<tr><td>2</td><td>5</td><td>8</td></tr>\n",
       "\t<tr><td>3</td><td>6</td><td>9</td></tr>\n",
       "</tbody>\n",
       "</table>\n"
      ],
      "text/latex": [
       "\\begin{tabular}{lll}\n",
       "\t 1 & 4 & 7\\\\\n",
       "\t 2 & 5 & 8\\\\\n",
       "\t 3 & 6 & 9\\\\\n",
       "\\end{tabular}\n"
      ],
      "text/markdown": [
       "1. 1\n",
       "2. 2\n",
       "3. 3\n",
       "4. 4\n",
       "5. 5\n",
       "6. 6\n",
       "7. 7\n",
       "8. 8\n",
       "9. 9\n",
       "\n",
       "\n"
      ],
      "text/plain": [
       "     [,1] [,2] [,3]\n",
       "[1,]    1    4    7\n",
       "[2,]    2    5    8\n",
       "[3,]    3    6    9"
      ]
     },
     "metadata": {},
     "output_type": "display_data"
    },
    {
     "data": {
      "text/html": [
       "<table>\n",
       "<tbody>\n",
       "\t<tr><td>1</td><td>4</td><td>7</td></tr>\n",
       "\t<tr><td>2</td><td>5</td><td>8</td></tr>\n",
       "\t<tr><td>3</td><td>6</td><td>9</td></tr>\n",
       "</tbody>\n",
       "</table>\n"
      ],
      "text/latex": [
       "\\begin{tabular}{lll}\n",
       "\t 1 & 4 & 7\\\\\n",
       "\t 2 & 5 & 8\\\\\n",
       "\t 3 & 6 & 9\\\\\n",
       "\\end{tabular}\n"
      ],
      "text/markdown": [
       "1. 1\n",
       "2. 2\n",
       "3. 3\n",
       "4. 4\n",
       "5. 5\n",
       "6. 6\n",
       "7. 7\n",
       "8. 8\n",
       "9. 9\n",
       "\n",
       "\n"
      ],
      "text/plain": [
       "     [,1] [,2] [,3]\n",
       "[1,]    1    4    7\n",
       "[2,]    2    5    8\n",
       "[3,]    3    6    9"
      ]
     },
     "metadata": {},
     "output_type": "display_data"
    },
    {
     "name": "stdout",
     "output_type": "stream",
     "text": [
      "   c1 c2 c3\n",
      "r1  1  2  3\n",
      "r2  4  5  6\n",
      "r3  7  8  9\n",
      "[1] 3 3\n"
     ]
    }
   ],
   "source": [
    "tmp_7 = matrix(c(1,2,3,4,5,6,7,8,9),nrow=3,ncol=3,byrow = TRUE)\n",
    "tmp_7\n",
    "tmp_8 = matrix(c(1,2,3,4,5,6,7,8,9),nrow=3,ncol=3,byrow = FALSE)\n",
    "tmp_8\n",
    "t(tmp_7)\n",
    "rownames(tmp_7) = c(\"r1\",\"r2\",\"r3\")\n",
    "colnames(tmp_7) = c(\"c1\",\"c2\",\"c3\")\n",
    "print(tmp_7)\n",
    "print(dim(tmp_7))"
   ]
  },
  {
   "cell_type": "code",
   "execution_count": 28,
   "metadata": {
    "collapsed": false
   },
   "outputs": [
    {
     "name": "stderr",
     "output_type": "stream",
     "text": [
      "Warning message:\n",
      "In matrix(1:19, nrow = 4, ncol = 5): 데이터의 길이[19]가 행의 개수[4]의 배수가 되지 않습니다"
     ]
    },
    {
     "data": {
      "text/html": [
       "<table>\n",
       "<tbody>\n",
       "\t<tr><td> 1</td><td> 5</td><td> 9</td><td>13</td><td>17</td></tr>\n",
       "\t<tr><td> 2</td><td> 6</td><td>10</td><td>14</td><td>18</td></tr>\n",
       "\t<tr><td> 3</td><td> 7</td><td>11</td><td>15</td><td>19</td></tr>\n",
       "\t<tr><td> 4</td><td> 8</td><td>12</td><td>16</td><td> 1</td></tr>\n",
       "</tbody>\n",
       "</table>\n"
      ],
      "text/latex": [
       "\\begin{tabular}{lllll}\n",
       "\t  1 &  5 &  9 & 13 & 17\\\\\n",
       "\t  2 &  6 & 10 & 14 & 18\\\\\n",
       "\t  3 &  7 & 11 & 15 & 19\\\\\n",
       "\t  4 &  8 & 12 & 16 &  1\\\\\n",
       "\\end{tabular}\n"
      ],
      "text/markdown": [
       "1. 1\n",
       "2. 2\n",
       "3. 3\n",
       "4. 4\n",
       "5. 5\n",
       "6. 6\n",
       "7. 7\n",
       "8. 8\n",
       "9. 9\n",
       "10. 10\n",
       "11. 11\n",
       "12. 12\n",
       "13. 13\n",
       "14. 14\n",
       "15. 15\n",
       "16. 16\n",
       "17. 17\n",
       "18. 18\n",
       "19. 19\n",
       "20. 1\n",
       "\n",
       "\n"
      ],
      "text/plain": [
       "     [,1] [,2] [,3] [,4] [,5]\n",
       "[1,]    1    5    9   13   17\n",
       "[2,]    2    6   10   14   18\n",
       "[3,]    3    7   11   15   19\n",
       "[4,]    4    8   12   16    1"
      ]
     },
     "metadata": {},
     "output_type": "display_data"
    }
   ],
   "source": [
    "myMatrix <- matrix(1:19, nrow=4, ncol=5)  # 1:20의 경우 4 * 5 완성, 1:19 모자란 값은 1부터 다시 \n",
    "myMatrix"
   ]
  },
  {
   "cell_type": "code",
   "execution_count": 25,
   "metadata": {
    "collapsed": false
   },
   "outputs": [
    {
     "data": {
      "text/html": [
       "<table>\n",
       "<thead><tr><th></th><th scope=col>c1</th><th scope=col>c2</th><th scope=col>c3</th></tr></thead>\n",
       "<tbody>\n",
       "\t<tr><th scope=row>r1</th><td> 1</td><td> 8</td><td>21</td></tr>\n",
       "\t<tr><th scope=row>r2</th><td> 8</td><td>25</td><td>48</td></tr>\n",
       "\t<tr><th scope=row>r3</th><td>21</td><td>48</td><td>81</td></tr>\n",
       "</tbody>\n",
       "</table>\n"
      ],
      "text/latex": [
       "\\begin{tabular}{r|lll}\n",
       "  & c1 & c2 & c3\\\\\n",
       "\\hline\n",
       "\tr1 &  1 &  8 & 21\\\\\n",
       "\tr2 &  8 & 25 & 48\\\\\n",
       "\tr3 & 21 & 48 & 81\\\\\n",
       "\\end{tabular}\n"
      ],
      "text/markdown": [
       "1. 1\n",
       "2. 8\n",
       "3. 21\n",
       "4. 8\n",
       "5. 25\n",
       "6. 48\n",
       "7. 21\n",
       "8. 48\n",
       "9. 81\n",
       "\n",
       "\n"
      ],
      "text/plain": [
       "   c1 c2 c3\n",
       "r1  1  8 21\n",
       "r2  8 25 48\n",
       "r3 21 48 81"
      ]
     },
     "metadata": {},
     "output_type": "display_data"
    },
    {
     "data": {
      "text/html": [
       "<table>\n",
       "<tbody>\n",
       "\t<tr><th scope=row>r1</th><td>14</td><td>32</td><td>50</td></tr>\n",
       "\t<tr><th scope=row>r2</th><td> 32</td><td> 77</td><td>122</td></tr>\n",
       "\t<tr><th scope=row>r3</th><td> 50</td><td>122</td><td>194</td></tr>\n",
       "</tbody>\n",
       "</table>\n"
      ],
      "text/latex": [
       "\\begin{tabular}{r|lll}\n",
       "\tr1 & 14 & 32 & 50\\\\\n",
       "\tr2 &  32 &  77 & 122\\\\\n",
       "\tr3 &  50 & 122 & 194\\\\\n",
       "\\end{tabular}\n"
      ],
      "text/markdown": [
       "1. 14\n",
       "2. 32\n",
       "3. 50\n",
       "4. 32\n",
       "5. 77\n",
       "6. 122\n",
       "7. 50\n",
       "8. 122\n",
       "9. 194\n",
       "\n",
       "\n"
      ],
      "text/plain": [
       "   [,1] [,2] [,3]\n",
       "r1   14   32   50\n",
       "r2   32   77  122\n",
       "r3   50  122  194"
      ]
     },
     "metadata": {},
     "output_type": "display_data"
    }
   ],
   "source": [
    "tmp_7 * tmp_8  # 일반 곱하기 각 행 각 열에 맞게 \n",
    "tmp_7 %*% tmp_8  # 행렬의 곱을 하려면 %*%"
   ]
  },
  {
   "cell_type": "markdown",
   "metadata": {},
   "source": [
    "### Data.Frame"
   ]
  },
  {
   "cell_type": "code",
   "execution_count": 29,
   "metadata": {
    "collapsed": false
   },
   "outputs": [
    {
     "name": "stdout",
     "output_type": "stream",
     "text": [
      "'data.frame':\t5 obs. of  4 variables:\n",
      " $ C1: num  1 3 5 7 9\n",
      " $ C2: num  2 4 6 8 10\n",
      " $ C3: chr  \"A\" \"B\" \"C\" \"D\" ...\n",
      " $ C4: chr  \"A\" \"B\" \"C\" \"D\" ...\n"
     ]
    }
   ],
   "source": [
    "tmp_9 = data.frame(c(1,3,5,7,9),c(2,4,6,8,10))\n",
    "colnames(tmp_9) = c(\"C1\",\"C2\")\n",
    "tmp_9$C3 = c(\"A\",\"B\",\"C\",\"D\",\"E\")\n",
    "tmp_9$C4 = c(\"A\",\"B\",\"C\",\"D\",\"\")\n",
    "str(tmp_9)   # 세로별 데이터 형태는 동일해야하나 가로별로는 다른 형태가 들어가도 된다. "
   ]
  },
  {
   "cell_type": "markdown",
   "metadata": {},
   "source": [
    "### Array"
   ]
  },
  {
   "cell_type": "code",
   "execution_count": 31,
   "metadata": {
    "collapsed": false
   },
   "outputs": [
    {
     "name": "stdout",
     "output_type": "stream",
     "text": [
      ", , 1\n",
      "\n",
      "     [,1] [,2] [,3] [,4] [,5]\n",
      "[1,]   60   56   52   48   44\n",
      "[2,]   59   55   51   47   43\n",
      "[3,]   58   54   50   46   42\n",
      "[4,]   57   53   49   45   41\n",
      "\n",
      ", , 2\n",
      "\n",
      "     [,1] [,2] [,3] [,4] [,5]\n",
      "[1,]   40   36   32   28   24\n",
      "[2,]   39   35   31   27   23\n",
      "[3,]   38   34   30   26   22\n",
      "[4,]   37   33   29   25   21\n",
      "\n",
      ", , 1, 1\n",
      "\n",
      "     [,1] [,2] [,3] [,4] [,5]\n",
      "[1,]    1    5    9   13   17\n",
      "[2,]    2    6   10   14   18\n",
      "[3,]    3    7   11   15   19\n",
      "[4,]    4    8   12   16   20\n",
      "\n",
      ", , 2, 1\n",
      "\n",
      "     [,1] [,2] [,3] [,4] [,5]\n",
      "[1,]   21   25   29   33   37\n",
      "[2,]   22   26   30   34   38\n",
      "[3,]   23   27   31   35   39\n",
      "[4,]   24   28   32   36   40\n",
      "\n",
      ", , 3, 1\n",
      "\n",
      "     [,1] [,2] [,3] [,4] [,5]\n",
      "[1,]   41   45   49   53   57\n",
      "[2,]   42   46   50   54   58\n",
      "[3,]   43   47   51   55   59\n",
      "[4,]   44   48   52   56   60\n",
      "\n",
      ", , 1, 2\n",
      "\n",
      "     [,1] [,2] [,3] [,4] [,5]\n",
      "[1,]   61   65   69   73   77\n",
      "[2,]   62   66   70   74   78\n",
      "[3,]   63   67   71   75   79\n",
      "[4,]   64   68   72   76   80\n",
      "\n",
      ", , 2, 2\n",
      "\n",
      "     [,1] [,2] [,3] [,4] [,5]\n",
      "[1,]   81   85   89   93   97\n",
      "[2,]   82   86   90   94   98\n",
      "[3,]   83   87   91   95   99\n",
      "[4,]   84   88   92   96  100\n",
      "\n",
      ", , 3, 2\n",
      "\n",
      "     [,1] [,2] [,3] [,4] [,5]\n",
      "[1,]  101  105  109  113  117\n",
      "[2,]  102  106  110  114  118\n",
      "[3,]  103  107  111  115  119\n",
      "[4,]  104  108  112  116  120\n",
      "\n"
     ]
    }
   ],
   "source": [
    "shortArray <- array(60:1, dim=c(4,5,2)) \n",
    "print(shortArray)\n",
    "\n",
    "fourdimArray <- array(1:120, dim=c(4,5,3,2)) \n",
    "print(fourdimArray)"
   ]
  }
 ],
 "metadata": {
  "kernelspec": {
   "display_name": "R 3.3",
   "language": "R",
   "name": "ir33"
  },
  "language_info": {
   "codemirror_mode": "r",
   "file_extension": ".r",
   "mimetype": "text/x-r-source",
   "name": "R",
   "pygments_lexer": "r",
   "version": "3.3.1"
  }
 },
 "nbformat": 4,
 "nbformat_minor": 0
}
