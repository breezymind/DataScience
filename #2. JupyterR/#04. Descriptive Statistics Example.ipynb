{
 "cells": [
  {
   "cell_type": "markdown",
   "metadata": {},
   "source": [
    "# Descriptive Statistics ( 기술 통계 ) 예제\n",
    " - 해당 내용은 알까기 2를 참조 하였습니다. "
   ]
  },
  {
   "cell_type": "code",
   "execution_count": 12,
   "metadata": {
    "collapsed": false
   },
   "outputs": [
    {
     "data": {
      "text/html": [
       "<table>\n",
       "<thead><tr><th></th><th scope=col>연령</th><th scope=col>월급여액..원.</th><th scope=col>연간특별급여액..원.</th><th scope=col>근로시간..시간.</th><th scope=col>근로자수..명.</th><th scope=col>경력구분</th><th scope=col>성별</th></tr></thead>\n",
       "<tbody>\n",
       "\t<tr><th scope=row>1</th><td>-19    </td><td>1346534</td><td>151840 </td><td>169.5  </td><td>15042  </td><td>1년미만</td><td>남     </td></tr>\n",
       "\t<tr><th scope=row>2</th><td>20-24  </td><td>1584214</td><td>115375 </td><td>180.1  </td><td>74251  </td><td>1년미만</td><td>남     </td></tr>\n",
       "\t<tr><th scope=row>3</th><td>25-29  </td><td>1922043</td><td>268058 </td><td>178    </td><td>143338 </td><td>1년미만</td><td>남     </td></tr>\n",
       "</tbody>\n",
       "</table>\n"
      ],
      "text/latex": [
       "\\begin{tabular}{r|lllllll}\n",
       "  & 연령 & 월급여액..원. & 연간특별급여액..원. & 근로시간..시간. & 근로자수..명. & 경력구분 & 성별\\\\\n",
       "\\hline\n",
       "\t1 & -19     & 1346534 & 151840  & 169.5   & 15042   & 1년미만 & 남     \\\\\n",
       "\t2 & 20-24   & 1584214 & 115375  & 180.1   & 74251   & 1년미만 & 남     \\\\\n",
       "\t3 & 25-29   & 1922043 & 268058  & 178     & 143338  & 1년미만 & 남     \\\\\n",
       "\\end{tabular}\n"
      ],
      "text/plain": [
       "   연령 월급여액..원. 연간특별급여액..원. 근로시간..시간. 근로자수..명.\n",
       "1   -19       1346534              151840           169.5         15042\n",
       "2 20-24       1584214              115375           180.1         74251\n",
       "3 25-29       1922043              268058           178.0        143338\n",
       "  경력구분 성별\n",
       "1  1년미만   남\n",
       "2  1년미만   남\n",
       "3  1년미만   남"
      ]
     },
     "metadata": {},
     "output_type": "display_data"
    },
    {
     "data": {
      "text/plain": [
       "      연령    월급여액..원.     연간특별급여액..원. 근로시간..시간.\n",
       " -19    :10   Min.   :1117605   Min.   :   10667    Min.   :148.0  \n",
       " 20-24  :10   1st Qu.:1689658   1st Qu.:  743343    1st Qu.:170.0  \n",
       " 25-29  :10   Median :2120345   Median : 2395252    Median :178.1  \n",
       " 30-34  :10   Mean   :2171578   Mean   : 3258394    Mean   :177.8  \n",
       " 35-39  :10   3rd Qu.:2519221   3rd Qu.: 5167805    3rd Qu.:183.9  \n",
       " 40-44  :10   Max.   :4064286   Max.   :13252036    Max.   :226.0  \n",
       " (Other):40   NA's   :2         NA's   :3           NA's   :2      \n",
       " 근로자수..명.          경력구분  성별   \n",
       " Min.   :    12   1~3년미만 :20   남:50  \n",
       " 1st Qu.: 32572   10년이상  :20   여:50  \n",
       " Median : 60158   1년미만   :20          \n",
       " Mean   : 88612   3~5년미만 :20          \n",
       " 3rd Qu.:100779   5~10년미만:20          \n",
       " Max.   :533852                          \n",
       " NA's   :2                               "
      ]
     },
     "metadata": {},
     "output_type": "display_data"
    }
   ],
   "source": [
    "DF <- read.csv(\"data/example_salary.csv\",stringsAsFactors = T,na =\"-\") # na is \"-\"\n",
    "head(DF,3)\n",
    "summary(DF)\n",
    "colnames(DF) <- c(\"age\",\"salary\",\"specialSalary\",\"workingTime\",\"numberOfWorker\",\"career\",\"sex\")"
   ]
  },
  {
   "cell_type": "code",
   "execution_count": 13,
   "metadata": {
    "collapsed": false
   },
   "outputs": [
    {
     "name": "stdout",
     "output_type": "stream",
     "text": [
      "'data.frame':\t100 obs. of  7 variables:\n",
      " $ age           : Factor w/ 10 levels \"-19\",\"20-24\",..: 1 2 3 4 5 6 7 8 9 10 ...\n",
      " $ salary        : num  1346534 1584214 1922043 2130988 2414345 ...\n",
      " $ specialSalary : num  151840 115375 268058 335710 352816 ...\n",
      " $ workingTime   : num  170 180 178 181 181 ...\n",
      " $ numberOfWorker: num  15042 74251 143338 103585 65385 ...\n",
      " $ career        : Factor w/ 5 levels \"1~3년미만\",\"10년이상\",..: 3 3 3 3 3 3 3 3 3 3 ...\n",
      " $ sex           : Factor w/ 2 levels \"남\",\"여\": 1 1 1 1 1 1 1 1 1 1 ...\n"
     ]
    }
   ],
   "source": [
    "str(DF)"
   ]
  },
  {
   "cell_type": "code",
   "execution_count": 16,
   "metadata": {
    "collapsed": false
   },
   "outputs": [
    {
     "data": {
      "text/html": [
       "2171577.83673469"
      ],
      "text/latex": [
       "2171577.83673469"
      ],
      "text/markdown": [
       "2171577.83673469"
      ],
      "text/plain": [
       "[1] 2171578"
      ]
     },
     "metadata": {},
     "output_type": "display_data"
    }
   ],
   "source": [
    "Mean <- mean(DF$salary,na.rm=T)\n",
    "Mean"
   ]
  },
  {
   "cell_type": "code",
   "execution_count": 19,
   "metadata": {
    "collapsed": false
   },
   "outputs": [
    {
     "data": {
      "text/html": [
       "2120345"
      ],
      "text/latex": [
       "2120345"
      ],
      "text/markdown": [
       "2120345"
      ],
      "text/plain": [
       "[1] 2120345"
      ]
     },
     "metadata": {},
     "output_type": "display_data"
    },
    {
     "data": {
      "text/html": [
       "<ol class=list-inline>\n",
       "\t<li>1117605</li>\n",
       "\t<li>4064286</li>\n",
       "</ol>\n"
      ],
      "text/latex": [
       "\\begin{enumerate*}\n",
       "\\item 1117605\n",
       "\\item 4064286\n",
       "\\end{enumerate*}\n"
      ],
      "text/markdown": [
       "1. 1117605\n",
       "2. 4064286\n",
       "\n",
       "\n"
      ],
      "text/plain": [
       "[1] 1117605 4064286"
      ]
     },
     "metadata": {},
     "output_type": "display_data"
    }
   ],
   "source": [
    "Mid <- median(DF$salary,na.rm=T)\n",
    "Mid\n",
    "Range <- range(DF$salary,na.rm=T)\n",
    "Range"
   ]
  },
  {
   "cell_type": "code",
   "execution_count": 21,
   "metadata": {
    "collapsed": false
   },
   "outputs": [
    {
     "data": {
      "text/html": [
       "<table>\n",
       "<thead><tr><th></th><th scope=col>age</th><th scope=col>salary</th><th scope=col>specialSalary</th><th scope=col>workingTime</th><th scope=col>numberOfWorker</th><th scope=col>career</th><th scope=col>sex</th></tr></thead>\n",
       "<tbody>\n",
       "\t<tr><th scope=row>48</th><td>50-54   </td><td>4064286 </td><td>12716896</td><td>178.2   </td><td>439450  </td><td>10년이상</td><td>남      </td></tr>\n",
       "</tbody>\n",
       "</table>\n"
      ],
      "text/latex": [
       "\\begin{tabular}{r|lllllll}\n",
       "  & age & salary & specialSalary & workingTime & numberOfWorker & career & sex\\\\\n",
       "\\hline\n",
       "\t48 & 50-54    & 4064286  & 12716896 & 178.2    & 439450   & 10년이상 & 남      \\\\\n",
       "\\end{tabular}\n"
      ],
      "text/plain": [
       "     age  salary specialSalary workingTime numberOfWorker   career sex\n",
       "48 50-54 4064286      12716896       178.2         439450 10년이상  남"
      ]
     },
     "metadata": {},
     "output_type": "display_data"
    }
   ],
   "source": [
    "w <- which(DF$salary==4064286)\n",
    "DF[w,]"
   ]
  },
  {
   "cell_type": "code",
   "execution_count": 25,
   "metadata": {
    "collapsed": false
   },
   "outputs": [
    {
     "data": {
      "text/html": [
       "<dl class=dl-horizontal>\n",
       "\t<dt>0%</dt>\n",
       "\t\t<dd>1117605</dd>\n",
       "\t<dt>25%</dt>\n",
       "\t\t<dd>1689658.25</dd>\n",
       "\t<dt>50%</dt>\n",
       "\t\t<dd>2120345</dd>\n",
       "\t<dt>75%</dt>\n",
       "\t\t<dd>2519221.25</dd>\n",
       "\t<dt>100%</dt>\n",
       "\t\t<dd>4064286</dd>\n",
       "</dl>\n"
      ],
      "text/latex": [
       "\\begin{description*}\n",
       "\\item[0\\textbackslash{}\\%] 1117605\n",
       "\\item[25\\textbackslash{}\\%] 1689658.25\n",
       "\\item[50\\textbackslash{}\\%] 2120345\n",
       "\\item[75\\textbackslash{}\\%] 2519221.25\n",
       "\\item[100\\textbackslash{}\\%] 4064286\n",
       "\\end{description*}\n"
      ],
      "text/markdown": [
       "0%\n",
       ":   111760525%\n",
       ":   1689658.2550%\n",
       ":   212034575%\n",
       ":   2519221.25100%\n",
       ":   4064286\n",
       "\n"
      ],
      "text/plain": [
       "     0%     25%     50%     75%    100% \n",
       "1117605 1689658 2120345 2519221 4064286 "
      ]
     },
     "metadata": {},
     "output_type": "display_data"
    }
   ],
   "source": [
    "Qnt <- quantile(DF$salary,na.rm=T)\n",
    "Qnt"
   ]
  },
  {
   "cell_type": "code",
   "execution_count": 28,
   "metadata": {
    "collapsed": false
   },
   "outputs": [
    {
     "data": {
      "text/html": [
       "<dl>\n",
       "\t<dt>$평균월급</dt>\n",
       "\t\t<dd>2171577.83673469</dd>\n",
       "\t<dt>$중앙값월급</dt>\n",
       "\t\t<dd>2120345</dd>\n",
       "\t<dt>$월급번위</dt>\n",
       "\t\t<dd><ol class=list-inline>\n",
       "\t<li>1117605</li>\n",
       "\t<li>4064286</li>\n",
       "</ol>\n",
       "</dd>\n",
       "\t<dt>$월급사분위</dt>\n",
       "\t\t<dd><dl class=dl-horizontal>\n",
       "\t<dt>0%</dt>\n",
       "\t\t<dd>1117605</dd>\n",
       "\t<dt>25%</dt>\n",
       "\t\t<dd>1689658.25</dd>\n",
       "\t<dt>50%</dt>\n",
       "\t\t<dd>2120345</dd>\n",
       "\t<dt>75%</dt>\n",
       "\t\t<dd>2519221.25</dd>\n",
       "\t<dt>100%</dt>\n",
       "\t\t<dd>4064286</dd>\n",
       "</dl>\n",
       "</dd>\n",
       "</dl>\n"
      ],
      "text/latex": [
       "\\begin{description}\n",
       "\\item[\\$평균월급] 2171577.83673469\n",
       "\\item[\\$중앙값월급] 2120345\n",
       "\\item[\\$월급번위] \\begin{enumerate*}\n",
       "\\item 1117605\n",
       "\\item 4064286\n",
       "\\end{enumerate*}\n",
       "\n",
       "\\item[\\$월급사분위] \\begin{description*}\n",
       "\\item[0\\textbackslash{}\\%] 1117605\n",
       "\\item[25\\textbackslash{}\\%] 1689658.25\n",
       "\\item[50\\textbackslash{}\\%] 2120345\n",
       "\\item[75\\textbackslash{}\\%] 2519221.25\n",
       "\\item[100\\textbackslash{}\\%] 4064286\n",
       "\\end{description*}\n",
       "\n",
       "\\end{description}\n"
      ],
      "text/markdown": [
       "$평균월급\n",
       ":   2171577.83673469\n",
       "$중앙값월급\n",
       ":   2120345\n",
       "$월급번위\n",
       ":   1. 1117605\n",
       "2. 4064286\n",
       "\n",
       "\n",
       "\n",
       "$월급사분위\n",
       ":   0%\n",
       ":   111760525%\n",
       ":   1689658.2550%\n",
       ":   212034575%\n",
       ":   2519221.25100%\n",
       ":   4064286\n",
       "\n",
       "\n",
       "\n",
       "\n"
      ],
      "text/plain": [
       "$평균월급\n",
       "[1] 2171578\n",
       "\n",
       "$중앙값월급\n",
       "[1] 2120345\n",
       "\n",
       "$월급번위\n",
       "[1] 1117605 4064286\n",
       "\n",
       "$월급사분위\n",
       "     0%     25%     50%     75%    100% \n",
       "1117605 1689658 2120345 2519221 4064286 \n"
      ]
     },
     "metadata": {},
     "output_type": "display_data"
    }
   ],
   "source": [
    "SelfSummary <- function(x){\n",
    "  Mean <- mean(x,na.rm=T)\n",
    "  Mid <- median(x,na.rm=T)\n",
    "  Range <- range(x,na.rm=T)\n",
    "  Qnt <- quantile(x,na.rm=T)\n",
    "  Result <- list(평균월급=Mean,중앙값월급=Mid,월급번위=Range, 월급사분위 = Qnt)\n",
    "  return(Result)\n",
    "}\n",
    "\n",
    "Result <- SelfSummary(DF$salary)\n",
    "Result"
   ]
  }
 ],
 "metadata": {
  "kernelspec": {
   "display_name": "R 3.3",
   "language": "R",
   "name": "ir33"
  },
  "language_info": {
   "codemirror_mode": "r",
   "file_extension": ".r",
   "mimetype": "text/x-r-source",
   "name": "R",
   "pygments_lexer": "r",
   "version": "3.3.1"
  }
 },
 "nbformat": 4,
 "nbformat_minor": 0
}
