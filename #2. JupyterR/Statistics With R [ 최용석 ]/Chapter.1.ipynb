{
 "cells": [
  {
   "cell_type": "markdown",
   "metadata": {},
   "source": [
    "# Chapter 1\n",
    "\n",
    "## 자료\n",
    " - 자료는 측정변수의 성질에 따라 일반적으로 \n",
    " - 질적 자료(qualitative data)\n",
    "  - 질적 자료는 변수가 달리기(1=달리기를 한 사람, 2=달리기를 하지 않은 사람), 흡연(1=흡연자, 2=비흡연자), 성별(1=남자, 2=여자), 운동량(1=적음, 2=보통, 3=많음)에 의해서 측정된 자료 즉, 질적이란 개체인 측정대상이 어느 범주에 들어가는지를 나타내며 이를 범주형 자료(categorical data)라고도 한다.\n",
    " - 양적 자료(quantitative data)로 나눌 수 있고 이들 두 가지가 혼합된 경우가 대부분이다.  \n",
    "  - 양적 자료는 변수가 처음 심장박동수, 나중 심장 박동수, 키(cm), 몸무게(kg)와 같이 양을 나타내는 수치자료를 말한다."
   ]
  },
  {
   "cell_type": "markdown",
   "metadata": {},
   "source": []
  }
 ],
 "metadata": {
  "kernelspec": {
   "display_name": "R 3.3",
   "language": "R",
   "name": "ir33"
  },
  "language_info": {
   "codemirror_mode": "r",
   "file_extension": ".r",
   "mimetype": "text/x-r-source",
   "name": "R",
   "pygments_lexer": "r",
   "version": "3.3.1"
  }
 },
 "nbformat": 4,
 "nbformat_minor": 0
}
