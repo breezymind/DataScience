{
 "cells": [
  {
   "cell_type": "markdown",
   "metadata": {},
   "source": [
    "# TextMining\n",
    "  https://www.lucypark.kr/courses/2015-ba/text-mining.html  참고 "
   ]
  },
  {
   "cell_type": "markdown",
   "metadata": {},
   "source": [
    "## Before install konlpy \n",
    " - http://www.lfd.uci.edu/~gohlke/pythonlibs/#jpype \n",
    " - download jpype matching python version \n",
    " - install jpype.whl file \n",
    " - pip install .whl file"
   ]
  },
  {
   "cell_type": "markdown",
   "metadata": {},
   "source": [
    "## Terminologies\n",
    "\n",
    "<p><table class=\"table\"><tr><th>English</th><th>한국어</th><th>Description</th></tr><tr><td>Document</td><td>문서</td><td>-</td></tr><tr><td>Corpus</td><td>말뭉치</td><td>A set of documents</td></tr><tr><td>Token</td><td>토큰</td><td>Meaningful elements in a text such as words or phrases or symbols</td></tr><tr><td>Morphemes</td><td>형태소</td><td>Smallest meaningful unit in a language</td></tr><tr><td>POS</td><td>품사</td><td>Part-of-speech (ex: Nouns)</td></tr><tr><td>Classification</td><td>분류</td><td>A supervised learning task where $X$ and $y$ are given and $y$ is a set of discrete classes</td></tr><tr><td>Clustering</td><td>군집화</td><td>An unsupervised learning task where $X$ is given</td></tr></table></p>\n",
    "\n",
    "## Text analysis process\n",
    " 1. Load text\n",
    " 2. Tokenize text (ex: stemming, morph analyzing)\n",
    " 3. Tag tokens (ex: POS, NER)\n",
    " 4. Token(Feature) selection and/or filter/rank tokens (ex: stopword removal, TF-IDF)\n",
    " 5. ...and so on (ex: calculate word/document similarities, cluster documents)"
   ]
  },
  {
   "cell_type": "code",
   "execution_count": 22,
   "metadata": {
    "collapsed": true
   },
   "outputs": [],
   "source": [
    "%matplotlib inline\n",
    "import matplotlib\n",
    "matplotlib.rc('font', family='HYsanB')  # 한글 폰트 설정"
   ]
  },
  {
   "cell_type": "markdown",
   "metadata": {},
   "source": [
    "## Python Packages for Text Mining and NLP"
   ]
  },
  {
   "cell_type": "code",
   "execution_count": 9,
   "metadata": {
    "collapsed": true
   },
   "outputs": [],
   "source": [
    "import nltk"
   ]
  },
  {
   "cell_type": "code",
   "execution_count": 10,
   "metadata": {
    "collapsed": false
   },
   "outputs": [
    {
     "name": "stdout",
     "output_type": "stream",
     "text": [
      "[nltk_data] Downloading package gutenberg to\n",
      "[nltk_data]     C:\\Users\\byung\\AppData\\Roaming\\nltk_data...\n",
      "[nltk_data]   Package gutenberg is already up-to-date!\n",
      "[nltk_data] Downloading package maxent_treebank_pos_tagger to\n",
      "[nltk_data]     C:\\Users\\byung\\AppData\\Roaming\\nltk_data...\n",
      "[nltk_data]   Package maxent_treebank_pos_tagger is already up-to-\n",
      "[nltk_data]       date!\n"
     ]
    },
    {
     "data": {
      "text/plain": [
       "True"
      ]
     },
     "execution_count": 10,
     "metadata": {},
     "output_type": "execute_result"
    }
   ],
   "source": [
    "nltk.download('gutenberg')\n",
    "nltk.download('maxent_treebank_pos_tagger')"
   ]
  },
  {
   "cell_type": "markdown",
   "metadata": {},
   "source": [
    "## Text exploration"
   ]
  },
  {
   "cell_type": "markdown",
   "metadata": {},
   "source": [
    "## 1. Read document\n",
    "### English"
   ]
  },
  {
   "cell_type": "code",
   "execution_count": 33,
   "metadata": {
    "collapsed": true
   },
   "outputs": [],
   "source": [
    "from nltk.corpus import gutenberg   # Docs from project gutenberg.org\n",
    "files_en = gutenberg.fileids()      # Get file ids\n",
    "doc_en = gutenberg.open('austen-emma.txt').read()"
   ]
  },
  {
   "cell_type": "markdown",
   "metadata": {},
   "source": [
    "### Korean"
   ]
  },
  {
   "cell_type": "code",
   "execution_count": 12,
   "metadata": {
    "collapsed": false
   },
   "outputs": [],
   "source": [
    "from konlpy.corpus import kobill    # Docs from pokr.kr/bill\n",
    "files_ko = kobill.fileids()         # Get file ids\n",
    "doc_ko = kobill.open('1809890.txt').read()"
   ]
  },
  {
   "cell_type": "markdown",
   "metadata": {},
   "source": [
    "## 2. Tokenize\n",
    " - There are numerous ways to tokenize a document.\n",
    " - Here, we use nltk.regexp_tokenize for English, konlpy.tag.Twitter.morph for Korean text."
   ]
  },
  {
   "cell_type": "markdown",
   "metadata": {},
   "source": [
    "### english"
   ]
  },
  {
   "cell_type": "code",
   "execution_count": 34,
   "metadata": {
    "collapsed": true
   },
   "outputs": [],
   "source": [
    "from nltk import regexp_tokenize\n",
    "pattern = r'''(?x) ([A-Z]\\.)+ | \\w+(-\\w+)* | \\$?\\d+(\\.\\d+)?%? | \\.\\.\\. | [][.,;\"'?():-_`]'''\n",
    "tokens_en = regexp_tokenize(doc_en, pattern)"
   ]
  },
  {
   "cell_type": "markdown",
   "metadata": {},
   "source": [
    "### Korean"
   ]
  },
  {
   "cell_type": "code",
   "execution_count": 14,
   "metadata": {
    "collapsed": false
   },
   "outputs": [],
   "source": [
    "from konlpy.tag import Twitter; t = Twitter()\n",
    "tokens_ko = t.morphs(doc_ko)"
   ]
  },
  {
   "cell_type": "markdown",
   "metadata": {},
   "source": [
    "## 3. Load tokens with nltk.Text()"
   ]
  },
  {
   "cell_type": "markdown",
   "metadata": {},
   "source": [
    "## english"
   ]
  },
  {
   "cell_type": "code",
   "execution_count": 35,
   "metadata": {
    "collapsed": true
   },
   "outputs": [],
   "source": [
    "import nltk\n",
    "en = nltk.Text(tokens_en)"
   ]
  },
  {
   "cell_type": "markdown",
   "metadata": {},
   "source": [
    "## korean"
   ]
  },
  {
   "cell_type": "code",
   "execution_count": 17,
   "metadata": {
    "collapsed": true
   },
   "outputs": [],
   "source": [
    "import nltk\n",
    "ko = nltk.Text(tokens_ko, name='대한민국 국회 의안 제 1809890호')   # For Python 2, input `name` as u'유니코드'"
   ]
  },
  {
   "cell_type": "markdown",
   "metadata": {},
   "source": [
    "### 3-1 Tokens"
   ]
  },
  {
   "cell_type": "code",
   "execution_count": 36,
   "metadata": {
    "collapsed": false
   },
   "outputs": [
    {
     "name": "stdout",
     "output_type": "stream",
     "text": [
      "191061\n",
      "232\n"
     ]
    },
    {
     "data": {
      "text/plain": [
       "FreqDist({('', '', ''): 190496,\n",
       "          ('', '-Churchill', ''): 1,\n",
       "          ('', '-Hart_', ''): 1,\n",
       "          ('', '-JULY', ''): 1,\n",
       "          ('', '-Mill', ''): 7,\n",
       "          ('', '-Weston', ''): 1,\n",
       "          ('', '-able', ''): 1,\n",
       "          ('', '-aches', ''): 1,\n",
       "          ('', '-all', ''): 1,\n",
       "          ('', '-approbation', ''): 2,\n",
       "          ('', '-arm', ''): 1,\n",
       "          ('', '-arrangement', ''): 1,\n",
       "          ('', '-ashamed', ''): 1,\n",
       "          ('', '-assorted', ''): 1,\n",
       "          ('', '-back', ''): 1,\n",
       "          ('', '-baits', ''): 1,\n",
       "          ('', '-baked', ''): 1,\n",
       "          ('', '-bathing', ''): 2,\n",
       "          ('', '-be', ''): 1,\n",
       "          ('', '-beds', ''): 3,\n",
       "          ('', '-beer', ''): 4,\n",
       "          ('', '-behaved', ''): 2,\n",
       "          ('', '-bestowed', ''): 1,\n",
       "          ('', '-betweens', ''): 1,\n",
       "          ('', '-blanche', ''): 1,\n",
       "          ('', '-boarder', ''): 3,\n",
       "          ('', '-book', ''): 2,\n",
       "          ('', '-boot', ''): 1,\n",
       "          ('', '-boy', ''): 1,\n",
       "          ('', '-bred', ''): 3,\n",
       "          ('', '-breeding', ''): 2,\n",
       "          ('', '-built', ''): 1,\n",
       "          ('', '-by', ''): 2,\n",
       "          ('', '-bye', ''): 3,\n",
       "          ('', '-cake', ''): 5,\n",
       "          ('', '-cakes', ''): 1,\n",
       "          ('', '-candles', ''): 1,\n",
       "          ('', '-careful', ''): 1,\n",
       "          ('', '-chamber', ''): 1,\n",
       "          ('', '-circle', ''): 1,\n",
       "          ('', '-club', ''): 1,\n",
       "          ('', '-colours', ''): 2,\n",
       "          ('', '-command', ''): 5,\n",
       "          ('', '-company', ''): 1,\n",
       "          ('', '-consequence', ''): 1,\n",
       "          ('', '-contentment', ''): 1,\n",
       "          ('', '-controul', ''): 1,\n",
       "          ('', '-craig', ''): 1,\n",
       "          ('', '-curtain', ''): 1,\n",
       "          ('', '-dance', ''): 1,\n",
       "          ('', '-dances', ''): 1,\n",
       "          ('', '-day', ''): 31,\n",
       "          ('', '-deceived', ''): 1,\n",
       "          ('', '-declined', ''): 1,\n",
       "          ('', '-denial', ''): 1,\n",
       "          ('', '-denying', ''): 1,\n",
       "          ('', '-desk', ''): 2,\n",
       "          ('', '-disposed', ''): 1,\n",
       "          ('', '-doing', ''): 1,\n",
       "          ('', '-door', ''): 3,\n",
       "          ('', '-draper', ''): 3,\n",
       "          ('', '-dumpling', ''): 1,\n",
       "          ('', '-dumplings', ''): 1,\n",
       "          ('', '-dyed', ''): 1,\n",
       "          ('', '-east', ''): 1,\n",
       "          ('', '-eight', ''): 1,\n",
       "          ('', '-equipped', ''): 1,\n",
       "          ('', '-errantry', ''): 1,\n",
       "          ('', '-estate', ''): 1,\n",
       "          ('', '-examination', ''): 1,\n",
       "          ('', '-existence', ''): 1,\n",
       "          ('', '-expectant', ''): 1,\n",
       "          ('', '-fact', ''): 1,\n",
       "          ('', '-fame', ''): 1,\n",
       "          ('', '-farm', ''): 1,\n",
       "          ('', '-farmer', ''): 1,\n",
       "          ('', '-fashioned', ''): 2,\n",
       "          ('', '-father', ''): 1,\n",
       "          ('', '-felt', ''): 1,\n",
       "          ('', '-fever', ''): 1,\n",
       "          ('', '-five', ''): 2,\n",
       "          ('', '-four', ''): 3,\n",
       "          ('', '-fresco', ''): 1,\n",
       "          ('', '-furnished', ''): 1,\n",
       "          ('', '-gammon', ''): 1,\n",
       "          ('', '-gate', ''): 3,\n",
       "          ('', '-gentlemen', ''): 1,\n",
       "          ('', '-girl', ''): 1,\n",
       "          ('', '-glance', ''): 1,\n",
       "          ('', '-glass', ''): 1,\n",
       "          ('', '-grown', ''): 1,\n",
       "          ('', '-hand', ''): 1,\n",
       "          ('', '-headed', ''): 2,\n",
       "          ('', '-health', ''): 4,\n",
       "          ('', '-hearted', ''): 12,\n",
       "          ('', '-heartedness', ''): 1,\n",
       "          ('', '-horse', ''): 1,\n",
       "          ('', '-horses', ''): 2,\n",
       "          ('', '-hour', ''): 6,\n",
       "          ('', '-house', ''): 3,\n",
       "          ('', '-humour', ''): 7,\n",
       "          ('', '-humoured', ''): 6,\n",
       "          ('', '-humouredly', ''): 2,\n",
       "          ('', '-important', ''): 1,\n",
       "          ('', '-informed', ''): 3,\n",
       "          ('', '-ing', ''): 1,\n",
       "          ('', '-interest', ''): 1,\n",
       "          ('', '-judged', ''): 2,\n",
       "          ('', '-judging', ''): 3,\n",
       "          ('', '-judgment', ''): 1,\n",
       "          ('', '-known', ''): 2,\n",
       "          ('', '-land', ''): 1,\n",
       "          ('', '-landau', ''): 7,\n",
       "          ('', '-lashes', ''): 2,\n",
       "          ('', '-law', ''): 12,\n",
       "          ('', '-length', ''): 2,\n",
       "          ('', '-lengths', ''): 2,\n",
       "          ('', '-like', ''): 3,\n",
       "          ('', '-looking', ''): 7,\n",
       "          ('', '-luck', ''): 1,\n",
       "          ('', '-ma', ''): 1,\n",
       "          ('', '-maids', ''): 1,\n",
       "          ('', '-making', ''): 6,\n",
       "          ('', '-mama', ''): 1,\n",
       "          ('', '-master', ''): 1,\n",
       "          ('', '-meaning', ''): 4,\n",
       "          ('', '-minded', ''): 3,\n",
       "          ('', '-morrow', ''): 27,\n",
       "          ('', '-morrows', ''): 2,\n",
       "          ('', '-mourners', ''): 1,\n",
       "          ('', '-moving', ''): 1,\n",
       "          ('', '-nature', ''): 4,\n",
       "          ('', '-natured', ''): 6,\n",
       "          ('', '-night', ''): 1,\n",
       "          ('', '-nights', ''): 1,\n",
       "          ('', '-nine', ''): 1,\n",
       "          ('', '-nothing', ''): 1,\n",
       "          ('', '-off', ''): 1,\n",
       "          ('', '-office', ''): 8,\n",
       "          ('', '-on', ''): 1,\n",
       "          ('', '-one', ''): 1,\n",
       "          ('', '-out', ''): 4,\n",
       "          ('', '-pace', ''): 1,\n",
       "          ('', '-pan', ''): 1,\n",
       "          ('', '-parlour', ''): 1,\n",
       "          ('', '-parties', ''): 6,\n",
       "          ('', '-party', ''): 2,\n",
       "          ('', '-people', ''): 1,\n",
       "          ('', '-pieces', ''): 1,\n",
       "          ('', '-pies', ''): 1,\n",
       "          ('', '-place', ''): 3,\n",
       "          ('', '-plaister', ''): 9,\n",
       "          ('', '-players', ''): 1,\n",
       "          ('', '-plot', ''): 1,\n",
       "          ('', '-ponds', ''): 1,\n",
       "          ('', '-powered', ''): 2,\n",
       "          ('', '-present', ''): 1,\n",
       "          ('', '-pressed', ''): 1,\n",
       "          ('', '-quarter', ''): 2,\n",
       "          ('', '-quarters', ''): 2,\n",
       "          ('', '-rate', ''): 6,\n",
       "          ('', '-ridden', ''): 1,\n",
       "          ('', '-ringing', ''): 1,\n",
       "          ('', '-room', ''): 34,\n",
       "          ('', '-root', ''): 1,\n",
       "          ('', '-salt', ''): 1,\n",
       "          ('', '-salted', ''): 1,\n",
       "          ('', '-satisfied', ''): 1,\n",
       "          ('', '-school', ''): 1,\n",
       "          ('', '-screen', ''): 1,\n",
       "          ('', '-second', ''): 1,\n",
       "          ('', '-seven', ''): 1,\n",
       "          ('', '-shortening', ''): 1,\n",
       "          ('', '-sighted', ''): 2,\n",
       "          ('', '-sized', ''): 4,\n",
       "          ('', '-so', ''): 1,\n",
       "          ('', '-spoken', ''): 1,\n",
       "          ('', '-standing', ''): 2,\n",
       "          ('', '-street', ''): 3,\n",
       "          ('', '-stricken', ''): 1,\n",
       "          ('', '-struck', ''): 1,\n",
       "          ('', '-sufficiency', ''): 1,\n",
       "          ('', '-syllables', ''): 1,\n",
       "          ('', '-table', ''): 3,\n",
       "          ('', '-tables', ''): 1,\n",
       "          ('', '-taking', ''): 2,\n",
       "          ('', '-tart', ''): 1,\n",
       "          ('', '-tarts', ''): 1,\n",
       "          ('', '-tattle', ''): 1,\n",
       "          ('', '-teacher', ''): 1,\n",
       "          ('', '-temper', ''): 1,\n",
       "          ('', '-tempered', ''): 9,\n",
       "          ('', '-tete', ''): 4,\n",
       "          ('', '-thirty', ''): 2,\n",
       "          ('', '-throat', ''): 1,\n",
       "          ('', '-throats', ''): 1,\n",
       "          ('', '-throw', ''): 1,\n",
       "          ('', '-tied', ''): 1,\n",
       "          ('', '-time', ''): 2,\n",
       "          ('', '-timed', ''): 1,\n",
       "          ('', '-to', ''): 1,\n",
       "          ('', '-trade', ''): 3,\n",
       "          ('', '-trees', ''): 1,\n",
       "          ('', '-trimmed', ''): 2,\n",
       "          ('', '-twenty', ''): 16,\n",
       "          ('', '-up', ''): 4,\n",
       "          ('', '-urged', ''): 1,\n",
       "          ('', '-usage', ''): 2,\n",
       "          ('', '-visit', ''): 1,\n",
       "          ('', '-visiting', ''): 1,\n",
       "          ('', '-walk', ''): 1,\n",
       "          ('', '-ware', ''): 1,\n",
       "          ('', '-way', ''): 1,\n",
       "          ('', '-whisper', ''): 2,\n",
       "          ('', '-will', ''): 14,\n",
       "          ('', '-willed', ''): 1,\n",
       "          ('', '-window', ''): 1,\n",
       "          ('', '-wink', ''): 1,\n",
       "          ('', '-work', ''): 3,\n",
       "          ('', '-written', ''): 1,\n",
       "          ('', '-yards', ''): 1,\n",
       "          ('', '-year', ''): 1,\n",
       "          ('A.', '', ''): 2,\n",
       "          ('C.', '', ''): 2,\n",
       "          ('E.', '', ''): 11,\n",
       "          ('F.', '', ''): 3,\n",
       "          ('I.', '', ''): 1,\n",
       "          ('K.', '', ''): 1,\n",
       "          ('M.', '', ''): 2,\n",
       "          ('N.', '', ''): 1,\n",
       "          ('S.', '', ''): 2,\n",
       "          ('W.', '', ''): 4})"
      ]
     },
     "execution_count": 36,
     "metadata": {},
     "output_type": "execute_result"
    }
   ],
   "source": [
    "print(len(en.tokens))       # returns number of tokens (document length)\n",
    "print(len(set(en.tokens)))  # returns number of unique tokens\n",
    "en.vocab()                  # returns frequency distribution"
   ]
  },
  {
   "cell_type": "code",
   "execution_count": 19,
   "metadata": {
    "collapsed": false
   },
   "outputs": [
    {
     "name": "stdout",
     "output_type": "stream",
     "text": [
      "1707\n",
      "476\n"
     ]
    },
    {
     "data": {
      "text/plain": [
       "FreqDist({'%': 10,\n",
       "          '(': 27,\n",
       "          ')': 26,\n",
       "          ').': 1,\n",
       "          '+': 3,\n",
       "          ',': 26,\n",
       "          '-': 21,\n",
       "          '--------': 1,\n",
       "          '----------': 1,\n",
       "          '-------------------------': 1,\n",
       "          '---------------------------': 2,\n",
       "          '----------------------------': 4,\n",
       "          '--------------.': 1,\n",
       "          '-------------.---------------': 1,\n",
       "          '.': 61,\n",
       "          '/': 1,\n",
       "          '0': 5,\n",
       "          '02': 1,\n",
       "          '056': 1,\n",
       "          '1': 13,\n",
       "          '10': 6,\n",
       "          '11': 2,\n",
       "          '12': 1,\n",
       "          '145': 1,\n",
       "          '184': 1,\n",
       "          '185': 1,\n",
       "          '19': 1,\n",
       "          '2': 11,\n",
       "          '20': 1,\n",
       "          '200': 2,\n",
       "          '2007': 3,\n",
       "          '2008': 1,\n",
       "          '2009': 1,\n",
       "          '2010': 3,\n",
       "          '2011': 6,\n",
       "          '21': 2,\n",
       "          '29': 1,\n",
       "          '291': 1,\n",
       "          '3': 8,\n",
       "          '30': 1,\n",
       "          '34': 1,\n",
       "          '35': 1,\n",
       "          '396': 1,\n",
       "          '4': 8,\n",
       "          '40': 7,\n",
       "          '400': 1,\n",
       "          '41': 1,\n",
       "          '428': 1,\n",
       "          '43': 1,\n",
       "          '44': 1,\n",
       "          '4649': 1,\n",
       "          '5': 12,\n",
       "          '50': 1,\n",
       "          '571': 1,\n",
       "          '6': 16,\n",
       "          '600': 1,\n",
       "          '63': 5,\n",
       "          '658': 1,\n",
       "          '7': 6,\n",
       "          '71': 1,\n",
       "          '788': 1,\n",
       "          '796': 1,\n",
       "          '8': 12,\n",
       "          '836': 2,\n",
       "          '899': 1,\n",
       "          '9': 1,\n",
       "          '923': 1,\n",
       "          '929': 1,\n",
       "          '957': 1,\n",
       "          '9890': 1,\n",
       "          ':': 10,\n",
       "          '>': 5,\n",
       "          'A': 2,\n",
       "          'B': 2,\n",
       "          'N': 10,\n",
       "          'P': 9,\n",
       "          'X': 7,\n",
       "          '[': 4,\n",
       "          ']': 4,\n",
       "          'p': 6,\n",
       "          'tanzania@assembly.go.kr': 1,\n",
       "          '~': 1,\n",
       "          '·': 1,\n",
       "          '×': 17,\n",
       "          '“': 2,\n",
       "          '”': 2,\n",
       "          '․': 11,\n",
       "          '∼': 2,\n",
       "          '⋅': 2,\n",
       "          '①': 2,\n",
       "          '②': 2,\n",
       "          '③⋅④': 2,\n",
       "          '가': 16,\n",
       "          '가능': 4,\n",
       "          '가능한': 1,\n",
       "          '가정': 7,\n",
       "          '각': 1,\n",
       "          '값': 2,\n",
       "          '같': 4,\n",
       "          '같다': 2,\n",
       "          '같이': 2,\n",
       "          '개': 1,\n",
       "          '개정': 8,\n",
       "          '개정안': 3,\n",
       "          '거나': 1,\n",
       "          '것': 6,\n",
       "          '것임': 2,\n",
       "          '경비': 1,\n",
       "          '경우': 16,\n",
       "          '고': 5,\n",
       "          '고용': 14,\n",
       "          '고용노동부': 3,\n",
       "          '곧': 1,\n",
       "          '공': 1,\n",
       "          '공무원': 10,\n",
       "          '공포': 1,\n",
       "          '과': 11,\n",
       "          '관련': 2,\n",
       "          '관한': 2,\n",
       "          '교육': 4,\n",
       "          '구조': 1,\n",
       "          '국가': 2,\n",
       "          '국가공무원': 2,\n",
       "          '국회예산정책처': 2,\n",
       "          '권': 1,\n",
       "          '규정': 1,\n",
       "          '규칙': 1,\n",
       "          '그리고': 2,\n",
       "          '그만': 1,\n",
       "          '근거': 1,\n",
       "          '근로자': 3,\n",
       "          '급': 5,\n",
       "          '급여': 8,\n",
       "          '급할': 1,\n",
       "          '기': 1,\n",
       "          '기간': 1,\n",
       "          '기업체': 1,\n",
       "          '기자': 1,\n",
       "          '김': 1,\n",
       "          '김을동': 1,\n",
       "          '김정훈': 1,\n",
       "          '김학송': 1,\n",
       "          '까지': 1,\n",
       "          '까지의': 1,\n",
       "          '나': 1,\n",
       "          '나이': 2,\n",
       "          '날': 1,\n",
       "          '남녀': 1,\n",
       "          '내용': 1,\n",
       "          '년': 7,\n",
       "          '논의': 1,\n",
       "          '느': 1,\n",
       "          '는': 10,\n",
       "          '늘어날': 1,\n",
       "          '다': 23,\n",
       "          '다고': 4,\n",
       "          '다만': 1,\n",
       "          '다시': 1,\n",
       "          '다음': 5,\n",
       "          '단서': 1,\n",
       "          '단위': 1,\n",
       "          '달': 1,\n",
       "          '대': 1,\n",
       "          '대비하여': 1,\n",
       "          '대상': 2,\n",
       "          '대상자': 3,\n",
       "          '대입': 1,\n",
       "          '대체': 16,\n",
       "          '대통령령': 1,\n",
       "          '대표': 1,\n",
       "          '대한': 1,\n",
       "          '더': 2,\n",
       "          '델': 1,\n",
       "          '도': 2,\n",
       "          '돌보기': 1,\n",
       "          '동': 1,\n",
       "          '되': 2,\n",
       "          '되는': 1,\n",
       "          '되어': 1,\n",
       "          '되었': 1,\n",
       "          '된': 2,\n",
       "          '두어': 1,\n",
       "          '등': 1,\n",
       "          '따뜻한': 1,\n",
       "          '따라': 7,\n",
       "          '따라서': 3,\n",
       "          '따르': 2,\n",
       "          '따른': 2,\n",
       "          '때': 1,\n",
       "          '때문': 2,\n",
       "          '또는': 2,\n",
       "          '라': 1,\n",
       "          '라고': 1,\n",
       "          '라도': 1,\n",
       "          '략': 4,\n",
       "          '령': 1,\n",
       "          '로': 13,\n",
       "          '로서': 1,\n",
       "          '를': 18,\n",
       "          '만': 19,\n",
       "          '만들': 1,\n",
       "          '만원': 3,\n",
       "          '많은': 1,\n",
       "          '말한': 2,\n",
       "          '며': 1,\n",
       "          '면': 4,\n",
       "          '명': 5,\n",
       "          '모': 1,\n",
       "          '모델': 1,\n",
       "          '무': 1,\n",
       "          '문': 1,\n",
       "          '문대비': 1,\n",
       "          '문제': 1,\n",
       "          '므': 1,\n",
       "          '미': 3,\n",
       "          '미만': 2,\n",
       "          '및': 4,\n",
       "          '바탕': 2,\n",
       "          '박영아': 1,\n",
       "          '받는': 7,\n",
       "          '받던': 1,\n",
       "          '발': 1,\n",
       "          '발생': 3,\n",
       "          '발생하는': 4,\n",
       "          '발생하지': 3,\n",
       "          '발생한': 9,\n",
       "          '발의': 2,\n",
       "          '배': 1,\n",
       "          '번': 1,\n",
       "          '법': 4,\n",
       "          '법령': 2,\n",
       "          '법률': 7,\n",
       "          '법안': 1,\n",
       "          '변수': 1,\n",
       "          '보기': 1,\n",
       "          '보다': 2,\n",
       "          '보살핌': 1,\n",
       "          '보여': 2,\n",
       "          '보인': 2,\n",
       "          '보자': 1,\n",
       "          '볼': 1,\n",
       "          '부': 1,\n",
       "          '부모': 1,\n",
       "          '부모님': 1,\n",
       "          '부터': 2,\n",
       "          '분석관': 1,\n",
       "          '비': 1,\n",
       "          '비례': 1,\n",
       "          '비용': 17,\n",
       "          '사': 1,\n",
       "          '사랑': 1,\n",
       "          '사유': 3,\n",
       "          '사정': 1,\n",
       "          '상향': 1,\n",
       "          '생': 4,\n",
       "          '서': 3,\n",
       "          '세': 16,\n",
       "          '세로': 1,\n",
       "          '세이': 1,\n",
       "          '소요': 3,\n",
       "          '수': 7,\n",
       "          '수가': 1,\n",
       "          '수급': 2,\n",
       "          '수리': 1,\n",
       "          '수반': 1,\n",
       "          '수식': 5,\n",
       "          '순': 1,\n",
       "          '시키는': 1,\n",
       "          '시행': 2,\n",
       "          '신': 1,\n",
       "          '신청': 2,\n",
       "          '신청할': 1,\n",
       "          '실제': 1,\n",
       "          '아': 2,\n",
       "          '안': 6,\n",
       "          '안규백': 1,\n",
       "          '않': 4,\n",
       "          '않는': 2,\n",
       "          '않은': 1,\n",
       "          '알아보기': 2,\n",
       "          '액': 17,\n",
       "          '야': 2,\n",
       "          '양립': 1,\n",
       "          '양육': 2,\n",
       "          '어': 1,\n",
       "          '어느': 1,\n",
       "          '억원': 2,\n",
       "          '없으': 1,\n",
       "          '에': 24,\n",
       "          '에게': 7,\n",
       "          '에는': 4,\n",
       "          '에도': 2,\n",
       "          '에서': 11,\n",
       "          '에서는': 1,\n",
       "          '여': 12,\n",
       "          '여가': 1,\n",
       "          '여기': 1,\n",
       "          '여배': 1,\n",
       "          '여부': 2,\n",
       "          '여상규': 1,\n",
       "          '여의': 1,\n",
       "          '여자': 1,\n",
       "          '연': 2,\n",
       "          '연감': 1,\n",
       "          '연령': 8,\n",
       "          '연월일': 1,\n",
       "          '연장': 1,\n",
       "          '예산': 1,\n",
       "          '예상': 1,\n",
       "          '예상되는': 1,\n",
       "          '예상된': 3,\n",
       "          '예상됨': 1,\n",
       "          '예정': 1,\n",
       "          '와': 4,\n",
       "          '완': 1,\n",
       "          '요인': 1,\n",
       "          '용': 1,\n",
       "          '원': 3,\n",
       "          '원하면': 1,\n",
       "          '월': 8,\n",
       "          '월급': 9,\n",
       "          '위': 5,\n",
       "          '위하': 1,\n",
       "          '위하여': 2,\n",
       "          '위해서': 1,\n",
       "          '육': 2,\n",
       "          '육아': 1,\n",
       "          '육아휴직': 38,\n",
       "          '율': 1,\n",
       "          '으로': 7,\n",
       "          '은': 12,\n",
       "          '을': 34,\n",
       "          '음': 4,\n",
       "          '의': 46,\n",
       "          '의안': 1,\n",
       "          '의욕': 1,\n",
       "          '의원': 2,\n",
       "          '이': 26,\n",
       "          '이고': 1,\n",
       "          '이기': 1,\n",
       "          '이나': 2,\n",
       "          '이는': 1,\n",
       "          '이다': 2,\n",
       "          '이러한': 1,\n",
       "          '이며': 1,\n",
       "          '이명수': 1,\n",
       "          '이사철': 1,\n",
       "          '이상': 5,\n",
       "          '이어질': 1,\n",
       "          '이용': 1,\n",
       "          '이유': 1,\n",
       "          '이하': 18,\n",
       "          '인': 5,\n",
       "          '인건비': 2,\n",
       "          '인데': 1,\n",
       "          '인력': 13,\n",
       "          '인원': 1,\n",
       "          '일': 1,\n",
       "          '일반': 1,\n",
       "          '일부': 4,\n",
       "          '일용직': 1,\n",
       "          '일자리': 1,\n",
       "          '임금': 1,\n",
       "          '임신': 1,\n",
       "          '임용': 2,\n",
       "          '있': 1,\n",
       "          '있는': 2,\n",
       "          '있다': 3,\n",
       "          '있어': 1,\n",
       "          '있으': 1,\n",
       "          '자': 24,\n",
       "          '자녀': 14,\n",
       "          '자는': 1,\n",
       "          '자료': 6,\n",
       "          '작성': 1,\n",
       "          '작성자': 1,\n",
       "          '작성하면': 1,\n",
       "          '장': 1,\n",
       "          '재정': 4,\n",
       "          '저하': 1,\n",
       "          '저학년': 2,\n",
       "          '적': 1,\n",
       "          '전': 2,\n",
       "          '정': 3,\n",
       "          '정도': 1,\n",
       "          '정리하면': 1,\n",
       "          '정의': 1,\n",
       "          '정의화': 2,\n",
       "          '정확하게': 1,\n",
       "          '제': 13,\n",
       "          '제안': 1,\n",
       "          '조': 3,\n",
       "          '조정함': 2,\n",
       "          '조제': 7,\n",
       "          '종': 1,\n",
       "          '주': 2,\n",
       "          '주로': 1,\n",
       "          '주요': 1,\n",
       "          '주지': 2,\n",
       "          '중': 6,\n",
       "          '중인': 2,\n",
       "          '지': 2,\n",
       "          '지급': 3,\n",
       "          '지급하는': 2,\n",
       "          '지급하던': 2,\n",
       "          '지급해야': 2,\n",
       "          '지방': 5,\n",
       "          '지방공무원법': 4,\n",
       "          '지원': 1,\n",
       "          '직': 2,\n",
       "          '차': 1,\n",
       "          '차이': 1,\n",
       "          '채용': 1,\n",
       "          '첨부': 3,\n",
       "          '초등학교': 6,\n",
       "          '총': 1,\n",
       "          '추가': 8,\n",
       "          '추계': 4,\n",
       "          '추정': 1,\n",
       "          '추진': 1,\n",
       "          '출산': 2,\n",
       "          '취': 1,\n",
       "          '취학': 3,\n",
       "          '칙': 1,\n",
       "          '크': 2,\n",
       "          '태': 1,\n",
       "          '통계': 2,\n",
       "          '특별한': 1,\n",
       "          '팀': 2,\n",
       "          '평균': 2,\n",
       "          '평등': 1,\n",
       "          '표': 5,\n",
       "          '필요': 1,\n",
       "          '필요하거': 1,\n",
       "          '하': 1,\n",
       "          '하게': 1,\n",
       "          '하고': 5,\n",
       "          '하기': 2,\n",
       "          '하나': 1,\n",
       "          '하는': 1,\n",
       "          '하더': 2,\n",
       "          '하려': 1,\n",
       "          '하면': 1,\n",
       "          '하여': 5,\n",
       "          '하자': 1,\n",
       "          '하지': 1,\n",
       "          '학': 1,\n",
       "          '학년': 2,\n",
       "          '한': 12,\n",
       "          '한시': 1,\n",
       "          '할': 5,\n",
       "          '항': 3,\n",
       "          '항제': 4,\n",
       "          '해당': 1,\n",
       "          '해당하는': 1,\n",
       "          '해당한': 1,\n",
       "          '해당함': 1,\n",
       "          '행': 1,\n",
       "          '행정안전부': 2,\n",
       "          '현': 1,\n",
       "          '현재': 3,\n",
       "          '현행': 4,\n",
       "          '현행법': 1,\n",
       "          '현황': 3,\n",
       "          '호': 8,\n",
       "          '호의': 1,\n",
       "          '확대': 1,\n",
       "          '확대됨': 1,\n",
       "          '확률': 5,\n",
       "          '활용하는': 1,\n",
       "          '황영철': 1,\n",
       "          '휴': 2,\n",
       "          '휴직': 6,\n",
       "          '힘들': 1,\n",
       "          '｢': 5,\n",
       "          '｣': 5})"
      ]
     },
     "execution_count": 19,
     "metadata": {},
     "output_type": "execute_result"
    }
   ],
   "source": [
    "print(len(ko.tokens))       # returns number of tokens (document length)\n",
    "print(len(set(ko.tokens)))  # returns number of unique tokens\n",
    "ko.vocab()                  # returns frequency distribution"
   ]
  },
  {
   "cell_type": "markdown",
   "metadata": {},
   "source": [
    "### 3-2 Plot frequency distributions\n",
    " - english"
   ]
  },
  {
   "cell_type": "code",
   "execution_count": 28,
   "metadata": {
    "collapsed": false
   },
   "outputs": [],
   "source": [
    "from pylab import rcParams\n",
    "rcParams['figure.figsize'] = 10, 5"
   ]
  },
  {
   "cell_type": "code",
   "execution_count": 29,
   "metadata": {
    "collapsed": false
   },
   "outputs": [
    {
     "data": {
      "image/png": "[encoded data removed]",
      "text/plain": [
       "<matplotlib.figure.Figure at 0x1c5a21f6908>"
      ]
     },
     "metadata": {},
     "output_type": "display_data"
    }
   ],
   "source": [
    "en.plot(50)     # Plot sorted frequency of top 50 tokens"
   ]
  },
  {
   "cell_type": "markdown",
   "metadata": {},
   "source": [
    " - korean"
   ]
  },
  {
   "cell_type": "code",
   "execution_count": 30,
   "metadata": {
    "collapsed": false
   },
   "outputs": [
    {
     "data": {
      "image/png": "[encoded data removed]",
      "text/plain": [
       "<matplotlib.figure.Figure at 0x1c5a1e55a20>"
      ]
     },
     "metadata": {},
     "output_type": "display_data"
    }
   ],
   "source": [
    "ko.plot(50)     # Plot sorted frequency of top 50 tokens"
   ]
  },
  {
   "cell_type": "markdown",
   "metadata": {},
   "source": [
    "### 3-3 count\n",
    " - english"
   ]
  },
  {
   "cell_type": "code",
   "execution_count": 41,
   "metadata": {
    "collapsed": false
   },
   "outputs": [
    {
     "data": {
      "text/plain": [
       "0"
      ]
     },
     "execution_count": 41,
     "metadata": {},
     "output_type": "execute_result"
    }
   ],
   "source": [
    "en.count('Jane')        # Counts occurrences"
   ]
  },
  {
   "cell_type": "markdown",
   "metadata": {},
   "source": [
    " - korean"
   ]
  },
  {
   "cell_type": "code",
   "execution_count": 40,
   "metadata": {
    "collapsed": false
   },
   "outputs": [
    {
     "data": {
      "text/plain": [
       "6"
      ]
     },
     "execution_count": 40,
     "metadata": {},
     "output_type": "execute_result"
    }
   ],
   "source": [
    "ko.count('초등학교')   # Counts occurrences"
   ]
  },
  {
   "cell_type": "markdown",
   "metadata": {},
   "source": [
    "### 3-4 Dispersion plot"
   ]
  },
  {
   "cell_type": "code",
   "execution_count": 42,
   "metadata": {
    "collapsed": false
   },
   "outputs": [
    {
     "data": {
      "image/png": "[encoded data removed]",
      "text/plain": [
       "<matplotlib.figure.Figure at 0x1c5a1f07f60>"
      ]
     },
     "metadata": {},
     "output_type": "display_data"
    }
   ],
   "source": [
    "en.dispersion_plot(['Emma', 'Frank', 'Jane'])"
   ]
  }
 ],
 "metadata": {
  "anaconda-cloud": {},
  "kernelspec": {
   "display_name": "Python [work]",
   "language": "python",
   "name": "Python [work]"
  },
  "language_info": {
   "codemirror_mode": {
    "name": "ipython",
    "version": 3
   },
   "file_extension": ".py",
   "mimetype": "text/x-python",
   "name": "python",
   "nbconvert_exporter": "python",
   "pygments_lexer": "ipython3",
   "version": "3.5.2"
  }
 },
 "nbformat": 4,
 "nbformat_minor": 0
}
