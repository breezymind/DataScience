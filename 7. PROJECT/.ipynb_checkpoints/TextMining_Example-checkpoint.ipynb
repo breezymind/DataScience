{
 "cells": [
  {
   "cell_type": "code",
   "execution_count": 3,
   "metadata": {
    "collapsed": true
   },
   "outputs": [],
   "source": [
    "import nltk"
   ]
  },
  {
   "cell_type": "code",
   "execution_count": 4,
   "metadata": {
    "collapsed": false
   },
   "outputs": [
    {
     "name": "stdout",
     "output_type": "stream",
     "text": [
      "[nltk_data] Downloading package gutenberg to\n",
      "[nltk_data]     C:\\Users\\MCR007\\AppData\\Roaming\\nltk_data...\n",
      "[nltk_data]   Unzipping corpora\\gutenberg.zip.\n",
      "[nltk_data] Downloading package maxent_treebank_pos_tagger to\n",
      "[nltk_data]     C:\\Users\\MCR007\\AppData\\Roaming\\nltk_data...\n",
      "[nltk_data]   Unzipping taggers\\maxent_treebank_pos_tagger.zip.\n"
     ]
    },
    {
     "data": {
      "text/plain": [
       "True"
      ]
     },
     "execution_count": 4,
     "metadata": {},
     "output_type": "execute_result"
    }
   ],
   "source": [
    "nltk.download('gutenberg')\n",
    "nltk.download('maxent_treebank_pos_tagger')"
   ]
  },
  {
   "cell_type": "code",
   "execution_count": 5,
   "metadata": {
    "collapsed": true
   },
   "outputs": [],
   "source": [
    "from nltk.corpus import gutenberg"
   ]
  },
  {
   "cell_type": "code",
   "execution_count": 7,
   "metadata": {
    "collapsed": true
   },
   "outputs": [],
   "source": [
    "files_en = gutenberg.fileids()\n",
    "doc_en = gutenberg.open('austen-emma.txt').read()"
   ]
  },
  {
   "cell_type": "markdown",
   "metadata": {},
   "source": [
    "# 2. Tokenize"
   ]
  },
  {
   "cell_type": "code",
   "execution_count": 9,
   "metadata": {
    "collapsed": true
   },
   "outputs": [],
   "source": [
    "from nltk import regexp_tokenize"
   ]
  },
  {
   "cell_type": "code",
   "execution_count": 10,
   "metadata": {
    "collapsed": true
   },
   "outputs": [],
   "source": [
    "pattern = r'''(?x) ([A-Z]\\.)+ | \\w+(-\\w+)* | \\$?\\d+(\\.\\d+)?%? | \\.\\.\\. | [][.,;\"'?():-_`]'''\n",
    "tokens_en = regexp_tokenize(doc_en, pattern)"
   ]
  },
  {
   "cell_type": "markdown",
   "metadata": {},
   "source": [
    "# 3. Load tokens with nltk.Text()"
   ]
  },
  {
   "cell_type": "code",
   "execution_count": 12,
   "metadata": {
    "collapsed": true
   },
   "outputs": [],
   "source": [
    "import nltk"
   ]
  },
  {
   "cell_type": "code",
   "execution_count": 13,
   "metadata": {
    "collapsed": true
   },
   "outputs": [],
   "source": [
    "en = nltk.Text(tokens_en)"
   ]
  },
  {
   "cell_type": "code",
   "execution_count": 1,
   "metadata": {
    "collapsed": false,
    "scrolled": true
   },
   "outputs": [
    {
     "ename": "NameError",
     "evalue": "name 'en' is not defined",
     "output_type": "error",
     "traceback": [
      "\u001b[1;31m---------------------------------------------------------------------------\u001b[0m",
      "\u001b[1;31mNameError\u001b[0m                                 Traceback (most recent call last)",
      "\u001b[1;32m<ipython-input-1-7d874b70e2af>\u001b[0m in \u001b[0;36m<module>\u001b[1;34m()\u001b[0m\n\u001b[1;32m----> 1\u001b[1;33m \u001b[0mprint\u001b[0m\u001b[1;33m(\u001b[0m\u001b[0mlen\u001b[0m\u001b[1;33m(\u001b[0m\u001b[0men\u001b[0m\u001b[1;33m.\u001b[0m\u001b[0mtokens\u001b[0m\u001b[1;33m)\u001b[0m\u001b[1;33m)\u001b[0m       \u001b[1;31m# returns number of tokens (document length)\u001b[0m\u001b[1;33m\u001b[0m\u001b[0m\n\u001b[0m\u001b[0;32m      2\u001b[0m \u001b[0mprint\u001b[0m\u001b[1;33m(\u001b[0m\u001b[0mlen\u001b[0m\u001b[1;33m(\u001b[0m\u001b[0mset\u001b[0m\u001b[1;33m(\u001b[0m\u001b[0men\u001b[0m\u001b[1;33m.\u001b[0m\u001b[0mtokens\u001b[0m\u001b[1;33m)\u001b[0m\u001b[1;33m)\u001b[0m\u001b[1;33m)\u001b[0m  \u001b[1;31m# returns number of unique tokens\u001b[0m\u001b[1;33m\u001b[0m\u001b[0m\n\u001b[0;32m      3\u001b[0m \u001b[1;31m#en.vocab()                  # returns frequency distribution\u001b[0m\u001b[1;33m\u001b[0m\u001b[1;33m\u001b[0m\u001b[0m\n",
      "\u001b[1;31mNameError\u001b[0m: name 'en' is not defined"
     ]
    }
   ],
   "source": [
    "print(len(en.tokens))       # returns number of tokens (document length)\n",
    "print(len(set(en.tokens)))  # returns number of unique tokens\n",
    "#en.vocab()                  # returns frequency distribution"
   ]
  },
  {
   "cell_type": "code",
   "execution_count": 18,
   "metadata": {
    "collapsed": true
   },
   "outputs": [],
   "source": [
    "%matplotlib inline"
   ]
  },
  {
   "cell_type": "code",
   "execution_count": 19,
   "metadata": {
    "collapsed": false
   },
   "outputs": [
    {
     "data": {
      "image/png": "[encoded data removed]",
      "text/plain": [
       "<matplotlib.figure.Figure at 0xbdfead0>"
      ]
     },
     "metadata": {},
     "output_type": "display_data"
    }
   ],
   "source": [
    "en.plot(50)\n"
   ]
  },
  {
   "cell_type": "code",
   "execution_count": 1,
   "metadata": {
    "collapsed": false
   },
   "outputs": [],
   "source": [
    "from konlpy.tag import Kkma\n",
    "from konlpy.utils import pprint"
   ]
  },
  {
   "cell_type": "code",
   "execution_count": 2,
   "metadata": {
    "collapsed": false
   },
   "outputs": [],
   "source": [
    "kkma = Kkma()"
   ]
  },
  {
   "cell_type": "code",
   "execution_count": 3,
   "metadata": {
    "collapsed": false
   },
   "outputs": [
    {
     "name": "stdout",
     "output_type": "stream",
     "text": [
      "['네, 안녕하세요.', '반갑습니다.']\n"
     ]
    }
   ],
   "source": [
    "pprint(kkma.sentences(u'네, 안녕하세요. 반갑습니다.'))"
   ]
  },
  {
   "cell_type": "code",
   "execution_count": 4,
   "metadata": {
    "collapsed": false
   },
   "outputs": [
    {
     "name": "stdout",
     "output_type": "stream",
     "text": [
      "['질문', '건의', '건의사항', '사항', '깃헙', '이슈', '트래커']\n"
     ]
    }
   ],
   "source": [
    "pprint(kkma.nouns(u'질문이나 건의사항은 깃헙 이슈 트래커에 남겨주세요.'))"
   ]
  },
  {
   "cell_type": "code",
   "execution_count": 5,
   "metadata": {
    "collapsed": false
   },
   "outputs": [
    {
     "name": "stdout",
     "output_type": "stream",
     "text": [
      "[('오류', 'NNG'),\n",
      " ('보고', 'NNG'),\n",
      " ('는', 'JX'),\n",
      " ('실행', 'NNG'),\n",
      " ('환경', 'NNG'),\n",
      " (',', 'SP'),\n",
      " ('에러', 'NNG'),\n",
      " ('메세지', 'NNG'),\n",
      " ('와', 'JKM'),\n",
      " ('함께', 'MAG'),\n",
      " ('설명', 'NNG'),\n",
      " ('을', 'JKO'),\n",
      " ('최대한', 'NNG'),\n",
      " ('상세히', 'MAG'),\n",
      " ('!', 'SF'),\n",
      " ('^^', 'EMO')]\n"
     ]
    }
   ],
   "source": [
    "pprint(kkma.pos(u'오류보고는 실행환경, 에러메세지와함께 설명을 최대한상세히!^^'))"
   ]
  },
  {
   "cell_type": "code",
   "execution_count": 6,
   "metadata": {
    "collapsed": true
   },
   "outputs": [],
   "source": [
    "import pandas as pd"
   ]
  },
  {
   "cell_type": "code",
   "execution_count": 25,
   "metadata": {
    "collapsed": true
   },
   "outputs": [],
   "source": [
    "voc = pd.read_csv(\"VOC.csv\")"
   ]
  },
  {
   "cell_type": "code",
   "execution_count": 26,
   "metadata": {
    "collapsed": true
   },
   "outputs": [],
   "source": [
    "colnames = ['CustomerName','CustomEmail','PatientNumber','Patient','AdminID','CustomTelNumber']"
   ]
  },
  {
   "cell_type": "code",
   "execution_count": 27,
   "metadata": {
    "collapsed": false
   },
   "outputs": [],
   "source": [
    "voc = voc.drop(colnames,axis=1)"
   ]
  },
  {
   "cell_type": "code",
   "execution_count": 28,
   "metadata": {
    "collapsed": false
   },
   "outputs": [
    {
     "data": {
      "text/html": [
       "<div>\n",
       "<table border=\"1\" class=\"dataframe\">\n",
       "  <thead>\n",
       "    <tr style=\"text-align: right;\">\n",
       "      <th></th>\n",
       "      <th>Unnamed: 0</th>\n",
       "      <th>ReceiptSerial</th>\n",
       "      <th>CustomSex</th>\n",
       "      <th>CustomRelation</th>\n",
       "      <th>ReceiptDate</th>\n",
       "      <th>OccurrenceDate</th>\n",
       "      <th>CccurrencePlace</th>\n",
       "      <th>Title</th>\n",
       "      <th>Contents</th>\n",
       "      <th>ReceiptChannelCode</th>\n",
       "      <th>ReceiptTypeGroupCode</th>\n",
       "      <th>ReceiptTypeCode</th>\n",
       "      <th>send_YN</th>\n",
       "      <th>UserID</th>\n",
       "    </tr>\n",
       "  </thead>\n",
       "  <tbody>\n",
       "    <tr>\n",
       "      <th>0</th>\n",
       "      <td>1</td>\n",
       "      <td>210</td>\n",
       "      <td>여</td>\n",
       "      <td>NaN</td>\n",
       "      <td>2007-10-10</td>\n",
       "      <td>0000-00-00</td>\n",
       "      <td>NaN</td>\n",
       "      <td>여기는 목포입니다기차타고  가려..</td>\n",
       "      <td>여기는 목포입니다\\r\\r\\n기차타고  가려  합니다\\r\\r\\n1.영등포역   내려서...</td>\n",
       "      <td>1.0</td>\n",
       "      <td>6.0</td>\n",
       "      <td>1.0</td>\n",
       "      <td>2</td>\n",
       "      <td>28</td>\n",
       "    </tr>\n",
       "  </tbody>\n",
       "</table>\n",
       "</div>"
      ],
      "text/plain": [
       "   Unnamed: 0  ReceiptSerial CustomSex CustomRelation ReceiptDate  \\\n",
       "0           1            210         여            NaN  2007-10-10   \n",
       "\n",
       "  OccurrenceDate CccurrencePlace                Title  \\\n",
       "0     0000-00-00             NaN  여기는 목포입니다기차타고  가려..   \n",
       "\n",
       "                                            Contents  ReceiptChannelCode  \\\n",
       "0  여기는 목포입니다\\r\\r\\n기차타고  가려  합니다\\r\\r\\n1.영등포역   내려서...                 1.0   \n",
       "\n",
       "   ReceiptTypeGroupCode  ReceiptTypeCode  send_YN UserID  \n",
       "0                   6.0              1.0        2     28  "
      ]
     },
     "execution_count": 28,
     "metadata": {},
     "output_type": "execute_result"
    },
    {
     "name": "stdout",
     "output_type": "stream",
     "text": [
      "The history saving thread hit an unexpected error (OperationalError('disk I/O error',)).History will not be written to the database.\n"
     ]
    }
   ],
   "source": [
    "voc.head(1)"
   ]
  },
  {
   "cell_type": "code",
   "execution_count": 31,
   "metadata": {
    "collapsed": true
   },
   "outputs": [],
   "source": [
    "voc.to_csv(\"VOC.csv\",encoding=\"utf-8\")"
   ]
  },
  {
   "cell_type": "code",
   "execution_count": 32,
   "metadata": {
    "collapsed": false
   },
   "outputs": [],
   "source": [
    "voc = pd.read_csv(\"VOC.csv\")"
   ]
  },
  {
   "cell_type": "code",
   "execution_count": 44,
   "metadata": {
    "collapsed": false
   },
   "outputs": [
    {
     "data": {
      "text/html": [
       "<div>\n",
       "<table border=\"1\" class=\"dataframe\">\n",
       "  <thead>\n",
       "    <tr style=\"text-align: right;\">\n",
       "      <th></th>\n",
       "      <th>Unnamed: 0</th>\n",
       "      <th>Unnamed: 0.1</th>\n",
       "      <th>ReceiptSerial</th>\n",
       "      <th>CustomSex</th>\n",
       "      <th>CustomRelation</th>\n",
       "      <th>ReceiptDate</th>\n",
       "      <th>OccurrenceDate</th>\n",
       "      <th>CccurrencePlace</th>\n",
       "      <th>Title</th>\n",
       "      <th>Contents</th>\n",
       "      <th>ReceiptChannelCode</th>\n",
       "      <th>ReceiptTypeGroupCode</th>\n",
       "      <th>ReceiptTypeCode</th>\n",
       "      <th>send_YN</th>\n",
       "      <th>UserID</th>\n",
       "    </tr>\n",
       "  </thead>\n",
       "  <tbody>\n",
       "    <tr>\n",
       "      <th>0</th>\n",
       "      <td>0</td>\n",
       "      <td>1</td>\n",
       "      <td>210</td>\n",
       "      <td>여</td>\n",
       "      <td>NaN</td>\n",
       "      <td>2007-10-10</td>\n",
       "      <td>0000-00-00</td>\n",
       "      <td>NaN</td>\n",
       "      <td>여기는 목포입니다기차타고  가려..</td>\n",
       "      <td>여기는 목포입니다기차타고  가려  합니다1.영등포역   내려서  전철타고   동인천...</td>\n",
       "      <td>1.0</td>\n",
       "      <td>6.0</td>\n",
       "      <td>1.0</td>\n",
       "      <td>2</td>\n",
       "      <td>28</td>\n",
       "    </tr>\n",
       "    <tr>\n",
       "      <th>1</th>\n",
       "      <td>1</td>\n",
       "      <td>2</td>\n",
       "      <td>258</td>\n",
       "      <td>여</td>\n",
       "      <td>NaN</td>\n",
       "      <td>2007-10-22</td>\n",
       "      <td>0000-00-00</td>\n",
       "      <td>NaN</td>\n",
       "      <td>전화로 예약을 했는데  휴대폰으로 ..</td>\n",
       "      <td>전화로 예약을 했는데  휴대폰으로  10월22일 2시 38분 확인 문자가왔습니다  ...</td>\n",
       "      <td>1.0</td>\n",
       "      <td>7.0</td>\n",
       "      <td>1.0</td>\n",
       "      <td>2</td>\n",
       "      <td>38</td>\n",
       "    </tr>\n",
       "    <tr>\n",
       "      <th>2</th>\n",
       "      <td>2</td>\n",
       "      <td>3</td>\n",
       "      <td>132</td>\n",
       "      <td>남</td>\n",
       "      <td>NaN</td>\n",
       "      <td>2007-09-15</td>\n",
       "      <td>2007-09-17</td>\n",
       "      <td>NaN</td>\n",
       "      <td>안녕하십니까.우선 저는 한동안 그..</td>\n",
       "      <td>안녕하십니까.\\r\\r\\r\\n우선 저는 한동안 그병원에서 간병인으로 근무했던 분의 아...</td>\n",
       "      <td>1.0</td>\n",
       "      <td>2.0</td>\n",
       "      <td>1.0</td>\n",
       "      <td>2</td>\n",
       "      <td>21</td>\n",
       "    </tr>\n",
       "    <tr>\n",
       "      <th>3</th>\n",
       "      <td>3</td>\n",
       "      <td>4</td>\n",
       "      <td>133</td>\n",
       "      <td>여</td>\n",
       "      <td>NaN</td>\n",
       "      <td>2007-09-19</td>\n",
       "      <td>2007-09-20</td>\n",
       "      <td>NaN</td>\n",
       "      <td>오늘 신경과검사받고 남편으로서 궁..</td>\n",
       "      <td>오늘 신경과검사받고 남편으로서 궁금한사항이있어 글을올립니다.\\r\\r\\r\\n저도예전 ...</td>\n",
       "      <td>1.0</td>\n",
       "      <td>7.0</td>\n",
       "      <td>1.0</td>\n",
       "      <td>2</td>\n",
       "      <td>31</td>\n",
       "    </tr>\n",
       "    <tr>\n",
       "      <th>4</th>\n",
       "      <td>4</td>\n",
       "      <td>5</td>\n",
       "      <td>134</td>\n",
       "      <td>남</td>\n",
       "      <td>NaN</td>\n",
       "      <td>2007-09-18</td>\n",
       "      <td>2007-09-20</td>\n",
       "      <td>NaN</td>\n",
       "      <td>진료상담FAQ 에 질문에대한 답변이 너..</td>\n",
       "      <td>진료상담FAQ 에 질문에대한 답변이 너무 늦는것 같습니다.</td>\n",
       "      <td>1.0</td>\n",
       "      <td>6.0</td>\n",
       "      <td>3.0</td>\n",
       "      <td>2</td>\n",
       "      <td>47</td>\n",
       "    </tr>\n",
       "  </tbody>\n",
       "</table>\n",
       "</div>"
      ],
      "text/plain": [
       "   Unnamed: 0  Unnamed: 0.1  ReceiptSerial CustomSex CustomRelation  \\\n",
       "0           0             1            210         여            NaN   \n",
       "1           1             2            258         여            NaN   \n",
       "2           2             3            132         남            NaN   \n",
       "3           3             4            133         여            NaN   \n",
       "4           4             5            134         남            NaN   \n",
       "\n",
       "  ReceiptDate OccurrenceDate CccurrencePlace                    Title  \\\n",
       "0  2007-10-10     0000-00-00             NaN      여기는 목포입니다기차타고  가려..   \n",
       "1  2007-10-22     0000-00-00             NaN    전화로 예약을 했는데  휴대폰으로 ..   \n",
       "2  2007-09-15     2007-09-17             NaN     안녕하십니까.우선 저는 한동안 그..   \n",
       "3  2007-09-19     2007-09-20             NaN     오늘 신경과검사받고 남편으로서 궁..   \n",
       "4  2007-09-18     2007-09-20             NaN  진료상담FAQ 에 질문에대한 답변이 너..   \n",
       "\n",
       "                                            Contents  ReceiptChannelCode  \\\n",
       "0  여기는 목포입니다기차타고  가려  합니다1.영등포역   내려서  전철타고   동인천...                 1.0   \n",
       "1  전화로 예약을 했는데  휴대폰으로  10월22일 2시 38분 확인 문자가왔습니다  ...                 1.0   \n",
       "2  안녕하십니까.\\r\\r\\r\\n우선 저는 한동안 그병원에서 간병인으로 근무했던 분의 아...                 1.0   \n",
       "3  오늘 신경과검사받고 남편으로서 궁금한사항이있어 글을올립니다.\\r\\r\\r\\n저도예전 ...                 1.0   \n",
       "4                   진료상담FAQ 에 질문에대한 답변이 너무 늦는것 같습니다.                 1.0   \n",
       "\n",
       "   ReceiptTypeGroupCode  ReceiptTypeCode  send_YN UserID  \n",
       "0                   6.0              1.0        2     28  \n",
       "1                   7.0              1.0        2     38  \n",
       "2                   2.0              1.0        2     21  \n",
       "3                   7.0              1.0        2     31  \n",
       "4                   6.0              3.0        2     47  "
      ]
     },
     "execution_count": 44,
     "metadata": {},
     "output_type": "execute_result"
    }
   ],
   "source": [
    "voc.head()"
   ]
  },
  {
   "cell_type": "code",
   "execution_count": 36,
   "metadata": {
    "collapsed": false
   },
   "outputs": [
    {
     "data": {
      "text/plain": [
       "'여기는 목포입니다\\r\\r\\r\\n기차타고  가려  합니다\\r\\r\\r\\n1.영등포역   내려서  전철타고   동인천역 내려서 \\r\\r\\r\\n버스  3번   12번  24번  28-1번  타면   되나요?  \\r\\r\\r\\n2.수원역  내려서    전철타고  동인천역  내려서\\r\\r\\r\\n버스  3번   12번  24번  28-1번  타면   되나요?\\r\\r\\r\\n금요일   가야  되는데  빠른  답변   부탁드립니다\\r\\r\\r\\n'"
      ]
     },
     "execution_count": 36,
     "metadata": {},
     "output_type": "execute_result"
    }
   ],
   "source": [
    "voc.ix[0,\"Contents\"]"
   ]
  },
  {
   "cell_type": "code",
   "execution_count": null,
   "metadata": {
    "collapsed": true
   },
   "outputs": [],
   "source": [
    "df[df['col'].apply(lambda x: 'pre' not in x)] = 'nonpre'"
   ]
  },
  {
   "cell_type": "code",
   "execution_count": 42,
   "metadata": {
    "collapsed": false
   },
   "outputs": [],
   "source": [
    "voc.ix[0,\"Contents\"] = voc.ix[0,\"Contents\"].replace('\\r','')\n",
    "\n",
    "voc.ix[0,\"Contents\"] = voc.ix[0,\"Contents\"].replace('\\n','')"
   ]
  },
  {
   "cell_type": "code",
   "execution_count": 43,
   "metadata": {
    "collapsed": false
   },
   "outputs": [
    {
     "data": {
      "text/plain": [
       "'여기는 목포입니다기차타고  가려  합니다1.영등포역   내려서  전철타고   동인천역 내려서 버스  3번   12번  24번  28-1번  타면   되나요?  2.수원역  내려서    전철타고  동인천역  내려서버스  3번   12번  24번  28-1번  타면   되나요?금요일   가야  되는데  빠른  답변   부탁드립니다'"
      ]
     },
     "execution_count": 43,
     "metadata": {},
     "output_type": "execute_result"
    }
   ],
   "source": [
    "voc.ix[0,\"Contents\"]"
   ]
  },
  {
   "cell_type": "code",
   "execution_count": 46,
   "metadata": {
    "collapsed": false
   },
   "outputs": [
    {
     "name": "stdout",
     "output_type": "stream",
     "text": [
      "[('여기', 'NP'),\n",
      " ('는', 'JX'),\n",
      " ('목포', 'NNG'),\n",
      " ('이', 'VCP'),\n",
      " ('ㅂ니다', 'EFN'),\n",
      " ('기차', 'NNG'),\n",
      " ('타', 'VV'),\n",
      " ('고', 'ECE'),\n",
      " ('가리', 'VV'),\n",
      " ('어', 'ECS'),\n",
      " ('하', 'VV'),\n",
      " ('ㅂ니다', 'EFN'),\n",
      " ('1', 'NR'),\n",
      " ('.', 'SF'),\n",
      " ('영등포', 'NNG'),\n",
      " ('역', 'NNG'),\n",
      " ('내리', 'VV'),\n",
      " ('어서', 'ECD'),\n",
      " ('전철', 'NNG'),\n",
      " ('타고', 'NNG'),\n",
      " ('동인', 'NNG'),\n",
      " ('천역', 'NNG'),\n",
      " ('내리', 'VV'),\n",
      " ('어서', 'ECD'),\n",
      " ('버스', 'NNG'),\n",
      " ('3', 'NR'),\n",
      " ('번', 'NNM'),\n",
      " ('12', 'NR'),\n",
      " ('번', 'NNM'),\n",
      " ('24', 'NR'),\n",
      " ('번', 'NNM'),\n",
      " ('28-1', 'OL'),\n",
      " ('번', 'NNB'),\n",
      " ('타', 'VV'),\n",
      " ('면', 'ECE'),\n",
      " ('되', 'VV'),\n",
      " ('나요', 'EFQ'),\n",
      " ('?', 'SF'),\n",
      " ('2', 'NR'),\n",
      " ('.', 'SF'),\n",
      " ('수원역', 'NNG'),\n",
      " ('내리', 'VV'),\n",
      " ('어서', 'ECD'),\n",
      " ('전철', 'NNG'),\n",
      " ('타고', 'NNG'),\n",
      " ('동인', 'NNG'),\n",
      " ('천역', 'NNG'),\n",
      " ('내리', 'VV'),\n",
      " ('어서', 'ECD'),\n",
      " ('버스', 'NNG'),\n",
      " ('3', 'NR'),\n",
      " ('번', 'NNM'),\n",
      " ('12', 'NR'),\n",
      " ('번', 'NNM'),\n",
      " ('24', 'NR'),\n",
      " ('번', 'NNM'),\n",
      " ('28-1', 'OL'),\n",
      " ('번', 'NNB'),\n",
      " ('타', 'VV'),\n",
      " ('면', 'ECE'),\n",
      " ('되', 'VV'),\n",
      " ('나요', 'EFQ'),\n",
      " ('?', 'SF'),\n",
      " ('금요일', 'NNG'),\n",
      " ('가야', 'NNG'),\n",
      " ('되', 'VV'),\n",
      " ('는데', 'ECD'),\n",
      " ('빠르', 'VA'),\n",
      " ('ㄴ', 'ETD'),\n",
      " ('답변', 'NNG'),\n",
      " ('부탁', 'NNG'),\n",
      " ('드리', 'VV'),\n",
      " ('ㅂ니다', 'EFN')]\n"
     ]
    }
   ],
   "source": [
    "pprint(kkma.pos(voc.ix[0,\"Contents\"]))"
   ]
  }
 ],
 "metadata": {
  "anaconda-cloud": {},
  "kernelspec": {
   "display_name": "Python [py35]",
   "language": "python",
   "name": "Python [py35]"
  },
  "language_info": {
   "codemirror_mode": {
    "name": "ipython",
    "version": 3
   },
   "file_extension": ".py",
   "mimetype": "text/x-python",
   "name": "python",
   "nbconvert_exporter": "python",
   "pygments_lexer": "ipython3",
   "version": "3.5.2"
  }
 },
 "nbformat": 4,
 "nbformat_minor": 0
}
