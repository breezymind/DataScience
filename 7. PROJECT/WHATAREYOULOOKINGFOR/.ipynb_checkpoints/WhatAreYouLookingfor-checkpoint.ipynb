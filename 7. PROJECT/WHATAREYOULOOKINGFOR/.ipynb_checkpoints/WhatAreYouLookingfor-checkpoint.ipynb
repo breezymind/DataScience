{
 "cells": [
  {
   "cell_type": "code",
   "execution_count": 1,
   "metadata": {
    "collapsed": true
   },
   "outputs": [],
   "source": [
    "import pandas as pd\n",
    "\n",
    "import requests  # 크롤링을 위한 라이브러리\n",
    "from bs4 import BeautifulSoup  # 파싱을 위한 라이브러리"
   ]
  },
  {
   "cell_type": "markdown",
   "metadata": {},
   "source": [
    " http://02.the114.net/?PhoneNumber=023376969"
   ]
  },
  {
   "cell_type": "code",
   "execution_count": 2,
   "metadata": {
    "collapsed": true
   },
   "outputs": [],
   "source": [
    "pharmacy = pd.read_csv('seoul(english).csv')"
   ]
  },
  {
   "cell_type": "code",
   "execution_count": 3,
   "metadata": {
    "collapsed": false
   },
   "outputs": [
    {
     "data": {
      "text/html": [
       "<div>\n",
       "<table border=\"1\" class=\"dataframe\">\n",
       "  <thead>\n",
       "    <tr style=\"text-align: right;\">\n",
       "      <th></th>\n",
       "      <th>﻿\"키값\"</th>\n",
       "      <th>약국이름</th>\n",
       "      <th>행정시</th>\n",
       "      <th>행정구</th>\n",
       "      <th>행정동</th>\n",
       "      <th>전화번호</th>\n",
       "    </tr>\n",
       "  </thead>\n",
       "  <tbody>\n",
       "    <tr>\n",
       "      <th>0</th>\n",
       "      <td>BE_LiST22-0102</td>\n",
       "      <td>Saegwang Pharmacy</td>\n",
       "      <td>Seoul</td>\n",
       "      <td>Dongdaemun-gu</td>\n",
       "      <td>Jegi-dong</td>\n",
       "      <td>962-8989</td>\n",
       "    </tr>\n",
       "    <tr>\n",
       "      <th>1</th>\n",
       "      <td>BE_LiST22-0103</td>\n",
       "      <td>Bokji Pharmacy</td>\n",
       "      <td>Seoul</td>\n",
       "      <td>Dongdaemun-gu</td>\n",
       "      <td>Dapsimni1-dong</td>\n",
       "      <td>2217-3606</td>\n",
       "    </tr>\n",
       "    <tr>\n",
       "      <th>2</th>\n",
       "      <td>BE_LiST22-0104</td>\n",
       "      <td>Chamewha Pharmacy</td>\n",
       "      <td>Seoul</td>\n",
       "      <td>Dongdaemun-gu</td>\n",
       "      <td>Dapsimni1-dong</td>\n",
       "      <td>2247-5029</td>\n",
       "    </tr>\n",
       "    <tr>\n",
       "      <th>3</th>\n",
       "      <td>BE_LiST22-0105</td>\n",
       "      <td>Janganpyeong Pharmacy</td>\n",
       "      <td>Seoul</td>\n",
       "      <td>Dongdaemun-gu</td>\n",
       "      <td>Jangan2-dong</td>\n",
       "      <td>2212-9430</td>\n",
       "    </tr>\n",
       "    <tr>\n",
       "      <th>4</th>\n",
       "      <td>BE_LiST22-0106</td>\n",
       "      <td>Saeewha Pharmacy</td>\n",
       "      <td>Seoul</td>\n",
       "      <td>Dongdaemun-gu</td>\n",
       "      <td>Jangan2-dong</td>\n",
       "      <td>2214-2488</td>\n",
       "    </tr>\n",
       "  </tbody>\n",
       "</table>\n",
       "</div>"
      ],
      "text/plain": [
       "            ﻿\"키값\"                   약국이름    행정시            행정구  \\\n",
       "0  BE_LiST22-0102      Saegwang Pharmacy  Seoul  Dongdaemun-gu   \n",
       "1  BE_LiST22-0103         Bokji Pharmacy  Seoul  Dongdaemun-gu   \n",
       "2  BE_LiST22-0104      Chamewha Pharmacy  Seoul  Dongdaemun-gu   \n",
       "3  BE_LiST22-0105  Janganpyeong Pharmacy  Seoul  Dongdaemun-gu   \n",
       "4  BE_LiST22-0106       Saeewha Pharmacy  Seoul  Dongdaemun-gu   \n",
       "\n",
       "              행정동       전화번호  \n",
       "0       Jegi-dong   962-8989  \n",
       "1  Dapsimni1-dong  2217-3606  \n",
       "2  Dapsimni1-dong  2247-5029  \n",
       "3    Jangan2-dong  2212-9430  \n",
       "4    Jangan2-dong  2214-2488  "
      ]
     },
     "execution_count": 3,
     "metadata": {},
     "output_type": "execute_result"
    }
   ],
   "source": [
    "pharmacy.head()"
   ]
  },
  {
   "cell_type": "code",
   "execution_count": 128,
   "metadata": {
    "collapsed": true
   },
   "outputs": [],
   "source": [
    "pharmacy2 = pd.read_csv(\"seoul(korean).csv\")"
   ]
  },
  {
   "cell_type": "code",
   "execution_count": 129,
   "metadata": {
    "collapsed": true
   },
   "outputs": [],
   "source": [
    "pharmacy2['전화번호'] = \"02\"+pharmacy2['전화번호']\n",
    "pharmacy2['전화번호'] = pharmacy2['전화번호'].str.replace(\"-\",\"\")"
   ]
  },
  {
   "cell_type": "code",
   "execution_count": 4,
   "metadata": {
    "collapsed": true
   },
   "outputs": [],
   "source": [
    "tel = pharmacy['전화번호']"
   ]
  },
  {
   "cell_type": "code",
   "execution_count": 7,
   "metadata": {
    "collapsed": false
   },
   "outputs": [
    {
     "data": {
      "text/plain": [
       "0     962-8989\n",
       "1    2217-3606\n",
       "2    2247-5029\n",
       "3    2212-9430\n",
       "4    2214-2488\n",
       "Name: 전화번호, dtype: object"
      ]
     },
     "execution_count": 7,
     "metadata": {},
     "output_type": "execute_result"
    }
   ],
   "source": [
    "tel[:5]"
   ]
  },
  {
   "cell_type": "code",
   "execution_count": 10,
   "metadata": {
    "collapsed": false
   },
   "outputs": [],
   "source": [
    "tel = \"02\" + tel"
   ]
  },
  {
   "cell_type": "code",
   "execution_count": 11,
   "metadata": {
    "collapsed": false
   },
   "outputs": [
    {
     "data": {
      "text/plain": [
       "0     02962-8989\n",
       "1    022217-3606\n",
       "2    022247-5029\n",
       "3    022212-9430\n",
       "4    022214-2488\n",
       "Name: 전화번호, dtype: object"
      ]
     },
     "execution_count": 11,
     "metadata": {},
     "output_type": "execute_result"
    }
   ],
   "source": [
    "tel[:5]"
   ]
  },
  {
   "cell_type": "code",
   "execution_count": 25,
   "metadata": {
    "collapsed": false
   },
   "outputs": [],
   "source": [
    "tel = tel.str.replace(\"-\",\"\")"
   ]
  },
  {
   "cell_type": "code",
   "execution_count": 26,
   "metadata": {
    "collapsed": false
   },
   "outputs": [
    {
     "data": {
      "text/plain": [
       "0     029628989\n",
       "1    0222173606\n",
       "2    0222475029\n",
       "3    0222129430\n",
       "4    0222142488\n",
       "Name: 전화번호, dtype: object"
      ]
     },
     "execution_count": 26,
     "metadata": {},
     "output_type": "execute_result"
    }
   ],
   "source": [
    "tel[:5]"
   ]
  },
  {
   "cell_type": "code",
   "execution_count": null,
   "metadata": {
    "collapsed": true
   },
   "outputs": [],
   "source": [
    "pharmacy['전화번호'] = \"02\"+pharmacy['전화번호']\n",
    "pharmacy['전화번호'] = pharmacy['전화번호'].str.replace(\"-\",\"\")"
   ]
  },
  {
   "cell_type": "code",
   "execution_count": 29,
   "metadata": {
    "collapsed": true
   },
   "outputs": [],
   "source": [
    "response = requests.get(\"http://02.the114.net/?PhoneNumber=023376969\")\n",
    "dom = BeautifulSoup(response.content, \"html.parser\")"
   ]
  },
  {
   "cell_type": "code",
   "execution_count": 31,
   "metadata": {
    "collapsed": true
   },
   "outputs": [],
   "source": [
    "tel_elements = dom.select('body')"
   ]
  },
  {
   "cell_type": "code",
   "execution_count": 37,
   "metadata": {
    "collapsed": false
   },
   "outputs": [],
   "source": [
    "contents = tel_elements[0].attrs.get('onload')"
   ]
  },
  {
   "cell_type": "code",
   "execution_count": 42,
   "metadata": {
    "collapsed": false
   },
   "outputs": [],
   "source": [
    "contents = contents.replace(\"initializeMap(\",\"\")"
   ]
  },
  {
   "cell_type": "code",
   "execution_count": 124,
   "metadata": {
    "collapsed": false
   },
   "outputs": [],
   "source": [
    "list = []"
   ]
  },
  {
   "cell_type": "code",
   "execution_count": 125,
   "metadata": {
    "collapsed": false
   },
   "outputs": [],
   "source": [
    "for x in tel:\n",
    "    url = \"http://02.the114.net/?PhoneNumber=\" + x\n",
    "    response = requests.get(url)\n",
    "    dom = BeautifulSoup(response.content, \"html.parser\")\n",
    "    tel_elements = dom.select('body')\n",
    "    contents = tel_elements[0].attrs.get('onload')\n",
    "    if contents:\n",
    "        contents = contents.replace(\"initializeMap(\",\"\")\n",
    "        tmp = contents.split(\",\")[0:2]\n",
    "        tmp.append(x)\n",
    "        list.append(tmp)"
   ]
  },
  {
   "cell_type": "code",
   "execution_count": 126,
   "metadata": {
    "collapsed": false
   },
   "outputs": [
    {
     "data": {
      "text/plain": [
       "[['37.5794511', '127.0421273', '029628989'],\n",
       " ['37.5705108', '127.0481395', '0222173606'],\n",
       " ['37.565682', '127.054819', '0222475029'],\n",
       " ['37.571577', '127.074285', '0222129430'],\n",
       " ['37.5729167', '127.072075', '0222142488'],\n",
       " ['37.5676501', '127.0722409', '0222452594'],\n",
       " ['37.57449', '127.0387234', '029641717'],\n",
       " ['37.5740822', '127.058008', '0222159454'],\n",
       " ['37.578063', '127.057294', '0222156291'],\n",
       " ['37.5799521', '127.0662796', '0222121931']]"
      ]
     },
     "execution_count": 126,
     "metadata": {},
     "output_type": "execute_result"
    }
   ],
   "source": [
    "list[:10]"
   ]
  },
  {
   "cell_type": "code",
   "execution_count": 130,
   "metadata": {
    "collapsed": false
   },
   "outputs": [
    {
     "data": {
      "text/html": [
       "<div>\n",
       "<table border=\"1\" class=\"dataframe\">\n",
       "  <thead>\n",
       "    <tr style=\"text-align: right;\">\n",
       "      <th></th>\n",
       "      <th>﻿\"키값\"</th>\n",
       "      <th>약국이름</th>\n",
       "      <th>주소</th>\n",
       "      <th>도로명주소</th>\n",
       "      <th>행정시</th>\n",
       "      <th>행정구</th>\n",
       "      <th>행정동</th>\n",
       "      <th>전화번호</th>\n",
       "      <th>가능외국어</th>\n",
       "    </tr>\n",
       "  </thead>\n",
       "  <tbody>\n",
       "    <tr>\n",
       "      <th>349</th>\n",
       "      <td>BE_LiST22-0102</td>\n",
       "      <td>세광약국</td>\n",
       "      <td>NaN</td>\n",
       "      <td>동대문구 왕산로 171(제기동)</td>\n",
       "      <td>서울특별시</td>\n",
       "      <td>동대문구</td>\n",
       "      <td>제기동</td>\n",
       "      <td>029628989</td>\n",
       "      <td>영어,일어</td>\n",
       "    </tr>\n",
       "  </tbody>\n",
       "</table>\n",
       "</div>"
      ],
      "text/plain": [
       "              ﻿\"키값\"  약국이름  주소              도로명주소    행정시   행정구  행정동       전화번호  \\\n",
       "349  BE_LiST22-0102  세광약국 NaN  동대문구 왕산로 171(제기동)  서울특별시  동대문구  제기동  029628989   \n",
       "\n",
       "     가능외국어  \n",
       "349  영어,일어  "
      ]
     },
     "execution_count": 130,
     "metadata": {},
     "output_type": "execute_result"
    }
   ],
   "source": [
    "pharmacy2[pharmacy2['전화번호']=='029628989']"
   ]
  },
  {
   "cell_type": "code",
   "execution_count": 133,
   "metadata": {
    "collapsed": true
   },
   "outputs": [],
   "source": [
    "tel_df = pd.DataFrame(list,columns=['latitude','longtitude','전화번호'])"
   ]
  },
  {
   "cell_type": "code",
   "execution_count": 134,
   "metadata": {
    "collapsed": false
   },
   "outputs": [
    {
     "data": {
      "text/html": [
       "<div>\n",
       "<table border=\"1\" class=\"dataframe\">\n",
       "  <thead>\n",
       "    <tr style=\"text-align: right;\">\n",
       "      <th></th>\n",
       "      <th>latitude</th>\n",
       "      <th>longtitude</th>\n",
       "      <th>전화번호</th>\n",
       "    </tr>\n",
       "  </thead>\n",
       "  <tbody>\n",
       "    <tr>\n",
       "      <th>0</th>\n",
       "      <td>37.5794511</td>\n",
       "      <td>127.0421273</td>\n",
       "      <td>029628989</td>\n",
       "    </tr>\n",
       "    <tr>\n",
       "      <th>1</th>\n",
       "      <td>37.5705108</td>\n",
       "      <td>127.0481395</td>\n",
       "      <td>0222173606</td>\n",
       "    </tr>\n",
       "    <tr>\n",
       "      <th>2</th>\n",
       "      <td>37.565682</td>\n",
       "      <td>127.054819</td>\n",
       "      <td>0222475029</td>\n",
       "    </tr>\n",
       "    <tr>\n",
       "      <th>3</th>\n",
       "      <td>37.571577</td>\n",
       "      <td>127.074285</td>\n",
       "      <td>0222129430</td>\n",
       "    </tr>\n",
       "    <tr>\n",
       "      <th>4</th>\n",
       "      <td>37.5729167</td>\n",
       "      <td>127.072075</td>\n",
       "      <td>0222142488</td>\n",
       "    </tr>\n",
       "  </tbody>\n",
       "</table>\n",
       "</div>"
      ],
      "text/plain": [
       "     latitude   longtitude        전화번호\n",
       "0  37.5794511  127.0421273   029628989\n",
       "1  37.5705108  127.0481395  0222173606\n",
       "2   37.565682   127.054819  0222475029\n",
       "3   37.571577   127.074285  0222129430\n",
       "4  37.5729167   127.072075  0222142488"
      ]
     },
     "execution_count": 134,
     "metadata": {},
     "output_type": "execute_result"
    }
   ],
   "source": [
    "tel_df.head()"
   ]
  },
  {
   "cell_type": "code",
   "execution_count": 135,
   "metadata": {
    "collapsed": true
   },
   "outputs": [],
   "source": [
    "df = pd.merge(pharmacy, tel_df, on='전화번호')"
   ]
  },
  {
   "cell_type": "code",
   "execution_count": 142,
   "metadata": {
    "collapsed": false
   },
   "outputs": [
    {
     "data": {
      "text/html": [
       "<div>\n",
       "<table border=\"1\" class=\"dataframe\">\n",
       "  <thead>\n",
       "    <tr style=\"text-align: right;\">\n",
       "      <th></th>\n",
       "      <th>﻿\"키값\"</th>\n",
       "      <th>약국이름</th>\n",
       "      <th>행정시</th>\n",
       "      <th>행정구</th>\n",
       "      <th>행정동</th>\n",
       "      <th>전화번호</th>\n",
       "      <th>latitude</th>\n",
       "      <th>longtitude</th>\n",
       "    </tr>\n",
       "  </thead>\n",
       "  <tbody>\n",
       "    <tr>\n",
       "      <th>0</th>\n",
       "      <td>BE_LiST22-0102</td>\n",
       "      <td>Saegwang Pharmacy</td>\n",
       "      <td>Seoul</td>\n",
       "      <td>Dongdaemun-gu</td>\n",
       "      <td>Jegi-dong</td>\n",
       "      <td>029628989</td>\n",
       "      <td>37.5794511</td>\n",
       "      <td>127.0421273</td>\n",
       "    </tr>\n",
       "    <tr>\n",
       "      <th>1</th>\n",
       "      <td>BE_LiST22-0103</td>\n",
       "      <td>Bokji Pharmacy</td>\n",
       "      <td>Seoul</td>\n",
       "      <td>Dongdaemun-gu</td>\n",
       "      <td>Dapsimni1-dong</td>\n",
       "      <td>0222173606</td>\n",
       "      <td>37.5705108</td>\n",
       "      <td>127.0481395</td>\n",
       "    </tr>\n",
       "    <tr>\n",
       "      <th>2</th>\n",
       "      <td>BE_LiST22-0104</td>\n",
       "      <td>Chamewha Pharmacy</td>\n",
       "      <td>Seoul</td>\n",
       "      <td>Dongdaemun-gu</td>\n",
       "      <td>Dapsimni1-dong</td>\n",
       "      <td>0222475029</td>\n",
       "      <td>37.565682</td>\n",
       "      <td>127.054819</td>\n",
       "    </tr>\n",
       "    <tr>\n",
       "      <th>3</th>\n",
       "      <td>BE_LiST22-0105</td>\n",
       "      <td>Janganpyeong Pharmacy</td>\n",
       "      <td>Seoul</td>\n",
       "      <td>Dongdaemun-gu</td>\n",
       "      <td>Jangan2-dong</td>\n",
       "      <td>0222129430</td>\n",
       "      <td>37.571577</td>\n",
       "      <td>127.074285</td>\n",
       "    </tr>\n",
       "    <tr>\n",
       "      <th>4</th>\n",
       "      <td>BE_LiST22-0106</td>\n",
       "      <td>Saeewha Pharmacy</td>\n",
       "      <td>Seoul</td>\n",
       "      <td>Dongdaemun-gu</td>\n",
       "      <td>Jangan2-dong</td>\n",
       "      <td>0222142488</td>\n",
       "      <td>37.5729167</td>\n",
       "      <td>127.072075</td>\n",
       "    </tr>\n",
       "  </tbody>\n",
       "</table>\n",
       "</div>"
      ],
      "text/plain": [
       "            ﻿\"키값\"                   약국이름    행정시            행정구  \\\n",
       "0  BE_LiST22-0102      Saegwang Pharmacy  Seoul  Dongdaemun-gu   \n",
       "1  BE_LiST22-0103         Bokji Pharmacy  Seoul  Dongdaemun-gu   \n",
       "2  BE_LiST22-0104      Chamewha Pharmacy  Seoul  Dongdaemun-gu   \n",
       "3  BE_LiST22-0105  Janganpyeong Pharmacy  Seoul  Dongdaemun-gu   \n",
       "4  BE_LiST22-0106       Saeewha Pharmacy  Seoul  Dongdaemun-gu   \n",
       "\n",
       "              행정동        전화번호    latitude   longtitude  \n",
       "0       Jegi-dong   029628989  37.5794511  127.0421273  \n",
       "1  Dapsimni1-dong  0222173606  37.5705108  127.0481395  \n",
       "2  Dapsimni1-dong  0222475029   37.565682   127.054819  \n",
       "3    Jangan2-dong  0222129430   37.571577   127.074285  \n",
       "4    Jangan2-dong  0222142488  37.5729167   127.072075  "
      ]
     },
     "execution_count": 142,
     "metadata": {},
     "output_type": "execute_result"
    }
   ],
   "source": [
    "df.head()"
   ]
  },
  {
   "cell_type": "code",
   "execution_count": 141,
   "metadata": {
    "collapsed": false
   },
   "outputs": [],
   "source": [
    "df.to_csv(\"seoul(english) with map.csv\")"
   ]
  },
  {
   "cell_type": "markdown",
   "metadata": {},
   "source": [
    "## 지도 그리기 \n",
    " - https://www.lucypark.kr/blog/2015/06/24/seoul-matzip-mapping\n",
    " - 참조 \n",
    " "
   ]
  },
  {
   "cell_type": "code",
   "execution_count": null,
   "metadata": {
    "collapsed": true
   },
   "outputs": [],
   "source": []
  }
 ],
 "metadata": {
  "kernelspec": {
   "display_name": "Python [py35]",
   "language": "python",
   "name": "Python [py35]"
  },
  "language_info": {
   "codemirror_mode": {
    "name": "ipython",
    "version": 3
   },
   "file_extension": ".py",
   "mimetype": "text/x-python",
   "name": "python",
   "nbconvert_exporter": "python",
   "pygments_lexer": "ipython3",
   "version": "3.5.2"
  }
 },
 "nbformat": 4,
 "nbformat_minor": 0
}
