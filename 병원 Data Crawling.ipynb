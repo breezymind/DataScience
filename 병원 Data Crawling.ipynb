{
 "cells": [
  {
   "cell_type": "code",
   "execution_count": 1,
   "metadata": {
    "collapsed": true
   },
   "outputs": [],
   "source": [
    "import pandas as pd \n",
    "import requests  # 크롤링을 위한 라이브러리\n",
    "from bs4 import BeautifulSoup  # 파싱을 위한 라이브러리"
   ]
  },
  {
   "cell_type": "code",
   "execution_count": 37,
   "metadata": {
    "collapsed": false
   },
   "outputs": [],
   "source": [
    "dept = pd.read_csv(\"dept2.csv\", encoding='cp949')"
   ]
  },
  {
   "cell_type": "code",
   "execution_count": 38,
   "metadata": {
    "collapsed": false
   },
   "outputs": [
    {
     "data": {
      "text/html": [
       "<div>\n",
       "<table border=\"1\" class=\"dataframe\">\n",
       "  <thead>\n",
       "    <tr style=\"text-align: right;\">\n",
       "      <th></th>\n",
       "      <th>연번</th>\n",
       "      <th>기 관 명</th>\n",
       "      <th>요양기관기호</th>\n",
       "      <th>종별</th>\n",
       "      <th>대 표 자</th>\n",
       "      <th>주   소</th>\n",
       "      <th>진료과</th>\n",
       "      <th>병상</th>\n",
       "      <th>연락처</th>\n",
       "      <th>정보시스템현황</th>\n",
       "    </tr>\n",
       "  </thead>\n",
       "  <tbody>\n",
       "    <tr>\n",
       "      <th>0</th>\n",
       "      <td>91</td>\n",
       "      <td>남궁내과의원</td>\n",
       "      <td>31320511</td>\n",
       "      <td>의 원</td>\n",
       "      <td>남궁은경</td>\n",
       "      <td>인천 강화군 강화읍 강화대로 422</td>\n",
       "      <td>IM</td>\n",
       "      <td>0</td>\n",
       "      <td>032-934-2142</td>\n",
       "      <td>NaN</td>\n",
       "    </tr>\n",
       "    <tr>\n",
       "      <th>1</th>\n",
       "      <td>166</td>\n",
       "      <td>인성의원</td>\n",
       "      <td>31352294</td>\n",
       "      <td>의 원</td>\n",
       "      <td>김강식</td>\n",
       "      <td>인천 강화군 강화읍 중앙로 23 일석빌딩</td>\n",
       "      <td>IM</td>\n",
       "      <td>0</td>\n",
       "      <td>032-932-4455</td>\n",
       "      <td>NaN</td>\n",
       "    </tr>\n",
       "    <tr>\n",
       "      <th>2</th>\n",
       "      <td>138</td>\n",
       "      <td>연세베스트이비인후과의원</td>\n",
       "      <td>31388574</td>\n",
       "      <td>의 원</td>\n",
       "      <td>조정일</td>\n",
       "      <td>인천 계양구 장제로 708 한샘프라자</td>\n",
       "      <td>EN</td>\n",
       "      <td>0</td>\n",
       "      <td>032-297-2975</td>\n",
       "      <td>NaN</td>\n",
       "    </tr>\n",
       "    <tr>\n",
       "      <th>3</th>\n",
       "      <td>73</td>\n",
       "      <td>계양장문외과의원</td>\n",
       "      <td>31385834</td>\n",
       "      <td>의 원</td>\n",
       "      <td>최선경</td>\n",
       "      <td>인천 계양구 장제로 808  그랜드코아빌딩3층</td>\n",
       "      <td>GS</td>\n",
       "      <td>0</td>\n",
       "      <td>032-545-7899</td>\n",
       "      <td>NaN</td>\n",
       "    </tr>\n",
       "    <tr>\n",
       "      <th>4</th>\n",
       "      <td>116</td>\n",
       "      <td>상우내과의원</td>\n",
       "      <td>41338740</td>\n",
       "      <td>의 원</td>\n",
       "      <td>박상우</td>\n",
       "      <td>인천 계양구 경명대로 1096 계산메디컬 302</td>\n",
       "      <td>IM</td>\n",
       "      <td>0</td>\n",
       "      <td>032-551-0860</td>\n",
       "      <td>NaN</td>\n",
       "    </tr>\n",
       "  </tbody>\n",
       "</table>\n",
       "</div>"
      ],
      "text/plain": [
       "    연번         기 관 명    요양기관기호   종별 대 표 자                       주   소 진료과  병상  \\\n",
       "0   91        남궁내과의원  31320511  의 원  남궁은경        인천 강화군 강화읍 강화대로 422   IM   0   \n",
       "1  166          인성의원  31352294  의 원   김강식      인천 강화군 강화읍 중앙로 23 일석빌딩  IM   0   \n",
       "2  138  연세베스트이비인후과의원  31388574  의 원   조정일        인천 계양구 장제로 708 한샘프라자  EN   0   \n",
       "3   73      계양장문외과의원  31385834  의 원   최선경   인천 계양구 장제로 808  그랜드코아빌딩3층  GS   0   \n",
       "4  116        상우내과의원  41338740  의 원   박상우  인천 계양구 경명대로 1096 계산메디컬 302  IM   0   \n",
       "\n",
       "            연락처  정보시스템현황  \n",
       "0  032-934-2142      NaN  \n",
       "1  032-932-4455      NaN  \n",
       "2  032-297-2975      NaN  \n",
       "3  032-545-7899      NaN  \n",
       "4  032-551-0860      NaN  "
      ]
     },
     "execution_count": 38,
     "metadata": {},
     "output_type": "execute_result"
    }
   ],
   "source": [
    "dept.head()"
   ]
  },
  {
   "cell_type": "code",
   "execution_count": 39,
   "metadata": {
    "collapsed": true
   },
   "outputs": [],
   "source": [
    "tel = dept['연락처']"
   ]
  },
  {
   "cell_type": "code",
   "execution_count": 40,
   "metadata": {
    "collapsed": false
   },
   "outputs": [],
   "source": [
    "tel = tel.str.replace(\"-\",\"\")"
   ]
  },
  {
   "cell_type": "code",
   "execution_count": 41,
   "metadata": {
    "collapsed": false
   },
   "outputs": [
    {
     "data": {
      "text/plain": [
       "0    0329342142\n",
       "1    0329324455\n",
       "2    0322972975\n",
       "3    0325457899\n",
       "4    0325510860\n",
       "5    0325520900\n",
       "6    0325458837\n",
       "7    0325462000\n",
       "8    0325425111\n",
       "9    0328916181\n",
       "Name: 연락처, dtype: object"
      ]
     },
     "execution_count": 41,
     "metadata": {},
     "output_type": "execute_result"
    }
   ],
   "source": [
    "tel[:10]"
   ]
  },
  {
   "cell_type": "code",
   "execution_count": 42,
   "metadata": {
    "collapsed": true
   },
   "outputs": [],
   "source": [
    "list = []"
   ]
  },
  {
   "cell_type": "code",
   "execution_count": 68,
   "metadata": {
    "collapsed": false
   },
   "outputs": [
    {
     "ename": "KeyboardInterrupt",
     "evalue": "",
     "output_type": "error",
     "traceback": [
      "\u001b[1;31m---------------------------------------------------------------------------\u001b[0m",
      "\u001b[1;31mTypeError\u001b[0m                                 Traceback (most recent call last)",
      "\u001b[1;32mC:\\Anaconda3\\envs\\py35\\lib\\site-packages\\requests\\packages\\urllib3\\connectionpool.py\u001b[0m in \u001b[0;36m_make_request\u001b[1;34m(self, conn, method, url, timeout, chunked, **httplib_request_kw)\u001b[0m\n\u001b[0;32m    384\u001b[0m             \u001b[1;32mtry\u001b[0m\u001b[1;33m:\u001b[0m  \u001b[1;31m# Python 2.7, use buffering of HTTP responses\u001b[0m\u001b[1;33m\u001b[0m\u001b[0m\n\u001b[1;32m--> 385\u001b[1;33m                 \u001b[0mhttplib_response\u001b[0m \u001b[1;33m=\u001b[0m \u001b[0mconn\u001b[0m\u001b[1;33m.\u001b[0m\u001b[0mgetresponse\u001b[0m\u001b[1;33m(\u001b[0m\u001b[0mbuffering\u001b[0m\u001b[1;33m=\u001b[0m\u001b[1;32mTrue\u001b[0m\u001b[1;33m)\u001b[0m\u001b[1;33m\u001b[0m\u001b[0m\n\u001b[0m\u001b[0;32m    386\u001b[0m             \u001b[1;32mexcept\u001b[0m \u001b[0mTypeError\u001b[0m\u001b[1;33m:\u001b[0m  \u001b[1;31m# Python 2.6 and older\u001b[0m\u001b[1;33m\u001b[0m\u001b[0m\n",
      "\u001b[1;31mTypeError\u001b[0m: getresponse() got an unexpected keyword argument 'buffering'",
      "\nDuring handling of the above exception, another exception occurred:\n",
      "\u001b[1;31mKeyboardInterrupt\u001b[0m                         Traceback (most recent call last)",
      "\u001b[1;32m<ipython-input-68-3fccf74709dc>\u001b[0m in \u001b[0;36m<module>\u001b[1;34m()\u001b[0m\n\u001b[0;32m      1\u001b[0m \u001b[1;32mfor\u001b[0m \u001b[0mx\u001b[0m \u001b[1;32min\u001b[0m \u001b[0mtel\u001b[0m\u001b[1;33m[\u001b[0m\u001b[1;36m17\u001b[0m\u001b[1;33m:\u001b[0m\u001b[1;33m]\u001b[0m\u001b[1;33m:\u001b[0m\u001b[1;33m\u001b[0m\u001b[0m\n\u001b[0;32m      2\u001b[0m     \u001b[0murl\u001b[0m \u001b[1;33m=\u001b[0m \u001b[1;34m\"http://02.the114.net/?PhoneNumber=\"\u001b[0m \u001b[1;33m+\u001b[0m \u001b[0mx\u001b[0m\u001b[1;33m\u001b[0m\u001b[0m\n\u001b[1;32m----> 3\u001b[1;33m     \u001b[0mresponse\u001b[0m \u001b[1;33m=\u001b[0m \u001b[0mrequests\u001b[0m\u001b[1;33m.\u001b[0m\u001b[0mget\u001b[0m\u001b[1;33m(\u001b[0m\u001b[0murl\u001b[0m\u001b[1;33m)\u001b[0m\u001b[1;33m\u001b[0m\u001b[0m\n\u001b[0m\u001b[0;32m      4\u001b[0m     \u001b[0mdom\u001b[0m \u001b[1;33m=\u001b[0m \u001b[0mBeautifulSoup\u001b[0m\u001b[1;33m(\u001b[0m\u001b[0mresponse\u001b[0m\u001b[1;33m.\u001b[0m\u001b[0mcontent\u001b[0m\u001b[1;33m,\u001b[0m \u001b[1;34m\"html.parser\"\u001b[0m\u001b[1;33m)\u001b[0m\u001b[1;33m\u001b[0m\u001b[0m\n\u001b[0;32m      5\u001b[0m     \u001b[0mtel_elements\u001b[0m \u001b[1;33m=\u001b[0m \u001b[0mdom\u001b[0m\u001b[1;33m.\u001b[0m\u001b[0mselect\u001b[0m\u001b[1;33m(\u001b[0m\u001b[1;34m'body'\u001b[0m\u001b[1;33m)\u001b[0m\u001b[1;33m\u001b[0m\u001b[0m\n",
      "\u001b[1;32mC:\\Anaconda3\\envs\\py35\\lib\\site-packages\\requests\\api.py\u001b[0m in \u001b[0;36mget\u001b[1;34m(url, params, **kwargs)\u001b[0m\n\u001b[0;32m     69\u001b[0m \u001b[1;33m\u001b[0m\u001b[0m\n\u001b[0;32m     70\u001b[0m     \u001b[0mkwargs\u001b[0m\u001b[1;33m.\u001b[0m\u001b[0msetdefault\u001b[0m\u001b[1;33m(\u001b[0m\u001b[1;34m'allow_redirects'\u001b[0m\u001b[1;33m,\u001b[0m \u001b[1;32mTrue\u001b[0m\u001b[1;33m)\u001b[0m\u001b[1;33m\u001b[0m\u001b[0m\n\u001b[1;32m---> 71\u001b[1;33m     \u001b[1;32mreturn\u001b[0m \u001b[0mrequest\u001b[0m\u001b[1;33m(\u001b[0m\u001b[1;34m'get'\u001b[0m\u001b[1;33m,\u001b[0m \u001b[0murl\u001b[0m\u001b[1;33m,\u001b[0m \u001b[0mparams\u001b[0m\u001b[1;33m=\u001b[0m\u001b[0mparams\u001b[0m\u001b[1;33m,\u001b[0m \u001b[1;33m**\u001b[0m\u001b[0mkwargs\u001b[0m\u001b[1;33m)\u001b[0m\u001b[1;33m\u001b[0m\u001b[0m\n\u001b[0m\u001b[0;32m     72\u001b[0m \u001b[1;33m\u001b[0m\u001b[0m\n\u001b[0;32m     73\u001b[0m \u001b[1;33m\u001b[0m\u001b[0m\n",
      "\u001b[1;32mC:\\Anaconda3\\envs\\py35\\lib\\site-packages\\requests\\api.py\u001b[0m in \u001b[0;36mrequest\u001b[1;34m(method, url, **kwargs)\u001b[0m\n\u001b[0;32m     55\u001b[0m     \u001b[1;31m# cases, and look like a memory leak in others.\u001b[0m\u001b[1;33m\u001b[0m\u001b[1;33m\u001b[0m\u001b[0m\n\u001b[0;32m     56\u001b[0m     \u001b[1;32mwith\u001b[0m \u001b[0msessions\u001b[0m\u001b[1;33m.\u001b[0m\u001b[0mSession\u001b[0m\u001b[1;33m(\u001b[0m\u001b[1;33m)\u001b[0m \u001b[1;32mas\u001b[0m \u001b[0msession\u001b[0m\u001b[1;33m:\u001b[0m\u001b[1;33m\u001b[0m\u001b[0m\n\u001b[1;32m---> 57\u001b[1;33m         \u001b[1;32mreturn\u001b[0m \u001b[0msession\u001b[0m\u001b[1;33m.\u001b[0m\u001b[0mrequest\u001b[0m\u001b[1;33m(\u001b[0m\u001b[0mmethod\u001b[0m\u001b[1;33m=\u001b[0m\u001b[0mmethod\u001b[0m\u001b[1;33m,\u001b[0m \u001b[0murl\u001b[0m\u001b[1;33m=\u001b[0m\u001b[0murl\u001b[0m\u001b[1;33m,\u001b[0m \u001b[1;33m**\u001b[0m\u001b[0mkwargs\u001b[0m\u001b[1;33m)\u001b[0m\u001b[1;33m\u001b[0m\u001b[0m\n\u001b[0m\u001b[0;32m     58\u001b[0m \u001b[1;33m\u001b[0m\u001b[0m\n\u001b[0;32m     59\u001b[0m \u001b[1;33m\u001b[0m\u001b[0m\n",
      "\u001b[1;32mC:\\Anaconda3\\envs\\py35\\lib\\site-packages\\requests\\sessions.py\u001b[0m in \u001b[0;36mrequest\u001b[1;34m(self, method, url, params, data, headers, cookies, files, auth, timeout, allow_redirects, proxies, hooks, stream, verify, cert, json)\u001b[0m\n\u001b[0;32m    473\u001b[0m         }\n\u001b[0;32m    474\u001b[0m         \u001b[0msend_kwargs\u001b[0m\u001b[1;33m.\u001b[0m\u001b[0mupdate\u001b[0m\u001b[1;33m(\u001b[0m\u001b[0msettings\u001b[0m\u001b[1;33m)\u001b[0m\u001b[1;33m\u001b[0m\u001b[0m\n\u001b[1;32m--> 475\u001b[1;33m         \u001b[0mresp\u001b[0m \u001b[1;33m=\u001b[0m \u001b[0mself\u001b[0m\u001b[1;33m.\u001b[0m\u001b[0msend\u001b[0m\u001b[1;33m(\u001b[0m\u001b[0mprep\u001b[0m\u001b[1;33m,\u001b[0m \u001b[1;33m**\u001b[0m\u001b[0msend_kwargs\u001b[0m\u001b[1;33m)\u001b[0m\u001b[1;33m\u001b[0m\u001b[0m\n\u001b[0m\u001b[0;32m    476\u001b[0m \u001b[1;33m\u001b[0m\u001b[0m\n\u001b[0;32m    477\u001b[0m         \u001b[1;32mreturn\u001b[0m \u001b[0mresp\u001b[0m\u001b[1;33m\u001b[0m\u001b[0m\n",
      "\u001b[1;32mC:\\Anaconda3\\envs\\py35\\lib\\site-packages\\requests\\sessions.py\u001b[0m in \u001b[0;36msend\u001b[1;34m(self, request, **kwargs)\u001b[0m\n\u001b[0;32m    583\u001b[0m \u001b[1;33m\u001b[0m\u001b[0m\n\u001b[0;32m    584\u001b[0m         \u001b[1;31m# Send the request\u001b[0m\u001b[1;33m\u001b[0m\u001b[1;33m\u001b[0m\u001b[0m\n\u001b[1;32m--> 585\u001b[1;33m         \u001b[0mr\u001b[0m \u001b[1;33m=\u001b[0m \u001b[0madapter\u001b[0m\u001b[1;33m.\u001b[0m\u001b[0msend\u001b[0m\u001b[1;33m(\u001b[0m\u001b[0mrequest\u001b[0m\u001b[1;33m,\u001b[0m \u001b[1;33m**\u001b[0m\u001b[0mkwargs\u001b[0m\u001b[1;33m)\u001b[0m\u001b[1;33m\u001b[0m\u001b[0m\n\u001b[0m\u001b[0;32m    586\u001b[0m \u001b[1;33m\u001b[0m\u001b[0m\n\u001b[0;32m    587\u001b[0m         \u001b[1;31m# Total elapsed time of the request (approximately)\u001b[0m\u001b[1;33m\u001b[0m\u001b[1;33m\u001b[0m\u001b[0m\n",
      "\u001b[1;32mC:\\Anaconda3\\envs\\py35\\lib\\site-packages\\requests\\adapters.py\u001b[0m in \u001b[0;36msend\u001b[1;34m(self, request, stream, timeout, verify, cert, proxies)\u001b[0m\n\u001b[0;32m    401\u001b[0m                     \u001b[0mdecode_content\u001b[0m\u001b[1;33m=\u001b[0m\u001b[1;32mFalse\u001b[0m\u001b[1;33m,\u001b[0m\u001b[1;33m\u001b[0m\u001b[0m\n\u001b[0;32m    402\u001b[0m                     \u001b[0mretries\u001b[0m\u001b[1;33m=\u001b[0m\u001b[0mself\u001b[0m\u001b[1;33m.\u001b[0m\u001b[0mmax_retries\u001b[0m\u001b[1;33m,\u001b[0m\u001b[1;33m\u001b[0m\u001b[0m\n\u001b[1;32m--> 403\u001b[1;33m                     \u001b[0mtimeout\u001b[0m\u001b[1;33m=\u001b[0m\u001b[0mtimeout\u001b[0m\u001b[1;33m\u001b[0m\u001b[0m\n\u001b[0m\u001b[0;32m    404\u001b[0m                 )\n\u001b[0;32m    405\u001b[0m \u001b[1;33m\u001b[0m\u001b[0m\n",
      "\u001b[1;32mC:\\Anaconda3\\envs\\py35\\lib\\site-packages\\requests\\packages\\urllib3\\connectionpool.py\u001b[0m in \u001b[0;36murlopen\u001b[1;34m(self, method, url, body, headers, retries, redirect, assert_same_host, timeout, pool_timeout, release_conn, chunked, **response_kw)\u001b[0m\n\u001b[0;32m    576\u001b[0m                                                   \u001b[0mtimeout\u001b[0m\u001b[1;33m=\u001b[0m\u001b[0mtimeout_obj\u001b[0m\u001b[1;33m,\u001b[0m\u001b[1;33m\u001b[0m\u001b[0m\n\u001b[0;32m    577\u001b[0m                                                   \u001b[0mbody\u001b[0m\u001b[1;33m=\u001b[0m\u001b[0mbody\u001b[0m\u001b[1;33m,\u001b[0m \u001b[0mheaders\u001b[0m\u001b[1;33m=\u001b[0m\u001b[0mheaders\u001b[0m\u001b[1;33m,\u001b[0m\u001b[1;33m\u001b[0m\u001b[0m\n\u001b[1;32m--> 578\u001b[1;33m                                                   chunked=chunked)\n\u001b[0m\u001b[0;32m    579\u001b[0m \u001b[1;33m\u001b[0m\u001b[0m\n\u001b[0;32m    580\u001b[0m             \u001b[1;31m# If we're going to release the connection in ``finally:``, then\u001b[0m\u001b[1;33m\u001b[0m\u001b[1;33m\u001b[0m\u001b[0m\n",
      "\u001b[1;32mC:\\Anaconda3\\envs\\py35\\lib\\site-packages\\requests\\packages\\urllib3\\connectionpool.py\u001b[0m in \u001b[0;36m_make_request\u001b[1;34m(self, conn, method, url, timeout, chunked, **httplib_request_kw)\u001b[0m\n\u001b[0;32m    385\u001b[0m                 \u001b[0mhttplib_response\u001b[0m \u001b[1;33m=\u001b[0m \u001b[0mconn\u001b[0m\u001b[1;33m.\u001b[0m\u001b[0mgetresponse\u001b[0m\u001b[1;33m(\u001b[0m\u001b[0mbuffering\u001b[0m\u001b[1;33m=\u001b[0m\u001b[1;32mTrue\u001b[0m\u001b[1;33m)\u001b[0m\u001b[1;33m\u001b[0m\u001b[0m\n\u001b[0;32m    386\u001b[0m             \u001b[1;32mexcept\u001b[0m \u001b[0mTypeError\u001b[0m\u001b[1;33m:\u001b[0m  \u001b[1;31m# Python 2.6 and older\u001b[0m\u001b[1;33m\u001b[0m\u001b[0m\n\u001b[1;32m--> 387\u001b[1;33m                 \u001b[0mhttplib_response\u001b[0m \u001b[1;33m=\u001b[0m \u001b[0mconn\u001b[0m\u001b[1;33m.\u001b[0m\u001b[0mgetresponse\u001b[0m\u001b[1;33m(\u001b[0m\u001b[1;33m)\u001b[0m\u001b[1;33m\u001b[0m\u001b[0m\n\u001b[0m\u001b[0;32m    388\u001b[0m         \u001b[1;32mexcept\u001b[0m \u001b[1;33m(\u001b[0m\u001b[0mSocketTimeout\u001b[0m\u001b[1;33m,\u001b[0m \u001b[0mBaseSSLError\u001b[0m\u001b[1;33m,\u001b[0m \u001b[0mSocketError\u001b[0m\u001b[1;33m)\u001b[0m \u001b[1;32mas\u001b[0m \u001b[0me\u001b[0m\u001b[1;33m:\u001b[0m\u001b[1;33m\u001b[0m\u001b[0m\n\u001b[0;32m    389\u001b[0m             \u001b[0mself\u001b[0m\u001b[1;33m.\u001b[0m\u001b[0m_raise_timeout\u001b[0m\u001b[1;33m(\u001b[0m\u001b[0merr\u001b[0m\u001b[1;33m=\u001b[0m\u001b[0me\u001b[0m\u001b[1;33m,\u001b[0m \u001b[0murl\u001b[0m\u001b[1;33m=\u001b[0m\u001b[0murl\u001b[0m\u001b[1;33m,\u001b[0m \u001b[0mtimeout_value\u001b[0m\u001b[1;33m=\u001b[0m\u001b[0mread_timeout\u001b[0m\u001b[1;33m)\u001b[0m\u001b[1;33m\u001b[0m\u001b[0m\n",
      "\u001b[1;32mC:\\Anaconda3\\envs\\py35\\lib\\http\\client.py\u001b[0m in \u001b[0;36mgetresponse\u001b[1;34m(self)\u001b[0m\n\u001b[0;32m   1195\u001b[0m         \u001b[1;32mtry\u001b[0m\u001b[1;33m:\u001b[0m\u001b[1;33m\u001b[0m\u001b[0m\n\u001b[0;32m   1196\u001b[0m             \u001b[1;32mtry\u001b[0m\u001b[1;33m:\u001b[0m\u001b[1;33m\u001b[0m\u001b[0m\n\u001b[1;32m-> 1197\u001b[1;33m                 \u001b[0mresponse\u001b[0m\u001b[1;33m.\u001b[0m\u001b[0mbegin\u001b[0m\u001b[1;33m(\u001b[0m\u001b[1;33m)\u001b[0m\u001b[1;33m\u001b[0m\u001b[0m\n\u001b[0m\u001b[0;32m   1198\u001b[0m             \u001b[1;32mexcept\u001b[0m \u001b[0mConnectionError\u001b[0m\u001b[1;33m:\u001b[0m\u001b[1;33m\u001b[0m\u001b[0m\n\u001b[0;32m   1199\u001b[0m                 \u001b[0mself\u001b[0m\u001b[1;33m.\u001b[0m\u001b[0mclose\u001b[0m\u001b[1;33m(\u001b[0m\u001b[1;33m)\u001b[0m\u001b[1;33m\u001b[0m\u001b[0m\n",
      "\u001b[1;32mC:\\Anaconda3\\envs\\py35\\lib\\http\\client.py\u001b[0m in \u001b[0;36mbegin\u001b[1;34m(self)\u001b[0m\n\u001b[0;32m    295\u001b[0m         \u001b[1;31m# read until we get a non-100 response\u001b[0m\u001b[1;33m\u001b[0m\u001b[1;33m\u001b[0m\u001b[0m\n\u001b[0;32m    296\u001b[0m         \u001b[1;32mwhile\u001b[0m \u001b[1;32mTrue\u001b[0m\u001b[1;33m:\u001b[0m\u001b[1;33m\u001b[0m\u001b[0m\n\u001b[1;32m--> 297\u001b[1;33m             \u001b[0mversion\u001b[0m\u001b[1;33m,\u001b[0m \u001b[0mstatus\u001b[0m\u001b[1;33m,\u001b[0m \u001b[0mreason\u001b[0m \u001b[1;33m=\u001b[0m \u001b[0mself\u001b[0m\u001b[1;33m.\u001b[0m\u001b[0m_read_status\u001b[0m\u001b[1;33m(\u001b[0m\u001b[1;33m)\u001b[0m\u001b[1;33m\u001b[0m\u001b[0m\n\u001b[0m\u001b[0;32m    298\u001b[0m             \u001b[1;32mif\u001b[0m \u001b[0mstatus\u001b[0m \u001b[1;33m!=\u001b[0m \u001b[0mCONTINUE\u001b[0m\u001b[1;33m:\u001b[0m\u001b[1;33m\u001b[0m\u001b[0m\n\u001b[0;32m    299\u001b[0m                 \u001b[1;32mbreak\u001b[0m\u001b[1;33m\u001b[0m\u001b[0m\n",
      "\u001b[1;32mC:\\Anaconda3\\envs\\py35\\lib\\http\\client.py\u001b[0m in \u001b[0;36m_read_status\u001b[1;34m(self)\u001b[0m\n\u001b[0;32m    256\u001b[0m \u001b[1;33m\u001b[0m\u001b[0m\n\u001b[0;32m    257\u001b[0m     \u001b[1;32mdef\u001b[0m \u001b[0m_read_status\u001b[0m\u001b[1;33m(\u001b[0m\u001b[0mself\u001b[0m\u001b[1;33m)\u001b[0m\u001b[1;33m:\u001b[0m\u001b[1;33m\u001b[0m\u001b[0m\n\u001b[1;32m--> 258\u001b[1;33m         \u001b[0mline\u001b[0m \u001b[1;33m=\u001b[0m \u001b[0mstr\u001b[0m\u001b[1;33m(\u001b[0m\u001b[0mself\u001b[0m\u001b[1;33m.\u001b[0m\u001b[0mfp\u001b[0m\u001b[1;33m.\u001b[0m\u001b[0mreadline\u001b[0m\u001b[1;33m(\u001b[0m\u001b[0m_MAXLINE\u001b[0m \u001b[1;33m+\u001b[0m \u001b[1;36m1\u001b[0m\u001b[1;33m)\u001b[0m\u001b[1;33m,\u001b[0m \u001b[1;34m\"iso-8859-1\"\u001b[0m\u001b[1;33m)\u001b[0m\u001b[1;33m\u001b[0m\u001b[0m\n\u001b[0m\u001b[0;32m    259\u001b[0m         \u001b[1;32mif\u001b[0m \u001b[0mlen\u001b[0m\u001b[1;33m(\u001b[0m\u001b[0mline\u001b[0m\u001b[1;33m)\u001b[0m \u001b[1;33m>\u001b[0m \u001b[0m_MAXLINE\u001b[0m\u001b[1;33m:\u001b[0m\u001b[1;33m\u001b[0m\u001b[0m\n\u001b[0;32m    260\u001b[0m             \u001b[1;32mraise\u001b[0m \u001b[0mLineTooLong\u001b[0m\u001b[1;33m(\u001b[0m\u001b[1;34m\"status line\"\u001b[0m\u001b[1;33m)\u001b[0m\u001b[1;33m\u001b[0m\u001b[0m\n",
      "\u001b[1;32mC:\\Anaconda3\\envs\\py35\\lib\\socket.py\u001b[0m in \u001b[0;36mreadinto\u001b[1;34m(self, b)\u001b[0m\n\u001b[0;32m    573\u001b[0m         \u001b[1;32mwhile\u001b[0m \u001b[1;32mTrue\u001b[0m\u001b[1;33m:\u001b[0m\u001b[1;33m\u001b[0m\u001b[0m\n\u001b[0;32m    574\u001b[0m             \u001b[1;32mtry\u001b[0m\u001b[1;33m:\u001b[0m\u001b[1;33m\u001b[0m\u001b[0m\n\u001b[1;32m--> 575\u001b[1;33m                 \u001b[1;32mreturn\u001b[0m \u001b[0mself\u001b[0m\u001b[1;33m.\u001b[0m\u001b[0m_sock\u001b[0m\u001b[1;33m.\u001b[0m\u001b[0mrecv_into\u001b[0m\u001b[1;33m(\u001b[0m\u001b[0mb\u001b[0m\u001b[1;33m)\u001b[0m\u001b[1;33m\u001b[0m\u001b[0m\n\u001b[0m\u001b[0;32m    576\u001b[0m             \u001b[1;32mexcept\u001b[0m \u001b[0mtimeout\u001b[0m\u001b[1;33m:\u001b[0m\u001b[1;33m\u001b[0m\u001b[0m\n\u001b[0;32m    577\u001b[0m                 \u001b[0mself\u001b[0m\u001b[1;33m.\u001b[0m\u001b[0m_timeout_occurred\u001b[0m \u001b[1;33m=\u001b[0m \u001b[1;32mTrue\u001b[0m\u001b[1;33m\u001b[0m\u001b[0m\n",
      "\u001b[1;31mKeyboardInterrupt\u001b[0m: "
     ]
    }
   ],
   "source": [
    "for x in tel[17:]:\n",
    "    url = \"http://02.the114.net/?PhoneNumber=\" + x\n",
    "    response = requests.get(url)\n",
    "    dom = BeautifulSoup(response.content, \"html.parser\")\n",
    "    tel_elements = dom.select('body')\n",
    "    contents = tel_elements[0].attrs.get('onload')\n",
    "    if contents:\n",
    "        contents = contents.replace(\"initializeMap(\",\"\")\n",
    "        tmp = contents.split(\",\")[0:2]\n",
    "        tmp.append(x)\n",
    "        list.append(tmp)"
   ]
  },
  {
   "cell_type": "code",
   "execution_count": 44,
   "metadata": {
    "collapsed": false
   },
   "outputs": [
    {
     "data": {
      "text/plain": [
       "[['37.4620207', '126.6436682', '0328847131'],\n",
       " ['37.4520816', '126.6374796', '0328817583'],\n",
       " ['37.4180642', '126.7375488', '0324243334'],\n",
       " ['37.3980453          ', '126.7267974         ', '0322707777'],\n",
       " ['37.4452058', '126.7015378', '0324322777'],\n",
       " ['37.501400334351516', '126.67226514759594', '0325743535'],\n",
       " ['37.618736', '126.6590037', '0325617531']]"
      ]
     },
     "execution_count": 44,
     "metadata": {},
     "output_type": "execute_result"
    }
   ],
   "source": [
    "list[:10]"
   ]
  },
  {
   "cell_type": "code",
   "execution_count": 45,
   "metadata": {
    "collapsed": true
   },
   "outputs": [],
   "source": [
    "tel_df = pd.DataFrame(list,columns=['latitude','longtitude','연락처'])"
   ]
  },
  {
   "cell_type": "code",
   "execution_count": 46,
   "metadata": {
    "collapsed": false
   },
   "outputs": [
    {
     "data": {
      "text/html": [
       "<div>\n",
       "<table border=\"1\" class=\"dataframe\">\n",
       "  <thead>\n",
       "    <tr style=\"text-align: right;\">\n",
       "      <th></th>\n",
       "      <th>latitude</th>\n",
       "      <th>longtitude</th>\n",
       "      <th>연락처</th>\n",
       "    </tr>\n",
       "  </thead>\n",
       "  <tbody>\n",
       "    <tr>\n",
       "      <th>0</th>\n",
       "      <td>37.4620207</td>\n",
       "      <td>126.6436682</td>\n",
       "      <td>0328847131</td>\n",
       "    </tr>\n",
       "    <tr>\n",
       "      <th>1</th>\n",
       "      <td>37.4520816</td>\n",
       "      <td>126.6374796</td>\n",
       "      <td>0328817583</td>\n",
       "    </tr>\n",
       "    <tr>\n",
       "      <th>2</th>\n",
       "      <td>37.4180642</td>\n",
       "      <td>126.7375488</td>\n",
       "      <td>0324243334</td>\n",
       "    </tr>\n",
       "    <tr>\n",
       "      <th>3</th>\n",
       "      <td>37.3980453</td>\n",
       "      <td>126.7267974</td>\n",
       "      <td>0322707777</td>\n",
       "    </tr>\n",
       "    <tr>\n",
       "      <th>4</th>\n",
       "      <td>37.4452058</td>\n",
       "      <td>126.7015378</td>\n",
       "      <td>0324322777</td>\n",
       "    </tr>\n",
       "  </tbody>\n",
       "</table>\n",
       "</div>"
      ],
      "text/plain": [
       "               latitude            longtitude         연락처\n",
       "0            37.4620207           126.6436682  0328847131\n",
       "1            37.4520816           126.6374796  0328817583\n",
       "2            37.4180642           126.7375488  0324243334\n",
       "3  37.3980453            126.7267974           0322707777\n",
       "4            37.4452058           126.7015378  0324322777"
      ]
     },
     "execution_count": 46,
     "metadata": {},
     "output_type": "execute_result"
    }
   ],
   "source": [
    "tel_df.head()"
   ]
  },
  {
   "cell_type": "code",
   "execution_count": 47,
   "metadata": {
    "collapsed": false
   },
   "outputs": [
    {
     "data": {
      "text/html": [
       "<div>\n",
       "<table border=\"1\" class=\"dataframe\">\n",
       "  <thead>\n",
       "    <tr style=\"text-align: right;\">\n",
       "      <th></th>\n",
       "      <th>latitude</th>\n",
       "      <th>longtitude</th>\n",
       "      <th>연락처</th>\n",
       "    </tr>\n",
       "  </thead>\n",
       "  <tbody>\n",
       "    <tr>\n",
       "      <th>0</th>\n",
       "      <td>37.4620207</td>\n",
       "      <td>126.6436682</td>\n",
       "      <td>0328847131</td>\n",
       "    </tr>\n",
       "    <tr>\n",
       "      <th>1</th>\n",
       "      <td>37.4520816</td>\n",
       "      <td>126.6374796</td>\n",
       "      <td>0328817583</td>\n",
       "    </tr>\n",
       "    <tr>\n",
       "      <th>2</th>\n",
       "      <td>37.4180642</td>\n",
       "      <td>126.7375488</td>\n",
       "      <td>0324243334</td>\n",
       "    </tr>\n",
       "    <tr>\n",
       "      <th>3</th>\n",
       "      <td>37.3980453</td>\n",
       "      <td>126.7267974</td>\n",
       "      <td>0322707777</td>\n",
       "    </tr>\n",
       "    <tr>\n",
       "      <th>4</th>\n",
       "      <td>37.4452058</td>\n",
       "      <td>126.7015378</td>\n",
       "      <td>0324322777</td>\n",
       "    </tr>\n",
       "    <tr>\n",
       "      <th>5</th>\n",
       "      <td>37.501400334351516</td>\n",
       "      <td>126.67226514759594</td>\n",
       "      <td>0325743535</td>\n",
       "    </tr>\n",
       "    <tr>\n",
       "      <th>6</th>\n",
       "      <td>37.618736</td>\n",
       "      <td>126.6590037</td>\n",
       "      <td>0325617531</td>\n",
       "    </tr>\n",
       "  </tbody>\n",
       "</table>\n",
       "</div>"
      ],
      "text/plain": [
       "               latitude            longtitude         연락처\n",
       "0            37.4620207           126.6436682  0328847131\n",
       "1            37.4520816           126.6374796  0328817583\n",
       "2            37.4180642           126.7375488  0324243334\n",
       "3  37.3980453            126.7267974           0322707777\n",
       "4            37.4452058           126.7015378  0324322777\n",
       "5    37.501400334351516    126.67226514759594  0325743535\n",
       "6             37.618736           126.6590037  0325617531"
      ]
     },
     "execution_count": 47,
     "metadata": {},
     "output_type": "execute_result"
    }
   ],
   "source": [
    "tel_df"
   ]
  },
  {
   "cell_type": "code",
   "execution_count": 48,
   "metadata": {
    "collapsed": false
   },
   "outputs": [],
   "source": [
    "dept['연락처'] = dept['연락처'].str.replace(\"-\",\"\")"
   ]
  },
  {
   "cell_type": "code",
   "execution_count": 49,
   "metadata": {
    "collapsed": true
   },
   "outputs": [],
   "source": [
    "df = pd.merge(dept, tel_df, on='연락처')"
   ]
  },
  {
   "cell_type": "code",
   "execution_count": 50,
   "metadata": {
    "collapsed": false
   },
   "outputs": [
    {
     "data": {
      "text/html": [
       "<div>\n",
       "<table border=\"1\" class=\"dataframe\">\n",
       "  <thead>\n",
       "    <tr style=\"text-align: right;\">\n",
       "      <th></th>\n",
       "      <th>연번</th>\n",
       "      <th>기 관 명</th>\n",
       "      <th>요양기관기호</th>\n",
       "      <th>종별</th>\n",
       "      <th>대 표 자</th>\n",
       "      <th>주   소</th>\n",
       "      <th>진료과</th>\n",
       "      <th>병상</th>\n",
       "      <th>연락처</th>\n",
       "      <th>정보시스템현황</th>\n",
       "      <th>latitude</th>\n",
       "      <th>longtitude</th>\n",
       "    </tr>\n",
       "  </thead>\n",
       "  <tbody>\n",
       "    <tr>\n",
       "      <th>0</th>\n",
       "      <td>199</td>\n",
       "      <td>한국건강관리협회건강증진의원</td>\n",
       "      <td>41500300</td>\n",
       "      <td>의 원</td>\n",
       "      <td>백승일</td>\n",
       "      <td>인천 남구 독배로 500  (숭의동)</td>\n",
       "      <td>IM</td>\n",
       "      <td>0</td>\n",
       "      <td>0328847131</td>\n",
       "      <td>NaN</td>\n",
       "      <td>37.4620207</td>\n",
       "      <td>126.6436682</td>\n",
       "    </tr>\n",
       "    <tr>\n",
       "      <th>1</th>\n",
       "      <td>143</td>\n",
       "      <td>연세이명래내과의원</td>\n",
       "      <td>31364985</td>\n",
       "      <td>의 원</td>\n",
       "      <td>이명래</td>\n",
       "      <td>인천 남구 토금중로40번길 11  (용현동)</td>\n",
       "      <td>IM</td>\n",
       "      <td>0</td>\n",
       "      <td>0328817583</td>\n",
       "      <td>NaN</td>\n",
       "      <td>37.4520816</td>\n",
       "      <td>126.6374796</td>\n",
       "    </tr>\n",
       "    <tr>\n",
       "      <th>2</th>\n",
       "      <td>93</td>\n",
       "      <td>논현새로운내과의원</td>\n",
       "      <td>41339495</td>\n",
       "      <td>의 원</td>\n",
       "      <td>이승희</td>\n",
       "      <td>인천 남동구 논고개로 87 논현메디스타워 4층</td>\n",
       "      <td>IM</td>\n",
       "      <td>0</td>\n",
       "      <td>0324243334</td>\n",
       "      <td>NaN</td>\n",
       "      <td>37.4180642</td>\n",
       "      <td>126.7375488</td>\n",
       "    </tr>\n",
       "    <tr>\n",
       "      <th>3</th>\n",
       "      <td>99</td>\n",
       "      <td>리앤아이산부인과소아청소년과의원</td>\n",
       "      <td>41304756</td>\n",
       "      <td>의 원</td>\n",
       "      <td>윤준</td>\n",
       "      <td>인천 남동구 논고개로 71(논현동) 가산타워3층</td>\n",
       "      <td>OG</td>\n",
       "      <td>0</td>\n",
       "      <td>0322707777</td>\n",
       "      <td>NaN</td>\n",
       "      <td>37.3980453</td>\n",
       "      <td>126.7267974</td>\n",
       "    </tr>\n",
       "    <tr>\n",
       "      <th>4</th>\n",
       "      <td>94</td>\n",
       "      <td>다듬성형외과의원</td>\n",
       "      <td>31357172</td>\n",
       "      <td>의 원</td>\n",
       "      <td>백승우</td>\n",
       "      <td>인천 남동구 구월동 1463 효명프라자3층</td>\n",
       "      <td>PS</td>\n",
       "      <td>0</td>\n",
       "      <td>0324322777</td>\n",
       "      <td>NaN</td>\n",
       "      <td>37.4452058</td>\n",
       "      <td>126.7015378</td>\n",
       "    </tr>\n",
       "  </tbody>\n",
       "</table>\n",
       "</div>"
      ],
      "text/plain": [
       "    연번             기 관 명    요양기관기호   종별 대 표 자                       주   소 진료과  \\\n",
       "0  199    한국건강관리협회건강증진의원  41500300  의 원   백승일       인천 남구 독배로 500  (숭의동)   IM   \n",
       "1  143         연세이명래내과의원  31364985  의 원   이명래   인천 남구 토금중로40번길 11  (용현동)   IM   \n",
       "2   93         논현새로운내과의원  41339495  의 원   이승희   인천 남동구 논고개로 87 논현메디스타워 4층  IM   \n",
       "3   99  리앤아이산부인과소아청소년과의원  41304756  의 원    윤준  인천 남동구 논고개로 71(논현동) 가산타워3층  OG   \n",
       "4   94          다듬성형외과의원  31357172  의 원   백승우     인천 남동구 구월동 1463 효명프라자3층  PS   \n",
       "\n",
       "   병상         연락처  정보시스템현황              latitude            longtitude  \n",
       "0   0  0328847131      NaN            37.4620207           126.6436682  \n",
       "1   0  0328817583      NaN            37.4520816           126.6374796  \n",
       "2   0  0324243334      NaN            37.4180642           126.7375488  \n",
       "3   0  0322707777      NaN  37.3980453            126.7267974           \n",
       "4   0  0324322777      NaN            37.4452058           126.7015378  "
      ]
     },
     "execution_count": 50,
     "metadata": {},
     "output_type": "execute_result"
    }
   ],
   "source": [
    "df.head()"
   ]
  },
  {
   "cell_type": "code",
   "execution_count": 51,
   "metadata": {
    "collapsed": true
   },
   "outputs": [],
   "source": [
    "df.to_csv(\"deptWithLoc.csv\")"
   ]
  },
  {
   "cell_type": "code",
   "execution_count": 104,
   "metadata": {
    "collapsed": false
   },
   "outputs": [],
   "source": [
    "Bed = pd.read_csv(\"Bed2.csv\",encoding='cp949')"
   ]
  },
  {
   "cell_type": "code",
   "execution_count": 105,
   "metadata": {
    "collapsed": false
   },
   "outputs": [
    {
     "data": {
      "text/html": [
       "<div>\n",
       "<table border=\"1\" class=\"dataframe\">\n",
       "  <thead>\n",
       "    <tr style=\"text-align: right;\">\n",
       "      <th></th>\n",
       "      <th>연번</th>\n",
       "      <th>기 관 명</th>\n",
       "      <th>요양기관기호</th>\n",
       "      <th>종별</th>\n",
       "      <th>대 표 자</th>\n",
       "      <th>address</th>\n",
       "      <th>진료과</th>\n",
       "      <th>병상</th>\n",
       "      <th>연락처</th>\n",
       "      <th>정보시스템현황</th>\n",
       "    </tr>\n",
       "  </thead>\n",
       "  <tbody>\n",
       "    <tr>\n",
       "      <th>0</th>\n",
       "      <td>1</td>\n",
       "      <td>강화병원</td>\n",
       "      <td>31200451</td>\n",
       "      <td>종합병원</td>\n",
       "      <td>장성호</td>\n",
       "      <td>인천 강화군 강화읍 강화대로312번길 11</td>\n",
       "      <td>NaN</td>\n",
       "      <td>200</td>\n",
       "      <td>032-930-8100</td>\n",
       "      <td>NaN</td>\n",
       "    </tr>\n",
       "    <tr>\n",
       "      <th>1</th>\n",
       "      <td>2</td>\n",
       "      <td>검단탑병원</td>\n",
       "      <td>31100970</td>\n",
       "      <td>종합병원</td>\n",
       "      <td>이준섭</td>\n",
       "      <td>인천 서구 청마로19번길 5</td>\n",
       "      <td>NaN</td>\n",
       "      <td>300</td>\n",
       "      <td>032-590-0114</td>\n",
       "      <td>NG테크</td>\n",
       "    </tr>\n",
       "    <tr>\n",
       "      <th>2</th>\n",
       "      <td>3</td>\n",
       "      <td>근로복지공단 안산병원</td>\n",
       "      <td>31101020</td>\n",
       "      <td>종합병원</td>\n",
       "      <td>임호영</td>\n",
       "      <td>경기도 안산시 상록구 구룡로 87</td>\n",
       "      <td>NaN</td>\n",
       "      <td>300</td>\n",
       "      <td>031-500-0114</td>\n",
       "      <td>NaN</td>\n",
       "    </tr>\n",
       "    <tr>\n",
       "      <th>3</th>\n",
       "      <td>4</td>\n",
       "      <td>근로복지공단 인천병원</td>\n",
       "      <td>31101208</td>\n",
       "      <td>종합병원</td>\n",
       "      <td>양유휘</td>\n",
       "      <td>인천 부평구 무네미로 446 (구산동)</td>\n",
       "      <td>NaN</td>\n",
       "      <td>300</td>\n",
       "      <td>032-500-0114</td>\n",
       "      <td>NaN</td>\n",
       "    </tr>\n",
       "    <tr>\n",
       "      <th>4</th>\n",
       "      <td>5</td>\n",
       "      <td>나사렛국제병원</td>\n",
       "      <td>31101011</td>\n",
       "      <td>종합병원</td>\n",
       "      <td>이순자</td>\n",
       "      <td>인천 연수구 먼우금로 98 (동춘동)</td>\n",
       "      <td>NaN</td>\n",
       "      <td>300</td>\n",
       "      <td>032-899-9999</td>\n",
       "      <td>NG테크</td>\n",
       "    </tr>\n",
       "  </tbody>\n",
       "</table>\n",
       "</div>"
      ],
      "text/plain": [
       "   연번        기 관 명    요양기관기호    종별 대 표 자                   address  진료과   병상  \\\n",
       "0   1         강화병원  31200451  종합병원   장성호  인천 강화군 강화읍 강화대로312번길 11   NaN  200   \n",
       "1   2        검단탑병원  31100970  종합병원   이준섭          인천 서구 청마로19번길 5   NaN  300   \n",
       "2   3  근로복지공단 안산병원  31101020  종합병원   임호영        경기도 안산시 상록구 구룡로 87  NaN  300   \n",
       "3   4  근로복지공단 인천병원  31101208  종합병원   양유휘     인천 부평구 무네미로 446 (구산동)  NaN  300   \n",
       "4   5      나사렛국제병원  31101011  종합병원   이순자     인천 연수구 먼우금로 98 (동춘동)   NaN  300   \n",
       "\n",
       "            연락처 정보시스템현황  \n",
       "0  032-930-8100     NaN  \n",
       "1  032-590-0114    NG테크  \n",
       "2  031-500-0114     NaN  \n",
       "3  032-500-0114     NaN  \n",
       "4  032-899-9999    NG테크  "
      ]
     },
     "execution_count": 105,
     "metadata": {},
     "output_type": "execute_result"
    }
   ],
   "source": [
    "Bed.head()"
   ]
  },
  {
   "cell_type": "code",
   "execution_count": 54,
   "metadata": {
    "collapsed": true
   },
   "outputs": [],
   "source": [
    "tel = Bed['연락처']"
   ]
  },
  {
   "cell_type": "code",
   "execution_count": 55,
   "metadata": {
    "collapsed": true
   },
   "outputs": [],
   "source": [
    "tel = tel.str.replace(\"-\",\"\")"
   ]
  },
  {
   "cell_type": "code",
   "execution_count": 56,
   "metadata": {
    "collapsed": true
   },
   "outputs": [],
   "source": [
    "list = []"
   ]
  },
  {
   "cell_type": "code",
   "execution_count": 57,
   "metadata": {
    "collapsed": false
   },
   "outputs": [
    {
     "name": "stdout",
     "output_type": "stream",
     "text": [
      "0315000114\n",
      "0325840114\n",
      "0313106300\n",
      "18007070\n",
      "0325135500\n",
      "0325523500\n",
      "0328136300\n",
      "0324510000\n",
      "0324211288\n",
      "0324306200\n",
      "0324385800\n",
      "0328630051\n",
      "0324391800\n"
     ]
    }
   ],
   "source": [
    "for x in tel:\n",
    "    url = \"http://02.the114.net/?PhoneNumber=\" + x\n",
    "    response = requests.get(url)\n",
    "    dom = BeautifulSoup(response.content, \"html.parser\")\n",
    "    tel_elements = dom.select('body')\n",
    "    contents = tel_elements[0].attrs.get('onload')\n",
    "    if contents:\n",
    "        print(x)\n",
    "        contents = contents.replace(\"initializeMap(\",\"\")\n",
    "        tmp = contents.split(\",\")[0:2]\n",
    "        tmp.append(x)\n",
    "        list.append(tmp)"
   ]
  },
  {
   "cell_type": "code",
   "execution_count": 58,
   "metadata": {
    "collapsed": true
   },
   "outputs": [],
   "source": [
    "tel_df = pd.DataFrame(list,columns=['latitude','longtitude','연락처'])"
   ]
  },
  {
   "cell_type": "code",
   "execution_count": 59,
   "metadata": {
    "collapsed": true
   },
   "outputs": [],
   "source": [
    "Bed['연락처'] = Bed['연락처'].str.replace(\"-\",\"\")"
   ]
  },
  {
   "cell_type": "code",
   "execution_count": 60,
   "metadata": {
    "collapsed": true
   },
   "outputs": [],
   "source": [
    "df = pd.merge(Bed, tel_df, on='연락처')"
   ]
  },
  {
   "cell_type": "code",
   "execution_count": 61,
   "metadata": {
    "collapsed": false
   },
   "outputs": [
    {
     "data": {
      "text/html": [
       "<div>\n",
       "<table border=\"1\" class=\"dataframe\">\n",
       "  <thead>\n",
       "    <tr style=\"text-align: right;\">\n",
       "      <th></th>\n",
       "      <th>연번</th>\n",
       "      <th>기 관 명</th>\n",
       "      <th>요양기관기호</th>\n",
       "      <th>종별</th>\n",
       "      <th>대 표 자</th>\n",
       "      <th>주   소</th>\n",
       "      <th>진료과</th>\n",
       "      <th>병상</th>\n",
       "      <th>연락처</th>\n",
       "      <th>정보시스템현황</th>\n",
       "      <th>latitude</th>\n",
       "      <th>longtitude</th>\n",
       "    </tr>\n",
       "  </thead>\n",
       "  <tbody>\n",
       "    <tr>\n",
       "      <th>0</th>\n",
       "      <td>3</td>\n",
       "      <td>근로복지공단 안산병원</td>\n",
       "      <td>31101020</td>\n",
       "      <td>종합병원</td>\n",
       "      <td>임호영</td>\n",
       "      <td>경기도 안산시 상록구 구룡로 87</td>\n",
       "      <td>NaN</td>\n",
       "      <td>300</td>\n",
       "      <td>0315000114</td>\n",
       "      <td>NaN</td>\n",
       "      <td>37.2960396</td>\n",
       "      <td>126.8348662</td>\n",
       "    </tr>\n",
       "    <tr>\n",
       "      <th>1</th>\n",
       "      <td>6</td>\n",
       "      <td>의료법인루가의료재단나은병원</td>\n",
       "      <td>31100724</td>\n",
       "      <td>종합병원</td>\n",
       "      <td>하헌영</td>\n",
       "      <td>인천 서구 가좌3동 277</td>\n",
       "      <td>NaN</td>\n",
       "      <td>300</td>\n",
       "      <td>0325840114</td>\n",
       "      <td>Metor HIS</td>\n",
       "      <td>37.4890591857553</td>\n",
       "      <td>126.67978186783348</td>\n",
       "    </tr>\n",
       "    <tr>\n",
       "      <th>2</th>\n",
       "      <td>13</td>\n",
       "      <td>의료법인녹향의료재단신천연합병원</td>\n",
       "      <td>31100635</td>\n",
       "      <td>종합병원</td>\n",
       "      <td>노경선</td>\n",
       "      <td>경기 시흥시 복지로 57 (대야동)</td>\n",
       "      <td>NaN</td>\n",
       "      <td>200</td>\n",
       "      <td>0313106300</td>\n",
       "      <td>NaN</td>\n",
       "      <td>37.44452884111452</td>\n",
       "      <td>126.78938391707422</td>\n",
       "    </tr>\n",
       "    <tr>\n",
       "      <th>3</th>\n",
       "      <td>17</td>\n",
       "      <td>의료법인성수의료재단인천백병원</td>\n",
       "      <td>31101216</td>\n",
       "      <td>종합병원</td>\n",
       "      <td>백승호</td>\n",
       "      <td>인천 동구 송림6동 샛골로 214</td>\n",
       "      <td>NaN</td>\n",
       "      <td>300</td>\n",
       "      <td>18007070</td>\n",
       "      <td>NaN</td>\n",
       "      <td>37.4817476</td>\n",
       "      <td>126.6457288</td>\n",
       "    </tr>\n",
       "    <tr>\n",
       "      <th>4</th>\n",
       "      <td>28</td>\n",
       "      <td>부평중앙병원</td>\n",
       "      <td>31202675</td>\n",
       "      <td>병 원</td>\n",
       "      <td>한완수</td>\n",
       "      <td>인천 부평구 부평동 465-2</td>\n",
       "      <td>NaN</td>\n",
       "      <td>100</td>\n",
       "      <td>0325135500</td>\n",
       "      <td>NaN</td>\n",
       "      <td>37.49968167615518</td>\n",
       "      <td>126.72161100902521</td>\n",
       "    </tr>\n",
       "  </tbody>\n",
       "</table>\n",
       "</div>"
      ],
      "text/plain": [
       "   연번             기 관 명    요양기관기호    종별 대 표 자                 주   소  진료과   병상  \\\n",
       "0   3       근로복지공단 안산병원  31101020  종합병원   임호영    경기도 안산시 상록구 구룡로 87  NaN  300   \n",
       "1   6    의료법인루가의료재단나은병원  31100724  종합병원   하헌영        인천 서구 가좌3동 277  NaN  300   \n",
       "2  13  의료법인녹향의료재단신천연합병원  31100635  종합병원   노경선  경기 시흥시 복지로 57 (대야동)   NaN  200   \n",
       "3  17   의료법인성수의료재단인천백병원  31101216  종합병원   백승호   인천 동구 송림6동 샛골로 214   NaN  300   \n",
       "4  28            부평중앙병원  31202675   병 원   한완수      인천 부평구 부평동 465-2  NaN  100   \n",
       "\n",
       "          연락처    정보시스템현황              latitude            longtitude  \n",
       "0  0315000114        NaN            37.2960396           126.8348662  \n",
       "1  0325840114  Metor HIS      37.4890591857553    126.67978186783348  \n",
       "2  0313106300        NaN     37.44452884111452    126.78938391707422  \n",
       "3    18007070        NaN  37.4817476            126.6457288           \n",
       "4  0325135500        NaN     37.49968167615518    126.72161100902521  "
      ]
     },
     "execution_count": 61,
     "metadata": {},
     "output_type": "execute_result"
    }
   ],
   "source": [
    "df.head()"
   ]
  },
  {
   "cell_type": "code",
   "execution_count": 40,
   "metadata": {
    "collapsed": true
   },
   "outputs": [],
   "source": [
    "df.to_csv(\"BedwithLoc.csv\")"
   ]
  },
  {
   "cell_type": "code",
   "execution_count": 11,
   "metadata": {
    "collapsed": true
   },
   "outputs": [],
   "source": [
    "import os\n",
    "import sys\n",
    "import urllib.request"
   ]
  },
  {
   "cell_type": "code",
   "execution_count": 5,
   "metadata": {
    "collapsed": true
   },
   "outputs": [],
   "source": [
    "import json"
   ]
  },
  {
   "cell_type": "code",
   "execution_count": 6,
   "metadata": {
    "collapsed": true
   },
   "outputs": [],
   "source": [
    "# naver API \n",
    "#client_id = \"\"\n",
    "#client_secret = \"\""
   ]
  },
  {
   "cell_type": "code",
   "execution_count": 7,
   "metadata": {
    "collapsed": false
   },
   "outputs": [],
   "source": [
    "loc = Bed.iloc[:,5]"
   ]
  },
  {
   "cell_type": "code",
   "execution_count": 8,
   "metadata": {
    "collapsed": false
   },
   "outputs": [
    {
     "data": {
      "text/plain": [
       "0       인천 강화군 강화읍 강화대로312번길 11 \n",
       "1               인천 서구 청마로19번길 5 \n",
       "2             경기도 안산시 상록구 구룡로 87\n",
       "3          인천 부평구 무네미로 446 (구산동)\n",
       "4          인천 연수구 먼우금로 98 (동춘동) \n",
       "5                 인천 서구 가좌3동 277\n",
       "6    경기 김포시 김포한강3로 283  (장기동)   \n",
       "7     경기 안산시 단원구 원포공원1로 20 (초지동)\n",
       "8            인천 서구 신석로 70 (석남동) \n",
       "9                 인천 부평구 청천동 302\n",
       "Name: 주   소, dtype: object"
      ]
     },
     "execution_count": 8,
     "metadata": {},
     "output_type": "execute_result"
    }
   ],
   "source": [
    "loc[:10]"
   ]
  },
  {
   "cell_type": "code",
   "execution_count": 115,
   "metadata": {
    "collapsed": true
   },
   "outputs": [],
   "source": [
    "location = []"
   ]
  },
  {
   "cell_type": "code",
   "execution_count": 116,
   "metadata": {
    "collapsed": true
   },
   "outputs": [],
   "source": [
    "cnt = 0"
   ]
  },
  {
   "cell_type": "code",
   "execution_count": 117,
   "metadata": {
    "collapsed": false
   },
   "outputs": [
    {
     "data": {
      "text/plain": [
       "'경기 부천시 소사구 경인로160번길 22 (송내동) '"
      ]
     },
     "execution_count": 117,
     "metadata": {},
     "output_type": "execute_result"
    }
   ],
   "source": [
    "loc.ix[71,:]"
   ]
  },
  {
   "cell_type": "code",
   "execution_count": 122,
   "metadata": {
    "collapsed": false,
    "scrolled": false
   },
   "outputs": [
    {
     "name": "stdout",
     "output_type": "stream",
     "text": [
      "50\n",
      "인천 부평구 청천동 15-31\n",
      "51\n",
      "인천 남동구 예술로192번길 36\n",
      "52\n",
      "인천 부평구 마장로 246 \n",
      "53\n",
      "인천 남동구 간석4동  240-5\n",
      "54\n",
      "인천 연수구 옥련동 186번지 7필지\n",
      "55\n",
      "인천 남구 학익2동 4-21\n",
      "56\n",
      "인천 중구 경동 187-3\n",
      "57\n",
      "인천 계양구 계양대로 188  (계산동) 대덕노바체빌딩\n",
      "58\n",
      "인천 부평구 장제로 129 (부평동) \n",
      "59\n",
      "인천 연수구 청능대로 54\n",
      "60\n",
      "인천 남동구 논고개로123번길 35 \n",
      "61\n",
      "인천 남구 미추홀대로 699\n",
      "62\n",
      "인천 남동구 호구포로 212 대양프라자6.7층\n",
      "63\n",
      "인천 남구 아암대로29번길 48  (용현동) \n",
      "64\n",
      "인천 남구 경원대로 891 (주안동) \n",
      "65\n",
      "인천 중구 우현로 62번길 30\n",
      "66\n",
      "인천 서구 원창로240번길 9 \n",
      "67\n",
      "인천 남구 한나루로 505번지\n",
      "68\n",
      "인천 서구 가정로 270 \n",
      "69\n",
      "인천 계양구 오조산로 51  (계산동) \n",
      "70\n",
      "인천 남구 인중로 13  (숭의동) \n",
      "71\n",
      "인천 계양구 장제로 672 광평프라자 2층\n",
      "72\n"
     ]
    },
    {
     "ename": "HTTPError",
     "evalue": "HTTP Error 404: Not Found",
     "output_type": "error",
     "traceback": [
      "\u001b[1;31m---------------------------------------------------------------------------\u001b[0m",
      "\u001b[1;31mHTTPError\u001b[0m                                 Traceback (most recent call last)",
      "\u001b[1;32m<ipython-input-122-c6e4d4e2a57c>\u001b[0m in \u001b[0;36m<module>\u001b[1;34m()\u001b[0m\n\u001b[0;32m      8\u001b[0m     \u001b[0mrequest\u001b[0m\u001b[1;33m.\u001b[0m\u001b[0madd_header\u001b[0m\u001b[1;33m(\u001b[0m\u001b[1;34m\"X-Naver-Client-Id\"\u001b[0m\u001b[1;33m,\u001b[0m\u001b[0mclient_id\u001b[0m\u001b[1;33m)\u001b[0m\u001b[1;33m\u001b[0m\u001b[0m\n\u001b[0;32m      9\u001b[0m     \u001b[0mrequest\u001b[0m\u001b[1;33m.\u001b[0m\u001b[0madd_header\u001b[0m\u001b[1;33m(\u001b[0m\u001b[1;34m\"X-Naver-Client-Secret\"\u001b[0m\u001b[1;33m,\u001b[0m\u001b[0mclient_secret\u001b[0m\u001b[1;33m)\u001b[0m\u001b[1;33m\u001b[0m\u001b[0m\n\u001b[1;32m---> 10\u001b[1;33m     \u001b[0mresponse\u001b[0m \u001b[1;33m=\u001b[0m \u001b[0murllib\u001b[0m\u001b[1;33m.\u001b[0m\u001b[0mrequest\u001b[0m\u001b[1;33m.\u001b[0m\u001b[0murlopen\u001b[0m\u001b[1;33m(\u001b[0m\u001b[0mrequest\u001b[0m\u001b[1;33m)\u001b[0m\u001b[1;33m\u001b[0m\u001b[0m\n\u001b[0m\u001b[0;32m     11\u001b[0m     \u001b[0mrescode\u001b[0m \u001b[1;33m=\u001b[0m \u001b[0mresponse\u001b[0m\u001b[1;33m.\u001b[0m\u001b[0mgetcode\u001b[0m\u001b[1;33m(\u001b[0m\u001b[1;33m)\u001b[0m\u001b[1;33m\u001b[0m\u001b[0m\n\u001b[0;32m     12\u001b[0m     \u001b[0mprint\u001b[0m\u001b[1;33m(\u001b[0m\u001b[0mx\u001b[0m\u001b[1;33m)\u001b[0m\u001b[1;33m\u001b[0m\u001b[0m\n",
      "\u001b[1;32mC:\\Anaconda3\\envs\\py35\\lib\\urllib\\request.py\u001b[0m in \u001b[0;36murlopen\u001b[1;34m(url, data, timeout, cafile, capath, cadefault, context)\u001b[0m\n\u001b[0;32m    161\u001b[0m     \u001b[1;32melse\u001b[0m\u001b[1;33m:\u001b[0m\u001b[1;33m\u001b[0m\u001b[0m\n\u001b[0;32m    162\u001b[0m         \u001b[0mopener\u001b[0m \u001b[1;33m=\u001b[0m \u001b[0m_opener\u001b[0m\u001b[1;33m\u001b[0m\u001b[0m\n\u001b[1;32m--> 163\u001b[1;33m     \u001b[1;32mreturn\u001b[0m \u001b[0mopener\u001b[0m\u001b[1;33m.\u001b[0m\u001b[0mopen\u001b[0m\u001b[1;33m(\u001b[0m\u001b[0murl\u001b[0m\u001b[1;33m,\u001b[0m \u001b[0mdata\u001b[0m\u001b[1;33m,\u001b[0m \u001b[0mtimeout\u001b[0m\u001b[1;33m)\u001b[0m\u001b[1;33m\u001b[0m\u001b[0m\n\u001b[0m\u001b[0;32m    164\u001b[0m \u001b[1;33m\u001b[0m\u001b[0m\n\u001b[0;32m    165\u001b[0m \u001b[1;32mdef\u001b[0m \u001b[0minstall_opener\u001b[0m\u001b[1;33m(\u001b[0m\u001b[0mopener\u001b[0m\u001b[1;33m)\u001b[0m\u001b[1;33m:\u001b[0m\u001b[1;33m\u001b[0m\u001b[0m\n",
      "\u001b[1;32mC:\\Anaconda3\\envs\\py35\\lib\\urllib\\request.py\u001b[0m in \u001b[0;36mopen\u001b[1;34m(self, fullurl, data, timeout)\u001b[0m\n\u001b[0;32m    470\u001b[0m         \u001b[1;32mfor\u001b[0m \u001b[0mprocessor\u001b[0m \u001b[1;32min\u001b[0m \u001b[0mself\u001b[0m\u001b[1;33m.\u001b[0m\u001b[0mprocess_response\u001b[0m\u001b[1;33m.\u001b[0m\u001b[0mget\u001b[0m\u001b[1;33m(\u001b[0m\u001b[0mprotocol\u001b[0m\u001b[1;33m,\u001b[0m \u001b[1;33m[\u001b[0m\u001b[1;33m]\u001b[0m\u001b[1;33m)\u001b[0m\u001b[1;33m:\u001b[0m\u001b[1;33m\u001b[0m\u001b[0m\n\u001b[0;32m    471\u001b[0m             \u001b[0mmeth\u001b[0m \u001b[1;33m=\u001b[0m \u001b[0mgetattr\u001b[0m\u001b[1;33m(\u001b[0m\u001b[0mprocessor\u001b[0m\u001b[1;33m,\u001b[0m \u001b[0mmeth_name\u001b[0m\u001b[1;33m)\u001b[0m\u001b[1;33m\u001b[0m\u001b[0m\n\u001b[1;32m--> 472\u001b[1;33m             \u001b[0mresponse\u001b[0m \u001b[1;33m=\u001b[0m \u001b[0mmeth\u001b[0m\u001b[1;33m(\u001b[0m\u001b[0mreq\u001b[0m\u001b[1;33m,\u001b[0m \u001b[0mresponse\u001b[0m\u001b[1;33m)\u001b[0m\u001b[1;33m\u001b[0m\u001b[0m\n\u001b[0m\u001b[0;32m    473\u001b[0m \u001b[1;33m\u001b[0m\u001b[0m\n\u001b[0;32m    474\u001b[0m         \u001b[1;32mreturn\u001b[0m \u001b[0mresponse\u001b[0m\u001b[1;33m\u001b[0m\u001b[0m\n",
      "\u001b[1;32mC:\\Anaconda3\\envs\\py35\\lib\\urllib\\request.py\u001b[0m in \u001b[0;36mhttp_response\u001b[1;34m(self, request, response)\u001b[0m\n\u001b[0;32m    580\u001b[0m         \u001b[1;32mif\u001b[0m \u001b[1;32mnot\u001b[0m \u001b[1;33m(\u001b[0m\u001b[1;36m200\u001b[0m \u001b[1;33m<=\u001b[0m \u001b[0mcode\u001b[0m \u001b[1;33m<\u001b[0m \u001b[1;36m300\u001b[0m\u001b[1;33m)\u001b[0m\u001b[1;33m:\u001b[0m\u001b[1;33m\u001b[0m\u001b[0m\n\u001b[0;32m    581\u001b[0m             response = self.parent.error(\n\u001b[1;32m--> 582\u001b[1;33m                 'http', request, response, code, msg, hdrs)\n\u001b[0m\u001b[0;32m    583\u001b[0m \u001b[1;33m\u001b[0m\u001b[0m\n\u001b[0;32m    584\u001b[0m         \u001b[1;32mreturn\u001b[0m \u001b[0mresponse\u001b[0m\u001b[1;33m\u001b[0m\u001b[0m\n",
      "\u001b[1;32mC:\\Anaconda3\\envs\\py35\\lib\\urllib\\request.py\u001b[0m in \u001b[0;36merror\u001b[1;34m(self, proto, *args)\u001b[0m\n\u001b[0;32m    508\u001b[0m         \u001b[1;32mif\u001b[0m \u001b[0mhttp_err\u001b[0m\u001b[1;33m:\u001b[0m\u001b[1;33m\u001b[0m\u001b[0m\n\u001b[0;32m    509\u001b[0m             \u001b[0margs\u001b[0m \u001b[1;33m=\u001b[0m \u001b[1;33m(\u001b[0m\u001b[0mdict\u001b[0m\u001b[1;33m,\u001b[0m \u001b[1;34m'default'\u001b[0m\u001b[1;33m,\u001b[0m \u001b[1;34m'http_error_default'\u001b[0m\u001b[1;33m)\u001b[0m \u001b[1;33m+\u001b[0m \u001b[0morig_args\u001b[0m\u001b[1;33m\u001b[0m\u001b[0m\n\u001b[1;32m--> 510\u001b[1;33m             \u001b[1;32mreturn\u001b[0m \u001b[0mself\u001b[0m\u001b[1;33m.\u001b[0m\u001b[0m_call_chain\u001b[0m\u001b[1;33m(\u001b[0m\u001b[1;33m*\u001b[0m\u001b[0margs\u001b[0m\u001b[1;33m)\u001b[0m\u001b[1;33m\u001b[0m\u001b[0m\n\u001b[0m\u001b[0;32m    511\u001b[0m \u001b[1;33m\u001b[0m\u001b[0m\n\u001b[0;32m    512\u001b[0m \u001b[1;31m# XXX probably also want an abstract factory that knows when it makes\u001b[0m\u001b[1;33m\u001b[0m\u001b[1;33m\u001b[0m\u001b[0m\n",
      "\u001b[1;32mC:\\Anaconda3\\envs\\py35\\lib\\urllib\\request.py\u001b[0m in \u001b[0;36m_call_chain\u001b[1;34m(self, chain, kind, meth_name, *args)\u001b[0m\n\u001b[0;32m    442\u001b[0m         \u001b[1;32mfor\u001b[0m \u001b[0mhandler\u001b[0m \u001b[1;32min\u001b[0m \u001b[0mhandlers\u001b[0m\u001b[1;33m:\u001b[0m\u001b[1;33m\u001b[0m\u001b[0m\n\u001b[0;32m    443\u001b[0m             \u001b[0mfunc\u001b[0m \u001b[1;33m=\u001b[0m \u001b[0mgetattr\u001b[0m\u001b[1;33m(\u001b[0m\u001b[0mhandler\u001b[0m\u001b[1;33m,\u001b[0m \u001b[0mmeth_name\u001b[0m\u001b[1;33m)\u001b[0m\u001b[1;33m\u001b[0m\u001b[0m\n\u001b[1;32m--> 444\u001b[1;33m             \u001b[0mresult\u001b[0m \u001b[1;33m=\u001b[0m \u001b[0mfunc\u001b[0m\u001b[1;33m(\u001b[0m\u001b[1;33m*\u001b[0m\u001b[0margs\u001b[0m\u001b[1;33m)\u001b[0m\u001b[1;33m\u001b[0m\u001b[0m\n\u001b[0m\u001b[0;32m    445\u001b[0m             \u001b[1;32mif\u001b[0m \u001b[0mresult\u001b[0m \u001b[1;32mis\u001b[0m \u001b[1;32mnot\u001b[0m \u001b[1;32mNone\u001b[0m\u001b[1;33m:\u001b[0m\u001b[1;33m\u001b[0m\u001b[0m\n\u001b[0;32m    446\u001b[0m                 \u001b[1;32mreturn\u001b[0m \u001b[0mresult\u001b[0m\u001b[1;33m\u001b[0m\u001b[0m\n",
      "\u001b[1;32mC:\\Anaconda3\\envs\\py35\\lib\\urllib\\request.py\u001b[0m in \u001b[0;36mhttp_error_default\u001b[1;34m(self, req, fp, code, msg, hdrs)\u001b[0m\n\u001b[0;32m    588\u001b[0m \u001b[1;32mclass\u001b[0m \u001b[0mHTTPDefaultErrorHandler\u001b[0m\u001b[1;33m(\u001b[0m\u001b[0mBaseHandler\u001b[0m\u001b[1;33m)\u001b[0m\u001b[1;33m:\u001b[0m\u001b[1;33m\u001b[0m\u001b[0m\n\u001b[0;32m    589\u001b[0m     \u001b[1;32mdef\u001b[0m \u001b[0mhttp_error_default\u001b[0m\u001b[1;33m(\u001b[0m\u001b[0mself\u001b[0m\u001b[1;33m,\u001b[0m \u001b[0mreq\u001b[0m\u001b[1;33m,\u001b[0m \u001b[0mfp\u001b[0m\u001b[1;33m,\u001b[0m \u001b[0mcode\u001b[0m\u001b[1;33m,\u001b[0m \u001b[0mmsg\u001b[0m\u001b[1;33m,\u001b[0m \u001b[0mhdrs\u001b[0m\u001b[1;33m)\u001b[0m\u001b[1;33m:\u001b[0m\u001b[1;33m\u001b[0m\u001b[0m\n\u001b[1;32m--> 590\u001b[1;33m         \u001b[1;32mraise\u001b[0m \u001b[0mHTTPError\u001b[0m\u001b[1;33m(\u001b[0m\u001b[0mreq\u001b[0m\u001b[1;33m.\u001b[0m\u001b[0mfull_url\u001b[0m\u001b[1;33m,\u001b[0m \u001b[0mcode\u001b[0m\u001b[1;33m,\u001b[0m \u001b[0mmsg\u001b[0m\u001b[1;33m,\u001b[0m \u001b[0mhdrs\u001b[0m\u001b[1;33m,\u001b[0m \u001b[0mfp\u001b[0m\u001b[1;33m)\u001b[0m\u001b[1;33m\u001b[0m\u001b[0m\n\u001b[0m\u001b[0;32m    591\u001b[0m \u001b[1;33m\u001b[0m\u001b[0m\n\u001b[0;32m    592\u001b[0m \u001b[1;32mclass\u001b[0m \u001b[0mHTTPRedirectHandler\u001b[0m\u001b[1;33m(\u001b[0m\u001b[0mBaseHandler\u001b[0m\u001b[1;33m)\u001b[0m\u001b[1;33m:\u001b[0m\u001b[1;33m\u001b[0m\u001b[0m\n",
      "\u001b[1;31mHTTPError\u001b[0m: HTTP Error 404: Not Found"
     ]
    }
   ],
   "source": [
    "for x in loc[49:]:\n",
    "    cnt = cnt + 1\n",
    "    print(cnt)\n",
    "    encText = urllib.parse.quote(x)\n",
    "    url = \"https://openapi.naver.com/v1/map/geocode?query=\" + encText # json 결과\n",
    "    # url = \"https://openapi.naver.com/v1/map/geocode.xml?query=\" + encText # xml 결과\n",
    "    request = urllib.request.Request(url)\n",
    "    request.add_header(\"X-Naver-Client-Id\",client_id)\n",
    "    request.add_header(\"X-Naver-Client-Secret\",client_secret)\n",
    "    response = urllib.request.urlopen(request)\n",
    "    rescode = response.getcode()\n",
    "    print(x)\n",
    "    if(rescode==200):\n",
    "        response_body = response.read()\n",
    "        #print(response_body.decode('utf-8'))\n",
    "        a = response_body.decode('utf-8')\n",
    "        dicts = json.loads(a)\n",
    "        tmp = pd.DataFrame(dicts['result']['items'])\n",
    "        tt = dict(tmp.point)[0]\n",
    "        long = tt['x']\n",
    "        lat = tt['y']\n",
    "        location_tmp = [long,lat,x]\n",
    "        location.append(location_tmp)\n",
    "    else:\n",
    "        print(\"Error Code:\" + rescode)"
   ]
  },
  {
   "cell_type": "code",
   "execution_count": 123,
   "metadata": {
    "collapsed": false
   },
   "outputs": [
    {
     "data": {
      "text/plain": [
       "67"
      ]
     },
     "execution_count": 123,
     "metadata": {},
     "output_type": "execute_result"
    }
   ],
   "source": [
    "len(location)"
   ]
  },
  {
   "cell_type": "code",
   "execution_count": 124,
   "metadata": {
    "collapsed": false
   },
   "outputs": [
    {
     "data": {
      "text/plain": [
       "[[126.4961098, 37.7424362, '인천 강화군 강화읍 강화대로312번길 11 '],\n",
       " [126.671175, 37.5924904, '인천 서구 청마로19번길 5 '],\n",
       " [126.874139, 37.3167269, '경기도 안산시 상록구 구룡로 87']]"
      ]
     },
     "execution_count": 124,
     "metadata": {},
     "output_type": "execute_result"
    }
   ],
   "source": [
    "location[:3]"
   ]
  },
  {
   "cell_type": "code",
   "execution_count": 125,
   "metadata": {
    "collapsed": true
   },
   "outputs": [],
   "source": [
    "loc_df = pd.DataFrame(location,columns=['latitude','longtitude','address'])"
   ]
  },
  {
   "cell_type": "code",
   "execution_count": 126,
   "metadata": {
    "collapsed": false
   },
   "outputs": [],
   "source": [
    "df = pd.merge(Bed, loc_df, on='address')"
   ]
  },
  {
   "cell_type": "code",
   "execution_count": 127,
   "metadata": {
    "collapsed": false
   },
   "outputs": [
    {
     "data": {
      "text/html": [
       "<div>\n",
       "<table border=\"1\" class=\"dataframe\">\n",
       "  <thead>\n",
       "    <tr style=\"text-align: right;\">\n",
       "      <th></th>\n",
       "      <th>연번</th>\n",
       "      <th>기 관 명</th>\n",
       "      <th>요양기관기호</th>\n",
       "      <th>종별</th>\n",
       "      <th>대 표 자</th>\n",
       "      <th>address</th>\n",
       "      <th>진료과</th>\n",
       "      <th>병상</th>\n",
       "      <th>연락처</th>\n",
       "      <th>정보시스템현황</th>\n",
       "      <th>latitude</th>\n",
       "      <th>longtitude</th>\n",
       "    </tr>\n",
       "  </thead>\n",
       "  <tbody>\n",
       "    <tr>\n",
       "      <th>0</th>\n",
       "      <td>1</td>\n",
       "      <td>강화병원</td>\n",
       "      <td>31200451</td>\n",
       "      <td>종합병원</td>\n",
       "      <td>장성호</td>\n",
       "      <td>인천 강화군 강화읍 강화대로312번길 11</td>\n",
       "      <td>NaN</td>\n",
       "      <td>200</td>\n",
       "      <td>032-930-8100</td>\n",
       "      <td>NaN</td>\n",
       "      <td>126.496110</td>\n",
       "      <td>37.742436</td>\n",
       "    </tr>\n",
       "    <tr>\n",
       "      <th>1</th>\n",
       "      <td>2</td>\n",
       "      <td>검단탑병원</td>\n",
       "      <td>31100970</td>\n",
       "      <td>종합병원</td>\n",
       "      <td>이준섭</td>\n",
       "      <td>인천 서구 청마로19번길 5</td>\n",
       "      <td>NaN</td>\n",
       "      <td>300</td>\n",
       "      <td>032-590-0114</td>\n",
       "      <td>NG테크</td>\n",
       "      <td>126.671175</td>\n",
       "      <td>37.592490</td>\n",
       "    </tr>\n",
       "    <tr>\n",
       "      <th>2</th>\n",
       "      <td>3</td>\n",
       "      <td>근로복지공단 안산병원</td>\n",
       "      <td>31101020</td>\n",
       "      <td>종합병원</td>\n",
       "      <td>임호영</td>\n",
       "      <td>경기도 안산시 상록구 구룡로 87</td>\n",
       "      <td>NaN</td>\n",
       "      <td>300</td>\n",
       "      <td>031-500-0114</td>\n",
       "      <td>NaN</td>\n",
       "      <td>126.874139</td>\n",
       "      <td>37.316727</td>\n",
       "    </tr>\n",
       "    <tr>\n",
       "      <th>3</th>\n",
       "      <td>4</td>\n",
       "      <td>근로복지공단 인천병원</td>\n",
       "      <td>31101208</td>\n",
       "      <td>종합병원</td>\n",
       "      <td>양유휘</td>\n",
       "      <td>인천 부평구 무네미로 446 (구산동)</td>\n",
       "      <td>NaN</td>\n",
       "      <td>300</td>\n",
       "      <td>032-500-0114</td>\n",
       "      <td>NaN</td>\n",
       "      <td>126.753633</td>\n",
       "      <td>37.476702</td>\n",
       "    </tr>\n",
       "    <tr>\n",
       "      <th>4</th>\n",
       "      <td>5</td>\n",
       "      <td>나사렛국제병원</td>\n",
       "      <td>31101011</td>\n",
       "      <td>종합병원</td>\n",
       "      <td>이순자</td>\n",
       "      <td>인천 연수구 먼우금로 98 (동춘동)</td>\n",
       "      <td>NaN</td>\n",
       "      <td>300</td>\n",
       "      <td>032-899-9999</td>\n",
       "      <td>NG테크</td>\n",
       "      <td>126.670522</td>\n",
       "      <td>37.407954</td>\n",
       "    </tr>\n",
       "  </tbody>\n",
       "</table>\n",
       "</div>"
      ],
      "text/plain": [
       "   연번        기 관 명    요양기관기호    종별 대 표 자                   address  진료과   병상  \\\n",
       "0   1         강화병원  31200451  종합병원   장성호  인천 강화군 강화읍 강화대로312번길 11   NaN  200   \n",
       "1   2        검단탑병원  31100970  종합병원   이준섭          인천 서구 청마로19번길 5   NaN  300   \n",
       "2   3  근로복지공단 안산병원  31101020  종합병원   임호영        경기도 안산시 상록구 구룡로 87  NaN  300   \n",
       "3   4  근로복지공단 인천병원  31101208  종합병원   양유휘     인천 부평구 무네미로 446 (구산동)  NaN  300   \n",
       "4   5      나사렛국제병원  31101011  종합병원   이순자     인천 연수구 먼우금로 98 (동춘동)   NaN  300   \n",
       "\n",
       "            연락처 정보시스템현황    latitude  longtitude  \n",
       "0  032-930-8100     NaN  126.496110   37.742436  \n",
       "1  032-590-0114    NG테크  126.671175   37.592490  \n",
       "2  031-500-0114     NaN  126.874139   37.316727  \n",
       "3  032-500-0114     NaN  126.753633   37.476702  \n",
       "4  032-899-9999    NG테크  126.670522   37.407954  "
      ]
     },
     "execution_count": 127,
     "metadata": {},
     "output_type": "execute_result"
    }
   ],
   "source": [
    "df.head()"
   ]
  },
  {
   "cell_type": "code",
   "execution_count": 129,
   "metadata": {
    "collapsed": false
   },
   "outputs": [],
   "source": [
    "df.to_csv(\"bedwithloc.csv\")"
   ]
  },
  {
   "cell_type": "code",
   "execution_count": null,
   "metadata": {
    "collapsed": true
   },
   "outputs": [],
   "source": []
  },
  {
   "cell_type": "code",
   "execution_count": 140,
   "metadata": {
    "collapsed": true
   },
   "outputs": [],
   "source": [
    "dept = pd.read_csv(\"dept2.csv\", encoding='cp949')"
   ]
  },
  {
   "cell_type": "code",
   "execution_count": 141,
   "metadata": {
    "collapsed": false,
    "scrolled": true
   },
   "outputs": [
    {
     "data": {
      "text/html": [
       "<div>\n",
       "<table border=\"1\" class=\"dataframe\">\n",
       "  <thead>\n",
       "    <tr style=\"text-align: right;\">\n",
       "      <th></th>\n",
       "      <th>연번</th>\n",
       "      <th>기 관 명</th>\n",
       "      <th>요양기관기호</th>\n",
       "      <th>종별</th>\n",
       "      <th>대 표 자</th>\n",
       "      <th>address</th>\n",
       "      <th>진료과</th>\n",
       "      <th>병상</th>\n",
       "      <th>연락처</th>\n",
       "      <th>정보시스템현황</th>\n",
       "    </tr>\n",
       "  </thead>\n",
       "  <tbody>\n",
       "    <tr>\n",
       "      <th>0</th>\n",
       "      <td>91</td>\n",
       "      <td>남궁내과의원</td>\n",
       "      <td>31320511</td>\n",
       "      <td>의 원</td>\n",
       "      <td>남궁은경</td>\n",
       "      <td>인천 강화군 강화읍 강화대로 422</td>\n",
       "      <td>IM</td>\n",
       "      <td>0</td>\n",
       "      <td>032-934-2142</td>\n",
       "      <td>NaN</td>\n",
       "    </tr>\n",
       "    <tr>\n",
       "      <th>1</th>\n",
       "      <td>166</td>\n",
       "      <td>인성의원</td>\n",
       "      <td>31352294</td>\n",
       "      <td>의 원</td>\n",
       "      <td>김강식</td>\n",
       "      <td>인천 강화군 강화읍 중앙로 23 일석빌딩</td>\n",
       "      <td>IM</td>\n",
       "      <td>0</td>\n",
       "      <td>032-932-4455</td>\n",
       "      <td>NaN</td>\n",
       "    </tr>\n",
       "    <tr>\n",
       "      <th>2</th>\n",
       "      <td>138</td>\n",
       "      <td>연세베스트이비인후과의원</td>\n",
       "      <td>31388574</td>\n",
       "      <td>의 원</td>\n",
       "      <td>조정일</td>\n",
       "      <td>인천 계양구 장제로 708 한샘프라자</td>\n",
       "      <td>EN</td>\n",
       "      <td>0</td>\n",
       "      <td>032-297-2975</td>\n",
       "      <td>NaN</td>\n",
       "    </tr>\n",
       "    <tr>\n",
       "      <th>3</th>\n",
       "      <td>73</td>\n",
       "      <td>계양장문외과의원</td>\n",
       "      <td>31385834</td>\n",
       "      <td>의 원</td>\n",
       "      <td>최선경</td>\n",
       "      <td>인천 계양구 장제로 808  그랜드코아빌딩3층</td>\n",
       "      <td>GS</td>\n",
       "      <td>0</td>\n",
       "      <td>032-545-7899</td>\n",
       "      <td>NaN</td>\n",
       "    </tr>\n",
       "    <tr>\n",
       "      <th>4</th>\n",
       "      <td>116</td>\n",
       "      <td>상우내과의원</td>\n",
       "      <td>41338740</td>\n",
       "      <td>의 원</td>\n",
       "      <td>박상우</td>\n",
       "      <td>인천 계양구 경명대로 1096 계산메디컬 302</td>\n",
       "      <td>IM</td>\n",
       "      <td>0</td>\n",
       "      <td>032-551-0860</td>\n",
       "      <td>NaN</td>\n",
       "    </tr>\n",
       "  </tbody>\n",
       "</table>\n",
       "</div>"
      ],
      "text/plain": [
       "    연번         기 관 명    요양기관기호   종별 대 표 자                     address 진료과  병상  \\\n",
       "0   91        남궁내과의원  31320511  의 원  남궁은경        인천 강화군 강화읍 강화대로 422   IM   0   \n",
       "1  166          인성의원  31352294  의 원   김강식      인천 강화군 강화읍 중앙로 23 일석빌딩  IM   0   \n",
       "2  138  연세베스트이비인후과의원  31388574  의 원   조정일        인천 계양구 장제로 708 한샘프라자  EN   0   \n",
       "3   73      계양장문외과의원  31385834  의 원   최선경   인천 계양구 장제로 808  그랜드코아빌딩3층  GS   0   \n",
       "4  116        상우내과의원  41338740  의 원   박상우  인천 계양구 경명대로 1096 계산메디컬 302  IM   0   \n",
       "\n",
       "            연락처  정보시스템현황  \n",
       "0  032-934-2142      NaN  \n",
       "1  032-932-4455      NaN  \n",
       "2  032-297-2975      NaN  \n",
       "3  032-545-7899      NaN  \n",
       "4  032-551-0860      NaN  "
      ]
     },
     "execution_count": 141,
     "metadata": {},
     "output_type": "execute_result"
    }
   ],
   "source": [
    "dept.head()"
   ]
  },
  {
   "cell_type": "code",
   "execution_count": 132,
   "metadata": {
    "collapsed": true
   },
   "outputs": [],
   "source": [
    "loc = dept.iloc[:,5]"
   ]
  },
  {
   "cell_type": "code",
   "execution_count": 133,
   "metadata": {
    "collapsed": true
   },
   "outputs": [],
   "source": [
    "location_dept = []"
   ]
  },
  {
   "cell_type": "code",
   "execution_count": 134,
   "metadata": {
    "collapsed": true
   },
   "outputs": [],
   "source": [
    "cnt = 0"
   ]
  },
  {
   "cell_type": "code",
   "execution_count": 137,
   "metadata": {
    "collapsed": false,
    "scrolled": false
   },
   "outputs": [
    {
     "name": "stdout",
     "output_type": "stream",
     "text": [
      "128\n",
      "인천 중구 축항대로86번길 38 (항동7가) \n",
      "129\n",
      "인천 중구 하늘달빛로64번길 6-3 \n",
      "130\n",
      "인천 중구 경동 95-2 \n",
      "131\n",
      "인천 중구 운서동 2800-1 화림메데칼2층\n",
      "132\n",
      "인천 중구 유동 6-11 2/2\n",
      "133\n",
      "인천 중구 인현동 22-7\n"
     ]
    }
   ],
   "source": [
    "for x in loc[127:]:\n",
    "    cnt = cnt + 1\n",
    "    print(cnt)\n",
    "    encText = urllib.parse.quote(x)\n",
    "    url = \"https://openapi.naver.com/v1/map/geocode?query=\" + encText # json 결과\n",
    "    # url = \"https://openapi.naver.com/v1/map/geocode.xml?query=\" + encText # xml 결과\n",
    "    request = urllib.request.Request(url)\n",
    "    request.add_header(\"X-Naver-Client-Id\",client_id)\n",
    "    request.add_header(\"X-Naver-Client-Secret\",client_secret)\n",
    "    response = urllib.request.urlopen(request)\n",
    "    rescode = response.getcode()\n",
    "    print(x)\n",
    "    if(rescode==200):\n",
    "        response_body = response.read()\n",
    "        #print(response_body.decode('utf-8'))\n",
    "        a = response_body.decode('utf-8')\n",
    "        dicts = json.loads(a)\n",
    "        tmp = pd.DataFrame(dicts['result']['items'])\n",
    "        tt = dict(tmp.point)[0]\n",
    "        long = tt['x']\n",
    "        lat = tt['y']\n",
    "        location_tmp = [long,lat,x]\n",
    "        location_dept.append(location_tmp)\n",
    "    else:\n",
    "        print(\"Error Code:\" + rescode)"
   ]
  },
  {
   "cell_type": "code",
   "execution_count": 138,
   "metadata": {
    "collapsed": false
   },
   "outputs": [
    {
     "data": {
      "text/plain": [
       "[[126.4848382, 37.7472453, '인천 강화군 강화읍 강화대로 422 '],\n",
       " [126.4910945, 37.741058, '인천 강화군 강화읍 중앙로 23 일석빌딩'],\n",
       " [126.7342622, 37.5310186, '인천 계양구 장제로 708 한샘프라자'],\n",
       " [126.7350023, 37.5398456, '인천 계양구 장제로 808  그랜드코아빌딩3층'],\n",
       " [126.7286514, 37.542925, '인천 계양구 경명대로 1096 계산메디컬 302'],\n",
       " [126.7110687, 37.5319545, '인천 계양구 안남로 548  효성프라자 312호'],\n",
       " [126.7413955, 37.5340609, '인천 계양구 용종로 2 계산프라자 202호'],\n",
       " [126.7221006, 37.5287586, '인천 계양구 계양대로 55  (작전동) '],\n",
       " [126.7228932, 37.5328413, '인천 계양구 계양대로 102 (작전동) '],\n",
       " [126.637479, 37.4513373, '인천 남구 낙섬중로 36  (용현동) ']]"
      ]
     },
     "execution_count": 138,
     "metadata": {},
     "output_type": "execute_result"
    }
   ],
   "source": [
    "location_dept[:10]"
   ]
  },
  {
   "cell_type": "code",
   "execution_count": null,
   "metadata": {
    "collapsed": true
   },
   "outputs": [],
   "source": []
  },
  {
   "cell_type": "code",
   "execution_count": 147,
   "metadata": {
    "collapsed": true
   },
   "outputs": [],
   "source": [
    "loc_df = pd.DataFrame(location_dept,columns=['latitude','longtitude','address'])"
   ]
  },
  {
   "cell_type": "code",
   "execution_count": 148,
   "metadata": {
    "collapsed": true
   },
   "outputs": [],
   "source": [
    "df = pd.merge(dept, loc_df, on='address')"
   ]
  },
  {
   "cell_type": "code",
   "execution_count": 149,
   "metadata": {
    "collapsed": false
   },
   "outputs": [
    {
     "data": {
      "text/html": [
       "<div>\n",
       "<table border=\"1\" class=\"dataframe\">\n",
       "  <thead>\n",
       "    <tr style=\"text-align: right;\">\n",
       "      <th></th>\n",
       "      <th>연번</th>\n",
       "      <th>기 관 명</th>\n",
       "      <th>요양기관기호</th>\n",
       "      <th>종별</th>\n",
       "      <th>대 표 자</th>\n",
       "      <th>address</th>\n",
       "      <th>진료과</th>\n",
       "      <th>병상</th>\n",
       "      <th>연락처</th>\n",
       "      <th>정보시스템현황</th>\n",
       "      <th>latitude</th>\n",
       "      <th>longtitude</th>\n",
       "    </tr>\n",
       "  </thead>\n",
       "  <tbody>\n",
       "    <tr>\n",
       "      <th>0</th>\n",
       "      <td>91</td>\n",
       "      <td>남궁내과의원</td>\n",
       "      <td>31320511</td>\n",
       "      <td>의 원</td>\n",
       "      <td>남궁은경</td>\n",
       "      <td>인천 강화군 강화읍 강화대로 422</td>\n",
       "      <td>IM</td>\n",
       "      <td>0</td>\n",
       "      <td>032-934-2142</td>\n",
       "      <td>NaN</td>\n",
       "      <td>126.484838</td>\n",
       "      <td>37.747245</td>\n",
       "    </tr>\n",
       "    <tr>\n",
       "      <th>1</th>\n",
       "      <td>166</td>\n",
       "      <td>인성의원</td>\n",
       "      <td>31352294</td>\n",
       "      <td>의 원</td>\n",
       "      <td>김강식</td>\n",
       "      <td>인천 강화군 강화읍 중앙로 23 일석빌딩</td>\n",
       "      <td>IM</td>\n",
       "      <td>0</td>\n",
       "      <td>032-932-4455</td>\n",
       "      <td>NaN</td>\n",
       "      <td>126.491095</td>\n",
       "      <td>37.741058</td>\n",
       "    </tr>\n",
       "    <tr>\n",
       "      <th>2</th>\n",
       "      <td>138</td>\n",
       "      <td>연세베스트이비인후과의원</td>\n",
       "      <td>31388574</td>\n",
       "      <td>의 원</td>\n",
       "      <td>조정일</td>\n",
       "      <td>인천 계양구 장제로 708 한샘프라자</td>\n",
       "      <td>EN</td>\n",
       "      <td>0</td>\n",
       "      <td>032-297-2975</td>\n",
       "      <td>NaN</td>\n",
       "      <td>126.734262</td>\n",
       "      <td>37.531019</td>\n",
       "    </tr>\n",
       "    <tr>\n",
       "      <th>3</th>\n",
       "      <td>73</td>\n",
       "      <td>계양장문외과의원</td>\n",
       "      <td>31385834</td>\n",
       "      <td>의 원</td>\n",
       "      <td>최선경</td>\n",
       "      <td>인천 계양구 장제로 808  그랜드코아빌딩3층</td>\n",
       "      <td>GS</td>\n",
       "      <td>0</td>\n",
       "      <td>032-545-7899</td>\n",
       "      <td>NaN</td>\n",
       "      <td>126.735002</td>\n",
       "      <td>37.539846</td>\n",
       "    </tr>\n",
       "    <tr>\n",
       "      <th>4</th>\n",
       "      <td>116</td>\n",
       "      <td>상우내과의원</td>\n",
       "      <td>41338740</td>\n",
       "      <td>의 원</td>\n",
       "      <td>박상우</td>\n",
       "      <td>인천 계양구 경명대로 1096 계산메디컬 302</td>\n",
       "      <td>IM</td>\n",
       "      <td>0</td>\n",
       "      <td>032-551-0860</td>\n",
       "      <td>NaN</td>\n",
       "      <td>126.728651</td>\n",
       "      <td>37.542925</td>\n",
       "    </tr>\n",
       "  </tbody>\n",
       "</table>\n",
       "</div>"
      ],
      "text/plain": [
       "    연번         기 관 명    요양기관기호   종별 대 표 자                     address 진료과  병상  \\\n",
       "0   91        남궁내과의원  31320511  의 원  남궁은경        인천 강화군 강화읍 강화대로 422   IM   0   \n",
       "1  166          인성의원  31352294  의 원   김강식      인천 강화군 강화읍 중앙로 23 일석빌딩  IM   0   \n",
       "2  138  연세베스트이비인후과의원  31388574  의 원   조정일        인천 계양구 장제로 708 한샘프라자  EN   0   \n",
       "3   73      계양장문외과의원  31385834  의 원   최선경   인천 계양구 장제로 808  그랜드코아빌딩3층  GS   0   \n",
       "4  116        상우내과의원  41338740  의 원   박상우  인천 계양구 경명대로 1096 계산메디컬 302  IM   0   \n",
       "\n",
       "            연락처  정보시스템현황    latitude  longtitude  \n",
       "0  032-934-2142      NaN  126.484838   37.747245  \n",
       "1  032-932-4455      NaN  126.491095   37.741058  \n",
       "2  032-297-2975      NaN  126.734262   37.531019  \n",
       "3  032-545-7899      NaN  126.735002   37.539846  \n",
       "4  032-551-0860      NaN  126.728651   37.542925  "
      ]
     },
     "execution_count": 149,
     "metadata": {},
     "output_type": "execute_result"
    }
   ],
   "source": [
    "df.head()"
   ]
  },
  {
   "cell_type": "code",
   "execution_count": 150,
   "metadata": {
    "collapsed": true
   },
   "outputs": [],
   "source": [
    "df.to_csv(\"deptwithloc.csv\")"
   ]
  },
  {
   "cell_type": "code",
   "execution_count": null,
   "metadata": {
    "collapsed": true
   },
   "outputs": [],
   "source": []
  }
 ],
 "metadata": {
  "kernelspec": {
   "display_name": "Python [py35]",
   "language": "python",
   "name": "Python [py35]"
  },
  "language_info": {
   "codemirror_mode": {
    "name": "ipython",
    "version": 3
   },
   "file_extension": ".py",
   "mimetype": "text/x-python",
   "name": "python",
   "nbconvert_exporter": "python",
   "pygments_lexer": "ipython3",
   "version": "3.5.2"
  }
 },
 "nbformat": 4,
 "nbformat_minor": 0
}
