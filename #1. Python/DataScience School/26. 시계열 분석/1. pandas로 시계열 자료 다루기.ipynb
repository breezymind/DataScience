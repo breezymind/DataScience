{
 "cells": [
  {
   "cell_type": "markdown",
   "metadata": {},
   "source": [
    "# pandas로 시계열 자료 다루기"
   ]
  },
  {
   "cell_type": "markdown",
   "metadata": {},
   "source": [
    "pandas에서 일반적인 테이블 형태의 자료와 시계열 자료의 차이점은 인덱스(Index)에 있다.\n",
    "\n",
    "일반적인 테이블 형태의 자료는 임의의 값을 인덱스로 가질 수 있지만 시계열 자료는 다음 클래스 중 하나를 인덱스로 가진다.\n",
    "\n",
    "* `DatetimeIndex` : 타임스탬프\n",
    "\n",
    "* `PeriodIndex` : 구간 "
   ]
  },
  {
   "cell_type": "markdown",
   "metadata": {},
   "source": [
    "## DatatimeIndex"
   ]
  },
  {
   "cell_type": "markdown",
   "metadata": {},
   "source": [
    "`DatetimeIndex`는 특정한 순간에 기록된 타임스탬프(timestamp) 형식의 시계열 자료를 다루기 위한 인덱스이다. 타임스탬프 인덱스는 반드시 일정한 간격으로 자료가 있어야 한다는 조건은 없다."
   ]
  },
  {
   "cell_type": "markdown",
   "metadata": {},
   "source": [
    "`DatetimeIndex` 타입의 인덱스는 보통 다음 방법으로 생성한다.\n",
    "\n",
    "* `pd.to_datetime` 함수\n",
    "* `pd.date_range` 함수"
   ]
  },
  {
   "cell_type": "markdown",
   "metadata": {},
   "source": [
    "### to_datetime  "
   ]
  },
  {
   "cell_type": "code",
   "execution_count": 1,
   "metadata": {
    "collapsed": false
   },
   "outputs": [
    {
     "data": {
      "text/plain": [
       "DatetimeIndex(['2016-01-01', '2016-01-04', '2016-01-05', '2016-01-06'], dtype='datetime64[ns]', freq=None)"
      ]
     },
     "execution_count": 1,
     "metadata": {},
     "output_type": "execute_result"
    }
   ],
   "source": [
    "date_str = [\"2016, 1, 1\", \"2016, 1, 4\", \"2016, 1, 5\", \"2016, 1, 6\"]\n",
    "idx = pd.to_datetime(date_str)\n",
    "idx"
   ]
  },
  {
   "cell_type": "code",
   "execution_count": 2,
   "metadata": {
    "collapsed": false
   },
   "outputs": [
    {
     "data": {
      "text/plain": [
       "2016-01-01    1.764052\n",
       "2016-01-04    0.400157\n",
       "2016-01-05    0.978738\n",
       "2016-01-06    2.240893\n",
       "dtype: float64"
      ]
     },
     "execution_count": 2,
     "metadata": {},
     "output_type": "execute_result"
    }
   ],
   "source": [
    "np.random.seed(0)\n",
    "s = pd.Series(np.random.randn(4), index=idx)\n",
    "s"
   ]
  },
  {
   "cell_type": "code",
   "execution_count": 3,
   "metadata": {
    "collapsed": false
   },
   "outputs": [
    {
     "data": {
      "text/plain": [
       "2016, 1, 1    1.867558\n",
       "2016, 1, 4   -0.977278\n",
       "2016, 1, 5    0.950088\n",
       "2016, 1, 6   -0.151357\n",
       "dtype: float64"
      ]
     },
     "execution_count": 3,
     "metadata": {},
     "output_type": "execute_result"
    }
   ],
   "source": [
    "s = pd.Series(np.random.randn(4), index=date_str)\n",
    "s"
   ]
  },
  {
   "cell_type": "markdown",
   "metadata": {},
   "source": [
    "### date_range \n",
    "\n",
    "* 시작일과 종료일 또는 시작일과 기간을 입력하면 범위 내의 날짜 및 시간 인덱스 생성\n",
    "* `freq` 인수로 빈도 지정 가능\n",
    "  * http://pandas.pydata.org/pandas-docs/version/0.18.0/timeseries.html#offset-aliases"
   ]
  },
  {
   "cell_type": "code",
   "execution_count": 4,
   "metadata": {
    "collapsed": false
   },
   "outputs": [
    {
     "data": {
      "text/plain": [
       "DatetimeIndex(['2016-04-01', '2016-04-02', '2016-04-03', '2016-04-04',\n",
       "               '2016-04-05', '2016-04-06', '2016-04-07', '2016-04-08',\n",
       "               '2016-04-09', '2016-04-10', '2016-04-11', '2016-04-12',\n",
       "               '2016-04-13', '2016-04-14', '2016-04-15', '2016-04-16',\n",
       "               '2016-04-17', '2016-04-18', '2016-04-19', '2016-04-20',\n",
       "               '2016-04-21', '2016-04-22', '2016-04-23', '2016-04-24',\n",
       "               '2016-04-25', '2016-04-26', '2016-04-27', '2016-04-28',\n",
       "               '2016-04-29', '2016-04-30'],\n",
       "              dtype='datetime64[ns]', freq='D')"
      ]
     },
     "execution_count": 4,
     "metadata": {},
     "output_type": "execute_result"
    }
   ],
   "source": [
    "pd.date_range(\"2016-4-1\", \"2016-4-30\")"
   ]
  },
  {
   "cell_type": "code",
   "execution_count": 5,
   "metadata": {
    "collapsed": false
   },
   "outputs": [
    {
     "data": {
      "text/plain": [
       "DatetimeIndex(['2016-04-01', '2016-04-02', '2016-04-03', '2016-04-04',\n",
       "               '2016-04-05', '2016-04-06', '2016-04-07', '2016-04-08',\n",
       "               '2016-04-09', '2016-04-10', '2016-04-11', '2016-04-12',\n",
       "               '2016-04-13', '2016-04-14', '2016-04-15', '2016-04-16',\n",
       "               '2016-04-17', '2016-04-18', '2016-04-19', '2016-04-20',\n",
       "               '2016-04-21', '2016-04-22', '2016-04-23', '2016-04-24',\n",
       "               '2016-04-25', '2016-04-26', '2016-04-27', '2016-04-28',\n",
       "               '2016-04-29', '2016-04-30'],\n",
       "              dtype='datetime64[ns]', freq='D')"
      ]
     },
     "execution_count": 5,
     "metadata": {},
     "output_type": "execute_result"
    }
   ],
   "source": [
    "pd.date_range(start=\"2016-4-1\", periods=30)"
   ]
  },
  {
   "cell_type": "code",
   "execution_count": 6,
   "metadata": {
    "collapsed": false
   },
   "outputs": [
    {
     "data": {
      "text/plain": [
       "DatetimeIndex(['2016-04-01', '2016-04-04', '2016-04-05', '2016-04-06',\n",
       "               '2016-04-07', '2016-04-08', '2016-04-11', '2016-04-12',\n",
       "               '2016-04-13', '2016-04-14', '2016-04-15', '2016-04-18',\n",
       "               '2016-04-19', '2016-04-20', '2016-04-21', '2016-04-22',\n",
       "               '2016-04-25', '2016-04-26', '2016-04-27', '2016-04-28',\n",
       "               '2016-04-29'],\n",
       "              dtype='datetime64[ns]', freq='B')"
      ]
     },
     "execution_count": 6,
     "metadata": {},
     "output_type": "execute_result"
    }
   ],
   "source": [
    "pd.date_range(\"2016-4-1\", \"2016-4-30\", freq=\"B\")"
   ]
  },
  {
   "cell_type": "code",
   "execution_count": 7,
   "metadata": {
    "collapsed": false
   },
   "outputs": [
    {
     "data": {
      "text/plain": [
       "DatetimeIndex(['2016-04-01', '2016-05-01', '2016-06-01', '2016-07-01',\n",
       "               '2016-08-01', '2016-09-01', '2016-10-01', '2016-11-01',\n",
       "               '2016-12-01'],\n",
       "              dtype='datetime64[ns]', freq='MS')"
      ]
     },
     "execution_count": 7,
     "metadata": {},
     "output_type": "execute_result"
    }
   ],
   "source": [
    "pd.date_range(\"2016-4-1\", \"2016-12-31\", freq=\"MS\")"
   ]
  },
  {
   "cell_type": "code",
   "execution_count": 8,
   "metadata": {
    "collapsed": false
   },
   "outputs": [
    {
     "data": {
      "text/plain": [
       "DatetimeIndex(['2016-04-30', '2016-05-31', '2016-06-30', '2016-07-31',\n",
       "               '2016-08-31', '2016-09-30', '2016-10-31', '2016-11-30',\n",
       "               '2016-12-31'],\n",
       "              dtype='datetime64[ns]', freq='M')"
      ]
     },
     "execution_count": 8,
     "metadata": {},
     "output_type": "execute_result"
    }
   ],
   "source": [
    "pd.date_range(\"2016-4-1\", \"2016-12-31\", freq=\"M\")"
   ]
  },
  {
   "cell_type": "code",
   "execution_count": 9,
   "metadata": {
    "collapsed": false
   },
   "outputs": [
    {
     "data": {
      "text/plain": [
       "DatetimeIndex(['2016-04-01', '2016-05-02', '2016-06-01', '2016-07-01',\n",
       "               '2016-08-01', '2016-09-01', '2016-10-03', '2016-11-01',\n",
       "               '2016-12-01'],\n",
       "              dtype='datetime64[ns]', freq='BMS')"
      ]
     },
     "execution_count": 9,
     "metadata": {},
     "output_type": "execute_result"
    }
   ],
   "source": [
    "pd.date_range(\"2016-4-1\", \"2016-12-31\", freq=\"BMS\")"
   ]
  },
  {
   "cell_type": "code",
   "execution_count": 10,
   "metadata": {
    "collapsed": false
   },
   "outputs": [
    {
     "data": {
      "text/plain": [
       "DatetimeIndex(['2016-04-29', '2016-05-31', '2016-06-30', '2016-07-29',\n",
       "               '2016-08-31', '2016-09-30', '2016-10-31', '2016-11-30',\n",
       "               '2016-12-30'],\n",
       "              dtype='datetime64[ns]', freq='BM')"
      ]
     },
     "execution_count": 10,
     "metadata": {},
     "output_type": "execute_result"
    }
   ],
   "source": [
    "pd.date_range(\"2016-4-1\", \"2016-12-31\", freq=\"BM\")"
   ]
  },
  {
   "cell_type": "code",
   "execution_count": 11,
   "metadata": {
    "collapsed": false
   },
   "outputs": [
    {
     "data": {
      "text/plain": [
       "DatetimeIndex(['2016-01-04', '2016-01-11', '2016-01-18', '2016-01-25',\n",
       "               '2016-02-01', '2016-02-08', '2016-02-15', '2016-02-22',\n",
       "               '2016-02-29', '2016-03-07', '2016-03-14', '2016-03-21',\n",
       "               '2016-03-28', '2016-04-04', '2016-04-11', '2016-04-18',\n",
       "               '2016-04-25', '2016-05-02', '2016-05-09', '2016-05-16',\n",
       "               '2016-05-23', '2016-05-30', '2016-06-06', '2016-06-13',\n",
       "               '2016-06-20', '2016-06-27', '2016-07-04', '2016-07-11',\n",
       "               '2016-07-18', '2016-07-25', '2016-08-01', '2016-08-08',\n",
       "               '2016-08-15', '2016-08-22', '2016-08-29', '2016-09-05',\n",
       "               '2016-09-12', '2016-09-19', '2016-09-26', '2016-10-03',\n",
       "               '2016-10-10', '2016-10-17', '2016-10-24', '2016-10-31',\n",
       "               '2016-11-07', '2016-11-14', '2016-11-21', '2016-11-28',\n",
       "               '2016-12-05', '2016-12-12', '2016-12-19', '2016-12-26'],\n",
       "              dtype='datetime64[ns]', freq='W-MON')"
      ]
     },
     "execution_count": 11,
     "metadata": {},
     "output_type": "execute_result"
    }
   ],
   "source": [
    "pd.date_range(\"2016-1-1\", \"2016-12-31\", freq=\"W-MON\")"
   ]
  },
  {
   "cell_type": "code",
   "execution_count": 12,
   "metadata": {
    "collapsed": false
   },
   "outputs": [
    {
     "data": {
      "text/plain": [
       "DatetimeIndex(['2016-01-14', '2016-02-11', '2016-03-10', '2016-04-14',\n",
       "               '2016-05-12', '2016-06-09', '2016-07-14', '2016-08-11',\n",
       "               '2016-09-08', '2016-10-13', '2016-11-10', '2016-12-08'],\n",
       "              dtype='datetime64[ns]', freq='WOM-2THU')"
      ]
     },
     "execution_count": 12,
     "metadata": {},
     "output_type": "execute_result"
    }
   ],
   "source": [
    "pd.date_range(\"2016-1-1\", \"2016-12-31\", freq=\"WOM-2THU\")"
   ]
  },
  {
   "cell_type": "code",
   "execution_count": 13,
   "metadata": {
    "collapsed": false
   },
   "outputs": [
    {
     "data": {
      "text/plain": [
       "DatetimeIndex(['2016-03-31', '2016-06-30', '2016-09-30', '2016-12-31'], dtype='datetime64[ns]', freq='Q-DEC')"
      ]
     },
     "execution_count": 13,
     "metadata": {},
     "output_type": "execute_result"
    }
   ],
   "source": [
    "pd.date_range(\"2016-1-1\", \"2016-12-31\", freq=\"Q-DEC\")"
   ]
  },
  {
   "cell_type": "markdown",
   "metadata": {},
   "source": [
    "## PeriodIndex"
   ]
  },
  {
   "cell_type": "markdown",
   "metadata": {},
   "source": [
    "`PeriodIndex`는 같은 시간 구간이 반복되는 경우에 각 구간(time span)을 가리키기 위해 사용하는 시간 인덱스이다. "
   ]
  },
  {
   "cell_type": "markdown",
   "metadata": {},
   "source": [
    "`PeriodIndex` 타입의 인덱스는 보통 다음 방법으로 생성한다.\n",
    "\n",
    "* `pd.Period` 클래스\n",
    "* `pd.period_range` 함수"
   ]
  },
  {
   "cell_type": "code",
   "execution_count": 14,
   "metadata": {
    "collapsed": false
   },
   "outputs": [
    {
     "data": {
      "text/plain": [
       "Period('2007', 'A-DEC')"
      ]
     },
     "execution_count": 14,
     "metadata": {},
     "output_type": "execute_result"
    }
   ],
   "source": [
    "pd.Period(\"2007\", freq=\"A\")"
   ]
  },
  {
   "cell_type": "code",
   "execution_count": 15,
   "metadata": {
    "collapsed": false
   },
   "outputs": [
    {
     "data": {
      "text/plain": [
       "PeriodIndex(['2011-01', '2011-02', '2011-03', '2011-04', '2011-05', '2011-06',\n",
       "             '2011-07', '2011-08', '2011-09', '2011-10', '2011-11', '2011-12',\n",
       "             '2012-01'],\n",
       "            dtype='int64', freq='M')"
      ]
     },
     "execution_count": 15,
     "metadata": {},
     "output_type": "execute_result"
    }
   ],
   "source": [
    "pd.period_range('1/1/2011', '1/1/2012', freq='M')"
   ]
  },
  {
   "cell_type": "markdown",
   "metadata": {},
   "source": [
    "## shift 연산\n",
    "\n",
    "* 날짜 이동"
   ]
  },
  {
   "cell_type": "code",
   "execution_count": 16,
   "metadata": {
    "collapsed": false
   },
   "outputs": [
    {
     "data": {
      "text/plain": [
       "2000-01-31   -0.103219\n",
       "2000-02-29    0.410599\n",
       "2000-03-31    0.144044\n",
       "2000-04-30    1.454274\n",
       "Freq: M, dtype: float64"
      ]
     },
     "execution_count": 16,
     "metadata": {},
     "output_type": "execute_result"
    }
   ],
   "source": [
    "ts = pd.Series(np.random.randn(4), index=pd.date_range(\"2000-1-1\", periods=4, freq=\"M\"))\n",
    "ts"
   ]
  },
  {
   "cell_type": "code",
   "execution_count": 17,
   "metadata": {
    "collapsed": false
   },
   "outputs": [
    {
     "data": {
      "text/plain": [
       "2000-01-31         NaN\n",
       "2000-02-29   -0.103219\n",
       "2000-03-31    0.410599\n",
       "2000-04-30    0.144044\n",
       "Freq: M, dtype: float64"
      ]
     },
     "execution_count": 17,
     "metadata": {},
     "output_type": "execute_result"
    }
   ],
   "source": [
    "ts.shift(1)"
   ]
  },
  {
   "cell_type": "code",
   "execution_count": 18,
   "metadata": {
    "collapsed": false
   },
   "outputs": [
    {
     "data": {
      "text/plain": [
       "2000-01-31    0.410599\n",
       "2000-02-29    0.144044\n",
       "2000-03-31    1.454274\n",
       "2000-04-30         NaN\n",
       "Freq: M, dtype: float64"
      ]
     },
     "execution_count": 18,
     "metadata": {},
     "output_type": "execute_result"
    }
   ],
   "source": [
    "ts.shift(-1)"
   ]
  },
  {
   "cell_type": "code",
   "execution_count": 19,
   "metadata": {
    "collapsed": false
   },
   "outputs": [
    {
     "data": {
      "text/plain": [
       "2000-02-29   -0.103219\n",
       "2000-03-31    0.410599\n",
       "2000-04-30    0.144044\n",
       "2000-05-31    1.454274\n",
       "Freq: M, dtype: float64"
      ]
     },
     "execution_count": 19,
     "metadata": {},
     "output_type": "execute_result"
    }
   ],
   "source": [
    "ts.shift(1, freq=\"M\")"
   ]
  },
  {
   "cell_type": "code",
   "execution_count": 20,
   "metadata": {
    "collapsed": false,
    "scrolled": true
   },
   "outputs": [
    {
     "data": {
      "text/plain": [
       "2000-02-06   -0.103219\n",
       "2000-03-05    0.410599\n",
       "2000-04-02    0.144044\n",
       "2000-05-07    1.454274\n",
       "Freq: WOM-1SUN, dtype: float64"
      ]
     },
     "execution_count": 20,
     "metadata": {},
     "output_type": "execute_result"
    }
   ],
   "source": [
    "ts.shift(1, freq=\"W\")"
   ]
  },
  {
   "cell_type": "markdown",
   "metadata": {},
   "source": [
    "### 리샘플링 (Resampling)\n",
    "\n",
    "* down-sampling : 구간이 작아지는 경우\n",
    "* up-sampling: 구간이 커지는 경우"
   ]
  },
  {
   "cell_type": "code",
   "execution_count": 35,
   "metadata": {
    "collapsed": false
   },
   "outputs": [
    {
     "data": {
      "text/plain": [
       "2000-03-21   -0.173464\n",
       "2000-03-22   -0.510030\n",
       "2000-03-23    1.392518\n",
       "2000-03-24    1.037586\n",
       "2000-03-25    0.018792\n",
       "2000-03-26   -0.593777\n",
       "2000-03-27   -2.011880\n",
       "2000-03-28    0.589704\n",
       "2000-03-29   -0.896370\n",
       "2000-03-30   -1.962732\n",
       "2000-03-31    1.584821\n",
       "2000-04-01    0.647968\n",
       "2000-04-02   -1.139008\n",
       "2000-04-03   -1.214401\n",
       "2000-04-04    0.870962\n",
       "2000-04-05   -0.877971\n",
       "2000-04-06    1.296150\n",
       "2000-04-07    0.616459\n",
       "2000-04-08    0.536597\n",
       "2000-04-09    0.404695\n",
       "Freq: D, dtype: float64"
      ]
     },
     "execution_count": 35,
     "metadata": {},
     "output_type": "execute_result"
    }
   ],
   "source": [
    "ts = pd.Series(np.random.randn(100), index=pd.date_range(\"2000-1-1\", periods=100, freq=\"D\"))\n",
    "ts.tail(20)"
   ]
  },
  {
   "cell_type": "code",
   "execution_count": 36,
   "metadata": {
    "collapsed": false
   },
   "outputs": [
    {
     "data": {
      "text/plain": [
       "2000-01-02   -0.395784\n",
       "2000-01-09    0.912642\n",
       "2000-01-16    0.237267\n",
       "2000-01-23   -0.308441\n",
       "2000-01-30   -0.168457\n",
       "2000-02-06    0.251602\n",
       "2000-02-13    0.088259\n",
       "2000-02-20    0.337014\n",
       "2000-02-27    0.606611\n",
       "2000-03-05    0.263323\n",
       "2000-03-12    0.263994\n",
       "2000-03-19   -0.071099\n",
       "2000-03-26    0.327933\n",
       "2000-04-02   -0.455357\n",
       "2000-04-09    0.233213\n",
       "Freq: W-SUN, dtype: float64"
      ]
     },
     "execution_count": 36,
     "metadata": {},
     "output_type": "execute_result"
    }
   ],
   "source": [
    "ts.resample('W').mean()"
   ]
  },
  {
   "cell_type": "code",
   "execution_count": 37,
   "metadata": {
    "collapsed": false
   },
   "outputs": [
    {
     "data": {
      "text/plain": [
       "2000-01-31    0.704111\n",
       "2000-02-29   -1.171160\n",
       "2000-03-31    0.770673\n",
       "2000-04-30    0.647968\n",
       "Freq: M, dtype: float64"
      ]
     },
     "execution_count": 37,
     "metadata": {},
     "output_type": "execute_result"
    }
   ],
   "source": [
    "ts.resample('M').first()"
   ]
  },
  {
   "cell_type": "code",
   "execution_count": 44,
   "metadata": {
    "collapsed": false
   },
   "outputs": [
    {
     "data": {
      "text/plain": [
       "2000-01-01 00:00:00    0.004175\n",
       "2000-01-01 00:01:00   -1.483492\n",
       "2000-01-01 00:02:00   -1.479796\n",
       "2000-01-01 00:03:00    0.134687\n",
       "2000-01-01 00:04:00   -0.667723\n",
       "2000-01-01 00:05:00   -0.011556\n",
       "2000-01-01 00:06:00    0.839491\n",
       "2000-01-01 00:07:00   -0.173930\n",
       "2000-01-01 00:08:00   -2.810668\n",
       "2000-01-01 00:09:00   -0.150654\n",
       "2000-01-01 00:10:00   -0.481044\n",
       "2000-01-01 00:11:00   -0.234694\n",
       "2000-01-01 00:12:00    0.899731\n",
       "2000-01-01 00:13:00   -1.578530\n",
       "2000-01-01 00:14:00    0.243957\n",
       "2000-01-01 00:15:00    1.570304\n",
       "2000-01-01 00:16:00   -0.625943\n",
       "2000-01-01 00:17:00    0.472328\n",
       "2000-01-01 00:18:00    0.966306\n",
       "2000-01-01 00:19:00    0.210231\n",
       "Freq: T, dtype: float64"
      ]
     },
     "execution_count": 44,
     "metadata": {},
     "output_type": "execute_result"
    }
   ],
   "source": [
    "ts = pd.Series(np.random.randn(60), index=pd.date_range(\"2000-1-1\", periods=60, freq=\"T\"))\n",
    "ts.head(20)"
   ]
  },
  {
   "cell_type": "code",
   "execution_count": 45,
   "metadata": {
    "collapsed": false
   },
   "outputs": [
    {
     "data": {
      "text/plain": [
       "2000-01-01 00:00:00   -5.799465\n",
       "2000-01-01 00:10:00    1.442645\n",
       "2000-01-01 00:20:00    0.651518\n",
       "2000-01-01 00:30:00    4.085638\n",
       "2000-01-01 00:40:00   -3.496429\n",
       "2000-01-01 00:50:00   -3.965800\n",
       "Freq: 10T, dtype: float64"
      ]
     },
     "execution_count": 45,
     "metadata": {},
     "output_type": "execute_result"
    }
   ],
   "source": [
    "ts.resample('10min').sum()"
   ]
  },
  {
   "cell_type": "code",
   "execution_count": 46,
   "metadata": {
    "collapsed": false
   },
   "outputs": [
    {
     "data": {
      "text/plain": [
       "1999-12-31 23:50:00    0.004175\n",
       "2000-01-01 00:00:00   -6.284684\n",
       "2000-01-01 00:10:00    1.238592\n",
       "2000-01-01 00:20:00    1.892161\n",
       "2000-01-01 00:30:00    2.522538\n",
       "2000-01-01 00:40:00   -3.702398\n",
       "2000-01-01 00:50:00   -2.752276\n",
       "Freq: 10T, dtype: float64"
      ]
     },
     "execution_count": 46,
     "metadata": {},
     "output_type": "execute_result"
    }
   ],
   "source": [
    "ts.resample('10min', closed=\"right\").sum()"
   ]
  },
  {
   "cell_type": "code",
   "execution_count": 47,
   "metadata": {
    "collapsed": false
   },
   "outputs": [
    {
     "data": {
      "text/html": [
       "<div>\n",
       "<table border=\"1\" class=\"dataframe\">\n",
       "  <thead>\n",
       "    <tr style=\"text-align: right;\">\n",
       "      <th></th>\n",
       "      <th>open</th>\n",
       "      <th>high</th>\n",
       "      <th>low</th>\n",
       "      <th>close</th>\n",
       "    </tr>\n",
       "  </thead>\n",
       "  <tbody>\n",
       "    <tr>\n",
       "      <th>2000-01-01 00:00:00</th>\n",
       "      <td>0.004175</td>\n",
       "      <td>0.134687</td>\n",
       "      <td>-1.483492</td>\n",
       "      <td>-0.667723</td>\n",
       "    </tr>\n",
       "    <tr>\n",
       "      <th>2000-01-01 00:05:00</th>\n",
       "      <td>-0.011556</td>\n",
       "      <td>0.839491</td>\n",
       "      <td>-2.810668</td>\n",
       "      <td>-0.150654</td>\n",
       "    </tr>\n",
       "    <tr>\n",
       "      <th>2000-01-01 00:10:00</th>\n",
       "      <td>-0.481044</td>\n",
       "      <td>0.899731</td>\n",
       "      <td>-1.578530</td>\n",
       "      <td>0.243957</td>\n",
       "    </tr>\n",
       "    <tr>\n",
       "      <th>2000-01-01 00:15:00</th>\n",
       "      <td>1.570304</td>\n",
       "      <td>1.570304</td>\n",
       "      <td>-0.625943</td>\n",
       "      <td>0.210231</td>\n",
       "    </tr>\n",
       "    <tr>\n",
       "      <th>2000-01-01 00:20:00</th>\n",
       "      <td>-0.685097</td>\n",
       "      <td>0.743800</td>\n",
       "      <td>-0.786468</td>\n",
       "      <td>-0.786468</td>\n",
       "    </tr>\n",
       "    <tr>\n",
       "      <th>2000-01-01 00:25:00</th>\n",
       "      <td>-1.176473</td>\n",
       "      <td>2.360229</td>\n",
       "      <td>-1.280807</td>\n",
       "      <td>2.360229</td>\n",
       "    </tr>\n",
       "    <tr>\n",
       "      <th>2000-01-01 00:30:00</th>\n",
       "      <td>0.555546</td>\n",
       "      <td>0.999150</td>\n",
       "      <td>-0.966063</td>\n",
       "      <td>-0.966063</td>\n",
       "    </tr>\n",
       "    <tr>\n",
       "      <th>2000-01-01 00:35:00</th>\n",
       "      <td>2.160013</td>\n",
       "      <td>2.160013</td>\n",
       "      <td>-0.703400</td>\n",
       "      <td>1.092339</td>\n",
       "    </tr>\n",
       "    <tr>\n",
       "      <th>2000-01-01 00:40:00</th>\n",
       "      <td>-1.007555</td>\n",
       "      <td>0.566869</td>\n",
       "      <td>-1.007555</td>\n",
       "      <td>-0.489482</td>\n",
       "    </tr>\n",
       "    <tr>\n",
       "      <th>2000-01-01 00:45:00</th>\n",
       "      <td>0.763541</td>\n",
       "      <td>0.763541</td>\n",
       "      <td>-1.109073</td>\n",
       "      <td>-0.847210</td>\n",
       "    </tr>\n",
       "    <tr>\n",
       "      <th>2000-01-01 00:50:00</th>\n",
       "      <td>-1.213524</td>\n",
       "      <td>0.896167</td>\n",
       "      <td>-1.633796</td>\n",
       "      <td>-0.241653</td>\n",
       "    </tr>\n",
       "    <tr>\n",
       "      <th>2000-01-01 00:55:00</th>\n",
       "      <td>0.158652</td>\n",
       "      <td>1.178189</td>\n",
       "      <td>-1.220117</td>\n",
       "      <td>0.254716</td>\n",
       "    </tr>\n",
       "  </tbody>\n",
       "</table>\n",
       "</div>"
      ],
      "text/plain": [
       "                         open      high       low     close\n",
       "2000-01-01 00:00:00  0.004175  0.134687 -1.483492 -0.667723\n",
       "2000-01-01 00:05:00 -0.011556  0.839491 -2.810668 -0.150654\n",
       "2000-01-01 00:10:00 -0.481044  0.899731 -1.578530  0.243957\n",
       "2000-01-01 00:15:00  1.570304  1.570304 -0.625943  0.210231\n",
       "2000-01-01 00:20:00 -0.685097  0.743800 -0.786468 -0.786468\n",
       "2000-01-01 00:25:00 -1.176473  2.360229 -1.280807  2.360229\n",
       "2000-01-01 00:30:00  0.555546  0.999150 -0.966063 -0.966063\n",
       "2000-01-01 00:35:00  2.160013  2.160013 -0.703400  1.092339\n",
       "2000-01-01 00:40:00 -1.007555  0.566869 -1.007555 -0.489482\n",
       "2000-01-01 00:45:00  0.763541  0.763541 -1.109073 -0.847210\n",
       "2000-01-01 00:50:00 -1.213524  0.896167 -1.633796 -0.241653\n",
       "2000-01-01 00:55:00  0.158652  1.178189 -1.220117  0.254716"
      ]
     },
     "execution_count": 47,
     "metadata": {},
     "output_type": "execute_result"
    }
   ],
   "source": [
    "ts.resample('5min').ohlc()"
   ]
  },
  {
   "cell_type": "code",
   "execution_count": 55,
   "metadata": {
    "collapsed": false
   },
   "outputs": [
    {
     "data": {
      "text/plain": [
       "2000-01-01 00:00:00    0.004175\n",
       "2000-01-01 00:00:30    0.004175\n",
       "2000-01-01 00:01:00   -1.483492\n",
       "2000-01-01 00:01:30   -1.483492\n",
       "2000-01-01 00:02:00   -1.479796\n",
       "2000-01-01 00:02:30   -1.479796\n",
       "2000-01-01 00:03:00    0.134687\n",
       "2000-01-01 00:03:30    0.134687\n",
       "2000-01-01 00:04:00   -0.667723\n",
       "2000-01-01 00:04:30   -0.667723\n",
       "2000-01-01 00:05:00   -0.011556\n",
       "2000-01-01 00:05:30   -0.011556\n",
       "2000-01-01 00:06:00    0.839491\n",
       "2000-01-01 00:06:30    0.839491\n",
       "2000-01-01 00:07:00   -0.173930\n",
       "2000-01-01 00:07:30   -0.173930\n",
       "2000-01-01 00:08:00   -2.810668\n",
       "2000-01-01 00:08:30   -2.810668\n",
       "2000-01-01 00:09:00   -0.150654\n",
       "2000-01-01 00:09:30   -0.150654\n",
       "Freq: 30S, dtype: float64"
      ]
     },
     "execution_count": 55,
     "metadata": {},
     "output_type": "execute_result"
    }
   ],
   "source": [
    "ts.resample('30s').ffill().head(20)"
   ]
  },
  {
   "cell_type": "code",
   "execution_count": 56,
   "metadata": {
    "collapsed": false
   },
   "outputs": [
    {
     "data": {
      "text/plain": [
       "2000-01-01 00:00:00    0.004175\n",
       "2000-01-01 00:00:30   -1.483492\n",
       "2000-01-01 00:01:00   -1.483492\n",
       "2000-01-01 00:01:30   -1.479796\n",
       "2000-01-01 00:02:00   -1.479796\n",
       "2000-01-01 00:02:30    0.134687\n",
       "2000-01-01 00:03:00    0.134687\n",
       "2000-01-01 00:03:30   -0.667723\n",
       "2000-01-01 00:04:00   -0.667723\n",
       "2000-01-01 00:04:30   -0.011556\n",
       "2000-01-01 00:05:00   -0.011556\n",
       "2000-01-01 00:05:30    0.839491\n",
       "2000-01-01 00:06:00    0.839491\n",
       "2000-01-01 00:06:30   -0.173930\n",
       "2000-01-01 00:07:00   -0.173930\n",
       "2000-01-01 00:07:30   -2.810668\n",
       "2000-01-01 00:08:00   -2.810668\n",
       "2000-01-01 00:08:30   -0.150654\n",
       "2000-01-01 00:09:00   -0.150654\n",
       "2000-01-01 00:09:30   -0.481044\n",
       "Freq: 30S, dtype: float64"
      ]
     },
     "execution_count": 56,
     "metadata": {},
     "output_type": "execute_result"
    }
   ],
   "source": [
    "ts.resample('30s').bfill().head(20)"
   ]
  }
 ],
 "metadata": {
  "kernelspec": {
   "display_name": "Python 2",
   "language": "python",
   "name": "python2"
  },
  "language_info": {
   "codemirror_mode": {
    "name": "ipython",
    "version": 2
   },
   "file_extension": ".py",
   "mimetype": "text/x-python",
   "name": "python",
   "nbconvert_exporter": "python",
   "pygments_lexer": "ipython2",
   "version": "2.7.11"
  }
 },
 "nbformat": 4,
 "nbformat_minor": 0
}