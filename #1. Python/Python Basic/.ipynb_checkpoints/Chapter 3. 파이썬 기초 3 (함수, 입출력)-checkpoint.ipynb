{
 "cells": [
  {
   "cell_type": "markdown",
   "metadata": {},
   "source": [
    "# 함수\n",
    " - R과 마찬가지로 함수의 역할은 동일하다. \n",
    " - 동일한 행위를 반복할때 수고를 덜고자 사용. \n",
    " - def 함수명(매개변수):\n",
    " - 매개변수 존재 유무에 따른 함수\n",
    " - 몇개의 매개변수가 올지 모를 때.\n",
    " - ※ return 의 개수는 무조건 하나다. \n",
    " - return = break 와 동일하게 사용가능.\n",
    " - 초기값 설정 가능 : R과 동일."
   ]
  },
  {
   "cell_type": "code",
   "execution_count": 1,
   "metadata": {
    "collapsed": false
   },
   "outputs": [
    {
     "name": "stdout",
     "output_type": "stream",
     "text": [
      "3\n"
     ]
    }
   ],
   "source": [
    "# sum \n",
    "def sum(a,b):\n",
    "    return a + b\n",
    "\n",
    "c = sum(1,2)\n",
    "print(c)"
   ]
  },
  {
   "cell_type": "code",
   "execution_count": 2,
   "metadata": {
    "collapsed": false
   },
   "outputs": [
    {
     "name": "stdout",
     "output_type": "stream",
     "text": [
      "Hi\n"
     ]
    }
   ],
   "source": [
    "# 매개변수가 없어도 된다.\n",
    "def sayHi():\n",
    "    return \"Hi\"\n",
    "\n",
    "print(sayHi())"
   ]
  },
  {
   "cell_type": "code",
   "execution_count": 4,
   "metadata": {
    "collapsed": false
   },
   "outputs": [
    {
     "name": "stdout",
     "output_type": "stream",
     "text": [
      "2 + 3 = 5 \n"
     ]
    }
   ],
   "source": [
    "# No Return\n",
    "\n",
    "def sum2(a,b):\n",
    "    print(\"%d + %d = %d \" % (a,b,a+b))\n",
    "    \n",
    "sum2(2,3)"
   ]
  },
  {
   "cell_type": "code",
   "execution_count": 5,
   "metadata": {
    "collapsed": false
   },
   "outputs": [
    {
     "name": "stdout",
     "output_type": "stream",
     "text": [
      "0 + 1 = 1\n",
      "\n",
      "\n",
      "0 + 1 = 1\n",
      "1 + 2 = 3\n",
      "3 + 3 = 6\n",
      "6 + 4 = 10\n"
     ]
    }
   ],
   "source": [
    "\n",
    "# 입력값이 정확히 몇개 인지 모를때.\n",
    "\n",
    "def sum3(*a):\n",
    "    sum = 0 \n",
    "    for i in a:\n",
    "        print(\"%d + %d = %d\" % (sum,i,sum+i))\n",
    "        sum = sum + i\n",
    "sum3(1)\n",
    "print(\"\\n\")\n",
    "sum3(1,2,3,4)"
   ]
  },
  {
   "cell_type": "code",
   "execution_count": 6,
   "metadata": {
    "collapsed": false
   },
   "outputs": [
    {
     "name": "stdout",
     "output_type": "stream",
     "text": [
      "(1, 2, 3)\n"
     ]
    }
   ],
   "source": [
    "# Return Value를 변수 하나로만 보내면 된다. List, Tuple, Dictionary 등 상관없다. \n",
    "def returnTest(a,b,c):\n",
    "    re = (a,b,c)\n",
    "    return re\n",
    "\n",
    "a = returnTest(1,2,3)\n",
    "print(a)"
   ]
  },
  {
   "cell_type": "code",
   "execution_count": 7,
   "metadata": {
    "collapsed": false
   },
   "outputs": [
    {
     "name": "stdout",
     "output_type": "stream",
     "text": [
      "\n",
      "\n",
      "0 + 1 = 1\n",
      "1 + 2 = 3\n"
     ]
    }
   ],
   "source": [
    "def returnTest2(*a):\n",
    "    sum = 0\n",
    "    for i in a:\n",
    "        print(\"%d + %d = %d\" % (sum,i,sum+i))\n",
    "        sum = sum + i\n",
    "        if i == 2 :\n",
    "            return\n",
    "\n",
    "print(\"\\n\")\n",
    "returnTest2(1,2,3,4,5)"
   ]
  },
  {
   "cell_type": "code",
   "execution_count": 8,
   "metadata": {
    "collapsed": false
   },
   "outputs": [
    {
     "name": "stdout",
     "output_type": "stream",
     "text": [
      "1 + 2 + 3 = 6\n",
      "1 + 2 + 1 = 4\n"
     ]
    }
   ],
   "source": [
    "# 초기값 설정\n",
    "def initTest(a,b,c=1):\n",
    "    print(\"%d + %d + %d = %d\" % (a,b,c,a+b+c))\n",
    "\n",
    "initTest(1,2,3)\n",
    "initTest(1,2)"
   ]
  },
  {
   "cell_type": "markdown",
   "metadata": {},
   "source": [
    "## 변수의 효력범위 ( 지역변수, 전역변수 )\n",
    " - 지역변수는 그 지역내에서만 효력을 발휘한다. \n",
    " - Global 변수를 통해 전역변수를 통제 할 수 있다."
   ]
  },
  {
   "cell_type": "code",
   "execution_count": 9,
   "metadata": {
    "collapsed": false
   },
   "outputs": [
    {
     "name": "stdout",
     "output_type": "stream",
     "text": [
      "1\n"
     ]
    }
   ],
   "source": [
    "a = 1\n",
    "def vartest(a):\n",
    "    a = a +1\n",
    "\n",
    "vartest(a)\n",
    "print(a)"
   ]
  },
  {
   "cell_type": "code",
   "execution_count": 10,
   "metadata": {
    "collapsed": false
   },
   "outputs": [
    {
     "name": "stdout",
     "output_type": "stream",
     "text": [
      "2\n"
     ]
    }
   ],
   "source": [
    "# 1 번째. Return  => 가르키는 객체를 변화 시킨다. \n",
    "a = 1\n",
    "def vartest2(a):\n",
    "    a = a + 1\n",
    "    return a\n",
    "\n",
    "a = vartest2(a)\n",
    "print(a)"
   ]
  },
  {
   "cell_type": "code",
   "execution_count": 11,
   "metadata": {
    "collapsed": false
   },
   "outputs": [
    {
     "name": "stdout",
     "output_type": "stream",
     "text": [
      "2\n"
     ]
    }
   ],
   "source": [
    "# 2번째 Global \n",
    "a = 1 \n",
    "def vartest3():\n",
    "    global a  # -> global 을 통해 객체 a 를 가르키도록 한다. \n",
    "    a = a + 1\n",
    "\n",
    "vartest3()\n",
    "print(a)"
   ]
  },
  {
   "cell_type": "markdown",
   "metadata": {},
   "source": [
    "# 입출력\n",
    " - input : 입력 값에 따라 형이 나타난다. 문자열의 경우 \" \", ' ' 과 같이 문자열 표시가 필요하다. => python 2.x 버젼일때\n",
    " - raw_input : 입력 전체를 문자열로 변환 \n",
    " - python 3.x부터는 raw_input과 input은 동일하다. \n",
    " - prompt 는 input(\"내용\") raw_input(\"내용\") 으로 하면 된다. "
   ]
  },
  {
   "cell_type": "code",
   "execution_count": 14,
   "metadata": {
    "collapsed": false
   },
   "outputs": [
    {
     "name": "stdout",
     "output_type": "stream",
     "text": [
      "야호\n",
      "야호\n",
      "야호\n",
      "야호\n"
     ]
    }
   ],
   "source": [
    "a = input()\n",
    "print(a)\n",
    "\n",
    "#b = raw_input() 현재 사용 X\n",
    "b = input()\n",
    "print(b)  # 한글 인코딩. input에 대한. "
   ]
  },
  {
   "cell_type": "markdown",
   "metadata": {},
   "source": [
    "## Print 함수 \n",
    " - \" \" 로 묶인 모든 것을 이어 붙인다. + 와 마찬가지\n",
    " - \" \"를 , 로 잇는다면 한칸을 띄우고 + 한다. \n",
    " - 한줄에 이어서 출력하려면 print 변수, 가 필요하다.\n",
    " - 밑의 print 값, 은 python 2.x 버젼에서 사용하는 방법\n",
    " - python 3.x 에서의 줄바꿈 제거는 print(\"값\", end=\" \")이다."
   ]
  },
  {
   "cell_type": "code",
   "execution_count": 15,
   "metadata": {
    "collapsed": false
   },
   "outputs": [
    {
     "name": "stdout",
     "output_type": "stream",
     "text": [
      "123\n",
      "1 2 3\n"
     ]
    }
   ],
   "source": [
    "print(\"1\" \"2\" \"3\")\n",
    "print(\"1\",\"2\",\"3\")\n",
    "\n",
    "#for i in range(10):\n",
    "#    print i,\n",
    "    \n",
    "#for i in range(5):\n",
    "#    print i"
   ]
  },
  {
   "cell_type": "code",
   "execution_count": 6,
   "metadata": {
    "collapsed": false
   },
   "outputs": [
    {
     "name": "stdout",
     "output_type": "stream",
     "text": [
      "0123456789\n",
      "0\t1\t2\t3\t4\t5\t6\t7\t8\t9\t0\n",
      "1\n",
      "2\n",
      "3\n",
      "4\n"
     ]
    }
   ],
   "source": [
    "for i in range(10):\n",
    "    print(i,end=\"\")  # 맨 마지막에 어떠한 문장을 넣을지 넣으면 된다\n",
    "print(\"\")\n",
    "for i in range(10):\n",
    "    print(i,end=\"\\t\")   #  \\t 는 탭\n",
    "    \n",
    "for i in range(5):\n",
    "    print(i)"
   ]
  },
  {
   "cell_type": "markdown",
   "metadata": {},
   "source": [
    "# 파일 읽고 쓰기\n",
    " - open(\"파일명\",\"모드\") \n",
    " - 모드 \"r\" : 읽기  \"w\" : 쓰기  \"a\" : 추가 ( 마지막에 새로운 내용 추가 )\n",
    " - 파일 읽기 \n",
    " - readline() : 한줄씩 읽기.\n",
    " - readlines() : 한번에 읽어들여서 나누는 형태."
   ]
  },
  {
   "cell_type": "markdown",
   "metadata": {},
   "source": [
    "### 파일 쓰기.\n",
    " - f = open(\"파일명\",\"w\")\n",
    " - f.write(\"값\")"
   ]
  },
  {
   "cell_type": "code",
   "execution_count": 17,
   "metadata": {
    "collapsed": false
   },
   "outputs": [],
   "source": [
    "f = open(\"first.txt\",\"w\")\n",
    "\n",
    "for i in range(10):\n",
    "    data = \"%d 줄 입니다. \\n\" % i\n",
    "    f.write(data)\n",
    "\n",
    "f.close()"
   ]
  },
  {
   "cell_type": "code",
   "execution_count": 23,
   "metadata": {
    "collapsed": false
   },
   "outputs": [
    {
     "data": {
      "image/png": "[encoded data removed]",
      "text/plain": [
       "<IPython.core.display.Image object>"
      ]
     },
     "execution_count": 23,
     "metadata": {},
     "output_type": "execute_result"
    }
   ],
   "source": [
    "from IPython.display import Image\n",
    "Image(filename='4.png')"
   ]
  },
  {
   "cell_type": "markdown",
   "metadata": {},
   "source": [
    "### 파일 읽기\n",
    " - readline\n",
    " - readlines\n",
    " - read"
   ]
  },
  {
   "cell_type": "code",
   "execution_count": 19,
   "metadata": {
    "collapsed": false
   },
   "outputs": [
    {
     "name": "stdout",
     "output_type": "stream",
     "text": [
      "0 줄 입니다. \n",
      "\n"
     ]
    }
   ],
   "source": [
    "f = open(\"first.txt\",\"r\")\n",
    "line = f.readline() #첫번째줄.\n",
    "print(line)\n",
    "f.close()"
   ]
  },
  {
   "cell_type": "code",
   "execution_count": 20,
   "metadata": {
    "collapsed": false
   },
   "outputs": [
    {
     "name": "stdout",
     "output_type": "stream",
     "text": [
      "0 줄 입니다. \n",
      "\n",
      "1 줄 입니다. \n",
      "\n",
      "2 줄 입니다. \n",
      "\n",
      "3 줄 입니다. \n",
      "\n",
      "4 줄 입니다. \n",
      "\n",
      "5 줄 입니다. \n",
      "\n",
      "6 줄 입니다. \n",
      "\n",
      "7 줄 입니다. \n",
      "\n",
      "8 줄 입니다. \n",
      "\n",
      "9 줄 입니다. \n",
      "\n"
     ]
    },
    {
     "data": {
      "text/plain": [
       "<function TextIOWrapper.close>"
      ]
     },
     "execution_count": 20,
     "metadata": {},
     "output_type": "execute_result"
    }
   ],
   "source": [
    "f = open(\"first.txt\",\"r\")\n",
    "while 1:\n",
    "    line = f.readline()\n",
    "    if not line: break\n",
    "    print(line)\n",
    "f.close"
   ]
  },
  {
   "cell_type": "code",
   "execution_count": 21,
   "metadata": {
    "collapsed": false
   },
   "outputs": [
    {
     "name": "stdout",
     "output_type": "stream",
     "text": [
      "<class 'list'>\n"
     ]
    }
   ],
   "source": [
    "f = open(\"first.txt\",\"r\")\n",
    "lines = f.readlines()\n",
    "print(type(lines))"
   ]
  },
  {
   "cell_type": "code",
   "execution_count": 22,
   "metadata": {
    "collapsed": false
   },
   "outputs": [
    {
     "name": "stdout",
     "output_type": "stream",
     "text": [
      "0 줄 입니다. \n",
      "\n",
      "1 줄 입니다. \n",
      "\n",
      "2 줄 입니다. \n",
      "\n",
      "3 줄 입니다. \n",
      "\n",
      "4 줄 입니다. \n",
      "\n",
      "5 줄 입니다. \n",
      "\n",
      "6 줄 입니다. \n",
      "\n",
      "7 줄 입니다. \n",
      "\n",
      "8 줄 입니다. \n",
      "\n",
      "9 줄 입니다. \n",
      "\n"
     ]
    }
   ],
   "source": [
    "for i in lines:\n",
    "    print(i)\n",
    "f.close()"
   ]
  },
  {
   "cell_type": "code",
   "execution_count": 23,
   "metadata": {
    "collapsed": false
   },
   "outputs": [
    {
     "name": "stdout",
     "output_type": "stream",
     "text": [
      "<class 'str'>\n",
      "0 줄 입니다. \n",
      "1 줄 입니다. \n",
      "2 줄 입니다. \n",
      "3 줄 입니다. \n",
      "4 줄 입니다. \n",
      "5 줄 입니다. \n",
      "6 줄 입니다. \n",
      "7 줄 입니다. \n",
      "8 줄 입니다. \n",
      "9 줄 입니다. \n",
      "\n"
     ]
    }
   ],
   "source": [
    "f = open(\"first.txt\",\"r\")\n",
    "data = f.read()\n",
    "print(type(data))\n",
    "print(data)\n",
    "f.close()"
   ]
  },
  {
   "cell_type": "markdown",
   "metadata": {},
   "source": [
    "### 내용 추가.\n",
    " - f = open(\"파일\",\"a\")\n",
    " - f.write"
   ]
  },
  {
   "cell_type": "code",
   "execution_count": 6,
   "metadata": {
    "collapsed": false
   },
   "outputs": [],
   "source": [
    "f = open(\"first.txt\",\"a\")\n",
    "for i in range(3,6):\n",
    "    data = \"%d 줄 입니다 \\n\" % i\n",
    "    f.write(data)\n",
    "f.close()"
   ]
  },
  {
   "cell_type": "code",
   "execution_count": 3,
   "metadata": {
    "collapsed": false
   },
   "outputs": [
    {
     "data": {
      "image/png": "[encoded data removed]",
      "text/plain": [
       "<IPython.core.display.Image object>"
      ]
     },
     "execution_count": 3,
     "metadata": {},
     "output_type": "execute_result"
    }
   ],
   "source": [
    "Image(filename='5.png')"
   ]
  },
  {
   "cell_type": "markdown",
   "metadata": {},
   "source": [
    "### Tell, Seek ( 참고용 ) \n",
    " - tell. 파일을 읽을때 현재 커서의 위치 반영\n",
    " - seek. 커서의 위치를 이동시키는 함수"
   ]
  },
  {
   "cell_type": "code",
   "execution_count": 17,
   "metadata": {
    "collapsed": false
   },
   "outputs": [
    {
     "name": "stdout",
     "output_type": "stream",
     "text": [
      "0\n",
      "0 줄 입니다. \n",
      "\n",
      "19\n",
      "1 줄 입니다. \n",
      "\n",
      "38\n",
      "0\n"
     ]
    }
   ],
   "source": [
    "f = open(\"first.txt\",\"r\")\n",
    "print(f.tell())\n",
    "print(f.readline())\n",
    "print(f.tell())\n",
    "print(f.readline())\n",
    "print(f.tell())\n",
    "f.seek(0)  # 0으로 돌아가. \n",
    "print(f.tell())"
   ]
  },
  {
   "cell_type": "markdown",
   "metadata": {},
   "source": [
    "## Sys 모듈 입력. \n",
    " - Windows의 도스와 비슷함. \n",
    " - 명령어 [인수, 인수2...]"
   ]
  },
  {
   "cell_type": "code",
   "execution_count": 20,
   "metadata": {
    "collapsed": true
   },
   "outputs": [],
   "source": [
    "f = open(\"systest.py\",\"w\")\n",
    "\n",
    "f.write(\"import sys\\n\")\n",
    "f.write(\"args = sys.argv[1:]\\n\")\n",
    "f.write(\"for i in args:\\n\")\n",
    "f.write(\"    print i\\n\")\n",
    "\n",
    "f.close()"
   ]
  },
  {
   "cell_type": "markdown",
   "metadata": {},
   "source": [
    "### 위의 소스 실습\n",
    " - 메모장 또는 다른 textedit 에서 쓰는것이 편하다 하지만 방금전까지 했던 io 를 실습겸 해봤다. \n",
    " - cmd -> 해당 파일 폴더까지 cd로 이동 \n",
    " - cmd 창에서 systest.py 11 22 33 입력"
   ]
  },
  {
   "cell_type": "code",
   "execution_count": 24,
   "metadata": {
    "collapsed": false
   },
   "outputs": [
    {
     "data": {
      "image/png": "[encoded data removed]",
      "text/plain": [
       "<IPython.core.display.Image object>"
      ]
     },
     "execution_count": 24,
     "metadata": {},
     "output_type": "execute_result"
    }
   ],
   "source": [
    "Image(filename='6.png')"
   ]
  }
 ],
 "metadata": {
  "anaconda-cloud": {},
  "kernelspec": {
   "display_name": "Python [Root]",
   "language": "python",
   "name": "Python [Root]"
  },
  "language_info": {
   "codemirror_mode": {
    "name": "ipython",
    "version": 3
   },
   "file_extension": ".py",
   "mimetype": "text/x-python",
   "name": "python",
   "nbconvert_exporter": "python",
   "pygments_lexer": "ipython3",
   "version": "3.5.2"
  }
 },
 "nbformat": 4,
 "nbformat_minor": 0
}
