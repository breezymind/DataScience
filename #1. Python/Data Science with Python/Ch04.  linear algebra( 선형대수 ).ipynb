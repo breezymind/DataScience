{
 "cells": [
  {
   "cell_type": "markdown",
   "metadata": {},
   "source": [
    "# 선형대수 \n",
    " - 벡터 공간을 다루는 수학의 한 분야"
   ]
  },
  {
   "cell_type": "markdown",
   "metadata": {},
   "source": [
    "## 벡터 \n",
    " - 벡터는 벡터끼리 더하거나 상수와 곱해지면 새로운 벡터를 생성하는 개념적인 도구 \n",
    " - 어떤 유한한 차원의 공간에 존재하는 점들.\n",
    " - 대부분의 데이터, 특히 숫자로 표현된 데이터는 벡터로 표현할 수 있다.\n",
    " \n",
    "## List\n",
    " - 벡터를 가장 간단하게 표현하는 방법."
   ]
  },
  {
   "cell_type": "code",
   "execution_count": 3,
   "metadata": {
    "collapsed": true
   },
   "outputs": [],
   "source": [
    "height_weight_age = [70,   # 인치\n",
    "                    170,   #파운드\n",
    "                    40]    #나이\n",
    "\n",
    "grades = [90,   # 시험1 점수\n",
    "         80,    # 시험2 점수\n",
    "         75,    # 시험3 점수\n",
    "         62]    # 시험4 점수"
   ]
  },
  {
   "cell_type": "markdown",
   "metadata": {},
   "source": [
    " - list로 표현하는 벡터의 문제점은 list를 통해 벡터를 연산 할 수 없다 라는 것.\n",
    " - 파이썬 list는 벡터가 아니기 때문에  연산을 해주는 기본적 도구가 없다. \n",
    " - 벡터 [1,2] + [2,1] 을 한다면 [3,3] 으로 구성된 벡터가 계산된다. \n",
    " - 벡터 덕셈은 zip을 사용해서 두 벡터를 묶은 뒤, 두 배열의 각 성분끼리 더하는 list Comprehension을 적용."
   ]
  },
  {
   "cell_type": "code",
   "execution_count": 4,
   "metadata": {
    "collapsed": true
   },
   "outputs": [],
   "source": [
    "def vector_add(v, w):\n",
    "    \"\"\"adds two vectors componentwise\"\"\"\n",
    "    return [v_i + w_i for v_i, w_i in zip(v,w)]\n",
    "\n",
    "def vector_subtract(v, w):\n",
    "    \"\"\"subtracts two vectors componentwise\"\"\"\n",
    "    return [v_i - w_i for v_i, w_i in zip(v,w)]"
   ]
  },
  {
   "cell_type": "code",
   "execution_count": 6,
   "metadata": {
    "collapsed": false
   },
   "outputs": [
    {
     "name": "stdout",
     "output_type": "stream",
     "text": [
      "[2, 4, 6]\n",
      "[0, 0, 0]\n"
     ]
    }
   ],
   "source": [
    "a = [1,2,3]\n",
    "b = [1,2,3]\n",
    "\n",
    "print(vector_add(a,b))\n",
    "print(vector_subtract(a,b))"
   ]
  }
 ],
 "metadata": {
  "anaconda-cloud": {},
  "kernelspec": {
   "display_name": "Python [work]",
   "language": "python",
   "name": "Python [work]"
  },
  "language_info": {
   "codemirror_mode": {
    "name": "ipython",
    "version": 3
   },
   "file_extension": ".py",
   "mimetype": "text/x-python",
   "name": "python",
   "nbconvert_exporter": "python",
   "pygments_lexer": "ipython3",
   "version": "3.5.2"
  }
 },
 "nbformat": 4,
 "nbformat_minor": 0
}
