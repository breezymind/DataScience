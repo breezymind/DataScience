{
 "cells": [
  {
   "cell_type": "markdown",
   "metadata": {},
   "source": [
    "# Introduction \n",
    "\n",
    "## FINDING KEY CONNECTORS ( 핵심인물 찾기 )\n",
    " - 누가 핵심 인물인가?"
   ]
  },
  {
   "cell_type": "code",
   "execution_count": 8,
   "metadata": {
    "collapsed": true
   },
   "outputs": [],
   "source": [
    "users = [\n",
    "    { \"id\": 0, \"name\": \"Hero\" },\n",
    "    { \"id\": 1, \"name\": \"Dunn\" },\n",
    "    { \"id\": 2, \"name\": \"Sue\" },\n",
    "    { \"id\": 3, \"name\": \"Chi\" },\n",
    "    { \"id\": 4, \"name\": \"Thor\" },\n",
    "    { \"id\": 5, \"name\": \"Clive\" },\n",
    "    { \"id\": 6, \"name\": \"Hicks\" },\n",
    "    { \"id\": 7, \"name\": \"Devin\" },\n",
    "    { \"id\": 8, \"name\": \"Kate\" },\n",
    "    { \"id\": 9, \"name\": \"Klein\" },\n",
    "    { \"id\": 10, \"name\": \"Jen\" }\n",
    "]"
   ]
  },
  {
   "cell_type": "markdown",
   "metadata": {},
   "source": [
    "### Friendship\n",
    " - (0, 1) => 0인 데이터과학자가 1인 데이터 과학자와 서로 친구이다. ( Hero, Dunn )"
   ]
  },
  {
   "cell_type": "code",
   "execution_count": 3,
   "metadata": {
    "collapsed": true
   },
   "outputs": [],
   "source": [
    "friendships = [(0, 1), (0, 2), (1, 2), (1, 3), (2, 3), (3, 4),\n",
    "               (4, 5), (5, 6), (5, 7), (6, 8), (7, 8), (8, 9)]"
   ]
  },
  {
   "cell_type": "code",
   "execution_count": 9,
   "metadata": {
    "collapsed": false
   },
   "outputs": [
    {
     "name": "stdout",
     "output_type": "stream",
     "text": [
      "{'id': 0, 'name': 'Hero'}\n",
      "{'friends': [], 'id': 0, 'name': 'Hero'}\n",
      "{'id': 1, 'name': 'Dunn'}\n",
      "{'friends': [], 'id': 1, 'name': 'Dunn'}\n",
      "{'id': 2, 'name': 'Sue'}\n",
      "{'friends': [], 'id': 2, 'name': 'Sue'}\n",
      "{'id': 3, 'name': 'Chi'}\n",
      "{'friends': [], 'id': 3, 'name': 'Chi'}\n",
      "{'id': 4, 'name': 'Thor'}\n",
      "{'friends': [], 'id': 4, 'name': 'Thor'}\n",
      "{'id': 5, 'name': 'Clive'}\n",
      "{'friends': [], 'id': 5, 'name': 'Clive'}\n",
      "{'id': 6, 'name': 'Hicks'}\n",
      "{'friends': [], 'id': 6, 'name': 'Hicks'}\n",
      "{'id': 7, 'name': 'Devin'}\n",
      "{'friends': [], 'id': 7, 'name': 'Devin'}\n",
      "{'id': 8, 'name': 'Kate'}\n",
      "{'friends': [], 'id': 8, 'name': 'Kate'}\n",
      "{'id': 9, 'name': 'Klein'}\n",
      "{'friends': [], 'id': 9, 'name': 'Klein'}\n",
      "{'id': 10, 'name': 'Jen'}\n",
      "{'friends': [], 'id': 10, 'name': 'Jen'}\n"
     ]
    }
   ],
   "source": [
    "# dictionary 추가.\n",
    "for user in users:\n",
    "    print(user)\n",
    "    user[\"friends\"] = []\n",
    "    print(user)"
   ]
  },
  {
   "cell_type": "code",
   "execution_count": 11,
   "metadata": {
    "collapsed": false
   },
   "outputs": [],
   "source": [
    "for i,j in friendships:\n",
    "    users[i][\"friends\"].append(users[j])  # j를 i의 친구로 추가.\n",
    "    users[j][\"friends\"].append(users[i])  # i를 j의 친구로 추가. "
   ]
  },
  {
   "cell_type": "code",
   "execution_count": 17,
   "metadata": {
    "collapsed": false
   },
   "outputs": [],
   "source": [
    "def number_of_friends(user):\n",
    "    \"\"\"how many friends does _user_ have?\"\"\"\n",
    "    return len(user[\"friends\"]) # length of friend_ids list\n",
    "\n",
    "total_connections = sum(number_of_friends(user)\n",
    "                        for user in users) # 24"
   ]
  },
  {
   "cell_type": "code",
   "execution_count": 20,
   "metadata": {
    "collapsed": false
   },
   "outputs": [
    {
     "data": {
      "text/plain": [
       "11"
      ]
     },
     "execution_count": 20,
     "metadata": {},
     "output_type": "execute_result"
    }
   ],
   "source": [
    "num_users = len(users)\n",
    "num_users"
   ]
  },
  {
   "cell_type": "code",
   "execution_count": 21,
   "metadata": {
    "collapsed": false
   },
   "outputs": [
    {
     "data": {
      "text/plain": [
       "2.1818181818181817"
      ]
     },
     "execution_count": 21,
     "metadata": {},
     "output_type": "execute_result"
    }
   ],
   "source": [
    "avg_connections = total_connections / num_users # 2.4\n",
    "avg_connections"
   ]
  }
 ],
 "metadata": {
  "kernelspec": {
   "display_name": "Python [work]",
   "language": "python",
   "name": "Python [work]"
  },
  "language_info": {
   "codemirror_mode": {
    "name": "ipython",
    "version": 3
   },
   "file_extension": ".py",
   "mimetype": "text/x-python",
   "name": "python",
   "nbconvert_exporter": "python",
   "pygments_lexer": "ipython3",
   "version": "3.5.2"
  }
 },
 "nbformat": 4,
 "nbformat_minor": 0
}
