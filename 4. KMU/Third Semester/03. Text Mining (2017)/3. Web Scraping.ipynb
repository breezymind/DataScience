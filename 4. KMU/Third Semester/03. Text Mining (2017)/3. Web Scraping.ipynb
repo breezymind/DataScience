{
 "cells": [
  {
   "cell_type": "markdown",
   "metadata": {},
   "source": [
    "# Web Scraping "
   ]
  },
  {
   "cell_type": "markdown",
   "metadata": {},
   "source": [
    " - requests : HTTP를 위한 패키지 \n",
    " - lxml : HTML처리 \n",
    " - cssselect : HTML처리 "
   ]
  },
  {
   "cell_type": "markdown",
   "metadata": {},
   "source": [
    "### HTTP Method \n",
    " - GET : 서버의 자원(resouce)을 가지고 올때 \n",
    "  - 목록보기\n",
    "  - 글 보기\n",
    "  - 다운로드\n",
    " - POST : 서버에 자원을 추가할 때 \n",
    "  - 글 쓰기 \n",
    "  - 업로드 \n",
    " - 구분이 잘 지켜지지 않음.\n",
    " - PUT, DELETE 등 Method도 있으나 웹브라우저는 지원 X"
   ]
  },
  {
   "cell_type": "markdown",
   "metadata": {},
   "source": [
    "![status](img/14.PNG)"
   ]
  },
  {
   "cell_type": "markdown",
   "metadata": {},
   "source": [
    " - 405 : POST <-> GET 형식을 바꾸면 된다. "
   ]
  },
  {
   "cell_type": "code",
   "execution_count": 1,
   "metadata": {
    "collapsed": true
   },
   "outputs": [],
   "source": [
    "import requests"
   ]
  },
  {
   "cell_type": "code",
   "execution_count": 2,
   "metadata": {
    "collapsed": true
   },
   "outputs": [],
   "source": [
    "url = 'https://techcrunch.com/2017/03/08/a-new-affordable-naming-startup-for-startups/'"
   ]
  },
  {
   "cell_type": "code",
   "execution_count": 3,
   "metadata": {
    "collapsed": true
   },
   "outputs": [],
   "source": [
    "res = requests.get(url)"
   ]
  },
  {
   "cell_type": "code",
   "execution_count": 4,
   "metadata": {
    "collapsed": false
   },
   "outputs": [
    {
     "data": {
      "text/plain": [
       "<Response [200]>"
      ]
     },
     "execution_count": 4,
     "metadata": {},
     "output_type": "execute_result"
    }
   ],
   "source": [
    "res"
   ]
  },
  {
   "cell_type": "code",
   "execution_count": 5,
   "metadata": {
    "collapsed": false
   },
   "outputs": [
    {
     "data": {
      "text/plain": [
       "'<!DOCTYPE html>\\n<html xmlns=\"http://www.w3.org/1999/xhtml\" xmlns:og=\"http://opengraphprotocol.org/schema/\" xmlns:fb=\"http://www.facebook.com/2008/fbml\" lang=\"en\">\\n<head>\\n\\t<title>A new, affordable nami'"
      ]
     },
     "execution_count": 5,
     "metadata": {},
     "output_type": "execute_result"
    }
   ],
   "source": [
    "res.text[:200]"
   ]
  },
  {
   "cell_type": "markdown",
   "metadata": {},
   "source": [
    "## HTML에서 본문 추출"
   ]
  },
  {
   "cell_type": "code",
   "execution_count": 6,
   "metadata": {
    "collapsed": true
   },
   "outputs": [],
   "source": [
    "import lxml.html"
   ]
  },
  {
   "cell_type": "code",
   "execution_count": 7,
   "metadata": {
    "collapsed": true
   },
   "outputs": [],
   "source": [
    "root = lxml.html.fromstring(res.text)"
   ]
  },
  {
   "cell_type": "code",
   "execution_count": 8,
   "metadata": {
    "collapsed": false
   },
   "outputs": [],
   "source": [
    "entries = root.cssselect('.article-entry')"
   ]
  },
  {
   "cell_type": "code",
   "execution_count": 9,
   "metadata": {
    "collapsed": false
   },
   "outputs": [
    {
     "data": {
      "text/plain": [
       "[<Element div at 0x20541f2f6d8>]"
      ]
     },
     "execution_count": 9,
     "metadata": {},
     "output_type": "execute_result"
    }
   ],
   "source": [
    "entries"
   ]
  },
  {
   "cell_type": "code",
   "execution_count": 10,
   "metadata": {
    "collapsed": false
   },
   "outputs": [
    {
     "data": {
      "text/plain": [
       "1"
      ]
     },
     "execution_count": 10,
     "metadata": {},
     "output_type": "execute_result"
    }
   ],
   "source": [
    "len(entries)"
   ]
  },
  {
   "cell_type": "code",
   "execution_count": 11,
   "metadata": {
    "collapsed": true
   },
   "outputs": [],
   "source": [
    "article = entries[0]\n",
    "content = article.text_content()"
   ]
  },
  {
   "cell_type": "code",
   "execution_count": 12,
   "metadata": {
    "collapsed": false
   },
   "outputs": [
    {
     "data": {
      "text/plain": [
       "'\\n\\n\\n\\nA few years ago, I launched a daily email news'"
      ]
     },
     "execution_count": 12,
     "metadata": {},
     "output_type": "execute_result"
    }
   ],
   "source": [
    "content[:50]"
   ]
  },
  {
   "cell_type": "markdown",
   "metadata": {},
   "source": [
    "## 목록에서 여러 개의 링크 가져오기"
   ]
  },
  {
   "cell_type": "code",
   "execution_count": 13,
   "metadata": {
    "collapsed": true
   },
   "outputs": [],
   "source": [
    "res = requests.get('https://techcrunch.com/startups/')\n",
    "root = lxml.html.fromstring(res.text)"
   ]
  },
  {
   "cell_type": "code",
   "execution_count": 14,
   "metadata": {
    "collapsed": true
   },
   "outputs": [],
   "source": [
    "titles = root.cssselect('h2 a')"
   ]
  },
  {
   "cell_type": "code",
   "execution_count": 15,
   "metadata": {
    "collapsed": false
   },
   "outputs": [
    {
     "data": {
      "text/plain": [
       "[<Element a at 0x20541f5c3b8>,\n",
       " <Element a at 0x20541f5c408>,\n",
       " <Element a at 0x20541f5c458>,\n",
       " <Element a at 0x20541f5c4a8>,\n",
       " <Element a at 0x20541f5c4f8>,\n",
       " <Element a at 0x20541f5c548>,\n",
       " <Element a at 0x20541f5c598>,\n",
       " <Element a at 0x20541f5c5e8>,\n",
       " <Element a at 0x20541f5c638>,\n",
       " <Element a at 0x20541f5c688>,\n",
       " <Element a at 0x20541f5c6d8>,\n",
       " <Element a at 0x20541f5c728>,\n",
       " <Element a at 0x20541f5c778>,\n",
       " <Element a at 0x20541f5c7c8>,\n",
       " <Element a at 0x20541f5c818>,\n",
       " <Element a at 0x20541f5c868>,\n",
       " <Element a at 0x20541f5c8b8>,\n",
       " <Element a at 0x20541f5c908>,\n",
       " <Element a at 0x20541f5c958>,\n",
       " <Element a at 0x20541f5c9a8>]"
      ]
     },
     "execution_count": 15,
     "metadata": {},
     "output_type": "execute_result"
    }
   ],
   "source": [
    "titles"
   ]
  },
  {
   "cell_type": "code",
   "execution_count": 16,
   "metadata": {
    "collapsed": false
   },
   "outputs": [
    {
     "name": "stdout",
     "output_type": "stream",
     "text": [
      "- 1 Equity crowdfunding platform Seedrs to launch secondary market\n",
      "- 2 Garena rebrands to Sea and raises $550 million more to focus on Indonesian e-commerce\n",
      "- 3 Cornershop, a grocery-delivery app in Chile and Mexico, raises $21M\n",
      "- 4 “The Handmaid’s Tale” is critical to the success of Hulu’s Live TV service\n",
      "- 5 Urban-X’s investors showcase features high-tech face masks, navigation for the blind and more\n",
      "- 6 Germany’s Duolingo competitor Babbel sets its sights on the US\n",
      "- 7 Inside Andy Rubin’s futuristic Playground hardware incubator\n",
      "- 8 Fortem raises $5.5 million to hunt and take down unwanted drones\n",
      "- 9 Baby tech draws seed funding and a few big rounds\n",
      "- 10 Made In Space reveals the Archinaut, a robot-operated factory in the sky\n",
      "- 11 Growlabs nabs $2.2M to automate outbound sales\n",
      "- 12 Scan these new QR-style Spotify Codes to instantly play a song\n",
      "- 13 Equity podcast: Sequoia’s Roelof Botha on why he’s still bullish on Tesla\n",
      "- 14 Docker’s new CEO sees gargantuan opportunities ahead\n",
      "- 15 Worst quarter for paid TV subscriptions points to a cord cutting future\n",
      "- 16 These big tech companies pay their interns the most\n",
      "- 17 These 11 technologies want to hack your brains\n",
      "- 18 Zapier launches $250/month team accounts\n",
      "- 19 Heap raises $27M to ‘make data useful for everyone’\n",
      "- 20 Izzy Wheels turns your wheelchair into a fashion statement\n"
     ]
    }
   ],
   "source": [
    "i = 0\n",
    "for title in titles:\n",
    "    i += 1\n",
    "    print(\"- \" + str(i) + \" \" + title.text)"
   ]
  },
  {
   "cell_type": "code",
   "execution_count": 17,
   "metadata": {
    "collapsed": false
   },
   "outputs": [
    {
     "data": {
      "text/plain": [
       "'https://techcrunch.com/2017/05/07/equity-crowdfunding-platform-seedrs-to-launch-secondary-market/'"
      ]
     },
     "execution_count": 17,
     "metadata": {},
     "output_type": "execute_result"
    }
   ],
   "source": [
    "titles[0].attrib['href']"
   ]
  },
  {
   "cell_type": "code",
   "execution_count": 18,
   "metadata": {
    "collapsed": false,
    "scrolled": false
   },
   "outputs": [
    {
     "name": "stdout",
     "output_type": "stream",
     "text": [
      "https://techcrunch.com/2017/05/07/equity-crowdfunding-platform-seedrs-to-launch-secondary-market/\n",
      "https://techcrunch.com/2017/05/07/sea-change/\n",
      "https://techcrunch.com/2017/05/07/cornershop-a-grocery-delivery-app-in-chile-and-mexico-raises-21m/\n",
      "https://techcrunch.com/2017/05/07/the-handmaids-tale-is-critical-to-the-success-of-hulus-live-tv-service/\n",
      "https://techcrunch.com/2017/05/06/urban-xs-investors-showcase-features-high-tech-face-masks-navigation-for-the-blind-and-more/\n",
      "https://techcrunch.com/2017/05/06/germanys-duolingo-competitor-babbel-sets-its-sights-on-the-u-s/\n",
      "https://techcrunch.com/2017/05/06/playground-hardware/\n",
      "https://techcrunch.com/2017/05/06/fortem-raises-5-5-million-to-hunt-and-take-down-unwanted-drones/\n",
      "https://techcrunch.com/2017/05/06/baby-tech-draws-seed-funding-and-a-few-big-rounds/\n",
      "https://techcrunch.com/2017/05/05/made-in-space-reveals-the-archinaut-a-robot-operated-factory-in-the-sky/\n",
      "https://techcrunch.com/2017/05/05/automated-sales/\n",
      "https://techcrunch.com/2017/05/05/spotify-codes/\n",
      "https://techcrunch.com/2017/05/05/equity-podcast-betting-against-elon-musk-sequoias-roelof-botha/\n",
      "https://techcrunch.com/2017/05/04/dockers-new-ceo-sees-gargantuan-opportunities-ahead/\n",
      "https://techcrunch.com/2017/05/04/worst-quarter-for-paid-tv-subscriptions-points-to-a-cord-cutting-future/\n",
      "https://techcrunch.com/2017/05/04/these-big-tech-companies-pay-their-interns-the-most/\n",
      "https://techcrunch.com/gallery/these-11-technologies-want-to-hack-your-brains/\n",
      "https://techcrunch.com/2017/05/04/zapier-launches-250month-team-accounts/\n",
      "https://techcrunch.com/2017/05/04/heap-series-b/\n",
      "https://techcrunch.com/2017/05/04/pimp-my-ride/\n"
     ]
    }
   ],
   "source": [
    "for title in titles:\n",
    "    print(title.attrib['href'])"
   ]
  },
  {
   "cell_type": "code",
   "execution_count": 19,
   "metadata": {
    "collapsed": false
   },
   "outputs": [],
   "source": [
    "articles = [] \n",
    "for title in titles:\n",
    "    url = title.attrib['href']\n",
    "    res_a = requests.get(url)\n",
    "    articles.append(res_a.text) "
   ]
  },
  {
   "cell_type": "markdown",
   "metadata": {},
   "source": [
    "### Example (Self)"
   ]
  },
  {
   "cell_type": "markdown",
   "metadata": {},
   "source": [
    "- 밑에 기사의 기자이름만 가지고오고 싶을때. \n",
    "- div class = \"river\" -> li -> div class =\"block\" -> div class = \"byline\" -> a"
   ]
  },
  {
   "cell_type": "code",
   "execution_count": 20,
   "metadata": {
    "collapsed": false
   },
   "outputs": [],
   "source": [
    "import tqdm"
   ]
  },
  {
   "cell_type": "code",
   "execution_count": 21,
   "metadata": {
    "collapsed": true
   },
   "outputs": [],
   "source": [
    "subTitles = root.cssselect('.river li .block .byline a')"
   ]
  },
  {
   "cell_type": "code",
   "execution_count": 22,
   "metadata": {
    "collapsed": false
   },
   "outputs": [
    {
     "name": "stdout",
     "output_type": "stream",
     "text": [
      "Steve O'Hear\n",
      "https://techcrunch.com/author/steve-ohear/\n",
      "Catherine Shu\n",
      "https://techcrunch.com/author/catherine-shu/\n",
      "Matthew Lynley\n",
      "https://techcrunch.com/author/matthew-lynley/\n",
      "Jordan Crook\n",
      "https://techcrunch.com/author/jordan-crook/\n",
      "Stefan Etienne\n",
      "https://techcrunch.com/author/stefan-etienne/\n",
      "Frederic Lardinois\n",
      "https://techcrunch.com/author/frederic-lardinois/\n",
      "Josh Constine\n",
      "https://techcrunch.com/author/josh-constine/\n",
      "Lora Kolodny\n",
      "https://techcrunch.com/author/lora-kolodny/\n",
      "Joanna Glasner\n",
      "https://techcrunch.com/author//\n",
      "Lora Kolodny\n",
      "https://techcrunch.com/author/lora-kolodny/\n",
      "John Mannes\n",
      "https://techcrunch.com/author/john-mannes/\n",
      "Josh Constine\n",
      "https://techcrunch.com/author/josh-constine/\n",
      "Alex Wilhelm\n",
      "https://techcrunch.com/author/alex-wilhelm/\n",
      "Frederic Lardinois\n",
      "https://techcrunch.com/author/frederic-lardinois/\n",
      "John Biggs\n",
      "https://techcrunch.com/author/john-biggs/\n",
      "John Mannes\n",
      "https://techcrunch.com/author/john-mannes/\n",
      "Sarah Buhr\n",
      "https://techcrunch.com/author/sarah-buhr/\n",
      "Frederic Lardinois\n",
      "https://techcrunch.com/author/frederic-lardinois/\n",
      "Anthony Ha\n",
      "https://techcrunch.com/author/anthony-ha/\n",
      "Steve O'Hear\n",
      "https://techcrunch.com/author/steve-ohear/\n",
      "\n"
     ]
    }
   ],
   "source": [
    "for subTitle in tqdm.tqdm_notebook(subTitles):\n",
    "    print(subTitle.text)\n",
    "    print(\"https://techcrunch.com\" + subTitle.attrib['href'])"
   ]
  },
  {
   "cell_type": "markdown",
   "metadata": {},
   "source": [
    "### TQDM Notebook \n",
    " - 찾아서 해보기 for문에 돌리면 Progress bar가 나타난다. "
   ]
  },
  {
   "cell_type": "markdown",
   "metadata": {},
   "source": [
    "## BeautifulSoup "
   ]
  },
  {
   "cell_type": "code",
   "execution_count": 23,
   "metadata": {
    "collapsed": true
   },
   "outputs": [],
   "source": [
    "import urllib.request \n",
    "from bs4 import BeautifulSoup"
   ]
  },
  {
   "cell_type": "code",
   "execution_count": 24,
   "metadata": {
    "collapsed": true
   },
   "outputs": [],
   "source": [
    "req = urllib.request.Request('https://techcrunch.com/startups/')\n",
    "data = urllib.request.urlopen(req).read()"
   ]
  },
  {
   "cell_type": "code",
   "execution_count": 25,
   "metadata": {
    "collapsed": true
   },
   "outputs": [],
   "source": [
    "bs = BeautifulSoup(data, 'html.parser')"
   ]
  },
  {
   "cell_type": "code",
   "execution_count": 26,
   "metadata": {
    "collapsed": false
   },
   "outputs": [],
   "source": [
    "h2s = bs.find_all('h2')"
   ]
  },
  {
   "cell_type": "code",
   "execution_count": 27,
   "metadata": {
    "collapsed": false
   },
   "outputs": [
    {
     "data": {
      "text/plain": [
       "[<h2>Hi!</h2>,\n",
       " <h2>What big tech companies pay interns</h2>,\n",
       " <h2 class=\"h-alt\">Giant companies that won't buy your startup</h2>,\n",
       " <h2 class=\"h-alt\">Yik Yak is shutting down</h2>,\n",
       " <h2 class=\"h-alt\">Robinhood stock app raises $110M at $1.3B</h2>]"
      ]
     },
     "execution_count": 27,
     "metadata": {},
     "output_type": "execute_result"
    }
   ],
   "source": [
    "h2s[:5]"
   ]
  },
  {
   "cell_type": "code",
   "execution_count": 28,
   "metadata": {
    "collapsed": false
   },
   "outputs": [
    {
     "name": "stdout",
     "output_type": "stream",
     "text": [
      "1 Equity crowdfunding platform Seedrs to launch secondary market\n",
      "2 Garena rebrands to Sea and raises $550 million more to focus on Indonesian e-commerce\n",
      "3 Cornershop, a grocery-delivery app in Chile and Mexico, raises $21M\n",
      "4 “The Handmaid’s Tale” is critical to the success of Hulu’s Live TV service\n",
      "5 Urban-X’s investors showcase features high-tech face masks, navigation for the blind and more\n",
      "6 Germany’s Duolingo competitor Babbel sets its sights on the US\n",
      "7 Inside Andy Rubin’s futuristic Playground hardware incubator\n",
      "8 Fortem raises $5.5 million to hunt and take down unwanted drones\n",
      "9 Baby tech draws seed funding and a few big rounds\n",
      "10 Made In Space reveals the Archinaut, a robot-operated factory in the sky\n",
      "11 Growlabs nabs $2.2M to automate outbound sales\n",
      "12 Scan these new QR-style Spotify Codes to instantly play a song\n",
      "13 Equity podcast: Sequoia’s Roelof Botha on why he’s still bullish on Tesla\n",
      "14 Docker’s new CEO sees gargantuan opportunities ahead\n",
      "15 Worst quarter for paid TV subscriptions points to a cord cutting future\n",
      "16 These big tech companies pay their interns the most\n",
      "17 These 11 technologies want to hack your brains\n",
      "18 Zapier launches $250/month team accounts\n",
      "19 Heap raises $27M to ‘make data useful for everyone’\n",
      "20 Izzy Wheels turns your wheelchair into a fashion statement\n"
     ]
    }
   ],
   "source": [
    "i = 0\n",
    "for h2 in h2s:\n",
    "    all_s = h2.find_all('a')\n",
    "    if len(all_s) > 0:\n",
    "        i += 1\n",
    "        print(str(i) + \" \" +all_s[0].text)"
   ]
  },
  {
   "cell_type": "markdown",
   "metadata": {},
   "source": [
    "## Article Image \n",
    " - 마지막에 크롤링 된 image 가지고오기. "
   ]
  },
  {
   "cell_type": "code",
   "execution_count": 29,
   "metadata": {
    "collapsed": true
   },
   "outputs": [],
   "source": [
    "root = lxml.html.fromstring(res_a.text)"
   ]
  },
  {
   "cell_type": "code",
   "execution_count": 30,
   "metadata": {
    "collapsed": true
   },
   "outputs": [],
   "source": [
    "imgs = root.cssselect('.article-entry img')"
   ]
  },
  {
   "cell_type": "code",
   "execution_count": 31,
   "metadata": {
    "collapsed": true
   },
   "outputs": [],
   "source": [
    "img = imgs[0]"
   ]
  },
  {
   "cell_type": "code",
   "execution_count": 32,
   "metadata": {
    "collapsed": false
   },
   "outputs": [
    {
     "data": {
      "text/plain": [
       "'https://tctechcrunch2011.files.wordpress.com/2017/05/fuchsia-macaree-izzy-wheel.jpg?w=738'"
      ]
     },
     "execution_count": 32,
     "metadata": {},
     "output_type": "execute_result"
    }
   ],
   "source": [
    "img.attrib['src']"
   ]
  },
  {
   "cell_type": "code",
   "execution_count": 33,
   "metadata": {
    "collapsed": true
   },
   "outputs": [],
   "source": [
    "picture = requests.get(img.attrib['src'])"
   ]
  },
  {
   "cell_type": "code",
   "execution_count": 34,
   "metadata": {
    "collapsed": true
   },
   "outputs": [],
   "source": [
    "with open('img/a.jpg','wb') as f:\n",
    "    f.write(picture.content)"
   ]
  }
 ],
 "metadata": {
  "anaconda-cloud": {},
  "kernelspec": {
   "display_name": "Python [work]",
   "language": "python",
   "name": "Python [work]"
  },
  "language_info": {
   "codemirror_mode": {
    "name": "ipython",
    "version": 3
   },
   "file_extension": ".py",
   "mimetype": "text/x-python",
   "name": "python",
   "nbconvert_exporter": "python",
   "pygments_lexer": "ipython3",
   "version": "3.5.2"
  }
 },
 "nbformat": 4,
 "nbformat_minor": 0
}
