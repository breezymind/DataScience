{
 "cells": [
  {
   "cell_type": "markdown",
   "metadata": {},
   "source": [
    "# GooglePlay Reviews Crawling \n",
    " - 국민대학교 빅데이터 경영 MBA 5기 U2016054 이병준 \n",
    " - Summary\n",
    "  - 우선 전체 평점 및 투표인원 데이터는 첫페이지 URL을 통해서 크롤링. \n",
    "  - 리뷰 : ajax 통신을 통한 크롤링."
   ]
  },
  {
   "cell_type": "code",
   "execution_count": 1,
   "metadata": {
    "collapsed": true
   },
   "outputs": [],
   "source": [
    "import pandas as pd\n",
    "import seaborn as sns \n",
    "import matplotlib.pyplot as plt\n",
    "import requests\n",
    "import urllib.request\n",
    "import json\n",
    "import requests\n",
    "import re\n",
    "from bs4 import BeautifulSoup"
   ]
  },
  {
   "cell_type": "code",
   "execution_count": 2,
   "metadata": {
    "collapsed": true
   },
   "outputs": [],
   "source": [
    "%matplotlib inline"
   ]
  },
  {
   "cell_type": "markdown",
   "metadata": {},
   "source": [
    "## 1. 전체 평점 및 투표인원 \n",
    " - 첫페이지 내용 크롤링 "
   ]
  },
  {
   "cell_type": "code",
   "execution_count": 3,
   "metadata": {
    "collapsed": true
   },
   "outputs": [],
   "source": [
    "url = 'https://play.google.com/store/apps/details?id=com.bandainamcogames.dbzdokkanww&hl=ko'\n",
    "headers = {'User-Agent': 'Mozilla/5.0 (Windows; U; MSIE 9.0; Windows NT 9.0; en-US)'}\n",
    "req = urllib.request.Request(url, headers=headers)\n",
    "data = urllib.request.urlopen(req).read().decode('utf-8')"
   ]
  },
  {
   "cell_type": "code",
   "execution_count": 4,
   "metadata": {
    "collapsed": false
   },
   "outputs": [],
   "source": [
    "bs = BeautifulSoup(data, 'html.parser')\n",
    "div_list = bs.find_all('div',class_=\"details-section-body expandable\")\n",
    "\n",
    "div_root_list = bs.find_all('div',class_=\"details-wrapper apps\")"
   ]
  },
  {
   "cell_type": "markdown",
   "metadata": {},
   "source": [
    " - 각 리뷰 스코오별 투표 인원 가지고 오기 \n",
    " - 1~5점 각 인원, 평균, 전체 인원 "
   ]
  },
  {
   "cell_type": "code",
   "execution_count": 5,
   "metadata": {
    "collapsed": true
   },
   "outputs": [],
   "source": [
    "# 각 리뷰 스코오별 투표 인원 가지고 오기 \n",
    "# 1~5점 각 인원, 평균, 전체 인원 \n",
    "for div_list in div_root_list:\n",
    "    rating = div_list.find_all('div',class_=\"rating-box\")\n",
    "    if len(rating)>0:\n",
    "        total_num = rating[0].find_all('span', class_=\"reviews-num\")[0].text\n",
    "        avg = rating[0].find_all(\"div\",class_=\"score\")[0].text\n",
    "        score_detail = rating[0].find_all(\"div\",class_=\"rating-histogram\")[0].find_all('div',class_=\"rating-bar-container\")\n",
    "        total_number = {}\n",
    "        for score in score_detail:\n",
    "            label = score.find('span',class_=\"bar-label\").text.strip()\n",
    "            label_number = score.find('span',class_=\"bar-number\").text\n",
    "            total_number[label] = label_number\n",
    "        total_number['avg'] = avg\n",
    "        total_number['total'] = total_num"
   ]
  },
  {
   "cell_type": "code",
   "execution_count": 6,
   "metadata": {
    "collapsed": true
   },
   "outputs": [],
   "source": [
    "total_series = pd.Series(total_number)\n",
    "total_series.to_csv(\"total_Dragonball_series.csv\")"
   ]
  },
  {
   "cell_type": "code",
   "execution_count": 7,
   "metadata": {
    "collapsed": false
   },
   "outputs": [
    {
     "data": {
      "text/plain": [
       "1         61,986\n",
       "2         17,596\n",
       "3         32,633\n",
       "4         52,787\n",
       "5        270,423\n",
       "avg          4.0\n",
       "total    435,425\n",
       "dtype: object"
      ]
     },
     "execution_count": 7,
     "metadata": {},
     "output_type": "execute_result"
    }
   ],
   "source": [
    "total_series"
   ]
  },
  {
   "cell_type": "markdown",
   "metadata": {},
   "source": [
    "## 2. 리뷰 전체 가지고 오기. "
   ]
  },
  {
   "cell_type": "code",
   "execution_count": 8,
   "metadata": {
    "collapsed": true
   },
   "outputs": [],
   "source": [
    "url = \"https://play.google.com/store/getreviews?authuser=0\"\n",
    "id = 'com.bandainamcogames.dbzdokkanww'\n",
    "token = '9V4URdumbZesPVPwcfvK83ouELc:1492657163987'"
   ]
  },
  {
   "cell_type": "code",
   "execution_count": 9,
   "metadata": {
    "collapsed": true
   },
   "outputs": [],
   "source": [
    "# Review가지고오기.\n",
    "def GetReviews(url,id,token,pages):  \n",
    "    param = {'reviewType': '0', 'pageNum': '10000', 'id':'','reviewSortOrder':'4','xhr':'1','token':'','hl':'ko'}\n",
    "    param['id'] = id\n",
    "    param['token'] = token\n",
    "    \n",
    "    review_date_all = []\n",
    "    review_star_all = []\n",
    "    review_user_all = []\n",
    "    review_title_all = []\n",
    "    review_body_all = []\n",
    "    for i in range(1,pages):\n",
    "        param['pageNum'] = i\n",
    "        res = requests.post(url, data=param)\n",
    "        print(\" line : {line}, code : {code}\".format(line=i,code=res.status_code))\n",
    "        if res.status_code == 400 or i == pages-1:\n",
    "            review_df = pd.DataFrame({'DATE':review_date_all,'STAR':review_star_all,'TITLE':review_title_all, 'USER':review_user_all,'BODY':review_body_all})\n",
    "            columns_list = ['DATE','USER','STAR','TITLE','BODY']\n",
    "            return(review_df[columns_list])\n",
    "        else:\n",
    "            body = res.text[6:]\n",
    "            res_json = json.loads(body)\n",
    "            bs = BeautifulSoup(res_json[0][2], 'html.parser')\n",
    "            review_lists = bs.find_all('div',class_=\"single-review\")\n",
    "            for j in range(1,len(review_lists)):\n",
    "                review_date = review_lists[j].find('span',class_=\"review-date\").text # review_date\n",
    "                review_star = int(re.findall(r'\\d+', review_lists[0].find('div',class_=\"tiny-star star-rating-non-editable-container\")['aria-label'])[1]) # Get Digits from Rates\n",
    "                review_title = review_lists[j].find('span',class_=\"review-title\").text # title\n",
    "                review_body = review_lists[j].find('div',class_=\"review-body with-review-wrapper\").text # review body\n",
    "                review_body = str.replace(review_body,review_title,\"\")\n",
    "                review_body = str.replace(review_body,\"전체 리뷰\",\"\")\n",
    "                review_body = review_body.strip()\n",
    "                review_user = review_lists[j].find('span',class_=\"author-name\").text.strip()  # get Reviewer\n",
    "                review_date_all.append(review_date)\n",
    "                review_star_all.append(review_star)\n",
    "                review_user_all.append(review_user)\n",
    "                review_title_all.append(review_title)\n",
    "                review_body_all.append(review_body)"
   ]
  },
  {
   "cell_type": "code",
   "execution_count": 10,
   "metadata": {
    "collapsed": false
   },
   "outputs": [
    {
     "name": "stdout",
     "output_type": "stream",
     "text": [
      " line : 1, code : 200\n",
      " line : 2, code : 200\n",
      " line : 3, code : 200\n",
      " line : 4, code : 200\n",
      " line : 5, code : 200\n",
      " line : 6, code : 200\n",
      " line : 7, code : 200\n",
      " line : 8, code : 200\n",
      " line : 9, code : 200\n",
      " line : 10, code : 200\n",
      " line : 11, code : 200\n",
      " line : 12, code : 200\n",
      " line : 13, code : 200\n",
      " line : 14, code : 200\n",
      " line : 15, code : 200\n",
      " line : 16, code : 200\n",
      " line : 17, code : 200\n",
      " line : 18, code : 200\n",
      " line : 19, code : 200\n",
      " line : 20, code : 200\n",
      " line : 21, code : 200\n",
      " line : 22, code : 200\n",
      " line : 23, code : 200\n",
      " line : 24, code : 200\n",
      " line : 25, code : 200\n",
      " line : 26, code : 200\n",
      " line : 27, code : 200\n",
      " line : 28, code : 200\n",
      " line : 29, code : 200\n",
      " line : 30, code : 200\n",
      " line : 31, code : 200\n",
      " line : 32, code : 200\n",
      " line : 33, code : 200\n",
      " line : 34, code : 200\n",
      " line : 35, code : 200\n",
      " line : 36, code : 200\n",
      " line : 37, code : 200\n",
      " line : 38, code : 200\n",
      " line : 39, code : 200\n",
      " line : 40, code : 200\n",
      " line : 41, code : 200\n",
      " line : 42, code : 200\n",
      " line : 43, code : 200\n",
      " line : 44, code : 200\n",
      " line : 45, code : 200\n",
      " line : 46, code : 200\n",
      " line : 47, code : 200\n",
      " line : 48, code : 200\n",
      " line : 49, code : 200\n",
      " line : 50, code : 200\n",
      " line : 51, code : 200\n",
      " line : 52, code : 200\n",
      " line : 53, code : 200\n",
      " line : 54, code : 200\n",
      " line : 55, code : 200\n",
      " line : 56, code : 200\n",
      " line : 57, code : 200\n",
      " line : 58, code : 200\n",
      " line : 59, code : 200\n",
      " line : 60, code : 200\n",
      " line : 61, code : 200\n",
      " line : 62, code : 200\n",
      " line : 63, code : 200\n",
      " line : 64, code : 200\n",
      " line : 65, code : 200\n",
      " line : 66, code : 200\n",
      " line : 67, code : 200\n",
      " line : 68, code : 200\n",
      " line : 69, code : 200\n",
      " line : 70, code : 200\n",
      " line : 71, code : 200\n",
      " line : 72, code : 200\n",
      " line : 73, code : 200\n",
      " line : 74, code : 200\n",
      " line : 75, code : 200\n",
      " line : 76, code : 200\n",
      " line : 77, code : 200\n",
      " line : 78, code : 200\n",
      " line : 79, code : 200\n",
      " line : 80, code : 200\n",
      " line : 81, code : 200\n",
      " line : 82, code : 200\n",
      " line : 83, code : 200\n",
      " line : 84, code : 200\n",
      " line : 85, code : 200\n",
      " line : 86, code : 200\n",
      " line : 87, code : 200\n",
      " line : 88, code : 200\n",
      " line : 89, code : 200\n",
      " line : 90, code : 200\n",
      " line : 91, code : 200\n",
      " line : 92, code : 200\n",
      " line : 93, code : 200\n",
      " line : 94, code : 200\n",
      " line : 95, code : 200\n",
      " line : 96, code : 200\n",
      " line : 97, code : 200\n",
      " line : 98, code : 200\n",
      " line : 99, code : 200\n",
      " line : 100, code : 200\n",
      " line : 101, code : 200\n",
      " line : 102, code : 200\n",
      " line : 103, code : 200\n",
      " line : 104, code : 200\n",
      " line : 105, code : 200\n",
      " line : 106, code : 200\n",
      " line : 107, code : 200\n",
      " line : 108, code : 200\n",
      " line : 109, code : 200\n",
      " line : 110, code : 200\n",
      " line : 111, code : 200\n",
      " line : 112, code : 400\n"
     ]
    }
   ],
   "source": [
    "DF = GetReviews(url,id,token,10000)"
   ]
  },
  {
   "cell_type": "code",
   "execution_count": 11,
   "metadata": {
    "collapsed": true
   },
   "outputs": [],
   "source": [
    "DF['DATE'] = pd.to_datetime(DF['DATE'],format='%Y년 %m월 %d일')\n",
    "DF = DF.sort_values(by='DATE', ascending=True).reindex()   "
   ]
  },
  {
   "cell_type": "code",
   "execution_count": 12,
   "metadata": {
    "collapsed": false
   },
   "outputs": [
    {
     "data": {
      "text/html": [
       "<div>\n",
       "<table border=\"1\" class=\"dataframe\">\n",
       "  <thead>\n",
       "    <tr style=\"text-align: right;\">\n",
       "      <th></th>\n",
       "      <th>DATE</th>\n",
       "      <th>USER</th>\n",
       "      <th>STAR</th>\n",
       "      <th>TITLE</th>\n",
       "      <th>BODY</th>\n",
       "    </tr>\n",
       "  </thead>\n",
       "  <tbody>\n",
       "    <tr>\n",
       "      <th>2551</th>\n",
       "      <td>2015-07-24</td>\n",
       "      <td>Mark Seo</td>\n",
       "      <td>5</td>\n",
       "      <td>가챠확률 개똥임</td>\n",
       "      <td>일본섭에서도 말 많은데..</td>\n",
       "    </tr>\n",
       "    <tr>\n",
       "      <th>3358</th>\n",
       "      <td>2015-07-26</td>\n",
       "      <td>sung kim</td>\n",
       "      <td>4</td>\n",
       "      <td>조아</td>\n",
       "      <td></td>\n",
       "    </tr>\n",
       "    <tr>\n",
       "      <th>2550</th>\n",
       "      <td>2015-08-07</td>\n",
       "      <td>Sunwoo Lee</td>\n",
       "      <td>5</td>\n",
       "      <td>넘 재미있어요</td>\n",
       "      <td>캐릭터들 넘 멋있어서 모으는 재미도 있고 좋은거 뽑힐 확률도 다른게임들보다 더 높은...</td>\n",
       "    </tr>\n",
       "    <tr>\n",
       "      <th>2547</th>\n",
       "      <td>2015-08-25</td>\n",
       "      <td>Riot Omega</td>\n",
       "      <td>5</td>\n",
       "      <td>It's cool</td>\n",
       "      <td>Thanks to everyone who has been a bit more abo...</td>\n",
       "    </tr>\n",
       "    <tr>\n",
       "      <th>2549</th>\n",
       "      <td>2015-08-25</td>\n",
       "      <td>최민영</td>\n",
       "      <td>5</td>\n",
       "      <td></td>\n",
       "      <td>can't  update .....why!!!!!</td>\n",
       "    </tr>\n",
       "  </tbody>\n",
       "</table>\n",
       "</div>"
      ],
      "text/plain": [
       "           DATE        USER  STAR      TITLE  \\\n",
       "2551 2015-07-24    Mark Seo     5   가챠확률 개똥임   \n",
       "3358 2015-07-26    sung kim     4         조아   \n",
       "2550 2015-08-07  Sunwoo Lee     5    넘 재미있어요   \n",
       "2547 2015-08-25  Riot Omega     5  It's cool   \n",
       "2549 2015-08-25         최민영     5              \n",
       "\n",
       "                                                   BODY  \n",
       "2551                                     일본섭에서도 말 많은데..  \n",
       "3358                                                     \n",
       "2550  캐릭터들 넘 멋있어서 모으는 재미도 있고 좋은거 뽑힐 확률도 다른게임들보다 더 높은...  \n",
       "2547  Thanks to everyone who has been a bit more abo...  \n",
       "2549                        can't  update .....why!!!!!  "
      ]
     },
     "execution_count": 12,
     "metadata": {},
     "output_type": "execute_result"
    }
   ],
   "source": [
    "DF.head()"
   ]
  },
  {
   "cell_type": "code",
   "execution_count": 13,
   "metadata": {
    "collapsed": true
   },
   "outputs": [],
   "source": [
    "DF.to_csv(\"Dragonball_review.csv\")"
   ]
  },
  {
   "cell_type": "markdown",
   "metadata": {},
   "source": [
    "## 3. 저평가를 준 사람들 리뷰 WordCloud\n",
    " - TextMining을 통한 WordCloud"
   ]
  },
  {
   "cell_type": "code",
   "execution_count": 14,
   "metadata": {
    "collapsed": false
   },
   "outputs": [
    {
     "data": {
      "text/plain": [
       "<seaborn.axisgrid.FacetGrid at 0x148eb9e5eb8>"
      ]
     },
     "execution_count": 14,
     "metadata": {},
     "output_type": "execute_result"
    },
    {
     "data": {
      "image/png": "[encoded data removed]",
      "text/plain": [
       "<matplotlib.figure.Figure at 0x148eb9e5ba8>"
      ]
     },
     "metadata": {},
     "output_type": "display_data"
    }
   ],
   "source": [
    "sns.factorplot('STAR',kind='count',data=DF) # 실질적으로 1을 준 사용자도 많다. 완전히 실망하거나 만족하거나 하는 성향을 보였다."
   ]
  },
  {
   "cell_type": "code",
   "execution_count": 15,
   "metadata": {
    "collapsed": true
   },
   "outputs": [],
   "source": [
    "Under_three = DF[DF['STAR']<=3]\n",
    "Over_three = DF[DF['STAR']>3]"
   ]
  },
  {
   "cell_type": "code",
   "execution_count": 16,
   "metadata": {
    "collapsed": false
   },
   "outputs": [
    {
     "data": {
      "text/plain": [
       "3486"
      ]
     },
     "execution_count": 16,
     "metadata": {},
     "output_type": "execute_result"
    }
   ],
   "source": [
    "len(Under_three) + len(Over_three)"
   ]
  },
  {
   "cell_type": "code",
   "execution_count": 17,
   "metadata": {
    "collapsed": false
   },
   "outputs": [
    {
     "data": {
      "text/plain": [
       "3486"
      ]
     },
     "execution_count": 17,
     "metadata": {},
     "output_type": "execute_result"
    }
   ],
   "source": [
    "len(DF)"
   ]
  },
  {
   "cell_type": "code",
   "execution_count": 18,
   "metadata": {
    "collapsed": true
   },
   "outputs": [],
   "source": [
    "under_text = Under_three['BODY']"
   ]
  },
  {
   "cell_type": "code",
   "execution_count": 20,
   "metadata": {
    "collapsed": false
   },
   "outputs": [
    {
     "data": {
      "text/plain": [
       "'정말재미잇어요'"
      ]
     },
     "execution_count": 20,
     "metadata": {},
     "output_type": "execute_result"
    }
   ],
   "source": [
    "under_text[100]"
   ]
  },
  {
   "cell_type": "code",
   "execution_count": 22,
   "metadata": {
    "collapsed": false
   },
   "outputs": [
    {
     "data": {
      "text/plain": [
       "'정말재미잇어요'"
      ]
     },
     "execution_count": 22,
     "metadata": {},
     "output_type": "execute_result"
    }
   ],
   "source": [
    "re.sub('[^가-힣\\s]',\"\",under_text[100])"
   ]
  },
  {
   "cell_type": "code",
   "execution_count": 23,
   "metadata": {
    "collapsed": true
   },
   "outputs": [],
   "source": [
    "under_text = under_text.apply(lambda x:re.sub('[^가-힣\\s]',\"\",x))"
   ]
  },
  {
   "cell_type": "markdown",
   "metadata": {},
   "source": [
    "### 3.1 형태소 분석"
   ]
  },
  {
   "cell_type": "code",
   "execution_count": 24,
   "metadata": {
    "collapsed": true
   },
   "outputs": [],
   "source": [
    "from konlpy.tag import Twitter\n",
    "from sklearn.feature_extraction.text import CountVectorizer"
   ]
  },
  {
   "cell_type": "markdown",
   "metadata": {},
   "source": [
    "### 3.2 1글자 짜리 빼기"
   ]
  },
  {
   "cell_type": "code",
   "execution_count": 25,
   "metadata": {
    "collapsed": true
   },
   "outputs": [],
   "source": [
    "tagger = Twitter()"
   ]
  },
  {
   "cell_type": "code",
   "execution_count": 26,
   "metadata": {
    "collapsed": true
   },
   "outputs": [],
   "source": [
    "def get_word(doc):\n",
    "    nouns = tagger.nouns(doc)\n",
    "    return [noun for noun in nouns if len(noun) > 1]         "
   ]
  },
  {
   "cell_type": "code",
   "execution_count": 27,
   "metadata": {
    "collapsed": false
   },
   "outputs": [],
   "source": [
    "cv = CountVectorizer(tokenizer=get_word, max_features=200)\n",
    "tdf = cv.fit_transform(under_text)\n",
    "words = cv.get_feature_names()"
   ]
  },
  {
   "cell_type": "code",
   "execution_count": 28,
   "metadata": {
    "collapsed": false,
    "scrolled": false
   },
   "outputs": [
    {
     "data": {
      "text/plain": [
       "['가요', '가지', '각성', '갑자기', '갤럭시', '게임', '겨우', '격전', '결제', '계속']"
      ]
     },
     "execution_count": 28,
     "metadata": {},
     "output_type": "execute_result"
    }
   ],
   "source": [
    "words[:10]"
   ]
  },
  {
   "cell_type": "markdown",
   "metadata": {},
   "source": [
    "### 3.3 단어별 출현 빈도"
   ]
  },
  {
   "cell_type": "code",
   "execution_count": 29,
   "metadata": {
    "collapsed": false
   },
   "outputs": [
    {
     "data": {
      "text/plain": [
       "matrix([[  8,   8,  12,  13,   6, 208,   7,  15,   6,  67,  26,   8,   6,\n",
       "           7,   7,   8,   8,  22,  32,   6,   6,  15,   7, 104,  10,  12,\n",
       "           8,  40,  33,  45,   7,   8,   9,  54,   6,   8,  49,  14,   7,\n",
       "          12, 148,   6,   7,   9,   8,   6,  21,  13,  15,  20,   6,   9,\n",
       "           7,   7,   6,  10,   8,  19,  19,   7,  19,  29,   6,  12,   7,\n",
       "           8,  61,  18,   9,  34,   8,  23,  10,   9,  13,  27,  19,  15,\n",
       "           7,  20,  72,  12,   7,   8,  20,  16,  15,   6,   7,   7,   6,\n",
       "           6,   6,   6,  20,  11,   7,  50,  14,  20,  14,   7,  10,  10,\n",
       "          25,   6,   8,  12,  11,  21,  65,  13,  32,  15,   6,  53,   6,\n",
       "           6,   6,  13,  24,   6,   9,  10,  32,   7,  12,   8,   9,   6,\n",
       "           7,   6,  34,   6,  16,  10,   6,  15,  10,  31,   9,   6,  11,\n",
       "          66,  20,  12,  19,  11,  16,  10,  12,  11,  10,   9,   8,  27,\n",
       "           6,  48,  15,  16,  32,  15,   6,  30,   6,  19,  11,   8,  10,\n",
       "           9,   7,  15,  25,  10,  39,   7,  49,   8,  10,  12,  13,   8,\n",
       "          23,  16,  14,  10,   7,   9,  18,  15,   9,   7,  12,   6,   6,\n",
       "          11,  30,   8,   8,   6]], dtype=int64)"
      ]
     },
     "execution_count": 29,
     "metadata": {},
     "output_type": "execute_result"
    }
   ],
   "source": [
    "import numpy as np \n",
    "count_mat = tdf.sum(axis=0)\n",
    "count_mat"
   ]
  },
  {
   "cell_type": "code",
   "execution_count": 30,
   "metadata": {
    "collapsed": true
   },
   "outputs": [],
   "source": [
    "count = np.squeeze(np.asarray(count_mat))\n",
    "word_count = list(zip(words, count))"
   ]
  },
  {
   "cell_type": "code",
   "execution_count": 31,
   "metadata": {
    "collapsed": false
   },
   "outputs": [
    {
     "data": {
      "text/plain": [
       "[('가요', 8),\n",
       " ('가지', 8),\n",
       " ('각성', 12),\n",
       " ('갑자기', 13),\n",
       " ('갤럭시', 6),\n",
       " ('게임', 208),\n",
       " ('겨우', 7),\n",
       " ('격전', 15),\n",
       " ('결제', 6),\n",
       " ('계속', 67)]"
      ]
     },
     "execution_count": 31,
     "metadata": {},
     "output_type": "execute_result"
    }
   ],
   "source": [
    "word_count[:10]"
   ]
  },
  {
   "cell_type": "markdown",
   "metadata": {},
   "source": [
    "### 3.4 빈도 정렬 "
   ]
  },
  {
   "cell_type": "code",
   "execution_count": 32,
   "metadata": {
    "collapsed": true
   },
   "outputs": [],
   "source": [
    "word_count = sorted(word_count, key=lambda t:t[1], reverse=True)"
   ]
  },
  {
   "cell_type": "code",
   "execution_count": 33,
   "metadata": {
    "collapsed": false
   },
   "outputs": [
    {
     "data": {
      "text/plain": [
       "[('게임', 208), ('로딩', 148), ('너무', 104), ('시간', 72), ('계속', 67)]"
      ]
     },
     "execution_count": 33,
     "metadata": {},
     "output_type": "execute_result"
    }
   ],
   "source": [
    "word_count[:5]"
   ]
  },
  {
   "cell_type": "code",
   "execution_count": 34,
   "metadata": {
    "collapsed": true
   },
   "outputs": [],
   "source": [
    "# 20번 이상 언급됐던 부분만 나오게 하기 ( 내용이 너무 많다.)\n",
    "word_count2 = []\n",
    "for item in word_count:\n",
    "    if item[1] > 20:\n",
    "        word_count2.append(item)"
   ]
  },
  {
   "cell_type": "markdown",
   "metadata": {},
   "source": [
    "### 3.5 WordCloud 생성"
   ]
  },
  {
   "cell_type": "code",
   "execution_count": 35,
   "metadata": {
    "collapsed": true
   },
   "outputs": [],
   "source": [
    "import matplotlib.pyplot as plt\n",
    "from wordcloud import WordCloud"
   ]
  },
  {
   "cell_type": "code",
   "execution_count": 36,
   "metadata": {
    "collapsed": false
   },
   "outputs": [
    {
     "data": {
      "image/png": "[encoded data removed]",
      "text/plain": [
       "<matplotlib.figure.Figure at 0x148ea17ee80>"
      ]
     },
     "metadata": {},
     "output_type": "display_data"
    }
   ],
   "source": [
    "wc = WordCloud(font_path='C:\\\\Windows\\\\Fonts\\\\malgun.ttf', background_color='white', width=400, height=300)\n",
    "cloud = wc.generate_from_frequencies(dict(word_count2))\n",
    "plt.figure(figsize=(12,9))\n",
    "plt.imshow(cloud)\n",
    "plt.axis('off')\n",
    "plt.show()"
   ]
  }
 ],
 "metadata": {
  "anaconda-cloud": {},
  "kernelspec": {
   "display_name": "Python [py35]",
   "language": "python",
   "name": "Python [py35]"
  },
  "language_info": {
   "codemirror_mode": {
    "name": "ipython",
    "version": 3
   },
   "file_extension": ".py",
   "mimetype": "text/x-python",
   "name": "python",
   "nbconvert_exporter": "python",
   "pygments_lexer": "ipython3",
   "version": "3.5.2"
  }
 },
 "nbformat": 4,
 "nbformat_minor": 0
}
