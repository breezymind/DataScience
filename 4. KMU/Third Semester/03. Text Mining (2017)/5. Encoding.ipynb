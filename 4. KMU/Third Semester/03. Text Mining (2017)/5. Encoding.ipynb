{
 "cells": [
  {
   "cell_type": "markdown",
   "metadata": {},
   "source": [
    "# Encoding "
   ]
  },
  {
   "cell_type": "code",
   "execution_count": 2,
   "metadata": {
    "collapsed": true
   },
   "outputs": [],
   "source": [
    "import requests\n",
    "import lxml.html "
   ]
  },
  {
   "cell_type": "markdown",
   "metadata": {},
   "source": [
    "### 꼭 알아둬야할 인코딩 \n",
    " - ASCII\n",
    " - EUC-KR\n",
    " - CP949\n",
    " - UTF8"
   ]
  },
  {
   "cell_type": "markdown",
   "metadata": {},
   "source": [
    "### 16진수\n",
    " - Hexadecimal (흔히 hex)\n",
    " - 0~F까지 16개의 수로 한 자리를 나타냄\n",
    "\n",
    "|A|B|C|D|E|F|\n",
    "|--|--|--|--|--|--|\n",
    "|10|11|12|13|14|15|\n",
    "\n",
    "- 프로그래밍에서는 0x를 앞에 붙여 표시 \n",
    "- 2진수 4자리  = 16진수 1자리 \n",
    "\n",
    "### Bit 와 Byte\n",
    " - Bit : 2진수 1자리(0 or 1)\n",
    " - Byte = 8bit"
   ]
  },
  {
   "cell_type": "markdown",
   "metadata": {},
   "source": [
    "### ASCII\n",
    " - American Standard Code for Information Interchange\n",
    "  - 미국 정보 교환 표준 부호\n",
    "\n",
    " - 7bit 코드: 0x00 ~ 0x7F까지 128개\n",
    "  - 000 0000(2) ~ 111 1111(2)\n",
    "  - 알파벳, 문장부호 등을 포함\n",
    "\n",
    " - 첫 1bit는 parity bit (1의 개수가 홀수면 1)\n",
    "  - 에러 검출 목적\n"
   ]
  },
  {
   "cell_type": "markdown",
   "metadata": {},
   "source": [
    "### ISO 8859\n",
    " - 8bit: 0x00 ~ 0xFF까지 256개\n",
    "  - ASCII에서 쓸 수 없는 문자들까지 포함 \n",
    "  - 언어권에 따라 여러 가지 변형\n",
    "  - 서유럽용 ISO 8859-1을 가장 많이 씀(Latin-1)\n",
    "\n",
    " - 공백이 2종류\n",
    "  - 0x20 Space\n",
    "  - 0xA0 NBSP\n"
   ]
  },
  {
   "cell_type": "markdown",
   "metadata": {},
   "source": [
    "### 한글 인코딩\n",
    " - 현대 한글: 11,172글자\n",
    "  - 초성(19개) X 중성(21) X 종성(28)\n",
    "  - 14bit (0~16,384) 필요\n",
    "  - 한자도 있음\n",
    "\n",
    " - 조합형:\n",
    "  - 16bit 한글\n",
    "  - 한글표시 1bit + 초성 5bit + 중성 5 bit + 종성 5bit\n",
    "  - 장점: 모든 현대 한글을 표현\n",
    "  - 단점: 처리가 복잡"
   ]
  },
  {
   "cell_type": "markdown",
   "metadata": {},
   "source": [
    "### 완성형 EUC-KR\n",
    " - EUC-KR\n",
    "  - KS X 1001\n",
    "  - 행망용, KS C 5601\n",
    "\n",
    " - ISO 8859에서 A1~FE 까지 94 글자 범위 이용\n",
    "  - 영어는 1 byte, 한글은 2 byte로 표현\n",
    "  - 94 x 94 = 8,836 글자 표현 가능\n",
    "\n",
    " - 현대 한글 2,350자만 사용(쓩, 쌰 등 제외)\n",
    "  - 0x5C Backslash를 원화 표시로 대체"
   ]
  },
  {
   "cell_type": "markdown",
   "metadata": {},
   "source": [
    "### 확장완성형 CP949\n",
    "- 현대 한글 11,172자 모두 표현\n",
    " - MS에서 개발, 윈도 95부터 기본 인코딩\n",
    " - ASCII(0x00-0x7F)와 완성형(0xA1-0xFE) 사이의 남는 영역 사용\n",
    "\n",
    "- 비표준: CP 949, MS 949\n",
    " - EUC-KR로 잘못 표기되는 경우가 흔함\n",
    "\n",
    "- 국내에서 널리 사용\n",
    "\n",
    "![encoding](img/15.PNG)"
   ]
  },
  {
   "cell_type": "markdown",
   "metadata": {},
   "source": [
    "### 유니코드 "
   ]
  },
  {
   "cell_type": "markdown",
   "metadata": {},
   "source": [
    " - UNICODE\n",
    "  - 모든 문자를 포함하는 국제표준\n",
    "  - 21bit 2,097,152 글자\n",
    " - U+를 앞에 붙임 U+00A0 == 0x00A0\n",
    " - 기존 표준과 호환\n",
    "\n",
    " - U+AC00 ~ U+D7AF에 한글 11,172글자 할당\n",
    "\n",
    " - 대부분 OS, 프로그래밍 언어 내부에 사용"
   ]
  },
  {
   "cell_type": "markdown",
   "metadata": {},
   "source": [
    "### UTF-8 "
   ]
  },
  {
   "cell_type": "markdown",
   "metadata": {},
   "source": [
    " - 유니코드 인코딩 방식 중 하나\n",
    "\n",
    " - 1~4 byte: 영어는 1 byte, 한글은 3 byte\n",
    "\n",
    " - ASCII와 호환\n",
    "  - m: U+006D -> 0x6D\n",
    "  - 쓩: U+C4E9 -> 0xEC 0x93 0xA9\n",
    "\n",
    " - 대부분 웹 사이트에서 사용 (국내는 아님)\n",
    " \n",
    "![encoding](img/16.PNG)"
   ]
  },
  {
   "cell_type": "markdown",
   "metadata": {},
   "source": [
    "## 네이버에서 '딥러닝'으로 뉴스 검색"
   ]
  },
  {
   "cell_type": "code",
   "execution_count": 3,
   "metadata": {
    "collapsed": false
   },
   "outputs": [
    {
     "data": {
      "text/plain": [
       "'UTF-8'"
      ]
     },
     "execution_count": 3,
     "metadata": {},
     "output_type": "execute_result"
    }
   ],
   "source": [
    "res = requests.get(\"http://naver.com\")\n",
    "res.encoding"
   ]
  },
  {
   "cell_type": "code",
   "execution_count": 4,
   "metadata": {
    "collapsed": false
   },
   "outputs": [
    {
     "data": {
      "text/plain": [
       "' content=\"네이버 메인에서 다양한 정보와 유용한 컨텐츠를 만나 보세요\"/>\\n\\n<link rel=\"shortcut icon\" type=\"image/x-icon\" href=\"/favicon.ico\" />\\n\\n<link rel=\"stylesheet\" type=\"text/css\" href=\"https://s.pstatic.net/pm2/css/main_v170430.css\"/>\\n<link rel=\"stylesheet\" type=\"text/css\" href=\"https://ssl.pstatic.net/sstatic/search/pc/css/api_atcmp_170413.css\"/>\\n<script type=\"text/javascript\" src=\"https://s.pstatic.net/pm2/js/c/nlog_170414.js\"></script>\\n<script type=\"text/javascript\">\\nvar nsc = \"navertop.v3\";\\ndocument.domain = \"naver.com\";\\nvar jindoAll = \"https://s.pstatic.net/pm2/js/c/jindo_170307a.js\";\\nif (!!!window.console) {window.console={};window.console[\"log\"]=function(){}}\\nvar isLogin = false; \\nfunction refreshLcs(etc) {if(document.cookie.indexOf(\"nrefreshx=1\") != -1) {etc=etc?etc:{};etc[\"mrf\"]=\"1\";return etc;}return null;}\\nlcs_do(refreshLcs());\\n</script>\\n<title>NAVER</title>\\n</head>\\n\\n\\n\\n\\n\\n\\n\\n<body class=\\'\\'>\\n\\t<!-- 스킵 내비게이션 -->\\n\\t<div class=\"u_skip\">\\n\\t\\t<a href=\"#news_cast\" onclick=\"document.getElementById(\\'news_cast2\\').tabIndex = -1;document.getElementById(\\'news_cast2\\').focus();return false;\"><span>뉴스스탠드 바로가기</span></a>\\n\\t\\t<a href=\"#themecast\" onclick=\"document.getElementById(\\'themecast\\').tabIndex = -1;document.getElementById(\\'themecast\\').focus();return false;\"><span>주제별캐스트 바로가기</span></a>\\n\\t\\t<a href=\"#time_square\" onclick=\"document.getElementById(\\'time_square\\').tabIndex = -1;document.getElementById(\\'time_square\\').focus();return false;\"><span>타임스퀘어 바로가기</span></a>\\n\\t\\t<a href=\"#shop_cast\" onclick=\"document.getElementById(\\'shop_cast\\').tabIndex = -1;document.getElementById(\\'shop_cast\\').focus();return false;\"><span>쇼핑캐스트 바로가기</span></a>\\n\\t\\t<a href=\"#account\" onclick=\"document.getElementById(\\'account\\').tabIndex = -1;document.getElementById(\\'account\\').focus();return false;\"><span>로그인 바로가기</span></a>\\n\\t</div>\\n\\t<!-- //스킵 내비게이션 -->\\n\\t<div id=\"PM_ID_ct\" class=\"wrap\" >\\n\\t\\t<!-- 헤더 -->\\n<div class=\"header\" role=\"banner\">\\n\\t\\n<div class=\"special_bg\">\\n<div class=\"area_flex\">\\n<div class=\"area_logo\">\\n\\n<h1>\\n<a data-clk=\"top.logo\" href=\"/\"><span class=\"naver_logo\">네이버</span></a>\\n</h1>\\n\\n</div>\\n<div class=\"area_links\">\\n<a data-clk=\"top.mkhome\" href=\"http://help.naver.com/support/welcomePage/guide.nhn\" class=\"al_favorite\">네이버를 시작페이지로<span class=\"al_ico_link\"></span></a>\\n<span class=\"al_bar\"></span>\\n<a data-clk=\"top.jrnaver\" href=\"http://jr.naver.com\" class=\"al_jr\"><span class=\"blind\">쥬니어네이버</span><span class=\"al_ico\"></span></a>\\n<a data-clk=\"top.happybean\" href=\"http://happybean.naver.com/main/SectionMain.nhn\" class=\"al_happybean\"><span class=\"blind\">해피빈</span><span class=\"al_ico\"></span></a>\\n</div>\\n<div id=\"search\" class=\"search\">\\n<!--자동완성 입력창-->\\n\\n<form id=\"sform\" name=\"sform\" action=\"https://search.naver.com/search.naver\" method=\"get\">\\n\\n\\t<fieldset>\\n   \\t\\t<legend class=\"blind\">검색</legend>\\n        <select id=\"where\" name=\"where\" title=\"검색 범위 선택\" class=\"blind\">\\n            <option value=\"nexearch\" selected=\"selected\">통합검색</option><option value=\"post\">블로그</option><option value=\"cafeblog\">카페</option><option value=\"'"
      ]
     },
     "execution_count": 4,
     "metadata": {},
     "output_type": "execute_result"
    }
   ],
   "source": [
    "res.text[1000:4000]"
   ]
  },
  {
   "cell_type": "code",
   "execution_count": 5,
   "metadata": {
    "collapsed": true
   },
   "outputs": [],
   "source": [
    "res.encoding = 'cp949'"
   ]
  },
  {
   "cell_type": "code",
   "execution_count": 6,
   "metadata": {
    "collapsed": false
   },
   "outputs": [
    {
     "data": {
      "text/plain": [
       "'me=\"twitter:description\" content=\"�꽕�씠踰� 硫붿씤�뿉�꽌 �떎�뼇�븳 �젙蹂댁�� �쑀�슜�븳 而⑦뀗痢좊�� 留뚮굹 蹂댁꽭�슂\"/>\\n\\n<link rel=\"shortcut icon\" type=\"image/x-icon\" href=\"/favicon.ico\" />\\n\\n<link rel=\"stylesheet\" type=\"text/css\" href=\"https://s.pstatic.net/pm2/css/main_v170430.css\"/>\\n<link rel=\"stylesheet\" type=\"text/css\" href=\"https://ssl.pstatic.net/sstatic/search/pc/css/api_atcmp_170413.css\"/>\\n<script type=\"text/javascript\" src=\"https://s.pstatic.net/pm2/js/c/nlog_170414.js\"></script>\\n<script type=\"text/javascript\">\\nvar nsc = \"navertop.v3\";\\ndocument.domain = \"naver.com\";\\nvar jindoAll = \"https://s.pstatic.net/pm2/js/c/jindo_170307a.js\";\\nif (!!!window.console) {window.console={};window.console[\"log\"]=function(){}}\\nvar isLogin = false; \\nfunction refreshLcs(etc) {if(document.cookie.indexOf(\"nrefreshx=1\") != -1) {etc=etc?etc:{};etc[\"mrf\"]=\"1\";return etc;}return null;}\\nlcs_do(refreshLcs());\\n</script>\\n<title>NAVER</title>\\n</head>\\n\\n\\n\\n\\n\\n\\n\\n<body class=\\'\\'>\\n\\t<!-- �뒪�궢 �궡鍮꾧쾶�씠�뀡 -->\\n\\t<div class=\"u_skip\">\\n\\t\\t<a href=\"#news_cast\" onclick=\"document.getElementById(\\'news_cast2\\').tabIndex = -1;document.getElementById(\\'news_cast2\\').focus();return false;\"><span>�돱�뒪�뒪�깲�뱶 諛붾줈媛�湲�</span></a>\\n\\t\\t<a href=\"#themecast\" onclick=\"document.getElementById(\\'themecast\\').tabIndex = -1;document.getElementById(\\'themecast\\').focus();return false;\"><span>二쇱젣蹂꾩틦�뒪�듃 諛붾줈媛�湲�</span></a>\\n\\t\\t<a href=\"#time_square\" onclick=\"document.getElementById(\\'time_square\\').tabIndex = -1;document.getElementById(\\'time_square\\').focus();return false;\"><span>����엫�뒪��섏뼱 諛붾줈媛�湲�</span></a>\\n\\t\\t<a href=\"#shop_cast\" onclick=\"document.getElementById(\\'shop_cast\\').tabIndex = -1;document.getElementById(\\'shop_cast\\').focus();return false;\"><span>�눥�븨罹먯뒪�듃 諛붾줈媛�湲�</span></a>\\n\\t\\t<a href=\"#account\" onclick=\"document.getElementById(\\'account\\').tabIndex = -1;document.getElementById(\\'account\\').focus();return false;\"><span>濡쒓렇�씤 諛붾줈媛�湲�</span></a>\\n\\t</div>\\n\\t<!-- //�뒪�궢 �궡鍮꾧쾶�씠�뀡 -->\\n\\t<div id=\"PM_ID_ct\" class=\"wrap\" >\\n\\t\\t<!-- �뿤�뜑 -->\\n<div class=\"header\" role=\"banner\">\\n\\t\\n<div class=\"special_bg\">\\n<div class=\"area_flex\">\\n<div class=\"area_logo\">\\n\\n<h1>\\n<a data-clk=\"top.logo\" href=\"/\"><span class=\"naver_logo\">�꽕�씠踰�</span></a>\\n</h1>\\n\\n</div>\\n<div class=\"area_links\">\\n<a data-clk=\"top.mkhome\" href=\"http://help.naver.com/support/welcomePage/guide.nhn\" class=\"al_favorite\">�꽕�씠踰꾨�� �떆�옉�럹�씠吏�濡�<span class=\"al_ico_link\"></span></a>\\n<span class=\"al_bar\"></span>\\n<a data-clk=\"top.jrnaver\" href=\"http://jr.naver.com\" class=\"al_jr\"><span class=\"blind\">伊щ땲�뼱�꽕�씠踰�</span><span class=\"al_ico\"></span></a>\\n<a data-clk=\"top.happybean\" href=\"http://happybean.naver.com/main/SectionMain.nhn\" class=\"al_happybean\"><span class=\"blind\">�빐�뵾鍮�</span><span class=\"al_ico\"></span></a>\\n</div>\\n<div id=\"search\" class=\"search\">\\n<!--�옄�룞�셿�꽦 �엯�젰李�-->\\n\\n<form id=\"sform\" name=\"sform\" action=\"https://search.naver.com/search.naver\" method=\"get\">\\n\\n\\t<fieldset>\\n   \\t\\t<legend class=\"blind\">寃��깋</legend>\\n        <select id=\"where\" name=\"where\" title=\"寃��깋 踰붿쐞 �꽑�깮\" class=\"blind\">\\n            <option valu'"
      ]
     },
     "execution_count": 6,
     "metadata": {},
     "output_type": "execute_result"
    }
   ],
   "source": [
    "res.text[1000:4000]"
   ]
  },
  {
   "cell_type": "code",
   "execution_count": 7,
   "metadata": {
    "collapsed": true
   },
   "outputs": [],
   "source": [
    "url = 'http://news.naver.com/main/search/search.nhn?query=%B5%F6%B7%AF%B4%D7&ie=MS949'"
   ]
  },
  {
   "cell_type": "code",
   "execution_count": 8,
   "metadata": {
    "collapsed": true
   },
   "outputs": [],
   "source": [
    "res = requests.get(url)"
   ]
  },
  {
   "cell_type": "code",
   "execution_count": 9,
   "metadata": {
    "collapsed": false
   },
   "outputs": [
    {
     "data": {
      "text/plain": [
       "'EUC-KR'"
      ]
     },
     "execution_count": 9,
     "metadata": {},
     "output_type": "execute_result"
    }
   ],
   "source": [
    "res.encoding"
   ]
  },
  {
   "cell_type": "code",
   "execution_count": 10,
   "metadata": {
    "collapsed": true
   },
   "outputs": [],
   "source": [
    "root = lxml.html.fromstring(res.text)"
   ]
  },
  {
   "cell_type": "code",
   "execution_count": 11,
   "metadata": {
    "collapsed": false,
    "scrolled": true
   },
   "outputs": [
    {
     "name": "stdout",
     "output_type": "stream",
     "text": [
      "딥러닝 탑재 '삼성 자율주행차' 도로 달린다\n",
      "AI는 `딥러닝` 통해 스스로 진화…공장 자동화와는 달라\n",
      "자율주행차 시험 나선 삼성전자, \"목적은 車 아닌 부품\"\n",
      "창작자를 위한 인공지능 공부법\n",
      "[체인지코리아]⑤4차 산업혁명 중심 AI…숨어있는 AI 스타트업 발굴해야\n",
      "엑셀에서 딥러닝까지…게임기획자, 데이터에 빠지다\n",
      "딥러닝 마친 AI 의사, 환자 진단부터 치료법도 제시\n",
      "‘AI 딥러닝 기술로 안구 질환 진단’\n",
      "AI 딥러닝으로 게임 캐릭터 만들기\n",
      "28일 동서대 인공지능과 딥러닝 세미나…사례 등 소개\n"
     ]
    }
   ],
   "source": [
    "for link in root.cssselect('a.tit'):\n",
    "    print(link.text_content())"
   ]
  },
  {
   "cell_type": "markdown",
   "metadata": {},
   "source": [
    "## Encoding 이란?\n",
    " - 글자를 숫자로 어떻게 나타내느냐?"
   ]
  },
  {
   "cell_type": "code",
   "execution_count": 12,
   "metadata": {
    "collapsed": false
   },
   "outputs": [
    {
     "data": {
      "text/plain": [
       "'딥러닝'"
      ]
     },
     "execution_count": 12,
     "metadata": {},
     "output_type": "execute_result"
    }
   ],
   "source": [
    "'딥러닝'"
   ]
  },
  {
   "cell_type": "code",
   "execution_count": 13,
   "metadata": {
    "collapsed": false
   },
   "outputs": [
    {
     "data": {
      "text/plain": [
       "'딥러닝'"
      ]
     },
     "execution_count": 13,
     "metadata": {},
     "output_type": "execute_result"
    }
   ],
   "source": [
    "'\\uB525\\uB7EC\\uB2DD'"
   ]
  },
  {
   "cell_type": "code",
   "execution_count": 14,
   "metadata": {
    "collapsed": false
   },
   "outputs": [
    {
     "data": {
      "text/plain": [
       "b'\\xeb\\x94\\xa5\\xeb\\x9f\\xac\\xeb\\x8b\\x9d'"
      ]
     },
     "execution_count": 14,
     "metadata": {},
     "output_type": "execute_result"
    }
   ],
   "source": [
    "'딥러닝'.encode('utf8') "
   ]
  },
  {
   "cell_type": "code",
   "execution_count": 15,
   "metadata": {
    "collapsed": false,
    "scrolled": true
   },
   "outputs": [
    {
     "data": {
      "text/plain": [
       "b'\\xb5\\xf6\\xb7\\xaf\\xb4\\xd7'"
      ]
     },
     "execution_count": 15,
     "metadata": {},
     "output_type": "execute_result"
    }
   ],
   "source": [
    "'딥러닝'.encode('cp949')"
   ]
  },
  {
   "cell_type": "code",
   "execution_count": 16,
   "metadata": {
    "collapsed": false
   },
   "outputs": [
    {
     "data": {
      "text/plain": [
       "b'\\xb5\\xf6\\xb7\\xaf\\xb4\\xd7'"
      ]
     },
     "execution_count": 16,
     "metadata": {},
     "output_type": "execute_result"
    }
   ],
   "source": [
    "'딥러닝'.encode('euc-kr')"
   ]
  },
  {
   "cell_type": "markdown",
   "metadata": {},
   "source": [
    "## '%B5%F6%B7%AF%B4%D7'은 무엇인가?"
   ]
  },
  {
   "cell_type": "code",
   "execution_count": 17,
   "metadata": {
    "collapsed": true
   },
   "outputs": [],
   "source": [
    "from urllib.parse import quote_plus"
   ]
  },
  {
   "cell_type": "markdown",
   "metadata": {},
   "source": [
    " - %형태로 변환해준다. "
   ]
  },
  {
   "cell_type": "code",
   "execution_count": 18,
   "metadata": {
    "collapsed": false
   },
   "outputs": [
    {
     "data": {
      "text/plain": [
       "'%B5%F6%B7%AF%B4%D7'"
      ]
     },
     "execution_count": 18,
     "metadata": {},
     "output_type": "execute_result"
    }
   ],
   "source": [
    "quote_plus('딥러닝'.encode('euc-kr'))"
   ]
  },
  {
   "cell_type": "code",
   "execution_count": 19,
   "metadata": {
    "collapsed": false
   },
   "outputs": [
    {
     "data": {
      "text/plain": [
       "'%EB%94%A5%EB%9F%AC%EB%8B%9D'"
      ]
     },
     "execution_count": 19,
     "metadata": {},
     "output_type": "execute_result"
    }
   ],
   "source": [
    "quote_plus('딥러닝'.encode('utf-8'))"
   ]
  },
  {
   "cell_type": "markdown",
   "metadata": {},
   "source": [
    "## 네이버 뉴스 자동 수집"
   ]
  },
  {
   "cell_type": "code",
   "execution_count": 20,
   "metadata": {
    "collapsed": true
   },
   "outputs": [],
   "source": [
    "query = '딥러닝'"
   ]
  },
  {
   "cell_type": "code",
   "execution_count": 21,
   "metadata": {
    "collapsed": false
   },
   "outputs": [
    {
     "data": {
      "text/plain": [
       "'%B5%F6%B7%AF%B4%D7'"
      ]
     },
     "execution_count": 21,
     "metadata": {},
     "output_type": "execute_result"
    }
   ],
   "source": [
    "query_percent = quote_plus(query.encode('cp949'))\n",
    "query_percent"
   ]
  },
  {
   "cell_type": "code",
   "execution_count": 22,
   "metadata": {
    "collapsed": true
   },
   "outputs": [],
   "source": [
    "url = ('http://news.naver.com/main/search/search.nhn?refresh=&so=rel.dsc&stPhoto=&stPaper='\n",
    "       '&stRelease=&ie=MS949&detail=0&rcsection=&sm=all.basic&pd=4&'\n",
    "       'query={query}&startDate={start}&endDate={end}&page={page}')"
   ]
  },
  {
   "cell_type": "code",
   "execution_count": 23,
   "metadata": {
    "collapsed": false
   },
   "outputs": [
    {
     "data": {
      "text/plain": [
       "'http://news.naver.com/main/search/search.nhn?refresh=&so=rel.dsc&stPhoto=&stPaper=&stRelease=&ie=MS949&detail=0&rcsection=&sm=all.basic&pd=4&query=%B5%F6%B7%AF%B4%D7&startDate=2017-04-05&endDate=2017-04-06&page=1'"
      ]
     },
     "execution_count": 23,
     "metadata": {},
     "output_type": "execute_result"
    }
   ],
   "source": [
    "url.format(query=query_percent, start='2017-04-05', end='2017-04-06', page=1)"
   ]
  },
  {
   "cell_type": "code",
   "execution_count": 27,
   "metadata": {
    "collapsed": false
   },
   "outputs": [],
   "source": [
    "articles = []\n",
    "for page in range(1, 3):\n",
    "    page_url = url.format(query=query_percent, start='2017-04-05', end='2017-04-06', page=page)\n",
    "    res = requests.get(page_url)\n",
    "    root = lxml.html.fromstring(res.text)\n",
    "    titles = root.cssselect('a.go_naver')\n",
    "    for title in titles:\n",
    "        article_url = title.attrib['href']\n",
    "        art_res = requests.get(article_url)\n",
    "        art_root = lxml.html.fromstring(art_res.text)\n",
    "        body = art_root.cssselect('#articleBodyContents')[0]\n",
    "        articles.append(body.text_content())"
   ]
  },
  {
   "cell_type": "code",
   "execution_count": 28,
   "metadata": {
    "collapsed": false
   },
   "outputs": [
    {
     "data": {
      "text/plain": [
       "16"
      ]
     },
     "execution_count": 28,
     "metadata": {},
     "output_type": "execute_result"
    }
   ],
   "source": [
    "len(articles)"
   ]
  },
  {
   "cell_type": "code",
   "execution_count": 29,
   "metadata": {
    "collapsed": false
   },
   "outputs": [
    {
     "data": {
      "text/plain": [
       "'\\n\\t\\n\\t\\n\\n\\n\\n// flash 오류를 우회하기 위한 함수 추가\\nfunction _flash_removeCallback() {}\\n\\n\\t\\n\\t[아시아경제 강희종 기자]4차 산업 혁명 시대를 맞아 이동통신사들도 변신을 시도하고 있다. 과거 문자와 음성만을 제공하던 이동통신사들이 인공지능(AI)으로 대표되는 4차 산업혁명 시대에 살아남고, 더 나아가 승자가 되기 위해 가장 필요한 것은 무엇일까?이강원 SK텔레콤 NIC기술원장은 6일 아시아경제가 주최한 \\'2017 아시아미래기업포럼에서 \"4차 산업혁명 시대에는 디지털 트랜스포메이션의 승자가 ICT(정보통신기술) 세상의 패권을 차지할 수 것\"이라며 \"디지털 트랜스포메이션을 위해서는 딥러닝 기술이 AI, 사물인터넷(IoT), 빅데이터 등 다양한 분야에서 핵심 경쟁력으로 부각되고 있다\"고 강조했다.3세대(3G) 이동통신 시대까지만 해도 이동통신사들은 언제 어디서나 음성통화와 문자메시지를 제공하는 것이 핵심 경쟁력이었다. 4G 이동통신과 스마트폰 시대로 넘어오면서부터는 빠른 데이터 속도를 제공이 경쟁력을 좌우했다.하지만 4차 산업혁명 시대에 이동통신사들은 단순히 음성, 문자, 데이터만 제공해서는 살아남을 수 없다. SK텔레콤이 지난해 말 박정호 사장이 취임하면서 \\'디지털 트랜스포메이션\\'을 강조하고 있는 이유다.SK텔레콤의 디지털트랜스포메이션 전략은 AI, 자율 주행, 가상/증강현실을 가능케 하는 5G 통신망과 소프트웨어(SW) 정의 기술을 기반으로 한 올IT(All-IT) 네트워크를 특징으로 한다.이강원 원장은 \"시장에서의 승자들은 디지털 트랜스포메이션으로의 전환을 추진하고 있으며 이러한 과정에서 AI(딥러닝)의 중요성은 더욱 커질 것\"이라고 전망하면서 \"통신 사업자 관점에서는 커넥티비티(연결성) 및 클라우드 인프라를 기반으로 AI, IoT, 빅데이터 분야에서 디지털 트랜스포메이션을 추진하고 있다\"고 소개했다.AI와 관련, SK텔레콤은 딥러닝 기반의 AI 플랫폼을 통해 다양한 스마트 서비스를 제공하고 있다. SK텔레콤이 지난해 선보인 AI 기반 음성인식 스피커인 누구(NUGU)가 대표적이다. 누구에서는 음성 알람, 원거리 음성인식, 멜론/음악/라디오 연동, 스마트홈, 날씨 검색 등의 서비스를 제공한다.SK텔레콤은 지난해 BMW, 에릭슨과 협력해 5G 네트워크 기반의 커넥티드카인 \\'T5\\'를 시연하는 등 자율주행 분야에도 관심을 기울이고 있다.이강원 원장은 \"디지털트랜스포메이션을 실현하기 위해 SK텔레콤은 \\'올 플래시 스토리지\\', 새로운 무선 기술, 소프트웨어 정의에 의한 올 IT네트워크로 진화가 필요하다\"고 설명했다.4차 산업혁명 시대를 맞아 SK텔레콤은 단순히 데이터를 전송하는 네트워크만 제공하는데서 그치지 않고 데이터를 저장, 분석하는 IT 분야로 영역을 확대하고 있다. 그 일환으로 SK텔레콤은 SK하이닉스와 함께 솔리드스테이트드라이브(SSD) 기반의 올 플래시 스토리지 서비스를 구축했다. SSD는 하드디스크드라이브(HDD)에 비해 읽고 쓰는 속도가 빠르다. 이강원 원장은 \"4차 산업혁명 시대에는 데이터 저장, 처리와 관련 초대용량, 초저지연, 초연결성을 요구한다\"며 \"이를 만족하기 위해 올 플래시 스토리지를 제공한다\"고 설명했다.SK텔레콤이 구축하고 있는 5G는 4G 대비 데이터 전송 속도, 응답속도, 연결성에서 차별적인 사용자 경험을 제공한다는 점에서 4차 산업 혁명의 인프라로 적합할 것으로 평가된다. 5G는 기존 4G 대비 100~1000배 빠른 데이터 전송 속도를 제공하며 응답속도는 10배가 빠르다. 또 10~100배 많은 기기에 연결할 수 있다. SK텔레콤은 5G 네트워크를 통해 10Gbps의 데이터 전송 속도를 제공한다는 계획이다.이와 함께 SK텔레콤은 로라(LoRa)와 LTE-M 의 하이브리드 네트워크를 통해 국내 IoT 생태계를 활성화한다는 계획이다. SK텔레콤은 IoT 서비스 플랫폼인 \\'씽 플러그\\'를 통해 자동검침, 자전거트래킹, 카셰어링, 어린이 안전 등의 서비스를 제공할 계획이다.SK텔레콤은 소프트웨어 기술 혁신을 적용한 올 IT 네트워크를 구축하고 있다.이강원 원장은 \"SK텔레콤의 올 IT 네트워크는 오픈 소스 기반의 소프트웨어 정의 기술로 구축된다\"며 \"AI, 자율주행 등 미션 크리티컬 서비스(중단되면 치명적인 손실을 야기하는 서비스)에 최적화돼 있다\"고 강조했다.강희종 기자 mindle@asiae.co.kr▶ 세상의 모든 재미 [티잼]▶ 카드뉴스 ▶ 오늘의 운세\\n\\t\\n\\t'"
      ]
     },
     "execution_count": 29,
     "metadata": {},
     "output_type": "execute_result"
    }
   ],
   "source": [
    "articles[0]"
   ]
  },
  {
   "cell_type": "code",
   "execution_count": 30,
   "metadata": {
    "collapsed": false
   },
   "outputs": [
    {
     "data": {
      "text/plain": [
       "'\\n\\t\\n\\t\\n\\n\\n\\n// \\n\\n\\t\\n\\t[아시아경제 강희종 기자]4차 산업 혁명 시대를 맞아 이동통신사들도 변신을 시도하고 있다. 과거 문자와 음성만을 제공하던 이동통신사들이 인공지능(AI)으로 대표되는 4차 산업혁명 시대에 살아남고, 더 나아가 승자가 되기 위해 가장 필요한 것은 무엇일까?이강원 SK텔레콤 NIC기술원장은 6일 아시아경제가 주최한 \\'2017 아시아미래기업포럼에서 \"4차 산업혁명 시대에는 디지털 트랜스포메이션의 승자가 ICT(정보통신기술) 세상의 패권을 차지할 수 것\"이라며 \"디지털 트랜스포메이션을 위해서는 딥러닝 기술이 AI, 사물인터넷(IoT), 빅데이터 등 다양한 분야에서 핵심 경쟁력으로 부각되고 있다\"고 강조했다.3세대(3G) 이동통신 시대까지만 해도 이동통신사들은 언제 어디서나 음성통화와 문자메시지를 제공하는 것이 핵심 경쟁력이었다. 4G 이동통신과 스마트폰 시대로 넘어오면서부터는 빠른 데이터 속도를 제공이 경쟁력을 좌우했다.하지만 4차 산업혁명 시대에 이동통신사들은 단순히 음성, 문자, 데이터만 제공해서는 살아남을 수 없다. SK텔레콤이 지난해 말 박정호 사장이 취임하면서 \\'디지털 트랜스포메이션\\'을 강조하고 있는 이유다.SK텔레콤의 디지털트랜스포메이션 전략은 AI, 자율 주행, 가상/증강현실을 가능케 하는 5G 통신망과 소프트웨어(SW) 정의 기술을 기반으로 한 올IT(All-IT) 네트워크를 특징으로 한다.이강원 원장은 \"시장에서의 승자들은 디지털 트랜스포메이션으로의 전환을 추진하고 있으며 이러한 과정에서 AI(딥러닝)의 중요성은 더욱 커질 것\"이라고 전망하면서 \"통신 사업자 관점에서는 커넥티비티(연결성) 및 클라우드 인프라를 기반으로 AI, IoT, 빅데이터 분야에서 디지털 트랜스포메이션을 추진하고 있다\"고 소개했다.AI와 관련, SK텔레콤은 딥러닝 기반의 AI 플랫폼을 통해 다양한 스마트 서비스를 제공하고 있다. SK텔레콤이 지난해 선보인 AI 기반 음성인식 스피커인 누구(NUGU)가 대표적이다. 누구에서는 음성 알람, 원거리 음성인식, 멜론/음악/라디오 연동, 스마트홈, 날씨 검색 등의 서비스를 제공한다.SK텔레콤은 지난해 BMW, 에릭슨과 협력해 5G 네트워크 기반의 커넥티드카인 \\'T5\\'를 시연하는 등 자율주행 분야에도 관심을 기울이고 있다.이강원 원장은 \"디지털트랜스포메이션을 실현하기 위해 SK텔레콤은 \\'올 플래시 스토리지\\', 새로운 무선 기술, 소프트웨어 정의에 의한 올 IT네트워크로 진화가 필요하다\"고 설명했다.4차 산업혁명 시대를 맞아 SK텔레콤은 단순히 데이터를 전송하는 네트워크만 제공하는데서 그치지 않고 데이터를 저장, 분석하는 IT 분야로 영역을 확대하고 있다. 그 일환으로 SK텔레콤은 SK하이닉스와 함께 솔리드스테이트드라이브(SSD) 기반의 올 플래시 스토리지 서비스를 구축했다. SSD는 하드디스크드라이브(HDD)에 비해 읽고 쓰는 속도가 빠르다. 이강원 원장은 \"4차 산업혁명 시대에는 데이터 저장, 처리와 관련 초대용량, 초저지연, 초연결성을 요구한다\"며 \"이를 만족하기 위해 올 플래시 스토리지를 제공한다\"고 설명했다.SK텔레콤이 구축하고 있는 5G는 4G 대비 데이터 전송 속도, 응답속도, 연결성에서 차별적인 사용자 경험을 제공한다는 점에서 4차 산업 혁명의 인프라로 적합할 것으로 평가된다. 5G는 기존 4G 대비 100~1000배 빠른 데이터 전송 속도를 제공하며 응답속도는 10배가 빠르다. 또 10~100배 많은 기기에 연결할 수 있다. SK텔레콤은 5G 네트워크를 통해 10Gbps의 데이터 전송 속도를 제공한다는 계획이다.이와 함께 SK텔레콤은 로라(LoRa)와 LTE-M 의 하이브리드 네트워크를 통해 국내 IoT 생태계를 활성화한다는 계획이다. SK텔레콤은 IoT 서비스 플랫폼인 \\'씽 플러그\\'를 통해 자동검침, 자전거트래킹, 카셰어링, 어린이 안전 등의 서비스를 제공할 계획이다.SK텔레콤은 소프트웨어 기술 혁신을 적용한 올 IT 네트워크를 구축하고 있다.이강원 원장은 \"SK텔레콤의 올 IT 네트워크는 오픈 소스 기반의 소프트웨어 정의 기술로 구축된다\"며 \"AI, 자율주행 등 미션 크리티컬 서비스(중단되면 치명적인 손실을 야기하는 서비스)에 최적화돼 있다\"고 강조했다.강희종 기자 mindle@asiae.co.kr▶ 세상의 모든 재미 [티잼]▶ 카드뉴스 ▶ 오늘의 운세\\n\\t\\n\\t'"
      ]
     },
     "execution_count": 30,
     "metadata": {},
     "output_type": "execute_result"
    }
   ],
   "source": [
    "articles[0].replace('flash 오류를 우회하기 위한 함수 추가\\nfunction _flash_removeCallback() {}', '')"
   ]
  }
 ],
 "metadata": {
  "anaconda-cloud": {},
  "kernelspec": {
   "display_name": "Python [work]",
   "language": "python",
   "name": "Python [work]"
  },
  "language_info": {
   "codemirror_mode": {
    "name": "ipython",
    "version": 3
   },
   "file_extension": ".py",
   "mimetype": "text/x-python",
   "name": "python",
   "nbconvert_exporter": "python",
   "pygments_lexer": "ipython3",
   "version": "3.5.2"
  }
 },
 "nbformat": 4,
 "nbformat_minor": 0
}
