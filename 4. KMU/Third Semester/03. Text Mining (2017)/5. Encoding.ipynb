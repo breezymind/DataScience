{
 "cells": [
  {
   "cell_type": "markdown",
   "metadata": {},
   "source": [
    "# Encoding "
   ]
  },
  {
   "cell_type": "code",
   "execution_count": 1,
   "metadata": {
    "collapsed": true
   },
   "outputs": [],
   "source": [
    "import requests\n",
    "import lxml.html "
   ]
  },
  {
   "cell_type": "markdown",
   "metadata": {},
   "source": [
    "### 꼭 알아둬야할 인코딩 \n",
    " - ASCII\n",
    " - EUC-KR\n",
    " - CP949\n",
    " - UTF8"
   ]
  },
  {
   "cell_type": "markdown",
   "metadata": {},
   "source": [
    "### 16진수\n",
    " - Hexadecimal (흔히 hex)\n",
    " - 0~F까지 16개의 수로 한 자리를 나타냄\n",
    "\n",
    "|A|B|C|D|E|F|\n",
    "|--|--|--|--|--|--|\n",
    "|10|11|12|13|14|15|\n",
    "\n",
    "- 프로그래밍에서는 0x를 앞에 붙여 표시 \n",
    "- 2진수 4자리  = 16진수 1자리 \n",
    "\n",
    "### Bit 와 Byte\n",
    " - Bit : 2진수 1자리(0 or 1)\n",
    " - Byte = 8bit"
   ]
  },
  {
   "cell_type": "markdown",
   "metadata": {},
   "source": [
    "### ASCII\n",
    " - American Standard Code for Information Interchange\n",
    "  - 미국 정보 교환 표준 부호\n",
    "\n",
    " - 7bit 코드: 0x00 ~ 0x7F까지 128개\n",
    "  - 000 0000(2) ~ 111 1111(2)\n",
    "  - 알파벳, 문장부호 등을 포함\n",
    "\n",
    " - 첫 1bit는 parity bit (1의 개수가 홀수면 1)\n",
    "  - 에러 검출 목적\n"
   ]
  },
  {
   "cell_type": "markdown",
   "metadata": {},
   "source": [
    "### ISO 8859\n",
    " - 8bit: 0x00 ~ 0xFF까지 256개\n",
    "  - ASCII에서 쓸 수 없는 문자들까지 포함 \n",
    "  - 언어권에 따라 여러 가지 변형\n",
    "  - 서유럽용 ISO 8859-1을 가장 많이 씀(Latin-1)\n",
    "\n",
    " - 공백이 2종류\n",
    "  - 0x20 Space\n",
    "  - 0xA0 NBSP\n"
   ]
  },
  {
   "cell_type": "markdown",
   "metadata": {},
   "source": [
    "### 한글 인코딩\n",
    " - 현대 한글: 11,172글자\n",
    "  - 초성(19개) X 중성(21) X 종성(28)\n",
    "  - 14bit (0~16,384) 필요\n",
    "  - 한자도 있음\n",
    "\n",
    " - 조합형:\n",
    "  - 16bit 한글\n",
    "  - 한글표시 1bit + 초성 5bit + 중성 5 bit + 종성 5bit\n",
    "  - 장점: 모든 현대 한글을 표현\n",
    "  - 단점: 처리가 복잡"
   ]
  },
  {
   "cell_type": "markdown",
   "metadata": {},
   "source": [
    "### 완성형 EUC-KR\n",
    " - EUC-KR\n",
    "  - KS X 1001\n",
    "  - 행망용, KS C 5601\n",
    "\n",
    " - ISO 8859에서 A1~FE 까지 94 글자 범위 이용\n",
    "  - 영어는 1 byte, 한글은 2 byte로 표현\n",
    "  - 94 x 94 = 8,836 글자 표현 가능\n",
    "\n",
    " - 현대 한글 2,350자만 사용(쓩, 쌰 등 제외)\n",
    "  - 0x5C Backslash를 원화 표시로 대체"
   ]
  },
  {
   "cell_type": "markdown",
   "metadata": {},
   "source": [
    "### 확장완성형 CP949\n",
    "- 현대 한글 11,172자 모두 표현\n",
    " - MS에서 개발, 윈도 95부터 기본 인코딩\n",
    " - ASCII(0x00-0x7F)와 완성형(0xA1-0xFE) 사이의 남는 영역 사용\n",
    "\n",
    "- 비표준: CP 949, MS 949\n",
    " - EUC-KR로 잘못 표기되는 경우가 흔함\n",
    "\n",
    "- 국내에서 널리 사용\n",
    "\n",
    "![encoding](4.PNG)"
   ]
  },
  {
   "cell_type": "markdown",
   "metadata": {},
   "source": [
    "### 유니코드 "
   ]
  },
  {
   "cell_type": "markdown",
   "metadata": {},
   "source": [
    " - UNICODE\n",
    "  - 모든 문자를 포함하는 국제표준\n",
    "  - 21bit 2,097,152 글자\n",
    " - U+를 앞에 붙임 U+00A0 == 0x00A0\n",
    " - 기존 표준과 호환\n",
    "\n",
    " - U+AC00 ~ U+D7AF에 한글 11,172글자 할당\n",
    "\n",
    " - 대부분 OS, 프로그래밍 언어 내부에 사용"
   ]
  },
  {
   "cell_type": "markdown",
   "metadata": {},
   "source": [
    "### UTF-8 "
   ]
  },
  {
   "cell_type": "markdown",
   "metadata": {},
   "source": [
    " - 유니코드 인코딩 방식 중 하나\n",
    "\n",
    " - 1~4 byte: 영어는 1 byte, 한글은 3 byte\n",
    "\n",
    " - ASCII와 호환\n",
    "  - m: U+006D -> 0x6D\n",
    "  - 쓩: U+C4E9 -> 0xEC 0x93 0xA9\n",
    "\n",
    " - 대부분 웹 사이트에서 사용 (국내는 아님)\n",
    " \n",
    "![encoding](5.PNG)"
   ]
  },
  {
   "cell_type": "markdown",
   "metadata": {},
   "source": [
    "## 네이버에서 '딥러닝'으로 뉴스 검색"
   ]
  },
  {
   "cell_type": "code",
   "execution_count": 2,
   "metadata": {
    "collapsed": false
   },
   "outputs": [
    {
     "data": {
      "text/plain": [
       "'UTF-8'"
      ]
     },
     "execution_count": 2,
     "metadata": {},
     "output_type": "execute_result"
    }
   ],
   "source": [
    "res = requests.get(\"http://naver.com\")\n",
    "res.encoding"
   ]
  },
  {
   "cell_type": "code",
   "execution_count": 5,
   "metadata": {
    "collapsed": false
   },
   "outputs": [
    {
     "data": {
      "text/plain": [
       "'ink rel=\"shortcut icon\" type=\"image/x-icon\" href=\"/favicon.ico\" />\\n\\n<link rel=\"stylesheet\" type=\"text/css\" href=\"https://s.pstatic.net/pm2/css/main_v170406.css\"/>\\n<link rel=\"stylesheet\" type=\"text/css\" href=\"https://s.pstatic.net/pm2/css/newslogo_v170405.css\"/>\\n<link rel=\"stylesheet\" type=\"text/css\" href=\"https://ssl.pstatic.net/sstatic/search/pc/css/api_atcmp_170323.css\"/>\\n<script type=\"text/javascript\" src=\"https://s.pstatic.net/pm2/js/lib/nlog/lcslog.js\"></script>\\n<script type=\"text/javascript\">\\nvar nsc = \"navertop.v3\";\\ndocument.domain = \"naver.com\";\\nvar jindoAll = \"https://s.pstatic.net/pm2/js/c/jindo_170307a.js\";\\nif (!!!window.console) {window.console={};window.console[\"log\"]=function(){}}\\nvar isLogin = false; \\nfunction refreshLcs(etc) {if(document.cookie.indexOf(\"nrefreshx=1\") != -1) {etc=etc?etc:{};etc[\"mrf\"]=\"1\";return etc;}return null;}\\nlcs_do(refreshLcs());\\n</script>\\n<title>NAVER</title>\\n</head>\\n\\n\\n\\n\\n\\n\\n\\n<body class=\\'\\'>\\n\\t<!-- 스킵 내비게이션 -->\\n\\t<div class=\"u_skip\">\\n\\t\\t<a href=\"#news_cast\" onclick=\"document.getElementById(\\'news_cast2\\').tabIndex = -1;document.getElementById(\\'news_cast2\\').focus();return false;\"><span>뉴스스탠드 바로가기</span></a>\\n\\t\\t<a href=\"#themecast\" onclick=\"document.getElementById(\\'themecast\\').tabIndex = -1;document.getElementById(\\'themecast\\').focus();return false;\"><span>주제별캐스트 바로가기</span></a>\\n\\t\\t<a href=\"#time_square\" onclick=\"document.getElementById(\\'time_square\\').tabIndex = -1;document.getElementById(\\'time_square\\').focus();return false;\"><span>타임스퀘어 바로가기</span></a>\\n\\t\\t<a href=\"#shop_cast\" onclick=\"document.getElementById(\\'shop_cast\\').tabIndex = -1;document.getElementById(\\'shop_cast\\').focus();return false;\"><span>쇼핑캐스트 바로가기</span></a>\\n\\t\\t<a href=\"#account\" onclick=\"document.getElementById(\\'account\\').tabIndex = -1;document.getElementById(\\'account\\').focus();return false;\"><span>로그인 바로가기</span></a>\\n\\t</div>\\n\\t<!-- //스킵 내비게이션 -->\\n\\t<div id=\"PM_ID_ct\" class=\"wrap\" >\\n\\t\\t<!-- 헤더 -->\\n<div class=\"header\" role=\"banner\">\\n\\t\\n\\n<div class=\"special_bg\" style=\"background:url(https://s.pstatic.net/static/www/mobile/edit/2017/0407/mobile_155926997702.gif) no-repeat 50% 50%;\">\\n\\n<div class=\"area_flex\">\\n<div class=\"area_logo\">\\n\\n<h1 class=\"special\">\\n<img src=\"https://s.pstatic.net/static/www/mobile/edit/2017/0324/mobile_184353754426.gif\" width=\"1400\" height=\"170\" usemap=\"#logo_sw\" alt=\"활짝 핀 봄꽃 보기 좋은 곳\">\\n<map id=\"logo_sw\" name=\"logo_sw\">\\n<area data-clk=\"top.spe\" shape=\"rect\" coords=\"0,0,530,170\" alt=\"활짝 핀 봄꽃 보기 좋은 곳\" title=\"활짝 핀 봄꽃 보기 좋은 곳\" href=\"https://search.naver.com/search.naver?where=nexearch&sm=top_brs&fbm=0&ie=utf8&query=%EB%B2%9A%EA%BD%83%EC%B6%95%EC%A0%9C\" >\\n<area data-clk=\"top.spelink\" shape=\"rect\" coords=\"1130,120,1240,160\" alt=\"이규태 작가 소개\" title=\"이규태 작가 소개\" href=\"http://naver_diary.blog.me/220976430665\" >\\n</map>\\n</h1>\\n\\n</div>\\n<div class=\"area_links\">\\n<a data-clk=\"top.mkhome\" href=\"http://help.naver.com/support/welcomePage/guide.nhn\" class=\"al_favorite\">네이버를 시작페이지로<span class=\"al_ico_link\"></span></a>\\n<span class=\"al_bar\"></span>\\n<a data-clk=\"top.jrna'"
      ]
     },
     "execution_count": 5,
     "metadata": {},
     "output_type": "execute_result"
    }
   ],
   "source": [
    "res.text[1000:4000]"
   ]
  },
  {
   "cell_type": "code",
   "execution_count": 6,
   "metadata": {
    "collapsed": true
   },
   "outputs": [],
   "source": [
    "res.encoding = 'cp949'"
   ]
  },
  {
   "cell_type": "code",
   "execution_count": 8,
   "metadata": {
    "collapsed": false
   },
   "outputs": [
    {
     "data": {
      "text/plain": [
       "'�떎�뼇�븳 �젙蹂댁�� �쑀�슜�븳 而⑦뀗痢좊�� 留뚮굹 蹂댁꽭�슂\"/>\\n\\n<link rel=\"shortcut icon\" type=\"image/x-icon\" href=\"/favicon.ico\" />\\n\\n<link rel=\"stylesheet\" type=\"text/css\" href=\"https://s.pstatic.net/pm2/css/main_v170406.css\"/>\\n<link rel=\"stylesheet\" type=\"text/css\" href=\"https://s.pstatic.net/pm2/css/newslogo_v170405.css\"/>\\n<link rel=\"stylesheet\" type=\"text/css\" href=\"https://ssl.pstatic.net/sstatic/search/pc/css/api_atcmp_170323.css\"/>\\n<script type=\"text/javascript\" src=\"https://s.pstatic.net/pm2/js/lib/nlog/lcslog.js\"></script>\\n<script type=\"text/javascript\">\\nvar nsc = \"navertop.v3\";\\ndocument.domain = \"naver.com\";\\nvar jindoAll = \"https://s.pstatic.net/pm2/js/c/jindo_170307a.js\";\\nif (!!!window.console) {window.console={};window.console[\"log\"]=function(){}}\\nvar isLogin = false; \\nfunction refreshLcs(etc) {if(document.cookie.indexOf(\"nrefreshx=1\") != -1) {etc=etc?etc:{};etc[\"mrf\"]=\"1\";return etc;}return null;}\\nlcs_do(refreshLcs());\\n</script>\\n<title>NAVER</title>\\n</head>\\n\\n\\n\\n\\n\\n\\n\\n<body class=\\'\\'>\\n\\t<!-- �뒪�궢 �궡鍮꾧쾶�씠�뀡 -->\\n\\t<div class=\"u_skip\">\\n\\t\\t<a href=\"#news_cast\" onclick=\"document.getElementById(\\'news_cast2\\').tabIndex = -1;document.getElementById(\\'news_cast2\\').focus();return false;\"><span>�돱�뒪�뒪�깲�뱶 諛붾줈媛�湲�</span></a>\\n\\t\\t<a href=\"#themecast\" onclick=\"document.getElementById(\\'themecast\\').tabIndex = -1;document.getElementById(\\'themecast\\').focus();return false;\"><span>二쇱젣蹂꾩틦�뒪�듃 諛붾줈媛�湲�</span></a>\\n\\t\\t<a href=\"#time_square\" onclick=\"document.getElementById(\\'time_square\\').tabIndex = -1;document.getElementById(\\'time_square\\').focus();return false;\"><span>����엫�뒪��섏뼱 諛붾줈媛�湲�</span></a>\\n\\t\\t<a href=\"#shop_cast\" onclick=\"document.getElementById(\\'shop_cast\\').tabIndex = -1;document.getElementById(\\'shop_cast\\').focus();return false;\"><span>�눥�븨罹먯뒪�듃 諛붾줈媛�湲�</span></a>\\n\\t\\t<a href=\"#account\" onclick=\"document.getElementById(\\'account\\').tabIndex = -1;document.getElementById(\\'account\\').focus();return false;\"><span>濡쒓렇�씤 諛붾줈媛�湲�</span></a>\\n\\t</div>\\n\\t<!-- //�뒪�궢 �궡鍮꾧쾶�씠�뀡 -->\\n\\t<div id=\"PM_ID_ct\" class=\"wrap\" >\\n\\t\\t<!-- �뿤�뜑 -->\\n<div class=\"header\" role=\"banner\">\\n\\t\\n\\n<div class=\"special_bg\" style=\"background:url(https://s.pstatic.net/static/www/mobile/edit/2017/0407/mobile_155926997702.gif) no-repeat 50% 50%;\">\\n\\n<div class=\"area_flex\">\\n<div class=\"area_logo\">\\n\\n<h1 class=\"special\">\\n<img src=\"https://s.pstatic.net/static/www/mobile/edit/2017/0324/mobile_184353754426.gif\" width=\"1400\" height=\"170\" usemap=\"#logo_sw\" alt=\"�솢吏� ��� 遊꾧퐙 蹂닿린 醫뗭�� 怨�\">\\n<map id=\"logo_sw\" name=\"logo_sw\">\\n<area data-clk=\"top.spe\" shape=\"rect\" coords=\"0,0,530,170\" alt=\"�솢吏� ��� 遊꾧퐙 蹂닿린 醫뗭�� 怨�\" title=\"�솢吏� ��� 遊꾧퐙 蹂닿린 醫뗭�� 怨�\" href=\"https://search.naver.com/search.naver?where=nexearch&sm=top_brs&fbm=0&ie=utf8&query=%EB%B2%9A%EA%BD%83%EC%B6%95%EC%A0%9C\" >\\n<area data-clk=\"top.spelink\" shape=\"rect\" coords=\"1130,120,1240,160\" alt=\"�씠洹쒗깭 �옉媛� �냼媛�\" title=\"�씠洹쒗깭 �옉媛� �냼媛�\" href=\"http://naver_diary.blog.me/220976430665\" >\\n</map>\\n</h1>\\n\\n</div>\\n<div class=\"area_links\">\\n<a data-clk=\"top.mkhome\" href=\"http://help.naver.com/support/welcomeP'"
      ]
     },
     "execution_count": 8,
     "metadata": {},
     "output_type": "execute_result"
    }
   ],
   "source": [
    "res.text[1000:4000]"
   ]
  },
  {
   "cell_type": "code",
   "execution_count": 2,
   "metadata": {
    "collapsed": true
   },
   "outputs": [],
   "source": [
    "url = 'http://news.naver.com/main/search/search.nhn?query=%B5%F6%B7%AF%B4%D7&ie=MS949'"
   ]
  },
  {
   "cell_type": "code",
   "execution_count": 3,
   "metadata": {
    "collapsed": true
   },
   "outputs": [],
   "source": [
    "res = requests.get(url)"
   ]
  },
  {
   "cell_type": "code",
   "execution_count": 4,
   "metadata": {
    "collapsed": false
   },
   "outputs": [
    {
     "data": {
      "text/plain": [
       "'EUC-KR'"
      ]
     },
     "execution_count": 4,
     "metadata": {},
     "output_type": "execute_result"
    }
   ],
   "source": [
    "res.encoding"
   ]
  },
  {
   "cell_type": "code",
   "execution_count": 5,
   "metadata": {
    "collapsed": true
   },
   "outputs": [],
   "source": [
    "root = lxml.html.fromstring(res.text)"
   ]
  },
  {
   "cell_type": "code",
   "execution_count": 6,
   "metadata": {
    "collapsed": false,
    "scrolled": true
   },
   "outputs": [
    {
     "name": "stdout",
     "output_type": "stream",
     "text": [
      "네이버, 검색 적용 AI 공개…핵심은 이미지·자연어·추천\n",
      "[대한민국 名병원]②'수술 잘하는 병원' 명성…빅데이터 등 미래 의료 기술 선점 나선 서울아산병원\n",
      "김광현 리더 “상상 속 AI 현실로…네이버도 진화”\n",
      "만만찮은 개인화 서비스…네이버의 해법은?\n",
      "엔비디아 '파스칼' GPU, IBM 클라우드 AI컴퓨팅 가속화\n",
      "인텔PFN, 딥러닝 오픈소스 프레임워크 개발 '맞손'...인공지능 개발 쉽고 경제적으로\n",
      "인텔, 구글에 맞선 일본 딥러닝 스타트업과 협력\n",
      "[아시아미래기업포럼]이강원 SKT NIC기술원장, \"딥러닝이 핵심 경쟁력\"\n",
      "\"자율주행차 경쟁력 ‘딥러닝 기술’이 가른다\"\n",
      "[더벨]네이버 자율주행차, V2X 배제한 딥러닝만…한계는?\n"
     ]
    }
   ],
   "source": [
    "for link in root.cssselect('a.tit'):\n",
    "    print(link.text_content())"
   ]
  },
  {
   "cell_type": "markdown",
   "metadata": {},
   "source": [
    "## Encoding 이란?\n",
    " - 글자를 숫자로 어떻게 나타내느냐?"
   ]
  },
  {
   "cell_type": "code",
   "execution_count": 7,
   "metadata": {
    "collapsed": false
   },
   "outputs": [
    {
     "data": {
      "text/plain": [
       "'딥러닝'"
      ]
     },
     "execution_count": 7,
     "metadata": {},
     "output_type": "execute_result"
    }
   ],
   "source": [
    "'딥러닝'"
   ]
  },
  {
   "cell_type": "code",
   "execution_count": 8,
   "metadata": {
    "collapsed": false
   },
   "outputs": [
    {
     "data": {
      "text/plain": [
       "'딥러닝'"
      ]
     },
     "execution_count": 8,
     "metadata": {},
     "output_type": "execute_result"
    }
   ],
   "source": [
    "'\\uB525\\uB7EC\\uB2DD'"
   ]
  },
  {
   "cell_type": "code",
   "execution_count": 9,
   "metadata": {
    "collapsed": false
   },
   "outputs": [
    {
     "data": {
      "text/plain": [
       "b'\\xeb\\x94\\xa5\\xeb\\x9f\\xac\\xeb\\x8b\\x9d'"
      ]
     },
     "execution_count": 9,
     "metadata": {},
     "output_type": "execute_result"
    }
   ],
   "source": [
    "'딥러닝'.encode('utf8') "
   ]
  },
  {
   "cell_type": "code",
   "execution_count": 10,
   "metadata": {
    "collapsed": false,
    "scrolled": true
   },
   "outputs": [
    {
     "data": {
      "text/plain": [
       "b'\\xb5\\xf6\\xb7\\xaf\\xb4\\xd7'"
      ]
     },
     "execution_count": 10,
     "metadata": {},
     "output_type": "execute_result"
    }
   ],
   "source": [
    "'딥러닝'.encode('cp949')"
   ]
  },
  {
   "cell_type": "code",
   "execution_count": 11,
   "metadata": {
    "collapsed": false
   },
   "outputs": [
    {
     "data": {
      "text/plain": [
       "b'\\xb5\\xf6\\xb7\\xaf\\xb4\\xd7'"
      ]
     },
     "execution_count": 11,
     "metadata": {},
     "output_type": "execute_result"
    }
   ],
   "source": [
    "'딥러닝'.encode('euc-kr')"
   ]
  },
  {
   "cell_type": "markdown",
   "metadata": {},
   "source": [
    "## '%B5%F6%B7%AF%B4%D7'은 무엇인가?"
   ]
  },
  {
   "cell_type": "code",
   "execution_count": 12,
   "metadata": {
    "collapsed": true
   },
   "outputs": [],
   "source": [
    "from urllib.parse import quote_plus"
   ]
  },
  {
   "cell_type": "markdown",
   "metadata": {},
   "source": [
    " - %형태로 변환해준다. "
   ]
  },
  {
   "cell_type": "code",
   "execution_count": 13,
   "metadata": {
    "collapsed": false
   },
   "outputs": [
    {
     "data": {
      "text/plain": [
       "'%B5%F6%B7%AF%B4%D7'"
      ]
     },
     "execution_count": 13,
     "metadata": {},
     "output_type": "execute_result"
    }
   ],
   "source": [
    "quote_plus('딥러닝'.encode('euc-kr'))"
   ]
  },
  {
   "cell_type": "code",
   "execution_count": 14,
   "metadata": {
    "collapsed": false
   },
   "outputs": [
    {
     "data": {
      "text/plain": [
       "'%EB%94%A5%EB%9F%AC%EB%8B%9D'"
      ]
     },
     "execution_count": 14,
     "metadata": {},
     "output_type": "execute_result"
    }
   ],
   "source": [
    "quote_plus('딥러닝'.encode('utf-8'))"
   ]
  },
  {
   "cell_type": "markdown",
   "metadata": {},
   "source": [
    "## 네이버 뉴스 자동 수집"
   ]
  },
  {
   "cell_type": "code",
   "execution_count": 15,
   "metadata": {
    "collapsed": true
   },
   "outputs": [],
   "source": [
    "query = '딥러닝'"
   ]
  },
  {
   "cell_type": "code",
   "execution_count": 16,
   "metadata": {
    "collapsed": false
   },
   "outputs": [
    {
     "data": {
      "text/plain": [
       "'%B5%F6%B7%AF%B4%D7'"
      ]
     },
     "execution_count": 16,
     "metadata": {},
     "output_type": "execute_result"
    }
   ],
   "source": [
    "query_percent = quote_plus(query.encode('cp949'))\n",
    "query_percent"
   ]
  },
  {
   "cell_type": "code",
   "execution_count": 17,
   "metadata": {
    "collapsed": true
   },
   "outputs": [],
   "source": [
    "url = ('http://news.naver.com/main/search/search.nhn?refresh=&so=rel.dsc&stPhoto=&stPaper='\n",
    "       '&stRelease=&ie=MS949&detail=0&rcsection=&sm=all.basic&pd=4&'\n",
    "       'query={query}&startDate={start}&endDate={end}&page={page}')"
   ]
  },
  {
   "cell_type": "code",
   "execution_count": 18,
   "metadata": {
    "collapsed": false
   },
   "outputs": [
    {
     "data": {
      "text/plain": [
       "'http://news.naver.com/main/search/search.nhn?refresh=&so=rel.dsc&stPhoto=&stPaper=&stRelease=&ie=MS949&detail=0&rcsection=&sm=all.basic&pd=4&query=%B5%F6%B7%AF%B4%D7&startDate=2017-04-05&endDate=2017-04-06&page=1'"
      ]
     },
     "execution_count": 18,
     "metadata": {},
     "output_type": "execute_result"
    }
   ],
   "source": [
    "url.format(query=query_percent, start='2017-04-05', end='2017-04-06', page=1)"
   ]
  },
  {
   "cell_type": "code",
   "execution_count": 19,
   "metadata": {
    "collapsed": true
   },
   "outputs": [],
   "source": [
    "articles = []\n",
    "for page in range(1, 3):\n",
    "    page_url = url.format(query=query_percent, start='2017-04-05', end='2017-04-06', page=page)\n",
    "    res = requests.get(page_url)\n",
    "    root = lxml.html.fromstring(res.text)\n",
    "    titles = root.cssselect('a.go_naver')\n",
    "    for title in titles:\n",
    "        article_url = title.attrib['href']\n",
    "        art_res = requests.get(article_url)\n",
    "        art_root = lxml.html.fromstring(art_res.text)\n",
    "        body = art_root.cssselect('#articleBodyContents')[0]\n",
    "        articles.append(body.text_content())"
   ]
  },
  {
   "cell_type": "code",
   "execution_count": 20,
   "metadata": {
    "collapsed": false
   },
   "outputs": [
    {
     "data": {
      "text/plain": [
       "16"
      ]
     },
     "execution_count": 20,
     "metadata": {},
     "output_type": "execute_result"
    }
   ],
   "source": [
    "len(articles)"
   ]
  },
  {
   "cell_type": "code",
   "execution_count": 21,
   "metadata": {
    "collapsed": false
   },
   "outputs": [
    {
     "data": {
      "text/plain": [
       "'\\n\\t\\n\\t\\n\\n\\n\\n// flash 오류를 우회하기 위한 함수 추가\\nfunction _flash_removeCallback() {}\\n\\n\\t\\n\\t엔비디아, GPU 경쟁력으로 자율주행 시스템 상용화 앞장\\r\\r(지디넷코리아=이은정 기자)\"딥러닝 기술은 여러 분야로 퍼지고 있는데 특히 자율주행에서 가장 중요한 이정표를 만들고 있습니다. 자율주행차는 완성도를 끌어올리지 않으면 실제로 제품화되기는 어렵기 때문에 자율주행 플랫폼 개발인력 비중을 늘리는 등 포션을 확대하고 있습니다.\"\\r\\r엔비디아 오민석 이사는 2017 서울모터쇼에서 진행된 자율주행 자동차 미래 기술 세미나의 ‘Deep Learning을 활용한 NVIDIA 자율주행 플랫폼’을 주제로 한 강연에서 이같이 말했다. 그는 컴퓨터비전 기술로는 구현하기 어려웠던 자율주행 솔루션을 딥러닝에서 찾을 수 있을 것이라고 보고 있다.\\r\\r                      엔비디아 오민석 이사가 \\'자율주행 자동차 미래 기술 세미나\\'에서 강연자로 나섰다.(사진=지디넷코리아)\\r\\r딥 러닝(Deep Learning)은 인간의 뇌 신경망을 본따 데이터에 포함된 다양한 변수를 파악하지 못 하는 머신러닝의 한계를 보완한 방법이다. 머신러닝(기계학습)은 빅데이터를 확률적, 통계적으로 분석해 가장 가치 있는 데이터를 찾아내 분류하는 능력을 학습한 기술이다.\\r\\r이 기술은 2012년 1천개가 넘는 카테고리로 분류된 100만개 이미지에 대해 가장 높은 인식률을 보이는 알고리즘이 선발되는 이미지넷(ImageNet) 대회에서 주목받기 시작했다. 이 대회에서 딥 러닝 기술을 기반으로 이미지 인식률을 10% 이상 높인 알렉스넷(Alexnet)이 등장하면서다.\\r\\r오만석 이사는 자율주행 기술의 발전 역시 딥 러닝 기술을 통해 획기적으로 개선될 것이라고 보고 있다.\\r\\r그는 \"최근에는 딥 러닝을 이용해 이미지를 오인식하는 확률이 3.99%에 불과하다\"며 \"하나의 물체를 인식하는 기술과 컴퓨터가 스스로 판단해 액션을 취할 수 있게 하는 게 자율주행 기술의 핵심으로 작용하는 만큼 딥 러닝은 중요하다\"고 말했다.\\r\\r최근 자율주행 플랫폼 솔루션을 선보이며 주목을 받고 있는 엔비디아는 1993년 설립된 글로벌 1위 그래픽카드(GPU) 제조사로  1만명이 넘는 전체 인력 중 40% 이상이 소프트웨어 개발자다. GPU는 딥 러닝 기술에 있어 빠질 수 없는 요소다.\\r\\r요구되는 연산량이 많아지는 만큼 CPU 성능만으로 구현하기 어려운 컴퓨터 파워를 병렬컴퓨팅에 유리한 GPU가 뒷받침하기 때문이다.\\r\\r                      엔비디아가 제시한 자율주행 솔루션 기술 요소들.(사진=지디넷코리아)\\r\\r엔비디아의 자율주행 관련 최신 솔루션은 지난해  선보인 GPU 기반 차량용 딥러닝 시스템인 드라이브 PX2(Drive PX)를다. 이 시스템은 슈퍼컴퓨터 수준의 성능과 신경망 네트워크 기반의 딥러닝 기술을 갖춰 자율주행 차량이 주위 환경을 관찰하고 분석하는 데 활용될 수 있다. 이 칩에는 12개 코어를 탑재해 8테라플롭스(Teraflops)의 연산처리 성능과 1초에 24조개 딥러닝 명령 수행이 가능하다. \\r\\r엔비디아는 세계 최대 자동차 부품사 보쉬, 완성차 기업 아우디 등 합종연횡으로 협력을 추진해 AI 자율주행 시스템 상용화에 적극 나서고 있다. 올해 중순쯤에는 AI 차량용 수퍼 컴퓨터인 \\'재비어(Xavier)\\'를 새롭게 선보일 예정이다. 재비어는 차량 내 자율주행 기능과 사용자 모니터링 기능을 동시에 제공한다.\\r\\r이어 국내 자율주행차 시장 확대가 원활하게 이뤄지기 위해서는 대기업, 중소기업들의 빠른 기술 개발이 필요할 것이라는 강조했다. 그는 \"해외에서는 2020년 자율주행차 사용화를 목표로 하고 있지만 우리나라의 현 기술 수준으로는 2030년이 될 것으로 보인다\"며 \"자율주행 기술은 하나의 솔루션이 중요하다기 보다는 모든 기술들이 어우러져서 완전성을 추구하는 게 가장 크기 때문에 국내 기업들의 각 요소별 솔루션 개발이 시급하다\"고 전했다.\\r\\r이은정 기자(lejj@zdnet.co.kr)\\r\\n\\t\\n\\t'"
      ]
     },
     "execution_count": 21,
     "metadata": {},
     "output_type": "execute_result"
    }
   ],
   "source": [
    "articles[0]"
   ]
  },
  {
   "cell_type": "code",
   "execution_count": 22,
   "metadata": {
    "collapsed": false
   },
   "outputs": [
    {
     "data": {
      "text/plain": [
       "'\\n\\t\\n\\t\\n\\n\\n\\n// \\n\\n\\t\\n\\t엔비디아, GPU 경쟁력으로 자율주행 시스템 상용화 앞장\\r\\r(지디넷코리아=이은정 기자)\"딥러닝 기술은 여러 분야로 퍼지고 있는데 특히 자율주행에서 가장 중요한 이정표를 만들고 있습니다. 자율주행차는 완성도를 끌어올리지 않으면 실제로 제품화되기는 어렵기 때문에 자율주행 플랫폼 개발인력 비중을 늘리는 등 포션을 확대하고 있습니다.\"\\r\\r엔비디아 오민석 이사는 2017 서울모터쇼에서 진행된 자율주행 자동차 미래 기술 세미나의 ‘Deep Learning을 활용한 NVIDIA 자율주행 플랫폼’을 주제로 한 강연에서 이같이 말했다. 그는 컴퓨터비전 기술로는 구현하기 어려웠던 자율주행 솔루션을 딥러닝에서 찾을 수 있을 것이라고 보고 있다.\\r\\r                      엔비디아 오민석 이사가 \\'자율주행 자동차 미래 기술 세미나\\'에서 강연자로 나섰다.(사진=지디넷코리아)\\r\\r딥 러닝(Deep Learning)은 인간의 뇌 신경망을 본따 데이터에 포함된 다양한 변수를 파악하지 못 하는 머신러닝의 한계를 보완한 방법이다. 머신러닝(기계학습)은 빅데이터를 확률적, 통계적으로 분석해 가장 가치 있는 데이터를 찾아내 분류하는 능력을 학습한 기술이다.\\r\\r이 기술은 2012년 1천개가 넘는 카테고리로 분류된 100만개 이미지에 대해 가장 높은 인식률을 보이는 알고리즘이 선발되는 이미지넷(ImageNet) 대회에서 주목받기 시작했다. 이 대회에서 딥 러닝 기술을 기반으로 이미지 인식률을 10% 이상 높인 알렉스넷(Alexnet)이 등장하면서다.\\r\\r오만석 이사는 자율주행 기술의 발전 역시 딥 러닝 기술을 통해 획기적으로 개선될 것이라고 보고 있다.\\r\\r그는 \"최근에는 딥 러닝을 이용해 이미지를 오인식하는 확률이 3.99%에 불과하다\"며 \"하나의 물체를 인식하는 기술과 컴퓨터가 스스로 판단해 액션을 취할 수 있게 하는 게 자율주행 기술의 핵심으로 작용하는 만큼 딥 러닝은 중요하다\"고 말했다.\\r\\r최근 자율주행 플랫폼 솔루션을 선보이며 주목을 받고 있는 엔비디아는 1993년 설립된 글로벌 1위 그래픽카드(GPU) 제조사로  1만명이 넘는 전체 인력 중 40% 이상이 소프트웨어 개발자다. GPU는 딥 러닝 기술에 있어 빠질 수 없는 요소다.\\r\\r요구되는 연산량이 많아지는 만큼 CPU 성능만으로 구현하기 어려운 컴퓨터 파워를 병렬컴퓨팅에 유리한 GPU가 뒷받침하기 때문이다.\\r\\r                      엔비디아가 제시한 자율주행 솔루션 기술 요소들.(사진=지디넷코리아)\\r\\r엔비디아의 자율주행 관련 최신 솔루션은 지난해  선보인 GPU 기반 차량용 딥러닝 시스템인 드라이브 PX2(Drive PX)를다. 이 시스템은 슈퍼컴퓨터 수준의 성능과 신경망 네트워크 기반의 딥러닝 기술을 갖춰 자율주행 차량이 주위 환경을 관찰하고 분석하는 데 활용될 수 있다. 이 칩에는 12개 코어를 탑재해 8테라플롭스(Teraflops)의 연산처리 성능과 1초에 24조개 딥러닝 명령 수행이 가능하다. \\r\\r엔비디아는 세계 최대 자동차 부품사 보쉬, 완성차 기업 아우디 등 합종연횡으로 협력을 추진해 AI 자율주행 시스템 상용화에 적극 나서고 있다. 올해 중순쯤에는 AI 차량용 수퍼 컴퓨터인 \\'재비어(Xavier)\\'를 새롭게 선보일 예정이다. 재비어는 차량 내 자율주행 기능과 사용자 모니터링 기능을 동시에 제공한다.\\r\\r이어 국내 자율주행차 시장 확대가 원활하게 이뤄지기 위해서는 대기업, 중소기업들의 빠른 기술 개발이 필요할 것이라는 강조했다. 그는 \"해외에서는 2020년 자율주행차 사용화를 목표로 하고 있지만 우리나라의 현 기술 수준으로는 2030년이 될 것으로 보인다\"며 \"자율주행 기술은 하나의 솔루션이 중요하다기 보다는 모든 기술들이 어우러져서 완전성을 추구하는 게 가장 크기 때문에 국내 기업들의 각 요소별 솔루션 개발이 시급하다\"고 전했다.\\r\\r이은정 기자(lejj@zdnet.co.kr)\\r\\n\\t\\n\\t'"
      ]
     },
     "execution_count": 22,
     "metadata": {},
     "output_type": "execute_result"
    }
   ],
   "source": [
    "articles[0].replace('flash 오류를 우회하기 위한 함수 추가\\nfunction _flash_removeCallback() {}', '')"
   ]
  }
 ],
 "metadata": {
  "kernelspec": {
   "display_name": "Python [py35]",
   "language": "python",
   "name": "Python [py35]"
  },
  "language_info": {
   "codemirror_mode": {
    "name": "ipython",
    "version": 3
   },
   "file_extension": ".py",
   "mimetype": "text/x-python",
   "name": "python",
   "nbconvert_exporter": "python",
   "pygments_lexer": "ipython3",
   "version": "3.5.2"
  }
 },
 "nbformat": 4,
 "nbformat_minor": 0
}
