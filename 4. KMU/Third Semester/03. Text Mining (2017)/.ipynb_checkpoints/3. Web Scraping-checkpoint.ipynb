{
 "cells": [
  {
   "cell_type": "markdown",
   "metadata": {},
   "source": [
    "# Web Scraping "
   ]
  },
  {
   "cell_type": "markdown",
   "metadata": {},
   "source": [
    " - requests : HTTP를 위한 패키지 \n",
    " - lxml : HTML처리 \n",
    " - cssselect : HTML처리 "
   ]
  },
  {
   "cell_type": "markdown",
   "metadata": {},
   "source": [
    "### HTTP Method \n",
    " - GET : 서버의 자원(resouce)을 가지고 올때 \n",
    "  - 목록보기\n",
    "  - 글 보기\n",
    "  - 다운로드\n",
    " - POST : 서버에 자원을 추가할 때 \n",
    "  - 글 쓰기 \n",
    "  - 업로드 \n",
    " - 구분이 잘 지켜지지 않음.\n",
    " - PUT, DELETE 등 Method도 있으나 웹브라우저는 지원 X"
   ]
  },
  {
   "cell_type": "markdown",
   "metadata": {},
   "source": [
    "![status](3.PNG)"
   ]
  },
  {
   "cell_type": "markdown",
   "metadata": {},
   "source": [
    " - 405 : POST <-> GET 형식을 바꾸면 된다. "
   ]
  },
  {
   "cell_type": "code",
   "execution_count": 1,
   "metadata": {
    "collapsed": true
   },
   "outputs": [],
   "source": [
    "import requests"
   ]
  },
  {
   "cell_type": "code",
   "execution_count": 2,
   "metadata": {
    "collapsed": true
   },
   "outputs": [],
   "source": [
    "url = 'https://techcrunch.com/2017/03/08/a-new-affordable-naming-startup-for-startups/'"
   ]
  },
  {
   "cell_type": "code",
   "execution_count": 3,
   "metadata": {
    "collapsed": true
   },
   "outputs": [],
   "source": [
    "res = requests.get(url)"
   ]
  },
  {
   "cell_type": "code",
   "execution_count": 4,
   "metadata": {
    "collapsed": false
   },
   "outputs": [
    {
     "data": {
      "text/plain": [
       "<Response [200]>"
      ]
     },
     "execution_count": 4,
     "metadata": {},
     "output_type": "execute_result"
    }
   ],
   "source": [
    "res"
   ]
  },
  {
   "cell_type": "code",
   "execution_count": 5,
   "metadata": {
    "collapsed": false
   },
   "outputs": [
    {
     "data": {
      "text/plain": [
       "'<!DOCTYPE html>\\n<html xmlns=\"http://www.w3.org/1999/xhtml\" xmlns:og=\"http://opengraphprotocol.org/schema/\" xmlns:fb=\"http://www.facebook.com/2008/fbml\" lang=\"en\">\\n<head>\\n\\t<title>A new, affordable nami'"
      ]
     },
     "execution_count": 5,
     "metadata": {},
     "output_type": "execute_result"
    }
   ],
   "source": [
    "res.text[:200]"
   ]
  },
  {
   "cell_type": "markdown",
   "metadata": {},
   "source": [
    "## HTML에서 본문 추출"
   ]
  },
  {
   "cell_type": "code",
   "execution_count": 6,
   "metadata": {
    "collapsed": true
   },
   "outputs": [],
   "source": [
    "import lxml.html"
   ]
  },
  {
   "cell_type": "code",
   "execution_count": 7,
   "metadata": {
    "collapsed": true
   },
   "outputs": [],
   "source": [
    "root = lxml.html.fromstring(res.text)"
   ]
  },
  {
   "cell_type": "code",
   "execution_count": 8,
   "metadata": {
    "collapsed": false
   },
   "outputs": [],
   "source": [
    "entries = root.cssselect('.article-entry')"
   ]
  },
  {
   "cell_type": "code",
   "execution_count": 9,
   "metadata": {
    "collapsed": false
   },
   "outputs": [
    {
     "data": {
      "text/plain": [
       "[<Element div at 0x1f8039b41d8>]"
      ]
     },
     "execution_count": 9,
     "metadata": {},
     "output_type": "execute_result"
    }
   ],
   "source": [
    "entries"
   ]
  },
  {
   "cell_type": "code",
   "execution_count": 10,
   "metadata": {
    "collapsed": false
   },
   "outputs": [
    {
     "data": {
      "text/plain": [
       "1"
      ]
     },
     "execution_count": 10,
     "metadata": {},
     "output_type": "execute_result"
    }
   ],
   "source": [
    "len(entries)"
   ]
  },
  {
   "cell_type": "code",
   "execution_count": 11,
   "metadata": {
    "collapsed": true
   },
   "outputs": [],
   "source": [
    "article = entries[0]\n",
    "content = article.text_content()"
   ]
  },
  {
   "cell_type": "code",
   "execution_count": 12,
   "metadata": {
    "collapsed": false
   },
   "outputs": [
    {
     "data": {
      "text/plain": [
       "'\\n\\n\\n\\nA few years ago, I launched a daily email news'"
      ]
     },
     "execution_count": 12,
     "metadata": {},
     "output_type": "execute_result"
    }
   ],
   "source": [
    "content[:50]"
   ]
  },
  {
   "cell_type": "markdown",
   "metadata": {},
   "source": [
    "## 목록에서 여러 개의 링크 가져오기"
   ]
  },
  {
   "cell_type": "code",
   "execution_count": 13,
   "metadata": {
    "collapsed": true
   },
   "outputs": [],
   "source": [
    "res = requests.get('https://techcrunch.com/startups/')\n",
    "root = lxml.html.fromstring(res.text)"
   ]
  },
  {
   "cell_type": "code",
   "execution_count": 14,
   "metadata": {
    "collapsed": true
   },
   "outputs": [],
   "source": [
    "titles = root.cssselect('h2 a')"
   ]
  },
  {
   "cell_type": "code",
   "execution_count": 15,
   "metadata": {
    "collapsed": false
   },
   "outputs": [
    {
     "data": {
      "text/plain": [
       "[<Element a at 0x1f8029bd688>,\n",
       " <Element a at 0x1f8029bd728>,\n",
       " <Element a at 0x1f8029bd778>,\n",
       " <Element a at 0x1f8029bd7c8>,\n",
       " <Element a at 0x1f8029bd818>,\n",
       " <Element a at 0x1f8029bd868>,\n",
       " <Element a at 0x1f8029bd8b8>,\n",
       " <Element a at 0x1f8039dca48>,\n",
       " <Element a at 0x1f8039dca98>,\n",
       " <Element a at 0x1f8039dcae8>,\n",
       " <Element a at 0x1f8039dcb38>,\n",
       " <Element a at 0x1f8039dcb88>,\n",
       " <Element a at 0x1f8039dcbd8>,\n",
       " <Element a at 0x1f8039dcc28>,\n",
       " <Element a at 0x1f8039dcc78>,\n",
       " <Element a at 0x1f8039dccc8>,\n",
       " <Element a at 0x1f8039dcd18>,\n",
       " <Element a at 0x1f8039dcd68>,\n",
       " <Element a at 0x1f8039dcdb8>,\n",
       " <Element a at 0x1f8039dce08>]"
      ]
     },
     "execution_count": 15,
     "metadata": {},
     "output_type": "execute_result"
    }
   ],
   "source": [
    "titles"
   ]
  },
  {
   "cell_type": "code",
   "execution_count": 16,
   "metadata": {
    "collapsed": false
   },
   "outputs": [
    {
     "name": "stdout",
     "output_type": "stream",
     "text": [
      "- 1 Santa Fe enlists Rubicon Global to curb waste and ramp up recycling\n",
      "- 2 The League adds read receipts, so paid members can confirm when someone is really ghosting them\n",
      "- 3 Arthena uses data science to find the best investments in art\n",
      "- 4 Kangpe is a mobile service connecting Africa to healthcare\n",
      "- 5 Fritz Lanman takes CEO role at ClassPass as founder Payal Kadakia steps in as Chairman\n",
      "- 6 Piwik Pro raises $2 million to truly liberate your analytics\n",
      "- 7 Utilis takes top water innovation prize at Imagine H2O for tech that finds leaks underground\n",
      "- 8 Mobile ad company Appodeal acquires game platform Corona Labs\n",
      "- 9 Rock Pamper Scissors, the hairdresser booking app backed by Seedcamp and 500 Startups, shutters\n",
      "- 10 WeWork’s Adam Neumann is coming to Disrupt\n",
      "- 11 In the future there will be mindclones\n",
      "- 12 Cubspot finds camps and classes for your wee ones\n",
      "- 13 Carbon moves into high-volume manufacturing with SpeedCell system, and bigger 3D printers\n",
      "- 14 Smart diabetes management service Livongo Health raises $52.5M and looks to new markets\n",
      "- 15 Helpling, Rocket Internet’s home services company, raises further €10M as on-demand space cools\n",
      "- 16 Starling Bank, a digital-only UK challenger bank, launches beta\n",
      "- 17 Makeblock raises $30 million for robot-building kits for kids\n",
      "- 18 Alibaba invests in WayRay, a maker of augmented-reality dashboards for smart cars\n",
      "- 19 OceanGate plans an expedition to 3D scan the Titanic\n",
      "- 20 Serial founder and former Slack PM Simon Vallee is starting a personal productivity company\n"
     ]
    }
   ],
   "source": [
    "i = 0\n",
    "for title in titles:\n",
    "    i += 1\n",
    "    print(\"- \" + str(i) + \" \" + title.text)"
   ]
  },
  {
   "cell_type": "code",
   "execution_count": 17,
   "metadata": {
    "collapsed": false
   },
   "outputs": [
    {
     "data": {
      "text/plain": [
       "'https://techcrunch.com/2017/03/17/santa-fe-enlists-rubicon-global-to-curb-waste-and-ramp-up-recycling/'"
      ]
     },
     "execution_count": 17,
     "metadata": {},
     "output_type": "execute_result"
    }
   ],
   "source": [
    "titles[0].attrib['href']"
   ]
  },
  {
   "cell_type": "code",
   "execution_count": 18,
   "metadata": {
    "collapsed": false,
    "scrolled": false
   },
   "outputs": [
    {
     "name": "stdout",
     "output_type": "stream",
     "text": [
      "https://techcrunch.com/2017/03/17/santa-fe-enlists-rubicon-global-to-curb-waste-and-ramp-up-recycling/\n",
      "https://techcrunch.com/2017/03/17/the-league-adds-read-receipts/\n",
      "https://techcrunch.com/2017/03/17/arthena-y-combinator/\n",
      "https://techcrunch.com/2017/03/17/kangpe-is-a-mobile-service-connecting-africa-to-healthcare/\n",
      "https://techcrunch.com/2017/03/17/classpass-ceo-fritz-lanman-payal-kadakia/\n",
      "https://techcrunch.com/2017/03/17/piwic-raises-2-million-to-truly-liberate-your-analytics/\n",
      "https://techcrunch.com/2017/03/16/utilis-takes-top-water-innovation-prize-at-imagine-h2o/\n",
      "https://techcrunch.com/2017/03/16/appodeal-acquires-corona-labs/\n",
      "https://techcrunch.com/2017/03/16/rock-pamper-scissors-deadpool/\n",
      "https://techcrunch.com/2017/03/16/weworks-adam-neumann-is-coming-to-disrupt/\n",
      "https://techcrunch.com/2017/03/16/in-the-future-there-will-be-mindclones/\n",
      "https://techcrunch.com/2017/03/16/cubspot-finds-camps-and-classes-for-your-wee-ones/\n",
      "https://techcrunch.com/2017/03/16/carbon-moves-into-high-volume-manufacturing-with-speedcell-system-and-bigger-3d-printers/\n",
      "https://techcrunch.com/2017/03/16/smart-diabetes-management-service-livongo-health-raises-52-5m-and-looks-to-new-markets/\n",
      "https://techcrunch.com/2017/03/16/apacig-youre-my-only-helpling/\n",
      "https://techcrunch.com/2017/03/16/starling-bank-a-digital-only-uk-challenger-bank-launches-beta/\n",
      "https://techcrunch.com/2017/03/15/makeblock-raises-30-million-for-robot-building-kits-for-kids/\n",
      "https://techcrunch.com/2017/03/15/alibaba-wayray/\n",
      "https://techcrunch.com/2017/03/15/oceangate-plans-an-expedition-to-3d-scan-the-titanic/\n",
      "https://techcrunch.com/2017/03/15/serial-founder-and-former-slack-pm-simon-vallee-is-starting-a-personal-productivity-company/\n"
     ]
    }
   ],
   "source": [
    "for title in titles:\n",
    "    print(title.attrib['href'])"
   ]
  },
  {
   "cell_type": "code",
   "execution_count": 51,
   "metadata": {
    "collapsed": false
   },
   "outputs": [],
   "source": [
    "articles = [] \n",
    "for title in titles:\n",
    "    url = title.attrib['href']\n",
    "    res_a = requests.get(url)\n",
    "    articles.append(res_a.text) "
   ]
  },
  {
   "cell_type": "markdown",
   "metadata": {},
   "source": [
    "### Example (Self)"
   ]
  },
  {
   "cell_type": "markdown",
   "metadata": {},
   "source": [
    "- 밑에 기사의 기자이름만 가지고오고 싶을때. \n",
    "- div class = \"river\" -> li -> div class =\"block\" -> div class = \"byline\" -> a"
   ]
  },
  {
   "cell_type": "code",
   "execution_count": 45,
   "metadata": {
    "collapsed": false
   },
   "outputs": [],
   "source": [
    "import tqdm"
   ]
  },
  {
   "cell_type": "code",
   "execution_count": 46,
   "metadata": {
    "collapsed": true
   },
   "outputs": [],
   "source": [
    "subTitles = root.cssselect('.river li .block .byline a')"
   ]
  },
  {
   "cell_type": "code",
   "execution_count": 48,
   "metadata": {
    "collapsed": false
   },
   "outputs": [
    {
     "name": "stdout",
     "output_type": "stream",
     "text": [
      "Lora Kolodny\n",
      "https://techcrunch.com/author/lora-kolodny/\n",
      "Anthony Ha\n",
      "https://techcrunch.com/author/anthony-ha/\n",
      "Anthony Ha\n",
      "https://techcrunch.com/author/anthony-ha/\n",
      "Sarah Buhr\n",
      "https://techcrunch.com/author/sarah-buhr/\n",
      "Jordan Crook\n",
      "https://techcrunch.com/author/jordan-crook/\n",
      "John Biggs\n",
      "https://techcrunch.com/author/john-biggs/\n",
      "Lora Kolodny\n",
      "https://techcrunch.com/author/lora-kolodny/\n",
      "Anthony Ha\n",
      "https://techcrunch.com/author/anthony-ha/\n",
      "Steve O'Hear\n",
      "https://techcrunch.com/author/steve-ohear/\n",
      "Connie Loizos\n",
      "https://techcrunch.com/author/connie-loizos/\n",
      "John Biggs\n",
      "https://techcrunch.com/author/john-biggs/\n",
      "John Biggs\n",
      "https://techcrunch.com/author/john-biggs/\n",
      "Lora Kolodny\n",
      "https://techcrunch.com/author/lora-kolodny/\n",
      "Matthew Lynley\n",
      "https://techcrunch.com/author/matthew-lynley/\n",
      "Steve O'Hear\n",
      "https://techcrunch.com/author/steve-ohear/\n",
      "Steve O'Hear\n",
      "https://techcrunch.com/author/steve-ohear/\n",
      "Lora Kolodny\n",
      "https://techcrunch.com/author/lora-kolodny/\n",
      "Catherine Shu\n",
      "https://techcrunch.com/author/catherine-shu/\n",
      "Lora Kolodny\n",
      "https://techcrunch.com/author/lora-kolodny/\n",
      "Connie Loizos\n",
      "https://techcrunch.com/author/connie-loizos/\n",
      "\n"
     ]
    }
   ],
   "source": [
    "for subTitle in tqdm.tqdm_notebook(subTitles):\n",
    "    print(subTitle.text)\n",
    "    print(\"https://techcrunch.com\" + subTitle.attrib['href'])"
   ]
  },
  {
   "cell_type": "markdown",
   "metadata": {},
   "source": [
    "### TQDM Notebook \n",
    " - 찾아서 해보기 for문에 돌리면 Progress bar가 나타난다. "
   ]
  },
  {
   "cell_type": "markdown",
   "metadata": {},
   "source": [
    "## BeautifulSoup "
   ]
  },
  {
   "cell_type": "code",
   "execution_count": 21,
   "metadata": {
    "collapsed": true
   },
   "outputs": [],
   "source": [
    "import urllib.request \n",
    "from bs4 import BeautifulSoup"
   ]
  },
  {
   "cell_type": "code",
   "execution_count": 22,
   "metadata": {
    "collapsed": true
   },
   "outputs": [],
   "source": [
    "req = urllib.request.Request('https://techcrunch.com/startups/')\n",
    "data = urllib.request.urlopen(req).read()"
   ]
  },
  {
   "cell_type": "code",
   "execution_count": 23,
   "metadata": {
    "collapsed": true
   },
   "outputs": [],
   "source": [
    "bs = BeautifulSoup(data, 'html.parser')"
   ]
  },
  {
   "cell_type": "code",
   "execution_count": 24,
   "metadata": {
    "collapsed": false
   },
   "outputs": [],
   "source": [
    "h2s = bs.find_all('h2')"
   ]
  },
  {
   "cell_type": "code",
   "execution_count": 60,
   "metadata": {
    "collapsed": false
   },
   "outputs": [
    {
     "data": {
      "text/plain": [
       "[<h2>Hi!</h2>,\n",
       " <h2>Bolt Threads debuts its first product</h2>,\n",
       " <h2 class=\"h-alt\">Why YC startups love this new naming startup</h2>,\n",
       " <h2 class=\"h-alt\">Instacart raises $400M at $3.4B valuation</h2>,\n",
       " <h2 class=\"h-alt\">Tinder Select is a secret version of the app</h2>]"
      ]
     },
     "execution_count": 60,
     "metadata": {},
     "output_type": "execute_result"
    }
   ],
   "source": [
    "h2s[:5]"
   ]
  },
  {
   "cell_type": "code",
   "execution_count": 49,
   "metadata": {
    "collapsed": false
   },
   "outputs": [
    {
     "name": "stdout",
     "output_type": "stream",
     "text": [
      "1 Santa Fe enlists Rubicon Global to curb waste and ramp up recycling\n",
      "2 The League adds read receipts, so paid members can confirm when someone is really ghosting them\n",
      "3 Arthena uses data science to find the best investments in art\n",
      "4 Kangpe is a mobile service connecting Africa to healthcare\n",
      "5 Fritz Lanman takes CEO role at ClassPass as founder Payal Kadakia steps in as Chairman\n",
      "6 Piwik Pro raises $2 million to truly liberate your analytics\n",
      "7 Utilis takes top water innovation prize at Imagine H2O for tech that finds leaks underground\n",
      "8 Mobile ad company Appodeal acquires game platform Corona Labs\n",
      "9 Rock Pamper Scissors, the hairdresser booking app backed by Seedcamp and 500 Startups, shutters\n",
      "10 WeWork’s Adam Neumann is coming to Disrupt\n",
      "11 In the future there will be mindclones\n",
      "12 Cubspot finds camps and classes for your wee ones\n",
      "13 Carbon moves into high-volume manufacturing with SpeedCell system, and bigger 3D printers\n",
      "14 Smart diabetes management service Livongo Health raises $52.5M and looks to new markets\n",
      "15 Helpling, Rocket Internet’s home services company, raises further €10M as on-demand space cools\n",
      "16 Starling Bank, a digital-only UK challenger bank, launches beta\n",
      "17 Makeblock raises $30 million for robot-building kits for kids\n",
      "18 Alibaba invests in WayRay, a maker of augmented-reality dashboards for smart cars\n",
      "19 OceanGate plans an expedition to 3D scan the Titanic\n",
      "20 Serial founder and former Slack PM Simon Vallee is starting a personal productivity company\n"
     ]
    }
   ],
   "source": [
    "i = 0\n",
    "for h2 in h2s:\n",
    "    all_s = h2.find_all('a')\n",
    "    if len(all_s) > 0:\n",
    "        i += 1\n",
    "        print(str(i) + \" \" +all_s[0].text)"
   ]
  },
  {
   "cell_type": "markdown",
   "metadata": {},
   "source": [
    "## Article Image \n",
    " - 마지막에 크롤링 된 image 가지고오기. "
   ]
  },
  {
   "cell_type": "code",
   "execution_count": 52,
   "metadata": {
    "collapsed": true
   },
   "outputs": [],
   "source": [
    "root = lxml.html.fromstring(res_a.text)"
   ]
  },
  {
   "cell_type": "code",
   "execution_count": 53,
   "metadata": {
    "collapsed": true
   },
   "outputs": [],
   "source": [
    "imgs = root.cssselect('.article-entry img')"
   ]
  },
  {
   "cell_type": "code",
   "execution_count": 54,
   "metadata": {
    "collapsed": true
   },
   "outputs": [],
   "source": [
    "img = imgs[0]"
   ]
  },
  {
   "cell_type": "code",
   "execution_count": 55,
   "metadata": {
    "collapsed": false
   },
   "outputs": [
    {
     "data": {
      "text/plain": [
       "'https://tctechcrunch2011.files.wordpress.com/2017/03/klp_9195.jpg?w=738'"
      ]
     },
     "execution_count": 55,
     "metadata": {},
     "output_type": "execute_result"
    }
   ],
   "source": [
    "img.attrib['src']"
   ]
  },
  {
   "cell_type": "code",
   "execution_count": 56,
   "metadata": {
    "collapsed": true
   },
   "outputs": [],
   "source": [
    "picture = requests.get(img.attrib['src'])"
   ]
  },
  {
   "cell_type": "code",
   "execution_count": 57,
   "metadata": {
    "collapsed": true
   },
   "outputs": [],
   "source": [
    "with open('a.jpg','wb') as f:\n",
    "    f.write(picture.content)"
   ]
  }
 ],
 "metadata": {
  "anaconda-cloud": {},
  "kernelspec": {
   "display_name": "Python [py35]",
   "language": "python",
   "name": "Python [py35]"
  },
  "language_info": {
   "codemirror_mode": {
    "name": "ipython",
    "version": 3
   },
   "file_extension": ".py",
   "mimetype": "text/x-python",
   "name": "python",
   "nbconvert_exporter": "python",
   "pygments_lexer": "ipython3",
   "version": "3.5.2"
  }
 },
 "nbformat": 4,
 "nbformat_minor": 0
}
