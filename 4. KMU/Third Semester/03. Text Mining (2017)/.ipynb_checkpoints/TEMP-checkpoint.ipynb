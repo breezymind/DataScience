{
 "cells": [
  {
   "cell_type": "code",
   "execution_count": 1,
   "metadata": {
    "collapsed": true
   },
   "outputs": [],
   "source": [
    "import requests\n",
    "import lxml.html\n",
    "import numpy as np"
   ]
  },
  {
   "cell_type": "code",
   "execution_count": 2,
   "metadata": {
    "collapsed": false
   },
   "outputs": [],
   "source": [
    "url = 'https://techcrunch.com/startups/page/{number}'"
   ]
  },
  {
   "cell_type": "code",
   "execution_count": 3,
   "metadata": {
    "collapsed": true
   },
   "outputs": [],
   "source": [
    "def get_tc_list(page):\n",
    "    url = 'https://techcrunch.com/startups/page/{number}'.format(number=page)\n",
    "    res = requests.get(url) # 기사 목록 가지고오기\n",
    "    root = lxml.html.fromstring(res.text) # 제목 가지고오기\n",
    "    titles = root.cssselect('h2 a') # 제목 가지고 오기\n",
    "    for title in titles:\n",
    "        yield  title.text"
   ]
  },
  {
   "cell_type": "code",
   "execution_count": 4,
   "metadata": {
    "collapsed": false
   },
   "outputs": [
    {
     "data": {
      "text/plain": [
       "<generator object get_tc_list at 0x000002D1096F8E60>"
      ]
     },
     "execution_count": 4,
     "metadata": {},
     "output_type": "execute_result"
    }
   ],
   "source": [
    "get_tc_list(1)"
   ]
  },
  {
   "cell_type": "code",
   "execution_count": 5,
   "metadata": {
    "collapsed": false
   },
   "outputs": [
    {
     "data": {
      "text/plain": [
       "['New toolkit makes it easy to drag and drop your own\\xa0robot',\n",
       " 'Apply right NOW for the TechCrunch Meetup + Pitch-Off in Tel\\xa0Aviv',\n",
       " 'Hubble, a ‘digital platform’ to help businesses find flexible office space, raises\\xa0£1.2M',\n",
       " 'Julie Desk, an ‘AI virtual assistant’ that helps you schedule meetings and more, scores €2.5M\\xa0funding',\n",
       " 'The best Meeker 2017 Internet Trends slides and what they\\xa0mean',\n",
       " 'Top Ten Automotive Startups competition open for\\xa0submissions',\n",
       " 'Read Mary Meeker’s essential 2017 Internet Trends\\xa0report',\n",
       " 'Pokémon GO reveals sponsors like McDonald’s pay it up to $0.50 per\\xa0visitor',\n",
       " 'Lob tries to maximize snail mail efficiency with another\\xa0$20M',\n",
       " 'Concord wants to become the Google Docs of\\xa0contracts',\n",
       " 'Nike-backed Grabit has quietly raised $25 million for robots that handle what others can’t\\xa0grasp',\n",
       " 'Peer-to-peer travel agency TRVL raises $2.7M to crowd-ify travel\\xa0planning',\n",
       " 'How to price your\\xa0IPO',\n",
       " 'CrowdJustice, the crowdfunding platform for public interest litigation, raises $2M and heads to\\xa0U.S.',\n",
       " 'NYU’s Sarah Kaufman talks about the shape of cities to\\xa0come',\n",
       " 'Why Tom Kelley of IDEO is the ultimate disciple of ‘design\\xa0thinking’',\n",
       " 'Thoughts on building a bootstrapped\\xa0business',\n",
       " 'Chasing dreams may be the next sleeper hit for venture\\xa0capitalists',\n",
       " 'Reid Hoffman, Bill Gates, Sam Altman invest $30 million in\\xa0Change.org',\n",
       " 'KidPass raises $5.1 million for its children’s activity subscription\\xa0service']"
      ]
     },
     "execution_count": 5,
     "metadata": {},
     "output_type": "execute_result"
    }
   ],
   "source": [
    "list(get_tc_list(1))"
   ]
  },
  {
   "cell_type": "code",
   "execution_count": 6,
   "metadata": {
    "collapsed": true
   },
   "outputs": [],
   "source": [
    "import tqdm"
   ]
  },
  {
   "cell_type": "code",
   "execution_count": 7,
   "metadata": {
    "collapsed": false
   },
   "outputs": [
    {
     "name": "stdout",
     "output_type": "stream",
     "text": [
      "\n"
     ]
    }
   ],
   "source": [
    "articles = []\n",
    "for page in tqdm.tqdm_notebook(range(1,30)):\n",
    "    articles = articles + list(get_tc_list(page))"
   ]
  },
  {
   "cell_type": "code",
   "execution_count": 8,
   "metadata": {
    "collapsed": true
   },
   "outputs": [],
   "source": [
    "from sklearn.feature_extraction.text import CountVectorizer, TfidfVectorizer"
   ]
  },
  {
   "cell_type": "code",
   "execution_count": 9,
   "metadata": {
    "collapsed": true
   },
   "outputs": [],
   "source": [
    "cv = CountVectorizer(max_features=1000, stop_words='english')"
   ]
  },
  {
   "cell_type": "code",
   "execution_count": 10,
   "metadata": {
    "collapsed": true
   },
   "outputs": [],
   "source": [
    "tf = TfidfVectorizer(max_features=1000, stop_words='english')"
   ]
  },
  {
   "cell_type": "code",
   "execution_count": 11,
   "metadata": {
    "collapsed": true
   },
   "outputs": [],
   "source": [
    "tdm = cv.fit_transform(articles)"
   ]
  },
  {
   "cell_type": "code",
   "execution_count": 12,
   "metadata": {
    "collapsed": false
   },
   "outputs": [
    {
     "data": {
      "text/plain": [
       "<580x1000 sparse matrix of type '<class 'numpy.int64'>'\n",
       "\twith 3084 stored elements in Compressed Sparse Row format>"
      ]
     },
     "execution_count": 12,
     "metadata": {},
     "output_type": "execute_result"
    }
   ],
   "source": [
    "tdm"
   ]
  },
  {
   "cell_type": "code",
   "execution_count": 13,
   "metadata": {
    "collapsed": true
   },
   "outputs": [],
   "source": [
    "tf_idf = tf.fit_transform(articles)"
   ]
  },
  {
   "cell_type": "code",
   "execution_count": 14,
   "metadata": {
    "collapsed": false
   },
   "outputs": [
    {
     "data": {
      "text/plain": [
       "<580x1000 sparse matrix of type '<class 'numpy.float64'>'\n",
       "\twith 3084 stored elements in Compressed Sparse Row format>"
      ]
     },
     "execution_count": 14,
     "metadata": {},
     "output_type": "execute_result"
    }
   ],
   "source": [
    "tf_idf"
   ]
  },
  {
   "cell_type": "code",
   "execution_count": 15,
   "metadata": {
    "collapsed": true
   },
   "outputs": [],
   "source": [
    "words = cv.get_feature_names()"
   ]
  },
  {
   "cell_type": "code",
   "execution_count": 16,
   "metadata": {
    "collapsed": true
   },
   "outputs": [],
   "source": [
    "words_tf = tf.get_feature_names()"
   ]
  },
  {
   "cell_type": "code",
   "execution_count": 17,
   "metadata": {
    "collapsed": false
   },
   "outputs": [
    {
     "data": {
      "text/plain": [
       "\"['000', '10', '100m', '10m', '11', '12', '15', '15m', '17', '1m', '20', '2017', '20m', '21m', '25']\""
      ]
     },
     "execution_count": 17,
     "metadata": {},
     "output_type": "execute_result"
    }
   ],
   "source": [
    "str(words[:15])"
   ]
  },
  {
   "cell_type": "code",
   "execution_count": 18,
   "metadata": {
    "collapsed": false
   },
   "outputs": [
    {
     "data": {
      "text/plain": [
       "\"['000', '10', '100m', '10m', '11', '12', '15', '15m', '17', '1m', '20', '2017', '20m', '21m', '25']\""
      ]
     },
     "execution_count": 18,
     "metadata": {},
     "output_type": "execute_result"
    }
   ],
   "source": [
    "str(words_tf[:15])"
   ]
  },
  {
   "cell_type": "code",
   "execution_count": 19,
   "metadata": {
    "collapsed": false
   },
   "outputs": [
    {
     "data": {
      "text/plain": [
       "matrix([[0, 0, 0, ..., 0, 0, 0],\n",
       "        [0, 0, 0, ..., 0, 0, 0],\n",
       "        [0, 0, 0, ..., 0, 0, 0],\n",
       "        ..., \n",
       "        [0, 0, 0, ..., 0, 0, 0],\n",
       "        [0, 0, 0, ..., 0, 0, 0],\n",
       "        [0, 0, 0, ..., 0, 0, 0]], dtype=int64)"
      ]
     },
     "execution_count": 19,
     "metadata": {},
     "output_type": "execute_result"
    }
   ],
   "source": [
    "tdm.todense()"
   ]
  },
  {
   "cell_type": "code",
   "execution_count": 20,
   "metadata": {
    "collapsed": false
   },
   "outputs": [
    {
     "data": {
      "text/plain": [
       "matrix([[ 0.,  0.,  0., ...,  0.,  0.,  0.],\n",
       "        [ 0.,  0.,  0., ...,  0.,  0.,  0.],\n",
       "        [ 0.,  0.,  0., ...,  0.,  0.,  0.],\n",
       "        ..., \n",
       "        [ 0.,  0.,  0., ...,  0.,  0.,  0.],\n",
       "        [ 0.,  0.,  0., ...,  0.,  0.,  0.],\n",
       "        [ 0.,  0.,  0., ...,  0.,  0.,  0.]])"
      ]
     },
     "execution_count": 20,
     "metadata": {},
     "output_type": "execute_result"
    }
   ],
   "source": [
    "tf_idf.todense()"
   ]
  },
  {
   "cell_type": "code",
   "execution_count": 21,
   "metadata": {
    "collapsed": true
   },
   "outputs": [],
   "source": [
    "count_mat = tdm.sum(axis=0) # 열합계."
   ]
  },
  {
   "cell_type": "code",
   "execution_count": 22,
   "metadata": {
    "collapsed": true
   },
   "outputs": [],
   "source": [
    "count_mat_tf = tf_idf.sum(axis=0)"
   ]
  },
  {
   "cell_type": "code",
   "execution_count": 23,
   "metadata": {
    "collapsed": false
   },
   "outputs": [
    {
     "data": {
      "text/plain": [
       "(580, 1000)"
      ]
     },
     "execution_count": 23,
     "metadata": {},
     "output_type": "execute_result"
    }
   ],
   "source": [
    "tdm.todense().shape "
   ]
  },
  {
   "cell_type": "code",
   "execution_count": 24,
   "metadata": {
    "collapsed": false
   },
   "outputs": [
    {
     "data": {
      "text/plain": [
       "(580, 1000)"
      ]
     },
     "execution_count": 24,
     "metadata": {},
     "output_type": "execute_result"
    }
   ],
   "source": [
    "tf_idf.todense().shape # tf_idf 방식으로 만듬. "
   ]
  },
  {
   "cell_type": "code",
   "execution_count": 25,
   "metadata": {
    "collapsed": true
   },
   "outputs": [],
   "source": [
    "word_corr = np.corrcoef(tdm.todense(), rowvar=0)"
   ]
  },
  {
   "cell_type": "code",
   "execution_count": 26,
   "metadata": {
    "collapsed": true
   },
   "outputs": [],
   "source": [
    "edges = []\n",
    "for i in range(len(words)):\n",
    "    for j in range(i+1,len(words)):\n",
    "        edges.append((words[i],words[j], word_corr[i,j]))"
   ]
  },
  {
   "cell_type": "code",
   "execution_count": 27,
   "metadata": {
    "collapsed": false,
    "scrolled": false
   },
   "outputs": [
    {
     "data": {
      "text/plain": [
       "[('000', '10', -0.0065594433965952964),\n",
       " ('000', '100m', -0.0065594433965953146),\n",
       " ('000', '10m', -0.0093088324588693084)]"
      ]
     },
     "execution_count": 27,
     "metadata": {},
     "output_type": "execute_result"
    }
   ],
   "source": [
    "edges[:3]"
   ]
  },
  {
   "cell_type": "code",
   "execution_count": 28,
   "metadata": {
    "collapsed": true
   },
   "outputs": [],
   "source": [
    "edges = sorted(edges, key=lambda x:x[2], reverse=True)"
   ]
  },
  {
   "cell_type": "code",
   "execution_count": 29,
   "metadata": {
    "collapsed": true
   },
   "outputs": [],
   "source": [
    "edge_list = [(word1, word2) for word1, word2, weight in edges]\n",
    "weight_list = [weight for word1, word2, weight in edges]"
   ]
  },
  {
   "cell_type": "code",
   "execution_count": 30,
   "metadata": {
    "collapsed": true
   },
   "outputs": [],
   "source": [
    "import networkx"
   ]
  },
  {
   "cell_type": "code",
   "execution_count": 31,
   "metadata": {
    "collapsed": true
   },
   "outputs": [],
   "source": [
    "G = networkx.Graph()"
   ]
  },
  {
   "cell_type": "code",
   "execution_count": 36,
   "metadata": {
    "collapsed": true
   },
   "outputs": [],
   "source": [
    "edge_set = set()\n",
    "for word1, word2, weight in edges[:200]:\n",
    "    G.add_edge(word1, word2, weight=weight)\n",
    "    edge_set.add((word1,word2))"
   ]
  },
  {
   "cell_type": "code",
   "execution_count": 37,
   "metadata": {
    "collapsed": true
   },
   "outputs": [],
   "source": [
    "import matplotlib.pyplot as plt"
   ]
  },
  {
   "cell_type": "code",
   "execution_count": 38,
   "metadata": {
    "collapsed": true
   },
   "outputs": [],
   "source": [
    "%matplotlib inline"
   ]
  },
  {
   "cell_type": "code",
   "execution_count": 39,
   "metadata": {
    "collapsed": false
   },
   "outputs": [
    {
     "data": {
      "image/png": "[encoded data removed]",
      "text/plain": [
       "<matplotlib.figure.Figure at 0x2d1155e8588>"
      ]
     },
     "metadata": {},
     "output_type": "display_data"
    }
   ],
   "source": [
    "position = networkx.spring_layout(G, k=0.09,  iterations=100)\n",
    "plt.figure(figsize=(12, 9))\n",
    "networkx.draw_networkx_nodes(G, position, node_size=0)\n",
    "networkx.draw_networkx_edges(G, position, edgelist=edge_list[:200], width=weight_list[:200], edge_color='lightgray')\n",
    "networkx.draw_networkx_labels(G, position, font_size=15)\n",
    "plt.axis('off')\n",
    "plt.show()"
   ]
  },
  {
   "cell_type": "code",
   "execution_count": 40,
   "metadata": {
    "collapsed": true
   },
   "outputs": [],
   "source": [
    "from konlpy.tag import Komoran"
   ]
  },
  {
   "cell_type": "code",
   "execution_count": 41,
   "metadata": {
    "collapsed": true
   },
   "outputs": [],
   "source": [
    "tagger = Komoran() # 형태소 분석기"
   ]
  },
  {
   "cell_type": "code",
   "execution_count": 42,
   "metadata": {
    "collapsed": false
   },
   "outputs": [
    {
     "data": {
      "text/plain": [
       "[('한국어', 'NNP'),\n",
       " ('로', 'JKB'),\n",
       " ('텍스트', 'NNG'),\n",
       " ('를', 'JKO'),\n",
       " ('분석', 'NNG'),\n",
       " ('하', 'XSV'),\n",
       " ('아', 'EC'),\n",
       " ('보', 'VX'),\n",
       " ('ㅂ시다', 'EF'),\n",
       " ('.', 'SF')]"
      ]
     },
     "execution_count": 42,
     "metadata": {},
     "output_type": "execute_result"
    }
   ],
   "source": [
    "tagger.pos(\"한국어로 텍스트를 분석해 봅시다.\") # 형태소 분석"
   ]
  },
  {
   "cell_type": "code",
   "execution_count": 43,
   "metadata": {
    "collapsed": true
   },
   "outputs": [],
   "source": [
    "import pandas as pd"
   ]
  },
  {
   "cell_type": "code",
   "execution_count": 44,
   "metadata": {
    "collapsed": true
   },
   "outputs": [],
   "source": [
    "data = pd.read_csv(\"Project(Marketing Support Tools)/news.csv\")"
   ]
  },
  {
   "cell_type": "code",
   "execution_count": 45,
   "metadata": {
    "collapsed": false
   },
   "outputs": [
    {
     "data": {
      "text/html": [
       "<div>\n",
       "<table border=\"1\" class=\"dataframe\">\n",
       "  <thead>\n",
       "    <tr style=\"text-align: right;\">\n",
       "      <th></th>\n",
       "      <th>titles</th>\n",
       "      <th>url</th>\n",
       "      <th>contents</th>\n",
       "    </tr>\n",
       "  </thead>\n",
       "  <tbody>\n",
       "    <tr>\n",
       "      <th>0</th>\n",
       "      <td>박명수 외벽청소, 63빌딩 이어 롯데월드타워 도전 '초극한 알바?'</td>\n",
       "      <td>http://news.naver.com/main/read.nhn?mode=LSD&amp;m...</td>\n",
       "      <td>개그맨이자 가수 박명수가 외벽청소에 도전했다.MBC 관계자는 30일 \"박명수가 이날...</td>\n",
       "    </tr>\n",
       "    <tr>\n",
       "      <th>1</th>\n",
       "      <td>롯데월드와 함께하는 1234 업그레이드 '스도쿠'</td>\n",
       "      <td>http://news.naver.com/main/read.nhn?mode=LSD&amp;m...</td>\n",
       "      <td>마감은 다음주 화요일 오후 1시입니다. 그림을 클릭하시면 응모할 수 있는 페이지가 ...</td>\n",
       "    </tr>\n",
       "    <tr>\n",
       "      <th>2</th>\n",
       "      <td>'무한도전' 박명수, 555m 롯데월드타워 외벽 청소 나서</td>\n",
       "      <td>http://news.naver.com/main/read.nhn?mode=LSD&amp;m...</td>\n",
       "      <td>뉴스1 DB© News1(서울=뉴스1) = 무한도전의 박명수가 국내 최고층 빌딩 외...</td>\n",
       "    </tr>\n",
       "    <tr>\n",
       "      <th>3</th>\n",
       "      <td>롯데호텔 시그니엘서울, 롯데월드타워 완전 정복 스페셜 패키지 출시</td>\n",
       "      <td>http://news.naver.com/main/read.nhn?mode=LSD&amp;m...</td>\n",
       "      <td>롯데호텔 시그니엘서울에서 시그니엘서울, 아쿠아리움, 서울스카이 전망대를 한 번에 즐...</td>\n",
       "    </tr>\n",
       "    <tr>\n",
       "      <th>4</th>\n",
       "      <td>서울로7017ㆍ롯데월드타워…‘서울 상징 관광기념품 공모전’ 개최</td>\n",
       "      <td>http://news.naver.com/main/read.nhn?mode=LSD&amp;m...</td>\n",
       "      <td>- 7월 13일까지 이메일 등록 후 17일까지 접수- 서울시 부문 대상 3000만원...</td>\n",
       "    </tr>\n",
       "  </tbody>\n",
       "</table>\n",
       "</div>"
      ],
      "text/plain": [
       "                                  titles  \\\n",
       "0  박명수 외벽청소, 63빌딩 이어 롯데월드타워 도전 '초극한 알바?'   \n",
       "1            롯데월드와 함께하는 1234 업그레이드 '스도쿠'   \n",
       "2       '무한도전' 박명수, 555m 롯데월드타워 외벽 청소 나서   \n",
       "3   롯데호텔 시그니엘서울, 롯데월드타워 완전 정복 스페셜 패키지 출시   \n",
       "4    서울로7017ㆍ롯데월드타워…‘서울 상징 관광기념품 공모전’ 개최   \n",
       "\n",
       "                                                 url  \\\n",
       "0  http://news.naver.com/main/read.nhn?mode=LSD&m...   \n",
       "1  http://news.naver.com/main/read.nhn?mode=LSD&m...   \n",
       "2  http://news.naver.com/main/read.nhn?mode=LSD&m...   \n",
       "3  http://news.naver.com/main/read.nhn?mode=LSD&m...   \n",
       "4  http://news.naver.com/main/read.nhn?mode=LSD&m...   \n",
       "\n",
       "                                            contents  \n",
       "0  개그맨이자 가수 박명수가 외벽청소에 도전했다.MBC 관계자는 30일 \"박명수가 이날...  \n",
       "1  마감은 다음주 화요일 오후 1시입니다. 그림을 클릭하시면 응모할 수 있는 페이지가 ...  \n",
       "2  뉴스1 DB© News1(서울=뉴스1) = 무한도전의 박명수가 국내 최고층 빌딩 외...  \n",
       "3  롯데호텔 시그니엘서울에서 시그니엘서울, 아쿠아리움, 서울스카이 전망대를 한 번에 즐...  \n",
       "4  - 7월 13일까지 이메일 등록 후 17일까지 접수- 서울시 부문 대상 3000만원...  "
      ]
     },
     "execution_count": 45,
     "metadata": {},
     "output_type": "execute_result"
    }
   ],
   "source": [
    "data.head()"
   ]
  },
  {
   "cell_type": "code",
   "execution_count": 46,
   "metadata": {
    "collapsed": true
   },
   "outputs": [],
   "source": [
    "def get_noun(text):\n",
    "    nouns = tagger.nouns(text)\n",
    "    return [n for n in nouns if len(n) > 1] # 2글자 이상만"
   ]
  },
  {
   "cell_type": "code",
   "execution_count": 47,
   "metadata": {
    "collapsed": true
   },
   "outputs": [],
   "source": [
    "cv = CountVectorizer(tokenizer=get_noun, max_features=500)"
   ]
  },
  {
   "cell_type": "code",
   "execution_count": 48,
   "metadata": {
    "collapsed": true
   },
   "outputs": [],
   "source": [
    "tdm = cv.fit_transform(data['contents'])"
   ]
  },
  {
   "cell_type": "code",
   "execution_count": 49,
   "metadata": {
    "collapsed": false
   },
   "outputs": [
    {
     "data": {
      "text/plain": [
       "<676x500 sparse matrix of type '<class 'numpy.int64'>'\n",
       "\twith 23278 stored elements in Compressed Sparse Row format>"
      ]
     },
     "execution_count": 49,
     "metadata": {},
     "output_type": "execute_result"
    }
   ],
   "source": [
    "tdm"
   ]
  },
  {
   "cell_type": "code",
   "execution_count": 55,
   "metadata": {
    "collapsed": true
   },
   "outputs": [],
   "source": [
    "count_mat = tdm.sum(axis=0)"
   ]
  },
  {
   "cell_type": "code",
   "execution_count": 56,
   "metadata": {
    "collapsed": true
   },
   "outputs": [],
   "source": [
    "count = np.squeeze(np.asarray(count_mat))"
   ]
  },
  {
   "cell_type": "code",
   "execution_count": 57,
   "metadata": {
    "collapsed": true
   },
   "outputs": [],
   "source": [
    "words = cv.get_feature_names()"
   ]
  },
  {
   "cell_type": "code",
   "execution_count": 58,
   "metadata": {
    "collapsed": true
   },
   "outputs": [],
   "source": [
    "word_count = list(zip(words,count))"
   ]
  },
  {
   "cell_type": "code",
   "execution_count": 59,
   "metadata": {
    "collapsed": false
   },
   "outputs": [
    {
     "data": {
      "text/plain": [
       "[('5월 31일', 105), ('가격', 30), ('가구', 17), ('가수', 44), ('가운데', 27)]"
      ]
     },
     "execution_count": 59,
     "metadata": {},
     "output_type": "execute_result"
    }
   ],
   "source": [
    "word_count[:5]"
   ]
  },
  {
   "cell_type": "code",
   "execution_count": 60,
   "metadata": {
    "collapsed": true
   },
   "outputs": [],
   "source": [
    "word_count = sorted(word_count, key=lambda x:x[1], reverse=True)"
   ]
  },
  {
   "cell_type": "code",
   "execution_count": 61,
   "metadata": {
    "collapsed": false
   },
   "outputs": [
    {
     "data": {
      "text/plain": [
       "[('대립', 1121), ('영화', 841), ('타워', 626), ('월드', 601), ('시사회', 598)]"
      ]
     },
     "execution_count": 61,
     "metadata": {},
     "output_type": "execute_result"
    }
   ],
   "source": [
    "word_count[:5]"
   ]
  },
  {
   "cell_type": "code",
   "execution_count": 50,
   "metadata": {
    "collapsed": true
   },
   "outputs": [],
   "source": [
    "from sklearn.decomposition import TruncatedSVD"
   ]
  },
  {
   "cell_type": "code",
   "execution_count": 51,
   "metadata": {
    "collapsed": true
   },
   "outputs": [],
   "source": [
    "svd = TruncatedSVD()"
   ]
  },
  {
   "cell_type": "code",
   "execution_count": 52,
   "metadata": {
    "collapsed": true
   },
   "outputs": [],
   "source": [
    "pos = svd.fit_transform(tdm.T)"
   ]
  },
  {
   "cell_type": "code",
   "execution_count": 53,
   "metadata": {
    "collapsed": false
   },
   "outputs": [
    {
     "data": {
      "text/plain": [
       "500"
      ]
     },
     "execution_count": 53,
     "metadata": {},
     "output_type": "execute_result"
    }
   ],
   "source": [
    "len(pos) # max_features"
   ]
  },
  {
   "cell_type": "code",
   "execution_count": 54,
   "metadata": {
    "collapsed": false
   },
   "outputs": [
    {
     "data": {
      "text/plain": [
       "676"
      ]
     },
     "execution_count": 54,
     "metadata": {},
     "output_type": "execute_result"
    }
   ],
   "source": [
    "len(data)"
   ]
  },
  {
   "cell_type": "code",
   "execution_count": 62,
   "metadata": {
    "collapsed": true
   },
   "outputs": [],
   "source": [
    "words = [word for word,_ in word_count]"
   ]
  },
  {
   "cell_type": "code",
   "execution_count": 64,
   "metadata": {
    "collapsed": false
   },
   "outputs": [
    {
     "data": {
      "text/plain": [
       "['대립', '영화', '타워', '월드', '시사회', '롯데시네마', '대신', '서울', '금지', '참석']"
      ]
     },
     "execution_count": 64,
     "metadata": {},
     "output_type": "execute_result"
    }
   ],
   "source": [
    "words[:10]"
   ]
  },
  {
   "cell_type": "code",
   "execution_count": 65,
   "metadata": {
    "collapsed": false
   },
   "outputs": [
    {
     "data": {
      "text/plain": [
       "array([[  6.25204718,  -1.11911646],\n",
       "       [  0.80046529,   3.82727115],\n",
       "       [  0.23853872,   0.2329205 ],\n",
       "       [  1.4883066 ,  -0.13055442],\n",
       "       [  0.75854143,   1.19038918],\n",
       "       [  1.25014114,   2.03743677],\n",
       "       [  0.35167709,   0.55923633],\n",
       "       [  0.514955  ,   0.84764137],\n",
       "       [  0.4812219 ,   1.0499951 ],\n",
       "       [ 16.65343743,  -2.79569593]])"
      ]
     },
     "execution_count": 65,
     "metadata": {},
     "output_type": "execute_result"
    }
   ],
   "source": [
    "pos[:10]"
   ]
  },
  {
   "cell_type": "code",
   "execution_count": 66,
   "metadata": {
    "collapsed": true
   },
   "outputs": [],
   "source": [
    "plt.rcParams['axes.unicode_minus'] = False\n",
    "plt.rcParams['font.family'] = 'Malgun Gothic'\n",
    "plt.rcParams['font.size'] = 15\n",
    "plt.rcParams['figure.figsize'] = [12, 9]"
   ]
  },
  {
   "cell_type": "code",
   "execution_count": 70,
   "metadata": {
    "collapsed": false
   },
   "outputs": [
    {
     "data": {
      "image/png": "[encoded data removed]",
      "text/plain": [
       "<matplotlib.figure.Figure at 0x2d12c382d68>"
      ]
     },
     "metadata": {},
     "output_type": "display_data"
    }
   ],
   "source": [
    "ax = plt.gca()\n",
    "plt.scatter(pos[:,0],pos[:,1], marker='.',color = 'white')\n",
    "for i, word in enumerate(words[:100]):\n",
    "    ax.text(pos[i,0],pos[i,1],word)"
   ]
  },
  {
   "cell_type": "code",
   "execution_count": 71,
   "metadata": {
    "collapsed": true
   },
   "outputs": [],
   "source": [
    "from sklearn.decomposition import TruncatedSVD\n",
    "from sklearn.preprocessing import Normalizer\n",
    "from sklearn.pipeline import make_pipeline"
   ]
  },
  {
   "cell_type": "code",
   "execution_count": 72,
   "metadata": {
    "collapsed": true
   },
   "outputs": [],
   "source": [
    "svd = TruncatedSVD(n_components=10)"
   ]
  },
  {
   "cell_type": "code",
   "execution_count": 73,
   "metadata": {
    "collapsed": false
   },
   "outputs": [
    {
     "data": {
      "text/plain": [
       "TruncatedSVD(algorithm='randomized', n_components=10, n_iter=5,\n",
       "       random_state=None, tol=0.0)"
      ]
     },
     "execution_count": 73,
     "metadata": {},
     "output_type": "execute_result"
    }
   ],
   "source": [
    "svd"
   ]
  },
  {
   "cell_type": "code",
   "execution_count": 74,
   "metadata": {
    "collapsed": true
   },
   "outputs": [],
   "source": [
    "normalizer = Normalizer(copy=False)\n",
    "lsa = make_pipeline(svd, normalizer) "
   ]
  },
  {
   "cell_type": "code",
   "execution_count": 75,
   "metadata": {
    "collapsed": true
   },
   "outputs": [],
   "source": [
    "pos = lsa.fit_transform(tdm)"
   ]
  },
  {
   "cell_type": "code",
   "execution_count": 77,
   "metadata": {
    "collapsed": false
   },
   "outputs": [
    {
     "data": {
      "text/plain": [
       "array([ 0.52088886,  0.1583942 ,  0.15558018, -0.23651488,  0.06478883,\n",
       "        0.02006606, -0.70074205,  0.02698586,  0.2291066 ,  0.27310046])"
      ]
     },
     "execution_count": 77,
     "metadata": {},
     "output_type": "execute_result"
    }
   ],
   "source": [
    "pos[0]"
   ]
  },
  {
   "cell_type": "code",
   "execution_count": 78,
   "metadata": {
    "collapsed": false
   },
   "outputs": [
    {
     "data": {
      "text/plain": [
       "1.0"
      ]
     },
     "execution_count": 78,
     "metadata": {},
     "output_type": "execute_result"
    }
   ],
   "source": [
    "sum(pos[0, :] ** 2)"
   ]
  },
  {
   "cell_type": "code",
   "execution_count": 79,
   "metadata": {
    "collapsed": true
   },
   "outputs": [],
   "source": [
    "from sklearn.cluster import KMeans"
   ]
  },
  {
   "cell_type": "code",
   "execution_count": 90,
   "metadata": {
    "collapsed": true
   },
   "outputs": [],
   "source": [
    "km = KMeans(n_clusters=15)"
   ]
  },
  {
   "cell_type": "code",
   "execution_count": 91,
   "metadata": {
    "collapsed": false
   },
   "outputs": [
    {
     "data": {
      "text/plain": [
       "KMeans(algorithm='auto', copy_x=True, init='k-means++', max_iter=300,\n",
       "    n_clusters=15, n_init=10, n_jobs=1, precompute_distances='auto',\n",
       "    random_state=None, tol=0.0001, verbose=0)"
      ]
     },
     "execution_count": 91,
     "metadata": {},
     "output_type": "execute_result"
    }
   ],
   "source": [
    "km.fit(pos)"
   ]
  },
  {
   "cell_type": "code",
   "execution_count": 92,
   "metadata": {
    "collapsed": false
   },
   "outputs": [
    {
     "data": {
      "text/plain": [
       "array([10,  2, 10,  0,  0,  2, 12, 10, 10, 12,  2, 10, 10, 10,  1, 13,  3,\n",
       "        0,  5,  7,  5,  6,  3, 11,  5,  3,  1, 13,  9,  5,  1,  6, 13,  1,\n",
       "        2, 13,  2,  7,  0, 11, 11,  9,  3, 14,  7,  6,  6,  3, 13,  7, 10,\n",
       "        5,  3,  5, 10,  2,  2, 10, 11,  0, 10,  5, 11, 11, 10, 11, 11,  7,\n",
       "        8, 11,  0,  7,  0, 10,  7,  3,  4,  6,  2, 11,  6, 11, 12, 10, 11,\n",
       "        3,  2,  9, 12, 13,  3, 10, 14,  0, 13, 12, 14,  4,  6,  0, 12,  7,\n",
       "       12, 12, 12, 12, 12, 12, 10,  0, 12,  4, 12,  3, 10, 10, 13, 10, 13,\n",
       "       12,  6, 10, 10, 12,  1,  6,  3, 12, 12,  6, 14, 12, 13,  8, 11,  4,\n",
       "       10, 12,  8,  8,  8,  8,  8,  8, 12,  8,  2, 13,  9, 14, 11,  8,  8,\n",
       "        8,  8,  8,  8,  8,  8,  4,  1,  8,  8,  8,  8,  8,  8,  8,  8,  8,\n",
       "        8,  8,  8,  8,  8,  8,  8,  8,  8,  8,  4,  8,  8,  4, 13,  1,  1,\n",
       "        1,  1,  8,  8,  1,  8,  1,  1,  1,  1,  1,  1,  1,  1,  8, 11,  1,\n",
       "        1,  1,  1,  8,  1,  1,  8,  1,  1,  8, 11,  8,  1,  1,  1,  8,  1,\n",
       "        1,  1,  1,  1,  1,  8,  8,  1,  1,  1, 12,  8,  1,  1,  1,  8,  1,\n",
       "       12,  8,  1,  1,  8,  1,  8,  1, 12,  1, 12,  1,  8,  8,  1,  1,  8,\n",
       "        8,  1,  4,  8, 12,  1,  1,  8,  3,  4,  1,  8,  8,  8,  4,  0,  0,\n",
       "        1,  8,  0,  8, 12,  0,  8, 10,  0,  8,  8,  0, 13, 11,  8,  0,  8,\n",
       "        4, 13,  0,  0,  0,  8, 10,  8,  8,  8, 11, 11, 11, 11, 11, 11, 11,\n",
       "       11, 11, 11, 11,  0, 11, 10, 10, 11,  1,  1, 11, 11,  8,  8,  8,  1,\n",
       "        1,  8,  8,  8,  8, 11, 11, 11, 11, 11,  8, 11,  8,  1,  8,  8, 11,\n",
       "        1,  8, 11, 11,  1, 11,  8, 11,  8,  8,  1,  1,  1,  8, 11,  8,  1,\n",
       "        1, 11,  1,  8, 11,  8, 11,  1,  8,  8,  8,  8,  8, 11,  8,  8,  1,\n",
       "        8,  8,  8,  8,  8, 11, 11,  8,  1,  8,  1,  1,  8,  1,  1, 11,  1,\n",
       "        1,  1, 11,  1,  8,  8, 11, 11,  1,  8,  8,  1,  1,  8,  8, 11,  1,\n",
       "        1,  8,  1,  1,  1, 11,  1,  1,  8,  1,  1,  1,  8,  8, 11, 11,  1,\n",
       "       11, 11, 11,  1,  1, 11,  1,  8,  1,  1,  8, 11,  1,  1,  1, 11, 11,\n",
       "        8,  8,  8, 11,  1,  1,  1, 11, 11,  1,  1,  1, 11,  1,  8, 11, 11,\n",
       "        1,  1, 11,  1,  8, 11,  8,  8,  8, 11,  1,  1,  1, 11,  1,  8,  1,\n",
       "        1,  8, 11, 11, 11, 11, 11,  1, 11,  1,  8, 11, 11, 11,  1,  1,  1,\n",
       "       11,  1,  1,  1,  8, 11,  8,  1,  1,  8,  8,  1,  1,  1, 11,  8, 11,\n",
       "       11,  1,  8,  8,  1, 11, 11,  1, 11,  8, 11, 11,  1,  1,  8,  1, 11,\n",
       "       11,  1,  1,  8,  8, 11,  1,  1, 11, 11,  1,  1,  8,  8,  8, 11, 11,\n",
       "        8,  8,  8, 11,  1, 11, 11,  1,  1,  1, 11, 11, 11,  8,  8,  8,  1,\n",
       "        1, 11, 11,  8, 11, 11, 11,  1,  1,  8,  1,  1, 11,  1,  1, 11, 11,\n",
       "       11,  8,  1,  1, 11, 11,  1, 11,  1,  1, 11,  1,  1,  8,  8,  8,  1,\n",
       "        1, 11, 11,  1,  8,  8,  1,  1,  8,  1,  1,  8, 11, 11, 11,  8, 11,\n",
       "       11,  1,  1,  8, 11,  8,  8, 11,  1,  1, 11,  8,  1,  1,  8, 11, 11,\n",
       "        1, 11, 11,  1,  8, 11, 14, 11, 11,  1,  1,  1,  1,  8,  1,  1,  1,\n",
       "        8,  8, 11,  8,  1,  1,  1,  1, 11,  8,  1,  1,  1,  1,  1,  1,  8,\n",
       "        1,  1,  1,  1,  1,  1, 11,  1,  1, 11,  1,  8, 10])"
      ]
     },
     "execution_count": 92,
     "metadata": {},
     "output_type": "execute_result"
    }
   ],
   "source": [
    "km.labels_"
   ]
  },
  {
   "cell_type": "code",
   "execution_count": 93,
   "metadata": {
    "collapsed": false
   },
   "outputs": [
    {
     "data": {
      "text/plain": [
       "titles                  박명수 외벽청소, 63빌딩 이어 롯데월드타워 도전 '초극한 알바?'\n",
       "url         http://news.naver.com/main/read.nhn?mode=LSD&m...\n",
       "contents    개그맨이자 가수 박명수가 외벽청소에 도전했다.MBC 관계자는 30일 \"박명수가 이날...\n",
       "Name: 0, dtype: object"
      ]
     },
     "execution_count": 93,
     "metadata": {},
     "output_type": "execute_result"
    }
   ],
   "source": [
    "data.iloc[0]"
   ]
  },
  {
   "cell_type": "code",
   "execution_count": 94,
   "metadata": {
    "collapsed": false
   },
   "outputs": [
    {
     "data": {
      "text/plain": [
       "titles                       '무한도전' 박명수, 555m 롯데월드타워 외벽 청소 나서\n",
       "url         http://news.naver.com/main/read.nhn?mode=LSD&m...\n",
       "contents    뉴스1 DB© News1(서울=뉴스1) = 무한도전의 박명수가 국내 최고층 빌딩 외...\n",
       "Name: 2, dtype: object"
      ]
     },
     "execution_count": 94,
     "metadata": {},
     "output_type": "execute_result"
    }
   ],
   "source": [
    "data.iloc[2]"
   ]
  },
  {
   "cell_type": "code",
   "execution_count": 87,
   "metadata": {
    "collapsed": false
   },
   "outputs": [
    {
     "data": {
      "text/plain": [
       "'http://news.naver.com/main/read.nhn?mode=LSD&mid=shm&sid1=101&oid=277&aid=0004003858'"
      ]
     },
     "execution_count": 87,
     "metadata": {},
     "output_type": "execute_result"
    }
   ],
   "source": [
    "data.iloc[3]['url']"
   ]
  },
  {
   "cell_type": "code",
   "execution_count": 95,
   "metadata": {
    "collapsed": false
   },
   "outputs": [
    {
     "data": {
      "text/plain": [
       "titles                   롯데호텔 시그니엘서울, 롯데월드타워 완전 정복 스페셜 패키지 출시\n",
       "url         http://news.naver.com/main/read.nhn?mode=LSD&m...\n",
       "contents    롯데호텔 시그니엘서울에서 시그니엘서울, 아쿠아리움, 서울스카이 전망대를 한 번에 즐...\n",
       "Name: 3, dtype: object"
      ]
     },
     "execution_count": 95,
     "metadata": {},
     "output_type": "execute_result"
    }
   ],
   "source": [
    "data.iloc[3]"
   ]
  },
  {
   "cell_type": "code",
   "execution_count": 96,
   "metadata": {
    "collapsed": false
   },
   "outputs": [
    {
     "data": {
      "text/plain": [
       "titles                    서울로7017ㆍ롯데월드타워…‘서울 상징 관광기념품 공모전’ 개최\n",
       "url         http://news.naver.com/main/read.nhn?mode=LSD&m...\n",
       "contents    - 7월 13일까지 이메일 등록 후 17일까지 접수- 서울시 부문 대상 3000만원...\n",
       "Name: 4, dtype: object"
      ]
     },
     "execution_count": 96,
     "metadata": {},
     "output_type": "execute_result"
    }
   ],
   "source": [
    "data.iloc[4]"
   ]
  },
  {
   "cell_type": "code",
   "execution_count": 97,
   "metadata": {
    "collapsed": false
   },
   "outputs": [
    {
     "name": "stderr",
     "output_type": "stream",
     "text": [
      "C:\\Anaconda3\\envs\\work\\lib\\site-packages\\gensim\\utils.py:840: UserWarning: detected Windows; aliasing chunkize to chunkize_serial\n",
      "  warnings.warn(\"detected Windows; aliasing chunkize to chunkize_serial\")\n",
      "C:\\Anaconda3\\envs\\work\\lib\\site-packages\\gensim\\utils.py:1015: UserWarning: Pattern library is not installed, lemmatization won't be available.\n",
      "  warnings.warn(\"Pattern library is not installed, lemmatization won't be available.\")\n"
     ]
    }
   ],
   "source": [
    "from gensim.matutils import Sparse2Corpus"
   ]
  },
  {
   "cell_type": "code",
   "execution_count": 98,
   "metadata": {
    "collapsed": true
   },
   "outputs": [],
   "source": [
    "corpus = Sparse2Corpus(tdm.T) # dtm형태로 변환."
   ]
  },
  {
   "cell_type": "code",
   "execution_count": 99,
   "metadata": {
    "collapsed": false
   },
   "outputs": [
    {
     "data": {
      "text/plain": [
       "<gensim.matutils.Sparse2Corpus at 0x2d12d695828>"
      ]
     },
     "execution_count": 99,
     "metadata": {},
     "output_type": "execute_result"
    }
   ],
   "source": [
    "corpus"
   ]
  },
  {
   "cell_type": "code",
   "execution_count": 100,
   "metadata": {
    "collapsed": true
   },
   "outputs": [],
   "source": [
    "from gensim.models.ldamodel import LdaModel"
   ]
  },
  {
   "cell_type": "code",
   "execution_count": 102,
   "metadata": {
    "collapsed": false,
    "scrolled": false
   },
   "outputs": [
    {
     "data": {
      "text/plain": [
       "{0: '대립',\n",
       " 1: '영화',\n",
       " 2: '타워',\n",
       " 3: '월드',\n",
       " 4: '시사회',\n",
       " 5: '롯데시네마',\n",
       " 6: '대신',\n",
       " 7: '서울',\n",
       " 8: '금지',\n",
       " 9: '참석',\n",
       " 10: '무단',\n",
       " 11: '배포',\n",
       " 12: '전재',\n",
       " 13: '오후',\n",
       " 14: '배우',\n",
       " 15: '서울 송파구',\n",
       " 16: '임진왜란',\n",
       " 17: '감독',\n",
       " 18: '정윤철',\n",
       " 19: '조정',\n",
       " 20: '군역',\n",
       " 21: '분조',\n",
       " 22: '임시',\n",
       " 23: '선조',\n",
       " 24: '진행',\n",
       " 25: '이야기',\n",
       " 26: '포즈',\n",
       " 27: '임금',\n",
       " 28: '광해',\n",
       " 29: '운명',\n",
       " 30: '개봉',\n",
       " 31: '세자',\n",
       " 32: '명나라',\n",
       " 33: '롯데',\n",
       " 34: '작품',\n",
       " 35: '신천동',\n",
       " 36: '롯데월드타워',\n",
       " 37: '전쟁',\n",
       " 38: '피란',\n",
       " 39: '생존',\n",
       " 40: '잠실',\n",
       " 41: '사진',\n",
       " 42: '포토',\n",
       " 43: '여진구',\n",
       " 44: '뉴스',\n",
       " 45: '스타',\n",
       " 46: '사업',\n",
       " 47: '타임',\n",
       " 48: '예정',\n",
       " 49: '이정재',\n",
       " 50: '제공',\n",
       " 51: '국내',\n",
       " 52: '면세점',\n",
       " 53: '이솜',\n",
       " 54: '트위터',\n",
       " 55: '김무열',\n",
       " 56: '5월 31일',\n",
       " 57: '한경',\n",
       " 58: '사람',\n",
       " 59: '행사',\n",
       " 60: '저작권',\n",
       " 61: '공식',\n",
       " 62: '출연',\n",
       " 63: '배수빈',\n",
       " 64: '일간스포츠',\n",
       " 65: '경영',\n",
       " 66: '기업',\n",
       " 67: '박원상',\n",
       " 68: '코리아',\n",
       " 69: '개발',\n",
       " 70: '서비스',\n",
       " 71: '제보',\n",
       " 72: '고용',\n",
       " 73: '대행',\n",
       " 74: '롯데그룹',\n",
       " 75: '스카이',\n",
       " 76: '박보검',\n",
       " 77: '설현',\n",
       " 78: '인기',\n",
       " 79: '문화',\n",
       " 80: '시장',\n",
       " 81: '바로가기',\n",
       " 82: '이번',\n",
       " 83: '해외',\n",
       " 84: '회장',\n",
       " 85: '고객',\n",
       " 86: '뉴스1',\n",
       " 87: '이용',\n",
       " 88: '관계자',\n",
       " 89: '그룹',\n",
       " 90: '롯데월드',\n",
       " 91: '상품',\n",
       " 92: '신규',\n",
       " 93: '한국',\n",
       " 94: '맛집',\n",
       " 95: '모바일',\n",
       " 96: '매장',\n",
       " 97: '건물',\n",
       " 98: '중국',\n",
       " 99: '지난해',\n",
       " 100: '지역',\n",
       " 101: '클릭',\n",
       " 102: '정우성',\n",
       " 103: '경제',\n",
       " 104: '미디어',\n",
       " 105: '규모',\n",
       " 106: '포인트',\n",
       " 107: '당시',\n",
       " 108: '리얼타임',\n",
       " 109: '결제',\n",
       " 110: '신세계',\n",
       " 111: '신청',\n",
       " 112: '인스타그램',\n",
       " 113: '저녁',\n",
       " 114: '이후',\n",
       " 115: '정부',\n",
       " 116: '경우',\n",
       " 117: '나라',\n",
       " 118: '노사',\n",
       " 119: '대통령',\n",
       " 120: '일자리',\n",
       " 121: '연예',\n",
       " 122: '최신',\n",
       " 123: '출시',\n",
       " 124: '활용',\n",
       " 125: '계획',\n",
       " 126: '구독',\n",
       " 127: '만화',\n",
       " 128: '사회',\n",
       " 129: '산업',\n",
       " 130: '스포츠',\n",
       " 131: '엑스포츠',\n",
       " 132: '올림픽',\n",
       " 133: '최근',\n",
       " 134: '개장',\n",
       " 135: '규제',\n",
       " 136: '제품',\n",
       " 137: '닷컴',\n",
       " 138: '확대',\n",
       " 139: '관광',\n",
       " 140: '레드카펫',\n",
       " 141: '제작',\n",
       " 142: '가족',\n",
       " 143: '때문',\n",
       " 144: '마이데일리',\n",
       " 145: '방문',\n",
       " 146: '사업자',\n",
       " 147: '카드',\n",
       " 148: '속보',\n",
       " 149: '한국경제',\n",
       " 150: '계열사',\n",
       " 151: '아시아',\n",
       " 152: '올해',\n",
       " 153: '운세',\n",
       " 154: '지원',\n",
       " 155: '트렌드',\n",
       " 156: '문제',\n",
       " 157: '세계',\n",
       " 158: '아버지',\n",
       " 159: '웨이보',\n",
       " 160: '지휘',\n",
       " 161: '남지현',\n",
       " 162: '사드',\n",
       " 163: '소비자',\n",
       " 164: '운영',\n",
       " 165: '가수',\n",
       " 166: '박명수',\n",
       " 167: '생계',\n",
       " 168: '왕세자',\n",
       " 169: '을지로',\n",
       " 170: '호텔',\n",
       " 171: '광해군',\n",
       " 172: '사극',\n",
       " 173: '용병',\n",
       " 174: '정보',\n",
       " 175: '참여',\n",
       " 176: '창조',\n",
       " 177: '콘텐츠',\n",
       " 178: '팩션',\n",
       " 179: '평가',\n",
       " 180: '관련',\n",
       " 181: '대표',\n",
       " 182: '시작',\n",
       " 183: '업계',\n",
       " 184: '업체',\n",
       " 185: '인터내셔널',\n",
       " 186: '전용',\n",
       " 187: '직원',\n",
       " 188: '동안',\n",
       " 189: '롯데백화점',\n",
       " 190: '보도자료',\n",
       " 191: '이상',\n",
       " 192: '프로덕션',\n",
       " 193: '필요',\n",
       " 194: '기술',\n",
       " 195: '리얼',\n",
       " 196: '베르디',\n",
       " 197: '영업',\n",
       " 198: '윤승아',\n",
       " 199: '이즈',\n",
       " 200: '포함',\n",
       " 201: '폭스',\n",
       " 202: '사용',\n",
       " 203: '하늘',\n",
       " 204: '한편',\n",
       " 205: '합창단',\n",
       " 206: '혜택',\n",
       " 207: '금액',\n",
       " 208: '음료',\n",
       " 209: '카페',\n",
       " 210: '아울렛',\n",
       " 211: '전망대',\n",
       " 212: '청춘',\n",
       " 213: '후회',\n",
       " 214: '공간',\n",
       " 215: '모습',\n",
       " 216: '분야',\n",
       " 217: '손바닥',\n",
       " 218: '연기',\n",
       " 219: '개최',\n",
       " 220: '매출',\n",
       " 221: '쇼핑몰',\n",
       " 222: '이날',\n",
       " 223: '이벤트',\n",
       " 224: '인증',\n",
       " 225: '헤럴드',\n",
       " 226: '기간',\n",
       " 227: '노력',\n",
       " 228: '디저트',\n",
       " 229: '브랜드',\n",
       " 230: '성장',\n",
       " 231: '스타일',\n",
       " 232: '외벽',\n",
       " 233: '적립',\n",
       " 234: '전망',\n",
       " 235: '주년',\n",
       " 236: '창출',\n",
       " 237: '청소',\n",
       " 238: '캐릭터',\n",
       " 239: '강남',\n",
       " 240: '관심',\n",
       " 241: '다음',\n",
       " 242: '린지',\n",
       " 243: '선정',\n",
       " 244: '설명',\n",
       " 245: '시간',\n",
       " 246: '시설',\n",
       " 247: '왕지원',\n",
       " 248: '위치',\n",
       " 249: '정맥',\n",
       " 250: '체험',\n",
       " 251: '투자',\n",
       " 252: '뉴시스',\n",
       " 253: '면적',\n",
       " 254: '상생',\n",
       " 255: '신동빈',\n",
       " 256: '오늘',\n",
       " 257: '홈페이지',\n",
       " 258: '관광객',\n",
       " 259: '구매',\n",
       " 260: '수준',\n",
       " 261: '연합뉴스',\n",
       " 262: '영상',\n",
       " 263: '정혜성',\n",
       " 264: '지상',\n",
       " 265: '최대',\n",
       " 266: '가격',\n",
       " 267: '관세청',\n",
       " 268: '롯데 시네마',\n",
       " 269: '인근',\n",
       " 270: '일본',\n",
       " 271: '장관',\n",
       " 272: '특허',\n",
       " 273: '판매',\n",
       " 274: '개월',\n",
       " 275: '관객',\n",
       " 276: '단지',\n",
       " 277: '도입',\n",
       " 278: '롯데호텔',\n",
       " 279: '백화점',\n",
       " 280: '부산',\n",
       " 281: '상황',\n",
       " 282: '유행',\n",
       " 283: '체크카드',\n",
       " 284: '기대',\n",
       " 285: '대상',\n",
       " 286: '도전',\n",
       " 287: '서울시',\n",
       " 288: '선포',\n",
       " 289: '위원장',\n",
       " 290: '자리',\n",
       " 291: '장소',\n",
       " 292: '준비',\n",
       " 293: '현대',\n",
       " 294: '환경',\n",
       " 295: '가운데',\n",
       " 296: '광고',\n",
       " 297: '논란',\n",
       " 298: '문재인',\n",
       " 299: '버스',\n",
       " 300: '비정규직',\n",
       " 301: '상어',\n",
       " 302: '설계',\n",
       " 303: '적극',\n",
       " 304: '전자신문',\n",
       " 305: '지하',\n",
       " 306: '촬영',\n",
       " 307: '파티',\n",
       " 308: '페이',\n",
       " 309: '편의점',\n",
       " 310: '프리미엄',\n",
       " 311: '효과',\n",
       " 312: '경쟁력',\n",
       " 313: '대형',\n",
       " 314: '마련',\n",
       " 315: '아쿠아리움',\n",
       " 316: '연구',\n",
       " 317: '염정아',\n",
       " 318: '요청',\n",
       " 319: '유통업',\n",
       " 320: '의견',\n",
       " 321: '정규',\n",
       " 322: '최고',\n",
       " 323: '프로그램',\n",
       " 324: '거리',\n",
       " 325: '글로벌',\n",
       " 326: '롯데마트',\n",
       " 327: '보복',\n",
       " 328: '사전',\n",
       " 329: '위원회',\n",
       " 330: '이태란',\n",
       " 331: '정도',\n",
       " 332: '정책',\n",
       " 333: '채용',\n",
       " 334: '할인',\n",
       " 335: '해당',\n",
       " 336: '협력',\n",
       " 337: '거래',\n",
       " 338: '공개',\n",
       " 339: '디자인',\n",
       " 340: '무료',\n",
       " 341: '방송',\n",
       " 342: '복합',\n",
       " 343: '생각',\n",
       " 344: '세상',\n",
       " 345: '언론',\n",
       " 346: '여행',\n",
       " 347: '예상',\n",
       " 348: '정인선',\n",
       " 349: '조성',\n",
       " 350: '총집결',\n",
       " 351: '추가',\n",
       " 352: '금융',\n",
       " 353: '도시',\n",
       " 354: '만큼',\n",
       " 355: '사실',\n",
       " 356: '생활',\n",
       " 357: '송파구',\n",
       " 358: '시티',\n",
       " 359: '우리나라',\n",
       " 360: '적용',\n",
       " 361: '전체',\n",
       " 362: '전환',\n",
       " 363: '참가자',\n",
       " 364: '표절',\n",
       " 365: '하와이',\n",
       " 366: '핸드',\n",
       " 367: '활동',\n",
       " 368: '개인',\n",
       " 369: '과정',\n",
       " 370: '구성',\n",
       " 371: '노동자',\n",
       " 372: '등장',\n",
       " 373: '롯데월드몰',\n",
       " 374: '미래',\n",
       " 375: '부담',\n",
       " 376: '전국',\n",
       " 377: '주변',\n",
       " 378: '처음',\n",
       " 379: '해결',\n",
       " 380: '현우',\n",
       " 381: '개선',\n",
       " 382: '관리',\n",
       " 383: '기념',\n",
       " 384: '기념식',\n",
       " 385: '내용',\n",
       " 386: '농도',\n",
       " 387: '디네',\n",
       " 388: '롯데면세점',\n",
       " 389: '발표',\n",
       " 390: '방식',\n",
       " 391: '빌딩',\n",
       " 392: '상태',\n",
       " 393: '수퍼',\n",
       " 394: '스토어',\n",
       " 395: '시스템',\n",
       " 396: '아트',\n",
       " 397: '안전',\n",
       " 398: '이마트',\n",
       " 399: '임대',\n",
       " 400: '최초',\n",
       " 401: '패키지',\n",
       " 402: '각종',\n",
       " 403: '걸그룹',\n",
       " 404: '공연',\n",
       " 405: '기록',\n",
       " 406: '기존',\n",
       " 407: '부문',\n",
       " 408: '부회장',\n",
       " 409: '상영',\n",
       " 410: '시민',\n",
       " 411: '심사',\n",
       " 412: '아파트',\n",
       " 413: '여성',\n",
       " 414: '음식',\n",
       " 415: '일부',\n",
       " 416: '입장',\n",
       " 417: '자신',\n",
       " 418: '증가',\n",
       " 419: '현대백화점',\n",
       " 420: '황교안',\n",
       " 421: '가치',\n",
       " 422: '강조',\n",
       " 423: '공감',\n",
       " 424: '근로자',\n",
       " 425: '기념품',\n",
       " 426: '등록',\n",
       " 427: '롯데카드',\n",
       " 428: '리어',\n",
       " 429: '멤버',\n",
       " 430: '부곡',\n",
       " 431: '부산일보',\n",
       " 432: '선택',\n",
       " 433: '연구원',\n",
       " 434: '예약',\n",
       " 435: '우수',\n",
       " 436: '은행',\n",
       " 437: '음식점',\n",
       " 438: '주제',\n",
       " 439: '지속',\n",
       " 440: '프로젝트',\n",
       " 441: '혁신',\n",
       " 442: '협회',\n",
       " 443: '확인',\n",
       " 444: '공모전',\n",
       " 445: '광장',\n",
       " 446: '단계',\n",
       " 447: '대회',\n",
       " 448: '디너',\n",
       " 449: '룩스',\n",
       " 450: '마케팅',\n",
       " 451: '매일경제',\n",
       " 452: '반영',\n",
       " 453: '분석',\n",
       " 454: '상징',\n",
       " 455: '쇼핑',\n",
       " 456: '신한은행',\n",
       " 457: '오픈',\n",
       " 458: '인사',\n",
       " 459: '작년',\n",
       " 460: '재미',\n",
       " 461: '전문가',\n",
       " 462: '주목',\n",
       " 463: '가구',\n",
       " 464: '가지',\n",
       " 465: '국민',\n",
       " 466: '기준',\n",
       " 467: '대비',\n",
       " 468: '마트',\n",
       " 469: '무인',\n",
       " 470: '미국',\n",
       " 471: '방안',\n",
       " 472: '시대',\n",
       " 473: '업무',\n",
       " 474: '외국인',\n",
       " 475: '유리',\n",
       " 476: '의원',\n",
       " 477: '이자',\n",
       " 478: '이종현',\n",
       " 479: '인식',\n",
       " 480: '일반',\n",
       " 481: '전시',\n",
       " 482: '중심',\n",
       " 483: '지난달',\n",
       " 484: '지적',\n",
       " 485: '지하철',\n",
       " 486: '차질',\n",
       " 487: '태미',\n",
       " 488: '트럼프',\n",
       " 489: '특징',\n",
       " 490: '패션',\n",
       " 491: '피에스타',\n",
       " 492: '현재',\n",
       " 493: '현지',\n",
       " 494: '화이트',\n",
       " 495: '확보',\n",
       " 496: '개사',\n",
       " 497: '제도',\n",
       " 498: '필드',\n",
       " 499: '회의'}"
      ]
     },
     "execution_count": 102,
     "metadata": {},
     "output_type": "execute_result"
    }
   ],
   "source": [
    "dict(enumerate(words))"
   ]
  },
  {
   "cell_type": "code",
   "execution_count": 139,
   "metadata": {
    "collapsed": true
   },
   "outputs": [],
   "source": [
    "lda = LdaModel(corpus=corpus, num_topics=200,\n",
    "               id2word=dict(enumerate(words)), random_state=1234)"
   ]
  },
  {
   "cell_type": "code",
   "execution_count": 140,
   "metadata": {
    "collapsed": false
   },
   "outputs": [
    {
     "data": {
      "text/plain": [
       "[('아울렛', 0.038977736661004979),\n",
       " ('한국', 0.037772439899611883),\n",
       " ('매장', 0.024349369509306731),\n",
       " ('이후', 0.020830392557412768),\n",
       " ('기념', 0.017765124052374581),\n",
       " ('단지', 0.017597580755825747),\n",
       " ('발표', 0.016899873193048167),\n",
       " ('전망대', 0.016404445105519014),\n",
       " ('관광', 0.016225971136194766),\n",
       " ('나라', 0.015673570799803783)]"
      ]
     },
     "execution_count": 140,
     "metadata": {},
     "output_type": "execute_result"
    }
   ],
   "source": [
    "lda.show_topic(0) # 0번째 토픽의 내용. 많이 쓰이는 단어들."
   ]
  },
  {
   "cell_type": "code",
   "execution_count": 141,
   "metadata": {
    "collapsed": false
   },
   "outputs": [
    {
     "data": {
      "text/plain": [
       "[('가지', 0.061146488792469714),\n",
       " ('참여', 0.056943534542499188),\n",
       " ('관광객', 0.05165950294043449),\n",
       " ('예상', 0.044646058093157755),\n",
       " ('다음', 0.025949407354376553),\n",
       " ('최초', 0.022160857435546844),\n",
       " ('전체', 0.022160857435546844),\n",
       " ('전재', 0.022160857435546844),\n",
       " ('글로벌', 0.020500202022153288),\n",
       " ('개인', 0.020442984639205158)]"
      ]
     },
     "execution_count": 141,
     "metadata": {},
     "output_type": "execute_result"
    }
   ],
   "source": [
    "lda.show_topic(1)"
   ]
  },
  {
   "cell_type": "code",
   "execution_count": 142,
   "metadata": {
    "collapsed": false
   },
   "outputs": [
    {
     "data": {
      "text/plain": [
       "0.34777075069093677"
      ]
     },
     "execution_count": 142,
     "metadata": {},
     "output_type": "execute_result"
    }
   ],
   "source": [
    "result_sum = 0\n",
    "for topic in lda.show_topic(1):\n",
    "    result_sum += topic[1]\n",
    "\n",
    "result_sum"
   ]
  },
  {
   "cell_type": "code",
   "execution_count": 143,
   "metadata": {
    "collapsed": false
   },
   "outputs": [
    {
     "data": {
      "text/plain": [
       "<676x500 sparse matrix of type '<class 'numpy.int64'>'\n",
       "\twith 23278 stored elements in Compressed Sparse Row format>"
      ]
     },
     "execution_count": 143,
     "metadata": {},
     "output_type": "execute_result"
    }
   ],
   "source": [
    "tdm"
   ]
  },
  {
   "cell_type": "code",
   "execution_count": 144,
   "metadata": {
    "collapsed": false
   },
   "outputs": [],
   "source": [
    "doc = [(i, tdm[0,i]) for i in range(500)] # 0번째 문서에 안에 단어수를."
   ]
  },
  {
   "cell_type": "code",
   "execution_count": 145,
   "metadata": {
    "collapsed": false
   },
   "outputs": [
    {
     "data": {
      "text/plain": [
       "matrix([[0, 0, 0, 1, 0, 0, 0, 0, 1, 0, 0, 0, 0, 0, 0, 0, 0, 0, 0, 0, 0, 0,\n",
       "         2, 0, 0, 0, 0, 0, 2, 0, 0, 0, 0, 0, 0, 0, 0, 0, 0, 0, 0, 1, 0, 0,\n",
       "         0, 0, 0, 0, 0, 0, 0, 0, 0, 0, 0, 0, 0, 0, 0, 0, 0, 0, 0, 0, 0, 1,\n",
       "         0, 0, 0, 0, 0, 0, 0, 0, 0, 0, 0, 0, 0, 0, 0, 0, 0, 0, 0, 2, 0, 0,\n",
       "         0, 0, 0, 0, 0, 0, 0, 0, 0, 0, 0, 0, 0, 0, 0, 0, 3, 0, 0, 0, 0, 0,\n",
       "         0, 0, 0, 0, 0, 0, 0, 0, 0, 0, 0, 0, 0, 2, 0, 0, 0, 0, 0, 0, 0, 0,\n",
       "         0, 0, 0, 0, 0, 0, 0, 0, 0, 1, 0, 0, 0, 0, 1, 1, 0, 0, 0, 0, 0, 0,\n",
       "         0, 0, 0, 6, 0, 0, 0, 0, 0, 2, 0, 0, 0, 0, 1, 0, 0, 0, 0, 0, 0, 0,\n",
       "         0, 0, 0, 0, 0, 0, 0, 0, 0, 0, 0, 0, 0, 1, 1, 0, 0, 0, 0, 1, 0, 0,\n",
       "         0, 0, 0, 0, 0, 0, 0, 0, 0, 0, 0, 0, 0, 1, 0, 0, 0, 0, 0, 0, 0, 0,\n",
       "         0, 0, 0, 0, 0, 0, 0, 0, 0, 0, 0, 0, 0, 0, 0, 0, 0, 0, 0, 0, 0, 0,\n",
       "         0, 0, 0, 0, 0, 0, 0, 1, 0, 0, 0, 0, 0, 0, 0, 0, 0, 0, 0, 0, 0, 0,\n",
       "         0, 0, 0, 0, 0, 0, 0, 0, 0, 0, 1, 0, 0, 0, 0, 0, 0, 0, 1, 0, 0, 0,\n",
       "         0, 0, 5, 0, 0, 0, 0, 0, 0, 0, 0, 0, 0, 0, 0, 0, 0, 0, 0, 0, 0, 0,\n",
       "         0, 0, 0, 0, 1, 0, 0, 0, 0, 0, 0, 0, 0, 0, 0, 0, 0, 0, 0, 0, 0, 0,\n",
       "         0, 0, 0, 0, 0, 0, 0, 0, 0, 0, 0, 0, 0, 0, 0, 0, 0, 0, 0, 0, 0, 0,\n",
       "         1, 0, 0, 0, 0, 0, 0, 0, 0, 0, 0, 1, 0, 0, 0, 0, 0, 0, 1, 0, 0, 0,\n",
       "         0, 0, 0, 0, 0, 0, 0, 0, 0, 0, 0, 0, 0, 0, 0, 0, 0, 0, 0, 0, 0, 0,\n",
       "         0, 0, 0, 0, 0, 0, 0, 0, 0, 0, 0, 0, 0, 0, 0, 0, 5, 0, 0, 0, 0, 2,\n",
       "         0, 0, 0, 0, 0, 0, 0, 0, 0, 0, 0, 0, 0, 0, 0, 0, 0, 0, 0, 0, 0, 0,\n",
       "         0, 0, 0, 0, 0, 0, 0, 0, 0, 0, 0, 0, 0, 0, 0, 0, 0, 0, 0, 0, 0, 0,\n",
       "         0, 0, 0, 0, 0, 0, 1, 0, 0, 0, 0, 0, 0, 0, 0, 0, 0, 0, 0, 0, 0, 0,\n",
       "         0, 0, 0, 0, 0, 0, 0, 0, 0, 0, 0, 0, 0, 0, 0, 1]], dtype=int64)"
      ]
     },
     "execution_count": 145,
     "metadata": {},
     "output_type": "execute_result"
    }
   ],
   "source": [
    "tdm[0,:].todense()"
   ]
  },
  {
   "cell_type": "code",
   "execution_count": 146,
   "metadata": {
    "collapsed": true
   },
   "outputs": [],
   "source": [
    "doc_words = [(words[i], n) for i,n in doc]"
   ]
  },
  {
   "cell_type": "code",
   "execution_count": 147,
   "metadata": {
    "collapsed": false,
    "scrolled": false
   },
   "outputs": [
    {
     "data": {
      "text/plain": [
       "[('대립', 0), ('영화', 0), ('타워', 0), ('월드', 1), ('시사회', 0)]"
      ]
     },
     "execution_count": 147,
     "metadata": {},
     "output_type": "execute_result"
    }
   ],
   "source": [
    "doc_words[:5]"
   ]
  },
  {
   "cell_type": "code",
   "execution_count": 148,
   "metadata": {
    "collapsed": false
   },
   "outputs": [
    {
     "data": {
      "text/plain": [
       "[('세계', 6),\n",
       " ('선포', 5),\n",
       " ('아파트', 5),\n",
       " ('미디어', 3),\n",
       " ('임시', 2),\n",
       " ('광해', 2),\n",
       " ('고객', 2),\n",
       " ('출시', 2),\n",
       " ('소비자', 2),\n",
       " ('자신', 2)]"
      ]
     },
     "execution_count": 148,
     "metadata": {},
     "output_type": "execute_result"
    }
   ],
   "source": [
    "sorted(doc_words, key=lambda x:x[1], reverse=True)[:10]"
   ]
  },
  {
   "cell_type": "code",
   "execution_count": 149,
   "metadata": {
    "collapsed": false
   },
   "outputs": [
    {
     "data": {
      "text/plain": [
       "[(88, 0.69578144288625032), (120, 0.28553931183072567)]"
      ]
     },
     "execution_count": 149,
     "metadata": {},
     "output_type": "execute_result"
    }
   ],
   "source": [
    "lda.get_document_topics(doc) # 0번의 뉴스기사는 7번 토픽이 50프로 40버닝 45프로"
   ]
  },
  {
   "cell_type": "code",
   "execution_count": 150,
   "metadata": {
    "collapsed": false
   },
   "outputs": [
    {
     "data": {
      "text/plain": [
       "[('한국', 0.059155701193121212),\n",
       " ('방송', 0.047350409658706127),\n",
       " ('채용', 0.04672822789805562),\n",
       " ('매장', 0.040749527099533819),\n",
       " ('공간', 0.025934614729356365),\n",
       " ('체크카드', 0.024649069666303355),\n",
       " ('선택', 0.022866250808626854),\n",
       " ('단지', 0.022753972584436691),\n",
       " ('관심', 0.022523890009790944),\n",
       " ('주제', 0.022174301496170518)]"
      ]
     },
     "execution_count": 150,
     "metadata": {},
     "output_type": "execute_result"
    }
   ],
   "source": [
    "lda.show_topic(61)"
   ]
  },
  {
   "cell_type": "code",
   "execution_count": 151,
   "metadata": {
    "collapsed": false
   },
   "outputs": [
    {
     "data": {
      "text/plain": [
       "[('상징', 0.054367013295129239),\n",
       " ('스타일', 0.054288761711333788),\n",
       " ('개선', 0.051954151125280207),\n",
       " ('예정', 0.051925363158957384),\n",
       " ('만화', 0.047735598773517192),\n",
       " ('해외', 0.036157887340113035),\n",
       " ('생계', 0.028581129405038784),\n",
       " ('경우', 0.022287958322305384),\n",
       " ('예상', 0.022034995785145187),\n",
       " ('연구원', 0.021938120838030734)]"
      ]
     },
     "execution_count": 151,
     "metadata": {},
     "output_type": "execute_result"
    }
   ],
   "source": [
    "lda.show_topic(83)"
   ]
  },
  {
   "cell_type": "code",
   "execution_count": 152,
   "metadata": {
    "collapsed": false
   },
   "outputs": [
    {
     "data": {
      "text/plain": [
       "titles                  박명수 외벽청소, 63빌딩 이어 롯데월드타워 도전 '초극한 알바?'\n",
       "url         http://news.naver.com/main/read.nhn?mode=LSD&m...\n",
       "contents    개그맨이자 가수 박명수가 외벽청소에 도전했다.MBC 관계자는 30일 \"박명수가 이날...\n",
       "Name: 0, dtype: object"
      ]
     },
     "execution_count": 152,
     "metadata": {},
     "output_type": "execute_result"
    }
   ],
   "source": [
    "data.iloc[0]"
   ]
  },
  {
   "cell_type": "code",
   "execution_count": 153,
   "metadata": {
    "collapsed": true
   },
   "outputs": [],
   "source": [
    "from collections import Counter"
   ]
  },
  {
   "cell_type": "code",
   "execution_count": 154,
   "metadata": {
    "collapsed": true
   },
   "outputs": [],
   "source": [
    "total = Counter()"
   ]
  },
  {
   "cell_type": "code",
   "execution_count": 155,
   "metadata": {
    "collapsed": false
   },
   "outputs": [
    {
     "data": {
      "text/plain": [
       "676"
      ]
     },
     "execution_count": 155,
     "metadata": {},
     "output_type": "execute_result"
    }
   ],
   "source": [
    "num = tdm.shape[0]\n",
    "num"
   ]
  },
  {
   "cell_type": "code",
   "execution_count": 156,
   "metadata": {
    "collapsed": false
   },
   "outputs": [
    {
     "name": "stdout",
     "output_type": "stream",
     "text": [
      "\n"
     ]
    }
   ],
   "source": [
    "for n in tqdm.tqdm_notebook(range(num)):\n",
    "    doc = [(i, tdm[n,i]) for i in range(500)]\n",
    "    topics = lda.get_document_topics(doc)\n",
    "    for topic,ratio in topics:\n",
    "        total[topic] += ratio"
   ]
  },
  {
   "cell_type": "code",
   "execution_count": 157,
   "metadata": {
    "collapsed": false
   },
   "outputs": [
    {
     "data": {
      "text/plain": [
       "[(181, 93.572845005292137),\n",
       " (6, 52.871273333368379),\n",
       " (155, 35.222295909081652),\n",
       " (162, 34.971940520320693),\n",
       " (31, 32.126237889106598)]"
      ]
     },
     "execution_count": 157,
     "metadata": {},
     "output_type": "execute_result"
    }
   ],
   "source": [
    "sorted(total.items(), key=lambda x:x[1], reverse=True)[:5]"
   ]
  },
  {
   "cell_type": "code",
   "execution_count": 158,
   "metadata": {
    "collapsed": false
   },
   "outputs": [
    {
     "data": {
      "text/plain": [
       "[('한국', 0.069948003367132652),\n",
       " ('매장', 0.045434759311738349),\n",
       " ('단지', 0.040412851944789427),\n",
       " ('선택', 0.028408050321080756),\n",
       " ('광고', 0.027111778055190557),\n",
       " ('관심', 0.026627950454744632),\n",
       " ('생계', 0.02410180302559459),\n",
       " ('기존', 0.02376400306037638),\n",
       " ('공간', 0.022379963059199454),\n",
       " ('방송', 0.022078195468140931)]"
      ]
     },
     "execution_count": 158,
     "metadata": {},
     "output_type": "execute_result"
    }
   ],
   "source": [
    "lda.show_topic(181)"
   ]
  },
  {
   "cell_type": "code",
   "execution_count": 162,
   "metadata": {
    "collapsed": false
   },
   "outputs": [
    {
     "data": {
      "text/plain": [
       "[('아울렛', 0.044074008434282073),\n",
       " ('한국', 0.038811563292144122),\n",
       " ('선택', 0.037352687696462106),\n",
       " ('관심', 0.03731101479192165),\n",
       " ('광고', 0.037257765433479681),\n",
       " ('단지', 0.037013384700120285),\n",
       " ('기존', 0.03671500302028062),\n",
       " ('일자리', 0.036544709263943667),\n",
       " ('참가자', 0.033708362053657036),\n",
       " ('카드', 0.03347712446983854)]"
      ]
     },
     "execution_count": 162,
     "metadata": {},
     "output_type": "execute_result"
    }
   ],
   "source": [
    "lda.show_topic(6)"
   ]
  },
  {
   "cell_type": "code",
   "execution_count": 160,
   "metadata": {
    "collapsed": false
   },
   "outputs": [
    {
     "data": {
      "text/plain": [
       "[('적립', 0.039896235682399847),\n",
       " ('한국', 0.039191934201200783),\n",
       " ('생계', 0.03823655373293771),\n",
       " ('광고', 0.037851413721890541),\n",
       " ('카드', 0.037573357538304729),\n",
       " ('일자리', 0.037372922313164435),\n",
       " ('왕세자', 0.036742670606840347),\n",
       " ('선택', 0.036607813591232913),\n",
       " ('참가자', 0.036588964497147929),\n",
       " ('단지', 0.036484650622036513)]"
      ]
     },
     "execution_count": 160,
     "metadata": {},
     "output_type": "execute_result"
    }
   ],
   "source": [
    "lda.show_topic(155)"
   ]
  },
  {
   "cell_type": "code",
   "execution_count": 169,
   "metadata": {
    "collapsed": false
   },
   "outputs": [],
   "source": [
    "tt = []\n",
    "for a in lda.show_topic(6):\n",
    "    tt.append(a[0])"
   ]
  },
  {
   "cell_type": "code",
   "execution_count": 170,
   "metadata": {
    "collapsed": false
   },
   "outputs": [
    {
     "data": {
      "text/plain": [
       "['아울렛', '한국', '선택', '관심', '광고', '단지', '기존', '일자리', '참가자', '카드']"
      ]
     },
     "execution_count": 170,
     "metadata": {},
     "output_type": "execute_result"
    }
   ],
   "source": [
    "tt"
   ]
  },
  {
   "cell_type": "code",
   "execution_count": 172,
   "metadata": {
    "collapsed": false
   },
   "outputs": [
    {
     "data": {
      "text/plain": [
       "True"
      ]
     },
     "execution_count": 172,
     "metadata": {},
     "output_type": "execute_result"
    }
   ],
   "source": [
    "'아울렛' in tt "
   ]
  },
  {
   "cell_type": "code",
   "execution_count": 175,
   "metadata": {
    "collapsed": false
   },
   "outputs": [
    {
     "data": {
      "text/plain": [
       "[('한국', 70),\n",
       " ('일자리', 56),\n",
       " ('카드', 50),\n",
       " ('아울렛', 37),\n",
       " ('관심', 33),\n",
       " ('단지', 29),\n",
       " ('광고', 27),\n",
       " ('참가자', 23),\n",
       " ('기존', 20),\n",
       " ('선택', 19)]"
      ]
     },
     "execution_count": 175,
     "metadata": {},
     "output_type": "execute_result"
    }
   ],
   "source": [
    "[(item,count) for item,count in word_count if item in tt ]"
   ]
  }
 ],
 "metadata": {
  "anaconda-cloud": {},
  "kernelspec": {
   "display_name": "Python [work]",
   "language": "python",
   "name": "Python [work]"
  },
  "language_info": {
   "codemirror_mode": {
    "name": "ipython",
    "version": 3
   },
   "file_extension": ".py",
   "mimetype": "text/x-python",
   "name": "python",
   "nbconvert_exporter": "python",
   "pygments_lexer": "ipython3",
   "version": "3.5.2"
  }
 },
 "nbformat": 4,
 "nbformat_minor": 0
}
