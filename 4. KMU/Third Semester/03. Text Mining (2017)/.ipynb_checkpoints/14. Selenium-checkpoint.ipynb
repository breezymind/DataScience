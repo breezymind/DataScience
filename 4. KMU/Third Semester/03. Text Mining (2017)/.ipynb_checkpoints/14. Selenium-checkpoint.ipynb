{
 "cells": [
  {
   "cell_type": "markdown",
   "metadata": {},
   "source": [
    "# Selenium"
   ]
  },
  {
   "cell_type": "markdown",
   "metadata": {},
   "source": [
    "## 다음 웹툰"
   ]
  },
  {
   "cell_type": "code",
   "execution_count": 1,
   "metadata": {
    "collapsed": true
   },
   "outputs": [],
   "source": [
    "import requests"
   ]
  },
  {
   "cell_type": "code",
   "execution_count": 3,
   "metadata": {
    "collapsed": true
   },
   "outputs": [],
   "source": [
    "import lxml.html\n",
    "from bs4 import BeautifulSoup"
   ]
  },
  {
   "cell_type": "code",
   "execution_count": 4,
   "metadata": {
    "collapsed": true
   },
   "outputs": [],
   "source": [
    "res = requests.get('http://cartoon.media.daum.net')"
   ]
  },
  {
   "cell_type": "code",
   "execution_count": 9,
   "metadata": {
    "collapsed": false
   },
   "outputs": [],
   "source": [
    "root = lxml.html.fromstring(res.content)"
   ]
  },
  {
   "cell_type": "code",
   "execution_count": 10,
   "metadata": {
    "collapsed": false
   },
   "outputs": [
    {
     "data": {
      "text/plain": [
       "[]"
      ]
     },
     "execution_count": 10,
     "metadata": {},
     "output_type": "execute_result"
    }
   ],
   "source": [
    "root.xpath('a.link_wt')"
   ]
  },
  {
   "cell_type": "code",
   "execution_count": 6,
   "metadata": {
    "collapsed": true
   },
   "outputs": [],
   "source": [
    "bs = BeautifulSoup(res.text, 'html.parser')"
   ]
  },
  {
   "cell_type": "code",
   "execution_count": 8,
   "metadata": {
    "collapsed": false
   },
   "outputs": [
    {
     "data": {
      "text/plain": [
       "[]"
      ]
     },
     "execution_count": 8,
     "metadata": {},
     "output_type": "execute_result"
    }
   ],
   "source": [
    "bs.find_all('a', class_=\"link_wt\")"
   ]
  },
  {
   "cell_type": "markdown",
   "metadata": {},
   "source": [
    "## 크롬 띄우기 "
   ]
  },
  {
   "cell_type": "code",
   "execution_count": 11,
   "metadata": {
    "collapsed": true
   },
   "outputs": [],
   "source": [
    "from selenium.webdriver import Chrome, Firefox"
   ]
  },
  {
   "cell_type": "code",
   "execution_count": 12,
   "metadata": {
    "collapsed": true
   },
   "outputs": [],
   "source": [
    "browser = Chrome(executable_path=r'D:\\DataScience\\chromedriver.exe')"
   ]
  },
  {
   "cell_type": "markdown",
   "metadata": {},
   "source": [
    "## GET"
   ]
  },
  {
   "cell_type": "code",
   "execution_count": 13,
   "metadata": {
    "collapsed": true
   },
   "outputs": [],
   "source": [
    "browser.get('http://cartoon.media.daum.net')"
   ]
  },
  {
   "cell_type": "markdown",
   "metadata": {},
   "source": [
    "## find_element"
   ]
  },
  {
   "cell_type": "code",
   "execution_count": 14,
   "metadata": {
    "collapsed": false
   },
   "outputs": [
    {
     "data": {
      "text/plain": [
       "<selenium.webdriver.remote.webelement.WebElement (session=\"dca21980ca57bb81370e350b5b353fa1\", element=\"0.5362855848611829-1\")>"
      ]
     },
     "execution_count": 14,
     "metadata": {},
     "output_type": "execute_result"
    }
   ],
   "source": [
    "browser.find_element_by_css_selector('a.link_wt')"
   ]
  },
  {
   "cell_type": "markdown",
   "metadata": {},
   "source": [
    "## find_elements"
   ]
  },
  {
   "cell_type": "code",
   "execution_count": 15,
   "metadata": {
    "collapsed": false
   },
   "outputs": [
    {
     "name": "stdout",
     "output_type": "stream",
     "text": [
      "빛나는 손을\n",
      "http://cartoon.media.daum.net/webtoon/view/Hand\n",
      "라디오 갤럭시\n",
      "http://cartoon.media.daum.net/webtoon/view/RadioGalaxy\n",
      "어떤 거짓말\n",
      "http://cartoon.media.daum.net/webtoon/view/AnythingLie\n",
      "성인이토록 보통의\n",
      "http://cartoon.media.daum.net/webtoon/view/NormalLikeThis\n",
      "반지하셋방\n",
      "http://cartoon.media.daum.net/webtoon/view/UnderRoom\n",
      "골든왈츠\n",
      "http://cartoon.media.daum.net/webtoon/view/GoldenWaltz\n",
      "오늘의 초능력\n",
      "http://cartoon.media.daum.net/webtoon/view/Supernatural\n",
      "메모리스트\n",
      "http://cartoon.media.daum.net/webtoon/view/MEMORIST\n",
      "발자국이 녹기 전에\n",
      "http://cartoon.media.daum.net/webtoon/view/BeforeWarm\n",
      "아쿠아맨\n",
      "http://cartoon.media.daum.net/webtoon/view/aquaman\n",
      "리안소울의 엑소클럽\n",
      "http://cartoon.media.daum.net/webtoon/view/ExoClub\n",
      "궁상가족\n",
      "http://cartoon.media.daum.net/webtoon/view/poverty\n",
      "얌얌숲 당근길 토요요\n",
      "http://cartoon.media.daum.net/webtoon/view/toyoyo\n",
      "홍도\n",
      "http://cartoon.media.daum.net/webtoon/view/hongdo\n",
      "천연 天緣\n",
      "http://cartoon.media.daum.net/webtoon/view/heavencouple\n",
      "레드스톰\n",
      "http://cartoon.media.daum.net/webtoon/view/redstorm\n",
      "무장\n",
      "http://cartoon.media.daum.net/webtoon/view/mujang\n"
     ]
    }
   ],
   "source": [
    "for element in browser.find_elements_by_css_selector('a.link_wt'):\n",
    "    try:\n",
    "        title = element.find_element_by_tag_name('strong').text\n",
    "    except:\n",
    "        pass\n",
    "    else:\n",
    "        link = element.get_attribute('href')\n",
    "        print(title)\n",
    "        print(link)"
   ]
  },
  {
   "cell_type": "markdown",
   "metadata": {},
   "source": [
    "## Click"
   ]
  },
  {
   "cell_type": "code",
   "execution_count": 26,
   "metadata": {
    "collapsed": true
   },
   "outputs": [],
   "source": [
    "monday_tab = browser.find_element_by_css_selector('a[data-day=\"mon\"]')"
   ]
  },
  {
   "cell_type": "code",
   "execution_count": 27,
   "metadata": {
    "collapsed": false
   },
   "outputs": [],
   "source": [
    "monday_tab.click()"
   ]
  },
  {
   "cell_type": "markdown",
   "metadata": {},
   "source": [
    "## 검색 버튼 클릭"
   ]
  },
  {
   "cell_type": "code",
   "execution_count": 28,
   "metadata": {
    "collapsed": true
   },
   "outputs": [],
   "source": [
    "search_button = browser.find_element_by_css_selector('#searchOpenBtn')"
   ]
  },
  {
   "cell_type": "code",
   "execution_count": 29,
   "metadata": {
    "collapsed": false
   },
   "outputs": [],
   "source": [
    "search_button.click()"
   ]
  },
  {
   "cell_type": "markdown",
   "metadata": {},
   "source": [
    "## '미생' 검색 "
   ]
  },
  {
   "cell_type": "code",
   "execution_count": 30,
   "metadata": {
    "collapsed": true
   },
   "outputs": [],
   "source": [
    "search = browser.find_element_by_id('searchKeyword')"
   ]
  },
  {
   "cell_type": "code",
   "execution_count": 31,
   "metadata": {
    "collapsed": true
   },
   "outputs": [],
   "source": [
    "search.send_keys('미생')"
   ]
  },
  {
   "cell_type": "markdown",
   "metadata": {},
   "source": [
    "## 엔터 입력"
   ]
  },
  {
   "cell_type": "code",
   "execution_count": 32,
   "metadata": {
    "collapsed": true
   },
   "outputs": [],
   "source": [
    "from selenium.webdriver.common.keys import Keys \n",
    "# 키, 탭, 엔터, 스페이스 이런걸 할 수 있다. "
   ]
  },
  {
   "cell_type": "code",
   "execution_count": 33,
   "metadata": {
    "collapsed": true
   },
   "outputs": [],
   "source": [
    "search.send_keys(Keys.ENTER)"
   ]
  },
  {
   "cell_type": "markdown",
   "metadata": {},
   "source": [
    "## wait\n",
    " - find_element를 했을 때 페이지 로딩이 끝나지 않았으면 최대 10초까지 기다림"
   ]
  },
  {
   "cell_type": "code",
   "execution_count": 34,
   "metadata": {
    "collapsed": true
   },
   "outputs": [],
   "source": [
    "browser.implicitly_wait(10)"
   ]
  },
  {
   "cell_type": "markdown",
   "metadata": {},
   "source": [
    "## 창 닫기"
   ]
  },
  {
   "cell_type": "code",
   "execution_count": 35,
   "metadata": {
    "collapsed": true
   },
   "outputs": [],
   "source": [
    "browser.quit()"
   ]
  },
  {
   "cell_type": "markdown",
   "metadata": {},
   "source": [
    "## 셀레늄 문서\n",
    " - 자세한 내용은 <a href='http://selenium-python.readthedocs.io/index.html'>Selenium Python</a> 문서를 참고"
   ]
  },
  {
   "cell_type": "markdown",
   "metadata": {},
   "source": [
    "# 네이버 카페 "
   ]
  },
  {
   "cell_type": "code",
   "execution_count": 36,
   "metadata": {
    "collapsed": true
   },
   "outputs": [],
   "source": [
    "import requests\n",
    "import lxml.html"
   ]
  },
  {
   "cell_type": "markdown",
   "metadata": {},
   "source": [
    "- 네이버 카페는 PC용 화면보다 모바일용 화면이 구조가 단순해서 스크래핑이 쉽습니다.\n",
    "- 모바일용 화면으로 접속하려면 카페 URL 앞에 m.을 붙이면 됩니다.\n",
    "\n",
    "예) http://m.cafe.naver.com/remonterrace"
   ]
  },
  {
   "cell_type": "code",
   "execution_count": 38,
   "metadata": {
    "collapsed": true
   },
   "outputs": [],
   "source": [
    "# 게시물의 모바일 화면용 URL\n",
    "article_url = 'http://m.cafe.naver.com/ArticleRead.nhn?clubid=10298136&articleid=20670074&page=1&boardtype=L&menuid=29'"
   ]
  },
  {
   "cell_type": "markdown",
   "metadata": {},
   "source": [
    "### 일반적인 방법\n",
    " - 일반적인 방법으로 접근하면 본문을 가져올 수 없습니다"
   ]
  },
  {
   "cell_type": "code",
   "execution_count": 39,
   "metadata": {
    "collapsed": false
   },
   "outputs": [
    {
     "data": {
      "text/plain": [
       "[]"
      ]
     },
     "execution_count": 39,
     "metadata": {},
     "output_type": "execute_result"
    }
   ],
   "source": [
    "res = requests.get(article_url)\n",
    "element = lxml.html.fromstring(res.text)\n",
    "element.xpath('.//div[@id=\"postContent\"]')"
   ]
  },
  {
   "cell_type": "markdown",
   "metadata": {},
   "source": [
    "### 검색을 가장하기\n",
    " - 검색 결과 페이지에서 해당 게시물에 접근하는 것처럼 가장하면 본문을 보여줍니다."
   ]
  },
  {
   "cell_type": "code",
   "execution_count": 48,
   "metadata": {
    "collapsed": true
   },
   "outputs": [],
   "source": [
    "res = requests.get(article_url,\n",
    "                   headers={'referer': 'https://search.naver.com/search.naver?query=123'})"
   ]
  },
  {
   "cell_type": "code",
   "execution_count": 49,
   "metadata": {
    "collapsed": false
   },
   "outputs": [
    {
     "data": {
      "text/plain": [
       "[<Element div at 0x2110c0bb188>]"
      ]
     },
     "execution_count": 49,
     "metadata": {},
     "output_type": "execute_result"
    }
   ],
   "source": [
    "element = lxml.html.fromstring(res.text)\n",
    "element.xpath('.//div[@id=\"postContent\"]')"
   ]
  },
  {
   "cell_type": "code",
   "execution_count": 50,
   "metadata": {
    "collapsed": false
   },
   "outputs": [
    {
     "data": {
      "text/plain": [
       "'\\n\\n\\t\\t \\n\\t\\t \\n\\t     \\n\\t\\n\\t\\t\\n\\t\\t\\n\\t\\t\\n\\t\\t\\t\\n\\t\\t\\t\\n\\t\\t\\t\\t\\n\\t\\t\\t\\t\\t\\n\\t\\t\\t\\t\\t\\n\\t\\t\\t\\t\\t\\n\\t\\t\\t\\t\\t거구인 남편덕에 퀸사이즈도 좁아서 스트레스받던차에 매트리스도 좀 꺼진듯해서 아예 킹사이즈로 바꿨어요!! 부천 가구집에서 바꿨는데 수입매트리스 전문인가봐요 첨에 뭣도모르고 갔다가 폼매트리스 누워보고 진짜 신랑이랑저랑 너무맘에들어서 바로계약했어요 유명브랜드들 다돌아보고 그냥 탐탁치않았는데 오히려 여기가구매장에서 완전 득템한기분이네요 이게 이태리수입매트 리스라고 하시던데 그래서그런가 완전편하고 가격도 저렴해요 10년as에다가 프레임도 공방이라그런지 주문제작도가능하고 원목인데 저렴해요ㅋㅋ저런프레임갖고싶었는데 인터넷으로도 너무비싸던데 거의 반가격으로샀어요 2층으로되어있고 암튼규모가컸어요 일단저렴하게사서 기분좋네요 매장분들 다친절하시고 무엇보다 매트구입후에도 개인적으로 살짝맘에걸리는부분 말씀드렸더니 친절하게 대응해주시고 바로쿨하게 처리해주셔서 놀랬어요 제가 제입으로 사장님께 카페에 진짜홍보많이할께요!!!호언장담했답니다ㅋㅋ신랑이 허리가안좋고 전 목이안좋은데 지금일주일째인데 일어날때마다 완전만족해요 맨날서로얘기해요ㅋㅋ 전부천에서 구입했는데 가까이계신분들 가보셔도좋을것같아요^^\\n\\t\\t\\t\\t\\t\\n\\t\\t\\t\\t\\t\\n\\t\\t\\t\\t\\n\\t\\t\\t\\n\\t\\t\\t\\t\\n\\t\\t\\n\\t\\t\\n\\t'"
      ]
     },
     "execution_count": 50,
     "metadata": {},
     "output_type": "execute_result"
    }
   ],
   "source": [
    "element.find('.//div[@id=\"postContent\"]').text_content()"
   ]
  },
  {
   "cell_type": "code",
   "execution_count": 53,
   "metadata": {
    "collapsed": false
   },
   "outputs": [
    {
     "data": {
      "text/plain": [
       "'\\n\\n\\t\\t \\n\\t\\t \\n\\t     \\n\\t\\n\\t\\t\\n\\t\\t\\n\\t\\t\\n\\t\\t\\t\\n\\t\\t\\t\\n\\t\\t\\t\\t\\n\\t\\t\\t\\t\\t\\n\\t\\t\\t\\t\\t\\n\\t\\t\\t\\t\\t\\n\\t\\t\\t\\t\\t거구인 남편덕에 퀸사이즈도 좁아서 스트레스받던차에 매트리스도 좀 꺼진듯해서 아예 킹사이즈로 바꿨어요!! 부천 가구집에서 바꿨는데 수입매트리스 전문인가봐요 첨에 뭣도모르고 갔다가 폼매트리스 누워보고 진짜 신랑이랑저랑 너무맘에들어서 바로계약했어요 유명브랜드들 다돌아보고 그냥 탐탁치않았는데 오히려 여기가구매장에서 완전 득템한기분이네요 이게 이태리수입매트 리스라고 하시던데 그래서그런가 완전편하고 가격도 저렴해요 10년as에다가 프레임도 공방이라그런지 주문제작도가능하고 원목인데 저렴해요ㅋㅋ저런프레임갖고싶었는데 인터넷으로도 너무비싸던데 거의 반가격으로샀어요 2층으로되어있고 암튼규모가컸어요 일단저렴하게사서 기분좋네요 매장분들 다친절하시고 무엇보다 매트구입후에도 개인적으로 살짝맘에걸리는부분 말씀드렸더니 친절하게 대응해주시고 바로쿨하게 처리해주셔서 놀랬어요 제가 제입으로 사장님께 카페에 진짜홍보많이할께요!!!호언장담했답니다ㅋㅋ신랑이 허리가안좋고 전 목이안좋은데 지금일주일째인데 일어날때마다 완전만족해요 맨날서로얘기해요ㅋㅋ 전부천에서 구입했는데 가까이계신분들 가보셔도좋을것같아요^^\\n\\t\\t\\t\\t\\t\\n\\t\\t\\t\\t\\t\\n\\t\\t\\t\\t\\n\\t\\t\\t\\n\\t\\t\\t\\t\\n\\t\\t\\n\\t\\t\\n\\t'"
      ]
     },
     "execution_count": 53,
     "metadata": {},
     "output_type": "execute_result"
    }
   ],
   "source": [
    "element.cssselect('#postContent')[0].text_content()"
   ]
  }
 ],
 "metadata": {
  "kernelspec": {
   "display_name": "Python [py35]",
   "language": "python",
   "name": "Python [py35]"
  },
  "language_info": {
   "codemirror_mode": {
    "name": "ipython",
    "version": 3
   },
   "file_extension": ".py",
   "mimetype": "text/x-python",
   "name": "python",
   "nbconvert_exporter": "python",
   "pygments_lexer": "ipython3",
   "version": "3.5.2"
  }
 },
 "nbformat": 4,
 "nbformat_minor": 0
}
