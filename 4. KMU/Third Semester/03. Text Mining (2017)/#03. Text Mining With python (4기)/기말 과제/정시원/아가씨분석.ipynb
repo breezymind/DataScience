{
 "cells": [
  {
   "cell_type": "code",
   "execution_count": 19,
   "metadata": {
    "collapsed": true
   },
   "outputs": [],
   "source": [
    "import requests"
   ]
  },
  {
   "cell_type": "code",
   "execution_count": 20,
   "metadata": {
    "collapsed": true
   },
   "outputs": [],
   "source": [
    "import lxml.html"
   ]
  },
  {
   "cell_type": "code",
   "execution_count": 21,
   "metadata": {
    "collapsed": true
   },
   "outputs": [],
   "source": [
    "reviews = []\n",
    "\n",
    "url = 'http://movie.naver.com/movie/bi/mi/pointWriteFormList.nhn?code=123519&type=before'\n",
    "\n",
    "for page in range(100, 500):\n",
    "    res = requests.get(url.format(page))\n",
    "    element = lxml.html.fromstring(res.text)\n",
    "    for e in element.xpath('.//div[@class=\"score_result\"]//li'):\n",
    "        star = e.find('.//div[@class=\"star_score\"]//em').text_content()\n",
    "        comment = e.find('.//div[@class=\"score_reple\"]//p').text_content()\n",
    "        reviews.append([star, comment[3:]])"
   ]
  },
  {
   "cell_type": "code",
   "execution_count": 22,
   "metadata": {
    "collapsed": true
   },
   "outputs": [],
   "source": [
    "import csv\n",
    "with open('review_before_The Handmaiden.csv', 'w', encoding='utf8') as f:\n",
    "    w = csv.writer(f)\n",
    "    w.writerow(['star', 'comment'])\n",
    "    w.writerows(reviews)"
   ]
  },
  {
   "cell_type": "code",
   "execution_count": 23,
   "metadata": {
    "collapsed": true
   },
   "outputs": [],
   "source": [
    "from sklearn.feature_extraction.text import CountVectorizer"
   ]
  },
  {
   "cell_type": "code",
   "execution_count": 24,
   "metadata": {
    "collapsed": true
   },
   "outputs": [],
   "source": [
    "from konlpy.tag import Twitter"
   ]
  },
  {
   "cell_type": "code",
   "execution_count": 25,
   "metadata": {
    "collapsed": true
   },
   "outputs": [],
   "source": [
    "tagger = Twitter()"
   ]
  },
  {
   "cell_type": "code",
   "execution_count": 26,
   "metadata": {
    "collapsed": true
   },
   "outputs": [],
   "source": [
    "def get_word(text):\n",
    "    nouns = tagger.nouns(text)\n",
    "    return [noun for noun in nouns if len(noun) > 1]"
   ]
  },
  {
   "cell_type": "code",
   "execution_count": 27,
   "metadata": {
    "collapsed": true
   },
   "outputs": [],
   "source": [
    "cv = CountVectorizer(tokenizer=get_word, max_features=1000)"
   ]
  },
  {
   "cell_type": "code",
   "execution_count": 28,
   "metadata": {
    "collapsed": true
   },
   "outputs": [],
   "source": [
    "tdm = cv.fit_transform([r[1] for r in reviews])"
   ]
  },
  {
   "cell_type": "code",
   "execution_count": 29,
   "metadata": {
    "collapsed": true
   },
   "outputs": [],
   "source": [
    "noun_list = cv.get_feature_names()"
   ]
  },
  {
   "cell_type": "code",
   "execution_count": 30,
   "metadata": {
    "collapsed": true
   },
   "outputs": [],
   "source": [
    "import numpy"
   ]
  },
  {
   "cell_type": "code",
   "execution_count": 31,
   "metadata": {
    "collapsed": true
   },
   "outputs": [],
   "source": [
    "numpy.save('tdm.npy', tdm)"
   ]
  },
  {
   "cell_type": "code",
   "execution_count": 35,
   "metadata": {
    "collapsed": true
   },
   "outputs": [],
   "source": [
    "with open('nouns_before_The Handmaiden.txt', 'w', encoding='utf8') as f:\n",
    "    f.write('\\n'.join(noun_list))"
   ]
  },
  {
   "cell_type": "code",
   "execution_count": null,
   "metadata": {
    "collapsed": true
   },
   "outputs": [],
   "source": []
  },
  {
   "cell_type": "code",
   "execution_count": 36,
   "metadata": {
    "collapsed": true
   },
   "outputs": [],
   "source": [
    "tdm = numpy.load('tdm.npy').tolist()"
   ]
  },
  {
   "cell_type": "code",
   "execution_count": 37,
   "metadata": {
    "collapsed": false
   },
   "outputs": [],
   "source": [
    "with open('nouns_before_The Handmaiden.txt', encoding='utf8') as f:\n",
    "    noun_list = f.read().splitlines()"
   ]
  },
  {
   "cell_type": "code",
   "execution_count": 38,
   "metadata": {
    "collapsed": true
   },
   "outputs": [],
   "source": [
    "from sklearn.cross_validation import train_test_split"
   ]
  },
  {
   "cell_type": "code",
   "execution_count": 39,
   "metadata": {
    "collapsed": true
   },
   "outputs": [],
   "source": [
    "stars = [int(r[0]) for r in reviews]"
   ]
  },
  {
   "cell_type": "code",
   "execution_count": 40,
   "metadata": {
    "collapsed": true
   },
   "outputs": [],
   "source": [
    "X_train, X_test, y_train, y_test = train_test_split(tdm, stars, test_size=0.2, random_state=42)"
   ]
  },
  {
   "cell_type": "code",
   "execution_count": 41,
   "metadata": {
    "collapsed": true
   },
   "outputs": [],
   "source": [
    "from sklearn import linear_model"
   ]
  },
  {
   "cell_type": "code",
   "execution_count": 42,
   "metadata": {
    "collapsed": true
   },
   "outputs": [],
   "source": [
    "lm = linear_model.LinearRegression()"
   ]
  },
  {
   "cell_type": "code",
   "execution_count": 43,
   "metadata": {
    "collapsed": false
   },
   "outputs": [
    {
     "data": {
      "text/plain": [
       "LinearRegression(copy_X=True, fit_intercept=True, n_jobs=1, normalize=False)"
      ]
     },
     "execution_count": 43,
     "metadata": {},
     "output_type": "execute_result"
    }
   ],
   "source": [
    "lm.fit (X_train, y_train)"
   ]
  },
  {
   "cell_type": "code",
   "execution_count": 44,
   "metadata": {
    "collapsed": true
   },
   "outputs": [],
   "source": [
    "import operator"
   ]
  },
  {
   "cell_type": "code",
   "execution_count": 45,
   "metadata": {
    "collapsed": true
   },
   "outputs": [],
   "source": [
    "def get_important_words(model, positive=True, n=8):\n",
    "    return sorted(list(zip(noun_list, model.coef_)), key=operator.itemgetter(1), reverse=positive)[:n]"
   ]
  },
  {
   "cell_type": "code",
   "execution_count": 46,
   "metadata": {
    "collapsed": false
   },
   "outputs": [
    {
     "data": {
      "text/plain": [
       "[('대감', 0.20249999999999987),\n",
       " ('배우', 0.20249999999999987),\n",
       " ('폭발', 0.20249999999999987),\n",
       " ('하정우', 0.20249999999999987),\n",
       " ('확정', 0.20249999999999987),\n",
       " ('박찬욱', 0.18909458834413007),\n",
       " ('원작', 0.18909458834413007),\n",
       " ('스미스', 0.15500231267346601)]"
      ]
     },
     "execution_count": 46,
     "metadata": {},
     "output_type": "execute_result"
    }
   ],
   "source": [
    "get_important_words(lm)"
   ]
  },
  {
   "cell_type": "code",
   "execution_count": 47,
   "metadata": {
    "collapsed": false
   },
   "outputs": [
    {
     "data": {
      "text/plain": [
       "[('동성애', -0.45352451433855617),\n",
       " ('여성', -0.30234967622570325),\n",
       " ('가치', -0.15117483811285162),\n",
       " ('광고', -0.15117483811285162),\n",
       " ('남성', -0.15117483811285162),\n",
       " ('노리개', -0.15117483811285162),\n",
       " ('당시', -0.15117483811285162),\n",
       " ('대한', -0.15117483811285162)]"
      ]
     },
     "execution_count": 47,
     "metadata": {},
     "output_type": "execute_result"
    }
   ],
   "source": [
    "get_important_words(lm,False)"
   ]
  },
  {
   "cell_type": "code",
   "execution_count": 48,
   "metadata": {
    "collapsed": false
   },
   "outputs": [
    {
     "data": {
      "text/plain": [
       "1.0"
      ]
     },
     "execution_count": 48,
     "metadata": {},
     "output_type": "execute_result"
    }
   ],
   "source": [
    "lm.score(X_train, y_train)"
   ]
  },
  {
   "cell_type": "code",
   "execution_count": 49,
   "metadata": {
    "collapsed": false
   },
   "outputs": [
    {
     "data": {
      "text/plain": [
       "1.0"
      ]
     },
     "execution_count": 49,
     "metadata": {},
     "output_type": "execute_result"
    }
   ],
   "source": [
    "lm.score(X_test, y_test)"
   ]
  },
  {
   "cell_type": "code",
   "execution_count": 94,
   "metadata": {
    "collapsed": true
   },
   "outputs": [],
   "source": [
    "reviews = []\n",
    "\n",
    "url = 'http://movie.naver.com/movie/bi/mi/pointWriteFormList.nhn?code=123519&type=after'\n",
    "\n",
    "for page in range(100, 500):\n",
    "    res = requests.get(url.format(page))\n",
    "    element = lxml.html.fromstring(res.text)\n",
    "    for e in element.xpath('.//div[@class=\"score_result\"]//li'):\n",
    "        star = e.find('.//div[@class=\"star_score\"]//em').text_content()\n",
    "        comment = e.find('.//div[@class=\"score_reple\"]//p').text_content()\n",
    "        reviews.append([star, comment[3:]])"
   ]
  },
  {
   "cell_type": "code",
   "execution_count": 95,
   "metadata": {
    "collapsed": true
   },
   "outputs": [],
   "source": [
    "import csv\n",
    "with open('review_after_The Handmaiden.csv', 'w', encoding='utf8') as f:\n",
    "    w = csv.writer(f)\n",
    "    w.writerow(['star', 'comment'])\n",
    "    w.writerows(reviews)"
   ]
  },
  {
   "cell_type": "code",
   "execution_count": null,
   "metadata": {
    "collapsed": true
   },
   "outputs": [],
   "source": []
  },
  {
   "cell_type": "code",
   "execution_count": null,
   "metadata": {
    "collapsed": true
   },
   "outputs": [],
   "source": []
  },
  {
   "cell_type": "code",
   "execution_count": 56,
   "metadata": {
    "collapsed": true
   },
   "outputs": [],
   "source": [
    "from sklearn.feature_extraction.text import CountVectorizer"
   ]
  },
  {
   "cell_type": "code",
   "execution_count": 57,
   "metadata": {
    "collapsed": true
   },
   "outputs": [],
   "source": [
    "from konlpy.tag import Twitter"
   ]
  },
  {
   "cell_type": "code",
   "execution_count": 58,
   "metadata": {
    "collapsed": true
   },
   "outputs": [],
   "source": [
    "tagger = Twitter()"
   ]
  },
  {
   "cell_type": "code",
   "execution_count": 59,
   "metadata": {
    "collapsed": true
   },
   "outputs": [],
   "source": [
    "cv = CountVectorizer(tokenizer=get_word, max_features=1000)"
   ]
  },
  {
   "cell_type": "code",
   "execution_count": 60,
   "metadata": {
    "collapsed": true
   },
   "outputs": [],
   "source": [
    "tdm = cv.fit_transform([r[1] for r in reviews])"
   ]
  },
  {
   "cell_type": "code",
   "execution_count": 61,
   "metadata": {
    "collapsed": true
   },
   "outputs": [],
   "source": [
    "noun_list = cv.get_feature_names()"
   ]
  },
  {
   "cell_type": "code",
   "execution_count": 62,
   "metadata": {
    "collapsed": true
   },
   "outputs": [],
   "source": [
    "numpy.save('tdm.npy', tdm)"
   ]
  },
  {
   "cell_type": "code",
   "execution_count": 63,
   "metadata": {
    "collapsed": true
   },
   "outputs": [],
   "source": [
    "with open('nouns_after_The Handmaiden.txt', 'w', encoding='utf8') as f:\n",
    "    f.write('\\n'.join(noun_list))"
   ]
  },
  {
   "cell_type": "code",
   "execution_count": 64,
   "metadata": {
    "collapsed": true
   },
   "outputs": [],
   "source": [
    "tdm = numpy.load('tdm.npy').tolist()"
   ]
  },
  {
   "cell_type": "code",
   "execution_count": 65,
   "metadata": {
    "collapsed": true
   },
   "outputs": [],
   "source": [
    "with open('nouns_after_The Handmaiden.txt', encoding='utf8') as f:\n",
    "    noun_list = f.read().splitlines()"
   ]
  },
  {
   "cell_type": "code",
   "execution_count": 66,
   "metadata": {
    "collapsed": true
   },
   "outputs": [],
   "source": [
    "stars = [int(r[0]) for r in reviews]"
   ]
  },
  {
   "cell_type": "code",
   "execution_count": 67,
   "metadata": {
    "collapsed": true
   },
   "outputs": [],
   "source": [
    "X_train, X_test, y_train, y_test = train_test_split(tdm, stars, test_size=0.2, random_state=42)"
   ]
  },
  {
   "cell_type": "code",
   "execution_count": 68,
   "metadata": {
    "collapsed": true
   },
   "outputs": [],
   "source": [
    "from sklearn import linear_model"
   ]
  },
  {
   "cell_type": "code",
   "execution_count": 69,
   "metadata": {
    "collapsed": true
   },
   "outputs": [],
   "source": [
    "lm = linear_model.LinearRegression()"
   ]
  },
  {
   "cell_type": "code",
   "execution_count": 70,
   "metadata": {
    "collapsed": false
   },
   "outputs": [
    {
     "data": {
      "text/plain": [
       "LinearRegression(copy_X=True, fit_intercept=True, n_jobs=1, normalize=False)"
      ]
     },
     "execution_count": 70,
     "metadata": {},
     "output_type": "execute_result"
    }
   ],
   "source": [
    "lm.fit (X_train, y_train)"
   ]
  },
  {
   "cell_type": "code",
   "execution_count": 71,
   "metadata": {
    "collapsed": true
   },
   "outputs": [],
   "source": [
    "def get_important_words(model, positive=True, n=8):\n",
    "    return sorted(list(zip(noun_list, model.coef_)), key=operator.itemgetter(1), reverse=positive)[:n]"
   ]
  },
  {
   "cell_type": "code",
   "execution_count": 72,
   "metadata": {
    "collapsed": false
   },
   "outputs": [
    {
     "data": {
      "text/plain": [
       "[('하정우', 0.38062500000000027),\n",
       " ('김태', 0.34515625000000177),\n",
       " ('리라', 0.34515625000000177),\n",
       " ('신인', 0.34515625000000177),\n",
       " ('정말', 0.34515625000000177),\n",
       " ('관람객', 0.076124999999999207),\n",
       " ('구원', 0.076124999999999207),\n",
       " ('마코', 0.076124999999999207)]"
      ]
     },
     "execution_count": 72,
     "metadata": {},
     "output_type": "execute_result"
    }
   ],
   "source": [
    "get_important_words(lm)"
   ]
  },
  {
   "cell_type": "code",
   "execution_count": 73,
   "metadata": {
    "collapsed": false
   },
   "outputs": [
    {
     "data": {
      "text/plain": [
       "[('미술감독', -1.6193749999999998),\n",
       " ('정사', -0.058988095238130513),\n",
       " ('굴곡', -0.029494047619065256),\n",
       " ('남성', -0.029494047619065256),\n",
       " ('내부', -0.029494047619065256),\n",
       " ('달리', -0.029494047619065256),\n",
       " ('당시', -0.029494047619065256),\n",
       " ('라인', -0.029494047619065256)]"
      ]
     },
     "execution_count": 73,
     "metadata": {},
     "output_type": "execute_result"
    }
   ],
   "source": [
    "get_important_words(lm,False)"
   ]
  },
  {
   "cell_type": "code",
   "execution_count": null,
   "metadata": {
    "collapsed": true
   },
   "outputs": [],
   "source": []
  },
  {
   "cell_type": "code",
   "execution_count": 1,
   "metadata": {
    "collapsed": true
   },
   "outputs": [],
   "source": [
    "import requests\n",
    "import lxml.html\n",
    "import csv"
   ]
  },
  {
   "cell_type": "code",
   "execution_count": 6,
   "metadata": {
    "collapsed": true
   },
   "outputs": [],
   "source": [
    "url = 'http://news.naver.com/main/search/search.nhn?query=%BF%B5%C8%AD+%BE%C6%B0%A1%BE%BE&ie=MS949&x=0&y=0&page={}'"
   ]
  },
  {
   "cell_type": "code",
   "execution_count": 7,
   "metadata": {
    "collapsed": true
   },
   "outputs": [],
   "source": [
    "with open('news_The Handmaiden.csv', 'w', encoding='utf8') as f:\n",
    "    writer = csv.writer(f)\n",
    "    for i in range(1, 21):\n",
    "        res = requests.get(url.format(i))  # 기사 목록\n",
    "        element = lxml.html.fromstring(res.text)\n",
    "        for news_link in element.xpath('.//a[@class=\"go_naver\"]'):\n",
    "            try:\n",
    "                res = requests.get(news_link.attrib['href'])   # 네이버 뉴스 링크\n",
    "                news = lxml.html.fromstring(res.text)\n",
    "                body = news.xpath('.//div[@id=\"articleBodyContents\"]')[0]\n",
    "                writer.writerow([body.text_content()])\n",
    "            except:\n",
    "                continue"
   ]
  },
  {
   "cell_type": "code",
   "execution_count": 8,
   "metadata": {
    "collapsed": true
   },
   "outputs": [],
   "source": [
    "news = []\n",
    "with open('news_The Handmaiden.csv', encoding='utf8', newline='\\r\\n') as f:\n",
    "    reader = csv.reader(f)\n",
    "    for row in reader:\n",
    "        news.append(row[0])"
   ]
  },
  {
   "cell_type": "code",
   "execution_count": 9,
   "metadata": {
    "collapsed": false
   },
   "outputs": [
    {
     "data": {
      "text/plain": [
       "'\\r\\r\\n\\t\\r\\r\\n\\t\\r\\r\\n\\t[한국경제TV 트렌드연예팀 조은애 기자]영화 \\'아가씨\\'에서 히데코의 어린 시절을 연기한 아역 배우 조은형이 주목받고 있다.\\'아가씨\\'는 1930년대 일제강점기 조선, 막대한 재산을 상속받게 된 귀족 아가씨와 아가씨의 재산을 노리는 백작, 그리고 백작에게 거래를 제안받은 하녀와 아가씨의 후견인까지, 돈과 마음을 뺏기 위해 서로 속고 속이는 인물들의 이야기를 그린 작품.극중 귀족 아가씨 히데코의 어린 시절을 연기한 아역 배우 조은형이 나이답지 않은 뛰어난 연기력으로 관객들의 호평을 이끌어내고 있다.조은형은 부모를 잃고 후견인 코우즈키의 저택에 들어온 후 낯선 환경에서 느끼는 불안함과 외로움을 섬세하게 표현해냈다. 이에 회상신 만으로도 강렬한 존재감을 뿜어내며 깊은 인상을 심어준다.특히 후견인 코우즈키에게 억압 당하는 모습, 코우즈키가 없는 곳에서 날카롭게 돌변하는 어린 히데코의 모습을 탁월하게 소화해낸 그의 연기는 긴장감을 배가시킨다.박찬욱 감독은 \"조은형은 대단한 배우다. 기존 시나리오에는 어린 히데코의 나이가 5세, 8세, 10세 이렇게 세 연령대였으나 오디션 과정에서 조은형 배우의 연기를 본 후 혼자 모든 연령층의 연기를 다 해도 될 것 같다는 확신이 들었다\"고 극찬했다. 배우 김민희 역시 \"히데코의 어린 시절을 정말 잘 소화해줬다. 영화를 보고 난 후 중요한 역할을 잘 해내 준 조은형 배우에게 정말 고마웠다\"고 전해 눈길을 모았다.한편 \\'아가씨\\'는 전국 극장가에서 상영 중이다.(사진=CJ엔터테인먼트)트렌드연예팀 조은애기자 eun@wowtv.co.kr[핫!영상] 야구공이 탄생하는 과정 `정말 신기해`[핫!영상] 잡고말테야...[핫!영상] 영하 40도의 위력은 어느 정도?[핫!영상] 코브라가 주인한테 대들때 주인의 반응 `폭소`ⓒ 한국경제TV, 무단 전재 및 재배포 금지\\r\\r\\n\\t\\r\\r\\n\\t'"
      ]
     },
     "execution_count": 9,
     "metadata": {},
     "output_type": "execute_result"
    }
   ],
   "source": [
    "news[0]"
   ]
  },
  {
   "cell_type": "code",
   "execution_count": 10,
   "metadata": {
    "collapsed": true
   },
   "outputs": [],
   "source": [
    "from konlpy.tag import Twitter\n",
    "tagger = Twitter()"
   ]
  },
  {
   "cell_type": "code",
   "execution_count": 11,
   "metadata": {
    "collapsed": true
   },
   "outputs": [],
   "source": [
    "from sklearn.feature_extraction.text import CountVectorizer"
   ]
  },
  {
   "cell_type": "code",
   "execution_count": 12,
   "metadata": {
    "collapsed": true
   },
   "outputs": [],
   "source": [
    "cv = CountVectorizer(tokenizer=tagger.nouns, max_features=50)"
   ]
  },
  {
   "cell_type": "code",
   "execution_count": 13,
   "metadata": {
    "collapsed": true
   },
   "outputs": [],
   "source": [
    "tdf = cv.fit_transform(news)"
   ]
  },
  {
   "cell_type": "code",
   "execution_count": 14,
   "metadata": {
    "collapsed": false
   },
   "outputs": [
    {
     "data": {
      "text/plain": [
       "<bound method spmatrix.todense of <19x50 sparse matrix of type '<class 'numpy.int64'>'\n",
       "\twith 452 stored elements in Compressed Sparse Row format>>"
      ]
     },
     "execution_count": 14,
     "metadata": {},
     "output_type": "execute_result"
    }
   ],
   "source": [
    "tdf\n",
    "tdf.todense"
   ]
  },
  {
   "cell_type": "code",
   "execution_count": 15,
   "metadata": {
    "collapsed": true
   },
   "outputs": [],
   "source": [
    "words = cv.get_feature_names()"
   ]
  },
  {
   "cell_type": "code",
   "execution_count": 16,
   "metadata": {
    "collapsed": false
   },
   "outputs": [
    {
     "data": {
      "text/plain": [
       "['감독',\n",
       " '개',\n",
       " '개봉',\n",
       " '것',\n",
       " '경제',\n",
       " '고',\n",
       " '공개',\n",
       " '관객',\n",
       " '그',\n",
       " '금지',\n",
       " '기자',\n",
       " '년',\n",
       " '뉴스',\n",
       " '다운로드',\n",
       " '돌파',\n",
       " '등',\n",
       " '때',\n",
       " '를',\n",
       " '만',\n",
       " '며',\n",
       " '명',\n",
       " '무단',\n",
       " '박찬욱',\n",
       " '배우',\n",
       " '배포',\n",
       " '사람',\n",
       " '사진',\n",
       " '소설',\n",
       " '속',\n",
       " '수',\n",
       " '스크린',\n",
       " '아가씨',\n",
       " '연기',\n",
       " '영상',\n",
       " '영화',\n",
       " '원작',\n",
       " '위',\n",
       " '의',\n",
       " '의상',\n",
       " '이',\n",
       " '이야기',\n",
       " '일',\n",
       " '재',\n",
       " '전재',\n",
       " '조',\n",
       " '조진웅',\n",
       " '하나',\n",
       " '하정우',\n",
       " '핫',\n",
       " '흥행']"
      ]
     },
     "execution_count": 16,
     "metadata": {},
     "output_type": "execute_result"
    }
   ],
   "source": [
    "words"
   ]
  },
  {
   "cell_type": "code",
   "execution_count": 17,
   "metadata": {
    "collapsed": true
   },
   "outputs": [],
   "source": [
    "def get_word(doc):\n",
    "    nouns = tagger.nouns(doc)\n",
    "    return [noun for noun in nouns if len(noun) > 1]"
   ]
  },
  {
   "cell_type": "code",
   "execution_count": 18,
   "metadata": {
    "collapsed": true
   },
   "outputs": [],
   "source": [
    "cv = CountVectorizer(tokenizer=get_word, max_features=50)"
   ]
  },
  {
   "cell_type": "code",
   "execution_count": 19,
   "metadata": {
    "collapsed": true
   },
   "outputs": [],
   "source": [
    "tdf = cv.fit_transform(news)"
   ]
  },
  {
   "cell_type": "code",
   "execution_count": 20,
   "metadata": {
    "collapsed": true
   },
   "outputs": [],
   "source": [
    "words = cv.get_feature_names()"
   ]
  },
  {
   "cell_type": "code",
   "execution_count": 21,
   "metadata": {
    "collapsed": false
   },
   "outputs": [
    {
     "data": {
      "text/plain": [
       "['감독',\n",
       " '개봉',\n",
       " '경제',\n",
       " '고객',\n",
       " '공개',\n",
       " '관객',\n",
       " '그때',\n",
       " '금지',\n",
       " '기자',\n",
       " '김민희',\n",
       " '뉴스',\n",
       " '다운로드',\n",
       " '데코',\n",
       " '돌파',\n",
       " '마음',\n",
       " '무단',\n",
       " '바흐',\n",
       " '박찬욱',\n",
       " '배우',\n",
       " '배포',\n",
       " '보이',\n",
       " '부분',\n",
       " '사냥',\n",
       " '사람',\n",
       " '사진',\n",
       " '소설',\n",
       " '스미스',\n",
       " '스크린',\n",
       " '아가씨',\n",
       " '연기',\n",
       " '영상',\n",
       " '영화',\n",
       " '원작',\n",
       " '위해',\n",
       " '의상',\n",
       " '이야기',\n",
       " '인기',\n",
       " '일본',\n",
       " '작품',\n",
       " '전재',\n",
       " '조진웅',\n",
       " '캐릭터',\n",
       " '콘텐츠',\n",
       " '트렌드',\n",
       " '포스터',\n",
       " '핑거',\n",
       " '하나',\n",
       " '하정우',\n",
       " '한국',\n",
       " '흥행']"
      ]
     },
     "execution_count": 21,
     "metadata": {},
     "output_type": "execute_result"
    }
   ],
   "source": [
    "words"
   ]
  },
  {
   "cell_type": "code",
   "execution_count": 22,
   "metadata": {
    "collapsed": true
   },
   "outputs": [],
   "source": [
    "import numpy"
   ]
  },
  {
   "cell_type": "code",
   "execution_count": 23,
   "metadata": {
    "collapsed": true
   },
   "outputs": [],
   "source": [
    "count_mat = tdf.sum(axis=0)"
   ]
  },
  {
   "cell_type": "code",
   "execution_count": 24,
   "metadata": {
    "collapsed": false
   },
   "outputs": [
    {
     "data": {
      "text/plain": [
       "matrix([[ 45,  23,  16,  10,  13,  19,   8,  15,  15,  11,  13,  14,   9,\n",
       "          12,   9,  15,   9,  27,  12,  15,   9,  10,  10,  16,  12,  14,\n",
       "          10,  18,  63,  11,  19, 100,  19,   8,  13,  27,  10,  10,   9,\n",
       "          15,  20,   9,   9,   8,  10,  10,  22,  19,   9,  12]], dtype=int64)"
      ]
     },
     "execution_count": 24,
     "metadata": {},
     "output_type": "execute_result"
    }
   ],
   "source": [
    "count_mat"
   ]
  },
  {
   "cell_type": "code",
   "execution_count": 25,
   "metadata": {
    "collapsed": true
   },
   "outputs": [],
   "source": [
    "count = numpy.squeeze(numpy.asarray(count_mat))"
   ]
  },
  {
   "cell_type": "code",
   "execution_count": 26,
   "metadata": {
    "collapsed": false
   },
   "outputs": [
    {
     "data": {
      "text/plain": [
       "array([ 45,  23,  16,  10,  13,  19,   8,  15,  15,  11,  13,  14,   9,\n",
       "        12,   9,  15,   9,  27,  12,  15,   9,  10,  10,  16,  12,  14,\n",
       "        10,  18,  63,  11,  19, 100,  19,   8,  13,  27,  10,  10,   9,\n",
       "        15,  20,   9,   9,   8,  10,  10,  22,  19,   9,  12], dtype=int64)"
      ]
     },
     "execution_count": 26,
     "metadata": {},
     "output_type": "execute_result"
    }
   ],
   "source": [
    "count"
   ]
  },
  {
   "cell_type": "code",
   "execution_count": 27,
   "metadata": {
    "collapsed": true
   },
   "outputs": [],
   "source": [
    "word_count = list(zip(words, count))"
   ]
  },
  {
   "cell_type": "code",
   "execution_count": 28,
   "metadata": {
    "collapsed": false
   },
   "outputs": [
    {
     "data": {
      "text/plain": [
       "[('감독', 45),\n",
       " ('개봉', 23),\n",
       " ('경제', 16),\n",
       " ('고객', 10),\n",
       " ('공개', 13),\n",
       " ('관객', 19),\n",
       " ('그때', 8),\n",
       " ('금지', 15),\n",
       " ('기자', 15),\n",
       " ('김민희', 11),\n",
       " ('뉴스', 13),\n",
       " ('다운로드', 14),\n",
       " ('데코', 9),\n",
       " ('돌파', 12),\n",
       " ('마음', 9),\n",
       " ('무단', 15),\n",
       " ('바흐', 9),\n",
       " ('박찬욱', 27),\n",
       " ('배우', 12),\n",
       " ('배포', 15),\n",
       " ('보이', 9),\n",
       " ('부분', 10),\n",
       " ('사냥', 10),\n",
       " ('사람', 16),\n",
       " ('사진', 12),\n",
       " ('소설', 14),\n",
       " ('스미스', 10),\n",
       " ('스크린', 18),\n",
       " ('아가씨', 63),\n",
       " ('연기', 11),\n",
       " ('영상', 19),\n",
       " ('영화', 100),\n",
       " ('원작', 19),\n",
       " ('위해', 8),\n",
       " ('의상', 13),\n",
       " ('이야기', 27),\n",
       " ('인기', 10),\n",
       " ('일본', 10),\n",
       " ('작품', 9),\n",
       " ('전재', 15),\n",
       " ('조진웅', 20),\n",
       " ('캐릭터', 9),\n",
       " ('콘텐츠', 9),\n",
       " ('트렌드', 8),\n",
       " ('포스터', 10),\n",
       " ('핑거', 10),\n",
       " ('하나', 22),\n",
       " ('하정우', 19),\n",
       " ('한국', 9),\n",
       " ('흥행', 12)]"
      ]
     },
     "execution_count": 28,
     "metadata": {},
     "output_type": "execute_result"
    }
   ],
   "source": [
    "word_count"
   ]
  },
  {
   "cell_type": "code",
   "execution_count": 29,
   "metadata": {
    "collapsed": true
   },
   "outputs": [],
   "source": [
    "import operator"
   ]
  },
  {
   "cell_type": "code",
   "execution_count": 30,
   "metadata": {
    "collapsed": false
   },
   "outputs": [
    {
     "data": {
      "text/plain": [
       "[('영화', 100),\n",
       " ('아가씨', 63),\n",
       " ('감독', 45),\n",
       " ('박찬욱', 27),\n",
       " ('이야기', 27),\n",
       " ('개봉', 23),\n",
       " ('하나', 22),\n",
       " ('조진웅', 20),\n",
       " ('관객', 19),\n",
       " ('영상', 19),\n",
       " ('원작', 19),\n",
       " ('하정우', 19),\n",
       " ('스크린', 18),\n",
       " ('경제', 16),\n",
       " ('사람', 16),\n",
       " ('금지', 15),\n",
       " ('기자', 15),\n",
       " ('무단', 15),\n",
       " ('배포', 15),\n",
       " ('전재', 15),\n",
       " ('다운로드', 14),\n",
       " ('소설', 14),\n",
       " ('공개', 13),\n",
       " ('뉴스', 13),\n",
       " ('의상', 13),\n",
       " ('돌파', 12),\n",
       " ('배우', 12),\n",
       " ('사진', 12),\n",
       " ('흥행', 12),\n",
       " ('김민희', 11),\n",
       " ('연기', 11),\n",
       " ('고객', 10),\n",
       " ('부분', 10),\n",
       " ('사냥', 10),\n",
       " ('스미스', 10),\n",
       " ('인기', 10),\n",
       " ('일본', 10),\n",
       " ('포스터', 10),\n",
       " ('핑거', 10),\n",
       " ('데코', 9),\n",
       " ('마음', 9),\n",
       " ('바흐', 9),\n",
       " ('보이', 9),\n",
       " ('작품', 9),\n",
       " ('캐릭터', 9),\n",
       " ('콘텐츠', 9),\n",
       " ('한국', 9),\n",
       " ('그때', 8),\n",
       " ('위해', 8),\n",
       " ('트렌드', 8)]"
      ]
     },
     "execution_count": 30,
     "metadata": {},
     "output_type": "execute_result"
    }
   ],
   "source": [
    "sorted(word_count, key=operator.itemgetter(1), reverse=True)"
   ]
  },
  {
   "cell_type": "code",
   "execution_count": 31,
   "metadata": {
    "collapsed": true
   },
   "outputs": [],
   "source": [
    "%matplotlib inline"
   ]
  },
  {
   "cell_type": "code",
   "execution_count": 32,
   "metadata": {
    "collapsed": true
   },
   "outputs": [],
   "source": [
    "from wordcloud import WordCloud"
   ]
  },
  {
   "cell_type": "code",
   "execution_count": 33,
   "metadata": {
    "collapsed": true
   },
   "outputs": [],
   "source": [
    "from matplotlib import pyplot"
   ]
  },
  {
   "cell_type": "code",
   "execution_count": 34,
   "metadata": {
    "collapsed": true
   },
   "outputs": [],
   "source": [
    "wc = WordCloud(font_path='C:\\\\Windows\\\\Fonts\\\\malgun.ttf', background_color='black', width=400, height=300)\n",
    "cloud = wc.generate_from_frequencies(word_count)"
   ]
  },
  {
   "cell_type": "code",
   "execution_count": 35,
   "metadata": {
    "collapsed": false
   },
   "outputs": [
    {
     "data": {
      "image/png": "[encoded data removed]",
      "text/plain": [
       "<matplotlib.figure.Figure at 0x9ab71d5fd0>"
      ]
     },
     "metadata": {},
     "output_type": "display_data"
    }
   ],
   "source": [
    "pyplot.figure(figsize=(12, 9))\n",
    "pyplot.imshow(cloud)\n",
    "pyplot.axis(\"off\")\n",
    "pyplot.show()"
   ]
  },
  {
   "cell_type": "code",
   "execution_count": null,
   "metadata": {
    "collapsed": true
   },
   "outputs": [],
   "source": []
  }
 ],
 "metadata": {
  "kernelspec": {
   "display_name": "Python 3",
   "language": "python",
   "name": "python3"
  },
  "language_info": {
   "codemirror_mode": {
    "name": "ipython",
    "version": 3
   },
   "file_extension": ".py",
   "mimetype": "text/x-python",
   "name": "python",
   "nbconvert_exporter": "python",
   "pygments_lexer": "ipython3",
   "version": "3.5.1"
  }
 },
 "nbformat": 4,
 "nbformat_minor": 0
}
