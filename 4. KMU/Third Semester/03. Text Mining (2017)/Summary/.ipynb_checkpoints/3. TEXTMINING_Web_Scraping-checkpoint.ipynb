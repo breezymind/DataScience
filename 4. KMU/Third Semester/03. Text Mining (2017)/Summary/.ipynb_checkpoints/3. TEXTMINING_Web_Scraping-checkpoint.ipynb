{
 "cells": [
  {
   "cell_type": "markdown",
   "metadata": {},
   "source": [
    "# Web Crawling \n",
    " - 기본적으로 텍스트 데이터를 가지고 위해서는 보통 기업 내부의 VOC 데이터 또는 텍스트 형태의 데이터를 가진 테이블을 활용하나 일반적으로 구하기 쉽거나 그렇지 않아 뉴스, SNS, 블로그 등 다양한 텍스트를 구하기 쉬운 웹의 정보를 이용한다.\n",
    " - requests : HTTP를 위한 패키지\n",
    " - lxml : HTML 처리\n",
    " - cssselect: HTML 처리 \n",
    " - beautiful soup : HTML 처리 "
   ]
  },
  {
   "cell_type": "markdown",
   "metadata": {},
   "source": [
    "## HTML Method\n",
    " - GET : 서버의 자원(resource)를 가지고 올때 사용\n",
    "  - 목록보기 \n",
    "  - 글보기\n",
    "  - 다운로드\n",
    " - POST : 서버에 자원을 추가할때 즉, 데이터를 추가할때\n",
    "  - 글쓰기\n",
    "  - 업로드\n",
    " - 구분이 명확하지 않아 소스와 브라우저의 개발자 도구를 통해 확인하여야 한다."
   ]
  },
  {
   "cell_type": "markdown",
   "metadata": {},
   "source": [
    "## HTTP Status Code\n",
    " - 3자리수\n",
    " - 2XX : Success\n",
    "  - 200 OK\n",
    " - 3XX : Redirection\n",
    "  - 302 Found\n",
    " - 4XX : Client Error\n",
    "  - 400 Bad Request\n",
    "  - 403 Forbiddent\n",
    "  - 404 Not Found\n",
    "  - 405 Method Not Allowed\n",
    " - 5XX : Server Error\n",
    " - 405 : POST <-> GET 형식을 바꾸면 된다."
   ]
  },
  {
   "cell_type": "code",
   "execution_count": 2,
   "metadata": {
    "collapsed": true
   },
   "outputs": [],
   "source": [
    "import requests "
   ]
  },
  {
   "cell_type": "code",
   "execution_count": 3,
   "metadata": {
    "collapsed": true
   },
   "outputs": [],
   "source": [
    "url = 'https://techcrunch.com/2017/03/08/a-new-affordable-naming-startup-for-startups/'\n",
    "res = requests.get(url)"
   ]
  },
  {
   "cell_type": "code",
   "execution_count": 4,
   "metadata": {},
   "outputs": [
    {
     "data": {
      "text/plain": [
       "<Response [200]>"
      ]
     },
     "execution_count": 4,
     "metadata": {},
     "output_type": "execute_result"
    }
   ],
   "source": [
    "res # Success"
   ]
  },
  {
   "cell_type": "code",
   "execution_count": 5,
   "metadata": {},
   "outputs": [
    {
     "data": {
      "text/plain": [
       "'\\n<!DOCTYPE html>\\n<html xmlns=\"http://www.w3.org/1999/xhtml\" xmlns:og=\"http://opengraphprotocol.org/schema/\" xmlns:fb=\"http://www.facebook.com/2008/fbml\" lang=\"en\">\\n<head>\\n\\t<title>A new, affordable nam'"
      ]
     },
     "execution_count": 5,
     "metadata": {},
     "output_type": "execute_result"
    }
   ],
   "source": [
    "res.text[:200] # 텍스트 형태로 데이터를 가지고 온다."
   ]
  },
  {
   "cell_type": "markdown",
   "metadata": {},
   "source": [
    "## HTML에서 본문 추출\n",
    " - lxml\n",
    " - BeautifulSoup\n",
    " - 아래의 Article의 본문을 Crawling 하려고 한다.\n",
    "![browser](./TEXTMINING/7.png)"
   ]
  },
  {
   "cell_type": "code",
   "execution_count": 6,
   "metadata": {
    "collapsed": true
   },
   "outputs": [],
   "source": [
    "import lxml.html\n",
    "from bs4 import BeautifulSoup"
   ]
  },
  {
   "cell_type": "markdown",
   "metadata": {},
   "source": [
    "### 1. lxml"
   ]
  },
  {
   "cell_type": "code",
   "execution_count": 10,
   "metadata": {
    "collapsed": true
   },
   "outputs": [],
   "source": [
    "root = lxml.html.fromstring(res.text)"
   ]
  },
  {
   "cell_type": "markdown",
   "metadata": {},
   "source": [
    " - html 요소에 접근 방법\n",
    "  - class : . \n",
    "  - id : "
   ]
  },
  {
   "cell_type": "markdown",
   "metadata": {},
   "source": [
    " - class 값으로 접근\n",
    "  - . 로 접근"
   ]
  },
  {
   "cell_type": "code",
   "execution_count": 14,
   "metadata": {},
   "outputs": [
    {
     "data": {
      "text/plain": [
       "[<Element div at 0x107b1d458>]"
      ]
     },
     "execution_count": 14,
     "metadata": {},
     "output_type": "execute_result"
    }
   ],
   "source": [
    "entries = root.cssselect('.article-entry')\n",
    "entries"
   ]
  },
  {
   "cell_type": "code",
   "execution_count": 15,
   "metadata": {},
   "outputs": [
    {
     "data": {
      "text/plain": [
       "1"
      ]
     },
     "execution_count": 15,
     "metadata": {},
     "output_type": "execute_result"
    }
   ],
   "source": [
    "len(entries) # 본문의 내용으로 된 tag는 1개 밖에 없다."
   ]
  },
  {
   "cell_type": "code",
   "execution_count": 16,
   "metadata": {},
   "outputs": [
    {
     "data": {
      "text/plain": [
       "'\\n\\n\\n\\nA few years ago, I launched a daily email newsletter, and I was ecstatic\\xa0to be striking out on m'"
      ]
     },
     "execution_count": 16,
     "metadata": {},
     "output_type": "execute_result"
    }
   ],
   "source": [
    "article = entries[0]\n",
    "content = article.text_content() # 본문의 내용을 TEXT 형태로 추출.\n",
    "content[:100]"
   ]
  },
  {
   "cell_type": "markdown",
   "metadata": {},
   "source": [
    " - id 값으로 접근 \n",
    "  - \"#\" 로 접근"
   ]
  },
  {
   "cell_type": "code",
   "execution_count": 23,
   "metadata": {},
   "outputs": [
    {
     "data": {
      "text/plain": [
       "'A few years ago, I launched a daily email newsletter, and I was ecstatic\\xa0to be striking out on my ow'"
      ]
     },
     "execution_count": 23,
     "metadata": {},
     "output_type": "execute_result"
    }
   ],
   "source": [
    "root.cssselect('#speakable-summary')[0].text_content()[:100]"
   ]
  },
  {
   "cell_type": "markdown",
   "metadata": {},
   "source": [
    "## 2. BeautifulSoup "
   ]
  },
  {
   "cell_type": "code",
   "execution_count": 24,
   "metadata": {
    "scrolled": false
   },
   "outputs": [
    {
     "data": {
      "text/plain": [
       "bs4.BeautifulSoup"
      ]
     },
     "execution_count": 24,
     "metadata": {},
     "output_type": "execute_result"
    }
   ],
   "source": [
    "bs = BeautifulSoup(res.text, 'html.parser')\n",
    "type(bs)"
   ]
  },
  {
   "cell_type": "code",
   "execution_count": 25,
   "metadata": {},
   "outputs": [
    {
     "data": {
      "text/plain": [
       "[<div class=\"article-entry text\">\n",
       " <!-- Begin: Wordpress Article Content -->\n",
       " <img class=\"\" src=\"https://tctechcrunch2011.files.wordpress.com/2017/03/screen-shot-2017-03-08-at-1-26-28-pm.png?w=738\"/>\n",
       " <p id=\"speakable-summary\">A few years ago, I launched a daily email <a href=\"https://www.strictlyvc.com/\" target=\"_blank\">newsletter</a>, and I was ecstatic to be striking out on my own for the first time. Alas, just a few weeks after filing to secure a trademark, an officious-sounding note appeared in my inbox, and soon after, I found myself shelling out $10,000 in lawyer’s fees over a short-lived trademark dispute. It wasn’t nearly as painful as it might have been, but it was a rude realization that figuring out the right brand can be both time-consuming and have implications that founders might not foresee.</p>\n",
       " <p>Of course, my experience is hardly rare. Most founders are typically left to either conduct trademark searches on their own via the <a href=\"https://www.uspto.gov/\" target=\"_blank\">USPTO site</a>, or else pay top dollar for law firms or branding agencies to do it for them. Often they do both.</p>\n",
       " <p>Thankfully, affordably eliminating risky name choices is exactly the opportunity that a two-year-old Bay Area company, <a href=\"https://www.namingmatters.com/\" target=\"_blank\">Naming Matters</a>, is chasing, and the company’s founder is very familiar with the market. S.B. Master previously co-founded <a href=\"http://www.naming.com\" target=\"_blank\">Master-McNeil</a>, a 29-year-old corporate naming and branding firm in Berkeley, Ca., whose past clients include Apple, General Motors, Disney and PayPal.</p>\n",
       " <p>Now Master sees an opportunity to cater not just to deep-pocketed corporate customers but also startups on shoestring budgets. Indeed, 18 months ago, she decided to take everything she has learned over the years about linguistic analysis, trademark searching and domain name acquisition and pour it into a self-service software product that also incorporates search and data visualization. I talked with her earlier today to learn more.</p>\n",
       " <p><strong>TC: You’ve already run a naming company for decades. Why start this new thing?</strong></p>\n",
       " <p>SM: Naming is hard, and we tend to work with companies that can afford us to do deep preliminary availability screening. I grew frustrated with how slow and antiquated that searching step is [for companies that can’t afford such a service]. I mean, if you have 100 names, how do you figure out which are most likely to get you into trouble, and which are your stronger candidates that you should focus on? There are legacy providers, but their model is to charge users for every name they look up. If you’re looking for a name in every country and every class, it adds up. You have to be very skilled to [keep your costs down].</p>\n",
       " <p><strong>TC: So the idea is to pay less to your friendly trademark attorney.</strong></p>\n",
       " <p>SM: The idea is that instead of this being some super expensive cottage industry, that anyone, anywhere — whether founders or innovators in companies or paralegals in law firms or companies under pressure to do more faster and with less — can use this tool in an unlimited way.</p>\n",
       " <p><strong>TC: How big a problem — or opportunity — is this?</strong></p>\n",
       " <p>SM: About 5 million trademarks are registered worldwide each year, and to get to a name that you’re willing to spend the money [on] to file a trademark application, you’ve probably looked at 50 to 100 names. That means people are looking up something like 500 million names a year. That’s a lot of time and effort, and it still often doesn’t answer the question of whether it’s worth it.</p>\n",
       " <p>We’ve been told by big law firms that to look at one name, a paralegal is going to spend three hours, and they cost $300 an hour. So, there’s $1,000 right there.</p>\n",
       " <p><strong>TC: Why is this the killer solution?</strong></p>\n",
       " <p>SM: There are so many engineers and creative people who have no knowledge of trademarks or how they should work, and by merely looking at the visualization (that we produce for users), where the bigger the dot is to the name you’ve chosen, or the more crowded, the more [risky] the brand — it just offers incredible cost and time savings by being able to visualize this data.</p><div><div class=\"native-ad-mobile\" id=\"adsDiv1331b4c729\"></div></div>\n",
       " <p><strong>TC: Are you scanning trademarks globally or just in the U.S.? And how much are you charging?</strong></p>\n",
       " <p>SM: We’re still working on pricing, but we offer a day pass for less than $50, which provides users with unlimited use to search U.S. filings. We also have a standard product that offers unlimited use on a monthly basis; one seat is $100 per month . . . and the service can be stopped at any time.</p>\n",
       " <p>And we’re working on a pro product that’s much more feature rich and that will be a bit more expensive and will include multiple data sets, not just U.S [data].</p>\n",
       " <p><strong>TC: Don’t companies need to worry about competition globally from the outset?</strong></p>\n",
       " <p>SM: Absolutely. Any business that puts itself online is intrinsically international. So even though you may not plan to do business in Germany or the U.K. or Japan, knowing what’s out there and who could come after you — without hiring an attorney in Tokyo — [is key]. You’ll be able to see if there’s something there that you should be aware of.</p>\n",
       " <p><strong>TC: Is there no global database that exists as of today?</strong></p>\n",
       " <p>SM: You can find a newish database online that’s sponsored by the EU. But unless you’re a very skilled operator, it’s [hard to navigate]. It’s almost like doing a Google search, where you’re getting inundated with large amounts of irrelevant hits, or you have to have a lot of knowledge to know if you should care. Nothing is sorted; you can’t see how much of a threat other trademarks are. What we can do with our algorithm is rate and rank and visualize everything, so you can see those that look like the most serious threats.</p>\n",
       " <p>You can also see who else is out there in your space with similar names and get new ideas yourself for names that are different and probably smarter in the context of knowing who else is out there. Using this as a creativity tool wasn’t something we anticipated, but once people see what’s out there, it prompts more creativity on their part to think up more unique names.</p>\n",
       " <p><strong>TC: Can you talk about who some of your clients are?</strong></p>\n",
       " <p>SM: We have some law firm users. We have a prominent product innovation company. Fifteen companies from the last YC class signed up, too. [President] Sam [Altman] loves what we’re doing.</p>\n",
       " <p><strong>TC: Can I ask how you came up with the brand Naming Matters? I’ve talked with branding agencies in the past that say most early firms in a space use something that literally describes their business, like Facebook. Brands start getting crazier sounding the more crowded a space grows.</strong></p>\n",
       " <p>SM: It’s a pun. Naming <em>does</em> matter, but also, if you’re a lawyer, you call a legal topic a matter. What do you think? [Laughs.] We’re supposed to be good at this!</p>\n",
       " <!-- End: Wordpress Article Content -->\n",
       " </div>]"
      ]
     },
     "execution_count": 25,
     "metadata": {},
     "output_type": "execute_result"
    }
   ],
   "source": [
    "bs.findAll(\"div\", class_='article-entry') "
   ]
  },
  {
   "cell_type": "code",
   "execution_count": 26,
   "metadata": {},
   "outputs": [
    {
     "data": {
      "text/plain": [
       "5"
      ]
     },
     "execution_count": 26,
     "metadata": {},
     "output_type": "execute_result"
    }
   ],
   "source": [
    "h2s = bs.find_all('h2')\n",
    "len(h2s)"
   ]
  },
  {
   "cell_type": "code",
   "execution_count": 27,
   "metadata": {},
   "outputs": [
    {
     "data": {
      "text/plain": [
       "[<h2>Hi!</h2>, <h2 class=\"section-title collapse-title aside-adjacent\">\n",
       " \tNewsletter Subscriptions\n",
       " </h2>, <h2 class=\"collapse-title section-title\">\n",
       " \t\tLatest <span>Crunch Report</span> </h2>, <h2>Featured Stories</h2>, <h2><span class=\"text-muted\">Latest From</span> Startups</h2>]"
      ]
     },
     "execution_count": 27,
     "metadata": {},
     "output_type": "execute_result"
    }
   ],
   "source": [
    "h2s"
   ]
  },
  {
   "cell_type": "markdown",
   "metadata": {},
   "source": [
    "## 목록에서 여러 개의 링크 가져오기"
   ]
  },
  {
   "cell_type": "code",
   "execution_count": 29,
   "metadata": {},
   "outputs": [
    {
     "data": {
      "text/plain": [
       "20"
      ]
     },
     "execution_count": 29,
     "metadata": {},
     "output_type": "execute_result"
    }
   ],
   "source": [
    "res = requests.get('https://techcrunch.com/startups/')\n",
    "root = lxml.html.fromstring(res.text)\n",
    "titles = root.cssselect('h2 a')\n",
    "len(titles)"
   ]
  },
  {
   "cell_type": "code",
   "execution_count": 30,
   "metadata": {},
   "outputs": [
    {
     "name": "stdout",
     "output_type": "stream",
     "text": [
      "- 1 Linxo raises $24 million for its app that brings bank accounts together\n",
      "- 2 Crunch Report | So About That Equifax Hack\n",
      "- 3 Copycats versus disruptors in Latin America\n",
      "- 4 A Stanford professor’s advice on surviving the a**hole at your startup\n",
      "- 5 It’s time to build our own Equifax with blackjack and crypto\n",
      "- 6 Equity podcast: Roku is going public, 23andMe raises $200M and Juicero is dead\n",
      "- 7 Red Cross to start testing drones in disaster relief efforts\n",
      "- 8 Teralytics wants to tap telcos’ big data to help cities get smarter about Uber and Lyft\n",
      "- 9 Final days to apply for Startup Battlefield Australia\n",
      "- 10 Crunch Report | Marvel and Star Wars going exclusively to Disney streaming\n",
      "- 11 Former GrubHub employee testified drivers often complained about ‘ghost orders’\n",
      "- 12 Canvas’ robot cart could change how factories work\n",
      "- 13 Streamroot raises $3.2 million for its peer-to-peer video delivery technology\n",
      "- 14 HotelTonight to expand booking window to 100 days\n",
      "- 15 StatMuse lets you ask a sports question and hear a response from an NFL star\n",
      "- 16 Pendo acquires Insert to add mobile apps to its user analytics and engagement platform\n",
      "- 17 Favor, the on-demand service focused on Texas, picks up $22 million Series B\n",
      "- 18 European ‘social eating platform’ VizEat acquires U.S.-based EatWith\n",
      "- 19 After scrapping Monsanto deal, Deere agrees to buy precision farming startup Blue River for $305M\n",
      "- 20 VR company Upload settles sexual harassment suit, though some still feel unsettled\n"
     ]
    }
   ],
   "source": [
    "i = 0\n",
    "for title in titles:\n",
    "    i += 1\n",
    "    print(\"- \" + str(i) + \" \" + title.text)"
   ]
  },
  {
   "cell_type": "markdown",
   "metadata": {},
   "source": [
    "### HTML 태그 내 요소 접근 \n",
    " - attrib['요소명']"
   ]
  },
  {
   "cell_type": "code",
   "execution_count": 31,
   "metadata": {},
   "outputs": [
    {
     "data": {
      "text/plain": [
       "'https://techcrunch.com/2017/09/09/linxo-raises-24-million-for-its-app-that-brings-bank-accounts-together/'"
      ]
     },
     "execution_count": 31,
     "metadata": {},
     "output_type": "execute_result"
    }
   ],
   "source": [
    "titles[0].attrib['href']"
   ]
  },
  {
   "cell_type": "code",
   "execution_count": 32,
   "metadata": {},
   "outputs": [
    {
     "name": "stdout",
     "output_type": "stream",
     "text": [
      "https://techcrunch.com/2017/09/09/linxo-raises-24-million-for-its-app-that-brings-bank-accounts-together/\n",
      "https://techcrunch.com/2017/09/08/crunch-report-equifax-hack/\n",
      "https://techcrunch.com/2017/09/08/copycats-vs-disruptors-in-latin-america/\n",
      "https://techcrunch.com/2017/09/08/a-stanford-professors-advice-on-surviving-the-ahole-at-your-startup/\n",
      "https://techcrunch.com/2017/09/08/its-time-to-build-our-own-equifax-with-blackjack-and-crypto/\n",
      "https://techcrunch.com/2017/09/08/equity-podcast-roku-is-going-public-23andme-raises-200m-and-juicero-is-dead/\n",
      "https://techcrunch.com/2017/09/08/red-cross-to-start-testing-drones-in-disaster-relief-efforts/\n",
      "https://techcrunch.com/2017/09/07/teralytics-wants-to-tap-telcos-big-data-to-help-cities-get-smarter-about-uber-and-lyft/\n",
      "https://techcrunch.com/2017/09/07/final-days-to-apply-for-startup-battlefield-australia/\n",
      "https://techcrunch.com/2017/09/07/crunch-report-marvel-star-wars-disney/\n",
      "https://techcrunch.com/2017/09/07/former-grubhub-employee-testimony-ghost-orders/\n",
      "https://techcrunch.com/2017/09/07/canvas-robot-cart-could-change-how-factories-work/\n",
      "https://techcrunch.com/2017/09/07/streamroot-raises-32-million-for-its-peer-to-peer-video-delivery-technology/\n",
      "https://techcrunch.com/2017/09/07/hoteltonight-to-expand-booking-window-to-100-days/\n",
      "https://techcrunch.com/2017/09/07/statmuse-lets-you-ask-a-sports-question-and-hear-a-response-from-an-nfl-star/\n",
      "https://techcrunch.com/2017/09/07/pendo-acquires-insert/\n",
      "https://techcrunch.com/2017/09/07/favor-the-on-demand-service-focused-on-texas-picks-up-22-million-series-b/\n",
      "https://techcrunch.com/2017/09/07/vizeat-swallows-eatwith/\n",
      "https://techcrunch.com/2017/09/06/after-scraping-monsanto-deal-deere-agrees-to-buy-precision-farming-startup-blue-river-for-305m/\n",
      "https://techcrunch.com/2017/09/06/vr-company-upload-settles-sexual-harassment-suit-though-some-still-feel-unsettled/\n"
     ]
    }
   ],
   "source": [
    "for title in titles:\n",
    "    print(title.attrib['href'])"
   ]
  },
  {
   "cell_type": "code",
   "execution_count": 34,
   "metadata": {
    "collapsed": true
   },
   "outputs": [],
   "source": [
    "articles = [] \n",
    "for title in titles:\n",
    "    url = title.attrib['href']\n",
    "    res_a = requests.get(url)\n",
    "    articles.append(res_a.text)"
   ]
  },
  {
   "cell_type": "code",
   "execution_count": 35,
   "metadata": {},
   "outputs": [
    {
     "data": {
      "text/plain": [
       "20"
      ]
     },
     "execution_count": 35,
     "metadata": {},
     "output_type": "execute_result"
    }
   ],
   "source": [
    "len(articles)"
   ]
  },
  {
   "cell_type": "code",
   "execution_count": 38,
   "metadata": {},
   "outputs": [
    {
     "data": {
      "text/plain": [
       "'<!DOCTYPE html>\\n<html xmlns=\"http://www.w3.org/1999/xhtml\" xmlns:og=\"http://opengraphprotocol.org/sc'"
      ]
     },
     "execution_count": 38,
     "metadata": {},
     "output_type": "execute_result"
    }
   ],
   "source": [
    "articles[0][:100]"
   ]
  },
  {
   "cell_type": "markdown",
   "metadata": {},
   "source": [
    "## Example\n",
    " - 기사 밑에 있는 기자 이름만 가지고 오고 싶다면?\n",
    " - div class = 'river' => li => div class = 'black' => div class = 'byline' => a 로 접근\n",
    " - tqdm library : Progress bar를 볼 수 있다."
   ]
  },
  {
   "cell_type": "code",
   "execution_count": 39,
   "metadata": {
    "collapsed": true
   },
   "outputs": [],
   "source": [
    "import tqdm"
   ]
  },
  {
   "cell_type": "code",
   "execution_count": 41,
   "metadata": {
    "collapsed": true
   },
   "outputs": [],
   "source": [
    "subTitles = root.cssselect('.river li .block .byline a')"
   ]
  },
  {
   "cell_type": "code",
   "execution_count": 44,
   "metadata": {},
   "outputs": [
    {
     "data": {
      "application/vnd.jupyter.widget-view+json": {
       "model_id": "b9617a18972c43a489e8cdf0642ec8cf"
      }
     },
     "metadata": {},
     "output_type": "display_data"
    },
    {
     "name": "stdout",
     "output_type": "stream",
     "text": [
      "Romain Dillet\n",
      "https://techcrunch.com/author/romain-dillet/\n",
      "Anthony Ha\n",
      "https://techcrunch.com/author/anthony-ha/\n",
      "Francisco Coronel\n",
      "https://techcrunch.com/contributor/francisco-coronel/\n",
      "Connie Loizos\n",
      "https://techcrunch.com/author/connie-loizos/\n",
      "John Biggs\n",
      "https://techcrunch.com/author/john-biggs/\n",
      "Alex Wilhelm\n",
      "https://techcrunch.com/author/alex-wilhelm/\n",
      "Matt Burns\n",
      "https://techcrunch.com/author/matt-burns/\n",
      "Natasha Lomas\n",
      "https://techcrunch.com/author/natasha-lomas/\n",
      "Samantha Stein\n",
      "https://techcrunch.com/author/samantha-stein/\n",
      "Anthony Ha\n",
      "https://techcrunch.com/author/anthony-ha/\n",
      "\n"
     ]
    }
   ],
   "source": [
    "for subTitle in tqdm.tqdm_notebook(subTitles[:10]):\n",
    "    print(subTitle.text)\n",
    "    print(\"https://techcrunch.com\" + subTitle.attrib['href'])"
   ]
  }
 ],
 "metadata": {
  "kernelspec": {
   "display_name": "py35",
   "language": "python",
   "name": "py35"
  },
  "language_info": {
   "codemirror_mode": {
    "name": "ipython",
    "version": 3
   },
   "file_extension": ".py",
   "mimetype": "text/x-python",
   "name": "python",
   "nbconvert_exporter": "python",
   "pygments_lexer": "ipython3",
   "version": "3.5.3"
  }
 },
 "nbformat": 4,
 "nbformat_minor": 2
}
