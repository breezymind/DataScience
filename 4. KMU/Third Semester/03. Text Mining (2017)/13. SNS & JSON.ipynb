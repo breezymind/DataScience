{
 "cells": [
  {
   "cell_type": "markdown",
   "metadata": {},
   "source": [
    "# JSON & SNS Crawling"
   ]
  },
  {
   "cell_type": "markdown",
   "metadata": {},
   "source": [
    "## JSON이란?\n",
    " - 자바스크립트(JavaScript): 웹브라우저에서 작동하는 프로그래밍 언어\n",
    " - JSON(JavaScript Object Notation): 자바스크립트의 사전(dictionary) 형식\n",
    " - 웹브라우저와 서버 사이에 간단히 자료를 주고 받을 때 사용\n",
    " - '더 보기' 형태로 웹페이지를 이동하지 않고 내용이 추가되는 경우 대부분 서버에서 JSON 형식으로 자료를 받아 자바스크립트가 화면에 추가\n",
    " - 따라서 JSON 자료를 가로채면 쉽게 크롤링을 할 수 있음"
   ]
  },
  {
   "cell_type": "markdown",
   "metadata": {},
   "source": [
    "## 예시 "
   ]
  },
  {
   "cell_type": "code",
   "execution_count": 1,
   "metadata": {
    "collapsed": true
   },
   "outputs": [],
   "source": [
    "sample = '''\n",
    "{\n",
    "   \"id\": 123,\n",
    "   \"username\": \"유재명\",\n",
    "   \"comment\": \"반갑습니다\"\n",
    "}\n",
    "'''"
   ]
  },
  {
   "cell_type": "code",
   "execution_count": 2,
   "metadata": {
    "collapsed": false
   },
   "outputs": [
    {
     "data": {
      "text/plain": [
       "'\\n{\\n   \"id\": 123,\\n   \"username\": \"유재명\",\\n   \"comment\": \"반갑습니다\"\\n}\\n'"
      ]
     },
     "execution_count": 2,
     "metadata": {},
     "output_type": "execute_result"
    }
   ],
   "source": [
    "sample"
   ]
  },
  {
   "cell_type": "markdown",
   "metadata": {},
   "source": [
    "## JSON 해석"
   ]
  },
  {
   "cell_type": "code",
   "execution_count": 3,
   "metadata": {
    "collapsed": true
   },
   "outputs": [],
   "source": [
    "import json"
   ]
  },
  {
   "cell_type": "code",
   "execution_count": 46,
   "metadata": {
    "collapsed": true
   },
   "outputs": [],
   "source": [
    "from urllib.parse import quote_plus"
   ]
  },
  {
   "cell_type": "code",
   "execution_count": 4,
   "metadata": {
    "collapsed": false
   },
   "outputs": [
    {
     "data": {
      "text/plain": [
       "{'comment': '반갑습니다', 'id': 123, 'username': '유재명'}"
      ]
     },
     "execution_count": 4,
     "metadata": {},
     "output_type": "execute_result"
    }
   ],
   "source": [
    "json.loads(sample)"
   ]
  },
  {
   "cell_type": "markdown",
   "metadata": {},
   "source": [
    "## 네이버 뉴스 댓글 JSON으로 가져오기"
   ]
  },
  {
   "cell_type": "code",
   "execution_count": 5,
   "metadata": {
    "collapsed": true
   },
   "outputs": [],
   "source": [
    "origin_url = 'http://news.naver.com/main/read.nhn?mode=LSD&mid=shm&sid1=105&oid=079&aid=0002971594&m_view=1'"
   ]
  },
  {
   "cell_type": "code",
   "execution_count": 131,
   "metadata": {
    "collapsed": true
   },
   "outputs": [],
   "source": [
    "origin_url_tmp = 'http://sports.news.naver.com/wfootball/news/read.nhn?oid=139&aid=0002075732&m_view=1&sort=LIKE'"
   ]
  },
  {
   "cell_type": "markdown",
   "metadata": {},
   "source": [
    " - CallBack은 대충 그냥 맞추면 되는거같다. "
   ]
  },
  {
   "cell_type": "code",
   "execution_count": 149,
   "metadata": {
    "collapsed": true
   },
   "outputs": [],
   "source": [
    "ticket = 'news'"
   ]
  },
  {
   "cell_type": "code",
   "execution_count": 150,
   "metadata": {
    "collapsed": true
   },
   "outputs": [],
   "source": [
    "news_id = '079'"
   ]
  },
  {
   "cell_type": "code",
   "execution_count": 151,
   "metadata": {
    "collapsed": true
   },
   "outputs": [],
   "source": [
    "news = \"news\" + news_id"
   ]
  },
  {
   "cell_type": "code",
   "execution_count": 152,
   "metadata": {
    "collapsed": true
   },
   "outputs": [],
   "source": [
    "aid = '0002971594'"
   ]
  },
  {
   "cell_type": "code",
   "execution_count": 159,
   "metadata": {
    "collapsed": true
   },
   "outputs": [],
   "source": [
    "objectId =  news + \",\" + aid"
   ]
  },
  {
   "cell_type": "code",
   "execution_count": 160,
   "metadata": {
    "collapsed": false
   },
   "outputs": [
    {
     "data": {
      "text/plain": [
       "'news079%2C0002971594'"
      ]
     },
     "execution_count": 160,
     "metadata": {},
     "output_type": "execute_result"
    }
   ],
   "source": [
    "objectId = quote_plus(objectId)\n",
    "objectId"
   ]
  },
  {
   "cell_type": "code",
   "execution_count": 161,
   "metadata": {
    "collapsed": true
   },
   "outputs": [],
   "source": [
    "page = 1 "
   ]
  },
  {
   "cell_type": "code",
   "execution_count": 162,
   "metadata": {
    "collapsed": true
   },
   "outputs": [],
   "source": [
    "comment_url = ('https://apis.naver.com/commentBox/cbox/web_neo_list_jsonp.json?'\n",
    "               'ticket=news&templateId=default_it&pool=cbox5&_callback=jQuery1709951719079191432_1496387548832&'\n",
    "               'lang=ko&country=KR&objectId=news079%2C0002971594&categoryId=&pageSize=20&indexSize=10&groupId=&'\n",
    "               'listType=OBJECT&page=1&initialize=true&userType=&useAltSort=true&replyPageSize=20&moveTo=&'\n",
    "               'sort=reply&_=1496387549604')"
   ]
  },
  {
   "cell_type": "code",
   "execution_count": 163,
   "metadata": {
    "collapsed": true
   },
   "outputs": [],
   "source": [
    "comment_url = ('https://apis.naver.com/commentBox/cbox/web_neo_list_jsonp.json?'\n",
    "               'ticket={ticket}&templateId=default_it&pool=cbox5&_callback=jQuery1709951719079191433_1496387548832&'\n",
    "               'lang=ko&country=KR&objectId={objectId}&categoryId=&pageSize=20&indexSize=10&groupId=&'\n",
    "               'listType=OBJECT&page={page}&initialize=true&userType=&useAltSort=true&replyPageSize=20&moveTo=&'\n",
    "               'sort=reply&_=1496387549604')"
   ]
  },
  {
   "cell_type": "code",
   "execution_count": 164,
   "metadata": {
    "collapsed": false
   },
   "outputs": [],
   "source": [
    "tmp_url = comment_url.format(ticket=ticket, objectId=objectId,page=page)"
   ]
  },
  {
   "cell_type": "code",
   "execution_count": 165,
   "metadata": {
    "collapsed": false
   },
   "outputs": [
    {
     "data": {
      "text/plain": [
       "'https://apis.naver.com/commentBox/cbox/web_neo_list_jsonp.json?ticket=news&templateId=default_it&pool=cbox5&_callback=jQuery1709951719079191433_1496387548832&lang=ko&country=KR&objectId=news079%2C0002971594&categoryId=&pageSize=20&indexSize=10&groupId=&listType=OBJECT&page=1&initialize=true&userType=&useAltSort=true&replyPageSize=20&moveTo=&sort=reply&_=1496387549604'"
      ]
     },
     "execution_count": 165,
     "metadata": {},
     "output_type": "execute_result"
    }
   ],
   "source": [
    "tmp_url"
   ]
  },
  {
   "cell_type": "code",
   "execution_count": 166,
   "metadata": {
    "collapsed": true
   },
   "outputs": [],
   "source": [
    "import requests"
   ]
  },
  {
   "cell_type": "code",
   "execution_count": 167,
   "metadata": {
    "collapsed": false
   },
   "outputs": [],
   "source": [
    "res = requests.get(tmp_url, headers = {'referer':origin_url_tmp})"
   ]
  },
  {
   "cell_type": "code",
   "execution_count": 168,
   "metadata": {
    "collapsed": false
   },
   "outputs": [
    {
     "data": {
      "text/plain": [
       "200"
      ]
     },
     "execution_count": 168,
     "metadata": {},
     "output_type": "execute_result"
    }
   ],
   "source": [
    "res.status_code"
   ]
  },
  {
   "cell_type": "code",
   "execution_count": 169,
   "metadata": {
    "collapsed": false,
    "scrolled": false
   },
   "outputs": [
    {
     "data": {
      "text/plain": [
       "'jQuery1709951719079191433_1496387548832({\"success\":true,\"code\":\"1000\",\"message\":\"요청을 성공적으로 처리하였습니다.\"'"
      ]
     },
     "execution_count": 169,
     "metadata": {},
     "output_type": "execute_result"
    }
   ],
   "source": [
    "res.text[:100]"
   ]
  },
  {
   "cell_type": "code",
   "execution_count": 171,
   "metadata": {
    "collapsed": false,
    "scrolled": false
   },
   "outputs": [
    {
     "data": {
      "text/plain": [
       "'jQuery1709951719079191433_1496387548832({\"success\":true,\"code\":\"1000\",\"message\":\"요청을 성공적으로 처리하였습니다.\",\"lang\":\"ko\",\"country\":\"KR\",\"result\":{\"sort\":\"REPLY\",\"count\":{\"comment\":58,\"reply\":32,\"exposeCount\":59,\"delCommentByUser\":4,\"total\":90},\"config\":{\"useSnsLogin\":true,\"lineFeedOn\":false,\"useBest\":false,\"useVote\":true,\"useVoteSelf\":false,\"useVoteGoodOnly\":false,\"useReport\":true,\"useCommonReport\":true,\"useSort\":true,\"sortTypes\":[\"FAVORITE\",\"NEW\",\"OLD\",\"REPLY\"],\"defaultSort\":\"FAVORITE\",\"useByteLength\":'"
      ]
     },
     "execution_count": 171,
     "metadata": {},
     "output_type": "execute_result"
    }
   ],
   "source": [
    "res.text[:500]"
   ]
  },
  {
   "cell_type": "code",
   "execution_count": 172,
   "metadata": {
    "collapsed": false
   },
   "outputs": [
    {
     "ename": "JSONDecodeError",
     "evalue": "Expecting value: line 1 column 1 (char 0)",
     "output_type": "error",
     "traceback": [
      "\u001b[0;31m---------------------------------------------------------------------------\u001b[0m",
      "\u001b[0;31mJSONDecodeError\u001b[0m                           Traceback (most recent call last)",
      "\u001b[0;32m<ipython-input-172-fff066917a4f>\u001b[0m in \u001b[0;36m<module>\u001b[0;34m()\u001b[0m\n\u001b[0;32m----> 1\u001b[0;31m \u001b[0mjson\u001b[0m\u001b[0;34m.\u001b[0m\u001b[0mloads\u001b[0m\u001b[0;34m(\u001b[0m\u001b[0mres\u001b[0m\u001b[0;34m.\u001b[0m\u001b[0mtext\u001b[0m\u001b[0;34m)\u001b[0m\u001b[0;34m\u001b[0m\u001b[0m\n\u001b[0m",
      "\u001b[0;32mC:\\Anaconda3\\envs\\py35\\lib\\json\\__init__.py\u001b[0m in \u001b[0;36mloads\u001b[0;34m(s, encoding, cls, object_hook, parse_float, parse_int, parse_constant, object_pairs_hook, **kw)\u001b[0m\n\u001b[1;32m    317\u001b[0m             \u001b[0mparse_int\u001b[0m \u001b[0;32mis\u001b[0m \u001b[0;32mNone\u001b[0m \u001b[0;32mand\u001b[0m \u001b[0mparse_float\u001b[0m \u001b[0;32mis\u001b[0m \u001b[0;32mNone\u001b[0m \u001b[0;32mand\u001b[0m\u001b[0;34m\u001b[0m\u001b[0m\n\u001b[1;32m    318\u001b[0m             parse_constant is None and object_pairs_hook is None and not kw):\n\u001b[0;32m--> 319\u001b[0;31m         \u001b[0;32mreturn\u001b[0m \u001b[0m_default_decoder\u001b[0m\u001b[0;34m.\u001b[0m\u001b[0mdecode\u001b[0m\u001b[0;34m(\u001b[0m\u001b[0ms\u001b[0m\u001b[0;34m)\u001b[0m\u001b[0;34m\u001b[0m\u001b[0m\n\u001b[0m\u001b[1;32m    320\u001b[0m     \u001b[0;32mif\u001b[0m \u001b[0mcls\u001b[0m \u001b[0;32mis\u001b[0m \u001b[0;32mNone\u001b[0m\u001b[0;34m:\u001b[0m\u001b[0;34m\u001b[0m\u001b[0m\n\u001b[1;32m    321\u001b[0m         \u001b[0mcls\u001b[0m \u001b[0;34m=\u001b[0m \u001b[0mJSONDecoder\u001b[0m\u001b[0;34m\u001b[0m\u001b[0m\n",
      "\u001b[0;32mC:\\Anaconda3\\envs\\py35\\lib\\json\\decoder.py\u001b[0m in \u001b[0;36mdecode\u001b[0;34m(self, s, _w)\u001b[0m\n\u001b[1;32m    337\u001b[0m \u001b[0;34m\u001b[0m\u001b[0m\n\u001b[1;32m    338\u001b[0m         \"\"\"\n\u001b[0;32m--> 339\u001b[0;31m         \u001b[0mobj\u001b[0m\u001b[0;34m,\u001b[0m \u001b[0mend\u001b[0m \u001b[0;34m=\u001b[0m \u001b[0mself\u001b[0m\u001b[0;34m.\u001b[0m\u001b[0mraw_decode\u001b[0m\u001b[0;34m(\u001b[0m\u001b[0ms\u001b[0m\u001b[0;34m,\u001b[0m \u001b[0midx\u001b[0m\u001b[0;34m=\u001b[0m\u001b[0m_w\u001b[0m\u001b[0;34m(\u001b[0m\u001b[0ms\u001b[0m\u001b[0;34m,\u001b[0m \u001b[0;36m0\u001b[0m\u001b[0;34m)\u001b[0m\u001b[0;34m.\u001b[0m\u001b[0mend\u001b[0m\u001b[0;34m(\u001b[0m\u001b[0;34m)\u001b[0m\u001b[0;34m)\u001b[0m\u001b[0;34m\u001b[0m\u001b[0m\n\u001b[0m\u001b[1;32m    340\u001b[0m         \u001b[0mend\u001b[0m \u001b[0;34m=\u001b[0m \u001b[0m_w\u001b[0m\u001b[0;34m(\u001b[0m\u001b[0ms\u001b[0m\u001b[0;34m,\u001b[0m \u001b[0mend\u001b[0m\u001b[0;34m)\u001b[0m\u001b[0;34m.\u001b[0m\u001b[0mend\u001b[0m\u001b[0;34m(\u001b[0m\u001b[0;34m)\u001b[0m\u001b[0;34m\u001b[0m\u001b[0m\n\u001b[1;32m    341\u001b[0m         \u001b[0;32mif\u001b[0m \u001b[0mend\u001b[0m \u001b[0;34m!=\u001b[0m \u001b[0mlen\u001b[0m\u001b[0;34m(\u001b[0m\u001b[0ms\u001b[0m\u001b[0;34m)\u001b[0m\u001b[0;34m:\u001b[0m\u001b[0;34m\u001b[0m\u001b[0m\n",
      "\u001b[0;32mC:\\Anaconda3\\envs\\py35\\lib\\json\\decoder.py\u001b[0m in \u001b[0;36mraw_decode\u001b[0;34m(self, s, idx)\u001b[0m\n\u001b[1;32m    355\u001b[0m             \u001b[0mobj\u001b[0m\u001b[0;34m,\u001b[0m \u001b[0mend\u001b[0m \u001b[0;34m=\u001b[0m \u001b[0mself\u001b[0m\u001b[0;34m.\u001b[0m\u001b[0mscan_once\u001b[0m\u001b[0;34m(\u001b[0m\u001b[0ms\u001b[0m\u001b[0;34m,\u001b[0m \u001b[0midx\u001b[0m\u001b[0;34m)\u001b[0m\u001b[0;34m\u001b[0m\u001b[0m\n\u001b[1;32m    356\u001b[0m         \u001b[0;32mexcept\u001b[0m \u001b[0mStopIteration\u001b[0m \u001b[0;32mas\u001b[0m \u001b[0merr\u001b[0m\u001b[0;34m:\u001b[0m\u001b[0;34m\u001b[0m\u001b[0m\n\u001b[0;32m--> 357\u001b[0;31m             \u001b[0;32mraise\u001b[0m \u001b[0mJSONDecodeError\u001b[0m\u001b[0;34m(\u001b[0m\u001b[0;34m\"Expecting value\"\u001b[0m\u001b[0;34m,\u001b[0m \u001b[0ms\u001b[0m\u001b[0;34m,\u001b[0m \u001b[0merr\u001b[0m\u001b[0;34m.\u001b[0m\u001b[0mvalue\u001b[0m\u001b[0;34m)\u001b[0m \u001b[0;32mfrom\u001b[0m \u001b[0;32mNone\u001b[0m\u001b[0;34m\u001b[0m\u001b[0m\n\u001b[0m\u001b[1;32m    358\u001b[0m         \u001b[0;32mreturn\u001b[0m \u001b[0mobj\u001b[0m\u001b[0;34m,\u001b[0m \u001b[0mend\u001b[0m\u001b[0;34m\u001b[0m\u001b[0m\n",
      "\u001b[0;31mJSONDecodeError\u001b[0m: Expecting value: line 1 column 1 (char 0)"
     ]
    }
   ],
   "source": [
    "json.loads(res.text)"
   ]
  },
  {
   "cell_type": "code",
   "execution_count": 75,
   "metadata": {
    "collapsed": true
   },
   "outputs": [],
   "source": [
    "start = len('jQuery1709951719079191432_1496387548832(')\n",
    "end = len(');')"
   ]
  },
  {
   "cell_type": "code",
   "execution_count": 76,
   "metadata": {
    "collapsed": true
   },
   "outputs": [],
   "source": [
    "comment = json.loads(res.text[start:-end])"
   ]
  },
  {
   "cell_type": "code",
   "execution_count": 77,
   "metadata": {
    "collapsed": false
   },
   "outputs": [
    {
     "data": {
      "text/plain": [
       "7"
      ]
     },
     "execution_count": 77,
     "metadata": {},
     "output_type": "execute_result"
    }
   ],
   "source": [
    "len(comment)"
   ]
  },
  {
   "cell_type": "code",
   "execution_count": 79,
   "metadata": {
    "collapsed": false,
    "scrolled": false
   },
   "outputs": [
    {
     "data": {
      "text/plain": [
       "[]"
      ]
     },
     "execution_count": 79,
     "metadata": {},
     "output_type": "execute_result"
    }
   ],
   "source": [
    "comment['result']['commentList']"
   ]
  },
  {
   "cell_type": "code",
   "execution_count": 27,
   "metadata": {
    "collapsed": false
   },
   "outputs": [
    {
     "data": {
      "text/plain": [
       "'수학 난제 증명에도 사용가능하게 된다면 인간에겐 또한번의 불의 발견 같은 사건이 될것이다.'"
      ]
     },
     "execution_count": 27,
     "metadata": {},
     "output_type": "execute_result"
    }
   ],
   "source": [
    "comment['result']['commentList'][0]['contents']"
   ]
  },
  {
   "cell_type": "markdown",
   "metadata": {},
   "source": [
    "# 인스타그램에서 JSON으로 댓글 가져오기"
   ]
  },
  {
   "cell_type": "code",
   "execution_count": 173,
   "metadata": {
    "collapsed": true
   },
   "outputs": [],
   "source": [
    "import lxml.html"
   ]
  },
  {
   "cell_type": "code",
   "execution_count": 174,
   "metadata": {
    "collapsed": true
   },
   "outputs": [],
   "source": [
    "url = 'https://www.instagram.com/p/BUCPaLQBb2r/?taken-by=dlwlrma&hl=ko'"
   ]
  },
  {
   "cell_type": "code",
   "execution_count": 175,
   "metadata": {
    "collapsed": true
   },
   "outputs": [],
   "source": [
    "res = requests.get(url)"
   ]
  },
  {
   "cell_type": "code",
   "execution_count": 176,
   "metadata": {
    "collapsed": false
   },
   "outputs": [
    {
     "data": {
      "text/plain": [
       "200"
      ]
     },
     "execution_count": 176,
     "metadata": {},
     "output_type": "execute_result"
    }
   ],
   "source": [
    "res.status_code"
   ]
  },
  {
   "cell_type": "code",
   "execution_count": 177,
   "metadata": {
    "collapsed": true
   },
   "outputs": [],
   "source": [
    "root = lxml.html.fromstring(res.text)"
   ]
  },
  {
   "cell_type": "code",
   "execution_count": 178,
   "metadata": {
    "collapsed": true
   },
   "outputs": [],
   "source": [
    "scripts = root.cssselect('script')"
   ]
  },
  {
   "cell_type": "code",
   "execution_count": 179,
   "metadata": {
    "collapsed": false,
    "scrolled": false
   },
   "outputs": [
    {
     "data": {
      "text/plain": [
       "'window._sharedData = {\"activity_counts\": null, \"config\": {\"csrf_token\": \"PDTYmLm6oRt8wXbkbT69SGw7tSrK3zos\", \"viewer\": null}, \"country_code\": \"KR\", \"language_code\": \"ko\", \"entry_data\": {\"PostPage\": [{\"graphql\": {\"shortcode_media\": {\"__typename\": \"GraphImage\", \"id\": \"1513840194233941419\", \"shortcode\": \"BUCPaLQBb2r\", \"dimensions\": {\"height\": 1349, \"width\": 1080}, \"display_url\": \"https://scontent-hkg3-2.cdninstagram.com/t51.2885-15/e35/18444702_512530218870867_2575925065480667136_n.jpg\", \"is_video\": false, \"edge_media_to_tagged_user\": {\"edges\": []}, \"edge_media_to_caption\": {\"edges\": [{\"node\": {\"text\": \"\\\\uc9c0\\\\ub098\\\\uac00\\\\ub2e4 #\\\\ube60\\\\ub808\\\\ud2b8 \\\\ubc1c\\\\uacac!\"}}]}, \"caption_is_edited\": false, \"edge_media_to_comment\": {\"count\": 3418, \"page_info\": {\"has_next_page\": true, \"end_cursor\": \"AQBOio5HrVwpHf77C6PvNIVqW0-G-s1IF_A4KVamks8jpo2rzInBQZGaldrc_VbpH5Zso9Tfo5HCiaGu4ckwI4xlF5-XAWpVm1sutkuv4M3Y7w\"}, \"edges\": [{\"node\": {\"id\": \"17870442001117880\", \"text\": \"4M\\\\ud83d\\\\udc4f\\\\ud83c\\\\udffb\\\\ud83d\\\\udc4f\\\\ud83c\\\\udffb\\\\ud83d\\\\udc4f\\\\ud83c\\\\udffb\\\\u2764\\\\ud83d\\\\udc8b\", \"created_at\": 1496068518, \"owner\": {\"id\": \"1327739384\", \"profile_pic_url\": \"https://scontent-hkg3-2.cdninstagram.com/t51.2885-19/s150x150/15803573_1353229571364124_8017508643643588608_n.jpg\", \"username\": \"aiyx3\"}}}, {\"node\": {\"id\": \"17860120810140312\", \"text\": \"\\\\ud83d\\\\udc9c\\\\ud83d\\\\udc9c\\\\ud83d\\\\udc9c\\\\ud83d\\\\udc9c\\\\ud83d\\\\udc9c\\\\ud83d\\\\udc9c\", \"created_at\": 1496072119, \"owner\": {\"id\": \"2175864049\", \"profile_pic_url\": \"https://scontent-hkg3-2.cdninstagram.com/t51.2885-19/s150x150/16122957_1723722997653429_960675847860125696_a.jpg\", \"username\": \"shjiong\"}}}, {\"node\": {\"id\": \"17882149579039206\", \"text\": \"\\\\ub0b4\\\\uce04\\\\ub7f4\\\\ud568\\\\uc774 \\\\uac00\\\\uc7a5 \\\\ub9e4\\\\ub825\\\\uc778 \\\\uc9c0\\\\uc740\\\\ub2d8\\\\ud83e\\\\udd21\\\\u2763\\\\ufe0f\", \"created_at\": 1496072334, \"owner\": {\"id\": \"2250297403\", \"profile_pic_url\": \"https://scontent-hkg3-2.cdninstagram.com/t51.2885-19/s150x150/18161849_109889446245744_6129760827881816064_a.jpg\", \"username\": \"sjji__\"}}}, {\"node\": {\"id\": \"17873191846077298\", \"text\": \"Nice!\\\\ud83d\\\\udc93\\\\ud83d\\\\udc93\", \"created_at\": 1496074550, \"owner\": {\"id\": \"1060839214\", \"profile_pic_url\": \"https://scontent-hkg3-2.cdninstagram.com/t51.2885-19/s150x150/18723628_248618682286682_8111590086946062336_a.jpg\", \"username\": \"me_in_sta_gram\"}}}, {\"node\": {\"id\": \"17860152931134407\", \"text\": \"\\\\ubc14\\\\ubcf4\\\\uc57c\\\\ud83d\\\\ude08\", \"created_at\": 1496119719, \"owner\": {\"id\": \"4341513283\", \"profile_pic_url\": \"https://scontent-hkg3-2.cdninstagram.com/t51.2885-19/s150x150/18512677_800071883485252_9215604562730156032_a.jpg\", \"username\": \"sweeetie_01\"}}}, {\"node\": {\"id\": \"17881841665016008\", \"text\": \"\\\\uc2dc\\\\ubc1c\\\\ud83d\\\\udc79\", \"created_at\": 1496119732, \"owner\": {\"id\": \"4341513283\", \"profile_pic_url\": \"https://scontent-hkg3-2.cdninstagram.com/t51.2885-19/s150x150/18512677_800071883485252_9215604562730156032_a.jpg\", \"username\": \"sweeetie_01\"}}}, {\"node\": {\"id\": \"17870069368100757\", \"text\": \"\\\\ub098\\\\uc05c\\\\uc544\\\\uc8fc\\\\ub9c8\\\\ud83d\\\\ude08\\\\ud83d\\\\ude2c\\\\ud83d\\\\udc7f\", \"created_at\": 1496119750, \"owner\": {\"id\": \"4341513283\", \"profile_pic_url\": \"https://scontent-hkg3-2.cdninstagram.com/t51.2885-19/s150x150/18512677_800071883485252_9215604562730156032_a.jpg\", \"username\": \"sweeetie_01\"}}}, {\"node\": {\"id\": \"17872986004078027\", \"text\": \"\\\\u0417\\\\u0430\\\\u043a\\\\u0440\\\\u043e\\\\u0439 \\\\u0440\\\\u043e\\\\u0442 @sweeetie_01\", \"created_at\": 1496119928, \"owner\": {\"id\": \"4845999116\", \"profile_pic_url\": \"https://scontent-hkg3-2.cdninstagram.com/t51.2885-19/s150x150/18580621_1798076907174037_8607567176506802176_a.jpg\", \"username\": \"hoz_0427\"}}}, {\"node\": {\"id\": \"17842623709198059\", \"text\": \"@hoz_0427 \\\\u0434\\\\u0443\\\\u0440\\\\u0430 \\\\u0437\\\\u0430 \\\\u043a\", \"created_at\": 1496121442, \"owner\": {\"id\": \"4341513283\", \"profile_pic_url\": \"https://scontent-hkg3-2.cdninstagram.com/t51.2885-19/s150x150/18512677_800071883485252_9215604562730156032_a.jpg\", \"username\": \"sweeetie_01\"}}}, {\"node\": {\"id\": \"17869408198121152\", \"text\": \"\\\\u041a\\\\u043e\\\\u0433\\\\u043e \\\\u0442\\\\u044b \\\\u0437\\\\u0430\\\\u0441\\\\u0442\\\\u0443\\\\u043f\\\\u0430\\\\u0435\\\\u0448\\\\u0441\\\\u044f @hoz_0427\", \"created_at\": 1496121457, \"owner\": {\"id\": \"4341513283\", \"profile_pic_url\": \"https://scontent-hkg3-2.cdninstagram.com/t51.2885-19/s150x150/18512677_800071883485252_9215604562730156032_a.jpg\", \"username\": \"sweeetie_01\"}}}, {\"node\": {\"id\": \"17875241446073744\", \"text\": \"\\\\ud83d\\\\ude2d\", \"created_at\": 1496140540, \"owner\": {\"id\": \"2190291322\", \"profile_pic_url\": \"https://scontent-hkg3-2.cdninstagram.com/t51.2885-19/s150x150/18812029_1492054827536035_3795741918378328064_a.jpg\", \"username\": \"isbl.ico\"}}}, {\"node\": {\"id\": \"17870642680097418\", \"text\": \"Bebek gibi g\\\\u00f6r\\\\u00fcnmeye \\\\u00e7al\\\\u0131\\\\u015fma maymun\", \"created_at\": 1496152024, \"owner\": {\"id\": \"4226151221\", \"profile_pic_url\": \"https://scontent-hkg3-2.cdninstagram.com/t51.2885-19/s150x150/18809137_469757676694874_8211701750231465984_a.jpg\", \"username\": \"_kawaiix_\"}}}, {\"node\": {\"id\": \"17856645877193444\", \"text\": \"Just i like u so much\\\\ud83d\\\\udc9dpink\\\\ud83d\\\\ude18\", \"created_at\": 1496155910, \"owner\": {\"id\": \"2108556972\", \"profile_pic_url\": \"https://scontent-hkg3-2.cdninstagram.com/t51.2885-19/11208209_1646176395613813_262728125_a.jpg\", \"username\": \"sohogentle\"}}}, {\"node\": {\"id\": \"17881424143016543\", \"text\": \"IU I love you so much and I\\'m glad that you\\'re looking good and happy after your trip in jeju. Do not mind those comments and I\\'m sure you are only taking them as your milk after feeding on us star candies \\\\ud83d\\\\ude00\\\\u2764\\\\u2764\\\\u2764\", \"created_at\": 1496208920, \"owner\": {\"id\": \"708040544\", \"profile_pic_url\": \"https://scontent-hkg3-2.cdninstagram.com/t51.2885-19/s150x150/18160422_1868936119988794_3043494111769264128_a.jpg\", \"username\": \"pear_palette\"}}}, {\"node\": {\"id\": \"17860301554132897\", \"text\": \"Saranghae~ IU sunbaenim \\\\u2665 ^^\", \"created_at\": 1496214234, \"owner\": {\"id\": \"2871171341\", \"profile_pic_url\": \"https://scontent-hkg3-2.cdninstagram.com/t51.2885-19/s150x150/18808874_444012965953611_7437738889621536768_a.jpg\", \"username\": \"nzkookie\"}}}, {\"node\": {\"id\": \"17860068799140716\", \"text\": \"If you hate her that much why don\\'t you just STFU!!! And don\\'t make her sad!!!! If anything happens bad to IU I\\'m gonna fucking kill that person who makes IU sad!\", \"created_at\": 1496221897, \"owner\": {\"id\": \"3920811867\", \"profile_pic_url\": \"https://scontent-hkg3-2.cdninstagram.com/t51.2885-19/s150x150/18645753_300463403739374_8262079302841925632_a.jpg\", \"username\": \"bimm_mm\"}}}, {\"node\": {\"id\": \"17870607523097525\", \"text\": \"\\\\ub2d8 \\\\uc18c\\\\ub4c0 \\\\uc88b\\\\uc544\\\\ud574\\\\uc694?\", \"created_at\": 1496233417, \"owner\": {\"id\": \"1521938961\", \"profile_pic_url\": \"https://scontent-hkg3-2.cdninstagram.com/t51.2885-19/s150x150/18443787_318548008563274_5718864596618444800_a.jpg\", \"username\": \"mutax_c\"}}}, {\"node\": {\"id\": \"17882273254028727\", \"text\": \"Weh kan. Ana buu tp angel namane wkwkwk @rizaikhoirunnisa\", \"created_at\": 1496234827, \"owner\": {\"id\": \"2272024254\", \"profile_pic_url\": \"https://scontent-hkg3-2.cdninstagram.com/t51.2885-19/s150x150/17333267_188655791637191_6723087049173237760_a.jpg\", \"username\": \"rulidiir\"}}}, {\"node\": {\"id\": \"17881792234005706\", \"text\": \"\\\\uc5b8\\\\ub2c8 \\\\uc774\\\\ubed0\\\\uc694 \\\\ud83d\\\\udc9e\\\\ud83d\\\\udc9e\\\\ud83d\\\\udc9e\\\\ud83d\\\\udc95\\\\ud83d\\\\udc95\", \"created_at\": 1496235610, \"owner\": {\"id\": \"5353498355\", \"profile_pic_url\": \"https://scontent-hkg3-2.cdninstagram.com/t51.2885-19/s150x150/17933779_1985799044982308_2184649017919537152_a.jpg\", \"username\": \"jitimes\"}}}, {\"node\": {\"id\": \"17856956500171127\", \"text\": \"\\\\ud83d\\\\ude0a\", \"created_at\": 1496237868, \"owner\": {\"id\": \"4542978852\", \"profile_pic_url\": \"https://scontent-hkg3-2.cdninstagram.com/t51.2885-19/s150x150/17587133_1305520506228859_6176745579666735104_a.jpg\", \"username\": \"herlena_adis\"}}}, {\"node\": {\"id\": \"17867810146086899\", \"text\": \"\\\\uc608\\\\uc05c \\\\uc544\\\\uc774\\\\uc720\\\\uc5b8\\\\ub2c8\\\\ud83d\\\\ude42\\\\ud83d\\\\ude42\\\\ud83d\\\\ude42\", \"created_at\": 1496240577, \"owner\": {\"id\": \"3562266153\", \"profile_pic_url\": \"https://scontent-hkg3-2.cdninstagram.com/t51.2885-19/s150x150/18888425_497581720632840_1222371499445321728_a.jpg\", \"username\": \"prosecutor0425\"}}}, {\"node\": {\"id\": \"17858497366149933\", \"text\": \"long time no see\\\\u2026\\\\ud83e\\\\udd13\", \"created_at\": 1496243154, \"owner\": {\"id\": \"5523583182\", \"profile_pic_url\": \"https://scontent-hkg3-2.cdninstagram.com/t51.2885-19/s150x150/18808934_296144524171374_2173046232488869888_a.jpg\", \"username\": \"agdmjw\"}}}, {\"node\": {\"id\": \"17882064406061299\", \"text\": \"\\\\uc5b8\\\\ub2c8 \\\\uc0ac\\\\ub791\\\\ud574\\\\uc6a9 \\\\ud83d\\\\udc9e \\\\ud83d\\\\udc9e \\\\ud83d\\\\udc9e\", \"created_at\": 1496252496, \"owner\": {\"id\": \"5353498355\", \"profile_pic_url\": \"https://scontent-hkg3-2.cdninstagram.com/t51.2885-19/s150x150/17933779_1985799044982308_2184649017919537152_a.jpg\", \"username\": \"jitimes\"}}}, {\"node\": {\"id\": \"17867783530091708\", \"text\": \"\\\\ud83c\\\\udf3c\\\\ud83c\\\\udf3c\\\\ud83c\\\\udf3c\\\\ud83c\\\\udf3c\", \"created_at\": 1496252502, \"owner\": {\"id\": \"5353498355\", \"profile_pic_url\": \"https://scontent-hkg3-2.cdninstagram.com/t51.2885-19/s150x150/17933779_1985799044982308_2184649017919537152_a.jpg\", \"username\": \"jitimes\"}}}, {\"node\": {\"id\": \"17873298772077800\", \"text\": \"\\\\u5185\\\\u5fc3\\\\u714e\\\\u71ac\\\\uff0c\\\\u800c\\\\u6211\\\\u5374\\\\u8bf4\\\\u4e0d\\\\u51fa\\\\u53e3\", \"created_at\": 1496254879, \"owner\": {\"id\": \"5383738005\", \"profile_pic_url\": \"https://scontent-hkg3-2.cdninstagram.com/t51.2885-19/s150x150/18013758_104885330079694_7780083006139531264_a.jpg\", \"username\": \"deningteng\"}}}, {\"node\": {\"id\": \"17856581320188815\", \"text\": \"\\\\ud314\\\\ub808\\\\ud2b8 \\\\ub178\\\\ub798 \\\\uc9c4\\\\uc9dc \\\\ub108\\\\ubb34 \\\\ub108\\\\ubb34 \\\\uc88b\\\\uc544\\\\uc694. \\\\uc774\\\\ub807\\\\uac8c \\\\uc88b\\\\uc740 \\\\uc74c\\\\uc545 \\\\ub4e4\\\\ub824\\\\uc8fc\\\\uc154\\\\uc11c \\\\uc815\\\\ub9d0 \\\\uac10\\\\uc0ac\\\\ud574\\\\uc694. \\\\uc9c0\\\\uc740\\\\ub2d8 \\\\ub178\\\\ub798\\\\uc911\\\\uc5d0 \\\\uc81c\\\\uc77c \\\\uba85\\\\uace1\\\\uc778 \\\\uac83 \\\\uac19\\\\uc544\\\\uc694.\\\\ubaa8\\\\ub4e0 \\\\ubba4\\\\uc9c0\\\\uc158\\\\uc911\\\\uc5d0\\\\uc11c \\\\uc824\\\\ub8e8 \\\\uc0ac\\\\ub791\\\\ud569\\\\ub2c8\\\\ub2e4.\", \"created_at\": 1496273955, \"owner\": {\"id\": \"584460958\", \"profile_pic_url\": \"https://scontent-hkg3-2.cdninstagram.com/t51.2885-19/s150x150/12328239_943804629039290_467033593_a.jpg\", \"username\": \"espresso_chip\"}}}, {\"node\": {\"id\": \"17869406485126949\", \"text\": \"Gorg\\\\ud83d\\\\udc95\", \"created_at\": 1496287293, \"owner\": {\"id\": \"5424014863\", \"profile_pic_url\": \"https://scontent-hkg3-2.cdninstagram.com/t51.2885-19/s150x150/18723032_228462657643348_8483208829402611712_a.jpg\", \"username\": \"xxmengxy18\"}}}, {\"node\": {\"id\": \"17870871490102055\", \"text\": \"cute\", \"created_at\": 1496299800, \"owner\": {\"id\": \"5524440038\", \"profile_pic_url\": \"https://scontent-hkg3-2.cdninstagram.com/t51.2885-19/s150x150/18723433_1365235193557759_1821609592895832064_a.jpg\", \"username\": \"zhuling_jelly\"}}}, {\"node\": {\"id\": \"17870509555119140\", \"text\": \"\\\\ud83d\\\\udc95\\\\ud83d\\\\udc95\\\\ud83d\\\\udc95 dolu\\\\u015fmu\\\\u015f yine haterc\\\\u0131lar yerim ulan \\\\ud83d\\\\udc95\\\\ud83d\\\\udc95\\\\ud83d\\\\udc95\\\\ud83d\\\\udc95\\\\ud83d\\\\udc95\", \"created_at\": 1496374581, \"owner\": {\"id\": \"4344662271\", \"profile_pic_url\": \"https://scontent-hkg3-2.cdninstagram.com/t51.2885-19/s150x150/17334276_651429181711547_525064296011399168_a.jpg\", \"username\": \"ayyiuu\"}}}, {\"node\": {\"id\": \"17883188830025715\", \"text\": \"maymu\\\\u015fum benim \\\\ud83d\\\\udc95\\\\ud83d\\\\udc95\\\\ud83d\\\\udc95\\\\ud83d\\\\udc95\", \"created_at\": 1496374598, \"owner\": {\"id\": \"4344662271\", \"profile_pic_url\": \"https://scontent-hkg3-2.cdninstagram.com/t51.2885-19/s150x150/17334276_651429181711547_525064296011399168_a.jpg\", \"username\": \"ayyiuu\"}}}, {\"node\": {\"id\": \"17857573888167862\", \"text\": \"\\\\ud83d\\\\udc9d\\\\ud83d\\\\udc9d\\\\ud83d\\\\udc9d\\\\ud83d\\\\udc9d\\\\ud83d\\\\udc9d\\\\ud83d\\\\udc9d my monkey, i love u so much.\", \"created_at\": 1496374894, \"owner\": {\"id\": \"4344662271\", \"profile_pic_url\": \"https://scontent-hkg3-2.cdninstagram.com/t51.2885-19/s150x150/17334276_651429181711547_525064296011399168_a.jpg\", \"username\": \"ayyiuu\"}}}, {\"node\": {\"id\": \"17867906842089428\", \"text\": \"I was really shocked when i saw suho on the fantastic duo i guess he is your fanboy kkk\", \"created_at\": 1496375210, \"owner\": {\"id\": \"4344662271\", \"profile_pic_url\": \"https://scontent-hkg3-2.cdninstagram.com/t51.2885-19/s150x150/17334276_651429181711547_525064296011399168_a.jpg\", \"username\": \"ayyiuu\"}}}, {\"node\": {\"id\": \"17857033228168428\", \"text\": \"and kang haneul kkk he is so cute.\", \"created_at\": 1496375257, \"owner\": {\"id\": \"4344662271\", \"profile_pic_url\": \"https://scontent-hkg3-2.cdninstagram.com/t51.2885-19/s150x150/17334276_651429181711547_525064296011399168_a.jpg\", \"username\": \"ayyiuu\"}}}, {\"node\": {\"id\": \"17857162165175250\", \"text\": \"But you are the cutest person I\\'ve ever seen \\\\ud83d\\\\udc9d\\\\ud83d\\\\udc9d\\\\ud83d\\\\udc9d\\\\ud83d\\\\udc9d Jigeum i love u so much \\\\ud83d\\\\udc9d\\\\ud83d\\\\udc9d\", \"created_at\": 1496375351, \"owner\": {\"id\": \"4344662271\", \"profile_pic_url\": \"https://scontent-hkg3-2.cdninstagram.com/t51.2885-19/s150x150/17334276_651429181711547_525064296011399168_a.jpg\", \"username\": \"ayyiuu\"}}}, {\"node\": {\"id\": \"17884335370002561\", \"text\": \"\\\\ud83d\\\\udc95\\\\ud83d\\\\udc95 Korea\\'s most talented artist\", \"created_at\": 1496375459, \"owner\": {\"id\": \"4344662271\", \"profile_pic_url\": \"https://scontent-hkg3-2.cdninstagram.com/t51.2885-19/s150x150/17334276_651429181711547_525064296011399168_a.jpg\", \"username\": \"ayyiuu\"}}}, {\"node\": {\"id\": \"17860081516134315\", \"text\": \"\\\\ud83d\\\\udc9d\\\\ud83d\\\\udc9d\\\\ud83d\\\\udc95\\\\ud83d\\\\udc95\", \"created_at\": 1496375505, \"owner\": {\"id\": \"4344662271\", \"profile_pic_url\": \"https://scontent-hkg3-2.cdninstagram.com/t51.2885-19/s150x150/17334276_651429181711547_525064296011399168_a.jpg\", \"username\": \"ayyiuu\"}}}, {\"node\": {\"id\": \"17881968928025969\", \"text\": \"\\\\u2764\\\\ufe0f\", \"created_at\": 1496380320, \"owner\": {\"id\": \"1699145389\", \"profile_pic_url\": \"https://scontent-hkg3-2.cdninstagram.com/t51.2885-19/s150x150/14487450_1817291705209365_2518013422973485056_a.jpg\", \"username\": \"mileydt\"}}}, {\"node\": {\"id\": \"17881559938014941\", \"text\": \"Like a jeon jungkook\", \"created_at\": 1496409482, \"owner\": {\"id\": \"5448045363\", \"profile_pic_url\": \"https://scontent-hkg3-2.cdninstagram.com/t51.2885-19/s150x150/18808983_1412208028844505_8809225228312903680_a.jpg\", \"username\": \"prd_anya\"}}}, {\"node\": {\"id\": \"17882435842050178\", \"text\": \"\\\\uc5b8\\\\ub2c8 \\\\uc9c4\\\\uc9dc \\\\ub178\\\\ub798 \\\\ub108\\\\ubb34 \\\\uc88b\\\\uc544\\\\uc694 \\\\uc9c4\\\\uc9dc!!!!!!!!!! \\\\uc774\\\\uc9c0\\\\uc740 \\\\ub300\\\\ubc15\\\\ub098\\\\ub77c \\\\u3160\\\\u3160\\\\u3160\\\\u3160 \\\\ub300\\\\ubc15\\\\ub0ac\\\\uc9c0\\\\ub9cc \\\\ub354 \\\\ub300\\\\ubc15\\\\ub098\\\\ub77c \\\\ub3c8\\\\ubaa8\\\\uc544\\\\u3153\\\\uc11c\\\\ucf58\\\\uc11c\\\\ud2b8\\\\uac08\\\\uace0\\\\uc58f!!!!!\\\\ub108\\\\ubb34\\\\uc88b\\\\ub124\\\\uc5ec..\\\\uc9c4\\\\uc9dc..\", \"created_at\": 1496412954, \"owner\": {\"id\": \"1674990234\", \"profile_pic_url\": \"https://scontent-hkg3-2.cdninstagram.com/t51.2885-19/s150x150/16906447_1388574237866670_8058419676016803840_a.jpg\", \"username\": \"ddodeomi96\"}}}]}, \"comments_disabled\": false, \"taken_at_timestamp\": 1494683835, \"edge_media_preview_like\": {\"count\": 449763, \"edges\": [{\"node\": {\"id\": \"2083088509\", \"profile_pic_url\": \"https://scontent-hkg3-2.cdninstagram.com/t51.2885-19/s150x150/18644738_213634639155044_5154215902027186176_a.jpg\", \"username\": \"14l_arruda\"}}, {\"node\": {\"id\": \"3678325338\", \"profile_pic_url\": \"https://scontent-hkg3-2.cdninstagram.com/t51.2885-19/s150x150/18808813_113381642583812_3652875955900252160_a.jpg\", \"username\": \"koreturk12\"}}, {\"node\": {\"id\": \"3200194795\", \"profile_pic_url\": \"https://scontent-hkg3-2.cdninstagram.com/t51.2885-19/s150x150/18808756_1497497560281537_9185832077067550720_a.jpg\", \"username\": \"jewelyuliek\"}}, {\"node\": {\"id\": \"2042891097\", \"profile_pic_url\": \"https://scontent-hkg3-2.cdninstagram.com/t51.2885-19/s150x150/18514140_1870187853223464_8280938452699054080_a.jpg\", \"username\": \"fdhilatami\"}}, {\"node\": {\"id\": \"3116883098\", \"profile_pic_url\": \"https://scontent-hkg3-2.cdninstagram.com/t51.2885-19/s150x150/18580848_1940559846180059_3945534954435248128_a.jpg\", \"username\": \"wandiraayu206\"}}, {\"node\": {\"id\": \"5531406061\", \"profile_pic_url\": \"https://scontent-hkg3-2.cdninstagram.com/t51.2885-19/s150x150/18808788_1323131607794413_9178564034625011712_a.jpg\", \"username\": \"dear.sujifei\"}}, {\"node\": {\"id\": \"2154695313\", \"profile_pic_url\": \"https://scontent-hkg3-2.cdninstagram.com/t51.2885-19/s150x150/18809594_133183637243726_5649141347370663936_a.jpg\", \"username\": \"y__nlinhh\"}}, {\"node\": {\"id\": \"3023807716\", \"profile_pic_url\": \"https://scontent-hkg3-2.cdninstagram.com/t51.2885-19/s150x150/13643489_264608347238908_439162812_a.jpg\", \"username\": \"liu_wannn__\"}}, {\"node\": {\"id\": \"3804934997\", \"profile_pic_url\": \"https://scontent-hkg3-2.cdninstagram.com/t51.2885-19/s150x150/14134937_567917123411956_61207789_a.jpg\", \"username\": \"zkktiony\"}}, {\"node\": {\"id\": \"2536900641\", \"profile_pic_url\": \"https://scontent-hkg3-2.cdninstagram.com/t51.2885-19/s150x150/18879187_1565494503463351_8970009888839172096_a.jpg\", \"username\": \"gabriella_paskalia\"}}]}, \"edge_media_to_sponsor_user\": {\"edges\": []}, \"location\": null, \"viewer_has_liked\": false, \"owner\": {\"id\": \"1692800026\", \"profile_pic_url\": \"https://scontent-hkg3-2.cdninstagram.com/t51.2885-19/10948561_1404359156532776_1425325698_a.jpg\", \"username\": \"dlwlrma\", \"followed_by_viewer\": false, \"full_name\": \"\\\\uc774\\\\uc9c0\\\\uae08\", \"is_private\": false, \"requested_by_viewer\": false, \"is_unpublished\": false, \"blocked_by_viewer\": false, \"has_blocked_viewer\": false}, \"is_ad\": false, \"edge_web_media_to_related_media\": {\"edges\": []}}}}]}, \"gatekeepers\": {\"bn\": true, \"ld\": true, \"pl\": true}, \"qe\": {\"ebd\": {\"g\": \"control\", \"p\": {\"use_new_styles\": \"true\"}}, \"bc3l\": {\"g\": \"\", \"p\": {}}, \"create\": {\"g\": \"\", \"p\": {}}, \"disc\": {\"g\": \"\", \"p\": {}}, \"empty_profile\": {\"g\": \"\", \"p\": {}}, \"feed\": {\"g\": \"\", \"p\": {}}, \"gql\": {\"g\": \"\", \"p\": {}}, \"su_universe\": {\"g\": \"\", \"p\": {}}, \"us\": {\"g\": \"\", \"p\": {}}, \"us_li\": {\"g\": \"\", \"p\": {}}, \"nav\": {\"g\": \"\", \"p\": {}}, \"nav_lo\": {\"g\": \"\", \"p\": {}}, \"poe\": {\"g\": \"\", \"p\": {}}, \"pm\": {\"g\": \"\", \"p\": {}}, \"profile\": {\"g\": \"\", \"p\": {}}, \"deact\": {\"g\": \"\", \"p\": {}}, \"sidecar\": {\"g\": \"\", \"p\": {}}, \"ufi\": {\"g\": \"\", \"p\": {}}, \"ufi_loggedout\": {\"g\": \"\", \"p\": {}}, \"video\": {\"g\": \"\", \"p\": {}}, \"filters\": {\"g\": \"\", \"p\": {}}}, \"hostname\": \"www.instagram.com\", \"display_properties_server_guess\": {\"pixel_ratio\": 1.5, \"viewport_width\": 360}, \"environment_switcher_visible_server_guess\": true, \"platform\": \"web\", \"probably_has_app\": false, \"show_app_install\": true};'"
      ]
     },
     "execution_count": 179,
     "metadata": {},
     "output_type": "execute_result"
    }
   ],
   "source": [
    "scripts[3].text"
   ]
  },
  {
   "cell_type": "code",
   "execution_count": 180,
   "metadata": {
    "collapsed": true
   },
   "outputs": [],
   "source": [
    "start = len('window._sharedData = ')\n",
    "end = len(';')"
   ]
  },
  {
   "cell_type": "code",
   "execution_count": 182,
   "metadata": {
    "collapsed": false
   },
   "outputs": [],
   "source": [
    "comments = json.loads(scripts[3].text[start:-end])"
   ]
  },
  {
   "cell_type": "code",
   "execution_count": 198,
   "metadata": {
    "collapsed": false,
    "scrolled": false
   },
   "outputs": [
    {
     "data": {
      "text/plain": [
       "{'activity_counts': None,\n",
       " 'config': {'csrf_token': 'PDTYmLm6oRt8wXbkbT69SGw7tSrK3zos', 'viewer': None},\n",
       " 'country_code': 'KR',\n",
       " 'display_properties_server_guess': {'pixel_ratio': 1.5,\n",
       "  'viewport_width': 360},\n",
       " 'entry_data': {'PostPage': [{'graphql': {'shortcode_media': {'__typename': 'GraphImage',\n",
       "      'caption_is_edited': False,\n",
       "      'comments_disabled': False,\n",
       "      'dimensions': {'height': 1349, 'width': 1080},\n",
       "      'display_url': 'https://scontent-hkg3-2.cdninstagram.com/t51.2885-15/e35/18444702_512530218870867_2575925065480667136_n.jpg',\n",
       "      'edge_media_preview_like': {'count': 449763,\n",
       "       'edges': [{'node': {'id': '2083088509',\n",
       "          'profile_pic_url': 'https://scontent-hkg3-2.cdninstagram.com/t51.2885-19/s150x150/18644738_213634639155044_5154215902027186176_a.jpg',\n",
       "          'username': '14l_arruda'}},\n",
       "        {'node': {'id': '3678325338',\n",
       "          'profile_pic_url': 'https://scontent-hkg3-2.cdninstagram.com/t51.2885-19/s150x150/18808813_113381642583812_3652875955900252160_a.jpg',\n",
       "          'username': 'koreturk12'}},\n",
       "        {'node': {'id': '3200194795',\n",
       "          'profile_pic_url': 'https://scontent-hkg3-2.cdninstagram.com/t51.2885-19/s150x150/18808756_1497497560281537_9185832077067550720_a.jpg',\n",
       "          'username': 'jewelyuliek'}},\n",
       "        {'node': {'id': '2042891097',\n",
       "          'profile_pic_url': 'https://scontent-hkg3-2.cdninstagram.com/t51.2885-19/s150x150/18514140_1870187853223464_8280938452699054080_a.jpg',\n",
       "          'username': 'fdhilatami'}},\n",
       "        {'node': {'id': '3116883098',\n",
       "          'profile_pic_url': 'https://scontent-hkg3-2.cdninstagram.com/t51.2885-19/s150x150/18580848_1940559846180059_3945534954435248128_a.jpg',\n",
       "          'username': 'wandiraayu206'}},\n",
       "        {'node': {'id': '5531406061',\n",
       "          'profile_pic_url': 'https://scontent-hkg3-2.cdninstagram.com/t51.2885-19/s150x150/18808788_1323131607794413_9178564034625011712_a.jpg',\n",
       "          'username': 'dear.sujifei'}},\n",
       "        {'node': {'id': '2154695313',\n",
       "          'profile_pic_url': 'https://scontent-hkg3-2.cdninstagram.com/t51.2885-19/s150x150/18809594_133183637243726_5649141347370663936_a.jpg',\n",
       "          'username': 'y__nlinhh'}},\n",
       "        {'node': {'id': '3023807716',\n",
       "          'profile_pic_url': 'https://scontent-hkg3-2.cdninstagram.com/t51.2885-19/s150x150/13643489_264608347238908_439162812_a.jpg',\n",
       "          'username': 'liu_wannn__'}},\n",
       "        {'node': {'id': '3804934997',\n",
       "          'profile_pic_url': 'https://scontent-hkg3-2.cdninstagram.com/t51.2885-19/s150x150/14134937_567917123411956_61207789_a.jpg',\n",
       "          'username': 'zkktiony'}},\n",
       "        {'node': {'id': '2536900641',\n",
       "          'profile_pic_url': 'https://scontent-hkg3-2.cdninstagram.com/t51.2885-19/s150x150/18879187_1565494503463351_8970009888839172096_a.jpg',\n",
       "          'username': 'gabriella_paskalia'}}]},\n",
       "      'edge_media_to_caption': {'edges': [{'node': {'text': '지나가다 #빠레트 발견!'}}]},\n",
       "      'edge_media_to_comment': {'count': 3418,\n",
       "       'edges': [{'node': {'created_at': 1496068518,\n",
       "          'id': '17870442001117880',\n",
       "          'owner': {'id': '1327739384',\n",
       "           'profile_pic_url': 'https://scontent-hkg3-2.cdninstagram.com/t51.2885-19/s150x150/15803573_1353229571364124_8017508643643588608_n.jpg',\n",
       "           'username': 'aiyx3'},\n",
       "          'text': '4M👏🏻👏🏻👏🏻❤💋'}},\n",
       "        {'node': {'created_at': 1496072119,\n",
       "          'id': '17860120810140312',\n",
       "          'owner': {'id': '2175864049',\n",
       "           'profile_pic_url': 'https://scontent-hkg3-2.cdninstagram.com/t51.2885-19/s150x150/16122957_1723722997653429_960675847860125696_a.jpg',\n",
       "           'username': 'shjiong'},\n",
       "          'text': '💜💜💜💜💜💜'}},\n",
       "        {'node': {'created_at': 1496072334,\n",
       "          'id': '17882149579039206',\n",
       "          'owner': {'id': '2250297403',\n",
       "           'profile_pic_url': 'https://scontent-hkg3-2.cdninstagram.com/t51.2885-19/s150x150/18161849_109889446245744_6129760827881816064_a.jpg',\n",
       "           'username': 'sjji__'},\n",
       "          'text': '내츄럴함이 가장 매력인 지은님\\U0001f921❣️'}},\n",
       "        {'node': {'created_at': 1496074550,\n",
       "          'id': '17873191846077298',\n",
       "          'owner': {'id': '1060839214',\n",
       "           'profile_pic_url': 'https://scontent-hkg3-2.cdninstagram.com/t51.2885-19/s150x150/18723628_248618682286682_8111590086946062336_a.jpg',\n",
       "           'username': 'me_in_sta_gram'},\n",
       "          'text': 'Nice!💓💓'}},\n",
       "        {'node': {'created_at': 1496119719,\n",
       "          'id': '17860152931134407',\n",
       "          'owner': {'id': '4341513283',\n",
       "           'profile_pic_url': 'https://scontent-hkg3-2.cdninstagram.com/t51.2885-19/s150x150/18512677_800071883485252_9215604562730156032_a.jpg',\n",
       "           'username': 'sweeetie_01'},\n",
       "          'text': '바보야😈'}},\n",
       "        {'node': {'created_at': 1496119732,\n",
       "          'id': '17881841665016008',\n",
       "          'owner': {'id': '4341513283',\n",
       "           'profile_pic_url': 'https://scontent-hkg3-2.cdninstagram.com/t51.2885-19/s150x150/18512677_800071883485252_9215604562730156032_a.jpg',\n",
       "           'username': 'sweeetie_01'},\n",
       "          'text': '시발👹'}},\n",
       "        {'node': {'created_at': 1496119750,\n",
       "          'id': '17870069368100757',\n",
       "          'owner': {'id': '4341513283',\n",
       "           'profile_pic_url': 'https://scontent-hkg3-2.cdninstagram.com/t51.2885-19/s150x150/18512677_800071883485252_9215604562730156032_a.jpg',\n",
       "           'username': 'sweeetie_01'},\n",
       "          'text': '나쁜아주마😈😬👿'}},\n",
       "        {'node': {'created_at': 1496119928,\n",
       "          'id': '17872986004078027',\n",
       "          'owner': {'id': '4845999116',\n",
       "           'profile_pic_url': 'https://scontent-hkg3-2.cdninstagram.com/t51.2885-19/s150x150/18580621_1798076907174037_8607567176506802176_a.jpg',\n",
       "           'username': 'hoz_0427'},\n",
       "          'text': 'Закрой рот @sweeetie_01'}},\n",
       "        {'node': {'created_at': 1496121442,\n",
       "          'id': '17842623709198059',\n",
       "          'owner': {'id': '4341513283',\n",
       "           'profile_pic_url': 'https://scontent-hkg3-2.cdninstagram.com/t51.2885-19/s150x150/18512677_800071883485252_9215604562730156032_a.jpg',\n",
       "           'username': 'sweeetie_01'},\n",
       "          'text': '@hoz_0427 дура за к'}},\n",
       "        {'node': {'created_at': 1496121457,\n",
       "          'id': '17869408198121152',\n",
       "          'owner': {'id': '4341513283',\n",
       "           'profile_pic_url': 'https://scontent-hkg3-2.cdninstagram.com/t51.2885-19/s150x150/18512677_800071883485252_9215604562730156032_a.jpg',\n",
       "           'username': 'sweeetie_01'},\n",
       "          'text': 'Кого ты заступаешся @hoz_0427'}},\n",
       "        {'node': {'created_at': 1496140540,\n",
       "          'id': '17875241446073744',\n",
       "          'owner': {'id': '2190291322',\n",
       "           'profile_pic_url': 'https://scontent-hkg3-2.cdninstagram.com/t51.2885-19/s150x150/18812029_1492054827536035_3795741918378328064_a.jpg',\n",
       "           'username': 'isbl.ico'},\n",
       "          'text': '😭'}},\n",
       "        {'node': {'created_at': 1496152024,\n",
       "          'id': '17870642680097418',\n",
       "          'owner': {'id': '4226151221',\n",
       "           'profile_pic_url': 'https://scontent-hkg3-2.cdninstagram.com/t51.2885-19/s150x150/18809137_469757676694874_8211701750231465984_a.jpg',\n",
       "           'username': '_kawaiix_'},\n",
       "          'text': 'Bebek gibi görünmeye çalışma maymun'}},\n",
       "        {'node': {'created_at': 1496155910,\n",
       "          'id': '17856645877193444',\n",
       "          'owner': {'id': '2108556972',\n",
       "           'profile_pic_url': 'https://scontent-hkg3-2.cdninstagram.com/t51.2885-19/11208209_1646176395613813_262728125_a.jpg',\n",
       "           'username': 'sohogentle'},\n",
       "          'text': 'Just i like u so much💝pink😘'}},\n",
       "        {'node': {'created_at': 1496208920,\n",
       "          'id': '17881424143016543',\n",
       "          'owner': {'id': '708040544',\n",
       "           'profile_pic_url': 'https://scontent-hkg3-2.cdninstagram.com/t51.2885-19/s150x150/18160422_1868936119988794_3043494111769264128_a.jpg',\n",
       "           'username': 'pear_palette'},\n",
       "          'text': \"IU I love you so much and I'm glad that you're looking good and happy after your trip in jeju. Do not mind those comments and I'm sure you are only taking them as your milk after feeding on us star candies 😀❤❤❤\"}},\n",
       "        {'node': {'created_at': 1496214234,\n",
       "          'id': '17860301554132897',\n",
       "          'owner': {'id': '2871171341',\n",
       "           'profile_pic_url': 'https://scontent-hkg3-2.cdninstagram.com/t51.2885-19/s150x150/18808874_444012965953611_7437738889621536768_a.jpg',\n",
       "           'username': 'nzkookie'},\n",
       "          'text': 'Saranghae~ IU sunbaenim ♥ ^^'}},\n",
       "        {'node': {'created_at': 1496221897,\n",
       "          'id': '17860068799140716',\n",
       "          'owner': {'id': '3920811867',\n",
       "           'profile_pic_url': 'https://scontent-hkg3-2.cdninstagram.com/t51.2885-19/s150x150/18645753_300463403739374_8262079302841925632_a.jpg',\n",
       "           'username': 'bimm_mm'},\n",
       "          'text': \"If you hate her that much why don't you just STFU!!! And don't make her sad!!!! If anything happens bad to IU I'm gonna fucking kill that person who makes IU sad!\"}},\n",
       "        {'node': {'created_at': 1496233417,\n",
       "          'id': '17870607523097525',\n",
       "          'owner': {'id': '1521938961',\n",
       "           'profile_pic_url': 'https://scontent-hkg3-2.cdninstagram.com/t51.2885-19/s150x150/18443787_318548008563274_5718864596618444800_a.jpg',\n",
       "           'username': 'mutax_c'},\n",
       "          'text': '님 소듀 좋아해요?'}},\n",
       "        {'node': {'created_at': 1496234827,\n",
       "          'id': '17882273254028727',\n",
       "          'owner': {'id': '2272024254',\n",
       "           'profile_pic_url': 'https://scontent-hkg3-2.cdninstagram.com/t51.2885-19/s150x150/17333267_188655791637191_6723087049173237760_a.jpg',\n",
       "           'username': 'rulidiir'},\n",
       "          'text': 'Weh kan. Ana buu tp angel namane wkwkwk @rizaikhoirunnisa'}},\n",
       "        {'node': {'created_at': 1496235610,\n",
       "          'id': '17881792234005706',\n",
       "          'owner': {'id': '5353498355',\n",
       "           'profile_pic_url': 'https://scontent-hkg3-2.cdninstagram.com/t51.2885-19/s150x150/17933779_1985799044982308_2184649017919537152_a.jpg',\n",
       "           'username': 'jitimes'},\n",
       "          'text': '언니 이뻐요 💞💞💞💕💕'}},\n",
       "        {'node': {'created_at': 1496237868,\n",
       "          'id': '17856956500171127',\n",
       "          'owner': {'id': '4542978852',\n",
       "           'profile_pic_url': 'https://scontent-hkg3-2.cdninstagram.com/t51.2885-19/s150x150/17587133_1305520506228859_6176745579666735104_a.jpg',\n",
       "           'username': 'herlena_adis'},\n",
       "          'text': '😊'}},\n",
       "        {'node': {'created_at': 1496240577,\n",
       "          'id': '17867810146086899',\n",
       "          'owner': {'id': '3562266153',\n",
       "           'profile_pic_url': 'https://scontent-hkg3-2.cdninstagram.com/t51.2885-19/s150x150/18888425_497581720632840_1222371499445321728_a.jpg',\n",
       "           'username': 'prosecutor0425'},\n",
       "          'text': '예쁜 아이유언니🙂🙂🙂'}},\n",
       "        {'node': {'created_at': 1496243154,\n",
       "          'id': '17858497366149933',\n",
       "          'owner': {'id': '5523583182',\n",
       "           'profile_pic_url': 'https://scontent-hkg3-2.cdninstagram.com/t51.2885-19/s150x150/18808934_296144524171374_2173046232488869888_a.jpg',\n",
       "           'username': 'agdmjw'},\n",
       "          'text': 'long time no see…🤓'}},\n",
       "        {'node': {'created_at': 1496252496,\n",
       "          'id': '17882064406061299',\n",
       "          'owner': {'id': '5353498355',\n",
       "           'profile_pic_url': 'https://scontent-hkg3-2.cdninstagram.com/t51.2885-19/s150x150/17933779_1985799044982308_2184649017919537152_a.jpg',\n",
       "           'username': 'jitimes'},\n",
       "          'text': '언니 사랑해용 💞 💞 💞'}},\n",
       "        {'node': {'created_at': 1496252502,\n",
       "          'id': '17867783530091708',\n",
       "          'owner': {'id': '5353498355',\n",
       "           'profile_pic_url': 'https://scontent-hkg3-2.cdninstagram.com/t51.2885-19/s150x150/17933779_1985799044982308_2184649017919537152_a.jpg',\n",
       "           'username': 'jitimes'},\n",
       "          'text': '🌼🌼🌼🌼'}},\n",
       "        {'node': {'created_at': 1496254879,\n",
       "          'id': '17873298772077800',\n",
       "          'owner': {'id': '5383738005',\n",
       "           'profile_pic_url': 'https://scontent-hkg3-2.cdninstagram.com/t51.2885-19/s150x150/18013758_104885330079694_7780083006139531264_a.jpg',\n",
       "           'username': 'deningteng'},\n",
       "          'text': '内心煎熬，而我却说不出口'}},\n",
       "        {'node': {'created_at': 1496273955,\n",
       "          'id': '17856581320188815',\n",
       "          'owner': {'id': '584460958',\n",
       "           'profile_pic_url': 'https://scontent-hkg3-2.cdninstagram.com/t51.2885-19/s150x150/12328239_943804629039290_467033593_a.jpg',\n",
       "           'username': 'espresso_chip'},\n",
       "          'text': '팔레트 노래 진짜 너무 너무 좋아요. 이렇게 좋은 음악 들려주셔서 정말 감사해요. 지은님 노래중에 제일 명곡인 것 같아요.모든 뮤지션중에서 젤루 사랑합니다.'}},\n",
       "        {'node': {'created_at': 1496287293,\n",
       "          'id': '17869406485126949',\n",
       "          'owner': {'id': '5424014863',\n",
       "           'profile_pic_url': 'https://scontent-hkg3-2.cdninstagram.com/t51.2885-19/s150x150/18723032_228462657643348_8483208829402611712_a.jpg',\n",
       "           'username': 'xxmengxy18'},\n",
       "          'text': 'Gorg💕'}},\n",
       "        {'node': {'created_at': 1496299800,\n",
       "          'id': '17870871490102055',\n",
       "          'owner': {'id': '5524440038',\n",
       "           'profile_pic_url': 'https://scontent-hkg3-2.cdninstagram.com/t51.2885-19/s150x150/18723433_1365235193557759_1821609592895832064_a.jpg',\n",
       "           'username': 'zhuling_jelly'},\n",
       "          'text': 'cute'}},\n",
       "        {'node': {'created_at': 1496374581,\n",
       "          'id': '17870509555119140',\n",
       "          'owner': {'id': '4344662271',\n",
       "           'profile_pic_url': 'https://scontent-hkg3-2.cdninstagram.com/t51.2885-19/s150x150/17334276_651429181711547_525064296011399168_a.jpg',\n",
       "           'username': 'ayyiuu'},\n",
       "          'text': '💕💕💕 doluşmuş yine hatercılar yerim ulan 💕💕💕💕💕'}},\n",
       "        {'node': {'created_at': 1496374598,\n",
       "          'id': '17883188830025715',\n",
       "          'owner': {'id': '4344662271',\n",
       "           'profile_pic_url': 'https://scontent-hkg3-2.cdninstagram.com/t51.2885-19/s150x150/17334276_651429181711547_525064296011399168_a.jpg',\n",
       "           'username': 'ayyiuu'},\n",
       "          'text': 'maymuşum benim 💕💕💕💕'}},\n",
       "        {'node': {'created_at': 1496374894,\n",
       "          'id': '17857573888167862',\n",
       "          'owner': {'id': '4344662271',\n",
       "           'profile_pic_url': 'https://scontent-hkg3-2.cdninstagram.com/t51.2885-19/s150x150/17334276_651429181711547_525064296011399168_a.jpg',\n",
       "           'username': 'ayyiuu'},\n",
       "          'text': '💝💝💝💝💝💝 my monkey, i love u so much.'}},\n",
       "        {'node': {'created_at': 1496375210,\n",
       "          'id': '17867906842089428',\n",
       "          'owner': {'id': '4344662271',\n",
       "           'profile_pic_url': 'https://scontent-hkg3-2.cdninstagram.com/t51.2885-19/s150x150/17334276_651429181711547_525064296011399168_a.jpg',\n",
       "           'username': 'ayyiuu'},\n",
       "          'text': 'I was really shocked when i saw suho on the fantastic duo i guess he is your fanboy kkk'}},\n",
       "        {'node': {'created_at': 1496375257,\n",
       "          'id': '17857033228168428',\n",
       "          'owner': {'id': '4344662271',\n",
       "           'profile_pic_url': 'https://scontent-hkg3-2.cdninstagram.com/t51.2885-19/s150x150/17334276_651429181711547_525064296011399168_a.jpg',\n",
       "           'username': 'ayyiuu'},\n",
       "          'text': 'and kang haneul kkk he is so cute.'}},\n",
       "        {'node': {'created_at': 1496375351,\n",
       "          'id': '17857162165175250',\n",
       "          'owner': {'id': '4344662271',\n",
       "           'profile_pic_url': 'https://scontent-hkg3-2.cdninstagram.com/t51.2885-19/s150x150/17334276_651429181711547_525064296011399168_a.jpg',\n",
       "           'username': 'ayyiuu'},\n",
       "          'text': \"But you are the cutest person I've ever seen 💝💝💝💝 Jigeum i love u so much 💝💝\"}},\n",
       "        {'node': {'created_at': 1496375459,\n",
       "          'id': '17884335370002561',\n",
       "          'owner': {'id': '4344662271',\n",
       "           'profile_pic_url': 'https://scontent-hkg3-2.cdninstagram.com/t51.2885-19/s150x150/17334276_651429181711547_525064296011399168_a.jpg',\n",
       "           'username': 'ayyiuu'},\n",
       "          'text': \"💕💕 Korea's most talented artist\"}},\n",
       "        {'node': {'created_at': 1496375505,\n",
       "          'id': '17860081516134315',\n",
       "          'owner': {'id': '4344662271',\n",
       "           'profile_pic_url': 'https://scontent-hkg3-2.cdninstagram.com/t51.2885-19/s150x150/17334276_651429181711547_525064296011399168_a.jpg',\n",
       "           'username': 'ayyiuu'},\n",
       "          'text': '💝💝💕💕'}},\n",
       "        {'node': {'created_at': 1496380320,\n",
       "          'id': '17881968928025969',\n",
       "          'owner': {'id': '1699145389',\n",
       "           'profile_pic_url': 'https://scontent-hkg3-2.cdninstagram.com/t51.2885-19/s150x150/14487450_1817291705209365_2518013422973485056_a.jpg',\n",
       "           'username': 'mileydt'},\n",
       "          'text': '❤️'}},\n",
       "        {'node': {'created_at': 1496409482,\n",
       "          'id': '17881559938014941',\n",
       "          'owner': {'id': '5448045363',\n",
       "           'profile_pic_url': 'https://scontent-hkg3-2.cdninstagram.com/t51.2885-19/s150x150/18808983_1412208028844505_8809225228312903680_a.jpg',\n",
       "           'username': 'prd_anya'},\n",
       "          'text': 'Like a jeon jungkook'}},\n",
       "        {'node': {'created_at': 1496412954,\n",
       "          'id': '17882435842050178',\n",
       "          'owner': {'id': '1674990234',\n",
       "           'profile_pic_url': 'https://scontent-hkg3-2.cdninstagram.com/t51.2885-19/s150x150/16906447_1388574237866670_8058419676016803840_a.jpg',\n",
       "           'username': 'ddodeomi96'},\n",
       "          'text': '언니 진짜 노래 너무 좋아요 진짜!!!!!!!!!! 이지은 대박나라 ㅠㅠㅠㅠ 대박났지만 더 대박나라 돈모아ㅓ서콘서트갈고얏!!!!!너무좋네여..진짜..'}}],\n",
       "       'page_info': {'end_cursor': 'AQBOio5HrVwpHf77C6PvNIVqW0-G-s1IF_A4KVamks8jpo2rzInBQZGaldrc_VbpH5Zso9Tfo5HCiaGu4ckwI4xlF5-XAWpVm1sutkuv4M3Y7w',\n",
       "        'has_next_page': True}},\n",
       "      'edge_media_to_sponsor_user': {'edges': []},\n",
       "      'edge_media_to_tagged_user': {'edges': []},\n",
       "      'edge_web_media_to_related_media': {'edges': []},\n",
       "      'id': '1513840194233941419',\n",
       "      'is_ad': False,\n",
       "      'is_video': False,\n",
       "      'location': None,\n",
       "      'owner': {'blocked_by_viewer': False,\n",
       "       'followed_by_viewer': False,\n",
       "       'full_name': '이지금',\n",
       "       'has_blocked_viewer': False,\n",
       "       'id': '1692800026',\n",
       "       'is_private': False,\n",
       "       'is_unpublished': False,\n",
       "       'profile_pic_url': 'https://scontent-hkg3-2.cdninstagram.com/t51.2885-19/10948561_1404359156532776_1425325698_a.jpg',\n",
       "       'requested_by_viewer': False,\n",
       "       'username': 'dlwlrma'},\n",
       "      'shortcode': 'BUCPaLQBb2r',\n",
       "      'taken_at_timestamp': 1494683835,\n",
       "      'viewer_has_liked': False}}}]},\n",
       " 'environment_switcher_visible_server_guess': True,\n",
       " 'gatekeepers': {'bn': True, 'ld': True, 'pl': True},\n",
       " 'hostname': 'www.instagram.com',\n",
       " 'language_code': 'ko',\n",
       " 'platform': 'web',\n",
       " 'probably_has_app': False,\n",
       " 'qe': {'bc3l': {'g': '', 'p': {}},\n",
       "  'create': {'g': '', 'p': {}},\n",
       "  'deact': {'g': '', 'p': {}},\n",
       "  'disc': {'g': '', 'p': {}},\n",
       "  'ebd': {'g': 'control', 'p': {'use_new_styles': 'true'}},\n",
       "  'empty_profile': {'g': '', 'p': {}},\n",
       "  'feed': {'g': '', 'p': {}},\n",
       "  'filters': {'g': '', 'p': {}},\n",
       "  'gql': {'g': '', 'p': {}},\n",
       "  'nav': {'g': '', 'p': {}},\n",
       "  'nav_lo': {'g': '', 'p': {}},\n",
       "  'pm': {'g': '', 'p': {}},\n",
       "  'poe': {'g': '', 'p': {}},\n",
       "  'profile': {'g': '', 'p': {}},\n",
       "  'sidecar': {'g': '', 'p': {}},\n",
       "  'su_universe': {'g': '', 'p': {}},\n",
       "  'ufi': {'g': '', 'p': {}},\n",
       "  'ufi_loggedout': {'g': '', 'p': {}},\n",
       "  'us': {'g': '', 'p': {}},\n",
       "  'us_li': {'g': '', 'p': {}},\n",
       "  'video': {'g': '', 'p': {}}},\n",
       " 'show_app_install': True}"
      ]
     },
     "execution_count": 198,
     "metadata": {},
     "output_type": "execute_result"
    }
   ],
   "source": [
    "comments"
   ]
  },
  {
   "cell_type": "code",
   "execution_count": 188,
   "metadata": {
    "collapsed": true
   },
   "outputs": [],
   "source": [
    "def find_key(dic, key):\n",
    "    path = []\n",
    "    if isinstance(dic, list) and dic:\n",
    "        result = find_key(dic[0], key)\n",
    "        if result:\n",
    "             path = [0] + result\n",
    "        \n",
    "    elif isinstance(dic, dict):\n",
    "        if key in dic:\n",
    "            path = [key]\n",
    "        else:\n",
    "            for k in dic:\n",
    "                result = find_key(dic[k], key)\n",
    "                if result:\n",
    "                    path = [k] + result\n",
    "    #print(path)\n",
    "    return path"
   ]
  },
  {
   "cell_type": "code",
   "execution_count": 189,
   "metadata": {
    "collapsed": false,
    "scrolled": false
   },
   "outputs": [
    {
     "data": {
      "text/plain": [
       "['entry_data',\n",
       " 'PostPage',\n",
       " 0,\n",
       " 'graphql',\n",
       " 'shortcode_media',\n",
       " 'edge_media_to_comment']"
      ]
     },
     "execution_count": 189,
     "metadata": {},
     "output_type": "execute_result"
    }
   ],
   "source": [
    "find_key(comments, 'edge_media_to_comment')"
   ]
  },
  {
   "cell_type": "code",
   "execution_count": 190,
   "metadata": {
    "collapsed": true
   },
   "outputs": [],
   "source": [
    "keys = find_key(comments, 'edge_media_to_comment')"
   ]
  },
  {
   "cell_type": "code",
   "execution_count": 192,
   "metadata": {
    "collapsed": false
   },
   "outputs": [
    {
     "name": "stdout",
     "output_type": "stream",
     "text": [
      "['entry_data']['PostPage'][0]['graphql']['shortcode_media']['edge_media_to_comment']\n"
     ]
    }
   ],
   "source": [
    "print(''.join(\"[{}]\".format(repr(k)) for k in keys)) "
   ]
  },
  {
   "cell_type": "code",
   "execution_count": 193,
   "metadata": {
    "collapsed": false,
    "scrolled": false
   },
   "outputs": [
    {
     "data": {
      "text/plain": [
       "{'count': 3418,\n",
       " 'edges': [{'node': {'created_at': 1496068518,\n",
       "    'id': '17870442001117880',\n",
       "    'owner': {'id': '1327739384',\n",
       "     'profile_pic_url': 'https://scontent-hkg3-2.cdninstagram.com/t51.2885-19/s150x150/15803573_1353229571364124_8017508643643588608_n.jpg',\n",
       "     'username': 'aiyx3'},\n",
       "    'text': '4M👏🏻👏🏻👏🏻❤💋'}},\n",
       "  {'node': {'created_at': 1496072119,\n",
       "    'id': '17860120810140312',\n",
       "    'owner': {'id': '2175864049',\n",
       "     'profile_pic_url': 'https://scontent-hkg3-2.cdninstagram.com/t51.2885-19/s150x150/16122957_1723722997653429_960675847860125696_a.jpg',\n",
       "     'username': 'shjiong'},\n",
       "    'text': '💜💜💜💜💜💜'}},\n",
       "  {'node': {'created_at': 1496072334,\n",
       "    'id': '17882149579039206',\n",
       "    'owner': {'id': '2250297403',\n",
       "     'profile_pic_url': 'https://scontent-hkg3-2.cdninstagram.com/t51.2885-19/s150x150/18161849_109889446245744_6129760827881816064_a.jpg',\n",
       "     'username': 'sjji__'},\n",
       "    'text': '내츄럴함이 가장 매력인 지은님\\U0001f921❣️'}},\n",
       "  {'node': {'created_at': 1496074550,\n",
       "    'id': '17873191846077298',\n",
       "    'owner': {'id': '1060839214',\n",
       "     'profile_pic_url': 'https://scontent-hkg3-2.cdninstagram.com/t51.2885-19/s150x150/18723628_248618682286682_8111590086946062336_a.jpg',\n",
       "     'username': 'me_in_sta_gram'},\n",
       "    'text': 'Nice!💓💓'}},\n",
       "  {'node': {'created_at': 1496119719,\n",
       "    'id': '17860152931134407',\n",
       "    'owner': {'id': '4341513283',\n",
       "     'profile_pic_url': 'https://scontent-hkg3-2.cdninstagram.com/t51.2885-19/s150x150/18512677_800071883485252_9215604562730156032_a.jpg',\n",
       "     'username': 'sweeetie_01'},\n",
       "    'text': '바보야😈'}},\n",
       "  {'node': {'created_at': 1496119732,\n",
       "    'id': '17881841665016008',\n",
       "    'owner': {'id': '4341513283',\n",
       "     'profile_pic_url': 'https://scontent-hkg3-2.cdninstagram.com/t51.2885-19/s150x150/18512677_800071883485252_9215604562730156032_a.jpg',\n",
       "     'username': 'sweeetie_01'},\n",
       "    'text': '시발👹'}},\n",
       "  {'node': {'created_at': 1496119750,\n",
       "    'id': '17870069368100757',\n",
       "    'owner': {'id': '4341513283',\n",
       "     'profile_pic_url': 'https://scontent-hkg3-2.cdninstagram.com/t51.2885-19/s150x150/18512677_800071883485252_9215604562730156032_a.jpg',\n",
       "     'username': 'sweeetie_01'},\n",
       "    'text': '나쁜아주마😈😬👿'}},\n",
       "  {'node': {'created_at': 1496119928,\n",
       "    'id': '17872986004078027',\n",
       "    'owner': {'id': '4845999116',\n",
       "     'profile_pic_url': 'https://scontent-hkg3-2.cdninstagram.com/t51.2885-19/s150x150/18580621_1798076907174037_8607567176506802176_a.jpg',\n",
       "     'username': 'hoz_0427'},\n",
       "    'text': 'Закрой рот @sweeetie_01'}},\n",
       "  {'node': {'created_at': 1496121442,\n",
       "    'id': '17842623709198059',\n",
       "    'owner': {'id': '4341513283',\n",
       "     'profile_pic_url': 'https://scontent-hkg3-2.cdninstagram.com/t51.2885-19/s150x150/18512677_800071883485252_9215604562730156032_a.jpg',\n",
       "     'username': 'sweeetie_01'},\n",
       "    'text': '@hoz_0427 дура за к'}},\n",
       "  {'node': {'created_at': 1496121457,\n",
       "    'id': '17869408198121152',\n",
       "    'owner': {'id': '4341513283',\n",
       "     'profile_pic_url': 'https://scontent-hkg3-2.cdninstagram.com/t51.2885-19/s150x150/18512677_800071883485252_9215604562730156032_a.jpg',\n",
       "     'username': 'sweeetie_01'},\n",
       "    'text': 'Кого ты заступаешся @hoz_0427'}},\n",
       "  {'node': {'created_at': 1496140540,\n",
       "    'id': '17875241446073744',\n",
       "    'owner': {'id': '2190291322',\n",
       "     'profile_pic_url': 'https://scontent-hkg3-2.cdninstagram.com/t51.2885-19/s150x150/18812029_1492054827536035_3795741918378328064_a.jpg',\n",
       "     'username': 'isbl.ico'},\n",
       "    'text': '😭'}},\n",
       "  {'node': {'created_at': 1496152024,\n",
       "    'id': '17870642680097418',\n",
       "    'owner': {'id': '4226151221',\n",
       "     'profile_pic_url': 'https://scontent-hkg3-2.cdninstagram.com/t51.2885-19/s150x150/18809137_469757676694874_8211701750231465984_a.jpg',\n",
       "     'username': '_kawaiix_'},\n",
       "    'text': 'Bebek gibi görünmeye çalışma maymun'}},\n",
       "  {'node': {'created_at': 1496155910,\n",
       "    'id': '17856645877193444',\n",
       "    'owner': {'id': '2108556972',\n",
       "     'profile_pic_url': 'https://scontent-hkg3-2.cdninstagram.com/t51.2885-19/11208209_1646176395613813_262728125_a.jpg',\n",
       "     'username': 'sohogentle'},\n",
       "    'text': 'Just i like u so much💝pink😘'}},\n",
       "  {'node': {'created_at': 1496208920,\n",
       "    'id': '17881424143016543',\n",
       "    'owner': {'id': '708040544',\n",
       "     'profile_pic_url': 'https://scontent-hkg3-2.cdninstagram.com/t51.2885-19/s150x150/18160422_1868936119988794_3043494111769264128_a.jpg',\n",
       "     'username': 'pear_palette'},\n",
       "    'text': \"IU I love you so much and I'm glad that you're looking good and happy after your trip in jeju. Do not mind those comments and I'm sure you are only taking them as your milk after feeding on us star candies 😀❤❤❤\"}},\n",
       "  {'node': {'created_at': 1496214234,\n",
       "    'id': '17860301554132897',\n",
       "    'owner': {'id': '2871171341',\n",
       "     'profile_pic_url': 'https://scontent-hkg3-2.cdninstagram.com/t51.2885-19/s150x150/18808874_444012965953611_7437738889621536768_a.jpg',\n",
       "     'username': 'nzkookie'},\n",
       "    'text': 'Saranghae~ IU sunbaenim ♥ ^^'}},\n",
       "  {'node': {'created_at': 1496221897,\n",
       "    'id': '17860068799140716',\n",
       "    'owner': {'id': '3920811867',\n",
       "     'profile_pic_url': 'https://scontent-hkg3-2.cdninstagram.com/t51.2885-19/s150x150/18645753_300463403739374_8262079302841925632_a.jpg',\n",
       "     'username': 'bimm_mm'},\n",
       "    'text': \"If you hate her that much why don't you just STFU!!! And don't make her sad!!!! If anything happens bad to IU I'm gonna fucking kill that person who makes IU sad!\"}},\n",
       "  {'node': {'created_at': 1496233417,\n",
       "    'id': '17870607523097525',\n",
       "    'owner': {'id': '1521938961',\n",
       "     'profile_pic_url': 'https://scontent-hkg3-2.cdninstagram.com/t51.2885-19/s150x150/18443787_318548008563274_5718864596618444800_a.jpg',\n",
       "     'username': 'mutax_c'},\n",
       "    'text': '님 소듀 좋아해요?'}},\n",
       "  {'node': {'created_at': 1496234827,\n",
       "    'id': '17882273254028727',\n",
       "    'owner': {'id': '2272024254',\n",
       "     'profile_pic_url': 'https://scontent-hkg3-2.cdninstagram.com/t51.2885-19/s150x150/17333267_188655791637191_6723087049173237760_a.jpg',\n",
       "     'username': 'rulidiir'},\n",
       "    'text': 'Weh kan. Ana buu tp angel namane wkwkwk @rizaikhoirunnisa'}},\n",
       "  {'node': {'created_at': 1496235610,\n",
       "    'id': '17881792234005706',\n",
       "    'owner': {'id': '5353498355',\n",
       "     'profile_pic_url': 'https://scontent-hkg3-2.cdninstagram.com/t51.2885-19/s150x150/17933779_1985799044982308_2184649017919537152_a.jpg',\n",
       "     'username': 'jitimes'},\n",
       "    'text': '언니 이뻐요 💞💞💞💕💕'}},\n",
       "  {'node': {'created_at': 1496237868,\n",
       "    'id': '17856956500171127',\n",
       "    'owner': {'id': '4542978852',\n",
       "     'profile_pic_url': 'https://scontent-hkg3-2.cdninstagram.com/t51.2885-19/s150x150/17587133_1305520506228859_6176745579666735104_a.jpg',\n",
       "     'username': 'herlena_adis'},\n",
       "    'text': '😊'}},\n",
       "  {'node': {'created_at': 1496240577,\n",
       "    'id': '17867810146086899',\n",
       "    'owner': {'id': '3562266153',\n",
       "     'profile_pic_url': 'https://scontent-hkg3-2.cdninstagram.com/t51.2885-19/s150x150/18888425_497581720632840_1222371499445321728_a.jpg',\n",
       "     'username': 'prosecutor0425'},\n",
       "    'text': '예쁜 아이유언니🙂🙂🙂'}},\n",
       "  {'node': {'created_at': 1496243154,\n",
       "    'id': '17858497366149933',\n",
       "    'owner': {'id': '5523583182',\n",
       "     'profile_pic_url': 'https://scontent-hkg3-2.cdninstagram.com/t51.2885-19/s150x150/18808934_296144524171374_2173046232488869888_a.jpg',\n",
       "     'username': 'agdmjw'},\n",
       "    'text': 'long time no see…🤓'}},\n",
       "  {'node': {'created_at': 1496252496,\n",
       "    'id': '17882064406061299',\n",
       "    'owner': {'id': '5353498355',\n",
       "     'profile_pic_url': 'https://scontent-hkg3-2.cdninstagram.com/t51.2885-19/s150x150/17933779_1985799044982308_2184649017919537152_a.jpg',\n",
       "     'username': 'jitimes'},\n",
       "    'text': '언니 사랑해용 💞 💞 💞'}},\n",
       "  {'node': {'created_at': 1496252502,\n",
       "    'id': '17867783530091708',\n",
       "    'owner': {'id': '5353498355',\n",
       "     'profile_pic_url': 'https://scontent-hkg3-2.cdninstagram.com/t51.2885-19/s150x150/17933779_1985799044982308_2184649017919537152_a.jpg',\n",
       "     'username': 'jitimes'},\n",
       "    'text': '🌼🌼🌼🌼'}},\n",
       "  {'node': {'created_at': 1496254879,\n",
       "    'id': '17873298772077800',\n",
       "    'owner': {'id': '5383738005',\n",
       "     'profile_pic_url': 'https://scontent-hkg3-2.cdninstagram.com/t51.2885-19/s150x150/18013758_104885330079694_7780083006139531264_a.jpg',\n",
       "     'username': 'deningteng'},\n",
       "    'text': '内心煎熬，而我却说不出口'}},\n",
       "  {'node': {'created_at': 1496273955,\n",
       "    'id': '17856581320188815',\n",
       "    'owner': {'id': '584460958',\n",
       "     'profile_pic_url': 'https://scontent-hkg3-2.cdninstagram.com/t51.2885-19/s150x150/12328239_943804629039290_467033593_a.jpg',\n",
       "     'username': 'espresso_chip'},\n",
       "    'text': '팔레트 노래 진짜 너무 너무 좋아요. 이렇게 좋은 음악 들려주셔서 정말 감사해요. 지은님 노래중에 제일 명곡인 것 같아요.모든 뮤지션중에서 젤루 사랑합니다.'}},\n",
       "  {'node': {'created_at': 1496287293,\n",
       "    'id': '17869406485126949',\n",
       "    'owner': {'id': '5424014863',\n",
       "     'profile_pic_url': 'https://scontent-hkg3-2.cdninstagram.com/t51.2885-19/s150x150/18723032_228462657643348_8483208829402611712_a.jpg',\n",
       "     'username': 'xxmengxy18'},\n",
       "    'text': 'Gorg💕'}},\n",
       "  {'node': {'created_at': 1496299800,\n",
       "    'id': '17870871490102055',\n",
       "    'owner': {'id': '5524440038',\n",
       "     'profile_pic_url': 'https://scontent-hkg3-2.cdninstagram.com/t51.2885-19/s150x150/18723433_1365235193557759_1821609592895832064_a.jpg',\n",
       "     'username': 'zhuling_jelly'},\n",
       "    'text': 'cute'}},\n",
       "  {'node': {'created_at': 1496374581,\n",
       "    'id': '17870509555119140',\n",
       "    'owner': {'id': '4344662271',\n",
       "     'profile_pic_url': 'https://scontent-hkg3-2.cdninstagram.com/t51.2885-19/s150x150/17334276_651429181711547_525064296011399168_a.jpg',\n",
       "     'username': 'ayyiuu'},\n",
       "    'text': '💕💕💕 doluşmuş yine hatercılar yerim ulan 💕💕💕💕💕'}},\n",
       "  {'node': {'created_at': 1496374598,\n",
       "    'id': '17883188830025715',\n",
       "    'owner': {'id': '4344662271',\n",
       "     'profile_pic_url': 'https://scontent-hkg3-2.cdninstagram.com/t51.2885-19/s150x150/17334276_651429181711547_525064296011399168_a.jpg',\n",
       "     'username': 'ayyiuu'},\n",
       "    'text': 'maymuşum benim 💕💕💕💕'}},\n",
       "  {'node': {'created_at': 1496374894,\n",
       "    'id': '17857573888167862',\n",
       "    'owner': {'id': '4344662271',\n",
       "     'profile_pic_url': 'https://scontent-hkg3-2.cdninstagram.com/t51.2885-19/s150x150/17334276_651429181711547_525064296011399168_a.jpg',\n",
       "     'username': 'ayyiuu'},\n",
       "    'text': '💝💝💝💝💝💝 my monkey, i love u so much.'}},\n",
       "  {'node': {'created_at': 1496375210,\n",
       "    'id': '17867906842089428',\n",
       "    'owner': {'id': '4344662271',\n",
       "     'profile_pic_url': 'https://scontent-hkg3-2.cdninstagram.com/t51.2885-19/s150x150/17334276_651429181711547_525064296011399168_a.jpg',\n",
       "     'username': 'ayyiuu'},\n",
       "    'text': 'I was really shocked when i saw suho on the fantastic duo i guess he is your fanboy kkk'}},\n",
       "  {'node': {'created_at': 1496375257,\n",
       "    'id': '17857033228168428',\n",
       "    'owner': {'id': '4344662271',\n",
       "     'profile_pic_url': 'https://scontent-hkg3-2.cdninstagram.com/t51.2885-19/s150x150/17334276_651429181711547_525064296011399168_a.jpg',\n",
       "     'username': 'ayyiuu'},\n",
       "    'text': 'and kang haneul kkk he is so cute.'}},\n",
       "  {'node': {'created_at': 1496375351,\n",
       "    'id': '17857162165175250',\n",
       "    'owner': {'id': '4344662271',\n",
       "     'profile_pic_url': 'https://scontent-hkg3-2.cdninstagram.com/t51.2885-19/s150x150/17334276_651429181711547_525064296011399168_a.jpg',\n",
       "     'username': 'ayyiuu'},\n",
       "    'text': \"But you are the cutest person I've ever seen 💝💝💝💝 Jigeum i love u so much 💝💝\"}},\n",
       "  {'node': {'created_at': 1496375459,\n",
       "    'id': '17884335370002561',\n",
       "    'owner': {'id': '4344662271',\n",
       "     'profile_pic_url': 'https://scontent-hkg3-2.cdninstagram.com/t51.2885-19/s150x150/17334276_651429181711547_525064296011399168_a.jpg',\n",
       "     'username': 'ayyiuu'},\n",
       "    'text': \"💕💕 Korea's most talented artist\"}},\n",
       "  {'node': {'created_at': 1496375505,\n",
       "    'id': '17860081516134315',\n",
       "    'owner': {'id': '4344662271',\n",
       "     'profile_pic_url': 'https://scontent-hkg3-2.cdninstagram.com/t51.2885-19/s150x150/17334276_651429181711547_525064296011399168_a.jpg',\n",
       "     'username': 'ayyiuu'},\n",
       "    'text': '💝💝💕💕'}},\n",
       "  {'node': {'created_at': 1496380320,\n",
       "    'id': '17881968928025969',\n",
       "    'owner': {'id': '1699145389',\n",
       "     'profile_pic_url': 'https://scontent-hkg3-2.cdninstagram.com/t51.2885-19/s150x150/14487450_1817291705209365_2518013422973485056_a.jpg',\n",
       "     'username': 'mileydt'},\n",
       "    'text': '❤️'}},\n",
       "  {'node': {'created_at': 1496409482,\n",
       "    'id': '17881559938014941',\n",
       "    'owner': {'id': '5448045363',\n",
       "     'profile_pic_url': 'https://scontent-hkg3-2.cdninstagram.com/t51.2885-19/s150x150/18808983_1412208028844505_8809225228312903680_a.jpg',\n",
       "     'username': 'prd_anya'},\n",
       "    'text': 'Like a jeon jungkook'}},\n",
       "  {'node': {'created_at': 1496412954,\n",
       "    'id': '17882435842050178',\n",
       "    'owner': {'id': '1674990234',\n",
       "     'profile_pic_url': 'https://scontent-hkg3-2.cdninstagram.com/t51.2885-19/s150x150/16906447_1388574237866670_8058419676016803840_a.jpg',\n",
       "     'username': 'ddodeomi96'},\n",
       "    'text': '언니 진짜 노래 너무 좋아요 진짜!!!!!!!!!! 이지은 대박나라 ㅠㅠㅠㅠ 대박났지만 더 대박나라 돈모아ㅓ서콘서트갈고얏!!!!!너무좋네여..진짜..'}}],\n",
       " 'page_info': {'end_cursor': 'AQBOio5HrVwpHf77C6PvNIVqW0-G-s1IF_A4KVamks8jpo2rzInBQZGaldrc_VbpH5Zso9Tfo5HCiaGu4ckwI4xlF5-XAWpVm1sutkuv4M3Y7w',\n",
       "  'has_next_page': True}}"
      ]
     },
     "execution_count": 193,
     "metadata": {},
     "output_type": "execute_result"
    }
   ],
   "source": [
    "comments['entry_data']['PostPage'][0]['graphql']['shortcode_media']['edge_media_to_comment']"
   ]
  },
  {
   "cell_type": "code",
   "execution_count": 215,
   "metadata": {
    "collapsed": false
   },
   "outputs": [
    {
     "name": "stdout",
     "output_type": "stream",
     "text": [
      "4M👏🏻👏🏻👏🏻❤💋\n",
      "💜💜💜💜💜💜\n",
      "내츄럴함이 가장 매력인 지은님🤡❣️\n",
      "Nice!💓💓\n",
      "바보야😈\n",
      "시발👹\n",
      "나쁜아주마😈😬👿\n",
      "Закрой рот @sweeetie_01\n",
      "@hoz_0427 дура за к\n",
      "Кого ты заступаешся @hoz_0427\n",
      "😭\n",
      "Bebek gibi görünmeye çalışma maymun\n",
      "Just i like u so much💝pink😘\n",
      "IU I love you so much and I'm glad that you're looking good and happy after your trip in jeju. Do not mind those comments and I'm sure you are only taking them as your milk after feeding on us star candies 😀❤❤❤\n",
      "Saranghae~ IU sunbaenim ♥ ^^\n",
      "If you hate her that much why don't you just STFU!!! And don't make her sad!!!! If anything happens bad to IU I'm gonna fucking kill that person who makes IU sad!\n",
      "님 소듀 좋아해요?\n",
      "Weh kan. Ana buu tp angel namane wkwkwk @rizaikhoirunnisa\n",
      "언니 이뻐요 💞💞💞💕💕\n",
      "😊\n",
      "예쁜 아이유언니🙂🙂🙂\n",
      "long time no see…🤓\n",
      "언니 사랑해용 💞 💞 💞\n",
      "🌼🌼🌼🌼\n",
      "内心煎熬，而我却说不出口\n",
      "팔레트 노래 진짜 너무 너무 좋아요. 이렇게 좋은 음악 들려주셔서 정말 감사해요. 지은님 노래중에 제일 명곡인 것 같아요.모든 뮤지션중에서 젤루 사랑합니다.\n",
      "Gorg💕\n",
      "cute\n",
      "💕💕💕 doluşmuş yine hatercılar yerim ulan 💕💕💕💕💕\n",
      "maymuşum benim 💕💕💕💕\n",
      "💝💝💝💝💝💝 my monkey, i love u so much.\n",
      "I was really shocked when i saw suho on the fantastic duo i guess he is your fanboy kkk\n",
      "and kang haneul kkk he is so cute.\n",
      "But you are the cutest person I've ever seen 💝💝💝💝 Jigeum i love u so much 💝💝\n",
      "💕💕 Korea's most talented artist\n",
      "💝💝💕💕\n",
      "❤️\n",
      "Like a jeon jungkook\n",
      "언니 진짜 노래 너무 좋아요 진짜!!!!!!!!!! 이지은 대박나라 ㅠㅠㅠㅠ 대박났지만 더 대박나라 돈모아ㅓ서콘서트갈고얏!!!!!너무좋네여..진짜..\n"
     ]
    }
   ],
   "source": [
    "a =  comments['entry_data']['PostPage'][0]['graphql']['shortcode_media']['edge_media_to_comment'] \n",
    "for i in range(len(a['edges'])):\n",
    "    print(a['edges'][i]['node']['text'])"
   ]
  },
  {
   "cell_type": "code",
   "execution_count": 194,
   "metadata": {
    "collapsed": false
   },
   "outputs": [
    {
     "data": {
      "text/plain": [
       "['entry_data',\n",
       " 'PostPage',\n",
       " 0,\n",
       " 'graphql',\n",
       " 'shortcode_media',\n",
       " 'edge_media_to_comment',\n",
       " 'page_info',\n",
       " 'end_cursor']"
      ]
     },
     "execution_count": 194,
     "metadata": {},
     "output_type": "execute_result"
    }
   ],
   "source": [
    "find_key(comments, 'end_cursor')"
   ]
  },
  {
   "cell_type": "code",
   "execution_count": 195,
   "metadata": {
    "collapsed": false
   },
   "outputs": [
    {
     "name": "stdout",
     "output_type": "stream",
     "text": [
      "['entry_data']['PostPage'][0]['graphql']['shortcode_media']['edge_media_to_comment']['page_info']['end_cursor']\n"
     ]
    }
   ],
   "source": [
    "keys = find_key(comments, 'end_cursor')\n",
    "print(''.join(\"[{}]\".format(repr(k)) for k in keys)) "
   ]
  },
  {
   "cell_type": "code",
   "execution_count": 197,
   "metadata": {
    "collapsed": false
   },
   "outputs": [
    {
     "data": {
      "text/plain": [
       "'AQBOio5HrVwpHf77C6PvNIVqW0-G-s1IF_A4KVamks8jpo2rzInBQZGaldrc_VbpH5Zso9Tfo5HCiaGu4ckwI4xlF5-XAWpVm1sutkuv4M3Y7w'"
      ]
     },
     "execution_count": 197,
     "metadata": {},
     "output_type": "execute_result"
    }
   ],
   "source": [
    "comments['entry_data']['PostPage'][0]['graphql']['shortcode_media']['edge_media_to_comment']['page_info']['end_cursor']"
   ]
  },
  {
   "cell_type": "markdown",
   "metadata": {},
   "source": [
    "## 댓글 더보기 "
   ]
  },
  {
   "cell_type": "code",
   "execution_count": 216,
   "metadata": {
    "collapsed": true
   },
   "outputs": [],
   "source": [
    "res = requests.get('https://www.instagram.com/graphql/query/',\n",
    "                   params={'query_id': '17852405266163336',\n",
    "                     'shortcode': 'BUCPaLQBb2r',\n",
    "                     'first': 21,\n",
    "                     'after': comments['entry_data']['PostPage'][0]['graphql']['shortcode_media']['edge_media_to_comment']['page_info']['end_cursor']\n",
    "                    })"
   ]
  },
  {
   "cell_type": "code",
   "execution_count": 217,
   "metadata": {
    "collapsed": false,
    "scrolled": false
   },
   "outputs": [
    {
     "data": {
      "text/plain": [
       "{'data': {'shortcode_media': {'edge_media_to_comment': {'count': 3418,\n",
       "    'edges': [{'node': {'created_at': 1495947070,\n",
       "       'id': '17870432371103515',\n",
       "       'owner': {'id': '5098231234',\n",
       "        'profile_pic_url': 'https://scontent-hkg3-2.cdninstagram.com/t51.2885-19/s150x150/17881062_156327741559903_2590241690421821440_a.jpg',\n",
       "        'username': 'liukaka1'},\n",
       "       'text': '小仙女'}},\n",
       "     {'node': {'created_at': 1495954044,\n",
       "       'id': '17857906363158409',\n",
       "       'owner': {'id': '3523218395',\n",
       "        'profile_pic_url': 'https://scontent-hkg3-2.cdninstagram.com/t51.2885-19/s150x150/13725706_474103149447019_415180542_a.jpg',\n",
       "        'username': 'abc05160918'},\n",
       "       'text': '빠레트 다음에 근처가면 앞에서 사진찍어야지'}},\n",
       "     {'node': {'created_at': 1495963146,\n",
       "       'id': '17869336522121849',\n",
       "       'owner': {'id': '5517226459',\n",
       "        'profile_pic_url': 'https://scontent-hkg3-2.cdninstagram.com/t51.2885-19/s150x150/18723782_303427606781600_4925868987868250112_a.jpg',\n",
       "        'username': 'iuiu19930516'},\n",
       "       'text': 'l like it'}},\n",
       "     {'node': {'created_at': 1495963157,\n",
       "       'id': '17856515845190130',\n",
       "       'owner': {'id': '3193436515',\n",
       "        'profile_pic_url': 'https://scontent-hkg3-2.cdninstagram.com/t51.2885-19/s150x150/18645790_150492638825073_4224300880523952128_a.jpg',\n",
       "        'username': 'sabrina_13.06'},\n",
       "       'text': 'Baby'}},\n",
       "     {'node': {'created_at': 1495963905,\n",
       "       'id': '17869246699127552',\n",
       "       'owner': {'id': '2163811036',\n",
       "        'profile_pic_url': 'https://scontent-hkg3-2.cdninstagram.com/t51.2885-19/s150x150/18645609_767535193426474_4161872199436730368_a.jpg',\n",
       "        'username': 'ssjk29'},\n",
       "       'text': '화팅'}},\n",
       "     {'node': {'created_at': 1495969356,\n",
       "       'id': '17875757065064061',\n",
       "       'owner': {'id': '3532214927',\n",
       "        'profile_pic_url': 'https://scontent-hkg3-2.cdninstagram.com/t51.2885-19/s150x150/18722825_372745793123275_6224769146601603072_a.jpg',\n",
       "        'username': 'baekwony'},\n",
       "       'text': 'Vote IU pls, like and comment post IG @/100mostbeautifulfaces2017'}},\n",
       "     {'node': {'created_at': 1495988152,\n",
       "       'id': '17856781711171407',\n",
       "       'owner': {'id': '253428036',\n",
       "        'profile_pic_url': 'https://scontent-hkg3-2.cdninstagram.com/t51.2885-19/s150x150/18723028_302221786891749_8137986998896951296_a.jpg',\n",
       "        'username': 'fafamfa'},\n",
       "       'text': 'Cute🤗'}},\n",
       "     {'node': {'created_at': 1495990726,\n",
       "       'id': '17881186930006965',\n",
       "       'owner': {'id': '1694244415',\n",
       "        'profile_pic_url': 'https://scontent-hkg3-2.cdninstagram.com/t51.2885-19/s150x150/17332660_1303602606399942_6321014476032180224_a.jpg',\n",
       "        'username': 'onlee_jieun'},\n",
       "       'text': 'Shalom🙏'}},\n",
       "     {'node': {'created_at': 1495990994,\n",
       "       'id': '17870473582128028',\n",
       "       'owner': {'id': '4820798024',\n",
       "        'profile_pic_url': 'https://scontent-hkg3-2.cdninstagram.com/t51.2885-19/s150x150/18381893_1856013587985563_170639179519098880_a.jpg',\n",
       "        'username': 'iu.princess.spain'},\n",
       "       'text': 'UAENAS vote for IU @100mostbeautifulfaces  Like and comment'}},\n",
       "     {'node': {'created_at': 1495997508,\n",
       "       'id': '17882468737015791',\n",
       "       'owner': {'id': '519664477',\n",
       "        'profile_pic_url': 'https://scontent-hkg3-2.cdninstagram.com/t51.2885-19/s150x150/18809089_1916772798607358_2171034542821867520_a.jpg',\n",
       "        'username': 'im3un'},\n",
       "       'text': '졸귀ㅠㅠㅠㅠㅠㅠ'}},\n",
       "     {'node': {'created_at': 1496008449,\n",
       "       'id': '17881349110037167',\n",
       "       'owner': {'id': '4516649891',\n",
       "        'profile_pic_url': 'https://instagram.fbom3-1.fna.fbcdn.net/t51.2885-19/11906329_960233084022564_1448528159_a.jpg',\n",
       "        'username': 'havana2398'},\n",
       "       'text': '지은아 오늘도 좋은 하루 🙏'}},\n",
       "     {'node': {'created_at': 1496022670,\n",
       "       'id': '17868197650090848',\n",
       "       'owner': {'id': '3200442038',\n",
       "        'profile_pic_url': 'https://scontent-hkg3-2.cdninstagram.com/t51.2885-19/s150x150/17126408_403937889979856_2491560629203107840_a.jpg',\n",
       "        'username': 'vvousmevo'},\n",
       "       'text': \"Let's vote IU for #100mostbeautifulfaces2017 like and comment in IU photo @100mostbeautifulfaces\"}},\n",
       "     {'node': {'created_at': 1496028307,\n",
       "       'id': '17857926865153772',\n",
       "       'owner': {'id': '5524604932',\n",
       "        'profile_pic_url': 'https://scontent-hkg3-2.cdninstagram.com/t51.2885-19/s150x150/18809254_314578845663627_5863009505867988992_a.jpg',\n",
       "        'username': 'm_hanny_7'},\n",
       "       'text': '작 은 누나 동생 주 룩 했 다'}},\n",
       "     {'node': {'created_at': 1496034397,\n",
       "       'id': '17886714373032782',\n",
       "       'owner': {'id': '2126277450',\n",
       "        'profile_pic_url': 'https://scontent-hkg3-2.cdninstagram.com/t51.2885-19/s150x150/18512723_284243415318970_3047368953954304000_a.jpg',\n",
       "        'username': 'meerim_abdyldaeva_'},\n",
       "       'text': '😍🤗'}},\n",
       "     {'node': {'created_at': 1496040664,\n",
       "       'id': '17859847399133194',\n",
       "       'owner': {'id': '5526571806',\n",
       "        'profile_pic_url': 'https://scontent-hkg3-2.cdninstagram.com/t51.2885-19/s150x150/18721991_488266001504868_8701922823406354432_a.jpg',\n",
       "        'username': 'zejamjing'},\n",
       "       'text': '超好看'}},\n",
       "     {'node': {'created_at': 1496049981,\n",
       "       'id': '17857215040167148',\n",
       "       'owner': {'id': '2875776582',\n",
       "        'profile_pic_url': 'https://scontent-hkg3-2.cdninstagram.com/t51.2885-19/s150x150/13734245_268935616820708_1736740901_a.jpg',\n",
       "        'username': 'mysosnge'},\n",
       "       'text': '예쁘네요😍😍'}},\n",
       "     {'node': {'created_at': 1496054147,\n",
       "       'id': '17882289496019875',\n",
       "       'owner': {'id': '3119905030',\n",
       "        'profile_pic_url': 'https://scontent-hkg3-2.cdninstagram.com/t51.2885-19/s150x150/18809337_1327026864013322_7486440232460484608_a.jpg',\n",
       "        'username': 'thao_zzz'},\n",
       "       'text': '4m'}},\n",
       "     {'node': {'created_at': 1496054150,\n",
       "       'id': '17867835277085526',\n",
       "       'owner': {'id': '3119905030',\n",
       "        'profile_pic_url': 'https://scontent-hkg3-2.cdninstagram.com/t51.2885-19/s150x150/18809337_1327026864013322_7486440232460484608_a.jpg',\n",
       "        'username': 'thao_zzz'},\n",
       "       'text': 'omg'}},\n",
       "     {'node': {'created_at': 1496056595,\n",
       "       'id': '17869230850126854',\n",
       "       'owner': {'id': '3598180821',\n",
       "        'profile_pic_url': 'https://scontent-hkg3-2.cdninstagram.com/t51.2885-19/s150x150/16110665_229473260845431_4827374530093645824_n.jpg',\n",
       "        'username': 'iamyouralppe'},\n",
       "       'text': '왜케 이쁜걸까. 아이유..'}},\n",
       "     {'node': {'created_at': 1496065718,\n",
       "       'id': '17869386451121540',\n",
       "       'owner': {'id': '15007654',\n",
       "        'profile_pic_url': 'https://scontent-hkg3-2.cdninstagram.com/t51.2885-19/s150x150/16465034_770383213130545_741064493454327808_a.jpg',\n",
       "        'username': 'mewnp'},\n",
       "       'text': 'I miss you come back again please 😭🙏🏻🙏🏻'}},\n",
       "     {'node': {'created_at': 1496067108,\n",
       "       'id': '17869074949123979',\n",
       "       'owner': {'id': '2141651781',\n",
       "        'profile_pic_url': 'https://scontent-hkg3-2.cdninstagram.com/t51.2885-19/s150x150/18722266_1446625228709799_2757793518599536640_a.jpg',\n",
       "        'username': 'iu_kookies'},\n",
       "       'text': '4M🎉😍 pls selca Queen.😢'}}],\n",
       "    'page_info': {'end_cursor': 'AQASsTS8tlR_rwgCd4YDGRxpnbaXAgXJzzRvRQDOC9WV1PVFssR01gaa4AZMCpzI18PNHBYNpsKceuXaDBMaeDnvd1UgDxLQ8-GDLs3Xd1zu2Q',\n",
       "     'has_next_page': True}}}},\n",
       " 'status': 'ok'}"
      ]
     },
     "execution_count": 217,
     "metadata": {},
     "output_type": "execute_result"
    }
   ],
   "source": [
    "res.json()"
   ]
  },
  {
   "cell_type": "markdown",
   "metadata": {},
   "source": [
    "## 트위터 "
   ]
  },
  {
   "cell_type": "code",
   "execution_count": 226,
   "metadata": {
    "collapsed": true
   },
   "outputs": [],
   "source": [
    "res = requests.get('https://twitter.com/i/search/timeline?vertical=default&q=고양이')"
   ]
  },
  {
   "cell_type": "code",
   "execution_count": 227,
   "metadata": {
    "collapsed": true
   },
   "outputs": [],
   "source": [
    "result = res.json()"
   ]
  },
  {
   "cell_type": "code",
   "execution_count": 228,
   "metadata": {
    "collapsed": false
   },
   "outputs": [
    {
     "data": {
      "text/plain": [
       "dict_keys(['new_latent_count', 'focused_refresh_interval', 'items_html', 'has_more_items'])"
      ]
     },
     "execution_count": 228,
     "metadata": {},
     "output_type": "execute_result"
    }
   ],
   "source": [
    "result.keys()"
   ]
  },
  {
   "cell_type": "code",
   "execution_count": 231,
   "metadata": {
    "collapsed": false,
    "scrolled": false
   },
   "outputs": [],
   "source": [
    "with open('twitter.html','w',encoding='utf-8') as f:\n",
    "    f.write(result['items_html'])"
   ]
  },
  {
   "cell_type": "code",
   "execution_count": 232,
   "metadata": {
    "collapsed": true
   },
   "outputs": [],
   "source": [
    "root = lxml.html.fromstring(result['items_html'])"
   ]
  },
  {
   "cell_type": "code",
   "execution_count": 234,
   "metadata": {
    "collapsed": false
   },
   "outputs": [
    {
     "name": "stdout",
     "output_type": "stream",
     "text": [
      "\n",
      "  선생님 제 고양이가 너무 토끼같이 예뻐요 \n",
      "\n",
      "  신을 집사로 둔 고양이3 \n",
      "\n",
      "  긱숙사에 고양이 들어왔어요 여러분 이것봐 너무 귀여워ㅠㅠㅜㅠㅜㅜㅜㅜㅜㅠ \n",
      "\n",
      "  이렇게까지 말하는 내가\n",
      "이렇게까지 필요없나요\n",
      "차갑게 식은 그대란 건 알지만\n",
      "난 그대가 필요해요\n",
      "\n",
      "  고양이가 지나간 자리,.. \n",
      "\n",
      "  170602 소매 쥔 주먹도 웃는 것두 완전 아기 고양이 아니냥 \n",
      "\n",
      "  어서 밤고양이가 되어줘~~~! \n",
      "\n",
      "  대형산불 막으려 물배낭 메고 직접 수락산 오른 외국인http://www.insight.co.kr/newsRead.php?ArtNo=107910 …\n",
      "\n",
      "\n",
      "  테루테루 이치카라 보고 있으면 그거.. 아아 훌륭한 고양이의 삶 가사 생각난다\n",
      "귀여운 아가씨 새하얀 털이 굉장히 멋지군요 \n",
      "\n",
      "  용국이가 너무 귀여워서 움짤까지 만들었다,, 그저 고양이 인간 ㅜㅡㅜ\n",
      "\n",
      "https://i.imgur.com/Zr1j50K.gifv \n",
      "\n",
      "#김용국 #열어줘\n",
      "\n",
      "  <===린유즈님이 생각했을 킨조\n",
      "우리가 생각하는 킨조====>\n",
      "\n",
      "  택연이 형아 가슴팍을 팡!팡!팡! #우영 #택연\n",
      "\n",
      "  다리가 부러져도 귀여운게 고양이.... 어흐흑 하트무너진다 \n",
      "\n",
      "  이것은 기분이 좋으면 앞발로 젖을 빠는 고양이이다. \n",
      "\n",
      "  카즈키고양이:(상처받은표정)\n",
      "\n",
      "\n",
      "  인간만 그런게 아니다. 솔로 냥이들도 커플 냥이들 보면 눈꼴 시려워한다냥....\n",
      "\n",
      "  나 옹이 저렇게 윙 따라하는 거 보고 생각난건데 나중에 머뷔한 다음에 스피드퀴즈 같은 거에서 답이 아기고양이 이런 거라 옹이 \"작고 귀여운 거! 야옹야옹!\" 이러니까 녤이 존나 손 들면서 다급하게 \"박지훉!!\" 이래서 윙 존나 황당해하는 거 보고 싶다\n",
      "\n",
      "\n",
      "  너 고양이야? \n",
      "\n",
      "  아기고양이 세 마리가 태어난 걸 확인하니 어깨가 무거워졌다,고 알바님께 말했더니... 이런 그림을 그려와 메뉴판에 붙여주심. ㅎㅎㅎ \n",
      "\n",
      "  RT추첨) \n",
      "뉴 고양이 선풍기 판매합니다\n",
      " 인증받은 안전한 선풍기\n",
      " 바람 3단 조절 가능! 민트품절\n",
      "택포 11000원 / 입금 다음날 배송\n",
      "[뉴고양이선풍기/이름/수량/색상/입금예정일(3일이내)] \n"
     ]
    }
   ],
   "source": [
    "for tweet in root.cssselect('.js-tweet-text-container'):\n",
    "    print(tweet.text_content().split('pic')[0])"
   ]
  }
 ],
 "metadata": {
  "kernelspec": {
   "display_name": "Python [py35]",
   "language": "python",
   "name": "Python [py35]"
  },
  "language_info": {
   "codemirror_mode": {
    "name": "ipython",
    "version": 3
   },
   "file_extension": ".py",
   "mimetype": "text/x-python",
   "name": "python",
   "nbconvert_exporter": "python",
   "pygments_lexer": "ipython3",
   "version": "3.5.2"
  }
 },
 "nbformat": 4,
 "nbformat_minor": 0
}
