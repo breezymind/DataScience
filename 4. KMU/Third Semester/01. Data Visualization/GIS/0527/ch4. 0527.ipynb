{
 "cells": [
  {
   "cell_type": "markdown",
   "metadata": {},
   "source": [
    "## 서울에 20대들이 좋아하는 상권은? \n",
    " - 도보의 매력과 옛것 그리고 새것의 만남.\n",
    "\n",
    "## 서울에 뜨는 상권은 어떠한 특징이 있는가?\n",
    " - Buffer(버퍼) 분석 : 전철역에 특정 동그라미를 그리고 카드 사용 내역을 버퍼로 그릴 것이다.\n",
    " - 위치에 따른 속성 결합 Spatial Join\n",
    " \n",
    "### 필요 데이터 \n",
    " - 지도 ( 구 ), SubWay, A04_Seoul_Block_Card "
   ]
  },
  {
   "cell_type": "markdown",
   "metadata": {},
   "source": [
    "![img1](src/0527/1.PNG)"
   ]
  },
  {
   "cell_type": "markdown",
   "metadata": {},
   "source": [
    "### 2호선 지하철 역만 필요 하므로 Filter 적용.\n",
    " - 속성 테이블에서 Filter 적용.\n",
    " - 만든 데이터를 다른 이름으로 저장하기.\n",
    "  - 선택된 객체만 저장 <- 중요 \n",
    " \n",
    "![img2](src/0527/2.PNG)\n",
    "![img3](src/0527/3.PNG)\n",
    "<img src=\"src/0527/4.PNG\" width=400>"
   ]
  },
  {
   "cell_type": "markdown",
   "metadata": {},
   "source": [
    "### 2호선 라벨 달기.\n",
    " - 스타일 변경 -> 원형 포인트 -> 사각형으로 변경\n",
    "![img](src/0527/5.PNG)\n",
    "\n",
    "### 20대가 가장 많이 사용하는 역은???\n",
    " - 예 ) 아마존이 운영하는 무인 편의점을 오픈한다면 어디로 해야 할까? 기기사용과 새로운 문화를 잘 받아들이는 20대가 많이 이용하는 곳에 둔다면 잘 운영이 될 것이다. "
   ]
  },
  {
   "cell_type": "markdown",
   "metadata": {},
   "source": [
    "## 버퍼 \n",
    " - 벡터 -> 공간연산 도구 -> 버퍼 \n",
    " - Line 2 -> 거리 500m로 제한 -> 탐색 -> 파일 이름 저장 \n",
    "![img6](src/0527/6.PNG)\n",
    "\n",
    " - 중복 카운팅이 되어야 한다. (각 원마다 승하차 인원을 집계할 것이다.) \n",
    " - 원이 겹쳐있다. \n",
    " \n",
    "![img7](src/0527/7.PNG)\n",
    "\n",
    "### 세그먼트 증가에 따른 변화 \n",
    " - 뒤에 그림이 세그먼트 25, 앞이 5\n",
    " \n",
    "<img src=\"src/0527/12.PNG\" width=500>"
   ]
  },
  {
   "cell_type": "markdown",
   "metadata": {},
   "source": [
    "## 데이터 결합 \n",
    " - 카드 데이터를 보면 T_amt_m, 2m, male, female, 개인, 법인 등 다양한 형태로 식음에 사용된 사용금액이 있다. \n",
    " - 벡터 -> 데이터 관리 도구 -> 위치에 따라 속성 결합\n",
    "![img8](src/0527/8.PNG)\n",
    "<img src=\"src/0527/9.PNG\" width=400 >\n",
    "<img src=\"src/0527/10.PNG\" width=400 >"
   ]
  },
  {
   "cell_type": "markdown",
   "metadata": {},
   "source": [
    "### 엑셀로 데이터 열기 \n",
    " - 엑셀로 데이터 열기 \n",
    "<img src=\"src/0527/11.PNG\">\n",
    " - 엑셀과 동일하게 데이터 처리가 가능하다."
   ]
  }
 ],
 "metadata": {
  "anaconda-cloud": {},
  "kernelspec": {
   "display_name": "Python [work]",
   "language": "python",
   "name": "Python [work]"
  },
  "language_info": {
   "codemirror_mode": {
    "name": "ipython",
    "version": 3
   },
   "file_extension": ".py",
   "mimetype": "text/x-python",
   "name": "python",
   "nbconvert_exporter": "python",
   "pygments_lexer": "ipython3",
   "version": "3.5.2"
  }
 },
 "nbformat": 4,
 "nbformat_minor": 0
}
