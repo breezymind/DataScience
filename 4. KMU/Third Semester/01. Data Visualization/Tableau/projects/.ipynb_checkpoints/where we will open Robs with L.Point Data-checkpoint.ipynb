{
 "cells": [
  {
   "cell_type": "markdown",
   "metadata": {},
   "source": [
    "![img1](src/0609/LOHB/1.PNG)\n",
    "![img1](src/0609/LOHB/2.PNG)\n",
    "![img1](src/0609/LOHB/3.PNG)\n",
    "![img1](src/0609/LOHB/4.PNG)\n",
    "![img1](src/0609/LOHB/5.PNG)\n",
    "![img1](src/0609/LOHB/6.PNG)\n",
    "![img1](src/0609/LOHB/7.PNG)\n",
    "![img1](src/0609/LOHB/8.PNG)\n",
    "![img1](src/0609/LOHB/9.PNG)\n",
    "![img1](src/0609/LOHB/10.PNG)\n",
    "![img1](src/0609/LOHB/11.PNG)\n",
    "![img1](src/0609/LOHB/12.PNG)\n",
    "![img1](src/0609/LOHB/13.PNG)"
   ]
  }
 ],
 "metadata": {
  "anaconda-cloud": {},
  "kernelspec": {
   "display_name": "Python 3",
   "language": "python",
   "name": "python3"
  }
 },
 "nbformat": 4,
 "nbformat_minor": 2
}
