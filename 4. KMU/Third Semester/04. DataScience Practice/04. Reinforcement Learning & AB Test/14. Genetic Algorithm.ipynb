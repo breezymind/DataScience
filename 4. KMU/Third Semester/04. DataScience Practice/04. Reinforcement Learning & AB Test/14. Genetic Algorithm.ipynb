{
 "cells": [
  {
   "cell_type": "markdown",
   "metadata": {},
   "source": [
    "# 14. Genetic Algorithm\n",
    " - 진화의 과정을 모방하는 방법\n",
    "\n",
    "## 유전자 알고리즘의 절차 \n",
    " 1. 정책을 유전자 형태로 표현\n",
    " 2. 여러 번 시도하여 결과(return)가 좋은 정책을 선택\n",
    " 3. 결과가 좋은 정책에 돌연변이를 추가\n",
    " 4. 반복\n"
   ]
  },
  {
   "cell_type": "markdown",
   "metadata": {},
   "source": [
    "## 유전자 알고리즘 vs. 강화학습\n",
    " - 구현이 상대적으로 간단\n",
    " - 가치를 추정하는 과정이 없음 \n",
    " - 복잡한 정책을 근사(approximation)하는 방법이 없음\n",
    " - 탐색 과정이 맹목적"
   ]
  },
  {
   "cell_type": "markdown",
   "metadata": {},
   "source": [
    "### 예시\n",
    "<a href='https://www.youtube.com/watch?v=Yr_nRnqeDp0'> 예시 </a>"
   ]
  },
  {
   "cell_type": "code",
   "execution_count": 1,
   "metadata": {
    "collapsed": true
   },
   "outputs": [],
   "source": [
    "import random\n",
    "import numpy"
   ]
  },
  {
   "cell_type": "markdown",
   "metadata": {},
   "source": [
    "## 주사위 "
   ]
  },
  {
   "cell_type": "code",
   "execution_count": 2,
   "metadata": {
    "collapsed": true
   },
   "outputs": [],
   "source": [
    "def dice():\n",
    "    return random.randint(1,3)"
   ]
  },
  {
   "cell_type": "code",
   "execution_count": 3,
   "metadata": {
    "collapsed": false
   },
   "outputs": [
    {
     "data": {
      "text/plain": [
       "3"
      ]
     },
     "execution_count": 3,
     "metadata": {},
     "output_type": "execute_result"
    }
   ],
   "source": [
    "dice()"
   ]
  },
  {
   "cell_type": "code",
   "execution_count": 4,
   "metadata": {
    "collapsed": false
   },
   "outputs": [
    {
     "data": {
      "text/plain": [
       "3"
      ]
     },
     "execution_count": 4,
     "metadata": {},
     "output_type": "execute_result"
    }
   ],
   "source": [
    "dice()"
   ]
  },
  {
   "cell_type": "code",
   "execution_count": 5,
   "metadata": {
    "collapsed": true
   },
   "outputs": [],
   "source": [
    "def blackjack(policy):\n",
    "    episode = []\n",
    "    dealer = dice()\n",
    "    dealer_go = True\n",
    "    \n",
    "    player = dice()\n",
    "    player_go = True\n",
    "    \n",
    "    while dealer_go or player_go:\n",
    "        \n",
    "        # 딜러는 3점 미만이면 무조건 주사위 굴림\n",
    "        dealer_go = dealer_go and dealer < 3\n",
    "        \n",
    "        # 플레이어는 정책이 1이면 주사위 굴림, 아니면 패스   \n",
    "        player_go = player_go and policy[player - 1, dealer - 1]\n",
    "        episode.append((player, dealer, int(player_go)))        \n",
    "        \n",
    "        if dealer_go:\n",
    "            dealer += dice()\n",
    "        \n",
    "        if player_go:  \n",
    "            player += dice()\n",
    "\n",
    "        # 4점이 넘어가면 버스트\n",
    "        if player > 4 and dealer > 4:\n",
    "            return 0, episode  # 무승부\n",
    "        elif dealer > 4:\n",
    "            return 1, episode  # 승리\n",
    "        elif player > 4:\n",
    "            return -1, episode  # 패배\n",
    "        # 그 외의 경우에는 계속\n",
    "\n",
    "    if player > dealer:\n",
    "        result = 1  # 승리\n",
    "    elif player == dealer:\n",
    "        result = 0  # 무승부\n",
    "    else:\n",
    "        result = -1 # 패배\n",
    "    return result, episode      "
   ]
  },
  {
   "cell_type": "markdown",
   "metadata": {},
   "source": [
    "## 무작위 정책"
   ]
  },
  {
   "cell_type": "code",
   "execution_count": 6,
   "metadata": {
    "collapsed": false
   },
   "outputs": [
    {
     "data": {
      "text/plain": [
       "array([[0, 0, 0, 1],\n",
       "       [1, 1, 1, 1],\n",
       "       [1, 0, 0, 0],\n",
       "       [1, 0, 0, 1]])"
      ]
     },
     "execution_count": 6,
     "metadata": {},
     "output_type": "execute_result"
    }
   ],
   "source": [
    "numpy.random.choice(2, (4, 4))"
   ]
  },
  {
   "cell_type": "code",
   "execution_count": 7,
   "metadata": {
    "collapsed": false
   },
   "outputs": [
    {
     "data": {
      "text/plain": [
       "array([[0, 1, 1, 1],\n",
       "       [1, 1, 1, 0],\n",
       "       [1, 0, 0, 0],\n",
       "       [0, 0, 1, 1]])"
      ]
     },
     "execution_count": 7,
     "metadata": {},
     "output_type": "execute_result"
    }
   ],
   "source": [
    "policies = numpy.random.choice(2, (10, 4, 4))\n",
    "policies[0]"
   ]
  },
  {
   "cell_type": "markdown",
   "metadata": {},
   "source": [
    "## 시행"
   ]
  },
  {
   "cell_type": "code",
   "execution_count": 8,
   "metadata": {
    "collapsed": true
   },
   "outputs": [],
   "source": [
    "results = numpy.zeros(10)\n",
    "\n",
    "for i in range(10):\n",
    "    for _ in range(100):\n",
    "        policy = policies[i]\n",
    "        result, history = blackjack(policy)\n",
    "        results[i] += result"
   ]
  },
  {
   "cell_type": "code",
   "execution_count": 9,
   "metadata": {
    "collapsed": false
   },
   "outputs": [
    {
     "data": {
      "text/plain": [
       "array([-52., -28., -36., -64., -58., -49., -45., -48., -25., -66.])"
      ]
     },
     "execution_count": 9,
     "metadata": {},
     "output_type": "execute_result"
    }
   ],
   "source": [
    "results"
   ]
  },
  {
   "cell_type": "markdown",
   "metadata": {},
   "source": [
    "## 결과가 가장 좋은 정책 선택"
   ]
  },
  {
   "cell_type": "code",
   "execution_count": 10,
   "metadata": {
    "collapsed": false
   },
   "outputs": [
    {
     "data": {
      "text/plain": [
       "8"
      ]
     },
     "execution_count": 10,
     "metadata": {},
     "output_type": "execute_result"
    }
   ],
   "source": [
    "best = numpy.argmax(results)\n",
    "best"
   ]
  },
  {
   "cell_type": "markdown",
   "metadata": {},
   "source": [
    "## 후손 생성"
   ]
  },
  {
   "cell_type": "code",
   "execution_count": 11,
   "metadata": {
    "collapsed": true
   },
   "outputs": [],
   "source": [
    "mother = policies[best]\n",
    "policies = []\n",
    "for i in range(9):\n",
    "    child = numpy.array(mother)  # 새로운 정책\n",
    "    \n",
    "    x = random.randint(0, 3)\n",
    "    y = random.randint(0, 3)\n",
    "    child[x, y] = 1 - child[x, y]  # 무작위로 한 가지 정책을 바꿈\n",
    "    policies.append(child)\n",
    "policies.append(mother)"
   ]
  },
  {
   "cell_type": "code",
   "execution_count": 12,
   "metadata": {
    "collapsed": false
   },
   "outputs": [
    {
     "data": {
      "text/plain": [
       "array([[0, 1, 1, 0],\n",
       "       [1, 1, 1, 1],\n",
       "       [0, 1, 1, 1],\n",
       "       [1, 0, 0, 1]])"
      ]
     },
     "execution_count": 12,
     "metadata": {},
     "output_type": "execute_result"
    }
   ],
   "source": [
    "policies[8]"
   ]
  }
 ],
 "metadata": {
  "kernelspec": {
   "display_name": "Python [py35]",
   "language": "python",
   "name": "Python [py35]"
  },
  "language_info": {
   "codemirror_mode": {
    "name": "ipython",
    "version": 3
   },
   "file_extension": ".py",
   "mimetype": "text/x-python",
   "name": "python",
   "nbconvert_exporter": "python",
   "pygments_lexer": "ipython3",
   "version": "3.5.2"
  }
 },
 "nbformat": 4,
 "nbformat_minor": 0
}
