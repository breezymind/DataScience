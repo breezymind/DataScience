{
 "cells": [
  {
   "cell_type": "markdown",
   "metadata": {},
   "source": [
    "# AB Testing"
   ]
  },
  {
   "cell_type": "markdown",
   "metadata": {},
   "source": [
    "## HIPPO (Highest Paid Person's Opinion)\n",
    "![img1](img/0513/1.PNG)\n",
    "\n",
    "## Randomized Controlled Trial\n",
    " - But 치실의 경우 ㅋ해본적이 없다. 비교하기도 힘들고 ㅋ 느낌은 나지만 하지 않은 듯한 치실 짝퉁을 만들 수 없다.\n",
    "![img1](img/0513/2.PNG)"
   ]
  },
  {
   "cell_type": "markdown",
   "metadata": {},
   "source": [
    "## A/B Testing \n",
    " - RCT(Randomized Controlled Trial)를 인터넷 마케팅에 적용한 것 \n",
    " - 실제 고객에게 무작위로 다른 디자인을 제시\n",
    " - 목표 지표(예: 가입률)이 높은 디자인을 최종 선택\n",
    "![img3](img/0513/3.PNG)\n",
    "![img3](img/0513/4.PNG)\n",
    "![img3](img/0513/5.PNG)\n",
    "![img3](img/0513/6.PNG)"
   ]
  },
  {
   "cell_type": "markdown",
   "metadata": {},
   "source": [
    "## A/B Testing 이슈\n",
    " - 얼마나 많이 테스트해야 하나?\n",
    " - 통계적 가설 검정(T-검정, 카이제곱 검정 등)\n",
    " - bootstrapping"
   ]
  },
  {
   "cell_type": "markdown",
   "metadata": {},
   "source": [
    "### 카이제곱 검정\n",
    "![img7](img/0513/7.PNG)"
   ]
  },
  {
   "cell_type": "markdown",
   "metadata": {},
   "source": [
    "### 통계적으로 유의미한 차이 \n",
    " - 현실적으로 유의미한 차이라는 뜻은 아님\n",
    " - 실제로 차이가 없을 때 관찰된 차이가 나타날 확률이 낮음\n",
    "\n",
    "### 카이제곱 검정의 문제\n",
    " - 샘플 수가 적으면 카이제곱이 카이제곱 분포를 다르지 않음\n",
    " - BootStrapping"
   ]
  },
  {
   "cell_type": "markdown",
   "metadata": {},
   "source": [
    "### Boot Strapping(부트스트래핑)\n",
    " - 분포를 가정하지 않음(이론적인)\n",
    " - (A/B) 데이터를 모두 섞음 -> 무작위로 나눔 -> 카이제곱 구함\n",
    " - 위 과정을 반복해서 카이제곱의 분포를 구함\n",
    " - 비 모수적 방법론."
   ]
  },
  {
   "cell_type": "markdown",
   "metadata": {},
   "source": [
    "### A/B 테스팅 문제점\n",
    " - 유의수준 5%는 충분한가? \n",
    "  - 테스트를 60번 하면 적어도 1번은 잘못된 결론 가능성이 95% 이상\n",
    "\n",
    " - 테스트 비용\n",
    "  - 열등한 옵션을 사용자에게 노출하면서 생기는 기회비용\n",
    "\n",
    " - 지속적인 변화\n",
    "  - 계절 등에 따라 사용자의 행동이 변할 경우 -> 기존 테스트는 무용지물\n",
    "  - 반복해서 테스트할 경우 -> 테스트 비용 증가\n",
    "\n",
    "\n",
    "\n"
   ]
  },
  {
   "cell_type": "markdown",
   "metadata": {},
   "source": [
    "# 실습 "
   ]
  },
  {
   "cell_type": "code",
   "execution_count": 1,
   "metadata": {
    "collapsed": true
   },
   "outputs": [],
   "source": [
    "import numpy as np "
   ]
  },
  {
   "cell_type": "code",
   "execution_count": 2,
   "metadata": {
    "collapsed": false
   },
   "outputs": [
    {
     "data": {
      "text/plain": [
       "array([False,  True,  True, False, False, False,  True, False,  True,\n",
       "        True,  True, False, False, False,  True,  True,  True,  True,\n",
       "        True,  True, False,  True,  True, False,  True,  True,  True,\n",
       "       False,  True,  True], dtype=bool)"
      ]
     },
     "execution_count": 2,
     "metadata": {},
     "output_type": "execute_result"
    }
   ],
   "source": [
    "a = np.random.uniform(size=30) > 0.5\n",
    "a # True 는 가입을 한사람 / False는 가입을 안한사람"
   ]
  },
  {
   "cell_type": "code",
   "execution_count": 3,
   "metadata": {
    "collapsed": false
   },
   "outputs": [
    {
     "data": {
      "text/plain": [
       "19"
      ]
     },
     "execution_count": 3,
     "metadata": {},
     "output_type": "execute_result"
    }
   ],
   "source": [
    "a.sum()"
   ]
  },
  {
   "cell_type": "code",
   "execution_count": 4,
   "metadata": {
    "collapsed": false
   },
   "outputs": [
    {
     "data": {
      "text/plain": [
       "array([ True,  True,  True,  True,  True,  True, False, False,  True,\n",
       "        True, False,  True,  True,  True,  True, False,  True, False,\n",
       "        True, False,  True,  True, False,  True, False,  True,  True,\n",
       "       False,  True,  True], dtype=bool)"
      ]
     },
     "execution_count": 4,
     "metadata": {},
     "output_type": "execute_result"
    }
   ],
   "source": [
    "b = np.random.uniform(size=30) > 0.5\n",
    "b"
   ]
  },
  {
   "cell_type": "code",
   "execution_count": 5,
   "metadata": {
    "collapsed": false
   },
   "outputs": [
    {
     "data": {
      "text/plain": [
       "21"
      ]
     },
     "execution_count": 5,
     "metadata": {},
     "output_type": "execute_result"
    }
   ],
   "source": [
    "b.sum()"
   ]
  },
  {
   "cell_type": "markdown",
   "metadata": {},
   "source": [
    "## statsmodels"
   ]
  },
  {
   "cell_type": "code",
   "execution_count": 6,
   "metadata": {
    "collapsed": true
   },
   "outputs": [],
   "source": [
    "from statsmodels.stats.proportion import proportions_chisquare"
   ]
  },
  {
   "cell_type": "code",
   "execution_count": 7,
   "metadata": {
    "collapsed": false
   },
   "outputs": [
    {
     "data": {
      "text/plain": [
       "(0.30000000000000004, 0.58388242077036501, (array([[19, 11],\n",
       "         [21,  9]]), array([[ 20.,  10.],\n",
       "         [ 20.,  10.]])))"
      ]
     },
     "execution_count": 7,
     "metadata": {},
     "output_type": "execute_result"
    }
   ],
   "source": [
    "proportions_chisquare([a.sum(), b.sum()], [len(a), len(b)])"
   ]
  },
  {
   "cell_type": "markdown",
   "metadata": {},
   "source": [
    " - 0.038433930236781759 : 유의미 한 값이라고 나왔다 -> 하지만 틀렸다 왜냐면 만드느 확률이 동일한 함수를 이용해서 만들었기 때문에 \n",
    " - 0.05 는 20번 중에 한번을 틀린 수준이다. (너무관대하다)"
   ]
  },
  {
   "cell_type": "code",
   "execution_count": 8,
   "metadata": {
    "collapsed": true
   },
   "outputs": [],
   "source": [
    "# 수동으로 구한다. \n",
    "def calc_chisq(a, b):\n",
    "    chisq = 0\n",
    "    total = len(a) + len(b)\n",
    "    all_pos = a.sum() + b.sum()\n",
    "    prob = all_pos / total\n",
    "    for x in [a, b]:\n",
    "        positive = len(x) * prob\n",
    "        chisq += (x.sum() - positive) ** 2 / positive\n",
    "\n",
    "        negative = len(x) - positive\n",
    "        chisq += (len(x) - x.sum() - negative)** 2 / negative\n",
    "    return chisq"
   ]
  },
  {
   "cell_type": "code",
   "execution_count": 9,
   "metadata": {
    "collapsed": false
   },
   "outputs": [
    {
     "data": {
      "text/plain": [
       "0.30000000000000004"
      ]
     },
     "execution_count": 9,
     "metadata": {},
     "output_type": "execute_result"
    }
   ],
   "source": [
    "calc_chisq(a, b)"
   ]
  },
  {
   "cell_type": "markdown",
   "metadata": {},
   "source": [
    "## bootstrapping"
   ]
  },
  {
   "cell_type": "code",
   "execution_count": 10,
   "metadata": {
    "collapsed": false
   },
   "outputs": [],
   "source": [
    "merge = np.hstack((a, b))"
   ]
  },
  {
   "cell_type": "code",
   "execution_count": 11,
   "metadata": {
    "collapsed": false
   },
   "outputs": [
    {
     "data": {
      "text/plain": [
       "array([False,  True,  True, False, False, False,  True, False,  True,\n",
       "        True,  True, False, False, False,  True,  True,  True,  True,\n",
       "        True,  True, False,  True,  True, False,  True,  True,  True,\n",
       "       False,  True,  True,  True,  True,  True,  True,  True,  True,\n",
       "       False, False,  True,  True, False,  True,  True,  True,  True,\n",
       "       False,  True, False,  True, False,  True,  True, False,  True,\n",
       "       False,  True,  True, False,  True,  True], dtype=bool)"
      ]
     },
     "execution_count": 11,
     "metadata": {},
     "output_type": "execute_result"
    }
   ],
   "source": [
    "merge"
   ]
  },
  {
   "cell_type": "code",
   "execution_count": 12,
   "metadata": {
    "collapsed": false
   },
   "outputs": [
    {
     "data": {
      "text/plain": [
       "array([False, False,  True, False,  True,  True,  True,  True,  True,\n",
       "       False,  True,  True,  True,  True,  True, False, False,  True,\n",
       "        True,  True, False,  True,  True, False,  True, False,  True,\n",
       "       False, False,  True], dtype=bool)"
      ]
     },
     "execution_count": 12,
     "metadata": {},
     "output_type": "execute_result"
    }
   ],
   "source": [
    "np.random.choice(merge, 30)"
   ]
  },
  {
   "cell_type": "code",
   "execution_count": 13,
   "metadata": {
    "collapsed": false
   },
   "outputs": [],
   "source": [
    "dist = []\n",
    "for _ in range(1000):\n",
    "    s1 = np.random.choice(merge, 30)\n",
    "    s2 = np.random.choice(merge, 30)\n",
    "    c = calc_chisq(s1, s2)\n",
    "    dist.append(c)"
   ]
  },
  {
   "cell_type": "code",
   "execution_count": 14,
   "metadata": {
    "collapsed": false,
    "scrolled": false
   },
   "outputs": [
    {
     "data": {
      "text/plain": [
       "[0.34090909090909094,\n",
       " 0.27149321266968329,\n",
       " 0.26785714285714285,\n",
       " 1.8315018315018317,\n",
       " 2.5,\n",
       " 0.31746031746031744,\n",
       " 0.098199672667757781,\n",
       " 0.31746031746031744,\n",
       " 2.4549918166939442,\n",
       " 1.0859728506787332]"
      ]
     },
     "execution_count": 14,
     "metadata": {},
     "output_type": "execute_result"
    }
   ],
   "source": [
    "dist[:10]"
   ]
  },
  {
   "cell_type": "code",
   "execution_count": 15,
   "metadata": {
    "collapsed": false
   },
   "outputs": [
    {
     "data": {
      "text/plain": [
       "584"
      ]
     },
     "execution_count": 15,
     "metadata": {},
     "output_type": "execute_result"
    }
   ],
   "source": [
    "np.sum(np.array(dist) > calc_chisq(a,b)) # 1000가지 카이제곱중에서 큰값이 몇개나 되는지."
   ]
  },
  {
   "cell_type": "markdown",
   "metadata": {},
   "source": [
    "## 연속 변수의 비교"
   ]
  },
  {
   "cell_type": "code",
   "execution_count": 16,
   "metadata": {
    "collapsed": false
   },
   "outputs": [],
   "source": [
    "a = np.random.normal(size=30)\n",
    "b = np.random.normal(size=30)"
   ]
  },
  {
   "cell_type": "code",
   "execution_count": 17,
   "metadata": {
    "collapsed": false
   },
   "outputs": [
    {
     "data": {
      "text/plain": [
       "-0.24832201049212629"
      ]
     },
     "execution_count": 17,
     "metadata": {},
     "output_type": "execute_result"
    }
   ],
   "source": [
    "a.mean()"
   ]
  },
  {
   "cell_type": "code",
   "execution_count": 18,
   "metadata": {
    "collapsed": false
   },
   "outputs": [
    {
     "data": {
      "text/plain": [
       "0.089343398915555039"
      ]
     },
     "execution_count": 18,
     "metadata": {},
     "output_type": "execute_result"
    }
   ],
   "source": [
    "b.mean()"
   ]
  },
  {
   "cell_type": "code",
   "execution_count": 19,
   "metadata": {
    "collapsed": false
   },
   "outputs": [
    {
     "data": {
      "text/plain": [
       "0.33766540940768131"
      ]
     },
     "execution_count": 19,
     "metadata": {},
     "output_type": "execute_result"
    }
   ],
   "source": [
    "b.mean() - a.mean()"
   ]
  },
  {
   "cell_type": "markdown",
   "metadata": {},
   "source": [
    "### statsmodels"
   ]
  },
  {
   "cell_type": "code",
   "execution_count": 20,
   "metadata": {
    "collapsed": true
   },
   "outputs": [],
   "source": [
    "from statsmodels.stats.weightstats import ttest_ind"
   ]
  },
  {
   "cell_type": "code",
   "execution_count": 21,
   "metadata": {
    "collapsed": false
   },
   "outputs": [
    {
     "data": {
      "text/plain": [
       "(-1.4585990375563529, 0.15006990912822868, 58.0)"
      ]
     },
     "execution_count": 21,
     "metadata": {},
     "output_type": "execute_result"
    }
   ],
   "source": [
    "ttest_ind(a,b) # t, p-value, df"
   ]
  },
  {
   "cell_type": "markdown",
   "metadata": {},
   "source": [
    "### bootstrapping"
   ]
  },
  {
   "cell_type": "code",
   "execution_count": 22,
   "metadata": {
    "collapsed": false
   },
   "outputs": [
    {
     "data": {
      "text/plain": [
       "-0.0794893057882856"
      ]
     },
     "execution_count": 22,
     "metadata": {},
     "output_type": "execute_result"
    }
   ],
   "source": [
    "merge = np.hstack((a, b))\n",
    "merge.mean()"
   ]
  },
  {
   "cell_type": "code",
   "execution_count": 23,
   "metadata": {
    "collapsed": true
   },
   "outputs": [],
   "source": [
    "dist = []\n",
    "for _ in range(1000):\n",
    "    s1 = np.random.choice(merge, 30)\n",
    "    s2 = np.random.choice(merge, 30)\n",
    "    diff = s1.mean() - s2.mean()\n",
    "    dist.append(diff)"
   ]
  },
  {
   "cell_type": "code",
   "execution_count": 24,
   "metadata": {
    "collapsed": true
   },
   "outputs": [],
   "source": [
    "obs = b.mean() - a.mean()"
   ]
  },
  {
   "cell_type": "code",
   "execution_count": 25,
   "metadata": {
    "collapsed": false
   },
   "outputs": [
    {
     "data": {
      "text/plain": [
       "76"
      ]
     },
     "execution_count": 25,
     "metadata": {},
     "output_type": "execute_result"
    }
   ],
   "source": [
    "np.sum(np.array(dist) > obs) # 비율적 차이가 클 수록 의미가 차이가 있다고 볼 수 있다. "
   ]
  },
  {
   "cell_type": "markdown",
   "metadata": {},
   "source": [
    "### 탐색-활용 문제 \n",
    " - exploration-exploitation problem\n",
    "\n",
    " - 탐색(exploration)\n",
    "  - 답을 알기 위해 다양한 테스트를 시도하는 것\n",
    "  - 정확한 답을 이미 알고 있을 경우는 낭비\n",
    "\n",
    " - 활용(exploitation)\n",
    "  - 이미 알고 있는 답을 활용하는 것\n",
    "  - 부정확한 답을 알고 있을 경우 손실\n"
   ]
  },
  {
   "cell_type": "markdown",
   "metadata": {},
   "source": [
    "### Multi-Armed bandit\n",
    " - Bandit: 강도\n",
    " - One-Armed Bandit(외팔이 강도): 슬롯머신의 별칭\n",
    "\n",
    " - 돈을 딸 확률이 다른 슬롯머신이 있을 때\n",
    " - 어느 슬롯머신을 얼마나 당겨봐야 하는가?\n",
    "![img8](img/0513/8.PNG)\n",
    " - 테스팅을 하되, 여러가지 안 중 좋은 안을 확률적으로 많이 나오게 보여주는것"
   ]
  },
  {
   "cell_type": "markdown",
   "metadata": {},
   "source": [
    "#### 용어 정리 \n",
    " - 행동(action): MAB에서 한 번의 선택(예: 3번 슬롯머신)\n",
    " - 보상(reward): 한 행동의 결과(+500원)\n",
    " - 가치(value): 한 행동의 보상의 평균(q) - 모평균\n",
    " - 추정 가치(estimated value): 지금까지 행동으로 추정한 가치(Q)\n"
   ]
  },
  {
   "cell_type": "markdown",
   "metadata": {},
   "source": [
    "### 그리디 법\n",
    " - greedy method\n",
    " - 초기 탐색 후 추정 가치가 가장 높은 방법을 활용\n",
    " - 단순\n"
   ]
  },
  {
   "cell_type": "markdown",
   "metadata": {},
   "source": [
    "### 실습(Multi-Armed Bandit)"
   ]
  },
  {
   "cell_type": "code",
   "execution_count": 26,
   "metadata": {
    "collapsed": false
   },
   "outputs": [],
   "source": [
    "value = np.arange(-0.5, 0.5, 0.1)"
   ]
  },
  {
   "cell_type": "code",
   "execution_count": 27,
   "metadata": {
    "collapsed": false
   },
   "outputs": [
    {
     "data": {
      "text/plain": [
       "array([ -5.00000000e-01,  -4.00000000e-01,  -3.00000000e-01,\n",
       "        -2.00000000e-01,  -1.00000000e-01,  -1.11022302e-16,\n",
       "         1.00000000e-01,   2.00000000e-01,   3.00000000e-01,\n",
       "         4.00000000e-01])"
      ]
     },
     "execution_count": 27,
     "metadata": {},
     "output_type": "execute_result"
    }
   ],
   "source": [
    "value # 마지막을 사용해야 좋은 결과를 얻을수 있다."
   ]
  },
  {
   "cell_type": "code",
   "execution_count": 28,
   "metadata": {
    "collapsed": true
   },
   "outputs": [],
   "source": [
    "def pull(value, k):\n",
    "    m = value[k]\n",
    "    return np.random.normal(m) # 평균이 m인 값을 하나 뽑는다. "
   ]
  },
  {
   "cell_type": "code",
   "execution_count": 29,
   "metadata": {
    "collapsed": false
   },
   "outputs": [
    {
     "data": {
      "text/plain": [
       "0.25306849621142824"
      ]
     },
     "execution_count": 29,
     "metadata": {},
     "output_type": "execute_result"
    }
   ],
   "source": [
    "pull(value,0)"
   ]
  },
  {
   "cell_type": "code",
   "execution_count": 30,
   "metadata": {
    "collapsed": false
   },
   "outputs": [
    {
     "data": {
      "text/plain": [
       "1.0876052238187026"
      ]
     },
     "execution_count": 30,
     "metadata": {},
     "output_type": "execute_result"
    }
   ],
   "source": [
    "pull(value,9)"
   ]
  },
  {
   "cell_type": "markdown",
   "metadata": {},
   "source": [
    "### Greedy method"
   ]
  },
  {
   "cell_type": "code",
   "execution_count": 31,
   "metadata": {
    "collapsed": true
   },
   "outputs": [],
   "source": [
    "rewards = np.zeros(10)\n",
    "actions = np.zeros(10)\n",
    "\n",
    "for k in range(10):\n",
    "    for _ in range(30):\n",
    "        reward = pull(value, k)\n",
    "        rewards[k] += reward\n",
    "        actions[k] += 1"
   ]
  },
  {
   "cell_type": "code",
   "execution_count": 32,
   "metadata": {
    "collapsed": false
   },
   "outputs": [
    {
     "data": {
      "text/plain": [
       "array([ -2.86107168, -12.75722441, -10.69444724,  -6.88354176,\n",
       "        11.31371617,  -6.30444897,   1.48826205,   5.44698994,\n",
       "         8.93088405,  11.83373775])"
      ]
     },
     "execution_count": 32,
     "metadata": {},
     "output_type": "execute_result"
    }
   ],
   "source": [
    "rewards"
   ]
  },
  {
   "cell_type": "code",
   "execution_count": 33,
   "metadata": {
    "collapsed": false
   },
   "outputs": [
    {
     "data": {
      "text/plain": [
       "array([ 30.,  30.,  30.,  30.,  30.,  30.,  30.,  30.,  30.,  30.])"
      ]
     },
     "execution_count": 33,
     "metadata": {},
     "output_type": "execute_result"
    }
   ],
   "source": [
    "actions"
   ]
  },
  {
   "cell_type": "code",
   "execution_count": 34,
   "metadata": {
    "collapsed": true
   },
   "outputs": [],
   "source": [
    "max_k = np.argmax(rewards)"
   ]
  },
  {
   "cell_type": "code",
   "execution_count": 35,
   "metadata": {
    "collapsed": false
   },
   "outputs": [
    {
     "data": {
      "text/plain": [
       "9"
      ]
     },
     "execution_count": 35,
     "metadata": {},
     "output_type": "execute_result"
    }
   ],
   "source": [
    "max_k"
   ]
  },
  {
   "cell_type": "code",
   "execution_count": 36,
   "metadata": {
    "collapsed": true
   },
   "outputs": [],
   "source": [
    "for _ in range(700):\n",
    "    reward = pull(value, max_k)\n",
    "    rewards[max_k] += reward\n",
    "    actions[k] += 1    "
   ]
  },
  {
   "cell_type": "code",
   "execution_count": 37,
   "metadata": {
    "collapsed": false
   },
   "outputs": [
    {
     "data": {
      "text/plain": [
       "array([  -2.86107168,  -12.75722441,  -10.69444724,   -6.88354176,\n",
       "         11.31371617,   -6.30444897,    1.48826205,    5.44698994,\n",
       "          8.93088405,  258.4271739 ])"
      ]
     },
     "execution_count": 37,
     "metadata": {},
     "output_type": "execute_result"
    }
   ],
   "source": [
    "rewards"
   ]
  },
  {
   "cell_type": "code",
   "execution_count": 38,
   "metadata": {
    "collapsed": false
   },
   "outputs": [
    {
     "data": {
      "text/plain": [
       "246.10629203654008"
      ]
     },
     "execution_count": 38,
     "metadata": {},
     "output_type": "execute_result"
    }
   ],
   "source": [
    "rewards.sum()"
   ]
  },
  {
   "cell_type": "markdown",
   "metadata": {},
   "source": [
    "### 입실론-그리디 법\n",
    " - epsilon-greedy method\n",
    " - 기본적으로는 그리디 법과 동일\n",
    " - 일정 확률(입실론, epsilon)을 정해서 그만큼만 무작위로 탐색\n",
    "  - 다른 고개들에는 90%에는 그리디 중에 좋았던 걸 보여주고, 10%에는 실험적인 디자인을 보여준다.\n",
    " - 시간이 충분히 지나면 가장 좋은 답으로 수렴\n",
    "![img9](img/0513/9.PNG)"
   ]
  },
  {
   "cell_type": "markdown",
   "metadata": {},
   "source": [
    "### Epsilon-Greedy method"
   ]
  },
  {
   "cell_type": "code",
   "execution_count": 39,
   "metadata": {
    "collapsed": true
   },
   "outputs": [],
   "source": [
    "epsilon = 0.3"
   ]
  },
  {
   "cell_type": "code",
   "execution_count": 40,
   "metadata": {
    "collapsed": true
   },
   "outputs": [],
   "source": [
    "rewards = np.zeros(10)\n",
    "actions = np.zeros(10)\n",
    "\n",
    "for _ in range(1000):\n",
    "    if np.random.uniform() < epsilon: # exploaration\n",
    "        k = np.random.choice(range(10))\n",
    "    else: # exploitation\n",
    "        tmp_rewards = np.divide(rewards,actions)\n",
    "        k = np.argmax(tmp_rewards)\n",
    "    \n",
    "    reward = pull(value, k)\n",
    "    rewards[k] += reward\n",
    "    actions[k] += 1"
   ]
  },
  {
   "cell_type": "code",
   "execution_count": 41,
   "metadata": {
    "collapsed": false
   },
   "outputs": [
    {
     "data": {
      "text/plain": [
       "237.04814451054398"
      ]
     },
     "execution_count": 41,
     "metadata": {},
     "output_type": "execute_result"
    }
   ],
   "source": [
    "rewards.sum()"
   ]
  },
  {
   "cell_type": "markdown",
   "metadata": {},
   "source": [
    "### 이동평균법 \n",
    " - 고객의 취향이 시간이 지날 수록 변할 수 있는데 그것을 해결하는 부분\n",
    "![img](img/0520/1.PNG)"
   ]
  },
  {
   "cell_type": "markdown",
   "metadata": {},
   "source": [
    "#### 식\n",
    " M + 1/n(X-M) 기본 평균법 \n",
    " - 위의 식의 1/n을 $\\alpha$ 로 고정하게 된다면, 과거의 데이터에 대한 영향이 줄어들게 된다.  "
   ]
  },
  {
   "cell_type": "markdown",
   "metadata": {},
   "source": [
    "### 이동평균 Epsilon-Greedy"
   ]
  },
  {
   "cell_type": "code",
   "execution_count": 45,
   "metadata": {
    "collapsed": false
   },
   "outputs": [],
   "source": [
    "estimate = np.zeros(10)\n",
    "rewards = np.zeros(10)\n",
    "actions = np.zeros(10)\n",
    "\n",
    "for _ in range(1000):\n",
    "    if np.random.uniform() < epsilon: # exploaration\n",
    "        k = np.random.choice(range(10))\n",
    "    else: # exploitation\n",
    "        tmp_rewards = np.divide(rewards,actions)\n",
    "        k = np.argmax(tmp_rewards)\n",
    "    \n",
    "    reward = pull(value, k)\n",
    "    n = max(1, actions[k])\n",
    "    estimate[k] += (reward - estimate[k]) / n\n",
    "    rewards[k] += reward\n",
    "    actions[k] += 1"
   ]
  },
  {
   "cell_type": "code",
   "execution_count": 46,
   "metadata": {
    "collapsed": false
   },
   "outputs": [
    {
     "data": {
      "text/plain": [
       "283.93571621631088"
      ]
     },
     "execution_count": 46,
     "metadata": {},
     "output_type": "execute_result"
    }
   ],
   "source": [
    "rewards.sum()"
   ]
  },
  {
   "cell_type": "markdown",
   "metadata": {},
   "source": [
    "### 고정비율 이동평균 Epsilon-Greedy"
   ]
  },
  {
   "cell_type": "code",
   "execution_count": 48,
   "metadata": {
    "collapsed": false
   },
   "outputs": [],
   "source": [
    "estimate = np.zeros(10)\n",
    "rewards = np.zeros(10)\n",
    "actions = np.zeros(10)\n",
    "\n",
    "for _ in range(1000):\n",
    "    if np.random.uniform() < epsilon: # exploaration\n",
    "        k = np.random.choice(range(10))\n",
    "    else: # exploitation\n",
    "        tmp_rewards = np.divide(rewards,actions)\n",
    "        k = np.argmax(tmp_rewards)\n",
    "    \n",
    "    reward = pull(value, k)\n",
    "    estimate[k] += (reward - estimate[k]) / 10\n",
    "    rewards[k] += reward\n",
    "    actions[k] += 1"
   ]
  },
  {
   "cell_type": "code",
   "execution_count": 49,
   "metadata": {
    "collapsed": false
   },
   "outputs": [
    {
     "data": {
      "text/plain": [
       "225.22790978557481"
      ]
     },
     "execution_count": 49,
     "metadata": {},
     "output_type": "execute_result"
    }
   ],
   "source": [
    "rewards.sum() # 현재 상황은 변화가 없는 상황이라 일정 비율로 나누게 되면 성능이 저하가 된다."
   ]
  },
  {
   "cell_type": "markdown",
   "metadata": {},
   "source": [
    "### 낙관적 초기화 \n",
    " - Optimistic Initialization\n",
    " - 초기값을 실제 가치보다 크게 설정\n",
    " - 초반에는 가치를 과대 추정 -> 활용이 실제로는 탐색처럼 됨\n",
    " - 적게 탐색된 행동을 더 자주 탐색하도록 유도\n",
    "\n",
    "![img](img/0520/2.PNG)"
   ]
  },
  {
   "cell_type": "markdown",
   "metadata": {},
   "source": [
    "### 낙관적 초기화"
   ]
  },
  {
   "cell_type": "code",
   "execution_count": 54,
   "metadata": {
    "collapsed": true
   },
   "outputs": [],
   "source": [
    "estimate = np.ones(10)\n",
    "rewards = np.zeros(10)\n",
    "actions = np.zeros(10)\n",
    "\n",
    "for _ in range(1000):\n",
    "    if np.random.uniform() < epsilon: # exploaration\n",
    "        k = np.random.choice(range(10))\n",
    "    else: # exploitation\n",
    "        tmp_rewards = np.divide(rewards,actions)\n",
    "        k = np.argmax(tmp_rewards)\n",
    "    \n",
    "    reward = pull(value, k)\n",
    "    estimate[k] += (reward - estimate[k]) / 10\n",
    "    rewards[k] += reward\n",
    "    actions[k] += 1"
   ]
  },
  {
   "cell_type": "code",
   "execution_count": 55,
   "metadata": {
    "collapsed": false
   },
   "outputs": [
    {
     "data": {
      "text/plain": [
       "180.6289085370862"
      ]
     },
     "execution_count": 55,
     "metadata": {},
     "output_type": "execute_result"
    }
   ],
   "source": [
    "rewards.sum()"
   ]
  },
  {
   "cell_type": "markdown",
   "metadata": {},
   "source": [
    "![img3](img/0520/3.PNG)\n",
    "- 적게 시도 해본거를 가중치를 줘서 더 많이 시도 해보자가 컨셉이다.\n",
    "![img3](img/0520/4.PNG)"
   ]
  },
  {
   "cell_type": "code",
   "execution_count": 52,
   "metadata": {
    "collapsed": true
   },
   "outputs": [],
   "source": [
    "c = 0.001\n",
    "estimate = np.ones(10)  # 초기값을 0대신 1로 설정\n",
    "rewards = np.zeros(10)\n",
    "actions = np.zeros(10)\n",
    "\n",
    "for t in range(1000):\n",
    "    n = np.maximum(1, actions)\n",
    "    \n",
    "    k = np.argmax(rewards + c * np.sqrt(np.log(max(1, t)) / n))\n",
    "    reward = pull(value, k)\n",
    "    estimate[k] += (reward - estimate[k]) / 10\n",
    "    rewards[k] += reward\n",
    "    actions[k] += 1"
   ]
  },
  {
   "cell_type": "code",
   "execution_count": 53,
   "metadata": {
    "collapsed": false
   },
   "outputs": [
    {
     "data": {
      "text/plain": [
       "256.44108318783293"
      ]
     },
     "execution_count": 53,
     "metadata": {},
     "output_type": "execute_result"
    }
   ],
   "source": [
    "rewards.sum()"
   ]
  },
  {
   "cell_type": "markdown",
   "metadata": {},
   "source": [
    "### Gradient Bandit\n",
    " - 추정 가치를 구하지 않는 방법\n",
    " - 모든 행동에 확률을 할당 \n",
    " - 보상이 큰 행동의 확률은 증가, 다른 행동은 감소\n",
    " - 입실론 그리디와 달리 입실론을 정하는 문제가 없음\n",
    "![img5](img/0520/5.PNG)"
   ]
  },
  {
   "cell_type": "markdown",
   "metadata": {},
   "source": [
    "### Gradient Bandit"
   ]
  },
  {
   "cell_type": "code",
   "execution_count": 56,
   "metadata": {
    "collapsed": true
   },
   "outputs": [],
   "source": [
    "alpha = 0.1\n",
    "preference = np.ones(10)\n",
    "rewards = np.zeros(10)\n",
    "actions = np.zeros(10)\n",
    "baseline = 0\n",
    "\n",
    "for t in range(1000):    \n",
    "    e = np.exp(preference)\n",
    "    p = e / e.sum()  # 선택 확률 -> softmax식.\n",
    "    k = np.random.choice(range(10), p=p) \n",
    "    reward = pull(value, k)\n",
    "    rewards[k] += reward\n",
    "    baseline += (reward - baseline) / max(t, 1)\n",
    "    preference[k] += alpha * (reward - baseline) * (1 - p[k])\n",
    "    for j in range(10):\n",
    "        if j != k:\n",
    "            preference[j] -= alpha * (reward - baseline) * p[j]\n",
    "    actions[k] += 1"
   ]
  },
  {
   "cell_type": "code",
   "execution_count": 57,
   "metadata": {
    "collapsed": false
   },
   "outputs": [
    {
     "data": {
      "text/plain": [
       "305.28589109335456"
      ]
     },
     "execution_count": 57,
     "metadata": {},
     "output_type": "execute_result"
    }
   ],
   "source": [
    "rewards.sum()"
   ]
  }
 ],
 "metadata": {
  "anaconda-cloud": {},
  "kernelspec": {
   "display_name": "Python [py35]",
   "language": "python",
   "name": "Python [py35]"
  },
  "language_info": {
   "codemirror_mode": {
    "name": "ipython",
    "version": 3
   },
   "file_extension": ".py",
   "mimetype": "text/x-python",
   "name": "python",
   "nbconvert_exporter": "python",
   "pygments_lexer": "ipython3",
   "version": "3.5.2"
  }
 },
 "nbformat": 4,
 "nbformat_minor": 0
}
