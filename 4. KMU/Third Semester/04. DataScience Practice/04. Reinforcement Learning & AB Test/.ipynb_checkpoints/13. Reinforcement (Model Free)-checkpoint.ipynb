{
 "cells": [
  {
   "cell_type": "code",
   "execution_count": 1,
   "metadata": {
    "collapsed": true
   },
   "outputs": [],
   "source": [
    "import random\n",
    "import numpy"
   ]
  },
  {
   "cell_type": "markdown",
   "metadata": {},
   "source": [
    "## 주사위"
   ]
  },
  {
   "cell_type": "code",
   "execution_count": 2,
   "metadata": {
    "collapsed": true
   },
   "outputs": [],
   "source": [
    "def dice():\n",
    "    return random.randint(1, 3)"
   ]
  },
  {
   "cell_type": "code",
   "execution_count": 3,
   "metadata": {
    "collapsed": false
   },
   "outputs": [
    {
     "data": {
      "text/plain": [
       "1"
      ]
     },
     "execution_count": 3,
     "metadata": {},
     "output_type": "execute_result"
    }
   ],
   "source": [
    "dice()"
   ]
  },
  {
   "cell_type": "code",
   "execution_count": 4,
   "metadata": {
    "collapsed": false
   },
   "outputs": [
    {
     "data": {
      "text/plain": [
       "3"
      ]
     },
     "execution_count": 4,
     "metadata": {},
     "output_type": "execute_result"
    }
   ],
   "source": [
    "dice()"
   ]
  },
  {
   "cell_type": "markdown",
   "metadata": {},
   "source": [
    "## 미니 블랙잭"
   ]
  },
  {
   "cell_type": "code",
   "execution_count": 5,
   "metadata": {
    "collapsed": true
   },
   "outputs": [],
   "source": [
    "def mini_blackjack(policy):\n",
    "    dealer = dice()\n",
    "    print('dealer', dealer)\n",
    "    dealer_go = True\n",
    "    \n",
    "    player = dice()\n",
    "    print('player', player)\n",
    "    player_go = True\n",
    "    \n",
    "    while dealer_go or player_go:\n",
    "        \n",
    "        # 딜러는 3점 미만이면 무조건 주사위 굴림\n",
    "        dealer_go = dealer_go and dealer < 3\n",
    "        if dealer_go:\n",
    "            dealer += dice()\n",
    "            print('dealer', dealer)\n",
    "            if dealer > 4:  # 4점을 넘어가면 버스트\n",
    "                return 1    # 승리\n",
    "            \n",
    "        # 플레이어는 정책이 1이면 주사위 굴림, 아니면 패스   \n",
    "        player_go = player_go and policy[player - 1, dealer - 1]\n",
    "        if player_go:  \n",
    "            player += dice()\n",
    "            print('player', player)\n",
    "            if player > 4:  # 4점을 넘어가면 버스트\n",
    "                return -1   # 패배\n",
    "\n",
    "    if player > dealer:\n",
    "        return 1  # 승리\n",
    "    elif player == dealer:\n",
    "        return 0  # 무승부\n",
    "    else:\n",
    "        return -1 # 패배"
   ]
  },
  {
   "cell_type": "markdown",
   "metadata": {},
   "source": [
    "## 정책"
   ]
  },
  {
   "cell_type": "code",
   "execution_count": 6,
   "metadata": {
    "collapsed": true
   },
   "outputs": [],
   "source": [
    "policy = numpy.array([\n",
    "        [1, 1, 1, 1], # 1점일때는 남이 무슨 점수거든 고 \n",
    "        [1, 1, 1, 1],\n",
    "        [0, 0, 0, 0],\n",
    "        [0, 0, 0, 0]\n",
    "    ])"
   ]
  },
  {
   "cell_type": "code",
   "execution_count": 7,
   "metadata": {
    "collapsed": false
   },
   "outputs": [
    {
     "name": "stdout",
     "output_type": "stream",
     "text": [
      "game 0\n",
      "dealer 2\n",
      "player 2\n",
      "dealer 4\n",
      "player 3\n",
      "return: -1\n",
      "\n",
      "game 1\n",
      "dealer 3\n",
      "player 2\n",
      "player 3\n",
      "return: 0\n",
      "\n",
      "game 2\n",
      "dealer 2\n",
      "player 3\n",
      "dealer 5\n",
      "return: 1\n",
      "\n",
      "game 3\n",
      "dealer 2\n",
      "player 2\n",
      "dealer 3\n",
      "player 4\n",
      "return: 1\n",
      "\n",
      "game 4\n",
      "dealer 3\n",
      "player 1\n",
      "player 3\n",
      "return: 0\n",
      "\n",
      "game 5\n",
      "dealer 3\n",
      "player 1\n",
      "player 4\n",
      "return: 1\n",
      "\n",
      "game 6\n",
      "dealer 3\n",
      "player 1\n",
      "player 2\n",
      "player 4\n",
      "return: 1\n",
      "\n",
      "game 7\n",
      "dealer 1\n",
      "player 3\n",
      "dealer 2\n",
      "dealer 3\n",
      "return: 0\n",
      "\n",
      "game 8\n",
      "dealer 1\n",
      "player 1\n",
      "dealer 3\n",
      "player 4\n",
      "return: 1\n",
      "\n",
      "game 9\n",
      "dealer 3\n",
      "player 3\n",
      "return: 0\n",
      "\n",
      "0.4\n"
     ]
    }
   ],
   "source": [
    "total = 0\n",
    "for i in range(10):\n",
    "    print('game {}'.format(i))\n",
    "    ret = mini_blackjack(policy)\n",
    "    print('return: {}'.format(ret))\n",
    "    print()\n",
    "    total += ret\n",
    "print(total / 10)"
   ]
  },
  {
   "cell_type": "code",
   "execution_count": 8,
   "metadata": {
    "collapsed": true
   },
   "outputs": [],
   "source": [
    "def blackjack(policy):\n",
    "    episode = []\n",
    "    dealer = dice()\n",
    "    dealer_go = True\n",
    "    \n",
    "    player = dice()\n",
    "    player_go = True\n",
    "    \n",
    "    while dealer_go or player_go:\n",
    "        \n",
    "        # 딜러는 3점 미만이면 무조건 주사위 굴림\n",
    "        dealer_go = dealer_go and dealer < 3\n",
    "        \n",
    "        # 플레이어는 정책이 1이면 주사위 굴림, 아니면 패스   \n",
    "        player_go = player_go and policy[player - 1, dealer - 1]\n",
    "        episode.append((player, dealer, int(player_go)))        \n",
    "        \n",
    "        if dealer_go:\n",
    "            dealer += dice()\n",
    "        \n",
    "        if player_go:  \n",
    "            player += dice()\n",
    "\n",
    "        # 4점이 넘어가면 버스트\n",
    "        if player > 4 and dealer > 4:\n",
    "            return 0, episode  # 무승부\n",
    "        elif dealer > 4:\n",
    "            return 1, episode  # 승리\n",
    "        elif player > 4:\n",
    "            return -1, episode  # 패배\n",
    "        # 그 외의 경우에는 계속\n",
    "\n",
    "    if player > dealer:\n",
    "        result = 1  # 승리\n",
    "    elif player == dealer:\n",
    "        result = 0  # 무승부\n",
    "    else:\n",
    "        result = -1 # 패배\n",
    "    return result, episode "
   ]
  },
  {
   "cell_type": "code",
   "execution_count": 9,
   "metadata": {
    "collapsed": false
   },
   "outputs": [
    {
     "data": {
      "text/plain": [
       "(1, [(1, 2, 1), (4, 3, 0)])"
      ]
     },
     "execution_count": 9,
     "metadata": {},
     "output_type": "execute_result"
    }
   ],
   "source": [
    "blackjack(policy)"
   ]
  },
  {
   "cell_type": "markdown",
   "metadata": {},
   "source": [
    "## 몬테 카를로 법"
   ]
  },
  {
   "cell_type": "code",
   "execution_count": 10,
   "metadata": {
    "collapsed": true
   },
   "outputs": [],
   "source": [
    "returns = numpy.zeros((4, 4, 2)) # 4,4 하거나 안하거나 하니깐 2 "
   ]
  },
  {
   "cell_type": "code",
   "execution_count": 11,
   "metadata": {
    "collapsed": false
   },
   "outputs": [
    {
     "data": {
      "text/plain": [
       "array([[[ 0.,  0.],\n",
       "        [ 0.,  0.],\n",
       "        [ 0.,  0.],\n",
       "        [ 0.,  0.]],\n",
       "\n",
       "       [[ 0.,  0.],\n",
       "        [ 0.,  0.],\n",
       "        [ 0.,  0.],\n",
       "        [ 0.,  0.]],\n",
       "\n",
       "       [[ 0.,  0.],\n",
       "        [ 0.,  0.],\n",
       "        [ 0.,  0.],\n",
       "        [ 0.,  0.]],\n",
       "\n",
       "       [[ 0.,  0.],\n",
       "        [ 0.,  0.],\n",
       "        [ 0.,  0.],\n",
       "        [ 0.,  0.]]])"
      ]
     },
     "execution_count": 11,
     "metadata": {},
     "output_type": "execute_result"
    }
   ],
   "source": [
    "returns"
   ]
  },
  {
   "cell_type": "markdown",
   "metadata": {},
   "source": [
    "## 특정한 상태를 거친 횟수"
   ]
  },
  {
   "cell_type": "code",
   "execution_count": 12,
   "metadata": {
    "collapsed": false
   },
   "outputs": [
    {
     "data": {
      "text/plain": [
       "array([[[ 0.,  0.],\n",
       "        [ 0.,  0.],\n",
       "        [ 0.,  0.],\n",
       "        [ 0.,  0.]],\n",
       "\n",
       "       [[ 0.,  0.],\n",
       "        [ 0.,  0.],\n",
       "        [ 0.,  0.],\n",
       "        [ 0.,  0.]],\n",
       "\n",
       "       [[ 0.,  0.],\n",
       "        [ 0.,  0.],\n",
       "        [ 0.,  0.],\n",
       "        [ 0.,  0.]],\n",
       "\n",
       "       [[ 0.,  0.],\n",
       "        [ 0.,  0.],\n",
       "        [ 0.,  0.],\n",
       "        [ 0.,  0.]]])"
      ]
     },
     "execution_count": 12,
     "metadata": {},
     "output_type": "execute_result"
    }
   ],
   "source": [
    "count = numpy.zeros((4, 4, 2))\n",
    "count"
   ]
  },
  {
   "cell_type": "markdown",
   "metadata": {},
   "source": [
    "## 시작정책 "
   ]
  },
  {
   "cell_type": "code",
   "execution_count": 13,
   "metadata": {
    "collapsed": true
   },
   "outputs": [],
   "source": [
    "policy = numpy.array([\n",
    "        [1, 1, 1, 1],\n",
    "        [0, 0, 0, 0],\n",
    "        [0, 0, 0, 0],\n",
    "        [0, 0, 0, 0]\n",
    "    ])"
   ]
  },
  {
   "cell_type": "markdown",
   "metadata": {},
   "source": [
    "## 에피소드마다 return과 횟수를 누적"
   ]
  },
  {
   "cell_type": "code",
   "execution_count": 14,
   "metadata": {
    "collapsed": true
   },
   "outputs": [],
   "source": [
    "reward = 0\n",
    "discount = 1"
   ]
  },
  {
   "cell_type": "code",
   "execution_count": 15,
   "metadata": {
    "collapsed": true
   },
   "outputs": [],
   "source": [
    "for _ in range(1000):\n",
    "    ret, episode = blackjack(policy)\n",
    "    for player, dealer, action in reversed(episode):\n",
    "        count[player - 1, dealer - 1, action] += 1\n",
    "        returns[player - 1, dealer - 1, action] += ret\n",
    "        ret = reward + discount * ret"
   ]
  },
  {
   "cell_type": "markdown",
   "metadata": {},
   "source": [
    "## 결과 "
   ]
  },
  {
   "cell_type": "code",
   "execution_count": 16,
   "metadata": {
    "collapsed": false
   },
   "outputs": [
    {
     "data": {
      "text/plain": [
       "array([[[   0.,  -35.],\n",
       "        [   0.,   17.],\n",
       "        [   0.,  -12.],\n",
       "        [   0.,    0.]],\n",
       "\n",
       "       [[ -86.,    0.],\n",
       "        [ -56.,    0.],\n",
       "        [-269.,    0.],\n",
       "        [-120.,    0.]],\n",
       "\n",
       "       [[ -21.,    0.],\n",
       "        [  19.,    0.],\n",
       "        [   0.,    0.],\n",
       "        [ -92.,    0.]],\n",
       "\n",
       "       [[   0.,    0.],\n",
       "        [   7.,    0.],\n",
       "        [  50.,    0.],\n",
       "        [   0.,    0.]]])"
      ]
     },
     "execution_count": 16,
     "metadata": {},
     "output_type": "execute_result"
    }
   ],
   "source": [
    "returns"
   ]
  },
  {
   "cell_type": "code",
   "execution_count": 17,
   "metadata": {
    "collapsed": false
   },
   "outputs": [
    {
     "data": {
      "text/plain": [
       "array([[[   0.,  122.],\n",
       "        [   0.,  124.],\n",
       "        [   0.,  106.],\n",
       "        [   0.,    0.]],\n",
       "\n",
       "       [[  98.,    0.],\n",
       "        [ 158.,    0.],\n",
       "        [ 269.,    0.],\n",
       "        [ 120.,    0.]],\n",
       "\n",
       "       [[  92.,    0.],\n",
       "        [ 167.,    0.],\n",
       "        [ 270.,    0.],\n",
       "        [  92.,    0.]],\n",
       "\n",
       "       [[   0.,    0.],\n",
       "        [  15.,    0.],\n",
       "        [  50.,    0.],\n",
       "        [  37.,    0.]]])"
      ]
     },
     "execution_count": 17,
     "metadata": {},
     "output_type": "execute_result"
    }
   ],
   "source": [
    "count"
   ]
  },
  {
   "cell_type": "markdown",
   "metadata": {},
   "source": [
    "## 가치(= return의 평균) 계산"
   ]
  },
  {
   "cell_type": "code",
   "execution_count": 18,
   "metadata": {
    "collapsed": false
   },
   "outputs": [
    {
     "name": "stderr",
     "output_type": "stream",
     "text": [
      "C:\\Anaconda3\\envs\\work\\lib\\site-packages\\ipykernel\\__main__.py:1: RuntimeWarning: invalid value encountered in true_divide\n",
      "  if __name__ == '__main__':\n"
     ]
    },
    {
     "data": {
      "text/plain": [
       "array([[[        nan, -0.28688525],\n",
       "        [        nan,  0.13709677],\n",
       "        [        nan, -0.11320755],\n",
       "        [        nan,         nan]],\n",
       "\n",
       "       [[-0.87755102,         nan],\n",
       "        [-0.35443038,         nan],\n",
       "        [-1.        ,         nan],\n",
       "        [-1.        ,         nan]],\n",
       "\n",
       "       [[-0.22826087,         nan],\n",
       "        [ 0.11377246,         nan],\n",
       "        [ 0.        ,         nan],\n",
       "        [-1.        ,         nan]],\n",
       "\n",
       "       [[        nan,         nan],\n",
       "        [ 0.46666667,         nan],\n",
       "        [ 1.        ,         nan],\n",
       "        [ 0.        ,         nan]]])"
      ]
     },
     "execution_count": 18,
     "metadata": {},
     "output_type": "execute_result"
    }
   ],
   "source": [
    "returns / count"
   ]
  },
  {
   "cell_type": "markdown",
   "metadata": {},
   "source": [
    "## 에러 메시지를 막음"
   ]
  },
  {
   "cell_type": "code",
   "execution_count": 19,
   "metadata": {
    "collapsed": true
   },
   "outputs": [],
   "source": [
    "with numpy.errstate(divide='ignore', invalid='ignore'):\n",
    "    value = returns / count"
   ]
  },
  {
   "cell_type": "code",
   "execution_count": 20,
   "metadata": {
    "collapsed": false
   },
   "outputs": [
    {
     "data": {
      "text/plain": [
       "array([[[        nan, -0.28688525],\n",
       "        [        nan,  0.13709677],\n",
       "        [        nan, -0.11320755],\n",
       "        [        nan,         nan]],\n",
       "\n",
       "       [[-0.87755102,         nan],\n",
       "        [-0.35443038,         nan],\n",
       "        [-1.        ,         nan],\n",
       "        [-1.        ,         nan]],\n",
       "\n",
       "       [[-0.22826087,         nan],\n",
       "        [ 0.11377246,         nan],\n",
       "        [ 0.        ,         nan],\n",
       "        [-1.        ,         nan]],\n",
       "\n",
       "       [[        nan,         nan],\n",
       "        [ 0.46666667,         nan],\n",
       "        [ 1.        ,         nan],\n",
       "        [ 0.        ,         nan]]])"
      ]
     },
     "execution_count": 20,
     "metadata": {},
     "output_type": "execute_result"
    }
   ],
   "source": [
    "value"
   ]
  },
  {
   "cell_type": "code",
   "execution_count": 21,
   "metadata": {
    "collapsed": false
   },
   "outputs": [
    {
     "data": {
      "text/plain": [
       "array([[[ True, False],\n",
       "        [ True, False],\n",
       "        [ True, False],\n",
       "        [ True,  True]],\n",
       "\n",
       "       [[False,  True],\n",
       "        [False,  True],\n",
       "        [False,  True],\n",
       "        [False,  True]],\n",
       "\n",
       "       [[False,  True],\n",
       "        [False,  True],\n",
       "        [False,  True],\n",
       "        [False,  True]],\n",
       "\n",
       "       [[ True,  True],\n",
       "        [False,  True],\n",
       "        [False,  True],\n",
       "        [False,  True]]], dtype=bool)"
      ]
     },
     "execution_count": 21,
     "metadata": {},
     "output_type": "execute_result"
    }
   ],
   "source": [
    "~numpy.isfinite(value)"
   ]
  },
  {
   "cell_type": "code",
   "execution_count": 22,
   "metadata": {
    "collapsed": true
   },
   "outputs": [],
   "source": [
    "value[~numpy.isfinite(value)] = 0"
   ]
  },
  {
   "cell_type": "code",
   "execution_count": 23,
   "metadata": {
    "collapsed": false
   },
   "outputs": [
    {
     "data": {
      "text/plain": [
       "-1.0"
      ]
     },
     "execution_count": 23,
     "metadata": {},
     "output_type": "execute_result"
    }
   ],
   "source": [
    "value[2, 3, 0]  # 플레이어가 3점, 딜러가 4점일 때 스톱!의 가치"
   ]
  },
  {
   "cell_type": "code",
   "execution_count": 24,
   "metadata": {
    "collapsed": false
   },
   "outputs": [
    {
     "data": {
      "text/plain": [
       "0.0"
      ]
     },
     "execution_count": 24,
     "metadata": {},
     "output_type": "execute_result"
    }
   ],
   "source": [
    "value[2, 3, 1]  # 플레이어가 3점, 딜러가 4점일 때 고!의 가치"
   ]
  },
  {
   "cell_type": "markdown",
   "metadata": {},
   "source": [
    "## Policy Iteration"
   ]
  },
  {
   "cell_type": "code",
   "execution_count": 25,
   "metadata": {
    "collapsed": true
   },
   "outputs": [],
   "source": [
    "def compute_value(returns, count):\n",
    "    with numpy.errstate(divide='ignore', invalid='ignore'):\n",
    "        value = returns / count\n",
    "    value[~numpy.isfinite(value)] = 0\n",
    "    return value"
   ]
  },
  {
   "cell_type": "code",
   "execution_count": 26,
   "metadata": {
    "collapsed": true
   },
   "outputs": [],
   "source": [
    "policy = numpy.array([\n",
    "        [1, 1, 1, 1],\n",
    "        [0, 0, 0, 0],\n",
    "        [0, 0, 0, 0],\n",
    "        [0, 0, 0, 0]\n",
    "    ])\n",
    "returns = numpy.ones((4, 4, 2)) * 10  # 낙관적 초기화\n",
    "count = numpy.zeros((4, 4, 2))"
   ]
  },
  {
   "cell_type": "code",
   "execution_count": 27,
   "metadata": {
    "collapsed": false
   },
   "outputs": [
    {
     "name": "stdout",
     "output_type": "stream",
     "text": [
      "-0.248\n"
     ]
    }
   ],
   "source": [
    "\n",
    "total = 0\n",
    "for i in range(1000):\n",
    "    ret, _ = blackjack(policy)\n",
    "    total += ret\n",
    "print(total / 1000)"
   ]
  },
  {
   "cell_type": "code",
   "execution_count": 28,
   "metadata": {
    "collapsed": true
   },
   "outputs": [],
   "source": [
    "for _ in range(1000):\n",
    "    ret, episode = blackjack(policy)\n",
    "    for player, dealer, action in reversed(episode):\n",
    "        count[player - 1, dealer - 1, action] += 1\n",
    "        returns[player - 1, dealer - 1, action] += ret\n",
    "        ret = reward + discount * ret\n",
    "        \n",
    "    ## 가치 수정\n",
    "    value = compute_value(returns, count)\n",
    "        \n",
    "    ## 정책 수정\n",
    "    for p in range(4):\n",
    "        for d in range(4):\n",
    "            policy[p, d] = numpy.argmax(value[p, d])"
   ]
  },
  {
   "cell_type": "code",
   "execution_count": 29,
   "metadata": {
    "collapsed": false
   },
   "outputs": [
    {
     "data": {
      "text/plain": [
       "array([[1, 1, 1, 0],\n",
       "       [1, 1, 1, 1],\n",
       "       [0, 0, 0, 1],\n",
       "       [0, 0, 0, 0]])"
      ]
     },
     "execution_count": 29,
     "metadata": {},
     "output_type": "execute_result"
    }
   ],
   "source": [
    "policy"
   ]
  },
  {
   "cell_type": "code",
   "execution_count": 30,
   "metadata": {
    "collapsed": false
   },
   "outputs": [
    {
     "name": "stdout",
     "output_type": "stream",
     "text": [
      "0.037\n"
     ]
    }
   ],
   "source": [
    "total = 0\n",
    "for i in range(1000):\n",
    "    ret, _ = blackjack(policy)\n",
    "    total += ret\n",
    "print(total / 1000)"
   ]
  },
  {
   "cell_type": "code",
   "execution_count": 31,
   "metadata": {
    "collapsed": false
   },
   "outputs": [
    {
     "data": {
      "text/plain": [
       "array([[[-0.06666667,  0.11538462],\n",
       "        [-0.04761905,  0.4       ],\n",
       "        [-0.44444444,  0.47959184],\n",
       "        [ 0.        ,  0.        ]],\n",
       "\n",
       "       [[-0.1       , -0.06024096],\n",
       "        [ 0.        ,  0.17204301],\n",
       "        [-0.64285714,  0.19886364],\n",
       "        [-0.41176471, -0.03703704]],\n",
       "\n",
       "       [[-0.22222222, -0.25      ],\n",
       "        [ 0.01351351,  0.        ],\n",
       "        [ 0.03333333,  0.        ],\n",
       "        [-0.85714286, -0.39583333]],\n",
       "\n",
       "       [[ 0.        ,  0.        ],\n",
       "        [ 1.11538462,  0.        ],\n",
       "        [ 1.06134969,  0.        ],\n",
       "        [ 0.12987013,  0.        ]]])"
      ]
     },
     "execution_count": 31,
     "metadata": {},
     "output_type": "execute_result"
    }
   ],
   "source": [
    "value"
   ]
  },
  {
   "cell_type": "markdown",
   "metadata": {},
   "source": [
    "## 시간차 학습"
   ]
  },
  {
   "cell_type": "code",
   "execution_count": 32,
   "metadata": {
    "collapsed": true
   },
   "outputs": [],
   "source": [
    "\n",
    "policy = numpy.array([\n",
    "        [1, 1, 1, 1],\n",
    "        [0, 0, 0, 0],\n",
    "        [0, 0, 0, 0],\n",
    "        [0, 0, 0, 0]\n",
    "    ])\n",
    "value = numpy.zeros((4, 4, 2))  # return 대신 value를 사용\n",
    "count = numpy.zeros((4, 4, 2))"
   ]
  },
  {
   "cell_type": "code",
   "execution_count": 33,
   "metadata": {
    "collapsed": true
   },
   "outputs": [],
   "source": [
    "for _ in range(1000):\n",
    "    ret, episode = blackjack(policy)\n",
    "    next_value = 0\n",
    "    for i, state_action in enumerate(reversed(episode)):\n",
    "        player, dealer, action = state_action\n",
    "        if i == 0:\n",
    "            reward = ret\n",
    "        else:\n",
    "            reward = 0\n",
    "        p = player - 1\n",
    "        d = dealer - 1\n",
    "        count[p, d, action] += 1\n",
    "        \n",
    "        # 가치 수정\n",
    "        N = count[p, d, action] \n",
    "        current_value = value[p, d, action]\n",
    "        bellman = reward + discount * next_value  # 벨만 방정식\n",
    "        next_value = value[p, d, action] = current_value + (bellman - current_value) / N  # 이동 평균"
   ]
  },
  {
   "cell_type": "code",
   "execution_count": 34,
   "metadata": {
    "collapsed": false
   },
   "outputs": [
    {
     "data": {
      "text/plain": [
       "array([[[ 0.        , -0.28418008],\n",
       "        [ 0.        ,  0.25      ],\n",
       "        [ 0.        , -0.03960396],\n",
       "        [ 0.        ,  0.        ]],\n",
       "\n",
       "       [[-0.84915945,  0.        ],\n",
       "        [-0.29824561,  0.        ],\n",
       "        [-1.        ,  0.        ],\n",
       "        [-1.        ,  0.        ]],\n",
       "\n",
       "       [[-0.31756063,  0.        ],\n",
       "        [ 0.09615385,  0.        ],\n",
       "        [ 0.        ,  0.        ],\n",
       "        [-1.        ,  0.        ]],\n",
       "\n",
       "       [[ 0.        ,  0.        ],\n",
       "        [ 0.77777778,  0.        ],\n",
       "        [ 1.        ,  0.        ],\n",
       "        [ 0.        ,  0.        ]]])"
      ]
     },
     "execution_count": 34,
     "metadata": {},
     "output_type": "execute_result"
    }
   ],
   "source": [
    "value"
   ]
  },
  {
   "cell_type": "markdown",
   "metadata": {},
   "source": [
    "## SARSA"
   ]
  },
  {
   "cell_type": "code",
   "execution_count": 35,
   "metadata": {
    "collapsed": true
   },
   "outputs": [],
   "source": [
    "policy = numpy.array([\n",
    "        [1, 1, 1, 1],\n",
    "        [0, 0, 0, 0],\n",
    "        [0, 0, 0, 0],\n",
    "        [0, 0, 0, 0]\n",
    "    ])\n",
    "value = numpy.zeros((4, 4, 2))  # return 대신 value를 사용\n",
    "count = numpy.zeros((4, 4, 2))"
   ]
  },
  {
   "cell_type": "code",
   "execution_count": 36,
   "metadata": {
    "collapsed": true
   },
   "outputs": [],
   "source": [
    "\n",
    "for _ in range(1000):\n",
    "    ret, episode = blackjack(policy)\n",
    "    next_value = 0\n",
    "    for i, state_action in enumerate(reversed(episode)):\n",
    "        player, dealer, action = state_action\n",
    "        if i == 0:\n",
    "            reward = ret\n",
    "        else:\n",
    "            reward = 0\n",
    "        p = player - 1\n",
    "        d = dealer - 1\n",
    "        count[p, d, action] += 1\n",
    "        \n",
    "        # 가치 수정\n",
    "        N = count[p, d, action] \n",
    "        current_value = value[p, d, action]\n",
    "        bellman = reward + discount * next_value  # 벨만 방정식\n",
    "        next_value = value[p, d, action] = current_value + (bellman - current_value) / N  # 이동 평균\n",
    "        \n",
    "        # 정책 수정\n",
    "        policy[p, d] = numpy.argmax(value[p, d])"
   ]
  },
  {
   "cell_type": "code",
   "execution_count": 37,
   "metadata": {
    "collapsed": false
   },
   "outputs": [
    {
     "data": {
      "text/plain": [
       "array([[0, 1, 1, 1],\n",
       "       [1, 1, 0, 1],\n",
       "       [0, 0, 0, 1],\n",
       "       [0, 0, 0, 0]])"
      ]
     },
     "execution_count": 37,
     "metadata": {},
     "output_type": "execute_result"
    }
   ],
   "source": [
    "policy"
   ]
  }
 ],
 "metadata": {
  "anaconda-cloud": {},
  "kernelspec": {
   "display_name": "Python [work]",
   "language": "python",
   "name": "Python [work]"
  },
  "language_info": {
   "codemirror_mode": {
    "name": "ipython",
    "version": 3
   },
   "file_extension": ".py",
   "mimetype": "text/x-python",
   "name": "python",
   "nbconvert_exporter": "python",
   "pygments_lexer": "ipython3",
   "version": "3.5.2"
  }
 },
 "nbformat": 4,
 "nbformat_minor": 0
}
