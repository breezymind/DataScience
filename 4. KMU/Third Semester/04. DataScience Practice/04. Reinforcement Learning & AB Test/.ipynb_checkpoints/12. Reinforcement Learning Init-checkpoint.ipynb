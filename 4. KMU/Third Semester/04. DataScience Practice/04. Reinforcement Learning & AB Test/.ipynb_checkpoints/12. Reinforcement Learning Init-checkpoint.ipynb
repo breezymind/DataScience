{
 "cells": [
  {
   "cell_type": "markdown",
   "metadata": {},
   "source": [
    "# 강화학습 기초 "
   ]
  },
  {
   "cell_type": "markdown",
   "metadata": {},
   "source": [
    "## 1. 마코프 과정\n",
    " - Markov Process\n",
    " - 상태 -> 상태\n",
    " - 한 상태에서 다른 상태로 변화는 확률적으로 결정\n",
    " - 변화 확률은 직전 상태에 따라 달라짐\n",
    " - 직전 상태 이전의 과거는 영향X\n",
    "![img1](img/0527/1.PNG)"
   ]
  },
  {
   "cell_type": "markdown",
   "metadata": {},
   "source": [
    "## 2. 마코프 보상 과정 \n",
    " - Markov Reward Process\n",
    " - 각 상태에 보상(reward)이 있음\n",
    "![img2](img/0527/2.PNG)"
   ]
  },
  {
   "cell_type": "markdown",
   "metadata": {},
   "source": [
    "## 3. Return (수익 정도로 될 듯하다고함)\n",
    " - 보상(reward)의 할인된(discounted) 합\n",
    " - 예를 들어 할인이 0.9일 경우\n",
    "  - 수업 -> 잠 -> 밥: -10 + $0.9$ \\* 10 + $0.9^2$ \\* 5 = 3.05\n",
    "  - 밥 -> 잠 -> 수업: +5 + $0.9$ \\* 10 - $0.9^2$ \\* 10 = 5.9\n",
    " - 동일한 행동을 하더라도 순서가 중요하다. \n",
    "  - 예) 구두 상품권을 상품권 파는데 팔게 되면 가격을 적게 받는다.\n",
    " - 먼 미래의 일에 대해서는 상관없어진다. "
   ]
  },
  {
   "cell_type": "markdown",
   "metadata": {},
   "source": [
    "## 4. 가치함수 \n",
    " - 현재 상태에서 앞으로 Return의 기대값.\n",
    " ![img3](img/0527/3.PNG)"
   ]
  },
  {
   "cell_type": "markdown",
   "metadata": {},
   "source": [
    "## 4.1 벨만 방정식\n",
    " - 가치 = Return (보상 + 보상 + 보상...)\n",
    "  - 현재 가치 = 보상 + 할인 * (다음 상태 가치)\n",
    "![img4](img/0527/4.PNG)\n",
    " - 현재 상태의 가치 = 현재 상태의 보상 + 할인 * 다음 상태의 가치"
   ]
  },
  {
   "cell_type": "markdown",
   "metadata": {},
   "source": [
    "## 5. 마코프 결정 과정 \n",
    "- Markov Decision Process\n",
    "- 어떠한 선택을 하는지 확률이 있고 그 선택에 따라서 확률이 또 변하게 된다.\n",
    "- 마코프 보상 과정 + 행동\n",
    "- 상태와 행동에 따라 변화 확률과 보상이 결정\n",
    "![img5](img/0527/5.PNG)\n",
    "![img6](img/0527/6.PNG)"
   ]
  },
  {
   "cell_type": "markdown",
   "metadata": {},
   "source": [
    " - 현재 상태에서의 최대 보상을 받기 위해서는 \n",
    "  - 0.9 x 5 + 0.1 x (-10) -> 기대값 (3.5) >>>> 최대 \n",
    "  - 0.8 x 5 + 0.2 x (-10) -> 기대값 (2.0)"
   ]
  },
  {
   "cell_type": "markdown",
   "metadata": {},
   "source": [
    "## 6. 정책\n",
    " - policy\n",
    " - 의사결정 모델\n",
    " - 현재 상태에서 어떤 행동을 할 확률\n",
    "  - 예) 에라모르겠다 20%, 힘내자 80% 또는 30%, 70% 등 이러한 확률을 정하는 것을 정책이라고 한다.\n",
    "![img7](img/0527/7.PNG)"
   ]
  },
  {
   "cell_type": "markdown",
   "metadata": {},
   "source": [
    "## 7. 가치 함수 \n",
    " - V(수업) : 행동에 상관없이 기대값\n",
    " - Q(수업) : 행동을 했을 경우의 기대값\n",
    "![img8](img/0527/8.PNG)\n",
    " - 상태 가치 함수: v\n",
    " - 상태-행동 가치 함수: q\n"
   ]
  },
  {
   "cell_type": "markdown",
   "metadata": {},
   "source": [
    "## 8. 최적의 정책 \n",
    " - 모든 상태에서 가치 함수의 값이 다른 정책보다 높은 정책\n",
    " - 바꿔 말하면 모든 상태에서 기대 Return이 다른 정책보다 높은 정책\n",
    " - 선택을 할 수 있는 부분에서 나올 수 있는 경우의 수를 정해주는 것이 정책이다.\n",
    "  - 예) 수업, 잠이라는 선택지가 있을 경우 현재 내가 수업일때 할 수 있는 경우, 잠을 자고 있을 경우에 내가 선택 할 수 있는 경우의 수, 총 수업(경우) + 잠(경우) 를 정하는 것이 정책이다."
   ]
  },
  {
   "cell_type": "markdown",
   "metadata": {},
   "source": [
    "## 8.1 결정론적 정책\n",
    " - 현재 상태에서 최선의 행동을 100% 한다.\n",
    "  - 예) 아침에 9시에 무조건 깨는 사람 ( 결정론적 정책), 깰때도 있고 안깰때도 있고 하는 사람(확률론적)\n",
    " - 이 경우가 많다. 예) 에어컨을 23도 이상됐을때 에어컨을 끄는 것이 좋다면 끄면 되지 80%는 끄고 20%는 안끄고 그런 정책을 할 필요가 없다."
   ]
  },
  {
   "cell_type": "markdown",
   "metadata": {},
   "source": [
    "## 8.2 V의 벨만 최적 방정식 \n",
    "![img9](img/0527/9.PNG)"
   ]
  },
  {
   "cell_type": "markdown",
   "metadata": {},
   "source": [
    "## 8.3 Q의 벨만 최적 방정식 \n",
    " - 현재 상태에서 최선의 q는\n",
    " - 다음 상태에서 최선의 행동을 할 때 q들의 기대값\n",
    "![img10](img/0527/10.PNG) "
   ]
  },
  {
   "cell_type": "markdown",
   "metadata": {},
   "source": [
    "## 9. 벨만 최적 방정식을 푸는 방법\n",
    " - 푸는 공식이 없음 \n",
    " - 반복해서 푸는 방법\n",
    "  - Value Iteration\n",
    "  - Policy Iteration\n",
    "  - Q-learning\n",
    "  - SARSA\n",
    "\n"
   ]
  },
  {
   "cell_type": "markdown",
   "metadata": {},
   "source": [
    "## 10. 동적 계획법\n",
    " - dynamic programming\n",
    " - 문제를 작은 문제들로 나누어 푸는 방법\n",
    "  - 예) 부산까지 가는방법, 1. 국민대->서울역 최선, 2. 서울역-> 부산 그리고 1+2"
   ]
  },
  {
   "cell_type": "markdown",
   "metadata": {},
   "source": [
    "## 11. Iterative Policy Evaluation\n",
    " - 정책이 정해져 있을 때 v를 구하는 방법\n",
    " \n",
    " \n",
    " 1. 모든 상태의 가치를 초기화한다\n",
    " 2. 벨만 방정식을 이용해 모든 상태의 가치를 수정\n",
    " 3. 2의 과정을 반복한다\n",
    "\n",
    "\n",
    "가치 = 보상(현재) + 할인 x 다음 가치(추정치)\n"
   ]
  },
  {
   "cell_type": "markdown",
   "metadata": {},
   "source": [
    "## 12. Policy Iteration\n",
    " 1. 모든 상태의 가치를 초기화한다, 초기 정책은 무작위 행동\n",
    " 2. 벨만 방정식을 이용해 모든 상태의 가치를 수정\n",
    " 3. 각 상태에서 가장 가치가 큰 행동을 하도록 정책을 수정\n",
    " 4. 2-3의 과정을 반복\n",
    "\n"
   ]
  },
  {
   "cell_type": "markdown",
   "metadata": {},
   "source": [
    "![img11](img/0527/11.PNG)\n",
    "![img12](img/0527/12.PNG)"
   ]
  },
  {
   "cell_type": "markdown",
   "metadata": {},
   "source": [
    "## 13. Value Iteartoin\n",
    " - 모든 상태의 가치를 초기화한다\n",
    " - 벨만 최적 방정식을 이용해 모든 상태의 가치를 수정\n",
    " - 2의 과정을 반복"
   ]
  },
  {
   "cell_type": "markdown",
   "metadata": {},
   "source": [
    "## 14. Model-free\n",
    " - 그리드월드는 변화 확률이 알려져 있음(p = 1)\n",
    " - 변화 확률을 모를 경우 -> Model-free \n",
    " - Model-free의 방법들\n",
    "  - Monte-Carlo\n",
    "  - Temporal-Difference\n"
   ]
  },
  {
   "cell_type": "markdown",
   "metadata": {},
   "source": [
    "## 15. Value function approximation\n",
    " - 그리드월드는 상태의 수가 적음(16개)\n",
    " - 상태의 수가 많아지면 -> value function approx.\n",
    " - 기계학습을 이용해 가치 함수를 예측"
   ]
  },
  {
   "cell_type": "markdown",
   "metadata": {},
   "source": [
    "# 실습 \n",
    "### 설정"
   ]
  },
  {
   "cell_type": "code",
   "execution_count": 1,
   "metadata": {
    "collapsed": true
   },
   "outputs": [],
   "source": [
    "import numpy"
   ]
  },
  {
   "cell_type": "code",
   "execution_count": 8,
   "metadata": {
    "collapsed": true
   },
   "outputs": [],
   "source": [
    "discount = 1\n",
    "reward = -1\n",
    "directions = [\n",
    "    (0, 1),  # 북\n",
    "    (0, -1), # 남\n",
    "    (1, 0),  # 동  \n",
    "    (-1, 0)  # 서\n",
    "]"
   ]
  },
  {
   "cell_type": "markdown",
   "metadata": {},
   "source": [
    "### 그리드 월드 그리기"
   ]
  },
  {
   "cell_type": "code",
   "execution_count": 3,
   "metadata": {
    "collapsed": true
   },
   "outputs": [],
   "source": [
    "import seaborn as sns\n",
    "from matplotlib import pyplot\n",
    "sns.set()"
   ]
  },
  {
   "cell_type": "code",
   "execution_count": 4,
   "metadata": {
    "collapsed": true
   },
   "outputs": [],
   "source": [
    "%matplotlib inline"
   ]
  },
  {
   "cell_type": "code",
   "execution_count": 5,
   "metadata": {
    "collapsed": true
   },
   "outputs": [],
   "source": [
    "def draw_values(values, policy):\n",
    "    line = 0.45\n",
    "    color = '#919191'\n",
    "    pyplot.axis([-1, 4, -1, 4])\n",
    "    ax = sns.heatmap(values, vmax=0)\n",
    "    \n",
    "    for x in range(4):\n",
    "        for y in range(4):\n",
    "            for i, d in enumerate(directions):\n",
    "                dx, dy = d\n",
    "                p = policy[x, y, i]\n",
    "                if p > 0:\n",
    "                    ax.arrow(x + .5, 3 - y + .5, dx * line * p, -dy * line * p,\n",
    "                             head_width=0.1, head_length=0.15, fc=color, ec=color)\n",
    "    print(values)"
   ]
  },
  {
   "cell_type": "markdown",
   "metadata": {},
   "source": [
    "### 초기화 함수"
   ]
  },
  {
   "cell_type": "code",
   "execution_count": 6,
   "metadata": {
    "collapsed": true
   },
   "outputs": [],
   "source": [
    "def init():\n",
    "    values = numpy.zeros((4, 4)) # 16 가지 4x4 를 전부 0으로 \n",
    "    policy = numpy.array([[[0.25, 0.25, 0.25, 0.25]] * 4] * 4) \n",
    "    # 1/4 확률 행동을 4x4 로 \n",
    "    policy[0, 0] = numpy.array([0, 0, 0, 0]) # 이동 필요가 없다.\n",
    "    policy[3, 3] = numpy.array([0, 0, 0, 0]) # 이동 필요가 없다.\n",
    "    return values, policy"
   ]
  },
  {
   "cell_type": "code",
   "execution_count": 13,
   "metadata": {
    "collapsed": false
   },
   "outputs": [
    {
     "data": {
      "text/plain": [
       "[[[0.25, 0.25, 0.25, 0.25],\n",
       "  [0.25, 0.25, 0.25, 0.25],\n",
       "  [0.25, 0.25, 0.25, 0.25],\n",
       "  [0.25, 0.25, 0.25, 0.25]],\n",
       " [[0.25, 0.25, 0.25, 0.25],\n",
       "  [0.25, 0.25, 0.25, 0.25],\n",
       "  [0.25, 0.25, 0.25, 0.25],\n",
       "  [0.25, 0.25, 0.25, 0.25]],\n",
       " [[0.25, 0.25, 0.25, 0.25],\n",
       "  [0.25, 0.25, 0.25, 0.25],\n",
       "  [0.25, 0.25, 0.25, 0.25],\n",
       "  [0.25, 0.25, 0.25, 0.25]],\n",
       " [[0.25, 0.25, 0.25, 0.25],\n",
       "  [0.25, 0.25, 0.25, 0.25],\n",
       "  [0.25, 0.25, 0.25, 0.25],\n",
       "  [0.25, 0.25, 0.25, 0.25]]]"
      ]
     },
     "execution_count": 13,
     "metadata": {},
     "output_type": "execute_result"
    }
   ],
   "source": [
    "[[[0.25, 0.25, 0.25, 0.25]] * 4] * 4 "
   ]
  },
  {
   "cell_type": "markdown",
   "metadata": {},
   "source": [
    "### 이동"
   ]
  },
  {
   "cell_type": "code",
   "execution_count": 7,
   "metadata": {
    "collapsed": true
   },
   "outputs": [],
   "source": [
    "def move(pos, d):\n",
    "    new_pos = pos + d\n",
    "    new_pos = max(0, new_pos)\n",
    "    new_pos = min(3, new_pos)\n",
    "    return new_pos"
   ]
  },
  {
   "cell_type": "markdown",
   "metadata": {},
   "source": [
    "### Policy Evaluation"
   ]
  },
  {
   "cell_type": "code",
   "execution_count": 9,
   "metadata": {
    "collapsed": true
   },
   "outputs": [],
   "source": [
    "def policy_evaluation(values, policy):\n",
    "    update = values.copy()\n",
    "    for x in range(4): # 가로 \n",
    "        for y in range(4): # 세로 이동\n",
    "            expectation = 0\n",
    "            for i, d in enumerate(directions):\n",
    "                dx, dy = d\n",
    "                new_x = move(x, dx)\n",
    "                new_y = move(y, dy)\n",
    "\n",
    "                # 벨만 방정식 (알아야할 방정식)\n",
    "                expectation += policy[x, y, i] * (reward + discount * values[new_x, new_y])\n",
    "            update[x, y] = expectation\n",
    "    return update"
   ]
  },
  {
   "cell_type": "code",
   "execution_count": 10,
   "metadata": {
    "collapsed": false
   },
   "outputs": [
    {
     "name": "stdout",
     "output_type": "stream",
     "text": [
      "[[ 0.  0.  0.  0.]\n",
      " [ 0.  0.  0.  0.]\n",
      " [ 0.  0.  0.  0.]\n",
      " [ 0.  0.  0.  0.]]\n"
     ]
    },
    {
     "data": {
      "image/png": "[encoded data removed]",
      "text/plain": [
       "<matplotlib.figure.Figure at 0x1752d44ad68>"
      ]
     },
     "metadata": {},
     "output_type": "display_data"
    }
   ],
   "source": [
    "values, policy = init()\n",
    "draw_values(values, policy)"
   ]
  },
  {
   "cell_type": "code",
   "execution_count": 14,
   "metadata": {
    "collapsed": false
   },
   "outputs": [
    {
     "data": {
      "text/plain": [
       "array([[ 0.,  0.,  0.,  0.],\n",
       "       [ 0.,  0.,  0.,  0.],\n",
       "       [ 0.,  0.,  0.,  0.],\n",
       "       [ 0.,  0.,  0.,  0.]])"
      ]
     },
     "execution_count": 14,
     "metadata": {},
     "output_type": "execute_result"
    }
   ],
   "source": [
    "values"
   ]
  },
  {
   "cell_type": "code",
   "execution_count": 15,
   "metadata": {
    "collapsed": false
   },
   "outputs": [
    {
     "data": {
      "text/plain": [
       "array([[[ 0.  ,  0.  ,  0.  ,  0.  ],\n",
       "        [ 0.25,  0.25,  0.25,  0.25],\n",
       "        [ 0.25,  0.25,  0.25,  0.25],\n",
       "        [ 0.25,  0.25,  0.25,  0.25]],\n",
       "\n",
       "       [[ 0.25,  0.25,  0.25,  0.25],\n",
       "        [ 0.25,  0.25,  0.25,  0.25],\n",
       "        [ 0.25,  0.25,  0.25,  0.25],\n",
       "        [ 0.25,  0.25,  0.25,  0.25]],\n",
       "\n",
       "       [[ 0.25,  0.25,  0.25,  0.25],\n",
       "        [ 0.25,  0.25,  0.25,  0.25],\n",
       "        [ 0.25,  0.25,  0.25,  0.25],\n",
       "        [ 0.25,  0.25,  0.25,  0.25]],\n",
       "\n",
       "       [[ 0.25,  0.25,  0.25,  0.25],\n",
       "        [ 0.25,  0.25,  0.25,  0.25],\n",
       "        [ 0.25,  0.25,  0.25,  0.25],\n",
       "        [ 0.  ,  0.  ,  0.  ,  0.  ]]])"
      ]
     },
     "execution_count": 15,
     "metadata": {},
     "output_type": "execute_result"
    }
   ],
   "source": [
    "policy"
   ]
  },
  {
   "cell_type": "code",
   "execution_count": 16,
   "metadata": {
    "collapsed": false
   },
   "outputs": [
    {
     "name": "stdout",
     "output_type": "stream",
     "text": [
      "[[ 0. -1. -1. -1.]\n",
      " [-1. -1. -1. -1.]\n",
      " [-1. -1. -1. -1.]\n",
      " [-1. -1. -1.  0.]]\n"
     ]
    },
    {
     "data": {
      "image/png": "[encoded data removed]",
      "text/plain": [
       "<matplotlib.figure.Figure at 0x1752ddf03c8>"
      ]
     },
     "metadata": {},
     "output_type": "display_data"
    }
   ],
   "source": [
    "values = policy_evaluation(values, policy)\n",
    "draw_values(values, policy)"
   ]
  },
  {
   "cell_type": "markdown",
   "metadata": {},
   "source": [
    "### Policy Iteration"
   ]
  },
  {
   "cell_type": "code",
   "execution_count": 17,
   "metadata": {
    "collapsed": true
   },
   "outputs": [],
   "source": [
    "def policy_iteration(values, policy):\n",
    "    # 가치 평가\n",
    "    values = policy_evaluation(values, policy)\n",
    "\n",
    "    # 정책 수정\n",
    "    policy = policy.copy()\n",
    "    for x in range(4):\n",
    "        for y in range(4):\n",
    "            if (x, y) == (0, 0) or (x, y) == (3, 3):\n",
    "                continue\n",
    "            # 4방향의 가치를 구한다\n",
    "            candidate = numpy.zeros(4)\n",
    "            for i, d in enumerate(directions):\n",
    "                dx, dy = d\n",
    "                new_x = move(x, dx)\n",
    "                new_y = move(y, dy)\n",
    "                candidate[i] = values[new_x, new_y]\n",
    "        \n",
    "            # 확률이 기장 높은 방향으로 정책을 업데이트\n",
    "            max_value = numpy.max(candidate)\n",
    "            compare_max = (candidate == max_value).astype(int)\n",
    "            prob = 1 / compare_max.sum()\n",
    "            policy[x, y, :] = compare_max * prob\n",
    "    return values, policy"
   ]
  },
  {
   "cell_type": "code",
   "execution_count": 18,
   "metadata": {
    "collapsed": true
   },
   "outputs": [],
   "source": [
    "values, policy = init()"
   ]
  },
  {
   "cell_type": "code",
   "execution_count": 24,
   "metadata": {
    "collapsed": false
   },
   "outputs": [
    {
     "name": "stdout",
     "output_type": "stream",
     "text": [
      "[[ 0. -1. -2. -3.]\n",
      " [-1. -2. -3. -2.]\n",
      " [-2. -3. -2. -1.]\n",
      " [-3. -2. -1.  0.]]\n"
     ]
    },
    {
     "data": {
      "image/png": "[encoded data removed]",
      "text/plain": [
       "<matplotlib.figure.Figure at 0x1752e114198>"
      ]
     },
     "metadata": {},
     "output_type": "display_data"
    }
   ],
   "source": [
    "values, policy = policy_iteration(values, policy)\n",
    "draw_values(values, policy)"
   ]
  },
  {
   "cell_type": "markdown",
   "metadata": {},
   "source": [
    "### Value Iteration"
   ]
  },
  {
   "cell_type": "code",
   "execution_count": 25,
   "metadata": {
    "collapsed": true
   },
   "outputs": [],
   "source": [
    "\n",
    "def value_iteration(values):\n",
    "    update = values.copy()\n",
    "    for x in range(4):\n",
    "        for y in range(4):\n",
    "            if (x, y) == (0, 0) or (x, y) == (3, 3):\n",
    "                continue\n",
    "            candidate = numpy.zeros(4)\n",
    "            for i, d in enumerate(directions):\n",
    "                dx, dy = d\n",
    "                new_x = move(x, dx)\n",
    "                new_y = move(y, dy)\n",
    "                candidate[i] = reward + discount * values[new_x, new_y]\n",
    "            update[x, y] = numpy.max(candidate)\n",
    "    return update"
   ]
  },
  {
   "cell_type": "code",
   "execution_count": 26,
   "metadata": {
    "collapsed": true
   },
   "outputs": [],
   "source": [
    "values, policy = init()"
   ]
  },
  {
   "cell_type": "code",
   "execution_count": 30,
   "metadata": {
    "collapsed": false
   },
   "outputs": [
    {
     "name": "stdout",
     "output_type": "stream",
     "text": [
      "[[ 0. -1. -2. -3.]\n",
      " [-1. -2. -3. -2.]\n",
      " [-2. -3. -2. -1.]\n",
      " [-3. -2. -1.  0.]]\n"
     ]
    },
    {
     "data": {
      "image/png": "[encoded data removed]",
      "text/plain": [
       "<matplotlib.figure.Figure at 0x1752dfab208>"
      ]
     },
     "metadata": {},
     "output_type": "display_data"
    }
   ],
   "source": [
    "values = value_iteration(values)\n",
    "draw_values(values, policy)"
   ]
  }
 ],
 "metadata": {
  "kernelspec": {
   "display_name": "Python [py35]",
   "language": "python",
   "name": "Python [py35]"
  },
  "language_info": {
   "codemirror_mode": {
    "name": "ipython",
    "version": 3
   },
   "file_extension": ".py",
   "mimetype": "text/x-python",
   "name": "python",
   "nbconvert_exporter": "python",
   "pygments_lexer": "ipython3",
   "version": "3.5.2"
  }
 },
 "nbformat": 4,
 "nbformat_minor": 0
}
