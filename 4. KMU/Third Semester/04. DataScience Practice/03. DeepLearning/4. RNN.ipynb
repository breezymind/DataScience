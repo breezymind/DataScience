{
 "cells": [
  {
   "cell_type": "markdown",
   "metadata": {},
   "source": [
    "# 순환신경망 (RNN)\n",
    " - 같은 요소가 순서지어 반복해서 나타나는 데이터\n",
    "  - 소리 \n",
    "  - 자연어 \n",
    "  - 동영상 "
   ]
  },
  {
   "cell_type": "markdown",
   "metadata": {},
   "source": [
    "![img1](img/1.PNG)\n",
    " - 영향이 여러곳으로 갈 수 있다는 부분이다.\n",
    " - 안녕하세요가 안이 뒤쪽으로 가면서도 영향을 미치고 녕도 뒤로가면서 영향을 끼치는 모냥"
   ]
  },
  {
   "cell_type": "markdown",
   "metadata": {},
   "source": [
    "![img2](img/2.PNG)"
   ]
  },
  {
   "cell_type": "markdown",
   "metadata": {},
   "source": [
    "## 실습\n",
    " - 컴퓨터에게 2자리 수 덧셈을 시킬 것이다. \n",
    " - 47 + 21 = 68 "
   ]
  },
  {
   "cell_type": "code",
   "execution_count": 1,
   "metadata": {
    "collapsed": false
   },
   "outputs": [
    {
     "name": "stderr",
     "output_type": "stream",
     "text": [
      "Using TensorFlow backend.\n"
     ]
    }
   ],
   "source": [
    "import random\n",
    "\n",
    "from keras.layers import Activation, Dense, LSTM, RepeatVector\n",
    "from keras.layers.wrappers import TimeDistributed\n",
    "from keras.models import Sequential\n",
    "import numpy"
   ]
  },
  {
   "cell_type": "code",
   "execution_count": 2,
   "metadata": {
    "collapsed": true
   },
   "outputs": [],
   "source": [
    "DIGITS = 2 # 2자리 숫자라서 Digits 2\n",
    "MAX_LEN = 2 * DIGITS + 1 # 47 + 21 5자리 최대.\n",
    "NUM_CHAR = len('0123456789+') # 나올 수 있는 글자의 종류 "
   ]
  },
  {
   "cell_type": "code",
   "execution_count": 3,
   "metadata": {
    "collapsed": false
   },
   "outputs": [
    {
     "data": {
      "text/plain": [
       "5"
      ]
     },
     "execution_count": 3,
     "metadata": {},
     "output_type": "execute_result"
    }
   ],
   "source": [
    "MAX_LEN"
   ]
  },
  {
   "cell_type": "code",
   "execution_count": 4,
   "metadata": {
    "collapsed": false
   },
   "outputs": [
    {
     "data": {
      "text/plain": [
       "11"
      ]
     },
     "execution_count": 4,
     "metadata": {},
     "output_type": "execute_result"
    }
   ],
   "source": [
    "NUM_CHAR"
   ]
  },
  {
   "cell_type": "code",
   "execution_count": 5,
   "metadata": {
    "collapsed": true
   },
   "outputs": [],
   "source": [
    "N = 10000"
   ]
  },
  {
   "cell_type": "code",
   "execution_count": 6,
   "metadata": {
    "collapsed": true
   },
   "outputs": [],
   "source": [
    "x = numpy.zeros((N, MAX_LEN, NUM_CHAR), dtype=numpy.bool)\n",
    "y = numpy.zeros((N, DIGITS + 1, NUM_CHAR), dtype=numpy.bool)"
   ]
  },
  {
   "cell_type": "markdown",
   "metadata": {},
   "source": [
    " - 덧셈을 one-hot encoding하기 위해서 \n",
    " - 47 + 21 의 경우 \n",
    "  - 0 0 0 0 1 0 0 0 0 0 0 \n",
    "  - 0 0 0 0 0 0 0 1 0 0 0\n",
    "  - 0 0 0 0 0 0 0 0 0 0 1\n",
    "  - 0 0 1 0 0 0 0 0 0 0 0 \n",
    "  - 0 1 0 0 0 0 0 0 0 0 0  \n",
    " - 위와 같은 형태로 변환 "
   ]
  },
  {
   "cell_type": "code",
   "execution_count": 7,
   "metadata": {
    "collapsed": false
   },
   "outputs": [
    {
     "data": {
      "text/plain": [
       "array([[[False, False, False, ..., False, False, False],\n",
       "        [False, False, False, ..., False, False, False],\n",
       "        [False, False, False, ..., False, False, False],\n",
       "        [False, False, False, ..., False, False, False],\n",
       "        [False, False, False, ..., False, False, False]],\n",
       "\n",
       "       [[False, False, False, ..., False, False, False],\n",
       "        [False, False, False, ..., False, False, False],\n",
       "        [False, False, False, ..., False, False, False],\n",
       "        [False, False, False, ..., False, False, False],\n",
       "        [False, False, False, ..., False, False, False]],\n",
       "\n",
       "       [[False, False, False, ..., False, False, False],\n",
       "        [False, False, False, ..., False, False, False],\n",
       "        [False, False, False, ..., False, False, False],\n",
       "        [False, False, False, ..., False, False, False],\n",
       "        [False, False, False, ..., False, False, False]],\n",
       "\n",
       "       ..., \n",
       "       [[False, False, False, ..., False, False, False],\n",
       "        [False, False, False, ..., False, False, False],\n",
       "        [False, False, False, ..., False, False, False],\n",
       "        [False, False, False, ..., False, False, False],\n",
       "        [False, False, False, ..., False, False, False]],\n",
       "\n",
       "       [[False, False, False, ..., False, False, False],\n",
       "        [False, False, False, ..., False, False, False],\n",
       "        [False, False, False, ..., False, False, False],\n",
       "        [False, False, False, ..., False, False, False],\n",
       "        [False, False, False, ..., False, False, False]],\n",
       "\n",
       "       [[False, False, False, ..., False, False, False],\n",
       "        [False, False, False, ..., False, False, False],\n",
       "        [False, False, False, ..., False, False, False],\n",
       "        [False, False, False, ..., False, False, False],\n",
       "        [False, False, False, ..., False, False, False]]], dtype=bool)"
      ]
     },
     "execution_count": 7,
     "metadata": {},
     "output_type": "execute_result"
    }
   ],
   "source": [
    "x"
   ]
  },
  {
   "cell_type": "code",
   "execution_count": 8,
   "metadata": {
    "collapsed": false
   },
   "outputs": [
    {
     "data": {
      "text/plain": [
       "array([[[False, False, False, ..., False, False, False],\n",
       "        [False, False, False, ..., False, False, False],\n",
       "        [False, False, False, ..., False, False, False]],\n",
       "\n",
       "       [[False, False, False, ..., False, False, False],\n",
       "        [False, False, False, ..., False, False, False],\n",
       "        [False, False, False, ..., False, False, False]],\n",
       "\n",
       "       [[False, False, False, ..., False, False, False],\n",
       "        [False, False, False, ..., False, False, False],\n",
       "        [False, False, False, ..., False, False, False]],\n",
       "\n",
       "       ..., \n",
       "       [[False, False, False, ..., False, False, False],\n",
       "        [False, False, False, ..., False, False, False],\n",
       "        [False, False, False, ..., False, False, False]],\n",
       "\n",
       "       [[False, False, False, ..., False, False, False],\n",
       "        [False, False, False, ..., False, False, False],\n",
       "        [False, False, False, ..., False, False, False]],\n",
       "\n",
       "       [[False, False, False, ..., False, False, False],\n",
       "        [False, False, False, ..., False, False, False],\n",
       "        [False, False, False, ..., False, False, False]]], dtype=bool)"
      ]
     },
     "execution_count": 8,
     "metadata": {},
     "output_type": "execute_result"
    }
   ],
   "source": [
    "y"
   ]
  },
  {
   "cell_type": "code",
   "execution_count": 9,
   "metadata": {
    "collapsed": true
   },
   "outputs": [],
   "source": [
    "for i in range(N):\n",
    "    a = random.randint(1, 99)\n",
    "    b = random.randint(1, 99)\n",
    "    x[i, 0, a // 10] = True # 몫\n",
    "    x[i, 1, a % 10] = True # 나머지\n",
    "    x[i, 2, 10] = True # + 자리에 True\n",
    "    x[i, 3, b // 10] = True # 몫\n",
    "    x[i, 4, b % 10] = True # 나머지.\n",
    "    \n",
    "    y[i, 0, (a + b) // 100] = True # 실제 정답\n",
    "    y[i, 1, (a + b) % 100 // 10] = True # 몫\n",
    "    y[i, 2, (a + b) % 10] = True # 나머지"
   ]
  },
  {
   "cell_type": "markdown",
   "metadata": {},
   "source": [
    "### 번역기를 만든다면.\n",
    " - 위의 숫자 자리에 단어라고 생각하고 TDM형태로 만들면 될 것이다. "
   ]
  },
  {
   "cell_type": "code",
   "execution_count": 11,
   "metadata": {
    "collapsed": true
   },
   "outputs": [],
   "source": [
    "HIDDEN = 128 #  LSM의 Hidden을 몇개를 할 것인지?"
   ]
  },
  {
   "cell_type": "code",
   "execution_count": 12,
   "metadata": {
    "collapsed": true
   },
   "outputs": [],
   "source": [
    "model = Sequential()\n",
    "model.add(LSTM(HIDDEN, input_shape=(MAX_LEN, NUM_CHAR)))\n",
    "model.add(RepeatVector(DIGITS + 1))\n",
    "model.add(LSTM(HIDDEN, activation='relu', return_sequences=True)) # return_sequenceses 가 ture가 ㅇ니면 답이 안나간다 1자리만 나간다 \n",
    "model.add(LSTM(HIDDEN, activation='relu', return_sequences=True))\n",
    "model.add(TimeDistributed(Dense(NUM_CHAR)))\n",
    "model.add(Activation('softmax'))"
   ]
  },
  {
   "cell_type": "code",
   "execution_count": 13,
   "metadata": {
    "collapsed": false
   },
   "outputs": [
    {
     "name": "stdout",
     "output_type": "stream",
     "text": [
      "_________________________________________________________________\n",
      "Layer (type)                 Output Shape              Param #   \n",
      "=================================================================\n",
      "lstm_1 (LSTM)                (None, 128)               71680     \n",
      "_________________________________________________________________\n",
      "repeat_vector_1 (RepeatVecto (None, 3, 128)            0         \n",
      "_________________________________________________________________\n",
      "lstm_2 (LSTM)                (None, 3, 128)            131584    \n",
      "_________________________________________________________________\n",
      "lstm_3 (LSTM)                (None, 3, 128)            131584    \n",
      "_________________________________________________________________\n",
      "time_distributed_1 (TimeDist (None, 3, 11)             1419      \n",
      "_________________________________________________________________\n",
      "activation_1 (Activation)    (None, 3, 11)             0         \n",
      "=================================================================\n",
      "Total params: 336,267.0\n",
      "Trainable params: 336,267.0\n",
      "Non-trainable params: 0.0\n",
      "_________________________________________________________________\n"
     ]
    }
   ],
   "source": [
    "model.summary()"
   ]
  },
  {
   "cell_type": "markdown",
   "metadata": {},
   "source": [
    " - MNIST처럼 맞고 틀리고를 봐야하므로 categorical_crossenytopy로 사용."
   ]
  },
  {
   "cell_type": "code",
   "execution_count": 14,
   "metadata": {
    "collapsed": true
   },
   "outputs": [],
   "source": [
    "model.compile(loss='categorical_crossentropy',\n",
    "              optimizer='adam',\n",
    "              metrics=['accuracy'])"
   ]
  },
  {
   "cell_type": "code",
   "execution_count": 15,
   "metadata": {
    "collapsed": false,
    "scrolled": false
   },
   "outputs": [
    {
     "name": "stdout",
     "output_type": "stream",
     "text": [
      "Epoch 1/50\n",
      "10000/10000 [==============================] - 9s - loss: 1.9904 - acc: 0.2489     \n",
      "Epoch 2/50\n",
      "10000/10000 [==============================] - 7s - loss: 1.6992 - acc: 0.3275     \n",
      "Epoch 3/50\n",
      "10000/10000 [==============================] - 8s - loss: 1.6531 - acc: 0.3543     \n",
      "Epoch 4/50\n",
      "10000/10000 [==============================] - 8s - loss: 1.5132 - acc: 0.4060     \n",
      "Epoch 5/50\n",
      "10000/10000 [==============================] - 8s - loss: 1.2216 - acc: 0.5113     \n",
      "Epoch 6/50\n",
      "10000/10000 [==============================] - 7s - loss: 1.0797 - acc: 0.5714     \n",
      "Epoch 7/50\n",
      "10000/10000 [==============================] - 7s - loss: 0.9758 - acc: 0.6177     \n",
      "Epoch 8/50\n",
      "10000/10000 [==============================] - 7s - loss: 0.9514 - acc: 0.6270     \n",
      "Epoch 9/50\n",
      "10000/10000 [==============================] - 7s - loss: 0.9354 - acc: 0.6347     \n",
      "Epoch 10/50\n",
      "10000/10000 [==============================] - 7s - loss: 0.9101 - acc: 0.6435     \n",
      "Epoch 11/50\n",
      "10000/10000 [==============================] - 8s - loss: 0.9140 - acc: 0.6423     \n",
      "Epoch 12/50\n",
      "10000/10000 [==============================] - 7s - loss: 0.8710 - acc: 0.6606     \n",
      "Epoch 13/50\n",
      "10000/10000 [==============================] - 7s - loss: 0.8885 - acc: 0.6540     \n",
      "Epoch 14/50\n",
      "10000/10000 [==============================] - 7s - loss: 0.8847 - acc: 0.6569     \n",
      "Epoch 15/50\n",
      "10000/10000 [==============================] - 7s - loss: 0.8478 - acc: 0.6704     \n",
      "Epoch 16/50\n",
      "10000/10000 [==============================] - 8s - loss: 0.8478 - acc: 0.6731     \n",
      "Epoch 17/50\n",
      "10000/10000 [==============================] - 7s - loss: 0.8256 - acc: 0.6792     \n",
      "Epoch 18/50\n",
      "10000/10000 [==============================] - 7s - loss: 0.8235 - acc: 0.6803     \n",
      "Epoch 19/50\n",
      "10000/10000 [==============================] - 7s - loss: 0.8248 - acc: 0.6811     \n",
      "Epoch 20/50\n",
      "10000/10000 [==============================] - 8s - loss: 0.8218 - acc: 0.6818     \n",
      "Epoch 21/50\n",
      "10000/10000 [==============================] - 7s - loss: 0.7959 - acc: 0.6917     \n",
      "Epoch 22/50\n",
      "10000/10000 [==============================] - 7s - loss: 0.7979 - acc: 0.6901     \n",
      "Epoch 23/50\n",
      "10000/10000 [==============================] - 7s - loss: 0.8228 - acc: 0.6877     \n",
      "Epoch 24/50\n",
      "10000/10000 [==============================] - 7s - loss: 0.7596 - acc: 0.7097     \n",
      "Epoch 25/50\n",
      "10000/10000 [==============================] - 7s - loss: 0.7654 - acc: 0.7048     \n",
      "Epoch 26/50\n",
      "10000/10000 [==============================] - 7s - loss: 0.7322 - acc: 0.7136     \n",
      "Epoch 27/50\n",
      "10000/10000 [==============================] - 8s - loss: 0.7412 - acc: 0.7140     \n",
      "Epoch 28/50\n",
      "10000/10000 [==============================] - 8s - loss: 0.6873 - acc: 0.7339     \n",
      "Epoch 29/50\n",
      "10000/10000 [==============================] - 8s - loss: 0.7413 - acc: 0.7136     \n",
      "Epoch 30/50\n",
      "10000/10000 [==============================] - 8s - loss: 0.6636 - acc: 0.7429     \n",
      "Epoch 31/50\n",
      "10000/10000 [==============================] - 7s - loss: 0.7512 - acc: 0.7201     \n",
      "Epoch 32/50\n",
      "10000/10000 [==============================] - 7s - loss: 0.6788 - acc: 0.7436     \n",
      "Epoch 33/50\n",
      "10000/10000 [==============================] - 7s - loss: 0.6429 - acc: 0.7499     \n",
      "Epoch 34/50\n",
      "10000/10000 [==============================] - 7s - loss: 0.6189 - acc: 0.7580     \n",
      "Epoch 35/50\n",
      "10000/10000 [==============================] - 7s - loss: 0.5125 - acc: 0.7940     \n",
      "Epoch 36/50\n",
      "10000/10000 [==============================] - 7s - loss: 0.4309 - acc: 0.8269     \n",
      "Epoch 37/50\n",
      "10000/10000 [==============================] - 7s - loss: 0.2688 - acc: 0.9072     \n",
      "Epoch 38/50\n",
      "10000/10000 [==============================] - 7s - loss: 0.2176 - acc: 0.9245     \n",
      "Epoch 39/50\n",
      "10000/10000 [==============================] - 7s - loss: 0.1260 - acc: 0.9675     \n",
      "Epoch 40/50\n",
      "10000/10000 [==============================] - 7s - loss: 0.1206 - acc: 0.9643     \n",
      "Epoch 41/50\n",
      "10000/10000 [==============================] - 7s - loss: 0.1938 - acc: 0.9281     \n",
      "Epoch 42/50\n",
      "10000/10000 [==============================] - 7s - loss: 0.0725 - acc: 0.9853     \n",
      "Epoch 43/50\n",
      "10000/10000 [==============================] - 7s - loss: 0.0324 - acc: 0.9958     \n",
      "Epoch 44/50\n",
      "10000/10000 [==============================] - 7s - loss: 0.0420 - acc: 0.9886     \n",
      "Epoch 45/50\n",
      "10000/10000 [==============================] - 7s - loss: 0.0787 - acc: 0.9735     \n",
      "Epoch 46/50\n",
      "10000/10000 [==============================] - 7s - loss: 0.0370 - acc: 0.9900     \n",
      "Epoch 47/50\n",
      "10000/10000 [==============================] - 8s - loss: 0.0213 - acc: 0.9950     \n",
      "Epoch 48/50\n",
      "10000/10000 [==============================] - 7s - loss: 0.0905 - acc: 0.9720     \n",
      "Epoch 49/50\n",
      "10000/10000 [==============================] - 7s - loss: 0.0532 - acc: 0.9840     \n",
      "Epoch 50/50\n",
      "10000/10000 [==============================] - 7s - loss: 0.0134 - acc: 0.9983     \n"
     ]
    },
    {
     "data": {
      "text/plain": [
       "<keras.callbacks.History at 0x25de783da20>"
      ]
     },
     "execution_count": 15,
     "metadata": {},
     "output_type": "execute_result"
    }
   ],
   "source": [
    "model.fit(x, y, batch_size=100, epochs=50, verbose=1)"
   ]
  },
  {
   "cell_type": "code",
   "execution_count": 18,
   "metadata": {
    "collapsed": false
   },
   "outputs": [
    {
     "name": "stdout",
     "output_type": "stream",
     "text": [
      "Epoch 1/20\n",
      "10000/10000 [==============================] - 7s - loss: 0.0102 - acc: 0.9987     \n",
      "Epoch 2/20\n",
      "10000/10000 [==============================] - 7s - loss: 0.0090 - acc: 0.9985     \n",
      "Epoch 3/20\n",
      "10000/10000 [==============================] - 7s - loss: 0.0070 - acc: 0.9988     \n",
      "Epoch 4/20\n",
      "10000/10000 [==============================] - 7s - loss: 0.1176 - acc: 0.9651     \n",
      "Epoch 5/20\n",
      "10000/10000 [==============================] - 7s - loss: 0.0250 - acc: 0.9953     \n",
      "Epoch 6/20\n",
      "10000/10000 [==============================] - 7s - loss: 0.0104 - acc: 0.9986     \n",
      "Epoch 7/20\n",
      "10000/10000 [==============================] - 7s - loss: 0.0079 - acc: 0.9990     \n",
      "Epoch 8/20\n",
      "10000/10000 [==============================] - 7s - loss: 0.0060 - acc: 0.9991     \n",
      "Epoch 9/20\n",
      "10000/10000 [==============================] - 7s - loss: 0.0084 - acc: 0.9980     \n",
      "Epoch 10/20\n",
      "10000/10000 [==============================] - 7s - loss: 0.0073 - acc: 0.9985     \n",
      "Epoch 11/20\n",
      "10000/10000 [==============================] - 7s - loss: 0.2309 - acc: 0.9342     \n",
      "Epoch 12/20\n",
      "10000/10000 [==============================] - 7s - loss: 0.0217 - acc: 0.9984     \n",
      "Epoch 13/20\n",
      "10000/10000 [==============================] - 7s - loss: 0.0110 - acc: 0.9989     \n",
      "Epoch 14/20\n",
      "10000/10000 [==============================] - 7s - loss: 0.0079 - acc: 0.9994     \n",
      "Epoch 15/20\n",
      "10000/10000 [==============================] - 8s - loss: 0.0060 - acc: 0.9994     \n",
      "Epoch 16/20\n",
      "10000/10000 [==============================] - 7s - loss: 0.0049 - acc: 0.9994     \n",
      "Epoch 17/20\n",
      "10000/10000 [==============================] - 7s - loss: 0.0197 - acc: 0.9939     \n",
      "Epoch 18/20\n",
      "10000/10000 [==============================] - 7s - loss: 0.0328 - acc: 0.9897     \n",
      "Epoch 19/20\n",
      "10000/10000 [==============================] - 7s - loss: 0.0084 - acc: 0.9988     \n",
      "Epoch 20/20\n",
      "10000/10000 [==============================] - 7s - loss: 0.0041 - acc: 0.9995     \n"
     ]
    },
    {
     "data": {
      "text/plain": [
       "<keras.callbacks.History at 0x25de7a6cd68>"
      ]
     },
     "execution_count": 18,
     "metadata": {},
     "output_type": "execute_result"
    }
   ],
   "source": [
    "model.fit(x, y, batch_size=100, epochs=20, verbose=1)"
   ]
  },
  {
   "cell_type": "code",
   "execution_count": 19,
   "metadata": {
    "collapsed": true
   },
   "outputs": [],
   "source": [
    "p = model.predict(x[0:20])"
   ]
  },
  {
   "cell_type": "code",
   "execution_count": 20,
   "metadata": {
    "collapsed": false,
    "scrolled": false
   },
   "outputs": [
    {
     "name": "stdout",
     "output_type": "stream",
     "text": [
      "x 8 9 4 0\n",
      "y 1 2 9\n",
      "p 1 2 9\n",
      "------------------------------\n",
      "x 5 3 8 8\n",
      "y 1 4 1\n",
      "p 1 4 1\n",
      "------------------------------\n",
      "x 2 2 8 8\n",
      "y 1 1 0\n",
      "p 1 1 0\n",
      "------------------------------\n",
      "x 4 1 9 0\n",
      "y 1 3 1\n",
      "p 1 3 1\n",
      "------------------------------\n",
      "x 6 2 8 0\n",
      "y 1 4 2\n",
      "p 1 4 2\n",
      "------------------------------\n",
      "x 7 0 3 5\n",
      "y 1 0 5\n",
      "p 1 0 5\n",
      "------------------------------\n",
      "x 4 7 3 8\n",
      "y 0 8 5\n",
      "p 0 8 5\n",
      "------------------------------\n",
      "x 8 3 9 1\n",
      "y 1 7 4\n",
      "p 1 7 4\n",
      "------------------------------\n",
      "x 9 5 7 1\n",
      "y 1 6 6\n",
      "p 1 6 6\n",
      "------------------------------\n",
      "x 2 2 3 2\n",
      "y 0 5 4\n",
      "p 0 5 4\n",
      "------------------------------\n",
      "x 8 7 5 1\n",
      "y 1 3 8\n",
      "p 1 3 8\n",
      "------------------------------\n",
      "x 1 3 3 4\n",
      "y 0 4 7\n",
      "p 0 4 7\n",
      "------------------------------\n",
      "x 0 9 1 3\n",
      "y 0 2 2\n",
      "p 0 2 2\n",
      "------------------------------\n",
      "x 7 8 6 8\n",
      "y 1 4 6\n",
      "p 1 4 6\n",
      "------------------------------\n",
      "x 1 3 5 5\n",
      "y 0 6 8\n",
      "p 0 6 8\n",
      "------------------------------\n",
      "x 6 4 0 7\n",
      "y 0 7 1\n",
      "p 0 7 1\n",
      "------------------------------\n",
      "x 5 6 9 3\n",
      "y 1 4 9\n",
      "p 1 4 9\n",
      "------------------------------\n",
      "x 8 0 0 3\n",
      "y 0 8 3\n",
      "p 0 8 3\n",
      "------------------------------\n",
      "x 7 7 0 1\n",
      "y 0 7 8\n",
      "p 0 7 8\n",
      "------------------------------\n",
      "x 2 3 6 9\n",
      "y 0 9 2\n",
      "p 0 9 2\n",
      "------------------------------\n"
     ]
    }
   ],
   "source": [
    "for i in range(20):\n",
    "    print('x', numpy.argmax(x[i, 0]), numpy.argmax(x[i, 1]), numpy.argmax(x[i, 3]), numpy.argmax(x[i, 4]))\n",
    "    print('y', numpy.argmax(y[i, 0]), numpy.argmax(y[i, 1]), numpy.argmax(y[i, 2]))\n",
    "    print('p', numpy.argmax(p[i, 0]), numpy.argmax(p[i, 1]), numpy.argmax(p[i, 2]))\n",
    "    print('-' * 30)"
   ]
  }
 ],
 "metadata": {
  "kernelspec": {
   "display_name": "Python [py35]",
   "language": "python",
   "name": "Python [py35]"
  },
  "language_info": {
   "codemirror_mode": {
    "name": "ipython",
    "version": 3
   },
   "file_extension": ".py",
   "mimetype": "text/x-python",
   "name": "python",
   "nbconvert_exporter": "python",
   "pygments_lexer": "ipython3",
   "version": "3.5.2"
  }
 },
 "nbformat": 4,
 "nbformat_minor": 0
}
