{
 "cells": [
  {
   "cell_type": "markdown",
   "metadata": {},
   "source": [
    "# 순환신경망 (RNN)\n",
    " - 같은 요소가 순서지어 반복해서 나타나는 데이터\n",
    "  - 소리 \n",
    "  - 자연어 \n",
    "  - 동영상 "
   ]
  },
  {
   "cell_type": "markdown",
   "metadata": {},
   "source": [
    "![img1](img/1.PNG)\n",
    " - 영향이 여러곳으로 갈 수 있다는 부분이다.\n",
    " - 안녕하세요가 안이 뒤쪽으로 가면서도 영향을 미치고 녕도 뒤로가면서 영향을 끼치는 모냥"
   ]
  },
  {
   "cell_type": "markdown",
   "metadata": {},
   "source": [
    "![img2](img/2.PNG)"
   ]
  },
  {
   "cell_type": "markdown",
   "metadata": {},
   "source": [
    "## 실습\n",
    " - 컴퓨터에게 2자리 수 덧셈을 시킬 것이다. \n",
    " - 47 + 21 = 68 "
   ]
  },
  {
   "cell_type": "code",
   "execution_count": 1,
   "metadata": {
    "collapsed": false
   },
   "outputs": [
    {
     "name": "stderr",
     "output_type": "stream",
     "text": [
      "Using TensorFlow backend.\n"
     ]
    }
   ],
   "source": [
    "import random\n",
    "\n",
    "from keras.layers import Activation, Dense, LSTM, RepeatVector\n",
    "from keras.layers.wrappers import TimeDistributed\n",
    "from keras.models import Sequential\n",
    "import numpy"
   ]
  },
  {
   "cell_type": "code",
   "execution_count": 2,
   "metadata": {
    "collapsed": true
   },
   "outputs": [],
   "source": [
    "DIGITS = 2 # 2자리 숫자라서 Digits 2\n",
    "MAX_LEN = 2 * DIGITS + 1 # 47 + 21 5자리 최대.\n",
    "NUM_CHAR = len('0123456789+') # 나올 수 있는 글자의 종류 "
   ]
  },
  {
   "cell_type": "code",
   "execution_count": 3,
   "metadata": {
    "collapsed": false
   },
   "outputs": [
    {
     "data": {
      "text/plain": [
       "5"
      ]
     },
     "execution_count": 3,
     "metadata": {},
     "output_type": "execute_result"
    }
   ],
   "source": [
    "MAX_LEN"
   ]
  },
  {
   "cell_type": "code",
   "execution_count": 4,
   "metadata": {
    "collapsed": false
   },
   "outputs": [
    {
     "data": {
      "text/plain": [
       "11"
      ]
     },
     "execution_count": 4,
     "metadata": {},
     "output_type": "execute_result"
    }
   ],
   "source": [
    "NUM_CHAR"
   ]
  },
  {
   "cell_type": "code",
   "execution_count": 5,
   "metadata": {
    "collapsed": true
   },
   "outputs": [],
   "source": [
    "N = 10000"
   ]
  },
  {
   "cell_type": "code",
   "execution_count": 6,
   "metadata": {
    "collapsed": true
   },
   "outputs": [],
   "source": [
    "x = numpy.zeros((N, MAX_LEN, NUM_CHAR), dtype=numpy.bool)\n",
    "y = numpy.zeros((N, DIGITS + 1, NUM_CHAR), dtype=numpy.bool)"
   ]
  },
  {
   "cell_type": "markdown",
   "metadata": {},
   "source": [
    " - 덧셈을 one-hot encoding하기 위해서 \n",
    " - 47 + 21 의 경우 \n",
    "  - 0 0 0 0 1 0 0 0 0 0 0 \n",
    "  - 0 0 0 0 0 0 0 1 0 0 0\n",
    "  - 0 0 0 0 0 0 0 0 0 0 1\n",
    "  - 0 0 1 0 0 0 0 0 0 0 0 \n",
    "  - 0 1 0 0 0 0 0 0 0 0 0  \n",
    " - 위와 같은 형태로 변환 "
   ]
  },
  {
   "cell_type": "code",
   "execution_count": 7,
   "metadata": {
    "collapsed": false
   },
   "outputs": [
    {
     "data": {
      "text/plain": [
       "(10000, 5, 11)"
      ]
     },
     "execution_count": 7,
     "metadata": {},
     "output_type": "execute_result"
    }
   ],
   "source": [
    "x.shape # 5개 문자가 들어가는데 각 해당 되는 One-hot Encoding이 11개."
   ]
  },
  {
   "cell_type": "code",
   "execution_count": 8,
   "metadata": {
    "collapsed": false
   },
   "outputs": [
    {
     "data": {
      "text/plain": [
       "(10000, 3, 11)"
      ]
     },
     "execution_count": 8,
     "metadata": {},
     "output_type": "execute_result"
    }
   ],
   "source": [
    "y.shape # 결과값이 3자리 라서 "
   ]
  },
  {
   "cell_type": "code",
   "execution_count": 9,
   "metadata": {
    "collapsed": false
   },
   "outputs": [
    {
     "data": {
      "text/plain": [
       "array([[[False, False, False, ..., False, False, False],\n",
       "        [False, False, False, ..., False, False, False],\n",
       "        [False, False, False, ..., False, False, False],\n",
       "        [False, False, False, ..., False, False, False],\n",
       "        [False, False, False, ..., False, False, False]],\n",
       "\n",
       "       [[False, False, False, ..., False, False, False],\n",
       "        [False, False, False, ..., False, False, False],\n",
       "        [False, False, False, ..., False, False, False],\n",
       "        [False, False, False, ..., False, False, False],\n",
       "        [False, False, False, ..., False, False, False]],\n",
       "\n",
       "       [[False, False, False, ..., False, False, False],\n",
       "        [False, False, False, ..., False, False, False],\n",
       "        [False, False, False, ..., False, False, False],\n",
       "        [False, False, False, ..., False, False, False],\n",
       "        [False, False, False, ..., False, False, False]],\n",
       "\n",
       "       ..., \n",
       "       [[False, False, False, ..., False, False, False],\n",
       "        [False, False, False, ..., False, False, False],\n",
       "        [False, False, False, ..., False, False, False],\n",
       "        [False, False, False, ..., False, False, False],\n",
       "        [False, False, False, ..., False, False, False]],\n",
       "\n",
       "       [[False, False, False, ..., False, False, False],\n",
       "        [False, False, False, ..., False, False, False],\n",
       "        [False, False, False, ..., False, False, False],\n",
       "        [False, False, False, ..., False, False, False],\n",
       "        [False, False, False, ..., False, False, False]],\n",
       "\n",
       "       [[False, False, False, ..., False, False, False],\n",
       "        [False, False, False, ..., False, False, False],\n",
       "        [False, False, False, ..., False, False, False],\n",
       "        [False, False, False, ..., False, False, False],\n",
       "        [False, False, False, ..., False, False, False]]], dtype=bool)"
      ]
     },
     "execution_count": 9,
     "metadata": {},
     "output_type": "execute_result"
    }
   ],
   "source": [
    "x"
   ]
  },
  {
   "cell_type": "code",
   "execution_count": 10,
   "metadata": {
    "collapsed": false
   },
   "outputs": [
    {
     "data": {
      "text/plain": [
       "array([[[False, False, False, ..., False, False, False],\n",
       "        [False, False, False, ..., False, False, False],\n",
       "        [False, False, False, ..., False, False, False]],\n",
       "\n",
       "       [[False, False, False, ..., False, False, False],\n",
       "        [False, False, False, ..., False, False, False],\n",
       "        [False, False, False, ..., False, False, False]],\n",
       "\n",
       "       [[False, False, False, ..., False, False, False],\n",
       "        [False, False, False, ..., False, False, False],\n",
       "        [False, False, False, ..., False, False, False]],\n",
       "\n",
       "       ..., \n",
       "       [[False, False, False, ..., False, False, False],\n",
       "        [False, False, False, ..., False, False, False],\n",
       "        [False, False, False, ..., False, False, False]],\n",
       "\n",
       "       [[False, False, False, ..., False, False, False],\n",
       "        [False, False, False, ..., False, False, False],\n",
       "        [False, False, False, ..., False, False, False]],\n",
       "\n",
       "       [[False, False, False, ..., False, False, False],\n",
       "        [False, False, False, ..., False, False, False],\n",
       "        [False, False, False, ..., False, False, False]]], dtype=bool)"
      ]
     },
     "execution_count": 10,
     "metadata": {},
     "output_type": "execute_result"
    }
   ],
   "source": [
    "y"
   ]
  },
  {
   "cell_type": "code",
   "execution_count": 11,
   "metadata": {
    "collapsed": false,
    "scrolled": false
   },
   "outputs": [
    {
     "name": "stdout",
     "output_type": "stream",
     "text": [
      "a :71\n",
      "b :92\n",
      "a 의 몫 : 7\n",
      "a 의 나머지 : 1\n",
      "b 의 몫 : 9\n",
      "b 의 나머지 : 2\n",
      "a :30\n",
      "b :75\n",
      "a 의 몫 : 3\n",
      "a 의 나머지 : 0\n",
      "b 의 몫 : 7\n",
      "b 의 나머지 : 5\n",
      "a :72\n",
      "b :42\n",
      "a 의 몫 : 7\n",
      "a 의 나머지 : 2\n",
      "b 의 몫 : 4\n",
      "b 의 나머지 : 2\n",
      "a :16\n",
      "b :78\n",
      "a 의 몫 : 1\n",
      "a 의 나머지 : 6\n",
      "b 의 몫 : 7\n",
      "b 의 나머지 : 8\n",
      "a :22\n",
      "b :21\n",
      "a 의 몫 : 2\n",
      "a 의 나머지 : 2\n",
      "b 의 몫 : 2\n",
      "b 의 나머지 : 1\n"
     ]
    }
   ],
   "source": [
    "for i in range(N):\n",
    "    a = random.randint(1, 99)\n",
    "    b = random.randint(1, 99)\n",
    "    if i % 2000 == 0:\n",
    "        print(\"a :\" + str(a))\n",
    "        print(\"b :\" + str(b))\n",
    "        print(\"a 의 몫 : \" + str(a // 10))\n",
    "        print(\"a 의 나머지 : \" + str(a % 10))\n",
    "        print(\"b 의 몫 : \" + str(b // 10))\n",
    "        print(\"b 의 나머지 : \" + str(b % 10))\n",
    "        \n",
    "    x[i, 0, a // 10] = True # 몫\n",
    "    x[i, 1, a % 10] = True # 나머지\n",
    "    x[i, 2, 10] = True # + 자리에 True\n",
    "    x[i, 3, b // 10] = True # 몫\n",
    "    x[i, 4, b % 10] = True # 나머지.\n",
    "    \n",
    "    y[i, 0, (a + b) // 100] = True # 실제 정답\n",
    "    y[i, 1, (a + b) % 100 // 10] = True # 몫\n",
    "    y[i, 2, (a + b) % 10] = True # 나머지"
   ]
  },
  {
   "cell_type": "markdown",
   "metadata": {},
   "source": [
    "### 번역기를 만든다면.\n",
    " - 위의 숫자 자리에 단어라고 생각하고 TDM형태로 만들면 될 것이다. "
   ]
  },
  {
   "cell_type": "code",
   "execution_count": 12,
   "metadata": {
    "collapsed": true
   },
   "outputs": [],
   "source": [
    "HIDDEN = 128 #  LSM의 Hidden을 몇개를 할 것인지?\n",
    "# return_sequenceses 가 ture가 ㅇ니면 답이 안나간다 1자리만 나간다 "
   ]
  },
  {
   "cell_type": "code",
   "execution_count": 13,
   "metadata": {
    "collapsed": true
   },
   "outputs": [],
   "source": [
    "import numpy as np"
   ]
  },
  {
   "cell_type": "code",
   "execution_count": 15,
   "metadata": {
    "collapsed": false,
    "scrolled": false
   },
   "outputs": [],
   "source": [
    "model = Sequential()\n",
    "model.add(LSTM(HIDDEN, input_shape=(MAX_LEN, NUM_CHAR)))\n",
    "model.add(RepeatVector(DIGITS + 1))\n",
    "model.add(LSTM(HIDDEN, activation='relu', return_sequences=True))\n",
    "model.add(LSTM(HIDDEN, activation='relu', return_sequences=True))\n",
    "model.add(TimeDistributed(Dense(NUM_CHAR)))\n",
    "model.add(Activation('softmax'))"
   ]
  },
  {
   "cell_type": "code",
   "execution_count": 16,
   "metadata": {
    "collapsed": false
   },
   "outputs": [
    {
     "name": "stdout",
     "output_type": "stream",
     "text": [
      "_________________________________________________________________\n",
      "Layer (type)                 Output Shape              Param #   \n",
      "=================================================================\n",
      "lstm_1 (LSTM)                (None, 128)               71680     \n",
      "_________________________________________________________________\n",
      "repeat_vector_1 (RepeatVecto (None, 3, 128)            0         \n",
      "_________________________________________________________________\n",
      "lstm_2 (LSTM)                (None, 3, 128)            131584    \n",
      "_________________________________________________________________\n",
      "lstm_3 (LSTM)                (None, 3, 128)            131584    \n",
      "_________________________________________________________________\n",
      "time_distributed_1 (TimeDist (None, 3, 11)             1419      \n",
      "_________________________________________________________________\n",
      "activation_1 (Activation)    (None, 3, 11)             0         \n",
      "=================================================================\n",
      "Total params: 336,267\n",
      "Trainable params: 336,267\n",
      "Non-trainable params: 0\n",
      "_________________________________________________________________\n"
     ]
    }
   ],
   "source": [
    "model.summary()"
   ]
  },
  {
   "cell_type": "markdown",
   "metadata": {},
   "source": [
    " - MNIST처럼 맞고 틀리고를 봐야하므로 categorical_crossenytopy로 사용."
   ]
  },
  {
   "cell_type": "code",
   "execution_count": 17,
   "metadata": {
    "collapsed": true
   },
   "outputs": [],
   "source": [
    "model.compile(loss='categorical_crossentropy',\n",
    "              optimizer='adam',\n",
    "              metrics=['accuracy'])"
   ]
  },
  {
   "cell_type": "code",
   "execution_count": 18,
   "metadata": {
    "collapsed": false,
    "scrolled": false
   },
   "outputs": [
    {
     "name": "stdout",
     "output_type": "stream",
     "text": [
      "Epoch 1/50\n",
      "10000/10000 [==============================] - 5s - loss: 1.9883 - acc: 0.2408     \n",
      "Epoch 2/50\n",
      "10000/10000 [==============================] - 2s - loss: 1.7183 - acc: 0.3185     \n",
      "Epoch 3/50\n",
      "10000/10000 [==============================] - 2s - loss: 1.6694 - acc: 0.3426     \n",
      "Epoch 4/50\n",
      "10000/10000 [==============================] - 2s - loss: 1.4993 - acc: 0.4186     \n",
      "Epoch 5/50\n",
      "10000/10000 [==============================] - 2s - loss: 1.0898 - acc: 0.5765     \n",
      "Epoch 6/50\n",
      "10000/10000 [==============================] - 2s - loss: 1.0314 - acc: 0.5922     \n",
      "Epoch 7/50\n",
      "10000/10000 [==============================] - 2s - loss: 0.9535 - acc: 0.6285     \n",
      "Epoch 8/50\n",
      "10000/10000 [==============================] - 2s - loss: 0.9198 - acc: 0.6412     \n",
      "Epoch 9/50\n",
      "10000/10000 [==============================] - 2s - loss: 0.9054 - acc: 0.6473     \n",
      "Epoch 10/50\n",
      "10000/10000 [==============================] - 2s - loss: 0.8837 - acc: 0.6576     \n",
      "Epoch 11/50\n",
      "10000/10000 [==============================] - 2s - loss: 0.8734 - acc: 0.6611     \n",
      "Epoch 12/50\n",
      "10000/10000 [==============================] - 2s - loss: 0.8530 - acc: 0.6724     \n",
      "Epoch 13/50\n",
      "10000/10000 [==============================] - 2s - loss: 0.8332 - acc: 0.6784     \n",
      "Epoch 14/50\n",
      "10000/10000 [==============================] - 2s - loss: 0.8308 - acc: 0.6785     \n",
      "Epoch 15/50\n",
      "10000/10000 [==============================] - 2s - loss: 0.8494 - acc: 0.6693     \n",
      "Epoch 16/50\n",
      "10000/10000 [==============================] - 2s - loss: 0.8110 - acc: 0.6868     \n",
      "Epoch 17/50\n",
      "10000/10000 [==============================] - 2s - loss: 0.8245 - acc: 0.6787     \n",
      "Epoch 18/50\n",
      "10000/10000 [==============================] - 2s - loss: 0.8000 - acc: 0.6891     \n",
      "Epoch 19/50\n",
      "10000/10000 [==============================] - 2s - loss: 0.7821 - acc: 0.6969     \n",
      "Epoch 20/50\n",
      "10000/10000 [==============================] - 2s - loss: 0.7593 - acc: 0.7054     \n",
      "Epoch 21/50\n",
      "10000/10000 [==============================] - 2s - loss: 0.7680 - acc: 0.7005     \n",
      "Epoch 22/50\n",
      "10000/10000 [==============================] - 2s - loss: 0.7614 - acc: 0.7056     \n",
      "Epoch 23/50\n",
      "10000/10000 [==============================] - 2s - loss: 0.7509 - acc: 0.7073     \n",
      "Epoch 24/50\n",
      "10000/10000 [==============================] - 2s - loss: 0.7570 - acc: 0.7078     \n",
      "Epoch 25/50\n",
      "10000/10000 [==============================] - 2s - loss: 0.7015 - acc: 0.7301     \n",
      "Epoch 26/50\n",
      "10000/10000 [==============================] - 2s - loss: 0.7087 - acc: 0.7232     \n",
      "Epoch 27/50\n",
      "10000/10000 [==============================] - 2s - loss: 0.6456 - acc: 0.7486     \n",
      "Epoch 28/50\n",
      "10000/10000 [==============================] - 2s - loss: 0.5759 - acc: 0.7735     \n",
      "Epoch 29/50\n",
      "10000/10000 [==============================] - 2s - loss: 0.4933 - acc: 0.8121     \n",
      "Epoch 30/50\n",
      "10000/10000 [==============================] - 2s - loss: 0.4125 - acc: 0.8374     \n",
      "Epoch 31/50\n",
      "10000/10000 [==============================] - 3s - loss: 0.2542 - acc: 0.9072     \n",
      "Epoch 32/50\n",
      "10000/10000 [==============================] - 8s - loss: 0.1708 - acc: 0.9390     \n",
      "Epoch 33/50\n",
      "10000/10000 [==============================] - 8s - loss: 0.1356 - acc: 0.9526     \n",
      "Epoch 34/50\n",
      "10000/10000 [==============================] - 8s - loss: 0.0752 - acc: 0.9807     \n",
      "Epoch 35/50\n",
      "10000/10000 [==============================] - 9s - loss: 0.1073 - acc: 0.9637     \n",
      "Epoch 36/50\n",
      "10000/10000 [==============================] - 8s - loss: 0.0886 - acc: 0.9743     \n",
      "Epoch 37/50\n",
      "10000/10000 [==============================] - 8s - loss: 0.0355 - acc: 0.9924     \n",
      "Epoch 38/50\n",
      "10000/10000 [==============================] - 8s - loss: 0.0322 - acc: 0.9916     \n",
      "Epoch 39/50\n",
      "10000/10000 [==============================] - 8s - loss: 0.1531 - acc: 0.9521     \n",
      "Epoch 40/50\n",
      "10000/10000 [==============================] - 8s - loss: 0.0284 - acc: 0.9954     \n",
      "Epoch 41/50\n",
      "10000/10000 [==============================] - 2s - loss: 0.0185 - acc: 0.9975     \n",
      "Epoch 42/50\n",
      "10000/10000 [==============================] - 2s - loss: 0.0363 - acc: 0.9891     \n",
      "Epoch 43/50\n",
      "10000/10000 [==============================] - 2s - loss: 0.0211 - acc: 0.9949     \n",
      "Epoch 44/50\n",
      "10000/10000 [==============================] - 2s - loss: 0.1004 - acc: 0.9663     \n",
      "Epoch 45/50\n",
      "10000/10000 [==============================] - 2s - loss: 0.0169 - acc: 0.9983     \n",
      "Epoch 46/50\n",
      "10000/10000 [==============================] - 2s - loss: 0.0115 - acc: 0.9988     \n",
      "Epoch 47/50\n",
      "10000/10000 [==============================] - 2s - loss: 0.0096 - acc: 0.9986     \n",
      "Epoch 48/50\n",
      "10000/10000 [==============================] - 2s - loss: 0.0749 - acc: 0.9758     \n",
      "Epoch 49/50\n",
      "10000/10000 [==============================] - 2s - loss: 0.0440 - acc: 0.9880     \n",
      "Epoch 50/50\n",
      "10000/10000 [==============================] - 2s - loss: 0.0117 - acc: 0.9986     \n"
     ]
    },
    {
     "data": {
      "text/plain": [
       "<keras.callbacks.History at 0x1d96fb01c88>"
      ]
     },
     "execution_count": 18,
     "metadata": {},
     "output_type": "execute_result"
    }
   ],
   "source": [
    "model.fit(x, y, batch_size=100, epochs=50, verbose=1)"
   ]
  },
  {
   "cell_type": "code",
   "execution_count": 20,
   "metadata": {
    "collapsed": true
   },
   "outputs": [],
   "source": [
    "p = model.predict(x[0:20])"
   ]
  },
  {
   "cell_type": "code",
   "execution_count": 21,
   "metadata": {
    "collapsed": false,
    "scrolled": false
   },
   "outputs": [
    {
     "name": "stdout",
     "output_type": "stream",
     "text": [
      "x 7 1 9 2\n",
      "y 1 6 3\n",
      "p 1 6 3\n",
      "------------------------------\n",
      "x 4 3 2 4\n",
      "y 0 6 7\n",
      "p 0 6 7\n",
      "------------------------------\n",
      "x 6 9 1 5\n",
      "y 0 8 4\n",
      "p 0 8 4\n",
      "------------------------------\n",
      "x 9 1 9 7\n",
      "y 1 8 8\n",
      "p 1 8 8\n",
      "------------------------------\n",
      "x 7 2 6 3\n",
      "y 1 3 5\n",
      "p 1 3 5\n",
      "------------------------------\n",
      "x 8 1 1 3\n",
      "y 0 9 4\n",
      "p 0 9 4\n",
      "------------------------------\n",
      "x 6 5 9 8\n",
      "y 1 6 3\n",
      "p 1 6 3\n",
      "------------------------------\n",
      "x 1 9 0 3\n",
      "y 0 2 2\n",
      "p 0 2 2\n",
      "------------------------------\n",
      "x 0 1 9 2\n",
      "y 0 9 3\n",
      "p 0 9 3\n",
      "------------------------------\n",
      "x 5 3 4 1\n",
      "y 0 9 4\n",
      "p 0 9 4\n",
      "------------------------------\n",
      "x 3 6 7 2\n",
      "y 1 0 8\n",
      "p 1 0 8\n",
      "------------------------------\n",
      "x 7 7 1 6\n",
      "y 0 9 3\n",
      "p 0 9 3\n",
      "------------------------------\n",
      "x 1 5 7 2\n",
      "y 0 8 7\n",
      "p 0 8 7\n",
      "------------------------------\n",
      "x 2 2 8 7\n",
      "y 1 0 9\n",
      "p 1 0 9\n",
      "------------------------------\n",
      "x 8 6 4 6\n",
      "y 1 3 2\n",
      "p 1 3 2\n",
      "------------------------------\n",
      "x 8 5 3 6\n",
      "y 1 2 1\n",
      "p 1 2 1\n",
      "------------------------------\n",
      "x 9 9 8 3\n",
      "y 1 8 2\n",
      "p 1 8 2\n",
      "------------------------------\n",
      "x 4 5 6 7\n",
      "y 1 1 2\n",
      "p 1 1 2\n",
      "------------------------------\n",
      "x 4 2 4 8\n",
      "y 0 9 0\n",
      "p 0 9 0\n",
      "------------------------------\n",
      "x 3 8 5 8\n",
      "y 0 9 6\n",
      "p 0 9 6\n",
      "------------------------------\n"
     ]
    }
   ],
   "source": [
    "for i in range(20):\n",
    "    print('x', numpy.argmax(x[i, 0]), numpy.argmax(x[i, 1]), numpy.argmax(x[i, 3]), numpy.argmax(x[i, 4]))\n",
    "    print('y', numpy.argmax(y[i, 0]), numpy.argmax(y[i, 1]), numpy.argmax(y[i, 2]))\n",
    "    print('p', numpy.argmax(p[i, 0]), numpy.argmax(p[i, 1]), numpy.argmax(p[i, 2]))\n",
    "    print('-' * 30)"
   ]
  }
 ],
 "metadata": {
  "anaconda-cloud": {},
  "kernelspec": {
   "display_name": "Python [work]",
   "language": "python",
   "name": "Python [work]"
  },
  "language_info": {
   "codemirror_mode": {
    "name": "ipython",
    "version": 3
   },
   "file_extension": ".py",
   "mimetype": "text/x-python",
   "name": "python",
   "nbconvert_exporter": "python",
   "pygments_lexer": "ipython3",
   "version": "3.5.2"
  }
 },
 "nbformat": 4,
 "nbformat_minor": 0
}
