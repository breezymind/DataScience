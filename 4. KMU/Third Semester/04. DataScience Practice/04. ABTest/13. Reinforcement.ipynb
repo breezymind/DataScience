{
 "cells": [
  {
   "cell_type": "code",
   "execution_count": 1,
   "metadata": {
    "collapsed": true
   },
   "outputs": [],
   "source": [
    "import random\n",
    "import numpy"
   ]
  },
  {
   "cell_type": "markdown",
   "metadata": {},
   "source": [
    "## 주사위"
   ]
  },
  {
   "cell_type": "code",
   "execution_count": 2,
   "metadata": {
    "collapsed": true
   },
   "outputs": [],
   "source": [
    "def dice():\n",
    "    return random.randint(1, 3)"
   ]
  },
  {
   "cell_type": "code",
   "execution_count": 3,
   "metadata": {
    "collapsed": false
   },
   "outputs": [
    {
     "data": {
      "text/plain": [
       "1"
      ]
     },
     "execution_count": 3,
     "metadata": {},
     "output_type": "execute_result"
    }
   ],
   "source": [
    "dice()"
   ]
  },
  {
   "cell_type": "code",
   "execution_count": 6,
   "metadata": {
    "collapsed": false
   },
   "outputs": [
    {
     "data": {
      "text/plain": [
       "3"
      ]
     },
     "execution_count": 6,
     "metadata": {},
     "output_type": "execute_result"
    }
   ],
   "source": [
    "dice()"
   ]
  },
  {
   "cell_type": "markdown",
   "metadata": {},
   "source": [
    "## 미니 블랙잭"
   ]
  },
  {
   "cell_type": "code",
   "execution_count": 7,
   "metadata": {
    "collapsed": true
   },
   "outputs": [],
   "source": [
    "def mini_blackjack(policy):\n",
    "    dealer = dice()\n",
    "    print('dealer', dealer)\n",
    "    dealer_go = True\n",
    "    \n",
    "    player = dice()\n",
    "    print('player', player)\n",
    "    player_go = True\n",
    "    \n",
    "    while dealer_go or player_go:\n",
    "        \n",
    "        # 딜러는 3점 미만이면 무조건 주사위 굴림\n",
    "        dealer_go = dealer_go and dealer < 3\n",
    "        if dealer_go:\n",
    "            dealer += dice()\n",
    "            print('dealer', dealer)\n",
    "            if dealer > 4:  # 4점을 넘어가면 버스트\n",
    "                return 1    # 승리\n",
    "            \n",
    "        # 플레이어는 정책이 1이면 주사위 굴림, 아니면 패스   \n",
    "        player_go = player_go and policy[player - 1, dealer - 1]\n",
    "        if player_go:  \n",
    "            player += dice()\n",
    "            print('player', player)\n",
    "            if player > 4:  # 4점을 넘어가면 버스트\n",
    "                return -1   # 패배\n",
    "\n",
    "    if player > dealer:\n",
    "        return 1  # 승리\n",
    "    elif player == dealer:\n",
    "        return 0  # 무승부\n",
    "    else:\n",
    "        return -1 # 패배"
   ]
  },
  {
   "cell_type": "markdown",
   "metadata": {},
   "source": [
    "## 정책"
   ]
  },
  {
   "cell_type": "code",
   "execution_count": 12,
   "metadata": {
    "collapsed": true
   },
   "outputs": [],
   "source": [
    "policy = numpy.array([\n",
    "        [1, 1, 1, 1], # 1점일때는 남이 무슨 점수거든 고 \n",
    "        [1, 1, 1, 1],\n",
    "        [0, 0, 0, 0],\n",
    "        [0, 0, 0, 0]\n",
    "    ])"
   ]
  },
  {
   "cell_type": "code",
   "execution_count": 13,
   "metadata": {
    "collapsed": false
   },
   "outputs": [
    {
     "name": "stdout",
     "output_type": "stream",
     "text": [
      "game 0\n",
      "dealer 1\n",
      "player 2\n",
      "dealer 3\n",
      "player 4\n",
      "return: 1\n",
      "\n",
      "game 1\n",
      "dealer 3\n",
      "player 1\n",
      "player 2\n",
      "player 4\n",
      "return: 1\n",
      "\n",
      "game 2\n",
      "dealer 1\n",
      "player 2\n",
      "dealer 4\n",
      "player 3\n",
      "return: -1\n",
      "\n",
      "game 3\n",
      "dealer 2\n",
      "player 2\n",
      "dealer 3\n",
      "player 5\n",
      "return: -1\n",
      "\n",
      "game 4\n",
      "dealer 3\n",
      "player 3\n",
      "return: 0\n",
      "\n",
      "game 5\n",
      "dealer 2\n",
      "player 2\n",
      "dealer 3\n",
      "player 5\n",
      "return: -1\n",
      "\n",
      "game 6\n",
      "dealer 1\n",
      "player 2\n",
      "dealer 2\n",
      "player 5\n",
      "return: -1\n",
      "\n",
      "game 7\n",
      "dealer 2\n",
      "player 1\n",
      "dealer 4\n",
      "player 3\n",
      "return: -1\n",
      "\n",
      "game 8\n",
      "dealer 3\n",
      "player 3\n",
      "return: 0\n",
      "\n",
      "game 9\n",
      "dealer 1\n",
      "player 1\n",
      "dealer 2\n",
      "player 4\n",
      "dealer 4\n",
      "return: 0\n",
      "\n",
      "-0.3\n"
     ]
    }
   ],
   "source": [
    "total = 0\n",
    "for i in range(10):\n",
    "    print('game {}'.format(i))\n",
    "    ret = mini_blackjack(policy)\n",
    "    print('return: {}'.format(ret))\n",
    "    print()\n",
    "    total += ret\n",
    "print(total / 10)"
   ]
  },
  {
   "cell_type": "code",
   "execution_count": 14,
   "metadata": {
    "collapsed": true
   },
   "outputs": [],
   "source": [
    "def blackjack(policy):\n",
    "    episode = []\n",
    "    dealer = dice()\n",
    "    dealer_go = True\n",
    "    \n",
    "    player = dice()\n",
    "    player_go = True\n",
    "    \n",
    "    while dealer_go or player_go:\n",
    "        \n",
    "        # 딜러는 3점 미만이면 무조건 주사위 굴림\n",
    "        dealer_go = dealer_go and dealer < 3\n",
    "        \n",
    "        # 플레이어는 정책이 1이면 주사위 굴림, 아니면 패스   \n",
    "        player_go = player_go and policy[player - 1, dealer - 1]\n",
    "        episode.append((player, dealer, int(player_go)))        \n",
    "        \n",
    "        if dealer_go:\n",
    "            dealer += dice()\n",
    "        \n",
    "        if player_go:  \n",
    "            player += dice()\n",
    "\n",
    "        # 4점이 넘어가면 버스트\n",
    "        if player > 4 and dealer > 4:\n",
    "            return 0, episode  # 무승부\n",
    "        elif dealer > 4:\n",
    "            return 1, episode  # 승리\n",
    "        elif player > 4:\n",
    "            return -1, episode  # 패배\n",
    "        # 그 외의 경우에는 계속\n",
    "\n",
    "    if player > dealer:\n",
    "        result = 1  # 승리\n",
    "    elif player == dealer:\n",
    "        result = 0  # 무승부\n",
    "    else:\n",
    "        result = -1 # 패배\n",
    "    return result, episode "
   ]
  },
  {
   "cell_type": "code",
   "execution_count": 15,
   "metadata": {
    "collapsed": false
   },
   "outputs": [
    {
     "data": {
      "text/plain": [
       "(0, [(3, 2, 0), (3, 3, 0)])"
      ]
     },
     "execution_count": 15,
     "metadata": {},
     "output_type": "execute_result"
    }
   ],
   "source": [
    "blackjack(policy)"
   ]
  },
  {
   "cell_type": "markdown",
   "metadata": {},
   "source": [
    "## 몬테 카를로 법"
   ]
  },
  {
   "cell_type": "code",
   "execution_count": 16,
   "metadata": {
    "collapsed": true
   },
   "outputs": [],
   "source": [
    "returns = numpy.zeros((4, 4, 2)) # 4,4 하거나 안하거나 하니깐 2 "
   ]
  },
  {
   "cell_type": "code",
   "execution_count": 17,
   "metadata": {
    "collapsed": false
   },
   "outputs": [
    {
     "data": {
      "text/plain": [
       "array([[[ 0.,  0.],\n",
       "        [ 0.,  0.],\n",
       "        [ 0.,  0.],\n",
       "        [ 0.,  0.]],\n",
       "\n",
       "       [[ 0.,  0.],\n",
       "        [ 0.,  0.],\n",
       "        [ 0.,  0.],\n",
       "        [ 0.,  0.]],\n",
       "\n",
       "       [[ 0.,  0.],\n",
       "        [ 0.,  0.],\n",
       "        [ 0.,  0.],\n",
       "        [ 0.,  0.]],\n",
       "\n",
       "       [[ 0.,  0.],\n",
       "        [ 0.,  0.],\n",
       "        [ 0.,  0.],\n",
       "        [ 0.,  0.]]])"
      ]
     },
     "execution_count": 17,
     "metadata": {},
     "output_type": "execute_result"
    }
   ],
   "source": [
    "returns"
   ]
  },
  {
   "cell_type": "markdown",
   "metadata": {},
   "source": [
    "## 특정한 상태를 거친 횟수"
   ]
  },
  {
   "cell_type": "code",
   "execution_count": 18,
   "metadata": {
    "collapsed": false
   },
   "outputs": [
    {
     "data": {
      "text/plain": [
       "array([[[ 0.,  0.],\n",
       "        [ 0.,  0.],\n",
       "        [ 0.,  0.],\n",
       "        [ 0.,  0.]],\n",
       "\n",
       "       [[ 0.,  0.],\n",
       "        [ 0.,  0.],\n",
       "        [ 0.,  0.],\n",
       "        [ 0.,  0.]],\n",
       "\n",
       "       [[ 0.,  0.],\n",
       "        [ 0.,  0.],\n",
       "        [ 0.,  0.],\n",
       "        [ 0.,  0.]],\n",
       "\n",
       "       [[ 0.,  0.],\n",
       "        [ 0.,  0.],\n",
       "        [ 0.,  0.],\n",
       "        [ 0.,  0.]]])"
      ]
     },
     "execution_count": 18,
     "metadata": {},
     "output_type": "execute_result"
    }
   ],
   "source": [
    "count = numpy.zeros((4, 4, 2))\n",
    "count"
   ]
  },
  {
   "cell_type": "markdown",
   "metadata": {},
   "source": [
    "## 시작정책 "
   ]
  },
  {
   "cell_type": "code",
   "execution_count": 19,
   "metadata": {
    "collapsed": true
   },
   "outputs": [],
   "source": [
    "policy = numpy.array([\n",
    "        [1, 1, 1, 1],\n",
    "        [0, 0, 0, 0],\n",
    "        [0, 0, 0, 0],\n",
    "        [0, 0, 0, 0]\n",
    "    ])"
   ]
  },
  {
   "cell_type": "markdown",
   "metadata": {},
   "source": [
    "## 에피소드마다 return과 횟수를 누적"
   ]
  },
  {
   "cell_type": "code",
   "execution_count": 20,
   "metadata": {
    "collapsed": true
   },
   "outputs": [],
   "source": [
    "reward = 0\n",
    "discount = 1"
   ]
  },
  {
   "cell_type": "code",
   "execution_count": 21,
   "metadata": {
    "collapsed": true
   },
   "outputs": [],
   "source": [
    "for _ in range(1000):\n",
    "    ret, episode = blackjack(policy)\n",
    "    for player, dealer, action in reversed(episode):\n",
    "        count[player - 1, dealer - 1, action] += 1\n",
    "        returns[player - 1, dealer - 1, action] += ret\n",
    "        ret = reward + discount * ret"
   ]
  },
  {
   "cell_type": "markdown",
   "metadata": {},
   "source": [
    "## 결과 "
   ]
  },
  {
   "cell_type": "code",
   "execution_count": 22,
   "metadata": {
    "collapsed": false
   },
   "outputs": [
    {
     "data": {
      "text/plain": [
       "array([[[   0.,  -22.],\n",
       "        [   0.,    2.],\n",
       "        [   0.,    4.],\n",
       "        [   0.,    0.]],\n",
       "\n",
       "       [[ -81.,    0.],\n",
       "        [ -17.,    0.],\n",
       "        [-281.,    0.],\n",
       "        [ -87.,    0.]],\n",
       "\n",
       "       [[ -32.,    0.],\n",
       "        [   7.,    0.],\n",
       "        [   0.,    0.],\n",
       "        [-107.,    0.]],\n",
       "\n",
       "       [[   0.,    0.],\n",
       "        [   5.,    0.],\n",
       "        [  70.,    0.],\n",
       "        [   0.,    0.]]])"
      ]
     },
     "execution_count": 22,
     "metadata": {},
     "output_type": "execute_result"
    }
   ],
   "source": [
    "returns"
   ]
  },
  {
   "cell_type": "code",
   "execution_count": 23,
   "metadata": {
    "collapsed": false
   },
   "outputs": [
    {
     "data": {
      "text/plain": [
       "array([[[   0.,   94.],\n",
       "        [   0.,  113.],\n",
       "        [   0.,  115.],\n",
       "        [   0.,    0.]],\n",
       "\n",
       "       [[ 107.,    0.],\n",
       "        [ 147.,    0.],\n",
       "        [ 281.,    0.],\n",
       "        [  87.,    0.]],\n",
       "\n",
       "       [[ 113.,    0.],\n",
       "        [ 158.,    0.],\n",
       "        [ 274.,    0.],\n",
       "        [ 107.,    0.]],\n",
       "\n",
       "       [[   0.,    0.],\n",
       "        [  10.,    0.],\n",
       "        [  70.,    0.],\n",
       "        [  26.,    0.]]])"
      ]
     },
     "execution_count": 23,
     "metadata": {},
     "output_type": "execute_result"
    }
   ],
   "source": [
    "count"
   ]
  },
  {
   "cell_type": "markdown",
   "metadata": {},
   "source": [
    "## 가치(= return의 평균) 계산"
   ]
  },
  {
   "cell_type": "code",
   "execution_count": 24,
   "metadata": {
    "collapsed": false
   },
   "outputs": [
    {
     "name": "stderr",
     "output_type": "stream",
     "text": [
      "C:\\Anaconda3\\envs\\py35\\lib\\site-packages\\ipykernel\\__main__.py:1: RuntimeWarning: invalid value encountered in true_divide\n",
      "  if __name__ == '__main__':\n"
     ]
    },
    {
     "data": {
      "text/plain": [
       "array([[[        nan, -0.23404255],\n",
       "        [        nan,  0.01769912],\n",
       "        [        nan,  0.03478261],\n",
       "        [        nan,         nan]],\n",
       "\n",
       "       [[-0.75700935,         nan],\n",
       "        [-0.11564626,         nan],\n",
       "        [-1.        ,         nan],\n",
       "        [-1.        ,         nan]],\n",
       "\n",
       "       [[-0.28318584,         nan],\n",
       "        [ 0.0443038 ,         nan],\n",
       "        [ 0.        ,         nan],\n",
       "        [-1.        ,         nan]],\n",
       "\n",
       "       [[        nan,         nan],\n",
       "        [ 0.5       ,         nan],\n",
       "        [ 1.        ,         nan],\n",
       "        [ 0.        ,         nan]]])"
      ]
     },
     "execution_count": 24,
     "metadata": {},
     "output_type": "execute_result"
    }
   ],
   "source": [
    "returns / count"
   ]
  },
  {
   "cell_type": "markdown",
   "metadata": {},
   "source": [
    "## 에러 메시지를 막음"
   ]
  },
  {
   "cell_type": "code",
   "execution_count": 25,
   "metadata": {
    "collapsed": true
   },
   "outputs": [],
   "source": [
    "with numpy.errstate(divide='ignore', invalid='ignore'):\n",
    "    value = returns / count"
   ]
  },
  {
   "cell_type": "code",
   "execution_count": 26,
   "metadata": {
    "collapsed": false
   },
   "outputs": [
    {
     "data": {
      "text/plain": [
       "array([[[        nan, -0.23404255],\n",
       "        [        nan,  0.01769912],\n",
       "        [        nan,  0.03478261],\n",
       "        [        nan,         nan]],\n",
       "\n",
       "       [[-0.75700935,         nan],\n",
       "        [-0.11564626,         nan],\n",
       "        [-1.        ,         nan],\n",
       "        [-1.        ,         nan]],\n",
       "\n",
       "       [[-0.28318584,         nan],\n",
       "        [ 0.0443038 ,         nan],\n",
       "        [ 0.        ,         nan],\n",
       "        [-1.        ,         nan]],\n",
       "\n",
       "       [[        nan,         nan],\n",
       "        [ 0.5       ,         nan],\n",
       "        [ 1.        ,         nan],\n",
       "        [ 0.        ,         nan]]])"
      ]
     },
     "execution_count": 26,
     "metadata": {},
     "output_type": "execute_result"
    }
   ],
   "source": [
    "value"
   ]
  },
  {
   "cell_type": "code",
   "execution_count": 28,
   "metadata": {
    "collapsed": false
   },
   "outputs": [
    {
     "data": {
      "text/plain": [
       "array([[[ True, False],\n",
       "        [ True, False],\n",
       "        [ True, False],\n",
       "        [ True,  True]],\n",
       "\n",
       "       [[False,  True],\n",
       "        [False,  True],\n",
       "        [False,  True],\n",
       "        [False,  True]],\n",
       "\n",
       "       [[False,  True],\n",
       "        [False,  True],\n",
       "        [False,  True],\n",
       "        [False,  True]],\n",
       "\n",
       "       [[ True,  True],\n",
       "        [False,  True],\n",
       "        [False,  True],\n",
       "        [False,  True]]], dtype=bool)"
      ]
     },
     "execution_count": 28,
     "metadata": {},
     "output_type": "execute_result"
    }
   ],
   "source": [
    "~numpy.isfinite(value)"
   ]
  },
  {
   "cell_type": "code",
   "execution_count": 29,
   "metadata": {
    "collapsed": true
   },
   "outputs": [],
   "source": [
    "value[~numpy.isfinite(value)] = 0"
   ]
  },
  {
   "cell_type": "code",
   "execution_count": 30,
   "metadata": {
    "collapsed": false
   },
   "outputs": [
    {
     "data": {
      "text/plain": [
       "-1.0"
      ]
     },
     "execution_count": 30,
     "metadata": {},
     "output_type": "execute_result"
    }
   ],
   "source": [
    "value[2, 3, 0]  # 플레이어가 3점, 딜러가 4점일 때 스톱!의 가치"
   ]
  },
  {
   "cell_type": "code",
   "execution_count": 31,
   "metadata": {
    "collapsed": false
   },
   "outputs": [
    {
     "data": {
      "text/plain": [
       "0.0"
      ]
     },
     "execution_count": 31,
     "metadata": {},
     "output_type": "execute_result"
    }
   ],
   "source": [
    "value[2, 3, 1]  # 플레이어가 3점, 딜러가 4점일 때 고!의 가치"
   ]
  },
  {
   "cell_type": "markdown",
   "metadata": {},
   "source": [
    "## Policy Iteration"
   ]
  },
  {
   "cell_type": "code",
   "execution_count": 32,
   "metadata": {
    "collapsed": true
   },
   "outputs": [],
   "source": [
    "def compute_value(returns, count):\n",
    "    with numpy.errstate(divide='ignore', invalid='ignore'):\n",
    "        value = returns / count\n",
    "    value[~numpy.isfinite(value)] = 0\n",
    "    return value"
   ]
  },
  {
   "cell_type": "code",
   "execution_count": 33,
   "metadata": {
    "collapsed": true
   },
   "outputs": [],
   "source": [
    "policy = numpy.array([\n",
    "        [1, 1, 1, 1],\n",
    "        [0, 0, 0, 0],\n",
    "        [0, 0, 0, 0],\n",
    "        [0, 0, 0, 0]\n",
    "    ])\n",
    "returns = numpy.ones((4, 4, 2)) * 10  # 낙관적 초기화\n",
    "count = numpy.zeros((4, 4, 2))"
   ]
  },
  {
   "cell_type": "code",
   "execution_count": 34,
   "metadata": {
    "collapsed": false
   },
   "outputs": [
    {
     "name": "stdout",
     "output_type": "stream",
     "text": [
      "-0.229\n"
     ]
    }
   ],
   "source": [
    "\n",
    "total = 0\n",
    "for i in range(1000):\n",
    "    ret, _ = blackjack(policy)\n",
    "    total += ret\n",
    "print(total / 1000)"
   ]
  },
  {
   "cell_type": "code",
   "execution_count": 35,
   "metadata": {
    "collapsed": true
   },
   "outputs": [],
   "source": [
    "for _ in range(1000):\n",
    "    ret, episode = blackjack(policy)\n",
    "    for player, dealer, action in reversed(episode):\n",
    "        count[player - 1, dealer - 1, action] += 1\n",
    "        returns[player - 1, dealer - 1, action] += ret\n",
    "        ret = reward + discount * ret\n",
    "        \n",
    "    ## 가치 수정\n",
    "    value = compute_value(returns, count)\n",
    "        \n",
    "    ## 정책 수정\n",
    "    for p in range(4):\n",
    "        for d in range(4):\n",
    "            policy[p, d] = numpy.argmax(value[p, d])"
   ]
  },
  {
   "cell_type": "code",
   "execution_count": 36,
   "metadata": {
    "collapsed": false
   },
   "outputs": [
    {
     "data": {
      "text/plain": [
       "array([[1, 1, 1, 0],\n",
       "       [1, 1, 1, 1],\n",
       "       [1, 0, 0, 1],\n",
       "       [0, 0, 0, 0]])"
      ]
     },
     "execution_count": 36,
     "metadata": {},
     "output_type": "execute_result"
    }
   ],
   "source": [
    "policy"
   ]
  },
  {
   "cell_type": "code",
   "execution_count": 37,
   "metadata": {
    "collapsed": false
   },
   "outputs": [
    {
     "name": "stdout",
     "output_type": "stream",
     "text": [
      "0.014\n"
     ]
    }
   ],
   "source": [
    "total = 0\n",
    "for i in range(1000):\n",
    "    ret, _ = blackjack(policy)\n",
    "    total += ret\n",
    "print(total / 1000)"
   ]
  },
  {
   "cell_type": "code",
   "execution_count": 38,
   "metadata": {
    "collapsed": false
   },
   "outputs": [
    {
     "data": {
      "text/plain": [
       "array([[[ 0.        ,  0.10687023],\n",
       "        [-0.04347826,  0.21276596],\n",
       "        [-0.28571429,  0.37837838],\n",
       "        [ 0.        ,  0.        ]],\n",
       "\n",
       "       [[-0.05882353,  0.11904762],\n",
       "        [-0.03448276,  0.07476636],\n",
       "        [-0.56521739,  0.01162791],\n",
       "        [-0.28571429, -0.25      ]],\n",
       "\n",
       "       [[-0.22222222, -0.22      ],\n",
       "        [-0.01123596, -0.03389831],\n",
       "        [ 0.03496503,  0.        ],\n",
       "        [-0.84848485, -0.55357143]],\n",
       "\n",
       "       [[ 0.        ,  0.        ],\n",
       "        [ 0.97142857,  0.        ],\n",
       "        [ 1.06134969,  0.        ],\n",
       "        [ 0.12658228,  0.        ]]])"
      ]
     },
     "execution_count": 38,
     "metadata": {},
     "output_type": "execute_result"
    }
   ],
   "source": [
    "value"
   ]
  },
  {
   "cell_type": "markdown",
   "metadata": {},
   "source": [
    "## 시간차 학습"
   ]
  },
  {
   "cell_type": "code",
   "execution_count": 39,
   "metadata": {
    "collapsed": true
   },
   "outputs": [],
   "source": [
    "\n",
    "policy = numpy.array([\n",
    "        [1, 1, 1, 1],\n",
    "        [0, 0, 0, 0],\n",
    "        [0, 0, 0, 0],\n",
    "        [0, 0, 0, 0]\n",
    "    ])\n",
    "value = numpy.zeros((4, 4, 2))  # return 대신 value를 사용\n",
    "count = numpy.zeros((4, 4, 2))"
   ]
  },
  {
   "cell_type": "code",
   "execution_count": 40,
   "metadata": {
    "collapsed": true
   },
   "outputs": [],
   "source": [
    "for _ in range(1000):\n",
    "    ret, episode = blackjack(policy)\n",
    "    next_value = 0\n",
    "    for i, state_action in enumerate(reversed(episode)):\n",
    "        player, dealer, action = state_action\n",
    "        if i == 0:\n",
    "            reward = ret\n",
    "        else:\n",
    "            reward = 0\n",
    "        p = player - 1\n",
    "        d = dealer - 1\n",
    "        count[p, d, action] += 1\n",
    "        \n",
    "        # 가치 수정\n",
    "        N = count[p, d, action] \n",
    "        current_value = value[p, d, action]\n",
    "        bellman = reward + discount * next_value  # 벨만 방정식\n",
    "        next_value = value[p, d, action] = current_value + (bellman - current_value) / N  # 이동 평균"
   ]
  },
  {
   "cell_type": "code",
   "execution_count": 41,
   "metadata": {
    "collapsed": false
   },
   "outputs": [
    {
     "data": {
      "text/plain": [
       "array([[[ 0.        , -0.15930073],\n",
       "        [ 0.        , -0.06060606],\n",
       "        [ 0.        ,  0.00840336],\n",
       "        [ 0.        ,  0.        ]],\n",
       "\n",
       "       [[-0.75941207,  0.        ],\n",
       "        [-0.32571429,  0.        ],\n",
       "        [-1.        ,  0.        ],\n",
       "        [-1.        ,  0.        ]],\n",
       "\n",
       "       [[-0.39353533,  0.        ],\n",
       "        [-0.06918239,  0.        ],\n",
       "        [ 0.        ,  0.        ],\n",
       "        [-1.        ,  0.        ]],\n",
       "\n",
       "       [[ 0.        ,  0.        ],\n",
       "        [ 0.75      ,  0.        ],\n",
       "        [ 1.        ,  0.        ],\n",
       "        [ 0.        ,  0.        ]]])"
      ]
     },
     "execution_count": 41,
     "metadata": {},
     "output_type": "execute_result"
    }
   ],
   "source": [
    "value"
   ]
  },
  {
   "cell_type": "markdown",
   "metadata": {},
   "source": [
    "## SARSA"
   ]
  },
  {
   "cell_type": "code",
   "execution_count": null,
   "metadata": {
    "collapsed": true
   },
   "outputs": [],
   "source": []
  }
 ],
 "metadata": {
  "anaconda-cloud": {},
  "kernelspec": {
   "display_name": "Python [py35]",
   "language": "python",
   "name": "Python [py35]"
  },
  "language_info": {
   "codemirror_mode": {
    "name": "ipython",
    "version": 3
   },
   "file_extension": ".py",
   "mimetype": "text/x-python",
   "name": "python",
   "nbconvert_exporter": "python",
   "pygments_lexer": "ipython3",
   "version": "3.5.2"
  }
 },
 "nbformat": 4,
 "nbformat_minor": 0
}
