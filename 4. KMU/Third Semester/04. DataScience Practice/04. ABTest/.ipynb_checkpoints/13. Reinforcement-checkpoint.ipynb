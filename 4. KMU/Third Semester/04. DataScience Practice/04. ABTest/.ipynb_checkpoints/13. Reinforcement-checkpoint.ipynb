{
 "cells": [
  {
   "cell_type": "code",
   "execution_count": 1,
   "metadata": {
    "collapsed": true
   },
   "outputs": [],
   "source": [
    "import random\n",
    "import numpy"
   ]
  },
  {
   "cell_type": "markdown",
   "metadata": {},
   "source": [
    "## 주사위"
   ]
  },
  {
   "cell_type": "code",
   "execution_count": 2,
   "metadata": {
    "collapsed": true
   },
   "outputs": [],
   "source": [
    "def dice():\n",
    "    return random.randint(1, 3)"
   ]
  },
  {
   "cell_type": "code",
   "execution_count": 3,
   "metadata": {
    "collapsed": false
   },
   "outputs": [
    {
     "data": {
      "text/plain": [
       "1"
      ]
     },
     "execution_count": 3,
     "metadata": {},
     "output_type": "execute_result"
    }
   ],
   "source": [
    "dice()"
   ]
  },
  {
   "cell_type": "code",
   "execution_count": 6,
   "metadata": {
    "collapsed": false
   },
   "outputs": [
    {
     "data": {
      "text/plain": [
       "3"
      ]
     },
     "execution_count": 6,
     "metadata": {},
     "output_type": "execute_result"
    }
   ],
   "source": [
    "dice()"
   ]
  },
  {
   "cell_type": "markdown",
   "metadata": {},
   "source": [
    "## 미니 블랙잭"
   ]
  },
  {
   "cell_type": "code",
   "execution_count": 7,
   "metadata": {
    "collapsed": true
   },
   "outputs": [],
   "source": [
    "def mini_blackjack(policy):\n",
    "    dealer = dice()\n",
    "    print('dealer', dealer)\n",
    "    dealer_go = True\n",
    "    \n",
    "    player = dice()\n",
    "    print('player', player)\n",
    "    player_go = True\n",
    "    \n",
    "    while dealer_go or player_go:\n",
    "        \n",
    "        # 딜러는 3점 미만이면 무조건 주사위 굴림\n",
    "        dealer_go = dealer_go and dealer < 3\n",
    "        if dealer_go:\n",
    "            dealer += dice()\n",
    "            print('dealer', dealer)\n",
    "            if dealer > 4:  # 4점을 넘어가면 버스트\n",
    "                return 1    # 승리\n",
    "            \n",
    "        # 플레이어는 정책이 1이면 주사위 굴림, 아니면 패스   \n",
    "        player_go = player_go and policy[player - 1, dealer - 1]\n",
    "        if player_go:  \n",
    "            player += dice()\n",
    "            print('player', player)\n",
    "            if player > 4:  # 4점을 넘어가면 버스트\n",
    "                return -1   # 패배\n",
    "\n",
    "    if player > dealer:\n",
    "        return 1  # 승리\n",
    "    elif player == dealer:\n",
    "        return 0  # 무승부\n",
    "    else:\n",
    "        return -1 # 패배"
   ]
  },
  {
   "cell_type": "markdown",
   "metadata": {},
   "source": [
    "## 정책"
   ]
  },
  {
   "cell_type": "code",
   "execution_count": 12,
   "metadata": {
    "collapsed": true
   },
   "outputs": [],
   "source": [
    "policy = numpy.array([\n",
    "        [1, 1, 1, 1], # 1점일때는 남이 무슨 점수거든 고 \n",
    "        [1, 1, 1, 1],\n",
    "        [0, 0, 0, 0],\n",
    "        [0, 0, 0, 0]\n",
    "    ])"
   ]
  },
  {
   "cell_type": "code",
   "execution_count": 13,
   "metadata": {
    "collapsed": false
   },
   "outputs": [
    {
     "name": "stdout",
     "output_type": "stream",
     "text": [
      "game 0\n",
      "dealer 1\n",
      "player 2\n",
      "dealer 3\n",
      "player 4\n",
      "return: 1\n",
      "\n",
      "game 1\n",
      "dealer 3\n",
      "player 1\n",
      "player 2\n",
      "player 4\n",
      "return: 1\n",
      "\n",
      "game 2\n",
      "dealer 1\n",
      "player 2\n",
      "dealer 4\n",
      "player 3\n",
      "return: -1\n",
      "\n",
      "game 3\n",
      "dealer 2\n",
      "player 2\n",
      "dealer 3\n",
      "player 5\n",
      "return: -1\n",
      "\n",
      "game 4\n",
      "dealer 3\n",
      "player 3\n",
      "return: 0\n",
      "\n",
      "game 5\n",
      "dealer 2\n",
      "player 2\n",
      "dealer 3\n",
      "player 5\n",
      "return: -1\n",
      "\n",
      "game 6\n",
      "dealer 1\n",
      "player 2\n",
      "dealer 2\n",
      "player 5\n",
      "return: -1\n",
      "\n",
      "game 7\n",
      "dealer 2\n",
      "player 1\n",
      "dealer 4\n",
      "player 3\n",
      "return: -1\n",
      "\n",
      "game 8\n",
      "dealer 3\n",
      "player 3\n",
      "return: 0\n",
      "\n",
      "game 9\n",
      "dealer 1\n",
      "player 1\n",
      "dealer 2\n",
      "player 4\n",
      "dealer 4\n",
      "return: 0\n",
      "\n",
      "-0.3\n"
     ]
    }
   ],
   "source": [
    "total = 0\n",
    "for i in range(10):\n",
    "    print('game {}'.format(i))\n",
    "    ret = mini_blackjack(policy)\n",
    "    print('return: {}'.format(ret))\n",
    "    print()\n",
    "    total += ret\n",
    "print(total / 10)"
   ]
  },
  {
   "cell_type": "code",
   "execution_count": 14,
   "metadata": {
    "collapsed": true
   },
   "outputs": [],
   "source": [
    "def blackjack(policy):\n",
    "    episode = []\n",
    "    dealer = dice()\n",
    "    dealer_go = True\n",
    "    \n",
    "    player = dice()\n",
    "    player_go = True\n",
    "    \n",
    "    while dealer_go or player_go:\n",
    "        \n",
    "        # 딜러는 3점 미만이면 무조건 주사위 굴림\n",
    "        dealer_go = dealer_go and dealer < 3\n",
    "        \n",
    "        # 플레이어는 정책이 1이면 주사위 굴림, 아니면 패스   \n",
    "        player_go = player_go and policy[player - 1, dealer - 1]\n",
    "        episode.append((player, dealer, int(player_go)))        \n",
    "        \n",
    "        if dealer_go:\n",
    "            dealer += dice()\n",
    "        \n",
    "        if player_go:  \n",
    "            player += dice()\n",
    "\n",
    "        # 4점이 넘어가면 버스트\n",
    "        if player > 4 and dealer > 4:\n",
    "            return 0, episode  # 무승부\n",
    "        elif dealer > 4:\n",
    "            return 1, episode  # 승리\n",
    "        elif player > 4:\n",
    "            return -1, episode  # 패배\n",
    "        # 그 외의 경우에는 계속\n",
    "\n",
    "    if player > dealer:\n",
    "        result = 1  # 승리\n",
    "    elif player == dealer:\n",
    "        result = 0  # 무승부\n",
    "    else:\n",
    "        result = -1 # 패배\n",
    "    return result, episode "
   ]
  },
  {
   "cell_type": "code",
   "execution_count": 15,
   "metadata": {
    "collapsed": false
   },
   "outputs": [
    {
     "data": {
      "text/plain": [
       "(0, [(3, 2, 0), (3, 3, 0)])"
      ]
     },
     "execution_count": 15,
     "metadata": {},
     "output_type": "execute_result"
    }
   ],
   "source": [
    "blackjack(policy)"
   ]
  },
  {
   "cell_type": "markdown",
   "metadata": {},
   "source": [
    "## 몬테 카를로 법"
   ]
  },
  {
   "cell_type": "code",
   "execution_count": 16,
   "metadata": {
    "collapsed": true
   },
   "outputs": [],
   "source": [
    "returns = numpy.zeros((4, 4, 2)) # 4,4 하거나 안하거나 하니깐 2 "
   ]
  },
  {
   "cell_type": "code",
   "execution_count": 17,
   "metadata": {
    "collapsed": false
   },
   "outputs": [
    {
     "data": {
      "text/plain": [
       "array([[[ 0.,  0.],\n",
       "        [ 0.,  0.],\n",
       "        [ 0.,  0.],\n",
       "        [ 0.,  0.]],\n",
       "\n",
       "       [[ 0.,  0.],\n",
       "        [ 0.,  0.],\n",
       "        [ 0.,  0.],\n",
       "        [ 0.,  0.]],\n",
       "\n",
       "       [[ 0.,  0.],\n",
       "        [ 0.,  0.],\n",
       "        [ 0.,  0.],\n",
       "        [ 0.,  0.]],\n",
       "\n",
       "       [[ 0.,  0.],\n",
       "        [ 0.,  0.],\n",
       "        [ 0.,  0.],\n",
       "        [ 0.,  0.]]])"
      ]
     },
     "execution_count": 17,
     "metadata": {},
     "output_type": "execute_result"
    }
   ],
   "source": [
    "returns"
   ]
  },
  {
   "cell_type": "markdown",
   "metadata": {},
   "source": [
    "## 특정한 상태를 거친 횟수"
   ]
  },
  {
   "cell_type": "code",
   "execution_count": 18,
   "metadata": {
    "collapsed": false
   },
   "outputs": [
    {
     "data": {
      "text/plain": [
       "array([[[ 0.,  0.],\n",
       "        [ 0.,  0.],\n",
       "        [ 0.,  0.],\n",
       "        [ 0.,  0.]],\n",
       "\n",
       "       [[ 0.,  0.],\n",
       "        [ 0.,  0.],\n",
       "        [ 0.,  0.],\n",
       "        [ 0.,  0.]],\n",
       "\n",
       "       [[ 0.,  0.],\n",
       "        [ 0.,  0.],\n",
       "        [ 0.,  0.],\n",
       "        [ 0.,  0.]],\n",
       "\n",
       "       [[ 0.,  0.],\n",
       "        [ 0.,  0.],\n",
       "        [ 0.,  0.],\n",
       "        [ 0.,  0.]]])"
      ]
     },
     "execution_count": 18,
     "metadata": {},
     "output_type": "execute_result"
    }
   ],
   "source": [
    "count = numpy.zeros((4, 4, 2))\n",
    "count"
   ]
  },
  {
   "cell_type": "code",
   "execution_count": null,
   "metadata": {
    "collapsed": true
   },
   "outputs": [],
   "source": []
  }
 ],
 "metadata": {
  "anaconda-cloud": {},
  "kernelspec": {
   "display_name": "Python [py35]",
   "language": "python",
   "name": "Python [py35]"
  },
  "language_info": {
   "codemirror_mode": {
    "name": "ipython",
    "version": 3
   },
   "file_extension": ".py",
   "mimetype": "text/x-python",
   "name": "python",
   "nbconvert_exporter": "python",
   "pygments_lexer": "ipython3",
   "version": "3.5.2"
  }
 },
 "nbformat": 4,
 "nbformat_minor": 0
}
