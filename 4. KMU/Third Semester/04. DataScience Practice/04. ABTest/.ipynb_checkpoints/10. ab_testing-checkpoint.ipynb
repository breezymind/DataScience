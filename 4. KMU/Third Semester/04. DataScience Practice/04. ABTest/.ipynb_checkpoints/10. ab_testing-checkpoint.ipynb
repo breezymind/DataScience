{
 "cells": [
  {
   "cell_type": "markdown",
   "metadata": {},
   "source": [
    "# AB Testing"
   ]
  },
  {
   "cell_type": "markdown",
   "metadata": {},
   "source": [
    "## HIPPO (Highest Paid Person's Opinion)\n",
    "![img1](img/0513/1.PNG)\n",
    "\n",
    "## Randomized Controlled Trial\n",
    " - But 치실의 경우 ㅋ해본적이 없다. 비교하기도 힘들고 ㅋ 느낌은 나지만 하지 않은 듯한 치실 짝퉁을 만들 수 없다.\n",
    "![img1](img/0513/2.PNG)"
   ]
  },
  {
   "cell_type": "markdown",
   "metadata": {},
   "source": [
    "## A/B Testing \n",
    " - RCT(Randomized Controlled Trial)를 인터넷 마케팅에 적용한 것 \n",
    " - 실제 고객에게 무작위로 다른 디자인을 제시\n",
    " - 목표 지표(예: 가입률)이 높은 디자인을 최종 선택\n",
    "![img3](img/0513/3.PNG)\n",
    "![img3](img/0513/4.PNG)\n",
    "![img3](img/0513/5.PNG)\n",
    "![img3](img/0513/6.PNG)"
   ]
  },
  {
   "cell_type": "markdown",
   "metadata": {},
   "source": [
    "## A/B Testing 이슈\n",
    " - 얼마나 많이 테스트해야 하나?\n",
    " - 통계적 가설 검정(T-검정, 카이제곱 검정 등)\n",
    " - bootstrapping"
   ]
  },
  {
   "cell_type": "markdown",
   "metadata": {},
   "source": [
    "### 카이제곱 검정\n",
    "![img7](img/0513/7.PNG)"
   ]
  },
  {
   "cell_type": "markdown",
   "metadata": {},
   "source": [
    "### 통계적으로 유의미한 차이 \n",
    " - 현실적으로 유의미한 차이라는 뜻은 아님\n",
    " - 실제로 차이가 없을 때 관찰된 차이가 나타날 확률이 낮음\n",
    "\n",
    "### 카이제곱 검정의 문제\n",
    " - 샘플 수가 적으면 카이제곱이 카이제곱 분포를 다르지 않음\n",
    " - BootStrapping"
   ]
  },
  {
   "cell_type": "markdown",
   "metadata": {},
   "source": [
    "### Boot Strapping(부트스트래핑)\n",
    " - 분포를 가정하지 않음(이론적인)\n",
    " - (A/B) 데이터를 모두 섞음 -> 무작위로 나눔 -> 카이제곱 구함\n",
    " - 위 과정을 반복해서 카이제곱의 분포를 구함\n",
    " - 비 모수적 방법론."
   ]
  },
  {
   "cell_type": "markdown",
   "metadata": {},
   "source": [
    "### A/B 테스팅 문제점\n",
    " - 유의수준 5%는 충분한가? \n",
    "  - 테스트를 60번 하면 적어도 1번은 잘못된 결론 가능성이 95% 이상\n",
    "\n",
    " - 테스트 비용\n",
    "  - 열등한 옵션을 사용자에게 노출하면서 생기는 기회비용\n",
    "\n",
    " - 지속적인 변화\n",
    "  - 계절 등에 따라 사용자의 행동이 변할 경우 -> 기존 테스트는 무용지물\n",
    "  - 반복해서 테스트할 경우 -> 테스트 비용 증가\n",
    "\n",
    "\n",
    "\n"
   ]
  },
  {
   "cell_type": "markdown",
   "metadata": {},
   "source": [
    "# 실습 "
   ]
  },
  {
   "cell_type": "code",
   "execution_count": 44,
   "metadata": {
    "collapsed": true
   },
   "outputs": [],
   "source": [
    "import numpy as np "
   ]
  },
  {
   "cell_type": "code",
   "execution_count": 45,
   "metadata": {
    "collapsed": false
   },
   "outputs": [
    {
     "data": {
      "text/plain": [
       "array([False,  True, False,  True, False,  True,  True, False,  True,\n",
       "        True, False, False,  True, False,  True, False, False, False,\n",
       "        True, False, False,  True,  True, False,  True,  True,  True,\n",
       "       False, False, False], dtype=bool)"
      ]
     },
     "execution_count": 45,
     "metadata": {},
     "output_type": "execute_result"
    }
   ],
   "source": [
    "a = np.random.uniform(size=30) > 0.5\n",
    "a # True 는 가입을 한사람 / False는 가입을 안한사람"
   ]
  },
  {
   "cell_type": "code",
   "execution_count": 46,
   "metadata": {
    "collapsed": false
   },
   "outputs": [
    {
     "data": {
      "text/plain": [
       "14"
      ]
     },
     "execution_count": 46,
     "metadata": {},
     "output_type": "execute_result"
    }
   ],
   "source": [
    "a.sum()"
   ]
  },
  {
   "cell_type": "code",
   "execution_count": 47,
   "metadata": {
    "collapsed": false
   },
   "outputs": [
    {
     "data": {
      "text/plain": [
       "array([ True,  True, False, False, False,  True, False,  True, False,\n",
       "        True,  True, False, False, False,  True,  True, False,  True,\n",
       "       False,  True, False, False, False, False,  True, False, False,\n",
       "        True,  True, False], dtype=bool)"
      ]
     },
     "execution_count": 47,
     "metadata": {},
     "output_type": "execute_result"
    }
   ],
   "source": [
    "b = np.random.uniform(size=30) > 0.5\n",
    "b"
   ]
  },
  {
   "cell_type": "code",
   "execution_count": 48,
   "metadata": {
    "collapsed": false
   },
   "outputs": [
    {
     "data": {
      "text/plain": [
       "13"
      ]
     },
     "execution_count": 48,
     "metadata": {},
     "output_type": "execute_result"
    }
   ],
   "source": [
    "b.sum()"
   ]
  },
  {
   "cell_type": "markdown",
   "metadata": {},
   "source": [
    "## statsmodels"
   ]
  },
  {
   "cell_type": "code",
   "execution_count": 49,
   "metadata": {
    "collapsed": true
   },
   "outputs": [],
   "source": [
    "from statsmodels.stats.proportion import proportions_chisquare"
   ]
  },
  {
   "cell_type": "code",
   "execution_count": 50,
   "metadata": {
    "collapsed": false
   },
   "outputs": [
    {
     "data": {
      "text/plain": [
       "(0.067340067340067339, 0.79524975353493832, (array([[14, 16],\n",
       "         [13, 17]]), array([[ 13.5,  16.5],\n",
       "         [ 13.5,  16.5]])))"
      ]
     },
     "execution_count": 50,
     "metadata": {},
     "output_type": "execute_result"
    }
   ],
   "source": [
    "proportions_chisquare([a.sum(), b.sum()], [len(a), len(b)])"
   ]
  },
  {
   "cell_type": "markdown",
   "metadata": {},
   "source": [
    " - 0.038433930236781759 : 유의미 한 값이라고 나왔다 -> 하지만 틀렸다 왜냐면 만드느 확률이 동일한 함수를 이용해서 만들었기 때문에 \n",
    " - 0.05 는 20번 중에 한번을 틀린 수준이다. (너무관대하다)"
   ]
  },
  {
   "cell_type": "code",
   "execution_count": 51,
   "metadata": {
    "collapsed": true
   },
   "outputs": [],
   "source": [
    "# 수동으로 구한다. \n",
    "def calc_chisq(a, b):\n",
    "    chisq = 0\n",
    "    total = len(a) + len(b)\n",
    "    all_pos = a.sum() + b.sum()\n",
    "    prob = all_pos / total\n",
    "    for x in [a, b]:\n",
    "        positive = len(x) * prob\n",
    "        chisq += (x.sum() - positive) ** 2 / positive\n",
    "\n",
    "        negative = len(x) - positive\n",
    "        chisq += (len(x) - x.sum() - negative)** 2 / negative\n",
    "    return chisq"
   ]
  },
  {
   "cell_type": "code",
   "execution_count": 52,
   "metadata": {
    "collapsed": false
   },
   "outputs": [
    {
     "data": {
      "text/plain": [
       "0.067340067340067339"
      ]
     },
     "execution_count": 52,
     "metadata": {},
     "output_type": "execute_result"
    }
   ],
   "source": [
    "calc_chisq(a, b)"
   ]
  },
  {
   "cell_type": "markdown",
   "metadata": {},
   "source": [
    "## bootstrapping"
   ]
  },
  {
   "cell_type": "code",
   "execution_count": 53,
   "metadata": {
    "collapsed": false
   },
   "outputs": [],
   "source": [
    "merge = np.hstack((a, b))"
   ]
  },
  {
   "cell_type": "code",
   "execution_count": 54,
   "metadata": {
    "collapsed": false
   },
   "outputs": [
    {
     "data": {
      "text/plain": [
       "array([False,  True, False,  True, False,  True,  True, False,  True,\n",
       "        True, False, False,  True, False,  True, False, False, False,\n",
       "        True, False, False,  True,  True, False,  True,  True,  True,\n",
       "       False, False, False,  True,  True, False, False, False,  True,\n",
       "       False,  True, False,  True,  True, False, False, False,  True,\n",
       "        True, False,  True, False,  True, False, False, False, False,\n",
       "        True, False, False,  True,  True, False], dtype=bool)"
      ]
     },
     "execution_count": 54,
     "metadata": {},
     "output_type": "execute_result"
    }
   ],
   "source": [
    "merge"
   ]
  },
  {
   "cell_type": "code",
   "execution_count": 55,
   "metadata": {
    "collapsed": false
   },
   "outputs": [
    {
     "data": {
      "text/plain": [
       "array([ True, False, False, False,  True, False,  True, False,  True,\n",
       "        True, False,  True,  True,  True, False, False,  True,  True,\n",
       "       False, False, False, False,  True, False, False, False, False,\n",
       "       False,  True,  True], dtype=bool)"
      ]
     },
     "execution_count": 55,
     "metadata": {},
     "output_type": "execute_result"
    }
   ],
   "source": [
    "np.random.choice(merge, 30)"
   ]
  },
  {
   "cell_type": "code",
   "execution_count": 56,
   "metadata": {
    "collapsed": false
   },
   "outputs": [],
   "source": [
    "dist = []\n",
    "for _ in range(1000):\n",
    "    s1 = np.random.choice(merge, 30)\n",
    "    s2 = np.random.choice(merge, 30)\n",
    "    c = calc_chisq(s1, s2)\n",
    "    dist.append(c)"
   ]
  },
  {
   "cell_type": "code",
   "execution_count": 57,
   "metadata": {
    "collapsed": false,
    "scrolled": false
   },
   "outputs": [
    {
     "data": {
      "text/plain": [
       "[4.4444444444444446,\n",
       " 0.26785714285714285,\n",
       " 3.3600000000000003,\n",
       " 0.067340067340067339,\n",
       " 0.066740823136818686,\n",
       " 0.068571428571428575,\n",
       " 4.3438914027149327,\n",
       " 0.26785714285714285,\n",
       " 0.60066740823136822,\n",
       " 0.068571428571428575]"
      ]
     },
     "execution_count": 57,
     "metadata": {},
     "output_type": "execute_result"
    }
   ],
   "source": [
    "dist[:10]"
   ]
  },
  {
   "cell_type": "code",
   "execution_count": 58,
   "metadata": {
    "collapsed": false
   },
   "outputs": [
    {
     "data": {
      "text/plain": [
       "776"
      ]
     },
     "execution_count": 58,
     "metadata": {},
     "output_type": "execute_result"
    }
   ],
   "source": [
    "np.sum(np.array(dist) > calc_chisq(a,b)) # 1000가지 카이제곱중에서 큰값이 몇개나 되는지."
   ]
  },
  {
   "cell_type": "markdown",
   "metadata": {},
   "source": [
    "## 연속 변수의 비교"
   ]
  },
  {
   "cell_type": "code",
   "execution_count": 60,
   "metadata": {
    "collapsed": false
   },
   "outputs": [],
   "source": [
    "a = np.random.normal(size=30)\n",
    "b = np.random.normal(size=30)"
   ]
  },
  {
   "cell_type": "code",
   "execution_count": 61,
   "metadata": {
    "collapsed": false
   },
   "outputs": [
    {
     "data": {
      "text/plain": [
       "0.44729310566840413"
      ]
     },
     "execution_count": 61,
     "metadata": {},
     "output_type": "execute_result"
    }
   ],
   "source": [
    "a.mean()"
   ]
  },
  {
   "cell_type": "code",
   "execution_count": 62,
   "metadata": {
    "collapsed": false
   },
   "outputs": [
    {
     "data": {
      "text/plain": [
       "0.068477639221852807"
      ]
     },
     "execution_count": 62,
     "metadata": {},
     "output_type": "execute_result"
    }
   ],
   "source": [
    "b.mean()"
   ]
  },
  {
   "cell_type": "code",
   "execution_count": 63,
   "metadata": {
    "collapsed": false
   },
   "outputs": [
    {
     "data": {
      "text/plain": [
       "-0.37881546644655134"
      ]
     },
     "execution_count": 63,
     "metadata": {},
     "output_type": "execute_result"
    }
   ],
   "source": [
    "b.mean() - a.mean()"
   ]
  },
  {
   "cell_type": "markdown",
   "metadata": {},
   "source": [
    "### statsmodels"
   ]
  },
  {
   "cell_type": "code",
   "execution_count": 64,
   "metadata": {
    "collapsed": true
   },
   "outputs": [],
   "source": [
    "from statsmodels.stats.weightstats import ttest_ind"
   ]
  },
  {
   "cell_type": "code",
   "execution_count": 65,
   "metadata": {
    "collapsed": false
   },
   "outputs": [
    {
     "data": {
      "text/plain": [
       "(1.3064508931398227, 0.19655633551341667, 58.0)"
      ]
     },
     "execution_count": 65,
     "metadata": {},
     "output_type": "execute_result"
    }
   ],
   "source": [
    "ttest_ind(a,b) # t, p-value, df"
   ]
  },
  {
   "cell_type": "markdown",
   "metadata": {},
   "source": [
    "### bootstrapping"
   ]
  },
  {
   "cell_type": "code",
   "execution_count": 67,
   "metadata": {
    "collapsed": false
   },
   "outputs": [
    {
     "data": {
      "text/plain": [
       "0.25788537244512855"
      ]
     },
     "execution_count": 67,
     "metadata": {},
     "output_type": "execute_result"
    }
   ],
   "source": [
    "merge = np.hstack((a, b))\n",
    "merge.mean()"
   ]
  },
  {
   "cell_type": "code",
   "execution_count": 68,
   "metadata": {
    "collapsed": true
   },
   "outputs": [],
   "source": [
    "dist = []\n",
    "for _ in range(1000):\n",
    "    s1 = np.random.choice(merge, 30)\n",
    "    s2 = np.random.choice(merge, 30)\n",
    "    diff = s1.mean() - s2.mean()\n",
    "    dist.append(diff)"
   ]
  },
  {
   "cell_type": "code",
   "execution_count": 69,
   "metadata": {
    "collapsed": true
   },
   "outputs": [],
   "source": [
    "obs = b.mean() - a.mean()"
   ]
  },
  {
   "cell_type": "code",
   "execution_count": 71,
   "metadata": {
    "collapsed": false
   },
   "outputs": [
    {
     "data": {
      "text/plain": [
       "925"
      ]
     },
     "execution_count": 71,
     "metadata": {},
     "output_type": "execute_result"
    }
   ],
   "source": [
    "np.sum(np.array(dist) > obs) # 비율적 차이가 클 수록 의미가 차이가 있다고 볼 수 있다. "
   ]
  },
  {
   "cell_type": "markdown",
   "metadata": {},
   "source": [
    "### 탐색-활용 문제 \n",
    " - exploration-exploitation problem\n",
    "\n",
    " - 탐색(exploration)\n",
    "  - 답을 알기 위해 다양한 테스트를 시도하는 것\n",
    "  - 정확한 답을 이미 알고 있을 경우는 낭비\n",
    "\n",
    " - 활용(exploitation)\n",
    "  - 이미 알고 있는 답을 활용하는 것\n",
    "  - 부정확한 답을 알고 있을 경우 손실\n"
   ]
  },
  {
   "cell_type": "markdown",
   "metadata": {},
   "source": [
    "### Multi-Armed bandit\n",
    " - Bandit: 강도\n",
    " - One-Armed Bandit(외팔이 강도): 슬롯머신의 별칭\n",
    "\n",
    " - 돈을 딸 확률이 다른 슬롯머신이 있을 때\n",
    " - 어느 슬롯머신을 얼마나 당겨봐야 하는가?\n",
    "![img8](img/0513/8.PNG)\n",
    " - 테스팅을 하되, 여러가지 안 중 좋은 안을 확률적으로 많이 나오게 보여주는것"
   ]
  },
  {
   "cell_type": "markdown",
   "metadata": {},
   "source": [
    "#### 용어 정리 \n",
    " - 행동(action): MAB에서 한 번의 선택(예: 3번 슬롯머신)\n",
    " - 보상(reward): 한 행동의 결과(+500원)\n",
    " - 가치(value): 한 행동의 보상의 평균(q) - 모평균\n",
    " - 추정 가치(estimated value): 지금까지 행동으로 추정한 가치(Q)\n"
   ]
  },
  {
   "cell_type": "markdown",
   "metadata": {},
   "source": [
    "### 그리디 법\n",
    " - greedy method\n",
    " - 초기 탐색 후 추정 가치가 가장 높은 방법을 활용\n",
    " - 단순\n"
   ]
  },
  {
   "cell_type": "markdown",
   "metadata": {},
   "source": [
    "### 실습(Multi-Armed Bandit)"
   ]
  },
  {
   "cell_type": "code",
   "execution_count": 73,
   "metadata": {
    "collapsed": false
   },
   "outputs": [],
   "source": [
    "value = np.arange(-0.5, 0.5, 0.1)"
   ]
  },
  {
   "cell_type": "code",
   "execution_count": 74,
   "metadata": {
    "collapsed": false
   },
   "outputs": [
    {
     "data": {
      "text/plain": [
       "array([ -5.00000000e-01,  -4.00000000e-01,  -3.00000000e-01,\n",
       "        -2.00000000e-01,  -1.00000000e-01,  -1.11022302e-16,\n",
       "         1.00000000e-01,   2.00000000e-01,   3.00000000e-01,\n",
       "         4.00000000e-01])"
      ]
     },
     "execution_count": 74,
     "metadata": {},
     "output_type": "execute_result"
    }
   ],
   "source": [
    "value # 마지막을 사용해야 좋은 결과를 얻을수 있다."
   ]
  },
  {
   "cell_type": "code",
   "execution_count": 75,
   "metadata": {
    "collapsed": true
   },
   "outputs": [],
   "source": [
    "def pull(value, k):\n",
    "    m = value[k]\n",
    "    return np.random.normal(m) # 평균이 m인 값을 하나 뽑는다. "
   ]
  },
  {
   "cell_type": "code",
   "execution_count": 76,
   "metadata": {
    "collapsed": false
   },
   "outputs": [
    {
     "data": {
      "text/plain": [
       "0.30417011807898897"
      ]
     },
     "execution_count": 76,
     "metadata": {},
     "output_type": "execute_result"
    }
   ],
   "source": [
    "pull(value,0)"
   ]
  },
  {
   "cell_type": "code",
   "execution_count": 77,
   "metadata": {
    "collapsed": false
   },
   "outputs": [
    {
     "data": {
      "text/plain": [
       "0.8868547641042559"
      ]
     },
     "execution_count": 77,
     "metadata": {},
     "output_type": "execute_result"
    }
   ],
   "source": [
    "pull(value,9)"
   ]
  },
  {
   "cell_type": "markdown",
   "metadata": {},
   "source": [
    "### Greedy method"
   ]
  },
  {
   "cell_type": "code",
   "execution_count": 78,
   "metadata": {
    "collapsed": true
   },
   "outputs": [],
   "source": [
    "rewards = np.zeros(10)\n",
    "actions = np.zeros(10)\n",
    "\n",
    "for k in range(10):\n",
    "    for _ in range(30):\n",
    "        reward = pull(value, k)\n",
    "        rewards[k] += reward\n",
    "        actions[k] += 1"
   ]
  },
  {
   "cell_type": "code",
   "execution_count": 79,
   "metadata": {
    "collapsed": false
   },
   "outputs": [
    {
     "data": {
      "text/plain": [
       "array([ -8.91032737, -17.4061849 ,  -7.81611825,  -7.28197513,\n",
       "        -8.01736232,   4.34165278,   6.43962233,   2.94215618,\n",
       "         4.91723147,   6.15394728])"
      ]
     },
     "execution_count": 79,
     "metadata": {},
     "output_type": "execute_result"
    }
   ],
   "source": [
    "rewards"
   ]
  },
  {
   "cell_type": "code",
   "execution_count": 80,
   "metadata": {
    "collapsed": false
   },
   "outputs": [
    {
     "data": {
      "text/plain": [
       "array([ 30.,  30.,  30.,  30.,  30.,  30.,  30.,  30.,  30.,  30.])"
      ]
     },
     "execution_count": 80,
     "metadata": {},
     "output_type": "execute_result"
    }
   ],
   "source": [
    "actions"
   ]
  },
  {
   "cell_type": "code",
   "execution_count": 81,
   "metadata": {
    "collapsed": true
   },
   "outputs": [],
   "source": [
    "max_k = np.argmax(rewards)"
   ]
  },
  {
   "cell_type": "code",
   "execution_count": 82,
   "metadata": {
    "collapsed": false
   },
   "outputs": [
    {
     "data": {
      "text/plain": [
       "6"
      ]
     },
     "execution_count": 82,
     "metadata": {},
     "output_type": "execute_result"
    }
   ],
   "source": [
    "max_k"
   ]
  },
  {
   "cell_type": "code",
   "execution_count": 83,
   "metadata": {
    "collapsed": true
   },
   "outputs": [],
   "source": [
    "for _ in range(700):\n",
    "    reward = pull(value, max_k)\n",
    "    rewards[max_k] += reward\n",
    "    actions[k] += 1    "
   ]
  },
  {
   "cell_type": "code",
   "execution_count": 85,
   "metadata": {
    "collapsed": false
   },
   "outputs": [
    {
     "data": {
      "text/plain": [
       "array([ -8.91032737, -17.4061849 ,  -7.81611825,  -7.28197513,\n",
       "        -8.01736232,   4.34165278,  66.45841155,   2.94215618,\n",
       "         4.91723147,   6.15394728])"
      ]
     },
     "execution_count": 85,
     "metadata": {},
     "output_type": "execute_result"
    }
   ],
   "source": [
    "rewards"
   ]
  },
  {
   "cell_type": "code",
   "execution_count": 84,
   "metadata": {
    "collapsed": false
   },
   "outputs": [
    {
     "data": {
      "text/plain": [
       "35.381431284533846"
      ]
     },
     "execution_count": 84,
     "metadata": {},
     "output_type": "execute_result"
    }
   ],
   "source": [
    "rewards.sum()"
   ]
  },
  {
   "cell_type": "markdown",
   "metadata": {},
   "source": [
    "### 입실론-그리디 법\n",
    " - epsilon-greedy method\n",
    " - 기본적으로는 그리디 법과 동일\n",
    " - 일정 확률(입실론, epsilon)을 정해서 그만큼만 무작위로 탐색\n",
    "  - 다른 고개들에는 90%에는 그리디 중에 좋았던 걸 보여주고, 10%에는 실험적인 디자인을 보여준다.\n",
    " - 시간이 충분히 지나면 가장 좋은 답으로 수렴\n",
    "![img9](img/0513/9.PNG)"
   ]
  },
  {
   "cell_type": "markdown",
   "metadata": {},
   "source": [
    "### Epsilon-Greedy method"
   ]
  },
  {
   "cell_type": "code",
   "execution_count": 86,
   "metadata": {
    "collapsed": true
   },
   "outputs": [],
   "source": [
    "epsilon = 0.3"
   ]
  },
  {
   "cell_type": "code",
   "execution_count": 89,
   "metadata": {
    "collapsed": true
   },
   "outputs": [],
   "source": [
    "rewards = np.zeros(10)\n",
    "actions = np.zeros(10)\n",
    "\n",
    "for _ in range(1000):\n",
    "    if np.random.uniform() < epsilon: # exploaration\n",
    "        k = np.random.choice(range(10))\n",
    "    else: # exploitation\n",
    "        tmp_rewards = np.divide(rewards,actions)\n",
    "        k = np.argmax(tmp_rewards)\n",
    "    \n",
    "    reward = pull(value, k)\n",
    "    rewards[k] += reward\n",
    "    actions[k] += 1"
   ]
  },
  {
   "cell_type": "code",
   "execution_count": 90,
   "metadata": {
    "collapsed": false
   },
   "outputs": [
    {
     "data": {
      "text/plain": [
       "218.450998005766"
      ]
     },
     "execution_count": 90,
     "metadata": {},
     "output_type": "execute_result"
    }
   ],
   "source": [
    "rewards.sum()"
   ]
  }
 ],
 "metadata": {
  "anaconda-cloud": {},
  "kernelspec": {
   "display_name": "Python [py35]",
   "language": "python",
   "name": "Python [py35]"
  },
  "language_info": {
   "codemirror_mode": {
    "name": "ipython",
    "version": 3
   },
   "file_extension": ".py",
   "mimetype": "text/x-python",
   "name": "python",
   "nbconvert_exporter": "python",
   "pygments_lexer": "ipython3",
   "version": "3.5.2"
  }
 },
 "nbformat": 4,
 "nbformat_minor": 0
}
