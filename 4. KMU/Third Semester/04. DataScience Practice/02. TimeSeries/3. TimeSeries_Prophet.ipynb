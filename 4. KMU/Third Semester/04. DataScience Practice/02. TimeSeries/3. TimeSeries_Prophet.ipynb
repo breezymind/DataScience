{
 "cells": [
  {
   "cell_type": "markdown",
   "metadata": {},
   "source": [
    "# 3. TimeSeries_Prophet "
   ]
  },
  {
   "cell_type": "code",
   "execution_count": 1,
   "metadata": {
    "collapsed": true
   },
   "outputs": [],
   "source": [
    "beverage <- read.csv(\"2week/beverage.csv\")"
   ]
  },
  {
   "cell_type": "code",
   "execution_count": 2,
   "metadata": {
    "collapsed": false
   },
   "outputs": [
    {
     "data": {
      "text/html": [
       "<table>\n",
       "<thead><tr><th></th><th scope=col>date</th><th scope=col>shipment</th></tr></thead>\n",
       "<tbody>\n",
       "\t<tr><th scope=row>1</th><td>1992-01</td><td>3519   </td></tr>\n",
       "\t<tr><th scope=row>2</th><td>1992-02</td><td>3803   </td></tr>\n",
       "\t<tr><th scope=row>3</th><td>1992-03</td><td>4332   </td></tr>\n",
       "\t<tr><th scope=row>4</th><td>1992-04</td><td>4251   </td></tr>\n",
       "\t<tr><th scope=row>5</th><td>1992-05</td><td>4661   </td></tr>\n",
       "\t<tr><th scope=row>6</th><td>1992-06</td><td>4811   </td></tr>\n",
       "</tbody>\n",
       "</table>\n"
      ],
      "text/latex": [
       "\\begin{tabular}{r|ll}\n",
       "  & date & shipment\\\\\n",
       "\\hline\n",
       "\t1 & 1992-01 & 3519   \\\\\n",
       "\t2 & 1992-02 & 3803   \\\\\n",
       "\t3 & 1992-03 & 4332   \\\\\n",
       "\t4 & 1992-04 & 4251   \\\\\n",
       "\t5 & 1992-05 & 4661   \\\\\n",
       "\t6 & 1992-06 & 4811   \\\\\n",
       "\\end{tabular}\n"
      ],
      "text/plain": [
       "     date shipment\n",
       "1 1992-01     3519\n",
       "2 1992-02     3803\n",
       "3 1992-03     4332\n",
       "4 1992-04     4251\n",
       "5 1992-05     4661\n",
       "6 1992-06     4811"
      ]
     },
     "metadata": {},
     "output_type": "display_data"
    }
   ],
   "source": [
    "head(beverage)"
   ]
  },
  {
   "cell_type": "markdown",
   "metadata": {},
   "source": [
    "# ARIMA "
   ]
  },
  {
   "cell_type": "code",
   "execution_count": 3,
   "metadata": {
    "collapsed": false
   },
   "outputs": [
    {
     "data": {
      "text/plain": [
       "\n",
       "Call:\n",
       "arima(x = beverage$shipment, order = c(1, 1, 0))\n",
       "\n",
       "Coefficients:\n",
       "          ar1\n",
       "      -0.0450\n",
       "s.e.   0.0749\n",
       "\n",
       "sigma^2 estimated as 107331:  log likelihood = -1290.73,  aic = 2585.46"
      ]
     },
     "metadata": {},
     "output_type": "display_data"
    }
   ],
   "source": [
    "arima(beverage$shipment, c(1,1,0)) # p =1, d = 1, q = 0 // 1차 차분이 전월에 영향을 받는다. "
   ]
  },
  {
   "cell_type": "markdown",
   "metadata": {},
   "source": [
    " - 계절효과 \n",
    "  - 아래 코드를 기준으로 보면 12개월마다 영향을 받는데, 오차가 영향(MA), 값 자체가 (AR)  => MA(1) 1개월 전 이전 기간의 오차가 영향"
   ]
  },
  {
   "cell_type": "code",
   "execution_count": 4,
   "metadata": {
    "collapsed": true
   },
   "outputs": [],
   "source": [
    "m.a <- arima(beverage$shipment, c(1,1,0),\n",
    "            seasonal= list(order=c(0,0,1), period = 12)) # 계절효과가 12개월 단위로 MA(1) "
   ]
  },
  {
   "cell_type": "code",
   "execution_count": 5,
   "metadata": {
    "collapsed": false
   },
   "outputs": [
    {
     "data": {
      "text/plain": [
       "\n",
       "Call:\n",
       "arima(x = beverage$shipment, order = c(1, 1, 0), seasonal = list(order = c(0, \n",
       "    0, 1), period = 12))\n",
       "\n",
       "Coefficients:\n",
       "          ar1    sma1\n",
       "      -0.1696  0.7150\n",
       "s.e.   0.0758  0.0551\n",
       "\n",
       "sigma^2 estimated as 56511:  log likelihood = -1237.62,  aic = 2481.25"
      ]
     },
     "metadata": {},
     "output_type": "display_data"
    }
   ],
   "source": [
    "m.a # 작년 영향도에 70% 정도 영향을 받는다. "
   ]
  },
  {
   "cell_type": "markdown",
   "metadata": {},
   "source": [
    " - ARIMA도 장기 트랜드를 없애버리는 기법이라, 장기적으로 미래에 어떤일이 일어날지 예측 할 수 없는 모델이다. "
   ]
  },
  {
   "cell_type": "markdown",
   "metadata": {},
   "source": [
    "## Dynamic Linear Model \n",
    " - 기본 함수 lm을 사용 "
   ]
  },
  {
   "cell_type": "markdown",
   "metadata": {},
   "source": [
    "|y|x|\n",
    "|--|--|\n",
    "|92.2월|92.3월|\n",
    "|92.3월|92.4월| \n",
    "\n",
    "- 위와 같은 형태로 만든다. "
   ]
  },
  {
   "cell_type": "code",
   "execution_count": 6,
   "metadata": {
    "collapsed": true
   },
   "outputs": [],
   "source": [
    "n <- length(beverage$shipment)\n",
    "df = data.frame(y=beverage$shipment[-1], x=beverage$shipment[-n])"
   ]
  },
  {
   "cell_type": "code",
   "execution_count": 7,
   "metadata": {
    "collapsed": true
   },
   "outputs": [],
   "source": [
    "m1 <- lm(y~x, df)"
   ]
  },
  {
   "cell_type": "code",
   "execution_count": 8,
   "metadata": {
    "collapsed": false
   },
   "outputs": [
    {
     "data": {
      "text/plain": [
       "\n",
       "Call:\n",
       "lm(formula = y ~ x, data = df)\n",
       "\n",
       "Coefficients:\n",
       "(Intercept)            x  \n",
       "   519.3468       0.9037  \n"
      ]
     },
     "metadata": {},
     "output_type": "display_data"
    }
   ],
   "source": [
    "m1"
   ]
  },
  {
   "cell_type": "markdown",
   "metadata": {},
   "source": [
    "## dynlm 패키지 "
   ]
  },
  {
   "cell_type": "code",
   "execution_count": 12,
   "metadata": {
    "collapsed": false
   },
   "outputs": [
    {
     "name": "stderr",
     "output_type": "stream",
     "text": [
      "Warning message:\n",
      ": package 'dynlm' is not available (for R version 3.3.1)"
     ]
    }
   ],
   "source": [
    "install.packages(\"dynlm\",repos=\"http://flr-project.org/R\")"
   ]
  },
  {
   "cell_type": "code",
   "execution_count": 14,
   "metadata": {
    "collapsed": false
   },
   "outputs": [
    {
     "ename": "ERROR",
     "evalue": "Error in library(dynlm): there is no package called 'dynlm'\n",
     "output_type": "error",
     "traceback": [
      "Error in library(dynlm): there is no package called 'dynlm'\nTraceback:\n",
      "1. library(dynlm)",
      "2. stop(txt, domain = NA)"
     ]
    }
   ],
   "source": [
    "library(dynlm)"
   ]
  },
  {
   "cell_type": "code",
   "execution_count": null,
   "metadata": {
    "collapsed": true
   },
   "outputs": [],
   "source": []
  }
 ],
 "metadata": {
  "anaconda-cloud": {},
  "kernelspec": {
   "display_name": "R 3.3",
   "language": "R",
   "name": "ir33"
  },
  "language_info": {
   "codemirror_mode": "r",
   "file_extension": ".r",
   "mimetype": "text/x-r-source",
   "name": "R",
   "pygments_lexer": "r",
   "version": "3.3.1"
  }
 },
 "nbformat": 4,
 "nbformat_minor": 0
}
