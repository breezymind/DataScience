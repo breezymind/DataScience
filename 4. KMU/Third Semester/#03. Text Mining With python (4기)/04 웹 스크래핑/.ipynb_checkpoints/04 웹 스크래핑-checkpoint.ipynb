{
 "cells": [
  {
   "cell_type": "markdown",
   "metadata": {},
   "source": [
    "# GET"
   ]
  },
  {
   "cell_type": "code",
   "execution_count": 2,
   "metadata": {
    "collapsed": true
   },
   "outputs": [],
   "source": [
    "import requests"
   ]
  },
  {
   "cell_type": "code",
   "execution_count": 3,
   "metadata": {
    "collapsed": true
   },
   "outputs": [],
   "source": [
    "response = requests.get('http://www.naver.com')"
   ]
  },
  {
   "cell_type": "code",
   "execution_count": 4,
   "metadata": {
    "collapsed": false
   },
   "outputs": [
    {
     "data": {
      "text/plain": [
       "<Response [200]>"
      ]
     },
     "execution_count": 4,
     "metadata": {},
     "output_type": "execute_result"
    }
   ],
   "source": [
    "response"
   ]
  },
  {
   "cell_type": "markdown",
   "metadata": {},
   "source": [
    "200은 성공적으로 웹 페이지를 가져왔다는 뜻입니다"
   ]
  },
  {
   "cell_type": "code",
   "execution_count": 5,
   "metadata": {
    "collapsed": true
   },
   "outputs": [],
   "source": [
    "response = requests.get('http://j.mp/km-txt-slide')"
   ]
  },
  {
   "cell_type": "markdown",
   "metadata": {},
   "source": [
    "requests 라이브러리는 Redirection을 자동으로 처리해줍니다"
   ]
  },
  {
   "cell_type": "code",
   "execution_count": 6,
   "metadata": {
    "collapsed": false
   },
   "outputs": [
    {
     "data": {
      "text/plain": [
       "<Response [200]>"
      ]
     },
     "execution_count": 6,
     "metadata": {},
     "output_type": "execute_result"
    }
   ],
   "source": [
    "response"
   ]
  },
  {
   "cell_type": "code",
   "execution_count": 7,
   "metadata": {
    "collapsed": false
   },
   "outputs": [
    {
     "data": {
      "text/plain": [
       "'https://www.dropbox.com/sh/qnbmao4x0bjnf8p/AABB3Vb2SYez9PVe6-yR0THaa?dl=0'"
      ]
     },
     "execution_count": 7,
     "metadata": {},
     "output_type": "execute_result"
    }
   ],
   "source": [
    "response.url"
   ]
  },
  {
   "cell_type": "code",
   "execution_count": 8,
   "metadata": {
    "collapsed": false
   },
   "outputs": [
    {
     "data": {
      "text/plain": [
       "<Response [404]>"
      ]
     },
     "execution_count": 8,
     "metadata": {},
     "output_type": "execute_result"
    }
   ],
   "source": [
    "requests.get('http://www.naver.com/aaaaa')"
   ]
  },
  {
   "cell_type": "markdown",
   "metadata": {},
   "source": [
    "404는 존재하지 않는 주소를 나타내는 코드입니다"
   ]
  },
  {
   "cell_type": "code",
   "execution_count": 9,
   "metadata": {
    "collapsed": false
   },
   "outputs": [
    {
     "data": {
      "text/plain": [
       "<Response [200]>"
      ]
     },
     "execution_count": 9,
     "metadata": {},
     "output_type": "execute_result"
    }
   ],
   "source": [
    "requests.get('http://www.seoul.go.kr/v2007/sub/error.html')"
   ]
  },
  {
   "cell_type": "markdown",
   "metadata": {},
   "source": [
    "표준을 지키지 않는 경우 실제로 없는 페이지라도 200을 돌려주는 경우가 있습니다"
   ]
  },
  {
   "cell_type": "markdown",
   "metadata": {},
   "source": [
    "# 네이버 뉴스"
   ]
  },
  {
   "cell_type": "markdown",
   "metadata": {},
   "source": [
    "네이버 뉴스에서 \"알파고\"로 검색을 합니다"
   ]
  },
  {
   "cell_type": "code",
   "execution_count": 10,
   "metadata": {
    "collapsed": true
   },
   "outputs": [],
   "source": [
    "response = requests.get('http://news.naver.com/main/search/search.nhn?query=%BE%CB%C6%C4%B0%ED&ie=MS949&x=0&y=0')"
   ]
  },
  {
   "cell_type": "code",
   "execution_count": 11,
   "metadata": {
    "collapsed": false
   },
   "outputs": [
    {
     "data": {
      "text/plain": [
       "<Response [200]>"
      ]
     },
     "execution_count": 11,
     "metadata": {},
     "output_type": "execute_result"
    }
   ],
   "source": [
    "response"
   ]
  },
  {
   "cell_type": "markdown",
   "metadata": {},
   "source": [
    "응답의 인코딩을 cp949로 변경합니다"
   ]
  },
  {
   "cell_type": "code",
   "execution_count": 12,
   "metadata": {
    "collapsed": false
   },
   "outputs": [],
   "source": [
    "response.encoding = 'cp949'"
   ]
  },
  {
   "cell_type": "markdown",
   "metadata": {},
   "source": [
    "# HTML 처리"
   ]
  },
  {
   "cell_type": "code",
   "execution_count": 13,
   "metadata": {
    "collapsed": true
   },
   "outputs": [],
   "source": [
    "import lxml.html"
   ]
  },
  {
   "cell_type": "code",
   "execution_count": 14,
   "metadata": {
    "collapsed": false
   },
   "outputs": [],
   "source": [
    "root = lxml.html.fromstring(response.text)"
   ]
  },
  {
   "cell_type": "markdown",
   "metadata": {},
   "source": [
    "아래 코드는 Python 2에서 `print`를 Python 3와 같은 방식으로 하도록 변경합니다. Python 3에서는 아무 영향을 미치지 않습니다."
   ]
  },
  {
   "cell_type": "code",
   "execution_count": 15,
   "metadata": {
    "collapsed": true
   },
   "outputs": [],
   "source": [
    "from __future__ import print_function"
   ]
  },
  {
   "cell_type": "markdown",
   "metadata": {},
   "source": [
    "class가 tit인 a 태그를 모두 찾아, 하나씩 node라는 이름으로 처리합니다.\n",
    "각 노드의 텍스트와 href 속성을 출력합니다"
   ]
  },
  {
   "cell_type": "code",
   "execution_count": 16,
   "metadata": {
    "collapsed": false
   },
   "outputs": [
    {
     "name": "stdout",
     "output_type": "stream",
     "text": [
      "[리포트+] AI 혁명…한국에서 '알파고'를 만들 수 있는 방법 http://news.sbs.co.kr/news/endPage.do?news_id=N1003942142&plink=ORI&cooper=NAVER\n",
      "<스포츠10대뉴스> ② 바둑왕 이세돌 vs AI 알파고 '세기의 대국' http://app.yonhapnews.co.kr/YNA/Basic/SNS/r.aspx?c=AKR20161218015500007&did=1195m\n",
      "알파고에 놀라고… ‘불굴의 1승’ 이세돌에 반하고 http://news.donga.com/3/all/20161219/81922167/1\n",
      "한국 체육계 올해 톱 뉴스는 '최순실 게이트·김종 前 차관 몰락' http://www.kgnews.co.kr/news/articleView.html?idxno=468658\n",
      "네이버 올해 인기검색어 '최순실' '태양의후예' '알파고' '박보검' '복면가왕' '트와이스' '응답하라 1988' 등 http://www.ggilbo.com/news/articleView.html?idxno=330793\n",
      "포털3사 ‘올해의 검색어’ 그것을 알려드림 http://sports.khan.co.kr/news/sk_index.html?art_id=201612191928003&sec_id=560901&pt=nv\n",
      "바보야, 문제는 멀리 내다보는 거야 http://news.bookdb.co.kr/bdb/Column.do?_method=ColumnDetail&sc.webzNo=27917&Nnews\n",
      "[HD포토] \"대기실, 얼굴 알파고\"ㅣ'아스트로' 차은우 http://www.dispatch.co.kr/627411\n",
      "알파고·박인비 누른 ‘최순실 게이트’ http://news.ichannela.com/sports/3/05/20161219/81939114/2\n",
      "[월드리포트] 일본 연애상담 인공지능의 베스트 답변들 http://news.sbs.co.kr/news/endPage.do?news_id=N1003945029&plink=ORI&cooper=NAVER\n"
     ]
    }
   ],
   "source": [
    "for node in root.xpath('.//a[@class=\"tit\"]'):\n",
    "    print(node.text_content(), node.attrib['href'])"
   ]
  },
  {
   "cell_type": "code",
   "execution_count": 6,
   "metadata": {
    "collapsed": false
   },
   "outputs": [],
   "source": [
    "response = requests.get('http://clien.net/cs2/bbs/board.php?bo_table=news')"
   ]
  },
  {
   "cell_type": "code",
   "execution_count": 10,
   "metadata": {
    "collapsed": false
   },
   "outputs": [],
   "source": [
    "if response.encoding == 'ISO-8859-1':\n",
    "    response.encoding = 'cp949'"
   ]
  },
  {
   "cell_type": "code",
   "execution_count": 17,
   "metadata": {
    "collapsed": false
   },
   "outputs": [],
   "source": [
    "response.encoding = 'utf8'"
   ]
  },
  {
   "cell_type": "code",
   "execution_count": 18,
   "metadata": {
    "collapsed": false
   },
   "outputs": [],
   "source": [
    "root = lxml.html.fromstring(response.text)"
   ]
  },
  {
   "cell_type": "code",
   "execution_count": 20,
   "metadata": {
    "collapsed": false
   },
   "outputs": [],
   "source": [
    "root = lxml.html.fromstring(response.content.decode('utf8'))"
   ]
  },
  {
   "cell_type": "code",
   "execution_count": 23,
   "metadata": {
    "collapsed": true
   },
   "outputs": [],
   "source": [
    "from urllib.parse import urljoin"
   ]
  },
  {
   "cell_type": "code",
   "execution_count": null,
   "metadata": {
    "collapsed": true
   },
   "outputs": [],
   "source": [
    "urljoin"
   ]
  },
  {
   "cell_type": "code",
   "execution_count": 42,
   "metadata": {
    "collapsed": false
   },
   "outputs": [
    {
     "name": "stdout",
     "output_type": "stream",
     "text": [
      "1\n",
      "2\n",
      "3\n",
      "4\n",
      "5\n",
      "6\n",
      "7\n",
      "8\n",
      "9\n"
     ]
    }
   ],
   "source": [
    "for i in range(1,10):\n",
    "    print(i)"
   ]
  },
  {
   "cell_type": "code",
   "execution_count": 38,
   "metadata": {
    "collapsed": true
   },
   "outputs": [],
   "source": [
    "board_url = 'http://clien.net/cs2/bbs/board.php?bo_table=news'\n",
    "subject_path = './/td[@class=\"post_subject\"]/a'"
   ]
  },
  {
   "cell_type": "code",
   "execution_count": 61,
   "metadata": {
    "collapsed": false
   },
   "outputs": [],
   "source": [
    "with open('clien.csv', 'w', encoding='utf8') as f:\n",
    "    w = csv.writer(f)\n",
    "    for page in range(1, 3):\n",
    "        page_url = board_url + '&page={}'.format(page)\n",
    "        for 링크 in extract(page_url, subject_path):\n",
    "            제목 = 링크.text_content()\n",
    "            url = 링크.attrib['href']\n",
    "            절대주소 = urljoin(board_url, url)\n",
    "            본문 = extract(절대주소, './/div[@id=\"resContents\"]')[0]\n",
    "            w.writerow([제목, 절대주소, 본문.text_content()])"
   ]
  },
  {
   "cell_type": "code",
   "execution_count": 60,
   "metadata": {
    "collapsed": false
   },
   "outputs": [
    {
     "data": {
      "text/plain": [
       "\"\\n\\t\\t\\t\\t\\t\\t\\n\\t\\t   \\r\\n\\t운영자입니다.\\r\\n\\r\\n\\t\\xa0\\r\\n\\r\\n\\t새소식게시판에 리플 작성시 포인트가 50점 소진되도록 적용하였습니다.\\r\\n\\r\\n\\t\\xa0\\r\\n\\r\\n\\t보다 신중하게 리플을 작성할 수 있기를 기대합니다.... 만\\r\\n\\r\\n\\t\\xa0\\r\\n\\r\\n\\t의도대로 될지는 상황을 좀 더 지켜보도록 하겠습니다.\\r\\n\\r\\n\\t\\xa0\\r\\n\\r\\n\\t\\xa0\\r\\n\\r\\n\\t리플작성시 한번 더 생각하고 신중하게 의견을 개진해주셨으면 합니다.\\r\\n\\r\\n\\t\\xa0\\r\\n\\r\\n\\t* 출처 : 나\\r\\n\\n\\n\\n\\n\\t\\t    \\n\\t\\t\\t\\t'이상'은 밤하늘의 별과 같아서...\\r\\n눈 앞에 있어도 손으로는 잡을 수 없는 건가 봅니다.\\r\\n\\r\\n언젠간...\\r\\n잡을수 있기를...\\n\\t\\t\\t\\n        \\n        \\t\\t\\n\\t\\t\\n        \\n                                \\n\\t\\t\\n        \\t\\t\\t\""
      ]
     },
     "execution_count": 60,
     "metadata": {},
     "output_type": "execute_result"
    }
   ],
   "source": [
    "본문.text_content()"
   ]
  },
  {
   "cell_type": "markdown",
   "metadata": {},
   "source": [
    "# 파일 다루기"
   ]
  },
  {
   "cell_type": "code",
   "execution_count": 56,
   "metadata": {
    "collapsed": true
   },
   "outputs": [],
   "source": [
    "import csv"
   ]
  },
  {
   "cell_type": "code",
   "execution_count": 57,
   "metadata": {
    "collapsed": false
   },
   "outputs": [],
   "source": [
    "with open('clien.csv', 'w') as f:\n",
    "    w = csv.writer(f)\n",
    "    w.writerow([1,2,3])"
   ]
  },
  {
   "cell_type": "code",
   "execution_count": 53,
   "metadata": {
    "collapsed": false
   },
   "outputs": [
    {
     "data": {
      "text/plain": [
       "2"
      ]
     },
     "execution_count": 53,
     "metadata": {},
     "output_type": "execute_result"
    }
   ],
   "source": []
  },
  {
   "cell_type": "code",
   "execution_count": 54,
   "metadata": {
    "collapsed": true
   },
   "outputs": [],
   "source": [
    "f.close()"
   ]
  },
  {
   "cell_type": "markdown",
   "metadata": {},
   "source": [
    "# 리스트"
   ]
  },
  {
   "cell_type": "markdown",
   "metadata": {},
   "source": [
    "Python에서는 여러 값을 다룰 때 리스트(list)라는 자료형을 사용합니다. R에서 벡터와 비슷합니다.\n",
    "\n",
    "아래 코드는 a라는 변수에 99, 48, 21, 102, 54 다섯 가지 수를 가지는 리스트를 저장합니다"
   ]
  },
  {
   "cell_type": "code",
   "execution_count": 19,
   "metadata": {
    "collapsed": true
   },
   "outputs": [],
   "source": [
    "a = [99, 48, 21, 102, 54]"
   ]
  },
  {
   "cell_type": "markdown",
   "metadata": {},
   "source": [
    "## 인덱싱(indexing)"
   ]
  },
  {
   "cell_type": "code",
   "execution_count": 20,
   "metadata": {
    "collapsed": false
   },
   "outputs": [
    {
     "data": {
      "text/plain": [
       "99"
      ]
     },
     "execution_count": 20,
     "metadata": {},
     "output_type": "execute_result"
    }
   ],
   "source": [
    "a[0]"
   ]
  },
  {
   "cell_type": "markdown",
   "metadata": {},
   "source": [
    "## 슬라이싱(slicing)"
   ]
  },
  {
   "cell_type": "code",
   "execution_count": 21,
   "metadata": {
    "collapsed": false
   },
   "outputs": [
    {
     "data": {
      "text/plain": [
       "[48, 21]"
      ]
     },
     "execution_count": 21,
     "metadata": {},
     "output_type": "execute_result"
    }
   ],
   "source": [
    "a[1:3]"
   ]
  },
  {
   "cell_type": "markdown",
   "metadata": {},
   "source": [
    "# 반복\n",
    "\n",
    "for문은 리스트의 값들을 순서대로 하나씩 처리합니다"
   ]
  },
  {
   "cell_type": "code",
   "execution_count": 25,
   "metadata": {
    "collapsed": false
   },
   "outputs": [
    {
     "name": "stdout",
     "output_type": "stream",
     "text": [
      "4\n",
      "3\n",
      "1\n",
      "2\n",
      "4\n"
     ]
    }
   ],
   "source": [
    "for i in a:\n",
    "    print(i % 5)  # i를 5으로 나눈 나머지를 출력"
   ]
  },
  {
   "cell_type": "code",
   "execution_count": 36,
   "metadata": {
    "collapsed": true
   },
   "outputs": [],
   "source": [
    "def extract(url, path):\n",
    "    res = requests.get(url)\n",
    "    res.encoding = 'utf8'\n",
    "    root = lxml.html.fromstring(res.text)\n",
    "    return root.xpath(path)"
   ]
  },
  {
   "cell_type": "code",
   "execution_count": 30,
   "metadata": {
    "collapsed": false
   },
   "outputs": [
    {
     "name": "stdout",
     "output_type": "stream",
     "text": [
      "19\n"
     ]
    }
   ],
   "source": [
    "extract()"
   ]
  },
  {
   "cell_type": "code",
   "execution_count": 31,
   "metadata": {
    "collapsed": true
   },
   "outputs": [],
   "source": [
    "def inc(x):\n",
    "    return x + 1"
   ]
  },
  {
   "cell_type": "code",
   "execution_count": 32,
   "metadata": {
    "collapsed": false
   },
   "outputs": [
    {
     "data": {
      "text/plain": [
       "4"
      ]
     },
     "execution_count": 32,
     "metadata": {},
     "output_type": "execute_result"
    }
   ],
   "source": [
    "inc(3)"
   ]
  },
  {
   "cell_type": "code",
   "execution_count": 33,
   "metadata": {
    "collapsed": true
   },
   "outputs": [],
   "source": [
    "z = inc(3)"
   ]
  },
  {
   "cell_type": "code",
   "execution_count": 62,
   "metadata": {
    "collapsed": false
   },
   "outputs": [
    {
     "data": {
      "text/plain": [
       "<Response [200]>"
      ]
     },
     "execution_count": 62,
     "metadata": {},
     "output_type": "execute_result"
    }
   ],
   "source": [
    "requests.get('http://www.bobaedream.co.kr/list?code=battle')"
   ]
  },
  {
   "cell_type": "code",
   "execution_count": 63,
   "metadata": {
    "collapsed": false
   },
   "outputs": [
    {
     "data": {
      "text/plain": [
       "<Response [200]>"
      ]
     },
     "execution_count": 63,
     "metadata": {},
     "output_type": "execute_result"
    }
   ],
   "source": [
    "requests.get('http://mlbpark.donga.com/mlbpark/b.php?b=mlbtown')"
   ]
  },
  {
   "cell_type": "code",
   "execution_count": null,
   "metadata": {
    "collapsed": true
   },
   "outputs": [],
   "source": []
  }
 ],
 "metadata": {
  "anaconda-cloud": {},
  "kernelspec": {
   "display_name": "Python [work]",
   "language": "python",
   "name": "Python [work]"
  },
  "language_info": {
   "codemirror_mode": {
    "name": "ipython",
    "version": 3
   },
   "file_extension": ".py",
   "mimetype": "text/x-python",
   "name": "python",
   "nbconvert_exporter": "python",
   "pygments_lexer": "ipython3",
   "version": "3.5.2"
  }
 },
 "nbformat": 4,
 "nbformat_minor": 0
}
