{
 "cells": [
  {
   "cell_type": "markdown",
   "metadata": {},
   "source": [
    "# Beautifulsoup & Requests \n",
    " - Crawling을 위해서는 기본적으로 웹에서 데이터를 요청하고 요청한 데이터를 받는다 라는 것을 이해하고 있어야한다.\n",
    " - 데이터를 달라고 요청하는 것이 우선, 그 다음이 요청한 데이터를 받아서 우리가 하고 싶은 일들을 하는 것이다. \n",
    " - 우선 데이터를 요청하는 라이브러리부터 학습하겠다."
   ]
  },
  {
   "cell_type": "markdown",
   "metadata": {},
   "source": [
    "## 1. Requests"
   ]
  },
  {
   "cell_type": "code",
   "execution_count": 1,
   "metadata": {
    "collapsed": true
   },
   "outputs": [],
   "source": [
    "import requests"
   ]
  },
  {
   "cell_type": "markdown",
   "metadata": {},
   "source": [
    " - 일반적인 웹 사이트의 header의 정보를 입력하지 않아도 내용을 가지고 올 수 있으나, tistory의 경우 브라우저에 따라 데이터를 접근할 수 있고 없고를 구분하는 것으로 볼 수 있다.\n",
    " - Response 403 : Forbidden\n",
    "  - 접근 제한.\n",
    "  - 이전의 Crawling Post에 Status Code를 업로드 해놓았음.\n",
    "  - <a href='http://jtoday.tistory.com/84'> 이전 Post </a>"
   ]
  },
  {
   "cell_type": "code",
   "execution_count": 8,
   "metadata": {},
   "outputs": [
    {
     "data": {
      "text/plain": [
       "<Response [403]>"
      ]
     },
     "execution_count": 8,
     "metadata": {},
     "output_type": "execute_result"
    }
   ],
   "source": [
    "url = 'http://jtoday.tistory.com/80'\n",
    "res = requests.get(url)\n",
    "res"
   ]
  },
  {
   "cell_type": "code",
   "execution_count": 9,
   "metadata": {},
   "outputs": [
    {
     "data": {
      "text/plain": [
       "<Response [200]>"
      ]
     },
     "execution_count": 9,
     "metadata": {},
     "output_type": "execute_result"
    }
   ],
   "source": [
    "res = requests.get(url, headers = header)\n",
    "res"
   ]
  },
  {
   "cell_type": "code",
   "execution_count": 13,
   "metadata": {},
   "outputs": [
    {
     "data": {
      "text/plain": [
       "{'X-UA-Compatible': 'IE=Edge', 'Set-Cookie': 'visited=1505130443; path=/; domain=jtoday.tistory.com', 'Server': 'Apache', 'Access-Control-Allow-Origin': 'http://jtoday.tistory.com', 'Connection': 'Keep-Alive', 'Content-Length': '17107', 'Keep-Alive': 'timeout=5, max=92', 'Content-Encoding': 'gzip', 'Content-Type': 'text/html; charset=utf-8', 'P3P': \"CP='ALL DSP COR MON LAW OUR LEG DEL'\", 'Date': 'Mon, 11 Sep 2017 11:47:23 GMT', 'Expires': 'Thu, 19 Nov 1981 08:52:00 GMT', 'Vary': 'Accept-Encoding', 'Cache-Control': 'no-store, no-cache, must-revalidate, post-check=0, pre-check=0', 'Pragma': 'no-cache'}"
      ]
     },
     "execution_count": 13,
     "metadata": {},
     "output_type": "execute_result"
    }
   ],
   "source": [
    "res.headers # 이와 같이 res. 이후 Tap을 사용하게 되면 response 객체 내 어떠한 내용을 담고 있는지 확인 할 수 있다."
   ]
  },
  {
   "cell_type": "code",
   "execution_count": 14,
   "metadata": {},
   "outputs": [
    {
     "data": {
      "text/plain": [
       "'http://jtoday.tistory.com/80'"
      ]
     },
     "execution_count": 14,
     "metadata": {},
     "output_type": "execute_result"
    }
   ],
   "source": [
    "res.url"
   ]
  },
  {
   "cell_type": "code",
   "execution_count": 15,
   "metadata": {},
   "outputs": [
    {
     "data": {
      "text/plain": [
       "'utf-8'"
      ]
     },
     "execution_count": 15,
     "metadata": {},
     "output_type": "execute_result"
    }
   ],
   "source": [
    "res.encoding # Encoding 정보 "
   ]
  },
  {
   "cell_type": "code",
   "execution_count": 16,
   "metadata": {},
   "outputs": [
    {
     "data": {
      "text/plain": [
       "200"
      ]
     },
     "execution_count": 16,
     "metadata": {},
     "output_type": "execute_result"
    }
   ],
   "source": [
    "res.status_code # 이 정보를 통해 Automated Crawling 을 만들게 되면 Request 성공 여부를 구분하여 만들면 된다."
   ]
  },
  {
   "cell_type": "code",
   "execution_count": 18,
   "metadata": {
    "scrolled": false
   },
   "outputs": [
    {
     "data": {
      "text/plain": [
       "'<!doctype html>\\n<html lang=\"ko\">\\n\\n\\n<head>\\n<link rel=\"stylesheet\" type=\"text/css\" href=\"//t1.daumcdn.'"
      ]
     },
     "execution_count": 18,
     "metadata": {},
     "output_type": "execute_result"
    }
   ],
   "source": [
    "res.text[:100] # .text를 통해 html 태그를 String 형태로 확인 할 수 있다."
   ]
  },
  {
   "cell_type": "markdown",
   "metadata": {},
   "source": [
    "## 웹 동작, GET과 POST\n",
    "\n",
    " - GET : 서버의 자원을 요청할 때 즉, 영어 어원 그대로 무엇인가를 받을 때 사용한다. \n",
    " - POST : 서버에 자원을 추가할 때 이 또한 Posting 한다와 같은 의미라고 생각하면 된다.\n",
    " - 정보를 획득할 때나 업로드 할 경우 둘다 사용자는 데이터를 제공하고 그것을 통해 해당 정보를 업로드하거나 획득하게 된다.\n",
    " - GET \n",
    "  - Idx = 3 인 정보를 테이블에서 가지고 와 주세요.\n",
    " - POST\n",
    "  - Bookid = 3, title = '월스트리트저널 인포그래픽 가이드', author = '도나 M.윙' 의 정보를 입력해주세요. \n",
    " - 주거나 또는 받거나의 행동이지만 Crawling 은 동일한 방법으로 수행 할 수 있다."
   ]
  },
  {
   "cell_type": "markdown",
   "metadata": {},
   "source": [
    "### GET"
   ]
  },
  {
   "cell_type": "code",
   "execution_count": 20,
   "metadata": {
    "collapsed": true
   },
   "outputs": [],
   "source": [
    "get_data = {'idx':3}\n",
    "url = 'http://tistory.com'\n",
    "res = requests.get(url,params=get_data)"
   ]
  },
  {
   "cell_type": "markdown",
   "metadata": {},
   "source": [
    "### POST"
   ]
  },
  {
   "cell_type": "code",
   "execution_count": null,
   "metadata": {
    "collapsed": true
   },
   "outputs": [],
   "source": [
    "post_data = {'bookid':4, 'title':'월스트리트저널 인포그래픽 가이드', 'author'='도나 M.윙'}\n",
    "res = requests.post(url, data=post_data) # 와 같은 방법으로 수행하면 된다."
   ]
  },
  {
   "cell_type": "markdown",
   "metadata": {},
   "source": [
    "## 2. BeautifulSoup \n",
    " - 위의 Requests 를 통해 받은 정보를 사용자가 읽기 쉽게 원하는 데이터를 뽑기 위해 사용하는 HTML Parser 다."
   ]
  },
  {
   "cell_type": "code",
   "execution_count": 27,
   "metadata": {
    "collapsed": true
   },
   "outputs": [],
   "source": [
    "from bs4 import BeautifulSoup"
   ]
  },
  {
   "cell_type": "code",
   "execution_count": 23,
   "metadata": {},
   "outputs": [
    {
     "data": {
      "text/plain": [
       "<Response [200]>"
      ]
     },
     "execution_count": 23,
     "metadata": {},
     "output_type": "execute_result"
    }
   ],
   "source": [
    "url = 'https://www.clien.net/service/group/board_all'\n",
    "get_data = {'od':'T33'}\n",
    "res = requests.get(url, params=get_data)\n",
    "res"
   ]
  },
  {
   "cell_type": "markdown",
   "metadata": {},
   "source": [
    " - 이렇게 본다면 알아 보기도 힘들고 내가 원하는 정보를 볼 수도 없다.\n",
    " - 속성부터 CSS, JS까지 모든 정보가 출력이 된다."
   ]
  },
  {
   "cell_type": "code",
   "execution_count": 24,
   "metadata": {},
   "outputs": [
    {
     "data": {
      "text/plain": [
       "'\\n\\n\\n<!DOCTYPE HTML>\\n<html lang=\"ko\">\\n<head>\\n\\t<title>클리앙 : 커뮤니티 전체</title>\\n\\t<meta name=\"description\" content=\"클리앙의 모든 커뮤니티 게시판 모음 입니다.\" />\\n\\t<meta name=\"robots\" content=\"noindex\">\\n\\t<meta charset=\"utf-8\">'"
      ]
     },
     "execution_count": 24,
     "metadata": {},
     "output_type": "execute_result"
    }
   ],
   "source": [
    "res.text[:200]"
   ]
  },
  {
   "cell_type": "code",
   "execution_count": 30,
   "metadata": {
    "scrolled": false
   },
   "outputs": [
    {
     "data": {
      "text/plain": [
       "bs4.BeautifulSoup"
      ]
     },
     "execution_count": 30,
     "metadata": {},
     "output_type": "execute_result"
    }
   ],
   "source": [
    "soup = BeautifulSoup(res.text, 'html.parser')\n",
    "type(soup)"
   ]
  },
  {
   "cell_type": "code",
   "execution_count": 38,
   "metadata": {},
   "outputs": [
    {
     "data": {
      "text/plain": [
       "str"
      ]
     },
     "execution_count": 38,
     "metadata": {},
     "output_type": "execute_result"
    }
   ],
   "source": [
    "type(soup.get_text()) # String 값으로 변환하여 가지고 온다."
   ]
  },
  {
   "cell_type": "code",
   "execution_count": 31,
   "metadata": {},
   "outputs": [
    {
     "data": {
      "text/plain": [
       "<title>클리앙 : 커뮤니티 전체</title>"
      ]
     },
     "execution_count": 31,
     "metadata": {},
     "output_type": "execute_result"
    }
   ],
   "source": [
    "soup.title"
   ]
  },
  {
   "cell_type": "markdown",
   "metadata": {},
   "source": [
    "### 아래의 목록에서 제목만 추출해보고 싶다.\n",
    " - 우선 HTML을 꾸며주는 CSS의 특성을 알아봐야한다.\n",
    " - 특정 다양한 A라는 태그 중 몇몇개의 특정 패턴이 있는 태그만 새로운 꾸밈을 주고 싶을 때 사용하는 것이 class와 id 라는 속성이다.\n",
    "  - class : 동일한 이름의 속성을 여러곳에 사용할 수 있다.\n",
    "  - id : 단일의 태그 속성이다. 즉, 여러 태그 중 1곳에만 사용할 수 있다.\n",
    " - HTML은 계층형 구조를 가지고 있다. 부모가 있고 그 안에 자식들이 분포하고 있는 구조라 부모로 부터 자식으로 까지 순차적으로도 찾아 갈 수도 있다.\n",
    "![board1](./img/1.png)"
   ]
  },
  {
   "cell_type": "markdown",
   "metadata": {},
   "source": [
    "### find, find_all\n",
    " - soup를 통해 parser한 내용 중 찾고 싶은 것이 있다면?\n",
    " - find : 찾으려는 태그 중 첫번쨰 1개만 찾는다.\n",
    " - find_all : 찾으려는 태그와 속성을 가진 모든 태그를 찾는다."
   ]
  },
  {
   "cell_type": "code",
   "execution_count": 34,
   "metadata": {},
   "outputs": [
    {
     "data": {
      "text/plain": [
       "<a href=\"/service/\" title=\"클리앙홈 바로가기\"><i class=\"icon-clien_logo\"></i><span class=\"blind\">CLIEN</span></a>"
      ]
     },
     "execution_count": 34,
     "metadata": {},
     "output_type": "execute_result"
    }
   ],
   "source": [
    "soup.find('a') # 1개의 a 태그를 찾는다."
   ]
  },
  {
   "cell_type": "code",
   "execution_count": 36,
   "metadata": {
    "scrolled": false
   },
   "outputs": [
    {
     "data": {
      "text/plain": [
       "[<a href=\"/service/\" title=\"클리앙홈 바로가기\"><i class=\"icon-clien_logo\"></i><span class=\"blind\">CLIEN</span></a>,\n",
       " <a class=\"skip-to\" href=\"#div_content\">본문 바로가기</a>,\n",
       " <a class=\"skip-to\" href=\"#div_sidemenu\">메뉴 바로가기</a>,\n",
       " <a class=\"skip-to text-large\" href=\"javascript:;\">폰트크기변경</a>,\n",
       " <a class=\"skip-to button-dark-pc\" href=\"javascript:;\">색상반전보기</a>]"
      ]
     },
     "execution_count": 36,
     "metadata": {},
     "output_type": "execute_result"
    }
   ],
   "source": [
    "soup.find_all('a')[:5] # a 태그를 전부 찾고 Slice[5개만]"
   ]
  },
  {
   "cell_type": "markdown",
   "metadata": {},
   "source": [
    " - A 태그 중 class 값을 list-subject를 가진 태그를 찾고 싶다면?\n",
    " - find('태그',class_='class-Name') 를 수행"
   ]
  },
  {
   "cell_type": "code",
   "execution_count": 40,
   "metadata": {},
   "outputs": [
    {
     "data": {
      "text/plain": [
       "<a class=\"list-subject\" data-role=\"cut-string\" href=\"/service/board/rule/10707403?po=0&amp;od=T33&amp;sk=&amp;sv=&amp;category=&amp;groupCd=board_all&amp;articlePeriod=default\" style=\"display:block;\">\n",
       "\t\t\t\t\t\t\t\t\t\t\t\t\t\t\t\t사이트 이용규칙 (종합)\n",
       "\t\t\t\t\t\t\t</a>"
      ]
     },
     "execution_count": 40,
     "metadata": {},
     "output_type": "execute_result"
    }
   ],
   "source": [
    "soup.find('a', class_='list-subject')"
   ]
  },
  {
   "cell_type": "code",
   "execution_count": 42,
   "metadata": {
    "scrolled": false
   },
   "outputs": [
    {
     "data": {
      "text/plain": [
       "[<a class=\"list-subject\" data-role=\"cut-string\" href=\"/service/board/rule/10707403?po=0&amp;od=T33&amp;sk=&amp;sv=&amp;category=&amp;groupCd=board_all&amp;articlePeriod=default\" style=\"display:block;\">\n",
       " \t\t\t\t\t\t\t\t\t\t\t\t\t\t\t\t사이트 이용규칙 (종합)\n",
       " \t\t\t\t\t\t\t</a>,\n",
       " <a class=\"list-subject\" data-role=\"cut-string\" href=\"/service/board/park/11180253?po=0&amp;od=T33&amp;sk=&amp;sv=&amp;category=&amp;groupCd=board_all&amp;articlePeriod=default\" style=\"display:block;\">\n",
       " <span class=\"subject-shortname\">모공</span>\n",
       " \t\t\t\t\t\t\t\t\t\t\t\t\t\t\t[릴레이 33일차]장충기문자\n",
       " \t\t\t\t</a>]"
      ]
     },
     "execution_count": 42,
     "metadata": {},
     "output_type": "execute_result"
    }
   ],
   "source": [
    "soup.find_all('a', class_='list-subject')[:2]"
   ]
  },
  {
   "cell_type": "markdown",
   "metadata": {},
   "source": [
    "### 해당 태그의 제목 또는 속성만 가지고 오기 "
   ]
  },
  {
   "cell_type": "code",
   "execution_count": 64,
   "metadata": {},
   "outputs": [
    {
     "data": {
      "text/plain": [
       "'\\n\\t\\t\\t\\t\\t\\t\\t\\t\\t\\t\\t\\t\\t\\t\\t\\t사이트 이용규칙 (종합)\\n\\t\\t\\t\\t\\t\\t\\t'"
      ]
     },
     "execution_count": 64,
     "metadata": {},
     "output_type": "execute_result"
    }
   ],
   "source": [
    "soup.find_all('a', class_='list-subject')[0].text"
   ]
  },
  {
   "cell_type": "code",
   "execution_count": 65,
   "metadata": {},
   "outputs": [
    {
     "data": {
      "text/plain": [
       "'/service/board/rule/10707403?po=0&od=T33&sk=&sv=&category=&groupCd=board_all&articlePeriod=default'"
      ]
     },
     "execution_count": 65,
     "metadata": {},
     "output_type": "execute_result"
    }
   ],
   "source": [
    "soup.find_all('a', class_='list-subject')[0].attrs['href']"
   ]
  },
  {
   "cell_type": "code",
   "execution_count": 63,
   "metadata": {
    "scrolled": false
   },
   "outputs": [
    {
     "name": "stdout",
     "output_type": "stream",
     "text": [
      "사이트 이용규칙 (종합) \n",
      " 주소 www.client.com/service/board/rule/10707403?po=0&od=T33&sk=&sv=&category=&groupCd=board_all&articlePeriod=default\n",
      "[릴레이 33일차]장충기문자 \n",
      " 주소 www.client.com/service/board/park/11180253?po=0&od=T33&sk=&sv=&category=&groupCd=board_all&articlePeriod=default\n",
      "망가진 언론의 피해자.jpg \n",
      " 주소 www.client.com/service/board/park/11181973?po=0&od=T33&sk=&sv=&category=&groupCd=board_all&articlePeriod=default\n",
      "[펌] 한경오/정의당 : 우리 같은 진보 세력이잖아ㅠㅠ 도대체 왜 욕하는거야? \n",
      " 주소 www.client.com/service/board/park/11180188?po=0&od=T33&sk=&sv=&category=&groupCd=board_all&articlePeriod=default\n",
      "박정희 그놈 일본한테 뇌물 먹었어요. \n",
      " 주소 www.client.com/service/board/park/11180443?po=0&od=T33&sk=&sv=&category=&groupCd=board_all&articlePeriod=default\n",
      "조희연 \"특수학교, 양보할 수 있는 사안 아니다\" \n",
      " 주소 www.client.com/service/board/park/11179899?po=0&od=T33&sk=&sv=&category=&groupCd=board_all&articlePeriod=default\n",
      "장애인주차장 신고했더니 건물측이 신고자색출하겠다네요 \n",
      " 주소 www.client.com/service/board/park/11182268?po=0&od=T33&sk=&sv=&category=&groupCd=board_all&articlePeriod=default\n",
      "문재인 대통령이 된다고 지금까지 9년동안 해쳐먹은게 한번에 없어지고 \n",
      " 주소 www.client.com/service/board/park/11181081?po=0&od=T33&sk=&sv=&category=&groupCd=board_all&articlePeriod=default\n",
      "참여정부 시즌2로 몰고가려는게 너무 보이는게... \n",
      " 주소 www.client.com/service/board/park/11180923?po=0&od=T33&sk=&sv=&category=&groupCd=board_all&articlePeriod=default\n",
      "성주 주민의 \"광주가 이랬겠구나\"의 진실... \n",
      " 주소 www.client.com/service/board/park/11180675?po=0&od=T33&sk=&sv=&category=&groupCd=board_all&articlePeriod=default\n",
      "호남킬러 안철수 #안크나이트 \n",
      " 주소 www.client.com/service/board/park/11182182?po=0&od=T33&sk=&sv=&category=&groupCd=board_all&articlePeriod=default\n",
      "일평생 민족을 위하여 희생하신 위대한 박정희 각하의 업적(?)이 \n",
      " 주소 www.client.com/service/board/park/11180516?po=0&od=T33&sk=&sv=&category=&groupCd=board_all&articlePeriod=default\n",
      "참여정부 시즌2를 꿈꾸는 자들 (2) \n",
      " 주소 www.client.com/service/board/park/11181830?po=0&od=T33&sk=&sv=&category=&groupCd=board_all&articlePeriod=default\n",
      "[속보] 청와대 \"국회 무책임의 극치 반대를 위한 반대로 기록될 것\" \n",
      " 주소 www.client.com/service/board/park/11182017?po=0&od=T33&sk=&sv=&category=&groupCd=board_all&articlePeriod=default\n",
      "이정렬 전판사, 김이수 헌재소장 임명동의안 부결 관련 제안. \n",
      " 주소 www.client.com/service/board/park/11181772?po=0&od=T33&sk=&sv=&category=&groupCd=board_all&articlePeriod=default\n",
      "남문희 기자 “문통 몸부림, 국민이라면 가슴에 칼을 품고 새길 상황” \n",
      " 주소 www.client.com/service/board/park/11180374?po=0&od=T33&sk=&sv=&category=&groupCd=board_all&articlePeriod=default\n",
      "20세기를 사는 안빠 어그로들. \n",
      " 주소 www.client.com/service/board/park/11182642?po=0&od=T33&sk=&sv=&category=&groupCd=board_all&articlePeriod=default\n",
      "김이수 부결에 따른 이정렬판사 해법 \n",
      " 주소 www.client.com/service/board/park/11181851?po=0&od=T33&sk=&sv=&category=&groupCd=board_all&articlePeriod=default\n",
      "학교 폭력 대처법.jpg \n",
      " 주소 www.client.com/service/board/park/11182298?po=0&od=T33&sk=&sv=&category=&groupCd=board_all&articlePeriod=default\n",
      "추미애 분노의 페북글 \n",
      " 주소 www.client.com/service/board/park/11182755?po=0&od=T33&sk=&sv=&category=&groupCd=board_all&articlePeriod=default\n",
      "김빈 “김이수 부결, 호남민심 뒤통수 때리는 격…국민의당, 국민에 심판받을 것” \n",
      " 주소 www.client.com/service/board/park/11182126?po=0&od=T33&sk=&sv=&category=&groupCd=board_all&articlePeriod=default\n",
      "새소식카카오뱅크가 자사에 유리한 공인인증서를 쓰지 않는 이유 \n",
      " 주소 www.client.com/service/board/news/11180131?po=0&od=T33&sk=&sv=&category=&groupCd=board_all&articlePeriod=default\n",
      "오랜만에 한마디 해야겠군요. \n",
      " 주소 www.client.com/service/board/park/11182578?po=0&od=T33&sk=&sv=&category=&groupCd=board_all&articlePeriod=default\n",
      "부부싸움 화해하기류, 인터넷으로 배우지 마세요..........간곡히 부탁드립니다.. \n",
      " 주소 www.client.com/service/board/park/11182367?po=0&od=T33&sk=&sv=&category=&groupCd=board_all&articlePeriod=default\n",
      "허리케인 어마가 맺어준 인연.jpg \n",
      " 주소 www.client.com/service/board/park/11182216?po=0&od=T33&sk=&sv=&category=&groupCd=board_all&articlePeriod=default\n",
      "이낙연 총리 \"MBC, KBS 잘 안본다…더 공정한 채널 본다\" \n",
      " 주소 www.client.com/service/board/park/11182240?po=0&od=T33&sk=&sv=&category=&groupCd=board_all&articlePeriod=default\n",
      "이시각 전우용 역사학자 트윗.jpg \n",
      " 주소 www.client.com/service/board/park/11182070?po=0&od=T33&sk=&sv=&category=&groupCd=board_all&articlePeriod=default\n",
      "\"특수학교 양보할 사안 아냐\"…조희연, 예정대로 추진 시사 \n",
      " 주소 www.client.com/service/board/park/11181140?po=0&od=T33&sk=&sv=&category=&groupCd=board_all&articlePeriod=default\n",
      "뉴스) 민주당 \"적폐세력 2중대 노릇이 호남의 민심인가?\" \n",
      " 주소 www.client.com/service/board/park/11182383?po=0&od=T33&sk=&sv=&category=&groupCd=board_all&articlePeriod=default\n",
      "호남홀대 외친 국민의당, 전북 출신 헌재소장에 대거 반대표 \n",
      " 주소 www.client.com/service/board/park/11181586?po=0&od=T33&sk=&sv=&category=&groupCd=board_all&articlePeriod=default\n",
      "우원식, \"한국당, 대정부질문 참석 자격 없다\" \n",
      " 주소 www.client.com/service/board/park/11180370?po=0&od=T33&sk=&sv=&category=&groupCd=board_all&articlePeriod=default\n"
     ]
    }
   ],
   "source": [
    "for lists in soup.find_all('a', class_='list-subject'):\n",
    "    print(lists.text.replace('\\t','').replace('\\n','').replace('모공','') + \" \\n 주소 www.client.com\" + lists.attrs['href'])"
   ]
  }
 ],
 "metadata": {
  "kernelspec": {
   "display_name": "py35",
   "language": "python",
   "name": "py35"
  },
  "language_info": {
   "codemirror_mode": {
    "name": "ipython",
    "version": 3
   },
   "file_extension": ".py",
   "mimetype": "text/x-python",
   "name": "python",
   "nbconvert_exporter": "python",
   "pygments_lexer": "ipython3",
   "version": "3.5.3"
  }
 },
 "nbformat": 4,
 "nbformat_minor": 2
}
