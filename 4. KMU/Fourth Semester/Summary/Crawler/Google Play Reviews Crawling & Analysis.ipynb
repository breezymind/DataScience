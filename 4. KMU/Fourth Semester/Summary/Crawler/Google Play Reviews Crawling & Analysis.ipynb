{
 "cells": [
  {
   "cell_type": "markdown",
   "metadata": {},
   "source": [
    "# Google Play Reviews Crawling & Analysis\n",
    "## 예 ) Retrica App(사진어플)\n",
    " - 총 평점과 인원들을 조회하기 위해 첫페이지 크롤링\n",
    " - 리뷰 : ajax 통신을 통한 크롤링. "
   ]
  },
  {
   "cell_type": "code",
   "execution_count": 3,
   "metadata": {
    "collapsed": true
   },
   "outputs": [],
   "source": [
    "import pandas as pd\n",
    "import seaborn as sns \n",
    "import matplotlib.pyplot as plt\n",
    "import requests\n",
    "import json\n",
    "import requests\n",
    "import re\n",
    "from bs4 import BeautifulSoup"
   ]
  },
  {
   "cell_type": "code",
   "execution_count": 2,
   "metadata": {
    "collapsed": true
   },
   "outputs": [],
   "source": [
    "%matplotlib inline"
   ]
  },
  {
   "cell_type": "markdown",
   "metadata": {},
   "source": [
    "## 1.  전체 평점 및 투표인원\n",
    " - 첫 페이지 크롤링"
   ]
  },
  {
   "cell_type": "code",
   "execution_count": 4,
   "metadata": {
    "collapsed": true
   },
   "outputs": [],
   "source": [
    "url = 'https://play.google.com/store/apps/details?id=com.venticake.retrica&hl=ko#details-reviews'\n",
    "headers = {'User-Agent': 'Mozilla/5.0 (Windows; U; MSIE 9.0; Windows NT 9.0; en-US)'}\n",
    "res = requests.get(url, headers=headers)"
   ]
  },
  {
   "cell_type": "code",
   "execution_count": 5,
   "metadata": {},
   "outputs": [
    {
     "data": {
      "text/plain": [
       "<Response [200]>"
      ]
     },
     "execution_count": 5,
     "metadata": {},
     "output_type": "execute_result"
    }
   ],
   "source": [
    "res"
   ]
  },
  {
   "cell_type": "code",
   "execution_count": 6,
   "metadata": {
    "collapsed": true
   },
   "outputs": [],
   "source": [
    "bs = BeautifulSoup(res.text, 'html.parser')\n",
    "div_list = bs.find_all('div',class_=\"details-section-body expandable\")\n",
    "div_root_list = bs.find_all('div',class_=\"details-wrapper apps\")"
   ]
  },
  {
   "cell_type": "markdown",
   "metadata": {},
   "source": [
    "- 각 리뷰 스코오별 투표 인원 가지고 오기\n",
    "- 1~5점 각 인원, 평균, 전체 인원"
   ]
  },
  {
   "cell_type": "code",
   "execution_count": 7,
   "metadata": {},
   "outputs": [
    {
     "data": {
      "text/plain": [
       "1          407,171\n",
       "2          224,005\n",
       "3          469,633\n",
       "4          843,977\n",
       "5        4,021,934\n",
       "avg            4.3\n",
       "total    5,966,720\n",
       "dtype: object"
      ]
     },
     "execution_count": 7,
     "metadata": {},
     "output_type": "execute_result"
    }
   ],
   "source": [
    "for div_list in div_root_list:\n",
    "    rating = div_list.find_all('div',class_=\"rating-box\")\n",
    "    if len(rating)>0:\n",
    "        total_num = rating[0].find_all('span', class_=\"reviews-num\")[0].text\n",
    "        avg = rating[0].find_all(\"div\",class_=\"score\")[0].text\n",
    "        score_detail = rating[0].find_all(\"div\",class_=\"rating-histogram\")[0].find_all('div',class_=\"rating-bar-container\")\n",
    "        total_number = {}\n",
    "        for score in score_detail:\n",
    "            label = score.find('span',class_=\"bar-label\").text.strip()\n",
    "            label_number = score.find('span',class_=\"bar-number\").text\n",
    "            total_number[label] = label_number\n",
    "        total_number['avg'] = avg\n",
    "        total_number['total'] = total_num\n",
    "        \n",
    "total_series = pd.Series(total_number)\n",
    "total_series"
   ]
  },
  {
   "cell_type": "markdown",
   "metadata": {},
   "source": [
    "## 2. 리뷰 전체 가지고 오기.\n",
    " - 필요 데이터 \n",
    "  - id : com.venticake.retrica\n",
    "  - url : https://play.google.com/store/getreviews?authuser=0\n",
    "  - token : VgLHly2_FzRO3_28IkocTRfdZ1Q:1505134935641\n",
    "\n",
    "![ajax](./img/2.png)"
   ]
  },
  {
   "cell_type": "code",
   "execution_count": 8,
   "metadata": {
    "collapsed": true
   },
   "outputs": [],
   "source": [
    "url = \"https://play.google.com/store/getreviews?authuser=0\"\n",
    "id = 'com.venticake.retrica'\n",
    "token = 'VgLHly2_FzRO3_28IkocTRfdZ1Q:1505134935641'"
   ]
  },
  {
   "cell_type": "code",
   "execution_count": 35,
   "metadata": {},
   "outputs": [],
   "source": [
    "# Review가지고오기.\n",
    "def GetReviews(url,id,token,pages):  \n",
    "    param = {'reviewType': '0', 'pageNum': '10000', 'id':'','reviewSortOrder':'4','xhr':'1','token':'','hl':'ko'}\n",
    "    param['id'] = id\n",
    "    param['token'] = token\n",
    "    \n",
    "    review_date_all = []\n",
    "    review_star_all = []\n",
    "    review_user_all = []\n",
    "    review_title_all = []\n",
    "    review_body_all = []\n",
    "    for i in range(1,pages):\n",
    "        param['pageNum'] = i\n",
    "        res = requests.post(url, data=param)\n",
    "        try:\n",
    "            if i % 20 == 0:\n",
    "                print(\" line : {line}, code : {code}\".format(line=i,code=res.status_code))\n",
    "\n",
    "            if res.status_code == 400 or i == pages-1:\n",
    "                review_df = pd.DataFrame({'DATE':review_date_all,'STAR':review_star_all,'TITLE':review_title_all, 'USER':review_user_all,'BODY':review_body_all})\n",
    "                columns_list = ['DATE','USER','STAR','TITLE','BODY']\n",
    "                return(review_df[columns_list])\n",
    "            else:\n",
    "                body = res.text[6:]\n",
    "                res_json = json.loads(body)\n",
    "                bs = BeautifulSoup(res_json[0][2], 'html.parser')\n",
    "                review_lists = bs.find_all('div',class_=\"single-review\")\n",
    "                for j in range(1,len(review_lists)):\n",
    "                    review_date = review_lists[j].find('span',class_=\"review-date\").text # review_date\n",
    "                    review_star = int(re.findall(r'\\d+', review_lists[0].find('div',class_=\"tiny-star star-rating-non-editable-container\")['aria-label'])[1]) # Get Digits from Rates\n",
    "                    review_title = review_lists[j].find('span',class_=\"review-title\").text # title\n",
    "                    review_body = review_lists[j].find('div',class_=\"review-body with-review-wrapper\").text # review body\n",
    "                    review_body = str.replace(review_body,review_title,\"\")\n",
    "                    review_body = str.replace(review_body,\"전체 리뷰\",\"\")\n",
    "                    review_body = review_body.strip()\n",
    "                    review_user = review_lists[j].find('span',class_=\"author-name\").text.strip()  # get Reviewer\n",
    "                    review_date_all.append(review_date)\n",
    "                    review_star_all.append(review_star)\n",
    "                    review_user_all.append(review_user)\n",
    "                    review_title_all.append(review_title)\n",
    "                    review_body_all.append(review_body)\n",
    "        except:\n",
    "            pass"
   ]
  },
  {
   "cell_type": "code",
   "execution_count": null,
   "metadata": {
    "scrolled": false
   },
   "outputs": [
    {
     "name": "stdout",
     "output_type": "stream",
     "text": [
      " line : 20, code : 503\n",
      " line : 40, code : 503\n",
      " line : 60, code : 503\n"
     ]
    }
   ],
   "source": [
    "DF = GetReviews(url,id,token,10000)"
   ]
  },
  {
   "cell_type": "code",
   "execution_count": null,
   "metadata": {
    "collapsed": true
   },
   "outputs": [],
   "source": []
  }
 ],
 "metadata": {
  "kernelspec": {
   "display_name": "py35",
   "language": "python",
   "name": "py35"
  },
  "language_info": {
   "codemirror_mode": {
    "name": "ipython",
    "version": 3
   },
   "file_extension": ".py",
   "mimetype": "text/x-python",
   "name": "python",
   "nbconvert_exporter": "python",
   "pygments_lexer": "ipython3",
   "version": "3.5.3"
  }
 },
 "nbformat": 4,
 "nbformat_minor": 2
}
