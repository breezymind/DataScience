{
 "cells": [
  {
   "cell_type": "markdown",
   "metadata": {},
   "source": [
    "# R Programming install & basic\n",
    " - R Install \n",
    " - Basic R Programming\n",
    " - Basic Data handling for datamining with R"
   ]
  },
  {
   "cell_type": "markdown",
   "metadata": {},
   "source": [
    "## R & R-Studio install  \n",
    " - R-Cran (R) : https://cran.r-project.org/mirrors.html\n",
    " - R-studio (RStudio) : https://www.rstudio.com/products/rstudio/download/ \n",
    " \n",
    " - Start R-studio \n",
    " - 설치한 R-studio를 통해 수행해도 되고 Jupyter notebook에 R-Kernel을 만들어서 사용해도 무관하다. "
   ]
  },
  {
   "cell_type": "markdown",
   "metadata": {},
   "source": [
    "### 1. Basic Calculation"
   ]
  },
  {
   "cell_type": "code",
   "execution_count": 1,
   "metadata": {},
   "outputs": [
    {
     "data": {
      "text/html": [
       "7"
      ],
      "text/latex": [
       "7"
      ],
      "text/markdown": [
       "7"
      ],
      "text/plain": [
       "[1] 7"
      ]
     },
     "metadata": {},
     "output_type": "display_data"
    }
   ],
   "source": [
    "3 + 4"
   ]
  },
  {
   "cell_type": "code",
   "execution_count": 2,
   "metadata": {},
   "outputs": [
    {
     "data": {
      "text/html": [
       "2"
      ],
      "text/latex": [
       "2"
      ],
      "text/markdown": [
       "2"
      ],
      "text/plain": [
       "[1] 2"
      ]
     },
     "metadata": {},
     "output_type": "display_data"
    }
   ],
   "source": [
    "4 - 2"
   ]
  },
  {
   "cell_type": "code",
   "execution_count": 4,
   "metadata": {},
   "outputs": [
    {
     "data": {
      "text/html": [
       "2"
      ],
      "text/latex": [
       "2"
      ],
      "text/markdown": [
       "2"
      ],
      "text/plain": [
       "[1] 2"
      ]
     },
     "metadata": {},
     "output_type": "display_data"
    }
   ],
   "source": [
    "17 %% 3 # 나머지"
   ]
  },
  {
   "cell_type": "code",
   "execution_count": 5,
   "metadata": {},
   "outputs": [
    {
     "data": {
      "text/html": [
       "18"
      ],
      "text/latex": [
       "18"
      ],
      "text/markdown": [
       "18"
      ],
      "text/plain": [
       "[1] 18"
      ]
     },
     "metadata": {},
     "output_type": "display_data"
    }
   ],
   "source": [
    "6 * 3 "
   ]
  },
  {
   "cell_type": "code",
   "execution_count": 6,
   "metadata": {},
   "outputs": [
    {
     "data": {
      "text/html": [
       "3.5"
      ],
      "text/latex": [
       "3.5"
      ],
      "text/markdown": [
       "3.5"
      ],
      "text/plain": [
       "[1] 3.5"
      ]
     },
     "metadata": {},
     "output_type": "display_data"
    }
   ],
   "source": [
    "7 / 2"
   ]
  },
  {
   "cell_type": "code",
   "execution_count": 7,
   "metadata": {},
   "outputs": [
    {
     "data": {
      "text/html": [
       "3"
      ],
      "text/latex": [
       "3"
      ],
      "text/markdown": [
       "3"
      ],
      "text/plain": [
       "[1] 3"
      ]
     },
     "metadata": {},
     "output_type": "display_data"
    }
   ],
   "source": [
    "7 %/% 2 # 몫"
   ]
  },
  {
   "cell_type": "markdown",
   "metadata": {},
   "source": [
    "### 2. Scala(스칼라)\n",
    " - R 에서의 데이터 타입은 문자형, 숫자형, 논리형 등 형태로 존재하는데 이러한 데이터 타입을 하나의 값만 가지는 것을 Scala(스칼라) 라고 한다. "
   ]
  },
  {
   "cell_type": "code",
   "execution_count": 11,
   "metadata": {},
   "outputs": [
    {
     "data": {
      "text/html": [
       "1"
      ],
      "text/latex": [
       "1"
      ],
      "text/markdown": [
       "1"
      ],
      "text/plain": [
       "[1] 1"
      ]
     },
     "metadata": {},
     "output_type": "display_data"
    }
   ],
   "source": [
    "1"
   ]
  },
  {
   "cell_type": "code",
   "execution_count": 12,
   "metadata": {},
   "outputs": [
    {
     "data": {
      "text/html": [
       "'String'"
      ],
      "text/latex": [
       "'String'"
      ],
      "text/markdown": [
       "'String'"
      ],
      "text/plain": [
       "[1] \"String\""
      ]
     },
     "metadata": {},
     "output_type": "display_data"
    }
   ],
   "source": [
    "\"String\""
   ]
  },
  {
   "cell_type": "code",
   "execution_count": 15,
   "metadata": {},
   "outputs": [
    {
     "data": {
      "text/html": [
       "TRUE"
      ],
      "text/latex": [
       "TRUE"
      ],
      "text/markdown": [
       "TRUE"
      ],
      "text/plain": [
       "[1] TRUE"
      ]
     },
     "metadata": {},
     "output_type": "display_data"
    }
   ],
   "source": [
    "TRUE"
   ]
  },
  {
   "cell_type": "code",
   "execution_count": 16,
   "metadata": {},
   "outputs": [
    {
     "data": {
      "text/html": [
       "FALSE"
      ],
      "text/latex": [
       "FALSE"
      ],
      "text/markdown": [
       "FALSE"
      ],
      "text/plain": [
       "[1] FALSE"
      ]
     },
     "metadata": {},
     "output_type": "display_data"
    }
   ],
   "source": [
    "FALSE"
   ]
  },
  {
   "cell_type": "markdown",
   "metadata": {},
   "source": [
    "### 3. Vector(벡터)\n",
    " - 위의 Scala 값들을 묶어서 표현하는 것을 벡터라고 한다. 같은 데이터 타입의 값들을 여러개 묶어서 표현한다.\n",
    " - 숫자 + 문자로 벡터를 구성하게 된다면 해당 숫자형은 문자형으로 변환된다. \n",
    " - 숫자 + 논리형태로 가지게 된다면 논리형의 경우 TRUE -> 1, FALSE -> 0 으로 표현 "
   ]
  },
  {
   "cell_type": "code",
   "execution_count": 17,
   "metadata": {},
   "outputs": [
    {
     "data": {
      "text/html": [
       "<ol class=list-inline>\n",
       "\t<li>1</li>\n",
       "\t<li>2</li>\n",
       "\t<li>3</li>\n",
       "</ol>\n"
      ],
      "text/latex": [
       "\\begin{enumerate*}\n",
       "\\item 1\n",
       "\\item 2\n",
       "\\item 3\n",
       "\\end{enumerate*}\n"
      ],
      "text/markdown": [
       "1. 1\n",
       "2. 2\n",
       "3. 3\n",
       "\n",
       "\n"
      ],
      "text/plain": [
       "[1] 1 2 3"
      ]
     },
     "metadata": {},
     "output_type": "display_data"
    }
   ],
   "source": [
    "c(1,2,3)"
   ]
  },
  {
   "cell_type": "code",
   "execution_count": 18,
   "metadata": {},
   "outputs": [
    {
     "data": {
      "text/html": [
       "<ol class=list-inline>\n",
       "\t<li>'a'</li>\n",
       "\t<li>'2'</li>\n",
       "\t<li>'3'</li>\n",
       "</ol>\n"
      ],
      "text/latex": [
       "\\begin{enumerate*}\n",
       "\\item 'a'\n",
       "\\item '2'\n",
       "\\item '3'\n",
       "\\end{enumerate*}\n"
      ],
      "text/markdown": [
       "1. 'a'\n",
       "2. '2'\n",
       "3. '3'\n",
       "\n",
       "\n"
      ],
      "text/plain": [
       "[1] \"a\" \"2\" \"3\""
      ]
     },
     "metadata": {},
     "output_type": "display_data"
    }
   ],
   "source": [
    "c(\"a\",2,3)"
   ]
  },
  {
   "cell_type": "code",
   "execution_count": 20,
   "metadata": {},
   "outputs": [
    {
     "data": {
      "text/html": [
       "<ol class=list-inline>\n",
       "\t<li>1</li>\n",
       "\t<li>1</li>\n",
       "\t<li>2</li>\n",
       "</ol>\n"
      ],
      "text/latex": [
       "\\begin{enumerate*}\n",
       "\\item 1\n",
       "\\item 1\n",
       "\\item 2\n",
       "\\end{enumerate*}\n"
      ],
      "text/markdown": [
       "1. 1\n",
       "2. 1\n",
       "3. 2\n",
       "\n",
       "\n"
      ],
      "text/plain": [
       "[1] 1 1 2"
      ]
     },
     "metadata": {},
     "output_type": "display_data"
    }
   ],
   "source": [
    "c(TRUE,1,2)"
   ]
  },
  {
   "cell_type": "code",
   "execution_count": 21,
   "metadata": {},
   "outputs": [
    {
     "data": {
      "text/html": [
       "<ol class=list-inline>\n",
       "\t<li>'a'</li>\n",
       "\t<li>'b'</li>\n",
       "</ol>\n"
      ],
      "text/latex": [
       "\\begin{enumerate*}\n",
       "\\item 'a'\n",
       "\\item 'b'\n",
       "\\end{enumerate*}\n"
      ],
      "text/markdown": [
       "1. 'a'\n",
       "2. 'b'\n",
       "\n",
       "\n"
      ],
      "text/plain": [
       "[1] \"a\" \"b\""
      ]
     },
     "metadata": {},
     "output_type": "display_data"
    }
   ],
   "source": [
    "c(\"a\",\"b\")"
   ]
  },
  {
   "cell_type": "code",
   "execution_count": 22,
   "metadata": {},
   "outputs": [
    {
     "data": {
      "text/html": [
       "<ol class=list-inline>\n",
       "\t<li>6</li>\n",
       "\t<li>8</li>\n",
       "\t<li>10</li>\n",
       "</ol>\n"
      ],
      "text/latex": [
       "\\begin{enumerate*}\n",
       "\\item 6\n",
       "\\item 8\n",
       "\\item 10\n",
       "\\end{enumerate*}\n"
      ],
      "text/markdown": [
       "1. 6\n",
       "2. 8\n",
       "3. 10\n",
       "\n",
       "\n"
      ],
      "text/plain": [
       "[1]  6  8 10"
      ]
     },
     "metadata": {},
     "output_type": "display_data"
    }
   ],
   "source": [
    "c(1, 2, 3) + c(5, 6, 7) # 각 요소끼리 덧셈 "
   ]
  },
  {
   "cell_type": "code",
   "execution_count": 23,
   "metadata": {},
   "outputs": [
    {
     "data": {
      "text/html": [
       "<ol class=list-inline>\n",
       "\t<li>6</li>\n",
       "\t<li>7</li>\n",
       "\t<li>8</li>\n",
       "</ol>\n"
      ],
      "text/latex": [
       "\\begin{enumerate*}\n",
       "\\item 6\n",
       "\\item 7\n",
       "\\item 8\n",
       "\\end{enumerate*}\n"
      ],
      "text/markdown": [
       "1. 6\n",
       "2. 7\n",
       "3. 8\n",
       "\n",
       "\n"
      ],
      "text/plain": [
       "[1] 6 7 8"
      ]
     },
     "metadata": {},
     "output_type": "display_data"
    }
   ],
   "source": [
    "c(1, 2, 3) + 5 # 각 요소에 각각 덧셈(5를)"
   ]
  },
  {
   "cell_type": "code",
   "execution_count": 26,
   "metadata": {},
   "outputs": [
    {
     "name": "stderr",
     "output_type": "stream",
     "text": [
      "Warning message in c(1, 2, 3) + c(3, 4):\n",
      "“두 객체의 길이가 서로 배수관계에 있지 않습니다”"
     ]
    },
    {
     "data": {
      "text/html": [
       "<ol class=list-inline>\n",
       "\t<li>4</li>\n",
       "\t<li>6</li>\n",
       "\t<li>6</li>\n",
       "</ol>\n"
      ],
      "text/latex": [
       "\\begin{enumerate*}\n",
       "\\item 4\n",
       "\\item 6\n",
       "\\item 6\n",
       "\\end{enumerate*}\n"
      ],
      "text/markdown": [
       "1. 4\n",
       "2. 6\n",
       "3. 6\n",
       "\n",
       "\n"
      ],
      "text/plain": [
       "[1] 4 6 6"
      ]
     },
     "metadata": {},
     "output_type": "display_data"
    }
   ],
   "source": [
    "c(1, 2, 3) + c(3, 4) # 길이가 맞지 않을 경우 3, 4 순으로 해서 순서대로 더한다."
   ]
  },
  {
   "cell_type": "code",
   "execution_count": 27,
   "metadata": {},
   "outputs": [
    {
     "data": {
      "text/html": [
       "<ol class=list-inline>\n",
       "\t<li>4</li>\n",
       "\t<li>6</li>\n",
       "\t<li>6</li>\n",
       "\t<li>8</li>\n",
       "</ol>\n"
      ],
      "text/latex": [
       "\\begin{enumerate*}\n",
       "\\item 4\n",
       "\\item 6\n",
       "\\item 6\n",
       "\\item 8\n",
       "\\end{enumerate*}\n"
      ],
      "text/markdown": [
       "1. 4\n",
       "2. 6\n",
       "3. 6\n",
       "4. 8\n",
       "\n",
       "\n"
      ],
      "text/plain": [
       "[1] 4 6 6 8"
      ]
     },
     "metadata": {},
     "output_type": "display_data"
    }
   ],
   "source": [
    "c(1, 2, 3,4) + c(3, 4) # 1 + 3, 2 + 4, 3 + 3, 4 + 4"
   ]
  },
  {
   "cell_type": "markdown",
   "metadata": {},
   "source": [
    "### 4. Variable(변수)\n",
    " - 이름 그대로 변하는 수이다. \n",
    " - 우리가 원하는 값을 담고 있는 그릇이라고 생각하면 된다. \n",
    " - 원하는 그릇에 원하는 음식을 담듯이, 원하는 그릇에 원하는 값을 담으면 된다. \n",
    " - 이와 반대되는 말이 상수가 있는데 상수는 변하지 않는 수 즉, 한번 담게 되면 고정되는 값이라고 생각하면 된다."
   ]
  },
  {
   "cell_type": "markdown",
   "metadata": {},
   "source": [
    "#### 4-1 Assign Variable"
   ]
  },
  {
   "cell_type": "code",
   "execution_count": 28,
   "metadata": {},
   "outputs": [
    {
     "data": {
      "text/html": [
       "40"
      ],
      "text/latex": [
       "40"
      ],
      "text/markdown": [
       "40"
      ],
      "text/plain": [
       "[1] 40"
      ]
     },
     "metadata": {},
     "output_type": "display_data"
    }
   ],
   "source": [
    "people <- 40 # 엑셀의 A1, B1 등과 같다고 보면 된다. \n",
    "people"
   ]
  },
  {
   "cell_type": "code",
   "execution_count": 29,
   "metadata": {},
   "outputs": [
    {
     "data": {
      "text/html": [
       "<ol class=list-inline>\n",
       "\t<li>1</li>\n",
       "\t<li>2</li>\n",
       "\t<li>3</li>\n",
       "</ol>\n"
      ],
      "text/latex": [
       "\\begin{enumerate*}\n",
       "\\item 1\n",
       "\\item 2\n",
       "\\item 3\n",
       "\\end{enumerate*}\n"
      ],
      "text/markdown": [
       "1. 1\n",
       "2. 2\n",
       "3. 3\n",
       "\n",
       "\n"
      ],
      "text/plain": [
       "[1] 1 2 3"
      ]
     },
     "metadata": {},
     "output_type": "display_data"
    }
   ],
   "source": [
    "people <- c(1,2,3)\n",
    "people"
   ]
  },
  {
   "cell_type": "markdown",
   "metadata": {},
   "source": [
    "#### 4-2 Delete Variable"
   ]
  },
  {
   "cell_type": "code",
   "execution_count": 30,
   "metadata": {},
   "outputs": [
    {
     "data": {
      "text/html": [
       "'people'"
      ],
      "text/latex": [
       "'people'"
      ],
      "text/markdown": [
       "'people'"
      ],
      "text/plain": [
       "[1] \"people\""
      ]
     },
     "metadata": {},
     "output_type": "display_data"
    }
   ],
   "source": [
    "ls() # 메모리에 저장되어있는 변수 명을 출력."
   ]
  },
  {
   "cell_type": "code",
   "execution_count": 31,
   "metadata": {
    "collapsed": true
   },
   "outputs": [],
   "source": [
    "rm(people)"
   ]
  },
  {
   "cell_type": "markdown",
   "metadata": {},
   "source": [
    "모든 변수를 삭제 하고 싶다면"
   ]
  },
  {
   "cell_type": "code",
   "execution_count": 32,
   "metadata": {
    "collapsed": true
   },
   "outputs": [],
   "source": [
    "rm(list=ls())"
   ]
  },
  {
   "cell_type": "markdown",
   "metadata": {},
   "source": [
    "#### 4-3 Calculate Variable"
   ]
  },
  {
   "cell_type": "code",
   "execution_count": 33,
   "metadata": {
    "collapsed": true
   },
   "outputs": [],
   "source": [
    "people <- c(1,2,3)"
   ]
  },
  {
   "cell_type": "code",
   "execution_count": 34,
   "metadata": {},
   "outputs": [
    {
     "data": {
      "text/html": [
       "<ol class=list-inline>\n",
       "\t<li>3</li>\n",
       "\t<li>6</li>\n",
       "\t<li>9</li>\n",
       "</ol>\n"
      ],
      "text/latex": [
       "\\begin{enumerate*}\n",
       "\\item 3\n",
       "\\item 6\n",
       "\\item 9\n",
       "\\end{enumerate*}\n"
      ],
      "text/markdown": [
       "1. 3\n",
       "2. 6\n",
       "3. 9\n",
       "\n",
       "\n"
      ],
      "text/plain": [
       "[1] 3 6 9"
      ]
     },
     "metadata": {},
     "output_type": "display_data"
    }
   ],
   "source": [
    "people * 3"
   ]
  },
  {
   "cell_type": "code",
   "execution_count": 36,
   "metadata": {},
   "outputs": [
    {
     "data": {
      "text/html": [
       "<ol class=list-inline>\n",
       "\t<li>1</li>\n",
       "\t<li>2</li>\n",
       "\t<li>3</li>\n",
       "</ol>\n"
      ],
      "text/latex": [
       "\\begin{enumerate*}\n",
       "\\item 1\n",
       "\\item 2\n",
       "\\item 3\n",
       "\\end{enumerate*}\n"
      ],
      "text/markdown": [
       "1. 1\n",
       "2. 2\n",
       "3. 3\n",
       "\n",
       "\n"
      ],
      "text/plain": [
       "[1] 1 2 3"
      ]
     },
     "metadata": {},
     "output_type": "display_data"
    }
   ],
   "source": [
    "people \n",
    "# 변수의 값을 연산하고 끝날뿐이지 결과값을 다시 할당하지 않는다면 일회성이라고 생각하면된다. "
   ]
  },
  {
   "cell_type": "code",
   "execution_count": 37,
   "metadata": {},
   "outputs": [
    {
     "data": {
      "text/html": [
       "<ol class=list-inline>\n",
       "\t<li>2</li>\n",
       "\t<li>4</li>\n",
       "\t<li>6</li>\n",
       "</ol>\n"
      ],
      "text/latex": [
       "\\begin{enumerate*}\n",
       "\\item 2\n",
       "\\item 4\n",
       "\\item 6\n",
       "\\end{enumerate*}\n"
      ],
      "text/markdown": [
       "1. 2\n",
       "2. 4\n",
       "3. 6\n",
       "\n",
       "\n"
      ],
      "text/plain": [
       "[1] 2 4 6"
      ]
     },
     "metadata": {},
     "output_type": "display_data"
    }
   ],
   "source": [
    "people <- people * 2\n",
    "people # 재할당."
   ]
  },
  {
   "cell_type": "markdown",
   "metadata": {},
   "source": [
    "### 5. Indexing\n",
    " - Python과 달리 1부터 시작한다.\n",
    " - [시작:끝] 끝은 포함한다. 이 또한 파이썬과 다르다. 파이썬의 경우 시작은 포함 끝은 포함하지 않기 때문에."
   ]
  },
  {
   "cell_type": "code",
   "execution_count": 38,
   "metadata": {},
   "outputs": [
    {
     "data": {
      "text/html": [
       "2"
      ],
      "text/latex": [
       "2"
      ],
      "text/markdown": [
       "2"
      ],
      "text/plain": [
       "[1] 2"
      ]
     },
     "metadata": {},
     "output_type": "display_data"
    }
   ],
   "source": [
    "people[1] # 1번만"
   ]
  },
  {
   "cell_type": "code",
   "execution_count": 40,
   "metadata": {},
   "outputs": [
    {
     "data": {
      "text/html": [
       "<ol class=list-inline>\n",
       "\t<li>2</li>\n",
       "\t<li>4</li>\n",
       "</ol>\n"
      ],
      "text/latex": [
       "\\begin{enumerate*}\n",
       "\\item 2\n",
       "\\item 4\n",
       "\\end{enumerate*}\n"
      ],
      "text/markdown": [
       "1. 2\n",
       "2. 4\n",
       "\n",
       "\n"
      ],
      "text/plain": [
       "[1] 2 4"
      ]
     },
     "metadata": {},
     "output_type": "display_data"
    }
   ],
   "source": [
    "people[1:2] # 1번부터 2번까지"
   ]
  },
  {
   "cell_type": "markdown",
   "metadata": {},
   "source": [
    "### 6. Function (함수)\n",
    " - 사용자 지정함수 또한 만들어서 사용할 수 있다.\n",
    " - 함수의 도움말을 알기 위해서는 ?함수명 을 하게 되면 help가 나오게된다."
   ]
  },
  {
   "cell_type": "code",
   "execution_count": 41,
   "metadata": {},
   "outputs": [
    {
     "data": {
      "text/html": [
       "3"
      ],
      "text/latex": [
       "3"
      ],
      "text/markdown": [
       "3"
      ],
      "text/plain": [
       "[1] 3"
      ]
     },
     "metadata": {},
     "output_type": "display_data"
    }
   ],
   "source": [
    "floor(3.4)"
   ]
  },
  {
   "cell_type": "code",
   "execution_count": 42,
   "metadata": {},
   "outputs": [
    {
     "data": {
      "text/html": [
       "3"
      ],
      "text/latex": [
       "3"
      ],
      "text/markdown": [
       "3"
      ],
      "text/plain": [
       "[1] 3"
      ]
     },
     "metadata": {},
     "output_type": "display_data"
    }
   ],
   "source": [
    "ceiling(2.1)"
   ]
  },
  {
   "cell_type": "code",
   "execution_count": 45,
   "metadata": {},
   "outputs": [
    {
     "data": {
      "text/html": [
       "<ol class=list-inline>\n",
       "\t<li>3</li>\n",
       "\t<li>4</li>\n",
       "</ol>\n"
      ],
      "text/latex": [
       "\\begin{enumerate*}\n",
       "\\item 3\n",
       "\\item 4\n",
       "\\end{enumerate*}\n"
      ],
      "text/markdown": [
       "1. 3\n",
       "2. 4\n",
       "\n",
       "\n"
      ],
      "text/plain": [
       "[1] 3 4"
      ]
     },
     "metadata": {},
     "output_type": "display_data"
    }
   ],
   "source": [
    "c(round(3.4),round(3.5))"
   ]
  },
  {
   "cell_type": "code",
   "execution_count": 47,
   "metadata": {},
   "outputs": [],
   "source": [
    "user_add <- function(a,b){\n",
    "    c <- a + a + b + b\n",
    "    return(c)\n",
    "}"
   ]
  },
  {
   "cell_type": "code",
   "execution_count": 48,
   "metadata": {},
   "outputs": [
    {
     "data": {
      "text/html": [
       "6"
      ],
      "text/latex": [
       "6"
      ],
      "text/markdown": [
       "6"
      ],
      "text/plain": [
       "[1] 6"
      ]
     },
     "metadata": {},
     "output_type": "display_data"
    }
   ],
   "source": [
    "user_add(1,2)"
   ]
  },
  {
   "cell_type": "markdown",
   "metadata": {},
   "source": [
    "### 7. List (리스트)\n",
    " - 벡터의 경우 같은 종류의 데이터 타입만 여러개 가질 수 있다. \n",
    " - 하지만 리스트의 경우 다른 종류의 데이터 타입을 여러개를 동시에 가질 수 있는 형태의 자료형이다.\n",
    " - json형태와 비슷하게 key,value 형태로 저장한 후 접근도 가능하다."
   ]
  },
  {
   "cell_type": "code",
   "execution_count": 49,
   "metadata": {},
   "outputs": [
    {
     "data": {
      "text/html": [
       "<ol>\n",
       "\t<li>1</li>\n",
       "\t<li>2</li>\n",
       "\t<li>3</li>\n",
       "\t<li>'a'</li>\n",
       "\t<li>TRUE</li>\n",
       "</ol>\n"
      ],
      "text/latex": [
       "\\begin{enumerate}\n",
       "\\item 1\n",
       "\\item 2\n",
       "\\item 3\n",
       "\\item 'a'\n",
       "\\item TRUE\n",
       "\\end{enumerate}\n"
      ],
      "text/markdown": [
       "1. 1\n",
       "2. 2\n",
       "3. 3\n",
       "4. 'a'\n",
       "5. TRUE\n",
       "\n",
       "\n"
      ],
      "text/plain": [
       "[[1]]\n",
       "[1] 1\n",
       "\n",
       "[[2]]\n",
       "[1] 2\n",
       "\n",
       "[[3]]\n",
       "[1] 3\n",
       "\n",
       "[[4]]\n",
       "[1] \"a\"\n",
       "\n",
       "[[5]]\n",
       "[1] TRUE\n"
      ]
     },
     "metadata": {},
     "output_type": "display_data"
    }
   ],
   "source": [
    "a <- list(1,2,3,'a',TRUE)\n",
    "a"
   ]
  },
  {
   "cell_type": "code",
   "execution_count": 52,
   "metadata": {},
   "outputs": [
    {
     "data": {
      "text/html": [
       "<dl>\n",
       "\t<dt>$a</dt>\n",
       "\t\t<dd>1</dd>\n",
       "\t<dt>$b</dt>\n",
       "\t\t<dd>3</dd>\n",
       "\t<dt>$c</dt>\n",
       "\t\t<dd>TRUE</dd>\n",
       "\t<dt>$d</dt>\n",
       "\t\t<dd>'a'</dd>\n",
       "</dl>\n"
      ],
      "text/latex": [
       "\\begin{description}\n",
       "\\item[\\$a] 1\n",
       "\\item[\\$b] 3\n",
       "\\item[\\$c] TRUE\n",
       "\\item[\\$d] 'a'\n",
       "\\end{description}\n"
      ],
      "text/markdown": [
       "$a\n",
       ":   1\n",
       "$b\n",
       ":   3\n",
       "$c\n",
       ":   TRUE\n",
       "$d\n",
       ":   'a'\n",
       "\n",
       "\n"
      ],
      "text/plain": [
       "$a\n",
       "[1] 1\n",
       "\n",
       "$b\n",
       "[1] 3\n",
       "\n",
       "$c\n",
       "[1] TRUE\n",
       "\n",
       "$d\n",
       "[1] \"a\"\n"
      ]
     },
     "metadata": {},
     "output_type": "display_data"
    }
   ],
   "source": [
    "b <- list(a=1,b=3,c=TRUE,d='a')\n",
    "b"
   ]
  },
  {
   "cell_type": "code",
   "execution_count": 53,
   "metadata": {},
   "outputs": [
    {
     "data": {
      "text/html": [
       "1"
      ],
      "text/latex": [
       "1"
      ],
      "text/markdown": [
       "1"
      ],
      "text/plain": [
       "[1] 1"
      ]
     },
     "metadata": {},
     "output_type": "display_data"
    }
   ],
   "source": [
    "b$a"
   ]
  },
  {
   "cell_type": "markdown",
   "metadata": {},
   "source": [
    "### 8. DataFrame(데이터프레임)\n",
    " - 엑셀의 하나의 시트라고 생각하면 될 것 같다.\n",
    " - 하나의 테이블에 컬럼과 로우가 있듯이 표현되는 데이터 형태이다."
   ]
  },
  {
   "cell_type": "code",
   "execution_count": 54,
   "metadata": {
    "collapsed": true
   },
   "outputs": [],
   "source": [
    "car <- read.csv('automobile.csv')\n",
    "# 다양한 속성을 통해 header를 가지고 올지, row를 새로 만들지 등을 정할 수 있다."
   ]
  },
  {
   "cell_type": "code",
   "execution_count": 55,
   "metadata": {},
   "outputs": [
    {
     "data": {
      "text/html": [
       "<table>\n",
       "<thead><tr><th scope=col>symboling</th><th scope=col>normalized_losses</th><th scope=col>maker</th><th scope=col>fuel</th><th scope=col>aspiration</th><th scope=col>doors</th><th scope=col>body</th><th scope=col>wheels</th><th scope=col>engine_location</th><th scope=col>wheel_base</th><th scope=col>⋯</th><th scope=col>engine_size</th><th scope=col>fuel_system</th><th scope=col>bore</th><th scope=col>stroke</th><th scope=col>compression_ratio</th><th scope=col>horsepower</th><th scope=col>peak_rpm</th><th scope=col>city_mpg</th><th scope=col>highway_mpg</th><th scope=col>price</th></tr></thead>\n",
       "<tbody>\n",
       "\t<tr><td>2    </td><td>164  </td><td>audi </td><td>gas  </td><td>std  </td><td>four </td><td>sedan</td><td>fwd  </td><td>front</td><td> 99.8</td><td>⋯    </td><td>109  </td><td>mpfi </td><td>3.19 </td><td>3.4  </td><td>10.0 </td><td>102  </td><td>5500 </td><td>24   </td><td>30   </td><td>13950</td></tr>\n",
       "\t<tr><td>2    </td><td>164  </td><td>audi </td><td>gas  </td><td>std  </td><td>four </td><td>sedan</td><td>4wd  </td><td>front</td><td> 99.4</td><td>⋯    </td><td>136  </td><td>mpfi </td><td>3.19 </td><td>3.4  </td><td> 8.0 </td><td>115  </td><td>5500 </td><td>18   </td><td>22   </td><td>17450</td></tr>\n",
       "\t<tr><td>1    </td><td>158  </td><td>audi </td><td>gas  </td><td>std  </td><td>four </td><td>sedan</td><td>fwd  </td><td>front</td><td>105.8</td><td>⋯    </td><td>136  </td><td>mpfi </td><td>3.19 </td><td>3.4  </td><td> 8.5 </td><td>110  </td><td>5500 </td><td>19   </td><td>25   </td><td>17710</td></tr>\n",
       "\t<tr><td>1    </td><td>158  </td><td>audi </td><td>gas  </td><td>turbo</td><td>four </td><td>sedan</td><td>fwd  </td><td>front</td><td>105.8</td><td>⋯    </td><td>131  </td><td>mpfi </td><td>3.13 </td><td>3.4  </td><td> 8.3 </td><td>140  </td><td>5500 </td><td>17   </td><td>20   </td><td>23875</td></tr>\n",
       "\t<tr><td>2    </td><td>192  </td><td>bmw  </td><td>gas  </td><td>std  </td><td>two  </td><td>sedan</td><td>rwd  </td><td>front</td><td>101.2</td><td>⋯    </td><td>108  </td><td>mpfi </td><td>3.50 </td><td>2.8  </td><td> 8.8 </td><td>101  </td><td>5800 </td><td>23   </td><td>29   </td><td>16430</td></tr>\n",
       "\t<tr><td>0    </td><td>192  </td><td>bmw  </td><td>gas  </td><td>std  </td><td>four </td><td>sedan</td><td>rwd  </td><td>front</td><td>101.2</td><td>⋯    </td><td>108  </td><td>mpfi </td><td>3.50 </td><td>2.8  </td><td> 8.8 </td><td>101  </td><td>5800 </td><td>23   </td><td>29   </td><td>16925</td></tr>\n",
       "</tbody>\n",
       "</table>\n"
      ],
      "text/latex": [
       "\\begin{tabular}{r|llllllllllllllllllllllllll}\n",
       " symboling & normalized\\_losses & maker & fuel & aspiration & doors & body & wheels & engine\\_location & wheel\\_base & ⋯ & engine\\_size & fuel\\_system & bore & stroke & compression\\_ratio & horsepower & peak\\_rpm & city\\_mpg & highway\\_mpg & price\\\\\n",
       "\\hline\n",
       "\t 2     & 164   & audi  & gas   & std   & four  & sedan & fwd   & front &  99.8 & ⋯     & 109   & mpfi  & 3.19  & 3.4   & 10.0  & 102   & 5500  & 24    & 30    & 13950\\\\\n",
       "\t 2     & 164   & audi  & gas   & std   & four  & sedan & 4wd   & front &  99.4 & ⋯     & 136   & mpfi  & 3.19  & 3.4   &  8.0  & 115   & 5500  & 18    & 22    & 17450\\\\\n",
       "\t 1     & 158   & audi  & gas   & std   & four  & sedan & fwd   & front & 105.8 & ⋯     & 136   & mpfi  & 3.19  & 3.4   &  8.5  & 110   & 5500  & 19    & 25    & 17710\\\\\n",
       "\t 1     & 158   & audi  & gas   & turbo & four  & sedan & fwd   & front & 105.8 & ⋯     & 131   & mpfi  & 3.13  & 3.4   &  8.3  & 140   & 5500  & 17    & 20    & 23875\\\\\n",
       "\t 2     & 192   & bmw   & gas   & std   & two   & sedan & rwd   & front & 101.2 & ⋯     & 108   & mpfi  & 3.50  & 2.8   &  8.8  & 101   & 5800  & 23    & 29    & 16430\\\\\n",
       "\t 0     & 192   & bmw   & gas   & std   & four  & sedan & rwd   & front & 101.2 & ⋯     & 108   & mpfi  & 3.50  & 2.8   &  8.8  & 101   & 5800  & 23    & 29    & 16925\\\\\n",
       "\\end{tabular}\n"
      ],
      "text/markdown": [
       "\n",
       "symboling | normalized_losses | maker | fuel | aspiration | doors | body | wheels | engine_location | wheel_base | ⋯ | engine_size | fuel_system | bore | stroke | compression_ratio | horsepower | peak_rpm | city_mpg | highway_mpg | price | \n",
       "|---|---|---|---|---|---|\n",
       "| 2     | 164   | audi  | gas   | std   | four  | sedan | fwd   | front |  99.8 | ⋯     | 109   | mpfi  | 3.19  | 3.4   | 10.0  | 102   | 5500  | 24    | 30    | 13950 | \n",
       "| 2     | 164   | audi  | gas   | std   | four  | sedan | 4wd   | front |  99.4 | ⋯     | 136   | mpfi  | 3.19  | 3.4   |  8.0  | 115   | 5500  | 18    | 22    | 17450 | \n",
       "| 1     | 158   | audi  | gas   | std   | four  | sedan | fwd   | front | 105.8 | ⋯     | 136   | mpfi  | 3.19  | 3.4   |  8.5  | 110   | 5500  | 19    | 25    | 17710 | \n",
       "| 1     | 158   | audi  | gas   | turbo | four  | sedan | fwd   | front | 105.8 | ⋯     | 131   | mpfi  | 3.13  | 3.4   |  8.3  | 140   | 5500  | 17    | 20    | 23875 | \n",
       "| 2     | 192   | bmw   | gas   | std   | two   | sedan | rwd   | front | 101.2 | ⋯     | 108   | mpfi  | 3.50  | 2.8   |  8.8  | 101   | 5800  | 23    | 29    | 16430 | \n",
       "| 0     | 192   | bmw   | gas   | std   | four  | sedan | rwd   | front | 101.2 | ⋯     | 108   | mpfi  | 3.50  | 2.8   |  8.8  | 101   | 5800  | 23    | 29    | 16925 | \n",
       "\n",
       "\n"
      ],
      "text/plain": [
       "  symboling normalized_losses maker fuel aspiration doors body  wheels\n",
       "1 2         164               audi  gas  std        four  sedan fwd   \n",
       "2 2         164               audi  gas  std        four  sedan 4wd   \n",
       "3 1         158               audi  gas  std        four  sedan fwd   \n",
       "4 1         158               audi  gas  turbo      four  sedan fwd   \n",
       "5 2         192               bmw   gas  std        two   sedan rwd   \n",
       "6 0         192               bmw   gas  std        four  sedan rwd   \n",
       "  engine_location wheel_base ⋯ engine_size fuel_system bore stroke\n",
       "1 front            99.8      ⋯ 109         mpfi        3.19 3.4   \n",
       "2 front            99.4      ⋯ 136         mpfi        3.19 3.4   \n",
       "3 front           105.8      ⋯ 136         mpfi        3.19 3.4   \n",
       "4 front           105.8      ⋯ 131         mpfi        3.13 3.4   \n",
       "5 front           101.2      ⋯ 108         mpfi        3.50 2.8   \n",
       "6 front           101.2      ⋯ 108         mpfi        3.50 2.8   \n",
       "  compression_ratio horsepower peak_rpm city_mpg highway_mpg price\n",
       "1 10.0              102        5500     24       30          13950\n",
       "2  8.0              115        5500     18       22          17450\n",
       "3  8.5              110        5500     19       25          17710\n",
       "4  8.3              140        5500     17       20          23875\n",
       "5  8.8              101        5800     23       29          16430\n",
       "6  8.8              101        5800     23       29          16925"
      ]
     },
     "metadata": {},
     "output_type": "display_data"
    }
   ],
   "source": [
    "head(car) # 상위 5줄을 볼 수 있다."
   ]
  },
  {
   "cell_type": "code",
   "execution_count": 56,
   "metadata": {},
   "outputs": [
    {
     "ename": "ERROR",
     "evalue": "Error in file.choose(): 파일선택이 취소되었습니다\n",
     "output_type": "error",
     "traceback": [
      "Error in file.choose(): 파일선택이 취소되었습니다\nTraceback:\n",
      "1. read.csv(file.choose())",
      "2. read.table(file = file, header = header, sep = sep, quote = quote, \n .     dec = dec, fill = fill, comment.char = comment.char, ...)",
      "3. file.choose()"
     ]
    }
   ],
   "source": [
    "car2 <- read.csv(file.choose()) # R-Studio를통해서 수행하면 된다."
   ]
  },
  {
   "cell_type": "code",
   "execution_count": 57,
   "metadata": {},
   "outputs": [
    {
     "ename": "ERROR",
     "evalue": "Error in View(car): ‘View()’ not yet supported in the Jupyter R kernel\n",
     "output_type": "error",
     "traceback": [
      "Error in View(car): ‘View()’ not yet supported in the Jupyter R kernel\nTraceback:\n",
      "1. View(car)",
      "2. stop(sQuote(\"View()\"), \" not yet supported in the Jupyter R kernel\")"
     ]
    }
   ],
   "source": [
    "View(car) \n",
    "# 이 또한 Rstudio를 통해서 하면 된다. 새로운 창을 통해 data를 전체적으로 볼 수 있다."
   ]
  },
  {
   "cell_type": "markdown",
   "metadata": {},
   "source": [
    "#### Size of data"
   ]
  },
  {
   "cell_type": "code",
   "execution_count": 58,
   "metadata": {},
   "outputs": [
    {
     "data": {
      "text/html": [
       "<ol class=list-inline>\n",
       "\t<li>159</li>\n",
       "\t<li>26</li>\n",
       "</ol>\n"
      ],
      "text/latex": [
       "\\begin{enumerate*}\n",
       "\\item 159\n",
       "\\item 26\n",
       "\\end{enumerate*}\n"
      ],
      "text/markdown": [
       "1. 159\n",
       "2. 26\n",
       "\n",
       "\n"
      ],
      "text/plain": [
       "[1] 159  26"
      ]
     },
     "metadata": {},
     "output_type": "display_data"
    }
   ],
   "source": [
    "dim(car) # rows x columns"
   ]
  },
  {
   "cell_type": "markdown",
   "metadata": {},
   "source": [
    "#### Row indexing"
   ]
  },
  {
   "cell_type": "code",
   "execution_count": 59,
   "metadata": {},
   "outputs": [
    {
     "data": {
      "text/html": [
       "<table>\n",
       "<thead><tr><th scope=col>symboling</th><th scope=col>normalized_losses</th><th scope=col>maker</th><th scope=col>fuel</th><th scope=col>aspiration</th><th scope=col>doors</th><th scope=col>body</th><th scope=col>wheels</th><th scope=col>engine_location</th><th scope=col>wheel_base</th><th scope=col>⋯</th><th scope=col>engine_size</th><th scope=col>fuel_system</th><th scope=col>bore</th><th scope=col>stroke</th><th scope=col>compression_ratio</th><th scope=col>horsepower</th><th scope=col>peak_rpm</th><th scope=col>city_mpg</th><th scope=col>highway_mpg</th><th scope=col>price</th></tr></thead>\n",
       "<tbody>\n",
       "\t<tr><td>2    </td><td>164  </td><td>audi </td><td>gas  </td><td>std  </td><td>four </td><td>sedan</td><td>fwd  </td><td>front</td><td>99.8 </td><td>⋯    </td><td>109  </td><td>mpfi </td><td>3.19 </td><td>3.4  </td><td>10   </td><td>102  </td><td>5500 </td><td>24   </td><td>30   </td><td>13950</td></tr>\n",
       "</tbody>\n",
       "</table>\n"
      ],
      "text/latex": [
       "\\begin{tabular}{r|llllllllllllllllllllllllll}\n",
       " symboling & normalized\\_losses & maker & fuel & aspiration & doors & body & wheels & engine\\_location & wheel\\_base & ⋯ & engine\\_size & fuel\\_system & bore & stroke & compression\\_ratio & horsepower & peak\\_rpm & city\\_mpg & highway\\_mpg & price\\\\\n",
       "\\hline\n",
       "\t 2     & 164   & audi  & gas   & std   & four  & sedan & fwd   & front & 99.8  & ⋯     & 109   & mpfi  & 3.19  & 3.4   & 10    & 102   & 5500  & 24    & 30    & 13950\\\\\n",
       "\\end{tabular}\n"
      ],
      "text/markdown": [
       "\n",
       "symboling | normalized_losses | maker | fuel | aspiration | doors | body | wheels | engine_location | wheel_base | ⋯ | engine_size | fuel_system | bore | stroke | compression_ratio | horsepower | peak_rpm | city_mpg | highway_mpg | price | \n",
       "|---|\n",
       "| 2     | 164   | audi  | gas   | std   | four  | sedan | fwd   | front | 99.8  | ⋯     | 109   | mpfi  | 3.19  | 3.4   | 10    | 102   | 5500  | 24    | 30    | 13950 | \n",
       "\n",
       "\n"
      ],
      "text/plain": [
       "  symboling normalized_losses maker fuel aspiration doors body  wheels\n",
       "1 2         164               audi  gas  std        four  sedan fwd   \n",
       "  engine_location wheel_base ⋯ engine_size fuel_system bore stroke\n",
       "1 front           99.8       ⋯ 109         mpfi        3.19 3.4   \n",
       "  compression_ratio horsepower peak_rpm city_mpg highway_mpg price\n",
       "1 10                102        5500     24       30          13950"
      ]
     },
     "metadata": {},
     "output_type": "display_data"
    }
   ],
   "source": [
    "car[1,]"
   ]
  },
  {
   "cell_type": "code",
   "execution_count": 60,
   "metadata": {},
   "outputs": [
    {
     "data": {
      "text/html": [
       "<table>\n",
       "<thead><tr><th scope=col>symboling</th><th scope=col>normalized_losses</th><th scope=col>maker</th><th scope=col>fuel</th><th scope=col>aspiration</th><th scope=col>doors</th><th scope=col>body</th><th scope=col>wheels</th><th scope=col>engine_location</th><th scope=col>wheel_base</th><th scope=col>⋯</th><th scope=col>engine_size</th><th scope=col>fuel_system</th><th scope=col>bore</th><th scope=col>stroke</th><th scope=col>compression_ratio</th><th scope=col>horsepower</th><th scope=col>peak_rpm</th><th scope=col>city_mpg</th><th scope=col>highway_mpg</th><th scope=col>price</th></tr></thead>\n",
       "<tbody>\n",
       "\t<tr><td>2    </td><td>164  </td><td>audi </td><td>gas  </td><td>std  </td><td>four </td><td>sedan</td><td>fwd  </td><td>front</td><td> 99.8</td><td>⋯    </td><td>109  </td><td>mpfi </td><td>3.19 </td><td>3.4  </td><td>10.0 </td><td>102  </td><td>5500 </td><td>24   </td><td>30   </td><td>13950</td></tr>\n",
       "\t<tr><td>2    </td><td>164  </td><td>audi </td><td>gas  </td><td>std  </td><td>four </td><td>sedan</td><td>4wd  </td><td>front</td><td> 99.4</td><td>⋯    </td><td>136  </td><td>mpfi </td><td>3.19 </td><td>3.4  </td><td> 8.0 </td><td>115  </td><td>5500 </td><td>18   </td><td>22   </td><td>17450</td></tr>\n",
       "\t<tr><td>1    </td><td>158  </td><td>audi </td><td>gas  </td><td>std  </td><td>four </td><td>sedan</td><td>fwd  </td><td>front</td><td>105.8</td><td>⋯    </td><td>136  </td><td>mpfi </td><td>3.19 </td><td>3.4  </td><td> 8.5 </td><td>110  </td><td>5500 </td><td>19   </td><td>25   </td><td>17710</td></tr>\n",
       "\t<tr><td>1    </td><td>158  </td><td>audi </td><td>gas  </td><td>turbo</td><td>four </td><td>sedan</td><td>fwd  </td><td>front</td><td>105.8</td><td>⋯    </td><td>131  </td><td>mpfi </td><td>3.13 </td><td>3.4  </td><td> 8.3 </td><td>140  </td><td>5500 </td><td>17   </td><td>20   </td><td>23875</td></tr>\n",
       "\t<tr><td>2    </td><td>192  </td><td>bmw  </td><td>gas  </td><td>std  </td><td>two  </td><td>sedan</td><td>rwd  </td><td>front</td><td>101.2</td><td>⋯    </td><td>108  </td><td>mpfi </td><td>3.50 </td><td>2.8  </td><td> 8.8 </td><td>101  </td><td>5800 </td><td>23   </td><td>29   </td><td>16430</td></tr>\n",
       "</tbody>\n",
       "</table>\n"
      ],
      "text/latex": [
       "\\begin{tabular}{r|llllllllllllllllllllllllll}\n",
       " symboling & normalized\\_losses & maker & fuel & aspiration & doors & body & wheels & engine\\_location & wheel\\_base & ⋯ & engine\\_size & fuel\\_system & bore & stroke & compression\\_ratio & horsepower & peak\\_rpm & city\\_mpg & highway\\_mpg & price\\\\\n",
       "\\hline\n",
       "\t 2     & 164   & audi  & gas   & std   & four  & sedan & fwd   & front &  99.8 & ⋯     & 109   & mpfi  & 3.19  & 3.4   & 10.0  & 102   & 5500  & 24    & 30    & 13950\\\\\n",
       "\t 2     & 164   & audi  & gas   & std   & four  & sedan & 4wd   & front &  99.4 & ⋯     & 136   & mpfi  & 3.19  & 3.4   &  8.0  & 115   & 5500  & 18    & 22    & 17450\\\\\n",
       "\t 1     & 158   & audi  & gas   & std   & four  & sedan & fwd   & front & 105.8 & ⋯     & 136   & mpfi  & 3.19  & 3.4   &  8.5  & 110   & 5500  & 19    & 25    & 17710\\\\\n",
       "\t 1     & 158   & audi  & gas   & turbo & four  & sedan & fwd   & front & 105.8 & ⋯     & 131   & mpfi  & 3.13  & 3.4   &  8.3  & 140   & 5500  & 17    & 20    & 23875\\\\\n",
       "\t 2     & 192   & bmw   & gas   & std   & two   & sedan & rwd   & front & 101.2 & ⋯     & 108   & mpfi  & 3.50  & 2.8   &  8.8  & 101   & 5800  & 23    & 29    & 16430\\\\\n",
       "\\end{tabular}\n"
      ],
      "text/markdown": [
       "\n",
       "symboling | normalized_losses | maker | fuel | aspiration | doors | body | wheels | engine_location | wheel_base | ⋯ | engine_size | fuel_system | bore | stroke | compression_ratio | horsepower | peak_rpm | city_mpg | highway_mpg | price | \n",
       "|---|---|---|---|---|\n",
       "| 2     | 164   | audi  | gas   | std   | four  | sedan | fwd   | front |  99.8 | ⋯     | 109   | mpfi  | 3.19  | 3.4   | 10.0  | 102   | 5500  | 24    | 30    | 13950 | \n",
       "| 2     | 164   | audi  | gas   | std   | four  | sedan | 4wd   | front |  99.4 | ⋯     | 136   | mpfi  | 3.19  | 3.4   |  8.0  | 115   | 5500  | 18    | 22    | 17450 | \n",
       "| 1     | 158   | audi  | gas   | std   | four  | sedan | fwd   | front | 105.8 | ⋯     | 136   | mpfi  | 3.19  | 3.4   |  8.5  | 110   | 5500  | 19    | 25    | 17710 | \n",
       "| 1     | 158   | audi  | gas   | turbo | four  | sedan | fwd   | front | 105.8 | ⋯     | 131   | mpfi  | 3.13  | 3.4   |  8.3  | 140   | 5500  | 17    | 20    | 23875 | \n",
       "| 2     | 192   | bmw   | gas   | std   | two   | sedan | rwd   | front | 101.2 | ⋯     | 108   | mpfi  | 3.50  | 2.8   |  8.8  | 101   | 5800  | 23    | 29    | 16430 | \n",
       "\n",
       "\n"
      ],
      "text/plain": [
       "  symboling normalized_losses maker fuel aspiration doors body  wheels\n",
       "1 2         164               audi  gas  std        four  sedan fwd   \n",
       "2 2         164               audi  gas  std        four  sedan 4wd   \n",
       "3 1         158               audi  gas  std        four  sedan fwd   \n",
       "4 1         158               audi  gas  turbo      four  sedan fwd   \n",
       "5 2         192               bmw   gas  std        two   sedan rwd   \n",
       "  engine_location wheel_base ⋯ engine_size fuel_system bore stroke\n",
       "1 front            99.8      ⋯ 109         mpfi        3.19 3.4   \n",
       "2 front            99.4      ⋯ 136         mpfi        3.19 3.4   \n",
       "3 front           105.8      ⋯ 136         mpfi        3.19 3.4   \n",
       "4 front           105.8      ⋯ 131         mpfi        3.13 3.4   \n",
       "5 front           101.2      ⋯ 108         mpfi        3.50 2.8   \n",
       "  compression_ratio horsepower peak_rpm city_mpg highway_mpg price\n",
       "1 10.0              102        5500     24       30          13950\n",
       "2  8.0              115        5500     18       22          17450\n",
       "3  8.5              110        5500     19       25          17710\n",
       "4  8.3              140        5500     17       20          23875\n",
       "5  8.8              101        5800     23       29          16430"
      ]
     },
     "metadata": {},
     "output_type": "display_data"
    }
   ],
   "source": [
    "car[1:5,]"
   ]
  },
  {
   "cell_type": "markdown",
   "metadata": {},
   "source": [
    "#### Columns indexing"
   ]
  },
  {
   "cell_type": "code",
   "execution_count": 63,
   "metadata": {},
   "outputs": [
    {
     "data": {
      "text/html": [
       "<table>\n",
       "<thead><tr><th scope=col>maker</th></tr></thead>\n",
       "<tbody>\n",
       "\t<tr><td>audi</td></tr>\n",
       "\t<tr><td>audi</td></tr>\n",
       "\t<tr><td>audi</td></tr>\n",
       "\t<tr><td>audi</td></tr>\n",
       "\t<tr><td>bmw </td></tr>\n",
       "\t<tr><td>bmw </td></tr>\n",
       "</tbody>\n",
       "</table>\n"
      ],
      "text/latex": [
       "\\begin{tabular}{r|l}\n",
       " maker\\\\\n",
       "\\hline\n",
       "\t audi\\\\\n",
       "\t audi\\\\\n",
       "\t audi\\\\\n",
       "\t audi\\\\\n",
       "\t bmw \\\\\n",
       "\t bmw \\\\\n",
       "\\end{tabular}\n"
      ],
      "text/markdown": [
       "\n",
       "maker | \n",
       "|---|---|---|---|---|---|\n",
       "| audi | \n",
       "| audi | \n",
       "| audi | \n",
       "| audi | \n",
       "| bmw  | \n",
       "| bmw  | \n",
       "\n",
       "\n"
      ],
      "text/plain": [
       "  maker\n",
       "1 audi \n",
       "2 audi \n",
       "3 audi \n",
       "4 audi \n",
       "5 bmw  \n",
       "6 bmw  "
      ]
     },
     "metadata": {},
     "output_type": "display_data"
    }
   ],
   "source": [
    "head(car['maker'])"
   ]
  },
  {
   "cell_type": "code",
   "execution_count": 66,
   "metadata": {},
   "outputs": [
    {
     "data": {
      "text/html": [
       "<table>\n",
       "<thead><tr><th scope=col>maker</th></tr></thead>\n",
       "<tbody>\n",
       "\t<tr><td>audi</td></tr>\n",
       "\t<tr><td>audi</td></tr>\n",
       "\t<tr><td>audi</td></tr>\n",
       "\t<tr><td>audi</td></tr>\n",
       "\t<tr><td>bmw </td></tr>\n",
       "\t<tr><td>bmw </td></tr>\n",
       "</tbody>\n",
       "</table>\n"
      ],
      "text/latex": [
       "\\begin{tabular}{r|l}\n",
       " maker\\\\\n",
       "\\hline\n",
       "\t audi\\\\\n",
       "\t audi\\\\\n",
       "\t audi\\\\\n",
       "\t audi\\\\\n",
       "\t bmw \\\\\n",
       "\t bmw \\\\\n",
       "\\end{tabular}\n"
      ],
      "text/markdown": [
       "\n",
       "maker | \n",
       "|---|---|---|---|---|---|\n",
       "| audi | \n",
       "| audi | \n",
       "| audi | \n",
       "| audi | \n",
       "| bmw  | \n",
       "| bmw  | \n",
       "\n",
       "\n"
      ],
      "text/plain": [
       "  maker\n",
       "1 audi \n",
       "2 audi \n",
       "3 audi \n",
       "4 audi \n",
       "5 bmw  \n",
       "6 bmw  "
      ]
     },
     "metadata": {},
     "output_type": "display_data"
    }
   ],
   "source": [
    "head(car[3]) # 컬럼의 위치를 선택하여서 볼 수 있다."
   ]
  },
  {
   "cell_type": "code",
   "execution_count": 67,
   "metadata": {},
   "outputs": [
    {
     "data": {
      "text/html": [
       "<table>\n",
       "<thead><tr><th scope=col>maker</th><th scope=col>body</th></tr></thead>\n",
       "<tbody>\n",
       "\t<tr><td>audi </td><td>sedan</td></tr>\n",
       "\t<tr><td>audi </td><td>sedan</td></tr>\n",
       "\t<tr><td>audi </td><td>sedan</td></tr>\n",
       "\t<tr><td>audi </td><td>sedan</td></tr>\n",
       "\t<tr><td>bmw  </td><td>sedan</td></tr>\n",
       "\t<tr><td>bmw  </td><td>sedan</td></tr>\n",
       "</tbody>\n",
       "</table>\n"
      ],
      "text/latex": [
       "\\begin{tabular}{r|ll}\n",
       " maker & body\\\\\n",
       "\\hline\n",
       "\t audi  & sedan\\\\\n",
       "\t audi  & sedan\\\\\n",
       "\t audi  & sedan\\\\\n",
       "\t audi  & sedan\\\\\n",
       "\t bmw   & sedan\\\\\n",
       "\t bmw   & sedan\\\\\n",
       "\\end{tabular}\n"
      ],
      "text/markdown": [
       "\n",
       "maker | body | \n",
       "|---|---|---|---|---|---|\n",
       "| audi  | sedan | \n",
       "| audi  | sedan | \n",
       "| audi  | sedan | \n",
       "| audi  | sedan | \n",
       "| bmw   | sedan | \n",
       "| bmw   | sedan | \n",
       "\n",
       "\n"
      ],
      "text/plain": [
       "  maker body \n",
       "1 audi  sedan\n",
       "2 audi  sedan\n",
       "3 audi  sedan\n",
       "4 audi  sedan\n",
       "5 bmw   sedan\n",
       "6 bmw   sedan"
      ]
     },
     "metadata": {},
     "output_type": "display_data"
    }
   ],
   "source": [
    "head(car[c(\"maker\",\"body\")])"
   ]
  },
  {
   "cell_type": "code",
   "execution_count": 68,
   "metadata": {},
   "outputs": [
    {
     "data": {
      "text/html": [
       "<table>\n",
       "<thead><tr><th scope=col>maker</th><th scope=col>body</th></tr></thead>\n",
       "<tbody>\n",
       "\t<tr><td>audi </td><td>sedan</td></tr>\n",
       "\t<tr><td>audi </td><td>sedan</td></tr>\n",
       "\t<tr><td>audi </td><td>sedan</td></tr>\n",
       "\t<tr><td>audi </td><td>sedan</td></tr>\n",
       "\t<tr><td>bmw  </td><td>sedan</td></tr>\n",
       "\t<tr><td>bmw  </td><td>sedan</td></tr>\n",
       "</tbody>\n",
       "</table>\n"
      ],
      "text/latex": [
       "\\begin{tabular}{r|ll}\n",
       " maker & body\\\\\n",
       "\\hline\n",
       "\t audi  & sedan\\\\\n",
       "\t audi  & sedan\\\\\n",
       "\t audi  & sedan\\\\\n",
       "\t audi  & sedan\\\\\n",
       "\t bmw   & sedan\\\\\n",
       "\t bmw   & sedan\\\\\n",
       "\\end{tabular}\n"
      ],
      "text/markdown": [
       "\n",
       "maker | body | \n",
       "|---|---|---|---|---|---|\n",
       "| audi  | sedan | \n",
       "| audi  | sedan | \n",
       "| audi  | sedan | \n",
       "| audi  | sedan | \n",
       "| bmw   | sedan | \n",
       "| bmw   | sedan | \n",
       "\n",
       "\n"
      ],
      "text/plain": [
       "  maker body \n",
       "1 audi  sedan\n",
       "2 audi  sedan\n",
       "3 audi  sedan\n",
       "4 audi  sedan\n",
       "5 bmw   sedan\n",
       "6 bmw   sedan"
      ]
     },
     "metadata": {},
     "output_type": "display_data"
    }
   ],
   "source": [
    "head(car[c(3,7)])"
   ]
  },
  {
   "cell_type": "code",
   "execution_count": 69,
   "metadata": {},
   "outputs": [
    {
     "data": {
      "text/html": [
       "<table>\n",
       "<thead><tr><th scope=col>maker</th><th scope=col>body</th></tr></thead>\n",
       "<tbody>\n",
       "\t<tr><td>audi </td><td>sedan</td></tr>\n",
       "\t<tr><td>audi </td><td>sedan</td></tr>\n",
       "\t<tr><td>audi </td><td>sedan</td></tr>\n",
       "\t<tr><td>audi </td><td>sedan</td></tr>\n",
       "\t<tr><td>bmw  </td><td>sedan</td></tr>\n",
       "\t<tr><td>bmw  </td><td>sedan</td></tr>\n",
       "</tbody>\n",
       "</table>\n"
      ],
      "text/latex": [
       "\\begin{tabular}{r|ll}\n",
       " maker & body\\\\\n",
       "\\hline\n",
       "\t audi  & sedan\\\\\n",
       "\t audi  & sedan\\\\\n",
       "\t audi  & sedan\\\\\n",
       "\t audi  & sedan\\\\\n",
       "\t bmw   & sedan\\\\\n",
       "\t bmw   & sedan\\\\\n",
       "\\end{tabular}\n"
      ],
      "text/markdown": [
       "\n",
       "maker | body | \n",
       "|---|---|---|---|---|---|\n",
       "| audi  | sedan | \n",
       "| audi  | sedan | \n",
       "| audi  | sedan | \n",
       "| audi  | sedan | \n",
       "| bmw   | sedan | \n",
       "| bmw   | sedan | \n",
       "\n",
       "\n"
      ],
      "text/plain": [
       "  maker body \n",
       "1 audi  sedan\n",
       "2 audi  sedan\n",
       "3 audi  sedan\n",
       "4 audi  sedan\n",
       "5 bmw   sedan\n",
       "6 bmw   sedan"
      ]
     },
     "metadata": {},
     "output_type": "display_data"
    }
   ],
   "source": [
    "head(car[,c(3,7)])"
   ]
  },
  {
   "cell_type": "code",
   "execution_count": 70,
   "metadata": {},
   "outputs": [
    {
     "data": {
      "text/html": [
       "<table>\n",
       "<thead><tr><th scope=col>maker</th><th scope=col>fuel</th><th scope=col>aspiration</th><th scope=col>doors</th><th scope=col>body</th></tr></thead>\n",
       "<tbody>\n",
       "\t<tr><td>audi </td><td>gas  </td><td>std  </td><td>four </td><td>sedan</td></tr>\n",
       "\t<tr><td>audi </td><td>gas  </td><td>std  </td><td>four </td><td>sedan</td></tr>\n",
       "</tbody>\n",
       "</table>\n"
      ],
      "text/latex": [
       "\\begin{tabular}{r|lllll}\n",
       " maker & fuel & aspiration & doors & body\\\\\n",
       "\\hline\n",
       "\t audi  & gas   & std   & four  & sedan\\\\\n",
       "\t audi  & gas   & std   & four  & sedan\\\\\n",
       "\\end{tabular}\n"
      ],
      "text/markdown": [
       "\n",
       "maker | fuel | aspiration | doors | body | \n",
       "|---|---|\n",
       "| audi  | gas   | std   | four  | sedan | \n",
       "| audi  | gas   | std   | four  | sedan | \n",
       "\n",
       "\n"
      ],
      "text/plain": [
       "  maker fuel aspiration doors body \n",
       "1 audi  gas  std        four  sedan\n",
       "2 audi  gas  std        four  sedan"
      ]
     },
     "metadata": {},
     "output_type": "display_data"
    }
   ],
   "source": [
    "car[1:2,3:7]"
   ]
  },
  {
   "cell_type": "markdown",
   "metadata": {},
   "source": [
    "#### Compare values in data"
   ]
  },
  {
   "cell_type": "code",
   "execution_count": 71,
   "metadata": {},
   "outputs": [
    {
     "data": {
      "text/html": [
       "<table>\n",
       "<thead><tr><th></th><th scope=col>symboling</th><th scope=col>normalized_losses</th><th scope=col>maker</th><th scope=col>fuel</th><th scope=col>aspiration</th><th scope=col>doors</th><th scope=col>body</th><th scope=col>wheels</th><th scope=col>engine_location</th><th scope=col>wheel_base</th><th scope=col>⋯</th><th scope=col>engine_size</th><th scope=col>fuel_system</th><th scope=col>bore</th><th scope=col>stroke</th><th scope=col>compression_ratio</th><th scope=col>horsepower</th><th scope=col>peak_rpm</th><th scope=col>city_mpg</th><th scope=col>highway_mpg</th><th scope=col>price</th></tr></thead>\n",
       "<tbody>\n",
       "\t<tr><th scope=row>33</th><td> 0           </td><td>145          </td><td>jaguar       </td><td>gas          </td><td>std          </td><td>four         </td><td>sedan        </td><td>rwd          </td><td>front        </td><td>113.0        </td><td>⋯            </td><td>258          </td><td>mpfi         </td><td>3.63         </td><td>4.17         </td><td>8.1          </td><td>176          </td><td>4750         </td><td>15           </td><td>19           </td><td>32250        </td></tr>\n",
       "\t<tr><th scope=row>49</th><td> 3           </td><td>142          </td><td>mercedes-benz</td><td>gas          </td><td>std          </td><td>two          </td><td>convertible  </td><td>rwd          </td><td>front        </td><td> 96.6        </td><td>⋯            </td><td>234          </td><td>mpfi         </td><td>3.46         </td><td>3.10         </td><td>8.3          </td><td>155          </td><td>4750         </td><td>16           </td><td>18           </td><td>35056        </td></tr>\n",
       "\t<tr><th scope=row>72</th><td> 0           </td><td>128          </td><td>nissan       </td><td>gas          </td><td>std          </td><td>four         </td><td>sedan        </td><td>fwd          </td><td>front        </td><td>100.4        </td><td>⋯            </td><td>181          </td><td>mpfi         </td><td>3.43         </td><td>3.27         </td><td>9.0          </td><td>152          </td><td>5200         </td><td>17           </td><td>22           </td><td>13499        </td></tr>\n",
       "\t<tr><th scope=row>73</th><td> 0           </td><td>108          </td><td>nissan       </td><td>gas          </td><td>std          </td><td>four         </td><td>wagon        </td><td>fwd          </td><td>front        </td><td>100.4        </td><td>⋯            </td><td>181          </td><td>mpfi         </td><td>3.43         </td><td>3.27         </td><td>9.0          </td><td>152          </td><td>5200         </td><td>17           </td><td>22           </td><td>14399        </td></tr>\n",
       "\t<tr><th scope=row>74</th><td> 0           </td><td>108          </td><td>nissan       </td><td>gas          </td><td>std          </td><td>four         </td><td>sedan        </td><td>fwd          </td><td>front        </td><td>100.4        </td><td>⋯            </td><td>181          </td><td>mpfi         </td><td>3.43         </td><td>3.27         </td><td>9.0          </td><td>152          </td><td>5200         </td><td>19           </td><td>25           </td><td>13499        </td></tr>\n",
       "\t<tr><th scope=row>75</th><td> 3           </td><td>194          </td><td>nissan       </td><td>gas          </td><td>std          </td><td>two          </td><td>hatchback    </td><td>rwd          </td><td>front        </td><td> 91.3        </td><td>⋯            </td><td>181          </td><td>mpfi         </td><td>3.43         </td><td>3.27         </td><td>9.0          </td><td>160          </td><td>5200         </td><td>19           </td><td>25           </td><td>17199        </td></tr>\n",
       "\t<tr><th scope=row>76</th><td> 3           </td><td>194          </td><td>nissan       </td><td>gas          </td><td>turbo        </td><td>two          </td><td>hatchback    </td><td>rwd          </td><td>front        </td><td> 91.3        </td><td>⋯            </td><td>181          </td><td>mpfi         </td><td>3.43         </td><td>3.27         </td><td>7.8          </td><td>200          </td><td>5200         </td><td>17           </td><td>23           </td><td>19699        </td></tr>\n",
       "\t<tr><th scope=row>77</th><td> 1           </td><td>231          </td><td>nissan       </td><td>gas          </td><td>std          </td><td>two          </td><td>hatchback    </td><td>rwd          </td><td>front        </td><td> 99.2        </td><td>⋯            </td><td>181          </td><td>mpfi         </td><td>3.43         </td><td>3.27         </td><td>9.0          </td><td>160          </td><td>5200         </td><td>19           </td><td>25           </td><td>18399        </td></tr>\n",
       "\t<tr><th scope=row>96</th><td> 3           </td><td>150          </td><td>saab         </td><td>gas          </td><td>turbo        </td><td>two          </td><td>hatchback    </td><td>fwd          </td><td>front        </td><td> 99.1        </td><td>⋯            </td><td>121          </td><td>mpfi         </td><td>3.54         </td><td>3.07         </td><td>9.0          </td><td>160          </td><td>5500         </td><td>19           </td><td>26           </td><td>18150        </td></tr>\n",
       "\t<tr><th scope=row>97</th><td> 2           </td><td>104          </td><td>saab         </td><td>gas          </td><td>turbo        </td><td>four         </td><td>sedan        </td><td>fwd          </td><td>front        </td><td> 99.1        </td><td>⋯            </td><td>121          </td><td>mpfi         </td><td>3.54         </td><td>3.07         </td><td>9.0          </td><td>160          </td><td>5500         </td><td>19           </td><td>26           </td><td>18620        </td></tr>\n",
       "\t<tr><th scope=row>138</th><td> 3           </td><td>197          </td><td>toyota       </td><td>gas          </td><td>std          </td><td>two          </td><td>hatchback    </td><td>rwd          </td><td>front        </td><td>102.9        </td><td>⋯            </td><td>171          </td><td>mpfi         </td><td>3.27         </td><td>3.35         </td><td>9.3          </td><td>161          </td><td>5200         </td><td>20           </td><td>24           </td><td>16558        </td></tr>\n",
       "\t<tr><th scope=row>139</th><td> 3           </td><td>197          </td><td>toyota       </td><td>gas          </td><td>std          </td><td>two          </td><td>hatchback    </td><td>rwd          </td><td>front        </td><td>102.9        </td><td>⋯            </td><td>171          </td><td>mpfi         </td><td>3.27         </td><td>3.35         </td><td>9.3          </td><td>161          </td><td>5200         </td><td>19           </td><td>24           </td><td>15998        </td></tr>\n",
       "\t<tr><th scope=row>140</th><td>-1           </td><td> 90          </td><td>toyota       </td><td>gas          </td><td>std          </td><td>four         </td><td>sedan        </td><td>rwd          </td><td>front        </td><td>104.5        </td><td>⋯            </td><td>171          </td><td>mpfi         </td><td>3.27         </td><td>3.35         </td><td>9.2          </td><td>156          </td><td>5200         </td><td>20           </td><td>24           </td><td>15690        </td></tr>\n",
       "\t<tr><th scope=row>153</th><td>-2           </td><td>103          </td><td>volvo        </td><td>gas          </td><td>turbo        </td><td>four         </td><td>sedan        </td><td>rwd          </td><td>front        </td><td>104.3        </td><td>⋯            </td><td>130          </td><td>mpfi         </td><td>3.62         </td><td>3.15         </td><td>7.5          </td><td>162          </td><td>5100         </td><td>17           </td><td>22           </td><td>18420        </td></tr>\n",
       "\t<tr><th scope=row>154</th><td>-1           </td><td> 74          </td><td>volvo        </td><td>gas          </td><td>turbo        </td><td>four         </td><td>wagon        </td><td>rwd          </td><td>front        </td><td>104.3        </td><td>⋯            </td><td>130          </td><td>mpfi         </td><td>3.62         </td><td>3.15         </td><td>7.5          </td><td>162          </td><td>5100         </td><td>17           </td><td>22           </td><td>18950        </td></tr>\n",
       "\t<tr><th scope=row>156</th><td>-1           </td><td> 95          </td><td>volvo        </td><td>gas          </td><td>turbo        </td><td>four         </td><td>sedan        </td><td>rwd          </td><td>front        </td><td>109.1        </td><td>⋯            </td><td>141          </td><td>mpfi         </td><td>3.78         </td><td>3.15         </td><td>8.7          </td><td>160          </td><td>5300         </td><td>19           </td><td>25           </td><td>19045        </td></tr>\n",
       "</tbody>\n",
       "</table>\n"
      ],
      "text/latex": [
       "\\begin{tabular}{r|llllllllllllllllllllllllll}\n",
       "  & symboling & normalized\\_losses & maker & fuel & aspiration & doors & body & wheels & engine\\_location & wheel\\_base & ⋯ & engine\\_size & fuel\\_system & bore & stroke & compression\\_ratio & horsepower & peak\\_rpm & city\\_mpg & highway\\_mpg & price\\\\\n",
       "\\hline\n",
       "\t33 &  0            & 145           & jaguar        & gas           & std           & four          & sedan         & rwd           & front         & 113.0         & ⋯             & 258           & mpfi          & 3.63          & 4.17          & 8.1           & 176           & 4750          & 15            & 19            & 32250        \\\\\n",
       "\t49 &  3            & 142           & mercedes-benz & gas           & std           & two           & convertible   & rwd           & front         &  96.6         & ⋯             & 234           & mpfi          & 3.46          & 3.10          & 8.3           & 155           & 4750          & 16            & 18            & 35056        \\\\\n",
       "\t72 &  0            & 128           & nissan        & gas           & std           & four          & sedan         & fwd           & front         & 100.4         & ⋯             & 181           & mpfi          & 3.43          & 3.27          & 9.0           & 152           & 5200          & 17            & 22            & 13499        \\\\\n",
       "\t73 &  0            & 108           & nissan        & gas           & std           & four          & wagon         & fwd           & front         & 100.4         & ⋯             & 181           & mpfi          & 3.43          & 3.27          & 9.0           & 152           & 5200          & 17            & 22            & 14399        \\\\\n",
       "\t74 &  0            & 108           & nissan        & gas           & std           & four          & sedan         & fwd           & front         & 100.4         & ⋯             & 181           & mpfi          & 3.43          & 3.27          & 9.0           & 152           & 5200          & 19            & 25            & 13499        \\\\\n",
       "\t75 &  3            & 194           & nissan        & gas           & std           & two           & hatchback     & rwd           & front         &  91.3         & ⋯             & 181           & mpfi          & 3.43          & 3.27          & 9.0           & 160           & 5200          & 19            & 25            & 17199        \\\\\n",
       "\t76 &  3            & 194           & nissan        & gas           & turbo         & two           & hatchback     & rwd           & front         &  91.3         & ⋯             & 181           & mpfi          & 3.43          & 3.27          & 7.8           & 200           & 5200          & 17            & 23            & 19699        \\\\\n",
       "\t77 &  1            & 231           & nissan        & gas           & std           & two           & hatchback     & rwd           & front         &  99.2         & ⋯             & 181           & mpfi          & 3.43          & 3.27          & 9.0           & 160           & 5200          & 19            & 25            & 18399        \\\\\n",
       "\t96 &  3            & 150           & saab          & gas           & turbo         & two           & hatchback     & fwd           & front         &  99.1         & ⋯             & 121           & mpfi          & 3.54          & 3.07          & 9.0           & 160           & 5500          & 19            & 26            & 18150        \\\\\n",
       "\t97 &  2            & 104           & saab          & gas           & turbo         & four          & sedan         & fwd           & front         &  99.1         & ⋯             & 121           & mpfi          & 3.54          & 3.07          & 9.0           & 160           & 5500          & 19            & 26            & 18620        \\\\\n",
       "\t138 &  3            & 197           & toyota        & gas           & std           & two           & hatchback     & rwd           & front         & 102.9         & ⋯             & 171           & mpfi          & 3.27          & 3.35          & 9.3           & 161           & 5200          & 20            & 24            & 16558        \\\\\n",
       "\t139 &  3            & 197           & toyota        & gas           & std           & two           & hatchback     & rwd           & front         & 102.9         & ⋯             & 171           & mpfi          & 3.27          & 3.35          & 9.3           & 161           & 5200          & 19            & 24            & 15998        \\\\\n",
       "\t140 & -1            &  90           & toyota        & gas           & std           & four          & sedan         & rwd           & front         & 104.5         & ⋯             & 171           & mpfi          & 3.27          & 3.35          & 9.2           & 156           & 5200          & 20            & 24            & 15690        \\\\\n",
       "\t153 & -2            & 103           & volvo         & gas           & turbo         & four          & sedan         & rwd           & front         & 104.3         & ⋯             & 130           & mpfi          & 3.62          & 3.15          & 7.5           & 162           & 5100          & 17            & 22            & 18420        \\\\\n",
       "\t154 & -1            &  74           & volvo         & gas           & turbo         & four          & wagon         & rwd           & front         & 104.3         & ⋯             & 130           & mpfi          & 3.62          & 3.15          & 7.5           & 162           & 5100          & 17            & 22            & 18950        \\\\\n",
       "\t156 & -1            &  95           & volvo         & gas           & turbo         & four          & sedan         & rwd           & front         & 109.1         & ⋯             & 141           & mpfi          & 3.78          & 3.15          & 8.7           & 160           & 5300          & 19            & 25            & 19045        \\\\\n",
       "\\end{tabular}\n"
      ],
      "text/markdown": [
       "\n",
       "| <!--/--> | symboling | normalized_losses | maker | fuel | aspiration | doors | body | wheels | engine_location | wheel_base | ⋯ | engine_size | fuel_system | bore | stroke | compression_ratio | horsepower | peak_rpm | city_mpg | highway_mpg | price | \n",
       "|---|---|---|---|---|---|---|---|---|---|---|---|---|---|---|---|\n",
       "| 33 |  0            | 145           | jaguar        | gas           | std           | four          | sedan         | rwd           | front         | 113.0         | ⋯             | 258           | mpfi          | 3.63          | 4.17          | 8.1           | 176           | 4750          | 15            | 19            | 32250         | \n",
       "| 49 |  3            | 142           | mercedes-benz | gas           | std           | two           | convertible   | rwd           | front         |  96.6         | ⋯             | 234           | mpfi          | 3.46          | 3.10          | 8.3           | 155           | 4750          | 16            | 18            | 35056         | \n",
       "| 72 |  0            | 128           | nissan        | gas           | std           | four          | sedan         | fwd           | front         | 100.4         | ⋯             | 181           | mpfi          | 3.43          | 3.27          | 9.0           | 152           | 5200          | 17            | 22            | 13499         | \n",
       "| 73 |  0            | 108           | nissan        | gas           | std           | four          | wagon         | fwd           | front         | 100.4         | ⋯             | 181           | mpfi          | 3.43          | 3.27          | 9.0           | 152           | 5200          | 17            | 22            | 14399         | \n",
       "| 74 |  0            | 108           | nissan        | gas           | std           | four          | sedan         | fwd           | front         | 100.4         | ⋯             | 181           | mpfi          | 3.43          | 3.27          | 9.0           | 152           | 5200          | 19            | 25            | 13499         | \n",
       "| 75 |  3            | 194           | nissan        | gas           | std           | two           | hatchback     | rwd           | front         |  91.3         | ⋯             | 181           | mpfi          | 3.43          | 3.27          | 9.0           | 160           | 5200          | 19            | 25            | 17199         | \n",
       "| 76 |  3            | 194           | nissan        | gas           | turbo         | two           | hatchback     | rwd           | front         |  91.3         | ⋯             | 181           | mpfi          | 3.43          | 3.27          | 7.8           | 200           | 5200          | 17            | 23            | 19699         | \n",
       "| 77 |  1            | 231           | nissan        | gas           | std           | two           | hatchback     | rwd           | front         |  99.2         | ⋯             | 181           | mpfi          | 3.43          | 3.27          | 9.0           | 160           | 5200          | 19            | 25            | 18399         | \n",
       "| 96 |  3            | 150           | saab          | gas           | turbo         | two           | hatchback     | fwd           | front         |  99.1         | ⋯             | 121           | mpfi          | 3.54          | 3.07          | 9.0           | 160           | 5500          | 19            | 26            | 18150         | \n",
       "| 97 |  2            | 104           | saab          | gas           | turbo         | four          | sedan         | fwd           | front         |  99.1         | ⋯             | 121           | mpfi          | 3.54          | 3.07          | 9.0           | 160           | 5500          | 19            | 26            | 18620         | \n",
       "| 138 |  3            | 197           | toyota        | gas           | std           | two           | hatchback     | rwd           | front         | 102.9         | ⋯             | 171           | mpfi          | 3.27          | 3.35          | 9.3           | 161           | 5200          | 20            | 24            | 16558         | \n",
       "| 139 |  3            | 197           | toyota        | gas           | std           | two           | hatchback     | rwd           | front         | 102.9         | ⋯             | 171           | mpfi          | 3.27          | 3.35          | 9.3           | 161           | 5200          | 19            | 24            | 15998         | \n",
       "| 140 | -1            |  90           | toyota        | gas           | std           | four          | sedan         | rwd           | front         | 104.5         | ⋯             | 171           | mpfi          | 3.27          | 3.35          | 9.2           | 156           | 5200          | 20            | 24            | 15690         | \n",
       "| 153 | -2            | 103           | volvo         | gas           | turbo         | four          | sedan         | rwd           | front         | 104.3         | ⋯             | 130           | mpfi          | 3.62          | 3.15          | 7.5           | 162           | 5100          | 17            | 22            | 18420         | \n",
       "| 154 | -1            |  74           | volvo         | gas           | turbo         | four          | wagon         | rwd           | front         | 104.3         | ⋯             | 130           | mpfi          | 3.62          | 3.15          | 7.5           | 162           | 5100          | 17            | 22            | 18950         | \n",
       "| 156 | -1            |  95           | volvo         | gas           | turbo         | four          | sedan         | rwd           | front         | 109.1         | ⋯             | 141           | mpfi          | 3.78          | 3.15          | 8.7           | 160           | 5300          | 19            | 25            | 19045         | \n",
       "\n",
       "\n"
      ],
      "text/plain": [
       "    symboling normalized_losses maker         fuel aspiration doors body       \n",
       "33   0        145               jaguar        gas  std        four  sedan      \n",
       "49   3        142               mercedes-benz gas  std        two   convertible\n",
       "72   0        128               nissan        gas  std        four  sedan      \n",
       "73   0        108               nissan        gas  std        four  wagon      \n",
       "74   0        108               nissan        gas  std        four  sedan      \n",
       "75   3        194               nissan        gas  std        two   hatchback  \n",
       "76   3        194               nissan        gas  turbo      two   hatchback  \n",
       "77   1        231               nissan        gas  std        two   hatchback  \n",
       "96   3        150               saab          gas  turbo      two   hatchback  \n",
       "97   2        104               saab          gas  turbo      four  sedan      \n",
       "138  3        197               toyota        gas  std        two   hatchback  \n",
       "139  3        197               toyota        gas  std        two   hatchback  \n",
       "140 -1         90               toyota        gas  std        four  sedan      \n",
       "153 -2        103               volvo         gas  turbo      four  sedan      \n",
       "154 -1         74               volvo         gas  turbo      four  wagon      \n",
       "156 -1         95               volvo         gas  turbo      four  sedan      \n",
       "    wheels engine_location wheel_base ⋯ engine_size fuel_system bore stroke\n",
       "33  rwd    front           113.0      ⋯ 258         mpfi        3.63 4.17  \n",
       "49  rwd    front            96.6      ⋯ 234         mpfi        3.46 3.10  \n",
       "72  fwd    front           100.4      ⋯ 181         mpfi        3.43 3.27  \n",
       "73  fwd    front           100.4      ⋯ 181         mpfi        3.43 3.27  \n",
       "74  fwd    front           100.4      ⋯ 181         mpfi        3.43 3.27  \n",
       "75  rwd    front            91.3      ⋯ 181         mpfi        3.43 3.27  \n",
       "76  rwd    front            91.3      ⋯ 181         mpfi        3.43 3.27  \n",
       "77  rwd    front            99.2      ⋯ 181         mpfi        3.43 3.27  \n",
       "96  fwd    front            99.1      ⋯ 121         mpfi        3.54 3.07  \n",
       "97  fwd    front            99.1      ⋯ 121         mpfi        3.54 3.07  \n",
       "138 rwd    front           102.9      ⋯ 171         mpfi        3.27 3.35  \n",
       "139 rwd    front           102.9      ⋯ 171         mpfi        3.27 3.35  \n",
       "140 rwd    front           104.5      ⋯ 171         mpfi        3.27 3.35  \n",
       "153 rwd    front           104.3      ⋯ 130         mpfi        3.62 3.15  \n",
       "154 rwd    front           104.3      ⋯ 130         mpfi        3.62 3.15  \n",
       "156 rwd    front           109.1      ⋯ 141         mpfi        3.78 3.15  \n",
       "    compression_ratio horsepower peak_rpm city_mpg highway_mpg price\n",
       "33  8.1               176        4750     15       19          32250\n",
       "49  8.3               155        4750     16       18          35056\n",
       "72  9.0               152        5200     17       22          13499\n",
       "73  9.0               152        5200     17       22          14399\n",
       "74  9.0               152        5200     19       25          13499\n",
       "75  9.0               160        5200     19       25          17199\n",
       "76  7.8               200        5200     17       23          19699\n",
       "77  9.0               160        5200     19       25          18399\n",
       "96  9.0               160        5500     19       26          18150\n",
       "97  9.0               160        5500     19       26          18620\n",
       "138 9.3               161        5200     20       24          16558\n",
       "139 9.3               161        5200     19       24          15998\n",
       "140 9.2               156        5200     20       24          15690\n",
       "153 7.5               162        5100     17       22          18420\n",
       "154 7.5               162        5100     17       22          18950\n",
       "156 8.7               160        5300     19       25          19045"
      ]
     },
     "metadata": {},
     "output_type": "display_data"
    }
   ],
   "source": [
    "subset(car, horsepower > 145)"
   ]
  },
  {
   "cell_type": "code",
   "execution_count": 73,
   "metadata": {},
   "outputs": [
    {
     "data": {
      "text/html": [
       "<table>\n",
       "<thead><tr><th></th><th scope=col>symboling</th><th scope=col>normalized_losses</th><th scope=col>maker</th><th scope=col>fuel</th><th scope=col>aspiration</th><th scope=col>doors</th><th scope=col>body</th><th scope=col>wheels</th><th scope=col>engine_location</th><th scope=col>wheel_base</th><th scope=col>⋯</th><th scope=col>engine_size</th><th scope=col>fuel_system</th><th scope=col>bore</th><th scope=col>stroke</th><th scope=col>compression_ratio</th><th scope=col>horsepower</th><th scope=col>peak_rpm</th><th scope=col>city_mpg</th><th scope=col>highway_mpg</th><th scope=col>price</th></tr></thead>\n",
       "<tbody>\n",
       "\t<tr><th scope=row>9</th><td>2         </td><td>121       </td><td>chevrolet </td><td>gas       </td><td>std       </td><td>two       </td><td>hatchback </td><td>fwd       </td><td>front     </td><td>88.4      </td><td>⋯         </td><td> 61       </td><td>2bbl      </td><td>2.91      </td><td>3.03      </td><td> 9.5      </td><td>48        </td><td>5100      </td><td>47        </td><td>53        </td><td>5151      </td></tr>\n",
       "\t<tr><th scope=row>20</th><td>2         </td><td>137       </td><td>honda     </td><td>gas       </td><td>std       </td><td>two       </td><td>hatchback </td><td>fwd       </td><td>front     </td><td>86.6      </td><td>⋯         </td><td> 92       </td><td>1bbl      </td><td>2.91      </td><td>3.41      </td><td> 9.6      </td><td>58        </td><td>4800      </td><td>49        </td><td>54        </td><td>6479      </td></tr>\n",
       "\t<tr><th scope=row>61</th><td>1         </td><td>128       </td><td>nissan    </td><td>diesel    </td><td>std       </td><td>two       </td><td>sedan     </td><td>fwd       </td><td>front     </td><td>94.5      </td><td>⋯         </td><td>103       </td><td>idi       </td><td>2.99      </td><td>3.47      </td><td>21.9      </td><td>55        </td><td>4800      </td><td>45        </td><td>50        </td><td>7099      </td></tr>\n",
       "\t<tr><th scope=row>118</th><td>0         </td><td> 91       </td><td>toyota    </td><td>diesel    </td><td>std       </td><td>four      </td><td>sedan     </td><td>fwd       </td><td>front     </td><td>95.7      </td><td>⋯         </td><td>110       </td><td>idi       </td><td>3.27      </td><td>3.35      </td><td>22.5      </td><td>56        </td><td>4500      </td><td>34        </td><td>36        </td><td>7898      </td></tr>\n",
       "\t<tr><th scope=row>119</th><td>0         </td><td> 91       </td><td>toyota    </td><td>diesel    </td><td>std       </td><td>four      </td><td>hatchback </td><td>fwd       </td><td>front     </td><td>95.7      </td><td>⋯         </td><td>110       </td><td>idi       </td><td>3.27      </td><td>3.35      </td><td>22.5      </td><td>56        </td><td>4500      </td><td>38        </td><td>47        </td><td>7788      </td></tr>\n",
       "\t<tr><th scope=row>141</th><td>2         </td><td>122       </td><td>volkswagen</td><td>diesel    </td><td>std       </td><td>two       </td><td>sedan     </td><td>fwd       </td><td>front     </td><td>97.3      </td><td>⋯         </td><td> 97       </td><td>idi       </td><td>3.01      </td><td>3.40      </td><td>23.0      </td><td>52        </td><td>4800      </td><td>37        </td><td>46        </td><td>7775      </td></tr>\n",
       "\t<tr><th scope=row>143</th><td>2         </td><td> 94       </td><td>volkswagen</td><td>diesel    </td><td>std       </td><td>four      </td><td>sedan     </td><td>fwd       </td><td>front     </td><td>97.3      </td><td>⋯         </td><td> 97       </td><td>idi       </td><td>3.01      </td><td>3.40      </td><td>23.0      </td><td>52        </td><td>4800      </td><td>37        </td><td>46        </td><td>7995      </td></tr>\n",
       "</tbody>\n",
       "</table>\n"
      ],
      "text/latex": [
       "\\begin{tabular}{r|llllllllllllllllllllllllll}\n",
       "  & symboling & normalized\\_losses & maker & fuel & aspiration & doors & body & wheels & engine\\_location & wheel\\_base & ⋯ & engine\\_size & fuel\\_system & bore & stroke & compression\\_ratio & horsepower & peak\\_rpm & city\\_mpg & highway\\_mpg & price\\\\\n",
       "\\hline\n",
       "\t9 & 2          & 121        & chevrolet  & gas        & std        & two        & hatchback  & fwd        & front      & 88.4       & ⋯          &  61        & 2bbl       & 2.91       & 3.03       &  9.5       & 48         & 5100       & 47         & 53         & 5151      \\\\\n",
       "\t20 & 2          & 137        & honda      & gas        & std        & two        & hatchback  & fwd        & front      & 86.6       & ⋯          &  92        & 1bbl       & 2.91       & 3.41       &  9.6       & 58         & 4800       & 49         & 54         & 6479      \\\\\n",
       "\t61 & 1          & 128        & nissan     & diesel     & std        & two        & sedan      & fwd        & front      & 94.5       & ⋯          & 103        & idi        & 2.99       & 3.47       & 21.9       & 55         & 4800       & 45         & 50         & 7099      \\\\\n",
       "\t118 & 0          &  91        & toyota     & diesel     & std        & four       & sedan      & fwd        & front      & 95.7       & ⋯          & 110        & idi        & 3.27       & 3.35       & 22.5       & 56         & 4500       & 34         & 36         & 7898      \\\\\n",
       "\t119 & 0          &  91        & toyota     & diesel     & std        & four       & hatchback  & fwd        & front      & 95.7       & ⋯          & 110        & idi        & 3.27       & 3.35       & 22.5       & 56         & 4500       & 38         & 47         & 7788      \\\\\n",
       "\t141 & 2          & 122        & volkswagen & diesel     & std        & two        & sedan      & fwd        & front      & 97.3       & ⋯          &  97        & idi        & 3.01       & 3.40       & 23.0       & 52         & 4800       & 37         & 46         & 7775      \\\\\n",
       "\t143 & 2          &  94        & volkswagen & diesel     & std        & four       & sedan      & fwd        & front      & 97.3       & ⋯          &  97        & idi        & 3.01       & 3.40       & 23.0       & 52         & 4800       & 37         & 46         & 7995      \\\\\n",
       "\\end{tabular}\n"
      ],
      "text/markdown": [
       "\n",
       "| <!--/--> | symboling | normalized_losses | maker | fuel | aspiration | doors | body | wheels | engine_location | wheel_base | ⋯ | engine_size | fuel_system | bore | stroke | compression_ratio | horsepower | peak_rpm | city_mpg | highway_mpg | price | \n",
       "|---|---|---|---|---|---|---|\n",
       "| 9 | 2          | 121        | chevrolet  | gas        | std        | two        | hatchback  | fwd        | front      | 88.4       | ⋯          |  61        | 2bbl       | 2.91       | 3.03       |  9.5       | 48         | 5100       | 47         | 53         | 5151       | \n",
       "| 20 | 2          | 137        | honda      | gas        | std        | two        | hatchback  | fwd        | front      | 86.6       | ⋯          |  92        | 1bbl       | 2.91       | 3.41       |  9.6       | 58         | 4800       | 49         | 54         | 6479       | \n",
       "| 61 | 1          | 128        | nissan     | diesel     | std        | two        | sedan      | fwd        | front      | 94.5       | ⋯          | 103        | idi        | 2.99       | 3.47       | 21.9       | 55         | 4800       | 45         | 50         | 7099       | \n",
       "| 118 | 0          |  91        | toyota     | diesel     | std        | four       | sedan      | fwd        | front      | 95.7       | ⋯          | 110        | idi        | 3.27       | 3.35       | 22.5       | 56         | 4500       | 34         | 36         | 7898       | \n",
       "| 119 | 0          |  91        | toyota     | diesel     | std        | four       | hatchback  | fwd        | front      | 95.7       | ⋯          | 110        | idi        | 3.27       | 3.35       | 22.5       | 56         | 4500       | 38         | 47         | 7788       | \n",
       "| 141 | 2          | 122        | volkswagen | diesel     | std        | two        | sedan      | fwd        | front      | 97.3       | ⋯          |  97        | idi        | 3.01       | 3.40       | 23.0       | 52         | 4800       | 37         | 46         | 7775       | \n",
       "| 143 | 2          |  94        | volkswagen | diesel     | std        | four       | sedan      | fwd        | front      | 97.3       | ⋯          |  97        | idi        | 3.01       | 3.40       | 23.0       | 52         | 4800       | 37         | 46         | 7995       | \n",
       "\n",
       "\n"
      ],
      "text/plain": [
       "    symboling normalized_losses maker      fuel   aspiration doors body     \n",
       "9   2         121               chevrolet  gas    std        two   hatchback\n",
       "20  2         137               honda      gas    std        two   hatchback\n",
       "61  1         128               nissan     diesel std        two   sedan    \n",
       "118 0          91               toyota     diesel std        four  sedan    \n",
       "119 0          91               toyota     diesel std        four  hatchback\n",
       "141 2         122               volkswagen diesel std        two   sedan    \n",
       "143 2          94               volkswagen diesel std        four  sedan    \n",
       "    wheels engine_location wheel_base ⋯ engine_size fuel_system bore stroke\n",
       "9   fwd    front           88.4       ⋯  61         2bbl        2.91 3.03  \n",
       "20  fwd    front           86.6       ⋯  92         1bbl        2.91 3.41  \n",
       "61  fwd    front           94.5       ⋯ 103         idi         2.99 3.47  \n",
       "118 fwd    front           95.7       ⋯ 110         idi         3.27 3.35  \n",
       "119 fwd    front           95.7       ⋯ 110         idi         3.27 3.35  \n",
       "141 fwd    front           97.3       ⋯  97         idi         3.01 3.40  \n",
       "143 fwd    front           97.3       ⋯  97         idi         3.01 3.40  \n",
       "    compression_ratio horsepower peak_rpm city_mpg highway_mpg price\n",
       "9    9.5              48         5100     47       53          5151 \n",
       "20   9.6              58         4800     49       54          6479 \n",
       "61  21.9              55         4800     45       50          7099 \n",
       "118 22.5              56         4500     34       36          7898 \n",
       "119 22.5              56         4500     38       47          7788 \n",
       "141 23.0              52         4800     37       46          7775 \n",
       "143 23.0              52         4800     37       46          7995 "
      ]
     },
     "metadata": {},
     "output_type": "display_data"
    }
   ],
   "source": [
    "subset(car, horsepower < 60)"
   ]
  },
  {
   "cell_type": "code",
   "execution_count": 74,
   "metadata": {},
   "outputs": [
    {
     "data": {
      "text/html": [
       "<table>\n",
       "<thead><tr><th></th><th scope=col>symboling</th><th scope=col>normalized_losses</th><th scope=col>maker</th><th scope=col>fuel</th><th scope=col>aspiration</th><th scope=col>doors</th><th scope=col>body</th><th scope=col>wheels</th><th scope=col>engine_location</th><th scope=col>wheel_base</th><th scope=col>⋯</th><th scope=col>engine_size</th><th scope=col>fuel_system</th><th scope=col>bore</th><th scope=col>stroke</th><th scope=col>compression_ratio</th><th scope=col>horsepower</th><th scope=col>peak_rpm</th><th scope=col>city_mpg</th><th scope=col>highway_mpg</th><th scope=col>price</th></tr></thead>\n",
       "<tbody>\n",
       "\t<tr><th scope=row>9</th><td>2         </td><td>121       </td><td>chevrolet </td><td>gas       </td><td>std       </td><td>two       </td><td>hatchback </td><td>fwd       </td><td>front     </td><td>88.4      </td><td>⋯         </td><td> 61       </td><td>2bbl      </td><td>2.91      </td><td>3.03      </td><td> 9.5      </td><td>48        </td><td>5100      </td><td>47        </td><td>53        </td><td>5151      </td></tr>\n",
       "\t<tr><th scope=row>20</th><td>2         </td><td>137       </td><td>honda     </td><td>gas       </td><td>std       </td><td>two       </td><td>hatchback </td><td>fwd       </td><td>front     </td><td>86.6      </td><td>⋯         </td><td> 92       </td><td>1bbl      </td><td>2.91      </td><td>3.41      </td><td> 9.6      </td><td>58        </td><td>4800      </td><td>49        </td><td>54        </td><td>6479      </td></tr>\n",
       "\t<tr><th scope=row>22</th><td>1         </td><td>101       </td><td>honda     </td><td>gas       </td><td>std       </td><td>two       </td><td>hatchback </td><td>fwd       </td><td>front     </td><td>93.7      </td><td>⋯         </td><td> 79       </td><td>1bbl      </td><td>2.91      </td><td>3.07      </td><td>10.1      </td><td>60        </td><td>5500      </td><td>38        </td><td>42        </td><td>5399      </td></tr>\n",
       "\t<tr><th scope=row>61</th><td>1         </td><td>128       </td><td>nissan    </td><td>diesel    </td><td>std       </td><td>two       </td><td>sedan     </td><td>fwd       </td><td>front     </td><td>94.5      </td><td>⋯         </td><td>103       </td><td>idi       </td><td>2.99      </td><td>3.47      </td><td>21.9      </td><td>55        </td><td>4800      </td><td>45        </td><td>50        </td><td>7099      </td></tr>\n",
       "\t<tr><th scope=row>118</th><td>0         </td><td> 91       </td><td>toyota    </td><td>diesel    </td><td>std       </td><td>four      </td><td>sedan     </td><td>fwd       </td><td>front     </td><td>95.7      </td><td>⋯         </td><td>110       </td><td>idi       </td><td>3.27      </td><td>3.35      </td><td>22.5      </td><td>56        </td><td>4500      </td><td>34        </td><td>36        </td><td>7898      </td></tr>\n",
       "\t<tr><th scope=row>119</th><td>0         </td><td> 91       </td><td>toyota    </td><td>diesel    </td><td>std       </td><td>four      </td><td>hatchback </td><td>fwd       </td><td>front     </td><td>95.7      </td><td>⋯         </td><td>110       </td><td>idi       </td><td>3.27      </td><td>3.35      </td><td>22.5      </td><td>56        </td><td>4500      </td><td>38        </td><td>47        </td><td>7788      </td></tr>\n",
       "\t<tr><th scope=row>141</th><td>2         </td><td>122       </td><td>volkswagen</td><td>diesel    </td><td>std       </td><td>two       </td><td>sedan     </td><td>fwd       </td><td>front     </td><td>97.3      </td><td>⋯         </td><td> 97       </td><td>idi       </td><td>3.01      </td><td>3.40      </td><td>23.0      </td><td>52        </td><td>4800      </td><td>37        </td><td>46        </td><td>7775      </td></tr>\n",
       "\t<tr><th scope=row>143</th><td>2         </td><td> 94       </td><td>volkswagen</td><td>diesel    </td><td>std       </td><td>four      </td><td>sedan     </td><td>fwd       </td><td>front     </td><td>97.3      </td><td>⋯         </td><td> 97       </td><td>idi       </td><td>3.01      </td><td>3.40      </td><td>23.0      </td><td>52        </td><td>4800      </td><td>37        </td><td>46        </td><td>7995      </td></tr>\n",
       "</tbody>\n",
       "</table>\n"
      ],
      "text/latex": [
       "\\begin{tabular}{r|llllllllllllllllllllllllll}\n",
       "  & symboling & normalized\\_losses & maker & fuel & aspiration & doors & body & wheels & engine\\_location & wheel\\_base & ⋯ & engine\\_size & fuel\\_system & bore & stroke & compression\\_ratio & horsepower & peak\\_rpm & city\\_mpg & highway\\_mpg & price\\\\\n",
       "\\hline\n",
       "\t9 & 2          & 121        & chevrolet  & gas        & std        & two        & hatchback  & fwd        & front      & 88.4       & ⋯          &  61        & 2bbl       & 2.91       & 3.03       &  9.5       & 48         & 5100       & 47         & 53         & 5151      \\\\\n",
       "\t20 & 2          & 137        & honda      & gas        & std        & two        & hatchback  & fwd        & front      & 86.6       & ⋯          &  92        & 1bbl       & 2.91       & 3.41       &  9.6       & 58         & 4800       & 49         & 54         & 6479      \\\\\n",
       "\t22 & 1          & 101        & honda      & gas        & std        & two        & hatchback  & fwd        & front      & 93.7       & ⋯          &  79        & 1bbl       & 2.91       & 3.07       & 10.1       & 60         & 5500       & 38         & 42         & 5399      \\\\\n",
       "\t61 & 1          & 128        & nissan     & diesel     & std        & two        & sedan      & fwd        & front      & 94.5       & ⋯          & 103        & idi        & 2.99       & 3.47       & 21.9       & 55         & 4800       & 45         & 50         & 7099      \\\\\n",
       "\t118 & 0          &  91        & toyota     & diesel     & std        & four       & sedan      & fwd        & front      & 95.7       & ⋯          & 110        & idi        & 3.27       & 3.35       & 22.5       & 56         & 4500       & 34         & 36         & 7898      \\\\\n",
       "\t119 & 0          &  91        & toyota     & diesel     & std        & four       & hatchback  & fwd        & front      & 95.7       & ⋯          & 110        & idi        & 3.27       & 3.35       & 22.5       & 56         & 4500       & 38         & 47         & 7788      \\\\\n",
       "\t141 & 2          & 122        & volkswagen & diesel     & std        & two        & sedan      & fwd        & front      & 97.3       & ⋯          &  97        & idi        & 3.01       & 3.40       & 23.0       & 52         & 4800       & 37         & 46         & 7775      \\\\\n",
       "\t143 & 2          &  94        & volkswagen & diesel     & std        & four       & sedan      & fwd        & front      & 97.3       & ⋯          &  97        & idi        & 3.01       & 3.40       & 23.0       & 52         & 4800       & 37         & 46         & 7995      \\\\\n",
       "\\end{tabular}\n"
      ],
      "text/markdown": [
       "\n",
       "| <!--/--> | symboling | normalized_losses | maker | fuel | aspiration | doors | body | wheels | engine_location | wheel_base | ⋯ | engine_size | fuel_system | bore | stroke | compression_ratio | horsepower | peak_rpm | city_mpg | highway_mpg | price | \n",
       "|---|---|---|---|---|---|---|---|\n",
       "| 9 | 2          | 121        | chevrolet  | gas        | std        | two        | hatchback  | fwd        | front      | 88.4       | ⋯          |  61        | 2bbl       | 2.91       | 3.03       |  9.5       | 48         | 5100       | 47         | 53         | 5151       | \n",
       "| 20 | 2          | 137        | honda      | gas        | std        | two        | hatchback  | fwd        | front      | 86.6       | ⋯          |  92        | 1bbl       | 2.91       | 3.41       |  9.6       | 58         | 4800       | 49         | 54         | 6479       | \n",
       "| 22 | 1          | 101        | honda      | gas        | std        | two        | hatchback  | fwd        | front      | 93.7       | ⋯          |  79        | 1bbl       | 2.91       | 3.07       | 10.1       | 60         | 5500       | 38         | 42         | 5399       | \n",
       "| 61 | 1          | 128        | nissan     | diesel     | std        | two        | sedan      | fwd        | front      | 94.5       | ⋯          | 103        | idi        | 2.99       | 3.47       | 21.9       | 55         | 4800       | 45         | 50         | 7099       | \n",
       "| 118 | 0          |  91        | toyota     | diesel     | std        | four       | sedan      | fwd        | front      | 95.7       | ⋯          | 110        | idi        | 3.27       | 3.35       | 22.5       | 56         | 4500       | 34         | 36         | 7898       | \n",
       "| 119 | 0          |  91        | toyota     | diesel     | std        | four       | hatchback  | fwd        | front      | 95.7       | ⋯          | 110        | idi        | 3.27       | 3.35       | 22.5       | 56         | 4500       | 38         | 47         | 7788       | \n",
       "| 141 | 2          | 122        | volkswagen | diesel     | std        | two        | sedan      | fwd        | front      | 97.3       | ⋯          |  97        | idi        | 3.01       | 3.40       | 23.0       | 52         | 4800       | 37         | 46         | 7775       | \n",
       "| 143 | 2          |  94        | volkswagen | diesel     | std        | four       | sedan      | fwd        | front      | 97.3       | ⋯          |  97        | idi        | 3.01       | 3.40       | 23.0       | 52         | 4800       | 37         | 46         | 7995       | \n",
       "\n",
       "\n"
      ],
      "text/plain": [
       "    symboling normalized_losses maker      fuel   aspiration doors body     \n",
       "9   2         121               chevrolet  gas    std        two   hatchback\n",
       "20  2         137               honda      gas    std        two   hatchback\n",
       "22  1         101               honda      gas    std        two   hatchback\n",
       "61  1         128               nissan     diesel std        two   sedan    \n",
       "118 0          91               toyota     diesel std        four  sedan    \n",
       "119 0          91               toyota     diesel std        four  hatchback\n",
       "141 2         122               volkswagen diesel std        two   sedan    \n",
       "143 2          94               volkswagen diesel std        four  sedan    \n",
       "    wheels engine_location wheel_base ⋯ engine_size fuel_system bore stroke\n",
       "9   fwd    front           88.4       ⋯  61         2bbl        2.91 3.03  \n",
       "20  fwd    front           86.6       ⋯  92         1bbl        2.91 3.41  \n",
       "22  fwd    front           93.7       ⋯  79         1bbl        2.91 3.07  \n",
       "61  fwd    front           94.5       ⋯ 103         idi         2.99 3.47  \n",
       "118 fwd    front           95.7       ⋯ 110         idi         3.27 3.35  \n",
       "119 fwd    front           95.7       ⋯ 110         idi         3.27 3.35  \n",
       "141 fwd    front           97.3       ⋯  97         idi         3.01 3.40  \n",
       "143 fwd    front           97.3       ⋯  97         idi         3.01 3.40  \n",
       "    compression_ratio horsepower peak_rpm city_mpg highway_mpg price\n",
       "9    9.5              48         5100     47       53          5151 \n",
       "20   9.6              58         4800     49       54          6479 \n",
       "22  10.1              60         5500     38       42          5399 \n",
       "61  21.9              55         4800     45       50          7099 \n",
       "118 22.5              56         4500     34       36          7898 \n",
       "119 22.5              56         4500     38       47          7788 \n",
       "141 23.0              52         4800     37       46          7775 \n",
       "143 23.0              52         4800     37       46          7995 "
      ]
     },
     "metadata": {},
     "output_type": "display_data"
    }
   ],
   "source": [
    "subset(car, horsepower <= 60)"
   ]
  },
  {
   "cell_type": "code",
   "execution_count": 75,
   "metadata": {},
   "outputs": [
    {
     "data": {
      "text/html": [
       "<table>\n",
       "<thead><tr><th></th><th scope=col>symboling</th><th scope=col>normalized_losses</th><th scope=col>maker</th><th scope=col>fuel</th><th scope=col>aspiration</th><th scope=col>doors</th><th scope=col>body</th><th scope=col>wheels</th><th scope=col>engine_location</th><th scope=col>wheel_base</th><th scope=col>⋯</th><th scope=col>engine_size</th><th scope=col>fuel_system</th><th scope=col>bore</th><th scope=col>stroke</th><th scope=col>compression_ratio</th><th scope=col>horsepower</th><th scope=col>peak_rpm</th><th scope=col>city_mpg</th><th scope=col>highway_mpg</th><th scope=col>price</th></tr></thead>\n",
       "<tbody>\n",
       "\t<tr><th scope=row>22</th><td>1        </td><td>101      </td><td>honda    </td><td>gas      </td><td>std      </td><td>two      </td><td>hatchback</td><td>fwd      </td><td>front    </td><td>93.7     </td><td>⋯        </td><td>79       </td><td>1bbl     </td><td>2.91     </td><td>3.07     </td><td>10.1     </td><td>60       </td><td>5500     </td><td>38       </td><td>42       </td><td>5399     </td></tr>\n",
       "</tbody>\n",
       "</table>\n"
      ],
      "text/latex": [
       "\\begin{tabular}{r|llllllllllllllllllllllllll}\n",
       "  & symboling & normalized\\_losses & maker & fuel & aspiration & doors & body & wheels & engine\\_location & wheel\\_base & ⋯ & engine\\_size & fuel\\_system & bore & stroke & compression\\_ratio & horsepower & peak\\_rpm & city\\_mpg & highway\\_mpg & price\\\\\n",
       "\\hline\n",
       "\t22 & 1         & 101       & honda     & gas       & std       & two       & hatchback & fwd       & front     & 93.7      & ⋯         & 79        & 1bbl      & 2.91      & 3.07      & 10.1      & 60        & 5500      & 38        & 42        & 5399     \\\\\n",
       "\\end{tabular}\n"
      ],
      "text/markdown": [
       "\n",
       "| <!--/--> | symboling | normalized_losses | maker | fuel | aspiration | doors | body | wheels | engine_location | wheel_base | ⋯ | engine_size | fuel_system | bore | stroke | compression_ratio | horsepower | peak_rpm | city_mpg | highway_mpg | price | \n",
       "|---|\n",
       "| 22 | 1         | 101       | honda     | gas       | std       | two       | hatchback | fwd       | front     | 93.7      | ⋯         | 79        | 1bbl      | 2.91      | 3.07      | 10.1      | 60        | 5500      | 38        | 42        | 5399      | \n",
       "\n",
       "\n"
      ],
      "text/plain": [
       "   symboling normalized_losses maker fuel aspiration doors body      wheels\n",
       "22 1         101               honda gas  std        two   hatchback fwd   \n",
       "   engine_location wheel_base ⋯ engine_size fuel_system bore stroke\n",
       "22 front           93.7       ⋯ 79          1bbl        2.91 3.07  \n",
       "   compression_ratio horsepower peak_rpm city_mpg highway_mpg price\n",
       "22 10.1              60         5500     38       42          5399 "
      ]
     },
     "metadata": {},
     "output_type": "display_data"
    }
   ],
   "source": [
    "subset(car, horsepower == 60)"
   ]
  },
  {
   "cell_type": "code",
   "execution_count": 77,
   "metadata": {},
   "outputs": [
    {
     "data": {
      "text/html": [
       "<table>\n",
       "<thead><tr><th></th><th scope=col>symboling</th><th scope=col>normalized_losses</th><th scope=col>maker</th><th scope=col>fuel</th><th scope=col>aspiration</th><th scope=col>doors</th><th scope=col>body</th><th scope=col>wheels</th><th scope=col>engine_location</th><th scope=col>wheel_base</th><th scope=col>⋯</th><th scope=col>engine_size</th><th scope=col>fuel_system</th><th scope=col>bore</th><th scope=col>stroke</th><th scope=col>compression_ratio</th><th scope=col>horsepower</th><th scope=col>peak_rpm</th><th scope=col>city_mpg</th><th scope=col>highway_mpg</th><th scope=col>price</th></tr></thead>\n",
       "<tbody>\n",
       "\t<tr><th scope=row>9</th><td>2        </td><td>121      </td><td>chevrolet</td><td>gas      </td><td>std      </td><td>two      </td><td>hatchback</td><td>fwd      </td><td>front    </td><td>88.4     </td><td>⋯        </td><td>61       </td><td>2bbl     </td><td>2.91     </td><td>3.03     </td><td>9.50     </td><td> 48      </td><td>5100     </td><td>47       </td><td>53       </td><td>5151     </td></tr>\n",
       "\t<tr><th scope=row>10</th><td>1        </td><td> 98      </td><td>chevrolet</td><td>gas      </td><td>std      </td><td>two      </td><td>hatchback</td><td>fwd      </td><td>front    </td><td>94.5     </td><td>⋯        </td><td>90       </td><td>2bbl     </td><td>3.03     </td><td>3.11     </td><td>9.60     </td><td> 70      </td><td>5400     </td><td>38       </td><td>43       </td><td>6295     </td></tr>\n",
       "\t<tr><th scope=row>12</th><td>1        </td><td>118      </td><td>dodge    </td><td>gas      </td><td>std      </td><td>two      </td><td>hatchback</td><td>fwd      </td><td>front    </td><td>93.7     </td><td>⋯        </td><td>90       </td><td>2bbl     </td><td>2.97     </td><td>3.23     </td><td>9.41     </td><td> 68      </td><td>5500     </td><td>37       </td><td>41       </td><td>5572     </td></tr>\n",
       "\t<tr><th scope=row>13</th><td>1        </td><td>118      </td><td>dodge    </td><td>gas      </td><td>std      </td><td>two      </td><td>hatchback</td><td>fwd      </td><td>front    </td><td>93.7     </td><td>⋯        </td><td>90       </td><td>2bbl     </td><td>2.97     </td><td>3.23     </td><td>9.40     </td><td> 68      </td><td>5500     </td><td>31       </td><td>38       </td><td>6377     </td></tr>\n",
       "\t<tr><th scope=row>14</th><td>1        </td><td>118      </td><td>dodge    </td><td>gas      </td><td>turbo    </td><td>two      </td><td>hatchback</td><td>fwd      </td><td>front    </td><td>93.7     </td><td>⋯        </td><td>98       </td><td>mpfi     </td><td>3.03     </td><td>3.39     </td><td>7.60     </td><td>102      </td><td>5500     </td><td>24       </td><td>30       </td><td>7957     </td></tr>\n",
       "\t<tr><th scope=row>15</th><td>1        </td><td>148      </td><td>dodge    </td><td>gas      </td><td>std      </td><td>four     </td><td>hatchback</td><td>fwd      </td><td>front    </td><td>93.7     </td><td>⋯        </td><td>90       </td><td>2bbl     </td><td>2.97     </td><td>3.23     </td><td>9.40     </td><td> 68      </td><td>5500     </td><td>31       </td><td>38       </td><td>6229     </td></tr>\n",
       "</tbody>\n",
       "</table>\n"
      ],
      "text/latex": [
       "\\begin{tabular}{r|llllllllllllllllllllllllll}\n",
       "  & symboling & normalized\\_losses & maker & fuel & aspiration & doors & body & wheels & engine\\_location & wheel\\_base & ⋯ & engine\\_size & fuel\\_system & bore & stroke & compression\\_ratio & horsepower & peak\\_rpm & city\\_mpg & highway\\_mpg & price\\\\\n",
       "\\hline\n",
       "\t9 & 2         & 121       & chevrolet & gas       & std       & two       & hatchback & fwd       & front     & 88.4      & ⋯         & 61        & 2bbl      & 2.91      & 3.03      & 9.50      &  48       & 5100      & 47        & 53        & 5151     \\\\\n",
       "\t10 & 1         &  98       & chevrolet & gas       & std       & two       & hatchback & fwd       & front     & 94.5      & ⋯         & 90        & 2bbl      & 3.03      & 3.11      & 9.60      &  70       & 5400      & 38        & 43        & 6295     \\\\\n",
       "\t12 & 1         & 118       & dodge     & gas       & std       & two       & hatchback & fwd       & front     & 93.7      & ⋯         & 90        & 2bbl      & 2.97      & 3.23      & 9.41      &  68       & 5500      & 37        & 41        & 5572     \\\\\n",
       "\t13 & 1         & 118       & dodge     & gas       & std       & two       & hatchback & fwd       & front     & 93.7      & ⋯         & 90        & 2bbl      & 2.97      & 3.23      & 9.40      &  68       & 5500      & 31        & 38        & 6377     \\\\\n",
       "\t14 & 1         & 118       & dodge     & gas       & turbo     & two       & hatchback & fwd       & front     & 93.7      & ⋯         & 98        & mpfi      & 3.03      & 3.39      & 7.60      & 102       & 5500      & 24        & 30        & 7957     \\\\\n",
       "\t15 & 1         & 148       & dodge     & gas       & std       & four      & hatchback & fwd       & front     & 93.7      & ⋯         & 90        & 2bbl      & 2.97      & 3.23      & 9.40      &  68       & 5500      & 31        & 38        & 6229     \\\\\n",
       "\\end{tabular}\n"
      ],
      "text/markdown": [
       "\n",
       "| <!--/--> | symboling | normalized_losses | maker | fuel | aspiration | doors | body | wheels | engine_location | wheel_base | ⋯ | engine_size | fuel_system | bore | stroke | compression_ratio | horsepower | peak_rpm | city_mpg | highway_mpg | price | \n",
       "|---|---|---|---|---|---|\n",
       "| 9 | 2         | 121       | chevrolet | gas       | std       | two       | hatchback | fwd       | front     | 88.4      | ⋯         | 61        | 2bbl      | 2.91      | 3.03      | 9.50      |  48       | 5100      | 47        | 53        | 5151      | \n",
       "| 10 | 1         |  98       | chevrolet | gas       | std       | two       | hatchback | fwd       | front     | 94.5      | ⋯         | 90        | 2bbl      | 3.03      | 3.11      | 9.60      |  70       | 5400      | 38        | 43        | 6295      | \n",
       "| 12 | 1         | 118       | dodge     | gas       | std       | two       | hatchback | fwd       | front     | 93.7      | ⋯         | 90        | 2bbl      | 2.97      | 3.23      | 9.41      |  68       | 5500      | 37        | 41        | 5572      | \n",
       "| 13 | 1         | 118       | dodge     | gas       | std       | two       | hatchback | fwd       | front     | 93.7      | ⋯         | 90        | 2bbl      | 2.97      | 3.23      | 9.40      |  68       | 5500      | 31        | 38        | 6377      | \n",
       "| 14 | 1         | 118       | dodge     | gas       | turbo     | two       | hatchback | fwd       | front     | 93.7      | ⋯         | 98        | mpfi      | 3.03      | 3.39      | 7.60      | 102       | 5500      | 24        | 30        | 7957      | \n",
       "| 15 | 1         | 148       | dodge     | gas       | std       | four      | hatchback | fwd       | front     | 93.7      | ⋯         | 90        | 2bbl      | 2.97      | 3.23      | 9.40      |  68       | 5500      | 31        | 38        | 6229      | \n",
       "\n",
       "\n"
      ],
      "text/plain": [
       "   symboling normalized_losses maker     fuel aspiration doors body      wheels\n",
       "9  2         121               chevrolet gas  std        two   hatchback fwd   \n",
       "10 1          98               chevrolet gas  std        two   hatchback fwd   \n",
       "12 1         118               dodge     gas  std        two   hatchback fwd   \n",
       "13 1         118               dodge     gas  std        two   hatchback fwd   \n",
       "14 1         118               dodge     gas  turbo      two   hatchback fwd   \n",
       "15 1         148               dodge     gas  std        four  hatchback fwd   \n",
       "   engine_location wheel_base ⋯ engine_size fuel_system bore stroke\n",
       "9  front           88.4       ⋯ 61          2bbl        2.91 3.03  \n",
       "10 front           94.5       ⋯ 90          2bbl        3.03 3.11  \n",
       "12 front           93.7       ⋯ 90          2bbl        2.97 3.23  \n",
       "13 front           93.7       ⋯ 90          2bbl        2.97 3.23  \n",
       "14 front           93.7       ⋯ 98          mpfi        3.03 3.39  \n",
       "15 front           93.7       ⋯ 90          2bbl        2.97 3.23  \n",
       "   compression_ratio horsepower peak_rpm city_mpg highway_mpg price\n",
       "9  9.50               48        5100     47       53          5151 \n",
       "10 9.60               70        5400     38       43          6295 \n",
       "12 9.41               68        5500     37       41          5572 \n",
       "13 9.40               68        5500     31       38          6377 \n",
       "14 7.60              102        5500     24       30          7957 \n",
       "15 9.40               68        5500     31       38          6229 "
      ]
     },
     "metadata": {},
     "output_type": "display_data"
    }
   ],
   "source": [
    "head(subset(car, body != 'sedan'))"
   ]
  },
  {
   "cell_type": "markdown",
   "metadata": {},
   "source": [
    "#### 논리 "
   ]
  },
  {
   "cell_type": "markdown",
   "metadata": {},
   "source": [
    "- and"
   ]
  },
  {
   "cell_type": "code",
   "execution_count": 78,
   "metadata": {},
   "outputs": [
    {
     "data": {
      "text/html": [
       "<table>\n",
       "<thead><tr><th></th><th scope=col>symboling</th><th scope=col>normalized_losses</th><th scope=col>maker</th><th scope=col>fuel</th><th scope=col>aspiration</th><th scope=col>doors</th><th scope=col>body</th><th scope=col>wheels</th><th scope=col>engine_location</th><th scope=col>wheel_base</th><th scope=col>⋯</th><th scope=col>engine_size</th><th scope=col>fuel_system</th><th scope=col>bore</th><th scope=col>stroke</th><th scope=col>compression_ratio</th><th scope=col>horsepower</th><th scope=col>peak_rpm</th><th scope=col>city_mpg</th><th scope=col>highway_mpg</th><th scope=col>price</th></tr></thead>\n",
       "<tbody>\n",
       "\t<tr><th scope=row>45</th><td>-1           </td><td>93           </td><td>mercedes-benz</td><td>diesel       </td><td>turbo        </td><td>four         </td><td>sedan        </td><td>rwd          </td><td>front        </td><td>110.0        </td><td>⋯            </td><td>183          </td><td>idi          </td><td>3.58         </td><td>3.64         </td><td>21.5         </td><td>123          </td><td>4350         </td><td>22           </td><td>25           </td><td>25552        </td></tr>\n",
       "\t<tr><th scope=row>46</th><td>-1           </td><td>93           </td><td>mercedes-benz</td><td>diesel       </td><td>turbo        </td><td>four         </td><td>wagon        </td><td>rwd          </td><td>front        </td><td>110.0        </td><td>⋯            </td><td>183          </td><td>idi          </td><td>3.58         </td><td>3.64         </td><td>21.5         </td><td>123          </td><td>4350         </td><td>22           </td><td>25           </td><td>28248        </td></tr>\n",
       "\t<tr><th scope=row>47</th><td> 0           </td><td>93           </td><td>mercedes-benz</td><td>diesel       </td><td>turbo        </td><td>two          </td><td>hardtop      </td><td>rwd          </td><td>front        </td><td>106.7        </td><td>⋯            </td><td>183          </td><td>idi          </td><td>3.58         </td><td>3.64         </td><td>21.5         </td><td>123          </td><td>4350         </td><td>22           </td><td>25           </td><td>28176        </td></tr>\n",
       "\t<tr><th scope=row>48</th><td>-1           </td><td>93           </td><td>mercedes-benz</td><td>diesel       </td><td>turbo        </td><td>four         </td><td>sedan        </td><td>rwd          </td><td>front        </td><td>115.6        </td><td>⋯            </td><td>183          </td><td>idi          </td><td>3.58         </td><td>3.64         </td><td>21.5         </td><td>123          </td><td>4350         </td><td>22           </td><td>25           </td><td>31600        </td></tr>\n",
       "\t<tr><th scope=row>158</th><td>-1           </td><td>95           </td><td>volvo        </td><td>diesel       </td><td>turbo        </td><td>four         </td><td>sedan        </td><td>rwd          </td><td>front        </td><td>109.1        </td><td>⋯            </td><td>145          </td><td>idi          </td><td>3.01         </td><td>3.40         </td><td>23.0         </td><td>106          </td><td>4800         </td><td>26           </td><td>27           </td><td>22470        </td></tr>\n",
       "</tbody>\n",
       "</table>\n"
      ],
      "text/latex": [
       "\\begin{tabular}{r|llllllllllllllllllllllllll}\n",
       "  & symboling & normalized\\_losses & maker & fuel & aspiration & doors & body & wheels & engine\\_location & wheel\\_base & ⋯ & engine\\_size & fuel\\_system & bore & stroke & compression\\_ratio & horsepower & peak\\_rpm & city\\_mpg & highway\\_mpg & price\\\\\n",
       "\\hline\n",
       "\t45 & -1            & 93            & mercedes-benz & diesel        & turbo         & four          & sedan         & rwd           & front         & 110.0         & ⋯             & 183           & idi           & 3.58          & 3.64          & 21.5          & 123           & 4350          & 22            & 25            & 25552        \\\\\n",
       "\t46 & -1            & 93            & mercedes-benz & diesel        & turbo         & four          & wagon         & rwd           & front         & 110.0         & ⋯             & 183           & idi           & 3.58          & 3.64          & 21.5          & 123           & 4350          & 22            & 25            & 28248        \\\\\n",
       "\t47 &  0            & 93            & mercedes-benz & diesel        & turbo         & two           & hardtop       & rwd           & front         & 106.7         & ⋯             & 183           & idi           & 3.58          & 3.64          & 21.5          & 123           & 4350          & 22            & 25            & 28176        \\\\\n",
       "\t48 & -1            & 93            & mercedes-benz & diesel        & turbo         & four          & sedan         & rwd           & front         & 115.6         & ⋯             & 183           & idi           & 3.58          & 3.64          & 21.5          & 123           & 4350          & 22            & 25            & 31600        \\\\\n",
       "\t158 & -1            & 95            & volvo         & diesel        & turbo         & four          & sedan         & rwd           & front         & 109.1         & ⋯             & 145           & idi           & 3.01          & 3.40          & 23.0          & 106           & 4800          & 26            & 27            & 22470        \\\\\n",
       "\\end{tabular}\n"
      ],
      "text/markdown": [
       "\n",
       "| <!--/--> | symboling | normalized_losses | maker | fuel | aspiration | doors | body | wheels | engine_location | wheel_base | ⋯ | engine_size | fuel_system | bore | stroke | compression_ratio | horsepower | peak_rpm | city_mpg | highway_mpg | price | \n",
       "|---|---|---|---|---|\n",
       "| 45 | -1            | 93            | mercedes-benz | diesel        | turbo         | four          | sedan         | rwd           | front         | 110.0         | ⋯             | 183           | idi           | 3.58          | 3.64          | 21.5          | 123           | 4350          | 22            | 25            | 25552         | \n",
       "| 46 | -1            | 93            | mercedes-benz | diesel        | turbo         | four          | wagon         | rwd           | front         | 110.0         | ⋯             | 183           | idi           | 3.58          | 3.64          | 21.5          | 123           | 4350          | 22            | 25            | 28248         | \n",
       "| 47 |  0            | 93            | mercedes-benz | diesel        | turbo         | two           | hardtop       | rwd           | front         | 106.7         | ⋯             | 183           | idi           | 3.58          | 3.64          | 21.5          | 123           | 4350          | 22            | 25            | 28176         | \n",
       "| 48 | -1            | 93            | mercedes-benz | diesel        | turbo         | four          | sedan         | rwd           | front         | 115.6         | ⋯             | 183           | idi           | 3.58          | 3.64          | 21.5          | 123           | 4350          | 22            | 25            | 31600         | \n",
       "| 158 | -1            | 95            | volvo         | diesel        | turbo         | four          | sedan         | rwd           | front         | 109.1         | ⋯             | 145           | idi           | 3.01          | 3.40          | 23.0          | 106           | 4800          | 26            | 27            | 22470         | \n",
       "\n",
       "\n"
      ],
      "text/plain": [
       "    symboling normalized_losses maker         fuel   aspiration doors body   \n",
       "45  -1        93                mercedes-benz diesel turbo      four  sedan  \n",
       "46  -1        93                mercedes-benz diesel turbo      four  wagon  \n",
       "47   0        93                mercedes-benz diesel turbo      two   hardtop\n",
       "48  -1        93                mercedes-benz diesel turbo      four  sedan  \n",
       "158 -1        95                volvo         diesel turbo      four  sedan  \n",
       "    wheels engine_location wheel_base ⋯ engine_size fuel_system bore stroke\n",
       "45  rwd    front           110.0      ⋯ 183         idi         3.58 3.64  \n",
       "46  rwd    front           110.0      ⋯ 183         idi         3.58 3.64  \n",
       "47  rwd    front           106.7      ⋯ 183         idi         3.58 3.64  \n",
       "48  rwd    front           115.6      ⋯ 183         idi         3.58 3.64  \n",
       "158 rwd    front           109.1      ⋯ 145         idi         3.01 3.40  \n",
       "    compression_ratio horsepower peak_rpm city_mpg highway_mpg price\n",
       "45  21.5              123        4350     22       25          25552\n",
       "46  21.5              123        4350     22       25          28248\n",
       "47  21.5              123        4350     22       25          28176\n",
       "48  21.5              123        4350     22       25          31600\n",
       "158 23.0              106        4800     26       27          22470"
      ]
     },
     "metadata": {},
     "output_type": "display_data"
    }
   ],
   "source": [
    "subset(car, horsepower > 100 & fuel == 'diesel')"
   ]
  },
  {
   "cell_type": "markdown",
   "metadata": {},
   "source": [
    " - or"
   ]
  },
  {
   "cell_type": "code",
   "execution_count": 80,
   "metadata": {},
   "outputs": [
    {
     "data": {
      "text/html": [
       "<table>\n",
       "<thead><tr><th></th><th scope=col>symboling</th><th scope=col>normalized_losses</th><th scope=col>maker</th><th scope=col>fuel</th><th scope=col>aspiration</th><th scope=col>doors</th><th scope=col>body</th><th scope=col>wheels</th><th scope=col>engine_location</th><th scope=col>wheel_base</th><th scope=col>⋯</th><th scope=col>engine_size</th><th scope=col>fuel_system</th><th scope=col>bore</th><th scope=col>stroke</th><th scope=col>compression_ratio</th><th scope=col>horsepower</th><th scope=col>peak_rpm</th><th scope=col>city_mpg</th><th scope=col>highway_mpg</th><th scope=col>price</th></tr></thead>\n",
       "<tbody>\n",
       "\t<tr><th scope=row>2</th><td> 2           </td><td>164          </td><td>audi         </td><td>gas          </td><td>std          </td><td>four         </td><td>sedan        </td><td>4wd          </td><td>front        </td><td> 99.4        </td><td>⋯            </td><td>136          </td><td>mpfi         </td><td>3.19         </td><td>3.40         </td><td> 8.0         </td><td>115          </td><td>5500         </td><td>18           </td><td>22           </td><td>17450        </td></tr>\n",
       "\t<tr><th scope=row>18</th><td>-1           </td><td>110          </td><td>dodge        </td><td>gas          </td><td>std          </td><td>four         </td><td>wagon        </td><td>fwd          </td><td>front        </td><td>103.3        </td><td>⋯            </td><td>122          </td><td>2bbl         </td><td>3.34         </td><td>3.46         </td><td> 8.5         </td><td> 88          </td><td>5000         </td><td>24           </td><td>30           </td><td> 8921        </td></tr>\n",
       "\t<tr><th scope=row>26</th><td> 0           </td><td> 78          </td><td>honda        </td><td>gas          </td><td>std          </td><td>four         </td><td>wagon        </td><td>fwd          </td><td>front        </td><td> 96.5        </td><td>⋯            </td><td> 92          </td><td>1bbl         </td><td>2.92         </td><td>3.41         </td><td> 9.2         </td><td> 76          </td><td>6000         </td><td>30           </td><td>34           </td><td> 7295        </td></tr>\n",
       "\t<tr><th scope=row>46</th><td>-1           </td><td> 93          </td><td>mercedes-benz</td><td>diesel       </td><td>turbo        </td><td>four         </td><td>wagon        </td><td>rwd          </td><td>front        </td><td>110.0        </td><td>⋯            </td><td>183          </td><td>idi          </td><td>3.58         </td><td>3.64         </td><td>21.5         </td><td>123          </td><td>4350         </td><td>22           </td><td>25           </td><td>28248        </td></tr>\n",
       "\t<tr><th scope=row>64</th><td> 1           </td><td>103          </td><td>nissan       </td><td>gas          </td><td>std          </td><td>four         </td><td>wagon        </td><td>fwd          </td><td>front        </td><td> 94.5        </td><td>⋯            </td><td> 97          </td><td>2bbl         </td><td>3.15         </td><td>3.29         </td><td> 9.4         </td><td> 69          </td><td>5200         </td><td>31           </td><td>37           </td><td> 7349        </td></tr>\n",
       "\t<tr><th scope=row>68</th><td> 1           </td><td>103          </td><td>nissan       </td><td>gas          </td><td>std          </td><td>four         </td><td>wagon        </td><td>fwd          </td><td>front        </td><td> 94.5        </td><td>⋯            </td><td> 97          </td><td>2bbl         </td><td>3.15         </td><td>3.29         </td><td> 9.4         </td><td> 69          </td><td>5200         </td><td>31           </td><td>37           </td><td> 7999        </td></tr>\n",
       "</tbody>\n",
       "</table>\n"
      ],
      "text/latex": [
       "\\begin{tabular}{r|llllllllllllllllllllllllll}\n",
       "  & symboling & normalized\\_losses & maker & fuel & aspiration & doors & body & wheels & engine\\_location & wheel\\_base & ⋯ & engine\\_size & fuel\\_system & bore & stroke & compression\\_ratio & horsepower & peak\\_rpm & city\\_mpg & highway\\_mpg & price\\\\\n",
       "\\hline\n",
       "\t2 &  2            & 164           & audi          & gas           & std           & four          & sedan         & 4wd           & front         &  99.4         & ⋯             & 136           & mpfi          & 3.19          & 3.40          &  8.0          & 115           & 5500          & 18            & 22            & 17450        \\\\\n",
       "\t18 & -1            & 110           & dodge         & gas           & std           & four          & wagon         & fwd           & front         & 103.3         & ⋯             & 122           & 2bbl          & 3.34          & 3.46          &  8.5          &  88           & 5000          & 24            & 30            &  8921        \\\\\n",
       "\t26 &  0            &  78           & honda         & gas           & std           & four          & wagon         & fwd           & front         &  96.5         & ⋯             &  92           & 1bbl          & 2.92          & 3.41          &  9.2          &  76           & 6000          & 30            & 34            &  7295        \\\\\n",
       "\t46 & -1            &  93           & mercedes-benz & diesel        & turbo         & four          & wagon         & rwd           & front         & 110.0         & ⋯             & 183           & idi           & 3.58          & 3.64          & 21.5          & 123           & 4350          & 22            & 25            & 28248        \\\\\n",
       "\t64 &  1            & 103           & nissan        & gas           & std           & four          & wagon         & fwd           & front         &  94.5         & ⋯             &  97           & 2bbl          & 3.15          & 3.29          &  9.4          &  69           & 5200          & 31            & 37            &  7349        \\\\\n",
       "\t68 &  1            & 103           & nissan        & gas           & std           & four          & wagon         & fwd           & front         &  94.5         & ⋯             &  97           & 2bbl          & 3.15          & 3.29          &  9.4          &  69           & 5200          & 31            & 37            &  7999        \\\\\n",
       "\\end{tabular}\n"
      ],
      "text/markdown": [
       "\n",
       "| <!--/--> | symboling | normalized_losses | maker | fuel | aspiration | doors | body | wheels | engine_location | wheel_base | ⋯ | engine_size | fuel_system | bore | stroke | compression_ratio | horsepower | peak_rpm | city_mpg | highway_mpg | price | \n",
       "|---|---|---|---|---|---|\n",
       "| 2 |  2            | 164           | audi          | gas           | std           | four          | sedan         | 4wd           | front         |  99.4         | ⋯             | 136           | mpfi          | 3.19          | 3.40          |  8.0          | 115           | 5500          | 18            | 22            | 17450         | \n",
       "| 18 | -1            | 110           | dodge         | gas           | std           | four          | wagon         | fwd           | front         | 103.3         | ⋯             | 122           | 2bbl          | 3.34          | 3.46          |  8.5          |  88           | 5000          | 24            | 30            |  8921         | \n",
       "| 26 |  0            |  78           | honda         | gas           | std           | four          | wagon         | fwd           | front         |  96.5         | ⋯             |  92           | 1bbl          | 2.92          | 3.41          |  9.2          |  76           | 6000          | 30            | 34            |  7295         | \n",
       "| 46 | -1            |  93           | mercedes-benz | diesel        | turbo         | four          | wagon         | rwd           | front         | 110.0         | ⋯             | 183           | idi           | 3.58          | 3.64          | 21.5          | 123           | 4350          | 22            | 25            | 28248         | \n",
       "| 64 |  1            | 103           | nissan        | gas           | std           | four          | wagon         | fwd           | front         |  94.5         | ⋯             |  97           | 2bbl          | 3.15          | 3.29          |  9.4          |  69           | 5200          | 31            | 37            |  7349         | \n",
       "| 68 |  1            | 103           | nissan        | gas           | std           | four          | wagon         | fwd           | front         |  94.5         | ⋯             |  97           | 2bbl          | 3.15          | 3.29          |  9.4          |  69           | 5200          | 31            | 37            |  7999         | \n",
       "\n",
       "\n"
      ],
      "text/plain": [
       "   symboling normalized_losses maker         fuel   aspiration doors body \n",
       "2   2        164               audi          gas    std        four  sedan\n",
       "18 -1        110               dodge         gas    std        four  wagon\n",
       "26  0         78               honda         gas    std        four  wagon\n",
       "46 -1         93               mercedes-benz diesel turbo      four  wagon\n",
       "64  1        103               nissan        gas    std        four  wagon\n",
       "68  1        103               nissan        gas    std        four  wagon\n",
       "   wheels engine_location wheel_base ⋯ engine_size fuel_system bore stroke\n",
       "2  4wd    front            99.4      ⋯ 136         mpfi        3.19 3.40  \n",
       "18 fwd    front           103.3      ⋯ 122         2bbl        3.34 3.46  \n",
       "26 fwd    front            96.5      ⋯  92         1bbl        2.92 3.41  \n",
       "46 rwd    front           110.0      ⋯ 183         idi         3.58 3.64  \n",
       "64 fwd    front            94.5      ⋯  97         2bbl        3.15 3.29  \n",
       "68 fwd    front            94.5      ⋯  97         2bbl        3.15 3.29  \n",
       "   compression_ratio horsepower peak_rpm city_mpg highway_mpg price\n",
       "2   8.0              115        5500     18       22          17450\n",
       "18  8.5               88        5000     24       30           8921\n",
       "26  9.2               76        6000     30       34           7295\n",
       "46 21.5              123        4350     22       25          28248\n",
       "64  9.4               69        5200     31       37           7349\n",
       "68  9.4               69        5200     31       37           7999"
      ]
     },
     "metadata": {},
     "output_type": "display_data"
    }
   ],
   "source": [
    "head(subset(car, body == 'wagon' | wheels == '4wd'))"
   ]
  },
  {
   "cell_type": "markdown",
   "metadata": {},
   "source": [
    " - not"
   ]
  },
  {
   "cell_type": "code",
   "execution_count": 81,
   "metadata": {},
   "outputs": [
    {
     "data": {
      "text/html": [
       "<table>\n",
       "<thead><tr><th></th><th scope=col>symboling</th><th scope=col>normalized_losses</th><th scope=col>maker</th><th scope=col>fuel</th><th scope=col>aspiration</th><th scope=col>doors</th><th scope=col>body</th><th scope=col>wheels</th><th scope=col>engine_location</th><th scope=col>wheel_base</th><th scope=col>⋯</th><th scope=col>engine_size</th><th scope=col>fuel_system</th><th scope=col>bore</th><th scope=col>stroke</th><th scope=col>compression_ratio</th><th scope=col>horsepower</th><th scope=col>peak_rpm</th><th scope=col>city_mpg</th><th scope=col>highway_mpg</th><th scope=col>price</th></tr></thead>\n",
       "<tbody>\n",
       "\t<tr><th scope=row>1</th><td>2    </td><td>164  </td><td>audi </td><td>gas  </td><td>std  </td><td>four </td><td>sedan</td><td>fwd  </td><td>front</td><td> 99.8</td><td>⋯    </td><td>109  </td><td>mpfi </td><td>3.19 </td><td>3.40 </td><td>10.0 </td><td>102  </td><td>5500 </td><td>24   </td><td>30   </td><td>13950</td></tr>\n",
       "\t<tr><th scope=row>3</th><td>1    </td><td>158  </td><td>audi </td><td>gas  </td><td>std  </td><td>four </td><td>sedan</td><td>fwd  </td><td>front</td><td>105.8</td><td>⋯    </td><td>136  </td><td>mpfi </td><td>3.19 </td><td>3.40 </td><td> 8.5 </td><td>110  </td><td>5500 </td><td>19   </td><td>25   </td><td>17710</td></tr>\n",
       "\t<tr><th scope=row>4</th><td>1    </td><td>158  </td><td>audi </td><td>gas  </td><td>turbo</td><td>four </td><td>sedan</td><td>fwd  </td><td>front</td><td>105.8</td><td>⋯    </td><td>131  </td><td>mpfi </td><td>3.13 </td><td>3.40 </td><td> 8.3 </td><td>140  </td><td>5500 </td><td>17   </td><td>20   </td><td>23875</td></tr>\n",
       "\t<tr><th scope=row>5</th><td>2    </td><td>192  </td><td>bmw  </td><td>gas  </td><td>std  </td><td>two  </td><td>sedan</td><td>rwd  </td><td>front</td><td>101.2</td><td>⋯    </td><td>108  </td><td>mpfi </td><td>3.50 </td><td>2.80 </td><td> 8.8 </td><td>101  </td><td>5800 </td><td>23   </td><td>29   </td><td>16430</td></tr>\n",
       "\t<tr><th scope=row>6</th><td>0    </td><td>192  </td><td>bmw  </td><td>gas  </td><td>std  </td><td>four </td><td>sedan</td><td>rwd  </td><td>front</td><td>101.2</td><td>⋯    </td><td>108  </td><td>mpfi </td><td>3.50 </td><td>2.80 </td><td> 8.8 </td><td>101  </td><td>5800 </td><td>23   </td><td>29   </td><td>16925</td></tr>\n",
       "\t<tr><th scope=row>7</th><td>0    </td><td>188  </td><td>bmw  </td><td>gas  </td><td>std  </td><td>two  </td><td>sedan</td><td>rwd  </td><td>front</td><td>101.2</td><td>⋯    </td><td>164  </td><td>mpfi </td><td>3.31 </td><td>3.19 </td><td> 9.0 </td><td>121  </td><td>4250 </td><td>21   </td><td>28   </td><td>20970</td></tr>\n",
       "</tbody>\n",
       "</table>\n"
      ],
      "text/latex": [
       "\\begin{tabular}{r|llllllllllllllllllllllllll}\n",
       "  & symboling & normalized\\_losses & maker & fuel & aspiration & doors & body & wheels & engine\\_location & wheel\\_base & ⋯ & engine\\_size & fuel\\_system & bore & stroke & compression\\_ratio & horsepower & peak\\_rpm & city\\_mpg & highway\\_mpg & price\\\\\n",
       "\\hline\n",
       "\t1 & 2     & 164   & audi  & gas   & std   & four  & sedan & fwd   & front &  99.8 & ⋯     & 109   & mpfi  & 3.19  & 3.40  & 10.0  & 102   & 5500  & 24    & 30    & 13950\\\\\n",
       "\t3 & 1     & 158   & audi  & gas   & std   & four  & sedan & fwd   & front & 105.8 & ⋯     & 136   & mpfi  & 3.19  & 3.40  &  8.5  & 110   & 5500  & 19    & 25    & 17710\\\\\n",
       "\t4 & 1     & 158   & audi  & gas   & turbo & four  & sedan & fwd   & front & 105.8 & ⋯     & 131   & mpfi  & 3.13  & 3.40  &  8.3  & 140   & 5500  & 17    & 20    & 23875\\\\\n",
       "\t5 & 2     & 192   & bmw   & gas   & std   & two   & sedan & rwd   & front & 101.2 & ⋯     & 108   & mpfi  & 3.50  & 2.80  &  8.8  & 101   & 5800  & 23    & 29    & 16430\\\\\n",
       "\t6 & 0     & 192   & bmw   & gas   & std   & four  & sedan & rwd   & front & 101.2 & ⋯     & 108   & mpfi  & 3.50  & 2.80  &  8.8  & 101   & 5800  & 23    & 29    & 16925\\\\\n",
       "\t7 & 0     & 188   & bmw   & gas   & std   & two   & sedan & rwd   & front & 101.2 & ⋯     & 164   & mpfi  & 3.31  & 3.19  &  9.0  & 121   & 4250  & 21    & 28    & 20970\\\\\n",
       "\\end{tabular}\n"
      ],
      "text/markdown": [
       "\n",
       "| <!--/--> | symboling | normalized_losses | maker | fuel | aspiration | doors | body | wheels | engine_location | wheel_base | ⋯ | engine_size | fuel_system | bore | stroke | compression_ratio | horsepower | peak_rpm | city_mpg | highway_mpg | price | \n",
       "|---|---|---|---|---|---|\n",
       "| 1 | 2     | 164   | audi  | gas   | std   | four  | sedan | fwd   | front |  99.8 | ⋯     | 109   | mpfi  | 3.19  | 3.40  | 10.0  | 102   | 5500  | 24    | 30    | 13950 | \n",
       "| 3 | 1     | 158   | audi  | gas   | std   | four  | sedan | fwd   | front | 105.8 | ⋯     | 136   | mpfi  | 3.19  | 3.40  |  8.5  | 110   | 5500  | 19    | 25    | 17710 | \n",
       "| 4 | 1     | 158   | audi  | gas   | turbo | four  | sedan | fwd   | front | 105.8 | ⋯     | 131   | mpfi  | 3.13  | 3.40  |  8.3  | 140   | 5500  | 17    | 20    | 23875 | \n",
       "| 5 | 2     | 192   | bmw   | gas   | std   | two   | sedan | rwd   | front | 101.2 | ⋯     | 108   | mpfi  | 3.50  | 2.80  |  8.8  | 101   | 5800  | 23    | 29    | 16430 | \n",
       "| 6 | 0     | 192   | bmw   | gas   | std   | four  | sedan | rwd   | front | 101.2 | ⋯     | 108   | mpfi  | 3.50  | 2.80  |  8.8  | 101   | 5800  | 23    | 29    | 16925 | \n",
       "| 7 | 0     | 188   | bmw   | gas   | std   | two   | sedan | rwd   | front | 101.2 | ⋯     | 164   | mpfi  | 3.31  | 3.19  |  9.0  | 121   | 4250  | 21    | 28    | 20970 | \n",
       "\n",
       "\n"
      ],
      "text/plain": [
       "  symboling normalized_losses maker fuel aspiration doors body  wheels\n",
       "1 2         164               audi  gas  std        four  sedan fwd   \n",
       "3 1         158               audi  gas  std        four  sedan fwd   \n",
       "4 1         158               audi  gas  turbo      four  sedan fwd   \n",
       "5 2         192               bmw   gas  std        two   sedan rwd   \n",
       "6 0         192               bmw   gas  std        four  sedan rwd   \n",
       "7 0         188               bmw   gas  std        two   sedan rwd   \n",
       "  engine_location wheel_base ⋯ engine_size fuel_system bore stroke\n",
       "1 front            99.8      ⋯ 109         mpfi        3.19 3.40  \n",
       "3 front           105.8      ⋯ 136         mpfi        3.19 3.40  \n",
       "4 front           105.8      ⋯ 131         mpfi        3.13 3.40  \n",
       "5 front           101.2      ⋯ 108         mpfi        3.50 2.80  \n",
       "6 front           101.2      ⋯ 108         mpfi        3.50 2.80  \n",
       "7 front           101.2      ⋯ 164         mpfi        3.31 3.19  \n",
       "  compression_ratio horsepower peak_rpm city_mpg highway_mpg price\n",
       "1 10.0              102        5500     24       30          13950\n",
       "3  8.5              110        5500     19       25          17710\n",
       "4  8.3              140        5500     17       20          23875\n",
       "5  8.8              101        5800     23       29          16430\n",
       "6  8.8              101        5800     23       29          16925\n",
       "7  9.0              121        4250     21       28          20970"
      ]
     },
     "metadata": {},
     "output_type": "display_data"
    }
   ],
   "source": [
    "head(subset(car, !(body == 'wagon' | wheels == '4wd')))"
   ]
  },
  {
   "cell_type": "markdown",
   "metadata": {},
   "source": [
    "- 보론"
   ]
  },
  {
   "cell_type": "code",
   "execution_count": 82,
   "metadata": {},
   "outputs": [
    {
     "data": {
      "text/html": [
       "<table>\n",
       "<thead><tr><th scope=col>num</th><th scope=col>name</th></tr></thead>\n",
       "<tbody>\n",
       "\t<tr><td>36925</td><td>abc  </td></tr>\n",
       "\t<tr><td>36941</td><td>def  </td></tr>\n",
       "\t<tr><td>12345</td><td>abd  </td></tr>\n",
       "</tbody>\n",
       "</table>\n"
      ],
      "text/latex": [
       "\\begin{tabular}{r|ll}\n",
       " num & name\\\\\n",
       "\\hline\n",
       "\t 36925 & abc  \\\\\n",
       "\t 36941 & def  \\\\\n",
       "\t 12345 & abd  \\\\\n",
       "\\end{tabular}\n"
      ],
      "text/markdown": [
       "\n",
       "num | name | \n",
       "|---|---|---|\n",
       "| 36925 | abc   | \n",
       "| 36941 | def   | \n",
       "| 12345 | abd   | \n",
       "\n",
       "\n"
      ],
      "text/plain": [
       "  num   name\n",
       "1 36925 abc \n",
       "2 36941 def \n",
       "3 12345 abd "
      ]
     },
     "metadata": {},
     "output_type": "display_data"
    }
   ],
   "source": [
    "dat = data.frame(num=c(36925,36941,12345), name=c('abc', 'def', 'abd'))\n",
    "dat"
   ]
  },
  {
   "cell_type": "code",
   "execution_count": 83,
   "metadata": {},
   "outputs": [
    {
     "data": {
      "text/html": [
       "<table>\n",
       "<thead><tr><th scope=col>num</th><th scope=col>name</th></tr></thead>\n",
       "<tbody>\n",
       "\t<tr><td>36925</td><td>abc  </td></tr>\n",
       "\t<tr><td>36941</td><td>def  </td></tr>\n",
       "</tbody>\n",
       "</table>\n"
      ],
      "text/latex": [
       "\\begin{tabular}{r|ll}\n",
       " num & name\\\\\n",
       "\\hline\n",
       "\t 36925 & abc  \\\\\n",
       "\t 36941 & def  \\\\\n",
       "\\end{tabular}\n"
      ],
      "text/markdown": [
       "\n",
       "num | name | \n",
       "|---|---|\n",
       "| 36925 | abc   | \n",
       "| 36941 | def   | \n",
       "\n",
       "\n"
      ],
      "text/plain": [
       "  num   name\n",
       "1 36925 abc \n",
       "2 36941 def "
      ]
     },
     "metadata": {},
     "output_type": "display_data"
    }
   ],
   "source": [
    "subset(dat, num %/% 100 == 369) # 100으로 나눈 몫이 369인 경우"
   ]
  },
  {
   "cell_type": "code",
   "execution_count": 84,
   "metadata": {},
   "outputs": [
    {
     "data": {
      "text/html": [
       "<table>\n",
       "<thead><tr><th></th><th scope=col>num</th><th scope=col>name</th></tr></thead>\n",
       "<tbody>\n",
       "\t<tr><th scope=row>1</th><td>36925</td><td>abc  </td></tr>\n",
       "\t<tr><th scope=row>3</th><td>12345</td><td>abd  </td></tr>\n",
       "</tbody>\n",
       "</table>\n"
      ],
      "text/latex": [
       "\\begin{tabular}{r|ll}\n",
       "  & num & name\\\\\n",
       "\\hline\n",
       "\t1 & 36925 & abc  \\\\\n",
       "\t3 & 12345 & abd  \\\\\n",
       "\\end{tabular}\n"
      ],
      "text/markdown": [
       "\n",
       "| <!--/--> | num | name | \n",
       "|---|---|\n",
       "| 1 | 36925 | abc   | \n",
       "| 3 | 12345 | abd   | \n",
       "\n",
       "\n"
      ],
      "text/plain": [
       "  num   name\n",
       "1 36925 abc \n",
       "3 12345 abd "
      ]
     },
     "metadata": {},
     "output_type": "display_data"
    }
   ],
   "source": [
    "subset(dat, startsWith(as.character(name), 'ab')) # name의 시작이 ab인 경우"
   ]
  },
  {
   "cell_type": "code",
   "execution_count": 85,
   "metadata": {},
   "outputs": [
    {
     "data": {
      "text/html": [
       "<table>\n",
       "<thead><tr><th scope=col>num</th><th scope=col>name</th></tr></thead>\n",
       "<tbody>\n",
       "\t<tr><td>36925</td><td>abc  </td></tr>\n",
       "</tbody>\n",
       "</table>\n"
      ],
      "text/latex": [
       "\\begin{tabular}{r|ll}\n",
       " num & name\\\\\n",
       "\\hline\n",
       "\t 36925 & abc  \\\\\n",
       "\\end{tabular}\n"
      ],
      "text/markdown": [
       "\n",
       "num | name | \n",
       "|---|\n",
       "| 36925 | abc   | \n",
       "\n",
       "\n"
      ],
      "text/plain": [
       "  num   name\n",
       "1 36925 abc "
      ]
     },
     "metadata": {},
     "output_type": "display_data"
    }
   ],
   "source": [
    "subset(dat, endsWith(as.character(name), 'bc')) # name의 끝이 bc인경우"
   ]
  },
  {
   "cell_type": "markdown",
   "metadata": {},
   "source": [
    "#### 데이터 저장 "
   ]
  },
  {
   "cell_type": "code",
   "execution_count": 86,
   "metadata": {},
   "outputs": [
    {
     "data": {
      "text/html": [
       "<table>\n",
       "<thead><tr><th></th><th scope=col>symboling</th><th scope=col>normalized_losses</th><th scope=col>maker</th><th scope=col>fuel</th><th scope=col>aspiration</th><th scope=col>doors</th><th scope=col>body</th><th scope=col>wheels</th><th scope=col>engine_location</th><th scope=col>wheel_base</th><th scope=col>⋯</th><th scope=col>engine_size</th><th scope=col>fuel_system</th><th scope=col>bore</th><th scope=col>stroke</th><th scope=col>compression_ratio</th><th scope=col>horsepower</th><th scope=col>peak_rpm</th><th scope=col>city_mpg</th><th scope=col>highway_mpg</th><th scope=col>price</th></tr></thead>\n",
       "<tbody>\n",
       "\t<tr><th scope=row>18</th><td>-1           </td><td>110          </td><td>dodge        </td><td>gas          </td><td>std          </td><td>four         </td><td>wagon        </td><td>fwd          </td><td>front        </td><td>103.3        </td><td>⋯            </td><td>122          </td><td>2bbl         </td><td>3.34         </td><td>3.46         </td><td> 8.5         </td><td> 88          </td><td>5000         </td><td>24           </td><td>30           </td><td> 8921        </td></tr>\n",
       "\t<tr><th scope=row>26</th><td> 0           </td><td> 78          </td><td>honda        </td><td>gas          </td><td>std          </td><td>four         </td><td>wagon        </td><td>fwd          </td><td>front        </td><td> 96.5        </td><td>⋯            </td><td> 92          </td><td>1bbl         </td><td>2.92         </td><td>3.41         </td><td> 9.2         </td><td> 76          </td><td>6000         </td><td>30           </td><td>34           </td><td> 7295        </td></tr>\n",
       "\t<tr><th scope=row>46</th><td>-1           </td><td> 93          </td><td>mercedes-benz</td><td>diesel       </td><td>turbo        </td><td>four         </td><td>wagon        </td><td>rwd          </td><td>front        </td><td>110.0        </td><td>⋯            </td><td>183          </td><td>idi          </td><td>3.58         </td><td>3.64         </td><td>21.5         </td><td>123          </td><td>4350         </td><td>22           </td><td>25           </td><td>28248        </td></tr>\n",
       "\t<tr><th scope=row>64</th><td> 1           </td><td>103          </td><td>nissan       </td><td>gas          </td><td>std          </td><td>four         </td><td>wagon        </td><td>fwd          </td><td>front        </td><td> 94.5        </td><td>⋯            </td><td> 97          </td><td>2bbl         </td><td>3.15         </td><td>3.29         </td><td> 9.4         </td><td> 69          </td><td>5200         </td><td>31           </td><td>37           </td><td> 7349        </td></tr>\n",
       "\t<tr><th scope=row>68</th><td> 1           </td><td>103          </td><td>nissan       </td><td>gas          </td><td>std          </td><td>four         </td><td>wagon        </td><td>fwd          </td><td>front        </td><td> 94.5        </td><td>⋯            </td><td> 97          </td><td>2bbl         </td><td>3.15         </td><td>3.29         </td><td> 9.4         </td><td> 69          </td><td>5200         </td><td>31           </td><td>37           </td><td> 7999        </td></tr>\n",
       "\t<tr><th scope=row>73</th><td> 0           </td><td>108          </td><td>nissan       </td><td>gas          </td><td>std          </td><td>four         </td><td>wagon        </td><td>fwd          </td><td>front        </td><td>100.4        </td><td>⋯            </td><td>181          </td><td>mpfi         </td><td>3.43         </td><td>3.27         </td><td> 9.0         </td><td>152          </td><td>5200         </td><td>17           </td><td>22           </td><td>14399        </td></tr>\n",
       "</tbody>\n",
       "</table>\n"
      ],
      "text/latex": [
       "\\begin{tabular}{r|llllllllllllllllllllllllll}\n",
       "  & symboling & normalized\\_losses & maker & fuel & aspiration & doors & body & wheels & engine\\_location & wheel\\_base & ⋯ & engine\\_size & fuel\\_system & bore & stroke & compression\\_ratio & horsepower & peak\\_rpm & city\\_mpg & highway\\_mpg & price\\\\\n",
       "\\hline\n",
       "\t18 & -1            & 110           & dodge         & gas           & std           & four          & wagon         & fwd           & front         & 103.3         & ⋯             & 122           & 2bbl          & 3.34          & 3.46          &  8.5          &  88           & 5000          & 24            & 30            &  8921        \\\\\n",
       "\t26 &  0            &  78           & honda         & gas           & std           & four          & wagon         & fwd           & front         &  96.5         & ⋯             &  92           & 1bbl          & 2.92          & 3.41          &  9.2          &  76           & 6000          & 30            & 34            &  7295        \\\\\n",
       "\t46 & -1            &  93           & mercedes-benz & diesel        & turbo         & four          & wagon         & rwd           & front         & 110.0         & ⋯             & 183           & idi           & 3.58          & 3.64          & 21.5          & 123           & 4350          & 22            & 25            & 28248        \\\\\n",
       "\t64 &  1            & 103           & nissan        & gas           & std           & four          & wagon         & fwd           & front         &  94.5         & ⋯             &  97           & 2bbl          & 3.15          & 3.29          &  9.4          &  69           & 5200          & 31            & 37            &  7349        \\\\\n",
       "\t68 &  1            & 103           & nissan        & gas           & std           & four          & wagon         & fwd           & front         &  94.5         & ⋯             &  97           & 2bbl          & 3.15          & 3.29          &  9.4          &  69           & 5200          & 31            & 37            &  7999        \\\\\n",
       "\t73 &  0            & 108           & nissan        & gas           & std           & four          & wagon         & fwd           & front         & 100.4         & ⋯             & 181           & mpfi          & 3.43          & 3.27          &  9.0          & 152           & 5200          & 17            & 22            & 14399        \\\\\n",
       "\\end{tabular}\n"
      ],
      "text/markdown": [
       "\n",
       "| <!--/--> | symboling | normalized_losses | maker | fuel | aspiration | doors | body | wheels | engine_location | wheel_base | ⋯ | engine_size | fuel_system | bore | stroke | compression_ratio | horsepower | peak_rpm | city_mpg | highway_mpg | price | \n",
       "|---|---|---|---|---|---|\n",
       "| 18 | -1            | 110           | dodge         | gas           | std           | four          | wagon         | fwd           | front         | 103.3         | ⋯             | 122           | 2bbl          | 3.34          | 3.46          |  8.5          |  88           | 5000          | 24            | 30            |  8921         | \n",
       "| 26 |  0            |  78           | honda         | gas           | std           | four          | wagon         | fwd           | front         |  96.5         | ⋯             |  92           | 1bbl          | 2.92          | 3.41          |  9.2          |  76           | 6000          | 30            | 34            |  7295         | \n",
       "| 46 | -1            |  93           | mercedes-benz | diesel        | turbo         | four          | wagon         | rwd           | front         | 110.0         | ⋯             | 183           | idi           | 3.58          | 3.64          | 21.5          | 123           | 4350          | 22            | 25            | 28248         | \n",
       "| 64 |  1            | 103           | nissan        | gas           | std           | four          | wagon         | fwd           | front         |  94.5         | ⋯             |  97           | 2bbl          | 3.15          | 3.29          |  9.4          |  69           | 5200          | 31            | 37            |  7349         | \n",
       "| 68 |  1            | 103           | nissan        | gas           | std           | four          | wagon         | fwd           | front         |  94.5         | ⋯             |  97           | 2bbl          | 3.15          | 3.29          |  9.4          |  69           | 5200          | 31            | 37            |  7999         | \n",
       "| 73 |  0            | 108           | nissan        | gas           | std           | four          | wagon         | fwd           | front         | 100.4         | ⋯             | 181           | mpfi          | 3.43          | 3.27          |  9.0          | 152           | 5200          | 17            | 22            | 14399         | \n",
       "\n",
       "\n"
      ],
      "text/plain": [
       "   symboling normalized_losses maker         fuel   aspiration doors body \n",
       "18 -1        110               dodge         gas    std        four  wagon\n",
       "26  0         78               honda         gas    std        four  wagon\n",
       "46 -1         93               mercedes-benz diesel turbo      four  wagon\n",
       "64  1        103               nissan        gas    std        four  wagon\n",
       "68  1        103               nissan        gas    std        four  wagon\n",
       "73  0        108               nissan        gas    std        four  wagon\n",
       "   wheels engine_location wheel_base ⋯ engine_size fuel_system bore stroke\n",
       "18 fwd    front           103.3      ⋯ 122         2bbl        3.34 3.46  \n",
       "26 fwd    front            96.5      ⋯  92         1bbl        2.92 3.41  \n",
       "46 rwd    front           110.0      ⋯ 183         idi         3.58 3.64  \n",
       "64 fwd    front            94.5      ⋯  97         2bbl        3.15 3.29  \n",
       "68 fwd    front            94.5      ⋯  97         2bbl        3.15 3.29  \n",
       "73 fwd    front           100.4      ⋯ 181         mpfi        3.43 3.27  \n",
       "   compression_ratio horsepower peak_rpm city_mpg highway_mpg price\n",
       "18  8.5               88        5000     24       30           8921\n",
       "26  9.2               76        6000     30       34           7295\n",
       "46 21.5              123        4350     22       25          28248\n",
       "64  9.4               69        5200     31       37           7349\n",
       "68  9.4               69        5200     31       37           7999\n",
       "73  9.0              152        5200     17       22          14399"
      ]
     },
     "metadata": {},
     "output_type": "display_data"
    }
   ],
   "source": [
    "wagon <- subset(car, body=='wagon')\n",
    "head(wagon)"
   ]
  },
  {
   "cell_type": "code",
   "execution_count": 87,
   "metadata": {
    "collapsed": true
   },
   "outputs": [],
   "source": [
    "write.csv(wagon,'wagon.csv')"
   ]
  },
  {
   "cell_type": "markdown",
   "metadata": {},
   "source": [
    "#### 클립보드에 복사 "
   ]
  },
  {
   "cell_type": "code",
   "execution_count": 88,
   "metadata": {},
   "outputs": [
    {
     "ename": "ERROR",
     "evalue": "Error in file(file, ifelse(append, \"a\", \"w\")): Unix에서 클립보드에 대한 'mode'는 반드시 'r'이어야 합니다\n",
     "output_type": "error",
     "traceback": [
      "Error in file(file, ifelse(append, \"a\", \"w\")): Unix에서 클립보드에 대한 'mode'는 반드시 'r'이어야 합니다\nTraceback:\n",
      "1. write.table(wagon, \"clipboard\", sep = \"\\t\")",
      "2. file(file, ifelse(append, \"a\", \"w\"))"
     ]
    }
   ],
   "source": [
    "write.table(wagon,'clipboard',sep = '\\t') # r_studio 에서 가능."
   ]
  },
  {
   "cell_type": "markdown",
   "metadata": {},
   "source": [
    "### Statistics "
   ]
  },
  {
   "cell_type": "code",
   "execution_count": 89,
   "metadata": {},
   "outputs": [
    {
     "data": {
      "text/html": [
       "202.6"
      ],
      "text/latex": [
       "202.6"
      ],
      "text/markdown": [
       "202.6"
      ],
      "text/plain": [
       "[1] 202.6"
      ]
     },
     "metadata": {},
     "output_type": "display_data"
    }
   ],
   "source": [
    "max(car$length)"
   ]
  },
  {
   "cell_type": "code",
   "execution_count": 90,
   "metadata": {},
   "outputs": [
    {
     "data": {
      "text/html": [
       "141.1"
      ],
      "text/latex": [
       "141.1"
      ],
      "text/markdown": [
       "141.1"
      ],
      "text/plain": [
       "[1] 141.1"
      ]
     },
     "metadata": {},
     "output_type": "display_data"
    }
   ],
   "source": [
    "min(car$length)"
   ]
  },
  {
   "cell_type": "code",
   "execution_count": 91,
   "metadata": {},
   "outputs": [
    {
     "data": {
      "text/html": [
       "132.783604808534"
      ],
      "text/latex": [
       "132.783604808534"
      ],
      "text/markdown": [
       "132.783604808534"
      ],
      "text/plain": [
       "[1] 132.7836"
      ]
     },
     "metadata": {},
     "output_type": "display_data"
    }
   ],
   "source": [
    "var(car$length)"
   ]
  },
  {
   "cell_type": "code",
   "execution_count": 92,
   "metadata": {},
   "outputs": [
    {
     "data": {
      "text/html": [
       "11.5231768539988"
      ],
      "text/latex": [
       "11.5231768539988"
      ],
      "text/markdown": [
       "11.5231768539988"
      ],
      "text/plain": [
       "[1] 11.52318"
      ]
     },
     "metadata": {},
     "output_type": "display_data"
    }
   ],
   "source": [
    "sd(car$length)"
   ]
  },
  {
   "cell_type": "markdown",
   "metadata": {},
   "source": [
    " - Summary"
   ]
  },
  {
   "cell_type": "code",
   "execution_count": 94,
   "metadata": {},
   "outputs": [
    {
     "data": {
      "text/plain": [
       "   Min. 1st Qu.  Median    Mean 3rd Qu.    Max. \n",
       "  141.1   165.7   172.4   172.4   177.8   202.6 "
      ]
     },
     "metadata": {},
     "output_type": "display_data"
    }
   ],
   "source": [
    "summary(car$length) # 전체 변수에 대해서 다 보려면 $length를 없애면 된다. "
   ]
  },
  {
   "cell_type": "markdown",
   "metadata": {},
   "source": [
    "### Handling data\n",
    "\n",
    "#### NA\n",
    " - Not Available \n",
    " - 결측치 "
   ]
  },
  {
   "cell_type": "code",
   "execution_count": 95,
   "metadata": {},
   "outputs": [
    {
     "data": {
      "text/html": [
       "TRUE"
      ],
      "text/latex": [
       "TRUE"
      ],
      "text/markdown": [
       "TRUE"
      ],
      "text/plain": [
       "[1] TRUE"
      ]
     },
     "metadata": {},
     "output_type": "display_data"
    }
   ],
   "source": [
    "is.na(NA)"
   ]
  },
  {
   "cell_type": "markdown",
   "metadata": {},
   "source": [
    "#### 자주 쓰이는 데이터 다루기 관련 함수 \n",
    " - dim : size of dataframe\n",
    " - nrow : number of rows\n",
    " - ncol : number of columns\n",
    " - head : top 5 data of dataframe\n",
    " - names : name of columns\n",
    " - table : count of data, 명목데이터에 대해서 \n",
    " \n",
    "#### 문자열 관련 함수\n",
    " - nchar : number of characters(length) \n",
    " - substr : extract string \n",
    " - paste : concate strings\n",
    " - grep : search string in data\n",
    " - grepl : match strings in lots data and get logical type\n",
    "  - FALSE, TRUE"
   ]
  },
  {
   "cell_type": "markdown",
   "metadata": {},
   "source": [
    "### dplyr\n",
    " - library in R, handling data and getting statistics information\n",
    " - 복잡한 필터링, 정렬, 변환, 통계를 손쉽게 할 수 있도록 도와주는 패키지 \n",
    " - filter()\n",
    " - slice()\n",
    " - arrange()\n",
    " - select()\n",
    " - rename()\n",
    " - distinct()\n",
    " - mutate()\n",
    " - transmute()\n",
    " - summarise() / summarize()"
   ]
  },
  {
   "cell_type": "markdown",
   "metadata": {},
   "source": [
    "### Install Package"
   ]
  },
  {
   "cell_type": "code",
   "execution_count": null,
   "metadata": {
    "collapsed": true
   },
   "outputs": [],
   "source": [
    "install.packages('dplyr')"
   ]
  },
  {
   "cell_type": "markdown",
   "metadata": {},
   "source": [
    "### Load Package"
   ]
  },
  {
   "cell_type": "code",
   "execution_count": 96,
   "metadata": {},
   "outputs": [
    {
     "name": "stderr",
     "output_type": "stream",
     "text": [
      "\n",
      "Attaching package: ‘dplyr’\n",
      "\n",
      "The following objects are masked from ‘package:stats’:\n",
      "\n",
      "    filter, lag\n",
      "\n",
      "The following objects are masked from ‘package:base’:\n",
      "\n",
      "    intersect, setdiff, setequal, union\n",
      "\n"
     ]
    }
   ],
   "source": [
    "library(dplyr)"
   ]
  },
  {
   "cell_type": "markdown",
   "metadata": {},
   "source": [
    "### Load data"
   ]
  },
  {
   "cell_type": "code",
   "execution_count": 98,
   "metadata": {},
   "outputs": [
    {
     "data": {
      "text/html": [
       "<table>\n",
       "<thead><tr><th scope=col>symboling</th><th scope=col>normalized_losses</th><th scope=col>maker</th><th scope=col>fuel</th><th scope=col>aspiration</th><th scope=col>doors</th><th scope=col>body</th><th scope=col>wheels</th><th scope=col>engine_location</th><th scope=col>wheel_base</th><th scope=col>⋯</th><th scope=col>engine_size</th><th scope=col>fuel_system</th><th scope=col>bore</th><th scope=col>stroke</th><th scope=col>compression_ratio</th><th scope=col>horsepower</th><th scope=col>peak_rpm</th><th scope=col>city_mpg</th><th scope=col>highway_mpg</th><th scope=col>price</th></tr></thead>\n",
       "<tbody>\n",
       "\t<tr><td>2    </td><td>164  </td><td>audi </td><td>gas  </td><td>std  </td><td>four </td><td>sedan</td><td>fwd  </td><td>front</td><td> 99.8</td><td>⋯    </td><td>109  </td><td>mpfi </td><td>3.19 </td><td>3.4  </td><td>10.0 </td><td>102  </td><td>5500 </td><td>24   </td><td>30   </td><td>13950</td></tr>\n",
       "\t<tr><td>2    </td><td>164  </td><td>audi </td><td>gas  </td><td>std  </td><td>four </td><td>sedan</td><td>4wd  </td><td>front</td><td> 99.4</td><td>⋯    </td><td>136  </td><td>mpfi </td><td>3.19 </td><td>3.4  </td><td> 8.0 </td><td>115  </td><td>5500 </td><td>18   </td><td>22   </td><td>17450</td></tr>\n",
       "\t<tr><td>1    </td><td>158  </td><td>audi </td><td>gas  </td><td>std  </td><td>four </td><td>sedan</td><td>fwd  </td><td>front</td><td>105.8</td><td>⋯    </td><td>136  </td><td>mpfi </td><td>3.19 </td><td>3.4  </td><td> 8.5 </td><td>110  </td><td>5500 </td><td>19   </td><td>25   </td><td>17710</td></tr>\n",
       "\t<tr><td>1    </td><td>158  </td><td>audi </td><td>gas  </td><td>turbo</td><td>four </td><td>sedan</td><td>fwd  </td><td>front</td><td>105.8</td><td>⋯    </td><td>131  </td><td>mpfi </td><td>3.13 </td><td>3.4  </td><td> 8.3 </td><td>140  </td><td>5500 </td><td>17   </td><td>20   </td><td>23875</td></tr>\n",
       "\t<tr><td>2    </td><td>192  </td><td>bmw  </td><td>gas  </td><td>std  </td><td>two  </td><td>sedan</td><td>rwd  </td><td>front</td><td>101.2</td><td>⋯    </td><td>108  </td><td>mpfi </td><td>3.50 </td><td>2.8  </td><td> 8.8 </td><td>101  </td><td>5800 </td><td>23   </td><td>29   </td><td>16430</td></tr>\n",
       "\t<tr><td>0    </td><td>192  </td><td>bmw  </td><td>gas  </td><td>std  </td><td>four </td><td>sedan</td><td>rwd  </td><td>front</td><td>101.2</td><td>⋯    </td><td>108  </td><td>mpfi </td><td>3.50 </td><td>2.8  </td><td> 8.8 </td><td>101  </td><td>5800 </td><td>23   </td><td>29   </td><td>16925</td></tr>\n",
       "</tbody>\n",
       "</table>\n"
      ],
      "text/latex": [
       "\\begin{tabular}{r|llllllllllllllllllllllllll}\n",
       " symboling & normalized\\_losses & maker & fuel & aspiration & doors & body & wheels & engine\\_location & wheel\\_base & ⋯ & engine\\_size & fuel\\_system & bore & stroke & compression\\_ratio & horsepower & peak\\_rpm & city\\_mpg & highway\\_mpg & price\\\\\n",
       "\\hline\n",
       "\t 2     & 164   & audi  & gas   & std   & four  & sedan & fwd   & front &  99.8 & ⋯     & 109   & mpfi  & 3.19  & 3.4   & 10.0  & 102   & 5500  & 24    & 30    & 13950\\\\\n",
       "\t 2     & 164   & audi  & gas   & std   & four  & sedan & 4wd   & front &  99.4 & ⋯     & 136   & mpfi  & 3.19  & 3.4   &  8.0  & 115   & 5500  & 18    & 22    & 17450\\\\\n",
       "\t 1     & 158   & audi  & gas   & std   & four  & sedan & fwd   & front & 105.8 & ⋯     & 136   & mpfi  & 3.19  & 3.4   &  8.5  & 110   & 5500  & 19    & 25    & 17710\\\\\n",
       "\t 1     & 158   & audi  & gas   & turbo & four  & sedan & fwd   & front & 105.8 & ⋯     & 131   & mpfi  & 3.13  & 3.4   &  8.3  & 140   & 5500  & 17    & 20    & 23875\\\\\n",
       "\t 2     & 192   & bmw   & gas   & std   & two   & sedan & rwd   & front & 101.2 & ⋯     & 108   & mpfi  & 3.50  & 2.8   &  8.8  & 101   & 5800  & 23    & 29    & 16430\\\\\n",
       "\t 0     & 192   & bmw   & gas   & std   & four  & sedan & rwd   & front & 101.2 & ⋯     & 108   & mpfi  & 3.50  & 2.8   &  8.8  & 101   & 5800  & 23    & 29    & 16925\\\\\n",
       "\\end{tabular}\n"
      ],
      "text/markdown": [
       "\n",
       "symboling | normalized_losses | maker | fuel | aspiration | doors | body | wheels | engine_location | wheel_base | ⋯ | engine_size | fuel_system | bore | stroke | compression_ratio | horsepower | peak_rpm | city_mpg | highway_mpg | price | \n",
       "|---|---|---|---|---|---|\n",
       "| 2     | 164   | audi  | gas   | std   | four  | sedan | fwd   | front |  99.8 | ⋯     | 109   | mpfi  | 3.19  | 3.4   | 10.0  | 102   | 5500  | 24    | 30    | 13950 | \n",
       "| 2     | 164   | audi  | gas   | std   | four  | sedan | 4wd   | front |  99.4 | ⋯     | 136   | mpfi  | 3.19  | 3.4   |  8.0  | 115   | 5500  | 18    | 22    | 17450 | \n",
       "| 1     | 158   | audi  | gas   | std   | four  | sedan | fwd   | front | 105.8 | ⋯     | 136   | mpfi  | 3.19  | 3.4   |  8.5  | 110   | 5500  | 19    | 25    | 17710 | \n",
       "| 1     | 158   | audi  | gas   | turbo | four  | sedan | fwd   | front | 105.8 | ⋯     | 131   | mpfi  | 3.13  | 3.4   |  8.3  | 140   | 5500  | 17    | 20    | 23875 | \n",
       "| 2     | 192   | bmw   | gas   | std   | two   | sedan | rwd   | front | 101.2 | ⋯     | 108   | mpfi  | 3.50  | 2.8   |  8.8  | 101   | 5800  | 23    | 29    | 16430 | \n",
       "| 0     | 192   | bmw   | gas   | std   | four  | sedan | rwd   | front | 101.2 | ⋯     | 108   | mpfi  | 3.50  | 2.8   |  8.8  | 101   | 5800  | 23    | 29    | 16925 | \n",
       "\n",
       "\n"
      ],
      "text/plain": [
       "  symboling normalized_losses maker fuel aspiration doors body  wheels\n",
       "1 2         164               audi  gas  std        four  sedan fwd   \n",
       "2 2         164               audi  gas  std        four  sedan 4wd   \n",
       "3 1         158               audi  gas  std        four  sedan fwd   \n",
       "4 1         158               audi  gas  turbo      four  sedan fwd   \n",
       "5 2         192               bmw   gas  std        two   sedan rwd   \n",
       "6 0         192               bmw   gas  std        four  sedan rwd   \n",
       "  engine_location wheel_base ⋯ engine_size fuel_system bore stroke\n",
       "1 front            99.8      ⋯ 109         mpfi        3.19 3.4   \n",
       "2 front            99.4      ⋯ 136         mpfi        3.19 3.4   \n",
       "3 front           105.8      ⋯ 136         mpfi        3.19 3.4   \n",
       "4 front           105.8      ⋯ 131         mpfi        3.13 3.4   \n",
       "5 front           101.2      ⋯ 108         mpfi        3.50 2.8   \n",
       "6 front           101.2      ⋯ 108         mpfi        3.50 2.8   \n",
       "  compression_ratio horsepower peak_rpm city_mpg highway_mpg price\n",
       "1 10.0              102        5500     24       30          13950\n",
       "2  8.0              115        5500     18       22          17450\n",
       "3  8.5              110        5500     19       25          17710\n",
       "4  8.3              140        5500     17       20          23875\n",
       "5  8.8              101        5800     23       29          16430\n",
       "6  8.8              101        5800     23       29          16925"
      ]
     },
     "metadata": {},
     "output_type": "display_data"
    }
   ],
   "source": [
    "car <- read.csv('automobile.csv')\n",
    "head(car)"
   ]
  },
  {
   "cell_type": "markdown",
   "metadata": {},
   "source": [
    "### Summarise "
   ]
  },
  {
   "cell_type": "code",
   "execution_count": 99,
   "metadata": {},
   "outputs": [
    {
     "data": {
      "text/html": [
       "<table>\n",
       "<thead><tr><th scope=col>mean(length)</th></tr></thead>\n",
       "<tbody>\n",
       "\t<tr><td>172.4138</td></tr>\n",
       "</tbody>\n",
       "</table>\n"
      ],
      "text/latex": [
       "\\begin{tabular}{r|l}\n",
       " mean(length)\\\\\n",
       "\\hline\n",
       "\t 172.4138\\\\\n",
       "\\end{tabular}\n"
      ],
      "text/markdown": [
       "\n",
       "mean(length) | \n",
       "|---|\n",
       "| 172.4138 | \n",
       "\n",
       "\n"
      ],
      "text/plain": [
       "  mean(length)\n",
       "1 172.4138    "
      ]
     },
     "metadata": {},
     "output_type": "display_data"
    }
   ],
   "source": [
    "summarise(car, mean(length))"
   ]
  },
  {
   "cell_type": "code",
   "execution_count": 101,
   "metadata": {},
   "outputs": [
    {
     "data": {
      "text/html": [
       "<table>\n",
       "<thead><tr><th scope=col>age</th></tr></thead>\n",
       "<tbody>\n",
       "\t<tr><td>172.4138</td></tr>\n",
       "</tbody>\n",
       "</table>\n"
      ],
      "text/latex": [
       "\\begin{tabular}{r|l}\n",
       " age\\\\\n",
       "\\hline\n",
       "\t 172.4138\\\\\n",
       "\\end{tabular}\n"
      ],
      "text/markdown": [
       "\n",
       "age | \n",
       "|---|\n",
       "| 172.4138 | \n",
       "\n",
       "\n"
      ],
      "text/plain": [
       "  age     \n",
       "1 172.4138"
      ]
     },
     "metadata": {},
     "output_type": "display_data"
    }
   ],
   "source": [
    "summarise(car, age=mean(length))"
   ]
  },
  {
   "cell_type": "code",
   "execution_count": 102,
   "metadata": {},
   "outputs": [
    {
     "data": {
      "text/html": [
       "<table>\n",
       "<thead><tr><th scope=col>mean(length)</th><th scope=col>mean(width)</th></tr></thead>\n",
       "<tbody>\n",
       "\t<tr><td>172.4138</td><td>65.60755</td></tr>\n",
       "</tbody>\n",
       "</table>\n"
      ],
      "text/latex": [
       "\\begin{tabular}{r|ll}\n",
       " mean(length) & mean(width)\\\\\n",
       "\\hline\n",
       "\t 172.4138 & 65.60755\\\\\n",
       "\\end{tabular}\n"
      ],
      "text/markdown": [
       "\n",
       "mean(length) | mean(width) | \n",
       "|---|\n",
       "| 172.4138 | 65.60755 | \n",
       "\n",
       "\n"
      ],
      "text/plain": [
       "  mean(length) mean(width)\n",
       "1 172.4138     65.60755   "
      ]
     },
     "metadata": {},
     "output_type": "display_data"
    }
   ],
   "source": [
    "summarise(car, mean(length), mean(width))"
   ]
  },
  {
   "cell_type": "code",
   "execution_count": 104,
   "metadata": {},
   "outputs": [
    {
     "data": {
      "text/html": [
       "<table>\n",
       "<thead><tr><th scope=col>mean_car</th></tr></thead>\n",
       "<tbody>\n",
       "\t<tr><td>11445.73</td></tr>\n",
       "</tbody>\n",
       "</table>\n"
      ],
      "text/latex": [
       "\\begin{tabular}{r|l}\n",
       " mean\\_car\\\\\n",
       "\\hline\n",
       "\t 11445.73\\\\\n",
       "\\end{tabular}\n"
      ],
      "text/markdown": [
       "\n",
       "mean_car | \n",
       "|---|\n",
       "| 11445.73 | \n",
       "\n",
       "\n"
      ],
      "text/plain": [
       "  mean_car\n",
       "1 11445.73"
      ]
     },
     "metadata": {},
     "output_type": "display_data"
    }
   ],
   "source": [
    "summarise(car, mean_car = mean(price))"
   ]
  },
  {
   "cell_type": "markdown",
   "metadata": {},
   "source": [
    "### Chain ( %>% ) \n",
    " - dplyr 패키지에서 정의된 연산자\n",
    " - 여러가지 작접들을 연결하는데 사용.\n",
    " - x %>% f() 형식으로 결과는 f(x) 와 동일하다.\n",
    " - x %>% f() %>% g() 결과: g(f(x))"
   ]
  },
  {
   "cell_type": "code",
   "execution_count": 105,
   "metadata": {},
   "outputs": [
    {
     "data": {
      "text/html": [
       "<table>\n",
       "<thead><tr><th scope=col>mean(length)</th></tr></thead>\n",
       "<tbody>\n",
       "\t<tr><td>172.4138</td></tr>\n",
       "</tbody>\n",
       "</table>\n"
      ],
      "text/latex": [
       "\\begin{tabular}{r|l}\n",
       " mean(length)\\\\\n",
       "\\hline\n",
       "\t 172.4138\\\\\n",
       "\\end{tabular}\n"
      ],
      "text/markdown": [
       "\n",
       "mean(length) | \n",
       "|---|\n",
       "| 172.4138 | \n",
       "\n",
       "\n"
      ],
      "text/plain": [
       "  mean(length)\n",
       "1 172.4138    "
      ]
     },
     "metadata": {},
     "output_type": "display_data"
    }
   ],
   "source": [
    "car %>% summarise(mean(length))"
   ]
  },
  {
   "cell_type": "markdown",
   "metadata": {},
   "source": [
    "### Filter"
   ]
  },
  {
   "cell_type": "code",
   "execution_count": 107,
   "metadata": {},
   "outputs": [
    {
     "data": {
      "text/html": [
       "<table>\n",
       "<thead><tr><th scope=col>symboling</th><th scope=col>normalized_losses</th><th scope=col>maker</th><th scope=col>fuel</th><th scope=col>aspiration</th><th scope=col>doors</th><th scope=col>body</th><th scope=col>wheels</th><th scope=col>engine_location</th><th scope=col>wheel_base</th><th scope=col>⋯</th><th scope=col>engine_size</th><th scope=col>fuel_system</th><th scope=col>bore</th><th scope=col>stroke</th><th scope=col>compression_ratio</th><th scope=col>horsepower</th><th scope=col>peak_rpm</th><th scope=col>city_mpg</th><th scope=col>highway_mpg</th><th scope=col>price</th></tr></thead>\n",
       "<tbody>\n",
       "\t<tr><td>2    </td><td>164  </td><td>audi </td><td>gas  </td><td>std  </td><td>four </td><td>sedan</td><td>fwd  </td><td>front</td><td> 99.8</td><td>⋯    </td><td>109  </td><td>mpfi </td><td>3.19 </td><td>3.4  </td><td>10.0 </td><td>102  </td><td>5500 </td><td>24   </td><td>30   </td><td>13950</td></tr>\n",
       "\t<tr><td>2    </td><td>164  </td><td>audi </td><td>gas  </td><td>std  </td><td>four </td><td>sedan</td><td>4wd  </td><td>front</td><td> 99.4</td><td>⋯    </td><td>136  </td><td>mpfi </td><td>3.19 </td><td>3.4  </td><td> 8.0 </td><td>115  </td><td>5500 </td><td>18   </td><td>22   </td><td>17450</td></tr>\n",
       "\t<tr><td>1    </td><td>158  </td><td>audi </td><td>gas  </td><td>std  </td><td>four </td><td>sedan</td><td>fwd  </td><td>front</td><td>105.8</td><td>⋯    </td><td>136  </td><td>mpfi </td><td>3.19 </td><td>3.4  </td><td> 8.5 </td><td>110  </td><td>5500 </td><td>19   </td><td>25   </td><td>17710</td></tr>\n",
       "\t<tr><td>1    </td><td>158  </td><td>audi </td><td>gas  </td><td>turbo</td><td>four </td><td>sedan</td><td>fwd  </td><td>front</td><td>105.8</td><td>⋯    </td><td>131  </td><td>mpfi </td><td>3.13 </td><td>3.4  </td><td> 8.3 </td><td>140  </td><td>5500 </td><td>17   </td><td>20   </td><td>23875</td></tr>\n",
       "\t<tr><td>2    </td><td>192  </td><td>bmw  </td><td>gas  </td><td>std  </td><td>two  </td><td>sedan</td><td>rwd  </td><td>front</td><td>101.2</td><td>⋯    </td><td>108  </td><td>mpfi </td><td>3.50 </td><td>2.8  </td><td> 8.8 </td><td>101  </td><td>5800 </td><td>23   </td><td>29   </td><td>16430</td></tr>\n",
       "\t<tr><td>0    </td><td>192  </td><td>bmw  </td><td>gas  </td><td>std  </td><td>four </td><td>sedan</td><td>rwd  </td><td>front</td><td>101.2</td><td>⋯    </td><td>108  </td><td>mpfi </td><td>3.50 </td><td>2.8  </td><td> 8.8 </td><td>101  </td><td>5800 </td><td>23   </td><td>29   </td><td>16925</td></tr>\n",
       "</tbody>\n",
       "</table>\n"
      ],
      "text/latex": [
       "\\begin{tabular}{r|llllllllllllllllllllllllll}\n",
       " symboling & normalized\\_losses & maker & fuel & aspiration & doors & body & wheels & engine\\_location & wheel\\_base & ⋯ & engine\\_size & fuel\\_system & bore & stroke & compression\\_ratio & horsepower & peak\\_rpm & city\\_mpg & highway\\_mpg & price\\\\\n",
       "\\hline\n",
       "\t 2     & 164   & audi  & gas   & std   & four  & sedan & fwd   & front &  99.8 & ⋯     & 109   & mpfi  & 3.19  & 3.4   & 10.0  & 102   & 5500  & 24    & 30    & 13950\\\\\n",
       "\t 2     & 164   & audi  & gas   & std   & four  & sedan & 4wd   & front &  99.4 & ⋯     & 136   & mpfi  & 3.19  & 3.4   &  8.0  & 115   & 5500  & 18    & 22    & 17450\\\\\n",
       "\t 1     & 158   & audi  & gas   & std   & four  & sedan & fwd   & front & 105.8 & ⋯     & 136   & mpfi  & 3.19  & 3.4   &  8.5  & 110   & 5500  & 19    & 25    & 17710\\\\\n",
       "\t 1     & 158   & audi  & gas   & turbo & four  & sedan & fwd   & front & 105.8 & ⋯     & 131   & mpfi  & 3.13  & 3.4   &  8.3  & 140   & 5500  & 17    & 20    & 23875\\\\\n",
       "\t 2     & 192   & bmw   & gas   & std   & two   & sedan & rwd   & front & 101.2 & ⋯     & 108   & mpfi  & 3.50  & 2.8   &  8.8  & 101   & 5800  & 23    & 29    & 16430\\\\\n",
       "\t 0     & 192   & bmw   & gas   & std   & four  & sedan & rwd   & front & 101.2 & ⋯     & 108   & mpfi  & 3.50  & 2.8   &  8.8  & 101   & 5800  & 23    & 29    & 16925\\\\\n",
       "\\end{tabular}\n"
      ],
      "text/markdown": [
       "\n",
       "symboling | normalized_losses | maker | fuel | aspiration | doors | body | wheels | engine_location | wheel_base | ⋯ | engine_size | fuel_system | bore | stroke | compression_ratio | horsepower | peak_rpm | city_mpg | highway_mpg | price | \n",
       "|---|---|---|---|---|---|\n",
       "| 2     | 164   | audi  | gas   | std   | four  | sedan | fwd   | front |  99.8 | ⋯     | 109   | mpfi  | 3.19  | 3.4   | 10.0  | 102   | 5500  | 24    | 30    | 13950 | \n",
       "| 2     | 164   | audi  | gas   | std   | four  | sedan | 4wd   | front |  99.4 | ⋯     | 136   | mpfi  | 3.19  | 3.4   |  8.0  | 115   | 5500  | 18    | 22    | 17450 | \n",
       "| 1     | 158   | audi  | gas   | std   | four  | sedan | fwd   | front | 105.8 | ⋯     | 136   | mpfi  | 3.19  | 3.4   |  8.5  | 110   | 5500  | 19    | 25    | 17710 | \n",
       "| 1     | 158   | audi  | gas   | turbo | four  | sedan | fwd   | front | 105.8 | ⋯     | 131   | mpfi  | 3.13  | 3.4   |  8.3  | 140   | 5500  | 17    | 20    | 23875 | \n",
       "| 2     | 192   | bmw   | gas   | std   | two   | sedan | rwd   | front | 101.2 | ⋯     | 108   | mpfi  | 3.50  | 2.8   |  8.8  | 101   | 5800  | 23    | 29    | 16430 | \n",
       "| 0     | 192   | bmw   | gas   | std   | four  | sedan | rwd   | front | 101.2 | ⋯     | 108   | mpfi  | 3.50  | 2.8   |  8.8  | 101   | 5800  | 23    | 29    | 16925 | \n",
       "\n",
       "\n"
      ],
      "text/plain": [
       "  symboling normalized_losses maker fuel aspiration doors body  wheels\n",
       "1 2         164               audi  gas  std        four  sedan fwd   \n",
       "2 2         164               audi  gas  std        four  sedan 4wd   \n",
       "3 1         158               audi  gas  std        four  sedan fwd   \n",
       "4 1         158               audi  gas  turbo      four  sedan fwd   \n",
       "5 2         192               bmw   gas  std        two   sedan rwd   \n",
       "6 0         192               bmw   gas  std        four  sedan rwd   \n",
       "  engine_location wheel_base ⋯ engine_size fuel_system bore stroke\n",
       "1 front            99.8      ⋯ 109         mpfi        3.19 3.4   \n",
       "2 front            99.4      ⋯ 136         mpfi        3.19 3.4   \n",
       "3 front           105.8      ⋯ 136         mpfi        3.19 3.4   \n",
       "4 front           105.8      ⋯ 131         mpfi        3.13 3.4   \n",
       "5 front           101.2      ⋯ 108         mpfi        3.50 2.8   \n",
       "6 front           101.2      ⋯ 108         mpfi        3.50 2.8   \n",
       "  compression_ratio horsepower peak_rpm city_mpg highway_mpg price\n",
       "1 10.0              102        5500     24       30          13950\n",
       "2  8.0              115        5500     18       22          17450\n",
       "3  8.5              110        5500     19       25          17710\n",
       "4  8.3              140        5500     17       20          23875\n",
       "5  8.8              101        5800     23       29          16430\n",
       "6  8.8              101        5800     23       29          16925"
      ]
     },
     "metadata": {},
     "output_type": "display_data"
    }
   ],
   "source": [
    "car %>% filter(body == 'sedan') %>% head()"
   ]
  },
  {
   "cell_type": "code",
   "execution_count": 108,
   "metadata": {},
   "outputs": [
    {
     "data": {
      "text/html": [
       "<table>\n",
       "<thead><tr><th scope=col>mean(length)</th></tr></thead>\n",
       "<tbody>\n",
       "\t<tr><td>176.5456</td></tr>\n",
       "</tbody>\n",
       "</table>\n"
      ],
      "text/latex": [
       "\\begin{tabular}{r|l}\n",
       " mean(length)\\\\\n",
       "\\hline\n",
       "\t 176.5456\\\\\n",
       "\\end{tabular}\n"
      ],
      "text/markdown": [
       "\n",
       "mean(length) | \n",
       "|---|\n",
       "| 176.5456 | \n",
       "\n",
       "\n"
      ],
      "text/plain": [
       "  mean(length)\n",
       "1 176.5456    "
      ]
     },
     "metadata": {},
     "output_type": "display_data"
    }
   ],
   "source": [
    "car %>% \n",
    "    filter(body=='sedan') %>% \n",
    "    summarise(mean(length))"
   ]
  },
  {
   "cell_type": "code",
   "execution_count": 110,
   "metadata": {},
   "outputs": [
    {
     "data": {
      "text/html": [
       "<table>\n",
       "<thead><tr><th scope=col>mean(engine_size)</th></tr></thead>\n",
       "<tbody>\n",
       "\t<tr><td>147.6429</td></tr>\n",
       "</tbody>\n",
       "</table>\n"
      ],
      "text/latex": [
       "\\begin{tabular}{r|l}\n",
       " mean(engine\\_size)\\\\\n",
       "\\hline\n",
       "\t 147.6429\\\\\n",
       "\\end{tabular}\n"
      ],
      "text/markdown": [
       "\n",
       "mean(engine_size) | \n",
       "|---|\n",
       "| 147.6429 | \n",
       "\n",
       "\n"
      ],
      "text/plain": [
       "  mean(engine_size)\n",
       "1 147.6429         "
      ]
     },
     "metadata": {},
     "output_type": "display_data"
    }
   ],
   "source": [
    "car %>% \n",
    "    filter(body=='hatchback' & price > 10000) %>% \n",
    "    summarise(mean(engine_size)) "
   ]
  },
  {
   "cell_type": "markdown",
   "metadata": {},
   "source": [
    "### Grouping "
   ]
  },
  {
   "cell_type": "code",
   "execution_count": 111,
   "metadata": {},
   "outputs": [
    {
     "data": {
      "text/html": [
       "<table>\n",
       "<thead><tr><th scope=col>fuel</th><th scope=col>mean(city_mpg)</th></tr></thead>\n",
       "<tbody>\n",
       "\t<tr><td>diesel  </td><td>30.40000</td></tr>\n",
       "\t<tr><td>gas     </td><td>26.11806</td></tr>\n",
       "</tbody>\n",
       "</table>\n"
      ],
      "text/latex": [
       "\\begin{tabular}{r|ll}\n",
       " fuel & mean(city\\_mpg)\\\\\n",
       "\\hline\n",
       "\t diesel   & 30.40000\\\\\n",
       "\t gas      & 26.11806\\\\\n",
       "\\end{tabular}\n"
      ],
      "text/markdown": [
       "\n",
       "fuel | mean(city_mpg) | \n",
       "|---|---|\n",
       "| diesel   | 30.40000 | \n",
       "| gas      | 26.11806 | \n",
       "\n",
       "\n"
      ],
      "text/plain": [
       "  fuel   mean(city_mpg)\n",
       "1 diesel 30.40000      \n",
       "2 gas    26.11806      "
      ]
     },
     "metadata": {},
     "output_type": "display_data"
    }
   ],
   "source": [
    "car %>% \n",
    "    group_by(fuel) %>%\n",
    "    summarise(mean(city_mpg))"
   ]
  },
  {
   "cell_type": "markdown",
   "metadata": {},
   "source": [
    " - 출시 5년 미만인 자동차의 메이커 평균 구매 가격"
   ]
  },
  {
   "cell_type": "code",
   "execution_count": 113,
   "metadata": {},
   "outputs": [
    {
     "data": {
      "text/html": [
       "<table>\n",
       "<thead><tr><th scope=col>fuel</th><th scope=col>mean(city_mpg)</th></tr></thead>\n",
       "<tbody>\n",
       "\t<tr><td>diesel  </td><td>34.20000</td></tr>\n",
       "\t<tr><td>gas     </td><td>29.46512</td></tr>\n",
       "</tbody>\n",
       "</table>\n"
      ],
      "text/latex": [
       "\\begin{tabular}{r|ll}\n",
       " fuel & mean(city\\_mpg)\\\\\n",
       "\\hline\n",
       "\t diesel   & 34.20000\\\\\n",
       "\t gas      & 29.46512\\\\\n",
       "\\end{tabular}\n"
      ],
      "text/markdown": [
       "\n",
       "fuel | mean(city_mpg) | \n",
       "|---|---|\n",
       "| diesel   | 34.20000 | \n",
       "| gas      | 29.46512 | \n",
       "\n",
       "\n"
      ],
      "text/plain": [
       "  fuel   mean(city_mpg)\n",
       "1 diesel 34.20000      \n",
       "2 gas    29.46512      "
      ]
     },
     "metadata": {},
     "output_type": "display_data"
    }
   ],
   "source": [
    "car %>% filter(horsepower < 100)%>% \n",
    "    group_by(fuel) %>%\n",
    "    summarise(mean(city_mpg))"
   ]
  },
  {
   "cell_type": "markdown",
   "metadata": {},
   "source": [
    "### 컬럼더하기(mutate)"
   ]
  },
  {
   "cell_type": "code",
   "execution_count": 115,
   "metadata": {},
   "outputs": [
    {
     "data": {
      "text/html": [
       "<table>\n",
       "<thead><tr><th scope=col>symboling</th><th scope=col>normalized_losses</th><th scope=col>maker</th><th scope=col>fuel</th><th scope=col>aspiration</th><th scope=col>doors</th><th scope=col>body</th><th scope=col>wheels</th><th scope=col>engine_location</th><th scope=col>wheel_base</th><th scope=col>⋯</th><th scope=col>fuel_system</th><th scope=col>bore</th><th scope=col>stroke</th><th scope=col>compression_ratio</th><th scope=col>horsepower</th><th scope=col>peak_rpm</th><th scope=col>city_mpg</th><th scope=col>highway_mpg</th><th scope=col>price</th><th scope=col>diff_mpg</th></tr></thead>\n",
       "<tbody>\n",
       "\t<tr><td>2    </td><td>164  </td><td>audi </td><td>gas  </td><td>std  </td><td>four </td><td>sedan</td><td>fwd  </td><td>front</td><td> 99.8</td><td>⋯    </td><td>mpfi </td><td>3.19 </td><td>3.4  </td><td>10.0 </td><td>102  </td><td>5500 </td><td>24   </td><td>30   </td><td>13950</td><td>6    </td></tr>\n",
       "\t<tr><td>2    </td><td>164  </td><td>audi </td><td>gas  </td><td>std  </td><td>four </td><td>sedan</td><td>4wd  </td><td>front</td><td> 99.4</td><td>⋯    </td><td>mpfi </td><td>3.19 </td><td>3.4  </td><td> 8.0 </td><td>115  </td><td>5500 </td><td>18   </td><td>22   </td><td>17450</td><td>4    </td></tr>\n",
       "\t<tr><td>1    </td><td>158  </td><td>audi </td><td>gas  </td><td>std  </td><td>four </td><td>sedan</td><td>fwd  </td><td>front</td><td>105.8</td><td>⋯    </td><td>mpfi </td><td>3.19 </td><td>3.4  </td><td> 8.5 </td><td>110  </td><td>5500 </td><td>19   </td><td>25   </td><td>17710</td><td>6    </td></tr>\n",
       "\t<tr><td>1    </td><td>158  </td><td>audi </td><td>gas  </td><td>turbo</td><td>four </td><td>sedan</td><td>fwd  </td><td>front</td><td>105.8</td><td>⋯    </td><td>mpfi </td><td>3.13 </td><td>3.4  </td><td> 8.3 </td><td>140  </td><td>5500 </td><td>17   </td><td>20   </td><td>23875</td><td>3    </td></tr>\n",
       "\t<tr><td>2    </td><td>192  </td><td>bmw  </td><td>gas  </td><td>std  </td><td>two  </td><td>sedan</td><td>rwd  </td><td>front</td><td>101.2</td><td>⋯    </td><td>mpfi </td><td>3.50 </td><td>2.8  </td><td> 8.8 </td><td>101  </td><td>5800 </td><td>23   </td><td>29   </td><td>16430</td><td>6    </td></tr>\n",
       "\t<tr><td>0    </td><td>192  </td><td>bmw  </td><td>gas  </td><td>std  </td><td>four </td><td>sedan</td><td>rwd  </td><td>front</td><td>101.2</td><td>⋯    </td><td>mpfi </td><td>3.50 </td><td>2.8  </td><td> 8.8 </td><td>101  </td><td>5800 </td><td>23   </td><td>29   </td><td>16925</td><td>6    </td></tr>\n",
       "</tbody>\n",
       "</table>\n"
      ],
      "text/latex": [
       "\\begin{tabular}{r|lllllllllllllllllllllllllll}\n",
       " symboling & normalized\\_losses & maker & fuel & aspiration & doors & body & wheels & engine\\_location & wheel\\_base & ⋯ & fuel\\_system & bore & stroke & compression\\_ratio & horsepower & peak\\_rpm & city\\_mpg & highway\\_mpg & price & diff\\_mpg\\\\\n",
       "\\hline\n",
       "\t 2     & 164   & audi  & gas   & std   & four  & sedan & fwd   & front &  99.8 & ⋯     & mpfi  & 3.19  & 3.4   & 10.0  & 102   & 5500  & 24    & 30    & 13950 & 6    \\\\\n",
       "\t 2     & 164   & audi  & gas   & std   & four  & sedan & 4wd   & front &  99.4 & ⋯     & mpfi  & 3.19  & 3.4   &  8.0  & 115   & 5500  & 18    & 22    & 17450 & 4    \\\\\n",
       "\t 1     & 158   & audi  & gas   & std   & four  & sedan & fwd   & front & 105.8 & ⋯     & mpfi  & 3.19  & 3.4   &  8.5  & 110   & 5500  & 19    & 25    & 17710 & 6    \\\\\n",
       "\t 1     & 158   & audi  & gas   & turbo & four  & sedan & fwd   & front & 105.8 & ⋯     & mpfi  & 3.13  & 3.4   &  8.3  & 140   & 5500  & 17    & 20    & 23875 & 3    \\\\\n",
       "\t 2     & 192   & bmw   & gas   & std   & two   & sedan & rwd   & front & 101.2 & ⋯     & mpfi  & 3.50  & 2.8   &  8.8  & 101   & 5800  & 23    & 29    & 16430 & 6    \\\\\n",
       "\t 0     & 192   & bmw   & gas   & std   & four  & sedan & rwd   & front & 101.2 & ⋯     & mpfi  & 3.50  & 2.8   &  8.8  & 101   & 5800  & 23    & 29    & 16925 & 6    \\\\\n",
       "\\end{tabular}\n"
      ],
      "text/markdown": [
       "\n",
       "symboling | normalized_losses | maker | fuel | aspiration | doors | body | wheels | engine_location | wheel_base | ⋯ | fuel_system | bore | stroke | compression_ratio | horsepower | peak_rpm | city_mpg | highway_mpg | price | diff_mpg | \n",
       "|---|---|---|---|---|---|\n",
       "| 2     | 164   | audi  | gas   | std   | four  | sedan | fwd   | front |  99.8 | ⋯     | mpfi  | 3.19  | 3.4   | 10.0  | 102   | 5500  | 24    | 30    | 13950 | 6     | \n",
       "| 2     | 164   | audi  | gas   | std   | four  | sedan | 4wd   | front |  99.4 | ⋯     | mpfi  | 3.19  | 3.4   |  8.0  | 115   | 5500  | 18    | 22    | 17450 | 4     | \n",
       "| 1     | 158   | audi  | gas   | std   | four  | sedan | fwd   | front | 105.8 | ⋯     | mpfi  | 3.19  | 3.4   |  8.5  | 110   | 5500  | 19    | 25    | 17710 | 6     | \n",
       "| 1     | 158   | audi  | gas   | turbo | four  | sedan | fwd   | front | 105.8 | ⋯     | mpfi  | 3.13  | 3.4   |  8.3  | 140   | 5500  | 17    | 20    | 23875 | 3     | \n",
       "| 2     | 192   | bmw   | gas   | std   | two   | sedan | rwd   | front | 101.2 | ⋯     | mpfi  | 3.50  | 2.8   |  8.8  | 101   | 5800  | 23    | 29    | 16430 | 6     | \n",
       "| 0     | 192   | bmw   | gas   | std   | four  | sedan | rwd   | front | 101.2 | ⋯     | mpfi  | 3.50  | 2.8   |  8.8  | 101   | 5800  | 23    | 29    | 16925 | 6     | \n",
       "\n",
       "\n"
      ],
      "text/plain": [
       "  symboling normalized_losses maker fuel aspiration doors body  wheels\n",
       "1 2         164               audi  gas  std        four  sedan fwd   \n",
       "2 2         164               audi  gas  std        four  sedan 4wd   \n",
       "3 1         158               audi  gas  std        four  sedan fwd   \n",
       "4 1         158               audi  gas  turbo      four  sedan fwd   \n",
       "5 2         192               bmw   gas  std        two   sedan rwd   \n",
       "6 0         192               bmw   gas  std        four  sedan rwd   \n",
       "  engine_location wheel_base ⋯ fuel_system bore stroke compression_ratio\n",
       "1 front            99.8      ⋯ mpfi        3.19 3.4    10.0             \n",
       "2 front            99.4      ⋯ mpfi        3.19 3.4     8.0             \n",
       "3 front           105.8      ⋯ mpfi        3.19 3.4     8.5             \n",
       "4 front           105.8      ⋯ mpfi        3.13 3.4     8.3             \n",
       "5 front           101.2      ⋯ mpfi        3.50 2.8     8.8             \n",
       "6 front           101.2      ⋯ mpfi        3.50 2.8     8.8             \n",
       "  horsepower peak_rpm city_mpg highway_mpg price diff_mpg\n",
       "1 102        5500     24       30          13950 6       \n",
       "2 115        5500     18       22          17450 4       \n",
       "3 110        5500     19       25          17710 6       \n",
       "4 140        5500     17       20          23875 3       \n",
       "5 101        5800     23       29          16430 6       \n",
       "6 101        5800     23       29          16925 6       "
      ]
     },
     "metadata": {},
     "output_type": "display_data"
    }
   ],
   "source": [
    "car %>% mutate(diff_mpg = highway_mpg - city_mpg) %>% head()"
   ]
  },
  {
   "cell_type": "markdown",
   "metadata": {},
   "source": [
    "### 컬럼 선택 "
   ]
  },
  {
   "cell_type": "code",
   "execution_count": 116,
   "metadata": {},
   "outputs": [
    {
     "data": {
      "text/html": [
       "<table>\n",
       "<thead><tr><th scope=col>symboling</th></tr></thead>\n",
       "<tbody>\n",
       "\t<tr><td>2</td></tr>\n",
       "\t<tr><td>2</td></tr>\n",
       "\t<tr><td>1</td></tr>\n",
       "\t<tr><td>1</td></tr>\n",
       "\t<tr><td>2</td></tr>\n",
       "\t<tr><td>0</td></tr>\n",
       "</tbody>\n",
       "</table>\n"
      ],
      "text/latex": [
       "\\begin{tabular}{r|l}\n",
       " symboling\\\\\n",
       "\\hline\n",
       "\t 2\\\\\n",
       "\t 2\\\\\n",
       "\t 1\\\\\n",
       "\t 1\\\\\n",
       "\t 2\\\\\n",
       "\t 0\\\\\n",
       "\\end{tabular}\n"
      ],
      "text/markdown": [
       "\n",
       "symboling | \n",
       "|---|---|---|---|---|---|\n",
       "| 2 | \n",
       "| 2 | \n",
       "| 1 | \n",
       "| 1 | \n",
       "| 2 | \n",
       "| 0 | \n",
       "\n",
       "\n"
      ],
      "text/plain": [
       "  symboling\n",
       "1 2        \n",
       "2 2        \n",
       "3 1        \n",
       "4 1        \n",
       "5 2        \n",
       "6 0        "
      ]
     },
     "metadata": {},
     "output_type": "display_data"
    }
   ],
   "source": [
    "car %>% select(1) %>% head()"
   ]
  },
  {
   "cell_type": "markdown",
   "metadata": {},
   "source": [
    "### 행 선택"
   ]
  },
  {
   "cell_type": "code",
   "execution_count": 117,
   "metadata": {},
   "outputs": [
    {
     "data": {
      "text/html": [
       "<table>\n",
       "<thead><tr><th scope=col>symboling</th><th scope=col>normalized_losses</th><th scope=col>maker</th><th scope=col>fuel</th><th scope=col>aspiration</th><th scope=col>doors</th><th scope=col>body</th><th scope=col>wheels</th><th scope=col>engine_location</th><th scope=col>wheel_base</th><th scope=col>⋯</th><th scope=col>engine_size</th><th scope=col>fuel_system</th><th scope=col>bore</th><th scope=col>stroke</th><th scope=col>compression_ratio</th><th scope=col>horsepower</th><th scope=col>peak_rpm</th><th scope=col>city_mpg</th><th scope=col>highway_mpg</th><th scope=col>price</th></tr></thead>\n",
       "<tbody>\n",
       "\t<tr><td>2        </td><td>164      </td><td>audi     </td><td>gas      </td><td>std      </td><td>four     </td><td>sedan    </td><td>fwd      </td><td>front    </td><td> 99.8    </td><td>⋯        </td><td>109      </td><td>mpfi     </td><td>3.19     </td><td>3.40     </td><td>10.0     </td><td>102      </td><td>5500     </td><td>24       </td><td>30       </td><td>13950    </td></tr>\n",
       "\t<tr><td>2        </td><td>164      </td><td>audi     </td><td>gas      </td><td>std      </td><td>four     </td><td>sedan    </td><td>4wd      </td><td>front    </td><td> 99.4    </td><td>⋯        </td><td>136      </td><td>mpfi     </td><td>3.19     </td><td>3.40     </td><td> 8.0     </td><td>115      </td><td>5500     </td><td>18       </td><td>22       </td><td>17450    </td></tr>\n",
       "\t<tr><td>1        </td><td>158      </td><td>audi     </td><td>gas      </td><td>std      </td><td>four     </td><td>sedan    </td><td>fwd      </td><td>front    </td><td>105.8    </td><td>⋯        </td><td>136      </td><td>mpfi     </td><td>3.19     </td><td>3.40     </td><td> 8.5     </td><td>110      </td><td>5500     </td><td>19       </td><td>25       </td><td>17710    </td></tr>\n",
       "\t<tr><td>1        </td><td>158      </td><td>audi     </td><td>gas      </td><td>turbo    </td><td>four     </td><td>sedan    </td><td>fwd      </td><td>front    </td><td>105.8    </td><td>⋯        </td><td>131      </td><td>mpfi     </td><td>3.13     </td><td>3.40     </td><td> 8.3     </td><td>140      </td><td>5500     </td><td>17       </td><td>20       </td><td>23875    </td></tr>\n",
       "\t<tr><td>2        </td><td>192      </td><td>bmw      </td><td>gas      </td><td>std      </td><td>two      </td><td>sedan    </td><td>rwd      </td><td>front    </td><td>101.2    </td><td>⋯        </td><td>108      </td><td>mpfi     </td><td>3.50     </td><td>2.80     </td><td> 8.8     </td><td>101      </td><td>5800     </td><td>23       </td><td>29       </td><td>16430    </td></tr>\n",
       "\t<tr><td>0        </td><td>192      </td><td>bmw      </td><td>gas      </td><td>std      </td><td>four     </td><td>sedan    </td><td>rwd      </td><td>front    </td><td>101.2    </td><td>⋯        </td><td>108      </td><td>mpfi     </td><td>3.50     </td><td>2.80     </td><td> 8.8     </td><td>101      </td><td>5800     </td><td>23       </td><td>29       </td><td>16925    </td></tr>\n",
       "\t<tr><td>0        </td><td>188      </td><td>bmw      </td><td>gas      </td><td>std      </td><td>two      </td><td>sedan    </td><td>rwd      </td><td>front    </td><td>101.2    </td><td>⋯        </td><td>164      </td><td>mpfi     </td><td>3.31     </td><td>3.19     </td><td> 9.0     </td><td>121      </td><td>4250     </td><td>21       </td><td>28       </td><td>20970    </td></tr>\n",
       "\t<tr><td>0        </td><td>188      </td><td>bmw      </td><td>gas      </td><td>std      </td><td>four     </td><td>sedan    </td><td>rwd      </td><td>front    </td><td>101.2    </td><td>⋯        </td><td>164      </td><td>mpfi     </td><td>3.31     </td><td>3.19     </td><td> 9.0     </td><td>121      </td><td>4250     </td><td>21       </td><td>28       </td><td>21105    </td></tr>\n",
       "\t<tr><td>2        </td><td>121      </td><td>chevrolet</td><td>gas      </td><td>std      </td><td>two      </td><td>hatchback</td><td>fwd      </td><td>front    </td><td> 88.4    </td><td>⋯        </td><td> 61      </td><td>2bbl     </td><td>2.91     </td><td>3.03     </td><td> 9.5     </td><td> 48      </td><td>5100     </td><td>47       </td><td>53       </td><td> 5151    </td></tr>\n",
       "\t<tr><td>1        </td><td> 98      </td><td>chevrolet</td><td>gas      </td><td>std      </td><td>two      </td><td>hatchback</td><td>fwd      </td><td>front    </td><td> 94.5    </td><td>⋯        </td><td> 90      </td><td>2bbl     </td><td>3.03     </td><td>3.11     </td><td> 9.6     </td><td> 70      </td><td>5400     </td><td>38       </td><td>43       </td><td> 6295    </td></tr>\n",
       "</tbody>\n",
       "</table>\n"
      ],
      "text/latex": [
       "\\begin{tabular}{r|llllllllllllllllllllllllll}\n",
       " symboling & normalized\\_losses & maker & fuel & aspiration & doors & body & wheels & engine\\_location & wheel\\_base & ⋯ & engine\\_size & fuel\\_system & bore & stroke & compression\\_ratio & horsepower & peak\\_rpm & city\\_mpg & highway\\_mpg & price\\\\\n",
       "\\hline\n",
       "\t 2         & 164       & audi      & gas       & std       & four      & sedan     & fwd       & front     &  99.8     & ⋯         & 109       & mpfi      & 3.19      & 3.40      & 10.0      & 102       & 5500      & 24        & 30        & 13950    \\\\\n",
       "\t 2         & 164       & audi      & gas       & std       & four      & sedan     & 4wd       & front     &  99.4     & ⋯         & 136       & mpfi      & 3.19      & 3.40      &  8.0      & 115       & 5500      & 18        & 22        & 17450    \\\\\n",
       "\t 1         & 158       & audi      & gas       & std       & four      & sedan     & fwd       & front     & 105.8     & ⋯         & 136       & mpfi      & 3.19      & 3.40      &  8.5      & 110       & 5500      & 19        & 25        & 17710    \\\\\n",
       "\t 1         & 158       & audi      & gas       & turbo     & four      & sedan     & fwd       & front     & 105.8     & ⋯         & 131       & mpfi      & 3.13      & 3.40      &  8.3      & 140       & 5500      & 17        & 20        & 23875    \\\\\n",
       "\t 2         & 192       & bmw       & gas       & std       & two       & sedan     & rwd       & front     & 101.2     & ⋯         & 108       & mpfi      & 3.50      & 2.80      &  8.8      & 101       & 5800      & 23        & 29        & 16430    \\\\\n",
       "\t 0         & 192       & bmw       & gas       & std       & four      & sedan     & rwd       & front     & 101.2     & ⋯         & 108       & mpfi      & 3.50      & 2.80      &  8.8      & 101       & 5800      & 23        & 29        & 16925    \\\\\n",
       "\t 0         & 188       & bmw       & gas       & std       & two       & sedan     & rwd       & front     & 101.2     & ⋯         & 164       & mpfi      & 3.31      & 3.19      &  9.0      & 121       & 4250      & 21        & 28        & 20970    \\\\\n",
       "\t 0         & 188       & bmw       & gas       & std       & four      & sedan     & rwd       & front     & 101.2     & ⋯         & 164       & mpfi      & 3.31      & 3.19      &  9.0      & 121       & 4250      & 21        & 28        & 21105    \\\\\n",
       "\t 2         & 121       & chevrolet & gas       & std       & two       & hatchback & fwd       & front     &  88.4     & ⋯         &  61       & 2bbl      & 2.91      & 3.03      &  9.5      &  48       & 5100      & 47        & 53        &  5151    \\\\\n",
       "\t 1         &  98       & chevrolet & gas       & std       & two       & hatchback & fwd       & front     &  94.5     & ⋯         &  90       & 2bbl      & 3.03      & 3.11      &  9.6      &  70       & 5400      & 38        & 43        &  6295    \\\\\n",
       "\\end{tabular}\n"
      ],
      "text/markdown": [
       "\n",
       "symboling | normalized_losses | maker | fuel | aspiration | doors | body | wheels | engine_location | wheel_base | ⋯ | engine_size | fuel_system | bore | stroke | compression_ratio | horsepower | peak_rpm | city_mpg | highway_mpg | price | \n",
       "|---|---|---|---|---|---|---|---|---|---|\n",
       "| 2         | 164       | audi      | gas       | std       | four      | sedan     | fwd       | front     |  99.8     | ⋯         | 109       | mpfi      | 3.19      | 3.40      | 10.0      | 102       | 5500      | 24        | 30        | 13950     | \n",
       "| 2         | 164       | audi      | gas       | std       | four      | sedan     | 4wd       | front     |  99.4     | ⋯         | 136       | mpfi      | 3.19      | 3.40      |  8.0      | 115       | 5500      | 18        | 22        | 17450     | \n",
       "| 1         | 158       | audi      | gas       | std       | four      | sedan     | fwd       | front     | 105.8     | ⋯         | 136       | mpfi      | 3.19      | 3.40      |  8.5      | 110       | 5500      | 19        | 25        | 17710     | \n",
       "| 1         | 158       | audi      | gas       | turbo     | four      | sedan     | fwd       | front     | 105.8     | ⋯         | 131       | mpfi      | 3.13      | 3.40      |  8.3      | 140       | 5500      | 17        | 20        | 23875     | \n",
       "| 2         | 192       | bmw       | gas       | std       | two       | sedan     | rwd       | front     | 101.2     | ⋯         | 108       | mpfi      | 3.50      | 2.80      |  8.8      | 101       | 5800      | 23        | 29        | 16430     | \n",
       "| 0         | 192       | bmw       | gas       | std       | four      | sedan     | rwd       | front     | 101.2     | ⋯         | 108       | mpfi      | 3.50      | 2.80      |  8.8      | 101       | 5800      | 23        | 29        | 16925     | \n",
       "| 0         | 188       | bmw       | gas       | std       | two       | sedan     | rwd       | front     | 101.2     | ⋯         | 164       | mpfi      | 3.31      | 3.19      |  9.0      | 121       | 4250      | 21        | 28        | 20970     | \n",
       "| 0         | 188       | bmw       | gas       | std       | four      | sedan     | rwd       | front     | 101.2     | ⋯         | 164       | mpfi      | 3.31      | 3.19      |  9.0      | 121       | 4250      | 21        | 28        | 21105     | \n",
       "| 2         | 121       | chevrolet | gas       | std       | two       | hatchback | fwd       | front     |  88.4     | ⋯         |  61       | 2bbl      | 2.91      | 3.03      |  9.5      |  48       | 5100      | 47        | 53        |  5151     | \n",
       "| 1         |  98       | chevrolet | gas       | std       | two       | hatchback | fwd       | front     |  94.5     | ⋯         |  90       | 2bbl      | 3.03      | 3.11      |  9.6      |  70       | 5400      | 38        | 43        |  6295     | \n",
       "\n",
       "\n"
      ],
      "text/plain": [
       "   symboling normalized_losses maker     fuel aspiration doors body      wheels\n",
       "1  2         164               audi      gas  std        four  sedan     fwd   \n",
       "2  2         164               audi      gas  std        four  sedan     4wd   \n",
       "3  1         158               audi      gas  std        four  sedan     fwd   \n",
       "4  1         158               audi      gas  turbo      four  sedan     fwd   \n",
       "5  2         192               bmw       gas  std        two   sedan     rwd   \n",
       "6  0         192               bmw       gas  std        four  sedan     rwd   \n",
       "7  0         188               bmw       gas  std        two   sedan     rwd   \n",
       "8  0         188               bmw       gas  std        four  sedan     rwd   \n",
       "9  2         121               chevrolet gas  std        two   hatchback fwd   \n",
       "10 1          98               chevrolet gas  std        two   hatchback fwd   \n",
       "   engine_location wheel_base ⋯ engine_size fuel_system bore stroke\n",
       "1  front            99.8      ⋯ 109         mpfi        3.19 3.40  \n",
       "2  front            99.4      ⋯ 136         mpfi        3.19 3.40  \n",
       "3  front           105.8      ⋯ 136         mpfi        3.19 3.40  \n",
       "4  front           105.8      ⋯ 131         mpfi        3.13 3.40  \n",
       "5  front           101.2      ⋯ 108         mpfi        3.50 2.80  \n",
       "6  front           101.2      ⋯ 108         mpfi        3.50 2.80  \n",
       "7  front           101.2      ⋯ 164         mpfi        3.31 3.19  \n",
       "8  front           101.2      ⋯ 164         mpfi        3.31 3.19  \n",
       "9  front            88.4      ⋯  61         2bbl        2.91 3.03  \n",
       "10 front            94.5      ⋯  90         2bbl        3.03 3.11  \n",
       "   compression_ratio horsepower peak_rpm city_mpg highway_mpg price\n",
       "1  10.0              102        5500     24       30          13950\n",
       "2   8.0              115        5500     18       22          17450\n",
       "3   8.5              110        5500     19       25          17710\n",
       "4   8.3              140        5500     17       20          23875\n",
       "5   8.8              101        5800     23       29          16430\n",
       "6   8.8              101        5800     23       29          16925\n",
       "7   9.0              121        4250     21       28          20970\n",
       "8   9.0              121        4250     21       28          21105\n",
       "9   9.5               48        5100     47       53           5151\n",
       "10  9.6               70        5400     38       43           6295"
      ]
     },
     "metadata": {},
     "output_type": "display_data"
    }
   ],
   "source": [
    "car %>% slice(1:10)"
   ]
  },
  {
   "cell_type": "markdown",
   "metadata": {},
   "source": [
    "### 정렬"
   ]
  },
  {
   "cell_type": "code",
   "execution_count": 118,
   "metadata": {},
   "outputs": [
    {
     "data": {
      "text/html": [
       "<table>\n",
       "<thead><tr><th scope=col>symboling</th><th scope=col>normalized_losses</th><th scope=col>maker</th><th scope=col>fuel</th><th scope=col>aspiration</th><th scope=col>doors</th><th scope=col>body</th><th scope=col>wheels</th><th scope=col>engine_location</th><th scope=col>wheel_base</th><th scope=col>⋯</th><th scope=col>engine_size</th><th scope=col>fuel_system</th><th scope=col>bore</th><th scope=col>stroke</th><th scope=col>compression_ratio</th><th scope=col>horsepower</th><th scope=col>peak_rpm</th><th scope=col>city_mpg</th><th scope=col>highway_mpg</th><th scope=col>price</th></tr></thead>\n",
       "<tbody>\n",
       "\t<tr><td>-2           </td><td>103          </td><td>volvo        </td><td>gas          </td><td>std          </td><td>four         </td><td>sedan        </td><td>rwd          </td><td>front        </td><td>104.3        </td><td>⋯            </td><td>141          </td><td>mpfi         </td><td>3.78         </td><td>3.15         </td><td> 9.5         </td><td>114          </td><td>5400         </td><td>23           </td><td>28           </td><td>12940        </td></tr>\n",
       "\t<tr><td>-2           </td><td>103          </td><td>volvo        </td><td>gas          </td><td>std          </td><td>four         </td><td>sedan        </td><td>rwd          </td><td>front        </td><td>104.3        </td><td>⋯            </td><td>141          </td><td>mpfi         </td><td>3.78         </td><td>3.15         </td><td> 9.5         </td><td>114          </td><td>5400         </td><td>24           </td><td>28           </td><td>15985        </td></tr>\n",
       "\t<tr><td>-2           </td><td>103          </td><td>volvo        </td><td>gas          </td><td>turbo        </td><td>four         </td><td>sedan        </td><td>rwd          </td><td>front        </td><td>104.3        </td><td>⋯            </td><td>130          </td><td>mpfi         </td><td>3.62         </td><td>3.15         </td><td> 7.5         </td><td>162          </td><td>5100         </td><td>17           </td><td>22           </td><td>18420        </td></tr>\n",
       "\t<tr><td>-1           </td><td>110          </td><td>dodge        </td><td>gas          </td><td>std          </td><td>four         </td><td>wagon        </td><td>fwd          </td><td>front        </td><td>103.3        </td><td>⋯            </td><td>122          </td><td>2bbl         </td><td>3.34         </td><td>3.46         </td><td> 8.5         </td><td> 88          </td><td>5000         </td><td>24           </td><td>30           </td><td> 8921        </td></tr>\n",
       "\t<tr><td>-1           </td><td> 93          </td><td>mercedes-benz</td><td>diesel       </td><td>turbo        </td><td>four         </td><td>sedan        </td><td>rwd          </td><td>front        </td><td>110.0        </td><td>⋯            </td><td>183          </td><td>idi          </td><td>3.58         </td><td>3.64         </td><td>21.5         </td><td>123          </td><td>4350         </td><td>22           </td><td>25           </td><td>25552        </td></tr>\n",
       "\t<tr><td>-1           </td><td> 93          </td><td>mercedes-benz</td><td>diesel       </td><td>turbo        </td><td>four         </td><td>wagon        </td><td>rwd          </td><td>front        </td><td>110.0        </td><td>⋯            </td><td>183          </td><td>idi          </td><td>3.58         </td><td>3.64         </td><td>21.5         </td><td>123          </td><td>4350         </td><td>22           </td><td>25           </td><td>28248        </td></tr>\n",
       "</tbody>\n",
       "</table>\n"
      ],
      "text/latex": [
       "\\begin{tabular}{r|llllllllllllllllllllllllll}\n",
       " symboling & normalized\\_losses & maker & fuel & aspiration & doors & body & wheels & engine\\_location & wheel\\_base & ⋯ & engine\\_size & fuel\\_system & bore & stroke & compression\\_ratio & horsepower & peak\\_rpm & city\\_mpg & highway\\_mpg & price\\\\\n",
       "\\hline\n",
       "\t -2            & 103           & volvo         & gas           & std           & four          & sedan         & rwd           & front         & 104.3         & ⋯             & 141           & mpfi          & 3.78          & 3.15          &  9.5          & 114           & 5400          & 23            & 28            & 12940        \\\\\n",
       "\t -2            & 103           & volvo         & gas           & std           & four          & sedan         & rwd           & front         & 104.3         & ⋯             & 141           & mpfi          & 3.78          & 3.15          &  9.5          & 114           & 5400          & 24            & 28            & 15985        \\\\\n",
       "\t -2            & 103           & volvo         & gas           & turbo         & four          & sedan         & rwd           & front         & 104.3         & ⋯             & 130           & mpfi          & 3.62          & 3.15          &  7.5          & 162           & 5100          & 17            & 22            & 18420        \\\\\n",
       "\t -1            & 110           & dodge         & gas           & std           & four          & wagon         & fwd           & front         & 103.3         & ⋯             & 122           & 2bbl          & 3.34          & 3.46          &  8.5          &  88           & 5000          & 24            & 30            &  8921        \\\\\n",
       "\t -1            &  93           & mercedes-benz & diesel        & turbo         & four          & sedan         & rwd           & front         & 110.0         & ⋯             & 183           & idi           & 3.58          & 3.64          & 21.5          & 123           & 4350          & 22            & 25            & 25552        \\\\\n",
       "\t -1            &  93           & mercedes-benz & diesel        & turbo         & four          & wagon         & rwd           & front         & 110.0         & ⋯             & 183           & idi           & 3.58          & 3.64          & 21.5          & 123           & 4350          & 22            & 25            & 28248        \\\\\n",
       "\\end{tabular}\n"
      ],
      "text/markdown": [
       "\n",
       "symboling | normalized_losses | maker | fuel | aspiration | doors | body | wheels | engine_location | wheel_base | ⋯ | engine_size | fuel_system | bore | stroke | compression_ratio | horsepower | peak_rpm | city_mpg | highway_mpg | price | \n",
       "|---|---|---|---|---|---|\n",
       "| -2            | 103           | volvo         | gas           | std           | four          | sedan         | rwd           | front         | 104.3         | ⋯             | 141           | mpfi          | 3.78          | 3.15          |  9.5          | 114           | 5400          | 23            | 28            | 12940         | \n",
       "| -2            | 103           | volvo         | gas           | std           | four          | sedan         | rwd           | front         | 104.3         | ⋯             | 141           | mpfi          | 3.78          | 3.15          |  9.5          | 114           | 5400          | 24            | 28            | 15985         | \n",
       "| -2            | 103           | volvo         | gas           | turbo         | four          | sedan         | rwd           | front         | 104.3         | ⋯             | 130           | mpfi          | 3.62          | 3.15          |  7.5          | 162           | 5100          | 17            | 22            | 18420         | \n",
       "| -1            | 110           | dodge         | gas           | std           | four          | wagon         | fwd           | front         | 103.3         | ⋯             | 122           | 2bbl          | 3.34          | 3.46          |  8.5          |  88           | 5000          | 24            | 30            |  8921         | \n",
       "| -1            |  93           | mercedes-benz | diesel        | turbo         | four          | sedan         | rwd           | front         | 110.0         | ⋯             | 183           | idi           | 3.58          | 3.64          | 21.5          | 123           | 4350          | 22            | 25            | 25552         | \n",
       "| -1            |  93           | mercedes-benz | diesel        | turbo         | four          | wagon         | rwd           | front         | 110.0         | ⋯             | 183           | idi           | 3.58          | 3.64          | 21.5          | 123           | 4350          | 22            | 25            | 28248         | \n",
       "\n",
       "\n"
      ],
      "text/plain": [
       "  symboling normalized_losses maker         fuel   aspiration doors body \n",
       "1 -2        103               volvo         gas    std        four  sedan\n",
       "2 -2        103               volvo         gas    std        four  sedan\n",
       "3 -2        103               volvo         gas    turbo      four  sedan\n",
       "4 -1        110               dodge         gas    std        four  wagon\n",
       "5 -1         93               mercedes-benz diesel turbo      four  sedan\n",
       "6 -1         93               mercedes-benz diesel turbo      four  wagon\n",
       "  wheels engine_location wheel_base ⋯ engine_size fuel_system bore stroke\n",
       "1 rwd    front           104.3      ⋯ 141         mpfi        3.78 3.15  \n",
       "2 rwd    front           104.3      ⋯ 141         mpfi        3.78 3.15  \n",
       "3 rwd    front           104.3      ⋯ 130         mpfi        3.62 3.15  \n",
       "4 fwd    front           103.3      ⋯ 122         2bbl        3.34 3.46  \n",
       "5 rwd    front           110.0      ⋯ 183         idi         3.58 3.64  \n",
       "6 rwd    front           110.0      ⋯ 183         idi         3.58 3.64  \n",
       "  compression_ratio horsepower peak_rpm city_mpg highway_mpg price\n",
       "1  9.5              114        5400     23       28          12940\n",
       "2  9.5              114        5400     24       28          15985\n",
       "3  7.5              162        5100     17       22          18420\n",
       "4  8.5               88        5000     24       30           8921\n",
       "5 21.5              123        4350     22       25          25552\n",
       "6 21.5              123        4350     22       25          28248"
      ]
     },
     "metadata": {},
     "output_type": "display_data"
    }
   ],
   "source": [
    "car %>% arrange(symboling) %>% head()"
   ]
  },
  {
   "cell_type": "code",
   "execution_count": 122,
   "metadata": {},
   "outputs": [
    {
     "data": {
      "text/html": [
       "<table>\n",
       "<thead><tr><th scope=col>symboling</th><th scope=col>normalized_losses</th><th scope=col>maker</th><th scope=col>fuel</th><th scope=col>aspiration</th><th scope=col>doors</th><th scope=col>body</th><th scope=col>wheels</th><th scope=col>engine_location</th><th scope=col>wheel_base</th><th scope=col>⋯</th><th scope=col>engine_size</th><th scope=col>fuel_system</th><th scope=col>bore</th><th scope=col>stroke</th><th scope=col>compression_ratio</th><th scope=col>horsepower</th><th scope=col>peak_rpm</th><th scope=col>city_mpg</th><th scope=col>highway_mpg</th><th scope=col>price</th></tr></thead>\n",
       "<tbody>\n",
       "\t<tr><td>3            </td><td>145          </td><td>dodge        </td><td>gas          </td><td>turbo        </td><td>two          </td><td>hatchback    </td><td>fwd          </td><td>front        </td><td>95.9         </td><td>⋯            </td><td>156          </td><td>mfi          </td><td>3.60         </td><td>3.90         </td><td>7.0          </td><td>145          </td><td>5000         </td><td>19           </td><td>24           </td><td>12964        </td></tr>\n",
       "\t<tr><td>3            </td><td>142          </td><td>mercedes-benz</td><td>gas          </td><td>std          </td><td>two          </td><td>convertible  </td><td>rwd          </td><td>front        </td><td>96.6         </td><td>⋯            </td><td>234          </td><td>mpfi         </td><td>3.46         </td><td>3.10         </td><td>8.3          </td><td>155          </td><td>4750         </td><td>16           </td><td>18           </td><td>35056        </td></tr>\n",
       "\t<tr><td>3            </td><td>153          </td><td>mitsubishi   </td><td>gas          </td><td>turbo        </td><td>two          </td><td>hatchback    </td><td>fwd          </td><td>front        </td><td>96.3         </td><td>⋯            </td><td>110          </td><td>spdi         </td><td>3.17         </td><td>3.46         </td><td>7.5          </td><td>116          </td><td>5500         </td><td>23           </td><td>30           </td><td> 9959        </td></tr>\n",
       "\t<tr><td>3            </td><td>153          </td><td>mitsubishi   </td><td>gas          </td><td>std          </td><td>two          </td><td>hatchback    </td><td>fwd          </td><td>front        </td><td>96.3         </td><td>⋯            </td><td>122          </td><td>2bbl         </td><td>3.35         </td><td>3.46         </td><td>8.5          </td><td> 88          </td><td>5000         </td><td>25           </td><td>32           </td><td> 8499        </td></tr>\n",
       "\t<tr><td>3            </td><td>194          </td><td>nissan       </td><td>gas          </td><td>std          </td><td>two          </td><td>hatchback    </td><td>rwd          </td><td>front        </td><td>91.3         </td><td>⋯            </td><td>181          </td><td>mpfi         </td><td>3.43         </td><td>3.27         </td><td>9.0          </td><td>160          </td><td>5200         </td><td>19           </td><td>25           </td><td>17199        </td></tr>\n",
       "\t<tr><td>3            </td><td>194          </td><td>nissan       </td><td>gas          </td><td>turbo        </td><td>two          </td><td>hatchback    </td><td>rwd          </td><td>front        </td><td>91.3         </td><td>⋯            </td><td>181          </td><td>mpfi         </td><td>3.43         </td><td>3.27         </td><td>7.8          </td><td>200          </td><td>5200         </td><td>17           </td><td>23           </td><td>19699        </td></tr>\n",
       "</tbody>\n",
       "</table>\n"
      ],
      "text/latex": [
       "\\begin{tabular}{r|llllllllllllllllllllllllll}\n",
       " symboling & normalized\\_losses & maker & fuel & aspiration & doors & body & wheels & engine\\_location & wheel\\_base & ⋯ & engine\\_size & fuel\\_system & bore & stroke & compression\\_ratio & horsepower & peak\\_rpm & city\\_mpg & highway\\_mpg & price\\\\\n",
       "\\hline\n",
       "\t 3             & 145           & dodge         & gas           & turbo         & two           & hatchback     & fwd           & front         & 95.9          & ⋯             & 156           & mfi           & 3.60          & 3.90          & 7.0           & 145           & 5000          & 19            & 24            & 12964        \\\\\n",
       "\t 3             & 142           & mercedes-benz & gas           & std           & two           & convertible   & rwd           & front         & 96.6          & ⋯             & 234           & mpfi          & 3.46          & 3.10          & 8.3           & 155           & 4750          & 16            & 18            & 35056        \\\\\n",
       "\t 3             & 153           & mitsubishi    & gas           & turbo         & two           & hatchback     & fwd           & front         & 96.3          & ⋯             & 110           & spdi          & 3.17          & 3.46          & 7.5           & 116           & 5500          & 23            & 30            &  9959        \\\\\n",
       "\t 3             & 153           & mitsubishi    & gas           & std           & two           & hatchback     & fwd           & front         & 96.3          & ⋯             & 122           & 2bbl          & 3.35          & 3.46          & 8.5           &  88           & 5000          & 25            & 32            &  8499        \\\\\n",
       "\t 3             & 194           & nissan        & gas           & std           & two           & hatchback     & rwd           & front         & 91.3          & ⋯             & 181           & mpfi          & 3.43          & 3.27          & 9.0           & 160           & 5200          & 19            & 25            & 17199        \\\\\n",
       "\t 3             & 194           & nissan        & gas           & turbo         & two           & hatchback     & rwd           & front         & 91.3          & ⋯             & 181           & mpfi          & 3.43          & 3.27          & 7.8           & 200           & 5200          & 17            & 23            & 19699        \\\\\n",
       "\\end{tabular}\n"
      ],
      "text/markdown": [
       "\n",
       "symboling | normalized_losses | maker | fuel | aspiration | doors | body | wheels | engine_location | wheel_base | ⋯ | engine_size | fuel_system | bore | stroke | compression_ratio | horsepower | peak_rpm | city_mpg | highway_mpg | price | \n",
       "|---|---|---|---|---|---|\n",
       "| 3             | 145           | dodge         | gas           | turbo         | two           | hatchback     | fwd           | front         | 95.9          | ⋯             | 156           | mfi           | 3.60          | 3.90          | 7.0           | 145           | 5000          | 19            | 24            | 12964         | \n",
       "| 3             | 142           | mercedes-benz | gas           | std           | two           | convertible   | rwd           | front         | 96.6          | ⋯             | 234           | mpfi          | 3.46          | 3.10          | 8.3           | 155           | 4750          | 16            | 18            | 35056         | \n",
       "| 3             | 153           | mitsubishi    | gas           | turbo         | two           | hatchback     | fwd           | front         | 96.3          | ⋯             | 110           | spdi          | 3.17          | 3.46          | 7.5           | 116           | 5500          | 23            | 30            |  9959         | \n",
       "| 3             | 153           | mitsubishi    | gas           | std           | two           | hatchback     | fwd           | front         | 96.3          | ⋯             | 122           | 2bbl          | 3.35          | 3.46          | 8.5           |  88           | 5000          | 25            | 32            |  8499         | \n",
       "| 3             | 194           | nissan        | gas           | std           | two           | hatchback     | rwd           | front         | 91.3          | ⋯             | 181           | mpfi          | 3.43          | 3.27          | 9.0           | 160           | 5200          | 19            | 25            | 17199         | \n",
       "| 3             | 194           | nissan        | gas           | turbo         | two           | hatchback     | rwd           | front         | 91.3          | ⋯             | 181           | mpfi          | 3.43          | 3.27          | 7.8           | 200           | 5200          | 17            | 23            | 19699         | \n",
       "\n",
       "\n"
      ],
      "text/plain": [
       "  symboling normalized_losses maker         fuel aspiration doors body       \n",
       "1 3         145               dodge         gas  turbo      two   hatchback  \n",
       "2 3         142               mercedes-benz gas  std        two   convertible\n",
       "3 3         153               mitsubishi    gas  turbo      two   hatchback  \n",
       "4 3         153               mitsubishi    gas  std        two   hatchback  \n",
       "5 3         194               nissan        gas  std        two   hatchback  \n",
       "6 3         194               nissan        gas  turbo      two   hatchback  \n",
       "  wheels engine_location wheel_base ⋯ engine_size fuel_system bore stroke\n",
       "1 fwd    front           95.9       ⋯ 156         mfi         3.60 3.90  \n",
       "2 rwd    front           96.6       ⋯ 234         mpfi        3.46 3.10  \n",
       "3 fwd    front           96.3       ⋯ 110         spdi        3.17 3.46  \n",
       "4 fwd    front           96.3       ⋯ 122         2bbl        3.35 3.46  \n",
       "5 rwd    front           91.3       ⋯ 181         mpfi        3.43 3.27  \n",
       "6 rwd    front           91.3       ⋯ 181         mpfi        3.43 3.27  \n",
       "  compression_ratio horsepower peak_rpm city_mpg highway_mpg price\n",
       "1 7.0               145        5000     19       24          12964\n",
       "2 8.3               155        4750     16       18          35056\n",
       "3 7.5               116        5500     23       30           9959\n",
       "4 8.5                88        5000     25       32           8499\n",
       "5 9.0               160        5200     19       25          17199\n",
       "6 7.8               200        5200     17       23          19699"
      ]
     },
     "metadata": {},
     "output_type": "display_data"
    }
   ],
   "source": [
    "car %>% arrange(desc(symboling)) %>% head()"
   ]
  },
  {
   "cell_type": "markdown",
   "metadata": {},
   "source": [
    "### Join \n",
    " - 두개의 데이터를 결합 "
   ]
  },
  {
   "cell_type": "code",
   "execution_count": 123,
   "metadata": {
    "collapsed": true
   },
   "outputs": [],
   "source": [
    "x = data.frame(name = c('a','b','c'), v1 = 1:3)\n",
    "y = data.frame(name = c('b', 'b', 'c', 'd'), v2 = 1:4)"
   ]
  },
  {
   "cell_type": "code",
   "execution_count": 124,
   "metadata": {},
   "outputs": [
    {
     "data": {
      "text/html": [
       "<table>\n",
       "<thead><tr><th scope=col>name</th><th scope=col>v1</th></tr></thead>\n",
       "<tbody>\n",
       "\t<tr><td>a</td><td>1</td></tr>\n",
       "\t<tr><td>b</td><td>2</td></tr>\n",
       "\t<tr><td>c</td><td>3</td></tr>\n",
       "</tbody>\n",
       "</table>\n"
      ],
      "text/latex": [
       "\\begin{tabular}{r|ll}\n",
       " name & v1\\\\\n",
       "\\hline\n",
       "\t a & 1\\\\\n",
       "\t b & 2\\\\\n",
       "\t c & 3\\\\\n",
       "\\end{tabular}\n"
      ],
      "text/markdown": [
       "\n",
       "name | v1 | \n",
       "|---|---|---|\n",
       "| a | 1 | \n",
       "| b | 2 | \n",
       "| c | 3 | \n",
       "\n",
       "\n"
      ],
      "text/plain": [
       "  name v1\n",
       "1 a    1 \n",
       "2 b    2 \n",
       "3 c    3 "
      ]
     },
     "metadata": {},
     "output_type": "display_data"
    }
   ],
   "source": [
    "x"
   ]
  },
  {
   "cell_type": "code",
   "execution_count": 125,
   "metadata": {},
   "outputs": [
    {
     "data": {
      "text/html": [
       "<table>\n",
       "<thead><tr><th scope=col>name</th><th scope=col>v2</th></tr></thead>\n",
       "<tbody>\n",
       "\t<tr><td>b</td><td>1</td></tr>\n",
       "\t<tr><td>b</td><td>2</td></tr>\n",
       "\t<tr><td>c</td><td>3</td></tr>\n",
       "\t<tr><td>d</td><td>4</td></tr>\n",
       "</tbody>\n",
       "</table>\n"
      ],
      "text/latex": [
       "\\begin{tabular}{r|ll}\n",
       " name & v2\\\\\n",
       "\\hline\n",
       "\t b & 1\\\\\n",
       "\t b & 2\\\\\n",
       "\t c & 3\\\\\n",
       "\t d & 4\\\\\n",
       "\\end{tabular}\n"
      ],
      "text/markdown": [
       "\n",
       "name | v2 | \n",
       "|---|---|---|---|\n",
       "| b | 1 | \n",
       "| b | 2 | \n",
       "| c | 3 | \n",
       "| d | 4 | \n",
       "\n",
       "\n"
      ],
      "text/plain": [
       "  name v2\n",
       "1 b    1 \n",
       "2 b    2 \n",
       "3 c    3 \n",
       "4 d    4 "
      ]
     },
     "metadata": {},
     "output_type": "display_data"
    }
   ],
   "source": [
    "y"
   ]
  },
  {
   "cell_type": "code",
   "execution_count": 126,
   "metadata": {},
   "outputs": [
    {
     "name": "stderr",
     "output_type": "stream",
     "text": [
      "Joining, by = \"name\"\n",
      "Warning message:\n",
      "“Column `name` joining factors with different levels, coercing to character vector”"
     ]
    },
    {
     "data": {
      "text/html": [
       "<table>\n",
       "<thead><tr><th scope=col>name</th><th scope=col>v1</th><th scope=col>v2</th></tr></thead>\n",
       "<tbody>\n",
       "\t<tr><td>a </td><td>1 </td><td>NA</td></tr>\n",
       "\t<tr><td>b </td><td>2 </td><td> 1</td></tr>\n",
       "\t<tr><td>b </td><td>2 </td><td> 2</td></tr>\n",
       "\t<tr><td>c </td><td>3 </td><td> 3</td></tr>\n",
       "</tbody>\n",
       "</table>\n"
      ],
      "text/latex": [
       "\\begin{tabular}{r|lll}\n",
       " name & v1 & v2\\\\\n",
       "\\hline\n",
       "\t a  & 1  & NA\\\\\n",
       "\t b  & 2  &  1\\\\\n",
       "\t b  & 2  &  2\\\\\n",
       "\t c  & 3  &  3\\\\\n",
       "\\end{tabular}\n"
      ],
      "text/markdown": [
       "\n",
       "name | v1 | v2 | \n",
       "|---|---|---|---|\n",
       "| a  | 1  | NA | \n",
       "| b  | 2  |  1 | \n",
       "| b  | 2  |  2 | \n",
       "| c  | 3  |  3 | \n",
       "\n",
       "\n"
      ],
      "text/plain": [
       "  name v1 v2\n",
       "1 a    1  NA\n",
       "2 b    2   1\n",
       "3 b    2   2\n",
       "4 c    3   3"
      ]
     },
     "metadata": {},
     "output_type": "display_data"
    }
   ],
   "source": [
    "left_join(x,y) # x의 데이터의 name(같은 이름의 컬럼) 기준으로 결합"
   ]
  },
  {
   "cell_type": "code",
   "execution_count": 127,
   "metadata": {},
   "outputs": [
    {
     "name": "stderr",
     "output_type": "stream",
     "text": [
      "Joining, by = \"name\"\n",
      "Warning message:\n",
      "“Column `name` joining factors with different levels, coercing to character vector”"
     ]
    },
    {
     "data": {
      "text/html": [
       "<table>\n",
       "<thead><tr><th scope=col>name</th><th scope=col>v1</th><th scope=col>v2</th></tr></thead>\n",
       "<tbody>\n",
       "\t<tr><td>b </td><td> 2</td><td>1 </td></tr>\n",
       "\t<tr><td>b </td><td> 2</td><td>2 </td></tr>\n",
       "\t<tr><td>c </td><td> 3</td><td>3 </td></tr>\n",
       "\t<tr><td>d </td><td>NA</td><td>4 </td></tr>\n",
       "</tbody>\n",
       "</table>\n"
      ],
      "text/latex": [
       "\\begin{tabular}{r|lll}\n",
       " name & v1 & v2\\\\\n",
       "\\hline\n",
       "\t b  &  2 & 1 \\\\\n",
       "\t b  &  2 & 2 \\\\\n",
       "\t c  &  3 & 3 \\\\\n",
       "\t d  & NA & 4 \\\\\n",
       "\\end{tabular}\n"
      ],
      "text/markdown": [
       "\n",
       "name | v1 | v2 | \n",
       "|---|---|---|---|\n",
       "| b  |  2 | 1  | \n",
       "| b  |  2 | 2  | \n",
       "| c  |  3 | 3  | \n",
       "| d  | NA | 4  | \n",
       "\n",
       "\n"
      ],
      "text/plain": [
       "  name v1 v2\n",
       "1 b     2 1 \n",
       "2 b     2 2 \n",
       "3 c     3 3 \n",
       "4 d    NA 4 "
      ]
     },
     "metadata": {},
     "output_type": "display_data"
    }
   ],
   "source": [
    "right_join(x,y) # y의 데이터의 기준으로."
   ]
  },
  {
   "cell_type": "code",
   "execution_count": 128,
   "metadata": {},
   "outputs": [
    {
     "name": "stderr",
     "output_type": "stream",
     "text": [
      "Joining, by = \"name\"\n",
      "Warning message:\n",
      "“Column `name` joining factors with different levels, coercing to character vector”"
     ]
    },
    {
     "data": {
      "text/html": [
       "<table>\n",
       "<thead><tr><th scope=col>name</th><th scope=col>v1</th><th scope=col>v2</th></tr></thead>\n",
       "<tbody>\n",
       "\t<tr><td>b</td><td>2</td><td>1</td></tr>\n",
       "\t<tr><td>b</td><td>2</td><td>2</td></tr>\n",
       "\t<tr><td>c</td><td>3</td><td>3</td></tr>\n",
       "</tbody>\n",
       "</table>\n"
      ],
      "text/latex": [
       "\\begin{tabular}{r|lll}\n",
       " name & v1 & v2\\\\\n",
       "\\hline\n",
       "\t b & 2 & 1\\\\\n",
       "\t b & 2 & 2\\\\\n",
       "\t c & 3 & 3\\\\\n",
       "\\end{tabular}\n"
      ],
      "text/markdown": [
       "\n",
       "name | v1 | v2 | \n",
       "|---|---|---|\n",
       "| b | 2 | 1 | \n",
       "| b | 2 | 2 | \n",
       "| c | 3 | 3 | \n",
       "\n",
       "\n"
      ],
      "text/plain": [
       "  name v1 v2\n",
       "1 b    2  1 \n",
       "2 b    2  2 \n",
       "3 c    3  3 "
      ]
     },
     "metadata": {},
     "output_type": "display_data"
    }
   ],
   "source": [
    "inner_join(x,y) # x,y 의 name에 동일한 값이 있는 것만 "
   ]
  },
  {
   "cell_type": "code",
   "execution_count": 129,
   "metadata": {},
   "outputs": [
    {
     "name": "stderr",
     "output_type": "stream",
     "text": [
      "Joining, by = \"name\"\n",
      "Warning message:\n",
      "“Column `name` joining factors with different levels, coercing to character vector”"
     ]
    },
    {
     "data": {
      "text/html": [
       "<table>\n",
       "<thead><tr><th scope=col>name</th><th scope=col>v1</th><th scope=col>v2</th></tr></thead>\n",
       "<tbody>\n",
       "\t<tr><td>a </td><td> 1</td><td>NA</td></tr>\n",
       "\t<tr><td>b </td><td> 2</td><td> 1</td></tr>\n",
       "\t<tr><td>b </td><td> 2</td><td> 2</td></tr>\n",
       "\t<tr><td>c </td><td> 3</td><td> 3</td></tr>\n",
       "\t<tr><td>d </td><td>NA</td><td> 4</td></tr>\n",
       "</tbody>\n",
       "</table>\n"
      ],
      "text/latex": [
       "\\begin{tabular}{r|lll}\n",
       " name & v1 & v2\\\\\n",
       "\\hline\n",
       "\t a  &  1 & NA\\\\\n",
       "\t b  &  2 &  1\\\\\n",
       "\t b  &  2 &  2\\\\\n",
       "\t c  &  3 &  3\\\\\n",
       "\t d  & NA &  4\\\\\n",
       "\\end{tabular}\n"
      ],
      "text/markdown": [
       "\n",
       "name | v1 | v2 | \n",
       "|---|---|---|---|---|\n",
       "| a  |  1 | NA | \n",
       "| b  |  2 |  1 | \n",
       "| b  |  2 |  2 | \n",
       "| c  |  3 |  3 | \n",
       "| d  | NA |  4 | \n",
       "\n",
       "\n"
      ],
      "text/plain": [
       "  name v1 v2\n",
       "1 a     1 NA\n",
       "2 b     2  1\n",
       "3 b     2  2\n",
       "4 c     3  3\n",
       "5 d    NA  4"
      ]
     },
     "metadata": {},
     "output_type": "display_data"
    }
   ],
   "source": [
    "full_join(x,y) # 카디션 곱"
   ]
  },
  {
   "cell_type": "code",
   "execution_count": 130,
   "metadata": {},
   "outputs": [
    {
     "name": "stderr",
     "output_type": "stream",
     "text": [
      "Joining, by = \"name\"\n",
      "Warning message:\n",
      "“Column `name` joining factors with different levels, coercing to character vector”"
     ]
    },
    {
     "data": {
      "text/html": [
       "<table>\n",
       "<thead><tr><th scope=col>name</th><th scope=col>v1</th></tr></thead>\n",
       "<tbody>\n",
       "\t<tr><td>b</td><td>2</td></tr>\n",
       "\t<tr><td>c</td><td>3</td></tr>\n",
       "</tbody>\n",
       "</table>\n"
      ],
      "text/latex": [
       "\\begin{tabular}{r|ll}\n",
       " name & v1\\\\\n",
       "\\hline\n",
       "\t b & 2\\\\\n",
       "\t c & 3\\\\\n",
       "\\end{tabular}\n"
      ],
      "text/markdown": [
       "\n",
       "name | v1 | \n",
       "|---|---|\n",
       "| b | 2 | \n",
       "| c | 3 | \n",
       "\n",
       "\n"
      ],
      "text/plain": [
       "  name v1\n",
       "1 b    2 \n",
       "2 c    3 "
      ]
     },
     "metadata": {},
     "output_type": "display_data"
    }
   ],
   "source": [
    "semi_join(x,y)"
   ]
  },
  {
   "cell_type": "markdown",
   "metadata": {},
   "source": [
    "#### semi_join()\n",
    "return all rows from x where there are matching values in y, keeping just columns from x.\n",
    "A semi join differs from an inner join because an inner join will return one row of x for each matching row of y, where a semi join will never duplicate rows of x."
   ]
  },
  {
   "cell_type": "code",
   "execution_count": 132,
   "metadata": {
    "collapsed": true
   },
   "outputs": [],
   "source": [
    "?semi_join"
   ]
  }
 ],
 "metadata": {
  "kernelspec": {
   "display_name": "R",
   "language": "R",
   "name": "r"
  },
  "language_info": {
   "codemirror_mode": "r",
   "file_extension": ".r",
   "mimetype": "text/x-r-source",
   "name": "R",
   "pygments_lexer": "r",
   "version": "3.4.1"
  }
 },
 "nbformat": 4,
 "nbformat_minor": 2
}
