{
 "cells": [
  {
   "cell_type": "code",
   "execution_count": 1,
   "metadata": {},
   "outputs": [
    {
     "name": "stderr",
     "output_type": "stream",
     "text": [
      "Warning message:\n",
      ": package 'caret' was built under R version 3.3.2Loading required package: lattice\n",
      "Loading required package: ggplot2\n",
      "Warning message:\n",
      ": package 'ggplot2' was built under R version 3.3.2"
     ]
    }
   ],
   "source": [
    "library(caret)"
   ]
  },
  {
   "cell_type": "code",
   "execution_count": 4,
   "metadata": {},
   "outputs": [],
   "source": [
    "car = read.csv('../0909/automobile.csv')"
   ]
  },
  {
   "cell_type": "code",
   "execution_count": 5,
   "metadata": {},
   "outputs": [
    {
     "data": {
      "text/html": [
       "<table>\n",
       "<thead><tr><th></th><th scope=col>symboling</th><th scope=col>normalized_losses</th><th scope=col>maker</th><th scope=col>fuel</th><th scope=col>aspiration</th><th scope=col>doors</th><th scope=col>body</th><th scope=col>wheels</th><th scope=col>engine_location</th><th scope=col>wheel_base</th><th scope=col>...</th><th scope=col>engine_size</th><th scope=col>fuel_system</th><th scope=col>bore</th><th scope=col>stroke</th><th scope=col>compression_ratio</th><th scope=col>horsepower</th><th scope=col>peak_rpm</th><th scope=col>city_mpg</th><th scope=col>highway_mpg</th><th scope=col>price</th></tr></thead>\n",
       "<tbody>\n",
       "\t<tr><th scope=row>1</th><td>2    </td><td>164  </td><td>audi </td><td>gas  </td><td>std  </td><td>four </td><td>sedan</td><td>fwd  </td><td>front</td><td>99.8 </td><td>...  </td><td>109  </td><td>mpfi </td><td>3.19 </td><td>3.4  </td><td>10   </td><td>102  </td><td>5500 </td><td>24   </td><td>30   </td><td>13950</td></tr>\n",
       "\t<tr><th scope=row>2</th><td>2    </td><td>164  </td><td>audi </td><td>gas  </td><td>std  </td><td>four </td><td>sedan</td><td>4wd  </td><td>front</td><td>99.4 </td><td>...  </td><td>136  </td><td>mpfi </td><td>3.19 </td><td>3.4  </td><td>8    </td><td>115  </td><td>5500 </td><td>18   </td><td>22   </td><td>17450</td></tr>\n",
       "\t<tr><th scope=row>3</th><td>1    </td><td>158  </td><td>audi </td><td>gas  </td><td>std  </td><td>four </td><td>sedan</td><td>fwd  </td><td>front</td><td>105.8</td><td>...  </td><td>136  </td><td>mpfi </td><td>3.19 </td><td>3.4  </td><td>8.5  </td><td>110  </td><td>5500 </td><td>19   </td><td>25   </td><td>17710</td></tr>\n",
       "\t<tr><th scope=row>4</th><td>1    </td><td>158  </td><td>audi </td><td>gas  </td><td>turbo</td><td>four </td><td>sedan</td><td>fwd  </td><td>front</td><td>105.8</td><td>...  </td><td>131  </td><td>mpfi </td><td>3.13 </td><td>3.4  </td><td>8.3  </td><td>140  </td><td>5500 </td><td>17   </td><td>20   </td><td>23875</td></tr>\n",
       "\t<tr><th scope=row>5</th><td>2    </td><td>192  </td><td>bmw  </td><td>gas  </td><td>std  </td><td>two  </td><td>sedan</td><td>rwd  </td><td>front</td><td>101.2</td><td>...  </td><td>108  </td><td>mpfi </td><td>3.5  </td><td>2.8  </td><td>8.8  </td><td>101  </td><td>5800 </td><td>23   </td><td>29   </td><td>16430</td></tr>\n",
       "\t<tr><th scope=row>6</th><td>0    </td><td>192  </td><td>bmw  </td><td>gas  </td><td>std  </td><td>four </td><td>sedan</td><td>rwd  </td><td>front</td><td>101.2</td><td>...  </td><td>108  </td><td>mpfi </td><td>3.5  </td><td>2.8  </td><td>8.8  </td><td>101  </td><td>5800 </td><td>23   </td><td>29   </td><td>16925</td></tr>\n",
       "</tbody>\n",
       "</table>\n"
      ],
      "text/latex": [
       "\\begin{tabular}{r|llllllllllllllllllllllllll}\n",
       "  & symboling & normalized\\_losses & maker & fuel & aspiration & doors & body & wheels & engine\\_location & wheel\\_base & ... & engine\\_size & fuel\\_system & bore & stroke & compression\\_ratio & horsepower & peak\\_rpm & city\\_mpg & highway\\_mpg & price\\\\\n",
       "\\hline\n",
       "\t1 & 2     & 164   & audi  & gas   & std   & four  & sedan & fwd   & front & 99.8  & ...   & 109   & mpfi  & 3.19  & 3.4   & 10    & 102   & 5500  & 24    & 30    & 13950\\\\\n",
       "\t2 & 2     & 164   & audi  & gas   & std   & four  & sedan & 4wd   & front & 99.4  & ...   & 136   & mpfi  & 3.19  & 3.4   & 8     & 115   & 5500  & 18    & 22    & 17450\\\\\n",
       "\t3 & 1     & 158   & audi  & gas   & std   & four  & sedan & fwd   & front & 105.8 & ...   & 136   & mpfi  & 3.19  & 3.4   & 8.5   & 110   & 5500  & 19    & 25    & 17710\\\\\n",
       "\t4 & 1     & 158   & audi  & gas   & turbo & four  & sedan & fwd   & front & 105.8 & ...   & 131   & mpfi  & 3.13  & 3.4   & 8.3   & 140   & 5500  & 17    & 20    & 23875\\\\\n",
       "\t5 & 2     & 192   & bmw   & gas   & std   & two   & sedan & rwd   & front & 101.2 & ...   & 108   & mpfi  & 3.5   & 2.8   & 8.8   & 101   & 5800  & 23    & 29    & 16430\\\\\n",
       "\t6 & 0     & 192   & bmw   & gas   & std   & four  & sedan & rwd   & front & 101.2 & ...   & 108   & mpfi  & 3.5   & 2.8   & 8.8   & 101   & 5800  & 23    & 29    & 16925\\\\\n",
       "\\end{tabular}\n"
      ],
      "text/plain": [
       "  symboling normalized_losses maker fuel aspiration doors  body wheels\n",
       "1         2               164  audi  gas        std  four sedan    fwd\n",
       "2         2               164  audi  gas        std  four sedan    4wd\n",
       "3         1               158  audi  gas        std  four sedan    fwd\n",
       "4         1               158  audi  gas      turbo  four sedan    fwd\n",
       "5         2               192   bmw  gas        std   two sedan    rwd\n",
       "6         0               192   bmw  gas        std  four sedan    rwd\n",
       "  engine_location wheel_base ... engine_size fuel_system bore stroke\n",
       "1           front       99.8 ...         109        mpfi 3.19    3.4\n",
       "2           front       99.4 ...         136        mpfi 3.19    3.4\n",
       "3           front      105.8 ...         136        mpfi 3.19    3.4\n",
       "4           front      105.8 ...         131        mpfi 3.13    3.4\n",
       "5           front      101.2 ...         108        mpfi 3.50    2.8\n",
       "6           front      101.2 ...         108        mpfi 3.50    2.8\n",
       "  compression_ratio horsepower peak_rpm city_mpg highway_mpg price\n",
       "1              10.0        102     5500       24          30 13950\n",
       "2               8.0        115     5500       18          22 17450\n",
       "3               8.5        110     5500       19          25 17710\n",
       "4               8.3        140     5500       17          20 23875\n",
       "5               8.8        101     5800       23          29 16430\n",
       "6               8.8        101     5800       23          29 16925"
      ]
     },
     "metadata": {},
     "output_type": "display_data"
    }
   ],
   "source": [
    "head(car)"
   ]
  },
  {
   "cell_type": "markdown",
   "metadata": {},
   "source": [
    "## 데이터 분할 "
   ]
  },
  {
   "cell_type": "code",
   "execution_count": 6,
   "metadata": {
    "collapsed": true
   },
   "outputs": [],
   "source": [
    "set.seed(1234)"
   ]
  },
  {
   "cell_type": "code",
   "execution_count": 7,
   "metadata": {
    "collapsed": true
   },
   "outputs": [],
   "source": [
    "idx <- createDataPartition(car$price, p=.5, list=F, times = 1)"
   ]
  },
  {
   "cell_type": "code",
   "execution_count": 8,
   "metadata": {
    "collapsed": true
   },
   "outputs": [],
   "source": [
    "train.data <- car[idx,]\n",
    "test.data <- car[-idx,]"
   ]
  },
  {
   "cell_type": "markdown",
   "metadata": {},
   "source": [
    "## 훈련 방법 설정"
   ]
  },
  {
   "cell_type": "code",
   "execution_count": 9,
   "metadata": {
    "collapsed": true
   },
   "outputs": [],
   "source": [
    "tr <- trainControl(\n",
    "  method = 'repeatedcv',\n",
    "  repeats = 1,\n",
    "  number = 5)"
   ]
  },
  {
   "cell_type": "markdown",
   "metadata": {},
   "source": [
    "## 연속 변수 고르기"
   ]
  },
  {
   "cell_type": "code",
   "execution_count": 10,
   "metadata": {},
   "outputs": [
    {
     "data": {
      "text/html": [
       "<dl class=dl-horizontal>\n",
       "\t<dt>symboling</dt>\n",
       "\t\t<dd>TRUE</dd>\n",
       "\t<dt>normalized_losses</dt>\n",
       "\t\t<dd>TRUE</dd>\n",
       "\t<dt>maker</dt>\n",
       "\t\t<dd>FALSE</dd>\n",
       "\t<dt>fuel</dt>\n",
       "\t\t<dd>FALSE</dd>\n",
       "\t<dt>aspiration</dt>\n",
       "\t\t<dd>FALSE</dd>\n",
       "\t<dt>doors</dt>\n",
       "\t\t<dd>FALSE</dd>\n",
       "\t<dt>body</dt>\n",
       "\t\t<dd>FALSE</dd>\n",
       "\t<dt>wheels</dt>\n",
       "\t\t<dd>FALSE</dd>\n",
       "\t<dt>engine_location</dt>\n",
       "\t\t<dd>FALSE</dd>\n",
       "\t<dt>wheel_base</dt>\n",
       "\t\t<dd>TRUE</dd>\n",
       "\t<dt>length</dt>\n",
       "\t\t<dd>TRUE</dd>\n",
       "\t<dt>width</dt>\n",
       "\t\t<dd>TRUE</dd>\n",
       "\t<dt>height</dt>\n",
       "\t\t<dd>TRUE</dd>\n",
       "\t<dt>curb_weight</dt>\n",
       "\t\t<dd>TRUE</dd>\n",
       "\t<dt>engine_type</dt>\n",
       "\t\t<dd>FALSE</dd>\n",
       "\t<dt>cylinders</dt>\n",
       "\t\t<dd>FALSE</dd>\n",
       "\t<dt>engine_size</dt>\n",
       "\t\t<dd>TRUE</dd>\n",
       "\t<dt>fuel_system</dt>\n",
       "\t\t<dd>FALSE</dd>\n",
       "\t<dt>bore</dt>\n",
       "\t\t<dd>TRUE</dd>\n",
       "\t<dt>stroke</dt>\n",
       "\t\t<dd>TRUE</dd>\n",
       "\t<dt>compression_ratio</dt>\n",
       "\t\t<dd>TRUE</dd>\n",
       "\t<dt>horsepower</dt>\n",
       "\t\t<dd>TRUE</dd>\n",
       "\t<dt>peak_rpm</dt>\n",
       "\t\t<dd>TRUE</dd>\n",
       "\t<dt>city_mpg</dt>\n",
       "\t\t<dd>TRUE</dd>\n",
       "\t<dt>highway_mpg</dt>\n",
       "\t\t<dd>TRUE</dd>\n",
       "\t<dt>price</dt>\n",
       "\t\t<dd>TRUE</dd>\n",
       "</dl>\n"
      ],
      "text/latex": [
       "\\begin{description*}\n",
       "\\item[symboling] TRUE\n",
       "\\item[normalized\\textbackslash{}\\_losses] TRUE\n",
       "\\item[maker] FALSE\n",
       "\\item[fuel] FALSE\n",
       "\\item[aspiration] FALSE\n",
       "\\item[doors] FALSE\n",
       "\\item[body] FALSE\n",
       "\\item[wheels] FALSE\n",
       "\\item[engine\\textbackslash{}\\_location] FALSE\n",
       "\\item[wheel\\textbackslash{}\\_base] TRUE\n",
       "\\item[length] TRUE\n",
       "\\item[width] TRUE\n",
       "\\item[height] TRUE\n",
       "\\item[curb\\textbackslash{}\\_weight] TRUE\n",
       "\\item[engine\\textbackslash{}\\_type] FALSE\n",
       "\\item[cylinders] FALSE\n",
       "\\item[engine\\textbackslash{}\\_size] TRUE\n",
       "\\item[fuel\\textbackslash{}\\_system] FALSE\n",
       "\\item[bore] TRUE\n",
       "\\item[stroke] TRUE\n",
       "\\item[compression\\textbackslash{}\\_ratio] TRUE\n",
       "\\item[horsepower] TRUE\n",
       "\\item[peak\\textbackslash{}\\_rpm] TRUE\n",
       "\\item[city\\textbackslash{}\\_mpg] TRUE\n",
       "\\item[highway\\textbackslash{}\\_mpg] TRUE\n",
       "\\item[price] TRUE\n",
       "\\end{description*}\n"
      ],
      "text/markdown": [
       "symboling\n",
       ":   TRUEnormalized_losses\n",
       ":   TRUEmaker\n",
       ":   FALSEfuel\n",
       ":   FALSEaspiration\n",
       ":   FALSEdoors\n",
       ":   FALSEbody\n",
       ":   FALSEwheels\n",
       ":   FALSEengine_location\n",
       ":   FALSEwheel_base\n",
       ":   TRUElength\n",
       ":   TRUEwidth\n",
       ":   TRUEheight\n",
       ":   TRUEcurb_weight\n",
       ":   TRUEengine_type\n",
       ":   FALSEcylinders\n",
       ":   FALSEengine_size\n",
       ":   TRUEfuel_system\n",
       ":   FALSEbore\n",
       ":   TRUEstroke\n",
       ":   TRUEcompression_ratio\n",
       ":   TRUEhorsepower\n",
       ":   TRUEpeak_rpm\n",
       ":   TRUEcity_mpg\n",
       ":   TRUEhighway_mpg\n",
       ":   TRUEprice\n",
       ":   TRUE\n",
       "\n"
      ],
      "text/plain": [
       "        symboling normalized_losses             maker              fuel \n",
       "             TRUE              TRUE             FALSE             FALSE \n",
       "       aspiration             doors              body            wheels \n",
       "            FALSE             FALSE             FALSE             FALSE \n",
       "  engine_location        wheel_base            length             width \n",
       "            FALSE              TRUE              TRUE              TRUE \n",
       "           height       curb_weight       engine_type         cylinders \n",
       "             TRUE              TRUE             FALSE             FALSE \n",
       "      engine_size       fuel_system              bore            stroke \n",
       "             TRUE             FALSE              TRUE              TRUE \n",
       "compression_ratio        horsepower          peak_rpm          city_mpg \n",
       "             TRUE              TRUE              TRUE              TRUE \n",
       "      highway_mpg             price \n",
       "             TRUE              TRUE "
      ]
     },
     "metadata": {},
     "output_type": "display_data"
    }
   ],
   "source": [
    "cont = sapply(car, is.numeric)\n",
    "cont"
   ]
  },
  {
   "cell_type": "code",
   "execution_count": 11,
   "metadata": {},
   "outputs": [
    {
     "data": {
      "text/html": [
       "<ol class=list-inline>\n",
       "\t<li>\"symboling\"</li>\n",
       "\t<li>\"normalized_losses\"</li>\n",
       "\t<li>\"wheel_base\"</li>\n",
       "\t<li>\"length\"</li>\n",
       "\t<li>\"width\"</li>\n",
       "\t<li>\"height\"</li>\n",
       "\t<li>\"curb_weight\"</li>\n",
       "\t<li>\"engine_size\"</li>\n",
       "\t<li>\"bore\"</li>\n",
       "\t<li>\"stroke\"</li>\n",
       "\t<li>\"compression_ratio\"</li>\n",
       "\t<li>\"horsepower\"</li>\n",
       "\t<li>\"peak_rpm\"</li>\n",
       "\t<li>\"city_mpg\"</li>\n",
       "\t<li>\"highway_mpg\"</li>\n",
       "\t<li>\"price\"</li>\n",
       "</ol>\n"
      ],
      "text/latex": [
       "\\begin{enumerate*}\n",
       "\\item \"symboling\"\n",
       "\\item \"normalized\\_losses\"\n",
       "\\item \"wheel\\_base\"\n",
       "\\item \"length\"\n",
       "\\item \"width\"\n",
       "\\item \"height\"\n",
       "\\item \"curb\\_weight\"\n",
       "\\item \"engine\\_size\"\n",
       "\\item \"bore\"\n",
       "\\item \"stroke\"\n",
       "\\item \"compression\\_ratio\"\n",
       "\\item \"horsepower\"\n",
       "\\item \"peak\\_rpm\"\n",
       "\\item \"city\\_mpg\"\n",
       "\\item \"highway\\_mpg\"\n",
       "\\item \"price\"\n",
       "\\end{enumerate*}\n"
      ],
      "text/markdown": [
       "1. \"symboling\"\n",
       "2. \"normalized_losses\"\n",
       "3. \"wheel_base\"\n",
       "4. \"length\"\n",
       "5. \"width\"\n",
       "6. \"height\"\n",
       "7. \"curb_weight\"\n",
       "8. \"engine_size\"\n",
       "9. \"bore\"\n",
       "10. \"stroke\"\n",
       "11. \"compression_ratio\"\n",
       "12. \"horsepower\"\n",
       "13. \"peak_rpm\"\n",
       "14. \"city_mpg\"\n",
       "15. \"highway_mpg\"\n",
       "16. \"price\"\n",
       "\n",
       "\n"
      ],
      "text/plain": [
       " [1] \"symboling\"         \"normalized_losses\" \"wheel_base\"       \n",
       " [4] \"length\"            \"width\"             \"height\"           \n",
       " [7] \"curb_weight\"       \"engine_size\"       \"bore\"             \n",
       "[10] \"stroke\"            \"compression_ratio\" \"horsepower\"       \n",
       "[13] \"peak_rpm\"          \"city_mpg\"          \"highway_mpg\"      \n",
       "[16] \"price\"            "
      ]
     },
     "metadata": {},
     "output_type": "display_data"
    }
   ],
   "source": [
    "names(car)[cont]"
   ]
  },
  {
   "cell_type": "markdown",
   "metadata": {},
   "source": [
    "## Elastic Net"
   ]
  },
  {
   "cell_type": "code",
   "execution_count": 12,
   "metadata": {
    "collapsed": true
   },
   "outputs": [],
   "source": [
    "elst.Grid <- expand.grid(\n",
    "  .alpha = seq(0, 1, 0.2),\n",
    "  .lambda = c(0.001, 0.01, 0.1))"
   ]
  },
  {
   "cell_type": "code",
   "execution_count": 13,
   "metadata": {},
   "outputs": [
    {
     "name": "stderr",
     "output_type": "stream",
     "text": [
      "Loading required package: glmnet\n",
      "Warning message:\n",
      ": package 'glmnet' was built under R version 3.3.2Loading required package: Matrix\n",
      "Loading required package: foreach\n",
      "Loaded glmnet 2.0-5\n",
      "\n"
     ]
    }
   ],
   "source": [
    "elst.Model <- train(\n",
    "  price ~ ., \n",
    "  data = train.data[cont],\n",
    "  method = 'glmnet',\n",
    "  preProc = c('center', 'scale'),\n",
    "  metric = 'RMSE',\n",
    "  tuneGrid = elst.Grid,\n",
    "  trControl = tr)"
   ]
  },
  {
   "cell_type": "code",
   "execution_count": 14,
   "metadata": {},
   "outputs": [
    {
     "data": {
      "text/plain": [
       "glmnet \n",
       "\n",
       "80 samples\n",
       "15 predictors\n",
       "\n",
       "Pre-processing: centered (15), scaled (15) \n",
       "Resampling: Cross-Validated (5 fold, repeated 1 times) \n",
       "Summary of sample sizes: 64, 64, 64, 64, 64 \n",
       "Resampling results across tuning parameters:\n",
       "\n",
       "  alpha  lambda  RMSE      Rsquared \n",
       "  0.0    0.001   2315.522  0.8687130\n",
       "  0.0    0.010   2315.522  0.8687130\n",
       "  0.0    0.100   2315.522  0.8687130\n",
       "  0.2    0.001   2190.057  0.8794809\n",
       "  0.2    0.010   2190.057  0.8794809\n",
       "  0.2    0.100   2190.057  0.8794809\n",
       "  0.4    0.001   2190.105  0.8795087\n",
       "  0.4    0.010   2190.105  0.8795087\n",
       "  0.4    0.100   2190.105  0.8795087\n",
       "  0.6    0.001   2189.619  0.8795530\n",
       "  0.6    0.010   2189.619  0.8795530\n",
       "  0.6    0.100   2189.619  0.8795530\n",
       "  0.8    0.001   2189.180  0.8795551\n",
       "  0.8    0.010   2189.180  0.8795551\n",
       "  0.8    0.100   2189.180  0.8795551\n",
       "  1.0    0.001   2189.322  0.8795290\n",
       "  1.0    0.010   2189.322  0.8795290\n",
       "  1.0    0.100   2189.322  0.8795290\n",
       "\n",
       "RMSE was used to select the optimal model using  the smallest value.\n",
       "The final values used for the model were alpha = 0.8 and lambda = 0.1. "
      ]
     },
     "metadata": {},
     "output_type": "display_data"
    }
   ],
   "source": [
    "elst.Model"
   ]
  },
  {
   "cell_type": "code",
   "execution_count": 15,
   "metadata": {
    "collapsed": true
   },
   "outputs": [],
   "source": [
    "price.elst = predict(elst.Model, test.data)"
   ]
  },
  {
   "cell_type": "code",
   "execution_count": 16,
   "metadata": {},
   "outputs": [
    {
     "data": {
      "image/png": "[encoded data removed]",
      "text/plain": [
       "plot without title"
      ]
     },
     "metadata": {},
     "output_type": "display_data"
    }
   ],
   "source": [
    "plot(test.data$price, price.elst)"
   ]
  },
  {
   "cell_type": "markdown",
   "metadata": {},
   "source": [
    "## 오차"
   ]
  },
  {
   "cell_type": "code",
   "execution_count": 18,
   "metadata": {},
   "outputs": [
    {
     "data": {
      "text/html": [
       "10455856.871648"
      ],
      "text/latex": [
       "10455856.871648"
      ],
      "text/markdown": [
       "10455856.871648"
      ],
      "text/plain": [
       "[1] 10455857"
      ]
     },
     "metadata": {},
     "output_type": "display_data"
    }
   ],
   "source": [
    "mse = mean((test.data$price - price.elst)^2)\n",
    "mse"
   ]
  },
  {
   "cell_type": "code",
   "execution_count": 19,
   "metadata": {},
   "outputs": [
    {
     "data": {
      "text/html": [
       "32044346.7968192"
      ],
      "text/latex": [
       "32044346.7968192"
      ],
      "text/markdown": [
       "32044346.7968192"
      ],
      "text/plain": [
       "[1] 32044347"
      ]
     },
     "metadata": {},
     "output_type": "display_data"
    }
   ],
   "source": [
    "var.price = var(test.data$price)\n",
    "var.price"
   ]
  },
  {
   "cell_type": "code",
   "execution_count": 20,
   "metadata": {},
   "outputs": [
    {
     "data": {
      "text/html": [
       "0.67370666227199"
      ],
      "text/latex": [
       "0.67370666227199"
      ],
      "text/markdown": [
       "0.67370666227199"
      ],
      "text/plain": [
       "[1] 0.6737067"
      ]
     },
     "metadata": {},
     "output_type": "display_data"
    }
   ],
   "source": [
    "(var.price - mse) / var.price"
   ]
  }
 ],
 "metadata": {
  "kernelspec": {
   "display_name": "R 3.3",
   "language": "R",
   "name": "ir33"
  },
  "language_info": {
   "codemirror_mode": "r",
   "file_extension": ".r",
   "mimetype": "text/x-r-source",
   "name": "R",
   "pygments_lexer": "r",
   "version": "3.3.1"
  }
 },
 "nbformat": 4,
 "nbformat_minor": 2
}
