{
 "cells": [
  {
   "cell_type": "markdown",
   "metadata": {},
   "source": [
    "# KNN"
   ]
  },
  {
   "cell_type": "markdown",
   "metadata": {},
   "source": [
    "## K Nearest Neighbor이란?\n",
    "- X의 값으로 Y를 예측할 때\n",
    "- 기존 데이터에서 X가 가장 비슷한 데이터(NN) k개를 찾는다\n",
    "- 비슷한 데이터의 Y값을 평균  예측값\n",
    "- local method의 일종"
   ]
  },
  {
   "cell_type": "markdown",
   "metadata": {},
   "source": [
    "## KNN의 장점 \n",
    " - 간단하고 직관적\n",
    " - 특별한 수학적/통계적 가정이 필요 없음\n",
    " - 모형 적합 과정이 필요 X\n",
    " - 전체 데이터가 많고(N -> ∞), 이웃이 많고(k -> ∞), 이웃이 전체의 일부라면(k/N -> 0) 정확도 높음"
   ]
  },
  {
   "cell_type": "markdown",
   "metadata": {},
   "source": [
    "## KNN의 단점 \n",
    "- 과적합(overfitting)의 위험성이 큼\n",
    "- 주변부로 가면 왜곡되는 경향\n",
    "- 거리를 계산하는 비용이 큼\n",
    "- 이산 변수의 거리"
   ]
  },
  {
   "cell_type": "markdown",
   "metadata": {},
   "source": [
    "## Bias-Variance문제 \n",
    " - 오차(Error) = 편향(Bias)2 + 분산(Var)\n",
    "\n",
    "![bias](1.PNG)"
   ]
  },
  {
   "cell_type": "markdown",
   "metadata": {},
   "source": [
    "## 차원의 저주 \n",
    " - 길이 10인 선에서 가운데 9가 차지하는 비율  90%\n",
    " - 10x10인 사각형에서 가운데 9x9인 사각형의 비율  81%\n",
    " - 10x10x10인 정육면체에서 가운데 9x9x9…의 비율  약 73%\n",
    " - 차원이 커질 수록 껍질이 두꺼워진다\n",
    " \n",
    "## NN과 차원의 저주\n",
    " - 중심부에 데이터가 적어짐\n",
    "  - 중심부에서는 이웃끼리 멀어짐 -> 분산 증가 -> 오차 증가\n",
    "\n",
    " - 주변부에는 데이터가 많아짐\n",
    "  - NN은 주변부에서 왜곡 -> 편향 증가 -> 오차 증가"
   ]
  },
  {
   "cell_type": "code",
   "execution_count": 2,
   "metadata": {},
   "outputs": [
    {
     "name": "stderr",
     "output_type": "stream",
     "text": [
      "Loading required package: lattice\n",
      "Loading required package: ggplot2\n"
     ]
    }
   ],
   "source": [
    "library(caret)"
   ]
  },
  {
   "cell_type": "code",
   "execution_count": 3,
   "metadata": {
    "collapsed": true
   },
   "outputs": [],
   "source": [
    "auto <- read.csv('../0909/automobile.csv')"
   ]
  },
  {
   "cell_type": "code",
   "execution_count": 4,
   "metadata": {},
   "outputs": [
    {
     "data": {
      "text/html": [
       "<table>\n",
       "<thead><tr><th scope=col>symboling</th><th scope=col>normalized_losses</th><th scope=col>maker</th><th scope=col>fuel</th><th scope=col>aspiration</th><th scope=col>doors</th><th scope=col>body</th><th scope=col>wheels</th><th scope=col>engine_location</th><th scope=col>wheel_base</th><th scope=col>⋯</th><th scope=col>engine_size</th><th scope=col>fuel_system</th><th scope=col>bore</th><th scope=col>stroke</th><th scope=col>compression_ratio</th><th scope=col>horsepower</th><th scope=col>peak_rpm</th><th scope=col>city_mpg</th><th scope=col>highway_mpg</th><th scope=col>price</th></tr></thead>\n",
       "<tbody>\n",
       "\t<tr><td>2    </td><td>164  </td><td>audi </td><td>gas  </td><td>std  </td><td>four </td><td>sedan</td><td>fwd  </td><td>front</td><td> 99.8</td><td>⋯    </td><td>109  </td><td>mpfi </td><td>3.19 </td><td>3.4  </td><td>10.0 </td><td>102  </td><td>5500 </td><td>24   </td><td>30   </td><td>13950</td></tr>\n",
       "\t<tr><td>2    </td><td>164  </td><td>audi </td><td>gas  </td><td>std  </td><td>four </td><td>sedan</td><td>4wd  </td><td>front</td><td> 99.4</td><td>⋯    </td><td>136  </td><td>mpfi </td><td>3.19 </td><td>3.4  </td><td> 8.0 </td><td>115  </td><td>5500 </td><td>18   </td><td>22   </td><td>17450</td></tr>\n",
       "\t<tr><td>1    </td><td>158  </td><td>audi </td><td>gas  </td><td>std  </td><td>four </td><td>sedan</td><td>fwd  </td><td>front</td><td>105.8</td><td>⋯    </td><td>136  </td><td>mpfi </td><td>3.19 </td><td>3.4  </td><td> 8.5 </td><td>110  </td><td>5500 </td><td>19   </td><td>25   </td><td>17710</td></tr>\n",
       "\t<tr><td>1    </td><td>158  </td><td>audi </td><td>gas  </td><td>turbo</td><td>four </td><td>sedan</td><td>fwd  </td><td>front</td><td>105.8</td><td>⋯    </td><td>131  </td><td>mpfi </td><td>3.13 </td><td>3.4  </td><td> 8.3 </td><td>140  </td><td>5500 </td><td>17   </td><td>20   </td><td>23875</td></tr>\n",
       "\t<tr><td>2    </td><td>192  </td><td>bmw  </td><td>gas  </td><td>std  </td><td>two  </td><td>sedan</td><td>rwd  </td><td>front</td><td>101.2</td><td>⋯    </td><td>108  </td><td>mpfi </td><td>3.50 </td><td>2.8  </td><td> 8.8 </td><td>101  </td><td>5800 </td><td>23   </td><td>29   </td><td>16430</td></tr>\n",
       "\t<tr><td>0    </td><td>192  </td><td>bmw  </td><td>gas  </td><td>std  </td><td>four </td><td>sedan</td><td>rwd  </td><td>front</td><td>101.2</td><td>⋯    </td><td>108  </td><td>mpfi </td><td>3.50 </td><td>2.8  </td><td> 8.8 </td><td>101  </td><td>5800 </td><td>23   </td><td>29   </td><td>16925</td></tr>\n",
       "</tbody>\n",
       "</table>\n"
      ],
      "text/latex": [
       "\\begin{tabular}{r|llllllllllllllllllllllllll}\n",
       " symboling & normalized\\_losses & maker & fuel & aspiration & doors & body & wheels & engine\\_location & wheel\\_base & ⋯ & engine\\_size & fuel\\_system & bore & stroke & compression\\_ratio & horsepower & peak\\_rpm & city\\_mpg & highway\\_mpg & price\\\\\n",
       "\\hline\n",
       "\t 2     & 164   & audi  & gas   & std   & four  & sedan & fwd   & front &  99.8 & ⋯     & 109   & mpfi  & 3.19  & 3.4   & 10.0  & 102   & 5500  & 24    & 30    & 13950\\\\\n",
       "\t 2     & 164   & audi  & gas   & std   & four  & sedan & 4wd   & front &  99.4 & ⋯     & 136   & mpfi  & 3.19  & 3.4   &  8.0  & 115   & 5500  & 18    & 22    & 17450\\\\\n",
       "\t 1     & 158   & audi  & gas   & std   & four  & sedan & fwd   & front & 105.8 & ⋯     & 136   & mpfi  & 3.19  & 3.4   &  8.5  & 110   & 5500  & 19    & 25    & 17710\\\\\n",
       "\t 1     & 158   & audi  & gas   & turbo & four  & sedan & fwd   & front & 105.8 & ⋯     & 131   & mpfi  & 3.13  & 3.4   &  8.3  & 140   & 5500  & 17    & 20    & 23875\\\\\n",
       "\t 2     & 192   & bmw   & gas   & std   & two   & sedan & rwd   & front & 101.2 & ⋯     & 108   & mpfi  & 3.50  & 2.8   &  8.8  & 101   & 5800  & 23    & 29    & 16430\\\\\n",
       "\t 0     & 192   & bmw   & gas   & std   & four  & sedan & rwd   & front & 101.2 & ⋯     & 108   & mpfi  & 3.50  & 2.8   &  8.8  & 101   & 5800  & 23    & 29    & 16925\\\\\n",
       "\\end{tabular}\n"
      ],
      "text/markdown": [
       "\n",
       "symboling | normalized_losses | maker | fuel | aspiration | doors | body | wheels | engine_location | wheel_base | ⋯ | engine_size | fuel_system | bore | stroke | compression_ratio | horsepower | peak_rpm | city_mpg | highway_mpg | price | \n",
       "|---|---|---|---|---|---|\n",
       "| 2     | 164   | audi  | gas   | std   | four  | sedan | fwd   | front |  99.8 | ⋯     | 109   | mpfi  | 3.19  | 3.4   | 10.0  | 102   | 5500  | 24    | 30    | 13950 | \n",
       "| 2     | 164   | audi  | gas   | std   | four  | sedan | 4wd   | front |  99.4 | ⋯     | 136   | mpfi  | 3.19  | 3.4   |  8.0  | 115   | 5500  | 18    | 22    | 17450 | \n",
       "| 1     | 158   | audi  | gas   | std   | four  | sedan | fwd   | front | 105.8 | ⋯     | 136   | mpfi  | 3.19  | 3.4   |  8.5  | 110   | 5500  | 19    | 25    | 17710 | \n",
       "| 1     | 158   | audi  | gas   | turbo | four  | sedan | fwd   | front | 105.8 | ⋯     | 131   | mpfi  | 3.13  | 3.4   |  8.3  | 140   | 5500  | 17    | 20    | 23875 | \n",
       "| 2     | 192   | bmw   | gas   | std   | two   | sedan | rwd   | front | 101.2 | ⋯     | 108   | mpfi  | 3.50  | 2.8   |  8.8  | 101   | 5800  | 23    | 29    | 16430 | \n",
       "| 0     | 192   | bmw   | gas   | std   | four  | sedan | rwd   | front | 101.2 | ⋯     | 108   | mpfi  | 3.50  | 2.8   |  8.8  | 101   | 5800  | 23    | 29    | 16925 | \n",
       "\n",
       "\n"
      ],
      "text/plain": [
       "  symboling normalized_losses maker fuel aspiration doors body  wheels\n",
       "1 2         164               audi  gas  std        four  sedan fwd   \n",
       "2 2         164               audi  gas  std        four  sedan 4wd   \n",
       "3 1         158               audi  gas  std        four  sedan fwd   \n",
       "4 1         158               audi  gas  turbo      four  sedan fwd   \n",
       "5 2         192               bmw   gas  std        two   sedan rwd   \n",
       "6 0         192               bmw   gas  std        four  sedan rwd   \n",
       "  engine_location wheel_base ⋯ engine_size fuel_system bore stroke\n",
       "1 front            99.8      ⋯ 109         mpfi        3.19 3.4   \n",
       "2 front            99.4      ⋯ 136         mpfi        3.19 3.4   \n",
       "3 front           105.8      ⋯ 136         mpfi        3.19 3.4   \n",
       "4 front           105.8      ⋯ 131         mpfi        3.13 3.4   \n",
       "5 front           101.2      ⋯ 108         mpfi        3.50 2.8   \n",
       "6 front           101.2      ⋯ 108         mpfi        3.50 2.8   \n",
       "  compression_ratio horsepower peak_rpm city_mpg highway_mpg price\n",
       "1 10.0              102        5500     24       30          13950\n",
       "2  8.0              115        5500     18       22          17450\n",
       "3  8.5              110        5500     19       25          17710\n",
       "4  8.3              140        5500     17       20          23875\n",
       "5  8.8              101        5800     23       29          16430\n",
       "6  8.8              101        5800     23       29          16925"
      ]
     },
     "metadata": {},
     "output_type": "display_data"
    }
   ],
   "source": [
    "head(auto)"
   ]
  },
  {
   "cell_type": "markdown",
   "metadata": {},
   "source": [
    "## 데이터 분할"
   ]
  },
  {
   "cell_type": "code",
   "execution_count": 5,
   "metadata": {
    "collapsed": true
   },
   "outputs": [],
   "source": [
    "set.seed(1234)"
   ]
  },
  {
   "cell_type": "code",
   "execution_count": 6,
   "metadata": {
    "collapsed": true
   },
   "outputs": [],
   "source": [
    "idx <- createDataPartition(auto$price, p = .5,list=F,times=1)"
   ]
  },
  {
   "cell_type": "code",
   "execution_count": 7,
   "metadata": {
    "collapsed": true
   },
   "outputs": [],
   "source": [
    "train.data <- auto[idx,]\n",
    "test.data <- auto[-idx,]"
   ]
  },
  {
   "cell_type": "markdown",
   "metadata": {},
   "source": [
    "## 훈련 방법 설정"
   ]
  },
  {
   "cell_type": "code",
   "execution_count": 8,
   "metadata": {
    "collapsed": true
   },
   "outputs": [],
   "source": [
    "tr <- trainControl(\n",
    "  method = 'repeatedcv',\n",
    "  repeats = 1,\n",
    "  number = 5)"
   ]
  },
  {
   "cell_type": "markdown",
   "metadata": {},
   "source": [
    "## 연속 변수 고르기"
   ]
  },
  {
   "cell_type": "code",
   "execution_count": 10,
   "metadata": {},
   "outputs": [
    {
     "data": {
      "text/html": [
       "<ol class=list-inline>\n",
       "\t<li>'symboling'</li>\n",
       "\t<li>'normalized_losses'</li>\n",
       "\t<li>'wheel_base'</li>\n",
       "\t<li>'length'</li>\n",
       "\t<li>'width'</li>\n",
       "\t<li>'height'</li>\n",
       "\t<li>'curb_weight'</li>\n",
       "\t<li>'engine_size'</li>\n",
       "\t<li>'bore'</li>\n",
       "\t<li>'stroke'</li>\n",
       "\t<li>'compression_ratio'</li>\n",
       "\t<li>'horsepower'</li>\n",
       "\t<li>'peak_rpm'</li>\n",
       "\t<li>'city_mpg'</li>\n",
       "\t<li>'highway_mpg'</li>\n",
       "\t<li>'price'</li>\n",
       "</ol>\n"
      ],
      "text/latex": [
       "\\begin{enumerate*}\n",
       "\\item 'symboling'\n",
       "\\item 'normalized\\_losses'\n",
       "\\item 'wheel\\_base'\n",
       "\\item 'length'\n",
       "\\item 'width'\n",
       "\\item 'height'\n",
       "\\item 'curb\\_weight'\n",
       "\\item 'engine\\_size'\n",
       "\\item 'bore'\n",
       "\\item 'stroke'\n",
       "\\item 'compression\\_ratio'\n",
       "\\item 'horsepower'\n",
       "\\item 'peak\\_rpm'\n",
       "\\item 'city\\_mpg'\n",
       "\\item 'highway\\_mpg'\n",
       "\\item 'price'\n",
       "\\end{enumerate*}\n"
      ],
      "text/markdown": [
       "1. 'symboling'\n",
       "2. 'normalized_losses'\n",
       "3. 'wheel_base'\n",
       "4. 'length'\n",
       "5. 'width'\n",
       "6. 'height'\n",
       "7. 'curb_weight'\n",
       "8. 'engine_size'\n",
       "9. 'bore'\n",
       "10. 'stroke'\n",
       "11. 'compression_ratio'\n",
       "12. 'horsepower'\n",
       "13. 'peak_rpm'\n",
       "14. 'city_mpg'\n",
       "15. 'highway_mpg'\n",
       "16. 'price'\n",
       "\n",
       "\n"
      ],
      "text/plain": [
       " [1] \"symboling\"         \"normalized_losses\" \"wheel_base\"       \n",
       " [4] \"length\"            \"width\"             \"height\"           \n",
       " [7] \"curb_weight\"       \"engine_size\"       \"bore\"             \n",
       "[10] \"stroke\"            \"compression_ratio\" \"horsepower\"       \n",
       "[13] \"peak_rpm\"          \"city_mpg\"          \"highway_mpg\"      \n",
       "[16] \"price\"            "
      ]
     },
     "metadata": {},
     "output_type": "display_data"
    }
   ],
   "source": [
    "cont = sapply(auto, is.numeric)\n",
    "names(auto)[cont]"
   ]
  },
  {
   "cell_type": "markdown",
   "metadata": {},
   "source": [
    "## K Nearest Neighbor"
   ]
  },
  {
   "cell_type": "code",
   "execution_count": 11,
   "metadata": {
    "collapsed": true
   },
   "outputs": [],
   "source": [
    "knn.Model <- train(\n",
    "  price ~ ., \n",
    "  data = train.data[cont],\n",
    "  method = 'knn',\n",
    "  preProc = c('center', 'scale'),\n",
    "  metric = 'RMSE',\n",
    "  tuneGrid = data.frame(.k = 2:5),\n",
    "  trControl = tr)"
   ]
  },
  {
   "cell_type": "code",
   "execution_count": 12,
   "metadata": {},
   "outputs": [
    {
     "data": {
      "text/plain": [
       "k-Nearest Neighbors \n",
       "\n",
       "80 samples\n",
       "15 predictors\n",
       "\n",
       "Pre-processing: centered (15), scaled (15) \n",
       "Resampling: Cross-Validated (5 fold, repeated 1 times) \n",
       "Summary of sample sizes: 64, 64, 64, 64, 64 \n",
       "Resampling results across tuning parameters:\n",
       "\n",
       "  k  RMSE      Rsquared   MAE     \n",
       "  2  2791.057  0.7829684  1941.537\n",
       "  3  2811.376  0.7829063  1859.739\n",
       "  4  2771.287  0.8006783  1844.018\n",
       "  5  2867.657  0.8029490  1916.028\n",
       "\n",
       "RMSE was used to select the optimal model using  the smallest value.\n",
       "The final value used for the model was k = 4."
      ]
     },
     "metadata": {},
     "output_type": "display_data"
    }
   ],
   "source": [
    "knn.Model"
   ]
  },
  {
   "cell_type": "code",
   "execution_count": 13,
   "metadata": {
    "collapsed": true
   },
   "outputs": [],
   "source": [
    "price.knn = predict(knn.Model, test.data)"
   ]
  },
  {
   "cell_type": "code",
   "execution_count": 14,
   "metadata": {},
   "outputs": [
    {
     "data": {
      "image/png": "[encoded data removed]",
      "text/plain": [
       "plot without title"
      ]
     },
     "metadata": {},
     "output_type": "display_data"
    }
   ],
   "source": [
    "plot(test.data$price, price.knn)"
   ]
  },
  {
   "cell_type": "markdown",
   "metadata": {},
   "source": [
    "## 오차"
   ]
  },
  {
   "cell_type": "code",
   "execution_count": 15,
   "metadata": {
    "collapsed": true
   },
   "outputs": [],
   "source": [
    "mse = mean((test.data$price - price.knn)^2)"
   ]
  },
  {
   "cell_type": "code",
   "execution_count": 16,
   "metadata": {},
   "outputs": [
    {
     "data": {
      "text/html": [
       "10872679.8458544"
      ],
      "text/latex": [
       "10872679.8458544"
      ],
      "text/markdown": [
       "10872679.8458544"
      ],
      "text/plain": [
       "[1] 10872680"
      ]
     },
     "metadata": {},
     "output_type": "display_data"
    }
   ],
   "source": [
    "mse"
   ]
  },
  {
   "cell_type": "code",
   "execution_count": 17,
   "metadata": {},
   "outputs": [
    {
     "data": {
      "text/html": [
       "32044346.7968192"
      ],
      "text/latex": [
       "32044346.7968192"
      ],
      "text/markdown": [
       "32044346.7968192"
      ],
      "text/plain": [
       "[1] 32044347"
      ]
     },
     "metadata": {},
     "output_type": "display_data"
    }
   ],
   "source": [
    "var.price = var(test.data$price)\n",
    "var.price"
   ]
  },
  {
   "cell_type": "code",
   "execution_count": 18,
   "metadata": {},
   "outputs": [
    {
     "data": {
      "text/html": [
       "0.660698970873275"
      ],
      "text/latex": [
       "0.660698970873275"
      ],
      "text/markdown": [
       "0.660698970873275"
      ],
      "text/plain": [
       "[1] 0.660699"
      ]
     },
     "metadata": {},
     "output_type": "display_data"
    }
   ],
   "source": [
    "(var.price - mse) / var.price"
   ]
  }
 ],
 "metadata": {
  "kernelspec": {
   "display_name": "R",
   "language": "R",
   "name": "r"
  },
  "language_info": {
   "codemirror_mode": "r",
   "file_extension": ".r",
   "mimetype": "text/x-r-source",
   "name": "R",
   "pygments_lexer": "r",
   "version": "3.4.1"
  }
 },
 "nbformat": 4,
 "nbformat_minor": 2
}
