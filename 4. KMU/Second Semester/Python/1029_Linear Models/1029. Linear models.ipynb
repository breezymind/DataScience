{
 "cells": [
  {
   "cell_type": "markdown",
   "metadata": {},
   "source": [
    "# Linear models (선형모형)"
   ]
  },
  {
   "cell_type": "code",
   "execution_count": 1,
   "metadata": {
    "collapsed": true
   },
   "outputs": [],
   "source": [
    "import pandas as pd"
   ]
  },
  {
   "cell_type": "code",
   "execution_count": 2,
   "metadata": {
    "collapsed": false
   },
   "outputs": [
    {
     "data": {
      "text/html": [
       "<div>\n",
       "<table border=\"1\" class=\"dataframe\">\n",
       "  <thead>\n",
       "    <tr style=\"text-align: right;\">\n",
       "      <th></th>\n",
       "      <th>symboling</th>\n",
       "      <th>normalized_losses</th>\n",
       "      <th>maker</th>\n",
       "      <th>fuel</th>\n",
       "      <th>aspiration</th>\n",
       "      <th>doors</th>\n",
       "      <th>body</th>\n",
       "      <th>wheels</th>\n",
       "      <th>engine_location</th>\n",
       "      <th>wheel_base</th>\n",
       "      <th>...</th>\n",
       "      <th>engine_size</th>\n",
       "      <th>fuel_system</th>\n",
       "      <th>bore</th>\n",
       "      <th>stroke</th>\n",
       "      <th>compression_ratio</th>\n",
       "      <th>horsepower</th>\n",
       "      <th>peak_rpm</th>\n",
       "      <th>city_mpg</th>\n",
       "      <th>highway_mpg</th>\n",
       "      <th>price</th>\n",
       "    </tr>\n",
       "  </thead>\n",
       "  <tbody>\n",
       "    <tr>\n",
       "      <th>0</th>\n",
       "      <td>2</td>\n",
       "      <td>164</td>\n",
       "      <td>audi</td>\n",
       "      <td>gas</td>\n",
       "      <td>std</td>\n",
       "      <td>four</td>\n",
       "      <td>sedan</td>\n",
       "      <td>fwd</td>\n",
       "      <td>front</td>\n",
       "      <td>99.8</td>\n",
       "      <td>...</td>\n",
       "      <td>109</td>\n",
       "      <td>mpfi</td>\n",
       "      <td>3.19</td>\n",
       "      <td>3.4</td>\n",
       "      <td>10.0</td>\n",
       "      <td>102</td>\n",
       "      <td>5500</td>\n",
       "      <td>24</td>\n",
       "      <td>30</td>\n",
       "      <td>13950</td>\n",
       "    </tr>\n",
       "    <tr>\n",
       "      <th>1</th>\n",
       "      <td>2</td>\n",
       "      <td>164</td>\n",
       "      <td>audi</td>\n",
       "      <td>gas</td>\n",
       "      <td>std</td>\n",
       "      <td>four</td>\n",
       "      <td>sedan</td>\n",
       "      <td>4wd</td>\n",
       "      <td>front</td>\n",
       "      <td>99.4</td>\n",
       "      <td>...</td>\n",
       "      <td>136</td>\n",
       "      <td>mpfi</td>\n",
       "      <td>3.19</td>\n",
       "      <td>3.4</td>\n",
       "      <td>8.0</td>\n",
       "      <td>115</td>\n",
       "      <td>5500</td>\n",
       "      <td>18</td>\n",
       "      <td>22</td>\n",
       "      <td>17450</td>\n",
       "    </tr>\n",
       "    <tr>\n",
       "      <th>2</th>\n",
       "      <td>1</td>\n",
       "      <td>158</td>\n",
       "      <td>audi</td>\n",
       "      <td>gas</td>\n",
       "      <td>std</td>\n",
       "      <td>four</td>\n",
       "      <td>sedan</td>\n",
       "      <td>fwd</td>\n",
       "      <td>front</td>\n",
       "      <td>105.8</td>\n",
       "      <td>...</td>\n",
       "      <td>136</td>\n",
       "      <td>mpfi</td>\n",
       "      <td>3.19</td>\n",
       "      <td>3.4</td>\n",
       "      <td>8.5</td>\n",
       "      <td>110</td>\n",
       "      <td>5500</td>\n",
       "      <td>19</td>\n",
       "      <td>25</td>\n",
       "      <td>17710</td>\n",
       "    </tr>\n",
       "    <tr>\n",
       "      <th>3</th>\n",
       "      <td>1</td>\n",
       "      <td>158</td>\n",
       "      <td>audi</td>\n",
       "      <td>gas</td>\n",
       "      <td>turbo</td>\n",
       "      <td>four</td>\n",
       "      <td>sedan</td>\n",
       "      <td>fwd</td>\n",
       "      <td>front</td>\n",
       "      <td>105.8</td>\n",
       "      <td>...</td>\n",
       "      <td>131</td>\n",
       "      <td>mpfi</td>\n",
       "      <td>3.13</td>\n",
       "      <td>3.4</td>\n",
       "      <td>8.3</td>\n",
       "      <td>140</td>\n",
       "      <td>5500</td>\n",
       "      <td>17</td>\n",
       "      <td>20</td>\n",
       "      <td>23875</td>\n",
       "    </tr>\n",
       "    <tr>\n",
       "      <th>4</th>\n",
       "      <td>2</td>\n",
       "      <td>192</td>\n",
       "      <td>bmw</td>\n",
       "      <td>gas</td>\n",
       "      <td>std</td>\n",
       "      <td>two</td>\n",
       "      <td>sedan</td>\n",
       "      <td>rwd</td>\n",
       "      <td>front</td>\n",
       "      <td>101.2</td>\n",
       "      <td>...</td>\n",
       "      <td>108</td>\n",
       "      <td>mpfi</td>\n",
       "      <td>3.50</td>\n",
       "      <td>2.8</td>\n",
       "      <td>8.8</td>\n",
       "      <td>101</td>\n",
       "      <td>5800</td>\n",
       "      <td>23</td>\n",
       "      <td>29</td>\n",
       "      <td>16430</td>\n",
       "    </tr>\n",
       "  </tbody>\n",
       "</table>\n",
       "<p>5 rows × 26 columns</p>\n",
       "</div>"
      ],
      "text/plain": [
       "   symboling  normalized_losses maker fuel aspiration doors   body wheels  \\\n",
       "0          2                164  audi  gas        std  four  sedan    fwd   \n",
       "1          2                164  audi  gas        std  four  sedan    4wd   \n",
       "2          1                158  audi  gas        std  four  sedan    fwd   \n",
       "3          1                158  audi  gas      turbo  four  sedan    fwd   \n",
       "4          2                192   bmw  gas        std   two  sedan    rwd   \n",
       "\n",
       "  engine_location  wheel_base  ...    engine_size  fuel_system  bore  stroke  \\\n",
       "0           front        99.8  ...            109         mpfi  3.19     3.4   \n",
       "1           front        99.4  ...            136         mpfi  3.19     3.4   \n",
       "2           front       105.8  ...            136         mpfi  3.19     3.4   \n",
       "3           front       105.8  ...            131         mpfi  3.13     3.4   \n",
       "4           front       101.2  ...            108         mpfi  3.50     2.8   \n",
       "\n",
       "  compression_ratio horsepower  peak_rpm city_mpg  highway_mpg  price  \n",
       "0              10.0        102      5500       24           30  13950  \n",
       "1               8.0        115      5500       18           22  17450  \n",
       "2               8.5        110      5500       19           25  17710  \n",
       "3               8.3        140      5500       17           20  23875  \n",
       "4               8.8        101      5800       23           29  16430  \n",
       "\n",
       "[5 rows x 26 columns]"
      ]
     },
     "execution_count": 2,
     "metadata": {},
     "output_type": "execute_result"
    }
   ],
   "source": [
    "automobile = pd.read_csv('../1015_Numpy&Pandas/automobile.csv')\n",
    "automobile.head()\n",
    "# symnoling : 위험등급. 3이 최하."
   ]
  },
  {
   "cell_type": "markdown",
   "metadata": {},
   "source": [
    "## Seaborn \n",
    " - Python에서 많이 쓰이는 시각화 라이브러리 중 하나.\n",
    " - <a href=\"http://seaborn.pydata.org/\">홈페이지</a>"
   ]
  },
  {
   "cell_type": "code",
   "execution_count": 3,
   "metadata": {
    "collapsed": true
   },
   "outputs": [],
   "source": [
    "import seaborn\n",
    "%matplotlib inline"
   ]
  },
  {
   "cell_type": "code",
   "execution_count": 4,
   "metadata": {
    "collapsed": false
   },
   "outputs": [
    {
     "data": {
      "text/plain": [
       "<matplotlib.axes._subplots.AxesSubplot at 0xa37b9f0>"
      ]
     },
     "execution_count": 4,
     "metadata": {},
     "output_type": "execute_result"
    },
    {
     "data": {
      "image/png": "[encoded data removed]",
      "text/plain": [
       "<matplotlib.figure.Figure at 0xa37b510>"
      ]
     },
     "metadata": {},
     "output_type": "display_data"
    }
   ],
   "source": [
    "seaborn.regplot(automobile.length, automobile.symboling) #차가 커질수록 전반적인 위험등급이 내려간다. 95% 신뢰구간이다."
   ]
  },
  {
   "cell_type": "code",
   "execution_count": 5,
   "metadata": {
    "collapsed": false
   },
   "outputs": [
    {
     "data": {
      "text/plain": [
       "<matplotlib.axes._subplots.AxesSubplot at 0xb644650>"
      ]
     },
     "execution_count": 5,
     "metadata": {},
     "output_type": "execute_result"
    },
    {
     "data": {
      "image/png": "[encoded data removed]",
      "text/plain": [
       "<matplotlib.figure.Figure at 0xa37b390>"
      ]
     },
     "metadata": {},
     "output_type": "display_data"
    }
   ],
   "source": [
    "seaborn.regplot('length', 'symboling', data=automobile)"
   ]
  },
  {
   "cell_type": "markdown",
   "metadata": {},
   "source": [
    "### 회귀선 지우기"
   ]
  },
  {
   "cell_type": "code",
   "execution_count": 6,
   "metadata": {
    "collapsed": false
   },
   "outputs": [
    {
     "data": {
      "text/plain": [
       "<matplotlib.axes._subplots.AxesSubplot at 0xb887ed0>"
      ]
     },
     "execution_count": 6,
     "metadata": {},
     "output_type": "execute_result"
    },
    {
     "data": {
      "image/png": "[encoded data removed]",
      "text/plain": [
       "<matplotlib.figure.Figure at 0xb65a410>"
      ]
     },
     "metadata": {},
     "output_type": "display_data"
    }
   ],
   "source": [
    "seaborn.regplot('length', 'symboling', data=automobile, fit_reg=False)"
   ]
  },
  {
   "cell_type": "markdown",
   "metadata": {},
   "source": [
    "### jitter\n",
    " - 5점 척도 문항에서 그래프를 보면은 겹쳐져있는 점들이 많아서 보기가 힘들다.\n",
    " - 점을 수전증 있는 것처럼 찍어서 겹쳐져있는 것을 확인 할 수 있도록 해준다. "
   ]
  },
  {
   "cell_type": "code",
   "execution_count": 7,
   "metadata": {
    "collapsed": false
   },
   "outputs": [
    {
     "data": {
      "text/plain": [
       "<matplotlib.axes._subplots.AxesSubplot at 0xb94d2d0>"
      ]
     },
     "execution_count": 7,
     "metadata": {},
     "output_type": "execute_result"
    },
    {
     "data": {
      "image/png": "[encoded data removed]",
      "text/plain": [
       "<matplotlib.figure.Figure at 0xb8cb430>"
      ]
     },
     "metadata": {},
     "output_type": "display_data"
    }
   ],
   "source": [
    "seaborn.regplot('length', 'symboling', data=automobile, fit_reg=False, y_jitter=0.1)"
   ]
  },
  {
   "cell_type": "code",
   "execution_count": 8,
   "metadata": {
    "collapsed": false
   },
   "outputs": [
    {
     "data": {
      "text/plain": [
       "<matplotlib.axes._subplots.AxesSubplot at 0xba08f30>"
      ]
     },
     "execution_count": 8,
     "metadata": {},
     "output_type": "execute_result"
    },
    {
     "data": {
      "image/png": "[encoded data removed]",
      "text/plain": [
       "<matplotlib.figure.Figure at 0xba2e5f0>"
      ]
     },
     "metadata": {},
     "output_type": "display_data"
    }
   ],
   "source": [
    "seaborn.regplot('length', 'symboling', data=automobile, y_jitter=0.1)\n",
    "# y축방향으로 0.1 x축방향으로하면 x_jutter=0.1로 하면된다. (상수는 떠는 정도)"
   ]
  },
  {
   "cell_type": "markdown",
   "metadata": {},
   "source": [
    "### 신뢰구간 지우기"
   ]
  },
  {
   "cell_type": "code",
   "execution_count": 9,
   "metadata": {
    "collapsed": false
   },
   "outputs": [
    {
     "data": {
      "text/plain": [
       "<matplotlib.axes._subplots.AxesSubplot at 0xba68a10>"
      ]
     },
     "execution_count": 9,
     "metadata": {},
     "output_type": "execute_result"
    },
    {
     "data": {
      "image/png": "[encoded data removed]",
      "text/plain": [
       "<matplotlib.figure.Figure at 0xba6c410>"
      ]
     },
     "metadata": {},
     "output_type": "display_data"
    }
   ],
   "source": [
    "seaborn.regplot('length', 'symboling', data=automobile, y_jitter=0.1, ci=None)"
   ]
  },
  {
   "cell_type": "markdown",
   "metadata": {},
   "source": [
    "### 색"
   ]
  },
  {
   "cell_type": "code",
   "execution_count": 10,
   "metadata": {
    "collapsed": false
   },
   "outputs": [
    {
     "data": {
      "text/plain": [
       "<matplotlib.axes._subplots.AxesSubplot at 0xba036f0>"
      ]
     },
     "execution_count": 10,
     "metadata": {},
     "output_type": "execute_result"
    },
    {
     "data": {
      "image/png": "[encoded data removed]",
      "text/plain": [
       "<matplotlib.figure.Figure at 0xbab0330>"
      ]
     },
     "metadata": {},
     "output_type": "display_data"
    }
   ],
   "source": [
    "seaborn.regplot('length', 'symboling', data=automobile, y_jitter=0.1, ci=None, color='red')"
   ]
  },
  {
   "cell_type": "markdown",
   "metadata": {},
   "source": [
    "### 점 색"
   ]
  },
  {
   "cell_type": "code",
   "execution_count": 11,
   "metadata": {
    "collapsed": false
   },
   "outputs": [
    {
     "data": {
      "text/plain": [
       "<matplotlib.axes._subplots.AxesSubplot at 0xbad1a90>"
      ]
     },
     "execution_count": 11,
     "metadata": {},
     "output_type": "execute_result"
    },
    {
     "data": {
      "image/png": "[encoded data removed]",
      "text/plain": [
       "<matplotlib.figure.Figure at 0xbaf1590>"
      ]
     },
     "metadata": {},
     "output_type": "display_data"
    }
   ],
   "source": [
    "seaborn.regplot('length', 'symboling', data=automobile, y_jitter=0.1, ci=None, scatter_kws={'color': 'orange'})"
   ]
  },
  {
   "cell_type": "markdown",
   "metadata": {},
   "source": [
    "### 선 색"
   ]
  },
  {
   "cell_type": "code",
   "execution_count": 12,
   "metadata": {
    "collapsed": false
   },
   "outputs": [
    {
     "data": {
      "text/plain": [
       "<matplotlib.axes._subplots.AxesSubplot at 0xbb34250>"
      ]
     },
     "execution_count": 12,
     "metadata": {},
     "output_type": "execute_result"
    },
    {
     "data": {
      "image/png": "[encoded data removed]",
      "text/plain": [
       "<matplotlib.figure.Figure at 0xbb61c50>"
      ]
     },
     "metadata": {},
     "output_type": "display_data"
    }
   ],
   "source": [
    "seaborn.regplot('length', 'symboling', data=automobile, y_jitter=0.1, ci=None, line_kws={'color': 'red'})"
   ]
  },
  {
   "cell_type": "markdown",
   "metadata": {},
   "source": [
    "### 16진수로 색 지정"
   ]
  },
  {
   "cell_type": "code",
   "execution_count": 13,
   "metadata": {
    "collapsed": false
   },
   "outputs": [
    {
     "data": {
      "text/plain": [
       "<matplotlib.axes._subplots.AxesSubplot at 0xbb71d70>"
      ]
     },
     "execution_count": 13,
     "metadata": {},
     "output_type": "execute_result"
    },
    {
     "data": {
      "image/png": "[encoded data removed]",
      "text/plain": [
       "<matplotlib.figure.Figure at 0xbb74a90>"
      ]
     },
     "metadata": {},
     "output_type": "display_data"
    }
   ],
   "source": [
    "seaborn.regplot('length', 'symboling', data=automobile, y_jitter=0.1, ci=None,\n",
    "                line_kws={'color': '#FF9900'})"
   ]
  },
  {
   "cell_type": "markdown",
   "metadata": {},
   "source": [
    "### 점의 모양과 크기\n",
    " - 점의 모양은 <a href=\"http://matplotlib.org/api/markers_api.html#module-matplotlib.markers\">링크</a> 참고"
   ]
  },
  {
   "cell_type": "code",
   "execution_count": 14,
   "metadata": {
    "collapsed": false
   },
   "outputs": [
    {
     "data": {
      "text/plain": [
       "<matplotlib.axes._subplots.AxesSubplot at 0xbb61d70>"
      ]
     },
     "execution_count": 14,
     "metadata": {},
     "output_type": "execute_result"
    },
    {
     "data": {
      "image/png": "[encoded data removed]",
      "text/plain": [
       "<matplotlib.figure.Figure at 0xbbb1fd0>"
      ]
     },
     "metadata": {},
     "output_type": "display_data"
    }
   ],
   "source": [
    "seaborn.regplot('length', 'symboling', data=automobile, y_jitter=0.1, fit_reg=False,\n",
    "                marker='v', scatter_kws={'s': 50})"
   ]
  },
  {
   "cell_type": "markdown",
   "metadata": {},
   "source": [
    "### Plot 저장하기."
   ]
  },
  {
   "cell_type": "code",
   "execution_count": 15,
   "metadata": {
    "collapsed": false
   },
   "outputs": [
    {
     "data": {
      "image/png": "[encoded data removed]",
      "text/plain": [
       "<matplotlib.figure.Figure at 0xbe27670>"
      ]
     },
     "metadata": {},
     "output_type": "display_data"
    }
   ],
   "source": [
    "plot = seaborn.regplot('length', 'symboling', data=automobile, y_jitter=0.1)\n",
    "plot.get_figure().savefig('plot.png')"
   ]
  },
  {
   "cell_type": "code",
   "execution_count": 17,
   "metadata": {
    "collapsed": false
   },
   "outputs": [],
   "source": [
    "from pptx import Presentation\n",
    "from pptx.util import Cm # 단위 cm"
   ]
  },
  {
   "cell_type": "code",
   "execution_count": 18,
   "metadata": {
    "collapsed": true
   },
   "outputs": [],
   "source": [
    "prs = Presentation()"
   ]
  },
  {
   "cell_type": "code",
   "execution_count": 19,
   "metadata": {
    "collapsed": true
   },
   "outputs": [],
   "source": [
    "slide_layout = prs.slide_layouts[5] # 제목만있는 레이아웃."
   ]
  },
  {
   "cell_type": "code",
   "execution_count": 20,
   "metadata": {
    "collapsed": true
   },
   "outputs": [],
   "source": [
    "slide = prs.slides.add_slide(slide_layout)"
   ]
  },
  {
   "cell_type": "code",
   "execution_count": 21,
   "metadata": {
    "collapsed": true
   },
   "outputs": [],
   "source": [
    "slide.shapes.title.text=\"그림있어요 \""
   ]
  },
  {
   "cell_type": "code",
   "execution_count": 22,
   "metadata": {
    "collapsed": false
   },
   "outputs": [
    {
     "data": {
      "text/plain": [
       "<pptx.shapes.picture.Picture at 0xbf11fb0>"
      ]
     },
     "execution_count": 22,
     "metadata": {},
     "output_type": "execute_result"
    }
   ],
   "source": [
    "slide.shapes.add_picture('plot.png',left=Cm(2),top=Cm(3),width=Cm(20),height=Cm(15))"
   ]
  },
  {
   "cell_type": "code",
   "execution_count": 23,
   "metadata": {
    "collapsed": true
   },
   "outputs": [],
   "source": [
    "prs.save('plot.pptx')"
   ]
  },
  {
   "cell_type": "markdown",
   "metadata": {},
   "source": [
    "## statsmodels\n",
    " - Python에서 통계 분석을 위한 라이브러리. 이름이 statsmodels임에 주의. <a href=\"http://statsmodels.sourceforge.net/\">홈페이지</a>"
   ]
  },
  {
   "cell_type": "code",
   "execution_count": 24,
   "metadata": {
    "collapsed": false
   },
   "outputs": [
    {
     "data": {
      "text/html": [
       "<table class=\"simpletable\">\n",
       "<caption>OLS Regression Results</caption>\n",
       "<tr>\n",
       "  <th>Dep. Variable:</th>        <td>symboling</td>    <th>  R-squared:         </th> <td>   0.113</td>\n",
       "</tr>\n",
       "<tr>\n",
       "  <th>Model:</th>                   <td>OLS</td>       <th>  Adj. R-squared:    </th> <td>   0.107</td>\n",
       "</tr>\n",
       "<tr>\n",
       "  <th>Method:</th>             <td>Least Squares</td>  <th>  F-statistic:       </th> <td>   20.01</td>\n",
       "</tr>\n",
       "<tr>\n",
       "  <th>Date:</th>             <td>Tue, 08 Nov 2016</td> <th>  Prob (F-statistic):</th> <td>1.47e-05</td>\n",
       "</tr>\n",
       "<tr>\n",
       "  <th>Time:</th>                 <td>13:12:20</td>     <th>  Log-Likelihood:    </th> <td> -243.64</td>\n",
       "</tr>\n",
       "<tr>\n",
       "  <th>No. Observations:</th>      <td>   159</td>      <th>  AIC:               </th> <td>   491.3</td>\n",
       "</tr>\n",
       "<tr>\n",
       "  <th>Df Residuals:</th>          <td>   157</td>      <th>  BIC:               </th> <td>   497.4</td>\n",
       "</tr>\n",
       "<tr>\n",
       "  <th>Df Model:</th>              <td>     1</td>      <th>                     </th>     <td> </td>   \n",
       "</tr>\n",
       "<tr>\n",
       "  <th>Covariance Type:</th>      <td>nonrobust</td>    <th>                     </th>     <td> </td>   \n",
       "</tr>\n",
       "</table>\n",
       "<table class=\"simpletable\">\n",
       "<tr>\n",
       "      <td></td>         <th>coef</th>     <th>std err</th>      <th>t</th>      <th>P>|t|</th> <th>[95.0% Conf. Int.]</th> \n",
       "</tr>\n",
       "<tr>\n",
       "  <th>Intercept</th> <td>    6.7385</td> <td>    1.345</td> <td>    5.011</td> <td> 0.000</td> <td>    4.082     9.395</td>\n",
       "</tr>\n",
       "<tr>\n",
       "  <th>length</th>    <td>   -0.0348</td> <td>    0.008</td> <td>   -4.474</td> <td> 0.000</td> <td>   -0.050    -0.019</td>\n",
       "</tr>\n",
       "</table>\n",
       "<table class=\"simpletable\">\n",
       "<tr>\n",
       "  <th>Omnibus:</th>       <td>10.632</td> <th>  Durbin-Watson:     </th> <td>   0.909</td>\n",
       "</tr>\n",
       "<tr>\n",
       "  <th>Prob(Omnibus):</th> <td> 0.005</td> <th>  Jarque-Bera (JB):  </th> <td>  11.510</td>\n",
       "</tr>\n",
       "<tr>\n",
       "  <th>Skew:</th>          <td> 0.658</td> <th>  Prob(JB):          </th> <td> 0.00317</td>\n",
       "</tr>\n",
       "<tr>\n",
       "  <th>Kurtosis:</th>      <td> 2.915</td> <th>  Cond. No.          </th> <td>2.60e+03</td>\n",
       "</tr>\n",
       "</table>"
      ],
      "text/plain": [
       "<class 'statsmodels.iolib.summary.Summary'>\n",
       "\"\"\"\n",
       "                            OLS Regression Results                            \n",
       "==============================================================================\n",
       "Dep. Variable:              symboling   R-squared:                       0.113\n",
       "Model:                            OLS   Adj. R-squared:                  0.107\n",
       "Method:                 Least Squares   F-statistic:                     20.01\n",
       "Date:                Tue, 08 Nov 2016   Prob (F-statistic):           1.47e-05\n",
       "Time:                        13:12:20   Log-Likelihood:                -243.64\n",
       "No. Observations:                 159   AIC:                             491.3\n",
       "Df Residuals:                     157   BIC:                             497.4\n",
       "Df Model:                           1                                         \n",
       "Covariance Type:            nonrobust                                         \n",
       "==============================================================================\n",
       "                 coef    std err          t      P>|t|      [95.0% Conf. Int.]\n",
       "------------------------------------------------------------------------------\n",
       "Intercept      6.7385      1.345      5.011      0.000         4.082     9.395\n",
       "length        -0.0348      0.008     -4.474      0.000        -0.050    -0.019\n",
       "==============================================================================\n",
       "Omnibus:                       10.632   Durbin-Watson:                   0.909\n",
       "Prob(Omnibus):                  0.005   Jarque-Bera (JB):               11.510\n",
       "Skew:                           0.658   Prob(JB):                      0.00317\n",
       "Kurtosis:                       2.915   Cond. No.                     2.60e+03\n",
       "==============================================================================\n",
       "\n",
       "Warnings:\n",
       "[1] Standard Errors assume that the covariance matrix of the errors is correctly specified.\n",
       "[2] The condition number is large, 2.6e+03. This might indicate that there are\n",
       "strong multicollinearity or other numerical problems.\n",
       "\"\"\""
      ]
     },
     "execution_count": 24,
     "metadata": {},
     "output_type": "execute_result"
    }
   ],
   "source": [
    "import statsmodels.formula.api as smf\n",
    "model = smf.ols('symboling ~ length', data=automobile)\n",
    "result = model.fit() # 선이 정확하게 어떻게 생겼는지 Fitting 시킨다. 모델에 따른 선을 정확하게 R에서는 바로 Fitting을 한다. \n",
    "result.summary()\n",
    "\n",
    "# \tR-squared: 데이터 전체 분산. 불확실성 중 얼마나 줄일 수 있나. 즉, 11.3%정도 설명할 수 있다. 90%정도는 길이로 설명이 안된다. \n",
    "# \tLog-Likelihood : 직접적으로 해석할 수 있는 것은 아니다. 하지만 두가지 모델을 돌렸을때. 0에 가까운 것이 데이터에 잘 맞는 모델이다. \n",
    "# AIC: BIC: 또한 0에 가까울수록 좋다."
   ]
  },
  {
   "cell_type": "code",
   "execution_count": 25,
   "metadata": {
    "collapsed": false
   },
   "outputs": [
    {
     "data": {
      "text/html": [
       "<table class=\"simpletable\">\n",
       "<caption>OLS Regression Results</caption>\n",
       "<tr>\n",
       "  <th>Dep. Variable:</th>        <td>symboling</td>    <th>  R-squared:         </th> <td>   0.134</td>\n",
       "</tr>\n",
       "<tr>\n",
       "  <th>Model:</th>                   <td>OLS</td>       <th>  Adj. R-squared:    </th> <td>   0.123</td>\n",
       "</tr>\n",
       "<tr>\n",
       "  <th>Method:</th>             <td>Least Squares</td>  <th>  F-statistic:       </th> <td>   12.03</td>\n",
       "</tr>\n",
       "<tr>\n",
       "  <th>Date:</th>             <td>Tue, 08 Nov 2016</td> <th>  Prob (F-statistic):</th> <td>1.38e-05</td>\n",
       "</tr>\n",
       "<tr>\n",
       "  <th>Time:</th>                 <td>13:12:22</td>     <th>  Log-Likelihood:    </th> <td> -241.77</td>\n",
       "</tr>\n",
       "<tr>\n",
       "  <th>No. Observations:</th>      <td>   159</td>      <th>  AIC:               </th> <td>   489.5</td>\n",
       "</tr>\n",
       "<tr>\n",
       "  <th>Df Residuals:</th>          <td>   156</td>      <th>  BIC:               </th> <td>   498.8</td>\n",
       "</tr>\n",
       "<tr>\n",
       "  <th>Df Model:</th>              <td>     2</td>      <th>                     </th>     <td> </td>   \n",
       "</tr>\n",
       "<tr>\n",
       "  <th>Covariance Type:</th>      <td>nonrobust</td>    <th>                     </th>     <td> </td>   \n",
       "</tr>\n",
       "</table>\n",
       "<table class=\"simpletable\">\n",
       "<tr>\n",
       "      <td></td>         <th>coef</th>     <th>std err</th>      <th>t</th>      <th>P>|t|</th> <th>[95.0% Conf. Int.]</th> \n",
       "</tr>\n",
       "<tr>\n",
       "  <th>Intercept</th> <td>    9.2285</td> <td>    1.858</td> <td>    4.968</td> <td> 0.000</td> <td>    5.559    12.898</td>\n",
       "</tr>\n",
       "<tr>\n",
       "  <th>length</th>    <td>   -0.0522</td> <td>    0.012</td> <td>   -4.392</td> <td> 0.000</td> <td>   -0.076    -0.029</td>\n",
       "</tr>\n",
       "<tr>\n",
       "  <th>price</th>     <td> 4.488e-05</td> <td> 2.33e-05</td> <td>    1.925</td> <td> 0.056</td> <td>-1.17e-06  9.09e-05</td>\n",
       "</tr>\n",
       "</table>\n",
       "<table class=\"simpletable\">\n",
       "<tr>\n",
       "  <th>Omnibus:</th>       <td>10.367</td> <th>  Durbin-Watson:     </th> <td>   0.835</td>\n",
       "</tr>\n",
       "<tr>\n",
       "  <th>Prob(Omnibus):</th> <td> 0.006</td> <th>  Jarque-Bera (JB):  </th> <td>  11.225</td>\n",
       "</tr>\n",
       "<tr>\n",
       "  <th>Skew:</th>          <td> 0.648</td> <th>  Prob(JB):          </th> <td> 0.00365</td>\n",
       "</tr>\n",
       "<tr>\n",
       "  <th>Kurtosis:</th>      <td> 2.877</td> <th>  Cond. No.          </th> <td>2.70e+05</td>\n",
       "</tr>\n",
       "</table>"
      ],
      "text/plain": [
       "<class 'statsmodels.iolib.summary.Summary'>\n",
       "\"\"\"\n",
       "                            OLS Regression Results                            \n",
       "==============================================================================\n",
       "Dep. Variable:              symboling   R-squared:                       0.134\n",
       "Model:                            OLS   Adj. R-squared:                  0.123\n",
       "Method:                 Least Squares   F-statistic:                     12.03\n",
       "Date:                Tue, 08 Nov 2016   Prob (F-statistic):           1.38e-05\n",
       "Time:                        13:12:22   Log-Likelihood:                -241.77\n",
       "No. Observations:                 159   AIC:                             489.5\n",
       "Df Residuals:                     156   BIC:                             498.8\n",
       "Df Model:                           2                                         \n",
       "Covariance Type:            nonrobust                                         \n",
       "==============================================================================\n",
       "                 coef    std err          t      P>|t|      [95.0% Conf. Int.]\n",
       "------------------------------------------------------------------------------\n",
       "Intercept      9.2285      1.858      4.968      0.000         5.559    12.898\n",
       "length        -0.0522      0.012     -4.392      0.000        -0.076    -0.029\n",
       "price       4.488e-05   2.33e-05      1.925      0.056     -1.17e-06  9.09e-05\n",
       "==============================================================================\n",
       "Omnibus:                       10.367   Durbin-Watson:                   0.835\n",
       "Prob(Omnibus):                  0.006   Jarque-Bera (JB):               11.225\n",
       "Skew:                           0.648   Prob(JB):                      0.00365\n",
       "Kurtosis:                       2.877   Cond. No.                     2.70e+05\n",
       "==============================================================================\n",
       "\n",
       "Warnings:\n",
       "[1] Standard Errors assume that the covariance matrix of the errors is correctly specified.\n",
       "[2] The condition number is large, 2.7e+05. This might indicate that there are\n",
       "strong multicollinearity or other numerical problems.\n",
       "\"\"\""
      ]
     },
     "execution_count": 25,
     "metadata": {},
     "output_type": "execute_result"
    }
   ],
   "source": [
    "smf.ols('symboling ~ length + price', data=automobile).fit().summary() # 다중회귀분석h"
   ]
  },
  {
   "cell_type": "code",
   "execution_count": 26,
   "metadata": {
    "collapsed": false
   },
   "outputs": [
    {
     "data": {
      "text/plain": [
       "Index(['symboling', 'normalized_losses', 'maker', 'fuel', 'aspiration',\n",
       "       'doors', 'body', 'wheels', 'engine_location', 'wheel_base', 'length',\n",
       "       'width', 'height', 'curb_weight', 'engine_type', 'cylinders',\n",
       "       'engine_size', 'fuel_system', 'bore', 'stroke', 'compression_ratio',\n",
       "       'horsepower', 'peak_rpm', 'city_mpg', 'highway_mpg', 'price'],\n",
       "      dtype='object')"
      ]
     },
     "execution_count": 26,
     "metadata": {},
     "output_type": "execute_result"
    }
   ],
   "source": [
    "automobile.columns"
   ]
  },
  {
   "cell_type": "code",
   "execution_count": 27,
   "metadata": {
    "collapsed": false
   },
   "outputs": [
    {
     "data": {
      "text/plain": [
       "Index(['symboling', 'normalized_losses', 'wheel_base', 'length', 'width',\n",
       "       'height', 'curb_weight', 'engine_size', 'bore', 'stroke',\n",
       "       'compression_ratio', 'horsepower', 'peak_rpm', 'city_mpg',\n",
       "       'highway_mpg', 'price'],\n",
       "      dtype='object')"
      ]
     },
     "execution_count": 27,
     "metadata": {},
     "output_type": "execute_result"
    }
   ],
   "source": [
    "cont_var = automobile.columns[automobile.dtypes != 'object']\n",
    "cont_var"
   ]
  },
  {
   "cell_type": "code",
   "execution_count": 28,
   "metadata": {
    "collapsed": false
   },
   "outputs": [
    {
     "data": {
      "text/html": [
       "<div>\n",
       "<table border=\"1\" class=\"dataframe\">\n",
       "  <thead>\n",
       "    <tr style=\"text-align: right;\">\n",
       "      <th></th>\n",
       "      <th>symboling</th>\n",
       "      <th>normalized_losses</th>\n",
       "      <th>wheel_base</th>\n",
       "      <th>length</th>\n",
       "      <th>width</th>\n",
       "      <th>height</th>\n",
       "      <th>curb_weight</th>\n",
       "      <th>engine_size</th>\n",
       "      <th>bore</th>\n",
       "      <th>stroke</th>\n",
       "      <th>compression_ratio</th>\n",
       "      <th>horsepower</th>\n",
       "      <th>peak_rpm</th>\n",
       "      <th>city_mpg</th>\n",
       "      <th>highway_mpg</th>\n",
       "      <th>price</th>\n",
       "    </tr>\n",
       "  </thead>\n",
       "  <tbody>\n",
       "    <tr>\n",
       "      <th>0</th>\n",
       "      <td>2</td>\n",
       "      <td>164</td>\n",
       "      <td>99.8</td>\n",
       "      <td>176.6</td>\n",
       "      <td>66.2</td>\n",
       "      <td>54.3</td>\n",
       "      <td>2337</td>\n",
       "      <td>109</td>\n",
       "      <td>3.19</td>\n",
       "      <td>3.4</td>\n",
       "      <td>10.0</td>\n",
       "      <td>102</td>\n",
       "      <td>5500</td>\n",
       "      <td>24</td>\n",
       "      <td>30</td>\n",
       "      <td>13950</td>\n",
       "    </tr>\n",
       "    <tr>\n",
       "      <th>1</th>\n",
       "      <td>2</td>\n",
       "      <td>164</td>\n",
       "      <td>99.4</td>\n",
       "      <td>176.6</td>\n",
       "      <td>66.4</td>\n",
       "      <td>54.3</td>\n",
       "      <td>2824</td>\n",
       "      <td>136</td>\n",
       "      <td>3.19</td>\n",
       "      <td>3.4</td>\n",
       "      <td>8.0</td>\n",
       "      <td>115</td>\n",
       "      <td>5500</td>\n",
       "      <td>18</td>\n",
       "      <td>22</td>\n",
       "      <td>17450</td>\n",
       "    </tr>\n",
       "    <tr>\n",
       "      <th>2</th>\n",
       "      <td>1</td>\n",
       "      <td>158</td>\n",
       "      <td>105.8</td>\n",
       "      <td>192.7</td>\n",
       "      <td>71.4</td>\n",
       "      <td>55.7</td>\n",
       "      <td>2844</td>\n",
       "      <td>136</td>\n",
       "      <td>3.19</td>\n",
       "      <td>3.4</td>\n",
       "      <td>8.5</td>\n",
       "      <td>110</td>\n",
       "      <td>5500</td>\n",
       "      <td>19</td>\n",
       "      <td>25</td>\n",
       "      <td>17710</td>\n",
       "    </tr>\n",
       "    <tr>\n",
       "      <th>3</th>\n",
       "      <td>1</td>\n",
       "      <td>158</td>\n",
       "      <td>105.8</td>\n",
       "      <td>192.7</td>\n",
       "      <td>71.4</td>\n",
       "      <td>55.9</td>\n",
       "      <td>3086</td>\n",
       "      <td>131</td>\n",
       "      <td>3.13</td>\n",
       "      <td>3.4</td>\n",
       "      <td>8.3</td>\n",
       "      <td>140</td>\n",
       "      <td>5500</td>\n",
       "      <td>17</td>\n",
       "      <td>20</td>\n",
       "      <td>23875</td>\n",
       "    </tr>\n",
       "    <tr>\n",
       "      <th>4</th>\n",
       "      <td>2</td>\n",
       "      <td>192</td>\n",
       "      <td>101.2</td>\n",
       "      <td>176.8</td>\n",
       "      <td>64.8</td>\n",
       "      <td>54.3</td>\n",
       "      <td>2395</td>\n",
       "      <td>108</td>\n",
       "      <td>3.50</td>\n",
       "      <td>2.8</td>\n",
       "      <td>8.8</td>\n",
       "      <td>101</td>\n",
       "      <td>5800</td>\n",
       "      <td>23</td>\n",
       "      <td>29</td>\n",
       "      <td>16430</td>\n",
       "    </tr>\n",
       "  </tbody>\n",
       "</table>\n",
       "</div>"
      ],
      "text/plain": [
       "   symboling  normalized_losses  wheel_base  length  width  height  \\\n",
       "0          2                164        99.8   176.6   66.2    54.3   \n",
       "1          2                164        99.4   176.6   66.4    54.3   \n",
       "2          1                158       105.8   192.7   71.4    55.7   \n",
       "3          1                158       105.8   192.7   71.4    55.9   \n",
       "4          2                192       101.2   176.8   64.8    54.3   \n",
       "\n",
       "   curb_weight  engine_size  bore  stroke  compression_ratio  horsepower  \\\n",
       "0         2337          109  3.19     3.4               10.0         102   \n",
       "1         2824          136  3.19     3.4                8.0         115   \n",
       "2         2844          136  3.19     3.4                8.5         110   \n",
       "3         3086          131  3.13     3.4                8.3         140   \n",
       "4         2395          108  3.50     2.8                8.8         101   \n",
       "\n",
       "   peak_rpm  city_mpg  highway_mpg  price  \n",
       "0      5500        24           30  13950  \n",
       "1      5500        18           22  17450  \n",
       "2      5500        19           25  17710  \n",
       "3      5500        17           20  23875  \n",
       "4      5800        23           29  16430  "
      ]
     },
     "execution_count": 28,
     "metadata": {},
     "output_type": "execute_result"
    }
   ],
   "source": [
    "cont_data = automobile[cont_var]\n",
    "cont_data.head()"
   ]
  },
  {
   "cell_type": "markdown",
   "metadata": {},
   "source": [
    "### 이렇게도 되면 좋겠지만..."
   ]
  },
  {
   "cell_type": "code",
   "execution_count": 29,
   "metadata": {
    "collapsed": false
   },
   "outputs": [
    {
     "ename": "SyntaxError",
     "evalue": "invalid syntax (<unknown>, line 1)",
     "output_type": "error",
     "traceback": [
      "\u001b[1;36m  File \u001b[1;32m\"<unknown>\"\u001b[1;36m, line \u001b[1;32m1\u001b[0m\n\u001b[1;33m    .\u001b[0m\n\u001b[1;37m    ^\u001b[0m\n\u001b[1;31mSyntaxError\u001b[0m\u001b[1;31m:\u001b[0m invalid syntax\n"
     ]
    }
   ],
   "source": [
    "smf.ols('symboling ~ .', data=cont_data).fit().summary()"
   ]
  },
  {
   "cell_type": "code",
   "execution_count": 31,
   "metadata": {
    "collapsed": false
   },
   "outputs": [
    {
     "data": {
      "text/plain": [
       "Index(['bore', 'city_mpg', 'compression_ratio', 'curb_weight', 'engine_size',\n",
       "       'height', 'highway_mpg', 'horsepower', 'length', 'normalized_losses',\n",
       "       'peak_rpm', 'price', 'stroke', 'wheel_base', 'width'],\n",
       "      dtype='object')"
      ]
     },
     "execution_count": 31,
     "metadata": {},
     "output_type": "execute_result"
    }
   ],
   "source": [
    "cont_var.difference(['symboling'])"
   ]
  },
  {
   "cell_type": "code",
   "execution_count": 33,
   "metadata": {
    "collapsed": false
   },
   "outputs": [
    {
     "data": {
      "text/plain": [
       "'bore + city_mpg + compression_ratio + curb_weight + engine_size + height + highway_mpg + horsepower + length + normalized_losses + peak_rpm + price + stroke + wheel_base + width'"
      ]
     },
     "execution_count": 33,
     "metadata": {},
     "output_type": "execute_result"
    }
   ],
   "source": [
    "' + '.join(cont_var.difference(['symboling']))"
   ]
  },
  {
   "cell_type": "code",
   "execution_count": 35,
   "metadata": {
    "collapsed": true
   },
   "outputs": [],
   "source": [
    "indep = ' + '.join(cont_var.difference(['symboling']))"
   ]
  },
  {
   "cell_type": "code",
   "execution_count": 37,
   "metadata": {
    "collapsed": false
   },
   "outputs": [
    {
     "data": {
      "text/html": [
       "<table class=\"simpletable\">\n",
       "<caption>OLS Regression Results</caption>\n",
       "<tr>\n",
       "  <th>Dep. Variable:</th>        <td>symboling</td>    <th>  R-squared:         </th> <td>   0.593</td>\n",
       "</tr>\n",
       "<tr>\n",
       "  <th>Model:</th>                   <td>OLS</td>       <th>  Adj. R-squared:    </th> <td>   0.550</td>\n",
       "</tr>\n",
       "<tr>\n",
       "  <th>Method:</th>             <td>Least Squares</td>  <th>  F-statistic:       </th> <td>   13.89</td>\n",
       "</tr>\n",
       "<tr>\n",
       "  <th>Date:</th>             <td>Tue, 08 Nov 2016</td> <th>  Prob (F-statistic):</th> <td>3.68e-21</td>\n",
       "</tr>\n",
       "<tr>\n",
       "  <th>Time:</th>                 <td>13:13:25</td>     <th>  Log-Likelihood:    </th> <td> -181.72</td>\n",
       "</tr>\n",
       "<tr>\n",
       "  <th>No. Observations:</th>      <td>   159</td>      <th>  AIC:               </th> <td>   395.4</td>\n",
       "</tr>\n",
       "<tr>\n",
       "  <th>Df Residuals:</th>          <td>   143</td>      <th>  BIC:               </th> <td>   444.5</td>\n",
       "</tr>\n",
       "<tr>\n",
       "  <th>Df Model:</th>              <td>    15</td>      <th>                     </th>     <td> </td>   \n",
       "</tr>\n",
       "<tr>\n",
       "  <th>Covariance Type:</th>      <td>nonrobust</td>    <th>                     </th>     <td> </td>   \n",
       "</tr>\n",
       "</table>\n",
       "<table class=\"simpletable\">\n",
       "<tr>\n",
       "          <td></td>             <th>coef</th>     <th>std err</th>      <th>t</th>      <th>P>|t|</th> <th>[95.0% Conf. Int.]</th> \n",
       "</tr>\n",
       "<tr>\n",
       "  <th>Intercept</th>         <td>    3.3079</td> <td>    5.583</td> <td>    0.592</td> <td> 0.554</td> <td>   -7.728    14.344</td>\n",
       "</tr>\n",
       "<tr>\n",
       "  <th>bore</th>              <td>   -0.1778</td> <td>    0.368</td> <td>   -0.484</td> <td> 0.629</td> <td>   -0.905     0.549</td>\n",
       "</tr>\n",
       "<tr>\n",
       "  <th>city_mpg</th>          <td>   -0.1086</td> <td>    0.052</td> <td>   -2.072</td> <td> 0.040</td> <td>   -0.212    -0.005</td>\n",
       "</tr>\n",
       "<tr>\n",
       "  <th>compression_ratio</th> <td>    0.0456</td> <td>    0.026</td> <td>    1.741</td> <td> 0.084</td> <td>   -0.006     0.097</td>\n",
       "</tr>\n",
       "<tr>\n",
       "  <th>curb_weight</th>       <td>   -0.0007</td> <td>    0.001</td> <td>   -1.179</td> <td> 0.241</td> <td>   -0.002     0.000</td>\n",
       "</tr>\n",
       "<tr>\n",
       "  <th>engine_size</th>       <td>    0.0030</td> <td>    0.006</td> <td>    0.471</td> <td> 0.638</td> <td>   -0.010     0.016</td>\n",
       "</tr>\n",
       "<tr>\n",
       "  <th>height</th>            <td>    0.0492</td> <td>    0.046</td> <td>    1.068</td> <td> 0.287</td> <td>   -0.042     0.140</td>\n",
       "</tr>\n",
       "<tr>\n",
       "  <th>highway_mpg</th>       <td>    0.0847</td> <td>    0.047</td> <td>    1.800</td> <td> 0.074</td> <td>   -0.008     0.178</td>\n",
       "</tr>\n",
       "<tr>\n",
       "  <th>horsepower</th>        <td>    0.0054</td> <td>    0.006</td> <td>    0.966</td> <td> 0.336</td> <td>   -0.006     0.017</td>\n",
       "</tr>\n",
       "<tr>\n",
       "  <th>length</th>            <td>    0.0050</td> <td>    0.016</td> <td>    0.310</td> <td> 0.757</td> <td>   -0.027     0.037</td>\n",
       "</tr>\n",
       "<tr>\n",
       "  <th>normalized_losses</th> <td>    0.0140</td> <td>    0.002</td> <td>    6.236</td> <td> 0.000</td> <td>    0.010     0.018</td>\n",
       "</tr>\n",
       "<tr>\n",
       "  <th>peak_rpm</th>          <td>   -0.0001</td> <td>    0.000</td> <td>   -0.757</td> <td> 0.450</td> <td>   -0.001     0.000</td>\n",
       "</tr>\n",
       "<tr>\n",
       "  <th>price</th>             <td> 8.963e-06</td> <td>  2.8e-05</td> <td>    0.320</td> <td> 0.750</td> <td>-4.64e-05  6.44e-05</td>\n",
       "</tr>\n",
       "<tr>\n",
       "  <th>stroke</th>            <td>   -0.0668</td> <td>    0.268</td> <td>   -0.249</td> <td> 0.803</td> <td>   -0.597     0.463</td>\n",
       "</tr>\n",
       "<tr>\n",
       "  <th>wheel_base</th>        <td>   -0.2074</td> <td>    0.031</td> <td>   -6.669</td> <td> 0.000</td> <td>   -0.269    -0.146</td>\n",
       "</tr>\n",
       "<tr>\n",
       "  <th>width</th>             <td>    0.2207</td> <td>    0.081</td> <td>    2.716</td> <td> 0.007</td> <td>    0.060     0.381</td>\n",
       "</tr>\n",
       "</table>\n",
       "<table class=\"simpletable\">\n",
       "<tr>\n",
       "  <th>Omnibus:</th>       <td> 0.983</td> <th>  Durbin-Watson:     </th> <td>   1.035</td>\n",
       "</tr>\n",
       "<tr>\n",
       "  <th>Prob(Omnibus):</th> <td> 0.612</td> <th>  Jarque-Bera (JB):  </th> <td>   0.833</td>\n",
       "</tr>\n",
       "<tr>\n",
       "  <th>Skew:</th>          <td> 0.177</td> <th>  Prob(JB):          </th> <td>   0.659</td>\n",
       "</tr>\n",
       "<tr>\n",
       "  <th>Kurtosis:</th>      <td> 3.013</td> <th>  Cond. No.          </th> <td>1.22e+06</td>\n",
       "</tr>\n",
       "</table>"
      ],
      "text/plain": [
       "<class 'statsmodels.iolib.summary.Summary'>\n",
       "\"\"\"\n",
       "                            OLS Regression Results                            \n",
       "==============================================================================\n",
       "Dep. Variable:              symboling   R-squared:                       0.593\n",
       "Model:                            OLS   Adj. R-squared:                  0.550\n",
       "Method:                 Least Squares   F-statistic:                     13.89\n",
       "Date:                Tue, 08 Nov 2016   Prob (F-statistic):           3.68e-21\n",
       "Time:                        13:13:25   Log-Likelihood:                -181.72\n",
       "No. Observations:                 159   AIC:                             395.4\n",
       "Df Residuals:                     143   BIC:                             444.5\n",
       "Df Model:                          15                                         \n",
       "Covariance Type:            nonrobust                                         \n",
       "=====================================================================================\n",
       "                        coef    std err          t      P>|t|      [95.0% Conf. Int.]\n",
       "-------------------------------------------------------------------------------------\n",
       "Intercept             3.3079      5.583      0.592      0.554        -7.728    14.344\n",
       "bore                 -0.1778      0.368     -0.484      0.629        -0.905     0.549\n",
       "city_mpg             -0.1086      0.052     -2.072      0.040        -0.212    -0.005\n",
       "compression_ratio     0.0456      0.026      1.741      0.084        -0.006     0.097\n",
       "curb_weight          -0.0007      0.001     -1.179      0.241        -0.002     0.000\n",
       "engine_size           0.0030      0.006      0.471      0.638        -0.010     0.016\n",
       "height                0.0492      0.046      1.068      0.287        -0.042     0.140\n",
       "highway_mpg           0.0847      0.047      1.800      0.074        -0.008     0.178\n",
       "horsepower            0.0054      0.006      0.966      0.336        -0.006     0.017\n",
       "length                0.0050      0.016      0.310      0.757        -0.027     0.037\n",
       "normalized_losses     0.0140      0.002      6.236      0.000         0.010     0.018\n",
       "peak_rpm             -0.0001      0.000     -0.757      0.450        -0.001     0.000\n",
       "price              8.963e-06    2.8e-05      0.320      0.750     -4.64e-05  6.44e-05\n",
       "stroke               -0.0668      0.268     -0.249      0.803        -0.597     0.463\n",
       "wheel_base           -0.2074      0.031     -6.669      0.000        -0.269    -0.146\n",
       "width                 0.2207      0.081      2.716      0.007         0.060     0.381\n",
       "==============================================================================\n",
       "Omnibus:                        0.983   Durbin-Watson:                   1.035\n",
       "Prob(Omnibus):                  0.612   Jarque-Bera (JB):                0.833\n",
       "Skew:                           0.177   Prob(JB):                        0.659\n",
       "Kurtosis:                       3.013   Cond. No.                     1.22e+06\n",
       "==============================================================================\n",
       "\n",
       "Warnings:\n",
       "[1] Standard Errors assume that the covariance matrix of the errors is correctly specified.\n",
       "[2] The condition number is large, 1.22e+06. This might indicate that there are\n",
       "strong multicollinearity or other numerical problems.\n",
       "\"\"\""
      ]
     },
     "execution_count": 37,
     "metadata": {},
     "output_type": "execute_result"
    }
   ],
   "source": [
    "smf.ols('symboling ~ ' + indep, data=cont_data).fit().summary()"
   ]
  },
  {
   "cell_type": "markdown",
   "metadata": {},
   "source": [
    "## 문제점? \n",
    " - R-Square 의 값은 변수 갯수가 많아 질 수록 높아진다. \n",
    " - 즉, 관련도에 상관없이 변수의 수만으로도 높아 질 수 있다. 그래서 필요한 것 ** Adjuected-R Squared **"
   ]
  },
  {
   "cell_type": "code",
   "execution_count": 42,
   "metadata": {
    "collapsed": true
   },
   "outputs": [],
   "source": [
    "from numpy.random import normal\n",
    "import pandas"
   ]
  },
  {
   "cell_type": "code",
   "execution_count": 43,
   "metadata": {
    "collapsed": false
   },
   "outputs": [
    {
     "data": {
      "text/plain": [
       "array([ 1.02377808, -1.2503873 ,  0.47876906, -1.14231941,  0.88930104,\n",
       "       -1.06494237, -0.0752258 ,  1.75724039, -0.75629741, -0.20658294,\n",
       "       -0.5770916 ,  0.33791198, -0.68393211, -1.70499185, -0.23890759,\n",
       "        0.1861836 ,  1.65260872, -1.53330515,  1.74047261,  0.52158973])"
      ]
     },
     "execution_count": 43,
     "metadata": {},
     "output_type": "execute_result"
    }
   ],
   "source": [
    "normal(size=20)"
   ]
  },
  {
   "cell_type": "code",
   "execution_count": 45,
   "metadata": {
    "collapsed": false
   },
   "outputs": [
    {
     "data": {
      "text/html": [
       "<div>\n",
       "<table border=\"1\" class=\"dataframe\">\n",
       "  <thead>\n",
       "    <tr style=\"text-align: right;\">\n",
       "      <th></th>\n",
       "      <th>x1</th>\n",
       "      <th>x2</th>\n",
       "      <th>x3</th>\n",
       "      <th>x4</th>\n",
       "      <th>x5</th>\n",
       "      <th>x6</th>\n",
       "      <th>x7</th>\n",
       "      <th>y</th>\n",
       "    </tr>\n",
       "  </thead>\n",
       "  <tbody>\n",
       "    <tr>\n",
       "      <th>0</th>\n",
       "      <td>-0.024717</td>\n",
       "      <td>0.158248</td>\n",
       "      <td>-0.065395</td>\n",
       "      <td>-1.350514</td>\n",
       "      <td>0.339476</td>\n",
       "      <td>0.434093</td>\n",
       "      <td>0.337882</td>\n",
       "      <td>1.234816</td>\n",
       "    </tr>\n",
       "    <tr>\n",
       "      <th>1</th>\n",
       "      <td>0.654352</td>\n",
       "      <td>-0.394843</td>\n",
       "      <td>-1.470524</td>\n",
       "      <td>-0.830285</td>\n",
       "      <td>-0.193543</td>\n",
       "      <td>1.265109</td>\n",
       "      <td>-1.431964</td>\n",
       "      <td>-1.887755</td>\n",
       "    </tr>\n",
       "    <tr>\n",
       "      <th>2</th>\n",
       "      <td>-0.182757</td>\n",
       "      <td>-1.154570</td>\n",
       "      <td>-0.392423</td>\n",
       "      <td>-2.813641</td>\n",
       "      <td>-0.087936</td>\n",
       "      <td>-0.359652</td>\n",
       "      <td>-1.367713</td>\n",
       "      <td>0.305382</td>\n",
       "    </tr>\n",
       "    <tr>\n",
       "      <th>3</th>\n",
       "      <td>-1.942399</td>\n",
       "      <td>1.394907</td>\n",
       "      <td>-1.596470</td>\n",
       "      <td>1.379386</td>\n",
       "      <td>-2.837135</td>\n",
       "      <td>1.364670</td>\n",
       "      <td>-0.177087</td>\n",
       "      <td>-1.081586</td>\n",
       "    </tr>\n",
       "    <tr>\n",
       "      <th>4</th>\n",
       "      <td>-1.390933</td>\n",
       "      <td>-0.416897</td>\n",
       "      <td>-1.360724</td>\n",
       "      <td>-0.167866</td>\n",
       "      <td>-0.563411</td>\n",
       "      <td>0.492708</td>\n",
       "      <td>-0.336526</td>\n",
       "      <td>1.723626</td>\n",
       "    </tr>\n",
       "  </tbody>\n",
       "</table>\n",
       "</div>"
      ],
      "text/plain": [
       "         x1        x2        x3        x4        x5        x6        x7  \\\n",
       "0 -0.024717  0.158248 -0.065395 -1.350514  0.339476  0.434093  0.337882   \n",
       "1  0.654352 -0.394843 -1.470524 -0.830285 -0.193543  1.265109 -1.431964   \n",
       "2 -0.182757 -1.154570 -0.392423 -2.813641 -0.087936 -0.359652 -1.367713   \n",
       "3 -1.942399  1.394907 -1.596470  1.379386 -2.837135  1.364670 -0.177087   \n",
       "4 -1.390933 -0.416897 -1.360724 -0.167866 -0.563411  0.492708 -0.336526   \n",
       "\n",
       "          y  \n",
       "0  1.234816  \n",
       "1 -1.887755  \n",
       "2  0.305382  \n",
       "3 -1.081586  \n",
       "4  1.723626  "
      ]
     },
     "execution_count": 45,
     "metadata": {},
     "output_type": "execute_result"
    }
   ],
   "source": [
    "df = pandas.DataFrame({'y': normal(size=20),\n",
    "                       'x1': normal(size=20),\n",
    "                       'x2': normal(size=20),\n",
    "                       'x3': normal(size=20),\n",
    "                       'x4': normal(size=20),\n",
    "                       'x5': normal(size=20),\n",
    "                       'x6': normal(size=20),\n",
    "                       'x7': normal(size=20),})\n",
    "df.head()"
   ]
  },
  {
   "cell_type": "code",
   "execution_count": 47,
   "metadata": {
    "collapsed": false
   },
   "outputs": [
    {
     "data": {
      "text/html": [
       "<table class=\"simpletable\">\n",
       "<caption>OLS Regression Results</caption>\n",
       "<tr>\n",
       "  <th>Dep. Variable:</th>            <td>y</td>        <th>  R-squared:         </th> <td>   0.000</td>\n",
       "</tr>\n",
       "<tr>\n",
       "  <th>Model:</th>                   <td>OLS</td>       <th>  Adj. R-squared:    </th> <td>  -0.055</td>\n",
       "</tr>\n",
       "<tr>\n",
       "  <th>Method:</th>             <td>Least Squares</td>  <th>  F-statistic:       </th> <td>0.001799</td>\n",
       "</tr>\n",
       "<tr>\n",
       "  <th>Date:</th>             <td>Tue, 08 Nov 2016</td> <th>  Prob (F-statistic):</th>  <td> 0.967</td> \n",
       "</tr>\n",
       "<tr>\n",
       "  <th>Time:</th>                 <td>13:15:11</td>     <th>  Log-Likelihood:    </th> <td> -31.688</td>\n",
       "</tr>\n",
       "<tr>\n",
       "  <th>No. Observations:</th>      <td>    20</td>      <th>  AIC:               </th> <td>   67.38</td>\n",
       "</tr>\n",
       "<tr>\n",
       "  <th>Df Residuals:</th>          <td>    18</td>      <th>  BIC:               </th> <td>   69.37</td>\n",
       "</tr>\n",
       "<tr>\n",
       "  <th>Df Model:</th>              <td>     1</td>      <th>                     </th>     <td> </td>   \n",
       "</tr>\n",
       "<tr>\n",
       "  <th>Covariance Type:</th>      <td>nonrobust</td>    <th>                     </th>     <td> </td>   \n",
       "</tr>\n",
       "</table>\n",
       "<table class=\"simpletable\">\n",
       "<tr>\n",
       "      <td></td>         <th>coef</th>     <th>std err</th>      <th>t</th>      <th>P>|t|</th> <th>[95.0% Conf. Int.]</th> \n",
       "</tr>\n",
       "<tr>\n",
       "  <th>Intercept</th> <td>   -0.2240</td> <td>    0.279</td> <td>   -0.803</td> <td> 0.432</td> <td>   -0.810     0.362</td>\n",
       "</tr>\n",
       "<tr>\n",
       "  <th>x1</th>        <td>   -0.0116</td> <td>    0.274</td> <td>   -0.042</td> <td> 0.967</td> <td>   -0.588     0.565</td>\n",
       "</tr>\n",
       "</table>\n",
       "<table class=\"simpletable\">\n",
       "<tr>\n",
       "  <th>Omnibus:</th>       <td> 3.987</td> <th>  Durbin-Watson:     </th> <td>   2.189</td>\n",
       "</tr>\n",
       "<tr>\n",
       "  <th>Prob(Omnibus):</th> <td> 0.136</td> <th>  Jarque-Bera (JB):  </th> <td>   1.511</td>\n",
       "</tr>\n",
       "<tr>\n",
       "  <th>Skew:</th>          <td> 0.216</td> <th>  Prob(JB):          </th> <td>   0.470</td>\n",
       "</tr>\n",
       "<tr>\n",
       "  <th>Kurtosis:</th>      <td> 1.724</td> <th>  Cond. No.          </th> <td>    1.07</td>\n",
       "</tr>\n",
       "</table>"
      ],
      "text/plain": [
       "<class 'statsmodels.iolib.summary.Summary'>\n",
       "\"\"\"\n",
       "                            OLS Regression Results                            \n",
       "==============================================================================\n",
       "Dep. Variable:                      y   R-squared:                       0.000\n",
       "Model:                            OLS   Adj. R-squared:                 -0.055\n",
       "Method:                 Least Squares   F-statistic:                  0.001799\n",
       "Date:                Tue, 08 Nov 2016   Prob (F-statistic):              0.967\n",
       "Time:                        13:15:11   Log-Likelihood:                -31.688\n",
       "No. Observations:                  20   AIC:                             67.38\n",
       "Df Residuals:                      18   BIC:                             69.37\n",
       "Df Model:                           1                                         \n",
       "Covariance Type:            nonrobust                                         \n",
       "==============================================================================\n",
       "                 coef    std err          t      P>|t|      [95.0% Conf. Int.]\n",
       "------------------------------------------------------------------------------\n",
       "Intercept     -0.2240      0.279     -0.803      0.432        -0.810     0.362\n",
       "x1            -0.0116      0.274     -0.042      0.967        -0.588     0.565\n",
       "==============================================================================\n",
       "Omnibus:                        3.987   Durbin-Watson:                   2.189\n",
       "Prob(Omnibus):                  0.136   Jarque-Bera (JB):                1.511\n",
       "Skew:                           0.216   Prob(JB):                        0.470\n",
       "Kurtosis:                       1.724   Cond. No.                         1.07\n",
       "==============================================================================\n",
       "\n",
       "Warnings:\n",
       "[1] Standard Errors assume that the covariance matrix of the errors is correctly specified.\n",
       "\"\"\""
      ]
     },
     "execution_count": 47,
     "metadata": {},
     "output_type": "execute_result"
    }
   ],
   "source": [
    "smf.ols('y ~ x1', data=df).fit().summary()"
   ]
  },
  {
   "cell_type": "code",
   "execution_count": 49,
   "metadata": {
    "collapsed": false
   },
   "outputs": [
    {
     "data": {
      "text/html": [
       "<table class=\"simpletable\">\n",
       "<caption>OLS Regression Results</caption>\n",
       "<tr>\n",
       "  <th>Dep. Variable:</th>            <td>y</td>        <th>  R-squared:         </th> <td>   0.029</td>\n",
       "</tr>\n",
       "<tr>\n",
       "  <th>Model:</th>                   <td>OLS</td>       <th>  Adj. R-squared:    </th> <td>  -0.153</td>\n",
       "</tr>\n",
       "<tr>\n",
       "  <th>Method:</th>             <td>Least Squares</td>  <th>  F-statistic:       </th> <td>  0.1617</td>\n",
       "</tr>\n",
       "<tr>\n",
       "  <th>Date:</th>             <td>Tue, 08 Nov 2016</td> <th>  Prob (F-statistic):</th>  <td> 0.921</td> \n",
       "</tr>\n",
       "<tr>\n",
       "  <th>Time:</th>                 <td>13:15:14</td>     <th>  Log-Likelihood:    </th> <td> -31.391</td>\n",
       "</tr>\n",
       "<tr>\n",
       "  <th>No. Observations:</th>      <td>    20</td>      <th>  AIC:               </th> <td>   70.78</td>\n",
       "</tr>\n",
       "<tr>\n",
       "  <th>Df Residuals:</th>          <td>    16</td>      <th>  BIC:               </th> <td>   74.76</td>\n",
       "</tr>\n",
       "<tr>\n",
       "  <th>Df Model:</th>              <td>     3</td>      <th>                     </th>     <td> </td>   \n",
       "</tr>\n",
       "<tr>\n",
       "  <th>Covariance Type:</th>      <td>nonrobust</td>    <th>                     </th>     <td> </td>   \n",
       "</tr>\n",
       "</table>\n",
       "<table class=\"simpletable\">\n",
       "<tr>\n",
       "      <td></td>         <th>coef</th>     <th>std err</th>      <th>t</th>      <th>P>|t|</th> <th>[95.0% Conf. Int.]</th> \n",
       "</tr>\n",
       "<tr>\n",
       "  <th>Intercept</th> <td>   -0.2793</td> <td>    0.316</td> <td>   -0.883</td> <td> 0.390</td> <td>   -0.950     0.391</td>\n",
       "</tr>\n",
       "<tr>\n",
       "  <th>x1</th>        <td>   -0.0348</td> <td>    0.295</td> <td>   -0.118</td> <td> 0.908</td> <td>   -0.660     0.591</td>\n",
       "</tr>\n",
       "<tr>\n",
       "  <th>x2</th>        <td>   -0.1724</td> <td>    0.301</td> <td>   -0.573</td> <td> 0.574</td> <td>   -0.810     0.465</td>\n",
       "</tr>\n",
       "<tr>\n",
       "  <th>x3</th>        <td>    0.1322</td> <td>    0.300</td> <td>    0.440</td> <td> 0.666</td> <td>   -0.504     0.768</td>\n",
       "</tr>\n",
       "</table>\n",
       "<table class=\"simpletable\">\n",
       "<tr>\n",
       "  <th>Omnibus:</th>       <td> 2.618</td> <th>  Durbin-Watson:     </th> <td>   2.116</td>\n",
       "</tr>\n",
       "<tr>\n",
       "  <th>Prob(Omnibus):</th> <td> 0.270</td> <th>  Jarque-Bera (JB):  </th> <td>   1.413</td>\n",
       "</tr>\n",
       "<tr>\n",
       "  <th>Skew:</th>          <td> 0.335</td> <th>  Prob(JB):          </th> <td>   0.493</td>\n",
       "</tr>\n",
       "<tr>\n",
       "  <th>Kurtosis:</th>      <td> 1.883</td> <th>  Cond. No.          </th> <td>    1.61</td>\n",
       "</tr>\n",
       "</table>"
      ],
      "text/plain": [
       "<class 'statsmodels.iolib.summary.Summary'>\n",
       "\"\"\"\n",
       "                            OLS Regression Results                            \n",
       "==============================================================================\n",
       "Dep. Variable:                      y   R-squared:                       0.029\n",
       "Model:                            OLS   Adj. R-squared:                 -0.153\n",
       "Method:                 Least Squares   F-statistic:                    0.1617\n",
       "Date:                Tue, 08 Nov 2016   Prob (F-statistic):              0.921\n",
       "Time:                        13:15:14   Log-Likelihood:                -31.391\n",
       "No. Observations:                  20   AIC:                             70.78\n",
       "Df Residuals:                      16   BIC:                             74.76\n",
       "Df Model:                           3                                         \n",
       "Covariance Type:            nonrobust                                         \n",
       "==============================================================================\n",
       "                 coef    std err          t      P>|t|      [95.0% Conf. Int.]\n",
       "------------------------------------------------------------------------------\n",
       "Intercept     -0.2793      0.316     -0.883      0.390        -0.950     0.391\n",
       "x1            -0.0348      0.295     -0.118      0.908        -0.660     0.591\n",
       "x2            -0.1724      0.301     -0.573      0.574        -0.810     0.465\n",
       "x3             0.1322      0.300      0.440      0.666        -0.504     0.768\n",
       "==============================================================================\n",
       "Omnibus:                        2.618   Durbin-Watson:                   2.116\n",
       "Prob(Omnibus):                  0.270   Jarque-Bera (JB):                1.413\n",
       "Skew:                           0.335   Prob(JB):                        0.493\n",
       "Kurtosis:                       1.883   Cond. No.                         1.61\n",
       "==============================================================================\n",
       "\n",
       "Warnings:\n",
       "[1] Standard Errors assume that the covariance matrix of the errors is correctly specified.\n",
       "\"\"\""
      ]
     },
     "execution_count": 49,
     "metadata": {},
     "output_type": "execute_result"
    }
   ],
   "source": [
    "smf.ols('y ~ x1 + x2 + x3', data=df).fit().summary()"
   ]
  },
  {
   "cell_type": "code",
   "execution_count": 50,
   "metadata": {
    "collapsed": false
   },
   "outputs": [
    {
     "data": {
      "text/html": [
       "<table class=\"simpletable\">\n",
       "<caption>OLS Regression Results</caption>\n",
       "<tr>\n",
       "  <th>Dep. Variable:</th>            <td>y</td>        <th>  R-squared:         </th> <td>   0.198</td>\n",
       "</tr>\n",
       "<tr>\n",
       "  <th>Model:</th>                   <td>OLS</td>       <th>  Adj. R-squared:    </th> <td>  -0.269</td>\n",
       "</tr>\n",
       "<tr>\n",
       "  <th>Method:</th>             <td>Least Squares</td>  <th>  F-statistic:       </th> <td>  0.4242</td>\n",
       "</tr>\n",
       "<tr>\n",
       "  <th>Date:</th>             <td>Tue, 08 Nov 2016</td> <th>  Prob (F-statistic):</th>  <td> 0.869</td> \n",
       "</tr>\n",
       "<tr>\n",
       "  <th>Time:</th>                 <td>13:15:19</td>     <th>  Log-Likelihood:    </th> <td> -29.478</td>\n",
       "</tr>\n",
       "<tr>\n",
       "  <th>No. Observations:</th>      <td>    20</td>      <th>  AIC:               </th> <td>   74.96</td>\n",
       "</tr>\n",
       "<tr>\n",
       "  <th>Df Residuals:</th>          <td>    12</td>      <th>  BIC:               </th> <td>   82.92</td>\n",
       "</tr>\n",
       "<tr>\n",
       "  <th>Df Model:</th>              <td>     7</td>      <th>                     </th>     <td> </td>   \n",
       "</tr>\n",
       "<tr>\n",
       "  <th>Covariance Type:</th>      <td>nonrobust</td>    <th>                     </th>     <td> </td>   \n",
       "</tr>\n",
       "</table>\n",
       "<table class=\"simpletable\">\n",
       "<tr>\n",
       "      <td></td>         <th>coef</th>     <th>std err</th>      <th>t</th>      <th>P>|t|</th> <th>[95.0% Conf. Int.]</th> \n",
       "</tr>\n",
       "<tr>\n",
       "  <th>Intercept</th> <td>   -0.3004</td> <td>    0.355</td> <td>   -0.845</td> <td> 0.414</td> <td>   -1.075     0.474</td>\n",
       "</tr>\n",
       "<tr>\n",
       "  <th>x1</th>        <td>    0.0785</td> <td>    0.343</td> <td>    0.228</td> <td> 0.823</td> <td>   -0.670     0.827</td>\n",
       "</tr>\n",
       "<tr>\n",
       "  <th>x2</th>        <td>   -0.0861</td> <td>    0.380</td> <td>   -0.226</td> <td> 0.825</td> <td>   -0.915     0.742</td>\n",
       "</tr>\n",
       "<tr>\n",
       "  <th>x3</th>        <td>    0.3023</td> <td>    0.466</td> <td>    0.649</td> <td> 0.529</td> <td>   -0.713     1.318</td>\n",
       "</tr>\n",
       "<tr>\n",
       "  <th>x4</th>        <td>   -0.3552</td> <td>    0.328</td> <td>   -1.081</td> <td> 0.301</td> <td>   -1.071     0.360</td>\n",
       "</tr>\n",
       "<tr>\n",
       "  <th>x5</th>        <td>   -0.2934</td> <td>    0.391</td> <td>   -0.750</td> <td> 0.468</td> <td>   -1.146     0.559</td>\n",
       "</tr>\n",
       "<tr>\n",
       "  <th>x6</th>        <td>    0.0145</td> <td>    0.537</td> <td>    0.027</td> <td> 0.979</td> <td>   -1.156     1.185</td>\n",
       "</tr>\n",
       "<tr>\n",
       "  <th>x7</th>        <td>   -0.1775</td> <td>    0.346</td> <td>   -0.514</td> <td> 0.617</td> <td>   -0.931     0.576</td>\n",
       "</tr>\n",
       "</table>\n",
       "<table class=\"simpletable\">\n",
       "<tr>\n",
       "  <th>Omnibus:</th>       <td> 1.104</td> <th>  Durbin-Watson:     </th> <td>   2.034</td>\n",
       "</tr>\n",
       "<tr>\n",
       "  <th>Prob(Omnibus):</th> <td> 0.576</td> <th>  Jarque-Bera (JB):  </th> <td>   0.997</td>\n",
       "</tr>\n",
       "<tr>\n",
       "  <th>Skew:</th>          <td> 0.381</td> <th>  Prob(JB):          </th> <td>   0.607</td>\n",
       "</tr>\n",
       "<tr>\n",
       "  <th>Kurtosis:</th>      <td> 2.215</td> <th>  Cond. No.          </th> <td>    3.35</td>\n",
       "</tr>\n",
       "</table>"
      ],
      "text/plain": [
       "<class 'statsmodels.iolib.summary.Summary'>\n",
       "\"\"\"\n",
       "                            OLS Regression Results                            \n",
       "==============================================================================\n",
       "Dep. Variable:                      y   R-squared:                       0.198\n",
       "Model:                            OLS   Adj. R-squared:                 -0.269\n",
       "Method:                 Least Squares   F-statistic:                    0.4242\n",
       "Date:                Tue, 08 Nov 2016   Prob (F-statistic):              0.869\n",
       "Time:                        13:15:19   Log-Likelihood:                -29.478\n",
       "No. Observations:                  20   AIC:                             74.96\n",
       "Df Residuals:                      12   BIC:                             82.92\n",
       "Df Model:                           7                                         \n",
       "Covariance Type:            nonrobust                                         \n",
       "==============================================================================\n",
       "                 coef    std err          t      P>|t|      [95.0% Conf. Int.]\n",
       "------------------------------------------------------------------------------\n",
       "Intercept     -0.3004      0.355     -0.845      0.414        -1.075     0.474\n",
       "x1             0.0785      0.343      0.228      0.823        -0.670     0.827\n",
       "x2            -0.0861      0.380     -0.226      0.825        -0.915     0.742\n",
       "x3             0.3023      0.466      0.649      0.529        -0.713     1.318\n",
       "x4            -0.3552      0.328     -1.081      0.301        -1.071     0.360\n",
       "x5            -0.2934      0.391     -0.750      0.468        -1.146     0.559\n",
       "x6             0.0145      0.537      0.027      0.979        -1.156     1.185\n",
       "x7            -0.1775      0.346     -0.514      0.617        -0.931     0.576\n",
       "==============================================================================\n",
       "Omnibus:                        1.104   Durbin-Watson:                   2.034\n",
       "Prob(Omnibus):                  0.576   Jarque-Bera (JB):                0.997\n",
       "Skew:                           0.381   Prob(JB):                        0.607\n",
       "Kurtosis:                       2.215   Cond. No.                         3.35\n",
       "==============================================================================\n",
       "\n",
       "Warnings:\n",
       "[1] Standard Errors assume that the covariance matrix of the errors is correctly specified.\n",
       "\"\"\""
      ]
     },
     "execution_count": 50,
     "metadata": {},
     "output_type": "execute_result"
    }
   ],
   "source": [
    "smf.ols('y ~ x1 + x2 + x3 + x4 + x5 + x6 + x7', data=df).fit().summary()"
   ]
  }
 ],
 "metadata": {
  "anaconda-cloud": {},
  "kernelspec": {
   "display_name": "Python [py35]",
   "language": "python",
   "name": "Python [py35]"
  },
  "language_info": {
   "codemirror_mode": {
    "name": "ipython",
    "version": 3
   },
   "file_extension": ".py",
   "mimetype": "text/x-python",
   "name": "python",
   "nbconvert_exporter": "python",
   "pygments_lexer": "ipython3",
   "version": "3.5.2"
  }
 },
 "nbformat": 4,
 "nbformat_minor": 0
}
