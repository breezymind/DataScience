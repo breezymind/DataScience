{
 "cells": [
  {
   "cell_type": "markdown",
   "metadata": {},
   "source": [
    "# Tidy Data"
   ]
  },
  {
   "cell_type": "code",
   "execution_count": 1,
   "metadata": {
    "collapsed": false
   },
   "outputs": [
    {
     "name": "stderr",
     "output_type": "stream",
     "text": [
      "Warning message:\n",
      ": package 'tidyverse' was built under R version 3.3.2Loading tidyverse: ggplot2\n",
      "Loading tidyverse: tibble\n",
      "Loading tidyverse: tidyr\n",
      "Loading tidyverse: readr\n",
      "Loading tidyverse: purrr\n",
      "Loading tidyverse: dplyr\n",
      "Warning message:\n",
      ": package 'readr' was built under R version 3.3.2Warning message:\n",
      ": package 'purrr' was built under R version 3.3.2Conflicts with tidy packages ---------------------------------------------------\n",
      "filter(): dplyr, stats\n",
      "lag():    dplyr, stats\n"
     ]
    }
   ],
   "source": [
    "library(tidyverse)"
   ]
  },
  {
   "cell_type": "code",
   "execution_count": 2,
   "metadata": {
    "collapsed": false
   },
   "outputs": [
    {
     "data": {
      "text/html": [
       "<table>\n",
       "<thead><tr><th></th><th scope=col>country</th><th scope=col>year</th><th scope=col>cases</th><th scope=col>population</th></tr></thead>\n",
       "<tbody>\n",
       "\t<tr><th scope=row>1</th><td>Afghanistan</td><td>1999       </td><td>745        </td><td>19987071   </td></tr>\n",
       "\t<tr><th scope=row>2</th><td>Afghanistan</td><td>2000       </td><td>2666       </td><td>20595360   </td></tr>\n",
       "\t<tr><th scope=row>3</th><td>Brazil   </td><td>1999     </td><td>37737    </td><td>172006362</td></tr>\n",
       "\t<tr><th scope=row>4</th><td>Brazil   </td><td>2000     </td><td>80488    </td><td>174504898</td></tr>\n",
       "\t<tr><th scope=row>5</th><td>China     </td><td>1999      </td><td>212258    </td><td>1272915272</td></tr>\n",
       "\t<tr><th scope=row>6</th><td>China     </td><td>2000      </td><td>213766    </td><td>1280428583</td></tr>\n",
       "</tbody>\n",
       "</table>\n"
      ],
      "text/latex": [
       "\\begin{tabular}{r|llll}\n",
       "  & country & year & cases & population\\\\\n",
       "\\hline\n",
       "\t1 & Afghanistan & 1999        & 745         & 19987071   \\\\\n",
       "\t2 & Afghanistan & 2000        & 2666        & 20595360   \\\\\n",
       "\t3 & Brazil    & 1999      & 37737     & 172006362\\\\\n",
       "\t4 & Brazil    & 2000      & 80488     & 174504898\\\\\n",
       "\t5 & China      & 1999       & 212258     & 1272915272\\\\\n",
       "\t6 & China      & 2000       & 213766     & 1280428583\\\\\n",
       "\\end{tabular}\n"
      ],
      "text/plain": [
       "      country year  cases population\n",
       "1 Afghanistan 1999    745   19987071\n",
       "2 Afghanistan 2000   2666   20595360\n",
       "3      Brazil 1999  37737  172006362\n",
       "4      Brazil 2000  80488  174504898\n",
       "5       China 1999 212258 1272915272\n",
       "6       China 2000 213766 1280428583"
      ]
     },
     "metadata": {},
     "output_type": "display_data"
    }
   ],
   "source": [
    "table1"
   ]
  },
  {
   "cell_type": "code",
   "execution_count": 4,
   "metadata": {
    "collapsed": false
   },
   "outputs": [
    {
     "data": {
      "text/html": [
       "<table>\n",
       "<thead><tr><th></th><th scope=col>country</th><th scope=col>year</th><th scope=col>cases</th><th scope=col>population</th><th scope=col>rate</th></tr></thead>\n",
       "<tbody>\n",
       "\t<tr><th scope=row>1</th><td>Afghanistan      </td><td>1999             </td><td>745              </td><td>19987071         </td><td>0.372740958392553</td></tr>\n",
       "\t<tr><th scope=row>2</th><td>Afghanistan     </td><td>2000            </td><td>2666            </td><td>20595360        </td><td>1.29446632639585</td></tr>\n",
       "\t<tr><th scope=row>3</th><td>Brazil          </td><td>1999            </td><td>37737           </td><td>172006362       </td><td>2.19393047799011</td></tr>\n",
       "\t<tr><th scope=row>4</th><td>Brazil          </td><td>2000            </td><td>80488           </td><td>174504898       </td><td>4.61236337331918</td></tr>\n",
       "\t<tr><th scope=row>5</th><td>China           </td><td>1999            </td><td>212258          </td><td>1272915272      </td><td>1.66749511667419</td></tr>\n",
       "\t<tr><th scope=row>6</th><td>China          </td><td>2000           </td><td>213766         </td><td>1280428583     </td><td>1.6694878795907</td></tr>\n",
       "</tbody>\n",
       "</table>\n"
      ],
      "text/latex": [
       "\\begin{tabular}{r|lllll}\n",
       "  & country & year & cases & population & rate\\\\\n",
       "\\hline\n",
       "\t1 & Afghanistan       & 1999              & 745               & 19987071          & 0.372740958392553\\\\\n",
       "\t2 & Afghanistan      & 2000             & 2666             & 20595360         & 1.29446632639585\\\\\n",
       "\t3 & Brazil           & 1999             & 37737            & 172006362        & 2.19393047799011\\\\\n",
       "\t4 & Brazil           & 2000             & 80488            & 174504898        & 4.61236337331918\\\\\n",
       "\t5 & China            & 1999             & 212258           & 1272915272       & 1.66749511667419\\\\\n",
       "\t6 & China           & 2000            & 213766          & 1280428583      & 1.6694878795907\\\\\n",
       "\\end{tabular}\n"
      ],
      "text/plain": [
       "      country year  cases population     rate\n",
       "1 Afghanistan 1999    745   19987071 0.372741\n",
       "2 Afghanistan 2000   2666   20595360 1.294466\n",
       "3      Brazil 1999  37737  172006362 2.193930\n",
       "4      Brazil 2000  80488  174504898 4.612363\n",
       "5       China 1999 212258 1272915272 1.667495\n",
       "6       China 2000 213766 1280428583 1.669488"
      ]
     },
     "metadata": {},
     "output_type": "display_data"
    }
   ],
   "source": [
    "table1 %>% \n",
    "  mutate(rate = cases / population * 10000)"
   ]
  },
  {
   "cell_type": "code",
   "execution_count": 7,
   "metadata": {
    "collapsed": false
   },
   "outputs": [
    {
     "data": {
      "text/html": [
       "<table>\n",
       "<thead><tr><th></th><th scope=col>year</th><th scope=col>n</th></tr></thead>\n",
       "<tbody>\n",
       "\t<tr><th scope=row>1</th><td>  1999</td><td>250740</td></tr>\n",
       "\t<tr><th scope=row>2</th><td>  2000</td><td>296920</td></tr>\n",
       "</tbody>\n",
       "</table>\n"
      ],
      "text/latex": [
       "\\begin{tabular}{r|ll}\n",
       "  & year & n\\\\\n",
       "\\hline\n",
       "\t1 &   1999 & 250740\\\\\n",
       "\t2 &   2000 & 296920\\\\\n",
       "\\end{tabular}\n"
      ],
      "text/plain": [
       "  year      n\n",
       "1 1999 250740\n",
       "2 2000 296920"
      ]
     },
     "metadata": {},
     "output_type": "display_data"
    }
   ],
   "source": [
    "table1 %>% \n",
    "  count(year, wt = cases)"
   ]
  },
  {
   "cell_type": "code",
   "execution_count": 10,
   "metadata": {
    "collapsed": false
   },
   "outputs": [
    {
     "data": {},
     "metadata": {},
     "output_type": "display_data"
    },
    {
     "data": {
      "image/png": "[encoded data removed]",
      "text/plain": [
       "plot without title"
      ]
     },
     "metadata": {},
     "output_type": "display_data"
    }
   ],
   "source": [
    "options(repr.plot.height=3)\n",
    "ggplot(table1, aes(year, cases)) + \n",
    "  geom_line(aes(group = country), colour = \"grey50\") + \n",
    "  geom_point(aes(colour = country))"
   ]
  },
  {
   "cell_type": "markdown",
   "metadata": {},
   "source": [
    "### 12.3.1 Gathering "
   ]
  },
  {
   "cell_type": "code",
   "execution_count": 11,
   "metadata": {
    "collapsed": false
   },
   "outputs": [
    {
     "data": {
      "text/html": [
       "<table>\n",
       "<thead><tr><th></th><th scope=col>country</th><th scope=col>year</th><th scope=col>cases</th></tr></thead>\n",
       "<tbody>\n",
       "\t<tr><th scope=row>1</th><td>Afghanistan</td><td>1999       </td><td>745        </td></tr>\n",
       "\t<tr><th scope=row>2</th><td>Brazil</td><td>1999  </td><td>37737 </td></tr>\n",
       "\t<tr><th scope=row>3</th><td>China </td><td>1999  </td><td>212258</td></tr>\n",
       "\t<tr><th scope=row>4</th><td>Afghanistan</td><td>2000       </td><td>2666       </td></tr>\n",
       "\t<tr><th scope=row>5</th><td>Brazil</td><td>2000  </td><td>80488 </td></tr>\n",
       "\t<tr><th scope=row>6</th><td>China </td><td>2000  </td><td>213766</td></tr>\n",
       "</tbody>\n",
       "</table>\n"
      ],
      "text/latex": [
       "\\begin{tabular}{r|lll}\n",
       "  & country & year & cases\\\\\n",
       "\\hline\n",
       "\t1 & Afghanistan & 1999        & 745        \\\\\n",
       "\t2 & Brazil & 1999   & 37737 \\\\\n",
       "\t3 & China  & 1999   & 212258\\\\\n",
       "\t4 & Afghanistan & 2000        & 2666       \\\\\n",
       "\t5 & Brazil & 2000   & 80488 \\\\\n",
       "\t6 & China  & 2000   & 213766\\\\\n",
       "\\end{tabular}\n"
      ],
      "text/plain": [
       "      country year  cases\n",
       "1 Afghanistan 1999    745\n",
       "2      Brazil 1999  37737\n",
       "3       China 1999 212258\n",
       "4 Afghanistan 2000   2666\n",
       "5      Brazil 2000  80488\n",
       "6       China 2000 213766"
      ]
     },
     "metadata": {},
     "output_type": "display_data"
    }
   ],
   "source": [
    "table4a %>% \n",
    "  gather(`1999`, `2000`, key = \"year\", value = \"cases\")"
   ]
  },
  {
   "cell_type": "code",
   "execution_count": 12,
   "metadata": {
    "collapsed": false
   },
   "outputs": [
    {
     "data": {
      "text/html": [
       "<table>\n",
       "<thead><tr><th></th><th scope=col>country</th><th scope=col>year</th><th scope=col>population</th></tr></thead>\n",
       "<tbody>\n",
       "\t<tr><th scope=row>1</th><td>Afghanistan</td><td>1999       </td><td>19987071   </td></tr>\n",
       "\t<tr><th scope=row>2</th><td>Brazil   </td><td>1999     </td><td>172006362</td></tr>\n",
       "\t<tr><th scope=row>3</th><td>China     </td><td>1999      </td><td>1272915272</td></tr>\n",
       "\t<tr><th scope=row>4</th><td>Afghanistan</td><td>2000       </td><td>20595360   </td></tr>\n",
       "\t<tr><th scope=row>5</th><td>Brazil   </td><td>2000     </td><td>174504898</td></tr>\n",
       "\t<tr><th scope=row>6</th><td>China     </td><td>2000      </td><td>1280428583</td></tr>\n",
       "</tbody>\n",
       "</table>\n"
      ],
      "text/latex": [
       "\\begin{tabular}{r|lll}\n",
       "  & country & year & population\\\\\n",
       "\\hline\n",
       "\t1 & Afghanistan & 1999        & 19987071   \\\\\n",
       "\t2 & Brazil    & 1999      & 172006362\\\\\n",
       "\t3 & China      & 1999       & 1272915272\\\\\n",
       "\t4 & Afghanistan & 2000        & 20595360   \\\\\n",
       "\t5 & Brazil    & 2000      & 174504898\\\\\n",
       "\t6 & China      & 2000       & 1280428583\\\\\n",
       "\\end{tabular}\n"
      ],
      "text/plain": [
       "      country year population\n",
       "1 Afghanistan 1999   19987071\n",
       "2      Brazil 1999  172006362\n",
       "3       China 1999 1272915272\n",
       "4 Afghanistan 2000   20595360\n",
       "5      Brazil 2000  174504898\n",
       "6       China 2000 1280428583"
      ]
     },
     "metadata": {},
     "output_type": "display_data"
    }
   ],
   "source": [
    "table4b %>% \n",
    "  gather(`1999`, `2000`, key = \"year\", value = \"population\")"
   ]
  },
  {
   "cell_type": "code",
   "execution_count": 13,
   "metadata": {
    "collapsed": false
   },
   "outputs": [
    {
     "name": "stderr",
     "output_type": "stream",
     "text": [
      "Joining, by = c(\"country\", \"year\")\n"
     ]
    },
    {
     "data": {
      "text/html": [
       "<table>\n",
       "<thead><tr><th></th><th scope=col>country</th><th scope=col>year</th><th scope=col>cases</th><th scope=col>population</th></tr></thead>\n",
       "<tbody>\n",
       "\t<tr><th scope=row>1</th><td>Afghanistan</td><td>1999       </td><td>745        </td><td>19987071   </td></tr>\n",
       "\t<tr><th scope=row>2</th><td>Brazil   </td><td>1999     </td><td>37737    </td><td>172006362</td></tr>\n",
       "\t<tr><th scope=row>3</th><td>China     </td><td>1999      </td><td>212258    </td><td>1272915272</td></tr>\n",
       "\t<tr><th scope=row>4</th><td>Afghanistan</td><td>2000       </td><td>2666       </td><td>20595360   </td></tr>\n",
       "\t<tr><th scope=row>5</th><td>Brazil   </td><td>2000     </td><td>80488    </td><td>174504898</td></tr>\n",
       "\t<tr><th scope=row>6</th><td>China     </td><td>2000      </td><td>213766    </td><td>1280428583</td></tr>\n",
       "</tbody>\n",
       "</table>\n"
      ],
      "text/latex": [
       "\\begin{tabular}{r|llll}\n",
       "  & country & year & cases & population\\\\\n",
       "\\hline\n",
       "\t1 & Afghanistan & 1999        & 745         & 19987071   \\\\\n",
       "\t2 & Brazil    & 1999      & 37737     & 172006362\\\\\n",
       "\t3 & China      & 1999       & 212258     & 1272915272\\\\\n",
       "\t4 & Afghanistan & 2000        & 2666        & 20595360   \\\\\n",
       "\t5 & Brazil    & 2000      & 80488     & 174504898\\\\\n",
       "\t6 & China      & 2000       & 213766     & 1280428583\\\\\n",
       "\\end{tabular}\n"
      ],
      "text/plain": [
       "      country year  cases population\n",
       "1 Afghanistan 1999    745   19987071\n",
       "2      Brazil 1999  37737  172006362\n",
       "3       China 1999 212258 1272915272\n",
       "4 Afghanistan 2000   2666   20595360\n",
       "5      Brazil 2000  80488  174504898\n",
       "6       China 2000 213766 1280428583"
      ]
     },
     "metadata": {},
     "output_type": "display_data"
    }
   ],
   "source": [
    "tidy4a <- table4a %>% \n",
    "  gather(`1999`, `2000`, key = \"year\", value = \"cases\")\n",
    "tidy4b <- table4b %>% \n",
    "  gather(`1999`, `2000`, key = \"year\", value = \"population\")\n",
    "left_join(tidy4a, tidy4b)"
   ]
  },
  {
   "cell_type": "code",
   "execution_count": null,
   "metadata": {
    "collapsed": true
   },
   "outputs": [],
   "source": []
  }
 ],
 "metadata": {
  "kernelspec": {
   "display_name": "R 3.3",
   "language": "R",
   "name": "ir33"
  },
  "language_info": {
   "codemirror_mode": "r",
   "file_extension": ".r",
   "mimetype": "text/x-r-source",
   "name": "R",
   "pygments_lexer": "r",
   "version": "3.3.1"
  }
 },
 "nbformat": 4,
 "nbformat_minor": 0
}
