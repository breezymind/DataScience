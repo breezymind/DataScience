{
 "cells": [
  {
   "cell_type": "markdown",
   "metadata": {},
   "source": [
    "# Transformation of Data "
   ]
  },
  {
   "cell_type": "code",
   "execution_count": 1,
   "metadata": {
    "collapsed": false
   },
   "outputs": [
    {
     "name": "stderr",
     "output_type": "stream",
     "text": [
      "Loading tidyverse: ggplot2\n",
      "Loading tidyverse: tibble\n",
      "Loading tidyverse: tidyr\n",
      "Loading tidyverse: readr\n",
      "Loading tidyverse: purrr\n",
      "Loading tidyverse: dplyr\n",
      "Warning message:\n",
      ": package 'ggplot2' was built under R version 3.3.2Warning message:\n",
      ": package 'tidyr' was built under R version 3.3.2Warning message:\n",
      ": package 'readr' was built under R version 3.3.2Warning message:\n",
      ": package 'purrr' was built under R version 3.3.2Conflicts with tidy packages ---------------------------------------------------\n",
      "filter(): dplyr, stats\n",
      "lag():    dplyr, stats\n",
      "Warning message:\n",
      ": package 'nycflights13' was built under R version 3.3.2\n",
      "Attaching package: 'nycflights13'\n",
      "\n",
      "The following object is masked _by_ '.GlobalEnv':\n",
      "\n",
      "    flights\n",
      "\n",
      "Warning message:\n",
      ": package 'gridExtra' was built under R version 3.3.2\n",
      "Attaching package: 'gridExtra'\n",
      "\n",
      "The following object is masked from 'package:dplyr':\n",
      "\n",
      "    combine\n",
      "\n"
     ]
    }
   ],
   "source": [
    "library(tidyverse)\n",
    "library(nycflights13)\n",
    "library(gridExtra)"
   ]
  },
  {
   "cell_type": "markdown",
   "metadata": {},
   "source": [
    "# 5. Data Transformation \n",
    "## 5.1.3 dplyr basics\n",
    "### In this chapter you are going to learn the five key dplyr functions that allow you to solve the vast majority of your data manipulation challenges:\n",
    "   \n",
    " - Pick observations by their values (filter()).\n",
    " - Reorder the rows (arrange()).\n",
    " - Pick variables by their names (select()).\n",
    " - Create new variables with functions of existing variables (mutate()).\n",
    " - Collapse many values down to a single summary (summarise()).\n"
   ]
  },
  {
   "cell_type": "code",
   "execution_count": 2,
   "metadata": {
    "collapsed": false
   },
   "outputs": [
    {
     "data": {
      "text/plain": [
       "  year month day dep_time sched_dep_time dep_delay arr_time sched_arr_time\n",
       "1 2013     1   1      517            515         2      830            819\n",
       "2 2013     1   1      533            529         4      850            830\n",
       "3 2013     1   1      542            540         2      923            850\n",
       "4 2013     1   1      544            545        -1     1004           1022\n",
       "5 2013     1   1      554            600        -6      812            837\n",
       "6 2013     1   1      554            558        -4      740            728\n",
       "  arr_delay carrier flight tailnum origin dest air_time distance hour minute\n",
       "1        11      UA   1545  N14228    EWR  IAH      227     1400    5     15\n",
       "2        20      UA   1714  N24211    LGA  IAH      227     1416    5     29\n",
       "3        33      AA   1141  N619AA    JFK  MIA      160     1089    5     40\n",
       "4       -18      B6    725  N804JB    JFK  BQN      183     1576    5     45\n",
       "5       -25      DL    461  N668DN    LGA  ATL      116      762    6      0\n",
       "6        12      UA   1696  N39463    EWR  ORD      150      719    5     58\n",
       "            time_hour name\n",
       "1 2013-01-01 05:00:00    1\n",
       "2 2013-01-01 05:00:00    2\n",
       "3 2013-01-01 05:00:00    3\n",
       "4 2013-01-01 05:00:00    4\n",
       "5 2013-01-01 06:00:00    5\n",
       "6 2013-01-01 05:00:00    6"
      ]
     },
     "metadata": {},
     "output_type": "display_data"
    }
   ],
   "source": [
    "head(flights) # 2013년 nyc에 이착률 비행기."
   ]
  },
  {
   "cell_type": "markdown",
   "metadata": {},
   "source": [
    "### 5.2 Filter rows with filter()\n",
    " - data.table을 데이터 규모가 큰 경우 dplyr보단 더 많이 사용하지만 불편하다."
   ]
  },
  {
   "cell_type": "code",
   "execution_count": 3,
   "metadata": {
    "collapsed": false
   },
   "outputs": [
    {
     "data": {
      "text/plain": [
       "  year month day dep_time sched_dep_time dep_delay arr_time sched_arr_time\n",
       "1 2013     1   1      517            515         2      830            819\n",
       "2 2013     1   1      533            529         4      850            830\n",
       "  arr_delay carrier flight tailnum origin dest air_time distance hour minute\n",
       "1        11      UA   1545  N14228    EWR  IAH      227     1400    5     15\n",
       "2        20      UA   1714  N24211    LGA  IAH      227     1416    5     29\n",
       "            time_hour name\n",
       "1 2013-01-01 05:00:00    1\n",
       "2 2013-01-01 05:00:00    2"
      ]
     },
     "metadata": {},
     "output_type": "display_data"
    }
   ],
   "source": [
    "filter(flights, month==1, day==1) %>% head(2)"
   ]
  },
  {
   "cell_type": "code",
   "execution_count": 4,
   "metadata": {
    "collapsed": false
   },
   "outputs": [
    {
     "data": {
      "text/plain": [
       "  year month day dep_time sched_dep_time dep_delay arr_time sched_arr_time\n",
       "1 2013     1   1      517            515         2      830            819\n",
       "2 2013     1   1      533            529         4      850            830\n",
       "  arr_delay carrier flight tailnum origin dest air_time distance hour minute\n",
       "1        11      UA   1545  N14228    EWR  IAH      227     1400    5     15\n",
       "2        20      UA   1714  N24211    LGA  IAH      227     1416    5     29\n",
       "            time_hour name\n",
       "1 2013-01-01 05:00:00    1\n",
       "2 2013-01-01 05:00:00    2"
      ]
     },
     "metadata": {},
     "output_type": "display_data"
    }
   ],
   "source": [
    "flights %>% filter(month==1,day==1) %>% head(2)"
   ]
  },
  {
   "cell_type": "markdown",
   "metadata": {},
   "source": [
    "### Logical Operations\n",
    " - | vs || (or) "
   ]
  },
  {
   "cell_type": "code",
   "execution_count": 5,
   "metadata": {
    "collapsed": false
   },
   "outputs": [
    {
     "data": {
      "text/html": [
       "<ol class=list-inline>\n",
       "\t<li>FALSE</li>\n",
       "\t<li>FALSE</li>\n",
       "\t<li>TRUE</li>\n",
       "</ol>\n"
      ],
      "text/latex": [
       "\\begin{enumerate*}\n",
       "\\item FALSE\n",
       "\\item FALSE\n",
       "\\item TRUE\n",
       "\\end{enumerate*}\n"
      ],
      "text/markdown": [
       "1. FALSE\n",
       "2. FALSE\n",
       "3. TRUE\n",
       "\n",
       "\n"
      ],
      "text/plain": [
       "[1] FALSE FALSE  TRUE"
      ]
     },
     "metadata": {},
     "output_type": "display_data"
    }
   ],
   "source": [
    "c(1,2,3) > 2"
   ]
  },
  {
   "cell_type": "code",
   "execution_count": 6,
   "metadata": {
    "collapsed": false
   },
   "outputs": [
    {
     "data": {
      "text/html": [
       "<ol class=list-inline>\n",
       "\t<li>TRUE</li>\n",
       "\t<li>FALSE</li>\n",
       "\t<li>TRUE</li>\n",
       "</ol>\n"
      ],
      "text/latex": [
       "\\begin{enumerate*}\n",
       "\\item TRUE\n",
       "\\item FALSE\n",
       "\\item TRUE\n",
       "\\end{enumerate*}\n"
      ],
      "text/markdown": [
       "1. TRUE\n",
       "2. FALSE\n",
       "3. TRUE\n",
       "\n",
       "\n"
      ],
      "text/plain": [
       "[1]  TRUE FALSE  TRUE"
      ]
     },
     "metadata": {},
     "output_type": "display_data"
    }
   ],
   "source": [
    "c(1,2,3) > 2  | c(4,5,6) <= 4  # 짝을 지어서 한다. 순서대로 1>2,4<=4 이런식으로 짝을 지어서 "
   ]
  },
  {
   "cell_type": "code",
   "execution_count": 7,
   "metadata": {
    "collapsed": false
   },
   "outputs": [
    {
     "data": {
      "text/html": [
       "TRUE"
      ],
      "text/latex": [
       "TRUE"
      ],
      "text/markdown": [
       "TRUE"
      ],
      "text/plain": [
       "[1] TRUE"
      ]
     },
     "metadata": {},
     "output_type": "display_data"
    }
   ],
   "source": [
    "c(1,2,3) > 2  || c(4,5,6) <= 4 # 맨앞에꺼 하나만 가지고 한다. "
   ]
  },
  {
   "cell_type": "code",
   "execution_count": 8,
   "metadata": {
    "collapsed": false
   },
   "outputs": [
    {
     "data": {
      "text/plain": [
       "  year month day dep_time sched_dep_time dep_delay arr_time sched_arr_time\n",
       "1 2013    11   1        5           2359         6      352            345\n",
       "2 2013    11   1       35           2250       105      123           2356\n",
       "  arr_delay carrier flight tailnum origin dest air_time distance hour minute\n",
       "1         7      B6    745  N568JB    JFK  PSE      205     1617   23     59\n",
       "2        87      B6   1816  N353JB    JFK  SYR       36      209   22     50\n",
       "            time_hour  name\n",
       "1 2013-11-01 23:00:00 55894\n",
       "2 2013-11-01 22:00:00 55895"
      ]
     },
     "metadata": {},
     "output_type": "display_data"
    }
   ],
   "source": [
    "filter(flights, month==11 | month==12) %>% head(2)"
   ]
  },
  {
   "cell_type": "markdown",
   "metadata": {},
   "source": [
    " - %in% 연산자 : 포함하는 것"
   ]
  },
  {
   "cell_type": "code",
   "execution_count": 9,
   "metadata": {
    "collapsed": false
   },
   "outputs": [
    {
     "data": {
      "text/plain": [
       "  year month day dep_time sched_dep_time dep_delay arr_time sched_arr_time\n",
       "1 2013    11   1        5           2359         6      352            345\n",
       "2 2013    11   1       35           2250       105      123           2356\n",
       "  arr_delay carrier flight tailnum origin dest air_time distance hour minute\n",
       "1         7      B6    745  N568JB    JFK  PSE      205     1617   23     59\n",
       "2        87      B6   1816  N353JB    JFK  SYR       36      209   22     50\n",
       "            time_hour  name\n",
       "1 2013-11-01 23:00:00 55894\n",
       "2 2013-11-01 22:00:00 55895"
      ]
     },
     "metadata": {},
     "output_type": "display_data"
    }
   ],
   "source": [
    "filter(flights, month %in% c(11,12)) %>% head(2) # 중의 연산자 : month가 11월 12월 중."
   ]
  },
  {
   "cell_type": "markdown",
   "metadata": {},
   "source": [
    "### 5.2.3 Na Missing Value"
   ]
  },
  {
   "cell_type": "code",
   "execution_count": 10,
   "metadata": {
    "collapsed": false
   },
   "outputs": [
    {
     "data": {
      "text/html": [
       "TRUE"
      ],
      "text/latex": [
       "TRUE"
      ],
      "text/markdown": [
       "TRUE"
      ],
      "text/plain": [
       "[1] TRUE"
      ]
     },
     "metadata": {},
     "output_type": "display_data"
    }
   ],
   "source": [
    "is.na(NA)"
   ]
  },
  {
   "cell_type": "code",
   "execution_count": 11,
   "metadata": {
    "collapsed": false
   },
   "outputs": [
    {
     "data": {
      "text/html": [
       "TRUE"
      ],
      "text/latex": [
       "TRUE"
      ],
      "text/markdown": [
       "TRUE"
      ],
      "text/plain": [
       "[1] TRUE"
      ]
     },
     "metadata": {},
     "output_type": "display_data"
    }
   ],
   "source": [
    "!is.na(\"123\")"
   ]
  },
  {
   "cell_type": "code",
   "execution_count": 12,
   "metadata": {
    "collapsed": false
   },
   "outputs": [
    {
     "data": {
      "text/html": [
       "1"
      ],
      "text/latex": [
       "1"
      ],
      "text/markdown": [
       "1"
      ],
      "text/plain": [
       "[1] 1"
      ]
     },
     "metadata": {},
     "output_type": "display_data"
    },
    {
     "data": {
      "text/html": [
       "TRUE"
      ],
      "text/latex": [
       "TRUE"
      ],
      "text/markdown": [
       "TRUE"
      ],
      "text/plain": [
       "[1] TRUE"
      ]
     },
     "metadata": {},
     "output_type": "display_data"
    },
    {
     "data": {
      "text/html": [
       "FALSE"
      ],
      "text/latex": [
       "FALSE"
      ],
      "text/markdown": [
       "FALSE"
      ],
      "text/plain": [
       "[1] FALSE"
      ]
     },
     "metadata": {},
     "output_type": "display_data"
    }
   ],
   "source": [
    "NA ^ 0 # -> 1 모든 수의 0 승은 1 \n",
    "NA | TRUE\n",
    "FALSE & NA"
   ]
  },
  {
   "cell_type": "markdown",
   "metadata": {},
   "source": [
    " - But..."
   ]
  },
  {
   "cell_type": "code",
   "execution_count": 13,
   "metadata": {
    "collapsed": false
   },
   "outputs": [
    {
     "data": {
      "text/plain": [
       "[1] NA"
      ]
     },
     "metadata": {},
     "output_type": "display_data"
    }
   ],
   "source": [
    "## but \n",
    "NA * 0 #NA....?"
   ]
  },
  {
   "cell_type": "markdown",
   "metadata": {},
   "source": [
    "### 5.2.4 Exercises\n",
    "    1. Find all flights that\n",
    "      1.1. Had an arrival delay of two or more hours"
   ]
  },
  {
   "cell_type": "code",
   "execution_count": 14,
   "metadata": {
    "collapsed": false
   },
   "outputs": [
    {
     "data": {
      "text/plain": [
       "  year month day dep_time sched_dep_time dep_delay arr_time sched_arr_time\n",
       "1 2013     1   1      811            630       101     1047            830\n",
       "2 2013     1   1      848           1835       853     1001           1950\n",
       "  arr_delay carrier flight tailnum origin dest air_time distance hour minute\n",
       "1       137      MQ   4576  N531MQ    LGA  CLT      118      544    6     30\n",
       "2       851      MQ   3944  N942MQ    JFK  BWI       41      184   18     35\n",
       "            time_hour name\n",
       "1 2013-01-01 06:00:00  120\n",
       "2 2013-01-01 18:00:00  152"
      ]
     },
     "metadata": {},
     "output_type": "display_data"
    }
   ],
   "source": [
    "filter(flights, arr_delay>=120) %>% head(2)"
   ]
  },
  {
   "cell_type": "markdown",
   "metadata": {},
   "source": [
    "    1.2. Flew to Houston (IAH or HOU)"
   ]
  },
  {
   "cell_type": "code",
   "execution_count": 15,
   "metadata": {
    "collapsed": false
   },
   "outputs": [
    {
     "data": {
      "text/plain": [
       "  year month day dep_time sched_dep_time dep_delay arr_time sched_arr_time\n",
       "1 2013     1   1      517            515         2      830            819\n",
       "2 2013     1   1      533            529         4      850            830\n",
       "  arr_delay carrier flight tailnum origin dest air_time distance hour minute\n",
       "1        11      UA   1545  N14228    EWR  IAH      227     1400    5     15\n",
       "2        20      UA   1714  N24211    LGA  IAH      227     1416    5     29\n",
       "            time_hour name\n",
       "1 2013-01-01 05:00:00    1\n",
       "2 2013-01-01 05:00:00    2"
      ]
     },
     "metadata": {},
     "output_type": "display_data"
    }
   ],
   "source": [
    "filter(flights, dest %in% c('IAH','HOU')) %>% head(2)"
   ]
  },
  {
   "cell_type": "markdown",
   "metadata": {},
   "source": [
    "    1.3. Were operated by United, American, or Delta"
   ]
  },
  {
   "cell_type": "code",
   "execution_count": 16,
   "metadata": {
    "collapsed": false
   },
   "outputs": [
    {
     "data": {
      "text/html": [
       "<ol class=list-inline>\n",
       "\t<li>\"UA\"</li>\n",
       "\t<li>\"AA\"</li>\n",
       "\t<li>\"B6\"</li>\n",
       "\t<li>\"DL\"</li>\n",
       "\t<li>\"EV\"</li>\n",
       "\t<li>\"MQ\"</li>\n",
       "\t<li>\"US\"</li>\n",
       "\t<li>\"WN\"</li>\n",
       "\t<li>\"VX\"</li>\n",
       "\t<li>\"FL\"</li>\n",
       "\t<li>\"AS\"</li>\n",
       "\t<li>\"9E\"</li>\n",
       "\t<li>\"F9\"</li>\n",
       "\t<li>\"HA\"</li>\n",
       "\t<li>\"YV\"</li>\n",
       "\t<li>\"OO\"</li>\n",
       "</ol>\n"
      ],
      "text/latex": [
       "\\begin{enumerate*}\n",
       "\\item \"UA\"\n",
       "\\item \"AA\"\n",
       "\\item \"B6\"\n",
       "\\item \"DL\"\n",
       "\\item \"EV\"\n",
       "\\item \"MQ\"\n",
       "\\item \"US\"\n",
       "\\item \"WN\"\n",
       "\\item \"VX\"\n",
       "\\item \"FL\"\n",
       "\\item \"AS\"\n",
       "\\item \"9E\"\n",
       "\\item \"F9\"\n",
       "\\item \"HA\"\n",
       "\\item \"YV\"\n",
       "\\item \"OO\"\n",
       "\\end{enumerate*}\n"
      ],
      "text/markdown": [
       "1. \"UA\"\n",
       "2. \"AA\"\n",
       "3. \"B6\"\n",
       "4. \"DL\"\n",
       "5. \"EV\"\n",
       "6. \"MQ\"\n",
       "7. \"US\"\n",
       "8. \"WN\"\n",
       "9. \"VX\"\n",
       "10. \"FL\"\n",
       "11. \"AS\"\n",
       "12. \"9E\"\n",
       "13. \"F9\"\n",
       "14. \"HA\"\n",
       "15. \"YV\"\n",
       "16. \"OO\"\n",
       "\n",
       "\n"
      ],
      "text/plain": [
       " [1] \"UA\" \"AA\" \"B6\" \"DL\" \"EV\" \"MQ\" \"US\" \"WN\" \"VX\" \"FL\" \"AS\" \"9E\" \"F9\" \"HA\" \"YV\"\n",
       "[16] \"OO\""
      ]
     },
     "metadata": {},
     "output_type": "display_data"
    }
   ],
   "source": [
    "unique(flights$carrier)"
   ]
  },
  {
   "cell_type": "code",
   "execution_count": 17,
   "metadata": {
    "collapsed": false
   },
   "outputs": [
    {
     "data": {
      "text/plain": [
       "  year month day dep_time sched_dep_time dep_delay arr_time sched_arr_time\n",
       "1 2013     1   1      517            515         2      830            819\n",
       "2 2013     1   1      533            529         4      850            830\n",
       "  arr_delay carrier flight tailnum origin dest air_time distance hour minute\n",
       "1        11      UA   1545  N14228    EWR  IAH      227     1400    5     15\n",
       "2        20      UA   1714  N24211    LGA  IAH      227     1416    5     29\n",
       "            time_hour name\n",
       "1 2013-01-01 05:00:00    1\n",
       "2 2013-01-01 05:00:00    2"
      ]
     },
     "metadata": {},
     "output_type": "display_data"
    }
   ],
   "source": [
    "filter(flights, carrier %in% c('UA','AA','DL')) %>% head(2)"
   ]
  },
  {
   "cell_type": "markdown",
   "metadata": {},
   "source": [
    "    1.4. Departed in summer (July, August, and September)"
   ]
  },
  {
   "cell_type": "code",
   "execution_count": 18,
   "metadata": {
    "collapsed": false
   },
   "outputs": [
    {
     "data": {
      "text/plain": [
       "  year month day dep_time sched_dep_time dep_delay arr_time sched_arr_time\n",
       "1 2013     7   1        1           2029       212      236           2359\n",
       "2 2013     7   1        2           2359         3      344            344\n",
       "  arr_delay carrier flight tailnum origin dest air_time distance hour minute\n",
       "1       157      B6    915  N653JB    JFK  SFO      315     2586   20     29\n",
       "2         0      B6   1503  N805JB    JFK  SJU      200     1598   23     59\n",
       "            time_hour   name\n",
       "1 2013-07-01 20:00:00 250451\n",
       "2 2013-07-01 23:00:00 250452"
      ]
     },
     "metadata": {},
     "output_type": "display_data"
    }
   ],
   "source": [
    "filter(flights, month %in% 7:9) %>% head(2)"
   ]
  },
  {
   "cell_type": "code",
   "execution_count": 19,
   "metadata": {
    "collapsed": false
   },
   "outputs": [
    {
     "data": {
      "text/plain": [
       "  year month day dep_time sched_dep_time dep_delay arr_time sched_arr_time\n",
       "1 2013     7   1        1           2029       212      236           2359\n",
       "2 2013     7   1        2           2359         3      344            344\n",
       "  arr_delay carrier flight tailnum origin dest air_time distance hour minute\n",
       "1       157      B6    915  N653JB    JFK  SFO      315     2586   20     29\n",
       "2         0      B6   1503  N805JB    JFK  SJU      200     1598   23     59\n",
       "            time_hour   name\n",
       "1 2013-07-01 20:00:00 250451\n",
       "2 2013-07-01 23:00:00 250452"
      ]
     },
     "metadata": {},
     "output_type": "display_data"
    }
   ],
   "source": [
    "filter(flights, between(month,7,9)) %>% head(2)"
   ]
  },
  {
   "cell_type": "markdown",
   "metadata": {},
   "source": [
    "    1.5. Arrived more than two hours late, but didn’t leave late"
   ]
  },
  {
   "cell_type": "code",
   "execution_count": 20,
   "metadata": {
    "collapsed": false
   },
   "outputs": [
    {
     "data": {
      "text/plain": [
       "  year month day dep_time sched_dep_time dep_delay arr_time sched_arr_time\n",
       "1 2013     1  27     1419           1420        -1     1754           1550\n",
       "2 2013    10   7     1350           1350         0     1736           1526\n",
       "  arr_delay carrier flight tailnum origin dest air_time distance hour minute\n",
       "1       124      MQ   3728  N1EAMQ    EWR  ORD      135      719   14     20\n",
       "2       130      EV   5181  N611QX    LGA  MSN      117      812   13     50\n",
       "            time_hour  name\n",
       "1 2013-01-27 14:00:00 22912\n",
       "2 2013-10-07 13:00:00 33012"
      ]
     },
     "metadata": {},
     "output_type": "display_data"
    }
   ],
   "source": [
    "filter(flights, dep_delay<=0, arr_delay > 120) %>% head(2)"
   ]
  },
  {
   "cell_type": "markdown",
   "metadata": {},
   "source": [
    "    1.6. Were delayed by at least an hour, but made up over 30 minutes in flight"
   ]
  },
  {
   "cell_type": "code",
   "execution_count": 21,
   "metadata": {
    "collapsed": false
   },
   "outputs": [
    {
     "data": {
      "text/plain": [
       "  year month day dep_time sched_dep_time dep_delay arr_time sched_arr_time\n",
       "1 2013     1   1     2205           1720       285       46           2040\n",
       "2 2013     1   1     2326           2130       116      131             18\n",
       "  arr_delay carrier flight tailnum origin dest air_time distance hour minute\n",
       "1       246      AA   1999  N5DNAA    EWR  MIA      146     1085   17     20\n",
       "2        73      B6    199  N594JB    JFK  LAS      290     2248   21     30\n",
       "            time_hour name\n",
       "1 2013-01-01 17:00:00  816\n",
       "2 2013-01-01 21:00:00  833"
      ]
     },
     "metadata": {},
     "output_type": "display_data"
    }
   ],
   "source": [
    "filter(flights, dep_delay >= 60, arr_delay < dep_delay - 30) %>% head(2)"
   ]
  },
  {
   "cell_type": "markdown",
   "metadata": {},
   "source": [
    "    1.7. Departed between midnight and 6am (inclusive)"
   ]
  },
  {
   "cell_type": "code",
   "execution_count": 22,
   "metadata": {
    "collapsed": false
   },
   "outputs": [
    {
     "data": {
      "text/plain": [
       "  year month day dep_time sched_dep_time dep_delay arr_time sched_arr_time\n",
       "1 2013     1   1      517            515         2      830            819\n",
       "2 2013     1   1      533            529         4      850            830\n",
       "  arr_delay carrier flight tailnum origin dest air_time distance hour minute\n",
       "1        11      UA   1545  N14228    EWR  IAH      227     1400    5     15\n",
       "2        20      UA   1714  N24211    LGA  IAH      227     1416    5     29\n",
       "            time_hour name\n",
       "1 2013-01-01 05:00:00    1\n",
       "2 2013-01-01 05:00:00    2"
      ]
     },
     "metadata": {},
     "output_type": "display_data"
    }
   ],
   "source": [
    "filter(flights, dep_time <= 600) %>% head(2)"
   ]
  },
  {
   "cell_type": "markdown",
   "metadata": {},
   "source": [
    "    3. How many flights have a missing dep_time? What other variables are missing? What might these rows represent?"
   ]
  },
  {
   "cell_type": "code",
   "execution_count": 23,
   "metadata": {
    "collapsed": false
   },
   "outputs": [
    {
     "data": {
      "text/plain": [
       "  year month day dep_time sched_dep_time dep_delay arr_time sched_arr_time\n",
       "1 2013     1   1       NA           1630        NA       NA           1815\n",
       "2 2013     1   1       NA           1935        NA       NA           2240\n",
       "  arr_delay carrier flight tailnum origin dest air_time distance hour minute\n",
       "1        NA      EV   4308  N18120    EWR  RDU       NA      416   16     30\n",
       "2        NA      AA    791  N3EHAA    LGA  DFW       NA     1389   19     35\n",
       "            time_hour name\n",
       "1 2013-01-01 16:00:00  839\n",
       "2 2013-01-01 19:00:00  840"
      ]
     },
     "metadata": {},
     "output_type": "display_data"
    }
   ],
   "source": [
    "filter(flights,is.na(dep_time)) %>% head(2)"
   ]
  },
  {
   "cell_type": "markdown",
   "metadata": {},
   "source": [
    "### 5.3 Arrange"
   ]
  },
  {
   "cell_type": "code",
   "execution_count": 24,
   "metadata": {
    "collapsed": false,
    "scrolled": false
   },
   "outputs": [
    {
     "data": {
      "text/plain": [
       "  year month day dep_time sched_dep_time dep_delay arr_time sched_arr_time\n",
       "1 2013     5   7     1715           1729       -14     1944           2110\n",
       "2 2013     5  20      719            735       -16      951           1110\n",
       "  arr_delay carrier flight tailnum origin dest air_time distance hour minute\n",
       "1       -86      VX    193  N843VA    EWR  SFO      315     2565   17     29\n",
       "2       -79      VX     11  N840VA    JFK  SFO      316     2586    7     35\n",
       "            time_hour   name\n",
       "1 2013-05-07 17:00:00 199669\n",
       "2 2013-05-20 07:00:00 211125"
      ]
     },
     "metadata": {},
     "output_type": "display_data"
    }
   ],
   "source": [
    "arrange(flights, arr_delay) %>% head(2)# 오름 차순"
   ]
  },
  {
   "cell_type": "code",
   "execution_count": 25,
   "metadata": {
    "collapsed": false
   },
   "outputs": [
    {
     "data": {
      "text/plain": [
       "  year month day dep_time sched_dep_time dep_delay arr_time sched_arr_time\n",
       "1 2013     1   9      641            900      1301     1242           1530\n",
       "2 2013     6  15     1432           1935      1137     1607           2120\n",
       "  arr_delay carrier flight tailnum origin dest air_time distance hour minute\n",
       "1      1272      HA     51  N384HA    JFK  HNL      640     4983    9      0\n",
       "2      1127      MQ   3535  N504MQ    JFK  CMH       74      483   19     35\n",
       "            time_hour   name\n",
       "1 2013-01-09 09:00:00   7073\n",
       "2 2013-06-15 19:00:00 235779"
      ]
     },
     "metadata": {},
     "output_type": "display_data"
    }
   ],
   "source": [
    "arrange(flights, desc(arr_delay)) %>% head(2) #내림 차순 "
   ]
  },
  {
   "cell_type": "markdown",
   "metadata": {},
   "source": [
    "### 5.4 Select"
   ]
  },
  {
   "cell_type": "code",
   "execution_count": 26,
   "metadata": {
    "collapsed": false
   },
   "outputs": [
    {
     "data": {
      "text/html": [
       "<table>\n",
       "<thead><tr><th></th><th scope=col>year</th><th scope=col>month</th><th scope=col>day</th></tr></thead>\n",
       "<tbody>\n",
       "\t<tr><th scope=row>1</th><td>2013</td><td>   1</td><td>   1</td></tr>\n",
       "\t<tr><th scope=row>2</th><td>2013</td><td>   1</td><td>   1</td></tr>\n",
       "</tbody>\n",
       "</table>\n"
      ],
      "text/latex": [
       "\\begin{tabular}{r|lll}\n",
       "  & year & month & day\\\\\n",
       "\\hline\n",
       "\t1 & 2013 &    1 &    1\\\\\n",
       "\t2 & 2013 &    1 &    1\\\\\n",
       "\\end{tabular}\n"
      ],
      "text/plain": [
       "  year month day\n",
       "1 2013     1   1\n",
       "2 2013     1   1"
      ]
     },
     "metadata": {},
     "output_type": "display_data"
    }
   ],
   "source": [
    "select(flights, year, month,day) %>% head(2)"
   ]
  },
  {
   "cell_type": "code",
   "execution_count": 27,
   "metadata": {
    "collapsed": false
   },
   "outputs": [
    {
     "data": {
      "text/html": [
       "<table>\n",
       "<thead><tr><th></th><th scope=col>year</th><th scope=col>month</th><th scope=col>day</th></tr></thead>\n",
       "<tbody>\n",
       "\t<tr><th scope=row>1</th><td>2013</td><td>   1</td><td>   1</td></tr>\n",
       "\t<tr><th scope=row>2</th><td>2013</td><td>   1</td><td>   1</td></tr>\n",
       "</tbody>\n",
       "</table>\n"
      ],
      "text/latex": [
       "\\begin{tabular}{r|lll}\n",
       "  & year & month & day\\\\\n",
       "\\hline\n",
       "\t1 & 2013 &    1 &    1\\\\\n",
       "\t2 & 2013 &    1 &    1\\\\\n",
       "\\end{tabular}\n"
      ],
      "text/plain": [
       "  year month day\n",
       "1 2013     1   1\n",
       "2 2013     1   1"
      ]
     },
     "metadata": {},
     "output_type": "display_data"
    }
   ],
   "source": [
    "select(flights, year:day) %>% head(2)"
   ]
  },
  {
   "cell_type": "code",
   "execution_count": 28,
   "metadata": {
    "collapsed": false
   },
   "outputs": [
    {
     "data": {
      "text/plain": [
       "  dep_time sched_dep_time dep_delay arr_time sched_arr_time arr_delay carrier\n",
       "1      517            515         2      830            819        11      UA\n",
       "2      533            529         4      850            830        20      UA\n",
       "  flight tailnum origin dest air_time distance hour minute           time_hour\n",
       "1   1545  N14228    EWR  IAH      227     1400    5     15 2013-01-01 05:00:00\n",
       "2   1714  N24211    LGA  IAH      227     1416    5     29 2013-01-01 05:00:00\n",
       "  name\n",
       "1    1\n",
       "2    2"
      ]
     },
     "metadata": {},
     "output_type": "display_data"
    }
   ],
   "source": [
    "select(flights, -(year:day)) %>% head(2)"
   ]
  },
  {
   "cell_type": "markdown",
   "metadata": {},
   "source": [
    "#### starts_with(\"abc\"): matches names that begin with “abc”."
   ]
  },
  {
   "cell_type": "code",
   "execution_count": 29,
   "metadata": {
    "collapsed": false
   },
   "outputs": [
    {
     "data": {
      "text/html": [
       "<table>\n",
       "<thead><tr><th></th><th scope=col>dep_time</th><th scope=col>dep_delay</th></tr></thead>\n",
       "<tbody>\n",
       "\t<tr><th scope=row>1</th><td>517</td><td>  2</td></tr>\n",
       "\t<tr><th scope=row>2</th><td>533</td><td>  4</td></tr>\n",
       "</tbody>\n",
       "</table>\n"
      ],
      "text/latex": [
       "\\begin{tabular}{r|ll}\n",
       "  & dep\\_time & dep\\_delay\\\\\n",
       "\\hline\n",
       "\t1 & 517 &   2\\\\\n",
       "\t2 & 533 &   4\\\\\n",
       "\\end{tabular}\n"
      ],
      "text/plain": [
       "  dep_time dep_delay\n",
       "1      517         2\n",
       "2      533         4"
      ]
     },
     "metadata": {},
     "output_type": "display_data"
    }
   ],
   "source": [
    "select(flights, starts_with('dep')) %>% head(2)"
   ]
  },
  {
   "cell_type": "markdown",
   "metadata": {},
   "source": [
    "#### ends_with(\"xyz\"): matches names that end with “xyz”."
   ]
  },
  {
   "cell_type": "code",
   "execution_count": 30,
   "metadata": {
    "collapsed": false
   },
   "outputs": [
    {
     "data": {
      "text/html": [
       "<table>\n",
       "<thead><tr><th></th><th scope=col>dep_delay</th><th scope=col>arr_delay</th></tr></thead>\n",
       "<tbody>\n",
       "\t<tr><th scope=row>1</th><td> 2</td><td>11</td></tr>\n",
       "\t<tr><th scope=row>2</th><td> 4</td><td>20</td></tr>\n",
       "</tbody>\n",
       "</table>\n"
      ],
      "text/latex": [
       "\\begin{tabular}{r|ll}\n",
       "  & dep\\_delay & arr\\_delay\\\\\n",
       "\\hline\n",
       "\t1 &  2 & 11\\\\\n",
       "\t2 &  4 & 20\\\\\n",
       "\\end{tabular}\n"
      ],
      "text/plain": [
       "  dep_delay arr_delay\n",
       "1         2        11\n",
       "2         4        20"
      ]
     },
     "metadata": {},
     "output_type": "display_data"
    }
   ],
   "source": [
    "select(flights, ends_with('delay')) %>% head(2)"
   ]
  },
  {
   "cell_type": "markdown",
   "metadata": {},
   "source": [
    "#### Starts with & End with"
   ]
  },
  {
   "cell_type": "code",
   "execution_count": 31,
   "metadata": {
    "collapsed": false
   },
   "outputs": [
    {
     "data": {
      "text/html": [
       "<table>\n",
       "<thead><tr><th></th><th scope=col>dep_delay</th><th scope=col>arr_delay</th><th scope=col>dep_time</th></tr></thead>\n",
       "<tbody>\n",
       "\t<tr><th scope=row>1</th><td>  2</td><td> 11</td><td>517</td></tr>\n",
       "\t<tr><th scope=row>2</th><td>  4</td><td> 20</td><td>533</td></tr>\n",
       "</tbody>\n",
       "</table>\n"
      ],
      "text/latex": [
       "\\begin{tabular}{r|lll}\n",
       "  & dep\\_delay & arr\\_delay & dep\\_time\\\\\n",
       "\\hline\n",
       "\t1 &   2 &  11 & 517\\\\\n",
       "\t2 &   4 &  20 & 533\\\\\n",
       "\\end{tabular}\n"
      ],
      "text/plain": [
       "  dep_delay arr_delay dep_time\n",
       "1         2        11      517\n",
       "2         4        20      533"
      ]
     },
     "metadata": {},
     "output_type": "display_data"
    }
   ],
   "source": [
    "select(flights, ends_with('delay'),starts_with('dep')) %>% head(2)"
   ]
  },
  {
   "cell_type": "markdown",
   "metadata": {},
   "source": [
    "#### contains(\"ijk\"): matches names that contain “ijk”."
   ]
  },
  {
   "cell_type": "code",
   "execution_count": 32,
   "metadata": {
    "collapsed": false
   },
   "outputs": [
    {
     "data": {
      "text/html": [
       "<table>\n",
       "<thead><tr><th></th><th scope=col>day</th><th scope=col>dep_time</th><th scope=col>sched_dep_time</th><th scope=col>dep_delay</th><th scope=col>sched_arr_time</th><th scope=col>arr_delay</th><th scope=col>dest</th><th scope=col>distance</th></tr></thead>\n",
       "<tbody>\n",
       "\t<tr><th scope=row>1</th><td>1   </td><td>517 </td><td>515 </td><td>2   </td><td>819 </td><td>11  </td><td>IAH </td><td>1400</td></tr>\n",
       "\t<tr><th scope=row>2</th><td>1   </td><td>533 </td><td>529 </td><td>4   </td><td>830 </td><td>20  </td><td>IAH </td><td>1416</td></tr>\n",
       "\t<tr><th scope=row>3</th><td>1   </td><td>542 </td><td>540 </td><td>2   </td><td>850 </td><td>33  </td><td>MIA </td><td>1089</td></tr>\n",
       "</tbody>\n",
       "</table>\n"
      ],
      "text/latex": [
       "\\begin{tabular}{r|llllllll}\n",
       "  & day & dep\\_time & sched\\_dep\\_time & dep\\_delay & sched\\_arr\\_time & arr\\_delay & dest & distance\\\\\n",
       "\\hline\n",
       "\t1 & 1    & 517  & 515  & 2    & 819  & 11   & IAH  & 1400\\\\\n",
       "\t2 & 1    & 533  & 529  & 4    & 830  & 20   & IAH  & 1416\\\\\n",
       "\t3 & 1    & 542  & 540  & 2    & 850  & 33   & MIA  & 1089\\\\\n",
       "\\end{tabular}\n"
      ],
      "text/plain": [
       "  day dep_time sched_dep_time dep_delay sched_arr_time arr_delay dest distance\n",
       "1   1      517            515         2            819        11  IAH     1400\n",
       "2   1      533            529         4            830        20  IAH     1416\n",
       "3   1      542            540         2            850        33  MIA     1089"
      ]
     },
     "metadata": {},
     "output_type": "display_data"
    }
   ],
   "source": [
    "select(flights, contains('d')) %>% head(3)"
   ]
  },
  {
   "cell_type": "markdown",
   "metadata": {},
   "source": [
    "#### matches(\"(.)\\\\1\")\n",
    " - selects variables that match a regular expression. <br> This one matches any variables that contain repeated characters. You’ll learn more about regular expressions in strings.\n",
    " - Regular Expression."
   ]
  },
  {
   "cell_type": "code",
   "execution_count": 33,
   "metadata": {
    "collapsed": false
   },
   "outputs": [
    {
     "data": {
      "text/html": [
       "<table>\n",
       "<thead><tr><th></th><th scope=col>day</th><th scope=col>dep_time</th><th scope=col>sched_dep_time</th><th scope=col>dep_delay</th><th scope=col>arr_delay</th><th scope=col>dest</th><th scope=col>distance</th></tr></thead>\n",
       "<tbody>\n",
       "\t<tr><th scope=row>1</th><td>1   </td><td>517 </td><td>515 </td><td>2   </td><td>11  </td><td>IAH </td><td>1400</td></tr>\n",
       "\t<tr><th scope=row>2</th><td>1   </td><td>533 </td><td>529 </td><td>4   </td><td>20  </td><td>IAH </td><td>1416</td></tr>\n",
       "</tbody>\n",
       "</table>\n"
      ],
      "text/latex": [
       "\\begin{tabular}{r|lllllll}\n",
       "  & day & dep\\_time & sched\\_dep\\_time & dep\\_delay & arr\\_delay & dest & distance\\\\\n",
       "\\hline\n",
       "\t1 & 1    & 517  & 515  & 2    & 11   & IAH  & 1400\\\\\n",
       "\t2 & 1    & 533  & 529  & 4    & 20   & IAH  & 1416\\\\\n",
       "\\end{tabular}\n"
      ],
      "text/plain": [
       "  day dep_time sched_dep_time dep_delay arr_delay dest distance\n",
       "1   1      517            515         2        11  IAH     1400\n",
       "2   1      533            529         4        20  IAH     1416"
      ]
     },
     "metadata": {},
     "output_type": "display_data"
    }
   ],
   "source": [
    "select(flights, matches('d[aeiou]')) %>% head(2) # d뒤에 aeiou가 붙는 경우 "
   ]
  },
  {
   "cell_type": "markdown",
   "metadata": {},
   "source": [
    "#### num_range(\"x\", 1:3) matches x1, x2 and x3. 동일한 변수 뒤에 숫자가 붙은 경우 "
   ]
  },
  {
   "cell_type": "markdown",
   "metadata": {},
   "source": [
    "### Rename : Change Colnum's Name"
   ]
  },
  {
   "cell_type": "code",
   "execution_count": 34,
   "metadata": {
    "collapsed": false
   },
   "outputs": [
    {
     "data": {
      "text/plain": [
       "  year month day dep_time sched_dep_time dep_delay arr_time sched_arr_time\n",
       "1 2013     1   1      517            515         2      830            819\n",
       "2 2013     1   1      533            529         4      850            830\n",
       "  arr_delay carrier flight tail_num origin dest air_time distance hour minute\n",
       "1        11      UA   1545   N14228    EWR  IAH      227     1400    5     15\n",
       "2        20      UA   1714   N24211    LGA  IAH      227     1416    5     29\n",
       "            time_hour name\n",
       "1 2013-01-01 05:00:00    1\n",
       "2 2013-01-01 05:00:00    2"
      ]
     },
     "metadata": {},
     "output_type": "display_data"
    }
   ],
   "source": [
    "rename(flights, tail_num = tailnum) %>% head(2)"
   ]
  },
  {
   "cell_type": "markdown",
   "metadata": {},
   "source": [
    "#### Everything : 모든 Column's Names\n",
    " - Column의 순서를 변경할 때 사용."
   ]
  },
  {
   "cell_type": "code",
   "execution_count": 35,
   "metadata": {
    "collapsed": false
   },
   "outputs": [
    {
     "data": {
      "text/plain": [
       "            time_hour air_time year month day dep_time sched_dep_time dep_delay\n",
       "1 2013-01-01 05:00:00      227 2013     1   1      517            515         2\n",
       "2 2013-01-01 05:00:00      227 2013     1   1      533            529         4\n",
       "  arr_time sched_arr_time arr_delay carrier flight tailnum origin dest distance\n",
       "1      830            819        11      UA   1545  N14228    EWR  IAH     1400\n",
       "2      850            830        20      UA   1714  N24211    LGA  IAH     1416\n",
       "  hour minute name\n",
       "1    5     15    1\n",
       "2    5     29    2"
      ]
     },
     "metadata": {},
     "output_type": "display_data"
    }
   ],
   "source": [
    "select(flights, time_hour, air_time, everything()) %>% head(2)"
   ]
  },
  {
   "cell_type": "markdown",
   "metadata": {},
   "source": [
    "### 5.5 Add New variables with mutate()"
   ]
  },
  {
   "cell_type": "code",
   "execution_count": 36,
   "metadata": {
    "collapsed": true
   },
   "outputs": [],
   "source": [
    "flights_sml <- select(flights, \n",
    "                      year:day, \n",
    "                      ends_with(\"delay\"), \n",
    "                      distance, \n",
    "                      air_time\n",
    ")"
   ]
  },
  {
   "cell_type": "code",
   "execution_count": 37,
   "metadata": {
    "collapsed": false
   },
   "outputs": [
    {
     "data": {
      "text/html": [
       "<table>\n",
       "<thead><tr><th></th><th scope=col>year</th><th scope=col>month</th><th scope=col>day</th><th scope=col>dep_delay</th><th scope=col>arr_delay</th><th scope=col>distance</th><th scope=col>air_time</th><th scope=col>gain</th><th scope=col>speed</th></tr></thead>\n",
       "<tbody>\n",
       "\t<tr><th scope=row>1</th><td>2013.0000</td><td>   1.0000</td><td>   1.0000</td><td>   2.0000</td><td>  11.0000</td><td>1400.0000</td><td> 227.0000</td><td>   9.0000</td><td> 370.0441</td></tr>\n",
       "\t<tr><th scope=row>2</th><td>2013.0000</td><td>   1.0000</td><td>   1.0000</td><td>   4.0000</td><td>  20.0000</td><td>1416.0000</td><td> 227.0000</td><td>  16.0000</td><td> 374.2731</td></tr>\n",
       "</tbody>\n",
       "</table>\n"
      ],
      "text/latex": [
       "\\begin{tabular}{r|lllllllll}\n",
       "  & year & month & day & dep\\_delay & arr\\_delay & distance & air\\_time & gain & speed\\\\\n",
       "\\hline\n",
       "\t1 & 2013.0000 &    1.0000 &    1.0000 &    2.0000 &   11.0000 & 1400.0000 &  227.0000 &    9.0000 &  370.0441\\\\\n",
       "\t2 & 2013.0000 &    1.0000 &    1.0000 &    4.0000 &   20.0000 & 1416.0000 &  227.0000 &   16.0000 &  374.2731\\\\\n",
       "\\end{tabular}\n"
      ],
      "text/plain": [
       "  year month day dep_delay arr_delay distance air_time gain    speed\n",
       "1 2013     1   1         2        11     1400      227    9 370.0441\n",
       "2 2013     1   1         4        20     1416      227   16 374.2731"
      ]
     },
     "metadata": {},
     "output_type": "display_data"
    }
   ],
   "source": [
    "mutate(flights_sml, gain=arr_delay - dep_delay, speed = distance / air_time * 60) %>% head(2)"
   ]
  },
  {
   "cell_type": "markdown",
   "metadata": {},
   "source": [
    "### pipe"
   ]
  },
  {
   "cell_type": "code",
   "execution_count": 38,
   "metadata": {
    "collapsed": false
   },
   "outputs": [
    {
     "data": {
      "text/plain": [
       "  year month day dep_time sched_dep_time dep_delay arr_time sched_arr_time\n",
       "1 2013     1   1      517            515         2      830            819\n",
       "2 2013     1   1      533            529         4      850            830\n",
       "  arr_delay carrier flight tailnum origin dest air_time distance hour minute\n",
       "1        11      UA   1545  N14228    EWR  IAH      227     1400    5     15\n",
       "2        20      UA   1714  N24211    LGA  IAH      227     1416    5     29\n",
       "            time_hour name\n",
       "1 2013-01-01 05:00:00    1\n",
       "2 2013-01-01 05:00:00    2"
      ]
     },
     "metadata": {},
     "output_type": "display_data"
    }
   ],
   "source": [
    "arrange(filter(flights,month==1),day) %>% head(2)"
   ]
  },
  {
   "cell_type": "markdown",
   "metadata": {},
   "source": [
    " - 위 식을 보기 편하게 변경."
   ]
  },
  {
   "cell_type": "code",
   "execution_count": 39,
   "metadata": {
    "collapsed": false
   },
   "outputs": [
    {
     "data": {
      "text/plain": [
       "  year month day dep_time sched_dep_time dep_delay arr_time sched_arr_time\n",
       "1 2013     1   1      517            515         2      830            819\n",
       "2 2013     1   1      533            529         4      850            830\n",
       "  arr_delay carrier flight tailnum origin dest air_time distance hour minute\n",
       "1        11      UA   1545  N14228    EWR  IAH      227     1400    5     15\n",
       "2        20      UA   1714  N24211    LGA  IAH      227     1416    5     29\n",
       "            time_hour name\n",
       "1 2013-01-01 05:00:00    1\n",
       "2 2013-01-01 05:00:00    2"
      ]
     },
     "metadata": {},
     "output_type": "display_data"
    }
   ],
   "source": [
    "flights %>% filter(month==1) %>% arrange(day) %>% head(2)"
   ]
  },
  {
   "cell_type": "markdown",
   "metadata": {},
   "source": [
    "### Summarize "
   ]
  },
  {
   "cell_type": "code",
   "execution_count": 40,
   "metadata": {
    "collapsed": false
   },
   "outputs": [
    {
     "data": {
      "text/html": [
       "<table>\n",
       "<thead><tr><th></th><th scope=col>delay</th></tr></thead>\n",
       "<tbody>\n",
       "\t<tr><th scope=row>1</th><td>12.63907</td></tr>\n",
       "</tbody>\n",
       "</table>\n"
      ],
      "text/latex": [
       "\\begin{tabular}{r|l}\n",
       "  & delay\\\\\n",
       "\\hline\n",
       "\t1 & 12.63907\\\\\n",
       "\\end{tabular}\n"
      ],
      "text/plain": [
       "     delay\n",
       "1 12.63907"
      ]
     },
     "metadata": {},
     "output_type": "display_data"
    }
   ],
   "source": [
    "summarise(flights, delay=mean(dep_delay,na.rm=T))"
   ]
  },
  {
   "cell_type": "code",
   "execution_count": 41,
   "metadata": {
    "collapsed": false
   },
   "outputs": [
    {
     "data": {
      "text/html": [
       "<table>\n",
       "<thead><tr><th></th><th scope=col>year</th><th scope=col>month</th><th scope=col>day</th><th scope=col>delay</th></tr></thead>\n",
       "<tbody>\n",
       "\t<tr><th scope=row>1</th><td>2013.00000</td><td>   1.00000</td><td>   1.00000</td><td>  11.54893</td></tr>\n",
       "\t<tr><th scope=row>2</th><td>2013.00000</td><td>   1.00000</td><td>   2.00000</td><td>  13.85882</td></tr>\n",
       "\t<tr><th scope=row>3</th><td>2013.00000</td><td>   1.00000</td><td>   3.00000</td><td>  10.98783</td></tr>\n",
       "\t<tr><th scope=row>4</th><td>2013.000000</td><td>   1.000000</td><td>   4.000000</td><td>   8.951595</td></tr>\n",
       "\t<tr><th scope=row>5</th><td>2013.000000</td><td>   1.000000</td><td>   5.000000</td><td>   5.732218</td></tr>\n",
       "\t<tr><th scope=row>6</th><td>2013.000000</td><td>   1.000000</td><td>   6.000000</td><td>   7.148014</td></tr>\n",
       "</tbody>\n",
       "</table>\n"
      ],
      "text/latex": [
       "\\begin{tabular}{r|llll}\n",
       "  & year & month & day & delay\\\\\n",
       "\\hline\n",
       "\t1 & 2013.00000 &    1.00000 &    1.00000 &   11.54893\\\\\n",
       "\t2 & 2013.00000 &    1.00000 &    2.00000 &   13.85882\\\\\n",
       "\t3 & 2013.00000 &    1.00000 &    3.00000 &   10.98783\\\\\n",
       "\t4 & 2013.000000 &    1.000000 &    4.000000 &    8.951595\\\\\n",
       "\t5 & 2013.000000 &    1.000000 &    5.000000 &    5.732218\\\\\n",
       "\t6 & 2013.000000 &    1.000000 &    6.000000 &    7.148014\\\\\n",
       "\\end{tabular}\n"
      ],
      "text/plain": [
       "  year month day     delay\n",
       "1 2013     1   1 11.548926\n",
       "2 2013     1   2 13.858824\n",
       "3 2013     1   3 10.987832\n",
       "4 2013     1   4  8.951595\n",
       "5 2013     1   5  5.732218\n",
       "6 2013     1   6  7.148014"
      ]
     },
     "metadata": {},
     "output_type": "display_data"
    }
   ],
   "source": [
    "by_day <- flights %>% group_by(year,month,day) %>% summarise(delay=mean(dep_delay,na.rm=T))\n",
    "head(by_day)"
   ]
  },
  {
   "cell_type": "code",
   "execution_count": 42,
   "metadata": {
    "collapsed": false
   },
   "outputs": [
    {
     "data": {
      "text/html": [
       "<table>\n",
       "<thead><tr><th></th><th scope=col>year</th><th scope=col>month</th><th scope=col>day</th><th scope=col>delay</th><th scope=col>cnt</th></tr></thead>\n",
       "<tbody>\n",
       "\t<tr><th scope=row>1</th><td>2013.00000</td><td>   1.00000</td><td>   1.00000</td><td>  11.54893</td><td> 842.00000</td></tr>\n",
       "\t<tr><th scope=row>2</th><td>2013.00000</td><td>   1.00000</td><td>   2.00000</td><td>  13.85882</td><td> 943.00000</td></tr>\n",
       "</tbody>\n",
       "</table>\n"
      ],
      "text/latex": [
       "\\begin{tabular}{r|lllll}\n",
       "  & year & month & day & delay & cnt\\\\\n",
       "\\hline\n",
       "\t1 & 2013.00000 &    1.00000 &    1.00000 &   11.54893 &  842.00000\\\\\n",
       "\t2 & 2013.00000 &    1.00000 &    2.00000 &   13.85882 &  943.00000\\\\\n",
       "\\end{tabular}\n"
      ],
      "text/plain": [
       "  year month day    delay cnt\n",
       "1 2013     1   1 11.54893 842\n",
       "2 2013     1   2 13.85882 943"
      ]
     },
     "metadata": {},
     "output_type": "display_data"
    }
   ],
   "source": [
    "flights %>% group_by(year,month,day) %>% summarise(delay=mean(dep_delay,na.rm=T), cnt=n()) %>% head(2)"
   ]
  },
  {
   "cell_type": "markdown",
   "metadata": {},
   "source": [
    "## 5. 탐색적 모형 분석 \n",
    " - 모형이 있는 것이 아니라, 그냥 데이터를 뒤져보는 것을 말한다.\n",
    " - 환인적 탐색 분석보다 탐색적 모형분석이 오래 걸린다.\n",
    " - 그래프를 그려본다. (특징을 슥 찾아본다.)"
   ]
  },
  {
   "cell_type": "code",
   "execution_count": 43,
   "metadata": {
    "collapsed": false
   },
   "outputs": [
    {
     "name": "stderr",
     "output_type": "stream",
     "text": [
      "`stat_bin()` using `bins = 30`. Pick better value with `binwidth`.\n"
     ]
    },
    {
     "data": {},
     "metadata": {},
     "output_type": "display_data"
    },
    {
     "data": {
      "image/png": "[encoded data removed]",
      "text/plain": [
       "plot without title"
      ]
     },
     "metadata": {},
     "output_type": "display_data"
    }
   ],
   "source": [
    "options(repr.plot.height=3)\n",
    "ggplot(data=diamonds) + geom_histogram(aes(x=carat))"
   ]
  },
  {
   "cell_type": "markdown",
   "metadata": {},
   "source": [
    " - 특이한 패턴이 나온다. 특정한 무게에서 짤라서 쓰지 않을까?"
   ]
  },
  {
   "cell_type": "code",
   "execution_count": 44,
   "metadata": {
    "collapsed": false
   },
   "outputs": [
    {
     "data": {},
     "metadata": {},
     "output_type": "display_data"
    },
    {
     "data": {
      "image/png": "[encoded data removed]",
      "text/plain": [
       "plot without title"
      ]
     },
     "metadata": {},
     "output_type": "display_data"
    }
   ],
   "source": [
    "ggplot(data=diamonds) + geom_histogram(aes(x=carat), binwidth = 0.01)"
   ]
  },
  {
   "cell_type": "markdown",
   "metadata": {},
   "source": [
    "### 기술적으로 대단한 것은 아니지만, 발상이 대단한 부분이다."
   ]
  },
  {
   "cell_type": "markdown",
   "metadata": {},
   "source": [
    " - 양봉 그래프의 경우 boxplot을 그리게 되면 중간의 데이터가 있던 없던 동일한 모양이 나오는데 \n",
    " - Histogram을 세로로 세운다면 정보의 손실이 없다.\n",
    " <img src=\"src/0216/RD/2.PNG\">"
   ]
  },
  {
   "cell_type": "code",
   "execution_count": 45,
   "metadata": {
    "collapsed": false
   },
   "outputs": [
    {
     "data": {},
     "metadata": {},
     "output_type": "display_data"
    },
    {
     "data": {
      "image/png": "[encoded data removed]",
      "text/plain": [
       "plot without title"
      ]
     },
     "metadata": {},
     "output_type": "display_data"
    }
   ],
   "source": [
    "ggplot(data = mpg, mapping = aes(x = class, y = hwy)) +\n",
    "  geom_boxplot()"
   ]
  },
  {
   "cell_type": "code",
   "execution_count": 48,
   "metadata": {
    "collapsed": false
   },
   "outputs": [
    {
     "data": {},
     "metadata": {},
     "output_type": "display_data"
    },
    {
     "data": {
      "image/png": "[encoded data removed]",
      "text/plain": [
       "plot without title"
      ]
     },
     "metadata": {},
     "output_type": "display_data"
    }
   ],
   "source": [
    "diamonds %>% \n",
    "  count(color, cut) %>%  \n",
    "  ggplot(mapping = aes(x = color, y = cut)) +\n",
    "  geom_tile(mapping = aes(fill = n))"
   ]
  },
  {
   "cell_type": "markdown",
   "metadata": {},
   "source": [
    "### 7.5.3 Two continuous variables"
   ]
  },
  {
   "cell_type": "code",
   "execution_count": 49,
   "metadata": {
    "collapsed": false
   },
   "outputs": [
    {
     "data": {},
     "metadata": {},
     "output_type": "display_data"
    },
    {
     "data": {
      "image/png": "[encoded data removed]",
      "text/plain": [
       "plot without title"
      ]
     },
     "metadata": {},
     "output_type": "display_data"
    }
   ],
   "source": [
    "ggplot(data = diamonds) +\n",
    "  geom_point(mapping = aes(x = carat, y = price))"
   ]
  },
  {
   "cell_type": "code",
   "execution_count": 50,
   "metadata": {
    "collapsed": false
   },
   "outputs": [
    {
     "data": {},
     "metadata": {},
     "output_type": "display_data"
    },
    {
     "data": {
      "image/png": "[encoded data removed]",
      "text/plain": [
       "plot without title"
      ]
     },
     "metadata": {},
     "output_type": "display_data"
    }
   ],
   "source": [
    "ggplot(data = diamonds) + \n",
    "  geom_point(mapping = aes(x = carat, y = price), alpha = 1 / 100)"
   ]
  },
  {
   "cell_type": "markdown",
   "metadata": {},
   "source": [
    " - geom_bin2d() and geom_hex() divide the coordinate plane into 2d bins and then use a fill color to display how many points fall into each bin."
   ]
  },
  {
   "cell_type": "code",
   "execution_count": 51,
   "metadata": {
    "collapsed": false
   },
   "outputs": [
    {
     "name": "stderr",
     "output_type": "stream",
     "text": [
      "Warning message:\n",
      ": package 'hexbin' was built under R version 3.3.2"
     ]
    }
   ],
   "source": [
    "library(hexbin)"
   ]
  },
  {
   "cell_type": "code",
   "execution_count": 52,
   "metadata": {
    "collapsed": false
   },
   "outputs": [
    {
     "data": {
      "image/png": "[encoded data removed]",
      "text/plain": [
       "plot without title"
      ]
     },
     "metadata": {},
     "output_type": "display_data"
    }
   ],
   "source": [
    "gg1 <- ggplot(data = diamonds) +\n",
    "  geom_bin2d(mapping = aes(x = carat, y = price))\n",
    "\n",
    "# install.packages(\"hexbin\")\n",
    "gg2 <- ggplot(data = diamonds) +\n",
    "  geom_hex(mapping = aes(x = carat, y = price))\n",
    "\n",
    "grid.arrange(gg1,gg2,ncol=2)"
   ]
  },
  {
   "cell_type": "markdown",
   "metadata": {},
   "source": [
    " - Another option is to bin one continuous variable so it acts like a categorical variable."
   ]
  },
  {
   "cell_type": "code",
   "execution_count": 53,
   "metadata": {
    "collapsed": false
   },
   "outputs": [
    {
     "data": {},
     "metadata": {},
     "output_type": "display_data"
    },
    {
     "data": {
      "image/png": "[encoded data removed]",
      "text/plain": [
       "plot without title"
      ]
     },
     "metadata": {},
     "output_type": "display_data"
    }
   ],
   "source": [
    "ggplot(data = diamonds, mapping = aes(x = carat, y = price)) + \n",
    "  geom_boxplot(mapping = aes(group = cut_width(carat, 0.1)))"
   ]
  },
  {
   "cell_type": "markdown",
   "metadata": {},
   "source": [
    "### Boxplot Outlier Text Label"
   ]
  },
  {
   "cell_type": "code",
   "execution_count": 54,
   "metadata": {
    "collapsed": false
   },
   "outputs": [
    {
     "data": {},
     "metadata": {},
     "output_type": "display_data"
    },
    {
     "data": {
      "image/png": "[encoded data removed]",
      "text/plain": [
       "plot without title"
      ]
     },
     "metadata": {},
     "output_type": "display_data"
    }
   ],
   "source": [
    "options(repr.plot.height=4)\n",
    "ggplot(mpg,aes(class,hwy)) + \n",
    "  geom_boxplot(outlier.alpha = 0) + # Ouliter 가 보기 힘들다(점과 겹쳐서) outlier.alpha = 0 하면 그림을 없애준다.\n",
    "  geom_text(aes(label=rownames(mpg)))"
   ]
  },
  {
   "cell_type": "markdown",
   "metadata": {},
   "source": [
    "#### Only Text on Outliers "
   ]
  },
  {
   "cell_type": "code",
   "execution_count": 55,
   "metadata": {
    "collapsed": false
   },
   "outputs": [
    {
     "data": {},
     "metadata": {},
     "output_type": "display_data"
    },
    {
     "data": {
      "image/png": "[encoded data removed]",
      "text/plain": [
       "plot without title"
      ]
     },
     "metadata": {},
     "output_type": "display_data"
    }
   ],
   "source": [
    "ggplot(mpg,aes(class,hwy)) + geom_boxplot() # <- 활용"
   ]
  },
  {
   "cell_type": "code",
   "execution_count": 56,
   "metadata": {
    "collapsed": true
   },
   "outputs": [],
   "source": [
    "q1 = quantile(mpg$hwy,.25)\n",
    "q3 = quantile(mpg$hwy,.75)\n",
    "iqr = q3 - q1\n",
    "upper = q3 + 1.5 * iqr\n",
    "lower = q1 - 1.5 * iqr"
   ]
  },
  {
   "cell_type": "code",
   "execution_count": 57,
   "metadata": {
    "collapsed": false
   },
   "outputs": [
    {
     "data": {
      "text/html": [
       "<table>\n",
       "<thead><tr><th></th><th scope=col>manufacturer</th><th scope=col>model</th><th scope=col>displ</th><th scope=col>year</th><th scope=col>cyl</th><th scope=col>trans</th><th scope=col>drv</th><th scope=col>cty</th><th scope=col>hwy</th><th scope=col>fl</th><th scope=col>class</th><th scope=col>name</th></tr></thead>\n",
       "<tbody>\n",
       "\t<tr><th scope=row>1</th><td>volkswagen</td><td>jetta     </td><td>1.9       </td><td>1999      </td><td>4         </td><td>manual(m5)</td><td>f         </td><td>33        </td><td>44        </td><td>d         </td><td>compact   </td><td>213       </td></tr>\n",
       "\t<tr><th scope=row>2</th><td>volkswagen</td><td>new beetle</td><td>1.9       </td><td>1999      </td><td>4         </td><td>manual(m5)</td><td>f         </td><td>35        </td><td>44        </td><td>d         </td><td>subcompact</td><td>222       </td></tr>\n",
       "\t<tr><th scope=row>3</th><td>volkswagen</td><td>new beetle</td><td>1.9       </td><td>1999      </td><td>4         </td><td>auto(l4)  </td><td>f         </td><td>29        </td><td>41        </td><td>d         </td><td>subcompact</td><td>223       </td></tr>\n",
       "</tbody>\n",
       "</table>\n"
      ],
      "text/latex": [
       "\\begin{tabular}{r|llllllllllll}\n",
       "  & manufacturer & model & displ & year & cyl & trans & drv & cty & hwy & fl & class & name\\\\\n",
       "\\hline\n",
       "\t1 & volkswagen & jetta      & 1.9        & 1999       & 4          & manual(m5) & f          & 33         & 44         & d          & compact    & 213       \\\\\n",
       "\t2 & volkswagen & new beetle & 1.9        & 1999       & 4          & manual(m5) & f          & 35         & 44         & d          & subcompact & 222       \\\\\n",
       "\t3 & volkswagen & new beetle & 1.9        & 1999       & 4          & auto(l4)   & f          & 29         & 41         & d          & subcompact & 223       \\\\\n",
       "\\end{tabular}\n"
      ],
      "text/plain": [
       "  manufacturer      model displ year cyl      trans drv cty hwy fl      class\n",
       "1   volkswagen      jetta   1.9 1999   4 manual(m5)   f  33  44  d    compact\n",
       "2   volkswagen new beetle   1.9 1999   4 manual(m5)   f  35  44  d subcompact\n",
       "3   volkswagen new beetle   1.9 1999   4   auto(l4)   f  29  41  d subcompact\n",
       "  name\n",
       "1  213\n",
       "2  222\n",
       "3  223"
      ]
     },
     "metadata": {},
     "output_type": "display_data"
    }
   ],
   "source": [
    "filter(mpg, hwy>upper | hwy < lower)"
   ]
  },
  {
   "cell_type": "markdown",
   "metadata": {},
   "source": [
    " - 각각의 Class에 적용하기 귀찮다. 함수로 만든다. "
   ]
  },
  {
   "cell_type": "code",
   "execution_count": 58,
   "metadata": {
    "collapsed": true
   },
   "outputs": [],
   "source": [
    "filter.Outlier <- function(df){\n",
    "  q1 = quantile(df$hwy,.25)\n",
    "  q3 = quantile(df$hwy,.75)\n",
    "  iqr = q3 - q1\n",
    "  upper = q3 + 1.5 * iqr\n",
    "  lower = q1 - 1.5 * iqr\n",
    "  df %>% filter(hwy < lower | hwy > upper)\n",
    "  # R에서는 Return을 안하면 마지막행이 Return 된다.\n",
    "}"
   ]
  },
  {
   "cell_type": "code",
   "execution_count": 59,
   "metadata": {
    "collapsed": true
   },
   "outputs": [],
   "source": [
    "mpg <- mpg %>% mutate(name=row_number())"
   ]
  },
  {
   "cell_type": "code",
   "execution_count": 60,
   "metadata": {
    "collapsed": false
   },
   "outputs": [
    {
     "data": {
      "text/html": [
       "<table>\n",
       "<thead><tr><th></th><th scope=col>manufacturer</th><th scope=col>model</th><th scope=col>displ</th><th scope=col>year</th><th scope=col>cyl</th><th scope=col>trans</th><th scope=col>drv</th><th scope=col>cty</th><th scope=col>hwy</th><th scope=col>fl</th><th scope=col>class</th><th scope=col>name</th></tr></thead>\n",
       "<tbody>\n",
       "\t<tr><th scope=row>1</th><td>volkswagen</td><td>jetta     </td><td>1.9       </td><td>1999      </td><td>4         </td><td>manual(m5)</td><td>f         </td><td>33        </td><td>44        </td><td>d         </td><td>compact   </td><td>213       </td></tr>\n",
       "\t<tr><th scope=row>2</th><td>volkswagen</td><td>new beetle</td><td>1.9       </td><td>1999      </td><td>4         </td><td>manual(m5)</td><td>f         </td><td>35        </td><td>44        </td><td>d         </td><td>subcompact</td><td>222       </td></tr>\n",
       "\t<tr><th scope=row>3</th><td>volkswagen</td><td>new beetle</td><td>1.9       </td><td>1999      </td><td>4         </td><td>auto(l4)  </td><td>f         </td><td>29        </td><td>41        </td><td>d         </td><td>subcompact</td><td>223       </td></tr>\n",
       "</tbody>\n",
       "</table>\n"
      ],
      "text/latex": [
       "\\begin{tabular}{r|llllllllllll}\n",
       "  & manufacturer & model & displ & year & cyl & trans & drv & cty & hwy & fl & class & name\\\\\n",
       "\\hline\n",
       "\t1 & volkswagen & jetta      & 1.9        & 1999       & 4          & manual(m5) & f          & 33         & 44         & d          & compact    & 213       \\\\\n",
       "\t2 & volkswagen & new beetle & 1.9        & 1999       & 4          & manual(m5) & f          & 35         & 44         & d          & subcompact & 222       \\\\\n",
       "\t3 & volkswagen & new beetle & 1.9        & 1999       & 4          & auto(l4)   & f          & 29         & 41         & d          & subcompact & 223       \\\\\n",
       "\\end{tabular}\n"
      ],
      "text/plain": [
       "  manufacturer      model displ year cyl      trans drv cty hwy fl      class\n",
       "1   volkswagen      jetta   1.9 1999   4 manual(m5)   f  33  44  d    compact\n",
       "2   volkswagen new beetle   1.9 1999   4 manual(m5)   f  35  44  d subcompact\n",
       "3   volkswagen new beetle   1.9 1999   4   auto(l4)   f  29  41  d subcompact\n",
       "  name\n",
       "1  213\n",
       "2  222\n",
       "3  223"
      ]
     },
     "metadata": {},
     "output_type": "display_data"
    }
   ],
   "source": [
    "mpg %>% filter.Outlier()"
   ]
  },
  {
   "cell_type": "markdown",
   "metadata": {},
   "source": [
    "### dplyr 의 do function \n",
    " - do function : group 별로 적용되는 함수 또는 행위 적용 \n",
    " - 원리 : group_by 로 짤랐던 df를 각각에 함수를 적용하고 그결과를 rbind 한다고 생각하면 된다.\n",
    " - input data 에는 Dataframe이다. \n",
    " - dataframe이 들어갈 자리에 . 을 사용."
   ]
  },
  {
   "cell_type": "code",
   "execution_count": 61,
   "metadata": {
    "collapsed": false
   },
   "outputs": [
    {
     "data": {
      "text/html": [
       "<table>\n",
       "<thead><tr><th></th><th scope=col>manufacturer</th><th scope=col>model</th><th scope=col>displ</th><th scope=col>year</th><th scope=col>cyl</th><th scope=col>trans</th><th scope=col>drv</th><th scope=col>cty</th><th scope=col>hwy</th><th scope=col>fl</th><th scope=col>class</th><th scope=col>name</th></tr></thead>\n",
       "<tbody>\n",
       "\t<tr><th scope=row>1</th><td>chevrolet </td><td>corvette  </td><td>5.7       </td><td>1999      </td><td>8         </td><td>manual(m6)</td><td>r         </td><td>16        </td><td>26        </td><td>p         </td><td>2seater   </td><td>24        </td></tr>\n",
       "\t<tr><th scope=row>2</th><td>audi    </td><td>a4      </td><td>1.8     </td><td>1999    </td><td>4       </td><td>auto(l5)</td><td>f       </td><td>18      </td><td>29      </td><td>p       </td><td>compact </td><td>1       </td></tr>\n",
       "\t<tr><th scope=row>3</th><td>audi      </td><td>a6 quattro</td><td>2.8       </td><td>1999      </td><td>6         </td><td>auto(l5)  </td><td>4         </td><td>15        </td><td>24        </td><td>p         </td><td>midsize   </td><td>16        </td></tr>\n",
       "\t<tr><th scope=row>4</th><td>dodge      </td><td>caravan 2wd</td><td>2.4        </td><td>1999       </td><td>4          </td><td>auto(l3)   </td><td>f          </td><td>18         </td><td>24         </td><td>r          </td><td>minivan    </td><td>38         </td></tr>\n",
       "\t<tr><th scope=row>5</th><td>dodge            </td><td>dakota pickup 4wd</td><td>3.7              </td><td>2008             </td><td>6                </td><td>manual(m6)       </td><td>4                </td><td>15               </td><td>19               </td><td>r                </td><td>pickup           </td><td>49               </td></tr>\n",
       "\t<tr><th scope=row>6</th><td>ford      </td><td>mustang   </td><td>3.8       </td><td>1999      </td><td>6         </td><td>manual(m5)</td><td>r         </td><td>18        </td><td>26        </td><td>r         </td><td>subcompact</td><td>91        </td></tr>\n",
       "\t<tr><th scope=row>7</th><td>chevrolet         </td><td>c1500 suburban 2wd</td><td>5.3               </td><td>2008              </td><td>8                 </td><td>auto(l4)          </td><td>r                 </td><td>14                </td><td>20                </td><td>r                 </td><td>suv               </td><td>19                </td></tr>\n",
       "</tbody>\n",
       "</table>\n"
      ],
      "text/latex": [
       "\\begin{tabular}{r|llllllllllll}\n",
       "  & manufacturer & model & displ & year & cyl & trans & drv & cty & hwy & fl & class & name\\\\\n",
       "\\hline\n",
       "\t1 & chevrolet  & corvette   & 5.7        & 1999       & 8          & manual(m6) & r          & 16         & 26         & p          & 2seater    & 24        \\\\\n",
       "\t2 & audi     & a4       & 1.8      & 1999     & 4        & auto(l5) & f        & 18       & 29       & p        & compact  & 1       \\\\\n",
       "\t3 & audi       & a6 quattro & 2.8        & 1999       & 6          & auto(l5)   & 4          & 15         & 24         & p          & midsize    & 16        \\\\\n",
       "\t4 & dodge       & caravan 2wd & 2.4         & 1999        & 4           & auto(l3)    & f           & 18          & 24          & r           & minivan     & 38         \\\\\n",
       "\t5 & dodge             & dakota pickup 4wd & 3.7               & 2008              & 6                 & manual(m6)        & 4                 & 15                & 19                & r                 & pickup            & 49               \\\\\n",
       "\t6 & ford       & mustang    & 3.8        & 1999       & 6          & manual(m5) & r          & 18         & 26         & r          & subcompact & 91        \\\\\n",
       "\t7 & chevrolet          & c1500 suburban 2wd & 5.3                & 2008               & 8                  & auto(l4)           & r                  & 14                 & 20                 & r                  & suv                & 19                \\\\\n",
       "\\end{tabular}\n"
      ],
      "text/plain": [
       "  manufacturer              model displ year cyl      trans drv cty hwy fl\n",
       "1    chevrolet           corvette   5.7 1999   8 manual(m6)   r  16  26  p\n",
       "2         audi                 a4   1.8 1999   4   auto(l5)   f  18  29  p\n",
       "3         audi         a6 quattro   2.8 1999   6   auto(l5)   4  15  24  p\n",
       "4        dodge        caravan 2wd   2.4 1999   4   auto(l3)   f  18  24  r\n",
       "5        dodge  dakota pickup 4wd   3.7 2008   6 manual(m6)   4  15  19  r\n",
       "6         ford            mustang   3.8 1999   6 manual(m5)   r  18  26  r\n",
       "7    chevrolet c1500 suburban 2wd   5.3 2008   8   auto(l4)   r  14  20  r\n",
       "       class name\n",
       "1    2seater   24\n",
       "2    compact    1\n",
       "3    midsize   16\n",
       "4    minivan   38\n",
       "5     pickup   49\n",
       "6 subcompact   91\n",
       "7        suv   19"
      ]
     },
     "metadata": {},
     "output_type": "display_data"
    }
   ],
   "source": [
    "mpg %>% group_by(class) %>% do(head(.,1)) # 그룹바이한 class에 대해 각 df가 만들어지고 그게 .자리에 들어간다."
   ]
  },
  {
   "cell_type": "code",
   "execution_count": 62,
   "metadata": {
    "collapsed": false
   },
   "outputs": [
    {
     "data": {
      "text/html": [
       "<table>\n",
       "<thead><tr><th></th><th scope=col>manufacturer</th><th scope=col>model</th><th scope=col>displ</th><th scope=col>year</th><th scope=col>cyl</th><th scope=col>trans</th><th scope=col>drv</th><th scope=col>cty</th><th scope=col>hwy</th><th scope=col>fl</th><th scope=col>class</th><th scope=col>name</th></tr></thead>\n",
       "<tbody>\n",
       "\t<tr><th scope=row>1</th><td>toyota    </td><td>corolla   </td><td>1.8       </td><td>1999      </td><td>4         </td><td>manual(m5)</td><td>f         </td><td>26        </td><td>35        </td><td>r         </td><td>compact   </td><td>196       </td></tr>\n",
       "\t<tr><th scope=row>2</th><td>toyota    </td><td>corolla   </td><td>1.8       </td><td>2008      </td><td>4         </td><td>manual(m5)</td><td>f         </td><td>28        </td><td>37        </td><td>r         </td><td>compact   </td><td>197       </td></tr>\n",
       "\t<tr><th scope=row>3</th><td>toyota  </td><td>corolla </td><td>1.8     </td><td>2008    </td><td>4       </td><td>auto(l4)</td><td>f       </td><td>26      </td><td>35      </td><td>r       </td><td>compact </td><td>198     </td></tr>\n",
       "\t<tr><th scope=row>4</th><td>volkswagen</td><td>jetta     </td><td>1.9       </td><td>1999      </td><td>4         </td><td>manual(m5)</td><td>f         </td><td>33        </td><td>44        </td><td>d         </td><td>compact   </td><td>213       </td></tr>\n",
       "\t<tr><th scope=row>5</th><td>dodge      </td><td>caravan 2wd</td><td>3.3        </td><td>2008       </td><td>6          </td><td>auto(l4)   </td><td>f          </td><td>11         </td><td>17         </td><td>e          </td><td>minivan    </td><td>44         </td></tr>\n",
       "\t<tr><th scope=row>6</th><td>dodge            </td><td>dakota pickup 4wd</td><td>4.7              </td><td>2008             </td><td>8                </td><td>auto(l5)         </td><td>4                </td><td>9                </td><td>12               </td><td>e                </td><td>pickup           </td><td>55               </td></tr>\n",
       "\t<tr><th scope=row>7</th><td>dodge              </td><td>ram 1500 pickup 4wd</td><td>4.7                </td><td>2008               </td><td>8                  </td><td>auto(l5)           </td><td>4                  </td><td>9                  </td><td>12                 </td><td>e                  </td><td>pickup             </td><td>66                 </td></tr>\n",
       "\t<tr><th scope=row>8</th><td>dodge              </td><td>ram 1500 pickup 4wd</td><td>4.7                </td><td>2008               </td><td>8                  </td><td>manual(m6)         </td><td>4                  </td><td>9                  </td><td>12                 </td><td>e                  </td><td>pickup             </td><td>70                 </td></tr>\n",
       "\t<tr><th scope=row>9</th><td>toyota           </td><td>toyota tacoma 4wd</td><td>2.7              </td><td>2008             </td><td>4                </td><td>manual(m5)       </td><td>4                </td><td>17               </td><td>22               </td><td>r                </td><td>pickup           </td><td>203              </td></tr>\n",
       "\t<tr><th scope=row>10</th><td>volkswagen</td><td>new beetle</td><td>1.9       </td><td>1999      </td><td>4         </td><td>manual(m5)</td><td>f         </td><td>35        </td><td>44        </td><td>d         </td><td>subcompact</td><td>222       </td></tr>\n",
       "\t<tr><th scope=row>11</th><td>volkswagen</td><td>new beetle</td><td>1.9       </td><td>1999      </td><td>4         </td><td>auto(l4)  </td><td>f         </td><td>29        </td><td>41        </td><td>d         </td><td>subcompact</td><td>223       </td></tr>\n",
       "\t<tr><th scope=row>12</th><td>dodge      </td><td>durango 4wd</td><td>4.7        </td><td>2008       </td><td>8          </td><td>auto(l5)   </td><td>4          </td><td>9          </td><td>12         </td><td>e          </td><td>suv        </td><td>60         </td></tr>\n",
       "\t<tr><th scope=row>13</th><td>jeep              </td><td>grand cherokee 4wd</td><td>4.7               </td><td>2008              </td><td>8                 </td><td>auto(l5)          </td><td>4                 </td><td>9                 </td><td>12                </td><td>e                 </td><td>suv               </td><td>127               </td></tr>\n",
       "\t<tr><th scope=row>14</th><td>subaru      </td><td>forester awd</td><td>2.5         </td><td>1999        </td><td>4           </td><td>manual(m5)  </td><td>4           </td><td>18          </td><td>25          </td><td>r           </td><td>suv         </td><td>160         </td></tr>\n",
       "\t<tr><th scope=row>15</th><td>subaru      </td><td>forester awd</td><td>2.5         </td><td>1999        </td><td>4           </td><td>auto(l4)    </td><td>4           </td><td>18          </td><td>24          </td><td>r           </td><td>suv         </td><td>161         </td></tr>\n",
       "\t<tr><th scope=row>16</th><td>subaru      </td><td>forester awd</td><td>2.5         </td><td>2008        </td><td>4           </td><td>manual(m5)  </td><td>4           </td><td>20          </td><td>27          </td><td>r           </td><td>suv         </td><td>162         </td></tr>\n",
       "\t<tr><th scope=row>17</th><td>subaru      </td><td>forester awd</td><td>2.5         </td><td>2008        </td><td>4           </td><td>manual(m5)  </td><td>4           </td><td>19          </td><td>25          </td><td>p           </td><td>suv         </td><td>163         </td></tr>\n",
       "\t<tr><th scope=row>18</th><td>subaru      </td><td>forester awd</td><td>2.5         </td><td>2008        </td><td>4           </td><td>auto(l4)    </td><td>4           </td><td>20          </td><td>26          </td><td>r           </td><td>suv         </td><td>164         </td></tr>\n",
       "\t<tr><th scope=row>19</th><td>subaru      </td><td>forester awd</td><td>2.5         </td><td>2008        </td><td>4           </td><td>auto(l4)    </td><td>4           </td><td>18          </td><td>23          </td><td>p           </td><td>suv         </td><td>165         </td></tr>\n",
       "</tbody>\n",
       "</table>\n"
      ],
      "text/latex": [
       "\\begin{tabular}{r|llllllllllll}\n",
       "  & manufacturer & model & displ & year & cyl & trans & drv & cty & hwy & fl & class & name\\\\\n",
       "\\hline\n",
       "\t1 & toyota     & corolla    & 1.8        & 1999       & 4          & manual(m5) & f          & 26         & 35         & r          & compact    & 196       \\\\\n",
       "\t2 & toyota     & corolla    & 1.8        & 2008       & 4          & manual(m5) & f          & 28         & 37         & r          & compact    & 197       \\\\\n",
       "\t3 & toyota   & corolla  & 1.8      & 2008     & 4        & auto(l4) & f        & 26       & 35       & r        & compact  & 198     \\\\\n",
       "\t4 & volkswagen & jetta      & 1.9        & 1999       & 4          & manual(m5) & f          & 33         & 44         & d          & compact    & 213       \\\\\n",
       "\t5 & dodge       & caravan 2wd & 3.3         & 2008        & 6           & auto(l4)    & f           & 11          & 17          & e           & minivan     & 44         \\\\\n",
       "\t6 & dodge             & dakota pickup 4wd & 4.7               & 2008              & 8                 & auto(l5)          & 4                 & 9                 & 12                & e                 & pickup            & 55               \\\\\n",
       "\t7 & dodge               & ram 1500 pickup 4wd & 4.7                 & 2008                & 8                   & auto(l5)            & 4                   & 9                   & 12                  & e                   & pickup              & 66                 \\\\\n",
       "\t8 & dodge               & ram 1500 pickup 4wd & 4.7                 & 2008                & 8                   & manual(m6)          & 4                   & 9                   & 12                  & e                   & pickup              & 70                 \\\\\n",
       "\t9 & toyota            & toyota tacoma 4wd & 2.7               & 2008              & 4                 & manual(m5)        & 4                 & 17                & 22                & r                 & pickup            & 203              \\\\\n",
       "\t10 & volkswagen & new beetle & 1.9        & 1999       & 4          & manual(m5) & f          & 35         & 44         & d          & subcompact & 222       \\\\\n",
       "\t11 & volkswagen & new beetle & 1.9        & 1999       & 4          & auto(l4)   & f          & 29         & 41         & d          & subcompact & 223       \\\\\n",
       "\t12 & dodge       & durango 4wd & 4.7         & 2008        & 8           & auto(l5)    & 4           & 9           & 12          & e           & suv         & 60         \\\\\n",
       "\t13 & jeep               & grand cherokee 4wd & 4.7                & 2008               & 8                  & auto(l5)           & 4                  & 9                  & 12                 & e                  & suv                & 127               \\\\\n",
       "\t14 & subaru       & forester awd & 2.5          & 1999         & 4            & manual(m5)   & 4            & 18           & 25           & r            & suv          & 160         \\\\\n",
       "\t15 & subaru       & forester awd & 2.5          & 1999         & 4            & auto(l4)     & 4            & 18           & 24           & r            & suv          & 161         \\\\\n",
       "\t16 & subaru       & forester awd & 2.5          & 2008         & 4            & manual(m5)   & 4            & 20           & 27           & r            & suv          & 162         \\\\\n",
       "\t17 & subaru       & forester awd & 2.5          & 2008         & 4            & manual(m5)   & 4            & 19           & 25           & p            & suv          & 163         \\\\\n",
       "\t18 & subaru       & forester awd & 2.5          & 2008         & 4            & auto(l4)     & 4            & 20           & 26           & r            & suv          & 164         \\\\\n",
       "\t19 & subaru       & forester awd & 2.5          & 2008         & 4            & auto(l4)     & 4            & 18           & 23           & p            & suv          & 165         \\\\\n",
       "\\end{tabular}\n"
      ],
      "text/plain": [
       "   manufacturer               model displ year cyl      trans drv cty hwy fl\n",
       "1        toyota             corolla   1.8 1999   4 manual(m5)   f  26  35  r\n",
       "2        toyota             corolla   1.8 2008   4 manual(m5)   f  28  37  r\n",
       "3        toyota             corolla   1.8 2008   4   auto(l4)   f  26  35  r\n",
       "4    volkswagen               jetta   1.9 1999   4 manual(m5)   f  33  44  d\n",
       "5         dodge         caravan 2wd   3.3 2008   6   auto(l4)   f  11  17  e\n",
       "6         dodge   dakota pickup 4wd   4.7 2008   8   auto(l5)   4   9  12  e\n",
       "7         dodge ram 1500 pickup 4wd   4.7 2008   8   auto(l5)   4   9  12  e\n",
       "8         dodge ram 1500 pickup 4wd   4.7 2008   8 manual(m6)   4   9  12  e\n",
       "9        toyota   toyota tacoma 4wd   2.7 2008   4 manual(m5)   4  17  22  r\n",
       "10   volkswagen          new beetle   1.9 1999   4 manual(m5)   f  35  44  d\n",
       "11   volkswagen          new beetle   1.9 1999   4   auto(l4)   f  29  41  d\n",
       "12        dodge         durango 4wd   4.7 2008   8   auto(l5)   4   9  12  e\n",
       "13         jeep  grand cherokee 4wd   4.7 2008   8   auto(l5)   4   9  12  e\n",
       "14       subaru        forester awd   2.5 1999   4 manual(m5)   4  18  25  r\n",
       "15       subaru        forester awd   2.5 1999   4   auto(l4)   4  18  24  r\n",
       "16       subaru        forester awd   2.5 2008   4 manual(m5)   4  20  27  r\n",
       "17       subaru        forester awd   2.5 2008   4 manual(m5)   4  19  25  p\n",
       "18       subaru        forester awd   2.5 2008   4   auto(l4)   4  20  26  r\n",
       "19       subaru        forester awd   2.5 2008   4   auto(l4)   4  18  23  p\n",
       "        class name\n",
       "1     compact  196\n",
       "2     compact  197\n",
       "3     compact  198\n",
       "4     compact  213\n",
       "5     minivan   44\n",
       "6      pickup   55\n",
       "7      pickup   66\n",
       "8      pickup   70\n",
       "9      pickup  203\n",
       "10 subcompact  222\n",
       "11 subcompact  223\n",
       "12        suv   60\n",
       "13        suv  127\n",
       "14        suv  160\n",
       "15        suv  161\n",
       "16        suv  162\n",
       "17        suv  163\n",
       "18        suv  164\n",
       "19        suv  165"
      ]
     },
     "metadata": {},
     "output_type": "display_data"
    }
   ],
   "source": [
    "mpg %>% group_by(class) %>%\n",
    "  do(filter.Outlier((.))) \n",
    "# do -> 그룹별로 함수 적용 \n",
    "# (짤라냈던 각각의 df를 . 자리가 각각 넣어서 한다. 그리고 결과를 합친다.)"
   ]
  },
  {
   "cell_type": "markdown",
   "metadata": {},
   "source": [
    " - name자리에 새로운 Column 명을 한다면 해당 부분이 Label이 된다. "
   ]
  },
  {
   "cell_type": "code",
   "execution_count": 63,
   "metadata": {
    "collapsed": false
   },
   "outputs": [
    {
     "data": {},
     "metadata": {},
     "output_type": "display_data"
    },
    {
     "data": {
      "image/png": "[encoded data removed]",
      "text/plain": [
       "plot without title"
      ]
     },
     "metadata": {},
     "output_type": "display_data"
    }
   ],
   "source": [
    "x = mpg %>% group_by(class) %>% do(filter.Outlier(.))\n",
    "\n",
    "ggplot(mpg, aes(class,hwy)) + geom_boxplot(outlier.alpha = 0) +\n",
    "  geom_text(data=x,aes(label=name))"
   ]
  },
  {
   "cell_type": "markdown",
   "metadata": {},
   "source": [
    "### 2. 연비 top3 "
   ]
  },
  {
   "cell_type": "code",
   "execution_count": 64,
   "metadata": {
    "collapsed": false
   },
   "outputs": [
    {
     "data": {
      "text/html": [
       "<table>\n",
       "<thead><tr><th></th><th scope=col>manufacturer</th><th scope=col>model</th><th scope=col>displ</th><th scope=col>year</th><th scope=col>cyl</th><th scope=col>trans</th><th scope=col>drv</th><th scope=col>cty</th><th scope=col>hwy</th><th scope=col>fl</th><th scope=col>class</th><th scope=col>name</th></tr></thead>\n",
       "<tbody>\n",
       "\t<tr><th scope=row>1</th><td>toyota     </td><td>4runner 4wd</td><td>2.7        </td><td>1999       </td><td>4          </td><td>manual(m5) </td><td>4          </td><td>15         </td><td>20         </td><td>r          </td><td>suv        </td><td>174        </td></tr>\n",
       "\t<tr><th scope=row>2</th><td>toyota     </td><td>4runner 4wd</td><td>2.7        </td><td>1999       </td><td>4          </td><td>auto(l4)   </td><td>4          </td><td>16         </td><td>20         </td><td>r          </td><td>suv        </td><td>175        </td></tr>\n",
       "\t<tr><th scope=row>3</th><td>toyota     </td><td>4runner 4wd</td><td>4          </td><td>2008       </td><td>6          </td><td>auto(l5)   </td><td>4          </td><td>16         </td><td>20         </td><td>r          </td><td>suv        </td><td>178        </td></tr>\n",
       "\t<tr><th scope=row>4</th><td>audi      </td><td>a4        </td><td>2         </td><td>2008      </td><td>4         </td><td>manual(m6)</td><td>f         </td><td>20        </td><td>31        </td><td>p         </td><td>compact   </td><td>3         </td></tr>\n",
       "\t<tr><th scope=row>5</th><td>audi    </td><td>a4      </td><td>2       </td><td>2008    </td><td>4       </td><td>auto(av)</td><td>f       </td><td>21      </td><td>30      </td><td>p       </td><td>compact </td><td>4       </td></tr>\n",
       "\t<tr><th scope=row>6</th><td>audi    </td><td>a4      </td><td>1.8     </td><td>1999    </td><td>4       </td><td>auto(l5)</td><td>f       </td><td>18      </td><td>29      </td><td>p       </td><td>compact </td><td>1       </td></tr>\n",
       "\t<tr><th scope=row>7</th><td>audi      </td><td>a4 quattro</td><td>2         </td><td>2008      </td><td>4         </td><td>manual(m6)</td><td>4         </td><td>20        </td><td>28        </td><td>p         </td><td>compact   </td><td>10        </td></tr>\n",
       "\t<tr><th scope=row>8</th><td>audi      </td><td>a4 quattro</td><td>2         </td><td>2008      </td><td>4         </td><td>auto(s6)  </td><td>4         </td><td>19        </td><td>27        </td><td>p         </td><td>compact   </td><td>11        </td></tr>\n",
       "\t<tr><th scope=row>9</th><td>audi      </td><td>a4 quattro</td><td>1.8       </td><td>1999      </td><td>4         </td><td>manual(m5)</td><td>4         </td><td>18        </td><td>26        </td><td>p         </td><td>compact   </td><td>8         </td></tr>\n",
       "\t<tr><th scope=row>10</th><td>audi      </td><td>a6 quattro</td><td>3.1       </td><td>2008      </td><td>6         </td><td>auto(s6)  </td><td>4         </td><td>17        </td><td>25        </td><td>p         </td><td>midsize   </td><td>17        </td></tr>\n",
       "\t<tr><th scope=row>11</th><td>audi      </td><td>a6 quattro</td><td>2.8       </td><td>1999      </td><td>6         </td><td>auto(l5)  </td><td>4         </td><td>15        </td><td>24        </td><td>p         </td><td>midsize   </td><td>16        </td></tr>\n",
       "\t<tr><th scope=row>12</th><td>audi      </td><td>a6 quattro</td><td>4.2       </td><td>2008      </td><td>8         </td><td>auto(s6)  </td><td>4         </td><td>16        </td><td>23        </td><td>p         </td><td>midsize   </td><td>18        </td></tr>\n",
       "\t<tr><th scope=row>13</th><td>nissan    </td><td>altima    </td><td>2.5       </td><td>2008      </td><td>4         </td><td>manual(m6)</td><td>f         </td><td>23        </td><td>32        </td><td>r         </td><td>midsize   </td><td>145       </td></tr>\n",
       "\t<tr><th scope=row>14</th><td>nissan  </td><td>altima  </td><td>2.5     </td><td>2008    </td><td>4       </td><td>auto(av)</td><td>f       </td><td>23      </td><td>31      </td><td>r       </td><td>midsize </td><td>144     </td></tr>\n",
       "\t<tr><th scope=row>15</th><td>nissan    </td><td>altima    </td><td>2.4       </td><td>1999      </td><td>4         </td><td>manual(m5)</td><td>f         </td><td>21        </td><td>29        </td><td>r         </td><td>compact   </td><td>142       </td></tr>\n",
       "\t<tr><th scope=row>16</th><td>chevrolet         </td><td>c1500 suburban 2wd</td><td>5.3               </td><td>2008              </td><td>8                 </td><td>auto(l4)          </td><td>r                 </td><td>14                </td><td>20                </td><td>r                 </td><td>suv               </td><td>19                </td></tr>\n",
       "\t<tr><th scope=row>17</th><td>chevrolet         </td><td>c1500 suburban 2wd</td><td>5.3               </td><td>2008              </td><td>8                 </td><td>auto(l4)          </td><td>r                 </td><td>14                </td><td>20                </td><td>r                 </td><td>suv               </td><td>21                </td></tr>\n",
       "\t<tr><th scope=row>18</th><td>chevrolet         </td><td>c1500 suburban 2wd</td><td>5.7               </td><td>1999              </td><td>8                 </td><td>auto(l4)          </td><td>r                 </td><td>13                </td><td>17                </td><td>r                 </td><td>suv               </td><td>22                </td></tr>\n",
       "\t<tr><th scope=row>19</th><td>toyota    </td><td>camry     </td><td>2.4       </td><td>2008      </td><td>4         </td><td>manual(m5)</td><td>f         </td><td>21        </td><td>31        </td><td>r         </td><td>midsize   </td><td>182       </td></tr>\n",
       "\t<tr><th scope=row>20</th><td>toyota  </td><td>camry   </td><td>2.4     </td><td>2008    </td><td>4       </td><td>auto(l5)</td><td>f       </td><td>21      </td><td>31      </td><td>r       </td><td>midsize </td><td>183     </td></tr>\n",
       "\t<tr><th scope=row>21</th><td>toyota    </td><td>camry     </td><td>2.2       </td><td>1999      </td><td>4         </td><td>manual(m5)</td><td>f         </td><td>21        </td><td>29        </td><td>r         </td><td>midsize   </td><td>180       </td></tr>\n",
       "\t<tr><th scope=row>22</th><td>toyota      </td><td>camry solara</td><td>2.4         </td><td>2008        </td><td>4           </td><td>manual(m5)  </td><td>f           </td><td>21          </td><td>31          </td><td>r           </td><td>compact     </td><td>189         </td></tr>\n",
       "\t<tr><th scope=row>23</th><td>toyota      </td><td>camry solara</td><td>2.4         </td><td>2008        </td><td>4           </td><td>auto(s5)    </td><td>f           </td><td>22          </td><td>31          </td><td>r           </td><td>compact     </td><td>190         </td></tr>\n",
       "\t<tr><th scope=row>24</th><td>toyota      </td><td>camry solara</td><td>2.2         </td><td>1999        </td><td>4           </td><td>manual(m5)  </td><td>f           </td><td>21          </td><td>29          </td><td>r           </td><td>compact     </td><td>188         </td></tr>\n",
       "\t<tr><th scope=row>25</th><td>dodge      </td><td>caravan 2wd</td><td>2.4        </td><td>1999       </td><td>4          </td><td>auto(l3)   </td><td>f          </td><td>18         </td><td>24         </td><td>r          </td><td>minivan    </td><td>38         </td></tr>\n",
       "\t<tr><th scope=row>26</th><td>dodge      </td><td>caravan 2wd</td><td>3          </td><td>1999       </td><td>6          </td><td>auto(l4)   </td><td>f          </td><td>17         </td><td>24         </td><td>r          </td><td>minivan    </td><td>39         </td></tr>\n",
       "\t<tr><th scope=row>27</th><td>dodge      </td><td>caravan 2wd</td><td>3.3        </td><td>2008       </td><td>6          </td><td>auto(l4)   </td><td>f          </td><td>17         </td><td>24         </td><td>r          </td><td>minivan    </td><td>42         </td></tr>\n",
       "\t<tr><th scope=row>28</th><td>honda     </td><td>civic     </td><td>1.8       </td><td>2008      </td><td>4         </td><td>auto(l5)  </td><td>f         </td><td>25        </td><td>36        </td><td>r         </td><td>subcompact</td><td>106       </td></tr>\n",
       "\t<tr><th scope=row>29</th><td>honda     </td><td>civic     </td><td>1.8       </td><td>2008      </td><td>4         </td><td>auto(l5)  </td><td>f         </td><td>24        </td><td>36        </td><td>c         </td><td>subcompact</td><td>107       </td></tr>\n",
       "\t<tr><th scope=row>30</th><td>honda     </td><td>civic     </td><td>1.8       </td><td>2008      </td><td>4         </td><td>manual(m5)</td><td>f         </td><td>26        </td><td>34        </td><td>r         </td><td>subcompact</td><td>105       </td></tr>\n",
       "\t<tr><th scope=row>...</th><td>...</td><td>...</td><td>...</td><td>...</td><td>...</td><td>...</td><td>...</td><td>...</td><td>...</td><td>...</td><td>...</td><td>...</td></tr>\n",
       "\t<tr><th scope=row>84</th><td>ford      </td><td>mustang   </td><td>3.8       </td><td>1999      </td><td>6         </td><td>manual(m5)</td><td>r         </td><td>18        </td><td>26        </td><td>r         </td><td>subcompact</td><td>91        </td></tr>\n",
       "\t<tr><th scope=row>85</th><td>ford      </td><td>mustang   </td><td>4         </td><td>2008      </td><td>6         </td><td>manual(m5)</td><td>r         </td><td>17        </td><td>26        </td><td>r         </td><td>subcompact</td><td>93        </td></tr>\n",
       "\t<tr><th scope=row>86</th><td>ford      </td><td>mustang   </td><td>3.8       </td><td>1999      </td><td>6         </td><td>auto(l4)  </td><td>r         </td><td>18        </td><td>25        </td><td>r         </td><td>subcompact</td><td>92        </td></tr>\n",
       "\t<tr><th scope=row>87</th><td>lincoln      </td><td>navigator 2wd</td><td>5.4          </td><td>2008         </td><td>8            </td><td>auto(l6)     </td><td>r            </td><td>12           </td><td>18           </td><td>r            </td><td>suv          </td><td>137          </td></tr>\n",
       "\t<tr><th scope=row>88</th><td>lincoln      </td><td>navigator 2wd</td><td>5.4          </td><td>1999         </td><td>8            </td><td>auto(l4)     </td><td>r            </td><td>11           </td><td>17           </td><td>r            </td><td>suv          </td><td>135          </td></tr>\n",
       "\t<tr><th scope=row>89</th><td>lincoln      </td><td>navigator 2wd</td><td>5.4          </td><td>1999         </td><td>8            </td><td>auto(l4)     </td><td>r            </td><td>11           </td><td>16           </td><td>p            </td><td>suv          </td><td>136          </td></tr>\n",
       "\t<tr><th scope=row>90</th><td>volkswagen</td><td>new beetle</td><td>1.9       </td><td>1999      </td><td>4         </td><td>manual(m5)</td><td>f         </td><td>35        </td><td>44        </td><td>d         </td><td>subcompact</td><td>222       </td></tr>\n",
       "\t<tr><th scope=row>91</th><td>volkswagen</td><td>new beetle</td><td>1.9       </td><td>1999      </td><td>4         </td><td>auto(l4)  </td><td>f         </td><td>29        </td><td>41        </td><td>d         </td><td>subcompact</td><td>223       </td></tr>\n",
       "\t<tr><th scope=row>92</th><td>volkswagen</td><td>new beetle</td><td>2         </td><td>1999      </td><td>4         </td><td>manual(m5)</td><td>f         </td><td>21        </td><td>29        </td><td>r         </td><td>subcompact</td><td>224       </td></tr>\n",
       "\t<tr><th scope=row>93</th><td>volkswagen</td><td>passat    </td><td>1.8       </td><td>1999      </td><td>4         </td><td>manual(m5)</td><td>f         </td><td>21        </td><td>29        </td><td>p         </td><td>midsize   </td><td>228       </td></tr>\n",
       "\t<tr><th scope=row>94</th><td>volkswagen</td><td>passat    </td><td>1.8       </td><td>1999      </td><td>4         </td><td>auto(l5)  </td><td>f         </td><td>18        </td><td>29        </td><td>p         </td><td>midsize   </td><td>229       </td></tr>\n",
       "\t<tr><th scope=row>95</th><td>volkswagen</td><td>passat    </td><td>2         </td><td>2008      </td><td>4         </td><td>manual(m6)</td><td>f         </td><td>21        </td><td>29        </td><td>p         </td><td>midsize   </td><td>231       </td></tr>\n",
       "\t<tr><th scope=row>96</th><td>nissan        </td><td>pathfinder 4wd</td><td>4             </td><td>2008          </td><td>6             </td><td>auto(l5)      </td><td>4             </td><td>14            </td><td>20            </td><td>p             </td><td>suv           </td><td>153           </td></tr>\n",
       "\t<tr><th scope=row>97</th><td>nissan        </td><td>pathfinder 4wd</td><td>5.6           </td><td>2008          </td><td>8             </td><td>auto(s5)      </td><td>4             </td><td>12            </td><td>18            </td><td>p             </td><td>suv           </td><td>154           </td></tr>\n",
       "\t<tr><th scope=row>98</th><td>nissan        </td><td>pathfinder 4wd</td><td>3.3           </td><td>1999          </td><td>6             </td><td>auto(l4)      </td><td>4             </td><td>14            </td><td>17            </td><td>r             </td><td>suv           </td><td>151           </td></tr>\n",
       "\t<tr><th scope=row>99</th><td>dodge              </td><td>ram 1500 pickup 4wd</td><td>4.7                </td><td>2008               </td><td>8                  </td><td>auto(l5)           </td><td>4                  </td><td>13                 </td><td>17                 </td><td>r                  </td><td>pickup             </td><td>67                 </td></tr>\n",
       "\t<tr><th scope=row>100</th><td>dodge              </td><td>ram 1500 pickup 4wd</td><td>4.7                </td><td>2008               </td><td>8                  </td><td>auto(l5)           </td><td>4                  </td><td>13                 </td><td>17                 </td><td>r                  </td><td>pickup             </td><td>68                 </td></tr>\n",
       "\t<tr><th scope=row>101</th><td>dodge              </td><td>ram 1500 pickup 4wd</td><td>5.7                </td><td>2008               </td><td>8                  </td><td>auto(l5)           </td><td>4                  </td><td>13                 </td><td>17                 </td><td>r                  </td><td>pickup             </td><td>73                 </td></tr>\n",
       "\t<tr><th scope=row>102</th><td>land rover </td><td>range rover</td><td>4.2        </td><td>2008       </td><td>8          </td><td>auto(s6)   </td><td>4          </td><td>12         </td><td>18         </td><td>r          </td><td>suv        </td><td>132        </td></tr>\n",
       "\t<tr><th scope=row>103</th><td>land rover </td><td>range rover</td><td>4.4        </td><td>2008       </td><td>8          </td><td>auto(s6)   </td><td>4          </td><td>12         </td><td>18         </td><td>r          </td><td>suv        </td><td>133        </td></tr>\n",
       "\t<tr><th scope=row>104</th><td>land rover </td><td>range rover</td><td>4          </td><td>1999       </td><td>8          </td><td>auto(l4)   </td><td>4          </td><td>11         </td><td>15         </td><td>p          </td><td>suv        </td><td>131        </td></tr>\n",
       "\t<tr><th scope=row>105</th><td>hyundai   </td><td>sonata    </td><td>2.4       </td><td>2008      </td><td>4         </td><td>manual(m5)</td><td>f         </td><td>21        </td><td>31        </td><td>r         </td><td>midsize   </td><td>112       </td></tr>\n",
       "\t<tr><th scope=row>106</th><td>hyundai </td><td>sonata  </td><td>2.4     </td><td>2008    </td><td>4       </td><td>auto(l4)</td><td>f       </td><td>21      </td><td>30      </td><td>r       </td><td>midsize </td><td>111     </td></tr>\n",
       "\t<tr><th scope=row>107</th><td>hyundai </td><td>sonata  </td><td>3.3     </td><td>2008    </td><td>6       </td><td>auto(l5)</td><td>f       </td><td>19      </td><td>28      </td><td>r       </td><td>midsize </td><td>115     </td></tr>\n",
       "\t<tr><th scope=row>108</th><td>hyundai   </td><td>tiburon   </td><td>2         </td><td>1999      </td><td>4         </td><td>manual(m5)</td><td>f         </td><td>19        </td><td>29        </td><td>r         </td><td>subcompact</td><td>117       </td></tr>\n",
       "\t<tr><th scope=row>109</th><td>hyundai   </td><td>tiburon   </td><td>2         </td><td>2008      </td><td>4         </td><td>manual(m5)</td><td>f         </td><td>20        </td><td>28        </td><td>r         </td><td>subcompact</td><td>118       </td></tr>\n",
       "\t<tr><th scope=row>110</th><td>hyundai   </td><td>tiburon   </td><td>2         </td><td>2008      </td><td>4         </td><td>auto(l4)  </td><td>f         </td><td>20        </td><td>27        </td><td>r         </td><td>subcompact</td><td>119       </td></tr>\n",
       "\t<tr><th scope=row>111</th><td>toyota           </td><td>toyota tacoma 4wd</td><td>2.7              </td><td>2008             </td><td>4                </td><td>manual(m5)       </td><td>4                </td><td>17               </td><td>22               </td><td>r                </td><td>pickup           </td><td>203              </td></tr>\n",
       "\t<tr><th scope=row>112</th><td>toyota           </td><td>toyota tacoma 4wd</td><td>2.7              </td><td>1999             </td><td>4                </td><td>manual(m5)       </td><td>4                </td><td>15               </td><td>20               </td><td>r                </td><td>pickup           </td><td>201              </td></tr>\n",
       "\t<tr><th scope=row>113</th><td>toyota           </td><td>toyota tacoma 4wd</td><td>2.7              </td><td>1999             </td><td>4                </td><td>auto(l4)         </td><td>4                </td><td>16               </td><td>20               </td><td>r                </td><td>pickup           </td><td>202              </td></tr>\n",
       "</tbody>\n",
       "</table>\n"
      ],
      "text/latex": [
       "\\begin{tabular}{r|llllllllllll}\n",
       "  & manufacturer & model & displ & year & cyl & trans & drv & cty & hwy & fl & class & name\\\\\n",
       "\\hline\n",
       "\t1 & toyota      & 4runner 4wd & 2.7         & 1999        & 4           & manual(m5)  & 4           & 15          & 20          & r           & suv         & 174        \\\\\n",
       "\t2 & toyota      & 4runner 4wd & 2.7         & 1999        & 4           & auto(l4)    & 4           & 16          & 20          & r           & suv         & 175        \\\\\n",
       "\t3 & toyota      & 4runner 4wd & 4           & 2008        & 6           & auto(l5)    & 4           & 16          & 20          & r           & suv         & 178        \\\\\n",
       "\t4 & audi       & a4         & 2          & 2008       & 4          & manual(m6) & f          & 20         & 31         & p          & compact    & 3         \\\\\n",
       "\t5 & audi     & a4       & 2        & 2008     & 4        & auto(av) & f        & 21       & 30       & p        & compact  & 4       \\\\\n",
       "\t6 & audi     & a4       & 1.8      & 1999     & 4        & auto(l5) & f        & 18       & 29       & p        & compact  & 1       \\\\\n",
       "\t7 & audi       & a4 quattro & 2          & 2008       & 4          & manual(m6) & 4          & 20         & 28         & p          & compact    & 10        \\\\\n",
       "\t8 & audi       & a4 quattro & 2          & 2008       & 4          & auto(s6)   & 4          & 19         & 27         & p          & compact    & 11        \\\\\n",
       "\t9 & audi       & a4 quattro & 1.8        & 1999       & 4          & manual(m5) & 4          & 18         & 26         & p          & compact    & 8         \\\\\n",
       "\t10 & audi       & a6 quattro & 3.1        & 2008       & 6          & auto(s6)   & 4          & 17         & 25         & p          & midsize    & 17        \\\\\n",
       "\t11 & audi       & a6 quattro & 2.8        & 1999       & 6          & auto(l5)   & 4          & 15         & 24         & p          & midsize    & 16        \\\\\n",
       "\t12 & audi       & a6 quattro & 4.2        & 2008       & 8          & auto(s6)   & 4          & 16         & 23         & p          & midsize    & 18        \\\\\n",
       "\t13 & nissan     & altima     & 2.5        & 2008       & 4          & manual(m6) & f          & 23         & 32         & r          & midsize    & 145       \\\\\n",
       "\t14 & nissan   & altima   & 2.5      & 2008     & 4        & auto(av) & f        & 23       & 31       & r        & midsize  & 144     \\\\\n",
       "\t15 & nissan     & altima     & 2.4        & 1999       & 4          & manual(m5) & f          & 21         & 29         & r          & compact    & 142       \\\\\n",
       "\t16 & chevrolet          & c1500 suburban 2wd & 5.3                & 2008               & 8                  & auto(l4)           & r                  & 14                 & 20                 & r                  & suv                & 19                \\\\\n",
       "\t17 & chevrolet          & c1500 suburban 2wd & 5.3                & 2008               & 8                  & auto(l4)           & r                  & 14                 & 20                 & r                  & suv                & 21                \\\\\n",
       "\t18 & chevrolet          & c1500 suburban 2wd & 5.7                & 1999               & 8                  & auto(l4)           & r                  & 13                 & 17                 & r                  & suv                & 22                \\\\\n",
       "\t19 & toyota     & camry      & 2.4        & 2008       & 4          & manual(m5) & f          & 21         & 31         & r          & midsize    & 182       \\\\\n",
       "\t20 & toyota   & camry    & 2.4      & 2008     & 4        & auto(l5) & f        & 21       & 31       & r        & midsize  & 183     \\\\\n",
       "\t21 & toyota     & camry      & 2.2        & 1999       & 4          & manual(m5) & f          & 21         & 29         & r          & midsize    & 180       \\\\\n",
       "\t22 & toyota       & camry solara & 2.4          & 2008         & 4            & manual(m5)   & f            & 21           & 31           & r            & compact      & 189         \\\\\n",
       "\t23 & toyota       & camry solara & 2.4          & 2008         & 4            & auto(s5)     & f            & 22           & 31           & r            & compact      & 190         \\\\\n",
       "\t24 & toyota       & camry solara & 2.2          & 1999         & 4            & manual(m5)   & f            & 21           & 29           & r            & compact      & 188         \\\\\n",
       "\t25 & dodge       & caravan 2wd & 2.4         & 1999        & 4           & auto(l3)    & f           & 18          & 24          & r           & minivan     & 38         \\\\\n",
       "\t26 & dodge       & caravan 2wd & 3           & 1999        & 6           & auto(l4)    & f           & 17          & 24          & r           & minivan     & 39         \\\\\n",
       "\t27 & dodge       & caravan 2wd & 3.3         & 2008        & 6           & auto(l4)    & f           & 17          & 24          & r           & minivan     & 42         \\\\\n",
       "\t28 & honda      & civic      & 1.8        & 2008       & 4          & auto(l5)   & f          & 25         & 36         & r          & subcompact & 106       \\\\\n",
       "\t29 & honda      & civic      & 1.8        & 2008       & 4          & auto(l5)   & f          & 24         & 36         & c          & subcompact & 107       \\\\\n",
       "\t30 & honda      & civic      & 1.8        & 2008       & 4          & manual(m5) & f          & 26         & 34         & r          & subcompact & 105       \\\\\n",
       "\t... & ... & ... & ... & ... & ... & ... & ... & ... & ... & ... & ... & ...\\\\\n",
       "\t84 & ford       & mustang    & 3.8        & 1999       & 6          & manual(m5) & r          & 18         & 26         & r          & subcompact & 91        \\\\\n",
       "\t85 & ford       & mustang    & 4          & 2008       & 6          & manual(m5) & r          & 17         & 26         & r          & subcompact & 93        \\\\\n",
       "\t86 & ford       & mustang    & 3.8        & 1999       & 6          & auto(l4)   & r          & 18         & 25         & r          & subcompact & 92        \\\\\n",
       "\t87 & lincoln       & navigator 2wd & 5.4           & 2008          & 8             & auto(l6)      & r             & 12            & 18            & r             & suv           & 137          \\\\\n",
       "\t88 & lincoln       & navigator 2wd & 5.4           & 1999          & 8             & auto(l4)      & r             & 11            & 17            & r             & suv           & 135          \\\\\n",
       "\t89 & lincoln       & navigator 2wd & 5.4           & 1999          & 8             & auto(l4)      & r             & 11            & 16            & p             & suv           & 136          \\\\\n",
       "\t90 & volkswagen & new beetle & 1.9        & 1999       & 4          & manual(m5) & f          & 35         & 44         & d          & subcompact & 222       \\\\\n",
       "\t91 & volkswagen & new beetle & 1.9        & 1999       & 4          & auto(l4)   & f          & 29         & 41         & d          & subcompact & 223       \\\\\n",
       "\t92 & volkswagen & new beetle & 2          & 1999       & 4          & manual(m5) & f          & 21         & 29         & r          & subcompact & 224       \\\\\n",
       "\t93 & volkswagen & passat     & 1.8        & 1999       & 4          & manual(m5) & f          & 21         & 29         & p          & midsize    & 228       \\\\\n",
       "\t94 & volkswagen & passat     & 1.8        & 1999       & 4          & auto(l5)   & f          & 18         & 29         & p          & midsize    & 229       \\\\\n",
       "\t95 & volkswagen & passat     & 2          & 2008       & 4          & manual(m6) & f          & 21         & 29         & p          & midsize    & 231       \\\\\n",
       "\t96 & nissan         & pathfinder 4wd & 4              & 2008           & 6              & auto(l5)       & 4              & 14             & 20             & p              & suv            & 153           \\\\\n",
       "\t97 & nissan         & pathfinder 4wd & 5.6            & 2008           & 8              & auto(s5)       & 4              & 12             & 18             & p              & suv            & 154           \\\\\n",
       "\t98 & nissan         & pathfinder 4wd & 3.3            & 1999           & 6              & auto(l4)       & 4              & 14             & 17             & r              & suv            & 151           \\\\\n",
       "\t99 & dodge               & ram 1500 pickup 4wd & 4.7                 & 2008                & 8                   & auto(l5)            & 4                   & 13                  & 17                  & r                   & pickup              & 67                 \\\\\n",
       "\t100 & dodge               & ram 1500 pickup 4wd & 4.7                 & 2008                & 8                   & auto(l5)            & 4                   & 13                  & 17                  & r                   & pickup              & 68                 \\\\\n",
       "\t101 & dodge               & ram 1500 pickup 4wd & 5.7                 & 2008                & 8                   & auto(l5)            & 4                   & 13                  & 17                  & r                   & pickup              & 73                 \\\\\n",
       "\t102 & land rover  & range rover & 4.2         & 2008        & 8           & auto(s6)    & 4           & 12          & 18          & r           & suv         & 132        \\\\\n",
       "\t103 & land rover  & range rover & 4.4         & 2008        & 8           & auto(s6)    & 4           & 12          & 18          & r           & suv         & 133        \\\\\n",
       "\t104 & land rover  & range rover & 4           & 1999        & 8           & auto(l4)    & 4           & 11          & 15          & p           & suv         & 131        \\\\\n",
       "\t105 & hyundai    & sonata     & 2.4        & 2008       & 4          & manual(m5) & f          & 21         & 31         & r          & midsize    & 112       \\\\\n",
       "\t106 & hyundai  & sonata   & 2.4      & 2008     & 4        & auto(l4) & f        & 21       & 30       & r        & midsize  & 111     \\\\\n",
       "\t107 & hyundai  & sonata   & 3.3      & 2008     & 6        & auto(l5) & f        & 19       & 28       & r        & midsize  & 115     \\\\\n",
       "\t108 & hyundai    & tiburon    & 2          & 1999       & 4          & manual(m5) & f          & 19         & 29         & r          & subcompact & 117       \\\\\n",
       "\t109 & hyundai    & tiburon    & 2          & 2008       & 4          & manual(m5) & f          & 20         & 28         & r          & subcompact & 118       \\\\\n",
       "\t110 & hyundai    & tiburon    & 2          & 2008       & 4          & auto(l4)   & f          & 20         & 27         & r          & subcompact & 119       \\\\\n",
       "\t111 & toyota            & toyota tacoma 4wd & 2.7               & 2008              & 4                 & manual(m5)        & 4                 & 17                & 22                & r                 & pickup            & 203              \\\\\n",
       "\t112 & toyota            & toyota tacoma 4wd & 2.7               & 1999              & 4                 & manual(m5)        & 4                 & 15                & 20                & r                 & pickup            & 201              \\\\\n",
       "\t113 & toyota            & toyota tacoma 4wd & 2.7               & 1999              & 4                 & auto(l4)          & 4                 & 16                & 20                & r                 & pickup            & 202              \\\\\n",
       "\\end{tabular}\n"
      ],
      "text/plain": [
       "    manufacturer               model displ year cyl      trans drv cty hwy  fl\n",
       "1         toyota         4runner 4wd   2.7 1999   4 manual(m5)   4  15  20   r\n",
       "2         toyota         4runner 4wd   2.7 1999   4   auto(l4)   4  16  20   r\n",
       "3         toyota         4runner 4wd     4 2008   6   auto(l5)   4  16  20   r\n",
       "4           audi                  a4     2 2008   4 manual(m6)   f  20  31   p\n",
       "5           audi                  a4     2 2008   4   auto(av)   f  21  30   p\n",
       "6           audi                  a4   1.8 1999   4   auto(l5)   f  18  29   p\n",
       "7           audi          a4 quattro     2 2008   4 manual(m6)   4  20  28   p\n",
       "8           audi          a4 quattro     2 2008   4   auto(s6)   4  19  27   p\n",
       "9           audi          a4 quattro   1.8 1999   4 manual(m5)   4  18  26   p\n",
       "10          audi          a6 quattro   3.1 2008   6   auto(s6)   4  17  25   p\n",
       "11          audi          a6 quattro   2.8 1999   6   auto(l5)   4  15  24   p\n",
       "12          audi          a6 quattro   4.2 2008   8   auto(s6)   4  16  23   p\n",
       "13        nissan              altima   2.5 2008   4 manual(m6)   f  23  32   r\n",
       "14        nissan              altima   2.5 2008   4   auto(av)   f  23  31   r\n",
       "15        nissan              altima   2.4 1999   4 manual(m5)   f  21  29   r\n",
       "16     chevrolet  c1500 suburban 2wd   5.3 2008   8   auto(l4)   r  14  20   r\n",
       "17     chevrolet  c1500 suburban 2wd   5.3 2008   8   auto(l4)   r  14  20   r\n",
       "18     chevrolet  c1500 suburban 2wd   5.7 1999   8   auto(l4)   r  13  17   r\n",
       "19        toyota               camry   2.4 2008   4 manual(m5)   f  21  31   r\n",
       "20        toyota               camry   2.4 2008   4   auto(l5)   f  21  31   r\n",
       "21        toyota               camry   2.2 1999   4 manual(m5)   f  21  29   r\n",
       "22        toyota        camry solara   2.4 2008   4 manual(m5)   f  21  31   r\n",
       "23        toyota        camry solara   2.4 2008   4   auto(s5)   f  22  31   r\n",
       "24        toyota        camry solara   2.2 1999   4 manual(m5)   f  21  29   r\n",
       "25         dodge         caravan 2wd   2.4 1999   4   auto(l3)   f  18  24   r\n",
       "26         dodge         caravan 2wd     3 1999   6   auto(l4)   f  17  24   r\n",
       "27         dodge         caravan 2wd   3.3 2008   6   auto(l4)   f  17  24   r\n",
       "28         honda               civic   1.8 2008   4   auto(l5)   f  25  36   r\n",
       "29         honda               civic   1.8 2008   4   auto(l5)   f  24  36   c\n",
       "30         honda               civic   1.8 2008   4 manual(m5)   f  26  34   r\n",
       "...          ...                 ...   ...  ... ...        ... ... ... ... ...\n",
       "84          ford             mustang   3.8 1999   6 manual(m5)   r  18  26   r\n",
       "85          ford             mustang     4 2008   6 manual(m5)   r  17  26   r\n",
       "86          ford             mustang   3.8 1999   6   auto(l4)   r  18  25   r\n",
       "87       lincoln       navigator 2wd   5.4 2008   8   auto(l6)   r  12  18   r\n",
       "88       lincoln       navigator 2wd   5.4 1999   8   auto(l4)   r  11  17   r\n",
       "89       lincoln       navigator 2wd   5.4 1999   8   auto(l4)   r  11  16   p\n",
       "90    volkswagen          new beetle   1.9 1999   4 manual(m5)   f  35  44   d\n",
       "91    volkswagen          new beetle   1.9 1999   4   auto(l4)   f  29  41   d\n",
       "92    volkswagen          new beetle     2 1999   4 manual(m5)   f  21  29   r\n",
       "93    volkswagen              passat   1.8 1999   4 manual(m5)   f  21  29   p\n",
       "94    volkswagen              passat   1.8 1999   4   auto(l5)   f  18  29   p\n",
       "95    volkswagen              passat     2 2008   4 manual(m6)   f  21  29   p\n",
       "96        nissan      pathfinder 4wd     4 2008   6   auto(l5)   4  14  20   p\n",
       "97        nissan      pathfinder 4wd   5.6 2008   8   auto(s5)   4  12  18   p\n",
       "98        nissan      pathfinder 4wd   3.3 1999   6   auto(l4)   4  14  17   r\n",
       "99         dodge ram 1500 pickup 4wd   4.7 2008   8   auto(l5)   4  13  17   r\n",
       "100        dodge ram 1500 pickup 4wd   4.7 2008   8   auto(l5)   4  13  17   r\n",
       "101        dodge ram 1500 pickup 4wd   5.7 2008   8   auto(l5)   4  13  17   r\n",
       "102   land rover         range rover   4.2 2008   8   auto(s6)   4  12  18   r\n",
       "103   land rover         range rover   4.4 2008   8   auto(s6)   4  12  18   r\n",
       "104   land rover         range rover     4 1999   8   auto(l4)   4  11  15   p\n",
       "105      hyundai              sonata   2.4 2008   4 manual(m5)   f  21  31   r\n",
       "106      hyundai              sonata   2.4 2008   4   auto(l4)   f  21  30   r\n",
       "107      hyundai              sonata   3.3 2008   6   auto(l5)   f  19  28   r\n",
       "108      hyundai             tiburon     2 1999   4 manual(m5)   f  19  29   r\n",
       "109      hyundai             tiburon     2 2008   4 manual(m5)   f  20  28   r\n",
       "110      hyundai             tiburon     2 2008   4   auto(l4)   f  20  27   r\n",
       "111       toyota   toyota tacoma 4wd   2.7 2008   4 manual(m5)   4  17  22   r\n",
       "112       toyota   toyota tacoma 4wd   2.7 1999   4 manual(m5)   4  15  20   r\n",
       "113       toyota   toyota tacoma 4wd   2.7 1999   4   auto(l4)   4  16  20   r\n",
       "         class name\n",
       "1          suv  174\n",
       "2          suv  175\n",
       "3          suv  178\n",
       "4      compact    3\n",
       "5      compact    4\n",
       "6      compact    1\n",
       "7      compact   10\n",
       "8      compact   11\n",
       "9      compact    8\n",
       "10     midsize   17\n",
       "11     midsize   16\n",
       "12     midsize   18\n",
       "13     midsize  145\n",
       "14     midsize  144\n",
       "15     compact  142\n",
       "16         suv   19\n",
       "17         suv   21\n",
       "18         suv   22\n",
       "19     midsize  182\n",
       "20     midsize  183\n",
       "21     midsize  180\n",
       "22     compact  189\n",
       "23     compact  190\n",
       "24     compact  188\n",
       "25     minivan   38\n",
       "26     minivan   39\n",
       "27     minivan   42\n",
       "28  subcompact  106\n",
       "29  subcompact  107\n",
       "30  subcompact  105\n",
       "...        ...  ...\n",
       "84  subcompact   91\n",
       "85  subcompact   93\n",
       "86  subcompact   92\n",
       "87         suv  137\n",
       "88         suv  135\n",
       "89         suv  136\n",
       "90  subcompact  222\n",
       "91  subcompact  223\n",
       "92  subcompact  224\n",
       "93     midsize  228\n",
       "94     midsize  229\n",
       "95     midsize  231\n",
       "96         suv  153\n",
       "97         suv  154\n",
       "98         suv  151\n",
       "99      pickup   67\n",
       "100     pickup   68\n",
       "101     pickup   73\n",
       "102        suv  132\n",
       "103        suv  133\n",
       "104        suv  131\n",
       "105    midsize  112\n",
       "106    midsize  111\n",
       "107    midsize  115\n",
       "108 subcompact  117\n",
       "109 subcompact  118\n",
       "110 subcompact  119\n",
       "111     pickup  203\n",
       "112     pickup  201\n",
       "113     pickup  202"
      ]
     },
     "metadata": {},
     "output_type": "display_data"
    }
   ],
   "source": [
    "filter.hwy <- function(df){\n",
    "  df %>% arrange(desc(hwy)) %>% head(3)\n",
    "}\n",
    "mpg %>% group_by(model)  %>% do(filter.hwy(.))"
   ]
  },
  {
   "cell_type": "code",
   "execution_count": 65,
   "metadata": {
    "collapsed": false
   },
   "outputs": [
    {
     "data": {
      "text/html": [
       "<table>\n",
       "<thead><tr><th></th><th scope=col>manufacturer</th><th scope=col>model</th><th scope=col>displ</th><th scope=col>year</th><th scope=col>cyl</th><th scope=col>trans</th><th scope=col>drv</th><th scope=col>cty</th><th scope=col>hwy</th><th scope=col>fl</th><th scope=col>class</th><th scope=col>name</th></tr></thead>\n",
       "<tbody>\n",
       "\t<tr><th scope=row>1</th><td>toyota     </td><td>4runner 4wd</td><td>2.7        </td><td>1999       </td><td>4          </td><td>manual(m5) </td><td>4          </td><td>15         </td><td>20         </td><td>r          </td><td>suv        </td><td>174        </td></tr>\n",
       "\t<tr><th scope=row>2</th><td>toyota     </td><td>4runner 4wd</td><td>2.7        </td><td>1999       </td><td>4          </td><td>auto(l4)   </td><td>4          </td><td>16         </td><td>20         </td><td>r          </td><td>suv        </td><td>175        </td></tr>\n",
       "\t<tr><th scope=row>3</th><td>toyota     </td><td>4runner 4wd</td><td>4          </td><td>2008       </td><td>6          </td><td>auto(l5)   </td><td>4          </td><td>16         </td><td>20         </td><td>r          </td><td>suv        </td><td>178        </td></tr>\n",
       "\t<tr><th scope=row>4</th><td>audi      </td><td>a4        </td><td>2         </td><td>2008      </td><td>4         </td><td>manual(m6)</td><td>f         </td><td>20        </td><td>31        </td><td>p         </td><td>compact   </td><td>3         </td></tr>\n",
       "\t<tr><th scope=row>5</th><td>audi    </td><td>a4      </td><td>2       </td><td>2008    </td><td>4       </td><td>auto(av)</td><td>f       </td><td>21      </td><td>30      </td><td>p       </td><td>compact </td><td>4       </td></tr>\n",
       "\t<tr><th scope=row>6</th><td>audi    </td><td>a4      </td><td>1.8     </td><td>1999    </td><td>4       </td><td>auto(l5)</td><td>f       </td><td>18      </td><td>29      </td><td>p       </td><td>compact </td><td>1       </td></tr>\n",
       "\t<tr><th scope=row>7</th><td>audi      </td><td>a4 quattro</td><td>2         </td><td>2008      </td><td>4         </td><td>manual(m6)</td><td>4         </td><td>20        </td><td>28        </td><td>p         </td><td>compact   </td><td>10        </td></tr>\n",
       "\t<tr><th scope=row>8</th><td>audi      </td><td>a4 quattro</td><td>2         </td><td>2008      </td><td>4         </td><td>auto(s6)  </td><td>4         </td><td>19        </td><td>27        </td><td>p         </td><td>compact   </td><td>11        </td></tr>\n",
       "\t<tr><th scope=row>9</th><td>audi      </td><td>a4 quattro</td><td>1.8       </td><td>1999      </td><td>4         </td><td>manual(m5)</td><td>4         </td><td>18        </td><td>26        </td><td>p         </td><td>compact   </td><td>8         </td></tr>\n",
       "\t<tr><th scope=row>10</th><td>audi      </td><td>a6 quattro</td><td>3.1       </td><td>2008      </td><td>6         </td><td>auto(s6)  </td><td>4         </td><td>17        </td><td>25        </td><td>p         </td><td>midsize   </td><td>17        </td></tr>\n",
       "\t<tr><th scope=row>11</th><td>audi      </td><td>a6 quattro</td><td>2.8       </td><td>1999      </td><td>6         </td><td>auto(l5)  </td><td>4         </td><td>15        </td><td>24        </td><td>p         </td><td>midsize   </td><td>16        </td></tr>\n",
       "\t<tr><th scope=row>12</th><td>audi      </td><td>a6 quattro</td><td>4.2       </td><td>2008      </td><td>8         </td><td>auto(s6)  </td><td>4         </td><td>16        </td><td>23        </td><td>p         </td><td>midsize   </td><td>18        </td></tr>\n",
       "\t<tr><th scope=row>13</th><td>nissan    </td><td>altima    </td><td>2.5       </td><td>2008      </td><td>4         </td><td>manual(m6)</td><td>f         </td><td>23        </td><td>32        </td><td>r         </td><td>midsize   </td><td>145       </td></tr>\n",
       "\t<tr><th scope=row>14</th><td>nissan  </td><td>altima  </td><td>2.5     </td><td>2008    </td><td>4       </td><td>auto(av)</td><td>f       </td><td>23      </td><td>31      </td><td>r       </td><td>midsize </td><td>144     </td></tr>\n",
       "\t<tr><th scope=row>15</th><td>nissan    </td><td>altima    </td><td>2.4       </td><td>1999      </td><td>4         </td><td>manual(m5)</td><td>f         </td><td>21        </td><td>29        </td><td>r         </td><td>compact   </td><td>142       </td></tr>\n",
       "\t<tr><th scope=row>16</th><td>chevrolet         </td><td>c1500 suburban 2wd</td><td>5.3               </td><td>2008              </td><td>8                 </td><td>auto(l4)          </td><td>r                 </td><td>14                </td><td>20                </td><td>r                 </td><td>suv               </td><td>19                </td></tr>\n",
       "\t<tr><th scope=row>17</th><td>chevrolet         </td><td>c1500 suburban 2wd</td><td>5.3               </td><td>2008              </td><td>8                 </td><td>auto(l4)          </td><td>r                 </td><td>14                </td><td>20                </td><td>r                 </td><td>suv               </td><td>21                </td></tr>\n",
       "\t<tr><th scope=row>18</th><td>chevrolet         </td><td>c1500 suburban 2wd</td><td>5.7               </td><td>1999              </td><td>8                 </td><td>auto(l4)          </td><td>r                 </td><td>13                </td><td>17                </td><td>r                 </td><td>suv               </td><td>22                </td></tr>\n",
       "\t<tr><th scope=row>19</th><td>toyota    </td><td>camry     </td><td>2.4       </td><td>2008      </td><td>4         </td><td>manual(m5)</td><td>f         </td><td>21        </td><td>31        </td><td>r         </td><td>midsize   </td><td>182       </td></tr>\n",
       "\t<tr><th scope=row>20</th><td>toyota  </td><td>camry   </td><td>2.4     </td><td>2008    </td><td>4       </td><td>auto(l5)</td><td>f       </td><td>21      </td><td>31      </td><td>r       </td><td>midsize </td><td>183     </td></tr>\n",
       "\t<tr><th scope=row>21</th><td>toyota    </td><td>camry     </td><td>2.2       </td><td>1999      </td><td>4         </td><td>manual(m5)</td><td>f         </td><td>21        </td><td>29        </td><td>r         </td><td>midsize   </td><td>180       </td></tr>\n",
       "\t<tr><th scope=row>22</th><td>toyota      </td><td>camry solara</td><td>2.4         </td><td>2008        </td><td>4           </td><td>manual(m5)  </td><td>f           </td><td>21          </td><td>31          </td><td>r           </td><td>compact     </td><td>189         </td></tr>\n",
       "\t<tr><th scope=row>23</th><td>toyota      </td><td>camry solara</td><td>2.4         </td><td>2008        </td><td>4           </td><td>auto(s5)    </td><td>f           </td><td>22          </td><td>31          </td><td>r           </td><td>compact     </td><td>190         </td></tr>\n",
       "\t<tr><th scope=row>24</th><td>toyota      </td><td>camry solara</td><td>2.2         </td><td>1999        </td><td>4           </td><td>manual(m5)  </td><td>f           </td><td>21          </td><td>29          </td><td>r           </td><td>compact     </td><td>188         </td></tr>\n",
       "\t<tr><th scope=row>25</th><td>dodge      </td><td>caravan 2wd</td><td>2.4        </td><td>1999       </td><td>4          </td><td>auto(l3)   </td><td>f          </td><td>18         </td><td>24         </td><td>r          </td><td>minivan    </td><td>38         </td></tr>\n",
       "\t<tr><th scope=row>26</th><td>dodge      </td><td>caravan 2wd</td><td>3          </td><td>1999       </td><td>6          </td><td>auto(l4)   </td><td>f          </td><td>17         </td><td>24         </td><td>r          </td><td>minivan    </td><td>39         </td></tr>\n",
       "\t<tr><th scope=row>27</th><td>dodge      </td><td>caravan 2wd</td><td>3.3        </td><td>2008       </td><td>6          </td><td>auto(l4)   </td><td>f          </td><td>17         </td><td>24         </td><td>r          </td><td>minivan    </td><td>42         </td></tr>\n",
       "\t<tr><th scope=row>28</th><td>honda     </td><td>civic     </td><td>1.8       </td><td>2008      </td><td>4         </td><td>auto(l5)  </td><td>f         </td><td>25        </td><td>36        </td><td>r         </td><td>subcompact</td><td>106       </td></tr>\n",
       "\t<tr><th scope=row>29</th><td>honda     </td><td>civic     </td><td>1.8       </td><td>2008      </td><td>4         </td><td>auto(l5)  </td><td>f         </td><td>24        </td><td>36        </td><td>c         </td><td>subcompact</td><td>107       </td></tr>\n",
       "\t<tr><th scope=row>30</th><td>honda     </td><td>civic     </td><td>1.8       </td><td>2008      </td><td>4         </td><td>manual(m5)</td><td>f         </td><td>26        </td><td>34        </td><td>r         </td><td>subcompact</td><td>105       </td></tr>\n",
       "\t<tr><th scope=row>...</th><td>...</td><td>...</td><td>...</td><td>...</td><td>...</td><td>...</td><td>...</td><td>...</td><td>...</td><td>...</td><td>...</td><td>...</td></tr>\n",
       "\t<tr><th scope=row>84</th><td>ford      </td><td>mustang   </td><td>3.8       </td><td>1999      </td><td>6         </td><td>manual(m5)</td><td>r         </td><td>18        </td><td>26        </td><td>r         </td><td>subcompact</td><td>91        </td></tr>\n",
       "\t<tr><th scope=row>85</th><td>ford      </td><td>mustang   </td><td>4         </td><td>2008      </td><td>6         </td><td>manual(m5)</td><td>r         </td><td>17        </td><td>26        </td><td>r         </td><td>subcompact</td><td>93        </td></tr>\n",
       "\t<tr><th scope=row>86</th><td>ford      </td><td>mustang   </td><td>3.8       </td><td>1999      </td><td>6         </td><td>auto(l4)  </td><td>r         </td><td>18        </td><td>25        </td><td>r         </td><td>subcompact</td><td>92        </td></tr>\n",
       "\t<tr><th scope=row>87</th><td>lincoln      </td><td>navigator 2wd</td><td>5.4          </td><td>2008         </td><td>8            </td><td>auto(l6)     </td><td>r            </td><td>12           </td><td>18           </td><td>r            </td><td>suv          </td><td>137          </td></tr>\n",
       "\t<tr><th scope=row>88</th><td>lincoln      </td><td>navigator 2wd</td><td>5.4          </td><td>1999         </td><td>8            </td><td>auto(l4)     </td><td>r            </td><td>11           </td><td>17           </td><td>r            </td><td>suv          </td><td>135          </td></tr>\n",
       "\t<tr><th scope=row>89</th><td>lincoln      </td><td>navigator 2wd</td><td>5.4          </td><td>1999         </td><td>8            </td><td>auto(l4)     </td><td>r            </td><td>11           </td><td>16           </td><td>p            </td><td>suv          </td><td>136          </td></tr>\n",
       "\t<tr><th scope=row>90</th><td>volkswagen</td><td>new beetle</td><td>1.9       </td><td>1999      </td><td>4         </td><td>manual(m5)</td><td>f         </td><td>35        </td><td>44        </td><td>d         </td><td>subcompact</td><td>222       </td></tr>\n",
       "\t<tr><th scope=row>91</th><td>volkswagen</td><td>new beetle</td><td>1.9       </td><td>1999      </td><td>4         </td><td>auto(l4)  </td><td>f         </td><td>29        </td><td>41        </td><td>d         </td><td>subcompact</td><td>223       </td></tr>\n",
       "\t<tr><th scope=row>92</th><td>volkswagen</td><td>new beetle</td><td>2         </td><td>1999      </td><td>4         </td><td>manual(m5)</td><td>f         </td><td>21        </td><td>29        </td><td>r         </td><td>subcompact</td><td>224       </td></tr>\n",
       "\t<tr><th scope=row>93</th><td>volkswagen</td><td>passat    </td><td>1.8       </td><td>1999      </td><td>4         </td><td>manual(m5)</td><td>f         </td><td>21        </td><td>29        </td><td>p         </td><td>midsize   </td><td>228       </td></tr>\n",
       "\t<tr><th scope=row>94</th><td>volkswagen</td><td>passat    </td><td>1.8       </td><td>1999      </td><td>4         </td><td>auto(l5)  </td><td>f         </td><td>18        </td><td>29        </td><td>p         </td><td>midsize   </td><td>229       </td></tr>\n",
       "\t<tr><th scope=row>95</th><td>volkswagen</td><td>passat    </td><td>2         </td><td>2008      </td><td>4         </td><td>manual(m6)</td><td>f         </td><td>21        </td><td>29        </td><td>p         </td><td>midsize   </td><td>231       </td></tr>\n",
       "\t<tr><th scope=row>96</th><td>nissan        </td><td>pathfinder 4wd</td><td>4             </td><td>2008          </td><td>6             </td><td>auto(l5)      </td><td>4             </td><td>14            </td><td>20            </td><td>p             </td><td>suv           </td><td>153           </td></tr>\n",
       "\t<tr><th scope=row>97</th><td>nissan        </td><td>pathfinder 4wd</td><td>5.6           </td><td>2008          </td><td>8             </td><td>auto(s5)      </td><td>4             </td><td>12            </td><td>18            </td><td>p             </td><td>suv           </td><td>154           </td></tr>\n",
       "\t<tr><th scope=row>98</th><td>nissan        </td><td>pathfinder 4wd</td><td>3.3           </td><td>1999          </td><td>6             </td><td>auto(l4)      </td><td>4             </td><td>14            </td><td>17            </td><td>r             </td><td>suv           </td><td>151           </td></tr>\n",
       "\t<tr><th scope=row>99</th><td>dodge              </td><td>ram 1500 pickup 4wd</td><td>4.7                </td><td>2008               </td><td>8                  </td><td>auto(l5)           </td><td>4                  </td><td>13                 </td><td>17                 </td><td>r                  </td><td>pickup             </td><td>67                 </td></tr>\n",
       "\t<tr><th scope=row>100</th><td>dodge              </td><td>ram 1500 pickup 4wd</td><td>4.7                </td><td>2008               </td><td>8                  </td><td>auto(l5)           </td><td>4                  </td><td>13                 </td><td>17                 </td><td>r                  </td><td>pickup             </td><td>68                 </td></tr>\n",
       "\t<tr><th scope=row>101</th><td>dodge              </td><td>ram 1500 pickup 4wd</td><td>5.7                </td><td>2008               </td><td>8                  </td><td>auto(l5)           </td><td>4                  </td><td>13                 </td><td>17                 </td><td>r                  </td><td>pickup             </td><td>73                 </td></tr>\n",
       "\t<tr><th scope=row>102</th><td>land rover </td><td>range rover</td><td>4.2        </td><td>2008       </td><td>8          </td><td>auto(s6)   </td><td>4          </td><td>12         </td><td>18         </td><td>r          </td><td>suv        </td><td>132        </td></tr>\n",
       "\t<tr><th scope=row>103</th><td>land rover </td><td>range rover</td><td>4.4        </td><td>2008       </td><td>8          </td><td>auto(s6)   </td><td>4          </td><td>12         </td><td>18         </td><td>r          </td><td>suv        </td><td>133        </td></tr>\n",
       "\t<tr><th scope=row>104</th><td>land rover </td><td>range rover</td><td>4          </td><td>1999       </td><td>8          </td><td>auto(l4)   </td><td>4          </td><td>11         </td><td>15         </td><td>p          </td><td>suv        </td><td>131        </td></tr>\n",
       "\t<tr><th scope=row>105</th><td>hyundai   </td><td>sonata    </td><td>2.4       </td><td>2008      </td><td>4         </td><td>manual(m5)</td><td>f         </td><td>21        </td><td>31        </td><td>r         </td><td>midsize   </td><td>112       </td></tr>\n",
       "\t<tr><th scope=row>106</th><td>hyundai </td><td>sonata  </td><td>2.4     </td><td>2008    </td><td>4       </td><td>auto(l4)</td><td>f       </td><td>21      </td><td>30      </td><td>r       </td><td>midsize </td><td>111     </td></tr>\n",
       "\t<tr><th scope=row>107</th><td>hyundai </td><td>sonata  </td><td>3.3     </td><td>2008    </td><td>6       </td><td>auto(l5)</td><td>f       </td><td>19      </td><td>28      </td><td>r       </td><td>midsize </td><td>115     </td></tr>\n",
       "\t<tr><th scope=row>108</th><td>hyundai   </td><td>tiburon   </td><td>2         </td><td>1999      </td><td>4         </td><td>manual(m5)</td><td>f         </td><td>19        </td><td>29        </td><td>r         </td><td>subcompact</td><td>117       </td></tr>\n",
       "\t<tr><th scope=row>109</th><td>hyundai   </td><td>tiburon   </td><td>2         </td><td>2008      </td><td>4         </td><td>manual(m5)</td><td>f         </td><td>20        </td><td>28        </td><td>r         </td><td>subcompact</td><td>118       </td></tr>\n",
       "\t<tr><th scope=row>110</th><td>hyundai   </td><td>tiburon   </td><td>2         </td><td>2008      </td><td>4         </td><td>auto(l4)  </td><td>f         </td><td>20        </td><td>27        </td><td>r         </td><td>subcompact</td><td>119       </td></tr>\n",
       "\t<tr><th scope=row>111</th><td>toyota           </td><td>toyota tacoma 4wd</td><td>2.7              </td><td>2008             </td><td>4                </td><td>manual(m5)       </td><td>4                </td><td>17               </td><td>22               </td><td>r                </td><td>pickup           </td><td>203              </td></tr>\n",
       "\t<tr><th scope=row>112</th><td>toyota           </td><td>toyota tacoma 4wd</td><td>2.7              </td><td>1999             </td><td>4                </td><td>manual(m5)       </td><td>4                </td><td>15               </td><td>20               </td><td>r                </td><td>pickup           </td><td>201              </td></tr>\n",
       "\t<tr><th scope=row>113</th><td>toyota           </td><td>toyota tacoma 4wd</td><td>2.7              </td><td>1999             </td><td>4                </td><td>auto(l4)         </td><td>4                </td><td>16               </td><td>20               </td><td>r                </td><td>pickup           </td><td>202              </td></tr>\n",
       "</tbody>\n",
       "</table>\n"
      ],
      "text/latex": [
       "\\begin{tabular}{r|llllllllllll}\n",
       "  & manufacturer & model & displ & year & cyl & trans & drv & cty & hwy & fl & class & name\\\\\n",
       "\\hline\n",
       "\t1 & toyota      & 4runner 4wd & 2.7         & 1999        & 4           & manual(m5)  & 4           & 15          & 20          & r           & suv         & 174        \\\\\n",
       "\t2 & toyota      & 4runner 4wd & 2.7         & 1999        & 4           & auto(l4)    & 4           & 16          & 20          & r           & suv         & 175        \\\\\n",
       "\t3 & toyota      & 4runner 4wd & 4           & 2008        & 6           & auto(l5)    & 4           & 16          & 20          & r           & suv         & 178        \\\\\n",
       "\t4 & audi       & a4         & 2          & 2008       & 4          & manual(m6) & f          & 20         & 31         & p          & compact    & 3         \\\\\n",
       "\t5 & audi     & a4       & 2        & 2008     & 4        & auto(av) & f        & 21       & 30       & p        & compact  & 4       \\\\\n",
       "\t6 & audi     & a4       & 1.8      & 1999     & 4        & auto(l5) & f        & 18       & 29       & p        & compact  & 1       \\\\\n",
       "\t7 & audi       & a4 quattro & 2          & 2008       & 4          & manual(m6) & 4          & 20         & 28         & p          & compact    & 10        \\\\\n",
       "\t8 & audi       & a4 quattro & 2          & 2008       & 4          & auto(s6)   & 4          & 19         & 27         & p          & compact    & 11        \\\\\n",
       "\t9 & audi       & a4 quattro & 1.8        & 1999       & 4          & manual(m5) & 4          & 18         & 26         & p          & compact    & 8         \\\\\n",
       "\t10 & audi       & a6 quattro & 3.1        & 2008       & 6          & auto(s6)   & 4          & 17         & 25         & p          & midsize    & 17        \\\\\n",
       "\t11 & audi       & a6 quattro & 2.8        & 1999       & 6          & auto(l5)   & 4          & 15         & 24         & p          & midsize    & 16        \\\\\n",
       "\t12 & audi       & a6 quattro & 4.2        & 2008       & 8          & auto(s6)   & 4          & 16         & 23         & p          & midsize    & 18        \\\\\n",
       "\t13 & nissan     & altima     & 2.5        & 2008       & 4          & manual(m6) & f          & 23         & 32         & r          & midsize    & 145       \\\\\n",
       "\t14 & nissan   & altima   & 2.5      & 2008     & 4        & auto(av) & f        & 23       & 31       & r        & midsize  & 144     \\\\\n",
       "\t15 & nissan     & altima     & 2.4        & 1999       & 4          & manual(m5) & f          & 21         & 29         & r          & compact    & 142       \\\\\n",
       "\t16 & chevrolet          & c1500 suburban 2wd & 5.3                & 2008               & 8                  & auto(l4)           & r                  & 14                 & 20                 & r                  & suv                & 19                \\\\\n",
       "\t17 & chevrolet          & c1500 suburban 2wd & 5.3                & 2008               & 8                  & auto(l4)           & r                  & 14                 & 20                 & r                  & suv                & 21                \\\\\n",
       "\t18 & chevrolet          & c1500 suburban 2wd & 5.7                & 1999               & 8                  & auto(l4)           & r                  & 13                 & 17                 & r                  & suv                & 22                \\\\\n",
       "\t19 & toyota     & camry      & 2.4        & 2008       & 4          & manual(m5) & f          & 21         & 31         & r          & midsize    & 182       \\\\\n",
       "\t20 & toyota   & camry    & 2.4      & 2008     & 4        & auto(l5) & f        & 21       & 31       & r        & midsize  & 183     \\\\\n",
       "\t21 & toyota     & camry      & 2.2        & 1999       & 4          & manual(m5) & f          & 21         & 29         & r          & midsize    & 180       \\\\\n",
       "\t22 & toyota       & camry solara & 2.4          & 2008         & 4            & manual(m5)   & f            & 21           & 31           & r            & compact      & 189         \\\\\n",
       "\t23 & toyota       & camry solara & 2.4          & 2008         & 4            & auto(s5)     & f            & 22           & 31           & r            & compact      & 190         \\\\\n",
       "\t24 & toyota       & camry solara & 2.2          & 1999         & 4            & manual(m5)   & f            & 21           & 29           & r            & compact      & 188         \\\\\n",
       "\t25 & dodge       & caravan 2wd & 2.4         & 1999        & 4           & auto(l3)    & f           & 18          & 24          & r           & minivan     & 38         \\\\\n",
       "\t26 & dodge       & caravan 2wd & 3           & 1999        & 6           & auto(l4)    & f           & 17          & 24          & r           & minivan     & 39         \\\\\n",
       "\t27 & dodge       & caravan 2wd & 3.3         & 2008        & 6           & auto(l4)    & f           & 17          & 24          & r           & minivan     & 42         \\\\\n",
       "\t28 & honda      & civic      & 1.8        & 2008       & 4          & auto(l5)   & f          & 25         & 36         & r          & subcompact & 106       \\\\\n",
       "\t29 & honda      & civic      & 1.8        & 2008       & 4          & auto(l5)   & f          & 24         & 36         & c          & subcompact & 107       \\\\\n",
       "\t30 & honda      & civic      & 1.8        & 2008       & 4          & manual(m5) & f          & 26         & 34         & r          & subcompact & 105       \\\\\n",
       "\t... & ... & ... & ... & ... & ... & ... & ... & ... & ... & ... & ... & ...\\\\\n",
       "\t84 & ford       & mustang    & 3.8        & 1999       & 6          & manual(m5) & r          & 18         & 26         & r          & subcompact & 91        \\\\\n",
       "\t85 & ford       & mustang    & 4          & 2008       & 6          & manual(m5) & r          & 17         & 26         & r          & subcompact & 93        \\\\\n",
       "\t86 & ford       & mustang    & 3.8        & 1999       & 6          & auto(l4)   & r          & 18         & 25         & r          & subcompact & 92        \\\\\n",
       "\t87 & lincoln       & navigator 2wd & 5.4           & 2008          & 8             & auto(l6)      & r             & 12            & 18            & r             & suv           & 137          \\\\\n",
       "\t88 & lincoln       & navigator 2wd & 5.4           & 1999          & 8             & auto(l4)      & r             & 11            & 17            & r             & suv           & 135          \\\\\n",
       "\t89 & lincoln       & navigator 2wd & 5.4           & 1999          & 8             & auto(l4)      & r             & 11            & 16            & p             & suv           & 136          \\\\\n",
       "\t90 & volkswagen & new beetle & 1.9        & 1999       & 4          & manual(m5) & f          & 35         & 44         & d          & subcompact & 222       \\\\\n",
       "\t91 & volkswagen & new beetle & 1.9        & 1999       & 4          & auto(l4)   & f          & 29         & 41         & d          & subcompact & 223       \\\\\n",
       "\t92 & volkswagen & new beetle & 2          & 1999       & 4          & manual(m5) & f          & 21         & 29         & r          & subcompact & 224       \\\\\n",
       "\t93 & volkswagen & passat     & 1.8        & 1999       & 4          & manual(m5) & f          & 21         & 29         & p          & midsize    & 228       \\\\\n",
       "\t94 & volkswagen & passat     & 1.8        & 1999       & 4          & auto(l5)   & f          & 18         & 29         & p          & midsize    & 229       \\\\\n",
       "\t95 & volkswagen & passat     & 2          & 2008       & 4          & manual(m6) & f          & 21         & 29         & p          & midsize    & 231       \\\\\n",
       "\t96 & nissan         & pathfinder 4wd & 4              & 2008           & 6              & auto(l5)       & 4              & 14             & 20             & p              & suv            & 153           \\\\\n",
       "\t97 & nissan         & pathfinder 4wd & 5.6            & 2008           & 8              & auto(s5)       & 4              & 12             & 18             & p              & suv            & 154           \\\\\n",
       "\t98 & nissan         & pathfinder 4wd & 3.3            & 1999           & 6              & auto(l4)       & 4              & 14             & 17             & r              & suv            & 151           \\\\\n",
       "\t99 & dodge               & ram 1500 pickup 4wd & 4.7                 & 2008                & 8                   & auto(l5)            & 4                   & 13                  & 17                  & r                   & pickup              & 67                 \\\\\n",
       "\t100 & dodge               & ram 1500 pickup 4wd & 4.7                 & 2008                & 8                   & auto(l5)            & 4                   & 13                  & 17                  & r                   & pickup              & 68                 \\\\\n",
       "\t101 & dodge               & ram 1500 pickup 4wd & 5.7                 & 2008                & 8                   & auto(l5)            & 4                   & 13                  & 17                  & r                   & pickup              & 73                 \\\\\n",
       "\t102 & land rover  & range rover & 4.2         & 2008        & 8           & auto(s6)    & 4           & 12          & 18          & r           & suv         & 132        \\\\\n",
       "\t103 & land rover  & range rover & 4.4         & 2008        & 8           & auto(s6)    & 4           & 12          & 18          & r           & suv         & 133        \\\\\n",
       "\t104 & land rover  & range rover & 4           & 1999        & 8           & auto(l4)    & 4           & 11          & 15          & p           & suv         & 131        \\\\\n",
       "\t105 & hyundai    & sonata     & 2.4        & 2008       & 4          & manual(m5) & f          & 21         & 31         & r          & midsize    & 112       \\\\\n",
       "\t106 & hyundai  & sonata   & 2.4      & 2008     & 4        & auto(l4) & f        & 21       & 30       & r        & midsize  & 111     \\\\\n",
       "\t107 & hyundai  & sonata   & 3.3      & 2008     & 6        & auto(l5) & f        & 19       & 28       & r        & midsize  & 115     \\\\\n",
       "\t108 & hyundai    & tiburon    & 2          & 1999       & 4          & manual(m5) & f          & 19         & 29         & r          & subcompact & 117       \\\\\n",
       "\t109 & hyundai    & tiburon    & 2          & 2008       & 4          & manual(m5) & f          & 20         & 28         & r          & subcompact & 118       \\\\\n",
       "\t110 & hyundai    & tiburon    & 2          & 2008       & 4          & auto(l4)   & f          & 20         & 27         & r          & subcompact & 119       \\\\\n",
       "\t111 & toyota            & toyota tacoma 4wd & 2.7               & 2008              & 4                 & manual(m5)        & 4                 & 17                & 22                & r                 & pickup            & 203              \\\\\n",
       "\t112 & toyota            & toyota tacoma 4wd & 2.7               & 1999              & 4                 & manual(m5)        & 4                 & 15                & 20                & r                 & pickup            & 201              \\\\\n",
       "\t113 & toyota            & toyota tacoma 4wd & 2.7               & 1999              & 4                 & auto(l4)          & 4                 & 16                & 20                & r                 & pickup            & 202              \\\\\n",
       "\\end{tabular}\n"
      ],
      "text/plain": [
       "    manufacturer               model displ year cyl      trans drv cty hwy  fl\n",
       "1         toyota         4runner 4wd   2.7 1999   4 manual(m5)   4  15  20   r\n",
       "2         toyota         4runner 4wd   2.7 1999   4   auto(l4)   4  16  20   r\n",
       "3         toyota         4runner 4wd     4 2008   6   auto(l5)   4  16  20   r\n",
       "4           audi                  a4     2 2008   4 manual(m6)   f  20  31   p\n",
       "5           audi                  a4     2 2008   4   auto(av)   f  21  30   p\n",
       "6           audi                  a4   1.8 1999   4   auto(l5)   f  18  29   p\n",
       "7           audi          a4 quattro     2 2008   4 manual(m6)   4  20  28   p\n",
       "8           audi          a4 quattro     2 2008   4   auto(s6)   4  19  27   p\n",
       "9           audi          a4 quattro   1.8 1999   4 manual(m5)   4  18  26   p\n",
       "10          audi          a6 quattro   3.1 2008   6   auto(s6)   4  17  25   p\n",
       "11          audi          a6 quattro   2.8 1999   6   auto(l5)   4  15  24   p\n",
       "12          audi          a6 quattro   4.2 2008   8   auto(s6)   4  16  23   p\n",
       "13        nissan              altima   2.5 2008   4 manual(m6)   f  23  32   r\n",
       "14        nissan              altima   2.5 2008   4   auto(av)   f  23  31   r\n",
       "15        nissan              altima   2.4 1999   4 manual(m5)   f  21  29   r\n",
       "16     chevrolet  c1500 suburban 2wd   5.3 2008   8   auto(l4)   r  14  20   r\n",
       "17     chevrolet  c1500 suburban 2wd   5.3 2008   8   auto(l4)   r  14  20   r\n",
       "18     chevrolet  c1500 suburban 2wd   5.7 1999   8   auto(l4)   r  13  17   r\n",
       "19        toyota               camry   2.4 2008   4 manual(m5)   f  21  31   r\n",
       "20        toyota               camry   2.4 2008   4   auto(l5)   f  21  31   r\n",
       "21        toyota               camry   2.2 1999   4 manual(m5)   f  21  29   r\n",
       "22        toyota        camry solara   2.4 2008   4 manual(m5)   f  21  31   r\n",
       "23        toyota        camry solara   2.4 2008   4   auto(s5)   f  22  31   r\n",
       "24        toyota        camry solara   2.2 1999   4 manual(m5)   f  21  29   r\n",
       "25         dodge         caravan 2wd   2.4 1999   4   auto(l3)   f  18  24   r\n",
       "26         dodge         caravan 2wd     3 1999   6   auto(l4)   f  17  24   r\n",
       "27         dodge         caravan 2wd   3.3 2008   6   auto(l4)   f  17  24   r\n",
       "28         honda               civic   1.8 2008   4   auto(l5)   f  25  36   r\n",
       "29         honda               civic   1.8 2008   4   auto(l5)   f  24  36   c\n",
       "30         honda               civic   1.8 2008   4 manual(m5)   f  26  34   r\n",
       "...          ...                 ...   ...  ... ...        ... ... ... ... ...\n",
       "84          ford             mustang   3.8 1999   6 manual(m5)   r  18  26   r\n",
       "85          ford             mustang     4 2008   6 manual(m5)   r  17  26   r\n",
       "86          ford             mustang   3.8 1999   6   auto(l4)   r  18  25   r\n",
       "87       lincoln       navigator 2wd   5.4 2008   8   auto(l6)   r  12  18   r\n",
       "88       lincoln       navigator 2wd   5.4 1999   8   auto(l4)   r  11  17   r\n",
       "89       lincoln       navigator 2wd   5.4 1999   8   auto(l4)   r  11  16   p\n",
       "90    volkswagen          new beetle   1.9 1999   4 manual(m5)   f  35  44   d\n",
       "91    volkswagen          new beetle   1.9 1999   4   auto(l4)   f  29  41   d\n",
       "92    volkswagen          new beetle     2 1999   4 manual(m5)   f  21  29   r\n",
       "93    volkswagen              passat   1.8 1999   4 manual(m5)   f  21  29   p\n",
       "94    volkswagen              passat   1.8 1999   4   auto(l5)   f  18  29   p\n",
       "95    volkswagen              passat     2 2008   4 manual(m6)   f  21  29   p\n",
       "96        nissan      pathfinder 4wd     4 2008   6   auto(l5)   4  14  20   p\n",
       "97        nissan      pathfinder 4wd   5.6 2008   8   auto(s5)   4  12  18   p\n",
       "98        nissan      pathfinder 4wd   3.3 1999   6   auto(l4)   4  14  17   r\n",
       "99         dodge ram 1500 pickup 4wd   4.7 2008   8   auto(l5)   4  13  17   r\n",
       "100        dodge ram 1500 pickup 4wd   4.7 2008   8   auto(l5)   4  13  17   r\n",
       "101        dodge ram 1500 pickup 4wd   5.7 2008   8   auto(l5)   4  13  17   r\n",
       "102   land rover         range rover   4.2 2008   8   auto(s6)   4  12  18   r\n",
       "103   land rover         range rover   4.4 2008   8   auto(s6)   4  12  18   r\n",
       "104   land rover         range rover     4 1999   8   auto(l4)   4  11  15   p\n",
       "105      hyundai              sonata   2.4 2008   4 manual(m5)   f  21  31   r\n",
       "106      hyundai              sonata   2.4 2008   4   auto(l4)   f  21  30   r\n",
       "107      hyundai              sonata   3.3 2008   6   auto(l5)   f  19  28   r\n",
       "108      hyundai             tiburon     2 1999   4 manual(m5)   f  19  29   r\n",
       "109      hyundai             tiburon     2 2008   4 manual(m5)   f  20  28   r\n",
       "110      hyundai             tiburon     2 2008   4   auto(l4)   f  20  27   r\n",
       "111       toyota   toyota tacoma 4wd   2.7 2008   4 manual(m5)   4  17  22   r\n",
       "112       toyota   toyota tacoma 4wd   2.7 1999   4 manual(m5)   4  15  20   r\n",
       "113       toyota   toyota tacoma 4wd   2.7 1999   4   auto(l4)   4  16  20   r\n",
       "         class name\n",
       "1          suv  174\n",
       "2          suv  175\n",
       "3          suv  178\n",
       "4      compact    3\n",
       "5      compact    4\n",
       "6      compact    1\n",
       "7      compact   10\n",
       "8      compact   11\n",
       "9      compact    8\n",
       "10     midsize   17\n",
       "11     midsize   16\n",
       "12     midsize   18\n",
       "13     midsize  145\n",
       "14     midsize  144\n",
       "15     compact  142\n",
       "16         suv   19\n",
       "17         suv   21\n",
       "18         suv   22\n",
       "19     midsize  182\n",
       "20     midsize  183\n",
       "21     midsize  180\n",
       "22     compact  189\n",
       "23     compact  190\n",
       "24     compact  188\n",
       "25     minivan   38\n",
       "26     minivan   39\n",
       "27     minivan   42\n",
       "28  subcompact  106\n",
       "29  subcompact  107\n",
       "30  subcompact  105\n",
       "...        ...  ...\n",
       "84  subcompact   91\n",
       "85  subcompact   93\n",
       "86  subcompact   92\n",
       "87         suv  137\n",
       "88         suv  135\n",
       "89         suv  136\n",
       "90  subcompact  222\n",
       "91  subcompact  223\n",
       "92  subcompact  224\n",
       "93     midsize  228\n",
       "94     midsize  229\n",
       "95     midsize  231\n",
       "96         suv  153\n",
       "97         suv  154\n",
       "98         suv  151\n",
       "99      pickup   67\n",
       "100     pickup   68\n",
       "101     pickup   73\n",
       "102        suv  132\n",
       "103        suv  133\n",
       "104        suv  131\n",
       "105    midsize  112\n",
       "106    midsize  111\n",
       "107    midsize  115\n",
       "108 subcompact  117\n",
       "109 subcompact  118\n",
       "110 subcompact  119\n",
       "111     pickup  203\n",
       "112     pickup  201\n",
       "113     pickup  202"
      ]
     },
     "metadata": {},
     "output_type": "display_data"
    }
   ],
   "source": [
    "mpg %>% group_by(model) %>% do((.) %>% arrange(desc(hwy)) %>% head(3)) # do((.))  do안에서 사용하려면 (.) 로 묶어줘야된다. "
   ]
  },
  {
   "cell_type": "markdown",
   "metadata": {},
   "source": [
    "### Tips \n",
    " - rbind, cbind 보다 빠른 함수 : bind_rows,bind_cols   사용법은 동일하다."
   ]
  },
  {
   "cell_type": "markdown",
   "metadata": {},
   "source": [
    "### filtering 후 차이를 알고 싶을때 \n",
    " - setdiff() 함수 활용"
   ]
  },
  {
   "cell_type": "code",
   "execution_count": 66,
   "metadata": {
    "collapsed": true
   },
   "outputs": [],
   "source": [
    "flights <- flights %>% mutate(name= row_number())\n",
    "aa <- filter(flights, carrier == 'AA') \n",
    "july <- filter(flights, month == 7)\n",
    "i = setdiff(aa$name,july$name)"
   ]
  },
  {
   "cell_type": "code",
   "execution_count": 67,
   "metadata": {
    "collapsed": false
   },
   "outputs": [
    {
     "data": {
      "text/plain": [
       "  year month day dep_time sched_dep_time dep_delay arr_time sched_arr_time\n",
       "1 2013     1   1      542            540         2      923            850\n",
       "2 2013     1   1      558            600        -2      753            745\n",
       "3 2013     1   1      559            600        -1      941            910\n",
       "4 2013     1   1      606            610        -4      858            910\n",
       "5 2013     1   1      623            610        13      920            915\n",
       "6 2013     1   1      628            630        -2     1137           1140\n",
       "  arr_delay carrier flight tailnum origin dest air_time distance hour minute\n",
       "1        33      AA   1141  N619AA    JFK  MIA      160     1089    5     40\n",
       "2         8      AA    301  N3ALAA    LGA  ORD      138      733    6      0\n",
       "3        31      AA    707  N3DUAA    LGA  DFW      257     1389    6      0\n",
       "4       -12      AA   1895  N633AA    EWR  MIA      152     1085    6     10\n",
       "5         5      AA   1837  N3EMAA    LGA  MIA      153     1096    6     10\n",
       "6        -3      AA    413  N3BAAA    JFK  SJU      192     1598    6     30\n",
       "            time_hour name\n",
       "1 2013-01-01 05:00:00    3\n",
       "2 2013-01-01 06:00:00   10\n",
       "3 2013-01-01 06:00:00   15\n",
       "4 2013-01-01 06:00:00   23\n",
       "5 2013-01-01 06:00:00   32\n",
       "6 2013-01-01 06:00:00   37"
      ]
     },
     "metadata": {},
     "output_type": "display_data"
    }
   ],
   "source": [
    "head(flights[i,])"
   ]
  },
  {
   "cell_type": "markdown",
   "metadata": {},
   "source": [
    "#### 교집합을 알고 싶다면 intersect()를 사용."
   ]
  }
 ],
 "metadata": {
  "anaconda-cloud": {},
  "kernelspec": {
   "display_name": "R 3.3",
   "language": "R",
   "name": "ir33"
  },
  "language_info": {
   "codemirror_mode": "r",
   "file_extension": ".r",
   "mimetype": "text/x-r-source",
   "name": "R",
   "pygments_lexer": "r",
   "version": "3.3.1"
  }
 },
 "nbformat": 4,
 "nbformat_minor": 0
}
