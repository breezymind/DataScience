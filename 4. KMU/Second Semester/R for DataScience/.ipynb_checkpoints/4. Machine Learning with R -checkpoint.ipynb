{
 "cells": [
  {
   "cell_type": "markdown",
   "metadata": {
    "collapsed": true
   },
   "source": [
    "# 4. Machine Learning with R"
   ]
  },
  {
   "cell_type": "markdown",
   "metadata": {},
   "source": [
    "sk-learn과 비슷하나 홈페이지가 구리다... "
   ]
  },
  {
   "cell_type": "code",
   "execution_count": 2,
   "metadata": {
    "collapsed": false
   },
   "outputs": [],
   "source": [
    "library(caret) # sklearn과 비슷하나 sklearn이 더 좋다. \n",
    "library(tidyverse)"
   ]
  },
  {
   "cell_type": "markdown",
   "metadata": {},
   "source": [
    "## 데이터 준비 "
   ]
  },
  {
   "cell_type": "code",
   "execution_count": 3,
   "metadata": {
    "collapsed": false
   },
   "outputs": [
    {
     "name": "stderr",
     "output_type": "stream",
     "text": [
      "Parsed with column specification:\n",
      "cols(\n",
      "  .default = col_character(),\n",
      "  symboling = col_integer(),\n",
      "  normalized_losses = col_integer(),\n",
      "  wheel_base = col_double(),\n",
      "  length = col_double(),\n",
      "  width = col_double(),\n",
      "  height = col_double(),\n",
      "  curb_weight = col_integer(),\n",
      "  engine_size = col_integer(),\n",
      "  bore = col_double(),\n",
      "  stroke = col_double(),\n",
      "  compression_ratio = col_double(),\n",
      "  horsepower = col_integer(),\n",
      "  peak_rpm = col_integer(),\n",
      "  city_mpg = col_integer(),\n",
      "  highway_mpg = col_integer(),\n",
      "  price = col_integer()\n",
      ")\n",
      "See spec(...) for full column specifications.\n"
     ]
    }
   ],
   "source": [
    "df <- read_csv(\"automobile.csv\") # RStudio에서 tibble은 화면크기에 맞게 데이터가 출력된다. jupyter 에서 전체 출력. "
   ]
  },
  {
   "cell_type": "code",
   "execution_count": 5,
   "metadata": {
    "collapsed": false
   },
   "outputs": [
    {
     "data": {
      "text/html": [
       "<table>\n",
       "<thead><tr><th></th><th scope=col>symboling</th><th scope=col>normalized_losses</th><th scope=col>maker</th><th scope=col>fuel</th><th scope=col>aspiration</th><th scope=col>doors</th><th scope=col>body</th><th scope=col>wheels</th><th scope=col>engine_location</th><th scope=col>wheel_base</th><th scope=col>...</th><th scope=col>engine_size</th><th scope=col>fuel_system</th><th scope=col>bore</th><th scope=col>stroke</th><th scope=col>compression_ratio</th><th scope=col>horsepower</th><th scope=col>peak_rpm</th><th scope=col>city_mpg</th><th scope=col>highway_mpg</th><th scope=col>price</th></tr></thead>\n",
       "<tbody>\n",
       "\t<tr><th scope=row>1</th><td>2    </td><td>164  </td><td>audi </td><td>gas  </td><td>std  </td><td>four </td><td>sedan</td><td>fwd  </td><td>front</td><td>99.8 </td><td>...  </td><td>109  </td><td>mpfi </td><td>3.19 </td><td>3.4  </td><td>10   </td><td>102  </td><td>5500 </td><td>24   </td><td>30   </td><td>13950</td></tr>\n",
       "\t<tr><th scope=row>2</th><td>2    </td><td>164  </td><td>audi </td><td>gas  </td><td>std  </td><td>four </td><td>sedan</td><td>4wd  </td><td>front</td><td>99.4 </td><td>...  </td><td>136  </td><td>mpfi </td><td>3.19 </td><td>3.4  </td><td>8    </td><td>115  </td><td>5500 </td><td>18   </td><td>22   </td><td>17450</td></tr>\n",
       "\t<tr><th scope=row>3</th><td>1    </td><td>158  </td><td>audi </td><td>gas  </td><td>std  </td><td>four </td><td>sedan</td><td>fwd  </td><td>front</td><td>105.8</td><td>...  </td><td>136  </td><td>mpfi </td><td>3.19 </td><td>3.4  </td><td>8.5  </td><td>110  </td><td>5500 </td><td>19   </td><td>25   </td><td>17710</td></tr>\n",
       "\t<tr><th scope=row>4</th><td>1    </td><td>158  </td><td>audi </td><td>gas  </td><td>turbo</td><td>four </td><td>sedan</td><td>fwd  </td><td>front</td><td>105.8</td><td>...  </td><td>131  </td><td>mpfi </td><td>3.13 </td><td>3.4  </td><td>8.3  </td><td>140  </td><td>5500 </td><td>17   </td><td>20   </td><td>23875</td></tr>\n",
       "\t<tr><th scope=row>5</th><td>2    </td><td>192  </td><td>bmw  </td><td>gas  </td><td>std  </td><td>two  </td><td>sedan</td><td>rwd  </td><td>front</td><td>101.2</td><td>...  </td><td>108  </td><td>mpfi </td><td>3.5  </td><td>2.8  </td><td>8.8  </td><td>101  </td><td>5800 </td><td>23   </td><td>29   </td><td>16430</td></tr>\n",
       "\t<tr><th scope=row>6</th><td>0    </td><td>192  </td><td>bmw  </td><td>gas  </td><td>std  </td><td>four </td><td>sedan</td><td>rwd  </td><td>front</td><td>101.2</td><td>...  </td><td>108  </td><td>mpfi </td><td>3.5  </td><td>2.8  </td><td>8.8  </td><td>101  </td><td>5800 </td><td>23   </td><td>29   </td><td>16925</td></tr>\n",
       "</tbody>\n",
       "</table>\n"
      ],
      "text/latex": [
       "\\begin{tabular}{r|llllllllllllllllllllllllll}\n",
       "  & symboling & normalized\\_losses & maker & fuel & aspiration & doors & body & wheels & engine\\_location & wheel\\_base & ... & engine\\_size & fuel\\_system & bore & stroke & compression\\_ratio & horsepower & peak\\_rpm & city\\_mpg & highway\\_mpg & price\\\\\n",
       "\\hline\n",
       "\t1 & 2     & 164   & audi  & gas   & std   & four  & sedan & fwd   & front & 99.8  & ...   & 109   & mpfi  & 3.19  & 3.4   & 10    & 102   & 5500  & 24    & 30    & 13950\\\\\n",
       "\t2 & 2     & 164   & audi  & gas   & std   & four  & sedan & 4wd   & front & 99.4  & ...   & 136   & mpfi  & 3.19  & 3.4   & 8     & 115   & 5500  & 18    & 22    & 17450\\\\\n",
       "\t3 & 1     & 158   & audi  & gas   & std   & four  & sedan & fwd   & front & 105.8 & ...   & 136   & mpfi  & 3.19  & 3.4   & 8.5   & 110   & 5500  & 19    & 25    & 17710\\\\\n",
       "\t4 & 1     & 158   & audi  & gas   & turbo & four  & sedan & fwd   & front & 105.8 & ...   & 131   & mpfi  & 3.13  & 3.4   & 8.3   & 140   & 5500  & 17    & 20    & 23875\\\\\n",
       "\t5 & 2     & 192   & bmw   & gas   & std   & two   & sedan & rwd   & front & 101.2 & ...   & 108   & mpfi  & 3.5   & 2.8   & 8.8   & 101   & 5800  & 23    & 29    & 16430\\\\\n",
       "\t6 & 0     & 192   & bmw   & gas   & std   & four  & sedan & rwd   & front & 101.2 & ...   & 108   & mpfi  & 3.5   & 2.8   & 8.8   & 101   & 5800  & 23    & 29    & 16925\\\\\n",
       "\\end{tabular}\n"
      ],
      "text/plain": [
       "  symboling normalized_losses maker fuel aspiration doors  body wheels\n",
       "1         2               164  audi  gas        std  four sedan    fwd\n",
       "2         2               164  audi  gas        std  four sedan    4wd\n",
       "3         1               158  audi  gas        std  four sedan    fwd\n",
       "4         1               158  audi  gas      turbo  four sedan    fwd\n",
       "5         2               192   bmw  gas        std   two sedan    rwd\n",
       "6         0               192   bmw  gas        std  four sedan    rwd\n",
       "  engine_location wheel_base ... engine_size fuel_system bore stroke\n",
       "1           front       99.8 ...         109        mpfi 3.19    3.4\n",
       "2           front       99.4 ...         136        mpfi 3.19    3.4\n",
       "3           front      105.8 ...         136        mpfi 3.19    3.4\n",
       "4           front      105.8 ...         131        mpfi 3.13    3.4\n",
       "5           front      101.2 ...         108        mpfi 3.50    2.8\n",
       "6           front      101.2 ...         108        mpfi 3.50    2.8\n",
       "  compression_ratio horsepower peak_rpm city_mpg highway_mpg price\n",
       "1              10.0        102     5500       24          30 13950\n",
       "2               8.0        115     5500       18          22 17450\n",
       "3               8.5        110     5500       19          25 17710\n",
       "4               8.3        140     5500       17          20 23875\n",
       "5               8.8        101     5800       23          29 16430\n",
       "6               8.8        101     5800       23          29 16925"
      ]
     },
     "metadata": {},
     "output_type": "display_data"
    }
   ],
   "source": [
    "head(df)"
   ]
  },
  {
   "cell_type": "markdown",
   "metadata": {},
   "source": [
    "# 선형 회귀분석\n",
    " - http://archive.ics.uci.edu/ml/   # 여기서 데이터를 가지고 올 수 있다. "
   ]
  },
  {
   "cell_type": "code",
   "execution_count": 6,
   "metadata": {
    "collapsed": false
   },
   "outputs": [
    {
     "data": {
      "text/plain": [
       "\n",
       "Call:\n",
       "lm(formula = symboling ~ width, data = df)\n",
       "\n",
       "Residuals:\n",
       "     Min       1Q   Median       3Q      Max \n",
       "-2.52206 -0.81741  0.02148  1.02148  2.92097 \n",
       "\n",
       "Coefficients:\n",
       "            Estimate Std. Error t value Pr(>|t|)   \n",
       "(Intercept)  9.54381    3.13049   3.049  0.00270 **\n",
       "width       -0.13425    0.04769  -2.815  0.00551 **\n",
       "---\n",
       "Signif. codes:  0 '***' 0.001 '**' 0.01 '*' 0.05 '.' 0.1 ' ' 1\n",
       "\n",
       "Residual standard error: 1.168 on 157 degrees of freedom\n",
       "Multiple R-squared:  0.04804,\tAdjusted R-squared:  0.04198 \n",
       "F-statistic: 7.923 on 1 and 157 DF,  p-value: 0.005506\n"
      ]
     },
     "metadata": {},
     "output_type": "display_data"
    }
   ],
   "source": [
    "model <- lm(symboling ~ width, data=df)\n",
    "summary(model)"
   ]
  },
  {
   "cell_type": "code",
   "execution_count": 8,
   "metadata": {
    "collapsed": true
   },
   "outputs": [],
   "source": [
    "options(repr.plot.height=3)"
   ]
  },
  {
   "cell_type": "code",
   "execution_count": 9,
   "metadata": {
    "collapsed": false
   },
   "outputs": [
    {
     "data": {},
     "metadata": {},
     "output_type": "display_data"
    },
    {
     "data": {
      "image/png": "[encoded data removed]",
      "text/plain": [
       "plot without title"
      ]
     },
     "metadata": {},
     "output_type": "display_data"
    }
   ],
   "source": [
    "ggplot(df, aes(width, symboling)) + geom_point() + geom_smooth(method='lm')"
   ]
  },
  {
   "cell_type": "code",
   "execution_count": 10,
   "metadata": {
    "collapsed": false
   },
   "outputs": [
    {
     "data": {
      "text/html": [
       "<dl class=dl-horizontal>\n",
       "\t<dt>1</dt>\n",
       "\t\t<dd>0.656310920397241</dd>\n",
       "\t<dt>2</dt>\n",
       "\t\t<dd>0.629460466773379</dd>\n",
       "\t<dt>3</dt>\n",
       "\t\t<dd>-0.0418008738231403</dd>\n",
       "\t<dt>4</dt>\n",
       "\t\t<dd>-0.0418008738231403</dd>\n",
       "\t<dt>5</dt>\n",
       "\t\t<dd>0.844264095764267</dd>\n",
       "\t<dt>6</dt>\n",
       "\t\t<dd>0.844264095764267</dd>\n",
       "</dl>\n"
      ],
      "text/latex": [
       "\\begin{description*}\n",
       "\\item[1] 0.656310920397241\n",
       "\\item[2] 0.629460466773379\n",
       "\\item[3] -0.0418008738231403\n",
       "\\item[4] -0.0418008738231403\n",
       "\\item[5] 0.844264095764267\n",
       "\\item[6] 0.844264095764267\n",
       "\\end{description*}\n"
      ],
      "text/markdown": [
       "1\n",
       ":   0.6563109203972412\n",
       ":   0.6294604667733793\n",
       ":   -0.04180087382314034\n",
       ":   -0.04180087382314035\n",
       ":   0.8442640957642676\n",
       ":   0.844264095764267\n",
       "\n"
      ],
      "text/plain": [
       "          1           2           3           4           5           6 \n",
       " 0.65631092  0.62946047 -0.04180087 -0.04180087  0.84426410  0.84426410 "
      ]
     },
     "metadata": {},
     "output_type": "display_data"
    }
   ],
   "source": [
    "symboling.p <- predict(model,df)\n",
    "head(symboling.p)"
   ]
  },
  {
   "cell_type": "markdown",
   "metadata": {},
   "source": [
    " - 선형회귀는 많이해서 생략. "
   ]
  },
  {
   "cell_type": "markdown",
   "metadata": {},
   "source": [
    "## 통계 vs Machine Learning \n",
    " - 차이 : 통계는 해석이 필요하고 한데, ML은 맞추기만 하면된다.\n",
    " - 통계는 해석 ML는 예측 해석은 다양하게 가능하지만 예측은 설명이 불가능하다. 왜 이렇게 된다정도만 되지 정확히 표현이 불가\n",
    " - 조절(Moderation)\n",
    "  - overfitting, Underfitting \n",
    "  - 전체 데이터 중 일부를 짤라낸다. Split (Training : 70%, Test : 30%) -> Trianing 후 Test overfitting을 막을 수 있다.\n",
    " - 시기에 따라 데이터가 나타나 있다면 1~12월 : 1~10월까지만 Train하고 11~12 : Test 데이터로 활용. \n",
    " - 어떠한 특성을 가지는가. 시즈널리티 일경우 전체에서 나누는게 나음."
   ]
  },
  {
   "cell_type": "markdown",
   "metadata": {},
   "source": [
    "## Data partitioning "
   ]
  },
  {
   "cell_type": "code",
   "execution_count": 11,
   "metadata": {
    "collapsed": true
   },
   "outputs": [],
   "source": [
    "index <- createDataPartition(y = df$symboling, p=0.6, times = 1, list = F)"
   ]
  },
  {
   "cell_type": "code",
   "execution_count": 12,
   "metadata": {
    "collapsed": true
   },
   "outputs": [],
   "source": [
    "train <- df[index,]\n",
    "test <- df[-index,]"
   ]
  },
  {
   "cell_type": "code",
   "execution_count": 13,
   "metadata": {
    "collapsed": false
   },
   "outputs": [
    {
     "data": {
      "text/html": [
       "<ol class=list-inline>\n",
       "\t<li>97</li>\n",
       "\t<li>26</li>\n",
       "</ol>\n"
      ],
      "text/latex": [
       "\\begin{enumerate*}\n",
       "\\item 97\n",
       "\\item 26\n",
       "\\end{enumerate*}\n"
      ],
      "text/markdown": [
       "1. 97\n",
       "2. 26\n",
       "\n",
       "\n"
      ],
      "text/plain": [
       "[1] 97 26"
      ]
     },
     "metadata": {},
     "output_type": "display_data"
    },
    {
     "data": {
      "text/html": [
       "<ol class=list-inline>\n",
       "\t<li>62</li>\n",
       "\t<li>26</li>\n",
       "</ol>\n"
      ],
      "text/latex": [
       "\\begin{enumerate*}\n",
       "\\item 62\n",
       "\\item 26\n",
       "\\end{enumerate*}\n"
      ],
      "text/markdown": [
       "1. 62\n",
       "2. 26\n",
       "\n",
       "\n"
      ],
      "text/plain": [
       "[1] 62 26"
      ]
     },
     "metadata": {},
     "output_type": "display_data"
    }
   ],
   "source": [
    "dim(train)\n",
    "dim(test)"
   ]
  },
  {
   "cell_type": "code",
   "execution_count": 14,
   "metadata": {
    "collapsed": false
   },
   "outputs": [
    {
     "data": {
      "text/html": [
       "1.46102485957987"
      ],
      "text/latex": [
       "1.46102485957987"
      ],
      "text/markdown": [
       "1.46102485957987"
      ],
      "text/plain": [
       "[1] 1.461025"
      ]
     },
     "metadata": {},
     "output_type": "display_data"
    }
   ],
   "source": [
    "mean((train$symboling-predict(model,train))^2)"
   ]
  },
  {
   "cell_type": "code",
   "execution_count": 15,
   "metadata": {
    "collapsed": false
   },
   "outputs": [
    {
     "data": {
      "text/html": [
       "1.16743905112909"
      ],
      "text/latex": [
       "1.16743905112909"
      ],
      "text/markdown": [
       "1.16743905112909"
      ],
      "text/plain": [
       "[1] 1.167439"
      ]
     },
     "metadata": {},
     "output_type": "display_data"
    }
   ],
   "source": [
    "mean((test$symboling-predict(model,test))^2)"
   ]
  },
  {
   "cell_type": "markdown",
   "metadata": {},
   "source": [
    "## 변수선택\n",
    " - 머신러닝 할 수 없는 변수 : Example(너무 적은 카테고리 수동으로 제거 )"
   ]
  },
  {
   "cell_type": "code",
   "execution_count": 16,
   "metadata": {
    "collapsed": false
   },
   "outputs": [
    {
     "data": {
      "text/html": [
       "<ol class=list-inline>\n",
       "\t<li>\"symboling\"</li>\n",
       "\t<li>\"normalized_losses\"</li>\n",
       "\t<li>\"maker\"</li>\n",
       "\t<li>\"fuel\"</li>\n",
       "\t<li>\"aspiration\"</li>\n",
       "\t<li>\"doors\"</li>\n",
       "\t<li>\"body\"</li>\n",
       "\t<li>\"wheels\"</li>\n",
       "\t<li>\"engine_location\"</li>\n",
       "\t<li>\"wheel_base\"</li>\n",
       "\t<li>\"length\"</li>\n",
       "\t<li>\"width\"</li>\n",
       "\t<li>\"height\"</li>\n",
       "\t<li>\"curb_weight\"</li>\n",
       "\t<li>\"engine_type\"</li>\n",
       "\t<li>\"cylinders\"</li>\n",
       "\t<li>\"engine_size\"</li>\n",
       "\t<li>\"fuel_system\"</li>\n",
       "\t<li>\"bore\"</li>\n",
       "\t<li>\"stroke\"</li>\n",
       "\t<li>\"compression_ratio\"</li>\n",
       "\t<li>\"horsepower\"</li>\n",
       "\t<li>\"peak_rpm\"</li>\n",
       "\t<li>\"city_mpg\"</li>\n",
       "\t<li>\"highway_mpg\"</li>\n",
       "\t<li>\"price\"</li>\n",
       "</ol>\n"
      ],
      "text/latex": [
       "\\begin{enumerate*}\n",
       "\\item \"symboling\"\n",
       "\\item \"normalized\\_losses\"\n",
       "\\item \"maker\"\n",
       "\\item \"fuel\"\n",
       "\\item \"aspiration\"\n",
       "\\item \"doors\"\n",
       "\\item \"body\"\n",
       "\\item \"wheels\"\n",
       "\\item \"engine\\_location\"\n",
       "\\item \"wheel\\_base\"\n",
       "\\item \"length\"\n",
       "\\item \"width\"\n",
       "\\item \"height\"\n",
       "\\item \"curb\\_weight\"\n",
       "\\item \"engine\\_type\"\n",
       "\\item \"cylinders\"\n",
       "\\item \"engine\\_size\"\n",
       "\\item \"fuel\\_system\"\n",
       "\\item \"bore\"\n",
       "\\item \"stroke\"\n",
       "\\item \"compression\\_ratio\"\n",
       "\\item \"horsepower\"\n",
       "\\item \"peak\\_rpm\"\n",
       "\\item \"city\\_mpg\"\n",
       "\\item \"highway\\_mpg\"\n",
       "\\item \"price\"\n",
       "\\end{enumerate*}\n"
      ],
      "text/markdown": [
       "1. \"symboling\"\n",
       "2. \"normalized_losses\"\n",
       "3. \"maker\"\n",
       "4. \"fuel\"\n",
       "5. \"aspiration\"\n",
       "6. \"doors\"\n",
       "7. \"body\"\n",
       "8. \"wheels\"\n",
       "9. \"engine_location\"\n",
       "10. \"wheel_base\"\n",
       "11. \"length\"\n",
       "12. \"width\"\n",
       "13. \"height\"\n",
       "14. \"curb_weight\"\n",
       "15. \"engine_type\"\n",
       "16. \"cylinders\"\n",
       "17. \"engine_size\"\n",
       "18. \"fuel_system\"\n",
       "19. \"bore\"\n",
       "20. \"stroke\"\n",
       "21. \"compression_ratio\"\n",
       "22. \"horsepower\"\n",
       "23. \"peak_rpm\"\n",
       "24. \"city_mpg\"\n",
       "25. \"highway_mpg\"\n",
       "26. \"price\"\n",
       "\n",
       "\n"
      ],
      "text/plain": [
       " [1] \"symboling\"         \"normalized_losses\" \"maker\"            \n",
       " [4] \"fuel\"              \"aspiration\"        \"doors\"            \n",
       " [7] \"body\"              \"wheels\"            \"engine_location\"  \n",
       "[10] \"wheel_base\"        \"length\"            \"width\"            \n",
       "[13] \"height\"            \"curb_weight\"       \"engine_type\"      \n",
       "[16] \"cylinders\"         \"engine_size\"       \"fuel_system\"      \n",
       "[19] \"bore\"              \"stroke\"            \"compression_ratio\"\n",
       "[22] \"horsepower\"        \"peak_rpm\"          \"city_mpg\"         \n",
       "[25] \"highway_mpg\"       \"price\"            "
      ]
     },
     "metadata": {},
     "output_type": "display_data"
    }
   ],
   "source": [
    "colnames(df)"
   ]
  },
  {
   "cell_type": "code",
   "execution_count": 17,
   "metadata": {
    "collapsed": true
   },
   "outputs": [],
   "source": [
    "features = c(\"symboling\", \"fuel\", \"aspiration\", \"doors\", \"body\", \"wheels\", \"wheel_base\",\n",
    "             \"length\", \"width\", \"height\", \"curb_weight\", \"engine_size\",\n",
    "             \"bore\", \"stroke\", \"compression_ratio\", \"horsepower\", \"peak_rpm\",\n",
    "             \"city_mpg\", \"highway_mpg\", \"price\")\n",
    "\n",
    "train = df[index, features]\n",
    "test = df[-index, features]"
   ]
  },
  {
   "cell_type": "markdown",
   "metadata": {},
   "source": [
    "## Hyper Parameter \n",
    " - 데이터를 조정하는 값이 아니라, 먼저 지정해야되는 Parameters  기준이 없다. CrossValidation\n",
    " - Training Data 를 또 70 : 30 으로 Train / Test로 나눠서 반복해본다. Tuning Parameter를 이런식으로 잡는다. \n",
    " - Test와 하는 일은 비슷하나 목적이 다르다. \n",
    "\n",
    "## k-fold Cross Vaildation \n",
    " - 3-fold : 데이터를 3개로 나눈다 1,2 번으로 Training 3번으로 Vaildation, 1,3으로 Training 2번으로 vaildation \n",
    " - repeation을 할 수 있다. 또 랜덤하게 반복할 수 있다. \n",
    "\n",
    "## Python에서는 GridSearchcv 가 동일한 역할.\n",
    " - http://scikit-learn.org/stable/modules/grid_search.html#grid-search\n",
    " - http://scikit-learn.org/stable/modules/generated/sklearn.model_selection.GridSearchCV.html#sklearn.model_selection.GridSearchCV\n"
   ]
  },
  {
   "cell_type": "code",
   "execution_count": 19,
   "metadata": {
    "collapsed": true
   },
   "outputs": [],
   "source": [
    "# Training Control\n",
    "controlObject <- trainControl(\n",
    "  method = 'repeatedcv',\n",
    "  repeats = 1, #나누는 걸 몇번\n",
    "  number = 5) # 5등분"
   ]
  },
  {
   "cell_type": "markdown",
   "metadata": {},
   "source": [
    "## LM의 정규화 (11월 12일 파이썬 수업 )\n",
    " - 미친듯이 널뛰는 선보다는 선형 모델 (직선) 이 좋다.\n",
    " - 회귀 선도 평평하게 줄인다.\n",
    " - |W| 의 최소화 : Lasso(L1)  |W|^2의 최소화 : Ridge(L2)\n",
    " - Lasso : 회귀계수를 0으로 만드는 성향이 있다.\n",
    " - 변수 선택의 기능이 있다.\n",
    " - Ridge : 예측력이 조금 더 좋다. (항상 그런 것은 아니다.)\n",
    " \n",
    "### 영화평에 대한 감정 분석 \n",
    " - 어제 / 잼있다 / 귀신   => 어제 0.00001 계수가 있다 Lasso를 사용하게 되면 0으로 변한다. "
   ]
  },
  {
   "cell_type": "markdown",
   "metadata": {},
   "source": [
    "# 1. Elastic Net\n",
    " - L1 + L2도 하자. \n",
    " - 튜닝파라미터 \n",
    "  - 람다 : 정규화를 얼마나 강하게 할 것이냐? 높으면 정규화가 높다.  (모델이 단순하게) 적게 하면 예측률이 높아질듯.\n",
    "  - 알파 : L1,L2를 몇대 몇으로 할것이냐. 0~1, 알파 : 0 릿지만, 알파 : 1 라쏘만."
   ]
  },
  {
   "cell_type": "code",
   "execution_count": 20,
   "metadata": {
    "collapsed": true
   },
   "outputs": [],
   "source": [
    "# 모든 경우의 수를 만든다. \n",
    "elst.Grid <- expand.grid(\n",
    "  .alpha = seq(0, 1, 0.2),\n",
    "  .lambda = c(0.001, 0.01, 0.1))"
   ]
  },
  {
   "cell_type": "code",
   "execution_count": 22,
   "metadata": {
    "collapsed": false
   },
   "outputs": [
    {
     "data": {
      "text/html": [
       "<table>\n",
       "<tbody>\n",
       "\t<tr><th scope=row>.alpha</th><td>0.0</td><td>0.2</td><td>0.4</td><td>0.6</td><td>0.8</td><td>1.0</td><td>0.0</td><td>0.2</td><td>0.4</td><td>0.6</td><td>0.8</td><td>1.0</td><td>0.0</td><td>0.2</td><td>0.4</td><td>0.6</td><td>0.8</td><td>1.0</td></tr>\n",
       "\t<tr><th scope=row>.lambda</th><td>0.001</td><td>0.001</td><td>0.001</td><td>0.001</td><td>0.001</td><td>0.001</td><td>0.010</td><td>0.010</td><td>0.010</td><td>0.010</td><td>0.010</td><td>0.010</td><td>0.100</td><td>0.100</td><td>0.100</td><td>0.100</td><td>0.100</td><td>0.100</td></tr>\n",
       "</tbody>\n",
       "</table>\n"
      ],
      "text/latex": [
       "\\begin{tabular}{r|llllllllllllllllll}\n",
       "\t.alpha & 0.0 & 0.2 & 0.4 & 0.6 & 0.8 & 1.0 & 0.0 & 0.2 & 0.4 & 0.6 & 0.8 & 1.0 & 0.0 & 0.2 & 0.4 & 0.6 & 0.8 & 1.0\\\\\n",
       "\t.lambda & 0.001 & 0.001 & 0.001 & 0.001 & 0.001 & 0.001 & 0.010 & 0.010 & 0.010 & 0.010 & 0.010 & 0.010 & 0.100 & 0.100 & 0.100 & 0.100 & 0.100 & 0.100\\\\\n",
       "\\end{tabular}\n"
      ],
      "text/markdown": [
       "1. 0\n",
       "2. 0.001\n",
       "3. 0.2\n",
       "4. 0.001\n",
       "5. 0.4\n",
       "6. 0.001\n",
       "7. 0.6\n",
       "8. 0.001\n",
       "9. 0.8\n",
       "10. 0.001\n",
       "11. 1\n",
       "12. 0.001\n",
       "13. 0\n",
       "14. 0.01\n",
       "15. 0.2\n",
       "16. 0.01\n",
       "17. 0.4\n",
       "18. 0.01\n",
       "19. 0.6\n",
       "20. 0.01\n",
       "21. 0.8\n",
       "22. 0.01\n",
       "23. 1\n",
       "24. 0.01\n",
       "25. 0\n",
       "26. 0.1\n",
       "27. 0.2\n",
       "28. 0.1\n",
       "29. 0.4\n",
       "30. 0.1\n",
       "31. 0.6\n",
       "32. 0.1\n",
       "33. 0.8\n",
       "34. 0.1\n",
       "35. 1\n",
       "36. 0.1\n",
       "\n",
       "\n"
      ],
      "text/plain": [
       "         [,1]  [,2]  [,3]  [,4]  [,5]  [,6] [,7] [,8] [,9] [,10] [,11] [,12]\n",
       ".alpha  0.000 0.200 0.400 0.600 0.800 1.000 0.00 0.20 0.40  0.60  0.80  1.00\n",
       ".lambda 0.001 0.001 0.001 0.001 0.001 0.001 0.01 0.01 0.01  0.01  0.01  0.01\n",
       "        [,13] [,14] [,15] [,16] [,17] [,18]\n",
       ".alpha    0.0   0.2   0.4   0.6   0.8   1.0\n",
       ".lambda   0.1   0.1   0.1   0.1   0.1   0.1"
      ]
     },
     "metadata": {},
     "output_type": "display_data"
    }
   ],
   "source": [
    "t(elst.Grid)"
   ]
  },
  {
   "cell_type": "markdown",
   "metadata": {},
   "source": [
    "### train : Carat 의 function "
   ]
  },
  {
   "cell_type": "code",
   "execution_count": 26,
   "metadata": {
    "collapsed": false
   },
   "outputs": [],
   "source": [
    "library(glmnet)"
   ]
  },
  {
   "cell_type": "code",
   "execution_count": 25,
   "metadata": {
    "collapsed": false
   },
   "outputs": [],
   "source": [
    "elst.Model <- train(\n",
    "  symboling ~ ., \n",
    "  data = train, \n",
    "  method = 'glmnet',\n",
    "  tuneGrid = elst.Grid, # 만든 파라미터.\n",
    "  preProc = c('center', 'scale'), # 무조건 넣는다고 생각하면된다. \n",
    "  metric = 'RMSE', #예측문제라 RMSE를 최적화\n",
    "  trControl = controlObject) #CrossValidation을 어떻게 할 것인가. \n",
    "\n",
    "#RMSE가 작은걸 고르면 된다. "
   ]
  },
  {
   "cell_type": "code",
   "execution_count": 27,
   "metadata": {
    "collapsed": false
   },
   "outputs": [
    {
     "data": {
      "text/plain": [
       "glmnet \n",
       "\n",
       "97 samples\n",
       "19 predictors\n",
       "\n",
       "Pre-processing: centered (23), scaled (23) \n",
       "Resampling: Cross-Validated (5 fold, repeated 1 times) \n",
       "Summary of sample sizes: 79, 77, 77, 77, 78 \n",
       "Resampling results across tuning parameters:\n",
       "\n",
       "  alpha  lambda  RMSE       Rsquared \n",
       "  0.0    0.001   0.9320600  0.4331651\n",
       "  0.0    0.010   0.9320600  0.4331651\n",
       "  0.0    0.100   0.9311048  0.4340483\n",
       "  0.2    0.001   0.9874712  0.4328352\n",
       "  0.2    0.010   0.9412794  0.4434973\n",
       "  0.2    0.100   0.9190501  0.4524092\n",
       "  0.4    0.001   0.9854245  0.4342221\n",
       "  0.4    0.010   0.9278546  0.4547892\n",
       "  0.4    0.100   0.9271350  0.4469048\n",
       "  0.6    0.001   0.9836551  0.4353357\n",
       "  0.6    0.010   0.9150330  0.4654072\n",
       "  0.6    0.100   0.9252666  0.4500723\n",
       "  0.8    0.001   0.9821144  0.4364836\n",
       "  0.8    0.010   0.9040952  0.4759159\n",
       "  0.8    0.100   0.9310559  0.4459493\n",
       "  1.0    0.001   0.9805805  0.4376278\n",
       "  1.0    0.010   0.8913034  0.4876718\n",
       "  1.0    0.100   0.9338534  0.4431687\n",
       "\n",
       "RMSE was used to select the optimal model using  the smallest value.\n",
       "The final values used for the model were alpha = 1 and lambda = 0.01. "
      ]
     },
     "metadata": {},
     "output_type": "display_data"
    }
   ],
   "source": [
    "elst.Model"
   ]
  },
  {
   "cell_type": "code",
   "execution_count": 28,
   "metadata": {
    "collapsed": false
   },
   "outputs": [
    {
     "data": {
      "text/html": [
       "17"
      ],
      "text/latex": [
       "17"
      ],
      "text/markdown": [
       "17"
      ],
      "text/plain": [
       "[1] 17"
      ]
     },
     "metadata": {},
     "output_type": "display_data"
    }
   ],
   "source": [
    "best = as.numeric(rownames(elst.Model$bestTune))\n",
    "best"
   ]
  },
  {
   "cell_type": "code",
   "execution_count": 29,
   "metadata": {
    "collapsed": false
   },
   "outputs": [
    {
     "data": {
      "text/html": [
       "<dl class=dl-horizontal>\n",
       "\t<dt>fuelgas</dt>\n",
       "\t\t<dd>0</dd>\n",
       "\t<dt>aspirationturbo</dt>\n",
       "\t\t<dd>0</dd>\n",
       "\t<dt>doorstwo</dt>\n",
       "\t\t<dd>0.483066087487578</dd>\n",
       "\t<dt>bodyhardtop</dt>\n",
       "\t\t<dd>0</dd>\n",
       "\t<dt>bodyhatchback</dt>\n",
       "\t\t<dd>0</dd>\n",
       "\t<dt>bodysedan</dt>\n",
       "\t\t<dd>0</dd>\n",
       "\t<dt>bodywagon</dt>\n",
       "\t\t<dd>-0.005026577283427</dd>\n",
       "\t<dt>wheelsfwd</dt>\n",
       "\t\t<dd>0</dd>\n",
       "\t<dt>wheelsrwd</dt>\n",
       "\t\t<dd>0</dd>\n",
       "\t<dt>wheel_base</dt>\n",
       "\t\t<dd>-0.17053991084689</dd>\n",
       "\t<dt>length</dt>\n",
       "\t\t<dd>0</dd>\n",
       "\t<dt>width</dt>\n",
       "\t\t<dd>0</dd>\n",
       "\t<dt>height</dt>\n",
       "\t\t<dd>-0.100766814557431</dd>\n",
       "\t<dt>curb_weight</dt>\n",
       "\t\t<dd>0</dd>\n",
       "\t<dt>engine_size</dt>\n",
       "\t\t<dd>0</dd>\n",
       "\t<dt>bore</dt>\n",
       "\t\t<dd>0</dd>\n",
       "\t<dt>stroke</dt>\n",
       "\t\t<dd>0</dd>\n",
       "\t<dt>compression_ratio</dt>\n",
       "\t\t<dd>0</dd>\n",
       "\t<dt>horsepower</dt>\n",
       "\t\t<dd>0</dd>\n",
       "\t<dt>peak_rpm</dt>\n",
       "\t\t<dd>0</dd>\n",
       "\t<dt>city_mpg</dt>\n",
       "\t\t<dd>0</dd>\n",
       "\t<dt>highway_mpg</dt>\n",
       "\t\t<dd>0</dd>\n",
       "\t<dt>price</dt>\n",
       "\t\t<dd>0</dd>\n",
       "</dl>\n"
      ],
      "text/latex": [
       "\\begin{description*}\n",
       "\\item[fuelgas] 0\n",
       "\\item[aspirationturbo] 0\n",
       "\\item[doorstwo] 0.483066087487578\n",
       "\\item[bodyhardtop] 0\n",
       "\\item[bodyhatchback] 0\n",
       "\\item[bodysedan] 0\n",
       "\\item[bodywagon] -0.005026577283427\n",
       "\\item[wheelsfwd] 0\n",
       "\\item[wheelsrwd] 0\n",
       "\\item[wheel\\textbackslash{}\\_base] -0.17053991084689\n",
       "\\item[length] 0\n",
       "\\item[width] 0\n",
       "\\item[height] -0.100766814557431\n",
       "\\item[curb\\textbackslash{}\\_weight] 0\n",
       "\\item[engine\\textbackslash{}\\_size] 0\n",
       "\\item[bore] 0\n",
       "\\item[stroke] 0\n",
       "\\item[compression\\textbackslash{}\\_ratio] 0\n",
       "\\item[horsepower] 0\n",
       "\\item[peak\\textbackslash{}\\_rpm] 0\n",
       "\\item[city\\textbackslash{}\\_mpg] 0\n",
       "\\item[highway\\textbackslash{}\\_mpg] 0\n",
       "\\item[price] 0\n",
       "\\end{description*}\n"
      ],
      "text/markdown": [
       "fuelgas\n",
       ":   0aspirationturbo\n",
       ":   0doorstwo\n",
       ":   0.483066087487578bodyhardtop\n",
       ":   0bodyhatchback\n",
       ":   0bodysedan\n",
       ":   0bodywagon\n",
       ":   -0.005026577283427wheelsfwd\n",
       ":   0wheelsrwd\n",
       ":   0wheel_base\n",
       ":   -0.17053991084689length\n",
       ":   0width\n",
       ":   0height\n",
       ":   -0.100766814557431curb_weight\n",
       ":   0engine_size\n",
       ":   0bore\n",
       ":   0stroke\n",
       ":   0compression_ratio\n",
       ":   0horsepower\n",
       ":   0peak_rpm\n",
       ":   0city_mpg\n",
       ":   0highway_mpg\n",
       ":   0price\n",
       ":   0\n",
       "\n"
      ],
      "text/plain": [
       "          fuelgas   aspirationturbo          doorstwo       bodyhardtop \n",
       "      0.000000000       0.000000000       0.483066087       0.000000000 \n",
       "    bodyhatchback         bodysedan         bodywagon         wheelsfwd \n",
       "      0.000000000       0.000000000      -0.005026577       0.000000000 \n",
       "        wheelsrwd        wheel_base            length             width \n",
       "      0.000000000      -0.170539911       0.000000000       0.000000000 \n",
       "           height       curb_weight       engine_size              bore \n",
       "     -0.100766815       0.000000000       0.000000000       0.000000000 \n",
       "           stroke compression_ratio        horsepower          peak_rpm \n",
       "      0.000000000       0.000000000       0.000000000       0.000000000 \n",
       "         city_mpg       highway_mpg             price \n",
       "      0.000000000       0.000000000       0.000000000 "
      ]
     },
     "metadata": {},
     "output_type": "display_data"
    }
   ],
   "source": [
    "elst.Model$finalModel$beta[,best] # 베스트의 회귀계수"
   ]
  },
  {
   "cell_type": "code",
   "execution_count": 30,
   "metadata": {
    "collapsed": false
   },
   "outputs": [
    {
     "data": {
      "text/html": [
       "0.567789674664676"
      ],
      "text/latex": [
       "0.567789674664676"
      ],
      "text/markdown": [
       "0.567789674664676"
      ],
      "text/plain": [
       "[1] 0.5677897"
      ]
     },
     "metadata": {},
     "output_type": "display_data"
    }
   ],
   "source": [
    "y = predict(elst.Model, test, na.action = na.pass)\n",
    "mean((test$symboling - y)^2, na.rm = T)"
   ]
  },
  {
   "cell_type": "markdown",
   "metadata": {},
   "source": [
    "# 2. K-Nearset Neightbors(KNN)\n",
    " - KNN -> 친구를 보면 그사람을 안다 라는 발상\n",
    " - 새로운 데이터의 가장 가까운 데이터를 보고 판단한다. k < 갯수. 즉, 친구를 여러명 본다. k=3 이면 3개의 친구를 본다\n",
    " - 데이터 적을 때 k를 키우면 도움이 안된다. 하지만 데이터가 많아도 재앙이다. 비용이 많이든다. <br> 100만건에서 10개를 검색하는데 시간이 많이 걸린다. \n",
    " - 예측하는데 시간이 많이 걸린다. 트레이닝 할때는 시간이 얼마 안걸리는데, 테스트할때 많이 걸린다. \n",
    " - 추천시스템에서 KNN 많이 쓴다. \n",
    " - 가정 : 비슷한 애들끼리 모여있다. 하지만 모형확인부터 해야된다.  \n",
    "  - 막 섞여있다. 하면 KNN을 하기 어렵다. But 다른 모델도 마찬가지다. \n",
    " - 주변의 값의 평균으로 한다. k=3 이면 3개의 평균. \n",
    " - 비슷하다는 것은 어떻게 할 것이냐? 예) 변수가 3개다. 가격(0~10,000,000) / 크기 (0~10) 어느것이 가까우냐 판단하기 어렵다.\n",
    "  - 변수가 달라지면 판단이 어렵다. center와 scale  연속변수면 이렇게 하면 된다.  \n",
    "  - 이산변수면 더 골아프다. => 유사성을 본인이 정의. 예를들어 svm 커널처럼 비슷한거 갯수를 Count \n",
    "  - 또는 재정의 : 현대차 / 토요타 / 마세라티 연속적인 수치로 변환.  다른지표로 변환 평균 가격 과같은 숫자로 \n",
    " - 회사의 데이터는 대부분이 이산변수이다.... "
   ]
  },
  {
   "cell_type": "code",
   "execution_count": 32,
   "metadata": {
    "collapsed": true
   },
   "outputs": [],
   "source": [
    "knn.Model <- train(\n",
    "  symboling ~ ., \n",
    "  data = train,\n",
    "  method = 'knn',\n",
    "  preProc = c('center', 'scale'),\n",
    "  metric = 'RMSE',\n",
    "  tuneGrid = data.frame(.k = 2:5), # 2~5개 k 개 \n",
    "  trControl = controlObject)"
   ]
  },
  {
   "cell_type": "code",
   "execution_count": 33,
   "metadata": {
    "collapsed": false
   },
   "outputs": [
    {
     "data": {
      "text/plain": [
       "k-Nearest Neighbors \n",
       "\n",
       "97 samples\n",
       "19 predictors\n",
       "\n",
       "Pre-processing: centered (23), scaled (23) \n",
       "Resampling: Cross-Validated (5 fold, repeated 1 times) \n",
       "Summary of sample sizes: 78, 78, 76, 79, 77 \n",
       "Resampling results across tuning parameters:\n",
       "\n",
       "  k  RMSE       Rsquared \n",
       "  2  0.7970267  0.5899948\n",
       "  3  0.7789668  0.6066219\n",
       "  4  0.8169673  0.5690416\n",
       "  5  0.8234593  0.5767483\n",
       "\n",
       "RMSE was used to select the optimal model using  the smallest value.\n",
       "The final value used for the model was k = 3. "
      ]
     },
     "metadata": {},
     "output_type": "display_data"
    }
   ],
   "source": [
    "knn.Model"
   ]
  },
  {
   "cell_type": "code",
   "execution_count": 34,
   "metadata": {
    "collapsed": false
   },
   "outputs": [
    {
     "data": {
      "text/html": [
       "0.697244623655914"
      ],
      "text/latex": [
       "0.697244623655914"
      ],
      "text/markdown": [
       "0.697244623655914"
      ],
      "text/plain": [
       "[1] 0.6972446"
      ]
     },
     "metadata": {},
     "output_type": "display_data"
    }
   ],
   "source": [
    "test.c = test[complete.cases(test),]\n",
    "y = predict(knn.Model, test.c)  # 주변의 값의 평균으로 한다. k=3 이면 3개의 평균. \n",
    "mean((test.c$symboling - y)^2, na.rm = T)"
   ]
  },
  {
   "cell_type": "markdown",
   "metadata": {},
   "source": [
    "# 3. SVM\n",
    " - LM은 오차를 줄이는데 목적이 있다\n",
    " - SVM은 좋은 형태를 찾는데 목적이 있다. \n",
    " - Classification : 무수히 많은 경계선을 그을 수가 있다. Large Margin Classifier 의 일종이다.(SVM)\n",
    " - Regression : 가장 평평한 선을 찾는다 (일정범위내에서)\n",
    " - 예외케이스에서는 Penalty를 먹인다. \n",
    " - Kernal Trick (SVM 수업참고.)\n",
    " - example : 이산변수 -> 유사성으로 변경 "
   ]
  },
  {
   "cell_type": "code",
   "execution_count": 35,
   "metadata": {
    "collapsed": false
   },
   "outputs": [
    {
     "name": "stderr",
     "output_type": "stream",
     "text": [
      "Warning message:\n",
      ": package 'kernlab' was built under R version 3.3.2\n",
      "Attaching package: 'kernlab'\n",
      "\n",
      "The following object is masked from 'package:ggplot2':\n",
      "\n",
      "    alpha\n",
      "\n"
     ]
    }
   ],
   "source": [
    "library(kernlab)"
   ]
  },
  {
   "cell_type": "code",
   "execution_count": 36,
   "metadata": {
    "collapsed": true
   },
   "outputs": [],
   "source": [
    "sigmaRange <- sigest(as.matrix(train[8:20])) # sigma range를 추천해준다. 연속인 값에 넣어준다. \n",
    "svm.Grid <- expand.grid(\n",
    "  .sigma = sigmaRange[1],\n",
    "  .C = 2^(seq(-5,5,2)))\n",
    "\n",
    "svm.Model <- train(\n",
    "  symboling ~ .,\n",
    "  data = train,\n",
    "  method = 'svmRadial', # svm with rbf\n",
    "  tuneGrid = svm.Grid,\n",
    "  preProc = c('center', 'scale'),\n",
    "  metric = 'RMSE',    \n",
    "  trControl = controlObject)\n"
   ]
  },
  {
   "cell_type": "code",
   "execution_count": 37,
   "metadata": {
    "collapsed": false
   },
   "outputs": [
    {
     "data": {
      "text/html": [
       "0.560697506045321"
      ],
      "text/latex": [
       "0.560697506045321"
      ],
      "text/markdown": [
       "0.560697506045321"
      ],
      "text/plain": [
       "[1] 0.5606975"
      ]
     },
     "metadata": {},
     "output_type": "display_data"
    }
   ],
   "source": [
    "y = predict(svm.Model, test)\n",
    "mean((test.c$symboling - y)^2)"
   ]
  },
  {
   "cell_type": "markdown",
   "metadata": {},
   "source": [
    "# 4. Nueral Net\n",
    " - 별로 좋지가 않아 사용하지 않기를 권한다. \n",
    " - DeepLearning과 동일하다 생각하면된다. \n",
    " - Perceptron = Logistic Regression"
   ]
  },
  {
   "cell_type": "code",
   "execution_count": 38,
   "metadata": {
    "collapsed": false
   },
   "outputs": [
    {
     "name": "stderr",
     "output_type": "stream",
     "text": [
      "Loading required package: nnet\n",
      "Warning message:\n",
      ": package 'nnet' was built under R version 3.3.2Warning message:\n",
      ": executing %dopar% sequentially: no parallel backend registered"
     ]
    }
   ],
   "source": [
    "nnet.Grid <- expand.grid(\n",
    "  .decay = c(0.001, 0.01, 0.1), # LM의 ridge와 동일하다. 람다를 키우를거랑 비슷하다. 정규화를 얼마나 할 것이냐.\n",
    "  .size = seq(3,11, by = 2), # hidden Layer 크기 노드의 수 \n",
    "  .bag = FALSE) # bagging 모델을 여러개 만들어서 각각 다른 데이터를 줘서 평균 내는 방식. \n",
    "\n",
    "nnet.Model <- train(\n",
    "  symboling ~ .,\n",
    "  data = train,\n",
    "  method = 'avNNet',\n",
    "  tuneGrid = nnet.Grid,\n",
    "  preProc = c('center', 'scale'),\n",
    "  maxit = 200, # 밑바닥에 들어가서 error가 주는것인지 아닌지 알수가 없다. 한참걸린다. local minimun 최대 200 Step을 내려가고 Stop\n",
    "  trControl = controlObject\n",
    "  ,trace = F)\n"
   ]
  },
  {
   "cell_type": "code",
   "execution_count": 39,
   "metadata": {
    "collapsed": false
   },
   "outputs": [
    {
     "data": {
      "text/html": [
       "0.756801232214013"
      ],
      "text/latex": [
       "0.756801232214013"
      ],
      "text/markdown": [
       "0.756801232214013"
      ],
      "text/plain": [
       "[1] 0.7568012"
      ]
     },
     "metadata": {},
     "output_type": "display_data"
    }
   ],
   "source": [
    "y = predict(nnet.Model, test)\n",
    "mean((test.c$symboling - y)^2)"
   ]
  },
  {
   "cell_type": "markdown",
   "metadata": {},
   "source": [
    "# 5.Decision Tree"
   ]
  },
  {
   "cell_type": "code",
   "execution_count": 40,
   "metadata": {
    "collapsed": false
   },
   "outputs": [
    {
     "name": "stderr",
     "output_type": "stream",
     "text": [
      "Loading required package: rpart\n",
      "Warning message:\n",
      "In nominalTrainWorkflow(x = x, y = y, wts = weights, info = trainInfo, : There were missing values in resampled performance measures."
     ]
    },
    {
     "data": {
      "text/plain": [
       "CART \n",
       "\n",
       "97 samples\n",
       "19 predictors\n",
       "\n",
       "No pre-processing\n",
       "Resampling: Cross-Validated (5 fold, repeated 1 times) \n",
       "Summary of sample sizes: 77, 78, 76, 78, 79 \n",
       "Resampling results across tuning parameters:\n",
       "\n",
       "  cp          RMSE       Rsquared \n",
       "  0.00000000  0.7317461  0.6466811\n",
       "  0.04476486  0.7571485  0.6166751\n",
       "  0.08952972  0.8035704  0.5649615\n",
       "  0.13429457  0.8014913  0.5693026\n",
       "  0.17905943  0.9436526  0.4318178\n",
       "  0.22382429  0.9556323  0.4085557\n",
       "  0.26858915  0.9556323  0.4085557\n",
       "  0.31335401  0.9556323  0.4085557\n",
       "  0.35811886  0.9556323  0.4085557\n",
       "  0.40288372  1.1588788  0.2932859\n",
       "\n",
       "RMSE was used to select the optimal model using  the smallest value.\n",
       "The final value used for the model was cp = 0. "
      ]
     },
     "metadata": {},
     "output_type": "display_data"
    }
   ],
   "source": [
    "rpart.Model <- train(\n",
    "  symboling ~ ., \n",
    "  data = train,\n",
    "  method = 'rpart',\n",
    "  tuneLength = 10,\n",
    "  trControl = controlObject)\n",
    "\n",
    "rpart.Model\n"
   ]
  },
  {
   "cell_type": "code",
   "execution_count": 41,
   "metadata": {
    "collapsed": false
   },
   "outputs": [
    {
     "data": {
      "text/html": [
       "0.761933633492909"
      ],
      "text/latex": [
       "0.761933633492909"
      ],
      "text/markdown": [
       "0.761933633492909"
      ],
      "text/plain": [
       "[1] 0.7619336"
      ]
     },
     "metadata": {},
     "output_type": "display_data"
    }
   ],
   "source": [
    "y = predict(rpart.Model, test)\n",
    "mean((test.c$symboling - y)^2)"
   ]
  },
  {
   "cell_type": "markdown",
   "metadata": {},
   "source": [
    "# 6. RandomForest \n",
    " - bagging을 적용  python 수업시간 내용을 본다. \n",
    " - feature importance 를 사용해서 설명이 가능하다. "
   ]
  },
  {
   "cell_type": "code",
   "execution_count": 42,
   "metadata": {
    "collapsed": false
   },
   "outputs": [
    {
     "name": "stderr",
     "output_type": "stream",
     "text": [
      "Loading required package: randomForest\n",
      "Warning message:\n",
      ": package 'randomForest' was built under R version 3.3.2randomForest 4.6-12\n",
      "Type rfNews() to see new features/changes/bug fixes.\n",
      "\n",
      "Attaching package: 'randomForest'\n",
      "\n",
      "The following object is masked from 'package:dplyr':\n",
      "\n",
      "    combine\n",
      "\n",
      "The following object is masked from 'package:ggplot2':\n",
      "\n",
      "    margin\n",
      "\n"
     ]
    }
   ],
   "source": [
    "rf.Grid <- expand.grid(.mtry = c(4,6,8,10)) # 컬럼수를 결정 총 length 만큼 반복하는데 각 순서대로 컬럼수를 가지고 한다. \n",
    "rf.Model <- train(\n",
    "  symboling  ~.,\n",
    "  data = train,\n",
    "  method = 'rf',\n",
    "  tuneGrid = rf.Grid,\n",
    "  ntrees = 10, # 트리 수 \n",
    "  importance = T,\n",
    "  trControl = controlObject)\n"
   ]
  },
  {
   "cell_type": "code",
   "execution_count": 43,
   "metadata": {
    "collapsed": false
   },
   "outputs": [
    {
     "data": {
      "text/html": [
       "0.352205199731183"
      ],
      "text/latex": [
       "0.352205199731183"
      ],
      "text/markdown": [
       "0.352205199731183"
      ],
      "text/plain": [
       "[1] 0.3522052"
      ]
     },
     "metadata": {},
     "output_type": "display_data"
    }
   ],
   "source": [
    "y = predict(rf.Model, test)\n",
    "mean((test.c$symboling - y)^2)"
   ]
  },
  {
   "cell_type": "markdown",
   "metadata": {},
   "source": [
    "# 7. Gradient Boosting Tree\n",
    " - Y = Y^hat + E 실제 = 예측 + 오차 \n",
    " - 실제 = 예측1 + 오차1 \n",
    "  - 오차1 = 예측2 + 오차2 \n",
    "  - 실제 = 예측1 + 예측2 + 오차2 \n",
    "  - 실제 = 예측1 + 예측2 + 예측3 + 오차3 으로 점점 늘어난다. \n",
    " - 첫번째 모형이 예측하는데 그게 못하는 것을 두번째 모형이 한다. "
   ]
  },
  {
   "cell_type": "markdown",
   "metadata": {},
   "source": [
    "# Evaluation between model"
   ]
  },
  {
   "cell_type": "code",
   "execution_count": 44,
   "metadata": {
    "collapsed": false
   },
   "outputs": [
    {
     "data": {
      "text/plain": [
       "\n",
       "Call:\n",
       "summary.resamples(object = allResamples)\n",
       "\n",
       "Models: Elastic Net, K-NN, svm, Neural network, tree, Random Forest \n",
       "Number of resamples: 5 \n",
       "\n",
       "RMSE \n",
       "                 Min. 1st Qu. Median   Mean 3rd Qu.   Max. NA's\n",
       "Elastic Net    0.5839  0.9012 0.9327 0.8913  0.9499 1.0890    0\n",
       "K-NN           0.6186  0.7071 0.8447 0.7790  0.8516 0.8729    0\n",
       "svm            0.5993  0.8880 0.9387 0.8647  0.9431 0.9543    0\n",
       "Neural network 0.8866  0.9993 1.0000 1.0360  1.0300 1.2650    0\n",
       "tree           0.5677  0.6240 0.7117 0.7317  0.8437 0.9116    0\n",
       "Random Forest  0.5713  0.5875 0.6749 0.6884  0.7557 0.8525    0\n",
       "\n",
       "Rsquared \n",
       "                 Min. 1st Qu. Median   Mean 3rd Qu.   Max. NA's\n",
       "Elastic Net    0.3647  0.3706 0.4153 0.4877  0.5159 0.7718    0\n",
       "K-NN           0.4810  0.5465 0.5473 0.6066  0.7135 0.7448    0\n",
       "svm            0.3850  0.4118 0.5690 0.5302  0.5793 0.7057    0\n",
       "Neural network 0.1792  0.2030 0.3781 0.3686  0.4909 0.5916    0\n",
       "tree           0.4196  0.5687 0.6994 0.6467  0.7363 0.8095    0\n",
       "Random Forest  0.6330  0.7050 0.7109 0.7437  0.8211 0.8485    0\n"
      ]
     },
     "metadata": {},
     "output_type": "display_data"
    }
   ],
   "source": [
    "allResamples <- resamples(\n",
    "  list('Elastic Net' = elst.Model,\n",
    "       'K-NN' = knn.Model,\n",
    "       'svm' = svm.Model,\n",
    "       'Neural network' = nnet.Model,\n",
    "       'tree' = rpart.Model,\n",
    "       'Random Forest' = rf.Model))\n",
    "summary(allResamples)"
   ]
  },
  {
   "cell_type": "markdown",
   "metadata": {},
   "source": [
    "# save & load"
   ]
  },
  {
   "cell_type": "code",
   "execution_count": 45,
   "metadata": {
    "collapsed": true
   },
   "outputs": [],
   "source": [
    "save(rf.Model, file=\"rfModel.RData\")\n",
    "load('rfModel.RData')"
   ]
  },
  {
   "cell_type": "markdown",
   "metadata": {},
   "source": [
    "# Linear Discriminant Analysis"
   ]
  },
  {
   "cell_type": "code",
   "execution_count": 46,
   "metadata": {
    "collapsed": false
   },
   "outputs": [
    {
     "name": "stderr",
     "output_type": "stream",
     "text": [
      "Warning message:\n",
      ": package 'e1071' was built under R version 3.3.2"
     ]
    }
   ],
   "source": [
    "library(e1071)"
   ]
  },
  {
   "cell_type": "code",
   "execution_count": 47,
   "metadata": {
    "collapsed": false
   },
   "outputs": [
    {
     "data": {
      "text/html": [
       "<ol class=list-inline>\n",
       "\t<li>\"four\"</li>\n",
       "\t<li>\"two\"</li>\n",
       "</ol>\n"
      ],
      "text/latex": [
       "\\begin{enumerate*}\n",
       "\\item \"four\"\n",
       "\\item \"two\"\n",
       "\\end{enumerate*}\n"
      ],
      "text/markdown": [
       "1. \"four\"\n",
       "2. \"two\"\n",
       "\n",
       "\n"
      ],
      "text/plain": [
       "[1] \"four\" \"two\" "
      ]
     },
     "metadata": {},
     "output_type": "display_data"
    }
   ],
   "source": [
    "df$doors <- factor(df$doors)\n",
    "levels(df$doors)"
   ]
  },
  {
   "cell_type": "code",
   "execution_count": 48,
   "metadata": {
    "collapsed": false
   },
   "outputs": [
    {
     "name": "stderr",
     "output_type": "stream",
     "text": [
      "Loading required package: MASS\n",
      "\n",
      "Attaching package: 'MASS'\n",
      "\n",
      "The following object is masked from 'package:dplyr':\n",
      "\n",
      "    select\n",
      "\n",
      "Warning message:\n",
      "In lda.default(x, grouping, ...): variables are collinear"
     ]
    },
    {
     "data": {
      "text/plain": [
       "Linear Discriminant Analysis \n",
       "\n",
       "97 samples\n",
       "19 predictors\n",
       " 2 classes: 'four', 'two' \n",
       "\n",
       "No pre-processing\n",
       "Resampling: Cross-Validated (5 fold, repeated 1 times) \n",
       "Summary of sample sizes: 78, 77, 78, 77, 78 \n",
       "Resampling results:\n",
       "\n",
       "  Accuracy   Kappa    \n",
       "  0.8768421  0.7363044\n",
       "\n",
       "Tuning parameter 'dimen' was held constant at a value of 1\n",
       " "
      ]
     },
     "metadata": {},
     "output_type": "display_data"
    }
   ],
   "source": [
    "lda.Model <- train(\n",
    "  doors ~ ., \n",
    "  data = train,\n",
    "  method = 'lda2',\n",
    "  metric = 'Kappa',\n",
    "  tuneLength = 2,\n",
    "  trControl = controlObject)\n",
    "\n",
    "lda.Model"
   ]
  },
  {
   "cell_type": "code",
   "execution_count": 49,
   "metadata": {
    "collapsed": false
   },
   "outputs": [
    {
     "data": {
      "text/plain": [
       "Confusion Matrix and Statistics\n",
       "\n",
       "          Reference\n",
       "Prediction four two\n",
       "      four   34   7\n",
       "      two     1  20\n",
       "                                          \n",
       "               Accuracy : 0.871           \n",
       "                 95% CI : (0.7615, 0.9426)\n",
       "    No Information Rate : 0.5645          \n",
       "    P-Value [Acc > NIR] : 2.085e-07       \n",
       "                                          \n",
       "                  Kappa : 0.7307          \n",
       " Mcnemar's Test P-Value : 0.0771          \n",
       "                                          \n",
       "            Sensitivity : 0.9714          \n",
       "            Specificity : 0.7407          \n",
       "         Pos Pred Value : 0.8293          \n",
       "         Neg Pred Value : 0.9524          \n",
       "             Prevalence : 0.5645          \n",
       "         Detection Rate : 0.5484          \n",
       "   Detection Prevalence : 0.6613          \n",
       "      Balanced Accuracy : 0.8561          \n",
       "                                          \n",
       "       'Positive' Class : four            \n",
       "                                          "
      ]
     },
     "metadata": {},
     "output_type": "display_data"
    }
   ],
   "source": [
    "y = predict(lda.Model, test.c)\n",
    "confusionMatrix(y, test.c$doors)"
   ]
  }
 ],
 "metadata": {
  "kernelspec": {
   "display_name": "R 3.3",
   "language": "R",
   "name": "ir33"
  },
  "language_info": {
   "codemirror_mode": "r",
   "file_extension": ".r",
   "mimetype": "text/x-r-source",
   "name": "R",
   "pygments_lexer": "r",
   "version": "3.3.1"
  }
 },
 "nbformat": 4,
 "nbformat_minor": 0
}
