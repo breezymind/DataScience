{
 "cells": [
  {
   "cell_type": "markdown",
   "metadata": {},
   "source": [
    "# R for Datascience\n",
    " - 유재명 교수\n",
    " - <a href=\"http://r4ds.had.co.nz/index.html\"> 교재 R for DataScience</a>"
   ]
  },
  {
   "cell_type": "code",
   "execution_count": 3,
   "metadata": {
    "collapsed": false
   },
   "outputs": [],
   "source": [
    "library(tidyverse)"
   ]
  },
  {
   "cell_type": "markdown",
   "metadata": {
    "collapsed": true
   },
   "source": [
    "## Introduction \n",
    " <img src=\"1.PNG\">"
   ]
  },
  {
   "cell_type": "markdown",
   "metadata": {},
   "source": [
    "### Tips "
   ]
  },
  {
   "cell_type": "code",
   "execution_count": 4,
   "metadata": {
    "collapsed": false
   },
   "outputs": [
    {
     "data": {
      "text/html": [
       "<ol class=list-inline>\n",
       "</ol>\n"
      ],
      "text/latex": [
       "\\begin{enumerate*}\n",
       "\\end{enumerate*}\n"
      ],
      "text/markdown": [
       "\n",
       "\n"
      ],
      "text/plain": [
       "numeric(0)"
      ]
     },
     "metadata": {},
     "output_type": "display_data"
    }
   ],
   "source": [
    "# 기존 제공하는 함수가 덮어졌을 경우 Class로 접근\n",
    "median = function(x){x[0]}\n",
    "median(c(1,2,3))"
   ]
  },
  {
   "cell_type": "markdown",
   "metadata": {},
   "source": [
    " - Library를 Load하지 않더라도 가능하능하다. \n",
    " - Class::Function() 으로 사용 "
   ]
  },
  {
   "cell_type": "code",
   "execution_count": 5,
   "metadata": {
    "collapsed": false
   },
   "outputs": [
    {
     "data": {
      "text/html": [
       "2"
      ],
      "text/latex": [
       "2"
      ],
      "text/markdown": [
       "2"
      ],
      "text/plain": [
       "[1] 2"
      ]
     },
     "metadata": {},
     "output_type": "display_data"
    }
   ],
   "source": [
    "stats::median(c(1,2,3))"
   ]
  },
  {
   "cell_type": "markdown",
   "metadata": {},
   "source": [
    "## 3.Data Visualization\n",
    "### 3.2.1 mpg data"
   ]
  },
  {
   "cell_type": "code",
   "execution_count": 7,
   "metadata": {
    "collapsed": false
   },
   "outputs": [
    {
     "data": {
      "text/html": [
       "<table>\n",
       "<thead><tr><th></th><th scope=col>manufacturer</th><th scope=col>model</th><th scope=col>displ</th><th scope=col>year</th><th scope=col>cyl</th><th scope=col>trans</th><th scope=col>drv</th><th scope=col>cty</th><th scope=col>hwy</th><th scope=col>fl</th><th scope=col>class</th></tr></thead>\n",
       "<tbody>\n",
       "\t<tr><th scope=row>1</th><td>audi    </td><td>a4      </td><td>1.8     </td><td>1999    </td><td>4       </td><td>auto(l5)</td><td>f       </td><td>18      </td><td>29      </td><td>p       </td><td>compact </td></tr>\n",
       "\t<tr><th scope=row>2</th><td>audi      </td><td>a4        </td><td>1.8       </td><td>1999      </td><td>4         </td><td>manual(m5)</td><td>f         </td><td>21        </td><td>29        </td><td>p         </td><td>compact   </td></tr>\n",
       "\t<tr><th scope=row>3</th><td>audi      </td><td>a4        </td><td>2         </td><td>2008      </td><td>4         </td><td>manual(m6)</td><td>f         </td><td>20        </td><td>31        </td><td>p         </td><td>compact   </td></tr>\n",
       "\t<tr><th scope=row>4</th><td>audi    </td><td>a4      </td><td>2       </td><td>2008    </td><td>4       </td><td>auto(av)</td><td>f       </td><td>21      </td><td>30      </td><td>p       </td><td>compact </td></tr>\n",
       "\t<tr><th scope=row>5</th><td>audi    </td><td>a4      </td><td>2.8     </td><td>1999    </td><td>6       </td><td>auto(l5)</td><td>f       </td><td>16      </td><td>26      </td><td>p       </td><td>compact </td></tr>\n",
       "\t<tr><th scope=row>6</th><td>audi      </td><td>a4        </td><td>2.8       </td><td>1999      </td><td>6         </td><td>manual(m5)</td><td>f         </td><td>18        </td><td>26        </td><td>p         </td><td>compact   </td></tr>\n",
       "</tbody>\n",
       "</table>\n"
      ],
      "text/latex": [
       "\\begin{tabular}{r|lllllllllll}\n",
       "  & manufacturer & model & displ & year & cyl & trans & drv & cty & hwy & fl & class\\\\\n",
       "\\hline\n",
       "\t1 & audi     & a4       & 1.8      & 1999     & 4        & auto(l5) & f        & 18       & 29       & p        & compact \\\\\n",
       "\t2 & audi       & a4         & 1.8        & 1999       & 4          & manual(m5) & f          & 21         & 29         & p          & compact   \\\\\n",
       "\t3 & audi       & a4         & 2          & 2008       & 4          & manual(m6) & f          & 20         & 31         & p          & compact   \\\\\n",
       "\t4 & audi     & a4       & 2        & 2008     & 4        & auto(av) & f        & 21       & 30       & p        & compact \\\\\n",
       "\t5 & audi     & a4       & 2.8      & 1999     & 6        & auto(l5) & f        & 16       & 26       & p        & compact \\\\\n",
       "\t6 & audi       & a4         & 2.8        & 1999       & 6          & manual(m5) & f          & 18         & 26         & p          & compact   \\\\\n",
       "\\end{tabular}\n"
      ],
      "text/plain": [
       "  manufacturer model displ year cyl      trans drv cty hwy fl   class\n",
       "1         audi    a4   1.8 1999   4   auto(l5)   f  18  29  p compact\n",
       "2         audi    a4   1.8 1999   4 manual(m5)   f  21  29  p compact\n",
       "3         audi    a4   2.0 2008   4 manual(m6)   f  20  31  p compact\n",
       "4         audi    a4   2.0 2008   4   auto(av)   f  21  30  p compact\n",
       "5         audi    a4   2.8 1999   6   auto(l5)   f  16  26  p compact\n",
       "6         audi    a4   2.8 1999   6 manual(m5)   f  18  26  p compact"
      ]
     },
     "metadata": {},
     "output_type": "display_data"
    }
   ],
   "source": [
    "head(mpg)"
   ]
  },
  {
   "cell_type": "code",
   "execution_count": null,
   "metadata": {
    "collapsed": true
   },
   "outputs": [],
   "source": []
  }
 ],
 "metadata": {
  "kernelspec": {
   "display_name": "R 3.3",
   "language": "R",
   "name": "ir33"
  },
  "language_info": {
   "codemirror_mode": "r",
   "file_extension": ".r",
   "mimetype": "text/x-r-source",
   "name": "R",
   "pygments_lexer": "r",
   "version": "3.3.1"
  }
 },
 "nbformat": 4,
 "nbformat_minor": 0
}
