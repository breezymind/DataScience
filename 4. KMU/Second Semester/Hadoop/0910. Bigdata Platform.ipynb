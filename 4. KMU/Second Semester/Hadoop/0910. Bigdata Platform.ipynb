{
 "cells": [
  {
   "cell_type": "markdown",
   "metadata": {},
   "source": [
    "# DataBase vs Data Warehouse\n",
    " - Database\n",
    "  - I / U / D / S 개별 레코드 단위 \n",
    " - Data Warehouse \n",
    "  - 박스 단위.\n",
    "  - CUD를 할 수 없다. \n",
    "  - Read만 가능하다. \n",
    "  - Insert 대신에 Load.\n",
    "  - Delete 대신에 Drop.\n",
    "\n",
    "# Hybrid DW"
   ]
  }
 ],
 "metadata": {
  "kernelspec": {
   "display_name": "Python [py35]",
   "language": "python",
   "name": "Python [py35]"
  },
  "language_info": {
   "codemirror_mode": {
    "name": "ipython",
    "version": 3
   },
   "file_extension": ".py",
   "mimetype": "text/x-python",
   "name": "python",
   "nbconvert_exporter": "python",
   "pygments_lexer": "ipython3",
   "version": "3.5.2"
  }
 },
 "nbformat": 4,
 "nbformat_minor": 0
}
