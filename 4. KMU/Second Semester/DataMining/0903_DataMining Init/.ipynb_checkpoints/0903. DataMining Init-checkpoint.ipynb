{
 "cells": [
  {
   "cell_type": "markdown",
   "metadata": {},
   "source": [
    "# DataMining Init\n",
    " - 데이터 간의 관계, 패턴, 규칙 등을 찾아내고 모형화해 유용한 경영정보로 변환시키는 일련의 과정을 이론과 함께 R을 통한 실습을 병행하여 이를 활용할 수 있는 방법론 제시 "
   ]
  },
  {
   "cell_type": "markdown",
   "metadata": {},
   "source": [
    "# DataMining VS Machine Learning \n",
    " - 기본기술과 알고리즘은 ML과 동일하다. 하지만 실제세상의 문제를 해결하고자하는 목적을 가진 데이터마이닝과 ML의 목적이 다르다. \n",
    " - ML + Statistics -> DataMining "
   ]
  },
  {
   "cell_type": "markdown",
   "metadata": {},
   "source": [
    "# DataMining  \n",
    " 1. 분류 예측 분석 \n",
    " 2. 군집화 \n",
    " 3. 연관 계측 분석 "
   ]
  },
  {
   "cell_type": "code",
   "execution_count": null,
   "metadata": {
    "collapsed": true
   },
   "outputs": [],
   "source": []
  }
 ],
 "metadata": {
  "kernelspec": {
   "display_name": "R 3.3",
   "language": "R",
   "name": "ir33"
  },
  "language_info": {
   "codemirror_mode": "r",
   "file_extension": ".r",
   "mimetype": "text/x-r-source",
   "name": "R",
   "pygments_lexer": "r",
   "version": "3.3.1"
  }
 },
 "nbformat": 4,
 "nbformat_minor": 0
}
