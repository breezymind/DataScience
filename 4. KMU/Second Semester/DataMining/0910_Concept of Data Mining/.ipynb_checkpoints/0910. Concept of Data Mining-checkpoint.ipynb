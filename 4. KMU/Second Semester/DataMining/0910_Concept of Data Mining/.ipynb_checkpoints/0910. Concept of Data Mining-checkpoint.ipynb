{
 "cells": [
  {
   "cell_type": "markdown",
   "metadata": {},
   "source": [
    "# Concept of Data Mining\n",
    " - Date : 2016.09.10 (Sat)"
   ]
  },
  {
   "cell_type": "markdown",
   "metadata": {},
   "source": [
    "    ![Picture](How-to-become-a-data-scientist.jpg)\n",
    "    보고싶은 경우는 Tab을 없애고 보면 됨."
   ]
  },
  {
   "cell_type": "markdown",
   "metadata": {},
   "source": [
    "# Data Mining \n",
    " - 대량의 데이터로부터 새롭고 의미 있는 정보를 추출하여 의사결정에 활용하는 작업 \n",
    "  - 지식발견 \n",
    "  - 정보발견, 정보수학\n",
    "  - 정보고고학, 자료패턴처리 "
   ]
  },
  {
   "cell_type": "markdown",
   "metadata": {},
   "source": [
    "## 데이터마이닝의 다양한 정의\n",
    "- 데이터베이스에서 지기발견은 데이터에 있는 유효하고, 잠재적으로 이용가능하며 궁극적으로 이해할 수 있는 패턴을 식별하는 중요한 프로세스    (Fayyad et al., “Advance in Knowledge Discovery and Data Mining,”1996)\n",
    "- 데이터 마이닝은 비즈니스 문제를 해결하기 위해 현재 조치를 취할 수 있고,명시적이며 새로운 정보를 추출하기 위해 세부적인 데이터를 분석하는 프로세스이다.(NCR)\n",
    "- 데이터 마이닝은 큰 데이터베이스로부터 이전에 알려지지 않고, 궁극적으로이해가능한 정보를 추출 및 중요한 비즈니스 의사결정을 하는 프로세스이다.(IBM)\n",
    "- 데이터 마이닝은 비즈니스 우위를 위해 이전에 알려지지 않은 패턴을 발견하기 위해 많은 양의 데이터를 선택하고, 탐색 및 모델링하는 프로세스이다.(SAS Institute)\n",
    "- <font color='red'> 데이터 마이닝은 기업의 경영 활동에서 발생하는 대용량 데이터에서 데이터간의 관계·패턴·규칙 등을 찾아내고 모형화해 유용한 경영 정보로 변환시키는 일련의 과정이다.</font>"
   ]
  },
  {
   "cell_type": "markdown",
   "metadata": {},
   "source": [
    "## Statistics Vs  DM\n",
    " - 전통적 통계분석 \n",
    "  - 대상집단이 있으며, 모집단의 분포 혹은 모형 등 여러 가지 가정을 전제로 하게 되며 이 전제 조건하에서 분석을 실시\n",
    "  - **=>표본의 관찰을 통해 모수 전체를 추론하는 과정**\n",
    " - 데이터마이닝 \n",
    "  - 표본조사/실험에서 필연적으로 수반되는 분포라든가 모형에 대한 전제조건이 필요하지않음\n",
    "  - **=>모집단의 전체자료를 이용한 정보화하는 과정**"
   ]
  },
  {
   "cell_type": "markdown",
   "metadata": {},
   "source": [
    "## SQL / OLAP / DataMining"
   ]
  },
  {
   "cell_type": "markdown",
   "metadata": {},
   "source": [
    "![SQl/OLAP/DataMining](1.PNG)"
   ]
  },
  {
   "cell_type": "markdown",
   "metadata": {},
   "source": [
    "## What Problems can DM Solve ?\n",
    " - 대부분의 문제에 대해서 결과를 예측한다. 또는 확률, 의사결정, 수치를 에측한다. "
   ]
  },
  {
   "cell_type": "markdown",
   "metadata": {},
   "source": [
    "# Data Mining Process\n",
    "![DMProcess](2.PNG)\n",
    "![DMProcess](3.PNG)"
   ]
  },
  {
   "cell_type": "markdown",
   "metadata": {},
   "source": [
    "# Predictive Modeling Process\n",
    "![DMProcess](4.PNG)"
   ]
  },
  {
   "cell_type": "markdown",
   "metadata": {},
   "source": [
    "# 데이터마이닝 기법의 종류 \n",
    "## Supervised Modeling (지도 학습, Predictive Analytics)\n",
    " - Estimation / Prediction (추정/예측 : 연속형)\n",
    "  - Linear Regression, Neural Network\n",
    " - Classification / Prediction (분류/예측 : 이산형)\n",
    "  - Decision Tree(C5.0), Neural Network, SVM\n",
    " \n",
    " <br/>\n",
    " <font size=3 color='green'>용어의 유례 : 어리아이가 말을 배우는 과정 ( 엄마가 Supervisor ) </font>\n",
    " \n",
    "## unsupervised Modeling ( 비지도 학습 , descriptive Analytics)\n",
    " - Clustering(군집화)\n",
    "  - K-Means, SOM\n",
    " - Association rule Mining ( 연관규칙 탐사 ) \n",
    " - Sequential rule Mining ( 연속규칙 탐사 )"
   ]
  },
  {
   "cell_type": "markdown",
   "metadata": {
    "collapsed": true
   },
   "source": [
    "## 1. 연관 규칙 탐사 (Association Rule Mining)\n",
    "   - 정의\n",
    "    - 데이터 안에 존재하는 항목간의 종속 관계를 찾아내는 작업\n",
    "   - 장바구니 분석(Market Basket Analysis)\n",
    "    - 고객의 장바구니에 들어있는 품목 간의 관계를 발견\n",
    "   - 규칙의 표현 \n",
    "    - 항목 A와 품목 B를 구매한 고객은 품목 C를 구매한다. \n",
    "    - (품목A) & (품목B) => (품목C)\n",
    "   - 연관규칙의 활용\n",
    "    - 제품이나 서비스의 교차 판매\n",
    "    - 매장진열, 첨부우편\n",
    "    - 사기적발"
   ]
  },
  {
   "cell_type": "markdown",
   "metadata": {},
   "source": [
    "![DMProcess](5.PNG)"
   ]
  },
  {
   "cell_type": "markdown",
   "metadata": {},
   "source": [
    "## 2. 연속규칙탐사 ( Sequential Rule Mining )\n",
    " - 정의 \n",
    "  - 연관 규칙에 시간 관련 정보가 포함된 형태 \n",
    " - 규칙의 표현\n",
    "  - 새 냉장고를 구입한 고객 중 한달 이내에 새 오븐을 구입하는 경향이 많다.\n",
    " - 연속 규칙의 활용 \n",
    "  - 타겟 마케팅\n",
    "  - 일대일 마케팅\n",
    " - 전제조건\n",
    "  - 고객의 구매내역(History) 정보가 반드시 필요함."
   ]
  },
  {
   "cell_type": "markdown",
   "metadata": {},
   "source": [
    "![DMProcess](6.PNG)"
   ]
  },
  {
   "cell_type": "markdown",
   "metadata": {},
   "source": [
    "## 3. 분류 ( Classification )\n",
    " - 분류 프로세스 \n",
    "  - 과거의 데이터를 부류로 구분\n",
    "  - 부류별 특성을 발견\n",
    "  - 분류 모형 생성\n",
    "  - 모형을 토대로 새로운 레코드의 분류 값 예측\n",
    " - 분류의 활용\n",
    "  - 고객의 신용등급 분류 \n",
    "  - 기업의 도산 예측\n",
    "  - 프로모션 대상고객 선정\n",
    " - 분류 기법\n",
    "  - 의사결정나무 (Decision Tree)\n",
    "  - 인공신경망 (Neural Network)\n",
    "  - SVM(Support Vector Machine)"
   ]
  },
  {
   "cell_type": "markdown",
   "metadata": {},
   "source": [
    "![Classification](7.PNG)"
   ]
  },
  {
   "cell_type": "markdown",
   "metadata": {},
   "source": [
    "## 4. 군집화(Clustering)\n",
    " - 정의\n",
    "  - 레코드들을 유사한 특성을 지닌 몇 개의 소그룹으로 분할하는 작업\n",
    " - 군집화의 활용\n",
    "  - 다른 데이터 마이닝 기법의 선행 작업으로써 많이 이용\n",
    " - 분류 vs 군집화 \n",
    "  - 분류 값의 유무\n",
    " - 군집화 기법\n",
    "  - 계층적 군집분석 \n",
    "  - 비계층적 군집분석: K-means, EM Algorithm, SOM(Self-Organizing Map)"
   ]
  },
  {
   "cell_type": "markdown",
   "metadata": {},
   "source": [
    "![Classification](8.PNG)"
   ]
  },
  {
   "cell_type": "markdown",
   "metadata": {},
   "source": [
    "## 데이터 분할(Data Partitioning)"
   ]
  },
  {
   "cell_type": "markdown",
   "metadata": {},
   "source": [
    "![Partitioning](10.PNG)"
   ]
  },
  {
   "cell_type": "markdown",
   "metadata": {},
   "source": [
    "### 5 Folder Cross Validation\n",
    "\n",
    "| 1 | 2 | 3 | 4 | 5 |\n",
    "| :---: | :---: | :---: | :---: | :---: |\n",
    "| A | B | C | D | E |\n",
    "\n",
    "                                - ABCD : 학습 , E : 검증\n",
    "                                - BCDE : 학습 , A : 검증 \n",
    "                                  와 같은 방법으로 5가지의 경우의 수를 모두 입력 "
   ]
  },
  {
   "cell_type": "markdown",
   "metadata": {},
   "source": [
    "# Data Mining Demo "
   ]
  },
  {
   "cell_type": "markdown",
   "metadata": {},
   "source": [
    "## 1. Business Understanding\n",
    " > 한 은행이 새로운 개인연금상품(PEP)을 신설하여 기존 고객들을 대상으로 가능한 많은 계좌를 유치하고자 한다.\n",
    " \n",
    " > 고객의금융상품(PEP: Personal Equity Plan, 연금보험) 구매여부 예측에 의한 신규고객 창출\n",
    "  - 고객 프로파일 개발\n",
    "  - 다이렉트 메일 광고 효율성 제고\n",
    "  - 타겟 메일링에 의한 응답률 제고 \n",
    "  \n",
    " > 분석 절차\n",
    "  - 1) 기존 고객 DB로부터 시험 메일 발송을 위한 표본 고객 목록을 추출\n",
    "  - 2) 새로운금융상품(PEP)의 제안 메일을 발송\n",
    "  - 3) 고객의 반응을 기록\n",
    "  - 4) R을 이용하여 캠페인 결과를 분석"
   ]
  },
  {
   "cell_type": "markdown",
   "metadata": {},
   "source": [
    "## 2. Data Understanding  \n",
    " > 학습용 데이터 300건 (pepTrainSet.csv)\n",
    " \n",
    " > 검증용 데이터 200건 (pepTestSet.csv)\n",
    " \n",
    " > 신규 고객 데이터 200건 (pepNewCustomers.csv)"
   ]
  },
  {
   "cell_type": "markdown",
   "metadata": {},
   "source": [
    "## 3. Data Preparation"
   ]
  },
  {
   "cell_type": "code",
   "execution_count": 1,
   "metadata": {
    "collapsed": false
   },
   "outputs": [
    {
     "name": "stdout",
     "output_type": "stream",
     "text": [
      "'data.frame':\t300 obs. of  11 variables:\n",
      " $ age        : int  48 40 51 23 57 57 22 58 37 54 ...\n",
      " $ sex        : chr  \"FEMALE\" \"MALE\" \"FEMALE\" \"FEMALE\" ...\n",
      " $ region     : chr  \"INNER_CITY\" \"TOWN\" \"INNER_CITY\" \"TOWN\" ...\n",
      " $ income     : num  17546 30085 16575 20375 50576 ...\n",
      " $ married    : chr  \"NO\" \"YES\" \"YES\" \"YES\" ...\n",
      " $ children   : int  1 3 0 3 0 2 0 0 2 2 ...\n",
      " $ car        : chr  \"NO\" \"YES\" \"YES\" \"NO\" ...\n",
      " $ save_act   : chr  \"NO\" \"NO\" \"YES\" \"NO\" ...\n",
      " $ current_act: chr  \"NO\" \"YES\" \"YES\" \"YES\" ...\n",
      " $ mortgage   : chr  \"NO\" \"YES\" \"NO\" \"NO\" ...\n",
      " $ pep        : Factor w/ 2 levels \"NO\",\"YES\": 2 1 1 1 1 2 2 1 1 1 ...\n"
     ]
    }
   ],
   "source": [
    "train <- read.csv(\"pepTrainSet.csv\", stringsAsFactors=F)\n",
    "train <- subset(train, select=-c(id))\n",
    "test <- read.csv(\"pepTestSet.csv\", stringsAsFactors=F)\n",
    "newd <- read.csv(\"pepNewCustomers.csv\", stringsAsFactors=F)\n",
    "\n",
    "train$pep <- factor(train$pep)\n",
    "test$pep <- factor(test$pep)\n",
    "\n",
    "str(train)"
   ]
  },
  {
   "cell_type": "markdown",
   "metadata": {},
   "source": [
    "## 4. Modeling(Cont.)"
   ]
  },
  {
   "cell_type": "code",
   "execution_count": 5,
   "metadata": {
    "collapsed": false
   },
   "outputs": [
    {
     "name": "stderr",
     "output_type": "stream",
     "text": [
      "Installing package into 'C:/Users/byung/Documents/R/win-library/3.3'\n",
      "(as 'lib' is unspecified)\n"
     ]
    },
    {
     "name": "stdout",
     "output_type": "stream",
     "text": [
      "package 'caret' successfully unpacked and MD5 sums checked\n",
      "\n",
      "The downloaded binary packages are in\n",
      "\tC:\\Users\\byung\\AppData\\Local\\Temp\\Rtmp2HZLjX\\downloaded_packages\n"
     ]
    },
    {
     "name": "stderr",
     "output_type": "stream",
     "text": [
      "Installing package into 'C:/Users/byung/Documents/R/win-library/3.3'\n",
      "(as 'lib' is unspecified)\n",
      "also installing the dependencies 'bitops', 'gtools', 'gdata', 'caTools', 'gplots'\n",
      "\n"
     ]
    },
    {
     "name": "stdout",
     "output_type": "stream",
     "text": [
      "package 'bitops' successfully unpacked and MD5 sums checked\n",
      "package 'gtools' successfully unpacked and MD5 sums checked\n",
      "package 'gdata' successfully unpacked and MD5 sums checked\n",
      "package 'caTools' successfully unpacked and MD5 sums checked\n",
      "package 'gplots' successfully unpacked and MD5 sums checked\n",
      "package 'ROCR' successfully unpacked and MD5 sums checked\n",
      "\n",
      "The downloaded binary packages are in\n",
      "\tC:\\Users\\byung\\AppData\\Local\\Temp\\Rtmp2HZLjX\\downloaded_packages\n"
     ]
    },
    {
     "name": "stderr",
     "output_type": "stream",
     "text": [
      "Installing package into 'C:/Users/byung/Documents/R/win-library/3.3'\n",
      "(as 'lib' is unspecified)\n",
      "also installing the dependencies 'Formula', 'partykit'\n",
      "\n"
     ]
    },
    {
     "name": "stdout",
     "output_type": "stream",
     "text": [
      "package 'Formula' successfully unpacked and MD5 sums checked\n",
      "package 'partykit' successfully unpacked and MD5 sums checked\n",
      "package 'C50' successfully unpacked and MD5 sums checked\n",
      "\n",
      "The downloaded binary packages are in\n",
      "\tC:\\Users\\byung\\AppData\\Local\\Temp\\Rtmp2HZLjX\\downloaded_packages\n"
     ]
    }
   ],
   "source": [
    "install.packages(\"caret\",repos = \"http://cran.us.r-project.org\") #데이너 전처리 / 모델\n",
    "install.packages(\"ROCR\",repos = \"http://cran.us.r-project.org\") # 모형의 그래프 생성과 평가\n",
    "install.packages(\"C50\",repos = \"http://cran.us.r-project.org\") # 분류 분석, 의사결정나무 (Decision Tree)"
   ]
  },
  {
   "cell_type": "code",
   "execution_count": 2,
   "metadata": {
    "collapsed": false
   },
   "outputs": [
    {
     "name": "stderr",
     "output_type": "stream",
     "text": [
      "Loading required package: lattice\n",
      "Loading required package: ggplot2\n",
      "Loading required package: gplots\n",
      "\n",
      "Attaching package: 'gplots'\n",
      "\n",
      "The following object is masked from 'package:stats':\n",
      "\n",
      "    lowess\n",
      "\n"
     ]
    }
   ],
   "source": [
    "library(caret)\n",
    "library(ROCR)\n",
    "library(C50)"
   ]
  },
  {
   "cell_type": "code",
   "execution_count": 8,
   "metadata": {
    "collapsed": true
   },
   "outputs": [],
   "source": [
    "?C5.0Control"
   ]
  },
  {
   "cell_type": "markdown",
   "metadata": {},
   "source": [
    "### first candidate model : Decision Tree(C5.0)"
   ]
  },
  {
   "cell_type": "code",
   "execution_count": 3,
   "metadata": {
    "collapsed": false
   },
   "outputs": [
    {
     "data": {
      "text/plain": [
       "\n",
       "Call:\n",
       "C5.0.formula(formula = pep ~ ., data = train, control = c5_options, rules\n",
       " = FALSE)\n",
       "\n",
       "\n",
       "C5.0 [Release 2.07 GPL Edition]  \tSat Sep 10 23:23:12 2016\n",
       "-------------------------------\n",
       "\n",
       "Class specified by attribute `outcome'\n",
       "\n",
       "Read 300 cases (11 attributes) from undefined.data\n",
       "\n",
       "Decision tree:\n",
       "\n",
       "children > 2:\n",
       ":...income <= 43228.2: NO (30/2)\n",
       ":   income > 43228.2: YES (5)\n",
       "children <= 2:\n",
       ":...children <= 0:\n",
       "    :...married = NO:\n",
       "    :   :...mortgage = NO: YES (29/2)\n",
       "    :   :   mortgage = YES:\n",
       "    :   :   :...save_act = NO: YES (3)\n",
       "    :   :       save_act = YES: NO (12)\n",
       "    :   married = YES:\n",
       "    :   :...mortgage = NO: NO (59/6)\n",
       "    :       mortgage = YES:\n",
       "    :       :...save_act = NO: YES (9/1)\n",
       "    :           save_act = YES: NO (16/2)\n",
       "    children > 0:\n",
       "    :...income > 29622: YES (48/2)\n",
       "        income <= 29622:\n",
       "        :...children > 1: NO (47/3)\n",
       "            children <= 1:\n",
       "            :...income <= 12640.3: NO (5)\n",
       "                income > 12640.3:\n",
       "                :...current_act = YES: YES (28/1)\n",
       "                    current_act = NO:\n",
       "                    :...income <= 17390.1: NO (3)\n",
       "                        income > 17390.1: YES (6)\n",
       "\n",
       "\n",
       "Evaluation on training data (300 cases):\n",
       "\n",
       "\t    Decision Tree   \n",
       "\t  ----------------  \n",
       "\t  Size      Errors  \n",
       "\n",
       "\t    14   19( 6.3%)   <<\n",
       "\n",
       "\n",
       "\t   (a)   (b)    <-classified as\n",
       "\t  ----  ----\n",
       "\t   159     6    (a): class NO\n",
       "\t    13   122    (b): class YES\n",
       "\n",
       "\n",
       "\tAttribute usage:\n",
       "\n",
       "\t100.00%\tchildren\n",
       "\t 57.33%\tincome\n",
       "\t 42.67%\tmarried\n",
       "\t 42.67%\tmortgage\n",
       "\t 13.33%\tsave_act\n",
       "\t 12.33%\tcurrent_act\n",
       "\n",
       "\n",
       "Time: 0.0 secs\n"
      ]
     },
     "metadata": {},
     "output_type": "display_data"
    }
   ],
   "source": [
    "c5_options <- C5.0Control(winnow = FALSE, noGlobalPruning = FALSE)\n",
    "c5_model <- C5.0(pep ~ ., data=train, control=c5_options, rules=FALSE)\n",
    "summary(c5_model)"
   ]
  },
  {
   "cell_type": "code",
   "execution_count": 5,
   "metadata": {
    "collapsed": false
   },
   "outputs": [],
   "source": [
    "## plot(c5_model, cex=1.0)\n",
    "# 결과가 그림으로 찌그러져 나온다."
   ]
  },
  {
   "cell_type": "markdown",
   "metadata": {},
   "source": [
    "![plot](9.PNG)"
   ]
  },
  {
   "cell_type": "code",
   "execution_count": 7,
   "metadata": {
    "collapsed": false,
    "scrolled": true
   },
   "outputs": [
    {
     "name": "stderr",
     "output_type": "stream",
     "text": [
      "Warning message:\n",
      "In partysplit(varid = as.integer(i), breaks = as.numeric(j[1]), : 강제형변환에 의해 생성된 NA 입니다Warning message:\n",
      "In partysplit(varid = as.integer(i), breaks = as.numeric(j[1]), : 강제형변환에 의해 생성된 NA 입니다Warning message:\n",
      "In partysplit(varid = as.integer(i), breaks = as.numeric(j[1]), : 강제형변환에 의해 생성된 NA 입니다Warning message:\n",
      "In partysplit(varid = as.integer(i), breaks = as.numeric(j[1]), : 강제형변환에 의해 생성된 NA 입니다Warning message:\n",
      "In partysplit(varid = as.integer(i), breaks = as.numeric(j[1]), : 강제형변환에 의해 생성된 NA 입니다Warning message:\n",
      "In partysplit(varid = as.integer(i), breaks = as.numeric(j[1]), : 강제형변환에 의해 생성된 NA 입니다Warning message:\n",
      "In cut.default(as.numeric(x), breaks = c(-Inf, breaks_split(split), : 강제형변환에 의해 생성된 NA 입니다Warning message:\n",
      "In cut.default(as.numeric(x), breaks = c(-Inf, breaks_split(split), : 강제형변환에 의해 생성된 NA 입니다Warning message:\n",
      "In cut.default(as.numeric(x), breaks = c(-Inf, breaks_split(split), : 강제형변환에 의해 생성된 NA 입니다Warning message:\n",
      "In cut.default(as.numeric(x), breaks = c(-Inf, breaks_split(split), : 강제형변환에 의해 생성된 NA 입니다Warning message:\n",
      "In cut.default(as.numeric(x), breaks = c(-Inf, breaks_split(split), : 강제형변환에 의해 생성된 NA 입니다Warning message:\n",
      "In cut.default(as.numeric(x), breaks = c(-Inf, breaks_split(split), : 강제형변환에 의해 생성된 NA 입니다"
     ]
    },
    {
     "data": {
      "image/png": "[encoded data removed]",
      "text/plain": [
       "plot without title"
      ]
     },
     "metadata": {},
     "output_type": "display_data"
    }
   ],
   "source": [
    "plot(c5_model, cex=1.0)"
   ]
  },
  {
   "cell_type": "markdown",
   "metadata": {},
   "source": [
    "### Second candidate model : Logistic Regression"
   ]
  },
  {
   "cell_type": "code",
   "execution_count": 10,
   "metadata": {
    "collapsed": false
   },
   "outputs": [
    {
     "data": {
      "text/plain": [
       "\n",
       "Call:\n",
       "glm(formula = pep ~ ., family = binomial, data = train)\n",
       "\n",
       "Deviance Residuals: \n",
       "    Min       1Q   Median       3Q      Max  \n",
       "-2.1618  -0.9717  -0.6610   1.0941   2.0354  \n",
       "\n",
       "Coefficients:\n",
       "                 Estimate Std. Error z value Pr(>|z|)   \n",
       "(Intercept)    -1.568e+00  5.666e-01  -2.767  0.00565 **\n",
       "age             1.593e-02  1.299e-02   1.227  0.21998   \n",
       "sexMALE         6.887e-01  2.583e-01   2.666  0.00768 **\n",
       "regionRURAL     2.696e-01  3.702e-01   0.728  0.46641   \n",
       "regionSUBURBAN -4.920e-02  4.905e-01  -0.100  0.92011   \n",
       "regionTOWN     -1.790e-01  2.960e-01  -0.605  0.54541   \n",
       "income          3.863e-05  1.518e-05   2.545  0.01093 * \n",
       "marriedYES     -6.382e-01  2.679e-01  -2.382  0.01720 * \n",
       "children       -1.800e-01  1.195e-01  -1.506  0.13200   \n",
       "carYES         -2.357e-01  2.535e-01  -0.930  0.35241   \n",
       "save_actYES    -3.225e-01  2.786e-01  -1.158  0.24696   \n",
       "current_actYES  3.680e-01  3.159e-01   1.165  0.24401   \n",
       "mortgageYES    -1.942e-01  2.696e-01  -0.720  0.47128   \n",
       "---\n",
       "Signif. codes:  0 '***' 0.001 '**' 0.01 '*' 0.05 '.' 0.1 ' ' 1\n",
       "\n",
       "(Dispersion parameter for binomial family taken to be 1)\n",
       "\n",
       "    Null deviance: 412.88  on 299  degrees of freedom\n",
       "Residual deviance: 370.64  on 287  degrees of freedom\n",
       "AIC: 396.64\n",
       "\n",
       "Number of Fisher Scoring iterations: 4\n"
      ]
     },
     "metadata": {},
     "output_type": "display_data"
    }
   ],
   "source": [
    "lm_model <- glm(pep~.,data=train,family=binomial)\n",
    "summary(lm_model)"
   ]
  },
  {
   "cell_type": "markdown",
   "metadata": {},
   "source": [
    "### Model evaluation by Confusion Matrix"
   ]
  },
  {
   "cell_type": "code",
   "execution_count": 11,
   "metadata": {
    "collapsed": false
   },
   "outputs": [
    {
     "name": "stderr",
     "output_type": "stream",
     "text": [
      "Installing package into 'C:/Users/byung/Documents/R/win-library/3.3'\n",
      "(as 'lib' is unspecified)\n"
     ]
    },
    {
     "name": "stdout",
     "output_type": "stream",
     "text": [
      "package 'e1071' successfully unpacked and MD5 sums checked\n",
      "\n",
      "The downloaded binary packages are in\n",
      "\tC:\\Users\\byung\\AppData\\Local\\Temp\\RtmpcFu14J\\downloaded_packages\n"
     ]
    }
   ],
   "source": [
    "install.packages(\"e1071\",repos = \"http://cran.us.r-project.org\")"
   ]
  },
  {
   "cell_type": "code",
   "execution_count": 12,
   "metadata": {
    "collapsed": true
   },
   "outputs": [],
   "source": [
    "library(e1071)"
   ]
  },
  {
   "cell_type": "code",
   "execution_count": 14,
   "metadata": {
    "collapsed": false
   },
   "outputs": [
    {
     "data": {
      "text/html": [
       "<table>\n",
       "<thead><tr><th></th><th scope=col>id</th><th scope=col>age</th><th scope=col>sex</th><th scope=col>region</th><th scope=col>income</th><th scope=col>married</th><th scope=col>children</th><th scope=col>car</th><th scope=col>save_act</th><th scope=col>current_act</th><th scope=col>mortgage</th><th scope=col>pep</th><th scope=col>c5_pred</th><th scope=col>c5_pred_prob</th></tr></thead>\n",
       "<tbody>\n",
       "\t<tr><th scope=row>1</th><td>ID12401           </td><td>19                </td><td>FEMALE            </td><td>INNER_CITY        </td><td>8162.42           </td><td>YES               </td><td>1                 </td><td>YES               </td><td>YES               </td><td>YES               </td><td>YES               </td><td>NO                </td><td>NO                </td><td>0.925000001986822 </td><td>0.0749999980131785</td></tr>\n",
       "\t<tr><th scope=row>2</th><td>ID12402          </td><td>37               </td><td>FEMALE           </td><td>TOWN             </td><td>15349.6          </td><td>YES              </td><td>0                </td><td>NO               </td><td>YES              </td><td>NO               </td><td>NO               </td><td>NO               </td><td>NO               </td><td>0.892500000525266</td><td>0.107499999474734</td></tr>\n",
       "\t<tr><th scope=row>3</th><td>ID12403          </td><td>45               </td><td>FEMALE           </td><td>TOWN             </td><td>29231.4          </td><td>YES              </td><td>0                </td><td>NO               </td><td>YES              </td><td>NO               </td><td>NO               </td><td>NO               </td><td>NO               </td><td>0.892500000525266</td><td>0.107499999474734</td></tr>\n",
       "\t<tr><th scope=row>4</th><td>ID12404           </td><td>49                </td><td>MALE              </td><td>RURAL             </td><td>41462.3           </td><td>YES               </td><td>3                 </td><td>NO                </td><td>YES               </td><td>YES               </td><td>YES               </td><td>NO                </td><td>NO                </td><td>0.920967739525093 </td><td>0.0790322604749069</td></tr>\n",
       "\t<tr><th scope=row>5</th><td>ID12405           </td><td>67                </td><td>FEMALE            </td><td>RURAL             </td><td>57398.1           </td><td>NO                </td><td>3                 </td><td>NO                </td><td>YES               </td><td>YES               </td><td>NO                </td><td>YES               </td><td>YES               </td><td>0.0916666686534882</td><td>0.908333331346512 </td></tr>\n",
       "\t<tr><th scope=row>6</th><td>ID12406          </td><td>35               </td><td>FEMALE           </td><td>RURAL            </td><td>11520.8          </td><td>YES              </td><td>0                </td><td>NO               </td><td>NO               </td><td>YES              </td><td>NO               </td><td>NO               </td><td>NO               </td><td>0.892500000525266</td><td>0.107499999474734</td></tr>\n",
       "</tbody>\n",
       "</table>\n"
      ],
      "text/latex": [
       "\\begin{tabular}{r|llllllllllllll}\n",
       "  & id & age & sex & region & income & married & children & car & save\\_act & current\\_act & mortgage & pep & c5\\_pred & c5\\_pred\\_prob\\\\\n",
       "\\hline\n",
       "\t1 & ID12401            & 19                 & FEMALE             & INNER\\_CITY       & 8162.42            & YES                & 1                  & YES                & YES                & YES                & YES                & NO                 & NO                 & 0.925000001986822  & 0.0749999980131785\\\\\n",
       "\t2 & ID12402           & 37                & FEMALE            & TOWN              & 15349.6           & YES               & 0                 & NO                & YES               & NO                & NO                & NO                & NO                & 0.892500000525266 & 0.107499999474734\\\\\n",
       "\t3 & ID12403           & 45                & FEMALE            & TOWN              & 29231.4           & YES               & 0                 & NO                & YES               & NO                & NO                & NO                & NO                & 0.892500000525266 & 0.107499999474734\\\\\n",
       "\t4 & ID12404            & 49                 & MALE               & RURAL              & 41462.3            & YES                & 3                  & NO                 & YES                & YES                & YES                & NO                 & NO                 & 0.920967739525093  & 0.0790322604749069\\\\\n",
       "\t5 & ID12405            & 67                 & FEMALE             & RURAL              & 57398.1            & NO                 & 3                  & NO                 & YES                & YES                & NO                 & YES                & YES                & 0.0916666686534882 & 0.908333331346512 \\\\\n",
       "\t6 & ID12406           & 35                & FEMALE            & RURAL             & 11520.8           & YES               & 0                 & NO                & NO                & YES               & NO                & NO                & NO                & 0.892500000525266 & 0.107499999474734\\\\\n",
       "\\end{tabular}\n"
      ],
      "text/plain": [
       "       id age    sex     region   income married children car save_act\n",
       "1 ID12401  19 FEMALE INNER_CITY  8162.42     YES        1 YES      YES\n",
       "2 ID12402  37 FEMALE       TOWN 15349.60     YES        0  NO      YES\n",
       "3 ID12403  45 FEMALE       TOWN 29231.40     YES        0  NO      YES\n",
       "4 ID12404  49   MALE      RURAL 41462.30     YES        3  NO      YES\n",
       "5 ID12405  67 FEMALE      RURAL 57398.10      NO        3  NO      YES\n",
       "6 ID12406  35 FEMALE      RURAL 11520.80     YES        0  NO       NO\n",
       "  current_act mortgage pep c5_pred c5_pred_prob.NO c5_pred_prob.YES\n",
       "1         YES      YES  NO      NO      0.92500000       0.07500000\n",
       "2          NO       NO  NO      NO      0.89250000       0.10750000\n",
       "3          NO       NO  NO      NO      0.89250000       0.10750000\n",
       "4         YES      YES  NO      NO      0.92096774       0.07903226\n",
       "5         YES       NO YES     YES      0.09166667       0.90833333\n",
       "6         YES       NO  NO      NO      0.89250000       0.10750000"
      ]
     },
     "metadata": {},
     "output_type": "display_data"
    },
    {
     "name": "stdout",
     "output_type": "stream",
     "text": [
      "'data.frame':\t300 obs. of  14 variables:\n",
      " $ id          : chr  \"ID12401\" \"ID12402\" \"ID12403\" \"ID12404\" ...\n",
      " $ age         : int  19 37 45 49 67 35 63 38 48 28 ...\n",
      " $ sex         : chr  \"FEMALE\" \"FEMALE\" \"FEMALE\" \"MALE\" ...\n",
      " $ region      : chr  \"INNER_CITY\" \"TOWN\" \"TOWN\" \"RURAL\" ...\n",
      " $ income      : num  8162 15350 29231 41462 57398 ...\n",
      " $ married     : chr  \"YES\" \"YES\" \"YES\" \"YES\" ...\n",
      " $ children    : int  1 0 0 3 3 0 2 0 2 1 ...\n",
      " $ car         : chr  \"YES\" \"NO\" \"NO\" \"NO\" ...\n",
      " $ save_act    : chr  \"YES\" \"YES\" \"YES\" \"YES\" ...\n",
      " $ current_act : chr  \"YES\" \"NO\" \"NO\" \"YES\" ...\n",
      " $ mortgage    : chr  \"YES\" \"NO\" \"NO\" \"YES\" ...\n",
      " $ pep         : Factor w/ 2 levels \"NO\",\"YES\": 1 1 1 1 2 1 2 2 1 1 ...\n",
      " $ c5_pred     : Factor w/ 2 levels \"NO\",\"YES\": 1 1 1 1 2 1 2 2 1 1 ...\n",
      " $ c5_pred_prob: num [1:300, 1:2] 0.925 0.8925 0.8925 0.921 0.0917 ...\n",
      "  ..- attr(*, \"dimnames\")=List of 2\n",
      "  .. ..$ : chr  \"1\" \"2\" \"3\" \"4\" ...\n",
      "  .. ..$ : chr  \"NO\" \"YES\"\n"
     ]
    }
   ],
   "source": [
    "test$c5_pred <- predict(c5_model, test, type=\"class\")\n",
    "test$c5_pred_prob <- predict(c5_model, test, type=\"prob\")\n",
    "head(test)\n",
    "str(test)"
   ]
  },
  {
   "cell_type": "code",
   "execution_count": 17,
   "metadata": {
    "collapsed": false
   },
   "outputs": [
    {
     "data": {
      "text/plain": [
       "Confusion Matrix and Statistics\n",
       "\n",
       "          Reference\n",
       "Prediction  NO YES\n",
       "       NO  146  18\n",
       "       YES  15 121\n",
       "                                         \n",
       "               Accuracy : 0.89           \n",
       "                 95% CI : (0.849, 0.9231)\n",
       "    No Information Rate : 0.5367         \n",
       "    P-Value [Acc > NIR] : <2e-16         \n",
       "                                         \n",
       "                  Kappa : 0.7785         \n",
       " Mcnemar's Test P-Value : 0.7277         \n",
       "                                         \n",
       "            Sensitivity : 0.9068         \n",
       "            Specificity : 0.8705         \n",
       "         Pos Pred Value : 0.8902         \n",
       "         Neg Pred Value : 0.8897         \n",
       "             Prevalence : 0.5367         \n",
       "         Detection Rate : 0.4867         \n",
       "   Detection Prevalence : 0.5467         \n",
       "      Balanced Accuracy : 0.8887         \n",
       "                                         \n",
       "       'Positive' Class : NO             \n",
       "                                         "
      ]
     },
     "metadata": {},
     "output_type": "display_data"
    }
   ],
   "source": [
    "confusionMatrix(test$c5_pred, test$pep) # .No, .Yes생성하는\n",
    "#pred.prob.No -> NO 의 확률 \n",
    "#pred.prob.Yes -> Yes의 확률 "
   ]
  },
  {
   "cell_type": "code",
   "execution_count": 19,
   "metadata": {
    "collapsed": false
   },
   "outputs": [
    {
     "data": {
      "text/plain": [
       "Confusion Matrix and Statistics\n",
       "\n",
       "          Reference\n",
       "Prediction  NO YES\n",
       "       NO  108  71\n",
       "       YES  53  68\n",
       "                                         \n",
       "               Accuracy : 0.5867         \n",
       "                 95% CI : (0.5286, 0.643)\n",
       "    No Information Rate : 0.5367         \n",
       "    P-Value [Acc > NIR] : 0.04626        \n",
       "                                         \n",
       "                  Kappa : 0.1614         \n",
       " Mcnemar's Test P-Value : 0.12685        \n",
       "                                         \n",
       "            Sensitivity : 0.6708         \n",
       "            Specificity : 0.4892         \n",
       "         Pos Pred Value : 0.6034         \n",
       "         Neg Pred Value : 0.5620         \n",
       "             Prevalence : 0.5367         \n",
       "         Detection Rate : 0.3600         \n",
       "   Detection Prevalence : 0.5967         \n",
       "      Balanced Accuracy : 0.5800         \n",
       "                                         \n",
       "       'Positive' Class : NO             \n",
       "                                         "
      ]
     },
     "metadata": {},
     "output_type": "display_data"
    }
   ],
   "source": [
    "test$lm_pred <- ifelse(predict(lm_model, test, type=\"response\") > 0.5, \"YES\", \"NO\")\n",
    "test$lm_pred_prob <- predict(lm_model, test, type=\"response\")\n",
    "confusionMatrix(test$lm_pred, test$pep)"
   ]
  },
  {
   "cell_type": "code",
   "execution_count": 22,
   "metadata": {
    "collapsed": false
   },
   "outputs": [
    {
     "data": {
      "image/png": "[encoded data removed]",
      "text/plain": [
       "plot without title"
      ]
     },
     "metadata": {},
     "output_type": "display_data"
    }
   ],
   "source": [
    "options(repr.plot.width = 5, repr.plot.height=5)\n",
    "\n",
    "c5_pred <- prediction(test$c5_pred_prob[, \"YES\"], test$pep)\n",
    "c5_model.perf <- performance(c5_pred, \"tpr\", \"fpr\")\n",
    "\n",
    "lm_pred <- prediction(test$lm_pred_prob, test$pep)\n",
    "lm_model.perf <- performance(lm_pred, \"tpr\", \"fpr\")\n",
    "\n",
    "plot(c5_model.perf, col=\"red\")\n",
    "plot(lm_model.perf, col=\"blue\", add=T)\n",
    "legend(0.7, 0.7, c(\"C5\",\"LM\"), cex=0.9, col=c(\"red\", \"blue\"), lty=1)"
   ]
  },
  {
   "cell_type": "markdown",
   "metadata": {},
   "source": [
    " - 그래프가 경사가 더 크고 급격하게 상승 후 마지막 정확도가 동일 한 경우\n",
    "  - 동일 한 정확도를 가지고 있더라도 선택하는 Subset 즉, Choosing을 하게 될 사람 수가 적게 된다면 <br> 위의 빨깐 선보다 경사가 높은 경우를 선택하는 것이 좋다. "
   ]
  },
  {
   "cell_type": "markdown",
   "metadata": {},
   "source": [
    "## Deployment"
   ]
  },
  {
   "cell_type": "code",
   "execution_count": 27,
   "metadata": {
    "collapsed": false
   },
   "outputs": [
    {
     "data": {
      "text/html": [
       "<table>\n",
       "<thead><tr><th></th><th scope=col>id</th><th scope=col>age</th><th scope=col>sex</th><th scope=col>region</th><th scope=col>income</th><th scope=col>married</th><th scope=col>children</th><th scope=col>car</th><th scope=col>save_act</th><th scope=col>current_act</th><th scope=col>mortgage</th><th scope=col>c5_pred</th><th scope=col>c5_pred_prob</th></tr></thead>\n",
       "<tbody>\n",
       "\t<tr><th scope=row>4</th><td>ID12704           </td><td>50                </td><td>MALE              </td><td>TOWN              </td><td>46794.4           </td><td>YES               </td><td>2                 </td><td>NO                </td><td>YES               </td><td>NO                </td><td>YES               </td><td>YES               </td><td>0.0520408187357896</td><td>0.94795918126421  </td></tr>\n",
       "\t<tr><th scope=row>16</th><td>ID12716           </td><td>44                </td><td>MALE              </td><td>TOWN              </td><td>34961.7           </td><td>YES               </td><td>1                 </td><td>NO                </td><td>NO                </td><td>NO                </td><td>YES               </td><td>YES               </td><td>0.0520408187357896</td><td>0.94795918126421  </td></tr>\n",
       "\t<tr><th scope=row>21</th><td>ID12721           </td><td>40                </td><td>MALE              </td><td>TOWN              </td><td>37227.8           </td><td>NO                </td><td>1                 </td><td>YES               </td><td>YES               </td><td>YES               </td><td>NO                </td><td>YES               </td><td>0.0520408187357896</td><td>0.94795918126421  </td></tr>\n",
       "\t<tr><th scope=row>23</th><td>ID12723           </td><td>54                </td><td>MALE              </td><td>RURAL             </td><td>49986.7           </td><td>YES               </td><td>1                 </td><td>YES               </td><td>YES               </td><td>YES               </td><td>NO                </td><td>YES               </td><td>0.0520408187357896</td><td>0.94795918126421  </td></tr>\n",
       "\t<tr><th scope=row>29</th><td>ID12729           </td><td>58                </td><td>MALE              </td><td>RURAL             </td><td>41114.2           </td><td>YES               </td><td>2                 </td><td>YES               </td><td>YES               </td><td>YES               </td><td>YES               </td><td>YES               </td><td>0.0520408187357896</td><td>0.94795918126421  </td></tr>\n",
       "\t<tr><th scope=row>43</th><td>ID12743           </td><td>66                </td><td>MALE              </td><td>INNER_CITY        </td><td>43720.4           </td><td>NO                </td><td>1                 </td><td>NO                </td><td>YES               </td><td>NO                </td><td>YES               </td><td>YES               </td><td>0.0520408187357896</td><td>0.94795918126421  </td></tr>\n",
       "</tbody>\n",
       "</table>\n"
      ],
      "text/latex": [
       "\\begin{tabular}{r|lllllllllllll}\n",
       "  & id & age & sex & region & income & married & children & car & save\\_act & current\\_act & mortgage & c5\\_pred & c5\\_pred\\_prob\\\\\n",
       "\\hline\n",
       "\t4 & ID12704            & 50                 & MALE               & TOWN               & 46794.4            & YES                & 2                  & NO                 & YES                & NO                 & YES                & YES                & 0.0520408187357896 & 0.94795918126421  \\\\\n",
       "\t16 & ID12716            & 44                 & MALE               & TOWN               & 34961.7            & YES                & 1                  & NO                 & NO                 & NO                 & YES                & YES                & 0.0520408187357896 & 0.94795918126421  \\\\\n",
       "\t21 & ID12721            & 40                 & MALE               & TOWN               & 37227.8            & NO                 & 1                  & YES                & YES                & YES                & NO                 & YES                & 0.0520408187357896 & 0.94795918126421  \\\\\n",
       "\t23 & ID12723            & 54                 & MALE               & RURAL              & 49986.7            & YES                & 1                  & YES                & YES                & YES                & NO                 & YES                & 0.0520408187357896 & 0.94795918126421  \\\\\n",
       "\t29 & ID12729            & 58                 & MALE               & RURAL              & 41114.2            & YES                & 2                  & YES                & YES                & YES                & YES                & YES                & 0.0520408187357896 & 0.94795918126421  \\\\\n",
       "\t43 & ID12743            & 66                 & MALE               & INNER\\_CITY       & 43720.4            & NO                 & 1                  & NO                 & YES                & NO                 & YES                & YES                & 0.0520408187357896 & 0.94795918126421  \\\\\n",
       "\\end{tabular}\n"
      ],
      "text/plain": [
       "        id age  sex     region  income married children car save_act\n",
       "4  ID12704  50 MALE       TOWN 46794.4     YES        2  NO      YES\n",
       "16 ID12716  44 MALE       TOWN 34961.7     YES        1  NO       NO\n",
       "21 ID12721  40 MALE       TOWN 37227.8      NO        1 YES      YES\n",
       "23 ID12723  54 MALE      RURAL 49986.7     YES        1 YES      YES\n",
       "29 ID12729  58 MALE      RURAL 41114.2     YES        2 YES      YES\n",
       "43 ID12743  66 MALE INNER_CITY 43720.4      NO        1  NO      YES\n",
       "   current_act mortgage c5_pred c5_pred_prob.NO c5_pred_prob.YES\n",
       "4           NO      YES     YES      0.05204082       0.94795918\n",
       "16          NO      YES     YES      0.05204082       0.94795918\n",
       "21         YES       NO     YES      0.05204082       0.94795918\n",
       "23         YES       NO     YES      0.05204082       0.94795918\n",
       "29         YES      YES     YES      0.05204082       0.94795918\n",
       "43          NO      YES     YES      0.05204082       0.94795918"
      ]
     },
     "metadata": {},
     "output_type": "display_data"
    }
   ],
   "source": [
    "newd$c5_pred <- predict(c5_model, newd, type=\"class\")\n",
    "newd$c5_pred_prob <- predict(c5_model, newd, type=\"prob\")\n",
    "target <- subset(newd, c5_pred==\"YES\" & c5_pred_prob[ ,\"YES\"] > 0.8)\n",
    "head(target[order(target$c5_pred_prob[,\"YES\"], decreasing=T),])\n",
    "# write.csv(target[order(target$c5_pred_prob[,\"YES\"], decreasing=T), ], \"dm_target.csv\", row.names=FALSE)"
   ]
  }
 ],
 "metadata": {
  "anaconda-cloud": {},
  "kernelspec": {
   "display_name": "R 3.3",
   "language": "R",
   "name": "ir33"
  },
  "language_info": {
   "codemirror_mode": "r",
   "file_extension": ".r",
   "mimetype": "text/x-r-source",
   "name": "R",
   "pygments_lexer": "r",
   "version": "3.3.1"
  }
 },
 "nbformat": 4,
 "nbformat_minor": 0
}
